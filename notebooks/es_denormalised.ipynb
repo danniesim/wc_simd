{
 "cells": [
  {
   "cell_type": "code",
   "execution_count": 3,
   "id": "9956d5b4",
   "metadata": {},
   "outputs": [
    {
     "name": "stderr",
     "output_type": "stream",
     "text": [
      "Setting default log level to \"WARN\".\n",
      "To adjust logging level use sc.setLogLevel(newLevel). For SparkR, use setLogLevel(newLevel).\n",
      "25/07/09 15:51:05 WARN NativeCodeLoader: Unable to load native-hadoop library for your platform... using builtin-java classes where applicable\n"
     ]
    }
   ],
   "source": [
    "from pyspark.sql import SparkSession\n",
    "\n",
    "spark = SparkSession.builder \\\n",
    "    .appName(\"test_pyspark\") \\\n",
    "    .config(\"spark.driver.memory\", \"100g\") \\\n",
    "    .config(\"spark.executor.memory\", \"100g\") \\\n",
    "    .config(\"spark.sql.orc.enableVectorizedReader\", \"false\") \\\n",
    "    .config(\"spark.sql.parquet.columnarReaderBatchSize\", \"256\") \\\n",
    "    .config(\"spark.sql.orc.columnarReaderBatchSize\", \"256\") \\\n",
    "    .config(\"spark.sql.shuffle.partitions\", \"1024\") \\\n",
    "    .config(\"spark.driver.maxResultSize\", \"4g\") \\\n",
    "    .getOrCreate()\n",
    "\n",
    "spark.sparkContext.setLogLevel(\"ERROR\")"
   ]
  },
  {
   "cell_type": "code",
   "execution_count": 2,
   "id": "09cd23be",
   "metadata": {},
   "outputs": [
    {
     "data": {
      "text/plain": [
       "True"
      ]
     },
     "execution_count": 2,
     "metadata": {},
     "output_type": "execute_result"
    }
   ],
   "source": [
    "import dotenv\n",
    "\n",
    "dotenv.load_dotenv()"
   ]
  },
  {
   "cell_type": "markdown",
   "id": "0dbf091d",
   "metadata": {},
   "source": [
    "# Download Works Denormalised from ElasticSearch"
   ]
  },
  {
   "cell_type": "code",
   "execution_count": 30,
   "id": "da48286a",
   "metadata": {},
   "outputs": [],
   "source": [
    "import os\n",
    "from elasticsearch import Elasticsearch\n",
    "from pyspark.sql.types import StructType, StructField, StringType, IntegerType, ArrayType, BooleanType\n",
    "\n",
    "# Get Elasticsearch connection details from environment\n",
    "es_cloud_id = os.getenv('ES_CLOUD_ID_WORKS_DENORMALISED')\n",
    "es_api_key = os.getenv('ES_API_KEY_WORKS_DENORMALISED')\n",
    "# es_username = os.getenv('ES_USERNAME', 'elastic')\n",
    "# es_password = os.getenv('ES_PASSWORD')\n",
    "\n",
    "# print(f\"ES_CLOUD_ID_WORKS_DENORMALISED: {es_cloud_id}\")\n",
    "# print(f\"ES_API_KEY_WORKS_DENORMALISED: {es_api_key}\")\n",
    "# if not es_cloud_id or not es_password:\n",
    "#     raise ValueError(\"ES_CLOUD_ID_WORKS_DENORMALISED and ES_PASSWORD environment variables must be set\")\n",
    "\n",
    "# Initialize Elasticsearch client\n",
    "es = Elasticsearch(\n",
    "    cloud_id=es_cloud_id,\n",
    "    # \"https://pipeline-2025-05-01.es.eu-west-1.aws.found.io\",\n",
    "    api_key=es_api_key\n",
    ")\n",
    "\n",
    "\n",
    "# Index name\n",
    "index_name = \"works-denormalised-2025-05-01\"\n",
    "\n"
   ]
  },
  {
   "cell_type": "code",
   "execution_count": 31,
   "id": "f692f844",
   "metadata": {},
   "outputs": [
    {
     "name": "stdout",
     "output_type": "stream",
     "text": [
      "Document ID: z8v29xvn\n",
      "Document Type: Visible\n",
      "\n",
      "--- Data Field Contents ---\n",
      "Data field has 17 keys:\n",
      "  title: 'Rationales for therapy in British psychiatry, 1780-1835 / William F. Bynum, Jr.'\n",
      "  otherIdentifiers: list with 1 items\n",
      "  alternativeTitles: list with 0 items\n",
      "  format: dict with 2 keys\n",
      "  physicalDescription: 'pages 35-57'\n",
      "  subjects: list with 0 items\n",
      "  genres: list with 1 items\n",
      "  contributors: list with 1 items\n",
      "  production: list with 0 items\n",
      "  languages: list with 1 items\n",
      "  notes: list with 2 items\n",
      "  items: list with 2 items\n",
      "  holdings: list with 0 items\n",
      "  imageData: list with 0 items\n",
      "  workType: 'Standard'\n",
      "  formerFrequency: list with 0 items\n",
      "  designation: list with 0 items\n",
      "\n",
      "--- Work Details ---\n",
      "Title: Rationales for therapy in British psychiatry, 1780-1835 / William F. Bynum, Jr.\n",
      "Work Type: Standard\n",
      "\n",
      "Items: 2 items\n",
      "  First item ID: {'canonicalId': 'u8x7xjge', 'sourceIdentifier': {'identifierType': {'id': 'sierra-system-number'}, 'ontologyType': 'Item', 'value': 'i12771144'}, 'otherIdentifiers': [{'identifierType': {'id': 'sierra-identifier'}, 'ontologyType': 'Item', 'value': '1277114'}], 'type': 'Identified'}\n",
      "  First item keys: ['id', 'title', 'locations']\n",
      "\n",
      "Subjects: 0 subjects\n"
     ]
    }
   ],
   "source": [
    "# Explore the data field of the visible work document\n",
    "try:\n",
    "    response = es.search(\n",
    "        index=index_name,\n",
    "        body={\n",
    "            \"query\": {\n",
    "                \"bool\": {\n",
    "                    \"must_not\": [\n",
    "                        {\"term\": {\"type\": \"Redirected\"}},\n",
    "                        {\"term\": {\"type\": \"Deleted\"}}\n",
    "                    ]\n",
    "                }\n",
    "            },\n",
    "            \"size\": 1\n",
    "        }\n",
    "    )\n",
    "    \n",
    "    if response['hits']['hits']:\n",
    "        hit = response['hits']['hits'][0]\n",
    "        doc = hit['_source']\n",
    "        \n",
    "        print(f\"Document ID: {hit['_id']}\")\n",
    "        print(f\"Document Type: {doc.get('type', 'Unknown')}\")\n",
    "        \n",
    "        if 'data' in doc:\n",
    "            data = doc['data']\n",
    "            print(f\"\\n--- Data Field Contents ---\")\n",
    "            print(f\"Data field has {len(data)} keys:\")\n",
    "            \n",
    "            for key, value in data.items():\n",
    "                if isinstance(value, dict):\n",
    "                    print(f\"  {key}: dict with {len(value)} keys\")\n",
    "                elif isinstance(value, list):\n",
    "                    print(f\"  {key}: list with {len(value)} items\")\n",
    "                elif isinstance(value, str):\n",
    "                    # Truncate long strings\n",
    "                    display_value = value[:100] + \"...\" if len(value) > 100 else value\n",
    "                    print(f\"  {key}: '{display_value}'\")\n",
    "                else:\n",
    "                    print(f\"  {key}: {value}\")\n",
    "            \n",
    "            # Show specific work information\n",
    "            print(f\"\\n--- Work Details ---\")\n",
    "            if 'id' in data:\n",
    "                print(f\"Work ID: {data['id']}\")\n",
    "            if 'title' in data:\n",
    "                print(f\"Title: {data['title']}\")\n",
    "            if 'workType' in data:\n",
    "                print(f\"Work Type: {data['workType']}\")\n",
    "            if 'createdDate' in data:\n",
    "                print(f\"Created Date: {data['createdDate']}\")\n",
    "            if 'description' in data:\n",
    "                desc = str(data['description'])[:300] + \"...\" if len(str(data['description'])) > 300 else data['description']\n",
    "                print(f\"Description: {desc}\")\n",
    "                \n",
    "            # Check items\n",
    "            if 'items' in data:\n",
    "                print(f\"\\nItems: {len(data['items'])} items\")\n",
    "                if data['items']:\n",
    "                    first_item = data['items'][0]\n",
    "                    print(f\"  First item ID: {first_item.get('id', 'N/A')}\")\n",
    "                    print(f\"  First item keys: {list(first_item.keys())}\")\n",
    "                    \n",
    "            # Check subjects\n",
    "            if 'subjects' in data:\n",
    "                print(f\"\\nSubjects: {len(data['subjects'])} subjects\")\n",
    "                if data['subjects']:\n",
    "                    first_subject = data['subjects'][0]\n",
    "                    print(f\"  First subject: {first_subject}\")\n",
    "                    \n",
    "        else:\n",
    "            print(\"No 'data' field found in document\")\n",
    "            \n",
    "except Exception as e:\n",
    "    print(f\"Error: {e}\")"
   ]
  },
  {
   "cell_type": "code",
   "execution_count": 32,
   "id": "4ded3db7",
   "metadata": {},
   "outputs": [
    {
     "name": "stdout",
     "output_type": "stream",
     "text": [
      "Starting to export all entries from index: works-denormalised-2025-05-01\n",
      "Output directory: /home/ubuntu/wc_simd/data/tmp/es_works_denormalised_exports\n",
      "Scroll size: 100\n"
     ]
    },
    {
     "name": "stderr",
     "output_type": "stream",
     "text": [
      "/tmp/ipykernel_5387/80118970.py:22: DeprecationWarning: Received 'size' via a specific parameter in the presence of a 'body' parameter, which is deprecated and will be removed in a future version. Instead, use only 'body' or only specific parameters.\n",
      "  response = es.search(\n"
     ]
    },
    {
     "name": "stdout",
     "output_type": "stream",
     "text": [
      "Total documents to process: 1173961\n"
     ]
    },
    {
     "name": "stderr",
     "output_type": "stream",
     "text": [
      "Processing documents: 100%|██████████| 1173961/1173961 [1:00:42<00:00, 322.30docs/s, saved=1173961, skipped=0, errors=0]\n",
      "Processing documents: 100%|██████████| 1173961/1173961 [1:00:42<00:00, 322.30docs/s, saved=1173961, skipped=0, errors=0]\n"
     ]
    },
    {
     "name": "stdout",
     "output_type": "stream",
     "text": [
      "\n",
      "Export completed!\n",
      "Total processed: 1173961\n",
      "Successfully saved: 1173961\n",
      "Skipped (already exists): 0\n",
      "Errors: 0\n",
      "Files saved to: /home/ubuntu/wc_simd/data/tmp/es_works_denormalised_exports\n"
     ]
    }
   ],
   "source": [
    "import json\n",
    "import os\n",
    "from datetime import datetime\n",
    "from tqdm import tqdm\n",
    "\n",
    "# Create output directory\n",
    "output_dir = \"/home/ubuntu/wc_simd/data/tmp/es_works_denormalised_exports\"\n",
    "os.makedirs(output_dir, exist_ok=True)\n",
    "\n",
    "# Page through all entries and save to JSON files\n",
    "def save_entries_to_json():\n",
    "    scroll_size = 100  # Number of documents per batch\n",
    "    scroll_time = '10m'  # How long to keep scroll context alive\n",
    "    \n",
    "    # Initialize scroll search\n",
    "    print(f\"Starting to export all entries from index: {index_name}\")\n",
    "    print(f\"Output directory: {output_dir}\")\n",
    "    print(f\"Scroll size: {scroll_size}\")\n",
    "    \n",
    "    try:\n",
    "        # Initial search request\n",
    "        response = es.search(\n",
    "            index=index_name,\n",
    "            body={\n",
    "                \"query\": {\n",
    "                    \"bool\": {\n",
    "                        \"must_not\": [\n",
    "                            {\"term\": {\"type\": \"Redirected\"}},\n",
    "                            {\"term\": {\"type\": \"Deleted\"}}\n",
    "                        ]\n",
    "                    }\n",
    "                },\n",
    "            },\n",
    "            size=scroll_size,\n",
    "            scroll=scroll_time\n",
    "        )\n",
    "        \n",
    "        scroll_id = response['_scroll_id']\n",
    "        total_hits = response['hits']['total']['value']\n",
    "        \n",
    "        print(f\"Total documents to process: {total_hits}\")\n",
    "        \n",
    "        processed_count = 0\n",
    "        saved_count = 0\n",
    "        skipped_count = 0\n",
    "        errors_count = 0\n",
    "        \n",
    "        # Create progress bar\n",
    "        pbar = tqdm(total=total_hits, desc=\"Processing documents\", unit=\"docs\")\n",
    "        \n",
    "        # Process first batch\n",
    "        while True:\n",
    "            hits = response['hits']['hits']\n",
    "            \n",
    "            if not hits:\n",
    "                break\n",
    "                \n",
    "            for hit in hits:\n",
    "                try:\n",
    "                    doc = hit['_source']\n",
    "                    doc_id = hit['_id']\n",
    "                    \n",
    "                    # Try to get canonicalId from different possible locations\n",
    "                    canonical_id = None\n",
    "                    \n",
    "                    # Check if it's a visible work with data field\n",
    "                    if 'data' in doc and 'id' in doc['data']:\n",
    "                        canonical_id = doc['data']['id']\n",
    "                    # Check if it's a redirected work\n",
    "                    elif 'redirectTarget' in doc and 'id' in doc['redirectTarget']:\n",
    "                        canonical_id = doc['redirectTarget']['id']\n",
    "                    # Check if there's a direct id field\n",
    "                    elif 'id' in doc:\n",
    "                        canonical_id = doc['id']\n",
    "                    # Use the Elasticsearch document ID as fallback\n",
    "                    else:\n",
    "                        canonical_id = doc_id\n",
    "                        \n",
    "                    # Clean the canonical_id to be filesystem-safe\n",
    "                    safe_id = canonical_id.replace('/', '_').replace('\\\\', '_').replace(':', '_')\n",
    "                    \n",
    "                    # Create filename\n",
    "                    filename = f\"{safe_id}.json\"\n",
    "                    filepath = os.path.join(output_dir, filename)\n",
    "                    \n",
    "                    # Skip if file already exists\n",
    "                    if os.path.exists(filepath):\n",
    "                        skipped_count += 1\n",
    "                        processed_count += 1\n",
    "                        pbar.update(1)\n",
    "                        pbar.set_postfix({\n",
    "                            'saved': saved_count,\n",
    "                            'skipped': skipped_count,\n",
    "                            'errors': errors_count\n",
    "                        })\n",
    "                        continue\n",
    "                    \n",
    "                    # Add metadata to the document\n",
    "                    doc_with_metadata = {\n",
    "                        'elasticsearch_id': doc_id,\n",
    "                        'canonical_id': canonical_id,\n",
    "                        'exported_at': datetime.now().isoformat(),\n",
    "                        'document': doc\n",
    "                    }\n",
    "                    \n",
    "                    # Save to JSON file\n",
    "                    with open(filepath, 'w', encoding='utf-8') as f:\n",
    "                        json.dump(doc_with_metadata, f, indent=2, ensure_ascii=False)\n",
    "                    \n",
    "                    saved_count += 1\n",
    "                    processed_count += 1\n",
    "                    \n",
    "                    # Update progress bar\n",
    "                    pbar.update(1)\n",
    "                    pbar.set_postfix({\n",
    "                        'saved': saved_count,\n",
    "                        'skipped': skipped_count,\n",
    "                        'errors': errors_count\n",
    "                    })\n",
    "                        \n",
    "                except Exception as e:\n",
    "                    pbar.write(f\"Error processing document {doc_id}: {e}\")\n",
    "                    errors_count += 1\n",
    "                    processed_count += 1\n",
    "                    pbar.update(1)\n",
    "                    pbar.set_postfix({\n",
    "                        'saved': saved_count,\n",
    "                        'skipped': skipped_count,\n",
    "                        'errors': errors_count\n",
    "                    })\n",
    "                    \n",
    "            # Get next batch\n",
    "            try:\n",
    "                response = es.scroll(scroll_id=scroll_id, scroll=scroll_time)\n",
    "            except Exception as e:\n",
    "                pbar.write(f\"Error getting next batch: {e}\")\n",
    "                break\n",
    "                \n",
    "        # Close progress bar\n",
    "        pbar.close()\n",
    "        \n",
    "        # Clean up scroll context\n",
    "        try:\n",
    "            es.clear_scroll(scroll_id=scroll_id)\n",
    "        except Exception as e:\n",
    "            print(f\"Error clearing scroll: {e}\")\n",
    "            \n",
    "        print(f\"\\nExport completed!\")\n",
    "        print(f\"Total processed: {processed_count}\")\n",
    "        print(f\"Successfully saved: {saved_count}\")\n",
    "        print(f\"Skipped (already exists): {skipped_count}\")\n",
    "        print(f\"Errors: {errors_count}\")\n",
    "        print(f\"Files saved to: {output_dir}\")\n",
    "        \n",
    "    except Exception as e:\n",
    "        print(f\"Error during export: {e}\")\n",
    "        \n",
    "# Run the export\n",
    "save_entries_to_json()"
   ]
  },
  {
   "cell_type": "code",
   "execution_count": 4,
   "id": "0224c523",
   "metadata": {},
   "outputs": [],
   "source": [
    "import glob\n",
    "import random\n",
    "from wc_simd.utility import spark_path\n",
    "# 1) find all paths, sample N of them\n",
    "all_paths = glob.glob(\n",
    "    \"/home/ubuntu/wc_simd/data/tmp/es_works_denormalised_exports/*.json\")\n",
    "sample_paths = [spark_path(path) for path in random.sample(all_paths, 100000)]"
   ]
  },
  {
   "cell_type": "code",
   "execution_count": 8,
   "id": "caf393bf",
   "metadata": {},
   "outputs": [],
   "source": [
    "all_paths = [spark_path(path) for path in all_paths]"
   ]
  },
  {
   "cell_type": "code",
   "execution_count": 13,
   "id": "48882013",
   "metadata": {},
   "outputs": [
    {
     "data": {
      "text/plain": [
       "1173961"
      ]
     },
     "execution_count": 13,
     "metadata": {},
     "output_type": "execute_result"
    }
   ],
   "source": [
    "len(all_paths)"
   ]
  },
  {
   "cell_type": "markdown",
   "id": "7d2d1760",
   "metadata": {},
   "source": [
    "# Sample downloaded JSON"
   ]
  },
  {
   "cell_type": "code",
   "execution_count": null,
   "id": "317ac77a",
   "metadata": {},
   "outputs": [],
   "source": [
    "import glob\n",
    "import random\n",
    "\n",
    "all_paths = glob.glob(\n",
    "    \"/home/ubuntu/wc_simd/data/tmp/es_works_denormalised_exports/*.json\")"
   ]
  },
  {
   "cell_type": "code",
   "execution_count": null,
   "id": "78024440",
   "metadata": {},
   "outputs": [
    {
     "name": "stdout",
     "output_type": "stream",
     "text": [
      "Randomly selected path: /home/ubuntu/wc_simd/data/tmp/es_works_denormalised_exports/u8cxwakb.json\n",
      "{\n",
      "  \"elasticsearch_id\": \"u8cxwakb\",\n",
      "  \"canonical_id\": \"u8cxwakb\",\n",
      "  \"exported_at\": \"2025-07-07T15:56:37.557130\",\n",
      "  \"document\": {\n",
      "    \"version\": 20250611,\n",
      "    \"data\": {\n",
      "      \"title\": \"A defence of the establish'd church and laws, in answer to a book entitul'd, A vindication of marriage, as solemniz'd by Presbyterians in the north of Ireland\",\n",
      "      \"otherIdentifiers\": [],\n",
      "      \"alternativeTitles\": [\n",
      "        \"Defence of the establish'd church and laws, in answer to a book entitul'd, A vindication of marriage, as solemniz'd by Presbyterians in the north of Ireland (Online)\"\n",
      "      ],\n",
      "      \"format\": {\n",
      "        \"id\": \"v\",\n",
      "        \"label\": \"E-books\"\n",
      "      },\n",
      "      \"subjects\": [],\n",
      "      \"genres\": [],\n",
      "      \"contributors\": [\n",
      "        {\n",
      "          \"id\": {\n",
      "            \"type\": \"Unidentifiable\"\n",
      "          },\n",
      "          \"agent\": {\n",
      "            \"id\": {\n",
      "              \"canonicalId\": \"us4wda2s\",\n",
      "              \"sourceIdentifier\": {\n",
      "                \"identifierType\": {\n",
      "                  \"id\": \"label-derived\"\n",
      "                },\n",
      "                \"ontologyType\": \"Person\",\n",
      "                \"value\": \"synge, edward\"\n",
      "              },\n",
      "              \"otherIdentifiers\": [],\n",
      "              \"type\": \"Identified\"\n",
      "            },\n",
      "            \"label\": \"Synge, Edward\",\n",
      "            \"type\": \"Person\"\n",
      "          },\n",
      "          \"roles\": [],\n",
      "          \"primary\": true\n",
      "        }\n",
      "      ],\n",
      "      \"production\": [\n",
      "        {\n",
      "          \"label\": \"[1705]\",\n",
      "          \"places\": [],\n",
      "          \"agents\": [],\n",
      "          \"dates\": [\n",
      "            {\n",
      "              \"id\": {\n",
      "                \"type\": \"Unidentifiable\"\n",
      "              },\n",
      "              \"label\": \"[1705]\",\n",
      "              \"range\": {\n",
      "                \"from\": \"1705-01-01T00:00:00Z\",\n",
      "                \"to\": \"1705-12-31T23:59:59.999999999Z\",\n",
      "                \"label\": \"[1705]\"\n",
      "              }\n",
      "            }\n",
      "          ]\n",
      "        }\n",
      "      ],\n",
      "      \"languages\": [],\n",
      "      \"notes\": [],\n",
      "      \"items\": [],\n",
      "      \"holdings\": [\n",
      "        {\n",
      "          \"enumeration\": [\n",
      "            \"Full text available: 1705.\"\n",
      "          ],\n",
      "          \"location\": {\n",
      "            \"url\": \"https://resolver.ebscohost.com/Redirect/PRL?EPPackageLocationID=4205.13478559.0&epcustomerid=s7451719\",\n",
      "            \"locationType\": {\n",
      "              \"id\": \"online-resource\"\n",
      "            },\n",
      "            \"linkText\": \"Available in Eighteenth Century Collections Online.\",\n",
      "            \"accessConditions\": [\n",
      "              {\n",
      "                \"method\": {\n",
      "                  \"type\": \"ViewOnline\"\n",
      "                },\n",
      "                \"status\": {\n",
      "                  \"relationship\": {\n",
      "                    \"type\": \"Resource\"\n",
      "                  },\n",
      "                  \"type\": \"LicensedResources\"\n",
      "                }\n",
      "              }\n",
      "            ],\n",
      "            \"type\": \"DigitalLocation\"\n",
      "          }\n",
      "        }\n",
      "      ],\n",
      "      \"imageData\": [],\n",
      "      \"workType\": \"Standard\",\n",
      "      \"formerFrequency\": [],\n",
      "      \"designation\": []\n",
      "    },\n",
      "    \"state\": {\n",
      "      \"sourceIdentifier\": {\n",
      "        \"identifierType\": {\n",
      "          \"id\": \"ebsco-alt-lookup\"\n",
      "        },\n",
      "        \"ontologyType\": \"Work\",\n",
      "        \"value\": \"ebs13478559e\"\n",
      "      },\n",
      "      \"canonicalId\": \"u8cxwakb\",\n",
      "      \"mergedTime\": \"2025-06-12T15:01:02.191671Z\",\n",
      "      \"sourceModifiedTime\": \"2025-06-12T12:35:46.528768Z\",\n",
      "      \"availabilities\": [\n",
      "        {\n",
      "          \"id\": \"online\"\n",
      "        }\n",
      "      ],\n",
      "      \"relations\": {\n",
      "        \"ancestors\": [\n",
      "          {\n",
      "            \"title\": \"Eighteenth Century Collections Online\",\n",
      "            \"workType\": \"Series\",\n",
      "            \"depth\": 0,\n",
      "            \"numChildren\": 0,\n",
      "            \"numDescendents\": 0\n",
      "          }\n",
      "        ],\n",
      "        \"children\": [],\n",
      "        \"siblingsPreceding\": [],\n",
      "        \"siblingsSucceeding\": []\n",
      "      },\n",
      "      \"mergeCandidates\": []\n",
      "    },\n",
      "    \"redirectSources\": [],\n",
      "    \"type\": \"Visible\"\n",
      "  }\n",
      "}\n"
     ]
    }
   ],
   "source": [
    "# random select a path and print it\n",
    "random_path = random.choice(all_paths)\n",
    "print(f\"Randomly selected path: {random_path}\")\n",
    "# print json\n",
    "with open(random_path, 'r', encoding='utf-8') as f:\n",
    "    json_data = json.load(f)\n",
    "    print(json.dumps(json_data, indent=2, ensure_ascii=False))\n",
    "    "
   ]
  },
  {
   "cell_type": "markdown",
   "id": "ebda02fd",
   "metadata": {},
   "source": [
    "# Create Works Denormalised Spark Table"
   ]
  },
  {
   "cell_type": "code",
   "execution_count": null,
   "id": "47875c5a",
   "metadata": {},
   "outputs": [
    {
     "name": "stdout",
     "output_type": "stream",
     "text": [
      "Combining 1173961 JSON files into ../data/es_works_denormalised.json\n"
     ]
    },
    {
     "name": "stderr",
     "output_type": "stream",
     "text": [
      "Combining files: 100%|██████████| 1173961/1173961 [34:48<00:00, 562.09file/s] \n"
     ]
    },
    {
     "name": "stdout",
     "output_type": "stream",
     "text": [
      "Combined JSON file saved to ../data/es_works_denormalised.json\n"
     ]
    }
   ],
   "source": [
    "import json\n",
    "import glob\n",
    "import os\n",
    "from tqdm import tqdm\n",
    "\n",
    "input_dir = \"../data/tmp/es_works_denormalised_exports\"\n",
    "pattern = os.path.join(input_dir, \"*.json\")\n",
    "out_path = os.path.join(\"../data/tmp\", \"es_works_denormalised.json\")\n",
    "\n",
    "# First count the total number of files to process\n",
    "total_files = len(list(glob.iglob(pattern)))\n",
    "print(f\"Combining {total_files} JSON files into {out_path}\")\n",
    "\n",
    "with open(out_path, \"w\") as fout:\n",
    "    fout.write(\"[\")\n",
    "    first = True\n",
    "    # count = 0\n",
    "    # Use tqdm to display progress\n",
    "    for path in tqdm(glob.iglob(pattern), total=total_files, desc=\"Combining files\", unit=\"file\"):\n",
    "        try:\n",
    "            with open(path, \"r\") as fin:\n",
    "                data = json.load(fin)\n",
    "        except Exception as e:\n",
    "            # Log error and skip malformed files\n",
    "            print(f\"Error reading {path}: {e}\")\n",
    "            continue\n",
    "\n",
    "        if not first:\n",
    "            fout.write(\",\\n\")\n",
    "        else:\n",
    "            first = False\n",
    "\n",
    "        json.dump(data, fout)\n",
    "        # count += 1\n",
    "        # if count > 1000:\n",
    "        #     break\n",
    "\n",
    "    fout.write(\"]\")\n",
    "\n",
    "print(f\"Combined JSON file saved to {out_path}\")"
   ]
  },
  {
   "cell_type": "code",
   "execution_count": 25,
   "id": "3a9663e0",
   "metadata": {},
   "outputs": [
    {
     "name": "stderr",
     "output_type": "stream",
     "text": [
      "                                                                                \r"
     ]
    },
    {
     "data": {
      "text/plain": [
       "DataFrame[canonical_id: string, document: struct<data:struct<alternativeTitles:array<string>,collectionPath:struct<label:string,path:string>,contributors:array<struct<agent:struct<id:struct<canonicalId:string,otherIdentifiers:array<string>,sourceIdentifier:struct<identifierType:struct<id:string>,ontologyType:string,value:string>,type:string>,label:string,type:string>,id:struct<type:string>,primary:boolean,roles:array<struct<label:string>>>>,createdDate:struct<id:struct<type:string>,label:string,range:struct<from:string,label:string,to:string>>,currentFrequency:string,description:string,designation:array<string>,duration:bigint,edition:string,format:struct<id:string,label:string>,formerFrequency:array<string>,genres:array<struct<concepts:array<struct<id:struct<canonicalId:string,otherIdentifiers:array<string>,sourceIdentifier:struct<identifierType:struct<id:string>,ontologyType:string,value:string>,type:string>,label:string,range:struct<from:string,label:string,to:string>,type:string>>,label:string>>,holdings:array<struct<enumeration:array<string>,location:struct<accessConditions:array<struct<method:struct<type:string>,status:struct<relationship:struct<type:string>,type:string>>>,label:string,linkText:string,locationType:struct<id:string>,shelfmark:string,type:string,url:string>,note:string>>,imageData:array<struct<id:struct<canonicalId:string,otherIdentifiers:array<string>,sourceIdentifier:struct<identifierType:struct<id:string>,ontologyType:string,value:string>>,locations:array<struct<accessConditions:array<struct<method:struct<type:string>,status:struct<type:string>,terms:string>>,credit:string,license:struct<id:string>,locationType:struct<id:string>,url:string>>,version:bigint>>,items:array<struct<id:struct<canonicalId:string,otherIdentifiers:array<struct<identifierType:struct<id:string>,ontologyType:string,value:string>>,sourceIdentifier:struct<identifierType:struct<id:string>,ontologyType:string,value:string>,type:string>,locations:array<struct<accessConditions:array<struct<method:struct<type:string>,note:string,status:struct<relationship:struct<type:string>,type:string>,terms:string>>,credit:string,label:string,license:struct<id:string>,linkText:string,locationType:struct<id:string>,shelfmark:string,type:string,url:string>>,note:string,title:string>>,languages:array<struct<id:string,label:string>>,lettering:string,notes:array<struct<contents:string,noteType:struct<id:string,label:string>>>,otherIdentifiers:array<struct<identifierType:struct<id:string>,ontologyType:string,value:string>>,physicalDescription:string,production:array<struct<agents:array<struct<id:struct<type:string>,label:string,type:string>>,dates:array<struct<id:struct<type:string>,label:string,range:struct<from:string,label:string,to:string>>>,function:struct<id:struct<type:string>,label:string>,label:string,places:array<struct<id:struct<type:string>,label:string>>>>,referenceNumber:string,subjects:array<struct<concepts:array<struct<id:struct<canonicalId:string,otherIdentifiers:array<string>,sourceIdentifier:struct<identifierType:struct<id:string>,ontologyType:string,value:string>,type:string>,label:string,range:struct<from:string,label:string,to:string>,type:string>>,id:struct<canonicalId:string,otherIdentifiers:array<string>,sourceIdentifier:struct<identifierType:struct<id:string>,ontologyType:string,value:string>,type:string>,label:string>>,thumbnail:struct<accessConditions:array<string>,license:struct<id:string>,locationType:struct<id:string>,url:string>,title:string,workType:string>,invisibilityReasons:array<struct<info:string,message:string,type:string>>,redirectSources:array<struct<canonicalId:string,otherIdentifiers:array<string>,sourceIdentifier:struct<identifierType:struct<id:string>,ontologyType:string,value:string>>>,state:struct<availabilities:array<struct<id:string>>,canonicalId:string,mergeCandidates:array<struct<id:struct<canonicalId:string,otherIdentifiers:array<string>,sourceIdentifier:struct<identifierType:struct<id:string>,ontologyType:string,value:string>>,reason:string>>,mergedTime:string,relations:struct<ancestors:array<struct<collectionPath:struct<label:string,path:string>,depth:bigint,id:string,numChildren:bigint,numDescendents:bigint,title:string,workType:string>>,children:array<struct<collectionPath:struct<label:string,path:string>,depth:bigint,id:string,numChildren:bigint,numDescendents:bigint,title:string,workType:string>>,siblingsPreceding:array<struct<collectionPath:struct<label:string,path:string>,depth:bigint,id:string,numChildren:bigint,numDescendents:bigint,title:string,workType:string>>,siblingsSucceeding:array<struct<collectionPath:struct<label:string,path:string>,depth:bigint,id:string,numChildren:bigint,numDescendents:bigint,title:string,workType:string>>>,sourceIdentifier:struct<identifierType:struct<id:string>,ontologyType:string,value:string>,sourceModifiedTime:string>,type:string,version:bigint>, elasticsearch_id: string, exported_at: string]"
      ]
     },
     "execution_count": 25,
     "metadata": {},
     "output_type": "execute_result"
    }
   ],
   "source": [
    "# Create Spark DataFrame from all JSON files with auto schema inference\n",
    "from pyspark.sql import functions as F\n",
    "from wc_simd.utility import spark_path\n",
    "\n",
    "# Read all JSON files and let Spark infer the schema across all files\n",
    "# This will examine all files to build a comprehensive schema\n",
    "df = spark.read \\\n",
    "    .option(\"multiline\", \"true\") \\\n",
    "    .option(\"inferSchema\", \"true\") \\\n",
    "    .json(spark_path(\"../data/es_works_denormalised.json\"))\n",
    "\n",
    "\n",
    "df"
   ]
  },
  {
   "cell_type": "code",
   "execution_count": 26,
   "id": "8f6d774f",
   "metadata": {},
   "outputs": [
    {
     "name": "stderr",
     "output_type": "stream",
     "text": [
      "                                                                                \r"
     ]
    }
   ],
   "source": [
    "df.write.saveAsTable(\"es_works_denormalised\", mode=\"overwrite\")\n",
    "    "
   ]
  },
  {
   "cell_type": "code",
   "execution_count": 27,
   "id": "55ddb179",
   "metadata": {},
   "outputs": [
    {
     "data": {
      "text/plain": [
       "1173961"
      ]
     },
     "execution_count": 27,
     "metadata": {},
     "output_type": "execute_result"
    }
   ],
   "source": [
    "spark.table(\"es_works_denormalised\").count()"
   ]
  },
  {
   "cell_type": "code",
   "execution_count": 28,
   "id": "f54c058c",
   "metadata": {},
   "outputs": [
    {
     "name": "stdout",
     "output_type": "stream",
     "text": [
      "+------------+--------------------+----------------+--------------------+\n",
      "|canonical_id|            document|elasticsearch_id|         exported_at|\n",
      "+------------+--------------------+----------------+--------------------+\n",
      "|    tb392c95|{{[], {WT/A/4/4/2...|        tb392c95|2025-07-07T16:07:...|\n",
      "|    vcscpyzp|{{[Drug discovery...|        vcscpyzp|2025-07-07T15:46:...|\n",
      "|    udtgc4ru|{{[], NULL, [{{{e...|        udtgc4ru|2025-07-07T15:30:...|\n",
      "|    tpguvd2r|{{[], NULL, [], N...|        tpguvd2r|2025-07-07T15:30:...|\n",
      "|    yp93hb28|{{[], NULL, [{{{x...|        yp93hb28|2025-07-07T15:35:...|\n",
      "+------------+--------------------+----------------+--------------------+\n",
      "only showing top 5 rows\n",
      "\n"
     ]
    }
   ],
   "source": [
    "spark.table(\"es_works_denormalised\").select(\"*\").show(5, truncate=True)"
   ]
  },
  {
   "cell_type": "code",
   "execution_count": null,
   "id": "b3e42ca0",
   "metadata": {},
   "outputs": [
    {
     "name": "stdout",
     "output_type": "stream",
     "text": [
      "+--------------------+--------------------+--------------------+-----------+------------------+--------------------+--------------------+--------+-------+--------------------+---------------+--------------------+--------------------+--------------------+--------------------+----------------+--------------------+--------------------+--------------------+--------------------+--------------------+---------------+--------------------+--------------------+--------------------+--------+\n",
      "|   alternativeTitles|      collectionPath|        contributors|createdDate|  currentFrequency|         description|         designation|duration|edition|              format|formerFrequency|              genres|            holdings|           imageData|               items|       languages|           lettering|               notes|    otherIdentifiers| physicalDescription|          production|referenceNumber|            subjects|           thumbnail|               title|workType|\n",
      "+--------------------+--------------------+--------------------+-----------+------------------+--------------------+--------------------+--------+-------+--------------------+---------------+--------------------+--------------------+--------------------+--------------------+----------------+--------------------+--------------------+--------------------+--------------------+--------------------+---------------+--------------------+--------------------+--------------------+--------+\n",
      "|                  []|{WT/A/4/4/2, WT/A...|                  []|       NULL|              NULL|Papers for discus...|                  []|    NULL|   NULL|{h, Archives and ...|             []|                  []|                  []|                  []|[{{fr53mqsq, [{{s...|              []|                NULL|[{This item is cl...|[{{calm-ref-no}, ...| 1 file (in 3 parts)|[{[], [{{Unidenti...|     WT/A/4/4/2|                  []|                NULL|Director's Fundin...|Standard|\n",
      "|[Drug discovery t...|                NULL|                  []|       NULL|Four issues a year|                NULL|[Vol. 1, issue 1 ...|    NULL|   NULL|     {j, E-journals}|             []|[{[{{b58xjqdv, []...|[{[Full text avai...|                  []|                  []|[{eng, English}]|                NULL|                  []|[{{issn}, Work, 1...|                NULL|[{[{{Unidentifiab...|           NULL|[{[{{vrzvvrt4, []...|                NULL|Drug discovery to...|Standard|\n",
      "|                  []|                NULL|[{{{egfwgb93, [],...|       NULL|              NULL|                NULL|                  []|    NULL|   NULL|          {a, Books}|             []|                  []|                  []|                  []|[{{rtjfq484, [{{s...|[{eng, English}]|                NULL|[{Includes biblio...|[{{sierra-identif...|iv, 147 pages : i...|[{[{{Unidentifiab...|           NULL|[{[{{y7vrfzjd, []...|                NULL|Directions for co...|Standard|\n",
      "|                  []|                NULL|                  []|       NULL|              NULL|<p>Founded in 182...|                  []|    NULL|   NULL|       {k, Pictures}|             []|[{[{{jfyujnfk, []...|                  []|[{{hfs3rzyb, [], ...|[{{uvr8a9rw, [{{s...|[{eng, English}]|The volumetric ti...|[{Wellcome Collec...|[{{sierra-identif...|1 photograph : ph...|[{[], [{{Unidenti...|         30343i|[{[{{sdpdsnnx, []...|{[], {inc}, {thum...|Philadelphia Coll...|Standard|\n",
      "|                  []|                NULL|[{{{x457nb94, [],...|       NULL|              NULL|                NULL|                  []|    NULL|   NULL|          {a, Books}|             []|[{[{{k3rcbzvs, []...|                  []|                  []|[{{b3rnntna, [{{s...|[{eng, English}]|                NULL|[{Includes biblio...|[{{sierra-identif...|   630 pages ; 23 cm|[{[], [{{Unidenti...|           NULL|[{[{{zd3xwfb9, []...|                NULL|The American scie...|Standard|\n",
      "+--------------------+--------------------+--------------------+-----------+------------------+--------------------+--------------------+--------+-------+--------------------+---------------+--------------------+--------------------+--------------------+--------------------+----------------+--------------------+--------------------+--------------------+--------------------+--------------------+---------------+--------------------+--------------------+--------------------+--------+\n",
      "only showing top 5 rows\n",
      "\n"
     ]
    }
   ],
   "source": [
    "# Select document fields without the top-level \"document\" field\n",
    "spark.table(\"es_works_denormalised\").select(\"document.data.*\").show(5, truncate=True)"
   ]
  },
  {
   "cell_type": "markdown",
   "id": "ca129d2a",
   "metadata": {},
   "source": [
    "## Genres"
   ]
  },
  {
   "cell_type": "code",
   "execution_count": 11,
   "id": "f46ed454",
   "metadata": {},
   "outputs": [
    {
     "name": "stdout",
     "output_type": "stream",
     "text": [
      "+--------------------+------------+-----------+----------------+----------+------------+--------------------+-------------+\n",
      "|               label|        type|canonicalId|otherIdentifiers|      type|ontologyType|               value|           id|\n",
      "+--------------------+------------+-----------+----------------+----------+------------+--------------------+-------------+\n",
      "| Electronic journals|GenreConcept|   b58xjqdv|              []|Identified|       Genre| electronic journals|label-derived|\n",
      "|          Periodical|GenreConcept|   w3mu5a5f|              []|Identified|       Genre|          periodical|label-derived|\n",
      "|            Fulltext|GenreConcept|   cdb8asy2|              []|Identified|       Genre|            fulltext|label-derived|\n",
      "|  Internet Resources|GenreConcept|   w5vnzng3|              []|Identified|       Genre|  internet resources|label-derived|\n",
      "|         Periodicals|GenreConcept|   g6tt55sn|              []|Identified|       Genre|         periodicals|label-derived|\n",
      "|Gelatin silver pr...|GenreConcept|   jfyujnfk|              []|Identified|       Genre|gelatin silver pr...|label-derived|\n",
      "|         Photographs|GenreConcept|   gcrtbhvk|              []|Identified|       Genre|         photographs|label-derived|\n",
      "|Academic disserta...|GenreConcept|   k3rcbzvs|              []|Identified|       Genre|academic disserta...|label-derived|\n",
      "|    Electronic books|GenreConcept|   kqkakf66|              []|Identified|       Genre|    electronic books|label-derived|\n",
      "|                DVDs|GenreConcept|   pjb6n3cx|              []|Identified|       Genre|                dvds|label-derived|\n",
      "|    Electronic books|GenreConcept|   kqkakf66|              []|Identified|       Genre|    electronic books|label-derived|\n",
      "|            Ephemera|GenreConcept|   kpmugnt4|              []|Identified|       Genre|            ephemera|label-derived|\n",
      "|          Broadsides|GenreConcept|   ud9t48hh|              []|Identified|       Genre|          broadsides|label-derived|\n",
      "|    Electronic books|GenreConcept|   kqkakf66|              []|Identified|       Genre|    electronic books|label-derived|\n",
      "|      Annual reports|GenreConcept|   ajcm2jdg|              []|Identified|       Genre|      annual reports|label-derived|\n",
      "|         MOH reports|GenreConcept|   rasp7aye|              []|Identified|       Genre|         moh reports|label-derived|\n",
      "|    Electronic books|GenreConcept|   kqkakf66|              []|Identified|       Genre|    electronic books|label-derived|\n",
      "|    Electronic books|GenreConcept|   kqkakf66|              []|Identified|       Genre|    electronic books|label-derived|\n",
      "|     Portrait prints|GenreConcept|   dhgr6mj5|              []|Identified|       Genre|     portrait prints|label-derived|\n",
      "|         Lithographs|GenreConcept|   fmydsuw2|              []|Identified|       Genre|         lithographs|label-derived|\n",
      "|    Electronic books|GenreConcept|   kqkakf66|              []|Identified|       Genre|    electronic books|label-derived|\n",
      "|      Annual reports|GenreConcept|   ajcm2jdg|              []|Identified|       Genre|      annual reports|label-derived|\n",
      "|         MOH reports|GenreConcept|   rasp7aye|              []|Identified|       Genre|         moh reports|label-derived|\n",
      "|          Statistics|GenreConcept|   y2yes53w|              []|Identified|       Genre|          statistics|label-derived|\n",
      "|         Periodicals|GenreConcept|   g6tt55sn|              []|Identified|       Genre|         periodicals|label-derived|\n",
      "|    Electronic books|GenreConcept|   kqkakf66|              []|Identified|       Genre|    electronic books|label-derived|\n",
      "|    Electronic books|GenreConcept|   kqkakf66|              []|Identified|       Genre|    electronic books|label-derived|\n",
      "|    Electronic books|GenreConcept|   kqkakf66|              []|Identified|       Genre|    electronic books|label-derived|\n",
      "|     Wood engravings|GenreConcept|   hjzzh4gd|              []|Identified|       Genre|     wood engravings|label-derived|\n",
      "|   Advertising cards|GenreConcept|   yjy64unq|              []|Identified|       Genre|   advertising cards|label-derived|\n",
      "|            Ephemera|GenreConcept|   kpmugnt4|              []|Identified|       Genre|            ephemera|label-derived|\n",
      "|    Electronic books|GenreConcept|   kqkakf66|              []|Identified|       Genre|    electronic books|label-derived|\n",
      "|      Annual reports|GenreConcept|   ajcm2jdg|              []|Identified|       Genre|      annual reports|label-derived|\n",
      "|         MOH reports|GenreConcept|   rasp7aye|              []|Identified|       Genre|         moh reports|label-derived|\n",
      "|          Statistics|GenreConcept|   y2yes53w|              []|Identified|       Genre|          statistics|label-derived|\n",
      "|Conference procee...|GenreConcept|   n92ufez5|              []|Identified|       Genre|conference procee...|label-derived|\n",
      "|    Electronic books|GenreConcept|   kqkakf66|              []|Identified|       Genre|    electronic books|label-derived|\n",
      "|    Electronic books|GenreConcept|   kqkakf66|              []|Identified|       Genre|    electronic books|label-derived|\n",
      "|    Electronic books|GenreConcept|   kqkakf66|              []|Identified|       Genre|    electronic books|label-derived|\n",
      "|Academic disserta...|GenreConcept|   k3rcbzvs|              []|Identified|       Genre|academic disserta...|label-derived|\n",
      "|    Electronic books|GenreConcept|   kqkakf66|              []|Identified|       Genre|    electronic books|label-derived|\n",
      "|    Electronic books|GenreConcept|   kqkakf66|              []|Identified|       Genre|    electronic books|label-derived|\n",
      "|         Manuscripts|GenreConcept|   nq24dd69|              []|Identified|       Genre|         manuscripts|label-derived|\n",
      "|           Sinhalese|     Concept|   zmwuj9wn|              []|Identified|     Concept|           sinhalese|label-derived|\n",
      "|            Ephemera|GenreConcept|   kpmugnt4|              []|Identified|       Genre|            ephemera|label-derived|\n",
      "|           Aquatints|GenreConcept|   uvwmd743|              []|Identified|       Genre|           aquatints|label-derived|\n",
      "|           Pamphlets|GenreConcept|   tbeys2vz|              []|Identified|       Genre|           pamphlets|label-derived|\n",
      "|         Periodicals|GenreConcept|   g6tt55sn|              []|Identified|       Genre|         periodicals|label-derived|\n",
      "|    Electronic books|GenreConcept|   kqkakf66|              []|Identified|       Genre|    electronic books|label-derived|\n",
      "|    Electronic books|GenreConcept|   kqkakf66|              []|Identified|       Genre|    electronic books|label-derived|\n",
      "|           Pamphlets|GenreConcept|   tbeys2vz|              []|Identified|       Genre|           pamphlets|label-derived|\n",
      "|    Electronic books|GenreConcept|   kqkakf66|              []|Identified|       Genre|    electronic books|label-derived|\n",
      "|    Electronic books|GenreConcept|   kqkakf66|              []|Identified|       Genre|    electronic books|label-derived|\n",
      "|           Pamphlets|GenreConcept|   tbeys2vz|              []|Identified|       Genre|           pamphlets|label-derived|\n",
      "|     Portrait prints|GenreConcept|   dhgr6mj5|              []|Identified|       Genre|     portrait prints|label-derived|\n",
      "| Photographic prints|GenreConcept|   fdj6k69u|              []|Identified|       Genre| photographic prints|label-derived|\n",
      "|         Photographs|GenreConcept|   gcrtbhvk|              []|Identified|       Genre|         photographs|label-derived|\n",
      "|         Photographs|GenreConcept|   gcrtbhvk|              []|Identified|       Genre|         photographs|label-derived|\n",
      "|          Periodical|GenreConcept|   w3mu5a5f|              []|Identified|       Genre|          periodical|label-derived|\n",
      "|         periodicals|GenreConcept|   g6tt55sn|              []|Identified|       Genre|         periodicals|label-derived|\n",
      "|         Periodicals|GenreConcept|   g6tt55sn|              []|Identified|       Genre|         periodicals|label-derived|\n",
      "|        Périodiques|GenreConcept|   dbw562ah|              []|Identified|       Genre|         periodiques|label-derived|\n",
      "|Photographic post...|GenreConcept|   t45bb9qg|              []|Identified|       Genre|photographic post...|label-derived|\n",
      "| Photographic prints|GenreConcept|   fdj6k69u|              []|Identified|       Genre| photographic prints|label-derived|\n",
      "|         Photographs|GenreConcept|   gcrtbhvk|              []|Identified|       Genre|         photographs|label-derived|\n",
      "|    Electronic books|GenreConcept|   kqkakf66|              []|Identified|       Genre|    electronic books|label-derived|\n",
      "|               Zines|GenreConcept|   gyh3qjn3|              []|Identified|       Genre|               zines|label-derived|\n",
      "|   Illustrated works|GenreConcept|   zu9v9sdy|              []|Identified|       Genre|   illustrated works|label-derived|\n",
      "|    Electronic books|GenreConcept|   kqkakf66|              []|Identified|       Genre|    electronic books|label-derived|\n",
      "|    Electronic books|GenreConcept|   kqkakf66|              []|Identified|       Genre|    electronic books|label-derived|\n",
      "|    Electronic books|GenreConcept|   kqkakf66|              []|Identified|       Genre|    electronic books|label-derived|\n",
      "|      Annual reports|GenreConcept|   ajcm2jdg|              []|Identified|       Genre|      annual reports|label-derived|\n",
      "|         MOH reports|GenreConcept|   rasp7aye|              []|Identified|       Genre|         moh reports|label-derived|\n",
      "|    Electronic books|GenreConcept|   kqkakf66|              []|Identified|       Genre|    electronic books|label-derived|\n",
      "|            Ephemera|GenreConcept|   kpmugnt4|              []|Identified|       Genre|            ephemera|label-derived|\n",
      "|            Leaflets|GenreConcept|   bsu8ec74|              []|Identified|       Genre|            leaflets|label-derived|\n",
      "|    Electronic books|GenreConcept|   kqkakf66|              []|Identified|       Genre|    electronic books|label-derived|\n",
      "|    Electronic books|GenreConcept|   kqkakf66|              []|Identified|       Genre|    electronic books|label-derived|\n",
      "|     Science fiction|GenreConcept|   mc9ed94g|              []|Identified|       Genre|     science fiction|label-derived|\n",
      "|              Novels|GenreConcept|   grbcpsae|              []|Identified|       Genre|              novels|label-derived|\n",
      "|    Electronic books|GenreConcept|   kqkakf66|              []|Identified|       Genre|    electronic books|label-derived|\n",
      "|            Ephemera|GenreConcept|   kpmugnt4|              []|Identified|       Genre|            ephemera|label-derived|\n",
      "|            Leaflets|GenreConcept|   bsu8ec74|              []|Identified|       Genre|            leaflets|label-derived|\n",
      "|    Electronic books|GenreConcept|   kqkakf66|              []|Identified|       Genre|    electronic books|label-derived|\n",
      "|    Electronic books|GenreConcept|   kqkakf66|              []|Identified|       Genre|    electronic books|label-derived|\n",
      "|          Statistics|GenreConcept|   y2yes53w|              []|Identified|       Genre|          statistics|label-derived|\n",
      "|      Annual reports|GenreConcept|   ajcm2jdg|              []|Identified|       Genre|      annual reports|label-derived|\n",
      "|         MOH reports|GenreConcept|   rasp7aye|              []|Identified|       Genre|         moh reports|label-derived|\n",
      "|    Electronic books|GenreConcept|   kqkakf66|              []|Identified|       Genre|    electronic books|label-derived|\n",
      "|  Student collection|GenreConcept|   ekbze97y|              []|Identified|       Genre|  student collection|label-derived|\n",
      "|    Electronic books|GenreConcept|   kqkakf66|              []|Identified|       Genre|    electronic books|label-derived|\n",
      "|      Annual reports|GenreConcept|   ajcm2jdg|              []|Identified|       Genre|      annual reports|label-derived|\n",
      "|         MOH reports|GenreConcept|   rasp7aye|              []|Identified|       Genre|         moh reports|label-derived|\n",
      "|          Statistics|GenreConcept|   y2yes53w|              []|Identified|       Genre|          statistics|label-derived|\n",
      "|  Student Collection|GenreConcept|   ekbze97y|              []|Identified|       Genre|  student collection|label-derived|\n",
      "|    Electronic books|GenreConcept|   kqkakf66|              []|Identified|       Genre|    electronic books|label-derived|\n",
      "|    Electronic books|GenreConcept|   kqkakf66|              []|Identified|       Genre|    electronic books|label-derived|\n",
      "|      Annual reports|GenreConcept|   ajcm2jdg|              []|Identified|       Genre|      annual reports|label-derived|\n",
      "|         MOH reports|GenreConcept|   rasp7aye|              []|Identified|       Genre|         moh reports|label-derived|\n",
      "|         Periodicals|GenreConcept|   g6tt55sn|              []|Identified|       Genre|         periodicals|label-derived|\n",
      "+--------------------+------------+-----------+----------------+----------+------------+--------------------+-------------+\n",
      "only showing top 100 rows\n",
      "\n"
     ]
    },
    {
     "name": "stderr",
     "output_type": "stream",
     "text": [
      "                                                                                \r"
     ]
    },
    {
     "name": "stdout",
     "output_type": "stream",
     "text": [
      "Distinct count 1427\n"
     ]
    },
    {
     "name": "stderr",
     "output_type": "stream",
     "text": [
      "[Stage 48:==============================================>        (54 + 10) / 64]\r"
     ]
    },
    {
     "name": "stdout",
     "output_type": "stream",
     "text": [
      "Distinct count without CanonicalId 1410\n"
     ]
    },
    {
     "name": "stderr",
     "output_type": "stream",
     "text": [
      "                                                                                \r"
     ]
    }
   ],
   "source": [
    "# Select document fields without the top-level \"document\" field\n",
    "genres_df = (\n",
    "    spark.table(\"es_works_denormalised\").select(F.explode(\"document.data.genres\")).select(\"col.*\")\n",
    "    .select(F.explode(\"concepts\")).select(\"col.*\")\n",
    "    .select(\"label\", \"type\", \"id.*\")\n",
    "    .select(\"*\", \"sourceIdentifier.*\").drop(\"sourceIdentifier\")\n",
    "    .select(\"*\", \"identifierType.id\").drop(\"identifierType\")\n",
    "    # .drop(\"otherIdentifiers\")\n",
    ")\n",
    "\n",
    "genres_df.show(100, truncate=True)\n",
    "print(\"Distinct count\", genres_df.distinct().count())\n",
    "print(\"Distinct count without CanonicalId\",\n",
    "      genres_df.dropDuplicates([\"label\", \"type\"]).count())"
   ]
  },
  {
   "cell_type": "code",
   "execution_count": 13,
   "id": "f6196607",
   "metadata": {},
   "outputs": [
    {
     "name": "stdout",
     "output_type": "stream",
     "text": [
      "+-------------+-----+\n",
      "|id           |count|\n",
      "+-------------+-----+\n",
      "|label-derived|1402 |\n",
      "|nlm-mesh     |23   |\n",
      "|lc-subjects  |2    |\n",
      "+-------------+-----+\n",
      "\n"
     ]
    }
   ],
   "source": [
    "genres_df.distinct().groupBy(\"id\").count().orderBy(\"count\", ascending=False).show(50, truncate=False)"
   ]
  },
  {
   "cell_type": "markdown",
   "id": "f67e19fe",
   "metadata": {},
   "source": [
    "## Subjects"
   ]
  },
  {
   "cell_type": "code",
   "execution_count": 4,
   "id": "28700a81",
   "metadata": {},
   "outputs": [
    {
     "name": "stderr",
     "output_type": "stream",
     "text": [
      "                                                                                \r"
     ]
    },
    {
     "name": "stdout",
     "output_type": "stream",
     "text": [
      "+---------------------------------------------------+-----------+----------+------------+---------------------------------------------------+----------------+--------------------------------------------+------------+------------+-------------+------------------+----------+--------------------------------+----------------------------+---------------------------+\n",
      "|label                                              |canonicalId|type      |ontologyType|value                                              |identifierTypeId|conceptLabel                                |conceptType |conceptRange|idCanonicalId|idOtherIdentifiers|idType    |sourceIdentifierIdentifierTypeId|sourceIdentifierOntologyType|sourceIdentifierValue      |\n",
      "+---------------------------------------------------+-----------+----------+------------+---------------------------------------------------+----------------+--------------------------------------------+------------+------------+-------------+------------------+----------+--------------------------------+----------------------------+---------------------------+\n",
      "|Drug development - Periodicals                     |cjhjbwtj   |Identified|Concept     |drug development - periodicals                     |label-derived   |Drug development                            |Concept     |NULL        |vrzvvrt4     |[]                |Identified|label-derived                   |Concept                     |drug development           |\n",
      "|Drug development - Periodicals                     |cjhjbwtj   |Identified|Concept     |drug development - periodicals                     |label-derived   |Periodicals                                 |Concept     |NULL        |g6tt55sn     |[]                |Identified|label-derived                   |Concept                     |periodicals                |\n",
      "|Physiology, Pathological - Periodicals             |cj5gjc6m   |Identified|Concept     |physiology, pathological - periodicals             |label-derived   |Physiology, Pathological                    |Concept     |NULL        |jsb8r9hj     |[]                |Identified|label-derived                   |Concept                     |physiology, pathological   |\n",
      "|Physiology, Pathological - Periodicals             |cj5gjc6m   |Identified|Concept     |physiology, pathological - periodicals             |label-derived   |Periodicals                                 |Concept     |NULL        |g6tt55sn     |[]                |Identified|label-derived                   |Concept                     |periodicals                |\n",
      "|Drugs - Testing - Periodicals                      |c64c43g3   |Identified|Concept     |drugs - testing - periodicals                      |label-derived   |Drugs                                       |Concept     |NULL        |njk7ejzy     |[]                |Identified|label-derived                   |Concept                     |drugs                      |\n",
      "|Drugs - Testing - Periodicals                      |c64c43g3   |Identified|Concept     |drugs - testing - periodicals                      |label-derived   |Testing                                     |Concept     |NULL        |rstc4uxr     |[]                |Identified|label-derived                   |Concept                     |testing                    |\n",
      "|Drugs - Testing - Periodicals                      |c64c43g3   |Identified|Concept     |drugs - testing - periodicals                      |label-derived   |Periodicals                                 |Concept     |NULL        |g6tt55sn     |[]                |Identified|label-derived                   |Concept                     |periodicals                |\n",
      "|Diseases - Animal models - Evaluation - Periodicals|t7uk3uek   |Identified|Concept     |diseases - animal models - evaluation - periodicals|label-derived   |Diseases                                    |Concept     |NULL        |z9hsmken     |[]                |Identified|label-derived                   |Concept                     |diseases                   |\n",
      "|Diseases - Animal models - Evaluation - Periodicals|t7uk3uek   |Identified|Concept     |diseases - animal models - evaluation - periodicals|label-derived   |Animal models                               |Concept     |NULL        |j8pkhtkb     |[]                |Identified|label-derived                   |Concept                     |animal models              |\n",
      "|Diseases - Animal models - Evaluation - Periodicals|t7uk3uek   |Identified|Concept     |diseases - animal models - evaluation - periodicals|label-derived   |Evaluation                                  |Concept     |NULL        |ck4kgvk8     |[]                |Identified|label-derived                   |Concept                     |evaluation                 |\n",
      "|Diseases - Animal models - Evaluation - Periodicals|t7uk3uek   |Identified|Concept     |diseases - animal models - evaluation - periodicals|label-derived   |Periodicals                                 |Concept     |NULL        |g6tt55sn     |[]                |Identified|label-derived                   |Concept                     |periodicals                |\n",
      "|Drug Design                                        |uvm6sqj5   |Identified|Concept     |drug design                                        |label-derived   |Drug Design                                 |Concept     |NULL        |uvm6sqj5     |[]                |Identified|label-derived                   |Concept                     |drug design                |\n",
      "|Models, Biological                                 |esgjq88f   |Identified|Concept     |models, biological                                 |label-derived   |Models, Biological                          |Concept     |NULL        |esgjq88f     |[]                |Identified|label-derived                   |Concept                     |models, biological         |\n",
      "|Insects - Collection and preservation              |kh4wv75t   |Identified|Concept     |sh85066673                                         |lc-subjects     |Insects                                     |Concept     |NULL        |y7vrfzjd     |[]                |Identified|label-derived                   |Concept                     |insects                    |\n",
      "|Insects - Collection and preservation              |kh4wv75t   |Identified|Concept     |sh85066673                                         |lc-subjects     |Collection and preservation                 |Concept     |NULL        |zy2em7y8     |[]                |Identified|label-derived                   |Concept                     |collection and preservation|\n",
      "|Philadelphia College of Pharmacy and Science       |sdpdsnnx   |Identified|Organisation|n82129765                                          |lc-names        |Philadelphia College of Pharmacy and Science|Organisation|NULL        |sdpdsnnx     |[]                |Identified|lc-names                        |Organisation                |n82129765                  |\n",
      "|20th century                                       |zd3xwfb9   |Identified|Period      |20th century                                       |label-derived   |20th century                                |Period      |NULL        |zd3xwfb9     |[]                |Identified|label-derived                   |Period                      |20th century               |\n",
      "|Science - history                                  |wf4bgw2z   |Identified|Concept     |D012586Q000266                                     |nlm-mesh        |Science                                     |Concept     |NULL        |pnpsyqp8     |[]                |Identified|label-derived                   |Concept                     |science                    |\n",
      "|Science - history                                  |wf4bgw2z   |Identified|Concept     |D012586Q000266                                     |nlm-mesh        |history                                     |Concept     |NULL        |m7x7qxg6     |[]                |Identified|label-derived                   |Concept                     |history                    |\n",
      "|Politics - history                                 |jzvsuqf5   |Identified|Concept     |D011057                                            |nlm-mesh        |Politics                                    |Concept     |NULL        |eupstaj4     |[]                |Identified|label-derived                   |Concept                     |politics                   |\n",
      "|Politics - history                                 |jzvsuqf5   |Identified|Concept     |D011057                                            |nlm-mesh        |history                                     |Concept     |NULL        |m7x7qxg6     |[]                |Identified|label-derived                   |Concept                     |history                    |\n",
      "|United States                                      |qxs9ppqa   |Identified|Place       |n78095330                                          |lc-names        |United States                               |Place       |NULL        |qxs9ppqa     |[]                |Identified|lc-names                        |Place                       |n78095330                  |\n",
      "|Ancient                                            |nmduzpsd   |Identified|Period      |ancient                                            |label-derived   |Ancient                                     |Period      |NULL        |nmduzpsd     |[]                |Identified|label-derived                   |Period                      |ancient                    |\n",
      "|Antiquities                                        |sh9rufxr   |Identified|Concept     |sh85005757                                         |lc-subjects     |Antiquities                                 |Concept     |NULL        |sh9rufxr     |[]                |Identified|lc-subjects                     |Concept                     |sh85005757                 |\n",
      "|Romans                                             |mud6uknv   |Identified|Concept     |sh85115064                                         |lc-subjects     |Romans                                      |Concept     |NULL        |mud6uknv     |[]                |Identified|lc-subjects                     |Concept                     |sh85115064                 |\n",
      "|Archaeology                                        |ht3uvysd   |Identified|Concept     |D001106                                            |nlm-mesh        |Archaeology                                 |Concept     |NULL        |ht3uvysd     |[]                |Identified|nlm-mesh                        |Concept                     |D001106                    |\n",
      "|Bath (England)                                     |bhab4tsz   |Identified|Place       |n80006275                                          |lc-names        |Bath (England)                              |Place       |NULL        |bhab4tsz     |[]                |Identified|lc-names                        |Place                       |n80006275                  |\n",
      "|Cholesterol                                        |dwb8efjg   |Identified|Concept     |D002784                                            |nlm-mesh        |Cholesterol                                 |Concept     |NULL        |dwb8efjg     |[]                |Identified|nlm-mesh                        |Concept                     |D002784                    |\n",
      "|Tinea Pedis                                        |y3ut9fax   |Identified|Concept     |D014008                                            |nlm-mesh        |Tinea Pedis                                 |Concept     |NULL        |y3ut9fax     |[]                |Identified|nlm-mesh                        |Concept                     |D014008                    |\n",
      "|Muscle Tonus                                       |axund79y   |Identified|Concept     |D009129                                            |nlm-mesh        |Muscle Tonus                                |Concept     |NULL        |axund79y     |[]                |Identified|nlm-mesh                        |Concept                     |D009129                    |\n",
      "|Botany                                             |dyhddzny   |Identified|Concept     |D001901                                            |nlm-mesh        |Botany                                      |Concept     |NULL        |dyhddzny     |[]                |Identified|nlm-mesh                        |Concept                     |D001901                    |\n",
      "|Ethnobotany                                        |jn3ry2eg   |Identified|Concept     |D019448                                            |nlm-mesh        |Ethnobotany                                 |Concept     |NULL        |jn3ry2eg     |[]                |Identified|nlm-mesh                        |Concept                     |D019448                    |\n",
      "|Pharmaceutical Preparations                        |wfwbd94q   |Identified|Concept     |D004364                                            |nlm-mesh        |Pharmaceutical Preparations                 |Concept     |NULL        |wfwbd94q     |[]                |Identified|nlm-mesh                        |Concept                     |D004364                    |\n",
      "|Plant Preparations                                 |yvchfusw   |Identified|Concept     |D028321                                            |nlm-mesh        |Plant Preparations                          |Concept     |NULL        |yvchfusw     |[]                |Identified|nlm-mesh                        |Concept                     |D028321                    |\n",
      "|Ophthalmology                                      |a9f9f6vc   |Identified|Concept     |ophthalmology                                      |label-derived   |Ophthalmology                               |Concept     |NULL        |a9f9f6vc     |[]                |Identified|label-derived                   |Concept                     |ophthalmology              |\n",
      "|Arteriosclerosis                                   |gwenetms   |Identified|Concept     |D001161                                            |nlm-mesh        |Arteriosclerosis                            |Concept     |NULL        |gwenetms     |[]                |Identified|nlm-mesh                        |Concept                     |D001161                    |\n",
      "|Thrombosis                                         |yfex6rjz   |Identified|Concept     |D013927                                            |nlm-mesh        |Thrombosis                                  |Concept     |NULL        |yfex6rjz     |[]                |Identified|nlm-mesh                        |Concept                     |D013927                    |\n",
      "|Connective Tissue                                  |pups5u4g   |Identified|Concept     |D003238                                            |nlm-mesh        |Connective Tissue                           |Concept     |NULL        |pups5u4g     |[]                |Identified|nlm-mesh                        |Concept                     |D003238                    |\n",
      "|Margarine                                          |c2wab9pu   |Identified|Concept     |sh85081045                                         |lc-subjects     |Margarine                                   |Concept     |NULL        |c2wab9pu     |[]                |Identified|lc-subjects                     |Concept                     |sh85081045                 |\n",
      "|Diet                                               |vp3wzgty   |Identified|Concept     |sh85037853                                         |lc-subjects     |Diet                                        |Concept     |NULL        |vp3wzgty     |[]                |Identified|lc-subjects                     |Concept                     |sh85037853                 |\n",
      "|Disease Outbreaks                                  |d6jhgxuc   |Identified|Concept     |D004196                                            |nlm-mesh        |Disease Outbreaks                           |Concept     |NULL        |d6jhgxuc     |[]                |Identified|nlm-mesh                        |Concept                     |D004196                    |\n",
      "|Public Health                                      |uj4hz4ct   |Identified|Concept     |D011634                                            |nlm-mesh        |Public Health                               |Concept     |NULL        |uj4hz4ct     |[]                |Identified|nlm-mesh                        |Concept                     |D011634                    |\n",
      "|Sanitation                                         |eva7r2dw   |Identified|Concept     |D012499                                            |nlm-mesh        |Sanitation                                  |Concept     |NULL        |eva7r2dw     |[]                |Identified|nlm-mesh                        |Concept                     |D012499                    |\n",
      "|Water Supply                                       |gtf5s7h7   |Identified|Concept     |D014881                                            |nlm-mesh        |Water Supply                                |Concept     |NULL        |gtf5s7h7     |[]                |Identified|nlm-mesh                        |Concept                     |D014881                    |\n",
      "|Farsley (England)                                  |y8n34uc9   |Identified|Place       |farsley (england)                                  |label-derived   |Farsley (England)                           |Place       |NULL        |y8n34uc9     |[]                |Identified|label-derived                   |Place                       |farsley (england)          |\n",
      "|Leukemia - therapy                                 |z274dmnu   |Identified|Concept     |D007938Q000628                                     |nlm-mesh        |Leukemia                                    |Concept     |NULL        |sga9xexd     |[]                |Identified|label-derived                   |Concept                     |leukemia                   |\n",
      "|Leukemia - therapy                                 |z274dmnu   |Identified|Concept     |D007938Q000628                                     |nlm-mesh        |therapy                                     |Concept     |NULL        |mm4a9qac     |[]                |Identified|label-derived                   |Concept                     |therapy                    |\n",
      "|Physiology                                         |wnhtp56y   |Identified|Concept     |D010827                                            |nlm-mesh        |Physiology                                  |Concept     |NULL        |wnhtp56y     |[]                |Identified|nlm-mesh                        |Concept                     |D010827                    |\n",
      "|Signal Transduction                                |pbu42asv   |Identified|Concept     |D015398                                            |nlm-mesh        |Signal Transduction                         |Concept     |NULL        |pbu42asv     |[]                |Identified|nlm-mesh                        |Concept                     |D015398                    |\n",
      "|Models, Biological                                 |yg3wkdca   |Identified|Concept     |D008954                                            |nlm-mesh        |Models, Biological                          |Concept     |NULL        |yg3wkdca     |[]                |Identified|nlm-mesh                        |Concept                     |D008954                    |\n",
      "+---------------------------------------------------+-----------+----------+------------+---------------------------------------------------+----------------+--------------------------------------------+------------+------------+-------------+------------------+----------+--------------------------------+----------------------------+---------------------------+\n",
      "only showing top 50 rows\n",
      "\n"
     ]
    },
    {
     "name": "stderr",
     "output_type": "stream",
     "text": [
      "                                                                                \r"
     ]
    },
    {
     "name": "stdout",
     "output_type": "stream",
     "text": [
      "Distinct count 148263\n"
     ]
    },
    {
     "name": "stderr",
     "output_type": "stream",
     "text": [
      "[Stage 8:================================================>        (55 + 9) / 64]\r"
     ]
    },
    {
     "name": "stdout",
     "output_type": "stream",
     "text": [
      "Distinct count without CanonicalId 127372\n"
     ]
    },
    {
     "name": "stderr",
     "output_type": "stream",
     "text": [
      "                                                                                \r"
     ]
    }
   ],
   "source": [
    "from pyspark.sql import functions as F\n",
    "\n",
    "# Select document fields without the top-level \"document\" field\n",
    "subjects_df = (\n",
    "    spark.table(\"es_works_denormalised\")\n",
    "    .select(\"document.data.*\")\n",
    "    .select(F.explode(\"subjects\")).select(\"col.*\")\n",
    "    .select(\"*\",\n",
    "         \"id.*\"\n",
    "         ).drop(\"id\")\n",
    "    .select(\"*\", \"sourceIdentifier.*\", F.col(\"identifierType.id\").alias(\"identifierTypeId\")).drop(\"sourceIdentifier\", \"identifierType\", \"otherIdentifiers\")\n",
    "    .select(\"*\", F.explode(\"concepts\"))\n",
    "    .select(\n",
    "        \"*\",\n",
    "        \"col.id\",\n",
    "        F.col(\"col.label\").alias(\"conceptLabel\"),\n",
    "        F.col(\"col.type\").alias(\"conceptType\"),\n",
    "        F.col(\"col.range\").alias(\"conceptRange\"),\n",
    "        ).drop(\"concepts\", \"col\")\n",
    "    .select(\"*\", F.col(\"id.canonicalId\").alias(\"idCanonicalId\"), F.col(\"id.otherIdentifiers\").alias(\"idOtherIdentifiers\"), F.col(\"id.type\").alias(\"idType\"), F.col(\"id.sourceIdentifier\").alias(\"idSourceIdentifier\")).drop(\"id\")\n",
    "    .select(\"*\",\n",
    "        F.col(\"idSourceIdentifier.identifierType.id\").alias(\"sourceIdentifierIdentifierTypeId\"),\n",
    "        F.col(\"idSourceIdentifier.ontologyType\").alias(\"sourceIdentifierOntologyType\"),\n",
    "        F.col(\"idSourceIdentifier.value\").alias(\"sourceIdentifierValue\")\n",
    "        ).drop(\"idSourceIdentifier\")\n",
    ")\n",
    "\n",
    "subjects_df.show(50, truncate=False)\n",
    "print(\n",
    "    \"Distinct count\",\n",
    "    subjects_df.select(\n",
    "        \"conceptLabel\",\n",
    "        \"conceptType\",\n",
    "        \"idCanonicalId\").distinct().count())\n",
    "print(\"Distinct count without CanonicalId\", subjects_df.dropDuplicates(\n",
    "    [\"conceptLabel\", \"conceptType\"]).count())"
   ]
  },
  {
   "cell_type": "code",
   "execution_count": 5,
   "id": "8bb069d4",
   "metadata": {},
   "outputs": [
    {
     "name": "stderr",
     "output_type": "stream",
     "text": [
      "[Stage 14:=============================================>         (53 + 11) / 64]\r"
     ]
    },
    {
     "name": "stdout",
     "output_type": "stream",
     "text": [
      "+----------------------------+-----------+-----+\n",
      "|conceptLabel                |conceptType|count|\n",
      "+----------------------------+-----------+-----+\n",
      "|history                     |Concept    |72857|\n",
      "|Public Health               |Concept    |67794|\n",
      "|Sanitation                  |Concept    |67284|\n",
      "|Disease Outbreaks           |Concept    |63898|\n",
      "|Water Supply                |Concept    |63536|\n",
      "|History                     |Concept    |46494|\n",
      "|Great Britain               |Place      |27129|\n",
      "|Medicine                    |Concept    |19306|\n",
      "|Early works to 1800         |Concept    |15913|\n",
      "|United States               |Place      |13923|\n",
      "|19th century                |Period     |12359|\n",
      "|20th century                |Period     |12283|\n",
      "|England                     |Place      |11743|\n",
      "|London (England)            |Place      |10614|\n",
      "|Science                     |Concept    |10558|\n",
      "|Physicians                  |Concept    |8607 |\n",
      "|prevention & control        |Concept    |8348 |\n",
      "|Hospitals                   |Concept    |8006 |\n",
      "|drug therapy                |Concept    |6290 |\n",
      "|therapy                     |Concept    |6253 |\n",
      "|18th century                |Period     |6098 |\n",
      "|Germany                     |Place      |5997 |\n",
      "|France                      |Place      |5914 |\n",
      "|Women                       |Concept    |5874 |\n",
      "|Research                    |Concept    |5774 |\n",
      "|Botany                      |Concept    |5548 |\n",
      "|Periodicals                 |Concept    |5413 |\n",
      "|Diseases                    |Concept    |5368 |\n",
      "|India                       |Place      |5324 |\n",
      "|AIDS (Disease)              |Concept    |5281 |\n",
      "|Anatomy                     |Concept    |4945 |\n",
      "|Ophthalmology               |Concept    |4830 |\n",
      "|Sex                         |Concept    |4648 |\n",
      "|Philosophy                  |Concept    |4609 |\n",
      "|therapeutic use             |Concept    |4536 |\n",
      "|Physiology                  |Concept    |3898 |\n",
      "|Pharmaceutical Preparations |Concept    |3874 |\n",
      "|General Surgery             |Concept    |3859 |\n",
      "|19th-20th centuries         |Period     |3844 |\n",
      "|Hospitals, Psychiatric      |Concept    |3818 |\n",
      "|Ancient                     |Period     |3815 |\n",
      "|Neoplasms                   |Concept    |3752 |\n",
      "|Eye                         |Concept    |3752 |\n",
      "|17th century                |Period     |3709 |\n",
      "|Public Health Administration|Concept    |3590 |\n",
      "|Drug Industry               |Concept    |3575 |\n",
      "|Europe                      |Place      |3461 |\n",
      "|School Health Services      |Concept    |3385 |\n",
      "|Psychology                  |Concept    |3315 |\n",
      "|Astrology                   |Concept    |3289 |\n",
      "+----------------------------+-----------+-----+\n",
      "only showing top 50 rows\n",
      "\n"
     ]
    },
    {
     "name": "stderr",
     "output_type": "stream",
     "text": [
      "                                                                                \r"
     ]
    }
   ],
   "source": [
    "subjects_df.groupBy(\n",
    "    \"conceptLabel\",\n",
    "    \"conceptType\").count().orderBy(\n",
    "        \"count\",\n",
    "        ascending=False).show(\n",
    "            50,\n",
    "    truncate=False)"
   ]
  },
  {
   "cell_type": "code",
   "execution_count": 6,
   "id": "05588f37",
   "metadata": {},
   "outputs": [
    {
     "name": "stdout",
     "output_type": "stream",
     "text": [
      "+------------+-------+\n",
      "|ontologyType|count  |\n",
      "+------------+-------+\n",
      "|Concept     |1821152|\n",
      "|Place       |240356 |\n",
      "|Person      |108136 |\n",
      "|Organisation|46294  |\n",
      "|Period      |39883  |\n",
      "|Meeting     |709    |\n",
      "|NULL        |13     |\n",
      "+------------+-------+\n",
      "\n"
     ]
    }
   ],
   "source": [
    "subjects_df.groupBy(\n",
    "    \"ontologyType\").count().orderBy(\n",
    "        \"count\",\n",
    "        ascending=False).show(\n",
    "            50,\n",
    "    truncate=False)"
   ]
  },
  {
   "cell_type": "markdown",
   "id": "d51aec98",
   "metadata": {},
   "source": [
    "## Contributors"
   ]
  },
  {
   "cell_type": "code",
   "execution_count": 8,
   "id": "92415d2f",
   "metadata": {},
   "outputs": [
    {
     "name": "stdout",
     "output_type": "stream",
     "text": [
      "+--------------+--------------------+--------------------+------------+-------------+------------------+------------------------------+-----------------------+----------------+\n",
      "|        idType|               roles|               label|        type|idCanonicalId|idOtherIdentifiers|idSourceIdentifierOntologyType|idSourceIdentifierValue|identifierTypeId|\n",
      "+--------------+--------------------+--------------------+------------+-------------+------------------+------------------------------+-----------------------+----------------+\n",
      "|Unidentifiable|                  []|Riley, Charles V....|      Person|     egfwgb93|                []|                        Person|              n91097955|        lc-names|\n",
      "|Unidentifiable|                  []| Manzione, Joseph A.|      Person|     x457nb94|                []|                        Person|     manzione, joseph a|   label-derived|\n",
      "|Unidentifiable|                  []|University of Mic...|Organisation|     yytj83tc|                []|                  Organisation|              n79021846|        lc-names|\n",
      "|Unidentifiable|                  []|   Hery, Thierry de.|      Person|     xeft2ctx|                []|                        Person|       hery, thierry de|   label-derived|\n",
      "|Unidentifiable|                  []|   Wellcome Library.|Organisation|     m5y9bsmy|                []|                  Organisation|           no2006065766|        lc-names|\n",
      "|Unidentifiable|                  []|  Cunliffe, Barry W.|      Person|     f3xx5vxt|                []|                        Person|              n79059942|        lc-names|\n",
      "|Unidentifiable|                  []|       Edwards, John|      Person|     xamzhfp8|                []|                        Person|          edwards, john|   label-derived|\n",
      "|Unidentifiable|                  []|   Disgusted Brother|      Person|     tx9usmdx|                []|                        Person|      disgusted brother|   label-derived|\n",
      "|Unidentifiable|                  []|        Wong, James.|      Person|     dajbruq7|                []|                        Person|            n2015007110|        lc-names|\n",
      "|Unidentifiable|                  []|Power, Henry, 182...|       Agent|     ffkfwdep|                []|                         Agent|   power, henry, 182...|   label-derived|\n",
      "|Unidentifiable|                  []|Turrini, Giovanni...|      Person|     eehqry3w|                []|                        Person|   turrini, giovanni...|   label-derived|\n",
      "|Unidentifiable|                  []|   Wellcome Library.|Organisation|     m5y9bsmy|                []|                  Organisation|           no2006065766|        lc-names|\n",
      "|Unidentifiable|                  []|Page, Irvine H. (...|      Person|     jbbd8dde|                []|                        Person|              n85217668|        lc-names|\n",
      "|Unidentifiable|                  []|McNeil Consumer N...|Organisation|     nyesmarv|                []|                  Organisation|   mcneil consumer n...|   label-derived|\n",
      "|Unidentifiable|                  []|Farsley (England)...|Organisation|     mfjjkhef|                []|                  Organisation|   farsley (england)...|   label-derived|\n",
      "|Unidentifiable|                  []|     Addison, Joseph|      Person|     ahpw9zvd|                []|                        Person|        addison, joseph|   label-derived|\n",
      "|Unidentifiable|                  []|              Duguet|      Person|     ux4u4fzs|                []|                        Person|                 duguet|   label-derived|\n",
      "|Unidentifiable|                  []|Marmont, A. M. (A...|      Person|     z6zhf6cd|                []|                        Person|              n88638737|        lc-names|\n",
      "|Unidentifiable|                  []|      Fusco, Franco.|      Person|     re4yu85v|                []|                        Person|          fusco, franco|   label-derived|\n",
      "|Unidentifiable|                  []|    Horadgoda, N. U.|      Person|     vd5x6w3h|                []|                        Person|        horadgoda, n. u|   label-derived|\n",
      "|Unidentifiable|                  []|Wirsung, Christof...|      Person|     gtr35ef8|                []|                        Person|              n86835528|        lc-names|\n",
      "|Unidentifiable|                  []|        Mosan, Jacob|      Person|     je9xfe6q|                []|                        Person|             nr92010922|        lc-names|\n",
      "|Unidentifiable|                  []|Valentinuzzi, Max...|      Person|     q25um295|                []|                        Person|           no2005034122|        lc-names|\n",
      "|Unidentifiable|                  []|Garreau, J. B. P....|      Person|     v6n88u52|                []|                        Person|            n2002067660|        lc-names|\n",
      "|Unidentifiable|[{data contributor}]|Royal College of ...|Organisation|     v34xt6v9|                []|                  Organisation|              n50043077|        lc-names|\n",
      "|Unidentifiable|                  []|Goudard, Paul, 1884-|      Person|     qmtkh7nx|                []|                        Person|   goudard, paul, 1884-|   label-derived|\n",
      "|Unidentifiable|[{data contributor}]|Royal College of ...|Organisation|     v34xt6v9|                []|                  Organisation|              n50043077|        lc-names|\n",
      "|Unidentifiable|                  []|Hering, Honorius,...|      Person|     erak77zu|                []|                        Person|   hering, honorius,...|   label-derived|\n",
      "|Unidentifiable|                  []|Kaposi, Moriz, 18...|      Person|     ba84jpcc|                []|                        Person|              n89662662|        lc-names|\n",
      "|Unidentifiable|                  []|Ashburton (Devon,...|Organisation|     dv22vefe|                []|                  Organisation|   ashburton (devon,...|   label-derived|\n",
      "|Unidentifiable|                  []|Magalhães, João J...|      Person|     mawjtpu4|                []|                        Person|              n82111341|        lc-names|\n",
      "|Unidentifiable|                  []|  Priestley, J., Dr.|      Person|     ab3hdxve|                []|                        Person|      priestley, j., dr|   label-derived|\n",
      "|Unidentifiable|                  []|        Gibbs, Henry|      Person|     thsd7ruz|                []|                        Person|           gibbs, henry|   label-derived|\n",
      "|Unidentifiable|                  []|   Harrison, Conyers|      Person|     scjz2qda|                []|                        Person|      harrison, conyers|   label-derived|\n",
      "|Unidentifiable|                  []|Arthur Ralph Midd...|       Agent|     y8z9urc9|                []|                         Agent|   arthur ralph midd...|   label-derived|\n",
      "|Unidentifiable|                  []|Gesellschaft Deut...|Organisation|     jw6ctpdn|                []|                  Organisation|              n00010257|        lc-names|\n",
      "|Unidentifiable|                  []|Tyndall, John, 18...|      Person|     sv2xcsn8|                []|                        Person|              n79139759|        lc-names|\n",
      "|Unidentifiable|[{data contributor}]|Royal College of ...|Organisation|     w3d7f23y|                []|                  Organisation|              n82024440|        lc-names|\n",
      "|Unidentifiable|                  []|Gataker, Thomas, ...|      Person|     h43wqac2|                []|                        Person|              n83122613|        lc-names|\n",
      "|Unidentifiable|                  []|Adams, George, 17...|      Person|     hbh43f34|                []|                        Person|              n84213407|        lc-names|\n",
      "|Unidentifiable|                  []|Whitehead, John L...|      Person|     z35s493a|                []|                        Person|   whitehead, john l...|   label-derived|\n",
      "|Unidentifiable|    [{former owner}]|Clark, Andrew, 18...|      Person|     jhnmxzdb|                []|                        Person|           no2007152870|        lc-names|\n",
      "|Unidentifiable|           [{donor}]|Clark, Helen Anne...|      Person|     gcfp69tn|                []|                        Person|   clark, helen anne...|   label-derived|\n",
      "|Unidentifiable|[{data contributor}]|Royal College of ...|Organisation|     jr796kxd|                []|                  Organisation|              n80046799|        lc-names|\n",
      "|Unidentifiable|                  []|          Barrow, R.|      Person|     cqu8g8hv|                []|                        Person|              barrow, r|   label-derived|\n",
      "|Unidentifiable|                  []|Hodgkin, W. E., a...|      Person|     ev8afb5y|                []|                        Person|   hodgkin, w. e., a...|   label-derived|\n",
      "|Unidentifiable|       [{architect}]|Hayward, John, 18...|      Person|     rx2cqny2|                []|                        Person|   hayward, john, 18...|   label-derived|\n",
      "|Unidentifiable|                  []|Hammersmith (Lond...|Organisation|     k568qa35|                []|                  Organisation|   hammersmith (lond...|   label-derived|\n",
      "|Unidentifiable|                  []|          Day, F. M.|      Person|     xz8newx8|                []|                        Person|              day, f. m|   label-derived|\n",
      "|Unidentifiable|                  []|Chemist and Drugg...|Organisation|     pyhgcjee|                []|                  Organisation|   chemist and druggist|   label-derived|\n",
      "|Unidentifiable|                  []|Ganzinger, Kurt, ...|      Person|     rjwjtakf|                []|                        Person|   ganzinger, kurt, ...|   label-derived|\n",
      "|Unidentifiable|                  []|International Soc...|Organisation|     vb7nrfem|                []|                  Organisation|              n50037250|        lc-names|\n",
      "|Unidentifiable|                  []|Smith, William Ro...|      Person|     f4sguwpa|                []|                        Person|   smith, william ro...|   label-derived|\n",
      "|Unidentifiable|[{data contributor}]|University of Gla...|Organisation|     k696xyaf|                []|                  Organisation|              n86838929|        lc-names|\n",
      "|Unidentifiable|                  []|Rantzau, Henrik 1...|      Person|     kte9dbgq|                []|                        Person|   rantzau, henrik 1...|   label-derived|\n",
      "|Unidentifiable|                  []|Wilberforce, William|      Person|     v9u9s5d2|                []|                        Person|   wilberforce, william|   label-derived|\n",
      "|Unidentifiable|                  []|Steffens, Henry J...|      Person|     px7a95qv|                []|                        Person|              n79007741|        lc-names|\n",
      "|Unidentifiable|                  []|    Tennant, Neil W.|      Person|     k5cp38hy|                []|                        Person|        tennant, neil w|   label-derived|\n",
      "|Unidentifiable|                  []|Daniel Hanbury, 1...|       Agent|     kjy3675q|                []|                         Agent|   daniel hanbury, 1...|   label-derived|\n",
      "|Unidentifiable|                  []|Gillet, Servais, ...|      Person|     jz8pnxym|                []|                        Person|   gillet, servais, ...|   label-derived|\n",
      "|Unidentifiable|                  []|   Wellcome Library.|Organisation|     m5y9bsmy|                []|                  Organisation|           no2006065766|        lc-names|\n",
      "|Unidentifiable|                  []|    Palumbini, Máté.|      Person|     hgtufvfp|                []|                        Person|        palumbini, mate|   label-derived|\n",
      "|Unidentifiable|                  []|        Fasch, A. H.|      Person|     w5djbx2b|                []|                        Person|            fasch, a. h|   label-derived|\n",
      "|Unidentifiable|                  []|   Universität Jena.|Organisation|     r4zec739|                []|                  Organisation|              n87863371|        lc-names|\n",
      "|Unidentifiable|                  []|Darmstaedter, Ern...|      Person|     j8ppg69y|                []|                        Person|             no93017320|        lc-names|\n",
      "|Unidentifiable|                  []|Davy, Humphry, Si...|      Person|     zpx9sjdf|                []|                        Person|              n79142750|        lc-names|\n",
      "|Unidentifiable|       [{publisher}]|Bradford and Inskeep|Organisation|     gj3ws5a9|                []|                  Organisation|              n79080081|        lc-names|\n",
      "|Unidentifiable|       [{publisher}]|Inskeep and Bradford|Organisation|     r6hbtyu7|                []|                  Organisation|           nr2003010783|        lc-names|\n",
      "|Unidentifiable|         [{printer}]|T. & G. Palmer (F...|Organisation|     phh8p7ky|                []|                  Organisation|           nr2001030309|        lc-names|\n",
      "|Unidentifiable|[{data contributor}]|National Library ...|Organisation|     ayqxhwv8|                []|                  Organisation|              n80044831|        lc-names|\n",
      "|Unidentifiable|                  []|                Anon|      Person|     fkedpzyy|                []|                        Person|                   anon|   label-derived|\n",
      "|Unidentifiable|                  []|      Prior, Matthew|      Person|     g3qpvdnp|                []|                        Person|         prior, matthew|   label-derived|\n",
      "|Unidentifiable|                  []|Bell, Benjamin, 1...|      Person|     ax8gtnw2|                []|                        Person|              n84136209|        lc-names|\n",
      "|Unidentifiable|                  []|Simpson, James Yo...|      Person|     xna9hkhr|                []|                        Person|              n50056894|        lc-names|\n",
      "|Unidentifiable|                  []|  Stewart, Alexander|      Person|     xh6ss5n2|                []|                        Person|     stewart, alexander|   label-derived|\n",
      "|Unidentifiable|                  []| Singh, Lal Bahadur.|      Person|     fxmf4rjq|                []|                        Person|              n89277439|        lc-names|\n",
      "|Unidentifiable|                  []|    Farquhar, George|      Person|     ndebjngq|                []|                        Person|       farquhar, george|   label-derived|\n",
      "|Unidentifiable|                  []|Harvey, A. McGehe...|      Person|     bn3kpdbh|                []|                        Person|              n79100833|        lc-names|\n",
      "|Unidentifiable|                  []|    Ellis, Thomas S.|      Person|     nh5ky8kj|                []|                        Person|           nb2003093760|        lc-names|\n",
      "|Unidentifiable|[{data contributor}]|Royal College of ...|Organisation|     v34xt6v9|                []|                  Organisation|              n50043077|        lc-names|\n",
      "|Unidentifiable|                  []|Lilly, William, 1...|      Person|     an5ruksn|                []|                        Person|              n80087716|        lc-names|\n",
      "|Unidentifiable|                  []|  Bechterew, W. von.|      Person|     p2tfgzx6|                []|                        Person|      bechterew, w. von|   label-derived|\n",
      "|Unidentifiable|                  []|Langermann, Johan...|      Person|     sgqss7sr|                []|                        Person|             no99023591|        lc-names|\n",
      "|Unidentifiable|[{data contributor}]|Francis A. Countw...|Organisation|     szxgyp8p|                []|                  Organisation|              n83030968|        lc-names|\n",
      "|Unidentifiable|                  []| Humphries, Stephen.|      Person|     uzjetr8n|                []|                        Person|              n82034694|        lc-names|\n",
      "|Unidentifiable|                  []|Gordon, Pamela, 1...|      Person|     ncezu78p|                []|                        Person|              n91019946|        lc-names|\n",
      "|Unidentifiable|                  []|                Anon|      Person|     fkedpzyy|                []|                        Person|                   anon|   label-derived|\n",
      "|Unidentifiable|                  []|  Mitchell, Kirstin.|      Person|     getaqyyf|                []|                        Person|           no2013003318|        lc-names|\n",
      "|Unidentifiable|                  []|     Wellings, Kaye.|      Person|     up99peda|                []|                        Person|             no94014370|        lc-names|\n",
      "|Unidentifiable|                  []|Health Education ...|Organisation|     eh795aww|                []|                  Organisation|              n87859112|        lc-names|\n",
      "|Unidentifiable|                  []|     Telle, Joachim.|      Person|     t78gg7eu|                []|                        Person|              n78068527|        lc-names|\n",
      "|Unidentifiable|                  []|          King, John|      Person|     xsmvk7e7|                []|                        Person|             king, john|   label-derived|\n",
      "|Unidentifiable|    [{former owner}]|Fallaize, Edwin N...|      Person|     ceajz8x7|                []|                        Person|   fallaize, edwin n...|   label-derived|\n",
      "|Unidentifiable|                  []|Probst, Christian...|      Person|     tcw4akp6|                []|                        Person|              n93074893|        lc-names|\n",
      "|Unidentifiable|                  []|Folger Shakespear...|Organisation|     cetey66g|                []|                  Organisation|   folger shakespear...|   label-derived|\n",
      "|Unidentifiable|                  []|Shakespeare Assoc...|Organisation|     bbsu4njv|                []|                  Organisation|   shakespeare assoc...|   label-derived|\n",
      "|Unidentifiable|                  []|Plaz, Anton Wilhe...|      Person|     ud2mcwvm|                []|                        Person|             nr95014741|        lc-names|\n",
      "|Unidentifiable|                  []|Sociedad de Benef...|Organisation|     w7cbrsnd|                []|                  Organisation|              n85385545|        lc-names|\n",
      "|Unidentifiable|    [{photographer}]|        Tharan, Paul|      Person|     jgnyjxzd|                []|                        Person|           tharan, paul|   label-derived|\n",
      "|Unidentifiable|    [{former owner}]|     Gardiner, James|      Person|     w7yp9m3v|                []|                        Person|              n87902621|        lc-names|\n",
      "|Unidentifiable|                  []|   Brace, C. Loring.|      Person|     zjd6vf2t|                []|                        Person|              n78093392|        lc-names|\n",
      "|Unidentifiable|                  []|  Metress, Seamus P.|      Person|     wzuzxd5b|                []|                        Person|              n79128303|        lc-names|\n",
      "|Unidentifiable|                  []|Duhring, Louis A....|      Person|     qx2jp6ht|                []|                        Person|              n00077042|        lc-names|\n",
      "|Unidentifiable|                  []|   Pétronius Arbiter|      Person|     kkxtd8p9|                []|                        Person|      petronius arbiter|   label-derived|\n",
      "|Unidentifiable|        [{zinester}]|       Searle, Clara|      Person|     x5fe6p8m|                []|                        Person|          searle, clara|   label-derived|\n",
      "|Unidentifiable|[{commissioning b...|Arts & Humanities...|Organisation|     vn9m2ahq|                []|                  Organisation|   arts & humanities...|   label-derived|\n",
      "|Unidentifiable|[{host institution}]| Wellcome Collection|Organisation|     nr9h6q3r|                []|                  Organisation|   wellcome collection,|   label-derived|\n",
      "|Unidentifiable|                  []|Barbeyrac, Jean, ...|      Person|     pj92w7vq|                []|                        Person|              n86013621|        lc-names|\n",
      "|Unidentifiable|                  []|Electronic Enligh...|Organisation|     fnavsdwr|                []|                  Organisation|   electronic enligh...|   label-derived|\n",
      "|Unidentifiable|                  []|Solinus, C. Juliu...|      Person|     cvpwut5n|                []|                        Person|   solinus, c. juliu...|   label-derived|\n",
      "|Unidentifiable|                  []|Casas, Cristobal ...|      Person|     pmhjky8u|                []|                        Person|              n90672772|        lc-names|\n",
      "|Unidentifiable|                  []|   Wellcome Library.|Organisation|     m5y9bsmy|                []|                  Organisation|           no2006065766|        lc-names|\n",
      "|Unidentifiable|                  []|Hewer, Evelyn E. ...|      Person|     f9erdca7|                []|                        Person|   hewer, evelyn e. ...|   label-derived|\n",
      "|Unidentifiable|                  []|   Bradbury, Savile.|      Person|     hv5aaynv|                []|                        Person|              n50042907|        lc-names|\n",
      "|Unidentifiable|                  []|        Pines, Maya.|      Person|     h3bsunsh|                []|                        Person|              n79023228|        lc-names|\n",
      "|Unidentifiable|                  []|Howard Hughes Med...|Organisation|     y5f9n8rq|                []|                  Organisation|              n85386870|        lc-names|\n",
      "|Unidentifiable|                  []|Yeovil (England)....|Organisation|     d4hk5b7z|                []|                  Organisation|   yeovil (england)....|   label-derived|\n",
      "|Unidentifiable|                  []|       Hartson, Hall|      Person|     ynrkbywn|                []|                        Person|          hartson, hall|   label-derived|\n",
      "|Unidentifiable|                  []|Galton, Sir Dougl...|      Person|     ht23xnvd|                []|                        Person|   galton, sir dougl...|   label-derived|\n",
      "|Unidentifiable|[{data contributor}]|Royal College of ...|Organisation|     v34xt6v9|                []|                  Organisation|              n50043077|        lc-names|\n",
      "|Unidentifiable|                  []|      Stirry, Thomas|      Person|     k8ncynj5|                []|                        Person|             nr95031939|        lc-names|\n",
      "|Unidentifiable|                  []|Welsh Manuscripts...|      Person|     xssnzwqv|                []|                        Person|   welsh manuscripts...|   label-derived|\n",
      "|Unidentifiable|                  []|Williams, John, a...|      Person|     akh84b64|                []|                        Person|   williams, john, a...|   label-derived|\n",
      "|Unidentifiable|                  []|Pughe, John, 1815...|      Person|     tmevxx7h|                []|                        Person|              n88125733|        lc-names|\n",
      "|Unidentifiable|[{data contributor}]|Royal College of ...|Organisation|     w3d7f23y|                []|                  Organisation|              n82024440|        lc-names|\n",
      "|Unidentifiable|                  []|Bear, Greg, 1951-...|      Person|     p7sp7vpw|                []|                        Person|              n82118842|        lc-names|\n",
      "|Unidentifiable|                  []|     Nijhuis, Karin.|      Person|     yq2kxhxj|                []|                        Person|         nijhuis, karin|   label-derived|\n",
      "|Unidentifiable|                  []|Vicentini, Filandro.|      Person|     cx9cxwz3|                []|                        Person|    vicentini, filandro|   label-derived|\n",
      "|Unidentifiable|                  []|      Stutter, E. J.|      Person|     yeh5snac|                []|                        Person|          stutter, e. j|   label-derived|\n",
      "|Unidentifiable|                  []|         Saieghi, E.|      Person|     eug62tx3|                []|                        Person|             saieghi, e|   label-derived|\n",
      "|Unidentifiable|[{data contributor}]|University of Lee...|Organisation|     qu7wk6cj|                []|                  Organisation|             no90027604|        lc-names|\n",
      "|Unidentifiable|                  []|Cartwright, Lisa,...|      Person|     ru6k8k2z|                []|                        Person|              n94066637|        lc-names|\n",
      "|Unidentifiable|                  []|      Mason, William|      Person|     cen8spwy|                []|                        Person|         mason, william|   label-derived|\n",
      "|Unidentifiable|                  []|       Neuss, Erich.|      Person|     tjn5awm7|                []|                        Person|              n83034115|        lc-names|\n",
      "|Unidentifiable|                  []|International Soc...|Organisation|     vb7nrfem|                []|                  Organisation|              n50037250|        lc-names|\n",
      "|Unidentifiable|                  []|Brown, Lester R. ...|      Person|     eca4yhcu|                []|                        Person|              n79091334|        lc-names|\n",
      "|Unidentifiable|                  []|       Taylor, Peter|       Agent|     kqnpmj56|                []|                         Agent|          taylor, peter|   label-derived|\n",
      "|Unidentifiable|                  []|         Jobin Yvon.|Organisation|     e8qemyd4|                []|                  Organisation|             jobin yvon|   label-derived|\n",
      "|Unidentifiable|                  []|Glen Spectra Limi...|Organisation|     axp8pm22|                []|                  Organisation|   glen spectra limited|   label-derived|\n",
      "|Unidentifiable|                  []|       Horiba Group.|Organisation|     y8btcr3w|                []|                  Organisation|           horiba group|   label-derived|\n",
      "|Unidentifiable|                  []|    Paterson, Samuel|      Person|     g89ns2tx|                []|                        Person|       paterson, samuel|   label-derived|\n",
      "|Unidentifiable|                  []|Dioscorides Pedan...|      Person|     mcsyrr4k|                []|                        Person|   dioscorides pedan...|   label-derived|\n",
      "|Unidentifiable|                  []|Ruel, Jean, 1474-...|      Person|     mz7fyugc|                []|                        Person|   ruel, jean, 1474-...|   label-derived|\n",
      "|Unidentifiable|                  []|   Wellcome Library.|Organisation|     m5y9bsmy|                []|                  Organisation|           no2006065766|        lc-names|\n",
      "|Unidentifiable|                  []|  Brown, June Gibbs.|      Person|     nu82m2ew|                []|                        Person|      brown, june gibbs|   label-derived|\n",
      "|Unidentifiable|                  []|United States. De...|Organisation|     mj3nu6np|                []|                  Organisation|              n82018604|        lc-names|\n",
      "|Unidentifiable|                  []|Devèze, Jean, 175...|      Person|     tz4qep6d|                []|                        Person|              n85009094|        lc-names|\n",
      "|Unidentifiable|                  []|Fulham (London, E...|Organisation|     emy9vsce|                []|                  Organisation|   fulham (london, e...|   label-derived|\n",
      "|Unidentifiable|                  []|Jackson, J. Charles.|      Person|     adsmjuwn|                []|                        Person|    jackson, j. charles|   label-derived|\n",
      "|Unidentifiable|                  []|Meissner, Georg, ...|      Person|     k4rg8k27|                []|                        Person|           no2008162584|        lc-names|\n",
      "|Unidentifiable|[{data contributor}]|Francis A. Countw...|Organisation|     szxgyp8p|                []|                  Organisation|              n83030968|        lc-names|\n",
      "|Unidentifiable|                  []|      Thomson, A. L.|      Person|     rr7h2dmy|                []|                        Person|          thomson, a. l|   label-derived|\n",
      "|Unidentifiable|                  []|Institute of Publ...|Organisation|     tchpdc4n|                []|                  Organisation|   institute of publ...|   label-derived|\n",
      "|Unidentifiable|                  []|       Hirst, Derek.|      Person|     mnu2wh2f|                []|                        Person|              n85155838|        lc-names|\n",
      "|Unidentifiable|                  []|   Glick, Bernard R.|      Person|     hw36rj63|                []|                        Person|              n92119197|        lc-names|\n",
      "|Unidentifiable|                  []|  Pasternak, Jack J.|      Person|     jnyjdss4|                []|                        Person|              n94012908|        lc-names|\n",
      "|Unidentifiable|          [{author}]|       Cadet, Akilah|      Person|     m9sn5bj2|                []|                        Person|          cadet, akilah|   label-derived|\n",
      "|Unidentifiable|                  []|Economic Developm...|Organisation|     eafny2yc|                []|                  Organisation|              n50030416|        lc-names|\n",
      "|Unidentifiable|                  []|       Cobley, John.|      Person|     bu68axwf|                []|                        Person|              n90704093|        lc-names|\n",
      "|Unidentifiable|                  []|   Bensaude, Alfred.|      Person|     kus4catt|                []|                        Person|       bensaude, alfred|   label-derived|\n",
      "|Unidentifiable|                  []|Barrow-in-Furness...|Organisation|     ny9r54k8|                []|                  Organisation|   barrow-in-furness...|   label-derived|\n",
      "|Unidentifiable|                  []|Burton, Robert, 1...|      Person|     xgqvm8ph|                []|                        Person|              n50033773|        lc-names|\n",
      "|Unidentifiable|                  []|         Fall, James|      Person|     erfka5vf|                []|                        Person|            fall, james|   label-derived|\n",
      "|Unidentifiable|                  []|Boccaccio, Giovan...|      Person|     mxpedvsq|                []|                        Person|   boccaccio, giovan...|   label-derived|\n",
      "|Unidentifiable|                  []|     Rovesti, Guido.|      Person|     wr2g9wbe|                []|                        Person|              n85824557|        lc-names|\n",
      "|Unidentifiable|                  []|Fischer-Rizzi, Su...|       Agent|     pex5hrtw|                []|                         Agent|              n90713901|        lc-names|\n",
      "|Unidentifiable|                  []|      Tortora, Heli.|      Person|     w3jp4erz|                []|                        Person|          tortora, heli|   label-derived|\n",
      "|Unidentifiable|                  []|Ringwood and Ford...|Organisation|     vr66eedf|                []|                  Organisation|   ringwood and ford...|   label-derived|\n",
      "|Unidentifiable|                  []|       McWhirter, R.|      Person|     cxnfkfmf|                []|                        Person|           mcwhirter, r|   label-derived|\n",
      "|Unidentifiable|                  []|Royal College of ...|Organisation|     w3d7f23y|                []|                  Organisation|              n82024440|        lc-names|\n",
      "|Unidentifiable|                  []|Health Education ...|Organisation|     eh795aww|                []|                  Organisation|              n87859112|        lc-names|\n",
      "|Unidentifiable|                  []|Li Jianyuan (Ming...|       Agent|     d6fc9jyz|                []|                         Agent|   li jianyuan (ming...|   label-derived|\n",
      "|Unidentifiable|                  []| Kesteven, W. Henry.|      Person|     yduct59r|                []|                        Person|     kesteven, w. henry|   label-derived|\n",
      "|Unidentifiable|                  []|     Rohner, Adrien.|      Person|     xtksncta|                []|                        Person|              n90718303|        lc-names|\n",
      "|Unidentifiable|                  []|Schweizerische Ge...|Organisation|     hmytaya2|                []|                  Organisation|              n90718308|        lc-names|\n",
      "|Unidentifiable|                  []|Tarvin (England)....|Organisation|     casx5peh|                []|                  Organisation|   tarvin (england)....|   label-derived|\n",
      "|Unidentifiable|                  []|     Sichel, Arthur.|      Person|     pd53y7zd|                []|                        Person|         sichel, arthur|   label-derived|\n",
      "|Unidentifiable|[{data contributor}]|Francis A. Countw...|Organisation|     szxgyp8p|                []|                  Organisation|              n83030968|        lc-names|\n",
      "|Unidentifiable|                  []|     Hyslop, Anthea.|      Person|     h76fnpg5|                []|                        Person|              n89665289|        lc-names|\n",
      "|Unidentifiable|                  []|   Krupinski, Jerzy.|      Person|     bvjjxqnj|                []|                        Person|              n50047940|        lc-names|\n",
      "|Unidentifiable|                  []|    Mackenzie, Alan.|      Person|     nwg3rrhz|                []|                        Person|              n80039430|        lc-names|\n",
      "|Unidentifiable|                  []|O'Connell, Bernad...|      Person|     r67cuqw7|                []|                        Person|   o'connell, bernad...|   label-derived|\n",
      "|Unidentifiable|                  []|Mental Health Res...|Organisation|     ygbxtuu8|                []|                  Organisation|              n85023569|        lc-names|\n",
      "|Unidentifiable|                  []|                Lady|      Person|     ny4b3u6k|                []|                        Person|                   lady|   label-derived|\n",
      "|Unidentifiable|                  []|         Lee, Arthur|      Person|     eu3q4jnj|                []|                        Person|            lee, arthur|   label-derived|\n",
      "|Unidentifiable|                  []|Böcker, Friedrich...|      Person|     ngj8gmvn|                []|                        Person|   bocker, friedrich...|   label-derived|\n",
      "|Unidentifiable|[{data contributor}]|Harvey Cushing/Jo...|Organisation|     vu7jh4th|                []|                  Organisation|             nr96028927|        lc-names|\n",
      "|Unidentifiable|                  []|     Pseudo-Galenus.|      Person|     ch4dx5r2|                []|                        Person|              n79059644|        lc-names|\n",
      "|Unidentifiable|                  []|Edlow, Robert Blair.|      Person|     p6yxbj7a|                []|                        Person|           no2005056696|        lc-names|\n",
      "|Unidentifiable|                  []|Rowlands, Gwyneth...|       Agent|     j2mc4amv|                []|                         Agent|   rowlands, gwyneth...|   label-derived|\n",
      "|Unidentifiable|                  []|National Society ...|Organisation|     g6g8vnz9|                []|                  Organisation|   national society ...|   label-derived|\n",
      "|Unidentifiable|                  []|        Smith, Jane.|      Person|     pm4t6nup|                []|                        Person|              n93803718|        lc-names|\n",
      "|Unidentifiable|                  []|Dronamraju, Krish...|      Person|     t9bdsqv4|                []|                        Person|              n85363628|        lc-names|\n",
      "|Unidentifiable|                  []|Goya, Francisco, ...|      Person|     tdrd25w9|                []|                        Person|              n79003363|        lc-names|\n",
      "|Unidentifiable|                  []|Cambridge (Englan...|Organisation|     ykbc9qhu|                []|                  Organisation|   cambridge (englan...|   label-derived|\n",
      "|Unidentifiable|                  []|Barnet (London, E...|Organisation|     ucbzwzup|                []|                  Organisation|   barnet (london, e...|   label-derived|\n",
      "|Unidentifiable|                  []|Harris, Benjamin,...|      Person|     gatd683q|                []|                        Person|              n84233876|        lc-names|\n",
      "|Unidentifiable|                  []|Frazee, L. J. (Lo...|      Person|     s95ry56f|                []|                        Person|   frazee, l. j. (lo...|   label-derived|\n",
      "|Unidentifiable|[{data contributor}]|National Library ...|Organisation|     ayqxhwv8|                []|                  Organisation|              n80044831|        lc-names|\n",
      "|Unidentifiable|                  []|          Du Fresnoy|      Person|     hmztz2yq|                []|                        Person|             du fresnoy|   label-derived|\n",
      "+--------------+--------------------+--------------------+------------+-------------+------------------+------------------------------+-----------------------+----------------+\n",
      "only showing top 200 rows\n",
      "\n",
      "Distinct count 430089\n",
      "Distinct count without CanonicalId 410679\n"
     ]
    }
   ],
   "source": [
    "# Select document fields without the top-level \"document\" field\n",
    "contributors_df = (\n",
    "    spark.table(\"es_works_denormalised\")\n",
    "    .select(\"document.data.*\")\n",
    "    .select(F.explode(\"contributors\")).select(\"col.*\")\n",
    "    .select(F.col(\"id.type\").alias(\"idType\"), F.col(\"roles\"), \"agent.*\")\n",
    "    .select(\"*\", F.col(\"id.canonicalId\").alias(\"idCanonicalId\"), F.col(\"id.otherIdentifiers\").alias(\"idOtherIdentifiers\"), F.col(\"id.sourceIdentifier\").alias(\"idSourceIdentifier\")).drop(\"id\")\n",
    "    .select(\"*\",\n",
    "        F.col(\"idSourceIdentifier.ontologyType\").alias(\"idSourceIdentifierOntologyType\"), \n",
    "        F.col(\"idSourceIdentifier.value\").alias(\"idSourceIdentifierValue\"), \n",
    "        F.col(\"idSourceIdentifier.identifierType.id\").alias(\"identifierTypeId\")\n",
    "        ).drop(\"idSourceIdentifier\", \"identifierType\")\n",
    ")\n",
    "\n",
    "contributors_df.show(200, truncate=True)\n",
    "print(\"Distinct count\", contributors_df.distinct().count())\n",
    "print(\"Distinct count without CanonicalId\",\n",
    "      contributors_df.dropDuplicates([\"label\", \"type\"]).count())"
   ]
  },
  {
   "cell_type": "code",
   "execution_count": 10,
   "id": "696312ee",
   "metadata": {},
   "outputs": [
    {
     "name": "stderr",
     "output_type": "stream",
     "text": [
      "[Stage 37:================================================>       (55 + 9) / 64]\r"
     ]
    },
    {
     "name": "stdout",
     "output_type": "stream",
     "text": [
      "+----------------+------+\n",
      "|identifierTypeId|count |\n",
      "+----------------+------+\n",
      "|lc-names        |622347|\n",
      "|label-derived   |521312|\n",
      "|nlm-mesh        |984   |\n",
      "|fihrist         |298   |\n",
      "|viaf            |281   |\n",
      "+----------------+------+\n",
      "\n"
     ]
    },
    {
     "name": "stderr",
     "output_type": "stream",
     "text": [
      "                                                                                \r"
     ]
    }
   ],
   "source": [
    "contributors_df.groupBy(\"identifierTypeId\").count().orderBy(\"count\", ascending=False).show(50, truncate=False)"
   ]
  },
  {
   "cell_type": "code",
   "execution_count": 9,
   "id": "e303b59e",
   "metadata": {},
   "outputs": [
    {
     "name": "stderr",
     "output_type": "stream",
     "text": [
      "[Stage 34:=================================================>      (56 + 8) / 64]\r"
     ]
    },
    {
     "name": "stdout",
     "output_type": "stream",
     "text": [
      "+------------+------+\n",
      "|type        |count |\n",
      "+------------+------+\n",
      "|Person      |807667|\n",
      "|Organisation|294505|\n",
      "|Agent       |34662 |\n",
      "|Meeting     |7002  |\n",
      "|Place       |1326  |\n",
      "|Concept     |60    |\n",
      "+------------+------+\n",
      "\n"
     ]
    },
    {
     "name": "stderr",
     "output_type": "stream",
     "text": [
      "                                                                                \r"
     ]
    }
   ],
   "source": [
    "contributors_df.groupBy(\"type\").count().orderBy(\"count\", ascending=False).show(50, truncate=False)"
   ]
  },
  {
   "cell_type": "code",
   "execution_count": 67,
   "id": "05914029",
   "metadata": {},
   "outputs": [
    {
     "name": "stdout",
     "output_type": "stream",
     "text": [
      "+--------------+------------+-----------------------------------------------------------------------------------------------------------+------------+-------------+------------------+------------------------------+-----------------------+----------------+\n",
      "|idType        |roles       |label                                                                                                      |type        |idCanonicalId|idOtherIdentifiers|idSourceIdentifierOntologyType|idSourceIdentifierValue|identifierTypeId|\n",
      "+--------------+------------+-----------------------------------------------------------------------------------------------------------+------------+-------------+------------------+------------------------------+-----------------------+----------------+\n",
      "|Unidentifiable|[]          |Lupton, James Irvine. Diseases of cattle, sheep, and pigs.                                                 |Agent       |f8jxmwvp     |[]                |Agent                         |nr2004012894           |nlm-mesh        |\n",
      "|Unidentifiable|[]          |Maimonides, Moses, 1135-1204. Maqālah fī al-rabw. English.                                                 |Agent       |sm955jjv     |[]                |Agent                         |n84806501              |nlm-mesh        |\n",
      "|Unidentifiable|[]          |Maimonides, Moses, 1135-1204. Maqālah fī al-rabw. Arabic.                                                  |Agent       |fvu6pthb     |[]                |Agent                         |n78096039              |nlm-mesh        |\n",
      "|Unidentifiable|[]          |Landré, Christophe. Haussartzney                                                                           |Agent       |w9n8yugv     |[]                |Agent                         |nr94020544             |nlm-mesh        |\n",
      "|Unidentifiable|[]          |Rosén von Rosenstein, Nils, 1706-1773. Dissertatio medica, de variolis praecavendis.                       |Agent       |dtzp4w3h     |[]                |Agent                         |n82060382              |nlm-mesh        |\n",
      "|Unidentifiable|[]          |Rosén von Rosenstein, Nils, 1706-1773. Dissertatio medica, de variolis curandis.                           |Agent       |dtzp4w3h     |[]                |Agent                         |n82060382              |nlm-mesh        |\n",
      "|Unidentifiable|[]          |Rosén von Rosenstein, Nils, 1706-1773. Dissertatio medica de epilepsia infantili.                          |Agent       |dtzp4w3h     |[]                |Agent                         |n82060382              |nlm-mesh        |\n",
      "|Unidentifiable|[]          |Rosén von Rosenstein, Nils, 1706-1773. Dissertationis medicae, de morbis infantum.                         |Agent       |dtzp4w3h     |[]                |Agent                         |n82060382              |nlm-mesh        |\n",
      "|Unidentifiable|[]          |Tripāṭhī, Indradeva, 1923- Mañjulā.                                                                        |Agent       |sbx529r5     |[]                |Agent                         |n84191641              |nlm-mesh        |\n",
      "|Unidentifiable|[]          |Beck, Jakob, active 18th century-19th century. Zivḥe shelamim. German.                                     |Agent       |hr2wjhzf     |[]                |Agent                         |nr96015362             |nlm-mesh        |\n",
      "|Unidentifiable|[]          |Beck, Jakob, active 18th century-19th century. Zivḥe shelamim. Hebrew.                                     |Agent       |hr2wjhzf     |[]                |Agent                         |nr96015362             |nlm-mesh        |\n",
      "|Unidentifiable|[]          |Great Britain. Parliament. House of Commons.                                                               |Organisation|j8jncp4g     |[]                |Organisation                  |n79113783              |nlm-mesh        |\n",
      "|Unidentifiable|[{producer}]|Institute of Ophthalmology (London, England)                                                               |Organisation|s4ajuxpw     |[]                |Organisation                  |n84201754              |nlm-mesh        |\n",
      "|Unidentifiable|[]          |Library of the Surgeon-General's Office (U.S.)                                                             |Organisation|tnfen54s     |[]                |Organisation                  |n82088405              |nlm-mesh        |\n",
      "|Unidentifiable|[]          |Miśra, Gularāja Śarmā, 1910- Suvivr̥tti.                                                                   |Agent       |fct2fshd     |[]                |Agent                         |n88193613              |nlm-mesh        |\n",
      "|Unidentifiable|[]          |Śarmā, Santoṣakumāra. Suvivr̥tti.                                                                          |Agent       |rmgmvsxz     |[]                |Agent                         |n89261581              |nlm-mesh        |\n",
      "|Unidentifiable|[]          |Royal College of Physicians of London. Pharmacopoeia Londinensis.                                          |Organisation|db7kfw2h     |[]                |Organisation                  |n84134393              |nlm-mesh        |\n",
      "|Unidentifiable|[]          |Royal College of Physicians of Edinburgh. Pharmacopoeia.                                                   |Organisation|z4sqb3wh     |[]                |Organisation                  |n82024440              |nlm-mesh        |\n",
      "|Unidentifiable|[]          |École de médecine de Montpellier.                                                                          |Organisation|j95k6xjf     |[]                |Organisation                  |n82205808              |nlm-mesh        |\n",
      "|Unidentifiable|[]          |Hawelka, Elza Ribeiro.                                                                                     |Person      |kd7kaecu     |[]                |Person                        |no2003077803           |nlm-mesh        |\n",
      "|Unidentifiable|[]          |Galen. Subfiguratio emperica. German.                                                                      |Agent       |ng3tenqk     |[]                |Agent                         |n86045950              |nlm-mesh        |\n",
      "|Unidentifiable|[]          |Dyer, William, -1696. Great day of Gods wrath                                                              |Agent       |x4z5e74b     |[]                |Agent                         |n85009144              |nlm-mesh        |\n",
      "|Unidentifiable|[]          |Śivānanda. R̥juvimarśinī                                                                                   |Agent       |v9zh9hrj     |[]                |Agent                         |n87874527              |nlm-mesh        |\n",
      "|Unidentifiable|[]          |Vidyānanda. Artharatnāvalī                                                                                 |Agent       |mtqdfckz     |[]                |Agent                         |n87874528              |nlm-mesh        |\n",
      "|Unidentifiable|[{donor}]   |DrugScope (Organization)                                                                                   |Organisation|jbycf7jf     |[]                |Organisation                  |nb2005005340           |nlm-mesh        |\n",
      "|Unidentifiable|[{producer}]|Institute of Ophthalmology (London, England)                                                               |Organisation|s4ajuxpw     |[]                |Organisation                  |n84201754              |nlm-mesh        |\n",
      "|Unidentifiable|[]          |Universities Federation for Animal Welfare.                                                                |Organisation|b4azqxbm     |[]                |Organisation                  |n50082374              |nlm-mesh        |\n",
      "|Unidentifiable|[]          |Hampson, Mary, 1639-1698. Plain and compendious relation of the case of Mrs. Mary Hampson.                 |Agent       |n2utp8tx     |[]                |Agent                         |no2013103585           |nlm-mesh        |\n",
      "|Unidentifiable|[]          |Turner, William, -1568. Booke of the natures and properties as well of the bathes in England.              |Agent       |kneba6xf     |[]                |Agent                         |n85816781              |nlm-mesh        |\n",
      "|Unidentifiable|[]          |Teixeira, Luiz Antonio. História e cultura da medicina no Brasil.                                          |Agent       |a8nw82j8     |[]                |Agent                         |n94900144              |nlm-mesh        |\n",
      "|Unidentifiable|[]          |Teixeira, Luiz Antonio. História e cultura da medicina no Brasil. English.                                 |Agent       |a8nw82j8     |[]                |Agent                         |n94900144              |nlm-mesh        |\n",
      "|Unidentifiable|[]          |Jean, de Tournemire, approximately 1330-approximately 1396. Introductorium ad practicam medicinae.         |Agent       |uusgwbyd     |[]                |Agent                         |n85313133              |nlm-mesh        |\n",
      "|Unidentifiable|[]          |Parke-Bernet Galleries. Celebrated collection of Americana formed by the late Thomas Winthrop Streeter.    |Organisation|hqvycuv8     |[]                |Organisation                  |n81107854              |nlm-mesh        |\n",
      "|Unidentifiable|[]          |Dioscorides Pedanius, of Anazarbos. De materia medica.                                                     |Agent       |duv7p2pw     |[]                |Agent                         |n84803622              |nlm-mesh        |\n",
      "|Unidentifiable|[]          |Sheldan, Moreah, 1930- Poems                                                                               |Agent       |usvcayen     |[]                |Agent                         |n2001035284            |nlm-mesh        |\n",
      "|Unidentifiable|[]          |University of Aberdeen.                                                                                    |Organisation|zdr5q4fw     |[]                |Organisation                  |n79129623              |nlm-mesh        |\n",
      "|Unidentifiable|[]          |Ibn al-Aʻrābī, Muḥammad ibn Ziyād, 767-846? Asmāʼ khayl al-ʻArab wa-fursānih                               |Agent       |m6mvdpfz     |[]                |Agent                         |n85091880              |nlm-mesh        |\n",
      "|Unidentifiable|[]          |California State University, San Bernardino.                                                               |Organisation|dv4p9e9a     |[]                |Organisation                  |n85138638              |nlm-mesh        |\n",
      "|Unidentifiable|[]          |Hippocrates. Coa praesagia. Latin                                                                          |Agent       |z5d67pcj     |[]                |Agent                         |n2001020747            |nlm-mesh        |\n",
      "|Unidentifiable|[]          |Hippocrates. Prognostics. French                                                                           |Agent       |wz2exkxm     |[]                |Agent                         |no2014006999           |nlm-mesh        |\n",
      "|Unidentifiable|[]          |Cakrapāṇidatta. Cakradatta. Hindi.                                                                         |Agent       |u3u87yqb     |[]                |Agent                         |n95066373              |nlm-mesh        |\n",
      "|Unidentifiable|[]          |Cakrapāṇidatta. Cakradatta. Sanskrit.                                                                      |Agent       |u3u87yqb     |[]                |Agent                         |n95066373              |nlm-mesh        |\n",
      "|Unidentifiable|[]          |Vājapeyi, Jagannāthaśarma. Subodhinī.                                                                      |Agent       |wqz4xpbj     |[]                |Agent                         |n90706173              |nlm-mesh        |\n",
      "|Unidentifiable|[]          |Comité consultatif d'hygiène publique de France.                                                           |Organisation|htfmrbtp     |[]                |Organisation                  |no2009083776           |nlm-mesh        |\n",
      "|Unidentifiable|[]          |Arcaeus, Franciscus, 1493-1573? De febrium curandorum ratione. Spanish.                                    |Agent       |updxdyr5     |[]                |Agent                         |nr93000166             |nlm-mesh        |\n",
      "|Unidentifiable|[]          |Arcaeus, Franciscus, 1493-1573? De febrium curandorum ratione. Latin.                                      |Agent       |updxdyr5     |[]                |Agent                         |nr93000166             |nlm-mesh        |\n",
      "|Unidentifiable|[]          |Sābūr ibn Sahl, -869. Aqrābādhīn Sābūr ʻalá nuskhat al-Bīmāristān al-ʻAḍudī. English                       |Agent       |xjp86tsd     |[]                |Agent                         |n93116303              |nlm-mesh        |\n",
      "|Unidentifiable|[]          |Sābūr ibn Sahl, -869. Aqrābādhīn Sābūr ʻalá nuskhat al-Bīmāristān al-ʻAḍudī. Arabic                        |Agent       |xjp86tsd     |[]                |Agent                         |n93116303              |nlm-mesh        |\n",
      "|Unidentifiable|[]          |Thudichum, J. L. W. (John Louis William), 1829-1901. Alcoholic drinks.                                     |Agent       |cgmsxun3     |[]                |Agent                         |n85826831              |nlm-mesh        |\n",
      "|Unidentifiable|[]          |Thudichum, J. L. W. (John Louis William), 1829-1901. Aesthetical use of wine and its influence upon health.|Agent       |cgmsxun3     |[]                |Agent                         |n85826831              |nlm-mesh        |\n",
      "+--------------+------------+-----------------------------------------------------------------------------------------------------------+------------+-------------+------------------+------------------------------+-----------------------+----------------+\n",
      "only showing top 50 rows\n",
      "\n"
     ]
    }
   ],
   "source": [
    "contributors_df.select( \"*\").where(F.col(\"identifierTypeId\")\n",
    "                       == \"nlm-mesh\").show(50, truncate=False)"
   ]
  },
  {
   "cell_type": "code",
   "execution_count": 14,
   "id": "ca91b13f",
   "metadata": {},
   "outputs": [
    {
     "name": "stdout",
     "output_type": "stream",
     "text": [
      "+--------------+--------------------+--------------------------------------------------------------------+------------+-------------+------------------+------------------------------+-----------------------+----------------+\n",
      "|idType        |roles               |label                                                               |type        |idCanonicalId|idOtherIdentifiers|idSourceIdentifierOntologyType|idSourceIdentifierValue|identifierTypeId|\n",
      "+--------------+--------------------+--------------------------------------------------------------------+------------+-------------+------------------+------------------------------+-----------------------+----------------+\n",
      "|Unidentifiable|[]                  |Riley, Charles V. (Charles Valentine), 1843-1895.                   |Person      |egfwgb93     |[]                |Person                        |n91097955              |lc-names        |\n",
      "|Unidentifiable|[]                  |University of Michigan.                                             |Organisation|yytj83tc     |[]                |Organisation                  |n79021846              |lc-names        |\n",
      "|Unidentifiable|[]                  |Wellcome Library.                                                   |Organisation|m5y9bsmy     |[]                |Organisation                  |no2006065766           |lc-names        |\n",
      "|Unidentifiable|[]                  |Cunliffe, Barry W.                                                  |Person      |f3xx5vxt     |[]                |Person                        |n79059942              |lc-names        |\n",
      "|Unidentifiable|[]                  |Wong, James.                                                        |Person      |dajbruq7     |[]                |Person                        |n2015007110            |lc-names        |\n",
      "|Unidentifiable|[]                  |Wellcome Library.                                                   |Organisation|m5y9bsmy     |[]                |Organisation                  |no2006065766           |lc-names        |\n",
      "|Unidentifiable|[]                  |Page, Irvine H. (Irvine Heinly), 1901-1991.                         |Person      |jbbd8dde     |[]                |Person                        |n85217668              |lc-names        |\n",
      "|Unidentifiable|[]                  |Marmont, A. M. (Alberto M.)                                         |Person      |z6zhf6cd     |[]                |Person                        |n88638737              |lc-names        |\n",
      "|Unidentifiable|[]                  |Wirsung, Christof, 1500?-1571                                       |Person      |gtr35ef8     |[]                |Person                        |n86835528              |lc-names        |\n",
      "|Unidentifiable|[]                  |Mosan, Jacob                                                        |Person      |je9xfe6q     |[]                |Person                        |nr92010922             |lc-names        |\n",
      "|Unidentifiable|[]                  |Valentinuzzi, Max E., 1932-                                         |Person      |q25um295     |[]                |Person                        |no2005034122           |lc-names        |\n",
      "|Unidentifiable|[]                  |Garreau, J. B. P. F. (Jean Baptiste Pierre François)                |Person      |v6n88u52     |[]                |Person                        |n2002067660            |lc-names        |\n",
      "|Unidentifiable|[{data contributor}]|Royal College of Surgeons of England                                |Organisation|v34xt6v9     |[]                |Organisation                  |n50043077              |lc-names        |\n",
      "|Unidentifiable|[{data contributor}]|Royal College of Surgeons of England                                |Organisation|v34xt6v9     |[]                |Organisation                  |n50043077              |lc-names        |\n",
      "|Unidentifiable|[]                  |Kaposi, Moriz, 1837-1902.                                           |Person      |ba84jpcc     |[]                |Person                        |n89662662              |lc-names        |\n",
      "|Unidentifiable|[]                  |Magalhães, João Jacinto de, 1722-1790                               |Person      |mawjtpu4     |[]                |Person                        |n82111341              |lc-names        |\n",
      "|Unidentifiable|[]                  |Gesellschaft Deutscher Chemiker. Fachgruppe \"Geschichte der Chemie.\"|Organisation|jw6ctpdn     |[]                |Organisation                  |n00010257              |lc-names        |\n",
      "|Unidentifiable|[]                  |Tyndall, John, 1820-1893.                                           |Person      |sv2xcsn8     |[]                |Person                        |n79139759              |lc-names        |\n",
      "|Unidentifiable|[{data contributor}]|Royal College of Physicians of Edinburgh                            |Organisation|w3d7f23y     |[]                |Organisation                  |n82024440              |lc-names        |\n",
      "|Unidentifiable|[]                  |Gataker, Thomas, 1574-1654                                          |Person      |h43wqac2     |[]                |Person                        |n83122613              |lc-names        |\n",
      "|Unidentifiable|[]                  |Adams, George, 1750-1795                                            |Person      |hbh43f34     |[]                |Person                        |n84213407              |lc-names        |\n",
      "|Unidentifiable|[{former owner}]    |Clark, Andrew, 1826-1893                                            |Person      |jhnmxzdb     |[]                |Person                        |no2007152870           |lc-names        |\n",
      "|Unidentifiable|[{data contributor}]|Royal College of Physicians of London                               |Organisation|jr796kxd     |[]                |Organisation                  |n80046799              |lc-names        |\n",
      "|Unidentifiable|[]                  |International Society for the History of Pharmacy.                  |Organisation|vb7nrfem     |[]                |Organisation                  |n50037250              |lc-names        |\n",
      "|Unidentifiable|[{data contributor}]|University of Glasgow. Library                                      |Organisation|k696xyaf     |[]                |Organisation                  |n86838929              |lc-names        |\n",
      "|Unidentifiable|[]                  |Steffens, Henry John.                                               |Person      |px7a95qv     |[]                |Person                        |n79007741              |lc-names        |\n",
      "|Unidentifiable|[]                  |Wellcome Library.                                                   |Organisation|m5y9bsmy     |[]                |Organisation                  |no2006065766           |lc-names        |\n",
      "|Unidentifiable|[]                  |Universität Jena.                                                   |Organisation|r4zec739     |[]                |Organisation                  |n87863371              |lc-names        |\n",
      "|Unidentifiable|[]                  |Darmstaedter, Ernst, 1877-                                          |Person      |j8ppg69y     |[]                |Person                        |no93017320             |lc-names        |\n",
      "|Unidentifiable|[]                  |Davy, Humphry, Sir, 1778-1829.                                      |Person      |zpx9sjdf     |[]                |Person                        |n79142750              |lc-names        |\n",
      "|Unidentifiable|[{publisher}]       |Bradford and Inskeep                                                |Organisation|gj3ws5a9     |[]                |Organisation                  |n79080081              |lc-names        |\n",
      "|Unidentifiable|[{publisher}]       |Inskeep and Bradford                                                |Organisation|r6hbtyu7     |[]                |Organisation                  |nr2003010783           |lc-names        |\n",
      "|Unidentifiable|[{printer}]         |T. & G. Palmer (Firm)                                               |Organisation|phh8p7ky     |[]                |Organisation                  |nr2001030309           |lc-names        |\n",
      "|Unidentifiable|[{data contributor}]|National Library of Medicine (U.S.)                                 |Organisation|ayqxhwv8     |[]                |Organisation                  |n80044831              |lc-names        |\n",
      "|Unidentifiable|[]                  |Bell, Benjamin, 1749-1806                                           |Person      |ax8gtnw2     |[]                |Person                        |n84136209              |lc-names        |\n",
      "|Unidentifiable|[]                  |Simpson, James Young, 1811-1870                                     |Person      |xna9hkhr     |[]                |Person                        |n50056894              |lc-names        |\n",
      "|Unidentifiable|[]                  |Singh, Lal Bahadur.                                                 |Person      |fxmf4rjq     |[]                |Person                        |n89277439              |lc-names        |\n",
      "|Unidentifiable|[]                  |Harvey, A. McGehee (Abner McGehee), 1911-1998.                      |Person      |bn3kpdbh     |[]                |Person                        |n79100833              |lc-names        |\n",
      "|Unidentifiable|[]                  |Ellis, Thomas S.                                                    |Person      |nh5ky8kj     |[]                |Person                        |nb2003093760           |lc-names        |\n",
      "|Unidentifiable|[{data contributor}]|Royal College of Surgeons of England                                |Organisation|v34xt6v9     |[]                |Organisation                  |n50043077              |lc-names        |\n",
      "|Unidentifiable|[]                  |Lilly, William, 1602-1681                                           |Person      |an5ruksn     |[]                |Person                        |n80087716              |lc-names        |\n",
      "|Unidentifiable|[]                  |Langermann, Johann Gottfried, 1768-1832.                            |Person      |sgqss7sr     |[]                |Person                        |no99023591             |lc-names        |\n",
      "|Unidentifiable|[{data contributor}]|Francis A. Countway Library of Medicine                             |Organisation|szxgyp8p     |[]                |Organisation                  |n83030968              |lc-names        |\n",
      "|Unidentifiable|[]                  |Humphries, Stephen.                                                 |Person      |uzjetr8n     |[]                |Person                        |n82034694              |lc-names        |\n",
      "|Unidentifiable|[]                  |Gordon, Pamela, 1965-                                               |Person      |ncezu78p     |[]                |Person                        |n91019946              |lc-names        |\n",
      "|Unidentifiable|[]                  |Mitchell, Kirstin.                                                  |Person      |getaqyyf     |[]                |Person                        |no2013003318           |lc-names        |\n",
      "|Unidentifiable|[]                  |Wellings, Kaye.                                                     |Person      |up99peda     |[]                |Person                        |no94014370             |lc-names        |\n",
      "|Unidentifiable|[]                  |Health Education Authority (Great Britain)                          |Organisation|eh795aww     |[]                |Organisation                  |n87859112              |lc-names        |\n",
      "|Unidentifiable|[]                  |Telle, Joachim.                                                     |Person      |t78gg7eu     |[]                |Person                        |n78068527              |lc-names        |\n",
      "|Unidentifiable|[]                  |Probst, Christian, 1935-                                            |Person      |tcw4akp6     |[]                |Person                        |n93074893              |lc-names        |\n",
      "+--------------+--------------------+--------------------------------------------------------------------+------------+-------------+------------------+------------------------------+-----------------------+----------------+\n",
      "only showing top 50 rows\n",
      "\n"
     ]
    }
   ],
   "source": [
    "contributors_df.select( \"*\").where(F.col(\"identifierTypeId\")\n",
    "                                   == \"lc-names\").show(50, truncate=False)"
   ]
  }
 ],
 "metadata": {
  "kernelspec": {
   "display_name": "wc-simd",
   "language": "python",
   "name": "python3"
  },
  "language_info": {
   "codemirror_mode": {
    "name": "ipython",
    "version": 3
   },
   "file_extension": ".py",
   "mimetype": "text/x-python",
   "name": "python",
   "nbconvert_exporter": "python",
   "pygments_lexer": "ipython3",
   "version": "3.10.17"
  }
 },
 "nbformat": 4,
 "nbformat_minor": 5
}
