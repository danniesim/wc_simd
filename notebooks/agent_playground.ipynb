{
 "cells": [
  {
   "cell_type": "code",
   "execution_count": null,
   "id": "0acc85de",
   "metadata": {},
   "outputs": [],
   "source": [
    "from wc_simd.llm import get_llm\n",
    "import os\n",
    "\n",
    "# Set LANGSMITH_PROJECT environment variable\n",
    "os.environ['LANGSMITH_PROJECT'] = \"agent_playground\"\n",
    "\n",
    "llm = get_llm()"
   ]
  },
  {
   "cell_type": "markdown",
   "id": "58e69c20",
   "metadata": {},
   "source": [
    "# Supervisor-style Agent"
   ]
  },
  {
   "cell_type": "code",
   "execution_count": 8,
   "id": "33c85865",
   "metadata": {},
   "outputs": [],
   "source": [
    "from langgraph_supervisor import create_supervisor\n",
    "from langgraph.prebuilt import create_react_agent\n",
    "from langchain.tools import tool\n",
    "\n",
    "# Create specialized agents\n",
    "\n",
    "@tool\n",
    "def add(a: float, b: float) -> float:\n",
    "    \"\"\"Add two numbers.\"\"\"\n",
    "    return a + b\n",
    "\n",
    "@tool\n",
    "def multiply(a: float, b: float) -> float:\n",
    "    \"\"\"Multiply two numbers.\"\"\"\n",
    "    return a * b\n",
    "\n",
    "@tool\n",
    "def web_search(query: str) -> str:\n",
    "    \"\"\"Search the web for information.\"\"\"\n",
    "    return (\n",
    "        \"Here are the headcounts for each of the FAANG companies in 2024:\\n\"\n",
    "        \"1. **Facebook (Meta)**: 67,317 employees.\\n\"\n",
    "        \"2. **Apple**: 164,000 employees.\\n\"\n",
    "        \"3. **Amazon**: 1,551,000 employees.\\n\"\n",
    "        \"4. **Netflix**: 14,000 employees.\\n\"\n",
    "        \"5. **Google (Alphabet)**: 181,269 employees.\"\n",
    "    )\n",
    "\n",
    "\n",
    "math_agent = create_react_agent(\n",
    "    model=llm,\n",
    "    tools=[add, multiply],\n",
    "    name=\"math_expert\",\n",
    "    prompt=\"You are a math expert. Always use one tool at a time.\"\n",
    ")\n",
    "\n",
    "web_search_agent = create_react_agent(\n",
    "    model=llm,\n",
    "    tools=[web_search],\n",
    "    name=\"web_search_expert\",\n",
    "    prompt=\"You are a web search expert. Do not do anything else other than web search.\"\n",
    ")\n",
    "\n",
    "# Create supervisor workflow\n",
    "workflow = create_supervisor(\n",
    "    [web_search_agent, math_agent],\n",
    "    model=llm,\n",
    "    prompt=(\n",
    "        \"You are a team supervisor managing a web search expert and a math expert. \"\n",
    "        \"For current events, use web_search_expert. \"\n",
    "        \"For math problems, use math_agent.\"\n",
    "    )\n",
    ")\n",
    "\n",
    "# Compile and run\n",
    "app = workflow.compile()"
   ]
  },
  {
   "cell_type": "code",
   "execution_count": 9,
   "id": "bd1d2fb2",
   "metadata": {},
   "outputs": [
    {
     "data": {
      "text/plain": [
       "{'messages': [HumanMessage(content=\"what's the combined headcount of the FAANG companies in 2024?\", additional_kwargs={}, response_metadata={}, id='02bea936-c5c6-435a-9a9a-0645fdaf0097'),\n",
       "  AIMessage(content=\"I'll help you find the combined headcount of the FAANG companies (Facebook/Meta, Apple, Amazon, Netflix, Google/Alphabet) in 2024. This requires current information about employee counts at these major tech companies, so I'll transfer your question to our web search expert.\", additional_kwargs={'usage': {'prompt_tokens': 473, 'completion_tokens': 104, 'cache_read_input_tokens': 0, 'cache_write_input_tokens': 0, 'total_tokens': 577}, 'stop_reason': 'tool_use', 'thinking': {}, 'model_id': 'eu.anthropic.claude-3-7-sonnet-20250219-v1:0', 'model_name': 'eu.anthropic.claude-3-7-sonnet-20250219-v1:0'}, response_metadata={'usage': {'prompt_tokens': 473, 'completion_tokens': 104, 'cache_read_input_tokens': 0, 'cache_write_input_tokens': 0, 'total_tokens': 577}, 'stop_reason': 'tool_use', 'thinking': {}, 'model_id': 'eu.anthropic.claude-3-7-sonnet-20250219-v1:0', 'model_name': 'eu.anthropic.claude-3-7-sonnet-20250219-v1:0'}, name='supervisor', id='run-b07da30e-fed5-4253-8dd5-1a8eb882045b-0', tool_calls=[{'name': 'transfer_to_web_search_expert', 'args': {}, 'id': 'toolu_bdrk_01E5d4wqNh6fG3DpbvRQpFAz', 'type': 'tool_call'}], usage_metadata={'input_tokens': 473, 'output_tokens': 104, 'total_tokens': 577, 'input_token_details': {'cache_creation': 0, 'cache_read': 0}}),\n",
       "  ToolMessage(content='Successfully transferred to web_search_expert', name='transfer_to_web_search_expert', id='724d8fd1-32f5-45ad-bf63-6d2fb6828a34', tool_call_id='toolu_bdrk_01E5d4wqNh6fG3DpbvRQpFAz'),\n",
       "  AIMessage(content='Based on my searches, the combined headcount of the FAANG companies in 2024 is:\\n\\nMeta (Facebook): 67,317\\nApple: 164,000\\nAmazon: 1,551,000\\nNetflix: 14,000\\nGoogle (Alphabet): 181,269\\n\\nTotal combined headcount: 1,977,586 employees\\n\\nThis represents the most current publicly available data for these companies in 2024.', additional_kwargs={'usage': {'prompt_tokens': 1430, 'completion_tokens': 99, 'cache_read_input_tokens': 0, 'cache_write_input_tokens': 0, 'total_tokens': 1529}, 'stop_reason': 'end_turn', 'thinking': {}, 'model_id': 'eu.anthropic.claude-3-7-sonnet-20250219-v1:0', 'model_name': 'eu.anthropic.claude-3-7-sonnet-20250219-v1:0'}, response_metadata={'usage': {'prompt_tokens': 1430, 'completion_tokens': 99, 'cache_read_input_tokens': 0, 'cache_write_input_tokens': 0, 'total_tokens': 1529}, 'stop_reason': 'end_turn', 'thinking': {}, 'model_id': 'eu.anthropic.claude-3-7-sonnet-20250219-v1:0', 'model_name': 'eu.anthropic.claude-3-7-sonnet-20250219-v1:0'}, name='web_search_expert', id='run-073f19df-6f6e-49bf-86ea-449ea1efd842-0', usage_metadata={'input_tokens': 1430, 'output_tokens': 99, 'total_tokens': 1529, 'input_token_details': {'cache_creation': 0, 'cache_read': 0}}),\n",
       "  AIMessage(content='Transferring back to supervisor', additional_kwargs={}, response_metadata={'__is_handoff_back': True}, name='web_search_expert', id='bc611154-c670-4ea9-bb15-63c30f47eeb9', tool_calls=[{'name': 'transfer_back_to_supervisor', 'args': {}, 'id': 'd1a0b930-ecf6-4a73-bbee-411b32459308', 'type': 'tool_call'}]),\n",
       "  ToolMessage(content='Successfully transferred back to supervisor', name='transfer_back_to_supervisor', id='75d25892-543c-46f4-bd7d-1ef9bdb98cfe', tool_call_id='d1a0b930-ecf6-4a73-bbee-411b32459308'),\n",
       "  AIMessage(content='', additional_kwargs={'usage': {'prompt_tokens': 756, 'completion_tokens': 3, 'cache_read_input_tokens': 0, 'cache_write_input_tokens': 0, 'total_tokens': 759}, 'stop_reason': 'end_turn', 'thinking': {}, 'model_id': 'eu.anthropic.claude-3-7-sonnet-20250219-v1:0', 'model_name': 'eu.anthropic.claude-3-7-sonnet-20250219-v1:0'}, response_metadata={'usage': {'prompt_tokens': 756, 'completion_tokens': 3, 'cache_read_input_tokens': 0, 'cache_write_input_tokens': 0, 'total_tokens': 759}, 'stop_reason': 'end_turn', 'thinking': {}, 'model_id': 'eu.anthropic.claude-3-7-sonnet-20250219-v1:0', 'model_name': 'eu.anthropic.claude-3-7-sonnet-20250219-v1:0'}, name='supervisor', id='run-2ce0f49b-4350-42c9-aa86-92d713730284-0', usage_metadata={'input_tokens': 756, 'output_tokens': 3, 'total_tokens': 759, 'input_token_details': {'cache_creation': 0, 'cache_read': 0}})]}"
      ]
     },
     "execution_count": 9,
     "metadata": {},
     "output_type": "execute_result"
    }
   ],
   "source": [
    "result = app.invoke({\n",
    "    \"messages\": [\n",
    "        {\n",
    "            \"role\": \"user\",\n",
    "            \"content\": \"what's the combined headcount of the FAANG companies in 2024?\"\n",
    "        }\n",
    "    ]\n",
    "})\n",
    "result"
   ]
  }
 ],
 "metadata": {
  "kernelspec": {
   "display_name": ".venv",
   "language": "python",
   "name": "python3"
  },
  "language_info": {
   "codemirror_mode": {
    "name": "ipython",
    "version": 3
   },
   "file_extension": ".py",
   "mimetype": "text/x-python",
   "name": "python",
   "nbconvert_exporter": "python",
   "pygments_lexer": "ipython3",
   "version": "3.12.9"
  }
 },
 "nbformat": 4,
 "nbformat_minor": 5
}
