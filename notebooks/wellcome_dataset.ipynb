{
 "cells": [
  {
   "cell_type": "code",
   "execution_count": 1,
   "id": "00f5b920",
   "metadata": {},
   "outputs": [],
   "source": [
    "from wc_simd.utility import spark_path"
   ]
  },
  {
   "cell_type": "code",
   "execution_count": 2,
   "id": "75418e5e",
   "metadata": {},
   "outputs": [
    {
     "name": "stderr",
     "output_type": "stream",
     "text": [
      "25/05/01 14:57:10 WARN Utils: Your hostname, Daniels-MacBook-Pro-1035.local resolves to a loopback address: 127.0.0.1; using 172.26.8.178 instead (on interface en0)\n",
      "25/05/01 14:57:10 WARN Utils: Set SPARK_LOCAL_IP if you need to bind to another address\n",
      "Setting default log level to \"WARN\".\n",
      "To adjust logging level use sc.setLogLevel(newLevel). For SparkR, use setLogLevel(newLevel).\n",
      "25/05/01 14:57:11 WARN NativeCodeLoader: Unable to load native-hadoop library for your platform... using builtin-java classes where applicable\n"
     ]
    },
    {
     "data": {
      "text/html": [
       "\n",
       "            <div>\n",
       "                <p><b>SparkSession - hive</b></p>\n",
       "                \n",
       "        <div>\n",
       "            <p><b>SparkContext</b></p>\n",
       "\n",
       "            <p><a href=\"http://172.26.8.178:4040\">Spark UI</a></p>\n",
       "\n",
       "            <dl>\n",
       "              <dt>Version</dt>\n",
       "                <dd><code>v3.5.5</code></dd>\n",
       "              <dt>Master</dt>\n",
       "                <dd><code>local[*]</code></dd>\n",
       "              <dt>AppName</dt>\n",
       "                <dd><code>test_pyspark</code></dd>\n",
       "            </dl>\n",
       "        </div>\n",
       "        \n",
       "            </div>\n",
       "        "
      ],
      "text/plain": [
       "<pyspark.sql.session.SparkSession at 0x119f9be00>"
      ]
     },
     "execution_count": 2,
     "metadata": {},
     "output_type": "execute_result"
    }
   ],
   "source": [
    "from pyspark.sql import SparkSession\n",
    "\n",
    "\n",
    "spark = SparkSession.builder \\\n",
    "    .appName(\"test_pyspark\") \\\n",
    "    .config(\"spark.driver.memory\", \"12g\") \\\n",
    "    .config(\"spark.executor.memory\", \"12g\") \\\n",
    "    .config(\"spark.sql.orc.enableVectorizedReader\", \"false\") \\\n",
    "    .config(\"spark.sql.parquet.columnarReaderBatchSize\", \"1024\") \\\n",
    "    .config(\"spark.sql.orc.columnarReaderBatchSize\", \"1024\") \\\n",
    "    .getOrCreate()\n",
    "spark.sparkContext.setLogLevel(\"ERROR\")\n",
    "spark"
   ]
  },
  {
   "cell_type": "code",
   "execution_count": null,
   "id": "412f7096",
   "metadata": {},
   "outputs": [],
   "source": [
    "#spark.stop()"
   ]
  },
  {
   "cell_type": "markdown",
   "id": "c5a7f924",
   "metadata": {},
   "source": [
    "# Read and Partition Works JSON"
   ]
  },
  {
   "cell_type": "code",
   "execution_count": 3,
   "id": "87a4f0d4",
   "metadata": {},
   "outputs": [
    {
     "name": "stderr",
     "output_type": "stream",
     "text": [
      "                                                                                \r"
     ]
    }
   ],
   "source": [
    "df = spark.read.json(spark_path(\"../data/imports/works.json.gz\"))"
   ]
  },
  {
   "cell_type": "code",
   "execution_count": 4,
   "id": "4b0959df",
   "metadata": {},
   "outputs": [],
   "source": [
    "# Assume df is your existing PySpark DataFrame\n",
    "n = 16  # Number of partitions you want\n",
    "\n",
    "# Partition the DataFrame\n",
    "df_repartitioned = df.repartition(n)\n",
    "\n",
    "# df_repartitioned.write.parquet(\n",
    "#     spark_path(\"../data/imports/works.parquet\"),\n",
    "#     mode=\"overwrite\")"
   ]
  },
  {
   "cell_type": "code",
   "execution_count": 3,
   "id": "f44b3d89",
   "metadata": {},
   "outputs": [],
   "source": [
    "df_repartitioned = spark.read.parquet(spark_path(\"../data/imports/works.parquet\"))\n"
   ]
  },
  {
   "cell_type": "code",
   "execution_count": 4,
   "id": "d91f089a",
   "metadata": {},
   "outputs": [
    {
     "name": "stderr",
     "output_type": "stream",
     "text": [
      "[Stage 1:=================================================>       (14 + 2) / 16]\r"
     ]
    },
    {
     "name": "stdout",
     "output_type": "stream",
     "text": [
      "Partition 0: 72966 rows\n",
      "Partition 1: 72966 rows\n",
      "Partition 2: 72965 rows\n",
      "Partition 3: 72966 rows\n",
      "Partition 4: 72965 rows\n",
      "Partition 5: 72965 rows\n",
      "Partition 6: 72966 rows\n",
      "Partition 7: 72965 rows\n",
      "Partition 8: 72965 rows\n",
      "Partition 9: 72965 rows\n",
      "Partition 10: 72965 rows\n",
      "Partition 11: 72965 rows\n",
      "Partition 12: 72965 rows\n",
      "Partition 13: 72965 rows\n",
      "Partition 14: 72965 rows\n",
      "Partition 15: 72965 rows\n"
     ]
    },
    {
     "name": "stderr",
     "output_type": "stream",
     "text": [
      "                                                                                \r"
     ]
    }
   ],
   "source": [
    "def count_in_partition(index, iterator):\n",
    "    yield (index, sum(1 for _ in iterator))\n",
    "\n",
    "\n",
    "partition_counts = df_repartitioned.rdd.mapPartitionsWithIndex(\n",
    "    count_in_partition).collect()\n",
    "\n",
    "for index, count in partition_counts:\n",
    "    print(f\"Partition {index}: {count} rows\")"
   ]
  },
  {
   "cell_type": "code",
   "execution_count": 10,
   "id": "87a366c3",
   "metadata": {},
   "outputs": [
    {
     "name": "stdout",
     "output_type": "stream",
     "text": [
      "root\n",
      " |-- alternativeTitles: array (nullable = true)\n",
      " |    |-- element: string (containsNull = true)\n",
      " |-- availabilities: array (nullable = true)\n",
      " |    |-- element: struct (containsNull = true)\n",
      " |    |    |-- id: string (nullable = true)\n",
      " |    |    |-- label: string (nullable = true)\n",
      " |    |    |-- type: string (nullable = true)\n",
      " |-- contributors: array (nullable = true)\n",
      " |    |-- element: struct (containsNull = true)\n",
      " |    |    |-- agent: struct (nullable = true)\n",
      " |    |    |    |-- id: string (nullable = true)\n",
      " |    |    |    |-- identifiers: array (nullable = true)\n",
      " |    |    |    |    |-- element: struct (containsNull = true)\n",
      " |    |    |    |    |    |-- identifierType: struct (nullable = true)\n",
      " |    |    |    |    |    |    |-- id: string (nullable = true)\n",
      " |    |    |    |    |    |    |-- label: string (nullable = true)\n",
      " |    |    |    |    |    |    |-- type: string (nullable = true)\n",
      " |    |    |    |    |    |-- type: string (nullable = true)\n",
      " |    |    |    |    |    |-- value: string (nullable = true)\n",
      " |    |    |    |-- label: string (nullable = true)\n",
      " |    |    |    |-- type: string (nullable = true)\n",
      " |    |    |-- primary: boolean (nullable = true)\n",
      " |    |    |-- roles: array (nullable = true)\n",
      " |    |    |    |-- element: struct (containsNull = true)\n",
      " |    |    |    |    |-- label: string (nullable = true)\n",
      " |    |    |    |    |-- type: string (nullable = true)\n",
      " |    |    |-- type: string (nullable = true)\n",
      " |-- createdDate: struct (nullable = true)\n",
      " |    |-- label: string (nullable = true)\n",
      " |    |-- type: string (nullable = true)\n",
      " |-- currentFrequency: string (nullable = true)\n",
      " |-- description: string (nullable = true)\n",
      " |-- designation: array (nullable = true)\n",
      " |    |-- element: string (containsNull = true)\n",
      " |-- duration: long (nullable = true)\n",
      " |-- edition: string (nullable = true)\n",
      " |-- formerFrequency: array (nullable = true)\n",
      " |    |-- element: string (containsNull = true)\n",
      " |-- genres: array (nullable = true)\n",
      " |    |-- element: struct (containsNull = true)\n",
      " |    |    |-- concepts: array (nullable = true)\n",
      " |    |    |    |-- element: struct (containsNull = true)\n",
      " |    |    |    |    |-- id: string (nullable = true)\n",
      " |    |    |    |    |-- identifiers: array (nullable = true)\n",
      " |    |    |    |    |    |-- element: struct (containsNull = true)\n",
      " |    |    |    |    |    |    |-- identifierType: struct (nullable = true)\n",
      " |    |    |    |    |    |    |    |-- id: string (nullable = true)\n",
      " |    |    |    |    |    |    |    |-- label: string (nullable = true)\n",
      " |    |    |    |    |    |    |    |-- type: string (nullable = true)\n",
      " |    |    |    |    |    |    |-- type: string (nullable = true)\n",
      " |    |    |    |    |    |    |-- value: string (nullable = true)\n",
      " |    |    |    |    |-- label: string (nullable = true)\n",
      " |    |    |    |    |-- type: string (nullable = true)\n",
      " |    |    |-- label: string (nullable = true)\n",
      " |    |    |-- type: string (nullable = true)\n",
      " |-- holdings: array (nullable = true)\n",
      " |    |-- element: struct (containsNull = true)\n",
      " |    |    |-- enumeration: array (nullable = true)\n",
      " |    |    |    |-- element: string (containsNull = true)\n",
      " |    |    |-- location: struct (nullable = true)\n",
      " |    |    |    |-- accessConditions: array (nullable = true)\n",
      " |    |    |    |    |-- element: struct (containsNull = true)\n",
      " |    |    |    |    |    |-- method: struct (nullable = true)\n",
      " |    |    |    |    |    |    |-- id: string (nullable = true)\n",
      " |    |    |    |    |    |    |-- label: string (nullable = true)\n",
      " |    |    |    |    |    |    |-- type: string (nullable = true)\n",
      " |    |    |    |    |    |-- status: struct (nullable = true)\n",
      " |    |    |    |    |    |    |-- id: string (nullable = true)\n",
      " |    |    |    |    |    |    |-- label: string (nullable = true)\n",
      " |    |    |    |    |    |    |-- type: string (nullable = true)\n",
      " |    |    |    |    |    |-- type: string (nullable = true)\n",
      " |    |    |    |-- label: string (nullable = true)\n",
      " |    |    |    |-- linkText: string (nullable = true)\n",
      " |    |    |    |-- locationType: struct (nullable = true)\n",
      " |    |    |    |    |-- id: string (nullable = true)\n",
      " |    |    |    |    |-- label: string (nullable = true)\n",
      " |    |    |    |    |-- type: string (nullable = true)\n",
      " |    |    |    |-- shelfmark: string (nullable = true)\n",
      " |    |    |    |-- type: string (nullable = true)\n",
      " |    |    |    |-- url: string (nullable = true)\n",
      " |    |    |-- note: string (nullable = true)\n",
      " |    |    |-- type: string (nullable = true)\n",
      " |-- id: string (nullable = true)\n",
      " |-- identifiers: array (nullable = true)\n",
      " |    |-- element: struct (containsNull = true)\n",
      " |    |    |-- identifierType: struct (nullable = true)\n",
      " |    |    |    |-- id: string (nullable = true)\n",
      " |    |    |    |-- label: string (nullable = true)\n",
      " |    |    |    |-- type: string (nullable = true)\n",
      " |    |    |-- type: string (nullable = true)\n",
      " |    |    |-- value: string (nullable = true)\n",
      " |-- images: array (nullable = true)\n",
      " |    |-- element: struct (containsNull = true)\n",
      " |    |    |-- id: string (nullable = true)\n",
      " |    |    |-- type: string (nullable = true)\n",
      " |-- items: array (nullable = true)\n",
      " |    |-- element: struct (containsNull = true)\n",
      " |    |    |-- id: string (nullable = true)\n",
      " |    |    |-- identifiers: array (nullable = true)\n",
      " |    |    |    |-- element: struct (containsNull = true)\n",
      " |    |    |    |    |-- identifierType: struct (nullable = true)\n",
      " |    |    |    |    |    |-- id: string (nullable = true)\n",
      " |    |    |    |    |    |-- label: string (nullable = true)\n",
      " |    |    |    |    |    |-- type: string (nullable = true)\n",
      " |    |    |    |    |-- type: string (nullable = true)\n",
      " |    |    |    |    |-- value: string (nullable = true)\n",
      " |    |    |-- locations: array (nullable = true)\n",
      " |    |    |    |-- element: struct (containsNull = true)\n",
      " |    |    |    |    |-- accessConditions: array (nullable = true)\n",
      " |    |    |    |    |    |-- element: struct (containsNull = true)\n",
      " |    |    |    |    |    |    |-- method: struct (nullable = true)\n",
      " |    |    |    |    |    |    |    |-- id: string (nullable = true)\n",
      " |    |    |    |    |    |    |    |-- label: string (nullable = true)\n",
      " |    |    |    |    |    |    |    |-- type: string (nullable = true)\n",
      " |    |    |    |    |    |    |-- note: string (nullable = true)\n",
      " |    |    |    |    |    |    |-- status: struct (nullable = true)\n",
      " |    |    |    |    |    |    |    |-- id: string (nullable = true)\n",
      " |    |    |    |    |    |    |    |-- label: string (nullable = true)\n",
      " |    |    |    |    |    |    |    |-- type: string (nullable = true)\n",
      " |    |    |    |    |    |    |-- terms: string (nullable = true)\n",
      " |    |    |    |    |    |    |-- type: string (nullable = true)\n",
      " |    |    |    |    |-- credit: string (nullable = true)\n",
      " |    |    |    |    |-- label: string (nullable = true)\n",
      " |    |    |    |    |-- license: struct (nullable = true)\n",
      " |    |    |    |    |    |-- id: string (nullable = true)\n",
      " |    |    |    |    |    |-- label: string (nullable = true)\n",
      " |    |    |    |    |    |-- type: string (nullable = true)\n",
      " |    |    |    |    |    |-- url: string (nullable = true)\n",
      " |    |    |    |    |-- linkText: string (nullable = true)\n",
      " |    |    |    |    |-- locationType: struct (nullable = true)\n",
      " |    |    |    |    |    |-- id: string (nullable = true)\n",
      " |    |    |    |    |    |-- label: string (nullable = true)\n",
      " |    |    |    |    |    |-- type: string (nullable = true)\n",
      " |    |    |    |    |-- shelfmark: string (nullable = true)\n",
      " |    |    |    |    |-- type: string (nullable = true)\n",
      " |    |    |    |    |-- url: string (nullable = true)\n",
      " |    |    |-- note: string (nullable = true)\n",
      " |    |    |-- title: string (nullable = true)\n",
      " |    |    |-- type: string (nullable = true)\n",
      " |-- languages: array (nullable = true)\n",
      " |    |-- element: struct (containsNull = true)\n",
      " |    |    |-- id: string (nullable = true)\n",
      " |    |    |-- label: string (nullable = true)\n",
      " |    |    |-- type: string (nullable = true)\n",
      " |-- lettering: string (nullable = true)\n",
      " |-- notes: array (nullable = true)\n",
      " |    |-- element: struct (containsNull = true)\n",
      " |    |    |-- contents: array (nullable = true)\n",
      " |    |    |    |-- element: string (containsNull = true)\n",
      " |    |    |-- noteType: struct (nullable = true)\n",
      " |    |    |    |-- id: string (nullable = true)\n",
      " |    |    |    |-- label: string (nullable = true)\n",
      " |    |    |    |-- type: string (nullable = true)\n",
      " |    |    |-- type: string (nullable = true)\n",
      " |-- partOf: array (nullable = true)\n",
      " |    |-- element: struct (containsNull = true)\n",
      " |    |    |-- id: string (nullable = true)\n",
      " |    |    |-- partOf: array (nullable = true)\n",
      " |    |    |    |-- element: struct (containsNull = true)\n",
      " |    |    |    |    |-- id: string (nullable = true)\n",
      " |    |    |    |    |-- partOf: array (nullable = true)\n",
      " |    |    |    |    |    |-- element: struct (containsNull = true)\n",
      " |    |    |    |    |    |    |-- id: string (nullable = true)\n",
      " |    |    |    |    |    |    |-- partOf: array (nullable = true)\n",
      " |    |    |    |    |    |    |    |-- element: struct (containsNull = true)\n",
      " |    |    |    |    |    |    |    |    |-- id: string (nullable = true)\n",
      " |    |    |    |    |    |    |    |    |-- partOf: array (nullable = true)\n",
      " |    |    |    |    |    |    |    |    |    |-- element: struct (containsNull = true)\n",
      " |    |    |    |    |    |    |    |    |    |    |-- id: string (nullable = true)\n",
      " |    |    |    |    |    |    |    |    |    |    |-- partOf: array (nullable = true)\n",
      " |    |    |    |    |    |    |    |    |    |    |    |-- element: struct (containsNull = true)\n",
      " |    |    |    |    |    |    |    |    |    |    |    |    |-- id: string (nullable = true)\n",
      " |    |    |    |    |    |    |    |    |    |    |    |    |-- partOf: array (nullable = true)\n",
      " |    |    |    |    |    |    |    |    |    |    |    |    |    |-- element: struct (containsNull = true)\n",
      " |    |    |    |    |    |    |    |    |    |    |    |    |    |    |-- id: string (nullable = true)\n",
      " |    |    |    |    |    |    |    |    |    |    |    |    |    |    |-- partOf: array (nullable = true)\n",
      " |    |    |    |    |    |    |    |    |    |    |    |    |    |    |    |-- element: struct (containsNull = true)\n",
      " |    |    |    |    |    |    |    |    |    |    |    |    |    |    |    |    |-- id: string (nullable = true)\n",
      " |    |    |    |    |    |    |    |    |    |    |    |    |    |    |    |    |-- referenceNumber: string (nullable = true)\n",
      " |    |    |    |    |    |    |    |    |    |    |    |    |    |    |    |    |-- title: string (nullable = true)\n",
      " |    |    |    |    |    |    |    |    |    |    |    |    |    |    |    |    |-- totalDescendentParts: long (nullable = true)\n",
      " |    |    |    |    |    |    |    |    |    |    |    |    |    |    |    |    |-- totalParts: long (nullable = true)\n",
      " |    |    |    |    |    |    |    |    |    |    |    |    |    |    |    |    |-- type: string (nullable = true)\n",
      " |    |    |    |    |    |    |    |    |    |    |    |    |    |    |-- referenceNumber: string (nullable = true)\n",
      " |    |    |    |    |    |    |    |    |    |    |    |    |    |    |-- title: string (nullable = true)\n",
      " |    |    |    |    |    |    |    |    |    |    |    |    |    |    |-- totalDescendentParts: long (nullable = true)\n",
      " |    |    |    |    |    |    |    |    |    |    |    |    |    |    |-- totalParts: long (nullable = true)\n",
      " |    |    |    |    |    |    |    |    |    |    |    |    |    |    |-- type: string (nullable = true)\n",
      " |    |    |    |    |    |    |    |    |    |    |    |    |-- referenceNumber: string (nullable = true)\n",
      " |    |    |    |    |    |    |    |    |    |    |    |    |-- title: string (nullable = true)\n",
      " |    |    |    |    |    |    |    |    |    |    |    |    |-- totalDescendentParts: long (nullable = true)\n",
      " |    |    |    |    |    |    |    |    |    |    |    |    |-- totalParts: long (nullable = true)\n",
      " |    |    |    |    |    |    |    |    |    |    |    |    |-- type: string (nullable = true)\n",
      " |    |    |    |    |    |    |    |    |    |    |-- referenceNumber: string (nullable = true)\n",
      " |    |    |    |    |    |    |    |    |    |    |-- title: string (nullable = true)\n",
      " |    |    |    |    |    |    |    |    |    |    |-- totalDescendentParts: long (nullable = true)\n",
      " |    |    |    |    |    |    |    |    |    |    |-- totalParts: long (nullable = true)\n",
      " |    |    |    |    |    |    |    |    |    |    |-- type: string (nullable = true)\n",
      " |    |    |    |    |    |    |    |    |-- referenceNumber: string (nullable = true)\n",
      " |    |    |    |    |    |    |    |    |-- title: string (nullable = true)\n",
      " |    |    |    |    |    |    |    |    |-- totalDescendentParts: long (nullable = true)\n",
      " |    |    |    |    |    |    |    |    |-- totalParts: long (nullable = true)\n",
      " |    |    |    |    |    |    |    |    |-- type: string (nullable = true)\n",
      " |    |    |    |    |    |    |-- referenceNumber: string (nullable = true)\n",
      " |    |    |    |    |    |    |-- title: string (nullable = true)\n",
      " |    |    |    |    |    |    |-- totalDescendentParts: long (nullable = true)\n",
      " |    |    |    |    |    |    |-- totalParts: long (nullable = true)\n",
      " |    |    |    |    |    |    |-- type: string (nullable = true)\n",
      " |    |    |    |    |-- referenceNumber: string (nullable = true)\n",
      " |    |    |    |    |-- title: string (nullable = true)\n",
      " |    |    |    |    |-- totalDescendentParts: long (nullable = true)\n",
      " |    |    |    |    |-- totalParts: long (nullable = true)\n",
      " |    |    |    |    |-- type: string (nullable = true)\n",
      " |    |    |-- referenceNumber: string (nullable = true)\n",
      " |    |    |-- title: string (nullable = true)\n",
      " |    |    |-- totalDescendentParts: long (nullable = true)\n",
      " |    |    |-- totalParts: long (nullable = true)\n",
      " |    |    |-- type: string (nullable = true)\n",
      " |-- parts: array (nullable = true)\n",
      " |    |-- element: struct (containsNull = true)\n",
      " |    |    |-- id: string (nullable = true)\n",
      " |    |    |-- referenceNumber: string (nullable = true)\n",
      " |    |    |-- title: string (nullable = true)\n",
      " |    |    |-- totalDescendentParts: long (nullable = true)\n",
      " |    |    |-- totalParts: long (nullable = true)\n",
      " |    |    |-- type: string (nullable = true)\n",
      " |-- physicalDescription: string (nullable = true)\n",
      " |-- precededBy: array (nullable = true)\n",
      " |    |-- element: struct (containsNull = true)\n",
      " |    |    |-- id: string (nullable = true)\n",
      " |    |    |-- referenceNumber: string (nullable = true)\n",
      " |    |    |-- title: string (nullable = true)\n",
      " |    |    |-- totalDescendentParts: long (nullable = true)\n",
      " |    |    |-- totalParts: long (nullable = true)\n",
      " |    |    |-- type: string (nullable = true)\n",
      " |-- production: array (nullable = true)\n",
      " |    |-- element: struct (containsNull = true)\n",
      " |    |    |-- agents: array (nullable = true)\n",
      " |    |    |    |-- element: struct (containsNull = true)\n",
      " |    |    |    |    |-- label: string (nullable = true)\n",
      " |    |    |    |    |-- type: string (nullable = true)\n",
      " |    |    |-- dates: array (nullable = true)\n",
      " |    |    |    |-- element: struct (containsNull = true)\n",
      " |    |    |    |    |-- label: string (nullable = true)\n",
      " |    |    |    |    |-- type: string (nullable = true)\n",
      " |    |    |-- function: struct (nullable = true)\n",
      " |    |    |    |-- label: string (nullable = true)\n",
      " |    |    |    |-- type: string (nullable = true)\n",
      " |    |    |-- label: string (nullable = true)\n",
      " |    |    |-- places: array (nullable = true)\n",
      " |    |    |    |-- element: struct (containsNull = true)\n",
      " |    |    |    |    |-- label: string (nullable = true)\n",
      " |    |    |    |    |-- type: string (nullable = true)\n",
      " |    |    |-- type: string (nullable = true)\n",
      " |-- referenceNumber: string (nullable = true)\n",
      " |-- subjects: array (nullable = true)\n",
      " |    |-- element: struct (containsNull = true)\n",
      " |    |    |-- concepts: array (nullable = true)\n",
      " |    |    |    |-- element: struct (containsNull = true)\n",
      " |    |    |    |    |-- id: string (nullable = true)\n",
      " |    |    |    |    |-- identifiers: array (nullable = true)\n",
      " |    |    |    |    |    |-- element: struct (containsNull = true)\n",
      " |    |    |    |    |    |    |-- identifierType: struct (nullable = true)\n",
      " |    |    |    |    |    |    |    |-- id: string (nullable = true)\n",
      " |    |    |    |    |    |    |    |-- label: string (nullable = true)\n",
      " |    |    |    |    |    |    |    |-- type: string (nullable = true)\n",
      " |    |    |    |    |    |    |-- type: string (nullable = true)\n",
      " |    |    |    |    |    |    |-- value: string (nullable = true)\n",
      " |    |    |    |    |-- label: string (nullable = true)\n",
      " |    |    |    |    |-- type: string (nullable = true)\n",
      " |    |    |-- id: string (nullable = true)\n",
      " |    |    |-- identifiers: array (nullable = true)\n",
      " |    |    |    |-- element: struct (containsNull = true)\n",
      " |    |    |    |    |-- identifierType: struct (nullable = true)\n",
      " |    |    |    |    |    |-- id: string (nullable = true)\n",
      " |    |    |    |    |    |-- label: string (nullable = true)\n",
      " |    |    |    |    |    |-- type: string (nullable = true)\n",
      " |    |    |    |    |-- type: string (nullable = true)\n",
      " |    |    |    |    |-- value: string (nullable = true)\n",
      " |    |    |-- label: string (nullable = true)\n",
      " |    |    |-- type: string (nullable = true)\n",
      " |-- succeededBy: array (nullable = true)\n",
      " |    |-- element: struct (containsNull = true)\n",
      " |    |    |-- id: string (nullable = true)\n",
      " |    |    |-- referenceNumber: string (nullable = true)\n",
      " |    |    |-- title: string (nullable = true)\n",
      " |    |    |-- totalDescendentParts: long (nullable = true)\n",
      " |    |    |-- totalParts: long (nullable = true)\n",
      " |    |    |-- type: string (nullable = true)\n",
      " |-- thumbnail: struct (nullable = true)\n",
      " |    |-- accessConditions: array (nullable = true)\n",
      " |    |    |-- element: string (containsNull = true)\n",
      " |    |-- license: struct (nullable = true)\n",
      " |    |    |-- id: string (nullable = true)\n",
      " |    |    |-- label: string (nullable = true)\n",
      " |    |    |-- type: string (nullable = true)\n",
      " |    |    |-- url: string (nullable = true)\n",
      " |    |-- locationType: struct (nullable = true)\n",
      " |    |    |-- id: string (nullable = true)\n",
      " |    |    |-- label: string (nullable = true)\n",
      " |    |    |-- type: string (nullable = true)\n",
      " |    |-- type: string (nullable = true)\n",
      " |    |-- url: string (nullable = true)\n",
      " |-- title: string (nullable = true)\n",
      " |-- type: string (nullable = true)\n",
      " |-- workType: struct (nullable = true)\n",
      " |    |-- id: string (nullable = true)\n",
      " |    |-- label: string (nullable = true)\n",
      " |    |-- type: string (nullable = true)\n",
      "\n"
     ]
    }
   ],
   "source": [
    "df_repartitioned.printSchema()"
   ]
  },
  {
   "cell_type": "code",
   "execution_count": 11,
   "id": "de40bceb",
   "metadata": {},
   "outputs": [
    {
     "name": "stderr",
     "output_type": "stream",
     "text": [
      "                                                                                \r"
     ]
    },
    {
     "name": "stdout",
     "output_type": "stream",
     "text": [
      "+--------------------+--------------------+--------------------+-----------+----------------+--------------------+-----------+--------+-------+---------------+--------------------+--------------------+--------+--------------------+-------------------+--------------------+--------------------+--------------------+--------------------+--------------------+-----+--------------------+--------------------+--------------------+---------------+--------------------+--------------------+--------------------+--------------------+----+--------------------+\n",
      "|   alternativeTitles|      availabilities|        contributors|createdDate|currentFrequency|         description|designation|duration|edition|formerFrequency|              genres|            holdings|      id|         identifiers|             images|               items|           languages|           lettering|               notes|              partOf|parts| physicalDescription|          precededBy|          production|referenceNumber|            subjects|         succeededBy|           thumbnail|               title|type|            workType|\n",
      "+--------------------+--------------------+--------------------+-----------+----------------+--------------------+-----------+--------+-------+---------------+--------------------+--------------------+--------+--------------------+-------------------+--------------------+--------------------+--------------------+--------------------+--------------------+-----+--------------------+--------------------+--------------------+---------------+--------------------+--------------------+--------------------+--------------------+----+--------------------+\n",
      "|[Cato. A tragedy,...|[{online, Online,...|                  []|       NULL|            NULL|                NULL|         []|    NULL|   NULL|             []|                  []|[{[Full text avai...|c7dbdub3|[{{ebsco-alt-look...|                 []|                  []|                  []|                NULL|                  []|[{NULL, NULL, NUL...|   []|                NULL|                  []|[{[], [], NULL, ,...|           NULL|                  []|                  []|                NULL|Cato. A tragedy, ...|Work|{v, E-books, Format}|\n",
      "|[Orlando innamora...|[{online, Online,...|[{{r88uf8gp, [{{l...|       NULL|            NULL|                NULL|         []|    NULL|   NULL|             []|                  []|[{[Full text avai...|h4q4fpbj|[{{ebsco-alt-look...|                 []|                  []|                  []|                NULL|                  []|[{NULL, NULL, NUL...|   []|                NULL|                  []|[{[], [], NULL, ,...|           NULL|                  []|                  []|                NULL|Orlando innamorat...|Work|{v, E-books, Format}|\n",
      "|                  []|[{closed-stores, ...|                  []|       NULL|            NULL|                NULL|         []|    NULL|   NULL|             []|                  []|                  []|xjjnw2zf|[{{calm-record-id...|                 []|[{rsefm6cn, [{{si...|                  []|                NULL|                  []|[{cusbrrek, [{w4v...|   []|              1 file|[{tdh9se5y, SA/EU...|[{[], [{1950, Per...|   SA/EUG/D.100|                  []|[{dkdeanrb, SA/EU...|                NULL|Human Genetic Cli...|Work|{h, Archives and ...|\n",
      "|                  []|[{online, Online,...|[{{guzs2skt, [{{l...|       NULL|            NULL|                NULL|         []|    NULL|   NULL|             []|[{[{kqkakf66, [{{...|                  []|t4rtqnma|[{{sierra-system-...|                 []|[{NULL, [], [{[{{...|[{fre, French, La...|                NULL|[{[Bibliographie:...|[{NULL, NULL, NUL...|   []|38 pages, 1 unnum...|                  []|[{[{Impr. Gustave...|           NULL|[{[{e3k695pe, [{{...|                  []|{[], {inc, In cop...|Du traitement de ...|Work|  {a, Books, Format}|\n",
      "|                  []|[{online, Online,...|[{{zx4jffpk, [{{l...|       NULL|            NULL|                NULL|         []|    NULL|   NULL|             []|[{[{kqkakf66, [{{...|                  []|ukw5685u|[{{sierra-system-...|                 []|[{NULL, [], [{[{{...|[{eng, English, L...|                NULL|[{[This work is a...|                  []|   []|                NULL|                  []|[{[], [{1970, Per...|           NULL|[{[{d6jhgxuc, [{{...|                  []|{[], {cc-by, Attr...|[Report 1970] / M...|Work|  {a, Books, Format}|\n",
      "|                  []|[{open-shelves, O...|[{{pr88y5tn, [{{l...|       NULL|            NULL|                NULL|         []|    NULL|   NULL|             []|                  []|                  []|nedbddvs|[{{sierra-system-...|                 []|[{cexfatjf, [{{si...|[{eng, English, L...|                NULL|[{[Includes bibli...|                  []|   []|xii, 181 pages ; ...|                  []|[{[{MIT Press, Ag...|           NULL|[{[{ca6uzan8, [{{...|                  []|                NULL|Consciousness : c...|Work|  {a, Books, Format}|\n",
      "|                  []|[{closed-stores, ...|[{{axrd6av9, [{{l...|       NULL|            NULL|                NULL|         []|    NULL|   NULL|             []|                  []|                  []|rru7hxhj|[{{sierra-system-...|                 []|[{agzqmbka, [{{si...|[{eng, English, L...|                NULL|[{[Copy 1 Note: E...|[{NULL, NULL, NUL...|   []|lxxvii, 146 leave...|                  []|[{[{Stockholm Uni...|           NULL|[{[{bxnk8vxn, [{{...|                  []|                NULL|The Boke of March...|Work|  {a, Books, Format}|\n",
      "|[Proposals for pr...|[{online, Online,...|[{{k7ugc5tu, [{{l...|       NULL|            NULL|                NULL|         []|    NULL|   NULL|             []|                  []|[{[Full text avai...|u23tytgd|[{{ebsco-alt-look...|                 []|                  []|                  []|                NULL|                  []|[{NULL, NULL, NUL...|   []|                NULL|                  []|[{[], [], NULL, ,...|           NULL|                  []|                  []|                NULL|Proposals for pri...|Work|{v, E-books, Format}|\n",
      "|                  []|[{closed-stores, ...|                  []|       NULL|            NULL|Published anonymo...|         []|    NULL|   NULL|             []|                  []|                  []|t3qjzzua|[{{calm-record-id...|                 []|[{zhaprwpn, [{{si...|                  []|                NULL|                  []|[{dmgcmdjf, [{nwk...|   []|              1 file|[{f2qusdak, PP/SM...|[{[], [{1981, Per...|   PP/SML/D/2/9|                  []|[{bqgtpccg, PP/SM...|                NULL|\"Thalidomide: 20 ...|Work|{h, Archives and ...|\n",
      "|[Substance of the...|[{online, Online,...|[{{af4drk3r, [{{l...|       NULL|            NULL|                NULL|         []|    NULL|   NULL|             []|                  []|[{[Full text avai...|n4b69uu4|[{{ebsco-alt-look...|                 []|                  []|                  []|                NULL|                  []|[{NULL, NULL, NUL...|   []|                NULL|                  []|[{[], [], NULL, ,...|           NULL|                  []|                  []|                NULL|Substance of the ...|Work|{v, E-books, Format}|\n",
      "|[Lieut. James Moo...|[{online, Online,...|[{{ca267t23, [{{l...|       NULL|            NULL|                NULL|         []|    NULL|   NULL|             []|                  []|[{[Full text avai...|dpev5ces|[{{ebsco-alt-look...|                 []|                  []|                  []|                NULL|                  []|[{NULL, NULL, NUL...|   []|                NULL|                  []|[{[], [], NULL, ,...|           NULL|                  []|                  []|                NULL|Lieut. James Mood...|Work|{v, E-books, Format}|\n",
      "|                  []|[{closed-stores, ...|[{{b4r46rym, [{{l...|       NULL|            NULL|                NULL|         []|    NULL|   NULL|             []|[{[{hjzzh4gd, [{{...|                  []|c2p9k8pq|[{{sierra-system-...|[{r2afcudp, Image}]|[{m7frfz26, [{{si...|[{eng, English, L...|Training Institut...|[{[Wellcome Colle...|                  []|   []|1 print : wood en...|                  []|[{[], [], NULL, [...|         15606i|[{[{zqa4hrbz, [{{...|                  []|{[], {pdm, Public...|The front and bac...|Work|{k, Pictures, For...|\n",
      "|                  []|[{online, Online,...|[{{sn4t7cwk, [{{l...|       NULL|            NULL|                NULL|         []|    NULL|   NULL|             []|[{[{kqkakf66, [{{...|                  []|rjfdmzt4|[{{sierra-system-...|                 []|[{NULL, [], [{[{{...|[{eng, English, L...|                NULL|[{[This work is a...|                  []|   []|                NULL|                  []|[{[], [{1958, Per...|           NULL|[{[{d6jhgxuc, [{{...|                  []|{[], {cc-by, Attr...|[Report 1958] / M...|Work|  {a, Books, Format}|\n",
      "|                  []|[{closed-stores, ...|[{{v6h66bvu, [{{l...|       NULL|            NULL|<p>The young fox ...|         []|    NULL|   NULL|             []|[{[{vtqp967d, [{{...|                  []|stqfdfwf|[{{sierra-system-...|[{km2xn453, Image}]|[{d8uwnq3u, [{{si...|[{eng, English, L...|Reynard the fox. ...|[{[Wellcome Colle...|                  []|   []|1 print : steel e...|                  []|[{[{William Picke...|         39617i|[{[{vh4m4har, [{{...|                  []|{[], {pdm, Public...|Inside the fox's ...|Work|{k, Pictures, For...|\n",
      "|                  []|[{online, Online,...|                  []|       NULL|            NULL|                NULL|         []|    NULL|   NULL|             []|                  []|                  []|y6rya34t|[{{calm-record-id...|                 []|[{NULL, [], [{[{{...|                  []|                NULL|[{[Open and avail...|[{fruyumj7, [{q58...|   []|              1 file|[{dpmm83ns, RET/4...|[{[], [{1924 - 19...|    RET/4/3/4/2|                  []|                  []|                NULL|        File on Food|Work|{h, Archives and ...|\n",
      "|                  []|[{closed-stores, ...|[{{xyezsmft, [{{l...|       NULL|            NULL|                NULL|         []|    NULL|2nd ed.|             []|                  []|                  []|c3782xby|[{{sierra-system-...|                 []|[{gux39adm, [{{si...|[{eng, English, L...|                NULL|[{[Also published...|                  []|   []|xvii, 436 pages, ...|                  []|[{[{Hodder & Stou...|           NULL|                  []|                  []|{[], {pdm, Public...|The unconscious m...|Work|  {a, Books, Format}|\n",
      "|                  []|[{closed-stores, ...|[{{yumm8zf3, [{{l...|       NULL|            NULL|                NULL|         []|    NULL|   NULL|             []|                  []|                  []|m3bpbasa|[{{sierra-system-...|                 []|[{uk6jn3dr, [{{si...|[{ger, German, La...|                NULL|[{[Text in German...|                  []|   []|135 pages : illus...|                  []|[{[], [{[pref. 19...|           NULL|                  []|                  []|{[], {inc, In cop...|Das chemische Lab...|Work|  {a, Books, Format}|\n",
      "|                  []|[{closed-stores, ...|                  []|       NULL|            NULL|Contains Volume 1...|         []|    NULL|   NULL|             []|                  []|                  []|bpqshyvr|[{{calm-record-id...|                 []|[{sjdy5k9e, [{{si...|                  []|                NULL|[{[Compiled by th...|[{esktx255, [{zj4...|   []|              1 file|[{pu9emmet, PSY/Y...|[{[], [{1984-1985...|  PSY/YAT/3/1/4|                  []|[{xuyje9ee, PSY/Y...|                NULL|<i>Behavioral Psy...|Work|{h, Archives and ...|\n",
      "|                  []|[{closed-stores, ...|[{{w7xcekc5, [{{l...|       NULL|            NULL|                NULL|         []|    NULL|   NULL|             []|[{[{byh7nvvz, [{{...|                  []|k89n5png|[{{sierra-system-...|                 []|[{c45295z6, [{{si...|[{ger, German, La...|                NULL|[{[Second part of...|                  []|   []|12 unnumbered pag...|                  []|[{[{Durch Nicolau...|           NULL|[{[{cbdwjshh, [{{...|                  []|                NULL|[Melitsaḥ] kai he...|Work|  {a, Books, Format}|\n",
      "|                  []|[{online, Online,...|                  []|       NULL|            NULL|                NULL|         []|    NULL|   NULL|             []|                  []|                  []|j9xvn75t|[{{miro-image-num...|[{m4bcgrza, Image}]|[{NULL, [], [{[{{...|                  []|                NULL|                  []|                  []|   []|                NULL|                  []|                  []|           NULL|                  []|                  []|{[], {pdm, Public...|Front page of the...|Work|{q, Digital Image...|\n",
      "+--------------------+--------------------+--------------------+-----------+----------------+--------------------+-----------+--------+-------+---------------+--------------------+--------------------+--------+--------------------+-------------------+--------------------+--------------------+--------------------+--------------------+--------------------+-----+--------------------+--------------------+--------------------+---------------+--------------------+--------------------+--------------------+--------------------+----+--------------------+\n",
      "only showing top 20 rows\n",
      "\n"
     ]
    }
   ],
   "source": [
    "df_repartitioned.show()"
   ]
  },
  {
   "cell_type": "markdown",
   "id": "5f726e35",
   "metadata": {},
   "source": [
    "# Save Works table"
   ]
  },
  {
   "cell_type": "code",
   "execution_count": 5,
   "id": "2ee1dbc4",
   "metadata": {},
   "outputs": [
    {
     "name": "stderr",
     "output_type": "stream",
     "text": [
      "                                                                                \r"
     ]
    }
   ],
   "source": [
    "df_repartitioned.write.saveAsTable(\"works\")"
   ]
  },
  {
   "cell_type": "markdown",
   "id": "94dbc0ef",
   "metadata": {},
   "source": [
    "# Test works table with SQL"
   ]
  },
  {
   "cell_type": "code",
   "execution_count": 6,
   "id": "4de8b1c8",
   "metadata": {},
   "outputs": [
    {
     "name": "stderr",
     "output_type": "stream",
     "text": [
      "[Stage 4:>                                                          (0 + 1) / 1]\r"
     ]
    },
    {
     "name": "stdout",
     "output_type": "stream",
     "text": [
      "+--------------------+--------------------+--------------------+-----------+----------------+--------------------+-----------+--------+-------+---------------+--------------------+--------------------+--------+--------------------+-------------------+--------------------+--------------------+--------------------+--------------------+--------------------+-----+--------------------+--------------------+--------------------+--------------------+--------------------+--------------------+--------------------+--------------------+----+--------------------+\n",
      "|   alternativeTitles|      availabilities|        contributors|createdDate|currentFrequency|         description|designation|duration|edition|formerFrequency|              genres|            holdings|      id|         identifiers|             images|               items|           languages|           lettering|               notes|              partOf|parts| physicalDescription|          precededBy|          production|     referenceNumber|            subjects|         succeededBy|           thumbnail|               title|type|            workType|\n",
      "+--------------------+--------------------+--------------------+-----------+----------------+--------------------+-----------+--------+-------+---------------+--------------------+--------------------+--------+--------------------+-------------------+--------------------+--------------------+--------------------+--------------------+--------------------+-----+--------------------+--------------------+--------------------+--------------------+--------------------+--------------------+--------------------+--------------------+----+--------------------+\n",
      "|                  []|[{closed-stores, ...|[{{mhwbzbxm, [{{l...|       NULL|            NULL|                NULL|         []|    NULL|   NULL|             []|                  []|                  []|upv6vqtt|[{{sierra-system-...|                 []|[{ere6ew33, [{{si...|[{eng, English, L...|                NULL|                  []|                  []|   []|xvii, 112 pages :...|                  []|[{[{Women's Aid F...|                NULL|[{[{a8kany2p, [{{...|                  []|                NULL|Leaving violent m...|Work|  {a, Books, Format}|\n",
      "|                  []|[{closed-stores, ...|                  []|       NULL|            NULL|Decorative and Ho...|         []|    NULL|   NULL|             []|                  []|                  []|xpk6b63t|[{{calm-record-id...|                 []|[{drxrd6n5, [{{si...|                  []|                NULL|                  []|[{ch2xsqkr, [{tmt...|   []|              1 item|[{ku6n3jav, WA/HM...|[{[], [{18th July...|WA/HMM/CM/Sal/15/247|                  []|[{yhpg7n7p, WA/HM...|{[], {pdm, Public...|Sales catalogue: ...|Work|{h, Archives and ...|\n",
      "|                  []|[{closed-stores, ...|[{{g7cd66gs, [{{l...|       NULL|            NULL|                NULL|         []|    NULL|   NULL|             []|[{[{fnmpvt78, [{{...|                  []|ue6gc5rt|[{{sierra-system-...|[{v6yew4s7, Image}]|[{kcm9u6dh, [{{si...|[{eng, English, L...|To the King's Mos...|[{[Wellcome Colle...|                  []|   []|1 print : engravi...|                  []|[{[{Messrs Woolet...|             545970i|[{[{dv9957xd, [{{...|                  []|                NULL|The death of Gene...|Work|{k, Pictures, For...|\n",
      "|                  []|[{closed-stores, ...|[{{h8mp4q8y, [{{l...|       NULL|            NULL|                NULL|         []|    NULL|   NULL|             []|[{[{tbeys2vz, [{{...|                  []|xsvvz5s6|[{{sierra-system-...|                 []|[{yuy976un, [{{si...|[{eng, English, L...|                NULL|[{[Cover title.],...|[{NULL, NULL, NUL...|   []|17 pages : illust...|                  []|[{[{World Health ...|                NULL|[{[{wjsru55w, [{{...|                  []|                NULL|WHO in Europe : m...|Work|  {a, Books, Format}|\n",
      "|[Act for making p...|[{online, Online,...|                  []|       NULL|            NULL|                NULL|         []|    NULL|   NULL|             []|                  []|[{[Full text avai...|fzvkewja|[{{ebsco-alt-look...|                 []|                  []|                  []|                NULL|                  []|[{NULL, NULL, NUL...|   []|                NULL|                  []|[{[], [], NULL, ,...|                NULL|                  []|                  []|                NULL|An Act for making...|Work|{v, E-books, Format}|\n",
      "|                  []|[{online, Online,...|[{{sapnkenv, [{{l...|       NULL|            NULL|                NULL|         []|    NULL|   NULL|             []|[{[{kqkakf66, [{{...|                  []|xvsruspg|[{{sierra-system-...|                 []|[{NULL, [], [{[{{...|[{lat, Latin, Lan...|                NULL|[{[Reproduction o...|[{NULL, NULL, NUL...|   []|Online resource (...|                  []|[{[{Oporinus, Joh...|                NULL|                  []|                  []|                NULL|De humani corpori...|Work|  {a, Books, Format}|\n",
      "|                  []|[{closed-stores, ...|[{{c6j3b6bk, [{{l...|       NULL|            NULL|                NULL|         []|    NULL|   NULL|             []|                  []|                  []|cejn688w|[{{sierra-system-...|                 []|[{taccejfr, [{{si...|[{eng, English, L...|                NULL|[{[Includes bibli...|                  []|   []|xx, 280 pages ; 2...|                  []|[{[{Student Chris...|                NULL|[{[{fu7s7gbq, [{{...|                  []|                NULL|Christianity and ...|Work|  {a, Books, Format}|\n",
      "|                  []|[{closed-stores, ...|                  []|       NULL|            NULL|                NULL|         []|    NULL|   NULL|             []|[{[{nc9vxjsv, [{{...|                  []|yayjb7p2|[{{sierra-system-...|[{tftmhjhc, Image}]|[{rzecmw2f, [{{si...|[{eng, English, L...|Hydrophasianus si...|[{[Wellcome Colle...|                  []|   []|1 print : chromol...|                  []|[{[], [{1875, Per...|              42895i|[{[{nc67m7xp, [{{...|                  []|{[], {pdm, Public...|A chinese jacana ...|Work|{k, Pictures, For...|\n",
      "|[Economy of human...|[{online, Online,...|                  []|       NULL|            NULL|                NULL|         []|    NULL|   NULL|             []|                  []|[{[Full text avai...|hcngsrnc|[{{ebsco-alt-look...|                 []|                  []|                  []|                NULL|                  []|[{NULL, NULL, NUL...|   []|                NULL|                  []|[{[], [], NULL, ,...|                NULL|                  []|                  []|                NULL|The economy of hu...|Work|{v, E-books, Format}|\n",
      "|                  []|[{closed-stores, ...|[{{nb7bwm3m, [{{l...|       NULL|            NULL|                NULL|         []|    NULL|   NULL|             []|[{[{g4ecyzbj, [{{...|[{[Vol. 1 only Co...|r4p69hx4|[{{sierra-system-...|                 []|[{khnwdedc, [{{si...|[{eng, English, L...|                NULL|[{[At head of tit...|                  []|   []|     volumes ; 26 cm|                  []|[{[{Macmillan co....|                NULL|[{[{vjjej5kt, [{{...|                  []|{[], {inc, In cop...|Calendar of the p...|Work|  {a, Books, Format}|\n",
      "|[Christian's patt...|[{online, Online,...|                  []|       NULL|            NULL|                NULL|         []|    NULL|   NULL|             []|                  []|[{[Full text avai...|srgjtjsv|[{{ebsco-alt-look...|                 []|                  []|                  []|                NULL|                  []|[{NULL, NULL, NUL...|   []|                NULL|                  []|                  []|                NULL|                  []|                  []|                NULL|The Christian's p...|Work|{j, E-journals, F...|\n",
      "|[True and exact a...|[{online, Online,...|                  []|       NULL|            NULL|                NULL|         []|    NULL|   NULL|             []|                  []|[{[Full text avai...|jz22kqdn|[{{ebsco-alt-look...|                 []|                  []|                  []|                NULL|                  []|[{NULL, NULL, NUL...|   []|                NULL|                  []|[{[], [], NULL, ,...|                NULL|                  []|                  []|                NULL|A true and exact ...|Work|{v, E-books, Format}|\n",
      "|                  []|[{closed-stores, ...|[{{j4rd6bny, [{{l...|       NULL|            NULL|                NULL|         []|    NULL|   NULL|             []|[{[{tbeys2vz, [{{...|                  []|qqrrbmrm|[{{sierra-system-...|                 []|[{trcvsr9s, [{{si...|[{eng, English, L...|                NULL|[{[Caption title....|[{NULL, NULL, NUL...|   []|   19 pages ; 24 cm.|                  []|[{[{[U.S. G.P.O.]...|                NULL|[{[{g3gmz7k6, [{{...|                  []|                NULL|Biotechnology Pat...|Work|  {a, Books, Format}|\n",
      "|                  []|[{closed-stores, ...|[{{d4hmkm7c, [{{l...|       NULL|            NULL|                NULL|         []|    NULL|   NULL|             []|[{[{kayu55xf, [{{...|                  []|rvxt5ykx|[{{sierra-system-...|[{ngw9gh45, Image}]|[{d7qqpmbq, [{{si...|[{eng, English, L...|Feigned sorrow or...|[{[Wellcome Colle...|                  []|   []|1 print : mezzoti...|                  []|[{[{Robt. Sayer, ...|              28612i|                  []|                  []|{[], {pdm, Public...|A man leaves the ...|Work|{k, Pictures, For...|\n",
      "|[Universal negoti...|[{online, Online,...|[{{mft7cs38, [{{l...|       NULL|            NULL|                NULL|         []|    NULL|   NULL|             []|                  []|[{[Full text avai...|cfpk5v3c|[{{ebsco-alt-look...|                 []|                  []|                  []|                NULL|                  []|[{NULL, NULL, NUL...|   []|                NULL|                  []|[{[], [], NULL, ,...|                NULL|                  []|                  []|                NULL|The universal neg...|Work|{v, E-books, Format}|\n",
      "|                  []|[{closed-stores, ...|                  []|       NULL|            NULL|Articles on commu...|         []|    NULL|   NULL|             []|                  []|                  []|r3ehc2zn|[{{calm-record-id...|                 []|[{fkue3pwf, [{{si...|                  []|                NULL|                  []|[{skf8xqe3, [{z9w...|   []|              1 file|[{mm5hyt23, SA/ME...|[{[], [{1986-1987...|    SA/MED/H/2/5/1/4|                  []|                  []|                NULL|Articles and pape...|Work|{h, Archives and ...|\n",
      "|[Christian journa...|[{online, Online,...|[{{ga2xh4cu, [{{l...|       NULL|            NULL|                NULL|         []|    NULL|   NULL|             []|                  []|[{[Full text avai...|kqpu8n54|[{{ebsco-alt-look...|                 []|                  []|                  []|                NULL|                  []|[{NULL, NULL, NUL...|   []|                NULL|                  []|[{[], [], NULL, ,...|                NULL|                  []|                  []|                NULL|The christian jou...|Work|{v, E-books, Format}|\n",
      "|[Trial at large o...|[{online, Online,...|[{{v4tsggkn, [{{l...|       NULL|            NULL|                NULL|         []|    NULL|   NULL|             []|                  []|[{[Full text avai...|gcz4zf2r|[{{ebsco-alt-look...|                 []|                  []|                  []|                NULL|                  []|[{NULL, NULL, NUL...|   []|                NULL|                  []|[{[], [], NULL, ,...|                NULL|                  []|                  []|                NULL|The trial at larg...|Work|{v, E-books, Format}|\n",
      "|                  []|[{closed-stores, ...|[{{q92knnfp, [{{l...|       NULL|            NULL|                NULL|         []|    NULL|   NULL|             []|                  []|                  []|p55rumbv|[{{sierra-system-...|                 []|[{sqeeksk2, [{{si...|[{eng, English, L...|                NULL|[{[Includes index...|                  []|   []|viii, 486 pages ;...|                  []|[{[{W.B. Saunders...|                NULL|[{[{qgvdsqat, [{{...|                  []|{[], {inc, In cop...|The endocrines / ...|Work|  {a, Books, Format}|\n",
      "|                  []|                  []|[{{x6knj4d9, [{{l...|       NULL|            NULL|Produced by the M...|         []|    NULL|   NULL|             []|                  []|                  []|xpqzsuj4|[{{calm-record-id...|                 []|[{NULL, [], [{[{{...|                  []|                NULL|[{[King's College...|[{pytmzkw4, [{nxa...|   []|1 item Half plate...|[{aqywgrrg, KDBP/...|[{[], [{February ...|        KDBP/1/2/424|                  []|[{xne2ptqk, KDBP/...|                NULL|Photograph taken ...|Work|{h, Archives and ...|\n",
      "+--------------------+--------------------+--------------------+-----------+----------------+--------------------+-----------+--------+-------+---------------+--------------------+--------------------+--------+--------------------+-------------------+--------------------+--------------------+--------------------+--------------------+--------------------+-----+--------------------+--------------------+--------------------+--------------------+--------------------+--------------------+--------------------+--------------------+----+--------------------+\n",
      "only showing top 20 rows\n",
      "\n"
     ]
    },
    {
     "name": "stderr",
     "output_type": "stream",
     "text": [
      "                                                                                \r"
     ]
    }
   ],
   "source": [
    "spark.sql(\"SELECT * FROM works\").show()"
   ]
  },
  {
   "cell_type": "code",
   "execution_count": 7,
   "id": "201b6265",
   "metadata": {},
   "outputs": [
    {
     "name": "stdout",
     "output_type": "stream",
     "text": [
      "+-------------+-------------+------------+\n",
      "|           id|        label|        type|\n",
      "+-------------+-------------+------------+\n",
      "|closed-stores|Closed stores|Availability|\n",
      "|closed-stores|Closed stores|Availability|\n",
      "|       online|       Online|Availability|\n",
      "|closed-stores|Closed stores|Availability|\n",
      "|closed-stores|Closed stores|Availability|\n",
      "+-------------+-------------+------------+\n",
      "only showing top 5 rows\n",
      "\n"
     ]
    }
   ],
   "source": [
    "spark.sql(\"SELECT col.* FROM (SELECT EXPLODE(availabilities) FROM works)\").show(5)"
   ]
  },
  {
   "cell_type": "code",
   "execution_count": 8,
   "id": "714e3112",
   "metadata": {},
   "outputs": [
    {
     "name": "stdout",
     "output_type": "stream",
     "text": [
      "+--------------------+--------------------+--------+--------------------+-----------------+---------------+\n",
      "|              agents|               dates|function|               label|           places|           type|\n",
      "+--------------------+--------------------+--------+--------------------+-----------------+---------------+\n",
      "|[{G.A. Valvassore...|    [{1549, Period}]|    NULL|Venice : G.A. Val...|[{Venice, Place}]|ProductionEvent|\n",
      "|                  []|[{18th July 1923,...|    NULL|      18th July 1923|               []|ProductionEvent|\n",
      "|                  []|    [{1949, Period}]|    NULL|                1949|               []|ProductionEvent|\n",
      "|                  []|                  []|    NULL|                    |      [{, Place}]|ProductionEvent|\n",
      "|                  []|[{1940-1975, Peri...|    NULL|           1940-1975|               []|ProductionEvent|\n",
      "+--------------------+--------------------+--------+--------------------+-----------------+---------------+\n",
      "only showing top 5 rows\n",
      "\n"
     ]
    }
   ],
   "source": [
    "spark.sql(\"SELECT col.* FROM (SELECT EXPLODE(production) FROM works)\").show(5)"
   ]
  },
  {
   "cell_type": "code",
   "execution_count": 9,
   "id": "89675e87",
   "metadata": {},
   "outputs": [
    {
     "name": "stdout",
     "output_type": "stream",
     "text": [
      "+--------------------+-----+\n",
      "|               label| type|\n",
      "+--------------------+-----+\n",
      "|     G.A. Valvassore|Agent|\n",
      "|          L. d'Houry|Agent|\n",
      "|International Uni...|Agent|\n",
      "|The Commonwealth ...|Agent|\n",
      "|Oxford University...|Agent|\n",
      "+--------------------+-----+\n",
      "only showing top 5 rows\n",
      "\n"
     ]
    }
   ],
   "source": [
    "spark.sql(\"SELECT col.* FROM (SELECT EXPLODE(agents) FROM (SELECT col.* FROM (SELECT EXPLODE(production) FROM works)))\").show(5)"
   ]
  },
  {
   "cell_type": "markdown",
   "id": "1fedc317",
   "metadata": {},
   "source": [
    "# Explode structs exploration"
   ]
  },
  {
   "cell_type": "code",
   "execution_count": 6,
   "id": "4ebb5373",
   "metadata": {},
   "outputs": [
    {
     "name": "stdout",
     "output_type": "stream",
     "text": [
      "+----------+\n",
      "|      type|\n",
      "+----------+\n",
      "|   Section|\n",
      "|      Work|\n",
      "|Collection|\n",
      "|    Series|\n",
      "+----------+\n",
      "\n"
     ]
    }
   ],
   "source": [
    "df_repartitioned.select(\"type\").distinct().show()"
   ]
  },
  {
   "cell_type": "code",
   "execution_count": 7,
   "id": "7cec46fe",
   "metadata": {},
   "outputs": [
    {
     "name": "stdout",
     "output_type": "stream",
     "text": [
      "+-------------+-------------+------------+\n",
      "|id           |label        |type        |\n",
      "+-------------+-------------+------------+\n",
      "|closed-stores|Closed stores|Availability|\n",
      "|online       |Online       |Availability|\n",
      "|open-shelves |Open shelves |Availability|\n",
      "+-------------+-------------+------------+\n",
      "\n"
     ]
    }
   ],
   "source": [
    "from pyspark.sql.functions import explode\n",
    "\n",
    "# Explode the 'availabilities' array to create one row per element\n",
    "exploded_df = df_repartitioned.select(\n",
    "    explode(\"availabilities\").alias(\"availability\"))\n",
    "\n",
    "# Select all fields from the availability struct and get distinct rows\n",
    "unique_availabilities = exploded_df.select(\"availability.*\").distinct()\n",
    "\n",
    "unique_availabilities.show(truncate=False)"
   ]
  },
  {
   "cell_type": "code",
   "execution_count": 8,
   "id": "35631ae6",
   "metadata": {},
   "outputs": [
    {
     "name": "stderr",
     "output_type": "stream",
     "text": [
      "                                                                                \r"
     ]
    },
    {
     "data": {
      "application/vnd.microsoft.datawrangler.viewer.v0+json": {
       "columns": [
        {
         "name": "index",
         "rawType": "int64",
         "type": "integer"
        },
        {
         "name": "label",
         "rawType": "object",
         "type": "string"
        }
       ],
       "conversionMethod": "pd.DataFrame",
       "ref": "e4a7ef86-3a38-45fe-988b-140ae99d73bd",
       "rows": [
        [
         "0",
         "Electronic journals"
        ],
        [
         "1",
         "Envelopes"
        ],
        [
         "2",
         "Platinum prints"
        ],
        [
         "3",
         "Dictionaries - English"
        ],
        [
         "4",
         "Online-Publikation"
        ],
        [
         "5",
         "Transparencies"
        ],
        [
         "6",
         "Artists' Books"
        ],
        [
         "7",
         "Legislation"
        ],
        [
         "8",
         "Theater programs"
        ],
        [
         "9",
         "Dictionaries - German"
        ],
        [
         "10",
         "Personal narratives"
        ],
        [
         "11",
         "Outlines"
        ],
        [
         "12",
         "Quotations"
        ],
        [
         "13",
         "Casebooks"
        ],
        [
         "14",
         "Periodical"
        ],
        [
         "15",
         "Wet collodion negatives"
        ],
        [
         "16",
         "Tables (Systematic lists)"
        ],
        [
         "17",
         "Academic dissertations - Netherlands - Leiden - 18th cent"
        ],
        [
         "18",
         "Aphorisms and Proverbs"
        ],
        [
         "19",
         "Postal stationery"
        ],
        [
         "20",
         "Dystopias"
        ],
        [
         "21",
         "University catalogues"
        ],
        [
         "22",
         "Periodical illustrations"
        ],
        [
         "23",
         "Diaries"
        ],
        [
         "24",
         "Dictionaries - French"
        ],
        [
         "25",
         "Photobooks"
        ],
        [
         "26",
         "Carte de visite"
        ],
        [
         "27",
         "Albumen prints"
        ],
        [
         "28",
         "Périodique électronique (Descripteur de forme)"
        ],
        [
         "29",
         "Short Stories"
        ],
        [
         "30",
         "Etchings"
        ],
        [
         "31",
         "Catalogues"
        ],
        [
         "32",
         "Patents"
        ],
        [
         "33",
         "Portrait drawings"
        ],
        [
         "34",
         "Criticism, interpretation, etc"
        ],
        [
         "35",
         "Academic dissertations - Germany - Jena - 17th cent"
        ],
        [
         "36",
         "Chronograms"
        ],
        [
         "37",
         "Periodicals - Art"
        ],
        [
         "38",
         "Genre drawings"
        ],
        [
         "39",
         "Ballads"
        ],
        [
         "40",
         "Wrappers (Binding) - England - London - 19th century"
        ],
        [
         "41",
         "Radiographs"
        ],
        [
         "42",
         "Biographies"
        ],
        [
         "43",
         "Stationery"
        ],
        [
         "44",
         "Pastels (Visual works)"
        ],
        [
         "45",
         "periodicals"
        ],
        [
         "46",
         "Addresses"
        ],
        [
         "47",
         "Atlases"
        ],
        [
         "48",
         "Offset photomechanical prints"
        ],
        [
         "49",
         "Urban landscapes"
        ]
       ],
       "shape": {
        "columns": 1,
        "rows": 1517
       }
      },
      "text/html": [
       "<div>\n",
       "<style scoped>\n",
       "    .dataframe tbody tr th:only-of-type {\n",
       "        vertical-align: middle;\n",
       "    }\n",
       "\n",
       "    .dataframe tbody tr th {\n",
       "        vertical-align: top;\n",
       "    }\n",
       "\n",
       "    .dataframe thead th {\n",
       "        text-align: right;\n",
       "    }\n",
       "</style>\n",
       "<table border=\"1\" class=\"dataframe\">\n",
       "  <thead>\n",
       "    <tr style=\"text-align: right;\">\n",
       "      <th></th>\n",
       "      <th>label</th>\n",
       "    </tr>\n",
       "  </thead>\n",
       "  <tbody>\n",
       "    <tr>\n",
       "      <th>0</th>\n",
       "      <td>Electronic journals</td>\n",
       "    </tr>\n",
       "    <tr>\n",
       "      <th>1</th>\n",
       "      <td>Envelopes</td>\n",
       "    </tr>\n",
       "    <tr>\n",
       "      <th>2</th>\n",
       "      <td>Platinum prints</td>\n",
       "    </tr>\n",
       "    <tr>\n",
       "      <th>3</th>\n",
       "      <td>Dictionaries - English</td>\n",
       "    </tr>\n",
       "    <tr>\n",
       "      <th>4</th>\n",
       "      <td>Online-Publikation</td>\n",
       "    </tr>\n",
       "    <tr>\n",
       "      <th>...</th>\n",
       "      <td>...</td>\n",
       "    </tr>\n",
       "    <tr>\n",
       "      <th>1512</th>\n",
       "      <td>Caricature</td>\n",
       "    </tr>\n",
       "    <tr>\n",
       "      <th>1513</th>\n",
       "      <td>Pictorial Work</td>\n",
       "    </tr>\n",
       "    <tr>\n",
       "      <th>1514</th>\n",
       "      <td>Strips (teksten)</td>\n",
       "    </tr>\n",
       "    <tr>\n",
       "      <th>1515</th>\n",
       "      <td>Therapeutics</td>\n",
       "    </tr>\n",
       "    <tr>\n",
       "      <th>1516</th>\n",
       "      <td>Laboratory Manuals</td>\n",
       "    </tr>\n",
       "  </tbody>\n",
       "</table>\n",
       "<p>1517 rows × 1 columns</p>\n",
       "</div>"
      ],
      "text/plain": [
       "                       label\n",
       "0        Electronic journals\n",
       "1                  Envelopes\n",
       "2            Platinum prints\n",
       "3     Dictionaries - English\n",
       "4         Online-Publikation\n",
       "...                      ...\n",
       "1512              Caricature\n",
       "1513          Pictorial Work\n",
       "1514        Strips (teksten)\n",
       "1515            Therapeutics\n",
       "1516      Laboratory Manuals\n",
       "\n",
       "[1517 rows x 1 columns]"
      ]
     },
     "execution_count": 8,
     "metadata": {},
     "output_type": "execute_result"
    }
   ],
   "source": [
    "# Explode the 'genres' array to get one row per genre struct\n",
    "exploded_genres = df_repartitioned.select(explode(\"genres\").alias(\"genre\"))\n",
    "\n",
    "# Select the 'label' field from the genre struct and get distinct values\n",
    "unique_genre_labels = exploded_genres.select(\"genre.label\").distinct()\n",
    "\n",
    "# Show the unique genre labels\n",
    "unique_genre_labels_pandas = unique_genre_labels.toPandas()\n",
    "unique_genre_labels_pandas"
   ]
  },
  {
   "cell_type": "markdown",
   "id": "7098d00d",
   "metadata": {},
   "source": [
    "# Read Images dataset"
   ]
  },
  {
   "cell_type": "code",
   "execution_count": 3,
   "id": "215f28ae",
   "metadata": {},
   "outputs": [
    {
     "name": "stderr",
     "output_type": "stream",
     "text": [
      "                                                                                \r"
     ]
    }
   ],
   "source": [
    "df_img = spark.read.json(spark_path(\"../data/imports/images.json.gz\"))"
   ]
  },
  {
   "cell_type": "code",
   "execution_count": 4,
   "id": "e156610c",
   "metadata": {},
   "outputs": [
    {
     "name": "stderr",
     "output_type": "stream",
     "text": [
      "                                                                                \r"
     ]
    }
   ],
   "source": [
    "df_img.write.saveAsTable(\"images\", mode=\"overwrite\")"
   ]
  },
  {
   "cell_type": "code",
   "execution_count": 10,
   "id": "e713a6cc",
   "metadata": {},
   "outputs": [
    {
     "name": "stdout",
     "output_type": "stream",
     "text": [
      "root\n",
      " |-- aspectRatio: double (nullable = true)\n",
      " |-- averageColor: string (nullable = true)\n",
      " |-- id: string (nullable = true)\n",
      " |-- locations: array (nullable = true)\n",
      " |    |-- element: struct (containsNull = true)\n",
      " |    |    |-- accessConditions: array (nullable = true)\n",
      " |    |    |    |-- element: struct (containsNull = true)\n",
      " |    |    |    |    |-- method: struct (nullable = true)\n",
      " |    |    |    |    |    |-- id: string (nullable = true)\n",
      " |    |    |    |    |    |-- label: string (nullable = true)\n",
      " |    |    |    |    |    |-- type: string (nullable = true)\n",
      " |    |    |    |    |-- status: struct (nullable = true)\n",
      " |    |    |    |    |    |-- id: string (nullable = true)\n",
      " |    |    |    |    |    |-- label: string (nullable = true)\n",
      " |    |    |    |    |    |-- type: string (nullable = true)\n",
      " |    |    |    |    |-- type: string (nullable = true)\n",
      " |    |    |-- credit: string (nullable = true)\n",
      " |    |    |-- license: struct (nullable = true)\n",
      " |    |    |    |-- id: string (nullable = true)\n",
      " |    |    |    |-- label: string (nullable = true)\n",
      " |    |    |    |-- type: string (nullable = true)\n",
      " |    |    |    |-- url: string (nullable = true)\n",
      " |    |    |-- locationType: struct (nullable = true)\n",
      " |    |    |    |-- id: string (nullable = true)\n",
      " |    |    |    |-- label: string (nullable = true)\n",
      " |    |    |    |-- type: string (nullable = true)\n",
      " |    |    |-- type: string (nullable = true)\n",
      " |    |    |-- url: string (nullable = true)\n",
      " |-- source: struct (nullable = true)\n",
      " |    |-- contributors: array (nullable = true)\n",
      " |    |    |-- element: struct (containsNull = true)\n",
      " |    |    |    |-- agent: struct (nullable = true)\n",
      " |    |    |    |    |-- id: string (nullable = true)\n",
      " |    |    |    |    |-- label: string (nullable = true)\n",
      " |    |    |    |    |-- type: string (nullable = true)\n",
      " |    |    |    |-- primary: boolean (nullable = true)\n",
      " |    |    |    |-- roles: array (nullable = true)\n",
      " |    |    |    |    |-- element: struct (containsNull = true)\n",
      " |    |    |    |    |    |-- label: string (nullable = true)\n",
      " |    |    |    |    |    |-- type: string (nullable = true)\n",
      " |    |    |    |-- type: string (nullable = true)\n",
      " |    |-- genres: array (nullable = true)\n",
      " |    |    |-- element: struct (containsNull = true)\n",
      " |    |    |    |-- concepts: array (nullable = true)\n",
      " |    |    |    |    |-- element: struct (containsNull = true)\n",
      " |    |    |    |    |    |-- id: string (nullable = true)\n",
      " |    |    |    |    |    |-- label: string (nullable = true)\n",
      " |    |    |    |    |    |-- type: string (nullable = true)\n",
      " |    |    |    |-- label: string (nullable = true)\n",
      " |    |    |    |-- type: string (nullable = true)\n",
      " |    |-- id: string (nullable = true)\n",
      " |    |-- languages: array (nullable = true)\n",
      " |    |    |-- element: struct (containsNull = true)\n",
      " |    |    |    |-- id: string (nullable = true)\n",
      " |    |    |    |-- label: string (nullable = true)\n",
      " |    |    |    |-- type: string (nullable = true)\n",
      " |    |-- subjects: array (nullable = true)\n",
      " |    |    |-- element: struct (containsNull = true)\n",
      " |    |    |    |-- concepts: array (nullable = true)\n",
      " |    |    |    |    |-- element: struct (containsNull = true)\n",
      " |    |    |    |    |    |-- id: string (nullable = true)\n",
      " |    |    |    |    |    |-- label: string (nullable = true)\n",
      " |    |    |    |    |    |-- type: string (nullable = true)\n",
      " |    |    |    |-- id: string (nullable = true)\n",
      " |    |    |    |-- label: string (nullable = true)\n",
      " |    |    |    |-- type: string (nullable = true)\n",
      " |    |-- title: string (nullable = true)\n",
      " |    |-- type: string (nullable = true)\n",
      " |-- thumbnail: struct (nullable = true)\n",
      " |    |-- accessConditions: array (nullable = true)\n",
      " |    |    |-- element: struct (containsNull = true)\n",
      " |    |    |    |-- method: struct (nullable = true)\n",
      " |    |    |    |    |-- id: string (nullable = true)\n",
      " |    |    |    |    |-- label: string (nullable = true)\n",
      " |    |    |    |    |-- type: string (nullable = true)\n",
      " |    |    |    |-- status: struct (nullable = true)\n",
      " |    |    |    |    |-- id: string (nullable = true)\n",
      " |    |    |    |    |-- label: string (nullable = true)\n",
      " |    |    |    |    |-- type: string (nullable = true)\n",
      " |    |    |    |-- type: string (nullable = true)\n",
      " |    |-- credit: string (nullable = true)\n",
      " |    |-- license: struct (nullable = true)\n",
      " |    |    |-- id: string (nullable = true)\n",
      " |    |    |-- label: string (nullable = true)\n",
      " |    |    |-- type: string (nullable = true)\n",
      " |    |    |-- url: string (nullable = true)\n",
      " |    |-- locationType: struct (nullable = true)\n",
      " |    |    |-- id: string (nullable = true)\n",
      " |    |    |-- label: string (nullable = true)\n",
      " |    |    |-- type: string (nullable = true)\n",
      " |    |-- type: string (nullable = true)\n",
      " |    |-- url: string (nullable = true)\n",
      " |-- type: string (nullable = true)\n",
      "\n"
     ]
    }
   ],
   "source": [
    "df_img.printSchema()"
   ]
  },
  {
   "cell_type": "code",
   "execution_count": 11,
   "id": "ec1ce8ef",
   "metadata": {},
   "outputs": [
    {
     "name": "stdout",
     "output_type": "stream",
     "text": [
      "+-----------+------------+--------+--------------------+--------------------+--------------------+-----+\n",
      "|aspectRatio|averageColor|      id|           locations|              source|           thumbnail| type|\n",
      "+-----------+------------+--------+--------------------+--------------------+--------------------+-----+\n",
      "|  1.4705882|     #363935|msg3gj54|[{[{{view-online,...|{[], [], nf7cjmsg...|{[{{view-online, ...|Image|\n",
      "|      0.775|     #5f5b55|p4tj67k8|[{[{{view-online,...|{[], [{[{dhgr6mj5...|{[{{view-online, ...|Image|\n",
      "|       0.77|     #93908f|m5xrbr5f|[{[{{view-online,...|{[], [{[{esk9t6nc...|{[{{view-online, ...|Image|\n",
      "|      0.665|     #865f46|b864z9kp|[{[{{view-online,...|{[{{crk28fmh, Car...|{[{{view-online, ...|Image|\n",
      "|     0.8175|     #858585|ts7gybyc|[{[{{view-online,...|{[], [], tfm3zjpu...|{[{{view-online, ...|Image|\n",
      "|      0.665|     #757370|jkkhdjjz|[{[{{view-online,...|{[{{v4yhncct, Wil...|{[{{view-online, ...|Image|\n",
      "|     0.6325|     #b8b2ae|emf3xqh5|[{[{{view-online,...|{[{{yrj7ug2c, Luc...|{[{{view-online, ...|Image|\n",
      "|  1.6064258|     #979797|dmu6nms5|[{[{{view-online,...|{[{{n75925wv, Hea...|{[{{view-online, ...|Image|\n",
      "|      0.655|     #d0bea9|kn2qsydz|[{[{{view-online,...|{[], [], ncczkpq7...|{[{{view-online, ...|Image|\n",
      "|       0.89|     #c0c0c0|cqr7e8js|[{[{{view-online,...|{[], [{[{t5zepddp...|{[{{view-online, ...|Image|\n",
      "|  1.5037594|     #b9bcc1|hbt6pv8f|[{[{{view-online,...|{[{{yb4qd2nz, Car...|{[{{view-online, ...|Image|\n",
      "|      0.555|     #f2f2f2|qfq5xqf9|[{[{{view-online,...|{[{{vevq9pqy, Duj...|{[{{view-online, ...|Image|\n",
      "|  2.0408163|     #918f8f|r2mn39v5|[{[{{view-online,...|{[{{usqyr9ur, Tho...|{[{{view-online, ...|Image|\n",
      "|  1.3651878|     #6c6454|tgtrvte7|[{[{{view-online,...|{[], [{[{fmydsuw2...|{[{{view-online, ...|Image|\n",
      "|     1.5625|     #cbaa8d|jq3mr5bj|[{[{{view-online,...|{[], [], haqz47e3...|{[{{view-online, ...|Image|\n",
      "|     0.6575|     #8c8679|gjq2jamf|[{[{{view-online,...|{[{{zbcc8hrk, Mul...|{[{{view-online, ...|Image|\n",
      "|      0.645|     #bda690|qxe4bqg7|[{[{{view-online,...|{[], [{[{esk9t6nc...|{[{{view-online, ...|Image|\n",
      "|  1.3333334|     #68594b|qma54egm|[{[{{view-online,...|{[], [{[{heppxqaz...|{[{{view-online, ...|Image|\n",
      "|   1.532567|     #3c5441|drfzm5w6|[{[{{view-online,...|{[{{ekvnx3mw, Row...|{[{{view-online, ...|Image|\n",
      "|      0.645|     #bb9e83|vjy4mbb9|[{[{{view-online,...|{[{{xzj4jvwg, Gri...|{[{{view-online, ...|Image|\n",
      "+-----------+------------+--------+--------------------+--------------------+--------------------+-----+\n",
      "only showing top 20 rows\n",
      "\n"
     ]
    }
   ],
   "source": [
    "df_img.show()"
   ]
  },
  {
   "cell_type": "code",
   "execution_count": 10,
   "id": "18883b1f",
   "metadata": {},
   "outputs": [],
   "source": [
    "from pyspark.sql import functions as F"
   ]
  },
  {
   "cell_type": "code",
   "execution_count": 7,
   "id": "7e9879e2",
   "metadata": {},
   "outputs": [
    {
     "name": "stderr",
     "output_type": "stream",
     "text": [
      "                                                                                \r"
     ]
    },
    {
     "data": {
      "text/plain": [
       "128755"
      ]
     },
     "execution_count": 7,
     "metadata": {},
     "output_type": "execute_result"
    }
   ],
   "source": [
    "df_img.count()"
   ]
  },
  {
   "cell_type": "code",
   "execution_count": 11,
   "id": "3769b841",
   "metadata": {},
   "outputs": [
    {
     "data": {
      "text/plain": [
       "480"
      ]
     },
     "execution_count": 11,
     "metadata": {},
     "output_type": "execute_result"
    }
   ],
   "source": [
    "spark.table(\"images\").where(F.col(\"aspectRatio\") == 1.0).count()"
   ]
  },
  {
   "cell_type": "code",
   "execution_count": 5,
   "id": "67b147a4",
   "metadata": {},
   "outputs": [
    {
     "name": "stdout",
     "output_type": "stream",
     "text": [
      "{\n",
      "    \"aspectRatio\": 1.4705882,\n",
      "    \"averageColor\": \"#363935\",\n",
      "    \"id\": \"msg3gj54\",\n",
      "    \"locations\": [\n",
      "        [\n",
      "            [\n",
      "                [\n",
      "                    [\n",
      "                        \"view-online\",\n",
      "                        \"View online\",\n",
      "                        \"AccessMethod\"\n",
      "                    ],\n",
      "                    [\n",
      "                        \"open\",\n",
      "                        \"Open\",\n",
      "                        \"AccessStatus\"\n",
      "                    ],\n",
      "                    \"AccessCondition\"\n",
      "                ]\n",
      "            ],\n",
      "            \"Wellcome Collection\",\n",
      "            [\n",
      "                \"cc-by\",\n",
      "                \"Attribution 4.0 International (CC BY 4.0)\",\n",
      "                \"License\",\n",
      "                \"http://creativecommons.org/licenses/by/4.0/\"\n",
      "            ],\n",
      "            [\n",
      "                \"iiif-image\",\n",
      "                \"IIIF Image API\",\n",
      "                \"LocationType\"\n",
      "            ],\n",
      "            \"DigitalLocation\",\n",
      "            \"https://iiif.wellcomecollection.org/image/N0014023/info.json\"\n",
      "        ]\n",
      "    ],\n",
      "    \"source\": [\n",
      "        [],\n",
      "        [],\n",
      "        \"nf7cjmsg\",\n",
      "        [],\n",
      "        [],\n",
      "        \"Hypertensive, vascular disease\",\n",
      "        \"Work\"\n",
      "    ],\n",
      "    \"thumbnail\": [\n",
      "        [\n",
      "            [\n",
      "                [\n",
      "                    \"view-online\",\n",
      "                    \"View online\",\n",
      "                    \"AccessMethod\"\n",
      "                ],\n",
      "                [\n",
      "                    \"open\",\n",
      "                    \"Open\",\n",
      "                    \"AccessStatus\"\n",
      "                ],\n",
      "                \"AccessCondition\"\n",
      "            ]\n",
      "        ],\n",
      "        \"Wellcome Collection\",\n",
      "        [\n",
      "            \"cc-by\",\n",
      "            \"Attribution 4.0 International (CC BY 4.0)\",\n",
      "            \"License\",\n",
      "            \"http://creativecommons.org/licenses/by/4.0/\"\n",
      "        ],\n",
      "        [\n",
      "            \"iiif-image\",\n",
      "            \"IIIF Image API\",\n",
      "            \"LocationType\"\n",
      "        ],\n",
      "        \"DigitalLocation\",\n",
      "        \"https://iiif.wellcomecollection.org/image/N0014023/info.json\"\n",
      "    ],\n",
      "    \"type\": \"Image\"\n",
      "}\n"
     ]
    }
   ],
   "source": [
    "import json\n",
    "\n",
    "print(json.dumps(spark.table(\"images\").first().asDict(), indent=4))"
   ]
  }
 ],
 "metadata": {
  "kernelspec": {
   "display_name": ".venv",
   "language": "python",
   "name": "python3"
  },
  "language_info": {
   "codemirror_mode": {
    "name": "ipython",
    "version": 3
   },
   "file_extension": ".py",
   "mimetype": "text/x-python",
   "name": "python",
   "nbconvert_exporter": "python",
   "pygments_lexer": "ipython3",
   "version": "3.13.2"
  }
 },
 "nbformat": 4,
 "nbformat_minor": 5
}
