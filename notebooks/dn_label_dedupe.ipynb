{
 "cells": [
  {
   "cell_type": "markdown",
   "id": "23c48000",
   "metadata": {},
   "source": [
    "# Dedupe"
   ]
  },
  {
   "cell_type": "code",
   "execution_count": 1,
   "id": "3a978214",
   "metadata": {},
   "outputs": [
    {
     "name": "stderr",
     "output_type": "stream",
     "text": [
      "Setting default log level to \"WARN\".\n",
      "To adjust logging level use sc.setLogLevel(newLevel). For SparkR, use setLogLevel(newLevel).\n",
      "25/07/29 16:34:51 WARN NativeCodeLoader: Unable to load native-hadoop library for your platform... using builtin-java classes where applicable\n",
      "25/07/29 16:34:51 WARN Utils: Service 'SparkUI' could not bind on port 4040. Attempting port 4041.\n",
      "25/07/29 16:34:51 WARN Utils: Service 'SparkUI' could not bind on port 4041. Attempting port 4042.\n"
     ]
    }
   ],
   "source": [
    "from pyspark.sql import SparkSession\n",
    "\n",
    "spark = SparkSession.builder \\\n",
    "    .appName(\"test_pyspark\") \\\n",
    "    .config(\"spark.driver.memory\", \"100g\") \\\n",
    "    .config(\"spark.executor.memory\", \"100g\") \\\n",
    "    .config(\"spark.sql.orc.enableVectorizedReader\", \"false\") \\\n",
    "    .config(\"spark.sql.parquet.columnarReaderBatchSize\", \"256\") \\\n",
    "    .config(\"spark.sql.orc.columnarReaderBatchSize\", \"256\") \\\n",
    "    .config(\"spark.sql.shuffle.partitions\", \"1024\") \\\n",
    "    .config(\"spark.driver.maxResultSize\", \"4g\") \\\n",
    "    .getOrCreate()\n",
    "\n",
    "spark.sparkContext.setLogLevel(\"ERROR\")"
   ]
  },
  {
   "cell_type": "code",
   "execution_count": 3,
   "id": "e1a5f1cc",
   "metadata": {},
   "outputs": [],
   "source": [
    "combined_df = spark.table(\"dn_labels_combined\")"
   ]
  },
  {
   "cell_type": "markdown",
   "id": "16dd3453",
   "metadata": {},
   "source": [
    "## Create dedup data"
   ]
  },
  {
   "cell_type": "code",
   "execution_count": 4,
   "id": "aa3134cb",
   "metadata": {},
   "outputs": [
    {
     "name": "stderr",
     "output_type": "stream",
     "text": [
      "                                                                                \r"
     ]
    },
    {
     "data": {
      "application/vnd.microsoft.datawrangler.viewer.v0+json": {
       "columns": [
        {
         "name": "index",
         "rawType": "int64",
         "type": "integer"
        },
        {
         "name": "label",
         "rawType": "object",
         "type": "string"
        },
        {
         "name": "id",
         "rawType": "object",
         "type": "string"
        },
        {
         "name": "type",
         "rawType": "object",
         "type": "string"
        },
        {
         "name": "source",
         "rawType": "object",
         "type": "string"
        }
       ],
       "ref": "77bee2c1-63bf-407d-953f-8e658abb75ec",
       "rows": [
        [
         "0",
         "Children",
         "null00000",
         "missing",
         "subject"
        ],
        [
         "1",
         "Criminal law",
         "null00001",
         "missing",
         "subject"
        ],
        [
         "2",
         "Gender roles",
         "null00002",
         "missing",
         "subject"
        ],
        [
         "3",
         "Law",
         "null00003",
         "missing",
         "subject"
        ],
        [
         "4",
         "Police",
         "null00004",
         "missing",
         "subject"
        ],
        [
         "5",
         "Women",
         "null00005",
         "missing",
         "subject"
        ],
        [
         "6",
         "Womyn",
         "null00006",
         "missing",
         "subject"
        ],
        [
         "7",
         "Youth",
         "null00007",
         "missing",
         "subject"
        ],
        [
         "8",
         "Circle of State Librarians Conference 1979 : Kew, England)",
         "a2233f9d",
         "Meeting",
         "contributor"
        ],
        [
         "9",
         "Nelson, Geoffrey B. (Geoffrey Brian)",
         "a223f5a6",
         "Person",
         "contributor"
        ],
        [
         "10",
         "Wolff, G.",
         "a2249bxm",
         "Person",
         "contributor"
        ],
        [
         "11",
         "Jones, John E",
         "a224b9mp",
         "Person",
         "contributor"
        ],
        [
         "12",
         "Jones, John E.",
         "a224b9mp",
         "Person",
         "contributor"
        ],
        [
         "13",
         "Hulverscheidt, Marion, 1970-",
         "a224rx5x",
         "Person",
         "contributor"
        ],
        [
         "14",
         "Zimmermann, Wilhelm.",
         "a224tns9",
         "Person",
         "contributor"
        ],
        [
         "15",
         "Gaur, June.",
         "a2258t8s",
         "Person",
         "contributor"
        ],
        [
         "16",
         "South Cambridgeshire (England)",
         "a22auf32",
         "Place",
         "subject"
        ],
        [
         "17",
         "Orel, Harold, 1926-2017.",
         "a22d6ehy",
         "Person",
         "contributor"
        ],
        [
         "18",
         "Brown, Bruce, 1942-",
         "a22d7muq",
         "Person",
         "contributor"
        ],
        [
         "19",
         "Economic development - History",
         "a22ddxvt",
         "Concept",
         "subject"
        ],
        [
         "20",
         "Shugar, Andrea.",
         "a22dx2jb",
         "Person",
         "contributor"
        ],
        [
         "21",
         "Bruce (Edinburgh, Scotland)",
         "a22ghtpk",
         "Person",
         "contributor"
        ],
        [
         "22",
         "Cheeseman, Thomas, 1760-approximately 1835.",
         "a22hh3y8",
         "Person",
         "contributor"
        ],
        [
         "23",
         "Hartstein, Jack, 1924-",
         "a22hndxd",
         "Person",
         "contributor"
        ],
        [
         "24",
         "Prujean, Thomas, 1622 or 1623-1662.",
         "a22jzkjd",
         "Person",
         "subject"
        ],
        [
         "25",
         "Freeport, Andrew",
         "a22mar23",
         "Person",
         "contributor"
        ],
        [
         "26",
         "Databases as Topic - organization & administration",
         "a22mr8u2",
         "Concept",
         "subject"
        ],
        [
         "27",
         "Ideler, Julius Ludwig, 1809-1842",
         "a22ncx9p",
         "Person",
         "contributor"
        ],
        [
         "28",
         "Fournier, Alfred Jean, 1832-1914",
         "a22sv4sw",
         "Agent",
         "contributor"
        ],
        [
         "29",
         "Royal College of Surgeons in London",
         "a22vrvk4",
         "Organisation",
         "subject"
        ],
        [
         "30",
         "Royal College of Surgeons in London.",
         "a22vrvk4",
         "Organisation",
         "contributor"
        ],
        [
         "31",
         "Hernia, Inguinal, therapy",
         "a22xqhjs",
         "Concept",
         "subject"
        ],
        [
         "32",
         "Poor families",
         "a22xr2nw",
         "Concept",
         "subject"
        ],
        [
         "33",
         "Scrimshaw, Jane, 1584-1711.",
         "a22xt94e",
         "Person",
         "subject"
        ],
        [
         "34",
         "Foster, William",
         "a232zjf3",
         "Person",
         "contributor"
        ],
        [
         "35",
         "Foster, William.",
         "a232zjf3",
         "Person",
         "subject"
        ],
        [
         "36",
         "Foster, William.",
         "a232zjf3",
         "Person",
         "contributor"
        ],
        [
         "37",
         "da Silva, Christiano",
         "a2346x74",
         "Person",
         "contributor"
        ],
        [
         "38",
         "Steam-heating",
         "a235krft",
         "Concept",
         "subject"
        ],
        [
         "39",
         "Dental Restoration, Temporary",
         "a239x46b",
         "Concept",
         "subject"
        ],
        [
         "40",
         "London Black MESMAC",
         "a23ajhj3",
         "Organisation",
         "contributor"
        ],
        [
         "41",
         "London Black Mesmac",
         "a23ajhj3",
         "Organisation",
         "contributor"
        ],
        [
         "42",
         "Fellows, Julian R. (Julian Robert), 1900-1985.",
         "a23c6tr6",
         "Person",
         "contributor"
        ],
        [
         "43",
         "Subba Reddy, D. V., 1899-1987",
         "a23cjx8a",
         "Person",
         "contributor"
        ],
        [
         "44",
         "Subba Reddy, D. V., 1899-1987.",
         "a23cjx8a",
         "Person",
         "contributor"
        ],
        [
         "45",
         "Subba Reddy, D. V., 1899-1987.",
         "a23cjx8a",
         "Person",
         "subject"
        ],
        [
         "46",
         "Pneumonia",
         "a23f6ptg",
         "Concept",
         "subject"
        ],
        [
         "47",
         "Pneumonia - Child",
         "a23f6ptg",
         "Concept",
         "subject"
        ],
        [
         "48",
         "Pneumonia - Child, Preschool",
         "a23f6ptg",
         "Concept",
         "subject"
        ],
        [
         "49",
         "Pneumonia - Infant",
         "a23f6ptg",
         "Concept",
         "subject"
        ]
       ],
       "shape": {
        "columns": 4,
        "rows": 646786
       }
      },
      "text/html": [
       "<div>\n",
       "<style scoped>\n",
       "    .dataframe tbody tr th:only-of-type {\n",
       "        vertical-align: middle;\n",
       "    }\n",
       "\n",
       "    .dataframe tbody tr th {\n",
       "        vertical-align: top;\n",
       "    }\n",
       "\n",
       "    .dataframe thead th {\n",
       "        text-align: right;\n",
       "    }\n",
       "</style>\n",
       "<table border=\"1\" class=\"dataframe\">\n",
       "  <thead>\n",
       "    <tr style=\"text-align: right;\">\n",
       "      <th></th>\n",
       "      <th>label</th>\n",
       "      <th>id</th>\n",
       "      <th>type</th>\n",
       "      <th>source</th>\n",
       "    </tr>\n",
       "  </thead>\n",
       "  <tbody>\n",
       "    <tr>\n",
       "      <th>0</th>\n",
       "      <td>Children</td>\n",
       "      <td>null00000</td>\n",
       "      <td>missing</td>\n",
       "      <td>subject</td>\n",
       "    </tr>\n",
       "    <tr>\n",
       "      <th>1</th>\n",
       "      <td>Criminal law</td>\n",
       "      <td>null00001</td>\n",
       "      <td>missing</td>\n",
       "      <td>subject</td>\n",
       "    </tr>\n",
       "    <tr>\n",
       "      <th>2</th>\n",
       "      <td>Gender roles</td>\n",
       "      <td>null00002</td>\n",
       "      <td>missing</td>\n",
       "      <td>subject</td>\n",
       "    </tr>\n",
       "    <tr>\n",
       "      <th>3</th>\n",
       "      <td>Law</td>\n",
       "      <td>null00003</td>\n",
       "      <td>missing</td>\n",
       "      <td>subject</td>\n",
       "    </tr>\n",
       "    <tr>\n",
       "      <th>4</th>\n",
       "      <td>Police</td>\n",
       "      <td>null00004</td>\n",
       "      <td>missing</td>\n",
       "      <td>subject</td>\n",
       "    </tr>\n",
       "    <tr>\n",
       "      <th>...</th>\n",
       "      <td>...</td>\n",
       "      <td>...</td>\n",
       "      <td>...</td>\n",
       "      <td>...</td>\n",
       "    </tr>\n",
       "    <tr>\n",
       "      <th>646781</th>\n",
       "      <td>Pregnant teenagers - Great Britain - Diaries</td>\n",
       "      <td>zzzvtr3f</td>\n",
       "      <td>Concept</td>\n",
       "      <td>subject</td>\n",
       "    </tr>\n",
       "    <tr>\n",
       "      <th>646782</th>\n",
       "      <td>Maddox, Lucy</td>\n",
       "      <td>zzzw65be</td>\n",
       "      <td>Person</td>\n",
       "      <td>contributor</td>\n",
       "    </tr>\n",
       "    <tr>\n",
       "      <th>646783</th>\n",
       "      <td>Rockliffe, Richard William.</td>\n",
       "      <td>zzzwgbkn</td>\n",
       "      <td>Person</td>\n",
       "      <td>contributor</td>\n",
       "    </tr>\n",
       "    <tr>\n",
       "      <th>646784</th>\n",
       "      <td>Aneurysm - drug therapy</td>\n",
       "      <td>zzzygqw9</td>\n",
       "      <td>Concept</td>\n",
       "      <td>subject</td>\n",
       "    </tr>\n",
       "    <tr>\n",
       "      <th>646785</th>\n",
       "      <td>Gottfried, Robert Steven, 1949-</td>\n",
       "      <td>zzzyybvk</td>\n",
       "      <td>Person</td>\n",
       "      <td>contributor</td>\n",
       "    </tr>\n",
       "  </tbody>\n",
       "</table>\n",
       "<p>646786 rows × 4 columns</p>\n",
       "</div>"
      ],
      "text/plain": [
       "                                               label         id     type  \\\n",
       "0                                           Children  null00000  missing   \n",
       "1                                       Criminal law  null00001  missing   \n",
       "2                                       Gender roles  null00002  missing   \n",
       "3                                                Law  null00003  missing   \n",
       "4                                             Police  null00004  missing   \n",
       "...                                              ...        ...      ...   \n",
       "646781  Pregnant teenagers - Great Britain - Diaries   zzzvtr3f  Concept   \n",
       "646782                                  Maddox, Lucy   zzzw65be   Person   \n",
       "646783                   Rockliffe, Richard William.   zzzwgbkn   Person   \n",
       "646784                       Aneurysm - drug therapy   zzzygqw9  Concept   \n",
       "646785               Gottfried, Robert Steven, 1949-   zzzyybvk   Person   \n",
       "\n",
       "             source  \n",
       "0           subject  \n",
       "1           subject  \n",
       "2           subject  \n",
       "3           subject  \n",
       "4           subject  \n",
       "...             ...  \n",
       "646781      subject  \n",
       "646782  contributor  \n",
       "646783  contributor  \n",
       "646784      subject  \n",
       "646785  contributor  \n",
       "\n",
       "[646786 rows x 4 columns]"
      ]
     },
     "execution_count": 4,
     "metadata": {},
     "output_type": "execute_result"
    }
   ],
   "source": [
    "combined_distinct_df = combined_df.distinct().orderBy(\"id\", \"label\", \"type\")\n",
    "\n",
    "dedup_data = combined_distinct_df.toPandas()\n",
    "\n",
    "null_count = dedup_data[dedup_data[\"id\"].isnull()].shape[0]\n",
    "# format null_nums 5 digit number starting from 00000\n",
    "null_nums = [f\"null{num:05d}\" for num in range(0, null_count)]\n",
    "dedup_data.loc[dedup_data[\"id\"].isnull(), \"id\"] = null_nums\n",
    "dedup_data.loc[dedup_data[\"type\"].isnull(), \"type\"] = \"missing\"\n",
    "\n",
    "dedup_data"
   ]
  },
  {
   "cell_type": "markdown",
   "id": "d8809e47",
   "metadata": {},
   "source": [
    "### Find rows that label contains \"Florence\""
   ]
  },
  {
   "cell_type": "code",
   "execution_count": null,
   "id": "82d51462",
   "metadata": {},
   "outputs": [
    {
     "data": {
      "application/vnd.microsoft.datawrangler.viewer.v0+json": {
       "columns": [
        {
         "name": "index",
         "rawType": "int64",
         "type": "integer"
        },
        {
         "name": "label",
         "rawType": "object",
         "type": "string"
        },
        {
         "name": "id",
         "rawType": "object",
         "type": "string"
        },
        {
         "name": "type",
         "rawType": "object",
         "type": "string"
        }
       ],
       "ref": "8c50ed51-0f40-425b-82f6-803b78ced6d7",
       "rows": [
        [
         "85167",
         "Nightingale, Florence, 1820-1910.",
         "d4rsp2n3",
         "Person"
        ],
        [
         "85168",
         "Nightingale, Florence, 1820-1910. Notes on nursing.",
         "d4rsp2n3",
         "Agent"
        ],
        [
         "85169",
         "Nightingale, Florence, 1820-1910. Notes on nursing.",
         "d4rsp2n3",
         "Person"
        ],
        [
         "85170",
         "Nightingale, Florence, 1820-1910. Notes on nursing. Dutch.",
         "d4rsp2n3",
         "Agent"
        ],
        [
         "85536",
         "Florence Nightingale Museum (London, England)",
         "d56fkgss",
         "Organisation"
        ],
        [
         "89221",
         "École Florence Nightingale de Bordeaux",
         "d9d45nkh",
         "Organisation"
        ],
        [
         "96274",
         "National Florence Nightingale Memorial Committee of Great Britain and Northern Ireland. Dan Mason Nursing Research Committee",
         "dhayqztj",
         "Organisation"
        ],
        [
         "133254",
         "Nightingale, Florence (1820-1910)",
         "euzka9gm",
         "Agent"
        ],
        [
         "133255",
         "Nightingale, Florence (1820-1910)",
         "euzka9gm",
         "Organisation"
        ],
        [
         "156262",
         "Florence Nightingale Hospital (London, England)",
         "fqb5m3hw",
         "Organisation"
        ],
        [
         "179720",
         "Nightingale, Florence, 1820-1910",
         "gk2eca5r",
         "Person"
        ],
        [
         "179721",
         "Nightingale, Florence, 1820-1910 Homes and haunts.",
         "gk2eca5r",
         "Person"
        ],
        [
         "179722",
         "Nightingale, Florence, 1820-1910.",
         "gk2eca5r",
         "Person"
        ],
        [
         "184254",
         "Florence Nightingale Commemoration Committee.",
         "gr7m4ere",
         "Organisation"
        ],
        [
         "188910",
         "Nightingale, Florence, 1820-1910. Suggestions for thought to the searchers after truth among the artizans of England.",
         "gwg3tjc4",
         "Person"
        ],
        [
         "260196",
         "Florence Nightingale Museum",
         "khn6t5ch",
         "Organisation"
        ],
        [
         "264943",
         "Nightingale, Florence, 1820-1910.",
         "kq6juw8z",
         "Agent"
        ],
        [
         "264944",
         "Nightingale, Florence, 1820-1910.",
         "kq6juw8z",
         "Person"
        ],
        [
         "327809",
         "Shore, Florence Nightingale.",
         "nzuqe5sg",
         "Person"
        ],
        [
         "370623",
         "Florence Nightingale Hospital for Gentlewomen (London, England)",
         "qk29p79b",
         "Organisation"
        ],
        [
         "386925",
         "Florence Nightingale International Foundation",
         "r6hxmnre",
         "Organisation"
        ],
        [
         "386926",
         "Florence Nightingale International Foundation.",
         "r6hxmnre",
         "Organisation"
        ],
        [
         "406974",
         "Florence Nightingale Museum",
         "rw8nd4qx",
         "Organisation"
        ],
        [
         "406975",
         "Florence Nightingale Museum.",
         "rw8nd4qx",
         "Organisation"
        ],
        [
         "414883",
         "Florence Nightingale Foundation (1934-)",
         "s73t5xmw",
         "Agent"
        ],
        [
         "444260",
         "Florence Nightingale School of Nursing and Midwifery",
         "t9tej7ac",
         "Organisation"
        ],
        [
         "485396",
         "Florence Nightingale International Foundation",
         "usdm7rfh",
         "Agent"
        ],
        [
         "552257",
         "FLORENCE NIGHTINGALE",
         "x8pvu9wy",
         "Concept"
        ],
        [
         "575832",
         "Nightingale, Florence, (former owner), 1820-1910.",
         "y499h99z",
         "Person"
        ]
       ],
       "shape": {
        "columns": 3,
        "rows": 29
       }
      },
      "text/html": [
       "<div>\n",
       "<style scoped>\n",
       "    .dataframe tbody tr th:only-of-type {\n",
       "        vertical-align: middle;\n",
       "    }\n",
       "\n",
       "    .dataframe tbody tr th {\n",
       "        vertical-align: top;\n",
       "    }\n",
       "\n",
       "    .dataframe thead th {\n",
       "        text-align: right;\n",
       "    }\n",
       "</style>\n",
       "<table border=\"1\" class=\"dataframe\">\n",
       "  <thead>\n",
       "    <tr style=\"text-align: right;\">\n",
       "      <th></th>\n",
       "      <th>label</th>\n",
       "      <th>id</th>\n",
       "      <th>type</th>\n",
       "    </tr>\n",
       "  </thead>\n",
       "  <tbody>\n",
       "    <tr>\n",
       "      <th>85167</th>\n",
       "      <td>Nightingale, Florence, 1820-1910.</td>\n",
       "      <td>d4rsp2n3</td>\n",
       "      <td>Person</td>\n",
       "    </tr>\n",
       "    <tr>\n",
       "      <th>85168</th>\n",
       "      <td>Nightingale, Florence, 1820-1910. Notes on nur...</td>\n",
       "      <td>d4rsp2n3</td>\n",
       "      <td>Agent</td>\n",
       "    </tr>\n",
       "    <tr>\n",
       "      <th>85169</th>\n",
       "      <td>Nightingale, Florence, 1820-1910. Notes on nur...</td>\n",
       "      <td>d4rsp2n3</td>\n",
       "      <td>Person</td>\n",
       "    </tr>\n",
       "    <tr>\n",
       "      <th>85170</th>\n",
       "      <td>Nightingale, Florence, 1820-1910. Notes on nur...</td>\n",
       "      <td>d4rsp2n3</td>\n",
       "      <td>Agent</td>\n",
       "    </tr>\n",
       "    <tr>\n",
       "      <th>85536</th>\n",
       "      <td>Florence Nightingale Museum (London, England)</td>\n",
       "      <td>d56fkgss</td>\n",
       "      <td>Organisation</td>\n",
       "    </tr>\n",
       "    <tr>\n",
       "      <th>89221</th>\n",
       "      <td>École Florence Nightingale de Bordeaux</td>\n",
       "      <td>d9d45nkh</td>\n",
       "      <td>Organisation</td>\n",
       "    </tr>\n",
       "    <tr>\n",
       "      <th>96274</th>\n",
       "      <td>National Florence Nightingale Memorial Committ...</td>\n",
       "      <td>dhayqztj</td>\n",
       "      <td>Organisation</td>\n",
       "    </tr>\n",
       "    <tr>\n",
       "      <th>133254</th>\n",
       "      <td>Nightingale, Florence (1820-1910)</td>\n",
       "      <td>euzka9gm</td>\n",
       "      <td>Agent</td>\n",
       "    </tr>\n",
       "    <tr>\n",
       "      <th>133255</th>\n",
       "      <td>Nightingale, Florence (1820-1910)</td>\n",
       "      <td>euzka9gm</td>\n",
       "      <td>Organisation</td>\n",
       "    </tr>\n",
       "    <tr>\n",
       "      <th>156262</th>\n",
       "      <td>Florence Nightingale Hospital (London, England)</td>\n",
       "      <td>fqb5m3hw</td>\n",
       "      <td>Organisation</td>\n",
       "    </tr>\n",
       "    <tr>\n",
       "      <th>179720</th>\n",
       "      <td>Nightingale, Florence, 1820-1910</td>\n",
       "      <td>gk2eca5r</td>\n",
       "      <td>Person</td>\n",
       "    </tr>\n",
       "    <tr>\n",
       "      <th>179721</th>\n",
       "      <td>Nightingale, Florence, 1820-1910 Homes and hau...</td>\n",
       "      <td>gk2eca5r</td>\n",
       "      <td>Person</td>\n",
       "    </tr>\n",
       "    <tr>\n",
       "      <th>179722</th>\n",
       "      <td>Nightingale, Florence, 1820-1910.</td>\n",
       "      <td>gk2eca5r</td>\n",
       "      <td>Person</td>\n",
       "    </tr>\n",
       "    <tr>\n",
       "      <th>184254</th>\n",
       "      <td>Florence Nightingale Commemoration Committee.</td>\n",
       "      <td>gr7m4ere</td>\n",
       "      <td>Organisation</td>\n",
       "    </tr>\n",
       "    <tr>\n",
       "      <th>188910</th>\n",
       "      <td>Nightingale, Florence, 1820-1910. Suggestions ...</td>\n",
       "      <td>gwg3tjc4</td>\n",
       "      <td>Person</td>\n",
       "    </tr>\n",
       "    <tr>\n",
       "      <th>260196</th>\n",
       "      <td>Florence Nightingale Museum</td>\n",
       "      <td>khn6t5ch</td>\n",
       "      <td>Organisation</td>\n",
       "    </tr>\n",
       "    <tr>\n",
       "      <th>264943</th>\n",
       "      <td>Nightingale, Florence, 1820-1910.</td>\n",
       "      <td>kq6juw8z</td>\n",
       "      <td>Agent</td>\n",
       "    </tr>\n",
       "    <tr>\n",
       "      <th>264944</th>\n",
       "      <td>Nightingale, Florence, 1820-1910.</td>\n",
       "      <td>kq6juw8z</td>\n",
       "      <td>Person</td>\n",
       "    </tr>\n",
       "    <tr>\n",
       "      <th>327809</th>\n",
       "      <td>Shore, Florence Nightingale.</td>\n",
       "      <td>nzuqe5sg</td>\n",
       "      <td>Person</td>\n",
       "    </tr>\n",
       "    <tr>\n",
       "      <th>370623</th>\n",
       "      <td>Florence Nightingale Hospital for Gentlewomen ...</td>\n",
       "      <td>qk29p79b</td>\n",
       "      <td>Organisation</td>\n",
       "    </tr>\n",
       "    <tr>\n",
       "      <th>386925</th>\n",
       "      <td>Florence Nightingale International Foundation</td>\n",
       "      <td>r6hxmnre</td>\n",
       "      <td>Organisation</td>\n",
       "    </tr>\n",
       "    <tr>\n",
       "      <th>386926</th>\n",
       "      <td>Florence Nightingale International Foundation.</td>\n",
       "      <td>r6hxmnre</td>\n",
       "      <td>Organisation</td>\n",
       "    </tr>\n",
       "    <tr>\n",
       "      <th>406974</th>\n",
       "      <td>Florence Nightingale Museum</td>\n",
       "      <td>rw8nd4qx</td>\n",
       "      <td>Organisation</td>\n",
       "    </tr>\n",
       "    <tr>\n",
       "      <th>406975</th>\n",
       "      <td>Florence Nightingale Museum.</td>\n",
       "      <td>rw8nd4qx</td>\n",
       "      <td>Organisation</td>\n",
       "    </tr>\n",
       "    <tr>\n",
       "      <th>414883</th>\n",
       "      <td>Florence Nightingale Foundation (1934-)</td>\n",
       "      <td>s73t5xmw</td>\n",
       "      <td>Agent</td>\n",
       "    </tr>\n",
       "    <tr>\n",
       "      <th>444260</th>\n",
       "      <td>Florence Nightingale School of Nursing and Mid...</td>\n",
       "      <td>t9tej7ac</td>\n",
       "      <td>Organisation</td>\n",
       "    </tr>\n",
       "    <tr>\n",
       "      <th>485396</th>\n",
       "      <td>Florence Nightingale International Foundation</td>\n",
       "      <td>usdm7rfh</td>\n",
       "      <td>Agent</td>\n",
       "    </tr>\n",
       "    <tr>\n",
       "      <th>552257</th>\n",
       "      <td>FLORENCE NIGHTINGALE</td>\n",
       "      <td>x8pvu9wy</td>\n",
       "      <td>Concept</td>\n",
       "    </tr>\n",
       "    <tr>\n",
       "      <th>575832</th>\n",
       "      <td>Nightingale, Florence, (former owner), 1820-1910.</td>\n",
       "      <td>y499h99z</td>\n",
       "      <td>Person</td>\n",
       "    </tr>\n",
       "  </tbody>\n",
       "</table>\n",
       "</div>"
      ],
      "text/plain": [
       "                                                    label        id  \\\n",
       "85167                   Nightingale, Florence, 1820-1910.  d4rsp2n3   \n",
       "85168   Nightingale, Florence, 1820-1910. Notes on nur...  d4rsp2n3   \n",
       "85169   Nightingale, Florence, 1820-1910. Notes on nur...  d4rsp2n3   \n",
       "85170   Nightingale, Florence, 1820-1910. Notes on nur...  d4rsp2n3   \n",
       "85536       Florence Nightingale Museum (London, England)  d56fkgss   \n",
       "89221              École Florence Nightingale de Bordeaux  d9d45nkh   \n",
       "96274   National Florence Nightingale Memorial Committ...  dhayqztj   \n",
       "133254                  Nightingale, Florence (1820-1910)  euzka9gm   \n",
       "133255                  Nightingale, Florence (1820-1910)  euzka9gm   \n",
       "156262    Florence Nightingale Hospital (London, England)  fqb5m3hw   \n",
       "179720                   Nightingale, Florence, 1820-1910  gk2eca5r   \n",
       "179721  Nightingale, Florence, 1820-1910 Homes and hau...  gk2eca5r   \n",
       "179722                  Nightingale, Florence, 1820-1910.  gk2eca5r   \n",
       "184254      Florence Nightingale Commemoration Committee.  gr7m4ere   \n",
       "188910  Nightingale, Florence, 1820-1910. Suggestions ...  gwg3tjc4   \n",
       "260196                        Florence Nightingale Museum  khn6t5ch   \n",
       "264943                  Nightingale, Florence, 1820-1910.  kq6juw8z   \n",
       "264944                  Nightingale, Florence, 1820-1910.  kq6juw8z   \n",
       "327809                       Shore, Florence Nightingale.  nzuqe5sg   \n",
       "370623  Florence Nightingale Hospital for Gentlewomen ...  qk29p79b   \n",
       "386925      Florence Nightingale International Foundation  r6hxmnre   \n",
       "386926     Florence Nightingale International Foundation.  r6hxmnre   \n",
       "406974                        Florence Nightingale Museum  rw8nd4qx   \n",
       "406975                       Florence Nightingale Museum.  rw8nd4qx   \n",
       "414883            Florence Nightingale Foundation (1934-)  s73t5xmw   \n",
       "444260  Florence Nightingale School of Nursing and Mid...  t9tej7ac   \n",
       "485396      Florence Nightingale International Foundation  usdm7rfh   \n",
       "552257                               FLORENCE NIGHTINGALE  x8pvu9wy   \n",
       "575832  Nightingale, Florence, (former owner), 1820-1910.  y499h99z   \n",
       "\n",
       "                type  \n",
       "85167         Person  \n",
       "85168          Agent  \n",
       "85169         Person  \n",
       "85170          Agent  \n",
       "85536   Organisation  \n",
       "89221   Organisation  \n",
       "96274   Organisation  \n",
       "133254         Agent  \n",
       "133255  Organisation  \n",
       "156262  Organisation  \n",
       "179720        Person  \n",
       "179721        Person  \n",
       "179722        Person  \n",
       "184254  Organisation  \n",
       "188910        Person  \n",
       "260196  Organisation  \n",
       "264943         Agent  \n",
       "264944        Person  \n",
       "327809        Person  \n",
       "370623  Organisation  \n",
       "386925  Organisation  \n",
       "386926  Organisation  \n",
       "406974  Organisation  \n",
       "406975  Organisation  \n",
       "414883         Agent  \n",
       "444260  Organisation  \n",
       "485396         Agent  \n",
       "552257       Concept  \n",
       "575832        Person  "
      ]
     },
     "metadata": {},
     "output_type": "display_data"
    }
   ],
   "source": [
    "\n",
    "\n",
    "florence_rows = dedup_data[dedup_data['label'].str.contains(\n",
    "    \"Florence\", case=False, na=False) & dedup_data['label'].str.contains(\n",
    "    \"Night\", case=False, na=False)].sort_values(by='id', ascending=True)\n",
    "florence_rows"
   ]
  },
  {
   "cell_type": "code",
   "execution_count": null,
   "id": "14657b62",
   "metadata": {},
   "outputs": [],
   "source": [
    "from wc_simd.dedupe_service import dedup_data_file\n",
    "\n",
    "# Convert all columns to string type\n",
    "dedup_data = dedup_data.astype(str)\n",
    "dedup_data.reset_index(inplace=True)\n",
    "dedup_data.rename(columns={\"index\": \"idx\"}, inplace=True)\n",
    "\n",
    "dedup_data.to_csv(\"../\" + dedup_data_file, index=True)"
   ]
  },
  {
   "cell_type": "markdown",
   "id": "a8bfa8dd",
   "metadata": {},
   "source": [
    "## Load dedup data"
   ]
  },
  {
   "cell_type": "code",
   "execution_count": null,
   "id": "6f7521b2",
   "metadata": {},
   "outputs": [
    {
     "data": {
      "application/vnd.microsoft.datawrangler.viewer.v0+json": {
       "columns": [
        {
         "name": "index",
         "rawType": "int64",
         "type": "integer"
        },
        {
         "name": "idx",
         "rawType": "object",
         "type": "string"
        },
        {
         "name": "label",
         "rawType": "object",
         "type": "string"
        },
        {
         "name": "id",
         "rawType": "object",
         "type": "string"
        },
        {
         "name": "type",
         "rawType": "object",
         "type": "string"
        },
        {
         "name": "source",
         "rawType": "object",
         "type": "string"
        }
       ],
       "ref": "752d4772-0901-4eef-9a66-a2dccc3d401e",
       "rows": [
        [
         "0",
         "0",
         "Children",
         "null00000",
         "missing",
         "subject"
        ],
        [
         "1",
         "1",
         "Criminal law",
         "null00001",
         "missing",
         "subject"
        ],
        [
         "2",
         "2",
         "Gender roles",
         "null00002",
         "missing",
         "subject"
        ],
        [
         "3",
         "3",
         "Law",
         "null00003",
         "missing",
         "subject"
        ],
        [
         "4",
         "4",
         "Police",
         "null00004",
         "missing",
         "subject"
        ],
        [
         "5",
         "5",
         "Women",
         "null00005",
         "missing",
         "subject"
        ],
        [
         "6",
         "6",
         "Womyn",
         "null00006",
         "missing",
         "subject"
        ],
        [
         "7",
         "7",
         "Youth",
         "null00007",
         "missing",
         "subject"
        ],
        [
         "8",
         "8",
         "Circle of State Librarians Conference 1979 : Kew, England)",
         "a2233f9d",
         "Meeting",
         "contributor"
        ],
        [
         "9",
         "9",
         "Nelson, Geoffrey B. (Geoffrey Brian)",
         "a223f5a6",
         "Person",
         "contributor"
        ],
        [
         "10",
         "10",
         "Wolff, G.",
         "a2249bxm",
         "Person",
         "contributor"
        ],
        [
         "11",
         "11",
         "Jones, John E",
         "a224b9mp",
         "Person",
         "contributor"
        ],
        [
         "12",
         "12",
         "Jones, John E.",
         "a224b9mp",
         "Person",
         "contributor"
        ],
        [
         "13",
         "13",
         "Hulverscheidt, Marion, 1970-",
         "a224rx5x",
         "Person",
         "contributor"
        ],
        [
         "14",
         "14",
         "Zimmermann, Wilhelm.",
         "a224tns9",
         "Person",
         "contributor"
        ],
        [
         "15",
         "15",
         "Gaur, June.",
         "a2258t8s",
         "Person",
         "contributor"
        ],
        [
         "16",
         "16",
         "South Cambridgeshire (England)",
         "a22auf32",
         "Place",
         "subject"
        ],
        [
         "17",
         "17",
         "Orel, Harold, 1926-2017.",
         "a22d6ehy",
         "Person",
         "contributor"
        ],
        [
         "18",
         "18",
         "Brown, Bruce, 1942-",
         "a22d7muq",
         "Person",
         "contributor"
        ],
        [
         "19",
         "19",
         "Economic development - History",
         "a22ddxvt",
         "Concept",
         "subject"
        ],
        [
         "20",
         "20",
         "Shugar, Andrea.",
         "a22dx2jb",
         "Person",
         "contributor"
        ],
        [
         "21",
         "21",
         "Bruce (Edinburgh, Scotland)",
         "a22ghtpk",
         "Person",
         "contributor"
        ],
        [
         "22",
         "22",
         "Cheeseman, Thomas, 1760-approximately 1835.",
         "a22hh3y8",
         "Person",
         "contributor"
        ],
        [
         "23",
         "23",
         "Hartstein, Jack, 1924-",
         "a22hndxd",
         "Person",
         "contributor"
        ],
        [
         "24",
         "24",
         "Prujean, Thomas, 1622 or 1623-1662.",
         "a22jzkjd",
         "Person",
         "subject"
        ],
        [
         "25",
         "25",
         "Freeport, Andrew",
         "a22mar23",
         "Person",
         "contributor"
        ],
        [
         "26",
         "26",
         "Databases as Topic - organization & administration",
         "a22mr8u2",
         "Concept",
         "subject"
        ],
        [
         "27",
         "27",
         "Ideler, Julius Ludwig, 1809-1842",
         "a22ncx9p",
         "Person",
         "contributor"
        ],
        [
         "28",
         "28",
         "Fournier, Alfred Jean, 1832-1914",
         "a22sv4sw",
         "Agent",
         "contributor"
        ],
        [
         "29",
         "29",
         "Royal College of Surgeons in London",
         "a22vrvk4",
         "Organisation",
         "subject"
        ],
        [
         "30",
         "30",
         "Royal College of Surgeons in London.",
         "a22vrvk4",
         "Organisation",
         "contributor"
        ],
        [
         "31",
         "31",
         "Hernia, Inguinal, therapy",
         "a22xqhjs",
         "Concept",
         "subject"
        ],
        [
         "32",
         "32",
         "Poor families",
         "a22xr2nw",
         "Concept",
         "subject"
        ],
        [
         "33",
         "33",
         "Scrimshaw, Jane, 1584-1711.",
         "a22xt94e",
         "Person",
         "subject"
        ],
        [
         "34",
         "34",
         "Foster, William",
         "a232zjf3",
         "Person",
         "contributor"
        ],
        [
         "35",
         "35",
         "Foster, William.",
         "a232zjf3",
         "Person",
         "subject"
        ],
        [
         "36",
         "36",
         "Foster, William.",
         "a232zjf3",
         "Person",
         "contributor"
        ],
        [
         "37",
         "37",
         "da Silva, Christiano",
         "a2346x74",
         "Person",
         "contributor"
        ],
        [
         "38",
         "38",
         "Steam-heating",
         "a235krft",
         "Concept",
         "subject"
        ],
        [
         "39",
         "39",
         "Dental Restoration, Temporary",
         "a239x46b",
         "Concept",
         "subject"
        ],
        [
         "40",
         "40",
         "London Black MESMAC",
         "a23ajhj3",
         "Organisation",
         "contributor"
        ],
        [
         "41",
         "41",
         "London Black Mesmac",
         "a23ajhj3",
         "Organisation",
         "contributor"
        ],
        [
         "42",
         "42",
         "Fellows, Julian R. (Julian Robert), 1900-1985.",
         "a23c6tr6",
         "Person",
         "contributor"
        ],
        [
         "43",
         "43",
         "Subba Reddy, D. V., 1899-1987",
         "a23cjx8a",
         "Person",
         "contributor"
        ],
        [
         "44",
         "44",
         "Subba Reddy, D. V., 1899-1987.",
         "a23cjx8a",
         "Person",
         "contributor"
        ],
        [
         "45",
         "45",
         "Subba Reddy, D. V., 1899-1987.",
         "a23cjx8a",
         "Person",
         "subject"
        ],
        [
         "46",
         "46",
         "Pneumonia",
         "a23f6ptg",
         "Concept",
         "subject"
        ],
        [
         "47",
         "47",
         "Pneumonia - Child",
         "a23f6ptg",
         "Concept",
         "subject"
        ],
        [
         "48",
         "48",
         "Pneumonia - Child, Preschool",
         "a23f6ptg",
         "Concept",
         "subject"
        ],
        [
         "49",
         "49",
         "Pneumonia - Infant",
         "a23f6ptg",
         "Concept",
         "subject"
        ]
       ],
       "shape": {
        "columns": 5,
        "rows": 646786
       }
      },
      "text/html": [
       "<div>\n",
       "<style scoped>\n",
       "    .dataframe tbody tr th:only-of-type {\n",
       "        vertical-align: middle;\n",
       "    }\n",
       "\n",
       "    .dataframe tbody tr th {\n",
       "        vertical-align: top;\n",
       "    }\n",
       "\n",
       "    .dataframe thead th {\n",
       "        text-align: right;\n",
       "    }\n",
       "</style>\n",
       "<table border=\"1\" class=\"dataframe\">\n",
       "  <thead>\n",
       "    <tr style=\"text-align: right;\">\n",
       "      <th></th>\n",
       "      <th>idx</th>\n",
       "      <th>label</th>\n",
       "      <th>id</th>\n",
       "      <th>type</th>\n",
       "      <th>source</th>\n",
       "    </tr>\n",
       "  </thead>\n",
       "  <tbody>\n",
       "    <tr>\n",
       "      <th>0</th>\n",
       "      <td>0</td>\n",
       "      <td>Children</td>\n",
       "      <td>null00000</td>\n",
       "      <td>missing</td>\n",
       "      <td>subject</td>\n",
       "    </tr>\n",
       "    <tr>\n",
       "      <th>1</th>\n",
       "      <td>1</td>\n",
       "      <td>Criminal law</td>\n",
       "      <td>null00001</td>\n",
       "      <td>missing</td>\n",
       "      <td>subject</td>\n",
       "    </tr>\n",
       "    <tr>\n",
       "      <th>2</th>\n",
       "      <td>2</td>\n",
       "      <td>Gender roles</td>\n",
       "      <td>null00002</td>\n",
       "      <td>missing</td>\n",
       "      <td>subject</td>\n",
       "    </tr>\n",
       "    <tr>\n",
       "      <th>3</th>\n",
       "      <td>3</td>\n",
       "      <td>Law</td>\n",
       "      <td>null00003</td>\n",
       "      <td>missing</td>\n",
       "      <td>subject</td>\n",
       "    </tr>\n",
       "    <tr>\n",
       "      <th>4</th>\n",
       "      <td>4</td>\n",
       "      <td>Police</td>\n",
       "      <td>null00004</td>\n",
       "      <td>missing</td>\n",
       "      <td>subject</td>\n",
       "    </tr>\n",
       "    <tr>\n",
       "      <th>...</th>\n",
       "      <td>...</td>\n",
       "      <td>...</td>\n",
       "      <td>...</td>\n",
       "      <td>...</td>\n",
       "      <td>...</td>\n",
       "    </tr>\n",
       "    <tr>\n",
       "      <th>646781</th>\n",
       "      <td>646781</td>\n",
       "      <td>Pregnant teenagers - Great Britain - Diaries</td>\n",
       "      <td>zzzvtr3f</td>\n",
       "      <td>Concept</td>\n",
       "      <td>subject</td>\n",
       "    </tr>\n",
       "    <tr>\n",
       "      <th>646782</th>\n",
       "      <td>646782</td>\n",
       "      <td>Maddox, Lucy</td>\n",
       "      <td>zzzw65be</td>\n",
       "      <td>Person</td>\n",
       "      <td>contributor</td>\n",
       "    </tr>\n",
       "    <tr>\n",
       "      <th>646783</th>\n",
       "      <td>646783</td>\n",
       "      <td>Rockliffe, Richard William.</td>\n",
       "      <td>zzzwgbkn</td>\n",
       "      <td>Person</td>\n",
       "      <td>contributor</td>\n",
       "    </tr>\n",
       "    <tr>\n",
       "      <th>646784</th>\n",
       "      <td>646784</td>\n",
       "      <td>Aneurysm - drug therapy</td>\n",
       "      <td>zzzygqw9</td>\n",
       "      <td>Concept</td>\n",
       "      <td>subject</td>\n",
       "    </tr>\n",
       "    <tr>\n",
       "      <th>646785</th>\n",
       "      <td>646785</td>\n",
       "      <td>Gottfried, Robert Steven, 1949-</td>\n",
       "      <td>zzzyybvk</td>\n",
       "      <td>Person</td>\n",
       "      <td>contributor</td>\n",
       "    </tr>\n",
       "  </tbody>\n",
       "</table>\n",
       "<p>646786 rows × 5 columns</p>\n",
       "</div>"
      ],
      "text/plain": [
       "           idx                                         label         id  \\\n",
       "0            0                                      Children  null00000   \n",
       "1            1                                  Criminal law  null00001   \n",
       "2            2                                  Gender roles  null00002   \n",
       "3            3                                           Law  null00003   \n",
       "4            4                                        Police  null00004   \n",
       "...        ...                                           ...        ...   \n",
       "646781  646781  Pregnant teenagers - Great Britain - Diaries   zzzvtr3f   \n",
       "646782  646782                                  Maddox, Lucy   zzzw65be   \n",
       "646783  646783                   Rockliffe, Richard William.   zzzwgbkn   \n",
       "646784  646784                       Aneurysm - drug therapy   zzzygqw9   \n",
       "646785  646785               Gottfried, Robert Steven, 1949-   zzzyybvk   \n",
       "\n",
       "           type       source  \n",
       "0       missing      subject  \n",
       "1       missing      subject  \n",
       "2       missing      subject  \n",
       "3       missing      subject  \n",
       "4       missing      subject  \n",
       "...         ...          ...  \n",
       "646781  Concept      subject  \n",
       "646782   Person  contributor  \n",
       "646783   Person  contributor  \n",
       "646784  Concept      subject  \n",
       "646785   Person  contributor  \n",
       "\n",
       "[646786 rows x 5 columns]"
      ]
     },
     "metadata": {},
     "output_type": "display_data"
    }
   ],
   "source": [
    "import pandas as pd\n",
    "from wc_simd.dedupe_service import dedup_data_file\n",
    "dedup_data = pd.read_csv(\"../\" + dedup_data_file, index_col=0)\n",
    "\n",
    "# force all columns to string type\n",
    "dedup_data = dedup_data.astype(str)\n",
    "\n",
    "dedup_data"
   ]
  },
  {
   "cell_type": "markdown",
   "id": "1105cc51",
   "metadata": {},
   "source": [
    "## Create blocking map"
   ]
  },
  {
   "cell_type": "markdown",
   "id": "da56b2b9",
   "metadata": {},
   "source": [
    "### Spark Blocking"
   ]
  },
  {
   "cell_type": "code",
   "execution_count": null,
   "id": "acee82cf",
   "metadata": {},
   "outputs": [],
   "source": [
    "dedup_data_df = spark.createDataFrame(dedup_data)"
   ]
  },
  {
   "cell_type": "code",
   "execution_count": null,
   "id": "6d944c39",
   "metadata": {},
   "outputs": [
    {
     "data": {
      "text/plain": [
       "64"
      ]
     },
     "metadata": {},
     "output_type": "display_data"
    }
   ],
   "source": [
    "dedup_data_df.rdd.getNumPartitions()"
   ]
  },
  {
   "cell_type": "code",
   "execution_count": null,
   "id": "a97ecd6e",
   "metadata": {},
   "outputs": [
    {
     "name": "stdout",
     "output_type": "stream",
     "text": [
      "+---+--------------------+---------+-------+-----------+\n",
      "|idx|               label|       id|   type|     source|\n",
      "+---+--------------------+---------+-------+-----------+\n",
      "|  0|            Children|null00000|missing|    subject|\n",
      "|  1|        Criminal law|null00001|missing|    subject|\n",
      "|  2|        Gender roles|null00002|missing|    subject|\n",
      "|  3|                 Law|null00003|missing|    subject|\n",
      "|  4|              Police|null00004|missing|    subject|\n",
      "|  5|               Women|null00005|missing|    subject|\n",
      "|  6|               Womyn|null00006|missing|    subject|\n",
      "|  7|               Youth|null00007|missing|    subject|\n",
      "|  8|Circle of State L...| a2233f9d|Meeting|contributor|\n",
      "|  9|Nelson, Geoffrey ...| a223f5a6| Person|contributor|\n",
      "| 10|           Wolff, G.| a2249bxm| Person|contributor|\n",
      "| 11|       Jones, John E| a224b9mp| Person|contributor|\n",
      "| 12|      Jones, John E.| a224b9mp| Person|contributor|\n",
      "| 13|Hulverscheidt, Ma...| a224rx5x| Person|contributor|\n",
      "| 14|Zimmermann, Wilhelm.| a224tns9| Person|contributor|\n",
      "| 15|         Gaur, June.| a2258t8s| Person|contributor|\n",
      "| 16|South Cambridgesh...| a22auf32|  Place|    subject|\n",
      "| 17|Orel, Harold, 192...| a22d6ehy| Person|contributor|\n",
      "| 18| Brown, Bruce, 1942-| a22d7muq| Person|contributor|\n",
      "| 19|Economic developm...| a22ddxvt|Concept|    subject|\n",
      "+---+--------------------+---------+-------+-----------+\n",
      "only showing top 20 rows\n",
      "\n"
     ]
    },
    {
     "name": "stderr",
     "output_type": "stream",
     "text": [
      "                                                                                \r"
     ]
    }
   ],
   "source": [
    "dedup_data_df.show()"
   ]
  },
  {
   "cell_type": "code",
   "execution_count": null,
   "id": "179edfee",
   "metadata": {},
   "outputs": [
    {
     "name": "stderr",
     "output_type": "stream",
     "text": [
      "[Stage 25:>                                                         (0 + 1) / 1]\r"
     ]
    },
    {
     "name": "stdout",
     "output_type": "stream",
     "text": [
      "+---------+---+\n",
      "|block_key|idx|\n",
      "+---------+---+\n",
      "|      1:0|  0|\n",
      "|      1:1|  0|\n",
      "|      2:0|  1|\n",
      "|      3:0|  2|\n",
      "|      4:0|  3|\n",
      "|      4:1|  3|\n",
      "|      5:0|  4|\n",
      "|      6:0|  5|\n",
      "|      6:1|  5|\n",
      "|      6:0|  6|\n",
      "|      7:1|  6|\n",
      "|      8:0|  7|\n",
      "|      8:1|  7|\n",
      "|      9:0|  8|\n",
      "|     10:0|  9|\n",
      "|     10:1|  9|\n",
      "|     11:0| 10|\n",
      "|     11:1| 10|\n",
      "|     12:0| 11|\n",
      "|     12:1| 11|\n",
      "+---------+---+\n",
      "only showing top 20 rows\n",
      "\n"
     ]
    },
    {
     "name": "stderr",
     "output_type": "stream",
     "text": [
      "                                                                                \r"
     ]
    }
   ],
   "source": [
    "from pyspark.sql.types import StructType, StructField, StringType, DoubleType, IntegerType\n",
    "import pandas as pd\n",
    "from wc_simd.dedupe_service import settings_file\n",
    "from dedupe import StaticDedupe\n",
    "from typing import Iterator\n",
    "\n",
    "\n",
    "def block_pandas(iterator: Iterator[pd.DataFrame]) -> Iterator[pd.DataFrame]:\n",
    "\n",
    "    for pdf in iterator:\n",
    "        with open(\"../\" + settings_file, 'rb') as f:\n",
    "            dedupe = StaticDedupe(f, num_cores=1)\n",
    "\n",
    "        for field in dedupe.fingerprinter.index_fields:\n",
    "            field_data = pdf[field].dropna().unique()\n",
    "            dedupe.fingerprinter.index(field_data, field)\n",
    "\n",
    "        fingerprint_data = ((row.idx, dict(label=row.label, type=row.type))\n",
    "                            for idx, row in pdf.iterrows())\n",
    "        blocked_data = dedupe.fingerprinter(fingerprint_data)\n",
    "\n",
    "        yield pd.DataFrame(blocked_data, columns=[\"block_key\", \"idx\"])\n",
    "\n",
    "\n",
    "blocked_schema = StructType([\n",
    "    StructField(\"block_key\", StringType(), True),\n",
    "    StructField(\"idx\", IntegerType(), True),\n",
    "])\n",
    "\n",
    "blocked_df = dedup_data_df.mapInPandas(\n",
    "    block_pandas, schema=blocked_schema)\n",
    "blocked_df.show()"
   ]
  },
  {
   "cell_type": "code",
   "execution_count": null,
   "id": "40e26d1b",
   "metadata": {},
   "outputs": [
    {
     "name": "stderr",
     "output_type": "stream",
     "text": [
      "                                                                                \r"
     ]
    }
   ],
   "source": [
    "blocked_df.write.mode(\"overwrite\").saveAsTable(\"dn_label_blocks\")"
   ]
  },
  {
   "cell_type": "code",
   "execution_count": null,
   "id": "e0c06f1a",
   "metadata": {},
   "outputs": [],
   "source": [
    "blocked_df = spark.table(\"dn_label_blocks\")"
   ]
  },
  {
   "cell_type": "code",
   "execution_count": null,
   "id": "6d8065e0",
   "metadata": {},
   "outputs": [
    {
     "data": {
      "application/vnd.microsoft.datawrangler.viewer.v0+json": {
       "columns": [
        {
         "name": "index",
         "rawType": "int64",
         "type": "integer"
        },
        {
         "name": "block_key",
         "rawType": "object",
         "type": "string"
        },
        {
         "name": "idx",
         "rawType": "int32",
         "type": "integer"
        }
       ],
       "ref": "97b5d432-55ba-40b2-b407-7fa2f925c0a4",
       "rows": [
        [
         "0",
         "1:0",
         "141312"
        ],
        [
         "1",
         "2:0",
         "141313"
        ],
        [
         "2",
         "2:1",
         "141313"
        ],
        [
         "3",
         "3:0",
         "141314"
        ],
        [
         "4",
         "4:0",
         "141315"
        ],
        [
         "5",
         "5:0",
         "141316"
        ],
        [
         "6",
         "5:1",
         "141316"
        ],
        [
         "7",
         "6:0",
         "141317"
        ],
        [
         "8",
         "7:0",
         "141318"
        ],
        [
         "9",
         "8:0",
         "141319"
        ],
        [
         "10",
         "8:0",
         "141320"
        ],
        [
         "11",
         "9:0",
         "141321"
        ],
        [
         "12",
         "9:1",
         "141321"
        ],
        [
         "13",
         "10:0",
         "141322"
        ],
        [
         "14",
         "11:0",
         "141323"
        ],
        [
         "15",
         "12:0",
         "141324"
        ],
        [
         "16",
         "12:1",
         "141324"
        ],
        [
         "17",
         "13:0",
         "141325"
        ],
        [
         "18",
         "13:0",
         "141326"
        ],
        [
         "19",
         "13:0",
         "141327"
        ],
        [
         "20",
         "14:0",
         "141328"
        ],
        [
         "21",
         "15:0",
         "141329"
        ],
        [
         "22",
         "15:1",
         "141329"
        ],
        [
         "23",
         "15:0",
         "141330"
        ],
        [
         "24",
         "15:1",
         "141330"
        ],
        [
         "25",
         "16:0",
         "141331"
        ],
        [
         "26",
         "17:0",
         "141332"
        ],
        [
         "27",
         "18:0",
         "141333"
        ],
        [
         "28",
         "19:0",
         "141334"
        ],
        [
         "29",
         "20:0",
         "141335"
        ],
        [
         "30",
         "20:1",
         "141335"
        ],
        [
         "31",
         "21:0",
         "141336"
        ],
        [
         "32",
         "21:1",
         "141336"
        ],
        [
         "33",
         "21:0",
         "141337"
        ],
        [
         "34",
         "22:1",
         "141337"
        ],
        [
         "35",
         "23:0",
         "141338"
        ],
        [
         "36",
         "23:1",
         "141338"
        ],
        [
         "37",
         "24:0",
         "141339"
        ],
        [
         "38",
         "24:1",
         "141339"
        ],
        [
         "39",
         "25:0",
         "141340"
        ],
        [
         "40",
         "26:0",
         "141341"
        ],
        [
         "41",
         "27:0",
         "141342"
        ],
        [
         "42",
         "27:1",
         "141342"
        ],
        [
         "43",
         "28:0",
         "141343"
        ],
        [
         "44",
         "28:1",
         "141343"
        ],
        [
         "45",
         "29:0",
         "141344"
        ],
        [
         "46",
         "29:1",
         "141344"
        ],
        [
         "47",
         "30:0",
         "141345"
        ],
        [
         "48",
         "31:0",
         "141346"
        ],
        [
         "49",
         "31:1",
         "141346"
        ]
       ],
       "shape": {
        "columns": 2,
        "rows": 938460
       }
      },
      "text/html": [
       "<div>\n",
       "<style scoped>\n",
       "    .dataframe tbody tr th:only-of-type {\n",
       "        vertical-align: middle;\n",
       "    }\n",
       "\n",
       "    .dataframe tbody tr th {\n",
       "        vertical-align: top;\n",
       "    }\n",
       "\n",
       "    .dataframe thead th {\n",
       "        text-align: right;\n",
       "    }\n",
       "</style>\n",
       "<table border=\"1\" class=\"dataframe\">\n",
       "  <thead>\n",
       "    <tr style=\"text-align: right;\">\n",
       "      <th></th>\n",
       "      <th>block_key</th>\n",
       "      <th>idx</th>\n",
       "    </tr>\n",
       "  </thead>\n",
       "  <tbody>\n",
       "    <tr>\n",
       "      <th>0</th>\n",
       "      <td>1:0</td>\n",
       "      <td>141312</td>\n",
       "    </tr>\n",
       "    <tr>\n",
       "      <th>1</th>\n",
       "      <td>2:0</td>\n",
       "      <td>141313</td>\n",
       "    </tr>\n",
       "    <tr>\n",
       "      <th>2</th>\n",
       "      <td>2:1</td>\n",
       "      <td>141313</td>\n",
       "    </tr>\n",
       "    <tr>\n",
       "      <th>3</th>\n",
       "      <td>3:0</td>\n",
       "      <td>141314</td>\n",
       "    </tr>\n",
       "    <tr>\n",
       "      <th>4</th>\n",
       "      <td>4:0</td>\n",
       "      <td>141315</td>\n",
       "    </tr>\n",
       "    <tr>\n",
       "      <th>...</th>\n",
       "      <td>...</td>\n",
       "      <td>...</td>\n",
       "    </tr>\n",
       "    <tr>\n",
       "      <th>938455</th>\n",
       "      <td>8587:1</td>\n",
       "      <td>9212</td>\n",
       "    </tr>\n",
       "    <tr>\n",
       "      <th>938456</th>\n",
       "      <td>8587:0</td>\n",
       "      <td>9213</td>\n",
       "    </tr>\n",
       "    <tr>\n",
       "      <th>938457</th>\n",
       "      <td>8587:1</td>\n",
       "      <td>9213</td>\n",
       "    </tr>\n",
       "    <tr>\n",
       "      <th>938458</th>\n",
       "      <td>8588:0</td>\n",
       "      <td>9214</td>\n",
       "    </tr>\n",
       "    <tr>\n",
       "      <th>938459</th>\n",
       "      <td>8589:0</td>\n",
       "      <td>9215</td>\n",
       "    </tr>\n",
       "  </tbody>\n",
       "</table>\n",
       "<p>938460 rows × 2 columns</p>\n",
       "</div>"
      ],
      "text/plain": [
       "       block_key     idx\n",
       "0            1:0  141312\n",
       "1            2:0  141313\n",
       "2            2:1  141313\n",
       "3            3:0  141314\n",
       "4            4:0  141315\n",
       "...          ...     ...\n",
       "938455    8587:1    9212\n",
       "938456    8587:0    9213\n",
       "938457    8587:1    9213\n",
       "938458    8588:0    9214\n",
       "938459    8589:0    9215\n",
       "\n",
       "[938460 rows x 2 columns]"
      ]
     },
     "metadata": {},
     "output_type": "display_data"
    }
   ],
   "source": [
    "blocking_map_df = blocked_df.toPandas()\n",
    "# blocking_map_df.set_index(\"idx\", inplace=True, drop=False)\n",
    "blocking_map_df"
   ]
  },
  {
   "cell_type": "markdown",
   "id": "4d1ac01e",
   "metadata": {},
   "source": [
    "## Non-Spark blocking"
   ]
  },
  {
   "cell_type": "code",
   "execution_count": null,
   "id": "f437505a",
   "metadata": {},
   "outputs": [
    {
     "name": "stderr",
     "output_type": "stream",
     "text": [
      "INFO:dedupe.api:Predicate set:\n",
      "INFO:dedupe.api:SimplePredicate: (firstTwoTokensPredicate, label)\n",
      "INFO:dedupe.api:SimplePredicate: (oneGramFingerprint, label)\n"
     ]
    }
   ],
   "source": [
    "from wc_simd.dedupe_service import settings_file\n",
    "from dedupe import StaticDedupe\n",
    "\n",
    "\n",
    "with open(\"../\" + settings_file, 'rb') as f:\n",
    "    deduper = StaticDedupe(f, num_cores=8)\n",
    "\n",
    "for field in deduper.fingerprinter.index_fields:\n",
    "    print(f\"Indexing field: {field}\")\n",
    "    field_data = dedup_data[field].dropna().unique()\n",
    "    deduper.fingerprinter.index(field_data, field)\n",
    "\n",
    "fingerprint_data = ((idx, dict(label=row.label, type=row.type)) for idx, row in dedup_data.iterrows())\n",
    "blocked_data = deduper.fingerprinter(fingerprint_data)"
   ]
  },
  {
   "cell_type": "code",
   "execution_count": null,
   "id": "3447c024",
   "metadata": {},
   "outputs": [
    {
     "name": "stderr",
     "output_type": "stream",
     "text": [
      "INFO:dedupe.blocking:10000, 0.6576412 seconds\n",
      "INFO:dedupe.blocking:20000, 1.2528772 seconds\n",
      "INFO:dedupe.blocking:30000, 1.8461682 seconds\n",
      "INFO:dedupe.blocking:40000, 2.4414742 seconds\n",
      "INFO:dedupe.blocking:50000, 3.0324152 seconds\n",
      "INFO:dedupe.blocking:60000, 3.6229272 seconds\n",
      "INFO:dedupe.blocking:70000, 4.2134852 seconds\n",
      "INFO:dedupe.blocking:80000, 4.8062192 seconds\n",
      "INFO:dedupe.blocking:90000, 5.3969642 seconds\n",
      "INFO:dedupe.blocking:100000, 5.9892732 seconds\n",
      "INFO:dedupe.blocking:110000, 6.5806282 seconds\n",
      "INFO:dedupe.blocking:120000, 7.1722862 seconds\n",
      "INFO:dedupe.blocking:130000, 7.7620202 seconds\n",
      "INFO:dedupe.blocking:140000, 8.3527662 seconds\n",
      "INFO:dedupe.blocking:150000, 8.9478982 seconds\n",
      "INFO:dedupe.blocking:160000, 9.5412722 seconds\n",
      "INFO:dedupe.blocking:170000, 10.1313692 seconds\n",
      "INFO:dedupe.blocking:180000, 10.7233462 seconds\n",
      "INFO:dedupe.blocking:190000, 11.3171742 seconds\n",
      "INFO:dedupe.blocking:200000, 11.9110692 seconds\n",
      "INFO:dedupe.blocking:210000, 12.5069032 seconds\n",
      "INFO:dedupe.blocking:220000, 13.1025012 seconds\n",
      "INFO:dedupe.blocking:230000, 13.6972602 seconds\n",
      "INFO:dedupe.blocking:240000, 14.2930742 seconds\n",
      "INFO:dedupe.blocking:250000, 14.8867422 seconds\n",
      "INFO:dedupe.blocking:260000, 15.4832512 seconds\n",
      "INFO:dedupe.blocking:270000, 16.0783832 seconds\n",
      "INFO:dedupe.blocking:280000, 16.6689052 seconds\n",
      "INFO:dedupe.blocking:290000, 17.2606192 seconds\n",
      "INFO:dedupe.blocking:300000, 17.8544952 seconds\n",
      "INFO:dedupe.blocking:310000, 18.4480562 seconds\n",
      "INFO:dedupe.blocking:320000, 19.0405582 seconds\n",
      "INFO:dedupe.blocking:330000, 19.6315492 seconds\n",
      "INFO:dedupe.blocking:340000, 20.2226702 seconds\n",
      "INFO:dedupe.blocking:350000, 20.8151232 seconds\n",
      "INFO:dedupe.blocking:360000, 21.4068812 seconds\n",
      "INFO:dedupe.blocking:370000, 21.9977302 seconds\n",
      "INFO:dedupe.blocking:380000, 22.5922742 seconds\n",
      "INFO:dedupe.blocking:390000, 23.1872602 seconds\n",
      "INFO:dedupe.blocking:400000, 23.7804602 seconds\n",
      "INFO:dedupe.blocking:410000, 24.3770202 seconds\n",
      "INFO:dedupe.blocking:420000, 24.9728022 seconds\n",
      "INFO:dedupe.blocking:430000, 25.5679872 seconds\n",
      "INFO:dedupe.blocking:440000, 26.1613792 seconds\n",
      "INFO:dedupe.blocking:450000, 26.7525252 seconds\n",
      "INFO:dedupe.blocking:460000, 27.3466252 seconds\n",
      "INFO:dedupe.blocking:470000, 27.9393162 seconds\n",
      "INFO:dedupe.blocking:480000, 28.5317962 seconds\n",
      "INFO:dedupe.blocking:490000, 29.1244502 seconds\n",
      "INFO:dedupe.blocking:500000, 29.7151162 seconds\n",
      "INFO:dedupe.blocking:510000, 30.3084342 seconds\n",
      "INFO:dedupe.blocking:520000, 30.8999582 seconds\n",
      "INFO:dedupe.blocking:530000, 31.4870982 seconds\n",
      "INFO:dedupe.blocking:540000, 32.0870092 seconds\n",
      "INFO:dedupe.blocking:550000, 32.6784542 seconds\n",
      "INFO:dedupe.blocking:560000, 33.2722792 seconds\n",
      "INFO:dedupe.blocking:570000, 33.8649062 seconds\n",
      "INFO:dedupe.blocking:580000, 34.4556632 seconds\n",
      "INFO:dedupe.blocking:590000, 35.0466792 seconds\n",
      "INFO:dedupe.blocking:600000, 35.6354782 seconds\n",
      "INFO:dedupe.blocking:610000, 36.2250852 seconds\n",
      "INFO:dedupe.blocking:620000, 36.8164472 seconds\n",
      "INFO:dedupe.blocking:630000, 37.4093662 seconds\n",
      "INFO:dedupe.blocking:640000, 37.9993442 seconds\n"
     ]
    },
    {
     "data": {
      "application/vnd.microsoft.datawrangler.viewer.v0+json": {
       "columns": [
        {
         "name": "block_key",
         "rawType": "object",
         "type": "string"
        },
        {
         "name": "idx",
         "rawType": "int64",
         "type": "integer"
        }
       ],
       "ref": "de9726e4-8b8c-45f4-b9e4-27c19152d627",
       "rows": [
        [
         "Cdehilnr:1",
         "0"
        ],
        [
         "Criminal law:0",
         "1"
        ],
        [
         "Cailmnrw:1",
         "1"
        ],
        [
         "Gender roles:0",
         "2"
        ],
        [
         "Gdelnors:1",
         "2"
        ],
        [
         "Law:1",
         "3"
        ],
        [
         "Pceilo:1",
         "4"
        ],
        [
         "Wemno:1",
         "5"
        ],
        [
         "Wmnoy:1",
         "6"
        ],
        [
         "Yhotu:1",
         "7"
        ],
        [
         "Circle of:0",
         "8"
        ],
        [
         "179CEKLSabcdefgilnorstw:1",
         "8"
        ],
        [
         "Nelson Geoffrey:0",
         "9"
        ],
        [
         "BGNaefilnorsy:1",
         "9"
        ],
        [
         "Wolff G:0",
         "10"
        ],
        [
         "GWflo:1",
         "10"
        ],
        [
         "Jones John:0",
         "11"
        ],
        [
         "EJehnos:1",
         "11"
        ],
        [
         "Jones John:0",
         "12"
        ],
        [
         "EJehnos:1",
         "12"
        ],
        [
         "Hulverscheidt Marion:0",
         "13"
        ],
        [
         "0179HMacdehilnorstuv:1",
         "13"
        ],
        [
         "Zimmermann Wilhelm:0",
         "14"
        ],
        [
         "WZaehilmnr:1",
         "14"
        ],
        [
         "Gaur June:0",
         "15"
        ],
        [
         "GJaenru:1",
         "15"
        ],
        [
         "South Cambridgeshire:0",
         "16"
        ],
        [
         "CESabdeghilmnorstu:1",
         "16"
        ],
        [
         "Orel Harold:0",
         "17"
        ],
        [
         "012679HOadelor:1",
         "17"
        ],
        [
         "Brown Bruce:0",
         "18"
        ],
        [
         "1249Bcenoruw:1",
         "18"
        ],
        [
         "Economic development:0",
         "19"
        ],
        [
         "EHcdeilmnoprstvy:1",
         "19"
        ],
        [
         "Shugar Andrea:0",
         "20"
        ],
        [
         "ASadeghnru:1",
         "20"
        ],
        [
         "Bruce Edinburgh:0",
         "21"
        ],
        [
         "BESabcdeghilnortu:1",
         "21"
        ],
        [
         "Cheeseman Thomas:0",
         "22"
        ],
        [
         "0135678CTaehilmnoprstxy:1",
         "22"
        ],
        [
         "Hartstein Jack:0",
         "23"
        ],
        [
         "1249HJaceiknrst:1",
         "23"
        ],
        [
         "Prujean Thomas:0",
         "24"
        ],
        [
         "1236PTaehjmnorsu:1",
         "24"
        ],
        [
         "Freeport Andrew:0",
         "25"
        ],
        [
         "AFdenoprtw:1",
         "25"
        ],
        [
         "Databases as:0",
         "26"
        ],
        [
         "DTabcdegimnoprstz:1",
         "26"
        ],
        [
         "Ideler Julius:0",
         "27"
        ],
        [
         "012489IJLdegilrsuw:1",
         "27"
        ]
       ],
       "shape": {
        "columns": 1,
        "rows": 1268190
       }
      },
      "text/html": [
       "<div>\n",
       "<style scoped>\n",
       "    .dataframe tbody tr th:only-of-type {\n",
       "        vertical-align: middle;\n",
       "    }\n",
       "\n",
       "    .dataframe tbody tr th {\n",
       "        vertical-align: top;\n",
       "    }\n",
       "\n",
       "    .dataframe thead th {\n",
       "        text-align: right;\n",
       "    }\n",
       "</style>\n",
       "<table border=\"1\" class=\"dataframe\">\n",
       "  <thead>\n",
       "    <tr style=\"text-align: right;\">\n",
       "      <th></th>\n",
       "      <th>idx</th>\n",
       "    </tr>\n",
       "    <tr>\n",
       "      <th>block_key</th>\n",
       "      <th></th>\n",
       "    </tr>\n",
       "  </thead>\n",
       "  <tbody>\n",
       "    <tr>\n",
       "      <th>Cdehilnr:1</th>\n",
       "      <td>0</td>\n",
       "    </tr>\n",
       "    <tr>\n",
       "      <th>Criminal law:0</th>\n",
       "      <td>1</td>\n",
       "    </tr>\n",
       "    <tr>\n",
       "      <th>Cailmnrw:1</th>\n",
       "      <td>1</td>\n",
       "    </tr>\n",
       "    <tr>\n",
       "      <th>Gender roles:0</th>\n",
       "      <td>2</td>\n",
       "    </tr>\n",
       "    <tr>\n",
       "      <th>Gdelnors:1</th>\n",
       "      <td>2</td>\n",
       "    </tr>\n",
       "    <tr>\n",
       "      <th>...</th>\n",
       "      <td>...</td>\n",
       "    </tr>\n",
       "    <tr>\n",
       "      <th>RWacdefhiklmor:1</th>\n",
       "      <td>646783</td>\n",
       "    </tr>\n",
       "    <tr>\n",
       "      <th>Aneurysm drug:0</th>\n",
       "      <td>646784</td>\n",
       "    </tr>\n",
       "    <tr>\n",
       "      <th>Aadeghmnprstuy:1</th>\n",
       "      <td>646784</td>\n",
       "    </tr>\n",
       "    <tr>\n",
       "      <th>Gottfried Robert:0</th>\n",
       "      <td>646785</td>\n",
       "    </tr>\n",
       "    <tr>\n",
       "      <th>149GRSbdefinortv:1</th>\n",
       "      <td>646785</td>\n",
       "    </tr>\n",
       "  </tbody>\n",
       "</table>\n",
       "<p>1268190 rows × 1 columns</p>\n",
       "</div>"
      ],
      "text/plain": [
       "                       idx\n",
       "block_key                 \n",
       "Cdehilnr:1               0\n",
       "Criminal law:0           1\n",
       "Cailmnrw:1               1\n",
       "Gender roles:0           2\n",
       "Gdelnors:1               2\n",
       "...                    ...\n",
       "RWacdefhiklmor:1    646783\n",
       "Aneurysm drug:0     646784\n",
       "Aadeghmnprstuy:1    646784\n",
       "Gottfried Robert:0  646785\n",
       "149GRSbdefinortv:1  646785\n",
       "\n",
       "[1268190 rows x 1 columns]"
      ]
     },
     "metadata": {},
     "output_type": "display_data"
    }
   ],
   "source": [
    "blocking_map_df = pd.DataFrame(blocked_data, columns=[\"block_key\", \"idx\"])\n",
    "blocking_map_df.set_index(\"block_key\", inplace=True)\n",
    "blocking_map_df.to_csv(\"../data/dn_blocking_map.csv\", index=True)\n",
    "blocking_map_df"
   ]
  },
  {
   "cell_type": "code",
   "execution_count": null,
   "id": "3282912d",
   "metadata": {},
   "outputs": [],
   "source": [
    "# Check idx column type\n",
    "blocking_map_df[\"idx\"] = blocking_map_df[\"idx\"].astype(int)"
   ]
  },
  {
   "cell_type": "code",
   "execution_count": null,
   "id": "c7492f9f",
   "metadata": {},
   "outputs": [
    {
     "data": {
      "application/vnd.microsoft.datawrangler.viewer.v0+json": {
       "columns": [
        {
         "name": "block_key",
         "rawType": "object",
         "type": "string"
        },
        {
         "name": "idx",
         "rawType": "int64",
         "type": "integer"
        }
       ],
       "ref": "680a0668-4539-47b9-82ee-6097208c3d05",
       "rows": [
        [
         "Cdehilnr:1",
         "0"
        ],
        [
         "Criminal law:0",
         "1"
        ],
        [
         "Cailmnrw:1",
         "1"
        ],
        [
         "Gender roles:0",
         "2"
        ],
        [
         "Gdelnors:1",
         "2"
        ],
        [
         "Law:1",
         "3"
        ],
        [
         "Pceilo:1",
         "4"
        ],
        [
         "Wemno:1",
         "5"
        ],
        [
         "Wmnoy:1",
         "6"
        ],
        [
         "Yhotu:1",
         "7"
        ],
        [
         "Circle of:0",
         "8"
        ],
        [
         "179CEKLSabcdefgilnorstw:1",
         "8"
        ],
        [
         "Nelson Geoffrey:0",
         "9"
        ],
        [
         "BGNaefilnorsy:1",
         "9"
        ],
        [
         "Wolff G:0",
         "10"
        ],
        [
         "GWflo:1",
         "10"
        ],
        [
         "Jones John:0",
         "11"
        ],
        [
         "EJehnos:1",
         "11"
        ],
        [
         "Jones John:0",
         "12"
        ],
        [
         "EJehnos:1",
         "12"
        ],
        [
         "Hulverscheidt Marion:0",
         "13"
        ],
        [
         "0179HMacdehilnorstuv:1",
         "13"
        ],
        [
         "Zimmermann Wilhelm:0",
         "14"
        ],
        [
         "WZaehilmnr:1",
         "14"
        ],
        [
         "Gaur June:0",
         "15"
        ],
        [
         "GJaenru:1",
         "15"
        ],
        [
         "South Cambridgeshire:0",
         "16"
        ],
        [
         "CESabdeghilmnorstu:1",
         "16"
        ],
        [
         "Orel Harold:0",
         "17"
        ],
        [
         "012679HOadelor:1",
         "17"
        ],
        [
         "Brown Bruce:0",
         "18"
        ],
        [
         "1249Bcenoruw:1",
         "18"
        ],
        [
         "Economic development:0",
         "19"
        ],
        [
         "EHcdeilmnoprstvy:1",
         "19"
        ],
        [
         "Shugar Andrea:0",
         "20"
        ],
        [
         "ASadeghnru:1",
         "20"
        ],
        [
         "Bruce Edinburgh:0",
         "21"
        ],
        [
         "BESabcdeghilnortu:1",
         "21"
        ],
        [
         "Cheeseman Thomas:0",
         "22"
        ],
        [
         "0135678CTaehilmnoprstxy:1",
         "22"
        ],
        [
         "Hartstein Jack:0",
         "23"
        ],
        [
         "1249HJaceiknrst:1",
         "23"
        ],
        [
         "Prujean Thomas:0",
         "24"
        ],
        [
         "1236PTaehjmnorsu:1",
         "24"
        ],
        [
         "Freeport Andrew:0",
         "25"
        ],
        [
         "AFdenoprtw:1",
         "25"
        ],
        [
         "Databases as:0",
         "26"
        ],
        [
         "DTabcdegimnoprstz:1",
         "26"
        ],
        [
         "Ideler Julius:0",
         "27"
        ],
        [
         "012489IJLdegilrsuw:1",
         "27"
        ]
       ],
       "shape": {
        "columns": 1,
        "rows": 1268190
       }
      },
      "text/html": [
       "<div>\n",
       "<style scoped>\n",
       "    .dataframe tbody tr th:only-of-type {\n",
       "        vertical-align: middle;\n",
       "    }\n",
       "\n",
       "    .dataframe tbody tr th {\n",
       "        vertical-align: top;\n",
       "    }\n",
       "\n",
       "    .dataframe thead th {\n",
       "        text-align: right;\n",
       "    }\n",
       "</style>\n",
       "<table border=\"1\" class=\"dataframe\">\n",
       "  <thead>\n",
       "    <tr style=\"text-align: right;\">\n",
       "      <th></th>\n",
       "      <th>idx</th>\n",
       "    </tr>\n",
       "    <tr>\n",
       "      <th>block_key</th>\n",
       "      <th></th>\n",
       "    </tr>\n",
       "  </thead>\n",
       "  <tbody>\n",
       "    <tr>\n",
       "      <th>Cdehilnr:1</th>\n",
       "      <td>0</td>\n",
       "    </tr>\n",
       "    <tr>\n",
       "      <th>Criminal law:0</th>\n",
       "      <td>1</td>\n",
       "    </tr>\n",
       "    <tr>\n",
       "      <th>Cailmnrw:1</th>\n",
       "      <td>1</td>\n",
       "    </tr>\n",
       "    <tr>\n",
       "      <th>Gender roles:0</th>\n",
       "      <td>2</td>\n",
       "    </tr>\n",
       "    <tr>\n",
       "      <th>Gdelnors:1</th>\n",
       "      <td>2</td>\n",
       "    </tr>\n",
       "    <tr>\n",
       "      <th>...</th>\n",
       "      <td>...</td>\n",
       "    </tr>\n",
       "    <tr>\n",
       "      <th>RWacdefhiklmor:1</th>\n",
       "      <td>646783</td>\n",
       "    </tr>\n",
       "    <tr>\n",
       "      <th>Aneurysm drug:0</th>\n",
       "      <td>646784</td>\n",
       "    </tr>\n",
       "    <tr>\n",
       "      <th>Aadeghmnprstuy:1</th>\n",
       "      <td>646784</td>\n",
       "    </tr>\n",
       "    <tr>\n",
       "      <th>Gottfried Robert:0</th>\n",
       "      <td>646785</td>\n",
       "    </tr>\n",
       "    <tr>\n",
       "      <th>149GRSbdefinortv:1</th>\n",
       "      <td>646785</td>\n",
       "    </tr>\n",
       "  </tbody>\n",
       "</table>\n",
       "<p>1268190 rows × 1 columns</p>\n",
       "</div>"
      ],
      "text/plain": [
       "                       idx\n",
       "block_key                 \n",
       "Cdehilnr:1               0\n",
       "Criminal law:0           1\n",
       "Cailmnrw:1               1\n",
       "Gender roles:0           2\n",
       "Gdelnors:1               2\n",
       "...                    ...\n",
       "RWacdefhiklmor:1    646783\n",
       "Aneurysm drug:0     646784\n",
       "Aadeghmnprstuy:1    646784\n",
       "Gottfried Robert:0  646785\n",
       "149GRSbdefinortv:1  646785\n",
       "\n",
       "[1268190 rows x 1 columns]"
      ]
     },
     "metadata": {},
     "output_type": "display_data"
    }
   ],
   "source": [
    "blocking_map_df"
   ]
  },
  {
   "cell_type": "code",
   "execution_count": null,
   "id": "6090fdab",
   "metadata": {},
   "outputs": [
    {
     "data": {
      "application/vnd.microsoft.datawrangler.viewer.v0+json": {
       "columns": [
        {
         "name": "block_key",
         "rawType": "object",
         "type": "string"
        },
        {
         "name": "0",
         "rawType": "int64",
         "type": "integer"
        }
       ],
       "ref": "6066bab9-1fef-4ce7-b8bc-c11550d2a536",
       "rows": [
        [
         "Great Britain:0",
         "2328"
        ],
        [
         "University of:0",
         "1608"
        ],
        [
         "United States:0",
         "1094"
        ],
        [
         "Symposium on:0",
         "756"
        ],
        [
         "International Congress:0",
         "588"
        ],
        [
         "Institute of:0",
         "426"
        ],
        [
         "World War:0",
         "410"
        ],
        [
         "Conference on:0",
         "397"
        ],
        [
         "People with:0",
         "384"
        ],
        [
         "Public health:0",
         "374"
        ],
        [
         "Society for:0",
         "373"
        ],
        [
         "International Symposium:0",
         "368"
        ],
        [
         "New York:0",
         "343"
        ],
        [
         "Society of:0",
         "313"
        ],
        [
         "Association of:0",
         "306"
        ],
        [
         "AIDS Disease:0",
         "272"
        ],
        [
         "National Research:0",
         "265"
        ],
        [
         "International Conference:0",
         "259"
        ],
        [
         "Royal College:0",
         "253"
        ],
        [
         "African American:0",
         "221"
        ],
        [
         "African Americans:0",
         "215"
        ],
        [
         "Mental health:0",
         "214"
        ],
        [
         "Medical care:0",
         "210"
        ],
        [
         "International Society:0",
         "200"
        ],
        [
         "Author of:0",
         "193"
        ],
        [
         "World Health:0",
         "185"
        ],
        [
         "Women in:0",
         "176"
        ],
        [
         "Mental illness:0",
         "174"
        ],
        [
         "Université de:0",
         "173"
        ],
        [
         "National Institute:0",
         "169"
        ],
        [
         "Università di:0",
         "168"
        ],
        [
         "British Medical:0",
         "168"
        ],
        [
         "English language:0",
         "166"
        ],
        [
         "Royal Society:0",
         "160"
        ],
        [
         "Indians of:0",
         "158"
        ],
        [
         "Deutsche Gesellschaft:0",
         "157"
        ],
        [
         "Mentally ill:0",
         "156"
        ],
        [
         "National Association:0",
         "155"
        ],
        [
         "Older people:0",
         "147"
        ],
        [
         "American Association:0",
         "146"
        ],
        [
         "Association for:0",
         "144"
        ],
        [
         "Public Health:0",
         "138"
        ],
        [
         "Drug abuse:0",
         "135"
        ],
        [
         "Sexual minorities:0",
         "134"
        ],
        [
         "Sex instruction:0",
         "134"
        ],
        [
         "Universidad de:0",
         "127"
        ],
        [
         "Sex role:0",
         "126"
        ],
        [
         "Wilkins Maurice:0",
         "126"
        ],
        [
         "Société de:0",
         "122"
        ],
        [
         "Human body:0",
         "122"
        ]
       ],
       "shape": {
        "columns": 1,
        "rows": 920565
       }
      },
      "text/plain": [
       "block_key\n",
       "Great Britain:0             2328\n",
       "University of:0             1608\n",
       "United States:0             1094\n",
       "Symposium on:0               756\n",
       "International Congress:0     588\n",
       "                            ... \n",
       "CEHUadeghilnoprstvy:1          1\n",
       "CEHWabdfgilnoprstuy:1          1\n",
       "CEHWacdefghilnorstuy:1         1\n",
       "CEHWacdefilmnorstuvz:1         1\n",
       "賀川 子玄:0                        1\n",
       "Length: 920565, dtype: int64"
      ]
     },
     "metadata": {},
     "output_type": "display_data"
    }
   ],
   "source": [
    "blocking_map_df.groupby(\"block_key\").size().sort_values(ascending=False)"
   ]
  },
  {
   "cell_type": "markdown",
   "id": "e146f373",
   "metadata": {},
   "source": [
    "## Prep dictionary pairs"
   ]
  },
  {
   "cell_type": "code",
   "execution_count": null,
   "id": "b5a184ff",
   "metadata": {},
   "outputs": [
    {
     "data": {
      "application/vnd.microsoft.datawrangler.viewer.v0+json": {
       "columns": [
        {
         "name": "idx",
         "rawType": "int64",
         "type": "integer"
        },
        {
         "name": "dict",
         "rawType": "object",
         "type": "unknown"
        }
       ],
       "ref": "b230a596-046b-4150-9f7a-245752d210e9",
       "rows": [
        [
         "0",
         "{'label': 'Children', 'type': 'missing'}"
        ],
        [
         "1",
         "{'label': 'Criminal law', 'type': 'missing'}"
        ],
        [
         "2",
         "{'label': 'Gender roles', 'type': 'missing'}"
        ],
        [
         "3",
         "{'label': 'Law', 'type': 'missing'}"
        ],
        [
         "4",
         "{'label': 'Police', 'type': 'missing'}"
        ],
        [
         "5",
         "{'label': 'Women', 'type': 'missing'}"
        ],
        [
         "6",
         "{'label': 'Womyn', 'type': 'missing'}"
        ],
        [
         "7",
         "{'label': 'Youth', 'type': 'missing'}"
        ],
        [
         "8",
         "{'label': 'Circle of State Librarians Conference 1979 : Kew, England)', 'type': 'Meeting'}"
        ],
        [
         "9",
         "{'label': 'Nelson, Geoffrey B. (Geoffrey Brian)', 'type': 'Person'}"
        ],
        [
         "10",
         "{'label': 'Wolff, G.', 'type': 'Person'}"
        ],
        [
         "11",
         "{'label': 'Jones, John E', 'type': 'Person'}"
        ],
        [
         "12",
         "{'label': 'Jones, John E.', 'type': 'Person'}"
        ],
        [
         "13",
         "{'label': 'Hulverscheidt, Marion, 1970-', 'type': 'Person'}"
        ],
        [
         "14",
         "{'label': 'Zimmermann, Wilhelm.', 'type': 'Person'}"
        ],
        [
         "15",
         "{'label': 'Gaur, June.', 'type': 'Person'}"
        ],
        [
         "16",
         "{'label': 'South Cambridgeshire (England)', 'type': 'Place'}"
        ],
        [
         "17",
         "{'label': 'Orel, Harold, 1926-2017.', 'type': 'Person'}"
        ],
        [
         "18",
         "{'label': 'Brown, Bruce, 1942-', 'type': 'Person'}"
        ],
        [
         "19",
         "{'label': 'Economic development - History', 'type': 'Concept'}"
        ],
        [
         "20",
         "{'label': 'Shugar, Andrea.', 'type': 'Person'}"
        ],
        [
         "21",
         "{'label': 'Bruce (Edinburgh, Scotland)', 'type': 'Person'}"
        ],
        [
         "22",
         "{'label': 'Cheeseman, Thomas, 1760-approximately 1835.', 'type': 'Person'}"
        ],
        [
         "23",
         "{'label': 'Hartstein, Jack, 1924-', 'type': 'Person'}"
        ],
        [
         "24",
         "{'label': 'Prujean, Thomas, 1622 or 1623-1662.', 'type': 'Person'}"
        ],
        [
         "25",
         "{'label': 'Freeport, Andrew', 'type': 'Person'}"
        ],
        [
         "26",
         "{'label': 'Databases as Topic - organization & administration', 'type': 'Concept'}"
        ],
        [
         "27",
         "{'label': 'Ideler, Julius Ludwig, 1809-1842', 'type': 'Person'}"
        ],
        [
         "28",
         "{'label': 'Fournier, Alfred Jean, 1832-1914', 'type': 'Agent'}"
        ],
        [
         "29",
         "{'label': 'Royal College of Surgeons in London', 'type': 'Organisation'}"
        ],
        [
         "30",
         "{'label': 'Royal College of Surgeons in London.', 'type': 'Organisation'}"
        ],
        [
         "31",
         "{'label': 'Hernia, Inguinal, therapy', 'type': 'Concept'}"
        ],
        [
         "32",
         "{'label': 'Poor families', 'type': 'Concept'}"
        ],
        [
         "33",
         "{'label': 'Scrimshaw, Jane, 1584-1711.', 'type': 'Person'}"
        ],
        [
         "34",
         "{'label': 'Foster, William', 'type': 'Person'}"
        ],
        [
         "35",
         "{'label': 'Foster, William.', 'type': 'Person'}"
        ],
        [
         "36",
         "{'label': 'Foster, William.', 'type': 'Person'}"
        ],
        [
         "37",
         "{'label': 'da Silva, Christiano', 'type': 'Person'}"
        ],
        [
         "38",
         "{'label': 'Steam-heating', 'type': 'Concept'}"
        ],
        [
         "39",
         "{'label': 'Dental Restoration, Temporary', 'type': 'Concept'}"
        ],
        [
         "40",
         "{'label': 'London Black MESMAC', 'type': 'Organisation'}"
        ],
        [
         "41",
         "{'label': 'London Black Mesmac', 'type': 'Organisation'}"
        ],
        [
         "42",
         "{'label': 'Fellows, Julian R. (Julian Robert), 1900-1985.', 'type': 'Person'}"
        ],
        [
         "43",
         "{'label': 'Subba Reddy, D. V., 1899-1987', 'type': 'Person'}"
        ],
        [
         "44",
         "{'label': 'Subba Reddy, D. V., 1899-1987.', 'type': 'Person'}"
        ],
        [
         "45",
         "{'label': 'Subba Reddy, D. V., 1899-1987.', 'type': 'Person'}"
        ],
        [
         "46",
         "{'label': 'Pneumonia', 'type': 'Concept'}"
        ],
        [
         "47",
         "{'label': 'Pneumonia - Child', 'type': 'Concept'}"
        ],
        [
         "48",
         "{'label': 'Pneumonia - Child, Preschool', 'type': 'Concept'}"
        ],
        [
         "49",
         "{'label': 'Pneumonia - Infant', 'type': 'Concept'}"
        ]
       ],
       "shape": {
        "columns": 1,
        "rows": 646786
       }
      },
      "text/html": [
       "<div>\n",
       "<style scoped>\n",
       "    .dataframe tbody tr th:only-of-type {\n",
       "        vertical-align: middle;\n",
       "    }\n",
       "\n",
       "    .dataframe tbody tr th {\n",
       "        vertical-align: top;\n",
       "    }\n",
       "\n",
       "    .dataframe thead th {\n",
       "        text-align: right;\n",
       "    }\n",
       "</style>\n",
       "<table border=\"1\" class=\"dataframe\">\n",
       "  <thead>\n",
       "    <tr style=\"text-align: right;\">\n",
       "      <th></th>\n",
       "      <th>dict</th>\n",
       "    </tr>\n",
       "    <tr>\n",
       "      <th>idx</th>\n",
       "      <th></th>\n",
       "    </tr>\n",
       "  </thead>\n",
       "  <tbody>\n",
       "    <tr>\n",
       "      <th>0</th>\n",
       "      <td>{'label': 'Children', 'type': 'missing'}</td>\n",
       "    </tr>\n",
       "    <tr>\n",
       "      <th>1</th>\n",
       "      <td>{'label': 'Criminal law', 'type': 'missing'}</td>\n",
       "    </tr>\n",
       "    <tr>\n",
       "      <th>2</th>\n",
       "      <td>{'label': 'Gender roles', 'type': 'missing'}</td>\n",
       "    </tr>\n",
       "    <tr>\n",
       "      <th>3</th>\n",
       "      <td>{'label': 'Law', 'type': 'missing'}</td>\n",
       "    </tr>\n",
       "    <tr>\n",
       "      <th>4</th>\n",
       "      <td>{'label': 'Police', 'type': 'missing'}</td>\n",
       "    </tr>\n",
       "    <tr>\n",
       "      <th>...</th>\n",
       "      <td>...</td>\n",
       "    </tr>\n",
       "    <tr>\n",
       "      <th>646781</th>\n",
       "      <td>{'label': 'Pregnant teenagers - Great Britain ...</td>\n",
       "    </tr>\n",
       "    <tr>\n",
       "      <th>646782</th>\n",
       "      <td>{'label': 'Maddox, Lucy', 'type': 'Person'}</td>\n",
       "    </tr>\n",
       "    <tr>\n",
       "      <th>646783</th>\n",
       "      <td>{'label': 'Rockliffe, Richard William.', 'type...</td>\n",
       "    </tr>\n",
       "    <tr>\n",
       "      <th>646784</th>\n",
       "      <td>{'label': 'Aneurysm - drug therapy', 'type': '...</td>\n",
       "    </tr>\n",
       "    <tr>\n",
       "      <th>646785</th>\n",
       "      <td>{'label': 'Gottfried, Robert Steven, 1949-', '...</td>\n",
       "    </tr>\n",
       "  </tbody>\n",
       "</table>\n",
       "<p>646786 rows × 1 columns</p>\n",
       "</div>"
      ],
      "text/plain": [
       "                                                     dict\n",
       "idx                                                      \n",
       "0                {'label': 'Children', 'type': 'missing'}\n",
       "1            {'label': 'Criminal law', 'type': 'missing'}\n",
       "2            {'label': 'Gender roles', 'type': 'missing'}\n",
       "3                     {'label': 'Law', 'type': 'missing'}\n",
       "4                  {'label': 'Police', 'type': 'missing'}\n",
       "...                                                   ...\n",
       "646781  {'label': 'Pregnant teenagers - Great Britain ...\n",
       "646782        {'label': 'Maddox, Lucy', 'type': 'Person'}\n",
       "646783  {'label': 'Rockliffe, Richard William.', 'type...\n",
       "646784  {'label': 'Aneurysm - drug therapy', 'type': '...\n",
       "646785  {'label': 'Gottfried, Robert Steven, 1949-', '...\n",
       "\n",
       "[646786 rows x 1 columns]"
      ]
     },
     "metadata": {},
     "output_type": "display_data"
    }
   ],
   "source": [
    "full_data_df = pd.DataFrame(((idx, dict(label=row[\"label\"], type=row[\"type\"]))\n",
    "                            for idx, row in dedup_data.iterrows()), columns=[\"idx\", \"dict\"])\n",
    "full_data_df.set_index(\"idx\", inplace=True)\n",
    "full_data_df"
   ]
  },
  {
   "cell_type": "markdown",
   "id": "45a60859",
   "metadata": {},
   "source": [
    "## Join dictionary pairs with blocking map"
   ]
  },
  {
   "cell_type": "code",
   "execution_count": null,
   "id": "be0e6a95",
   "metadata": {},
   "outputs": [
    {
     "data": {
      "application/vnd.microsoft.datawrangler.viewer.v0+json": {
       "columns": [
        {
         "name": "block_key",
         "rawType": "object",
         "type": "string"
        },
        {
         "name": "idx",
         "rawType": "int64",
         "type": "integer"
        },
        {
         "name": "idx_r",
         "rawType": "int64",
         "type": "integer"
        },
        {
         "name": "dict",
         "rawType": "object",
         "type": "unknown"
        },
        {
         "name": "dict_r",
         "rawType": "object",
         "type": "unknown"
        }
       ],
       "ref": "6dc8876b-07f5-436c-a2a7-98b9303e970d",
       "rows": [
        [
         "Cdehilnr:1",
         "0",
         "228859",
         "{'label': 'Children', 'type': 'missing'}",
         "{'label': 'Children', 'type': 'Concept'}"
        ],
        [
         "Cdehilnr:1",
         "0",
         "264402",
         "{'label': 'Children', 'type': 'missing'}",
         "{'label': 'Children', 'type': 'Concept'}"
        ],
        [
         "Criminal law:0",
         "1",
         "102628",
         "{'label': 'Criminal law', 'type': 'missing'}",
         "{'label': 'Criminal law (Roman law) - Early works to 1800', 'type': 'Concept'}"
        ],
        [
         "Criminal law:0",
         "1",
         "180893",
         "{'label': 'Criminal law', 'type': 'missing'}",
         "{'label': 'Criminal law - United States - History', 'type': 'Concept'}"
        ],
        [
         "Criminal law:0",
         "1",
         "306835",
         "{'label': 'Criminal law', 'type': 'missing'}",
         "{'label': 'Criminal law', 'type': 'Concept'}"
        ],
        [
         "Criminal law:0",
         "1",
         "306836",
         "{'label': 'Criminal law', 'type': 'missing'}",
         "{'label': 'Criminal law - Women', 'type': 'Concept'}"
        ],
        [
         "Criminal law:0",
         "1",
         "323958",
         "{'label': 'Criminal law', 'type': 'missing'}",
         "{'label': 'Criminal law', 'type': 'Concept'}"
        ],
        [
         "Criminal law:0",
         "1",
         "473004",
         "{'label': 'Criminal law', 'type': 'missing'}",
         "{'label': 'Criminal law - Europe - Periodicals', 'type': 'Concept'}"
        ],
        [
         "Criminal law:0",
         "1",
         "486686",
         "{'label': 'Criminal law', 'type': 'missing'}",
         "{'label': 'Criminal law - England - 17th century - Cases - Early works to 1800', 'type': 'Concept'}"
        ],
        [
         "Criminal law:0",
         "1",
         "578269",
         "{'label': 'Criminal law', 'type': 'missing'}",
         "{'label': 'Criminal law - United States', 'type': 'Concept'}"
        ],
        [
         "Criminal law:0",
         "1",
         "610625",
         "{'label': 'Criminal law', 'type': 'missing'}",
         "{'label': 'Criminal law - United States - Periodicals', 'type': 'Concept'}"
        ],
        [
         "Cailmnrw:1",
         "1",
         "306835",
         "{'label': 'Criminal law', 'type': 'missing'}",
         "{'label': 'Criminal law', 'type': 'Concept'}"
        ],
        [
         "Cailmnrw:1",
         "1",
         "323958",
         "{'label': 'Criminal law', 'type': 'missing'}",
         "{'label': 'Criminal law', 'type': 'Concept'}"
        ],
        [
         "Law:1",
         "3",
         "229719",
         "{'label': 'Law', 'type': 'missing'}",
         "{'label': 'Law', 'type': 'Concept'}"
        ],
        [
         "Law:1",
         "3",
         "229720",
         "{'label': 'Law', 'type': 'missing'}",
         "{'label': 'Law', 'type': 'GenreConcept'}"
        ],
        [
         "Law:1",
         "3",
         "594775",
         "{'label': 'Law', 'type': 'missing'}",
         "{'label': 'Law', 'type': 'Concept'}"
        ],
        [
         "Pceilo:1",
         "4",
         "53088",
         "{'label': 'Police', 'type': 'missing'}",
         "{'label': 'Police', 'type': 'Concept'}"
        ],
        [
         "Pceilo:1",
         "4",
         "199418",
         "{'label': 'Police', 'type': 'missing'}",
         "{'label': 'Police', 'type': 'Concept'}"
        ],
        [
         "Pceilo:1",
         "4",
         "205048",
         "{'label': 'Police', 'type': 'missing'}",
         "{'label': 'Police', 'type': 'Concept'}"
        ],
        [
         "Wemno:1",
         "5",
         "11480",
         "{'label': 'Women', 'type': 'missing'}",
         "{'label': 'Women', 'type': 'Concept'}"
        ],
        [
         "Wemno:1",
         "5",
         "46745",
         "{'label': 'Women', 'type': 'missing'}",
         "{'label': 'Women', 'type': 'Concept'}"
        ],
        [
         "Wemno:1",
         "5",
         "302013",
         "{'label': 'Women', 'type': 'missing'}",
         "{'label': 'Women', 'type': 'Concept'}"
        ],
        [
         "Wemno:1",
         "5",
         "352747",
         "{'label': 'Women', 'type': 'missing'}",
         "{'label': 'Women', 'type': 'Concept'}"
        ],
        [
         "Yhotu:1",
         "7",
         "131304",
         "{'label': 'Youth', 'type': 'missing'}",
         "{'label': 'Youth', 'type': 'Concept'}"
        ],
        [
         "Yhotu:1",
         "7",
         "131305",
         "{'label': 'Youth', 'type': 'missing'}",
         "{'label': 'Youth', 'type': 'Person'}"
        ],
        [
         "Yhotu:1",
         "7",
         "343620",
         "{'label': 'Youth', 'type': 'missing'}",
         "{'label': 'Youth', 'type': 'Concept'}"
        ],
        [
         "Circle of:0",
         "8",
         "219111",
         "{'label': 'Circle of State Librarians Conference 1979 : Kew, England)', 'type': 'Meeting'}",
         "{'label': 'Circle of State Librarians.', 'type': 'Organisation'}"
        ],
        [
         "Circle of:0",
         "8",
         "370977",
         "{'label': 'Circle of State Librarians Conference 1979 : Kew, England)', 'type': 'Meeting'}",
         "{'label': 'Circle of Willis', 'type': 'Concept'}"
        ],
        [
         "Circle of:0",
         "8",
         "509225",
         "{'label': 'Circle of State Librarians Conference 1979 : Kew, England)', 'type': 'Meeting'}",
         "{'label': 'Circle of Willis', 'type': 'Concept'}"
        ],
        [
         "Wolff G:0",
         "10",
         "82485",
         "{'label': 'Wolff, G.', 'type': 'Person'}",
         "{'label': 'Wolff, G. (Gerhard)', 'type': 'Person'}"
        ],
        [
         "GWflo:1",
         "10",
         "281426",
         "{'label': 'Wolff, G.', 'type': 'Person'}",
         "{'label': 'Wolf, G.', 'type': 'Person'}"
        ],
        [
         "GWflo:1",
         "10",
         "536950",
         "{'label': 'Wolff, G.', 'type': 'Person'}",
         "{'label': 'G. Wolf', 'type': 'Agent'}"
        ],
        [
         "Jones John:0",
         "11",
         "12",
         "{'label': 'Jones, John E', 'type': 'Person'}",
         "{'label': 'Jones, John E.', 'type': 'Person'}"
        ],
        [
         "Jones John:0",
         "11",
         "28031",
         "{'label': 'Jones, John E', 'type': 'Person'}",
         "{'label': 'Jones, John V.', 'type': 'Person'}"
        ],
        [
         "Jones John:0",
         "11",
         "30348",
         "{'label': 'Jones, John E', 'type': 'Person'}",
         "{'label': 'Jones, John Christian.', 'type': 'Person'}"
        ],
        [
         "Jones John:0",
         "11",
         "43262",
         "{'label': 'Jones, John E', 'type': 'Person'}",
         "{'label': 'Jones, John, active 1562-1579.', 'type': 'Person'}"
        ],
        [
         "Jones John:0",
         "11",
         "46543",
         "{'label': 'Jones, John E', 'type': 'Person'}",
         "{'label': 'Jones, John Dalston.', 'type': 'Person'}"
        ],
        [
         "Jones John:0",
         "11",
         "68511",
         "{'label': 'Jones, John E', 'type': 'Person'}",
         "{'label': 'Jones, John Milton.', 'type': 'Person'}"
        ],
        [
         "Jones John:0",
         "11",
         "72798",
         "{'label': 'Jones, John E', 'type': 'Person'}",
         "{'label': 'Jones, John Winter, 1805-1881.', 'type': 'Person'}"
        ],
        [
         "Jones John:0",
         "11",
         "85712",
         "{'label': 'Jones, John E', 'type': 'Person'}",
         "{'label': 'Jones, John Bush.', 'type': 'Person'}"
        ],
        [
         "Jones John:0",
         "11",
         "93847",
         "{'label': 'Jones, John E', 'type': 'Person'}",
         "{'label': 'Jones, John, active 1666-1700.', 'type': 'Person'}"
        ],
        [
         "Jones John:0",
         "11",
         "104550",
         "{'label': 'Jones, John E', 'type': 'Person'}",
         "{'label': 'Jones, John Frederick Drake.', 'type': 'Person'}"
        ],
        [
         "Jones John:0",
         "11",
         "126304",
         "{'label': 'Jones, John E', 'type': 'Person'}",
         "{'label': 'Jones, John Hamilton, 1965-', 'type': 'Person'}"
        ],
        [
         "Jones John:0",
         "11",
         "143059",
         "{'label': 'Jones, John E', 'type': 'Person'}",
         "{'label': 'Jones, John, of Dublin', 'type': 'Person'}"
        ],
        [
         "Jones John:0",
         "11",
         "165161",
         "{'label': 'Jones, John E', 'type': 'Person'}",
         "{'label': 'Jones, John (Physician)', 'type': 'Person'}"
        ],
        [
         "Jones John:0",
         "11",
         "165162",
         "{'label': 'Jones, John E', 'type': 'Person'}",
         "{'label': 'Jones, John (Physician)', 'type': 'Person'}"
        ],
        [
         "Jones John:0",
         "11",
         "178143",
         "{'label': 'Jones, John E', 'type': 'Person'}",
         "{'label': 'Jones, John Gale', 'type': 'Person'}"
        ],
        [
         "Jones John:0",
         "11",
         "195492",
         "{'label': 'Jones, John E', 'type': 'Person'}",
         "{'label': 'Jones, John Paul, 1747-1792.', 'type': 'Person'}"
        ],
        [
         "Jones John:0",
         "11",
         "215993",
         "{'label': 'Jones, John E', 'type': 'Person'}",
         "{'label': 'Jones, John, 1726?-', 'type': 'Person'}"
        ],
        [
         "Jones John:0",
         "11",
         "217466",
         "{'label': 'Jones, John E', 'type': 'Person'}",
         "{'label': 'Jones, John Harry, 1881-1973.', 'type': 'Person'}"
        ]
       ],
       "shape": {
        "columns": 4,
        "rows": 7797058
       }
      },
      "text/html": [
       "<div>\n",
       "<style scoped>\n",
       "    .dataframe tbody tr th:only-of-type {\n",
       "        vertical-align: middle;\n",
       "    }\n",
       "\n",
       "    .dataframe tbody tr th {\n",
       "        vertical-align: top;\n",
       "    }\n",
       "\n",
       "    .dataframe thead th {\n",
       "        text-align: right;\n",
       "    }\n",
       "</style>\n",
       "<table border=\"1\" class=\"dataframe\">\n",
       "  <thead>\n",
       "    <tr style=\"text-align: right;\">\n",
       "      <th></th>\n",
       "      <th>idx</th>\n",
       "      <th>idx_r</th>\n",
       "      <th>dict</th>\n",
       "      <th>dict_r</th>\n",
       "    </tr>\n",
       "    <tr>\n",
       "      <th>block_key</th>\n",
       "      <th></th>\n",
       "      <th></th>\n",
       "      <th></th>\n",
       "      <th></th>\n",
       "    </tr>\n",
       "  </thead>\n",
       "  <tbody>\n",
       "    <tr>\n",
       "      <th>Cdehilnr:1</th>\n",
       "      <td>0</td>\n",
       "      <td>228859</td>\n",
       "      <td>{'label': 'Children', 'type': 'missing'}</td>\n",
       "      <td>{'label': 'Children', 'type': 'Concept'}</td>\n",
       "    </tr>\n",
       "    <tr>\n",
       "      <th>Cdehilnr:1</th>\n",
       "      <td>0</td>\n",
       "      <td>264402</td>\n",
       "      <td>{'label': 'Children', 'type': 'missing'}</td>\n",
       "      <td>{'label': 'Children', 'type': 'Concept'}</td>\n",
       "    </tr>\n",
       "    <tr>\n",
       "      <th>Criminal law:0</th>\n",
       "      <td>1</td>\n",
       "      <td>102628</td>\n",
       "      <td>{'label': 'Criminal law', 'type': 'missing'}</td>\n",
       "      <td>{'label': 'Criminal law (Roman law) - Early wo...</td>\n",
       "    </tr>\n",
       "    <tr>\n",
       "      <th>Criminal law:0</th>\n",
       "      <td>1</td>\n",
       "      <td>180893</td>\n",
       "      <td>{'label': 'Criminal law', 'type': 'missing'}</td>\n",
       "      <td>{'label': 'Criminal law - United States - Hist...</td>\n",
       "    </tr>\n",
       "    <tr>\n",
       "      <th>Criminal law:0</th>\n",
       "      <td>1</td>\n",
       "      <td>306835</td>\n",
       "      <td>{'label': 'Criminal law', 'type': 'missing'}</td>\n",
       "      <td>{'label': 'Criminal law', 'type': 'Concept'}</td>\n",
       "    </tr>\n",
       "    <tr>\n",
       "      <th>...</th>\n",
       "      <td>...</td>\n",
       "      <td>...</td>\n",
       "      <td>...</td>\n",
       "      <td>...</td>\n",
       "    </tr>\n",
       "    <tr>\n",
       "      <th>123678CMWabdefhilnorstvw:1</th>\n",
       "      <td>646760</td>\n",
       "      <td>646762</td>\n",
       "      <td>{'label': 'Mather, Cotton, 1663-1728. Wonders ...</td>\n",
       "      <td>{'label': 'Mather, Cotton, 1663-1728. Wonders ...</td>\n",
       "    </tr>\n",
       "    <tr>\n",
       "      <th>Mather Cotton:0</th>\n",
       "      <td>646761</td>\n",
       "      <td>646762</td>\n",
       "      <td>{'label': 'Mather, Cotton, 1663-1728. Wonders ...</td>\n",
       "      <td>{'label': 'Mather, Cotton, 1663-1728. Wonders ...</td>\n",
       "    </tr>\n",
       "    <tr>\n",
       "      <th>123678CMWabdefhilnorstvw:1</th>\n",
       "      <td>646761</td>\n",
       "      <td>646762</td>\n",
       "      <td>{'label': 'Mather, Cotton, 1663-1728. Wonders ...</td>\n",
       "      <td>{'label': 'Mather, Cotton, 1663-1728. Wonders ...</td>\n",
       "    </tr>\n",
       "    <tr>\n",
       "      <th>Kings Fund:0</th>\n",
       "      <td>646765</td>\n",
       "      <td>646766</td>\n",
       "      <td>{'label': 'King's Fund Hospital Centre (London...</td>\n",
       "      <td>{'label': 'King's Fund Hospital Centre (London...</td>\n",
       "    </tr>\n",
       "    <tr>\n",
       "      <th>CEFHKLadegilnoprstu:1</th>\n",
       "      <td>646765</td>\n",
       "      <td>646766</td>\n",
       "      <td>{'label': 'King's Fund Hospital Centre (London...</td>\n",
       "      <td>{'label': 'King's Fund Hospital Centre (London...</td>\n",
       "    </tr>\n",
       "  </tbody>\n",
       "</table>\n",
       "<p>7797058 rows × 4 columns</p>\n",
       "</div>"
      ],
      "text/plain": [
       "                               idx   idx_r  \\\n",
       "block_key                                    \n",
       "Cdehilnr:1                       0  228859   \n",
       "Cdehilnr:1                       0  264402   \n",
       "Criminal law:0                   1  102628   \n",
       "Criminal law:0                   1  180893   \n",
       "Criminal law:0                   1  306835   \n",
       "...                            ...     ...   \n",
       "123678CMWabdefhilnorstvw:1  646760  646762   \n",
       "Mather Cotton:0             646761  646762   \n",
       "123678CMWabdefhilnorstvw:1  646761  646762   \n",
       "Kings Fund:0                646765  646766   \n",
       "CEFHKLadegilnoprstu:1       646765  646766   \n",
       "\n",
       "                                                                         dict  \\\n",
       "block_key                                                                       \n",
       "Cdehilnr:1                           {'label': 'Children', 'type': 'missing'}   \n",
       "Cdehilnr:1                           {'label': 'Children', 'type': 'missing'}   \n",
       "Criminal law:0                   {'label': 'Criminal law', 'type': 'missing'}   \n",
       "Criminal law:0                   {'label': 'Criminal law', 'type': 'missing'}   \n",
       "Criminal law:0                   {'label': 'Criminal law', 'type': 'missing'}   \n",
       "...                                                                       ...   \n",
       "123678CMWabdefhilnorstvw:1  {'label': 'Mather, Cotton, 1663-1728. Wonders ...   \n",
       "Mather Cotton:0             {'label': 'Mather, Cotton, 1663-1728. Wonders ...   \n",
       "123678CMWabdefhilnorstvw:1  {'label': 'Mather, Cotton, 1663-1728. Wonders ...   \n",
       "Kings Fund:0                {'label': 'King's Fund Hospital Centre (London...   \n",
       "CEFHKLadegilnoprstu:1       {'label': 'King's Fund Hospital Centre (London...   \n",
       "\n",
       "                                                                       dict_r  \n",
       "block_key                                                                      \n",
       "Cdehilnr:1                           {'label': 'Children', 'type': 'Concept'}  \n",
       "Cdehilnr:1                           {'label': 'Children', 'type': 'Concept'}  \n",
       "Criminal law:0              {'label': 'Criminal law (Roman law) - Early wo...  \n",
       "Criminal law:0              {'label': 'Criminal law - United States - Hist...  \n",
       "Criminal law:0                   {'label': 'Criminal law', 'type': 'Concept'}  \n",
       "...                                                                       ...  \n",
       "123678CMWabdefhilnorstvw:1  {'label': 'Mather, Cotton, 1663-1728. Wonders ...  \n",
       "Mather Cotton:0             {'label': 'Mather, Cotton, 1663-1728. Wonders ...  \n",
       "123678CMWabdefhilnorstvw:1  {'label': 'Mather, Cotton, 1663-1728. Wonders ...  \n",
       "Kings Fund:0                {'label': 'King's Fund Hospital Centre (London...  \n",
       "CEFHKLadegilnoprstu:1       {'label': 'King's Fund Hospital Centre (London...  \n",
       "\n",
       "[7797058 rows x 4 columns]"
      ]
     },
     "metadata": {},
     "output_type": "display_data"
    }
   ],
   "source": [
    "blocking_result_df = (blocking_map_df\n",
    "                      .join(blocking_map_df, rsuffix=\"_r\", on=\"block_key\")\n",
    "             .query('idx < idx_r')\n",
    "             .join(full_data_df, on=\"idx\")\n",
    "             .join(full_data_df, on=\"idx_r\", rsuffix=\"_r\")\n",
    "             )\n",
    "blocking_result_df"
   ]
  },
  {
   "cell_type": "code",
   "execution_count": null,
   "id": "93acf723",
   "metadata": {},
   "outputs": [],
   "source": [
    "blocking_result_df.to_parquet(\"../data/dn_labels_blocking_map.parquet\", index=True)"
   ]
  },
  {
   "cell_type": "code",
   "execution_count": null,
   "id": "dc82e3f6",
   "metadata": {},
   "outputs": [],
   "source": [
    "import pandas as pd\n",
    "blocking_result_df = pd.read_parquet(\"../data/dn_labels_blocking_map.parquet\")"
   ]
  },
  {
   "cell_type": "code",
   "execution_count": null,
   "id": "41e5d564",
   "metadata": {},
   "outputs": [
    {
     "data": {
      "application/vnd.microsoft.datawrangler.viewer.v0+json": {
       "columns": [
        {
         "name": "block_key",
         "rawType": "object",
         "type": "string"
        },
        {
         "name": "idx",
         "rawType": "int64",
         "type": "integer"
        },
        {
         "name": "idx_r",
         "rawType": "int64",
         "type": "integer"
        },
        {
         "name": "dict",
         "rawType": "object",
         "type": "unknown"
        },
        {
         "name": "dict_r",
         "rawType": "object",
         "type": "unknown"
        }
       ],
       "ref": "d6f6cd84-3a77-4f70-a461-4e55f2b8700b",
       "rows": [
        [
         "Childre:0",
         "0",
         "4247",
         "{'label': 'Children', 'type': 'missing'}",
         "{'label': 'Children of immigrants', 'type': 'Concept'}"
        ],
        [
         "Childre:0",
         "0",
         "4248",
         "{'label': 'Children', 'type': 'missing'}",
         "{'label': 'Children of immigrants - Denmark', 'type': 'Concept'}"
        ],
        [
         "Childre:0",
         "0",
         "4838",
         "{'label': 'Children', 'type': 'missing'}",
         "{'label': 'Children - United States - Social conditions', 'type': 'Concept'}"
        ],
        [
         "Childre:0",
         "0",
         "5353",
         "{'label': 'Children', 'type': 'missing'}",
         "{'label': 'Child rearing - Case studies', 'type': 'Concept'}"
        ],
        [
         "Childre:0",
         "0",
         "7405",
         "{'label': 'Children', 'type': 'missing'}",
         "{'label': \"Children's Memorial Hospital (Chicago, Ill.)\", 'type': 'Organisation'}"
        ],
        [
         "Childre:0",
         "0",
         "10463",
         "{'label': 'Children', 'type': 'missing'}",
         "{'label': \"Children's costumes\", 'type': 'Concept'}"
        ],
        [
         "Childre:0",
         "0",
         "10464",
         "{'label': 'Children', 'type': 'missing'}",
         "{'label': \"Children's costumes - 19th century\", 'type': 'Concept'}"
        ],
        [
         "Childre:0",
         "0",
         "15731",
         "{'label': 'Children', 'type': 'missing'}",
         "{'label': 'Children of sick parents', 'type': 'Concept'}"
        ],
        [
         "Childre:0",
         "0",
         "20500",
         "{'label': 'Children', 'type': 'missing'}",
         "{'label': \"Children's stories - History and criticism\", 'type': 'Concept'}"
        ],
        [
         "Childre:0",
         "0",
         "21303",
         "{'label': 'Children', 'type': 'missing'}",
         "{'label': 'Children - Surgery - Palestine', 'type': 'Concept'}"
        ],
        [
         "Childre:0",
         "0",
         "24189",
         "{'label': 'Children', 'type': 'missing'}",
         "{'label': 'Children - Medical examinations', 'type': 'Concept'}"
        ],
        [
         "Childre:0",
         "0",
         "24190",
         "{'label': 'Children', 'type': 'missing'}",
         "{'label': 'Children - Medical examinations - England - Surrey - History', 'type': 'Concept'}"
        ],
        [
         "Childre:0",
         "0",
         "24191",
         "{'label': 'Children', 'type': 'missing'}",
         "{'label': 'Children - Medical examinations - Scotland', 'type': 'Concept'}"
        ],
        [
         "Childre:0",
         "0",
         "32413",
         "{'label': 'Children', 'type': 'missing'}",
         "{'label': \"Children's songs\", 'type': 'Concept'}"
        ],
        [
         "Childre:0",
         "0",
         "34125",
         "{'label': 'Children', 'type': 'missing'}",
         "{'label': 'Children - Language - Periodicals', 'type': 'Concept'}"
        ],
        [
         "Childre:0",
         "0",
         "36863",
         "{'label': 'Children', 'type': 'missing'}",
         "{'label': \"Children's Hospital (Saint Louis, Mo.)\", 'type': 'Organisation'}"
        ],
        [
         "Childre:0",
         "0",
         "38420",
         "{'label': 'Children', 'type': 'missing'}",
         "{'label': 'Children - United States - Death', 'type': 'Concept'}"
        ],
        [
         "Childre:0",
         "0",
         "38421",
         "{'label': 'Children', 'type': 'missing'}",
         "{'label': 'Children - United States - History', 'type': 'Concept'}"
        ],
        [
         "Childre:0",
         "0",
         "38422",
         "{'label': 'Children', 'type': 'missing'}",
         "{'label': 'Children - United States - Longitudinal studies', 'type': 'Concept'}"
        ],
        [
         "Childre:0",
         "0",
         "41155",
         "{'label': 'Children', 'type': 'missing'}",
         "{'label': 'Children - Family relationships', 'type': 'Concept'}"
        ],
        [
         "Childre:0",
         "0",
         "41451",
         "{'label': 'Children', 'type': 'missing'}",
         "{'label': 'Children of sexual minority parents', 'type': 'Concept'}"
        ],
        [
         "Childre:0",
         "0",
         "47949",
         "{'label': 'Children', 'type': 'missing'}",
         "{'label': 'Children - Nutrition - Great Britain', 'type': 'Concept'}"
        ],
        [
         "Childre:0",
         "0",
         "51057",
         "{'label': 'Children', 'type': 'missing'}",
         "{'label': 'Children, John', 'type': 'Person'}"
        ],
        [
         "Childre:0",
         "0",
         "51483",
         "{'label': 'Children', 'type': 'missing'}",
         "{'label': 'Child rearing - United States - History', 'type': 'Concept'}"
        ],
        [
         "Childre:0",
         "0",
         "52288",
         "{'label': 'Children', 'type': 'missing'}",
         "{'label': 'Childress, James F', 'type': 'Person'}"
        ],
        [
         "Childre:0",
         "0",
         "52289",
         "{'label': 'Children', 'type': 'missing'}",
         "{'label': 'Childress, James F.', 'type': 'Person'}"
        ],
        [
         "Childre:0",
         "0",
         "52301",
         "{'label': 'Children', 'type': 'missing'}",
         "{'label': \"Children's rights - Congresses\", 'type': 'Concept'}"
        ],
        [
         "Childre:0",
         "0",
         "52714",
         "{'label': 'Children', 'type': 'missing'}",
         "{'label': 'Children of criminals', 'type': 'Concept'}"
        ],
        [
         "Childre:0",
         "0",
         "54046",
         "{'label': 'Children', 'type': 'missing'}",
         "{'label': \"Children's Fund of Michigan. Research Laboratory. Nutrition and chemical growth in childhood.\", 'type': 'Organisation'}"
        ],
        [
         "Childre:0",
         "0",
         "55402",
         "{'label': 'Children', 'type': 'missing'}",
         "{'label': 'Children - Conduct of life', 'type': 'Concept'}"
        ],
        [
         "Childre:0",
         "0",
         "55403",
         "{'label': 'Children', 'type': 'missing'}",
         "{'label': 'Children - Conduct of life - Comic books, strips, etc', 'type': 'Concept'}"
        ],
        [
         "Childre:0",
         "0",
         "55404",
         "{'label': 'Children', 'type': 'missing'}",
         "{'label': 'Children - Conduct of life - Juvenile fiction', 'type': 'Concept'}"
        ],
        [
         "Childre:0",
         "0",
         "60279",
         "{'label': 'Children', 'type': 'missing'}",
         "{'label': 'Childrey, J. (Joshua), 1623-1670.', 'type': 'Person'}"
        ],
        [
         "Childre:0",
         "0",
         "62478",
         "{'label': 'Children', 'type': 'missing'}",
         "{'label': \"Children's Hospital (Boston, Mass.). School of Nursing\", 'type': 'Organisation'}"
        ],
        [
         "Childre:0",
         "0",
         "64393",
         "{'label': 'Children', 'type': 'missing'}",
         "{'label': 'Children of immigrants - Cross-cultural studies', 'type': 'Concept'}"
        ],
        [
         "Childre:0",
         "0",
         "65768",
         "{'label': 'Children', 'type': 'missing'}",
         "{'label': \"Children's drawings - Psychology\", 'type': 'Concept'}"
        ],
        [
         "Childre:0",
         "0",
         "65977",
         "{'label': 'Children', 'type': 'missing'}",
         "{'label': \"Children's Legal Centre (Great Britain)\", 'type': 'Organisation'}"
        ],
        [
         "Childre:0",
         "0",
         "66171",
         "{'label': 'Children', 'type': 'missing'}",
         "{'label': 'Children of same-sex parents', 'type': 'Concept'}"
        ],
        [
         "Childre:0",
         "0",
         "66172",
         "{'label': 'Children', 'type': 'missing'}",
         "{'label': 'Children of same-sex parents - Juvenile fiction', 'type': 'Concept'}"
        ],
        [
         "Childre:0",
         "0",
         "68755",
         "{'label': 'Children', 'type': 'missing'}",
         "{'label': 'Children with social disabilities - Education (Elementary)', 'type': 'Concept'}"
        ],
        [
         "Childre:0",
         "0",
         "70224",
         "{'label': 'Children', 'type': 'missing'}",
         "{'label': \"Children's Rights Workshop\", 'type': 'Organisation'}"
        ],
        [
         "Childre:0",
         "0",
         "71534",
         "{'label': 'Children', 'type': 'missing'}",
         "{'label': \"Children's Hospital (Washington, D.C.)\", 'type': 'Organisation'}"
        ],
        [
         "Childre:0",
         "0",
         "74504",
         "{'label': 'Children', 'type': 'missing'}",
         "{'label': 'Child rearing - Humor', 'type': 'Concept'}"
        ],
        [
         "Childre:0",
         "0",
         "76678",
         "{'label': 'Children', 'type': 'missing'}",
         "{'label': \"Children's stories\", 'type': 'Concept'}"
        ],
        [
         "Childre:0",
         "0",
         "76679",
         "{'label': 'Children', 'type': 'missing'}",
         "{'label': \"Children's stories - Pictorial works\", 'type': 'Concept'}"
        ],
        [
         "Childre:0",
         "0",
         "77152",
         "{'label': 'Children', 'type': 'missing'}",
         "{'label': \"Children's Hospital (Sheffield, England)\", 'type': 'Organisation'}"
        ],
        [
         "Childre:0",
         "0",
         "78538",
         "{'label': 'Children', 'type': 'missing'}",
         "{'label': \"Children's Rights Development Unit.\", 'type': 'Organisation'}"
        ],
        [
         "Childre:0",
         "0",
         "81552",
         "{'label': 'Children', 'type': 'missing'}",
         "{'label': 'Children with disabilities, Writings of', 'type': 'Concept'}"
        ],
        [
         "Childre:0",
         "0",
         "85465",
         "{'label': 'Children', 'type': 'missing'}",
         "{'label': 'Children of sexual minority parents', 'type': 'Concept'}"
        ],
        [
         "Childre:0",
         "0",
         "88636",
         "{'label': 'Children', 'type': 'missing'}",
         "{'label': 'Children - Health and hygiene - Research', 'type': 'Concept'}"
        ]
       ],
       "shape": {
        "columns": 4,
        "rows": 34256109
       }
      },
      "text/html": [
       "<div>\n",
       "<style scoped>\n",
       "    .dataframe tbody tr th:only-of-type {\n",
       "        vertical-align: middle;\n",
       "    }\n",
       "\n",
       "    .dataframe tbody tr th {\n",
       "        vertical-align: top;\n",
       "    }\n",
       "\n",
       "    .dataframe thead th {\n",
       "        text-align: right;\n",
       "    }\n",
       "</style>\n",
       "<table border=\"1\" class=\"dataframe\">\n",
       "  <thead>\n",
       "    <tr style=\"text-align: right;\">\n",
       "      <th></th>\n",
       "      <th>idx</th>\n",
       "      <th>idx_r</th>\n",
       "      <th>dict</th>\n",
       "      <th>dict_r</th>\n",
       "    </tr>\n",
       "    <tr>\n",
       "      <th>block_key</th>\n",
       "      <th></th>\n",
       "      <th></th>\n",
       "      <th></th>\n",
       "      <th></th>\n",
       "    </tr>\n",
       "  </thead>\n",
       "  <tbody>\n",
       "    <tr>\n",
       "      <th>Childre:0</th>\n",
       "      <td>0</td>\n",
       "      <td>4247</td>\n",
       "      <td>{'label': 'Children', 'type': 'missing'}</td>\n",
       "      <td>{'label': 'Children of immigrants', 'type': 'C...</td>\n",
       "    </tr>\n",
       "    <tr>\n",
       "      <th>Childre:0</th>\n",
       "      <td>0</td>\n",
       "      <td>4248</td>\n",
       "      <td>{'label': 'Children', 'type': 'missing'}</td>\n",
       "      <td>{'label': 'Children of immigrants - Denmark', ...</td>\n",
       "    </tr>\n",
       "    <tr>\n",
       "      <th>Childre:0</th>\n",
       "      <td>0</td>\n",
       "      <td>4838</td>\n",
       "      <td>{'label': 'Children', 'type': 'missing'}</td>\n",
       "      <td>{'label': 'Children - United States - Social c...</td>\n",
       "    </tr>\n",
       "    <tr>\n",
       "      <th>Childre:0</th>\n",
       "      <td>0</td>\n",
       "      <td>5353</td>\n",
       "      <td>{'label': 'Children', 'type': 'missing'}</td>\n",
       "      <td>{'label': 'Child rearing - Case studies', 'typ...</td>\n",
       "    </tr>\n",
       "    <tr>\n",
       "      <th>Childre:0</th>\n",
       "      <td>0</td>\n",
       "      <td>7405</td>\n",
       "      <td>{'label': 'Children', 'type': 'missing'}</td>\n",
       "      <td>{'label': 'Children's Memorial Hospital (Chica...</td>\n",
       "    </tr>\n",
       "    <tr>\n",
       "      <th>...</th>\n",
       "      <td>...</td>\n",
       "      <td>...</td>\n",
       "      <td>...</td>\n",
       "      <td>...</td>\n",
       "    </tr>\n",
       "    <tr>\n",
       "      <th>Magdale:0</th>\n",
       "      <td>646757</td>\n",
       "      <td>646758</td>\n",
       "      <td>{'label': 'Magdalen College (University of Oxf...</td>\n",
       "      <td>{'label': 'Magdalen College (University of Oxf...</td>\n",
       "    </tr>\n",
       "    <tr>\n",
       "      <th>MatherC:0</th>\n",
       "      <td>646760</td>\n",
       "      <td>646761</td>\n",
       "      <td>{'label': 'Mather, Cotton, 1663-1728. Wonders ...</td>\n",
       "      <td>{'label': 'Mather, Cotton, 1663-1728. Wonders ...</td>\n",
       "    </tr>\n",
       "    <tr>\n",
       "      <th>MatherC:0</th>\n",
       "      <td>646760</td>\n",
       "      <td>646762</td>\n",
       "      <td>{'label': 'Mather, Cotton, 1663-1728. Wonders ...</td>\n",
       "      <td>{'label': 'Mather, Cotton, 1663-1728. Wonders ...</td>\n",
       "    </tr>\n",
       "    <tr>\n",
       "      <th>MatherC:0</th>\n",
       "      <td>646761</td>\n",
       "      <td>646762</td>\n",
       "      <td>{'label': 'Mather, Cotton, 1663-1728. Wonders ...</td>\n",
       "      <td>{'label': 'Mather, Cotton, 1663-1728. Wonders ...</td>\n",
       "    </tr>\n",
       "    <tr>\n",
       "      <th>KingsFu:0</th>\n",
       "      <td>646765</td>\n",
       "      <td>646766</td>\n",
       "      <td>{'label': 'King's Fund Hospital Centre (London...</td>\n",
       "      <td>{'label': 'King's Fund Hospital Centre (London...</td>\n",
       "    </tr>\n",
       "  </tbody>\n",
       "</table>\n",
       "<p>34256109 rows × 4 columns</p>\n",
       "</div>"
      ],
      "text/plain": [
       "              idx  ...                                             dict_r\n",
       "block_key          ...                                                   \n",
       "Childre:0       0  ...  {'label': 'Children of immigrants', 'type': 'C...\n",
       "Childre:0       0  ...  {'label': 'Children of immigrants - Denmark', ...\n",
       "Childre:0       0  ...  {'label': 'Children - United States - Social c...\n",
       "Childre:0       0  ...  {'label': 'Child rearing - Case studies', 'typ...\n",
       "Childre:0       0  ...  {'label': 'Children's Memorial Hospital (Chica...\n",
       "...           ...  ...                                                ...\n",
       "Magdale:0  646757  ...  {'label': 'Magdalen College (University of Oxf...\n",
       "MatherC:0  646760  ...  {'label': 'Mather, Cotton, 1663-1728. Wonders ...\n",
       "MatherC:0  646760  ...  {'label': 'Mather, Cotton, 1663-1728. Wonders ...\n",
       "MatherC:0  646761  ...  {'label': 'Mather, Cotton, 1663-1728. Wonders ...\n",
       "KingsFu:0  646765  ...  {'label': 'King's Fund Hospital Centre (London...\n",
       "\n",
       "[34256109 rows x 4 columns]"
      ]
     },
     "metadata": {},
     "output_type": "display_data"
    }
   ],
   "source": [
    "blocking_result_df"
   ]
  },
  {
   "cell_type": "markdown",
   "id": "0150c6f3",
   "metadata": {},
   "source": [
    "## Train and Load Model"
   ]
  },
  {
   "cell_type": "code",
   "execution_count": null,
   "id": "babe824a",
   "metadata": {},
   "outputs": [],
   "source": [
    "import pandas as pd\n",
    "from wc_simd.dedupe_service import dedup_data_file\n",
    "\n",
    "dedup_data = pd.read_csv(\"../\" + dedup_data_file)"
   ]
  },
  {
   "cell_type": "code",
   "execution_count": null,
   "id": "fd9dc843",
   "metadata": {},
   "outputs": [],
   "source": [
    "train_data = {idx: {\"label\": row.label, \"type\": row.type}\n",
    "              for idx, row in dedup_data.iterrows()}"
   ]
  },
  {
   "cell_type": "code",
   "execution_count": null,
   "id": "6376334c",
   "metadata": {},
   "outputs": [
    {
     "name": "stderr",
     "output_type": "stream",
     "text": [
      "INFO:dedupe.api:reading training from file\n",
      "INFO:dedupe.canopy_index:Removing stop word  A\n",
      "INFO:dedupe.canopy_index:Removing stop word  E\n",
      "INFO:dedupe.canopy_index:Removing stop word  M\n",
      "INFO:dedupe.canopy_index:Removing stop word  R\n",
      "INFO:dedupe.canopy_index:Removing stop word ac\n",
      "INFO:dedupe.canopy_index:Removing stop word al\n",
      "INFO:dedupe.canopy_index:Removing stop word ca\n",
      "INFO:dedupe.canopy_index:Removing stop word ce\n",
      "INFO:dedupe.canopy_index:Removing stop word d \n",
      "INFO:dedupe.canopy_index:Removing stop word di\n",
      "INFO:dedupe.canopy_index:Removing stop word e \n",
      "INFO:dedupe.canopy_index:Removing stop word ed\n",
      "INFO:dedupe.canopy_index:Removing stop word en\n",
      "INFO:dedupe.canopy_index:Removing stop word er\n",
      "INFO:dedupe.canopy_index:Removing stop word he\n",
      "INFO:dedupe.canopy_index:Removing stop word ic\n",
      "INFO:dedupe.canopy_index:Removing stop word in\n",
      "INFO:dedupe.canopy_index:Removing stop word l \n",
      "INFO:dedupe.canopy_index:Removing stop word la\n",
      "INFO:dedupe.canopy_index:Removing stop word ma\n",
      "INFO:dedupe.canopy_index:Removing stop word me\n",
      "INFO:dedupe.canopy_index:Removing stop word n \n",
      "INFO:dedupe.canopy_index:Removing stop word nd\n",
      "INFO:dedupe.canopy_index:Removing stop word ni\n",
      "INFO:dedupe.canopy_index:Removing stop word nt\n",
      "INFO:dedupe.canopy_index:Removing stop word or\n",
      "INFO:dedupe.canopy_index:Removing stop word r \n",
      "INFO:dedupe.canopy_index:Removing stop word ri\n",
      "INFO:dedupe.canopy_index:Removing stop word s \n",
      "INFO:dedupe.canopy_index:Removing stop word t \n",
      "INFO:dedupe.canopy_index:Removing stop word th\n",
      "INFO:dedupe.canopy_index:Removing stop word el\n",
      "INFO:dedupe.canopy_index:Removing stop word ll\n",
      "INFO:dedupe.canopy_index:Removing stop word  1\n",
      "INFO:dedupe.canopy_index:Removing stop word 17\n",
      "INFO:dedupe.canopy_index:Removing stop word 18\n",
      "INFO:dedupe.canopy_index:Removing stop word ar\n",
      "INFO:dedupe.canopy_index:Removing stop word rd\n",
      "INFO:dedupe.canopy_index:Removing stop word y \n",
      "INFO:dedupe.canopy_index:Removing stop word  H\n",
      "INFO:dedupe.canopy_index:Removing stop word  S\n",
      "INFO:dedupe.canopy_index:Removing stop word il\n",
      "INFO:dedupe.canopy_index:Removing stop word it\n",
      "INFO:dedupe.canopy_index:Removing stop word te\n",
      "INFO:dedupe.canopy_index:Removing stop word  D\n",
      "INFO:dedupe.canopy_index:Removing stop word ci\n",
      "INFO:dedupe.canopy_index:Removing stop word is\n",
      "INFO:dedupe.canopy_index:Removing stop word ro\n",
      "INFO:dedupe.canopy_index:Removing stop word an\n",
      "INFO:dedupe.canopy_index:Removing stop word ia\n",
      "INFO:dedupe.canopy_index:Removing stop word ns\n",
      "INFO:dedupe.canopy_index:Removing stop word ng\n",
      "INFO:dedupe.canopy_index:Removing stop word on\n",
      "INFO:dedupe.canopy_index:Removing stop word na\n",
      "INFO:dedupe.canopy_index:Removing stop word nn\n",
      "INFO:dedupe.canopy_index:Removing stop word le\n",
      "INFO:dedupe.canopy_index:Removing stop word a \n",
      "INFO:dedupe.canopy_index:Removing stop word ha\n",
      "INFO:dedupe.canopy_index:Removing stop word re\n",
      "INFO:dedupe.canopy_index:Removing stop word ch\n",
      "INFO:dedupe.canopy_index:Removing stop word mi\n",
      "INFO:dedupe.canopy_index:Removing stop word ne\n",
      "INFO:dedupe.canopy_index:Removing stop word om\n",
      "INFO:dedupe.canopy_index:Removing stop word ra\n",
      "INFO:dedupe.canopy_index:Removing stop word  J\n",
      "INFO:dedupe.canopy_index:Removing stop word Jo\n",
      "INFO:dedupe.canopy_index:Removing stop word rs\n",
      "INFO:dedupe.canopy_index:Removing stop word  W\n",
      "INFO:dedupe.canopy_index:Removing stop word am\n",
      "INFO:dedupe.canopy_index:Removing stop word li\n",
      "INFO:dedupe.canopy_index:Removing stop word lo\n",
      "INFO:dedupe.canopy_index:Removing stop word ve\n",
      "INFO:dedupe.canopy_index:Removing stop word  a\n",
      "INFO:dedupe.canopy_index:Removing stop word as\n",
      "INFO:dedupe.canopy_index:Removing stop word es\n",
      "INFO:dedupe.canopy_index:Removing stop word hi\n",
      "INFO:dedupe.canopy_index:Removing stop word ie\n",
      "INFO:dedupe.canopy_index:Removing stop word io\n",
      "INFO:dedupe.canopy_index:Removing stop word rt\n",
      "INFO:dedupe.canopy_index:Removing stop word st\n",
      "INFO:dedupe.canopy_index:Removing stop word us\n",
      "INFO:dedupe.canopy_index:Removing stop word  F\n",
      "INFO:dedupe.canopy_index:Removing stop word  B\n",
      "INFO:dedupe.canopy_index:Removing stop word 19\n",
      "INFO:dedupe.canopy_index:Removing stop word at\n",
      "INFO:dedupe.canopy_index:Removing stop word ct\n",
      "INFO:dedupe.canopy_index:Removing stop word m \n",
      "INFO:dedupe.canopy_index:Removing stop word nc\n",
      "INFO:dedupe.canopy_index:Removing stop word ol\n",
      "INFO:dedupe.canopy_index:Removing stop word os\n",
      "INFO:dedupe.canopy_index:Removing stop word ou\n",
      "INFO:dedupe.canopy_index:Removing stop word ry\n",
      "INFO:dedupe.canopy_index:Removing stop word si\n",
      "INFO:dedupe.canopy_index:Removing stop word ti\n",
      "INFO:dedupe.canopy_index:Removing stop word to\n",
      "INFO:dedupe.canopy_index:Removing stop word  C\n",
      "INFO:dedupe.canopy_index:Removing stop word  G\n",
      "INFO:dedupe.canopy_index:Removing stop word ta\n",
      "INFO:dedupe.canopy_index:Removing stop word  L\n",
      "INFO:dedupe.canopy_index:Removing stop word de\n",
      "INFO:dedupe.canopy_index:Removing stop word Ma\n",
      "INFO:dedupe.canopy_index:Removing stop word ge\n",
      "INFO:dedupe.canopy_index:Removing stop word h \n",
      "INFO:dedupe.canopy_index:Removing stop word se\n",
      "INFO:dedupe.canopy_index:Removing stop word ea\n",
      "INFO:dedupe.canopy_index:Removing stop word et\n",
      "INFO:dedupe.canopy_index:Removing stop word so\n",
      "INFO:dedupe.canopy_index:Removing stop word tr\n",
      "INFO:dedupe.canopy_index:Removing stop word ho\n",
      "INFO:dedupe.canopy_index:Removing stop word Co\n",
      "INFO:dedupe.canopy_index:Removing stop word ur\n",
      "INFO:dedupe.canopy_index:Removing stop word o \n",
      "INFO:dedupe.canopy_index:Removing stop word  P\n",
      "INFO:dedupe.canopy_index:Removing stop word be\n",
      "INFO:dedupe.training:Final predicate set:\n",
      "INFO:dedupe.training:SimplePredicate: (fingerprint, label)\n",
      "INFO:dedupe.training:Final predicate set:\n",
      "INFO:dedupe.training:SimplePredicate: (firstTokenPredicate, label)\n",
      "INFO:dedupe.training:TfidfNGramCanopyPredicate: (0.6, label)\n",
      "INFO:dedupe.training:Final predicate set:\n",
      "INFO:dedupe.training:SimplePredicate: (firstTwoTokensPredicate, label)\n",
      "INFO:dedupe.training:SimplePredicate: (oneGramFingerprint, label)\n"
     ]
    }
   ],
   "source": [
    "import dedupe\n",
    "from wc_simd.dedupe_service import training_file, settings_file, fields\n",
    "\n",
    "deduper = dedupe.Dedupe(fields, num_cores=8)\n",
    "with open(\"../\" + training_file) as tf:\n",
    "    deduper.prepare_training(train_data, training_file=tf)\n",
    "    deduper.train(recall=0.90)\n",
    "    with open(\"../\" + settings_file, \"wb\") as sf:\n",
    "        deduper.write_settings(sf)\n",
    "    deduper.cleanup_training()"
   ]
  },
  {
   "cell_type": "code",
   "execution_count": null,
   "id": "774514c7",
   "metadata": {},
   "outputs": [
    {
     "name": "stderr",
     "output_type": "stream",
     "text": [
      "INFO:dedupe.api:Predicate set:\n",
      "INFO:dedupe.api:TfidfNGramCanopyPredicate: (0.6, label)\n",
      "INFO:dedupe.api:TfidfNGramCanopyPredicate: (0.8, label)\n"
     ]
    }
   ],
   "source": [
    "from dedupe import StaticDedupe\n",
    "from wc_simd.dedupe_service import settings_file\n",
    "\n",
    "# deduper = StaticDedupe(\"../\" + settings_file, num_cores=8)\n",
    "with open(\"../\" + settings_file, 'rb') as f:\n",
    "    deduper = StaticDedupe(f, num_cores=8)"
   ]
  },
  {
   "cell_type": "markdown",
   "id": "c544cea2",
   "metadata": {},
   "source": [
    "# Score Clusters"
   ]
  },
  {
   "cell_type": "code",
   "execution_count": null,
   "id": "0a7f4ecc",
   "metadata": {},
   "outputs": [
    {
     "data": {
      "text/plain": [
       "(166716,)"
      ]
     },
     "metadata": {},
     "output_type": "display_data"
    }
   ],
   "source": [
    "blocking_result_df.reset_index()[\"block_key\"].unique().shape"
   ]
  },
  {
   "cell_type": "code",
   "execution_count": null,
   "id": "109152cc",
   "metadata": {},
   "outputs": [
    {
     "data": {
      "application/vnd.microsoft.datawrangler.viewer.v0+json": {
       "columns": [
        {
         "name": "block_key",
         "rawType": "object",
         "type": "string"
        },
        {
         "name": "0",
         "rawType": "int64",
         "type": "integer"
        }
       ],
       "ref": "0435a572-867e-4557-b8d8-09c61d8a010b",
       "rows": [
        [
         "Great Britain:0",
         "2708628"
        ],
        [
         "University of:0",
         "1292028"
        ],
        [
         "United States:0",
         "597871"
        ],
        [
         "Symposium on:0",
         "285390"
        ],
        [
         "International Congress:0",
         "172578"
        ],
        [
         "Institute of:0",
         "90525"
        ],
        [
         "World War:0",
         "83845"
        ],
        [
         "Conference on:0",
         "78606"
        ],
        [
         "People with:0",
         "73536"
        ],
        [
         "Public health:0",
         "69751"
        ],
        [
         "Society for:0",
         "69378"
        ],
        [
         "International Symposium:0",
         "67528"
        ],
        [
         "New York:0",
         "58653"
        ],
        [
         "Society of:0",
         "48828"
        ],
        [
         "Association of:0",
         "46665"
        ],
        [
         "AIDS Disease:0",
         "36856"
        ],
        [
         "National Research:0",
         "34980"
        ],
        [
         "International Conference:0",
         "33411"
        ],
        [
         "Royal College:0",
         "31878"
        ],
        [
         "African American:0",
         "24310"
        ],
        [
         "African Americans:0",
         "23005"
        ],
        [
         "Mental health:0",
         "22791"
        ],
        [
         "Medical care:0",
         "21945"
        ],
        [
         "International Society:0",
         "19900"
        ],
        [
         "Author of:0",
         "18528"
        ],
        [
         "World Health:0",
         "17020"
        ],
        [
         "Women in:0",
         "15400"
        ],
        [
         "Mental illness:0",
         "15051"
        ],
        [
         "Université de:0",
         "14878"
        ],
        [
         "National Institute:0",
         "14196"
        ],
        [
         "British Medical:0",
         "14028"
        ],
        [
         "Università di:0",
         "14028"
        ],
        [
         "English language:0",
         "13695"
        ],
        [
         "Royal Society:0",
         "12720"
        ],
        [
         "Indians of:0",
         "12403"
        ],
        [
         "Deutsche Gesellschaft:0",
         "12246"
        ],
        [
         "Mentally ill:0",
         "12090"
        ],
        [
         "National Association:0",
         "11935"
        ],
        [
         "Older people:0",
         "10731"
        ],
        [
         "American Association:0",
         "10585"
        ],
        [
         "Association for:0",
         "10296"
        ],
        [
         "Public Health:0",
         "9453"
        ],
        [
         "Drug abuse:0",
         "9045"
        ],
        [
         "Sex instruction:0",
         "8911"
        ],
        [
         "Sexual minorities:0",
         "8911"
        ],
        [
         "Universidad de:0",
         "8001"
        ],
        [
         "Sex role:0",
         "7875"
        ],
        [
         "Wilkins Maurice:0",
         "7875"
        ],
        [
         "Human body:0",
         "7381"
        ],
        [
         "Société de:0",
         "7381"
        ]
       ],
       "shape": {
        "columns": 1,
        "rows": 166716
       }
      },
      "text/plain": [
       "block_key\n",
       "Great Britain:0             2708628\n",
       "University of:0             1292028\n",
       "United States:0              597871\n",
       "Symposium on:0               285390\n",
       "International Congress:0     172578\n",
       "                             ...   \n",
       "Commedia dellarte:0               1\n",
       "Commandments Six:0                1\n",
       "Commandments Judaism:0            1\n",
       "Command of:0                      1\n",
       "宇川玄田真:1                           1\n",
       "Length: 166716, dtype: int64"
      ]
     },
     "metadata": {},
     "output_type": "display_data"
    }
   ],
   "source": [
    "blocking_result_df.groupby(\"block_key\").size().sort_values(ascending=False)"
   ]
  },
  {
   "cell_type": "code",
   "execution_count": null,
   "id": "b447a67d",
   "metadata": {},
   "outputs": [
    {
     "data": {
      "image/png": "[encoded data removed]",
      "text/plain": [
       "<Figure size 1000x600 with 1 Axes>"
      ]
     },
     "metadata": {},
     "output_type": "display_data"
    },
    {
     "name": "stdout",
     "output_type": "stream",
     "text": [
      "Block sizes statistics:\n",
      "count    53363.000000\n",
      "mean         7.129640\n",
      "std          7.670314\n",
      "min          3.000000\n",
      "25%          3.000000\n",
      "50%          3.000000\n",
      "75%          6.000000\n",
      "max         45.000000\n",
      "dtype: float64\n"
     ]
    }
   ],
   "source": [
    "# Histogram of block sizes\n",
    "import matplotlib.pyplot as plt\n",
    "%matplotlib inline\n",
    "\n",
    "block_sizes = blocking_result_df.groupby(\"block_key\").size()\n",
    "#filter block sizes greater less than 50\n",
    "block_sizes = block_sizes[(block_sizes < 50) & (block_sizes > 1)]\n",
    "plt.figure(figsize=(10, 6))\n",
    "plt.hist(block_sizes, bins=50, color='blue', alpha=0.7)\n",
    "# plt.title('Distribution of Block Sizes')\n",
    "# plt.xlabel('Block Size')\n",
    "# plt.ylabel('Frequency')\n",
    "# plt.yscale('log')\n",
    "# plt.grid(axis='y', alpha=0.75)\n",
    "plt.show()\n",
    "\n",
    "print(\"Block sizes statistics:\")\n",
    "print(block_sizes.describe())"
   ]
  },
  {
   "cell_type": "code",
   "execution_count": null,
   "id": "04721e36",
   "metadata": {},
   "outputs": [
    {
     "data": {
      "text/plain": [
       "(10000, 4)"
      ]
     },
     "metadata": {},
     "output_type": "display_data"
    }
   ],
   "source": [
    "sample_to_cluster_df = blocking_result_df.head(10000)\n",
    "sample_to_cluster_df.shape"
   ]
  },
  {
   "cell_type": "code",
   "execution_count": null,
   "id": "d0ea2603",
   "metadata": {},
   "outputs": [],
   "source": [
    "cluster_data = (((row[\"idx\"], row[\"dict\"]), (row[\"idx_r\"], row[\"dict_r\"]))\n",
    "                for idx, row in sample_to_cluster_df.iterrows())\n",
    "\n",
    "clustered_dupes = deduper.cluster(\n",
    "    deduper.score(cluster_data),\n",
    "    threshold=0.5)"
   ]
  },
  {
   "cell_type": "code",
   "execution_count": null,
   "id": "a0aa40e0",
   "metadata": {},
   "outputs": [
    {
     "data": {
      "application/vnd.microsoft.datawrangler.viewer.v0+json": {
       "columns": [
        {
         "name": "id",
         "rawType": "int64",
         "type": "integer"
        },
        {
         "name": "canon_id",
         "rawType": "int64",
         "type": "integer"
        },
        {
         "name": "prob",
         "rawType": "float64",
         "type": "float"
        }
       ],
       "ref": "b4b52139-9a41-4fdd-bc17-4be52f73b244",
       "rows": [
        [
         "229720",
         "3",
         "0.5217013948505553"
        ],
        [
         "131305",
         "7",
         "0.5409282523996417"
        ],
        [
         "12",
         "11",
         "0.5696893442313958"
        ],
        [
         "227945",
         "11",
         "0.5602651863096266"
        ],
        [
         "433219",
         "19",
         "0.6332935074919347"
        ],
        [
         "285528",
         "22",
         "0.5300151705741882"
        ],
        [
         "524577",
         "23",
         "0.6332935074919347"
        ],
        [
         "30",
         "29",
         "0.6149911245526897"
        ],
        [
         "265194",
         "29",
         "0.624030928252888"
        ],
        [
         "325370",
         "31",
         "0.5403575825706559"
        ],
        [
         "122877",
         "32",
         "0.6332935074919347"
        ],
        [
         "35",
         "34",
         "0.6115141887432818"
        ],
        [
         "36",
         "34",
         "0.6115141887432818"
        ],
        [
         "493226",
         "40",
         "0.6332935074919347"
        ],
        [
         "44",
         "43",
         "0.62209892874143"
        ],
        [
         "45",
         "43",
         "0.62209892874143"
        ],
        [
         "77670",
         "46",
         "0.6332935074919347"
        ],
        [
         "48",
         "47",
         "0.5347304940223694"
        ],
        [
         "50",
         "49",
         "0.5488358736038208"
        ],
        [
         "262494",
         "55",
         "0.5337382554825217"
        ],
        [
         "291707",
         "56",
         "0.5708140092095495"
        ],
        [
         "412123",
         "60",
         "0.5140662789344788"
        ],
        [
         "352856",
         "61",
         "0.530015171808248"
        ],
        [
         "346279",
         "64",
         "0.587909879727481"
        ],
        [
         "230084",
         "68",
         "0.6332935074919347"
        ],
        [
         "38943",
         "71",
         "0.5511797666549683"
        ],
        [
         "457663",
         "72",
         "0.6332935074919347"
        ],
        [
         "80",
         "79",
         "0.6332935074919347"
        ],
        [
         "178882",
         "102",
         "0.6332935094833374"
        ],
        [
         "66774",
         "104",
         "0.6332935074919347"
        ],
        [
         "612894",
         "107",
         "0.536443585548265"
        ],
        [
         "33673",
         "109",
         "0.5273603804810657"
        ],
        [
         "296265",
         "111",
         "0.5072203822151163"
        ],
        [
         "269529",
         "116",
         "0.5383868239734582"
        ],
        [
         "163862",
         "120",
         "0.6332935074919347"
        ],
        [
         "596081",
         "127",
         "0.5973863673531314"
        ],
        [
         "611856",
         "134",
         "0.6332935094833374"
        ],
        [
         "307405",
         "138",
         "0.5559489130973816"
        ],
        [
         "141",
         "140",
         "0.5935084254257044"
        ],
        [
         "356737",
         "145",
         "0.5935084254257044"
        ],
        [
         "171918",
         "148",
         "0.5140662789344788"
        ],
        [
         "150",
         "149",
         "0.6242899861117568"
        ],
        [
         "151",
         "149",
         "0.6242899861117568"
        ],
        [
         "441079",
         "154",
         "0.5908926797917039"
        ],
        [
         "156",
         "155",
         "0.5528721584338909"
        ],
        [
         "563134",
         "155",
         "0.4848563678355645"
        ],
        [
         "276456",
         "157",
         "0.5151802843194885"
        ],
        [
         "391214",
         "164",
         "0.5396534204483032"
        ],
        [
         "53607",
         "168",
         "0.6332935094833374"
        ],
        [
         "171",
         "169",
         "0.5096040614518638"
        ]
       ],
       "shape": {
        "columns": 2,
        "rows": 152
       }
      },
      "text/html": [
       "<div>\n",
       "<style scoped>\n",
       "    .dataframe tbody tr th:only-of-type {\n",
       "        vertical-align: middle;\n",
       "    }\n",
       "\n",
       "    .dataframe tbody tr th {\n",
       "        vertical-align: top;\n",
       "    }\n",
       "\n",
       "    .dataframe thead th {\n",
       "        text-align: right;\n",
       "    }\n",
       "</style>\n",
       "<table border=\"1\" class=\"dataframe\">\n",
       "  <thead>\n",
       "    <tr style=\"text-align: right;\">\n",
       "      <th></th>\n",
       "      <th>canon_id</th>\n",
       "      <th>prob</th>\n",
       "    </tr>\n",
       "    <tr>\n",
       "      <th>id</th>\n",
       "      <th></th>\n",
       "      <th></th>\n",
       "    </tr>\n",
       "  </thead>\n",
       "  <tbody>\n",
       "    <tr>\n",
       "      <th>229720</th>\n",
       "      <td>3</td>\n",
       "      <td>0.521701</td>\n",
       "    </tr>\n",
       "    <tr>\n",
       "      <th>131305</th>\n",
       "      <td>7</td>\n",
       "      <td>0.540928</td>\n",
       "    </tr>\n",
       "    <tr>\n",
       "      <th>12</th>\n",
       "      <td>11</td>\n",
       "      <td>0.569689</td>\n",
       "    </tr>\n",
       "    <tr>\n",
       "      <th>227945</th>\n",
       "      <td>11</td>\n",
       "      <td>0.560265</td>\n",
       "    </tr>\n",
       "    <tr>\n",
       "      <th>433219</th>\n",
       "      <td>19</td>\n",
       "      <td>0.633294</td>\n",
       "    </tr>\n",
       "    <tr>\n",
       "      <th>...</th>\n",
       "      <td>...</td>\n",
       "      <td>...</td>\n",
       "    </tr>\n",
       "    <tr>\n",
       "      <th>346276</th>\n",
       "      <td>547</td>\n",
       "      <td>0.572971</td>\n",
       "    </tr>\n",
       "    <tr>\n",
       "      <th>271561</th>\n",
       "      <td>553</td>\n",
       "      <td>0.537086</td>\n",
       "    </tr>\n",
       "    <tr>\n",
       "      <th>38815</th>\n",
       "      <td>554</td>\n",
       "      <td>0.633294</td>\n",
       "    </tr>\n",
       "    <tr>\n",
       "      <th>352020</th>\n",
       "      <td>556</td>\n",
       "      <td>0.551485</td>\n",
       "    </tr>\n",
       "    <tr>\n",
       "      <th>509770</th>\n",
       "      <td>561</td>\n",
       "      <td>0.530015</td>\n",
       "    </tr>\n",
       "  </tbody>\n",
       "</table>\n",
       "<p>152 rows × 2 columns</p>\n",
       "</div>"
      ],
      "text/plain": [
       "        canon_id      prob\n",
       "id                        \n",
       "229720         3  0.521701\n",
       "131305         7  0.540928\n",
       "12            11  0.569689\n",
       "227945        11  0.560265\n",
       "433219        19  0.633294\n",
       "...          ...       ...\n",
       "346276       547  0.572971\n",
       "271561       553  0.537086\n",
       "38815        554  0.633294\n",
       "352020       556  0.551485\n",
       "509770       561  0.530015\n",
       "\n",
       "[152 rows x 2 columns]"
      ]
     },
     "metadata": {},
     "output_type": "display_data"
    }
   ],
   "source": [
    "\n",
    "def cluster_ids(clustered_dupes):\n",
    "    for cluster, scores in clustered_dupes:\n",
    "        cluster_id = cluster[0]\n",
    "        for entry_id, score in zip(cluster, scores):\n",
    "            if entry_id == cluster_id:\n",
    "                continue\n",
    "            yield entry_id, cluster_id, score\n",
    "\n",
    "clustered_dupes_df = pd.DataFrame(cluster_ids(clustered_dupes), columns=[\"id\", \"canon_id\", \"prob\"]).set_index(\"id\")\n",
    "clustered_dupes_df"
   ]
  },
  {
   "cell_type": "code",
   "execution_count": null,
   "id": "11c65b91",
   "metadata": {},
   "outputs": [],
   "source": [
    "clustered_dupes_df.to_csv(\"../data/dn_labels_clustered_dupes.csv\", index=True)"
   ]
  },
  {
   "cell_type": "code",
   "execution_count": null,
   "id": "1402ed1d",
   "metadata": {},
   "outputs": [
    {
     "data": {
      "application/vnd.microsoft.datawrangler.viewer.v0+json": {
       "columns": [
        {
         "name": "id",
         "rawType": "int64",
         "type": "integer"
        },
        {
         "name": "canon_id",
         "rawType": "int64",
         "type": "integer"
        },
        {
         "name": "prob",
         "rawType": "float64",
         "type": "float"
        }
       ],
       "ref": "f7ecc6a7-0ced-4e18-bf37-2d5ce453b82d",
       "rows": [
        [
         "646513",
         "646511",
         "0.5083112716674805"
        ],
        [
         "645715",
         "645714",
         "0.3126765191555023"
        ],
        [
         "645585",
         "645584",
         "0.5355322957038879"
        ],
        [
         "645336",
         "645335",
         "0.5462884306907654"
        ],
        [
         "644909",
         "644908",
         "0.4165883362293243"
        ],
        [
         "644883",
         "644882",
         "0.5153906345367432"
        ],
        [
         "644777",
         "644774",
         "0.5248624682426453"
        ],
        [
         "644626",
         "644621",
         "0.520275832468654"
        ],
        [
         "644450",
         "644449",
         "0.5499172889374988"
        ],
        [
         "644438",
         "644437",
         "0.5431740880012512"
        ],
        [
         "644301",
         "644300",
         "0.5499172806739807"
        ],
        [
         "644186",
         "644182",
         "0.3599606841957703"
        ],
        [
         "643482",
         "643481",
         "0.5499172806739807"
        ],
        [
         "643379",
         "643378",
         "0.3883419632911682"
        ],
        [
         "643377",
         "643375",
         "0.2471051961183548"
        ],
        [
         "645713",
         "643297",
         "0.2080626487731933"
        ],
        [
         "643244",
         "643243",
         "0.5257040202954014"
        ],
        [
         "643241",
         "643240",
         "0.2518823323493613"
        ],
        [
         "642986",
         "642985",
         "0.5451303722282663"
        ],
        [
         "642743",
         "642742",
         "0.5376677513122559"
        ],
        [
         "642605",
         "642604",
         "0.5455136299133301"
        ],
        [
         "642483",
         "642482",
         "0.5499172806739807"
        ],
        [
         "642478",
         "642476",
         "0.5461214780807495"
        ],
        [
         "642374",
         "642373",
         "0.536685585975647"
        ],
        [
         "642130",
         "642127",
         "0.526957094669342"
        ],
        [
         "641860",
         "641859",
         "0.542886741366509"
        ],
        [
         "641224",
         "641222",
         "0.5388450004231138"
        ],
        [
         "640754",
         "640751",
         "0.5288441777229309"
        ],
        [
         "640741",
         "640738",
         "0.4975016117095947"
        ],
        [
         "643239",
         "640595",
         "0.5152829823975285"
        ],
        [
         "640134",
         "640133",
         "0.5069876313209534"
        ],
        [
         "639847",
         "639846",
         "0.5385141372680664"
        ],
        [
         "645769",
         "639836",
         "0.2498706690718301"
        ],
        [
         "640973",
         "639695",
         "0.2799837589263916"
        ],
        [
         "639652",
         "639651",
         "0.3091090986074361"
        ],
        [
         "639646",
         "639638",
         "0.4914805591106415"
        ],
        [
         "642533",
         "639505",
         "0.4780895709991455"
        ],
        [
         "639333",
         "639332",
         "0.5499172806739807"
        ],
        [
         "639207",
         "639206",
         "0.5499172806739807"
        ],
        [
         "639186",
         "639183",
         "0.4942035973072052"
        ],
        [
         "639019",
         "639016",
         "0.5167115330696106"
        ],
        [
         "640884",
         "638289",
         "0.3367843329906463"
        ],
        [
         "638023",
         "638021",
         "0.5446740388870239"
        ],
        [
         "637560",
         "637559",
         "0.5385141372680664"
        ],
        [
         "637444",
         "637443",
         "0.5342522859573364"
        ],
        [
         "637351",
         "637350",
         "0.5311701893806458"
        ],
        [
         "637095",
         "637094",
         "0.5499172806739807"
        ],
        [
         "636855",
         "636854",
         "0.5499172806739807"
        ],
        [
         "643061",
         "636840",
         "0.3330569864865066"
        ],
        [
         "636466",
         "636465",
         "0.5499172806739807"
        ]
       ],
       "shape": {
        "columns": 2,
        "rows": 152351
       }
      },
      "text/html": [
       "<div>\n",
       "<style scoped>\n",
       "    .dataframe tbody tr th:only-of-type {\n",
       "        vertical-align: middle;\n",
       "    }\n",
       "\n",
       "    .dataframe tbody tr th {\n",
       "        vertical-align: top;\n",
       "    }\n",
       "\n",
       "    .dataframe thead th {\n",
       "        text-align: right;\n",
       "    }\n",
       "</style>\n",
       "<table border=\"1\" class=\"dataframe\">\n",
       "  <thead>\n",
       "    <tr style=\"text-align: right;\">\n",
       "      <th></th>\n",
       "      <th>canon_id</th>\n",
       "      <th>prob</th>\n",
       "    </tr>\n",
       "    <tr>\n",
       "      <th>id</th>\n",
       "      <th></th>\n",
       "      <th></th>\n",
       "    </tr>\n",
       "  </thead>\n",
       "  <tbody>\n",
       "    <tr>\n",
       "      <th>646513</th>\n",
       "      <td>646511</td>\n",
       "      <td>0.508311</td>\n",
       "    </tr>\n",
       "    <tr>\n",
       "      <th>645715</th>\n",
       "      <td>645714</td>\n",
       "      <td>0.312677</td>\n",
       "    </tr>\n",
       "    <tr>\n",
       "      <th>645585</th>\n",
       "      <td>645584</td>\n",
       "      <td>0.535532</td>\n",
       "    </tr>\n",
       "    <tr>\n",
       "      <th>645336</th>\n",
       "      <td>645335</td>\n",
       "      <td>0.546288</td>\n",
       "    </tr>\n",
       "    <tr>\n",
       "      <th>644909</th>\n",
       "      <td>644908</td>\n",
       "      <td>0.416588</td>\n",
       "    </tr>\n",
       "    <tr>\n",
       "      <th>...</th>\n",
       "      <td>...</td>\n",
       "      <td>...</td>\n",
       "    </tr>\n",
       "    <tr>\n",
       "      <th>78538</th>\n",
       "      <td>0</td>\n",
       "      <td>0.002809</td>\n",
       "    </tr>\n",
       "    <tr>\n",
       "      <th>77152</th>\n",
       "      <td>0</td>\n",
       "      <td>0.003086</td>\n",
       "    </tr>\n",
       "    <tr>\n",
       "      <th>76679</th>\n",
       "      <td>0</td>\n",
       "      <td>0.001792</td>\n",
       "    </tr>\n",
       "    <tr>\n",
       "      <th>76678</th>\n",
       "      <td>0</td>\n",
       "      <td>0.008523</td>\n",
       "    </tr>\n",
       "    <tr>\n",
       "      <th>47949</th>\n",
       "      <td>0</td>\n",
       "      <td>0.002848</td>\n",
       "    </tr>\n",
       "  </tbody>\n",
       "</table>\n",
       "<p>152351 rows × 2 columns</p>\n",
       "</div>"
      ],
      "text/plain": [
       "        canon_id      prob\n",
       "id                        \n",
       "646513    646511  0.508311\n",
       "645715    645714  0.312677\n",
       "645585    645584  0.535532\n",
       "645336    645335  0.546288\n",
       "644909    644908  0.416588\n",
       "...          ...       ...\n",
       "78538          0  0.002809\n",
       "77152          0  0.003086\n",
       "76679          0  0.001792\n",
       "76678          0  0.008523\n",
       "47949          0  0.002848\n",
       "\n",
       "[152351 rows x 2 columns]"
      ]
     },
     "metadata": {},
     "output_type": "display_data"
    }
   ],
   "source": [
    "import pandas as pd\n",
    "\n",
    "clustered_dupes_df = pd.read_csv(\"../data/dn_labels_clustered_dupes.csv\", index_col=\"id\")\n",
    "clustered_dupes_df.sort_values(by=\"canon_id\", ascending=False)"
   ]
  },
  {
   "cell_type": "code",
   "execution_count": null,
   "id": "14b17e77",
   "metadata": {},
   "outputs": [],
   "source": [
    "import pandas as pd\n",
    "from wc_simd.dedupe_service import dedup_data_file\n",
    "\n",
    "dedup_data = pd.read_csv(\"../\" + dedup_data_file, index_col=0)\n",
    "dedup_data_indexed = dedup_data[[\"idx\", \"label\", \"type\"]].set_index(\"idx\")"
   ]
  },
  {
   "cell_type": "code",
   "execution_count": null,
   "id": "fd977735",
   "metadata": {},
   "outputs": [
    {
     "data": {
      "application/vnd.microsoft.datawrangler.viewer.v0+json": {
       "columns": [
        {
         "name": "canon_id",
         "rawType": "int64",
         "type": "integer"
        },
        {
         "name": "id",
         "rawType": "int64",
         "type": "integer"
        },
        {
         "name": "canon_id",
         "rawType": "int64",
         "type": "integer"
        },
        {
         "name": "prob",
         "rawType": "float64",
         "type": "float"
        },
        {
         "name": "label",
         "rawType": "object",
         "type": "string"
        },
        {
         "name": "type",
         "rawType": "object",
         "type": "string"
        },
        {
         "name": "label_canon",
         "rawType": "object",
         "type": "string"
        },
        {
         "name": "type_canon",
         "rawType": "object",
         "type": "string"
        }
       ],
       "ref": "7b786a8f-143a-4f48-befe-bd3922213893",
       "rows": [
        [
         "218898",
         "218899",
         "218898",
         "0.5499172889374988",
         "Ashworth, Bryan.",
         "Person",
         "Ashworth, Bryan.",
         "Person"
        ],
        [
         "264320",
         "388020",
         "264320",
         "0.5277604450262161",
         "Orientalism in art - History",
         "Concept",
         "Orientalism in art",
         "Concept"
        ],
        [
         "92181",
         "92182",
         "92181",
         "0.5312411785125732",
         "Punishment - Religious aspects - Christianity",
         "Concept",
         "Punishment - Religious aspects",
         "Concept"
        ],
        [
         "338357",
         "338358",
         "338357",
         "0.5499172806739807",
         "Pettigrew, Thomas Joseph, 1791-1865.",
         "Person",
         "Pettigrew, Thomas Joseph, 1791-1865.",
         "Person"
        ],
        [
         "527276",
         "624262",
         "527276",
         "0.5319978003125656",
         "Newman, John",
         "Person",
         "Newman, John B.",
         "Person"
        ],
        [
         "639846",
         "639847",
         "639846",
         "0.5385141372680664",
         "Rivers, Isabel.",
         "Person",
         "Rivers, Isabel",
         "Person"
        ],
        [
         "518760",
         "518761",
         "518760",
         "0.5436835866431561",
         "Scriven, Edward, 1775-1841.",
         "Person",
         "Scriven, Edward, 1775-1841",
         "Person"
        ],
        [
         "79172",
         "443059",
         "79172",
         "0.5399049440151251",
         "Adaptation, Physiological",
         "Concept",
         "Adaptation, Physiological - physiology",
         "Concept"
        ],
        [
         "104248",
         "104249",
         "104248",
         "0.5475758843007256",
         "Lichfield, Sutton Coldfield and Tamworth Hospital Management Committee.",
         "Organisation",
         "Lichfield, Sutton Coldfield and Tamworth Hospital Management Committee",
         "Organisation"
        ],
        [
         "625121",
         "625123",
         "625121",
         "0.5200697779655457",
         "Pathogenic fungi - Nomenclature",
         "Concept",
         "Pathogenic fungi",
         "Concept"
        ],
        [
         "76140",
         "258382",
         "76140",
         "0.5434387863459291",
         "Price, Richard, 1723-1791.",
         "Person",
         "Price, Richard, 1723-1791",
         "Person"
        ],
        [
         "139552",
         "139553",
         "139552",
         "0.5222323600017331",
         "Hay, William, 1695-1755. Deformity : an essay.",
         "Person",
         "Hay, William, 1695-1755.",
         "Person"
        ],
        [
         "466966",
         "593636",
         "466966",
         "0.5499172806739807",
         "Absenteeism",
         "Concept",
         "Absenteeism",
         "Concept"
        ],
        [
         "178807",
         "441756",
         "178807",
         "0.530212993109243",
         "Leicestershire and Rutland Lunatic Asylum. Committee of Visitors.",
         "Organisation",
         "Leicestershire and Rutland Lunatic Asylum",
         "Organisation"
        ],
        [
         "171767",
         "171768",
         "171767",
         "0.5499172889374988",
         "Stapleton, Thomas, MRCP.",
         "Person",
         "Stapleton, Thomas, MRCP.",
         "Person"
        ],
        [
         "235315",
         "514054",
         "235315",
         "0.5275059970600509",
         "Technische Universität München. Fakultät für Medizin",
         "Organisation",
         "Technische Universität München.",
         "Organisation"
        ],
        [
         "56346",
         "523598",
         "56346",
         "0.5499172889374988",
         "Engelmann, G. (Godefroy), 1788-1839",
         "Person",
         "Engelmann, G. (Godefroy), 1788-1839",
         "Person"
        ],
        [
         "253075",
         "609265",
         "253075",
         "0.5499172806739807",
         "Servos, John W. (John William), 1951-",
         "Person",
         "Servos, John W. (John William), 1951-",
         "Person"
        ],
        [
         "106839",
         "452005",
         "106839",
         "0.5499172806739807",
         "Ackerknecht, Erwin H. (Erwin Heinz), 1906-1988.",
         "Person",
         "Ackerknecht, Erwin H. (Erwin Heinz), 1906-1988.",
         "Person"
        ],
        [
         "440633",
         "454318",
         "440633",
         "0.5236001014709473",
         "Gay erotic photography",
         "Concept",
         "Gay erotic photography - Pictorial works",
         "Concept"
        ],
        [
         "181468",
         "431111",
         "181468",
         "0.5499172806739807",
         "Horror films - History and criticism",
         "Concept",
         "Horror films - History and criticism",
         "Concept"
        ],
        [
         "477151",
         "477152",
         "477151",
         "0.5499172806739807",
         "Lancashire (England). County Council",
         "Organisation",
         "Lancashire (England). County Council",
         "Organisation"
        ],
        [
         "35115",
         "157046",
         "35115",
         "0.5338115747115499",
         "Beecham Proprietaries",
         "Organisation",
         "Beecham Proprietaries (Firm)",
         "Organisation"
        ],
        [
         "75900",
         "351703",
         "75900",
         "0.520069780777783",
         "Poultry Diseases - drug therapy",
         "Concept",
         "Poultry Diseases",
         "Concept"
        ],
        [
         "434185",
         "634873",
         "434185",
         "0.5499172889374988",
         "Poultry - Diseases",
         "Concept",
         "Poultry - Diseases",
         "Concept"
        ],
        [
         "23231",
         "443668",
         "23231",
         "0.5251666311110295",
         "Frontier and pioneer life",
         "Concept",
         "Frontier and pioneer life - Africa, Southern",
         "Concept"
        ],
        [
         "132145",
         "369360",
         "132145",
         "0.5368092656135559",
         "Armour Pharmaceutical Company Limited",
         "Organisation",
         "Armour Pharmaceutical Company",
         "Organisation"
        ],
        [
         "15423",
         "643283",
         "15423",
         "0.5287464242155113",
         "Macquarie University. School of Behavioural Sciences. Centre for Applied Social Research.",
         "Organisation",
         "Macquarie University. School of Behavioural Sciences.",
         "Organisation"
        ],
        [
         "36500",
         "400805",
         "36500",
         "0.5414423942565918",
         "Green, Monica Helen",
         "Person",
         "Green, Monica Helen.",
         "Person"
        ],
        [
         "187113",
         "187115",
         "187113",
         "0.5458400804834184",
         "Bayliss, William Maddock, Sir, 1860-1924.",
         "Person",
         "Bayliss, William Maddock, Sir, 1860-1924",
         "Person"
        ],
        [
         "642482",
         "642483",
         "642482",
         "0.5499172806739807",
         "Gloor, Reto, 1962-",
         "Person",
         "Gloor, Reto, 1962-",
         "Person"
        ],
        [
         "24565",
         "136585",
         "24565",
         "0.5211238265037537",
         "St. Thomas's Hospital",
         "Organisation",
         "St. Thomas's Hospital (Sandwich, England)",
         "Organisation"
        ],
        [
         "208154",
         "240447",
         "208154",
         "0.5499172806739807",
         "Gemma, Cornelius, 1535-1579.",
         "Person",
         "Gemma, Cornelius, 1535-1579.",
         "Person"
        ],
        [
         "642985",
         "642986",
         "642985",
         "0.5451303722282663",
         "Symonds, John Addington, 1840-1893.",
         "Person",
         "Symonds, John Addington, 1840-1893",
         "Person"
        ],
        [
         "212847",
         "328786",
         "212847",
         "0.5499172806739807",
         "Picnics",
         "Concept",
         "Picnics",
         "Concept"
        ],
        [
         "392051",
         "392052",
         "392051",
         "0.5499172806739807",
         "Keilin, David, 1887-1963.",
         "Person",
         "Keilin, David, 1887-1963.",
         "Person"
        ],
        [
         "316822",
         "562349",
         "316822",
         "0.5406018495559692",
         "Royal Pharmaceutical Society of Great Britain. Council.",
         "Organisation",
         "Royal Pharmaceutical Society of Great Britain.",
         "Organisation"
        ],
        [
         "547104",
         "572447",
         "547104",
         "0.5259752302656124",
         "Smith, George",
         "Person",
         "Smith, George, 1919-",
         "Person"
        ],
        [
         "229462",
         "263229",
         "229462",
         "0.5244252638990373",
         "Bathing Beaches",
         "Concept",
         "Bathing Beaches - history",
         "Concept"
        ],
        [
         "35239",
         "249505",
         "35239",
         "0.5225302623681847",
         "Colitis, Ulcerative - complications",
         "Concept",
         "Colitis, Ulcerative",
         "Concept"
        ],
        [
         "231776",
         "282335",
         "231776",
         "0.5280265222450427",
         "Dante Alighieri, 1265-1321.",
         "Person",
         "Dante Alighieri, 1265-1321. Divina commedia.",
         "Person"
        ],
        [
         "451586",
         "451587",
         "451586",
         "0.5499172889374988",
         "Winnicott, D. W. (Donald Woods), 1896-1971.",
         "Person",
         "Winnicott, D. W. (Donald Woods), 1896-1971.",
         "Person"
        ],
        [
         "222081",
         "493172",
         "222081",
         "0.5499172806739807",
         "Salmon, William, 1644-1713.",
         "Person",
         "Salmon, William, 1644-1713.",
         "Person"
        ],
        [
         "469510",
         "549179",
         "469510",
         "0.5244252681732178",
         "Coptic language - Grammar",
         "Concept",
         "Coptic language",
         "Concept"
        ],
        [
         "105830",
         "489290",
         "105830",
         "0.5322033722639028",
         "Stonewall Riots, New York, N.Y., 1969 - Pictorial works",
         "Concept",
         "Stonewall Riots, New York, N.Y., 1969",
         "Concept"
        ],
        [
         "634980",
         "634981",
         "634980",
         "0.5446740388870239",
         "East Kent No. 3 United District.",
         "Place",
         "East Kent No. 3 United District",
         "Place"
        ],
        [
         "201433",
         "484472",
         "201433",
         "0.5499172806739807",
         "Agaricus",
         "Concept",
         "Agaricus",
         "Concept"
        ],
        [
         "281480",
         "281481",
         "281480",
         "0.5473176224084724",
         "United Kingdom Xenotransplantation Interim Regulatory Authority.",
         "Organisation",
         "United Kingdom Xenotransplantation Interim Regulatory Authority",
         "Organisation"
        ],
        [
         "95053",
         "95054",
         "95053",
         "0.5455136299133301",
         "Potain, Pierre Carl Édouard 1825-1901.",
         "Person",
         "Potain, Pierre Carl Édouard 1825-1901",
         "Person"
        ],
        [
         "528079",
         "537967",
         "528079",
         "0.5269405245780945",
         "Sign language - History - 19th century",
         "Concept",
         "Sign language - History",
         "Concept"
        ]
       ],
       "shape": {
        "columns": 7,
        "rows": 3132
       }
      },
      "text/html": [
       "<div>\n",
       "<style scoped>\n",
       "    .dataframe tbody tr th:only-of-type {\n",
       "        vertical-align: middle;\n",
       "    }\n",
       "\n",
       "    .dataframe tbody tr th {\n",
       "        vertical-align: top;\n",
       "    }\n",
       "\n",
       "    .dataframe thead th {\n",
       "        text-align: right;\n",
       "    }\n",
       "</style>\n",
       "<table border=\"1\" class=\"dataframe\">\n",
       "  <thead>\n",
       "    <tr style=\"text-align: right;\">\n",
       "      <th></th>\n",
       "      <th>id</th>\n",
       "      <th>canon_id</th>\n",
       "      <th>prob</th>\n",
       "      <th>label</th>\n",
       "      <th>type</th>\n",
       "      <th>label_canon</th>\n",
       "      <th>type_canon</th>\n",
       "    </tr>\n",
       "    <tr>\n",
       "      <th>canon_id</th>\n",
       "      <th></th>\n",
       "      <th></th>\n",
       "      <th></th>\n",
       "      <th></th>\n",
       "      <th></th>\n",
       "      <th></th>\n",
       "      <th></th>\n",
       "    </tr>\n",
       "  </thead>\n",
       "  <tbody>\n",
       "    <tr>\n",
       "      <th>218898</th>\n",
       "      <td>218899</td>\n",
       "      <td>218898</td>\n",
       "      <td>0.549917</td>\n",
       "      <td>Ashworth, Bryan.</td>\n",
       "      <td>Person</td>\n",
       "      <td>Ashworth, Bryan.</td>\n",
       "      <td>Person</td>\n",
       "    </tr>\n",
       "    <tr>\n",
       "      <th>264320</th>\n",
       "      <td>388020</td>\n",
       "      <td>264320</td>\n",
       "      <td>0.527760</td>\n",
       "      <td>Orientalism in art - History</td>\n",
       "      <td>Concept</td>\n",
       "      <td>Orientalism in art</td>\n",
       "      <td>Concept</td>\n",
       "    </tr>\n",
       "    <tr>\n",
       "      <th>92181</th>\n",
       "      <td>92182</td>\n",
       "      <td>92181</td>\n",
       "      <td>0.531241</td>\n",
       "      <td>Punishment - Religious aspects - Christianity</td>\n",
       "      <td>Concept</td>\n",
       "      <td>Punishment - Religious aspects</td>\n",
       "      <td>Concept</td>\n",
       "    </tr>\n",
       "    <tr>\n",
       "      <th>338357</th>\n",
       "      <td>338358</td>\n",
       "      <td>338357</td>\n",
       "      <td>0.549917</td>\n",
       "      <td>Pettigrew, Thomas Joseph, 1791-1865.</td>\n",
       "      <td>Person</td>\n",
       "      <td>Pettigrew, Thomas Joseph, 1791-1865.</td>\n",
       "      <td>Person</td>\n",
       "    </tr>\n",
       "    <tr>\n",
       "      <th>527276</th>\n",
       "      <td>624262</td>\n",
       "      <td>527276</td>\n",
       "      <td>0.531998</td>\n",
       "      <td>Newman, John</td>\n",
       "      <td>Person</td>\n",
       "      <td>Newman, John B.</td>\n",
       "      <td>Person</td>\n",
       "    </tr>\n",
       "    <tr>\n",
       "      <th>...</th>\n",
       "      <td>...</td>\n",
       "      <td>...</td>\n",
       "      <td>...</td>\n",
       "      <td>...</td>\n",
       "      <td>...</td>\n",
       "      <td>...</td>\n",
       "      <td>...</td>\n",
       "    </tr>\n",
       "    <tr>\n",
       "      <th>299985</th>\n",
       "      <td>299986</td>\n",
       "      <td>299985</td>\n",
       "      <td>0.547542</td>\n",
       "      <td>Henry Frederick, Prince, Duke of Cumberland an...</td>\n",
       "      <td>Person</td>\n",
       "      <td>Henry Frederick, Prince, Duke of Cumberland an...</td>\n",
       "      <td>Person</td>\n",
       "    </tr>\n",
       "    <tr>\n",
       "      <th>80294</th>\n",
       "      <td>450226</td>\n",
       "      <td>80294</td>\n",
       "      <td>0.549917</td>\n",
       "      <td>Ong, Aihwa.</td>\n",
       "      <td>Person</td>\n",
       "      <td>Ong, Aihwa.</td>\n",
       "      <td>Person</td>\n",
       "    </tr>\n",
       "    <tr>\n",
       "      <th>108624</th>\n",
       "      <td>345863</td>\n",
       "      <td>108624</td>\n",
       "      <td>0.545393</td>\n",
       "      <td>Corvesi, Pietro, active 16th century</td>\n",
       "      <td>Person</td>\n",
       "      <td>Corvesi, Pietro, active 16th century.</td>\n",
       "      <td>Person</td>\n",
       "    </tr>\n",
       "    <tr>\n",
       "      <th>11093</th>\n",
       "      <td>249318</td>\n",
       "      <td>11093</td>\n",
       "      <td>0.530440</td>\n",
       "      <td>Skeleton</td>\n",
       "      <td>Concept</td>\n",
       "      <td>Skeletons</td>\n",
       "      <td>Concept</td>\n",
       "    </tr>\n",
       "    <tr>\n",
       "      <th>111287</th>\n",
       "      <td>111288</td>\n",
       "      <td>111287</td>\n",
       "      <td>0.544318</td>\n",
       "      <td>Díaz de Arce, Juan, 1594-1653.</td>\n",
       "      <td>Person</td>\n",
       "      <td>Díaz de Arce, Juan, 1594-1653</td>\n",
       "      <td>Person</td>\n",
       "    </tr>\n",
       "  </tbody>\n",
       "</table>\n",
       "<p>3132 rows × 7 columns</p>\n",
       "</div>"
      ],
      "text/plain": [
       "              id  canon_id      prob  \\\n",
       "canon_id                               \n",
       "218898    218899    218898  0.549917   \n",
       "264320    388020    264320  0.527760   \n",
       "92181      92182     92181  0.531241   \n",
       "338357    338358    338357  0.549917   \n",
       "527276    624262    527276  0.531998   \n",
       "...          ...       ...       ...   \n",
       "299985    299986    299985  0.547542   \n",
       "80294     450226     80294  0.549917   \n",
       "108624    345863    108624  0.545393   \n",
       "11093     249318     11093  0.530440   \n",
       "111287    111288    111287  0.544318   \n",
       "\n",
       "                                                      label     type  \\\n",
       "canon_id                                                               \n",
       "218898                                     Ashworth, Bryan.   Person   \n",
       "264320                         Orientalism in art - History  Concept   \n",
       "92181         Punishment - Religious aspects - Christianity  Concept   \n",
       "338357                 Pettigrew, Thomas Joseph, 1791-1865.   Person   \n",
       "527276                                         Newman, John   Person   \n",
       "...                                                     ...      ...   \n",
       "299985    Henry Frederick, Prince, Duke of Cumberland an...   Person   \n",
       "80294                                           Ong, Aihwa.   Person   \n",
       "108624                 Corvesi, Pietro, active 16th century   Person   \n",
       "11093                                              Skeleton  Concept   \n",
       "111287                       Díaz de Arce, Juan, 1594-1653.   Person   \n",
       "\n",
       "                                                label_canon type_canon  \n",
       "canon_id                                                                \n",
       "218898                                     Ashworth, Bryan.     Person  \n",
       "264320                                   Orientalism in art    Concept  \n",
       "92181                        Punishment - Religious aspects    Concept  \n",
       "338357                 Pettigrew, Thomas Joseph, 1791-1865.     Person  \n",
       "527276                                      Newman, John B.     Person  \n",
       "...                                                     ...        ...  \n",
       "299985    Henry Frederick, Prince, Duke of Cumberland an...     Person  \n",
       "80294                                           Ong, Aihwa.     Person  \n",
       "108624                Corvesi, Pietro, active 16th century.     Person  \n",
       "11093                                             Skeletons    Concept  \n",
       "111287                        Díaz de Arce, Juan, 1594-1653     Person  \n",
       "\n",
       "[3132 rows x 7 columns]"
      ]
     },
     "metadata": {},
     "output_type": "display_data"
    }
   ],
   "source": [
    "dedup_df = (\n",
    "    clustered_dupes_df\n",
    "    .join(dedup_data_indexed)\n",
    "    .reset_index()\n",
    "    .set_index(\"canon_id\", drop=False)\n",
    "    .join(dedup_data_indexed, rsuffix=\"_canon\")\n",
    "    .query(\"prob > 0.52\")\n",
    "    # .sort_values(by=[\"canon_id\"], ascending=True)\n",
    "    \n",
    ")\n",
    "dedup_df"
   ]
  },
  {
   "cell_type": "code",
   "execution_count": null,
   "id": "90654ba7",
   "metadata": {},
   "outputs": [
    {
     "data": {
      "application/vnd.microsoft.datawrangler.viewer.v0+json": {
       "columns": [
        {
         "name": "canon_id",
         "rawType": "int64",
         "type": "integer"
        },
        {
         "name": "id",
         "rawType": "int64",
         "type": "integer"
        },
        {
         "name": "canon_id",
         "rawType": "int64",
         "type": "integer"
        },
        {
         "name": "prob",
         "rawType": "float64",
         "type": "float"
        },
        {
         "name": "label",
         "rawType": "object",
         "type": "string"
        },
        {
         "name": "type",
         "rawType": "object",
         "type": "string"
        },
        {
         "name": "label_canon",
         "rawType": "object",
         "type": "string"
        },
        {
         "name": "type_canon",
         "rawType": "object",
         "type": "string"
        }
       ],
       "ref": "f7920224-5336-40ed-b2c0-ea89931abdb1",
       "rows": [
        [
         "264320",
         "388020",
         "264320",
         "0.5277604450262161",
         "Orientalism in art - History",
         "Concept",
         "Orientalism in art",
         "Concept"
        ],
        [
         "92181",
         "92182",
         "92181",
         "0.5312411785125732",
         "Punishment - Religious aspects - Christianity",
         "Concept",
         "Punishment - Religious aspects",
         "Concept"
        ],
        [
         "527276",
         "624262",
         "527276",
         "0.5319978003125656",
         "Newman, John",
         "Person",
         "Newman, John B.",
         "Person"
        ],
        [
         "639846",
         "639847",
         "639846",
         "0.5385141372680664",
         "Rivers, Isabel.",
         "Person",
         "Rivers, Isabel",
         "Person"
        ],
        [
         "518760",
         "518761",
         "518760",
         "0.5436835866431561",
         "Scriven, Edward, 1775-1841.",
         "Person",
         "Scriven, Edward, 1775-1841",
         "Person"
        ],
        [
         "79172",
         "443059",
         "79172",
         "0.5399049440151251",
         "Adaptation, Physiological",
         "Concept",
         "Adaptation, Physiological - physiology",
         "Concept"
        ],
        [
         "104248",
         "104249",
         "104248",
         "0.5475758843007256",
         "Lichfield, Sutton Coldfield and Tamworth Hospital Management Committee.",
         "Organisation",
         "Lichfield, Sutton Coldfield and Tamworth Hospital Management Committee",
         "Organisation"
        ],
        [
         "625121",
         "625123",
         "625121",
         "0.5200697779655457",
         "Pathogenic fungi - Nomenclature",
         "Concept",
         "Pathogenic fungi",
         "Concept"
        ],
        [
         "76140",
         "258382",
         "76140",
         "0.5434387863459291",
         "Price, Richard, 1723-1791.",
         "Person",
         "Price, Richard, 1723-1791",
         "Person"
        ],
        [
         "139552",
         "139553",
         "139552",
         "0.5222323600017331",
         "Hay, William, 1695-1755. Deformity : an essay.",
         "Person",
         "Hay, William, 1695-1755.",
         "Person"
        ],
        [
         "178807",
         "441756",
         "178807",
         "0.530212993109243",
         "Leicestershire and Rutland Lunatic Asylum. Committee of Visitors.",
         "Organisation",
         "Leicestershire and Rutland Lunatic Asylum",
         "Organisation"
        ],
        [
         "235315",
         "514054",
         "235315",
         "0.5275059970600509",
         "Technische Universität München. Fakultät für Medizin",
         "Organisation",
         "Technische Universität München.",
         "Organisation"
        ],
        [
         "440633",
         "454318",
         "440633",
         "0.5236001014709473",
         "Gay erotic photography",
         "Concept",
         "Gay erotic photography - Pictorial works",
         "Concept"
        ],
        [
         "35115",
         "157046",
         "35115",
         "0.5338115747115499",
         "Beecham Proprietaries",
         "Organisation",
         "Beecham Proprietaries (Firm)",
         "Organisation"
        ],
        [
         "75900",
         "351703",
         "75900",
         "0.520069780777783",
         "Poultry Diseases - drug therapy",
         "Concept",
         "Poultry Diseases",
         "Concept"
        ],
        [
         "23231",
         "443668",
         "23231",
         "0.5251666311110295",
         "Frontier and pioneer life",
         "Concept",
         "Frontier and pioneer life - Africa, Southern",
         "Concept"
        ],
        [
         "132145",
         "369360",
         "132145",
         "0.5368092656135559",
         "Armour Pharmaceutical Company Limited",
         "Organisation",
         "Armour Pharmaceutical Company",
         "Organisation"
        ],
        [
         "15423",
         "643283",
         "15423",
         "0.5287464242155113",
         "Macquarie University. School of Behavioural Sciences. Centre for Applied Social Research.",
         "Organisation",
         "Macquarie University. School of Behavioural Sciences.",
         "Organisation"
        ],
        [
         "36500",
         "400805",
         "36500",
         "0.5414423942565918",
         "Green, Monica Helen",
         "Person",
         "Green, Monica Helen.",
         "Person"
        ],
        [
         "187113",
         "187115",
         "187113",
         "0.5458400804834184",
         "Bayliss, William Maddock, Sir, 1860-1924.",
         "Person",
         "Bayliss, William Maddock, Sir, 1860-1924",
         "Person"
        ],
        [
         "24565",
         "136585",
         "24565",
         "0.5211238265037537",
         "St. Thomas's Hospital",
         "Organisation",
         "St. Thomas's Hospital (Sandwich, England)",
         "Organisation"
        ],
        [
         "642985",
         "642986",
         "642985",
         "0.5451303722282663",
         "Symonds, John Addington, 1840-1893.",
         "Person",
         "Symonds, John Addington, 1840-1893",
         "Person"
        ],
        [
         "316822",
         "562349",
         "316822",
         "0.5406018495559692",
         "Royal Pharmaceutical Society of Great Britain. Council.",
         "Organisation",
         "Royal Pharmaceutical Society of Great Britain.",
         "Organisation"
        ],
        [
         "547104",
         "572447",
         "547104",
         "0.5259752302656124",
         "Smith, George",
         "Person",
         "Smith, George, 1919-",
         "Person"
        ],
        [
         "229462",
         "263229",
         "229462",
         "0.5244252638990373",
         "Bathing Beaches",
         "Concept",
         "Bathing Beaches - history",
         "Concept"
        ],
        [
         "35239",
         "249505",
         "35239",
         "0.5225302623681847",
         "Colitis, Ulcerative - complications",
         "Concept",
         "Colitis, Ulcerative",
         "Concept"
        ],
        [
         "231776",
         "282335",
         "231776",
         "0.5280265222450427",
         "Dante Alighieri, 1265-1321.",
         "Person",
         "Dante Alighieri, 1265-1321. Divina commedia.",
         "Person"
        ],
        [
         "469510",
         "549179",
         "469510",
         "0.5244252681732178",
         "Coptic language - Grammar",
         "Concept",
         "Coptic language",
         "Concept"
        ],
        [
         "105830",
         "489290",
         "105830",
         "0.5322033722639028",
         "Stonewall Riots, New York, N.Y., 1969 - Pictorial works",
         "Concept",
         "Stonewall Riots, New York, N.Y., 1969",
         "Concept"
        ],
        [
         "634980",
         "634981",
         "634980",
         "0.5446740388870239",
         "East Kent No. 3 United District.",
         "Place",
         "East Kent No. 3 United District",
         "Place"
        ],
        [
         "281480",
         "281481",
         "281480",
         "0.5473176224084724",
         "United Kingdom Xenotransplantation Interim Regulatory Authority.",
         "Organisation",
         "United Kingdom Xenotransplantation Interim Regulatory Authority",
         "Organisation"
        ],
        [
         "95053",
         "95054",
         "95053",
         "0.5455136299133301",
         "Potain, Pierre Carl Édouard 1825-1901.",
         "Person",
         "Potain, Pierre Carl Édouard 1825-1901",
         "Person"
        ],
        [
         "528079",
         "537967",
         "528079",
         "0.5269405245780945",
         "Sign language - History - 19th century",
         "Concept",
         "Sign language - History",
         "Concept"
        ],
        [
         "423378",
         "534218",
         "423378",
         "0.5436835885047913",
         "Kremers, Edward, 1865-1941",
         "Person",
         "Kremers, Edward, 1865-1941.",
         "Person"
        ],
        [
         "256593",
         "256594",
         "256593",
         "0.5244252638990373",
         "Milbank Memorial Fund. Conference (1947)",
         "Organisation",
         "Milbank Memorial Fund. Conference (1946)",
         "Organisation"
        ],
        [
         "223741",
         "223743",
         "223741",
         "0.5244252638990373",
         "Women - Crimes against - Germany (East)",
         "Concept",
         "Women - Crimes against",
         "Concept"
        ],
        [
         "70362",
         "70363",
         "70362",
         "0.5451303720474243",
         "Galen Criticism and interpretation.",
         "Person",
         "Galen Criticism and interpretation",
         "Person"
        ],
        [
         "20739",
         "234741",
         "20739",
         "0.5359811809816842",
         "Generative organs, Female - Diseases",
         "Concept",
         "Generative organs, Female - Diseases - Diagnosis",
         "Concept"
        ],
        [
         "234718",
         "504084",
         "234718",
         "0.523808889801016",
         "Faculté de médecine de Paris. Clinique ophthalmologie.",
         "Organisation",
         "Faculté de médecine de Paris.",
         "Organisation"
        ],
        [
         "339058",
         "563900",
         "339058",
         "0.5418563426071183",
         "Brakenridge, William",
         "Person",
         "Brakenridge, William.",
         "Person"
        ],
        [
         "401782",
         "425909",
         "401782",
         "0.520275832468654",
         "Percy, Thomas, 1729-1811",
         "Person",
         "Percy, Thomas",
         "Person"
        ],
        [
         "664",
         "59759",
         "664",
         "0.525355273648912",
         "Royal Medico-psychological Association. Clinical Tutors' Sub-Committee.",
         "Organisation",
         "Royal Medico-psychological Association.",
         "Organisation"
        ],
        [
         "412759",
         "645362",
         "412759",
         "0.5239601656297238",
         "Royal Medico-psychological Association",
         "Organisation",
         "Royal Medico-psychological Association. Meeting (1961 : London, England)",
         "Organisation"
        ],
        [
         "626533",
         "626534",
         "626533",
         "0.5404722094535828",
         "Elion, Gertrude B.",
         "Person",
         "Elion, Gertrude B",
         "Person"
        ],
        [
         "31004",
         "616104",
         "31004",
         "0.5434387863459291",
         "London Missionary Society.",
         "Organisation",
         "London Missionary Society",
         "Organisation"
        ],
        [
         "109521",
         "117098",
         "109521",
         "0.5398987581137156",
         "Gairdner, Andrew.",
         "Person",
         "Gairdner, Andrew",
         "Person"
        ],
        [
         "350646",
         "468991",
         "350646",
         "0.5226299686455724",
         "Juvenile delinquents",
         "Concept",
         "Juvenile delinquents - Rehabilitation",
         "Concept"
        ],
        [
         "58295",
         "301520",
         "58295",
         "0.5210137326749702",
         "Hall, James, -1741.",
         "Person",
         "Hall, James",
         "Person"
        ],
        [
         "334034",
         "570093",
         "334034",
         "0.5234599709510803",
         "Colitis, Ulcerative - drug therapy",
         "Concept",
         "Colitis, Ulcerative",
         "Concept"
        ],
        [
         "530377",
         "539636",
         "530377",
         "0.5288715938327893",
         "Morgan, A. E.",
         "Person",
         "Morgan, A.",
         "Person"
        ]
       ],
       "shape": {
        "columns": 7,
        "rows": 2051
       }
      },
      "text/html": [
       "<div>\n",
       "<style scoped>\n",
       "    .dataframe tbody tr th:only-of-type {\n",
       "        vertical-align: middle;\n",
       "    }\n",
       "\n",
       "    .dataframe tbody tr th {\n",
       "        vertical-align: top;\n",
       "    }\n",
       "\n",
       "    .dataframe thead th {\n",
       "        text-align: right;\n",
       "    }\n",
       "</style>\n",
       "<table border=\"1\" class=\"dataframe\">\n",
       "  <thead>\n",
       "    <tr style=\"text-align: right;\">\n",
       "      <th></th>\n",
       "      <th>id</th>\n",
       "      <th>canon_id</th>\n",
       "      <th>prob</th>\n",
       "      <th>label</th>\n",
       "      <th>type</th>\n",
       "      <th>label_canon</th>\n",
       "      <th>type_canon</th>\n",
       "    </tr>\n",
       "    <tr>\n",
       "      <th>canon_id</th>\n",
       "      <th></th>\n",
       "      <th></th>\n",
       "      <th></th>\n",
       "      <th></th>\n",
       "      <th></th>\n",
       "      <th></th>\n",
       "      <th></th>\n",
       "    </tr>\n",
       "  </thead>\n",
       "  <tbody>\n",
       "    <tr>\n",
       "      <th>264320</th>\n",
       "      <td>388020</td>\n",
       "      <td>264320</td>\n",
       "      <td>0.527760</td>\n",
       "      <td>Orientalism in art - History</td>\n",
       "      <td>Concept</td>\n",
       "      <td>Orientalism in art</td>\n",
       "      <td>Concept</td>\n",
       "    </tr>\n",
       "    <tr>\n",
       "      <th>92181</th>\n",
       "      <td>92182</td>\n",
       "      <td>92181</td>\n",
       "      <td>0.531241</td>\n",
       "      <td>Punishment - Religious aspects - Christianity</td>\n",
       "      <td>Concept</td>\n",
       "      <td>Punishment - Religious aspects</td>\n",
       "      <td>Concept</td>\n",
       "    </tr>\n",
       "    <tr>\n",
       "      <th>527276</th>\n",
       "      <td>624262</td>\n",
       "      <td>527276</td>\n",
       "      <td>0.531998</td>\n",
       "      <td>Newman, John</td>\n",
       "      <td>Person</td>\n",
       "      <td>Newman, John B.</td>\n",
       "      <td>Person</td>\n",
       "    </tr>\n",
       "    <tr>\n",
       "      <th>639846</th>\n",
       "      <td>639847</td>\n",
       "      <td>639846</td>\n",
       "      <td>0.538514</td>\n",
       "      <td>Rivers, Isabel.</td>\n",
       "      <td>Person</td>\n",
       "      <td>Rivers, Isabel</td>\n",
       "      <td>Person</td>\n",
       "    </tr>\n",
       "    <tr>\n",
       "      <th>518760</th>\n",
       "      <td>518761</td>\n",
       "      <td>518760</td>\n",
       "      <td>0.543684</td>\n",
       "      <td>Scriven, Edward, 1775-1841.</td>\n",
       "      <td>Person</td>\n",
       "      <td>Scriven, Edward, 1775-1841</td>\n",
       "      <td>Person</td>\n",
       "    </tr>\n",
       "    <tr>\n",
       "      <th>...</th>\n",
       "      <td>...</td>\n",
       "      <td>...</td>\n",
       "      <td>...</td>\n",
       "      <td>...</td>\n",
       "      <td>...</td>\n",
       "      <td>...</td>\n",
       "      <td>...</td>\n",
       "    </tr>\n",
       "    <tr>\n",
       "      <th>645335</th>\n",
       "      <td>645336</td>\n",
       "      <td>645335</td>\n",
       "      <td>0.546288</td>\n",
       "      <td>Boisseau, F. G. (François Gabriel), 1791-1836.</td>\n",
       "      <td>Person</td>\n",
       "      <td>Boisseau, F. G. (François Gabriel), 1791-1836</td>\n",
       "      <td>Person</td>\n",
       "    </tr>\n",
       "    <tr>\n",
       "      <th>299985</th>\n",
       "      <td>299986</td>\n",
       "      <td>299985</td>\n",
       "      <td>0.547542</td>\n",
       "      <td>Henry Frederick, Prince, Duke of Cumberland an...</td>\n",
       "      <td>Person</td>\n",
       "      <td>Henry Frederick, Prince, Duke of Cumberland an...</td>\n",
       "      <td>Person</td>\n",
       "    </tr>\n",
       "    <tr>\n",
       "      <th>108624</th>\n",
       "      <td>345863</td>\n",
       "      <td>108624</td>\n",
       "      <td>0.545393</td>\n",
       "      <td>Corvesi, Pietro, active 16th century</td>\n",
       "      <td>Person</td>\n",
       "      <td>Corvesi, Pietro, active 16th century.</td>\n",
       "      <td>Person</td>\n",
       "    </tr>\n",
       "    <tr>\n",
       "      <th>11093</th>\n",
       "      <td>249318</td>\n",
       "      <td>11093</td>\n",
       "      <td>0.530440</td>\n",
       "      <td>Skeleton</td>\n",
       "      <td>Concept</td>\n",
       "      <td>Skeletons</td>\n",
       "      <td>Concept</td>\n",
       "    </tr>\n",
       "    <tr>\n",
       "      <th>111287</th>\n",
       "      <td>111288</td>\n",
       "      <td>111287</td>\n",
       "      <td>0.544318</td>\n",
       "      <td>Díaz de Arce, Juan, 1594-1653.</td>\n",
       "      <td>Person</td>\n",
       "      <td>Díaz de Arce, Juan, 1594-1653</td>\n",
       "      <td>Person</td>\n",
       "    </tr>\n",
       "  </tbody>\n",
       "</table>\n",
       "<p>2051 rows × 7 columns</p>\n",
       "</div>"
      ],
      "text/plain": [
       "              id  canon_id      prob  \\\n",
       "canon_id                               \n",
       "264320    388020    264320  0.527760   \n",
       "92181      92182     92181  0.531241   \n",
       "527276    624262    527276  0.531998   \n",
       "639846    639847    639846  0.538514   \n",
       "518760    518761    518760  0.543684   \n",
       "...          ...       ...       ...   \n",
       "645335    645336    645335  0.546288   \n",
       "299985    299986    299985  0.547542   \n",
       "108624    345863    108624  0.545393   \n",
       "11093     249318     11093  0.530440   \n",
       "111287    111288    111287  0.544318   \n",
       "\n",
       "                                                      label     type  \\\n",
       "canon_id                                                               \n",
       "264320                         Orientalism in art - History  Concept   \n",
       "92181         Punishment - Religious aspects - Christianity  Concept   \n",
       "527276                                         Newman, John   Person   \n",
       "639846                                      Rivers, Isabel.   Person   \n",
       "518760                          Scriven, Edward, 1775-1841.   Person   \n",
       "...                                                     ...      ...   \n",
       "645335       Boisseau, F. G. (François Gabriel), 1791-1836.   Person   \n",
       "299985    Henry Frederick, Prince, Duke of Cumberland an...   Person   \n",
       "108624                 Corvesi, Pietro, active 16th century   Person   \n",
       "11093                                              Skeleton  Concept   \n",
       "111287                       Díaz de Arce, Juan, 1594-1653.   Person   \n",
       "\n",
       "                                                label_canon type_canon  \n",
       "canon_id                                                                \n",
       "264320                                   Orientalism in art    Concept  \n",
       "92181                        Punishment - Religious aspects    Concept  \n",
       "527276                                      Newman, John B.     Person  \n",
       "639846                                       Rivers, Isabel     Person  \n",
       "518760                           Scriven, Edward, 1775-1841     Person  \n",
       "...                                                     ...        ...  \n",
       "645335        Boisseau, F. G. (François Gabriel), 1791-1836     Person  \n",
       "299985    Henry Frederick, Prince, Duke of Cumberland an...     Person  \n",
       "108624                Corvesi, Pietro, active 16th century.     Person  \n",
       "11093                                             Skeletons    Concept  \n",
       "111287                        Díaz de Arce, Juan, 1594-1653     Person  \n",
       "\n",
       "[2051 rows x 7 columns]"
      ]
     },
     "metadata": {},
     "output_type": "display_data"
    }
   ],
   "source": [
    "dedup_df[~(dedup_df[\"label\"] == dedup_df[\"label_canon\"])]"
   ]
  },
  {
   "cell_type": "code",
   "execution_count": null,
   "id": "70b7df08",
   "metadata": {},
   "outputs": [
    {
     "name": "stdout",
     "output_type": "stream",
     "text": [
      "Original rows: 3132\n",
      "Filtered rows (similarity < 90): 1095\n",
      "Removed 2037 rows with high similarity\n",
      "\n",
      "Example of filtered out rows (high similarity):\n",
      "                                                      label  \\\n",
      "canon_id                                                      \n",
      "218898                                     Ashworth, Bryan.   \n",
      "338357                 Pettigrew, Thomas Joseph, 1791-1865.   \n",
      "639846                                      Rivers, Isabel.   \n",
      "518760                          Scriven, Edward, 1775-1841.   \n",
      "104248    Lichfield, Sutton Coldfield and Tamworth Hospi...   \n",
      "\n",
      "                                                label_canon  similarity_score  \n",
      "canon_id                                                                       \n",
      "218898                                     Ashworth, Bryan.               100  \n",
      "338357                 Pettigrew, Thomas Joseph, 1791-1865.               100  \n",
      "639846                                       Rivers, Isabel                97  \n",
      "518760                           Scriven, Edward, 1775-1841                98  \n",
      "104248    Lichfield, Sutton Coldfield and Tamworth Hospi...                99  \n"
     ]
    },
    {
     "data": {
      "application/vnd.microsoft.datawrangler.viewer.v0+json": {
       "columns": [
        {
         "name": "canon_id",
         "rawType": "int64",
         "type": "integer"
        },
        {
         "name": "id",
         "rawType": "int64",
         "type": "integer"
        },
        {
         "name": "canon_id",
         "rawType": "int64",
         "type": "integer"
        },
        {
         "name": "prob",
         "rawType": "float64",
         "type": "float"
        },
        {
         "name": "label",
         "rawType": "object",
         "type": "string"
        },
        {
         "name": "type",
         "rawType": "object",
         "type": "string"
        },
        {
         "name": "label_canon",
         "rawType": "object",
         "type": "string"
        },
        {
         "name": "type_canon",
         "rawType": "object",
         "type": "string"
        },
        {
         "name": "similarity_score",
         "rawType": "int64",
         "type": "integer"
        }
       ],
       "ref": "a9b9d808-83fe-40c7-b3ae-13cc80f5d3fe",
       "rows": [
        [
         "264320",
         "388020",
         "264320",
         "0.5277604450262161",
         "Orientalism in art - History",
         "Concept",
         "Orientalism in art",
         "Concept",
         "78"
        ],
        [
         "92181",
         "92182",
         "92181",
         "0.5312411785125732",
         "Punishment - Religious aspects - Christianity",
         "Concept",
         "Punishment - Religious aspects",
         "Concept",
         "80"
        ],
        [
         "527276",
         "624262",
         "527276",
         "0.5319978003125656",
         "Newman, John",
         "Person",
         "Newman, John B.",
         "Person",
         "89"
        ],
        [
         "79172",
         "443059",
         "79172",
         "0.5399049440151251",
         "Adaptation, Physiological",
         "Concept",
         "Adaptation, Physiological - physiology",
         "Concept",
         "79"
        ],
        [
         "625121",
         "625123",
         "625121",
         "0.5200697779655457",
         "Pathogenic fungi - Nomenclature",
         "Concept",
         "Pathogenic fungi",
         "Concept",
         "68"
        ],
        [
         "139552",
         "139553",
         "139552",
         "0.5222323600017331",
         "Hay, William, 1695-1755. Deformity : an essay.",
         "Person",
         "Hay, William, 1695-1755.",
         "Person",
         "69"
        ],
        [
         "178807",
         "441756",
         "178807",
         "0.530212993109243",
         "Leicestershire and Rutland Lunatic Asylum. Committee of Visitors.",
         "Organisation",
         "Leicestershire and Rutland Lunatic Asylum",
         "Organisation",
         "77"
        ],
        [
         "235315",
         "514054",
         "235315",
         "0.5275059970600509",
         "Technische Universität München. Fakultät für Medizin",
         "Organisation",
         "Technische Universität München.",
         "Organisation",
         "75"
        ],
        [
         "440633",
         "454318",
         "440633",
         "0.5236001014709473",
         "Gay erotic photography",
         "Concept",
         "Gay erotic photography - Pictorial works",
         "Concept",
         "71"
        ],
        [
         "35115",
         "157046",
         "35115",
         "0.5338115747115499",
         "Beecham Proprietaries",
         "Organisation",
         "Beecham Proprietaries (Firm)",
         "Organisation",
         "86"
        ],
        [
         "75900",
         "351703",
         "75900",
         "0.520069780777783",
         "Poultry Diseases - drug therapy",
         "Concept",
         "Poultry Diseases",
         "Concept",
         "68"
        ],
        [
         "23231",
         "443668",
         "23231",
         "0.5251666311110295",
         "Frontier and pioneer life",
         "Concept",
         "Frontier and pioneer life - Africa, Southern",
         "Concept",
         "72"
        ],
        [
         "132145",
         "369360",
         "132145",
         "0.5368092656135559",
         "Armour Pharmaceutical Company Limited",
         "Organisation",
         "Armour Pharmaceutical Company",
         "Organisation",
         "88"
        ],
        [
         "15423",
         "643283",
         "15423",
         "0.5287464242155113",
         "Macquarie University. School of Behavioural Sciences. Centre for Applied Social Research.",
         "Organisation",
         "Macquarie University. School of Behavioural Sciences.",
         "Organisation",
         "75"
        ],
        [
         "24565",
         "136585",
         "24565",
         "0.5211238265037537",
         "St. Thomas's Hospital",
         "Organisation",
         "St. Thomas's Hospital (Sandwich, England)",
         "Organisation",
         "68"
        ],
        [
         "547104",
         "572447",
         "547104",
         "0.5259752302656124",
         "Smith, George",
         "Person",
         "Smith, George, 1919-",
         "Person",
         "79"
        ],
        [
         "229462",
         "263229",
         "229462",
         "0.5244252638990373",
         "Bathing Beaches",
         "Concept",
         "Bathing Beaches - history",
         "Concept",
         "75"
        ],
        [
         "35239",
         "249505",
         "35239",
         "0.5225302623681847",
         "Colitis, Ulcerative - complications",
         "Concept",
         "Colitis, Ulcerative",
         "Concept",
         "70"
        ],
        [
         "231776",
         "282335",
         "231776",
         "0.5280265222450427",
         "Dante Alighieri, 1265-1321.",
         "Person",
         "Dante Alighieri, 1265-1321. Divina commedia.",
         "Person",
         "76"
        ],
        [
         "469510",
         "549179",
         "469510",
         "0.5244252681732178",
         "Coptic language - Grammar",
         "Concept",
         "Coptic language",
         "Concept",
         "75"
        ],
        [
         "105830",
         "489290",
         "105830",
         "0.5322033722639028",
         "Stonewall Riots, New York, N.Y., 1969 - Pictorial works",
         "Concept",
         "Stonewall Riots, New York, N.Y., 1969",
         "Concept",
         "80"
        ],
        [
         "528079",
         "537967",
         "528079",
         "0.5269405245780945",
         "Sign language - History - 19th century",
         "Concept",
         "Sign language - History",
         "Concept",
         "75"
        ],
        [
         "223741",
         "223743",
         "223741",
         "0.5244252638990373",
         "Women - Crimes against - Germany (East)",
         "Concept",
         "Women - Crimes against",
         "Concept",
         "72"
        ],
        [
         "20739",
         "234741",
         "20739",
         "0.5359811809816842",
         "Generative organs, Female - Diseases",
         "Concept",
         "Generative organs, Female - Diseases - Diagnosis",
         "Concept",
         "86"
        ],
        [
         "234718",
         "504084",
         "234718",
         "0.523808889801016",
         "Faculté de médecine de Paris. Clinique ophthalmologie.",
         "Organisation",
         "Faculté de médecine de Paris.",
         "Organisation",
         "70"
        ],
        [
         "401782",
         "425909",
         "401782",
         "0.520275832468654",
         "Percy, Thomas, 1729-1811",
         "Person",
         "Percy, Thomas",
         "Person",
         "70"
        ],
        [
         "664",
         "59759",
         "664",
         "0.525355273648912",
         "Royal Medico-psychological Association. Clinical Tutors' Sub-Committee.",
         "Organisation",
         "Royal Medico-psychological Association.",
         "Organisation",
         "71"
        ],
        [
         "412759",
         "645362",
         "412759",
         "0.5239601656297238",
         "Royal Medico-psychological Association",
         "Organisation",
         "Royal Medico-psychological Association. Meeting (1961 : London, England)",
         "Organisation",
         "69"
        ],
        [
         "350646",
         "468991",
         "350646",
         "0.5226299686455724",
         "Juvenile delinquents",
         "Concept",
         "Juvenile delinquents - Rehabilitation",
         "Concept",
         "70"
        ],
        [
         "58295",
         "301520",
         "58295",
         "0.5210137326749702",
         "Hall, James, -1741.",
         "Person",
         "Hall, James",
         "Person",
         "73"
        ],
        [
         "334034",
         "570093",
         "334034",
         "0.5234599709510803",
         "Colitis, Ulcerative - drug therapy",
         "Concept",
         "Colitis, Ulcerative",
         "Concept",
         "72"
        ],
        [
         "530377",
         "539636",
         "530377",
         "0.5288715938327893",
         "Morgan, A. E.",
         "Person",
         "Morgan, A.",
         "Person",
         "87"
        ],
        [
         "192764",
         "350621",
         "192764",
         "0.5355726480484009",
         "Evelyn, John, 1620-1706.",
         "Agent",
         "Evelyn, John, 1620-1706. Silva.",
         "Agent",
         "87"
        ],
        [
         "149510",
         "285760",
         "149510",
         "0.5213239789009094",
         "Grolier Club. Bindery",
         "Organisation",
         "Grolier Club",
         "Organisation",
         "73"
        ],
        [
         "204958",
         "412945",
         "204958",
         "0.5252777934074402",
         "Dance - Social aspects",
         "Concept",
         "Dance - Social aspects - United States",
         "Concept",
         "73"
        ],
        [
         "418424",
         "432412",
         "418424",
         "0.5277604460716248",
         "Nocturnal Enuresis - history",
         "Concept",
         "Nocturnal Enuresis",
         "Concept",
         "78"
        ],
        [
         "263875",
         "629458",
         "263875",
         "0.5312411785955782",
         "Social workers - Great Britain - 20th century",
         "Concept",
         "Social workers - Great Britain",
         "Concept",
         "80"
        ],
        [
         "235383",
         "545131",
         "235383",
         "0.5219886898994446",
         "Dibdin, Charles, 1745-1814.",
         "Person",
         "Dibdin, Charles",
         "Person",
         "71"
        ],
        [
         "112464",
         "504195",
         "112464",
         "0.5262136491917117",
         "Incorporated Society of Medical Officers of Health. Meeting (1908, June : Glasgow, Scotland)",
         "Organisation",
         "Incorporated Society of Medical Officers of Health.",
         "Organisation",
         "71"
        ],
        [
         "18143",
         "221598",
         "18143",
         "0.5258460640619005",
         "Davis, William",
         "Person",
         "Davis, William Harlow.",
         "Person",
         "78"
        ],
        [
         "372729",
         "424680",
         "372729",
         "0.5229634642601013",
         "Child Welfare - ethics",
         "Concept",
         "Child Welfare",
         "Concept",
         "74"
        ],
        [
         "29007",
         "49982",
         "29007",
         "0.5232624938113466",
         "WELLCOME ARCHIVE PHOTOGRAPHS",
         "Concept",
         "WELLCOME ARCHIVE",
         "Concept",
         "73"
        ],
        [
         "641222",
         "641224",
         "641222",
         "0.5388450004231138",
         "Botticelli, Sandro, 1444 or 1445-1510. Springo.",
         "Person",
         "Botticelli, Sandro, 1444 or 1445-1510.",
         "Person",
         "89"
        ],
        [
         "376661",
         "392725",
         "376661",
         "0.5244252681732178",
         "Osteoarthritis, therapy",
         "Concept",
         "Osteoarthritis",
         "Concept",
         "76"
        ],
        [
         "42058",
         "286269",
         "42058",
         "0.5317275572603607",
         "Sexual Behavior, Animal - history",
         "Concept",
         "Sexual Behavior, Animal",
         "Concept",
         "82"
        ],
        [
         "467936",
         "642279",
         "467936",
         "0.5251073241233826",
         "Alpini, Prosper, 1553-1617. De medico praesagio.",
         "Person",
         "Alpini, Prosper, 1553-1617.",
         "Person",
         "72"
        ],
        [
         "252617",
         "377203",
         "252617",
         "0.5230788657929633",
         "HIV Infections - history",
         "Concept",
         "HIV Infections",
         "Concept",
         "74"
        ],
        [
         "344945",
         "344951",
         "344945",
         "0.5224573612213135",
         "Zoologists - bio",
         "Concept",
         "Zoologists",
         "Concept",
         "77"
        ],
        [
         "420200",
         "420203",
         "420200",
         "0.5244168040767788",
         "Labor (Obstetrics) - Complications - Patients",
         "Concept",
         "Labor (Obstetrics) - Complications",
         "Concept",
         "86"
        ],
        [
         "335178",
         "445504",
         "335178",
         "0.5228263677377517",
         "Rural health",
         "Concept",
         "Rural health clinics",
         "Concept",
         "75"
        ]
       ],
       "shape": {
        "columns": 8,
        "rows": 1095
       }
      },
      "text/html": [
       "<div>\n",
       "<style scoped>\n",
       "    .dataframe tbody tr th:only-of-type {\n",
       "        vertical-align: middle;\n",
       "    }\n",
       "\n",
       "    .dataframe tbody tr th {\n",
       "        vertical-align: top;\n",
       "    }\n",
       "\n",
       "    .dataframe thead th {\n",
       "        text-align: right;\n",
       "    }\n",
       "</style>\n",
       "<table border=\"1\" class=\"dataframe\">\n",
       "  <thead>\n",
       "    <tr style=\"text-align: right;\">\n",
       "      <th></th>\n",
       "      <th>id</th>\n",
       "      <th>canon_id</th>\n",
       "      <th>prob</th>\n",
       "      <th>label</th>\n",
       "      <th>type</th>\n",
       "      <th>label_canon</th>\n",
       "      <th>type_canon</th>\n",
       "      <th>similarity_score</th>\n",
       "    </tr>\n",
       "    <tr>\n",
       "      <th>canon_id</th>\n",
       "      <th></th>\n",
       "      <th></th>\n",
       "      <th></th>\n",
       "      <th></th>\n",
       "      <th></th>\n",
       "      <th></th>\n",
       "      <th></th>\n",
       "      <th></th>\n",
       "    </tr>\n",
       "  </thead>\n",
       "  <tbody>\n",
       "    <tr>\n",
       "      <th>264320</th>\n",
       "      <td>388020</td>\n",
       "      <td>264320</td>\n",
       "      <td>0.527760</td>\n",
       "      <td>Orientalism in art - History</td>\n",
       "      <td>Concept</td>\n",
       "      <td>Orientalism in art</td>\n",
       "      <td>Concept</td>\n",
       "      <td>78</td>\n",
       "    </tr>\n",
       "    <tr>\n",
       "      <th>92181</th>\n",
       "      <td>92182</td>\n",
       "      <td>92181</td>\n",
       "      <td>0.531241</td>\n",
       "      <td>Punishment - Religious aspects - Christianity</td>\n",
       "      <td>Concept</td>\n",
       "      <td>Punishment - Religious aspects</td>\n",
       "      <td>Concept</td>\n",
       "      <td>80</td>\n",
       "    </tr>\n",
       "    <tr>\n",
       "      <th>527276</th>\n",
       "      <td>624262</td>\n",
       "      <td>527276</td>\n",
       "      <td>0.531998</td>\n",
       "      <td>Newman, John</td>\n",
       "      <td>Person</td>\n",
       "      <td>Newman, John B.</td>\n",
       "      <td>Person</td>\n",
       "      <td>89</td>\n",
       "    </tr>\n",
       "    <tr>\n",
       "      <th>79172</th>\n",
       "      <td>443059</td>\n",
       "      <td>79172</td>\n",
       "      <td>0.539905</td>\n",
       "      <td>Adaptation, Physiological</td>\n",
       "      <td>Concept</td>\n",
       "      <td>Adaptation, Physiological - physiology</td>\n",
       "      <td>Concept</td>\n",
       "      <td>79</td>\n",
       "    </tr>\n",
       "    <tr>\n",
       "      <th>625121</th>\n",
       "      <td>625123</td>\n",
       "      <td>625121</td>\n",
       "      <td>0.520070</td>\n",
       "      <td>Pathogenic fungi - Nomenclature</td>\n",
       "      <td>Concept</td>\n",
       "      <td>Pathogenic fungi</td>\n",
       "      <td>Concept</td>\n",
       "      <td>68</td>\n",
       "    </tr>\n",
       "    <tr>\n",
       "      <th>...</th>\n",
       "      <td>...</td>\n",
       "      <td>...</td>\n",
       "      <td>...</td>\n",
       "      <td>...</td>\n",
       "      <td>...</td>\n",
       "      <td>...</td>\n",
       "      <td>...</td>\n",
       "      <td>...</td>\n",
       "    </tr>\n",
       "    <tr>\n",
       "      <th>22578</th>\n",
       "      <td>624994</td>\n",
       "      <td>22578</td>\n",
       "      <td>0.524425</td>\n",
       "      <td>Barr, James Smith</td>\n",
       "      <td>Person</td>\n",
       "      <td>Barr, James</td>\n",
       "      <td>Person</td>\n",
       "      <td>79</td>\n",
       "    </tr>\n",
       "    <tr>\n",
       "      <th>506121</th>\n",
       "      <td>506123</td>\n",
       "      <td>506121</td>\n",
       "      <td>0.533860</td>\n",
       "      <td>Najīb al-Dīn al-Samarqandī, Muḥammad ibn ʻAlī,...</td>\n",
       "      <td>Person</td>\n",
       "      <td>Najīb al-Dīn al-Samarqandī, Muḥammad ibn ʻAlī,...</td>\n",
       "      <td>Person</td>\n",
       "      <td>82</td>\n",
       "    </tr>\n",
       "    <tr>\n",
       "      <th>88869</th>\n",
       "      <td>239257</td>\n",
       "      <td>88869</td>\n",
       "      <td>0.530660</td>\n",
       "      <td>Cape of Good Hope (S.A.)</td>\n",
       "      <td>Place</td>\n",
       "      <td>Cape of Good Hope</td>\n",
       "      <td>Place</td>\n",
       "      <td>83</td>\n",
       "    </tr>\n",
       "    <tr>\n",
       "      <th>243293</th>\n",
       "      <td>277505</td>\n",
       "      <td>243293</td>\n",
       "      <td>0.524425</td>\n",
       "      <td>Bunyan, J</td>\n",
       "      <td>Person</td>\n",
       "      <td>Bunyan, John.</td>\n",
       "      <td>Person</td>\n",
       "      <td>82</td>\n",
       "    </tr>\n",
       "    <tr>\n",
       "      <th>494447</th>\n",
       "      <td>582527</td>\n",
       "      <td>494447</td>\n",
       "      <td>0.531052</td>\n",
       "      <td>Mother-Child Relations</td>\n",
       "      <td>Concept</td>\n",
       "      <td>Mother-Child Relations - history</td>\n",
       "      <td>Concept</td>\n",
       "      <td>81</td>\n",
       "    </tr>\n",
       "  </tbody>\n",
       "</table>\n",
       "<p>1095 rows × 8 columns</p>\n",
       "</div>"
      ],
      "text/plain": [
       "              id  canon_id      prob  \\\n",
       "canon_id                               \n",
       "264320    388020    264320  0.527760   \n",
       "92181      92182     92181  0.531241   \n",
       "527276    624262    527276  0.531998   \n",
       "79172     443059     79172  0.539905   \n",
       "625121    625123    625121  0.520070   \n",
       "...          ...       ...       ...   \n",
       "22578     624994     22578  0.524425   \n",
       "506121    506123    506121  0.533860   \n",
       "88869     239257     88869  0.530660   \n",
       "243293    277505    243293  0.524425   \n",
       "494447    582527    494447  0.531052   \n",
       "\n",
       "                                                      label     type  \\\n",
       "canon_id                                                               \n",
       "264320                         Orientalism in art - History  Concept   \n",
       "92181         Punishment - Religious aspects - Christianity  Concept   \n",
       "527276                                         Newman, John   Person   \n",
       "79172                             Adaptation, Physiological  Concept   \n",
       "625121                      Pathogenic fungi - Nomenclature  Concept   \n",
       "...                                                     ...      ...   \n",
       "22578                                     Barr, James Smith   Person   \n",
       "506121    Najīb al-Dīn al-Samarqandī, Muḥammad ibn ʻAlī,...   Person   \n",
       "88869                              Cape of Good Hope (S.A.)    Place   \n",
       "243293                                            Bunyan, J   Person   \n",
       "494447                               Mother-Child Relations  Concept   \n",
       "\n",
       "                                                label_canon type_canon  \\\n",
       "canon_id                                                                 \n",
       "264320                                   Orientalism in art    Concept   \n",
       "92181                        Punishment - Religious aspects    Concept   \n",
       "527276                                      Newman, John B.     Person   \n",
       "79172                Adaptation, Physiological - physiology    Concept   \n",
       "625121                                     Pathogenic fungi    Concept   \n",
       "...                                                     ...        ...   \n",
       "22578                                           Barr, James     Person   \n",
       "506121    Najīb al-Dīn al-Samarqandī, Muḥammad ibn ʻAlī,...     Person   \n",
       "88869                                     Cape of Good Hope      Place   \n",
       "243293                                        Bunyan, John.     Person   \n",
       "494447                     Mother-Child Relations - history    Concept   \n",
       "\n",
       "          similarity_score  \n",
       "canon_id                    \n",
       "264320                  78  \n",
       "92181                   80  \n",
       "527276                  89  \n",
       "79172                   79  \n",
       "625121                  68  \n",
       "...                    ...  \n",
       "22578                   79  \n",
       "506121                  82  \n",
       "88869                   83  \n",
       "243293                  82  \n",
       "494447                  81  \n",
       "\n",
       "[1095 rows x 8 columns]"
      ]
     },
     "metadata": {},
     "output_type": "display_data"
    }
   ],
   "source": [
    "# Install fuzzywuzzy if not available\n",
    "from fuzzywuzzy import fuzz\n",
    "\n",
    "# Add similarity score column\n",
    "dedup_df['similarity_score'] = dedup_df.apply(\n",
    "    lambda row: fuzz.ratio(str(row['label']), str(row['label_canon'])), axis=1\n",
    ")\n",
    "\n",
    "# Filter out rows where labels are very similar (e.g., similarity > 90)\n",
    "similarity_threshold = 90\n",
    "filtered_dedup_df = dedup_df[dedup_df['similarity_score'] < similarity_threshold]\n",
    "\n",
    "print(f\"Original rows: {len(dedup_df)}\")\n",
    "print(f\"Filtered rows (similarity < {similarity_threshold}): {len(filtered_dedup_df)}\")\n",
    "print(f\"Removed {len(dedup_df) - len(filtered_dedup_df)} rows with high similarity\")\n",
    "\n",
    "# Show some examples of what was filtered out\n",
    "high_similarity_df = dedup_df[dedup_df['similarity_score'] >= similarity_threshold]\n",
    "print(f\"\\nExample of filtered out rows (high similarity):\")\n",
    "if len(high_similarity_df) > 0:\n",
    "    print(high_similarity_df[['label', 'label_canon', 'similarity_score']].head())\n",
    "else:\n",
    "    print(\"No rows with high similarity found\")\n",
    "\n",
    "filtered_dedup_df"
   ]
  },
  {
   "cell_type": "code",
   "execution_count": null,
   "id": "b5408e93",
   "metadata": {},
   "outputs": [],
   "source": [
    "filtered_dedup_df.to_csv(\"../data/dn_labels_filtered_dedup_result.csv\", index=True)"
   ]
  },
  {
   "cell_type": "code",
   "execution_count": null,
   "id": "d7266a4b",
   "metadata": {},
   "outputs": [
    {
     "data": {
      "text/plain": [
       "Index(['id', 'canon_id', 'prob', 'label', 'type', 'label_canon', 'type_canon',\n",
       "       'similarity_score'],\n",
       "      dtype='object')"
      ]
     },
     "metadata": {},
     "output_type": "display_data"
    }
   ],
   "source": [
    "filtered_dedup_df.columns"
   ]
  },
  {
   "cell_type": "code",
   "execution_count": null,
   "id": "a800d63e",
   "metadata": {},
   "outputs": [
    {
     "name": "stdout",
     "output_type": "stream",
     "text": [
      "Similarity score statistics:\n",
      "count    3132.000000\n",
      "mean       90.931992\n",
      "std        11.392710\n",
      "min        33.000000\n",
      "25%        80.000000\n",
      "50%        98.000000\n",
      "75%       100.000000\n",
      "max       100.000000\n",
      "Name: similarity_score, dtype: float64\n",
      "\n",
      "--- Examples by similarity range ---\n",
      "\n",
      "Moderately similar labels (30-70): 92 rows\n",
      "                                                   label  \\\n",
      "canon_id                                                   \n",
      "625121                   Pathogenic fungi - Nomenclature   \n",
      "139552    Hay, William, 1695-1755. Deformity : an essay.   \n",
      "75900                    Poultry Diseases - drug therapy   \n",
      "\n",
      "                       label_canon  similarity_score  \n",
      "canon_id                                              \n",
      "625121            Pathogenic fungi                68  \n",
      "139552    Hay, William, 1695-1755.                69  \n",
      "75900             Poultry Diseases                68  \n",
      "\n",
      "Very similar labels (similarity >= 70): 3040 rows\n",
      "                                                  label  \\\n",
      "canon_id                                                  \n",
      "218898                                 Ashworth, Bryan.   \n",
      "264320                     Orientalism in art - History   \n",
      "92181     Punishment - Religious aspects - Christianity   \n",
      "\n",
      "                             label_canon  similarity_score  \n",
      "canon_id                                                    \n",
      "218898                  Ashworth, Bryan.               100  \n",
      "264320                Orientalism in art                78  \n",
      "92181     Punishment - Religious aspects                80  \n"
     ]
    }
   ],
   "source": [
    "# Analyze similarity score distribution\n",
    "import matplotlib.pyplot as plt\n",
    "\n",
    "plt.figure(figsize=(12, 6))\n",
    "\n",
    "# Histogram of similarity scores\n",
    "plt.subplot(1, 2, 1)\n",
    "plt.hist(dedup_df['similarity_score'], bins=20, alpha=0.7, color='blue')\n",
    "plt.title('Distribution of Similarity Scores')\n",
    "plt.xlabel('Similarity Score')\n",
    "plt.ylabel('Frequency')\n",
    "plt.axvline(x=similarity_threshold, color='red', linestyle='--', label=f'Threshold: {similarity_threshold}')\n",
    "plt.legend()\n",
    "\n",
    "# Box plot\n",
    "plt.subplot(1, 2, 2)\n",
    "plt.boxplot(dedup_df['similarity_score'])\n",
    "plt.title('Similarity Score Box Plot')\n",
    "plt.ylabel('Similarity Score')\n",
    "\n",
    "plt.tight_layout()\n",
    "plt.show()\n",
    "\n",
    "print(\"Similarity score statistics:\")\n",
    "print(dedup_df['similarity_score'].describe())\n",
    "\n",
    "# Show examples at different similarity ranges\n",
    "print(\"\\n--- Examples by similarity range ---\")\n",
    "\n",
    "# Very different labels (low similarity)\n",
    "low_sim = dedup_df[dedup_df['similarity_score'] < 30]\n",
    "if len(low_sim) > 0:\n",
    "    print(f\"\\nVery different labels (similarity < 30): {len(low_sim)} rows\")\n",
    "    print(low_sim[['label', 'label_canon', 'similarity_score']].head(3))\n",
    "\n",
    "# Moderately similar labels\n",
    "med_sim = dedup_df[(dedup_df['similarity_score'] >= 30) & (dedup_df['similarity_score'] < 70)]\n",
    "if len(med_sim) > 0:\n",
    "    print(f\"\\nModerately similar labels (30-70): {len(med_sim)} rows\")\n",
    "    print(med_sim[['label', 'label_canon', 'similarity_score']].head(3))\n",
    "\n",
    "# Very similar labels (high similarity)\n",
    "high_sim = dedup_df[dedup_df['similarity_score'] >= 70]\n",
    "if len(high_sim) > 0:\n",
    "    print(f\"\\nVery similar labels (similarity >= 70): {len(high_sim)} rows\")\n",
    "    print(high_sim[['label', 'label_canon', 'similarity_score']].head(3))"
   ]
  },
  {
   "cell_type": "code",
   "execution_count": null,
   "id": "ef43a5c4",
   "metadata": {},
   "outputs": [
    {
     "name": "stdout",
     "output_type": "stream",
     "text": [
      "=== Experimenting with different similarity thresholds ===\n",
      "\n",
      "--------------------------------------------------\n",
      "Threshold: 95\n",
      "Original rows: 3132\n",
      "Filtered rows: 1165\n",
      "Removed rows: 1967 (62.8%)\n",
      "\n",
      "--------------------------------------------------\n",
      "Threshold: 90\n",
      "Original rows: 3132\n",
      "Filtered rows: 1095\n",
      "Removed rows: 2037 (65.0%)\n",
      "\n",
      "Examples of removed rows (similarity >= 90):\n",
      "                                                      label  \\\n",
      "canon_id                                                      \n",
      "218898                                     Ashworth, Bryan.   \n",
      "338357                 Pettigrew, Thomas Joseph, 1791-1865.   \n",
      "639846                                      Rivers, Isabel.   \n",
      "518760                          Scriven, Edward, 1775-1841.   \n",
      "104248    Lichfield, Sutton Coldfield and Tamworth Hospi...   \n",
      "\n",
      "                                                label_canon  similarity_score  \\\n",
      "canon_id                                                                        \n",
      "218898                                     Ashworth, Bryan.               100   \n",
      "338357                 Pettigrew, Thomas Joseph, 1791-1865.               100   \n",
      "639846                                       Rivers, Isabel                97   \n",
      "518760                           Scriven, Edward, 1775-1841                98   \n",
      "104248    Lichfield, Sutton Coldfield and Tamworth Hospi...                99   \n",
      "\n",
      "              prob  \n",
      "canon_id            \n",
      "218898    0.549917  \n",
      "338357    0.549917  \n",
      "639846    0.538514  \n",
      "518760    0.543684  \n",
      "104248    0.547576  \n",
      "\n",
      "--------------------------------------------------\n",
      "Threshold: 85\n",
      "Original rows: 3132\n",
      "Filtered rows: 992\n",
      "Removed rows: 2140 (68.3%)\n",
      "\n",
      "--------------------------------------------------\n",
      "Threshold: 80\n",
      "Original rows: 3132\n",
      "Filtered rows: 779\n",
      "Removed rows: 2353 (75.1%)\n",
      "\n",
      "--------------------------------------------------\n",
      "Threshold: 75\n",
      "Original rows: 3132\n",
      "Filtered rows: 458\n",
      "Removed rows: 2674 (85.4%)\n",
      "\n",
      "Threshold: 85\n",
      "Original rows: 3132\n",
      "Filtered rows: 992\n",
      "Removed rows: 2140 (68.3%)\n",
      "\n",
      "Examples of removed rows (similarity >= 85):\n",
      "                                         label  \\\n",
      "canon_id                                         \n",
      "218898                        Ashworth, Bryan.   \n",
      "338357    Pettigrew, Thomas Joseph, 1791-1865.   \n",
      "527276                            Newman, John   \n",
      "639846                         Rivers, Isabel.   \n",
      "518760             Scriven, Edward, 1775-1841.   \n",
      "\n",
      "                                   label_canon  similarity_score      prob  \n",
      "canon_id                                                                    \n",
      "218898                        Ashworth, Bryan.               100  0.549917  \n",
      "338357    Pettigrew, Thomas Joseph, 1791-1865.               100  0.549917  \n",
      "527276                         Newman, John B.                89  0.531998  \n",
      "639846                          Rivers, Isabel                97  0.538514  \n",
      "518760              Scriven, Edward, 1775-1841                98  0.543684  \n",
      "\n",
      "=== Final filtered dataframe with threshold 85 ===\n"
     ]
    },
    {
     "data": {
      "application/vnd.microsoft.datawrangler.viewer.v0+json": {
       "columns": [
        {
         "name": "canon_id",
         "rawType": "int64",
         "type": "integer"
        },
        {
         "name": "id",
         "rawType": "int64",
         "type": "integer"
        },
        {
         "name": "canon_id",
         "rawType": "int64",
         "type": "integer"
        },
        {
         "name": "prob",
         "rawType": "float64",
         "type": "float"
        },
        {
         "name": "label",
         "rawType": "object",
         "type": "string"
        },
        {
         "name": "type",
         "rawType": "object",
         "type": "string"
        },
        {
         "name": "label_canon",
         "rawType": "object",
         "type": "string"
        },
        {
         "name": "type_canon",
         "rawType": "object",
         "type": "string"
        },
        {
         "name": "similarity_score",
         "rawType": "int64",
         "type": "integer"
        }
       ],
       "ref": "99158e72-3e39-46dc-a867-9065194ca56b",
       "rows": [
        [
         "264320",
         "388020",
         "264320",
         "0.5277604450262161",
         "Orientalism in art - History",
         "Concept",
         "Orientalism in art",
         "Concept",
         "78"
        ],
        [
         "92181",
         "92182",
         "92181",
         "0.5312411785125732",
         "Punishment - Religious aspects - Christianity",
         "Concept",
         "Punishment - Religious aspects",
         "Concept",
         "80"
        ],
        [
         "79172",
         "443059",
         "79172",
         "0.5399049440151251",
         "Adaptation, Physiological",
         "Concept",
         "Adaptation, Physiological - physiology",
         "Concept",
         "79"
        ],
        [
         "625121",
         "625123",
         "625121",
         "0.5200697779655457",
         "Pathogenic fungi - Nomenclature",
         "Concept",
         "Pathogenic fungi",
         "Concept",
         "68"
        ],
        [
         "139552",
         "139553",
         "139552",
         "0.5222323600017331",
         "Hay, William, 1695-1755. Deformity : an essay.",
         "Person",
         "Hay, William, 1695-1755.",
         "Person",
         "69"
        ],
        [
         "178807",
         "441756",
         "178807",
         "0.530212993109243",
         "Leicestershire and Rutland Lunatic Asylum. Committee of Visitors.",
         "Organisation",
         "Leicestershire and Rutland Lunatic Asylum",
         "Organisation",
         "77"
        ],
        [
         "235315",
         "514054",
         "235315",
         "0.5275059970600509",
         "Technische Universität München. Fakultät für Medizin",
         "Organisation",
         "Technische Universität München.",
         "Organisation",
         "75"
        ],
        [
         "440633",
         "454318",
         "440633",
         "0.5236001014709473",
         "Gay erotic photography",
         "Concept",
         "Gay erotic photography - Pictorial works",
         "Concept",
         "71"
        ],
        [
         "75900",
         "351703",
         "75900",
         "0.520069780777783",
         "Poultry Diseases - drug therapy",
         "Concept",
         "Poultry Diseases",
         "Concept",
         "68"
        ],
        [
         "23231",
         "443668",
         "23231",
         "0.5251666311110295",
         "Frontier and pioneer life",
         "Concept",
         "Frontier and pioneer life - Africa, Southern",
         "Concept",
         "72"
        ]
       ],
       "shape": {
        "columns": 8,
        "rows": 10
       }
      },
      "text/html": [
       "<div>\n",
       "<style scoped>\n",
       "    .dataframe tbody tr th:only-of-type {\n",
       "        vertical-align: middle;\n",
       "    }\n",
       "\n",
       "    .dataframe tbody tr th {\n",
       "        vertical-align: top;\n",
       "    }\n",
       "\n",
       "    .dataframe thead th {\n",
       "        text-align: right;\n",
       "    }\n",
       "</style>\n",
       "<table border=\"1\" class=\"dataframe\">\n",
       "  <thead>\n",
       "    <tr style=\"text-align: right;\">\n",
       "      <th></th>\n",
       "      <th>id</th>\n",
       "      <th>canon_id</th>\n",
       "      <th>prob</th>\n",
       "      <th>label</th>\n",
       "      <th>type</th>\n",
       "      <th>label_canon</th>\n",
       "      <th>type_canon</th>\n",
       "      <th>similarity_score</th>\n",
       "    </tr>\n",
       "    <tr>\n",
       "      <th>canon_id</th>\n",
       "      <th></th>\n",
       "      <th></th>\n",
       "      <th></th>\n",
       "      <th></th>\n",
       "      <th></th>\n",
       "      <th></th>\n",
       "      <th></th>\n",
       "      <th></th>\n",
       "    </tr>\n",
       "  </thead>\n",
       "  <tbody>\n",
       "    <tr>\n",
       "      <th>264320</th>\n",
       "      <td>388020</td>\n",
       "      <td>264320</td>\n",
       "      <td>0.527760</td>\n",
       "      <td>Orientalism in art - History</td>\n",
       "      <td>Concept</td>\n",
       "      <td>Orientalism in art</td>\n",
       "      <td>Concept</td>\n",
       "      <td>78</td>\n",
       "    </tr>\n",
       "    <tr>\n",
       "      <th>92181</th>\n",
       "      <td>92182</td>\n",
       "      <td>92181</td>\n",
       "      <td>0.531241</td>\n",
       "      <td>Punishment - Religious aspects - Christianity</td>\n",
       "      <td>Concept</td>\n",
       "      <td>Punishment - Religious aspects</td>\n",
       "      <td>Concept</td>\n",
       "      <td>80</td>\n",
       "    </tr>\n",
       "    <tr>\n",
       "      <th>79172</th>\n",
       "      <td>443059</td>\n",
       "      <td>79172</td>\n",
       "      <td>0.539905</td>\n",
       "      <td>Adaptation, Physiological</td>\n",
       "      <td>Concept</td>\n",
       "      <td>Adaptation, Physiological - physiology</td>\n",
       "      <td>Concept</td>\n",
       "      <td>79</td>\n",
       "    </tr>\n",
       "    <tr>\n",
       "      <th>625121</th>\n",
       "      <td>625123</td>\n",
       "      <td>625121</td>\n",
       "      <td>0.520070</td>\n",
       "      <td>Pathogenic fungi - Nomenclature</td>\n",
       "      <td>Concept</td>\n",
       "      <td>Pathogenic fungi</td>\n",
       "      <td>Concept</td>\n",
       "      <td>68</td>\n",
       "    </tr>\n",
       "    <tr>\n",
       "      <th>139552</th>\n",
       "      <td>139553</td>\n",
       "      <td>139552</td>\n",
       "      <td>0.522232</td>\n",
       "      <td>Hay, William, 1695-1755. Deformity : an essay.</td>\n",
       "      <td>Person</td>\n",
       "      <td>Hay, William, 1695-1755.</td>\n",
       "      <td>Person</td>\n",
       "      <td>69</td>\n",
       "    </tr>\n",
       "    <tr>\n",
       "      <th>178807</th>\n",
       "      <td>441756</td>\n",
       "      <td>178807</td>\n",
       "      <td>0.530213</td>\n",
       "      <td>Leicestershire and Rutland Lunatic Asylum. Com...</td>\n",
       "      <td>Organisation</td>\n",
       "      <td>Leicestershire and Rutland Lunatic Asylum</td>\n",
       "      <td>Organisation</td>\n",
       "      <td>77</td>\n",
       "    </tr>\n",
       "    <tr>\n",
       "      <th>235315</th>\n",
       "      <td>514054</td>\n",
       "      <td>235315</td>\n",
       "      <td>0.527506</td>\n",
       "      <td>Technische Universität München. Fakultät für M...</td>\n",
       "      <td>Organisation</td>\n",
       "      <td>Technische Universität München.</td>\n",
       "      <td>Organisation</td>\n",
       "      <td>75</td>\n",
       "    </tr>\n",
       "    <tr>\n",
       "      <th>440633</th>\n",
       "      <td>454318</td>\n",
       "      <td>440633</td>\n",
       "      <td>0.523600</td>\n",
       "      <td>Gay erotic photography</td>\n",
       "      <td>Concept</td>\n",
       "      <td>Gay erotic photography - Pictorial works</td>\n",
       "      <td>Concept</td>\n",
       "      <td>71</td>\n",
       "    </tr>\n",
       "    <tr>\n",
       "      <th>75900</th>\n",
       "      <td>351703</td>\n",
       "      <td>75900</td>\n",
       "      <td>0.520070</td>\n",
       "      <td>Poultry Diseases - drug therapy</td>\n",
       "      <td>Concept</td>\n",
       "      <td>Poultry Diseases</td>\n",
       "      <td>Concept</td>\n",
       "      <td>68</td>\n",
       "    </tr>\n",
       "    <tr>\n",
       "      <th>23231</th>\n",
       "      <td>443668</td>\n",
       "      <td>23231</td>\n",
       "      <td>0.525167</td>\n",
       "      <td>Frontier and pioneer life</td>\n",
       "      <td>Concept</td>\n",
       "      <td>Frontier and pioneer life - Africa, Southern</td>\n",
       "      <td>Concept</td>\n",
       "      <td>72</td>\n",
       "    </tr>\n",
       "  </tbody>\n",
       "</table>\n",
       "</div>"
      ],
      "text/plain": [
       "              id  canon_id      prob  \\\n",
       "canon_id                               \n",
       "264320    388020    264320  0.527760   \n",
       "92181      92182     92181  0.531241   \n",
       "79172     443059     79172  0.539905   \n",
       "625121    625123    625121  0.520070   \n",
       "139552    139553    139552  0.522232   \n",
       "178807    441756    178807  0.530213   \n",
       "235315    514054    235315  0.527506   \n",
       "440633    454318    440633  0.523600   \n",
       "75900     351703     75900  0.520070   \n",
       "23231     443668     23231  0.525167   \n",
       "\n",
       "                                                      label          type  \\\n",
       "canon_id                                                                    \n",
       "264320                         Orientalism in art - History       Concept   \n",
       "92181         Punishment - Religious aspects - Christianity       Concept   \n",
       "79172                             Adaptation, Physiological       Concept   \n",
       "625121                      Pathogenic fungi - Nomenclature       Concept   \n",
       "139552       Hay, William, 1695-1755. Deformity : an essay.        Person   \n",
       "178807    Leicestershire and Rutland Lunatic Asylum. Com...  Organisation   \n",
       "235315    Technische Universität München. Fakultät für M...  Organisation   \n",
       "440633                               Gay erotic photography       Concept   \n",
       "75900                       Poultry Diseases - drug therapy       Concept   \n",
       "23231                             Frontier and pioneer life       Concept   \n",
       "\n",
       "                                           label_canon    type_canon  \\\n",
       "canon_id                                                               \n",
       "264320                              Orientalism in art       Concept   \n",
       "92181                   Punishment - Religious aspects       Concept   \n",
       "79172           Adaptation, Physiological - physiology       Concept   \n",
       "625121                                Pathogenic fungi       Concept   \n",
       "139552                        Hay, William, 1695-1755.        Person   \n",
       "178807       Leicestershire and Rutland Lunatic Asylum  Organisation   \n",
       "235315                 Technische Universität München.  Organisation   \n",
       "440633        Gay erotic photography - Pictorial works       Concept   \n",
       "75900                                 Poultry Diseases       Concept   \n",
       "23231     Frontier and pioneer life - Africa, Southern       Concept   \n",
       "\n",
       "          similarity_score  \n",
       "canon_id                    \n",
       "264320                  78  \n",
       "92181                   80  \n",
       "79172                   79  \n",
       "625121                  68  \n",
       "139552                  69  \n",
       "178807                  77  \n",
       "235315                  75  \n",
       "440633                  71  \n",
       "75900                   68  \n",
       "23231                   72  "
      ]
     },
     "metadata": {},
     "output_type": "display_data"
    }
   ],
   "source": [
    "# Function to filter by different similarity thresholds\n",
    "def filter_by_similarity(df, threshold=90, show_examples=True):\n",
    "    filtered_df = df[df['similarity_score'] < threshold]\n",
    "    removed_count = len(df) - len(filtered_df)\n",
    "    \n",
    "    print(f\"Threshold: {threshold}\")\n",
    "    print(f\"Original rows: {len(df)}\")\n",
    "    print(f\"Filtered rows: {len(filtered_df)}\")\n",
    "    print(f\"Removed rows: {removed_count} ({removed_count/len(df)*100:.1f}%)\")\n",
    "    \n",
    "    if show_examples and removed_count > 0:\n",
    "        removed_df = df[df['similarity_score'] >= threshold]\n",
    "        print(f\"\\nExamples of removed rows (similarity >= {threshold}):\")\n",
    "        print(removed_df[['label', 'label_canon', 'similarity_score', 'prob']].head())\n",
    "    \n",
    "    return filtered_df\n",
    "\n",
    "# Try different thresholds\n",
    "print(\"=== Experimenting with different similarity thresholds ===\\n\")\n",
    "\n",
    "for threshold in [95, 90, 85, 80, 75]:\n",
    "    print(\"-\" * 50)\n",
    "    filtered_result = filter_by_similarity(dedup_df, threshold, show_examples=(threshold == 90))\n",
    "    print()\n",
    "\n",
    "# You can adjust this threshold based on your needs\n",
    "final_threshold = 85  # Adjust this value\n",
    "final_filtered_df = filter_by_similarity(dedup_df, final_threshold, show_examples=True)\n",
    "\n",
    "print(f\"\\n=== Final filtered dataframe with threshold {final_threshold} ===\")\n",
    "final_filtered_df.head(10)"
   ]
  }
 ],
 "metadata": {
  "kernelspec": {
   "display_name": "wc-simd",
   "language": "python",
   "name": "python3"
  },
  "language_info": {
   "codemirror_mode": {
    "name": "ipython",
    "version": 3
   },
   "file_extension": ".py",
   "mimetype": "text/x-python",
   "name": "python",
   "nbconvert_exporter": "python",
   "pygments_lexer": "ipython3",
   "version": "3.10.17"
  }
 },
 "nbformat": 4,
 "nbformat_minor": 5
}
