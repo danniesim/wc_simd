{
 "cells": [
  {
   "cell_type": "markdown",
   "id": "23c48000",
   "metadata": {},
   "source": [
    "# Load Spark"
   ]
  },
  {
   "cell_type": "code",
   "execution_count": 8,
   "id": "3a978214",
   "metadata": {},
   "outputs": [
    {
     "name": "stderr",
     "output_type": "stream",
     "text": [
      "Setting default log level to \"WARN\".\n",
      "To adjust logging level use sc.setLogLevel(newLevel). For SparkR, use setLogLevel(newLevel).\n",
      "25/07/31 15:35:33 WARN NativeCodeLoader: Unable to load native-hadoop library for your platform... using builtin-java classes where applicable\n"
     ]
    }
   ],
   "source": [
    "from pyspark.sql import SparkSession\n",
    "\n",
    "spark = SparkSession.builder \\\n",
    "    .appName(\"test_pyspark\") \\\n",
    "    .config(\"spark.driver.memory\", \"100g\") \\\n",
    "    .config(\"spark.executor.memory\", \"100g\") \\\n",
    "    .config(\"spark.sql.orc.enableVectorizedReader\", \"false\") \\\n",
    "    .config(\"spark.sql.parquet.columnarReaderBatchSize\", \"256\") \\\n",
    "    .config(\"spark.sql.orc.columnarReaderBatchSize\", \"256\") \\\n",
    "    .config(\"spark.sql.shuffle.partitions\", \"1024\") \\\n",
    "    .config(\"spark.driver.maxResultSize\", \"4g\") \\\n",
    "    .getOrCreate()\n",
    "\n",
    "spark.sparkContext.setLogLevel(\"ERROR\")"
   ]
  },
  {
   "cell_type": "code",
   "execution_count": 9,
   "id": "e1a5f1cc",
   "metadata": {},
   "outputs": [],
   "source": [
    "combined_df = spark.table(\"dn_labels_combined\")"
   ]
  },
  {
   "cell_type": "markdown",
   "id": "16dd3453",
   "metadata": {},
   "source": [
    "# Create dedup data"
   ]
  },
  {
   "cell_type": "code",
   "execution_count": 11,
   "id": "aa3134cb",
   "metadata": {},
   "outputs": [
    {
     "data": {
      "application/vnd.microsoft.datawrangler.viewer.v0+json": {
       "columns": [
        {
         "name": "idx",
         "rawType": "int64",
         "type": "integer"
        },
        {
         "name": "label",
         "rawType": "object",
         "type": "string"
        },
        {
         "name": "id",
         "rawType": "object",
         "type": "string"
        },
        {
         "name": "type",
         "rawType": "object",
         "type": "string"
        },
        {
         "name": "source",
         "rawType": "object",
         "type": "string"
        }
       ],
       "ref": "63a7cbc2-1113-405c-ad57-8e362233bf06",
       "rows": [
        [
         "0",
         "Children",
         "null00000",
         "missing",
         "subject"
        ],
        [
         "1",
         "Criminal law",
         "null00001",
         "missing",
         "subject"
        ],
        [
         "2",
         "Gender roles",
         "null00002",
         "missing",
         "subject"
        ],
        [
         "3",
         "Law",
         "null00003",
         "missing",
         "subject"
        ],
        [
         "4",
         "Police",
         "null00004",
         "missing",
         "subject"
        ],
        [
         "5",
         "Women",
         "null00005",
         "missing",
         "subject"
        ],
        [
         "6",
         "Womyn",
         "null00006",
         "missing",
         "subject"
        ],
        [
         "7",
         "Youth",
         "null00007",
         "missing",
         "subject"
        ],
        [
         "8",
         "Circle of State Librarians Conference 1979 : Kew, England)",
         "a2233f9d",
         "Meeting",
         "contributor"
        ],
        [
         "9",
         "Nelson, Geoffrey B. (Geoffrey Brian)",
         "a223f5a6",
         "Person",
         "contributor"
        ],
        [
         "10",
         "Wolff, G.",
         "a2249bxm",
         "Person",
         "contributor"
        ],
        [
         "11",
         "Jones, John E",
         "a224b9mp",
         "Person",
         "contributor"
        ],
        [
         "12",
         "Jones, John E.",
         "a224b9mp",
         "Person",
         "contributor"
        ],
        [
         "13",
         "Hulverscheidt, Marion, 1970-",
         "a224rx5x",
         "Person",
         "contributor"
        ],
        [
         "14",
         "Zimmermann, Wilhelm.",
         "a224tns9",
         "Person",
         "contributor"
        ],
        [
         "15",
         "Gaur, June.",
         "a2258t8s",
         "Person",
         "contributor"
        ],
        [
         "16",
         "South Cambridgeshire (England)",
         "a22auf32",
         "Place",
         "subject"
        ],
        [
         "17",
         "Orel, Harold, 1926-2017.",
         "a22d6ehy",
         "Person",
         "contributor"
        ],
        [
         "18",
         "Brown, Bruce, 1942-",
         "a22d7muq",
         "Person",
         "contributor"
        ],
        [
         "19",
         "Economic development - History",
         "a22ddxvt",
         "Concept",
         "subject"
        ],
        [
         "20",
         "Shugar, Andrea.",
         "a22dx2jb",
         "Person",
         "contributor"
        ],
        [
         "21",
         "Bruce (Edinburgh, Scotland)",
         "a22ghtpk",
         "Person",
         "contributor"
        ],
        [
         "22",
         "Cheeseman, Thomas, 1760-approximately 1835.",
         "a22hh3y8",
         "Person",
         "contributor"
        ],
        [
         "23",
         "Hartstein, Jack, 1924-",
         "a22hndxd",
         "Person",
         "contributor"
        ],
        [
         "24",
         "Prujean, Thomas, 1622 or 1623-1662.",
         "a22jzkjd",
         "Person",
         "subject"
        ],
        [
         "25",
         "Freeport, Andrew",
         "a22mar23",
         "Person",
         "contributor"
        ],
        [
         "26",
         "Databases as Topic - organization & administration",
         "a22mr8u2",
         "Concept",
         "subject"
        ],
        [
         "27",
         "Ideler, Julius Ludwig, 1809-1842",
         "a22ncx9p",
         "Person",
         "contributor"
        ],
        [
         "28",
         "Fournier, Alfred Jean, 1832-1914",
         "a22sv4sw",
         "Agent",
         "contributor"
        ],
        [
         "29",
         "Royal College of Surgeons in London",
         "a22vrvk4",
         "Organisation",
         "subject"
        ],
        [
         "30",
         "Royal College of Surgeons in London.",
         "a22vrvk4",
         "Organisation",
         "contributor"
        ],
        [
         "31",
         "Hernia, Inguinal, therapy",
         "a22xqhjs",
         "Concept",
         "subject"
        ],
        [
         "32",
         "Poor families",
         "a22xr2nw",
         "Concept",
         "subject"
        ],
        [
         "33",
         "Scrimshaw, Jane, 1584-1711.",
         "a22xt94e",
         "Person",
         "subject"
        ],
        [
         "34",
         "Foster, William",
         "a232zjf3",
         "Person",
         "contributor"
        ],
        [
         "35",
         "Foster, William.",
         "a232zjf3",
         "Person",
         "subject"
        ],
        [
         "36",
         "Foster, William.",
         "a232zjf3",
         "Person",
         "contributor"
        ],
        [
         "37",
         "da Silva, Christiano",
         "a2346x74",
         "Person",
         "contributor"
        ],
        [
         "38",
         "Steam-heating",
         "a235krft",
         "Concept",
         "subject"
        ],
        [
         "39",
         "Dental Restoration, Temporary",
         "a239x46b",
         "Concept",
         "subject"
        ],
        [
         "40",
         "London Black MESMAC",
         "a23ajhj3",
         "Organisation",
         "contributor"
        ],
        [
         "41",
         "London Black Mesmac",
         "a23ajhj3",
         "Organisation",
         "contributor"
        ],
        [
         "42",
         "Fellows, Julian R. (Julian Robert), 1900-1985.",
         "a23c6tr6",
         "Person",
         "contributor"
        ],
        [
         "43",
         "Subba Reddy, D. V., 1899-1987",
         "a23cjx8a",
         "Person",
         "contributor"
        ],
        [
         "44",
         "Subba Reddy, D. V., 1899-1987.",
         "a23cjx8a",
         "Person",
         "contributor"
        ],
        [
         "45",
         "Subba Reddy, D. V., 1899-1987.",
         "a23cjx8a",
         "Person",
         "subject"
        ],
        [
         "46",
         "Pneumonia",
         "a23f6ptg",
         "Concept",
         "subject"
        ],
        [
         "47",
         "Pneumonia - Child",
         "a23f6ptg",
         "Concept",
         "subject"
        ],
        [
         "48",
         "Pneumonia - Child, Preschool",
         "a23f6ptg",
         "Concept",
         "subject"
        ],
        [
         "49",
         "Pneumonia - Infant",
         "a23f6ptg",
         "Concept",
         "subject"
        ]
       ],
       "shape": {
        "columns": 4,
        "rows": 646786
       }
      },
      "text/html": [
       "<div>\n",
       "<style scoped>\n",
       "    .dataframe tbody tr th:only-of-type {\n",
       "        vertical-align: middle;\n",
       "    }\n",
       "\n",
       "    .dataframe tbody tr th {\n",
       "        vertical-align: top;\n",
       "    }\n",
       "\n",
       "    .dataframe thead th {\n",
       "        text-align: right;\n",
       "    }\n",
       "</style>\n",
       "<table border=\"1\" class=\"dataframe\">\n",
       "  <thead>\n",
       "    <tr style=\"text-align: right;\">\n",
       "      <th></th>\n",
       "      <th>label</th>\n",
       "      <th>id</th>\n",
       "      <th>type</th>\n",
       "      <th>source</th>\n",
       "    </tr>\n",
       "    <tr>\n",
       "      <th>idx</th>\n",
       "      <th></th>\n",
       "      <th></th>\n",
       "      <th></th>\n",
       "      <th></th>\n",
       "    </tr>\n",
       "  </thead>\n",
       "  <tbody>\n",
       "    <tr>\n",
       "      <th>0</th>\n",
       "      <td>Children</td>\n",
       "      <td>null00000</td>\n",
       "      <td>missing</td>\n",
       "      <td>subject</td>\n",
       "    </tr>\n",
       "    <tr>\n",
       "      <th>1</th>\n",
       "      <td>Criminal law</td>\n",
       "      <td>null00001</td>\n",
       "      <td>missing</td>\n",
       "      <td>subject</td>\n",
       "    </tr>\n",
       "    <tr>\n",
       "      <th>2</th>\n",
       "      <td>Gender roles</td>\n",
       "      <td>null00002</td>\n",
       "      <td>missing</td>\n",
       "      <td>subject</td>\n",
       "    </tr>\n",
       "    <tr>\n",
       "      <th>3</th>\n",
       "      <td>Law</td>\n",
       "      <td>null00003</td>\n",
       "      <td>missing</td>\n",
       "      <td>subject</td>\n",
       "    </tr>\n",
       "    <tr>\n",
       "      <th>4</th>\n",
       "      <td>Police</td>\n",
       "      <td>null00004</td>\n",
       "      <td>missing</td>\n",
       "      <td>subject</td>\n",
       "    </tr>\n",
       "    <tr>\n",
       "      <th>...</th>\n",
       "      <td>...</td>\n",
       "      <td>...</td>\n",
       "      <td>...</td>\n",
       "      <td>...</td>\n",
       "    </tr>\n",
       "    <tr>\n",
       "      <th>646781</th>\n",
       "      <td>Pregnant teenagers - Great Britain - Diaries</td>\n",
       "      <td>zzzvtr3f</td>\n",
       "      <td>Concept</td>\n",
       "      <td>subject</td>\n",
       "    </tr>\n",
       "    <tr>\n",
       "      <th>646782</th>\n",
       "      <td>Maddox, Lucy</td>\n",
       "      <td>zzzw65be</td>\n",
       "      <td>Person</td>\n",
       "      <td>contributor</td>\n",
       "    </tr>\n",
       "    <tr>\n",
       "      <th>646783</th>\n",
       "      <td>Rockliffe, Richard William.</td>\n",
       "      <td>zzzwgbkn</td>\n",
       "      <td>Person</td>\n",
       "      <td>contributor</td>\n",
       "    </tr>\n",
       "    <tr>\n",
       "      <th>646784</th>\n",
       "      <td>Aneurysm - drug therapy</td>\n",
       "      <td>zzzygqw9</td>\n",
       "      <td>Concept</td>\n",
       "      <td>subject</td>\n",
       "    </tr>\n",
       "    <tr>\n",
       "      <th>646785</th>\n",
       "      <td>Gottfried, Robert Steven, 1949-</td>\n",
       "      <td>zzzyybvk</td>\n",
       "      <td>Person</td>\n",
       "      <td>contributor</td>\n",
       "    </tr>\n",
       "  </tbody>\n",
       "</table>\n",
       "<p>646786 rows × 4 columns</p>\n",
       "</div>"
      ],
      "text/plain": [
       "                                               label         id     type  \\\n",
       "idx                                                                        \n",
       "0                                           Children  null00000  missing   \n",
       "1                                       Criminal law  null00001  missing   \n",
       "2                                       Gender roles  null00002  missing   \n",
       "3                                                Law  null00003  missing   \n",
       "4                                             Police  null00004  missing   \n",
       "...                                              ...        ...      ...   \n",
       "646781  Pregnant teenagers - Great Britain - Diaries   zzzvtr3f  Concept   \n",
       "646782                                  Maddox, Lucy   zzzw65be   Person   \n",
       "646783                   Rockliffe, Richard William.   zzzwgbkn   Person   \n",
       "646784                       Aneurysm - drug therapy   zzzygqw9  Concept   \n",
       "646785               Gottfried, Robert Steven, 1949-   zzzyybvk   Person   \n",
       "\n",
       "             source  \n",
       "idx                  \n",
       "0           subject  \n",
       "1           subject  \n",
       "2           subject  \n",
       "3           subject  \n",
       "4           subject  \n",
       "...             ...  \n",
       "646781      subject  \n",
       "646782  contributor  \n",
       "646783  contributor  \n",
       "646784      subject  \n",
       "646785  contributor  \n",
       "\n",
       "[646786 rows x 4 columns]"
      ]
     },
     "execution_count": 11,
     "metadata": {},
     "output_type": "execute_result"
    }
   ],
   "source": [
    "combined_distinct_df = combined_df.distinct().orderBy(\"id\", \"label\", \"type\")\n",
    "\n",
    "dedup_data = combined_distinct_df.toPandas()\n",
    "\n",
    "null_count = dedup_data[dedup_data[\"id\"].isnull()].shape[0]\n",
    "# format null_nums 5 digit number starting from 00000\n",
    "null_nums = [f\"null{num:05d}\" for num in range(0, null_count)]\n",
    "dedup_data.loc[dedup_data[\"id\"].isnull(), \"id\"] = null_nums\n",
    "dedup_data.loc[dedup_data[\"type\"].isnull(), \"type\"] = \"missing\"\n",
    "# Name index idx\n",
    "dedup_data.index.name = \"idx\"\n",
    "\n",
    "dedup_data"
   ]
  },
  {
   "cell_type": "markdown",
   "id": "d8809e47",
   "metadata": {},
   "source": [
    "### Find rows that label contains \"Florence\""
   ]
  },
  {
   "cell_type": "code",
   "execution_count": 24,
   "id": "82d51462",
   "metadata": {},
   "outputs": [
    {
     "data": {
      "application/vnd.microsoft.datawrangler.viewer.v0+json": {
       "columns": [
        {
         "name": "idx",
         "rawType": "int64",
         "type": "integer"
        },
        {
         "name": "label",
         "rawType": "object",
         "type": "string"
        },
        {
         "name": "id",
         "rawType": "object",
         "type": "string"
        },
        {
         "name": "type",
         "rawType": "object",
         "type": "string"
        },
        {
         "name": "source",
         "rawType": "object",
         "type": "string"
        }
       ],
       "ref": "0f06cf5a-89f4-4dee-ae86-b18158e363fa",
       "rows": [
        [
         "369",
         "Seibert, Florence B., 1897-1991.",
         "a2eja6h3",
         "Person",
         "subject"
        ],
        [
         "1794",
         "Starling, Florence A.",
         "a3y59bbc",
         "Person",
         "contributor"
        ],
        [
         "7078",
         "Lees, Florence Sarah, 1840-1922.",
         "a9qbyauq",
         "Person",
         "subject"
        ],
        [
         "8840",
         "Fitzgerald, Alice Louise Florence, 1874-1962.",
         "abjapcbz",
         "Person",
         "contributor"
        ],
        [
         "10489",
         "Brown, Florence Haig (Florence Amelia Haig)",
         "adddjcfv",
         "Person",
         "contributor"
        ],
        [
         "10536",
         "Forte di Belvedere (Florence, Italy)",
         "aderarjc",
         "Organisation",
         "contributor"
        ],
        [
         "14704",
         "Ward, Florence N.",
         "ahwkdapp",
         "Person",
         "contributor"
        ],
        [
         "17022",
         "Milligan, Florence.",
         "amh6vng9",
         "Person",
         "contributor"
        ],
        [
         "18299",
         "Casa della Pietà (Florence, Italy)",
         "anvt8axk",
         "Organisation",
         "subject"
        ],
        [
         "21030",
         "Elliott, Florence Eileen, 1905-1996.",
         "ary5zcg9",
         "Person",
         "subject"
        ],
        [
         "21389",
         "Florence (Italy) - Economic conditions - To 1500",
         "ascwqhd9",
         "Place",
         "subject"
        ],
        [
         "21629",
         "Convegno Giuseppe Barellai (1813-1884), il dovere del medico, la situazione sanitaria dell'Ottocento e le nuove realtà epidemiologiche (2013 : Florence, Italy)",
         "aspa89mq",
         "Meeting",
         "contributor"
        ],
        [
         "24661",
         "Jews - Italy - Florence - Biography",
         "avy5bvy8",
         "Concept",
         "subject"
        ],
        [
         "25693",
         "Casa pia di Santa Dorotea dei Pazzerelli (Florence, Italy)",
         "ax3uecbs",
         "Organisation",
         "subject"
        ],
        [
         "29771",
         "Cartography - Italy - Florence - History - 15th century",
         "b3pefjab",
         "Concept",
         "subject"
        ],
        [
         "30017",
         "Bell, Florence Eveleen Eleanore Olliffe, Lady, 1851-1930.",
         "b3xkbeb5",
         "Person",
         "subject"
        ],
        [
         "34492",
         "Chantoury-Lacombe, Florence, 1968-",
         "b8qcvnjh",
         "Person",
         "contributor"
        ],
        [
         "35500",
         "Banks and banking - Italy - Florence - History",
         "b9vh2uaj",
         "Concept",
         "subject"
        ],
        [
         "37466",
         "Società italiana di storia delle scienze mediche e naturali. Riunione sociale (1942 : Florence, Italy)",
         "bc77c42j",
         "Organisation",
         "contributor"
        ],
        [
         "38397",
         "Painting, Italian - Italy - Florence - Exhibitions",
         "bd86cfds",
         "Concept",
         "subject"
        ],
        [
         "39622",
         "Central-local government relations - Italy - Florence - History",
         "bekb6uaz",
         "Concept",
         "subject"
        ],
        [
         "40539",
         "Decorative arts - Collectors and collecting - Italy - Florence",
         "bfkd68ah",
         "Concept",
         "subject"
        ],
        [
         "41435",
         "Petty, Florence.",
         "bgn5vjmr",
         "Person",
         "contributor"
        ],
        [
         "42163",
         "Société internationale d'histoire des sciences et de la philosophie arabes et islamiques. Colloque 2006 : Florence, Italy)",
         "bhfq67m5",
         "Organisation",
         "contributor"
        ],
        [
         "45521",
         "Florence (Italy) - Economic conditions",
         "bn5pqar8",
         "Place",
         "subject"
        ],
        [
         "51096",
         "Florence (Italy) - History - 1421-1737",
         "bu6eq7gw",
         "Place",
         "subject"
        ],
        [
         "56010",
         "Wertham, Florence E.",
         "bzd86k3t",
         "Person",
         "contributor"
        ],
        [
         "56353",
         "Officina profumo-farmaceutica di Santa Maria Novella (Florence, Italy)",
         "bzrkw5h8",
         "Organisation",
         "subject"
        ],
        [
         "62223",
         "Architecture - Italy - Florence - History",
         "c88egmr6",
         "Concept",
         "subject"
        ],
        [
         "62254",
         "Upton, Florence K. (Florence Kate), 1873-1922.",
         "c89g4epx",
         "Person",
         "contributor"
        ],
        [
         "62629",
         "Glaze, Florence Eliza",
         "c8nv2pwd",
         "Person",
         "contributor"
        ],
        [
         "62839",
         "Florence (Italy) - Social conditions",
         "c8wszeaf",
         "Place",
         "subject"
        ],
        [
         "65498",
         "Seibert, Florence B.",
         "cbt8nh2h",
         "Person",
         "contributor"
        ],
        [
         "67301",
         "Stacpoole, Florence.",
         "cdryyj28",
         "Person",
         "contributor"
        ],
        [
         "67300",
         "Stacpoole, Florence",
         "cdryyj28",
         "Person",
         "contributor"
        ],
        [
         "69726",
         "Sabin, Florence Rena, 1871-1953.",
         "cgdscmxw",
         "Person",
         "contributor"
        ],
        [
         "69909",
         "World Congress of Biological Psychiatry 1991 : Florence, Italy)",
         "cgkqsbwp",
         "Meeting",
         "contributor"
        ],
        [
         "70914",
         "Andrews, Florence",
         "chmajzje",
         "Person",
         "contributor"
        ],
        [
         "72824",
         "Villa La Pietra (Florence, Italy)",
         "ckssg2g5",
         "Organisation",
         "subject"
        ],
        [
         "72891",
         "{acute}Epinay, Louise Florence P{acute}etronille Tardieu d{acute}Esclavelles, marquise d{acute}",
         "ckvanr5y",
         "Person",
         "contributor"
        ],
        [
         "73629",
         "Epilepsy International Symposium 1979 : Florence, Italy)",
         "cmr2pfe4",
         "Meeting",
         "contributor"
        ],
        [
         "73991",
         "Pollet, Victor Florence, 1811-1882.",
         "cn3whg63",
         "Person",
         "contributor"
        ],
        [
         "75482",
         "Pye, Orrea Florence, 1907-",
         "cppq5em2",
         "Person",
         "contributor"
        ],
        [
         "82611",
         "McQuillan, Florence L.",
         "cxfn4tne",
         "Person",
         "contributor"
        ],
        [
         "84067",
         "Horspool, Florence.",
         "cz3bq4dg",
         "Person",
         "contributor"
        ],
        [
         "86279",
         "Friendship - Italy - Florence - History",
         "d3g2pbu4",
         "Concept",
         "subject"
        ],
        [
         "86864",
         "Istituto degli innocenti (Florence, Italy)",
         "d43yusak",
         "Organisation",
         "contributor"
        ],
        [
         "87270",
         "Lepetit Colloquium 1969 : Florence)",
         "d4g8uwv9",
         "Meeting",
         "contributor"
        ],
        [
         "87516",
         "Nightingale, Florence, 1820-1910.",
         "d4rsp2n3",
         "Person",
         "contributor"
        ],
        [
         "87517",
         "Nightingale, Florence, 1820-1910. Notes on nursing.",
         "d4rsp2n3",
         "Agent",
         "contributor"
        ]
       ],
       "shape": {
        "columns": 4,
        "rows": 369
       }
      },
      "text/html": [
       "<div>\n",
       "<style scoped>\n",
       "    .dataframe tbody tr th:only-of-type {\n",
       "        vertical-align: middle;\n",
       "    }\n",
       "\n",
       "    .dataframe tbody tr th {\n",
       "        vertical-align: top;\n",
       "    }\n",
       "\n",
       "    .dataframe thead th {\n",
       "        text-align: right;\n",
       "    }\n",
       "</style>\n",
       "<table border=\"1\" class=\"dataframe\">\n",
       "  <thead>\n",
       "    <tr style=\"text-align: right;\">\n",
       "      <th></th>\n",
       "      <th>label</th>\n",
       "      <th>id</th>\n",
       "      <th>type</th>\n",
       "      <th>source</th>\n",
       "    </tr>\n",
       "    <tr>\n",
       "      <th>idx</th>\n",
       "      <th></th>\n",
       "      <th></th>\n",
       "      <th></th>\n",
       "      <th></th>\n",
       "    </tr>\n",
       "  </thead>\n",
       "  <tbody>\n",
       "    <tr>\n",
       "      <th>369</th>\n",
       "      <td>Seibert, Florence B., 1897-1991.</td>\n",
       "      <td>a2eja6h3</td>\n",
       "      <td>Person</td>\n",
       "      <td>subject</td>\n",
       "    </tr>\n",
       "    <tr>\n",
       "      <th>1794</th>\n",
       "      <td>Starling, Florence A.</td>\n",
       "      <td>a3y59bbc</td>\n",
       "      <td>Person</td>\n",
       "      <td>contributor</td>\n",
       "    </tr>\n",
       "    <tr>\n",
       "      <th>7078</th>\n",
       "      <td>Lees, Florence Sarah, 1840-1922.</td>\n",
       "      <td>a9qbyauq</td>\n",
       "      <td>Person</td>\n",
       "      <td>subject</td>\n",
       "    </tr>\n",
       "    <tr>\n",
       "      <th>8840</th>\n",
       "      <td>Fitzgerald, Alice Louise Florence, 1874-1962.</td>\n",
       "      <td>abjapcbz</td>\n",
       "      <td>Person</td>\n",
       "      <td>contributor</td>\n",
       "    </tr>\n",
       "    <tr>\n",
       "      <th>10489</th>\n",
       "      <td>Brown, Florence Haig (Florence Amelia Haig)</td>\n",
       "      <td>adddjcfv</td>\n",
       "      <td>Person</td>\n",
       "      <td>contributor</td>\n",
       "    </tr>\n",
       "    <tr>\n",
       "      <th>...</th>\n",
       "      <td>...</td>\n",
       "      <td>...</td>\n",
       "      <td>...</td>\n",
       "      <td>...</td>\n",
       "    </tr>\n",
       "    <tr>\n",
       "      <th>638080</th>\n",
       "      <td>La Live, Louise Florence Pétronille, marquise ...</td>\n",
       "      <td>zqmczs9w</td>\n",
       "      <td>Person</td>\n",
       "      <td>subject</td>\n",
       "    </tr>\n",
       "    <tr>\n",
       "      <th>638861</th>\n",
       "      <td>Gardiner, Florence Mary.</td>\n",
       "      <td>zrf8dcpg</td>\n",
       "      <td>Person</td>\n",
       "      <td>contributor</td>\n",
       "    </tr>\n",
       "    <tr>\n",
       "      <th>640338</th>\n",
       "      <td>Ball, Florence V.</td>\n",
       "      <td>zsyewr24</td>\n",
       "      <td>Person</td>\n",
       "      <td>contributor</td>\n",
       "    </tr>\n",
       "    <tr>\n",
       "      <th>641656</th>\n",
       "      <td>San Lorenzo (Church : Florence, Italy)</td>\n",
       "      <td>zugwyvqy</td>\n",
       "      <td>Organisation</td>\n",
       "      <td>subject</td>\n",
       "    </tr>\n",
       "    <tr>\n",
       "      <th>642489</th>\n",
       "      <td>Small, Florence Hardy, 1860?-1933</td>\n",
       "      <td>zvcecuth</td>\n",
       "      <td>Person</td>\n",
       "      <td>contributor</td>\n",
       "    </tr>\n",
       "  </tbody>\n",
       "</table>\n",
       "<p>369 rows × 4 columns</p>\n",
       "</div>"
      ],
      "text/plain": [
       "                                                    label        id  \\\n",
       "idx                                                                   \n",
       "369                      Seibert, Florence B., 1897-1991.  a2eja6h3   \n",
       "1794                                Starling, Florence A.  a3y59bbc   \n",
       "7078                     Lees, Florence Sarah, 1840-1922.  a9qbyauq   \n",
       "8840        Fitzgerald, Alice Louise Florence, 1874-1962.  abjapcbz   \n",
       "10489         Brown, Florence Haig (Florence Amelia Haig)  adddjcfv   \n",
       "...                                                   ...       ...   \n",
       "638080  La Live, Louise Florence Pétronille, marquise ...  zqmczs9w   \n",
       "638861                           Gardiner, Florence Mary.  zrf8dcpg   \n",
       "640338                                  Ball, Florence V.  zsyewr24   \n",
       "641656             San Lorenzo (Church : Florence, Italy)  zugwyvqy   \n",
       "642489                  Small, Florence Hardy, 1860?-1933  zvcecuth   \n",
       "\n",
       "                type       source  \n",
       "idx                                \n",
       "369           Person      subject  \n",
       "1794          Person  contributor  \n",
       "7078          Person      subject  \n",
       "8840          Person  contributor  \n",
       "10489         Person  contributor  \n",
       "...              ...          ...  \n",
       "638080        Person      subject  \n",
       "638861        Person  contributor  \n",
       "640338        Person  contributor  \n",
       "641656  Organisation      subject  \n",
       "642489        Person  contributor  \n",
       "\n",
       "[369 rows x 4 columns]"
      ]
     },
     "execution_count": 24,
     "metadata": {},
     "output_type": "execute_result"
    }
   ],
   "source": [
    "florence_rows = dedup_data[dedup_data['label'].str.contains(\n",
    "    \"Florence\", case=False, na=False) & dedup_data['label'].str.contains(\n",
    "    \"N.\", case=False, na=False)].sort_values(by='id', ascending=True)\n",
    "florence_rows"
   ]
  },
  {
   "cell_type": "code",
   "execution_count": null,
   "id": "14657b62",
   "metadata": {},
   "outputs": [],
   "source": [
    "from wc_simd.dedupe_service import dedup_data_file\n",
    "\n",
    "# Convert all columns to string type\n",
    "dedup_data = dedup_data.astype(str)\n",
    "dedup_data.reset_index(inplace=True)\n",
    "dedup_data.rename(columns={\"index\": \"idx\"}, inplace=True)\n",
    "\n",
    "dedup_data.to_csv(\"../\" + dedup_data_file, index=True)"
   ]
  },
  {
   "cell_type": "markdown",
   "id": "a8bfa8dd",
   "metadata": {},
   "source": [
    "## Load dedup data"
   ]
  },
  {
   "cell_type": "code",
   "execution_count": 6,
   "id": "6f7521b2",
   "metadata": {},
   "outputs": [
    {
     "data": {
      "application/vnd.microsoft.datawrangler.viewer.v0+json": {
       "columns": [
        {
         "name": "idx",
         "rawType": "int64",
         "type": "integer"
        },
        {
         "name": "label",
         "rawType": "object",
         "type": "string"
        },
        {
         "name": "id",
         "rawType": "object",
         "type": "string"
        },
        {
         "name": "type",
         "rawType": "object",
         "type": "string"
        },
        {
         "name": "source",
         "rawType": "object",
         "type": "string"
        }
       ],
       "ref": "f2d9f9eb-2e32-40b3-898e-a61f847625d3",
       "rows": [
        [
         "0",
         "Children",
         "null00000",
         "missing",
         "subject"
        ],
        [
         "1",
         "Criminal law",
         "null00001",
         "missing",
         "subject"
        ],
        [
         "2",
         "Gender roles",
         "null00002",
         "missing",
         "subject"
        ],
        [
         "3",
         "Law",
         "null00003",
         "missing",
         "subject"
        ],
        [
         "4",
         "Police",
         "null00004",
         "missing",
         "subject"
        ],
        [
         "5",
         "Women",
         "null00005",
         "missing",
         "subject"
        ],
        [
         "6",
         "Womyn",
         "null00006",
         "missing",
         "subject"
        ],
        [
         "7",
         "Youth",
         "null00007",
         "missing",
         "subject"
        ],
        [
         "8",
         "Circle of State Librarians Conference 1979 : Kew, England)",
         "a2233f9d",
         "Meeting",
         "contributor"
        ],
        [
         "9",
         "Nelson, Geoffrey B. (Geoffrey Brian)",
         "a223f5a6",
         "Person",
         "contributor"
        ],
        [
         "10",
         "Wolff, G.",
         "a2249bxm",
         "Person",
         "contributor"
        ],
        [
         "11",
         "Jones, John E",
         "a224b9mp",
         "Person",
         "contributor"
        ],
        [
         "12",
         "Jones, John E.",
         "a224b9mp",
         "Person",
         "contributor"
        ],
        [
         "13",
         "Hulverscheidt, Marion, 1970-",
         "a224rx5x",
         "Person",
         "contributor"
        ],
        [
         "14",
         "Zimmermann, Wilhelm.",
         "a224tns9",
         "Person",
         "contributor"
        ],
        [
         "15",
         "Gaur, June.",
         "a2258t8s",
         "Person",
         "contributor"
        ],
        [
         "16",
         "South Cambridgeshire (England)",
         "a22auf32",
         "Place",
         "subject"
        ],
        [
         "17",
         "Orel, Harold, 1926-2017.",
         "a22d6ehy",
         "Person",
         "contributor"
        ],
        [
         "18",
         "Brown, Bruce, 1942-",
         "a22d7muq",
         "Person",
         "contributor"
        ],
        [
         "19",
         "Economic development - History",
         "a22ddxvt",
         "Concept",
         "subject"
        ],
        [
         "20",
         "Shugar, Andrea.",
         "a22dx2jb",
         "Person",
         "contributor"
        ],
        [
         "21",
         "Bruce (Edinburgh, Scotland)",
         "a22ghtpk",
         "Person",
         "contributor"
        ],
        [
         "22",
         "Cheeseman, Thomas, 1760-approximately 1835.",
         "a22hh3y8",
         "Person",
         "contributor"
        ],
        [
         "23",
         "Hartstein, Jack, 1924-",
         "a22hndxd",
         "Person",
         "contributor"
        ],
        [
         "24",
         "Prujean, Thomas, 1622 or 1623-1662.",
         "a22jzkjd",
         "Person",
         "subject"
        ],
        [
         "25",
         "Freeport, Andrew",
         "a22mar23",
         "Person",
         "contributor"
        ],
        [
         "26",
         "Databases as Topic - organization & administration",
         "a22mr8u2",
         "Concept",
         "subject"
        ],
        [
         "27",
         "Ideler, Julius Ludwig, 1809-1842",
         "a22ncx9p",
         "Person",
         "contributor"
        ],
        [
         "28",
         "Fournier, Alfred Jean, 1832-1914",
         "a22sv4sw",
         "Agent",
         "contributor"
        ],
        [
         "29",
         "Royal College of Surgeons in London",
         "a22vrvk4",
         "Organisation",
         "subject"
        ],
        [
         "30",
         "Royal College of Surgeons in London.",
         "a22vrvk4",
         "Organisation",
         "contributor"
        ],
        [
         "31",
         "Hernia, Inguinal, therapy",
         "a22xqhjs",
         "Concept",
         "subject"
        ],
        [
         "32",
         "Poor families",
         "a22xr2nw",
         "Concept",
         "subject"
        ],
        [
         "33",
         "Scrimshaw, Jane, 1584-1711.",
         "a22xt94e",
         "Person",
         "subject"
        ],
        [
         "34",
         "Foster, William",
         "a232zjf3",
         "Person",
         "contributor"
        ],
        [
         "35",
         "Foster, William.",
         "a232zjf3",
         "Person",
         "subject"
        ],
        [
         "36",
         "Foster, William.",
         "a232zjf3",
         "Person",
         "contributor"
        ],
        [
         "37",
         "da Silva, Christiano",
         "a2346x74",
         "Person",
         "contributor"
        ],
        [
         "38",
         "Steam-heating",
         "a235krft",
         "Concept",
         "subject"
        ],
        [
         "39",
         "Dental Restoration, Temporary",
         "a239x46b",
         "Concept",
         "subject"
        ],
        [
         "40",
         "London Black MESMAC",
         "a23ajhj3",
         "Organisation",
         "contributor"
        ],
        [
         "41",
         "London Black Mesmac",
         "a23ajhj3",
         "Organisation",
         "contributor"
        ],
        [
         "42",
         "Fellows, Julian R. (Julian Robert), 1900-1985.",
         "a23c6tr6",
         "Person",
         "contributor"
        ],
        [
         "43",
         "Subba Reddy, D. V., 1899-1987",
         "a23cjx8a",
         "Person",
         "contributor"
        ],
        [
         "44",
         "Subba Reddy, D. V., 1899-1987.",
         "a23cjx8a",
         "Person",
         "contributor"
        ],
        [
         "45",
         "Subba Reddy, D. V., 1899-1987.",
         "a23cjx8a",
         "Person",
         "subject"
        ],
        [
         "46",
         "Pneumonia",
         "a23f6ptg",
         "Concept",
         "subject"
        ],
        [
         "47",
         "Pneumonia - Child",
         "a23f6ptg",
         "Concept",
         "subject"
        ],
        [
         "48",
         "Pneumonia - Child, Preschool",
         "a23f6ptg",
         "Concept",
         "subject"
        ],
        [
         "49",
         "Pneumonia - Infant",
         "a23f6ptg",
         "Concept",
         "subject"
        ]
       ],
       "shape": {
        "columns": 4,
        "rows": 646786
       }
      },
      "text/html": [
       "<div>\n",
       "<style scoped>\n",
       "    .dataframe tbody tr th:only-of-type {\n",
       "        vertical-align: middle;\n",
       "    }\n",
       "\n",
       "    .dataframe tbody tr th {\n",
       "        vertical-align: top;\n",
       "    }\n",
       "\n",
       "    .dataframe thead th {\n",
       "        text-align: right;\n",
       "    }\n",
       "</style>\n",
       "<table border=\"1\" class=\"dataframe\">\n",
       "  <thead>\n",
       "    <tr style=\"text-align: right;\">\n",
       "      <th></th>\n",
       "      <th>label</th>\n",
       "      <th>id</th>\n",
       "      <th>type</th>\n",
       "      <th>source</th>\n",
       "    </tr>\n",
       "    <tr>\n",
       "      <th>idx</th>\n",
       "      <th></th>\n",
       "      <th></th>\n",
       "      <th></th>\n",
       "      <th></th>\n",
       "    </tr>\n",
       "  </thead>\n",
       "  <tbody>\n",
       "    <tr>\n",
       "      <th>0</th>\n",
       "      <td>Children</td>\n",
       "      <td>null00000</td>\n",
       "      <td>missing</td>\n",
       "      <td>subject</td>\n",
       "    </tr>\n",
       "    <tr>\n",
       "      <th>1</th>\n",
       "      <td>Criminal law</td>\n",
       "      <td>null00001</td>\n",
       "      <td>missing</td>\n",
       "      <td>subject</td>\n",
       "    </tr>\n",
       "    <tr>\n",
       "      <th>2</th>\n",
       "      <td>Gender roles</td>\n",
       "      <td>null00002</td>\n",
       "      <td>missing</td>\n",
       "      <td>subject</td>\n",
       "    </tr>\n",
       "    <tr>\n",
       "      <th>3</th>\n",
       "      <td>Law</td>\n",
       "      <td>null00003</td>\n",
       "      <td>missing</td>\n",
       "      <td>subject</td>\n",
       "    </tr>\n",
       "    <tr>\n",
       "      <th>4</th>\n",
       "      <td>Police</td>\n",
       "      <td>null00004</td>\n",
       "      <td>missing</td>\n",
       "      <td>subject</td>\n",
       "    </tr>\n",
       "    <tr>\n",
       "      <th>...</th>\n",
       "      <td>...</td>\n",
       "      <td>...</td>\n",
       "      <td>...</td>\n",
       "      <td>...</td>\n",
       "    </tr>\n",
       "    <tr>\n",
       "      <th>646781</th>\n",
       "      <td>Pregnant teenagers - Great Britain - Diaries</td>\n",
       "      <td>zzzvtr3f</td>\n",
       "      <td>Concept</td>\n",
       "      <td>subject</td>\n",
       "    </tr>\n",
       "    <tr>\n",
       "      <th>646782</th>\n",
       "      <td>Maddox, Lucy</td>\n",
       "      <td>zzzw65be</td>\n",
       "      <td>Person</td>\n",
       "      <td>contributor</td>\n",
       "    </tr>\n",
       "    <tr>\n",
       "      <th>646783</th>\n",
       "      <td>Rockliffe, Richard William.</td>\n",
       "      <td>zzzwgbkn</td>\n",
       "      <td>Person</td>\n",
       "      <td>contributor</td>\n",
       "    </tr>\n",
       "    <tr>\n",
       "      <th>646784</th>\n",
       "      <td>Aneurysm - drug therapy</td>\n",
       "      <td>zzzygqw9</td>\n",
       "      <td>Concept</td>\n",
       "      <td>subject</td>\n",
       "    </tr>\n",
       "    <tr>\n",
       "      <th>646785</th>\n",
       "      <td>Gottfried, Robert Steven, 1949-</td>\n",
       "      <td>zzzyybvk</td>\n",
       "      <td>Person</td>\n",
       "      <td>contributor</td>\n",
       "    </tr>\n",
       "  </tbody>\n",
       "</table>\n",
       "<p>646786 rows × 4 columns</p>\n",
       "</div>"
      ],
      "text/plain": [
       "                                               label         id     type  \\\n",
       "idx                                                                        \n",
       "0                                           Children  null00000  missing   \n",
       "1                                       Criminal law  null00001  missing   \n",
       "2                                       Gender roles  null00002  missing   \n",
       "3                                                Law  null00003  missing   \n",
       "4                                             Police  null00004  missing   \n",
       "...                                              ...        ...      ...   \n",
       "646781  Pregnant teenagers - Great Britain - Diaries   zzzvtr3f  Concept   \n",
       "646782                                  Maddox, Lucy   zzzw65be   Person   \n",
       "646783                   Rockliffe, Richard William.   zzzwgbkn   Person   \n",
       "646784                       Aneurysm - drug therapy   zzzygqw9  Concept   \n",
       "646785               Gottfried, Robert Steven, 1949-   zzzyybvk   Person   \n",
       "\n",
       "             source  \n",
       "idx                  \n",
       "0           subject  \n",
       "1           subject  \n",
       "2           subject  \n",
       "3           subject  \n",
       "4           subject  \n",
       "...             ...  \n",
       "646781      subject  \n",
       "646782  contributor  \n",
       "646783  contributor  \n",
       "646784      subject  \n",
       "646785  contributor  \n",
       "\n",
       "[646786 rows x 4 columns]"
      ]
     },
     "execution_count": 6,
     "metadata": {},
     "output_type": "execute_result"
    }
   ],
   "source": [
    "import pandas as pd\n",
    "from wc_simd.dedupe_service import dedup_data_file\n",
    "dedup_data = pd.read_csv(\"../\" + dedup_data_file, index_col=0)\n",
    "\n",
    "# force all columns to string type\n",
    "dedup_data = dedup_data.astype(str)\n",
    "\n",
    "dedup_data"
   ]
  },
  {
   "cell_type": "markdown",
   "id": "1105cc51",
   "metadata": {},
   "source": [
    "# Create blocking map"
   ]
  },
  {
   "cell_type": "markdown",
   "id": "da56b2b9",
   "metadata": {},
   "source": [
    "### Spark Blocking"
   ]
  },
  {
   "cell_type": "code",
   "execution_count": null,
   "id": "acee82cf",
   "metadata": {},
   "outputs": [],
   "source": [
    "dedup_data_df = spark.createDataFrame(dedup_data)"
   ]
  },
  {
   "cell_type": "code",
   "execution_count": null,
   "id": "6d944c39",
   "metadata": {},
   "outputs": [
    {
     "data": {
      "text/plain": [
       "64"
      ]
     },
     "metadata": {},
     "output_type": "display_data"
    }
   ],
   "source": [
    "dedup_data_df.rdd.getNumPartitions()"
   ]
  },
  {
   "cell_type": "code",
   "execution_count": null,
   "id": "a97ecd6e",
   "metadata": {},
   "outputs": [
    {
     "name": "stdout",
     "output_type": "stream",
     "text": [
      "+---+--------------------+---------+-------+-----------+\n",
      "|idx|               label|       id|   type|     source|\n",
      "+---+--------------------+---------+-------+-----------+\n",
      "|  0|            Children|null00000|missing|    subject|\n",
      "|  1|        Criminal law|null00001|missing|    subject|\n",
      "|  2|        Gender roles|null00002|missing|    subject|\n",
      "|  3|                 Law|null00003|missing|    subject|\n",
      "|  4|              Police|null00004|missing|    subject|\n",
      "|  5|               Women|null00005|missing|    subject|\n",
      "|  6|               Womyn|null00006|missing|    subject|\n",
      "|  7|               Youth|null00007|missing|    subject|\n",
      "|  8|Circle of State L...| a2233f9d|Meeting|contributor|\n",
      "|  9|Nelson, Geoffrey ...| a223f5a6| Person|contributor|\n",
      "| 10|           Wolff, G.| a2249bxm| Person|contributor|\n",
      "| 11|       Jones, John E| a224b9mp| Person|contributor|\n",
      "| 12|      Jones, John E.| a224b9mp| Person|contributor|\n",
      "| 13|Hulverscheidt, Ma...| a224rx5x| Person|contributor|\n",
      "| 14|Zimmermann, Wilhelm.| a224tns9| Person|contributor|\n",
      "| 15|         Gaur, June.| a2258t8s| Person|contributor|\n",
      "| 16|South Cambridgesh...| a22auf32|  Place|    subject|\n",
      "| 17|Orel, Harold, 192...| a22d6ehy| Person|contributor|\n",
      "| 18| Brown, Bruce, 1942-| a22d7muq| Person|contributor|\n",
      "| 19|Economic developm...| a22ddxvt|Concept|    subject|\n",
      "+---+--------------------+---------+-------+-----------+\n",
      "only showing top 20 rows\n",
      "\n"
     ]
    },
    {
     "name": "stderr",
     "output_type": "stream",
     "text": [
      "                                                                                \r"
     ]
    }
   ],
   "source": [
    "dedup_data_df.show()"
   ]
  },
  {
   "cell_type": "code",
   "execution_count": null,
   "id": "179edfee",
   "metadata": {},
   "outputs": [
    {
     "name": "stderr",
     "output_type": "stream",
     "text": [
      "[Stage 25:>                                                         (0 + 1) / 1]\r"
     ]
    },
    {
     "name": "stdout",
     "output_type": "stream",
     "text": [
      "+---------+---+\n",
      "|block_key|idx|\n",
      "+---------+---+\n",
      "|      1:0|  0|\n",
      "|      1:1|  0|\n",
      "|      2:0|  1|\n",
      "|      3:0|  2|\n",
      "|      4:0|  3|\n",
      "|      4:1|  3|\n",
      "|      5:0|  4|\n",
      "|      6:0|  5|\n",
      "|      6:1|  5|\n",
      "|      6:0|  6|\n",
      "|      7:1|  6|\n",
      "|      8:0|  7|\n",
      "|      8:1|  7|\n",
      "|      9:0|  8|\n",
      "|     10:0|  9|\n",
      "|     10:1|  9|\n",
      "|     11:0| 10|\n",
      "|     11:1| 10|\n",
      "|     12:0| 11|\n",
      "|     12:1| 11|\n",
      "+---------+---+\n",
      "only showing top 20 rows\n",
      "\n"
     ]
    },
    {
     "name": "stderr",
     "output_type": "stream",
     "text": [
      "                                                                                \r"
     ]
    }
   ],
   "source": [
    "from pyspark.sql.types import StructType, StructField, StringType, DoubleType, IntegerType\n",
    "import pandas as pd\n",
    "from wc_simd.dedupe_service import settings_file\n",
    "from dedupe import StaticDedupe\n",
    "from typing import Iterator\n",
    "\n",
    "\n",
    "def block_pandas(iterator: Iterator[pd.DataFrame]) -> Iterator[pd.DataFrame]:\n",
    "\n",
    "    for pdf in iterator:\n",
    "        with open(\"../\" + settings_file, 'rb') as f:\n",
    "            dedupe = StaticDedupe(f, num_cores=1)\n",
    "\n",
    "        for field in dedupe.fingerprinter.index_fields:\n",
    "            field_data = pdf[field].dropna().unique()\n",
    "            dedupe.fingerprinter.index(field_data, field)\n",
    "\n",
    "        fingerprint_data = ((row.idx, dict(label=row.label, type=row.type))\n",
    "                            for idx, row in pdf.iterrows())\n",
    "        blocked_data = dedupe.fingerprinter(fingerprint_data)\n",
    "\n",
    "        yield pd.DataFrame(blocked_data, columns=[\"block_key\", \"idx\"])\n",
    "\n",
    "\n",
    "blocked_schema = StructType([\n",
    "    StructField(\"block_key\", StringType(), True),\n",
    "    StructField(\"idx\", IntegerType(), True),\n",
    "])\n",
    "\n",
    "blocked_df = dedup_data_df.mapInPandas(\n",
    "    block_pandas, schema=blocked_schema)\n",
    "blocked_df.show()"
   ]
  },
  {
   "cell_type": "code",
   "execution_count": null,
   "id": "40e26d1b",
   "metadata": {},
   "outputs": [
    {
     "name": "stderr",
     "output_type": "stream",
     "text": [
      "                                                                                \r"
     ]
    }
   ],
   "source": [
    "blocked_df.write.mode(\"overwrite\").saveAsTable(\"dn_label_blocks\")"
   ]
  },
  {
   "cell_type": "code",
   "execution_count": null,
   "id": "e0c06f1a",
   "metadata": {},
   "outputs": [],
   "source": [
    "blocked_df = spark.table(\"dn_label_blocks\")"
   ]
  },
  {
   "cell_type": "code",
   "execution_count": null,
   "id": "6d8065e0",
   "metadata": {},
   "outputs": [
    {
     "data": {
      "application/vnd.microsoft.datawrangler.viewer.v0+json": {
       "columns": [
        {
         "name": "index",
         "rawType": "int64",
         "type": "integer"
        },
        {
         "name": "block_key",
         "rawType": "object",
         "type": "string"
        },
        {
         "name": "idx",
         "rawType": "int32",
         "type": "integer"
        }
       ],
       "ref": "97b5d432-55ba-40b2-b407-7fa2f925c0a4",
       "rows": [
        [
         "0",
         "1:0",
         "141312"
        ],
        [
         "1",
         "2:0",
         "141313"
        ],
        [
         "2",
         "2:1",
         "141313"
        ],
        [
         "3",
         "3:0",
         "141314"
        ],
        [
         "4",
         "4:0",
         "141315"
        ],
        [
         "5",
         "5:0",
         "141316"
        ],
        [
         "6",
         "5:1",
         "141316"
        ],
        [
         "7",
         "6:0",
         "141317"
        ],
        [
         "8",
         "7:0",
         "141318"
        ],
        [
         "9",
         "8:0",
         "141319"
        ],
        [
         "10",
         "8:0",
         "141320"
        ],
        [
         "11",
         "9:0",
         "141321"
        ],
        [
         "12",
         "9:1",
         "141321"
        ],
        [
         "13",
         "10:0",
         "141322"
        ],
        [
         "14",
         "11:0",
         "141323"
        ],
        [
         "15",
         "12:0",
         "141324"
        ],
        [
         "16",
         "12:1",
         "141324"
        ],
        [
         "17",
         "13:0",
         "141325"
        ],
        [
         "18",
         "13:0",
         "141326"
        ],
        [
         "19",
         "13:0",
         "141327"
        ],
        [
         "20",
         "14:0",
         "141328"
        ],
        [
         "21",
         "15:0",
         "141329"
        ],
        [
         "22",
         "15:1",
         "141329"
        ],
        [
         "23",
         "15:0",
         "141330"
        ],
        [
         "24",
         "15:1",
         "141330"
        ],
        [
         "25",
         "16:0",
         "141331"
        ],
        [
         "26",
         "17:0",
         "141332"
        ],
        [
         "27",
         "18:0",
         "141333"
        ],
        [
         "28",
         "19:0",
         "141334"
        ],
        [
         "29",
         "20:0",
         "141335"
        ],
        [
         "30",
         "20:1",
         "141335"
        ],
        [
         "31",
         "21:0",
         "141336"
        ],
        [
         "32",
         "21:1",
         "141336"
        ],
        [
         "33",
         "21:0",
         "141337"
        ],
        [
         "34",
         "22:1",
         "141337"
        ],
        [
         "35",
         "23:0",
         "141338"
        ],
        [
         "36",
         "23:1",
         "141338"
        ],
        [
         "37",
         "24:0",
         "141339"
        ],
        [
         "38",
         "24:1",
         "141339"
        ],
        [
         "39",
         "25:0",
         "141340"
        ],
        [
         "40",
         "26:0",
         "141341"
        ],
        [
         "41",
         "27:0",
         "141342"
        ],
        [
         "42",
         "27:1",
         "141342"
        ],
        [
         "43",
         "28:0",
         "141343"
        ],
        [
         "44",
         "28:1",
         "141343"
        ],
        [
         "45",
         "29:0",
         "141344"
        ],
        [
         "46",
         "29:1",
         "141344"
        ],
        [
         "47",
         "30:0",
         "141345"
        ],
        [
         "48",
         "31:0",
         "141346"
        ],
        [
         "49",
         "31:1",
         "141346"
        ]
       ],
       "shape": {
        "columns": 2,
        "rows": 938460
       }
      },
      "text/html": [
       "<div>\n",
       "<style scoped>\n",
       "    .dataframe tbody tr th:only-of-type {\n",
       "        vertical-align: middle;\n",
       "    }\n",
       "\n",
       "    .dataframe tbody tr th {\n",
       "        vertical-align: top;\n",
       "    }\n",
       "\n",
       "    .dataframe thead th {\n",
       "        text-align: right;\n",
       "    }\n",
       "</style>\n",
       "<table border=\"1\" class=\"dataframe\">\n",
       "  <thead>\n",
       "    <tr style=\"text-align: right;\">\n",
       "      <th></th>\n",
       "      <th>block_key</th>\n",
       "      <th>idx</th>\n",
       "    </tr>\n",
       "  </thead>\n",
       "  <tbody>\n",
       "    <tr>\n",
       "      <th>0</th>\n",
       "      <td>1:0</td>\n",
       "      <td>141312</td>\n",
       "    </tr>\n",
       "    <tr>\n",
       "      <th>1</th>\n",
       "      <td>2:0</td>\n",
       "      <td>141313</td>\n",
       "    </tr>\n",
       "    <tr>\n",
       "      <th>2</th>\n",
       "      <td>2:1</td>\n",
       "      <td>141313</td>\n",
       "    </tr>\n",
       "    <tr>\n",
       "      <th>3</th>\n",
       "      <td>3:0</td>\n",
       "      <td>141314</td>\n",
       "    </tr>\n",
       "    <tr>\n",
       "      <th>4</th>\n",
       "      <td>4:0</td>\n",
       "      <td>141315</td>\n",
       "    </tr>\n",
       "    <tr>\n",
       "      <th>...</th>\n",
       "      <td>...</td>\n",
       "      <td>...</td>\n",
       "    </tr>\n",
       "    <tr>\n",
       "      <th>938455</th>\n",
       "      <td>8587:1</td>\n",
       "      <td>9212</td>\n",
       "    </tr>\n",
       "    <tr>\n",
       "      <th>938456</th>\n",
       "      <td>8587:0</td>\n",
       "      <td>9213</td>\n",
       "    </tr>\n",
       "    <tr>\n",
       "      <th>938457</th>\n",
       "      <td>8587:1</td>\n",
       "      <td>9213</td>\n",
       "    </tr>\n",
       "    <tr>\n",
       "      <th>938458</th>\n",
       "      <td>8588:0</td>\n",
       "      <td>9214</td>\n",
       "    </tr>\n",
       "    <tr>\n",
       "      <th>938459</th>\n",
       "      <td>8589:0</td>\n",
       "      <td>9215</td>\n",
       "    </tr>\n",
       "  </tbody>\n",
       "</table>\n",
       "<p>938460 rows × 2 columns</p>\n",
       "</div>"
      ],
      "text/plain": [
       "       block_key     idx\n",
       "0            1:0  141312\n",
       "1            2:0  141313\n",
       "2            2:1  141313\n",
       "3            3:0  141314\n",
       "4            4:0  141315\n",
       "...          ...     ...\n",
       "938455    8587:1    9212\n",
       "938456    8587:0    9213\n",
       "938457    8587:1    9213\n",
       "938458    8588:0    9214\n",
       "938459    8589:0    9215\n",
       "\n",
       "[938460 rows x 2 columns]"
      ]
     },
     "metadata": {},
     "output_type": "display_data"
    }
   ],
   "source": [
    "blocking_map_df = blocked_df.toPandas()\n",
    "# blocking_map_df.set_index(\"idx\", inplace=True, drop=False)\n",
    "blocking_map_df"
   ]
  },
  {
   "cell_type": "markdown",
   "id": "4d1ac01e",
   "metadata": {},
   "source": [
    "### Non-Spark blocking"
   ]
  },
  {
   "cell_type": "code",
   "execution_count": null,
   "id": "f437505a",
   "metadata": {},
   "outputs": [
    {
     "name": "stderr",
     "output_type": "stream",
     "text": [
      "INFO:dedupe.api:Predicate set:\n",
      "INFO:dedupe.api:SimplePredicate: (firstTwoTokensPredicate, label)\n",
      "INFO:dedupe.api:SimplePredicate: (oneGramFingerprint, label)\n"
     ]
    }
   ],
   "source": [
    "from wc_simd.dedupe_service import settings_file\n",
    "from dedupe import StaticDedupe\n",
    "\n",
    "\n",
    "with open(\"../\" + settings_file, 'rb') as f:\n",
    "    dedupe = StaticDedupe(f, num_cores=8)\n",
    "\n",
    "for field in dedupe.fingerprinter.index_fields:\n",
    "    print(f\"Indexing field: {field}\")\n",
    "    field_data = dedup_data[field].dropna().unique()\n",
    "    dedupe.fingerprinter.index(field_data, field)\n",
    "\n",
    "fingerprint_data = ((idx, dict(label=row.label, type=row.type)) for idx, row in dedup_data.iterrows())\n",
    "blocked_data = dedupe.fingerprinter(fingerprint_data)"
   ]
  },
  {
   "cell_type": "code",
   "execution_count": null,
   "id": "3447c024",
   "metadata": {},
   "outputs": [
    {
     "name": "stderr",
     "output_type": "stream",
     "text": [
      "INFO:dedupe.blocking:10000, 0.6576412 seconds\n",
      "INFO:dedupe.blocking:20000, 1.2528772 seconds\n",
      "INFO:dedupe.blocking:30000, 1.8461682 seconds\n",
      "INFO:dedupe.blocking:40000, 2.4414742 seconds\n",
      "INFO:dedupe.blocking:50000, 3.0324152 seconds\n",
      "INFO:dedupe.blocking:60000, 3.6229272 seconds\n",
      "INFO:dedupe.blocking:70000, 4.2134852 seconds\n",
      "INFO:dedupe.blocking:80000, 4.8062192 seconds\n",
      "INFO:dedupe.blocking:90000, 5.3969642 seconds\n",
      "INFO:dedupe.blocking:100000, 5.9892732 seconds\n",
      "INFO:dedupe.blocking:110000, 6.5806282 seconds\n",
      "INFO:dedupe.blocking:120000, 7.1722862 seconds\n",
      "INFO:dedupe.blocking:130000, 7.7620202 seconds\n",
      "INFO:dedupe.blocking:140000, 8.3527662 seconds\n",
      "INFO:dedupe.blocking:150000, 8.9478982 seconds\n",
      "INFO:dedupe.blocking:160000, 9.5412722 seconds\n",
      "INFO:dedupe.blocking:170000, 10.1313692 seconds\n",
      "INFO:dedupe.blocking:180000, 10.7233462 seconds\n",
      "INFO:dedupe.blocking:190000, 11.3171742 seconds\n",
      "INFO:dedupe.blocking:200000, 11.9110692 seconds\n",
      "INFO:dedupe.blocking:210000, 12.5069032 seconds\n",
      "INFO:dedupe.blocking:220000, 13.1025012 seconds\n",
      "INFO:dedupe.blocking:230000, 13.6972602 seconds\n",
      "INFO:dedupe.blocking:240000, 14.2930742 seconds\n",
      "INFO:dedupe.blocking:250000, 14.8867422 seconds\n",
      "INFO:dedupe.blocking:260000, 15.4832512 seconds\n",
      "INFO:dedupe.blocking:270000, 16.0783832 seconds\n",
      "INFO:dedupe.blocking:280000, 16.6689052 seconds\n",
      "INFO:dedupe.blocking:290000, 17.2606192 seconds\n",
      "INFO:dedupe.blocking:300000, 17.8544952 seconds\n",
      "INFO:dedupe.blocking:310000, 18.4480562 seconds\n",
      "INFO:dedupe.blocking:320000, 19.0405582 seconds\n",
      "INFO:dedupe.blocking:330000, 19.6315492 seconds\n",
      "INFO:dedupe.blocking:340000, 20.2226702 seconds\n",
      "INFO:dedupe.blocking:350000, 20.8151232 seconds\n",
      "INFO:dedupe.blocking:360000, 21.4068812 seconds\n",
      "INFO:dedupe.blocking:370000, 21.9977302 seconds\n",
      "INFO:dedupe.blocking:380000, 22.5922742 seconds\n",
      "INFO:dedupe.blocking:390000, 23.1872602 seconds\n",
      "INFO:dedupe.blocking:400000, 23.7804602 seconds\n",
      "INFO:dedupe.blocking:410000, 24.3770202 seconds\n",
      "INFO:dedupe.blocking:420000, 24.9728022 seconds\n",
      "INFO:dedupe.blocking:430000, 25.5679872 seconds\n",
      "INFO:dedupe.blocking:440000, 26.1613792 seconds\n",
      "INFO:dedupe.blocking:450000, 26.7525252 seconds\n",
      "INFO:dedupe.blocking:460000, 27.3466252 seconds\n",
      "INFO:dedupe.blocking:470000, 27.9393162 seconds\n",
      "INFO:dedupe.blocking:480000, 28.5317962 seconds\n",
      "INFO:dedupe.blocking:490000, 29.1244502 seconds\n",
      "INFO:dedupe.blocking:500000, 29.7151162 seconds\n",
      "INFO:dedupe.blocking:510000, 30.3084342 seconds\n",
      "INFO:dedupe.blocking:520000, 30.8999582 seconds\n",
      "INFO:dedupe.blocking:530000, 31.4870982 seconds\n",
      "INFO:dedupe.blocking:540000, 32.0870092 seconds\n",
      "INFO:dedupe.blocking:550000, 32.6784542 seconds\n",
      "INFO:dedupe.blocking:560000, 33.2722792 seconds\n",
      "INFO:dedupe.blocking:570000, 33.8649062 seconds\n",
      "INFO:dedupe.blocking:580000, 34.4556632 seconds\n",
      "INFO:dedupe.blocking:590000, 35.0466792 seconds\n",
      "INFO:dedupe.blocking:600000, 35.6354782 seconds\n",
      "INFO:dedupe.blocking:610000, 36.2250852 seconds\n",
      "INFO:dedupe.blocking:620000, 36.8164472 seconds\n",
      "INFO:dedupe.blocking:630000, 37.4093662 seconds\n",
      "INFO:dedupe.blocking:640000, 37.9993442 seconds\n"
     ]
    },
    {
     "data": {
      "application/vnd.microsoft.datawrangler.viewer.v0+json": {
       "columns": [
        {
         "name": "block_key",
         "rawType": "object",
         "type": "string"
        },
        {
         "name": "idx",
         "rawType": "int64",
         "type": "integer"
        }
       ],
       "ref": "de9726e4-8b8c-45f4-b9e4-27c19152d627",
       "rows": [
        [
         "Cdehilnr:1",
         "0"
        ],
        [
         "Criminal law:0",
         "1"
        ],
        [
         "Cailmnrw:1",
         "1"
        ],
        [
         "Gender roles:0",
         "2"
        ],
        [
         "Gdelnors:1",
         "2"
        ],
        [
         "Law:1",
         "3"
        ],
        [
         "Pceilo:1",
         "4"
        ],
        [
         "Wemno:1",
         "5"
        ],
        [
         "Wmnoy:1",
         "6"
        ],
        [
         "Yhotu:1",
         "7"
        ],
        [
         "Circle of:0",
         "8"
        ],
        [
         "179CEKLSabcdefgilnorstw:1",
         "8"
        ],
        [
         "Nelson Geoffrey:0",
         "9"
        ],
        [
         "BGNaefilnorsy:1",
         "9"
        ],
        [
         "Wolff G:0",
         "10"
        ],
        [
         "GWflo:1",
         "10"
        ],
        [
         "Jones John:0",
         "11"
        ],
        [
         "EJehnos:1",
         "11"
        ],
        [
         "Jones John:0",
         "12"
        ],
        [
         "EJehnos:1",
         "12"
        ],
        [
         "Hulverscheidt Marion:0",
         "13"
        ],
        [
         "0179HMacdehilnorstuv:1",
         "13"
        ],
        [
         "Zimmermann Wilhelm:0",
         "14"
        ],
        [
         "WZaehilmnr:1",
         "14"
        ],
        [
         "Gaur June:0",
         "15"
        ],
        [
         "GJaenru:1",
         "15"
        ],
        [
         "South Cambridgeshire:0",
         "16"
        ],
        [
         "CESabdeghilmnorstu:1",
         "16"
        ],
        [
         "Orel Harold:0",
         "17"
        ],
        [
         "012679HOadelor:1",
         "17"
        ],
        [
         "Brown Bruce:0",
         "18"
        ],
        [
         "1249Bcenoruw:1",
         "18"
        ],
        [
         "Economic development:0",
         "19"
        ],
        [
         "EHcdeilmnoprstvy:1",
         "19"
        ],
        [
         "Shugar Andrea:0",
         "20"
        ],
        [
         "ASadeghnru:1",
         "20"
        ],
        [
         "Bruce Edinburgh:0",
         "21"
        ],
        [
         "BESabcdeghilnortu:1",
         "21"
        ],
        [
         "Cheeseman Thomas:0",
         "22"
        ],
        [
         "0135678CTaehilmnoprstxy:1",
         "22"
        ],
        [
         "Hartstein Jack:0",
         "23"
        ],
        [
         "1249HJaceiknrst:1",
         "23"
        ],
        [
         "Prujean Thomas:0",
         "24"
        ],
        [
         "1236PTaehjmnorsu:1",
         "24"
        ],
        [
         "Freeport Andrew:0",
         "25"
        ],
        [
         "AFdenoprtw:1",
         "25"
        ],
        [
         "Databases as:0",
         "26"
        ],
        [
         "DTabcdegimnoprstz:1",
         "26"
        ],
        [
         "Ideler Julius:0",
         "27"
        ],
        [
         "012489IJLdegilrsuw:1",
         "27"
        ]
       ],
       "shape": {
        "columns": 1,
        "rows": 1268190
       }
      },
      "text/html": [
       "<div>\n",
       "<style scoped>\n",
       "    .dataframe tbody tr th:only-of-type {\n",
       "        vertical-align: middle;\n",
       "    }\n",
       "\n",
       "    .dataframe tbody tr th {\n",
       "        vertical-align: top;\n",
       "    }\n",
       "\n",
       "    .dataframe thead th {\n",
       "        text-align: right;\n",
       "    }\n",
       "</style>\n",
       "<table border=\"1\" class=\"dataframe\">\n",
       "  <thead>\n",
       "    <tr style=\"text-align: right;\">\n",
       "      <th></th>\n",
       "      <th>idx</th>\n",
       "    </tr>\n",
       "    <tr>\n",
       "      <th>block_key</th>\n",
       "      <th></th>\n",
       "    </tr>\n",
       "  </thead>\n",
       "  <tbody>\n",
       "    <tr>\n",
       "      <th>Cdehilnr:1</th>\n",
       "      <td>0</td>\n",
       "    </tr>\n",
       "    <tr>\n",
       "      <th>Criminal law:0</th>\n",
       "      <td>1</td>\n",
       "    </tr>\n",
       "    <tr>\n",
       "      <th>Cailmnrw:1</th>\n",
       "      <td>1</td>\n",
       "    </tr>\n",
       "    <tr>\n",
       "      <th>Gender roles:0</th>\n",
       "      <td>2</td>\n",
       "    </tr>\n",
       "    <tr>\n",
       "      <th>Gdelnors:1</th>\n",
       "      <td>2</td>\n",
       "    </tr>\n",
       "    <tr>\n",
       "      <th>...</th>\n",
       "      <td>...</td>\n",
       "    </tr>\n",
       "    <tr>\n",
       "      <th>RWacdefhiklmor:1</th>\n",
       "      <td>646783</td>\n",
       "    </tr>\n",
       "    <tr>\n",
       "      <th>Aneurysm drug:0</th>\n",
       "      <td>646784</td>\n",
       "    </tr>\n",
       "    <tr>\n",
       "      <th>Aadeghmnprstuy:1</th>\n",
       "      <td>646784</td>\n",
       "    </tr>\n",
       "    <tr>\n",
       "      <th>Gottfried Robert:0</th>\n",
       "      <td>646785</td>\n",
       "    </tr>\n",
       "    <tr>\n",
       "      <th>149GRSbdefinortv:1</th>\n",
       "      <td>646785</td>\n",
       "    </tr>\n",
       "  </tbody>\n",
       "</table>\n",
       "<p>1268190 rows × 1 columns</p>\n",
       "</div>"
      ],
      "text/plain": [
       "                       idx\n",
       "block_key                 \n",
       "Cdehilnr:1               0\n",
       "Criminal law:0           1\n",
       "Cailmnrw:1               1\n",
       "Gender roles:0           2\n",
       "Gdelnors:1               2\n",
       "...                    ...\n",
       "RWacdefhiklmor:1    646783\n",
       "Aneurysm drug:0     646784\n",
       "Aadeghmnprstuy:1    646784\n",
       "Gottfried Robert:0  646785\n",
       "149GRSbdefinortv:1  646785\n",
       "\n",
       "[1268190 rows x 1 columns]"
      ]
     },
     "metadata": {},
     "output_type": "display_data"
    }
   ],
   "source": [
    "blocking_map_df = pd.DataFrame(blocked_data, columns=[\"block_key\", \"idx\"])\n",
    "blocking_map_df.set_index(\"block_key\", inplace=True)\n",
    "blocking_map_df.to_csv(\"../data/dn_blocking_map.csv\", index=True)\n",
    "blocking_map_df"
   ]
  },
  {
   "cell_type": "code",
   "execution_count": null,
   "id": "3282912d",
   "metadata": {},
   "outputs": [],
   "source": [
    "# Check idx column type\n",
    "blocking_map_df[\"idx\"] = blocking_map_df[\"idx\"].astype(int)"
   ]
  },
  {
   "cell_type": "code",
   "execution_count": null,
   "id": "c7492f9f",
   "metadata": {},
   "outputs": [
    {
     "data": {
      "application/vnd.microsoft.datawrangler.viewer.v0+json": {
       "columns": [
        {
         "name": "block_key",
         "rawType": "object",
         "type": "string"
        },
        {
         "name": "idx",
         "rawType": "int64",
         "type": "integer"
        }
       ],
       "ref": "680a0668-4539-47b9-82ee-6097208c3d05",
       "rows": [
        [
         "Cdehilnr:1",
         "0"
        ],
        [
         "Criminal law:0",
         "1"
        ],
        [
         "Cailmnrw:1",
         "1"
        ],
        [
         "Gender roles:0",
         "2"
        ],
        [
         "Gdelnors:1",
         "2"
        ],
        [
         "Law:1",
         "3"
        ],
        [
         "Pceilo:1",
         "4"
        ],
        [
         "Wemno:1",
         "5"
        ],
        [
         "Wmnoy:1",
         "6"
        ],
        [
         "Yhotu:1",
         "7"
        ],
        [
         "Circle of:0",
         "8"
        ],
        [
         "179CEKLSabcdefgilnorstw:1",
         "8"
        ],
        [
         "Nelson Geoffrey:0",
         "9"
        ],
        [
         "BGNaefilnorsy:1",
         "9"
        ],
        [
         "Wolff G:0",
         "10"
        ],
        [
         "GWflo:1",
         "10"
        ],
        [
         "Jones John:0",
         "11"
        ],
        [
         "EJehnos:1",
         "11"
        ],
        [
         "Jones John:0",
         "12"
        ],
        [
         "EJehnos:1",
         "12"
        ],
        [
         "Hulverscheidt Marion:0",
         "13"
        ],
        [
         "0179HMacdehilnorstuv:1",
         "13"
        ],
        [
         "Zimmermann Wilhelm:0",
         "14"
        ],
        [
         "WZaehilmnr:1",
         "14"
        ],
        [
         "Gaur June:0",
         "15"
        ],
        [
         "GJaenru:1",
         "15"
        ],
        [
         "South Cambridgeshire:0",
         "16"
        ],
        [
         "CESabdeghilmnorstu:1",
         "16"
        ],
        [
         "Orel Harold:0",
         "17"
        ],
        [
         "012679HOadelor:1",
         "17"
        ],
        [
         "Brown Bruce:0",
         "18"
        ],
        [
         "1249Bcenoruw:1",
         "18"
        ],
        [
         "Economic development:0",
         "19"
        ],
        [
         "EHcdeilmnoprstvy:1",
         "19"
        ],
        [
         "Shugar Andrea:0",
         "20"
        ],
        [
         "ASadeghnru:1",
         "20"
        ],
        [
         "Bruce Edinburgh:0",
         "21"
        ],
        [
         "BESabcdeghilnortu:1",
         "21"
        ],
        [
         "Cheeseman Thomas:0",
         "22"
        ],
        [
         "0135678CTaehilmnoprstxy:1",
         "22"
        ],
        [
         "Hartstein Jack:0",
         "23"
        ],
        [
         "1249HJaceiknrst:1",
         "23"
        ],
        [
         "Prujean Thomas:0",
         "24"
        ],
        [
         "1236PTaehjmnorsu:1",
         "24"
        ],
        [
         "Freeport Andrew:0",
         "25"
        ],
        [
         "AFdenoprtw:1",
         "25"
        ],
        [
         "Databases as:0",
         "26"
        ],
        [
         "DTabcdegimnoprstz:1",
         "26"
        ],
        [
         "Ideler Julius:0",
         "27"
        ],
        [
         "012489IJLdegilrsuw:1",
         "27"
        ]
       ],
       "shape": {
        "columns": 1,
        "rows": 1268190
       }
      },
      "text/html": [
       "<div>\n",
       "<style scoped>\n",
       "    .dataframe tbody tr th:only-of-type {\n",
       "        vertical-align: middle;\n",
       "    }\n",
       "\n",
       "    .dataframe tbody tr th {\n",
       "        vertical-align: top;\n",
       "    }\n",
       "\n",
       "    .dataframe thead th {\n",
       "        text-align: right;\n",
       "    }\n",
       "</style>\n",
       "<table border=\"1\" class=\"dataframe\">\n",
       "  <thead>\n",
       "    <tr style=\"text-align: right;\">\n",
       "      <th></th>\n",
       "      <th>idx</th>\n",
       "    </tr>\n",
       "    <tr>\n",
       "      <th>block_key</th>\n",
       "      <th></th>\n",
       "    </tr>\n",
       "  </thead>\n",
       "  <tbody>\n",
       "    <tr>\n",
       "      <th>Cdehilnr:1</th>\n",
       "      <td>0</td>\n",
       "    </tr>\n",
       "    <tr>\n",
       "      <th>Criminal law:0</th>\n",
       "      <td>1</td>\n",
       "    </tr>\n",
       "    <tr>\n",
       "      <th>Cailmnrw:1</th>\n",
       "      <td>1</td>\n",
       "    </tr>\n",
       "    <tr>\n",
       "      <th>Gender roles:0</th>\n",
       "      <td>2</td>\n",
       "    </tr>\n",
       "    <tr>\n",
       "      <th>Gdelnors:1</th>\n",
       "      <td>2</td>\n",
       "    </tr>\n",
       "    <tr>\n",
       "      <th>...</th>\n",
       "      <td>...</td>\n",
       "    </tr>\n",
       "    <tr>\n",
       "      <th>RWacdefhiklmor:1</th>\n",
       "      <td>646783</td>\n",
       "    </tr>\n",
       "    <tr>\n",
       "      <th>Aneurysm drug:0</th>\n",
       "      <td>646784</td>\n",
       "    </tr>\n",
       "    <tr>\n",
       "      <th>Aadeghmnprstuy:1</th>\n",
       "      <td>646784</td>\n",
       "    </tr>\n",
       "    <tr>\n",
       "      <th>Gottfried Robert:0</th>\n",
       "      <td>646785</td>\n",
       "    </tr>\n",
       "    <tr>\n",
       "      <th>149GRSbdefinortv:1</th>\n",
       "      <td>646785</td>\n",
       "    </tr>\n",
       "  </tbody>\n",
       "</table>\n",
       "<p>1268190 rows × 1 columns</p>\n",
       "</div>"
      ],
      "text/plain": [
       "                       idx\n",
       "block_key                 \n",
       "Cdehilnr:1               0\n",
       "Criminal law:0           1\n",
       "Cailmnrw:1               1\n",
       "Gender roles:0           2\n",
       "Gdelnors:1               2\n",
       "...                    ...\n",
       "RWacdefhiklmor:1    646783\n",
       "Aneurysm drug:0     646784\n",
       "Aadeghmnprstuy:1    646784\n",
       "Gottfried Robert:0  646785\n",
       "149GRSbdefinortv:1  646785\n",
       "\n",
       "[1268190 rows x 1 columns]"
      ]
     },
     "metadata": {},
     "output_type": "display_data"
    }
   ],
   "source": [
    "blocking_map_df"
   ]
  },
  {
   "cell_type": "code",
   "execution_count": null,
   "id": "6090fdab",
   "metadata": {},
   "outputs": [
    {
     "data": {
      "application/vnd.microsoft.datawrangler.viewer.v0+json": {
       "columns": [
        {
         "name": "block_key",
         "rawType": "object",
         "type": "string"
        },
        {
         "name": "0",
         "rawType": "int64",
         "type": "integer"
        }
       ],
       "ref": "6066bab9-1fef-4ce7-b8bc-c11550d2a536",
       "rows": [
        [
         "Great Britain:0",
         "2328"
        ],
        [
         "University of:0",
         "1608"
        ],
        [
         "United States:0",
         "1094"
        ],
        [
         "Symposium on:0",
         "756"
        ],
        [
         "International Congress:0",
         "588"
        ],
        [
         "Institute of:0",
         "426"
        ],
        [
         "World War:0",
         "410"
        ],
        [
         "Conference on:0",
         "397"
        ],
        [
         "People with:0",
         "384"
        ],
        [
         "Public health:0",
         "374"
        ],
        [
         "Society for:0",
         "373"
        ],
        [
         "International Symposium:0",
         "368"
        ],
        [
         "New York:0",
         "343"
        ],
        [
         "Society of:0",
         "313"
        ],
        [
         "Association of:0",
         "306"
        ],
        [
         "AIDS Disease:0",
         "272"
        ],
        [
         "National Research:0",
         "265"
        ],
        [
         "International Conference:0",
         "259"
        ],
        [
         "Royal College:0",
         "253"
        ],
        [
         "African American:0",
         "221"
        ],
        [
         "African Americans:0",
         "215"
        ],
        [
         "Mental health:0",
         "214"
        ],
        [
         "Medical care:0",
         "210"
        ],
        [
         "International Society:0",
         "200"
        ],
        [
         "Author of:0",
         "193"
        ],
        [
         "World Health:0",
         "185"
        ],
        [
         "Women in:0",
         "176"
        ],
        [
         "Mental illness:0",
         "174"
        ],
        [
         "Université de:0",
         "173"
        ],
        [
         "National Institute:0",
         "169"
        ],
        [
         "Università di:0",
         "168"
        ],
        [
         "British Medical:0",
         "168"
        ],
        [
         "English language:0",
         "166"
        ],
        [
         "Royal Society:0",
         "160"
        ],
        [
         "Indians of:0",
         "158"
        ],
        [
         "Deutsche Gesellschaft:0",
         "157"
        ],
        [
         "Mentally ill:0",
         "156"
        ],
        [
         "National Association:0",
         "155"
        ],
        [
         "Older people:0",
         "147"
        ],
        [
         "American Association:0",
         "146"
        ],
        [
         "Association for:0",
         "144"
        ],
        [
         "Public Health:0",
         "138"
        ],
        [
         "Drug abuse:0",
         "135"
        ],
        [
         "Sexual minorities:0",
         "134"
        ],
        [
         "Sex instruction:0",
         "134"
        ],
        [
         "Universidad de:0",
         "127"
        ],
        [
         "Sex role:0",
         "126"
        ],
        [
         "Wilkins Maurice:0",
         "126"
        ],
        [
         "Société de:0",
         "122"
        ],
        [
         "Human body:0",
         "122"
        ]
       ],
       "shape": {
        "columns": 1,
        "rows": 920565
       }
      },
      "text/plain": [
       "block_key\n",
       "Great Britain:0             2328\n",
       "University of:0             1608\n",
       "United States:0             1094\n",
       "Symposium on:0               756\n",
       "International Congress:0     588\n",
       "                            ... \n",
       "CEHUadeghilnoprstvy:1          1\n",
       "CEHWabdfgilnoprstuy:1          1\n",
       "CEHWacdefghilnorstuy:1         1\n",
       "CEHWacdefilmnorstuvz:1         1\n",
       "賀川 子玄:0                        1\n",
       "Length: 920565, dtype: int64"
      ]
     },
     "metadata": {},
     "output_type": "display_data"
    }
   ],
   "source": [
    "blocking_map_df.groupby(\"block_key\").size().sort_values(ascending=False)"
   ]
  },
  {
   "cell_type": "markdown",
   "id": "e146f373",
   "metadata": {},
   "source": [
    "# Prep dictionary pairs"
   ]
  },
  {
   "cell_type": "code",
   "execution_count": null,
   "id": "b5a184ff",
   "metadata": {},
   "outputs": [
    {
     "data": {
      "application/vnd.microsoft.datawrangler.viewer.v0+json": {
       "columns": [
        {
         "name": "idx",
         "rawType": "int64",
         "type": "integer"
        },
        {
         "name": "dict",
         "rawType": "object",
         "type": "unknown"
        }
       ],
       "ref": "b230a596-046b-4150-9f7a-245752d210e9",
       "rows": [
        [
         "0",
         "{'label': 'Children', 'type': 'missing'}"
        ],
        [
         "1",
         "{'label': 'Criminal law', 'type': 'missing'}"
        ],
        [
         "2",
         "{'label': 'Gender roles', 'type': 'missing'}"
        ],
        [
         "3",
         "{'label': 'Law', 'type': 'missing'}"
        ],
        [
         "4",
         "{'label': 'Police', 'type': 'missing'}"
        ],
        [
         "5",
         "{'label': 'Women', 'type': 'missing'}"
        ],
        [
         "6",
         "{'label': 'Womyn', 'type': 'missing'}"
        ],
        [
         "7",
         "{'label': 'Youth', 'type': 'missing'}"
        ],
        [
         "8",
         "{'label': 'Circle of State Librarians Conference 1979 : Kew, England)', 'type': 'Meeting'}"
        ],
        [
         "9",
         "{'label': 'Nelson, Geoffrey B. (Geoffrey Brian)', 'type': 'Person'}"
        ],
        [
         "10",
         "{'label': 'Wolff, G.', 'type': 'Person'}"
        ],
        [
         "11",
         "{'label': 'Jones, John E', 'type': 'Person'}"
        ],
        [
         "12",
         "{'label': 'Jones, John E.', 'type': 'Person'}"
        ],
        [
         "13",
         "{'label': 'Hulverscheidt, Marion, 1970-', 'type': 'Person'}"
        ],
        [
         "14",
         "{'label': 'Zimmermann, Wilhelm.', 'type': 'Person'}"
        ],
        [
         "15",
         "{'label': 'Gaur, June.', 'type': 'Person'}"
        ],
        [
         "16",
         "{'label': 'South Cambridgeshire (England)', 'type': 'Place'}"
        ],
        [
         "17",
         "{'label': 'Orel, Harold, 1926-2017.', 'type': 'Person'}"
        ],
        [
         "18",
         "{'label': 'Brown, Bruce, 1942-', 'type': 'Person'}"
        ],
        [
         "19",
         "{'label': 'Economic development - History', 'type': 'Concept'}"
        ],
        [
         "20",
         "{'label': 'Shugar, Andrea.', 'type': 'Person'}"
        ],
        [
         "21",
         "{'label': 'Bruce (Edinburgh, Scotland)', 'type': 'Person'}"
        ],
        [
         "22",
         "{'label': 'Cheeseman, Thomas, 1760-approximately 1835.', 'type': 'Person'}"
        ],
        [
         "23",
         "{'label': 'Hartstein, Jack, 1924-', 'type': 'Person'}"
        ],
        [
         "24",
         "{'label': 'Prujean, Thomas, 1622 or 1623-1662.', 'type': 'Person'}"
        ],
        [
         "25",
         "{'label': 'Freeport, Andrew', 'type': 'Person'}"
        ],
        [
         "26",
         "{'label': 'Databases as Topic - organization & administration', 'type': 'Concept'}"
        ],
        [
         "27",
         "{'label': 'Ideler, Julius Ludwig, 1809-1842', 'type': 'Person'}"
        ],
        [
         "28",
         "{'label': 'Fournier, Alfred Jean, 1832-1914', 'type': 'Agent'}"
        ],
        [
         "29",
         "{'label': 'Royal College of Surgeons in London', 'type': 'Organisation'}"
        ],
        [
         "30",
         "{'label': 'Royal College of Surgeons in London.', 'type': 'Organisation'}"
        ],
        [
         "31",
         "{'label': 'Hernia, Inguinal, therapy', 'type': 'Concept'}"
        ],
        [
         "32",
         "{'label': 'Poor families', 'type': 'Concept'}"
        ],
        [
         "33",
         "{'label': 'Scrimshaw, Jane, 1584-1711.', 'type': 'Person'}"
        ],
        [
         "34",
         "{'label': 'Foster, William', 'type': 'Person'}"
        ],
        [
         "35",
         "{'label': 'Foster, William.', 'type': 'Person'}"
        ],
        [
         "36",
         "{'label': 'Foster, William.', 'type': 'Person'}"
        ],
        [
         "37",
         "{'label': 'da Silva, Christiano', 'type': 'Person'}"
        ],
        [
         "38",
         "{'label': 'Steam-heating', 'type': 'Concept'}"
        ],
        [
         "39",
         "{'label': 'Dental Restoration, Temporary', 'type': 'Concept'}"
        ],
        [
         "40",
         "{'label': 'London Black MESMAC', 'type': 'Organisation'}"
        ],
        [
         "41",
         "{'label': 'London Black Mesmac', 'type': 'Organisation'}"
        ],
        [
         "42",
         "{'label': 'Fellows, Julian R. (Julian Robert), 1900-1985.', 'type': 'Person'}"
        ],
        [
         "43",
         "{'label': 'Subba Reddy, D. V., 1899-1987', 'type': 'Person'}"
        ],
        [
         "44",
         "{'label': 'Subba Reddy, D. V., 1899-1987.', 'type': 'Person'}"
        ],
        [
         "45",
         "{'label': 'Subba Reddy, D. V., 1899-1987.', 'type': 'Person'}"
        ],
        [
         "46",
         "{'label': 'Pneumonia', 'type': 'Concept'}"
        ],
        [
         "47",
         "{'label': 'Pneumonia - Child', 'type': 'Concept'}"
        ],
        [
         "48",
         "{'label': 'Pneumonia - Child, Preschool', 'type': 'Concept'}"
        ],
        [
         "49",
         "{'label': 'Pneumonia - Infant', 'type': 'Concept'}"
        ]
       ],
       "shape": {
        "columns": 1,
        "rows": 646786
       }
      },
      "text/html": [
       "<div>\n",
       "<style scoped>\n",
       "    .dataframe tbody tr th:only-of-type {\n",
       "        vertical-align: middle;\n",
       "    }\n",
       "\n",
       "    .dataframe tbody tr th {\n",
       "        vertical-align: top;\n",
       "    }\n",
       "\n",
       "    .dataframe thead th {\n",
       "        text-align: right;\n",
       "    }\n",
       "</style>\n",
       "<table border=\"1\" class=\"dataframe\">\n",
       "  <thead>\n",
       "    <tr style=\"text-align: right;\">\n",
       "      <th></th>\n",
       "      <th>dict</th>\n",
       "    </tr>\n",
       "    <tr>\n",
       "      <th>idx</th>\n",
       "      <th></th>\n",
       "    </tr>\n",
       "  </thead>\n",
       "  <tbody>\n",
       "    <tr>\n",
       "      <th>0</th>\n",
       "      <td>{'label': 'Children', 'type': 'missing'}</td>\n",
       "    </tr>\n",
       "    <tr>\n",
       "      <th>1</th>\n",
       "      <td>{'label': 'Criminal law', 'type': 'missing'}</td>\n",
       "    </tr>\n",
       "    <tr>\n",
       "      <th>2</th>\n",
       "      <td>{'label': 'Gender roles', 'type': 'missing'}</td>\n",
       "    </tr>\n",
       "    <tr>\n",
       "      <th>3</th>\n",
       "      <td>{'label': 'Law', 'type': 'missing'}</td>\n",
       "    </tr>\n",
       "    <tr>\n",
       "      <th>4</th>\n",
       "      <td>{'label': 'Police', 'type': 'missing'}</td>\n",
       "    </tr>\n",
       "    <tr>\n",
       "      <th>...</th>\n",
       "      <td>...</td>\n",
       "    </tr>\n",
       "    <tr>\n",
       "      <th>646781</th>\n",
       "      <td>{'label': 'Pregnant teenagers - Great Britain ...</td>\n",
       "    </tr>\n",
       "    <tr>\n",
       "      <th>646782</th>\n",
       "      <td>{'label': 'Maddox, Lucy', 'type': 'Person'}</td>\n",
       "    </tr>\n",
       "    <tr>\n",
       "      <th>646783</th>\n",
       "      <td>{'label': 'Rockliffe, Richard William.', 'type...</td>\n",
       "    </tr>\n",
       "    <tr>\n",
       "      <th>646784</th>\n",
       "      <td>{'label': 'Aneurysm - drug therapy', 'type': '...</td>\n",
       "    </tr>\n",
       "    <tr>\n",
       "      <th>646785</th>\n",
       "      <td>{'label': 'Gottfried, Robert Steven, 1949-', '...</td>\n",
       "    </tr>\n",
       "  </tbody>\n",
       "</table>\n",
       "<p>646786 rows × 1 columns</p>\n",
       "</div>"
      ],
      "text/plain": [
       "                                                     dict\n",
       "idx                                                      \n",
       "0                {'label': 'Children', 'type': 'missing'}\n",
       "1            {'label': 'Criminal law', 'type': 'missing'}\n",
       "2            {'label': 'Gender roles', 'type': 'missing'}\n",
       "3                     {'label': 'Law', 'type': 'missing'}\n",
       "4                  {'label': 'Police', 'type': 'missing'}\n",
       "...                                                   ...\n",
       "646781  {'label': 'Pregnant teenagers - Great Britain ...\n",
       "646782        {'label': 'Maddox, Lucy', 'type': 'Person'}\n",
       "646783  {'label': 'Rockliffe, Richard William.', 'type...\n",
       "646784  {'label': 'Aneurysm - drug therapy', 'type': '...\n",
       "646785  {'label': 'Gottfried, Robert Steven, 1949-', '...\n",
       "\n",
       "[646786 rows x 1 columns]"
      ]
     },
     "metadata": {},
     "output_type": "display_data"
    }
   ],
   "source": [
    "full_data_df = pd.DataFrame(((idx, dict(label=row[\"label\"], type=row[\"type\"]))\n",
    "                            for idx, row in dedup_data.iterrows()), columns=[\"idx\", \"dict\"])\n",
    "full_data_df.set_index(\"idx\", inplace=True)\n",
    "full_data_df"
   ]
  },
  {
   "cell_type": "markdown",
   "id": "45a60859",
   "metadata": {},
   "source": [
    "## Join dictionary pairs with blocking map"
   ]
  },
  {
   "cell_type": "code",
   "execution_count": null,
   "id": "be0e6a95",
   "metadata": {},
   "outputs": [
    {
     "data": {
      "application/vnd.microsoft.datawrangler.viewer.v0+json": {
       "columns": [
        {
         "name": "block_key",
         "rawType": "object",
         "type": "string"
        },
        {
         "name": "idx",
         "rawType": "int64",
         "type": "integer"
        },
        {
         "name": "idx_r",
         "rawType": "int64",
         "type": "integer"
        },
        {
         "name": "dict",
         "rawType": "object",
         "type": "unknown"
        },
        {
         "name": "dict_r",
         "rawType": "object",
         "type": "unknown"
        }
       ],
       "ref": "6dc8876b-07f5-436c-a2a7-98b9303e970d",
       "rows": [
        [
         "Cdehilnr:1",
         "0",
         "228859",
         "{'label': 'Children', 'type': 'missing'}",
         "{'label': 'Children', 'type': 'Concept'}"
        ],
        [
         "Cdehilnr:1",
         "0",
         "264402",
         "{'label': 'Children', 'type': 'missing'}",
         "{'label': 'Children', 'type': 'Concept'}"
        ],
        [
         "Criminal law:0",
         "1",
         "102628",
         "{'label': 'Criminal law', 'type': 'missing'}",
         "{'label': 'Criminal law (Roman law) - Early works to 1800', 'type': 'Concept'}"
        ],
        [
         "Criminal law:0",
         "1",
         "180893",
         "{'label': 'Criminal law', 'type': 'missing'}",
         "{'label': 'Criminal law - United States - History', 'type': 'Concept'}"
        ],
        [
         "Criminal law:0",
         "1",
         "306835",
         "{'label': 'Criminal law', 'type': 'missing'}",
         "{'label': 'Criminal law', 'type': 'Concept'}"
        ],
        [
         "Criminal law:0",
         "1",
         "306836",
         "{'label': 'Criminal law', 'type': 'missing'}",
         "{'label': 'Criminal law - Women', 'type': 'Concept'}"
        ],
        [
         "Criminal law:0",
         "1",
         "323958",
         "{'label': 'Criminal law', 'type': 'missing'}",
         "{'label': 'Criminal law', 'type': 'Concept'}"
        ],
        [
         "Criminal law:0",
         "1",
         "473004",
         "{'label': 'Criminal law', 'type': 'missing'}",
         "{'label': 'Criminal law - Europe - Periodicals', 'type': 'Concept'}"
        ],
        [
         "Criminal law:0",
         "1",
         "486686",
         "{'label': 'Criminal law', 'type': 'missing'}",
         "{'label': 'Criminal law - England - 17th century - Cases - Early works to 1800', 'type': 'Concept'}"
        ],
        [
         "Criminal law:0",
         "1",
         "578269",
         "{'label': 'Criminal law', 'type': 'missing'}",
         "{'label': 'Criminal law - United States', 'type': 'Concept'}"
        ],
        [
         "Criminal law:0",
         "1",
         "610625",
         "{'label': 'Criminal law', 'type': 'missing'}",
         "{'label': 'Criminal law - United States - Periodicals', 'type': 'Concept'}"
        ],
        [
         "Cailmnrw:1",
         "1",
         "306835",
         "{'label': 'Criminal law', 'type': 'missing'}",
         "{'label': 'Criminal law', 'type': 'Concept'}"
        ],
        [
         "Cailmnrw:1",
         "1",
         "323958",
         "{'label': 'Criminal law', 'type': 'missing'}",
         "{'label': 'Criminal law', 'type': 'Concept'}"
        ],
        [
         "Law:1",
         "3",
         "229719",
         "{'label': 'Law', 'type': 'missing'}",
         "{'label': 'Law', 'type': 'Concept'}"
        ],
        [
         "Law:1",
         "3",
         "229720",
         "{'label': 'Law', 'type': 'missing'}",
         "{'label': 'Law', 'type': 'GenreConcept'}"
        ],
        [
         "Law:1",
         "3",
         "594775",
         "{'label': 'Law', 'type': 'missing'}",
         "{'label': 'Law', 'type': 'Concept'}"
        ],
        [
         "Pceilo:1",
         "4",
         "53088",
         "{'label': 'Police', 'type': 'missing'}",
         "{'label': 'Police', 'type': 'Concept'}"
        ],
        [
         "Pceilo:1",
         "4",
         "199418",
         "{'label': 'Police', 'type': 'missing'}",
         "{'label': 'Police', 'type': 'Concept'}"
        ],
        [
         "Pceilo:1",
         "4",
         "205048",
         "{'label': 'Police', 'type': 'missing'}",
         "{'label': 'Police', 'type': 'Concept'}"
        ],
        [
         "Wemno:1",
         "5",
         "11480",
         "{'label': 'Women', 'type': 'missing'}",
         "{'label': 'Women', 'type': 'Concept'}"
        ],
        [
         "Wemno:1",
         "5",
         "46745",
         "{'label': 'Women', 'type': 'missing'}",
         "{'label': 'Women', 'type': 'Concept'}"
        ],
        [
         "Wemno:1",
         "5",
         "302013",
         "{'label': 'Women', 'type': 'missing'}",
         "{'label': 'Women', 'type': 'Concept'}"
        ],
        [
         "Wemno:1",
         "5",
         "352747",
         "{'label': 'Women', 'type': 'missing'}",
         "{'label': 'Women', 'type': 'Concept'}"
        ],
        [
         "Yhotu:1",
         "7",
         "131304",
         "{'label': 'Youth', 'type': 'missing'}",
         "{'label': 'Youth', 'type': 'Concept'}"
        ],
        [
         "Yhotu:1",
         "7",
         "131305",
         "{'label': 'Youth', 'type': 'missing'}",
         "{'label': 'Youth', 'type': 'Person'}"
        ],
        [
         "Yhotu:1",
         "7",
         "343620",
         "{'label': 'Youth', 'type': 'missing'}",
         "{'label': 'Youth', 'type': 'Concept'}"
        ],
        [
         "Circle of:0",
         "8",
         "219111",
         "{'label': 'Circle of State Librarians Conference 1979 : Kew, England)', 'type': 'Meeting'}",
         "{'label': 'Circle of State Librarians.', 'type': 'Organisation'}"
        ],
        [
         "Circle of:0",
         "8",
         "370977",
         "{'label': 'Circle of State Librarians Conference 1979 : Kew, England)', 'type': 'Meeting'}",
         "{'label': 'Circle of Willis', 'type': 'Concept'}"
        ],
        [
         "Circle of:0",
         "8",
         "509225",
         "{'label': 'Circle of State Librarians Conference 1979 : Kew, England)', 'type': 'Meeting'}",
         "{'label': 'Circle of Willis', 'type': 'Concept'}"
        ],
        [
         "Wolff G:0",
         "10",
         "82485",
         "{'label': 'Wolff, G.', 'type': 'Person'}",
         "{'label': 'Wolff, G. (Gerhard)', 'type': 'Person'}"
        ],
        [
         "GWflo:1",
         "10",
         "281426",
         "{'label': 'Wolff, G.', 'type': 'Person'}",
         "{'label': 'Wolf, G.', 'type': 'Person'}"
        ],
        [
         "GWflo:1",
         "10",
         "536950",
         "{'label': 'Wolff, G.', 'type': 'Person'}",
         "{'label': 'G. Wolf', 'type': 'Agent'}"
        ],
        [
         "Jones John:0",
         "11",
         "12",
         "{'label': 'Jones, John E', 'type': 'Person'}",
         "{'label': 'Jones, John E.', 'type': 'Person'}"
        ],
        [
         "Jones John:0",
         "11",
         "28031",
         "{'label': 'Jones, John E', 'type': 'Person'}",
         "{'label': 'Jones, John V.', 'type': 'Person'}"
        ],
        [
         "Jones John:0",
         "11",
         "30348",
         "{'label': 'Jones, John E', 'type': 'Person'}",
         "{'label': 'Jones, John Christian.', 'type': 'Person'}"
        ],
        [
         "Jones John:0",
         "11",
         "43262",
         "{'label': 'Jones, John E', 'type': 'Person'}",
         "{'label': 'Jones, John, active 1562-1579.', 'type': 'Person'}"
        ],
        [
         "Jones John:0",
         "11",
         "46543",
         "{'label': 'Jones, John E', 'type': 'Person'}",
         "{'label': 'Jones, John Dalston.', 'type': 'Person'}"
        ],
        [
         "Jones John:0",
         "11",
         "68511",
         "{'label': 'Jones, John E', 'type': 'Person'}",
         "{'label': 'Jones, John Milton.', 'type': 'Person'}"
        ],
        [
         "Jones John:0",
         "11",
         "72798",
         "{'label': 'Jones, John E', 'type': 'Person'}",
         "{'label': 'Jones, John Winter, 1805-1881.', 'type': 'Person'}"
        ],
        [
         "Jones John:0",
         "11",
         "85712",
         "{'label': 'Jones, John E', 'type': 'Person'}",
         "{'label': 'Jones, John Bush.', 'type': 'Person'}"
        ],
        [
         "Jones John:0",
         "11",
         "93847",
         "{'label': 'Jones, John E', 'type': 'Person'}",
         "{'label': 'Jones, John, active 1666-1700.', 'type': 'Person'}"
        ],
        [
         "Jones John:0",
         "11",
         "104550",
         "{'label': 'Jones, John E', 'type': 'Person'}",
         "{'label': 'Jones, John Frederick Drake.', 'type': 'Person'}"
        ],
        [
         "Jones John:0",
         "11",
         "126304",
         "{'label': 'Jones, John E', 'type': 'Person'}",
         "{'label': 'Jones, John Hamilton, 1965-', 'type': 'Person'}"
        ],
        [
         "Jones John:0",
         "11",
         "143059",
         "{'label': 'Jones, John E', 'type': 'Person'}",
         "{'label': 'Jones, John, of Dublin', 'type': 'Person'}"
        ],
        [
         "Jones John:0",
         "11",
         "165161",
         "{'label': 'Jones, John E', 'type': 'Person'}",
         "{'label': 'Jones, John (Physician)', 'type': 'Person'}"
        ],
        [
         "Jones John:0",
         "11",
         "165162",
         "{'label': 'Jones, John E', 'type': 'Person'}",
         "{'label': 'Jones, John (Physician)', 'type': 'Person'}"
        ],
        [
         "Jones John:0",
         "11",
         "178143",
         "{'label': 'Jones, John E', 'type': 'Person'}",
         "{'label': 'Jones, John Gale', 'type': 'Person'}"
        ],
        [
         "Jones John:0",
         "11",
         "195492",
         "{'label': 'Jones, John E', 'type': 'Person'}",
         "{'label': 'Jones, John Paul, 1747-1792.', 'type': 'Person'}"
        ],
        [
         "Jones John:0",
         "11",
         "215993",
         "{'label': 'Jones, John E', 'type': 'Person'}",
         "{'label': 'Jones, John, 1726?-', 'type': 'Person'}"
        ],
        [
         "Jones John:0",
         "11",
         "217466",
         "{'label': 'Jones, John E', 'type': 'Person'}",
         "{'label': 'Jones, John Harry, 1881-1973.', 'type': 'Person'}"
        ]
       ],
       "shape": {
        "columns": 4,
        "rows": 7797058
       }
      },
      "text/html": [
       "<div>\n",
       "<style scoped>\n",
       "    .dataframe tbody tr th:only-of-type {\n",
       "        vertical-align: middle;\n",
       "    }\n",
       "\n",
       "    .dataframe tbody tr th {\n",
       "        vertical-align: top;\n",
       "    }\n",
       "\n",
       "    .dataframe thead th {\n",
       "        text-align: right;\n",
       "    }\n",
       "</style>\n",
       "<table border=\"1\" class=\"dataframe\">\n",
       "  <thead>\n",
       "    <tr style=\"text-align: right;\">\n",
       "      <th></th>\n",
       "      <th>idx</th>\n",
       "      <th>idx_r</th>\n",
       "      <th>dict</th>\n",
       "      <th>dict_r</th>\n",
       "    </tr>\n",
       "    <tr>\n",
       "      <th>block_key</th>\n",
       "      <th></th>\n",
       "      <th></th>\n",
       "      <th></th>\n",
       "      <th></th>\n",
       "    </tr>\n",
       "  </thead>\n",
       "  <tbody>\n",
       "    <tr>\n",
       "      <th>Cdehilnr:1</th>\n",
       "      <td>0</td>\n",
       "      <td>228859</td>\n",
       "      <td>{'label': 'Children', 'type': 'missing'}</td>\n",
       "      <td>{'label': 'Children', 'type': 'Concept'}</td>\n",
       "    </tr>\n",
       "    <tr>\n",
       "      <th>Cdehilnr:1</th>\n",
       "      <td>0</td>\n",
       "      <td>264402</td>\n",
       "      <td>{'label': 'Children', 'type': 'missing'}</td>\n",
       "      <td>{'label': 'Children', 'type': 'Concept'}</td>\n",
       "    </tr>\n",
       "    <tr>\n",
       "      <th>Criminal law:0</th>\n",
       "      <td>1</td>\n",
       "      <td>102628</td>\n",
       "      <td>{'label': 'Criminal law', 'type': 'missing'}</td>\n",
       "      <td>{'label': 'Criminal law (Roman law) - Early wo...</td>\n",
       "    </tr>\n",
       "    <tr>\n",
       "      <th>Criminal law:0</th>\n",
       "      <td>1</td>\n",
       "      <td>180893</td>\n",
       "      <td>{'label': 'Criminal law', 'type': 'missing'}</td>\n",
       "      <td>{'label': 'Criminal law - United States - Hist...</td>\n",
       "    </tr>\n",
       "    <tr>\n",
       "      <th>Criminal law:0</th>\n",
       "      <td>1</td>\n",
       "      <td>306835</td>\n",
       "      <td>{'label': 'Criminal law', 'type': 'missing'}</td>\n",
       "      <td>{'label': 'Criminal law', 'type': 'Concept'}</td>\n",
       "    </tr>\n",
       "    <tr>\n",
       "      <th>...</th>\n",
       "      <td>...</td>\n",
       "      <td>...</td>\n",
       "      <td>...</td>\n",
       "      <td>...</td>\n",
       "    </tr>\n",
       "    <tr>\n",
       "      <th>123678CMWabdefhilnorstvw:1</th>\n",
       "      <td>646760</td>\n",
       "      <td>646762</td>\n",
       "      <td>{'label': 'Mather, Cotton, 1663-1728. Wonders ...</td>\n",
       "      <td>{'label': 'Mather, Cotton, 1663-1728. Wonders ...</td>\n",
       "    </tr>\n",
       "    <tr>\n",
       "      <th>Mather Cotton:0</th>\n",
       "      <td>646761</td>\n",
       "      <td>646762</td>\n",
       "      <td>{'label': 'Mather, Cotton, 1663-1728. Wonders ...</td>\n",
       "      <td>{'label': 'Mather, Cotton, 1663-1728. Wonders ...</td>\n",
       "    </tr>\n",
       "    <tr>\n",
       "      <th>123678CMWabdefhilnorstvw:1</th>\n",
       "      <td>646761</td>\n",
       "      <td>646762</td>\n",
       "      <td>{'label': 'Mather, Cotton, 1663-1728. Wonders ...</td>\n",
       "      <td>{'label': 'Mather, Cotton, 1663-1728. Wonders ...</td>\n",
       "    </tr>\n",
       "    <tr>\n",
       "      <th>Kings Fund:0</th>\n",
       "      <td>646765</td>\n",
       "      <td>646766</td>\n",
       "      <td>{'label': 'King's Fund Hospital Centre (London...</td>\n",
       "      <td>{'label': 'King's Fund Hospital Centre (London...</td>\n",
       "    </tr>\n",
       "    <tr>\n",
       "      <th>CEFHKLadegilnoprstu:1</th>\n",
       "      <td>646765</td>\n",
       "      <td>646766</td>\n",
       "      <td>{'label': 'King's Fund Hospital Centre (London...</td>\n",
       "      <td>{'label': 'King's Fund Hospital Centre (London...</td>\n",
       "    </tr>\n",
       "  </tbody>\n",
       "</table>\n",
       "<p>7797058 rows × 4 columns</p>\n",
       "</div>"
      ],
      "text/plain": [
       "                               idx   idx_r  \\\n",
       "block_key                                    \n",
       "Cdehilnr:1                       0  228859   \n",
       "Cdehilnr:1                       0  264402   \n",
       "Criminal law:0                   1  102628   \n",
       "Criminal law:0                   1  180893   \n",
       "Criminal law:0                   1  306835   \n",
       "...                            ...     ...   \n",
       "123678CMWabdefhilnorstvw:1  646760  646762   \n",
       "Mather Cotton:0             646761  646762   \n",
       "123678CMWabdefhilnorstvw:1  646761  646762   \n",
       "Kings Fund:0                646765  646766   \n",
       "CEFHKLadegilnoprstu:1       646765  646766   \n",
       "\n",
       "                                                                         dict  \\\n",
       "block_key                                                                       \n",
       "Cdehilnr:1                           {'label': 'Children', 'type': 'missing'}   \n",
       "Cdehilnr:1                           {'label': 'Children', 'type': 'missing'}   \n",
       "Criminal law:0                   {'label': 'Criminal law', 'type': 'missing'}   \n",
       "Criminal law:0                   {'label': 'Criminal law', 'type': 'missing'}   \n",
       "Criminal law:0                   {'label': 'Criminal law', 'type': 'missing'}   \n",
       "...                                                                       ...   \n",
       "123678CMWabdefhilnorstvw:1  {'label': 'Mather, Cotton, 1663-1728. Wonders ...   \n",
       "Mather Cotton:0             {'label': 'Mather, Cotton, 1663-1728. Wonders ...   \n",
       "123678CMWabdefhilnorstvw:1  {'label': 'Mather, Cotton, 1663-1728. Wonders ...   \n",
       "Kings Fund:0                {'label': 'King's Fund Hospital Centre (London...   \n",
       "CEFHKLadegilnoprstu:1       {'label': 'King's Fund Hospital Centre (London...   \n",
       "\n",
       "                                                                       dict_r  \n",
       "block_key                                                                      \n",
       "Cdehilnr:1                           {'label': 'Children', 'type': 'Concept'}  \n",
       "Cdehilnr:1                           {'label': 'Children', 'type': 'Concept'}  \n",
       "Criminal law:0              {'label': 'Criminal law (Roman law) - Early wo...  \n",
       "Criminal law:0              {'label': 'Criminal law - United States - Hist...  \n",
       "Criminal law:0                   {'label': 'Criminal law', 'type': 'Concept'}  \n",
       "...                                                                       ...  \n",
       "123678CMWabdefhilnorstvw:1  {'label': 'Mather, Cotton, 1663-1728. Wonders ...  \n",
       "Mather Cotton:0             {'label': 'Mather, Cotton, 1663-1728. Wonders ...  \n",
       "123678CMWabdefhilnorstvw:1  {'label': 'Mather, Cotton, 1663-1728. Wonders ...  \n",
       "Kings Fund:0                {'label': 'King's Fund Hospital Centre (London...  \n",
       "CEFHKLadegilnoprstu:1       {'label': 'King's Fund Hospital Centre (London...  \n",
       "\n",
       "[7797058 rows x 4 columns]"
      ]
     },
     "metadata": {},
     "output_type": "display_data"
    }
   ],
   "source": [
    "blocking_result_df = (blocking_map_df\n",
    "                      .join(blocking_map_df, rsuffix=\"_r\", on=\"block_key\")\n",
    "             .query('idx < idx_r')\n",
    "             .join(full_data_df, on=\"idx\")\n",
    "             .join(full_data_df, on=\"idx_r\", rsuffix=\"_r\")\n",
    "             )\n",
    "blocking_result_df"
   ]
  },
  {
   "cell_type": "code",
   "execution_count": null,
   "id": "93acf723",
   "metadata": {},
   "outputs": [],
   "source": [
    "blocking_result_df.to_parquet(\"../data/dn_labels_blocking_map.parquet\", index=True)"
   ]
  },
  {
   "cell_type": "code",
   "execution_count": 1,
   "id": "dc82e3f6",
   "metadata": {},
   "outputs": [],
   "source": [
    "import pandas as pd\n",
    "blocking_result_df = pd.read_parquet(\"../data/dn_labels_blocking_map.parquet\")"
   ]
  },
  {
   "cell_type": "code",
   "execution_count": 2,
   "id": "41e5d564",
   "metadata": {},
   "outputs": [
    {
     "data": {
      "application/vnd.microsoft.datawrangler.viewer.v0+json": {
       "columns": [
        {
         "name": "block_key",
         "rawType": "object",
         "type": "string"
        },
        {
         "name": "idx",
         "rawType": "int64",
         "type": "integer"
        },
        {
         "name": "idx_r",
         "rawType": "int64",
         "type": "integer"
        },
        {
         "name": "dict",
         "rawType": "object",
         "type": "unknown"
        },
        {
         "name": "dict_r",
         "rawType": "object",
         "type": "unknown"
        }
       ],
       "ref": "63037c9f-c4d1-4b94-9182-ca47231b364b",
       "rows": [
        [
         "Cdehilnr:1",
         "0",
         "228859",
         "{'label': 'Children', 'type': 'missing'}",
         "{'label': 'Children', 'type': 'Concept'}"
        ],
        [
         "Cdehilnr:1",
         "0",
         "264402",
         "{'label': 'Children', 'type': 'missing'}",
         "{'label': 'Children', 'type': 'Concept'}"
        ],
        [
         "Criminal law:0",
         "1",
         "102628",
         "{'label': 'Criminal law', 'type': 'missing'}",
         "{'label': 'Criminal law (Roman law) - Early works to 1800', 'type': 'Concept'}"
        ],
        [
         "Criminal law:0",
         "1",
         "180893",
         "{'label': 'Criminal law', 'type': 'missing'}",
         "{'label': 'Criminal law - United States - History', 'type': 'Concept'}"
        ],
        [
         "Criminal law:0",
         "1",
         "306835",
         "{'label': 'Criminal law', 'type': 'missing'}",
         "{'label': 'Criminal law', 'type': 'Concept'}"
        ],
        [
         "Criminal law:0",
         "1",
         "306836",
         "{'label': 'Criminal law', 'type': 'missing'}",
         "{'label': 'Criminal law - Women', 'type': 'Concept'}"
        ],
        [
         "Criminal law:0",
         "1",
         "323958",
         "{'label': 'Criminal law', 'type': 'missing'}",
         "{'label': 'Criminal law', 'type': 'Concept'}"
        ],
        [
         "Criminal law:0",
         "1",
         "473004",
         "{'label': 'Criminal law', 'type': 'missing'}",
         "{'label': 'Criminal law - Europe - Periodicals', 'type': 'Concept'}"
        ],
        [
         "Criminal law:0",
         "1",
         "486686",
         "{'label': 'Criminal law', 'type': 'missing'}",
         "{'label': 'Criminal law - England - 17th century - Cases - Early works to 1800', 'type': 'Concept'}"
        ],
        [
         "Criminal law:0",
         "1",
         "578269",
         "{'label': 'Criminal law', 'type': 'missing'}",
         "{'label': 'Criminal law - United States', 'type': 'Concept'}"
        ],
        [
         "Criminal law:0",
         "1",
         "610625",
         "{'label': 'Criminal law', 'type': 'missing'}",
         "{'label': 'Criminal law - United States - Periodicals', 'type': 'Concept'}"
        ],
        [
         "Cailmnrw:1",
         "1",
         "306835",
         "{'label': 'Criminal law', 'type': 'missing'}",
         "{'label': 'Criminal law', 'type': 'Concept'}"
        ],
        [
         "Cailmnrw:1",
         "1",
         "323958",
         "{'label': 'Criminal law', 'type': 'missing'}",
         "{'label': 'Criminal law', 'type': 'Concept'}"
        ],
        [
         "Law:1",
         "3",
         "229719",
         "{'label': 'Law', 'type': 'missing'}",
         "{'label': 'Law', 'type': 'Concept'}"
        ],
        [
         "Law:1",
         "3",
         "229720",
         "{'label': 'Law', 'type': 'missing'}",
         "{'label': 'Law', 'type': 'GenreConcept'}"
        ],
        [
         "Law:1",
         "3",
         "594775",
         "{'label': 'Law', 'type': 'missing'}",
         "{'label': 'Law', 'type': 'Concept'}"
        ],
        [
         "Pceilo:1",
         "4",
         "53088",
         "{'label': 'Police', 'type': 'missing'}",
         "{'label': 'Police', 'type': 'Concept'}"
        ],
        [
         "Pceilo:1",
         "4",
         "199418",
         "{'label': 'Police', 'type': 'missing'}",
         "{'label': 'Police', 'type': 'Concept'}"
        ],
        [
         "Pceilo:1",
         "4",
         "205048",
         "{'label': 'Police', 'type': 'missing'}",
         "{'label': 'Police', 'type': 'Concept'}"
        ],
        [
         "Wemno:1",
         "5",
         "11480",
         "{'label': 'Women', 'type': 'missing'}",
         "{'label': 'Women', 'type': 'Concept'}"
        ],
        [
         "Wemno:1",
         "5",
         "46745",
         "{'label': 'Women', 'type': 'missing'}",
         "{'label': 'Women', 'type': 'Concept'}"
        ],
        [
         "Wemno:1",
         "5",
         "302013",
         "{'label': 'Women', 'type': 'missing'}",
         "{'label': 'Women', 'type': 'Concept'}"
        ],
        [
         "Wemno:1",
         "5",
         "352747",
         "{'label': 'Women', 'type': 'missing'}",
         "{'label': 'Women', 'type': 'Concept'}"
        ],
        [
         "Yhotu:1",
         "7",
         "131304",
         "{'label': 'Youth', 'type': 'missing'}",
         "{'label': 'Youth', 'type': 'Concept'}"
        ],
        [
         "Yhotu:1",
         "7",
         "131305",
         "{'label': 'Youth', 'type': 'missing'}",
         "{'label': 'Youth', 'type': 'Person'}"
        ],
        [
         "Yhotu:1",
         "7",
         "343620",
         "{'label': 'Youth', 'type': 'missing'}",
         "{'label': 'Youth', 'type': 'Concept'}"
        ],
        [
         "Circle of:0",
         "8",
         "219111",
         "{'label': 'Circle of State Librarians Conference 1979 : Kew, England)', 'type': 'Meeting'}",
         "{'label': 'Circle of State Librarians.', 'type': 'Organisation'}"
        ],
        [
         "Circle of:0",
         "8",
         "370977",
         "{'label': 'Circle of State Librarians Conference 1979 : Kew, England)', 'type': 'Meeting'}",
         "{'label': 'Circle of Willis', 'type': 'Concept'}"
        ],
        [
         "Circle of:0",
         "8",
         "509225",
         "{'label': 'Circle of State Librarians Conference 1979 : Kew, England)', 'type': 'Meeting'}",
         "{'label': 'Circle of Willis', 'type': 'Concept'}"
        ],
        [
         "Wolff G:0",
         "10",
         "82485",
         "{'label': 'Wolff, G.', 'type': 'Person'}",
         "{'label': 'Wolff, G. (Gerhard)', 'type': 'Person'}"
        ],
        [
         "GWflo:1",
         "10",
         "281426",
         "{'label': 'Wolff, G.', 'type': 'Person'}",
         "{'label': 'Wolf, G.', 'type': 'Person'}"
        ],
        [
         "GWflo:1",
         "10",
         "536950",
         "{'label': 'Wolff, G.', 'type': 'Person'}",
         "{'label': 'G. Wolf', 'type': 'Agent'}"
        ],
        [
         "Jones John:0",
         "11",
         "12",
         "{'label': 'Jones, John E', 'type': 'Person'}",
         "{'label': 'Jones, John E.', 'type': 'Person'}"
        ],
        [
         "Jones John:0",
         "11",
         "28031",
         "{'label': 'Jones, John E', 'type': 'Person'}",
         "{'label': 'Jones, John V.', 'type': 'Person'}"
        ],
        [
         "Jones John:0",
         "11",
         "30348",
         "{'label': 'Jones, John E', 'type': 'Person'}",
         "{'label': 'Jones, John Christian.', 'type': 'Person'}"
        ],
        [
         "Jones John:0",
         "11",
         "43262",
         "{'label': 'Jones, John E', 'type': 'Person'}",
         "{'label': 'Jones, John, active 1562-1579.', 'type': 'Person'}"
        ],
        [
         "Jones John:0",
         "11",
         "46543",
         "{'label': 'Jones, John E', 'type': 'Person'}",
         "{'label': 'Jones, John Dalston.', 'type': 'Person'}"
        ],
        [
         "Jones John:0",
         "11",
         "68511",
         "{'label': 'Jones, John E', 'type': 'Person'}",
         "{'label': 'Jones, John Milton.', 'type': 'Person'}"
        ],
        [
         "Jones John:0",
         "11",
         "72798",
         "{'label': 'Jones, John E', 'type': 'Person'}",
         "{'label': 'Jones, John Winter, 1805-1881.', 'type': 'Person'}"
        ],
        [
         "Jones John:0",
         "11",
         "85712",
         "{'label': 'Jones, John E', 'type': 'Person'}",
         "{'label': 'Jones, John Bush.', 'type': 'Person'}"
        ],
        [
         "Jones John:0",
         "11",
         "93847",
         "{'label': 'Jones, John E', 'type': 'Person'}",
         "{'label': 'Jones, John, active 1666-1700.', 'type': 'Person'}"
        ],
        [
         "Jones John:0",
         "11",
         "104550",
         "{'label': 'Jones, John E', 'type': 'Person'}",
         "{'label': 'Jones, John Frederick Drake.', 'type': 'Person'}"
        ],
        [
         "Jones John:0",
         "11",
         "126304",
         "{'label': 'Jones, John E', 'type': 'Person'}",
         "{'label': 'Jones, John Hamilton, 1965-', 'type': 'Person'}"
        ],
        [
         "Jones John:0",
         "11",
         "143059",
         "{'label': 'Jones, John E', 'type': 'Person'}",
         "{'label': 'Jones, John, of Dublin', 'type': 'Person'}"
        ],
        [
         "Jones John:0",
         "11",
         "165161",
         "{'label': 'Jones, John E', 'type': 'Person'}",
         "{'label': 'Jones, John (Physician)', 'type': 'Person'}"
        ],
        [
         "Jones John:0",
         "11",
         "165162",
         "{'label': 'Jones, John E', 'type': 'Person'}",
         "{'label': 'Jones, John (Physician)', 'type': 'Person'}"
        ],
        [
         "Jones John:0",
         "11",
         "178143",
         "{'label': 'Jones, John E', 'type': 'Person'}",
         "{'label': 'Jones, John Gale', 'type': 'Person'}"
        ],
        [
         "Jones John:0",
         "11",
         "195492",
         "{'label': 'Jones, John E', 'type': 'Person'}",
         "{'label': 'Jones, John Paul, 1747-1792.', 'type': 'Person'}"
        ],
        [
         "Jones John:0",
         "11",
         "215993",
         "{'label': 'Jones, John E', 'type': 'Person'}",
         "{'label': 'Jones, John, 1726?-', 'type': 'Person'}"
        ],
        [
         "Jones John:0",
         "11",
         "217466",
         "{'label': 'Jones, John E', 'type': 'Person'}",
         "{'label': 'Jones, John Harry, 1881-1973.', 'type': 'Person'}"
        ]
       ],
       "shape": {
        "columns": 4,
        "rows": 7797058
       }
      },
      "text/html": [
       "<div>\n",
       "<style scoped>\n",
       "    .dataframe tbody tr th:only-of-type {\n",
       "        vertical-align: middle;\n",
       "    }\n",
       "\n",
       "    .dataframe tbody tr th {\n",
       "        vertical-align: top;\n",
       "    }\n",
       "\n",
       "    .dataframe thead th {\n",
       "        text-align: right;\n",
       "    }\n",
       "</style>\n",
       "<table border=\"1\" class=\"dataframe\">\n",
       "  <thead>\n",
       "    <tr style=\"text-align: right;\">\n",
       "      <th></th>\n",
       "      <th>idx</th>\n",
       "      <th>idx_r</th>\n",
       "      <th>dict</th>\n",
       "      <th>dict_r</th>\n",
       "    </tr>\n",
       "    <tr>\n",
       "      <th>block_key</th>\n",
       "      <th></th>\n",
       "      <th></th>\n",
       "      <th></th>\n",
       "      <th></th>\n",
       "    </tr>\n",
       "  </thead>\n",
       "  <tbody>\n",
       "    <tr>\n",
       "      <th>Cdehilnr:1</th>\n",
       "      <td>0</td>\n",
       "      <td>228859</td>\n",
       "      <td>{'label': 'Children', 'type': 'missing'}</td>\n",
       "      <td>{'label': 'Children', 'type': 'Concept'}</td>\n",
       "    </tr>\n",
       "    <tr>\n",
       "      <th>Cdehilnr:1</th>\n",
       "      <td>0</td>\n",
       "      <td>264402</td>\n",
       "      <td>{'label': 'Children', 'type': 'missing'}</td>\n",
       "      <td>{'label': 'Children', 'type': 'Concept'}</td>\n",
       "    </tr>\n",
       "    <tr>\n",
       "      <th>Criminal law:0</th>\n",
       "      <td>1</td>\n",
       "      <td>102628</td>\n",
       "      <td>{'label': 'Criminal law', 'type': 'missing'}</td>\n",
       "      <td>{'label': 'Criminal law (Roman law) - Early wo...</td>\n",
       "    </tr>\n",
       "    <tr>\n",
       "      <th>Criminal law:0</th>\n",
       "      <td>1</td>\n",
       "      <td>180893</td>\n",
       "      <td>{'label': 'Criminal law', 'type': 'missing'}</td>\n",
       "      <td>{'label': 'Criminal law - United States - Hist...</td>\n",
       "    </tr>\n",
       "    <tr>\n",
       "      <th>Criminal law:0</th>\n",
       "      <td>1</td>\n",
       "      <td>306835</td>\n",
       "      <td>{'label': 'Criminal law', 'type': 'missing'}</td>\n",
       "      <td>{'label': 'Criminal law', 'type': 'Concept'}</td>\n",
       "    </tr>\n",
       "    <tr>\n",
       "      <th>...</th>\n",
       "      <td>...</td>\n",
       "      <td>...</td>\n",
       "      <td>...</td>\n",
       "      <td>...</td>\n",
       "    </tr>\n",
       "    <tr>\n",
       "      <th>123678CMWabdefhilnorstvw:1</th>\n",
       "      <td>646760</td>\n",
       "      <td>646762</td>\n",
       "      <td>{'label': 'Mather, Cotton, 1663-1728. Wonders ...</td>\n",
       "      <td>{'label': 'Mather, Cotton, 1663-1728. Wonders ...</td>\n",
       "    </tr>\n",
       "    <tr>\n",
       "      <th>Mather Cotton:0</th>\n",
       "      <td>646761</td>\n",
       "      <td>646762</td>\n",
       "      <td>{'label': 'Mather, Cotton, 1663-1728. Wonders ...</td>\n",
       "      <td>{'label': 'Mather, Cotton, 1663-1728. Wonders ...</td>\n",
       "    </tr>\n",
       "    <tr>\n",
       "      <th>123678CMWabdefhilnorstvw:1</th>\n",
       "      <td>646761</td>\n",
       "      <td>646762</td>\n",
       "      <td>{'label': 'Mather, Cotton, 1663-1728. Wonders ...</td>\n",
       "      <td>{'label': 'Mather, Cotton, 1663-1728. Wonders ...</td>\n",
       "    </tr>\n",
       "    <tr>\n",
       "      <th>Kings Fund:0</th>\n",
       "      <td>646765</td>\n",
       "      <td>646766</td>\n",
       "      <td>{'label': 'King's Fund Hospital Centre (London...</td>\n",
       "      <td>{'label': 'King's Fund Hospital Centre (London...</td>\n",
       "    </tr>\n",
       "    <tr>\n",
       "      <th>CEFHKLadegilnoprstu:1</th>\n",
       "      <td>646765</td>\n",
       "      <td>646766</td>\n",
       "      <td>{'label': 'King's Fund Hospital Centre (London...</td>\n",
       "      <td>{'label': 'King's Fund Hospital Centre (London...</td>\n",
       "    </tr>\n",
       "  </tbody>\n",
       "</table>\n",
       "<p>7797058 rows × 4 columns</p>\n",
       "</div>"
      ],
      "text/plain": [
       "                               idx   idx_r  \\\n",
       "block_key                                    \n",
       "Cdehilnr:1                       0  228859   \n",
       "Cdehilnr:1                       0  264402   \n",
       "Criminal law:0                   1  102628   \n",
       "Criminal law:0                   1  180893   \n",
       "Criminal law:0                   1  306835   \n",
       "...                            ...     ...   \n",
       "123678CMWabdefhilnorstvw:1  646760  646762   \n",
       "Mather Cotton:0             646761  646762   \n",
       "123678CMWabdefhilnorstvw:1  646761  646762   \n",
       "Kings Fund:0                646765  646766   \n",
       "CEFHKLadegilnoprstu:1       646765  646766   \n",
       "\n",
       "                                                                         dict  \\\n",
       "block_key                                                                       \n",
       "Cdehilnr:1                           {'label': 'Children', 'type': 'missing'}   \n",
       "Cdehilnr:1                           {'label': 'Children', 'type': 'missing'}   \n",
       "Criminal law:0                   {'label': 'Criminal law', 'type': 'missing'}   \n",
       "Criminal law:0                   {'label': 'Criminal law', 'type': 'missing'}   \n",
       "Criminal law:0                   {'label': 'Criminal law', 'type': 'missing'}   \n",
       "...                                                                       ...   \n",
       "123678CMWabdefhilnorstvw:1  {'label': 'Mather, Cotton, 1663-1728. Wonders ...   \n",
       "Mather Cotton:0             {'label': 'Mather, Cotton, 1663-1728. Wonders ...   \n",
       "123678CMWabdefhilnorstvw:1  {'label': 'Mather, Cotton, 1663-1728. Wonders ...   \n",
       "Kings Fund:0                {'label': 'King's Fund Hospital Centre (London...   \n",
       "CEFHKLadegilnoprstu:1       {'label': 'King's Fund Hospital Centre (London...   \n",
       "\n",
       "                                                                       dict_r  \n",
       "block_key                                                                      \n",
       "Cdehilnr:1                           {'label': 'Children', 'type': 'Concept'}  \n",
       "Cdehilnr:1                           {'label': 'Children', 'type': 'Concept'}  \n",
       "Criminal law:0              {'label': 'Criminal law (Roman law) - Early wo...  \n",
       "Criminal law:0              {'label': 'Criminal law - United States - Hist...  \n",
       "Criminal law:0                   {'label': 'Criminal law', 'type': 'Concept'}  \n",
       "...                                                                       ...  \n",
       "123678CMWabdefhilnorstvw:1  {'label': 'Mather, Cotton, 1663-1728. Wonders ...  \n",
       "Mather Cotton:0             {'label': 'Mather, Cotton, 1663-1728. Wonders ...  \n",
       "123678CMWabdefhilnorstvw:1  {'label': 'Mather, Cotton, 1663-1728. Wonders ...  \n",
       "Kings Fund:0                {'label': 'King's Fund Hospital Centre (London...  \n",
       "CEFHKLadegilnoprstu:1       {'label': 'King's Fund Hospital Centre (London...  \n",
       "\n",
       "[7797058 rows x 4 columns]"
      ]
     },
     "execution_count": 2,
     "metadata": {},
     "output_type": "execute_result"
    }
   ],
   "source": [
    "blocking_result_df"
   ]
  },
  {
   "cell_type": "markdown",
   "id": "0150c6f3",
   "metadata": {},
   "source": [
    "# Train Model"
   ]
  },
  {
   "cell_type": "code",
   "execution_count": null,
   "id": "babe824a",
   "metadata": {},
   "outputs": [],
   "source": [
    "import pandas as pd\n",
    "from wc_simd.dedupe_service import dedup_data_file\n",
    "\n",
    "dedup_data = pd.read_csv(\"../\" + dedup_data_file)"
   ]
  },
  {
   "cell_type": "code",
   "execution_count": null,
   "id": "fd9dc843",
   "metadata": {},
   "outputs": [],
   "source": [
    "train_data = {idx: {\"label\": row.label, \"type\": row.type}\n",
    "              for idx, row in dedup_data.iterrows()}"
   ]
  },
  {
   "cell_type": "code",
   "execution_count": null,
   "id": "6376334c",
   "metadata": {},
   "outputs": [
    {
     "name": "stderr",
     "output_type": "stream",
     "text": [
      "INFO:dedupe.api:reading training from file\n",
      "INFO:dedupe.canopy_index:Removing stop word  A\n",
      "INFO:dedupe.canopy_index:Removing stop word  E\n",
      "INFO:dedupe.canopy_index:Removing stop word  M\n",
      "INFO:dedupe.canopy_index:Removing stop word  R\n",
      "INFO:dedupe.canopy_index:Removing stop word ac\n",
      "INFO:dedupe.canopy_index:Removing stop word al\n",
      "INFO:dedupe.canopy_index:Removing stop word ca\n",
      "INFO:dedupe.canopy_index:Removing stop word ce\n",
      "INFO:dedupe.canopy_index:Removing stop word d \n",
      "INFO:dedupe.canopy_index:Removing stop word di\n",
      "INFO:dedupe.canopy_index:Removing stop word e \n",
      "INFO:dedupe.canopy_index:Removing stop word ed\n",
      "INFO:dedupe.canopy_index:Removing stop word en\n",
      "INFO:dedupe.canopy_index:Removing stop word er\n",
      "INFO:dedupe.canopy_index:Removing stop word he\n",
      "INFO:dedupe.canopy_index:Removing stop word ic\n",
      "INFO:dedupe.canopy_index:Removing stop word in\n",
      "INFO:dedupe.canopy_index:Removing stop word l \n",
      "INFO:dedupe.canopy_index:Removing stop word la\n",
      "INFO:dedupe.canopy_index:Removing stop word ma\n",
      "INFO:dedupe.canopy_index:Removing stop word me\n",
      "INFO:dedupe.canopy_index:Removing stop word n \n",
      "INFO:dedupe.canopy_index:Removing stop word nd\n",
      "INFO:dedupe.canopy_index:Removing stop word ni\n",
      "INFO:dedupe.canopy_index:Removing stop word nt\n",
      "INFO:dedupe.canopy_index:Removing stop word or\n",
      "INFO:dedupe.canopy_index:Removing stop word r \n",
      "INFO:dedupe.canopy_index:Removing stop word ri\n",
      "INFO:dedupe.canopy_index:Removing stop word s \n",
      "INFO:dedupe.canopy_index:Removing stop word t \n",
      "INFO:dedupe.canopy_index:Removing stop word th\n",
      "INFO:dedupe.canopy_index:Removing stop word el\n",
      "INFO:dedupe.canopy_index:Removing stop word ll\n",
      "INFO:dedupe.canopy_index:Removing stop word  1\n",
      "INFO:dedupe.canopy_index:Removing stop word 17\n",
      "INFO:dedupe.canopy_index:Removing stop word 18\n",
      "INFO:dedupe.canopy_index:Removing stop word ar\n",
      "INFO:dedupe.canopy_index:Removing stop word rd\n",
      "INFO:dedupe.canopy_index:Removing stop word y \n",
      "INFO:dedupe.canopy_index:Removing stop word  H\n",
      "INFO:dedupe.canopy_index:Removing stop word  S\n",
      "INFO:dedupe.canopy_index:Removing stop word il\n",
      "INFO:dedupe.canopy_index:Removing stop word it\n",
      "INFO:dedupe.canopy_index:Removing stop word te\n",
      "INFO:dedupe.canopy_index:Removing stop word  D\n",
      "INFO:dedupe.canopy_index:Removing stop word ci\n",
      "INFO:dedupe.canopy_index:Removing stop word is\n",
      "INFO:dedupe.canopy_index:Removing stop word ro\n",
      "INFO:dedupe.canopy_index:Removing stop word an\n",
      "INFO:dedupe.canopy_index:Removing stop word ia\n",
      "INFO:dedupe.canopy_index:Removing stop word ns\n",
      "INFO:dedupe.canopy_index:Removing stop word ng\n",
      "INFO:dedupe.canopy_index:Removing stop word on\n",
      "INFO:dedupe.canopy_index:Removing stop word na\n",
      "INFO:dedupe.canopy_index:Removing stop word nn\n",
      "INFO:dedupe.canopy_index:Removing stop word le\n",
      "INFO:dedupe.canopy_index:Removing stop word a \n",
      "INFO:dedupe.canopy_index:Removing stop word ha\n",
      "INFO:dedupe.canopy_index:Removing stop word re\n",
      "INFO:dedupe.canopy_index:Removing stop word ch\n",
      "INFO:dedupe.canopy_index:Removing stop word mi\n",
      "INFO:dedupe.canopy_index:Removing stop word ne\n",
      "INFO:dedupe.canopy_index:Removing stop word om\n",
      "INFO:dedupe.canopy_index:Removing stop word ra\n",
      "INFO:dedupe.canopy_index:Removing stop word  J\n",
      "INFO:dedupe.canopy_index:Removing stop word Jo\n",
      "INFO:dedupe.canopy_index:Removing stop word rs\n",
      "INFO:dedupe.canopy_index:Removing stop word  W\n",
      "INFO:dedupe.canopy_index:Removing stop word am\n",
      "INFO:dedupe.canopy_index:Removing stop word li\n",
      "INFO:dedupe.canopy_index:Removing stop word lo\n",
      "INFO:dedupe.canopy_index:Removing stop word ve\n",
      "INFO:dedupe.canopy_index:Removing stop word  a\n",
      "INFO:dedupe.canopy_index:Removing stop word as\n",
      "INFO:dedupe.canopy_index:Removing stop word es\n",
      "INFO:dedupe.canopy_index:Removing stop word hi\n",
      "INFO:dedupe.canopy_index:Removing stop word ie\n",
      "INFO:dedupe.canopy_index:Removing stop word io\n",
      "INFO:dedupe.canopy_index:Removing stop word rt\n",
      "INFO:dedupe.canopy_index:Removing stop word st\n",
      "INFO:dedupe.canopy_index:Removing stop word us\n",
      "INFO:dedupe.canopy_index:Removing stop word  F\n",
      "INFO:dedupe.canopy_index:Removing stop word  B\n",
      "INFO:dedupe.canopy_index:Removing stop word 19\n",
      "INFO:dedupe.canopy_index:Removing stop word at\n",
      "INFO:dedupe.canopy_index:Removing stop word ct\n",
      "INFO:dedupe.canopy_index:Removing stop word m \n",
      "INFO:dedupe.canopy_index:Removing stop word nc\n",
      "INFO:dedupe.canopy_index:Removing stop word ol\n",
      "INFO:dedupe.canopy_index:Removing stop word os\n",
      "INFO:dedupe.canopy_index:Removing stop word ou\n",
      "INFO:dedupe.canopy_index:Removing stop word ry\n",
      "INFO:dedupe.canopy_index:Removing stop word si\n",
      "INFO:dedupe.canopy_index:Removing stop word ti\n",
      "INFO:dedupe.canopy_index:Removing stop word to\n",
      "INFO:dedupe.canopy_index:Removing stop word  C\n",
      "INFO:dedupe.canopy_index:Removing stop word  G\n",
      "INFO:dedupe.canopy_index:Removing stop word ta\n",
      "INFO:dedupe.canopy_index:Removing stop word  L\n",
      "INFO:dedupe.canopy_index:Removing stop word de\n",
      "INFO:dedupe.canopy_index:Removing stop word Ma\n",
      "INFO:dedupe.canopy_index:Removing stop word ge\n",
      "INFO:dedupe.canopy_index:Removing stop word h \n",
      "INFO:dedupe.canopy_index:Removing stop word se\n",
      "INFO:dedupe.canopy_index:Removing stop word ea\n",
      "INFO:dedupe.canopy_index:Removing stop word et\n",
      "INFO:dedupe.canopy_index:Removing stop word so\n",
      "INFO:dedupe.canopy_index:Removing stop word tr\n",
      "INFO:dedupe.canopy_index:Removing stop word ho\n",
      "INFO:dedupe.canopy_index:Removing stop word Co\n",
      "INFO:dedupe.canopy_index:Removing stop word ur\n",
      "INFO:dedupe.canopy_index:Removing stop word o \n",
      "INFO:dedupe.canopy_index:Removing stop word  P\n",
      "INFO:dedupe.canopy_index:Removing stop word be\n",
      "INFO:dedupe.training:Final predicate set:\n",
      "INFO:dedupe.training:SimplePredicate: (fingerprint, label)\n",
      "INFO:dedupe.training:Final predicate set:\n",
      "INFO:dedupe.training:SimplePredicate: (firstTokenPredicate, label)\n",
      "INFO:dedupe.training:TfidfNGramCanopyPredicate: (0.6, label)\n",
      "INFO:dedupe.training:Final predicate set:\n",
      "INFO:dedupe.training:SimplePredicate: (firstTwoTokensPredicate, label)\n",
      "INFO:dedupe.training:SimplePredicate: (oneGramFingerprint, label)\n"
     ]
    }
   ],
   "source": [
    "import dedupe\n",
    "from wc_simd.dedupe_service import training_file, settings_file, fields\n",
    "\n",
    "dedupe = dedupe.Dedupe(fields, num_cores=8)\n",
    "with open(\"../\" + training_file) as tf:\n",
    "    dedupe.prepare_training(train_data, training_file=tf)\n",
    "    dedupe.train(recall=0.90)\n",
    "    with open(\"../\" + settings_file, \"wb\") as sf:\n",
    "        dedupe.write_settings(sf)\n",
    "    dedupe.cleanup_training()"
   ]
  },
  {
   "cell_type": "markdown",
   "id": "5b34fed5",
   "metadata": {},
   "source": [
    "# Load Model"
   ]
  },
  {
   "cell_type": "code",
   "execution_count": 5,
   "id": "774514c7",
   "metadata": {},
   "outputs": [
    {
     "name": "stderr",
     "output_type": "stream",
     "text": [
      "INFO:dedupe.api:Predicate set:\n",
      "INFO:dedupe.api:SimplePredicate: (firstTwoTokensPredicate, label)\n",
      "INFO:dedupe.api:SimplePredicate: (oneGramFingerprint, label)\n",
      "INFO:dedupe.api:SimplePredicate: (firstTwoTokensPredicate, label)\n",
      "INFO:dedupe.api:SimplePredicate: (oneGramFingerprint, label)\n"
     ]
    }
   ],
   "source": [
    "from dedupe import StaticDedupe\n",
    "from wc_simd.dedupe_service import settings_file\n",
    "\n",
    "with open(\"../\" + settings_file, 'rb') as f:\n",
    "    dedupe = StaticDedupe(f, num_cores=8)"
   ]
  },
  {
   "cell_type": "markdown",
   "id": "c544cea2",
   "metadata": {},
   "source": [
    "# Score Clusters"
   ]
  },
  {
   "cell_type": "code",
   "execution_count": null,
   "id": "0a7f4ecc",
   "metadata": {},
   "outputs": [
    {
     "data": {
      "text/plain": [
       "(166716,)"
      ]
     },
     "metadata": {},
     "output_type": "display_data"
    }
   ],
   "source": [
    "blocking_result_df.reset_index()[\"block_key\"].unique().shape"
   ]
  },
  {
   "cell_type": "code",
   "execution_count": null,
   "id": "109152cc",
   "metadata": {},
   "outputs": [
    {
     "data": {
      "application/vnd.microsoft.datawrangler.viewer.v0+json": {
       "columns": [
        {
         "name": "block_key",
         "rawType": "object",
         "type": "string"
        },
        {
         "name": "0",
         "rawType": "int64",
         "type": "integer"
        }
       ],
       "ref": "0435a572-867e-4557-b8d8-09c61d8a010b",
       "rows": [
        [
         "Great Britain:0",
         "2708628"
        ],
        [
         "University of:0",
         "1292028"
        ],
        [
         "United States:0",
         "597871"
        ],
        [
         "Symposium on:0",
         "285390"
        ],
        [
         "International Congress:0",
         "172578"
        ],
        [
         "Institute of:0",
         "90525"
        ],
        [
         "World War:0",
         "83845"
        ],
        [
         "Conference on:0",
         "78606"
        ],
        [
         "People with:0",
         "73536"
        ],
        [
         "Public health:0",
         "69751"
        ],
        [
         "Society for:0",
         "69378"
        ],
        [
         "International Symposium:0",
         "67528"
        ],
        [
         "New York:0",
         "58653"
        ],
        [
         "Society of:0",
         "48828"
        ],
        [
         "Association of:0",
         "46665"
        ],
        [
         "AIDS Disease:0",
         "36856"
        ],
        [
         "National Research:0",
         "34980"
        ],
        [
         "International Conference:0",
         "33411"
        ],
        [
         "Royal College:0",
         "31878"
        ],
        [
         "African American:0",
         "24310"
        ],
        [
         "African Americans:0",
         "23005"
        ],
        [
         "Mental health:0",
         "22791"
        ],
        [
         "Medical care:0",
         "21945"
        ],
        [
         "International Society:0",
         "19900"
        ],
        [
         "Author of:0",
         "18528"
        ],
        [
         "World Health:0",
         "17020"
        ],
        [
         "Women in:0",
         "15400"
        ],
        [
         "Mental illness:0",
         "15051"
        ],
        [
         "Université de:0",
         "14878"
        ],
        [
         "National Institute:0",
         "14196"
        ],
        [
         "British Medical:0",
         "14028"
        ],
        [
         "Università di:0",
         "14028"
        ],
        [
         "English language:0",
         "13695"
        ],
        [
         "Royal Society:0",
         "12720"
        ],
        [
         "Indians of:0",
         "12403"
        ],
        [
         "Deutsche Gesellschaft:0",
         "12246"
        ],
        [
         "Mentally ill:0",
         "12090"
        ],
        [
         "National Association:0",
         "11935"
        ],
        [
         "Older people:0",
         "10731"
        ],
        [
         "American Association:0",
         "10585"
        ],
        [
         "Association for:0",
         "10296"
        ],
        [
         "Public Health:0",
         "9453"
        ],
        [
         "Drug abuse:0",
         "9045"
        ],
        [
         "Sex instruction:0",
         "8911"
        ],
        [
         "Sexual minorities:0",
         "8911"
        ],
        [
         "Universidad de:0",
         "8001"
        ],
        [
         "Sex role:0",
         "7875"
        ],
        [
         "Wilkins Maurice:0",
         "7875"
        ],
        [
         "Human body:0",
         "7381"
        ],
        [
         "Société de:0",
         "7381"
        ]
       ],
       "shape": {
        "columns": 1,
        "rows": 166716
       }
      },
      "text/plain": [
       "block_key\n",
       "Great Britain:0             2708628\n",
       "University of:0             1292028\n",
       "United States:0              597871\n",
       "Symposium on:0               285390\n",
       "International Congress:0     172578\n",
       "                             ...   \n",
       "Commedia dellarte:0               1\n",
       "Commandments Six:0                1\n",
       "Commandments Judaism:0            1\n",
       "Command of:0                      1\n",
       "宇川玄田真:1                           1\n",
       "Length: 166716, dtype: int64"
      ]
     },
     "metadata": {},
     "output_type": "display_data"
    }
   ],
   "source": [
    "blocking_result_df.groupby(\"block_key\").size().sort_values(ascending=False)"
   ]
  },
  {
   "cell_type": "code",
   "execution_count": null,
   "id": "b447a67d",
   "metadata": {},
   "outputs": [
    {
     "data": {
      "image/png": "[encoded data removed]",
      "text/plain": [
       "<Figure size 1000x600 with 1 Axes>"
      ]
     },
     "metadata": {},
     "output_type": "display_data"
    },
    {
     "name": "stdout",
     "output_type": "stream",
     "text": [
      "Block sizes statistics:\n",
      "count    53363.000000\n",
      "mean         7.129640\n",
      "std          7.670314\n",
      "min          3.000000\n",
      "25%          3.000000\n",
      "50%          3.000000\n",
      "75%          6.000000\n",
      "max         45.000000\n",
      "dtype: float64\n"
     ]
    }
   ],
   "source": [
    "# Histogram of block sizes\n",
    "import matplotlib.pyplot as plt\n",
    "%matplotlib inline\n",
    "\n",
    "block_sizes = blocking_result_df.groupby(\"block_key\").size()\n",
    "#filter block sizes greater less than 50\n",
    "block_sizes = block_sizes[(block_sizes < 50) & (block_sizes > 1)]\n",
    "plt.figure(figsize=(10, 6))\n",
    "plt.hist(block_sizes, bins=50, color='blue', alpha=0.7)\n",
    "# plt.title('Distribution of Block Sizes')\n",
    "# plt.xlabel('Block Size')\n",
    "# plt.ylabel('Frequency')\n",
    "# plt.yscale('log')\n",
    "# plt.grid(axis='y', alpha=0.75)\n",
    "plt.show()\n",
    "\n",
    "print(\"Block sizes statistics:\")\n",
    "print(block_sizes.describe())"
   ]
  },
  {
   "cell_type": "code",
   "execution_count": 15,
   "id": "50594452",
   "metadata": {},
   "outputs": [
    {
     "data": {
      "text/plain": [
       "(7797058, 4)"
      ]
     },
     "execution_count": 15,
     "metadata": {},
     "output_type": "execute_result"
    }
   ],
   "source": [
    "blocking_result_df.shape"
   ]
  },
  {
   "cell_type": "code",
   "execution_count": 19,
   "id": "04721e36",
   "metadata": {},
   "outputs": [
    {
     "data": {
      "text/plain": [
       "(7797058, 4)"
      ]
     },
     "execution_count": 19,
     "metadata": {},
     "output_type": "execute_result"
    }
   ],
   "source": [
    "# sample_to_cluster_df = blocking_result_df.head(1000000)\n",
    "sample_to_cluster_df = blocking_result_df\n",
    "sample_to_cluster_df.shape"
   ]
  },
  {
   "cell_type": "code",
   "execution_count": 20,
   "id": "d0ea2603",
   "metadata": {},
   "outputs": [],
   "source": [
    "cluster_data = (((row[\"idx\"], row[\"dict\"]), (row[\"idx_r\"], row[\"dict_r\"]))\n",
    "                for idx, row in sample_to_cluster_df.iterrows())\n",
    "\n",
    "clustered_dupes = dedupe.cluster(\n",
    "    dedupe.score(cluster_data),\n",
    "    threshold=0.5)"
   ]
  },
  {
   "cell_type": "code",
   "execution_count": 21,
   "id": "a0aa40e0",
   "metadata": {},
   "outputs": [
    {
     "data": {
      "application/vnd.microsoft.datawrangler.viewer.v0+json": {
       "columns": [
        {
         "name": "id",
         "rawType": "int64",
         "type": "integer"
        },
        {
         "name": "canon_id",
         "rawType": "int64",
         "type": "integer"
        },
        {
         "name": "prob",
         "rawType": "float64",
         "type": "float"
        }
       ],
       "ref": "d94b8d37-f71a-4a1a-8b76-92453d1547ad",
       "rows": [
        [
         "228859",
         "0",
         "0.5543089350895243"
        ],
        [
         "264402",
         "0",
         "0.5543089350895243"
        ],
        [
         "306835",
         "1",
         "0.5437646552484339"
        ],
        [
         "306836",
         "1",
         "0.4699706094121935"
        ],
        [
         "323958",
         "1",
         "0.5437646552484339"
        ],
        [
         "578269",
         "180893",
         "0.5715282473076402"
        ],
        [
         "426001",
         "425999",
         "0.5016401339394476"
        ],
        [
         "229719",
         "3",
         "0.5592740330143187"
        ],
        [
         "229720",
         "3",
         "0.5529192011218584"
        ],
        [
         "594775",
         "3",
         "0.5592740330143187"
        ],
        [
         "53088",
         "4",
         "0.5789874497794492"
        ],
        [
         "199418",
         "4",
         "0.5789874497794492"
        ],
        [
         "205048",
         "4",
         "0.5789874497794492"
        ],
        [
         "11480",
         "5",
         "0.591885936906971"
        ],
        [
         "46745",
         "5",
         "0.591885936906971"
        ],
        [
         "302013",
         "5",
         "0.591885936906971"
        ],
        [
         "352747",
         "5",
         "0.591885936906971"
        ],
        [
         "131304",
         "7",
         "0.5337361675129146"
        ],
        [
         "131305",
         "7",
         "0.5098991474556893"
        ],
        [
         "343620",
         "7",
         "0.5337361675129146"
        ],
        [
         "509225",
         "370977",
         "0.6332935074919347"
        ],
        [
         "12",
         "11",
         "0.4731590937663982"
        ],
        [
         "227945",
         "11",
         "0.5813219616221239"
        ],
        [
         "227946",
         "11",
         "0.3983861152499526"
        ],
        [
         "466558",
         "11",
         "0.5813219616221239"
        ],
        [
         "165162",
         "165161",
         "0.6332935074919347"
        ],
        [
         "374674",
         "178143",
         "0.530015171808248"
        ],
        [
         "488607",
         "195492",
         "0.5251871396089098"
        ],
        [
         "363763",
         "267696",
         "0.6151789496979694"
        ],
        [
         "363764",
         "267696",
         "0.5978795828815101"
        ],
        [
         "569178",
         "320629",
         "0.5517203153449417"
        ],
        [
         "417527",
         "389305",
         "0.587909879727481"
        ],
        [
         "470987",
         "470986",
         "0.6042624116712423"
        ],
        [
         "517465",
         "517464",
         "0.6332935074919347"
        ],
        [
         "524577",
         "23",
         "0.6332935074919347"
        ],
        [
         "380771",
         "20846",
         "0.5344359264935523"
        ],
        [
         "596190",
         "400605",
         "0.5813887890181829"
        ],
        [
         "596191",
         "400605",
         "0.5867482391186472"
        ],
        [
         "596192",
         "400605",
         "0.5867482391186472"
        ],
        [
         "30",
         "29",
         "0.606592343063137"
        ],
        [
         "265194",
         "29",
         "0.6108822592409512"
        ],
        [
         "470615",
         "29",
         "0.5873218321491231"
        ],
        [
         "323292",
         "11423",
         "0.60657765457822"
        ],
        [
         "323293",
         "11423",
         "0.60657765457822"
        ],
        [
         "323294",
         "11423",
         "0.6084043431905726"
        ],
        [
         "369633",
         "11423",
         "0.5949919721727919"
        ],
        [
         "425492",
         "11423",
         "0.6084043431905726"
        ],
        [
         "93291",
         "19326",
         "0.39385381752506154"
        ],
        [
         "128947",
         "19326",
         "0.5702955829279344"
        ],
        [
         "128948",
         "19326",
         "0.5702955829279344"
        ]
       ],
       "shape": {
        "columns": 2,
        "rows": 112798
       }
      },
      "text/html": [
       "<div>\n",
       "<style scoped>\n",
       "    .dataframe tbody tr th:only-of-type {\n",
       "        vertical-align: middle;\n",
       "    }\n",
       "\n",
       "    .dataframe tbody tr th {\n",
       "        vertical-align: top;\n",
       "    }\n",
       "\n",
       "    .dataframe thead th {\n",
       "        text-align: right;\n",
       "    }\n",
       "</style>\n",
       "<table border=\"1\" class=\"dataframe\">\n",
       "  <thead>\n",
       "    <tr style=\"text-align: right;\">\n",
       "      <th></th>\n",
       "      <th>canon_id</th>\n",
       "      <th>prob</th>\n",
       "    </tr>\n",
       "    <tr>\n",
       "      <th>id</th>\n",
       "      <th></th>\n",
       "      <th></th>\n",
       "    </tr>\n",
       "  </thead>\n",
       "  <tbody>\n",
       "    <tr>\n",
       "      <th>228859</th>\n",
       "      <td>0</td>\n",
       "      <td>0.554309</td>\n",
       "    </tr>\n",
       "    <tr>\n",
       "      <th>264402</th>\n",
       "      <td>0</td>\n",
       "      <td>0.554309</td>\n",
       "    </tr>\n",
       "    <tr>\n",
       "      <th>306835</th>\n",
       "      <td>1</td>\n",
       "      <td>0.543765</td>\n",
       "    </tr>\n",
       "    <tr>\n",
       "      <th>306836</th>\n",
       "      <td>1</td>\n",
       "      <td>0.469971</td>\n",
       "    </tr>\n",
       "    <tr>\n",
       "      <th>323958</th>\n",
       "      <td>1</td>\n",
       "      <td>0.543765</td>\n",
       "    </tr>\n",
       "    <tr>\n",
       "      <th>...</th>\n",
       "      <td>...</td>\n",
       "      <td>...</td>\n",
       "    </tr>\n",
       "    <tr>\n",
       "      <th>646577</th>\n",
       "      <td>646576</td>\n",
       "      <td>0.633294</td>\n",
       "    </tr>\n",
       "    <tr>\n",
       "      <th>646681</th>\n",
       "      <td>646680</td>\n",
       "      <td>0.620203</td>\n",
       "    </tr>\n",
       "    <tr>\n",
       "      <th>646696</th>\n",
       "      <td>646695</td>\n",
       "      <td>0.602892</td>\n",
       "    </tr>\n",
       "    <tr>\n",
       "      <th>646699</th>\n",
       "      <td>646698</td>\n",
       "      <td>0.588207</td>\n",
       "    </tr>\n",
       "    <tr>\n",
       "      <th>646700</th>\n",
       "      <td>646698</td>\n",
       "      <td>0.557174</td>\n",
       "    </tr>\n",
       "  </tbody>\n",
       "</table>\n",
       "<p>112798 rows × 2 columns</p>\n",
       "</div>"
      ],
      "text/plain": [
       "        canon_id      prob\n",
       "id                        \n",
       "228859         0  0.554309\n",
       "264402         0  0.554309\n",
       "306835         1  0.543765\n",
       "306836         1  0.469971\n",
       "323958         1  0.543765\n",
       "...          ...       ...\n",
       "646577    646576  0.633294\n",
       "646681    646680  0.620203\n",
       "646696    646695  0.602892\n",
       "646699    646698  0.588207\n",
       "646700    646698  0.557174\n",
       "\n",
       "[112798 rows x 2 columns]"
      ]
     },
     "execution_count": 21,
     "metadata": {},
     "output_type": "execute_result"
    }
   ],
   "source": [
    "\n",
    "def cluster_ids(clustered_dupes):\n",
    "    for cluster, scores in clustered_dupes:\n",
    "        cluster_id = cluster[0]\n",
    "        for entry_id, score in zip(cluster, scores):\n",
    "            if entry_id == cluster_id:\n",
    "                continue\n",
    "            yield entry_id, cluster_id, score\n",
    "\n",
    "clustered_dupes_df = pd.DataFrame(cluster_ids(clustered_dupes), columns=[\"id\", \"canon_id\", \"prob\"]).set_index(\"id\")\n",
    "clustered_dupes_df"
   ]
  },
  {
   "cell_type": "code",
   "execution_count": 22,
   "id": "11c65b91",
   "metadata": {},
   "outputs": [],
   "source": [
    "clustered_dupes_df.to_csv(\"../data/dn_labels_clustered_dupes.csv\", index=True)"
   ]
  },
  {
   "cell_type": "code",
   "execution_count": 16,
   "id": "1402ed1d",
   "metadata": {},
   "outputs": [
    {
     "data": {
      "application/vnd.microsoft.datawrangler.viewer.v0+json": {
       "columns": [
        {
         "name": "id",
         "rawType": "int64",
         "type": "integer"
        },
        {
         "name": "canon_id",
         "rawType": "int64",
         "type": "integer"
        },
        {
         "name": "prob",
         "rawType": "float64",
         "type": "float"
        }
       ],
       "ref": "914bb644-c14b-4112-9bc8-670abd36a231",
       "rows": [
        [
         "646766",
         "646765",
         "0.6332935074919347"
        ],
        [
         "646761",
         "646760",
         "0.4904529996497019"
        ],
        [
         "646762",
         "646760",
         "0.554825118064157"
        ],
        [
         "646700",
         "646698",
         "0.5571744494318677"
        ],
        [
         "646699",
         "646698",
         "0.5882071042456656"
        ],
        [
         "646696",
         "646695",
         "0.6028922710794287"
        ],
        [
         "646681",
         "646680",
         "0.6202031995381279"
        ],
        [
         "646639",
         "646638",
         "0.6104433555021029"
        ],
        [
         "646623",
         "646622",
         "0.5439867450984182"
        ],
        [
         "646577",
         "646576",
         "0.6332935074919347"
        ],
        [
         "646564",
         "646563",
         "0.5389048474189997"
        ],
        [
         "646551",
         "646550",
         "0.6332935074919347"
        ],
        [
         "646540",
         "646539",
         "0.5958207895973568"
        ],
        [
         "646512",
         "646511",
         "0.5314581936010555"
        ],
        [
         "646513",
         "646511",
         "0.4658013021166142"
        ],
        [
         "646502",
         "646501",
         "0.6332935074919347"
        ],
        [
         "646494",
         "646492",
         "0.5560405271936507"
        ],
        [
         "646491",
         "646489",
         "0.5072203822151163"
        ],
        [
         "646435",
         "646434",
         "0.6332935074919347"
        ],
        [
         "646399",
         "646398",
         "0.6332935074919347"
        ],
        [
         "646388",
         "646387",
         "0.5978795828815101"
        ],
        [
         "646332",
         "646331",
         "0.5935084254257044"
        ],
        [
         "646315",
         "646314",
         "0.5339360904047334"
        ],
        [
         "646296",
         "646295",
         "0.5978795828815101"
        ],
        [
         "646252",
         "646250",
         "0.6197451376100389"
        ],
        [
         "646251",
         "646250",
         "0.6197451376100389"
        ],
        [
         "646231",
         "646230",
         "0.5775822401046753"
        ],
        [
         "646204",
         "646203",
         "0.6013866139593883"
        ],
        [
         "646178",
         "646177",
         "0.5476630330085754"
        ],
        [
         "646151",
         "646150",
         "0.6332935074919347"
        ],
        [
         "646147",
         "646145",
         "0.5438352305186118"
        ],
        [
         "646140",
         "646138",
         "0.5396534133034177"
        ],
        [
         "646067",
         "646066",
         "0.5935084254257044"
        ],
        [
         "646061",
         "646060",
         "0.587909879727481"
        ],
        [
         "646032",
         "646031",
         "0.587909879727481"
        ],
        [
         "646029",
         "646028",
         "0.5476630330085754"
        ],
        [
         "646018",
         "646017",
         "0.5715282473076402"
        ],
        [
         "645995",
         "645994",
         "0.6332935074919347"
        ],
        [
         "645984",
         "645983",
         "0.6144554547937786"
        ],
        [
         "645927",
         "645926",
         "0.5627828240394592"
        ],
        [
         "645925",
         "645924",
         "0.5804851641749238"
        ],
        [
         "645920",
         "645919",
         "0.6332935074919347"
        ],
        [
         "645917",
         "645916",
         "0.6202031995381279"
        ],
        [
         "645910",
         "645909",
         "0.6332935074919347"
        ],
        [
         "645904",
         "645903",
         "0.6104433555021029"
        ],
        [
         "645868",
         "645867",
         "0.6220354988302261"
        ],
        [
         "645859",
         "645858",
         "0.6332935074919347"
        ],
        [
         "645841",
         "645840",
         "0.6332935074919347"
        ],
        [
         "645839",
         "645838",
         "0.6332935074919347"
        ],
        [
         "645828",
         "645827",
         "0.5958207895973568"
        ]
       ],
       "shape": {
        "columns": 2,
        "rows": 112798
       }
      },
      "text/html": [
       "<div>\n",
       "<style scoped>\n",
       "    .dataframe tbody tr th:only-of-type {\n",
       "        vertical-align: middle;\n",
       "    }\n",
       "\n",
       "    .dataframe tbody tr th {\n",
       "        vertical-align: top;\n",
       "    }\n",
       "\n",
       "    .dataframe thead th {\n",
       "        text-align: right;\n",
       "    }\n",
       "</style>\n",
       "<table border=\"1\" class=\"dataframe\">\n",
       "  <thead>\n",
       "    <tr style=\"text-align: right;\">\n",
       "      <th></th>\n",
       "      <th>canon_id</th>\n",
       "      <th>prob</th>\n",
       "    </tr>\n",
       "    <tr>\n",
       "      <th>id</th>\n",
       "      <th></th>\n",
       "      <th></th>\n",
       "    </tr>\n",
       "  </thead>\n",
       "  <tbody>\n",
       "    <tr>\n",
       "      <th>646766</th>\n",
       "      <td>646765</td>\n",
       "      <td>0.633294</td>\n",
       "    </tr>\n",
       "    <tr>\n",
       "      <th>646761</th>\n",
       "      <td>646760</td>\n",
       "      <td>0.490453</td>\n",
       "    </tr>\n",
       "    <tr>\n",
       "      <th>646762</th>\n",
       "      <td>646760</td>\n",
       "      <td>0.554825</td>\n",
       "    </tr>\n",
       "    <tr>\n",
       "      <th>646700</th>\n",
       "      <td>646698</td>\n",
       "      <td>0.557174</td>\n",
       "    </tr>\n",
       "    <tr>\n",
       "      <th>646699</th>\n",
       "      <td>646698</td>\n",
       "      <td>0.588207</td>\n",
       "    </tr>\n",
       "    <tr>\n",
       "      <th>...</th>\n",
       "      <td>...</td>\n",
       "      <td>...</td>\n",
       "    </tr>\n",
       "    <tr>\n",
       "      <th>323958</th>\n",
       "      <td>1</td>\n",
       "      <td>0.543765</td>\n",
       "    </tr>\n",
       "    <tr>\n",
       "      <th>306836</th>\n",
       "      <td>1</td>\n",
       "      <td>0.469971</td>\n",
       "    </tr>\n",
       "    <tr>\n",
       "      <th>306835</th>\n",
       "      <td>1</td>\n",
       "      <td>0.543765</td>\n",
       "    </tr>\n",
       "    <tr>\n",
       "      <th>264402</th>\n",
       "      <td>0</td>\n",
       "      <td>0.554309</td>\n",
       "    </tr>\n",
       "    <tr>\n",
       "      <th>228859</th>\n",
       "      <td>0</td>\n",
       "      <td>0.554309</td>\n",
       "    </tr>\n",
       "  </tbody>\n",
       "</table>\n",
       "<p>112798 rows × 2 columns</p>\n",
       "</div>"
      ],
      "text/plain": [
       "        canon_id      prob\n",
       "id                        \n",
       "646766    646765  0.633294\n",
       "646761    646760  0.490453\n",
       "646762    646760  0.554825\n",
       "646700    646698  0.557174\n",
       "646699    646698  0.588207\n",
       "...          ...       ...\n",
       "323958         1  0.543765\n",
       "306836         1  0.469971\n",
       "306835         1  0.543765\n",
       "264402         0  0.554309\n",
       "228859         0  0.554309\n",
       "\n",
       "[112798 rows x 2 columns]"
      ]
     },
     "execution_count": 16,
     "metadata": {},
     "output_type": "execute_result"
    }
   ],
   "source": [
    "import pandas as pd\n",
    "\n",
    "clustered_dupes_df = pd.read_csv(\"../data/dn_labels_clustered_dupes.csv\", index_col=\"id\")\n",
    "clustered_dupes_df.sort_values(by=\"canon_id\", ascending=False)"
   ]
  },
  {
   "cell_type": "code",
   "execution_count": 14,
   "id": "14b17e77",
   "metadata": {},
   "outputs": [],
   "source": [
    "import pandas as pd\n",
    "from wc_simd.dedupe_service import dedup_data_file\n",
    "\n",
    "dedup_data = pd.read_csv(\"../\" + dedup_data_file, index_col=0)\n",
    "dedup_data_indexed = dedup_data[[\"label\", \"type\"]]"
   ]
  },
  {
   "cell_type": "code",
   "execution_count": 20,
   "id": "fd977735",
   "metadata": {},
   "outputs": [
    {
     "data": {
      "application/vnd.microsoft.datawrangler.viewer.v0+json": {
       "columns": [
        {
         "name": "canon_id",
         "rawType": "int64",
         "type": "integer"
        },
        {
         "name": "id",
         "rawType": "int64",
         "type": "integer"
        },
        {
         "name": "prob",
         "rawType": "float64",
         "type": "float"
        },
        {
         "name": "label",
         "rawType": "object",
         "type": "string"
        },
        {
         "name": "type",
         "rawType": "object",
         "type": "string"
        },
        {
         "name": "label_canon",
         "rawType": "object",
         "type": "string"
        },
        {
         "name": "type_canon",
         "rawType": "object",
         "type": "string"
        }
       ],
       "ref": "2f2f0a3c-509b-414d-820f-1549f0c54e56",
       "rows": [
        [
         "0",
         "228859",
         "0.5543089350895243",
         "Children",
         "Concept",
         "Children",
         "missing"
        ],
        [
         "0",
         "264402",
         "0.5543089350895243",
         "Children",
         "Concept",
         "Children",
         "missing"
        ],
        [
         "1",
         "306835",
         "0.5437646552484339",
         "Criminal law",
         "Concept",
         "Criminal law",
         "missing"
        ],
        [
         "1",
         "323958",
         "0.5437646552484339",
         "Criminal law",
         "Concept",
         "Criminal law",
         "missing"
        ],
        [
         "180893",
         "578269",
         "0.5715282473076402",
         "Criminal law - United States",
         "Concept",
         "Criminal law - United States - History",
         "Concept"
        ],
        [
         "3",
         "229719",
         "0.5592740330143187",
         "Law",
         "Concept",
         "Law",
         "missing"
        ],
        [
         "3",
         "229720",
         "0.5529192011218584",
         "Law",
         "GenreConcept",
         "Law",
         "missing"
        ],
        [
         "3",
         "594775",
         "0.5592740330143187",
         "Law",
         "Concept",
         "Law",
         "missing"
        ],
        [
         "4",
         "53088",
         "0.5789874497794492",
         "Police",
         "Concept",
         "Police",
         "missing"
        ],
        [
         "4",
         "199418",
         "0.5789874497794492",
         "Police",
         "Concept",
         "Police",
         "missing"
        ],
        [
         "4",
         "205048",
         "0.5789874497794492",
         "Police",
         "Concept",
         "Police",
         "missing"
        ],
        [
         "5",
         "11480",
         "0.591885936906971",
         "Women",
         "Concept",
         "Women",
         "missing"
        ],
        [
         "5",
         "46745",
         "0.591885936906971",
         "Women",
         "Concept",
         "Women",
         "missing"
        ],
        [
         "5",
         "302013",
         "0.591885936906971",
         "Women",
         "Concept",
         "Women",
         "missing"
        ],
        [
         "5",
         "352747",
         "0.591885936906971",
         "Women",
         "Concept",
         "Women",
         "missing"
        ],
        [
         "7",
         "131304",
         "0.5337361675129146",
         "Youth",
         "Concept",
         "Youth",
         "missing"
        ],
        [
         "7",
         "343620",
         "0.5337361675129146",
         "Youth",
         "Concept",
         "Youth",
         "missing"
        ],
        [
         "370977",
         "509225",
         "0.6332935074919347",
         "Circle of Willis",
         "Concept",
         "Circle of Willis",
         "Concept"
        ],
        [
         "11",
         "227945",
         "0.5813219616221239",
         "Jones, John",
         "Person",
         "Jones, John E",
         "Person"
        ],
        [
         "11",
         "466558",
         "0.5813219616221239",
         "Jones, John",
         "Person",
         "Jones, John E",
         "Person"
        ],
        [
         "165161",
         "165162",
         "0.6332935074919347",
         "Jones, John (Physician)",
         "Person",
         "Jones, John (Physician)",
         "Person"
        ],
        [
         "178143",
         "374674",
         "0.530015171808248",
         "Jones, John Gale, 1769-1838",
         "Person",
         "Jones, John Gale",
         "Person"
        ],
        [
         "195492",
         "488607",
         "0.5251871396089098",
         "Jones, John Paul",
         "Person",
         "Jones, John Paul, 1747-1792.",
         "Person"
        ],
        [
         "267696",
         "363763",
         "0.6151789496979694",
         "Johnstone, Matthew",
         "Person",
         "Johnstone, Matthew",
         "Person"
        ],
        [
         "267696",
         "363764",
         "0.5978795828815101",
         "Johnstone, Matthew.",
         "Person",
         "Johnstone, Matthew",
         "Person"
        ],
        [
         "320629",
         "569178",
         "0.5517203153449417",
         "Jones, Catherine",
         "Person",
         "Jones, Catherine, 1941-",
         "Person"
        ],
        [
         "389305",
         "417527",
         "0.587909879727481",
         "Matthews, John.",
         "Person",
         "Matthews, John",
         "Person"
        ],
        [
         "470986",
         "470987",
         "0.6042624116712423",
         "Jones, John, 1645-1709.",
         "Person",
         "Jones, John, 1645-1709",
         "Person"
        ],
        [
         "517464",
         "517465",
         "0.6332935074919347",
         "Jones, John, 1729-1791.",
         "Person",
         "Jones, John, 1729-1791.",
         "Person"
        ],
        [
         "23",
         "524577",
         "0.6332935074919347",
         "Hartstein, Jack, 1924-",
         "Person",
         "Hartstein, Jack, 1924-",
         "Person"
        ],
        [
         "20846",
         "380771",
         "0.5344359264935523",
         "Databases as Topic - standards",
         "Concept",
         "Databases as Topic",
         "Concept"
        ],
        [
         "400605",
         "596190",
         "0.5813887890181829",
         "Fournier, Alfred, 1832-1914",
         "Person",
         "Fournier, Alfred",
         "Person"
        ],
        [
         "400605",
         "596191",
         "0.5867482391186472",
         "Fournier, Alfred, 1832-1914.",
         "Person",
         "Fournier, Alfred",
         "Person"
        ],
        [
         "400605",
         "596192",
         "0.5867482391186472",
         "Fournier, Alfred, 1832-1914.",
         "Person",
         "Fournier, Alfred",
         "Person"
        ],
        [
         "29",
         "30",
         "0.606592343063137",
         "Royal College of Surgeons in London.",
         "Organisation",
         "Royal College of Surgeons in London",
         "Organisation"
        ],
        [
         "29",
         "265194",
         "0.6108822592409512",
         "Royal College of Surgeons in London",
         "Organisation",
         "Royal College of Surgeons in London",
         "Organisation"
        ],
        [
         "29",
         "470615",
         "0.5873218321491231",
         "Royal College of Surgeons in London. Museum.",
         "Organisation",
         "Royal College of Surgeons in London",
         "Organisation"
        ],
        [
         "11423",
         "323292",
         "0.60657765457822",
         "Royal College of Veterinary Surgeons",
         "Organisation",
         "Royal College of Veterinary Surgeons. Library.",
         "Organisation"
        ],
        [
         "11423",
         "323293",
         "0.60657765457822",
         "Royal College of Veterinary Surgeons",
         "Organisation",
         "Royal College of Veterinary Surgeons. Library.",
         "Organisation"
        ],
        [
         "11423",
         "323294",
         "0.6084043431905726",
         "Royal College of Veterinary Surgeons.",
         "Organisation",
         "Royal College of Veterinary Surgeons. Library.",
         "Organisation"
        ],
        [
         "11423",
         "369633",
         "0.5949919721727919",
         "Royal College of Veterinary Surgeons. Library",
         "Organisation",
         "Royal College of Veterinary Surgeons. Library.",
         "Organisation"
        ],
        [
         "11423",
         "425492",
         "0.6084043431905726",
         "Royal College of Veterinary Surgeons.",
         "Organisation",
         "Royal College of Veterinary Surgeons. Library.",
         "Organisation"
        ],
        [
         "19326",
         "128947",
         "0.5702955829279344",
         "Royal College of Physicians of London",
         "Organisation",
         "Royal College of Physicians",
         "Organisation"
        ],
        [
         "19326",
         "128948",
         "0.5702955829279344",
         "Royal College of Physicians of London",
         "Organisation",
         "Royal College of Physicians",
         "Organisation"
        ],
        [
         "19326",
         "128949",
         "0.5685682416697497",
         "Royal College of Physicians of London.",
         "Organisation",
         "Royal College of Physicians",
         "Organisation"
        ],
        [
         "19326",
         "245373",
         "0.5702955829279344",
         "Royal College of Physicians of London",
         "Organisation",
         "Royal College of Physicians",
         "Organisation"
        ],
        [
         "19326",
         "245374",
         "0.5702955829279344",
         "Royal College of Physicians of London",
         "Organisation",
         "Royal College of Physicians",
         "Organisation"
        ],
        [
         "19326",
         "245375",
         "0.5685682416697497",
         "Royal College of Physicians of London.",
         "Organisation",
         "Royal College of Physicians",
         "Organisation"
        ],
        [
         "19326",
         "304428",
         "0.5702955829279344",
         "Royal College of Physicians of London",
         "Organisation",
         "Royal College of Physicians",
         "Organisation"
        ],
        [
         "19326",
         "304429",
         "0.5702955829279344",
         "Royal College of Physicians of London",
         "Organisation",
         "Royal College of Physicians",
         "Organisation"
        ]
       ],
       "shape": {
        "columns": 6,
        "rows": 99557
       }
      },
      "text/html": [
       "<div>\n",
       "<style scoped>\n",
       "    .dataframe tbody tr th:only-of-type {\n",
       "        vertical-align: middle;\n",
       "    }\n",
       "\n",
       "    .dataframe tbody tr th {\n",
       "        vertical-align: top;\n",
       "    }\n",
       "\n",
       "    .dataframe thead th {\n",
       "        text-align: right;\n",
       "    }\n",
       "</style>\n",
       "<table border=\"1\" class=\"dataframe\">\n",
       "  <thead>\n",
       "    <tr style=\"text-align: right;\">\n",
       "      <th></th>\n",
       "      <th>id</th>\n",
       "      <th>prob</th>\n",
       "      <th>label</th>\n",
       "      <th>type</th>\n",
       "      <th>label_canon</th>\n",
       "      <th>type_canon</th>\n",
       "    </tr>\n",
       "    <tr>\n",
       "      <th>canon_id</th>\n",
       "      <th></th>\n",
       "      <th></th>\n",
       "      <th></th>\n",
       "      <th></th>\n",
       "      <th></th>\n",
       "      <th></th>\n",
       "    </tr>\n",
       "  </thead>\n",
       "  <tbody>\n",
       "    <tr>\n",
       "      <th>0</th>\n",
       "      <td>228859</td>\n",
       "      <td>0.554309</td>\n",
       "      <td>Children</td>\n",
       "      <td>Concept</td>\n",
       "      <td>Children</td>\n",
       "      <td>missing</td>\n",
       "    </tr>\n",
       "    <tr>\n",
       "      <th>0</th>\n",
       "      <td>264402</td>\n",
       "      <td>0.554309</td>\n",
       "      <td>Children</td>\n",
       "      <td>Concept</td>\n",
       "      <td>Children</td>\n",
       "      <td>missing</td>\n",
       "    </tr>\n",
       "    <tr>\n",
       "      <th>1</th>\n",
       "      <td>306835</td>\n",
       "      <td>0.543765</td>\n",
       "      <td>Criminal law</td>\n",
       "      <td>Concept</td>\n",
       "      <td>Criminal law</td>\n",
       "      <td>missing</td>\n",
       "    </tr>\n",
       "    <tr>\n",
       "      <th>1</th>\n",
       "      <td>323958</td>\n",
       "      <td>0.543765</td>\n",
       "      <td>Criminal law</td>\n",
       "      <td>Concept</td>\n",
       "      <td>Criminal law</td>\n",
       "      <td>missing</td>\n",
       "    </tr>\n",
       "    <tr>\n",
       "      <th>180893</th>\n",
       "      <td>578269</td>\n",
       "      <td>0.571528</td>\n",
       "      <td>Criminal law - United States</td>\n",
       "      <td>Concept</td>\n",
       "      <td>Criminal law - United States - History</td>\n",
       "      <td>Concept</td>\n",
       "    </tr>\n",
       "    <tr>\n",
       "      <th>...</th>\n",
       "      <td>...</td>\n",
       "      <td>...</td>\n",
       "      <td>...</td>\n",
       "      <td>...</td>\n",
       "      <td>...</td>\n",
       "      <td>...</td>\n",
       "    </tr>\n",
       "    <tr>\n",
       "      <th>646576</th>\n",
       "      <td>646577</td>\n",
       "      <td>0.633294</td>\n",
       "      <td>Nossal, G. J. V. (Gustav Joseph Victor), 1931-</td>\n",
       "      <td>Person</td>\n",
       "      <td>Nossal, G. J. V. (Gustav Joseph Victor), 1931-</td>\n",
       "      <td>Person</td>\n",
       "    </tr>\n",
       "    <tr>\n",
       "      <th>646680</th>\n",
       "      <td>646681</td>\n",
       "      <td>0.620203</td>\n",
       "      <td>Pickering, Percival Spencer Umfreville, 1858-1...</td>\n",
       "      <td>Agent</td>\n",
       "      <td>Pickering, Percival Spencer Umfreville, 1858-1920</td>\n",
       "      <td>Agent</td>\n",
       "    </tr>\n",
       "    <tr>\n",
       "      <th>646695</th>\n",
       "      <td>646696</td>\n",
       "      <td>0.602892</td>\n",
       "      <td>Holt Radium Institute.</td>\n",
       "      <td>Organisation</td>\n",
       "      <td>Holt Radium Institute</td>\n",
       "      <td>Organisation</td>\n",
       "    </tr>\n",
       "    <tr>\n",
       "      <th>646698</th>\n",
       "      <td>646699</td>\n",
       "      <td>0.588207</td>\n",
       "      <td>Bolton, E. Richards (Edward Richards), 1878-1939.</td>\n",
       "      <td>Person</td>\n",
       "      <td>Bolton, E. Richards (Edward Richards), 1878-1939</td>\n",
       "      <td>Person</td>\n",
       "    </tr>\n",
       "    <tr>\n",
       "      <th>646698</th>\n",
       "      <td>646700</td>\n",
       "      <td>0.557174</td>\n",
       "      <td>Bolton, E. Richards (Edward Richards), 1878-19...</td>\n",
       "      <td>Person</td>\n",
       "      <td>Bolton, E. Richards (Edward Richards), 1878-1939</td>\n",
       "      <td>Person</td>\n",
       "    </tr>\n",
       "  </tbody>\n",
       "</table>\n",
       "<p>99557 rows × 6 columns</p>\n",
       "</div>"
      ],
      "text/plain": [
       "              id      prob                                              label  \\\n",
       "canon_id                                                                        \n",
       "0         228859  0.554309                                           Children   \n",
       "0         264402  0.554309                                           Children   \n",
       "1         306835  0.543765                                       Criminal law   \n",
       "1         323958  0.543765                                       Criminal law   \n",
       "180893    578269  0.571528                       Criminal law - United States   \n",
       "...          ...       ...                                                ...   \n",
       "646576    646577  0.633294     Nossal, G. J. V. (Gustav Joseph Victor), 1931-   \n",
       "646680    646681  0.620203  Pickering, Percival Spencer Umfreville, 1858-1...   \n",
       "646695    646696  0.602892                             Holt Radium Institute.   \n",
       "646698    646699  0.588207  Bolton, E. Richards (Edward Richards), 1878-1939.   \n",
       "646698    646700  0.557174  Bolton, E. Richards (Edward Richards), 1878-19...   \n",
       "\n",
       "                  type                                        label_canon  \\\n",
       "canon_id                                                                    \n",
       "0              Concept                                           Children   \n",
       "0              Concept                                           Children   \n",
       "1              Concept                                       Criminal law   \n",
       "1              Concept                                       Criminal law   \n",
       "180893         Concept             Criminal law - United States - History   \n",
       "...                ...                                                ...   \n",
       "646576          Person     Nossal, G. J. V. (Gustav Joseph Victor), 1931-   \n",
       "646680           Agent  Pickering, Percival Spencer Umfreville, 1858-1920   \n",
       "646695    Organisation                              Holt Radium Institute   \n",
       "646698          Person   Bolton, E. Richards (Edward Richards), 1878-1939   \n",
       "646698          Person   Bolton, E. Richards (Edward Richards), 1878-1939   \n",
       "\n",
       "            type_canon  \n",
       "canon_id                \n",
       "0              missing  \n",
       "0              missing  \n",
       "1              missing  \n",
       "1              missing  \n",
       "180893         Concept  \n",
       "...                ...  \n",
       "646576          Person  \n",
       "646680           Agent  \n",
       "646695    Organisation  \n",
       "646698          Person  \n",
       "646698          Person  \n",
       "\n",
       "[99557 rows x 6 columns]"
      ]
     },
     "execution_count": 20,
     "metadata": {},
     "output_type": "execute_result"
    }
   ],
   "source": [
    "dedup_df = (\n",
    "    clustered_dupes_df\n",
    "    .join(dedup_data_indexed)\n",
    "    .reset_index()\n",
    "    .set_index(\"canon_id\")\n",
    "    .join(dedup_data_indexed, rsuffix=\"_canon\")\n",
    "    .query(\"prob > 0.52\")\n",
    "    # .sort_values(by=[\"canon_id\"], ascending=True)\n",
    "    \n",
    ")\n",
    "dedup_df"
   ]
  },
  {
   "cell_type": "code",
   "execution_count": 21,
   "id": "90654ba7",
   "metadata": {},
   "outputs": [
    {
     "data": {
      "application/vnd.microsoft.datawrangler.viewer.v0+json": {
       "columns": [
        {
         "name": "canon_id",
         "rawType": "int64",
         "type": "integer"
        },
        {
         "name": "id",
         "rawType": "int64",
         "type": "integer"
        },
        {
         "name": "prob",
         "rawType": "float64",
         "type": "float"
        },
        {
         "name": "label",
         "rawType": "object",
         "type": "string"
        },
        {
         "name": "type",
         "rawType": "object",
         "type": "string"
        },
        {
         "name": "label_canon",
         "rawType": "object",
         "type": "string"
        },
        {
         "name": "type_canon",
         "rawType": "object",
         "type": "string"
        }
       ],
       "ref": "2cd59018-2c8e-45c4-b00d-e24a219c45a6",
       "rows": [
        [
         "180893",
         "578269",
         "0.5715282473076402",
         "Criminal law - United States",
         "Concept",
         "Criminal law - United States - History",
         "Concept"
        ],
        [
         "11",
         "227945",
         "0.5813219616221239",
         "Jones, John",
         "Person",
         "Jones, John E",
         "Person"
        ],
        [
         "11",
         "466558",
         "0.5813219616221239",
         "Jones, John",
         "Person",
         "Jones, John E",
         "Person"
        ],
        [
         "178143",
         "374674",
         "0.530015171808248",
         "Jones, John Gale, 1769-1838",
         "Person",
         "Jones, John Gale",
         "Person"
        ],
        [
         "195492",
         "488607",
         "0.5251871396089098",
         "Jones, John Paul",
         "Person",
         "Jones, John Paul, 1747-1792.",
         "Person"
        ],
        [
         "267696",
         "363764",
         "0.5978795828815101",
         "Johnstone, Matthew.",
         "Person",
         "Johnstone, Matthew",
         "Person"
        ],
        [
         "320629",
         "569178",
         "0.5517203153449417",
         "Jones, Catherine",
         "Person",
         "Jones, Catherine, 1941-",
         "Person"
        ],
        [
         "389305",
         "417527",
         "0.587909879727481",
         "Matthews, John.",
         "Person",
         "Matthews, John",
         "Person"
        ],
        [
         "470986",
         "470987",
         "0.6042624116712423",
         "Jones, John, 1645-1709.",
         "Person",
         "Jones, John, 1645-1709",
         "Person"
        ],
        [
         "20846",
         "380771",
         "0.5344359264935523",
         "Databases as Topic - standards",
         "Concept",
         "Databases as Topic",
         "Concept"
        ],
        [
         "400605",
         "596190",
         "0.5813887890181829",
         "Fournier, Alfred, 1832-1914",
         "Person",
         "Fournier, Alfred",
         "Person"
        ],
        [
         "400605",
         "596191",
         "0.5867482391186472",
         "Fournier, Alfred, 1832-1914.",
         "Person",
         "Fournier, Alfred",
         "Person"
        ],
        [
         "400605",
         "596192",
         "0.5867482391186472",
         "Fournier, Alfred, 1832-1914.",
         "Person",
         "Fournier, Alfred",
         "Person"
        ],
        [
         "29",
         "30",
         "0.606592343063137",
         "Royal College of Surgeons in London.",
         "Organisation",
         "Royal College of Surgeons in London",
         "Organisation"
        ],
        [
         "29",
         "470615",
         "0.5873218321491231",
         "Royal College of Surgeons in London. Museum.",
         "Organisation",
         "Royal College of Surgeons in London",
         "Organisation"
        ],
        [
         "11423",
         "323292",
         "0.60657765457822",
         "Royal College of Veterinary Surgeons",
         "Organisation",
         "Royal College of Veterinary Surgeons. Library.",
         "Organisation"
        ],
        [
         "11423",
         "323293",
         "0.60657765457822",
         "Royal College of Veterinary Surgeons",
         "Organisation",
         "Royal College of Veterinary Surgeons. Library.",
         "Organisation"
        ],
        [
         "11423",
         "323294",
         "0.6084043431905726",
         "Royal College of Veterinary Surgeons.",
         "Organisation",
         "Royal College of Veterinary Surgeons. Library.",
         "Organisation"
        ],
        [
         "11423",
         "369633",
         "0.5949919721727919",
         "Royal College of Veterinary Surgeons. Library",
         "Organisation",
         "Royal College of Veterinary Surgeons. Library.",
         "Organisation"
        ],
        [
         "11423",
         "425492",
         "0.6084043431905726",
         "Royal College of Veterinary Surgeons.",
         "Organisation",
         "Royal College of Veterinary Surgeons. Library.",
         "Organisation"
        ],
        [
         "19326",
         "128947",
         "0.5702955829279344",
         "Royal College of Physicians of London",
         "Organisation",
         "Royal College of Physicians",
         "Organisation"
        ],
        [
         "19326",
         "128948",
         "0.5702955829279344",
         "Royal College of Physicians of London",
         "Organisation",
         "Royal College of Physicians",
         "Organisation"
        ],
        [
         "19326",
         "128949",
         "0.5685682416697497",
         "Royal College of Physicians of London.",
         "Organisation",
         "Royal College of Physicians",
         "Organisation"
        ],
        [
         "19326",
         "245373",
         "0.5702955829279344",
         "Royal College of Physicians of London",
         "Organisation",
         "Royal College of Physicians",
         "Organisation"
        ],
        [
         "19326",
         "245374",
         "0.5702955829279344",
         "Royal College of Physicians of London",
         "Organisation",
         "Royal College of Physicians",
         "Organisation"
        ],
        [
         "19326",
         "245375",
         "0.5685682416697497",
         "Royal College of Physicians of London.",
         "Organisation",
         "Royal College of Physicians",
         "Organisation"
        ],
        [
         "19326",
         "304428",
         "0.5702955829279344",
         "Royal College of Physicians of London",
         "Organisation",
         "Royal College of Physicians",
         "Organisation"
        ],
        [
         "19326",
         "304429",
         "0.5702955829279344",
         "Royal College of Physicians of London",
         "Organisation",
         "Royal College of Physicians",
         "Organisation"
        ],
        [
         "19326",
         "304430",
         "0.5685682416697497",
         "Royal College of Physicians of London.",
         "Organisation",
         "Royal College of Physicians",
         "Organisation"
        ],
        [
         "19326",
         "414734",
         "0.5702955829279344",
         "Royal College of Physicians of London",
         "Organisation",
         "Royal College of Physicians",
         "Organisation"
        ],
        [
         "19326",
         "414736",
         "0.5685682416697497",
         "Royal College of Physicians of London.",
         "Organisation",
         "Royal College of Physicians",
         "Organisation"
        ],
        [
         "19326",
         "627499",
         "0.5702955829279344",
         "Royal College of Physicians of London",
         "Organisation",
         "Royal College of Physicians",
         "Organisation"
        ],
        [
         "22690",
         "89394",
         "0.555301839054214",
         "Royal College of Science and Technology (Glasgow, Scotland). Andersonian Library",
         "Organisation",
         "Royal College of Science and Technology (Glasgow, Scotland)",
         "Organisation"
        ],
        [
         "22690",
         "89395",
         "0.5540364239917778",
         "Royal College of Science and Technology (Glasgow, Scotland). Andersonian Library.",
         "Organisation",
         "Royal College of Science and Technology (Glasgow, Scotland)",
         "Organisation"
        ],
        [
         "50388",
         "429975",
         "0.5330676590590886",
         "Royal College of Obstetricians and Gynaecologists (Great Britain). Study Group 1980)",
         "Organisation",
         "Royal College of Obstetricians and Gynaecologists",
         "Organisation"
        ],
        [
         "50388",
         "429976",
         "0.5330676590590886",
         "Royal College of Obstetricians and Gynaecologists (Great Britain). Study Group 1981)",
         "Organisation",
         "Royal College of Obstetricians and Gynaecologists",
         "Organisation"
        ],
        [
         "50388",
         "547583",
         "0.5886756998585934",
         "Royal College of Obstetricians and Gynaecologists (Great Britain)",
         "Organisation",
         "Royal College of Obstetricians and Gynaecologists",
         "Organisation"
        ],
        [
         "50388",
         "547584",
         "0.5886756998585934",
         "Royal College of Obstetricians and Gynaecologists (Great Britain)",
         "Organisation",
         "Royal College of Obstetricians and Gynaecologists",
         "Organisation"
        ],
        [
         "60260",
         "267378",
         "0.5230245308013746",
         "Royal College of Nursing (Great Britain). Library and Information Service.",
         "Organisation",
         "Royal College of Nursing (Great Britain)",
         "Organisation"
        ],
        [
         "60260",
         "414176",
         "0.5637997238260952",
         "Royal College of Nursing (Great Britain). Library.",
         "Organisation",
         "Royal College of Nursing (Great Britain)",
         "Organisation"
        ],
        [
         "60685",
         "492938",
         "0.6018607451746663",
         "Royal College of General Practitioners",
         "Organisation",
         "Royal College of General Practitioners.",
         "Organisation"
        ],
        [
         "60685",
         "492939",
         "0.6018607451746663",
         "Royal College of General Practitioners",
         "Organisation",
         "Royal College of General Practitioners.",
         "Organisation"
        ],
        [
         "96714",
         "463998",
         "0.5413212759054669",
         "Royal College of Physicians.",
         "Organisation",
         "Royal College of Physicians. Cholera Committee.",
         "Organisation"
        ],
        [
         "98974",
         "281693",
         "0.5333312142511071",
         "Royal College of Radiologists (Great Britain)",
         "Organisation",
         "Royal College of Radiologists (Great Britain). Faculty of Clinical Oncology. Board.",
         "Organisation"
        ],
        [
         "110660",
         "230134",
         "0.6072046539255669",
         "Royal College of Pathologists",
         "Organisation",
         "Royal College of Pathologists of Australasia",
         "Organisation"
        ],
        [
         "110660",
         "230135",
         "0.6072046539255669",
         "Royal College of Pathologists",
         "Organisation",
         "Royal College of Pathologists of Australasia",
         "Organisation"
        ],
        [
         "110660",
         "230136",
         "0.5642472441555791",
         "Royal College of Pathologists.",
         "Organisation",
         "Royal College of Pathologists of Australasia",
         "Organisation"
        ],
        [
         "110660",
         "634310",
         "0.6072046539255669",
         "Royal College of Pathologists",
         "Organisation",
         "Royal College of Pathologists of Australasia",
         "Organisation"
        ],
        [
         "130907",
         "130909",
         "0.5706588782960519",
         "Royal College of Surgeons in Ireland.",
         "Organisation",
         "Royal College of Surgeons in Ireland",
         "Organisation"
        ],
        [
         "130907",
         "185415",
         "0.5601689811999687",
         "Royal College of Surgeons in Ireland. Museum.",
         "Organisation",
         "Royal College of Surgeons in Ireland",
         "Organisation"
        ]
       ],
       "shape": {
        "columns": 6,
        "rows": 61618
       }
      },
      "text/html": [
       "<div>\n",
       "<style scoped>\n",
       "    .dataframe tbody tr th:only-of-type {\n",
       "        vertical-align: middle;\n",
       "    }\n",
       "\n",
       "    .dataframe tbody tr th {\n",
       "        vertical-align: top;\n",
       "    }\n",
       "\n",
       "    .dataframe thead th {\n",
       "        text-align: right;\n",
       "    }\n",
       "</style>\n",
       "<table border=\"1\" class=\"dataframe\">\n",
       "  <thead>\n",
       "    <tr style=\"text-align: right;\">\n",
       "      <th></th>\n",
       "      <th>id</th>\n",
       "      <th>prob</th>\n",
       "      <th>label</th>\n",
       "      <th>type</th>\n",
       "      <th>label_canon</th>\n",
       "      <th>type_canon</th>\n",
       "    </tr>\n",
       "    <tr>\n",
       "      <th>canon_id</th>\n",
       "      <th></th>\n",
       "      <th></th>\n",
       "      <th></th>\n",
       "      <th></th>\n",
       "      <th></th>\n",
       "      <th></th>\n",
       "    </tr>\n",
       "  </thead>\n",
       "  <tbody>\n",
       "    <tr>\n",
       "      <th>180893</th>\n",
       "      <td>578269</td>\n",
       "      <td>0.571528</td>\n",
       "      <td>Criminal law - United States</td>\n",
       "      <td>Concept</td>\n",
       "      <td>Criminal law - United States - History</td>\n",
       "      <td>Concept</td>\n",
       "    </tr>\n",
       "    <tr>\n",
       "      <th>11</th>\n",
       "      <td>227945</td>\n",
       "      <td>0.581322</td>\n",
       "      <td>Jones, John</td>\n",
       "      <td>Person</td>\n",
       "      <td>Jones, John E</td>\n",
       "      <td>Person</td>\n",
       "    </tr>\n",
       "    <tr>\n",
       "      <th>11</th>\n",
       "      <td>466558</td>\n",
       "      <td>0.581322</td>\n",
       "      <td>Jones, John</td>\n",
       "      <td>Person</td>\n",
       "      <td>Jones, John E</td>\n",
       "      <td>Person</td>\n",
       "    </tr>\n",
       "    <tr>\n",
       "      <th>178143</th>\n",
       "      <td>374674</td>\n",
       "      <td>0.530015</td>\n",
       "      <td>Jones, John Gale, 1769-1838</td>\n",
       "      <td>Person</td>\n",
       "      <td>Jones, John Gale</td>\n",
       "      <td>Person</td>\n",
       "    </tr>\n",
       "    <tr>\n",
       "      <th>195492</th>\n",
       "      <td>488607</td>\n",
       "      <td>0.525187</td>\n",
       "      <td>Jones, John Paul</td>\n",
       "      <td>Person</td>\n",
       "      <td>Jones, John Paul, 1747-1792.</td>\n",
       "      <td>Person</td>\n",
       "    </tr>\n",
       "    <tr>\n",
       "      <th>...</th>\n",
       "      <td>...</td>\n",
       "      <td>...</td>\n",
       "      <td>...</td>\n",
       "      <td>...</td>\n",
       "      <td>...</td>\n",
       "      <td>...</td>\n",
       "    </tr>\n",
       "    <tr>\n",
       "      <th>646563</th>\n",
       "      <td>646564</td>\n",
       "      <td>0.538905</td>\n",
       "      <td>County Councils Association.</td>\n",
       "      <td>Organisation</td>\n",
       "      <td>County Councils Association</td>\n",
       "      <td>Agent</td>\n",
       "    </tr>\n",
       "    <tr>\n",
       "      <th>646680</th>\n",
       "      <td>646681</td>\n",
       "      <td>0.620203</td>\n",
       "      <td>Pickering, Percival Spencer Umfreville, 1858-1...</td>\n",
       "      <td>Agent</td>\n",
       "      <td>Pickering, Percival Spencer Umfreville, 1858-1920</td>\n",
       "      <td>Agent</td>\n",
       "    </tr>\n",
       "    <tr>\n",
       "      <th>646695</th>\n",
       "      <td>646696</td>\n",
       "      <td>0.602892</td>\n",
       "      <td>Holt Radium Institute.</td>\n",
       "      <td>Organisation</td>\n",
       "      <td>Holt Radium Institute</td>\n",
       "      <td>Organisation</td>\n",
       "    </tr>\n",
       "    <tr>\n",
       "      <th>646698</th>\n",
       "      <td>646699</td>\n",
       "      <td>0.588207</td>\n",
       "      <td>Bolton, E. Richards (Edward Richards), 1878-1939.</td>\n",
       "      <td>Person</td>\n",
       "      <td>Bolton, E. Richards (Edward Richards), 1878-1939</td>\n",
       "      <td>Person</td>\n",
       "    </tr>\n",
       "    <tr>\n",
       "      <th>646698</th>\n",
       "      <td>646700</td>\n",
       "      <td>0.557174</td>\n",
       "      <td>Bolton, E. Richards (Edward Richards), 1878-19...</td>\n",
       "      <td>Person</td>\n",
       "      <td>Bolton, E. Richards (Edward Richards), 1878-1939</td>\n",
       "      <td>Person</td>\n",
       "    </tr>\n",
       "  </tbody>\n",
       "</table>\n",
       "<p>61618 rows × 6 columns</p>\n",
       "</div>"
      ],
      "text/plain": [
       "              id      prob                                              label  \\\n",
       "canon_id                                                                        \n",
       "180893    578269  0.571528                       Criminal law - United States   \n",
       "11        227945  0.581322                                        Jones, John   \n",
       "11        466558  0.581322                                        Jones, John   \n",
       "178143    374674  0.530015                        Jones, John Gale, 1769-1838   \n",
       "195492    488607  0.525187                                   Jones, John Paul   \n",
       "...          ...       ...                                                ...   \n",
       "646563    646564  0.538905                       County Councils Association.   \n",
       "646680    646681  0.620203  Pickering, Percival Spencer Umfreville, 1858-1...   \n",
       "646695    646696  0.602892                             Holt Radium Institute.   \n",
       "646698    646699  0.588207  Bolton, E. Richards (Edward Richards), 1878-1939.   \n",
       "646698    646700  0.557174  Bolton, E. Richards (Edward Richards), 1878-19...   \n",
       "\n",
       "                  type                                        label_canon  \\\n",
       "canon_id                                                                    \n",
       "180893         Concept             Criminal law - United States - History   \n",
       "11              Person                                      Jones, John E   \n",
       "11              Person                                      Jones, John E   \n",
       "178143          Person                                   Jones, John Gale   \n",
       "195492          Person                       Jones, John Paul, 1747-1792.   \n",
       "...                ...                                                ...   \n",
       "646563    Organisation                        County Councils Association   \n",
       "646680           Agent  Pickering, Percival Spencer Umfreville, 1858-1920   \n",
       "646695    Organisation                              Holt Radium Institute   \n",
       "646698          Person   Bolton, E. Richards (Edward Richards), 1878-1939   \n",
       "646698          Person   Bolton, E. Richards (Edward Richards), 1878-1939   \n",
       "\n",
       "            type_canon  \n",
       "canon_id                \n",
       "180893         Concept  \n",
       "11              Person  \n",
       "11              Person  \n",
       "178143          Person  \n",
       "195492          Person  \n",
       "...                ...  \n",
       "646563           Agent  \n",
       "646680           Agent  \n",
       "646695    Organisation  \n",
       "646698          Person  \n",
       "646698          Person  \n",
       "\n",
       "[61618 rows x 6 columns]"
      ]
     },
     "execution_count": 21,
     "metadata": {},
     "output_type": "execute_result"
    }
   ],
   "source": [
    "dedup_df[~(dedup_df[\"label\"] == dedup_df[\"label_canon\"])]"
   ]
  },
  {
   "cell_type": "markdown",
   "id": "b381fd17",
   "metadata": {},
   "source": [
    "## Check Florence Nightingale"
   ]
  },
  {
   "cell_type": "code",
   "execution_count": 22,
   "id": "87d164ae",
   "metadata": {},
   "outputs": [
    {
     "data": {
      "application/vnd.microsoft.datawrangler.viewer.v0+json": {
       "columns": [
        {
         "name": "canon_id",
         "rawType": "int64",
         "type": "integer"
        },
        {
         "name": "id",
         "rawType": "int64",
         "type": "integer"
        },
        {
         "name": "prob",
         "rawType": "float64",
         "type": "float"
        },
        {
         "name": "label",
         "rawType": "object",
         "type": "string"
        },
        {
         "name": "type",
         "rawType": "object",
         "type": "string"
        },
        {
         "name": "label_canon",
         "rawType": "object",
         "type": "string"
        },
        {
         "name": "type_canon",
         "rawType": "object",
         "type": "string"
        }
       ],
       "ref": "02efad87-a8e6-4ee5-83f2-d14a59e93258",
       "rows": [
        [
         "87516",
         "184753",
         "0.53765608124863",
         "Nightingale, Florence, 1820-1910",
         "Person",
         "Nightingale, Florence, 1820-1910.",
         "Person"
        ],
        [
         "87516",
         "184754",
         "0.53765608124863",
         "Nightingale, Florence, 1820-1910",
         "Person",
         "Nightingale, Florence, 1820-1910.",
         "Person"
        ],
        [
         "87516",
         "184756",
         "0.54580096307674",
         "Nightingale, Florence, 1820-1910.",
         "Person",
         "Nightingale, Florence, 1820-1910.",
         "Person"
        ],
        [
         "87516",
         "184757",
         "0.54580096307674",
         "Nightingale, Florence, 1820-1910.",
         "Person",
         "Nightingale, Florence, 1820-1910.",
         "Person"
        ],
        [
         "87516",
         "272387",
         "0.54580096307674",
         "Nightingale, Florence, 1820-1910.",
         "Person",
         "Nightingale, Florence, 1820-1910.",
         "Person"
        ],
        [
         "87900",
         "267509",
         "0.602724141840667",
         "Florence Nightingale Museum",
         "Organisation",
         "Florence Nightingale Museum (London, England)",
         "Organisation"
        ],
        [
         "87900",
         "418369",
         "0.602724141840667",
         "Florence Nightingale Museum",
         "Organisation",
         "Florence Nightingale Museum (London, England)",
         "Organisation"
        ],
        [
         "87900",
         "418370",
         "0.602724141840667",
         "Florence Nightingale Museum",
         "Organisation",
         "Florence Nightingale Museum (London, England)",
         "Organisation"
        ],
        [
         "87900",
         "418371",
         "0.5582103453264076",
         "Florence Nightingale Museum.",
         "Organisation",
         "Florence Nightingale Museum (London, England)",
         "Organisation"
        ],
        [
         "136957",
         "136958",
         "0.5638162453895996",
         "Nightingale, Florence (1820-1910)",
         "Organisation",
         "Nightingale, Florence (1820-1910)",
         "Agent"
        ],
        [
         "160627",
         "160628",
         "0.6332935074919347",
         "Florence Nightingale Hospital (London, England)",
         "Organisation",
         "Florence Nightingale Hospital (London, England)",
         "Organisation"
        ],
        [
         "381010",
         "381011",
         "0.6332935074919347",
         "Florence Nightingale Hospital for Gentlewomen (London, England)",
         "Organisation",
         "Florence Nightingale Hospital for Gentlewomen (London, England)",
         "Organisation"
        ],
        [
         "397788",
         "397789",
         "0.6042485551878554",
         "Florence Nightingale International Foundation",
         "Organisation",
         "Florence Nightingale International Foundation",
         "Organisation"
        ],
        [
         "397788",
         "397790",
         "0.5942719829675185",
         "Florence Nightingale International Foundation.",
         "Organisation",
         "Florence Nightingale International Foundation",
         "Organisation"
        ],
        [
         "397788",
         "499138",
         "0.5587507093757662",
         "Florence Nightingale International Foundation",
         "Agent",
         "Florence Nightingale International Foundation",
         "Organisation"
        ]
       ],
       "shape": {
        "columns": 6,
        "rows": 15
       }
      },
      "text/html": [
       "<div>\n",
       "<style scoped>\n",
       "    .dataframe tbody tr th:only-of-type {\n",
       "        vertical-align: middle;\n",
       "    }\n",
       "\n",
       "    .dataframe tbody tr th {\n",
       "        vertical-align: top;\n",
       "    }\n",
       "\n",
       "    .dataframe thead th {\n",
       "        text-align: right;\n",
       "    }\n",
       "</style>\n",
       "<table border=\"1\" class=\"dataframe\">\n",
       "  <thead>\n",
       "    <tr style=\"text-align: right;\">\n",
       "      <th></th>\n",
       "      <th>id</th>\n",
       "      <th>prob</th>\n",
       "      <th>label</th>\n",
       "      <th>type</th>\n",
       "      <th>label_canon</th>\n",
       "      <th>type_canon</th>\n",
       "    </tr>\n",
       "    <tr>\n",
       "      <th>canon_id</th>\n",
       "      <th></th>\n",
       "      <th></th>\n",
       "      <th></th>\n",
       "      <th></th>\n",
       "      <th></th>\n",
       "      <th></th>\n",
       "    </tr>\n",
       "  </thead>\n",
       "  <tbody>\n",
       "    <tr>\n",
       "      <th>87516</th>\n",
       "      <td>184753</td>\n",
       "      <td>0.537656</td>\n",
       "      <td>Nightingale, Florence, 1820-1910</td>\n",
       "      <td>Person</td>\n",
       "      <td>Nightingale, Florence, 1820-1910.</td>\n",
       "      <td>Person</td>\n",
       "    </tr>\n",
       "    <tr>\n",
       "      <th>87516</th>\n",
       "      <td>184754</td>\n",
       "      <td>0.537656</td>\n",
       "      <td>Nightingale, Florence, 1820-1910</td>\n",
       "      <td>Person</td>\n",
       "      <td>Nightingale, Florence, 1820-1910.</td>\n",
       "      <td>Person</td>\n",
       "    </tr>\n",
       "    <tr>\n",
       "      <th>87516</th>\n",
       "      <td>184756</td>\n",
       "      <td>0.545801</td>\n",
       "      <td>Nightingale, Florence, 1820-1910.</td>\n",
       "      <td>Person</td>\n",
       "      <td>Nightingale, Florence, 1820-1910.</td>\n",
       "      <td>Person</td>\n",
       "    </tr>\n",
       "    <tr>\n",
       "      <th>87516</th>\n",
       "      <td>184757</td>\n",
       "      <td>0.545801</td>\n",
       "      <td>Nightingale, Florence, 1820-1910.</td>\n",
       "      <td>Person</td>\n",
       "      <td>Nightingale, Florence, 1820-1910.</td>\n",
       "      <td>Person</td>\n",
       "    </tr>\n",
       "    <tr>\n",
       "      <th>87516</th>\n",
       "      <td>272387</td>\n",
       "      <td>0.545801</td>\n",
       "      <td>Nightingale, Florence, 1820-1910.</td>\n",
       "      <td>Person</td>\n",
       "      <td>Nightingale, Florence, 1820-1910.</td>\n",
       "      <td>Person</td>\n",
       "    </tr>\n",
       "    <tr>\n",
       "      <th>87900</th>\n",
       "      <td>267509</td>\n",
       "      <td>0.602724</td>\n",
       "      <td>Florence Nightingale Museum</td>\n",
       "      <td>Organisation</td>\n",
       "      <td>Florence Nightingale Museum (London, England)</td>\n",
       "      <td>Organisation</td>\n",
       "    </tr>\n",
       "    <tr>\n",
       "      <th>87900</th>\n",
       "      <td>418369</td>\n",
       "      <td>0.602724</td>\n",
       "      <td>Florence Nightingale Museum</td>\n",
       "      <td>Organisation</td>\n",
       "      <td>Florence Nightingale Museum (London, England)</td>\n",
       "      <td>Organisation</td>\n",
       "    </tr>\n",
       "    <tr>\n",
       "      <th>87900</th>\n",
       "      <td>418370</td>\n",
       "      <td>0.602724</td>\n",
       "      <td>Florence Nightingale Museum</td>\n",
       "      <td>Organisation</td>\n",
       "      <td>Florence Nightingale Museum (London, England)</td>\n",
       "      <td>Organisation</td>\n",
       "    </tr>\n",
       "    <tr>\n",
       "      <th>87900</th>\n",
       "      <td>418371</td>\n",
       "      <td>0.558210</td>\n",
       "      <td>Florence Nightingale Museum.</td>\n",
       "      <td>Organisation</td>\n",
       "      <td>Florence Nightingale Museum (London, England)</td>\n",
       "      <td>Organisation</td>\n",
       "    </tr>\n",
       "    <tr>\n",
       "      <th>136957</th>\n",
       "      <td>136958</td>\n",
       "      <td>0.563816</td>\n",
       "      <td>Nightingale, Florence (1820-1910)</td>\n",
       "      <td>Organisation</td>\n",
       "      <td>Nightingale, Florence (1820-1910)</td>\n",
       "      <td>Agent</td>\n",
       "    </tr>\n",
       "    <tr>\n",
       "      <th>160627</th>\n",
       "      <td>160628</td>\n",
       "      <td>0.633294</td>\n",
       "      <td>Florence Nightingale Hospital (London, England)</td>\n",
       "      <td>Organisation</td>\n",
       "      <td>Florence Nightingale Hospital (London, England)</td>\n",
       "      <td>Organisation</td>\n",
       "    </tr>\n",
       "    <tr>\n",
       "      <th>381010</th>\n",
       "      <td>381011</td>\n",
       "      <td>0.633294</td>\n",
       "      <td>Florence Nightingale Hospital for Gentlewomen ...</td>\n",
       "      <td>Organisation</td>\n",
       "      <td>Florence Nightingale Hospital for Gentlewomen ...</td>\n",
       "      <td>Organisation</td>\n",
       "    </tr>\n",
       "    <tr>\n",
       "      <th>397788</th>\n",
       "      <td>397789</td>\n",
       "      <td>0.604249</td>\n",
       "      <td>Florence Nightingale International Foundation</td>\n",
       "      <td>Organisation</td>\n",
       "      <td>Florence Nightingale International Foundation</td>\n",
       "      <td>Organisation</td>\n",
       "    </tr>\n",
       "    <tr>\n",
       "      <th>397788</th>\n",
       "      <td>397790</td>\n",
       "      <td>0.594272</td>\n",
       "      <td>Florence Nightingale International Foundation.</td>\n",
       "      <td>Organisation</td>\n",
       "      <td>Florence Nightingale International Foundation</td>\n",
       "      <td>Organisation</td>\n",
       "    </tr>\n",
       "    <tr>\n",
       "      <th>397788</th>\n",
       "      <td>499138</td>\n",
       "      <td>0.558751</td>\n",
       "      <td>Florence Nightingale International Foundation</td>\n",
       "      <td>Agent</td>\n",
       "      <td>Florence Nightingale International Foundation</td>\n",
       "      <td>Organisation</td>\n",
       "    </tr>\n",
       "  </tbody>\n",
       "</table>\n",
       "</div>"
      ],
      "text/plain": [
       "              id      prob                                              label  \\\n",
       "canon_id                                                                        \n",
       "87516     184753  0.537656                   Nightingale, Florence, 1820-1910   \n",
       "87516     184754  0.537656                   Nightingale, Florence, 1820-1910   \n",
       "87516     184756  0.545801                  Nightingale, Florence, 1820-1910.   \n",
       "87516     184757  0.545801                  Nightingale, Florence, 1820-1910.   \n",
       "87516     272387  0.545801                  Nightingale, Florence, 1820-1910.   \n",
       "87900     267509  0.602724                        Florence Nightingale Museum   \n",
       "87900     418369  0.602724                        Florence Nightingale Museum   \n",
       "87900     418370  0.602724                        Florence Nightingale Museum   \n",
       "87900     418371  0.558210                       Florence Nightingale Museum.   \n",
       "136957    136958  0.563816                  Nightingale, Florence (1820-1910)   \n",
       "160627    160628  0.633294    Florence Nightingale Hospital (London, England)   \n",
       "381010    381011  0.633294  Florence Nightingale Hospital for Gentlewomen ...   \n",
       "397788    397789  0.604249      Florence Nightingale International Foundation   \n",
       "397788    397790  0.594272     Florence Nightingale International Foundation.   \n",
       "397788    499138  0.558751      Florence Nightingale International Foundation   \n",
       "\n",
       "                  type                                        label_canon  \\\n",
       "canon_id                                                                    \n",
       "87516           Person                  Nightingale, Florence, 1820-1910.   \n",
       "87516           Person                  Nightingale, Florence, 1820-1910.   \n",
       "87516           Person                  Nightingale, Florence, 1820-1910.   \n",
       "87516           Person                  Nightingale, Florence, 1820-1910.   \n",
       "87516           Person                  Nightingale, Florence, 1820-1910.   \n",
       "87900     Organisation      Florence Nightingale Museum (London, England)   \n",
       "87900     Organisation      Florence Nightingale Museum (London, England)   \n",
       "87900     Organisation      Florence Nightingale Museum (London, England)   \n",
       "87900     Organisation      Florence Nightingale Museum (London, England)   \n",
       "136957    Organisation                  Nightingale, Florence (1820-1910)   \n",
       "160627    Organisation    Florence Nightingale Hospital (London, England)   \n",
       "381010    Organisation  Florence Nightingale Hospital for Gentlewomen ...   \n",
       "397788    Organisation      Florence Nightingale International Foundation   \n",
       "397788    Organisation      Florence Nightingale International Foundation   \n",
       "397788           Agent      Florence Nightingale International Foundation   \n",
       "\n",
       "            type_canon  \n",
       "canon_id                \n",
       "87516           Person  \n",
       "87516           Person  \n",
       "87516           Person  \n",
       "87516           Person  \n",
       "87516           Person  \n",
       "87900     Organisation  \n",
       "87900     Organisation  \n",
       "87900     Organisation  \n",
       "87900     Organisation  \n",
       "136957           Agent  \n",
       "160627    Organisation  \n",
       "381010    Organisation  \n",
       "397788    Organisation  \n",
       "397788    Organisation  \n",
       "397788    Organisation  "
      ]
     },
     "execution_count": 22,
     "metadata": {},
     "output_type": "execute_result"
    }
   ],
   "source": [
    "# select rows where label contains \"Florence\" and \"Night\n",
    "\n",
    "dedup_df[dedup_df['label'].str.contains(\n",
    "    \"Florence\", case=False, na=False) & dedup_df['label'].str.contains(\n",
    "    \"Night\", case=False, na=False)].sort_values(by='canon_id', ascending=True)"
   ]
  },
  {
   "cell_type": "markdown",
   "id": "5f8f21a4",
   "metadata": {},
   "source": [
    "## Select Dis-similar rows based on FuzzyWuzzy"
   ]
  },
  {
   "cell_type": "code",
   "execution_count": null,
   "id": "70b7df08",
   "metadata": {},
   "outputs": [
    {
     "name": "stdout",
     "output_type": "stream",
     "text": [
      "Original rows: 3132\n",
      "Filtered rows (similarity < 90): 1095\n",
      "Removed 2037 rows with high similarity\n",
      "\n",
      "Example of filtered out rows (high similarity):\n",
      "                                                      label  \\\n",
      "canon_id                                                      \n",
      "218898                                     Ashworth, Bryan.   \n",
      "338357                 Pettigrew, Thomas Joseph, 1791-1865.   \n",
      "639846                                      Rivers, Isabel.   \n",
      "518760                          Scriven, Edward, 1775-1841.   \n",
      "104248    Lichfield, Sutton Coldfield and Tamworth Hospi...   \n",
      "\n",
      "                                                label_canon  similarity_score  \n",
      "canon_id                                                                       \n",
      "218898                                     Ashworth, Bryan.               100  \n",
      "338357                 Pettigrew, Thomas Joseph, 1791-1865.               100  \n",
      "639846                                       Rivers, Isabel                97  \n",
      "518760                           Scriven, Edward, 1775-1841                98  \n",
      "104248    Lichfield, Sutton Coldfield and Tamworth Hospi...                99  \n"
     ]
    },
    {
     "data": {
      "application/vnd.microsoft.datawrangler.viewer.v0+json": {
       "columns": [
        {
         "name": "canon_id",
         "rawType": "int64",
         "type": "integer"
        },
        {
         "name": "id",
         "rawType": "int64",
         "type": "integer"
        },
        {
         "name": "canon_id",
         "rawType": "int64",
         "type": "integer"
        },
        {
         "name": "prob",
         "rawType": "float64",
         "type": "float"
        },
        {
         "name": "label",
         "rawType": "object",
         "type": "string"
        },
        {
         "name": "type",
         "rawType": "object",
         "type": "string"
        },
        {
         "name": "label_canon",
         "rawType": "object",
         "type": "string"
        },
        {
         "name": "type_canon",
         "rawType": "object",
         "type": "string"
        },
        {
         "name": "similarity_score",
         "rawType": "int64",
         "type": "integer"
        }
       ],
       "ref": "a9b9d808-83fe-40c7-b3ae-13cc80f5d3fe",
       "rows": [
        [
         "264320",
         "388020",
         "264320",
         "0.5277604450262161",
         "Orientalism in art - History",
         "Concept",
         "Orientalism in art",
         "Concept",
         "78"
        ],
        [
         "92181",
         "92182",
         "92181",
         "0.5312411785125732",
         "Punishment - Religious aspects - Christianity",
         "Concept",
         "Punishment - Religious aspects",
         "Concept",
         "80"
        ],
        [
         "527276",
         "624262",
         "527276",
         "0.5319978003125656",
         "Newman, John",
         "Person",
         "Newman, John B.",
         "Person",
         "89"
        ],
        [
         "79172",
         "443059",
         "79172",
         "0.5399049440151251",
         "Adaptation, Physiological",
         "Concept",
         "Adaptation, Physiological - physiology",
         "Concept",
         "79"
        ],
        [
         "625121",
         "625123",
         "625121",
         "0.5200697779655457",
         "Pathogenic fungi - Nomenclature",
         "Concept",
         "Pathogenic fungi",
         "Concept",
         "68"
        ],
        [
         "139552",
         "139553",
         "139552",
         "0.5222323600017331",
         "Hay, William, 1695-1755. Deformity : an essay.",
         "Person",
         "Hay, William, 1695-1755.",
         "Person",
         "69"
        ],
        [
         "178807",
         "441756",
         "178807",
         "0.530212993109243",
         "Leicestershire and Rutland Lunatic Asylum. Committee of Visitors.",
         "Organisation",
         "Leicestershire and Rutland Lunatic Asylum",
         "Organisation",
         "77"
        ],
        [
         "235315",
         "514054",
         "235315",
         "0.5275059970600509",
         "Technische Universität München. Fakultät für Medizin",
         "Organisation",
         "Technische Universität München.",
         "Organisation",
         "75"
        ],
        [
         "440633",
         "454318",
         "440633",
         "0.5236001014709473",
         "Gay erotic photography",
         "Concept",
         "Gay erotic photography - Pictorial works",
         "Concept",
         "71"
        ],
        [
         "35115",
         "157046",
         "35115",
         "0.5338115747115499",
         "Beecham Proprietaries",
         "Organisation",
         "Beecham Proprietaries (Firm)",
         "Organisation",
         "86"
        ],
        [
         "75900",
         "351703",
         "75900",
         "0.520069780777783",
         "Poultry Diseases - drug therapy",
         "Concept",
         "Poultry Diseases",
         "Concept",
         "68"
        ],
        [
         "23231",
         "443668",
         "23231",
         "0.5251666311110295",
         "Frontier and pioneer life",
         "Concept",
         "Frontier and pioneer life - Africa, Southern",
         "Concept",
         "72"
        ],
        [
         "132145",
         "369360",
         "132145",
         "0.5368092656135559",
         "Armour Pharmaceutical Company Limited",
         "Organisation",
         "Armour Pharmaceutical Company",
         "Organisation",
         "88"
        ],
        [
         "15423",
         "643283",
         "15423",
         "0.5287464242155113",
         "Macquarie University. School of Behavioural Sciences. Centre for Applied Social Research.",
         "Organisation",
         "Macquarie University. School of Behavioural Sciences.",
         "Organisation",
         "75"
        ],
        [
         "24565",
         "136585",
         "24565",
         "0.5211238265037537",
         "St. Thomas's Hospital",
         "Organisation",
         "St. Thomas's Hospital (Sandwich, England)",
         "Organisation",
         "68"
        ],
        [
         "547104",
         "572447",
         "547104",
         "0.5259752302656124",
         "Smith, George",
         "Person",
         "Smith, George, 1919-",
         "Person",
         "79"
        ],
        [
         "229462",
         "263229",
         "229462",
         "0.5244252638990373",
         "Bathing Beaches",
         "Concept",
         "Bathing Beaches - history",
         "Concept",
         "75"
        ],
        [
         "35239",
         "249505",
         "35239",
         "0.5225302623681847",
         "Colitis, Ulcerative - complications",
         "Concept",
         "Colitis, Ulcerative",
         "Concept",
         "70"
        ],
        [
         "231776",
         "282335",
         "231776",
         "0.5280265222450427",
         "Dante Alighieri, 1265-1321.",
         "Person",
         "Dante Alighieri, 1265-1321. Divina commedia.",
         "Person",
         "76"
        ],
        [
         "469510",
         "549179",
         "469510",
         "0.5244252681732178",
         "Coptic language - Grammar",
         "Concept",
         "Coptic language",
         "Concept",
         "75"
        ],
        [
         "105830",
         "489290",
         "105830",
         "0.5322033722639028",
         "Stonewall Riots, New York, N.Y., 1969 - Pictorial works",
         "Concept",
         "Stonewall Riots, New York, N.Y., 1969",
         "Concept",
         "80"
        ],
        [
         "528079",
         "537967",
         "528079",
         "0.5269405245780945",
         "Sign language - History - 19th century",
         "Concept",
         "Sign language - History",
         "Concept",
         "75"
        ],
        [
         "223741",
         "223743",
         "223741",
         "0.5244252638990373",
         "Women - Crimes against - Germany (East)",
         "Concept",
         "Women - Crimes against",
         "Concept",
         "72"
        ],
        [
         "20739",
         "234741",
         "20739",
         "0.5359811809816842",
         "Generative organs, Female - Diseases",
         "Concept",
         "Generative organs, Female - Diseases - Diagnosis",
         "Concept",
         "86"
        ],
        [
         "234718",
         "504084",
         "234718",
         "0.523808889801016",
         "Faculté de médecine de Paris. Clinique ophthalmologie.",
         "Organisation",
         "Faculté de médecine de Paris.",
         "Organisation",
         "70"
        ],
        [
         "401782",
         "425909",
         "401782",
         "0.520275832468654",
         "Percy, Thomas, 1729-1811",
         "Person",
         "Percy, Thomas",
         "Person",
         "70"
        ],
        [
         "664",
         "59759",
         "664",
         "0.525355273648912",
         "Royal Medico-psychological Association. Clinical Tutors' Sub-Committee.",
         "Organisation",
         "Royal Medico-psychological Association.",
         "Organisation",
         "71"
        ],
        [
         "412759",
         "645362",
         "412759",
         "0.5239601656297238",
         "Royal Medico-psychological Association",
         "Organisation",
         "Royal Medico-psychological Association. Meeting (1961 : London, England)",
         "Organisation",
         "69"
        ],
        [
         "350646",
         "468991",
         "350646",
         "0.5226299686455724",
         "Juvenile delinquents",
         "Concept",
         "Juvenile delinquents - Rehabilitation",
         "Concept",
         "70"
        ],
        [
         "58295",
         "301520",
         "58295",
         "0.5210137326749702",
         "Hall, James, -1741.",
         "Person",
         "Hall, James",
         "Person",
         "73"
        ],
        [
         "334034",
         "570093",
         "334034",
         "0.5234599709510803",
         "Colitis, Ulcerative - drug therapy",
         "Concept",
         "Colitis, Ulcerative",
         "Concept",
         "72"
        ],
        [
         "530377",
         "539636",
         "530377",
         "0.5288715938327893",
         "Morgan, A. E.",
         "Person",
         "Morgan, A.",
         "Person",
         "87"
        ],
        [
         "192764",
         "350621",
         "192764",
         "0.5355726480484009",
         "Evelyn, John, 1620-1706.",
         "Agent",
         "Evelyn, John, 1620-1706. Silva.",
         "Agent",
         "87"
        ],
        [
         "149510",
         "285760",
         "149510",
         "0.5213239789009094",
         "Grolier Club. Bindery",
         "Organisation",
         "Grolier Club",
         "Organisation",
         "73"
        ],
        [
         "204958",
         "412945",
         "204958",
         "0.5252777934074402",
         "Dance - Social aspects",
         "Concept",
         "Dance - Social aspects - United States",
         "Concept",
         "73"
        ],
        [
         "418424",
         "432412",
         "418424",
         "0.5277604460716248",
         "Nocturnal Enuresis - history",
         "Concept",
         "Nocturnal Enuresis",
         "Concept",
         "78"
        ],
        [
         "263875",
         "629458",
         "263875",
         "0.5312411785955782",
         "Social workers - Great Britain - 20th century",
         "Concept",
         "Social workers - Great Britain",
         "Concept",
         "80"
        ],
        [
         "235383",
         "545131",
         "235383",
         "0.5219886898994446",
         "Dibdin, Charles, 1745-1814.",
         "Person",
         "Dibdin, Charles",
         "Person",
         "71"
        ],
        [
         "112464",
         "504195",
         "112464",
         "0.5262136491917117",
         "Incorporated Society of Medical Officers of Health. Meeting (1908, June : Glasgow, Scotland)",
         "Organisation",
         "Incorporated Society of Medical Officers of Health.",
         "Organisation",
         "71"
        ],
        [
         "18143",
         "221598",
         "18143",
         "0.5258460640619005",
         "Davis, William",
         "Person",
         "Davis, William Harlow.",
         "Person",
         "78"
        ],
        [
         "372729",
         "424680",
         "372729",
         "0.5229634642601013",
         "Child Welfare - ethics",
         "Concept",
         "Child Welfare",
         "Concept",
         "74"
        ],
        [
         "29007",
         "49982",
         "29007",
         "0.5232624938113466",
         "WELLCOME ARCHIVE PHOTOGRAPHS",
         "Concept",
         "WELLCOME ARCHIVE",
         "Concept",
         "73"
        ],
        [
         "641222",
         "641224",
         "641222",
         "0.5388450004231138",
         "Botticelli, Sandro, 1444 or 1445-1510. Springo.",
         "Person",
         "Botticelli, Sandro, 1444 or 1445-1510.",
         "Person",
         "89"
        ],
        [
         "376661",
         "392725",
         "376661",
         "0.5244252681732178",
         "Osteoarthritis, therapy",
         "Concept",
         "Osteoarthritis",
         "Concept",
         "76"
        ],
        [
         "42058",
         "286269",
         "42058",
         "0.5317275572603607",
         "Sexual Behavior, Animal - history",
         "Concept",
         "Sexual Behavior, Animal",
         "Concept",
         "82"
        ],
        [
         "467936",
         "642279",
         "467936",
         "0.5251073241233826",
         "Alpini, Prosper, 1553-1617. De medico praesagio.",
         "Person",
         "Alpini, Prosper, 1553-1617.",
         "Person",
         "72"
        ],
        [
         "252617",
         "377203",
         "252617",
         "0.5230788657929633",
         "HIV Infections - history",
         "Concept",
         "HIV Infections",
         "Concept",
         "74"
        ],
        [
         "344945",
         "344951",
         "344945",
         "0.5224573612213135",
         "Zoologists - bio",
         "Concept",
         "Zoologists",
         "Concept",
         "77"
        ],
        [
         "420200",
         "420203",
         "420200",
         "0.5244168040767788",
         "Labor (Obstetrics) - Complications - Patients",
         "Concept",
         "Labor (Obstetrics) - Complications",
         "Concept",
         "86"
        ],
        [
         "335178",
         "445504",
         "335178",
         "0.5228263677377517",
         "Rural health",
         "Concept",
         "Rural health clinics",
         "Concept",
         "75"
        ]
       ],
       "shape": {
        "columns": 8,
        "rows": 1095
       }
      },
      "text/html": [
       "<div>\n",
       "<style scoped>\n",
       "    .dataframe tbody tr th:only-of-type {\n",
       "        vertical-align: middle;\n",
       "    }\n",
       "\n",
       "    .dataframe tbody tr th {\n",
       "        vertical-align: top;\n",
       "    }\n",
       "\n",
       "    .dataframe thead th {\n",
       "        text-align: right;\n",
       "    }\n",
       "</style>\n",
       "<table border=\"1\" class=\"dataframe\">\n",
       "  <thead>\n",
       "    <tr style=\"text-align: right;\">\n",
       "      <th></th>\n",
       "      <th>id</th>\n",
       "      <th>canon_id</th>\n",
       "      <th>prob</th>\n",
       "      <th>label</th>\n",
       "      <th>type</th>\n",
       "      <th>label_canon</th>\n",
       "      <th>type_canon</th>\n",
       "      <th>similarity_score</th>\n",
       "    </tr>\n",
       "    <tr>\n",
       "      <th>canon_id</th>\n",
       "      <th></th>\n",
       "      <th></th>\n",
       "      <th></th>\n",
       "      <th></th>\n",
       "      <th></th>\n",
       "      <th></th>\n",
       "      <th></th>\n",
       "      <th></th>\n",
       "    </tr>\n",
       "  </thead>\n",
       "  <tbody>\n",
       "    <tr>\n",
       "      <th>264320</th>\n",
       "      <td>388020</td>\n",
       "      <td>264320</td>\n",
       "      <td>0.527760</td>\n",
       "      <td>Orientalism in art - History</td>\n",
       "      <td>Concept</td>\n",
       "      <td>Orientalism in art</td>\n",
       "      <td>Concept</td>\n",
       "      <td>78</td>\n",
       "    </tr>\n",
       "    <tr>\n",
       "      <th>92181</th>\n",
       "      <td>92182</td>\n",
       "      <td>92181</td>\n",
       "      <td>0.531241</td>\n",
       "      <td>Punishment - Religious aspects - Christianity</td>\n",
       "      <td>Concept</td>\n",
       "      <td>Punishment - Religious aspects</td>\n",
       "      <td>Concept</td>\n",
       "      <td>80</td>\n",
       "    </tr>\n",
       "    <tr>\n",
       "      <th>527276</th>\n",
       "      <td>624262</td>\n",
       "      <td>527276</td>\n",
       "      <td>0.531998</td>\n",
       "      <td>Newman, John</td>\n",
       "      <td>Person</td>\n",
       "      <td>Newman, John B.</td>\n",
       "      <td>Person</td>\n",
       "      <td>89</td>\n",
       "    </tr>\n",
       "    <tr>\n",
       "      <th>79172</th>\n",
       "      <td>443059</td>\n",
       "      <td>79172</td>\n",
       "      <td>0.539905</td>\n",
       "      <td>Adaptation, Physiological</td>\n",
       "      <td>Concept</td>\n",
       "      <td>Adaptation, Physiological - physiology</td>\n",
       "      <td>Concept</td>\n",
       "      <td>79</td>\n",
       "    </tr>\n",
       "    <tr>\n",
       "      <th>625121</th>\n",
       "      <td>625123</td>\n",
       "      <td>625121</td>\n",
       "      <td>0.520070</td>\n",
       "      <td>Pathogenic fungi - Nomenclature</td>\n",
       "      <td>Concept</td>\n",
       "      <td>Pathogenic fungi</td>\n",
       "      <td>Concept</td>\n",
       "      <td>68</td>\n",
       "    </tr>\n",
       "    <tr>\n",
       "      <th>...</th>\n",
       "      <td>...</td>\n",
       "      <td>...</td>\n",
       "      <td>...</td>\n",
       "      <td>...</td>\n",
       "      <td>...</td>\n",
       "      <td>...</td>\n",
       "      <td>...</td>\n",
       "      <td>...</td>\n",
       "    </tr>\n",
       "    <tr>\n",
       "      <th>22578</th>\n",
       "      <td>624994</td>\n",
       "      <td>22578</td>\n",
       "      <td>0.524425</td>\n",
       "      <td>Barr, James Smith</td>\n",
       "      <td>Person</td>\n",
       "      <td>Barr, James</td>\n",
       "      <td>Person</td>\n",
       "      <td>79</td>\n",
       "    </tr>\n",
       "    <tr>\n",
       "      <th>506121</th>\n",
       "      <td>506123</td>\n",
       "      <td>506121</td>\n",
       "      <td>0.533860</td>\n",
       "      <td>Najīb al-Dīn al-Samarqandī, Muḥammad ibn ʻAlī,...</td>\n",
       "      <td>Person</td>\n",
       "      <td>Najīb al-Dīn al-Samarqandī, Muḥammad ibn ʻAlī,...</td>\n",
       "      <td>Person</td>\n",
       "      <td>82</td>\n",
       "    </tr>\n",
       "    <tr>\n",
       "      <th>88869</th>\n",
       "      <td>239257</td>\n",
       "      <td>88869</td>\n",
       "      <td>0.530660</td>\n",
       "      <td>Cape of Good Hope (S.A.)</td>\n",
       "      <td>Place</td>\n",
       "      <td>Cape of Good Hope</td>\n",
       "      <td>Place</td>\n",
       "      <td>83</td>\n",
       "    </tr>\n",
       "    <tr>\n",
       "      <th>243293</th>\n",
       "      <td>277505</td>\n",
       "      <td>243293</td>\n",
       "      <td>0.524425</td>\n",
       "      <td>Bunyan, J</td>\n",
       "      <td>Person</td>\n",
       "      <td>Bunyan, John.</td>\n",
       "      <td>Person</td>\n",
       "      <td>82</td>\n",
       "    </tr>\n",
       "    <tr>\n",
       "      <th>494447</th>\n",
       "      <td>582527</td>\n",
       "      <td>494447</td>\n",
       "      <td>0.531052</td>\n",
       "      <td>Mother-Child Relations</td>\n",
       "      <td>Concept</td>\n",
       "      <td>Mother-Child Relations - history</td>\n",
       "      <td>Concept</td>\n",
       "      <td>81</td>\n",
       "    </tr>\n",
       "  </tbody>\n",
       "</table>\n",
       "<p>1095 rows × 8 columns</p>\n",
       "</div>"
      ],
      "text/plain": [
       "              id  canon_id      prob  \\\n",
       "canon_id                               \n",
       "264320    388020    264320  0.527760   \n",
       "92181      92182     92181  0.531241   \n",
       "527276    624262    527276  0.531998   \n",
       "79172     443059     79172  0.539905   \n",
       "625121    625123    625121  0.520070   \n",
       "...          ...       ...       ...   \n",
       "22578     624994     22578  0.524425   \n",
       "506121    506123    506121  0.533860   \n",
       "88869     239257     88869  0.530660   \n",
       "243293    277505    243293  0.524425   \n",
       "494447    582527    494447  0.531052   \n",
       "\n",
       "                                                      label     type  \\\n",
       "canon_id                                                               \n",
       "264320                         Orientalism in art - History  Concept   \n",
       "92181         Punishment - Religious aspects - Christianity  Concept   \n",
       "527276                                         Newman, John   Person   \n",
       "79172                             Adaptation, Physiological  Concept   \n",
       "625121                      Pathogenic fungi - Nomenclature  Concept   \n",
       "...                                                     ...      ...   \n",
       "22578                                     Barr, James Smith   Person   \n",
       "506121    Najīb al-Dīn al-Samarqandī, Muḥammad ibn ʻAlī,...   Person   \n",
       "88869                              Cape of Good Hope (S.A.)    Place   \n",
       "243293                                            Bunyan, J   Person   \n",
       "494447                               Mother-Child Relations  Concept   \n",
       "\n",
       "                                                label_canon type_canon  \\\n",
       "canon_id                                                                 \n",
       "264320                                   Orientalism in art    Concept   \n",
       "92181                        Punishment - Religious aspects    Concept   \n",
       "527276                                      Newman, John B.     Person   \n",
       "79172                Adaptation, Physiological - physiology    Concept   \n",
       "625121                                     Pathogenic fungi    Concept   \n",
       "...                                                     ...        ...   \n",
       "22578                                           Barr, James     Person   \n",
       "506121    Najīb al-Dīn al-Samarqandī, Muḥammad ibn ʻAlī,...     Person   \n",
       "88869                                     Cape of Good Hope      Place   \n",
       "243293                                        Bunyan, John.     Person   \n",
       "494447                     Mother-Child Relations - history    Concept   \n",
       "\n",
       "          similarity_score  \n",
       "canon_id                    \n",
       "264320                  78  \n",
       "92181                   80  \n",
       "527276                  89  \n",
       "79172                   79  \n",
       "625121                  68  \n",
       "...                    ...  \n",
       "22578                   79  \n",
       "506121                  82  \n",
       "88869                   83  \n",
       "243293                  82  \n",
       "494447                  81  \n",
       "\n",
       "[1095 rows x 8 columns]"
      ]
     },
     "metadata": {},
     "output_type": "display_data"
    }
   ],
   "source": [
    "# Install fuzzywuzzy if not available\n",
    "from fuzzywuzzy import fuzz\n",
    "\n",
    "# Add similarity score column\n",
    "dedup_df['similarity_score'] = dedup_df.apply(\n",
    "    lambda row: fuzz.ratio(str(row['label']), str(row['label_canon'])), axis=1\n",
    ")\n",
    "\n",
    "# Filter out rows where labels are very similar (e.g., similarity > 90)\n",
    "similarity_threshold = 90\n",
    "filtered_dedup_df = dedup_df[dedup_df['similarity_score'] < similarity_threshold]\n",
    "\n",
    "print(f\"Original rows: {len(dedup_df)}\")\n",
    "print(f\"Filtered rows (similarity < {similarity_threshold}): {len(filtered_dedup_df)}\")\n",
    "print(f\"Removed {len(dedup_df) - len(filtered_dedup_df)} rows with high similarity\")\n",
    "\n",
    "# Show some examples of what was filtered out\n",
    "high_similarity_df = dedup_df[dedup_df['similarity_score'] >= similarity_threshold]\n",
    "print(f\"\\nExample of filtered out rows (high similarity):\")\n",
    "if len(high_similarity_df) > 0:\n",
    "    print(high_similarity_df[['label', 'label_canon', 'similarity_score']].head())\n",
    "else:\n",
    "    print(\"No rows with high similarity found\")\n",
    "\n",
    "filtered_dedup_df"
   ]
  },
  {
   "cell_type": "code",
   "execution_count": null,
   "id": "b5408e93",
   "metadata": {},
   "outputs": [],
   "source": [
    "filtered_dedup_df.to_csv(\"../data/dn_labels_filtered_dedup_result.csv\", index=True)"
   ]
  },
  {
   "cell_type": "code",
   "execution_count": null,
   "id": "d7266a4b",
   "metadata": {},
   "outputs": [
    {
     "data": {
      "text/plain": [
       "Index(['id', 'canon_id', 'prob', 'label', 'type', 'label_canon', 'type_canon',\n",
       "       'similarity_score'],\n",
       "      dtype='object')"
      ]
     },
     "metadata": {},
     "output_type": "display_data"
    }
   ],
   "source": [
    "filtered_dedup_df.columns"
   ]
  },
  {
   "cell_type": "code",
   "execution_count": null,
   "id": "a800d63e",
   "metadata": {},
   "outputs": [
    {
     "name": "stdout",
     "output_type": "stream",
     "text": [
      "Similarity score statistics:\n",
      "count    3132.000000\n",
      "mean       90.931992\n",
      "std        11.392710\n",
      "min        33.000000\n",
      "25%        80.000000\n",
      "50%        98.000000\n",
      "75%       100.000000\n",
      "max       100.000000\n",
      "Name: similarity_score, dtype: float64\n",
      "\n",
      "--- Examples by similarity range ---\n",
      "\n",
      "Moderately similar labels (30-70): 92 rows\n",
      "                                                   label  \\\n",
      "canon_id                                                   \n",
      "625121                   Pathogenic fungi - Nomenclature   \n",
      "139552    Hay, William, 1695-1755. Deformity : an essay.   \n",
      "75900                    Poultry Diseases - drug therapy   \n",
      "\n",
      "                       label_canon  similarity_score  \n",
      "canon_id                                              \n",
      "625121            Pathogenic fungi                68  \n",
      "139552    Hay, William, 1695-1755.                69  \n",
      "75900             Poultry Diseases                68  \n",
      "\n",
      "Very similar labels (similarity >= 70): 3040 rows\n",
      "                                                  label  \\\n",
      "canon_id                                                  \n",
      "218898                                 Ashworth, Bryan.   \n",
      "264320                     Orientalism in art - History   \n",
      "92181     Punishment - Religious aspects - Christianity   \n",
      "\n",
      "                             label_canon  similarity_score  \n",
      "canon_id                                                    \n",
      "218898                  Ashworth, Bryan.               100  \n",
      "264320                Orientalism in art                78  \n",
      "92181     Punishment - Religious aspects                80  \n"
     ]
    }
   ],
   "source": [
    "# Analyze similarity score distribution\n",
    "import matplotlib.pyplot as plt\n",
    "\n",
    "plt.figure(figsize=(12, 6))\n",
    "\n",
    "# Histogram of similarity scores\n",
    "plt.subplot(1, 2, 1)\n",
    "plt.hist(dedup_df['similarity_score'], bins=20, alpha=0.7, color='blue')\n",
    "plt.title('Distribution of Similarity Scores')\n",
    "plt.xlabel('Similarity Score')\n",
    "plt.ylabel('Frequency')\n",
    "plt.axvline(x=similarity_threshold, color='red', linestyle='--', label=f'Threshold: {similarity_threshold}')\n",
    "plt.legend()\n",
    "\n",
    "# Box plot\n",
    "plt.subplot(1, 2, 2)\n",
    "plt.boxplot(dedup_df['similarity_score'])\n",
    "plt.title('Similarity Score Box Plot')\n",
    "plt.ylabel('Similarity Score')\n",
    "\n",
    "plt.tight_layout()\n",
    "plt.show()\n",
    "\n",
    "print(\"Similarity score statistics:\")\n",
    "print(dedup_df['similarity_score'].describe())\n",
    "\n",
    "# Show examples at different similarity ranges\n",
    "print(\"\\n--- Examples by similarity range ---\")\n",
    "\n",
    "# Very different labels (low similarity)\n",
    "low_sim = dedup_df[dedup_df['similarity_score'] < 30]\n",
    "if len(low_sim) > 0:\n",
    "    print(f\"\\nVery different labels (similarity < 30): {len(low_sim)} rows\")\n",
    "    print(low_sim[['label', 'label_canon', 'similarity_score']].head(3))\n",
    "\n",
    "# Moderately similar labels\n",
    "med_sim = dedup_df[(dedup_df['similarity_score'] >= 30) & (dedup_df['similarity_score'] < 70)]\n",
    "if len(med_sim) > 0:\n",
    "    print(f\"\\nModerately similar labels (30-70): {len(med_sim)} rows\")\n",
    "    print(med_sim[['label', 'label_canon', 'similarity_score']].head(3))\n",
    "\n",
    "# Very similar labels (high similarity)\n",
    "high_sim = dedup_df[dedup_df['similarity_score'] >= 70]\n",
    "if len(high_sim) > 0:\n",
    "    print(f\"\\nVery similar labels (similarity >= 70): {len(high_sim)} rows\")\n",
    "    print(high_sim[['label', 'label_canon', 'similarity_score']].head(3))"
   ]
  },
  {
   "cell_type": "code",
   "execution_count": null,
   "id": "ef43a5c4",
   "metadata": {},
   "outputs": [
    {
     "name": "stdout",
     "output_type": "stream",
     "text": [
      "=== Experimenting with different similarity thresholds ===\n",
      "\n",
      "--------------------------------------------------\n",
      "Threshold: 95\n",
      "Original rows: 3132\n",
      "Filtered rows: 1165\n",
      "Removed rows: 1967 (62.8%)\n",
      "\n",
      "--------------------------------------------------\n",
      "Threshold: 90\n",
      "Original rows: 3132\n",
      "Filtered rows: 1095\n",
      "Removed rows: 2037 (65.0%)\n",
      "\n",
      "Examples of removed rows (similarity >= 90):\n",
      "                                                      label  \\\n",
      "canon_id                                                      \n",
      "218898                                     Ashworth, Bryan.   \n",
      "338357                 Pettigrew, Thomas Joseph, 1791-1865.   \n",
      "639846                                      Rivers, Isabel.   \n",
      "518760                          Scriven, Edward, 1775-1841.   \n",
      "104248    Lichfield, Sutton Coldfield and Tamworth Hospi...   \n",
      "\n",
      "                                                label_canon  similarity_score  \\\n",
      "canon_id                                                                        \n",
      "218898                                     Ashworth, Bryan.               100   \n",
      "338357                 Pettigrew, Thomas Joseph, 1791-1865.               100   \n",
      "639846                                       Rivers, Isabel                97   \n",
      "518760                           Scriven, Edward, 1775-1841                98   \n",
      "104248    Lichfield, Sutton Coldfield and Tamworth Hospi...                99   \n",
      "\n",
      "              prob  \n",
      "canon_id            \n",
      "218898    0.549917  \n",
      "338357    0.549917  \n",
      "639846    0.538514  \n",
      "518760    0.543684  \n",
      "104248    0.547576  \n",
      "\n",
      "--------------------------------------------------\n",
      "Threshold: 85\n",
      "Original rows: 3132\n",
      "Filtered rows: 992\n",
      "Removed rows: 2140 (68.3%)\n",
      "\n",
      "--------------------------------------------------\n",
      "Threshold: 80\n",
      "Original rows: 3132\n",
      "Filtered rows: 779\n",
      "Removed rows: 2353 (75.1%)\n",
      "\n",
      "--------------------------------------------------\n",
      "Threshold: 75\n",
      "Original rows: 3132\n",
      "Filtered rows: 458\n",
      "Removed rows: 2674 (85.4%)\n",
      "\n",
      "Threshold: 85\n",
      "Original rows: 3132\n",
      "Filtered rows: 992\n",
      "Removed rows: 2140 (68.3%)\n",
      "\n",
      "Examples of removed rows (similarity >= 85):\n",
      "                                         label  \\\n",
      "canon_id                                         \n",
      "218898                        Ashworth, Bryan.   \n",
      "338357    Pettigrew, Thomas Joseph, 1791-1865.   \n",
      "527276                            Newman, John   \n",
      "639846                         Rivers, Isabel.   \n",
      "518760             Scriven, Edward, 1775-1841.   \n",
      "\n",
      "                                   label_canon  similarity_score      prob  \n",
      "canon_id                                                                    \n",
      "218898                        Ashworth, Bryan.               100  0.549917  \n",
      "338357    Pettigrew, Thomas Joseph, 1791-1865.               100  0.549917  \n",
      "527276                         Newman, John B.                89  0.531998  \n",
      "639846                          Rivers, Isabel                97  0.538514  \n",
      "518760              Scriven, Edward, 1775-1841                98  0.543684  \n",
      "\n",
      "=== Final filtered dataframe with threshold 85 ===\n"
     ]
    },
    {
     "data": {
      "application/vnd.microsoft.datawrangler.viewer.v0+json": {
       "columns": [
        {
         "name": "canon_id",
         "rawType": "int64",
         "type": "integer"
        },
        {
         "name": "id",
         "rawType": "int64",
         "type": "integer"
        },
        {
         "name": "canon_id",
         "rawType": "int64",
         "type": "integer"
        },
        {
         "name": "prob",
         "rawType": "float64",
         "type": "float"
        },
        {
         "name": "label",
         "rawType": "object",
         "type": "string"
        },
        {
         "name": "type",
         "rawType": "object",
         "type": "string"
        },
        {
         "name": "label_canon",
         "rawType": "object",
         "type": "string"
        },
        {
         "name": "type_canon",
         "rawType": "object",
         "type": "string"
        },
        {
         "name": "similarity_score",
         "rawType": "int64",
         "type": "integer"
        }
       ],
       "ref": "99158e72-3e39-46dc-a867-9065194ca56b",
       "rows": [
        [
         "264320",
         "388020",
         "264320",
         "0.5277604450262161",
         "Orientalism in art - History",
         "Concept",
         "Orientalism in art",
         "Concept",
         "78"
        ],
        [
         "92181",
         "92182",
         "92181",
         "0.5312411785125732",
         "Punishment - Religious aspects - Christianity",
         "Concept",
         "Punishment - Religious aspects",
         "Concept",
         "80"
        ],
        [
         "79172",
         "443059",
         "79172",
         "0.5399049440151251",
         "Adaptation, Physiological",
         "Concept",
         "Adaptation, Physiological - physiology",
         "Concept",
         "79"
        ],
        [
         "625121",
         "625123",
         "625121",
         "0.5200697779655457",
         "Pathogenic fungi - Nomenclature",
         "Concept",
         "Pathogenic fungi",
         "Concept",
         "68"
        ],
        [
         "139552",
         "139553",
         "139552",
         "0.5222323600017331",
         "Hay, William, 1695-1755. Deformity : an essay.",
         "Person",
         "Hay, William, 1695-1755.",
         "Person",
         "69"
        ],
        [
         "178807",
         "441756",
         "178807",
         "0.530212993109243",
         "Leicestershire and Rutland Lunatic Asylum. Committee of Visitors.",
         "Organisation",
         "Leicestershire and Rutland Lunatic Asylum",
         "Organisation",
         "77"
        ],
        [
         "235315",
         "514054",
         "235315",
         "0.5275059970600509",
         "Technische Universität München. Fakultät für Medizin",
         "Organisation",
         "Technische Universität München.",
         "Organisation",
         "75"
        ],
        [
         "440633",
         "454318",
         "440633",
         "0.5236001014709473",
         "Gay erotic photography",
         "Concept",
         "Gay erotic photography - Pictorial works",
         "Concept",
         "71"
        ],
        [
         "75900",
         "351703",
         "75900",
         "0.520069780777783",
         "Poultry Diseases - drug therapy",
         "Concept",
         "Poultry Diseases",
         "Concept",
         "68"
        ],
        [
         "23231",
         "443668",
         "23231",
         "0.5251666311110295",
         "Frontier and pioneer life",
         "Concept",
         "Frontier and pioneer life - Africa, Southern",
         "Concept",
         "72"
        ]
       ],
       "shape": {
        "columns": 8,
        "rows": 10
       }
      },
      "text/html": [
       "<div>\n",
       "<style scoped>\n",
       "    .dataframe tbody tr th:only-of-type {\n",
       "        vertical-align: middle;\n",
       "    }\n",
       "\n",
       "    .dataframe tbody tr th {\n",
       "        vertical-align: top;\n",
       "    }\n",
       "\n",
       "    .dataframe thead th {\n",
       "        text-align: right;\n",
       "    }\n",
       "</style>\n",
       "<table border=\"1\" class=\"dataframe\">\n",
       "  <thead>\n",
       "    <tr style=\"text-align: right;\">\n",
       "      <th></th>\n",
       "      <th>id</th>\n",
       "      <th>canon_id</th>\n",
       "      <th>prob</th>\n",
       "      <th>label</th>\n",
       "      <th>type</th>\n",
       "      <th>label_canon</th>\n",
       "      <th>type_canon</th>\n",
       "      <th>similarity_score</th>\n",
       "    </tr>\n",
       "    <tr>\n",
       "      <th>canon_id</th>\n",
       "      <th></th>\n",
       "      <th></th>\n",
       "      <th></th>\n",
       "      <th></th>\n",
       "      <th></th>\n",
       "      <th></th>\n",
       "      <th></th>\n",
       "      <th></th>\n",
       "    </tr>\n",
       "  </thead>\n",
       "  <tbody>\n",
       "    <tr>\n",
       "      <th>264320</th>\n",
       "      <td>388020</td>\n",
       "      <td>264320</td>\n",
       "      <td>0.527760</td>\n",
       "      <td>Orientalism in art - History</td>\n",
       "      <td>Concept</td>\n",
       "      <td>Orientalism in art</td>\n",
       "      <td>Concept</td>\n",
       "      <td>78</td>\n",
       "    </tr>\n",
       "    <tr>\n",
       "      <th>92181</th>\n",
       "      <td>92182</td>\n",
       "      <td>92181</td>\n",
       "      <td>0.531241</td>\n",
       "      <td>Punishment - Religious aspects - Christianity</td>\n",
       "      <td>Concept</td>\n",
       "      <td>Punishment - Religious aspects</td>\n",
       "      <td>Concept</td>\n",
       "      <td>80</td>\n",
       "    </tr>\n",
       "    <tr>\n",
       "      <th>79172</th>\n",
       "      <td>443059</td>\n",
       "      <td>79172</td>\n",
       "      <td>0.539905</td>\n",
       "      <td>Adaptation, Physiological</td>\n",
       "      <td>Concept</td>\n",
       "      <td>Adaptation, Physiological - physiology</td>\n",
       "      <td>Concept</td>\n",
       "      <td>79</td>\n",
       "    </tr>\n",
       "    <tr>\n",
       "      <th>625121</th>\n",
       "      <td>625123</td>\n",
       "      <td>625121</td>\n",
       "      <td>0.520070</td>\n",
       "      <td>Pathogenic fungi - Nomenclature</td>\n",
       "      <td>Concept</td>\n",
       "      <td>Pathogenic fungi</td>\n",
       "      <td>Concept</td>\n",
       "      <td>68</td>\n",
       "    </tr>\n",
       "    <tr>\n",
       "      <th>139552</th>\n",
       "      <td>139553</td>\n",
       "      <td>139552</td>\n",
       "      <td>0.522232</td>\n",
       "      <td>Hay, William, 1695-1755. Deformity : an essay.</td>\n",
       "      <td>Person</td>\n",
       "      <td>Hay, William, 1695-1755.</td>\n",
       "      <td>Person</td>\n",
       "      <td>69</td>\n",
       "    </tr>\n",
       "    <tr>\n",
       "      <th>178807</th>\n",
       "      <td>441756</td>\n",
       "      <td>178807</td>\n",
       "      <td>0.530213</td>\n",
       "      <td>Leicestershire and Rutland Lunatic Asylum. Com...</td>\n",
       "      <td>Organisation</td>\n",
       "      <td>Leicestershire and Rutland Lunatic Asylum</td>\n",
       "      <td>Organisation</td>\n",
       "      <td>77</td>\n",
       "    </tr>\n",
       "    <tr>\n",
       "      <th>235315</th>\n",
       "      <td>514054</td>\n",
       "      <td>235315</td>\n",
       "      <td>0.527506</td>\n",
       "      <td>Technische Universität München. Fakultät für M...</td>\n",
       "      <td>Organisation</td>\n",
       "      <td>Technische Universität München.</td>\n",
       "      <td>Organisation</td>\n",
       "      <td>75</td>\n",
       "    </tr>\n",
       "    <tr>\n",
       "      <th>440633</th>\n",
       "      <td>454318</td>\n",
       "      <td>440633</td>\n",
       "      <td>0.523600</td>\n",
       "      <td>Gay erotic photography</td>\n",
       "      <td>Concept</td>\n",
       "      <td>Gay erotic photography - Pictorial works</td>\n",
       "      <td>Concept</td>\n",
       "      <td>71</td>\n",
       "    </tr>\n",
       "    <tr>\n",
       "      <th>75900</th>\n",
       "      <td>351703</td>\n",
       "      <td>75900</td>\n",
       "      <td>0.520070</td>\n",
       "      <td>Poultry Diseases - drug therapy</td>\n",
       "      <td>Concept</td>\n",
       "      <td>Poultry Diseases</td>\n",
       "      <td>Concept</td>\n",
       "      <td>68</td>\n",
       "    </tr>\n",
       "    <tr>\n",
       "      <th>23231</th>\n",
       "      <td>443668</td>\n",
       "      <td>23231</td>\n",
       "      <td>0.525167</td>\n",
       "      <td>Frontier and pioneer life</td>\n",
       "      <td>Concept</td>\n",
       "      <td>Frontier and pioneer life - Africa, Southern</td>\n",
       "      <td>Concept</td>\n",
       "      <td>72</td>\n",
       "    </tr>\n",
       "  </tbody>\n",
       "</table>\n",
       "</div>"
      ],
      "text/plain": [
       "              id  canon_id      prob  \\\n",
       "canon_id                               \n",
       "264320    388020    264320  0.527760   \n",
       "92181      92182     92181  0.531241   \n",
       "79172     443059     79172  0.539905   \n",
       "625121    625123    625121  0.520070   \n",
       "139552    139553    139552  0.522232   \n",
       "178807    441756    178807  0.530213   \n",
       "235315    514054    235315  0.527506   \n",
       "440633    454318    440633  0.523600   \n",
       "75900     351703     75900  0.520070   \n",
       "23231     443668     23231  0.525167   \n",
       "\n",
       "                                                      label          type  \\\n",
       "canon_id                                                                    \n",
       "264320                         Orientalism in art - History       Concept   \n",
       "92181         Punishment - Religious aspects - Christianity       Concept   \n",
       "79172                             Adaptation, Physiological       Concept   \n",
       "625121                      Pathogenic fungi - Nomenclature       Concept   \n",
       "139552       Hay, William, 1695-1755. Deformity : an essay.        Person   \n",
       "178807    Leicestershire and Rutland Lunatic Asylum. Com...  Organisation   \n",
       "235315    Technische Universität München. Fakultät für M...  Organisation   \n",
       "440633                               Gay erotic photography       Concept   \n",
       "75900                       Poultry Diseases - drug therapy       Concept   \n",
       "23231                             Frontier and pioneer life       Concept   \n",
       "\n",
       "                                           label_canon    type_canon  \\\n",
       "canon_id                                                               \n",
       "264320                              Orientalism in art       Concept   \n",
       "92181                   Punishment - Religious aspects       Concept   \n",
       "79172           Adaptation, Physiological - physiology       Concept   \n",
       "625121                                Pathogenic fungi       Concept   \n",
       "139552                        Hay, William, 1695-1755.        Person   \n",
       "178807       Leicestershire and Rutland Lunatic Asylum  Organisation   \n",
       "235315                 Technische Universität München.  Organisation   \n",
       "440633        Gay erotic photography - Pictorial works       Concept   \n",
       "75900                                 Poultry Diseases       Concept   \n",
       "23231     Frontier and pioneer life - Africa, Southern       Concept   \n",
       "\n",
       "          similarity_score  \n",
       "canon_id                    \n",
       "264320                  78  \n",
       "92181                   80  \n",
       "79172                   79  \n",
       "625121                  68  \n",
       "139552                  69  \n",
       "178807                  77  \n",
       "235315                  75  \n",
       "440633                  71  \n",
       "75900                   68  \n",
       "23231                   72  "
      ]
     },
     "metadata": {},
     "output_type": "display_data"
    }
   ],
   "source": [
    "# Function to filter by different similarity thresholds\n",
    "def filter_by_similarity(df, threshold=90, show_examples=True):\n",
    "    filtered_df = df[df['similarity_score'] < threshold]\n",
    "    removed_count = len(df) - len(filtered_df)\n",
    "    \n",
    "    print(f\"Threshold: {threshold}\")\n",
    "    print(f\"Original rows: {len(df)}\")\n",
    "    print(f\"Filtered rows: {len(filtered_df)}\")\n",
    "    print(f\"Removed rows: {removed_count} ({removed_count/len(df)*100:.1f}%)\")\n",
    "    \n",
    "    if show_examples and removed_count > 0:\n",
    "        removed_df = df[df['similarity_score'] >= threshold]\n",
    "        print(f\"\\nExamples of removed rows (similarity >= {threshold}):\")\n",
    "        print(removed_df[['label', 'label_canon', 'similarity_score', 'prob']].head())\n",
    "    \n",
    "    return filtered_df\n",
    "\n",
    "# Try different thresholds\n",
    "print(\"=== Experimenting with different similarity thresholds ===\\n\")\n",
    "\n",
    "for threshold in [95, 90, 85, 80, 75]:\n",
    "    print(\"-\" * 50)\n",
    "    filtered_result = filter_by_similarity(dedup_df, threshold, show_examples=(threshold == 90))\n",
    "    print()\n",
    "\n",
    "# You can adjust this threshold based on your needs\n",
    "final_threshold = 85  # Adjust this value\n",
    "final_filtered_df = filter_by_similarity(dedup_df, final_threshold, show_examples=True)\n",
    "\n",
    "print(f\"\\n=== Final filtered dataframe with threshold {final_threshold} ===\")\n",
    "final_filtered_df.head(10)"
   ]
  }
 ],
 "metadata": {
  "kernelspec": {
   "display_name": "wc-simd",
   "language": "python",
   "name": "python3"
  },
  "language_info": {
   "codemirror_mode": {
    "name": "ipython",
    "version": 3
   },
   "file_extension": ".py",
   "mimetype": "text/x-python",
   "name": "python",
   "nbconvert_exporter": "python",
   "pygments_lexer": "ipython3",
   "version": "3.10.17"
  }
 },
 "nbformat": 4,
 "nbformat_minor": 5
}
