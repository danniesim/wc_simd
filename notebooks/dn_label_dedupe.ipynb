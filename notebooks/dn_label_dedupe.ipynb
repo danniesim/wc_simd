{
 "cells": [
  {
   "cell_type": "markdown",
   "id": "23c48000",
   "metadata": {},
   "source": [
    "# Load Spark"
   ]
  },
  {
   "cell_type": "code",
   "execution_count": 1,
   "id": "3a978214",
   "metadata": {},
   "outputs": [
    {
     "name": "stderr",
     "output_type": "stream",
     "text": [
      "Setting default log level to \"WARN\".\n",
      "To adjust logging level use sc.setLogLevel(newLevel). For SparkR, use setLogLevel(newLevel).\n",
      "25/08/12 08:26:34 WARN NativeCodeLoader: Unable to load native-hadoop library for your platform... using builtin-java classes where applicable\n"
     ]
    }
   ],
   "source": [
    "from pyspark.sql import SparkSession\n",
    "\n",
    "spark = SparkSession.builder \\\n",
    "    .appName(\"test_pyspark\") \\\n",
    "    .config(\"spark.driver.memory\", \"100g\") \\\n",
    "    .config(\"spark.executor.memory\", \"100g\") \\\n",
    "    .config(\"spark.sql.orc.enableVectorizedReader\", \"false\") \\\n",
    "    .config(\"spark.sql.parquet.columnarReaderBatchSize\", \"256\") \\\n",
    "    .config(\"spark.sql.orc.columnarReaderBatchSize\", \"256\") \\\n",
    "    .config(\"spark.sql.shuffle.partitions\", \"1024\") \\\n",
    "    .config(\"spark.driver.maxResultSize\", \"4g\") \\\n",
    "    .getOrCreate()\n",
    "\n",
    "spark.sparkContext.setLogLevel(\"ERROR\")"
   ]
  },
  {
   "cell_type": "code",
   "execution_count": 9,
   "id": "e1a5f1cc",
   "metadata": {},
   "outputs": [],
   "source": [
    "combined_df = spark.table(\"dn_labels_combined\")"
   ]
  },
  {
   "cell_type": "markdown",
   "id": "16dd3453",
   "metadata": {},
   "source": [
    "# Create dedup data"
   ]
  },
  {
   "cell_type": "code",
   "execution_count": 11,
   "id": "aa3134cb",
   "metadata": {},
   "outputs": [
    {
     "data": {
      "application/vnd.microsoft.datawrangler.viewer.v0+json": {
       "columns": [
        {
         "name": "idx",
         "rawType": "int64",
         "type": "integer"
        },
        {
         "name": "label",
         "rawType": "object",
         "type": "string"
        },
        {
         "name": "id",
         "rawType": "object",
         "type": "string"
        },
        {
         "name": "type",
         "rawType": "object",
         "type": "string"
        },
        {
         "name": "source",
         "rawType": "object",
         "type": "string"
        }
       ],
       "ref": "63a7cbc2-1113-405c-ad57-8e362233bf06",
       "rows": [
        [
         "0",
         "Children",
         "null00000",
         "missing",
         "subject"
        ],
        [
         "1",
         "Criminal law",
         "null00001",
         "missing",
         "subject"
        ],
        [
         "2",
         "Gender roles",
         "null00002",
         "missing",
         "subject"
        ],
        [
         "3",
         "Law",
         "null00003",
         "missing",
         "subject"
        ],
        [
         "4",
         "Police",
         "null00004",
         "missing",
         "subject"
        ],
        [
         "5",
         "Women",
         "null00005",
         "missing",
         "subject"
        ],
        [
         "6",
         "Womyn",
         "null00006",
         "missing",
         "subject"
        ],
        [
         "7",
         "Youth",
         "null00007",
         "missing",
         "subject"
        ],
        [
         "8",
         "Circle of State Librarians Conference 1979 : Kew, England)",
         "a2233f9d",
         "Meeting",
         "contributor"
        ],
        [
         "9",
         "Nelson, Geoffrey B. (Geoffrey Brian)",
         "a223f5a6",
         "Person",
         "contributor"
        ],
        [
         "10",
         "Wolff, G.",
         "a2249bxm",
         "Person",
         "contributor"
        ],
        [
         "11",
         "Jones, John E",
         "a224b9mp",
         "Person",
         "contributor"
        ],
        [
         "12",
         "Jones, John E.",
         "a224b9mp",
         "Person",
         "contributor"
        ],
        [
         "13",
         "Hulverscheidt, Marion, 1970-",
         "a224rx5x",
         "Person",
         "contributor"
        ],
        [
         "14",
         "Zimmermann, Wilhelm.",
         "a224tns9",
         "Person",
         "contributor"
        ],
        [
         "15",
         "Gaur, June.",
         "a2258t8s",
         "Person",
         "contributor"
        ],
        [
         "16",
         "South Cambridgeshire (England)",
         "a22auf32",
         "Place",
         "subject"
        ],
        [
         "17",
         "Orel, Harold, 1926-2017.",
         "a22d6ehy",
         "Person",
         "contributor"
        ],
        [
         "18",
         "Brown, Bruce, 1942-",
         "a22d7muq",
         "Person",
         "contributor"
        ],
        [
         "19",
         "Economic development - History",
         "a22ddxvt",
         "Concept",
         "subject"
        ],
        [
         "20",
         "Shugar, Andrea.",
         "a22dx2jb",
         "Person",
         "contributor"
        ],
        [
         "21",
         "Bruce (Edinburgh, Scotland)",
         "a22ghtpk",
         "Person",
         "contributor"
        ],
        [
         "22",
         "Cheeseman, Thomas, 1760-approximately 1835.",
         "a22hh3y8",
         "Person",
         "contributor"
        ],
        [
         "23",
         "Hartstein, Jack, 1924-",
         "a22hndxd",
         "Person",
         "contributor"
        ],
        [
         "24",
         "Prujean, Thomas, 1622 or 1623-1662.",
         "a22jzkjd",
         "Person",
         "subject"
        ],
        [
         "25",
         "Freeport, Andrew",
         "a22mar23",
         "Person",
         "contributor"
        ],
        [
         "26",
         "Databases as Topic - organization & administration",
         "a22mr8u2",
         "Concept",
         "subject"
        ],
        [
         "27",
         "Ideler, Julius Ludwig, 1809-1842",
         "a22ncx9p",
         "Person",
         "contributor"
        ],
        [
         "28",
         "Fournier, Alfred Jean, 1832-1914",
         "a22sv4sw",
         "Agent",
         "contributor"
        ],
        [
         "29",
         "Royal College of Surgeons in London",
         "a22vrvk4",
         "Organisation",
         "subject"
        ],
        [
         "30",
         "Royal College of Surgeons in London.",
         "a22vrvk4",
         "Organisation",
         "contributor"
        ],
        [
         "31",
         "Hernia, Inguinal, therapy",
         "a22xqhjs",
         "Concept",
         "subject"
        ],
        [
         "32",
         "Poor families",
         "a22xr2nw",
         "Concept",
         "subject"
        ],
        [
         "33",
         "Scrimshaw, Jane, 1584-1711.",
         "a22xt94e",
         "Person",
         "subject"
        ],
        [
         "34",
         "Foster, William",
         "a232zjf3",
         "Person",
         "contributor"
        ],
        [
         "35",
         "Foster, William.",
         "a232zjf3",
         "Person",
         "subject"
        ],
        [
         "36",
         "Foster, William.",
         "a232zjf3",
         "Person",
         "contributor"
        ],
        [
         "37",
         "da Silva, Christiano",
         "a2346x74",
         "Person",
         "contributor"
        ],
        [
         "38",
         "Steam-heating",
         "a235krft",
         "Concept",
         "subject"
        ],
        [
         "39",
         "Dental Restoration, Temporary",
         "a239x46b",
         "Concept",
         "subject"
        ],
        [
         "40",
         "London Black MESMAC",
         "a23ajhj3",
         "Organisation",
         "contributor"
        ],
        [
         "41",
         "London Black Mesmac",
         "a23ajhj3",
         "Organisation",
         "contributor"
        ],
        [
         "42",
         "Fellows, Julian R. (Julian Robert), 1900-1985.",
         "a23c6tr6",
         "Person",
         "contributor"
        ],
        [
         "43",
         "Subba Reddy, D. V., 1899-1987",
         "a23cjx8a",
         "Person",
         "contributor"
        ],
        [
         "44",
         "Subba Reddy, D. V., 1899-1987.",
         "a23cjx8a",
         "Person",
         "contributor"
        ],
        [
         "45",
         "Subba Reddy, D. V., 1899-1987.",
         "a23cjx8a",
         "Person",
         "subject"
        ],
        [
         "46",
         "Pneumonia",
         "a23f6ptg",
         "Concept",
         "subject"
        ],
        [
         "47",
         "Pneumonia - Child",
         "a23f6ptg",
         "Concept",
         "subject"
        ],
        [
         "48",
         "Pneumonia - Child, Preschool",
         "a23f6ptg",
         "Concept",
         "subject"
        ],
        [
         "49",
         "Pneumonia - Infant",
         "a23f6ptg",
         "Concept",
         "subject"
        ]
       ],
       "shape": {
        "columns": 4,
        "rows": 646786
       }
      },
      "text/html": [
       "<div>\n",
       "<style scoped>\n",
       "    .dataframe tbody tr th:only-of-type {\n",
       "        vertical-align: middle;\n",
       "    }\n",
       "\n",
       "    .dataframe tbody tr th {\n",
       "        vertical-align: top;\n",
       "    }\n",
       "\n",
       "    .dataframe thead th {\n",
       "        text-align: right;\n",
       "    }\n",
       "</style>\n",
       "<table border=\"1\" class=\"dataframe\">\n",
       "  <thead>\n",
       "    <tr style=\"text-align: right;\">\n",
       "      <th></th>\n",
       "      <th>label</th>\n",
       "      <th>id</th>\n",
       "      <th>type</th>\n",
       "      <th>source</th>\n",
       "    </tr>\n",
       "    <tr>\n",
       "      <th>idx</th>\n",
       "      <th></th>\n",
       "      <th></th>\n",
       "      <th></th>\n",
       "      <th></th>\n",
       "    </tr>\n",
       "  </thead>\n",
       "  <tbody>\n",
       "    <tr>\n",
       "      <th>0</th>\n",
       "      <td>Children</td>\n",
       "      <td>null00000</td>\n",
       "      <td>missing</td>\n",
       "      <td>subject</td>\n",
       "    </tr>\n",
       "    <tr>\n",
       "      <th>1</th>\n",
       "      <td>Criminal law</td>\n",
       "      <td>null00001</td>\n",
       "      <td>missing</td>\n",
       "      <td>subject</td>\n",
       "    </tr>\n",
       "    <tr>\n",
       "      <th>2</th>\n",
       "      <td>Gender roles</td>\n",
       "      <td>null00002</td>\n",
       "      <td>missing</td>\n",
       "      <td>subject</td>\n",
       "    </tr>\n",
       "    <tr>\n",
       "      <th>3</th>\n",
       "      <td>Law</td>\n",
       "      <td>null00003</td>\n",
       "      <td>missing</td>\n",
       "      <td>subject</td>\n",
       "    </tr>\n",
       "    <tr>\n",
       "      <th>4</th>\n",
       "      <td>Police</td>\n",
       "      <td>null00004</td>\n",
       "      <td>missing</td>\n",
       "      <td>subject</td>\n",
       "    </tr>\n",
       "    <tr>\n",
       "      <th>...</th>\n",
       "      <td>...</td>\n",
       "      <td>...</td>\n",
       "      <td>...</td>\n",
       "      <td>...</td>\n",
       "    </tr>\n",
       "    <tr>\n",
       "      <th>646781</th>\n",
       "      <td>Pregnant teenagers - Great Britain - Diaries</td>\n",
       "      <td>zzzvtr3f</td>\n",
       "      <td>Concept</td>\n",
       "      <td>subject</td>\n",
       "    </tr>\n",
       "    <tr>\n",
       "      <th>646782</th>\n",
       "      <td>Maddox, Lucy</td>\n",
       "      <td>zzzw65be</td>\n",
       "      <td>Person</td>\n",
       "      <td>contributor</td>\n",
       "    </tr>\n",
       "    <tr>\n",
       "      <th>646783</th>\n",
       "      <td>Rockliffe, Richard William.</td>\n",
       "      <td>zzzwgbkn</td>\n",
       "      <td>Person</td>\n",
       "      <td>contributor</td>\n",
       "    </tr>\n",
       "    <tr>\n",
       "      <th>646784</th>\n",
       "      <td>Aneurysm - drug therapy</td>\n",
       "      <td>zzzygqw9</td>\n",
       "      <td>Concept</td>\n",
       "      <td>subject</td>\n",
       "    </tr>\n",
       "    <tr>\n",
       "      <th>646785</th>\n",
       "      <td>Gottfried, Robert Steven, 1949-</td>\n",
       "      <td>zzzyybvk</td>\n",
       "      <td>Person</td>\n",
       "      <td>contributor</td>\n",
       "    </tr>\n",
       "  </tbody>\n",
       "</table>\n",
       "<p>646786 rows × 4 columns</p>\n",
       "</div>"
      ],
      "text/plain": [
       "                                               label         id     type  \\\n",
       "idx                                                                        \n",
       "0                                           Children  null00000  missing   \n",
       "1                                       Criminal law  null00001  missing   \n",
       "2                                       Gender roles  null00002  missing   \n",
       "3                                                Law  null00003  missing   \n",
       "4                                             Police  null00004  missing   \n",
       "...                                              ...        ...      ...   \n",
       "646781  Pregnant teenagers - Great Britain - Diaries   zzzvtr3f  Concept   \n",
       "646782                                  Maddox, Lucy   zzzw65be   Person   \n",
       "646783                   Rockliffe, Richard William.   zzzwgbkn   Person   \n",
       "646784                       Aneurysm - drug therapy   zzzygqw9  Concept   \n",
       "646785               Gottfried, Robert Steven, 1949-   zzzyybvk   Person   \n",
       "\n",
       "             source  \n",
       "idx                  \n",
       "0           subject  \n",
       "1           subject  \n",
       "2           subject  \n",
       "3           subject  \n",
       "4           subject  \n",
       "...             ...  \n",
       "646781      subject  \n",
       "646782  contributor  \n",
       "646783  contributor  \n",
       "646784      subject  \n",
       "646785  contributor  \n",
       "\n",
       "[646786 rows x 4 columns]"
      ]
     },
     "execution_count": 11,
     "metadata": {},
     "output_type": "execute_result"
    }
   ],
   "source": [
    "combined_distinct_df = combined_df.distinct().orderBy(\"id\", \"label\", \"type\")\n",
    "\n",
    "dedup_data = combined_distinct_df.toPandas()\n",
    "\n",
    "null_count = dedup_data[dedup_data[\"id\"].isnull()].shape[0]\n",
    "# format null_nums 5 digit number starting from 00000\n",
    "null_nums = [f\"null{num:05d}\" for num in range(0, null_count)]\n",
    "dedup_data.loc[dedup_data[\"id\"].isnull(), \"id\"] = null_nums\n",
    "dedup_data.loc[dedup_data[\"type\"].isnull(), \"type\"] = \"missing\"\n",
    "# Name index idx\n",
    "dedup_data.index.name = \"idx\"\n",
    "\n",
    "dedup_data"
   ]
  },
  {
   "cell_type": "markdown",
   "id": "d8809e47",
   "metadata": {},
   "source": [
    "### Find rows that label contains \"Florence\""
   ]
  },
  {
   "cell_type": "code",
   "execution_count": 34,
   "id": "82d51462",
   "metadata": {},
   "outputs": [
    {
     "data": {
      "application/vnd.microsoft.datawrangler.viewer.v0+json": {
       "columns": [
        {
         "name": "idx",
         "rawType": "int64",
         "type": "integer"
        },
        {
         "name": "label",
         "rawType": "object",
         "type": "string"
        },
        {
         "name": "id",
         "rawType": "object",
         "type": "string"
        },
        {
         "name": "type",
         "rawType": "object",
         "type": "string"
        },
        {
         "name": "source",
         "rawType": "object",
         "type": "string"
        }
       ],
       "ref": "0b005546-67ca-4379-b0d4-e18b85f5d7ee",
       "rows": [
        [
         "87516",
         "Nightingale, Florence, 1820-1910.",
         "d4rsp2n3",
         "Person",
         "contributor"
        ],
        [
         "87517",
         "Nightingale, Florence, 1820-1910. Notes on nursing.",
         "d4rsp2n3",
         "Agent",
         "contributor"
        ],
        [
         "87518",
         "Nightingale, Florence, 1820-1910. Notes on nursing.",
         "d4rsp2n3",
         "Person",
         "subject"
        ],
        [
         "87519",
         "Nightingale, Florence, 1820-1910. Notes on nursing. Dutch.",
         "d4rsp2n3",
         "Agent",
         "contributor"
        ],
        [
         "87900",
         "Florence Nightingale Museum (London, England)",
         "d56fkgss",
         "Organisation",
         "subject"
        ],
        [
         "91691",
         "École Florence Nightingale de Bordeaux",
         "d9d45nkh",
         "Organisation",
         "contributor"
        ],
        [
         "98931",
         "National Florence Nightingale Memorial Committee of Great Britain and Northern Ireland. Dan Mason Nursing Research Committee",
         "dhayqztj",
         "Organisation",
         "contributor"
        ],
        [
         "136958",
         "Nightingale, Florence (1820-1910)",
         "euzka9gm",
         "Organisation",
         "subject"
        ],
        [
         "136957",
         "Nightingale, Florence (1820-1910)",
         "euzka9gm",
         "Agent",
         "contributor"
        ],
        [
         "160627",
         "Florence Nightingale Hospital (London, England)",
         "fqb5m3hw",
         "Organisation",
         "subject"
        ],
        [
         "160628",
         "Florence Nightingale Hospital (London, England)",
         "fqb5m3hw",
         "Organisation",
         "contributor"
        ],
        [
         "184757",
         "Nightingale, Florence, 1820-1910.",
         "gk2eca5r",
         "Person",
         "contributor"
        ],
        [
         "184753",
         "Nightingale, Florence, 1820-1910",
         "gk2eca5r",
         "Person",
         "subject"
        ],
        [
         "184754",
         "Nightingale, Florence, 1820-1910",
         "gk2eca5r",
         "Person",
         "contributor"
        ],
        [
         "184755",
         "Nightingale, Florence, 1820-1910 Homes and haunts.",
         "gk2eca5r",
         "Person",
         "subject"
        ],
        [
         "184756",
         "Nightingale, Florence, 1820-1910.",
         "gk2eca5r",
         "Person",
         "subject"
        ],
        [
         "189427",
         "Florence Nightingale Commemoration Committee.",
         "gr7m4ere",
         "Organisation",
         "contributor"
        ],
        [
         "194211",
         "Nightingale, Florence, 1820-1910. Suggestions for thought to the searchers after truth among the artizans of England.",
         "gwg3tjc4",
         "Person",
         "subject"
        ],
        [
         "267509",
         "Florence Nightingale Museum",
         "khn6t5ch",
         "Organisation",
         "subject"
        ],
        [
         "272386",
         "Nightingale, Florence, 1820-1910.",
         "kq6juw8z",
         "Agent",
         "contributor"
        ],
        [
         "272387",
         "Nightingale, Florence, 1820-1910.",
         "kq6juw8z",
         "Person",
         "subject"
        ],
        [
         "337033",
         "Shore, Florence Nightingale.",
         "nzuqe5sg",
         "Person",
         "subject"
        ],
        [
         "381010",
         "Florence Nightingale Hospital for Gentlewomen (London, England)",
         "qk29p79b",
         "Organisation",
         "subject"
        ],
        [
         "381011",
         "Florence Nightingale Hospital for Gentlewomen (London, England)",
         "qk29p79b",
         "Organisation",
         "contributor"
        ],
        [
         "397789",
         "Florence Nightingale International Foundation",
         "r6hxmnre",
         "Organisation",
         "subject"
        ],
        [
         "397790",
         "Florence Nightingale International Foundation.",
         "r6hxmnre",
         "Organisation",
         "contributor"
        ],
        [
         "397788",
         "Florence Nightingale International Foundation",
         "r6hxmnre",
         "Organisation",
         "contributor"
        ],
        [
         "418369",
         "Florence Nightingale Museum",
         "rw8nd4qx",
         "Organisation",
         "subject"
        ],
        [
         "418370",
         "Florence Nightingale Museum",
         "rw8nd4qx",
         "Organisation",
         "contributor"
        ],
        [
         "418371",
         "Florence Nightingale Museum.",
         "rw8nd4qx",
         "Organisation",
         "contributor"
        ],
        [
         "426486",
         "Florence Nightingale Foundation (1934-)",
         "s73t5xmw",
         "Agent",
         "contributor"
        ],
        [
         "456760",
         "Florence Nightingale School of Nursing and Midwifery",
         "t9tej7ac",
         "Organisation",
         "subject"
        ],
        [
         "499138",
         "Florence Nightingale International Foundation",
         "usdm7rfh",
         "Agent",
         "contributor"
        ],
        [
         "567908",
         "FLORENCE NIGHTINGALE",
         "x8pvu9wy",
         "Concept",
         "subject"
        ],
        [
         "592138",
         "Nightingale, Florence, (former owner), 1820-1910.",
         "y499h99z",
         "Person",
         "contributor"
        ]
       ],
       "shape": {
        "columns": 4,
        "rows": 35
       }
      },
      "text/html": [
       "<div>\n",
       "<style scoped>\n",
       "    .dataframe tbody tr th:only-of-type {\n",
       "        vertical-align: middle;\n",
       "    }\n",
       "\n",
       "    .dataframe tbody tr th {\n",
       "        vertical-align: top;\n",
       "    }\n",
       "\n",
       "    .dataframe thead th {\n",
       "        text-align: right;\n",
       "    }\n",
       "</style>\n",
       "<table border=\"1\" class=\"dataframe\">\n",
       "  <thead>\n",
       "    <tr style=\"text-align: right;\">\n",
       "      <th></th>\n",
       "      <th>label</th>\n",
       "      <th>id</th>\n",
       "      <th>type</th>\n",
       "      <th>source</th>\n",
       "    </tr>\n",
       "    <tr>\n",
       "      <th>idx</th>\n",
       "      <th></th>\n",
       "      <th></th>\n",
       "      <th></th>\n",
       "      <th></th>\n",
       "    </tr>\n",
       "  </thead>\n",
       "  <tbody>\n",
       "    <tr>\n",
       "      <th>87516</th>\n",
       "      <td>Nightingale, Florence, 1820-1910.</td>\n",
       "      <td>d4rsp2n3</td>\n",
       "      <td>Person</td>\n",
       "      <td>contributor</td>\n",
       "    </tr>\n",
       "    <tr>\n",
       "      <th>87517</th>\n",
       "      <td>Nightingale, Florence, 1820-1910. Notes on nur...</td>\n",
       "      <td>d4rsp2n3</td>\n",
       "      <td>Agent</td>\n",
       "      <td>contributor</td>\n",
       "    </tr>\n",
       "    <tr>\n",
       "      <th>87518</th>\n",
       "      <td>Nightingale, Florence, 1820-1910. Notes on nur...</td>\n",
       "      <td>d4rsp2n3</td>\n",
       "      <td>Person</td>\n",
       "      <td>subject</td>\n",
       "    </tr>\n",
       "    <tr>\n",
       "      <th>87519</th>\n",
       "      <td>Nightingale, Florence, 1820-1910. Notes on nur...</td>\n",
       "      <td>d4rsp2n3</td>\n",
       "      <td>Agent</td>\n",
       "      <td>contributor</td>\n",
       "    </tr>\n",
       "    <tr>\n",
       "      <th>87900</th>\n",
       "      <td>Florence Nightingale Museum (London, England)</td>\n",
       "      <td>d56fkgss</td>\n",
       "      <td>Organisation</td>\n",
       "      <td>subject</td>\n",
       "    </tr>\n",
       "    <tr>\n",
       "      <th>91691</th>\n",
       "      <td>École Florence Nightingale de Bordeaux</td>\n",
       "      <td>d9d45nkh</td>\n",
       "      <td>Organisation</td>\n",
       "      <td>contributor</td>\n",
       "    </tr>\n",
       "    <tr>\n",
       "      <th>98931</th>\n",
       "      <td>National Florence Nightingale Memorial Committ...</td>\n",
       "      <td>dhayqztj</td>\n",
       "      <td>Organisation</td>\n",
       "      <td>contributor</td>\n",
       "    </tr>\n",
       "    <tr>\n",
       "      <th>136958</th>\n",
       "      <td>Nightingale, Florence (1820-1910)</td>\n",
       "      <td>euzka9gm</td>\n",
       "      <td>Organisation</td>\n",
       "      <td>subject</td>\n",
       "    </tr>\n",
       "    <tr>\n",
       "      <th>136957</th>\n",
       "      <td>Nightingale, Florence (1820-1910)</td>\n",
       "      <td>euzka9gm</td>\n",
       "      <td>Agent</td>\n",
       "      <td>contributor</td>\n",
       "    </tr>\n",
       "    <tr>\n",
       "      <th>160627</th>\n",
       "      <td>Florence Nightingale Hospital (London, England)</td>\n",
       "      <td>fqb5m3hw</td>\n",
       "      <td>Organisation</td>\n",
       "      <td>subject</td>\n",
       "    </tr>\n",
       "    <tr>\n",
       "      <th>160628</th>\n",
       "      <td>Florence Nightingale Hospital (London, England)</td>\n",
       "      <td>fqb5m3hw</td>\n",
       "      <td>Organisation</td>\n",
       "      <td>contributor</td>\n",
       "    </tr>\n",
       "    <tr>\n",
       "      <th>184757</th>\n",
       "      <td>Nightingale, Florence, 1820-1910.</td>\n",
       "      <td>gk2eca5r</td>\n",
       "      <td>Person</td>\n",
       "      <td>contributor</td>\n",
       "    </tr>\n",
       "    <tr>\n",
       "      <th>184753</th>\n",
       "      <td>Nightingale, Florence, 1820-1910</td>\n",
       "      <td>gk2eca5r</td>\n",
       "      <td>Person</td>\n",
       "      <td>subject</td>\n",
       "    </tr>\n",
       "    <tr>\n",
       "      <th>184754</th>\n",
       "      <td>Nightingale, Florence, 1820-1910</td>\n",
       "      <td>gk2eca5r</td>\n",
       "      <td>Person</td>\n",
       "      <td>contributor</td>\n",
       "    </tr>\n",
       "    <tr>\n",
       "      <th>184755</th>\n",
       "      <td>Nightingale, Florence, 1820-1910 Homes and hau...</td>\n",
       "      <td>gk2eca5r</td>\n",
       "      <td>Person</td>\n",
       "      <td>subject</td>\n",
       "    </tr>\n",
       "    <tr>\n",
       "      <th>184756</th>\n",
       "      <td>Nightingale, Florence, 1820-1910.</td>\n",
       "      <td>gk2eca5r</td>\n",
       "      <td>Person</td>\n",
       "      <td>subject</td>\n",
       "    </tr>\n",
       "    <tr>\n",
       "      <th>189427</th>\n",
       "      <td>Florence Nightingale Commemoration Committee.</td>\n",
       "      <td>gr7m4ere</td>\n",
       "      <td>Organisation</td>\n",
       "      <td>contributor</td>\n",
       "    </tr>\n",
       "    <tr>\n",
       "      <th>194211</th>\n",
       "      <td>Nightingale, Florence, 1820-1910. Suggestions ...</td>\n",
       "      <td>gwg3tjc4</td>\n",
       "      <td>Person</td>\n",
       "      <td>subject</td>\n",
       "    </tr>\n",
       "    <tr>\n",
       "      <th>267509</th>\n",
       "      <td>Florence Nightingale Museum</td>\n",
       "      <td>khn6t5ch</td>\n",
       "      <td>Organisation</td>\n",
       "      <td>subject</td>\n",
       "    </tr>\n",
       "    <tr>\n",
       "      <th>272386</th>\n",
       "      <td>Nightingale, Florence, 1820-1910.</td>\n",
       "      <td>kq6juw8z</td>\n",
       "      <td>Agent</td>\n",
       "      <td>contributor</td>\n",
       "    </tr>\n",
       "    <tr>\n",
       "      <th>272387</th>\n",
       "      <td>Nightingale, Florence, 1820-1910.</td>\n",
       "      <td>kq6juw8z</td>\n",
       "      <td>Person</td>\n",
       "      <td>subject</td>\n",
       "    </tr>\n",
       "    <tr>\n",
       "      <th>337033</th>\n",
       "      <td>Shore, Florence Nightingale.</td>\n",
       "      <td>nzuqe5sg</td>\n",
       "      <td>Person</td>\n",
       "      <td>subject</td>\n",
       "    </tr>\n",
       "    <tr>\n",
       "      <th>381010</th>\n",
       "      <td>Florence Nightingale Hospital for Gentlewomen ...</td>\n",
       "      <td>qk29p79b</td>\n",
       "      <td>Organisation</td>\n",
       "      <td>subject</td>\n",
       "    </tr>\n",
       "    <tr>\n",
       "      <th>381011</th>\n",
       "      <td>Florence Nightingale Hospital for Gentlewomen ...</td>\n",
       "      <td>qk29p79b</td>\n",
       "      <td>Organisation</td>\n",
       "      <td>contributor</td>\n",
       "    </tr>\n",
       "    <tr>\n",
       "      <th>397789</th>\n",
       "      <td>Florence Nightingale International Foundation</td>\n",
       "      <td>r6hxmnre</td>\n",
       "      <td>Organisation</td>\n",
       "      <td>subject</td>\n",
       "    </tr>\n",
       "    <tr>\n",
       "      <th>397790</th>\n",
       "      <td>Florence Nightingale International Foundation.</td>\n",
       "      <td>r6hxmnre</td>\n",
       "      <td>Organisation</td>\n",
       "      <td>contributor</td>\n",
       "    </tr>\n",
       "    <tr>\n",
       "      <th>397788</th>\n",
       "      <td>Florence Nightingale International Foundation</td>\n",
       "      <td>r6hxmnre</td>\n",
       "      <td>Organisation</td>\n",
       "      <td>contributor</td>\n",
       "    </tr>\n",
       "    <tr>\n",
       "      <th>418369</th>\n",
       "      <td>Florence Nightingale Museum</td>\n",
       "      <td>rw8nd4qx</td>\n",
       "      <td>Organisation</td>\n",
       "      <td>subject</td>\n",
       "    </tr>\n",
       "    <tr>\n",
       "      <th>418370</th>\n",
       "      <td>Florence Nightingale Museum</td>\n",
       "      <td>rw8nd4qx</td>\n",
       "      <td>Organisation</td>\n",
       "      <td>contributor</td>\n",
       "    </tr>\n",
       "    <tr>\n",
       "      <th>418371</th>\n",
       "      <td>Florence Nightingale Museum.</td>\n",
       "      <td>rw8nd4qx</td>\n",
       "      <td>Organisation</td>\n",
       "      <td>contributor</td>\n",
       "    </tr>\n",
       "    <tr>\n",
       "      <th>426486</th>\n",
       "      <td>Florence Nightingale Foundation (1934-)</td>\n",
       "      <td>s73t5xmw</td>\n",
       "      <td>Agent</td>\n",
       "      <td>contributor</td>\n",
       "    </tr>\n",
       "    <tr>\n",
       "      <th>456760</th>\n",
       "      <td>Florence Nightingale School of Nursing and Mid...</td>\n",
       "      <td>t9tej7ac</td>\n",
       "      <td>Organisation</td>\n",
       "      <td>subject</td>\n",
       "    </tr>\n",
       "    <tr>\n",
       "      <th>499138</th>\n",
       "      <td>Florence Nightingale International Foundation</td>\n",
       "      <td>usdm7rfh</td>\n",
       "      <td>Agent</td>\n",
       "      <td>contributor</td>\n",
       "    </tr>\n",
       "    <tr>\n",
       "      <th>567908</th>\n",
       "      <td>FLORENCE NIGHTINGALE</td>\n",
       "      <td>x8pvu9wy</td>\n",
       "      <td>Concept</td>\n",
       "      <td>subject</td>\n",
       "    </tr>\n",
       "    <tr>\n",
       "      <th>592138</th>\n",
       "      <td>Nightingale, Florence, (former owner), 1820-1910.</td>\n",
       "      <td>y499h99z</td>\n",
       "      <td>Person</td>\n",
       "      <td>contributor</td>\n",
       "    </tr>\n",
       "  </tbody>\n",
       "</table>\n",
       "</div>"
      ],
      "text/plain": [
       "                                                    label        id  \\\n",
       "idx                                                                   \n",
       "87516                   Nightingale, Florence, 1820-1910.  d4rsp2n3   \n",
       "87517   Nightingale, Florence, 1820-1910. Notes on nur...  d4rsp2n3   \n",
       "87518   Nightingale, Florence, 1820-1910. Notes on nur...  d4rsp2n3   \n",
       "87519   Nightingale, Florence, 1820-1910. Notes on nur...  d4rsp2n3   \n",
       "87900       Florence Nightingale Museum (London, England)  d56fkgss   \n",
       "91691              École Florence Nightingale de Bordeaux  d9d45nkh   \n",
       "98931   National Florence Nightingale Memorial Committ...  dhayqztj   \n",
       "136958                  Nightingale, Florence (1820-1910)  euzka9gm   \n",
       "136957                  Nightingale, Florence (1820-1910)  euzka9gm   \n",
       "160627    Florence Nightingale Hospital (London, England)  fqb5m3hw   \n",
       "160628    Florence Nightingale Hospital (London, England)  fqb5m3hw   \n",
       "184757                  Nightingale, Florence, 1820-1910.  gk2eca5r   \n",
       "184753                   Nightingale, Florence, 1820-1910  gk2eca5r   \n",
       "184754                   Nightingale, Florence, 1820-1910  gk2eca5r   \n",
       "184755  Nightingale, Florence, 1820-1910 Homes and hau...  gk2eca5r   \n",
       "184756                  Nightingale, Florence, 1820-1910.  gk2eca5r   \n",
       "189427      Florence Nightingale Commemoration Committee.  gr7m4ere   \n",
       "194211  Nightingale, Florence, 1820-1910. Suggestions ...  gwg3tjc4   \n",
       "267509                        Florence Nightingale Museum  khn6t5ch   \n",
       "272386                  Nightingale, Florence, 1820-1910.  kq6juw8z   \n",
       "272387                  Nightingale, Florence, 1820-1910.  kq6juw8z   \n",
       "337033                       Shore, Florence Nightingale.  nzuqe5sg   \n",
       "381010  Florence Nightingale Hospital for Gentlewomen ...  qk29p79b   \n",
       "381011  Florence Nightingale Hospital for Gentlewomen ...  qk29p79b   \n",
       "397789      Florence Nightingale International Foundation  r6hxmnre   \n",
       "397790     Florence Nightingale International Foundation.  r6hxmnre   \n",
       "397788      Florence Nightingale International Foundation  r6hxmnre   \n",
       "418369                        Florence Nightingale Museum  rw8nd4qx   \n",
       "418370                        Florence Nightingale Museum  rw8nd4qx   \n",
       "418371                       Florence Nightingale Museum.  rw8nd4qx   \n",
       "426486            Florence Nightingale Foundation (1934-)  s73t5xmw   \n",
       "456760  Florence Nightingale School of Nursing and Mid...  t9tej7ac   \n",
       "499138      Florence Nightingale International Foundation  usdm7rfh   \n",
       "567908                               FLORENCE NIGHTINGALE  x8pvu9wy   \n",
       "592138  Nightingale, Florence, (former owner), 1820-1910.  y499h99z   \n",
       "\n",
       "                type       source  \n",
       "idx                                \n",
       "87516         Person  contributor  \n",
       "87517          Agent  contributor  \n",
       "87518         Person      subject  \n",
       "87519          Agent  contributor  \n",
       "87900   Organisation      subject  \n",
       "91691   Organisation  contributor  \n",
       "98931   Organisation  contributor  \n",
       "136958  Organisation      subject  \n",
       "136957         Agent  contributor  \n",
       "160627  Organisation      subject  \n",
       "160628  Organisation  contributor  \n",
       "184757        Person  contributor  \n",
       "184753        Person      subject  \n",
       "184754        Person  contributor  \n",
       "184755        Person      subject  \n",
       "184756        Person      subject  \n",
       "189427  Organisation  contributor  \n",
       "194211        Person      subject  \n",
       "267509  Organisation      subject  \n",
       "272386         Agent  contributor  \n",
       "272387        Person      subject  \n",
       "337033        Person      subject  \n",
       "381010  Organisation      subject  \n",
       "381011  Organisation  contributor  \n",
       "397789  Organisation      subject  \n",
       "397790  Organisation  contributor  \n",
       "397788  Organisation  contributor  \n",
       "418369  Organisation      subject  \n",
       "418370  Organisation  contributor  \n",
       "418371  Organisation  contributor  \n",
       "426486         Agent  contributor  \n",
       "456760  Organisation      subject  \n",
       "499138         Agent  contributor  \n",
       "567908       Concept      subject  \n",
       "592138        Person  contributor  "
      ]
     },
     "execution_count": 34,
     "metadata": {},
     "output_type": "execute_result"
    }
   ],
   "source": [
    "florence_rows = dedup_data[dedup_data['label'].str.contains(\n",
    "    \"Florence\", case=False, na=False) & dedup_data['label'].str.contains(\n",
    "    \"Nigh\", case=False, na=False)].sort_values(by='id', ascending=True)\n",
    "florence_rows"
   ]
  },
  {
   "cell_type": "code",
   "execution_count": null,
   "id": "14657b62",
   "metadata": {},
   "outputs": [],
   "source": [
    "from wc_simd.dedupe_service import dedup_data_file\n",
    "\n",
    "# Convert all columns to string type\n",
    "dedup_data = dedup_data.astype(str)\n",
    "dedup_data.reset_index(inplace=True)\n",
    "dedup_data.rename(columns={\"index\": \"idx\"}, inplace=True)\n",
    "\n",
    "dedup_data.to_csv(\"../\" + dedup_data_file, index=True)"
   ]
  },
  {
   "cell_type": "markdown",
   "id": "a8bfa8dd",
   "metadata": {},
   "source": [
    "## Load dedup data"
   ]
  },
  {
   "cell_type": "code",
   "execution_count": 62,
   "id": "6f7521b2",
   "metadata": {},
   "outputs": [
    {
     "data": {
      "application/vnd.microsoft.datawrangler.viewer.v0+json": {
       "columns": [
        {
         "name": "idx",
         "rawType": "int64",
         "type": "integer"
        },
        {
         "name": "label",
         "rawType": "object",
         "type": "string"
        },
        {
         "name": "id",
         "rawType": "object",
         "type": "string"
        },
        {
         "name": "type",
         "rawType": "object",
         "type": "string"
        },
        {
         "name": "source",
         "rawType": "object",
         "type": "string"
        }
       ],
       "ref": "6c52ff6b-f77c-4fbc-9716-63c1086f9f2a",
       "rows": [
        [
         "0",
         "Children",
         "null00000",
         "missing",
         "subject"
        ],
        [
         "1",
         "Criminal law",
         "null00001",
         "missing",
         "subject"
        ],
        [
         "2",
         "Gender roles",
         "null00002",
         "missing",
         "subject"
        ],
        [
         "3",
         "Law",
         "null00003",
         "missing",
         "subject"
        ],
        [
         "4",
         "Police",
         "null00004",
         "missing",
         "subject"
        ],
        [
         "5",
         "Women",
         "null00005",
         "missing",
         "subject"
        ],
        [
         "6",
         "Womyn",
         "null00006",
         "missing",
         "subject"
        ],
        [
         "7",
         "Youth",
         "null00007",
         "missing",
         "subject"
        ],
        [
         "8",
         "Circle of State Librarians Conference 1979 : Kew, England)",
         "a2233f9d",
         "Meeting",
         "contributor"
        ],
        [
         "9",
         "Nelson, Geoffrey B. (Geoffrey Brian)",
         "a223f5a6",
         "Person",
         "contributor"
        ],
        [
         "10",
         "Wolff, G.",
         "a2249bxm",
         "Person",
         "contributor"
        ],
        [
         "11",
         "Jones, John E",
         "a224b9mp",
         "Person",
         "contributor"
        ],
        [
         "12",
         "Jones, John E.",
         "a224b9mp",
         "Person",
         "contributor"
        ],
        [
         "13",
         "Hulverscheidt, Marion, 1970-",
         "a224rx5x",
         "Person",
         "contributor"
        ],
        [
         "14",
         "Zimmermann, Wilhelm.",
         "a224tns9",
         "Person",
         "contributor"
        ],
        [
         "15",
         "Gaur, June.",
         "a2258t8s",
         "Person",
         "contributor"
        ],
        [
         "16",
         "South Cambridgeshire (England)",
         "a22auf32",
         "Place",
         "subject"
        ],
        [
         "17",
         "Orel, Harold, 1926-2017.",
         "a22d6ehy",
         "Person",
         "contributor"
        ],
        [
         "18",
         "Brown, Bruce, 1942-",
         "a22d7muq",
         "Person",
         "contributor"
        ],
        [
         "19",
         "Economic development - History",
         "a22ddxvt",
         "Concept",
         "subject"
        ],
        [
         "20",
         "Shugar, Andrea.",
         "a22dx2jb",
         "Person",
         "contributor"
        ],
        [
         "21",
         "Bruce (Edinburgh, Scotland)",
         "a22ghtpk",
         "Person",
         "contributor"
        ],
        [
         "22",
         "Cheeseman, Thomas, 1760-approximately 1835.",
         "a22hh3y8",
         "Person",
         "contributor"
        ],
        [
         "23",
         "Hartstein, Jack, 1924-",
         "a22hndxd",
         "Person",
         "contributor"
        ],
        [
         "24",
         "Prujean, Thomas, 1622 or 1623-1662.",
         "a22jzkjd",
         "Person",
         "subject"
        ],
        [
         "25",
         "Freeport, Andrew",
         "a22mar23",
         "Person",
         "contributor"
        ],
        [
         "26",
         "Databases as Topic - organization & administration",
         "a22mr8u2",
         "Concept",
         "subject"
        ],
        [
         "27",
         "Ideler, Julius Ludwig, 1809-1842",
         "a22ncx9p",
         "Person",
         "contributor"
        ],
        [
         "28",
         "Fournier, Alfred Jean, 1832-1914",
         "a22sv4sw",
         "Agent",
         "contributor"
        ],
        [
         "29",
         "Royal College of Surgeons in London",
         "a22vrvk4",
         "Organisation",
         "subject"
        ],
        [
         "30",
         "Royal College of Surgeons in London.",
         "a22vrvk4",
         "Organisation",
         "contributor"
        ],
        [
         "31",
         "Hernia, Inguinal, therapy",
         "a22xqhjs",
         "Concept",
         "subject"
        ],
        [
         "32",
         "Poor families",
         "a22xr2nw",
         "Concept",
         "subject"
        ],
        [
         "33",
         "Scrimshaw, Jane, 1584-1711.",
         "a22xt94e",
         "Person",
         "subject"
        ],
        [
         "34",
         "Foster, William",
         "a232zjf3",
         "Person",
         "contributor"
        ],
        [
         "35",
         "Foster, William.",
         "a232zjf3",
         "Person",
         "subject"
        ],
        [
         "36",
         "Foster, William.",
         "a232zjf3",
         "Person",
         "contributor"
        ],
        [
         "37",
         "da Silva, Christiano",
         "a2346x74",
         "Person",
         "contributor"
        ],
        [
         "38",
         "Steam-heating",
         "a235krft",
         "Concept",
         "subject"
        ],
        [
         "39",
         "Dental Restoration, Temporary",
         "a239x46b",
         "Concept",
         "subject"
        ],
        [
         "40",
         "London Black MESMAC",
         "a23ajhj3",
         "Organisation",
         "contributor"
        ],
        [
         "41",
         "London Black Mesmac",
         "a23ajhj3",
         "Organisation",
         "contributor"
        ],
        [
         "42",
         "Fellows, Julian R. (Julian Robert), 1900-1985.",
         "a23c6tr6",
         "Person",
         "contributor"
        ],
        [
         "43",
         "Subba Reddy, D. V., 1899-1987",
         "a23cjx8a",
         "Person",
         "contributor"
        ],
        [
         "44",
         "Subba Reddy, D. V., 1899-1987.",
         "a23cjx8a",
         "Person",
         "contributor"
        ],
        [
         "45",
         "Subba Reddy, D. V., 1899-1987.",
         "a23cjx8a",
         "Person",
         "subject"
        ],
        [
         "46",
         "Pneumonia",
         "a23f6ptg",
         "Concept",
         "subject"
        ],
        [
         "47",
         "Pneumonia - Child",
         "a23f6ptg",
         "Concept",
         "subject"
        ],
        [
         "48",
         "Pneumonia - Child, Preschool",
         "a23f6ptg",
         "Concept",
         "subject"
        ],
        [
         "49",
         "Pneumonia - Infant",
         "a23f6ptg",
         "Concept",
         "subject"
        ]
       ],
       "shape": {
        "columns": 4,
        "rows": 646786
       }
      },
      "text/html": [
       "<div>\n",
       "<style scoped>\n",
       "    .dataframe tbody tr th:only-of-type {\n",
       "        vertical-align: middle;\n",
       "    }\n",
       "\n",
       "    .dataframe tbody tr th {\n",
       "        vertical-align: top;\n",
       "    }\n",
       "\n",
       "    .dataframe thead th {\n",
       "        text-align: right;\n",
       "    }\n",
       "</style>\n",
       "<table border=\"1\" class=\"dataframe\">\n",
       "  <thead>\n",
       "    <tr style=\"text-align: right;\">\n",
       "      <th></th>\n",
       "      <th>label</th>\n",
       "      <th>id</th>\n",
       "      <th>type</th>\n",
       "      <th>source</th>\n",
       "    </tr>\n",
       "    <tr>\n",
       "      <th>idx</th>\n",
       "      <th></th>\n",
       "      <th></th>\n",
       "      <th></th>\n",
       "      <th></th>\n",
       "    </tr>\n",
       "  </thead>\n",
       "  <tbody>\n",
       "    <tr>\n",
       "      <th>0</th>\n",
       "      <td>Children</td>\n",
       "      <td>null00000</td>\n",
       "      <td>missing</td>\n",
       "      <td>subject</td>\n",
       "    </tr>\n",
       "    <tr>\n",
       "      <th>1</th>\n",
       "      <td>Criminal law</td>\n",
       "      <td>null00001</td>\n",
       "      <td>missing</td>\n",
       "      <td>subject</td>\n",
       "    </tr>\n",
       "    <tr>\n",
       "      <th>2</th>\n",
       "      <td>Gender roles</td>\n",
       "      <td>null00002</td>\n",
       "      <td>missing</td>\n",
       "      <td>subject</td>\n",
       "    </tr>\n",
       "    <tr>\n",
       "      <th>3</th>\n",
       "      <td>Law</td>\n",
       "      <td>null00003</td>\n",
       "      <td>missing</td>\n",
       "      <td>subject</td>\n",
       "    </tr>\n",
       "    <tr>\n",
       "      <th>4</th>\n",
       "      <td>Police</td>\n",
       "      <td>null00004</td>\n",
       "      <td>missing</td>\n",
       "      <td>subject</td>\n",
       "    </tr>\n",
       "    <tr>\n",
       "      <th>...</th>\n",
       "      <td>...</td>\n",
       "      <td>...</td>\n",
       "      <td>...</td>\n",
       "      <td>...</td>\n",
       "    </tr>\n",
       "    <tr>\n",
       "      <th>646781</th>\n",
       "      <td>Pregnant teenagers - Great Britain - Diaries</td>\n",
       "      <td>zzzvtr3f</td>\n",
       "      <td>Concept</td>\n",
       "      <td>subject</td>\n",
       "    </tr>\n",
       "    <tr>\n",
       "      <th>646782</th>\n",
       "      <td>Maddox, Lucy</td>\n",
       "      <td>zzzw65be</td>\n",
       "      <td>Person</td>\n",
       "      <td>contributor</td>\n",
       "    </tr>\n",
       "    <tr>\n",
       "      <th>646783</th>\n",
       "      <td>Rockliffe, Richard William.</td>\n",
       "      <td>zzzwgbkn</td>\n",
       "      <td>Person</td>\n",
       "      <td>contributor</td>\n",
       "    </tr>\n",
       "    <tr>\n",
       "      <th>646784</th>\n",
       "      <td>Aneurysm - drug therapy</td>\n",
       "      <td>zzzygqw9</td>\n",
       "      <td>Concept</td>\n",
       "      <td>subject</td>\n",
       "    </tr>\n",
       "    <tr>\n",
       "      <th>646785</th>\n",
       "      <td>Gottfried, Robert Steven, 1949-</td>\n",
       "      <td>zzzyybvk</td>\n",
       "      <td>Person</td>\n",
       "      <td>contributor</td>\n",
       "    </tr>\n",
       "  </tbody>\n",
       "</table>\n",
       "<p>646786 rows × 4 columns</p>\n",
       "</div>"
      ],
      "text/plain": [
       "                                               label         id     type  \\\n",
       "idx                                                                        \n",
       "0                                           Children  null00000  missing   \n",
       "1                                       Criminal law  null00001  missing   \n",
       "2                                       Gender roles  null00002  missing   \n",
       "3                                                Law  null00003  missing   \n",
       "4                                             Police  null00004  missing   \n",
       "...                                              ...        ...      ...   \n",
       "646781  Pregnant teenagers - Great Britain - Diaries   zzzvtr3f  Concept   \n",
       "646782                                  Maddox, Lucy   zzzw65be   Person   \n",
       "646783                   Rockliffe, Richard William.   zzzwgbkn   Person   \n",
       "646784                       Aneurysm - drug therapy   zzzygqw9  Concept   \n",
       "646785               Gottfried, Robert Steven, 1949-   zzzyybvk   Person   \n",
       "\n",
       "             source  \n",
       "idx                  \n",
       "0           subject  \n",
       "1           subject  \n",
       "2           subject  \n",
       "3           subject  \n",
       "4           subject  \n",
       "...             ...  \n",
       "646781      subject  \n",
       "646782  contributor  \n",
       "646783  contributor  \n",
       "646784      subject  \n",
       "646785  contributor  \n",
       "\n",
       "[646786 rows x 4 columns]"
      ]
     },
     "execution_count": 62,
     "metadata": {},
     "output_type": "execute_result"
    }
   ],
   "source": [
    "import pandas as pd\n",
    "from wc_simd.dedupe_service import dedup_data_file\n",
    "dedup_data = pd.read_csv(\"../\" + dedup_data_file, index_col=0)\n",
    "\n",
    "# force all columns to string type\n",
    "dedup_data = dedup_data.astype(str)\n",
    "\n",
    "dedup_data"
   ]
  },
  {
   "cell_type": "markdown",
   "id": "f1c9d8f6",
   "metadata": {},
   "source": [
    "# Train Model"
   ]
  },
  {
   "cell_type": "code",
   "execution_count": 63,
   "id": "e5c9dcaf",
   "metadata": {},
   "outputs": [],
   "source": [
    "train_data = {idx: {\"label\": str(row.label), \"type\": str(row.type)}\n",
    "              for idx, row in dedup_data.iterrows()}"
   ]
  },
  {
   "cell_type": "code",
   "execution_count": 64,
   "id": "20be79d4",
   "metadata": {},
   "outputs": [
    {
     "name": "stderr",
     "output_type": "stream",
     "text": [
      "INFO:dedupe.api:reading training from file\n",
      "INFO:dedupe.canopy_index:Removing stop word  1\n",
      "INFO:dedupe.canopy_index:Removing stop word  B\n",
      "INFO:dedupe.canopy_index:Removing stop word  W\n",
      "INFO:dedupe.canopy_index:Removing stop word 19\n",
      "INFO:dedupe.canopy_index:Removing stop word al\n",
      "INFO:dedupe.canopy_index:Removing stop word ar\n",
      "INFO:dedupe.canopy_index:Removing stop word d \n",
      "INFO:dedupe.canopy_index:Removing stop word es\n",
      "INFO:dedupe.canopy_index:Removing stop word ll\n",
      "INFO:dedupe.canopy_index:Removing stop word lo\n",
      "INFO:dedupe.canopy_index:Removing stop word ns\n",
      "INFO:dedupe.canopy_index:Removing stop word on\n",
      "INFO:dedupe.canopy_index:Removing stop word or\n",
      "INFO:dedupe.canopy_index:Removing stop word r \n",
      "INFO:dedupe.canopy_index:Removing stop word s \n",
      "INFO:dedupe.canopy_index:Removing stop word st\n",
      "INFO:dedupe.canopy_index:Removing stop word t \n",
      "INFO:dedupe.canopy_index:Removing stop word  S\n",
      "INFO:dedupe.canopy_index:Removing stop word  a\n",
      "INFO:dedupe.canopy_index:Removing stop word at\n",
      "INFO:dedupe.canopy_index:Removing stop word ch\n",
      "INFO:dedupe.canopy_index:Removing stop word ct\n",
      "INFO:dedupe.canopy_index:Removing stop word e \n",
      "INFO:dedupe.canopy_index:Removing stop word ed\n",
      "INFO:dedupe.canopy_index:Removing stop word hi\n",
      "INFO:dedupe.canopy_index:Removing stop word ic\n",
      "INFO:dedupe.canopy_index:Removing stop word il\n",
      "INFO:dedupe.canopy_index:Removing stop word io\n",
      "INFO:dedupe.canopy_index:Removing stop word it\n",
      "INFO:dedupe.canopy_index:Removing stop word l \n",
      "INFO:dedupe.canopy_index:Removing stop word ni\n",
      "INFO:dedupe.canopy_index:Removing stop word ra\n",
      "INFO:dedupe.canopy_index:Removing stop word se\n",
      "INFO:dedupe.canopy_index:Removing stop word ta\n",
      "INFO:dedupe.canopy_index:Removing stop word te\n",
      "INFO:dedupe.canopy_index:Removing stop word ti\n",
      "INFO:dedupe.canopy_index:Removing stop word us\n",
      "INFO:dedupe.canopy_index:Removing stop word  G\n",
      "INFO:dedupe.canopy_index:Removing stop word 17\n",
      "INFO:dedupe.canopy_index:Removing stop word 18\n",
      "INFO:dedupe.canopy_index:Removing stop word an\n",
      "INFO:dedupe.canopy_index:Removing stop word er\n",
      "INFO:dedupe.canopy_index:Removing stop word nd\n",
      "INFO:dedupe.canopy_index:Removing stop word  D\n",
      "INFO:dedupe.canopy_index:Removing stop word as\n",
      "INFO:dedupe.canopy_index:Removing stop word en\n",
      "INFO:dedupe.canopy_index:Removing stop word is\n",
      "INFO:dedupe.canopy_index:Removing stop word n \n",
      "INFO:dedupe.canopy_index:Removing stop word ri\n",
      "INFO:dedupe.canopy_index:Removing stop word ve\n",
      "INFO:dedupe.canopy_index:Removing stop word  J\n",
      "INFO:dedupe.canopy_index:Removing stop word Jo\n",
      "INFO:dedupe.canopy_index:Removing stop word  A\n",
      "INFO:dedupe.canopy_index:Removing stop word  L\n",
      "INFO:dedupe.canopy_index:Removing stop word  o\n",
      "INFO:dedupe.canopy_index:Removing stop word ca\n",
      "INFO:dedupe.canopy_index:Removing stop word di\n",
      "INFO:dedupe.canopy_index:Removing stop word ho\n",
      "INFO:dedupe.canopy_index:Removing stop word ie\n",
      "INFO:dedupe.canopy_index:Removing stop word nt\n",
      "INFO:dedupe.canopy_index:Removing stop word ol\n",
      "INFO:dedupe.canopy_index:Removing stop word rs\n",
      "INFO:dedupe.canopy_index:Removing stop word si\n",
      "INFO:dedupe.canopy_index:Removing stop word y \n",
      "INFO:dedupe.canopy_index:Removing stop word  F\n",
      "INFO:dedupe.canopy_index:Removing stop word rt\n",
      "INFO:dedupe.canopy_index:Removing stop word ac\n",
      "INFO:dedupe.canopy_index:Removing stop word li\n",
      "INFO:dedupe.canopy_index:Removing stop word et\n",
      "INFO:dedupe.canopy_index:Removing stop word ge\n",
      "INFO:dedupe.canopy_index:Removing stop word he\n",
      "INFO:dedupe.canopy_index:Removing stop word  C\n",
      "INFO:dedupe.canopy_index:Removing stop word  H\n",
      "INFO:dedupe.canopy_index:Removing stop word re\n",
      "INFO:dedupe.canopy_index:Removing stop word ry\n",
      "INFO:dedupe.canopy_index:Removing stop word to\n",
      "INFO:dedupe.canopy_index:Removing stop word  R\n",
      "INFO:dedupe.canopy_index:Removing stop word ur\n",
      "INFO:dedupe.canopy_index:Removing stop word Ma\n",
      "INFO:dedupe.canopy_index:Removing stop word th\n",
      "INFO:dedupe.canopy_index:Removing stop word el\n",
      "INFO:dedupe.canopy_index:Removing stop word ha\n",
      "INFO:dedupe.canopy_index:Removing stop word la\n",
      "INFO:dedupe.canopy_index:Removing stop word ne\n",
      "INFO:dedupe.canopy_index:Removing stop word nn\n",
      "INFO:dedupe.canopy_index:Removing stop word de\n",
      "INFO:dedupe.canopy_index:Removing stop word in\n",
      "INFO:dedupe.canopy_index:Removing stop word rd\n",
      "INFO:dedupe.canopy_index:Removing stop word am\n",
      "INFO:dedupe.canopy_index:Removing stop word h \n",
      "INFO:dedupe.canopy_index:Removing stop word ia\n",
      "INFO:dedupe.canopy_index:Removing stop word  E\n",
      "INFO:dedupe.canopy_index:Removing stop word  P\n",
      "INFO:dedupe.canopy_index:Removing stop word ea\n",
      "INFO:dedupe.canopy_index:Removing stop word le\n",
      "INFO:dedupe.canopy_index:Removing stop word me\n",
      "INFO:dedupe.canopy_index:Removing stop word  M\n",
      "INFO:dedupe.canopy_index:Removing stop word ci\n",
      "INFO:dedupe.canopy_index:Removing stop word so\n",
      "INFO:dedupe.canopy_index:Removing stop word ss\n",
      "INFO:dedupe.canopy_index:Removing stop word ce\n",
      "INFO:dedupe.canopy_index:Removing stop word ou\n",
      "INFO:dedupe.canopy_index:Removing stop word ma\n",
      "INFO:dedupe.canopy_index:Removing stop word m \n",
      "INFO:dedupe.canopy_index:Removing stop word a \n",
      "INFO:dedupe.canopy_index:Removing stop word ng\n",
      "INFO:dedupe.canopy_index:Removing stop word Co\n",
      "INFO:dedupe.canopy_index:Removing stop word na\n",
      "INFO:dedupe.canopy_index:Removing stop word nc\n",
      "INFO:dedupe.canopy_index:Removing stop word tr\n",
      "INFO:dedupe.canopy_index:Removing stop word ro\n",
      "INFO:dedupe.canopy_index:Removing stop word om\n",
      "INFO:dedupe.canopy_index:Removing stop word mi\n",
      "INFO:dedupe.canopy_index:Removing stop word os\n",
      "INFO:dedupe.canopy_index:Removing stop word o \n",
      "INFO:dedupe.training:Final predicate set:\n",
      "INFO:dedupe.training:TfidfNGramCanopyPredicate: (0.8, label)\n",
      "INFO:dedupe.training:Final predicate set:\n",
      "INFO:dedupe.training:SimplePredicate: (metaphoneToken, label)\n",
      "INFO:dedupe.training:TfidfNGramCanopyPredicate: (0.6, label)\n",
      "INFO:dedupe.training:Final predicate set:\n",
      "INFO:dedupe.training:SimplePredicate: (metaphoneToken, label)\n",
      "INFO:dedupe.training:TfidfNGramCanopyPredicate: (0.6, label)\n"
     ]
    }
   ],
   "source": [
    "import dedupe\n",
    "from wc_simd.dedupe_service import training_file, settings_file, fields\n",
    "\n",
    "dedupe = dedupe.Dedupe(fields, num_cores=8)\n",
    "with open(\"../\" + training_file) as tf:\n",
    "    dedupe.prepare_training(train_data, training_file=tf)\n",
    "    dedupe.train(recall=1.0)\n",
    "    with open(\"../\" + settings_file, \"wb\") as sf:\n",
    "        dedupe.write_settings(sf)\n",
    "    dedupe.cleanup_training()"
   ]
  },
  {
   "cell_type": "markdown",
   "id": "c6e143db",
   "metadata": {},
   "source": [
    "# Load Model"
   ]
  },
  {
   "cell_type": "code",
   "execution_count": 73,
   "id": "a55a301c",
   "metadata": {},
   "outputs": [
    {
     "name": "stderr",
     "output_type": "stream",
     "text": [
      "INFO:dedupe.api:Predicate set:\n",
      "INFO:dedupe.api:SimplePredicate: (metaphoneToken, label)\n",
      "INFO:dedupe.api:TfidfNGramCanopyPredicate: (0.6, label)\n"
     ]
    }
   ],
   "source": [
    "from dedupe import StaticDedupe\n",
    "from wc_simd.dedupe_service import settings_file\n",
    "\n",
    "with open(\"../\" + settings_file, 'rb') as f:\n",
    "    dedupe = StaticDedupe(f, num_cores=48)"
   ]
  },
  {
   "cell_type": "markdown",
   "id": "1105cc51",
   "metadata": {},
   "source": [
    "# Create blocking map"
   ]
  },
  {
   "cell_type": "markdown",
   "id": "4d1ac01e",
   "metadata": {},
   "source": [
    "### Non-Spark blocking"
   ]
  },
  {
   "cell_type": "code",
   "execution_count": 6,
   "id": "f437505a",
   "metadata": {},
   "outputs": [
    {
     "name": "stdout",
     "output_type": "stream",
     "text": [
      "Indexing field: label\n"
     ]
    },
    {
     "name": "stderr",
     "output_type": "stream",
     "text": [
      "INFO:dedupe.canopy_index:Removing stop word en\n",
      "INFO:dedupe.canopy_index:Removing stop word hi\n",
      "INFO:dedupe.canopy_index:Removing stop word il\n",
      "INFO:dedupe.canopy_index:Removing stop word re\n",
      "INFO:dedupe.canopy_index:Removing stop word al\n",
      "INFO:dedupe.canopy_index:Removing stop word in\n",
      "INFO:dedupe.canopy_index:Removing stop word l \n",
      "INFO:dedupe.canopy_index:Removing stop word la\n",
      "INFO:dedupe.canopy_index:Removing stop word mi\n",
      "INFO:dedupe.canopy_index:Removing stop word na\n",
      "INFO:dedupe.canopy_index:Removing stop word ri\n",
      "INFO:dedupe.canopy_index:Removing stop word de\n",
      "INFO:dedupe.canopy_index:Removing stop word er\n",
      "INFO:dedupe.canopy_index:Removing stop word es\n",
      "INFO:dedupe.canopy_index:Removing stop word le\n",
      "INFO:dedupe.canopy_index:Removing stop word nd\n",
      "INFO:dedupe.canopy_index:Removing stop word ol\n",
      "INFO:dedupe.canopy_index:Removing stop word r \n",
      "INFO:dedupe.canopy_index:Removing stop word ro\n",
      "INFO:dedupe.canopy_index:Removing stop word ce\n",
      "INFO:dedupe.canopy_index:Removing stop word ic\n",
      "INFO:dedupe.canopy_index:Removing stop word li\n",
      "INFO:dedupe.canopy_index:Removing stop word me\n",
      "INFO:dedupe.canopy_index:Removing stop word om\n",
      "INFO:dedupe.canopy_index:Removing stop word ou\n",
      "INFO:dedupe.canopy_index:Removing stop word th\n",
      "INFO:dedupe.canopy_index:Removing stop word  1\n",
      "INFO:dedupe.canopy_index:Removing stop word  C\n",
      "INFO:dedupe.canopy_index:Removing stop word  E\n",
      "INFO:dedupe.canopy_index:Removing stop word  L\n",
      "INFO:dedupe.canopy_index:Removing stop word  S\n",
      "INFO:dedupe.canopy_index:Removing stop word  o\n",
      "INFO:dedupe.canopy_index:Removing stop word 19\n",
      "INFO:dedupe.canopy_index:Removing stop word Co\n",
      "INFO:dedupe.canopy_index:Removing stop word an\n",
      "INFO:dedupe.canopy_index:Removing stop word ar\n",
      "INFO:dedupe.canopy_index:Removing stop word at\n",
      "INFO:dedupe.canopy_index:Removing stop word e \n",
      "INFO:dedupe.canopy_index:Removing stop word ia\n",
      "INFO:dedupe.canopy_index:Removing stop word nc\n",
      "INFO:dedupe.canopy_index:Removing stop word ng\n",
      "INFO:dedupe.canopy_index:Removing stop word ns\n",
      "INFO:dedupe.canopy_index:Removing stop word on\n",
      "INFO:dedupe.canopy_index:Removing stop word ra\n",
      "INFO:dedupe.canopy_index:Removing stop word s \n",
      "INFO:dedupe.canopy_index:Removing stop word ta\n",
      "INFO:dedupe.canopy_index:Removing stop word te\n",
      "INFO:dedupe.canopy_index:Removing stop word  B\n",
      "INFO:dedupe.canopy_index:Removing stop word  G\n",
      "INFO:dedupe.canopy_index:Removing stop word el\n",
      "INFO:dedupe.canopy_index:Removing stop word n \n",
      "INFO:dedupe.canopy_index:Removing stop word so\n",
      "INFO:dedupe.canopy_index:Removing stop word y \n",
      "INFO:dedupe.canopy_index:Removing stop word  J\n",
      "INFO:dedupe.canopy_index:Removing stop word Jo\n",
      "INFO:dedupe.canopy_index:Removing stop word ne\n",
      "INFO:dedupe.canopy_index:Removing stop word  M\n",
      "INFO:dedupe.canopy_index:Removing stop word Ma\n",
      "INFO:dedupe.canopy_index:Removing stop word ch\n",
      "INFO:dedupe.canopy_index:Removing stop word he\n",
      "INFO:dedupe.canopy_index:Removing stop word io\n",
      "INFO:dedupe.canopy_index:Removing stop word rs\n",
      "INFO:dedupe.canopy_index:Removing stop word t \n",
      "INFO:dedupe.canopy_index:Removing stop word ve\n",
      "INFO:dedupe.canopy_index:Removing stop word  W\n",
      "INFO:dedupe.canopy_index:Removing stop word ma\n",
      "INFO:dedupe.canopy_index:Removing stop word nn\n",
      "INFO:dedupe.canopy_index:Removing stop word ur\n",
      "INFO:dedupe.canopy_index:Removing stop word am\n",
      "INFO:dedupe.canopy_index:Removing stop word ge\n",
      "INFO:dedupe.canopy_index:Removing stop word h \n",
      "INFO:dedupe.canopy_index:Removing stop word  H\n",
      "INFO:dedupe.canopy_index:Removing stop word 17\n",
      "INFO:dedupe.canopy_index:Removing stop word d \n",
      "INFO:dedupe.canopy_index:Removing stop word co\n",
      "INFO:dedupe.canopy_index:Removing stop word is\n",
      "INFO:dedupe.canopy_index:Removing stop word lo\n",
      "INFO:dedupe.canopy_index:Removing stop word nt\n",
      "INFO:dedupe.canopy_index:Removing stop word or\n",
      "INFO:dedupe.canopy_index:Removing stop word ry\n",
      "INFO:dedupe.canopy_index:Removing stop word st\n",
      "INFO:dedupe.canopy_index:Removing stop word to\n",
      "INFO:dedupe.canopy_index:Removing stop word  A\n",
      "INFO:dedupe.canopy_index:Removing stop word ea\n",
      "INFO:dedupe.canopy_index:Removing stop word di\n",
      "INFO:dedupe.canopy_index:Removing stop word 18\n",
      "INFO:dedupe.canopy_index:Removing stop word as\n",
      "INFO:dedupe.canopy_index:Removing stop word ho\n",
      "INFO:dedupe.canopy_index:Removing stop word se\n",
      "INFO:dedupe.canopy_index:Removing stop word ac\n",
      "INFO:dedupe.canopy_index:Removing stop word rt\n",
      "INFO:dedupe.canopy_index:Removing stop word  a\n",
      "INFO:dedupe.canopy_index:Removing stop word ni\n",
      "INFO:dedupe.canopy_index:Removing stop word ti\n",
      "INFO:dedupe.canopy_index:Removing stop word tr\n",
      "INFO:dedupe.canopy_index:Removing stop word us\n",
      "INFO:dedupe.canopy_index:Removing stop word ed\n",
      "INFO:dedupe.canopy_index:Removing stop word ie\n",
      "INFO:dedupe.canopy_index:Removing stop word ll\n",
      "INFO:dedupe.canopy_index:Removing stop word a \n",
      "INFO:dedupe.canopy_index:Removing stop word ha\n",
      "INFO:dedupe.canopy_index:Removing stop word os\n",
      "INFO:dedupe.canopy_index:Removing stop word  R\n",
      "INFO:dedupe.canopy_index:Removing stop word be\n",
      "INFO:dedupe.canopy_index:Removing stop word  D\n",
      "INFO:dedupe.canopy_index:Removing stop word  P\n",
      "INFO:dedupe.canopy_index:Removing stop word ca\n",
      "INFO:dedupe.canopy_index:Removing stop word  F\n",
      "INFO:dedupe.canopy_index:Removing stop word o \n",
      "INFO:dedupe.canopy_index:Removing stop word ct\n",
      "INFO:dedupe.canopy_index:Removing stop word ss\n",
      "INFO:dedupe.canopy_index:Removing stop word it\n",
      "INFO:dedupe.canopy_index:Removing stop word et\n",
      "INFO:dedupe.canopy_index:Removing stop word ci\n",
      "INFO:dedupe.canopy_index:Removing stop word rd\n",
      "INFO:dedupe.canopy_index:Removing stop word m \n",
      "INFO:dedupe.canopy_index:Removing stop word si\n"
     ]
    }
   ],
   "source": [
    "for field in dedupe.fingerprinter.index_fields:\n",
    "    print(f\"Indexing field: {field}\")\n",
    "    field_data = dedup_data[field].dropna().unique()\n",
    "    dedupe.fingerprinter.index(field_data, field)\n",
    "\n",
    "fingerprint_data = ((idx, dict(label=str(row.label), type=str(row.type))) for idx, row in dedup_data.iterrows())\n",
    "blocked_data = dedupe.fingerprinter(fingerprint_data)"
   ]
  },
  {
   "cell_type": "code",
   "execution_count": 7,
   "id": "3447c024",
   "metadata": {},
   "outputs": [
    {
     "name": "stderr",
     "output_type": "stream",
     "text": [
      "INFO:dedupe.blocking:10000, 49.3339992 seconds\n",
      "INFO:dedupe.blocking:20000, 96.8617832 seconds\n",
      "INFO:dedupe.blocking:30000, 145.0157332 seconds\n",
      "INFO:dedupe.blocking:40000, 192.4545932 seconds\n",
      "INFO:dedupe.blocking:50000, 240.3034472 seconds\n",
      "INFO:dedupe.blocking:60000, 287.2539652 seconds\n",
      "INFO:dedupe.blocking:70000, 334.8818392 seconds\n",
      "INFO:dedupe.blocking:80000, 381.2869332 seconds\n",
      "INFO:dedupe.blocking:90000, 427.5550872 seconds\n",
      "INFO:dedupe.blocking:100000, 473.5669682 seconds\n",
      "INFO:dedupe.blocking:110000, 519.5707562 seconds\n",
      "INFO:dedupe.blocking:120000, 564.8470762 seconds\n",
      "INFO:dedupe.blocking:130000, 609.1641872 seconds\n",
      "INFO:dedupe.blocking:140000, 654.5004882 seconds\n",
      "INFO:dedupe.blocking:150000, 698.8562642 seconds\n",
      "INFO:dedupe.blocking:160000, 743.1132612 seconds\n",
      "INFO:dedupe.blocking:170000, 786.7427062 seconds\n",
      "INFO:dedupe.blocking:180000, 831.3015892 seconds\n",
      "INFO:dedupe.blocking:190000, 875.3178072 seconds\n",
      "INFO:dedupe.blocking:200000, 918.4827672 seconds\n",
      "INFO:dedupe.blocking:210000, 961.9374142 seconds\n",
      "INFO:dedupe.blocking:220000, 1004.3639782 seconds\n",
      "INFO:dedupe.blocking:230000, 1047.6502052 seconds\n",
      "INFO:dedupe.blocking:240000, 1090.6285832 seconds\n",
      "INFO:dedupe.blocking:250000, 1134.1885452 seconds\n",
      "INFO:dedupe.blocking:260000, 1177.1788982 seconds\n",
      "INFO:dedupe.blocking:270000, 1220.2277472 seconds\n",
      "INFO:dedupe.blocking:280000, 1262.9471642 seconds\n",
      "INFO:dedupe.blocking:290000, 1305.5868202 seconds\n",
      "INFO:dedupe.blocking:300000, 1347.3423542 seconds\n",
      "INFO:dedupe.blocking:310000, 1389.9153742 seconds\n",
      "INFO:dedupe.blocking:320000, 1432.0472322 seconds\n",
      "INFO:dedupe.blocking:330000, 1474.0962792 seconds\n",
      "INFO:dedupe.blocking:340000, 1514.8832692 seconds\n",
      "INFO:dedupe.blocking:350000, 1556.3341962 seconds\n",
      "INFO:dedupe.blocking:360000, 1598.1362672 seconds\n",
      "INFO:dedupe.blocking:370000, 1640.0490612 seconds\n",
      "INFO:dedupe.blocking:380000, 1682.4169862 seconds\n",
      "INFO:dedupe.blocking:390000, 1723.5785632 seconds\n",
      "INFO:dedupe.blocking:400000, 1764.8079812 seconds\n",
      "INFO:dedupe.blocking:410000, 1805.4470762 seconds\n",
      "INFO:dedupe.blocking:420000, 1846.5323592 seconds\n",
      "INFO:dedupe.blocking:430000, 1887.0893292 seconds\n",
      "INFO:dedupe.blocking:440000, 1928.2971962 seconds\n",
      "INFO:dedupe.blocking:450000, 1968.6036272 seconds\n",
      "INFO:dedupe.blocking:460000, 2009.2080502 seconds\n",
      "INFO:dedupe.blocking:470000, 2048.8485482 seconds\n",
      "INFO:dedupe.blocking:480000, 2088.4259112 seconds\n",
      "INFO:dedupe.blocking:490000, 2128.5067422 seconds\n",
      "INFO:dedupe.blocking:500000, 2168.4331982 seconds\n",
      "INFO:dedupe.blocking:510000, 2207.8850912 seconds\n",
      "INFO:dedupe.blocking:520000, 2247.5954982 seconds\n",
      "INFO:dedupe.blocking:530000, 2286.7170542 seconds\n",
      "INFO:dedupe.blocking:540000, 2325.9426222 seconds\n",
      "INFO:dedupe.blocking:550000, 2365.0416502 seconds\n",
      "INFO:dedupe.blocking:560000, 2404.0824152 seconds\n",
      "INFO:dedupe.blocking:570000, 2442.8676442 seconds\n",
      "INFO:dedupe.blocking:580000, 2483.0060232 seconds\n",
      "INFO:dedupe.blocking:590000, 2521.4492222 seconds\n",
      "INFO:dedupe.blocking:600000, 2559.4441742 seconds\n",
      "INFO:dedupe.blocking:610000, 2598.2522572 seconds\n",
      "INFO:dedupe.blocking:620000, 2637.0599702 seconds\n",
      "INFO:dedupe.blocking:630000, 2675.3774802 seconds\n",
      "INFO:dedupe.blocking:640000, 2713.5877362 seconds\n"
     ]
    },
    {
     "data": {
      "application/vnd.microsoft.datawrangler.viewer.v0+json": {
       "columns": [
        {
         "name": "block_key",
         "rawType": "object",
         "type": "string"
        },
        {
         "name": "idx",
         "rawType": "int64",
         "type": "integer"
        }
       ],
       "ref": "d8a72a87-70f7-4ec8-b9ec-b08afd8fd118",
       "rows": [
        [
         "XLTRN:0",
         "0"
        ],
        [
         "1:1",
         "0"
        ],
        [
         "L:0",
         "1"
        ],
        [
         "KRMNL:0",
         "1"
        ],
        [
         "LF:0",
         "1"
        ],
        [
         "JNTR:0",
         "2"
        ],
        [
         "KNTR:0",
         "2"
        ],
        [
         "RLS:0",
         "2"
        ],
        [
         "L:0",
         "3"
        ],
        [
         "LF:0",
         "3"
        ],
        [
         "4:1",
         "3"
        ],
        [
         "PLS:0",
         "4"
        ],
        [
         "5:1",
         "4"
        ],
        [
         "FMN:0",
         "5"
        ],
        [
         "AMN:0",
         "5"
        ],
        [
         "FMN:0",
         "6"
        ],
        [
         "AMN:0",
         "6"
        ],
        [
         "7:1",
         "6"
        ],
        [
         "A0:0",
         "7"
        ],
        [
         "AT:0",
         "7"
        ],
        [
         "8:1",
         "7"
        ],
        [
         "STT:0",
         "8"
        ],
        [
         "ANKLNT:0",
         "8"
        ],
        [
         "AF:0",
         "8"
        ],
        [
         "LPRRNS:0",
         "8"
        ],
        [
         "K:0",
         "8"
        ],
        [
         "KF:0",
         "8"
        ],
        [
         "SRKL:0",
         "8"
        ],
        [
         "KNFRNS:0",
         "8"
        ],
        [
         "9:1",
         "8"
        ],
        [
         "KFR:0",
         "9"
        ],
        [
         "P:0",
         "9"
        ],
        [
         "PRN:0",
         "9"
        ],
        [
         "NLSN:0",
         "9"
        ],
        [
         "JFR:0",
         "9"
        ],
        [
         "10:1",
         "9"
        ],
        [
         "K:0",
         "10"
        ],
        [
         "FLF:0",
         "10"
        ],
        [
         "ALF:0",
         "10"
        ],
        [
         "11:1",
         "10"
        ],
        [
         "ANS:0",
         "11"
        ],
        [
         "AN:0",
         "11"
        ],
        [
         "A:0",
         "11"
        ],
        [
         "JNS:0",
         "11"
        ],
        [
         "JN:0",
         "11"
        ],
        [
         "12:1",
         "11"
        ],
        [
         "ANS:0",
         "12"
        ],
        [
         "AN:0",
         "12"
        ],
        [
         "A:0",
         "12"
        ],
        [
         "JNS:0",
         "12"
        ]
       ],
       "shape": {
        "columns": 1,
        "rows": 2917899
       }
      },
      "text/html": [
       "<div>\n",
       "<style scoped>\n",
       "    .dataframe tbody tr th:only-of-type {\n",
       "        vertical-align: middle;\n",
       "    }\n",
       "\n",
       "    .dataframe tbody tr th {\n",
       "        vertical-align: top;\n",
       "    }\n",
       "\n",
       "    .dataframe thead th {\n",
       "        text-align: right;\n",
       "    }\n",
       "</style>\n",
       "<table border=\"1\" class=\"dataframe\">\n",
       "  <thead>\n",
       "    <tr style=\"text-align: right;\">\n",
       "      <th></th>\n",
       "      <th>idx</th>\n",
       "    </tr>\n",
       "    <tr>\n",
       "      <th>block_key</th>\n",
       "      <th></th>\n",
       "    </tr>\n",
       "  </thead>\n",
       "  <tbody>\n",
       "    <tr>\n",
       "      <th>XLTRN:0</th>\n",
       "      <td>0</td>\n",
       "    </tr>\n",
       "    <tr>\n",
       "      <th>1:1</th>\n",
       "      <td>0</td>\n",
       "    </tr>\n",
       "    <tr>\n",
       "      <th>L:0</th>\n",
       "      <td>1</td>\n",
       "    </tr>\n",
       "    <tr>\n",
       "      <th>KRMNL:0</th>\n",
       "      <td>1</td>\n",
       "    </tr>\n",
       "    <tr>\n",
       "      <th>LF:0</th>\n",
       "      <td>1</td>\n",
       "    </tr>\n",
       "    <tr>\n",
       "      <th>...</th>\n",
       "      <td>...</td>\n",
       "    </tr>\n",
       "    <tr>\n",
       "      <th>105967:1</th>\n",
       "      <td>646784</td>\n",
       "    </tr>\n",
       "    <tr>\n",
       "      <th>RPRT:0</th>\n",
       "      <td>646785</td>\n",
       "    </tr>\n",
       "    <tr>\n",
       "      <th>KTFRT:0</th>\n",
       "      <td>646785</td>\n",
       "    </tr>\n",
       "    <tr>\n",
       "      <th>STFN:0</th>\n",
       "      <td>646785</td>\n",
       "    </tr>\n",
       "    <tr>\n",
       "      <th>562295:1</th>\n",
       "      <td>646785</td>\n",
       "    </tr>\n",
       "  </tbody>\n",
       "</table>\n",
       "<p>2917899 rows × 1 columns</p>\n",
       "</div>"
      ],
      "text/plain": [
       "              idx\n",
       "block_key        \n",
       "XLTRN:0         0\n",
       "1:1             0\n",
       "L:0             1\n",
       "KRMNL:0         1\n",
       "LF:0            1\n",
       "...           ...\n",
       "105967:1   646784\n",
       "RPRT:0     646785\n",
       "KTFRT:0    646785\n",
       "STFN:0     646785\n",
       "562295:1   646785\n",
       "\n",
       "[2917899 rows x 1 columns]"
      ]
     },
     "execution_count": 7,
     "metadata": {},
     "output_type": "execute_result"
    }
   ],
   "source": [
    "blocking_map_df = pd.DataFrame(blocked_data, columns=[\"block_key\", \"idx\"])\n",
    "blocking_map_df.set_index(\"block_key\", inplace=True)\n",
    "blocking_map_df.to_csv(\"../data/dn_blocking_map.csv\", index=True)\n",
    "blocking_map_df"
   ]
  },
  {
   "cell_type": "code",
   "execution_count": 1,
   "id": "296b47ea",
   "metadata": {},
   "outputs": [
    {
     "data": {
      "application/vnd.microsoft.datawrangler.viewer.v0+json": {
       "columns": [
        {
         "name": "block_key",
         "rawType": "object",
         "type": "string"
        },
        {
         "name": "idx",
         "rawType": "int64",
         "type": "integer"
        }
       ],
       "ref": "f4cc1782-2008-4e40-9748-5adc4ea5ce63",
       "rows": [
        [
         "XLTRN:0",
         "0"
        ],
        [
         "1:1",
         "0"
        ],
        [
         "L:0",
         "1"
        ],
        [
         "KRMNL:0",
         "1"
        ],
        [
         "LF:0",
         "1"
        ],
        [
         "JNTR:0",
         "2"
        ],
        [
         "KNTR:0",
         "2"
        ],
        [
         "RLS:0",
         "2"
        ],
        [
         "L:0",
         "3"
        ],
        [
         "LF:0",
         "3"
        ],
        [
         "4:1",
         "3"
        ],
        [
         "PLS:0",
         "4"
        ],
        [
         "5:1",
         "4"
        ],
        [
         "FMN:0",
         "5"
        ],
        [
         "AMN:0",
         "5"
        ],
        [
         "FMN:0",
         "6"
        ],
        [
         "AMN:0",
         "6"
        ],
        [
         "7:1",
         "6"
        ],
        [
         "A0:0",
         "7"
        ],
        [
         "AT:0",
         "7"
        ],
        [
         "8:1",
         "7"
        ],
        [
         "STT:0",
         "8"
        ],
        [
         "ANKLNT:0",
         "8"
        ],
        [
         "AF:0",
         "8"
        ],
        [
         "LPRRNS:0",
         "8"
        ],
        [
         "K:0",
         "8"
        ],
        [
         "KF:0",
         "8"
        ],
        [
         "SRKL:0",
         "8"
        ],
        [
         "KNFRNS:0",
         "8"
        ],
        [
         "9:1",
         "8"
        ],
        [
         "KFR:0",
         "9"
        ],
        [
         "P:0",
         "9"
        ],
        [
         "PRN:0",
         "9"
        ],
        [
         "NLSN:0",
         "9"
        ],
        [
         "JFR:0",
         "9"
        ],
        [
         "10:1",
         "9"
        ],
        [
         "K:0",
         "10"
        ],
        [
         "FLF:0",
         "10"
        ],
        [
         "ALF:0",
         "10"
        ],
        [
         "11:1",
         "10"
        ],
        [
         "ANS:0",
         "11"
        ],
        [
         "AN:0",
         "11"
        ],
        [
         "A:0",
         "11"
        ],
        [
         "JNS:0",
         "11"
        ],
        [
         "JN:0",
         "11"
        ],
        [
         "12:1",
         "11"
        ],
        [
         "ANS:0",
         "12"
        ],
        [
         "AN:0",
         "12"
        ],
        [
         "A:0",
         "12"
        ],
        [
         "JNS:0",
         "12"
        ]
       ],
       "shape": {
        "columns": 1,
        "rows": 2917899
       }
      },
      "text/html": [
       "<div>\n",
       "<style scoped>\n",
       "    .dataframe tbody tr th:only-of-type {\n",
       "        vertical-align: middle;\n",
       "    }\n",
       "\n",
       "    .dataframe tbody tr th {\n",
       "        vertical-align: top;\n",
       "    }\n",
       "\n",
       "    .dataframe thead th {\n",
       "        text-align: right;\n",
       "    }\n",
       "</style>\n",
       "<table border=\"1\" class=\"dataframe\">\n",
       "  <thead>\n",
       "    <tr style=\"text-align: right;\">\n",
       "      <th></th>\n",
       "      <th>idx</th>\n",
       "    </tr>\n",
       "    <tr>\n",
       "      <th>block_key</th>\n",
       "      <th></th>\n",
       "    </tr>\n",
       "  </thead>\n",
       "  <tbody>\n",
       "    <tr>\n",
       "      <th>XLTRN:0</th>\n",
       "      <td>0</td>\n",
       "    </tr>\n",
       "    <tr>\n",
       "      <th>1:1</th>\n",
       "      <td>0</td>\n",
       "    </tr>\n",
       "    <tr>\n",
       "      <th>L:0</th>\n",
       "      <td>1</td>\n",
       "    </tr>\n",
       "    <tr>\n",
       "      <th>KRMNL:0</th>\n",
       "      <td>1</td>\n",
       "    </tr>\n",
       "    <tr>\n",
       "      <th>LF:0</th>\n",
       "      <td>1</td>\n",
       "    </tr>\n",
       "    <tr>\n",
       "      <th>...</th>\n",
       "      <td>...</td>\n",
       "    </tr>\n",
       "    <tr>\n",
       "      <th>105967:1</th>\n",
       "      <td>646784</td>\n",
       "    </tr>\n",
       "    <tr>\n",
       "      <th>RPRT:0</th>\n",
       "      <td>646785</td>\n",
       "    </tr>\n",
       "    <tr>\n",
       "      <th>KTFRT:0</th>\n",
       "      <td>646785</td>\n",
       "    </tr>\n",
       "    <tr>\n",
       "      <th>STFN:0</th>\n",
       "      <td>646785</td>\n",
       "    </tr>\n",
       "    <tr>\n",
       "      <th>562295:1</th>\n",
       "      <td>646785</td>\n",
       "    </tr>\n",
       "  </tbody>\n",
       "</table>\n",
       "<p>2917899 rows × 1 columns</p>\n",
       "</div>"
      ],
      "text/plain": [
       "              idx\n",
       "block_key        \n",
       "XLTRN:0         0\n",
       "1:1             0\n",
       "L:0             1\n",
       "KRMNL:0         1\n",
       "LF:0            1\n",
       "...           ...\n",
       "105967:1   646784\n",
       "RPRT:0     646785\n",
       "KTFRT:0    646785\n",
       "STFN:0     646785\n",
       "562295:1   646785\n",
       "\n",
       "[2917899 rows x 1 columns]"
      ]
     },
     "execution_count": 1,
     "metadata": {},
     "output_type": "execute_result"
    }
   ],
   "source": [
    "# Load the blocking map\n",
    "import pandas as pd\n",
    "\n",
    "\n",
    "blocking_map_df = pd.read_csv(\"../data/dn_blocking_map.csv\", index_col=0)\n",
    "blocking_map_df"
   ]
  },
  {
   "cell_type": "code",
   "execution_count": 2,
   "id": "6090fdab",
   "metadata": {},
   "outputs": [
    {
     "data": {
      "application/vnd.microsoft.datawrangler.viewer.v0+json": {
       "columns": [
        {
         "name": "block_key",
         "rawType": "object",
         "type": "string"
        },
        {
         "name": "0",
         "rawType": "int64",
         "type": "integer"
        }
       ],
       "ref": "a0fcba25-dd80-4909-857d-f8bbe314c50c",
       "rows": [
        [
         "T:0",
         "52156"
        ],
        [
         "A:0",
         "45042"
        ],
        [
         "AN:0",
         "44804"
        ],
        [
         "JN:0",
         "27297"
        ],
        [
         "AF:0",
         "25873"
        ],
        [
         "ANT:0",
         "25322"
        ],
        [
         "HSTR:0",
         "24421"
        ],
        [
         "K:0",
         "23371"
        ],
        [
         "J:0",
         "17379"
        ],
        [
         "0:0",
         "16987"
        ],
        [
         "ANKLNT:0",
         "15006"
        ],
        [
         "P:0",
         "14644"
        ],
        [
         "ALM:0",
         "13992"
        ],
        [
         "L:0",
         "13900"
        ],
        [
         "FLM:0",
         "13730"
        ],
        [
         "SNTR:0",
         "12438"
        ],
        [
         "M:0",
         "12074"
        ],
        [
         "AKTF:0",
         "11934"
        ],
        [
         "KRT:0",
         "10804"
        ],
        [
         "KRK:0",
         "10553"
        ],
        [
         "F:0",
         "10416"
        ],
        [
         "FR:0",
         "10082"
        ],
        [
         "R:0",
         "9728"
        ],
        [
         "PRTN:0",
         "9446"
        ],
        [
         "TMS:0",
         "9335"
        ],
        [
         "AMS:0",
         "8671"
        ],
        [
         "MR:0",
         "8572"
        ],
        [
         "S:0",
         "8412"
        ],
        [
         "JMS:0",
         "8375"
        ],
        [
         "HLT:0",
         "8270"
        ],
        [
         "PL:0",
         "7935"
        ],
        [
         "HL0:0",
         "7796"
        ],
        [
         "RPRT:0",
         "7665"
        ],
        [
         "XRLS:0",
         "7362"
        ],
        [
         "HNR:0",
         "7290"
        ],
        [
         "LS:0",
         "7268"
        ],
        [
         "PR:0",
         "7116"
        ],
        [
         "FRNS:0",
         "7102"
        ],
        [
         "FN:0",
         "7081"
        ],
        [
         "JRJ:0",
         "7040"
        ],
        [
         "AS:0",
         "7004"
        ],
        [
         "AT:0",
         "6981"
        ],
        [
         "STTS:0",
         "6727"
        ],
        [
         "SR:0",
         "6265"
        ],
        [
         "PTR:0",
         "6264"
        ],
        [
         "LNTN:0",
         "6249"
        ],
        [
         "N:0",
         "5932"
        ],
        [
         "SST:0",
         "5815"
        ],
        [
         "JSF:0",
         "5789"
        ],
        [
         "ASPKTS:0",
         "5770"
        ]
       ],
       "shape": {
        "columns": 1,
        "rows": 382824
       }
      },
      "text/plain": [
       "block_key\n",
       "T:0         52156\n",
       "A:0         45042\n",
       "AN:0        44804\n",
       "JN:0        27297\n",
       "AF:0        25873\n",
       "            ...  \n",
       "334390:1        1\n",
       "334388:1        1\n",
       "334387:1        1\n",
       "334384:1        1\n",
       "XXTSKF:0        1\n",
       "Length: 382824, dtype: int64"
      ]
     },
     "execution_count": 2,
     "metadata": {},
     "output_type": "execute_result"
    }
   ],
   "source": [
    "grouped_blocking_map = blocking_map_df.groupby(\"block_key\").size().sort_values(ascending=False)\n",
    "\n",
    "grouped_blocking_map"
   ]
  },
  {
   "cell_type": "code",
   "execution_count": 3,
   "id": "00744239",
   "metadata": {},
   "outputs": [
    {
     "data": {
      "text/plain": [
       "16449463959"
      ]
     },
     "execution_count": 3,
     "metadata": {},
     "output_type": "execute_result"
    }
   ],
   "source": [
    "# apply power of 2 to the size of each group\n",
    "grouped_blocking_map = grouped_blocking_map.apply(lambda x: x ** 2)\n",
    "grouped_blocking_map.sum()\n"
   ]
  },
  {
   "cell_type": "markdown",
   "id": "8b3857a7",
   "metadata": {},
   "source": [
    "## Filter Blocking to Person and Agent only"
   ]
  },
  {
   "cell_type": "code",
   "execution_count": 7,
   "id": "c0f269a0",
   "metadata": {},
   "outputs": [
    {
     "data": {
      "application/vnd.microsoft.datawrangler.viewer.v0+json": {
       "columns": [
        {
         "name": "idx",
         "rawType": "int64",
         "type": "integer"
        },
        {
         "name": "block_key",
         "rawType": "object",
         "type": "string"
        },
        {
         "name": "type",
         "rawType": "object",
         "type": "string"
        }
       ],
       "ref": "ddc2b562-4b6c-4e42-9e49-f4079cdcb600",
       "rows": [
        [
         "9",
         "KFR:0",
         "Person"
        ],
        [
         "9",
         "P:0",
         "Person"
        ],
        [
         "9",
         "PRN:0",
         "Person"
        ],
        [
         "9",
         "NLSN:0",
         "Person"
        ],
        [
         "9",
         "JFR:0",
         "Person"
        ],
        [
         "9",
         "10:1",
         "Person"
        ],
        [
         "10",
         "K:0",
         "Person"
        ],
        [
         "10",
         "FLF:0",
         "Person"
        ],
        [
         "10",
         "ALF:0",
         "Person"
        ],
        [
         "10",
         "11:1",
         "Person"
        ],
        [
         "11",
         "ANS:0",
         "Person"
        ],
        [
         "11",
         "AN:0",
         "Person"
        ],
        [
         "11",
         "A:0",
         "Person"
        ],
        [
         "11",
         "JNS:0",
         "Person"
        ],
        [
         "11",
         "JN:0",
         "Person"
        ],
        [
         "11",
         "12:1",
         "Person"
        ],
        [
         "12",
         "ANS:0",
         "Person"
        ],
        [
         "12",
         "AN:0",
         "Person"
        ],
        [
         "12",
         "A:0",
         "Person"
        ],
        [
         "12",
         "JNS:0",
         "Person"
        ],
        [
         "12",
         "JN:0",
         "Person"
        ],
        [
         "12",
         "12:1",
         "Person"
        ],
        [
         "13",
         "HLFRXT:0",
         "Person"
        ],
        [
         "13",
         "MRN:0",
         "Person"
        ],
        [
         "13",
         "13:1",
         "Person"
        ],
        [
         "14",
         "FLLM:0",
         "Person"
        ],
        [
         "14",
         "SMRMN:0",
         "Person"
        ],
        [
         "14",
         "ALLM:0",
         "Person"
        ],
        [
         "14",
         "14:1",
         "Person"
        ],
        [
         "15",
         "KR:0",
         "Person"
        ],
        [
         "15",
         "AN:0",
         "Person"
        ],
        [
         "15",
         "JN:0",
         "Person"
        ],
        [
         "15",
         "15:1",
         "Person"
        ],
        [
         "17",
         "HRLT:0",
         "Person"
        ],
        [
         "17",
         "ARL:0",
         "Person"
        ],
        [
         "17",
         "17:1",
         "Person"
        ],
        [
         "18",
         "PRN:0",
         "Person"
        ],
        [
         "18",
         "PRS:0",
         "Person"
        ],
        [
         "18",
         "18:1",
         "Person"
        ],
        [
         "20",
         "XKR:0",
         "Person"
        ],
        [
         "20",
         "ANTR:0",
         "Person"
        ],
        [
         "20",
         "20:1",
         "Person"
        ],
        [
         "21",
         "SKTLNT:0",
         "Person"
        ],
        [
         "21",
         "PRS:0",
         "Person"
        ],
        [
         "21",
         "ATNPRK:0",
         "Person"
        ],
        [
         "21",
         "21:1",
         "Person"
        ],
        [
         "22",
         "TMS:0",
         "Person"
        ],
        [
         "22",
         "XSMN:0",
         "Person"
        ],
        [
         "22",
         "PRKSMTL:0",
         "Person"
        ],
        [
         "22",
         "22:1",
         "Person"
        ]
       ],
       "shape": {
        "columns": 2,
        "rows": 1733368
       }
      },
      "text/html": [
       "<div>\n",
       "<style scoped>\n",
       "    .dataframe tbody tr th:only-of-type {\n",
       "        vertical-align: middle;\n",
       "    }\n",
       "\n",
       "    .dataframe tbody tr th {\n",
       "        vertical-align: top;\n",
       "    }\n",
       "\n",
       "    .dataframe thead th {\n",
       "        text-align: right;\n",
       "    }\n",
       "</style>\n",
       "<table border=\"1\" class=\"dataframe\">\n",
       "  <thead>\n",
       "    <tr style=\"text-align: right;\">\n",
       "      <th></th>\n",
       "      <th>block_key</th>\n",
       "      <th>type</th>\n",
       "    </tr>\n",
       "    <tr>\n",
       "      <th>idx</th>\n",
       "      <th></th>\n",
       "      <th></th>\n",
       "    </tr>\n",
       "  </thead>\n",
       "  <tbody>\n",
       "    <tr>\n",
       "      <th>9</th>\n",
       "      <td>KFR:0</td>\n",
       "      <td>Person</td>\n",
       "    </tr>\n",
       "    <tr>\n",
       "      <th>9</th>\n",
       "      <td>P:0</td>\n",
       "      <td>Person</td>\n",
       "    </tr>\n",
       "    <tr>\n",
       "      <th>9</th>\n",
       "      <td>PRN:0</td>\n",
       "      <td>Person</td>\n",
       "    </tr>\n",
       "    <tr>\n",
       "      <th>9</th>\n",
       "      <td>NLSN:0</td>\n",
       "      <td>Person</td>\n",
       "    </tr>\n",
       "    <tr>\n",
       "      <th>9</th>\n",
       "      <td>JFR:0</td>\n",
       "      <td>Person</td>\n",
       "    </tr>\n",
       "    <tr>\n",
       "      <th>...</th>\n",
       "      <td>...</td>\n",
       "      <td>...</td>\n",
       "    </tr>\n",
       "    <tr>\n",
       "      <th>646783</th>\n",
       "      <td>FLM:0</td>\n",
       "      <td>Person</td>\n",
       "    </tr>\n",
       "    <tr>\n",
       "      <th>646785</th>\n",
       "      <td>RPRT:0</td>\n",
       "      <td>Person</td>\n",
       "    </tr>\n",
       "    <tr>\n",
       "      <th>646785</th>\n",
       "      <td>KTFRT:0</td>\n",
       "      <td>Person</td>\n",
       "    </tr>\n",
       "    <tr>\n",
       "      <th>646785</th>\n",
       "      <td>STFN:0</td>\n",
       "      <td>Person</td>\n",
       "    </tr>\n",
       "    <tr>\n",
       "      <th>646785</th>\n",
       "      <td>562295:1</td>\n",
       "      <td>Person</td>\n",
       "    </tr>\n",
       "  </tbody>\n",
       "</table>\n",
       "<p>1733368 rows × 2 columns</p>\n",
       "</div>"
      ],
      "text/plain": [
       "       block_key    type\n",
       "idx                     \n",
       "9          KFR:0  Person\n",
       "9            P:0  Person\n",
       "9          PRN:0  Person\n",
       "9         NLSN:0  Person\n",
       "9          JFR:0  Person\n",
       "...          ...     ...\n",
       "646783     FLM:0  Person\n",
       "646785    RPRT:0  Person\n",
       "646785   KTFRT:0  Person\n",
       "646785    STFN:0  Person\n",
       "646785  562295:1  Person\n",
       "\n",
       "[1733368 rows x 2 columns]"
      ]
     },
     "execution_count": 7,
     "metadata": {},
     "output_type": "execute_result"
    }
   ],
   "source": [
    "# Filter Blocking to Person and Agent only\n",
    "# Join with training data\n",
    "blocking_map_persons_only_df = blocking_map_df.reset_index().set_index(\"idx\").join(dedup_data[[\"type\"]], on=\"idx\").query(\"type in ['Person', 'Agent']\")\n",
    "blocking_map_persons_only_df"
   ]
  },
  {
   "cell_type": "code",
   "execution_count": 8,
   "id": "1336eeda",
   "metadata": {},
   "outputs": [
    {
     "data": {
      "application/vnd.microsoft.datawrangler.viewer.v0+json": {
       "columns": [
        {
         "name": "index",
         "rawType": "int64",
         "type": "integer"
        },
        {
         "name": "block_key",
         "rawType": "object",
         "type": "string"
        },
        {
         "name": "size",
         "rawType": "int64",
         "type": "integer"
        }
       ],
       "ref": "2b675cca-dab5-4bed-995b-6ddd9155a6e1",
       "rows": [
        [
         "0",
         "A:0",
         "42114"
        ],
        [
         "1",
         "AN:0",
         "32297"
        ],
        [
         "2",
         "T:0",
         "30228"
        ],
        [
         "3",
         "JN:0",
         "26586"
        ],
        [
         "4",
         "K:0",
         "20852"
        ],
        [
         "5",
         "J:0",
         "16960"
        ],
        [
         "6",
         "P:0",
         "13713"
        ],
        [
         "7",
         "ALM:0",
         "13545"
        ],
        [
         "8",
         "FLM:0",
         "13447"
        ],
        [
         "9",
         "AKTF:0",
         "11886"
        ],
        [
         "10",
         "M:0",
         "11734"
        ],
        [
         "11",
         "L:0",
         "11238"
        ],
        [
         "12",
         "F:0",
         "9770"
        ],
        [
         "13",
         "KRK:0",
         "9756"
        ],
        [
         "14",
         "R:0",
         "9341"
        ],
        [
         "15",
         "TMS:0",
         "8937"
        ],
        [
         "16",
         "AMS:0",
         "8482"
        ],
        [
         "17",
         "AF:0",
         "8241"
        ],
        [
         "18",
         "JMS:0",
         "8221"
        ],
        [
         "19",
         "MR:0",
         "8123"
        ],
        [
         "20",
         "RPRT:0",
         "7530"
        ],
        [
         "21",
         "S:0",
         "7417"
        ],
        [
         "22",
         "PL:0",
         "7324"
        ],
        [
         "23",
         "XRLS:0",
         "7250"
        ],
        [
         "24",
         "HNR:0",
         "7182"
        ],
        [
         "25",
         "JRJ:0",
         "6826"
        ],
        [
         "26",
         "FN:0",
         "6381"
        ],
        [
         "27",
         "LS:0",
         "6281"
        ],
        [
         "28",
         "JSF:0",
         "5726"
        ],
        [
         "29",
         "HSF:0",
         "5641"
        ],
        [
         "30",
         "APRKSMTL:0",
         "5633"
        ],
        [
         "31",
         "SR:0",
         "5569"
        ],
        [
         "32",
         "PR:0",
         "5544"
        ],
        [
         "33",
         "PTR:0",
         "5446"
        ],
        [
         "34",
         "FRTRK:0",
         "5268"
        ],
        [
         "35",
         "TFT:0",
         "5230"
        ],
        [
         "36",
         "ATRT:0",
         "5124"
        ],
        [
         "37",
         "0:0",
         "5095"
        ],
        [
         "38",
         "RKRT:0",
         "5068"
        ],
        [
         "39",
         "ANTN:0",
         "5051"
        ],
        [
         "40",
         "MKL:0",
         "4960"
        ],
        [
         "41",
         "AHN:0",
         "4942"
        ],
        [
         "42",
         "JHN:0",
         "4939"
        ],
        [
         "43",
         "KRL:0",
         "4901"
        ],
        [
         "44",
         "RXRT:0",
         "4882"
        ],
        [
         "45",
         "AT:0",
         "4698"
        ],
        [
         "46",
         "MXL:0",
         "4657"
        ],
        [
         "47",
         "PRN:0",
         "4403"
        ],
        [
         "48",
         "ALS:0",
         "4165"
        ],
        [
         "49",
         "ALN:0",
         "3663"
        ]
       ],
       "shape": {
        "columns": 2,
        "rows": 276674
       }
      },
      "text/html": [
       "<div>\n",
       "<style scoped>\n",
       "    .dataframe tbody tr th:only-of-type {\n",
       "        vertical-align: middle;\n",
       "    }\n",
       "\n",
       "    .dataframe tbody tr th {\n",
       "        vertical-align: top;\n",
       "    }\n",
       "\n",
       "    .dataframe thead th {\n",
       "        text-align: right;\n",
       "    }\n",
       "</style>\n",
       "<table border=\"1\" class=\"dataframe\">\n",
       "  <thead>\n",
       "    <tr style=\"text-align: right;\">\n",
       "      <th></th>\n",
       "      <th>block_key</th>\n",
       "      <th>size</th>\n",
       "    </tr>\n",
       "  </thead>\n",
       "  <tbody>\n",
       "    <tr>\n",
       "      <th>0</th>\n",
       "      <td>A:0</td>\n",
       "      <td>42114</td>\n",
       "    </tr>\n",
       "    <tr>\n",
       "      <th>1</th>\n",
       "      <td>AN:0</td>\n",
       "      <td>32297</td>\n",
       "    </tr>\n",
       "    <tr>\n",
       "      <th>2</th>\n",
       "      <td>T:0</td>\n",
       "      <td>30228</td>\n",
       "    </tr>\n",
       "    <tr>\n",
       "      <th>3</th>\n",
       "      <td>JN:0</td>\n",
       "      <td>26586</td>\n",
       "    </tr>\n",
       "    <tr>\n",
       "      <th>4</th>\n",
       "      <td>K:0</td>\n",
       "      <td>20852</td>\n",
       "    </tr>\n",
       "    <tr>\n",
       "      <th>...</th>\n",
       "      <td>...</td>\n",
       "      <td>...</td>\n",
       "    </tr>\n",
       "    <tr>\n",
       "      <th>276669</th>\n",
       "      <td>330855:1</td>\n",
       "      <td>1</td>\n",
       "    </tr>\n",
       "    <tr>\n",
       "      <th>276670</th>\n",
       "      <td>330858:1</td>\n",
       "      <td>1</td>\n",
       "    </tr>\n",
       "    <tr>\n",
       "      <th>276671</th>\n",
       "      <td>330859:1</td>\n",
       "      <td>1</td>\n",
       "    </tr>\n",
       "    <tr>\n",
       "      <th>276672</th>\n",
       "      <td>330862:1</td>\n",
       "      <td>1</td>\n",
       "    </tr>\n",
       "    <tr>\n",
       "      <th>276673</th>\n",
       "      <td>XXTSKF:0</td>\n",
       "      <td>1</td>\n",
       "    </tr>\n",
       "  </tbody>\n",
       "</table>\n",
       "<p>276674 rows × 2 columns</p>\n",
       "</div>"
      ],
      "text/plain": [
       "       block_key   size\n",
       "0            A:0  42114\n",
       "1           AN:0  32297\n",
       "2            T:0  30228\n",
       "3           JN:0  26586\n",
       "4            K:0  20852\n",
       "...          ...    ...\n",
       "276669  330855:1      1\n",
       "276670  330858:1      1\n",
       "276671  330859:1      1\n",
       "276672  330862:1      1\n",
       "276673  XXTSKF:0      1\n",
       "\n",
       "[276674 rows x 2 columns]"
      ]
     },
     "execution_count": 8,
     "metadata": {},
     "output_type": "execute_result"
    }
   ],
   "source": [
    "# Group and name size column\n",
    "blocking_map_persons_only_group_size_df = blocking_map_persons_only_df.groupby(\n",
    "    \"block_key\").size().sort_values(ascending=False)\n",
    "\n",
    "blocking_map_persons_only_group_size_df = blocking_map_persons_only_group_size_df.rename_axis(\"block_key\").reset_index(name=\"size\")\n",
    "\n",
    "blocking_map_persons_only_group_size_df"
   ]
  },
  {
   "cell_type": "code",
   "execution_count": 42,
   "id": "a418e2ed",
   "metadata": {},
   "outputs": [
    {
     "data": {
      "application/vnd.microsoft.datawrangler.viewer.v0+json": {
       "columns": [
        {
         "name": "idx",
         "rawType": "int64",
         "type": "integer"
        },
        {
         "name": "block_key",
         "rawType": "object",
         "type": "string"
        },
        {
         "name": "type",
         "rawType": "object",
         "type": "string"
        }
       ],
       "ref": "1c1c5033-1dad-4685-a538-05e73ebbac9f",
       "rows": [
        [
         "87516",
         "FLRNS:0",
         "Person"
        ],
        [
         "87516",
         "NTNKL:0",
         "Person"
        ],
        [
         "87516",
         "80814:1",
         "Person"
        ],
        [
         "184757",
         "FLRNS:0",
         "Person"
        ],
        [
         "184757",
         "NTNKL:0",
         "Person"
        ],
        [
         "184757",
         "80814:1",
         "Person"
        ]
       ],
       "shape": {
        "columns": 2,
        "rows": 6
       }
      },
      "text/html": [
       "<div>\n",
       "<style scoped>\n",
       "    .dataframe tbody tr th:only-of-type {\n",
       "        vertical-align: middle;\n",
       "    }\n",
       "\n",
       "    .dataframe tbody tr th {\n",
       "        vertical-align: top;\n",
       "    }\n",
       "\n",
       "    .dataframe thead th {\n",
       "        text-align: right;\n",
       "    }\n",
       "</style>\n",
       "<table border=\"1\" class=\"dataframe\">\n",
       "  <thead>\n",
       "    <tr style=\"text-align: right;\">\n",
       "      <th></th>\n",
       "      <th>block_key</th>\n",
       "      <th>type</th>\n",
       "    </tr>\n",
       "    <tr>\n",
       "      <th>idx</th>\n",
       "      <th></th>\n",
       "      <th></th>\n",
       "    </tr>\n",
       "  </thead>\n",
       "  <tbody>\n",
       "    <tr>\n",
       "      <th>87516</th>\n",
       "      <td>FLRNS:0</td>\n",
       "      <td>Person</td>\n",
       "    </tr>\n",
       "    <tr>\n",
       "      <th>87516</th>\n",
       "      <td>NTNKL:0</td>\n",
       "      <td>Person</td>\n",
       "    </tr>\n",
       "    <tr>\n",
       "      <th>87516</th>\n",
       "      <td>80814:1</td>\n",
       "      <td>Person</td>\n",
       "    </tr>\n",
       "    <tr>\n",
       "      <th>184757</th>\n",
       "      <td>FLRNS:0</td>\n",
       "      <td>Person</td>\n",
       "    </tr>\n",
       "    <tr>\n",
       "      <th>184757</th>\n",
       "      <td>NTNKL:0</td>\n",
       "      <td>Person</td>\n",
       "    </tr>\n",
       "    <tr>\n",
       "      <th>184757</th>\n",
       "      <td>80814:1</td>\n",
       "      <td>Person</td>\n",
       "    </tr>\n",
       "  </tbody>\n",
       "</table>\n",
       "</div>"
      ],
      "text/plain": [
       "       block_key    type\n",
       "idx                     \n",
       "87516    FLRNS:0  Person\n",
       "87516    NTNKL:0  Person\n",
       "87516    80814:1  Person\n",
       "184757   FLRNS:0  Person\n",
       "184757   NTNKL:0  Person\n",
       "184757   80814:1  Person"
      ]
     },
     "execution_count": 42,
     "metadata": {},
     "output_type": "execute_result"
    }
   ],
   "source": [
    "# Find all rows with 87516 or 184757\n",
    "flo_ntn_blocks_df = blocking_map_persons_only_df[blocking_map_persons_only_df.index.isin([87516, 184757])]\n",
    "flo_ntn_blocks_df"
   ]
  },
  {
   "cell_type": "code",
   "execution_count": 44,
   "id": "d3a51ece",
   "metadata": {},
   "outputs": [
    {
     "data": {
      "application/vnd.microsoft.datawrangler.viewer.v0+json": {
       "columns": [
        {
         "name": "index",
         "rawType": "int64",
         "type": "integer"
        },
        {
         "name": "block_key",
         "rawType": "object",
         "type": "string"
        },
        {
         "name": "size",
         "rawType": "int64",
         "type": "integer"
        }
       ],
       "ref": "4818ba0e-faf0-4667-9427-069898297fcb",
       "rows": [
        [
         "833",
         "FLRNS:0",
         "228"
        ],
        [
         "2807",
         "NTNKL:0",
         "44"
        ],
        [
         "9777",
         "80814:1",
         "8"
        ]
       ],
       "shape": {
        "columns": 2,
        "rows": 3
       }
      },
      "text/html": [
       "<div>\n",
       "<style scoped>\n",
       "    .dataframe tbody tr th:only-of-type {\n",
       "        vertical-align: middle;\n",
       "    }\n",
       "\n",
       "    .dataframe tbody tr th {\n",
       "        vertical-align: top;\n",
       "    }\n",
       "\n",
       "    .dataframe thead th {\n",
       "        text-align: right;\n",
       "    }\n",
       "</style>\n",
       "<table border=\"1\" class=\"dataframe\">\n",
       "  <thead>\n",
       "    <tr style=\"text-align: right;\">\n",
       "      <th></th>\n",
       "      <th>block_key</th>\n",
       "      <th>size</th>\n",
       "    </tr>\n",
       "  </thead>\n",
       "  <tbody>\n",
       "    <tr>\n",
       "      <th>833</th>\n",
       "      <td>FLRNS:0</td>\n",
       "      <td>228</td>\n",
       "    </tr>\n",
       "    <tr>\n",
       "      <th>2807</th>\n",
       "      <td>NTNKL:0</td>\n",
       "      <td>44</td>\n",
       "    </tr>\n",
       "    <tr>\n",
       "      <th>9777</th>\n",
       "      <td>80814:1</td>\n",
       "      <td>8</td>\n",
       "    </tr>\n",
       "  </tbody>\n",
       "</table>\n",
       "</div>"
      ],
      "text/plain": [
       "     block_key  size\n",
       "833    FLRNS:0   228\n",
       "2807   NTNKL:0    44\n",
       "9777   80814:1     8"
      ]
     },
     "execution_count": 44,
     "metadata": {},
     "output_type": "execute_result"
    }
   ],
   "source": [
    "# Get size of group of block_key found in flo_ntn_blocks_df\n",
    "blocking_map_persons_only_group_size_df[blocking_map_persons_only_group_size_df[\"block_key\"].isin(flo_ntn_blocks_df[\"block_key\"])]"
   ]
  },
  {
   "cell_type": "code",
   "execution_count": 46,
   "id": "7a03d2f6",
   "metadata": {},
   "outputs": [
    {
     "data": {
      "application/vnd.microsoft.datawrangler.viewer.v0+json": {
       "columns": [
        {
         "name": "index",
         "rawType": "int64",
         "type": "integer"
        },
        {
         "name": "block_key",
         "rawType": "object",
         "type": "string"
        },
        {
         "name": "size",
         "rawType": "int64",
         "type": "integer"
        }
       ],
       "ref": "fc2a9539-e121-4d06-8104-7a8114adf8bc",
       "rows": [
        [
         "556",
         "PSN:0",
         "358"
        ],
        [
         "557",
         "MRX:0",
         "357"
        ],
        [
         "558",
         "FRL:0",
         "356"
        ],
        [
         "559",
         "FRK:0",
         "356"
        ],
        [
         "560",
         "FNS:0",
         "356"
        ],
        [
         "561",
         "XT:0",
         "355"
        ],
        [
         "562",
         "HFMN:0",
         "354"
        ],
        [
         "563",
         "APL:0",
         "352"
        ],
        [
         "564",
         "ANFR:0",
         "352"
        ],
        [
         "565",
         "HSTR:0",
         "351"
        ],
        [
         "566",
         "RNT:0",
         "351"
        ],
        [
         "567",
         "TKSN:0",
         "351"
        ],
        [
         "568",
         "MRTS:0",
         "351"
        ],
        [
         "569",
         "LP:0",
         "350"
        ],
        [
         "570",
         "NR:0",
         "349"
        ],
        [
         "571",
         "SRL:0",
         "349"
        ],
        [
         "572",
         "KKS:0",
         "349"
        ],
        [
         "573",
         "FLXR:0",
         "349"
        ],
        [
         "574",
         "KSR:0",
         "348"
        ],
        [
         "575",
         "FKR:0",
         "348"
        ],
        [
         "576",
         "TFL:0",
         "347"
        ],
        [
         "577",
         "SRS:0",
         "345"
        ],
        [
         "578",
         "SRK:0",
         "345"
        ],
        [
         "579",
         "HNTR:0",
         "345"
        ],
        [
         "580",
         "HRN:0",
         "345"
        ],
        [
         "581",
         "PST:0",
         "345"
        ],
        [
         "582",
         "RKNLT:0",
         "345"
        ],
        [
         "583",
         "10:1",
         "344"
        ],
        [
         "584",
         "PRKT:0",
         "344"
        ],
        [
         "585",
         "ASPL:0",
         "342"
        ],
        [
         "586",
         "XR:0",
         "342"
        ],
        [
         "587",
         "JRJN:0",
         "341"
        ],
        [
         "588",
         "JNSTN:0",
         "340"
        ],
        [
         "589",
         "NLS:0",
         "339"
        ],
        [
         "590",
         "SPNSR:0",
         "335"
        ],
        [
         "591",
         "JT0:0",
         "334"
        ],
        [
         "592",
         "KNR:0",
         "334"
        ],
        [
         "593",
         "FLFRT:0",
         "333"
        ],
        [
         "594",
         "LNTS:0",
         "333"
        ],
        [
         "595",
         "FRST:0",
         "333"
        ],
        [
         "596",
         "FRSR:0",
         "332"
        ],
        [
         "597",
         "FRNT:0",
         "331"
        ],
        [
         "598",
         "PLNK:0",
         "331"
        ],
        [
         "599",
         "AKNR:0",
         "330"
        ],
        [
         "600",
         "FRNKLN:0",
         "330"
        ],
        [
         "601",
         "TLN:0",
         "329"
        ],
        [
         "602",
         "PRKL:0",
         "328"
        ],
        [
         "603",
         "LNS:0",
         "328"
        ],
        [
         "604",
         "PM:0",
         "328"
        ],
        [
         "605",
         "HPKRTS:0",
         "328"
        ]
       ],
       "shape": {
        "columns": 2,
        "rows": 276118
       }
      },
      "text/html": [
       "<div>\n",
       "<style scoped>\n",
       "    .dataframe tbody tr th:only-of-type {\n",
       "        vertical-align: middle;\n",
       "    }\n",
       "\n",
       "    .dataframe tbody tr th {\n",
       "        vertical-align: top;\n",
       "    }\n",
       "\n",
       "    .dataframe thead th {\n",
       "        text-align: right;\n",
       "    }\n",
       "</style>\n",
       "<table border=\"1\" class=\"dataframe\">\n",
       "  <thead>\n",
       "    <tr style=\"text-align: right;\">\n",
       "      <th></th>\n",
       "      <th>block_key</th>\n",
       "      <th>size</th>\n",
       "    </tr>\n",
       "  </thead>\n",
       "  <tbody>\n",
       "    <tr>\n",
       "      <th>556</th>\n",
       "      <td>PSN:0</td>\n",
       "      <td>358</td>\n",
       "    </tr>\n",
       "    <tr>\n",
       "      <th>557</th>\n",
       "      <td>MRX:0</td>\n",
       "      <td>357</td>\n",
       "    </tr>\n",
       "    <tr>\n",
       "      <th>558</th>\n",
       "      <td>FRL:0</td>\n",
       "      <td>356</td>\n",
       "    </tr>\n",
       "    <tr>\n",
       "      <th>559</th>\n",
       "      <td>FRK:0</td>\n",
       "      <td>356</td>\n",
       "    </tr>\n",
       "    <tr>\n",
       "      <th>560</th>\n",
       "      <td>FNS:0</td>\n",
       "      <td>356</td>\n",
       "    </tr>\n",
       "    <tr>\n",
       "      <th>...</th>\n",
       "      <td>...</td>\n",
       "      <td>...</td>\n",
       "    </tr>\n",
       "    <tr>\n",
       "      <th>276669</th>\n",
       "      <td>330855:1</td>\n",
       "      <td>1</td>\n",
       "    </tr>\n",
       "    <tr>\n",
       "      <th>276670</th>\n",
       "      <td>330858:1</td>\n",
       "      <td>1</td>\n",
       "    </tr>\n",
       "    <tr>\n",
       "      <th>276671</th>\n",
       "      <td>330859:1</td>\n",
       "      <td>1</td>\n",
       "    </tr>\n",
       "    <tr>\n",
       "      <th>276672</th>\n",
       "      <td>330862:1</td>\n",
       "      <td>1</td>\n",
       "    </tr>\n",
       "    <tr>\n",
       "      <th>276673</th>\n",
       "      <td>XXTSKF:0</td>\n",
       "      <td>1</td>\n",
       "    </tr>\n",
       "  </tbody>\n",
       "</table>\n",
       "<p>276118 rows × 2 columns</p>\n",
       "</div>"
      ],
      "text/plain": [
       "       block_key  size\n",
       "556        PSN:0   358\n",
       "557        MRX:0   357\n",
       "558        FRL:0   356\n",
       "559        FRK:0   356\n",
       "560        FNS:0   356\n",
       "...          ...   ...\n",
       "276669  330855:1     1\n",
       "276670  330858:1     1\n",
       "276671  330859:1     1\n",
       "276672  330862:1     1\n",
       "276673  XXTSKF:0     1\n",
       "\n",
       "[276118 rows x 2 columns]"
      ]
     },
     "execution_count": 46,
     "metadata": {},
     "output_type": "execute_result"
    }
   ],
   "source": [
    "# filter out top 1% by size column\n",
    "blocking_map_persons_only_group_size_filtered_df = blocking_map_persons_only_group_size_df[blocking_map_persons_only_group_size_df[\"size\"] < blocking_map_persons_only_group_size_df[\"size\"].quantile(0.998)]\n",
    "blocking_map_persons_only_group_size_filtered_df"
   ]
  },
  {
   "cell_type": "code",
   "execution_count": 10,
   "id": "064a4671",
   "metadata": {},
   "outputs": [
    {
     "data": {
      "text/plain": [
       "11151784"
      ]
     },
     "execution_count": 10,
     "metadata": {},
     "output_type": "execute_result"
    }
   ],
   "source": [
    "blocking_map_persons_only_group_size_filtered_df[\"size\"].apply(lambda x: x ** 2).sum()"
   ]
  },
  {
   "cell_type": "code",
   "execution_count": 47,
   "id": "c497696d",
   "metadata": {},
   "outputs": [
    {
     "data": {
      "application/vnd.microsoft.datawrangler.viewer.v0+json": {
       "columns": [
        {
         "name": "block_key",
         "rawType": "object",
         "type": "string"
        },
        {
         "name": "idx",
         "rawType": "int64",
         "type": "integer"
        }
       ],
       "ref": "e883efca-ae0d-4c22-b639-a1d7efddf41e",
       "rows": [
        [
         "FLRNS:0",
         "369"
        ],
        [
         "FLRNS:0",
         "1726"
        ],
        [
         "FLRNS:0",
         "1794"
        ],
        [
         "FLRNS:0",
         "7078"
        ],
        [
         "FLRNS:0",
         "8121"
        ],
        [
         "FLRNS:0",
         "8122"
        ],
        [
         "FLRNS:0",
         "8123"
        ],
        [
         "FLRNS:0",
         "8124"
        ],
        [
         "FLRNS:0",
         "8840"
        ],
        [
         "FLRNS:0",
         "10489"
        ],
        [
         "FLRNS:0",
         "14704"
        ],
        [
         "FLRNS:0",
         "17022"
        ],
        [
         "FLRNS:0",
         "21030"
        ],
        [
         "FLRNS:0",
         "30017"
        ],
        [
         "FLRNS:0",
         "30316"
        ],
        [
         "NTNKL:0",
         "32276"
        ],
        [
         "NTNKL:0",
         "32277"
        ],
        [
         "FLRNS:0",
         "34492"
        ],
        [
         "NTNKL:0",
         "35954"
        ],
        [
         "FLRNS:0",
         "40287"
        ],
        [
         "FLRNS:0",
         "41435"
        ],
        [
         "FLRNS:0",
         "56010"
        ],
        [
         "FLRNS:0",
         "62254"
        ],
        [
         "FLRNS:0",
         "62629"
        ],
        [
         "FLRNS:0",
         "65498"
        ],
        [
         "FLRNS:0",
         "67300"
        ],
        [
         "FLRNS:0",
         "67301"
        ],
        [
         "FLRNS:0",
         "69726"
        ],
        [
         "FLRNS:0",
         "70914"
        ],
        [
         "FLRNS:0",
         "72891"
        ],
        [
         "FLRNS:0",
         "73991"
        ],
        [
         "FLRNS:0",
         "75482"
        ],
        [
         "FLRNS:0",
         "82611"
        ],
        [
         "FLRNS:0",
         "84067"
        ],
        [
         "FLRNS:0",
         "87516"
        ],
        [
         "NTNKL:0",
         "87516"
        ],
        [
         "80814:1",
         "87516"
        ],
        [
         "FLRNS:0",
         "87517"
        ],
        [
         "NTNKL:0",
         "87517"
        ],
        [
         "FLRNS:0",
         "87518"
        ],
        [
         "NTNKL:0",
         "87518"
        ],
        [
         "FLRNS:0",
         "87519"
        ],
        [
         "NTNKL:0",
         "87519"
        ],
        [
         "FLRNS:0",
         "87727"
        ],
        [
         "FLRNS:0",
         "88374"
        ],
        [
         "FLRNS:0",
         "89662"
        ],
        [
         "FLRNS:0",
         "90400"
        ],
        [
         "FLRNS:0",
         "92564"
        ],
        [
         "FLRNS:0",
         "96975"
        ],
        [
         "FLRNS:0",
         "111955"
        ]
       ],
       "shape": {
        "columns": 1,
        "rows": 280
       }
      },
      "text/html": [
       "<div>\n",
       "<style scoped>\n",
       "    .dataframe tbody tr th:only-of-type {\n",
       "        vertical-align: middle;\n",
       "    }\n",
       "\n",
       "    .dataframe tbody tr th {\n",
       "        vertical-align: top;\n",
       "    }\n",
       "\n",
       "    .dataframe thead th {\n",
       "        text-align: right;\n",
       "    }\n",
       "</style>\n",
       "<table border=\"1\" class=\"dataframe\">\n",
       "  <thead>\n",
       "    <tr style=\"text-align: right;\">\n",
       "      <th></th>\n",
       "      <th>idx</th>\n",
       "    </tr>\n",
       "    <tr>\n",
       "      <th>block_key</th>\n",
       "      <th></th>\n",
       "    </tr>\n",
       "  </thead>\n",
       "  <tbody>\n",
       "    <tr>\n",
       "      <th>FLRNS:0</th>\n",
       "      <td>369</td>\n",
       "    </tr>\n",
       "    <tr>\n",
       "      <th>FLRNS:0</th>\n",
       "      <td>1726</td>\n",
       "    </tr>\n",
       "    <tr>\n",
       "      <th>FLRNS:0</th>\n",
       "      <td>1794</td>\n",
       "    </tr>\n",
       "    <tr>\n",
       "      <th>FLRNS:0</th>\n",
       "      <td>7078</td>\n",
       "    </tr>\n",
       "    <tr>\n",
       "      <th>FLRNS:0</th>\n",
       "      <td>8121</td>\n",
       "    </tr>\n",
       "    <tr>\n",
       "      <th>...</th>\n",
       "      <td>...</td>\n",
       "    </tr>\n",
       "    <tr>\n",
       "      <th>FLRNS:0</th>\n",
       "      <td>636322</td>\n",
       "    </tr>\n",
       "    <tr>\n",
       "      <th>FLRNS:0</th>\n",
       "      <td>638080</td>\n",
       "    </tr>\n",
       "    <tr>\n",
       "      <th>FLRNS:0</th>\n",
       "      <td>638861</td>\n",
       "    </tr>\n",
       "    <tr>\n",
       "      <th>FLRNS:0</th>\n",
       "      <td>640338</td>\n",
       "    </tr>\n",
       "    <tr>\n",
       "      <th>FLRNS:0</th>\n",
       "      <td>642489</td>\n",
       "    </tr>\n",
       "  </tbody>\n",
       "</table>\n",
       "<p>280 rows × 1 columns</p>\n",
       "</div>"
      ],
      "text/plain": [
       "              idx\n",
       "block_key        \n",
       "FLRNS:0       369\n",
       "FLRNS:0      1726\n",
       "FLRNS:0      1794\n",
       "FLRNS:0      7078\n",
       "FLRNS:0      8121\n",
       "...           ...\n",
       "FLRNS:0    636322\n",
       "FLRNS:0    638080\n",
       "FLRNS:0    638861\n",
       "FLRNS:0    640338\n",
       "FLRNS:0    642489\n",
       "\n",
       "[280 rows x 1 columns]"
      ]
     },
     "execution_count": 47,
     "metadata": {},
     "output_type": "execute_result"
    }
   ],
   "source": [
    "# Inner join to filter blocking_map_persons_only with\n",
    "# blocking_map_persons_only_group_size_filtered_df\n",
    "#\n",
    "blocking_map_persons_only_filtered_df = (\n",
    "    # blocking_map_persons_only_df[blocking_map_persons_only_df[\"block_key\"].isin(blocking_map_persons_only_group_size_filtered_df[\"block_key\"])]\n",
    "    blocking_map_persons_only_df[blocking_map_persons_only_df[\"block_key\"].isin(\n",
    "        flo_ntn_blocks_df[\"block_key\"])]\n",
    "    [[\"block_key\"]]\n",
    "    .reset_index()\n",
    "    .set_index(\"block_key\")\n",
    ")\n",
    "blocking_map_persons_only_filtered_df"
   ]
  },
  {
   "cell_type": "code",
   "execution_count": 81,
   "id": "16dda5b4",
   "metadata": {},
   "outputs": [
    {
     "data": {
      "image/png": "[encoded data removed]",
      "text/plain": [
       "<Figure size 640x480 with 1 Axes>"
      ]
     },
     "metadata": {},
     "output_type": "display_data"
    }
   ],
   "source": [
    "# Histogram of group size\n",
    "import matplotlib.pyplot as plt\n",
    "\n",
    "plt.hist(blocking_map_persons_only_filtered_df.groupby(\n",
    "    \"block_key\").size(), bins=400)\n",
    "plt.xlabel(\"Group Size\")\n",
    "plt.ylabel(\"Frequency\")\n",
    "plt.title(\"Histogram of Group Size\")\n",
    "# use log scale\n",
    "plt.xscale(\"log\")\n",
    "plt.yscale(\"log\")\n",
    "plt.show()"
   ]
  },
  {
   "cell_type": "code",
   "execution_count": 82,
   "id": "888b3b7f",
   "metadata": {},
   "outputs": [
    {
     "data": {
      "image/png": "[encoded data removed]",
      "text/plain": [
       "<Figure size 640x480 with 1 Axes>"
      ]
     },
     "metadata": {},
     "output_type": "display_data"
    }
   ],
   "source": [
    "# Histogram of group size\n",
    "import matplotlib.pyplot as plt\n",
    "\n",
    "plt.hist(blocking_map_persons_only_df.groupby(\"block_key\").size(), bins=400)\n",
    "plt.xlabel(\"Group Size\")\n",
    "plt.ylabel(\"Frequency\")\n",
    "plt.title(\"Histogram of Group Size\")\n",
    "# use log scale\n",
    "plt.xscale(\"log\")\n",
    "plt.yscale(\"log\")\n",
    "plt.show()"
   ]
  },
  {
   "cell_type": "markdown",
   "id": "e146f373",
   "metadata": {},
   "source": [
    "# Prep dictionary pairs"
   ]
  },
  {
   "cell_type": "code",
   "execution_count": 48,
   "id": "b5a184ff",
   "metadata": {},
   "outputs": [
    {
     "data": {
      "application/vnd.microsoft.datawrangler.viewer.v0+json": {
       "columns": [
        {
         "name": "idx",
         "rawType": "int64",
         "type": "integer"
        },
        {
         "name": "dict",
         "rawType": "object",
         "type": "unknown"
        }
       ],
       "ref": "a7cfa0af-5ce2-4770-b7a6-573a8b5de16f",
       "rows": [
        [
         "0",
         "{'label': 'Children', 'type': 'missing'}"
        ],
        [
         "1",
         "{'label': 'Criminal law', 'type': 'missing'}"
        ],
        [
         "2",
         "{'label': 'Gender roles', 'type': 'missing'}"
        ],
        [
         "3",
         "{'label': 'Law', 'type': 'missing'}"
        ],
        [
         "4",
         "{'label': 'Police', 'type': 'missing'}"
        ],
        [
         "5",
         "{'label': 'Women', 'type': 'missing'}"
        ],
        [
         "6",
         "{'label': 'Womyn', 'type': 'missing'}"
        ],
        [
         "7",
         "{'label': 'Youth', 'type': 'missing'}"
        ],
        [
         "8",
         "{'label': 'Circle of State Librarians Conference 1979 : Kew, England)', 'type': 'Meeting'}"
        ],
        [
         "9",
         "{'label': 'Nelson, Geoffrey B. (Geoffrey Brian)', 'type': 'Person'}"
        ],
        [
         "10",
         "{'label': 'Wolff, G.', 'type': 'Person'}"
        ],
        [
         "11",
         "{'label': 'Jones, John E', 'type': 'Person'}"
        ],
        [
         "12",
         "{'label': 'Jones, John E.', 'type': 'Person'}"
        ],
        [
         "13",
         "{'label': 'Hulverscheidt, Marion, 1970-', 'type': 'Person'}"
        ],
        [
         "14",
         "{'label': 'Zimmermann, Wilhelm.', 'type': 'Person'}"
        ],
        [
         "15",
         "{'label': 'Gaur, June.', 'type': 'Person'}"
        ],
        [
         "16",
         "{'label': 'South Cambridgeshire (England)', 'type': 'Place'}"
        ],
        [
         "17",
         "{'label': 'Orel, Harold, 1926-2017.', 'type': 'Person'}"
        ],
        [
         "18",
         "{'label': 'Brown, Bruce, 1942-', 'type': 'Person'}"
        ],
        [
         "19",
         "{'label': 'Economic development - History', 'type': 'Concept'}"
        ],
        [
         "20",
         "{'label': 'Shugar, Andrea.', 'type': 'Person'}"
        ],
        [
         "21",
         "{'label': 'Bruce (Edinburgh, Scotland)', 'type': 'Person'}"
        ],
        [
         "22",
         "{'label': 'Cheeseman, Thomas, 1760-approximately 1835.', 'type': 'Person'}"
        ],
        [
         "23",
         "{'label': 'Hartstein, Jack, 1924-', 'type': 'Person'}"
        ],
        [
         "24",
         "{'label': 'Prujean, Thomas, 1622 or 1623-1662.', 'type': 'Person'}"
        ],
        [
         "25",
         "{'label': 'Freeport, Andrew', 'type': 'Person'}"
        ],
        [
         "26",
         "{'label': 'Databases as Topic - organization & administration', 'type': 'Concept'}"
        ],
        [
         "27",
         "{'label': 'Ideler, Julius Ludwig, 1809-1842', 'type': 'Person'}"
        ],
        [
         "28",
         "{'label': 'Fournier, Alfred Jean, 1832-1914', 'type': 'Agent'}"
        ],
        [
         "29",
         "{'label': 'Royal College of Surgeons in London', 'type': 'Organisation'}"
        ],
        [
         "30",
         "{'label': 'Royal College of Surgeons in London.', 'type': 'Organisation'}"
        ],
        [
         "31",
         "{'label': 'Hernia, Inguinal, therapy', 'type': 'Concept'}"
        ],
        [
         "32",
         "{'label': 'Poor families', 'type': 'Concept'}"
        ],
        [
         "33",
         "{'label': 'Scrimshaw, Jane, 1584-1711.', 'type': 'Person'}"
        ],
        [
         "34",
         "{'label': 'Foster, William', 'type': 'Person'}"
        ],
        [
         "35",
         "{'label': 'Foster, William.', 'type': 'Person'}"
        ],
        [
         "36",
         "{'label': 'Foster, William.', 'type': 'Person'}"
        ],
        [
         "37",
         "{'label': 'da Silva, Christiano', 'type': 'Person'}"
        ],
        [
         "38",
         "{'label': 'Steam-heating', 'type': 'Concept'}"
        ],
        [
         "39",
         "{'label': 'Dental Restoration, Temporary', 'type': 'Concept'}"
        ],
        [
         "40",
         "{'label': 'London Black MESMAC', 'type': 'Organisation'}"
        ],
        [
         "41",
         "{'label': 'London Black Mesmac', 'type': 'Organisation'}"
        ],
        [
         "42",
         "{'label': 'Fellows, Julian R. (Julian Robert), 1900-1985.', 'type': 'Person'}"
        ],
        [
         "43",
         "{'label': 'Subba Reddy, D. V., 1899-1987', 'type': 'Person'}"
        ],
        [
         "44",
         "{'label': 'Subba Reddy, D. V., 1899-1987.', 'type': 'Person'}"
        ],
        [
         "45",
         "{'label': 'Subba Reddy, D. V., 1899-1987.', 'type': 'Person'}"
        ],
        [
         "46",
         "{'label': 'Pneumonia', 'type': 'Concept'}"
        ],
        [
         "47",
         "{'label': 'Pneumonia - Child', 'type': 'Concept'}"
        ],
        [
         "48",
         "{'label': 'Pneumonia - Child, Preschool', 'type': 'Concept'}"
        ],
        [
         "49",
         "{'label': 'Pneumonia - Infant', 'type': 'Concept'}"
        ]
       ],
       "shape": {
        "columns": 1,
        "rows": 646786
       }
      },
      "text/html": [
       "<div>\n",
       "<style scoped>\n",
       "    .dataframe tbody tr th:only-of-type {\n",
       "        vertical-align: middle;\n",
       "    }\n",
       "\n",
       "    .dataframe tbody tr th {\n",
       "        vertical-align: top;\n",
       "    }\n",
       "\n",
       "    .dataframe thead th {\n",
       "        text-align: right;\n",
       "    }\n",
       "</style>\n",
       "<table border=\"1\" class=\"dataframe\">\n",
       "  <thead>\n",
       "    <tr style=\"text-align: right;\">\n",
       "      <th></th>\n",
       "      <th>dict</th>\n",
       "    </tr>\n",
       "    <tr>\n",
       "      <th>idx</th>\n",
       "      <th></th>\n",
       "    </tr>\n",
       "  </thead>\n",
       "  <tbody>\n",
       "    <tr>\n",
       "      <th>0</th>\n",
       "      <td>{'label': 'Children', 'type': 'missing'}</td>\n",
       "    </tr>\n",
       "    <tr>\n",
       "      <th>1</th>\n",
       "      <td>{'label': 'Criminal law', 'type': 'missing'}</td>\n",
       "    </tr>\n",
       "    <tr>\n",
       "      <th>2</th>\n",
       "      <td>{'label': 'Gender roles', 'type': 'missing'}</td>\n",
       "    </tr>\n",
       "    <tr>\n",
       "      <th>3</th>\n",
       "      <td>{'label': 'Law', 'type': 'missing'}</td>\n",
       "    </tr>\n",
       "    <tr>\n",
       "      <th>4</th>\n",
       "      <td>{'label': 'Police', 'type': 'missing'}</td>\n",
       "    </tr>\n",
       "    <tr>\n",
       "      <th>...</th>\n",
       "      <td>...</td>\n",
       "    </tr>\n",
       "    <tr>\n",
       "      <th>646781</th>\n",
       "      <td>{'label': 'Pregnant teenagers - Great Britain ...</td>\n",
       "    </tr>\n",
       "    <tr>\n",
       "      <th>646782</th>\n",
       "      <td>{'label': 'Maddox, Lucy', 'type': 'Person'}</td>\n",
       "    </tr>\n",
       "    <tr>\n",
       "      <th>646783</th>\n",
       "      <td>{'label': 'Rockliffe, Richard William.', 'type...</td>\n",
       "    </tr>\n",
       "    <tr>\n",
       "      <th>646784</th>\n",
       "      <td>{'label': 'Aneurysm - drug therapy', 'type': '...</td>\n",
       "    </tr>\n",
       "    <tr>\n",
       "      <th>646785</th>\n",
       "      <td>{'label': 'Gottfried, Robert Steven, 1949-', '...</td>\n",
       "    </tr>\n",
       "  </tbody>\n",
       "</table>\n",
       "<p>646786 rows × 1 columns</p>\n",
       "</div>"
      ],
      "text/plain": [
       "                                                     dict\n",
       "idx                                                      \n",
       "0                {'label': 'Children', 'type': 'missing'}\n",
       "1            {'label': 'Criminal law', 'type': 'missing'}\n",
       "2            {'label': 'Gender roles', 'type': 'missing'}\n",
       "3                     {'label': 'Law', 'type': 'missing'}\n",
       "4                  {'label': 'Police', 'type': 'missing'}\n",
       "...                                                   ...\n",
       "646781  {'label': 'Pregnant teenagers - Great Britain ...\n",
       "646782        {'label': 'Maddox, Lucy', 'type': 'Person'}\n",
       "646783  {'label': 'Rockliffe, Richard William.', 'type...\n",
       "646784  {'label': 'Aneurysm - drug therapy', 'type': '...\n",
       "646785  {'label': 'Gottfried, Robert Steven, 1949-', '...\n",
       "\n",
       "[646786 rows x 1 columns]"
      ]
     },
     "execution_count": 48,
     "metadata": {},
     "output_type": "execute_result"
    }
   ],
   "source": [
    "full_data_df = pd.DataFrame(\n",
    "    ((idx,\n",
    "    dict(\n",
    "        label=str(\n",
    "            row[\"label\"]),\n",
    "            type=str(\n",
    "                row[\"type\"]))) for idx,\n",
    "                row in dedup_data.iterrows()),\n",
    "                columns=[\n",
    "                    \"idx\",\n",
    "                     \"dict\"])\n",
    "full_data_df.set_index(\"idx\", inplace=True)\n",
    "full_data_df"
   ]
  },
  {
   "cell_type": "markdown",
   "id": "45a60859",
   "metadata": {},
   "source": [
    "## Join dictionary pairs with blocking map"
   ]
  },
  {
   "cell_type": "code",
   "execution_count": 49,
   "id": "be0e6a95",
   "metadata": {},
   "outputs": [
    {
     "data": {
      "application/vnd.microsoft.datawrangler.viewer.v0+json": {
       "columns": [
        {
         "name": "block_key",
         "rawType": "object",
         "type": "string"
        },
        {
         "name": "idx",
         "rawType": "int64",
         "type": "integer"
        },
        {
         "name": "idx_r",
         "rawType": "int64",
         "type": "integer"
        },
        {
         "name": "dict",
         "rawType": "object",
         "type": "unknown"
        },
        {
         "name": "dict_r",
         "rawType": "object",
         "type": "unknown"
        }
       ],
       "ref": "ea25c5fe-e5f5-46a3-95a1-37156acab5da",
       "rows": [
        [
         "FLRNS:0",
         "369",
         "1726",
         "{'label': 'Seibert, Florence B., 1897-1991.', 'type': 'Person'}",
         "{'label': 'Pérez Bautista, Florencio L.', 'type': 'Person'}"
        ],
        [
         "FLRNS:0",
         "369",
         "1794",
         "{'label': 'Seibert, Florence B., 1897-1991.', 'type': 'Person'}",
         "{'label': 'Starling, Florence A.', 'type': 'Person'}"
        ],
        [
         "FLRNS:0",
         "369",
         "7078",
         "{'label': 'Seibert, Florence B., 1897-1991.', 'type': 'Person'}",
         "{'label': 'Lees, Florence Sarah, 1840-1922.', 'type': 'Person'}"
        ],
        [
         "FLRNS:0",
         "369",
         "8121",
         "{'label': 'Seibert, Florence B., 1897-1991.', 'type': 'Person'}",
         "{'label': 'Flourens, P. (Pierre), 1794-1867', 'type': 'Person'}"
        ],
        [
         "FLRNS:0",
         "369",
         "8122",
         "{'label': 'Seibert, Florence B., 1897-1991.', 'type': 'Person'}",
         "{'label': 'Flourens, P. (Pierre), 1794-1867.', 'type': 'Person'}"
        ],
        [
         "FLRNS:0",
         "369",
         "8123",
         "{'label': 'Seibert, Florence B., 1897-1991.', 'type': 'Person'}",
         "{'label': 'Flourens, P. (Pierre), 1794-1867.', 'type': 'Person'}"
        ],
        [
         "FLRNS:0",
         "369",
         "8124",
         "{'label': 'Seibert, Florence B., 1897-1991.', 'type': 'Person'}",
         "{'label': \"Flourens, P. (Pierre), 1794-1867. Détermination des propriétés du système nerveux, ou recherches physiques sur l'irritabilité et la sensibilité\", 'type': 'Agent'}"
        ],
        [
         "FLRNS:0",
         "369",
         "8840",
         "{'label': 'Seibert, Florence B., 1897-1991.', 'type': 'Person'}",
         "{'label': 'Fitzgerald, Alice Louise Florence, 1874-1962.', 'type': 'Person'}"
        ],
        [
         "FLRNS:0",
         "369",
         "10489",
         "{'label': 'Seibert, Florence B., 1897-1991.', 'type': 'Person'}",
         "{'label': 'Brown, Florence Haig (Florence Amelia Haig)', 'type': 'Person'}"
        ],
        [
         "FLRNS:0",
         "369",
         "14704",
         "{'label': 'Seibert, Florence B., 1897-1991.', 'type': 'Person'}",
         "{'label': 'Ward, Florence N.', 'type': 'Person'}"
        ],
        [
         "FLRNS:0",
         "369",
         "17022",
         "{'label': 'Seibert, Florence B., 1897-1991.', 'type': 'Person'}",
         "{'label': 'Milligan, Florence.', 'type': 'Person'}"
        ],
        [
         "FLRNS:0",
         "369",
         "21030",
         "{'label': 'Seibert, Florence B., 1897-1991.', 'type': 'Person'}",
         "{'label': 'Elliott, Florence Eileen, 1905-1996.', 'type': 'Person'}"
        ],
        [
         "FLRNS:0",
         "369",
         "30017",
         "{'label': 'Seibert, Florence B., 1897-1991.', 'type': 'Person'}",
         "{'label': 'Bell, Florence Eveleen Eleanore Olliffe, Lady, 1851-1930.', 'type': 'Person'}"
        ],
        [
         "FLRNS:0",
         "369",
         "30316",
         "{'label': 'Seibert, Florence B., 1897-1991.', 'type': 'Person'}",
         "{'label': 'Jardiel, Florencio.', 'type': 'Person'}"
        ],
        [
         "FLRNS:0",
         "369",
         "34492",
         "{'label': 'Seibert, Florence B., 1897-1991.', 'type': 'Person'}",
         "{'label': 'Chantoury-Lacombe, Florence, 1968-', 'type': 'Person'}"
        ],
        [
         "FLRNS:0",
         "369",
         "40287",
         "{'label': 'Seibert, Florence B., 1897-1991.', 'type': 'Person'}",
         "{'label': 'Flournois, G., fl. ca. 1765-1768', 'type': 'Person'}"
        ],
        [
         "FLRNS:0",
         "369",
         "41435",
         "{'label': 'Seibert, Florence B., 1897-1991.', 'type': 'Person'}",
         "{'label': 'Petty, Florence.', 'type': 'Person'}"
        ],
        [
         "FLRNS:0",
         "369",
         "56010",
         "{'label': 'Seibert, Florence B., 1897-1991.', 'type': 'Person'}",
         "{'label': 'Wertham, Florence E.', 'type': 'Person'}"
        ],
        [
         "FLRNS:0",
         "369",
         "62254",
         "{'label': 'Seibert, Florence B., 1897-1991.', 'type': 'Person'}",
         "{'label': 'Upton, Florence K. (Florence Kate), 1873-1922.', 'type': 'Person'}"
        ],
        [
         "FLRNS:0",
         "369",
         "62629",
         "{'label': 'Seibert, Florence B., 1897-1991.', 'type': 'Person'}",
         "{'label': 'Glaze, Florence Eliza', 'type': 'Person'}"
        ],
        [
         "FLRNS:0",
         "369",
         "65498",
         "{'label': 'Seibert, Florence B., 1897-1991.', 'type': 'Person'}",
         "{'label': 'Seibert, Florence B.', 'type': 'Person'}"
        ],
        [
         "FLRNS:0",
         "369",
         "67300",
         "{'label': 'Seibert, Florence B., 1897-1991.', 'type': 'Person'}",
         "{'label': 'Stacpoole, Florence', 'type': 'Person'}"
        ],
        [
         "FLRNS:0",
         "369",
         "67301",
         "{'label': 'Seibert, Florence B., 1897-1991.', 'type': 'Person'}",
         "{'label': 'Stacpoole, Florence.', 'type': 'Person'}"
        ],
        [
         "FLRNS:0",
         "369",
         "69726",
         "{'label': 'Seibert, Florence B., 1897-1991.', 'type': 'Person'}",
         "{'label': 'Sabin, Florence Rena, 1871-1953.', 'type': 'Person'}"
        ],
        [
         "FLRNS:0",
         "369",
         "70914",
         "{'label': 'Seibert, Florence B., 1897-1991.', 'type': 'Person'}",
         "{'label': 'Andrews, Florence', 'type': 'Person'}"
        ],
        [
         "FLRNS:0",
         "369",
         "72891",
         "{'label': 'Seibert, Florence B., 1897-1991.', 'type': 'Person'}",
         "{'label': '{acute}Epinay, Louise Florence P{acute}etronille Tardieu d{acute}Esclavelles, marquise d{acute}', 'type': 'Person'}"
        ],
        [
         "FLRNS:0",
         "369",
         "73991",
         "{'label': 'Seibert, Florence B., 1897-1991.', 'type': 'Person'}",
         "{'label': 'Pollet, Victor Florence, 1811-1882.', 'type': 'Person'}"
        ],
        [
         "FLRNS:0",
         "369",
         "75482",
         "{'label': 'Seibert, Florence B., 1897-1991.', 'type': 'Person'}",
         "{'label': 'Pye, Orrea Florence, 1907-', 'type': 'Person'}"
        ],
        [
         "FLRNS:0",
         "369",
         "82611",
         "{'label': 'Seibert, Florence B., 1897-1991.', 'type': 'Person'}",
         "{'label': 'McQuillan, Florence L.', 'type': 'Person'}"
        ],
        [
         "FLRNS:0",
         "369",
         "84067",
         "{'label': 'Seibert, Florence B., 1897-1991.', 'type': 'Person'}",
         "{'label': 'Horspool, Florence.', 'type': 'Person'}"
        ],
        [
         "FLRNS:0",
         "369",
         "87516",
         "{'label': 'Seibert, Florence B., 1897-1991.', 'type': 'Person'}",
         "{'label': 'Nightingale, Florence, 1820-1910.', 'type': 'Person'}"
        ],
        [
         "FLRNS:0",
         "369",
         "87517",
         "{'label': 'Seibert, Florence B., 1897-1991.', 'type': 'Person'}",
         "{'label': 'Nightingale, Florence, 1820-1910. Notes on nursing.', 'type': 'Agent'}"
        ],
        [
         "FLRNS:0",
         "369",
         "87518",
         "{'label': 'Seibert, Florence B., 1897-1991.', 'type': 'Person'}",
         "{'label': 'Nightingale, Florence, 1820-1910. Notes on nursing.', 'type': 'Person'}"
        ],
        [
         "FLRNS:0",
         "369",
         "87519",
         "{'label': 'Seibert, Florence B., 1897-1991.', 'type': 'Person'}",
         "{'label': 'Nightingale, Florence, 1820-1910. Notes on nursing. Dutch.', 'type': 'Agent'}"
        ],
        [
         "FLRNS:0",
         "369",
         "87727",
         "{'label': 'Seibert, Florence B., 1897-1991.', 'type': 'Person'}",
         "{'label': 'Surfleet, Florence.', 'type': 'Person'}"
        ],
        [
         "FLRNS:0",
         "369",
         "88374",
         "{'label': 'Seibert, Florence B., 1897-1991.', 'type': 'Person'}",
         "{'label': 'Wolfe, Florence Topal.', 'type': 'Person'}"
        ],
        [
         "FLRNS:0",
         "369",
         "89662",
         "{'label': 'Seibert, Florence B., 1897-1991.', 'type': 'Person'}",
         "{'label': 'Irwin, Florence, 1883-1965.', 'type': 'Person'}"
        ],
        [
         "FLRNS:0",
         "369",
         "90400",
         "{'label': 'Seibert, Florence B., 1897-1991.', 'type': 'Person'}",
         "{'label': 'Veillith, Florence.', 'type': 'Person'}"
        ],
        [
         "FLRNS:0",
         "369",
         "92564",
         "{'label': 'Seibert, Florence B., 1897-1991.', 'type': 'Person'}",
         "{'label': 'Raudorff, Florianus.', 'type': 'Person'}"
        ],
        [
         "FLRNS:0",
         "369",
         "96975",
         "{'label': 'Seibert, Florence B., 1897-1991.', 'type': 'Person'}",
         "{'label': 'George, Florence A.', 'type': 'Person'}"
        ],
        [
         "FLRNS:0",
         "369",
         "111955",
         "{'label': 'Seibert, Florence B., 1897-1991.', 'type': 'Person'}",
         "{'label': 'Kavaler, Florence.', 'type': 'Person'}"
        ],
        [
         "FLRNS:0",
         "369",
         "113060",
         "{'label': 'Seibert, Florence B., 1897-1991.', 'type': 'Person'}",
         "{'label': 'Bruni, Francesco, of Florence.', 'type': 'Person'}"
        ],
        [
         "FLRNS:0",
         "369",
         "119438",
         "{'label': 'Seibert, Florence B., 1897-1991.', 'type': 'Person'}",
         "{'label': 'Bascom, F. (Florence), 1862-1945.', 'type': 'Person'}"
        ],
        [
         "FLRNS:0",
         "369",
         "121136",
         "{'label': 'Seibert, Florence B., 1897-1991.', 'type': 'Person'}",
         "{'label': \"Erchia, Florenzo d'.\", 'type': 'Person'}"
        ],
        [
         "FLRNS:0",
         "369",
         "121939",
         "{'label': 'Seibert, Florence B., 1897-1991.', 'type': 'Person'}",
         "{'label': 'Flourens P. (Pierre), 1794-1867.', 'type': 'Person'}"
        ],
        [
         "FLRNS:0",
         "369",
         "123098",
         "{'label': 'Seibert, Florence B., 1897-1991.', 'type': 'Person'}",
         "{'label': 'Ledger, Florence E.', 'type': 'Person'}"
        ],
        [
         "FLRNS:0",
         "369",
         "129536",
         "{'label': 'Seibert, Florence B., 1897-1991.', 'type': 'Person'}",
         "{'label': 'Durand, Florence.', 'type': 'Person'}"
        ],
        [
         "FLRNS:0",
         "369",
         "129836",
         "{'label': 'Seibert, Florence B., 1897-1991.', 'type': 'Person'}",
         "{'label': 'Halpern, Florence, 1900-1981.', 'type': 'Person'}"
        ],
        [
         "FLRNS:0",
         "369",
         "130716",
         "{'label': 'Seibert, Florence B., 1897-1991.', 'type': 'Person'}",
         "{'label': 'Wood, Florence.', 'type': 'Person'}"
        ],
        [
         "FLRNS:0",
         "369",
         "132318",
         "{'label': 'Seibert, Florence B., 1897-1991.', 'type': 'Person'}",
         "{'label': 'Ljunggren, Florence.', 'type': 'Person'}"
        ]
       ],
       "shape": {
        "columns": 4,
        "rows": 26852
       }
      },
      "text/html": [
       "<div>\n",
       "<style scoped>\n",
       "    .dataframe tbody tr th:only-of-type {\n",
       "        vertical-align: middle;\n",
       "    }\n",
       "\n",
       "    .dataframe tbody tr th {\n",
       "        vertical-align: top;\n",
       "    }\n",
       "\n",
       "    .dataframe thead th {\n",
       "        text-align: right;\n",
       "    }\n",
       "</style>\n",
       "<table border=\"1\" class=\"dataframe\">\n",
       "  <thead>\n",
       "    <tr style=\"text-align: right;\">\n",
       "      <th></th>\n",
       "      <th>idx</th>\n",
       "      <th>idx_r</th>\n",
       "      <th>dict</th>\n",
       "      <th>dict_r</th>\n",
       "    </tr>\n",
       "    <tr>\n",
       "      <th>block_key</th>\n",
       "      <th></th>\n",
       "      <th></th>\n",
       "      <th></th>\n",
       "      <th></th>\n",
       "    </tr>\n",
       "  </thead>\n",
       "  <tbody>\n",
       "    <tr>\n",
       "      <th>FLRNS:0</th>\n",
       "      <td>369</td>\n",
       "      <td>1726</td>\n",
       "      <td>{'label': 'Seibert, Florence B., 1897-1991.', ...</td>\n",
       "      <td>{'label': 'Pérez Bautista, Florencio L.', 'typ...</td>\n",
       "    </tr>\n",
       "    <tr>\n",
       "      <th>FLRNS:0</th>\n",
       "      <td>369</td>\n",
       "      <td>1794</td>\n",
       "      <td>{'label': 'Seibert, Florence B., 1897-1991.', ...</td>\n",
       "      <td>{'label': 'Starling, Florence A.', 'type': 'Pe...</td>\n",
       "    </tr>\n",
       "    <tr>\n",
       "      <th>FLRNS:0</th>\n",
       "      <td>369</td>\n",
       "      <td>7078</td>\n",
       "      <td>{'label': 'Seibert, Florence B., 1897-1991.', ...</td>\n",
       "      <td>{'label': 'Lees, Florence Sarah, 1840-1922.', ...</td>\n",
       "    </tr>\n",
       "    <tr>\n",
       "      <th>FLRNS:0</th>\n",
       "      <td>369</td>\n",
       "      <td>8121</td>\n",
       "      <td>{'label': 'Seibert, Florence B., 1897-1991.', ...</td>\n",
       "      <td>{'label': 'Flourens, P. (Pierre), 1794-1867', ...</td>\n",
       "    </tr>\n",
       "    <tr>\n",
       "      <th>FLRNS:0</th>\n",
       "      <td>369</td>\n",
       "      <td>8122</td>\n",
       "      <td>{'label': 'Seibert, Florence B., 1897-1991.', ...</td>\n",
       "      <td>{'label': 'Flourens, P. (Pierre), 1794-1867.',...</td>\n",
       "    </tr>\n",
       "    <tr>\n",
       "      <th>...</th>\n",
       "      <td>...</td>\n",
       "      <td>...</td>\n",
       "      <td>...</td>\n",
       "      <td>...</td>\n",
       "    </tr>\n",
       "    <tr>\n",
       "      <th>FLRNS:0</th>\n",
       "      <td>638080</td>\n",
       "      <td>640338</td>\n",
       "      <td>{'label': 'La Live, Louise Florence Pétronille...</td>\n",
       "      <td>{'label': 'Ball, Florence V.', 'type': 'Person'}</td>\n",
       "    </tr>\n",
       "    <tr>\n",
       "      <th>FLRNS:0</th>\n",
       "      <td>638080</td>\n",
       "      <td>642489</td>\n",
       "      <td>{'label': 'La Live, Louise Florence Pétronille...</td>\n",
       "      <td>{'label': 'Small, Florence Hardy, 1860?-1933',...</td>\n",
       "    </tr>\n",
       "    <tr>\n",
       "      <th>FLRNS:0</th>\n",
       "      <td>638861</td>\n",
       "      <td>640338</td>\n",
       "      <td>{'label': 'Gardiner, Florence Mary.', 'type': ...</td>\n",
       "      <td>{'label': 'Ball, Florence V.', 'type': 'Person'}</td>\n",
       "    </tr>\n",
       "    <tr>\n",
       "      <th>FLRNS:0</th>\n",
       "      <td>638861</td>\n",
       "      <td>642489</td>\n",
       "      <td>{'label': 'Gardiner, Florence Mary.', 'type': ...</td>\n",
       "      <td>{'label': 'Small, Florence Hardy, 1860?-1933',...</td>\n",
       "    </tr>\n",
       "    <tr>\n",
       "      <th>FLRNS:0</th>\n",
       "      <td>640338</td>\n",
       "      <td>642489</td>\n",
       "      <td>{'label': 'Ball, Florence V.', 'type': 'Person'}</td>\n",
       "      <td>{'label': 'Small, Florence Hardy, 1860?-1933',...</td>\n",
       "    </tr>\n",
       "  </tbody>\n",
       "</table>\n",
       "<p>26852 rows × 4 columns</p>\n",
       "</div>"
      ],
      "text/plain": [
       "              idx   idx_r                                               dict  \\\n",
       "block_key                                                                      \n",
       "FLRNS:0       369    1726  {'label': 'Seibert, Florence B., 1897-1991.', ...   \n",
       "FLRNS:0       369    1794  {'label': 'Seibert, Florence B., 1897-1991.', ...   \n",
       "FLRNS:0       369    7078  {'label': 'Seibert, Florence B., 1897-1991.', ...   \n",
       "FLRNS:0       369    8121  {'label': 'Seibert, Florence B., 1897-1991.', ...   \n",
       "FLRNS:0       369    8122  {'label': 'Seibert, Florence B., 1897-1991.', ...   \n",
       "...           ...     ...                                                ...   \n",
       "FLRNS:0    638080  640338  {'label': 'La Live, Louise Florence Pétronille...   \n",
       "FLRNS:0    638080  642489  {'label': 'La Live, Louise Florence Pétronille...   \n",
       "FLRNS:0    638861  640338  {'label': 'Gardiner, Florence Mary.', 'type': ...   \n",
       "FLRNS:0    638861  642489  {'label': 'Gardiner, Florence Mary.', 'type': ...   \n",
       "FLRNS:0    640338  642489   {'label': 'Ball, Florence V.', 'type': 'Person'}   \n",
       "\n",
       "                                                      dict_r  \n",
       "block_key                                                     \n",
       "FLRNS:0    {'label': 'Pérez Bautista, Florencio L.', 'typ...  \n",
       "FLRNS:0    {'label': 'Starling, Florence A.', 'type': 'Pe...  \n",
       "FLRNS:0    {'label': 'Lees, Florence Sarah, 1840-1922.', ...  \n",
       "FLRNS:0    {'label': 'Flourens, P. (Pierre), 1794-1867', ...  \n",
       "FLRNS:0    {'label': 'Flourens, P. (Pierre), 1794-1867.',...  \n",
       "...                                                      ...  \n",
       "FLRNS:0     {'label': 'Ball, Florence V.', 'type': 'Person'}  \n",
       "FLRNS:0    {'label': 'Small, Florence Hardy, 1860?-1933',...  \n",
       "FLRNS:0     {'label': 'Ball, Florence V.', 'type': 'Person'}  \n",
       "FLRNS:0    {'label': 'Small, Florence Hardy, 1860?-1933',...  \n",
       "FLRNS:0    {'label': 'Small, Florence Hardy, 1860?-1933',...  \n",
       "\n",
       "[26852 rows x 4 columns]"
      ]
     },
     "execution_count": 49,
     "metadata": {},
     "output_type": "execute_result"
    }
   ],
   "source": [
    "blocking_result_df = (\n",
    "    blocking_map_persons_only_filtered_df.join(\n",
    "        blocking_map_persons_only_filtered_df,\n",
    "        rsuffix=\"_r\",\n",
    "        on=\"block_key\") .query('idx < idx_r') .join(\n",
    "            full_data_df,\n",
    "            on=\"idx\") .join(\n",
    "                full_data_df,\n",
    "                on=\"idx_r\",\n",
    "                 rsuffix=\"_r\") )\n",
    "blocking_result_df"
   ]
  },
  {
   "cell_type": "code",
   "execution_count": 22,
   "id": "93acf723",
   "metadata": {},
   "outputs": [],
   "source": [
    "blocking_result_df.to_parquet(\"../data/dn_labels_blocking_map.parquet\", index=True)"
   ]
  },
  {
   "cell_type": "code",
   "execution_count": 23,
   "id": "dc82e3f6",
   "metadata": {},
   "outputs": [
    {
     "data": {
      "application/vnd.microsoft.datawrangler.viewer.v0+json": {
       "columns": [
        {
         "name": "block_key",
         "rawType": "object",
         "type": "string"
        },
        {
         "name": "idx",
         "rawType": "int64",
         "type": "integer"
        },
        {
         "name": "idx_r",
         "rawType": "int64",
         "type": "integer"
        },
        {
         "name": "dict",
         "rawType": "object",
         "type": "unknown"
        },
        {
         "name": "dict_r",
         "rawType": "object",
         "type": "unknown"
        }
       ],
       "ref": "df9dd7f8-9140-472a-9546-cf9bd0a70c00",
       "rows": [
        [
         "1:1",
         "0",
         "228859",
         "{'label': 'Children', 'type': 'missing'}",
         "{'label': 'Children', 'type': 'Concept'}"
        ],
        [
         "1:1",
         "0",
         "264402",
         "{'label': 'Children', 'type': 'missing'}",
         "{'label': 'Children', 'type': 'Concept'}"
        ],
        [
         "Criminal law:0",
         "1",
         "102628",
         "{'label': 'Criminal law', 'type': 'missing'}",
         "{'label': 'Criminal law (Roman law) - Early works to 1800', 'type': 'Concept'}"
        ],
        [
         "Criminal law:0",
         "1",
         "180893",
         "{'label': 'Criminal law', 'type': 'missing'}",
         "{'label': 'Criminal law - United States - History', 'type': 'Concept'}"
        ],
        [
         "Criminal law:0",
         "1",
         "306835",
         "{'label': 'Criminal law', 'type': 'missing'}",
         "{'label': 'Criminal law', 'type': 'Concept'}"
        ],
        [
         "Criminal law:0",
         "1",
         "306836",
         "{'label': 'Criminal law', 'type': 'missing'}",
         "{'label': 'Criminal law - Women', 'type': 'Concept'}"
        ],
        [
         "Criminal law:0",
         "1",
         "323958",
         "{'label': 'Criminal law', 'type': 'missing'}",
         "{'label': 'Criminal law', 'type': 'Concept'}"
        ],
        [
         "Criminal law:0",
         "1",
         "473004",
         "{'label': 'Criminal law', 'type': 'missing'}",
         "{'label': 'Criminal law - Europe - Periodicals', 'type': 'Concept'}"
        ],
        [
         "Criminal law:0",
         "1",
         "486686",
         "{'label': 'Criminal law', 'type': 'missing'}",
         "{'label': 'Criminal law - England - 17th century - Cases - Early works to 1800', 'type': 'Concept'}"
        ],
        [
         "Criminal law:0",
         "1",
         "578269",
         "{'label': 'Criminal law', 'type': 'missing'}",
         "{'label': 'Criminal law - United States', 'type': 'Concept'}"
        ],
        [
         "Criminal law:0",
         "1",
         "610625",
         "{'label': 'Criminal law', 'type': 'missing'}",
         "{'label': 'Criminal law - United States - Periodicals', 'type': 'Concept'}"
        ],
        [
         "4:1",
         "3",
         "229719",
         "{'label': 'Law', 'type': 'missing'}",
         "{'label': 'Law', 'type': 'Concept'}"
        ],
        [
         "4:1",
         "3",
         "229720",
         "{'label': 'Law', 'type': 'missing'}",
         "{'label': 'Law', 'type': 'GenreConcept'}"
        ],
        [
         "4:1",
         "3",
         "268006",
         "{'label': 'Law', 'type': 'missing'}",
         "{'label': 'Lawyer', 'type': 'Person'}"
        ],
        [
         "4:1",
         "3",
         "297361",
         "{'label': 'Law', 'type': 'missing'}",
         "{'label': 'Law, Dr.', 'type': 'Person'}"
        ],
        [
         "4:1",
         "3",
         "432526",
         "{'label': 'Law', 'type': 'missing'}",
         "{'label': 'Laws', 'type': 'Concept'}"
        ],
        [
         "4:1",
         "3",
         "432527",
         "{'label': 'Law', 'type': 'missing'}",
         "{'label': 'Laws', 'type': 'GenreConcept'}"
        ],
        [
         "4:1",
         "3",
         "547222",
         "{'label': 'Law', 'type': 'missing'}",
         "{'label': 'Law, C.', 'type': 'Person'}"
        ],
        [
         "4:1",
         "3",
         "594775",
         "{'label': 'Law', 'type': 'missing'}",
         "{'label': 'Law', 'type': 'Concept'}"
        ],
        [
         "5:1",
         "4",
         "53088",
         "{'label': 'Police', 'type': 'missing'}",
         "{'label': 'Police', 'type': 'Concept'}"
        ],
        [
         "5:1",
         "4",
         "199418",
         "{'label': 'Police', 'type': 'missing'}",
         "{'label': 'Police', 'type': 'Concept'}"
        ],
        [
         "5:1",
         "4",
         "205048",
         "{'label': 'Police', 'type': 'missing'}",
         "{'label': 'Police', 'type': 'Concept'}"
        ],
        [
         "5:1",
         "4",
         "543241",
         "{'label': 'Police', 'type': 'missing'}",
         "{'label': 'Pox', 'type': 'Concept'}"
        ],
        [
         "8:1",
         "7",
         "131304",
         "{'label': 'Youth', 'type': 'missing'}",
         "{'label': 'Youth', 'type': 'Concept'}"
        ],
        [
         "8:1",
         "7",
         "131305",
         "{'label': 'Youth', 'type': 'missing'}",
         "{'label': 'Youth', 'type': 'Person'}"
        ],
        [
         "8:1",
         "7",
         "304922",
         "{'label': 'Youth', 'type': 'missing'}",
         "{'label': 'Yod.', 'type': 'Person'}"
        ],
        [
         "8:1",
         "7",
         "343620",
         "{'label': 'Youth', 'type': 'missing'}",
         "{'label': 'Youth', 'type': 'Concept'}"
        ],
        [
         "Circle of:0",
         "8",
         "219111",
         "{'label': 'Circle of State Librarians Conference 1979 : Kew, England)', 'type': 'Meeting'}",
         "{'label': 'Circle of State Librarians.', 'type': 'Organisation'}"
        ],
        [
         "Circle of:0",
         "8",
         "370977",
         "{'label': 'Circle of State Librarians Conference 1979 : Kew, England)', 'type': 'Meeting'}",
         "{'label': 'Circle of Willis', 'type': 'Concept'}"
        ],
        [
         "Circle of:0",
         "8",
         "509225",
         "{'label': 'Circle of State Librarians Conference 1979 : Kew, England)', 'type': 'Meeting'}",
         "{'label': 'Circle of Willis', 'type': 'Concept'}"
        ],
        [
         "10:1",
         "9",
         "1186",
         "{'label': 'Nelson, Geoffrey B. (Geoffrey Brian)', 'type': 'Person'}",
         "{'label': 'Nowell-Smith, Geoffrey.', 'type': 'Person'}"
        ],
        [
         "10:1",
         "9",
         "4816",
         "{'label': 'Nelson, Geoffrey B. (Geoffrey Brian)', 'type': 'Person'}",
         "{'label': 'Wakeman, Geoffrey.', 'type': 'Person'}"
        ],
        [
         "10:1",
         "9",
         "7584",
         "{'label': 'Nelson, Geoffrey B. (Geoffrey Brian)', 'type': 'Person'}",
         "{'label': 'Sherington, Geoffrey.', 'type': 'Person'}"
        ],
        [
         "10:1",
         "9",
         "9821",
         "{'label': 'Nelson, Geoffrey B. (Geoffrey Brian)', 'type': 'Person'}",
         "{'label': 'Bowker, Geoffrey C.', 'type': 'Person'}"
        ],
        [
         "10:1",
         "9",
         "11643",
         "{'label': 'Nelson, Geoffrey B. (Geoffrey Brian)', 'type': 'Person'}",
         "{'label': 'Rushman, G. B. (Geoffrey B.)', 'type': 'Person'}"
        ],
        [
         "10:1",
         "9",
         "13094",
         "{'label': 'Nelson, Geoffrey B. (Geoffrey Brian)', 'type': 'Person'}",
         "{'label': 'Keynes, Geoffrey, Sir.', 'type': 'Person'}"
        ],
        [
         "10:1",
         "9",
         "13096",
         "{'label': 'Nelson, Geoffrey B. (Geoffrey Brian)', 'type': 'Person'}",
         "{'label': 'Muller, Geoffrey', 'type': 'Person'}"
        ],
        [
         "10:1",
         "9",
         "14679",
         "{'label': 'Nelson, Geoffrey B. (Geoffrey Brian)', 'type': 'Person'}",
         "{'label': 'Redmond, Geoffrey P.', 'type': 'Person'}"
        ],
        [
         "10:1",
         "9",
         "18234",
         "{'label': 'Nelson, Geoffrey B. (Geoffrey Brian)', 'type': 'Person'}",
         "{'label': 'Chisholm, Geoffrey D. (Geoffrey Duncan), 1931-1994.', 'type': 'Person'}"
        ],
        [
         "10:1",
         "9",
         "23092",
         "{'label': 'Nelson, Geoffrey B. (Geoffrey Brian)', 'type': 'Person'}",
         "{'label': 'Swainson, Geoffrey.', 'type': 'Person'}"
        ],
        [
         "10:1",
         "9",
         "26972",
         "{'label': 'Nelson, Geoffrey B. (Geoffrey Brian)', 'type': 'Person'}",
         "{'label': 'Pasvol, G. (Geoffrey)', 'type': 'Person'}"
        ],
        [
         "10:1",
         "9",
         "29193",
         "{'label': 'Nelson, Geoffrey B. (Geoffrey Brian)', 'type': 'Person'}",
         "{'label': 'Gill, Geoffrey V.', 'type': 'Person'}"
        ],
        [
         "10:1",
         "9",
         "29992",
         "{'label': 'Nelson, Geoffrey B. (Geoffrey Brian)', 'type': 'Person'}",
         "{'label': 'Jaffrey, George', 'type': 'Person'}"
        ],
        [
         "10:1",
         "9",
         "30011",
         "{'label': 'Nelson, Geoffrey B. (Geoffrey Brian)', 'type': 'Person'}",
         "{'label': 'Hall, Geoffry C.', 'type': 'Person'}"
        ],
        [
         "10:1",
         "9",
         "30446",
         "{'label': 'Nelson, Geoffrey B. (Geoffrey Brian)', 'type': 'Person'}",
         "{'label': 'Meynell, G. G. (Geoffrey Guy)', 'type': 'Person'}"
        ],
        [
         "10:1",
         "9",
         "31440",
         "{'label': 'Nelson, Geoffrey B. (Geoffrey Brian)', 'type': 'Person'}",
         "{'label': 'Hunt, Geoffrey, 1947-', 'type': 'Person'}"
        ],
        [
         "10:1",
         "9",
         "32194",
         "{'label': 'Nelson, Geoffrey B. (Geoffrey Brian)', 'type': 'Person'}",
         "{'label': 'Crabbe, Geoffrey.', 'type': 'Person'}"
        ],
        [
         "10:1",
         "9",
         "36404",
         "{'label': 'Nelson, Geoffrey B. (Geoffrey Brian)', 'type': 'Person'}",
         "{'label': 'Glaister, Geoffrey Ashall.', 'type': 'Person'}"
        ],
        [
         "10:1",
         "9",
         "40609",
         "{'label': 'Nelson, Geoffrey B. (Geoffrey Brian)', 'type': 'Person'}",
         "{'label': 'Norman, Geoffrey R.', 'type': 'Person'}"
        ],
        [
         "10:1",
         "9",
         "41596",
         "{'label': 'Nelson, Geoffrey B. (Geoffrey Brian)', 'type': 'Person'}",
         "{'label': 'Rushman, G. B. (Geoffrey B.)', 'type': 'Person'}"
        ]
       ],
       "shape": {
        "columns": 4,
        "rows": 10016815
       }
      },
      "text/html": [
       "<div>\n",
       "<style scoped>\n",
       "    .dataframe tbody tr th:only-of-type {\n",
       "        vertical-align: middle;\n",
       "    }\n",
       "\n",
       "    .dataframe tbody tr th {\n",
       "        vertical-align: top;\n",
       "    }\n",
       "\n",
       "    .dataframe thead th {\n",
       "        text-align: right;\n",
       "    }\n",
       "</style>\n",
       "<table border=\"1\" class=\"dataframe\">\n",
       "  <thead>\n",
       "    <tr style=\"text-align: right;\">\n",
       "      <th></th>\n",
       "      <th>idx</th>\n",
       "      <th>idx_r</th>\n",
       "      <th>dict</th>\n",
       "      <th>dict_r</th>\n",
       "    </tr>\n",
       "    <tr>\n",
       "      <th>block_key</th>\n",
       "      <th></th>\n",
       "      <th></th>\n",
       "      <th></th>\n",
       "      <th></th>\n",
       "    </tr>\n",
       "  </thead>\n",
       "  <tbody>\n",
       "    <tr>\n",
       "      <th>1:1</th>\n",
       "      <td>0</td>\n",
       "      <td>228859</td>\n",
       "      <td>{'label': 'Children', 'type': 'missing'}</td>\n",
       "      <td>{'label': 'Children', 'type': 'Concept'}</td>\n",
       "    </tr>\n",
       "    <tr>\n",
       "      <th>1:1</th>\n",
       "      <td>0</td>\n",
       "      <td>264402</td>\n",
       "      <td>{'label': 'Children', 'type': 'missing'}</td>\n",
       "      <td>{'label': 'Children', 'type': 'Concept'}</td>\n",
       "    </tr>\n",
       "    <tr>\n",
       "      <th>Criminal law:0</th>\n",
       "      <td>1</td>\n",
       "      <td>102628</td>\n",
       "      <td>{'label': 'Criminal law', 'type': 'missing'}</td>\n",
       "      <td>{'label': 'Criminal law (Roman law) - Early wo...</td>\n",
       "    </tr>\n",
       "    <tr>\n",
       "      <th>Criminal law:0</th>\n",
       "      <td>1</td>\n",
       "      <td>180893</td>\n",
       "      <td>{'label': 'Criminal law', 'type': 'missing'}</td>\n",
       "      <td>{'label': 'Criminal law - United States - Hist...</td>\n",
       "    </tr>\n",
       "    <tr>\n",
       "      <th>Criminal law:0</th>\n",
       "      <td>1</td>\n",
       "      <td>306835</td>\n",
       "      <td>{'label': 'Criminal law', 'type': 'missing'}</td>\n",
       "      <td>{'label': 'Criminal law', 'type': 'Concept'}</td>\n",
       "    </tr>\n",
       "    <tr>\n",
       "      <th>...</th>\n",
       "      <td>...</td>\n",
       "      <td>...</td>\n",
       "      <td>...</td>\n",
       "      <td>...</td>\n",
       "    </tr>\n",
       "    <tr>\n",
       "      <th>562276:1</th>\n",
       "      <td>646760</td>\n",
       "      <td>646761</td>\n",
       "      <td>{'label': 'Mather, Cotton, 1663-1728. Wonders ...</td>\n",
       "      <td>{'label': 'Mather, Cotton, 1663-1728. Wonders ...</td>\n",
       "    </tr>\n",
       "    <tr>\n",
       "      <th>562276:1</th>\n",
       "      <td>646760</td>\n",
       "      <td>646762</td>\n",
       "      <td>{'label': 'Mather, Cotton, 1663-1728. Wonders ...</td>\n",
       "      <td>{'label': 'Mather, Cotton, 1663-1728. Wonders ...</td>\n",
       "    </tr>\n",
       "    <tr>\n",
       "      <th>Mather Cotton:0</th>\n",
       "      <td>646761</td>\n",
       "      <td>646762</td>\n",
       "      <td>{'label': 'Mather, Cotton, 1663-1728. Wonders ...</td>\n",
       "      <td>{'label': 'Mather, Cotton, 1663-1728. Wonders ...</td>\n",
       "    </tr>\n",
       "    <tr>\n",
       "      <th>562276:1</th>\n",
       "      <td>646761</td>\n",
       "      <td>646762</td>\n",
       "      <td>{'label': 'Mather, Cotton, 1663-1728. Wonders ...</td>\n",
       "      <td>{'label': 'Mather, Cotton, 1663-1728. Wonders ...</td>\n",
       "    </tr>\n",
       "    <tr>\n",
       "      <th>Kings Fund:0</th>\n",
       "      <td>646765</td>\n",
       "      <td>646766</td>\n",
       "      <td>{'label': 'King's Fund Hospital Centre (London...</td>\n",
       "      <td>{'label': 'King's Fund Hospital Centre (London...</td>\n",
       "    </tr>\n",
       "  </tbody>\n",
       "</table>\n",
       "<p>10016815 rows × 4 columns</p>\n",
       "</div>"
      ],
      "text/plain": [
       "                    idx   idx_r  \\\n",
       "block_key                         \n",
       "1:1                   0  228859   \n",
       "1:1                   0  264402   \n",
       "Criminal law:0        1  102628   \n",
       "Criminal law:0        1  180893   \n",
       "Criminal law:0        1  306835   \n",
       "...                 ...     ...   \n",
       "562276:1         646760  646761   \n",
       "562276:1         646760  646762   \n",
       "Mather Cotton:0  646761  646762   \n",
       "562276:1         646761  646762   \n",
       "Kings Fund:0     646765  646766   \n",
       "\n",
       "                                                              dict  \\\n",
       "block_key                                                            \n",
       "1:1                       {'label': 'Children', 'type': 'missing'}   \n",
       "1:1                       {'label': 'Children', 'type': 'missing'}   \n",
       "Criminal law:0        {'label': 'Criminal law', 'type': 'missing'}   \n",
       "Criminal law:0        {'label': 'Criminal law', 'type': 'missing'}   \n",
       "Criminal law:0        {'label': 'Criminal law', 'type': 'missing'}   \n",
       "...                                                            ...   \n",
       "562276:1         {'label': 'Mather, Cotton, 1663-1728. Wonders ...   \n",
       "562276:1         {'label': 'Mather, Cotton, 1663-1728. Wonders ...   \n",
       "Mather Cotton:0  {'label': 'Mather, Cotton, 1663-1728. Wonders ...   \n",
       "562276:1         {'label': 'Mather, Cotton, 1663-1728. Wonders ...   \n",
       "Kings Fund:0     {'label': 'King's Fund Hospital Centre (London...   \n",
       "\n",
       "                                                            dict_r  \n",
       "block_key                                                           \n",
       "1:1                       {'label': 'Children', 'type': 'Concept'}  \n",
       "1:1                       {'label': 'Children', 'type': 'Concept'}  \n",
       "Criminal law:0   {'label': 'Criminal law (Roman law) - Early wo...  \n",
       "Criminal law:0   {'label': 'Criminal law - United States - Hist...  \n",
       "Criminal law:0        {'label': 'Criminal law', 'type': 'Concept'}  \n",
       "...                                                            ...  \n",
       "562276:1         {'label': 'Mather, Cotton, 1663-1728. Wonders ...  \n",
       "562276:1         {'label': 'Mather, Cotton, 1663-1728. Wonders ...  \n",
       "Mather Cotton:0  {'label': 'Mather, Cotton, 1663-1728. Wonders ...  \n",
       "562276:1         {'label': 'Mather, Cotton, 1663-1728. Wonders ...  \n",
       "Kings Fund:0     {'label': 'King's Fund Hospital Centre (London...  \n",
       "\n",
       "[10016815 rows x 4 columns]"
      ]
     },
     "execution_count": 23,
     "metadata": {},
     "output_type": "execute_result"
    }
   ],
   "source": [
    "import pandas as pd\n",
    "blocking_result_df = pd.read_parquet(\"../data/dn_labels_blocking_map.parquet\")\n",
    "blocking_result_df"
   ]
  },
  {
   "cell_type": "markdown",
   "id": "c544cea2",
   "metadata": {},
   "source": [
    "# Score Clusters"
   ]
  },
  {
   "cell_type": "code",
   "execution_count": 50,
   "id": "0a7f4ecc",
   "metadata": {},
   "outputs": [
    {
     "data": {
      "text/plain": [
       "(3,)"
      ]
     },
     "execution_count": 50,
     "metadata": {},
     "output_type": "execute_result"
    }
   ],
   "source": [
    "blocking_result_df.reset_index()[\"block_key\"].unique().shape"
   ]
  },
  {
   "cell_type": "code",
   "execution_count": 53,
   "id": "109152cc",
   "metadata": {},
   "outputs": [
    {
     "data": {
      "application/vnd.microsoft.datawrangler.viewer.v0+json": {
       "columns": [
        {
         "name": "block_key",
         "rawType": "object",
         "type": "string"
        },
        {
         "name": "0",
         "rawType": "int64",
         "type": "integer"
        }
       ],
       "ref": "4f1edf9f-d877-4099-a2d3-55b59481dabd",
       "rows": [
        [
         "FLRNS:0",
         "25878"
        ],
        [
         "NTNKL:0",
         "946"
        ],
        [
         "80814:1",
         "28"
        ]
       ],
       "shape": {
        "columns": 1,
        "rows": 3
       }
      },
      "text/plain": [
       "block_key\n",
       "FLRNS:0    25878\n",
       "NTNKL:0      946\n",
       "80814:1       28\n",
       "dtype: int64"
      ]
     },
     "execution_count": 53,
     "metadata": {},
     "output_type": "execute_result"
    }
   ],
   "source": [
    "blocking_result_df.groupby(\"block_key\").size().sort_values(ascending=False)"
   ]
  },
  {
   "cell_type": "code",
   "execution_count": 15,
   "id": "b447a67d",
   "metadata": {},
   "outputs": [
    {
     "data": {
      "image/png": "[encoded data removed]",
      "text/plain": [
       "<Figure size 1000x600 with 1 Axes>"
      ]
     },
     "metadata": {},
     "output_type": "display_data"
    },
    {
     "name": "stdout",
     "output_type": "stream",
     "text": [
      "Block sizes statistics:\n",
      "count    24476.000000\n",
      "mean         9.218336\n",
      "std          9.848149\n",
      "min          3.000000\n",
      "25%          3.000000\n",
      "50%          6.000000\n",
      "75%         10.000000\n",
      "max         45.000000\n",
      "dtype: float64\n"
     ]
    }
   ],
   "source": [
    "# Histogram of block sizes\n",
    "import matplotlib.pyplot as plt\n",
    "%matplotlib inline\n",
    "\n",
    "block_sizes = blocking_result_df.groupby(\"block_key\").size()\n",
    "#filter block sizes greater less than 50\n",
    "block_sizes = block_sizes[(block_sizes < 50) & (block_sizes > 1)]\n",
    "plt.figure(figsize=(10, 6))\n",
    "plt.hist(block_sizes, bins=50, color='blue', alpha=0.7)\n",
    "# plt.title('Distribution of Block Sizes')\n",
    "# plt.xlabel('Block Size')\n",
    "# plt.ylabel('Frequency')\n",
    "# plt.yscale('log')\n",
    "# plt.grid(axis='y', alpha=0.75)\n",
    "plt.show()\n",
    "\n",
    "print(\"Block sizes statistics:\")\n",
    "print(block_sizes.describe())"
   ]
  },
  {
   "cell_type": "code",
   "execution_count": null,
   "id": "1189cd59",
   "metadata": {},
   "outputs": [
    {
     "data": {
      "image/png": "[encoded data removed]",
      "text/plain": [
       "<Figure size 1000x600 with 1 Axes>"
      ]
     },
     "metadata": {},
     "output_type": "display_data"
    },
    {
     "name": "stdout",
     "output_type": "stream",
     "text": [
      "Block sizes statistics:\n",
      "count    53363.000000\n",
      "mean         7.129640\n",
      "std          7.670314\n",
      "min          3.000000\n",
      "25%          3.000000\n",
      "50%          3.000000\n",
      "75%          6.000000\n",
      "max         45.000000\n",
      "dtype: float64\n"
     ]
    }
   ],
   "source": [
    "# Histogram of block sizes\n",
    "import matplotlib.pyplot as plt\n",
    "%matplotlib inline\n",
    "\n",
    "block_sizes = blocking_result_df.groupby(\"block_key\").size()\n",
    "#filter block sizes greater less than 50\n",
    "block_sizes = block_sizes[(block_sizes < 50) & (block_sizes > 1)]\n",
    "plt.figure(figsize=(10, 6))\n",
    "plt.hist(block_sizes, bins=50, color='blue', alpha=0.7)\n",
    "# plt.title('Distribution of Block Sizes')\n",
    "# plt.xlabel('Block Size')\n",
    "# plt.ylabel('Frequency')\n",
    "# plt.yscale('log')\n",
    "# plt.grid(axis='y', alpha=0.75)\n",
    "plt.show()\n",
    "\n",
    "print(\"Block sizes statistics:\")\n",
    "print(block_sizes.describe())"
   ]
  },
  {
   "cell_type": "code",
   "execution_count": 16,
   "id": "50594452",
   "metadata": {},
   "outputs": [
    {
     "data": {
      "text/plain": [
       "(5280567, 4)"
      ]
     },
     "execution_count": 16,
     "metadata": {},
     "output_type": "execute_result"
    }
   ],
   "source": [
    "blocking_result_df.shape"
   ]
  },
  {
   "cell_type": "code",
   "execution_count": 74,
   "id": "04721e36",
   "metadata": {},
   "outputs": [
    {
     "data": {
      "text/plain": [
       "(26852, 4)"
      ]
     },
     "execution_count": 74,
     "metadata": {},
     "output_type": "execute_result"
    }
   ],
   "source": [
    "# sample_to_cluster_df = blocking_result_df.head(1000000)\n",
    "sample_to_cluster_df = blocking_result_df\n",
    "sample_to_cluster_df.shape"
   ]
  },
  {
   "cell_type": "code",
   "execution_count": 80,
   "id": "d0ea2603",
   "metadata": {},
   "outputs": [],
   "source": [
    "cluster_data = (((row[\"idx\"], row[\"dict\"]), (row[\"idx_r\"], row[\"dict_r\"]))\n",
    "                for idx, row in sample_to_cluster_df.iterrows())\n",
    "\n",
    "clustered_dupes = dedupe.cluster(\n",
    "    dedupe.score(cluster_data),\n",
    "    threshold=0.4)"
   ]
  },
  {
   "cell_type": "code",
   "execution_count": 81,
   "id": "f9445afc",
   "metadata": {},
   "outputs": [],
   "source": [
    "# Persist clustered_dupes\n",
    "\n",
    "clustered_dupes_list = list(clustered_dupes)\n"
   ]
  },
  {
   "cell_type": "code",
   "execution_count": null,
   "id": "53c134ab",
   "metadata": {},
   "outputs": [],
   "source": [
    "\n",
    "import pickle\n",
    "with open(\"../data/dn_labels_clustered_dupes_list.pkl\", \"wb\") as f:\n",
    "    pickle.dump(clustered_dupes_list, f)"
   ]
  },
  {
   "cell_type": "code",
   "execution_count": 67,
   "id": "92351ff7",
   "metadata": {},
   "outputs": [
    {
     "data": {
      "text/plain": [
       "22"
      ]
     },
     "execution_count": 67,
     "metadata": {},
     "output_type": "execute_result"
    }
   ],
   "source": [
    "len(clustered_dupes_list)"
   ]
  },
  {
   "cell_type": "code",
   "execution_count": 23,
   "id": "84ca5617",
   "metadata": {},
   "outputs": [
    {
     "data": {
      "text/plain": [
       "[((341095, 341096), array([0.51425808, 0.51425808])),\n",
       " ((23, 524577), array([0.51425808, 0.51425808])),\n",
       " ((596190, 596191, 596192), array([0.49727942, 0.50569585, 0.50569585])),\n",
       " ((43, 44, 45), array([0.49843072, 0.50628097, 0.50628097])),\n",
       " ((79, 80), (0.5142581, 0.5142581))]"
      ]
     },
     "execution_count": 23,
     "metadata": {},
     "output_type": "execute_result"
    }
   ],
   "source": [
    "clustered_dupes_list[:5]"
   ]
  },
  {
   "cell_type": "code",
   "execution_count": 24,
   "id": "3a2ed56c",
   "metadata": {},
   "outputs": [],
   "source": [
    "# load clustered_dupes\n",
    "import pickle\n",
    "with open(\"../data/dn_labels_clustered_dupes_list.pkl\", \"rb\") as f:\n",
    "    clustered_dupes_list = pickle.load(f)"
   ]
  },
  {
   "cell_type": "code",
   "execution_count": 82,
   "id": "a0aa40e0",
   "metadata": {},
   "outputs": [
    {
     "data": {
      "application/vnd.microsoft.datawrangler.viewer.v0+json": {
       "columns": [
        {
         "name": "id",
         "rawType": "int64",
         "type": "integer"
        },
        {
         "name": "canon_id",
         "rawType": "int64",
         "type": "integer"
        },
        {
         "name": "prob",
         "rawType": "float64",
         "type": "float"
        }
       ],
       "ref": "608b4eb3-736a-4d79-9a0e-e9d281121042",
       "rows": [
        [
         "369",
         "369",
         "0.4508617639206909"
        ],
        [
         "65498",
         "369",
         "0.4508617639206909"
        ],
        [
         "8121",
         "8121",
         "0.4180605211857986"
        ],
        [
         "8122",
         "8121",
         "0.4608594114775947"
        ],
        [
         "8123",
         "8121",
         "0.4608594114775947"
        ],
        [
         "8124",
         "8121",
         "0.454990742624232"
        ],
        [
         "121939",
         "8121",
         "0.3474674726423532"
        ],
        [
         "32276",
         "32276",
         "0.4746180964062843"
        ],
        [
         "32277",
         "32276",
         "0.47303966756197313"
        ],
        [
         "35954",
         "32276",
         "0.44985274693035004"
        ],
        [
         "62629",
         "62629",
         "0.46884644205688397"
        ],
        [
         "417963",
         "62629",
         "0.46884644205688397"
        ],
        [
         "67300",
         "67300",
         "0.4903133058817467"
        ],
        [
         "67301",
         "67300",
         "0.4903133058817467"
        ],
        [
         "87516",
         "87516",
         "0.4903935767728389"
        ],
        [
         "87517",
         "87516",
         "0.4653710847884014"
        ],
        [
         "87518",
         "87516",
         "0.43692617833885383"
        ],
        [
         "87519",
         "87516",
         "0.44561703404899766"
        ],
        [
         "136957",
         "87516",
         "0.34215671361758115"
        ],
        [
         "184753",
         "87516",
         "0.49309056023710884"
        ],
        [
         "184754",
         "87516",
         "0.49309056023710884"
        ],
        [
         "184756",
         "87516",
         "0.4903935767728389"
        ],
        [
         "184757",
         "87516",
         "0.4903935767728389"
        ],
        [
         "194211",
         "87516",
         "0.309528508568375"
        ],
        [
         "272386",
         "87516",
         "0.5189108881621645"
        ],
        [
         "272387",
         "87516",
         "0.4903935767728389"
        ],
        [
         "134806",
         "134806",
         "0.5035257372021368"
        ],
        [
         "134807",
         "134806",
         "0.5035257372021368"
        ],
        [
         "137304",
         "137304",
         "0.5307782321941867"
        ],
        [
         "242275",
         "137304",
         "0.5224467164579358"
        ],
        [
         "242276",
         "137304",
         "0.5224467164579358"
        ],
        [
         "182764",
         "182764",
         "0.5051934127380313"
        ],
        [
         "213374",
         "182764",
         "0.5051934127380313"
        ],
        [
         "183962",
         "183962",
         "0.5142580830720889"
        ],
        [
         "183963",
         "183962",
         "0.5142580830720889"
        ],
        [
         "262897",
         "183962",
         "0.5142580830720889"
        ],
        [
         "192690",
         "192690",
         "0.4903133058817467"
        ],
        [
         "192691",
         "192690",
         "0.4903133058817467"
        ],
        [
         "200555",
         "200555",
         "0.5142580830720889"
        ],
        [
         "436490",
         "200555",
         "0.5142580830720889"
        ],
        [
         "247616",
         "247616",
         "0.4984307179656985"
        ],
        [
         "247617",
         "247616",
         "0.5062809733556917"
        ],
        [
         "247618",
         "247616",
         "0.5062809733556917"
        ],
        [
         "331597",
         "331597",
         "0.4859612038462592"
        ],
        [
         "331598",
         "331597",
         "0.4859612038462592"
        ],
        [
         "354572",
         "354572",
         "0.5142580830720889"
        ],
        [
         "354573",
         "354572",
         "0.5142580830720889"
        ],
        [
         "414799",
         "414799",
         "0.4984307179656985"
        ],
        [
         "414800",
         "414799",
         "0.5062809733556917"
        ],
        [
         "414801",
         "414799",
         "0.5062809733556917"
        ]
       ],
       "shape": {
        "columns": 2,
        "rows": 63
       }
      },
      "text/html": [
       "<div>\n",
       "<style scoped>\n",
       "    .dataframe tbody tr th:only-of-type {\n",
       "        vertical-align: middle;\n",
       "    }\n",
       "\n",
       "    .dataframe tbody tr th {\n",
       "        vertical-align: top;\n",
       "    }\n",
       "\n",
       "    .dataframe thead th {\n",
       "        text-align: right;\n",
       "    }\n",
       "</style>\n",
       "<table border=\"1\" class=\"dataframe\">\n",
       "  <thead>\n",
       "    <tr style=\"text-align: right;\">\n",
       "      <th></th>\n",
       "      <th>canon_id</th>\n",
       "      <th>prob</th>\n",
       "    </tr>\n",
       "    <tr>\n",
       "      <th>id</th>\n",
       "      <th></th>\n",
       "      <th></th>\n",
       "    </tr>\n",
       "  </thead>\n",
       "  <tbody>\n",
       "    <tr>\n",
       "      <th>369</th>\n",
       "      <td>369</td>\n",
       "      <td>0.450862</td>\n",
       "    </tr>\n",
       "    <tr>\n",
       "      <th>65498</th>\n",
       "      <td>369</td>\n",
       "      <td>0.450862</td>\n",
       "    </tr>\n",
       "    <tr>\n",
       "      <th>8121</th>\n",
       "      <td>8121</td>\n",
       "      <td>0.418061</td>\n",
       "    </tr>\n",
       "    <tr>\n",
       "      <th>8122</th>\n",
       "      <td>8121</td>\n",
       "      <td>0.460859</td>\n",
       "    </tr>\n",
       "    <tr>\n",
       "      <th>8123</th>\n",
       "      <td>8121</td>\n",
       "      <td>0.460859</td>\n",
       "    </tr>\n",
       "    <tr>\n",
       "      <th>...</th>\n",
       "      <td>...</td>\n",
       "      <td>...</td>\n",
       "    </tr>\n",
       "    <tr>\n",
       "      <th>575695</th>\n",
       "      <td>491534</td>\n",
       "      <td>0.552356</td>\n",
       "    </tr>\n",
       "    <tr>\n",
       "      <th>563439</th>\n",
       "      <td>563439</td>\n",
       "      <td>0.514258</td>\n",
       "    </tr>\n",
       "    <tr>\n",
       "      <th>563440</th>\n",
       "      <td>563439</td>\n",
       "      <td>0.514258</td>\n",
       "    </tr>\n",
       "    <tr>\n",
       "      <th>596733</th>\n",
       "      <td>596733</td>\n",
       "      <td>0.514258</td>\n",
       "    </tr>\n",
       "    <tr>\n",
       "      <th>596734</th>\n",
       "      <td>596733</td>\n",
       "      <td>0.514258</td>\n",
       "    </tr>\n",
       "  </tbody>\n",
       "</table>\n",
       "<p>63 rows × 2 columns</p>\n",
       "</div>"
      ],
      "text/plain": [
       "        canon_id      prob\n",
       "id                        \n",
       "369          369  0.450862\n",
       "65498        369  0.450862\n",
       "8121        8121  0.418061\n",
       "8122        8121  0.460859\n",
       "8123        8121  0.460859\n",
       "...          ...       ...\n",
       "575695    491534  0.552356\n",
       "563439    563439  0.514258\n",
       "563440    563439  0.514258\n",
       "596733    596733  0.514258\n",
       "596734    596733  0.514258\n",
       "\n",
       "[63 rows x 2 columns]"
      ]
     },
     "execution_count": 82,
     "metadata": {},
     "output_type": "execute_result"
    }
   ],
   "source": [
    "\n",
    "def cluster_ids(dupes):\n",
    "    for indexes, scores in dupes:\n",
    "        cluster_idx = indexes[0]\n",
    "        for entry_idx, score in zip(indexes, scores):\n",
    "            # if entry_idx == cluster_idx:\n",
    "            #     continue\n",
    "            yield entry_idx, cluster_idx, score\n",
    "\n",
    "\n",
    "clustered_dupes_df = pd.DataFrame(\n",
    "    cluster_ids(clustered_dupes_list), columns=[\n",
    "        \"id\", \"canon_id\", \"prob\"]).set_index(\"id\")\n",
    "clustered_dupes_df"
   ]
  },
  {
   "cell_type": "code",
   "execution_count": 26,
   "id": "11c65b91",
   "metadata": {},
   "outputs": [],
   "source": [
    "clustered_dupes_df.to_csv(\"../data/dn_labels_clustered_dupes.csv\", index=True)"
   ]
  },
  {
   "cell_type": "code",
   "execution_count": 27,
   "id": "1402ed1d",
   "metadata": {},
   "outputs": [
    {
     "data": {
      "application/vnd.microsoft.datawrangler.viewer.v0+json": {
       "columns": [
        {
         "name": "id",
         "rawType": "int64",
         "type": "integer"
        },
        {
         "name": "canon_id",
         "rawType": "int64",
         "type": "integer"
        },
        {
         "name": "prob",
         "rawType": "float64",
         "type": "float"
        }
       ],
       "ref": "5f59dc38-e285-4082-ad5b-adca483b1be5",
       "rows": [
        [
         "646699",
         "646698",
         "0.5046324729919434"
        ],
        [
         "646698",
         "646698",
         "0.5046324729919434"
        ],
        [
         "646680",
         "646680",
         "0.5048270172317386"
        ],
        [
         "646681",
         "646680",
         "0.5048270172317386"
        ],
        [
         "646576",
         "646576",
         "0.5142580830720889"
        ],
        [
         "646577",
         "646576",
         "0.5142580830720889"
        ],
        [
         "646435",
         "646434",
         "0.514258086681366"
        ],
        [
         "646434",
         "646434",
         "0.514258086681366"
        ],
        [
         "646399",
         "646398",
         "0.514258086681366"
        ],
        [
         "646398",
         "646398",
         "0.514258086681366"
        ],
        [
         "646250",
         "646250",
         "0.4951999813355662"
        ],
        [
         "646251",
         "646250",
         "0.5046373708562513"
        ],
        [
         "646252",
         "646250",
         "0.5046373708562513"
        ],
        [
         "645995",
         "645994",
         "0.514258086681366"
        ],
        [
         "645994",
         "645994",
         "0.514258086681366"
        ],
        [
         "645920",
         "645919",
         "0.514258086681366"
        ],
        [
         "645919",
         "645919",
         "0.514258086681366"
        ],
        [
         "645867",
         "645867",
         "0.5061395104815773"
        ],
        [
         "645868",
         "645867",
         "0.5061395104815773"
        ],
        [
         "645858",
         "645858",
         "0.5142580830720889"
        ],
        [
         "645859",
         "645858",
         "0.5142580830720889"
        ],
        [
         "645838",
         "645838",
         "0.5142580830720889"
        ],
        [
         "645839",
         "645838",
         "0.5142580830720889"
        ],
        [
         "645808",
         "645808",
         "0.4959474820240311"
        ],
        [
         "645809",
         "645808",
         "0.5050181060186565"
        ],
        [
         "645810",
         "645808",
         "0.5050181060186565"
        ],
        [
         "645658",
         "645658",
         "0.514258086681366"
        ],
        [
         "645659",
         "645658",
         "0.514258086681366"
        ],
        [
         "645629",
         "645629",
         "0.5014668107032776"
        ],
        [
         "645630",
         "645629",
         "0.5014668107032776"
        ],
        [
         "645560",
         "645559",
         "0.5142580830720889"
        ],
        [
         "645559",
         "645559",
         "0.5142580830720889"
        ],
        [
         "645500",
         "645500",
         "0.5086346433559257"
        ],
        [
         "645503",
         "645500",
         "0.5086346433559257"
        ],
        [
         "645502",
         "645500",
         "0.5086346433559257"
        ],
        [
         "645501",
         "645500",
         "0.5086346433559257"
        ],
        [
         "645492",
         "645491",
         "0.5046324751458007"
        ],
        [
         "645491",
         "645491",
         "0.5046324751458007"
        ],
        [
         "645408",
         "645408",
         "0.514258086681366"
        ],
        [
         "645409",
         "645408",
         "0.514258086681366"
        ],
        [
         "645400",
         "645400",
         "0.514258086681366"
        ],
        [
         "645401",
         "645400",
         "0.514258086681366"
        ],
        [
         "645350",
         "645350",
         "0.5142580830720889"
        ],
        [
         "645351",
         "645350",
         "0.5142580830720889"
        ],
        [
         "645298",
         "645298",
         "0.514258086681366"
        ],
        [
         "645299",
         "645298",
         "0.514258086681366"
        ],
        [
         "645275",
         "645275",
         "0.5142580830720889"
        ],
        [
         "645276",
         "645275",
         "0.5142580830720889"
        ],
        [
         "645208",
         "645208",
         "0.514258086681366"
        ],
        [
         "645209",
         "645208",
         "0.514258086681366"
        ]
       ],
       "shape": {
        "columns": 2,
        "rows": 60123
       }
      },
      "text/html": [
       "<div>\n",
       "<style scoped>\n",
       "    .dataframe tbody tr th:only-of-type {\n",
       "        vertical-align: middle;\n",
       "    }\n",
       "\n",
       "    .dataframe tbody tr th {\n",
       "        vertical-align: top;\n",
       "    }\n",
       "\n",
       "    .dataframe thead th {\n",
       "        text-align: right;\n",
       "    }\n",
       "</style>\n",
       "<table border=\"1\" class=\"dataframe\">\n",
       "  <thead>\n",
       "    <tr style=\"text-align: right;\">\n",
       "      <th></th>\n",
       "      <th>canon_id</th>\n",
       "      <th>prob</th>\n",
       "    </tr>\n",
       "    <tr>\n",
       "      <th>id</th>\n",
       "      <th></th>\n",
       "      <th></th>\n",
       "    </tr>\n",
       "  </thead>\n",
       "  <tbody>\n",
       "    <tr>\n",
       "      <th>646699</th>\n",
       "      <td>646698</td>\n",
       "      <td>0.504632</td>\n",
       "    </tr>\n",
       "    <tr>\n",
       "      <th>646698</th>\n",
       "      <td>646698</td>\n",
       "      <td>0.504632</td>\n",
       "    </tr>\n",
       "    <tr>\n",
       "      <th>646680</th>\n",
       "      <td>646680</td>\n",
       "      <td>0.504827</td>\n",
       "    </tr>\n",
       "    <tr>\n",
       "      <th>646681</th>\n",
       "      <td>646680</td>\n",
       "      <td>0.504827</td>\n",
       "    </tr>\n",
       "    <tr>\n",
       "      <th>646576</th>\n",
       "      <td>646576</td>\n",
       "      <td>0.514258</td>\n",
       "    </tr>\n",
       "    <tr>\n",
       "      <th>...</th>\n",
       "      <td>...</td>\n",
       "      <td>...</td>\n",
       "    </tr>\n",
       "    <tr>\n",
       "      <th>45</th>\n",
       "      <td>43</td>\n",
       "      <td>0.506281</td>\n",
       "    </tr>\n",
       "    <tr>\n",
       "      <th>44</th>\n",
       "      <td>43</td>\n",
       "      <td>0.506281</td>\n",
       "    </tr>\n",
       "    <tr>\n",
       "      <th>43</th>\n",
       "      <td>43</td>\n",
       "      <td>0.498431</td>\n",
       "    </tr>\n",
       "    <tr>\n",
       "      <th>524577</th>\n",
       "      <td>23</td>\n",
       "      <td>0.514258</td>\n",
       "    </tr>\n",
       "    <tr>\n",
       "      <th>23</th>\n",
       "      <td>23</td>\n",
       "      <td>0.514258</td>\n",
       "    </tr>\n",
       "  </tbody>\n",
       "</table>\n",
       "<p>60123 rows × 2 columns</p>\n",
       "</div>"
      ],
      "text/plain": [
       "        canon_id      prob\n",
       "id                        \n",
       "646699    646698  0.504632\n",
       "646698    646698  0.504632\n",
       "646680    646680  0.504827\n",
       "646681    646680  0.504827\n",
       "646576    646576  0.514258\n",
       "...          ...       ...\n",
       "45            43  0.506281\n",
       "44            43  0.506281\n",
       "43            43  0.498431\n",
       "524577        23  0.514258\n",
       "23            23  0.514258\n",
       "\n",
       "[60123 rows x 2 columns]"
      ]
     },
     "execution_count": 27,
     "metadata": {},
     "output_type": "execute_result"
    }
   ],
   "source": [
    "import pandas as pd\n",
    "\n",
    "clustered_dupes_df = pd.read_csv(\"../data/dn_labels_clustered_dupes.csv\", index_col=\"id\")\n",
    "clustered_dupes_df.sort_values(by=\"canon_id\", ascending=False)"
   ]
  },
  {
   "cell_type": "code",
   "execution_count": 59,
   "id": "14b17e77",
   "metadata": {},
   "outputs": [],
   "source": [
    "import pandas as pd\n",
    "from wc_simd.dedupe_service import dedup_data_file\n",
    "\n",
    "dedup_data = pd.read_csv(\"../\" + dedup_data_file, index_col=0)\n",
    "dedup_data = dedup_data.astype(str)\n",
    "dedup_data_indexed = dedup_data[[\"label\", \"type\"]]"
   ]
  },
  {
   "cell_type": "code",
   "execution_count": 83,
   "id": "fd977735",
   "metadata": {},
   "outputs": [
    {
     "data": {
      "application/vnd.microsoft.datawrangler.viewer.v0+json": {
       "columns": [
        {
         "name": "index",
         "rawType": "int64",
         "type": "integer"
        },
        {
         "name": "id",
         "rawType": "int64",
         "type": "integer"
        },
        {
         "name": "prob",
         "rawType": "float64",
         "type": "float"
        },
        {
         "name": "label",
         "rawType": "object",
         "type": "string"
        },
        {
         "name": "type",
         "rawType": "object",
         "type": "string"
        },
        {
         "name": "label_canon",
         "rawType": "object",
         "type": "string"
        },
        {
         "name": "type_canon",
         "rawType": "object",
         "type": "string"
        }
       ],
       "ref": "bf5d6749-df73-47d1-815a-d782b361b518",
       "rows": [
        [
         "369",
         "369",
         "0.4508617639206909",
         "Seibert, Florence B., 1897-1991.",
         "Person",
         "Seibert, Florence B., 1897-1991.",
         "Person"
        ],
        [
         "369",
         "65498",
         "0.4508617639206909",
         "Seibert, Florence B.",
         "Person",
         "Seibert, Florence B., 1897-1991.",
         "Person"
        ],
        [
         "8121",
         "8121",
         "0.4180605211857986",
         "Flourens, P. (Pierre), 1794-1867",
         "Person",
         "Flourens, P. (Pierre), 1794-1867",
         "Person"
        ],
        [
         "8121",
         "8122",
         "0.4608594114775947",
         "Flourens, P. (Pierre), 1794-1867.",
         "Person",
         "Flourens, P. (Pierre), 1794-1867",
         "Person"
        ],
        [
         "8121",
         "8123",
         "0.4608594114775947",
         "Flourens, P. (Pierre), 1794-1867.",
         "Person",
         "Flourens, P. (Pierre), 1794-1867",
         "Person"
        ],
        [
         "8121",
         "8124",
         "0.454990742624232",
         "Flourens, P. (Pierre), 1794-1867. Détermination des propriétés du système nerveux, ou recherches physiques sur l'irritabilité et la sensibilité",
         "Agent",
         "Flourens, P. (Pierre), 1794-1867",
         "Person"
        ],
        [
         "8121",
         "121939",
         "0.3474674726423532",
         "Flourens P. (Pierre), 1794-1867.",
         "Person",
         "Flourens, P. (Pierre), 1794-1867",
         "Person"
        ],
        [
         "32276",
         "32276",
         "0.4746180964062843",
         "Nightingale, Joseph, 1775-1824",
         "Person",
         "Nightingale, Joseph, 1775-1824",
         "Person"
        ],
        [
         "32276",
         "32277",
         "0.47303966756197313",
         "Nightingale, Joseph, 1775-1824.",
         "Person",
         "Nightingale, Joseph, 1775-1824",
         "Person"
        ],
        [
         "32276",
         "35954",
         "0.44985274693035004",
         "Nightingale, Joseph",
         "Person",
         "Nightingale, Joseph, 1775-1824",
         "Person"
        ],
        [
         "62629",
         "62629",
         "0.46884644205688397",
         "Glaze, Florence Eliza",
         "Person",
         "Glaze, Florence Eliza",
         "Person"
        ],
        [
         "62629",
         "417963",
         "0.46884644205688397",
         "Glaze, Florence Eliza, 1964-",
         "Person",
         "Glaze, Florence Eliza",
         "Person"
        ],
        [
         "67300",
         "67300",
         "0.4903133058817467",
         "Stacpoole, Florence",
         "Person",
         "Stacpoole, Florence",
         "Person"
        ],
        [
         "67300",
         "67301",
         "0.4903133058817467",
         "Stacpoole, Florence.",
         "Person",
         "Stacpoole, Florence",
         "Person"
        ],
        [
         "87516",
         "87516",
         "0.4903935767728389",
         "Nightingale, Florence, 1820-1910.",
         "Person",
         "Nightingale, Florence, 1820-1910.",
         "Person"
        ],
        [
         "87516",
         "87517",
         "0.4653710847884014",
         "Nightingale, Florence, 1820-1910. Notes on nursing.",
         "Agent",
         "Nightingale, Florence, 1820-1910.",
         "Person"
        ],
        [
         "87516",
         "87518",
         "0.43692617833885383",
         "Nightingale, Florence, 1820-1910. Notes on nursing.",
         "Person",
         "Nightingale, Florence, 1820-1910.",
         "Person"
        ],
        [
         "87516",
         "87519",
         "0.44561703404899766",
         "Nightingale, Florence, 1820-1910. Notes on nursing. Dutch.",
         "Agent",
         "Nightingale, Florence, 1820-1910.",
         "Person"
        ],
        [
         "87516",
         "136957",
         "0.34215671361758115",
         "Nightingale, Florence (1820-1910)",
         "Agent",
         "Nightingale, Florence, 1820-1910.",
         "Person"
        ],
        [
         "87516",
         "184753",
         "0.49309056023710884",
         "Nightingale, Florence, 1820-1910",
         "Person",
         "Nightingale, Florence, 1820-1910.",
         "Person"
        ],
        [
         "87516",
         "184754",
         "0.49309056023710884",
         "Nightingale, Florence, 1820-1910",
         "Person",
         "Nightingale, Florence, 1820-1910.",
         "Person"
        ],
        [
         "87516",
         "184756",
         "0.4903935767728389",
         "Nightingale, Florence, 1820-1910.",
         "Person",
         "Nightingale, Florence, 1820-1910.",
         "Person"
        ],
        [
         "87516",
         "184757",
         "0.4903935767728389",
         "Nightingale, Florence, 1820-1910.",
         "Person",
         "Nightingale, Florence, 1820-1910.",
         "Person"
        ],
        [
         "87516",
         "194211",
         "0.309528508568375",
         "Nightingale, Florence, 1820-1910. Suggestions for thought to the searchers after truth among the artizans of England.",
         "Person",
         "Nightingale, Florence, 1820-1910.",
         "Person"
        ],
        [
         "87516",
         "272386",
         "0.5189108881621645",
         "Nightingale, Florence, 1820-1910.",
         "Agent",
         "Nightingale, Florence, 1820-1910.",
         "Person"
        ],
        [
         "87516",
         "272387",
         "0.4903935767728389",
         "Nightingale, Florence, 1820-1910.",
         "Person",
         "Nightingale, Florence, 1820-1910.",
         "Person"
        ],
        [
         "134806",
         "134806",
         "0.5035257372021368",
         "Chladni, Ernst Florens Friedrich, 1756-1827",
         "Person",
         "Chladni, Ernst Florens Friedrich, 1756-1827",
         "Person"
        ],
        [
         "134806",
         "134807",
         "0.5035257372021368",
         "Chladni, Ernst Florens Friedrich, 1756-1827.",
         "Person",
         "Chladni, Ernst Florens Friedrich, 1756-1827",
         "Person"
        ],
        [
         "137304",
         "137304",
         "0.5307782321941867",
         "Florance, Cheri L. Maverick mind.",
         "Agent",
         "Florance, Cheri L. Maverick mind.",
         "Agent"
        ],
        [
         "137304",
         "242275",
         "0.5224467164579358",
         "Florance, Cheri L.",
         "Person",
         "Florance, Cheri L. Maverick mind.",
         "Agent"
        ],
        [
         "137304",
         "242276",
         "0.5224467164579358",
         "Florance, Cheri L.",
         "Person",
         "Florance, Cheri L. Maverick mind.",
         "Agent"
        ],
        [
         "182764",
         "182764",
         "0.5051934127380313",
         "Flurance, David Rivault de, approximately 1571-1616.",
         "Person",
         "Flurance, David Rivault de, approximately 1571-1616.",
         "Person"
        ],
        [
         "182764",
         "213374",
         "0.5051934127380313",
         "Flurance, David Rivault de, approximately 1571-1616",
         "Person",
         "Flurance, David Rivault de, approximately 1571-1616.",
         "Person"
        ],
        [
         "183962",
         "183962",
         "0.5142580830720889",
         "Antoninus, Saint, Archbishop of Florence, 1389-1459.",
         "Person",
         "Antoninus, Saint, Archbishop of Florence, 1389-1459.",
         "Person"
        ],
        [
         "183962",
         "183963",
         "0.5142580830720889",
         "Antoninus, Saint, Archbishop of Florence, 1389-1459.",
         "Person",
         "Antoninus, Saint, Archbishop of Florence, 1389-1459.",
         "Person"
        ],
        [
         "183962",
         "262897",
         "0.5142580830720889",
         "Antoninus, Saint, Archbishop of Florence, 1389-1459.",
         "Person",
         "Antoninus, Saint, Archbishop of Florence, 1389-1459.",
         "Person"
        ],
        [
         "192690",
         "192690",
         "0.4903133058817467",
         "Nightingale, Eithne",
         "Person",
         "Nightingale, Eithne",
         "Person"
        ],
        [
         "192690",
         "192691",
         "0.4903133058817467",
         "Nightingale, Eithne.",
         "Person",
         "Nightingale, Eithne",
         "Person"
        ],
        [
         "200555",
         "200555",
         "0.5142580830720889",
         "Wood, F. Dorothy (Florence Dorothy)",
         "Person",
         "Wood, F. Dorothy (Florence Dorothy)",
         "Person"
        ],
        [
         "200555",
         "436490",
         "0.5142580830720889",
         "Wood, F. Dorothy (Florence Dorothy)",
         "Person",
         "Wood, F. Dorothy (Florence Dorothy)",
         "Person"
        ],
        [
         "247616",
         "247616",
         "0.4984307179656985",
         "Bustinza Lachiondo, Florencio",
         "Person",
         "Bustinza Lachiondo, Florencio",
         "Person"
        ],
        [
         "247616",
         "247617",
         "0.5062809733556917",
         "Bustinza Lachiondo, Florencio.",
         "Person",
         "Bustinza Lachiondo, Florencio",
         "Person"
        ],
        [
         "247616",
         "247618",
         "0.5062809733556917",
         "Bustinza Lachiondo, Florencio.",
         "Person",
         "Bustinza Lachiondo, Florencio",
         "Person"
        ],
        [
         "331597",
         "331597",
         "0.4859612038462592",
         "Jack, Florence B",
         "Person",
         "Jack, Florence B",
         "Person"
        ],
        [
         "331597",
         "331598",
         "0.4859612038462592",
         "Jack, Florence B.",
         "Person",
         "Jack, Florence B",
         "Person"
        ],
        [
         "354572",
         "354572",
         "0.5142580830720889",
         "Rathbone, Eleanor F. (Eleanor Florence), 1872-1946.",
         "Person",
         "Rathbone, Eleanor F. (Eleanor Florence), 1872-1946.",
         "Person"
        ],
        [
         "354572",
         "354573",
         "0.5142580830720889",
         "Rathbone, Eleanor F. (Eleanor Florence), 1872-1946.",
         "Person",
         "Rathbone, Eleanor F. (Eleanor Florence), 1872-1946.",
         "Person"
        ],
        [
         "414799",
         "414799",
         "0.4984307179656985",
         "Nothnagel, Hermann, 1841-1905",
         "Person",
         "Nothnagel, Hermann, 1841-1905",
         "Person"
        ],
        [
         "414799",
         "414800",
         "0.5062809733556917",
         "Nothnagel, Hermann, 1841-1905.",
         "Person",
         "Nothnagel, Hermann, 1841-1905",
         "Person"
        ],
        [
         "414799",
         "414801",
         "0.5062809733556917",
         "Nothnagel, Hermann, 1841-1905.",
         "Person",
         "Nothnagel, Hermann, 1841-1905",
         "Person"
        ]
       ],
       "shape": {
        "columns": 6,
        "rows": 63
       }
      },
      "text/html": [
       "<div>\n",
       "<style scoped>\n",
       "    .dataframe tbody tr th:only-of-type {\n",
       "        vertical-align: middle;\n",
       "    }\n",
       "\n",
       "    .dataframe tbody tr th {\n",
       "        vertical-align: top;\n",
       "    }\n",
       "\n",
       "    .dataframe thead th {\n",
       "        text-align: right;\n",
       "    }\n",
       "</style>\n",
       "<table border=\"1\" class=\"dataframe\">\n",
       "  <thead>\n",
       "    <tr style=\"text-align: right;\">\n",
       "      <th></th>\n",
       "      <th>id</th>\n",
       "      <th>prob</th>\n",
       "      <th>label</th>\n",
       "      <th>type</th>\n",
       "      <th>label_canon</th>\n",
       "      <th>type_canon</th>\n",
       "    </tr>\n",
       "  </thead>\n",
       "  <tbody>\n",
       "    <tr>\n",
       "      <th>369</th>\n",
       "      <td>369</td>\n",
       "      <td>0.450862</td>\n",
       "      <td>Seibert, Florence B., 1897-1991.</td>\n",
       "      <td>Person</td>\n",
       "      <td>Seibert, Florence B., 1897-1991.</td>\n",
       "      <td>Person</td>\n",
       "    </tr>\n",
       "    <tr>\n",
       "      <th>369</th>\n",
       "      <td>65498</td>\n",
       "      <td>0.450862</td>\n",
       "      <td>Seibert, Florence B.</td>\n",
       "      <td>Person</td>\n",
       "      <td>Seibert, Florence B., 1897-1991.</td>\n",
       "      <td>Person</td>\n",
       "    </tr>\n",
       "    <tr>\n",
       "      <th>8121</th>\n",
       "      <td>8121</td>\n",
       "      <td>0.418061</td>\n",
       "      <td>Flourens, P. (Pierre), 1794-1867</td>\n",
       "      <td>Person</td>\n",
       "      <td>Flourens, P. (Pierre), 1794-1867</td>\n",
       "      <td>Person</td>\n",
       "    </tr>\n",
       "    <tr>\n",
       "      <th>8121</th>\n",
       "      <td>8122</td>\n",
       "      <td>0.460859</td>\n",
       "      <td>Flourens, P. (Pierre), 1794-1867.</td>\n",
       "      <td>Person</td>\n",
       "      <td>Flourens, P. (Pierre), 1794-1867</td>\n",
       "      <td>Person</td>\n",
       "    </tr>\n",
       "    <tr>\n",
       "      <th>8121</th>\n",
       "      <td>8123</td>\n",
       "      <td>0.460859</td>\n",
       "      <td>Flourens, P. (Pierre), 1794-1867.</td>\n",
       "      <td>Person</td>\n",
       "      <td>Flourens, P. (Pierre), 1794-1867</td>\n",
       "      <td>Person</td>\n",
       "    </tr>\n",
       "    <tr>\n",
       "      <th>...</th>\n",
       "      <td>...</td>\n",
       "      <td>...</td>\n",
       "      <td>...</td>\n",
       "      <td>...</td>\n",
       "      <td>...</td>\n",
       "      <td>...</td>\n",
       "    </tr>\n",
       "    <tr>\n",
       "      <th>491534</th>\n",
       "      <td>575695</td>\n",
       "      <td>0.552356</td>\n",
       "      <td>Miller, Florence Fenwick, 1854-1935.</td>\n",
       "      <td>Person</td>\n",
       "      <td>Miller, Florence Fenwick, 1854-1935</td>\n",
       "      <td>Agent</td>\n",
       "    </tr>\n",
       "    <tr>\n",
       "      <th>563439</th>\n",
       "      <td>563439</td>\n",
       "      <td>0.514258</td>\n",
       "      <td>Lamot, Florencio Joseph de, 1701-1779.</td>\n",
       "      <td>Person</td>\n",
       "      <td>Lamot, Florencio Joseph de, 1701-1779.</td>\n",
       "      <td>Person</td>\n",
       "    </tr>\n",
       "    <tr>\n",
       "      <th>563439</th>\n",
       "      <td>563440</td>\n",
       "      <td>0.514258</td>\n",
       "      <td>Lamot, Florencio Joseph de, 1701-1779.</td>\n",
       "      <td>Person</td>\n",
       "      <td>Lamot, Florencio Joseph de, 1701-1779.</td>\n",
       "      <td>Person</td>\n",
       "    </tr>\n",
       "    <tr>\n",
       "      <th>596733</th>\n",
       "      <td>596733</td>\n",
       "      <td>0.514258</td>\n",
       "      <td>Murray, Florence J., 1894-1975.</td>\n",
       "      <td>Person</td>\n",
       "      <td>Murray, Florence J., 1894-1975.</td>\n",
       "      <td>Person</td>\n",
       "    </tr>\n",
       "    <tr>\n",
       "      <th>596733</th>\n",
       "      <td>596734</td>\n",
       "      <td>0.514258</td>\n",
       "      <td>Murray, Florence J., 1894-1975.</td>\n",
       "      <td>Person</td>\n",
       "      <td>Murray, Florence J., 1894-1975.</td>\n",
       "      <td>Person</td>\n",
       "    </tr>\n",
       "  </tbody>\n",
       "</table>\n",
       "<p>63 rows × 6 columns</p>\n",
       "</div>"
      ],
      "text/plain": [
       "            id      prob                                   label    type  \\\n",
       "369        369  0.450862        Seibert, Florence B., 1897-1991.  Person   \n",
       "369      65498  0.450862                    Seibert, Florence B.  Person   \n",
       "8121      8121  0.418061        Flourens, P. (Pierre), 1794-1867  Person   \n",
       "8121      8122  0.460859       Flourens, P. (Pierre), 1794-1867.  Person   \n",
       "8121      8123  0.460859       Flourens, P. (Pierre), 1794-1867.  Person   \n",
       "...        ...       ...                                     ...     ...   \n",
       "491534  575695  0.552356    Miller, Florence Fenwick, 1854-1935.  Person   \n",
       "563439  563439  0.514258  Lamot, Florencio Joseph de, 1701-1779.  Person   \n",
       "563439  563440  0.514258  Lamot, Florencio Joseph de, 1701-1779.  Person   \n",
       "596733  596733  0.514258         Murray, Florence J., 1894-1975.  Person   \n",
       "596733  596734  0.514258         Murray, Florence J., 1894-1975.  Person   \n",
       "\n",
       "                                   label_canon type_canon  \n",
       "369           Seibert, Florence B., 1897-1991.     Person  \n",
       "369           Seibert, Florence B., 1897-1991.     Person  \n",
       "8121          Flourens, P. (Pierre), 1794-1867     Person  \n",
       "8121          Flourens, P. (Pierre), 1794-1867     Person  \n",
       "8121          Flourens, P. (Pierre), 1794-1867     Person  \n",
       "...                                        ...        ...  \n",
       "491534     Miller, Florence Fenwick, 1854-1935      Agent  \n",
       "563439  Lamot, Florencio Joseph de, 1701-1779.     Person  \n",
       "563439  Lamot, Florencio Joseph de, 1701-1779.     Person  \n",
       "596733         Murray, Florence J., 1894-1975.     Person  \n",
       "596733         Murray, Florence J., 1894-1975.     Person  \n",
       "\n",
       "[63 rows x 6 columns]"
      ]
     },
     "execution_count": 83,
     "metadata": {},
     "output_type": "execute_result"
    }
   ],
   "source": [
    "dedup_df = (\n",
    "    clustered_dupes_df\n",
    "    .join(dedup_data_indexed)\n",
    "    .reset_index()\n",
    "    .set_index(\"canon_id\")\n",
    "    .join(dedup_data_indexed, rsuffix=\"_canon\")\n",
    "    # .query(\"prob > 0.52\")\n",
    "    # .sort_values(by=[\"canon_id\"], ascending=True)\n",
    "    \n",
    ")\n",
    "dedup_df"
   ]
  },
  {
   "cell_type": "code",
   "execution_count": 31,
   "id": "90654ba7",
   "metadata": {},
   "outputs": [
    {
     "data": {
      "application/vnd.microsoft.datawrangler.viewer.v0+json": {
       "columns": [
        {
         "name": "canon_id",
         "rawType": "int64",
         "type": "integer"
        },
        {
         "name": "id",
         "rawType": "int64",
         "type": "integer"
        },
        {
         "name": "prob",
         "rawType": "float64",
         "type": "float"
        },
        {
         "name": "label",
         "rawType": "object",
         "type": "string"
        },
        {
         "name": "type",
         "rawType": "object",
         "type": "string"
        },
        {
         "name": "label_canon",
         "rawType": "object",
         "type": "string"
        },
        {
         "name": "type_canon",
         "rawType": "object",
         "type": "string"
        }
       ],
       "ref": "24ce8ad1-1abf-407d-9faa-6e915a2d6d1f",
       "rows": [
        [
         "596190",
         "596191",
         "0.5056958450291553",
         "Fournier, Alfred, 1832-1914.",
         "Person",
         "Fournier, Alfred, 1832-1914",
         "Person"
        ],
        [
         "596190",
         "596192",
         "0.5056958450291553",
         "Fournier, Alfred, 1832-1914.",
         "Person",
         "Fournier, Alfred, 1832-1914",
         "Person"
        ],
        [
         "43",
         "44",
         "0.5062809733556917",
         "Subba Reddy, D. V., 1899-1987.",
         "Person",
         "Subba Reddy, D. V., 1899-1987",
         "Person"
        ],
        [
         "43",
         "45",
         "0.5062809733556917",
         "Subba Reddy, D. V., 1899-1987.",
         "Person",
         "Subba Reddy, D. V., 1899-1987",
         "Person"
        ],
        [
         "29875",
         "29876",
         "0.5059987366471441",
         "Bottazzi, Filippo, 1867-1941.",
         "Person",
         "Bottazzi, Filippo, 1867-1941",
         "Person"
        ],
        [
         "29875",
         "29877",
         "0.5059987366471441",
         "Bottazzi, Filippo, 1867-1941.",
         "Person",
         "Bottazzi, Filippo, 1867-1941",
         "Person"
        ],
        [
         "337875",
         "354568",
         "0.4951999813355662",
         "Picot, Claude, 1614-1668",
         "Person",
         "Picot, Claude, 1614-1668.",
         "Person"
        ],
        [
         "382319",
         "382320",
         "0.5097919258394507",
         "Seligmann, Franz R. (Franz Romeo), 1808 or 1809-1892.",
         "Person",
         "Seligmann, Franz R. (Franz Romeo), 1808 or 1809-1892",
         "Person"
        ],
        [
         "382319",
         "382321",
         "0.5097919258394507",
         "Seligmann, Franz R. (Franz Romeo), 1808 or 1809-1892.",
         "Person",
         "Seligmann, Franz R. (Franz Romeo), 1808 or 1809-1892",
         "Person"
        ],
        [
         "482854",
         "482855",
         "0.5014668164866712",
         "Seligmann, Johann Michael, 1720-1762.",
         "Person",
         "Seligmann, Johann Michael, 1720-1762",
         "Person"
        ],
        [
         "103695",
         "103696",
         "0.5024386060679338",
         "Lorenzana, Francisco Antonio, 1722-1804.",
         "Person",
         "Lorenzana, Francisco Antonio, 1722-1804",
         "Person"
        ],
        [
         "627918",
         "627919",
         "0.5037734367154036",
         "Havers, Clopton, -1702.",
         "Person",
         "Havers, Clopton, -1702",
         "Person"
        ],
        [
         "627918",
         "627920",
         "0.5037734367154036",
         "Havers, Clopton, -1702.",
         "Person",
         "Havers, Clopton, -1702",
         "Person"
        ],
        [
         "227189",
         "227190",
         "0.5086010331540456",
         "Galés, J. C. (Jean Chrysanthe), 1783-1854.",
         "Person",
         "Galés, J. C. (Jean Chrysanthe), 1783-1854",
         "Person"
        ],
        [
         "227189",
         "497183",
         "0.5086010331540456",
         "Galés, J. C. (Jean Chrysanthe), 1783-1854.",
         "Person",
         "Galés, J. C. (Jean Chrysanthe), 1783-1854",
         "Person"
        ],
        [
         "330137",
         "330138",
         "0.5093193413785362",
         "Garengeot, René-Jacques Croissant de, 1688-1759.",
         "Person",
         "Garengeot, René-Jacques Croissant de, 1688-1759",
         "Person"
        ],
        [
         "330137",
         "330139",
         "0.5093193413785362",
         "Garengeot, René-Jacques Croissant de, 1688-1759.",
         "Person",
         "Garengeot, René-Jacques Croissant de, 1688-1759",
         "Person"
        ],
        [
         "545156",
         "545157",
         "0.502131460366297",
         "Gersaint, E. F. (Edme-François), -1750.",
         "Person",
         "Gersaint, E. F. (Edme-François), -1750",
         "Person"
        ],
        [
         "384226",
         "384227",
         "0.5084605244440721",
         "Vaccà Berlinghieri, Francesco, 1732-1812.",
         "Person",
         "Vaccà Berlinghieri, Francesco, 1732-1812",
         "Person"
        ],
        [
         "384226",
         "384228",
         "0.5084605244440721",
         "Vaccà Berlinghieri, Francesco, 1732-1812.",
         "Person",
         "Vaccà Berlinghieri, Francesco, 1732-1812",
         "Person"
        ],
        [
         "446816",
         "446817",
         "0.5079936860565271",
         "Vaccà Berlinghieri, Andrea, 1772-1826.",
         "Person",
         "Vaccà Berlinghieri, Andrea, 1772-1826",
         "Person"
        ],
        [
         "446816",
         "446818",
         "0.5079936860565271",
         "Vaccà Berlinghieri, Andrea, 1772-1826.",
         "Person",
         "Vaccà Berlinghieri, Andrea, 1772-1826",
         "Person"
        ],
        [
         "64323",
         "538496",
         "0.484136809831556",
         "Lingard, Alfred",
         "Person",
         "Lingard, Alfred.",
         "Person"
        ],
        [
         "263454",
         "420195",
         "0.5011063836057861",
         "Jüngken, Johann Helfrich, 1648-1726",
         "Person",
         "Jüngken, Johann Helfrich, 1648-1726.",
         "Person"
        ],
        [
         "135871",
         "135872",
         "0.5032805761346051",
         "Fredrickson, Donald S.",
         "Person",
         "Fredrickson, Donald S",
         "Person"
        ],
        [
         "135871",
         "135873",
         "0.5032805761346051",
         "Fredrickson, Donald S.",
         "Person",
         "Fredrickson, Donald S",
         "Person"
        ],
        [
         "272659",
         "272660",
         "0.5072402496363899",
         "Hargrave, Michael John, 1923-1974.",
         "Person",
         "Hargrave, Michael John, 1923-1974",
         "Person"
        ],
        [
         "272659",
         "272661",
         "0.5072402496363899",
         "Hargrave, Michael John, 1923-1974.",
         "Person",
         "Hargrave, Michael John, 1923-1974",
         "Person"
        ],
        [
         "220434",
         "220435",
         "0.5046373708562513",
         "Riedlin, Veit, 1656-1724.",
         "Person",
         "Riedlin, Veit, 1656-1724",
         "Person"
        ],
        [
         "220434",
         "275504",
         "0.5046373708562513",
         "Riedlin, Veit, 1656-1724.",
         "Person",
         "Riedlin, Veit, 1656-1724",
         "Person"
        ],
        [
         "481682",
         "486194",
         "0.4820611447406914",
         "Riddle, John M",
         "Person",
         "Riddle, John M.",
         "Person"
        ],
        [
         "564109",
         "577155",
         "0.5194389501698466",
         "Waterton, Charles, 1782-1865",
         "Person",
         "Waterton, Charles, 1782-1865.",
         "Agent"
        ],
        [
         "600829",
         "600831",
         "0.4490243159223038",
         "Atherton, John, 1598-1640 Death and burial",
         "Person",
         "Atherton, John, 1598-1640",
         "Person"
        ],
        [
         "121907",
         "121908",
         "0.5051934127380313",
         "Charles, T. Cranstoun (Thomas Cranstoun), 1849-1894.",
         "Person",
         "Charles, T. Cranstoun (Thomas Cranstoun), 1849-1894",
         "Person"
        ],
        [
         "367874",
         "562816",
         "0.4943889505733611",
         "Berman, Alex, 1914-2000",
         "Person",
         "Berman, Alex, 1914-2000.",
         "Person"
        ],
        [
         "442789",
         "534506",
         "0.481169305321512",
         "Cranstoun, William Henry, 1714-1752",
         "Person",
         "Cranstoun, William Henry",
         "Person"
        ],
        [
         "442789",
         "534507",
         "0.4797662307690081",
         "Cranstoun, William Henry, 1714-1752.",
         "Person",
         "Cranstoun, William Henry",
         "Person"
        ],
        [
         "640067",
         "640068",
         "0.5039976910137269",
         "Low, R. Cranston (Robert Cranston), 1879-1949.",
         "Person",
         "Low, R. Cranston (Robert Cranston), 1879-1949",
         "Person"
        ],
        [
         "494601",
         "494602",
         "0.5081573968138802",
         "Gottsched, Johann Christoph, 1700-1766.",
         "Person",
         "Gottsched, Johann Christoph, 1700-1766",
         "Person"
        ],
        [
         "494601",
         "494603",
         "0.5081573968138802",
         "Gottsched, Johann Christoph, 1700-1766.",
         "Person",
         "Gottsched, Johann Christoph, 1700-1766",
         "Person"
        ],
        [
         "51154",
         "644521",
         "0.5058469208488763",
         "Gibb, H. A. R. (Hamilton Alexander Rosskeen), 1895-1971",
         "Person",
         "Gibb, H. A. R. (Hamilton Alexander Rosskeen), 1895-1971.",
         "Person"
        ],
        [
         "162836",
         "162837",
         "0.5050181060186565",
         "Rusconi, Mauro, 1776-1849.",
         "Person",
         "Rusconi, Mauro, 1776-1849",
         "Person"
        ],
        [
         "162836",
         "162838",
         "0.5050181060186565",
         "Rusconi, Mauro, 1776-1849.",
         "Person",
         "Rusconi, Mauro, 1776-1849",
         "Person"
        ],
        [
         "24077",
         "24078",
         "0.5042239703439118",
         "Stumpf, Carl, 1848-1936.",
         "Person",
         "Stumpf, Carl, 1848-1936",
         "Person"
        ],
        [
         "24077",
         "24079",
         "0.5042239703439118",
         "Stumpf, Carl, 1848-1936.",
         "Person",
         "Stumpf, Carl, 1848-1936",
         "Person"
        ],
        [
         "499373",
         "524125",
         "0.4832199707816128",
         "Stoever, Dietrich Heinrich, 1767-1822",
         "Person",
         "Stoever, Dietrich Heinrich",
         "Person"
        ],
        [
         "499373",
         "524126",
         "0.4818794717394966",
         "Stoever, Dietrich Heinrich, 1767-1822.",
         "Person",
         "Stoever, Dietrich Heinrich",
         "Person"
        ],
        [
         "494954",
         "494955",
         "0.507638318743376",
         "Champneys, Francis Henry, 1848-1930.",
         "Person",
         "Champneys, Francis Henry, 1848-1930",
         "Person"
        ],
        [
         "494954",
         "494956",
         "0.507638318743376",
         "Champneys, Francis Henry, 1848-1930.",
         "Person",
         "Champneys, Francis Henry, 1848-1930",
         "Person"
        ],
        [
         "416261",
         "451709",
         "0.4681259342654552",
         "Littlejohn, Henry (Henry Duncan), 1826-1914.",
         "Person",
         "Littlejohn, Henry (Henry Duncan), 1826-1914. Report on the sanitary condition of the city of Edinburgh.",
         "Agent"
        ]
       ],
       "shape": {
        "columns": 6,
        "rows": 19178
       }
      },
      "text/html": [
       "<div>\n",
       "<style scoped>\n",
       "    .dataframe tbody tr th:only-of-type {\n",
       "        vertical-align: middle;\n",
       "    }\n",
       "\n",
       "    .dataframe tbody tr th {\n",
       "        vertical-align: top;\n",
       "    }\n",
       "\n",
       "    .dataframe thead th {\n",
       "        text-align: right;\n",
       "    }\n",
       "</style>\n",
       "<table border=\"1\" class=\"dataframe\">\n",
       "  <thead>\n",
       "    <tr style=\"text-align: right;\">\n",
       "      <th></th>\n",
       "      <th>id</th>\n",
       "      <th>prob</th>\n",
       "      <th>label</th>\n",
       "      <th>type</th>\n",
       "      <th>label_canon</th>\n",
       "      <th>type_canon</th>\n",
       "    </tr>\n",
       "    <tr>\n",
       "      <th>canon_id</th>\n",
       "      <th></th>\n",
       "      <th></th>\n",
       "      <th></th>\n",
       "      <th></th>\n",
       "      <th></th>\n",
       "      <th></th>\n",
       "    </tr>\n",
       "  </thead>\n",
       "  <tbody>\n",
       "    <tr>\n",
       "      <th>596190</th>\n",
       "      <td>596191</td>\n",
       "      <td>0.505696</td>\n",
       "      <td>Fournier, Alfred, 1832-1914.</td>\n",
       "      <td>Person</td>\n",
       "      <td>Fournier, Alfred, 1832-1914</td>\n",
       "      <td>Person</td>\n",
       "    </tr>\n",
       "    <tr>\n",
       "      <th>596190</th>\n",
       "      <td>596192</td>\n",
       "      <td>0.505696</td>\n",
       "      <td>Fournier, Alfred, 1832-1914.</td>\n",
       "      <td>Person</td>\n",
       "      <td>Fournier, Alfred, 1832-1914</td>\n",
       "      <td>Person</td>\n",
       "    </tr>\n",
       "    <tr>\n",
       "      <th>43</th>\n",
       "      <td>44</td>\n",
       "      <td>0.506281</td>\n",
       "      <td>Subba Reddy, D. V., 1899-1987.</td>\n",
       "      <td>Person</td>\n",
       "      <td>Subba Reddy, D. V., 1899-1987</td>\n",
       "      <td>Person</td>\n",
       "    </tr>\n",
       "    <tr>\n",
       "      <th>43</th>\n",
       "      <td>45</td>\n",
       "      <td>0.506281</td>\n",
       "      <td>Subba Reddy, D. V., 1899-1987.</td>\n",
       "      <td>Person</td>\n",
       "      <td>Subba Reddy, D. V., 1899-1987</td>\n",
       "      <td>Person</td>\n",
       "    </tr>\n",
       "    <tr>\n",
       "      <th>29875</th>\n",
       "      <td>29876</td>\n",
       "      <td>0.505999</td>\n",
       "      <td>Bottazzi, Filippo, 1867-1941.</td>\n",
       "      <td>Person</td>\n",
       "      <td>Bottazzi, Filippo, 1867-1941</td>\n",
       "      <td>Person</td>\n",
       "    </tr>\n",
       "    <tr>\n",
       "      <th>...</th>\n",
       "      <td>...</td>\n",
       "      <td>...</td>\n",
       "      <td>...</td>\n",
       "      <td>...</td>\n",
       "      <td>...</td>\n",
       "      <td>...</td>\n",
       "    </tr>\n",
       "    <tr>\n",
       "      <th>643024</th>\n",
       "      <td>643026</td>\n",
       "      <td>0.493560</td>\n",
       "      <td>Brian, Kate.</td>\n",
       "      <td>Person</td>\n",
       "      <td>Brian, Kate</td>\n",
       "      <td>Person</td>\n",
       "    </tr>\n",
       "    <tr>\n",
       "      <th>643029</th>\n",
       "      <td>643030</td>\n",
       "      <td>0.506545</td>\n",
       "      <td>Pelouze, J. (Jules), 1807-1867.</td>\n",
       "      <td>Person</td>\n",
       "      <td>Pelouze, J. (Jules), 1807-1867</td>\n",
       "      <td>Person</td>\n",
       "    </tr>\n",
       "    <tr>\n",
       "      <th>643029</th>\n",
       "      <td>643031</td>\n",
       "      <td>0.506545</td>\n",
       "      <td>Pelouze, J. (Jules), 1807-1867.</td>\n",
       "      <td>Person</td>\n",
       "      <td>Pelouze, J. (Jules), 1807-1867</td>\n",
       "      <td>Person</td>\n",
       "    </tr>\n",
       "    <tr>\n",
       "      <th>643100</th>\n",
       "      <td>643101</td>\n",
       "      <td>0.551665</td>\n",
       "      <td>O'Shea, Paddy, active approximately 1966.</td>\n",
       "      <td>Agent</td>\n",
       "      <td>O'Shea, Paddy, active approximately 1966</td>\n",
       "      <td>Agent</td>\n",
       "    </tr>\n",
       "    <tr>\n",
       "      <th>643100</th>\n",
       "      <td>643102</td>\n",
       "      <td>0.601072</td>\n",
       "      <td>O'Shea, Paddy, active approximately 1966.</td>\n",
       "      <td>Person</td>\n",
       "      <td>O'Shea, Paddy, active approximately 1966</td>\n",
       "      <td>Agent</td>\n",
       "    </tr>\n",
       "  </tbody>\n",
       "</table>\n",
       "<p>19178 rows × 6 columns</p>\n",
       "</div>"
      ],
      "text/plain": [
       "              id      prob                                      label    type  \\\n",
       "canon_id                                                                        \n",
       "596190    596191  0.505696               Fournier, Alfred, 1832-1914.  Person   \n",
       "596190    596192  0.505696               Fournier, Alfred, 1832-1914.  Person   \n",
       "43            44  0.506281             Subba Reddy, D. V., 1899-1987.  Person   \n",
       "43            45  0.506281             Subba Reddy, D. V., 1899-1987.  Person   \n",
       "29875      29876  0.505999              Bottazzi, Filippo, 1867-1941.  Person   \n",
       "...          ...       ...                                        ...     ...   \n",
       "643024    643026  0.493560                               Brian, Kate.  Person   \n",
       "643029    643030  0.506545            Pelouze, J. (Jules), 1807-1867.  Person   \n",
       "643029    643031  0.506545            Pelouze, J. (Jules), 1807-1867.  Person   \n",
       "643100    643101  0.551665  O'Shea, Paddy, active approximately 1966.   Agent   \n",
       "643100    643102  0.601072  O'Shea, Paddy, active approximately 1966.  Person   \n",
       "\n",
       "                                       label_canon type_canon  \n",
       "canon_id                                                       \n",
       "596190                 Fournier, Alfred, 1832-1914     Person  \n",
       "596190                 Fournier, Alfred, 1832-1914     Person  \n",
       "43                   Subba Reddy, D. V., 1899-1987     Person  \n",
       "43                   Subba Reddy, D. V., 1899-1987     Person  \n",
       "29875                 Bottazzi, Filippo, 1867-1941     Person  \n",
       "...                                            ...        ...  \n",
       "643024                                 Brian, Kate     Person  \n",
       "643029              Pelouze, J. (Jules), 1807-1867     Person  \n",
       "643029              Pelouze, J. (Jules), 1807-1867     Person  \n",
       "643100    O'Shea, Paddy, active approximately 1966      Agent  \n",
       "643100    O'Shea, Paddy, active approximately 1966      Agent  \n",
       "\n",
       "[19178 rows x 6 columns]"
      ]
     },
     "execution_count": 31,
     "metadata": {},
     "output_type": "execute_result"
    }
   ],
   "source": [
    "dedup_df[~(dedup_df[\"label\"] == dedup_df[\"label_canon\"])]"
   ]
  },
  {
   "cell_type": "markdown",
   "id": "b381fd17",
   "metadata": {},
   "source": [
    "## Check Florence Nightingale"
   ]
  },
  {
   "cell_type": "code",
   "execution_count": 32,
   "id": "87d164ae",
   "metadata": {},
   "outputs": [
    {
     "data": {
      "application/vnd.microsoft.datawrangler.viewer.v0+json": {
       "columns": [
        {
         "name": "canon_id",
         "rawType": "int64",
         "type": "integer"
        },
        {
         "name": "id",
         "rawType": "int64",
         "type": "integer"
        },
        {
         "name": "prob",
         "rawType": "float64",
         "type": "float"
        },
        {
         "name": "label",
         "rawType": "object",
         "type": "string"
        },
        {
         "name": "type",
         "rawType": "object",
         "type": "string"
        },
        {
         "name": "label_canon",
         "rawType": "object",
         "type": "string"
        },
        {
         "name": "type_canon",
         "rawType": "object",
         "type": "string"
        }
       ],
       "ref": "88271172-5e5c-497e-aec5-5bb88b3e7ddb",
       "rows": [
        [
         "87516",
         "87516",
         "0.5210090368483338",
         "Nightingale, Florence, 1820-1910.",
         "Person",
         "Nightingale, Florence, 1820-1910.",
         "Person"
        ],
        [
         "87516",
         "87517",
         "0.5398442185437944",
         "Nightingale, Florence, 1820-1910. Notes on nursing.",
         "Agent",
         "Nightingale, Florence, 1820-1910.",
         "Person"
        ],
        [
         "87516",
         "87518",
         "0.4962399224057994",
         "Nightingale, Florence, 1820-1910. Notes on nursing.",
         "Person",
         "Nightingale, Florence, 1820-1910.",
         "Person"
        ],
        [
         "87516",
         "87519",
         "0.5284154446895146",
         "Nightingale, Florence, 1820-1910. Notes on nursing. Dutch.",
         "Agent",
         "Nightingale, Florence, 1820-1910.",
         "Person"
        ],
        [
         "87516",
         "184753",
         "0.5154006154894752",
         "Nightingale, Florence, 1820-1910",
         "Person",
         "Nightingale, Florence, 1820-1910.",
         "Person"
        ],
        [
         "87516",
         "184754",
         "0.5154006154894752",
         "Nightingale, Florence, 1820-1910",
         "Person",
         "Nightingale, Florence, 1820-1910.",
         "Person"
        ],
        [
         "87516",
         "184756",
         "0.5210090368483338",
         "Nightingale, Florence, 1820-1910.",
         "Person",
         "Nightingale, Florence, 1820-1910.",
         "Person"
        ],
        [
         "87516",
         "184757",
         "0.5210090368483338",
         "Nightingale, Florence, 1820-1910.",
         "Person",
         "Nightingale, Florence, 1820-1910.",
         "Person"
        ],
        [
         "87516",
         "272386",
         "0.5593658737544557",
         "Nightingale, Florence, 1820-1910.",
         "Agent",
         "Nightingale, Florence, 1820-1910.",
         "Person"
        ],
        [
         "87516",
         "272387",
         "0.5210090368483338",
         "Nightingale, Florence, 1820-1910.",
         "Person",
         "Nightingale, Florence, 1820-1910.",
         "Person"
        ]
       ],
       "shape": {
        "columns": 6,
        "rows": 10
       }
      },
      "text/html": [
       "<div>\n",
       "<style scoped>\n",
       "    .dataframe tbody tr th:only-of-type {\n",
       "        vertical-align: middle;\n",
       "    }\n",
       "\n",
       "    .dataframe tbody tr th {\n",
       "        vertical-align: top;\n",
       "    }\n",
       "\n",
       "    .dataframe thead th {\n",
       "        text-align: right;\n",
       "    }\n",
       "</style>\n",
       "<table border=\"1\" class=\"dataframe\">\n",
       "  <thead>\n",
       "    <tr style=\"text-align: right;\">\n",
       "      <th></th>\n",
       "      <th>id</th>\n",
       "      <th>prob</th>\n",
       "      <th>label</th>\n",
       "      <th>type</th>\n",
       "      <th>label_canon</th>\n",
       "      <th>type_canon</th>\n",
       "    </tr>\n",
       "    <tr>\n",
       "      <th>canon_id</th>\n",
       "      <th></th>\n",
       "      <th></th>\n",
       "      <th></th>\n",
       "      <th></th>\n",
       "      <th></th>\n",
       "      <th></th>\n",
       "    </tr>\n",
       "  </thead>\n",
       "  <tbody>\n",
       "    <tr>\n",
       "      <th>87516</th>\n",
       "      <td>87516</td>\n",
       "      <td>0.521009</td>\n",
       "      <td>Nightingale, Florence, 1820-1910.</td>\n",
       "      <td>Person</td>\n",
       "      <td>Nightingale, Florence, 1820-1910.</td>\n",
       "      <td>Person</td>\n",
       "    </tr>\n",
       "    <tr>\n",
       "      <th>87516</th>\n",
       "      <td>87517</td>\n",
       "      <td>0.539844</td>\n",
       "      <td>Nightingale, Florence, 1820-1910. Notes on nur...</td>\n",
       "      <td>Agent</td>\n",
       "      <td>Nightingale, Florence, 1820-1910.</td>\n",
       "      <td>Person</td>\n",
       "    </tr>\n",
       "    <tr>\n",
       "      <th>87516</th>\n",
       "      <td>87518</td>\n",
       "      <td>0.496240</td>\n",
       "      <td>Nightingale, Florence, 1820-1910. Notes on nur...</td>\n",
       "      <td>Person</td>\n",
       "      <td>Nightingale, Florence, 1820-1910.</td>\n",
       "      <td>Person</td>\n",
       "    </tr>\n",
       "    <tr>\n",
       "      <th>87516</th>\n",
       "      <td>87519</td>\n",
       "      <td>0.528415</td>\n",
       "      <td>Nightingale, Florence, 1820-1910. Notes on nur...</td>\n",
       "      <td>Agent</td>\n",
       "      <td>Nightingale, Florence, 1820-1910.</td>\n",
       "      <td>Person</td>\n",
       "    </tr>\n",
       "    <tr>\n",
       "      <th>87516</th>\n",
       "      <td>184753</td>\n",
       "      <td>0.515401</td>\n",
       "      <td>Nightingale, Florence, 1820-1910</td>\n",
       "      <td>Person</td>\n",
       "      <td>Nightingale, Florence, 1820-1910.</td>\n",
       "      <td>Person</td>\n",
       "    </tr>\n",
       "    <tr>\n",
       "      <th>87516</th>\n",
       "      <td>184754</td>\n",
       "      <td>0.515401</td>\n",
       "      <td>Nightingale, Florence, 1820-1910</td>\n",
       "      <td>Person</td>\n",
       "      <td>Nightingale, Florence, 1820-1910.</td>\n",
       "      <td>Person</td>\n",
       "    </tr>\n",
       "    <tr>\n",
       "      <th>87516</th>\n",
       "      <td>184756</td>\n",
       "      <td>0.521009</td>\n",
       "      <td>Nightingale, Florence, 1820-1910.</td>\n",
       "      <td>Person</td>\n",
       "      <td>Nightingale, Florence, 1820-1910.</td>\n",
       "      <td>Person</td>\n",
       "    </tr>\n",
       "    <tr>\n",
       "      <th>87516</th>\n",
       "      <td>184757</td>\n",
       "      <td>0.521009</td>\n",
       "      <td>Nightingale, Florence, 1820-1910.</td>\n",
       "      <td>Person</td>\n",
       "      <td>Nightingale, Florence, 1820-1910.</td>\n",
       "      <td>Person</td>\n",
       "    </tr>\n",
       "    <tr>\n",
       "      <th>87516</th>\n",
       "      <td>272386</td>\n",
       "      <td>0.559366</td>\n",
       "      <td>Nightingale, Florence, 1820-1910.</td>\n",
       "      <td>Agent</td>\n",
       "      <td>Nightingale, Florence, 1820-1910.</td>\n",
       "      <td>Person</td>\n",
       "    </tr>\n",
       "    <tr>\n",
       "      <th>87516</th>\n",
       "      <td>272387</td>\n",
       "      <td>0.521009</td>\n",
       "      <td>Nightingale, Florence, 1820-1910.</td>\n",
       "      <td>Person</td>\n",
       "      <td>Nightingale, Florence, 1820-1910.</td>\n",
       "      <td>Person</td>\n",
       "    </tr>\n",
       "  </tbody>\n",
       "</table>\n",
       "</div>"
      ],
      "text/plain": [
       "              id      prob                                              label  \\\n",
       "canon_id                                                                        \n",
       "87516      87516  0.521009                  Nightingale, Florence, 1820-1910.   \n",
       "87516      87517  0.539844  Nightingale, Florence, 1820-1910. Notes on nur...   \n",
       "87516      87518  0.496240  Nightingale, Florence, 1820-1910. Notes on nur...   \n",
       "87516      87519  0.528415  Nightingale, Florence, 1820-1910. Notes on nur...   \n",
       "87516     184753  0.515401                   Nightingale, Florence, 1820-1910   \n",
       "87516     184754  0.515401                   Nightingale, Florence, 1820-1910   \n",
       "87516     184756  0.521009                  Nightingale, Florence, 1820-1910.   \n",
       "87516     184757  0.521009                  Nightingale, Florence, 1820-1910.   \n",
       "87516     272386  0.559366                  Nightingale, Florence, 1820-1910.   \n",
       "87516     272387  0.521009                  Nightingale, Florence, 1820-1910.   \n",
       "\n",
       "            type                        label_canon type_canon  \n",
       "canon_id                                                        \n",
       "87516     Person  Nightingale, Florence, 1820-1910.     Person  \n",
       "87516      Agent  Nightingale, Florence, 1820-1910.     Person  \n",
       "87516     Person  Nightingale, Florence, 1820-1910.     Person  \n",
       "87516      Agent  Nightingale, Florence, 1820-1910.     Person  \n",
       "87516     Person  Nightingale, Florence, 1820-1910.     Person  \n",
       "87516     Person  Nightingale, Florence, 1820-1910.     Person  \n",
       "87516     Person  Nightingale, Florence, 1820-1910.     Person  \n",
       "87516     Person  Nightingale, Florence, 1820-1910.     Person  \n",
       "87516      Agent  Nightingale, Florence, 1820-1910.     Person  \n",
       "87516     Person  Nightingale, Florence, 1820-1910.     Person  "
      ]
     },
     "execution_count": 32,
     "metadata": {},
     "output_type": "execute_result"
    }
   ],
   "source": [
    "# select rows where label contains \"Florence\" and \"Night\n",
    "\n",
    "dedup_df[dedup_df['label'].str.contains(\n",
    "    \"Florence\", case=False, na=False) & dedup_df['label'].str.contains(\n",
    "    \"Night\", case=False, na=False)].sort_values(by='canon_id', ascending=True)"
   ]
  },
  {
   "cell_type": "markdown",
   "id": "5f8f21a4",
   "metadata": {},
   "source": [
    "## Select Dis-similar rows based on FuzzyWuzzy"
   ]
  },
  {
   "cell_type": "code",
   "execution_count": 33,
   "id": "70b7df08",
   "metadata": {},
   "outputs": [
    {
     "name": "stdout",
     "output_type": "stream",
     "text": [
      "Original rows: 60123\n",
      "Filtered rows (similarity < 95): 4365\n",
      "Removed 55758 rows with high similarity\n",
      "\n",
      "Example of filtered out rows (high similarity):\n",
      "|   canon_id | label                                           | label_canon                                     |   similarity_score |\n",
      "|-----------:|:------------------------------------------------|:------------------------------------------------|-------------------:|\n",
      "|     322624 | Jecker, Nancy Ann Silbergeld.                   | Jecker, Nancy Ann Silbergeld.                   |                100 |\n",
      "|     474142 | Cattell, James McKeen, 1860-1944.               | Cattell, James McKeen, 1860-1944.               |                100 |\n",
      "|     564953 | Hume, Gustavus, 1732-1812.                      | Hume, Gustavus, 1732-1812.                      |                100 |\n",
      "|     120091 | Wulf, Andrea                                    | Wulf, Andrea                                    |                100 |\n",
      "|     285629 | Washbourn, J. W. (John Wickenford), 1863-1902.  | Washbourn, J. W. (John Wickenford), 1863-1902.  |                100 |\n",
      "|     434359 | Kikuth, Walter, 1896-1968.                      | Kikuth, Walter, 1896-1968.                      |                100 |\n",
      "|     295433 | Broome, William, 1689-1745.                     | Broome, William, 1689-1745                      |                 98 |\n",
      "|     151747 | Davidson, James Mackenzie, Sir, 1856-1919.      | Davidson, James Mackenzie, Sir, 1856-1919.      |                100 |\n",
      "|     269359 | McCormick, J. B. (James B.)                     | McCormick, J. B. (James B.)                     |                100 |\n",
      "|     377323 | Julian, Desmond G. (Desmond Gareth)             | Julian, Desmond G. (Desmond Gareth)             |                100 |\n",
      "|     276022 | Salvá y Campillo, Francisco, 1751-1828.         | Salvá y Campillo, Francisco, 1751-1828          |                 99 |\n",
      "|     155111 | Felici, Giovanni Battista                       | Felici, Giovanni Battista                       |                100 |\n",
      "|      62178 | Ellesmere, Francis Egerton, Earl of, 1800-1857. | Ellesmere, Francis Egerton, Earl of, 1800-1857. |                100 |\n",
      "|     189459 | Nicholas, of Tolentino, Saint, 1245-1305.       | Nicholas, of Tolentino, Saint, 1245-1305.       |                100 |\n",
      "|     249321 | Hessus, Helius Eobanus, 1488-1540               | Hessus, Helius Eobanus, 1488-1540.              |                 99 |\n",
      "|     416488 | Narasiṃha (Hindu deity)                         | Narasiṃha (Hindu deity)                         |                100 |\n",
      "|     371179 | Mawṣilī, ʻAmmār ibn ʻAlī, -approximately 1010.  | Mawṣilī, ʻAmmār ibn ʻAlī, -approximately 1010.  |                100 |\n",
      "|     238747 | Bosanquet, Helen Dendy, 1860-1925.              | Bosanquet, Helen Dendy, 1860-1925.              |                100 |\n",
      "|     498647 | Jain, Jagdish Chandra.                          | Jain, Jagdish Chandra.                          |                100 |\n",
      "|     544664 | Subbarayappa, B. V.                             | Subbarayappa, B. V.                             |                100 |\n",
      "|     183404 | Bakulev, A. N. (Aleksandr Nikolaevich), 1890-   | Bakulev, A. N. (Aleksandr Nikolaevich), 1890-   |                100 |\n",
      "|     350001 | Valeriano, Pierio, 1477-1560                    | Valeriano, Pierio, 1477-1560.                   |                 98 |\n",
      "|     218615 | Starkey, George, 1627-1665.                     | Starkey, George, 1627-1665                      |                 98 |\n",
      "|     511497 | Frobenius, Georg Ludwig, 1566-1645.             | Frobenius, Georg Ludwig, 1566-1645.             |                100 |\n",
      "|      90123 | Gilman, Sander L.                               | Gilman, Sander L.                               |                100 |\n",
      "|     423175 | Duns Scotus, John, approximately 1266-1308.     | Duns Scotus, John, approximately 1266-1308      |                 99 |\n",
      "|      44288 | Sibbald, Robert                                 | Sibbald, Robert                                 |                100 |\n",
      "|       5696 | Ludwig, Emil, 1881-1948.                        | Ludwig, Emil, 1881-1948.                        |                100 |\n",
      "|     250770 | Schamberg, Jay Frank, 1870-                     | Schamberg, Jay Frank, 1870-                     |                100 |\n",
      "|      42233 | Park, Katharine, 1950-                          | Park, Katharine, 1950-                          |                100 |\n",
      "|     119870 | Roederer, Johann Georg, 1726-1763.              | Roederer, Johann Georg, 1726-1763               |                 99 |\n",
      "|     369740 | Jungermann, Ludwig, 1572-1653                   | Jungermann, Ludwig, 1572-1653                   |                100 |\n",
      "|     545913 | Bier, August, 1861-1949.                        | Bier, August, 1861-1949.                        |                100 |\n",
      "|     275559 | Edelfelt, Albert, 1854-1905.                    | Edelfelt, Albert, 1854-1905.                    |                100 |\n",
      "|      85130 | Moore, Merrill, 1903-1957.                      | Moore, Merrill, 1903-1957                       |                 98 |\n",
      "|      73375 | Samson (Biblical judge)                         | Samson (Biblical judge)                         |                100 |\n",
      "|     162904 | Webster, John.                                  | Webster, John                                   |                 96 |\n",
      "|     114551 | Gaupp, Robert Eugen, 1870-1953.                 | Gaupp, Robert Eugen, 1870-1953.                 |                100 |\n",
      "|     604659 | Schleich, Carl Ludwig, 1859-1922.               | Schleich, Carl Ludwig, 1859-1922                |                 98 |\n",
      "|     438266 | SLMN (Writer)                                   | SLMN (Writer)                                   |                100 |\n",
      "|     286512 | Blondel, François, 1613-1703.                   | Blondel, François, 1613-1703                    |                 98 |\n",
      "|     480763 | Draper, John William, 1811-1882.                | Draper, John William, 1811-1882.                |                100 |\n",
      "|     263859 | Frost, Wade Hampton, 1880-1938.                 | Frost, Wade Hampton, 1880-1938.                 |                100 |\n",
      "|      33683 | Beller, Jean, 1526-1595.                        | Beller, Jean, 1526-1595.                        |                100 |\n",
      "|     389945 | Wilkin, Terence J.                              | Wilkin, Terence J.                              |                100 |\n",
      "|     278299 | Korczak, Janusz, 1878-1942.                     | Korczak, Janusz, 1878-1942.                     |                100 |\n",
      "|      75868 | Stobaeus                                        | Stobaeus                                        |                100 |\n",
      "|      21353 | Highfield, Roger.                               | Highfield, Roger                                |                 97 |\n",
      "|     366309 | Stuart, John Ferdinand Smyth, 1745-1814.        | Stuart, John Ferdinand Smyth, 1745-1814.        |                100 |\n",
      "|     248645 | Ideler, Karl Wilhelm, 1795-1860.                | Ideler, Karl Wilhelm, 1795-1860                 |                 98 |\n"
     ]
    },
    {
     "data": {
      "application/vnd.microsoft.datawrangler.viewer.v0+json": {
       "columns": [
        {
         "name": "canon_id",
         "rawType": "int64",
         "type": "integer"
        },
        {
         "name": "id",
         "rawType": "int64",
         "type": "integer"
        },
        {
         "name": "prob",
         "rawType": "float64",
         "type": "float"
        },
        {
         "name": "label",
         "rawType": "object",
         "type": "string"
        },
        {
         "name": "type",
         "rawType": "object",
         "type": "string"
        },
        {
         "name": "label_canon",
         "rawType": "object",
         "type": "string"
        },
        {
         "name": "type_canon",
         "rawType": "object",
         "type": "string"
        },
        {
         "name": "similarity_score",
         "rawType": "int64",
         "type": "integer"
        }
       ],
       "ref": "c27cb593-9446-4be0-a71b-05d633789c20",
       "rows": [
        [
         "600829",
         "600831",
         "0.4490243159223038",
         "Atherton, John, 1598-1640 Death and burial",
         "Person",
         "Atherton, John, 1598-1640",
         "Person",
         "75"
        ],
        [
         "442789",
         "534506",
         "0.481169305321512",
         "Cranstoun, William Henry, 1714-1752",
         "Person",
         "Cranstoun, William Henry",
         "Person",
         "81"
        ],
        [
         "442789",
         "534507",
         "0.4797662307690081",
         "Cranstoun, William Henry, 1714-1752.",
         "Person",
         "Cranstoun, William Henry",
         "Person",
         "80"
        ],
        [
         "499373",
         "524125",
         "0.4832199707816128",
         "Stoever, Dietrich Heinrich, 1767-1822",
         "Person",
         "Stoever, Dietrich Heinrich",
         "Person",
         "83"
        ],
        [
         "499373",
         "524126",
         "0.4818794717394966",
         "Stoever, Dietrich Heinrich, 1767-1822.",
         "Person",
         "Stoever, Dietrich Heinrich",
         "Person",
         "81"
        ],
        [
         "416261",
         "451709",
         "0.4681259342654552",
         "Littlejohn, Henry (Henry Duncan), 1826-1914.",
         "Person",
         "Littlejohn, Henry (Henry Duncan), 1826-1914. Report on the sanitary condition of the city of Edinburgh.",
         "Agent",
         "60"
        ],
        [
         "132014",
         "302874",
         "0.4734289673724006",
         "Beckford, William, 1760-1844",
         "Person",
         "Beckford, William",
         "Person",
         "76"
        ],
        [
         "132014",
         "302875",
         "0.4057289828413039",
         "Beckford, William, 1760-1844 Art collections.",
         "Person",
         "Beckford, William",
         "Person",
         "55"
        ],
        [
         "132014",
         "302876",
         "0.4568630005775955",
         "Beckford, William, 1760-1844.",
         "Person",
         "Beckford, William",
         "Person",
         "74"
        ],
        [
         "132014",
         "302877",
         "0.4568630005775955",
         "Beckford, William, 1760-1844.",
         "Person",
         "Beckford, William",
         "Person",
         "74"
        ],
        [
         "35869",
         "181739",
         "0.5388947646596485",
         "Tiruvaḷḷuva Nāyaṉār.",
         "Person",
         "Tiruvaḷḷuva Nāyaṉār. Muppukkuru 11.",
         "Agent",
         "74"
        ],
        [
         "41842",
         "624302",
         "0.5445454725650714",
         "Pfeffer, Naomi",
         "Agent",
         "Pfeffer, Naomi, 1946-",
         "Person",
         "80"
        ],
        [
         "277223",
         "535045",
         "0.4623540194937042",
         "Adelung, Johann Christoph",
         "Person",
         "Adelung, Johann Christoph, 1732-1806",
         "Person",
         "82"
        ],
        [
         "286958",
         "414909",
         "0.4406537143256024",
         "Musgrave, William",
         "Person",
         "Musgrave, William, 1655?-1721",
         "Person",
         "74"
        ],
        [
         "513652",
         "578980",
         "0.4405165157698967",
         "Musgrave, Samuel",
         "Person",
         "Musgrave, Samuel, 1732-1780",
         "Person",
         "74"
        ],
        [
         "189946",
         "469917",
         "0.5363880417931018",
         "Stapleton, Thomas (1920-2007)",
         "Agent",
         "Stapleton, Thomas",
         "Person",
         "74"
        ],
        [
         "80910",
         "223327",
         "0.5301680019010167",
         "Vaṅgasena, active 12th century. Cikitsasārasaṅgraha. English.",
         "Agent",
         "Vaṅgasena, active 12th century.",
         "Person",
         "67"
        ],
        [
         "127892",
         "521505",
         "0.480448321693902",
         "Andrewes, Lancelot, 1555-1626",
         "Person",
         "Andrewes, Lancelot",
         "Person",
         "77"
        ],
        [
         "127892",
         "521506",
         "0.480448321693902",
         "Andrewes, Lancelot, 1555-1626",
         "Person",
         "Andrewes, Lancelot",
         "Person",
         "77"
        ],
        [
         "595761",
         "595763",
         "0.5376095153975868",
         "Todd, John L. (John Lancelot), 1876-1949. Gland puncture in trypanosomiasis.",
         "Agent",
         "Todd, John L. (John Lancelot), 1876-1949.",
         "Person",
         "70"
        ],
        [
         "316260",
         "404864",
         "0.4833516032170249",
         "Stringer, Chris, 1947-",
         "Person",
         "Stringer, Chris",
         "Person",
         "81"
        ],
        [
         "316260",
         "537905",
         "0.4833516032170249",
         "Stringer, Chris, 1947-",
         "Person",
         "Stringer, Chris",
         "Person",
         "81"
        ],
        [
         "293831",
         "429441",
         "0.5452133424475287",
         "Yamamoto, Tsunetomo, 1659-1719. Hagakure.",
         "Person",
         "Yamamoto, Tsunetomo, 1659-1719. Hagakure. English.",
         "Agent",
         "90"
        ],
        [
         "293831",
         "429442",
         "0.5452133424475287",
         "Yamamoto, Tsunetomo, 1659-1719. Hagakure.",
         "Person",
         "Yamamoto, Tsunetomo, 1659-1719. Hagakure. English.",
         "Agent",
         "90"
        ],
        [
         "6747",
         "561751",
         "0.4792277212960496",
         "Hoche, Alfred, 1865-1943. Die Bedeutung der Symptomenkomplexe in der Psychiatrie. Spanish.",
         "Agent",
         "Hoche, Alfred, 1865-1943",
         "Person",
         "42"
        ],
        [
         "15815",
         "352825",
         "0.5255439283769319",
         "Melville, Henry Dundas",
         "Person",
         "Melville, Henry Dundas, Viscount, 1742-1811.",
         "Agent",
         "67"
        ],
        [
         "122767",
         "589270",
         "0.4469670000454798",
         "Hatch, Steven",
         "Person",
         "Hatch, Steven, 1969-",
         "Person",
         "79"
        ],
        [
         "482289",
         "555894",
         "0.4767947071491168",
         "Melville, James, 1556-1614",
         "Person",
         "Melville, James",
         "Person",
         "73"
        ],
        [
         "482289",
         "555895",
         "0.4811872368982379",
         "Melville, James, 1556-1614.",
         "Person",
         "Melville, James",
         "Person",
         "71"
        ],
        [
         "482289",
         "555896",
         "0.4811872368982379",
         "Melville, James, 1556-1614.",
         "Person",
         "Melville, James",
         "Person",
         "71"
        ],
        [
         "248910",
         "532259",
         "0.4759871172181777",
         "Fielding, Henry, 1707-1754",
         "Person",
         "Fielding, Henry",
         "Person",
         "73"
        ],
        [
         "248910",
         "532261",
         "0.4803290339879039",
         "Fielding, Henry, 1707-1754.",
         "Person",
         "Fielding, Henry",
         "Person",
         "71"
        ],
        [
         "248910",
         "532262",
         "0.4803290339879039",
         "Fielding, Henry, 1707-1754.",
         "Person",
         "Fielding, Henry",
         "Person",
         "71"
        ],
        [
         "248910",
         "532263",
         "0.4608541981473416",
         "Fielding, Henry, 1707-1754. Miser.",
         "Person",
         "Fielding, Henry",
         "Person",
         "61"
        ],
        [
         "51549",
         "508820",
         "0.4749367184403565",
         "Béranger, Pierre-Jean de, 1780-1857. Vivandière.",
         "Person",
         "Béranger, Pierre-Jean de, 1780-1857.",
         "Person",
         "86"
        ],
        [
         "72983",
         "72984",
         "0.5422368570966598",
         "Landré, Christophe. Oecoiatrie",
         "Agent",
         "Landré, Christophe",
         "Person",
         "75"
        ],
        [
         "182921",
         "182924",
         "0.5461923709663743",
         "Fabre, Pierre-Jean, -approximately 1650. Manuscriptum ad Federicum.",
         "Agent",
         "Fabre, Pierre-Jean, -approximately 1650",
         "Person",
         "74"
        ],
        [
         "333206",
         "430765",
         "0.5586142361874061",
         "Berengario da Carpi, Jacopo, approximately 1460-approximately 1530. Commentaria super Anatomia Mundini",
         "Agent",
         "Berengario da Carpi, Jacopo, approximately 1460-approximately 1530",
         "Person",
         "79"
        ],
        [
         "390355",
         "539289",
         "0.5506738791037048",
         "Thurneisser zum Thurn, Leonhard, 1530?-1596. Historia und Beschreibung.",
         "Agent",
         "Thurneisser zum Thurn, Leonhard, 1530?-1596.",
         "Person",
         "77"
        ],
        [
         "125905",
         "336453",
         "0.5492575736541945",
         "Petrus, Ravennas, approximately 1448-1508 or 1509. Phoenix sive artificiosa memoria",
         "Agent",
         "Petrus, Ravennas, approximately 1448-1508 or 1509.",
         "Person",
         "75"
        ],
        [
         "192225",
         "309756",
         "0.4507836191328853",
         "Lumley, Robert, 1951-",
         "Person",
         "Lumley, Robert",
         "Person",
         "80"
        ],
        [
         "48011",
         "488193",
         "0.541296744127681",
         "Hahnemann, Samuel, 1755-1843. Materia medica pura.",
         "Agent",
         "Hahnemann, Samuel, 1755-1843.",
         "Person",
         "73"
        ],
        [
         "180571",
         "180572",
         "0.5074083887222598",
         "Spangenberg, Johann. Fabrica baculi astronomici.",
         "Agent",
         "Spangenberg, Johann.",
         "Person",
         "59"
        ],
        [
         "47533",
         "516857",
         "0.4860268885055978",
         "Herder, Johann Gottfried, 1744-1803.",
         "Person",
         "Herder, Johann Gottfried",
         "Person",
         "80"
        ],
        [
         "47533",
         "516858",
         "0.4860268885055978",
         "Herder, Johann Gottfried, 1744-1803.",
         "Person",
         "Herder, Johann Gottfried",
         "Person",
         "80"
        ],
        [
         "439566",
         "573648",
         "0.4707999042246764",
         "Dunton, John, 1659-1733",
         "Person",
         "Dunton, John",
         "Person",
         "69"
        ],
        [
         "439566",
         "573649",
         "0.4757748025759096",
         "Dunton, John, 1659-1733.",
         "Person",
         "Dunton, John",
         "Person",
         "67"
        ],
        [
         "439566",
         "573650",
         "0.4757748025759096",
         "Dunton, John, 1659-1733.",
         "Person",
         "Dunton, John",
         "Person",
         "67"
        ],
        [
         "451784",
         "615322",
         "0.5295751135631681",
         "Durbin, Richard",
         "Person",
         "Durbin, Richard M. (b.1960)",
         "Agent",
         "71"
        ],
        [
         "69464",
         "89498",
         "0.4286438940539565",
         "Cleland, John",
         "Person",
         "Cleland, John, 1709-1789.",
         "Person",
         "68"
        ]
       ],
       "shape": {
        "columns": 7,
        "rows": 4365
       }
      },
      "text/html": [
       "<div>\n",
       "<style scoped>\n",
       "    .dataframe tbody tr th:only-of-type {\n",
       "        vertical-align: middle;\n",
       "    }\n",
       "\n",
       "    .dataframe tbody tr th {\n",
       "        vertical-align: top;\n",
       "    }\n",
       "\n",
       "    .dataframe thead th {\n",
       "        text-align: right;\n",
       "    }\n",
       "</style>\n",
       "<table border=\"1\" class=\"dataframe\">\n",
       "  <thead>\n",
       "    <tr style=\"text-align: right;\">\n",
       "      <th></th>\n",
       "      <th>id</th>\n",
       "      <th>prob</th>\n",
       "      <th>label</th>\n",
       "      <th>type</th>\n",
       "      <th>label_canon</th>\n",
       "      <th>type_canon</th>\n",
       "      <th>similarity_score</th>\n",
       "    </tr>\n",
       "    <tr>\n",
       "      <th>canon_id</th>\n",
       "      <th></th>\n",
       "      <th></th>\n",
       "      <th></th>\n",
       "      <th></th>\n",
       "      <th></th>\n",
       "      <th></th>\n",
       "      <th></th>\n",
       "    </tr>\n",
       "  </thead>\n",
       "  <tbody>\n",
       "    <tr>\n",
       "      <th>600829</th>\n",
       "      <td>600831</td>\n",
       "      <td>0.449024</td>\n",
       "      <td>Atherton, John, 1598-1640 Death and burial</td>\n",
       "      <td>Person</td>\n",
       "      <td>Atherton, John, 1598-1640</td>\n",
       "      <td>Person</td>\n",
       "      <td>75</td>\n",
       "    </tr>\n",
       "    <tr>\n",
       "      <th>442789</th>\n",
       "      <td>534506</td>\n",
       "      <td>0.481169</td>\n",
       "      <td>Cranstoun, William Henry, 1714-1752</td>\n",
       "      <td>Person</td>\n",
       "      <td>Cranstoun, William Henry</td>\n",
       "      <td>Person</td>\n",
       "      <td>81</td>\n",
       "    </tr>\n",
       "    <tr>\n",
       "      <th>442789</th>\n",
       "      <td>534507</td>\n",
       "      <td>0.479766</td>\n",
       "      <td>Cranstoun, William Henry, 1714-1752.</td>\n",
       "      <td>Person</td>\n",
       "      <td>Cranstoun, William Henry</td>\n",
       "      <td>Person</td>\n",
       "      <td>80</td>\n",
       "    </tr>\n",
       "    <tr>\n",
       "      <th>499373</th>\n",
       "      <td>524125</td>\n",
       "      <td>0.483220</td>\n",
       "      <td>Stoever, Dietrich Heinrich, 1767-1822</td>\n",
       "      <td>Person</td>\n",
       "      <td>Stoever, Dietrich Heinrich</td>\n",
       "      <td>Person</td>\n",
       "      <td>83</td>\n",
       "    </tr>\n",
       "    <tr>\n",
       "      <th>499373</th>\n",
       "      <td>524126</td>\n",
       "      <td>0.481879</td>\n",
       "      <td>Stoever, Dietrich Heinrich, 1767-1822.</td>\n",
       "      <td>Person</td>\n",
       "      <td>Stoever, Dietrich Heinrich</td>\n",
       "      <td>Person</td>\n",
       "      <td>81</td>\n",
       "    </tr>\n",
       "    <tr>\n",
       "      <th>...</th>\n",
       "      <td>...</td>\n",
       "      <td>...</td>\n",
       "      <td>...</td>\n",
       "      <td>...</td>\n",
       "      <td>...</td>\n",
       "      <td>...</td>\n",
       "      <td>...</td>\n",
       "    </tr>\n",
       "    <tr>\n",
       "      <th>580914</th>\n",
       "      <td>632973</td>\n",
       "      <td>0.489985</td>\n",
       "      <td>Fenwick, W. Soltau (William Soltau), 1821-1914</td>\n",
       "      <td>Person</td>\n",
       "      <td>Fenwick, W. Soltau (William Soltau)</td>\n",
       "      <td>Person</td>\n",
       "      <td>86</td>\n",
       "    </tr>\n",
       "    <tr>\n",
       "      <th>580914</th>\n",
       "      <td>632974</td>\n",
       "      <td>0.488875</td>\n",
       "      <td>Fenwick, W. Soltau (William Soltau), 1821-1914.</td>\n",
       "      <td>Person</td>\n",
       "      <td>Fenwick, W. Soltau (William Soltau)</td>\n",
       "      <td>Person</td>\n",
       "      <td>85</td>\n",
       "    </tr>\n",
       "    <tr>\n",
       "      <th>586006</th>\n",
       "      <td>586009</td>\n",
       "      <td>0.455766</td>\n",
       "      <td>Wittie, Robert, 1613?-1684. Gout-raptures.</td>\n",
       "      <td>Person</td>\n",
       "      <td>Wittie, Robert, 1613?-1684</td>\n",
       "      <td>Person</td>\n",
       "      <td>76</td>\n",
       "    </tr>\n",
       "    <tr>\n",
       "      <th>606338</th>\n",
       "      <td>606339</td>\n",
       "      <td>0.536388</td>\n",
       "      <td>Pidoux.</td>\n",
       "      <td>Person</td>\n",
       "      <td>Pidoux</td>\n",
       "      <td>Agent</td>\n",
       "      <td>92</td>\n",
       "    </tr>\n",
       "    <tr>\n",
       "      <th>640751</th>\n",
       "      <td>640754</td>\n",
       "      <td>0.457170</td>\n",
       "      <td>Hasselquist, Fredrik, 1722-1752. Iter Palaesti...</td>\n",
       "      <td>Person</td>\n",
       "      <td>Hasselquist, Fredrik, 1722-1752</td>\n",
       "      <td>Person</td>\n",
       "      <td>77</td>\n",
       "    </tr>\n",
       "  </tbody>\n",
       "</table>\n",
       "<p>4365 rows × 7 columns</p>\n",
       "</div>"
      ],
      "text/plain": [
       "              id      prob                                              label  \\\n",
       "canon_id                                                                        \n",
       "600829    600831  0.449024         Atherton, John, 1598-1640 Death and burial   \n",
       "442789    534506  0.481169                Cranstoun, William Henry, 1714-1752   \n",
       "442789    534507  0.479766               Cranstoun, William Henry, 1714-1752.   \n",
       "499373    524125  0.483220              Stoever, Dietrich Heinrich, 1767-1822   \n",
       "499373    524126  0.481879             Stoever, Dietrich Heinrich, 1767-1822.   \n",
       "...          ...       ...                                                ...   \n",
       "580914    632973  0.489985     Fenwick, W. Soltau (William Soltau), 1821-1914   \n",
       "580914    632974  0.488875    Fenwick, W. Soltau (William Soltau), 1821-1914.   \n",
       "586006    586009  0.455766         Wittie, Robert, 1613?-1684. Gout-raptures.   \n",
       "606338    606339  0.536388                                            Pidoux.   \n",
       "640751    640754  0.457170  Hasselquist, Fredrik, 1722-1752. Iter Palaesti...   \n",
       "\n",
       "            type                          label_canon type_canon  \\\n",
       "canon_id                                                           \n",
       "600829    Person            Atherton, John, 1598-1640     Person   \n",
       "442789    Person             Cranstoun, William Henry     Person   \n",
       "442789    Person             Cranstoun, William Henry     Person   \n",
       "499373    Person           Stoever, Dietrich Heinrich     Person   \n",
       "499373    Person           Stoever, Dietrich Heinrich     Person   \n",
       "...          ...                                  ...        ...   \n",
       "580914    Person  Fenwick, W. Soltau (William Soltau)     Person   \n",
       "580914    Person  Fenwick, W. Soltau (William Soltau)     Person   \n",
       "586006    Person           Wittie, Robert, 1613?-1684     Person   \n",
       "606338    Person                               Pidoux      Agent   \n",
       "640751    Person      Hasselquist, Fredrik, 1722-1752     Person   \n",
       "\n",
       "          similarity_score  \n",
       "canon_id                    \n",
       "600829                  75  \n",
       "442789                  81  \n",
       "442789                  80  \n",
       "499373                  83  \n",
       "499373                  81  \n",
       "...                    ...  \n",
       "580914                  86  \n",
       "580914                  85  \n",
       "586006                  76  \n",
       "606338                  92  \n",
       "640751                  77  \n",
       "\n",
       "[4365 rows x 7 columns]"
      ]
     },
     "execution_count": 33,
     "metadata": {},
     "output_type": "execute_result"
    }
   ],
   "source": [
    "# Install fuzzywuzzy if not available\n",
    "from fuzzywuzzy import fuzz\n",
    "\n",
    "# Add similarity score column\n",
    "dedup_df['similarity_score'] = dedup_df.apply(\n",
    "    lambda row: fuzz.ratio(str(row['label']), str(row['label_canon'])), axis=1\n",
    ")\n",
    "\n",
    "# Filter out rows where labels are very similar (e.g., similarity > 90)\n",
    "similarity_threshold = 95\n",
    "filtered_dedup_df = dedup_df[(dedup_df['similarity_score'] < similarity_threshold) & ~dedup_df['type'].isin([\"Concept\", \"GenreConcept\", \"missing\", \"Organisation\", \"Place\"])]\n",
    "\n",
    "print(f\"Original rows: {len(dedup_df)}\")\n",
    "print(f\"Filtered rows (similarity < {similarity_threshold}): {len(filtered_dedup_df)}\")\n",
    "print(f\"Removed {len(dedup_df) - len(filtered_dedup_df)} rows with high similarity\")\n",
    "\n",
    "# Show some examples of what was filtered out\n",
    "high_similarity_df = dedup_df[dedup_df['similarity_score'] >= similarity_threshold]\n",
    "print(f\"\\nExample of filtered out rows (high similarity):\")\n",
    "if len(high_similarity_df) > 0:\n",
    "    print(high_similarity_df[['label', 'label_canon', 'similarity_score']].sample(50).to_markdown())\n",
    "else:\n",
    "    print(\"No rows with high similarity found\")\n",
    "\n",
    "filtered_dedup_df"
   ]
  },
  {
   "cell_type": "code",
   "execution_count": 32,
   "id": "b5408e93",
   "metadata": {},
   "outputs": [],
   "source": [
    "filtered_dedup_df.to_csv(\"../data/dn_labels_filtered_dedup_result.csv\", index=True)"
   ]
  },
  {
   "cell_type": "code",
   "execution_count": 33,
   "id": "d7266a4b",
   "metadata": {},
   "outputs": [
    {
     "data": {
      "application/vnd.microsoft.datawrangler.viewer.v0+json": {
       "columns": [
        {
         "name": "canon_id",
         "rawType": "int64",
         "type": "integer"
        },
        {
         "name": "id",
         "rawType": "int64",
         "type": "integer"
        },
        {
         "name": "prob",
         "rawType": "float64",
         "type": "float"
        },
        {
         "name": "label",
         "rawType": "object",
         "type": "string"
        },
        {
         "name": "type",
         "rawType": "object",
         "type": "string"
        },
        {
         "name": "label_canon",
         "rawType": "object",
         "type": "string"
        },
        {
         "name": "type_canon",
         "rawType": "object",
         "type": "string"
        },
        {
         "name": "similarity_score",
         "rawType": "int64",
         "type": "integer"
        }
       ],
       "ref": "3b65a5c4-be88-4aa5-8541-e40437ddebe2",
       "rows": [
        [
         "384580",
         "540144",
         "0.5131468791515565",
         "Wolff, Heinz",
         "Person",
         "Wolff, Heinz (1928- 2017)",
         "Agent",
         "65"
        ],
        [
         "341094",
         "341095",
         "0.487707227059393",
         "Brown.",
         "Person",
         "Brown",
         "Person",
         "91"
        ],
        [
         "341094",
         "341096",
         "0.487707227059393",
         "Brown.",
         "Person",
         "Brown",
         "Person",
         "91"
        ],
        [
         "148963",
         "289309",
         "0.4413638364448118",
         "Pascal, Blaise, 1623-1662. Provinciales.",
         "Person",
         "Pascal, Blaise, 1623-1662",
         "Person",
         "77"
        ],
        [
         "148963",
         "565378",
         "0.4243337619281863",
         "Pascal, Blaise",
         "Person",
         "Pascal, Blaise, 1623-1662",
         "Person",
         "72"
        ],
        [
         "400605",
         "596190",
         "0.4916821719929264",
         "Fournier, Alfred, 1832-1914",
         "Person",
         "Fournier, Alfred",
         "Person",
         "74"
        ],
        [
         "400605",
         "596191",
         "0.4957778907783752",
         "Fournier, Alfred, 1832-1914.",
         "Person",
         "Fournier, Alfred",
         "Person",
         "73"
        ],
        [
         "400605",
         "596192",
         "0.4957778907783752",
         "Fournier, Alfred, 1832-1914.",
         "Person",
         "Fournier, Alfred",
         "Person",
         "73"
        ],
        [
         "113311",
         "113313",
         "0.4745073240329578",
         "Roffe.",
         "Person",
         "Roffe",
         "Agent",
         "91"
        ],
        [
         "267886",
         "321030",
         "0.372496580029368",
         "Gesellschaft Deutscher Naturforscher und Ärzte Versammlung 2004 : Passau)",
         "Meeting",
         "Gesellschaft Deutscher Naturforscher und Ärzte",
         "Organisation",
         "77"
        ],
        [
         "385439",
         "462679",
         "0.5024664438724143",
         "Deutsche Gesellschaft für Geschichte und Theorie der Biologie Jahrestagung 2001 : Berlin, Germany)",
         "Meeting",
         "Deutsche Gesellschaft für Geschichte und Theorie der Biologie.",
         "Organisation",
         "76"
        ],
        [
         "352621",
         "436430",
         "0.4950724461087017",
         "Ferdinando I, Grand-Duke of Tuscany, 1549-1609",
         "Person",
         "Ferdinando I, Grand-Duke of Tuscany, 1549-1609 Marriage.",
         "Person",
         "90"
        ],
        [
         "352621",
         "436431",
         "0.4674444393032098",
         "Ferdinando I, Grand-Duke of Tuscany, 1549-1609.",
         "Person",
         "Ferdinando I, Grand-Duke of Tuscany, 1549-1609 Marriage.",
         "Person",
         "91"
        ],
        [
         "409782",
         "409785",
         "0.5547489242084783",
         "Legge, Thomas Morison, Sir, 1863-1932. Cattle tuberculosis",
         "Agent",
         "Legge, Thomas Morison, Sir, 1863-1932",
         "Person",
         "78"
        ],
        [
         "107",
         "187043",
         "0.4946183947490743",
         "Hodgkin, John, 1766-1805",
         "Agent",
         "Hodgkin, John",
         "Person",
         "70"
        ],
        [
         "107",
         "409272",
         "0.4708709701395958",
         "Hodgkin, John, 1766-1845",
         "Person",
         "Hodgkin, John",
         "Person",
         "70"
        ],
        [
         "107",
         "409273",
         "0.4642560987862684",
         "Hodgkin, John, 1766-1845.",
         "Person",
         "Hodgkin, John",
         "Person",
         "68"
        ],
        [
         "33673",
         "316394",
         "0.4528949506157952",
         "Gassendi, Pierre",
         "Person",
         "Gassendi, Pierre, 1592-1655.",
         "Person",
         "73"
        ],
        [
         "33673",
         "354395",
         "0.528944981998465",
         "Gassendi, Pierre, 1592-1655. Oratio inauguralis.",
         "Agent",
         "Gassendi, Pierre, 1592-1655.",
         "Person",
         "74"
        ],
        [
         "33673",
         "577580",
         "0.5305916343216284",
         "Gassendi, Pierre, 1592-1655. Oratio inauguralis",
         "Agent",
         "Gassendi, Pierre, 1592-1655.",
         "Person",
         "75"
        ],
        [
         "511592",
         "539948",
         "0.45948925692795",
         "Walter, John (Artist)",
         "Person",
         "Walter, John",
         "Person",
         "73"
        ],
        [
         "511592",
         "539949",
         "0.45948925692795",
         "Walter, John (Artist)",
         "Person",
         "Walter, John",
         "Person",
         "73"
        ],
        [
         "23887",
         "112298",
         "0.4550890496368037",
         "Baker, Robert",
         "Person",
         "Baker, Robert, 1803-1880.",
         "Person",
         "68"
        ],
        [
         "23887",
         "497363",
         "0.4550890496368037",
         "Baker, Robert",
         "Person",
         "Baker, Robert, 1803-1880.",
         "Person",
         "68"
        ],
        [
         "396193",
         "396194",
         "0.5233718729649479",
         "Bayly.",
         "Person",
         "Bayly",
         "Agent",
         "91"
        ],
        [
         "257224",
         "370306",
         "0.4662637685769346",
         "Phillips, Richard",
         "Person",
         "Phillips, Richard, 1778-1851",
         "Concept",
         "76"
        ],
        [
         "204486",
         "246681",
         "0.4710252341356015",
         "Hop",
         "Person",
         "Hope, Dr",
         "Person",
         "55"
        ],
        [
         "103840",
         "311974",
         "0.5723450791111653",
         "Avicenna, 980-1037. Miʻrājʹnāmah.",
         "Person",
         "Avicenna, 980-1037. Miʻrājʹnāmah. English.",
         "Agent",
         "88"
        ],
        [
         "109785",
         "178222",
         "0.4800709307403614",
         "Avicenna, 980-1037. Qānūn fī al-ṭibb",
         "Agent",
         "Avicenna, 980-1037.",
         "Person",
         "69"
        ],
        [
         "109785",
         "178223",
         "0.3790444993218806",
         "Avicenna, 980-1037. Qānūn fī al-ṭibb Kitāb 4.",
         "Person",
         "Avicenna, 980-1037.",
         "Person",
         "59"
        ],
        [
         "109785",
         "178224",
         "0.4785238994277186",
         "Avicenna, 980-1037. Qānūn fī al-ṭibb.",
         "Agent",
         "Avicenna, 980-1037.",
         "Person",
         "68"
        ],
        [
         "109785",
         "178225",
         "0.4306788751406765",
         "Avicenna, 980-1037. Qānūn fī al-ṭibb.",
         "Person",
         "Avicenna, 980-1037.",
         "Person",
         "68"
        ],
        [
         "109785",
         "178226",
         "0.4306788751406765",
         "Avicenna, 980-1037. Qānūn fī al-ṭibb.",
         "Person",
         "Avicenna, 980-1037.",
         "Person",
         "68"
        ],
        [
         "109785",
         "178227",
         "0.4092686635689302",
         "Avicenna, 980-1037. Qānūn fī al-ṭibb. Book 4. Fann 3-5. Latin.",
         "Agent",
         "Avicenna, 980-1037.",
         "Person",
         "47"
        ],
        [
         "109785",
         "178229",
         "0.3966527204529358",
         "Avicenna, 980-1037. Qānūn fī al-ṭibb. Kitāb.",
         "Person",
         "Avicenna, 980-1037.",
         "Person",
         "60"
        ],
        [
         "109785",
         "252354",
         "0.4131664592503007",
         "Avicenna, 980-1037. Qānun fī al-ṭibb.",
         "Person",
         "Avicenna, 980-1037.",
         "Person",
         "68"
        ],
        [
         "109785",
         "341476",
         "0.4350626599804003",
         "Avicenna, 980-1037. Canon",
         "Agent",
         "Avicenna, 980-1037.",
         "Person",
         "86"
        ],
        [
         "109785",
         "341477",
         "0.404204047063165",
         "Avicenna, 980-1037. Canon.",
         "Agent",
         "Avicenna, 980-1037.",
         "Person",
         "84"
        ],
        [
         "109785",
         "341481",
         "0.3811273174719203",
         "Avicenna, 980-1037. Canonis",
         "Agent",
         "Avicenna, 980-1037.",
         "Person",
         "83"
        ],
        [
         "109785",
         "439572",
         "0.3851209832038698",
         "Avicenna, 980-1037. Qānūn fī al-ṭibb. Latin.",
         "Person",
         "Avicenna, 980-1037.",
         "Person",
         "60"
        ],
        [
         "109785",
         "468988",
         "0.4339079793626531",
         "Avicenna, 980-1037. Qānūn fī al-ṭibb. Kitāb 4. Latin.",
         "Agent",
         "Avicenna, 980-1037.",
         "Person",
         "53"
        ],
        [
         "341489",
         "341490",
         "0.5835610694182727",
         "Avicenna, 980-1037. Urjūzah fī al-ṭibb. Latin",
         "Agent",
         "Avicenna, 980-1037. Urjūzah fī al-ṭibb.",
         "Person",
         "93"
        ],
        [
         "254106",
         "356778",
         "0.5551118976839289",
         "Early works to 1800",
         "Period",
         "Early works",
         "GenreConcept",
         "73"
        ],
        [
         "4097",
         "431787",
         "0.3649814604852405",
         "New York (N.Y.). Department of Street Cleaning.",
         "Person",
         "New York",
         "Place",
         "29"
        ],
        [
         "20554",
         "175392",
         "0.4960928539905086",
         "Psychoanalysis.",
         "Person",
         "Psychoanalysis and the arts",
         "Concept",
         "67"
        ],
        [
         "64760",
         "390400",
         "0.5224919085414268",
         "New York (N.Y.). Board of Health. Sanatory Committee.",
         "Person",
         "New York (N.Y.). Board of Health",
         "Organisation",
         "75"
        ],
        [
         "118091",
         "402720",
         "0.4989054077162653",
         "New York (State)",
         "Person",
         "New York (State). Department",
         "Organisation",
         "73"
        ],
        [
         "248210",
         "462368",
         "0.4878491777073033",
         "Cold War Steve, 1975-",
         "Person",
         "Cold War",
         "Concept",
         "55"
        ],
        [
         "13997",
         "272459",
         "0.2989020454667719",
         "Great Britain. Parliament. House of Lords.",
         "Person",
         "Great Britain",
         "Organisation",
         "47"
        ],
        [
         "13997",
         "328868",
         "0.343431940333964",
         "Great Britain. Parliament. House of Commons.",
         "Person",
         "Great Britain",
         "Organisation",
         "46"
        ]
       ],
       "shape": {
        "columns": 7,
        "rows": 8848
       }
      },
      "text/html": [
       "<div>\n",
       "<style scoped>\n",
       "    .dataframe tbody tr th:only-of-type {\n",
       "        vertical-align: middle;\n",
       "    }\n",
       "\n",
       "    .dataframe tbody tr th {\n",
       "        vertical-align: top;\n",
       "    }\n",
       "\n",
       "    .dataframe thead th {\n",
       "        text-align: right;\n",
       "    }\n",
       "</style>\n",
       "<table border=\"1\" class=\"dataframe\">\n",
       "  <thead>\n",
       "    <tr style=\"text-align: right;\">\n",
       "      <th></th>\n",
       "      <th>id</th>\n",
       "      <th>prob</th>\n",
       "      <th>label</th>\n",
       "      <th>type</th>\n",
       "      <th>label_canon</th>\n",
       "      <th>type_canon</th>\n",
       "      <th>similarity_score</th>\n",
       "    </tr>\n",
       "    <tr>\n",
       "      <th>canon_id</th>\n",
       "      <th></th>\n",
       "      <th></th>\n",
       "      <th></th>\n",
       "      <th></th>\n",
       "      <th></th>\n",
       "      <th></th>\n",
       "      <th></th>\n",
       "    </tr>\n",
       "  </thead>\n",
       "  <tbody>\n",
       "    <tr>\n",
       "      <th>384580</th>\n",
       "      <td>540144</td>\n",
       "      <td>0.513147</td>\n",
       "      <td>Wolff, Heinz</td>\n",
       "      <td>Person</td>\n",
       "      <td>Wolff, Heinz (1928- 2017)</td>\n",
       "      <td>Agent</td>\n",
       "      <td>65</td>\n",
       "    </tr>\n",
       "    <tr>\n",
       "      <th>341094</th>\n",
       "      <td>341095</td>\n",
       "      <td>0.487707</td>\n",
       "      <td>Brown.</td>\n",
       "      <td>Person</td>\n",
       "      <td>Brown</td>\n",
       "      <td>Person</td>\n",
       "      <td>91</td>\n",
       "    </tr>\n",
       "    <tr>\n",
       "      <th>341094</th>\n",
       "      <td>341096</td>\n",
       "      <td>0.487707</td>\n",
       "      <td>Brown.</td>\n",
       "      <td>Person</td>\n",
       "      <td>Brown</td>\n",
       "      <td>Person</td>\n",
       "      <td>91</td>\n",
       "    </tr>\n",
       "    <tr>\n",
       "      <th>148963</th>\n",
       "      <td>289309</td>\n",
       "      <td>0.441364</td>\n",
       "      <td>Pascal, Blaise, 1623-1662. Provinciales.</td>\n",
       "      <td>Person</td>\n",
       "      <td>Pascal, Blaise, 1623-1662</td>\n",
       "      <td>Person</td>\n",
       "      <td>77</td>\n",
       "    </tr>\n",
       "    <tr>\n",
       "      <th>148963</th>\n",
       "      <td>565378</td>\n",
       "      <td>0.424334</td>\n",
       "      <td>Pascal, Blaise</td>\n",
       "      <td>Person</td>\n",
       "      <td>Pascal, Blaise, 1623-1662</td>\n",
       "      <td>Person</td>\n",
       "      <td>72</td>\n",
       "    </tr>\n",
       "    <tr>\n",
       "      <th>...</th>\n",
       "      <td>...</td>\n",
       "      <td>...</td>\n",
       "      <td>...</td>\n",
       "      <td>...</td>\n",
       "      <td>...</td>\n",
       "      <td>...</td>\n",
       "      <td>...</td>\n",
       "    </tr>\n",
       "    <tr>\n",
       "      <th>639190</th>\n",
       "      <td>639194</td>\n",
       "      <td>0.544778</td>\n",
       "      <td>Bayle, Antoine Laurent Jessé, 1799-1858. Manue...</td>\n",
       "      <td>Agent</td>\n",
       "      <td>Bayle, Antoine Laurent Jessé, 1799-1858</td>\n",
       "      <td>Person</td>\n",
       "      <td>73</td>\n",
       "    </tr>\n",
       "    <tr>\n",
       "      <th>640751</th>\n",
       "      <td>640754</td>\n",
       "      <td>0.457170</td>\n",
       "      <td>Hasselquist, Fredrik, 1722-1752. Iter Palaesti...</td>\n",
       "      <td>Person</td>\n",
       "      <td>Hasselquist, Fredrik, 1722-1752</td>\n",
       "      <td>Person</td>\n",
       "      <td>77</td>\n",
       "    </tr>\n",
       "    <tr>\n",
       "      <th>641930</th>\n",
       "      <td>641931</td>\n",
       "      <td>0.511004</td>\n",
       "      <td>Gillies, R. R. (Robert Reid). Lecture notes on...</td>\n",
       "      <td>Agent</td>\n",
       "      <td>Gillies, R. R. (Robert Reid)</td>\n",
       "      <td>Person</td>\n",
       "      <td>58</td>\n",
       "    </tr>\n",
       "    <tr>\n",
       "      <th>643132</th>\n",
       "      <td>643133</td>\n",
       "      <td>0.574500</td>\n",
       "      <td>Aristotle. Historia animalium. Latin.</td>\n",
       "      <td>Agent</td>\n",
       "      <td>Aristotle. Historia animalium.</td>\n",
       "      <td>Person</td>\n",
       "      <td>90</td>\n",
       "    </tr>\n",
       "    <tr>\n",
       "      <th>646698</th>\n",
       "      <td>646700</td>\n",
       "      <td>0.460954</td>\n",
       "      <td>Bolton, E. Richards (Edward Richards), 1878-19...</td>\n",
       "      <td>Person</td>\n",
       "      <td>Bolton, E. Richards (Edward Richards), 1878-1939</td>\n",
       "      <td>Person</td>\n",
       "      <td>77</td>\n",
       "    </tr>\n",
       "  </tbody>\n",
       "</table>\n",
       "<p>8848 rows × 7 columns</p>\n",
       "</div>"
      ],
      "text/plain": [
       "              id      prob                                              label  \\\n",
       "canon_id                                                                        \n",
       "384580    540144  0.513147                                       Wolff, Heinz   \n",
       "341094    341095  0.487707                                             Brown.   \n",
       "341094    341096  0.487707                                             Brown.   \n",
       "148963    289309  0.441364           Pascal, Blaise, 1623-1662. Provinciales.   \n",
       "148963    565378  0.424334                                     Pascal, Blaise   \n",
       "...          ...       ...                                                ...   \n",
       "639190    639194  0.544778  Bayle, Antoine Laurent Jessé, 1799-1858. Manue...   \n",
       "640751    640754  0.457170  Hasselquist, Fredrik, 1722-1752. Iter Palaesti...   \n",
       "641930    641931  0.511004  Gillies, R. R. (Robert Reid). Lecture notes on...   \n",
       "643132    643133  0.574500              Aristotle. Historia animalium. Latin.   \n",
       "646698    646700  0.460954  Bolton, E. Richards (Edward Richards), 1878-19...   \n",
       "\n",
       "            type                                       label_canon type_canon  \\\n",
       "canon_id                                                                        \n",
       "384580    Person                         Wolff, Heinz (1928- 2017)      Agent   \n",
       "341094    Person                                             Brown     Person   \n",
       "341094    Person                                             Brown     Person   \n",
       "148963    Person                         Pascal, Blaise, 1623-1662     Person   \n",
       "148963    Person                         Pascal, Blaise, 1623-1662     Person   \n",
       "...          ...                                               ...        ...   \n",
       "639190     Agent           Bayle, Antoine Laurent Jessé, 1799-1858     Person   \n",
       "640751    Person                   Hasselquist, Fredrik, 1722-1752     Person   \n",
       "641930     Agent                      Gillies, R. R. (Robert Reid)     Person   \n",
       "643132     Agent                    Aristotle. Historia animalium.     Person   \n",
       "646698    Person  Bolton, E. Richards (Edward Richards), 1878-1939     Person   \n",
       "\n",
       "          similarity_score  \n",
       "canon_id                    \n",
       "384580                  65  \n",
       "341094                  91  \n",
       "341094                  91  \n",
       "148963                  77  \n",
       "148963                  72  \n",
       "...                    ...  \n",
       "639190                  73  \n",
       "640751                  77  \n",
       "641930                  58  \n",
       "643132                  90  \n",
       "646698                  77  \n",
       "\n",
       "[8848 rows x 7 columns]"
      ]
     },
     "execution_count": 33,
     "metadata": {},
     "output_type": "execute_result"
    }
   ],
   "source": [
    "# read filtered dedup result\n",
    "import pandas as pd\n",
    "filtered_dedup_df = pd.read_csv(\"../data/dn_labels_filtered_dedup_result.csv\", index_col=0)\n",
    "filtered_dedup_df"
   ]
  },
  {
   "cell_type": "code",
   "execution_count": 57,
   "id": "a800d63e",
   "metadata": {},
   "outputs": [
    {
     "data": {
      "image/png": "[encoded data removed]",
      "text/plain": [
       "<Figure size 1200x600 with 2 Axes>"
      ]
     },
     "metadata": {},
     "output_type": "display_data"
    },
    {
     "name": "stdout",
     "output_type": "stream",
     "text": [
      "Similarity score statistics:\n",
      "count    119316.000000\n",
      "mean         95.210676\n",
      "std          10.895602\n",
      "min          15.000000\n",
      "25%          98.000000\n",
      "50%         100.000000\n",
      "75%         100.000000\n",
      "max         100.000000\n",
      "Name: similarity_score, dtype: float64\n",
      "\n",
      "--- Examples by similarity range ---\n",
      "\n",
      "Very different labels (similarity < 30): 49 rows\n",
      "                                                      label label_canon  \\\n",
      "canon_id                                                                  \n",
      "3613      Sex role - United States - History - 19th century    Sex role   \n",
      "3613      Sex role - United States - History - 20th century    Sex role   \n",
      "4097        New York (N.Y.). Department of Street Cleaning.    New York   \n",
      "\n",
      "          similarity_score  \n",
      "canon_id                    \n",
      "3613                    28  \n",
      "3613                    28  \n",
      "4097                    29  \n",
      "\n",
      "Moderately similar labels (30-70): 5815 rows\n",
      "                                                      label  \\\n",
      "canon_id                                                      \n",
      "227945          Jones, John Matthew. Naturalist in Bermuda.   \n",
      "400605    Fournier, Alfred, 1832-1914. Lecons sur la syp...   \n",
      "19326     Royal College of Physicians of London. Pharmac...   \n",
      "\n",
      "                          label_canon  similarity_score  \n",
      "canon_id                                                 \n",
      "227945                    Jones, John                41  \n",
      "400605               Fournier, Alfred                48  \n",
      "19326     Royal College of Physicians                59  \n",
      "\n",
      "Very similar labels (similarity >= 70): 113452 rows\n",
      "                         label   label_canon  similarity_score\n",
      "canon_id                                                      \n",
      "1                 Criminal law  Criminal law               100\n",
      "1                 Criminal law  Criminal law               100\n",
      "1         Criminal law - Women  Criminal law                75\n"
     ]
    }
   ],
   "source": [
    "# Analyze similarity score distribution\n",
    "import matplotlib.pyplot as plt\n",
    "\n",
    "plt.figure(figsize=(12, 6))\n",
    "\n",
    "# Histogram of similarity scores\n",
    "plt.subplot(1, 2, 1)\n",
    "plt.hist(dedup_df['similarity_score'], bins=20, alpha=0.7, color='blue')\n",
    "plt.title('Distribution of Similarity Scores')\n",
    "plt.xlabel('Similarity Score')\n",
    "plt.ylabel('Frequency')\n",
    "plt.axvline(x=similarity_threshold, color='red', linestyle='--', label=f'Threshold: {similarity_threshold}')\n",
    "plt.legend()\n",
    "\n",
    "# Box plot\n",
    "plt.subplot(1, 2, 2)\n",
    "plt.boxplot(dedup_df['similarity_score'])\n",
    "plt.title('Similarity Score Box Plot')\n",
    "plt.ylabel('Similarity Score')\n",
    "\n",
    "plt.tight_layout()\n",
    "plt.show()\n",
    "\n",
    "print(\"Similarity score statistics:\")\n",
    "print(dedup_df['similarity_score'].describe())\n",
    "\n",
    "# Show examples at different similarity ranges\n",
    "print(\"\\n--- Examples by similarity range ---\")\n",
    "\n",
    "# Very different labels (low similarity)\n",
    "low_sim = dedup_df[dedup_df['similarity_score'] < 30]\n",
    "if len(low_sim) > 0:\n",
    "    print(f\"\\nVery different labels (similarity < 30): {len(low_sim)} rows\")\n",
    "    print(low_sim[['label', 'label_canon', 'similarity_score']].head(3))\n",
    "\n",
    "# Moderately similar labels\n",
    "med_sim = dedup_df[(dedup_df['similarity_score'] >= 30) & (dedup_df['similarity_score'] < 70)]\n",
    "if len(med_sim) > 0:\n",
    "    print(f\"\\nModerately similar labels (30-70): {len(med_sim)} rows\")\n",
    "    print(med_sim[['label', 'label_canon', 'similarity_score']].head(3))\n",
    "\n",
    "# Very similar labels (high similarity)\n",
    "high_sim = dedup_df[dedup_df['similarity_score'] >= 70]\n",
    "if len(high_sim) > 0:\n",
    "    print(f\"\\nVery similar labels (similarity >= 70): {len(high_sim)} rows\")\n",
    "    print(high_sim[['label', 'label_canon', 'similarity_score']].head(3))"
   ]
  }
 ],
 "metadata": {
  "kernelspec": {
   "display_name": "wc-simd",
   "language": "python",
   "name": "python3"
  },
  "language_info": {
   "codemirror_mode": {
    "name": "ipython",
    "version": 3
   },
   "file_extension": ".py",
   "mimetype": "text/x-python",
   "name": "python",
   "nbconvert_exporter": "python",
   "pygments_lexer": "ipython3",
   "version": "3.10.17"
  }
 },
 "nbformat": 4,
 "nbformat_minor": 5
}
