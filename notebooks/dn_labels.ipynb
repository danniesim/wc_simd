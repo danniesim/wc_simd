{
 "cells": [
  {
   "cell_type": "markdown",
   "id": "27d358e4",
   "metadata": {},
   "source": [
    "# Init Spark"
   ]
  },
  {
   "cell_type": "code",
   "execution_count": 1,
   "id": "c4cc7e1d",
   "metadata": {},
   "outputs": [
    {
     "name": "stderr",
     "output_type": "stream",
     "text": [
      "Setting default log level to \"WARN\".\n",
      "To adjust logging level use sc.setLogLevel(newLevel). For SparkR, use setLogLevel(newLevel).\n",
      "25/07/29 11:10:05 WARN NativeCodeLoader: Unable to load native-hadoop library for your platform... using builtin-java classes where applicable\n"
     ]
    }
   ],
   "source": [
    "from pyspark.sql import SparkSession\n",
    "\n",
    "spark = SparkSession.builder \\\n",
    "    .appName(\"test_pyspark\") \\\n",
    "    .config(\"spark.driver.memory\", \"100g\") \\\n",
    "    .config(\"spark.executor.memory\", \"100g\") \\\n",
    "    .config(\"spark.sql.orc.enableVectorizedReader\", \"false\") \\\n",
    "    .config(\"spark.sql.parquet.columnarReaderBatchSize\", \"256\") \\\n",
    "    .config(\"spark.sql.orc.columnarReaderBatchSize\", \"256\") \\\n",
    "    .config(\"spark.sql.shuffle.partitions\", \"1024\") \\\n",
    "    .config(\"spark.driver.maxResultSize\", \"4g\") \\\n",
    "    .getOrCreate()\n",
    "\n",
    "spark.sparkContext.setLogLevel(\"ERROR\")"
   ]
  },
  {
   "cell_type": "markdown",
   "id": "14a84c24",
   "metadata": {},
   "source": [
    "# Load Genre, Contributor and Subject DataFrames"
   ]
  },
  {
   "cell_type": "code",
   "execution_count": 2,
   "id": "bbce2eb1",
   "metadata": {},
   "outputs": [
    {
     "name": "stderr",
     "output_type": "stream",
     "text": [
      "                                                                                \r"
     ]
    },
    {
     "name": "stdout",
     "output_type": "stream",
     "text": [
      "Genres DataFrame Count: 721934\n",
      "Contributors DataFrame Count: 1145222\n",
      "Subjects DataFrame Count: 1872144\n"
     ]
    }
   ],
   "source": [
    "genres_df = spark.table(\"dn_flat_generes\")\n",
    "contributors_df = spark.table(\"dn_flat_contributors\")\n",
    "subjects_df = spark.table(\"dn_flat_subjects\")\n",
    "\n",
    "print(\"Genres DataFrame Count:\", genres_df.count())\n",
    "\n",
    "print(\"Contributors DataFrame Count:\", contributors_df.count())\n",
    "\n",
    "print(\"Subjects DataFrame Count:\", subjects_df.count())"
   ]
  },
  {
   "cell_type": "markdown",
   "id": "5fe704b0",
   "metadata": {},
   "source": [
    "# Find work with subject-concept"
   ]
  },
  {
   "cell_type": "code",
   "execution_count": 12,
   "id": "f2e4b248",
   "metadata": {},
   "outputs": [
    {
     "name": "stdout",
     "output_type": "stream",
     "text": [
      "+------------+--------------------+-----------+\n",
      "|canonical_id|               label|canonicalId|\n",
      "+------------+--------------------+-----------+\n",
      "|    kem6qmdp|Batavian Republic...|   h4ahaum4|\n",
      "|    akcpe654|Batavian Republic...|   h4ahaum4|\n",
      "+------------+--------------------+-----------+\n",
      "\n"
     ]
    }
   ],
   "source": [
    "from pyspark.sql import functions as F\n",
    "\n",
    "labels_per_work_df = (\n",
    "    spark.table(\"es_works_denormalised\")\n",
    "    .select(\"canonical_id\", \"document.data.subjects\")\n",
    "    .select(\"canonical_id\", F.explode(\"subjects\").alias(\"subject\"))\n",
    "    .select(\"canonical_id\", F.explode(\"subject.concepts\").alias(\"concept\"))\n",
    "    .select(\"canonical_id\", \"concept.label\", \"concept.id.canonicalId\")\n",
    "    .where(F.col(\"canonicalId\") == \"h4ahaum4\")\n",
    ").show()"
   ]
  },
  {
   "cell_type": "code",
   "execution_count": 14,
   "id": "a75b35b6",
   "metadata": {},
   "outputs": [
    {
     "name": "stdout",
     "output_type": "stream",
     "text": [
      "+------------+--------------------+-----------+\n",
      "|canonical_id|               label|canonicalId|\n",
      "+------------+--------------------+-----------+\n",
      "|    acqfukqt|Ming dynasty, 136...|   h77dk6pw|\n",
      "|    na543q7e|Ming dynasty, 136...|   h77dk6pw|\n",
      "|    hkszazva|Ming dynasty, 136...|   h77dk6pw|\n",
      "|    gusyhuuy|Ming dynasty, 136...|   h77dk6pw|\n",
      "|    ft3tkc5f|Ming dynasty, 136...|   h77dk6pw|\n",
      "|    ret8unaw|Ming dynasty, 136...|   h77dk6pw|\n",
      "+------------+--------------------+-----------+\n",
      "\n"
     ]
    }
   ],
   "source": [
    "from pyspark.sql import functions as F\n",
    "\n",
    "labels_per_work_df = (\n",
    "    spark.table(\"es_works_denormalised\")\n",
    "    .select(\"canonical_id\", \"document.data.subjects\")\n",
    "    .select(\"canonical_id\", F.explode(\"subjects\").alias(\"subject\"))\n",
    "    .select(\"canonical_id\", F.explode(\"subject.concepts\").alias(\"concept\"))\n",
    "    .select(\"canonical_id\", \"concept.label\", \"concept.id.canonicalId\")\n",
    "    .where(F.col(\"canonicalId\") == \"h77dk6pw\")\n",
    ").show()"
   ]
  },
  {
   "cell_type": "markdown",
   "id": "f97ef8ee",
   "metadata": {},
   "source": [
    "# Get a URL for each WC Concept type"
   ]
  },
  {
   "cell_type": "code",
   "execution_count": 4,
   "id": "3377edaf",
   "metadata": {},
   "outputs": [
    {
     "name": "stdout",
     "output_type": "stream",
     "text": [
      "+--------+----------------+------------+-------------+------------------+----------+----------------------------+---------------------+----------------------+\n",
      "|  workId|           label|        type|idCanonicalId|idOtherIdentifiers|    idType|sourceIdentifierOntologyType|sourceIdentifierValue|sourceIdentifierTypeId|\n",
      "+--------+----------------+------------+-------------+------------------+----------+----------------------------+---------------------+----------------------+\n",
      "|q2d2uh6c|        Ephemera|GenreConcept|     kpmugnt4|                []|Identified|                       Genre|             ephemera|         label-derived|\n",
      "|q2d2uh6c|           Cards|GenreConcept|     dk6pwya6|                []|Identified|                       Genre|                cards|         label-derived|\n",
      "|deg75qk6|Electronic books|GenreConcept|     kqkakf66|                []|Identified|                       Genre|     electronic books|         label-derived|\n",
      "|nhzkz8f9|Electronic books|GenreConcept|     kqkakf66|                []|Identified|                       Genre|     electronic books|         label-derived|\n",
      "|prswzbdk|     Watercolors|GenreConcept|     ay8fy8p4|                []|Identified|                       Genre|          watercolors|         label-derived|\n",
      "|ra49cq5g|Electronic books|GenreConcept|     kqkakf66|                []|Identified|                       Genre|     electronic books|         label-derived|\n",
      "|jgrtt52w|Electronic books|GenreConcept|     kqkakf66|                []|Identified|                       Genre|     electronic books|         label-derived|\n",
      "|jgrtt52w|  Annual reports|GenreConcept|     ajcm2jdg|                []|Identified|                       Genre|       annual reports|         label-derived|\n",
      "|jgrtt52w|     MOH reports|GenreConcept|     rasp7aye|                []|Identified|                       Genre|          moh reports|         label-derived|\n",
      "|kckp8yhy|Electronic books|GenreConcept|     kqkakf66|                []|Identified|                       Genre|     electronic books|         label-derived|\n",
      "|kckp8yhy|  Annual reports|GenreConcept|     ajcm2jdg|                []|Identified|                       Genre|       annual reports|         label-derived|\n",
      "|kckp8yhy|     MOH reports|GenreConcept|     rasp7aye|                []|Identified|                       Genre|          moh reports|         label-derived|\n",
      "|whkj5muv|Electronic Books|GenreConcept|     kqkakf66|                []|Identified|                       Genre|     electronic books|         label-derived|\n",
      "|whkj5muv|  Annual reports|GenreConcept|     ajcm2jdg|                []|Identified|                       Genre|       annual reports|         label-derived|\n",
      "|whkj5muv|     MOH reports|GenreConcept|     rasp7aye|                []|Identified|                       Genre|          moh reports|         label-derived|\n",
      "|wfsguexy|Electronic Books|GenreConcept|     kqkakf66|                []|Identified|                       Genre|     electronic books|         label-derived|\n",
      "|wfsguexy|  Annual reports|GenreConcept|     ajcm2jdg|                []|Identified|                       Genre|       annual reports|         label-derived|\n",
      "|wfsguexy|     MOH reports|GenreConcept|     rasp7aye|                []|Identified|                       Genre|          moh reports|         label-derived|\n",
      "|a2w95ygj|Electronic books|GenreConcept|     kqkakf66|                []|Identified|                       Genre|     electronic books|         label-derived|\n",
      "|a2w95ygj|  Annual reports|GenreConcept|     ajcm2jdg|                []|Identified|                       Genre|       annual reports|         label-derived|\n",
      "+--------+----------------+------------+-------------+------------------+----------+----------------------------+---------------------+----------------------+\n",
      "only showing top 20 rows\n",
      "\n"
     ]
    }
   ],
   "source": [
    "genres_df.show()"
   ]
  },
  {
   "cell_type": "code",
   "execution_count": 6,
   "id": "5c2d2271",
   "metadata": {},
   "outputs": [
    {
     "name": "stdout",
     "output_type": "stream",
     "text": [
      "+--------+--------------------+-----------+----------------+----------+------------+--------------------+----------------+\n",
      "|  workId|               label|canonicalId|otherIdentifiers|      type|ontologyType|               value|identifierTypeId|\n",
      "+--------+--------------------+-----------+----------------+----------+------------+--------------------+----------------+\n",
      "|rrzu98v9|   Disease Outbreaks|   d6jhgxuc|              []|Identified|     Concept|             D004196|        nlm-mesh|\n",
      "|rrzu98v9|       Public Health|   uj4hz4ct|              []|Identified|     Concept|             D011634|        nlm-mesh|\n",
      "|rrzu98v9|          Sanitation|   eva7r2dw|              []|Identified|     Concept|             D012499|        nlm-mesh|\n",
      "|rrzu98v9|        Water Supply|   gtf5s7h7|              []|Identified|     Concept|             D014881|        nlm-mesh|\n",
      "|rrzu98v9| Prestwich (England)|   khujdpxm|              []|Identified|       Place|           n88278868|        lc-names|\n",
      "|quewab8c|Universities and ...|   hun2nnez|              []|Identified|     Concept|          sh85141128|     lc-subjects|\n",
      "|quewab8c|          Physicians|   nkbegcb7|              []|Identified|     Concept|             D010820|        nlm-mesh|\n",
      "|quewab8c|Education, Medica...|   hxbzcdcc|              []|Identified|     Concept|      D004501Q000266|        nlm-mesh|\n",
      "|quewab8c|  Libraries, Medical|   bn4x6auz|              []|Identified|     Concept|             D007993|        nlm-mesh|\n",
      "|quewab8c|  Glasgow (Scotland)|   v4u8kmxz|              []|Identified|       Place|           n81039926|        lc-names|\n",
      "|quewab8c|Royal College of ...|   qv8bx64j|              []|Identified|Organisation|           n50069411|        lc-names|\n",
      "|b2f89v79|Education, Nursin...|   t6j9rety|              []|Identified|     Concept|             D004509|        nlm-mesh|\n",
      "|b2f89v79|       United States|   qxs9ppqa|              []|Identified|       Place|           n78095330|        lc-names|\n",
      "|ghvqtw96|          Anesthesia|   vq5xhce9|              []|Identified|     Concept|          anesthesia|   label-derived|\n",
      "|ghvqtw96|         Anesthetics|   uqvgcsxe|              []|Identified|     Concept|         anesthetics|   label-derived|\n",
      "|ghvqtw96|Nebulizers and Va...|   qg99vmtv|              []|Identified|     Concept|nebulizers and va...|   label-derived|\n",
      "|v2ct83ft| 18th-19th centuries|   nwuvzzwp|              []|Identified|      Period| 18th-19th centuries|   label-derived|\n",
      "|v2ct83ft|Disease Outbreaks...|   e6nbgznu|              []|Identified|     Concept|      D004196Q000266|        nlm-mesh|\n",
      "|v2ct83ft|Public Health - h...|   vqaamf7w|              []|Identified|     Concept|      D011634Q000266|        nlm-mesh|\n",
      "|v2ct83ft|        Epidemiology|   fjufpde6|              []|Identified|     Concept|             D004813|        nlm-mesh|\n",
      "+--------+--------------------+-----------+----------------+----------+------------+--------------------+----------------+\n",
      "only showing top 20 rows\n",
      "\n"
     ]
    }
   ],
   "source": [
    "subjects_df.show()"
   ]
  },
  {
   "cell_type": "code",
   "execution_count": 5,
   "id": "f0b27ad8",
   "metadata": {},
   "outputs": [
    {
     "name": "stdout",
     "output_type": "stream",
     "text": [
      "+----------------+--------+------------+------+\n",
      "|           label|      id|        type|source|\n",
      "+----------------+--------+------------+------+\n",
      "|        Ephemera|kpmugnt4|GenreConcept| genre|\n",
      "|           Cards|dk6pwya6|GenreConcept| genre|\n",
      "|Electronic books|kqkakf66|GenreConcept| genre|\n",
      "|Electronic books|kqkakf66|GenreConcept| genre|\n",
      "|     Watercolors|ay8fy8p4|GenreConcept| genre|\n",
      "|Electronic books|kqkakf66|GenreConcept| genre|\n",
      "|Electronic books|kqkakf66|GenreConcept| genre|\n",
      "|  Annual reports|ajcm2jdg|GenreConcept| genre|\n",
      "|     MOH reports|rasp7aye|GenreConcept| genre|\n",
      "|Electronic books|kqkakf66|GenreConcept| genre|\n",
      "|  Annual reports|ajcm2jdg|GenreConcept| genre|\n",
      "|     MOH reports|rasp7aye|GenreConcept| genre|\n",
      "|Electronic Books|kqkakf66|GenreConcept| genre|\n",
      "|  Annual reports|ajcm2jdg|GenreConcept| genre|\n",
      "|     MOH reports|rasp7aye|GenreConcept| genre|\n",
      "|Electronic Books|kqkakf66|GenreConcept| genre|\n",
      "|  Annual reports|ajcm2jdg|GenreConcept| genre|\n",
      "|     MOH reports|rasp7aye|GenreConcept| genre|\n",
      "|Electronic books|kqkakf66|GenreConcept| genre|\n",
      "|  Annual reports|ajcm2jdg|GenreConcept| genre|\n",
      "+----------------+--------+------------+------+\n",
      "only showing top 20 rows\n",
      "\n"
     ]
    }
   ],
   "source": [
    "from pyspark.sql import functions as F\n",
    "\n",
    "combined_df = genres_df.select(\n",
    "    \"label\", F.col(\"idCanonicalId\").alias(\"id\"),\n",
    "    \"type\", F.lit(\"genre\").alias(\"source\"))\n",
    "combined_df = combined_df.union(\n",
    "    contributors_df.select(\n",
    "        \"label\", F.col(\"idCanonicalId\").alias(\"id\"),\n",
    "        F.col(\"idSourceIdentifierOntologyType\").alias(\"type\"),\n",
    "        F.lit(\"contributor\").alias(\"source\")))\n",
    "combined_df = combined_df.union(\n",
    "    subjects_df.select(\n",
    "        F.col(\"label\").alias(\"label\"),\n",
    "        F.col(\"canonicalId\").alias(\"id\"),\n",
    "        F.col(\"ontologyType\").alias(\"type\"), F.lit(\"subject\").alias(\"source\")))\n",
    "\n",
    "combined_df.show()"
   ]
  },
  {
   "cell_type": "code",
   "execution_count": 7,
   "id": "5478a330",
   "metadata": {},
   "outputs": [
    {
     "name": "stderr",
     "output_type": "stream",
     "text": [
      "[Stage 12:===================================>                  (75 + 39) / 114]\r"
     ]
    },
    {
     "name": "stdout",
     "output_type": "stream",
     "text": [
      "+------------+\n",
      "|        type|\n",
      "+------------+\n",
      "|      Period|\n",
      "|     Concept|\n",
      "|       Place|\n",
      "|GenreConcept|\n",
      "|       Agent|\n",
      "|     Meeting|\n",
      "|Organisation|\n",
      "|      Person|\n",
      "|        NULL|\n",
      "+------------+\n",
      "\n"
     ]
    },
    {
     "name": "stderr",
     "output_type": "stream",
     "text": [
      "                                                                                \r"
     ]
    }
   ],
   "source": [
    "combined_df.select(\"type\").distinct().show()"
   ]
  },
  {
   "cell_type": "code",
   "execution_count": 12,
   "id": "71f6dbb2",
   "metadata": {},
   "outputs": [
    {
     "name": "stdout",
     "output_type": "stream",
     "text": [
      "+----------------------------------------------------------------------------------------+--------+------------+-----------+------------------------------------------------+\n",
      "|label                                                                                   |id      |type        |source     |url                                             |\n",
      "+----------------------------------------------------------------------------------------+--------+------------+-----------+------------------------------------------------+\n",
      "|Eugene Maillot, 1841-1889, Director of the Station Séricicole, Montpellier              |uj8ttt5d|Agent       |contributor|https://wellcomecollection.org/concepts/uj8ttt5d|\n",
      "|Hippocrates. Aphorisms. Latin.                                                          |tcxympzg|Agent       |contributor|https://wellcomecollection.org/concepts/tcxympzg|\n",
      "|Hypatus. De partibus corporis.                                                          |k34fatfs|Agent       |contributor|https://wellcomecollection.org/concepts/k34fatfs|\n",
      "|Macroscopic Solutions                                                                   |tmxkx363|Agent       |contributor|https://wellcomecollection.org/concepts/tmxkx363|\n",
      "|T.Blundell & N Campillo                                                                 |tn8377vn|Agent       |contributor|https://wellcomecollection.org/concepts/tn8377vn|\n",
      "|Johanna Engel                                                                           |vbazhn67|Agent       |contributor|https://wellcomecollection.org/concepts/vbazhn67|\n",
      "|Health Education Council                                                                |z64udmmk|Agent       |contributor|https://wellcomecollection.org/concepts/z64udmmk|\n",
      "|Dave Farnham                                                                            |tuzgp2hz|Agent       |contributor|https://wellcomecollection.org/concepts/tuzgp2hz|\n",
      "|Norris, Keith Patrick                                                                   |ffttbj24|Agent       |contributor|https://wellcomecollection.org/concepts/ffttbj24|\n",
      "|Health Education Council                                                                |z64udmmk|Agent       |contributor|https://wellcomecollection.org/concepts/z64udmmk|\n",
      "|Water Supply                                                                            |gtf5s7h7|Concept     |subject    |https://wellcomecollection.org/concepts/gtf5s7h7|\n",
      "|Hominidae                                                                               |fanstmub|Concept     |subject    |https://wellcomecollection.org/concepts/fanstmub|\n",
      "|International Cooperation                                                               |k9xjk9gc|Concept     |subject    |https://wellcomecollection.org/concepts/k9xjk9gc|\n",
      "|Water Supply                                                                            |gtf5s7h7|Concept     |subject    |https://wellcomecollection.org/concepts/gtf5s7h7|\n",
      "|Sanitation                                                                              |eva7r2dw|Concept     |subject    |https://wellcomecollection.org/concepts/eva7r2dw|\n",
      "|HIV infections - Great Britain - Prevention                                             |p3skjetf|Concept     |subject    |https://wellcomecollection.org/concepts/p3skjetf|\n",
      "|General Surgery                                                                         |htqz7km9|Concept     |subject    |https://wellcomecollection.org/concepts/htqz7km9|\n",
      "|Public Health                                                                           |uj4hz4ct|Concept     |subject    |https://wellcomecollection.org/concepts/uj4hz4ct|\n",
      "|Public Health                                                                           |uj4hz4ct|Concept     |subject    |https://wellcomecollection.org/concepts/uj4hz4ct|\n",
      "|Water Supply                                                                            |gtf5s7h7|Concept     |subject    |https://wellcomecollection.org/concepts/gtf5s7h7|\n",
      "|Pamphlets                                                                               |tbeys2vz|GenreConcept|genre      |https://wellcomecollection.org/concepts/tbeys2vz|\n",
      "|Statistics                                                                              |y2yes53w|GenreConcept|genre      |https://wellcomecollection.org/concepts/y2yes53w|\n",
      "|Electronic books                                                                        |kqkakf66|GenreConcept|genre      |https://wellcomecollection.org/concepts/kqkakf66|\n",
      "|Photographs                                                                             |gcrtbhvk|GenreConcept|genre      |https://wellcomecollection.org/concepts/gcrtbhvk|\n",
      "|Electronic books                                                                        |kqkakf66|GenreConcept|genre      |https://wellcomecollection.org/concepts/kqkakf66|\n",
      "|Statistics                                                                              |y2yes53w|GenreConcept|genre      |https://wellcomecollection.org/concepts/y2yes53w|\n",
      "|Annual reports                                                                          |ajcm2jdg|GenreConcept|genre      |https://wellcomecollection.org/concepts/ajcm2jdg|\n",
      "|Electronic books                                                                        |kqkakf66|GenreConcept|genre      |https://wellcomecollection.org/concepts/kqkakf66|\n",
      "|Paintings                                                                               |nns7bsba|GenreConcept|genre      |https://wellcomecollection.org/concepts/nns7bsba|\n",
      "|MOH reports                                                                             |rasp7aye|GenreConcept|genre      |https://wellcomecollection.org/concepts/rasp7aye|\n",
      "|Symposium on Molecular basis of some aspects of mental activity (1965 : Drammen, Norway)|mz5btz6b|Meeting     |contributor|https://wellcomecollection.org/concepts/mz5btz6b|\n",
      "|Asian Congress of Nutrition 1971 : Hyderabad, India)                                    |zg8hp6uu|Meeting     |contributor|https://wellcomecollection.org/concepts/zg8hp6uu|\n",
      "|Congresul Național de Știinṭe Medicale.                                                 |gdkjrr2g|Meeting     |contributor|https://wellcomecollection.org/concepts/gdkjrr2g|\n",
      "|Symposium on Renal Disease (1982? : Edinburgh, Scotland)                                |pwuafg6r|Meeting     |contributor|https://wellcomecollection.org/concepts/pwuafg6r|\n",
      "|Symposium on Occurrence, Causes and Prevention of Nutritional Anaemias (1967 : Tylösand)|s39e28rg|Meeting     |contributor|https://wellcomecollection.org/concepts/s39e28rg|\n",
      "|Joined up people (2000)                                                                 |edwt6ptc|Meeting     |contributor|https://wellcomecollection.org/concepts/edwt6ptc|\n",
      "|World Psychiatric Association Symposium on Aspects of Anxiety (1967 : London, England)  |gp5jb2e6|Meeting     |contributor|https://wellcomecollection.org/concepts/gp5jb2e6|\n",
      "|Symposium on Perinatal Infections (1979 : Ciba Foundation)                              |fk5thxyn|Meeting     |contributor|https://wellcomecollection.org/concepts/fk5thxyn|\n",
      "|Miami Winter Symposium (1981)                                                           |ug4brps3|Meeting     |contributor|https://wellcomecollection.org/concepts/ug4brps3|\n",
      "|Livestock Conference (1950 : Port-of-Spain, Trinidad and Tobago)                        |djxxhb8q|Meeting     |contributor|https://wellcomecollection.org/concepts/djxxhb8q|\n",
      "|Instytut Parazytologii im. Witolda Stefańskiego.                                        |j3zh7m6z|Organisation|contributor|https://wellcomecollection.org/concepts/j3zh7m6z|\n",
      "|Framingham Earl High School.                                                            |g5qkqa8u|Organisation|contributor|https://wellcomecollection.org/concepts/g5qkqa8u|\n",
      "|Dore and Bredwardine (England). Rural District Council.                                 |mxh24yy5|Organisation|contributor|https://wellcomecollection.org/concepts/mxh24yy5|\n",
      "|Royal College of Surgeons of England                                                    |v34xt6v9|Organisation|contributor|https://wellcomecollection.org/concepts/v34xt6v9|\n",
      "|Francis A. Countway Library of Medicine                                                 |szxgyp8p|Organisation|contributor|https://wellcomecollection.org/concepts/szxgyp8p|\n",
      "|Ecole de médecine de Montpellier                                                        |dyh7tdpc|Organisation|contributor|https://wellcomecollection.org/concepts/dyh7tdpc|\n",
      "|Somerset (England). County Council.                                                     |ecgkmkye|Organisation|contributor|https://wellcomecollection.org/concepts/ecgkmkye|\n",
      "|University of Bristol. Library                                                          |ty9dk55f|Organisation|contributor|https://wellcomecollection.org/concepts/ty9dk55f|\n",
      "|British Medical Anthropology Society                                                    |k7ks8v59|Organisation|subject    |https://wellcomecollection.org/concepts/k7ks8v59|\n",
      "|Accrington (England). Borough Council.                                                  |rd64rapy|Organisation|contributor|https://wellcomecollection.org/concepts/rd64rapy|\n",
      "|20th century                                                                            |zd3xwfb9|Period      |subject    |https://wellcomecollection.org/concepts/zd3xwfb9|\n",
      "|17th-18th centuries                                                                     |ruufzpek|Period      |subject    |https://wellcomecollection.org/concepts/ruufzpek|\n",
      "|20th century                                                                            |zd3xwfb9|Period      |subject    |https://wellcomecollection.org/concepts/zd3xwfb9|\n",
      "|19th-20th centuries                                                                     |z93mudxg|Period      |subject    |https://wellcomecollection.org/concepts/z93mudxg|\n",
      "|18th century                                                                            |nhvtuf2z|Period      |subject    |https://wellcomecollection.org/concepts/nhvtuf2z|\n",
      "|19th-20th centuries                                                                     |z93mudxg|Period      |subject    |https://wellcomecollection.org/concepts/z93mudxg|\n",
      "|Medieval                                                                                |u7wdfvcj|Period      |subject    |https://wellcomecollection.org/concepts/u7wdfvcj|\n",
      "|20th century                                                                            |zd3xwfb9|Period      |subject    |https://wellcomecollection.org/concepts/zd3xwfb9|\n",
      "|Medieval                                                                                |u7wdfvcj|Period      |subject    |https://wellcomecollection.org/concepts/u7wdfvcj|\n",
      "|19th-20th centuries                                                                     |z93mudxg|Period      |subject    |https://wellcomecollection.org/concepts/z93mudxg|\n",
      "|John, the Baptist, Saint.                                                               |ywavfdsc|Person      |subject    |https://wellcomecollection.org/concepts/ywavfdsc|\n",
      "|Cagney, James                                                                           |bhd8yp5w|Person      |contributor|https://wellcomecollection.org/concepts/bhd8yp5w|\n",
      "|Maupassant, Guy de, 1850-1893.                                                          |y73dwkua|Person      |subject    |https://wellcomecollection.org/concepts/y73dwkua|\n",
      "|Brown-Séquard, Charles-Edouard, 1817-1894.                                              |wmqz96hs|Person      |contributor|https://wellcomecollection.org/concepts/wmqz96hs|\n",
      "|Boole, George, 1815-1864.                                                               |stqa3cxt|Person      |contributor|https://wellcomecollection.org/concepts/stqa3cxt|\n",
      "|Scudéry, Madeleine de 1607-1701                                                         |x46v66fh|Person      |contributor|https://wellcomecollection.org/concepts/x46v66fh|\n",
      "|Krieger, Howard P.                                                                      |nvsfg79q|Person      |contributor|https://wellcomecollection.org/concepts/nvsfg79q|\n",
      "|Richardson, Bertram.                                                                    |pb9kb496|Person      |contributor|https://wellcomecollection.org/concepts/pb9kb496|\n",
      "|Monte Snyders, Johann de, fl. 17th century.                                             |mhw7fjqu|Person      |contributor|https://wellcomecollection.org/concepts/mhw7fjqu|\n",
      "|Irājū Mutaliyār, Kuyappēṭṭai Vī.                                                        |gk5dna57|Person      |contributor|https://wellcomecollection.org/concepts/gk5dna57|\n",
      "|Great Britain                                                                           |cza334ke|Place       |subject    |https://wellcomecollection.org/concepts/cza334ke|\n",
      "|Tasmania                                                                                |kzjym6pd|Place       |subject    |https://wellcomecollection.org/concepts/kzjym6pd|\n",
      "|Great Britain                                                                           |cza334ke|Place       |subject    |https://wellcomecollection.org/concepts/cza334ke|\n",
      "|Hungary - Economic conditions - 1989-                                                   |b8w84q8b|Place       |subject    |https://wellcomecollection.org/concepts/b8w84q8b|\n",
      "|Denbigh (Wales)                                                                         |c94f5qvf|Place       |subject    |https://wellcomecollection.org/concepts/c94f5qvf|\n",
      "|United States                                                                           |qxs9ppqa|Place       |subject    |https://wellcomecollection.org/concepts/qxs9ppqa|\n",
      "|Vienna (Austria)                                                                        |ukt62j42|Place       |subject    |https://wellcomecollection.org/concepts/ukt62j42|\n",
      "|Mold (Wales)                                                                            |whuccrtq|Place       |subject    |https://wellcomecollection.org/concepts/whuccrtq|\n",
      "|Scotland - Pictorial works                                                              |xjgg838u|Place       |subject    |https://wellcomecollection.org/concepts/xjgg838u|\n",
      "|Soviet Union - Social conditions - 1917-1945                                            |zqqvtyan|Place       |subject    |https://wellcomecollection.org/concepts/zqqvtyan|\n",
      "+----------------------------------------------------------------------------------------+--------+------------+-----------+------------------------------------------------+\n",
      "\n"
     ]
    }
   ],
   "source": [
    "from pyspark.sql import functions as F\n",
    "from pyspark.sql.window import Window\n",
    "\n",
    "# Create a window partitioned by type with random ordering\n",
    "window = Window.partitionBy(\"type\").orderBy(F.rand())\n",
    "\n",
    "# Add row number within each type partition and create URL column\n",
    "sample_combined_df = (\n",
    "    combined_df.where(\n",
    "        F.col(\"type\").isNotNull()) .withColumn(\n",
    "            \"row_num\",\n",
    "            F.row_number().over(window)) .filter(\n",
    "                F.col(\"row_num\") <= 10) .drop(\"row_num\") .withColumn(\n",
    "                    \"url\",\n",
    "                    F.concat(\n",
    "                        F.lit(\"https://wellcomecollection.org/concepts/\"),\n",
    "                        F.col(\"id\"))))\n",
    "\n",
    "sample_combined_df.show(100, truncate=False)"
   ]
  },
  {
   "cell_type": "code",
   "execution_count": 15,
   "id": "8f2ac730",
   "metadata": {},
   "outputs": [],
   "source": [
    "sample_combined_df.toPandas().to_excel(\n",
    "    \"../data/sample_each_type_concept.xlsx\", index=False)"
   ]
  },
  {
   "cell_type": "markdown",
   "id": "f5f445c3",
   "metadata": {},
   "source": [
    "# Counts"
   ]
  },
  {
   "cell_type": "code",
   "execution_count": 6,
   "id": "8c59db99",
   "metadata": {},
   "outputs": [
    {
     "name": "stdout",
     "output_type": "stream",
     "text": [
      "root\n",
      " |-- workId: string (nullable = true)\n",
      " |-- label: string (nullable = true)\n",
      " |-- canonicalId: string (nullable = true)\n",
      " |-- otherIdentifiers: array (nullable = true)\n",
      " |    |-- element: string (containsNull = true)\n",
      " |-- type: string (nullable = true)\n",
      " |-- ontologyType: string (nullable = true)\n",
      " |-- value: string (nullable = true)\n",
      " |-- identifierTypeId: string (nullable = true)\n",
      "\n"
     ]
    }
   ],
   "source": [
    "subjects_df.printSchema()"
   ]
  },
  {
   "cell_type": "code",
   "execution_count": 8,
   "id": "c2e32326",
   "metadata": {},
   "outputs": [
    {
     "name": "stdout",
     "output_type": "stream",
     "text": [
      "Distinct Genres Label Count: 1397\n",
      "Distinct Genres ID Count: 1352\n",
      "Distinct Contributors Label Count: 409340\n",
      "Distinct Contributors ID Count: 396198\n",
      "Distinct Subject Label Count: 204935\n",
      "Distinct Subject ID Count: 183232\n",
      "\n",
      "--- TOTALS ---\n",
      "Total Label Count: 615672\n",
      "Total ID Count: 580782\n"
     ]
    }
   ],
   "source": [
    "# Assign counts to variables\n",
    "distinct_genres_label_count = genres_df.select(\"label\").distinct().count()\n",
    "distinct_genres_id_count = genres_df.select(\"idCanonicalId\").distinct().count()\n",
    "\n",
    "distinct_contributors_label_count = contributors_df.select(\"label\").distinct().count()\n",
    "distinct_contributors_id_count = contributors_df.select(\"idCanonicalId\").distinct().count()\n",
    "\n",
    "distinct_subject_label_count = subjects_df.select(\"label\").distinct().count()\n",
    "distinct_subject_id_count = subjects_df.select(\n",
    "    \"canonicalId\").distinct().count()\n",
    "\n",
    "# Print individual counts\n",
    "print(\"Distinct Genres Label Count:\", distinct_genres_label_count)\n",
    "print(\"Distinct Genres ID Count:\", distinct_genres_id_count)\n",
    "print(\"Distinct Contributors Label Count:\", distinct_contributors_label_count)\n",
    "print(\"Distinct Contributors ID Count:\", distinct_contributors_id_count)\n",
    "print(\"Distinct Subject Label Count:\", distinct_subject_label_count)\n",
    "print(\"Distinct Subject ID Count:\", distinct_subject_id_count)\n",
    "\n",
    "# Calculate and print totals\n",
    "total_label_count = distinct_genres_label_count + distinct_contributors_label_count + distinct_subject_label_count\n",
    "total_id_count = distinct_genres_id_count + distinct_contributors_id_count + distinct_subject_id_count\n",
    "\n",
    "print(\"\\n--- TOTALS ---\")\n",
    "print(\"Total Label Count:\", total_label_count)\n",
    "print(\"Total ID Count:\", total_id_count)"
   ]
  },
  {
   "cell_type": "markdown",
   "id": "d3275f1f",
   "metadata": {},
   "source": [
    "# Combined Labels DataFrame"
   ]
  },
  {
   "cell_type": "code",
   "execution_count": 67,
   "id": "27c47732",
   "metadata": {},
   "outputs": [
    {
     "data": {
      "text/plain": [
       "DataFrame[label: string, id: string, type: string, source: string]"
      ]
     },
     "execution_count": 67,
     "metadata": {},
     "output_type": "execute_result"
    }
   ],
   "source": [
    "from pyspark.sql import functions as F\n",
    "\n",
    "combined_df = genres_df.select(\n",
    "    \"label\", F.col(\"idCanonicalId\").alias(\"id\"),\n",
    "    \"type\", F.lit(\"genre\").alias(\"source\"))\n",
    "combined_df = combined_df.union(\n",
    "    contributors_df.select(\n",
    "        \"label\", F.col(\"idCanonicalId\").alias(\"id\"),\n",
    "        F.col(\"idSourceIdentifierOntologyType\").alias(\"type\"),\n",
    "        F.lit(\"contributor\").alias(\"source\")))\n",
    "combined_df = combined_df.union(\n",
    "    subjects_df.select(\n",
    "        F.col(\"label\").alias(\"label\"),\n",
    "        F.col(\"canonicalId\").alias(\"id\"),\n",
    "        F.col(\"ontologyType\").alias(\"type\"), F.lit(\"subject\").alias(\"source\")))\n",
    "\n",
    "combined_df"
   ]
  },
  {
   "cell_type": "code",
   "execution_count": 38,
   "id": "c0a09bb3",
   "metadata": {},
   "outputs": [
    {
     "name": "stderr",
     "output_type": "stream",
     "text": [
      "                                                                                \r"
     ]
    }
   ],
   "source": [
    "combined_df.write.saveAsTable(\"dn_labels_combined\", mode=\"overwrite\")"
   ]
  },
  {
   "cell_type": "code",
   "execution_count": 39,
   "id": "f6040528",
   "metadata": {},
   "outputs": [],
   "source": [
    "combined_df = spark.table(\"dn_labels_combined\")"
   ]
  },
  {
   "cell_type": "code",
   "execution_count": 46,
   "id": "ddf9cd26",
   "metadata": {},
   "outputs": [
    {
     "name": "stdout",
     "output_type": "stream",
     "text": [
      "Combined DataFrame Count: 3739300\n",
      "595855 distinct labels\n",
      "556173 distinct IDs\n"
     ]
    }
   ],
   "source": [
    "print(\"Combined DataFrame Count:\", combined_df.count())\n",
    "print(combined_df.select(\"label\").distinct().count(), \"distinct labels\")\n",
    "print(combined_df.select(\"id\").distinct().count(), \"distinct IDs\")"
   ]
  },
  {
   "cell_type": "code",
   "execution_count": null,
   "id": "1806b74a",
   "metadata": {},
   "outputs": [
    {
     "data": {
      "application/vnd.microsoft.datawrangler.viewer.v0+json": {
       "columns": [
        {
         "name": "index",
         "rawType": "int64",
         "type": "integer"
        },
        {
         "name": "label",
         "rawType": "object",
         "type": "string"
        },
        {
         "name": "id",
         "rawType": "object",
         "type": "unknown"
        },
        {
         "name": "type",
         "rawType": "object",
         "type": "unknown"
        },
        {
         "name": "source",
         "rawType": "object",
         "type": "string"
        }
       ],
       "ref": "1777417d-0d26-475a-a8c1-cb1d1c3b4fe5",
       "rows": [
        [
         "0",
         "Children",
         null,
         null,
         "subject"
        ],
        [
         "1",
         "Criminal law",
         null,
         null,
         "subject"
        ],
        [
         "2",
         "Gender roles",
         null,
         null,
         "subject"
        ],
        [
         "3",
         "Law",
         null,
         null,
         "subject"
        ],
        [
         "4",
         "Police",
         null,
         null,
         "subject"
        ],
        [
         "5",
         "Women",
         null,
         null,
         "subject"
        ],
        [
         "6",
         "Womyn",
         null,
         null,
         "subject"
        ],
        [
         "7",
         "Youth",
         null,
         null,
         "subject"
        ],
        [
         "8",
         "Circle of State Librarians Conference 1979 : Kew, England)",
         "a2233f9d",
         "Meeting",
         "contributor"
        ],
        [
         "9",
         "Nelson, Geoffrey B. (Geoffrey Brian)",
         "a223f5a6",
         "Person",
         "contributor"
        ],
        [
         "10",
         "Wolff, G.",
         "a2249bxm",
         "Person",
         "contributor"
        ],
        [
         "11",
         "Jones, John E",
         "a224b9mp",
         "Person",
         "contributor"
        ],
        [
         "12",
         "Jones, John E.",
         "a224b9mp",
         "Person",
         "contributor"
        ],
        [
         "13",
         "Hulverscheidt, Marion, 1970-",
         "a224rx5x",
         "Person",
         "contributor"
        ],
        [
         "14",
         "Zimmermann, Wilhelm.",
         "a224tns9",
         "Person",
         "contributor"
        ],
        [
         "15",
         "Gaur, June.",
         "a2258t8s",
         "Person",
         "contributor"
        ],
        [
         "16",
         "South Cambridgeshire (England)",
         "a22auf32",
         "Place",
         "subject"
        ],
        [
         "17",
         "Orel, Harold, 1926-2017.",
         "a22d6ehy",
         "Person",
         "contributor"
        ],
        [
         "18",
         "Brown, Bruce, 1942-",
         "a22d7muq",
         "Person",
         "contributor"
        ],
        [
         "19",
         "Economic development - History",
         "a22ddxvt",
         "Concept",
         "subject"
        ],
        [
         "20",
         "Shugar, Andrea.",
         "a22dx2jb",
         "Person",
         "contributor"
        ],
        [
         "21",
         "Bruce (Edinburgh, Scotland)",
         "a22ghtpk",
         "Person",
         "contributor"
        ],
        [
         "22",
         "Cheeseman, Thomas, 1760-approximately 1835.",
         "a22hh3y8",
         "Person",
         "contributor"
        ],
        [
         "23",
         "Hartstein, Jack, 1924-",
         "a22hndxd",
         "Person",
         "contributor"
        ],
        [
         "24",
         "Prujean, Thomas, 1622 or 1623-1662.",
         "a22jzkjd",
         "Person",
         "subject"
        ],
        [
         "25",
         "Freeport, Andrew",
         "a22mar23",
         "Person",
         "contributor"
        ],
        [
         "26",
         "Databases as Topic - organization & administration",
         "a22mr8u2",
         "Concept",
         "subject"
        ],
        [
         "27",
         "Ideler, Julius Ludwig, 1809-1842",
         "a22ncx9p",
         "Person",
         "contributor"
        ],
        [
         "28",
         "Fournier, Alfred Jean, 1832-1914",
         "a22sv4sw",
         "Agent",
         "contributor"
        ],
        [
         "29",
         "Royal College of Surgeons in London",
         "a22vrvk4",
         "Organisation",
         "subject"
        ],
        [
         "30",
         "Royal College of Surgeons in London.",
         "a22vrvk4",
         "Organisation",
         "contributor"
        ],
        [
         "31",
         "Hernia, Inguinal, therapy",
         "a22xqhjs",
         "Concept",
         "subject"
        ],
        [
         "32",
         "Poor families",
         "a22xr2nw",
         "Concept",
         "subject"
        ],
        [
         "33",
         "Scrimshaw, Jane, 1584-1711.",
         "a22xt94e",
         "Person",
         "subject"
        ],
        [
         "34",
         "Foster, William",
         "a232zjf3",
         "Person",
         "contributor"
        ],
        [
         "35",
         "Foster, William.",
         "a232zjf3",
         "Person",
         "subject"
        ],
        [
         "36",
         "Foster, William.",
         "a232zjf3",
         "Person",
         "contributor"
        ],
        [
         "37",
         "da Silva, Christiano",
         "a2346x74",
         "Person",
         "contributor"
        ],
        [
         "38",
         "Steam-heating",
         "a235krft",
         "Concept",
         "subject"
        ],
        [
         "39",
         "Dental Restoration, Temporary",
         "a239x46b",
         "Concept",
         "subject"
        ],
        [
         "40",
         "London Black MESMAC",
         "a23ajhj3",
         "Organisation",
         "contributor"
        ],
        [
         "41",
         "London Black Mesmac",
         "a23ajhj3",
         "Organisation",
         "contributor"
        ],
        [
         "42",
         "Fellows, Julian R. (Julian Robert), 1900-1985.",
         "a23c6tr6",
         "Person",
         "contributor"
        ],
        [
         "43",
         "Subba Reddy, D. V., 1899-1987",
         "a23cjx8a",
         "Person",
         "contributor"
        ],
        [
         "44",
         "Subba Reddy, D. V., 1899-1987.",
         "a23cjx8a",
         "Person",
         "contributor"
        ],
        [
         "45",
         "Subba Reddy, D. V., 1899-1987.",
         "a23cjx8a",
         "Person",
         "subject"
        ],
        [
         "46",
         "Pneumonia",
         "a23f6ptg",
         "Concept",
         "subject"
        ],
        [
         "47",
         "Pneumonia - Child",
         "a23f6ptg",
         "Concept",
         "subject"
        ],
        [
         "48",
         "Pneumonia - Child, Preschool",
         "a23f6ptg",
         "Concept",
         "subject"
        ],
        [
         "49",
         "Pneumonia - Infant",
         "a23f6ptg",
         "Concept",
         "subject"
        ]
       ],
       "shape": {
        "columns": 4,
        "rows": 646786
       }
      },
      "text/html": [
       "<div>\n",
       "<style scoped>\n",
       "    .dataframe tbody tr th:only-of-type {\n",
       "        vertical-align: middle;\n",
       "    }\n",
       "\n",
       "    .dataframe tbody tr th {\n",
       "        vertical-align: top;\n",
       "    }\n",
       "\n",
       "    .dataframe thead th {\n",
       "        text-align: right;\n",
       "    }\n",
       "</style>\n",
       "<table border=\"1\" class=\"dataframe\">\n",
       "  <thead>\n",
       "    <tr style=\"text-align: right;\">\n",
       "      <th></th>\n",
       "      <th>label</th>\n",
       "      <th>id</th>\n",
       "      <th>type</th>\n",
       "      <th>source</th>\n",
       "    </tr>\n",
       "  </thead>\n",
       "  <tbody>\n",
       "    <tr>\n",
       "      <th>0</th>\n",
       "      <td>Children</td>\n",
       "      <td>None</td>\n",
       "      <td>None</td>\n",
       "      <td>subject</td>\n",
       "    </tr>\n",
       "    <tr>\n",
       "      <th>1</th>\n",
       "      <td>Criminal law</td>\n",
       "      <td>None</td>\n",
       "      <td>None</td>\n",
       "      <td>subject</td>\n",
       "    </tr>\n",
       "    <tr>\n",
       "      <th>2</th>\n",
       "      <td>Gender roles</td>\n",
       "      <td>None</td>\n",
       "      <td>None</td>\n",
       "      <td>subject</td>\n",
       "    </tr>\n",
       "    <tr>\n",
       "      <th>3</th>\n",
       "      <td>Law</td>\n",
       "      <td>None</td>\n",
       "      <td>None</td>\n",
       "      <td>subject</td>\n",
       "    </tr>\n",
       "    <tr>\n",
       "      <th>4</th>\n",
       "      <td>Police</td>\n",
       "      <td>None</td>\n",
       "      <td>None</td>\n",
       "      <td>subject</td>\n",
       "    </tr>\n",
       "    <tr>\n",
       "      <th>...</th>\n",
       "      <td>...</td>\n",
       "      <td>...</td>\n",
       "      <td>...</td>\n",
       "      <td>...</td>\n",
       "    </tr>\n",
       "    <tr>\n",
       "      <th>646781</th>\n",
       "      <td>Pregnant teenagers - Great Britain - Diaries</td>\n",
       "      <td>zzzvtr3f</td>\n",
       "      <td>Concept</td>\n",
       "      <td>subject</td>\n",
       "    </tr>\n",
       "    <tr>\n",
       "      <th>646782</th>\n",
       "      <td>Maddox, Lucy</td>\n",
       "      <td>zzzw65be</td>\n",
       "      <td>Person</td>\n",
       "      <td>contributor</td>\n",
       "    </tr>\n",
       "    <tr>\n",
       "      <th>646783</th>\n",
       "      <td>Rockliffe, Richard William.</td>\n",
       "      <td>zzzwgbkn</td>\n",
       "      <td>Person</td>\n",
       "      <td>contributor</td>\n",
       "    </tr>\n",
       "    <tr>\n",
       "      <th>646784</th>\n",
       "      <td>Aneurysm - drug therapy</td>\n",
       "      <td>zzzygqw9</td>\n",
       "      <td>Concept</td>\n",
       "      <td>subject</td>\n",
       "    </tr>\n",
       "    <tr>\n",
       "      <th>646785</th>\n",
       "      <td>Gottfried, Robert Steven, 1949-</td>\n",
       "      <td>zzzyybvk</td>\n",
       "      <td>Person</td>\n",
       "      <td>contributor</td>\n",
       "    </tr>\n",
       "  </tbody>\n",
       "</table>\n",
       "<p>646786 rows × 4 columns</p>\n",
       "</div>"
      ],
      "text/plain": [
       "                                               label        id     type  \\\n",
       "0                                           Children      None     None   \n",
       "1                                       Criminal law      None     None   \n",
       "2                                       Gender roles      None     None   \n",
       "3                                                Law      None     None   \n",
       "4                                             Police      None     None   \n",
       "...                                              ...       ...      ...   \n",
       "646781  Pregnant teenagers - Great Britain - Diaries  zzzvtr3f  Concept   \n",
       "646782                                  Maddox, Lucy  zzzw65be   Person   \n",
       "646783                   Rockliffe, Richard William.  zzzwgbkn   Person   \n",
       "646784                       Aneurysm - drug therapy  zzzygqw9  Concept   \n",
       "646785               Gottfried, Robert Steven, 1949-  zzzyybvk   Person   \n",
       "\n",
       "             source  \n",
       "0           subject  \n",
       "1           subject  \n",
       "2           subject  \n",
       "3           subject  \n",
       "4           subject  \n",
       "...             ...  \n",
       "646781      subject  \n",
       "646782  contributor  \n",
       "646783  contributor  \n",
       "646784      subject  \n",
       "646785  contributor  \n",
       "\n",
       "[646786 rows x 4 columns]"
      ]
     },
     "execution_count": 80,
     "metadata": {},
     "output_type": "execute_result"
    }
   ],
   "source": [
    "# Convert to Pandas DataFrame for easier manipulation\n",
    "# Set \"id\" column with \"null\" + running 5 digit number starting from 00000 if it is null\n",
    "import pandas as pd\n",
    "pd_combined_df = combined_df.distinct().orderBy(\"id\", \"label\", \"type\").toPandas()\n",
    "\n",
    "pd_combined_df"
   ]
  },
  {
   "cell_type": "code",
   "execution_count": null,
   "id": "4f9dc33c",
   "metadata": {},
   "outputs": [
    {
     "data": {
      "text/plain": [
       "(646786, 4)"
      ]
     },
     "execution_count": 78,
     "metadata": {},
     "output_type": "execute_result"
    }
   ],
   "source": [
    "pd_combined_df.shape"
   ]
  },
  {
   "cell_type": "code",
   "execution_count": null,
   "id": "a3014df2",
   "metadata": {},
   "outputs": [
    {
     "data": {
      "image/png": "[encoded data removed]",
      "text/plain": [
       "<Figure size 1000x600 with 1 Axes>"
      ]
     },
     "metadata": {},
     "output_type": "display_data"
    },
    {
     "name": "stdout",
     "output_type": "stream",
     "text": [
      "count    556172.000000\n",
      "mean          1.130880\n",
      "std           1.000967\n",
      "min           1.000000\n",
      "25%           1.000000\n",
      "50%           1.000000\n",
      "75%           1.000000\n",
      "max         204.000000\n",
      "Name: count, dtype: float64\n"
     ]
    },
    {
     "data": {
      "application/vnd.microsoft.datawrangler.viewer.v0+json": {
       "columns": [
        {
         "name": "id",
         "rawType": "object",
         "type": "string"
        },
        {
         "name": "label",
         "rawType": "object",
         "type": "unknown"
        },
        {
         "name": "size",
         "rawType": "int64",
         "type": "integer"
        }
       ],
       "ref": "db762203-11f9-424b-894b-fa5a12db7346",
       "rows": [
        [
         "raz92g59",
         "['Medicine', 'Medicine - 15-18th centuries', 'Medicine - 15th-18 centuries - Formulae, receipts, prescriptions - Early works to 1800', 'Medicine - 19th century', 'Medicine - 20th century', 'Medicine - 21st century - Exhibitions', 'Medicine - Africa, Sub-Saharan - History - 20th century', 'Medicine - Africa, West - History - 19th century', 'Medicine - Asia, Central - History - 17th century', 'Medicine - Audio-visual aids', 'Medicine - Australia - Government policy', 'Medicine - Australia - History', 'Medicine - Baltic States - History', 'Medicine - Baltic States - History - 19th century', 'Medicine - Baltic States - History - 20th century', 'Medicine - Bio-bibliography', 'Medicine - Books - 17th century', 'Medicine - Books - 18th century', 'Medicine - Brazil', 'Medicine - Brazil - History', 'Medicine - Brazil - Pictorial works', 'Medicine - Brazil - Ponta Grossa (Paraná) - History', 'Medicine - Brazil - São Paulo (State) - History', 'Medicine - Brazil - São Paulo - History', 'Medicine - Canada - History', 'Medicine - Canada - History - 20th century', 'Medicine - Canada - History - Congresses', 'Medicine - Charts, diagrams, etc', 'Medicine - Chile', 'Medicine - Collectibles', 'Medicine - Colombia - Antioquia (Department) - History', 'Medicine - Colonial influence', 'Medicine - Colonies - Belgium - History', 'Medicine - Colonies - France - History', 'Medicine - Colonies - Great Britain - History', 'Medicine - Colonies - Spain - History', 'Medicine - Comic books, strips, etc', 'Medicine - Comoros - History - 19th century', 'Medicine - Comoros - History - 20th century', 'Medicine - Controversial literature', 'Medicine - Correspondence - Italy - 16th cent', 'Medicine - Corrupt practices - Germany (East) - History', 'Medicine - Cross-cultural studies', 'Medicine - Developing countries', 'Medicine - Dominican Republic - San Fernando de Monte Cristi - History', 'Medicine - Early works to 1900', 'Medicine - Education (Graduate) - Kuwait', 'Medicine - Education (Higher)', 'Medicine - Education - Audio-visual aids', 'Medicine - Education - Bibliography', 'Medicine - Education - Early works to 1800', 'Medicine - Education - England - Southampton', 'Medicine - Education - India - History', 'Medicine - Education - Simulation methods', 'Medicine - Egypt - History - 19th century', 'Medicine - Egypt - History - 20th century', 'Medicine - England - 19th century - History', 'Medicine - England - Bristol - History - 18th century', 'Medicine - England - Bristol - History - 19th century', 'Medicine - England - Early works to 1800', 'Medicine - England - History', 'Medicine - England - History - 17th century', 'Medicine - England - History - 17th century - Sources', 'Medicine - England - History - 18th century', 'Medicine - England - History - 19th century', 'Medicine - England - Humor - Early works to 1800', 'Medicine - England - Lexicography', 'Medicine - England - London', 'Medicine - England - London - Early works to 1800', 'Medicine - England - London - Societies, etc', 'Medicine - England - London - Societies, etc. - Early works to 1800', 'Medicine - England - Oxford - History', 'Medicine - England - Standards - Early works to 1800', 'Medicine - England - Terminology', 'Medicine - Exhibitions', 'Medicine - Florida - Palm Beach County - History', 'Medicine - Forecasting', 'Medicine - Foreign relations', 'Medicine - Formulae, recipts, prescriptions - Early works to 1800', 'Medicine - Formulas, receipts, prescriptions', 'Medicine - Formulas, receipts, prescriptions - Early works to 1800', 'Medicine - French', 'Medicine - French-speaking countries - History', 'Medicine - German', 'Medicine - German influences', 'Medicine - German influences - History', 'Medicine - Germany (East) - History', 'Medicine - Germany (West)', 'Medicine - Government policy', 'Medicine - Graphic methods', 'Medicine - Greece - Epidaurus - History', 'Medicine - Greece - Thessalonikē - Early works to 1800', 'Medicine - Guidebooks', 'Medicine - Iconography', 'Medicine - Information technology', 'Medicine - Ireland - Cork (County) - History', 'Medicine - Islamic Empire - History', 'Medicine - Islamic countries - History', 'Medicine - Italy - 18th century', 'Medicine - Italy - Bologna - Societies, etc. - History', 'Medicine - Italy - Lucca - History', 'Medicine - Italy - Milan - History - 15th century', 'Medicine - Italy - Modena - History', 'Medicine - Italy - Naples - History', 'Medicine - Italy - Naples - History - 17th century - Congresses', 'Medicine - Italy - Rome - History - 18th century', 'Medicine - Italy - Sardinia - History', 'Medicine - Italy - Sicily - History - 16th century - Congresses', 'Medicine - Italy - Venice - History', 'Medicine - Jews', 'Medicine - Kalmyk', 'Medicine - Kenya - History - 19th century', 'Medicine - Latin America - History', 'Medicine - Latin America - History - 16th century', 'Medicine - Latin America - History - 17th century', 'Medicine - Library resources', 'Medicine - Licenses', 'Medicine - Literary collections', 'Medicine - Manuscripts', 'Medicine - Manuscripts - Catalogs', 'Medicine - Manuscripts - Indexes', 'Medicine - Maps - History', 'Medicine - Massachusetts - History', 'Medicine - Mayotte - History - 19th century', 'Medicine - Mayotte - History - 20th century', 'Medicine - Medals', 'Medicine - Medals - Catalogs', 'Medicine - Methodology', 'Medicine - Methods - History', 'Medicine - Mythology', 'Medicine - New York (State) - New York - 19th century', 'Medicine - Nigeria - History', 'Medicine - Nomenclature', 'Medicine - North America - 18th century', 'Medicine - North America - Early works to 1800', 'Medicine - Oriental influences', 'Medicine - Oriental influences - Exhibitions', 'Medicine - Patients - Care', 'Medicine - Pennsylvania - Philadelphia - History', 'Medicine - Peru - Lima - History', 'Medicine - Pictorial works - Catalogs', 'Medicine - Political aspects', 'Medicine - Political aspects - Germany - History - Congresses', 'Medicine - Political aspects - History - Congresses', 'Medicine - Political aspects - Italy - History - 18th century', 'Medicine - Political aspects - Italy - History - 19th century', 'Medicine - Political aspects - Togo', 'Medicine - Politics and government', 'Medicine - Popular', 'Medicine - Portugal - Coimbra - History', 'Medicine - Portugal - History - 16th century', 'Medicine - Posters - Exhibitions', 'Medicine - Press coverage - Italy - History - 19th century', 'Medicine - Press coverage - Italy - History - 20th century', 'Medicine - Preventive', 'Medicine - Private collections - 18th century', 'Medicine - Problems, exercises, etc', 'Medicine - Public opinion', 'Medicine - Québec (Province) - History', 'Medicine - Québec (Province) - History - 17th century', 'Medicine - Québec (Province) - History - 18th century', 'Medicine - Religion - Catholic Church', 'Medicine - Religion - Islam', 'Medicine - Religion - Judaism', 'Medicine - Research grants', 'Medicine - Research grants - Great Britain', 'Medicine - Research grants - History', 'Medicine - ResearchSocieties, etc - History', 'Medicine - Russia (Federation)', 'Medicine - Russia - History - 19th century', 'Medicine - Russia - History - 20th century', 'Medicine - Satire', 'Medicine - Scandinavia', 'Medicine - Scotland', 'Medicine - Scotland - Early works to 1800', 'Medicine - Scotland - Edinburgh - History', 'Medicine - Scotland - History - 17th century', 'Medicine - Slovenia - History', 'Medicine - Societies', 'Medicine - Societies and clubs', 'Medicine - Sociology - History', 'Medicine - Sources', 'Medicine - Soviet Union - History', 'Medicine - Spain - Badajoz - History - 18th century', 'Medicine - Spain - Cantabria', 'Medicine - Spain - Catalonia - History', 'Medicine - Spain - History', 'Medicine - Spain - Madrid - History', 'Medicine - Spain - Santiago de Compostela - History', 'Medicine - Spain - Seville - History', 'Medicine - Spain - Valencia (Region) - History', 'Medicine - Study and teaching (Higher)', 'Medicine - Study and teaching (Residency) - United States', 'Medicine - Switzerland - Basel - History - 19th century', 'Medicine - To 1500', 'Medicine - To 1800', 'Medicine - Treatment', 'Medicine - Turkey - History', 'Medicine - Turkey - History - Congresses', 'Medicine - Turkey - Istanbul - History - Pictorial works', 'Medicine - Wales - History', 'Medicine - Wales - History - 18th century', 'Medicine - Wales - History - 19th century', 'Medicine - Writing']",
         "204"
        ],
        [
         "jdrh3ssh",
         "['Physicians', 'Physicians - 20th century - Biography', 'Physicians - Africa - 19th century', 'Physicians - Africa - Anecdotes', 'Physicians - Africa - History - 19th century', 'Physicians - Africa, East', 'Physicians - Africa, Eastern - History - 20th century', 'Physicians - Alabama - Fayette County - Biography', 'Physicians - Australia - Diaries', 'Physicians - Austria', 'Physicians - Austria - 19th century', 'Physicians - Austria - History', 'Physicians - Bibliography', 'Physicians - Bio-bibliography', 'Physicians - Brazil - 19th century', 'Physicians - Brazil, Northeast - Biography', 'Physicians - Caricatures and cartoons', 'Physicians - Comic books, strips, etc', 'Physicians - Conduct of life', 'Physicians - Continuing education', 'Physicians - Crimes against', 'Physicians - Early works to 1800', 'Physicians - Education', 'Physicians - England', 'Physicians - England - Bath', 'Physicians - England - Bath - Early works to 1800', 'Physicians - England - Bristol - 17th century', 'Physicians - England - Bristol - Biography', 'Physicians - England - Bristol - History - 19th century', 'Physicians - England - Discipline', 'Physicians - England - Early works to 1800', 'Physicians - England - History', 'Physicians - England - History - 17th century', 'Physicians - England - Hollingbourne - History', 'Physicians - England - London - Directories', 'Physicians - England - London - Early works to 1800', 'Physicians - England - London - History - 19th century - Fiction', 'Physicians - England - London - Poetry', 'Physicians - England - Newcastle upon Tyne - 20th century', 'Physicians - England - Oxford', 'Physicians - England - Oxford - History', 'Physicians - England - Registers', 'Physicians - Europe - Correspondence', 'Physicians - Florida - Palm Beach County - Biography', 'Physicians - Germany', 'Physicians - Germany - 19th century', 'Physicians - Germany - 20th century', 'Physicians - Germany - Berlin', 'Physicians - Germany - Berlin - Biography - Exhibitions', 'Physicians - Germany - Correspondence', 'Physicians - Germany - Flossenbürg - Biography', 'Physicians - Germany - History', 'Physicians - Germany - History - 14th century', 'Physicians - Germany - History - 16th century', 'Physicians - Germany - History - 18th century', 'Physicians - Germany - History - 19th century', 'Physicians - Germany - Kiel - Biography', 'Physicians - Germany - Psychology - History', 'Physicians - Greece - Biography', 'Physicians - History', 'Physicians - History - 16th century - England', 'Physicians - History - 20th century', 'Physicians - Humor', 'Physicians - In-service training - Great Britain - Handbooks, manuals, etc', 'Physicians - India', 'Physicians - India - 19th century', 'Physicians - India - Attitudes', 'Physicians - India - History - 19th century', 'Physicians - Indonesia - History - 19th century', 'Physicians - Ireland', 'Physicians - Islamic Empire', 'Physicians - Italy', 'Physicians - Italy - 17th century', 'Physicians - Italy - 18th century', 'Physicians - Italy - Brescia', 'Physicians - Italy - Correspondence', 'Physicians - Italy - Diaries', 'Physicians - Italy - History - 16th century', 'Physicians - Italy - History - 17th century', 'Physicians - Italy - Milan - History - 15th century', 'Physicians - Italy - Pisa - 16th century', 'Physicians - Italy - Pisa - 17th century', 'Physicians - Italy - Trieste - History', 'Physicians - Italy - Venice - Biography', 'Physicians - Japan - History - 19th century', 'Physicians - Japan - History - 20th century', 'Physicians - Job stress', 'Physicians - Kenya - History', 'Physicians - Knowledge and learning', 'Physicians - Language', 'Physicians - Law and legislation - Early works to 1800', 'Physicians - Literary collections', 'Physicians - Malta - Biography', 'Physicians - Massachusetts - Biography', 'Physicians - Medicine', 'Physicians - Mental health', 'Physicians - Mexico - San Luis Potosí (State) - Biography', 'Physicians - Michigan - Biography', 'Physicians - Middle East', 'Physicians - Middle East - History', 'Physicians - Miscellanea', 'Physicians - Netherlands - 17th century', 'Physicians - Netherlands - History - 17th century', 'Physicians - New York (State) - New York - 19th century', 'Physicians - Northern Ireland - Biography', 'Physicians - Pennsylvania - Philadelphia - Biography', 'Physicians - Peru - History - 19th century', 'Physicians - Poetry', 'Physicians - Poland - History', 'Physicians - Political activity', 'Physicians - Portraits', 'Physicians - Portraits - Catalogs', 'Physicians - Portraits - Exhibitions', 'Physicians - Portugal - 16th century', 'Physicians - Portugal - 17th century', 'Physicians - Portugal - History', 'Physicians - Postage stamps', 'Physicians - Recreation - Exhibitions', 'Physicians - Registers', 'Physicians - Registers - England - Early works to 1800', 'Physicians - Religious life', 'Physicians - Rome', 'Physicians - Rome - Biography', 'Physicians - Russia', 'Physicians - Satire', 'Physicians - Scotland - Ballachulish - Biography', 'Physicians - Scotland - Biography', 'Physicians - Scotland - Correspondence', 'Physicians - Selection and appointment', 'Physicians - Singapore - Biography', 'Physicians - Slovakia - Biography', 'Physicians - Sources', 'Physicians - South Africa - 20th century', 'Physicians - South Africa - History - 20th century', 'Physicians - Southern States - History - 19th century', 'Physicians - Spain', 'Physicians - Spain - Andalusia - History - 20th century', 'Physicians - Spain - Badajoz - History - 18th century', 'Physicians - Spain - Majorca - History', 'Physicians - Standards', 'Physicians - Sweden - Biography', 'Physicians - Sweden - Fiction', 'Physicians - Switzerland - Basel - Biography - Sources', 'Physicians - Switzerland - Basel - History - 19th century', 'Physicians - Tanzania - Biography', 'Physicians - Tennessee - Biography', 'Physicians - Tobacco use', 'Physicians - Training of', 'Physicians - Travel', 'Physicians - Travel - Anecdotes', 'Physicians - Vocational guidance', 'Physicians - Workload - Germany - History', 'Physicians - in motion picture', 'Physicians - legislation & jurisprudence', 'Physicians - manpower', 'Physicians - statistics & numerical data']",
         "156"
        ],
        [
         "rz2yv25k",
         "['Church buildings', 'Hospitals', 'Hospitals - America - 19th century', 'Hospitals - America - 20th century', 'Hospitals - Art', 'Hospitals - Auditing', 'Hospitals - Australia', 'Hospitals - Australia - 19th century', 'Hospitals - Australia - 20th century', 'Hospitals - Belgium - 19th century', 'Hospitals - Belgium - Bruges', 'Hospitals - Cancer - Scotland', 'Hospitals - Cancer - Scotland - Glasgow', 'Hospitals - Children - Great Britain', 'Hospitals - China - Hong Kong', 'Hospitals - China - Hong Kong - History', 'Hospitals - Colombia - History - 18th century', 'Hospitals - Colombia - History - 19th century', 'Hospitals - Congresses', 'Hospitals - Early works to 1800', 'Hospitals - Egypt', 'Hospitals - Egypt - 19th century', 'Hospitals - England', 'Hospitals - England - 18th century', 'Hospitals - England - 19th century', 'Hospitals - England - 20th century', 'Hospitals - England - Ashford (Kent)', 'Hospitals - England - Bridgnorth - History - 19th century', 'Hospitals - England - Bristol - Early works to 1800', 'Hospitals - England - Bristol - History - 18th century', 'Hospitals - England - Cambridge - History', 'Hospitals - England - Cost of operation - Early works to 1800', 'Hospitals - England - Early works to 1800', 'Hospitals - England - East Sussex', 'Hospitals - England - Epsom and Ewell', 'Hospitals - England - Epsom and Ewell - 20th century', 'Hospitals - England - Greenwich - Early works to 1800', 'Hospitals - England - Hoxton', 'Hospitals - England - Isle of Wight', 'Hospitals - England - London', 'Hospitals - England - London - 17th century - Early works to 1800', 'Hospitals - England - London - 18th century', 'Hospitals - England - London - 19th century', 'Hospitals - England - London - 20th century', 'Hospitals - England - London - Employees - Fiction', 'Hospitals - England - London - Furniture, equipment, etc', 'Hospitals - England - London - History', 'Hospitals - England - London - History - 19th century', 'Hospitals - England - London - History - Pictorial works', 'Hospitals - England - Manchester - History', 'Hospitals - England - Middlesex', 'Hospitals - England - Oxford - History', 'Hospitals - England - Personal narratives', 'Hospitals - England - Poetry', 'Hospitals - England - Rochester (Kent) - History', 'Hospitals - England - Salford (Greater Manchester) - History', 'Hospitals - England - Somerset', 'Hospitals - England - Southampton', 'Hospitals - England - Southend-on-Sea', 'Hospitals - England - West Bromwich - 20th century', 'Hospitals - England - Witley', 'Hospitals - England, North West', 'Hospitals - Europe - Congresses', 'Hospitals - Europe - History', 'Hospitals - Finland - History', 'Hospitals - Germany', 'Hospitals - Germany (East) - History', 'Hospitals - Germany - 18th century', 'Hospitals - Germany - 19th century', 'Hospitals - Germany - Berlin - History', 'Hospitals - Germany - Berlin - History - 20th century', 'Hospitals - Germany - Prussia', 'Hospitals - History', 'Hospitals - History - 20th century', 'Hospitals - History - Ireland', 'Hospitals - History - Sources', 'Hospitals - In-service training', 'Hospitals - India', 'Hospitals - India - 19th century', 'Hospitals - India - Kolkata - History - 18th century', 'Hospitals - India - Kolkata - History - 19th century', 'Hospitals - Ireland', 'Hospitals - Ireland - 18th century', 'Hospitals - Ireland - 19th century', 'Hospitals - Ireland - 20th century', 'Hospitals - Ireland - Dublin', 'Hospitals - Ireland - Early works to 1800', 'Hospitals - Ireland - History', 'Hospitals - Italy', 'Hospitals - Italy - 18th century', 'Hospitals - Italy - Florence - History', 'Hospitals - Italy - Lucca - History', 'Hospitals - Italy - Naples - History', 'Hospitals - Italy - Prato - History - 20th century', 'Hospitals - Italy - San Vito Romano - History', 'Hospitals - Korea - 20th century', 'Hospitals - Labor productivity', 'Hospitals - Latin America - History', 'Hospitals - London (England)', 'Hospitals - London - England - history', 'Hospitals - Massachusetts - Boston - History', 'Hospitals - Mexico', 'Hospitals - Mexico - 19th century', 'Hospitals - Models', 'Hospitals - Museums', 'Hospitals - Netherlands - 18th century', 'Hospitals - Noise', 'Hospitals - Northern Ireland - 20th century', 'Hospitals - Paediatric - History', 'Hospitals - Pennsylvania - Philadelphia', 'Hospitals - Portugal - 18th century', 'Hospitals - Portugal - 19th century', 'Hospitals - Procurement', 'Hospitals - Scotland', 'Hospitals - Scotland - 18th century', 'Hospitals - Scotland - 19th century', 'Hospitals - Scotland - 20th century', 'Hospitals - Scotland - Edinburgh', 'Hospitals - Scotland - Edinburgh - 19th century', 'Hospitals - Scotland - Edinburgh - History', 'Hospitals - Scotland - Edinburgh - History - Exhibitions', 'Hospitals - Societies, etc', 'Hospitals - Societies, etc. - History', 'Hospitals - Songs and music', 'Hospitals - Sources', 'Hospitals - Sources - History', 'Hospitals - South Africa - Periodicals', 'Hospitals - Spain', 'Hospitals - Spain - 18th century', 'Hospitals - Spain - Asturias - History - 20th century', 'Hospitals - Spain - Catalonia', 'Hospitals - Spain - Granada - 16th century', 'Hospitals - Spain - History', 'Hospitals - Statistics', 'Hospitals - Technological innovations', 'Hospitals - Togo - Aného - History', 'Hospitals - Turkey - 19th century', 'Hospitals - Wales', 'Hospitals - statistics & numerical data - Mexico - 19th century']",
         "139"
        ],
        [
         "mkrbbsrw",
         "['Religion and science', 'Science', 'Science - 18th century', 'Science - Asia - History - 17th century', 'Science - Asia - History - 18th century', 'Science - Asia - History - To 1500', 'Science - Belgium - Antwerp - History', 'Science - Biography', 'Science - Caricatures and cartoons', 'Science - Catalogs', 'Science - Charts, diagrams, etc', 'Science - Chronology', 'Science - Citizen participation', 'Science - Colonies', 'Science - Colonies - Netherlands - History - 18th century', 'Science - Colonies - Netherlands - History - 19th century', 'Science - Comic books, strips, etc', 'Science - Computer network resources', 'Science - Decision making', 'Science - Decision making - Citizen participation', 'Science - Drawings', 'Science - Early works to 1900', 'Science - Economic aspects', 'Science - Economic aspects - History - 20th century', 'Science - Economic aspects - United States', 'Science - Economics - History', 'Science - Employees', 'Science - Endowments', 'Science - Endowments - History', 'Science - England - Examinations - History', 'Science - Environmental aspects', 'Science - Esthetics', 'Science - Ethics', 'Science - Europe', 'Science - Europe - International cooperation - History - 18th century - Congresses', 'Science - Europe - International cooperation - History - 19th century - Congresses', 'Science - Examinations', 'Science - Exploration', 'Science - Fieldwork', 'Science - Finance', 'Science - Foreign influences - History', 'Science - France', 'Science - France - 18th century', 'Science - Graphic methods', 'Science - Great Britain', 'Science - Great Britain - 19th century', 'Science - Great Britain - Attitudes', 'Science - Great Britain - Finance', 'Science - Great Britain - History - 18th century', 'Science - Great Britain - History - 20th century', 'Science - Great Britain - Public opinion - Statistics', 'Science - Great Britain - Societies, etc. - History', 'Science - Great Britain - Societies, etc. - History - 20th century', 'Science - Information technology', 'Science - Islamic Empire', 'Science - Islamic Empire - Manuscripts', 'Science - Islamic Enpire - History', 'Science - Italy - 17th century', 'Science - Knowledge and learning - 20th century', 'Science - Literary collections', 'Science - Malaysia', 'Science - Manuscripts', 'Science - Manuscripts - Catalogs', 'Science - Methods - History', 'Science - Methods - Indexes', 'Science - Mexico - 18th century', 'Science - Middle East - History', 'Science - Netherlands - History', 'Science - North America - History', 'Science - Philosphy', 'Science - Pictorial works - History', 'Science - Policy', 'Science - Political aspects', 'Science - Political aspects - History', 'Science - Political aspects - History - 19th century', 'Science - Political aspects - History - 20th century', 'Science - Political aspects - United States', 'Science - Politics and government', 'Science - Portugal - History', 'Science - Press coverage', 'Science - Psychology', 'Science - Public opinion', 'Science - Quotations, maxims, etc', 'Science - Religion - Christianity - 17th century', 'Science - Research grants', 'Science - Rome - History', 'Science - Russia', 'Science - Russia - History - 19th century', 'Science - Russia - International cooperation - History', 'Science - Satire', 'Science - Satire - 18th century', 'Science - Sex differences', 'Science - Sociological perspectives', 'Science - Sociology', 'Science - Sociology - History', 'Science - Songs and music', 'Science - Sources - Catalogs', 'Science - Soviet Union', 'Science - Statistics - Periodicals', 'Science - Study and teaching (Graduate) - United States', 'Science - Technological innovations', 'Science - Textbooks', 'Science - To 1800', 'Science - Translations into Arabic', 'Science - Translations into Chinese', 'Science - Translations into Japanese', 'Science - Translations into Latin', 'Science - Turkey - History', 'Science - Turkey - Public opinion - History - 19th century', 'Science - classification', 'Science - economic aspects', 'Science - economics', 'Science - sociology', 'Science - statistics & numerical data', 'Science - technology']",
         "115"
        ],
        [
         "zvpgcgjv",
         "['Public health', 'Public health - 18th century', 'Public health - Africa, French-speaking West - International cooperation', 'Public health - Africa, Sub-Saharan - History - To 1884', 'Public health - Africa, West', 'Public health - Africa, West - International cooperation', 'Public health - Art', 'Public health - Asia - History', 'Public health - Austria', 'Public health - Austria - Tyrol - History', 'Public health - Belgium', 'Public health - Burma', 'Public health - Case studies', 'Public health - Cities and towns', 'Public health - Climatic factors', 'Public health - Colonies - France - Congresses', 'Public health - Croatia - Dubrovnik - History', 'Public health - Cross-cultural studies', 'Public health - Czech Republic', 'Public health - East Asia', 'Public health - Economic aspects', 'Public health - Economic aspects - Developing countries', 'Public health - Education', 'Public health - Effect of environment on', 'Public health - Endowments', 'Public health - England', 'Public health - England - Birmingham', 'Public health - England - Bristol - Statistics', 'Public health - England - Cumbria', 'Public health - England - Derbyshire', 'Public health - England - Durham', 'Public health - England - Early works to 1800', 'Public health - England - East Sussex', 'Public health - England - Harrogate', 'Public health - England - History - 17th century', 'Public health - England - History - 19th century', 'Public health - England - Isle of Wight', 'Public health - England - Liverpool', 'Public health - England - Luton', 'Public health - England - Manchester', 'Public health - England - Manchester - Statistics', 'Public health - England - Newcastle upon Tyne', 'Public health - England - Norwich - History', 'Public health - England - Statistics', 'Public health - England - Stockton-on-Tees', 'Public health - England - West Midlands', 'Public health - England, North West', 'Public health - Environmental aspects', 'Public health - Ethics', 'Public health - European Union countries - Congresses', 'Public health - Finance', 'Public health - Forecasting', 'Public health - Ghana', 'Public health - Handbooks, manuals, etc', 'Public health - In art', 'Public health - India, Northeastern', 'Public health - India, Northeastern - Congresses', 'Public health - Indochina', 'Public health - Korea (North)', 'Public health - Laboratory manuals', 'Public health - Latin America - History', 'Public health - Malaysia', 'Public health - Manitoba', 'Public health - Mediterranean Region - History', 'Public health - Miscellanea', 'Public health - Nicaragua - History', 'Public health - Nigeria', 'Public health - Nigeria - Lagos', 'Public health - Papua New Guinea - History - 19th century', 'Public health - Papua New Guinea - History - 20th century', 'Public health - Philosophy', 'Public health - Poland', 'Public health - Political aspects', 'Public health - Political aspects - Canada - History - 20th century', 'Public health - Political aspects - England - History - 19th century', 'Public health - Political aspects - Togo', 'Public health - Political aspects - United States', 'Public health - Political aspects - Wales - History - 19th century', 'Public health - Politics and government', 'Public health - Popular works', 'Public health - Poverty - Congresses', 'Public health - Research grants', 'Public health - Romania', 'Public health - Rural conditions', 'Public health - Russia - History - 20th century', 'Public health - Scotland', 'Public health - Scotland - Edinburgh', 'Public health - Scotland - Edinburgh - History - 19th century', 'Public health - Scotland - Evaluation', 'Public health - Singapore', 'Public health - Social aspects', 'Public health - Social aspects - Brazil', 'Public health - Social aspects - Chile - History', 'Public health - Social aspects - England - History - 19th century', 'Public health - Social aspects - Europe, Eastern - History - 19th century', 'Public health - Social aspects - Europe, Eastern - History - 20th century', 'Public health - Social aspects - Germany - Rhineland', 'Public health - Social aspects - Germany - Westphalia', 'Public health - Social aspects - Wales - History - 19th century', 'Public health - Sources', 'Public health - Southeast Asia - 20th century', 'Public health - Straits Settlements', 'Public health - Wales', 'Public health - Wales - History - 19th century', 'Public health - Wales - Swansea - History', 'Public health - Washington (State) - Seattle - Congresses', 'Public health - Yemen', 'Public health - Youth - England, North West', 'Public health - Zimbabwe', 'Public health - economics']",
         "110"
        ],
        [
         "bpg6b6gq",
         "['Women', 'Women - 18th century', 'Women - Albania - Social conditions', 'Women - Anatomy', 'Women - Anatomy and physiology', 'Women - Arab countries', 'Women - Atlantic Ocean Region - History', 'Women - Atlantic Ocean Region - Social conditions', 'Women - Barbados - Bridgetown - Social conditions - 18th century', 'Women - Belgium - Social conditions', 'Women - Cancer - Diagnosis - Great Britain', 'Women - Cancer - Great Britain - Prevention', 'Women - Comic books, strips, etc', 'Women - Comic books, strips, etc. - Fiction', 'Women - Congo (Democratic Republic) - Social conditions', 'Women - Connecticut - Biography', 'Women - Counselling of', 'Women - Decision making', 'Women - Diagnosis - Early works to 1800', 'Women - Diaries', 'Women - Education (Secondary)', 'Women - Effect of technological innovations on', 'Women - England', 'Women - England - 19th century - Biography', 'Women - England - Economic conditions', 'Women - England - London', 'Women - England - London - History', 'Women - England - London - Social conditions', 'Women - England - Nottingham - Social conditions', 'Women - England - Nottingham - Societies and clubs - Directories', 'Women - Europe, Eastern - Economic conditions', 'Women - Exhibitions', 'Women - Family relationships - England - History', 'Women - Family relationships - Great Britain', 'Women - Former Soviet republics - Economic conditions', 'Women - Former Soviet republics - Social conditions', 'Women - France - Alsace - Social conditions - 19th century', 'Women - France - Alsace - Social conditions - 20th century', 'Women - France - Languedoc - History - Modern period, 1600-', 'Women - France - Languedoc - History - Renaissance, 1450-1600', 'Women - Germany (East)', 'Women - Government policy - Cuba', 'Women - Government policy - Ecuador - History - 20th century', 'Women - Government policy - Great Britain', 'Women - Government policy - History', 'Women - Handbooks, manuals, etc. - Early works to 1800', 'Women - Health', 'Women - Health - Comic books, strips, etc', 'Women - Health - Early works to 1800', 'Women - Health - Great Britain', 'Women - Health - Periodicals', 'Women - Health - Statistics', 'Women - Health aspects', 'Women - Health aspects - Developing countries', 'Women - Health aspects - Great Britain', 'Women - Health risk assessment - United States', 'Women - Hospital care - Moral and ethical aspects', 'Women - Intelligence levels', 'Women - Ireland', 'Women - Ireland - History - 20th century', 'Women - Islamic countries - Encyclopedias', 'Women - Japan', 'Women - Malta - History', 'Women - Mental health services - Great Britain', 'Women - Mental health services - Great Britain - History - 19th century', 'Women - Mental health services - India', 'Women - Nigeria - Fiction', 'Women - Northern Ireland - History - 20th century', 'Women - Personal narratives', 'Women - Philosophy', 'Women - Pregnancy', 'Women - Quotations, maxims, etc', 'Women - Relitious life - Early works to 1800', 'Women - Rome', 'Women - Russia (Federation) - Fiction', 'Women - Saint Lawrence River Valley - Economic conditions', 'Women - Saint Lawrence River Valley - History', 'Women - Saint Lawrence River Valley - Social conditions', 'Women - Science', 'Women - Serbia - History', 'Women - Sexuality', 'Women - Social aspects', 'Women - Social life and customs', 'Women - Social life and customs - Drama', 'Women - Somalia - Biography', 'Women - Substance use - Europe', 'Women - Surgery - Congresses', 'Women - Surgery - Decision making', 'Women - Treatment', 'Women - Violence against', 'Women - Violence against - Brazil - Salvador', 'Women - Violence against - Comic books, strips, etc', 'Women - Violence against - Cross-cultural studies', 'Women - Violence against - Developing countries', 'Women - Violence against - India', 'Women - Violence against - India - Prevention', 'Women - Violence against - Prevention', 'Women - Violence against - Prevention - Comic books, strips, etc', 'Women - Violence against - South Asia', 'Women - statistics & numerical data']",
         "100"
        ],
        [
         "zbus63qt",
         "['AIDS (Disease)', 'AIDS (Disease) - Africa, Southern - Prevention - Handbooks, manuals, etc', 'AIDS (Disease) - Africa, West', 'AIDS (Disease) - Art collections', 'AIDS (Disease) - Atlases', 'AIDS (Disease) - Australia', 'AIDS (Disease) - Ayurvedic treatment', 'AIDS (Disease) - Care', 'AIDS (Disease) - Caricatures and cartoons', 'AIDS (Disease) - Case studies', 'AIDS (Disease) - Charts, diagrams, etc', 'AIDS (Disease) - Comic books, strips, etc', 'AIDS (Disease) - Diagnosis', 'AIDS (Disease) - Economic aspects', 'AIDS (Disease) - Economic aspects - Developing countries', 'AIDS (Disease) - Economic aspects - History', 'AIDS (Disease) - England - London', 'AIDS (Disease) - England - Prevention', 'AIDS (Disease) - Examinations, questions, etc', 'AIDS (Disease) - Exhibitions', 'AIDS (Disease) - Finance', 'AIDS (Disease) - France', 'AIDS (Disease) - France - Prevention - Periodicals', 'AIDS (Disease) - France - Prevention - Pictorial works', 'AIDS (Disease) - Government policy', 'AIDS (Disease) - Government policy - Great Britain', 'AIDS (Disease) - Government policy - Sierra Leone', 'AIDS (Disease) - Great Britain', 'AIDS (Disease) - Great Britain - History', 'AIDS (Disease) - Great Britain - History - Comic books, strips, etc', 'AIDS (Disease) - Great Britain - Prevention', 'AIDS (Disease) - Health aspects', 'AIDS (Disease) - Health workers', 'AIDS (Disease) - India', 'AIDS (Disease) - India - Psychological aspects', 'AIDS (Disease) - Juvenile fiction', 'AIDS (Disease) - Knowledge and learning', 'AIDS (Disease) - Latin America', 'AIDS (Disease) - Literary collections', 'AIDS (Disease) - Malawi', 'AIDS (Disease) - Maps', 'AIDS (Disease) - Mortality', 'AIDS (Disease) - Mozambique', 'AIDS (Disease) - New York (State) - New York - Exhibitions', 'AIDS (Disease) - New York (State) - New York - History', 'AIDS (Disease) - North America - Historiography', 'AIDS (Disease) - North America - History', 'AIDS (Disease) - Nursing - Comic books, strips, etc', 'AIDS (Disease) - Palliative treatment', 'AIDS (Disease) - Personal narratives', 'AIDS (Disease) - Pictorial works', 'AIDS (Disease) - Poetry', 'AIDS (Disease) - Political aspects', 'AIDS (Disease) - Political aspects - United States', 'AIDS (Disease) - Political aspects - United States - History', 'AIDS (Disease) - Posters', 'AIDS (Disease) - Prevention and control', 'AIDS (Disease) - Public opinion', 'AIDS (Disease) - Religion - Judaism', 'AIDS (Disease) - Religious aspects', 'AIDS (Disease) - Research - New York (State) - New York', 'AIDS (Disease) - Research - Political aspects', 'AIDS (Disease) - Scotland', 'AIDS (Disease) - Senegal', 'AIDS (Disease) - Social aspects', 'AIDS (Disease) - Social aspects - 19th century', 'AIDS (Disease) - Social aspects - Great Britain', 'AIDS (Disease) - Social aspects - Great Britain - Congresses', 'AIDS (Disease) - Social aspects - India', 'AIDS (Disease) - Social aspects - Treatment - Great Britain', 'AIDS (Disease) - Social aspects - Women - Australia - Personal narratives', 'AIDS (Disease) - Social aspects - Zambia', 'AIDS (Disease) - Study and teaching (Secondary)', 'AIDS (Disease) - Surveys - Women - Great Britain - Sociological aspects', 'AIDS (Disease) - Treatment', 'AIDS (Disease) - Treatment - Finance - Economic aspects - Developing countries', 'AIDS (Disease) - Treatment - Government policy - Brazil', 'AIDS (Disease) - Treatment - Government policy - South Africa', 'AIDS (Disease) - Treatment - Government policy - Thailand', 'AIDS (Disease) - Treatment - Great Britain - Directories', 'AIDS (Disease) - Treatment - New York (State) - New York', 'AIDS (Disease) - Treatment - South Africa', 'AIDS (Disease) - Vaccination', 'AIDS (Disease) - Wales - Cardiff - Prevention', 'AIDS (Disease) - Women - Latin America - Sociological aspects']",
         "85"
        ],
        [
         "ecudd397",
         "['Costume', 'Costume - 18th century', 'Costume - 19th century', 'Costume - 20th century', 'Costume - Afghanistan', 'Costume - Afghanistan - 19th century', 'Costume - Africa', 'Costume - Africa - 19th century', 'Costume - Africa - 20th century', 'Costume - America - 19th century', 'Costume - Arab Countries - 19th century', 'Costume - Arab countries - 19th century', 'Costume - Belgium - 19th century', 'Costume - Egypt', 'Costume - Egypt - History - 19th century', 'Costume - England - 16th century', 'Costume - England - 18th century', 'Costume - England - 19th century', 'Costume - England - History - 17th century', 'Costume - England - History - 18th century', 'Costume - Erotic aspects', 'Costume - Germany - 17th century', 'Costume - Germany - 18th century', 'Costume - Germany - 19th century', 'Costume - Germany - History - 15th century', 'Costume - Germany - History - 17th century', 'Costume - Germany - History - 18th century', 'Costume - Germany - History - 19th century', 'Costume - Great Britain - 16th century', 'Costume - Great Britain - 17th century', 'Costume - Great Britain - 18th century', 'Costume - Great Britain - 19th century', 'Costume - Great Britain - 20th century', 'Costume - Great Britain - History - 18th century', 'Costume - Great britain - History - 17th century', 'Costume - India', 'Costume - India - 19th century', 'Costume - India - History', 'Costume - India - History - 17th century', 'Costume - Ireland - 19th century', 'Costume - Ireland - History - 18th century', 'Costume - Ireland - History - 19th century', 'Costume - Italy - 16th century', 'Costume - Italy - 17th century', 'Costume - Italy - 18th century', 'Costume - Italy - 19th century', 'Costume - Italy - History - 14th century', 'Costume - Italy - History - 15th century', 'Costume - Italy - History - 16th century', 'Costume - Italy - History - 17th century', 'Costume - Italy - History - 18th century', 'Costume - Italy - History - 19th century', 'Costume - Italy - History - 4th century', 'Costume - Italy - Naples - History - 19th century', 'Costume - Malaysia - 19th century', 'Costume - Malaysia - History - 19th century', 'Costume - Netherlands - 15th century', 'Costume - Netherlands - 16th century', 'Costume - Netherlands - 17th century', 'Costume - Netherlands - 18th century', 'Costume - Netherlands - History - 16th century', 'Costume - Netherlands - History - 17th century', 'Costume - Netherlands - History - 18th century', 'Costume - Orient - History - 18th century', 'Costume - Peru', 'Costume - Portugal - 18th century', 'Costume - Portugal - 19th century', 'Costume - Russia - History - 18th century', 'Costume - Russia - History - 20th century', 'Costume - Scotland - 18th century', 'Costume - Scotland - 19th century', 'Costume - Scotland - History - 18th century', 'Costume - Scotland - History - 19th century', 'Costume - South Africa - History - 20th century', 'Costume - Spain - 19th century', 'Costume - Spain - History - 17th century', 'Costume - Spain - History - 18th century', 'Costume - Switzerland - History - 18th century', 'Costume - Tunisia - 19th century', 'Costume - Turkey - 19th century', 'Costume - Turkey - History', 'Costume - Turkey - History - 19th century', 'Costume - ethnology']",
         "83"
        ],
        [
         "dy3k7vet",
         "['Medical care', 'Medical care - 19th century', 'Medical care - Africa, East - History', 'Medical care - Africa, Sub-Saharan', 'Medical care - Africa, West', 'Medical care - Africa, West - History - 19th century', 'Medical care - Alabama - Fayette County - History', 'Medical care - Algeria - History - 20th century', 'Medical care - Art', 'Medical care - Asia, Central - History', 'Medical care - Buildings', 'Medical care - Children - United States', 'Medical care - Colombia', 'Medical care - Colonies', 'Medical care - Colonies - Great Britain - History', 'Medical care - Communication - Poetry', 'Medical care - Corrupt practices', 'Medical care - Cuba', 'Medical care - Egypt - Cairo', 'Medical care - Emigration and immigration - Personal narratives', 'Medical care - England', 'Medical care - England - 19th century', 'Medical care - England - Art', 'Medical care - England - Congresses', 'Medical care - England - Dictionaries - History', 'Medical care - England - Evaluation', 'Medical care - England - History - 20th century', 'Medical care - England - Hollingbourne - History', 'Medical care - England - London', 'Medical care - England - Plymouth', 'Medical care - European Union countries - Congresses', 'Medical care - Forecasting', 'Medical care - Germany (East) - History', 'Medical care - Germany - History', 'Medical care - Germany - History - 20th century', 'Medical care - Germany - Schwäbisch Hall - History - Exhibitions', 'Medical care - Germany, Southern - History - Exhibitions', 'Medical care - History', 'Medical care - History - 19th century', 'Medical care - History - 20th century', 'Medical care - History - Congresses', 'Medical care - History - Juvenile literature', 'Medical care - Information services - Management - Moral and ethical aspects', 'Medical care - International cooperation', 'Medical care - Ireland - History', 'Medical care - Ireland - History - 19th century', 'Medical care - Ireland - History - 20th century', 'Medical care - Italy, Northern - History - To 1500', 'Medical care - Kenya', 'Medical care - Latin America - History', 'Medical care - Massachusetts - Boston - Statistics', 'Medical care - Mozambique', 'Medical care - New Jersey - History', 'Medical care - Patients - United States', 'Medical care - Periodicals', 'Medical care - Personal narratives', 'Medical care - Poetry', 'Medical care - Political aspects', 'Medical care - Political aspects - England - History - 17th century', 'Medical care - Political aspects - Italy - History - 17th century', 'Medical care - Politics and government', 'Medical care - Portugal', 'Medical care - Public opinion', 'Medical care - Québec (Province) - History', 'Medical care - Scotland', 'Medical care - Sex differences', 'Medical care - Sex differences - Germany - History', 'Medical care - Singapore', 'Medical care - Slovenia - History', 'Medical care - South Africa - History', 'Medical care - Southeast Asia - Statistics', 'Medical care - Spain - Cantabria', 'Medical care - Spain - Santiago de Compostela - History', 'Medical care - Standards', 'Medical care - Standards - Great Britain', 'Medical care - Statistical methods', 'Medical care - Study and teaching (Higher)', 'Medical care - Technological innovations', 'Medical care - Technological innovations - Great Britain', 'Medical care - Wales - Neath - History', 'Medical care - Wales - Swansea - History', 'Medical care - Women - Australia', 'Medical care - colonies']",
         "83"
        ],
        [
         "ch4dx5r2",
         "['Galen', 'Galen Criticism and interpretation', 'Galen Criticism and interpretation.', 'Galen Criticism, Textual.', 'Galen Influence', 'Galen Influence.', 'Galen.', 'Galen. Ad Patrophilum de constitutione medicinae.', 'Galen. Ad Patrophilum de constitutione medicinae. Latin', 'Galen. An in arteriis natura sanguis contineatur.', 'Galen. Commentum', 'Galen. De Hippocratis et Platonis placitis.', 'Galen. De alimento ex aquatilibus.', 'Galen. De anatomicis administrationibus.', 'Galen. De antidotis. German.', 'Galen. De antidotis. Latin', 'Galen. De comate secundum Hippocratem.  Latin.', 'Galen. De compositione medicamentorum per genera', 'Galen. De compositione medicamentorum per genera. Book 3', 'Galen. De compositione medicamentorum per genera. English', 'Galen. De compositione medicamentorum per genera. Latin.', 'Galen. De compositione medicamentorum per genera. Liber III.', 'Galen. De compositione medicamentorum secundum locos', 'Galen. De constitutione artis medicae.  Latin', 'Galen. De curandi ratione per venae sectionem. French', 'Galen. De differentiis febrium', 'Galen. De differentiis febrium. Latin', 'Galen. De differentiis febrium. Latin.', 'Galen. De dignotione ex insomniis. Latin', 'Galen. De dissectione nervorum. German.', 'Galen. De eis quae medice dicta sunt in Platonis Timaeo.', 'Galen. De habitationibus, et acquis, et temporibus et regionibus.', 'Galen. De humoribus.', 'Galen. De humoribus. Latin', 'Galen. De methodo medendi. Book 4. English', 'Galen. De methodo medendi. Books 4. English', 'Galen. De optima doctrina. Latin.', 'Galen. De parvae pilae exercitio. Latin', 'Galen. De pulsibus ad tyrones', 'Galen. De pulsibus ad tyrones. Latin.', 'Galen. De pulsuum causis.', 'Galen. De remediis paratu facilibus. Latin', 'Galen. De respirationis causis. Latin', 'Galen. De respirationis difficultate. Latin', 'Galen. De respirationis usu. Latin', 'Galen. De sanitate tuenda.', 'Galen. De septimestri partu. Latin', 'Galen. De simplicium medicamentorum facultatibus. Latin', 'Galen. De tremore, palpitatione, convulsione et rigore.', 'Galen. De tumoribus praeter naturam. English.', 'Galen. De urinis', 'Galen. De usu pulsuum. Latin', 'Galen. De virtute centaureae. Latin', 'Galen. Facultades del alma se derivan de la complexion humoral del cuerpo.', 'Galen. Glossarium in Hippocratem.', 'Galen. In Hippocratis De articulis librum.', 'Galen. In Hippocratis De epidemiis libros.', 'Galen. In Hippocratis De natura hominis librum. Latin.', 'Galen. In Hippocratis De salubri victus ratione librum. Latin', 'Galen. In Hippocratis De victus ratione in morbis acutis.', 'Galen. In Hippocratis Prognostica.', 'Galen. In Hippocratis Prognostica. Latin', 'Galen. In Hippocratis Prorrhetica.', 'Galen. Littere ad Corisium de morbus oculorum. Catalan.', 'Galen. Method of physic', 'Galen. Method of physic.', 'Galen. Method of physick.', 'Galen. Opuscula mythologica', 'Galen. Passionarius', 'Galen. Passionarius.', 'Galen. Peri tōn Hippokratous kai Platōnos dogmatōn.', 'Galen. Platonis Timaeum.', 'Galen. Practica.', 'Galen. Prorrheticum.', 'Galen. Quod animi mores corporis temperamenta sequantur.', 'Galen. Sententia.', 'Galen. Spurious and doubtful works', 'Galen. Subfiguratio emperica.', 'Galen. Utrum medicinae sit, vel gymnastices hygiene.', 'Galen. Works (Selected)  Latin.', 'Galeno, 1957-', 'Pseudo-Galenus.']",
         "82"
        ],
        [
         "j9pr527r",
         "['Hippocrates', 'Hippocrates Criticism and interpretation', 'Hippocrates Criticism and interpretation History', 'Hippocrates Criticism, Textual.', 'Hippocrates In mass media.', 'Hippocrates Influence.', 'Hippocrates.', 'Hippocrates. Aphorisms.  Latin.', 'Hippocrates. Commentaries Aphorismi.', 'Hippocrates. De Morbis.', 'Hippocrates. De affectionibus. Latin.', 'Hippocrates. De articulis.', 'Hippocrates. De articulis. Chapter 62.', 'Hippocrates. De capitis vulneribus', 'Hippocrates. De capitis vulneribus.', 'Hippocrates. De capitis vulneribus.  Latin.', 'Hippocrates. De capitis vulneribus. French', 'Hippocrates. De decenti ornatu', 'Hippocrates. De epidemiis.', 'Hippocrates. De fracturis.', 'Hippocrates. De fracturis. Dutch.', 'Hippocrates. De fracturis. Latin', 'Hippocrates. De genitura. Latin', 'Hippocrates. De genitura. Latin.', 'Hippocrates. De humoribus', 'Hippocrates. De humoribus.', 'Hippocrates. De humoribus. Latin', 'Hippocrates. De internis affectionibus. Latin.', 'Hippocrates. De medicamentis purgatoriis', 'Hippocrates. De medicamentis purgatoriis. Latin', 'Hippocrates. De medicamentis purgatoriis. Latin.', 'Hippocrates. De medicamentis purgatoriis. Latin.', 'Hippocrates. De morbis I.', 'Hippocrates. De morbis. Latin', 'Hippocrates. De morbis. Latin', 'Hippocrates. De morbis. Latin.', 'Hippocrates. De mulierum affectibus.', 'Hippocrates. De mulierum affectibus. Latin.', 'Hippocrates. De mulierum affectibus. Spanish.', 'Hippocrates. De mulierum morbis, lib. I.', 'Hippocrates. De salubri victis ratione. Latin', 'Hippocrates. De salubri victus ratione.  Latin.', 'Hippocrates. De salubri victus ratione. Latin', 'Hippocrates. De salubri victus ratione. Latin.', 'Hippocrates. De septimanis.', 'Hippocrates. De ulceribus.  Latin.', 'Hippocrates. De victus ratione in morbis acutis.', 'Hippocrates. De victus ratione in morbis acutis.  Latin.', 'Hippocrates. De victus ratione. Bk. 1. Latin.', 'Hippocrates. De virginum morbis', 'Hippocrates. De virginum morbis.', 'Hippocrates. De virginum morbis. Latin', 'Hippocrates. De virginum morbis. Latin', 'Hippocrates. De vulneribus capitis.', 'Hippocrates. Epidemics', 'Hippocrates. Epidemiorum libri (I-VII)  Latin', 'Hippocrates. Epistolae', 'Hippocrates. Epistolae.  Ad Maecenatem.  Latin.', 'Hippocrates. Epistolae. Ad Maecenatem. Latin', 'Hippocrates. Epistolae. Ad Ptolemaeum regem de hominis fabrica. Latin', 'Hippocrates. Epistolae. Ad Ptolemaeum regem de hominis fabrica. Latin.', 'Hippocrates. Epistolae. Ad Ptolemaeum regem. Latin', 'Hippocrates. Epistolae. Latin', 'Hippocrates. Kitāb buqrāṭ al-maʼrūf bi-qāṭīṭrī ūn ay ḥānūt al-ṭabīb.', 'Hippocrates. Morbis vulgaribus liber primus.', 'Hippocrates. Peri hebdomadon.', 'Hippocrates. Prognostica.  Latin.', 'Hippocrates. Prorrhetica', 'Hippocrates. Prorrhetica.', 'Hippocrates. Prorrhetica. French.', 'Hippocrates. Prorrheticum. Bk. 1. Latin', 'Hippocrates. Prorrheticum. Latin', 'Hippocrates. Prorrētikos logos prōtos.', 'Hippocrates. Regimen.', 'Hippocrates. Secreta', 'Hippocrates. Secreta. Latin', 'Hippocrates. Secreta. Latin.', \"Hippocrates. Voyage d'Anacharsis\", 'Hippocrates. al-Risālah al-qabriyyah.']",
         "79"
        ],
        [
         "p3skjetf",
         "['HIV infections', 'HIV infections - Africa, Sub-Saharan - Congresses', 'HIV infections - Africa, West', 'HIV infections - Case studies', 'HIV infections - Chemotherapy', 'HIV infections - Comic books, strips, etc', 'HIV infections - Comic books, strips, etc. - Juvenile literature', 'HIV infections - Diagnosis - Government policy', 'HIV infections - Diagnosis - Great Britain', 'HIV infections - Diagnosis - Moral and ethical aspects', 'HIV infections - Economic aspects', 'HIV infections - Economic aspects - Developing countries', 'HIV infections - Education - Great Britain', 'HIV infections - England - London - Prevention', 'HIV infections - England - Prevention', 'HIV infections - Europe - Prevention - Statistics', 'HIV infections - Finance', 'HIV infections - Government policy', 'HIV infections - Government policy - Great Britain', 'HIV infections - Government policy - South Africa', 'HIV infections - Great Britain', 'HIV infections - Great Britain - Prevention', 'HIV infections - Great Britain - Public opinion', 'HIV infections - India - Psychological aspects', 'HIV infections - International cooperation', 'HIV infections - Juvenile literature', 'HIV infections - Law and legislation', 'HIV infections - Law and legislation - England', 'HIV infections - Literary collections', 'HIV infections - Maps', 'HIV infections - Moral and ethical aspects', 'HIV infections - Nursing - Comic books, strips, etc', 'HIV infections - Nursing - Great Britain', 'HIV infections - Nutritional aspects', 'HIV infections - Periodicals', 'HIV infections - Pictorial works', 'HIV infections - Political aspects', 'HIV infections - Public opinion', 'HIV infections - Research', 'HIV infections - Research - Political aspects', 'HIV infections - Risk factors', 'HIV infections - Risk factors - Developing countries', 'HIV infections - Risk factors - Zambia', 'HIV infections - Scotland', 'HIV infections - Sex factors - Africa, Sub-Saharan', 'HIV infections - Sex factors - Kenya - Nyanza Province', 'HIV infections - Social aspects', 'HIV infections - Social aspects - Cameroon', 'HIV infections - Social aspects - Great Britain', 'HIV infections - Social aspects - India', 'HIV infections - Social aspects - Malawi', 'HIV infections - Social aspects - South Africa', 'HIV infections - Social aspects - Treatment - Great Britain', 'HIV infections - Social aspects - Uganda - Iganga District', 'HIV infections - Social aspects - Women - Australia - Personal narratives', 'HIV infections - South Africa - Prevention', 'HIV infections - Study and teaching - Great Britain', 'HIV infections - Thailand - Prevention', 'HIV infections - Transmission', 'HIV infections - Treatment', 'HIV infections - Treatment - Great Britain', 'HIV infections - Treatment - Great Britain - Directories', 'HIV infections - Treatment - South Africa', 'HIV infections - United States - Prevention', 'HIV infections - Wales - Cardiff - Prevention', 'HIV infections - Zimbabwe']",
         "66"
        ],
        [
         "nmr76eke",
         "['Epidemics', 'Epidemics - 18th century', 'Epidemics - Africa, West', 'Epidemics - Africa, West - Congresses', 'Epidemics - Africa, West - History - 21st century', 'Epidemics - Africa, West - Prevention', 'Epidemics - Africa, West - Prevention - International cooperation', 'Epidemics - Asia - History', 'Epidemics - Australia - New South Wales', 'Epidemics - Austria', 'Epidemics - Brazil', 'Epidemics - California - San Francisco - History', 'Epidemics - Case studies', 'Epidemics - Comic books, strips, etc', 'Epidemics - Congresses', 'Epidemics - Early works to 1800', 'Epidemics - Economic aspects', 'Epidemics - Etiology', 'Epidemics - Europe - Statistics', 'Epidemics - Germany - Rhineland - History', 'Epidemics - Germany - Westphalia - History', 'Epidemics - Government policy', 'Epidemics - Great Britain - 18th century', 'Epidemics - Great Britain - 21st century', 'Epidemics - India - History', 'Epidemics - India - Punjab - History', 'Epidemics - Ireland', 'Epidemics - Ireland - 18th century', 'Epidemics - Ireland - History', 'Epidemics - Islamic countries - History', 'Epidemics - Italy - History - 20th century', 'Epidemics - Latin America - History', 'Epidemics - Mathematical models', 'Epidemics - Mediterranean Region - History', 'Epidemics - Mexico - History', 'Epidemics - Netherlands - Early works to 1800', 'Epidemics - North America', 'Epidemics - Peru - Lima - History - 19th century', 'Epidemics - Political aspects', 'Epidemics - Political aspects - Africa, West', 'Epidemics - Political aspects - Liberia', 'Epidemics - Prevention', 'Epidemics - Prevention - Economic aspects', 'Epidemics - Prevention - History', 'Epidemics - Religious aspects - Christianity', 'Epidemics - Russia - History', 'Epidemics - Serbia - History - 20th century', 'Epidemics - Sermons', 'Epidemics - Social aspects', 'Epidemics - Social aspects - Africa', 'Epidemics - Social aspects - Africa, West', 'Epidemics - Social aspects - Great Britain - 21st century', 'Epidemics - Social aspects - History', 'Epidemics - Social aspects - United States', 'Epidemics - Sources', 'Epidemics - Spain - 16th century', 'Epidemics - Spain - Ciudad Real - History', 'Epidemics - Statistics', 'Epidemics - United States - Fiction', 'Epidemics - United States - Forecasting', 'Epidemics - United States - History - 18th century', 'Epidemics - United States - Prevention', 'Epidemics - United States - Prevention - Congresses', 'Epidemics - Venezuela - Delta Amacuro - History - 21st century', 'Epidemics - West Indies']",
         "65"
        ],
        [
         "jxaxpxnh",
         "['Mental illness', 'Mental illness - Anecdotes', 'Mental illness - Art', 'Mental illness - Austria - History', 'Mental illness - Bangladesh - Sylhet', 'Mental illness - Brazil - History', 'Mental illness - Canada', 'Mental illness - Care', 'Mental illness - Caricatures and cartoons', 'Mental illness - China - History', 'Mental illness - Comic books, strips, etc', 'Mental illness - Congresses', 'Mental illness - Cross-cultural studies', 'Mental illness - Drama', 'Mental illness - Early works to 1700', 'Mental illness - Early works to 1800', 'Mental illness - England', 'Mental illness - England - London - statistics & numerical data', 'Mental illness - England, Northern - Directories', 'Mental illness - Environmental aspects', 'Mental illness - Europe - Congresses', 'Mental illness - Europe, Northern - History - 20th century', 'Mental illness - Exhibitions', 'Mental illness - Family relationships', 'Mental illness - France - History', 'Mental illness - France - History - 19th century', 'Mental illness - France - Paris', 'Mental illness - Great Britain', 'Mental illness - Great Britain - History - 19th century', 'Mental illness - Greece - History', 'Mental illness - Handbooks, manuals, etc', 'Mental illness - Humor', 'Mental illness - India - Congresses', 'Mental illness - Ireland - History', 'Mental illness - Islamic Empire - History', 'Mental illness - Italy - Rome - History', 'Mental illness - Juvenile literature', 'Mental illness - Knowledge and learning', 'Mental illness - Lebanon - History', 'Mental illness - Literary collections', 'Mental illness - Measurement', 'Mental illness - Middle East - History', 'Mental illness - Periodicals', 'Mental illness - Personal narratives', 'Mental illness - Personal narratives - Comic books, strips, etc', 'Mental illness - Physical therapy - History', 'Mental illness - Pictorial works', 'Mental illness - Poetry', 'Mental illness - Political aspects', 'Mental illness - Political aspects - Korea', 'Mental illness - Rehabilitation', 'Mental illness - Relapse - Prevention', 'Mental illness - Religion', 'Mental illness - Russia', 'Mental illness - Sex factors', 'Mental illness - Social conditions', 'Mental illness - Sociology - History', 'Mental illness - Spain - History', 'Mental illness - Statistics', 'Mental illness - Students - Treatment', 'Mental illness - Treatment', 'Mental illness - Youth - Fiction', 'Mental illness - statistics & numerical data']",
         "63"
        ],
        [
         "zjq5rbfe",
         "['Plague', 'Plague - 17th century', 'Plague - Balkan Peninsula', 'Plague - Biblical teaching - England - Early works to 1800', 'Plague - China', 'Plague - Croatia - Dubrovnik - History', 'Plague - Diagnosis - Early works to 1800', 'Plague - Environmental aspects - Turkey - History', 'Plague - Epidemiology', 'Plague - France - Bordeaux (Nouvelle-Aquitaine) - Early works to 1800', 'Plague - France - Marseille - Early works to 1800', 'Plague - France - Rouen', 'Plague - Germany - Rhineland - History', 'Plague - Germany - Westphalia - History', 'Plague - Government policy - Early works to 1800', 'Plague - Great Britain', 'Plague - Great Britain - 17th century', 'Plague - Great Britain - Early works to 1800', 'Plague - Great Britain - Law and legislation - Early works to 1800', 'Plague - Great Britain - Mortality', 'Plague - Great Britain - Prevention', 'Plague - Great Britain - Sermons', 'Plague - Greece - Athens', 'Plague - Greece - Athens - Poetry', 'Plague - Hospitals', 'Plague - India - Punjab - History', 'Plague - Ireland - Early works to 1800', 'Plague - Italy', 'Plague - Italy - 17th century', 'Plague - Italy - Naples - Treatment', 'Plague - Law and legislation - England - Early works to 1800', 'Plague - Law and legislation - England - London - Early works to 1800', 'Plague - Law and legislation - England - Oxford - Early works to 1800', 'Plague - Law and legislation - Scotland - Edinburgh - Early works to 1800', 'Plague - Netherlands - Early works to 1800', 'Plague - Patients', 'Plague - Poetry - Early works to 1800', 'Plague - Political aspects - Historiography', 'Plague - Political aspects - Turkey - History', 'Plague - Prevention', 'Plague - Prevention - Early works to 1800', 'Plague - Prevention - England - Early works to 1800', 'Plague - Prevention - Scotland - Early works to 1800', 'Plague - Quarantine', 'Plague - Religion', 'Plague - Religious aspects', 'Plague - Religious aspects - Christianity - Early works to 1800', 'Plague - Religious aspects - Early works to 1800', 'Plague - Scotland - Early works to 1800', 'Plague - Sermons', 'Plague - Sermons - Early works to 1800', 'Plague - Social aspects - Turkey - History', 'Plague - Spain', 'Plague - Spain - Seville - History - 16th century', 'Plague - Therapeutics', 'Plague - Treatment', 'Plague - Treatment - Early works to 1800', 'Plague - Treatment - England - Early works to 1800', 'Plague - Treatment - Germany - History', 'Plague - Turkey - Epidemiology - History', 'Plague - Vaccination']",
         "61"
        ],
        [
         "tby97cgs",
         "['Psychiatry', 'Psychiatry - 20th century - Bio-bibliography', 'Psychiatry - Austria - History', 'Psychiatry - Belgium - Geel - History', 'Psychiatry - Brazil - History', 'Psychiatry - Brazil - Rio de Janeiro - History - 19th century', 'Psychiatry - Brazil - Rio de Janeiro - History - 20th century', 'Psychiatry - Canada', 'Psychiatry - Canada, Western - History - 20th century', 'Psychiatry - China - History', 'Psychiatry - Classification', 'Psychiatry - Communist countries', 'Psychiatry - Cuba - History', 'Psychiatry - Denmark', 'Psychiatry - Early works to 1800', 'Psychiatry - Education', 'Psychiatry - England, Northern - Directories', 'Psychiatry - Ethics - Congresses', 'Psychiatry - Europe - 20th century - History', 'Psychiatry - Europe - History - 19th century', 'Psychiatry - Europe - History - 20th century', 'Psychiatry - Fiction', 'Psychiatry - France - History - Comic books, strips, etc', 'Psychiatry - Germany', 'Psychiatry - Germany (East) - History - Congresses', 'Psychiatry - Germany - History - 19th century', 'Psychiatry - Germany - History - 19th century - Congresses', 'Psychiatry - Germany - History - 20th century', 'Psychiatry - Germany - History - 20th century - Congresses', 'Psychiatry - Great Britain', 'Psychiatry - India - History - 21st century', 'Psychiatry - Information resources', 'Psychiatry - Ireland - Case studies', 'Psychiatry - Ireland - History', 'Psychiatry - Italy - History - 20th century', 'Psychiatry - Lebanon - History', 'Psychiatry - Methods', 'Psychiatry - Middle East - History', 'Psychiatry - Nigeria - History', 'Psychiatry - Poetry', 'Psychiatry - Political aspects', 'Psychiatry - Political aspects - Cuba', 'Psychiatry - Political aspects - Former communist countries - History', 'Psychiatry - Political aspects - Italy - History - 20th century', 'Psychiatry - Political aspects - Soviet Union - History', 'Psychiatry - Political aspects - United States - History', 'Psychiatry - Politics and government', 'Psychiatry - Practice', 'Psychiatry - Social aspects', 'Psychiatry - Societies - History', 'Psychiatry - Spain - Aragon - History - 20th century', 'Psychiatry - Spain - History - 20th century', 'Psychiatry - Statistics', 'Psychiatry - Study and teaching (Higher) - Congresses', 'Psychiatry - Switzerland - Basel - History', 'Psychiatry - Switzerland - History', 'Psychiatry - Switzerland - Rheinau - History', 'Psychiatry - Terminology']",
         "58"
        ],
        [
         "tzz4u62q",
         "['Surgeons', 'Surgeons - Army - Biography', 'Surgeons - Australia - Biography', 'Surgeons - Australia - New South Wales - Biography', 'Surgeons - Austria', 'Surgeons - Canada - Biography', 'Surgeons - Directories', 'Surgeons - Early works to 1800', 'Surgeons - Education', 'Surgeons - England', 'Surgeons - England - Biography', 'Surgeons - England - Blackburn', 'Surgeons - England - Bristol - Biography', 'Surgeons - England - Early works to 1800', 'Surgeons - England - London', 'Surgeons - England - London - Early works to 1800', 'Surgeons - France', 'Surgeons - France - 17th century', 'Surgeons - France - 18th century', 'Surgeons - France - History - 18th century', 'Surgeons - France - History - 19th century', 'Surgeons - Germany', 'Surgeons - Germany - Bio-bibliography', 'Surgeons - Germany - Diaries', 'Surgeons - Germany - Dresden - Biography', 'Surgeons - Germany - Leipzig - Biography', 'Surgeons - Great Britain', 'Surgeons - Great Britain - 19th century', 'Surgeons - Great Britain - 20th century', 'Surgeons - Great Britain - Comic books, strips, etc', 'Surgeons - Great Britain - Fiction', 'Surgeons - Great Britain - History', 'Surgeons - Great Britain - History - 15th century', 'Surgeons - Great Britain - History - 19th century', 'Surgeons - History', 'Surgeons - History - 17th century', 'Surgeons - Italy - 16th century', 'Surgeons - Italy - 18th century', 'Surgeons - Italy - History - 16th century', 'Surgeons - Medical laws and legislation - Early works to 1800', 'Surgeons - Memoirs', 'Surgeons - Mexico - Puebla de Zaragoza', 'Surgeons - Netherlands - 17th century', 'Surgeons - Netherlands - History - 17th century', 'Surgeons - Political activities', 'Surgeons - Portraits', 'Surgeons - Portraits - Catalogs', 'Surgeons - Portugal - History', 'Surgeons - Portugal - Social conditions', 'Surgeons - Postage stamps', 'Surgeons - Russia - Bio-bibliography', 'Surgeons - Scotland', 'Surgeons - Spain - Badajoz - History - 18th century', 'Surgeons - Switzerland - Biography', 'Surgeons - Texas', 'Surgeons - Training of', 'Surgeons - bio']",
         "57"
        ],
        [
         "eewab7e5",
         "['Literature', 'Literature - American', 'Literature - Amharic', 'Literature - Anglo-Saxon', 'Literature - Arabic', 'Literature - Aztec', 'Literature - Canadian', 'Literature - Catalan', 'Literature - Chinese', 'Literature - Czech', 'Literature - Dutch', 'Literature - Egyptian', 'Literature - English', 'Literature - English (Middle)', 'Literature - Ethiopic', 'Literature - French', 'Literature - German', 'Literature - Greek', 'Literature - Guarani', 'Literature - Hebrew', 'Literature - Hindi', 'Literature - Hindustani', 'Literature - Icelandic', 'Literature - Indic', 'Literature - Italian', 'Literature - Japanese', 'Literature - Judeo-Persian', 'Literature - Kechua', 'Literature - Latin', 'Literature - Latin American', 'Literature - Latin-American', 'Literature - Mayan', 'Literature - Mexican', 'Literature - Middle English', 'Literature - Mixtec', 'Literature - Old Norse', 'Literature - Pali', 'Literature - Persian', 'Literature - Philippine languages', 'Literature - Portuguese', 'Literature - Prakrit', 'Literature - Puerto Rican', 'Literature - Russian', 'Literature - Sanskrit', 'Literature - Scottish', 'Literature - Spanish', 'Literature - Spanish American', 'Literature - Swedish', 'Literature - Tamil', 'Literature - Tibetan', 'Literature - Turkish', 'Literature - Welsh', 'Literature - Wesh', 'Literature - history', 'Literature - histroy', 'Literature - in war', 'Literature - societies']",
         "57"
        ],
        [
         "cthq9xkb",
         "['Communicable diseases', 'Communicable diseases - 18th century', 'Communicable diseases - Angola - History - 1648-1885', 'Communicable diseases - Asia - History', 'Communicable diseases - Austria - Vienna', 'Communicable diseases - Comic books, strips, etc', 'Communicable diseases - Control', 'Communicable diseases - Economic aspects - Southeast Asia', 'Communicable diseases - England - History - 19th century', 'Communicable diseases - England - London - 19th century', 'Communicable diseases - England - Sheffield - 20th century', 'Communicable diseases - Environmental aspects', 'Communicable diseases - Etiology', 'Communicable diseases - Europe', 'Communicable diseases - Europe - Epidemiology - Statistics', 'Communicable diseases - Europe - History - To 1500 - Congresses', 'Communicable diseases - Europe, Central', 'Communicable diseases - Europe, Eastern', 'Communicable diseases - Europe, Eastern - Epidemiology', 'Communicable diseases - France - 17th century', 'Communicable diseases - France - Prevention - History - 20th century', 'Communicable diseases - Government policy', 'Communicable diseases - Great Britain', 'Communicable diseases - Great Britain - 18th century', 'Communicable diseases - Immunity', 'Communicable diseases - India - History', 'Communicable diseases - India - Prevention', 'Communicable diseases - Islamic countries - History', 'Communicable diseases - Italy - 18th century', 'Communicable diseases - Japan - Statistics', 'Communicable diseases - Mathematical models', 'Communicable diseases - Mediterranean Region - History', 'Communicable diseases - New York (State) - New York - 19th century', 'Communicable diseases - North Carolina - History', 'Communicable diseases - Public health - Conferences', 'Communicable diseases - Religious aspects', 'Communicable diseases - Research', 'Communicable diseases - Research - Africa, Southern', 'Communicable diseases - Research - Congresses', 'Communicable diseases - Research - Great Britain', 'Communicable diseases - Research - International cooperation', 'Communicable diseases - Research - Kenya', 'Communicable diseases - Singapore', 'Communicable diseases - Singapore - History', 'Communicable diseases - Social aspects', 'Communicable diseases - Social aspects - India - Bengal - History', 'Communicable diseases - Social aspects - Southeast Asia', 'Communicable diseases - Sociology - Exhibitions', 'Communicable diseases - South Africa', 'Communicable diseases - Statistics', 'Communicable diseases - Treatment', 'Communicable diseases - Treatment - Early works to 1800', 'Communicable diseases - Treatment - France - History - 20th century', 'Communicable diseases - Treatment - Technological innovations', 'Communicable diseases - Turkey - Epidemiology', 'Communicable diseases - United States - Prevention']",
         "56"
        ],
        [
         "wmv93wdz",
         "['Sexually transmitted diseases', 'Sexually transmitted diseases - Atlases', 'Sexually transmitted diseases - Australia - Study and teaching', 'Sexually transmitted diseases - Bibliography', 'Sexually transmitted diseases - Chemotherapy', 'Sexually transmitted diseases - Comic books, strips, etc', 'Sexually transmitted diseases - Control', 'Sexually transmitted diseases - Cures - Early works to 1800', 'Sexually transmitted diseases - Diagnosis', 'Sexually transmitted diseases - Diagnosis - Great Britain', 'Sexually transmitted diseases - Early works', 'Sexually transmitted diseases - England', 'Sexually transmitted diseases - England - Early works to 1800', 'Sexually transmitted diseases - England - History - 18th century', 'Sexually transmitted diseases - England - History - 19th century', 'Sexually transmitted diseases - England - History - 20th century', 'Sexually transmitted diseases - England - Prevention', 'Sexually transmitted diseases - England - Sheffield', 'Sexually transmitted diseases - Etiology', 'Sexually transmitted diseases - Examinations, questions, etc', 'Sexually transmitted diseases - Government policy', 'Sexually transmitted diseases - Government policy - Great Britain', 'Sexually transmitted diseases - Great Britain', 'Sexually transmitted diseases - Great Britain - 19th century', 'Sexually transmitted diseases - Great Britain - Congresses', 'Sexually transmitted diseases - Great Britain - Early works to 1800', 'Sexually transmitted diseases - Great Britain - Prevention', 'Sexually transmitted diseases - History', 'Sexually transmitted diseases - Hospitals', 'Sexually transmitted diseases - Hospitals - Spain - History - 17th century', 'Sexually transmitted diseases - Immunological aspects', 'Sexually transmitted diseases - Law and legislation - History', 'Sexually transmitted diseases - Legislation & jurisprudence', 'Sexually transmitted diseases - Miscellanea', 'Sexually transmitted diseases - Nursing', 'Sexually transmitted diseases - Nursing - Great Britain', 'Sexually transmitted diseases - Pathogenesis', 'Sexually transmitted diseases - Pathophysiology', 'Sexually transmitted diseases - Patients', 'Sexually transmitted diseases - Patients - Law and legislation - Great Britain', 'Sexually transmitted diseases - Patients - Spain - History - 17th century', 'Sexually transmitted diseases - Psychological aspects', 'Sexually transmitted diseases - Research', 'Sexually transmitted diseases - Scotland', 'Sexually transmitted diseases - Scotland - Prevention', 'Sexually transmitted diseases - Social aspects', 'Sexually transmitted diseases - Social aspects - Great Britain', 'Sexually transmitted diseases - Spain - History - 17th century', 'Sexually transmitted diseases - Treatment', 'Sexually transmitted diseases - Treatment - Early works to 1800', 'Sexually transmitted diseases - Treatment - History', 'Sexually transmitted diseases - Treatment - History - 19th century', 'Sexually transmitted diseases - Treatment - Popular works', 'Sexually transmitted diseases - Treatment - Spain - History - 17th century', 'Sexually transmitted diseases - United States', 'Sexually transmitted diseases - Wales - Prevention']",
         "56"
        ]
       ],
       "shape": {
        "columns": 2,
        "rows": 20
       }
      },
      "text/html": [
       "<div>\n",
       "<style scoped>\n",
       "    .dataframe tbody tr th:only-of-type {\n",
       "        vertical-align: middle;\n",
       "    }\n",
       "\n",
       "    .dataframe tbody tr th {\n",
       "        vertical-align: top;\n",
       "    }\n",
       "\n",
       "    .dataframe thead th {\n",
       "        text-align: right;\n",
       "    }\n",
       "</style>\n",
       "<table border=\"1\" class=\"dataframe\">\n",
       "  <thead>\n",
       "    <tr style=\"text-align: right;\">\n",
       "      <th></th>\n",
       "      <th>label</th>\n",
       "      <th>size</th>\n",
       "    </tr>\n",
       "    <tr>\n",
       "      <th>id</th>\n",
       "      <th></th>\n",
       "      <th></th>\n",
       "    </tr>\n",
       "  </thead>\n",
       "  <tbody>\n",
       "    <tr>\n",
       "      <th>raz92g59</th>\n",
       "      <td>[Medicine, Medicine - 15-18th centuries, Medic...</td>\n",
       "      <td>204</td>\n",
       "    </tr>\n",
       "    <tr>\n",
       "      <th>jdrh3ssh</th>\n",
       "      <td>[Physicians, Physicians - 20th century - Biogr...</td>\n",
       "      <td>156</td>\n",
       "    </tr>\n",
       "    <tr>\n",
       "      <th>rz2yv25k</th>\n",
       "      <td>[Church buildings, Hospitals, Hospitals - Amer...</td>\n",
       "      <td>139</td>\n",
       "    </tr>\n",
       "    <tr>\n",
       "      <th>mkrbbsrw</th>\n",
       "      <td>[Religion and science, Science, Science - 18th...</td>\n",
       "      <td>115</td>\n",
       "    </tr>\n",
       "    <tr>\n",
       "      <th>zvpgcgjv</th>\n",
       "      <td>[Public health, Public health - 18th century, ...</td>\n",
       "      <td>110</td>\n",
       "    </tr>\n",
       "    <tr>\n",
       "      <th>bpg6b6gq</th>\n",
       "      <td>[Women, Women - 18th century, Women - Albania ...</td>\n",
       "      <td>100</td>\n",
       "    </tr>\n",
       "    <tr>\n",
       "      <th>zbus63qt</th>\n",
       "      <td>[AIDS (Disease), AIDS (Disease) - Africa, Sout...</td>\n",
       "      <td>85</td>\n",
       "    </tr>\n",
       "    <tr>\n",
       "      <th>ecudd397</th>\n",
       "      <td>[Costume, Costume - 18th century, Costume - 19...</td>\n",
       "      <td>83</td>\n",
       "    </tr>\n",
       "    <tr>\n",
       "      <th>dy3k7vet</th>\n",
       "      <td>[Medical care, Medical care - 19th century, Me...</td>\n",
       "      <td>83</td>\n",
       "    </tr>\n",
       "    <tr>\n",
       "      <th>ch4dx5r2</th>\n",
       "      <td>[Galen, Galen Criticism and interpretation, Ga...</td>\n",
       "      <td>82</td>\n",
       "    </tr>\n",
       "    <tr>\n",
       "      <th>j9pr527r</th>\n",
       "      <td>[Hippocrates, Hippocrates Criticism and interp...</td>\n",
       "      <td>79</td>\n",
       "    </tr>\n",
       "    <tr>\n",
       "      <th>p3skjetf</th>\n",
       "      <td>[HIV infections, HIV infections - Africa, Sub-...</td>\n",
       "      <td>66</td>\n",
       "    </tr>\n",
       "    <tr>\n",
       "      <th>nmr76eke</th>\n",
       "      <td>[Epidemics, Epidemics - 18th century, Epidemic...</td>\n",
       "      <td>65</td>\n",
       "    </tr>\n",
       "    <tr>\n",
       "      <th>jxaxpxnh</th>\n",
       "      <td>[Mental illness, Mental illness - Anecdotes, M...</td>\n",
       "      <td>63</td>\n",
       "    </tr>\n",
       "    <tr>\n",
       "      <th>zjq5rbfe</th>\n",
       "      <td>[Plague, Plague - 17th century, Plague - Balka...</td>\n",
       "      <td>61</td>\n",
       "    </tr>\n",
       "    <tr>\n",
       "      <th>tby97cgs</th>\n",
       "      <td>[Psychiatry, Psychiatry - 20th century - Bio-b...</td>\n",
       "      <td>58</td>\n",
       "    </tr>\n",
       "    <tr>\n",
       "      <th>tzz4u62q</th>\n",
       "      <td>[Surgeons, Surgeons - Army - Biography, Surgeo...</td>\n",
       "      <td>57</td>\n",
       "    </tr>\n",
       "    <tr>\n",
       "      <th>eewab7e5</th>\n",
       "      <td>[Literature, Literature - American, Literature...</td>\n",
       "      <td>57</td>\n",
       "    </tr>\n",
       "    <tr>\n",
       "      <th>cthq9xkb</th>\n",
       "      <td>[Communicable diseases, Communicable diseases ...</td>\n",
       "      <td>56</td>\n",
       "    </tr>\n",
       "    <tr>\n",
       "      <th>wmv93wdz</th>\n",
       "      <td>[Sexually transmitted diseases, Sexually trans...</td>\n",
       "      <td>56</td>\n",
       "    </tr>\n",
       "  </tbody>\n",
       "</table>\n",
       "</div>"
      ],
      "text/plain": [
       "                                                      label  size\n",
       "id                                                               \n",
       "raz92g59  [Medicine, Medicine - 15-18th centuries, Medic...   204\n",
       "jdrh3ssh  [Physicians, Physicians - 20th century - Biogr...   156\n",
       "rz2yv25k  [Church buildings, Hospitals, Hospitals - Amer...   139\n",
       "mkrbbsrw  [Religion and science, Science, Science - 18th...   115\n",
       "zvpgcgjv  [Public health, Public health - 18th century, ...   110\n",
       "bpg6b6gq  [Women, Women - 18th century, Women - Albania ...   100\n",
       "zbus63qt  [AIDS (Disease), AIDS (Disease) - Africa, Sout...    85\n",
       "ecudd397  [Costume, Costume - 18th century, Costume - 19...    83\n",
       "dy3k7vet  [Medical care, Medical care - 19th century, Me...    83\n",
       "ch4dx5r2  [Galen, Galen Criticism and interpretation, Ga...    82\n",
       "j9pr527r  [Hippocrates, Hippocrates Criticism and interp...    79\n",
       "p3skjetf  [HIV infections, HIV infections - Africa, Sub-...    66\n",
       "nmr76eke  [Epidemics, Epidemics - 18th century, Epidemic...    65\n",
       "jxaxpxnh  [Mental illness, Mental illness - Anecdotes, M...    63\n",
       "zjq5rbfe  [Plague, Plague - 17th century, Plague - Balka...    61\n",
       "tby97cgs  [Psychiatry, Psychiatry - 20th century - Bio-b...    58\n",
       "tzz4u62q  [Surgeons, Surgeons - Army - Biography, Surgeo...    57\n",
       "eewab7e5  [Literature, Literature - American, Literature...    57\n",
       "cthq9xkb  [Communicable diseases, Communicable diseases ...    56\n",
       "wmv93wdz  [Sexually transmitted diseases, Sexually trans...    56"
      ]
     },
     "execution_count": 33,
     "metadata": {},
     "output_type": "execute_result"
    }
   ],
   "source": [
    "# plotting the distribution of group id counts\n",
    "import matplotlib.pyplot as plt\n",
    "type_counts = pd_combined_df.groupby(\"id\").size().reset_index(name='count')\n",
    "plt.figure(figsize=(10, 6))\n",
    "plt.hist(type_counts['count'], bins=78, color='blue', alpha=0.7)\n",
    "plt.title('Distribution of Group ID Counts')\n",
    "plt.xlabel('Count of IDs')\n",
    "plt.ylabel('Frequency')\n",
    "plt.yscale('log')  # Use logarithmic scale for better visibility\n",
    "plt.grid(axis='y', alpha=0.75)\n",
    "plt.show()\n",
    "\n",
    "print(type_counts[\"count\"].describe())\n",
    "\n",
    "# Show top 20 labels by size, make list of label text and add column with size of list with pandas\n",
    "top_labels = (\n",
    "    pd_combined_df.groupby(\"id\")\n",
    "    .agg({\"label\": lambda x: list(x), \"id\": \"count\"})\n",
    "    .rename(columns={\"id\": \"size\"})\n",
    "    .sort_values(by=\"size\", ascending=False)\n",
    "    .head(20)\n",
    ")\n",
    "top_labels\n",
    "\n"
   ]
  },
  {
   "cell_type": "code",
   "execution_count": null,
   "id": "20347ccb",
   "metadata": {},
   "outputs": [
    {
     "data": {
      "image/png": "[encoded data removed]",
      "text/plain": [
       "<Figure size 1000x600 with 1 Axes>"
      ]
     },
     "metadata": {},
     "output_type": "display_data"
    }
   ],
   "source": [
    "# Pie chart of types    \n",
    "type_counts = pd_combined_df.groupby(\"type\").size().reset_index(name='count')\n",
    "plt.figure(figsize=(10, 6))\n",
    "plt.pie(type_counts['count'], labels=type_counts['type'], autopct='%0.1f%%', startangle=140)\n",
    "plt.title('Distribution of Types')\n",
    "plt.axis('equal')  # Equal aspect ratio ensures that pie is drawn as a circle.\n",
    "plt.show()"
   ]
  },
  {
   "cell_type": "code",
   "execution_count": null,
   "id": "52451365",
   "metadata": {},
   "outputs": [
    {
     "data": {
      "application/vnd.microsoft.datawrangler.viewer.v0+json": {
       "columns": [
        {
         "name": "index",
         "rawType": "int64",
         "type": "integer"
        },
        {
         "name": "label",
         "rawType": "object",
         "type": "string"
        },
        {
         "name": "id",
         "rawType": "object",
         "type": "string"
        },
        {
         "name": "type",
         "rawType": "object",
         "type": "string"
        },
        {
         "name": "source",
         "rawType": "object",
         "type": "string"
        }
       ],
       "ref": "a96b1043-fff3-41a0-bb83-6ece7c1db875",
       "rows": [
        [
         "0",
         "Children",
         "N.A.",
         "N.A.",
         "subject"
        ],
        [
         "1",
         "Criminal law",
         "N.A.",
         "N.A.",
         "subject"
        ],
        [
         "2",
         "Gender roles",
         "N.A.",
         "N.A.",
         "subject"
        ],
        [
         "3",
         "Law",
         "N.A.",
         "N.A.",
         "subject"
        ],
        [
         "4",
         "Police",
         "N.A.",
         "N.A.",
         "subject"
        ],
        [
         "5",
         "Women",
         "N.A.",
         "N.A.",
         "subject"
        ],
        [
         "6",
         "Womyn",
         "N.A.",
         "N.A.",
         "subject"
        ],
        [
         "7",
         "Youth",
         "N.A.",
         "N.A.",
         "subject"
        ],
        [
         "8",
         "Circle of State Librarians Conference 1979 : Kew, England)",
         "a2233f9d",
         "Meeting",
         "contributor"
        ],
        [
         "9",
         "Nelson, Geoffrey B. (Geoffrey Brian)",
         "a223f5a6",
         "Person",
         "contributor"
        ],
        [
         "10",
         "Wolff, G.",
         "a2249bxm",
         "Person",
         "contributor"
        ],
        [
         "11",
         "Jones, John E",
         "a224b9mp",
         "Person",
         "contributor"
        ],
        [
         "12",
         "Jones, John E.",
         "a224b9mp",
         "Person",
         "contributor"
        ],
        [
         "13",
         "Hulverscheidt, Marion, 1970-",
         "a224rx5x",
         "Person",
         "contributor"
        ],
        [
         "14",
         "Zimmermann, Wilhelm.",
         "a224tns9",
         "Person",
         "contributor"
        ],
        [
         "15",
         "Gaur, June.",
         "a2258t8s",
         "Person",
         "contributor"
        ],
        [
         "16",
         "South Cambridgeshire (England)",
         "a22auf32",
         "Place",
         "subject"
        ],
        [
         "17",
         "Orel, Harold, 1926-2017.",
         "a22d6ehy",
         "Person",
         "contributor"
        ],
        [
         "18",
         "Brown, Bruce, 1942-",
         "a22d7muq",
         "Person",
         "contributor"
        ],
        [
         "19",
         "Economic development - History",
         "a22ddxvt",
         "Concept",
         "subject"
        ],
        [
         "20",
         "Shugar, Andrea.",
         "a22dx2jb",
         "Person",
         "contributor"
        ],
        [
         "21",
         "Bruce (Edinburgh, Scotland)",
         "a22ghtpk",
         "Person",
         "contributor"
        ],
        [
         "22",
         "Cheeseman, Thomas, 1760-approximately 1835.",
         "a22hh3y8",
         "Person",
         "contributor"
        ],
        [
         "23",
         "Hartstein, Jack, 1924-",
         "a22hndxd",
         "Person",
         "contributor"
        ],
        [
         "24",
         "Prujean, Thomas, 1622 or 1623-1662.",
         "a22jzkjd",
         "Person",
         "subject"
        ],
        [
         "25",
         "Freeport, Andrew",
         "a22mar23",
         "Person",
         "contributor"
        ],
        [
         "26",
         "Databases as Topic - organization & administration",
         "a22mr8u2",
         "Concept",
         "subject"
        ],
        [
         "27",
         "Ideler, Julius Ludwig, 1809-1842",
         "a22ncx9p",
         "Person",
         "contributor"
        ],
        [
         "28",
         "Fournier, Alfred Jean, 1832-1914",
         "a22sv4sw",
         "Agent",
         "contributor"
        ],
        [
         "29",
         "Royal College of Surgeons in London",
         "a22vrvk4",
         "Organisation",
         "subject"
        ],
        [
         "30",
         "Royal College of Surgeons in London.",
         "a22vrvk4",
         "Organisation",
         "contributor"
        ],
        [
         "31",
         "Hernia, Inguinal, therapy",
         "a22xqhjs",
         "Concept",
         "subject"
        ],
        [
         "32",
         "Poor families",
         "a22xr2nw",
         "Concept",
         "subject"
        ],
        [
         "33",
         "Scrimshaw, Jane, 1584-1711.",
         "a22xt94e",
         "Person",
         "subject"
        ],
        [
         "34",
         "Foster, William",
         "a232zjf3",
         "Person",
         "contributor"
        ],
        [
         "35",
         "Foster, William.",
         "a232zjf3",
         "Person",
         "subject"
        ],
        [
         "36",
         "Foster, William.",
         "a232zjf3",
         "Person",
         "contributor"
        ],
        [
         "37",
         "da Silva, Christiano",
         "a2346x74",
         "Person",
         "contributor"
        ],
        [
         "38",
         "Steam-heating",
         "a235krft",
         "Concept",
         "subject"
        ],
        [
         "39",
         "Dental Restoration, Temporary",
         "a239x46b",
         "Concept",
         "subject"
        ],
        [
         "40",
         "London Black MESMAC",
         "a23ajhj3",
         "Organisation",
         "contributor"
        ],
        [
         "41",
         "London Black Mesmac",
         "a23ajhj3",
         "Organisation",
         "contributor"
        ],
        [
         "42",
         "Fellows, Julian R. (Julian Robert), 1900-1985.",
         "a23c6tr6",
         "Person",
         "contributor"
        ],
        [
         "43",
         "Subba Reddy, D. V., 1899-1987",
         "a23cjx8a",
         "Person",
         "contributor"
        ],
        [
         "44",
         "Subba Reddy, D. V., 1899-1987.",
         "a23cjx8a",
         "Person",
         "contributor"
        ],
        [
         "45",
         "Subba Reddy, D. V., 1899-1987.",
         "a23cjx8a",
         "Person",
         "subject"
        ],
        [
         "46",
         "Pneumonia",
         "a23f6ptg",
         "Concept",
         "subject"
        ],
        [
         "47",
         "Pneumonia - Child",
         "a23f6ptg",
         "Concept",
         "subject"
        ],
        [
         "48",
         "Pneumonia - Child, Preschool",
         "a23f6ptg",
         "Concept",
         "subject"
        ],
        [
         "49",
         "Pneumonia - Infant",
         "a23f6ptg",
         "Concept",
         "subject"
        ]
       ],
       "shape": {
        "columns": 4,
        "rows": 646786
       }
      },
      "text/html": [
       "<div>\n",
       "<style scoped>\n",
       "    .dataframe tbody tr th:only-of-type {\n",
       "        vertical-align: middle;\n",
       "    }\n",
       "\n",
       "    .dataframe tbody tr th {\n",
       "        vertical-align: top;\n",
       "    }\n",
       "\n",
       "    .dataframe thead th {\n",
       "        text-align: right;\n",
       "    }\n",
       "</style>\n",
       "<table border=\"1\" class=\"dataframe\">\n",
       "  <thead>\n",
       "    <tr style=\"text-align: right;\">\n",
       "      <th></th>\n",
       "      <th>label</th>\n",
       "      <th>id</th>\n",
       "      <th>type</th>\n",
       "      <th>source</th>\n",
       "    </tr>\n",
       "  </thead>\n",
       "  <tbody>\n",
       "    <tr>\n",
       "      <th>0</th>\n",
       "      <td>Children</td>\n",
       "      <td>N.A.</td>\n",
       "      <td>N.A.</td>\n",
       "      <td>subject</td>\n",
       "    </tr>\n",
       "    <tr>\n",
       "      <th>1</th>\n",
       "      <td>Criminal law</td>\n",
       "      <td>N.A.</td>\n",
       "      <td>N.A.</td>\n",
       "      <td>subject</td>\n",
       "    </tr>\n",
       "    <tr>\n",
       "      <th>2</th>\n",
       "      <td>Gender roles</td>\n",
       "      <td>N.A.</td>\n",
       "      <td>N.A.</td>\n",
       "      <td>subject</td>\n",
       "    </tr>\n",
       "    <tr>\n",
       "      <th>3</th>\n",
       "      <td>Law</td>\n",
       "      <td>N.A.</td>\n",
       "      <td>N.A.</td>\n",
       "      <td>subject</td>\n",
       "    </tr>\n",
       "    <tr>\n",
       "      <th>4</th>\n",
       "      <td>Police</td>\n",
       "      <td>N.A.</td>\n",
       "      <td>N.A.</td>\n",
       "      <td>subject</td>\n",
       "    </tr>\n",
       "    <tr>\n",
       "      <th>...</th>\n",
       "      <td>...</td>\n",
       "      <td>...</td>\n",
       "      <td>...</td>\n",
       "      <td>...</td>\n",
       "    </tr>\n",
       "    <tr>\n",
       "      <th>646781</th>\n",
       "      <td>Pregnant teenagers - Great Britain - Diaries</td>\n",
       "      <td>zzzvtr3f</td>\n",
       "      <td>Concept</td>\n",
       "      <td>subject</td>\n",
       "    </tr>\n",
       "    <tr>\n",
       "      <th>646782</th>\n",
       "      <td>Maddox, Lucy</td>\n",
       "      <td>zzzw65be</td>\n",
       "      <td>Person</td>\n",
       "      <td>contributor</td>\n",
       "    </tr>\n",
       "    <tr>\n",
       "      <th>646783</th>\n",
       "      <td>Rockliffe, Richard William.</td>\n",
       "      <td>zzzwgbkn</td>\n",
       "      <td>Person</td>\n",
       "      <td>contributor</td>\n",
       "    </tr>\n",
       "    <tr>\n",
       "      <th>646784</th>\n",
       "      <td>Aneurysm - drug therapy</td>\n",
       "      <td>zzzygqw9</td>\n",
       "      <td>Concept</td>\n",
       "      <td>subject</td>\n",
       "    </tr>\n",
       "    <tr>\n",
       "      <th>646785</th>\n",
       "      <td>Gottfried, Robert Steven, 1949-</td>\n",
       "      <td>zzzyybvk</td>\n",
       "      <td>Person</td>\n",
       "      <td>contributor</td>\n",
       "    </tr>\n",
       "  </tbody>\n",
       "</table>\n",
       "<p>646786 rows × 4 columns</p>\n",
       "</div>"
      ],
      "text/plain": [
       "                                               label        id     type  \\\n",
       "0                                           Children      N.A.     N.A.   \n",
       "1                                       Criminal law      N.A.     N.A.   \n",
       "2                                       Gender roles      N.A.     N.A.   \n",
       "3                                                Law      N.A.     N.A.   \n",
       "4                                             Police      N.A.     N.A.   \n",
       "...                                              ...       ...      ...   \n",
       "646781  Pregnant teenagers - Great Britain - Diaries  zzzvtr3f  Concept   \n",
       "646782                                  Maddox, Lucy  zzzw65be   Person   \n",
       "646783                   Rockliffe, Richard William.  zzzwgbkn   Person   \n",
       "646784                       Aneurysm - drug therapy  zzzygqw9  Concept   \n",
       "646785               Gottfried, Robert Steven, 1949-  zzzyybvk   Person   \n",
       "\n",
       "             source  \n",
       "0           subject  \n",
       "1           subject  \n",
       "2           subject  \n",
       "3           subject  \n",
       "4           subject  \n",
       "...             ...  \n",
       "646781      subject  \n",
       "646782  contributor  \n",
       "646783  contributor  \n",
       "646784      subject  \n",
       "646785  contributor  \n",
       "\n",
       "[646786 rows x 4 columns]"
      ]
     },
     "execution_count": 60,
     "metadata": {},
     "output_type": "execute_result"
    }
   ],
   "source": [
    "pd_combined_df"
   ]
  }
 ],
 "metadata": {
  "kernelspec": {
   "display_name": "wc-simd",
   "language": "python",
   "name": "python3"
  },
  "language_info": {
   "codemirror_mode": {
    "name": "ipython",
    "version": 3
   },
   "file_extension": ".py",
   "mimetype": "text/x-python",
   "name": "python",
   "nbconvert_exporter": "python",
   "pygments_lexer": "ipython3",
   "version": "3.10.17"
  }
 },
 "nbformat": 4,
 "nbformat_minor": 5
}
