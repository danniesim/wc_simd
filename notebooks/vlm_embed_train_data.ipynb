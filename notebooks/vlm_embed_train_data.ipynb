{
 "cells": [
  {
   "cell_type": "code",
   "execution_count": 25,
   "id": "c550fdcd",
   "metadata": {},
   "outputs": [
    {
     "name": "stdout",
     "output_type": "stream",
     "text": [
      "Notebook file size: 565.48 KB\n"
     ]
    }
   ],
   "source": [
    "# get file size of this notebook\n",
    "\n",
    "import os\n",
    "print(f\"Notebook file size: {os.path.getsize('vlm_embed_train_data.ipynb') / 1024:.2f} KB\")"
   ]
  },
  {
   "cell_type": "code",
   "execution_count": null,
   "id": "28a1fb52",
   "metadata": {},
   "outputs": [],
   "source": [
    "import numpy as np\n",
    "\n",
    "data = np.load('../data/vlm_embed/iiif_no_text_embedding_matrix.npy', allow_pickle=True)"
   ]
  },
  {
   "cell_type": "markdown",
   "id": "5bbe42e7",
   "metadata": {},
   "source": [
    "## Common diagnostics when you’re training a **variational autoencoder (VAE)**\n",
    "\n",
    "---\n",
    "\n",
    "### **Top-left: `latent/kl_var`**\n",
    "- This shows the **KL divergence term** of your VAE’s loss, often averaged across dimensions.\n",
    "- It measures how close your approximate posterior \\( q_\\phi(z|x) \\) is to the prior \\( p(z) \\) (usually \\( \\mathcal{N}(0,I) \\)).\n",
    "- **Interpretation:**  \n",
    "  - Starts low (the encoder is ignoring the latent variables).  \n",
    "  - Rises as the encoder begins to use the latent space.  \n",
    "  - A good balance is important: too low → posterior collapse, too high → poor reconstructions.\n",
    "- The upward trend then plateauing and slightly decreasing suggests the model is learning to balance KL and reconstruction terms.\n",
    "\n",
    "---\n",
    "\n",
    "### **Top-right: `latent/logvar`**\n",
    "- This is the distribution of the **log-variance outputs** from the encoder.  \n",
    "- Each encoder latent dimension predicts a mean (`mu`) and log-variance (`logvar`), defining the Gaussian distribution from which you sample \\( z \\).  \n",
    "- **Interpretation:**  \n",
    "  - Spikes around zero mean log-variance ≈ 0 → variance ≈ 1 (close to prior).  \n",
    "  - Spread distributions show how much uncertainty the encoder is predicting for each latent dimension.\n",
    "\n",
    "---\n",
    "\n",
    "### **Bottom-left: `latent/mu`**\n",
    "- This is the distribution of the **means** predicted by the encoder for each latent variable.  \n",
    "- Ideally, they should cluster around zero if the KL regularization is working well (since prior is \\( N(0, I) \\)).  \n",
    "- If they drift too far away from zero, the KL term will increase to pull them back.\n",
    "\n",
    "---\n",
    "\n",
    "### **Bottom-right: `latent/z_sample`**\n",
    "- These are actual **samples of latent variables \\( z \\)**, drawn as \\( z = \\mu + \\sigma \\cdot \\epsilon \\) where \\( \\epsilon \\sim \\mathcal{N}(0, I) \\).  \n",
    "- This shows how the *effective latent space* looks during training.  \n",
    "- Should roughly follow a Gaussian distribution centered at zero, though skew or multimodality can appear if the VAE is strongly encoding structured information.\n",
    "\n",
    "---\n",
    "\n",
    "✅ **Putting it all together:**  \n",
    "- `latent/mu` + `latent/logvar` tell you what your encoder is outputting.  \n",
    "- `latent/z_sample` shows what you actually pass to the decoder.  \n",
    "- `latent/kl_var` tells you how far this is from the prior and whether your KL term is being respected.  \n",
    "\n",
    "---"
   ]
  },
  {
   "cell_type": "markdown",
   "id": "dde97990",
   "metadata": {},
   "source": [
    "## How you actually use the latent variable \\(z\\) once the VAE is trained.  \n",
    "\n",
    "---\n",
    "\n",
    "### 🔹 Recap: What the encoder produces\n",
    "For each input \\(x\\), the encoder outputs:\n",
    "- \\( \\mu(x) \\) → mean of the approximate posterior  \n",
    "- \\( \\log \\sigma^2(x) \\) → log-variance  \n",
    "\n",
    "So the latent posterior is:\n",
    "\\[\n",
    "q_\\phi(z|x) = \\mathcal{N}(z; \\mu(x), \\sigma^2(x) I)\n",
    "\\]\n",
    "\n",
    "And the reparameterization trick samples:\n",
    "\\[\n",
    "z = \\mu(x) + \\sigma(x) \\cdot \\epsilon, \\quad \\epsilon \\sim \\mathcal{N}(0, I)\n",
    "\\]\n",
    "\n",
    "---\n",
    "\n",
    "### 🔹 Two ways of using \\(z\\) at inference\n",
    "1. **Posterior mean (deterministic)**  \n",
    "   - Just take \\( z = \\mu(x) \\).  \n",
    "   - This ignores variance and gives the “most likely” latent code.  \n",
    "   - Useful if you want **stable reconstructions** (less noise).  \n",
    "   - Downside: you aren’t really sampling, so you might lose generative diversity.\n",
    "\n",
    "2. **Stochastic sample (sample)**  \n",
    "   - Actually draw \\( z \\) using the full distribution \\( \\mu(x), \\sigma(x) \\).  \n",
    "   - This adds noise according to the learned uncertainty.  \n",
    "   - More faithful to the probabilistic nature of the VAE.  \n",
    "   - Useful for **generation**, data augmentation, or exploring diversity.  \n",
    "\n",
    "---\n",
    "\n",
    "### 🔹 When to use which\n",
    "- **Reconstruction tasks** → use posterior mean (\\(z = \\mu(x)\\)) for sharper, more stable outputs.  \n",
    "- **Generative tasks / sampling** → use stochastic \\(z\\) so you capture the randomness and diversity.  \n",
    "- **Evaluation (e.g. ELBO)** → always stochastic, because that’s how the model was trained.  "
   ]
  },
  {
   "cell_type": "markdown",
   "id": "d89f3925",
   "metadata": {},
   "source": [
    "# Embedding Data"
   ]
  },
  {
   "cell_type": "code",
   "execution_count": 4,
   "id": "01be3408",
   "metadata": {},
   "outputs": [],
   "source": [
    "import numpy as np\n",
    "\n",
    "data_infer = '../data/vlm_embed/iiif_no_text_embedding_matrix.npy'\n",
    "\n",
    "\n",
    "X = np.load(data_infer, mmap_mode='r')\n",
    "# X = np.load(data_infer).astype(np.float32)\n",
    "# X_subset = X[np.random.choice(X.shape[0], 100000, replace=False)]\n"
   ]
  },
  {
   "cell_type": "markdown",
   "id": "3c88dc43",
   "metadata": {},
   "source": [
    "# VAE Latents"
   ]
  },
  {
   "cell_type": "code",
   "execution_count": 5,
   "id": "fcee4ed8",
   "metadata": {},
   "outputs": [],
   "source": [
    "from wc_simd.vlm_embed_vae import VAE3DWrapper\n",
    "\n",
    "sample = False\n",
    "model_checkpoint = '../runs/vlm_embed_vae3d_hires_1/vae3d.pt'\n",
    "wrapper = VAE3DWrapper(model_checkpoint)\n",
    "Z = wrapper.to3d(\n",
    "    X, use_mu=(not sample),\n",
    "    batch_size=64 * 1024)\n",
    "\n",
    "# construct output filename from model and input\n",
    "output_filename = f'../data/vlm_embed/iiif_no_text_embedding_matrix_{model_checkpoint.split(\"/\")[-2]}.npy'\n",
    "np.save(output_filename, Z)\n",
    "del Z, wrapper  # free memory"
   ]
  },
  {
   "cell_type": "code",
   "execution_count": 6,
   "id": "735224c9",
   "metadata": {},
   "outputs": [],
   "source": [
    "import numpy as np\n",
    "\n",
    "# data_file = output_filename\n",
    "data_file = \"../data/vlm_embed/iiif_no_text_embedding_matrix_vlm_embed_vae3d_hires_1.npy\"\n",
    "# data_file = \"../data/vlm_embed/iiif_no_text_embedding_matrix_vlm_embed_vae3d_light_8.npy\"\n",
    "# data_file = \"../data/vlm_embed/iiif_no_text_embedding_matrix_vlm_embed_ae3d_light_2.npy\"\n",
    "\n",
    "data = np.load(data_file, allow_pickle=True)"
   ]
  },
  {
   "cell_type": "markdown",
   "id": "c3741ed3",
   "metadata": {},
   "source": [
    "# Subset"
   ]
  },
  {
   "cell_type": "code",
   "execution_count": 7,
   "id": "6eec1381",
   "metadata": {},
   "outputs": [],
   "source": [
    "\n",
    "subset_idx = np.random.choice(data.shape[0], 10000, replace=False)"
   ]
  },
  {
   "cell_type": "code",
   "execution_count": 9,
   "id": "e276e4b2",
   "metadata": {},
   "outputs": [],
   "source": [
    "# Save subset_idx for later use\n",
    "np.save(data_file.replace('.npy', '_subset_idx.npy'), subset_idx)"
   ]
  },
  {
   "cell_type": "code",
   "execution_count": 10,
   "id": "d4ac3168",
   "metadata": {},
   "outputs": [],
   "source": [
    "# Load subset_idx if needed\n",
    "subset_idx = np.load(data_file.replace('.npy', '_subset_idx.npy'))"
   ]
  },
  {
   "cell_type": "code",
   "execution_count": 11,
   "id": "3dbf42fb",
   "metadata": {},
   "outputs": [],
   "source": [
    "subset = data[subset_idx]\n",
    "del data"
   ]
  },
  {
   "cell_type": "markdown",
   "id": "a84f30bb",
   "metadata": {},
   "source": [
    "# Images"
   ]
  },
  {
   "cell_type": "code",
   "execution_count": 3,
   "id": "9f431e41",
   "metadata": {},
   "outputs": [
    {
     "data": {
      "text/plain": [
       "['https://iiif.wellcomecollection.org/image/b19314164_0270.jp2/full/1338,1519/0/default.jpg',\n",
       " 'https://iiif.wellcomecollection.org/image/b18597452_0033.jp2/full/1338,1636/0/default.jpg',\n",
       " 'https://iiif.wellcomecollection.org/image/b33537525_0232.jp2/full/1338,2047/0/default.jpg',\n",
       " 'https://iiif.wellcomecollection.org/image/b32274683_0049.jp2/full/1338,1671/0/default.jpg',\n",
       " 'https://iiif.wellcomecollection.org/image/b28705804_0043.jp2/full/1338,2217/0/default.jpg',\n",
       " 'https://iiif.wellcomecollection.org/image/b30634672_0189.jp2/full/1338,1697/0/default.jpg',\n",
       " 'https://iiif.wellcomecollection.org/image/b33585489_0249.jp2/full/1338,2037/0/default.jpg',\n",
       " 'https://iiif.wellcomecollection.org/image/b28705804_0366.jp2/full/1338,2102/0/default.jpg',\n",
       " 'https://iiif.wellcomecollection.org/image/b28704940_0519.jp2/full/1338,1525/0/default.jpg',\n",
       " 'https://iiif.wellcomecollection.org/image/b19191728_0174.jp2/full/1338,1629/0/default.jpg',\n",
       " 'https://iiif.wellcomecollection.org/image/b19371810_0133.jp2/full/1338,1703/0/default.jpg',\n",
       " 'https://iiif.wellcomecollection.org/image/b28705853_0037.jp2/full/1338,2270/0/default.jpg',\n",
       " 'https://iiif.wellcomecollection.org/image/b33585489_0176.jp2/full/1338,2036/0/default.jpg',\n",
       " 'https://iiif.wellcomecollection.org/image/b33245162_0001.jp2/full/1338,1691/0/default.jpg',\n",
       " 'https://iiif.wellcomecollection.org/image/b32274580_0027.jp2/full/1338,1845/0/default.jpg',\n",
       " 'https://iiif.wellcomecollection.org/image/b33585489_0028.jp2/full/1338,2126/0/default.jpg',\n",
       " 'https://iiif.wellcomecollection.org/image/b32274646_0005.jp2/full/1338,1934/0/default.jpg',\n",
       " 'https://iiif.wellcomecollection.org/image/b32274634_0072.jp2/full/1338,1771/0/default.jpg',\n",
       " 'https://iiif.wellcomecollection.org/image/b28976794_0147.jp2/full/1338,1640/0/default.jpg',\n",
       " 'https://iiif.wellcomecollection.org/image/b28705737_0146.jp2/full/1338,2069/0/default.jpg',\n",
       " 'https://iiif.wellcomecollection.org/image/b32274622_0056.jp2/full/1338,1811/0/default.jpg',\n",
       " 'https://iiif.wellcomecollection.org/image/b18437151_ramc_1242_1_0057.JP2/full/1019,1024/0/default.jpg',\n",
       " 'https://iiif.wellcomecollection.org/image/b18289332_ramc_384_1_4_0009.JP2/full/1024,993/0/default.jpg',\n",
       " 'https://iiif.wellcomecollection.org/image/b20614548_galton_02_08_01_13_08_0012.JP2/full/1006,1024/0/default.jpg',\n",
       " 'https://iiif.wellcomecollection.org/image/b33373309_0001.jp2/full/1338,1646/0/default.jpg',\n",
       " 'https://iiif.wellcomecollection.org/image/b18123533_0041.jp2/full/1338,1757/0/default.jpg',\n",
       " 'https://iiif.wellcomecollection.org/image/b28704733_0364.jp2/full/1338,2316/0/default.jpg',\n",
       " 'https://iiif.wellcomecollection.org/image/b14565377_0010.jp2/full/1024,1011/0/default.jpg',\n",
       " 'https://iiif.wellcomecollection.org/image/b28704630_0520.jp2/full/1338,1948/0/default.jpg',\n",
       " 'https://iiif.wellcomecollection.org/image/b20129075_kdbp_1_3_053_1.JP2/full/996,1024/0/default.jpg',\n",
       " 'https://iiif.wellcomecollection.org/image/b11058286_0336.jp2/full/3840,5408/0/default.jpg',\n",
       " 'https://iiif.wellcomecollection.org/image/b22007611_0019.jp2/full/1338,2093/0/default.jpg',\n",
       " 'https://iiif.wellcomecollection.org/image/b32274750_0121.jp2/full/1338,2193/0/default.jpg',\n",
       " 'https://iiif.wellcomecollection.org/image/b32274592_0017.jp2/full/1338,1955/0/default.jpg',\n",
       " 'https://iiif.wellcomecollection.org/image/b20129075_kdbp_1_3_271_2.JP2/full/1024,1010/0/default.jpg',\n",
       " 'https://iiif.wellcomecollection.org/image/b18318162_0399.jp2/full/1338,1940/0/default.jpg',\n",
       " 'https://iiif.wellcomecollection.org/image/b32274750_0346.jp2/full/1338,1762/0/default.jpg',\n",
       " 'https://iiif.wellcomecollection.org/image/b11148366_hin-wel-all-00003449_0167.jp2/full/1021,1024/0/default.jpg',\n",
       " 'https://iiif.wellcomecollection.org/image/b31854370_0022.jp2/full/999,1024/0/default.jpg',\n",
       " 'https://iiif.wellcomecollection.org/image/b28705269_0016.jp2/full/1338,1815/0/default.jpg',\n",
       " 'https://iiif.wellcomecollection.org/image/b18758897_0269.jp2/full/1338,1843/0/default.jpg',\n",
       " 'https://iiif.wellcomecollection.org/image/b18417383_0213.jp2/full/1338,1665/0/default.jpg',\n",
       " 'https://iiif.wellcomecollection.org/image/b1325473x_hin-wel-all-00012743_0011.jp2/full/1024,1019/0/default.jpg',\n",
       " 'https://iiif.wellcomecollection.org/image/b28705786_0571.jp2/full/1338,1659/0/default.jpg',\n",
       " 'https://iiif.wellcomecollection.org/image/b28704630_0219.jp2/full/1338,1995/0/default.jpg',\n",
       " 'https://iiif.wellcomecollection.org/image/b18123533_0149.jp2/full/1338,1735/0/default.jpg',\n",
       " 'https://iiif.wellcomecollection.org/image/b24937757_RET_3_3_2_5_0865.jp2/full/1024,1005/0/default.jpg',\n",
       " 'https://iiif.wellcomecollection.org/image/b19676736_0310.jp2/full/1338,1909/0/default.jpg',\n",
       " 'https://iiif.wellcomecollection.org/image/b28704630_0051.jp2/full/1338,2010/0/default.jpg',\n",
       " 'https://iiif.wellcomecollection.org/image/b32274804_0049.jp2/full/1338,2100/0/default.jpg',\n",
       " 'https://iiif.wellcomecollection.org/image/b28976794_0029.jp2/full/1338,1640/0/default.jpg',\n",
       " 'https://iiif.wellcomecollection.org/image/b32274683_0008.jp2/full/1338,1673/0/default.jpg',\n",
       " 'https://iiif.wellcomecollection.org/image/b31854497_0003.jp2/full/1008,1024/0/default.jpg',\n",
       " 'https://iiif.wellcomecollection.org/image/b11058286_0844.jp2/full/4056,5480/0/default.jpg',\n",
       " 'https://iiif.wellcomecollection.org/image/b18693441_0402.jp2/full/1338,2055/0/default.jpg',\n",
       " 'https://iiif.wellcomecollection.org/image/b32274610_0012.jp2/full/1338,1791/0/default.jpg',\n",
       " 'https://iiif.wellcomecollection.org/image/b28704630_0379.jp2/full/1338,2025/0/default.jpg',\n",
       " 'https://iiif.wellcomecollection.org/image/b11058286_0698.jp2/full/3948,5432/0/default.jpg',\n",
       " 'https://iiif.wellcomecollection.org/image/b28705427_0460.jp2/full/1338,2196/0/default.jpg',\n",
       " 'https://iiif.wellcomecollection.org/image/b32274750_0318.jp2/full/1338,2175/0/default.jpg',\n",
       " 'https://iiif.wellcomecollection.org/image/b11534096_hin-wel-all-00012421_0337.jp2/full/1024,1014/0/default.jpg',\n",
       " 'https://iiif.wellcomecollection.org/image/b32274555_0048.jp2/full/1338,1886/0/default.jpg',\n",
       " 'https://iiif.wellcomecollection.org/image/b1856351x_0075.jp2/full/1338,1492/0/default.jpg',\n",
       " 'https://iiif.wellcomecollection.org/image/b20294955_WMS_Arabic_48_0091.jp2/full/1024,979/0/default.jpg',\n",
       " 'https://iiif.wellcomecollection.org/image/b33374557_0001.jp2/full/1338,957/0/default.jpg',\n",
       " 'https://iiif.wellcomecollection.org/image/b18123533_0216.jp2/full/1338,1725/0/default.jpg',\n",
       " 'https://iiif.wellcomecollection.org/image/b28705774_0229.jp2/full/1338,2067/0/default.jpg',\n",
       " 'https://iiif.wellcomecollection.org/image/b32274750_0088.jp2/full/1338,2076/0/default.jpg',\n",
       " 'https://iiif.wellcomecollection.org/image/b19575397_0120.jp2/full/1338,2120/0/default.jpg',\n",
       " 'https://iiif.wellcomecollection.org/image/b14827931_0035.jp2/full/1338,1826/0/default.jpg',\n",
       " 'https://iiif.wellcomecollection.org/image/b19314164_0077.jp2/full/1338,1541/0/default.jpg',\n",
       " 'https://iiif.wellcomecollection.org/image/b19576523_0051.jp2/full/1338,1483/0/default.jpg',\n",
       " 'https://iiif.wellcomecollection.org/image/b28705269_0065.jp2/full/1338,1769/0/default.jpg',\n",
       " 'https://iiif.wellcomecollection.org/image/b32274555_0205.jp2/full/1338,1982/0/default.jpg',\n",
       " 'https://iiif.wellcomecollection.org/image/b18576795_1011.jp2/full/1338,1996/0/default.jpg',\n",
       " 'https://iiif.wellcomecollection.org/image/b14565377_0144.jp2/full/1004,1024/0/default.jpg',\n",
       " 'https://iiif.wellcomecollection.org/image/b2496492x_RET_1_5_5_10_1_0103.jp2/full/1024,1012/0/default.jpg',\n",
       " 'https://iiif.wellcomecollection.org/image/b32274750_0351.jp2/full/1338,1777/0/default.jpg',\n",
       " 'https://iiif.wellcomecollection.org/image/b20297105_WMS_Arabic_440_0025.jp2/full/1000,1024/0/default.jpg',\n",
       " 'https://iiif.wellcomecollection.org/image/b18576795_0515.jp2/full/1338,1936/0/default.jpg',\n",
       " 'https://iiif.wellcomecollection.org/image/b28704940_0386.jp2/full/1338,1525/0/default.jpg',\n",
       " 'https://iiif.wellcomecollection.org/image/b18587057_ramc_1153_2_0006.JP2/full/981,1024/0/default.jpg',\n",
       " 'https://iiif.wellcomecollection.org/image/b28705786_0518.jp2/full/1338,1663/0/default.jpg',\n",
       " 'https://iiif.wellcomecollection.org/image/b3337885x_0001.jp2/full/1338,1912/0/default.jpg',\n",
       " 'https://iiif.wellcomecollection.org/image/b32274634_0084.jp2/full/1338,1844/0/default.jpg',\n",
       " 'https://iiif.wellcomecollection.org/image/b22007611_0051.jp2/full/1338,2093/0/default.jpg',\n",
       " 'https://iiif.wellcomecollection.org/image/b19012676_0049.jp2/full/1338,1934/0/default.jpg',\n",
       " 'https://iiif.wellcomecollection.org/image/b32274750_0030.jp2/full/1338,2265/0/default.jpg',\n",
       " 'https://iiif.wellcomecollection.org/image/b28705804_0351.jp2/full/1338,2132/0/default.jpg',\n",
       " 'https://iiif.wellcomecollection.org/image/b28705427_0072.jp2/full/1338,2253/0/default.jpg',\n",
       " 'https://iiif.wellcomecollection.org/image/b28705737_0373.jp2/full/1338,2157/0/default.jpg',\n",
       " 'https://iiif.wellcomecollection.org/image/b19202763_0082.jp2/full/1338,1824/0/default.jpg',\n",
       " 'https://iiif.wellcomecollection.org/image/b18729794_0345.jp2/full/1338,1786/0/default.jpg',\n",
       " 'https://iiif.wellcomecollection.org/image/b32274750_0259.jp2/full/1338,1849/0/default.jpg',\n",
       " 'https://iiif.wellcomecollection.org/image/b28976794_0442.jp2/full/1338,1704/0/default.jpg',\n",
       " 'https://iiif.wellcomecollection.org/image/b20224990_penrose_2_24_6_5_9_0023.JP2/full/1338,1681/0/default.jpg',\n",
       " 'https://iiif.wellcomecollection.org/image/b11058286_0685.jp2/full/3788,5396/0/default.jpg',\n",
       " 'https://iiif.wellcomecollection.org/image/b33537525_0168.jp2/full/1338,2051/0/default.jpg',\n",
       " 'https://iiif.wellcomecollection.org/image/b32274555_0144.jp2/full/1338,1942/0/default.jpg',\n",
       " 'https://iiif.wellcomecollection.org/image/b24391621_RET_1_5_1_67_0386.jp2/full/981,1024/0/default.jpg',\n",
       " 'https://iiif.wellcomecollection.org/image/b18576795_0627.jp2/full/1338,1946/0/default.jpg',\n",
       " 'https://iiif.wellcomecollection.org/image/b32274609_0051.jp2/full/1338,1854/0/default.jpg',\n",
       " 'https://iiif.wellcomecollection.org/image/b28976794_0504.jp2/full/1338,1704/0/default.jpg',\n",
       " 'https://iiif.wellcomecollection.org/image/b30540471_0473.jp2/full/1338,1949/0/default.jpg',\n",
       " 'https://iiif.wellcomecollection.org/image/b32274750_0204.jp2/full/1338,2101/0/default.jpg',\n",
       " 'https://iiif.wellcomecollection.org/image/b32274750_0243.jp2/full/1338,2015/0/default.jpg',\n",
       " 'https://iiif.wellcomecollection.org/image/b18597452_0016.jp2/full/1338,1673/0/default.jpg',\n",
       " 'https://iiif.wellcomecollection.org/image/b2867893x_0002.jp2/full/1007,1024/0/default.jpg',\n",
       " 'https://iiif.wellcomecollection.org/image/b32274658_0136.jp2/full/1338,1735/0/default.jpg',\n",
       " 'https://iiif.wellcomecollection.org/image/b22654896_DGH1_5_1_1_19_0004.JP2/full/977,1024/0/default.jpg',\n",
       " 'https://iiif.wellcomecollection.org/image/b32274580_0021.jp2/full/1338,1816/0/default.jpg',\n",
       " 'https://iiif.wellcomecollection.org/image/b14755117_0265.jp2/full/1338,1302/0/default.jpg',\n",
       " 'https://iiif.wellcomecollection.org/image/b32274634_0012.jp2/full/1338,1846/0/default.jpg',\n",
       " 'https://iiif.wellcomecollection.org/image/b33517721_0003.jp2/full/1338,1799/0/default.jpg',\n",
       " 'https://iiif.wellcomecollection.org/image/b14846275_0066.jp2/full/1338,2102/0/default.jpg',\n",
       " 'https://iiif.wellcomecollection.org/image/b28705889_0129.jp2/full/1338,1914/0/default.jpg',\n",
       " 'https://iiif.wellcomecollection.org/image/b19175346_0001.jp2/full/1338,1521/0/default.jpg',\n",
       " 'https://iiif.wellcomecollection.org/image/b33068689_0007.jp2/full/1338,1705/0/default.jpg',\n",
       " 'https://iiif.wellcomecollection.org/image/b24954639_RET_6_19_1_83_0035.jp2/full/1020,1024/0/default.jpg',\n",
       " 'https://iiif.wellcomecollection.org/image/b18576795_0634.jp2/full/1338,1988/0/default.jpg',\n",
       " 'https://iiif.wellcomecollection.org/image/b3222641x_0028.jp2/full/999,1024/0/default.jpg',\n",
       " 'https://iiif.wellcomecollection.org/image/b28704733_0228.jp2/full/1338,2386/0/default.jpg',\n",
       " 'https://iiif.wellcomecollection.org/image/b24937356_RET_3_3_2_12_0164.jp2/full/1024,990/0/default.jpg',\n",
       " 'https://iiif.wellcomecollection.org/image/b11058286_0689.jp2/full/3788,5396/0/default.jpg',\n",
       " 'https://iiif.wellcomecollection.org/image/b10109432_hin-wel-all-00000036_0209.jp2/full/1338,1824/0/default.jpg',\n",
       " 'https://iiif.wellcomecollection.org/image/b28705579_0229.jp2/full/1338,1946/0/default.jpg',\n",
       " 'https://iiif.wellcomecollection.org/image/b11058286_0817.jp2/full/3680,5396/0/default.jpg',\n",
       " 'https://iiif.wellcomecollection.org/image/b19237005_0217.jp2/full/1338,1643/0/default.jpg',\n",
       " 'https://iiif.wellcomecollection.org/image/b28705804_0218.jp2/full/1338,2102/0/default.jpg',\n",
       " 'https://iiif.wellcomecollection.org/image/b3185445x_0051.jp2/full/998,1024/0/default.jpg',\n",
       " 'https://iiif.wellcomecollection.org/image/b19177136_0024.jp2/full/1338,1601/0/default.jpg',\n",
       " 'https://iiif.wellcomecollection.org/image/b22654860_DGH1_5_27_6_0009.JP2/full/981,1024/0/default.jpg',\n",
       " 'https://iiif.wellcomecollection.org/image/b32274658_0094.jp2/full/1338,1766/0/default.jpg',\n",
       " 'https://iiif.wellcomecollection.org/image/b29227021_3473_3_2_0407.jp2/full/1024,998/0/default.jpg',\n",
       " 'https://iiif.wellcomecollection.org/image/b10109432_hin-wel-all-00000036_0256.jp2/full/1338,1765/0/default.jpg',\n",
       " 'https://iiif.wellcomecollection.org/image/b28705889_0326.jp2/full/1338,1844/0/default.jpg',\n",
       " 'https://iiif.wellcomecollection.org/image/b14846275_0075.jp2/full/1338,1932/0/default.jpg',\n",
       " 'https://iiif.wellcomecollection.org/image/b19676736_0388.jp2/full/1338,1999/0/default.jpg',\n",
       " 'https://iiif.wellcomecollection.org/image/b14827931_0013.jp2/full/1338,1771/0/default.jpg',\n",
       " 'https://iiif.wellcomecollection.org/image/b30634672_0134.jp2/full/1338,1639/0/default.jpg',\n",
       " 'https://iiif.wellcomecollection.org/image/b28705269_0059.jp2/full/1338,1769/0/default.jpg',\n",
       " 'https://iiif.wellcomecollection.org/image/b14827827_0040.jp2/full/1338,1931/0/default.jpg',\n",
       " 'https://iiif.wellcomecollection.org/image/b14846275_0626.jp2/full/1338,1984/0/default.jpg',\n",
       " 'https://iiif.wellcomecollection.org/image/b19237005_0351.jp2/full/1338,1544/0/default.jpg',\n",
       " 'https://iiif.wellcomecollection.org/image/b18896042_MS_2799_0198.JP2/full/981,1024/0/default.jpg',\n",
       " 'https://iiif.wellcomecollection.org/image/b20616223_galton_1_2_7_1_2_0003.JP2/full/1024,1005/0/default.jpg',\n",
       " 'https://iiif.wellcomecollection.org/image/b2022476x_penrose_2_24_6_2_1_0110.JP2/full/1338,1714/0/default.jpg',\n",
       " 'https://iiif.wellcomecollection.org/image/b32274683_0015.jp2/full/1338,1720/0/default.jpg',\n",
       " 'https://iiif.wellcomecollection.org/image/b32274683_0107.jp2/full/1338,1669/0/default.jpg',\n",
       " 'https://iiif.wellcomecollection.org/image/b24937356_RET_3_3_2_12_0818.jp2/full/1017,1024/0/default.jpg',\n",
       " 'https://iiif.wellcomecollection.org/image/b30540471_0108.jp2/full/1338,2045/0/default.jpg',\n",
       " 'https://iiif.wellcomecollection.org/image/b32274646_0003.jp2/full/1338,1934/0/default.jpg',\n",
       " 'https://iiif.wellcomecollection.org/image/b14827712_0071.jp2/full/1338,2014/0/default.jpg',\n",
       " 'https://iiif.wellcomecollection.org/image/b28705889_0163.jp2/full/1338,1920/0/default.jpg',\n",
       " 'https://iiif.wellcomecollection.org/image/b18318162_0159.jp2/full/1338,1897/0/default.jpg',\n",
       " 'https://iiif.wellcomecollection.org/image/b28705646_0178.jp2/full/1338,2234/0/default.jpg',\n",
       " 'https://iiif.wellcomecollection.org/image/b19371810_0021.jp2/full/1338,867/0/default.jpg',\n",
       " 'https://iiif.wellcomecollection.org/image/b18576795_0585.jp2/full/1338,1991/0/default.jpg',\n",
       " 'https://iiif.wellcomecollection.org/image/b19115556_ramc_1242_7_0057.JP2/full/1022,1024/0/default.jpg',\n",
       " 'https://iiif.wellcomecollection.org/image/b28704733_0143.jp2/full/1338,2441/0/default.jpg',\n",
       " 'https://iiif.wellcomecollection.org/image/b32274555_0462.jp2/full/1338,1939/0/default.jpg',\n",
       " 'https://iiif.wellcomecollection.org/image/b32274592_0098.jp2/full/1338,1902/0/default.jpg',\n",
       " 'https://iiif.wellcomecollection.org/image/b19603046_0114.jp2/full/1338,1896/0/default.jpg',\n",
       " 'https://iiif.wellcomecollection.org/image/b19115556_ramc_1242_7_0055.JP2/full/1020,1024/0/default.jpg',\n",
       " 'https://iiif.wellcomecollection.org/image/b31685717_0017.jp2/full/1338,1739/0/default.jpg',\n",
       " 'https://iiif.wellcomecollection.org/image/b28705889_0124.jp2/full/1338,1844/0/default.jpg',\n",
       " 'https://iiif.wellcomecollection.org/image/b11058286_0707.jp2/full/3788,5396/0/default.jpg',\n",
       " 'https://iiif.wellcomecollection.org/image/b28704733_0435.jp2/full/1338,2418/0/default.jpg',\n",
       " 'https://iiif.wellcomecollection.org/image/b19311904_0141.jp2/full/1338,1812/0/default.jpg',\n",
       " 'https://iiif.wellcomecollection.org/image/b18318162_0320.jp2/full/1338,1827/0/default.jpg',\n",
       " 'https://iiif.wellcomecollection.org/image/b19177136_0304.jp2/full/1338,1598/0/default.jpg',\n",
       " 'https://iiif.wellcomecollection.org/image/b11148366_hin-wel-all-00003449_0293.jp2/full/1021,1024/0/default.jpg',\n",
       " 'https://iiif.wellcomecollection.org/image/b32274658_0095.jp2/full/1338,1749/0/default.jpg',\n",
       " 'https://iiif.wellcomecollection.org/image/b14565377_0098.jp2/full/1013,1024/0/default.jpg',\n",
       " 'https://iiif.wellcomecollection.org/image/b32274750_0006.jp2/full/1338,2214/0/default.jpg',\n",
       " 'https://iiif.wellcomecollection.org/image/b32274592_0001.jp2/full/1338,1851/0/default.jpg',\n",
       " 'https://iiif.wellcomecollection.org/image/b20626071_galton_02_10_09_06_0006.JP2/full/1024,981/0/default.jpg',\n",
       " 'https://iiif.wellcomecollection.org/image/b3168581x_0025.jp2/full/1338,1715/0/default.jpg',\n",
       " 'https://iiif.wellcomecollection.org/image/b1220190x_hin-wel-all-00000040_0129.jp2/full/1338,1835/0/default.jpg',\n",
       " 'https://iiif.wellcomecollection.org/image/b11058286_0743.jp2/full/3776,5396/0/default.jpg',\n",
       " 'https://iiif.wellcomecollection.org/image/b18418272_0093.jp2/full/1338,1552/0/default.jpg',\n",
       " 'https://iiif.wellcomecollection.org/image/b32274774_0065.jp2/full/1338,1828/0/default.jpg',\n",
       " 'https://iiif.wellcomecollection.org/image/b18758897_0042.jp2/full/1338,1853/0/default.jpg',\n",
       " 'https://iiif.wellcomecollection.org/image/b31854345_0040.jp2/full/1024,1015/0/default.jpg',\n",
       " 'https://iiif.wellcomecollection.org/image/b11058286_0224.jp2/full/3756,5384/0/default.jpg',\n",
       " 'https://iiif.wellcomecollection.org/image/b19202763_0253.jp2/full/1338,1824/0/default.jpg',\n",
       " 'https://iiif.wellcomecollection.org/image/b32274750_0244.jp2/full/1338,1872/0/default.jpg',\n",
       " 'https://iiif.wellcomecollection.org/image/b18417383_0227.jp2/full/1338,1702/0/default.jpg',\n",
       " 'https://iiif.wellcomecollection.org/image/b20618372_galton_03_03_22_17_0385.JP2/full/1024,1009/0/default.jpg',\n",
       " 'https://iiif.wellcomecollection.org/image/b20623859_galton_2_8_1_9_2_0157.JP2/full/994,1024/0/default.jpg',\n",
       " 'https://iiif.wellcomecollection.org/image/b14565377_0048.jp2/full/1022,1024/0/default.jpg',\n",
       " 'https://iiif.wellcomecollection.org/image/b19108801_0128.jp2/full/1338,1582/0/default.jpg',\n",
       " 'https://iiif.wellcomecollection.org/image/b22007611_0064.jp2/full/1338,2141/0/default.jpg',\n",
       " 'https://iiif.wellcomecollection.org/image/b18576795_0687.jp2/full/1338,2028/0/default.jpg',\n",
       " 'https://iiif.wellcomecollection.org/image/b28976794_0187.jp2/full/1338,1640/0/default.jpg',\n",
       " 'https://iiif.wellcomecollection.org/image/b28704903_0734.jp2/full/986,1024/0/default.jpg',\n",
       " 'https://iiif.wellcomecollection.org/image/b19287355_0135.jp2/full/1338,1621/0/default.jpg',\n",
       " 'https://iiif.wellcomecollection.org/image/b32274804_0041.jp2/full/1338,2090/0/default.jpg',\n",
       " 'https://iiif.wellcomecollection.org/image/b28976794_0121.jp2/full/1338,1640/0/default.jpg',\n",
       " 'https://iiif.wellcomecollection.org/image/b24938580_RET_3_3_2_15_0911.jp2/full/1024,986/0/default.jpg',\n",
       " 'https://iiif.wellcomecollection.org/image/b19175346_0026.jp2/full/1338,1531/0/default.jpg',\n",
       " 'https://iiif.wellcomecollection.org/image/b32274610_0019.jp2/full/1338,1786/0/default.jpg',\n",
       " 'https://iiif.wellcomecollection.org/image/b18501758_RAMC_1991_0003.jp2/full/1024,1008/0/default.jpg',\n",
       " 'https://iiif.wellcomecollection.org/image/b30540471_0259.jp2/full/1338,2054/0/default.jpg',\n",
       " 'https://iiif.wellcomecollection.org/image/b33382827_0001.jp2/full/1338,1714/0/default.jpg',\n",
       " 'https://iiif.wellcomecollection.org/image/b28976794_0297.jp2/full/1338,1640/0/default.jpg',\n",
       " 'https://iiif.wellcomecollection.org/image/b28705737_0029.jp2/full/1338,2104/0/default.jpg',\n",
       " 'https://iiif.wellcomecollection.org/image/b28705804_0198.jp2/full/1338,2102/0/default.jpg',\n",
       " 'https://iiif.wellcomecollection.org/image/b28976794_0348.jp2/full/1338,1704/0/default.jpg',\n",
       " 'https://iiif.wellcomecollection.org/image/b31854497_0036.jp2/full/1004,1024/0/default.jpg',\n",
       " 'https://iiif.wellcomecollection.org/image/b32274750_0005.jp2/full/1338,2091/0/default.jpg',\n",
       " 'https://iiif.wellcomecollection.org/image/b18729794_0039.jp2/full/1338,1775/0/default.jpg',\n",
       " 'https://iiif.wellcomecollection.org/image/b33508392_0001.jp2/full/1338,2089/0/default.jpg',\n",
       " 'https://iiif.wellcomecollection.org/image/b28705737_0354.jp2/full/1338,2011/0/default.jpg',\n",
       " 'https://iiif.wellcomecollection.org/image/b19676736_0143.jp2/full/1338,1801/0/default.jpg',\n",
       " 'https://iiif.wellcomecollection.org/image/b28704733_0568.jp2/full/1338,2294/0/default.jpg',\n",
       " 'https://iiif.wellcomecollection.org/image/b24937757_RET_3_3_2_5_0170.jp2/full/1024,1002/0/default.jpg',\n",
       " 'https://iiif.wellcomecollection.org/image/b32274774_0168.jp2/full/1338,1820/0/default.jpg',\n",
       " 'https://iiif.wellcomecollection.org/image/b32274750_0310.jp2/full/1338,2181/0/default.jpg',\n",
       " 'https://iiif.wellcomecollection.org/image/b18123533_0430.jp2/full/1338,1643/0/default.jpg',\n",
       " 'https://iiif.wellcomecollection.org/image/b32274592_0090.jp2/full/1338,1902/0/default.jpg',\n",
       " 'https://iiif.wellcomecollection.org/image/b14827712_0047.jp2/full/1338,1771/0/default.jpg',\n",
       " 'https://iiif.wellcomecollection.org/image/b33237785_0001.jp2/full/1338,2423/0/default.jpg',\n",
       " 'https://iiif.wellcomecollection.org/image/b20614548_galton_02_08_01_13_05_0018.JP2/full/980,1024/0/default.jpg',\n",
       " 'https://iiif.wellcomecollection.org/image/b11058286_0321.jp2/full/3860,5408/0/default.jpg',\n",
       " 'https://iiif.wellcomecollection.org/image/b19575397_0069.jp2/full/1338,894/0/default.jpg',\n",
       " 'https://iiif.wellcomecollection.org/image/b14755117_0066.jp2/full/1338,1351/0/default.jpg',\n",
       " 'https://iiif.wellcomecollection.org/image/b33517484_0001.jp2/full/1338,1978/0/default.jpg',\n",
       " 'https://iiif.wellcomecollection.org/image/b28704940_0451.jp2/full/1338,1525/0/default.jpg',\n",
       " 'https://iiif.wellcomecollection.org/image/b28704940_0674.jp2/full/1338,1505/0/default.jpg',\n",
       " 'https://iiif.wellcomecollection.org/image/b28705737_0122.jp2/full/1338,2082/0/default.jpg',\n",
       " 'https://iiif.wellcomecollection.org/image/b30540471_0278.jp2/full/1338,1968/0/default.jpg',\n",
       " 'https://iiif.wellcomecollection.org/image/b33230468_0001.jp2/full/1338,965/0/default.jpg',\n",
       " 'https://iiif.wellcomecollection.org/image/b3323713x_0001.jp2/full/1338,1482/0/default.jpg',\n",
       " 'https://iiif.wellcomecollection.org/image/b32274555_0467.jp2/full/1338,1939/0/default.jpg',\n",
       " 'https://iiif.wellcomecollection.org/image/b19177136_0259.jp2/full/1338,1523/0/default.jpg',\n",
       " 'https://iiif.wellcomecollection.org/image/b28704733_0344.jp2/full/1338,2288/0/default.jpg',\n",
       " 'https://iiif.wellcomecollection.org/image/b28976794_0410.jp2/full/1338,1704/0/default.jpg',\n",
       " 'https://iiif.wellcomecollection.org/image/b18576795_0953.jp2/full/1338,2021/0/default.jpg',\n",
       " 'https://iiif.wellcomecollection.org/image/b32274683_0056.jp2/full/1338,1530/0/default.jpg',\n",
       " 'https://iiif.wellcomecollection.org/image/b32274683_0093.jp2/full/1338,1642/0/default.jpg',\n",
       " 'https://iiif.wellcomecollection.org/image/b19909883_haldane_3_5_1_3_4_0001.JP2/full/1338,1629/0/default.jpg',\n",
       " 'https://iiif.wellcomecollection.org/image/b32274750_0273.jp2/full/1338,2056/0/default.jpg',\n",
       " 'https://iiif.wellcomecollection.org/image/b33375902_0001.jp2/full/1338,1840/0/default.jpg',\n",
       " 'https://iiif.wellcomecollection.org/image/b14828042_0024.jp2/full/1338,1995/0/default.jpg',\n",
       " 'https://iiif.wellcomecollection.org/image/b3227466x_0014.jp2/full/1338,1777/0/default.jpg',\n",
       " 'https://iiif.wellcomecollection.org/image/b28704630_0017.jp2/full/1338,2032/0/default.jpg',\n",
       " 'https://iiif.wellcomecollection.org/image/b18123533_0189.jp2/full/1338,1753/0/default.jpg',\n",
       " 'https://iiif.wellcomecollection.org/image/b2022476x_penrose_2_24_6_2_1_0089.JP2/full/1338,1707/0/default.jpg',\n",
       " 'https://iiif.wellcomecollection.org/image/b28665028_0002.jp2/full/1024,1021/0/default.jpg',\n",
       " 'https://iiif.wellcomecollection.org/image/b28705853_0029.jp2/full/1338,2270/0/default.jpg',\n",
       " 'https://iiif.wellcomecollection.org/image/b33237384_0001.jp2/full/1338,1391/0/default.jpg',\n",
       " 'https://iiif.wellcomecollection.org/image/b28704733_0714.jp2/full/1338,2314/0/default.jpg',\n",
       " 'https://iiif.wellcomecollection.org/image/b20297105_WMS_Arabic_440_0001.jp2/full/1000,1024/0/default.jpg',\n",
       " 'https://iiif.wellcomecollection.org/image/b28705786_0496.jp2/full/1338,1657/0/default.jpg',\n",
       " 'https://iiif.wellcomecollection.org/image/b28704630_0210.jp2/full/1338,1993/0/default.jpg',\n",
       " 'https://iiif.wellcomecollection.org/image/b32274750_0278.jp2/full/1338,1777/0/default.jpg',\n",
       " 'https://iiif.wellcomecollection.org/image/b19505061_0563.jp2/full/1338,1795/0/default.jpg',\n",
       " 'https://iiif.wellcomecollection.org/image/b3227466x_0048.jp2/full/1338,1693/0/default.jpg',\n",
       " 'https://iiif.wellcomecollection.org/image/b24940069_RET_3_3_2_4_1801.jp2/full/1024,992/0/default.jpg',\n",
       " 'https://iiif.wellcomecollection.org/image/b18693441_0528.jp2/full/1338,1991/0/default.jpg',\n",
       " 'https://iiif.wellcomecollection.org/image/b19575397_0078.jp2/full/1338,2002/0/default.jpg',\n",
       " 'https://iiif.wellcomecollection.org/image/b31854461_0053.jp2/full/1016,1024/0/default.jpg',\n",
       " 'https://iiif.wellcomecollection.org/image/b3323601x_0001.jp2/full/1338,1500/0/default.jpg',\n",
       " 'https://iiif.wellcomecollection.org/image/b19314164_0187.jp2/full/1338,1534/0/default.jpg',\n",
       " 'https://iiif.wellcomecollection.org/image/b18896042_MS_2799_0306.JP2/full/1005,1024/0/default.jpg',\n",
       " 'https://iiif.wellcomecollection.org/image/b32274750_0009.jp2/full/1338,2250/0/default.jpg',\n",
       " 'https://iiif.wellcomecollection.org/image/b2022476x_penrose_2_24_6_2_3_0023.JP2/full/1338,2112/0/default.jpg',\n",
       " 'https://iiif.wellcomecollection.org/image/b32274816_0016.jp2/full/1338,2214/0/default.jpg',\n",
       " 'https://iiif.wellcomecollection.org/image/b33537525_0292.jp2/full/1338,2058/0/default.jpg',\n",
       " 'https://iiif.wellcomecollection.org/image/b30540471_0202.jp2/full/1338,1968/0/default.jpg',\n",
       " 'https://iiif.wellcomecollection.org/image/b18758897_0255.jp2/full/1338,1696/0/default.jpg',\n",
       " 'https://iiif.wellcomecollection.org/image/b32274750_0208.jp2/full/1338,2079/0/default.jpg',\n",
       " 'https://iiif.wellcomecollection.org/image/b19443262_0013.jp2/full/1338,2101/0/default.jpg',\n",
       " 'https://iiif.wellcomecollection.org/image/b28705038_0274.jp2/full/1338,1986/0/default.jpg',\n",
       " 'https://iiif.wellcomecollection.org/image/b18309033_ms_6588_0092.JP2/full/984,1024/0/default.jpg',\n",
       " 'https://iiif.wellcomecollection.org/image/b18504875_ramc_1242_3_0038.JP2/full/1017,1024/0/default.jpg',\n",
       " 'https://iiif.wellcomecollection.org/image/b30448335_0038.jp2/full/1338,1701/0/default.jpg',\n",
       " 'https://iiif.wellcomecollection.org/image/b18318162_0200.jp2/full/1338,1878/0/default.jpg',\n",
       " 'https://iiif.wellcomecollection.org/image/b32274609_0074.jp2/full/1338,771/0/default.jpg',\n",
       " 'https://iiif.wellcomecollection.org/image/b33376281_0001.jp2/full/1338,1860/0/default.jpg',\n",
       " 'https://iiif.wellcomecollection.org/image/b32274555_0299.jp2/full/1338,1954/0/default.jpg',\n",
       " 'https://iiif.wellcomecollection.org/image/b14836828_0169.jp2/full/1024,1009/0/default.jpg',\n",
       " 'https://iiif.wellcomecollection.org/image/b18597452_0046.jp2/full/1338,1636/0/default.jpg',\n",
       " 'https://iiif.wellcomecollection.org/image/b28705889_0036.jp2/full/1338,1977/0/default.jpg',\n",
       " 'https://iiif.wellcomecollection.org/image/b19012676_0183.jp2/full/1338,1878/0/default.jpg',\n",
       " 'https://iiif.wellcomecollection.org/image/b32274634_0027.jp2/full/1338,1907/0/default.jpg',\n",
       " 'https://iiif.wellcomecollection.org/image/b10916180_hin-wel-all-00012288_0154.jp2/full/1024,1007/0/default.jpg',\n",
       " 'https://iiif.wellcomecollection.org/image/b28704940_0813.jp2/full/1338,1570/0/default.jpg',\n",
       " 'https://iiif.wellcomecollection.org/image/b33514744_0001.jp2/full/1338,973/0/default.jpg',\n",
       " 'https://iiif.wellcomecollection.org/image/b10109432_hin-wel-all-00000036_0217.jp2/full/1338,1836/0/default.jpg',\n",
       " 'https://iiif.wellcomecollection.org/image/b31854461_0037.jp2/full/1016,1024/0/default.jpg',\n",
       " 'https://iiif.wellcomecollection.org/image/b12177453_hin-wel-all-00012464_0163.jp2/full/1010,1024/0/default.jpg',\n",
       " 'https://iiif.wellcomecollection.org/image/b22007611_0305.jp2/full/1338,2108/0/default.jpg',\n",
       " 'https://iiif.wellcomecollection.org/image/b19443262_0002.jp2/full/1338,1682/0/default.jpg',\n",
       " 'https://iiif.wellcomecollection.org/image/b18576795_0192.jp2/full/1338,2052/0/default.jpg',\n",
       " 'https://iiif.wellcomecollection.org/image/b33231461_0001.jp2/full/1338,1779/0/default.jpg',\n",
       " 'https://iiif.wellcomecollection.org/image/b21899770_ret_1_1_5_16_0086.JP2/full/1024,992/0/default.jpg',\n",
       " 'https://iiif.wellcomecollection.org/image/b32274750_0040.jp2/full/1338,2167/0/default.jpg',\n",
       " 'https://iiif.wellcomecollection.org/image/b32274750_0333.jp2/full/1338,2174/0/default.jpg',\n",
       " 'https://iiif.wellcomecollection.org/image/b18693441_0204.jp2/full/1338,2044/0/default.jpg',\n",
       " 'https://iiif.wellcomecollection.org/image/b32274555_0027.jp2/full/1338,1971/0/default.jpg',\n",
       " 'https://iiif.wellcomecollection.org/image/b32274750_0157.jp2/full/1338,1958/0/default.jpg',\n",
       " 'https://iiif.wellcomecollection.org/image/b14846275_0483.jp2/full/1338,2002/0/default.jpg',\n",
       " 'https://iiif.wellcomecollection.org/image/b28976794_0529.jp2/full/1338,2007/0/default.jpg',\n",
       " 'https://iiif.wellcomecollection.org/image/b18693441_0131.jp2/full/1338,1981/0/default.jpg',\n",
       " 'https://iiif.wellcomecollection.org/image/b28684266_0003.jp2/full/1024,1014/0/default.jpg',\n",
       " 'https://iiif.wellcomecollection.org/image/b28705038_0202.jp2/full/1338,1986/0/default.jpg',\n",
       " 'https://iiif.wellcomecollection.org/image/b18576795_0322.jp2/full/1338,2096/0/default.jpg',\n",
       " 'https://iiif.wellcomecollection.org/image/b31854448_0038.jp2/full/997,1024/0/default.jpg',\n",
       " 'https://iiif.wellcomecollection.org/image/b32274774_0014.jp2/full/1338,1817/0/default.jpg',\n",
       " 'https://iiif.wellcomecollection.org/image/b32274750_0184.jp2/full/1338,2166/0/default.jpg',\n",
       " 'https://iiif.wellcomecollection.org/image/b28704940_0335.jp2/full/1338,1525/0/default.jpg',\n",
       " 'https://iiif.wellcomecollection.org/image/b32274683_0031.jp2/full/1338,1684/0/default.jpg',\n",
       " 'https://iiif.wellcomecollection.org/image/b32231921_0003.jp2/full/1006,1024/0/default.jpg',\n",
       " 'https://iiif.wellcomecollection.org/image/b14846275_0037.jp2/full/1338,1927/0/default.jpg',\n",
       " 'https://iiif.wellcomecollection.org/image/b3168581x_0016.jp2/full/1338,1715/0/default.jpg',\n",
       " 'https://iiif.wellcomecollection.org/image/b14846275_0652.jp2/full/1338,1984/0/default.jpg',\n",
       " 'https://iiif.wellcomecollection.org/image/b18576795_0365.jp2/full/1338,1901/0/default.jpg',\n",
       " 'https://iiif.wellcomecollection.org/image/b28705646_0147.jp2/full/1338,2117/0/default.jpg',\n",
       " 'https://iiif.wellcomecollection.org/image/b32274580_0004.jp2/full/1338,1819/0/default.jpg',\n",
       " 'https://iiif.wellcomecollection.org/image/b33068689_0005.jp2/full/1338,1690/0/default.jpg',\n",
       " 'https://iiif.wellcomecollection.org/image/b32274762_0013.jp2/full/1338,1814/0/default.jpg',\n",
       " 'https://iiif.wellcomecollection.org/image/b32274750_0364.jp2/full/1338,2213/0/default.jpg',\n",
       " 'https://iiif.wellcomecollection.org/image/b19177136_0295.jp2/full/1338,1535/0/default.jpg',\n",
       " 'https://iiif.wellcomecollection.org/image/b32274579_0009.jp2/full/1338,1784/0/default.jpg',\n",
       " 'https://iiif.wellcomecollection.org/image/b11058286_0680.jp2/full/3960,5420/0/default.jpg',\n",
       " 'https://iiif.wellcomecollection.org/image/b2022476x_penrose_2_24_6_2_1_0046.JP2/full/1338,1700/0/default.jpg',\n",
       " 'https://iiif.wellcomecollection.org/image/b28705774_0063.jp2/full/1338,2067/0/default.jpg',\n",
       " 'https://iiif.wellcomecollection.org/image/b28704733_0039.jp2/full/1338,2455/0/default.jpg',\n",
       " 'https://iiif.wellcomecollection.org/image/b33585489_0241.jp2/full/1338,2037/0/default.jpg',\n",
       " 'https://iiif.wellcomecollection.org/image/b18318162_0027.jp2/full/1338,1940/0/default.jpg',\n",
       " 'https://iiif.wellcomecollection.org/image/b33537525_0629.jp2/full/1338,1992/0/default.jpg',\n",
       " 'https://iiif.wellcomecollection.org/image/b10916180_hin-wel-all-00012288_0152.jp2/full/1024,1010/0/default.jpg',\n",
       " 'https://iiif.wellcomecollection.org/image/b28705804_0197.jp2/full/1338,2101/0/default.jpg',\n",
       " 'https://iiif.wellcomecollection.org/image/b32274750_0348.jp2/full/1338,2205/0/default.jpg',\n",
       " 'https://iiif.wellcomecollection.org/image/b1220190x_hin-wel-all-00000040_0107.jp2/full/1338,1840/0/default.jpg',\n",
       " 'https://iiif.wellcomecollection.org/image/b18576795_0819.jp2/full/1338,1862/0/default.jpg',\n",
       " 'https://iiif.wellcomecollection.org/image/b33510854_0001.jp2/full/1338,1166/0/default.jpg',\n",
       " 'https://iiif.wellcomecollection.org/image/b18729794_0235.jp2/full/1338,1802/0/default.jpg',\n",
       " 'https://iiif.wellcomecollection.org/image/b28705786_0512.jp2/full/1338,1663/0/default.jpg',\n",
       " 'https://iiif.wellcomecollection.org/image/b19692249_0005.jp2/full/1338,1785/0/default.jpg',\n",
       " 'https://iiif.wellcomecollection.org/image/b29277504_RET_6_20_1_10_15_0077.jp2/full/981,1024/0/default.jpg',\n",
       " 'https://iiif.wellcomecollection.org/image/b32274683_0095.jp2/full/1338,1654/0/default.jpg',\n",
       " 'https://iiif.wellcomecollection.org/image/b32274609_0038.jp2/full/1338,1830/0/default.jpg',\n",
       " 'https://iiif.wellcomecollection.org/image/b24963276_RET_3_3_2_9_0179.jp2/full/1024,1007/0/default.jpg',\n",
       " 'https://iiif.wellcomecollection.org/image/b30634672_0047.jp2/full/1338,1646/0/default.jpg',\n",
       " 'https://iiif.wellcomecollection.org/image/b33585489_0314.jp2/full/1338,2030/0/default.jpg',\n",
       " 'https://iiif.wellcomecollection.org/image/b22488169_RET_1_5_1_56_0495.jp2/full/1024,996/0/default.jpg',\n",
       " 'https://iiif.wellcomecollection.org/image/b2493625x_RET_3_3_2_16_1717.jp2/full/1001,1024/0/default.jpg',\n",
       " 'https://iiif.wellcomecollection.org/image/b19606047_MS_7747_0206.JP2/full/997,1024/0/default.jpg',\n",
       " 'https://iiif.wellcomecollection.org/image/b3337532x_0001.jp2/full/1338,1600/0/default.jpg',\n",
       " 'https://iiif.wellcomecollection.org/image/b33537525_0369.jp2/full/1338,2028/0/default.jpg',\n",
       " 'https://iiif.wellcomecollection.org/image/b28705786_0055.jp2/full/1338,1670/0/default.jpg',\n",
       " 'https://iiif.wellcomecollection.org/image/b19576523_0164.jp2/full/1338,1596/0/default.jpg',\n",
       " 'https://iiif.wellcomecollection.org/image/b33335242_0001.jp2/full/1338,1172/0/default.jpg',\n",
       " 'https://iiif.wellcomecollection.org/image/b18576795_0731.jp2/full/1338,1965/0/default.jpg',\n",
       " 'https://iiif.wellcomecollection.org/image/b19575397_0083.jp2/full/1338,2008/0/default.jpg',\n",
       " 'https://iiif.wellcomecollection.org/image/b28704940_0790.jp2/full/1338,1460/0/default.jpg',\n",
       " 'https://iiif.wellcomecollection.org/image/b33380107_0001.jp2/full/1338,2229/0/default.jpg',\n",
       " 'https://iiif.wellcomecollection.org/image/b11058286_0682.jp2/full/3960,5432/0/default.jpg',\n",
       " 'https://iiif.wellcomecollection.org/image/b32274634_0015.jp2/full/1338,1948/0/default.jpg',\n",
       " 'https://iiif.wellcomecollection.org/image/b28705889_0123.jp2/full/1338,1914/0/default.jpg',\n",
       " 'https://iiif.wellcomecollection.org/image/b18418272_0004.jp2/full/1338,1548/0/default.jpg',\n",
       " 'https://iiif.wellcomecollection.org/image/b32274592_0097.jp2/full/1338,1944/0/default.jpg',\n",
       " 'https://iiif.wellcomecollection.org/image/b1220190x_hin-wel-all-00000040_0064.jp2/full/1338,1792/0/default.jpg',\n",
       " 'https://iiif.wellcomecollection.org/image/b28705853_0016.jp2/full/1338,2249/0/default.jpg',\n",
       " 'https://iiif.wellcomecollection.org/image/b28705786_0117.jp2/full/1338,1612/0/default.jpg',\n",
       " 'https://iiif.wellcomecollection.org/image/b20387878_0072.jp2/full/1338,1741/0/default.jpg',\n",
       " 'https://iiif.wellcomecollection.org/image/b19576523_0243.jp2/full/1338,1537/0/default.jpg',\n",
       " 'https://iiif.wellcomecollection.org/image/b28705269_0012.jp2/full/1338,1815/0/default.jpg',\n",
       " 'https://iiif.wellcomecollection.org/image/b18896042_MS_2799_0254.JP2/full/998,1024/0/default.jpg',\n",
       " 'https://iiif.wellcomecollection.org/image/b19443262_0031.jp2/full/1338,2103/0/default.jpg',\n",
       " 'https://iiif.wellcomecollection.org/image/b31854382_0042.jp2/full/986,1024/0/default.jpg',\n",
       " 'https://iiif.wellcomecollection.org/image/b32274816_0014.jp2/full/1338,2258/0/default.jpg',\n",
       " 'https://iiif.wellcomecollection.org/image/b32274750_0179.jp2/full/1338,1997/0/default.jpg',\n",
       " 'https://iiif.wellcomecollection.org/image/b20166187_ramc_738_2_0002.JP2/full/1024,985/0/default.jpg',\n",
       " 'https://iiif.wellcomecollection.org/image/b33371349_0001.jp2/full/1338,1705/0/default.jpg',\n",
       " 'https://iiif.wellcomecollection.org/image/b28704733_0280.jp2/full/1338,2317/0/default.jpg',\n",
       " 'https://iiif.wellcomecollection.org/image/b28976794_0482.jp2/full/1338,1704/0/default.jpg',\n",
       " 'https://iiif.wellcomecollection.org/image/b28705774_0030.jp2/full/1338,2107/0/default.jpg',\n",
       " 'https://iiif.wellcomecollection.org/image/b32274634_0064.jp2/full/1338,1810/0/default.jpg',\n",
       " 'https://iiif.wellcomecollection.org/image/b18729265_0047.jp2/full/1338,1634/0/default.jpg',\n",
       " 'https://iiif.wellcomecollection.org/image/b33384186_0001.jp2/full/1338,2332/0/default.jpg',\n",
       " 'https://iiif.wellcomecollection.org/image/b28704940_0561.jp2/full/1338,1517/0/default.jpg',\n",
       " 'https://iiif.wellcomecollection.org/image/b19505061_0096.jp2/full/1338,1833/0/default.jpg',\n",
       " 'https://iiif.wellcomecollection.org/image/b28705038_0210.jp2/full/1338,1986/0/default.jpg',\n",
       " 'https://iiif.wellcomecollection.org/image/b30448335_0055.jp2/full/1338,1728/0/default.jpg',\n",
       " 'https://iiif.wellcomecollection.org/image/b33372822_0001.jp2/full/1338,1752/0/default.jpg',\n",
       " 'https://iiif.wellcomecollection.org/image/b28705889_0030.jp2/full/1338,1873/0/default.jpg',\n",
       " 'https://iiif.wellcomecollection.org/image/b19237005_0472.jp2/full/1338,1470/0/default.jpg',\n",
       " 'https://iiif.wellcomecollection.org/image/b33068690_0101.jp2/full/1338,1746/0/default.jpg',\n",
       " 'https://iiif.wellcomecollection.org/image/b14755117_0245.jp2/full/1338,1314/0/default.jpg',\n",
       " 'https://iiif.wellcomecollection.org/image/b3222641x_0008.jp2/full/999,1024/0/default.jpg',\n",
       " 'https://iiif.wellcomecollection.org/image/b32274555_0133.jp2/full/1338,1904/0/default.jpg',\n",
       " 'https://iiif.wellcomecollection.org/image/b19237005_0520.jp2/full/1338,1592/0/default.jpg',\n",
       " 'https://iiif.wellcomecollection.org/image/b14846275_0014.jp2/full/1338,2118/0/default.jpg',\n",
       " 'https://iiif.wellcomecollection.org/image/b18576795_0361.jp2/full/1338,1932/0/default.jpg',\n",
       " 'https://iiif.wellcomecollection.org/image/b28976794_0042.jp2/full/1338,1685/0/default.jpg',\n",
       " 'https://iiif.wellcomecollection.org/image/b33337573_0001.jp2/full/1338,1793/0/default.jpg',\n",
       " 'https://iiif.wellcomecollection.org/image/b32274634_0088.jp2/full/1338,1842/0/default.jpg',\n",
       " 'https://iiif.wellcomecollection.org/image/b19505061_0419.jp2/full/1338,1725/0/default.jpg',\n",
       " 'https://iiif.wellcomecollection.org/image/b3168581x_0003.jp2/full/1338,1687/0/default.jpg',\n",
       " 'https://iiif.wellcomecollection.org/image/b12821457_hin-wel-all-00012567_0121.jp2/full/1004,1024/0/default.jpg',\n",
       " 'https://iiif.wellcomecollection.org/image/b22007611_0060.jp2/full/1338,2086/0/default.jpg',\n",
       " 'https://iiif.wellcomecollection.org/image/b33370540_0001.jp2/full/1338,1827/0/default.jpg',\n",
       " 'https://iiif.wellcomecollection.org/image/b32274580_0010.jp2/full/1338,1822/0/default.jpg',\n",
       " 'https://iiif.wellcomecollection.org/image/b3185445x_0018.jp2/full/1008,1024/0/default.jpg',\n",
       " 'https://iiif.wellcomecollection.org/image/b28704733_0696.jp2/full/1338,2304/0/default.jpg',\n",
       " 'https://iiif.wellcomecollection.org/image/b18423760_ramc_1242_2_0025.JP2/full/1024,1020/0/default.jpg',\n",
       " 'https://iiif.wellcomecollection.org/image/b19371810_0015.jp2/full/1338,1634/0/default.jpg',\n",
       " 'https://iiif.wellcomecollection.org/image/b32274634_0061.jp2/full/1338,1831/0/default.jpg',\n",
       " 'https://iiif.wellcomecollection.org/image/b22488066_RET_1_5_1_45_1148.jp2/full/990,1024/0/default.jpg',\n",
       " 'https://iiif.wellcomecollection.org/image/b19371810_0066.jp2/full/1338,1748/0/default.jpg',\n",
       " 'https://iiif.wellcomecollection.org/image/b18318162_0359.jp2/full/1338,1924/0/default.jpg',\n",
       " 'https://iiif.wellcomecollection.org/image/b28976794_0362.jp2/full/1338,1704/0/default.jpg',\n",
       " 'https://iiif.wellcomecollection.org/image/b32274555_0223.jp2/full/1338,2004/0/default.jpg',\n",
       " 'https://iiif.wellcomecollection.org/image/b33585489_0137.jp2/full/1338,2007/0/default.jpg',\n",
       " 'https://iiif.wellcomecollection.org/image/b32163575_0052.jp2/full/1003,1024/0/default.jpg',\n",
       " 'https://iiif.wellcomecollection.org/image/b28705786_0803.jp2/full/1338,1656/0/default.jpg',\n",
       " 'https://iiif.wellcomecollection.org/image/b28976794_0525.jp2/full/1338,2007/0/default.jpg',\n",
       " 'https://iiif.wellcomecollection.org/image/b11148366_hin-wel-all-00003449_0597.jp2/full/990,1024/0/default.jpg',\n",
       " 'https://iiif.wellcomecollection.org/image/b14846275_0184.jp2/full/1338,2035/0/default.jpg',\n",
       " 'https://iiif.wellcomecollection.org/image/b28705786_0038.jp2/full/1338,1711/0/default.jpg',\n",
       " 'https://iiif.wellcomecollection.org/image/b28704940_0307.jp2/full/1338,1525/0/default.jpg',\n",
       " 'https://iiif.wellcomecollection.org/image/b18123533_0543.jp2/full/1338,1871/0/default.jpg',\n",
       " 'https://iiif.wellcomecollection.org/image/b18932034_0188.jp2/full/1338,1861/0/default.jpg',\n",
       " 'https://iiif.wellcomecollection.org/image/b18417383_0183.jp2/full/1338,1655/0/default.jpg',\n",
       " 'https://iiif.wellcomecollection.org/image/b18504875_ramc_1242_3_0042.JP2/full/1024,1009/0/default.jpg',\n",
       " 'https://iiif.wellcomecollection.org/image/b18693441_0309.jp2/full/1338,2174/0/default.jpg',\n",
       " 'https://iiif.wellcomecollection.org/image/b28705737_0260.jp2/full/1338,1999/0/default.jpg',\n",
       " 'https://iiif.wellcomecollection.org/image/b19175346_0019.jp2/full/1338,1527/0/default.jpg',\n",
       " 'https://iiif.wellcomecollection.org/image/b32274750_0224.jp2/full/1338,2061/0/default.jpg',\n",
       " 'https://iiif.wellcomecollection.org/image/b33188087_0001.jp2/full/977,1024/0/default.jpg',\n",
       " 'https://iiif.wellcomecollection.org/image/b32274634_0100.jp2/full/1338,1887/0/default.jpg',\n",
       " 'https://iiif.wellcomecollection.org/image/b24936303_RET_3_3_1_12_0024.jp2/full/983,1024/0/default.jpg',\n",
       " 'https://iiif.wellcomecollection.org/image/b28704630_0010.jp2/full/1338,2081/0/default.jpg',\n",
       " 'https://iiif.wellcomecollection.org/image/b1220190x_hin-wel-all-00000040_0047.jp2/full/1338,2017/0/default.jpg',\n",
       " 'https://iiif.wellcomecollection.org/image/b2265415x_DGH1_5_1_1_17_0043.JP2/full/1008,1024/0/default.jpg',\n",
       " 'https://iiif.wellcomecollection.org/image/b33374004_0001.jp2/full/1338,2019/0/default.jpg',\n",
       " 'https://iiif.wellcomecollection.org/image/b18518588_WA_HMM_LI_Bks_65_0025.jp2/full/1024,979/0/default.jpg',\n",
       " 'https://iiif.wellcomecollection.org/image/b19175346_0199.jp2/full/1338,4676/0/default.jpg',\n",
       " 'https://iiif.wellcomecollection.org/image/b28705774_0075.jp2/full/1338,2067/0/default.jpg',\n",
       " 'https://iiif.wellcomecollection.org/image/b19576523_0178.jp2/full/1338,1605/0/default.jpg',\n",
       " 'https://iiif.wellcomecollection.org/image/b32274592_0146.jp2/full/1338,1844/0/default.jpg',\n",
       " 'https://iiif.wellcomecollection.org/image/b33231229_0001.jp2/full/1338,802/0/default.jpg',\n",
       " 'https://iiif.wellcomecollection.org/image/b18576795_0735.jp2/full/1338,1969/0/default.jpg',\n",
       " 'https://iiif.wellcomecollection.org/image/b19175346_0037.jp2/full/1338,1517/0/default.jpg',\n",
       " 'https://iiif.wellcomecollection.org/image/b18318162_0140.jp2/full/1338,1912/0/default.jpg',\n",
       " 'https://iiif.wellcomecollection.org/image/b14850047_wms_malay_2_b14850047_0017.JP2/full/1024,985/0/default.jpg',\n",
       " 'https://iiif.wellcomecollection.org/image/b31854424_0009.jp2/full/1019,1024/0/default.jpg',\n",
       " 'https://iiif.wellcomecollection.org/image/b32274695_0050.jp2/full/1338,1720/0/default.jpg',\n",
       " 'https://iiif.wellcomecollection.org/image/b19175346_0113.jp2/full/1338,1540/0/default.jpg',\n",
       " 'https://iiif.wellcomecollection.org/image/b18287517_ramc_1242_5_0036.JP2/full/1024,1021/0/default.jpg',\n",
       " 'https://iiif.wellcomecollection.org/image/b18576795_1019.jp2/full/1338,2022/0/default.jpg',\n",
       " 'https://iiif.wellcomecollection.org/image/b28705427_0220.jp2/full/1338,2151/0/default.jpg',\n",
       " 'https://iiif.wellcomecollection.org/image/b10109432_hin-wel-all-00000036_0161.jp2/full/1338,1814/0/default.jpg',\n",
       " 'https://iiif.wellcomecollection.org/image/b19692249_0003.jp2/full/1338,2002/0/default.jpg',\n",
       " 'https://iiif.wellcomecollection.org/image/b19505061_0135.jp2/full/1338,1708/0/default.jpg',\n",
       " 'https://iiif.wellcomecollection.org/image/b18318162_0189.jp2/full/1338,1895/0/default.jpg',\n",
       " 'https://iiif.wellcomecollection.org/image/b28705786_0456.jp2/full/1338,1601/0/default.jpg',\n",
       " 'https://iiif.wellcomecollection.org/image/b32274683_0114.jp2/full/1338,1516/0/default.jpg',\n",
       " 'https://iiif.wellcomecollection.org/image/b24949541_RET_3_3_2_8_0229.jp2/full/1024,1022/0/default.jpg',\n",
       " 'https://iiif.wellcomecollection.org/image/b19371810_0126.jp2/full/1338,1685/0/default.jpg',\n",
       " 'https://iiif.wellcomecollection.org/image/b19576523_0182.jp2/full/1338,1608/0/default.jpg',\n",
       " 'https://iiif.wellcomecollection.org/image/b28705646_0070.jp2/full/1338,2167/0/default.jpg',\n",
       " 'https://iiif.wellcomecollection.org/image/b3222641x_0005.jp2/full/1015,1024/0/default.jpg',\n",
       " 'https://iiif.wellcomecollection.org/image/b10109432_hin-wel-all-00000036_0230.jp2/full/1338,1711/0/default.jpg',\n",
       " 'https://iiif.wellcomecollection.org/image/b30496871_0001.JP2/full/1024,1015/0/default.jpg',\n",
       " 'https://iiif.wellcomecollection.org/image/b32274580_0044.jp2/full/1338,1765/0/default.jpg',\n",
       " 'https://iiif.wellcomecollection.org/image/b28704940_0261.jp2/full/1338,1541/0/default.jpg',\n",
       " 'https://iiif.wellcomecollection.org/image/b18693441_0406.jp2/full/1338,2079/0/default.jpg',\n",
       " 'https://iiif.wellcomecollection.org/image/b32274750_0234.jp2/full/1338,2023/0/default.jpg',\n",
       " 'https://iiif.wellcomecollection.org/image/b32274774_0013.jp2/full/1338,1762/0/default.jpg',\n",
       " 'https://iiif.wellcomecollection.org/image/b33537525_0475.jp2/full/1338,1973/0/default.jpg',\n",
       " 'https://iiif.wellcomecollection.org/image/b33376694_0001.jp2/full/1338,1759/0/default.jpg',\n",
       " 'https://iiif.wellcomecollection.org/image/b24940069_RET_3_3_2_4_1995.jp2/full/1024,989/0/default.jpg',\n",
       " 'https://iiif.wellcomecollection.org/image/b19191728_0153.jp2/full/1338,1689/0/default.jpg',\n",
       " 'https://iiif.wellcomecollection.org/image/b18758897_0125.jp2/full/1338,1859/0/default.jpg',\n",
       " 'https://iiif.wellcomecollection.org/image/b33238340_0001.jp2/full/1338,1748/0/default.jpg',\n",
       " 'https://iiif.wellcomecollection.org/image/b32274580_0023.jp2/full/1338,1845/0/default.jpg',\n",
       " 'https://iiif.wellcomecollection.org/image/b32231878_0027.jp2/full/996,1024/0/default.jpg',\n",
       " 'https://iiif.wellcomecollection.org/image/b18123533_0281.jp2/full/1338,1721/0/default.jpg',\n",
       " 'https://iiif.wellcomecollection.org/image/b19012676_0355.jp2/full/1338,1823/0/default.jpg',\n",
       " 'https://iiif.wellcomecollection.org/image/b28704733_0349.jp2/full/1338,2379/0/default.jpg',\n",
       " 'https://iiif.wellcomecollection.org/image/b18729794_0468.jp2/full/1338,1754/0/default.jpg',\n",
       " 'https://iiif.wellcomecollection.org/image/b24938257_RET_3_3_2_7_0922.jp2/full/1024,1022/0/default.jpg',\n",
       " 'https://iiif.wellcomecollection.org/image/b28704733_0351.jp2/full/1338,2379/0/default.jpg',\n",
       " 'https://iiif.wellcomecollection.org/image/b32274695_0006.jp2/full/1338,1741/0/default.jpg',\n",
       " 'https://iiif.wellcomecollection.org/image/b32274555_0303.jp2/full/1338,1953/0/default.jpg',\n",
       " 'https://iiif.wellcomecollection.org/image/b32274750_0193.jp2/full/1338,1922/0/default.jpg',\n",
       " 'https://iiif.wellcomecollection.org/image/b2022476x_penrose_2_24_6_2_3_0005.JP2/full/1338,2124/0/default.jpg',\n",
       " 'https://iiif.wellcomecollection.org/image/b2248792x_RET_1_5_1_28_0197.jp2/full/981,1024/0/default.jpg',\n",
       " 'https://iiif.wellcomecollection.org/image/b28704630_0143.jp2/full/1338,1907/0/default.jpg',\n",
       " 'https://iiif.wellcomecollection.org/image/b33174428_0001.jp2/full/991,1024/0/default.jpg',\n",
       " 'https://iiif.wellcomecollection.org/image/b22007611_0210.jp2/full/1338,2112/0/default.jpg',\n",
       " 'https://iiif.wellcomecollection.org/image/b19662397_0039.jp2/full/1338,1555/0/default.jpg',\n",
       " 'https://iiif.wellcomecollection.org/image/b22007611_0263.jp2/full/1338,2089/0/default.jpg',\n",
       " 'https://iiif.wellcomecollection.org/image/b18597452_0179.jp2/full/1338,1593/0/default.jpg',\n",
       " 'https://iiif.wellcomecollection.org/image/b18417383_0037.jp2/full/1338,1626/0/default.jpg',\n",
       " 'https://iiif.wellcomecollection.org/image/b18932034_0160.jp2/full/1338,1872/0/default.jpg',\n",
       " 'https://iiif.wellcomecollection.org/image/b11058286_0641.jp2/full/3800,5396/0/default.jpg',\n",
       " 'https://iiif.wellcomecollection.org/image/b32274695_0053.jp2/full/1338,1789/0/default.jpg',\n",
       " 'https://iiif.wellcomecollection.org/image/b28704940_0175.jp2/full/1338,1525/0/default.jpg',\n",
       " 'https://iiif.wellcomecollection.org/image/b14755117_0086.jp2/full/1338,1353/0/default.jpg',\n",
       " 'https://iiif.wellcomecollection.org/image/b32274683_0117.jp2/full/1338,1668/0/default.jpg',\n",
       " 'https://iiif.wellcomecollection.org/image/b28705579_0217.jp2/full/1338,1946/0/default.jpg',\n",
       " 'https://iiif.wellcomecollection.org/image/b32274658_0063.jp2/full/1338,1734/0/default.jpg',\n",
       " 'https://iiif.wellcomecollection.org/image/b28704940_0668.jp2/full/1338,1505/0/default.jpg',\n",
       " 'https://iiif.wellcomecollection.org/image/b18417383_0212.jp2/full/1338,1609/0/default.jpg',\n",
       " 'https://iiif.wellcomecollection.org/image/b32274750_0054.jp2/full/1338,2143/0/default.jpg',\n",
       " 'https://iiif.wellcomecollection.org/image/b19164828_MS_1819_0118.JP2/full/984,1024/0/default.jpg',\n",
       " 'https://iiif.wellcomecollection.org/image/b18597452_0035.jp2/full/1338,1632/0/default.jpg',\n",
       " 'https://iiif.wellcomecollection.org/image/b1856351x_0034.jp2/full/1338,1615/0/default.jpg',\n",
       " 'https://iiif.wellcomecollection.org/image/b28705786_0325.jp2/full/1338,1626/0/default.jpg',\n",
       " 'https://iiif.wellcomecollection.org/image/b19177136_0124.jp2/full/1338,1608/0/default.jpg',\n",
       " 'https://iiif.wellcomecollection.org/image/b19012676_0074.jp2/full/1338,1938/0/default.jpg',\n",
       " 'https://iiif.wellcomecollection.org/image/b32274609_0025.jp2/full/1338,1889/0/default.jpg',\n",
       " 'https://iiif.wellcomecollection.org/image/b33537525_0418.jp2/full/1338,2014/0/default.jpg',\n",
       " 'https://iiif.wellcomecollection.org/image/b28705427_0135.jp2/full/1338,2276/0/default.jpg',\n",
       " 'https://iiif.wellcomecollection.org/image/b18729794_0224.jp2/full/1338,1807/0/default.jpg',\n",
       " 'https://iiif.wellcomecollection.org/image/b18123533_0065.jp2/full/1338,1733/0/default.jpg',\n",
       " 'https://iiif.wellcomecollection.org/image/b28705889_0085.jp2/full/1338,1914/0/default.jpg',\n",
       " 'https://iiif.wellcomecollection.org/image/b33377352_0001.jp2/full/1338,1832/0/default.jpg',\n",
       " 'https://iiif.wellcomecollection.org/image/b18423760_ramc_1242_2_0032.JP2/full/1018,1024/0/default.jpg',\n",
       " 'https://iiif.wellcomecollection.org/image/b19237005_0356.jp2/full/1338,1560/0/default.jpg',\n",
       " 'https://iiif.wellcomecollection.org/image/b33340717_0001.jp2/full/1338,1314/0/default.jpg',\n",
       " 'https://iiif.wellcomecollection.org/image/b19175346_0018.jp2/full/1338,1522/0/default.jpg',\n",
       " 'https://iiif.wellcomecollection.org/image/b14755117_0051.jp2/full/1338,1322/0/default.jpg',\n",
       " 'https://iiif.wellcomecollection.org/image/b24954809_RET_6_19_1_147_1300.jp2/full/1024,1021/0/default.jpg',\n",
       " 'https://iiif.wellcomecollection.org/image/b28705889_0307.jp2/full/1338,1914/0/default.jpg',\n",
       " 'https://iiif.wellcomecollection.org/image/b32274750_0272.jp2/full/1338,1835/0/default.jpg',\n",
       " 'https://iiif.wellcomecollection.org/image/b28704940_0195.jp2/full/1338,1526/0/default.jpg',\n",
       " 'https://iiif.wellcomecollection.org/image/b19676736_0141.jp2/full/1338,1802/0/default.jpg',\n",
       " 'https://iiif.wellcomecollection.org/image/b33373656_0001.jp2/full/1338,1778/0/default.jpg',\n",
       " 'https://iiif.wellcomecollection.org/image/b11534096_hin-wel-all-00012421_0305.jp2/full/1024,1017/0/default.jpg',\n",
       " 'https://iiif.wellcomecollection.org/image/b19505061_0671.jp2/full/1338,1929/0/default.jpg',\n",
       " 'https://iiif.wellcomecollection.org/image/b19371810_0009.jp2/full/1338,906/0/default.jpg',\n",
       " 'https://iiif.wellcomecollection.org/image/b28704940_0598.jp2/full/1338,1480/0/default.jpg',\n",
       " 'https://iiif.wellcomecollection.org/image/b19177136_0012.jp2/full/1338,1619/0/default.jpg',\n",
       " 'https://iiif.wellcomecollection.org/image/b19237005_0463.jp2/full/1338,1519/0/default.jpg',\n",
       " 'https://iiif.wellcomecollection.org/image/b32274634_0085.jp2/full/1338,1903/0/default.jpg',\n",
       " 'https://iiif.wellcomecollection.org/image/b19505061_0025.jp2/full/1338,1942/0/default.jpg',\n",
       " 'https://iiif.wellcomecollection.org/image/b18597452_0038.jp2/full/1338,1645/0/default.jpg',\n",
       " 'https://iiif.wellcomecollection.org/image/b33533672_0032.jp2/full/1338,1853/0/default.jpg',\n",
       " 'https://iiif.wellcomecollection.org/image/b2022476x_penrose_2_24_6_2_1_0141.JP2/full/1338,1681/0/default.jpg',\n",
       " 'https://iiif.wellcomecollection.org/image/b30540471_0295.jp2/full/1338,2076/0/default.jpg',\n",
       " 'https://iiif.wellcomecollection.org/image/b28705038_0103.jp2/full/1338,2115/0/default.jpg',\n",
       " 'https://iiif.wellcomecollection.org/image/b32274592_0038.jp2/full/1338,1917/0/default.jpg',\n",
       " 'https://iiif.wellcomecollection.org/image/b24937356_RET_3_3_2_12_0676.jp2/full/1024,982/0/default.jpg',\n",
       " 'https://iiif.wellcomecollection.org/image/b28704940_0591.jp2/full/1338,1535/0/default.jpg',\n",
       " 'https://iiif.wellcomecollection.org/image/b11148366_hin-wel-all-00003449_0057.jp2/full/1012,1024/0/default.jpg',\n",
       " 'https://iiif.wellcomecollection.org/image/b33514203_0001.jp2/full/1338,1677/0/default.jpg',\n",
       " 'https://iiif.wellcomecollection.org/image/b14876425_0057.jp2/full/1024,1001/0/default.jpg',\n",
       " 'https://iiif.wellcomecollection.org/image/b19495833_RAMC_2004_10_1246.jp2/full/977,1024/0/default.jpg',\n",
       " 'https://iiif.wellcomecollection.org/image/b14755117_0411.jp2/full/1338,1352/0/default.jpg',\n",
       " 'https://iiif.wellcomecollection.org/image/b18318162_0313.jp2/full/1338,1911/0/default.jpg',\n",
       " 'https://iiif.wellcomecollection.org/image/b28704733_0554.jp2/full/1338,2294/0/default.jpg',\n",
       " 'https://iiif.wellcomecollection.org/image/b19567777_0056.jp2/full/1338,1606/0/default.jpg',\n",
       " 'https://iiif.wellcomecollection.org/image/b19191728_0137.jp2/full/1338,1689/0/default.jpg',\n",
       " 'https://iiif.wellcomecollection.org/image/b19314164_0223.jp2/full/1338,1603/0/default.jpg',\n",
       " 'https://iiif.wellcomecollection.org/image/b32274555_0038.jp2/full/1338,1901/0/default.jpg',\n",
       " 'https://iiif.wellcomecollection.org/image/b32274555_0246.jp2/full/1338,1895/0/default.jpg',\n",
       " 'https://iiif.wellcomecollection.org/image/b32274658_0097.jp2/full/1338,1770/0/default.jpg',\n",
       " 'https://iiif.wellcomecollection.org/image/b33513703_0001.jp2/full/1338,950/0/default.jpg',\n",
       " 'https://iiif.wellcomecollection.org/image/b18729794_0377.jp2/full/1338,1772/0/default.jpg',\n",
       " 'https://iiif.wellcomecollection.org/image/b19287355_0139.jp2/full/1338,1620/0/default.jpg',\n",
       " 'https://iiif.wellcomecollection.org/image/b18123533_0316.jp2/full/1338,1652/0/default.jpg',\n",
       " 'https://iiif.wellcomecollection.org/image/b33236215_0001.jp2/full/1338,1020/0/default.jpg',\n",
       " 'https://iiif.wellcomecollection.org/image/b32274580_0057.jp2/full/1338,1863/0/default.jpg',\n",
       " 'https://iiif.wellcomecollection.org/image/b32274592_0006.jp2/full/1338,1935/0/default.jpg',\n",
       " 'https://iiif.wellcomecollection.org/image/b28704940_0772.jp2/full/1338,1460/0/default.jpg',\n",
       " 'https://iiif.wellcomecollection.org/image/b1325473x_hin-wel-all-00012743_0047.jp2/full/1006,1024/0/default.jpg',\n",
       " 'https://iiif.wellcomecollection.org/image/b32274683_0061.jp2/full/1338,1661/0/default.jpg',\n",
       " 'https://iiif.wellcomecollection.org/image/b28705804_0226.jp2/full/1338,2102/0/default.jpg',\n",
       " 'https://iiif.wellcomecollection.org/image/b32274622_0071.jp2/full/1338,1765/0/default.jpg',\n",
       " 'https://iiif.wellcomecollection.org/image/b32274658_0107.jp2/full/1338,1754/0/default.jpg',\n",
       " 'https://iiif.wellcomecollection.org/image/b32274683_0100.jp2/full/1338,1506/0/default.jpg',\n",
       " 'https://iiif.wellcomecollection.org/image/b22046574_RET_1_5_1_3_0078.jp2/full/1006,1024/0/default.jpg',\n",
       " 'https://iiif.wellcomecollection.org/image/b28704903_0867.jp2/full/978,1024/0/default.jpg',\n",
       " 'https://iiif.wellcomecollection.org/image/b24938257_RET_3_3_2_7_0671.jp2/full/1022,1024/0/default.jpg',\n",
       " 'https://iiif.wellcomecollection.org/image/b32274634_0101.jp2/full/1338,1903/0/default.jpg',\n",
       " 'https://iiif.wellcomecollection.org/image/b32274695_0013.jp2/full/1338,1741/0/default.jpg',\n",
       " 'https://iiif.wellcomecollection.org/image/b19676736_0204.jp2/full/1338,1870/0/default.jpg',\n",
       " 'https://iiif.wellcomecollection.org/image/b32274750_0128.jp2/full/1338,1959/0/default.jpg',\n",
       " 'https://iiif.wellcomecollection.org/image/b28705786_0011.jp2/full/1338,1752/0/default.jpg',\n",
       " 'https://iiif.wellcomecollection.org/image/b32274592_0101.jp2/full/1338,1944/0/default.jpg',\n",
       " 'https://iiif.wellcomecollection.org/image/b15837567_0001.jp2/full/1024,1020/0/default.jpg',\n",
       " 'https://iiif.wellcomecollection.org/image/b18576795_0965.jp2/full/1338,1976/0/default.jpg',\n",
       " 'https://iiif.wellcomecollection.org/image/b28705804_0268.jp2/full/1338,2102/0/default.jpg',\n",
       " 'https://iiif.wellcomecollection.org/image/b32274750_0027.jp2/full/1338,2271/0/default.jpg',\n",
       " 'https://iiif.wellcomecollection.org/image/b18729794_0006.jp2/full/1338,1804/0/default.jpg',\n",
       " 'https://iiif.wellcomecollection.org/image/b18123533_0005.jp2/full/1338,1693/0/default.jpg',\n",
       " 'https://iiif.wellcomecollection.org/image/b28705427_0450.jp2/full/1338,2196/0/default.jpg',\n",
       " 'https://iiif.wellcomecollection.org/image/b28705786_0172.jp2/full/1338,1600/0/default.jpg',\n",
       " 'https://iiif.wellcomecollection.org/image/b33511391_0001.jp2/full/1338,1714/0/default.jpg',\n",
       " 'https://iiif.wellcomecollection.org/image/b28705427_0306.jp2/full/1338,2151/0/default.jpg',\n",
       " 'https://iiif.wellcomecollection.org/image/b19237005_0330.jp2/full/1338,1574/0/default.jpg',\n",
       " 'https://iiif.wellcomecollection.org/image/b18758897_0152.jp2/full/1338,1709/0/default.jpg',\n",
       " 'https://iiif.wellcomecollection.org/image/b19567777_0057.jp2/full/1338,1545/0/default.jpg',\n",
       " 'https://iiif.wellcomecollection.org/image/b32274695_0032.jp2/full/1338,1778/0/default.jpg',\n",
       " 'https://iiif.wellcomecollection.org/image/b19603046_0012.jp2/full/1338,1936/0/default.jpg',\n",
       " 'https://iiif.wellcomecollection.org/image/b19505061_0440.jp2/full/1338,1589/0/default.jpg',\n",
       " 'https://iiif.wellcomecollection.org/image/b19695433_0001.jp2/full/1338,1670/0/default.jpg',\n",
       " 'https://iiif.wellcomecollection.org/image/b11058286_0415.jp2/full/3884,5396/0/default.jpg',\n",
       " 'https://iiif.wellcomecollection.org/image/b19012676_0340.jp2/full/1338,1944/0/default.jpg',\n",
       " 'https://iiif.wellcomecollection.org/image/b14828042_0005.jp2/full/1338,2074/0/default.jpg',\n",
       " 'https://iiif.wellcomecollection.org/image/b32274592_0106.jp2/full/1338,1911/0/default.jpg',\n",
       " 'https://iiif.wellcomecollection.org/image/b20614548_galton_02_08_01_13_05_0054.JP2/full/1024,1002/0/default.jpg',\n",
       " 'https://iiif.wellcomecollection.org/image/b11758752_0001.jp2/full/1338,1754/0/default.jpg',\n",
       " 'https://iiif.wellcomecollection.org/image/b18693441_0333.jp2/full/1338,2195/0/default.jpg',\n",
       " 'https://iiif.wellcomecollection.org/image/b14565377_0066.jp2/full/1022,1024/0/default.jpg',\n",
       " 'https://iiif.wellcomecollection.org/image/b31854412_0005.jp2/full/994,1024/0/default.jpg',\n",
       " 'https://iiif.wellcomecollection.org/image/b11058286_0379.jp2/full/3860,5408/0/default.jpg',\n",
       " 'https://iiif.wellcomecollection.org/image/b18338835_MS_1506_0196.JP2/full/1018,1024/0/default.jpg',\n",
       " 'https://iiif.wellcomecollection.org/image/b33537525_0047.jp2/full/1338,2064/0/default.jpg',\n",
       " 'https://iiif.wellcomecollection.org/image/b19191728_0009.jp2/full/1338,1684/0/default.jpg',\n",
       " 'https://iiif.wellcomecollection.org/image/b19505061_0329.jp2/full/1338,1561/0/default.jpg',\n",
       " 'https://iiif.wellcomecollection.org/image/b14755117_0428.jp2/full/1338,1280/0/default.jpg',\n",
       " 'https://iiif.wellcomecollection.org/image/b28705737_0215.jp2/full/1338,2077/0/default.jpg',\n",
       " 'https://iiif.wellcomecollection.org/image/b19662397_0013.jp2/full/1338,1602/0/default.jpg',\n",
       " 'https://iiif.wellcomecollection.org/image/b33338759_0001.jp2/full/1338,2025/0/default.jpg',\n",
       " 'https://iiif.wellcomecollection.org/image/b28704940_0277.jp2/full/1338,1541/0/default.jpg',\n",
       " 'https://iiif.wellcomecollection.org/image/b19314164_0317.jp2/full/1338,1529/0/default.jpg',\n",
       " 'https://iiif.wellcomecollection.org/image/b32274750_0137.jp2/full/1338,1947/0/default.jpg',\n",
       " 'https://iiif.wellcomecollection.org/image/b19541818_0174.jp2/full/1338,1980/0/default.jpg',\n",
       " 'https://iiif.wellcomecollection.org/image/b33512267_0001.jp2/full/1338,1878/0/default.jpg',\n",
       " 'https://iiif.wellcomecollection.org/image/b28705786_0789.jp2/full/1338,1656/0/default.jpg',\n",
       " 'https://iiif.wellcomecollection.org/image/b33330906_0001.jp2/full/1338,2216/0/default.jpg',\n",
       " 'https://iiif.wellcomecollection.org/image/b32274750_0092.jp2/full/1338,2058/0/default.jpg',\n",
       " 'https://iiif.wellcomecollection.org/image/b33370916_0001.jp2/full/1338,1786/0/default.jpg',\n",
       " 'https://iiif.wellcomecollection.org/image/b18758897_0030.jp2/full/1338,1844/0/default.jpg',\n",
       " 'https://iiif.wellcomecollection.org/image/b32274609_0023.jp2/full/1338,1888/0/default.jpg',\n",
       " 'https://iiif.wellcomecollection.org/image/b28705737_0197.jp2/full/1338,2064/0/default.jpg',\n",
       " 'https://iiif.wellcomecollection.org/image/b28705737_0339.jp2/full/1338,2117/0/default.jpg',\n",
       " 'https://iiif.wellcomecollection.org/image/b12177945_hin-wel-all-00012467_0009.jp2/full/1003,1024/0/default.jpg',\n",
       " 'https://iiif.wellcomecollection.org/image/b14755117_0148.jp2/full/1338,1350/0/default.jpg',\n",
       " 'https://iiif.wellcomecollection.org/image/b32274634_0042.jp2/full/1338,1829/0/default.jpg',\n",
       " 'https://iiif.wellcomecollection.org/image/b33338656_0001.jp2/full/1338,2067/0/default.jpg',\n",
       " 'https://iiif.wellcomecollection.org/image/b33372020_0001.jp2/full/1338,2128/0/default.jpg',\n",
       " 'https://iiif.wellcomecollection.org/image/b32274774_0253.jp2/full/1338,1814/0/default.jpg',\n",
       " 'https://iiif.wellcomecollection.org/image/b18123533_0456.jp2/full/1338,1612/0/default.jpg',\n",
       " 'https://iiif.wellcomecollection.org/image/b19576523_0171.jp2/full/1338,1490/0/default.jpg',\n",
       " 'https://iiif.wellcomecollection.org/image/b32274683_0072.jp2/full/1338,1519/0/default.jpg',\n",
       " 'https://iiif.wellcomecollection.org/image/b18576795_0792.jp2/full/1338,1991/0/default.jpg',\n",
       " 'https://iiif.wellcomecollection.org/image/b19237005_0116.jp2/full/1338,1096/0/default.jpg',\n",
       " 'https://iiif.wellcomecollection.org/image/b3324604x_0001.jp2/full/992,1024/0/default.jpg',\n",
       " 'https://iiif.wellcomecollection.org/image/b32274816_0017.jp2/full/1338,2244/0/default.jpg',\n",
       " 'https://iiif.wellcomecollection.org/image/b32232068_0005.jp2/full/1004,1024/0/default.jpg',\n",
       " 'https://iiif.wellcomecollection.org/image/b19676736_0241.jp2/full/1338,1754/0/default.jpg',\n",
       " 'https://iiif.wellcomecollection.org/image/b24946448_RET_3_3_2_11_0302.jp2/full/1024,982/0/default.jpg',\n",
       " 'https://iiif.wellcomecollection.org/image/b31854503_0028.jp2/full/1012,1024/0/default.jpg',\n",
       " 'https://iiif.wellcomecollection.org/image/b19314164_0111.jp2/full/1338,1524/0/default.jpg',\n",
       " 'https://iiif.wellcomecollection.org/image/b22007611_0169.jp2/full/1338,2089/0/default.jpg',\n",
       " 'https://iiif.wellcomecollection.org/image/b28705786_0334.jp2/full/1338,1626/0/default.jpg',\n",
       " 'https://iiif.wellcomecollection.org/image/b28704940_0537.jp2/full/1338,1517/0/default.jpg',\n",
       " 'https://iiif.wellcomecollection.org/image/b22007611_0026.jp2/full/1338,2086/0/default.jpg',\n",
       " 'https://iiif.wellcomecollection.org/image/b32274774_0111.jp2/full/1338,1761/0/default.jpg',\n",
       " 'https://iiif.wellcomecollection.org/image/b31685766_0048.jp2/full/1338,1754/0/default.jpg',\n",
       " 'https://iiif.wellcomecollection.org/image/b18896042_MS_2799_0220.JP2/full/991,1024/0/default.jpg',\n",
       " 'https://iiif.wellcomecollection.org/image/b14846275_0632.jp2/full/1338,1984/0/default.jpg',\n",
       " 'https://iiif.wellcomecollection.org/image/b32274592_0092.jp2/full/1338,1928/0/default.jpg',\n",
       " 'https://iiif.wellcomecollection.org/image/b32274774_0217.jp2/full/1338,1796/0/default.jpg',\n",
       " 'https://iiif.wellcomecollection.org/image/b18123533_0236.jp2/full/1338,1723/0/default.jpg',\n",
       " 'https://iiif.wellcomecollection.org/image/b32274683_0099.jp2/full/1338,1657/0/default.jpg',\n",
       " 'https://iiif.wellcomecollection.org/image/b20387878_0001.jp2/full/1338,1811/0/default.jpg',\n",
       " 'https://iiif.wellcomecollection.org/image/b32274592_0023.jp2/full/1338,1934/0/default.jpg',\n",
       " 'https://iiif.wellcomecollection.org/image/b28704940_0300.jp2/full/1338,1548/0/default.jpg',\n",
       " 'https://iiif.wellcomecollection.org/image/b28704940_0394.jp2/full/1338,1525/0/default.jpg',\n",
       " 'https://iiif.wellcomecollection.org/image/b18597452_0187.jp2/full/1338,1603/0/default.jpg',\n",
       " 'https://iiif.wellcomecollection.org/image/b20619972_galton_01_01_09_05_01_0013.JP2/full/1015,1024/0/default.jpg',\n",
       " 'https://iiif.wellcomecollection.org/image/b28704733_0051.jp2/full/1338,2455/0/default.jpg',\n",
       " 'https://iiif.wellcomecollection.org/image/b28705737_0017.jp2/full/1338,2104/0/default.jpg',\n",
       " 'https://iiif.wellcomecollection.org/image/b33068690_0105.jp2/full/1338,1734/0/default.jpg',\n",
       " 'https://iiif.wellcomecollection.org/image/b14755117_0379.jp2/full/1338,1358/0/default.jpg',\n",
       " 'https://iiif.wellcomecollection.org/image/b19576523_0230.jp2/full/1338,1609/0/default.jpg',\n",
       " 'https://iiif.wellcomecollection.org/image/b32274634_0055.jp2/full/1338,1884/0/default.jpg',\n",
       " 'https://iiif.wellcomecollection.org/image/b18123533_0224.jp2/full/1338,1716/0/default.jpg',\n",
       " 'https://iiif.wellcomecollection.org/image/b18123533_0584.jp2/full/1338,1596/0/default.jpg',\n",
       " 'https://iiif.wellcomecollection.org/image/b33249611_0001.jp2/full/1338,2118/0/default.jpg',\n",
       " 'https://iiif.wellcomecollection.org/image/b18576795_0788.jp2/full/1338,1939/0/default.jpg',\n",
       " 'https://iiif.wellcomecollection.org/image/b28704733_0321.jp2/full/1338,2474/0/default.jpg',\n",
       " 'https://iiif.wellcomecollection.org/image/b18576795_0157.jp2/full/1338,1953/0/default.jpg',\n",
       " 'https://iiif.wellcomecollection.org/image/b18318162_0138.jp2/full/1338,1912/0/default.jpg',\n",
       " 'https://iiif.wellcomecollection.org/image/b32274622_0090.jp2/full/1338,1283/0/default.jpg',\n",
       " 'https://iiif.wellcomecollection.org/image/b33373140_0001.jp2/full/1338,1099/0/default.jpg',\n",
       " 'https://iiif.wellcomecollection.org/image/b33374545_0001.jp2/full/1338,2201/0/default.jpg',\n",
       " 'https://iiif.wellcomecollection.org/image/b14560999_0122.jp2/full/982,1024/0/default.jpg',\n",
       " 'https://iiif.wellcomecollection.org/image/b19505061_0270.jp2/full/1338,1697/0/default.jpg',\n",
       " 'https://iiif.wellcomecollection.org/image/b24938245_RET_3_3_2_10_0631.jp2/full/1024,1021/0/default.jpg',\n",
       " 'https://iiif.wellcomecollection.org/image/b11058286_0257.jp2/full/3932,5432/0/default.jpg',\n",
       " 'https://iiif.wellcomecollection.org/image/b28705737_0284.jp2/full/1338,1999/0/default.jpg',\n",
       " 'https://iiif.wellcomecollection.org/image/b19113626_ramc_1242_6_0015.JP2/full/1022,1024/0/default.jpg',\n",
       " 'https://iiif.wellcomecollection.org/image/b20387878_0138.jp2/full/1338,1755/0/default.jpg',\n",
       " 'https://iiif.wellcomecollection.org/image/b18417383_0075.jp2/full/1338,1662/0/default.jpg',\n",
       " 'https://iiif.wellcomecollection.org/image/b12946308_hin-wel-all-00001677_0013.jp2/full/1022,1024/0/default.jpg',\n",
       " 'https://iiif.wellcomecollection.org/image/b19237005_0343.jp2/full/1338,1600/0/default.jpg',\n",
       " 'https://iiif.wellcomecollection.org/image/b32274683_0098.jp2/full/1338,1505/0/default.jpg',\n",
       " 'https://iiif.wellcomecollection.org/image/b18932551_0098.jp2/full/1338,1656/0/default.jpg',\n",
       " 'https://iiif.wellcomecollection.org/image/b33507855_0001.jp2/full/1338,1166/0/default.jpg',\n",
       " 'https://iiif.wellcomecollection.org/image/b11058286_0932.jp2/full/4020,5480/0/default.jpg',\n",
       " 'https://iiif.wellcomecollection.org/image/b19152620_MS_5850_0062.jp2/full/1011,1024/0/default.jpg',\n",
       " 'https://iiif.wellcomecollection.org/image/b32274555_0073.jp2/full/1338,1979/0/default.jpg',\n",
       " 'https://iiif.wellcomecollection.org/image/b18832283_MS_7921_0020.jp2/full/984,1024/0/default.jpg',\n",
       " 'https://iiif.wellcomecollection.org/image/b18531891_RAMC_1863_0034.jp2/full/1008,1024/0/default.jpg',\n",
       " 'https://iiif.wellcomecollection.org/image/b19237005_0277.jp2/full/1338,1649/0/default.jpg',\n",
       " 'https://iiif.wellcomecollection.org/image/b30540471_0468.jp2/full/1338,2196/0/default.jpg',\n",
       " 'https://iiif.wellcomecollection.org/image/b20297105_WMS_Arabic_440_0013.jp2/full/1000,1024/0/default.jpg',\n",
       " 'https://iiif.wellcomecollection.org/image/b16685453_l0052554.jp2/full/1024,1016/0/default.jpg',\n",
       " 'https://iiif.wellcomecollection.org/image/b19505061_0510.jp2/full/1338,1542/0/default.jpg',\n",
       " 'https://iiif.wellcomecollection.org/image/b32274750_0182.jp2/full/1338,2158/0/default.jpg',\n",
       " 'https://iiif.wellcomecollection.org/image/b1220190x_hin-wel-all-00000040_0159.jp2/full/1338,1815/0/default.jpg',\n",
       " 'https://iiif.wellcomecollection.org/image/b2022476x_penrose_2_24_6_2_1_0083.JP2/full/1338,1711/0/default.jpg',\n",
       " 'https://iiif.wellcomecollection.org/image/b30540471_0036.jp2/full/1338,2082/0/default.jpg',\n",
       " 'https://iiif.wellcomecollection.org/image/b28704630_0509.jp2/full/1338,2062/0/default.jpg',\n",
       " 'https://iiif.wellcomecollection.org/image/b32274750_0307.jp2/full/1338,1817/0/default.jpg',\n",
       " 'https://iiif.wellcomecollection.org/image/b32274658_0018.jp2/full/1338,1901/0/default.jpg',\n",
       " 'https://iiif.wellcomecollection.org/image/b24940215_RET_3_3_2_2_1184.jp2/full/981,1024/0/default.jpg',\n",
       " 'https://iiif.wellcomecollection.org/image/b32274774_0092.jp2/full/1338,1808/0/default.jpg',\n",
       " 'https://iiif.wellcomecollection.org/image/b28704733_0594.jp2/full/1338,2329/0/default.jpg',\n",
       " 'https://iiif.wellcomecollection.org/image/b19505061_0488.jp2/full/1338,1558/0/default.jpg',\n",
       " 'https://iiif.wellcomecollection.org/image/b33533672_0080.jp2/full/1338,1844/0/default.jpg',\n",
       " 'https://iiif.wellcomecollection.org/image/b18123533_0081.jp2/full/1338,1723/0/default.jpg',\n",
       " 'https://iiif.wellcomecollection.org/image/b32274555_0110.jp2/full/1338,1873/0/default.jpg',\n",
       " 'https://iiif.wellcomecollection.org/image/b19287355_0151.jp2/full/1338,1613/0/default.jpg',\n",
       " 'https://iiif.wellcomecollection.org/image/b28704733_0293.jp2/full/1338,2338/0/default.jpg',\n",
       " 'https://iiif.wellcomecollection.org/image/b19676736_0297.jp2/full/1338,1717/0/default.jpg',\n",
       " 'https://iiif.wellcomecollection.org/image/b31685729_0013.jp2/full/1338,1731/0/default.jpg',\n",
       " 'https://iiif.wellcomecollection.org/image/b18576795_0267.jp2/full/1338,1950/0/default.jpg',\n",
       " 'https://iiif.wellcomecollection.org/image/b33418172_0016.jp2/full/1338,1880/0/default.jpg',\n",
       " 'https://iiif.wellcomecollection.org/image/b24940215_RET_3_3_2_2_1857.jp2/full/978,1024/0/default.jpg',\n",
       " 'https://iiif.wellcomecollection.org/image/b2022476x_penrose_2_24_6_2_1_0016.JP2/full/1338,1752/0/default.jpg',\n",
       " 'https://iiif.wellcomecollection.org/image/b32274658_0146.jp2/full/1338,1734/0/default.jpg',\n",
       " 'https://iiif.wellcomecollection.org/image/b33342283_0002.jp2/full/1338,2213/0/default.jpg',\n",
       " 'https://iiif.wellcomecollection.org/image/b28704940_0806.jp2/full/1338,1460/0/default.jpg',\n",
       " 'https://iiif.wellcomecollection.org/image/b32274634_0069.jp2/full/1338,1815/0/default.jpg',\n",
       " 'https://iiif.wellcomecollection.org/image/b18576795_0772.jp2/full/1338,1923/0/default.jpg',\n",
       " 'https://iiif.wellcomecollection.org/image/b19676736_0025.jp2/full/1338,1972/0/default.jpg',\n",
       " 'https://iiif.wellcomecollection.org/image/b19676736_0145.jp2/full/1338,1798/0/default.jpg',\n",
       " 'https://iiif.wellcomecollection.org/image/b28705804_0107.jp2/full/1338,2113/0/default.jpg',\n",
       " 'https://iiif.wellcomecollection.org/image/b32274750_0132.jp2/full/1338,2017/0/default.jpg',\n",
       " 'https://iiif.wellcomecollection.org/image/b19237005_0373.jp2/full/1338,1617/0/default.jpg',\n",
       " 'https://iiif.wellcomecollection.org/image/b31854394_0016.jp2/full/989,1024/0/default.jpg',\n",
       " 'https://iiif.wellcomecollection.org/image/b18576795_0271.jp2/full/1338,1961/0/default.jpg',\n",
       " 'https://iiif.wellcomecollection.org/image/b3337224x_0001.jp2/full/1338,2153/0/default.jpg',\n",
       " 'https://iiif.wellcomecollection.org/image/b24954809_RET_6_19_1_147_1268.jp2/full/1024,1008/0/default.jpg',\n",
       " 'https://iiif.wellcomecollection.org/image/b28705786_1002.jp2/full/1338,1697/0/default.jpg',\n",
       " 'https://iiif.wellcomecollection.org/image/b14846275_0027.jp2/full/1338,1927/0/default.jpg',\n",
       " 'https://iiif.wellcomecollection.org/image/b20129075_kdbp_1_3_030_2.JP2/full/1020,1024/0/default.jpg',\n",
       " 'https://iiif.wellcomecollection.org/image/b19108801_0106.jp2/full/1338,1590/0/default.jpg',\n",
       " 'https://iiif.wellcomecollection.org/image/b11641824_0001.jp2/full/1338,1813/0/default.jpg',\n",
       " 'https://iiif.wellcomecollection.org/image/b33000256_0097.jp2/full/1024,983/0/default.jpg',\n",
       " 'https://iiif.wellcomecollection.org/image/b32274750_0170.jp2/full/1338,2159/0/default.jpg',\n",
       " 'https://iiif.wellcomecollection.org/image/b28704940_0909.jp2/full/1338,1607/0/default.jpg',\n",
       " 'https://iiif.wellcomecollection.org/image/b33377625_0001.jp2/full/1338,2153/0/default.jpg',\n",
       " 'https://iiif.wellcomecollection.org/image/b18576795_0859.jp2/full/1338,1924/0/default.jpg',\n",
       " 'https://iiif.wellcomecollection.org/image/b18576795_0066.jp2/full/1338,2066/0/default.jpg',\n",
       " 'https://iiif.wellcomecollection.org/image/b33537525_0503.jp2/full/1338,2001/0/default.jpg',\n",
       " 'https://iiif.wellcomecollection.org/image/b14827712_0057.jp2/full/1338,1787/0/default.jpg',\n",
       " 'https://iiif.wellcomecollection.org/image/b28705774_0058.jp2/full/1338,2107/0/default.jpg',\n",
       " 'https://iiif.wellcomecollection.org/image/b19237005_0281.jp2/full/1338,1043/0/default.jpg',\n",
       " 'https://iiif.wellcomecollection.org/image/b19541818_0258.jp2/full/1338,1960/0/default.jpg',\n",
       " 'https://iiif.wellcomecollection.org/image/b28705786_0323.jp2/full/1338,1626/0/default.jpg',\n",
       " 'https://iiif.wellcomecollection.org/image/b14827712_0033.jp2/full/1338,1816/0/default.jpg',\n",
       " 'https://iiif.wellcomecollection.org/image/b19696589_ramc_474_52_0294.JP2/full/1024,988/0/default.jpg',\n",
       " 'https://iiif.wellcomecollection.org/image/b18418272_0036.jp2/full/1338,1585/0/default.jpg',\n",
       " 'https://iiif.wellcomecollection.org/image/b32274750_0134.jp2/full/1338,2159/0/default.jpg',\n",
       " 'https://iiif.wellcomecollection.org/image/b28705804_0339.jp2/full/1338,2144/0/default.jpg',\n",
       " 'https://iiif.wellcomecollection.org/image/b18729794_0419.jp2/full/1338,1791/0/default.jpg',\n",
       " 'https://iiif.wellcomecollection.org/image/b28705038_0093.jp2/full/1338,2116/0/default.jpg',\n",
       " 'https://iiif.wellcomecollection.org/image/b1220190x_hin-wel-all-00000040_0246.jp2/full/1338,1861/0/default.jpg',\n",
       " 'https://iiif.wellcomecollection.org/image/b28705427_0421.jp2/full/1338,2225/0/default.jpg',\n",
       " 'https://iiif.wellcomecollection.org/image/b18380141_0050.jp2/full/1338,2114/0/default.jpg',\n",
       " 'https://iiif.wellcomecollection.org/image/b32274555_0446.jp2/full/1338,1863/0/default.jpg',\n",
       " 'https://iiif.wellcomecollection.org/image/b24963057_RET_3_3_2_14_0697.jp2/full/1024,980/0/default.jpg',\n",
       " 'https://iiif.wellcomecollection.org/image/b19191728_0165.jp2/full/1338,1675/0/default.jpg',\n",
       " 'https://iiif.wellcomecollection.org/image/b33239411_0001.jp2/full/1338,1823/0/default.jpg',\n",
       " 'https://iiif.wellcomecollection.org/image/b18758897_0039.jp2/full/1338,1725/0/default.jpg',\n",
       " 'https://iiif.wellcomecollection.org/image/b22654136_DGH1_5_1_1_15_0028.JP2/full/980,1024/0/default.jpg',\n",
       " 'https://iiif.wellcomecollection.org/image/b19177112_0049.jp2/full/1338,2305/0/default.jpg',\n",
       " 'https://iiif.wellcomecollection.org/image/b28704630_0430.jp2/full/1338,1932/0/default.jpg',\n",
       " 'https://iiif.wellcomecollection.org/image/b32274774_0045.jp2/full/1338,1748/0/default.jpg',\n",
       " 'https://iiif.wellcomecollection.org/image/b11148366_hin-wel-all-00003449_0299.jp2/full/1021,1024/0/default.jpg',\n",
       " 'https://iiif.wellcomecollection.org/image/b28705786_0742.jp2/full/1338,1661/0/default.jpg',\n",
       " 'https://iiif.wellcomecollection.org/image/b14846275_0356.jp2/full/1338,2091/0/default.jpg',\n",
       " 'https://iiif.wellcomecollection.org/image/b30540471_0415.jp2/full/1338,2089/0/default.jpg',\n",
       " 'https://iiif.wellcomecollection.org/image/b28704733_0311.jp2/full/1338,2474/0/default.jpg',\n",
       " 'https://iiif.wellcomecollection.org/image/b28976794_0354.jp2/full/1338,1704/0/default.jpg',\n",
       " 'https://iiif.wellcomecollection.org/image/b33068690_0087.jp2/full/1338,1765/0/default.jpg',\n",
       " 'https://iiif.wellcomecollection.org/image/b3168578x_0029.jp2/full/1338,1668/0/default.jpg',\n",
       " 'https://iiif.wellcomecollection.org/image/b18123533_0028.jp2/full/1338,1837/0/default.jpg',\n",
       " 'https://iiif.wellcomecollection.org/image/b28704733_0748.jp2/full/1338,2314/0/default.jpg',\n",
       " 'https://iiif.wellcomecollection.org/image/b32274683_0022.jp2/full/1338,1604/0/default.jpg',\n",
       " 'https://iiif.wellcomecollection.org/image/b28704630_0415.jp2/full/1338,2014/0/default.jpg',\n",
       " 'https://iiif.wellcomecollection.org/image/b28705038_0190.jp2/full/1338,1986/0/default.jpg',\n",
       " 'https://iiif.wellcomecollection.org/image/b28668121_0003.jp2/full/1024,1011/0/default.jpg',\n",
       " 'https://iiif.wellcomecollection.org/image/b20633440_galton_2_9_6_5_2_2_0001.JP2/full/1024,988/0/default.jpg',\n",
       " 'https://iiif.wellcomecollection.org/image/b32274774_0170.jp2/full/1338,1820/0/default.jpg',\n",
       " 'https://iiif.wellcomecollection.org/image/b20387878_0023.jp2/full/1338,1753/0/default.jpg',\n",
       " 'https://iiif.wellcomecollection.org/image/b28705427_0362.jp2/full/1338,2154/0/default.jpg',\n",
       " 'https://iiif.wellcomecollection.org/image/b10916180_hin-wel-all-00012288_0082.jp2/full/1017,1024/0/default.jpg',\n",
       " 'https://iiif.wellcomecollection.org/image/b12821457_hin-wel-all-00012567_0053.jp2/full/1006,1024/0/default.jpg',\n",
       " 'https://iiif.wellcomecollection.org/image/b32274580_0034.jp2/full/1338,1772/0/default.jpg',\n",
       " 'https://iiif.wellcomecollection.org/image/b32274622_0001.jp2/full/1338,1740/0/default.jpg',\n",
       " 'https://iiif.wellcomecollection.org/image/b28705786_0979.jp2/full/1338,1667/0/default.jpg',\n",
       " 'https://iiif.wellcomecollection.org/image/b18438374_ms_6722_0006.JP2/full/1001,1024/0/default.jpg',\n",
       " 'https://iiif.wellcomecollection.org/image/b11058286_0080.jp2/full/3684,5348/0/default.jpg',\n",
       " 'https://iiif.wellcomecollection.org/image/b28705786_0296.jp2/full/1338,1629/0/default.jpg',\n",
       " 'https://iiif.wellcomecollection.org/image/b31854424_0023.jp2/full/1019,1024/0/default.jpg',\n",
       " 'https://iiif.wellcomecollection.org/image/b24945948_RET_3_3_1_26_0036.jp2/full/1024,998/0/default.jpg',\n",
       " 'https://iiif.wellcomecollection.org/image/b18380141_0031.jp2/full/1338,2117/0/default.jpg',\n",
       " 'https://iiif.wellcomecollection.org/image/b28705646_0204.jp2/full/1338,2250/0/default.jpg',\n",
       " 'https://iiif.wellcomecollection.org/image/b20129075_kdbp_1_3_028.JP2/full/1020,1024/0/default.jpg',\n",
       " 'https://iiif.wellcomecollection.org/image/b24936650_RET_3_3_1_9_0016.jp2/full/1024,979/0/default.jpg',\n",
       " 'https://iiif.wellcomecollection.org/image/b11058286_0989.jp2/full/3632,5372/0/default.jpg',\n",
       " 'https://iiif.wellcomecollection.org/image/b28704733_0537.jp2/full/1338,2392/0/default.jpg',\n",
       " 'https://iiif.wellcomecollection.org/image/b18693441_0577.jp2/full/1338,1990/0/default.jpg',\n",
       " 'https://iiif.wellcomecollection.org/image/b32274774_0003.jp2/full/1338,1732/0/default.jpg',\n",
       " 'https://iiif.wellcomecollection.org/image/b28704940_0850.jp2/full/1338,1475/0/default.jpg',\n",
       " 'https://iiif.wellcomecollection.org/image/b19742083_0471.jp2/full/982,1024/0/default.jpg',\n",
       " 'https://iiif.wellcomecollection.org/image/b19576523_0112.jp2/full/1338,1549/0/default.jpg',\n",
       " 'https://iiif.wellcomecollection.org/image/b24946448_RET_3_3_2_11_0095.jp2/full/1024,985/0/default.jpg',\n",
       " 'https://iiif.wellcomecollection.org/image/b24946448_RET_3_3_2_11_0803.jp2/full/1024,988/0/default.jpg',\n",
       " 'https://iiif.wellcomecollection.org/image/b28642491_0001.jp2/full/1024,1004/0/default.jpg',\n",
       " 'https://iiif.wellcomecollection.org/image/b16447633_0002.jp2/full/990,1024/0/default.jpg',\n",
       " 'https://iiif.wellcomecollection.org/image/b19237005_0519.jp2/full/1338,1584/0/default.jpg',\n",
       " 'https://iiif.wellcomecollection.org/image/b30540471_0091.jp2/full/1338,2059/0/default.jpg',\n",
       " 'https://iiif.wellcomecollection.org/image/b19505061_0095.jp2/full/1338,1626/0/default.jpg',\n",
       " 'https://iiif.wellcomecollection.org/image/b33238686_0001.jp2/full/1338,1703/0/default.jpg',\n",
       " 'https://iiif.wellcomecollection.org/image/b32274750_0269.jp2/full/1338,1833/0/default.jpg',\n",
       " 'https://iiif.wellcomecollection.org/image/b28705889_0181.jp2/full/1338,1914/0/default.jpg',\n",
       " 'https://iiif.wellcomecollection.org/image/b28705427_0221.jp2/full/1338,2286/0/default.jpg',\n",
       " 'https://iiif.wellcomecollection.org/image/b3168581x_0061.jp2/full/1338,1648/0/default.jpg',\n",
       " 'https://iiif.wellcomecollection.org/image/b28705786_0112.jp2/full/1338,860/0/default.jpg',\n",
       " 'https://iiif.wellcomecollection.org/image/b32274658_0001.jp2/full/1338,1781/0/default.jpg',\n",
       " 'https://iiif.wellcomecollection.org/image/b19443262_0029.jp2/full/1338,1708/0/default.jpg',\n",
       " 'https://iiif.wellcomecollection.org/image/b33369707_0001.jp2/full/1338,1739/0/default.jpg',\n",
       " 'https://iiif.wellcomecollection.org/image/b31685730_0039.jp2/full/1338,1759/0/default.jpg',\n",
       " 'https://iiif.wellcomecollection.org/image/b32274750_0168.jp2/full/1338,2172/0/default.jpg',\n",
       " 'https://iiif.wellcomecollection.org/image/b19541818_0128.jp2/full/1338,2014/0/default.jpg',\n",
       " 'https://iiif.wellcomecollection.org/image/b32274786_0083.jp2/full/1338,2019/0/default.jpg',\n",
       " 'https://iiif.wellcomecollection.org/image/b32274750_0320.jp2/full/1338,1777/0/default.jpg',\n",
       " 'https://iiif.wellcomecollection.org/image/b33516005_0001.jp2/full/1338,1118/0/default.jpg',\n",
       " 'https://iiif.wellcomecollection.org/image/b33249854_0001.jp2/full/1338,983/0/default.jpg',\n",
       " 'https://iiif.wellcomecollection.org/image/b28705038_0071.jp2/full/1338,2115/0/default.jpg',\n",
       " 'https://iiif.wellcomecollection.org/image/b18123533_0313.jp2/full/1338,1784/0/default.jpg',\n",
       " 'https://iiif.wellcomecollection.org/image/b33245563_0001.jp2/full/1338,946/0/default.jpg',\n",
       " 'https://iiif.wellcomecollection.org/image/b18758897_0171.jp2/full/1338,1846/0/default.jpg',\n",
       " 'https://iiif.wellcomecollection.org/image/b32274750_0304.jp2/full/1338,2093/0/default.jpg',\n",
       " 'https://iiif.wellcomecollection.org/image/b31685791_0053.jp2/full/1338,1683/0/default.jpg',\n",
       " 'https://iiif.wellcomecollection.org/image/b28976794_0243.jp2/full/1338,1640/0/default.jpg',\n",
       " 'https://iiif.wellcomecollection.org/image/b19505061_0690.jp2/full/1338,2930/0/default.jpg',\n",
       " 'https://iiif.wellcomecollection.org/image/b30452922_0001.jp2/full/1338,1787/0/default.jpg',\n",
       " 'https://iiif.wellcomecollection.org/image/b2265415x_DGH1_5_1_1_17_0002.JP2/full/1009,1024/0/default.jpg',\n",
       " 'https://iiif.wellcomecollection.org/image/b18693441_0145.jp2/full/1338,1969/0/default.jpg',\n",
       " 'https://iiif.wellcomecollection.org/image/b18576795_0220.jp2/full/1338,2080/0/default.jpg',\n",
       " 'https://iiif.wellcomecollection.org/image/b11534096_hin-wel-all-00012421_0005.jp2/full/985,1024/0/default.jpg',\n",
       " 'https://iiif.wellcomecollection.org/image/b18576795_0688.jp2/full/1338,1973/0/default.jpg',\n",
       " 'https://iiif.wellcomecollection.org/image/b32274695_0061.jp2/full/420,4550/0/default.jpg',\n",
       " 'https://iiif.wellcomecollection.org/image/b33537525_0367.jp2/full/1338,2028/0/default.jpg',\n",
       " 'https://iiif.wellcomecollection.org/image/b32274683_0062.jp2/full/1338,1516/0/default.jpg',\n",
       " 'https://iiif.wellcomecollection.org/image/b19505061_0046.jp2/full/1338,1863/0/default.jpg',\n",
       " 'https://iiif.wellcomecollection.org/image/b28976794_0169.jp2/full/1338,1640/0/default.jpg',\n",
       " 'https://iiif.wellcomecollection.org/image/b33533672_0007.jp2/full/1338,1733/0/default.jpg',\n",
       " 'https://iiif.wellcomecollection.org/image/b32274750_0175.jp2/full/1338,1969/0/default.jpg',\n",
       " 'https://iiif.wellcomecollection.org/image/b14876425_0040.jp2/full/1024,992/0/default.jpg',\n",
       " 'https://iiif.wellcomecollection.org/image/b28705427_0350.jp2/full/1338,2154/0/default.jpg',\n",
       " 'https://iiif.wellcomecollection.org/image/b32274695_0030.jp2/full/1338,1763/0/default.jpg',\n",
       " 'https://iiif.wellcomecollection.org/image/b14872122_0162.jp2/full/1338,1003/0/default.jpg',\n",
       " 'https://iiif.wellcomecollection.org/image/b28704630_0525.jp2/full/1338,2062/0/default.jpg',\n",
       " 'https://iiif.wellcomecollection.org/image/b28704733_0548.jp2/full/1338,2309/0/default.jpg',\n",
       " 'https://iiif.wellcomecollection.org/image/b32274750_0345.jp2/full/1338,2187/0/default.jpg',\n",
       " 'https://iiif.wellcomecollection.org/image/b1220190x_hin-wel-all-00000040_0089.jp2/full/1338,1852/0/default.jpg',\n",
       " 'https://iiif.wellcomecollection.org/image/b28704733_0399.jp2/full/1338,2440/0/default.jpg',\n",
       " 'https://iiif.wellcomecollection.org/image/b32274658_0130.jp2/full/1338,1754/0/default.jpg',\n",
       " 'https://iiif.wellcomecollection.org/image/b31685717_0034.jp2/full/1338,1730/0/default.jpg',\n",
       " 'https://iiif.wellcomecollection.org/image/b18932034_0178.jp2/full/1338,1860/0/default.jpg',\n",
       " 'https://iiif.wellcomecollection.org/image/b28705889_0330.jp2/full/1338,1844/0/default.jpg',\n",
       " 'https://iiif.wellcomecollection.org/image/b33375392_0001.jp2/full/1338,1780/0/default.jpg',\n",
       " 'https://iiif.wellcomecollection.org/image/b20387878_0132.jp2/full/1338,1781/0/default.jpg',\n",
       " 'https://iiif.wellcomecollection.org/image/b32274737_0004.jp2/full/1338,2620/0/default.jpg',\n",
       " 'https://iiif.wellcomecollection.org/image/b28705038_0283.jp2/full/1338,2115/0/default.jpg',\n",
       " 'https://iiif.wellcomecollection.org/image/b2265415x_DGH1_5_1_1_17_0074.JP2/full/1018,1024/0/default.jpg',\n",
       " 'https://iiif.wellcomecollection.org/image/b14565377_0004.jp2/full/1024,1011/0/default.jpg',\n",
       " 'https://iiif.wellcomecollection.org/image/b28705804_0084.jp2/full/1338,2198/0/default.jpg',\n",
       " 'https://iiif.wellcomecollection.org/image/b14827931_0043.jp2/full/1338,1824/0/default.jpg',\n",
       " 'https://iiif.wellcomecollection.org/image/b20387878_0016.jp2/full/1338,1785/0/default.jpg',\n",
       " 'https://iiif.wellcomecollection.org/image/b18896042_MS_2799_0244.JP2/full/995,1024/0/default.jpg',\n",
       " 'https://iiif.wellcomecollection.org/image/b24940069_RET_3_3_2_4_1438.jp2/full/1024,979/0/default.jpg',\n",
       " 'https://iiif.wellcomecollection.org/image/b32274750_0279.jp2/full/1338,2052/0/default.jpg',\n",
       " 'https://iiif.wellcomecollection.org/image/b20616922_galton_1_4_15_3_0019.JP2/full/1024,1018/0/default.jpg',\n",
       " 'https://iiif.wellcomecollection.org/image/b32274580_0019.jp2/full/1338,1816/0/default.jpg',\n",
       " 'https://iiif.wellcomecollection.org/image/b19608718_0034.jp2/full/1338,1874/0/default.jpg',\n",
       " 'https://iiif.wellcomecollection.org/image/b14560999_0110.jp2/full/981,1024/0/default.jpg',\n",
       " 'https://iiif.wellcomecollection.org/image/b14827608_0022.jp2/full/1338,1822/0/default.jpg',\n",
       " 'https://iiif.wellcomecollection.org/image/b32274750_0165.jp2/full/1338,2003/0/default.jpg',\n",
       " 'https://iiif.wellcomecollection.org/image/b28705889_0218.jp2/full/1338,1844/0/default.jpg',\n",
       " 'https://iiif.wellcomecollection.org/image/b32274658_0051.jp2/full/1338,1744/0/default.jpg',\n",
       " 'https://iiif.wellcomecollection.org/image/b28704630_0566.jp2/full/1338,1920/0/default.jpg',\n",
       " 'https://iiif.wellcomecollection.org/image/b32274750_0053.jp2/full/1338,2248/0/default.jpg',\n",
       " 'https://iiif.wellcomecollection.org/image/b19108801_0100.jp2/full/1338,1592/0/default.jpg',\n",
       " 'https://iiif.wellcomecollection.org/image/b10916180_hin-wel-all-00012288_0195.jp2/full/988,1024/0/default.jpg',\n",
       " 'https://iiif.wellcomecollection.org/image/b19505061_0063.jp2/full/1338,1749/0/default.jpg',\n",
       " 'https://iiif.wellcomecollection.org/image/b3324960x_0001.jp2/full/1338,1059/0/default.jpg',\n",
       " 'https://iiif.wellcomecollection.org/image/b14871749_0097.jp2/full/1338,930/0/default.jpg',\n",
       " 'https://iiif.wellcomecollection.org/image/b32274592_0095.jp2/full/1338,1926/0/default.jpg',\n",
       " 'https://iiif.wellcomecollection.org/image/b29277206_RET_6_20_1_8_63_0114.jp2/full/977,1024/0/default.jpg',\n",
       " 'https://iiif.wellcomecollection.org/image/b14846275_0376.jp2/full/1338,2075/0/default.jpg',\n",
       " 'https://iiif.wellcomecollection.org/image/b18576795_0895.jp2/full/1338,1977/0/default.jpg',\n",
       " 'https://iiif.wellcomecollection.org/image/b18932034_0072.jp2/full/1338,1893/0/default.jpg',\n",
       " 'https://iiif.wellcomecollection.org/image/b28705786_0414.jp2/full/1338,1575/0/default.jpg',\n",
       " 'https://iiif.wellcomecollection.org/image/b18896042_MS_2799_0188.JP2/full/986,1024/0/default.jpg',\n",
       " 'https://iiif.wellcomecollection.org/image/b19096550_0041.jp2/full/1338,1884/0/default.jpg',\n",
       " 'https://iiif.wellcomecollection.org/image/b28705889_0099.jp2/full/1338,1914/0/default.jpg',\n",
       " 'https://iiif.wellcomecollection.org/image/b28705804_0412.jp2/full/1338,2004/0/default.jpg',\n",
       " 'https://iiif.wellcomecollection.org/image/b21899769_ret_1_1_5_15_0143.JP2/full/999,1024/0/default.jpg',\n",
       " 'https://iiif.wellcomecollection.org/image/b2022476x_penrose_2_24_6_2_1_0102.JP2/full/1338,1710/0/default.jpg',\n",
       " 'https://iiif.wellcomecollection.org/image/b30540471_0106.jp2/full/1338,2045/0/default.jpg',\n",
       " 'https://iiif.wellcomecollection.org/image/b28705038_0208.jp2/full/1338,1986/0/default.jpg',\n",
       " 'https://iiif.wellcomecollection.org/image/b28704733_0709.jp2/full/1338,2379/0/default.jpg',\n",
       " 'https://iiif.wellcomecollection.org/image/b28976794_0026.jp2/full/1338,1685/0/default.jpg',\n",
       " 'https://iiif.wellcomecollection.org/image/b19191728_0041.jp2/full/1338,1637/0/default.jpg',\n",
       " 'https://iiif.wellcomecollection.org/image/b31685717_0023.jp2/full/1338,1742/0/default.jpg',\n",
       " 'https://iiif.wellcomecollection.org/image/b18576795_0596.jp2/full/1338,2037/0/default.jpg',\n",
       " 'https://iiif.wellcomecollection.org/image/b33585489_0286.jp2/full/1338,2372/0/default.jpg',\n",
       " 'https://iiif.wellcomecollection.org/image/b19505061_0594.jp2/full/1338,1644/0/default.jpg',\n",
       " 'https://iiif.wellcomecollection.org/image/b2493625x_RET_3_3_2_16_1462.jp2/full/992,1024/0/default.jpg',\n",
       " 'https://iiif.wellcomecollection.org/image/b31854345_0033.jp2/full/1010,1024/0/default.jpg',\n",
       " 'https://iiif.wellcomecollection.org/image/b33537525_0407.jp2/full/1338,2043/0/default.jpg',\n",
       " 'https://iiif.wellcomecollection.org/image/b18693441_0401.jp2/full/1338,2113/0/default.jpg',\n",
       " 'https://iiif.wellcomecollection.org/image/b33585489_0009.jp2/full/1338,2060/0/default.jpg',\n",
       " 'https://iiif.wellcomecollection.org/image/b18508078_RAMC_1091_2_9_0155.jp2/full/1024,1007/0/default.jpg',\n",
       " 'https://iiif.wellcomecollection.org/image/b33381276_0001.jp2/full/1338,1854/0/default.jpg',\n",
       " 'https://iiif.wellcomecollection.org/image/b31685717_0004.jp2/full/1338,1738/0/default.jpg',\n",
       " 'https://iiif.wellcomecollection.org/image/b20224990_penrose_2_24_6_5_7_0001.JP2/full/1338,2090/0/default.jpg',\n",
       " 'https://iiif.wellcomecollection.org/image/b33537525_0338.jp2/full/1338,2077/0/default.jpg',\n",
       " 'https://iiif.wellcomecollection.org/image/b32274610_0040.jp2/full/1338,1795/0/default.jpg',\n",
       " 'https://iiif.wellcomecollection.org/image/b18693441_0005.jp2/full/1338,2028/0/default.jpg',\n",
       " 'https://iiif.wellcomecollection.org/image/b32274695_0068.jp2/full/1338,1784/0/default.jpg',\n",
       " 'https://iiif.wellcomecollection.org/image/b24954809_RET_6_19_1_147_1269.jp2/full/1024,1019/0/default.jpg',\n",
       " 'https://iiif.wellcomecollection.org/image/b18896042_MS_2799_0364.JP2/full/991,1024/0/default.jpg',\n",
       " 'https://iiif.wellcomecollection.org/image/b28704940_0279.jp2/full/1338,1541/0/default.jpg',\n",
       " 'https://iiif.wellcomecollection.org/image/b33505056_0001.jp2/full/1338,1187/0/default.jpg',\n",
       " 'https://iiif.wellcomecollection.org/image/b19287355_0099.jp2/full/1338,1629/0/default.jpg',\n",
       " 'https://iiif.wellcomecollection.org/image/b18710542_ms_6719_0005.JP2/full/1024,985/0/default.jpg',\n",
       " 'https://iiif.wellcomecollection.org/image/b30540471_0342.jp2/full/1338,1991/0/default.jpg',\n",
       " 'https://iiif.wellcomecollection.org/image/b32274555_0191.jp2/full/1338,1958/0/default.jpg',\n",
       " 'https://iiif.wellcomecollection.org/image/b11058286_0753.jp2/full/3704,5384/0/default.jpg',\n",
       " 'https://iiif.wellcomecollection.org/image/b19287355_0166.jp2/full/1338,1682/0/default.jpg',\n",
       " 'https://iiif.wellcomecollection.org/image/b28705786_0405.jp2/full/1338,1575/0/default.jpg',\n",
       " 'https://iiif.wellcomecollection.org/image/b18417383_0079.jp2/full/1338,1657/0/default.jpg',\n",
       " 'https://iiif.wellcomecollection.org/image/b3323663x_0001.jp2/full/1338,2131/0/default.jpg',\n",
       " 'https://iiif.wellcomecollection.org/image/b32274555_0399.jp2/full/1338,1927/0/default.jpg',\n",
       " 'https://iiif.wellcomecollection.org/image/b19505061_0353.jp2/full/1338,1647/0/default.jpg',\n",
       " 'https://iiif.wellcomecollection.org/image/b28705889_0259.jp2/full/1338,1914/0/default.jpg',\n",
       " 'https://iiif.wellcomecollection.org/image/b32274683_0103.jp2/full/1338,1671/0/default.jpg',\n",
       " 'https://iiif.wellcomecollection.org/image/b19287355_0050.jp2/full/1338,1652/0/default.jpg',\n",
       " 'https://iiif.wellcomecollection.org/image/b33378599_0001.jp2/full/1338,1157/0/default.jpg',\n",
       " 'https://iiif.wellcomecollection.org/image/b20387878_0075.jp2/full/1338,1778/0/default.jpg',\n",
       " 'https://iiif.wellcomecollection.org/image/b2022476x_penrose_2_24_6_2_5_0002.JP2/full/1338,2049/0/default.jpg',\n",
       " 'https://iiif.wellcomecollection.org/image/b28705804_0233.jp2/full/1338,2152/0/default.jpg',\n",
       " 'https://iiif.wellcomecollection.org/image/b19541818_0135.jp2/full/1338,2063/0/default.jpg',\n",
       " 'https://iiif.wellcomecollection.org/image/b32274580_0041.jp2/full/1338,1797/0/default.jpg',\n",
       " 'https://iiif.wellcomecollection.org/image/b20614548_galton_02_08_01_13_08_0011.JP2/full/1006,1024/0/default.jpg',\n",
       " 'https://iiif.wellcomecollection.org/image/b28705269_0102.jp2/full/1338,1805/0/default.jpg',\n",
       " 'https://iiif.wellcomecollection.org/image/b28705427_0330.jp2/full/1338,2154/0/default.jpg',\n",
       " 'https://iiif.wellcomecollection.org/image/b33377492_0001.jp2/full/1338,1541/0/default.jpg',\n",
       " 'https://iiif.wellcomecollection.org/image/b24946448_RET_3_3_2_11_0310.jp2/full/1024,987/0/default.jpg',\n",
       " 'https://iiif.wellcomecollection.org/image/b19575397_0095.jp2/full/1338,2021/0/default.jpg',\n",
       " 'https://iiif.wellcomecollection.org/image/b32892354_0497.JP2/full/997,1024/0/default.jpg',\n",
       " 'https://iiif.wellcomecollection.org/image/b28704733_0291.jp2/full/1338,2338/0/default.jpg',\n",
       " 'https://iiif.wellcomecollection.org/image/b32274683_0079.jp2/full/1338,1651/0/default.jpg',\n",
       " 'https://iiif.wellcomecollection.org/image/b18306019_WA_HMM_CO_Ear_937_0007.jp2/full/1024,979/0/default.jpg',\n",
       " 'https://iiif.wellcomecollection.org/image/b20387878_0085.jp2/full/1338,1747/0/default.jpg',\n",
       " 'https://iiif.wellcomecollection.org/image/b33537525_0828.jp2/full/1338,1980/0/default.jpg',\n",
       " 'https://iiif.wellcomecollection.org/image/b22654896_DGH1_5_1_1_19_0018.JP2/full/991,1024/0/default.jpg',\n",
       " 'https://iiif.wellcomecollection.org/image/b28704630_0334.jp2/full/1338,1932/0/default.jpg',\n",
       " 'https://iiif.wellcomecollection.org/image/b28705786_0299.jp2/full/1338,1625/0/default.jpg',\n",
       " 'https://iiif.wellcomecollection.org/image/b19287355_0144.jp2/full/1338,1665/0/default.jpg',\n",
       " 'https://iiif.wellcomecollection.org/image/b28704733_0603.jp2/full/1338,2410/0/default.jpg',\n",
       " 'https://iiif.wellcomecollection.org/image/b33374120_0001.jp2/full/1338,1323/0/default.jpg',\n",
       " 'https://iiif.wellcomecollection.org/image/b32274737_0007.jp2/full/1338,2079/0/default.jpg',\n",
       " 'https://iiif.wellcomecollection.org/image/b28704940_0223.jp2/full/1338,1540/0/default.jpg',\n",
       " 'https://iiif.wellcomecollection.org/image/b19505061_0525.jp2/full/1338,1749/0/default.jpg',\n",
       " 'https://iiif.wellcomecollection.org/image/b28705579_0034.jp2/full/1338,850/0/default.jpg',\n",
       " 'https://iiif.wellcomecollection.org/image/b32274750_0112.jp2/full/1338,2155/0/default.jpg',\n",
       " 'https://iiif.wellcomecollection.org/image/b19012676_0283.jp2/full/1338,1845/0/default.jpg',\n",
       " 'https://iiif.wellcomecollection.org/image/b28705853_0028.jp2/full/1338,2280/0/default.jpg',\n",
       " 'https://iiif.wellcomecollection.org/image/b19314164_0054.jp2/full/1338,1601/0/default.jpg',\n",
       " 'https://iiif.wellcomecollection.org/image/b19505061_0644.jp2/full/1338,1606/0/default.jpg',\n",
       " 'https://iiif.wellcomecollection.org/image/b22654860_DGH1_5_27_6_0030.JP2/full/1002,1024/0/default.jpg',\n",
       " 'https://iiif.wellcomecollection.org/image/b28705427_0267.jp2/full/1338,2286/0/default.jpg',\n",
       " 'https://iiif.wellcomecollection.org/image/b19311904_0113.jp2/full/1338,1815/0/default.jpg',\n",
       " 'https://iiif.wellcomecollection.org/image/b28705038_0123.jp2/full/1338,2116/0/default.jpg',\n",
       " 'https://iiif.wellcomecollection.org/image/b28705737_0051.jp2/full/1338,2064/0/default.jpg',\n",
       " 'https://iiif.wellcomecollection.org/image/b14827931_0039.jp2/full/1338,1829/0/default.jpg',\n",
       " 'https://iiif.wellcomecollection.org/image/b17287510_0001.jp2/full/1338,1804/0/default.jpg',\n",
       " 'https://iiif.wellcomecollection.org/image/b29279483_RET_6_20_1_16_44_0015.jp2/full/993,1024/0/default.jpg',\n",
       " 'https://iiif.wellcomecollection.org/image/b28705038_0091.jp2/full/1338,2116/0/default.jpg',\n",
       " 'https://iiif.wellcomecollection.org/image/b2265415x_DGH1_5_1_1_17_0004.JP2/full/997,1024/0/default.jpg',\n",
       " ...]"
      ]
     },
     "execution_count": 3,
     "metadata": {},
     "output_type": "execute_result"
    }
   ],
   "source": [
    "import pandas as pd\n",
    "\n",
    "df_image_indices = pd.read_parquet(\n",
    "    '../data/vlm_embed/iiif_no_text_embedding_index.parquet')\n",
    "df_image_indices = df_image_indices.set_index('row_index')\n",
    "df_image_indices['image_id'].to_list()"
   ]
  },
  {
   "cell_type": "code",
   "execution_count": 12,
   "id": "f6b613a4",
   "metadata": {},
   "outputs": [
    {
     "data": {
      "text/plain": [
       "array(['https://iiif.wellcomecollection.org/image/b14755117_0076.jp2/full/1338,1353/0/default.jpg',\n",
       "       'https://iiif.wellcomecollection.org/image/b18758897_0179.jp2/full/1338,1856/0/default.jpg',\n",
       "       'https://iiif.wellcomecollection.org/image/b33249519_0001.jp2/full/1338,935/0/default.jpg',\n",
       "       ...,\n",
       "       'https://iiif.wellcomecollection.org/image/b18758897_0204.jp2/full/1338,1713/0/default.jpg',\n",
       "       'https://iiif.wellcomecollection.org/image/b18318162_0115.jp2/full/1338,1898/0/default.jpg',\n",
       "       'https://iiif.wellcomecollection.org/image/b2493625x_RET_3_3_2_16_0570.jp2/full/1024,1017/0/default.jpg'],\n",
       "      dtype=object)"
      ]
     },
     "execution_count": 12,
     "metadata": {},
     "output_type": "execute_result"
    }
   ],
   "source": [
    "# select the image indices for the subset\n",
    "subset_images = df_image_indices.loc[subset_idx].values\n",
    "subset_images = np.reshape(subset_images, (-1))\n",
    "subset_images"
   ]
  },
  {
   "cell_type": "code",
   "execution_count": 13,
   "id": "68a4158e",
   "metadata": {},
   "outputs": [
    {
     "data": {
      "text/plain": [
       "array([[ 9.394396  ,  7.2479796 ],\n",
       "       [ 1.9158536 ,  8.637921  ],\n",
       "       [-0.25186992, 10.690093  ],\n",
       "       ...,\n",
       "       [ 3.639392  ,  7.611991  ],\n",
       "       [ 0.04486572,  5.220537  ],\n",
       "       [-4.1493754 ,  7.1644235 ]], dtype=float32)"
      ]
     },
     "execution_count": 13,
     "metadata": {},
     "output_type": "execute_result"
    }
   ],
   "source": [
    "import umap\n",
    "import plotly.express as px\n",
    "\n",
    "centered = subset - subset.mean(axis=0)\n",
    "U, S, Vt = np.linalg.svd(centered, full_matrices=False)\n",
    "whitened = centered @ Vt.T / S\n",
    "\n",
    "# UMAP\n",
    "umap_model = umap.UMAP(n_neighbors=15, n_components=2, metric='euclidean')\n",
    "umap_2d_embeddings = umap_model.fit_transform(whitened)\n",
    "umap_2d_embeddings"
   ]
  },
  {
   "cell_type": "markdown",
   "id": "871df71e",
   "metadata": {},
   "source": [
    "# Plot with Images"
   ]
  },
  {
   "cell_type": "code",
   "execution_count": 16,
   "id": "4294ff2f",
   "metadata": {},
   "outputs": [],
   "source": [
    "from io import BytesIO\n",
    "from PIL import Image, ImageOps\n",
    "import base64\n",
    "import requests\n",
    "import requests_cache\n",
    "\n",
    "\n",
    "from concurrent.futures import ThreadPoolExecutor, as_completed\n",
    "\n",
    "# Optional: on-disk HTTP cache (pip install requests-cache) to avoid\n",
    "# re-downloading\n",
    "try:\n",
    "    session = requests_cache.CachedSession(\n",
    "        'img_cache',\n",
    "        backend='sqlite',\n",
    "        expire_after=7 * 24 * 3600,  # 7 days\n",
    "        allowable_methods=('GET',),\n",
    "        allowable_codes=(200,),\n",
    "    )\n",
    "except Exception:\n",
    "    session = requests.Session()\n",
    "\n",
    "\n",
    "def embeddable_jpeg(url, max_side=512, timeout=10):\n",
    "    \"\"\"Fetch JPEG at URL, scale longest side to max_side (keep aspect), return data:image/jpeg;base64,...\"\"\"\n",
    "    r = session.get(url, timeout=timeout, stream=True)\n",
    "    r.raise_for_status()\n",
    "\n",
    "    # Decode + correct EXIF orientation\n",
    "    img = Image.open(r.raw)\n",
    "    img = ImageOps.exif_transpose(img).convert(\"RGB\")\n",
    "\n",
    "    # Scale proportionally: longest side = max_side\n",
    "    w, h = img.size\n",
    "    scale = max_side / max(w, h) if max(w, h) > max_side else 1.0\n",
    "    if scale != 1.0:\n",
    "        img = img.resize((int(w * scale), int(h * scale)),\n",
    "                         Image.Resampling.LANCZOS)\n",
    "\n",
    "    # Encode JPEG efficiently (smaller payloads = faster base64 + render)\n",
    "    buf = BytesIO()\n",
    "    img.save(buf, format=\"JPEG\", quality=70, optimize=True, progressive=True)\n",
    "    return \"data:image/jpeg;base64,\" + \\\n",
    "        base64.b64encode(buf.getvalue()).decode()\n",
    "\n",
    "\n",
    "def batch_embeddable_jpeg(urls, max_side=512, max_workers=16, timeout=10):\n",
    "    \"\"\"Deduplicate, parallelize, and preserve order.\"\"\"\n",
    "    # Deduplicate to avoid repeated downloads\n",
    "    unique_urls = list(dict.fromkeys(urls))\n",
    "    results_map = {}\n",
    "\n",
    "    def _wrap(u):\n",
    "        try:\n",
    "            return u, embeddable_jpeg(u, max_side=max_side, timeout=timeout)\n",
    "        except Exception:\n",
    "            return u, None  # or a tiny placeholder\n",
    "\n",
    "    with ThreadPoolExecutor(max_workers=max_workers) as ex:\n",
    "        futs = [ex.submit(_wrap, u) for u in unique_urls]\n",
    "        for fut in as_completed(futs):\n",
    "            u, val = fut.result()\n",
    "            results_map[u] = val\n",
    "\n",
    "    # Re-expand to original order\n",
    "    return [results_map.get(u) for u in urls]\n",
    "\n",
    "# Normalize whitened x, y, z to [0, 1] for RGB\n",
    "\n",
    "\n",
    "def normalize(arr):\n",
    "    min_val = arr.min()\n",
    "    max_val = arr.max()\n",
    "    return (arr - min_val) / (max_val - min_val + 1e-8)\n",
    "\n",
    "# Convert to hex color\n",
    "def rgb_to_hex(r, g, b):\n",
    "    return ['#%02x%02x%02x' % (int(255 * x), int(255 * y), int(255 * z))\n",
    "            for x, y, z in zip(r, g, b)]"
   ]
  },
  {
   "cell_type": "code",
   "execution_count": 17,
   "id": "93ca41ae",
   "metadata": {},
   "outputs": [],
   "source": [
    "images_df = pd.DataFrame(umap_2d_embeddings, columns=('x', 'y'))\n",
    "images_df['image'] = batch_embeddable_jpeg(\n",
    "    subset_images, max_side=512, max_workers=16)\n",
    "images_df['idx'] = subset_idx"
   ]
  },
  {
   "cell_type": "code",
   "execution_count": 18,
   "id": "53401c37",
   "metadata": {},
   "outputs": [],
   "source": [
    "r = normalize(whitened[:, 0])\n",
    "g = normalize(whitened[:, 1])\n",
    "b = normalize(whitened[:, 2])\n",
    "\n",
    "images_df['color'] = rgb_to_hex(r, g, b)"
   ]
  },
  {
   "cell_type": "code",
   "execution_count": 19,
   "id": "dd3ba352",
   "metadata": {},
   "outputs": [],
   "source": [
    "# Write parquet\n",
    "images_df.to_parquet('../data/vlm_embed/iiif_no_text_umap_2d_vlm_embed_vae3d_hires_1_umap_2d_plot.parquet')"
   ]
  },
  {
   "cell_type": "code",
   "execution_count": 20,
   "id": "70a868be",
   "metadata": {},
   "outputs": [],
   "source": [
    "import pandas as pd\n",
    "# Load the data\n",
    "images_df = pd.read_parquet(\n",
    "    '../data/vlm_embed/iiif_no_text_umap_2d_vlm_embed_vae3d_hires_1_umap_2d_plot.parquet')"
   ]
  },
  {
   "cell_type": "code",
   "execution_count": 21,
   "id": "701abe8a",
   "metadata": {},
   "outputs": [
    {
     "data": {
      "text/html": [
       "    <style>\n",
       "        .bk-notebook-logo {\n",
       "            display: block;\n",
       "            width: 20px;\n",
       "            height: 20px;\n",
       "            background-image: url(data:image/png;base64,iVBORw0KGgoAAAANSUhEUgAAABQAAAAUCAYAAACNiR0NAAAABHNCSVQICAgIfAhkiAAAAAlwSFlzAAALEgAACxIB0t1+/AAAABx0RVh0U29mdHdhcmUAQWRvYmUgRmlyZXdvcmtzIENTNui8sowAAAOkSURBVDiNjZRtaJVlGMd/1/08zzln5zjP1LWcU9N0NkN8m2CYjpgQYQXqSs0I84OLIC0hkEKoPtiH3gmKoiJDU7QpLgoLjLIQCpEsNJ1vqUOdO7ppbuec5+V+rj4ctwzd8IIbbi6u+8f1539dt3A78eXC7QizUF7gyV1fD1Yqg4JWz84yffhm0qkFqBogB9rM8tZdtwVsPUhWhGcFJngGeWrPzHm5oaMmkfEg1usvLFyc8jLRqDOMru7AyC8saQr7GG7f5fvDeH7Ej8CM66nIF+8yngt6HWaKh7k49Soy9nXurCi1o3qUbS3zWfrYeQDTB/Qj6kX6Ybhw4B+bOYoLKCC9H3Nu/leUTZ1JdRWkkn2ldcCamzrcf47KKXdAJllSlxAOkRgyHsGC/zRday5Qld9DyoM4/q/rUoy/CXh3jzOu3bHUVZeU+DEn8FInkPBFlu3+nW3Nw0mk6vCDiWg8CeJaxEwuHS3+z5RgY+YBR6V1Z1nxSOfoaPa4LASWxxdNp+VWTk7+4vzaou8v8PN+xo+KY2xsw6une2frhw05CTYOmQvsEhjhWjn0bmXPjpE1+kplmmkP3suftwTubK9Vq22qKmrBhpY4jvd5afdRA3wGjFAgcnTK2s4hY0/GPNIb0nErGMCRxWOOX64Z8RAC4oCXdklmEvcL8o0BfkNK4lUg9HTl+oPlQxdNo3Mg4Nv175e/1LDGzZen30MEjRUtmXSfiTVu1kK8W4txyV6BMKlbgk3lMwYCiusNy9fVfvvwMxv8Ynl6vxoByANLTWplvuj/nF9m2+PDtt1eiHPBr1oIfhCChQMBw6Aw0UulqTKZdfVvfG7VcfIqLG9bcldL/+pdWTLxLUy8Qq38heUIjh4XlzZxzQm19lLFlr8vdQ97rjZVOLf8nclzckbcD4wxXMidpX30sFd37Fv/GtwwhzhxGVAprjbg0gCAEeIgwCZyTV2Z1REEW8O4py0wsjeloKoMr6iCY6dP92H6Vw/oTyICIthibxjm/DfN9lVz8IqtqKYLUXfoKVMVQVVJOElGjrnnUt9T9wbgp8AyYKaGlqingHZU/uG2NTZSVqwHQTWkx9hxjkpWDaCg6Ckj5qebgBVbT3V3NNXMSiWSDdGV3hrtzla7J+duwPOToIg42ChPQOQjspnSlp1V+Gjdged7+8UN5CRAV7a5EdFNwCjEaBR27b3W890TE7g24NAP/mMDXRWrGoFPQI9ls/MWO2dWFAar/xcOIImbbpA3zgAAAABJRU5ErkJggg==);\n",
       "        }\n",
       "    </style>\n",
       "    <div>\n",
       "        <a href=\"https://bokeh.org\" target=\"_blank\" class=\"bk-notebook-logo\"></a>\n",
       "        <span id=\"b09c4d75-41d9-42d9-a970-e24dfe5983e8\">Loading BokehJS ...</span>\n",
       "    </div>\n"
      ]
     },
     "metadata": {},
     "output_type": "display_data"
    },
    {
     "data": {
      "application/javascript": "'use strict';\n(function(root) {\n  function now() {\n    return new Date();\n  }\n\n  const force = true;\n\n  if (typeof root._bokeh_onload_callbacks === \"undefined\" || force === true) {\n    root._bokeh_onload_callbacks = [];\n    root._bokeh_is_loading = undefined;\n  }\n\nconst JS_MIME_TYPE = 'application/javascript';\n  const HTML_MIME_TYPE = 'text/html';\n  const EXEC_MIME_TYPE = 'application/vnd.bokehjs_exec.v0+json';\n  const CLASS_NAME = 'output_bokeh rendered_html';\n\n  /**\n   * Render data to the DOM node\n   */\n  function render(props, node) {\n    const script = document.createElement(\"script\");\n    node.appendChild(script);\n  }\n\n  /**\n   * Handle when an output is cleared or removed\n   */\n  function handleClearOutput(event, handle) {\n    function drop(id) {\n      const view = Bokeh.index.get_by_id(id)\n      if (view != null) {\n        view.model.document.clear()\n        Bokeh.index.delete(view)\n      }\n    }\n\n    const cell = handle.cell;\n\n    const id = cell.output_area._bokeh_element_id;\n    const server_id = cell.output_area._bokeh_server_id;\n\n    // Clean up Bokeh references\n    if (id != null) {\n      drop(id)\n    }\n\n    if (server_id !== undefined) {\n      // Clean up Bokeh references\n      const cmd_clean = \"from bokeh.io.state import curstate; print(curstate().uuid_to_server['\" + server_id + \"'].get_sessions()[0].document.roots[0]._id)\";\n      cell.notebook.kernel.execute(cmd_clean, {\n        iopub: {\n          output: function(msg) {\n            const id = msg.content.text.trim()\n            drop(id)\n          }\n        }\n      });\n      // Destroy server and session\n      const cmd_destroy = \"import bokeh.io.notebook as ion; ion.destroy_server('\" + server_id + \"')\";\n      cell.notebook.kernel.execute(cmd_destroy);\n    }\n  }\n\n  /**\n   * Handle when a new output is added\n   */\n  function handleAddOutput(event, handle) {\n    const output_area = handle.output_area;\n    const output = handle.output;\n\n    // limit handleAddOutput to display_data with EXEC_MIME_TYPE content only\n    if ((output.output_type != \"display_data\") || (!Object.prototype.hasOwnProperty.call(output.data, EXEC_MIME_TYPE))) {\n      return\n    }\n\n    const toinsert = output_area.element.find(\".\" + CLASS_NAME.split(' ')[0]);\n\n    if (output.metadata[EXEC_MIME_TYPE][\"id\"] !== undefined) {\n      toinsert[toinsert.length - 1].firstChild.textContent = output.data[JS_MIME_TYPE];\n      // store reference to embed id on output_area\n      output_area._bokeh_element_id = output.metadata[EXEC_MIME_TYPE][\"id\"];\n    }\n    if (output.metadata[EXEC_MIME_TYPE][\"server_id\"] !== undefined) {\n      const bk_div = document.createElement(\"div\");\n      bk_div.innerHTML = output.data[HTML_MIME_TYPE];\n      const script_attrs = bk_div.children[0].attributes;\n      for (let i = 0; i < script_attrs.length; i++) {\n        toinsert[toinsert.length - 1].firstChild.setAttribute(script_attrs[i].name, script_attrs[i].value);\n        toinsert[toinsert.length - 1].firstChild.textContent = bk_div.children[0].textContent\n      }\n      // store reference to server id on output_area\n      output_area._bokeh_server_id = output.metadata[EXEC_MIME_TYPE][\"server_id\"];\n    }\n  }\n\n  function register_renderer(events, OutputArea) {\n\n    function append_mime(data, metadata, element) {\n      // create a DOM node to render to\n      const toinsert = this.create_output_subarea(\n        metadata,\n        CLASS_NAME,\n        EXEC_MIME_TYPE\n      );\n      this.keyboard_manager.register_events(toinsert);\n      // Render to node\n      const props = {data: data, metadata: metadata[EXEC_MIME_TYPE]};\n      render(props, toinsert[toinsert.length - 1]);\n      element.append(toinsert);\n      return toinsert\n    }\n\n    /* Handle when an output is cleared or removed */\n    events.on('clear_output.CodeCell', handleClearOutput);\n    events.on('delete.Cell', handleClearOutput);\n\n    /* Handle when a new output is added */\n    events.on('output_added.OutputArea', handleAddOutput);\n\n    /**\n     * Register the mime type and append_mime function with output_area\n     */\n    OutputArea.prototype.register_mime_type(EXEC_MIME_TYPE, append_mime, {\n      /* Is output safe? */\n      safe: true,\n      /* Index of renderer in `output_area.display_order` */\n      index: 0\n    });\n  }\n\n  // register the mime type if in Jupyter Notebook environment and previously unregistered\n  if (root.Jupyter !== undefined) {\n    const events = require('base/js/events');\n    const OutputArea = require('notebook/js/outputarea').OutputArea;\n\n    if (OutputArea.prototype.mime_types().indexOf(EXEC_MIME_TYPE) == -1) {\n      register_renderer(events, OutputArea);\n    }\n  }\n  if (typeof (root._bokeh_timeout) === \"undefined\" || force === true) {\n    root._bokeh_timeout = Date.now() + 5000;\n    root._bokeh_failed_load = false;\n  }\n\n  const NB_LOAD_WARNING = {'data': {'text/html':\n     \"<div style='background-color: #fdd'>\\n\"+\n     \"<p>\\n\"+\n     \"BokehJS does not appear to have successfully loaded. If loading BokehJS from CDN, this \\n\"+\n     \"may be due to a slow or bad network connection. Possible fixes:\\n\"+\n     \"</p>\\n\"+\n     \"<ul>\\n\"+\n     \"<li>re-rerun `output_notebook()` to attempt to load from CDN again, or</li>\\n\"+\n     \"<li>use INLINE resources instead, as so:</li>\\n\"+\n     \"</ul>\\n\"+\n     \"<code>\\n\"+\n     \"from bokeh.resources import INLINE\\n\"+\n     \"output_notebook(resources=INLINE)\\n\"+\n     \"</code>\\n\"+\n     \"</div>\"}};\n\n  function display_loaded(error = null) {\n    const el = document.getElementById(\"b09c4d75-41d9-42d9-a970-e24dfe5983e8\");\n    if (el != null) {\n      const html = (() => {\n        if (typeof root.Bokeh === \"undefined\") {\n          if (error == null) {\n            return \"BokehJS is loading ...\";\n          } else {\n            return \"BokehJS failed to load.\";\n          }\n        } else {\n          const prefix = `BokehJS ${root.Bokeh.version}`;\n          if (error == null) {\n            return `${prefix} successfully loaded.`;\n          } else {\n            return `${prefix} <b>encountered errors</b> while loading and may not function as expected.`;\n          }\n        }\n      })();\n      el.innerHTML = html;\n\n      if (error != null) {\n        const wrapper = document.createElement(\"div\");\n        wrapper.style.overflow = \"auto\";\n        wrapper.style.height = \"5em\";\n        wrapper.style.resize = \"vertical\";\n        const content = document.createElement(\"div\");\n        content.style.fontFamily = \"monospace\";\n        content.style.whiteSpace = \"pre-wrap\";\n        content.style.backgroundColor = \"rgb(255, 221, 221)\";\n        content.textContent = error.stack ?? error.toString();\n        wrapper.append(content);\n        el.append(wrapper);\n      }\n    } else if (Date.now() < root._bokeh_timeout) {\n      setTimeout(() => display_loaded(error), 100);\n    }\n  }\n\n  function run_callbacks() {\n    try {\n      root._bokeh_onload_callbacks.forEach(function(callback) {\n        if (callback != null)\n          callback();\n      });\n    } finally {\n      delete root._bokeh_onload_callbacks\n    }\n    console.debug(\"Bokeh: all callbacks have finished\");\n  }\n\n  function load_libs(css_urls, js_urls, callback) {\n    if (css_urls == null) css_urls = [];\n    if (js_urls == null) js_urls = [];\n\n    root._bokeh_onload_callbacks.push(callback);\n    if (root._bokeh_is_loading > 0) {\n      console.debug(\"Bokeh: BokehJS is being loaded, scheduling callback at\", now());\n      return null;\n    }\n    if (js_urls == null || js_urls.length === 0) {\n      run_callbacks();\n      return null;\n    }\n    console.debug(\"Bokeh: BokehJS not loaded, scheduling load and callback at\", now());\n    root._bokeh_is_loading = css_urls.length + js_urls.length;\n\n    function on_load() {\n      root._bokeh_is_loading--;\n      if (root._bokeh_is_loading === 0) {\n        console.debug(\"Bokeh: all BokehJS libraries/stylesheets loaded\");\n        run_callbacks()\n      }\n    }\n\n    function on_error(url) {\n      console.error(\"failed to load \" + url);\n    }\n\n    for (let i = 0; i < css_urls.length; i++) {\n      const url = css_urls[i];\n      const element = document.createElement(\"link\");\n      element.onload = on_load;\n      element.onerror = on_error.bind(null, url);\n      element.rel = \"stylesheet\";\n      element.type = \"text/css\";\n      element.href = url;\n      console.debug(\"Bokeh: injecting link tag for BokehJS stylesheet: \", url);\n      document.body.appendChild(element);\n    }\n\n    for (let i = 0; i < js_urls.length; i++) {\n      const url = js_urls[i];\n      const element = document.createElement('script');\n      element.onload = on_load;\n      element.onerror = on_error.bind(null, url);\n      element.async = false;\n      element.src = url;\n      console.debug(\"Bokeh: injecting script tag for BokehJS library: \", url);\n      document.head.appendChild(element);\n    }\n  };\n\n  function inject_raw_css(css) {\n    const element = document.createElement(\"style\");\n    element.appendChild(document.createTextNode(css));\n    document.body.appendChild(element);\n  }\n\n  const js_urls = [\"https://cdn.bokeh.org/bokeh/release/bokeh-3.8.0.min.js\", \"https://cdn.bokeh.org/bokeh/release/bokeh-gl-3.8.0.min.js\", \"https://cdn.bokeh.org/bokeh/release/bokeh-widgets-3.8.0.min.js\", \"https://cdn.bokeh.org/bokeh/release/bokeh-tables-3.8.0.min.js\", \"https://cdn.bokeh.org/bokeh/release/bokeh-mathjax-3.8.0.min.js\"];\n  const css_urls = [];\n\n  const inline_js = [    function(Bokeh) {\n      Bokeh.set_log_level(\"info\");\n    },\nfunction(Bokeh) {\n    }\n  ];\n\n  function run_inline_js() {\n    if (root.Bokeh !== undefined || force === true) {\n      try {\n            for (let i = 0; i < inline_js.length; i++) {\n      inline_js[i].call(root, root.Bokeh);\n    }\n\n      } catch (error) {display_loaded(error);throw error;\n      }if (force === true) {\n        display_loaded();\n      }} else if (Date.now() < root._bokeh_timeout) {\n      setTimeout(run_inline_js, 100);\n    } else if (!root._bokeh_failed_load) {\n      console.log(\"Bokeh: BokehJS failed to load within specified timeout.\");\n      root._bokeh_failed_load = true;\n    } else if (force !== true) {\n      const cell = $(document.getElementById(\"b09c4d75-41d9-42d9-a970-e24dfe5983e8\")).parents('.cell').data().cell;\n      cell.output_area.append_execute_result(NB_LOAD_WARNING)\n    }\n  }\n\n  if (root._bokeh_is_loading === 0) {\n    console.debug(\"Bokeh: BokehJS loaded, going straight to plotting\");\n    run_inline_js();\n  } else {\n    load_libs(css_urls, js_urls, function() {\n      console.debug(\"Bokeh: BokehJS plotting callback run at\", now());\n      run_inline_js();\n    });\n  }\n}(window));",
      "application/vnd.bokehjs_load.v0+json": ""
     },
     "metadata": {},
     "output_type": "display_data"
    }
   ],
   "source": [
    "from bokeh.plotting import figure, show, output_notebook\n",
    "from bokeh.models import HoverTool, ColumnDataSource, CategoricalColorMapper\n",
    "from bokeh.palettes import Spectral10\n",
    "\n",
    "output_notebook()"
   ]
  },
  {
   "cell_type": "code",
   "execution_count": 22,
   "id": "abb2c2a0",
   "metadata": {},
   "outputs": [
    {
     "data": {
      "text/html": [
       "<div style=\"display: table;\"><div style=\"display: table-row;\"><div style=\"display: table-cell;\"><b title=\"bokeh.models.renderers.glyph_renderer.GlyphRenderer\">GlyphRenderer</b>(</div><div style=\"display: table-cell;\">id&nbsp;=&nbsp;'p1043', <span id=\"p1047\" style=\"cursor: pointer;\">&hellip;)</span></div></div><div class=\"p1046\" style=\"display: none;\"><div style=\"display: table-cell;\"></div><div style=\"display: table-cell;\">context_menu&nbsp;=&nbsp;None,</div></div><div class=\"p1046\" style=\"display: none;\"><div style=\"display: table-cell;\"></div><div style=\"display: table-cell;\">coordinates&nbsp;=&nbsp;None,</div></div><div class=\"p1046\" style=\"display: none;\"><div style=\"display: table-cell;\"></div><div style=\"display: table-cell;\">css_classes&nbsp;=&nbsp;[],</div></div><div class=\"p1046\" style=\"display: none;\"><div style=\"display: table-cell;\"></div><div style=\"display: table-cell;\">css_variables&nbsp;=&nbsp;{},</div></div><div class=\"p1046\" style=\"display: none;\"><div style=\"display: table-cell;\"></div><div style=\"display: table-cell;\">data_source&nbsp;=&nbsp;ColumnDataSource(id='p1008', ...),</div></div><div class=\"p1046\" style=\"display: none;\"><div style=\"display: table-cell;\"></div><div style=\"display: table-cell;\">glyph&nbsp;=&nbsp;Scatter(id='p1040', ...),</div></div><div class=\"p1046\" style=\"display: none;\"><div style=\"display: table-cell;\"></div><div style=\"display: table-cell;\">group&nbsp;=&nbsp;None,</div></div><div class=\"p1046\" style=\"display: none;\"><div style=\"display: table-cell;\"></div><div style=\"display: table-cell;\">hover_glyph&nbsp;=&nbsp;None,</div></div><div class=\"p1046\" style=\"display: none;\"><div style=\"display: table-cell;\"></div><div style=\"display: table-cell;\">html_attributes&nbsp;=&nbsp;{},</div></div><div class=\"p1046\" style=\"display: none;\"><div style=\"display: table-cell;\"></div><div style=\"display: table-cell;\">html_id&nbsp;=&nbsp;None,</div></div><div class=\"p1046\" style=\"display: none;\"><div style=\"display: table-cell;\"></div><div style=\"display: table-cell;\">js_event_callbacks&nbsp;=&nbsp;{},</div></div><div class=\"p1046\" style=\"display: none;\"><div style=\"display: table-cell;\"></div><div style=\"display: table-cell;\">js_property_callbacks&nbsp;=&nbsp;{},</div></div><div class=\"p1046\" style=\"display: none;\"><div style=\"display: table-cell;\"></div><div style=\"display: table-cell;\">level&nbsp;=&nbsp;'glyph',</div></div><div class=\"p1046\" style=\"display: none;\"><div style=\"display: table-cell;\"></div><div style=\"display: table-cell;\">muted&nbsp;=&nbsp;False,</div></div><div class=\"p1046\" style=\"display: none;\"><div style=\"display: table-cell;\"></div><div style=\"display: table-cell;\">muted_glyph&nbsp;=&nbsp;Scatter(id='p1042', ...),</div></div><div class=\"p1046\" style=\"display: none;\"><div style=\"display: table-cell;\"></div><div style=\"display: table-cell;\">name&nbsp;=&nbsp;None,</div></div><div class=\"p1046\" style=\"display: none;\"><div style=\"display: table-cell;\"></div><div style=\"display: table-cell;\">nonselection_glyph&nbsp;=&nbsp;Scatter(id='p1041', ...),</div></div><div class=\"p1046\" style=\"display: none;\"><div style=\"display: table-cell;\"></div><div style=\"display: table-cell;\">propagate_hover&nbsp;=&nbsp;False,</div></div><div class=\"p1046\" style=\"display: none;\"><div style=\"display: table-cell;\"></div><div style=\"display: table-cell;\">selection_glyph&nbsp;=&nbsp;'auto',</div></div><div class=\"p1046\" style=\"display: none;\"><div style=\"display: table-cell;\"></div><div style=\"display: table-cell;\">styles&nbsp;=&nbsp;{},</div></div><div class=\"p1046\" style=\"display: none;\"><div style=\"display: table-cell;\"></div><div style=\"display: table-cell;\">stylesheets&nbsp;=&nbsp;[],</div></div><div class=\"p1046\" style=\"display: none;\"><div style=\"display: table-cell;\"></div><div style=\"display: table-cell;\">subscribed_events&nbsp;=&nbsp;PropertyValueSet(),</div></div><div class=\"p1046\" style=\"display: none;\"><div style=\"display: table-cell;\"></div><div style=\"display: table-cell;\">syncable&nbsp;=&nbsp;True,</div></div><div class=\"p1046\" style=\"display: none;\"><div style=\"display: table-cell;\"></div><div style=\"display: table-cell;\">tags&nbsp;=&nbsp;[],</div></div><div class=\"p1046\" style=\"display: none;\"><div style=\"display: table-cell;\"></div><div style=\"display: table-cell;\">view&nbsp;=&nbsp;CDSView(id='p1044', ...),</div></div><div class=\"p1046\" style=\"display: none;\"><div style=\"display: table-cell;\"></div><div style=\"display: table-cell;\">visible&nbsp;=&nbsp;True,</div></div><div class=\"p1046\" style=\"display: none;\"><div style=\"display: table-cell;\"></div><div style=\"display: table-cell;\">x_range_name&nbsp;=&nbsp;'default',</div></div><div class=\"p1046\" style=\"display: none;\"><div style=\"display: table-cell;\"></div><div style=\"display: table-cell;\">y_range_name&nbsp;=&nbsp;'default')</div></div></div>\n",
       "<script>\n",
       "(function() {\n",
       "  let expanded = false;\n",
       "  const ellipsis = document.getElementById(\"p1047\");\n",
       "  ellipsis.addEventListener(\"click\", function() {\n",
       "    const rows = document.getElementsByClassName(\"p1046\");\n",
       "    for (let i = 0; i < rows.length; i++) {\n",
       "      const el = rows[i];\n",
       "      el.style.display = expanded ? \"none\" : \"table-row\";\n",
       "    }\n",
       "    ellipsis.innerHTML = expanded ? \"&hellip;)\" : \"&lsaquo;&lsaquo;&lsaquo;\";\n",
       "    expanded = !expanded;\n",
       "  });\n",
       "})();\n",
       "</script>\n"
      ],
      "text/plain": [
       "GlyphRenderer(id='p1043', ...)"
      ]
     },
     "execution_count": 22,
     "metadata": {},
     "output_type": "execute_result"
    }
   ],
   "source": [
    "datasource = ColumnDataSource(images_df)\n",
    "\n",
    "plot_figure = figure(\n",
    "    title='UMAP projection of the IIIF non-ocr dataset',\n",
    "    width=1920,\n",
    "    height=1080,\n",
    "    tools=('pan, wheel_zoom, reset')\n",
    ")\n",
    "\n",
    "plot_figure.add_tools(HoverTool(tooltips=\"\"\"\n",
    "<div>\n",
    "    <div>\n",
    "        <img src='@image' style='float: left; margin: 5px 5px 5px 5px'/>\n",
    "    </div>\n",
    "    <div>\n",
    "        <span style='font-size: 16px; color: #224499'>idx:</span>\n",
    "        <span style='font-size: 18px'>@idx</span>\n",
    "    </div>\n",
    "</div>\n",
    "\"\"\"))\n",
    "\n",
    "\n",
    "plot_figure.scatter(\n",
    "    'x',\n",
    "    'y',\n",
    "    source=datasource,\n",
    "    line_alpha=0.5,\n",
    "    fill_alpha=0.5,\n",
    "    size=5,\n",
    "    color='color'\n",
    ")\n",
    "# show(plot_figure)"
   ]
  },
  {
   "cell_type": "code",
   "execution_count": 23,
   "id": "c3641d7f",
   "metadata": {},
   "outputs": [
    {
     "name": "stdout",
     "output_type": "stream",
     "text": [
      "Wrote iiif_no_text_umap_2d_vlm_embed_vae3d_hires_1_umap_2d_plot.html (INLINE resources).\n",
      "File size (MB): 377.00646018981934\n"
     ]
    }
   ],
   "source": [
    "import os\n",
    "from bokeh.embed import file_html\n",
    "from bokeh.resources import INLINE\n",
    "\n",
    "html = file_html(plot_figure, resources=INLINE, title=\"UMAP projection\")\n",
    "out_path = \"iiif_no_text_umap_2d_vlm_embed_vae3d_hires_1_umap_2d_plot.html\"\n",
    "with open(out_path, \"w\", encoding=\"utf-8\") as f:\n",
    "    f.write(html)\n",
    "\n",
    "print(f\"Wrote {out_path} (INLINE resources).\")\n",
    "# Optional size check\n",
    "print(\"File size (MB):\", os.path.getsize(out_path) / (1024 * 1024))"
   ]
  },
  {
   "cell_type": "markdown",
   "id": "f0c2642a",
   "metadata": {},
   "source": [
    "# Whitened Data"
   ]
  },
  {
   "cell_type": "code",
   "execution_count": 14,
   "id": "1f716346",
   "metadata": {},
   "outputs": [
    {
     "data": {
      "application/vnd.plotly.v1+json": {
       "config": {
        "plotlyServerURL": "https://plot.ly"
       },
       "data": [
        {
         "hovertemplate": "x=%{x}<br>y=%{y}<br>z=%{z}<extra></extra>",
         "legendgroup": "",
         "marker": {
          "color": "#636efa",
          "opacity": 0.4,
          "size": 2,
          "symbol": "circle"
         },
         "mode": "markers",
         "name": "",
         "scene": "scene",
         "showlegend": false,
         "type": "scatter3d",
         "x": {
          "bdata": "++cxvDIn2TtE/PO7UP2BPGXlejsP8ZG8J2E5vPHMb7w8sok7efB4Or6lNTyKjuC7nQpsunUhYTx/roq8tD3xu5smgDzsIXO7bJ4NvL2sSzz0gYo8M1WWPES5cbp1bk68DWhJvBC4CDz63FU7CdUBvFa/Mbyrbfu60umPu6kPATzd8AM8EaGjPPSjHDozpmM8oIynuxrOG7vnjgQ89gSLvOrxs7sLjWs87T0ZuthfkbuYpSc8OzVtu+Fwfzv4Z6W5j+I2PJQ2PjztpTa8Fhq/O2NsATxQW3c8qdVJvL8POLtAcdC5dFF+u0DVX7wkGpQ6du0XuhKCFzyu/qI6ONUMvIfEXLxujyg80nrfO+8DgTpgjO47UJiGuw6v/zvEPk283/rxO0lTlbqemNK7fz8FPD8rbrvv25Q6L+neOmdbM7wERsI8cCbOuyjBujzHPJG6Nf5UvLAnxDticy28b6i0O6hxIbxr+747qGgvPBWqqTyhQe27dlsKO0geG7yKAd67T8MDPIqDADur4E88dTOnOxuTmzzUFqY8YsZ/vCtVervBEdI7CN6ZOzUFWbwLIjo77igWvMXEqbw+oW28P8zAO4j0hDvVB/k749sgvIEthTvQXQW7VgWHOaTl3zpfGSG8PFPTPLj9iLmekAK8CdwGPFVSGTzm9oM7324mvHBeKjz7Lxc8fNm+Oy1pNLxlrnM8ajDtO5EVYLyL+ta7wDFfPOM01rs1v9Q6Z88DuwOrY7uiB4m7w6gPPCZOEzwiZWG8xWVxvLxMAbzuvMC8hO+HOdjgzjoIEYG8dnaEOzTxLzzO0+06j0w3vGAwnjwetv07zc55PG6+iLvZvoM8y9CIuU9WmTpXZZO8tPJLu3tA07vSw4W8jMOLum51Z7xrOMC7LyOIuimHYTwbyb073CR7vK59WDt9ywo78hdNuk9U4rvNdgA8Q40qO6OhmruIGQI7jN/cu8U1HzyRTzq7zcQFvNqRrTxMj4i8Ha2MvMa8t7sh/mk8nU5rPCODZ7tCZOw4+/TxO7C8SLsWjrM7umsEuuOdG7wBiMY6j+qOu+w0W7oOPCQ6Fz6SPPNZrjzky9S6nY6RuTlVdrrhY3k8yx0SOz9PIDyYQUW8mVBXvBKvGDuSZRa8BNmTOy8EUTsB8Ac8U/b1u8ZIgzwaW448NAM2vA5AZLwYad+6NeBHvAS+xzuE2xM8U1wZvCDsibyrkT48SttAu33FpTqiCo68yYpNu4LSmbpHbSo8sQ8ZvM4uYju3iSg7EHkNvEGmP7yucHa8bovcux4ZQbtm5co7nFY3PIbDVrtbOfU7pWd6PINELTxnACa8LPInPCFZmjuRNpw80LyyOcgV+7sLxja8FFoGvLX2Abytbbi8266QOsWzHLzOtuO7LTs2vNhdjjoALCc86pIbPLOgIbtwYjG77KcKu3a/KDwDhoS7hNBJPIvqgbsOKCI7OHEpu8k7drwbTf27sIkJPH1c1Tud6Wi8DBUcO4QGzzpVlaE7UgEAvN0rJDwOQ8m7JvhXPDT2TzxTx947aG+CO5JpqzuI5yu8qTunu00NBLx1Bkq8EDPvO+mjFDvPZNI8sZyIPAPJ1zzmOva7+gY9PNIYQ7wzJjA86fdrPJDLjDt5aLE6QvuTukOEFLzpGnk84nk6PENopjwcIG+7wwLWO9Lyv7skaeY7GiCCvA/hZLqmFVG8XpFOPP9TWLy0QhU81WNRu8o23DsCQ6S8u6Nku2N6J7zOkrE7jjaWPF14ErskTya8IWGxu22ElLtWVJa7PgA5u2T6Arx/db67oFImvAwwkjyH+u057mEWulNlFLw6hj67OyXgO1GqhTtEnHM8cN+jO2Nrazla23C89pkDvIoTrDrD3ny628SiO8bbMDuIivS6En16u5kfdjvBvzO7hmiQOwHki7uz9hk8xuQPPMpGFjpS3Sg8S7dtPPMFK7sAWZ274Xh4u3WpaTx4Zn+71fUZvK59UDwWx4E70xOpvOLIG7yb0sS6Mjk1OqR2lLxU9eu7lrgWPPHQwjvA2mc8E/osO/WCQzyTuly7FuhRu7uD6rtugf27SSAZvG5Z8zoy31Q7wwq/O6KhjjwOavs7G+ODu0D+GrsYsx89aF6lu+TaZztJpSI75hLOuyWPjLwT7Om7LCLlO0NHsDuD+A07h9lYumCOpDtqk8e6bcwEvAfnLjxKlaI7H9w+OxLlEDxq6hM8sQRBu4ZfGLsTPYS8PjWsuvW2Yjs0u9a6AuAKu/lKADxnpKe76EhbvOwAdTxEJoo8Tr+HO6E63ju7I2o8ofOSO1RhbTtdK4m8lo0MO8e0mzoYz0k8+X4RvCHwm7m2tlq7vmc7Os/gdrwBljq8Rz4JvOzmOjkbbU26NQOkOzn4Wzo+b6Q7EIrnO/lpGLrrPf67uayqPFAxWrwgwOi72r6NvH1bHrz/cQC8pHkyPFDzUDvVk4c8j1mQOzY0izuz6WC71aQoPNcQrzyHq4W7GT8BvKC3lTsTsT28lK6Xu20HoTyeq5I6KFNFvDkrebxIltc4oDz/OtR6Dryw+Ls7J7AMOonyDbvMi5+8Lj9rPKZjcLymdgU8zYE/PN26W7xVbaE82icRvCvFfLxBkF68LL14O6uFV7ycNr27CuSMO8hZtLvtjC88aZUIOyNPjDuGc0O81HmsvG2fKrxY7BK8PEgnO29Lizylk1o7m30Euzzvkju1phQ8rNnwu5waJLw6qRe5032lPGYu7DufVvE5BOpxuy/t4zvZ75W8TqUgPB9O6Tqm1CQ8bgfcOwCq3TtVA568AWQ8vOlOTLz8Awm7sQARvB8uPTvzO8E8zpjeO9+Bdrz2hXG7QmbyO408+DtScdg7x22eOlb2Srt+5ue7sFgrO+1AlzsJoii8J0GNO1ayLTttv1k8WPtgu4eAiDxbl+e7sPrjO9AhMbps8Ww7uvLkOVSMtrspiyU7cUD7PKCNnzt9RNu7LTCYPC4+2jsHrBC8FMAfvMPCKbukLQs8rhtauqyrijvQq2I8eQrnO3o2Fzw4n3u8Er2hO+6/MLz+BQi78Oo1PBzeELxexk88mwqru1SyZLvRqnQ8aPcdvCHCX7ozviS8B1rvueOv3ztopky8Id8aO7PHF7wRdxi8bs+jPPDurrxBX5Q87oSEuuIlbrxRzl88ZahCOq0EYTwxcqC8K22APEyEJbykOoy7nrWwOuA8CbusyB48jm/fuGiDzjvq21q60fl7ubEuNzzbj988GGVCPHtAhrzlWBS7LQIPPOM2NrzgZ0i7NaBZu6LuoTycjQO8BLCAO7uZmztjZN27TIkfu7owRbzG9Ou6hujDu29IczsjqJy8L1KoO2ApnLwyfDG8DxiCPFzHervo/J+7mSusO53x8DnM7uu7c4/LulTZEbxVO6c7LfRZPBOEbjxq19o5zbhmu0zDHLy3eKO7FjnYOtYYhzrG/nc6sZtZu3wPhTy9mw67gR1zO4WkJbxP7Dm83NGEu28vnbyAyoC840djvDMXcLysri48IZJMOzMZnjm8vII8lbcoO75kUbt8f1+7LT3/OZq2qLyk30c8brjaO3RaNjyJ7jK8+AUMO8qhurphrIa7VutjvJJN/zt9o3i71bI4OzB1briKQNc7c4YFPJjWjDzEaQ0773IaPKb2vjz3xYe7lro4vBqZDDzua406ny2HPKdHTrycssg8au2Kuqq1ErxrF7M7pnf7u4nsQbxyy7W6/HS3O4M4lLwQZCi7y8dbPEMs9LsQJQk7Bg32OziTGLmpqv66XyVsPJR8sDtSfHu8jcsWvLPb27qeoOg7uA8IuwOPqTsSgYa6nrF3u2YiiDyIz6k6wUe3uuxDDzx9MnA8R9UBurfoWjx0su0764/gOaoWFzwJrcW7Wru3O2Rh5blX9Gg8nUM6PAsKHTwuMXa8HC9wvJuLzjsvHrq7XCxHvJUQQ7vHkMQ7NFnEvJrpjjwqGqG5rJbSuzM7WDyd5DM7ehngu9Q6zTsK73I7C4xcO2KCAjpq7hE7XmieuRpPtDtTDZG7bE0avAMhr7tyPy88cOeYu7GrXLt/imk7N/jZO64LCbs8b4m7h52EPCqNDzxZdpa8He34uzQ+RjsNsR28egfWOpvbSTtIj4Y84O9kPKNvgLsBPqq7AvZeO5IXzDui7zG862BEvLoQZ7wKGIm8sKFbOxhq07urub87SLEZvPgdo7qSsxg6M1iQPBLrFrx6hcm7tRaTvFhCtTrnuZk80dyLu2XueLxZg8E7jRSluyIT8bt0e9k7c5lPPKdN3Luf7z88b00PutNWErwWiyy8oPZHvKhPVzsF/xa8QRz0Oxp4hbuAb/+72z4OPKslrrtaDFo7I/8TPCbz4zs56PC7dqZ8OhxWMrsORm+80F1MOptGKrzHZ+Q8CNBTvNeteLtE93C8Lg4GvD3IAbxNGpO7iTEUO5A9ALzv5oK8+iArPOL08DtI2BA6ljURvDfTobt5hyU8tkxIOw0oOjvnOrE6RcUpvGjOWDtwWiS8l96fO6lORTxvDdC716BmO2P4CbwOu8C7Z7hmPP4IgTwA0io7FBgAvCBiMrzkkQG8Oz4UvKJ09js0tZg63ZcSPM07iLrHA067HHLUu+W0Krx6qWS7bEAJO5H8qDv4PgO8z0oMvLQugbtmV8O6GLVQvAskNbtGrzW8LvwtvDP+kTt9Tqi7TzDTOivsTrzxs4c8QkJzO6BCZzqT8o+7zM/cO335z7v2MOo706rUun/ObTmSFZ845P41PLevojsybx08etInPM6Jmbp8Ul48po4xO89PbDxZ4e85eU30u+3gtLwLp0G7rTEHuxiTurrvY6Y78R6QO+eUgjwCEPc7OVWEu7Tdhrw294e837tmvBbJjLs82V08w2p8OsDHPbuFvis8ZFEOPRRP/jsDOgo8N4K8u1uEn7yqtvY6rQKZOyF24DrEMH88za6vui5zgbyqrwG8ywHkuzVXwru0mdw79+dHucKDnLvyygM7I5p8vCfFBLwakz08ccWpPO//3ztF0hs8ozI1ulU8uLsUlAC8GhleO+syUjym1ZO7LjKTu1RfbbxsRlW7+2lDOxMkmbkfMzE8o9ppPF7TnrsRuNS78z6AunRNJjsR8l08VWwRPJfO8Luyfz+8jBV3O1g1vjvtb8E5OzXeu1yYs7upRdO5X8JmPIh+47uF1+C6IpfdvOhH/br2i4S8xsO+O16Fh7sL/6w6/iMNPONewTxMgZ+8L+E3vLT+nTvEB7m7i84rPB3/FLwq/Xg7CmqVOxkXaruVZdq6N/y1O5dS+DprbS+76RZjPJ126TuQUGA8xyJwOkPFwLsXnqo7RRGaO6VtxruBCPY7aAzDOnl8mrtUoH07WDyNvFwhs7sF3207bS31O0UyOzxf0e47a86kOwc5fbzjrKs7jmDfO4Aj4jt2J6+7QN2FO52Mj7wxgec7uDoIvH046zo/BvA7Z6r0O9x0QLxgatI8XVoHPB8HHjyCbcy7r5W1PL7XgjylFby7s26Ru31MHzz1KFA8TCBfvLiosbz02Lm77FFCO7LHOjzhelG6ifqPvEOghTwNeAQ5psPGO5ptBTvKWEO8Pn2pPOk4abuQaV6882mEu1YeIrzCDUI8AlWxvAOkrjzQPcu8GyNdu+Icu7l+QS+8TlApPOSlDjs0H5C6AfQWvHl9XjzVpUk80R+zO8A8zzvkf1Q8c4MLvAh9mDvXmDy8Ro4dvAuzCbd6aQ66wV0mu6i2Bjy0KIa6cnuKuqP1lrxWiN+70sz9uhZEULvKd/C7G42mO4ZwVru7Gwy8kjWvPMjBRrunYck7GCswvJaO3Dvtd5s7FiuMvO2abjyvT4a6FOBgPPHxf7pEwYG8HDQiuzoh7TpdVJ66OZ9HPFObGzsdlqW8JLcWvAswqLzu8CS8SpF+uqGGkbyMMoc7alrgOhNuFLxNHpU6CY0BvMJd2Luq5U+8QgDvu0tfKLsnVhw8A64TPEg44rs/nSQ7rgaru9CAgDx0fha8wSCsvKVw87nddgW7yec/OybjsLva6rM7ucxXu+t7GjuLqvu4jWgXPHTJhTt8IAy8qYqJO/1bErz8Lhi8cVfTO2nCBryikSO8MXb9O0eO0rom7h28FAXXu185R7wzPTG8gb7iuTj6xLsYkM47WXWQu6lL+rrmFAs8wh1BPFYGzzuW1c67hcpsPCSQlLtv5oa81f9QvB+Rr7urIhO7Jv6FPMgUqzvNvyu6RMlAO0KSbjyUN667xw1Iuz/hbju+lNs7PWGfu4T6wbvn/Iw7xRG3u2KPA7xAedA7jFddu5PorTlmAVo8hQOau03/w7t2cTw8NE7Fu1HVkbwMFoi8atwJPH11UruWSh48uiC6PHiTtzyFtyw9uNTJu8ePCTrgwem7gl2pO2jpizorVyO7YWdqPE4TKrqqDpW8crMLvObMiDvpS5S6nlfQuzesL7wfkz+8yntqOtylvzqpbc26AoI8vIgUD7ztflM7O1CRvC/DTDx3W5A7aNrwO4gdKrxeBHi8ZWj/u4iabbry71a7m/OXvP69LbzFc6e8uL3Uud5HK7z16lc623qFOqWE4TvmAyE8XLxROxVzATx/0yk74f7LPJkMLrxf1og7jVoGvHElxbos9Xa7+Sl5vKyHUzyJ20s8pBmaOxSsDDtJ8jY7sRUgvKm3vDwqnpy6yU0ku+BHsjzUqaI457wmusiDVLxVOrU7HGP0u7C/OjwhVRG8C7EiPL7oojnOVb278IQEPN1JMrxAJzC7RDh9O2OvKTwgnEW8jKrlO3lGcjwZXS64zmL6OlfxSLz18YG8udLAuwhJ2LubQD68rx0lPBRs1LrKlVs8BZQiPC0Ukrxfx6C762bZu2qeLbtX6Su8hp2EOuw6l7z2pyU67gkeuygjCjuoaFe8wa3nOyP1+7saPL87J3cavBOtPTx6Ppi7yU6zPCGXIDyqK1e8O4whu8b+cLzmD5k72R4zugAiCbyDiJ07XbScPKH3RrxWgks8Hw6Hu4GgoztsvYS889nXur+aLjzSBug7MBQmuno42Dsfy2G7qps8vK6YWjx18705f9M1PFDaE7wVvjG8lcRwu3KyIrz6ZAC8S5aQPJtA5rr7Xg68/7sEPOkD0Dvj3j87UaijPDOYczuD1wm7RtsPO4AwA7xPxpG5PgMAvPFSa7xtJDq7KwGQvNBq6Dvvsoi8trkyu+/Y3jtNGm28JsC2O/ls67rs7qO8NtBHu09GHTtUm5s8WVH4O4kUELppG5c6aVRguhApTDyvwJW8iBzTuzWLuTu/hc+8rhEqPFGMhTxyZLg7NY3XuzlgB7z9aoG7OS6TuqKkozzhbci8DHNrvNRCqzxNkWa8UVNQvOEk7jtxISe8qojuOwNHHrxak6i7FLwqOsUSdTwJBGo789JJPKFgx7uymkm7xDEavLJF9bvjfzO8AHfUutS/jjzRYkm8Du7dOns3kLp/xIk8C7OFu1NoKbtij5I8Jy+KuR+iZjwf1Ba8qi9mPJLBrjmhpzW8DFEsO660wLvQLD+8HOZvPIOUY7xdX6a7HTOjO4VtnbqKCaA7xGoMvO3lN7tRHg067jQvvLgiDzxFhps61OaSPEo6BLuiRlc7tjiCvIDTjbxkzoc8xEDEunaelbv8u4i7rS02vDvxTLyxDTY8h//CO4iyCrwRvJg8msPSO0rF5DsewMo8E+QxOuxXujtDqKq76OKtPDvZvDxoSL67klE+vB/pC7xulq+7aLotu8VF0LrgJvo7y+ORu+U7aDyroMM8G8qpO9KZfby3EXS7J5VTu12gh7w4MQg8WH8KPLRbNjp51Yk79auCu87K3TuAcQi8ETRUvA2YeDvWzxu8mVH7OuSODjybhQ48MDyuu2dCEzznAhG85S9ou2BeYjzmYQY7xmmbuzDLdLwmitW7WLeCufIXkrs7ACW8O85AObuF9TyGyBC8PjXqO33LQ7oIsqw7Kyg7PNfKnLuy3iK5jj8SvH5mjbzwTBg8xv6Yu7FVibznt2M8877rOvQVV7zUL0i72bSQPCc6gzvnP2y7qKgHPI4/gbv6Emi8w4LJungyirscBwi6veFauyeQxjtt9BE8/XYLvLuKO7zzmFg8wgFxOshSXLrjNkG8zKJyvM8OZLydXKe6UVtWO9/FaTv6rtS7PA0IvLZz6Ds2VTW8qAzSO+faPryZXoE7RkHGO3xODzvHSAU8ALxevD39LDv72UO5AWe3uudO2zvgt6C6oDaCOxeqjLv8RkW8LMIfPFnNsbvEsQg8s4MLO/yvBby8CYs8btRNPOm5d7zl8zK8WKViO+EiHTtcC8G8XQLeu5chfbo0dV+6otZjunVWJDuEk9y7E8i6u8hMqzoSTGS8bCYsPPvRaTvWLFq7IAXkO2nzQbzUjiG8NzYyOyYNRrszWhG7x5bnu9OxNTuExsE81cxsOzckcTzd3Ss8T+84vApJnztMknu8fICSOjKQJLwZwzY8bKavOx4TZjwku6Y64wSjuxut8zuu5+06XkkBvGYEershpBs8jZBZvHWMhLpJEWa71XGevMiLtLsq8I48QtmyOrGvqDzN/sS7ENalu+dd8zp21bK7uGoAu69zPDy/vlG80YWgu4hw8js4GGw7F5/wupIPbrycwCw8bJj7u7Pk5LsMOS+8jC66OxyRkzv+PHc8EBOwOnTqezqTXaM8qLC5O+TVFjy+ME+472CpO8bhUDsPOWE8Xd87vFzN1zvSPhS88GBgOla6djxVq3Q6/ZXOOxnevzv9vYy8SsR3u3/3ajtQ4Ao9jp/yu/g93buYmJI7vuJfOyOxKrwcpPC7nViAO3kZ7zzEyh28nuygO1oD1Tqt6Yk7zkrjOh2RSjwrM1+8UHp4PKoS1LtWZrm7wUn8O6mHDLxa54I7tGKfO8CkBjstw5e7LeeMPIILRzpeEcC859gqPGQbATyUNqO7H9FFvIm3i7td5SK83sgBuxF2VTc94Dg7VL06O0wG/Ls7RAE7ntgYuwCoFjr14oe7M0F4vF5+FLzzg4E6ibb5u8aGrzsTj407M+fZOwi3aTxgkQ+64naKPPU2NjwMADk7OVLbu/NbjbuKYIm8rE7hu7kstTqGN847kTxjvDtUDDxmGqq7iWakO3jctrtoVdk6obi4OhXomjsf5KC83LO8Ox9jwLsy6KM80x2EPFKyk7pttYw7G56juyyMNDsenO07FGHau7y5o7t6nS+8MsAWu7HBfjvkBBu8dYMOPA7iajsZsUW6SUgfvNUlADzIHvk7yUojuO1+n7xgoEo8ti2Su7hyAbvmeoc8GGgAOmncDDuiFqa7+BWKPCDWkjoG6V67nPYVPPEEo7yrNoO6FuGKOz4rijtAMns8r2l3vP8yL7zPQ5Y71Q80ugnjoDzr+Ce7tewDO7P/0jsBtV27T/uluqCK5jojEpi7lsfzu2ZUZDyHr0m8wnzHO5WzYLsY5Gk8rPqRu55o6bu9Cpy7OEoPuw8UKjta5SA7jmYIuxczLLzLCWk8BF18OfGyCLzU+W48ZCPbvAE76jtG6R28ORamuiOxNbvsnIK8XS2EuB9a/DsBeqs67VcmO1nMljufbhM8hQKmu5rDhbzMqwI88taDOokVvDiuk8U7Y8RBO8dZOryh8Z+8h5lMvOoYrbzePS+8KN8zvAu6QLxgS6u63EDSuk5Sirzuolg8qm3dupx08Dwc69M7ejyXu1rqgzzYI0y8PmwyvPsxCjx3y4k6i/OxulRXVbt8hTS7lH0rvDjjOrwVJ0q76QjFPPqRADyxbDe8WeEGu1lymDo+vfQ7ACbvO9CKNbmZ3GK8SVVNPKHBC7xSUOa6mHq6uyVsW7vExUK8qUYQvJy/Ozy3rx27RdoMux84Zzyaj7U6dO82PMAJBbzjbFW8bYlmO+IDwjxNZgO8kLKAvAi7vTo6ZbE8RlQNPFaTHrzg8G67QOFsuzPPeryeTr07KxL9O4FtNbuOcmq8WaeRO5N+MzqIn8Q8RsCJPOd8ALyu2kk87Hdvu7ysIrvbKqE5kTUwOgs+FTyloPm5j9BkPPoQ+rvLaLq7/lCQvC3UW7ya93i7UKZDPD1Y8zullhi5K+rlu7tBMbzpIw08YC3OOKIovzpd7NG6z1ucPMEemDyYDyo8Vl3lOQhfT7vqpxy8dLYLPLWvmrrklwa8P0Q9vKVGJLy2eEG8ztsBvH9GrLz7UJk8zRexO5z/wLtvm4e8ldLXOo+FwzsuqTs8YfuZu6i/AT1du208voqCOwEX4jsSsmA7TQY+O8J/bzxvCY07AeyRvJGFYbs2WQK70N4jvLTiOTp9PXK8BMk9OgUCDrwqQgQ8hW+iuzRb0zr7oOM7EQvYusHNgbyMMg68ewBZvAgFrDyoG1W89Ky4u1VkorebVzk6WXiru/uejzx4o3q8uqhjvJDxU7tLtbI7Wx51OvQgHjwQ6ju87QcgvDwjhrsYdce70GPOPIkDV7wCZj68oYG9ug3pkjznrli85LPIvCpvObwSd4E8w0QWvARHpjyRX1K8fTbMPEx8JDwn0LU6peTZO//NgDwOt548TavpOoQ1BTsDe+o7+4cdO/AkB7zMeoe7YBoTuzP7WDwQiwg8+5p3vF71qbsYgU67MAXKu5bxSbyJ6607mtuTO6yxULwLexe8wFwkuocdJrtHeE+73sAEvNuGNrxLv00832gevI1L/zutr0W7Tvkau3KOATvlxrs86gX0OhlfjDtkr088l87iuIQDPbub8IY5+qXgOjycrjrw/xq8bz53u9PJMLx8dYA6jc5WO4rdejyNu3W8fXBzPOruPLzT1+W7oxc9PHsauju/PdY7ax8PPAiDPbymI8K6HLrNuaqqIDujbj+7YAQMPD0j+buvrzM7081IOuOW1DuQxFa8ouKAPJULFzkACks8jKJru94ezDkxqBc7bxKYu76pFTwhapW7318wvFywlDvm8f67iLY5OuBSl7uJXlm7c9EAvBrCdrxZQtU800C6vCcO8bxI9wy8K+nKO0C5KTp8F7+70XcIPP1+QjyAOD882bHbuzJon7hdmbI79nZ1uwq5DjvAm527StAePGsMMbwEbpG6BXdEPO0OLrwlQNC6RtSOu3sBS7sV7B28KZFHO4teRrtSgOA7NKSYu0iD0rumXJS7X7ZDPJw/MbsZX/Q7uYRMu3oatjw6uVg8zP82PIG9GTxExYk8uwiPO8+hJDsJSVG8SQKQusxjcbsxzVK71SNWO6Un6DtDvzw8Rt+vO/11uzxXHD47YVuAPANZs7qJfym89h5FPANkGTwqVgy8EzdlPGUjnrsKkwk8obrjuxFSpztZuFA8RAeyusiBvzzmlky7I1Jau2inorwBC5C6uDikOhvVTjzyZa88QSWWvJbFTLtyHta7HTeEO+0abLs4SYa8rHWLuxQFpDz/O3E8ZhscvNxtCbuYwLo8SBaTOT+GBzuMf2S88yeWu29XlTsSK/g7ubATvAhCULvCHUo8vk0+uwkTf7q92BW8xMKzOlm4AbukrAo83O9su9NwNDwAdlW7BpCCvJ5f0LvIJsm6zE3KujbY3TvC4Oo7NMpvO0YwLTvQ7ly8RiBQvHSYEDzTN1W7XUQHu+/o+Tuh7R08lipJO1uySbt636e7GFQJPBUgOrvqXO27jLD7Ou1vNbxxNDw8duRWvPBdg7ter2U8Dgdyu/4YD7xEFo28INqMvB7MczwmY687w1pyO079ETvvng+8yko/uxcN2LoSZCC8lxTpu1GPgDmcZ+W7HGmNO3QgLrvmUkS88gvLOrjf+zljcDW744K/vNr1Czpb/k86Q+rgOlmxXbzXEgy8IKTAvAbYCDy2o7G6SNZKvIXbx7sFLCm8ObNwOUkQqLwjlmO76GOpu+u7LDoHIuO7xBcZvEc/SDxZmmA8pl5MuxuSB7tIxjc8g2ZWuqPK3TuZQ6S8uZBDvMaBrbvXHfc7yr4wPCxgrztvirm7hfF/O04A17uHqna7/WcCvI5EwzrsXs27ofK/PIyZpToQCHK8AuAuOjlvrjtDwG47v2E1OoILKDxVCMO7rg8ivE8ivTyRd/E7dnZuPAXbDbz6FA+8imclPLJUS7s4ity7hv1pvN7enbuXpCc7xHVCOiV0hzzR6z28tqeLO5qLpzs4w6Y7jsFmvN0Zwbvcznw76GSEPOGChToSNO07IhzQuxjY1zuK1zQ8rpnFO+YTPjy0FTy83oyWvJGlHDzaNWC8slSxPJBt6ruRo8G7gefgPJsQI7zv5ze7nGxEO4xNu7qsShW8UlnTu34QTjw5HzI8ZHufvN9eRDy7IIG7ch1eOoLDszw5au+6zXLGPNkSojsN6p07/lL0u8R5nDzVunA8ZFFWvFv6DLvVCkw8aVyxPKaCuLnbHHG8adkovPvXRrxJQfC7yDGQu9E/uLtPf5w8S5hrPOWdWDyyo5c7dSexu9lhjjzJ+Ne6JPqevHW7QrwTBqk8PjsxOxFFlbr6sAc81EwBPbgKKzyEc/A71pKPOwDlBTzvh6I7SKM7vKeKqDtXEWe74vS8u+bGZjx8gJm88cyePJTd1zseGyi80RYRPFLuULy+cEw8xHumuc6BfTwwYNO5/kGoO8sHPTxjr/E7etmHPKY/obwkDmq87NqQOypmwrtNr4O7+NDyutWdcLyO2Ew7hcG5O1eLQzuP46+6s3TQu7o4WryY7pg8pNB4Oy6OKbx5n5I7oUhDvJ4Dz7tZsmG8OXSSPBetXzxTpaw7bEO4u89yk7sa5om4o2yBvM46tTrrOfW7i4TOOmz8rzxRKDe8ydzHuYcmRbrSKPM6icQpPE1dOjwGWc+7UNnKOOyVkroYsBg7ZsWwvCX+QTzDs1U82az2O3EUH7z8gjs8ykqGvMQ17DsGzvk7SIJvPM0kkTtXJ428SMg4vOKAr7sDRoe6bRjUuo3mOrzEMwq7oQFGOyOCwLzU3Pc7WCnuugnnzbvIOpY8PLCkvDH/AbzRXxM86ywnujWpMbxXcE88P+2aPNRQ4TyvgMC7BRtdPGDuRbtdl5s6Xz5GOtk0CTzmsYi8hpeku1PvQrr0EQS8fX4rvDOPDzt+eiI85RBIvB854LuRCsY6kgCqPJN0iDwDw/O7Qy5PPBeoi7xicK27JKmpu0i8jzthyxG8l8Bxu671PDyGjPm7PvKKPHxZgzxoJTq83ELXu+X6uTsgHoe86RLUOapWhLqeRAA8d27ruzuAYjzILqW8OsIbOszXtTsvHPY76ycouj2XOLwvcbG7N3M9PAcrUDmfv2A8QsvaOgiQ4btfx74806gOu9y9LzwLgNW7+883vPYoxjwFmmu8/B+zvChJh7yGQ1C7VphJPN7sBLwV6vY79mbmu4Zk67tVpF88JfUuvJyjLLvQ/1q8vkbMu11r1DpIqIO5wD8bO5d0rbpIwrY7JA85PHzgADxkf9m7w2k1vBwFC7wlUBa8X9gpPMtveLzn1CC850hXvIl3ArzR3o87xzUePMJQNbshxZI7yBSgu5csITtXaM47WVtjvJcGj7pv3ws7MlyuO3UQ87vzTw67Bvj2u92B3jmVV8q8Um5zvFIJqrvgPUe8LpXCu7vgyTqxCpe7opcdO9IzbDreRDO8euUZvPmqQDz2OAW8ypAFvBabTrz4Fc07vstLOuqETDsF0qU8uVGHvACrwjshTtq7s5hhu0YAzjs50rY8I/KlO23DArs2ogA89fp6u18CXTymq/M5dDHCOjTICjzcpj68EXYDvFa10jr82pk8wpCqOWDTGTwPpog89MR/uiqBJTuUxXI6lCBou9nmw7h5VEi7oXlmvJ9VqDsyp2m8NFX9um7XOjw7GIM8BTzROlVaujwZ4YI8LQqauiFWnruUpOo7HLSpO43BUDy21Cw8PuAruoeqjTwIeQE8rUoNu77uyjsfLoe8WBWuu1f1NDyGIoS8g6Z6PL3dxztDJ3w7HLwBvLc60zterhU8GJ0+uRhjxztYN9E7Wj+pPBuHJrvApYK8z9qNO90QlLvh38u7dvYqvJavsLsEhYA6uuwBvN/asbtuCpW53PnvOni4B7w5zhq7KvMsPEAOzbvlEqS83SMOPMgkfLy6pNc75oVEPP4VqLvDvoK7z2CmusBjjzvvYyC7HDq5u73aUrwifY27fZvsu+QATrvVxrG86AmQuwclizzjKDI7UPG+O6HMjzvLL8U6g/JKvDe0gTpGXsc77h5Bu7q0XjzJwPc7FhS2OiyXdbtmzbQ8jsMiPNJcjztVyyY8B9OTvEWjIbxyXqo7rUmCvPHCTLyfRXW7eQFXPLOyDztP/Ny7DaLVt562xrsAeoQ8Hu1rPMu59rtTa4A7FeDwu/AgvTpgclM7vlVQubqInrwWlxq8JMqwvEfL2LuuM1c7m3UZvAOdVTqKUN67HU0OO6fkR7zSgMA7H+xhvGdPF7rXANG7E2IzO9LAe7uC7Qe6B5DWOzFYbDxEnaa7QV24O/cP0TnIlTE8D+ZZO/GTqrtbMha8mEJevOllPryE2xS8ARiwOpIhhDzhla48FP9xvNYxV7yOsjA8bwSMPJt4zDt2Tpa88YNxOx1XPbwn37q8xPX4u6qXKbxNGzW7fhHFOxcXyjviB+W4CusQvAJfp7vr2Bs88kphvNZLI7xvSnc5iC4HvOcQ7DxiweW751xSOzu5J7wONqk6C+P7OjurgLzmpR+8mMgavNeHhDzrMCi8fBfSu7I+WLvWoUq8sVkSvPQ9Kbx3dhe88RIIPIt/groRlVO85Gm4u+tiqDy0zp48M2ARvPo/6juBYcS880mYuzXlOzyh/lW8t1Rvu8XO0zsrjM47QY4lvHpCXLzC0Fc8BbCzurc+o7zpLVW82pfDOzjpIryAlQC8lu+LPOapXDwj5lo817RyPDGHT7xWBao5wMeYOjwp+zteRT+7QEWRu6N0ILw71/g6XI8UukPaKjykd8+414wdPGgnSDtkgO+7pE2lO/lkmzuDtZE7WDU5vBNnErpFuqY8gH0Fuv+mSjy8oIM8xolvvAJYbLxwNhQ7+z5Pu4d1BTuDNK27nRiuvNf8UDxEPai7FxATPOZY0jvmj+U7Dimdu9aeYLxMMdw7zmODu1QdmDkJeQe8bZmnu3LJeDzAzxy8RFmHO1b+6LtfrYK8QWFQOUpl5buIxZU8WQVUu3mxYTxnwOw57VuYvMfR3ruX+Im4PV2Ju3SibLwkq9Q7ktE8Ozc34rv0VR87jKGCu3xx2rlpFfI7+izSu/UfsjyGPKs7N5iBulVBbzsxZ+65oBfXOyA5PDzF7Di8FqotvBSziru7ChU8bG9pOzwABTxyyWa6euZVvCo5NLwPZva64kIpvLL3oLt8mQi8GGkoO9/WSzpLxI877NOLvD2tLjuSZMo7PJJ/PImP3DuQyRM8i+EbvH+YQDwfVUO8LBiwu6OqFLzBvNw7LTGDO8gQKjxK5y+8I0pPvOHR3bvnsmg7/u/uOw2fkrpdBo67u480vA/8grplZZq8YSIVPEwVEzwS1I+76hzBOsyCQrvV6yA7R0onvMdVqTulRD+5y2qHutf+Gri6OAG8v9p9vFxdJLxy+Ke88NVkOkhpHTrEBgQ8G0agu11GuTurKpq8QmUQvOCthryCXjI85ex3vPcKFzz8q9Q7yk13O4KVfLhgmcO6K4cXPBO6gLsDI6o6IYuavH+u6Tppu/26b0HWukJ/xbvkAYI8Eo7Du8M8jTxUKIE86HtMvIbhjjutTjU8fmaxu7b74TqmUQu8kJbqOgLXp7uS//o7bYqbPG4+DTumKJm8OLFvvBP9B7yswxM70Pqgu6+JbDzFYoK89f0Iu9MXjzw08Eq86L3BPAcFrjrTowm8+pGbOxDJajzYvz86aOUgPBnfsbrKeHO7sSwOOzjjkDzJXXC7ZFVbPOtKKrwN1Ms7rvinu9Giwbs+Zfk5mENKPGQxIjyXUeE7mC6RvGLCdTxcvIG6bxCeuxZZpTtNRim7+hz6PBp8RDxQ7+M7KoTxu70W/DzAP2g8cRVKPEM317sbwdq6SMECO/XXYrzfS2I8LXr3u5KwEbslMJS6mAhZO8xUHbzpZKW7kmP5O0DO67vhWXw8VAZLPB1h/jtm5hK8gvuCPC8VBLx81WC8yMinvIFuoLuWLGU8q09Du21UBzyP6VO7zjsKPMzhKrzHu4E7x8rUO8/Lw7sFUpM7LlucvHU3c7u/Gj+8KA85vFW0vTx829i76JhhO5iXkTqKGPe69GsvOTj0DzydZq47Q2+5Ozkt6jtMx/272zoUPA5BkLx/hw48W8UUPAQtcbt5FZ88EgI+vMr1qrvaZTW8+iwYPMPuuLw+Sq66/zI+PD9oebsKibS8lgGzOpQnMrxkcHk75bMhPMLYbLyW2887uffMu83qajtjgSq8YUHqujFwQbwqdlk7nfCjvIaVO7yb/Gy8uEtUPFiTPTveeie8w9zju5KkArukiR07eUfEu88VMbybQJA8Ab3WO0IQVjvssqA8e3hQvAmj9LujmkK69JAUPN4SOrxAWyK8UEIXvMCNzrtWuUG7HRM+O9DnQzw0UqQ8iBwtPJPwvbxg5lq7PiszPGlOKDxfPQ68hRiJOuGVibtYBpe84rBMvFkpXzwP26U7g1FpO4zfsjsE4me741JtuxFfBrqB3xq8FomhPODL0jq6j8k6fPbcuhd69jsjCjq8X2CLu1D0fjtcO3C7ZJ5jvNTk5rtclba65hufOyhtkjytfrs7Uyydu/AwtDtRjG87CYZdvH7bu7tBJYG7kSqnuyCHkzwzz8U8quo1ulwnvbvQnBk8AE7qO9pNOjx9quu50gxWu+RF3zvK37g7K3ZovPDpmruc8UC83MbPup3A7bl/eOy6ehH2OD+xD7zI2JM82WwhOxFfj7sqbjy8EIQ+u4nwvTqDWbu6snHHO9LXXjxonJ87ALc9PKP7zTyquHO8szA7PK6zZbzB9xw8jPasux00LDw/FW+895EsPPxMhTsitkM8HokJPOmTT7sEvHW8kTPOu3lC5Tun1JO60g0oPIQirzsOoEI8f+H9uirsdDtfdBM8A1qGvHL7ZrppQ9+7mtGLu1N1lzzMpR48nn1XvMZJNrxRthQ7664rPBA7ZLwk2Aw81uIGPI+1jjw+r3+8kYw6OzlzALx2vnC77H2au1wKMjzvSEk8aZqKuwUZNzyruI48x4scPH23fzx2Q6K8pyIyu9LZjzxJeQk7mrzEu2FRkLsAMbE7Gc0WvIBYcjvJYpq8TLZ8O7rdADwXfte6QfN5vDul7zse5DM8f1PqO3s6J7nVYM87TcaDO0Ue7TvdN447RU3fu8wxXrwK+RM8Yz3JO6d/Lzxvr9+6Tfx2vIW6OzpnmWc7/ZTTOx2ik7sIVVI7FjKuO3JX77uIy9o7/GTjO6INJby4+iW5sthJPHAVvrsR/1w7uYtuux9jAzwEBQi8kAE5Ot+NlbuGMLq8eXyGvIM6DLxh2Zi75yeCvKymRztJaIQ8W1VFunlhujtQLWI8n8JrPJMYWLyw6fe7F3FwO4LeQLxmhiG7TkLRu9q7RzuSwmc8K09cPAgoZbzTInM68q+XO06yQTznGVu77NVcO4bDJbvWW627PJyGvIQQezxqt4A8F3mTvDiFErwCL528bp8lumP5uzsINY88C17ZuLZecDwryYu8l8B+vKnNPzzmUPy7sjn1uxn8QzzzaYG8bSMovGMP6rsWfC08Pz7jOw0XC7z1X0U8gM0xvMPh27ldt1U6QrIfu3pLQzvxcHW69eTKOzKUjLujIeY75lsLurX7brscdX072c55vBSShDvpBU28srKIurGchrs5uYc46ZU4ux0OoLnBZue72twnu08vHzycLzu87Poqu5erHjwEGQU8qbj2u+ia97sFp6i7lcdsPCaXnTyVyme6ESGru3kXVLy8uAW6dycBvJWfkrxl0727wSY6vAvymDsMAsS6H6eSPPr1pLnDece7e4arvFMEgLxKwaU7NxWVvHbLwjsPQ3g75mJzOorvPjwIkem7HI5MO75EHjyKKEA8q5D8OYJFIjz4nQq7ltLEO1jBvLyehCG7J8K8vBCDhDq5Sdq7axxGvBPGkrw7OjQ7gCIAPfEOFDxtraY6X6f8u2jgnrwQ5OW7v+mtu/pMrbveshI6wFzju8OP0TsLiIM7mCjuPGNZPTrOXiU8NuKcO8D5WrzR1UY70t4KPIRDoLoF/mC8OKRTuzi0UruyNhm8IYUhu5DjnLxeyeA7wj+5OwiYu7t3lpg8chSiPCd4NDyj5o+7x6XuO7QMEjtxiFy7fn+DuwSS1zt6w7C8DHoPPDxLPLzHQSE897JWvOo7tLxCJG28bnZ1vFQZxLvR0C88MpUuPCOuJrzp5iA7MeMWuxdmqDs/SC684NDAuzDX9zpAyKG52J7wu/J6NTthxdS7WpEyvOy+pboHzd47RYDUOguhjzu64967iKR0Okz6fjvSJJG7JnTjuy3IrztjOXS5xaGSPBFEHLzJNX27LnUaPOSuhjxxs4Y8UB4pPAE3srsJ1ds8rv77u8ExMDy3qJg75p5NvAYwZLsnWtc6nTFVvAEH3rtEseE7DeYPvNxgarxePDc88xMbOq8QuLx30og7a6w7PLHMBjtfTrK77E20uw9xjTxu4AI8u82NvOEg8ruLyIg7lclYu86uN7x748M72UpnOrFSE7xkHLi735lUvHShb7wSw487+UUXPO2OcDz7WxC7VlzMOxWgELxUGjm8dhkAPdbyKzvXDb67ucBiPBhVIzYWOTS7nQ3sO2Fjw7qTOuw7NTafvDWGgTwuLss8oL5DvKmYQDx5Tkc7J8LRO4VvWDsngj28CUlavHWSk7vrnWK73JmFuy37kzjNZAw8W+5MOwonOzrY9SK8yzjLumhQgDqIWTU8NvFKvCgZybngQV+7Jv5Qu8cPijulXEY3IG0LPHccGryHf1C7mggPO8swb7uOZNK7xuN5PGyaeDzwMhc8FOz9u/E1FrzlbOe75ZSpOi90pzxIJAu81mGhPNZ3uLsd+VI7+ykJvJN3ujtx/Xu7mxA6vPd5orubTWC8LTicOxnLUbx6Bzi8X5ARvIcnqTviGli68jVzuzxyHDspIbW7ZYokvBEAfrsyYrc7djqVuwt/1zvoPjQ8QA5cPJlDoTuc/VS8Fx7VO5z4ELzUp228zAgHvLeO7jrmwuC7GyOiu/kJKTpetAG7SNJluqfovTxsGeI8AffBOlQyY7ysJIk6HSjtO+aNmzzNmgg6Uo8KPP3f8rplrvg7G+Xeu2n+mDyEFHM7CjObO8B2BTuHrLS7b05RPLjvIzwCvZ08RPcBOxuxPbtYT9S7zXdqPPFxY7yOw7w7hchMPHYarbvA02o7NJBaPGTSAboQYEe7z5cKPFzGVzwN6x07Xbk8PE2G37vV25+7dicOvOsSVDtqrIY7O/UFvF7UiTxufxY56fS+O35VmLxhY5m7LDAzvCVtTToulY08p0P3OTpExbvgOa+7xeMuORkyDrx2C3A8G16jPIAk07u8FZa760IYvNrOv7tNft67NC9YuY2tBbzZlD68KdVtvIaywbpM0kg8w0IqPMl03LoZGi68mRobvCNR27vOfBo8xcMYPCcQebxNMke7u0HBO57Fz7pZtww8GScHvIwHFLq8aAe8ga3qO+O1ZbuIENw7iCovu2WajjzARj28xy6MPPFI5juymem7n8ioPDNwhjw716W8Zp+rO04LMLpE+P4344VKPJTWmLrinyq8nrMlvLNUEjzv0ZM7bj88PACJ+DsjrUK6OfMAOpwe17v/WgE8i2ZiPGt6I7xPTGs6l8bvO6LPAzyaysY7bAyRO5nnpjvGgpK7x5gqvM1mnzxJGZy6kv2NO+ypU7vsKCS6XGO8PG2PBLuVzqE82XMPvIqET7yVijI7DQeCPEiPD7xmkEO7570VuR/MLTyol6y7elYsvHZrPrz2Fvq7oQTPuw1/oTt6s2c8RNoSPPJT67s/Cik7gUOkOX6AKbxpQOm7IXwyu+GCrzx+xTE7BDC6OhjuC7yA87C72i1au/YGLbscNdE7NycVuwZ6CrnE19a7ntlDurnCpTs/EXS8uj5Fu3GNi7w1Ygg85ycju7uIAbtQMzu7A3GPPK+I2rri9r07mLiOvC75LbxhVyU7VQ8DvIp0BrswtJ08WGSgvLPSE7x6pF473Uh/u/pRYDvQwCu84s9fOwwSgTzTo/g7qtkBPB9fhTwaINI5NobLOw7CZjwG0fG7RjonPNgEnTuBCCq7FVH3u/9OHDr9DWW8SZQSO/t7jru9O6m83xfwumrCj7wiIJO6eylZOlrMIbn1XHq8QJglO8OCHzzEUIS7r2iqPNmxzTs3WSU7Ys23O7LG9rsWojs8I/SEvIM2/btsgr272GrGPFojljsi9r67cwYQvAN5ozpLYfK5bz3MOeti2Du0bNE7oAZvPKIyArsKXwi87NkmvFdFSrvKgrc74zenOikGhrtp8wk8/5OdO9kSibsMh7e7VdtdOu4ylDuhEqQ74yASvP/nubteuLO74MAjvIW7yrtmVGY8cXeXvLKIj7xTrvw3gmD6unwuOjxC30O8KzUxOlXFAzw0yVw8OHWfvEmZkbyW5CQ8jiLkOoz3ZTx05FI8VF9EO3RbxTs0VJy7lyL9uwOqAjhBn4I8Y3ZdOr2vZjujSHE7g9KBuzcFmbvD99q7T2SwPOX0HjudLw483H23u3QPLbxwYsY73NTOuzs/ozpbm6s7MXeEO4cXlLvejpi6uqPmO7esWjyQC2i89qYCPAZg6TtnuxO8Rzhuu74dj7vFT2q8gajbu9qmT7wSVnO8P7ztO/c1W7vBq6c781FXPCyZjjwGe6y8Byntuzq+4zsj7By8HllZPPHZQLxw0Bg4vg3Iu6QMYDxGkvw4856Qu4HcU7zzu767Teucu/XTjbyJBxI6SDbMOy64KjxWU147voERO9N8WDtldMs7ecJRPInTILyU0su7j0gGvLBkhDwthhO6cv4Su+wuB7wpF3W7H1w3u1kHYrswOlo7n2wEPB2yTLwc13g7Yk83u6JvobvP9vG7ZnqoO8xVk7l01Ry8wgVXvGpz+Lu7O2m84myoO7e727vWwxo8xJZbupeGjbwJ0gI7vCEQvMefBDsiBR+8PGv6OWKeA7vyDAU8mSJhO75gFzyBFF68SqgKPLhRgTtM4ky8eOutOzhLtruC4Ny7GZreuwC7Arxx2Gi8k+vwu3ADJ7xpD8S79qSEu6mlMLw85Ha8ZjO8vFaFqLsl9Zm8C/d3vJPAI7zkoU08TmsBuSD5LDwvBe48T/YOPOTxhDt2Hk08e9JfOxyq0rwhAZu6oSETvAKriTrezhM7E0UmPLF8eLxOGrk8P2qRO3EfIbyK+527fl1vvFz9FzwmqoU8lomTu5G4qjiaxQs8HuiUvMdchzv8dPM6I//Xu8pudTuZPII87M4VPHVs1zsIjKw7gY7zOjSqRrwA1L08dk4YPElMqDrdMr07dEtlvOFxKrxlH1a7I2y4uSNVmrwofCG8Zq3oO1AJKjpjdlG7KwIJu5QJZbsSZxG8zhrmuuvfZTz/Ig88KZ/4u/HBBrxej5Q7PTIyvBOHFzxNgzQ5Nwx7uuHicjdpraM7VqZ1u4gzlzzZD9U3TzE6vLOs3rvIHk885hp/vIYhpbuRlte77DrMuhGZhjprmXe7UEhGO7JAk7m3S6W7WP1CvOHKUzx3Sq08LVYOvALuyzs4qqm722/8ux8uHjxjOqO8vz8mPG5bfzuDpd+6snpsvOb7y7rqI/g7lcoyvKwbqTzxHQa7RXtXPDvEoLtVKgo8rYMPvJPMLbzRUYE7d9I+vA2skLyJuNq7fOF6vEMEXTzBmAU8ijh4PFZmoTxbSX46yEe5u88bwDiwqF28skCrPAEDsrtL2ZY39lZ3u/FoKbxTJYy7yLtiO7YW47rhN+E8C/17PGsuXTxyYgG8OZHdu/DwZbygG1O7UENYPMmomTsE7Y084/swPBSUa7wh14M8b+lnvBxMkrqq7Yq8Brp2PIPZLDw2HGy8D3LhuzcIijtNsY47F3dWPGVMAbz5tYo7m8Z1O+cgQrwtkgO8ltACvP7VMjyk5ym4SUSkOzlJB7utWC05tFM8PA2cRbwoXYU7Dt3zOposTjxQCFi8HG2dvLAwgrsAIXk8NpAwPN4RAjrrjFa85o42ueUruLwGXAC8CrKou+IEUbvMdOI6qEcUO1DNW7toRYQ7nrBlu+zTRrx3mhY76kJlu00qO7p3SgG7yUs3vN2vEzr/mM46312BO+o7gjzdDxK8vRiQtyJ9Ijz2SDe8qKVoO9w3vjsPPzi8HdSmPBPHBby2PTE78azYu6afS7z+kjQ8ciPHO9qdk7wlFV08C9iFu3tCSjslQKy6QRoPO/RJrDxSKl27Yx+jPFoisLs9Ahu83ZNTPJyMWjrVkjY8bw6lO7I4XTvIcJe7sxVkPIB4IzvFgiq7S+/6u7+WTLvlG786oq6kvChNlLyH0CO5G47su/R/fjwUTMA8UuINuzzkkDizJeQ7CvuvvIldC7zWNYW8deI6vPW91DtCB9o7kWNsvGZWWbtw4fO7K36KvE/giruHQeY7m8QnPISEAzvMtbA6iOGzuykO3zv6Dbw6MwEgPLrkGrz/vuu7n4CuvHJ90LtYbWU8JebXu56QYDrdEqI8nxYsu/g2HzrhY0g8+80GvHpuCzx3QBa8l6A5PFQdI7wY/NU7rM49vMPdIbw4+J27jwRtvBkGZzsChnA8t7yUu+INuzuDsgm8qwDIuxKiHrzRLgM8HCTSuz0S8rvxCL48d47POzDTQzsG2KQ7C0MdvOi35rocDYq7S0ZvvEluqTz2S1e8J4cPPJraZDyGdR+8NPwdvAPEVzskJuO6y9vsO6YFQLrPpqG7ek4vPJrj2ztpWjM7D7g4uykDLbw+p2s7B2eruxLIP7z6umI8+USyuoBrvzwB8z+7tYwvPLTrHDyDJCw8DtanPBX7PzzpH0c7xx7sO1WqZbtumre76DSHvD2Fdjwi2M27ShLduwUtZjx27SW8ifYGO4C6BjzRJR67Obj2O1U0+TrQD267rbo6vJyaCzs/IBm8kdv5u4Gx9juY3Rk74yEFPIzakDqyxWo7nfYYvLdNk7s0I2S7P/ACvM605bvnaBw8qV9BvBLjOzqkN947jdaIOl86EryynJi7njJsPANVR7qtIEO8xHj+O4AACbx69CO7rVajPFuSgbyaFUS8LCMZvLcbTrwTcgm8PTpJvA/L3joU40W6lXBbPH4m/Lr+Tno7aqbnu1FVqTqruXk4eIdDOwbnPLyDSs27B2dsPIMJXLyuBTg7VfrYu6eLv7v0GJU7hux3uwUjmjwDNu07b1GBOyuKEbsAGdC4VdIIOxPrxrvpYa6797O1uzC+uztKagY82bobvPXRAjz+ukc87kKcu9zJFzz+kSg75nGMvN00lLwdpgw82hlFvOYlrTvjar06qH6WO6cgljxABD67zjCMO/wNoLsGCNE6LVWYuyyTITsR0LE7w6sQvKzoLjxQHe27UG3+OhB8ELy5rYC8SuLnO1R5RzyKFEi7PZH3uiEMi7o6j5A8m4zSOYi127ty7OI70+6IPMpzdjvxV7C7JBVeuyIZC7zHioo7PRDHOyih4DqVrm08j09JPDS5cLzs2oo8z2mdusWHQTsmqME8XppfOjkOs7psVw68NJnGvPdQtzzmBbE7ZWp7PEWgMjzHUsi888/GO0mfvTv82lg8YluMusxHibsti2W6oe15OxzBV7ypGoW5dKxuPNwCLTxShyA8xcrUu1GCqDoY0JU8a9SOvGdbBzxlRxs8g8m5u+/BarwphAo74aWGPHk9pLugeRS849mmu8HlpDsV0lG7fM9SPM4OC7ufVnc8N98SvIFkYzqmtrw7JWUbvLdAKLxuRFk7xXizO0RSNrsJggm8w/YIPEJpATssite7HbVwPN+aIDyWvni8QKMuupC7tzycwKO7/23tOkGjMrwmfEU7M//uO1FAwTsDTjG8GN5tvC5m8TvWV2S7DP0QPI3v57tiMCA8NzcSPIuagryYJ5w7f7A0ujUhfjzQarQ7UriMPEmCIbwnwYG7c0KlukNMODyMfow8ZUJ8PMdE0bpEkk+8cyaTPBUuOrxNAre5efRLvI3d/buBeRi8VOzsOz69SDxwE/87QEllPCdQojxxcF87lclDu9AG6jvy5tA7aVkavJTPFTsDb1W8igRyOgyFS7y66a+7uCifO2bEHTvuILi7UuCvO0+FkLsnKOI7qE7iu2Iq5jq3X/27u+JEu7uoKLymsfk6QbpnOokU9rsoHYo882iUPEh/FTvsip+7yiuiuwEOALyCFXG8OR38O2IqpLs1syw82ZqHOw27XrrZxeC7AH1oPIs42Dx41YO7B492vD/X+juQew47mrtWvLyPP7z0/Du8aeRSvIa7yTp/rT48THppu2iQOjlHg1+8T6pnvG3t5jqp+HY8bKj1uhlUrrxyA0G8VHNEPHaBr7qk2rk7Kppcu5fhu7vYlL45XzJnPD9lNDuYk6c7eMAFuygorTtlOwy81u+3vMyG/zsR+JA8P7GZu0ynKryMWrI7CJ3sO1T5CjzIKZ48hTfRuzcQhDyDpvW6PPgou0tM+Ts/ayY8wj1mvOD7ibxXWq48ELk+vCUifTr6tZe8GYckO+as/TsQp1G7wBthu5S8A7wu+Ri8hysPuDEcZzx9S7A6K1o8POlwHTzV8xS8cXCqu867yLtHWxE8E2YEvIs2obrX+OC7xfXPu6D6JLw7PUa8DKGlvP2jdTxgsqa7xhxIu2RnBrzrBnw8eUcMO63bqLtJUrg8ztaKu66RgLw1LgG7tfc+u+ZInTuVkrY6Bag6uqcmAbs8Vn+7WDRFPB3MoDsl3IQ8ICQVu2CSOLsGznU6ahWpu0aV5LpTEYk7FYDWu+tuB7xKtL66TYs4PJczF7yiI546NWA/O4AAKry9LVq8XnUzO4jb3ruYRkc8JW8gPHeIiDsjkhO8FI1mvGdLirwn8AE64T45un5vALzc0Ss8s/92PJylybt/zCW8JagcvNX4CLs8Vzg8Pc6bvP82hbqMXAO8ozsuPG7XHTz+WpU7dyDfOiynALylPbs7oScJvF5Q9rt5sh67PP9uOhmPD7wGmee6zJ2/O06aTjxLGmq8jGxdPK75Cjx/5Ha8sr1hvN3MPLzBO4o7ObOcu3LJDjz5Pke8UOCPvLxD6jsibTG7Bx0Mu8T6/buLIFE7ceQQvJDZIrxqEBE8p0e8O+SSmLuk3jS69cTQOu2VRLtk44s50R13vCkXxbs3hi+8Yl7Tu+JGhTwAlEm8LhkQvH0rCTyVdqw7D5fGu8r8hLzPfj87J12IPCEMBDxwyJw6mSgwvKmLWjhC7+C7WOqqOpKsg7uPrL08G9wnvFwwk7pBPlo6YMP/uxWYKbtbPZ47ZELiO7hKSjz7KWE8nCRHOrRhhLvE1Da7Fx6YuM2PCjy1pQI7JpuiusD07LvnaBc8f7EPPJTVjrrj+5A7oIRmu7OiBLzuWgq8vbq4PFOhRjxFtew6b4UXvGRrkDucUsO6KX9AvHqbkLqkN/M7qF+CPBTzpjvmXki8d7EtPOj8Ujs8/Mc71rEnvDB4Z7qppJe7AiyRu5N2OTnzOy07kuaLuy6Fe7tt3d27G8Dku/1lTrwgiek7IupyuyFihDz+AX264kqPPGZz6jvU9A6833vOu93dfzyYoKa8VPBnPLPdjrxbb+E69y+FuobXETw8D168M0mHvIi+rDtQJFe74PWGvFyUkzuBqwM8cN1YOxwR4btxuoU6i7CIO1NNWLy3lf08gnkxvFeYp7y7Osm6rts6OzEs6Dr7iuk7FKFlOgdH27hf7586snI6u8CjO7zeNC876qFWPJxZoDsVgoi8KON7vGt51btLz9u7kUrbOEKKmLuorBU9ylfxO5QxCLtwqQW7sJinO4LCELtystu7pW+WO47R3Ls24Bc7CZvaOwtK0rsH9XW6bgrFuUw/VLxZt+K6fom/u4FQIDyMfHs8EblTPPcQKrwraPa6ZJICvMSekLzEccm6RuTtuyHNR7vsWwG8HHaWu7ePwrsEBwy8GdSEvCPcVLsIJS48UgN8PJBpljvQXOC874G6PBFaiby/2nu8fp4qusWElDzpMxy8VposvBbkhrwInkY8pnKCPB4grDxenGs8e+gaPHvXyrsUH9+7Pv2euxs3BjxrA687AIxuu+q+Z7xAXAY85/+5O9gVmjzZois8mEyxuEkqlzsOihq81JFCvG7/troLMG08YatWPMqYZjtwSNo8kdUEuvZnl7rKTjU8rFw/PM4t0btQih48uzTWO/qqzDvk9Xw8oO1/PMYTezw0UfM6iYQNunPMlLwJOs28PXWDO5XKy7sKpSq5/FpKO3K8jzzPLyC8l73BPBOmiTzwa0o8ed2CvKWJtrr5TaY8M4c4Oz5HyLvX0HA8fMCvu3Hv8TsNuh46FYv7OxX2BDv3Oyi8AVCgu+EQBzwgvag7C9NmvOGbiTvfNC68VR4LPAmDiryty3C8F/5LvPAnJrzlGqM7AX2NPFfDy7rhYIY7xLT7u83AgrwuSp27mqIvu6tii7se/By8Nr+tOxdXg7lct6C8L0eau7a5oDvnnaU79JBSvI2Mp7yjQQm7QN/yO+HznruUiFa8ws09Od8eZry6RLu4VLD4OiX3A7wWosk53f0TO5SK0rrNSrG63a5gvHUu9ztA4WE81JgpPG4J+TogpaC7aH0/vF9sSjupJe27Oh+Bu5PTXTxRqmS818EFvBoJATyWX1k8lDpAvG3kWLyr3RU8+RRevKEJo7xAe0C7BYzLO7wfILiS5py8erBiPIltTjv+OQG8M88/vGO5jTucOTe8g8JevADjBTxLA148VBszvGjnkDz0y/g6ggg4O+7GOrylRxC8sftSPANh0TwQBAq8neqQvAu7FzzvhIw8gcCUu9qC1TtNUkS8PKMyuwxD17tbyAs7AbpkPH59jLsttUy7IC11PLEARTyY8LM56XApO7yvajw8zwM8RrH2uzQ7SryJeO07BT2cvAX2EDyiFqI74dcYvPkYQbwegC88AI64OxL2jrx6phi8/5meO2D3/7skWja78jCMO5oMVzyygJO7jL08upz3DrteqUy8L/wVvAFnoTwazqS6b5ZyPE5OhbsSq7E8bZ7xO221Orxu2zG8cgBDu9OT47p0ArQ7PLpwu/2MY7o0kKE8JmgkOzDLirtlGZq7UcW0OzxwlboFuzK84sLfuhm6CzxugIe7w6RKO+gUsDuAnRG8xydxPOt9a7xrRBS8FXlaPDYhwToD07g6NroIPERMPDwOvDi8Pv4kPIyycLyPkry7XoI9vPolhrriJty7IGcGPO/d07vY8DE8rYpFu3BrUTpQHyo713dEPBBwc7sjHFA8noAdPCoeA7w7z3q6u20TuvxdVrzv/Hi7aRbxO9KFSTy8t8K7Vax3vJlkdzyQiFe8V6ddvBsv2LpaIK+65T7Yu9E7MjqFZqI8LITeu0kNXjy1mjg89OqGOpKM2LuA/Z85zw+bu4uoULzmL2S7ZDbBO/ibaDyNwfC6ezH5O8ogiruRU1E8x2oqPIDjsjxfpGk8uj1COR7BDDy4VjS8CWTbutSCDjw4qdK7mLyiu/kgLTsXARE8KiKPvISBvLvg8qk8g5S5O3ZsD7xI4hm7dA6mu95tMLwv9pu7ksOhO6doHjzUGCY6mwziu4Jd6Dkg8ry7bqVcPBpfeDt0CIA7O4DTO0nFQrwPBzU75SVNvOP4ErwIW2Q6DglJvEb+WrvjPTS8yTMJvMBtZrw0azI8viBQu3mOsLxTjfK6hRGpu+VLk7zxcVM7PYDgu8qE9jvHEqM7qTnFu4+14jq+5hk8V7lJO5gQ/DzdcBq7Ao2BvARhubv0Kr26mIq0O3hnsrnoFSu8eLByPJQGFju29Fo8FDYjO0FPKrrGAco8SuYjvGwr9bjHViO825KHPCUWlLymVw48sz+7u7SjO7zvC488z/9SO8+RIbu98wc90jf6u5yUAbxG/7k8VPStum7OmLtXQZ87mC27Oi7epLoKm2k8Z/AFPXoAHbzNFjK8rnFQvMt9obsluB48dUleu6P6kTv94z68KumxO5vepbzCYzm7PWXIPEWNgDxQsSg6fFGDvAQ4A7xsFnc8EgVbPP5NS7uwSOO6i4gmvBXLg7wwzqG6GcHHO/ivmzoblxE85n2WvHgdG7yjanE8O3CdO7yWs7y/Uwm773TUO5/JSbwjy6K7tyA8uxKvGzv6kzc8HxaCPOKXDTzpmoo7NF1iPOUw8ji/5zC81ifru86+0juJn1w72TkhPIP7Xrt7nDQ8wdw4OtYUvbtLrJa782mjOzj6jDwhkvu7M26BvHjXZTzEu0A7ahWXu3J6xjtCaQg62+FCvOXZhbwKjG07WMCOu8nBKDzA+jM79iONPHCWBTxZTJm8mRCdu6MoNzxueWg7zBj6u3pNODxaUoU6xneyu7TSzzmAQgS7VgNMvNETNToQ16C8Q2mOu9MW1bi7/dY6C0MzPH3WvDt/L2e8xok5OHJ7SrsCD2K60U5uusjhqrusrZi8uJ8+u4LjJ7zhu6y6pPI6O9/UqLqotQm8kTPhOwSJwrtSQZS7hcpKPDA8LjwWJSy8n7FwPPmpJDwY4EM8Jq6CPOTtJbzYvxw8FMIFPKl3nTu52OM7JL8SOuYUW7yj4xK86gpIPOG0BTtMl1e7Ymu6u4Ka57uOb5K7kZ3Tu1RLhDuSYiQ7q5ZfPKrYDby7soa7ZzWTvIDPgLwp/ZW7gi+9u/Sp47vG5og7ToWBu1464zerLoY8fycevNTRsDtP7Dc8XXmVO/tBMLyqbqu7NripO47TPDzXEde6rM1ovN63cDu4ijO7AnoKu0UHHTwALOm7lEB7O8sS3bvzOGS84AZvvJDcozuzpFW8ZmEZPLfwHjvOOTQ8KGu/O49GBrxHPAa8WeRfvGXDaLsXzEW8hAg0PIPOM7pg/PC7GXh5O3UuSDykjN061gW2u0r3ILxnQ228iycPPJrBNLz2ZPY65FgcOinva7xsWja8u8COu+lTNTwRzSE85xjRu6k6CTwCGlk8saJuu9vId7tdWQK8iwbZu2h0ejwrXC885C0DvJkFxbuK/526JUa6O8r4GjvCuqk6vgNPPKimKzveFfa6sv3Xu9MtHjzjqi28a0yxujczjzuHONw6DsVYPHnIvDqc4x28wZI5PFYVXzxWy/U75wj5u84Kkjx6QZ27702ru0AhGLwIc0W8B7COO/7BZ7yLgP+77XpYOnelnDywaTI8a7WUPFVnqrvaU6M7zIkDuhXtzrtCgjI7jBYzO7/K0zsys5I7YfUlPLyPmjlkNww8oSSbO6UIhjyoPd+7MuBbvLVFXLxgIRg83Aqdu6ieT7o8zYm8Zbc6PA9Ndjxh5we8AD6JuzGWajyGOOY6m3KKuxk7vzpJRE08W3G2vO6dNTyonbO7BUINPNO1izvooke8KGWJu4ugPDxkUbw71I+rO9OD77v+l687nO76OysDdDyEqYs8TLD4u5ToT7xYee87YJncu0Jy6LuE0zK8SZrkORYFxLtBGT68FM1fvEfb1TtRrFw8s8avu6j8a7wKqE+8hO3TOwjaqjjAUyK75HAtu3/3WDz/P0e8GFHtu/P37DsbLAQ8kLs3vPc3a7xu1xG8EaeFOqtkwroEqfU7+oYHuxomY7sjSSs8IPX1O2EevzwhXhQ80RMWPD5QDLxXCE88Ek7+u/DfHbzQrho7j3QmPBHEq7sVUwy82gCTO8r2kLs1v1m7WXRUPIG9RjzcOMI7kRCLuy3AdrucP2k6NOZ7vAV+iTwEZlO8v6cHvIvPnzz5LAa84hUlPPxSobqvYKW82iQ0O7ZKjbsnRiQ8GTaJuzJxRzwYIRu82fT2uolq9Lun6Uc825UKvA+Psjvu2k28GFUqPGEVoruqDsA7vizfuz6aoTrP9/k7/M/pOJ/UEjxomWg76QVqO3GaB7zLeK27t8kZPM8jIjyc2LE7KFhvuwyY5rl5JYs7b6NJu7QcFbz17ZG8AY8cvPwiUjwFd628TyUNvNqbSDpOzLe64b6muuLHMjuYTBG88145vCFn0zsngHS67d2SOQgBn7zvNRi8/m/ru6F9lDup+mA8K7kDPI5hTbuocaw8y9u9uncLabsgcgK8sR+EO72UIbx9HhK8IYQgPEKfE7wveIg8d1qoO2v1rLtztwK8MRFHvNOjyTyzbsm72mvkO9KHGrwq7QY9z+gHvOb5Crw+xR47oRRtvDw4LbsG2cK74rBXO4+Er7uDzD86EgAmvECAgjxOyQI8chVXPCdYabu1bWY8Mt63O5N+nrtmtX88QHP5u6IIDryZiCS8z4H3u6lqO7yiFW886UJDvOL6hTwHJs+7iXwXvBr6t7usxkM8tE1FvIu4HLt+3R28X0IivPA/Irrk+xm718JNvPRkwbtXhEk80+dmOzm8j7v+b3O8Zi3wOyahgTwbloo8U0giPCR3FryaFma8ihsovK0hJbwsW5i7MvqGu/cwqDodHV289Bi9OvRZary2Fes76yLyOVrvGLwydtQ7BIJlO2c8mDu43+47oJaHOi8TJ7zNaOM7pEjDu5EXZLz4GD+8S0YCvM3Itjvn7JS8X8Tyu77hdTukNZo6wRpjOuYwKbskGmc8SFaaO+bTvjyOnkQ7+4IhPI0YADwPVUO8JAg0vDCtUDp5Bim7NTwbO/ChFTsfrsk8uzBnPHqCTTwDUTC870kXPLObaLzU55o8rdT9OlW3sjzlOB07E13ZuxgI5LpQ8dg6enc6vAxeaLydXE88C6YnvPsecbsnFWu8RpuBPJg7kLuGr8a7V9hru1PceLsMbf07JSQcvKr2jLufmbW7eVpROqJQMrveZao7+0sAPCOQ9js8Apq87BHzO8Vl8jrPtHQ8lQ5NvFt3SbvmK/a7tCrNPLZ/6buABia8mDHoOnVrk7z2afA7qfUTO1NvjbybAS28l91GPCtcMjscZCy8eoR+vMlhyrt/r5y7mweDPCS5ETwDkFo82fmNvB03truKFYc8lARgPNxVnTs8Ukq8C1k8u3lLZTqEPYy819I1vBjXe7wwTu26Gz2qOzYpeTwC+MG7LuuMO0X+zbs2a4i8qmJ8uhe/zzsfo9o7PtxbuhKrabypQJc8pAIbPNcvC7yfkMo7mEmZPCHzwrtptoy61Sjbu5AvvDsCPFM8gr1avIdS1zvwh6e8YpbEO/DBDLzjRlM7DUJ7vL0nbrldzCe7cvdWOw/FLrywYBw8fgy9O8+hpDomahA8GhtoO6qr6TuWdxi76gWBu0HU+LnvMOm7Ois6PDcBpjsMbJY7UiEyvJ8qLrxtIuA7y7ZtvCYmhLxq3as7ywu+OkgJ4bsY74S8x1eOPCl1SrspQ5c759MJvKJ4QLoZS4I7f/CXO8vGGzo7uIq8kS0/vJClIDz3trq7HuqTuz7kHLzrPPE6xK76Ox2MabyaQVg7PI82uSg47TtnJ4W6cmicOmfGSTxO1pg889jSO0rpljvHkxq8ZGZVvACDV7ytUga8zwKIOhAEpLuA3947x2IHuusqFTvJdne7YoYrvFzH6LstDrK6wzM7OMiVv7yDyrY6NswRvFMPizyuD7E88OdcPOnMIby14OK64H0puyuU9Twl0qI8UYEfvCtnWTvPxEq8eRsHOwKjBDyla646D2leu2WLgzvHD6q8o3mjO8hDFrrbFxS8KdJZPJKTO7oYNBe8ZxaGvGfgazv3ulm8s9Y8O3dVujwvBGu8L0liu1KgwDlwiOk77FEmu8PV9jvFGjw7Bl3hO7b6GbxrQLc7ckkEPOSxb7w44gk8IxBaPG35lbufs8Y6bxEAu70U4zqpcVa8BUftuo3UPTz9U867cobjugvHZLx44sy7I/oAvHHSQDw20HY7dpIQPFqqhDwG1Na7kGeHPHUiZLr+vhY8MQNLu+LZ7DuSKRI8rBmfPAM4gDrvF6Y8KGQkuwte0TyRA9o7OqDIu/vL+bo2cle8xqapOzoNSrxoxT27QQKtO7tFz7rLU22641iBvMA37ruHhqK6B1jeu+N9PDzKDSS7g4YPvLE1eryh0Gc83SYRuq8fBztPyBc85UKsu9SBLrsvzpo8pEWGuwtfwDoV8om6I9MsvEFz0jz1I6S8VKNjvLjZAbv16+s6jVr/u0askrzapbc7D4yVvBWJSbx1bNU7jh45PGDdX7uUtv87ydUoPLv6LjseqTS8MzfhO6qflLtmHxQ6OsqVu+zs4ztjhQs8tJf2O1Osgjpsy6a7iy+1uyomuLvcKp87pOk2PGRmgTzFZ6Q8Ly4AvO/nXbkYNhI8nm5wO5QyXrvFMEK8FYejugH6XbxtJHg86pkkOzRWjbzQTAW6/XI0u4J/gjzqYMQ6DysCPE3YD7xqbxw7DCZVO8RpgDxXwUW7Zy14u5poGjz1GIu5bX/5u7A5GLx3fiE8ArUbvGJ8YrvYhZU8DeMEvCXJEzxzf4y88lIhPPc+N7tA5gq8gTmEvNw0gLygggG87IMYu9wHwzpnhRo83jVHPNE2MLzknJI7Zz2IvO2ViDzzCmi7SzftO2sIJryzyca7QiM6vJCIBjwGPrc7KHBeOa1xfbr3dBm80VVdPF89HzzFJ8o61Wi3PJg6E7wI6Ye7vxr5O463NDyqz7c7QWEJPGswBDy0AaU7Ocd5O9ZOjTvOF9E61TcGPOyXgrxHvs879aslvJYsZbyefpq8eo+DPIs0zjuRoqU7m1Lsu6I9Mbz1nBw8dZJIOlAfxzmimGI75MKAO8x8gDxqGTi5zqZnO8ectjtIFPW7dNV1OzNMKTuGy5m7gkIUPAzLXLuOS0W86Ar9u0HKGDsK4Kk8YKAwvL3WyjuA7OE7VisIO46ECDyfPpS79S/suxIFCLwkeh47CH8NPLQwkbxvsJ67/b4SuxBACjzwTfy5xo2WuwdTNbxpR7o6/RskvNG7mzucmEa7STleO0oTnTyQM+m7QoqwO8TPZTwnAxG7zF1Wu3q6iTsyPD67GFzKOwiQ0bp+wui7DHWyO8moF7w0zHy7qgIbPLh0HbxefuY5oPwPPE/GujsuIyy7J9YzvKDwRTxGps+72BUsOjVTp7qI2ye8OMzUuypeLLuS2by7gs9Duz6GdTrDgEU7+FMOu/N5krwS97q7X5K8ulNjF7yMCX+8bqPFuqiPlLzKjUS6q26pvJ6otrvlAXQ7sYg/OuKLrLkEZzQ8twhXO3NC17tNbYa8t2iSux+RVLxO19s7xTzGuyY5lrubkEM796s5uyEO9Lv24Ri46eVKvEajCjw24bm7LFo2vL30bjzCrRE7vALJO3pTczx32Se8LWw1uxgVKrwXnCG8cbWiuwdnwLtYV3i8oyVCvIeLlbk+IJq7w8m7t9fRTTzZd0o8CcxzPOo+2zvRZGi8RE6zPAhTWLzIRf67hCRKu/F1ELz7nVg73Q5DvFDG+zu8yJi8mkIwvLW1VrsDSBq8F+WtOp3ZIrxQfxE789U9OlK61TugUOS8r8i4PDm09btAFB87QUrEO3/iDLyKAqI8qUgVvGqtMbv6Qoa8NzolvGPvdToG38E7if4cvDsCAbwytrs6E5QdPAMn9Lp0hQs8JaMyu1P8A7wQNYc71a1GPAef57v351+7jTjQu606gLyGwYA6pbs/vJi/sbo6lEU6XfM4vCFwabsAIxa8oGklPKWwxruRpxi8tpP7PMsud7v6v1m8qrKoO97jHbzZFUm8DdKuuy0HArwdYyM7nJSHu4ApCTxEoFw52PZPvKCsOjvLb6k6Fq0APEXlfrs0hSm8r/RPvJ6GyztSDY089Nm6u06PLTtjxJG8DBUCvAgbAzuJ6NK7zKJAPKmFDbxhD+o7AAsmuxR3uDu3Adu6N56evFZNzLvNESi8Asc4vAh45LvRREa7G7VQPAvQIDsZtrS6o7yju1uKCTwL+0K8dlgqvIIqdLwVzVK7JX4XvM4ugzsu3jI8w2z8O3r6PLyi00+7Hk8XvG11KzwxfMq6inulONxF+jvWlXu7bBjIuCJUoTw7ax28UeOmPDnOurubJkG7/+PrOFfYsjv3VOw7qLiou8vAP7u1+OC7015JvLIfWTwtmEu7oXt8PB13dDwHOYc6OCdgPFaJTLyRIp063xRKvNRwmLy2xvc7PhQuPGuTwDxGkDG8KV6uOxVVKzwNAsM70KlCvA3Orjyy/wK8zjKZvKs26rsLc066O2fHO3OQVTzbkjU7+culOwZCErxN3Bm8R9o1vNgiKjopwVK8FA5qO6pWiDzesgM7XCNFPGqDGrw4Blw8vze+u0+QNTumQcy7FYlVO0685DpEvL87s3q9u3JftLvlXj47OoF7u5GVgDyuA0o8Jf+Mu0MdS7oCEjy8/gWhOycjLbz78ms8+bWevHYVCDwM8JU6VrWHu67Ghbumw6A8jnPPu303njus8DQ86OkoPFalRbxU0l48owe5O57DgDvHPIW7nai0PGqJsDwDRxm7PvwLPMH9oDx0KRo8F3JYPJ4yHTxKk6O7YWSWuhYCn7mAh1e8Ve3KOmM2YjwpfJM8hrgsPL4V8ztfWTA8IWykPFbvejzZP9Y8hQg8O5PS/zupDSs8SETnuzn46Tt9mIM7sdxVvJlYXrxgPvA7Q20vvGbf0DvqQpe7+oVdPLM50TtvOlA7D8d8vOPGXTzJvYS7V1q1OkARZ7dKaDC5Jp7CO6slPjrZZAU8RQxmvBlYjTzs/+47E3gSvGXR4TtbQ8i7023Puhq9ZjsYLdg6DhnUOyZckjqUuGM84fyquxrKqDs5dRi7AU3vuqHgyTua3hU8FsEHPAJeq7t2fIs7k691vPAl9zsaaqK65IZ4vOPn5Toknge8cJ+zuxaj57tFBF08BOQhu6gS1btwqd+6RiQpPIwVJbtE1Ym7gRBIu2m7lrx8Wdi6CNV6PHm4VjyvvbU6aV+XOVCkubvPl5s89ZuvPO6ymLkunwY7WZuBPKbeg7y6hbQ7dsXAu+kPy7vemou8+k7Au/z9prt1Tx68udUPPAuD+joKhvY6tHPAuzi70zzV2o48E45pvBBuS7y1I3E71PCPuhs9XjpZjO477gGJvFcSfzuPSQc8/EgTvPccXLz3hIo7vnHeuuQLH7yw7Wc7phzpO9reqTrUt3+8MYnjO2zpFju9TBQ8ndgAPM34Urrfjli7PDMEvGc+mjpxYFe7V6dsOg67KDugadc7/CNcOx2iIbyWoT07zik7PD/xRzs0cwE5eNZ1u7OtQDyOdGG8UzOoPJquibuclDY8humNO+OyEzuIqQi7IMYYvBQpdryka1K85GeQPDWhqLub60O8Q94xvIVyLTxVife7CPI4u6/1frt8o/i7nGhxPF+SnjvvdPc6dNSAPHKjxTsTtwI8ylwLvHVYKrybXlc81w+APFf8WDkZIj87Yy8HPEfSjDuSCd67dOCQu8gjCDzVPC084KiSOsNUnroQIW283dykvNkC97spZa+70iGiPJWuTLwxcz874HfhOjhm4rtbpy+76mAXu143PbvH9aw7Zp4KPELQObx96io73JcOvOdENDuDtma8wauJPFfIxDuhI8q5OlcFvO3dibtFTdy7EPY3OVz1yLuu+zy8gO4su/2Mv7uoXKm7F2QGuwY7ZTrNNUi7DIxEutrHhjz5fWo71jLZuxoF4rtmmUI8+VxLuznA4jv9r4+8iQV3u/IyBTuzmqq6s8tXvAyhcDs1Vvy79Z6lO7d+hDx2cFC8AUisu4dMJDt/xoi8uqucPJV4LzygOrk66swFvLZGfLyw60W8i49nPKxzMrybuwc8dKy8O6X+CrwygOi7EixCu29357osv1U8ivjWOVrmCLzcW9A5kPRfu8PWkjtU1GS8eOYPO1WQgLpwAVy84EiPu/P69Tv3UZi7MafhO3iHczqvfJa7simWPC7OiDtpvbO7+z7sO+t+jzup2Je8wDi9PDmepTv5oei7EL8VPL01qjvpl6A8hIcRvBYvkbwIZeI7F3Ktu4GU9DkPvh08CTcnPKFilDw9/CC8XhA9OzC1WjztUce7llqOvAggBTx1CRu8lQ+TO1vWmDr5kq48RGmmu9OlTjs1/1+85IlEPETPDzws+5E8muKivMczBTtQR/K7Nf3zuup+TLwvSgs8fmuIPB9MuTq983M77WejuVTEq7zbbsa74PalO73Ed7tW8Ks8sK5Ius4nCLvgn4W8Gb14uxawxjos9qk7UtM8PKAthLu5v6M83eoIOr7bDDx93Xy7hy8hPDwolLvOvO+76xgzPPgP37u3+qi6fq/Eu+i8grwnn5y7ry0KOsXh7Ts6uqA7q4stvMpvaztwNRy8TL0bvG/OkzuZzY+7Wuyou6cqKrvXb5I7Xxvcu8wg4LsjoNw7v9cXvG7WQrlFQaq7hLN2O/Rtp7t0LaA6FQhLvJ6pHLxGlhO5Mm3Qupbk4jsXdBC86SWAuTR+5jv5AQc7K3F3O628Lbtmb5c8uU+AvIa/T7z+gxC8OvBgPBmBarwoCCk8KfL+O9mkgboaYZQ6hV26u0hwjbt0OQY8zUA5PESqsLvJEQu8YiwZvABxIbyNj9u7HKuAOzyXAbtqJUA8ZqUzvJc6JzvMZ667IddWPNH3xruE76Q7F+26O+VYGzyegb07Jg9oPCyre7wZtpU8Vpqzu2NIFjzBXHU7NmCzuyxJ7Dv9ryE8kDoePERXUTyJ/0e7t+Hguv7aMrxaHvm7CA7iu6d2NbzzcCW81XcNug9EgruNme+6p8WvuyELpLsvm6W855o4PFv/sjuNZh48sEVVOodYcTwpUgw6r2iPPF7Mk7tVDqc72S99PNGDxzsWAqY7Lq6hPIS/OjtdL4e8m2CIvIshZbvR4Zq7uOLdO0M1CDwzAzA75fo3umHMojqytQC8uA4UPD2O1LunlzO8TEKJPB+fUbu3l3c7+dasOqCHmzqIzfW7Yj4LO+khSLzQWAY8//iju9js2Du7tde7UdYFum61Ibtue9m5EAmBvISyw7hIjR07CdW8O2NVUDtUBMy7tW3tOmOn8Du//ja6/a4pvEgMbzvzT9C7cQEdPNbSRLzqtDC8ryusO4zX2TzUGma8WkaGOyWecbwI8oE8HmsAPKrXhjoBM9O6RUqnOTXuLzwLFDq8AXhCPE3zLbYpuY+7qeVmPKuBoDz2WYK6rZRZPBSquzpV2gi8m9pUOszeNTvSWh87OiGpO2CpOTzTsic8aZLdu2TuqTtTkAy8kdHkO1S1pbsxY9a79Bk6PAR1nbtR7067hmXOu/7wj7l3f0m8psucO4AG7LsInCe86DOjvLn9yLoKTsg6Pp/4O4NAFLpo99+7MkOfuuamd7vHgfG7pL2aO9/oHjkfrCe8sZF7vCueKTzqdNg7HSHcO8d0J7zJJzu79qQkPN6yKDwkgAc8FAyDvPVANbxrMNG7Zbh0OzoNojsk1Gu6R2dNO+vfEDwk35U8vM56PH6DjjsGKsm77BYQPHrKy7sjCZK6eQMSO0AxqDwr5hA8YvIlPFf8RDxHr3U6A5MrPMPwVboi5KQ8iEaZvOeFV7zLRuM6ZN4BPJauGLxDRhm7mqJaPMSI+rsJd0e8nudDuzQQcrx5KJy79YOmO80PFDtANqo8iFIqPEgSoDvmNKm8p7ZKvGbBBDuBdrA7t1a4O9IHNDwKSkQ8a0OsvNZDEzr5VMK7388quyG7Cry0ek66Rv86PDpK3Luee4e68M0BPFZ8N7wJBX+8ZKGSvPWIZbuUB9w7Pi+3u4A507pbwjE827X0u6vTJbwrD627+jh1OybdATxYgt07uMOKvE3/IrlfDpc7zwPMuwbHFTw37RC82K8kPJuXDryL0xs8ltB5PM1PnTwNn9i7RYMtO66YSjxnWrI7BzOJu0ds37vKEQ08ofx4vLDRSjzs4eG7Vp4pPMf2WjwFMoC7LsQGvDSdmLmdInC8IQszu7rVLbwP8MG7nSAbvHtgSbznPsA7jDfjulDJobzsA5u7brEcvKOPHrsiYDy8WPjWvHwhITzKGLA8ihKeuqXQaDx+XTg74Np1PO00Irv1X/Y7sUiCOuLGBrzORmG8AtjJPDgNMDzJgWi7j7uOPBT+a7xulJi7ScoevIFTFLzMY+K7fzf8uy0xOzyPMAI8G+urOy4mPrxgXVk8Ov6IvJvi9ztVeds4HnUjugiBRzyrtyY7ZFivux1nkLtDjN07TCHmO5yZq7twREK7Eu0vPKqPlDuZmlO8R09julkoRLypGnq75IJqvAlSmTzXMQy8VseXu1GP0rsmrHG80sXVu35cyrpM/g+8zK16uwOw57uZTSU7pWr8u+x/77k/pl082eunvF0xD7xgCN27CTSZvEg6Rjv+iCM8PRZ+uzEEt7t8w1W8sUEtvIxlMTvRSu05e7wtvDwPDruePaE7I1ZpukznMLtfxJQ708BsOw672bu6p5s7ujefuyLBQjxf7Wu8a4UyO0TEUTtOhQ280HWVvMSEc7ujrrK6tEalvAXniztsfqg79x+pu7KibDzuNbW7t7aeu8uFKrzEf4C8w2SnOzdxgrs64Ww8sccTu/otR7ur5WY7F6UjvEjcAbzAg+G8/kWRvICdPrxhOU+7z4c7O8FeLTwAHTG8831DO9AcIjzYEVG8vlzVugZ6S7trXwS7/7iYO5dEKTynYJU7YVvkuyOrpDprE527FTGIO8ZRY7sLDKY8urGYu3bq+bvLZKO7zZt5vG95p7xb7fs7SKJcvBuzazt9bCK8pR3zOzRk27phBTM8O5B1vMQ+ZrpWsvm61zAYvLKo4bsMmhE8BltRPNcsnju2oKg8ap5uOg0447sHeQw5g/V5vBmW9TuBK1M7X3kOvNw0gDqhxjU6uhYTPL9t+jtD5io7LUjKO1zaCjzvs3O8elOHO/KAdLwbkkm80x7YO1gRcTwnukK7W7SBvBrmsLt//HW5y4ucNjZKBrzQZ6S6MHq2vKXrEbqFqzU7xxwnPGoVrjxl9ow7jKifvGwIY7xI6hm7cGYDPKOuk7po6vU7c6+KO886vruuNeo8TJyuu1YeH7vIQN88SK1JvD9PJjxwUTk8pjGmO/Fo5bsHOba7BFFYu/t5JzzzCzK7h0E/PC5D07t9MIW6YE01PErn1LkJwRq8eNZGPJp7Azy6lmc7yi6ButgxXruao088o7KNPG8jTbx+PQq86c9bvLC1i7wQ4NC7MMSlPJ2fuDsRJ3G8Rv6FvHtPajwFbiM8kI8iPAmHpLtUOTK8zlFFvKBRzDnu1IY7d6x/vIqxaTwaobu78iUvPD00V7sM1Bc7OlAhOnFlWjvt+zc8bz9aO4waFTxY0w68eY9hueu3Pbv11RY8aQWFO+050Dt6JBi7M4wBPKPJODuVfUe8tyLLO2cotTpkcWC8dlCSvNT6YzvG7e07Mijuu4XaG7wh+a87TlvtPFAFArxgTC48KXa9O++9DbrrLiQ8IkVePEaOProNJsE7Zp5kPMj9GztSX0G7Ba6YvM3kjrqP/tY7TZIXuxZx57tfFM871ZuzOzjkeTvNHjq63u/puyn/dLv2TWk6G5TKu0h4iLzm/Sc8LqUevEK2oTwdLZ84mcuyOyMoJrwD7kW79lxBvL1aN7xF2hC6CRA0PH3ZpTyjZ9U7iQmQu8lG7TsNZ/i77Solu2mqp7q2kdc7ZIY+uxJ8TTw70TG7ikRyO3DGpbs9foU8f3b/u5efcrwwqAG8CwHtPC+H+jt4sYY8UzZjvPC3s7r0hWu7VKhIvHiFaryc4r86Ql4WPRI3LbtwrHA8/bIfPGVmEDx68gq8s6rrui1+vDvSkaa6bhZWvN9ihLq6mfo30zXLO0Fhq7pID5Y8OdODOwopnrtWMJO6hX74uyyzo7q2/wY8v64KvI/8FTyLOwe8iDequqcCqDna9y88MasyO8C2ZbuiDLa7v6F/OwTiMDzFjAI8PWJCPEA+PDyrjDS7FsqWPLl9s7yFoXm8Fnw1PEKqLjyibu47K0rMusc/Kjq30Bq6fL6ZvATHSbxegzO80gumu5NbhrsBcR+71s8GO8H5pjzvBJ876vyaPMGn17sdHYQ8pB5cO4cQLTs1rU088EFDu6KD9LspnXu6JIVsPIAXHzwRwyu6Qm2/PNK/vzuhiLS8BRAyPGj4jDzqRZU64tAFOvzcmTtqlpm8u9WIO5VVtjoBpQQ7hGZNvIbcLjzsV/I7L4sIvIzL7rtrEic8DlzEO/8cvLsHGok8kL7Xu6TTETxmtG26jXiqO9KV37vSpcw6oLuNuxaQsznasZy8pbccvAtIZDw0G8O4Ro8hvIE2wbvH6je7nHQDPdqwSrywDIS4NfOEO68/STqMGEy7LF7NO3IlGbzniVe7pHkdO/s5R7trOl28PdXJu6tEwbtPdLW6ILNovFjJP7vo9ws8QNPyOkSgoDshKyE7FBV4PAhB2jtNl0s76GI9vDC+MruQeKA8jQmZPCSV+zu2yNw8lFuCPISR6bn/6zC8AcOQPG4fm7u/wxc8EL1yvCGsyLvUA2W8cpPiO7ZRJjzUZ4i8+RPeO6QU8jst9Xg806slPAW7q7yZWBM83wbvOrjGIrvNvhs8HDV0vKnRDTz/NOe6eOYUvF4PYrzKzi68/TfpukYoBjuSKCG8tGYoO+G1wjthpkA7/CVDus4PI7ug8Fi8j6SLuzrPdbvxUa+8D6G5OpLCTLuWIcs6zQgqvBgUEzwbtRw8xGSGOzcciDwD1Wi8T8+NvDWIOzzKJG+7tKj1u/64ATtuvsO7vJQVvAAloLpk6Fy7aRScu2erzrpUfyS8KCvIPFFYirvQam68/tvjO2jNzTrTDzA82v1Puyn1sLznMJ+7JvyEupyn1Tzhiwu8rZLdvCnrQbu+uWu78kH2uwqLc7xAjl87wkvfuxlZ+jpSpwu8jot2PPjcirwAbCC8WkV9vEpIdzvqQ/k7DEU/vGRPV7tU0xq8uP8BvNXX5bwvMD+7Jvrjum16ujqc6gu8XcDgO6cEhzwuC8s6EwNmO2xXT7zFsNy7k7w2vM2cwLs6vgk83V8qPHH7gDxS4EG8WMYAvEwv6zuQ+mi8nfJNPDfNizwVr5m7Y1equDiMRLtQwSq55sA4vGArJLxRHcY7fWF5vIv5yDzRmQ68MTuVPKqKhTxUvgK8TwjhutUMqrqGXi887DNgPI52NDsTyvq7aiw2O3avHLy2OGk8j/FZPP0OhrzXYDA8WBZPPNNvqDvi7ga88tnuOyx84jttf5s7JxAMvAiBuruGr5u7ISpfOERTNTyatis8+qv5OzbBzbb7b7c7b+sMPN8F9rtU2oO8vL+2O3dJk7u4qgq81v9cvOs8j7vKcc+6eUhvO8kAFzur7H26TCeAu+2vKbyB9++6VnXgOxebZjw2gIi70jtBPKES/7v3qAc8qpcDvMgA2LsFH946zFdSuuIgo7y1JBQ8bfvKO4Lu/7ruGHq8jCiqO9PZH7ysyCo7LIALPK/jMrycQz875wzOuq6yMLz1bti6i6YKOR/iAzt9ZKq597Kruy3XDTyYGpe7H5qruyyOQrzkH0w7J7CBO6+lgbzLPEM88hyXOwjnIrx370S8W+p5u5IyGry2nk880Mdyu3i8Bzq6/dM8Bl0gPXCTXLqZAIe8lrQ8OjwkDbwNjAy8JIiJPI9GTrx1YzS8sIIVuxbJUTymGXk8ys2Uu6AvEzx4UTK8rR8WOWHwqzvX+km7dS23uzWXDjy66aY7dOZyPD2a9TtbUrc7KbiHuwRNkDoBhO864hFdui44KrxdySo8qp0GO3KMSjyzUDQ7x7uOPP0CqbwnD9I7Ld+lOWgZQDxCcci6bd8nPK9K1zzLyhE7i2EgO53O+ruJtwM8A9lDO9XsSLxtuUi8zW9TPCGaFTwVLy684S6dOyVJE7y/F0Q8ldiPvO5V0Dulh/a7ygW5ugs+RzfWCTA7xJ8JvOX7ADysu+w5E6qru0p+CLu4ixi7RqIPvLgLEjyGO2c7Jg1SPGA27zsUZXo587D6u7/zBjy8Rzi6NdN2umzpH7sDHj08/tbju8QtETysT6q6vaehOMMPPzs6qzk8p+ohvI+FmTt4Zc07Nq+ZOxkIHjxOLrm78b5GvNXRVbxcj9I7NV+ju92LTjwRlTM8+9rGu5E3XTzZSqA7HXSAPE89rjv/ndI6JnWeOyXYwDkq/DQ7XoZBPBaUlzkyUBI7216ru83aULykRmo7Qe8PvGEh1jyicR48VSEWu77G2ju3ry48Fu4tOxUoM7yp3S08sIH/u1G1sjn5hC87IE+EvKuTN7ilVZk7U9ydu3qfwLu+kb+7Th06PHRCZTudqxK8eQNVvGm8JryMUgw8nWCBOy24ortZu747wz4fupNZo7y+zPW6Xcvdu9jPbDr0/307A+nKutfaXbx8sZC7okCVvMhWg7xgwUU8inUJPAsBhLvPQli8GDspvEzukTvl8Ki7mkhrPDXh+TckR8470JW3uX0HFzv+Jqe704ANu3AuFzrQmoq8+Qh2O7sGnzzjIMg8W3MFPH5BiDtPp2q7kqwhvKX92jttRlU86kNSvD66srsJx8a8f7Bxu31R/bujvWC76idCvBEP1TuDyZQ7jFUWvF4FJ7tiEQW8eABpuxTXQjxHiRI9IWmAPPYCkTzhQRq7Th+4vKKI3LsYx6G8PsEIuw1ot7oaLYq8zkDZO9hb27vkp0i8iwFfvJY/27ub1OE7fuSCvJM9jTt4+6m6NFjaO6UwArrWZog8JuwWO63ZTzxlqPy7Cbt8O7qwjTsQ1Po7rTvqOtqk17spphG8sGbSux/hpzypZnU8WxohPFWtGzzd8rw6j8TCOzcbJDv8Xh679+4tPI66NDydbLM6GlIYvLgHbDy1DIE7s1zGu3NmmDscv+o89atRPANPETyke4u7gf54OkATGDyUwfy5XPBSOybTQzt97ik8EAMTvKRWLbyaOXQ8sQ8guwZMJjzEFO87yaFmO1G7fzvzmG485YRivJ7V8rswPkq7Ie93POmNe7tqdne82mmDvNGpbTrxiJ47glxtvGEBnDpkvaa77QVvOu2hNDwVxFW7MOOau/Wp+br+/LC7UHijvGFZvTuLU5Q7POpKOmuczzvnCGu82+uZOwhqyripd4G5jsxxPDykwjx6fRu8WbAYup7h8jujpA28qAltu3IL0TuyZBc8leYevBqF47vmv1M8XKEAvOCi5bv1pW+7ghgyu+OJkTwEPAG8dHqNO+93lDw0euu75ZaCvAtpnrut3N67H1kXPLwq8LtxkLO7iAZqPEFTDLtV78u60qUTvPKddbyyZhC8xZo/PLdsQzy5n8y7x2EjvEbk+7tymh48HhUOPH+gKLxQMTi8BLJrvGMgILxuuDE8DB72Os3vPDtH9kk7L+evu+c4OLz8Hl28cNlyu4jQYbh3Dti5ULZ+OzDGLjreG866V8qNPGR0kbwlYY+8uHdJPC08ebuymhA82todvIjg3bteSwm8zSNtO0M3Rbx45W48uCBUu+jEXrzpE0w8s3sGvDORqDt9ol28VxYkuh59XzsP1p487UVtOyIRELuzQNi6e6c/vMUOszswDHC7+2dXvGthlLyiKB27fJJWux+FPrxsNwu8I/3fu7zcEbyu/zI8patDOgcuAbyIhv07PD9+u2gVebyguIK69SE6PJesUjyRi1A8goDiu8N0LDzp/jA8e+GAvHiEursE1xO84pnUu2vwgjy1Amu818TYO9TfuDtxu6U41oZlu7UKBzzXKUu7uLBEO5PJQbsC2Z86tjFzurFNALpceUe7mkimO+IdEjxneT+8+YEEPBmCpLt+dC87VjWcvDL1Jjwfrro7eniDO5p/i7xeoCW8jjvSukKkLrw6+ny7BryCu9vCXLzFURq8TUpQPJKsNbt09Ie8yYgfvIwo7Ts+g5E7GjNDO1iIKbyGjb26meKBOvwMnrwg/QA8J6ATu00enjzM6HY8NN0Mu7ejj7jEfOK7JiFaPLssZry2CJI8q/qBPBAQ7TsiPjS76pTKu8k04LoJ6ta7Ntu2u8jgDrwkDdU7Jv4AuaVSGzv1yBK8Ln69OxB/rDyOYpM8zguGvLtGeDtAUs67ZkMevA7RVTvXJ4q7aYDOOg7cirtCcRE9/DtevIq5fjuTVKg6D6qAPPuZibvtC+87ZYijuy060buaxyM8vZ5jOlo097jUER46jwP0u2h/mjt1C/I76UEmO2CJb7z//fE75oCeOx16xbtxZze7DsiZO+uoz7tlKTK8rYM+uv8tVrwnwo08xUiOvL2wvLtWKVA85npZPC+aDbxWZee7vqnCuhKDD7sq8aq6UV6Luy82iLp/dvg7N60rvF3jpzod8c88GdA6OqMmuzw0K+I7He94Op1scTywttY6aQsHPFxRfjyDQ+E76wxEO3IwDjzY6Qy807lPvFgkd7xuoKY73MbDOxXzoLswaRu8Ji4cvBkEsrwEZiO7s1CiOg+6mbvYo+C7d5ZoPLR4Rrz/TzI8JtL0u1FY4rv4PSe6JcyMPBIBrruPLLc7JHQkvDlHcDvUccu7RgZ9vBRBvbuZDQW7QCpEO6eRWDyBFSg8KRAau+2yoLtY1Ae8L5jmu2NlBD2NwTg65vhuvChqD7xQTN07BGMdvO/gVLzjGA68Dzx0PBLkPDk5zWm85KjTu6JI5LlWQAq7OJrAOw0b9jtwrEw80GV+vKxrUbtu+Z47tFOUPC2YLryczKO7HmxYvHIDjjvFEVi7Kx6Cu8LtOLpud1I7RjVMuiXGSDzwvcq6lbuhui6EkDuubBe7IxtBOwHSObwHZTU8pQ9yOqADwzuIFhw8MQnWO0Zbibw93s27YyKuu48os7soD8I7j9CBPFgUuLqJvpK8xAnru9FiajxkzGU7WLSXuwV1JTyqtlE8szBMvKbtY7ulV7e7tjgovB4+R7v3e6M7j5qEvO7qaLuJwSI8cDQovKZsqDuguFy8Fp2NO1F+C7zmR4k8lJ+qO89Rj7ugD2U8sussvCJypLvhsGW8JG0XPGbyAbzymlW8lgKjOgXBLbshuw68/zA2PKz6N7tMCxe8CiHSO7PsGbvlk8+5uo8kvE8A4zsbyiy8Hnw8u2MDQzzoW+i7kxf9O5jvobpJQwO7bzevPHlp3zqqHEU8SXkQPLmL4DrSers6Agicukz8ILxHn1s7IDPqO+9yeruZ5Q28kuVLvGJaTrzMRzW85EnluhiJTztK7gc8aIAOPME2DLt4DHo8c2VOu7rFhruxCi08T4sTPOlfjDzUqwM9ELV+u7JEFDwoZiy7fFtPPObPMbwHzx08Cnu/OkXeSjyuRtI7YYDKO7x02rsJIUc8QpuCu7ODrby1XRM7TgwMPCkuPjwGuDw7UO2FOyNMwrthb927S0iVvPHup7zj37y6o7kePNG4MzwcEje8l9u5PDq/mbxVFbG7kq1ou1plO7xV9mO7hx+POxNz9rvBvLM88wNpO46DeDwCz3S8nNc9vBbFAzxLHEC8q8BuO0JYsTxEMK07//eWO/Osv7p+IKY7QuinO9N6LzwLaBS7LPkru+vgxbtd0DQ7R1yku6tRh7zWHvc6ZpURuwhKcjyeQr061St5u9O2UjxThlw74nhvO0di8zskgHs8Lgjfux5EHjxWsgi89A/Yui/iETvh1D072xa9OwoHQLyYbxU89/cmPCW3Mbzy13y8q977O89lx7vZWdw6s4FHPFm1C7zxBN46FnRpOdxbBzzCGEq8sVTcOsb+C7vnxYo7PXcvvFILWLwsjik8TuoXPGCDRjxybEE7+oKUPDcmYDyEvvG8cYoTvPJEnruX/ri7s1jYu+8sxTul5T07NpXquwMbprp1EU+8YDhXux/eg7ztPow6L60IPCGRTbqOvR48WCNJPCslCjzuL6K7laGFvDPUrTvBssm7brOZOzlRLzu+GAC82Kreuq+2BjsJUaO7zWgHOlNpQTySigO6nsKiO7342Ls8w+G6SlWFvH4QhjzN/xk7bRkWO7MEtbslZXq7+U9jvDE/FTxOTVi8hKiKuqSUNjwJ54C8qfHPurb8oDzqnD+85qg0vAI5Krwbda+7MwEevJAQbTx9Yoa8G3qkPFzTDrvvUiS7HVqMuzAQybvry5K8FkDFu80pKDqvQs28CZzaO4e2GbvEtyw74d5MuxrxLTwl4ou8NteSuSX9LrzgV128s4qsPCXHtzqPLZo7prFcPGlSVzuy0My7KkwWvIEKATuta486u88uO2bVlLtbSty7+tqPuyaDljwnkIw71OWpO6d+jDxNoIy8JBgnuvYtirxc/dY8fpHcu18VN7x/KZK7URBEus/TibzdHdM7VIcpvHrX/Dty15+7cagEPCIpaDs8MlY82+jAunzbrDzMWEW8G9fyO3DeeTuRiQu7CJLVOxrKarttCyw8SZECvHFuULq//ts5EUuHOnDWljyw7Bu8lgBAPOGnUbyl11g687DauhjRqLsA6P+7ibrPOt6ta7xswSC8yoKGO0gBGrpgi7i7gqH/OzxsDrzq/yg7iTb5u+Aub7vFtXW8wuZavDuqMbw2kTe7E+fSPE069btlEmc8QoLsu3UhR7zy84i7a1ffu9kUlztBO0g8aaJcvGB7TryDU3Y7yqQRPM9XHrwnY5W7/voKPCRIDTwEL4u5Ngm3u0ND8jrDNru8f1g5u9Wfmzu3xgW8ifHHO7+1pDvBsSU9o7rNOwGmErvMVne7fn+Du3OzgDyv0o67sV9tOx2pFjzI25M7QyBMvM5GNLyOjpo8ZEWhu9RGLLzDlNy7S8nAu5SFL7wFCDK8XadgOtiWwDzmB6Q6ff80vB7cCDwsl2g7wToBu5t8cruUmvE7XpCmuw5CgDvikYo7Xm8ZPFOROzwLvgy8yUflO7RU/LsVyCe8m/Dpu5DRH7z9XQq8yKQ6PDnpYzsw9le8+AWXO9FEDjwwnlC8Gte9O2zMyzoBatg7EN3TOQ0N0LtmBJg62aOtup3GYrsT0WW7zacIOwSb/LusV0I7XaDEPMD/r7h9FS+7d4Dfu3Yh4jxfFqa7gbUcvBVjQjv9vws8nypqvF43OjwVygm7+yo0PO+VGLyBZ4Q72kIQvIo/sDvLKwA89d8yvKlVAbqkCEU7kDMxvLFUsrv7PPU7EEOzPO7f6rwgnRA88cT+OrYzy7YFYHo83gGVvDpz3juMe4s8d7QzPGqzGDun0CY8VaqlOzx6tTmKwRi8P97UOk6KuDnk9s670PZAu/Z4Pzz/eiA8CSbfu23CXLiqH8i3gp/tO+NL7TyLO4W8HdwavJHXfDvZGky8ck39ufmPX7vzk7a7kXNhO+lYmrtJ/PS7i/6lPExGULxoz+o6WCQNPAcYhDt6IyG6rXJ/uwWOObxoZ788BKonPJa4gTv3M9U6dHXIud/WDjwOPZq76YnDOw1XW7zWE5m7OaZXu3tWTTqYqE+7zmU3OgUlhDv2vZ07O3qrOtep0juE6D68zTocvFdhBLyoBzy86OgUPOUrgDy7Rq48lTh1u+SiiDx+es672RSnO+0mVDwNhZE8YcQNvMo+pjyqpCs7SeBQPPVfQbtAW5u7z67GO7eejDvDSOS7spJmO4f+CrzgfjY8UUCPPCcYgztF5B26kq8Du2P2MzxbXOM6t48DO8rAc7ud6Mg8RIyKO8HzLDxx/gu8RBjqujS/qzyOghO7yZqKPIKYODvYARi8If62OxxkYzsqGMo7bYrpOwpMIrpA7aM8jsBMvBrDaLyBvYy6tlB3PCSOMjp95BU8UyCVvPc7DrsPWUQ8LveQuw3FLDxNVRU88boiPCqXdrwZBbm8dgHtOw95WDzO9Jy7uKpEu//S4jvjfma84dZGO4MLjTzRzae88FRQuha1bjwrQ/08fU/GO6NGKDxnVoE8UmyVuXQWBT0Ah9e7OdxVO+dVZzupKmM8jpS6ugIDTrpuODO8p7NjO/iXyrs5I848LtGzuuUeKrxJkHa8Og6rukiaLTt9xR+87jl2u/9oprspFuA7EEZMPFl0oDybzzw85UTSu+b8FTtdF826crYsu4JdQbxR/S08eiu6O6tH/jrqOOW76PWzPEyUCDxx0Qy8cIZGvDgtDbvEEce7pjJePMZtmLthG6A7eI/Wug9mprtMRYO8g3ebvFpK1DurojA8ACBFPFfjSrzqRtM7lsSSO4en1Lp3i1+7fEkWvLpnn7uBE0+8U1qXvOBHljz4rWE8SJBtO14XUbsNKY+8lTqEPD4SJjzAJwg8ye6du14InbxIao88y90IOxHyXzxRo087ZbnLu08TabtHAkY8oOeUO/evSjsiuWk8aHMOumB/37ttYWg8X1dYOnISdLvcpRY8FFCmvIqEsjxpjxM7+rTnuyM5k7yFkSQ8/JpHPI9WHbxB8Mu5wNUEvPvwxbvzsiq8xHyfuordizp99oi7H/+XvDoNXLt08wa8S2ZBvHp5NzvNhwS5CGf9u5Mu7zr2KLC7gPFou6rw1Dv+tgs8Im6IvIY3brxpS4s8D95gu3lF0TsFeoC7Fla6O8PnQbxx5y28yolFPF6MHTxL0Ie8xWg3PEfvgzqfy7q75sYWuWA3Xbz7iDm6H14nvNt6x7ur2Da8RtDcOwt9PjyI6jE8oQa9O8fLZLvLaKy8VlCbuSBKnbumu+K7jtGSvHGJZjsz8y88B39ku3r/Wjvc97O7RPiGujF5Nrx+zYq5X06GOkfpWTknSba75xO/O5ef/DtKGWu6h2uUPKpGsbrRLkW74K4WPMfrD7wa+A48JOqpOythYLwtj6a7Vd36O6u+c7wMdqE7fROnPMFuK7uzwH67CG59vDatFryr5qw7KQcAPKwpwDyOl+m7yXyGvN2uZrvVj6A726FqOsdrajy3WCs8KRRqPEGeLrqsloW7G3VsuyLKXDzOc1e7CQKcO9AWgbvDJ0O8lGFuPIY+YTtn3A+6XViSumUQRrx6Cpc7k3tPO1gYXzzNsI+8tRlqvMf/37zNERG8JZZ/vOmdhDwwJWU8xbeRO6d3f7zJHMk7OI6duzokR7w8eK87FODlu5xxnTu8m4y6JO9FO5KZaDvmO6y7V3G5uxQzYbxndKA6M+IuPPrgSTwUNoI7C4qDPCVHcTwG4bk8F6c3udVZQjsUteO7LkRGvGQfiTw9mym88h6hu4DosrzTy9W5hahaPINfurr7iSu8LcM4PLAs5blmBcG7fLQBvP1+eTwcMD07w1CHPGklRzwI6VU89twSOiSeHbyz0MW6alZFPIFeAztHUSK8b9KIO4CHTjwHili7Bb8HO7guNzznhiQ8x1f4uz9IqDsAmTk6iTNyvIg0rDyjnAI86D80vHAxpDtRNGi63nj5PExTpDuxFj079ZIkPB1nvzwFyO+78TNlPPVAKLsOFok7fycYO7VqXDwaMOu7SniQO4wKjrs77rG7iNrGOsEPo7sa8iO6GrBRPB6Plzwb1NQ5neP9ujzqVDw8S/A7KAIIPLjRoTy7v0E8Yr6DPEoXBjxOx268VcgBvKu+FbzaWxo88nYhOyZUGzxF9Zy3HhjOOsAzRryC3xM8c7EZvJ93GrtpyXq7lWJRPPIYNTts7za7rTUEPElclbsHvfY5o2xKvMXMRDsLbpa8Yf3yO1OEHTxXoe87WRMdvLubBLsAXtC46/Zru7hO5rssonW8BEtburD//TsnVQC7FE5au4Zplzxf6oy8kD4YvHfa8Lu0wak7otyGuzB7GbwIkaO8QV/Nu77BALsouVu7343XurE4bDpcpEG8x5bMO6RuCDw8+Sw8by7Ru3uAmryjAmy8rBu/u8OfdzxG3MY6fJSSu49NVLwW6ei7YFWOu7D5hbr3uSG6Dx5RPIF7Kbx3vgQ7pcTougb3iTzeMIS6+duDO2GMP7x+ILo831Vau5xhAzxN1Bq81fUJvDTanjoSPdu7VE+ou/FNlrsKJ+47U0ScOmak4rtsXhU7ylQuPGsOjDsTDQy83fvdu55Y1LsyYfU8i3UFPIjxMzy9a7a68ZWPO2wKMju3wr87GqJpvI2or7oj59s7Fixau1Gfcjyd9oa7wYPzup8BDrxq+lg753NJu6u0mToAVE+87l12PIIqj7uBHE86fWLXu2JIpLyxhwK83vu9O9K7zDtt8U887DnWu46RAbzompW8nJs+vAkSTLyRsJm8v+4ZPMC7u7sxumG83Xn1u7mYLrsCvyG8cFVou0ztqrvTnxA8vgvcuorzibxL6Ry7tXVrvIswNbz/5h28KLWQO1ldU7wbeTe8f49OvD93dzvcfIi84maDu4vIQbzRR6276UYjvKJWLrzFAVc8oc7Zuyk6a7siaEI80gYau7qNpLz/Qpq7M37yO644Wbs04l67jvtJPJw7oTywIvk7DzCIO81HFjryZTW8Pv4pvOnyljq1bae6Jhk6u3nViLvKuTC8B/UfOwMEAbvv8n85i5qXuwmYgDtETHk8fElLu/BDCTyucAI8JQa3OwdJYTzm2AU8gZzmu6UxKrx2Kiu80AQgu/OQCLtlhww8jpJ0vGKxjDxlTSW7W/PRulmZiLtzHjK719M+OuVHoTxxfjg7lJmOPDEvhDue5h68tPVJPAtwBTs1Rnm8lJaPvHQ3njmLzdE7k4ZaPFi9L7t1m9W6kx/vOzfe5ru3jQk87X/eOpsjozzCH6W7e/TSuk1oMTxCKR48D7yFu7WlJDvEcg48U3fOutwmL7uCHEW6y2BDvKYnCruIoV67hDTbue9wBrzKjzi8HdZtvLU2tTusxXo8CywhPAZNODo9aMG7sUC4vBTOpzyP4zC8FvVQu6mkTzy6CQM8jAw4PNLGiDz/4TU8nDoWuu6emLwemGo7hJqePHumQ7vfAx+8Jb9BPPhD+DvB7Vm8ONIOPKKaLjxO8yI8eFtnvAty8DwPSRW7LlI/u1ww6js3Ryg8ZR36um8ELbzHmRY8d0PSu3xfgrzh56y7MK0BvDNXv7Sm8Ia86YjbPElwsjygSMA7J9+humqDr7s2oX28hO8Iujl7gby+8zy77kssu9WTe7s06Yw8fHtEPD3CbzxsdxU8y8SLvEr4w7qrdMq78E1tOiQImzud7KY75lvaO1EmrDysGSK8UGgau6Rxjrz5wXy8noJONjKlLrs4gKI8c+CyvKWSm7y1Cck7hZ6evPr7TjygOAY8PIpyvKvC97ukrwc7PH09PFkzXrzjBIO8nsM2uuZRSzx09KQ7hpgHvDqqnTvK24684STLOyUYjbxLEza8VawMulUh0jqZ0l06ThLRPOEqCrt5wlK82YQAPJyWrTswNks6Z7qAPPejqjvpSz87WI8kvNUG4zuLeIE8B0ycvJvgY7tYN8Q7xG+oulxfh7tmI4A86uFYu1oeh7v6Mxq7DDX8OxOdPjypEFi86S1hPCSvbDsxGNW7shr0uwk1bDwAQ9m7XDn7O276mzwCNNw7LUu6uyPHODpm84M6G9MDO3YvT7vNECg8vkAyPHlafTvaZg+8IKvKucd6uzicKpi8kpC9O5GqZbzedno6yHwyvAXbCjpq/xc9X9sDOkgJ5ju3PgE8TMmvO8uusTuxdke7KosJu8MASLwFNfa7tZydOvKKATumxIA8yqNIuvF2jrkRwK67BTmzu7Wb2zudqAk8gS0BPfH1CDzR+JW8Ln+zOXffCjxTomQ7+dw7PKhjCby8uhE80QYbu8pZOLwedwS8nC/JPNWVsjvdd3W7B2SQvBAZDjyyWrq7A6yJvNerNDvHYQU8EU1cvORdtzs/vCK7proGvBwIqrtvbau859hgvKcrgzqWEXy7uA0PvNS0K7yCxb66ZdEnPMpbNzyFVc27BqZcPLH9Lrzg9/a7+xEwPKSVC7weUHW7MfA5O+4GgTy2Qkw8DDmtvAgy5zsfvBE8xzpvOqDe1LpkG+O71bdOPBZRkLs8E2+8ozaWO3egh7w+LMs7lu+aO3xyUzt5rFG7hgVaPCkyazxru9I7+s1EumH/Q7y5EHQ8ibSQOxK5pjuuMpq8dSs7PPlV9jtGaDk8FtXBu+/ssTiB9Ey87lmAPJ1RDTyQw1O77W+TvA1DnTuSA7c8nr0nPMcM8DvOe8U5EDRTu8mwSzud1gS7M2ApukBq4DuMA927uSwgvEjRUjyYJGS8SUyeuXH0Ijx9+O03oQGousD5aLtwrF673G0TPFImlbtAmYm8N4YCvPdbYrzSt427IHvRu0zMLrzNCyy8KGwQOvX4L7zOTWs7RME+O+CMDzzrCIE8abRGvPD5EzwU+lK8Kw1kPLb6vLkjPTq8dR+wO/cxjzw7/4e7vLs2OpowObyive87SKh3PC9eCzyF2CW8JnlbPKjbLjx7h5o8skZGvFNNHrzyFA68lZDUu/BdUzqgIhk5b+lSu+BukzuJx3U8nR3gOzJRjztytvQ7gKGGu8pBk7rXbs66erFXvBctPrxfOXS8XK6Muz/jsjuAgoQ8z5qbu3jMizu+COQ7ZUIqvMQhtbpqST45XOWPu8D1ObyD78W7uFVSup2TYjtrxSc81U8rvEh+vjuYS3U6RfDFuOptADs04+C7U2kXuiWFbTrNK1M8TWeQO75YGDwV5JM8+VuMO6QznjynU+G7cqInPBmJJbznDsa6+GcUvApOTTwSo467+pbFu9s6IzyAj1u8LREkPMGf0Drj4km6B89ePPOFe7vP13+8lngjvIfmwzv/O546Am6NOydOULy0iXA88Ro7OTcMI7wXrxy83V17PAnZhLwGNlQ8zk+uuhKERrzN4FE8vjONO0EwWjxGVH87e+MevG7EtzvIp5E7/W1oPARJlLyv5Yq637YPPDDPsruewA27xfSfu1+CSjvKix68qKeeuiMFpLquN+M76YXou/7vI7sFVTk7/Vq3O2Vm3bvegIY8IhCcuhIWFDzcPOu7G25EPBxynzpHaQa72C7rus8BmbtYqYi8JHx0vALRlDvpaC48PGkovNbzWjzdeZU8GMQkvBzGgjw0gvw7TdNLu7BgZLz3s5c7b8E8vBDcTDuskZ67eI8cvKWA2boEDZW8EX9kO0y25TvGW6G7A/NRPE+IEbyQnb47vTipOtfaxjuyMTA5TjkKPFz78ruC2KS7NCMivFLR4bsqe2+8pGuNvCE0NrrKGMc7oey3u2BzDzyaI8E74+CCOQYFabt2AtU8TaUBO6gKFzy3CKs72rVKO4lNbjm1dqY6AvexO39c/zt1EyS8wME/PMW6xbvV7e+6XvukurjlkrwH3Iw8V7RaPPQ2h7wpT+y6nFhFPL4qmTtN6GQ7WBjfO/Z7QjtDHqG75u4Zu/+phzy9YTc7JcmrOr3nHboGlRC84QADvFk0S7uXPp67BPuhvOJ1cTsaiAs8K4+MuwPskTon3Ew8wCfxu9RXJLsq/Hg8amn4OmOcEDsQylU8EkgxPKBEdLsNxf+7llgSvChKY7uYhmC5DmxyvLMetTqjFxm6YUQIvJc0ubv72iQ7e0EJO+CnmLvd9dW6RLv5OpXyMjtyHVU8L16YPA==",
          "dtype": "f4"
         },
         "y": {
          "bdata": "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",
          "dtype": "f4"
         },
         "z": {
          "bdata": "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",
          "dtype": "f4"
         }
        }
       ],
       "layout": {
        "height": 768,
        "legend": {
         "tracegroupgap": 0
        },
        "margin": {
         "t": 60
        },
        "scene": {
         "aspectmode": "cube",
         "domain": {
          "x": [
           0,
           1
          ],
          "y": [
           0,
           1
          ]
         },
         "xaxis": {
          "title": {
           "text": "x"
          }
         },
         "yaxis": {
          "title": {
           "text": "y"
          }
         },
         "zaxis": {
          "title": {
           "text": "z"
          }
         }
        },
        "template": {
         "data": {
          "bar": [
           {
            "error_x": {
             "color": "#2a3f5f"
            },
            "error_y": {
             "color": "#2a3f5f"
            },
            "marker": {
             "line": {
              "color": "#E5ECF6",
              "width": 0.5
             },
             "pattern": {
              "fillmode": "overlay",
              "size": 10,
              "solidity": 0.2
             }
            },
            "type": "bar"
           }
          ],
          "barpolar": [
           {
            "marker": {
             "line": {
              "color": "#E5ECF6",
              "width": 0.5
             },
             "pattern": {
              "fillmode": "overlay",
              "size": 10,
              "solidity": 0.2
             }
            },
            "type": "barpolar"
           }
          ],
          "carpet": [
           {
            "aaxis": {
             "endlinecolor": "#2a3f5f",
             "gridcolor": "white",
             "linecolor": "white",
             "minorgridcolor": "white",
             "startlinecolor": "#2a3f5f"
            },
            "baxis": {
             "endlinecolor": "#2a3f5f",
             "gridcolor": "white",
             "linecolor": "white",
             "minorgridcolor": "white",
             "startlinecolor": "#2a3f5f"
            },
            "type": "carpet"
           }
          ],
          "choropleth": [
           {
            "colorbar": {
             "outlinewidth": 0,
             "ticks": ""
            },
            "type": "choropleth"
           }
          ],
          "contour": [
           {
            "colorbar": {
             "outlinewidth": 0,
             "ticks": ""
            },
            "colorscale": [
             [
              0,
              "#0d0887"
             ],
             [
              0.1111111111111111,
              "#46039f"
             ],
             [
              0.2222222222222222,
              "#7201a8"
             ],
             [
              0.3333333333333333,
              "#9c179e"
             ],
             [
              0.4444444444444444,
              "#bd3786"
             ],
             [
              0.5555555555555556,
              "#d8576b"
             ],
             [
              0.6666666666666666,
              "#ed7953"
             ],
             [
              0.7777777777777778,
              "#fb9f3a"
             ],
             [
              0.8888888888888888,
              "#fdca26"
             ],
             [
              1,
              "#f0f921"
             ]
            ],
            "type": "contour"
           }
          ],
          "contourcarpet": [
           {
            "colorbar": {
             "outlinewidth": 0,
             "ticks": ""
            },
            "type": "contourcarpet"
           }
          ],
          "heatmap": [
           {
            "colorbar": {
             "outlinewidth": 0,
             "ticks": ""
            },
            "colorscale": [
             [
              0,
              "#0d0887"
             ],
             [
              0.1111111111111111,
              "#46039f"
             ],
             [
              0.2222222222222222,
              "#7201a8"
             ],
             [
              0.3333333333333333,
              "#9c179e"
             ],
             [
              0.4444444444444444,
              "#bd3786"
             ],
             [
              0.5555555555555556,
              "#d8576b"
             ],
             [
              0.6666666666666666,
              "#ed7953"
             ],
             [
              0.7777777777777778,
              "#fb9f3a"
             ],
             [
              0.8888888888888888,
              "#fdca26"
             ],
             [
              1,
              "#f0f921"
             ]
            ],
            "type": "heatmap"
           }
          ],
          "histogram": [
           {
            "marker": {
             "pattern": {
              "fillmode": "overlay",
              "size": 10,
              "solidity": 0.2
             }
            },
            "type": "histogram"
           }
          ],
          "histogram2d": [
           {
            "colorbar": {
             "outlinewidth": 0,
             "ticks": ""
            },
            "colorscale": [
             [
              0,
              "#0d0887"
             ],
             [
              0.1111111111111111,
              "#46039f"
             ],
             [
              0.2222222222222222,
              "#7201a8"
             ],
             [
              0.3333333333333333,
              "#9c179e"
             ],
             [
              0.4444444444444444,
              "#bd3786"
             ],
             [
              0.5555555555555556,
              "#d8576b"
             ],
             [
              0.6666666666666666,
              "#ed7953"
             ],
             [
              0.7777777777777778,
              "#fb9f3a"
             ],
             [
              0.8888888888888888,
              "#fdca26"
             ],
             [
              1,
              "#f0f921"
             ]
            ],
            "type": "histogram2d"
           }
          ],
          "histogram2dcontour": [
           {
            "colorbar": {
             "outlinewidth": 0,
             "ticks": ""
            },
            "colorscale": [
             [
              0,
              "#0d0887"
             ],
             [
              0.1111111111111111,
              "#46039f"
             ],
             [
              0.2222222222222222,
              "#7201a8"
             ],
             [
              0.3333333333333333,
              "#9c179e"
             ],
             [
              0.4444444444444444,
              "#bd3786"
             ],
             [
              0.5555555555555556,
              "#d8576b"
             ],
             [
              0.6666666666666666,
              "#ed7953"
             ],
             [
              0.7777777777777778,
              "#fb9f3a"
             ],
             [
              0.8888888888888888,
              "#fdca26"
             ],
             [
              1,
              "#f0f921"
             ]
            ],
            "type": "histogram2dcontour"
           }
          ],
          "mesh3d": [
           {
            "colorbar": {
             "outlinewidth": 0,
             "ticks": ""
            },
            "type": "mesh3d"
           }
          ],
          "parcoords": [
           {
            "line": {
             "colorbar": {
              "outlinewidth": 0,
              "ticks": ""
             }
            },
            "type": "parcoords"
           }
          ],
          "pie": [
           {
            "automargin": true,
            "type": "pie"
           }
          ],
          "scatter": [
           {
            "fillpattern": {
             "fillmode": "overlay",
             "size": 10,
             "solidity": 0.2
            },
            "type": "scatter"
           }
          ],
          "scatter3d": [
           {
            "line": {
             "colorbar": {
              "outlinewidth": 0,
              "ticks": ""
             }
            },
            "marker": {
             "colorbar": {
              "outlinewidth": 0,
              "ticks": ""
             }
            },
            "type": "scatter3d"
           }
          ],
          "scattercarpet": [
           {
            "marker": {
             "colorbar": {
              "outlinewidth": 0,
              "ticks": ""
             }
            },
            "type": "scattercarpet"
           }
          ],
          "scattergeo": [
           {
            "marker": {
             "colorbar": {
              "outlinewidth": 0,
              "ticks": ""
             }
            },
            "type": "scattergeo"
           }
          ],
          "scattergl": [
           {
            "marker": {
             "colorbar": {
              "outlinewidth": 0,
              "ticks": ""
             }
            },
            "type": "scattergl"
           }
          ],
          "scattermap": [
           {
            "marker": {
             "colorbar": {
              "outlinewidth": 0,
              "ticks": ""
             }
            },
            "type": "scattermap"
           }
          ],
          "scattermapbox": [
           {
            "marker": {
             "colorbar": {
              "outlinewidth": 0,
              "ticks": ""
             }
            },
            "type": "scattermapbox"
           }
          ],
          "scatterpolar": [
           {
            "marker": {
             "colorbar": {
              "outlinewidth": 0,
              "ticks": ""
             }
            },
            "type": "scatterpolar"
           }
          ],
          "scatterpolargl": [
           {
            "marker": {
             "colorbar": {
              "outlinewidth": 0,
              "ticks": ""
             }
            },
            "type": "scatterpolargl"
           }
          ],
          "scatterternary": [
           {
            "marker": {
             "colorbar": {
              "outlinewidth": 0,
              "ticks": ""
             }
            },
            "type": "scatterternary"
           }
          ],
          "surface": [
           {
            "colorbar": {
             "outlinewidth": 0,
             "ticks": ""
            },
            "colorscale": [
             [
              0,
              "#0d0887"
             ],
             [
              0.1111111111111111,
              "#46039f"
             ],
             [
              0.2222222222222222,
              "#7201a8"
             ],
             [
              0.3333333333333333,
              "#9c179e"
             ],
             [
              0.4444444444444444,
              "#bd3786"
             ],
             [
              0.5555555555555556,
              "#d8576b"
             ],
             [
              0.6666666666666666,
              "#ed7953"
             ],
             [
              0.7777777777777778,
              "#fb9f3a"
             ],
             [
              0.8888888888888888,
              "#fdca26"
             ],
             [
              1,
              "#f0f921"
             ]
            ],
            "type": "surface"
           }
          ],
          "table": [
           {
            "cells": {
             "fill": {
              "color": "#EBF0F8"
             },
             "line": {
              "color": "white"
             }
            },
            "header": {
             "fill": {
              "color": "#C8D4E3"
             },
             "line": {
              "color": "white"
             }
            },
            "type": "table"
           }
          ]
         },
         "layout": {
          "annotationdefaults": {
           "arrowcolor": "#2a3f5f",
           "arrowhead": 0,
           "arrowwidth": 1
          },
          "autotypenumbers": "strict",
          "coloraxis": {
           "colorbar": {
            "outlinewidth": 0,
            "ticks": ""
           }
          },
          "colorscale": {
           "diverging": [
            [
             0,
             "#8e0152"
            ],
            [
             0.1,
             "#c51b7d"
            ],
            [
             0.2,
             "#de77ae"
            ],
            [
             0.3,
             "#f1b6da"
            ],
            [
             0.4,
             "#fde0ef"
            ],
            [
             0.5,
             "#f7f7f7"
            ],
            [
             0.6,
             "#e6f5d0"
            ],
            [
             0.7,
             "#b8e186"
            ],
            [
             0.8,
             "#7fbc41"
            ],
            [
             0.9,
             "#4d9221"
            ],
            [
             1,
             "#276419"
            ]
           ],
           "sequential": [
            [
             0,
             "#0d0887"
            ],
            [
             0.1111111111111111,
             "#46039f"
            ],
            [
             0.2222222222222222,
             "#7201a8"
            ],
            [
             0.3333333333333333,
             "#9c179e"
            ],
            [
             0.4444444444444444,
             "#bd3786"
            ],
            [
             0.5555555555555556,
             "#d8576b"
            ],
            [
             0.6666666666666666,
             "#ed7953"
            ],
            [
             0.7777777777777778,
             "#fb9f3a"
            ],
            [
             0.8888888888888888,
             "#fdca26"
            ],
            [
             1,
             "#f0f921"
            ]
           ],
           "sequentialminus": [
            [
             0,
             "#0d0887"
            ],
            [
             0.1111111111111111,
             "#46039f"
            ],
            [
             0.2222222222222222,
             "#7201a8"
            ],
            [
             0.3333333333333333,
             "#9c179e"
            ],
            [
             0.4444444444444444,
             "#bd3786"
            ],
            [
             0.5555555555555556,
             "#d8576b"
            ],
            [
             0.6666666666666666,
             "#ed7953"
            ],
            [
             0.7777777777777778,
             "#fb9f3a"
            ],
            [
             0.8888888888888888,
             "#fdca26"
            ],
            [
             1,
             "#f0f921"
            ]
           ]
          },
          "colorway": [
           "#636efa",
           "#EF553B",
           "#00cc96",
           "#ab63fa",
           "#FFA15A",
           "#19d3f3",
           "#FF6692",
           "#B6E880",
           "#FF97FF",
           "#FECB52"
          ],
          "font": {
           "color": "#2a3f5f"
          },
          "geo": {
           "bgcolor": "white",
           "lakecolor": "white",
           "landcolor": "#E5ECF6",
           "showlakes": true,
           "showland": true,
           "subunitcolor": "white"
          },
          "hoverlabel": {
           "align": "left"
          },
          "hovermode": "closest",
          "mapbox": {
           "style": "light"
          },
          "paper_bgcolor": "white",
          "plot_bgcolor": "#E5ECF6",
          "polar": {
           "angularaxis": {
            "gridcolor": "white",
            "linecolor": "white",
            "ticks": ""
           },
           "bgcolor": "#E5ECF6",
           "radialaxis": {
            "gridcolor": "white",
            "linecolor": "white",
            "ticks": ""
           }
          },
          "scene": {
           "xaxis": {
            "backgroundcolor": "#E5ECF6",
            "gridcolor": "white",
            "gridwidth": 2,
            "linecolor": "white",
            "showbackground": true,
            "ticks": "",
            "zerolinecolor": "white"
           },
           "yaxis": {
            "backgroundcolor": "#E5ECF6",
            "gridcolor": "white",
            "gridwidth": 2,
            "linecolor": "white",
            "showbackground": true,
            "ticks": "",
            "zerolinecolor": "white"
           },
           "zaxis": {
            "backgroundcolor": "#E5ECF6",
            "gridcolor": "white",
            "gridwidth": 2,
            "linecolor": "white",
            "showbackground": true,
            "ticks": "",
            "zerolinecolor": "white"
           }
          },
          "shapedefaults": {
           "line": {
            "color": "#2a3f5f"
           }
          },
          "ternary": {
           "aaxis": {
            "gridcolor": "white",
            "linecolor": "white",
            "ticks": ""
           },
           "baxis": {
            "gridcolor": "white",
            "linecolor": "white",
            "ticks": ""
           },
           "bgcolor": "#E5ECF6",
           "caxis": {
            "gridcolor": "white",
            "linecolor": "white",
            "ticks": ""
           }
          },
          "title": {
           "x": 0.05
          },
          "xaxis": {
           "automargin": true,
           "gridcolor": "white",
           "linecolor": "white",
           "ticks": "",
           "title": {
            "standoff": 15
           },
           "zerolinecolor": "white",
           "zerolinewidth": 2
          },
          "yaxis": {
           "automargin": true,
           "gridcolor": "white",
           "linecolor": "white",
           "ticks": "",
           "title": {
            "standoff": 15
           },
           "zerolinecolor": "white",
           "zerolinewidth": 2
          }
         }
        },
        "width": 1024
       }
      }
     },
     "metadata": {},
     "output_type": "display_data"
    }
   ],
   "source": [
    "import plotly.express as px\n",
    "\n",
    "centered = subset - subset.mean(axis=0)\n",
    "U, S, Vt = np.linalg.svd(centered, full_matrices=False)\n",
    "whitened = centered @ Vt.T / S\n",
    "\n",
    "fig = px.scatter_3d(\n",
    "    x=whitened[:, 0],\n",
    "    y=whitened[:, 1],\n",
    "    z=whitened[:, 2],\n",
    "    opacity=0.4)\n",
    "fig.update_traces(marker=dict(size=2))\n",
    "fig.update_layout(width=1024,\n",
    "                  height=768, scene=dict(aspectmode='cube'))\n",
    "fig.show()"
   ]
  },
  {
   "cell_type": "markdown",
   "id": "4cbc4d5d",
   "metadata": {},
   "source": [
    "# UMAP (White)"
   ]
  },
  {
   "cell_type": "code",
   "execution_count": 15,
   "id": "b22f8199",
   "metadata": {},
   "outputs": [
    {
     "data": {
      "application/vnd.plotly.v1+json": {
       "config": {
        "plotlyServerURL": "https://plot.ly"
       },
       "data": [
        {
         "hovertemplate": "x=%{x}<br>y=%{y}<br>z=%{z}<extra></extra>",
         "legendgroup": "",
         "marker": {
          "color": "#636efa",
          "opacity": 0.4,
          "size": 2,
          "symbol": "circle"
         },
         "mode": "markers",
         "name": "",
         "scene": "scene",
         "showlegend": false,
         "type": "scatter3d",
         "x": {
          "bdata": "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",
          "dtype": "f4"
         },
         "y": {
          "bdata": "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",
          "dtype": "f4"
         },
         "z": {
          "bdata": "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",
          "dtype": "f4"
         }
        }
       ],
       "layout": {
        "height": 768,
        "legend": {
         "tracegroupgap": 0
        },
        "margin": {
         "t": 60
        },
        "scene": {
         "aspectmode": "cube",
         "domain": {
          "x": [
           0,
           1
          ],
          "y": [
           0,
           1
          ]
         },
         "xaxis": {
          "title": {
           "text": "x"
          }
         },
         "yaxis": {
          "title": {
           "text": "y"
          }
         },
         "zaxis": {
          "title": {
           "text": "z"
          }
         }
        },
        "template": {
         "data": {
          "bar": [
           {
            "error_x": {
             "color": "#2a3f5f"
            },
            "error_y": {
             "color": "#2a3f5f"
            },
            "marker": {
             "line": {
              "color": "#E5ECF6",
              "width": 0.5
             },
             "pattern": {
              "fillmode": "overlay",
              "size": 10,
              "solidity": 0.2
             }
            },
            "type": "bar"
           }
          ],
          "barpolar": [
           {
            "marker": {
             "line": {
              "color": "#E5ECF6",
              "width": 0.5
             },
             "pattern": {
              "fillmode": "overlay",
              "size": 10,
              "solidity": 0.2
             }
            },
            "type": "barpolar"
           }
          ],
          "carpet": [
           {
            "aaxis": {
             "endlinecolor": "#2a3f5f",
             "gridcolor": "white",
             "linecolor": "white",
             "minorgridcolor": "white",
             "startlinecolor": "#2a3f5f"
            },
            "baxis": {
             "endlinecolor": "#2a3f5f",
             "gridcolor": "white",
             "linecolor": "white",
             "minorgridcolor": "white",
             "startlinecolor": "#2a3f5f"
            },
            "type": "carpet"
           }
          ],
          "choropleth": [
           {
            "colorbar": {
             "outlinewidth": 0,
             "ticks": ""
            },
            "type": "choropleth"
           }
          ],
          "contour": [
           {
            "colorbar": {
             "outlinewidth": 0,
             "ticks": ""
            },
            "colorscale": [
             [
              0,
              "#0d0887"
             ],
             [
              0.1111111111111111,
              "#46039f"
             ],
             [
              0.2222222222222222,
              "#7201a8"
             ],
             [
              0.3333333333333333,
              "#9c179e"
             ],
             [
              0.4444444444444444,
              "#bd3786"
             ],
             [
              0.5555555555555556,
              "#d8576b"
             ],
             [
              0.6666666666666666,
              "#ed7953"
             ],
             [
              0.7777777777777778,
              "#fb9f3a"
             ],
             [
              0.8888888888888888,
              "#fdca26"
             ],
             [
              1,
              "#f0f921"
             ]
            ],
            "type": "contour"
           }
          ],
          "contourcarpet": [
           {
            "colorbar": {
             "outlinewidth": 0,
             "ticks": ""
            },
            "type": "contourcarpet"
           }
          ],
          "heatmap": [
           {
            "colorbar": {
             "outlinewidth": 0,
             "ticks": ""
            },
            "colorscale": [
             [
              0,
              "#0d0887"
             ],
             [
              0.1111111111111111,
              "#46039f"
             ],
             [
              0.2222222222222222,
              "#7201a8"
             ],
             [
              0.3333333333333333,
              "#9c179e"
             ],
             [
              0.4444444444444444,
              "#bd3786"
             ],
             [
              0.5555555555555556,
              "#d8576b"
             ],
             [
              0.6666666666666666,
              "#ed7953"
             ],
             [
              0.7777777777777778,
              "#fb9f3a"
             ],
             [
              0.8888888888888888,
              "#fdca26"
             ],
             [
              1,
              "#f0f921"
             ]
            ],
            "type": "heatmap"
           }
          ],
          "histogram": [
           {
            "marker": {
             "pattern": {
              "fillmode": "overlay",
              "size": 10,
              "solidity": 0.2
             }
            },
            "type": "histogram"
           }
          ],
          "histogram2d": [
           {
            "colorbar": {
             "outlinewidth": 0,
             "ticks": ""
            },
            "colorscale": [
             [
              0,
              "#0d0887"
             ],
             [
              0.1111111111111111,
              "#46039f"
             ],
             [
              0.2222222222222222,
              "#7201a8"
             ],
             [
              0.3333333333333333,
              "#9c179e"
             ],
             [
              0.4444444444444444,
              "#bd3786"
             ],
             [
              0.5555555555555556,
              "#d8576b"
             ],
             [
              0.6666666666666666,
              "#ed7953"
             ],
             [
              0.7777777777777778,
              "#fb9f3a"
             ],
             [
              0.8888888888888888,
              "#fdca26"
             ],
             [
              1,
              "#f0f921"
             ]
            ],
            "type": "histogram2d"
           }
          ],
          "histogram2dcontour": [
           {
            "colorbar": {
             "outlinewidth": 0,
             "ticks": ""
            },
            "colorscale": [
             [
              0,
              "#0d0887"
             ],
             [
              0.1111111111111111,
              "#46039f"
             ],
             [
              0.2222222222222222,
              "#7201a8"
             ],
             [
              0.3333333333333333,
              "#9c179e"
             ],
             [
              0.4444444444444444,
              "#bd3786"
             ],
             [
              0.5555555555555556,
              "#d8576b"
             ],
             [
              0.6666666666666666,
              "#ed7953"
             ],
             [
              0.7777777777777778,
              "#fb9f3a"
             ],
             [
              0.8888888888888888,
              "#fdca26"
             ],
             [
              1,
              "#f0f921"
             ]
            ],
            "type": "histogram2dcontour"
           }
          ],
          "mesh3d": [
           {
            "colorbar": {
             "outlinewidth": 0,
             "ticks": ""
            },
            "type": "mesh3d"
           }
          ],
          "parcoords": [
           {
            "line": {
             "colorbar": {
              "outlinewidth": 0,
              "ticks": ""
             }
            },
            "type": "parcoords"
           }
          ],
          "pie": [
           {
            "automargin": true,
            "type": "pie"
           }
          ],
          "scatter": [
           {
            "fillpattern": {
             "fillmode": "overlay",
             "size": 10,
             "solidity": 0.2
            },
            "type": "scatter"
           }
          ],
          "scatter3d": [
           {
            "line": {
             "colorbar": {
              "outlinewidth": 0,
              "ticks": ""
             }
            },
            "marker": {
             "colorbar": {
              "outlinewidth": 0,
              "ticks": ""
             }
            },
            "type": "scatter3d"
           }
          ],
          "scattercarpet": [
           {
            "marker": {
             "colorbar": {
              "outlinewidth": 0,
              "ticks": ""
             }
            },
            "type": "scattercarpet"
           }
          ],
          "scattergeo": [
           {
            "marker": {
             "colorbar": {
              "outlinewidth": 0,
              "ticks": ""
             }
            },
            "type": "scattergeo"
           }
          ],
          "scattergl": [
           {
            "marker": {
             "colorbar": {
              "outlinewidth": 0,
              "ticks": ""
             }
            },
            "type": "scattergl"
           }
          ],
          "scattermap": [
           {
            "marker": {
             "colorbar": {
              "outlinewidth": 0,
              "ticks": ""
             }
            },
            "type": "scattermap"
           }
          ],
          "scattermapbox": [
           {
            "marker": {
             "colorbar": {
              "outlinewidth": 0,
              "ticks": ""
             }
            },
            "type": "scattermapbox"
           }
          ],
          "scatterpolar": [
           {
            "marker": {
             "colorbar": {
              "outlinewidth": 0,
              "ticks": ""
             }
            },
            "type": "scatterpolar"
           }
          ],
          "scatterpolargl": [
           {
            "marker": {
             "colorbar": {
              "outlinewidth": 0,
              "ticks": ""
             }
            },
            "type": "scatterpolargl"
           }
          ],
          "scatterternary": [
           {
            "marker": {
             "colorbar": {
              "outlinewidth": 0,
              "ticks": ""
             }
            },
            "type": "scatterternary"
           }
          ],
          "surface": [
           {
            "colorbar": {
             "outlinewidth": 0,
             "ticks": ""
            },
            "colorscale": [
             [
              0,
              "#0d0887"
             ],
             [
              0.1111111111111111,
              "#46039f"
             ],
             [
              0.2222222222222222,
              "#7201a8"
             ],
             [
              0.3333333333333333,
              "#9c179e"
             ],
             [
              0.4444444444444444,
              "#bd3786"
             ],
             [
              0.5555555555555556,
              "#d8576b"
             ],
             [
              0.6666666666666666,
              "#ed7953"
             ],
             [
              0.7777777777777778,
              "#fb9f3a"
             ],
             [
              0.8888888888888888,
              "#fdca26"
             ],
             [
              1,
              "#f0f921"
             ]
            ],
            "type": "surface"
           }
          ],
          "table": [
           {
            "cells": {
             "fill": {
              "color": "#EBF0F8"
             },
             "line": {
              "color": "white"
             }
            },
            "header": {
             "fill": {
              "color": "#C8D4E3"
             },
             "line": {
              "color": "white"
             }
            },
            "type": "table"
           }
          ]
         },
         "layout": {
          "annotationdefaults": {
           "arrowcolor": "#2a3f5f",
           "arrowhead": 0,
           "arrowwidth": 1
          },
          "autotypenumbers": "strict",
          "coloraxis": {
           "colorbar": {
            "outlinewidth": 0,
            "ticks": ""
           }
          },
          "colorscale": {
           "diverging": [
            [
             0,
             "#8e0152"
            ],
            [
             0.1,
             "#c51b7d"
            ],
            [
             0.2,
             "#de77ae"
            ],
            [
             0.3,
             "#f1b6da"
            ],
            [
             0.4,
             "#fde0ef"
            ],
            [
             0.5,
             "#f7f7f7"
            ],
            [
             0.6,
             "#e6f5d0"
            ],
            [
             0.7,
             "#b8e186"
            ],
            [
             0.8,
             "#7fbc41"
            ],
            [
             0.9,
             "#4d9221"
            ],
            [
             1,
             "#276419"
            ]
           ],
           "sequential": [
            [
             0,
             "#0d0887"
            ],
            [
             0.1111111111111111,
             "#46039f"
            ],
            [
             0.2222222222222222,
             "#7201a8"
            ],
            [
             0.3333333333333333,
             "#9c179e"
            ],
            [
             0.4444444444444444,
             "#bd3786"
            ],
            [
             0.5555555555555556,
             "#d8576b"
            ],
            [
             0.6666666666666666,
             "#ed7953"
            ],
            [
             0.7777777777777778,
             "#fb9f3a"
            ],
            [
             0.8888888888888888,
             "#fdca26"
            ],
            [
             1,
             "#f0f921"
            ]
           ],
           "sequentialminus": [
            [
             0,
             "#0d0887"
            ],
            [
             0.1111111111111111,
             "#46039f"
            ],
            [
             0.2222222222222222,
             "#7201a8"
            ],
            [
             0.3333333333333333,
             "#9c179e"
            ],
            [
             0.4444444444444444,
             "#bd3786"
            ],
            [
             0.5555555555555556,
             "#d8576b"
            ],
            [
             0.6666666666666666,
             "#ed7953"
            ],
            [
             0.7777777777777778,
             "#fb9f3a"
            ],
            [
             0.8888888888888888,
             "#fdca26"
            ],
            [
             1,
             "#f0f921"
            ]
           ]
          },
          "colorway": [
           "#636efa",
           "#EF553B",
           "#00cc96",
           "#ab63fa",
           "#FFA15A",
           "#19d3f3",
           "#FF6692",
           "#B6E880",
           "#FF97FF",
           "#FECB52"
          ],
          "font": {
           "color": "#2a3f5f"
          },
          "geo": {
           "bgcolor": "white",
           "lakecolor": "white",
           "landcolor": "#E5ECF6",
           "showlakes": true,
           "showland": true,
           "subunitcolor": "white"
          },
          "hoverlabel": {
           "align": "left"
          },
          "hovermode": "closest",
          "mapbox": {
           "style": "light"
          },
          "paper_bgcolor": "white",
          "plot_bgcolor": "#E5ECF6",
          "polar": {
           "angularaxis": {
            "gridcolor": "white",
            "linecolor": "white",
            "ticks": ""
           },
           "bgcolor": "#E5ECF6",
           "radialaxis": {
            "gridcolor": "white",
            "linecolor": "white",
            "ticks": ""
           }
          },
          "scene": {
           "xaxis": {
            "backgroundcolor": "#E5ECF6",
            "gridcolor": "white",
            "gridwidth": 2,
            "linecolor": "white",
            "showbackground": true,
            "ticks": "",
            "zerolinecolor": "white"
           },
           "yaxis": {
            "backgroundcolor": "#E5ECF6",
            "gridcolor": "white",
            "gridwidth": 2,
            "linecolor": "white",
            "showbackground": true,
            "ticks": "",
            "zerolinecolor": "white"
           },
           "zaxis": {
            "backgroundcolor": "#E5ECF6",
            "gridcolor": "white",
            "gridwidth": 2,
            "linecolor": "white",
            "showbackground": true,
            "ticks": "",
            "zerolinecolor": "white"
           }
          },
          "shapedefaults": {
           "line": {
            "color": "#2a3f5f"
           }
          },
          "ternary": {
           "aaxis": {
            "gridcolor": "white",
            "linecolor": "white",
            "ticks": ""
           },
           "baxis": {
            "gridcolor": "white",
            "linecolor": "white",
            "ticks": ""
           },
           "bgcolor": "#E5ECF6",
           "caxis": {
            "gridcolor": "white",
            "linecolor": "white",
            "ticks": ""
           }
          },
          "title": {
           "x": 0.05
          },
          "xaxis": {
           "automargin": true,
           "gridcolor": "white",
           "linecolor": "white",
           "ticks": "",
           "title": {
            "standoff": 15
           },
           "zerolinecolor": "white",
           "zerolinewidth": 2
          },
          "yaxis": {
           "automargin": true,
           "gridcolor": "white",
           "linecolor": "white",
           "ticks": "",
           "title": {
            "standoff": 15
           },
           "zerolinecolor": "white",
           "zerolinewidth": 2
          }
         }
        },
        "width": 1024
       }
      }
     },
     "metadata": {},
     "output_type": "display_data"
    }
   ],
   "source": [
    "import umap\n",
    "import plotly.express as px\n",
    "\n",
    "centered = subset - subset.mean(axis=0)\n",
    "U, S, Vt = np.linalg.svd(centered, full_matrices=False)\n",
    "whitened = centered @ Vt.T / S\n",
    "\n",
    "# UMAP\n",
    "umap_model = umap.UMAP(n_neighbors=15, n_components=3, metric='euclidean')\n",
    "umap_embeddings = umap_model.fit_transform(whitened)\n",
    "\n",
    "fig = px.scatter_3d(\n",
    "    x=umap_embeddings[:, 0],\n",
    "    y=umap_embeddings[:, 1],\n",
    "    z=umap_embeddings[:, 2],\n",
    "    opacity=0.4)\n",
    "fig.update_traces(marker=dict(size=2))\n",
    "fig.update_layout(width=1024,\n",
    "                  height=768, scene=dict(aspectmode='cube'))\n",
    "fig.show()"
   ]
  },
  {
   "cell_type": "markdown",
   "id": "42b0a98d",
   "metadata": {},
   "source": [
    "# Sphericalised (White)"
   ]
  },
  {
   "cell_type": "code",
   "execution_count": null,
   "id": "335b9568",
   "metadata": {},
   "outputs": [
    {
     "data": {
      "application/vnd.plotly.v1+json": {
       "config": {
        "plotlyServerURL": "https://plot.ly"
       },
       "data": [
        {
         "hovertemplate": "x=%{x}<br>y=%{y}<br>z=%{z}<extra></extra>",
         "legendgroup": "",
         "marker": {
          "color": "#636efa",
          "opacity": 0.4,
          "size": 2,
          "symbol": "circle"
         },
         "mode": "markers",
         "name": "",
         "scene": "scene",
         "showlegend": false,
         "type": "scatter3d",
         "x": {
          "bdata": "by5fv4z57T0DLpM9mbAfP92H6D1twZK+IbUJv0C+6TouELW+yVoPv9ZYZr6X3X2/jGlQujRxAb9UGsQ9uoi2vifyvjzF9Ou9t3pAPpjQOb/GZ5u+Tc04v5ik0z4qbau9MRg+P1O8fD9ufwK/qaehvk2B3z7xJAC/JqNLP9C5EL+EMmg/e6dbvwqttLwzrLu+9dvEPvjscr8lkyS/AfeKvMFAEj/rlpG+jenZvjvjD7/GLUu/bc+jvtNYPD9EEhW//2hVP5Qzw770iym/Mgz8vQYLSD+4oSy/Ouhpv63lbD/nCw2/tk5zP3TJlz5FmO2+TRk3P0w7GL9X+TA/2UvkPCZ+aj+WB+m+1PFUPyAZQT1F9cI+V4GOvtjLlL4mkSK/OhSmPga5eL7fWWG/50HePm2ZJL9kEny/eD60PjI3ej/HaX2+q24OP54uOz9kqx8+fSjIvkjCIz42RXa/I2/1Pm0t9z7ce8S+vIGYPemr+T5vwjw+dh8KP/K1dL5g/2E/YZ4wP1TEUz9epX4/TByQPhSTBT/UQRU/lJv0Pr23dr8m9y8+Mpsjv6drdD8rqQo/UpFlP0pyRz6zlAA/hicBvxnq477Jkbm+F9E0v1xMir4AbBi/Ps5dv4J6Cb3fSg+/sp6lvrKMcT86YDS/hqkcPxqWoDxxqIC9bC+/PRnrgj6adZs+LXsaP0NuYj0jd2A/MN0fv+Wtrz7Cqdk9FM0LPiShcb9KHP4+lOrIPc0D1b648Su/UhFIP+ADjz7ekj6/r+SvvruWLT8jt6C+CSBXvn/CCD8F5SU/cM3PPrh7YT/2G3m/Tkggvy/AAL+z0Us/H6kIP8VRKL7EgUc/dY7WvtS36bzSpXS/tzFIPorBEb5VQh4+G8cbPpUUXb/gaDs+NbOPviUDgT5zSMG+zfd/PhsFW79I/NK+oRhhvyZhBL/41Ae+JJElP2YM1r72ZxQ7FAlfPH+FOD8zuEM/L0livyEfJb/KaT8+hm/ZvoL+m71nZko/o2A2P5p5Nb9KLvK+ZPcoP2L+Qj8ojPA+uFw4P5yLAL4ajyw/NaDNvjieaz8eZFg/fSZcv76OvD5ouZg+s/fHPiOXJr9WU2A/C12mPhgs4z3ViQE/FnRavyW6CT69v0A/r9VUP8ZmBT+vQu6++BY4Pzf0R7/+3hk/AsJ+P7thZz+LV/E+tRRavzh9l711Rqi9byBZvxaPbT6Qzme/+jouP6yEWD4UKGI/X40kv8kr37wgY2e/vFJxPxENwzwCW5g+9pA3v4/XDz1+ZRs/qyjEPmLbvr46jim/KVgXPt407L54Mn6+O1QEPh9NO787cO68DCtNP1r5Fr8HVCg/pchxv5f79DvLxju/Q8uJPhakej9lyNA+SlE8PdukD79Vfm+/IQJHv6GMIz5Fe3y/oogrPiZRS784ale+y8YiPWZrdz911ha/rn+hPgKtEL8UJKq+Yq5dv70jdL+PHGs+hEhmP5zBmr0i8wm+UVJ0P8rUAz/RrZe+/koOvykw3b6TmQ29QqInvxOejT7Klbo+IEtIPynj9L5e2ng/G4QCv0i5DT/AZ9A+uiohP6RCKz17WL+9FWz6PmQ6c79S3MU9Tn5cP6SARD9yUjS+iAL2vgWO6j5evzG/CXHcvipY2T6eWeo+7l7PPhGV071T3sm+rnXVvrnubD7qXVU+z9gTP9hdkT7DY6e+ER5Kv2V+Wz9ouk+/aQswvyaner+e4q0+Gr0jv+GbXj+qJ2k/qheOvNKAGj9Y1iY/bO4zv2p8QL9EwPK8lgRLvzDxR78GB0g/+BmSPiOpe79HN5i8T9DjPnG3ZD9mMH4/NRC+Phjcpr54d28/UtdKvlyEK7+6hQE+q/8JP0Rtfj7vRTa/rY/2vpNDkD00ZHe+P8jvvQYQmr7NLu29EONIP+7Qc79E+Fw/y5T0Pu+kB7/ZqCa/awNjPyRENT/lXhM/muETvkV4Tj6a8EQ/XjEOPFEYA7/d2Sy+bWniPuO62b13hRM/bCr2PrlL3T0A7Dy+CzsbP0pMtbw+rWq/BbJxP+pLHr65S4O+77B1PxFSR74L9i4/aYKOvmZdIT4MrGK/8Yh3P7acDr/2Z9U9TpGevkqblz5pIDI/Tv4lv/r3Lr9yLBW+BF+cvmNeKr/a18c+UScPv+wfNb+EJ8m+0OlVP0Q6fL/XFP29zCfmvkBdCD/LXDC/VuQTvtD6SD/XBQG/VsSzvmBbFT/T+1w/5v+EPdW61T3cSJ49mrBZv+BQlj3Pys4+NROqPiFdJ7+97EE/VToNv9m3Gb+EgvU+AotwP6CdLr/jUe09av8ev/ZNSL7mWM0+m58+P088WT8ljje/Be0nP44U274vVqs+VxK/Pn241j2mzzu/guFAP7YpaD+zNmq+vLWzPiWq1D7UdCW/Z613P0MOjL7mT36/QXYmvk+HI7/1Wx4/7IrCvonNeL9jUSa/i4JXvZGSLL+NDEG/KTevvp4oVL8u/JW+wpVTPV4EEj++2QM/lsTGvutzRT+81m++aR7qPmk3qr0AcWo/1o5aP0IAAr65dVu/fIxTvwyuOb80lOm+GR+NvjrJFz9ah6E9AHO3vjCJnz6ojco+z1XPPnkHMr8DbCk/QQQdP5r12r6UDxG/AGyxPvBWOr9IjZu+vgwhv+AqFD30fMy+YZaoPpifS70k6I8+CIwJvxelHT9M5fq+zmoxP8+wYT8uEt8+7K5hPvaecL8FNny/VdWnvlM2hD56xkY//+EmvyfoFr9/+VA+8lJNPbb7wr73U0s90Dg6P+orTT/PQ+c+6Nhnv+CPAD9v2Xc+ZvI+P1az5b4zwou+rHPyPlhmEj8NsV4/gTFFP821aD/Vxr6+mmNXv5hCTT8BL9s+yZJ3PgxTaj/Ikq6+GEC9vnk34b7+e2o+yzJ/vXQmVb8vgx++PiIsP7T2AT8oSnE/2fhfP4OBQ7+FyNS+J1QXPycgQz8VpSK+v1SePvRKWz5tsXC/NdqrPvIMIL6Fqmw/iHnJvQYdRT9zc0W/PGIyPnQmLD/E3iM+jnkHv2vwED2Yb/M+8UXBPtTRor6cjwQ/6qUjP3h2Sj54jPm9AbZlv1PGpTzV2Rk/+CrHvsZl/L5txRA/sIw3Pzm6ST+CO5s+o3UAvwVMfb//424/tFn4vpflOb8vvFk/taVqP6j9N76clU+/H5zdvli2s75OnK4+SLJtv31Mvb7ttGg/ANtWPzS5kD4TAHO/Evcjv09+4rtaClS/DtLWPq0M2T6ChJC+3bxiP9eOd78ArxC+0/pnP9Mebr8j4m2+Gidfv8d7Mj9SmEI/a6q/PtP8Er8DPCW9s21HvxKAeT97D/E+5Bo/P8mFAj/9+X8/FHl1P/ckez4EI1++l8CdPt/bWz/1iCo+q3lnvz3iQr8+Nba+s77/vbhYVr6bfHq/5Ckfv+3sw754fnE/+n4cvyprzL4cPou+KT8dPlf9zzxvTgo+cWRNv1K4Fj8Ta6w+pKcvv8tiBL9H3z8/6PgJP5/0Dr9abuq+F0TRPgTXej/zqiy/5tJbv9voVj+eCXQ/xeIdv/3X+b5mOvY9yXL1vX83ib75eUA/Q+kxvtb59r4jQNk95F0pvw67+77nZTk/6KqxPraxhb7roiC/DuRiPsLIkj4/ZwQ/tCQlvsY51D5Hz62+r9m7PvgCeD5/92m/uXChPhtvRr9zRhU+6kYIv1fFkD58azu/va2pvjamT7/tY0W/L6JeP+INOj+kND6+SgMOvzkfUL/c53u/vV5Zv0LgOr/v4lq+BMsgv6XuCb7FWnI/+KSVPhNXf7+NTFU/eGyLPnJFQj8ksXi/j5eavnJCND81/FS/zckovQtibz9/qmY/ls35Pi+w/L1bm3u/bDvhvhbqf7+b60w/hc8NP+z3hb47GGi+odryPjTqVT9Pa0o/EmtBvgjrdL+rPhe/85pTvY6nDr9JcNw+NB2rPjSJbL8MPuW+gMoDPy1MWT9nSHA/hJk0viaBvj70PSA/8ujxPbVjWbzrM9g+bQgWPVoEBr+axyI/EPYpvoWvID/YGg6/7ElGvoGXLb9xg6G+wvguvxNCjr4EBO0+aE28vcwVdj+R20G/6DxPP2KDUj/7dF+/+SYzvyU0mb50bRE/SAr2PgxEkD591e2+EL0yv+VyIT9av2g/HCsAvibVZ7/NHmE/a0Thvi9oe7/jhb2+OVaRvlGba7/I/Gc/nAUcP/4dGr9IyIU9jKFUvwkg6z5/OtM9I2gqv1Cdcz7dGQK9z8EDvuR6Hb9ueo2+dleYvXAkOT02VXE/ZDd0v1lDGL8QlzI/am2gPoFhYz8u4L4+/c7lvsxMc78WmES/eWFVv4catj6DSBG/F2SfvuUvjz7oH8E+rkFTP+Wtpz3Z8rg+IjUWPwbOob3CoVs/inFyP8mQs74xtC8/PV0ov6hIlL0FpGg+HI1Gv4CSWD2vQFU/zssNvxJWVD8VV6E+nMMhvm74WT+9Wt884VLwvJJTQD/3rO8+ykdPP8RMHL8DVDs/Oq9QP3iLaT8sK569a4nNPoy4+77fcHS8QYjKvQJF+z6T0nw+D+xBv6XOyr5n5HI6vbhxvwhI0j20u7I+Q0UfvhyVVL9DtXM9W2Mbv9mz8T7l8Os+xxQKv22q1L7cj3C/WC0cv1rqGz/o6GS//PwDvz9iQj8Xg9m9vQcaP8ppbL/cRKw+8g6FPVCIHL+gJXy/NozAvk8/nT49/FO967q6vTJglj0ilQI/TtrKveIuVz+PbTQ+ZyY1P42Acr+/n34/i8pyv5oZWz8ydmM/m93FPktQbr+41GA/z4UTP1FOdz+0dec+j0ESvzStLT/UdQC//hwfPohszT6qJ0U/QpQJP9Tosj79dxE/TuJMvtyckT7f/hA/bA0VP4I7Mj8nKFi/F8ZDv+wgLL+cass9SrXAvnFlc74sfGU/z9pWPy508z3+ekW/m5WivobSUz847R+/usZZv4ENBj/Q3mg/RiPCPrJ9YT9DJ+q+S/VJPp2uQz/tO927gHKpPrOm1L4pUzq/H+QGviUqV79WBYU9NYJrP1IBfb9gV/k+bPKZvlWqVr950NS+DlkJvzb3H7/b6QW/AhlYP9uGSr+vbqU+zwODvtMPe7+VFt2+yDcgPxW8ST9ayZA8WgQZvo9MJD8q+Ae/Uee3vbioXT9Y6Xk++eG4vQB1Vb/cLei90Ho8P1AZNb+EhwS+c0AEPxTeuT3YeDw/njjJPjaTMD9LObM9R7Nyv8bgaT/BAj6/4r19v7SaID6TEWw/eixiv1AD9L4qs0e/lxQDv7M1zL6laE+/8ps6PyS5Ez+fvmE/WdcTPz+c9b0R2lM/5N4qPz8SUb996tC+IgafvuQCZb8eCDY9ad59v5iGbT/HATa/biycvmizhz3VALw+BTv0PrA8Ob93gxC96K11v9N9Lr5esEO+Bkl7PpQJmD5LVRI/TDRkPo/+a788Nw6/R11kP6wLcb6r448+XhjAPeRqBb8BOi8+I+PPPe0Qd7+lUHi/bsorP7Mlb7+G16G+kOJuPygWfb+Mdwe/h3NIPxTVqj6uyTU/I1O2Pv0vxr6NJYc+CQHPva0JGz8aBF8/U460vrSXfj/dVY4+HGebPvG9tj6JHXm/fGqyPgDBlD5tAgi8275IPmpUFT/DAI++ZZ8gv3EBKL9QTyW9xkT+vsEce784X3Q/k+nDPpV2bL+NIgc/N06aPpuNTz/7/B09neyFPv/iW78vQHS91yhWP7SCwb6AGFe/q+5DPbWrUL+OoLY8QrjtPfvQoj0OE8u9x7saP7ksXT+Ey3G9xfm5vrTRRD9y58M+D2sNvyVXOz98xg09pTwMvyJWdj9RDFI/U/gUP3rUWT+48tA+9fXXvgCJg74FjUE+Ulq4vkxhPj9993s/Pb+/PQRTWr/TcbE+gAQCvKgqzD6xE7q+Y7p7v5AnYL8uU3o/NfNPPw81KD9phAw/MM8mvjxk8b4fLTG+J/FGPnCMFD/opHe/KuVXvr2emL5UFQ4/K6R4P2lSAL7EC3Q/ZKeTPeDRwz4D7Dc9dDkWPutwFD8QSZO+lSWnvhQxoT558SE/mbnnPjq0aD1MHws/YfK/PsUgTD8N6lQ/bYwqP0u5Az9XWdy+LElQv40GSD+JKmu/HTflvnF3Qz/L8cE+R4QSPxF+cT68eGC/Cl0Qv+hW5z6MBXC/WiJhv5ZHvj0Ggw8/XVsov7jOdj/8NAm/bxdpv4mweL+G0wK/e+NSPww2M7+BAWW/BqMWvkb0Db8mNTI/PDoOPBVMVz+5AWW/6W/uPp+wzr6VUOs+HLwbv4E5Sj8NDWW+bkOTvezJ8j7m3FM/CedSP/h0b7/414++lMRpv8m4A7+UwsS++WVTvyOfGz/zVIe+VSVHvqatVT/L0o++uDuCPuygIr/4KmU/HncSP1YZXT+vd6q+u0xiPujr+76eg9i9ETkmvg1FBD+m1WG/Yco5Ox6Zaj+X2Gs/rry6vSNHdD9maGE/eOm5PlmaRr8gmCy/wZFav0jlvr6CUD8/qwYrPATLl741iNY+ipZnv2LDSz63DGG/fFVjvwQ3/T5Qexo/Y960uxKW7z7gDQ8/6WJ+v/OSJ71yljw9gWCNPoV/QT/8Ofs+AIerPiq7Db8Rfmo/4kYsvwYQer91Wxw+MHAWP7HkKL2ejX++cjJkPyKwKb8RvbY+aUcvPkMYLD9WwV8/T09wP+b3Uj7rOmK/XkYmvlVeTb9aHAU/np7kvm0A374vZnc/9+05vyVz0770A1O/y/aWvZNmKT/GwWc/20oev6oRAz7b3Ug/j5sBPwdQpr4Gf7Q+FMRcvhZU7bxv0mI/kRwdvwkpdL8PDgE+V3JSP0g/Xz/TVAC/kMAUvxH9Ob/F9Ck/w6YUP3f72j4g0Ec//20tP23xHb9A4VO8MvYTvzJUab+qjS+/2t1jv+1wbT+/Ig8/vxerPsWzJL+MIlW/5jB7v66Owj5BhWq/9eMEvrNCaz/rqZU+lC5PPxJf/D2KtnM+qMhyvgbjQL9utfy+z42oPhUxK70RvQ++7w8cP+7yQT8SR0A/BkBYvnFDXj8DppK+qdEYP879jr4CEYc+B4dfvqYQOr+V5l8+rUmuPtVMT785gny/djYeP+7Daj+ct0u/uzthPw6u3L1oDjk/qUixvuh2/j6rzI8+iMAoviR46T764nk/LEY7PgrPZL9CSHK/39FnvzVnCj8UVIe+HhI1v729OT81Ueo+loJiv/XWBz9EAn0/jj0+P0oeNr/bDHE/nKrBPnvCdj+JYQq+Y5/BPriuij4f4GI/pZcQvfVuSz+XzWo/4yGzPntUQD89OCg/1cVrP9B3fj72Y169dL6nPo4SZr8jYxO/czngvgcrXT7x3tG+HXY1vqJERD9Hyl4/EC/APHZU8z7cJhy+2GCGvqGpDL/zOgG/KkxDvmqvXL98Z28+U1/XPfesRz+h6To/PTUKP13dLD9SymQ/CewzvzNOQz+Pily+U2vmviO3Lj+mzjQ/UE0+v4DDrz5PtFa/XYHhvQidlL6feTg/uWhxv1TzTD9gcJY+/HIrv2y+pj5lEOU+ump+vs+jBz9ZL2k/fAx1v23vAr/+LXK/+h7bO73PbT+bEWO/La9SPgylHT0l4y4+F9MrvzeSqLwvmei+Z5gEv0xvDD5Duyi/uZlTvweCH7/YyGg/mm9RvQKDUL/5PHg/V5NjP+yQK7xcLnw/52OZvWDCOD/mLT4/yKlzPfJCXr8RwTo/OvatPiuOZ7+3CNO+PhYlv4n+dz/HL3M/3D8fPiC6ab9otcm+fJRJvzbT5L5/grU+mfuuvHUdj76YxYC+QbU0PxCvNT+MR2M/cIWwvuJQjD5QmVE/fOklPx6nUr1+5EO/+PfqPthEZD2Vsre+7dN2v7dSRr+sXuS+7/F2Py1Sbj6yyn6/FNFsvgXqsz6UHqw+q6l7P2+oWj5Pk/w9kMsLP7cFOL77nQg+0wQ9Ps20oD2gn2o/7gRuPwBWRL8nj6g+QqBBP+WrGj5SdxQ/BGEPv32IMT96Smw/Z+ogv6e8cb+INLw9i29Rv1V5sL2dPCi/5bAqPVN3sz6wFBQ/u2vAvgefEj8aM/i9kb/evoZHIb/XwyM/6D7xPmp/Tr4ri+C+/ngmv2vzDT8VMXI+7sx4v0dxaT5QIuW+DovCPsVi3D6R65m90eJnPsTbRj83Q92+jS6PPjXx7DxCD02+yLUwPaNye75kfg4/oygmPrgMeL4tDBI/siyyvsJgSj+b7n2/SFFWP6WhbL8lYiw/RqWcvrXYhz6/Anw/k2h/vxR9n77ZNhK/DXZ9P8S9RL9y1/U+d010P8i0Xj8Xv3C/49FCvyg9d76Ns6M9gD7FvnvhpT5QHXe+sNgjP7/3Dj80fFs9FmYmvvRviLwxSGq/DZpjv5ezY7+IL9G+rw87Pn4ZvL5esSa+PVpUP9p7RD8RRKI9Kqw9P8CuyD4fRcM+6hsdv51KqLyrIoS+hIq/PnZg+r6NilI/7AQvPx4Ze7+V2Os8FDaKPeo+pj4c6Um/VJCjPeHrvD5pJw0/tl5sv4BwXb/VWg8+4pdwP3uj4r7CWDs+1apIvgMn0b5MJ3O/zwoHPwFpiD1qpmY/3JfOvbFQYT8Avn4/zI5Mv2KOFr8vWwi/SZK3vq6tqD0r6ta+7rA9v4S8Cr8YJEK/kf6Yvh2ELj8AaVc/LY1aPz6HTD9xbls/T39uP7a1Rj5cP1s+O0FlP1qGRz9piWE/CdgMv7MC9z6znks/bmEtPyfVOb83CAE/Zg0Nv1uBCT/cnhQ8VrNwv6r2eD8Y3Gu/hlNgvoU1eD+4IQs/dk9uPyN9MT9+z34+gfIGu3ZkYr+2XAG/RVSyvRKtDz+3NFi/RJAxPxK55r4qKlY/9+8HvyZ/1L7j2Bg/VrxiP2K4zb5LtWk/B5l3PyidPj8WFHM/DUNvvraGaT9JoQe/Zi5XviDTFL/I1hC/J0v5PhwYEj9RlGI96YjxPpKlYz9ssDs/bKB8v4FkT77OvnO/+Ggfvuyfyj7w3kY/tFyrPu1OI75A7jk/Q100PzGeWL/qXia/QBtavx5rOr8ySTg/K9h5P7S6Nr93bzY/Oudjv3D8ST4Igjk92tF9vtOuCT+CoGM/j6VbPxPIUD9/t3m+v+aavlxkVb6EEga+6oA0P5VpZL5/6TW+GuLtPCD47b4QZjG/wPKUPgO5tD435mY/x/sEP5iKdj8EsPm9RxwFP/bBPr9I6U0/kINNv07FUz/DVFA/yRqFvrDrRL+1Ly09QT0Pv24ELT+KPTE+PIDrvojrDz+7sH6/y1stP1ciYD/adXU/sugkv5vAWT8stWI/TG3gvlh0Fb7OnVg/B63TPnxbFT/1faa+5hrfvi7gcD9IhFm+atRbvpOuV7/QAZq+R+1Mv2UbJz9Dr1S/I88oPxkNR7+wA5y9JtOOPmoQH778jOK+PgUrv1jvVb6gWA2/qGEWP9syaz2GQuU9wkk7P9VGOL6RR1E/bSOjvgzEMT8QQAY/2MxgP9G4N7vETlU/tUxXPqbJ7j7lWC8+w6wiP1inNL+7IHi/znVEv3js4b5pQfi+cCyqPsMwUz962ty9e2NWPz0Lmz69z6G+jFYSvYR8Wb7t9uI9Svi2Pu6enj6WUu09pK19vylnpL4KQHs/pG0Vv9CZdz8+vPS+TD1Xv5N1oD6lJjA/jWFHP3QkWj8FUg+/PzNAP4RPCD6NpQ8+19biOtjVmr2duLm+xNJ/v6/gX7+L/ns/Ye22PfELNj/8aZE+CxdFvV6wjT7mcbk+aYExPcUeVT/2fyM/EFziPSCaIT95Y1o+PmY4v2A/eT+I8Q2+nF3uvQh2ZL+2/9e9O9xZPyN/vj6clTs/7bkPv/giEb/Am00/rPo/P1IjCb7jnyO/ZMg+PxY4Zj89cS8/UoiZvnHOR775PJ++TwYcPjVxdDyWpF0/d2pVv+/cer51DIC+m4Uzv3Mk0b7Ujqe+mzlAP2zzCr8YWG8/WkUYvwLOzz5yKsy+LDUUP2XdRT/W322/3dUXv/zJML+hUT0+aK7AvtM+Dz1KPGw/4posv9XCdb/JZ9Y+m/g5P4DuED6KPiA/JLEHPmtAs76A1Hc+Nxjhvhmtcr8+5r++XP1EPwZ3R78p1W2/onGEvjluM7//oy0/15fMvC+lfr/9Uv0+TuRRP1tdjL4QBiY/VwBzvm/HMj/IZR6/Z8MMP8ADzj3aYnk/7vZEP36D8D4x/EA/uQ7Ivk8xLz/nCTY/n40Lv3JRuT7x7We/58hkPyXB1r4+aDi+VAgyP41v7D5ExWa/8EWxvogbtz6FETG/JKMYP2qKOD6Kgje/c41kv5LIzb6yxX4/Xk9iv9vkWb/n4JY+PlP1Php6kb6o88U+82//vq1tL781KSC/8L5EP/tEZr9TPDI/24AQvxDAGL4CwaA+KgtTvzrzFD8a0jY/DeVRPxrYMD1TD1k/4ocdv+a7UT88HGu+B+p7v9+y8T6DDau+gRIxP78/GD/+c22+Lj8APVQMZz8RRgY/Q6mnvm09bj8zfvQ+HrJJv18ANr64FGa/LQOwvhbvTL9wM2S/l8K7PmmPpT4v+44+4NZnvhX2Rj9Ys24+vk5ePujOUb8GROY9md2Xvhntir7zGro9vOFdv15+qb6NL2w+PawbPyfidD9ipss+B/V9PvXvz751zWM/TOMqv8zvWL9611i+hbamvsGIh75BGyQ/F7wPPuwbAL8H2Gs/zz/gPnbIVT+k9mW/XtgnPyd1yL6jhpu+tItFvxNkKj9E2Hu+PkV6PxEWcD/gbyC+LcsbPxltfT8uEBe/UQxdvwpuxzsL4mi+lLr2vuClIL6Wqmy/C7CVvR0iqrxb+8O+a8h2P9igUT/wrJq+koqgvrY+Db41IBe9DiX+PfxzWb8zQDc+ICBcPxt/dT/LQaE+MT+DvQqTQj/l3Hs/URlEP8p9Uz/AnXo/6RD0PsicVT92tlc/7QhqvpZsGz+z8ne/RxFXPx+9VL/P3he/OdMlPVrhDz+JF0O9dQVpPziEPz+wG9I+40PgPpawXL1G+1K/iI+cvmKPn77fuus+uf3DPfgZ6j5Mmnu/7hgnP51BDL/YVNE+yDjMPlYFGD+Uoiw/CXx1Pvun9r5WFV8+DLQuvs8Rbr76ltW+S99hP+Cmm77UpFi/zORwvy8yB7/EFzM/E/ELPpzeYb+puzk/l0VGPs0Zc72GaV0/JzRKvqL+Ab/2DDA/H0sjv55wO7+RUQE/M6BMvxSbaj/hOTm/cAAvP4C8rj7T1/G+B9UqPu3xI77wrAi/WVOtvpUDbb/4Ux++DZx1v2l1BD9tqUu/M7P2PpHld7/Jizc/4FU3PzdLJj/M2V0+vlJnvs3szT6EhAY+zEbMPblOUb8RlC2/02xjv8Ik177WzUM/0yC0vrWHWr/zBzC/6DbXvinrvT5KiGs/7GZLv13yRz/sqgC/Jhl0v3jXqb7Oq12+a9ElPtMIqL4ZcJs+s9KaPahxdz+t9Wc/vWLJPeVBCL+KCg6/UaznPs3uJL/TFOq+Flm7vlry7rz9EnC/3tBFv7jcXD/AqPu+ddEcv1WzMj8o81g/gJfGPnyzIr/aW2o/i5RQP53vXb+tzlC/FwVrvl0olD4gEq2+1vxBPbCfeT+Jq+i9IBRyvnhhkj3ChgM/dnI1P+gpIb2SmFq+n8pUvwzyeT5Z+sY78OyDvnATab/dEzU/j68Av1gGwb2wDiC+0fdCvymPCD/KlDU/ZdQVPx+0zz4M5TW/ioQWv/z8Ab+zbse8yCWPPlePyD7wGjU/LxsKvwUfHz9UoDM/wHMYv0e4nr4YlRe/YW1VP1g6Yj8f41w9WnYHP71CPT6Qkz+/n2sBP5ckNj8VM4w+iwYfvhY3Kz/xkn8/eRmMPkVuHz+qyHA/4FFCPxWUJj9h5pG9b9FyP7/Yq76IGU2/LwlOv+QW776HMh6/gd9wv6ZZK7/V6q2+FgFSvxykcr8iX9g+AeeqvKSmer72Kiu/UMeQvmo2Hr+nQei+AOrNvjEvgL7CRiQ+muz9viygdz2bCie/xVOEPr116b2wbVm/iWptP5sTL74XKoY+iJajPvSuIz53VlC/cygwv9B2Pb/UzEu/JRkaPwmdGL/TI54+kYNpv828Ij/x67i+SihBvw9glb6z9nm/eEPjPiQA6T438Bu+FaztPV4LBb9snHY/packv9x8kzxsST8/tiUUv6B/3T7ryHa/6sQdv+Xl2j07oWU+qj9Qvz/WKz7mafG9C3RXP0xnwT5fF0G9Vl7YvWg/pr76D+09WBIpPyM4CD/HAhg/5rc6vk3DNT9eO9U+7uYFPqf8yb6XVuG+uwDEviImOD8S6lC/bf85vz1Cdz6Rug+/LGuxPrGNVj4dL6C+Gip7Pq35Sr9cviQ/kgB4P4kOSzwXPcG+HQEgv4lbTD5MB+Q+ByjaPtuO2z3+fIQ+UhhzP6SUIb9ftzS/ylr+PX5osT4iSgY/gH7BPrlfxr7kAio/MojZvqSXx75Dqvy+dOVZP8DbaT9BIEw+we99v27dET8s0Fo/voH0vr1snD4HydY8TxVXP44ME79Lvdk+BNZ9P9DuEz7sHsi+xgkBvYCFCb8rNvc+QKZRPuknkr7zkHM/2nP9PQ1UMz6uf1y/YCsJP11Zsz4Ibi29bYcgv9eABr90sgG/arVSP2RQBz9muHg+btN+P+pMhD1E68A+oLMkPjf+Yb/o5Hc/MJxfv20ncL8lMyW/U5NgPzxTfT+AkEQ/Zv9Lv81hWz+5GZk+7meMvdyROz/3S8q9oTWCvYRjFj9gP8U+cta4veIN675S9z2/s8cpvyK2ZD+EpVi/WBTtvm3ZYz9nOFe/QCMivsJE8z5vOtW+9htVP44OHz+xkHm/qlJYP24hOr+QRvW+1+q4vjEHJ7+lH3C/kYolP6oxnb4uXEg/XlWCPql30b5duMy+fjUKPc6mCz7LR00/TL49PyKMGb+gehy/bD+QPgPVaz/FXjC/tOEyPt2Tkz054mq//wpAPc1pTL9dmDM/78sBv62HcD8LyR++CnGqvvsrFz/DAmo/NroeP4MfH7/Oa9K+a+I6P89ZeL/Kr3I/xmZZP/o8VT7FNW2/qWFAvz3Iqb7prp09u55Hvc/vbz9qtSy+FhV9v5SkOL9uIng/Og7kO4Btkr6Lbhc+mE8wP5FPKb/enT2/8hkuv4OZTT9CxWY/qPVXv4d2RL/iRtK9QHjCvoTAa784+CE/I+lmPoB6Rj+LXhk+hzkGPw3MDb50rxa/7FkrPz48G79geRe9H2jtPEyMB783tJM+ZO0GP/Db+D5/IFA9RZKjvqJOlL7meqA+5hejvExfTj41jDM98o44P1RsWz6CwOY+8MVuPzThFT5JA3a/yCZ+vvqR6b3hYCW/oksTP+4e1r6mHSY/S0M2P2UeI7/FIHw+aVeivq2Zbb9Wv/C+ChuFviyoKz9KpCS/4GAjv0CFfL+v0ZC+iZdCP3bpIj+SfCo/PqUqPuLpaz9lFkY/Cv5Kv+6wlD4ec1K/BOb1vts8rb5itWW/5SByvw9gM79vdFE/A1dEPyb3Oj6+Ynw/Gk92v7tCVj5KGTK/evELP9xdJr/h56A+l/zAveTjPL9k/TE/02J1v1KRFz5isD+/tDrKPjJNSL8C5Nm+1fpFv7Np5z0KChS/3NIjv2jn0T3/nxS/JUNIvQ6ZZL/Sa3Q++1VMvSEdWL/1CD0/Dlo4vyWYID8gHe6+Gwthvh+FF7+TMy4/HYw+v2fggz5iXnC/gRUFPwWofz8VsX2+lp5nPxHYE78mtb8+Er9kPw7ghT51Ito+v01tP9VhLj7IIUK94kp1PYXjaT6CPgg/QBMtv+io6j2RaJg9ZEltPykmHz/6JgQ/Ybp7P7T/Zr/s5E4/YDoDPko0Jb87tqY+M0KFvtFUeD6gPx2/+vxzvjNfLr/Dgr290/x5v2ddYL+N0fg+43xpv1TuWL/SmlS/+nZoP12Yu777H7c9quDtvlmNRD+LvDK+gpZOv+JuPj7pxyI/xVRDv4OUdr+cu/++xm90v8sDa7+TxYI9M7M6P2wg3z01k3w/Pb2XvsuNRz+3BmO/9VyGPufoMD67dwo//lcIPdGoAb/m29E7ZHNUv1HHdD8A9Ew/M/VTvjfIPT/FZWy9P9/svqSNHr+J1VO/mxYHv9kGDr9Lnjk/CXeuvkgI3L3MY8o+URfwPal+Q79Ljr28SeE1PySfej+JKRQ/DQ+9Piwsfz+eY6g9I2kzvg4+8L1yo8I+cPlAv4SYYL8itWy/hrQEP8Ug0z5RsCs/kHlPv3Y6TT+YOW0/DBNrP8XwmT7j85c+i0wQPy9viz5dKME+GltgP9oEV78WEgO9CxlJvs7dZ79Jx4M+WyHwvYsoxD6Xgmq/PnfRvuqiAj8P/Ei/i88rv75Gd7y28nK/bRFaP3mDCj/RMba+gojpPvvZaj+YB1u/jzIIP/DVqj2+3yA/MrcWP+aCTb98C1K/qHUSv39Hj71jprc+RFx0PqjjD7/6OaA+l1ZDPjvcDr5+2PW+Bbd3PwtcKb0Kkui9nJ0Qv+00wb6ogEC/+kGNvjt0cb2dgwe+eaxWP3v5Ez+uEQc/0Vo5uyyAdT8OY24/cBEbP3B2PT9iHHK/5LLYPhESWT/qv5q82TRnPsiPar96Wjo/VoFvPpusZr/HFW2/tmyJvYj2bj+Bqks/FWIZv8/hkLyG0mu/Ltxuv2bwJL/hhwc/GkCcvtnRz70hVaw+Za/yPkvcCD8f+TS+laVJvZrNwDuzIWQ/lW50v9c2Ub5lWv2+cQT+PLMoWj4FPgc/m+RMP2V4E75h90U+55pJvklLZz/buXw9KOo8vrRFdj+Uqr296NZXv6EIVr/UJdI+U1FWPMkkkT5Z7kc/+UpvPz2lfb/T93a/u1jlvoR2lb1ouXw/QDN5v1wFXj8njiE/5CdoPwE6K792KNo+ZrFyPzqWUb8bnAK/mp9KPvnxq73jx7Y+a4yOvgEMP78oJUI/Uv77PoQJRb5FcSS/tK9fP2Mu+j46Omq/c56rvmf5ar5/IKI+iyjJPvxvGb6OAG0/POtvP6yXJz4MFuG+8p00PrD+Aj49OFq/P2+yvkFvxb4jPuE+Lawlv8J5Zb//lnE/ke8OPhPk5j5hyn2/1pPQvjh4jb6Xygw+bjATP/PV0r7t98m+BhJcPn4gW78w0Ak/Npz7vk/9A7/Zr3i/hh6xvuc+yL6m8rs+tYEpv94BAb72+lE/qFpUv1C6O78czy2/1mz6PgC9eL9cWDy+uxtaP4SLaD/MZVS8vciNvVatgr7PvWk+82HdvpLcZL/HTFk8pqQ7P3YHqj7W1Sa/STcXP6HvJ79Cmlc/0+7EPcjHrT6nkj6/mSSlvDF9aD98A9O+ltxJP3kUbj/FPeM+2Uo5PopDHz9bbYC+qCFFvzMWKb9WRSi/bYtOP6kjgz4o8Dm+DW+KvumZuD4j4QY/116CvRBNEz8yNhi/Qw91v3zrEb8hnuG+0wddvq45Sr8llwk/En6ovmPC1b5kUKS+d+ttv2rCeT/D4Nu+HYQgPwP6ur4QjxK/rewkP7TC5L6LsoC+YvP+PIgpYb8KU609Hn0sPz3dYD8w1P0+O82Fvr4DW79eCwe/JB0Yv7i2Xb5Jcl4/ddr+Pv9uQj85FuK9p+lIv9CobD+dCcK+7+cJPywfVb8WNiE/xw8aP+GC9r6TF0E+hBY9PmiKfL9HGX6/d3aDvgKtRz5Q8fm+rGEXv73iNT9dQqo+3S5TvVn6C7+l5Cc/Wg6zvtnGHr/UpFa//YbjPqyjVD+pAwc/xnsav4e+RL6g12M/n09YP2f8Zz/xgFm/40YFv9mdTD40QBO/24FVvup7Xb/nagu/nMqYvXgaDD/75DC+ZILaPrWek76zvZa+eCUjPih0BD9YJRs/NYbfvPiAsr62Xiw/cGTEPoTN0T5yiRA/tPDGvB9+SD8c4Es+T312PtVBWryfNwM/iF0UPySyBj3ZhI8+lcYOv/rqFD8M2QM/1CMqP62pcj/lKAE+bHiyPhxvIr+s2Fu/V+qqPoPZar/JLqE+7PpIvzCZLD5Y2ke/ZblLPvrInTzj7x0/s3xUPxZBRT/JF4G+KmAzP01yBz+inHO/CXllvXycBr/mzF4/1HJQPz2kWD8A6Ac/hYQCP3me3zyjnEG+j7kfv0rktb6WaVi/vpA3v+nxgT5ufFi+gQjzvj3TML8q/jo/cH1TP9saYz/pu1M/ab63Pgyxbj95ukO/AyHlPnoKQj4iijY/zG1BP2kxDr/nIck9wybWvmoURj5r5ya/l44pPRosfT8lQEY+gtRYPWbNTz/bC98+w0fivuN1Jb7znBo/5sEfv+ZcZr5myrk8T19wv0jQ5b0bG06+msmQvQND/T5KZmS/kolBP6c7YT/RqMo9xVw9P+yNfr/WbVI/ujgiPyglbr8koUK9oJVkPnn8LD8fUxa/YB5Wv9SxbD9BXc++3X0mPwsmeD9DMmU/OpgYv5pJBD/1jc09nxWtPoM2lz4CBkI/2fOEvq97Dr/oA7m9QWs6PxAPFL+tOMm+eWcNvQYQCT+fm6A9Go9dP3nU+b7pn0o/hXB6vnY1075o4b494/7hPpDMVz8I18e+JuIWv68X2j5ubN6+Wmt7vlsUNz8Xg20/kXhPP0Efgj5DLWI/n9xDPsK6nz3yxc8+IwJSv3YsSz/awM8+wSSBPeDHeL8Jy20+W+xivxyEIz6/R2g/aOYkP5Czwr1+1XK+hKlzPwKJbL+KUAg/nOgTv2OUQr6zfCw/r1BWP8rkKL+QWUQ/Qu7OvkxA5D3Bw7+9V56SPkqpAj+s3pU+Lbo8PzaeWT+bJ3g/Ue0sPrEYCr/KP36/VS+gvondar/Lth++6LpsvwWakL6nK3E/tn2uvVpGO77E4WM+mEMDv2BWV7/Ataw+Ud9uPYN8pD1vcue+T9ggvyEB2j3btBa/ZCg4Pz/Laz/aR8A+vTHUvpVp2r7L63m/JHqGvp37HT6xZpe+W17jPgqVdD8ACtM+/w7BPR2mfT8p8Gm/s6C6Ps2ncD/ILQW/pCFEv5N8dD/R1wK/8sgtvUX4yb6Ox0i//70TP4JtXL9wlpW+6xT5PiI08z6OGFs/WekxPy6NNr+I6mK9GyKhvT04tr4hnWu/0PpiP/KhJD/1CHe+Bq2tvvPJdD/qGUI/OE2rPhTnMz39+iI+jN87vwhh7r0dbIY+jkN8P7aX4L4Y+Cm/YcBxP550Zz+Q7c6+1Vglv/A+974cuOu+P30RvweL7D6e2z0//bA+v2q1Xj9oqz6/OL+vvomaUb/Irlo/NgY8v+xgE7/YeTw/k5IJvjfEqD5h/Bk+mcE1PyClWj4yJ8M++3bzPXpTUb+RsNq+kfJmPnoUVz6x9yC/h4YuP6LrLL9EIK8+3w9DvwoMY78Souu8zxi4vhxBpT7aIQc/b2EKPxtcJD8WCvs+MClPv7ijdD9rbaK9EKZBv1zaQ725CWG/FfVMP8IpzD4r/TA/BRNmP8zqRT84TX68YDAmP8RhbT9c/+k+mDpLP1jLqz7iuy08oxI8v16eSz+fdve8pAg5PrmpPT5nxtK+PPMyvvS2Qz6ZNiQ/8CRIvifnoD2zNIs+tzzdvW3XhD7X8W2/2/BuPxnqZj8/UHK/fVX/vZugX77ab3E/Ei8VP2zERb9t0lm+eOmxPWU6v76MdBQ/RU50v8IPez+QTIO+tBp6P5OdGL8q4l2/IbuzPhTJAT+olQW/42ScvpJGxb6v32I+ImFHv02e7T5zaH++1SQYvzytiz5BL/G9AF9OP4GfFL5/7wM/bUdavxzLRT9lD1W+bco6PlwtWL9XB7c+NzQGP0Jdrj5dhiI/B9kRP2/IQL8E9Y68gsefvvi1Kr9hSiA/NDmkvtgG9b2yOXG/nT+kvvRVVb6O1lc/YzmgPhoUHj//ABe/iyBwPDvb3D4NAxy/Y/Z5v1srYr9ygX0/nQUSv/tOWL6lILM+qfyfPjPuZ7/hbGA/lz1GPvyZaz9aQSA/h69jPR1r/D6HHg0+rqxcvz2af74NWCe/kKtUv9bAND+/DR6/gFQnvpaXGD8BHwG/uMg9vylsLz+z72o/ZrD5vltNdL8EriS+4dLHPuVz1T6fwm4/LDkfvgEiWD+zU0M9J7D0PqP+Ab4eOXA+b23yPrbmy76HOBO/bB/GvnwT7L5KVQ8/UVY1P5KoGz+Oy9I9fgNKP3qeXz9CJTa/lxZzv/H67T7T34G+wZkPP0oNIT8R5ye/r89Qv1v31T57FVy/CzoVPzTGXr9QH18/2E9Zv/J0BT85SBm/EvLzPgBfLj+/tTi/ufNyv+WrAT8h1J88whUzvuLM1T3eKVw/ihEHP2iPTL9DN0M/NJiTvmbDaL+44K2++X2hPfdD9j5o8Wq/nxOMPDe0JbwifS6/oEedPu0aDr8k7nk/hJ/yPZlDAr5KTv0+UMwKPef+Rb2AExW//yyCPoDVGT+ebpW+HJs7vytIyb7D3OI+agNPv13/PT/ecQu/nHBuv5Ta/j0beCs/sA9Lv+LBUr+pMnW+U0UMP/IMYj/YQ90+bctPPUmTbr/XvBC/QawHP7G/sz6p86Y+My0GvxuNV7+9cEY/72Ryv5ch4T5+USK/UrXvPq3KSD8RcQm/T3NOP1p9Xj+cHaw+oeF9P96OfT+A9rC+lGg4P9nvib55e6s+fS3cvWgmJD+fUc2+UFwav5aB8Lzpy2C/u6FZP/rjHz+62o+8AlMOPx3guzxxHBK/bh8ZvXhaNT88FJ88jNJ/P1aWX75mP0u6N/tNvxGrYz80u04/9HgOv7FBbL9CfLi9Rx9yv/oHbL/1HD4/7vMoP3+uHb8cx+K+8J5qP9byXj4yUiG/AljXvpT7cz9vBFe/GtPJvlYJTDzW3Xo/V8Quvsf5VL/7J4a+GbNkPvW4YD+A1jm/x6EePyGfKD1OHTO/4Bsmvyh4Eb+sWdu9fLNjP7mfqz41APy+u5a8PsBvez6H1R6/YiTuvm60PD+IafM9kqQSvyK+o74QdmS+1r1yPkHvtb3OHGq/b01gP98kWL9lM+k+Xyj9vsxwKz7uew4/7mVnP+NgFL8kAMs+m7kjvxzP377ftzs/JfuIPhnie7+xt28/BjZlvxI2c78a+50+4kRUv7hxlr5x/XE/26g8v1qGxj4AvVW9pHAGv6d5qT2jgQ+/sgu1PfBKCD/TfXg/gxJYPwsodT6GFy8+YvAqv81aF749V2U+OIOOvIbjYz6PPUQ/NBJvP0EfTz+VcWE/PwE8vx+nYb08ayi/fPR4P0b3fj7XqX0+U9ZeP/6x/L6b+8495RVfP2BIsT4Dgw8/DT9Pv5x4YT7VIEA9oWs0vA/fYr+9ClC/D79Vv+amGb8VK96+3o32vt/jNj9zh0Q/Ba9NP4bBEb+00FQ/uQLxvt5Sfr8pdJW+bztYP4/E9b60sRQ/mcpYvzZwCz4k6fq9Ez5vP1Qytj4Bm2W/Jr22PiVMGb9nLmE/eaUWP3Y/Oz98dV8/7G5VPxONrz3AZGe/L7oBvxgbcL/LjGk/NqZ4PWOJTL8YmNC9+FxQP8TyUz+JAww/vZN6Pw6D9z1eDos+rQpSPzrgXT9DPt4+3o0KP8ZyM792e2I/hN4AP5PmDr8mI2G/cvtOvz2oQz9JdBa/0Wxgv4iEIT6bfdQ+3tJ1v32exT7A+2a952afPqLNE78OAjC/m4JYvzr1cz9KVSA/7r4Sv4Qec7/E1MU+hwaFPn/KMr8AiE0+IY9ZPlw2Ar/l5m++lhECv2fbLD+oV2Y/U/wEv/GBuT7URyW/WKvwvju+y772gHC/vVGkPZnbTj9JZkI9HM0ev22Msb4dpBA/tJVnP06Zlr5niTi/8TDRvhB+9b76qam9PauEvmx14b58ql2/5pJnv0TzfT/p0Ws/jCk/P+BTEL/p+5I8N/1cvwwnpD5UiRS/nQYWPg1UFD8wcR++2p3APoKJd78o+Bw/dOWnPhlOeL/2nnI/GJXYPhWDVz+UvSu/wU/kPl2bM7+osvm+f8Uzv1xIfD+Wci6/ZXVyP6DaWb7f0Ta/wadqP3qUOz+dB1u/D5Kdvas+lb3rnQQ/zOcTvhT6R78y7gk/aA19P3wJ5T6w8H4/iNn+PsC1Mj/5wg+//t0XP7c4Mz9FLnQ/bMtYvzmXsTx5EHQ9Laa+PoNV0z4DPWA+8VtaP2QKbj3WGTc/VTdfvyBxSj+hqra6r3iEPla8Jr+L4Fw+g+kZv2mYzL7t54e9azJavPykIj+BLno/tfuPvgTcBj8nxde+y1i6vv46g73L/aA+cocOvhjF6L7gpEU+U/Y2vyNxM77AkZy+glBOv0stSL9sanO/aK6cvsQYvD4+7zG+YtSmPnbYrr6DKUY/M8FDv9Owdj/DQSo/WLxcvqV5Yj/QduC+Chi9vmyAXr8Pr4U9aHQLvsshxL7INjK/yQwpv822Hr7a7VS/OskZP9J85D4A34M++jWyPnb5V7/43jW/t7wYP/ZynT5v0509yzU8P92OVT9yyq2+VcpFvq7bEL8pNSo+illwP5nj0j2jKRI/RuZEvzO0Ab6bOSC/+IdlvutIND48IAq/7gQXP3n6Er84+bS+fs5tP+VAxj3qeQQ+k4YYP65k1D27Aiw/4cpQvxSND76jjvQ9jsSIPeakpz4+kxg/J88kv1eiT78UUXm/Bv9wP1PTYL9k0Uu+VwI0P8qxer8iUsC+jX2UviQpDbo4smU/VzJoP3rRXj8jZ9s+Dp/uvWatez9AP7a+UXFDv9mfHr3ny2u/YkMQP/ZgYz/PlRK/UesfPwcVKT9HxlK/TuSavrCvNT8+vQi/DfoNP6y+377mguw+VAORvvC3EL4nO3M/BPakvo3TND+6TAE+sISTvsmZMD9qsnO/EIUtP9uV0r6LD0s9TrIfv1rZZ78HH8K+5M49vxFd676QEhy/5CImv1WwkT31h9M+u/opP6Wdfj+yPxS/hg4dviVAqr64CZm+Oc40P2eMhT5SpC+/YqkTv36kcb8DJ8W+QW3TPrSDm75G4nw9xGQsvURUYb8UlDM+eKF+vo3gM79wByc/86HFPeWBMj8K4j6+FjA7P9V9Pb9hgxw+nVUxv5VpSr/j6km/PlJcv30Cq7494u88Roxav31qA78a+D0/XXvLPLQ26z3Yb6W+vhI1vQ4A8b4siC+/2uqKvqfncD830KK99auNvKgaOb+oNHu/Jutbv8l5Mz9sxUa+/zifPv5Msz2gP1i/1bJ3v082ML9FihY9KwWuPUEq8L4GaW8/cs1mv+f/xT7CS8U+IggbPxITID9Xw1U/S5aqvu4wUL/nr1i+ItVAP5M9Pz8F1F0+l4kCPsdnUj8pRls///J0PyAdfD9GCV++UDghP5i3NL+CKq++HNWavm3lUb/ETkm+NljVviFsGD/UOuy+yihOPwiFEj9/sXq/x/RWvmt07L7GxFm/RNN/PwD7ZD04qV2/LjMrP2Ioez/wMmS/afYhvyQZEr9U+7a+Rqxvv/A/B7/QRnU/IutFP3CdEL+dUXy9NnoEv9ooEr9q4dq+LPD2PoLwMz6v5oM+C+uZvtkfaD83MVa/X7chPkuiQz2Wxny/guzLPgd4Kj4X1lq9fEpBPRdzBT+wfFA/ltk8P4YtFD879jQ978CYvqC9xz4mHAe/S4cGP5/FaT0Fkzy/Ehx2P6NqJr/zpyA/4YZzv1rUrL7yPqK++dp7v/3ZI73TfMQ+RLNBvtgltb3nocE+OWlwP2fezr6bG8q+kqfzPm38ZT/ZEKA+jrUFv641r76erXq/eW4/PyTEzz4pHnO+Efe1vpeWwz7Vd22/1i32PqKtRT63Juk+swd6P4kkiz1yUV0/o4zpvB+Wsr3MOkY/oTavvtRDez0pkmQ/t19pvqhQDr8ad6M+7b8mP/baKr/M9Ao+szkfPw8SLr6cp3s/arVLP1HISz71cCe+9HFdv/P9/zw5AGy+XuVzP+SMzz5IrH0/fCsLvqMfdz+AznE9bmFVvrtRtL2B9dq+ra1TP2aOFzjo9iK/APgXP4Zr+L4vK7Y+deMfP2Udt71w9g4/ejkyv2rLYD8QF/I+EWN3vlzjXr+2vii/9t8Sv5c8Sz6WbUY//bWhPiXqV7+Ux6U8S3iFPhV9Mz/pjMW+90BbPx9z0b64fsA++kS0PouUPD7fL7w+uod4PxxZcz9ewDE/mOgZv9xKqz5J/HK/hHJ8PiN7Hr/zZ1a+Dy1MP3KZVz8kz+o9yJ6fPmPrabx/y1C/rmOhPmkOjr2BBhe//f2Qvhtztr5E0lc+0CMjP2eXAL/iTtO+CTpLP0PkHj/BEas97se2PkZIvj6kYzM/J9abPrnJzb4b6iU/0uxsPw/3oz60QWs/pEH0PRAdxb6V35C9qdnNviO1bL9T5Vy/3VMCv1yqBb9/d/E+lEESvkqPFb8Uytq9dl+Kvot99j4xJG6/McigPgVKXL+Svno+0WQdvnT+HD4AOru++YQXv/9aaD+rLww+mvtXvzXKPD8giqG+auiCPgIRUj+c5qC+k9Yfv62Sar8WtXg/qTchv/JDnb6t58g+WzzCPiRxmT1VGgA/ASFpv2fNaD8YaaM9ahIYv2zPBz9vNxc/wZduP9tAYb/rONA+1pHwPL52SL+52Uw/9PAYv/ynST8/MYO+kUh7P8sBLL+HDS6+aM8dP2/d3j7GYP4+cSAPP8KXbj+gAfw+aldWvTqgqT75oV0/3dD3vr+Y/j5x8K8+RdKLPSg9eb1QXeu9Z6pQvvo9Cr+w45S9Ug/vPs5tsj5fF3w/hi4BP/4frz3j45A+ZSqVvi8zYj99ZVy/PZlzvyNbVL+qEYC+kKJfPwdoW79sgiK/LPszv8BgGz/SO9W9xuENPwy7vr02x0u/czIWv8A1Xb+Aj/A+HtTAvhEtFT6wrKi+31wVP6Nqs74Riqg+EhE7P41o2z7v9iO/T9UePwh8Nr8Onzw//FWbPTvfIr/he1U/PRkTPl9dsr41lBe/HM2iPco9+r42Fq09rqEav5cq6Lwr/e++JW8XP1UY5r1TmGS/2RoKP4HQoT2+MM4+XbfoPtYJAD142gI/Ko8yP65nPb8d8A0+02A6PyU9RDxFNH4/Ayv9Pg1Web/nQ80800F2v0PtGT8C8p6+whE1v7jsHz5WD3S/jF10PlT9AT/sxcA+R3oYvH2vUT+xRju/pPJUP6KKkr5Wgwe+r2HWvup2ND/QF2w/vrJpvjwvQb40Tiu/urAeP9FrSD86bSk/qKopP58gbT+R/ZS++H1IPeJexj3AtVe/36SMvSgGRL/eQV4/G44kv36IMj82DR+/dU0rv+R1DT8pOFu/dP+9vk39dD+lW3u/CAQ+P2ILdT+hBbg+ky5xPxCEAD+8M1O/tGelPWi5Xr/8Prq+ZpJHPRyCPr896mW+XGchPhyEeD8OS/s+ykE3P/tHcb4unEc/Dvorv3jHTr/7RTI+W1VEvgHN8D6v0oY9ofUiP/sKYj9udVK/LLoHvwXEmL3TFR6/2BVdvgANrj5q6xe8fL8QvzAEOT+L/DU/TLMivg/z6D4PTGY/5cx4vxSSUD/fXH+/j3tUP2HTTL/esac+33hOP+hUDT8+e4M+7dUOP9n6wb6Pg38/HXNEP8K2X7/FPAQ/J5AxPytBYL6L1di+pQBfPt03177W8Hk8bh9iv5Jbr75QBDA+knctPwvxXD9/IKs9pjTCPkwckb5i+4q+p4vzvlB8mb5eh2y/NFqUPgoUnr3zXxq/rDIIP51LVz/3Gwo/pYssvtyB4Dx/G1y/LCEVP8EBaD7yyWy/MB5Gvzoy9r69JZ69KwkKPiDUWD+6Fv09TAJyv+EKyz704km+yVVov2MkVD+LNSm/9LQyPmSCUr8j/RG/B9Imv/VV3D41Vvo+Rg/yPlAjZL9zlw6/vtcjv6BPUb9TYyy/e55JPodOeT8/FWa/3jJ+PsVW1b7g3Oc+ZKlHv046ar8CTF0/GDe5PuVEdL/xm1i/uoQOvw6rZ75m8BM+1RchPytMbz9i1DM+x8wdP8zLIz9GC3e/Sq/qPtqgWr8gKiW/r6FEv6chbT+moV4+kZB2voIGwb5JQ3o/cj9nv4Jp9byFgEQ+WN0fvzQLVj8+TSy/P4UQPxN2xb7+pTu/ImdoP+M5MD++zHU/ojLiPrwTTT6rcmg/ttT8vmQV/D03V1s/9C5EP7IdzT59n3+/U7qXO8YlQL/Ua7Y8RkMNP1VrcT+VaIC+jfGtPm0rar9mJ76+QNXsvexUYDz+4j4/9uPWvqQDWT46JSW/3sVmvmo1Uj/9EhC8D8vpvvgdGLzUmHC/GgFdPwFGfz9XDQi/sYRYv95Y+z4MUw6/9GYrv6UkND+8oJM+B7FYP9xRyb63xxo/mXKcPeY4XL9OYwG/5JVqv8liyjzsBBg/3gJfv7EmFz7nSkC/C9BIP0e6Ib97lAS+yAQlv7WaTz/NbxG/nR1jP5O5Tj/P+vg+xH1fv00uCz+685E+CgAUPzDs6T4KFMg+eXduv+0h4D4YwSI+SMXQvkcRAL/hfrO+x/POvu0kOT6CL3Y/nQmVvs+LIj7z1fE+c80NP/v9j73/7zO/n219v/u/Jr6eEj8+16zzPsVNlTx98BQ+WrxgP1S/1j7UTmW/TcivPUFfUb8cg2w/yBYdPzwsXj980TG/X0wwv8MrkL5RyRs+AZ1lP51EcL8Cxdm+Il8TP8e4xjxwuks/rKUPP5eXV7+PCHM/j649P5JpTz+JKCy/zafpPPcaSr+ADO8+VKtXvxLPpT6loFm/4wKdPvMleT+48QA86zFYPeecer/FIDE/UKMrv6NEiL77pF4//QkMvxG1q75Ukwg/eX45PxYnNj+oxXE/s/XOvQ5sMbzzOTI/taPFvU/B/D5IOyE9jVc9P8SBvz21DQk/eWzJPnmxsr6fDFq/kI7fvkA/zr4goXW+QpHUvoOWHb+ZNJY9Q18oPk66UD5Nrwq/9dirvTzLK7/R5eA9uKXfPpmtjT7d8VO6Ri0TPxM0dD/ZU0c/0bzSvhQyOj8E+FE/N0BBPyWyTT5lAym/ceEVv3OgVL/OZuq+RQdGPwNY/L72f4U+ZaN+vxpaFz91S0E/IMBpv84LHz9Aow2/z87avpjx/z3QIUq/1to7vs1UFr/kYNe+MJ3VPV+KFb907WM+WTEaPrMUSz9qDDy/X07gvqiNrL4VdEM+MK9yPlwRq75vKQU/vr1tPyiDnbyg8pY+bdMzPne8KT+E2TA/T7nkPhu+4b5bR3k/kCVPv/vL7j5ojjs/iUWZPhb0G75evVk/eCvFvsQpYT/aLvC+6N5yv/5Izz49zrk+SMeNvSRqfD8ZRw6/hEe+vr7FeD7R2Pw9hMZIPnknnj5os2o/UkPRvtjySz/DObe82mIRPY+JgL4MY0U/IcVPPyIiBD/5mVk91GlkP5oeRz+39z4/i1hPP5EjUzx6gD8/9oV0vwXmbL6Rc2m/Vkgnv4VTKj+nhSc9oro8PnYkKL94ImW/VfVeP11EED8/B8I+ixG+Pi3HAr9RXHK/LD03vvtzVj+BbwK8hPwBv6SLBr9ak76+dHtxPwckOb8htrY7nMEFv17i2j7tjiG/CK9aPz1GKz5RivK+rwZ1Pm1xfT/WClu+GYW0vfXGED+vCnU+QFNbPyAIer8DkWC/3ntfPoxjcj8rNwm/ehZyvkxwFj8BBZa8HrkavixyLL9arVo/82MhPsmmIr+pIzU/VGw9PlrMFj9kDnk/aVr/PvFmFr8zCXQ/NzVsv+557z7beCu/ZWIcPgwrd79tN42+J6MHP/z4uLyuY4a+4NoTv79P/j6v63y/avs3vrkJpj7d0xG/y0lOPwu20L6YQjA/bnIrv5z0+z6r3PC+KvZivznvF78UoCu+P91FP0TVIT7fjye/NPRSv8NuGj+x5aU+XHB0v95mKD8K0WG/2DUDv2wtVT8F+yk/Uq2UvpASKr8JDYi+84cIvqVNWb/YkYS+FN8IPwHnfr8MlAY/E4pzv/UXa7+lky8+EvnVPpc1CL8D64U+534lPlt6YD/DnXc/1J1LP8tHP79MsgW/DjFOP/yLRz+JBKK+e3IyPlJYTD+uDWO/OaXgvcNRib4cofi+QDsVv21UVz4NnVU+c39/P7wXRD7xOBs/5/R9v2rRbT7Okos9mfgkPw0qCb9z+54+x/ZuP/qGYb/5LzA/bctZv45hqL6DtF0/GFZfPzbUIb/e3yg/I4RyvviTT77QXuu+8O3Tvc4VOb+RxfE9oBigvrWk371q1aI+T2t/vuCTD79kNla+hxvTvkO6Yb+EPwS/TtmPPgNBWT+Gcxo/gllUvgP3zL7UPH+/5/4QvxsgLD7hDhi/5RlYP5EIvr304PS+QOU8v0ZInr5+X04/x88TPkMXqL3xs74+soURv+asUD+BDUG/OANFP1nBXr+aQlU/+Hm4PXfu1L5/rCs+b+AFPjHUoD2EPrQ+KELUPRvDpz7IT00/ZwX5PvogFz+DluY+BD6vPpSFOj5yeNo+OaQfP243BT+/AKo+Vl4cPlCtJL/rFiQ/vVwVv4Tvbz8cwQQ/wA80vheFEr8RYBS/GJtjPwCiwb0IGSK/2SHCPBGuXD9PMNO+kLVJP626zj4s2Ky+YZMsPweFND7S3xU/9HtPPUDMtbx89Ag/gC86Pzghmb1brrk+kZ8IPjzYsj5qtRk/URxxPjpUBL9xa/Q+UxR8v3jeNj47tNE++gtlP/p1fT0dG04/Zb0RPl4Z2L5QfSS/xCEKP9PdVb82qlE//7FcP0lDWz/JcVo/3jAfP0QKW7/mRlc/nygXv4wUvz7bsdg+8dbRvqoVK78vYEo9ln+HvhKPer7M8am+GQ4fPlNsbr/6YRY/uNF+PICBJL2qj66+nkxuv7JQ7j4Qnle/mJUJP+GoF78dwJ4+GIczP38fCD9LZFI/6ytMvzjpqr5FkjE/95ZOP621Wj8Ghw0/T2LWPpMSvj0mtwQ/ShAQv6ciT7/8czk88NIXv0SxhT4Idiy+SBp+P8E1Pb/2Kkk+PCWmvsvHOz+Dv80+s9xiP9sgIr6oBQY/QzUTv8Cror4VVyu/ljtKP9tYfz6mSXW/Zrocv9zPoD7+O20/GRImPCnJRb75rqo+iJArvpTE7L09w9G9oB26vprvRD8WMfW+ObAfP39YNb4N9Zw+bqlOPmkBE78g1kS/Cjk0Pu1gar8il4A+J2kSPvSCXz88UTM/o6d1vwNTvL5pbg2/BLd5v+xqSD4dMV+/ABnwvh/Oib6mKj0/2EQxvo2/qz6Yfzg/iitHP3htTz9s0XA/8aSFvn7S3L6bqY4+LCZ4Puj1Cb+759o9yJGAPnY3Qz+2hSo/HCpDP5eoEr+0fV4/rKkgP5BY7L6BfKe+R9bHvsafDz+1Wlu/D9AhP3dRWT6g7Iy9du2fPvACMT/bH3A+Wt9Yv7J0XL8WBBc/NmziPnDK2z5cfHa9cL8gP+uteb+lPTm/3E9Hv/YhaT0J29W+Ez/Ivd6mdb0H2vK+b+5Fv9fiNT9zdgI/JWt6P3mdg74wKQu/1GD8vYG1tD5nqT++LMT4vi8Fmz4eGjo/EiUaP7T9Qr/N+3w+fpnRPtj1cT/QZMW+xWxrv1wODL9KJBO/QFHzvuoJ9D29PUs/J/v9vv6vYT8mqna++Yshv7uEOj8Ais0+XQ5vP2aFDb8dIX8/gbENv3SSFz8Kp4k+ws32vjHJZT/HCra88WgEvr/f4z7+eEK/vZx7P0p/lT5L4So/srQavXQsFT/bJGs/gbN7v+l0476LaW89SoQcPzpNHb75w0Y/pHbOPhQ9GD++3a0+zTU2Pw3d3D1ErW0/S0krv+RqWb8k/0E/9tVpPzweUT9Ztzc/eZl7vj5cJT8ART6/KmJyP10i877gDoE+POUcv+KCTz8S19g+c09Pvrp7Lj/CuZ4+vbUdv4z/sD75GiS/TX4DP8tEcT82ugY/xWl7PiFEYr++Y1Q/byh+PwmICD9fEGS/UrGLPnVVb79aVxe/NO95PuRqGb/0zos9MFh2vfIuKT9DIVq/O1NAvw0QvL2JTsa+EM8cP3aYQ75eWAC+MPMlPw4fDb84U0u/X/RlP2dxZz9JNjW/5ktlPx5rQ7xo4Hc/ChV1v93oMr3G3+i+bWtsvnWbSD4tfDc/CeBWvmnUED/zAX6/Anh1v+fev74JYAW+IOx0v+IIUz9KmYA6btmiPrxk9rz69UG/kIZqPk/hxz5otFC/pXilPQleAT9RGco+sHh5vzQPLL9x/g4/TFDxPl1HCT4asqY9UcrKPje7Jb7VJH0/N2S3PowUGD/HmAk/T/kTv8UvYL+sD90+K9wMPamQMD90QT8/3vajvkHp4Tz+lwm+VANOv4XmxL44J1o/z0knu6ykSz80FtQ+uVV8PyyHRz8tM3Y/C/V5Pm1hBT9z9FM+P4ASP6S9lb62Zcg9AZ78Pp3VdD/mKNi+wbOdPrDPV7/FJyg/iLcjvyUNUL9knjK/jLtbPQEqXr3h3hU+mhgCPzGmVD/2Nnm/I7DovkMez753iVo/pzQLP9Abvr62gKu+aK78Pm++SD8gBTY/wJAcP/ePcDsNvCY/0bhavzz4xj552G4+oQ+9vdpolzwLzG6+ApQAPk1JZr9/uco+xRf6viTokD521D2/iLxav5VqVr8q3le9wMQzvPnk8j6E+SM91Cd8Py51ED9QXGo/cODePT0GVT8Y/xs/TvZgv5DCuj5MbjU9capgP3iBZb+wTji/wXJ/vuGTir6QWps+E/40P89eP79a+SU/vsutPkglFb9wCyq/UybyvXA4P7811tS+yf8Nv+w/SD/zFqQ9kUlVPwqr3T4I47o+PMS2PmopQD8cHA0/z65SvZ7+Xb751ca+l0Npv5GmYj59uwI/VlZdvtxeZb78uE+/QIkCvwpTRD5sumq+TadPP69xyj6nMgo/k8NxPzEfDD6OsBA9I5Tgvmn0Dr9d/9K94wr1vqdwGD/tSVy/xVakPmMcej/3l8C+7/MMP2joSL4pV1C/VbfOvlGmTj6G27I+aH2MPb3rUb/UnPS+nhgFPicfJD94/QA/PgPQPmSob75GLOE+i9cLPhVAbD8zhUW/45kwP/vrYD9c0l+/qzldPtzH6r6GYCS/ud3avjskLb+TrWO/c/p+PeroD7/ovFc/gxVmP2D3tD1w7n6/Gt+VvkXdmz1cpAW/JAKgPeiRsr4Kjge/rMOLviXLtD4QM10/pSOqvl3j9b0F4sO+uCkVv2LICr92Lp+7pDFDvsc7cT/0vla/ma5nP8qLSb+RdTQ/K1D9vkGGjj1oDBo+SBqXvm0uFj0DImK/bQMdvNhhmj01oRo/TFYEPhHRHj+K5rQ+Ij0Cv324Lj9dhTq/MzFqv9jqZb9MtQ+/+QabvlfXKb9bx9y+3/ziPi+F/j6F8gA/ijX2PlDkkz1CCHg/WLVGPjr6A79aRDG/gtktPntVJD/fPRY/PN7hvv7B/r5qxV0/G4klPl6ifr8R7Ey+2eMyv2D0zL75fze/EKblPU3VQT8Cax8/71Unv7yX677adaU+JBQPv5b7Vr8omDy+o+RXvxx7KL9BJUO/W5pVPm4lXj5DHZ++PffKPh1P0j2+29y99c5aPuDjtD7CRAa/yy9pvx6G3L0WNAQ+wGA/P6jZEb+rqUM/Ik/HPt2rKb/vXgk/0f7ivqV7KT1Vf1++WiUWv92cfz9jEQ6+5jkpv+hnOj8uBlI/6k9tP2g5VD0XhN6+0PZ7P76pgb4V56S78zB9PyjoZD6YCu08ygtxv977EL/2RgY/68CqvvV1Hz+Jl6c+1NInv7n3EL7QAnG99N8JP5DGHL/z7fe9FnbWvkRxZb+ZJme/AUZ3v6r7Xb+nCki/qiF9PwR9kD61HMg+qPgnPr87v7467yq+NBYtP7eU0jwvHOK+FnU+viFTIr96vGE/06O1PuFwkLxxWSu/pGLlPrVve76nVx0/8kIYvxuEA7+LGCA+TA8LP16CCb9epcK+gWlMP/THWL88rgu/C01qPx0pjL6u8n0/SDozPx49KT/3blM/iEzFvgubYr07A2M/k2tEvodBBD8/blA/mDBnPysyzj7b5t2+3607v/GFMD56P1G/HFwkP3dLaj/nwZk93hcxP9iXHb/W2p8+A98GvyysXz8NQmM/snVTvyUjtT4EpvQ+NEDFPoiuCb8LRC8/aCQ9P43mZr8yZpk+8EPiPmATfz9dyF8+d7+FPm/6eT95d9I+/9s0P5/YZ79LpEs/klrLvhIBpL4/maS+eB9fPx+epT1X/VQ+5QWlPXcrf78QBSW/PA9hv4JWJL+IBdK+4/rBPXR5G79GB9g+3tt0P6m5Wb9EOiG/ANiJPhUWL7/kyRk/Q6Rkv1iUPj5nFqe9cm0nvX1UXb/V0IM+Q2zePh+Lmr1YdkQ/eL0QvzwgVT8z0zy/4mgev0OvXz8Sc8m99jEjv1/7wb7/sQs7hJ1eP5koHT08tUM/kTk/v0Xb+T7iu2G/qt4UvxJYBL7E/xQ/z8BJP9xEcz+7KUS/0L2ovg+czb6iUFy/HUzHveg3xz72WHc/upO/vCgzYT/8Tgs+Z3YSv0YrU78Vy0U/Lby6voyGYz+GZA+/1mKDvk7fAj8G0n4/kTJ/Po4uOj0BSAM/s6IsP/wul74qzT6/59h2vcmxobwgvqi+kFgqPxMjaT/pThO/HevbvqLFUb/cXgO+jR1+P3n2bz9XhC8/f9gEv/gz5r1xJug+DLxePzPIcT8Dy1E/MFihvoUKaT+Gpd0+gdvJPrnrEz/eo/g9SGQlP8heTD9Iqsg+A27kvh6CzT4sPiK/bcaTPhCHwT6qT6C+K4n3Ps9JMz4DNEo+p+pyvxgpJr94lFE/rc7AvnmVTj9vyzy+fh0avvRVGT/hjTu/5V5rP8Ggv74P96a93OmXPiGcAD3Oyfg+w9gDvsspaL8a+DA/fNxFPuTtVT+eYok7gWVrP2+ba7/f1Sc/yCsyv2LPdj/LylK+rjdfP+Yktb2VuFW/8j6kvj7sar9UUxy/vt1Ev3c7f74TSO8+BkSSvfY7qb1GBlG/CS0WvvCqyz4y4BE/8LGyvnoYBr+whTq/2KOJPqHBBL8LIJQ96FA6vzB3gj1/Jz2/kmwDvnjwYj2GdTu/lrb9viiADb6dRz+/VW0Hv6Jnl74CznI/4ryRvn2UCD9P3xW8K4a7vtBzt77eZSI/JYYVv1ity742MIU+MDzvvtFmvT6kRey+SalPvyDmID8RZl8/xFOJvv7biL5S8Lo+tZjLPhtwIz69kHe9EUHtPtJHID5FVwC/1LnmPhoUOL+8P/u+ZegYv3Wecb+fPFi/Fdw8P1XzKD8um0Y+o4ZrP4gaw76JRTw/2BtDPyXlUj9tfBE/k4OUPddyQz67HAo/lLqjvnkPcT+eVQc/PEITPS4GSj8w+28/hWHMvhXLNT+GqNE9RsemPfuTKL6H3Cw/W4LhPiqZaD+h8AW/nY6Avtk5RL4h9OY+dov6vhTMfr98Vus9rs1Vv1KAMr+Q2ei+k+Bjv7usbr6ke3i/TuIbPs2zMr+0y1Q/v316P2NNZj/Wxw2+RZ4QP6ND4j6PaVi/CuzMPaCCXz8GjDG/pZEaPx9mbj/K4TW+fYFOv7gIJr9ObVy+z59cPf7XAj64c32/YjUgv2E4U79hBho/ezSSPmz8fb9P+ak+Ty7Bvs0mez8aGSo/4GZiP+zRHz6/F9G+w5o4Pxh4Ej56WqY+ahslvZtQGz9VvSY/0khIv927+r7PF3w+LTBhPwO9Nz0OAQ0+P0qBPoRGAb9L4AG/QtRPvwCfdr80iJo+9sN5P9ssIb+Qlga/zgJ0P0YlkD5kEqU+D2+vvvh9Sz4Lf54+uL4hP6UuED5Om3S/rvluv07Fm74ADVg/13ZfP/8pAL71Pwa/E7/UvvJi7L1tP8w+6fgvPyuNOD+Zeqs+2xZGv0sk1r4mNTE/oPzfPlYzVT86z2s/askqv+EgCj8Of2y9vPHAvSLQ7T6/kLs+S+dJPk2tEr23zrG8IWtev44Xh76KrYq9HKXTutOEHb9YcHc/z0BZP66Q1T6l21s/l+Vrv4JTjr1b69w9w80KP6prJL83atI+7sBzv+9Egr3orW0/IdbbvaerLD1dfvu+e/FRvcqTIj8cZzS/bmpfv8yU+j5JAM2+G9U+vwmrGT4uhYA+h6WjvsjzVj93BYq+cC2PvHQpQD8zj8U+u5CYPTaQZr9u/xg/QMA9v3XlTr58Fgw90G5wv0UjaL8JFUi+A+Atv9CbV751qxg/3UGIPTO2sr20G22/JVZdPtYtQD9+F06/LcpKv7W6JD6LLh4+PY8tv1BYQb/LjWu/W5xjv/JLVr0hw989+fHHPisUMj43lkk/3ZDnvnPCTL9fvj2/tLrIPlOlb7/MIYS+DYt6P2++uz6KgIA+xnoYP65pZL/4eHW/KIFwvtcd7z2nSBg/1FojPmAyUL8ydqU+n8TJPvbCYT4JsBq+1LbNPBmWqr0L4Eg/PvUVvyTt573FzOC+CeK6PqgJSz9LlNe9kikqvy3mJ798QHG/UwYLP8eJ+b4ut1y/OkAKv2WyZD+o7UK/yApVPtMycj4LzkA/hPMFP0DHlL5xPPw8fdIxP9jXxj02Eci+eIT/vpe58j6Xtk6/QYT6Pv6hYb+megW/NUdrvU4dLr+q6gw/VgAuvyD7AT/z2wg/qFKVPipIML8FzWY/QY+2vupabj9zg+g+wuPoPhSXXj8/HUc+zsv2Pv68LD/Q8NS+Vpq5Pk5LFb9R72+/9GgQv9wlWr+cJjA/lEcyvwitwL6voZ++eo75PqMTS79zP12+D/4PP/Y1ST7PsJK+uwFYvoh0Lb7W7y+/MZdJPmmCRj7r+We/Pi00P8r6eT/stXM/voNWv51ZOj9ttoe+KPsnP+vgxj3M21Q/SmgJvndYJ79l4yK/S7hhv/jrEL/41tk+Kr52v6LRP7+oJVw+xbu8vGmLYj1dN2Y+tNEsP+9LCr+RDUM/DQcYP31Trz4yL3+/6WEsP0e+pT5DCHu/YMsDP8mwFD45+As/fHwoPwWrdb8HaX4+APDvPrYKLL8sQk49W+NUP9Tbcb/WBRo/GVBIPq39Oz9UA2u/AxTsPlP0fD87rwy/diQQv5XB9z4fSfo+wbt8v30vDT+5a3S/I7xpv2WyRT2FDqQ90aHuvm7EcD4dvtq8i5sBP9cTIb86+DW/Ik0FvlHKxD4m9L69LUSJvpjjiD5/Ilw/rBGzPlCIPT8iwmM/TQp7v/fUwT5zGDA/exAgPzrDfr75sGM+iXs8P1pTND8f3yy+XGYav4LO/j4gvyI+/YOXvjw+tL6npZi+6VsJPZx6vL7uM1c/u60Qv9t6br5vQF6/HLWqvsdJfD/zHim/FA1FP/m6mT4SKIg+z41Zv4/hB79rKa0+mEZQPua79z2PPV4/5g12vz+obT960wC/JwV1PjN+ez4lG/4+sV1bv1DFrL5cXEo/9yQxPyKLyb5vPSY/m3jqPhKpuj5UTKm+2mIIvrF8Fz7cMFm/wIVvPy2nVD7opJk9T/ztPv4NI7/GOm+/vw6QPu4vSb+tOVw/yyRSvuWsjL6Ghd8949N9v/OTE760vnW/vLxiv9/MeL+YRFM+guLbPMxCX7/BEwA/ai2kvpUwCz+Mbpe+QL0Ov1T67T3Uk0U/fc7rvnHUXr9a0zg/uBFmv/18ET/E/hO/nC0bvyR88j6PhAO+KGwxP5J1GD828OY9XLWIO5DNdL9DGW0/aQw1P2jYFz9kktq+e3Q1vwGvCr/xrKI+DLtBP/3Ytr0ceTW+g5fEPTbt+j2iHzI/uP/gvml8eT/wTJA+YKMhP/sMYD9bKCc/hP6nvvZTPz9L8rI9OOmwvrTcKD+8eOK+XVNuPyWdQj/kEWi/WLZwv2OKB78Eoaw+wUlUP2B9Zj8k8RW/CDQsP/WFQD7i4ug+hkGhvgq58L7tYsY+NKeDvpDELb+L/d8+gedEv+mPDT2KnGO/QvlGv+3psz7NRiG+UqQYPuDiir6I0RS90oQRPxz/dT8/f1E/tmd/P+StvLy3Zue7sCgZPOIQEL9Zjy4/1312vhnMKL960Va+simZPn/MP7/CTn6+UpsTPzIeDr/iX+U+bSnYvXPEZr+TEDg/wAY/P2lJpL4L3V6/iCE2v/QNBj9f+Bo+ete6vcUnTz//58A9uR2Jvkj1eb/zZX2/ctwiP2IdDj9jEYQ+285eP52hUD+n+wo/Hfr0vgFtyL5c+ig/+UNYP/qHwD53L86+2qRmP0qU0Dx59B8/VWwkv9shgb7skbK7F8kUv1ywCT9LnHQ/ytd3P7ZiCL/0cXE/byQ/P1bDML9smRW/F5gWP46LT76hTUO/seDIvuP+bD/ZD5Q85lMMP/jbGz6IP34/dcxJP9unkLv0D2Q/xZxcPnH1gD3l8y6/t3VUP4xmcD+f8lu+91IWvZ+lyD7fYf2+ZFYhPgYlPz9+HlA9oRucPisIDb9uduu+DtwmPk9WfD9jrQe/7UzePvrcIz0JF84+H14xv5o/OD5Jt04/+CB9vzJfMb8qt+29u2B+P30MBz3h6Ai/0QM/v8vocL/D93Q/2gNLPzaoMT9ekCo/afGGvgJXIzvFsoM+5u6GPqTeTD/+ADg90VoMP63EX7959Rm/G2RDPnBRAj/aOUa/nTrJPvBOTb4NCG0/hdh/v5ArTL+ZYUQ/usbjvhriFL6+txK/DMNqP9aPEr56XQC/Kh6jPhAvCb5uCTQ/KzXLPoxAZz9hL1q/REnmPSGh6r3DdX4/Zi/AvowqCz/rmwO/eRp8v70YZT8e2jo/fkcLvxJJ9b6+QpS+7PhVPtWGYb+xG9m+vMNuv2LbWL+oooQ9pwjTvs5ATr8fIwU/PSQAP1/Naz6rhVo9hhHfPg9wWT+wpiq/+tVpvwnDNr2dDBE/WfkaPynBdj/fuSy/aaONvgsS6r7uM24/t850P/Zpir0y+V+/4eY7P3mGXL6ptWi/JjE3P2hu5j6RnQ8+CttmvjjVk77UQq09RiN+vw32OT34+HU+9WMav304Uz3xPUA+DVaKPWsZBj+OP22//z+FPmwzcj++F+G+NjAzP3EeCT8zQH2/eho9vx7Le78AIP4+CStfP0gQHr/hRQO/ntd4PSjwF7848oc+pSZtPipBWL45GDW+aSPLvqfJQL59lcE+bFSXPjg4mD5nUjc+0lpxPs068r7QTuK+ylsbPdzjcD7X50g/iFOZvqhaTb+Cphu/NdQRvwMS6b5uYoG+3EMkv8R8sD6F9OK9Od06PyB7Fr5BdgC/u1nYPo5Err752TQ/WmIdP66iIr+c33i/uFRuv2yzTb9Gx4y+6nM/PyAtIr+AYwy/q5GgvowuZj8KuD0/Jc9Jvvd66z4HnRg/qkHDPiWM5D6tLn+/SZ87v5HSLL1S0ni/Ecg/PyqyXb/ivPO+2vZdvwdQ+T6+OkE/X8lfvvOlir3TlCA/OHPSvUafET9FMSQ/k25Ivkh+aD7yWNM9RpFPPyRLMT+PR1E/Ok6iPa54Tr/NEXC/1hA1P/kdLL/uA/G+C0Y8Pgg6LD8rxds+4P8fvwDiKL4j+iS/5PwzP5+OMT8eNac92k10vztAtj62KBi/6Up6P0B9Lr61wP6+U0kCvzRoO7/RuCQ/zYgUP5Qk+7yZSWI/0NQHvwFPRD+44a2+iyrJPsemIb/Kji4/yST5Prrcdj8eYie/EPl2vwgNdL+OwfQ++n9LPi2SFz8Uvpc9qhcZvw8ZDb1UWj+/Cx3rPWXwdL8RkMC+yPN2PzWQZjyibSM+nnJpPxDAWD7lpx2/RWMiP1bvO787dE0+fZ0jPQRdvr6LcG6+CAKGvSO5Z74vR4k+yeQuPlOZZT95pHm/w2Zgv6WJPD8s0QE/A8v+vtp6oT5NDD8/pypiP5xXrj0TYtu+M+N0v1avPL8NOFE/UXPCvv0kYr9hFwg+y6RFPzuTqT0qcXe/WGF4vgD3YL+fRrY+ByxlP8KgRb3wM0S+qY5mv50wOr+NtWM/C1Ywv0kdmD4snUU/gWUwPyVP5z5JWnQ/9Gt2v186C79i3Z89ktyFvuYzQD/cVgi/Z7MNvmU7Ez473cS+pLjdvXLItb0ykAE+n4VhP469eb+i5PY+pGxwv8C2Yr8Z1ti+itkdvo801D64toI+ZTidPq9rXz/Xxva9UI/kvgtYqT527WI/iONJPU7OST8gfdq+0uwrP37cC79wYHS/Hu4hv8GtVD5K4o0+iXVovxn6WT+m1W2/C5GIvvqcwL49O1i/p1t+v24i0L43Hlm/jqJDP/RvKb98ICE+JmgqviSY/r4E3fy75gV2v6jQl75bgmy/OkJ9v3Cu+j4CF0o+wl6Mvn800b0lv3m+1aFqPwaEUz+/Ckq/QXjTvknDm76WrFM/KnRLPl53Er8C2kO/dZ6vPv1TTb/wqhG/pxQJvRP3RD84fLS+wDRKP9L/eL2eTUG/qIEEv2vwwbuIwGO9J/tBP08IQj+8fJq+kbUVPyoqGj/QY4i+bFJ0vnR+Kj/PsHe/deDOvrKHQr8h9mw+5dxnvzg4WT9iPyI9PBhyP4McaD8icR2+HW4nPsEcEL6JIO8+7wPQPovOTD++I12/nu/0Po0k1Dw78uu+9fL7vkfUFD4iwnc/S61Yv8Exfz+07R6+NJ6JPoRodD/jmu882B4dv6swXj9U2Ac+3emwPbeJcD+N9w4/PJ1Fv52lm75c0x2/fAU4P3G5tr674JE+q1mkvlm5Zb9+ygO+/bA0vn4M8D5woyQ+AxhBvgFVdz58pKK+jG6Qvnv/b78cJ9++8quWvnQ2gT3VOHu+L/cjPuJZ4L68EUu+dFRDv5LE8j0vQ0y/kuXmPIvXd791Yr2+0oAWvzcX/j2wuXO/iiAEvxoUKT75+JI+k/yqvpKNMT+FYVQ+LWcKPh8tyr76E0o/glwpP54sVr+rdeK+Tpd6v8pIdb/fbGK/sE7fvWlJfT/z3s8+wbxSv1kbMj+fBXa+AZMDPm6DIj90DFq/5/xRPz7kS78xg62+SJ8ZPn/BYD+CwjY/1j2kvrBDMr+19zG+9RcYvwu7Wj84/u6+tYmoPoUISj+9AWE/yR9ovpQnJT83arc+HNxevlbB9D1Xlca+GqkkP7MaNz9F8c09xOByPnYW3jy4+Wg/YFqkvsA1iL783PE+SMF1PrYeaT9khUK/sAiMvs3+cb9DlmS+C301v919nb6yy1e+8xxpP5tumz6FLjI/qpnZvhiK9j7iHHC/1x5uP26rfb7qI5G9VEahvlYKmD2G2Kq93TVFvpSh2j2Uhi4+jDcyv9YyRb/JHHC/Ibhhv2t5nD5dQX0+qSw9P/XYpr5KboQ+r/djvyzlQD9WMNU+gWGPPY+iQT+IrLe+eocOvp9ECT86MaO+nz84v3CXcz6Y9Es/NA5NP5gQlz7zp58+L0Q3v7HCPD5Wwfu9CSysPnsrbb8e4ja+WLBRvy1/eT+ynNo+UHB/P9Yiaz63Yqu+vBqAvopNwj55ngE/TNxeP2mIYD7veLK+En5iP4pz1D7Qmf6+j1xnvqrBLD+Xjly/iOBcvQnQrzt7eAI8WOZyv2WJOr4nOVy/uV0kPqtLDb8G+1e/CwBIv5mgAb5bmBo//VBWPWmADb+IsF6+QqwZvmzcR79HR1Q/8NdAPmy1cz5tPlC/cOnxvjiH4j6tVHK/HUiCPtUTCT665As/VdhNP6oLTD72ktY+TmYjv8wJRL/srR4/bZOnvv4jIb+JNZc+rtdHP0zbx74bi6U+jxF6P6BVS75uX/c9hj6Fvvy/n77BwFu/0LBsPjRjJb8G5nK/bjPcPqDAWT8QsIK9xYMqPsnrBD/L508/hNsIv2Asaj/C3xi/vMYBP9wzUD/Z+22/zBUGv2eUJL/rfqU9EYtWv9WHQD/AFzS+MiNKvkNMaL9nw2E9B7S7vizDEL+RqGw+bypXvF87fT4Pxwc/FE30Phl4Vz9F1kM+V4JcvzVEFj+WlQw/h3/0vvZJTz7ANoy+GSV4PSpRtD6lJmY/GBdNv1CIBT9xOUS+EjYSPzKjTD8H+dS+glPTvtDJhb4DY1Q/hW//PXIBdj81rzs/pU7wPfM1dj9nsMk9M1n+vmI1eD48E1y/jp4ZvwyvR77Oz/8+lkUov8Ryar4eRHa/HFZ/P+G4hz4j7Wy+TqEWP+KcbL97jTu/itPavud7Az5mByi/YkREv5yV8T2bVzQ/yClSP2ZvyL03BFo/vod3Pxbr2ztSn10+g+HbPs+eD7+weis/GuQfv0tpD7+WgHA+OffvvjIgHL9rCXi+bKagPnsMXb+9qmA+t2ccu26WS7930nE/w75Ov8DTPz8pIX29ECBPv4+Rm74zXpa8IlIxPsaLe77yolY/2CWtPqX0ID/SjpQ+jqK0PTYBxb6G+Hc/e65Qv9Cl7T10jXE/SZcBv6xqU7+jtpK9BJ3JvtrlLD9rh3+/G057v0cdcD71fIu+jhSIvu59PL8xp5I8fy17P8ixfb9zmVs/ZLcjP+RrmD4rVlK/7n5UP1D4Ab8Pr3Y/QIOkPSG7P70u4O6+RHO5Pm+we7/RhVk/HdeFPkWORT57uQ2/2nt+P9tUZr34j0m/ZTyzvtiHfD93Lqw+YNievpZ0fT8/rAS+0TsbP/0djj6U7KE+52L6vY7jKL7mvke+biMzv8ghWb8Q4ya/SOP+vLDhKz/eHpQ9Xtw9Ou0v2r4/6CG+9rIvP748Lb7HzV0/afN8Phmipz1qESM/4t5+v94ior5oZnS+0Bxyv8N+zD72z26/LDohP37jYD7CnYM+ufnzPjO6er+TRqG+ZUnpvmgcAr/cZzY/lpUuv2+ikD6f0tE94j1yPqREJj8ab30/zes3v0fQeD6y0ra8+y5wP+1kMD9llhg/GDWpvn0qwD5pGcA9N1twP2qs1b7xZAY/C0N1P4Fy+b7jACg/e/hkPwEdKT5N6VI/SqoEP7x0UD8tzw2+KYOPO0F2mr6S+uq9RygWPnhwC78es7y+iSSPPq5FeD41f8s+sNkBPYMrf7x7xba94slvv/8H0b4CTHC/1F1Sv/heSb/j+Wo+iwcDv2sBs712U/o+SfxdP2KKd7/hw06/rBbMPSPytL0JtGa/pUt+vYlJQT/J6Hm/LqsqP/nmbj8vVGi+O1RFvryPBD+plhq/AKZBv8TZF7/iC8u+EZ6oPZzIUD5+qmA+LzoLP8sMLT4AHk+/Ziy4vohuqL45nii/yeuTPgclPD8jA0M/UqNfvXSyBz/ux1u/dvl/PpEnuD4Al0O+5VNpP6ZMoT46ixs+rdtmP7xDWj/FHoE+dl2TPVVQmz4c500+BM9cPl5pXb4K5+i9Eu9Zv2iqej8gzSe+BLw5P+WLPT/COVC8TDFcP7ULOD8npm+//3iHPRKheT+LFRS/b0Alvyn0xL7WiHk+TJ6HPfgRVT+ooiu/olEVv2TZOD9K1F28APZEPuc2vj2MeBE/ZAgLP9gfyj6E2GI/wAwxvnKDeL94OMy+CmYDP7M4cr+oAHw/qlZsP9DW2z6SYmM/GvFHv3QD2r7UvEg+Tro9v0H9Sr7XAtO+WmggPZX2f788/Cm/wELBvU8RN72iTbO8ITAVP8/WUj8eeCS/YdyhPnH/QL10nvU+IOU/P4qQ37z1/CO/2TwMP1kLAL+rEi8/8WWQPoBqTr8Njvk9Gdt4PdnLVr9Ylmw/cWcMPy28fD/WV2o/aEFVv7SG3r61lEu/ng4zP/AacL9SrgG9uNe0Pq+NVj+IOkw/brLEPhXIob1P3RO/Qnx8Pas00b7+WwU/YZ5nPxA4IL6LVwu99+odv6CiEj8sGbM9eh8DP2fezrw4DuC9zQ90v39Isz647tG+yDpRv8yfHj8RdT4/ZMw8vxSXtr4Uu24/UyuOvUlgO7+hUye+D6sJvw0thL20uTe/hW1Dv3kkbr8eWns/V8NtvyCkrjw9ETY/XSfLPhR+LD8BfNQ9okohPVevib6fydY+rNBOv9SqO779xRO/MbYJvwakTT7OXfK+/UX5Plj0TD+KDDa+83w0P/hmyr5ufD++pB9XP2JJYj3o0Ze+sAZQP3tpZr+dBv6+925aP7JXiD5Pp4a+EvtuvnD4RD/W3w69BefGPQAmqT5Isgw/s/hsvsFfVb63EyM/Lc1pPqKrHT+lLm6+bO06P0ipj77bH2y/cXUGP5RbVL4i8GC/w3GRvoaS4D7JjHi+ejC3PgHwLb1UMU2/z8PaPkSJuD5me3s/+AFbvzAxBb9R7x2/ouOZPsiacD9e22I/+/JyP2TyLz+ornu/pTYWvwxH2L5s4wi/pzN3P/fp9b4Rtba+VG91PyIDEb+qKwu/wUBAPtLUkz7DoZO+AI0vP/swf77kU0I/2KIWPQLAXD/5qFA/QqIuPU0Fcj5xpwU/X56Uvu6xCz/EdDU/30lOP6Thdr5lv1I+Pq9nPyToTz9QElE/ikqsvLz1QL8h6nk/l9UiPxPElj5y2ky/fhMRP0zKeL0otCo/WR4jvxXXIT+CEy4/yZfvPlphQj+7ajs/lIo/P6XXWj9vE3++X3NLPtNAJr5hdxq/YA4ev/jkcr/JWxg/qEfvPkmexb5GK/s+hYP5viutYL/en1E/5PJUPg27GL97lzg/wx9Dv3fuZj9hZTE/qYpOvlQeAz4bR2O/MhtIv0UalD4Aw+I+yGrdvW1ber8r5BW/FsJAPQdGYL/G6Jk9ExRBvwnl4D25dSE+DSPQPsdZAL+xOnK/dEvQPbRVdD8XHhO+Ys4tvvweKz8oPV0/lhwgP47Sdr8QSrm+pb5JPG/9z75Jygk/5kxvvh6ZXr8VRmY/DFGWvu4Uar98gBy/dLdoPzjak75jFD0/opdQPwhD1b6LaXU9lo51vpX4iz5JGwG/juKFvqiB9z51hhO/7z0Pv6ELdT9FKei+1ybsvV8srz4Vx1G/GcNZvzCWTD8XuIW+Tqj8PmLSrLxEj/K9e4dHv6tYTz8Bqlg/oSGevux4jz3oYWC/Yix8P8Gxj75YAXg/dblNP8LCHz/bbio/KPIBvsN6cT+hcFc/5y1UPzbIbz982GU/HSUZP/HSRD9GbVI/Vgl0v6ezfz4teP4+a8t4P3FnOL+VL/C+4nOYPojdfb9/0ii/OlAqPxOw1b7wzay+l9qZvgO9Wj/RgwI/YE59P0dkTj5lvoY9xhGePsQQA79DKF0/Lv1Hvm68pL5wOS0/OIwxv2R+2L6AbWw/trQoP0g6Ij/etMq+oicRv80Gz76uiBg/kZMwP80cG75hm0C+G5QcPoKnVj8auuK+Y6xzvWaFGj8nEyq/lNzavvj4Mb7EGzs/941aP4zuyz7HkFQ+fNBwP4XRO7+QquU9OaoqP54hVj2oL1A/yPyZviqcBr82gkU+++92PwvcUD+uoJo+SAoxPwvrQT+qRP++dY+UPVvtgj3iuGE/3A8Ev6gXuT78qV0/EuwnPwegm7xGX5U+wJFqP1ELdL80sru+IsoUPm1jnz6khn6+b3hqvzY1Lr47PGs/yO0/Pv0cAL92hKc+8FubPuriOD/1pEi/Qa6ivnsMAb9/qlI/mXciv0HwRL/urUM/bqvbOVHK1L7voEo9yt5IvyX/aj9HTPW+4Xsjv9Dhuz3TEE4/RbWtPaUet77d0Jg+/Ld1PmQBWr+2aBs/2Ud5v97Sir1tOE+/9eVLPztpUL5PAng/XJFtP/qdjr6AuIw+mGEaPR/oRr90yWO/vNDavo5pKL/bUM8+FYpiv6dfuj7jICw/ZLkZv521HT9cao6+gnEev6VNVj/y3Ho/mMRKPr66dD+d/ge/mQ+VvUzwkD3gnmw/L58QP86mPz9LSE4/XFaqvRRmTj9ol2c/Lf+OPvMc7L7H6Ya+YbANvggjNz/oQzK/9rDEPpPlJr/12Ue+IUwWPtIvp74NhQG/A0nNPkr7Ir8Rda29S4fUvT5aGT8S/Mm++EIhP3Z8/T5OgqI+mKUIv2XdOL+IlH4/RDv5veDHfT95SZ6+FD3BvvvoSj9UNXw/sGNgv4Vepb5qlrw6TUctPyVjPT/5VOG+V6havwEs8TwJTPE+3qlKP8YPvL7RVT++uHrsPQ/TDj9luBC/wOcmv+CtlL2USaa+JGMCv79dXL9qC36/usy7Pj7VOT5BRNO+LUImPwEmXr/NEva+S6IYvzFUOT+I2W8/c8AYPfOOyr7fjls/E6aSPhJ+5D7FRtW+IbUNP2uFzz3BJTA/wE5BPvnRRL/xJJ0+ovplvqAhPb8HKVU/IapdP4v1tD3PVKw98lSgPLbfRb9Mjt++Gxy7PrhKLj79aX8/3Vd8P/tAdL+LlnU6AuhHv+4pjj5CGQu+q0t4P1AnHr+Qp3g/OYwbvyFmE79sXIw+i9bdPm5/oT5vlFE/HqViv388cb/HZ2w/dfE4PjYSED8hBBu/BQ6lvpkk3L7UnuS8hhunvhEeLb+/0Y2+PkIEP1TGlD34PCo/J5d4v0ZdT78GQGG/MbZNvmhVHz+HnQK/8iDRvuxoVj8vyzS+saV0P6HdTr/pXW6/gU+Rvk3aLT+CQjq/9VLjPXKIk76a7rk9OIrCvrCReD8h4k0/Z4TAvirpAT6/Y1C+oXMcPzf3Jr+k41w+sYxSv+poCb8xLzU/KUgnP4YwE79cxw0+f1SVPve2UL9IHyU+E4/ZPmmvH74eOX6+rPQ+vwVG376ejnU/VCsVPz6bAj9291k/GXFev0dvsT3AgEo+orYzv2paHL/0n+u+/AQTP4XxfD/fQ8y++4y2PsdFFj8VyEC/8NfEvkjvrb6wpEa/uecIv2uOQz83ipI+KfJWP5kObD/48yc/LmIWvwxMKb6aJXi/BUtQPhJcSr87/Lg+2cI1P0CNRj8x5mQ//wpnvgJ09L5LM9E9p2sRP6IFej+rhyS+Ca5Sv93HET7H4gM91ftUv10Trb3L4yk/wMnWvak1Tz/J5J++mzMFv1d3Y79G2Hu+lu9UPyL+ez8GXAm/ubgdPwf42z6C4Sc/bX1xP2+KTL4yvTu/kbQmP7vCND79QC6/F2OePdN9Iz/w5Va//HavPlltAL82GmQ/3+4Xv7K+5z7miDs/8pL/vtpclL7NXjK/wwtyP+P4V78BAwS/yQQJv/C1oj65vDq+pCyHPXwk/b04uN2+TWsdP/mNkD6FssC9u1jlvaKKd77d0Ge/vIv5vtCpTL+6QJe+wU59P1GPJj8asmO/xeUwvxdUHb9/Gjy/xN1YvkTFVL9KaX4/K8Ewv2MtJj8SunI/V6k4v4xXdj+7Dke/8IK7PnEOXb9Pvvu9EvKWvqYhHb9IgE8/ECkCv31M/r4uuNw9n1BRP2sLezxzxHU/Xpp0PzPm4z51SoC+eEu4PpjbGT75KMW+ZX4MvQanUT/VD9i9uydXPtHSV7/T0nQ/07tCPlAmAj4RdzS+8Y1Mv6Ar1j2Oyh09J53QvXL5pr6ts92+sHRxv5d/Tz/3pj+/9dd3P+Gzbb9qZb+8xU4lvxqfBj8MGBC/cjcDv6zspb06IK4+Q1lRv4wwRr7/XgK+l+sYv94jkT6ehx++BYVLP2oycz/ztGk+Kq4fPy+2Pj8EEOs+ReU/PxPrIL9zXrO+oR8fP3XjIz/f74c+sIACPq048L4pwwW/oc0vvyfkej9RNju+mq/cPb4Yuj2mjLE+/ZQpvx12Nb7KHSI/9KuhvuwZ9T5Z0Xo/yL4mPwVvb78a/+o+lUiZvrgZ87025Uq/diEWPxP+er6NPmI/cMQ6v4s4/j48dY4+Avt5PyDEGT/WNSu+OwIvPxNdYr9uvVG/lAywvtVBHj9Xw5K9HYJuv/aJDL53qJW9F+oDP3KXvT5uf0m/P2wyP8My1j58E+++mm5HPz/BM74ofTY/U6qVPovGYj7EiQG/zjHQPhaxKj+jd1+/V7HvPFt0fj/LnBM/tyj+vi4I+z5NdmM/3q57PklCuj00pHW/e2LsvpX2Z76hm3K+IwouPhCaMr0LAyO/Tpwzv1SRP7/UgMS+mKmiPjhmLD/HlL8+c6IJv8dBTD+Eel0/4tkrPhMHcT9BG2Y/Q8snPy5cKD9K23U/JyQ2vzw0Rz+Gbl6/ajdTP6/Uzz6Fmt+9znNFv/HL9z6Yll2/Xqtev8w7sbwKinu/TCgwP2hWJz8hFNc+ar1Wv9FoKz2a/2w/xbeHPWEhLr/st4U+ocRyP4DQNj+TCtw9AL3+PscBHL8nri+++vUIvyfA/j7xoPI+k3y/PEOkBb6vpoQ9SeoiP6ZaGD/kYTU/FqNfP//sQj56BTc+yz8rPxrSEL8+IHq/9HlvP99aYj8v3Pq9xoVPPjligb59Dcs+Y4hZvy1cVD9dcVO/9bQEP/Xo6j1CczS/9d9tvS1n4r5zqEe/ufjYvrmxEb/PijE/CQd+P7YzCT8vliY/NhmlPsim6D2leG2/5ikxvw0pID+Vrkk/xPp4P7ef8r67qe++yUJbvzXOpL7H8Oc+GW1JPel9fz6I5F2/OsApP3ZrGr+k+gg/frwYv8jIWz5b+fU+8BkVPmgyC75c6OG+NXpqPulVAb/rrfa+s231PtABc7/HWHG/w77AvoE9eL/4+gC//lXJvV98Vb7PKQe/UpGgvX5b2L0A/DU/9gNbP79iDL5ugFE/u6mrvtJMOz+vyxG+7BUwvkj+Lr+/JkE+VaQDPhaPiz5nFoq9ZtHEPKtJXD8ef5W9TSAdv4Vhuz45yRw/1vn4vqgcW7/ZGQU/g/9Jv4V1eL8kM4k+G9x7P6Khuj4x2lO/vYZKP9VR874+0/o+NtzZPrXkwT3iQ/w+0X4GP9qEYj//DWo+F0B0P0Xpb7+cODI/Kpl3vzM4Ej+O+RE/fI76PtPB774y0yS/aUhOPVAxQ74Z1Qq/iXaOvolbhb5+rMG9La0qv19KZz8eoEM/G30Qv3tqQb4Hf8m9xSpovvNfFD+dZvY+yPYbvmoTd7/aK5C+A6bOPq6GST+J6dy+8LpAv+0GFD8x75K+RlzQvhnunb5IzzU/niwEv5BHcD/dn/8+qikQP3HZjj6j9eA+cEzBPR0nxb1sPso+lBvIvueCK75MdD0+8trAvmHyxL79/H2+CL0iv8P5QT7XKRM/YNZKvywVRb/KeOu+209TP5bHYT+C/BU/QtWBvraphD2Ktfs9QxMCP1f3iL16nno+JEtrvnCBxD5YtOm+iVLdveOo0L6HES8/AJ/tPR+jHD+1wFu+gITQvhu0GD+XjkA/MOtavx8zVb5z5bG+qEpLP6/Tm73hGxe/6XIlPy0iYr9N/zk/hINRP8NsaD7jQ1a/MHFMv7Id4D4n3B4/037kPrAbU7+/plm/YX7bvjCB2b477VE/+DBbv0gALT+HJpC+VPTavjnaVD77Tfs+F04cv6rURT+HCAK/BqgTv3nXMz96Z7W+KndvPwQgHr93Wmi+iERaP+Y5Ub4HoVc9Gbw9Py3NLz8BqUG/pbpTP0VKUj8AK0G+341uvwU32L4oFJS8N3NBv7Vabz+dvB2/553dPuJjJD8w2Iw+TE4JP+XGQD96jzw/QBhcP3hTfT+NgFY/wk9pPwxpyL7QhCM/RCUqPzNQa788inY/lNjcvszJCT+PV4k+5Zz3PSsnED782X2/bA+jvXtlZb+7nUU/4dV4v+l6bz9/k6e+ECUpO+C21D6NwWq/GWH0PniJHL/7Mi6/x8csOyvIkD6fGqS+28H2vk0bWr8ecTy/xTwBP0irUb99SvI+crguv8eifb56b84+xX8iP7Yjcj9cT1o/ctlYv6UnIz+pUca+kpT6vehFGb8WH/m+wZ9WvabrfD+xWTo/2bFnP0nZGb8z/gY/hM5uv0XwQb+ZcNU+srhDP6VMU77w7xG//3IyP1dnTj8jVkq/WGlXP//td799hJS+iYR4vtlOVr8dOwE/MpIWv0/ZXr+mlwi/31iZPkn2l77H47e9Bzn2PhNAY79Wpb4+kHUfv+j5Rj6cpHa/XiL8Pkbiibx1GL4+w8HkPNY+K75GTnC/XXobP1oRIT/3aGe+Q9tTv+PEZ7/hs3C8qMgdP9U1qz6d4s4+3WJgvqthWr/2ZnS96Pedvqs9Qb/FVgE/tGDOPaqnqr2Udy48eLgTPlPwcr8jyrU++9JAPzQuNj9PuWS/Kud1P4r8hL6X42C/N5yIPsclMb7D7AW/mEDKvdQehz4U3s++1/pKP0tiET/vECs+PWNwP+huLL+s9pm+obVtvRrtHTzboD4/MLJsv1miDj/6ViE/PSefvkQvPD7PHS0/ljN6P2gmHT9qqxS/fw40Pw3XrT3RLOQ+TaF9vw5pWL97ftG+ZBIlP6DbPT8vXiQ++1MBPlQFEL+wies9IzJFv1Drbj9skGW/5dh4PlUzOb+/Vhm/Iq/Wvu0E+b3XvDc/6mKvPlUZMT/IVs29o+7gvKPfhjv3PG+/5zdrP2uXeT0U3Q++/hhyvzDbcr/RFYM+XXUUP/hocr6YWRI/Zi5bv4UOer/5MN4+kCZtPrm9Eb/V6bu+Dt10P7Lihr3lohk/LToVPyOdVT5I2ak8g9WLPYMKJ78OGVI/BMLLPUKYCz8U/iK/1pcSv4J6jr260OK+qmYmP0QZTD68v8w+4FAXv41/ub4kFVm+74gvPp4oYb+RUFw/VgD2voRnXL81DC4/r1x7v+ofjb48egC/SjSWPqy7GT+4lzK/qFLavS47cb9RtTO/ZuvrPiTB2T66K1A/CphOvyRSdL9JMHk+9xUPvz/Erj0R75w9/dAQvnOnYz6Iu7I++QcFvwJHIr8IO1s/E1BBPzuP8z6OpJu+DFbVPuuHL74qBgg/UoigPWgliT3NOH0/9jFvv2ZLer/oPFg91SB7vsDgjT6ShGC+bWu6PpSvDL9xwzc/kcpWv5ZkPr/0NAG/7aKRvnigAb9xR2a/rsjHPvUUx761e+w9Slc/Pw0RSj+2SvG+OxRiv06obb/YZcG+cWf0vj2ZCL+5F34/MV09P+iODj9akSY/8glIPlApbr/qt7k+NugpPQBiu77AO/C+uCUlPoVZ1L7b8ho+rgsGP7bMFT/N4RC/rwcwPhqHND8pg1k/6w2aPR1oqz6s88s+9NKivpV5fr8ojfE9vcjhPmRbJL6RJls/L8Rdv/ZDIT9/cQe/q8LdvqB+T7+vdQQ+2KkEP/QVLb3G0rm+hKxpP2BxHj+aCcq9vb0gvQvCCD9/9HC+1jtCP5CQGr3l0VO/lck3v+E40D5jmyg/oSMTP7rcCb9oxsK+jIsWvwNIyT1jonE/z9f7vkdmNL8t+aE+3Y4Nv8kpjb2jWcI+/HhBP85SED/MJQK8R0Uuv6Tk4r5s5Ba/C9T+PfzLWj9GzFY/923bvVEcQ77wlCG/C2JCP/ImAL8cnqk+F6lNP0wcOb0x4087sSlwv7wOUz+yUme/lURAv1Q0zTxc4/8+UXUqv4ionj7tv7G+/czVvtlCQz88jye+SYj5PdiTIT+wC7K+qP0Dv8TDXz79PHQ+e/lqvsVXDT4E0xo/qcbrPHa3DL/tlzG/BPIrv0n5BL6xrxi+MNDsPSqKJ79kuT4/K7T0PlHKNr6MdHy/bNFyv1IHV76dK4I9O3MAP2f0+LycTia/Jyc8PyAAQL/zF1S/ayPevsAGTr4m8nc/k5KoveS2Zb40lWu/T48rv6kWCb5j4m0/m10UP2GCRj+SJxu/5I4SP6hHxz2QaBM/WcsWP/dR3r7ky2g97Kl/PyrZzb6uZ08/8OrXPYB6Jz8XqGk/SRTpPgrBHj9qpJu97AKivgQSBr8bvwC/HcAYv9z6Jr9kMkk/pnfnvm2TQ7810hw/R+c9v2U9HD4AjOS+z2ZZP3GIkD4p914/7FkWv1DFLD+AlX+/gl8Bv8lsIL4bywc/YMPlvgfECj9t5nU/ocJNv2vMfj9MHnE/YKElPpFTSz98iAi/pqXHvqmt9z6HEEg+77y5PhrBIj8I2Lm+0uiwPgdow75FCro987brvuhMhjxjhRY/edUVvD9Tzj1VyQE+ZoTQvuhyYz+H/qS+n/+OPaDSkD3VdJs9KnJsv/uoMb970XI+/QotP8/DID/73lK/egMkv7IrMz9qRwU/zwixvHVi5T7281I/hEpLP6pP/T1KnLs+GyWqvqMVKL/5Xq2+GEJwPxnoKj/qUXA/AI3ovsIxUD80CAO/Hwevvg3wrL14Olw/LkDWvhb5b7/9i9u9Bfe0PjDSXL/kXjw+i27xPVEhVD9qSm2/Sa5OP87MFr9NWm4/88USP0kglz4JZIA+l+TwPl8nE73psj4/cuV0P2d/8z0TYzW8YmRNP1cD+74Auha/ZeR2v2ryQb+KtEW+MEt4P5/4RD/zhHg/bkRIv9X0Eb5pDnG/7gMDPmhlFL8ejQw/wYYpvxlk0L45ZMK9pFD9ve59Oj3i5my/335EP/Lq/jw78mA8JqJ0vzMeFr6EjxW+faLcPl6eZL+mKuY+2qXzvnYkfz87/yw/IIN8P8AqHj+p7Ow+UFViP+iQfL9rRHe+ZZd9vqsQnL66ZHm+wGxwP+WfZD+CAGk/rqxov+ff2r799zC/CblBPi6cXj9+mWu/fYhgv0wYfj+jSXI/8kMbP2QYCr9yCEY/CUnQPnnBwz7zBnC/epTJPXC+d7/M9de+mBMyv127qT6wism+HkeQPVm+ST6qzj6/ju1qP8lWlb4/LQY+ir08vdJ+AD+GwSU+NrBOP+BrDj+Fm2q/5t+iPftJ3T6azlw/LTJ1Oinlj74VzA2/ygafPsnqh75gAvk+wkqovmJSTz0G4R6/mUN/P9wkLD4JqmM/AHX3vSAWeT9rJD0/cyF1v0319r4a0wI+EoBjPp1JOz9faDa9/8iZvqXhYL/ukEk/1OV7v86zwj5hUii/NmN/vkxnBz/pqr2+D0o8P7MNrzsTc4C+SYEdPhwwVj9Bc5m9TszZvnF8zD50WFg+GjJbvWIrkD3vjNO+/oO5vpzBcL9Aiz6/xMIhP+54Lj+ysVi/lwiEPl/sgb6nXgW8Un0+P/S/1z43+18/hiotv3bmvT4/YR6/UmPVPvvtaL/wBf4+GSR2Ps8e8T1TjDI+gyGUvm+aZj9FyHW/nBNrP2R0CL9Bw9S+ArQoPsWmLj5R/OA+82UdP0sUVj+2+Xy/xWEQP3Qybj5VL6c+FAWpPT8bEz+Dcn8/ofJyPkKBYr+DLRS+fJUAv49zRz8ZC58+TEAYvpy00r1AV1S+hu/EPRdDP79tLx8+nW/3Ps95Zz9WoKC8Gf7nvhlmrD2f+1W+6X8wvXjYQL+/yyE/DjZ+v3RaET8IVAW/DT1YP2JfQT8DDeQ9rJOgPCYisDuKjnS/qSBvP1Y4rT1VHEO/ySwpvzHoIL/IX9K+rMWcvqWA171+TGS/S2l4PxJcZL87JxQ/cxxJv0i1ZT9Z/zA/8EhIv7sW0z5CRUW/P8GdPeQSW78vlGk/9qIPvN0bcz8g6iE/n68NPxLwX7+kj8W+JAsYvsncAz+sHUg/x/LrPtcXiL6RMKW+JAUdP3o2UT9DPu6+2lBdP1gUgj72d1K/Yrlpv7VyfT8k4X8/R7spP84SiL7lAjO/LJH5vcXD475RsX6+hyVlP0JqFj/bBPK9oeKlvTCCYT9D1fA+vzf8PrxaDr210QS/zsWxPhyJOT06w2S/A/pjv21zRb9yc2g/pjo0v44OBb1fmlm/lkoKPx45XD+/pvc9ye3bPMSsn77GPam+D2REP4jtUb9EaGM/18s5P5Tdrz0D41i/hlN5vwLopT5Pl08/exbgPjbSmb5d2Eu+QwCtvqiCPr+YNVa/SgIiP9oOdj/loh6/DaMAP6i+tj1igEy/xA93vy8K/b6cOmI/Wpsyvu6MDj8VfBk/Jd33vu2enL6e9Tm/A358vypPxr5y9f2+Ms5rvxozOL+2x9K+G6s6P0iXVr9tvGw/TR87vgDtUD+a0x6/sABYP+FeZj96aYQ94UBCv9dJM7+K9J4+6WpxPnriYz+zWFm/FJk2v/0rsz5yGx4/PZDLPlNOOT+QKYK+evlqv/Dfob7e9S+/l4uNPSF/fj914TI/97N0vq1s7r6cBM084ox3P9mQpT6YsOg9qPqXvt6gzr4Vmgq//0O7Pi9SAL8ALMK+PbRAv4BPHL8mVdI+XKtkvrtPnz5foWA/n2J9v+uzdT/1UiG/dhluPg2+dT+d5CY/uaiGPkJLAj/smpu+z/XfPrViWb4S/xI/MmFRP0XKfr8t33E+w7kOPk8NSj4Yu3U/CExVP7CK2b4pcPC+C1sSPh7Woz4guxG/V0Ymv5CedL+RuCW/pJl4vzx6Nj8W1d++FlrUvbrCo77mAn0/q/pYP7GvXL0n1C0/7NYYPiZd07732yy+lyQxv4lGkj7/QXG/6citvgraVb9z++k+CEc1P49KCb+sVI0+WNWdPa7Gpb4kpA4/BSy6PX0KCL/HCsS+naIgPlCtX798u70+zch7v6C8N79XqYA+407gvT9a5D1/oa+9/r1vP26Fob6ipa4++5zwPrrd+r5J50+/SRdQPj3anbwWjS2+YTYgvz6FfD/fPSM/5ufRvmm36r7TMsu+yzrWvgk5Iz80YF6/LRIzP5D0CT0KOly9IFFGvzekCb/6uDY/X/2kPV3ojj4UnV2/rbsuvbh4UD+NTxM/7hMOv0Dq5D7afaU+F3l1Pxf9nb2OuLk+r9JIv/7nWzwYVDm/hHT6vDdB/j43EMW91H2BPT3ocb/H1Zk9HpVRPyQ7Eb0xcuW+bLMwP4v2Vb8UP2g/ce1Xv2PcbD/91HU/bL6NPvWTaD/WP2W/waVZP9RXCD8GYxw/efuNPhNQfL4c9Ge/hI9KPl7zUb8Xly8+ii2EPoG6Zb9NIVw/YRE9vmQF2j7rb0O9vrSQPnd5Pj3ct06+LLESP29t1j1Um+q+ShrqPsDP2T6Wl30/3MFgvlz7yb6bPq8+s2U0P+MOGT6Bl62+VeZlP8uAdD93/aq+ebYVPiRePb9gx6O+2mg0PhYdSD8FbmQ+popPvp504r6hOwA/g3BHv0sxHD/CG8I+RUNWPeHOy70HtmG/24YgPvb0fT9qIzC/WhCNvklYAr8WIhY/sKmvvi6TTb7TNxk+gPlbv3F6Wb/J5VA9sTw4vzJYSz7LomW/G2/LPtaxdD+J+io/0UYjvzMEfL+B1UA/orvyPdaleT8Kocs+P4kxvrKOIj7YMxO+9Ka3Pllyu7zigk4/ccwkPUIfq75xAAy/f31cv33TuD4XIOO+7/sxP9P0az+X/+A9VE5WPxffQjtraVQ9lwklv/YJzT08tMS87mXJPlrgqj5acGs/nvmjvoEI4rzk/3E/P1MXvq353L7lsWc/VUvuPXxUqLw+Q3o/Hw/aPuDDt77uo0K/OWkPP8m8kj6/d8W9DBhWvyCbdT6mxGW/0WZDPqSYh75SUB0/SrKwvZBGdj8f5UK/8CQov/ks9z5go8u+jtNNvihYkj2k/ji/6Vj9vqShCj8HW0M+TCwKP6NP5T0j18w+QqFpv32QNz8hGQI/wYRiv/ixd7/HJ7c+/Z5avldNSz8dem8/DyVVP/1jPD/Pag0/xzQ5v/5F+L2CJGU/ATVnv0LBQ7/rXNw+Ea1dv6HEQz9dGbA+brcKP7QVdD8vgVk+yvtNP5kbWT9V9oM9fJgnv7cae79fwOU+yrZhv9ERT76IfsA+OizdvrxaSj+BtYc+Zg8bP2CN2T093yO/acoHPyvXNT8YXZU+8qnIvukzOr9ke1y/sdyRvuDcDj8Ucdq+oW5Bvu7BFb87XyW/vhcxv2S2br+Rm6q+TQdbP6qmbT/FeJk9GHdLv7FwkrvwHVK/KEPlvvL6hL5Zbhe/zsgGv3IbUL/HtNM+08lDvy2Fe78Jza6+2j5APh7D6D5h/0q/i80HvsZ+GL6U2Sg/79w3v3GcGj8tFOw+R0CbvapFAb9h4EY/2BQvv9b6ML/yMky/HbtRv8j7ET9+jD0/IfIZv9Yze76P5g0/E3dcP8ouYj059lq+MI7RvnX+c7460oU9tOt/v8ibhD7up2U9guPmvlmRYT8t3TI/LM3YPvTtCL9356u8Z3ksPy6Nv71Tosc+eFRsv/wAZr6HMLs+E2IzP7gz677R4Xa/gEBzP6K/EL4jPhY/EHh3P9yRSr4/fSO/VAYGv3hnT781Mxy/4gmPvh8vRr/kJgc+MeFRP7k8YL9CPCe/2P4pvkUkSjzq5wi+s0dcvngGfr/5YXI/lMuIvpsSLT/l8Qc/RqXjPom/Zb/FS1q/JDSUvozJBL/T5hc/KIeovn/V1L6hW0I/PRfPPrOVWL/XfCk/6shZv7NZDTuLdgA/X2ztPie2dr9tzbU+GbrZvg/uLb9Nxhy/JZ52P3iQXD/ufiE/vbWVvhaVcj9d+vU+pP+WvnyBRb/SFg4/bogov282ID/PRvm9xUFjv8kcFr4OWHY/2gNYv/lSuj0QfoC+qa4Svzjqvj7cWzq/zJd3PwBi3r4ssRw/AtF3Pi0VD74jFx2/q8ggP1FUcr6bpVe/TDsaP8fO4D2zeUc97cwNPmfgib7q7Qa9LNEqP+mKSD5fxAo/pAa5PscXpz4lXts+ZIgOv2GrUb8WUQe+e7F0P8kRBL4j2BU/mpicPlp3pLxeO2S+KGlHPhLUSj75n7q+JtInvi8Saj92QAC86WFtP6caFL6IA1K+g3zBPtjhcT87OdK+aHusPppdCb+wrYq8GRotP7HtQT9aUKu+FPZTP31oPD/q15e+six4vvW4xL58gEa+takbvv2AIr8xVUw+fbdxPw8JQj/7Wk6/CUT6PixzC7/zVyO/HaMhP0oJcD/OvYu9LeghP3BXHr89qgG/pnOGPZbuxr400oc+BzMrv/jaMj+Y2xY+WptdP+Z2bT+mgGg/iQnPvYd0ZD9yVCo/wwQ5P7RU8r7RAWo/h1EQv3fSa78qvdm+8+ZxvzCblb10wW6/okvbvi5VHz+XfXE/MKcBPzQaM77azyC/EFBgPz5j+z1u82e+XOAAv40ipLxtUty+N4wlP/Mgdj/Y3b+9QlcVv4dOTL3YK2m/1f51PWd0Ar9ZZT8/YNRcP/GZHT/ZpBC/JIsyP/jEgz5867S+HNkQv7JkZj/on00/4fspv7czGD4Kmwo/dadpP5dADD3Mzmw90U6HvhSZUz+hssm+zh6ZPcqC3jxF+z6/8O08P/Ahcb9++0g+n8GaPQtGZz9TeIQ+Rp0svxXk4zyQd18/vSRyv/svnj08Ktm95ssOPQL6E76GkUc/AosyP/hIXT9XZd++ZXvIPrnHLz7PSEw/nfNsv8DYAL/lEd29VpR8v/RKMT7pBk4/o2gPv/9A7b2QybM+UqY3vks4XL92S3o/nDgSPiWlUT+5ayA/95IWPz5jvL7B1RC/WLLdvd6DHz/ngQg//4slP/gWpT5SUVm/CbJyPu59Vz49a60+nTQdv9AsA7/yHci+iOwfv8WsFz+YOqe+93uwuuNMkD59oxG/Bm1uP6aHxr6/52a/CR9oP6NYNT+rfOe+GJNDP3guAT8w9me/nncBP/vhhb7P2CC+/vkEP14qDT23HVG/kJvGvg/tTj+V7Wu/zjmzPg==",
          "dtype": "f4"
         },
         "y": {
          "bdata": "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",
          "dtype": "f4"
         },
         "z": {
          "bdata": "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",
          "dtype": "f4"
         }
        }
       ],
       "layout": {
        "height": 768,
        "legend": {
         "tracegroupgap": 0
        },
        "margin": {
         "t": 60
        },
        "scene": {
         "aspectmode": "cube",
         "domain": {
          "x": [
           0,
           1
          ],
          "y": [
           0,
           1
          ]
         },
         "xaxis": {
          "title": {
           "text": "x"
          }
         },
         "yaxis": {
          "title": {
           "text": "y"
          }
         },
         "zaxis": {
          "title": {
           "text": "z"
          }
         }
        },
        "template": {
         "data": {
          "bar": [
           {
            "error_x": {
             "color": "#2a3f5f"
            },
            "error_y": {
             "color": "#2a3f5f"
            },
            "marker": {
             "line": {
              "color": "#E5ECF6",
              "width": 0.5
             },
             "pattern": {
              "fillmode": "overlay",
              "size": 10,
              "solidity": 0.2
             }
            },
            "type": "bar"
           }
          ],
          "barpolar": [
           {
            "marker": {
             "line": {
              "color": "#E5ECF6",
              "width": 0.5
             },
             "pattern": {
              "fillmode": "overlay",
              "size": 10,
              "solidity": 0.2
             }
            },
            "type": "barpolar"
           }
          ],
          "carpet": [
           {
            "aaxis": {
             "endlinecolor": "#2a3f5f",
             "gridcolor": "white",
             "linecolor": "white",
             "minorgridcolor": "white",
             "startlinecolor": "#2a3f5f"
            },
            "baxis": {
             "endlinecolor": "#2a3f5f",
             "gridcolor": "white",
             "linecolor": "white",
             "minorgridcolor": "white",
             "startlinecolor": "#2a3f5f"
            },
            "type": "carpet"
           }
          ],
          "choropleth": [
           {
            "colorbar": {
             "outlinewidth": 0,
             "ticks": ""
            },
            "type": "choropleth"
           }
          ],
          "contour": [
           {
            "colorbar": {
             "outlinewidth": 0,
             "ticks": ""
            },
            "colorscale": [
             [
              0,
              "#0d0887"
             ],
             [
              0.1111111111111111,
              "#46039f"
             ],
             [
              0.2222222222222222,
              "#7201a8"
             ],
             [
              0.3333333333333333,
              "#9c179e"
             ],
             [
              0.4444444444444444,
              "#bd3786"
             ],
             [
              0.5555555555555556,
              "#d8576b"
             ],
             [
              0.6666666666666666,
              "#ed7953"
             ],
             [
              0.7777777777777778,
              "#fb9f3a"
             ],
             [
              0.8888888888888888,
              "#fdca26"
             ],
             [
              1,
              "#f0f921"
             ]
            ],
            "type": "contour"
           }
          ],
          "contourcarpet": [
           {
            "colorbar": {
             "outlinewidth": 0,
             "ticks": ""
            },
            "type": "contourcarpet"
           }
          ],
          "heatmap": [
           {
            "colorbar": {
             "outlinewidth": 0,
             "ticks": ""
            },
            "colorscale": [
             [
              0,
              "#0d0887"
             ],
             [
              0.1111111111111111,
              "#46039f"
             ],
             [
              0.2222222222222222,
              "#7201a8"
             ],
             [
              0.3333333333333333,
              "#9c179e"
             ],
             [
              0.4444444444444444,
              "#bd3786"
             ],
             [
              0.5555555555555556,
              "#d8576b"
             ],
             [
              0.6666666666666666,
              "#ed7953"
             ],
             [
              0.7777777777777778,
              "#fb9f3a"
             ],
             [
              0.8888888888888888,
              "#fdca26"
             ],
             [
              1,
              "#f0f921"
             ]
            ],
            "type": "heatmap"
           }
          ],
          "histogram": [
           {
            "marker": {
             "pattern": {
              "fillmode": "overlay",
              "size": 10,
              "solidity": 0.2
             }
            },
            "type": "histogram"
           }
          ],
          "histogram2d": [
           {
            "colorbar": {
             "outlinewidth": 0,
             "ticks": ""
            },
            "colorscale": [
             [
              0,
              "#0d0887"
             ],
             [
              0.1111111111111111,
              "#46039f"
             ],
             [
              0.2222222222222222,
              "#7201a8"
             ],
             [
              0.3333333333333333,
              "#9c179e"
             ],
             [
              0.4444444444444444,
              "#bd3786"
             ],
             [
              0.5555555555555556,
              "#d8576b"
             ],
             [
              0.6666666666666666,
              "#ed7953"
             ],
             [
              0.7777777777777778,
              "#fb9f3a"
             ],
             [
              0.8888888888888888,
              "#fdca26"
             ],
             [
              1,
              "#f0f921"
             ]
            ],
            "type": "histogram2d"
           }
          ],
          "histogram2dcontour": [
           {
            "colorbar": {
             "outlinewidth": 0,
             "ticks": ""
            },
            "colorscale": [
             [
              0,
              "#0d0887"
             ],
             [
              0.1111111111111111,
              "#46039f"
             ],
             [
              0.2222222222222222,
              "#7201a8"
             ],
             [
              0.3333333333333333,
              "#9c179e"
             ],
             [
              0.4444444444444444,
              "#bd3786"
             ],
             [
              0.5555555555555556,
              "#d8576b"
             ],
             [
              0.6666666666666666,
              "#ed7953"
             ],
             [
              0.7777777777777778,
              "#fb9f3a"
             ],
             [
              0.8888888888888888,
              "#fdca26"
             ],
             [
              1,
              "#f0f921"
             ]
            ],
            "type": "histogram2dcontour"
           }
          ],
          "mesh3d": [
           {
            "colorbar": {
             "outlinewidth": 0,
             "ticks": ""
            },
            "type": "mesh3d"
           }
          ],
          "parcoords": [
           {
            "line": {
             "colorbar": {
              "outlinewidth": 0,
              "ticks": ""
             }
            },
            "type": "parcoords"
           }
          ],
          "pie": [
           {
            "automargin": true,
            "type": "pie"
           }
          ],
          "scatter": [
           {
            "fillpattern": {
             "fillmode": "overlay",
             "size": 10,
             "solidity": 0.2
            },
            "type": "scatter"
           }
          ],
          "scatter3d": [
           {
            "line": {
             "colorbar": {
              "outlinewidth": 0,
              "ticks": ""
             }
            },
            "marker": {
             "colorbar": {
              "outlinewidth": 0,
              "ticks": ""
             }
            },
            "type": "scatter3d"
           }
          ],
          "scattercarpet": [
           {
            "marker": {
             "colorbar": {
              "outlinewidth": 0,
              "ticks": ""
             }
            },
            "type": "scattercarpet"
           }
          ],
          "scattergeo": [
           {
            "marker": {
             "colorbar": {
              "outlinewidth": 0,
              "ticks": ""
             }
            },
            "type": "scattergeo"
           }
          ],
          "scattergl": [
           {
            "marker": {
             "colorbar": {
              "outlinewidth": 0,
              "ticks": ""
             }
            },
            "type": "scattergl"
           }
          ],
          "scattermap": [
           {
            "marker": {
             "colorbar": {
              "outlinewidth": 0,
              "ticks": ""
             }
            },
            "type": "scattermap"
           }
          ],
          "scattermapbox": [
           {
            "marker": {
             "colorbar": {
              "outlinewidth": 0,
              "ticks": ""
             }
            },
            "type": "scattermapbox"
           }
          ],
          "scatterpolar": [
           {
            "marker": {
             "colorbar": {
              "outlinewidth": 0,
              "ticks": ""
             }
            },
            "type": "scatterpolar"
           }
          ],
          "scatterpolargl": [
           {
            "marker": {
             "colorbar": {
              "outlinewidth": 0,
              "ticks": ""
             }
            },
            "type": "scatterpolargl"
           }
          ],
          "scatterternary": [
           {
            "marker": {
             "colorbar": {
              "outlinewidth": 0,
              "ticks": ""
             }
            },
            "type": "scatterternary"
           }
          ],
          "surface": [
           {
            "colorbar": {
             "outlinewidth": 0,
             "ticks": ""
            },
            "colorscale": [
             [
              0,
              "#0d0887"
             ],
             [
              0.1111111111111111,
              "#46039f"
             ],
             [
              0.2222222222222222,
              "#7201a8"
             ],
             [
              0.3333333333333333,
              "#9c179e"
             ],
             [
              0.4444444444444444,
              "#bd3786"
             ],
             [
              0.5555555555555556,
              "#d8576b"
             ],
             [
              0.6666666666666666,
              "#ed7953"
             ],
             [
              0.7777777777777778,
              "#fb9f3a"
             ],
             [
              0.8888888888888888,
              "#fdca26"
             ],
             [
              1,
              "#f0f921"
             ]
            ],
            "type": "surface"
           }
          ],
          "table": [
           {
            "cells": {
             "fill": {
              "color": "#EBF0F8"
             },
             "line": {
              "color": "white"
             }
            },
            "header": {
             "fill": {
              "color": "#C8D4E3"
             },
             "line": {
              "color": "white"
             }
            },
            "type": "table"
           }
          ]
         },
         "layout": {
          "annotationdefaults": {
           "arrowcolor": "#2a3f5f",
           "arrowhead": 0,
           "arrowwidth": 1
          },
          "autotypenumbers": "strict",
          "coloraxis": {
           "colorbar": {
            "outlinewidth": 0,
            "ticks": ""
           }
          },
          "colorscale": {
           "diverging": [
            [
             0,
             "#8e0152"
            ],
            [
             0.1,
             "#c51b7d"
            ],
            [
             0.2,
             "#de77ae"
            ],
            [
             0.3,
             "#f1b6da"
            ],
            [
             0.4,
             "#fde0ef"
            ],
            [
             0.5,
             "#f7f7f7"
            ],
            [
             0.6,
             "#e6f5d0"
            ],
            [
             0.7,
             "#b8e186"
            ],
            [
             0.8,
             "#7fbc41"
            ],
            [
             0.9,
             "#4d9221"
            ],
            [
             1,
             "#276419"
            ]
           ],
           "sequential": [
            [
             0,
             "#0d0887"
            ],
            [
             0.1111111111111111,
             "#46039f"
            ],
            [
             0.2222222222222222,
             "#7201a8"
            ],
            [
             0.3333333333333333,
             "#9c179e"
            ],
            [
             0.4444444444444444,
             "#bd3786"
            ],
            [
             0.5555555555555556,
             "#d8576b"
            ],
            [
             0.6666666666666666,
             "#ed7953"
            ],
            [
             0.7777777777777778,
             "#fb9f3a"
            ],
            [
             0.8888888888888888,
             "#fdca26"
            ],
            [
             1,
             "#f0f921"
            ]
           ],
           "sequentialminus": [
            [
             0,
             "#0d0887"
            ],
            [
             0.1111111111111111,
             "#46039f"
            ],
            [
             0.2222222222222222,
             "#7201a8"
            ],
            [
             0.3333333333333333,
             "#9c179e"
            ],
            [
             0.4444444444444444,
             "#bd3786"
            ],
            [
             0.5555555555555556,
             "#d8576b"
            ],
            [
             0.6666666666666666,
             "#ed7953"
            ],
            [
             0.7777777777777778,
             "#fb9f3a"
            ],
            [
             0.8888888888888888,
             "#fdca26"
            ],
            [
             1,
             "#f0f921"
            ]
           ]
          },
          "colorway": [
           "#636efa",
           "#EF553B",
           "#00cc96",
           "#ab63fa",
           "#FFA15A",
           "#19d3f3",
           "#FF6692",
           "#B6E880",
           "#FF97FF",
           "#FECB52"
          ],
          "font": {
           "color": "#2a3f5f"
          },
          "geo": {
           "bgcolor": "white",
           "lakecolor": "white",
           "landcolor": "#E5ECF6",
           "showlakes": true,
           "showland": true,
           "subunitcolor": "white"
          },
          "hoverlabel": {
           "align": "left"
          },
          "hovermode": "closest",
          "mapbox": {
           "style": "light"
          },
          "paper_bgcolor": "white",
          "plot_bgcolor": "#E5ECF6",
          "polar": {
           "angularaxis": {
            "gridcolor": "white",
            "linecolor": "white",
            "ticks": ""
           },
           "bgcolor": "#E5ECF6",
           "radialaxis": {
            "gridcolor": "white",
            "linecolor": "white",
            "ticks": ""
           }
          },
          "scene": {
           "xaxis": {
            "backgroundcolor": "#E5ECF6",
            "gridcolor": "white",
            "gridwidth": 2,
            "linecolor": "white",
            "showbackground": true,
            "ticks": "",
            "zerolinecolor": "white"
           },
           "yaxis": {
            "backgroundcolor": "#E5ECF6",
            "gridcolor": "white",
            "gridwidth": 2,
            "linecolor": "white",
            "showbackground": true,
            "ticks": "",
            "zerolinecolor": "white"
           },
           "zaxis": {
            "backgroundcolor": "#E5ECF6",
            "gridcolor": "white",
            "gridwidth": 2,
            "linecolor": "white",
            "showbackground": true,
            "ticks": "",
            "zerolinecolor": "white"
           }
          },
          "shapedefaults": {
           "line": {
            "color": "#2a3f5f"
           }
          },
          "ternary": {
           "aaxis": {
            "gridcolor": "white",
            "linecolor": "white",
            "ticks": ""
           },
           "baxis": {
            "gridcolor": "white",
            "linecolor": "white",
            "ticks": ""
           },
           "bgcolor": "#E5ECF6",
           "caxis": {
            "gridcolor": "white",
            "linecolor": "white",
            "ticks": ""
           }
          },
          "title": {
           "x": 0.05
          },
          "xaxis": {
           "automargin": true,
           "gridcolor": "white",
           "linecolor": "white",
           "ticks": "",
           "title": {
            "standoff": 15
           },
           "zerolinecolor": "white",
           "zerolinewidth": 2
          },
          "yaxis": {
           "automargin": true,
           "gridcolor": "white",
           "linecolor": "white",
           "ticks": "",
           "title": {
            "standoff": 15
           },
           "zerolinecolor": "white",
           "zerolinewidth": 2
          }
         }
        },
        "width": 1024
       }
      }
     },
     "metadata": {},
     "output_type": "display_data"
    }
   ],
   "source": [
    "import plotly.express as px\n",
    "\n",
    "\n",
    "centered = subset - subset.mean(axis=0)\n",
    "U, S, Vt = np.linalg.svd(centered, full_matrices=False)\n",
    "whitened = centered @ Vt.T / S\n",
    "whitened /= np.linalg.norm(whitened, axis=1, keepdims=True)\n",
    "fig = px.scatter_3d(\n",
    "    x=whitened[:, 0],\n",
    "    y=whitened[:, 1],\n",
    "    z=whitened[:, 2],\n",
    "    opacity=0.4)\n",
    "fig.update_traces(marker=dict(size=2))\n",
    "fig.update_layout(width=1024,\n",
    "                  height=768, scene=dict(aspectmode='cube'))\n",
    "fig.show()"
   ]
  },
  {
   "cell_type": "markdown",
   "id": "e1bd6f2d",
   "metadata": {},
   "source": [
    "# Raw"
   ]
  },
  {
   "cell_type": "code",
   "execution_count": 4,
   "id": "ba54f0d1",
   "metadata": {},
   "outputs": [
    {
     "name": "stdout",
     "output_type": "stream",
     "text": [
      "Removed 0 outlier points out of 10000 (0.00%)\n",
      "x: min=-0.035323 max=-0.034646 span=0.000677 mean=-0.035014 std=0.000083\n",
      "y: min=0.110261 max=0.110981 span=0.000719 mean=0.110711 std=0.000075\n",
      "z: min=-0.132297 max=-0.131648 span=0.000649 mean=-0.132017 std=0.000081\n",
      "Using standardized coordinates: False\n",
      "Using scaling mode: symmetric\n",
      "Ranges -> x:[-0.035344444, -0.034625202] y:[0.11026126, 0.11098051] z:[-0.13233203, -0.13161278]\n"
     ]
    },
    {
     "data": {
      "application/vnd.plotly.v1+json": {
       "config": {
        "plotlyServerURL": "https://plot.ly"
       },
       "data": [
        {
         "hovertemplate": "x=%{x}<br>y=%{y}<br>z=%{z}<extra></extra>",
         "legendgroup": "",
         "marker": {
          "color": "#636efa",
          "opacity": 0.5,
          "size": 2,
          "symbol": "circle"
         },
         "mode": "markers",
         "name": "",
         "scene": "scene",
         "showlegend": false,
         "type": "scatter3d",
         "x": {
          "bdata": "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",
          "dtype": "f4"
         },
         "y": {
          "bdata": "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",
          "dtype": "f4"
         },
         "z": {
          "bdata": "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",
          "dtype": "f4"
         }
        }
       ],
       "layout": {
        "height": 768,
        "legend": {
         "tracegroupgap": 0
        },
        "margin": {
         "t": 60
        },
        "scene": {
         "aspectmode": "cube",
         "domain": {
          "x": [
           0,
           1
          ],
          "y": [
           0,
           1
          ]
         },
         "xaxis": {
          "range": [
           -0.0353444442152977,
           -0.03462520241737366
          ],
          "title": {
           "text": "x"
          }
         },
         "yaxis": {
          "range": [
           0.11026126146316528,
           0.11098051071166992
          ],
          "title": {
           "text": "y"
          }
         },
         "zaxis": {
          "range": [
           -0.13233202695846558,
           -0.13161277770996094
          ],
          "title": {
           "text": "z"
          }
         }
        },
        "template": {
         "data": {
          "bar": [
           {
            "error_x": {
             "color": "#2a3f5f"
            },
            "error_y": {
             "color": "#2a3f5f"
            },
            "marker": {
             "line": {
              "color": "#E5ECF6",
              "width": 0.5
             },
             "pattern": {
              "fillmode": "overlay",
              "size": 10,
              "solidity": 0.2
             }
            },
            "type": "bar"
           }
          ],
          "barpolar": [
           {
            "marker": {
             "line": {
              "color": "#E5ECF6",
              "width": 0.5
             },
             "pattern": {
              "fillmode": "overlay",
              "size": 10,
              "solidity": 0.2
             }
            },
            "type": "barpolar"
           }
          ],
          "carpet": [
           {
            "aaxis": {
             "endlinecolor": "#2a3f5f",
             "gridcolor": "white",
             "linecolor": "white",
             "minorgridcolor": "white",
             "startlinecolor": "#2a3f5f"
            },
            "baxis": {
             "endlinecolor": "#2a3f5f",
             "gridcolor": "white",
             "linecolor": "white",
             "minorgridcolor": "white",
             "startlinecolor": "#2a3f5f"
            },
            "type": "carpet"
           }
          ],
          "choropleth": [
           {
            "colorbar": {
             "outlinewidth": 0,
             "ticks": ""
            },
            "type": "choropleth"
           }
          ],
          "contour": [
           {
            "colorbar": {
             "outlinewidth": 0,
             "ticks": ""
            },
            "colorscale": [
             [
              0,
              "#0d0887"
             ],
             [
              0.1111111111111111,
              "#46039f"
             ],
             [
              0.2222222222222222,
              "#7201a8"
             ],
             [
              0.3333333333333333,
              "#9c179e"
             ],
             [
              0.4444444444444444,
              "#bd3786"
             ],
             [
              0.5555555555555556,
              "#d8576b"
             ],
             [
              0.6666666666666666,
              "#ed7953"
             ],
             [
              0.7777777777777778,
              "#fb9f3a"
             ],
             [
              0.8888888888888888,
              "#fdca26"
             ],
             [
              1,
              "#f0f921"
             ]
            ],
            "type": "contour"
           }
          ],
          "contourcarpet": [
           {
            "colorbar": {
             "outlinewidth": 0,
             "ticks": ""
            },
            "type": "contourcarpet"
           }
          ],
          "heatmap": [
           {
            "colorbar": {
             "outlinewidth": 0,
             "ticks": ""
            },
            "colorscale": [
             [
              0,
              "#0d0887"
             ],
             [
              0.1111111111111111,
              "#46039f"
             ],
             [
              0.2222222222222222,
              "#7201a8"
             ],
             [
              0.3333333333333333,
              "#9c179e"
             ],
             [
              0.4444444444444444,
              "#bd3786"
             ],
             [
              0.5555555555555556,
              "#d8576b"
             ],
             [
              0.6666666666666666,
              "#ed7953"
             ],
             [
              0.7777777777777778,
              "#fb9f3a"
             ],
             [
              0.8888888888888888,
              "#fdca26"
             ],
             [
              1,
              "#f0f921"
             ]
            ],
            "type": "heatmap"
           }
          ],
          "histogram": [
           {
            "marker": {
             "pattern": {
              "fillmode": "overlay",
              "size": 10,
              "solidity": 0.2
             }
            },
            "type": "histogram"
           }
          ],
          "histogram2d": [
           {
            "colorbar": {
             "outlinewidth": 0,
             "ticks": ""
            },
            "colorscale": [
             [
              0,
              "#0d0887"
             ],
             [
              0.1111111111111111,
              "#46039f"
             ],
             [
              0.2222222222222222,
              "#7201a8"
             ],
             [
              0.3333333333333333,
              "#9c179e"
             ],
             [
              0.4444444444444444,
              "#bd3786"
             ],
             [
              0.5555555555555556,
              "#d8576b"
             ],
             [
              0.6666666666666666,
              "#ed7953"
             ],
             [
              0.7777777777777778,
              "#fb9f3a"
             ],
             [
              0.8888888888888888,
              "#fdca26"
             ],
             [
              1,
              "#f0f921"
             ]
            ],
            "type": "histogram2d"
           }
          ],
          "histogram2dcontour": [
           {
            "colorbar": {
             "outlinewidth": 0,
             "ticks": ""
            },
            "colorscale": [
             [
              0,
              "#0d0887"
             ],
             [
              0.1111111111111111,
              "#46039f"
             ],
             [
              0.2222222222222222,
              "#7201a8"
             ],
             [
              0.3333333333333333,
              "#9c179e"
             ],
             [
              0.4444444444444444,
              "#bd3786"
             ],
             [
              0.5555555555555556,
              "#d8576b"
             ],
             [
              0.6666666666666666,
              "#ed7953"
             ],
             [
              0.7777777777777778,
              "#fb9f3a"
             ],
             [
              0.8888888888888888,
              "#fdca26"
             ],
             [
              1,
              "#f0f921"
             ]
            ],
            "type": "histogram2dcontour"
           }
          ],
          "mesh3d": [
           {
            "colorbar": {
             "outlinewidth": 0,
             "ticks": ""
            },
            "type": "mesh3d"
           }
          ],
          "parcoords": [
           {
            "line": {
             "colorbar": {
              "outlinewidth": 0,
              "ticks": ""
             }
            },
            "type": "parcoords"
           }
          ],
          "pie": [
           {
            "automargin": true,
            "type": "pie"
           }
          ],
          "scatter": [
           {
            "fillpattern": {
             "fillmode": "overlay",
             "size": 10,
             "solidity": 0.2
            },
            "type": "scatter"
           }
          ],
          "scatter3d": [
           {
            "line": {
             "colorbar": {
              "outlinewidth": 0,
              "ticks": ""
             }
            },
            "marker": {
             "colorbar": {
              "outlinewidth": 0,
              "ticks": ""
             }
            },
            "type": "scatter3d"
           }
          ],
          "scattercarpet": [
           {
            "marker": {
             "colorbar": {
              "outlinewidth": 0,
              "ticks": ""
             }
            },
            "type": "scattercarpet"
           }
          ],
          "scattergeo": [
           {
            "marker": {
             "colorbar": {
              "outlinewidth": 0,
              "ticks": ""
             }
            },
            "type": "scattergeo"
           }
          ],
          "scattergl": [
           {
            "marker": {
             "colorbar": {
              "outlinewidth": 0,
              "ticks": ""
             }
            },
            "type": "scattergl"
           }
          ],
          "scattermap": [
           {
            "marker": {
             "colorbar": {
              "outlinewidth": 0,
              "ticks": ""
             }
            },
            "type": "scattermap"
           }
          ],
          "scattermapbox": [
           {
            "marker": {
             "colorbar": {
              "outlinewidth": 0,
              "ticks": ""
             }
            },
            "type": "scattermapbox"
           }
          ],
          "scatterpolar": [
           {
            "marker": {
             "colorbar": {
              "outlinewidth": 0,
              "ticks": ""
             }
            },
            "type": "scatterpolar"
           }
          ],
          "scatterpolargl": [
           {
            "marker": {
             "colorbar": {
              "outlinewidth": 0,
              "ticks": ""
             }
            },
            "type": "scatterpolargl"
           }
          ],
          "scatterternary": [
           {
            "marker": {
             "colorbar": {
              "outlinewidth": 0,
              "ticks": ""
             }
            },
            "type": "scatterternary"
           }
          ],
          "surface": [
           {
            "colorbar": {
             "outlinewidth": 0,
             "ticks": ""
            },
            "colorscale": [
             [
              0,
              "#0d0887"
             ],
             [
              0.1111111111111111,
              "#46039f"
             ],
             [
              0.2222222222222222,
              "#7201a8"
             ],
             [
              0.3333333333333333,
              "#9c179e"
             ],
             [
              0.4444444444444444,
              "#bd3786"
             ],
             [
              0.5555555555555556,
              "#d8576b"
             ],
             [
              0.6666666666666666,
              "#ed7953"
             ],
             [
              0.7777777777777778,
              "#fb9f3a"
             ],
             [
              0.8888888888888888,
              "#fdca26"
             ],
             [
              1,
              "#f0f921"
             ]
            ],
            "type": "surface"
           }
          ],
          "table": [
           {
            "cells": {
             "fill": {
              "color": "#EBF0F8"
             },
             "line": {
              "color": "white"
             }
            },
            "header": {
             "fill": {
              "color": "#C8D4E3"
             },
             "line": {
              "color": "white"
             }
            },
            "type": "table"
           }
          ]
         },
         "layout": {
          "annotationdefaults": {
           "arrowcolor": "#2a3f5f",
           "arrowhead": 0,
           "arrowwidth": 1
          },
          "autotypenumbers": "strict",
          "coloraxis": {
           "colorbar": {
            "outlinewidth": 0,
            "ticks": ""
           }
          },
          "colorscale": {
           "diverging": [
            [
             0,
             "#8e0152"
            ],
            [
             0.1,
             "#c51b7d"
            ],
            [
             0.2,
             "#de77ae"
            ],
            [
             0.3,
             "#f1b6da"
            ],
            [
             0.4,
             "#fde0ef"
            ],
            [
             0.5,
             "#f7f7f7"
            ],
            [
             0.6,
             "#e6f5d0"
            ],
            [
             0.7,
             "#b8e186"
            ],
            [
             0.8,
             "#7fbc41"
            ],
            [
             0.9,
             "#4d9221"
            ],
            [
             1,
             "#276419"
            ]
           ],
           "sequential": [
            [
             0,
             "#0d0887"
            ],
            [
             0.1111111111111111,
             "#46039f"
            ],
            [
             0.2222222222222222,
             "#7201a8"
            ],
            [
             0.3333333333333333,
             "#9c179e"
            ],
            [
             0.4444444444444444,
             "#bd3786"
            ],
            [
             0.5555555555555556,
             "#d8576b"
            ],
            [
             0.6666666666666666,
             "#ed7953"
            ],
            [
             0.7777777777777778,
             "#fb9f3a"
            ],
            [
             0.8888888888888888,
             "#fdca26"
            ],
            [
             1,
             "#f0f921"
            ]
           ],
           "sequentialminus": [
            [
             0,
             "#0d0887"
            ],
            [
             0.1111111111111111,
             "#46039f"
            ],
            [
             0.2222222222222222,
             "#7201a8"
            ],
            [
             0.3333333333333333,
             "#9c179e"
            ],
            [
             0.4444444444444444,
             "#bd3786"
            ],
            [
             0.5555555555555556,
             "#d8576b"
            ],
            [
             0.6666666666666666,
             "#ed7953"
            ],
            [
             0.7777777777777778,
             "#fb9f3a"
            ],
            [
             0.8888888888888888,
             "#fdca26"
            ],
            [
             1,
             "#f0f921"
            ]
           ]
          },
          "colorway": [
           "#636efa",
           "#EF553B",
           "#00cc96",
           "#ab63fa",
           "#FFA15A",
           "#19d3f3",
           "#FF6692",
           "#B6E880",
           "#FF97FF",
           "#FECB52"
          ],
          "font": {
           "color": "#2a3f5f"
          },
          "geo": {
           "bgcolor": "white",
           "lakecolor": "white",
           "landcolor": "#E5ECF6",
           "showlakes": true,
           "showland": true,
           "subunitcolor": "white"
          },
          "hoverlabel": {
           "align": "left"
          },
          "hovermode": "closest",
          "mapbox": {
           "style": "light"
          },
          "paper_bgcolor": "white",
          "plot_bgcolor": "#E5ECF6",
          "polar": {
           "angularaxis": {
            "gridcolor": "white",
            "linecolor": "white",
            "ticks": ""
           },
           "bgcolor": "#E5ECF6",
           "radialaxis": {
            "gridcolor": "white",
            "linecolor": "white",
            "ticks": ""
           }
          },
          "scene": {
           "xaxis": {
            "backgroundcolor": "#E5ECF6",
            "gridcolor": "white",
            "gridwidth": 2,
            "linecolor": "white",
            "showbackground": true,
            "ticks": "",
            "zerolinecolor": "white"
           },
           "yaxis": {
            "backgroundcolor": "#E5ECF6",
            "gridcolor": "white",
            "gridwidth": 2,
            "linecolor": "white",
            "showbackground": true,
            "ticks": "",
            "zerolinecolor": "white"
           },
           "zaxis": {
            "backgroundcolor": "#E5ECF6",
            "gridcolor": "white",
            "gridwidth": 2,
            "linecolor": "white",
            "showbackground": true,
            "ticks": "",
            "zerolinecolor": "white"
           }
          },
          "shapedefaults": {
           "line": {
            "color": "#2a3f5f"
           }
          },
          "ternary": {
           "aaxis": {
            "gridcolor": "white",
            "linecolor": "white",
            "ticks": ""
           },
           "baxis": {
            "gridcolor": "white",
            "linecolor": "white",
            "ticks": ""
           },
           "bgcolor": "#E5ECF6",
           "caxis": {
            "gridcolor": "white",
            "linecolor": "white",
            "ticks": ""
           }
          },
          "title": {
           "x": 0.05
          },
          "xaxis": {
           "automargin": true,
           "gridcolor": "white",
           "linecolor": "white",
           "ticks": "",
           "title": {
            "standoff": 15
           },
           "zerolinecolor": "white",
           "zerolinewidth": 2
          },
          "yaxis": {
           "automargin": true,
           "gridcolor": "white",
           "linecolor": "white",
           "ticks": "",
           "title": {
            "standoff": 15
           },
           "zerolinecolor": "white",
           "zerolinewidth": 2
          }
         }
        },
        "width": 1024
       }
      }
     },
     "metadata": {},
     "output_type": "display_data"
    }
   ],
   "source": [
    "import numpy as np\n",
    "import plotly.express as px\n",
    "\n",
    "# Expect subset to be defined already (sampled points)\n",
    "dim_indices = (0, 1, 2)\n",
    "\n",
    "x, y, z = (subset[:, i] for i in dim_indices)\n",
    "\n",
    "# Outlier filtering parameters\n",
    "lower_q = 0.0\n",
    "upper_q = 1.0\n",
    "\n",
    "x_low, x_high = np.quantile(x, [lower_q, upper_q])\n",
    "y_low, y_high = np.quantile(y, [lower_q, upper_q])\n",
    "z_low, z_high = np.quantile(z, [lower_q, upper_q])\n",
    "\n",
    "mask = (\n",
    "    (x >= x_low) & (x <= x_high) &\n",
    "    (y >= y_low) & (y <= y_high) &\n",
    "    (z >= z_low) & (z <= z_high)\n",
    ")\n",
    "\n",
    "removed_count = (~mask).sum()\n",
    "print(f\"Removed {removed_count} outlier points out of {subset.shape[0]} ({removed_count / subset.shape[0]:.2%})\")\n",
    "\n",
    "if removed_count > 0:\n",
    "    outliers = np.column_stack([x[~mask], y[~mask], z[~mask]])\n",
    "    max_print = 10\n",
    "    print(\"Sample outlier points (x,y,z):\")\n",
    "    print(outliers[:max_print])\n",
    "\n",
    "# Keep only inliers\n",
    "x_f, y_f, z_f = x[mask], y[mask], z[mask]\n",
    "\n",
    "# Axis stats BEFORE unification (for debugging / understanding clustering)\n",
    "for name, arr in zip(['x','y','z'], [x_f, y_f, z_f]):\n",
    "    print(f\"{name}: min={arr.min():.6f} max={arr.max():.6f} span={(arr.max()-arr.min()):.6f} mean={arr.mean():.6f} std={arr.std():.6f}\")\n",
    "\n",
    "# Detect degenerate (near-constant) axes\n",
    "EPS = 1e-12\n",
    "spans = np.array([x_f.max()-x_f.min(), y_f.max()-y_f.min(), z_f.max()-z_f.min()])\n",
    "if np.any(spans < EPS):\n",
    "    print(\"WARNING: One or more axes have (near) zero span. Data may be constant or precision-collapsed.\")\n",
    "\n",
    "# Optional standardization to reveal variation if values are very tiny\n",
    "apply_standardize_if_tiny = True\n",
    "tiny_threshold = 1e-8\n",
    "if apply_standardize_if_tiny and np.all(spans < tiny_threshold):\n",
    "    print(\"All spans are tiny; applying z-score standardization to x,y,z for visualization only.\")\n",
    "    def safe_std(a):\n",
    "        s = a.std()\n",
    "        return s if s > 0 else 1.0\n",
    "    x_v = (x_f - x_f.mean()) / safe_std(x_f)\n",
    "    y_v = (y_f - y_f.mean()) / safe_std(y_f)\n",
    "    z_v = (z_f - z_f.mean()) / safe_std(z_f)\n",
    "    standardized = True\n",
    "else:\n",
    "    x_v, y_v, z_v = x_f, y_f, z_f\n",
    "    standardized = False\n",
    "print(f\"Using standardized coordinates: {standardized}\")\n",
    "\n",
    "# Scaling strategy options\n",
    "# 'symmetric': center each axis at its own midpoint but use the MAX half-span (after any standardization)\n",
    "# 'independent': each axis keeps its own min/max\n",
    "# 'global': single global min/max across axes (can collapse if data spans are identical tiny intervals)\n",
    "scaling_mode = 'symmetric'  # change to 'symmetric' if collapse persists\n",
    "\n",
    "if scaling_mode == 'independent':\n",
    "    xr, yr, zr = ( [x_v.min(), x_v.max()], [y_v.min(), y_v.max()], [z_v.min(), z_v.max()] )\n",
    "elif scaling_mode == 'global':\n",
    "    vals = np.concatenate([x_v, y_v, z_v])\n",
    "    gmin, gmax = float(vals.min()), float(vals.max())\n",
    "    if abs(gmax - gmin) < EPS:\n",
    "        # Expand artificially so Plotly can render a volume\n",
    "        pad = 1.0 if standardized else 1e-3\n",
    "        print(f\"Global span ~0 (gmin={gmin:.6g}, gmax={gmax:.6g}); padding by +/-{pad}\")\n",
    "        gmin -= pad\n",
    "        gmax += pad\n",
    "    xr = yr = zr = [gmin, gmax]\n",
    "else:  # symmetric\n",
    "    mins = np.array([x_v.min(), y_v.min(), z_v.min()])\n",
    "    maxs = np.array([x_v.max(), y_v.max(), z_v.max()])\n",
    "    centers = (mins + maxs) / 2.0\n",
    "    half_spans = (maxs - mins) / 2.0\n",
    "    H = half_spans.max()\n",
    "    if H < EPS:\n",
    "        H = 1.0 if standardized else 1e-3\n",
    "        print(f\"Symmetric mode: half-span ~0, padding H={H}\")\n",
    "    xr = [centers[0]-H, centers[0]+H]\n",
    "    yr = [centers[1]-H, centers[1]+H]\n",
    "    zr = [centers[2]-H, centers[2]+H]\n",
    "\n",
    "print(f\"Using scaling mode: {scaling_mode}\")\n",
    "print(f\"Ranges -> x:{xr} y:{yr} z:{zr}\")\n",
    "\n",
    "fig = px.scatter_3d(x=x_v, y=y_v, z=z_v, opacity=0.5)\n",
    "fig.update_traces(marker=dict(size=2))\n",
    "fig.update_layout(\n",
    "    width=1024,\n",
    "    height=768,\n",
    "    scene=dict(\n",
    "        xaxis=dict(range=xr),\n",
    "        yaxis=dict(range=yr),\n",
    "        zaxis=dict(range=zr),\n",
    "        aspectmode='cube'\n",
    "    )\n",
    ")\n",
    "fig.show()\n",
    "\n",
    "filtered_indices = np.nonzero(mask)[0]"
   ]
  },
  {
   "cell_type": "markdown",
   "id": "7087bee9",
   "metadata": {},
   "source": [
    "# UMAP Hi-dim"
   ]
  },
  {
   "cell_type": "code",
   "execution_count": 13,
   "id": "a77fd82f",
   "metadata": {},
   "outputs": [],
   "source": [
    "hd_subset = X[subset_idx]"
   ]
  },
  {
   "cell_type": "code",
   "execution_count": 14,
   "id": "73e3c2b6",
   "metadata": {},
   "outputs": [
    {
     "data": {
      "text/plain": [
       "(10000, 1536)"
      ]
     },
     "execution_count": 14,
     "metadata": {},
     "output_type": "execute_result"
    }
   ],
   "source": [
    "hd_subset.shape"
   ]
  },
  {
   "cell_type": "code",
   "execution_count": 16,
   "id": "5cd2195e",
   "metadata": {},
   "outputs": [
    {
     "data": {
      "text/plain": [
       "array([[10.613586 ,  4.572473 ],\n",
       "       [10.722154 ,  4.7413826],\n",
       "       [11.199226 ,  5.150993 ],\n",
       "       ...,\n",
       "       [10.678477 ,  4.746382 ],\n",
       "       [ 7.2929125,  4.8433213],\n",
       "       [10.973627 ,  5.034195 ]], dtype=float32)"
      ]
     },
     "execution_count": 16,
     "metadata": {},
     "output_type": "execute_result"
    }
   ],
   "source": [
    "import umap\n",
    "import plotly.express as px\n",
    "\n",
    "hd_centered = hd_subset - hd_subset.mean(axis=0)\n",
    "U, S, Vt = np.linalg.svd(hd_centered, full_matrices=False)\n",
    "hd_whitened = hd_centered @ Vt.T / S\n",
    "\n",
    "# UMAP\n",
    "hd_umap_model = umap.UMAP(n_neighbors=15, n_components=2, metric='euclidean')\n",
    "hd_umap_2d_embeddings = hd_umap_model.fit_transform(hd_whitened)\n",
    "hd_umap_2d_embeddings"
   ]
  },
  {
   "cell_type": "code",
   "execution_count": null,
   "id": "913778f4",
   "metadata": {},
   "outputs": [],
   "source": [
    "hd_images_df = pd.DataFrame(hd_umap_2d_embeddings, columns=('x', 'y'))\n",
    "hd_images_df['image'] = batch_embeddable_jpeg(\n",
    "    subset_images, max_side=512, max_workers=16)\n",
    "hd_images_df['idx'] = subset_idx"
   ]
  },
  {
   "cell_type": "code",
   "execution_count": null,
   "id": "9d7f809d",
   "metadata": {},
   "outputs": [],
   "source": [
    "from bokeh.plotting import figure, show, output_notebook\n",
    "from bokeh.models import HoverTool, ColumnDataSource, CategoricalColorMapper\n",
    "from bokeh.palettes import Spectral10\n",
    "\n",
    "output_notebook()"
   ]
  },
  {
   "cell_type": "code",
   "execution_count": null,
   "id": "1cba6559",
   "metadata": {},
   "outputs": [],
   "source": [
    "datasource = ColumnDataSource(hd_images_df)\n",
    "\n",
    "plot_figure = figure(\n",
    "    title='UMAP projection of the IIIF non-ocr dataset',\n",
    "    width=1920,\n",
    "    height=1080,\n",
    "    tools=('pan, wheel_zoom, reset')\n",
    ")\n",
    "\n",
    "plot_figure.add_tools(HoverTool(tooltips=\"\"\"\n",
    "<div>\n",
    "    <div>\n",
    "        <img src='@image' style='float: left; margin: 5px 5px 5px 5px'/>\n",
    "    </div>\n",
    "    <div>\n",
    "        <span style='font-size: 16px; color: #224499'>idx:</span>\n",
    "        <span style='font-size: 18px'>@idx</span>\n",
    "    </div>\n",
    "</div>\n",
    "\"\"\"))\n",
    "\n",
    "\n",
    "plot_figure.scatter(\n",
    "    'x',\n",
    "    'y',\n",
    "    source=datasource,\n",
    "    line_alpha=0.5,\n",
    "    fill_alpha=0.5,\n",
    "    size=5,\n",
    "    # color='color'\n",
    ")\n",
    "# show(plot_figure)"
   ]
  },
  {
   "cell_type": "code",
   "execution_count": null,
   "id": "e85e1921",
   "metadata": {},
   "outputs": [],
   "source": [
    "import os\n",
    "from bokeh.embed import file_html\n",
    "from bokeh.resources import INLINE\n",
    "\n",
    "html = file_html(plot_figure, resources=INLINE, title=\"UMAP projection\")\n",
    "out_path = \"iiif_no_text_umap_2d_vlm_embed_umap_2d_plot.html\"\n",
    "with open(out_path, \"w\", encoding=\"utf-8\") as f:\n",
    "    f.write(html)\n",
    "\n",
    "print(f\"Wrote {out_path} (INLINE resources).\")\n",
    "# Optional size check\n",
    "print(\"File size (MB):\", os.path.getsize(out_path) / (1024 * 1024))"
   ]
  }
 ],
 "metadata": {
  "kernelspec": {
   "display_name": "wc-simd",
   "language": "python",
   "name": "python3"
  },
  "language_info": {
   "codemirror_mode": {
    "name": "ipython",
    "version": 3
   },
   "file_extension": ".py",
   "mimetype": "text/x-python",
   "name": "python",
   "nbconvert_exporter": "python",
   "pygments_lexer": "ipython3",
   "version": "3.10.17"
  }
 },
 "nbformat": 4,
 "nbformat_minor": 5
}
