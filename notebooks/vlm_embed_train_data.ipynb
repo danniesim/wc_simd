{
 "cells": [
  {
   "cell_type": "code",
   "execution_count": 25,
   "id": "c550fdcd",
   "metadata": {},
   "outputs": [
    {
     "name": "stdout",
     "output_type": "stream",
     "text": [
      "Notebook file size: 565.48 KB\n"
     ]
    }
   ],
   "source": [
    "# get file size of this notebook\n",
    "\n",
    "import os\n",
    "print(f\"Notebook file size: {os.path.getsize('vlm_embed_train_data.ipynb') / 1024:.2f} KB\")"
   ]
  },
  {
   "cell_type": "code",
   "execution_count": null,
   "id": "28a1fb52",
   "metadata": {},
   "outputs": [],
   "source": [
    "import numpy as np\n",
    "\n",
    "data = np.load('../data/vlm_embed/iiif_no_text_embedding_matrix.npy', allow_pickle=True)"
   ]
  },
  {
   "cell_type": "markdown",
   "id": "5bbe42e7",
   "metadata": {},
   "source": [
    "## Common diagnostics when you’re training a **variational autoencoder (VAE)**\n",
    "\n",
    "---\n",
    "\n",
    "### **Top-left: `latent/kl_var`**\n",
    "- This shows the **KL divergence term** of your VAE’s loss, often averaged across dimensions.\n",
    "- It measures how close your approximate posterior \\( q_\\phi(z|x) \\) is to the prior \\( p(z) \\) (usually \\( \\mathcal{N}(0,I) \\)).\n",
    "- **Interpretation:**  \n",
    "  - Starts low (the encoder is ignoring the latent variables).  \n",
    "  - Rises as the encoder begins to use the latent space.  \n",
    "  - A good balance is important: too low → posterior collapse, too high → poor reconstructions.\n",
    "- The upward trend then plateauing and slightly decreasing suggests the model is learning to balance KL and reconstruction terms.\n",
    "\n",
    "---\n",
    "\n",
    "### **Top-right: `latent/logvar`**\n",
    "- This is the distribution of the **log-variance outputs** from the encoder.  \n",
    "- Each encoder latent dimension predicts a mean (`mu`) and log-variance (`logvar`), defining the Gaussian distribution from which you sample \\( z \\).  \n",
    "- **Interpretation:**  \n",
    "  - Spikes around zero mean log-variance ≈ 0 → variance ≈ 1 (close to prior).  \n",
    "  - Spread distributions show how much uncertainty the encoder is predicting for each latent dimension.\n",
    "\n",
    "---\n",
    "\n",
    "### **Bottom-left: `latent/mu`**\n",
    "- This is the distribution of the **means** predicted by the encoder for each latent variable.  \n",
    "- Ideally, they should cluster around zero if the KL regularization is working well (since prior is \\( N(0, I) \\)).  \n",
    "- If they drift too far away from zero, the KL term will increase to pull them back.\n",
    "\n",
    "---\n",
    "\n",
    "### **Bottom-right: `latent/z_sample`**\n",
    "- These are actual **samples of latent variables \\( z \\)**, drawn as \\( z = \\mu + \\sigma \\cdot \\epsilon \\) where \\( \\epsilon \\sim \\mathcal{N}(0, I) \\).  \n",
    "- This shows how the *effective latent space* looks during training.  \n",
    "- Should roughly follow a Gaussian distribution centered at zero, though skew or multimodality can appear if the VAE is strongly encoding structured information.\n",
    "\n",
    "---\n",
    "\n",
    "✅ **Putting it all together:**  \n",
    "- `latent/mu` + `latent/logvar` tell you what your encoder is outputting.  \n",
    "- `latent/z_sample` shows what you actually pass to the decoder.  \n",
    "- `latent/kl_var` tells you how far this is from the prior and whether your KL term is being respected.  \n",
    "\n",
    "---"
   ]
  },
  {
   "cell_type": "markdown",
   "id": "dde97990",
   "metadata": {},
   "source": [
    "## How you actually use the latent variable \\(z\\) once the VAE is trained.  \n",
    "\n",
    "---\n",
    "\n",
    "### 🔹 Recap: What the encoder produces\n",
    "For each input \\(x\\), the encoder outputs:\n",
    "- \\( \\mu(x) \\) → mean of the approximate posterior  \n",
    "- \\( \\log \\sigma^2(x) \\) → log-variance  \n",
    "\n",
    "So the latent posterior is:\n",
    "\\[\n",
    "q_\\phi(z|x) = \\mathcal{N}(z; \\mu(x), \\sigma^2(x) I)\n",
    "\\]\n",
    "\n",
    "And the reparameterization trick samples:\n",
    "\\[\n",
    "z = \\mu(x) + \\sigma(x) \\cdot \\epsilon, \\quad \\epsilon \\sim \\mathcal{N}(0, I)\n",
    "\\]\n",
    "\n",
    "---\n",
    "\n",
    "### 🔹 Two ways of using \\(z\\) at inference\n",
    "1. **Posterior mean (deterministic)**  \n",
    "   - Just take \\( z = \\mu(x) \\).  \n",
    "   - This ignores variance and gives the “most likely” latent code.  \n",
    "   - Useful if you want **stable reconstructions** (less noise).  \n",
    "   - Downside: you aren’t really sampling, so you might lose generative diversity.\n",
    "\n",
    "2. **Stochastic sample (sample)**  \n",
    "   - Actually draw \\( z \\) using the full distribution \\( \\mu(x), \\sigma(x) \\).  \n",
    "   - This adds noise according to the learned uncertainty.  \n",
    "   - More faithful to the probabilistic nature of the VAE.  \n",
    "   - Useful for **generation**, data augmentation, or exploring diversity.  \n",
    "\n",
    "---\n",
    "\n",
    "### 🔹 When to use which\n",
    "- **Reconstruction tasks** → use posterior mean (\\(z = \\mu(x)\\)) for sharper, more stable outputs.  \n",
    "- **Generative tasks / sampling** → use stochastic \\(z\\) so you capture the randomness and diversity.  \n",
    "- **Evaluation (e.g. ELBO)** → always stochastic, because that’s how the model was trained.  "
   ]
  },
  {
   "cell_type": "markdown",
   "id": "d89f3925",
   "metadata": {},
   "source": [
    "# Embedding Data"
   ]
  },
  {
   "cell_type": "code",
   "execution_count": 1,
   "id": "01be3408",
   "metadata": {},
   "outputs": [],
   "source": [
    "import numpy as np\n",
    "\n",
    "data_infer = '../data/vlm_embed/iiif_no_text_embedding_matrix.npy'\n",
    "\n",
    "\n",
    "X = np.load(data_infer, mmap_mode='r')\n",
    "# X = np.load(data_infer).astype(np.float32)\n",
    "# X_subset = X[np.random.choice(X.shape[0], 100000, replace=False)]\n"
   ]
  },
  {
   "cell_type": "markdown",
   "id": "3c88dc43",
   "metadata": {},
   "source": [
    "# VAE Latents"
   ]
  },
  {
   "cell_type": "code",
   "execution_count": 9,
   "id": "fcee4ed8",
   "metadata": {},
   "outputs": [],
   "source": [
    "# from wc_simd.vlm_embed_vae import VAE3DWrapper\n",
    "from wc_simd.vlm_embed_ae import load_model, resolve_device\n",
    "import torch\n",
    "\n",
    "\n",
    "device = resolve_device(\"auto\")\n",
    "sample = False\n",
    "model_checkpoint = '../runs/vlm_embed_ae3d_hires_1/ae.pt'\n",
    "model, meta = load_model(\n",
    "    model_checkpoint, device)\n",
    "# Make a copy of X to ensure it's writable before converting to tensor\n",
    "X_tensor = torch.from_numpy(X.copy()).to(device)\n",
    "Z = model.encoder(X_tensor).detach().cpu().numpy()\n",
    "# Z = wrapper.to3d(\n",
    "#     X, use_mu=(not sample),\n",
    "#     batch_size=64 * 1024)\n",
    "\n",
    "# construct output filename from model and input\n",
    "output_filename = f'../data/vlm_embed/iiif_no_text_embedding_matrix_{model_checkpoint.split(\"/\")[-2]}.npy'\n",
    "np.save(output_filename, Z)\n",
    "del Z  # free memory\n",
    "del X_tensor  # free GPU memory"
   ]
  },
  {
   "cell_type": "code",
   "execution_count": 12,
   "id": "735224c9",
   "metadata": {},
   "outputs": [],
   "source": [
    "import numpy as np\n",
    "\n",
    "# data_file = output_filename\n",
    "data_file = \"../data/vlm_embed/iiif_no_text_embedding_matrix_vlm_embed_ae3d_hires_1.npy\"\n",
    "# data_file = \"../data/vlm_embed/iiif_no_text_embedding_matrix_vlm_embed_vae3d_light_8.npy\"\n",
    "# data_file = \"../data/vlm_embed/iiif_no_text_embedding_matrix_vlm_embed_ae3d_light_2.npy\"\n",
    "\n",
    "data = np.load(data_file, allow_pickle=True)"
   ]
  },
  {
   "cell_type": "markdown",
   "id": "c3741ed3",
   "metadata": {},
   "source": [
    "# Subset"
   ]
  },
  {
   "cell_type": "code",
   "execution_count": 13,
   "id": "6eec1381",
   "metadata": {},
   "outputs": [],
   "source": [
    "\n",
    "subset_idx = np.random.choice(data.shape[0], 10000, replace=False)"
   ]
  },
  {
   "cell_type": "code",
   "execution_count": 9,
   "id": "e276e4b2",
   "metadata": {},
   "outputs": [],
   "source": [
    "# Save subset_idx for later use\n",
    "np.save(data_file.replace('.npy', '_subset_idx.npy'), subset_idx)"
   ]
  },
  {
   "cell_type": "code",
   "execution_count": 10,
   "id": "d4ac3168",
   "metadata": {},
   "outputs": [],
   "source": [
    "# Load subset_idx if needed\n",
    "subset_idx = np.load(data_file.replace('.npy', '_subset_idx.npy'))"
   ]
  },
  {
   "cell_type": "code",
   "execution_count": 14,
   "id": "3dbf42fb",
   "metadata": {},
   "outputs": [],
   "source": [
    "subset = data[subset_idx]\n",
    "del data"
   ]
  },
  {
   "cell_type": "markdown",
   "id": "a84f30bb",
   "metadata": {},
   "source": [
    "# Images"
   ]
  },
  {
   "cell_type": "code",
   "execution_count": 2,
   "id": "9f431e41",
   "metadata": {},
   "outputs": [
    {
     "data": {
      "text/plain": [
       "['https://iiif.wellcomecollection.org/image/b19314164_0270.jp2/full/1338,1519/0/default.jpg',\n",
       " 'https://iiif.wellcomecollection.org/image/b18597452_0033.jp2/full/1338,1636/0/default.jpg',\n",
       " 'https://iiif.wellcomecollection.org/image/b33537525_0232.jp2/full/1338,2047/0/default.jpg',\n",
       " 'https://iiif.wellcomecollection.org/image/b32274683_0049.jp2/full/1338,1671/0/default.jpg',\n",
       " 'https://iiif.wellcomecollection.org/image/b28705804_0043.jp2/full/1338,2217/0/default.jpg',\n",
       " 'https://iiif.wellcomecollection.org/image/b30634672_0189.jp2/full/1338,1697/0/default.jpg',\n",
       " 'https://iiif.wellcomecollection.org/image/b33585489_0249.jp2/full/1338,2037/0/default.jpg',\n",
       " 'https://iiif.wellcomecollection.org/image/b28705804_0366.jp2/full/1338,2102/0/default.jpg',\n",
       " 'https://iiif.wellcomecollection.org/image/b28704940_0519.jp2/full/1338,1525/0/default.jpg',\n",
       " 'https://iiif.wellcomecollection.org/image/b19191728_0174.jp2/full/1338,1629/0/default.jpg',\n",
       " 'https://iiif.wellcomecollection.org/image/b19371810_0133.jp2/full/1338,1703/0/default.jpg',\n",
       " 'https://iiif.wellcomecollection.org/image/b28705853_0037.jp2/full/1338,2270/0/default.jpg',\n",
       " 'https://iiif.wellcomecollection.org/image/b33585489_0176.jp2/full/1338,2036/0/default.jpg',\n",
       " 'https://iiif.wellcomecollection.org/image/b33245162_0001.jp2/full/1338,1691/0/default.jpg',\n",
       " 'https://iiif.wellcomecollection.org/image/b32274580_0027.jp2/full/1338,1845/0/default.jpg',\n",
       " 'https://iiif.wellcomecollection.org/image/b33585489_0028.jp2/full/1338,2126/0/default.jpg',\n",
       " 'https://iiif.wellcomecollection.org/image/b32274646_0005.jp2/full/1338,1934/0/default.jpg',\n",
       " 'https://iiif.wellcomecollection.org/image/b32274634_0072.jp2/full/1338,1771/0/default.jpg',\n",
       " 'https://iiif.wellcomecollection.org/image/b28976794_0147.jp2/full/1338,1640/0/default.jpg',\n",
       " 'https://iiif.wellcomecollection.org/image/b28705737_0146.jp2/full/1338,2069/0/default.jpg',\n",
       " 'https://iiif.wellcomecollection.org/image/b32274622_0056.jp2/full/1338,1811/0/default.jpg',\n",
       " 'https://iiif.wellcomecollection.org/image/b18437151_ramc_1242_1_0057.JP2/full/1019,1024/0/default.jpg',\n",
       " 'https://iiif.wellcomecollection.org/image/b18289332_ramc_384_1_4_0009.JP2/full/1024,993/0/default.jpg',\n",
       " 'https://iiif.wellcomecollection.org/image/b20614548_galton_02_08_01_13_08_0012.JP2/full/1006,1024/0/default.jpg',\n",
       " 'https://iiif.wellcomecollection.org/image/b33373309_0001.jp2/full/1338,1646/0/default.jpg',\n",
       " 'https://iiif.wellcomecollection.org/image/b18123533_0041.jp2/full/1338,1757/0/default.jpg',\n",
       " 'https://iiif.wellcomecollection.org/image/b28704733_0364.jp2/full/1338,2316/0/default.jpg',\n",
       " 'https://iiif.wellcomecollection.org/image/b14565377_0010.jp2/full/1024,1011/0/default.jpg',\n",
       " 'https://iiif.wellcomecollection.org/image/b28704630_0520.jp2/full/1338,1948/0/default.jpg',\n",
       " 'https://iiif.wellcomecollection.org/image/b20129075_kdbp_1_3_053_1.JP2/full/996,1024/0/default.jpg',\n",
       " 'https://iiif.wellcomecollection.org/image/b11058286_0336.jp2/full/3840,5408/0/default.jpg',\n",
       " 'https://iiif.wellcomecollection.org/image/b22007611_0019.jp2/full/1338,2093/0/default.jpg',\n",
       " 'https://iiif.wellcomecollection.org/image/b32274750_0121.jp2/full/1338,2193/0/default.jpg',\n",
       " 'https://iiif.wellcomecollection.org/image/b32274592_0017.jp2/full/1338,1955/0/default.jpg',\n",
       " 'https://iiif.wellcomecollection.org/image/b20129075_kdbp_1_3_271_2.JP2/full/1024,1010/0/default.jpg',\n",
       " 'https://iiif.wellcomecollection.org/image/b18318162_0399.jp2/full/1338,1940/0/default.jpg',\n",
       " 'https://iiif.wellcomecollection.org/image/b32274750_0346.jp2/full/1338,1762/0/default.jpg',\n",
       " 'https://iiif.wellcomecollection.org/image/b11148366_hin-wel-all-00003449_0167.jp2/full/1021,1024/0/default.jpg',\n",
       " 'https://iiif.wellcomecollection.org/image/b31854370_0022.jp2/full/999,1024/0/default.jpg',\n",
       " 'https://iiif.wellcomecollection.org/image/b28705269_0016.jp2/full/1338,1815/0/default.jpg',\n",
       " 'https://iiif.wellcomecollection.org/image/b18758897_0269.jp2/full/1338,1843/0/default.jpg',\n",
       " 'https://iiif.wellcomecollection.org/image/b18417383_0213.jp2/full/1338,1665/0/default.jpg',\n",
       " 'https://iiif.wellcomecollection.org/image/b1325473x_hin-wel-all-00012743_0011.jp2/full/1024,1019/0/default.jpg',\n",
       " 'https://iiif.wellcomecollection.org/image/b28705786_0571.jp2/full/1338,1659/0/default.jpg',\n",
       " 'https://iiif.wellcomecollection.org/image/b28704630_0219.jp2/full/1338,1995/0/default.jpg',\n",
       " 'https://iiif.wellcomecollection.org/image/b18123533_0149.jp2/full/1338,1735/0/default.jpg',\n",
       " 'https://iiif.wellcomecollection.org/image/b24937757_RET_3_3_2_5_0865.jp2/full/1024,1005/0/default.jpg',\n",
       " 'https://iiif.wellcomecollection.org/image/b19676736_0310.jp2/full/1338,1909/0/default.jpg',\n",
       " 'https://iiif.wellcomecollection.org/image/b28704630_0051.jp2/full/1338,2010/0/default.jpg',\n",
       " 'https://iiif.wellcomecollection.org/image/b32274804_0049.jp2/full/1338,2100/0/default.jpg',\n",
       " 'https://iiif.wellcomecollection.org/image/b28976794_0029.jp2/full/1338,1640/0/default.jpg',\n",
       " 'https://iiif.wellcomecollection.org/image/b32274683_0008.jp2/full/1338,1673/0/default.jpg',\n",
       " 'https://iiif.wellcomecollection.org/image/b31854497_0003.jp2/full/1008,1024/0/default.jpg',\n",
       " 'https://iiif.wellcomecollection.org/image/b11058286_0844.jp2/full/4056,5480/0/default.jpg',\n",
       " 'https://iiif.wellcomecollection.org/image/b18693441_0402.jp2/full/1338,2055/0/default.jpg',\n",
       " 'https://iiif.wellcomecollection.org/image/b32274610_0012.jp2/full/1338,1791/0/default.jpg',\n",
       " 'https://iiif.wellcomecollection.org/image/b28704630_0379.jp2/full/1338,2025/0/default.jpg',\n",
       " 'https://iiif.wellcomecollection.org/image/b11058286_0698.jp2/full/3948,5432/0/default.jpg',\n",
       " 'https://iiif.wellcomecollection.org/image/b28705427_0460.jp2/full/1338,2196/0/default.jpg',\n",
       " 'https://iiif.wellcomecollection.org/image/b32274750_0318.jp2/full/1338,2175/0/default.jpg',\n",
       " 'https://iiif.wellcomecollection.org/image/b11534096_hin-wel-all-00012421_0337.jp2/full/1024,1014/0/default.jpg',\n",
       " 'https://iiif.wellcomecollection.org/image/b32274555_0048.jp2/full/1338,1886/0/default.jpg',\n",
       " 'https://iiif.wellcomecollection.org/image/b1856351x_0075.jp2/full/1338,1492/0/default.jpg',\n",
       " 'https://iiif.wellcomecollection.org/image/b20294955_WMS_Arabic_48_0091.jp2/full/1024,979/0/default.jpg',\n",
       " 'https://iiif.wellcomecollection.org/image/b33374557_0001.jp2/full/1338,957/0/default.jpg',\n",
       " 'https://iiif.wellcomecollection.org/image/b18123533_0216.jp2/full/1338,1725/0/default.jpg',\n",
       " 'https://iiif.wellcomecollection.org/image/b28705774_0229.jp2/full/1338,2067/0/default.jpg',\n",
       " 'https://iiif.wellcomecollection.org/image/b32274750_0088.jp2/full/1338,2076/0/default.jpg',\n",
       " 'https://iiif.wellcomecollection.org/image/b19575397_0120.jp2/full/1338,2120/0/default.jpg',\n",
       " 'https://iiif.wellcomecollection.org/image/b14827931_0035.jp2/full/1338,1826/0/default.jpg',\n",
       " 'https://iiif.wellcomecollection.org/image/b19314164_0077.jp2/full/1338,1541/0/default.jpg',\n",
       " 'https://iiif.wellcomecollection.org/image/b19576523_0051.jp2/full/1338,1483/0/default.jpg',\n",
       " 'https://iiif.wellcomecollection.org/image/b28705269_0065.jp2/full/1338,1769/0/default.jpg',\n",
       " 'https://iiif.wellcomecollection.org/image/b32274555_0205.jp2/full/1338,1982/0/default.jpg',\n",
       " 'https://iiif.wellcomecollection.org/image/b18576795_1011.jp2/full/1338,1996/0/default.jpg',\n",
       " 'https://iiif.wellcomecollection.org/image/b14565377_0144.jp2/full/1004,1024/0/default.jpg',\n",
       " 'https://iiif.wellcomecollection.org/image/b2496492x_RET_1_5_5_10_1_0103.jp2/full/1024,1012/0/default.jpg',\n",
       " 'https://iiif.wellcomecollection.org/image/b32274750_0351.jp2/full/1338,1777/0/default.jpg',\n",
       " 'https://iiif.wellcomecollection.org/image/b20297105_WMS_Arabic_440_0025.jp2/full/1000,1024/0/default.jpg',\n",
       " 'https://iiif.wellcomecollection.org/image/b18576795_0515.jp2/full/1338,1936/0/default.jpg',\n",
       " 'https://iiif.wellcomecollection.org/image/b28704940_0386.jp2/full/1338,1525/0/default.jpg',\n",
       " 'https://iiif.wellcomecollection.org/image/b18587057_ramc_1153_2_0006.JP2/full/981,1024/0/default.jpg',\n",
       " 'https://iiif.wellcomecollection.org/image/b28705786_0518.jp2/full/1338,1663/0/default.jpg',\n",
       " 'https://iiif.wellcomecollection.org/image/b3337885x_0001.jp2/full/1338,1912/0/default.jpg',\n",
       " 'https://iiif.wellcomecollection.org/image/b32274634_0084.jp2/full/1338,1844/0/default.jpg',\n",
       " 'https://iiif.wellcomecollection.org/image/b22007611_0051.jp2/full/1338,2093/0/default.jpg',\n",
       " 'https://iiif.wellcomecollection.org/image/b19012676_0049.jp2/full/1338,1934/0/default.jpg',\n",
       " 'https://iiif.wellcomecollection.org/image/b32274750_0030.jp2/full/1338,2265/0/default.jpg',\n",
       " 'https://iiif.wellcomecollection.org/image/b28705804_0351.jp2/full/1338,2132/0/default.jpg',\n",
       " 'https://iiif.wellcomecollection.org/image/b28705427_0072.jp2/full/1338,2253/0/default.jpg',\n",
       " 'https://iiif.wellcomecollection.org/image/b28705737_0373.jp2/full/1338,2157/0/default.jpg',\n",
       " 'https://iiif.wellcomecollection.org/image/b19202763_0082.jp2/full/1338,1824/0/default.jpg',\n",
       " 'https://iiif.wellcomecollection.org/image/b18729794_0345.jp2/full/1338,1786/0/default.jpg',\n",
       " 'https://iiif.wellcomecollection.org/image/b32274750_0259.jp2/full/1338,1849/0/default.jpg',\n",
       " 'https://iiif.wellcomecollection.org/image/b28976794_0442.jp2/full/1338,1704/0/default.jpg',\n",
       " 'https://iiif.wellcomecollection.org/image/b20224990_penrose_2_24_6_5_9_0023.JP2/full/1338,1681/0/default.jpg',\n",
       " 'https://iiif.wellcomecollection.org/image/b11058286_0685.jp2/full/3788,5396/0/default.jpg',\n",
       " 'https://iiif.wellcomecollection.org/image/b33537525_0168.jp2/full/1338,2051/0/default.jpg',\n",
       " 'https://iiif.wellcomecollection.org/image/b32274555_0144.jp2/full/1338,1942/0/default.jpg',\n",
       " 'https://iiif.wellcomecollection.org/image/b24391621_RET_1_5_1_67_0386.jp2/full/981,1024/0/default.jpg',\n",
       " 'https://iiif.wellcomecollection.org/image/b18576795_0627.jp2/full/1338,1946/0/default.jpg',\n",
       " 'https://iiif.wellcomecollection.org/image/b32274609_0051.jp2/full/1338,1854/0/default.jpg',\n",
       " 'https://iiif.wellcomecollection.org/image/b28976794_0504.jp2/full/1338,1704/0/default.jpg',\n",
       " 'https://iiif.wellcomecollection.org/image/b30540471_0473.jp2/full/1338,1949/0/default.jpg',\n",
       " 'https://iiif.wellcomecollection.org/image/b32274750_0204.jp2/full/1338,2101/0/default.jpg',\n",
       " 'https://iiif.wellcomecollection.org/image/b32274750_0243.jp2/full/1338,2015/0/default.jpg',\n",
       " 'https://iiif.wellcomecollection.org/image/b18597452_0016.jp2/full/1338,1673/0/default.jpg',\n",
       " 'https://iiif.wellcomecollection.org/image/b2867893x_0002.jp2/full/1007,1024/0/default.jpg',\n",
       " 'https://iiif.wellcomecollection.org/image/b32274658_0136.jp2/full/1338,1735/0/default.jpg',\n",
       " 'https://iiif.wellcomecollection.org/image/b22654896_DGH1_5_1_1_19_0004.JP2/full/977,1024/0/default.jpg',\n",
       " 'https://iiif.wellcomecollection.org/image/b32274580_0021.jp2/full/1338,1816/0/default.jpg',\n",
       " 'https://iiif.wellcomecollection.org/image/b14755117_0265.jp2/full/1338,1302/0/default.jpg',\n",
       " 'https://iiif.wellcomecollection.org/image/b32274634_0012.jp2/full/1338,1846/0/default.jpg',\n",
       " 'https://iiif.wellcomecollection.org/image/b33517721_0003.jp2/full/1338,1799/0/default.jpg',\n",
       " 'https://iiif.wellcomecollection.org/image/b14846275_0066.jp2/full/1338,2102/0/default.jpg',\n",
       " 'https://iiif.wellcomecollection.org/image/b28705889_0129.jp2/full/1338,1914/0/default.jpg',\n",
       " 'https://iiif.wellcomecollection.org/image/b19175346_0001.jp2/full/1338,1521/0/default.jpg',\n",
       " 'https://iiif.wellcomecollection.org/image/b33068689_0007.jp2/full/1338,1705/0/default.jpg',\n",
       " 'https://iiif.wellcomecollection.org/image/b24954639_RET_6_19_1_83_0035.jp2/full/1020,1024/0/default.jpg',\n",
       " 'https://iiif.wellcomecollection.org/image/b18576795_0634.jp2/full/1338,1988/0/default.jpg',\n",
       " 'https://iiif.wellcomecollection.org/image/b3222641x_0028.jp2/full/999,1024/0/default.jpg',\n",
       " 'https://iiif.wellcomecollection.org/image/b28704733_0228.jp2/full/1338,2386/0/default.jpg',\n",
       " 'https://iiif.wellcomecollection.org/image/b24937356_RET_3_3_2_12_0164.jp2/full/1024,990/0/default.jpg',\n",
       " 'https://iiif.wellcomecollection.org/image/b11058286_0689.jp2/full/3788,5396/0/default.jpg',\n",
       " 'https://iiif.wellcomecollection.org/image/b10109432_hin-wel-all-00000036_0209.jp2/full/1338,1824/0/default.jpg',\n",
       " 'https://iiif.wellcomecollection.org/image/b28705579_0229.jp2/full/1338,1946/0/default.jpg',\n",
       " 'https://iiif.wellcomecollection.org/image/b11058286_0817.jp2/full/3680,5396/0/default.jpg',\n",
       " 'https://iiif.wellcomecollection.org/image/b19237005_0217.jp2/full/1338,1643/0/default.jpg',\n",
       " 'https://iiif.wellcomecollection.org/image/b28705804_0218.jp2/full/1338,2102/0/default.jpg',\n",
       " 'https://iiif.wellcomecollection.org/image/b3185445x_0051.jp2/full/998,1024/0/default.jpg',\n",
       " 'https://iiif.wellcomecollection.org/image/b19177136_0024.jp2/full/1338,1601/0/default.jpg',\n",
       " 'https://iiif.wellcomecollection.org/image/b22654860_DGH1_5_27_6_0009.JP2/full/981,1024/0/default.jpg',\n",
       " 'https://iiif.wellcomecollection.org/image/b32274658_0094.jp2/full/1338,1766/0/default.jpg',\n",
       " 'https://iiif.wellcomecollection.org/image/b29227021_3473_3_2_0407.jp2/full/1024,998/0/default.jpg',\n",
       " 'https://iiif.wellcomecollection.org/image/b10109432_hin-wel-all-00000036_0256.jp2/full/1338,1765/0/default.jpg',\n",
       " 'https://iiif.wellcomecollection.org/image/b28705889_0326.jp2/full/1338,1844/0/default.jpg',\n",
       " 'https://iiif.wellcomecollection.org/image/b14846275_0075.jp2/full/1338,1932/0/default.jpg',\n",
       " 'https://iiif.wellcomecollection.org/image/b19676736_0388.jp2/full/1338,1999/0/default.jpg',\n",
       " 'https://iiif.wellcomecollection.org/image/b14827931_0013.jp2/full/1338,1771/0/default.jpg',\n",
       " 'https://iiif.wellcomecollection.org/image/b30634672_0134.jp2/full/1338,1639/0/default.jpg',\n",
       " 'https://iiif.wellcomecollection.org/image/b28705269_0059.jp2/full/1338,1769/0/default.jpg',\n",
       " 'https://iiif.wellcomecollection.org/image/b14827827_0040.jp2/full/1338,1931/0/default.jpg',\n",
       " 'https://iiif.wellcomecollection.org/image/b14846275_0626.jp2/full/1338,1984/0/default.jpg',\n",
       " 'https://iiif.wellcomecollection.org/image/b19237005_0351.jp2/full/1338,1544/0/default.jpg',\n",
       " 'https://iiif.wellcomecollection.org/image/b18896042_MS_2799_0198.JP2/full/981,1024/0/default.jpg',\n",
       " 'https://iiif.wellcomecollection.org/image/b20616223_galton_1_2_7_1_2_0003.JP2/full/1024,1005/0/default.jpg',\n",
       " 'https://iiif.wellcomecollection.org/image/b2022476x_penrose_2_24_6_2_1_0110.JP2/full/1338,1714/0/default.jpg',\n",
       " 'https://iiif.wellcomecollection.org/image/b32274683_0015.jp2/full/1338,1720/0/default.jpg',\n",
       " 'https://iiif.wellcomecollection.org/image/b32274683_0107.jp2/full/1338,1669/0/default.jpg',\n",
       " 'https://iiif.wellcomecollection.org/image/b24937356_RET_3_3_2_12_0818.jp2/full/1017,1024/0/default.jpg',\n",
       " 'https://iiif.wellcomecollection.org/image/b30540471_0108.jp2/full/1338,2045/0/default.jpg',\n",
       " 'https://iiif.wellcomecollection.org/image/b32274646_0003.jp2/full/1338,1934/0/default.jpg',\n",
       " 'https://iiif.wellcomecollection.org/image/b14827712_0071.jp2/full/1338,2014/0/default.jpg',\n",
       " 'https://iiif.wellcomecollection.org/image/b28705889_0163.jp2/full/1338,1920/0/default.jpg',\n",
       " 'https://iiif.wellcomecollection.org/image/b18318162_0159.jp2/full/1338,1897/0/default.jpg',\n",
       " 'https://iiif.wellcomecollection.org/image/b28705646_0178.jp2/full/1338,2234/0/default.jpg',\n",
       " 'https://iiif.wellcomecollection.org/image/b19371810_0021.jp2/full/1338,867/0/default.jpg',\n",
       " 'https://iiif.wellcomecollection.org/image/b18576795_0585.jp2/full/1338,1991/0/default.jpg',\n",
       " 'https://iiif.wellcomecollection.org/image/b19115556_ramc_1242_7_0057.JP2/full/1022,1024/0/default.jpg',\n",
       " 'https://iiif.wellcomecollection.org/image/b28704733_0143.jp2/full/1338,2441/0/default.jpg',\n",
       " 'https://iiif.wellcomecollection.org/image/b32274555_0462.jp2/full/1338,1939/0/default.jpg',\n",
       " 'https://iiif.wellcomecollection.org/image/b32274592_0098.jp2/full/1338,1902/0/default.jpg',\n",
       " 'https://iiif.wellcomecollection.org/image/b19603046_0114.jp2/full/1338,1896/0/default.jpg',\n",
       " 'https://iiif.wellcomecollection.org/image/b19115556_ramc_1242_7_0055.JP2/full/1020,1024/0/default.jpg',\n",
       " 'https://iiif.wellcomecollection.org/image/b31685717_0017.jp2/full/1338,1739/0/default.jpg',\n",
       " 'https://iiif.wellcomecollection.org/image/b28705889_0124.jp2/full/1338,1844/0/default.jpg',\n",
       " 'https://iiif.wellcomecollection.org/image/b11058286_0707.jp2/full/3788,5396/0/default.jpg',\n",
       " 'https://iiif.wellcomecollection.org/image/b28704733_0435.jp2/full/1338,2418/0/default.jpg',\n",
       " 'https://iiif.wellcomecollection.org/image/b19311904_0141.jp2/full/1338,1812/0/default.jpg',\n",
       " 'https://iiif.wellcomecollection.org/image/b18318162_0320.jp2/full/1338,1827/0/default.jpg',\n",
       " 'https://iiif.wellcomecollection.org/image/b19177136_0304.jp2/full/1338,1598/0/default.jpg',\n",
       " 'https://iiif.wellcomecollection.org/image/b11148366_hin-wel-all-00003449_0293.jp2/full/1021,1024/0/default.jpg',\n",
       " 'https://iiif.wellcomecollection.org/image/b32274658_0095.jp2/full/1338,1749/0/default.jpg',\n",
       " 'https://iiif.wellcomecollection.org/image/b14565377_0098.jp2/full/1013,1024/0/default.jpg',\n",
       " 'https://iiif.wellcomecollection.org/image/b32274750_0006.jp2/full/1338,2214/0/default.jpg',\n",
       " 'https://iiif.wellcomecollection.org/image/b32274592_0001.jp2/full/1338,1851/0/default.jpg',\n",
       " 'https://iiif.wellcomecollection.org/image/b20626071_galton_02_10_09_06_0006.JP2/full/1024,981/0/default.jpg',\n",
       " 'https://iiif.wellcomecollection.org/image/b3168581x_0025.jp2/full/1338,1715/0/default.jpg',\n",
       " 'https://iiif.wellcomecollection.org/image/b1220190x_hin-wel-all-00000040_0129.jp2/full/1338,1835/0/default.jpg',\n",
       " 'https://iiif.wellcomecollection.org/image/b11058286_0743.jp2/full/3776,5396/0/default.jpg',\n",
       " 'https://iiif.wellcomecollection.org/image/b18418272_0093.jp2/full/1338,1552/0/default.jpg',\n",
       " 'https://iiif.wellcomecollection.org/image/b32274774_0065.jp2/full/1338,1828/0/default.jpg',\n",
       " 'https://iiif.wellcomecollection.org/image/b18758897_0042.jp2/full/1338,1853/0/default.jpg',\n",
       " 'https://iiif.wellcomecollection.org/image/b31854345_0040.jp2/full/1024,1015/0/default.jpg',\n",
       " 'https://iiif.wellcomecollection.org/image/b11058286_0224.jp2/full/3756,5384/0/default.jpg',\n",
       " 'https://iiif.wellcomecollection.org/image/b19202763_0253.jp2/full/1338,1824/0/default.jpg',\n",
       " 'https://iiif.wellcomecollection.org/image/b32274750_0244.jp2/full/1338,1872/0/default.jpg',\n",
       " 'https://iiif.wellcomecollection.org/image/b18417383_0227.jp2/full/1338,1702/0/default.jpg',\n",
       " 'https://iiif.wellcomecollection.org/image/b20618372_galton_03_03_22_17_0385.JP2/full/1024,1009/0/default.jpg',\n",
       " 'https://iiif.wellcomecollection.org/image/b20623859_galton_2_8_1_9_2_0157.JP2/full/994,1024/0/default.jpg',\n",
       " 'https://iiif.wellcomecollection.org/image/b14565377_0048.jp2/full/1022,1024/0/default.jpg',\n",
       " 'https://iiif.wellcomecollection.org/image/b19108801_0128.jp2/full/1338,1582/0/default.jpg',\n",
       " 'https://iiif.wellcomecollection.org/image/b22007611_0064.jp2/full/1338,2141/0/default.jpg',\n",
       " 'https://iiif.wellcomecollection.org/image/b18576795_0687.jp2/full/1338,2028/0/default.jpg',\n",
       " 'https://iiif.wellcomecollection.org/image/b28976794_0187.jp2/full/1338,1640/0/default.jpg',\n",
       " 'https://iiif.wellcomecollection.org/image/b28704903_0734.jp2/full/986,1024/0/default.jpg',\n",
       " 'https://iiif.wellcomecollection.org/image/b19287355_0135.jp2/full/1338,1621/0/default.jpg',\n",
       " 'https://iiif.wellcomecollection.org/image/b32274804_0041.jp2/full/1338,2090/0/default.jpg',\n",
       " 'https://iiif.wellcomecollection.org/image/b28976794_0121.jp2/full/1338,1640/0/default.jpg',\n",
       " 'https://iiif.wellcomecollection.org/image/b24938580_RET_3_3_2_15_0911.jp2/full/1024,986/0/default.jpg',\n",
       " 'https://iiif.wellcomecollection.org/image/b19175346_0026.jp2/full/1338,1531/0/default.jpg',\n",
       " 'https://iiif.wellcomecollection.org/image/b32274610_0019.jp2/full/1338,1786/0/default.jpg',\n",
       " 'https://iiif.wellcomecollection.org/image/b18501758_RAMC_1991_0003.jp2/full/1024,1008/0/default.jpg',\n",
       " 'https://iiif.wellcomecollection.org/image/b30540471_0259.jp2/full/1338,2054/0/default.jpg',\n",
       " 'https://iiif.wellcomecollection.org/image/b33382827_0001.jp2/full/1338,1714/0/default.jpg',\n",
       " 'https://iiif.wellcomecollection.org/image/b28976794_0297.jp2/full/1338,1640/0/default.jpg',\n",
       " 'https://iiif.wellcomecollection.org/image/b28705737_0029.jp2/full/1338,2104/0/default.jpg',\n",
       " 'https://iiif.wellcomecollection.org/image/b28705804_0198.jp2/full/1338,2102/0/default.jpg',\n",
       " 'https://iiif.wellcomecollection.org/image/b28976794_0348.jp2/full/1338,1704/0/default.jpg',\n",
       " 'https://iiif.wellcomecollection.org/image/b31854497_0036.jp2/full/1004,1024/0/default.jpg',\n",
       " 'https://iiif.wellcomecollection.org/image/b32274750_0005.jp2/full/1338,2091/0/default.jpg',\n",
       " 'https://iiif.wellcomecollection.org/image/b18729794_0039.jp2/full/1338,1775/0/default.jpg',\n",
       " 'https://iiif.wellcomecollection.org/image/b33508392_0001.jp2/full/1338,2089/0/default.jpg',\n",
       " 'https://iiif.wellcomecollection.org/image/b28705737_0354.jp2/full/1338,2011/0/default.jpg',\n",
       " 'https://iiif.wellcomecollection.org/image/b19676736_0143.jp2/full/1338,1801/0/default.jpg',\n",
       " 'https://iiif.wellcomecollection.org/image/b28704733_0568.jp2/full/1338,2294/0/default.jpg',\n",
       " 'https://iiif.wellcomecollection.org/image/b24937757_RET_3_3_2_5_0170.jp2/full/1024,1002/0/default.jpg',\n",
       " 'https://iiif.wellcomecollection.org/image/b32274774_0168.jp2/full/1338,1820/0/default.jpg',\n",
       " 'https://iiif.wellcomecollection.org/image/b32274750_0310.jp2/full/1338,2181/0/default.jpg',\n",
       " 'https://iiif.wellcomecollection.org/image/b18123533_0430.jp2/full/1338,1643/0/default.jpg',\n",
       " 'https://iiif.wellcomecollection.org/image/b32274592_0090.jp2/full/1338,1902/0/default.jpg',\n",
       " 'https://iiif.wellcomecollection.org/image/b14827712_0047.jp2/full/1338,1771/0/default.jpg',\n",
       " 'https://iiif.wellcomecollection.org/image/b33237785_0001.jp2/full/1338,2423/0/default.jpg',\n",
       " 'https://iiif.wellcomecollection.org/image/b20614548_galton_02_08_01_13_05_0018.JP2/full/980,1024/0/default.jpg',\n",
       " 'https://iiif.wellcomecollection.org/image/b11058286_0321.jp2/full/3860,5408/0/default.jpg',\n",
       " 'https://iiif.wellcomecollection.org/image/b19575397_0069.jp2/full/1338,894/0/default.jpg',\n",
       " 'https://iiif.wellcomecollection.org/image/b14755117_0066.jp2/full/1338,1351/0/default.jpg',\n",
       " 'https://iiif.wellcomecollection.org/image/b33517484_0001.jp2/full/1338,1978/0/default.jpg',\n",
       " 'https://iiif.wellcomecollection.org/image/b28704940_0451.jp2/full/1338,1525/0/default.jpg',\n",
       " 'https://iiif.wellcomecollection.org/image/b28704940_0674.jp2/full/1338,1505/0/default.jpg',\n",
       " 'https://iiif.wellcomecollection.org/image/b28705737_0122.jp2/full/1338,2082/0/default.jpg',\n",
       " 'https://iiif.wellcomecollection.org/image/b30540471_0278.jp2/full/1338,1968/0/default.jpg',\n",
       " 'https://iiif.wellcomecollection.org/image/b33230468_0001.jp2/full/1338,965/0/default.jpg',\n",
       " 'https://iiif.wellcomecollection.org/image/b3323713x_0001.jp2/full/1338,1482/0/default.jpg',\n",
       " 'https://iiif.wellcomecollection.org/image/b32274555_0467.jp2/full/1338,1939/0/default.jpg',\n",
       " 'https://iiif.wellcomecollection.org/image/b19177136_0259.jp2/full/1338,1523/0/default.jpg',\n",
       " 'https://iiif.wellcomecollection.org/image/b28704733_0344.jp2/full/1338,2288/0/default.jpg',\n",
       " 'https://iiif.wellcomecollection.org/image/b28976794_0410.jp2/full/1338,1704/0/default.jpg',\n",
       " 'https://iiif.wellcomecollection.org/image/b18576795_0953.jp2/full/1338,2021/0/default.jpg',\n",
       " 'https://iiif.wellcomecollection.org/image/b32274683_0056.jp2/full/1338,1530/0/default.jpg',\n",
       " 'https://iiif.wellcomecollection.org/image/b32274683_0093.jp2/full/1338,1642/0/default.jpg',\n",
       " 'https://iiif.wellcomecollection.org/image/b19909883_haldane_3_5_1_3_4_0001.JP2/full/1338,1629/0/default.jpg',\n",
       " 'https://iiif.wellcomecollection.org/image/b32274750_0273.jp2/full/1338,2056/0/default.jpg',\n",
       " 'https://iiif.wellcomecollection.org/image/b33375902_0001.jp2/full/1338,1840/0/default.jpg',\n",
       " 'https://iiif.wellcomecollection.org/image/b14828042_0024.jp2/full/1338,1995/0/default.jpg',\n",
       " 'https://iiif.wellcomecollection.org/image/b3227466x_0014.jp2/full/1338,1777/0/default.jpg',\n",
       " 'https://iiif.wellcomecollection.org/image/b28704630_0017.jp2/full/1338,2032/0/default.jpg',\n",
       " 'https://iiif.wellcomecollection.org/image/b18123533_0189.jp2/full/1338,1753/0/default.jpg',\n",
       " 'https://iiif.wellcomecollection.org/image/b2022476x_penrose_2_24_6_2_1_0089.JP2/full/1338,1707/0/default.jpg',\n",
       " 'https://iiif.wellcomecollection.org/image/b28665028_0002.jp2/full/1024,1021/0/default.jpg',\n",
       " 'https://iiif.wellcomecollection.org/image/b28705853_0029.jp2/full/1338,2270/0/default.jpg',\n",
       " 'https://iiif.wellcomecollection.org/image/b33237384_0001.jp2/full/1338,1391/0/default.jpg',\n",
       " 'https://iiif.wellcomecollection.org/image/b28704733_0714.jp2/full/1338,2314/0/default.jpg',\n",
       " 'https://iiif.wellcomecollection.org/image/b20297105_WMS_Arabic_440_0001.jp2/full/1000,1024/0/default.jpg',\n",
       " 'https://iiif.wellcomecollection.org/image/b28705786_0496.jp2/full/1338,1657/0/default.jpg',\n",
       " 'https://iiif.wellcomecollection.org/image/b28704630_0210.jp2/full/1338,1993/0/default.jpg',\n",
       " 'https://iiif.wellcomecollection.org/image/b32274750_0278.jp2/full/1338,1777/0/default.jpg',\n",
       " 'https://iiif.wellcomecollection.org/image/b19505061_0563.jp2/full/1338,1795/0/default.jpg',\n",
       " 'https://iiif.wellcomecollection.org/image/b3227466x_0048.jp2/full/1338,1693/0/default.jpg',\n",
       " 'https://iiif.wellcomecollection.org/image/b24940069_RET_3_3_2_4_1801.jp2/full/1024,992/0/default.jpg',\n",
       " 'https://iiif.wellcomecollection.org/image/b18693441_0528.jp2/full/1338,1991/0/default.jpg',\n",
       " 'https://iiif.wellcomecollection.org/image/b19575397_0078.jp2/full/1338,2002/0/default.jpg',\n",
       " 'https://iiif.wellcomecollection.org/image/b31854461_0053.jp2/full/1016,1024/0/default.jpg',\n",
       " 'https://iiif.wellcomecollection.org/image/b3323601x_0001.jp2/full/1338,1500/0/default.jpg',\n",
       " 'https://iiif.wellcomecollection.org/image/b19314164_0187.jp2/full/1338,1534/0/default.jpg',\n",
       " 'https://iiif.wellcomecollection.org/image/b18896042_MS_2799_0306.JP2/full/1005,1024/0/default.jpg',\n",
       " 'https://iiif.wellcomecollection.org/image/b32274750_0009.jp2/full/1338,2250/0/default.jpg',\n",
       " 'https://iiif.wellcomecollection.org/image/b2022476x_penrose_2_24_6_2_3_0023.JP2/full/1338,2112/0/default.jpg',\n",
       " 'https://iiif.wellcomecollection.org/image/b32274816_0016.jp2/full/1338,2214/0/default.jpg',\n",
       " 'https://iiif.wellcomecollection.org/image/b33537525_0292.jp2/full/1338,2058/0/default.jpg',\n",
       " 'https://iiif.wellcomecollection.org/image/b30540471_0202.jp2/full/1338,1968/0/default.jpg',\n",
       " 'https://iiif.wellcomecollection.org/image/b18758897_0255.jp2/full/1338,1696/0/default.jpg',\n",
       " 'https://iiif.wellcomecollection.org/image/b32274750_0208.jp2/full/1338,2079/0/default.jpg',\n",
       " 'https://iiif.wellcomecollection.org/image/b19443262_0013.jp2/full/1338,2101/0/default.jpg',\n",
       " 'https://iiif.wellcomecollection.org/image/b28705038_0274.jp2/full/1338,1986/0/default.jpg',\n",
       " 'https://iiif.wellcomecollection.org/image/b18309033_ms_6588_0092.JP2/full/984,1024/0/default.jpg',\n",
       " 'https://iiif.wellcomecollection.org/image/b18504875_ramc_1242_3_0038.JP2/full/1017,1024/0/default.jpg',\n",
       " 'https://iiif.wellcomecollection.org/image/b30448335_0038.jp2/full/1338,1701/0/default.jpg',\n",
       " 'https://iiif.wellcomecollection.org/image/b18318162_0200.jp2/full/1338,1878/0/default.jpg',\n",
       " 'https://iiif.wellcomecollection.org/image/b32274609_0074.jp2/full/1338,771/0/default.jpg',\n",
       " 'https://iiif.wellcomecollection.org/image/b33376281_0001.jp2/full/1338,1860/0/default.jpg',\n",
       " 'https://iiif.wellcomecollection.org/image/b32274555_0299.jp2/full/1338,1954/0/default.jpg',\n",
       " 'https://iiif.wellcomecollection.org/image/b14836828_0169.jp2/full/1024,1009/0/default.jpg',\n",
       " 'https://iiif.wellcomecollection.org/image/b18597452_0046.jp2/full/1338,1636/0/default.jpg',\n",
       " 'https://iiif.wellcomecollection.org/image/b28705889_0036.jp2/full/1338,1977/0/default.jpg',\n",
       " 'https://iiif.wellcomecollection.org/image/b19012676_0183.jp2/full/1338,1878/0/default.jpg',\n",
       " 'https://iiif.wellcomecollection.org/image/b32274634_0027.jp2/full/1338,1907/0/default.jpg',\n",
       " 'https://iiif.wellcomecollection.org/image/b10916180_hin-wel-all-00012288_0154.jp2/full/1024,1007/0/default.jpg',\n",
       " 'https://iiif.wellcomecollection.org/image/b28704940_0813.jp2/full/1338,1570/0/default.jpg',\n",
       " 'https://iiif.wellcomecollection.org/image/b33514744_0001.jp2/full/1338,973/0/default.jpg',\n",
       " 'https://iiif.wellcomecollection.org/image/b10109432_hin-wel-all-00000036_0217.jp2/full/1338,1836/0/default.jpg',\n",
       " 'https://iiif.wellcomecollection.org/image/b31854461_0037.jp2/full/1016,1024/0/default.jpg',\n",
       " 'https://iiif.wellcomecollection.org/image/b12177453_hin-wel-all-00012464_0163.jp2/full/1010,1024/0/default.jpg',\n",
       " 'https://iiif.wellcomecollection.org/image/b22007611_0305.jp2/full/1338,2108/0/default.jpg',\n",
       " 'https://iiif.wellcomecollection.org/image/b19443262_0002.jp2/full/1338,1682/0/default.jpg',\n",
       " 'https://iiif.wellcomecollection.org/image/b18576795_0192.jp2/full/1338,2052/0/default.jpg',\n",
       " 'https://iiif.wellcomecollection.org/image/b33231461_0001.jp2/full/1338,1779/0/default.jpg',\n",
       " 'https://iiif.wellcomecollection.org/image/b21899770_ret_1_1_5_16_0086.JP2/full/1024,992/0/default.jpg',\n",
       " 'https://iiif.wellcomecollection.org/image/b32274750_0040.jp2/full/1338,2167/0/default.jpg',\n",
       " 'https://iiif.wellcomecollection.org/image/b32274750_0333.jp2/full/1338,2174/0/default.jpg',\n",
       " 'https://iiif.wellcomecollection.org/image/b18693441_0204.jp2/full/1338,2044/0/default.jpg',\n",
       " 'https://iiif.wellcomecollection.org/image/b32274555_0027.jp2/full/1338,1971/0/default.jpg',\n",
       " 'https://iiif.wellcomecollection.org/image/b32274750_0157.jp2/full/1338,1958/0/default.jpg',\n",
       " 'https://iiif.wellcomecollection.org/image/b14846275_0483.jp2/full/1338,2002/0/default.jpg',\n",
       " 'https://iiif.wellcomecollection.org/image/b28976794_0529.jp2/full/1338,2007/0/default.jpg',\n",
       " 'https://iiif.wellcomecollection.org/image/b18693441_0131.jp2/full/1338,1981/0/default.jpg',\n",
       " 'https://iiif.wellcomecollection.org/image/b28684266_0003.jp2/full/1024,1014/0/default.jpg',\n",
       " 'https://iiif.wellcomecollection.org/image/b28705038_0202.jp2/full/1338,1986/0/default.jpg',\n",
       " 'https://iiif.wellcomecollection.org/image/b18576795_0322.jp2/full/1338,2096/0/default.jpg',\n",
       " 'https://iiif.wellcomecollection.org/image/b31854448_0038.jp2/full/997,1024/0/default.jpg',\n",
       " 'https://iiif.wellcomecollection.org/image/b32274774_0014.jp2/full/1338,1817/0/default.jpg',\n",
       " 'https://iiif.wellcomecollection.org/image/b32274750_0184.jp2/full/1338,2166/0/default.jpg',\n",
       " 'https://iiif.wellcomecollection.org/image/b28704940_0335.jp2/full/1338,1525/0/default.jpg',\n",
       " 'https://iiif.wellcomecollection.org/image/b32274683_0031.jp2/full/1338,1684/0/default.jpg',\n",
       " 'https://iiif.wellcomecollection.org/image/b32231921_0003.jp2/full/1006,1024/0/default.jpg',\n",
       " 'https://iiif.wellcomecollection.org/image/b14846275_0037.jp2/full/1338,1927/0/default.jpg',\n",
       " 'https://iiif.wellcomecollection.org/image/b3168581x_0016.jp2/full/1338,1715/0/default.jpg',\n",
       " 'https://iiif.wellcomecollection.org/image/b14846275_0652.jp2/full/1338,1984/0/default.jpg',\n",
       " 'https://iiif.wellcomecollection.org/image/b18576795_0365.jp2/full/1338,1901/0/default.jpg',\n",
       " 'https://iiif.wellcomecollection.org/image/b28705646_0147.jp2/full/1338,2117/0/default.jpg',\n",
       " 'https://iiif.wellcomecollection.org/image/b32274580_0004.jp2/full/1338,1819/0/default.jpg',\n",
       " 'https://iiif.wellcomecollection.org/image/b33068689_0005.jp2/full/1338,1690/0/default.jpg',\n",
       " 'https://iiif.wellcomecollection.org/image/b32274762_0013.jp2/full/1338,1814/0/default.jpg',\n",
       " 'https://iiif.wellcomecollection.org/image/b32274750_0364.jp2/full/1338,2213/0/default.jpg',\n",
       " 'https://iiif.wellcomecollection.org/image/b19177136_0295.jp2/full/1338,1535/0/default.jpg',\n",
       " 'https://iiif.wellcomecollection.org/image/b32274579_0009.jp2/full/1338,1784/0/default.jpg',\n",
       " 'https://iiif.wellcomecollection.org/image/b11058286_0680.jp2/full/3960,5420/0/default.jpg',\n",
       " 'https://iiif.wellcomecollection.org/image/b2022476x_penrose_2_24_6_2_1_0046.JP2/full/1338,1700/0/default.jpg',\n",
       " 'https://iiif.wellcomecollection.org/image/b28705774_0063.jp2/full/1338,2067/0/default.jpg',\n",
       " 'https://iiif.wellcomecollection.org/image/b28704733_0039.jp2/full/1338,2455/0/default.jpg',\n",
       " 'https://iiif.wellcomecollection.org/image/b33585489_0241.jp2/full/1338,2037/0/default.jpg',\n",
       " 'https://iiif.wellcomecollection.org/image/b18318162_0027.jp2/full/1338,1940/0/default.jpg',\n",
       " 'https://iiif.wellcomecollection.org/image/b33537525_0629.jp2/full/1338,1992/0/default.jpg',\n",
       " 'https://iiif.wellcomecollection.org/image/b10916180_hin-wel-all-00012288_0152.jp2/full/1024,1010/0/default.jpg',\n",
       " 'https://iiif.wellcomecollection.org/image/b28705804_0197.jp2/full/1338,2101/0/default.jpg',\n",
       " 'https://iiif.wellcomecollection.org/image/b32274750_0348.jp2/full/1338,2205/0/default.jpg',\n",
       " 'https://iiif.wellcomecollection.org/image/b1220190x_hin-wel-all-00000040_0107.jp2/full/1338,1840/0/default.jpg',\n",
       " 'https://iiif.wellcomecollection.org/image/b18576795_0819.jp2/full/1338,1862/0/default.jpg',\n",
       " 'https://iiif.wellcomecollection.org/image/b33510854_0001.jp2/full/1338,1166/0/default.jpg',\n",
       " 'https://iiif.wellcomecollection.org/image/b18729794_0235.jp2/full/1338,1802/0/default.jpg',\n",
       " 'https://iiif.wellcomecollection.org/image/b28705786_0512.jp2/full/1338,1663/0/default.jpg',\n",
       " 'https://iiif.wellcomecollection.org/image/b19692249_0005.jp2/full/1338,1785/0/default.jpg',\n",
       " 'https://iiif.wellcomecollection.org/image/b29277504_RET_6_20_1_10_15_0077.jp2/full/981,1024/0/default.jpg',\n",
       " 'https://iiif.wellcomecollection.org/image/b32274683_0095.jp2/full/1338,1654/0/default.jpg',\n",
       " 'https://iiif.wellcomecollection.org/image/b32274609_0038.jp2/full/1338,1830/0/default.jpg',\n",
       " 'https://iiif.wellcomecollection.org/image/b24963276_RET_3_3_2_9_0179.jp2/full/1024,1007/0/default.jpg',\n",
       " 'https://iiif.wellcomecollection.org/image/b30634672_0047.jp2/full/1338,1646/0/default.jpg',\n",
       " 'https://iiif.wellcomecollection.org/image/b33585489_0314.jp2/full/1338,2030/0/default.jpg',\n",
       " 'https://iiif.wellcomecollection.org/image/b22488169_RET_1_5_1_56_0495.jp2/full/1024,996/0/default.jpg',\n",
       " 'https://iiif.wellcomecollection.org/image/b2493625x_RET_3_3_2_16_1717.jp2/full/1001,1024/0/default.jpg',\n",
       " 'https://iiif.wellcomecollection.org/image/b19606047_MS_7747_0206.JP2/full/997,1024/0/default.jpg',\n",
       " 'https://iiif.wellcomecollection.org/image/b3337532x_0001.jp2/full/1338,1600/0/default.jpg',\n",
       " 'https://iiif.wellcomecollection.org/image/b33537525_0369.jp2/full/1338,2028/0/default.jpg',\n",
       " 'https://iiif.wellcomecollection.org/image/b28705786_0055.jp2/full/1338,1670/0/default.jpg',\n",
       " 'https://iiif.wellcomecollection.org/image/b19576523_0164.jp2/full/1338,1596/0/default.jpg',\n",
       " 'https://iiif.wellcomecollection.org/image/b33335242_0001.jp2/full/1338,1172/0/default.jpg',\n",
       " 'https://iiif.wellcomecollection.org/image/b18576795_0731.jp2/full/1338,1965/0/default.jpg',\n",
       " 'https://iiif.wellcomecollection.org/image/b19575397_0083.jp2/full/1338,2008/0/default.jpg',\n",
       " 'https://iiif.wellcomecollection.org/image/b28704940_0790.jp2/full/1338,1460/0/default.jpg',\n",
       " 'https://iiif.wellcomecollection.org/image/b33380107_0001.jp2/full/1338,2229/0/default.jpg',\n",
       " 'https://iiif.wellcomecollection.org/image/b11058286_0682.jp2/full/3960,5432/0/default.jpg',\n",
       " 'https://iiif.wellcomecollection.org/image/b32274634_0015.jp2/full/1338,1948/0/default.jpg',\n",
       " 'https://iiif.wellcomecollection.org/image/b28705889_0123.jp2/full/1338,1914/0/default.jpg',\n",
       " 'https://iiif.wellcomecollection.org/image/b18418272_0004.jp2/full/1338,1548/0/default.jpg',\n",
       " 'https://iiif.wellcomecollection.org/image/b32274592_0097.jp2/full/1338,1944/0/default.jpg',\n",
       " 'https://iiif.wellcomecollection.org/image/b1220190x_hin-wel-all-00000040_0064.jp2/full/1338,1792/0/default.jpg',\n",
       " 'https://iiif.wellcomecollection.org/image/b28705853_0016.jp2/full/1338,2249/0/default.jpg',\n",
       " 'https://iiif.wellcomecollection.org/image/b28705786_0117.jp2/full/1338,1612/0/default.jpg',\n",
       " 'https://iiif.wellcomecollection.org/image/b20387878_0072.jp2/full/1338,1741/0/default.jpg',\n",
       " 'https://iiif.wellcomecollection.org/image/b19576523_0243.jp2/full/1338,1537/0/default.jpg',\n",
       " 'https://iiif.wellcomecollection.org/image/b28705269_0012.jp2/full/1338,1815/0/default.jpg',\n",
       " 'https://iiif.wellcomecollection.org/image/b18896042_MS_2799_0254.JP2/full/998,1024/0/default.jpg',\n",
       " 'https://iiif.wellcomecollection.org/image/b19443262_0031.jp2/full/1338,2103/0/default.jpg',\n",
       " 'https://iiif.wellcomecollection.org/image/b31854382_0042.jp2/full/986,1024/0/default.jpg',\n",
       " 'https://iiif.wellcomecollection.org/image/b32274816_0014.jp2/full/1338,2258/0/default.jpg',\n",
       " 'https://iiif.wellcomecollection.org/image/b32274750_0179.jp2/full/1338,1997/0/default.jpg',\n",
       " 'https://iiif.wellcomecollection.org/image/b20166187_ramc_738_2_0002.JP2/full/1024,985/0/default.jpg',\n",
       " 'https://iiif.wellcomecollection.org/image/b33371349_0001.jp2/full/1338,1705/0/default.jpg',\n",
       " 'https://iiif.wellcomecollection.org/image/b28704733_0280.jp2/full/1338,2317/0/default.jpg',\n",
       " 'https://iiif.wellcomecollection.org/image/b28976794_0482.jp2/full/1338,1704/0/default.jpg',\n",
       " 'https://iiif.wellcomecollection.org/image/b28705774_0030.jp2/full/1338,2107/0/default.jpg',\n",
       " 'https://iiif.wellcomecollection.org/image/b32274634_0064.jp2/full/1338,1810/0/default.jpg',\n",
       " 'https://iiif.wellcomecollection.org/image/b18729265_0047.jp2/full/1338,1634/0/default.jpg',\n",
       " 'https://iiif.wellcomecollection.org/image/b33384186_0001.jp2/full/1338,2332/0/default.jpg',\n",
       " 'https://iiif.wellcomecollection.org/image/b28704940_0561.jp2/full/1338,1517/0/default.jpg',\n",
       " 'https://iiif.wellcomecollection.org/image/b19505061_0096.jp2/full/1338,1833/0/default.jpg',\n",
       " 'https://iiif.wellcomecollection.org/image/b28705038_0210.jp2/full/1338,1986/0/default.jpg',\n",
       " 'https://iiif.wellcomecollection.org/image/b30448335_0055.jp2/full/1338,1728/0/default.jpg',\n",
       " 'https://iiif.wellcomecollection.org/image/b33372822_0001.jp2/full/1338,1752/0/default.jpg',\n",
       " 'https://iiif.wellcomecollection.org/image/b28705889_0030.jp2/full/1338,1873/0/default.jpg',\n",
       " 'https://iiif.wellcomecollection.org/image/b19237005_0472.jp2/full/1338,1470/0/default.jpg',\n",
       " 'https://iiif.wellcomecollection.org/image/b33068690_0101.jp2/full/1338,1746/0/default.jpg',\n",
       " 'https://iiif.wellcomecollection.org/image/b14755117_0245.jp2/full/1338,1314/0/default.jpg',\n",
       " 'https://iiif.wellcomecollection.org/image/b3222641x_0008.jp2/full/999,1024/0/default.jpg',\n",
       " 'https://iiif.wellcomecollection.org/image/b32274555_0133.jp2/full/1338,1904/0/default.jpg',\n",
       " 'https://iiif.wellcomecollection.org/image/b19237005_0520.jp2/full/1338,1592/0/default.jpg',\n",
       " 'https://iiif.wellcomecollection.org/image/b14846275_0014.jp2/full/1338,2118/0/default.jpg',\n",
       " 'https://iiif.wellcomecollection.org/image/b18576795_0361.jp2/full/1338,1932/0/default.jpg',\n",
       " 'https://iiif.wellcomecollection.org/image/b28976794_0042.jp2/full/1338,1685/0/default.jpg',\n",
       " 'https://iiif.wellcomecollection.org/image/b33337573_0001.jp2/full/1338,1793/0/default.jpg',\n",
       " 'https://iiif.wellcomecollection.org/image/b32274634_0088.jp2/full/1338,1842/0/default.jpg',\n",
       " 'https://iiif.wellcomecollection.org/image/b19505061_0419.jp2/full/1338,1725/0/default.jpg',\n",
       " 'https://iiif.wellcomecollection.org/image/b3168581x_0003.jp2/full/1338,1687/0/default.jpg',\n",
       " 'https://iiif.wellcomecollection.org/image/b12821457_hin-wel-all-00012567_0121.jp2/full/1004,1024/0/default.jpg',\n",
       " 'https://iiif.wellcomecollection.org/image/b22007611_0060.jp2/full/1338,2086/0/default.jpg',\n",
       " 'https://iiif.wellcomecollection.org/image/b33370540_0001.jp2/full/1338,1827/0/default.jpg',\n",
       " 'https://iiif.wellcomecollection.org/image/b32274580_0010.jp2/full/1338,1822/0/default.jpg',\n",
       " 'https://iiif.wellcomecollection.org/image/b3185445x_0018.jp2/full/1008,1024/0/default.jpg',\n",
       " 'https://iiif.wellcomecollection.org/image/b28704733_0696.jp2/full/1338,2304/0/default.jpg',\n",
       " 'https://iiif.wellcomecollection.org/image/b18423760_ramc_1242_2_0025.JP2/full/1024,1020/0/default.jpg',\n",
       " 'https://iiif.wellcomecollection.org/image/b19371810_0015.jp2/full/1338,1634/0/default.jpg',\n",
       " 'https://iiif.wellcomecollection.org/image/b32274634_0061.jp2/full/1338,1831/0/default.jpg',\n",
       " 'https://iiif.wellcomecollection.org/image/b22488066_RET_1_5_1_45_1148.jp2/full/990,1024/0/default.jpg',\n",
       " 'https://iiif.wellcomecollection.org/image/b19371810_0066.jp2/full/1338,1748/0/default.jpg',\n",
       " 'https://iiif.wellcomecollection.org/image/b18318162_0359.jp2/full/1338,1924/0/default.jpg',\n",
       " 'https://iiif.wellcomecollection.org/image/b28976794_0362.jp2/full/1338,1704/0/default.jpg',\n",
       " 'https://iiif.wellcomecollection.org/image/b32274555_0223.jp2/full/1338,2004/0/default.jpg',\n",
       " 'https://iiif.wellcomecollection.org/image/b33585489_0137.jp2/full/1338,2007/0/default.jpg',\n",
       " 'https://iiif.wellcomecollection.org/image/b32163575_0052.jp2/full/1003,1024/0/default.jpg',\n",
       " 'https://iiif.wellcomecollection.org/image/b28705786_0803.jp2/full/1338,1656/0/default.jpg',\n",
       " 'https://iiif.wellcomecollection.org/image/b28976794_0525.jp2/full/1338,2007/0/default.jpg',\n",
       " 'https://iiif.wellcomecollection.org/image/b11148366_hin-wel-all-00003449_0597.jp2/full/990,1024/0/default.jpg',\n",
       " 'https://iiif.wellcomecollection.org/image/b14846275_0184.jp2/full/1338,2035/0/default.jpg',\n",
       " 'https://iiif.wellcomecollection.org/image/b28705786_0038.jp2/full/1338,1711/0/default.jpg',\n",
       " 'https://iiif.wellcomecollection.org/image/b28704940_0307.jp2/full/1338,1525/0/default.jpg',\n",
       " 'https://iiif.wellcomecollection.org/image/b18123533_0543.jp2/full/1338,1871/0/default.jpg',\n",
       " 'https://iiif.wellcomecollection.org/image/b18932034_0188.jp2/full/1338,1861/0/default.jpg',\n",
       " 'https://iiif.wellcomecollection.org/image/b18417383_0183.jp2/full/1338,1655/0/default.jpg',\n",
       " 'https://iiif.wellcomecollection.org/image/b18504875_ramc_1242_3_0042.JP2/full/1024,1009/0/default.jpg',\n",
       " 'https://iiif.wellcomecollection.org/image/b18693441_0309.jp2/full/1338,2174/0/default.jpg',\n",
       " 'https://iiif.wellcomecollection.org/image/b28705737_0260.jp2/full/1338,1999/0/default.jpg',\n",
       " 'https://iiif.wellcomecollection.org/image/b19175346_0019.jp2/full/1338,1527/0/default.jpg',\n",
       " 'https://iiif.wellcomecollection.org/image/b32274750_0224.jp2/full/1338,2061/0/default.jpg',\n",
       " 'https://iiif.wellcomecollection.org/image/b33188087_0001.jp2/full/977,1024/0/default.jpg',\n",
       " 'https://iiif.wellcomecollection.org/image/b32274634_0100.jp2/full/1338,1887/0/default.jpg',\n",
       " 'https://iiif.wellcomecollection.org/image/b24936303_RET_3_3_1_12_0024.jp2/full/983,1024/0/default.jpg',\n",
       " 'https://iiif.wellcomecollection.org/image/b28704630_0010.jp2/full/1338,2081/0/default.jpg',\n",
       " 'https://iiif.wellcomecollection.org/image/b1220190x_hin-wel-all-00000040_0047.jp2/full/1338,2017/0/default.jpg',\n",
       " 'https://iiif.wellcomecollection.org/image/b2265415x_DGH1_5_1_1_17_0043.JP2/full/1008,1024/0/default.jpg',\n",
       " 'https://iiif.wellcomecollection.org/image/b33374004_0001.jp2/full/1338,2019/0/default.jpg',\n",
       " 'https://iiif.wellcomecollection.org/image/b18518588_WA_HMM_LI_Bks_65_0025.jp2/full/1024,979/0/default.jpg',\n",
       " 'https://iiif.wellcomecollection.org/image/b19175346_0199.jp2/full/1338,4676/0/default.jpg',\n",
       " 'https://iiif.wellcomecollection.org/image/b28705774_0075.jp2/full/1338,2067/0/default.jpg',\n",
       " 'https://iiif.wellcomecollection.org/image/b19576523_0178.jp2/full/1338,1605/0/default.jpg',\n",
       " 'https://iiif.wellcomecollection.org/image/b32274592_0146.jp2/full/1338,1844/0/default.jpg',\n",
       " 'https://iiif.wellcomecollection.org/image/b33231229_0001.jp2/full/1338,802/0/default.jpg',\n",
       " 'https://iiif.wellcomecollection.org/image/b18576795_0735.jp2/full/1338,1969/0/default.jpg',\n",
       " 'https://iiif.wellcomecollection.org/image/b19175346_0037.jp2/full/1338,1517/0/default.jpg',\n",
       " 'https://iiif.wellcomecollection.org/image/b18318162_0140.jp2/full/1338,1912/0/default.jpg',\n",
       " 'https://iiif.wellcomecollection.org/image/b14850047_wms_malay_2_b14850047_0017.JP2/full/1024,985/0/default.jpg',\n",
       " 'https://iiif.wellcomecollection.org/image/b31854424_0009.jp2/full/1019,1024/0/default.jpg',\n",
       " 'https://iiif.wellcomecollection.org/image/b32274695_0050.jp2/full/1338,1720/0/default.jpg',\n",
       " 'https://iiif.wellcomecollection.org/image/b19175346_0113.jp2/full/1338,1540/0/default.jpg',\n",
       " 'https://iiif.wellcomecollection.org/image/b18287517_ramc_1242_5_0036.JP2/full/1024,1021/0/default.jpg',\n",
       " 'https://iiif.wellcomecollection.org/image/b18576795_1019.jp2/full/1338,2022/0/default.jpg',\n",
       " 'https://iiif.wellcomecollection.org/image/b28705427_0220.jp2/full/1338,2151/0/default.jpg',\n",
       " 'https://iiif.wellcomecollection.org/image/b10109432_hin-wel-all-00000036_0161.jp2/full/1338,1814/0/default.jpg',\n",
       " 'https://iiif.wellcomecollection.org/image/b19692249_0003.jp2/full/1338,2002/0/default.jpg',\n",
       " 'https://iiif.wellcomecollection.org/image/b19505061_0135.jp2/full/1338,1708/0/default.jpg',\n",
       " 'https://iiif.wellcomecollection.org/image/b18318162_0189.jp2/full/1338,1895/0/default.jpg',\n",
       " 'https://iiif.wellcomecollection.org/image/b28705786_0456.jp2/full/1338,1601/0/default.jpg',\n",
       " 'https://iiif.wellcomecollection.org/image/b32274683_0114.jp2/full/1338,1516/0/default.jpg',\n",
       " 'https://iiif.wellcomecollection.org/image/b24949541_RET_3_3_2_8_0229.jp2/full/1024,1022/0/default.jpg',\n",
       " 'https://iiif.wellcomecollection.org/image/b19371810_0126.jp2/full/1338,1685/0/default.jpg',\n",
       " 'https://iiif.wellcomecollection.org/image/b19576523_0182.jp2/full/1338,1608/0/default.jpg',\n",
       " 'https://iiif.wellcomecollection.org/image/b28705646_0070.jp2/full/1338,2167/0/default.jpg',\n",
       " 'https://iiif.wellcomecollection.org/image/b3222641x_0005.jp2/full/1015,1024/0/default.jpg',\n",
       " 'https://iiif.wellcomecollection.org/image/b10109432_hin-wel-all-00000036_0230.jp2/full/1338,1711/0/default.jpg',\n",
       " 'https://iiif.wellcomecollection.org/image/b30496871_0001.JP2/full/1024,1015/0/default.jpg',\n",
       " 'https://iiif.wellcomecollection.org/image/b32274580_0044.jp2/full/1338,1765/0/default.jpg',\n",
       " 'https://iiif.wellcomecollection.org/image/b28704940_0261.jp2/full/1338,1541/0/default.jpg',\n",
       " 'https://iiif.wellcomecollection.org/image/b18693441_0406.jp2/full/1338,2079/0/default.jpg',\n",
       " 'https://iiif.wellcomecollection.org/image/b32274750_0234.jp2/full/1338,2023/0/default.jpg',\n",
       " 'https://iiif.wellcomecollection.org/image/b32274774_0013.jp2/full/1338,1762/0/default.jpg',\n",
       " 'https://iiif.wellcomecollection.org/image/b33537525_0475.jp2/full/1338,1973/0/default.jpg',\n",
       " 'https://iiif.wellcomecollection.org/image/b33376694_0001.jp2/full/1338,1759/0/default.jpg',\n",
       " 'https://iiif.wellcomecollection.org/image/b24940069_RET_3_3_2_4_1995.jp2/full/1024,989/0/default.jpg',\n",
       " 'https://iiif.wellcomecollection.org/image/b19191728_0153.jp2/full/1338,1689/0/default.jpg',\n",
       " 'https://iiif.wellcomecollection.org/image/b18758897_0125.jp2/full/1338,1859/0/default.jpg',\n",
       " 'https://iiif.wellcomecollection.org/image/b33238340_0001.jp2/full/1338,1748/0/default.jpg',\n",
       " 'https://iiif.wellcomecollection.org/image/b32274580_0023.jp2/full/1338,1845/0/default.jpg',\n",
       " 'https://iiif.wellcomecollection.org/image/b32231878_0027.jp2/full/996,1024/0/default.jpg',\n",
       " 'https://iiif.wellcomecollection.org/image/b18123533_0281.jp2/full/1338,1721/0/default.jpg',\n",
       " 'https://iiif.wellcomecollection.org/image/b19012676_0355.jp2/full/1338,1823/0/default.jpg',\n",
       " 'https://iiif.wellcomecollection.org/image/b28704733_0349.jp2/full/1338,2379/0/default.jpg',\n",
       " 'https://iiif.wellcomecollection.org/image/b18729794_0468.jp2/full/1338,1754/0/default.jpg',\n",
       " 'https://iiif.wellcomecollection.org/image/b24938257_RET_3_3_2_7_0922.jp2/full/1024,1022/0/default.jpg',\n",
       " 'https://iiif.wellcomecollection.org/image/b28704733_0351.jp2/full/1338,2379/0/default.jpg',\n",
       " 'https://iiif.wellcomecollection.org/image/b32274695_0006.jp2/full/1338,1741/0/default.jpg',\n",
       " 'https://iiif.wellcomecollection.org/image/b32274555_0303.jp2/full/1338,1953/0/default.jpg',\n",
       " 'https://iiif.wellcomecollection.org/image/b32274750_0193.jp2/full/1338,1922/0/default.jpg',\n",
       " 'https://iiif.wellcomecollection.org/image/b2022476x_penrose_2_24_6_2_3_0005.JP2/full/1338,2124/0/default.jpg',\n",
       " 'https://iiif.wellcomecollection.org/image/b2248792x_RET_1_5_1_28_0197.jp2/full/981,1024/0/default.jpg',\n",
       " 'https://iiif.wellcomecollection.org/image/b28704630_0143.jp2/full/1338,1907/0/default.jpg',\n",
       " 'https://iiif.wellcomecollection.org/image/b33174428_0001.jp2/full/991,1024/0/default.jpg',\n",
       " 'https://iiif.wellcomecollection.org/image/b22007611_0210.jp2/full/1338,2112/0/default.jpg',\n",
       " 'https://iiif.wellcomecollection.org/image/b19662397_0039.jp2/full/1338,1555/0/default.jpg',\n",
       " 'https://iiif.wellcomecollection.org/image/b22007611_0263.jp2/full/1338,2089/0/default.jpg',\n",
       " 'https://iiif.wellcomecollection.org/image/b18597452_0179.jp2/full/1338,1593/0/default.jpg',\n",
       " 'https://iiif.wellcomecollection.org/image/b18417383_0037.jp2/full/1338,1626/0/default.jpg',\n",
       " 'https://iiif.wellcomecollection.org/image/b18932034_0160.jp2/full/1338,1872/0/default.jpg',\n",
       " 'https://iiif.wellcomecollection.org/image/b11058286_0641.jp2/full/3800,5396/0/default.jpg',\n",
       " 'https://iiif.wellcomecollection.org/image/b32274695_0053.jp2/full/1338,1789/0/default.jpg',\n",
       " 'https://iiif.wellcomecollection.org/image/b28704940_0175.jp2/full/1338,1525/0/default.jpg',\n",
       " 'https://iiif.wellcomecollection.org/image/b14755117_0086.jp2/full/1338,1353/0/default.jpg',\n",
       " 'https://iiif.wellcomecollection.org/image/b32274683_0117.jp2/full/1338,1668/0/default.jpg',\n",
       " 'https://iiif.wellcomecollection.org/image/b28705579_0217.jp2/full/1338,1946/0/default.jpg',\n",
       " 'https://iiif.wellcomecollection.org/image/b32274658_0063.jp2/full/1338,1734/0/default.jpg',\n",
       " 'https://iiif.wellcomecollection.org/image/b28704940_0668.jp2/full/1338,1505/0/default.jpg',\n",
       " 'https://iiif.wellcomecollection.org/image/b18417383_0212.jp2/full/1338,1609/0/default.jpg',\n",
       " 'https://iiif.wellcomecollection.org/image/b32274750_0054.jp2/full/1338,2143/0/default.jpg',\n",
       " 'https://iiif.wellcomecollection.org/image/b19164828_MS_1819_0118.JP2/full/984,1024/0/default.jpg',\n",
       " 'https://iiif.wellcomecollection.org/image/b18597452_0035.jp2/full/1338,1632/0/default.jpg',\n",
       " 'https://iiif.wellcomecollection.org/image/b1856351x_0034.jp2/full/1338,1615/0/default.jpg',\n",
       " 'https://iiif.wellcomecollection.org/image/b28705786_0325.jp2/full/1338,1626/0/default.jpg',\n",
       " 'https://iiif.wellcomecollection.org/image/b19177136_0124.jp2/full/1338,1608/0/default.jpg',\n",
       " 'https://iiif.wellcomecollection.org/image/b19012676_0074.jp2/full/1338,1938/0/default.jpg',\n",
       " 'https://iiif.wellcomecollection.org/image/b32274609_0025.jp2/full/1338,1889/0/default.jpg',\n",
       " 'https://iiif.wellcomecollection.org/image/b33537525_0418.jp2/full/1338,2014/0/default.jpg',\n",
       " 'https://iiif.wellcomecollection.org/image/b28705427_0135.jp2/full/1338,2276/0/default.jpg',\n",
       " 'https://iiif.wellcomecollection.org/image/b18729794_0224.jp2/full/1338,1807/0/default.jpg',\n",
       " 'https://iiif.wellcomecollection.org/image/b18123533_0065.jp2/full/1338,1733/0/default.jpg',\n",
       " 'https://iiif.wellcomecollection.org/image/b28705889_0085.jp2/full/1338,1914/0/default.jpg',\n",
       " 'https://iiif.wellcomecollection.org/image/b33377352_0001.jp2/full/1338,1832/0/default.jpg',\n",
       " 'https://iiif.wellcomecollection.org/image/b18423760_ramc_1242_2_0032.JP2/full/1018,1024/0/default.jpg',\n",
       " 'https://iiif.wellcomecollection.org/image/b19237005_0356.jp2/full/1338,1560/0/default.jpg',\n",
       " 'https://iiif.wellcomecollection.org/image/b33340717_0001.jp2/full/1338,1314/0/default.jpg',\n",
       " 'https://iiif.wellcomecollection.org/image/b19175346_0018.jp2/full/1338,1522/0/default.jpg',\n",
       " 'https://iiif.wellcomecollection.org/image/b14755117_0051.jp2/full/1338,1322/0/default.jpg',\n",
       " 'https://iiif.wellcomecollection.org/image/b24954809_RET_6_19_1_147_1300.jp2/full/1024,1021/0/default.jpg',\n",
       " 'https://iiif.wellcomecollection.org/image/b28705889_0307.jp2/full/1338,1914/0/default.jpg',\n",
       " 'https://iiif.wellcomecollection.org/image/b32274750_0272.jp2/full/1338,1835/0/default.jpg',\n",
       " 'https://iiif.wellcomecollection.org/image/b28704940_0195.jp2/full/1338,1526/0/default.jpg',\n",
       " 'https://iiif.wellcomecollection.org/image/b19676736_0141.jp2/full/1338,1802/0/default.jpg',\n",
       " 'https://iiif.wellcomecollection.org/image/b33373656_0001.jp2/full/1338,1778/0/default.jpg',\n",
       " 'https://iiif.wellcomecollection.org/image/b11534096_hin-wel-all-00012421_0305.jp2/full/1024,1017/0/default.jpg',\n",
       " 'https://iiif.wellcomecollection.org/image/b19505061_0671.jp2/full/1338,1929/0/default.jpg',\n",
       " 'https://iiif.wellcomecollection.org/image/b19371810_0009.jp2/full/1338,906/0/default.jpg',\n",
       " 'https://iiif.wellcomecollection.org/image/b28704940_0598.jp2/full/1338,1480/0/default.jpg',\n",
       " 'https://iiif.wellcomecollection.org/image/b19177136_0012.jp2/full/1338,1619/0/default.jpg',\n",
       " 'https://iiif.wellcomecollection.org/image/b19237005_0463.jp2/full/1338,1519/0/default.jpg',\n",
       " 'https://iiif.wellcomecollection.org/image/b32274634_0085.jp2/full/1338,1903/0/default.jpg',\n",
       " 'https://iiif.wellcomecollection.org/image/b19505061_0025.jp2/full/1338,1942/0/default.jpg',\n",
       " 'https://iiif.wellcomecollection.org/image/b18597452_0038.jp2/full/1338,1645/0/default.jpg',\n",
       " 'https://iiif.wellcomecollection.org/image/b33533672_0032.jp2/full/1338,1853/0/default.jpg',\n",
       " 'https://iiif.wellcomecollection.org/image/b2022476x_penrose_2_24_6_2_1_0141.JP2/full/1338,1681/0/default.jpg',\n",
       " 'https://iiif.wellcomecollection.org/image/b30540471_0295.jp2/full/1338,2076/0/default.jpg',\n",
       " 'https://iiif.wellcomecollection.org/image/b28705038_0103.jp2/full/1338,2115/0/default.jpg',\n",
       " 'https://iiif.wellcomecollection.org/image/b32274592_0038.jp2/full/1338,1917/0/default.jpg',\n",
       " 'https://iiif.wellcomecollection.org/image/b24937356_RET_3_3_2_12_0676.jp2/full/1024,982/0/default.jpg',\n",
       " 'https://iiif.wellcomecollection.org/image/b28704940_0591.jp2/full/1338,1535/0/default.jpg',\n",
       " 'https://iiif.wellcomecollection.org/image/b11148366_hin-wel-all-00003449_0057.jp2/full/1012,1024/0/default.jpg',\n",
       " 'https://iiif.wellcomecollection.org/image/b33514203_0001.jp2/full/1338,1677/0/default.jpg',\n",
       " 'https://iiif.wellcomecollection.org/image/b14876425_0057.jp2/full/1024,1001/0/default.jpg',\n",
       " 'https://iiif.wellcomecollection.org/image/b19495833_RAMC_2004_10_1246.jp2/full/977,1024/0/default.jpg',\n",
       " 'https://iiif.wellcomecollection.org/image/b14755117_0411.jp2/full/1338,1352/0/default.jpg',\n",
       " 'https://iiif.wellcomecollection.org/image/b18318162_0313.jp2/full/1338,1911/0/default.jpg',\n",
       " 'https://iiif.wellcomecollection.org/image/b28704733_0554.jp2/full/1338,2294/0/default.jpg',\n",
       " 'https://iiif.wellcomecollection.org/image/b19567777_0056.jp2/full/1338,1606/0/default.jpg',\n",
       " 'https://iiif.wellcomecollection.org/image/b19191728_0137.jp2/full/1338,1689/0/default.jpg',\n",
       " 'https://iiif.wellcomecollection.org/image/b19314164_0223.jp2/full/1338,1603/0/default.jpg',\n",
       " 'https://iiif.wellcomecollection.org/image/b32274555_0038.jp2/full/1338,1901/0/default.jpg',\n",
       " 'https://iiif.wellcomecollection.org/image/b32274555_0246.jp2/full/1338,1895/0/default.jpg',\n",
       " 'https://iiif.wellcomecollection.org/image/b32274658_0097.jp2/full/1338,1770/0/default.jpg',\n",
       " 'https://iiif.wellcomecollection.org/image/b33513703_0001.jp2/full/1338,950/0/default.jpg',\n",
       " 'https://iiif.wellcomecollection.org/image/b18729794_0377.jp2/full/1338,1772/0/default.jpg',\n",
       " 'https://iiif.wellcomecollection.org/image/b19287355_0139.jp2/full/1338,1620/0/default.jpg',\n",
       " 'https://iiif.wellcomecollection.org/image/b18123533_0316.jp2/full/1338,1652/0/default.jpg',\n",
       " 'https://iiif.wellcomecollection.org/image/b33236215_0001.jp2/full/1338,1020/0/default.jpg',\n",
       " 'https://iiif.wellcomecollection.org/image/b32274580_0057.jp2/full/1338,1863/0/default.jpg',\n",
       " 'https://iiif.wellcomecollection.org/image/b32274592_0006.jp2/full/1338,1935/0/default.jpg',\n",
       " 'https://iiif.wellcomecollection.org/image/b28704940_0772.jp2/full/1338,1460/0/default.jpg',\n",
       " 'https://iiif.wellcomecollection.org/image/b1325473x_hin-wel-all-00012743_0047.jp2/full/1006,1024/0/default.jpg',\n",
       " 'https://iiif.wellcomecollection.org/image/b32274683_0061.jp2/full/1338,1661/0/default.jpg',\n",
       " 'https://iiif.wellcomecollection.org/image/b28705804_0226.jp2/full/1338,2102/0/default.jpg',\n",
       " 'https://iiif.wellcomecollection.org/image/b32274622_0071.jp2/full/1338,1765/0/default.jpg',\n",
       " 'https://iiif.wellcomecollection.org/image/b32274658_0107.jp2/full/1338,1754/0/default.jpg',\n",
       " 'https://iiif.wellcomecollection.org/image/b32274683_0100.jp2/full/1338,1506/0/default.jpg',\n",
       " 'https://iiif.wellcomecollection.org/image/b22046574_RET_1_5_1_3_0078.jp2/full/1006,1024/0/default.jpg',\n",
       " 'https://iiif.wellcomecollection.org/image/b28704903_0867.jp2/full/978,1024/0/default.jpg',\n",
       " 'https://iiif.wellcomecollection.org/image/b24938257_RET_3_3_2_7_0671.jp2/full/1022,1024/0/default.jpg',\n",
       " 'https://iiif.wellcomecollection.org/image/b32274634_0101.jp2/full/1338,1903/0/default.jpg',\n",
       " 'https://iiif.wellcomecollection.org/image/b32274695_0013.jp2/full/1338,1741/0/default.jpg',\n",
       " 'https://iiif.wellcomecollection.org/image/b19676736_0204.jp2/full/1338,1870/0/default.jpg',\n",
       " 'https://iiif.wellcomecollection.org/image/b32274750_0128.jp2/full/1338,1959/0/default.jpg',\n",
       " 'https://iiif.wellcomecollection.org/image/b28705786_0011.jp2/full/1338,1752/0/default.jpg',\n",
       " 'https://iiif.wellcomecollection.org/image/b32274592_0101.jp2/full/1338,1944/0/default.jpg',\n",
       " 'https://iiif.wellcomecollection.org/image/b15837567_0001.jp2/full/1024,1020/0/default.jpg',\n",
       " 'https://iiif.wellcomecollection.org/image/b18576795_0965.jp2/full/1338,1976/0/default.jpg',\n",
       " 'https://iiif.wellcomecollection.org/image/b28705804_0268.jp2/full/1338,2102/0/default.jpg',\n",
       " 'https://iiif.wellcomecollection.org/image/b32274750_0027.jp2/full/1338,2271/0/default.jpg',\n",
       " 'https://iiif.wellcomecollection.org/image/b18729794_0006.jp2/full/1338,1804/0/default.jpg',\n",
       " 'https://iiif.wellcomecollection.org/image/b18123533_0005.jp2/full/1338,1693/0/default.jpg',\n",
       " 'https://iiif.wellcomecollection.org/image/b28705427_0450.jp2/full/1338,2196/0/default.jpg',\n",
       " 'https://iiif.wellcomecollection.org/image/b28705786_0172.jp2/full/1338,1600/0/default.jpg',\n",
       " 'https://iiif.wellcomecollection.org/image/b33511391_0001.jp2/full/1338,1714/0/default.jpg',\n",
       " 'https://iiif.wellcomecollection.org/image/b28705427_0306.jp2/full/1338,2151/0/default.jpg',\n",
       " 'https://iiif.wellcomecollection.org/image/b19237005_0330.jp2/full/1338,1574/0/default.jpg',\n",
       " 'https://iiif.wellcomecollection.org/image/b18758897_0152.jp2/full/1338,1709/0/default.jpg',\n",
       " 'https://iiif.wellcomecollection.org/image/b19567777_0057.jp2/full/1338,1545/0/default.jpg',\n",
       " 'https://iiif.wellcomecollection.org/image/b32274695_0032.jp2/full/1338,1778/0/default.jpg',\n",
       " 'https://iiif.wellcomecollection.org/image/b19603046_0012.jp2/full/1338,1936/0/default.jpg',\n",
       " 'https://iiif.wellcomecollection.org/image/b19505061_0440.jp2/full/1338,1589/0/default.jpg',\n",
       " 'https://iiif.wellcomecollection.org/image/b19695433_0001.jp2/full/1338,1670/0/default.jpg',\n",
       " 'https://iiif.wellcomecollection.org/image/b11058286_0415.jp2/full/3884,5396/0/default.jpg',\n",
       " 'https://iiif.wellcomecollection.org/image/b19012676_0340.jp2/full/1338,1944/0/default.jpg',\n",
       " 'https://iiif.wellcomecollection.org/image/b14828042_0005.jp2/full/1338,2074/0/default.jpg',\n",
       " 'https://iiif.wellcomecollection.org/image/b32274592_0106.jp2/full/1338,1911/0/default.jpg',\n",
       " 'https://iiif.wellcomecollection.org/image/b20614548_galton_02_08_01_13_05_0054.JP2/full/1024,1002/0/default.jpg',\n",
       " 'https://iiif.wellcomecollection.org/image/b11758752_0001.jp2/full/1338,1754/0/default.jpg',\n",
       " 'https://iiif.wellcomecollection.org/image/b18693441_0333.jp2/full/1338,2195/0/default.jpg',\n",
       " 'https://iiif.wellcomecollection.org/image/b14565377_0066.jp2/full/1022,1024/0/default.jpg',\n",
       " 'https://iiif.wellcomecollection.org/image/b31854412_0005.jp2/full/994,1024/0/default.jpg',\n",
       " 'https://iiif.wellcomecollection.org/image/b11058286_0379.jp2/full/3860,5408/0/default.jpg',\n",
       " 'https://iiif.wellcomecollection.org/image/b18338835_MS_1506_0196.JP2/full/1018,1024/0/default.jpg',\n",
       " 'https://iiif.wellcomecollection.org/image/b33537525_0047.jp2/full/1338,2064/0/default.jpg',\n",
       " 'https://iiif.wellcomecollection.org/image/b19191728_0009.jp2/full/1338,1684/0/default.jpg',\n",
       " 'https://iiif.wellcomecollection.org/image/b19505061_0329.jp2/full/1338,1561/0/default.jpg',\n",
       " 'https://iiif.wellcomecollection.org/image/b14755117_0428.jp2/full/1338,1280/0/default.jpg',\n",
       " 'https://iiif.wellcomecollection.org/image/b28705737_0215.jp2/full/1338,2077/0/default.jpg',\n",
       " 'https://iiif.wellcomecollection.org/image/b19662397_0013.jp2/full/1338,1602/0/default.jpg',\n",
       " 'https://iiif.wellcomecollection.org/image/b33338759_0001.jp2/full/1338,2025/0/default.jpg',\n",
       " 'https://iiif.wellcomecollection.org/image/b28704940_0277.jp2/full/1338,1541/0/default.jpg',\n",
       " 'https://iiif.wellcomecollection.org/image/b19314164_0317.jp2/full/1338,1529/0/default.jpg',\n",
       " 'https://iiif.wellcomecollection.org/image/b32274750_0137.jp2/full/1338,1947/0/default.jpg',\n",
       " 'https://iiif.wellcomecollection.org/image/b19541818_0174.jp2/full/1338,1980/0/default.jpg',\n",
       " 'https://iiif.wellcomecollection.org/image/b33512267_0001.jp2/full/1338,1878/0/default.jpg',\n",
       " 'https://iiif.wellcomecollection.org/image/b28705786_0789.jp2/full/1338,1656/0/default.jpg',\n",
       " 'https://iiif.wellcomecollection.org/image/b33330906_0001.jp2/full/1338,2216/0/default.jpg',\n",
       " 'https://iiif.wellcomecollection.org/image/b32274750_0092.jp2/full/1338,2058/0/default.jpg',\n",
       " 'https://iiif.wellcomecollection.org/image/b33370916_0001.jp2/full/1338,1786/0/default.jpg',\n",
       " 'https://iiif.wellcomecollection.org/image/b18758897_0030.jp2/full/1338,1844/0/default.jpg',\n",
       " 'https://iiif.wellcomecollection.org/image/b32274609_0023.jp2/full/1338,1888/0/default.jpg',\n",
       " 'https://iiif.wellcomecollection.org/image/b28705737_0197.jp2/full/1338,2064/0/default.jpg',\n",
       " 'https://iiif.wellcomecollection.org/image/b28705737_0339.jp2/full/1338,2117/0/default.jpg',\n",
       " 'https://iiif.wellcomecollection.org/image/b12177945_hin-wel-all-00012467_0009.jp2/full/1003,1024/0/default.jpg',\n",
       " 'https://iiif.wellcomecollection.org/image/b14755117_0148.jp2/full/1338,1350/0/default.jpg',\n",
       " 'https://iiif.wellcomecollection.org/image/b32274634_0042.jp2/full/1338,1829/0/default.jpg',\n",
       " 'https://iiif.wellcomecollection.org/image/b33338656_0001.jp2/full/1338,2067/0/default.jpg',\n",
       " 'https://iiif.wellcomecollection.org/image/b33372020_0001.jp2/full/1338,2128/0/default.jpg',\n",
       " 'https://iiif.wellcomecollection.org/image/b32274774_0253.jp2/full/1338,1814/0/default.jpg',\n",
       " 'https://iiif.wellcomecollection.org/image/b18123533_0456.jp2/full/1338,1612/0/default.jpg',\n",
       " 'https://iiif.wellcomecollection.org/image/b19576523_0171.jp2/full/1338,1490/0/default.jpg',\n",
       " 'https://iiif.wellcomecollection.org/image/b32274683_0072.jp2/full/1338,1519/0/default.jpg',\n",
       " 'https://iiif.wellcomecollection.org/image/b18576795_0792.jp2/full/1338,1991/0/default.jpg',\n",
       " 'https://iiif.wellcomecollection.org/image/b19237005_0116.jp2/full/1338,1096/0/default.jpg',\n",
       " 'https://iiif.wellcomecollection.org/image/b3324604x_0001.jp2/full/992,1024/0/default.jpg',\n",
       " 'https://iiif.wellcomecollection.org/image/b32274816_0017.jp2/full/1338,2244/0/default.jpg',\n",
       " 'https://iiif.wellcomecollection.org/image/b32232068_0005.jp2/full/1004,1024/0/default.jpg',\n",
       " 'https://iiif.wellcomecollection.org/image/b19676736_0241.jp2/full/1338,1754/0/default.jpg',\n",
       " 'https://iiif.wellcomecollection.org/image/b24946448_RET_3_3_2_11_0302.jp2/full/1024,982/0/default.jpg',\n",
       " 'https://iiif.wellcomecollection.org/image/b31854503_0028.jp2/full/1012,1024/0/default.jpg',\n",
       " 'https://iiif.wellcomecollection.org/image/b19314164_0111.jp2/full/1338,1524/0/default.jpg',\n",
       " 'https://iiif.wellcomecollection.org/image/b22007611_0169.jp2/full/1338,2089/0/default.jpg',\n",
       " 'https://iiif.wellcomecollection.org/image/b28705786_0334.jp2/full/1338,1626/0/default.jpg',\n",
       " 'https://iiif.wellcomecollection.org/image/b28704940_0537.jp2/full/1338,1517/0/default.jpg',\n",
       " 'https://iiif.wellcomecollection.org/image/b22007611_0026.jp2/full/1338,2086/0/default.jpg',\n",
       " 'https://iiif.wellcomecollection.org/image/b32274774_0111.jp2/full/1338,1761/0/default.jpg',\n",
       " 'https://iiif.wellcomecollection.org/image/b31685766_0048.jp2/full/1338,1754/0/default.jpg',\n",
       " 'https://iiif.wellcomecollection.org/image/b18896042_MS_2799_0220.JP2/full/991,1024/0/default.jpg',\n",
       " 'https://iiif.wellcomecollection.org/image/b14846275_0632.jp2/full/1338,1984/0/default.jpg',\n",
       " 'https://iiif.wellcomecollection.org/image/b32274592_0092.jp2/full/1338,1928/0/default.jpg',\n",
       " 'https://iiif.wellcomecollection.org/image/b32274774_0217.jp2/full/1338,1796/0/default.jpg',\n",
       " 'https://iiif.wellcomecollection.org/image/b18123533_0236.jp2/full/1338,1723/0/default.jpg',\n",
       " 'https://iiif.wellcomecollection.org/image/b32274683_0099.jp2/full/1338,1657/0/default.jpg',\n",
       " 'https://iiif.wellcomecollection.org/image/b20387878_0001.jp2/full/1338,1811/0/default.jpg',\n",
       " 'https://iiif.wellcomecollection.org/image/b32274592_0023.jp2/full/1338,1934/0/default.jpg',\n",
       " 'https://iiif.wellcomecollection.org/image/b28704940_0300.jp2/full/1338,1548/0/default.jpg',\n",
       " 'https://iiif.wellcomecollection.org/image/b28704940_0394.jp2/full/1338,1525/0/default.jpg',\n",
       " 'https://iiif.wellcomecollection.org/image/b18597452_0187.jp2/full/1338,1603/0/default.jpg',\n",
       " 'https://iiif.wellcomecollection.org/image/b20619972_galton_01_01_09_05_01_0013.JP2/full/1015,1024/0/default.jpg',\n",
       " 'https://iiif.wellcomecollection.org/image/b28704733_0051.jp2/full/1338,2455/0/default.jpg',\n",
       " 'https://iiif.wellcomecollection.org/image/b28705737_0017.jp2/full/1338,2104/0/default.jpg',\n",
       " 'https://iiif.wellcomecollection.org/image/b33068690_0105.jp2/full/1338,1734/0/default.jpg',\n",
       " 'https://iiif.wellcomecollection.org/image/b14755117_0379.jp2/full/1338,1358/0/default.jpg',\n",
       " 'https://iiif.wellcomecollection.org/image/b19576523_0230.jp2/full/1338,1609/0/default.jpg',\n",
       " 'https://iiif.wellcomecollection.org/image/b32274634_0055.jp2/full/1338,1884/0/default.jpg',\n",
       " 'https://iiif.wellcomecollection.org/image/b18123533_0224.jp2/full/1338,1716/0/default.jpg',\n",
       " 'https://iiif.wellcomecollection.org/image/b18123533_0584.jp2/full/1338,1596/0/default.jpg',\n",
       " 'https://iiif.wellcomecollection.org/image/b33249611_0001.jp2/full/1338,2118/0/default.jpg',\n",
       " 'https://iiif.wellcomecollection.org/image/b18576795_0788.jp2/full/1338,1939/0/default.jpg',\n",
       " 'https://iiif.wellcomecollection.org/image/b28704733_0321.jp2/full/1338,2474/0/default.jpg',\n",
       " 'https://iiif.wellcomecollection.org/image/b18576795_0157.jp2/full/1338,1953/0/default.jpg',\n",
       " 'https://iiif.wellcomecollection.org/image/b18318162_0138.jp2/full/1338,1912/0/default.jpg',\n",
       " 'https://iiif.wellcomecollection.org/image/b32274622_0090.jp2/full/1338,1283/0/default.jpg',\n",
       " 'https://iiif.wellcomecollection.org/image/b33373140_0001.jp2/full/1338,1099/0/default.jpg',\n",
       " 'https://iiif.wellcomecollection.org/image/b33374545_0001.jp2/full/1338,2201/0/default.jpg',\n",
       " 'https://iiif.wellcomecollection.org/image/b14560999_0122.jp2/full/982,1024/0/default.jpg',\n",
       " 'https://iiif.wellcomecollection.org/image/b19505061_0270.jp2/full/1338,1697/0/default.jpg',\n",
       " 'https://iiif.wellcomecollection.org/image/b24938245_RET_3_3_2_10_0631.jp2/full/1024,1021/0/default.jpg',\n",
       " 'https://iiif.wellcomecollection.org/image/b11058286_0257.jp2/full/3932,5432/0/default.jpg',\n",
       " 'https://iiif.wellcomecollection.org/image/b28705737_0284.jp2/full/1338,1999/0/default.jpg',\n",
       " 'https://iiif.wellcomecollection.org/image/b19113626_ramc_1242_6_0015.JP2/full/1022,1024/0/default.jpg',\n",
       " 'https://iiif.wellcomecollection.org/image/b20387878_0138.jp2/full/1338,1755/0/default.jpg',\n",
       " 'https://iiif.wellcomecollection.org/image/b18417383_0075.jp2/full/1338,1662/0/default.jpg',\n",
       " 'https://iiif.wellcomecollection.org/image/b12946308_hin-wel-all-00001677_0013.jp2/full/1022,1024/0/default.jpg',\n",
       " 'https://iiif.wellcomecollection.org/image/b19237005_0343.jp2/full/1338,1600/0/default.jpg',\n",
       " 'https://iiif.wellcomecollection.org/image/b32274683_0098.jp2/full/1338,1505/0/default.jpg',\n",
       " 'https://iiif.wellcomecollection.org/image/b18932551_0098.jp2/full/1338,1656/0/default.jpg',\n",
       " 'https://iiif.wellcomecollection.org/image/b33507855_0001.jp2/full/1338,1166/0/default.jpg',\n",
       " 'https://iiif.wellcomecollection.org/image/b11058286_0932.jp2/full/4020,5480/0/default.jpg',\n",
       " 'https://iiif.wellcomecollection.org/image/b19152620_MS_5850_0062.jp2/full/1011,1024/0/default.jpg',\n",
       " 'https://iiif.wellcomecollection.org/image/b32274555_0073.jp2/full/1338,1979/0/default.jpg',\n",
       " 'https://iiif.wellcomecollection.org/image/b18832283_MS_7921_0020.jp2/full/984,1024/0/default.jpg',\n",
       " 'https://iiif.wellcomecollection.org/image/b18531891_RAMC_1863_0034.jp2/full/1008,1024/0/default.jpg',\n",
       " 'https://iiif.wellcomecollection.org/image/b19237005_0277.jp2/full/1338,1649/0/default.jpg',\n",
       " 'https://iiif.wellcomecollection.org/image/b30540471_0468.jp2/full/1338,2196/0/default.jpg',\n",
       " 'https://iiif.wellcomecollection.org/image/b20297105_WMS_Arabic_440_0013.jp2/full/1000,1024/0/default.jpg',\n",
       " 'https://iiif.wellcomecollection.org/image/b16685453_l0052554.jp2/full/1024,1016/0/default.jpg',\n",
       " 'https://iiif.wellcomecollection.org/image/b19505061_0510.jp2/full/1338,1542/0/default.jpg',\n",
       " 'https://iiif.wellcomecollection.org/image/b32274750_0182.jp2/full/1338,2158/0/default.jpg',\n",
       " 'https://iiif.wellcomecollection.org/image/b1220190x_hin-wel-all-00000040_0159.jp2/full/1338,1815/0/default.jpg',\n",
       " 'https://iiif.wellcomecollection.org/image/b2022476x_penrose_2_24_6_2_1_0083.JP2/full/1338,1711/0/default.jpg',\n",
       " 'https://iiif.wellcomecollection.org/image/b30540471_0036.jp2/full/1338,2082/0/default.jpg',\n",
       " 'https://iiif.wellcomecollection.org/image/b28704630_0509.jp2/full/1338,2062/0/default.jpg',\n",
       " 'https://iiif.wellcomecollection.org/image/b32274750_0307.jp2/full/1338,1817/0/default.jpg',\n",
       " 'https://iiif.wellcomecollection.org/image/b32274658_0018.jp2/full/1338,1901/0/default.jpg',\n",
       " 'https://iiif.wellcomecollection.org/image/b24940215_RET_3_3_2_2_1184.jp2/full/981,1024/0/default.jpg',\n",
       " 'https://iiif.wellcomecollection.org/image/b32274774_0092.jp2/full/1338,1808/0/default.jpg',\n",
       " 'https://iiif.wellcomecollection.org/image/b28704733_0594.jp2/full/1338,2329/0/default.jpg',\n",
       " 'https://iiif.wellcomecollection.org/image/b19505061_0488.jp2/full/1338,1558/0/default.jpg',\n",
       " 'https://iiif.wellcomecollection.org/image/b33533672_0080.jp2/full/1338,1844/0/default.jpg',\n",
       " 'https://iiif.wellcomecollection.org/image/b18123533_0081.jp2/full/1338,1723/0/default.jpg',\n",
       " 'https://iiif.wellcomecollection.org/image/b32274555_0110.jp2/full/1338,1873/0/default.jpg',\n",
       " 'https://iiif.wellcomecollection.org/image/b19287355_0151.jp2/full/1338,1613/0/default.jpg',\n",
       " 'https://iiif.wellcomecollection.org/image/b28704733_0293.jp2/full/1338,2338/0/default.jpg',\n",
       " 'https://iiif.wellcomecollection.org/image/b19676736_0297.jp2/full/1338,1717/0/default.jpg',\n",
       " 'https://iiif.wellcomecollection.org/image/b31685729_0013.jp2/full/1338,1731/0/default.jpg',\n",
       " 'https://iiif.wellcomecollection.org/image/b18576795_0267.jp2/full/1338,1950/0/default.jpg',\n",
       " 'https://iiif.wellcomecollection.org/image/b33418172_0016.jp2/full/1338,1880/0/default.jpg',\n",
       " 'https://iiif.wellcomecollection.org/image/b24940215_RET_3_3_2_2_1857.jp2/full/978,1024/0/default.jpg',\n",
       " 'https://iiif.wellcomecollection.org/image/b2022476x_penrose_2_24_6_2_1_0016.JP2/full/1338,1752/0/default.jpg',\n",
       " 'https://iiif.wellcomecollection.org/image/b32274658_0146.jp2/full/1338,1734/0/default.jpg',\n",
       " 'https://iiif.wellcomecollection.org/image/b33342283_0002.jp2/full/1338,2213/0/default.jpg',\n",
       " 'https://iiif.wellcomecollection.org/image/b28704940_0806.jp2/full/1338,1460/0/default.jpg',\n",
       " 'https://iiif.wellcomecollection.org/image/b32274634_0069.jp2/full/1338,1815/0/default.jpg',\n",
       " 'https://iiif.wellcomecollection.org/image/b18576795_0772.jp2/full/1338,1923/0/default.jpg',\n",
       " 'https://iiif.wellcomecollection.org/image/b19676736_0025.jp2/full/1338,1972/0/default.jpg',\n",
       " 'https://iiif.wellcomecollection.org/image/b19676736_0145.jp2/full/1338,1798/0/default.jpg',\n",
       " 'https://iiif.wellcomecollection.org/image/b28705804_0107.jp2/full/1338,2113/0/default.jpg',\n",
       " 'https://iiif.wellcomecollection.org/image/b32274750_0132.jp2/full/1338,2017/0/default.jpg',\n",
       " 'https://iiif.wellcomecollection.org/image/b19237005_0373.jp2/full/1338,1617/0/default.jpg',\n",
       " 'https://iiif.wellcomecollection.org/image/b31854394_0016.jp2/full/989,1024/0/default.jpg',\n",
       " 'https://iiif.wellcomecollection.org/image/b18576795_0271.jp2/full/1338,1961/0/default.jpg',\n",
       " 'https://iiif.wellcomecollection.org/image/b3337224x_0001.jp2/full/1338,2153/0/default.jpg',\n",
       " 'https://iiif.wellcomecollection.org/image/b24954809_RET_6_19_1_147_1268.jp2/full/1024,1008/0/default.jpg',\n",
       " 'https://iiif.wellcomecollection.org/image/b28705786_1002.jp2/full/1338,1697/0/default.jpg',\n",
       " 'https://iiif.wellcomecollection.org/image/b14846275_0027.jp2/full/1338,1927/0/default.jpg',\n",
       " 'https://iiif.wellcomecollection.org/image/b20129075_kdbp_1_3_030_2.JP2/full/1020,1024/0/default.jpg',\n",
       " 'https://iiif.wellcomecollection.org/image/b19108801_0106.jp2/full/1338,1590/0/default.jpg',\n",
       " 'https://iiif.wellcomecollection.org/image/b11641824_0001.jp2/full/1338,1813/0/default.jpg',\n",
       " 'https://iiif.wellcomecollection.org/image/b33000256_0097.jp2/full/1024,983/0/default.jpg',\n",
       " 'https://iiif.wellcomecollection.org/image/b32274750_0170.jp2/full/1338,2159/0/default.jpg',\n",
       " 'https://iiif.wellcomecollection.org/image/b28704940_0909.jp2/full/1338,1607/0/default.jpg',\n",
       " 'https://iiif.wellcomecollection.org/image/b33377625_0001.jp2/full/1338,2153/0/default.jpg',\n",
       " 'https://iiif.wellcomecollection.org/image/b18576795_0859.jp2/full/1338,1924/0/default.jpg',\n",
       " 'https://iiif.wellcomecollection.org/image/b18576795_0066.jp2/full/1338,2066/0/default.jpg',\n",
       " 'https://iiif.wellcomecollection.org/image/b33537525_0503.jp2/full/1338,2001/0/default.jpg',\n",
       " 'https://iiif.wellcomecollection.org/image/b14827712_0057.jp2/full/1338,1787/0/default.jpg',\n",
       " 'https://iiif.wellcomecollection.org/image/b28705774_0058.jp2/full/1338,2107/0/default.jpg',\n",
       " 'https://iiif.wellcomecollection.org/image/b19237005_0281.jp2/full/1338,1043/0/default.jpg',\n",
       " 'https://iiif.wellcomecollection.org/image/b19541818_0258.jp2/full/1338,1960/0/default.jpg',\n",
       " 'https://iiif.wellcomecollection.org/image/b28705786_0323.jp2/full/1338,1626/0/default.jpg',\n",
       " 'https://iiif.wellcomecollection.org/image/b14827712_0033.jp2/full/1338,1816/0/default.jpg',\n",
       " 'https://iiif.wellcomecollection.org/image/b19696589_ramc_474_52_0294.JP2/full/1024,988/0/default.jpg',\n",
       " 'https://iiif.wellcomecollection.org/image/b18418272_0036.jp2/full/1338,1585/0/default.jpg',\n",
       " 'https://iiif.wellcomecollection.org/image/b32274750_0134.jp2/full/1338,2159/0/default.jpg',\n",
       " 'https://iiif.wellcomecollection.org/image/b28705804_0339.jp2/full/1338,2144/0/default.jpg',\n",
       " 'https://iiif.wellcomecollection.org/image/b18729794_0419.jp2/full/1338,1791/0/default.jpg',\n",
       " 'https://iiif.wellcomecollection.org/image/b28705038_0093.jp2/full/1338,2116/0/default.jpg',\n",
       " 'https://iiif.wellcomecollection.org/image/b1220190x_hin-wel-all-00000040_0246.jp2/full/1338,1861/0/default.jpg',\n",
       " 'https://iiif.wellcomecollection.org/image/b28705427_0421.jp2/full/1338,2225/0/default.jpg',\n",
       " 'https://iiif.wellcomecollection.org/image/b18380141_0050.jp2/full/1338,2114/0/default.jpg',\n",
       " 'https://iiif.wellcomecollection.org/image/b32274555_0446.jp2/full/1338,1863/0/default.jpg',\n",
       " 'https://iiif.wellcomecollection.org/image/b24963057_RET_3_3_2_14_0697.jp2/full/1024,980/0/default.jpg',\n",
       " 'https://iiif.wellcomecollection.org/image/b19191728_0165.jp2/full/1338,1675/0/default.jpg',\n",
       " 'https://iiif.wellcomecollection.org/image/b33239411_0001.jp2/full/1338,1823/0/default.jpg',\n",
       " 'https://iiif.wellcomecollection.org/image/b18758897_0039.jp2/full/1338,1725/0/default.jpg',\n",
       " 'https://iiif.wellcomecollection.org/image/b22654136_DGH1_5_1_1_15_0028.JP2/full/980,1024/0/default.jpg',\n",
       " 'https://iiif.wellcomecollection.org/image/b19177112_0049.jp2/full/1338,2305/0/default.jpg',\n",
       " 'https://iiif.wellcomecollection.org/image/b28704630_0430.jp2/full/1338,1932/0/default.jpg',\n",
       " 'https://iiif.wellcomecollection.org/image/b32274774_0045.jp2/full/1338,1748/0/default.jpg',\n",
       " 'https://iiif.wellcomecollection.org/image/b11148366_hin-wel-all-00003449_0299.jp2/full/1021,1024/0/default.jpg',\n",
       " 'https://iiif.wellcomecollection.org/image/b28705786_0742.jp2/full/1338,1661/0/default.jpg',\n",
       " 'https://iiif.wellcomecollection.org/image/b14846275_0356.jp2/full/1338,2091/0/default.jpg',\n",
       " 'https://iiif.wellcomecollection.org/image/b30540471_0415.jp2/full/1338,2089/0/default.jpg',\n",
       " 'https://iiif.wellcomecollection.org/image/b28704733_0311.jp2/full/1338,2474/0/default.jpg',\n",
       " 'https://iiif.wellcomecollection.org/image/b28976794_0354.jp2/full/1338,1704/0/default.jpg',\n",
       " 'https://iiif.wellcomecollection.org/image/b33068690_0087.jp2/full/1338,1765/0/default.jpg',\n",
       " 'https://iiif.wellcomecollection.org/image/b3168578x_0029.jp2/full/1338,1668/0/default.jpg',\n",
       " 'https://iiif.wellcomecollection.org/image/b18123533_0028.jp2/full/1338,1837/0/default.jpg',\n",
       " 'https://iiif.wellcomecollection.org/image/b28704733_0748.jp2/full/1338,2314/0/default.jpg',\n",
       " 'https://iiif.wellcomecollection.org/image/b32274683_0022.jp2/full/1338,1604/0/default.jpg',\n",
       " 'https://iiif.wellcomecollection.org/image/b28704630_0415.jp2/full/1338,2014/0/default.jpg',\n",
       " 'https://iiif.wellcomecollection.org/image/b28705038_0190.jp2/full/1338,1986/0/default.jpg',\n",
       " 'https://iiif.wellcomecollection.org/image/b28668121_0003.jp2/full/1024,1011/0/default.jpg',\n",
       " 'https://iiif.wellcomecollection.org/image/b20633440_galton_2_9_6_5_2_2_0001.JP2/full/1024,988/0/default.jpg',\n",
       " 'https://iiif.wellcomecollection.org/image/b32274774_0170.jp2/full/1338,1820/0/default.jpg',\n",
       " 'https://iiif.wellcomecollection.org/image/b20387878_0023.jp2/full/1338,1753/0/default.jpg',\n",
       " 'https://iiif.wellcomecollection.org/image/b28705427_0362.jp2/full/1338,2154/0/default.jpg',\n",
       " 'https://iiif.wellcomecollection.org/image/b10916180_hin-wel-all-00012288_0082.jp2/full/1017,1024/0/default.jpg',\n",
       " 'https://iiif.wellcomecollection.org/image/b12821457_hin-wel-all-00012567_0053.jp2/full/1006,1024/0/default.jpg',\n",
       " 'https://iiif.wellcomecollection.org/image/b32274580_0034.jp2/full/1338,1772/0/default.jpg',\n",
       " 'https://iiif.wellcomecollection.org/image/b32274622_0001.jp2/full/1338,1740/0/default.jpg',\n",
       " 'https://iiif.wellcomecollection.org/image/b28705786_0979.jp2/full/1338,1667/0/default.jpg',\n",
       " 'https://iiif.wellcomecollection.org/image/b18438374_ms_6722_0006.JP2/full/1001,1024/0/default.jpg',\n",
       " 'https://iiif.wellcomecollection.org/image/b11058286_0080.jp2/full/3684,5348/0/default.jpg',\n",
       " 'https://iiif.wellcomecollection.org/image/b28705786_0296.jp2/full/1338,1629/0/default.jpg',\n",
       " 'https://iiif.wellcomecollection.org/image/b31854424_0023.jp2/full/1019,1024/0/default.jpg',\n",
       " 'https://iiif.wellcomecollection.org/image/b24945948_RET_3_3_1_26_0036.jp2/full/1024,998/0/default.jpg',\n",
       " 'https://iiif.wellcomecollection.org/image/b18380141_0031.jp2/full/1338,2117/0/default.jpg',\n",
       " 'https://iiif.wellcomecollection.org/image/b28705646_0204.jp2/full/1338,2250/0/default.jpg',\n",
       " 'https://iiif.wellcomecollection.org/image/b20129075_kdbp_1_3_028.JP2/full/1020,1024/0/default.jpg',\n",
       " 'https://iiif.wellcomecollection.org/image/b24936650_RET_3_3_1_9_0016.jp2/full/1024,979/0/default.jpg',\n",
       " 'https://iiif.wellcomecollection.org/image/b11058286_0989.jp2/full/3632,5372/0/default.jpg',\n",
       " 'https://iiif.wellcomecollection.org/image/b28704733_0537.jp2/full/1338,2392/0/default.jpg',\n",
       " 'https://iiif.wellcomecollection.org/image/b18693441_0577.jp2/full/1338,1990/0/default.jpg',\n",
       " 'https://iiif.wellcomecollection.org/image/b32274774_0003.jp2/full/1338,1732/0/default.jpg',\n",
       " 'https://iiif.wellcomecollection.org/image/b28704940_0850.jp2/full/1338,1475/0/default.jpg',\n",
       " 'https://iiif.wellcomecollection.org/image/b19742083_0471.jp2/full/982,1024/0/default.jpg',\n",
       " 'https://iiif.wellcomecollection.org/image/b19576523_0112.jp2/full/1338,1549/0/default.jpg',\n",
       " 'https://iiif.wellcomecollection.org/image/b24946448_RET_3_3_2_11_0095.jp2/full/1024,985/0/default.jpg',\n",
       " 'https://iiif.wellcomecollection.org/image/b24946448_RET_3_3_2_11_0803.jp2/full/1024,988/0/default.jpg',\n",
       " 'https://iiif.wellcomecollection.org/image/b28642491_0001.jp2/full/1024,1004/0/default.jpg',\n",
       " 'https://iiif.wellcomecollection.org/image/b16447633_0002.jp2/full/990,1024/0/default.jpg',\n",
       " 'https://iiif.wellcomecollection.org/image/b19237005_0519.jp2/full/1338,1584/0/default.jpg',\n",
       " 'https://iiif.wellcomecollection.org/image/b30540471_0091.jp2/full/1338,2059/0/default.jpg',\n",
       " 'https://iiif.wellcomecollection.org/image/b19505061_0095.jp2/full/1338,1626/0/default.jpg',\n",
       " 'https://iiif.wellcomecollection.org/image/b33238686_0001.jp2/full/1338,1703/0/default.jpg',\n",
       " 'https://iiif.wellcomecollection.org/image/b32274750_0269.jp2/full/1338,1833/0/default.jpg',\n",
       " 'https://iiif.wellcomecollection.org/image/b28705889_0181.jp2/full/1338,1914/0/default.jpg',\n",
       " 'https://iiif.wellcomecollection.org/image/b28705427_0221.jp2/full/1338,2286/0/default.jpg',\n",
       " 'https://iiif.wellcomecollection.org/image/b3168581x_0061.jp2/full/1338,1648/0/default.jpg',\n",
       " 'https://iiif.wellcomecollection.org/image/b28705786_0112.jp2/full/1338,860/0/default.jpg',\n",
       " 'https://iiif.wellcomecollection.org/image/b32274658_0001.jp2/full/1338,1781/0/default.jpg',\n",
       " 'https://iiif.wellcomecollection.org/image/b19443262_0029.jp2/full/1338,1708/0/default.jpg',\n",
       " 'https://iiif.wellcomecollection.org/image/b33369707_0001.jp2/full/1338,1739/0/default.jpg',\n",
       " 'https://iiif.wellcomecollection.org/image/b31685730_0039.jp2/full/1338,1759/0/default.jpg',\n",
       " 'https://iiif.wellcomecollection.org/image/b32274750_0168.jp2/full/1338,2172/0/default.jpg',\n",
       " 'https://iiif.wellcomecollection.org/image/b19541818_0128.jp2/full/1338,2014/0/default.jpg',\n",
       " 'https://iiif.wellcomecollection.org/image/b32274786_0083.jp2/full/1338,2019/0/default.jpg',\n",
       " 'https://iiif.wellcomecollection.org/image/b32274750_0320.jp2/full/1338,1777/0/default.jpg',\n",
       " 'https://iiif.wellcomecollection.org/image/b33516005_0001.jp2/full/1338,1118/0/default.jpg',\n",
       " 'https://iiif.wellcomecollection.org/image/b33249854_0001.jp2/full/1338,983/0/default.jpg',\n",
       " 'https://iiif.wellcomecollection.org/image/b28705038_0071.jp2/full/1338,2115/0/default.jpg',\n",
       " 'https://iiif.wellcomecollection.org/image/b18123533_0313.jp2/full/1338,1784/0/default.jpg',\n",
       " 'https://iiif.wellcomecollection.org/image/b33245563_0001.jp2/full/1338,946/0/default.jpg',\n",
       " 'https://iiif.wellcomecollection.org/image/b18758897_0171.jp2/full/1338,1846/0/default.jpg',\n",
       " 'https://iiif.wellcomecollection.org/image/b32274750_0304.jp2/full/1338,2093/0/default.jpg',\n",
       " 'https://iiif.wellcomecollection.org/image/b31685791_0053.jp2/full/1338,1683/0/default.jpg',\n",
       " 'https://iiif.wellcomecollection.org/image/b28976794_0243.jp2/full/1338,1640/0/default.jpg',\n",
       " 'https://iiif.wellcomecollection.org/image/b19505061_0690.jp2/full/1338,2930/0/default.jpg',\n",
       " 'https://iiif.wellcomecollection.org/image/b30452922_0001.jp2/full/1338,1787/0/default.jpg',\n",
       " 'https://iiif.wellcomecollection.org/image/b2265415x_DGH1_5_1_1_17_0002.JP2/full/1009,1024/0/default.jpg',\n",
       " 'https://iiif.wellcomecollection.org/image/b18693441_0145.jp2/full/1338,1969/0/default.jpg',\n",
       " 'https://iiif.wellcomecollection.org/image/b18576795_0220.jp2/full/1338,2080/0/default.jpg',\n",
       " 'https://iiif.wellcomecollection.org/image/b11534096_hin-wel-all-00012421_0005.jp2/full/985,1024/0/default.jpg',\n",
       " 'https://iiif.wellcomecollection.org/image/b18576795_0688.jp2/full/1338,1973/0/default.jpg',\n",
       " 'https://iiif.wellcomecollection.org/image/b32274695_0061.jp2/full/420,4550/0/default.jpg',\n",
       " 'https://iiif.wellcomecollection.org/image/b33537525_0367.jp2/full/1338,2028/0/default.jpg',\n",
       " 'https://iiif.wellcomecollection.org/image/b32274683_0062.jp2/full/1338,1516/0/default.jpg',\n",
       " 'https://iiif.wellcomecollection.org/image/b19505061_0046.jp2/full/1338,1863/0/default.jpg',\n",
       " 'https://iiif.wellcomecollection.org/image/b28976794_0169.jp2/full/1338,1640/0/default.jpg',\n",
       " 'https://iiif.wellcomecollection.org/image/b33533672_0007.jp2/full/1338,1733/0/default.jpg',\n",
       " 'https://iiif.wellcomecollection.org/image/b32274750_0175.jp2/full/1338,1969/0/default.jpg',\n",
       " 'https://iiif.wellcomecollection.org/image/b14876425_0040.jp2/full/1024,992/0/default.jpg',\n",
       " 'https://iiif.wellcomecollection.org/image/b28705427_0350.jp2/full/1338,2154/0/default.jpg',\n",
       " 'https://iiif.wellcomecollection.org/image/b32274695_0030.jp2/full/1338,1763/0/default.jpg',\n",
       " 'https://iiif.wellcomecollection.org/image/b14872122_0162.jp2/full/1338,1003/0/default.jpg',\n",
       " 'https://iiif.wellcomecollection.org/image/b28704630_0525.jp2/full/1338,2062/0/default.jpg',\n",
       " 'https://iiif.wellcomecollection.org/image/b28704733_0548.jp2/full/1338,2309/0/default.jpg',\n",
       " 'https://iiif.wellcomecollection.org/image/b32274750_0345.jp2/full/1338,2187/0/default.jpg',\n",
       " 'https://iiif.wellcomecollection.org/image/b1220190x_hin-wel-all-00000040_0089.jp2/full/1338,1852/0/default.jpg',\n",
       " 'https://iiif.wellcomecollection.org/image/b28704733_0399.jp2/full/1338,2440/0/default.jpg',\n",
       " 'https://iiif.wellcomecollection.org/image/b32274658_0130.jp2/full/1338,1754/0/default.jpg',\n",
       " 'https://iiif.wellcomecollection.org/image/b31685717_0034.jp2/full/1338,1730/0/default.jpg',\n",
       " 'https://iiif.wellcomecollection.org/image/b18932034_0178.jp2/full/1338,1860/0/default.jpg',\n",
       " 'https://iiif.wellcomecollection.org/image/b28705889_0330.jp2/full/1338,1844/0/default.jpg',\n",
       " 'https://iiif.wellcomecollection.org/image/b33375392_0001.jp2/full/1338,1780/0/default.jpg',\n",
       " 'https://iiif.wellcomecollection.org/image/b20387878_0132.jp2/full/1338,1781/0/default.jpg',\n",
       " 'https://iiif.wellcomecollection.org/image/b32274737_0004.jp2/full/1338,2620/0/default.jpg',\n",
       " 'https://iiif.wellcomecollection.org/image/b28705038_0283.jp2/full/1338,2115/0/default.jpg',\n",
       " 'https://iiif.wellcomecollection.org/image/b2265415x_DGH1_5_1_1_17_0074.JP2/full/1018,1024/0/default.jpg',\n",
       " 'https://iiif.wellcomecollection.org/image/b14565377_0004.jp2/full/1024,1011/0/default.jpg',\n",
       " 'https://iiif.wellcomecollection.org/image/b28705804_0084.jp2/full/1338,2198/0/default.jpg',\n",
       " 'https://iiif.wellcomecollection.org/image/b14827931_0043.jp2/full/1338,1824/0/default.jpg',\n",
       " 'https://iiif.wellcomecollection.org/image/b20387878_0016.jp2/full/1338,1785/0/default.jpg',\n",
       " 'https://iiif.wellcomecollection.org/image/b18896042_MS_2799_0244.JP2/full/995,1024/0/default.jpg',\n",
       " 'https://iiif.wellcomecollection.org/image/b24940069_RET_3_3_2_4_1438.jp2/full/1024,979/0/default.jpg',\n",
       " 'https://iiif.wellcomecollection.org/image/b32274750_0279.jp2/full/1338,2052/0/default.jpg',\n",
       " 'https://iiif.wellcomecollection.org/image/b20616922_galton_1_4_15_3_0019.JP2/full/1024,1018/0/default.jpg',\n",
       " 'https://iiif.wellcomecollection.org/image/b32274580_0019.jp2/full/1338,1816/0/default.jpg',\n",
       " 'https://iiif.wellcomecollection.org/image/b19608718_0034.jp2/full/1338,1874/0/default.jpg',\n",
       " 'https://iiif.wellcomecollection.org/image/b14560999_0110.jp2/full/981,1024/0/default.jpg',\n",
       " 'https://iiif.wellcomecollection.org/image/b14827608_0022.jp2/full/1338,1822/0/default.jpg',\n",
       " 'https://iiif.wellcomecollection.org/image/b32274750_0165.jp2/full/1338,2003/0/default.jpg',\n",
       " 'https://iiif.wellcomecollection.org/image/b28705889_0218.jp2/full/1338,1844/0/default.jpg',\n",
       " 'https://iiif.wellcomecollection.org/image/b32274658_0051.jp2/full/1338,1744/0/default.jpg',\n",
       " 'https://iiif.wellcomecollection.org/image/b28704630_0566.jp2/full/1338,1920/0/default.jpg',\n",
       " 'https://iiif.wellcomecollection.org/image/b32274750_0053.jp2/full/1338,2248/0/default.jpg',\n",
       " 'https://iiif.wellcomecollection.org/image/b19108801_0100.jp2/full/1338,1592/0/default.jpg',\n",
       " 'https://iiif.wellcomecollection.org/image/b10916180_hin-wel-all-00012288_0195.jp2/full/988,1024/0/default.jpg',\n",
       " 'https://iiif.wellcomecollection.org/image/b19505061_0063.jp2/full/1338,1749/0/default.jpg',\n",
       " 'https://iiif.wellcomecollection.org/image/b3324960x_0001.jp2/full/1338,1059/0/default.jpg',\n",
       " 'https://iiif.wellcomecollection.org/image/b14871749_0097.jp2/full/1338,930/0/default.jpg',\n",
       " 'https://iiif.wellcomecollection.org/image/b32274592_0095.jp2/full/1338,1926/0/default.jpg',\n",
       " 'https://iiif.wellcomecollection.org/image/b29277206_RET_6_20_1_8_63_0114.jp2/full/977,1024/0/default.jpg',\n",
       " 'https://iiif.wellcomecollection.org/image/b14846275_0376.jp2/full/1338,2075/0/default.jpg',\n",
       " 'https://iiif.wellcomecollection.org/image/b18576795_0895.jp2/full/1338,1977/0/default.jpg',\n",
       " 'https://iiif.wellcomecollection.org/image/b18932034_0072.jp2/full/1338,1893/0/default.jpg',\n",
       " 'https://iiif.wellcomecollection.org/image/b28705786_0414.jp2/full/1338,1575/0/default.jpg',\n",
       " 'https://iiif.wellcomecollection.org/image/b18896042_MS_2799_0188.JP2/full/986,1024/0/default.jpg',\n",
       " 'https://iiif.wellcomecollection.org/image/b19096550_0041.jp2/full/1338,1884/0/default.jpg',\n",
       " 'https://iiif.wellcomecollection.org/image/b28705889_0099.jp2/full/1338,1914/0/default.jpg',\n",
       " 'https://iiif.wellcomecollection.org/image/b28705804_0412.jp2/full/1338,2004/0/default.jpg',\n",
       " 'https://iiif.wellcomecollection.org/image/b21899769_ret_1_1_5_15_0143.JP2/full/999,1024/0/default.jpg',\n",
       " 'https://iiif.wellcomecollection.org/image/b2022476x_penrose_2_24_6_2_1_0102.JP2/full/1338,1710/0/default.jpg',\n",
       " 'https://iiif.wellcomecollection.org/image/b30540471_0106.jp2/full/1338,2045/0/default.jpg',\n",
       " 'https://iiif.wellcomecollection.org/image/b28705038_0208.jp2/full/1338,1986/0/default.jpg',\n",
       " 'https://iiif.wellcomecollection.org/image/b28704733_0709.jp2/full/1338,2379/0/default.jpg',\n",
       " 'https://iiif.wellcomecollection.org/image/b28976794_0026.jp2/full/1338,1685/0/default.jpg',\n",
       " 'https://iiif.wellcomecollection.org/image/b19191728_0041.jp2/full/1338,1637/0/default.jpg',\n",
       " 'https://iiif.wellcomecollection.org/image/b31685717_0023.jp2/full/1338,1742/0/default.jpg',\n",
       " 'https://iiif.wellcomecollection.org/image/b18576795_0596.jp2/full/1338,2037/0/default.jpg',\n",
       " 'https://iiif.wellcomecollection.org/image/b33585489_0286.jp2/full/1338,2372/0/default.jpg',\n",
       " 'https://iiif.wellcomecollection.org/image/b19505061_0594.jp2/full/1338,1644/0/default.jpg',\n",
       " 'https://iiif.wellcomecollection.org/image/b2493625x_RET_3_3_2_16_1462.jp2/full/992,1024/0/default.jpg',\n",
       " 'https://iiif.wellcomecollection.org/image/b31854345_0033.jp2/full/1010,1024/0/default.jpg',\n",
       " 'https://iiif.wellcomecollection.org/image/b33537525_0407.jp2/full/1338,2043/0/default.jpg',\n",
       " 'https://iiif.wellcomecollection.org/image/b18693441_0401.jp2/full/1338,2113/0/default.jpg',\n",
       " 'https://iiif.wellcomecollection.org/image/b33585489_0009.jp2/full/1338,2060/0/default.jpg',\n",
       " 'https://iiif.wellcomecollection.org/image/b18508078_RAMC_1091_2_9_0155.jp2/full/1024,1007/0/default.jpg',\n",
       " 'https://iiif.wellcomecollection.org/image/b33381276_0001.jp2/full/1338,1854/0/default.jpg',\n",
       " 'https://iiif.wellcomecollection.org/image/b31685717_0004.jp2/full/1338,1738/0/default.jpg',\n",
       " 'https://iiif.wellcomecollection.org/image/b20224990_penrose_2_24_6_5_7_0001.JP2/full/1338,2090/0/default.jpg',\n",
       " 'https://iiif.wellcomecollection.org/image/b33537525_0338.jp2/full/1338,2077/0/default.jpg',\n",
       " 'https://iiif.wellcomecollection.org/image/b32274610_0040.jp2/full/1338,1795/0/default.jpg',\n",
       " 'https://iiif.wellcomecollection.org/image/b18693441_0005.jp2/full/1338,2028/0/default.jpg',\n",
       " 'https://iiif.wellcomecollection.org/image/b32274695_0068.jp2/full/1338,1784/0/default.jpg',\n",
       " 'https://iiif.wellcomecollection.org/image/b24954809_RET_6_19_1_147_1269.jp2/full/1024,1019/0/default.jpg',\n",
       " 'https://iiif.wellcomecollection.org/image/b18896042_MS_2799_0364.JP2/full/991,1024/0/default.jpg',\n",
       " 'https://iiif.wellcomecollection.org/image/b28704940_0279.jp2/full/1338,1541/0/default.jpg',\n",
       " 'https://iiif.wellcomecollection.org/image/b33505056_0001.jp2/full/1338,1187/0/default.jpg',\n",
       " 'https://iiif.wellcomecollection.org/image/b19287355_0099.jp2/full/1338,1629/0/default.jpg',\n",
       " 'https://iiif.wellcomecollection.org/image/b18710542_ms_6719_0005.JP2/full/1024,985/0/default.jpg',\n",
       " 'https://iiif.wellcomecollection.org/image/b30540471_0342.jp2/full/1338,1991/0/default.jpg',\n",
       " 'https://iiif.wellcomecollection.org/image/b32274555_0191.jp2/full/1338,1958/0/default.jpg',\n",
       " 'https://iiif.wellcomecollection.org/image/b11058286_0753.jp2/full/3704,5384/0/default.jpg',\n",
       " 'https://iiif.wellcomecollection.org/image/b19287355_0166.jp2/full/1338,1682/0/default.jpg',\n",
       " 'https://iiif.wellcomecollection.org/image/b28705786_0405.jp2/full/1338,1575/0/default.jpg',\n",
       " 'https://iiif.wellcomecollection.org/image/b18417383_0079.jp2/full/1338,1657/0/default.jpg',\n",
       " 'https://iiif.wellcomecollection.org/image/b3323663x_0001.jp2/full/1338,2131/0/default.jpg',\n",
       " 'https://iiif.wellcomecollection.org/image/b32274555_0399.jp2/full/1338,1927/0/default.jpg',\n",
       " 'https://iiif.wellcomecollection.org/image/b19505061_0353.jp2/full/1338,1647/0/default.jpg',\n",
       " 'https://iiif.wellcomecollection.org/image/b28705889_0259.jp2/full/1338,1914/0/default.jpg',\n",
       " 'https://iiif.wellcomecollection.org/image/b32274683_0103.jp2/full/1338,1671/0/default.jpg',\n",
       " 'https://iiif.wellcomecollection.org/image/b19287355_0050.jp2/full/1338,1652/0/default.jpg',\n",
       " 'https://iiif.wellcomecollection.org/image/b33378599_0001.jp2/full/1338,1157/0/default.jpg',\n",
       " 'https://iiif.wellcomecollection.org/image/b20387878_0075.jp2/full/1338,1778/0/default.jpg',\n",
       " 'https://iiif.wellcomecollection.org/image/b2022476x_penrose_2_24_6_2_5_0002.JP2/full/1338,2049/0/default.jpg',\n",
       " 'https://iiif.wellcomecollection.org/image/b28705804_0233.jp2/full/1338,2152/0/default.jpg',\n",
       " 'https://iiif.wellcomecollection.org/image/b19541818_0135.jp2/full/1338,2063/0/default.jpg',\n",
       " 'https://iiif.wellcomecollection.org/image/b32274580_0041.jp2/full/1338,1797/0/default.jpg',\n",
       " 'https://iiif.wellcomecollection.org/image/b20614548_galton_02_08_01_13_08_0011.JP2/full/1006,1024/0/default.jpg',\n",
       " 'https://iiif.wellcomecollection.org/image/b28705269_0102.jp2/full/1338,1805/0/default.jpg',\n",
       " 'https://iiif.wellcomecollection.org/image/b28705427_0330.jp2/full/1338,2154/0/default.jpg',\n",
       " 'https://iiif.wellcomecollection.org/image/b33377492_0001.jp2/full/1338,1541/0/default.jpg',\n",
       " 'https://iiif.wellcomecollection.org/image/b24946448_RET_3_3_2_11_0310.jp2/full/1024,987/0/default.jpg',\n",
       " 'https://iiif.wellcomecollection.org/image/b19575397_0095.jp2/full/1338,2021/0/default.jpg',\n",
       " 'https://iiif.wellcomecollection.org/image/b32892354_0497.JP2/full/997,1024/0/default.jpg',\n",
       " 'https://iiif.wellcomecollection.org/image/b28704733_0291.jp2/full/1338,2338/0/default.jpg',\n",
       " 'https://iiif.wellcomecollection.org/image/b32274683_0079.jp2/full/1338,1651/0/default.jpg',\n",
       " 'https://iiif.wellcomecollection.org/image/b18306019_WA_HMM_CO_Ear_937_0007.jp2/full/1024,979/0/default.jpg',\n",
       " 'https://iiif.wellcomecollection.org/image/b20387878_0085.jp2/full/1338,1747/0/default.jpg',\n",
       " 'https://iiif.wellcomecollection.org/image/b33537525_0828.jp2/full/1338,1980/0/default.jpg',\n",
       " 'https://iiif.wellcomecollection.org/image/b22654896_DGH1_5_1_1_19_0018.JP2/full/991,1024/0/default.jpg',\n",
       " 'https://iiif.wellcomecollection.org/image/b28704630_0334.jp2/full/1338,1932/0/default.jpg',\n",
       " 'https://iiif.wellcomecollection.org/image/b28705786_0299.jp2/full/1338,1625/0/default.jpg',\n",
       " 'https://iiif.wellcomecollection.org/image/b19287355_0144.jp2/full/1338,1665/0/default.jpg',\n",
       " 'https://iiif.wellcomecollection.org/image/b28704733_0603.jp2/full/1338,2410/0/default.jpg',\n",
       " 'https://iiif.wellcomecollection.org/image/b33374120_0001.jp2/full/1338,1323/0/default.jpg',\n",
       " 'https://iiif.wellcomecollection.org/image/b32274737_0007.jp2/full/1338,2079/0/default.jpg',\n",
       " 'https://iiif.wellcomecollection.org/image/b28704940_0223.jp2/full/1338,1540/0/default.jpg',\n",
       " 'https://iiif.wellcomecollection.org/image/b19505061_0525.jp2/full/1338,1749/0/default.jpg',\n",
       " 'https://iiif.wellcomecollection.org/image/b28705579_0034.jp2/full/1338,850/0/default.jpg',\n",
       " 'https://iiif.wellcomecollection.org/image/b32274750_0112.jp2/full/1338,2155/0/default.jpg',\n",
       " 'https://iiif.wellcomecollection.org/image/b19012676_0283.jp2/full/1338,1845/0/default.jpg',\n",
       " 'https://iiif.wellcomecollection.org/image/b28705853_0028.jp2/full/1338,2280/0/default.jpg',\n",
       " 'https://iiif.wellcomecollection.org/image/b19314164_0054.jp2/full/1338,1601/0/default.jpg',\n",
       " 'https://iiif.wellcomecollection.org/image/b19505061_0644.jp2/full/1338,1606/0/default.jpg',\n",
       " 'https://iiif.wellcomecollection.org/image/b22654860_DGH1_5_27_6_0030.JP2/full/1002,1024/0/default.jpg',\n",
       " 'https://iiif.wellcomecollection.org/image/b28705427_0267.jp2/full/1338,2286/0/default.jpg',\n",
       " 'https://iiif.wellcomecollection.org/image/b19311904_0113.jp2/full/1338,1815/0/default.jpg',\n",
       " 'https://iiif.wellcomecollection.org/image/b28705038_0123.jp2/full/1338,2116/0/default.jpg',\n",
       " 'https://iiif.wellcomecollection.org/image/b28705737_0051.jp2/full/1338,2064/0/default.jpg',\n",
       " 'https://iiif.wellcomecollection.org/image/b14827931_0039.jp2/full/1338,1829/0/default.jpg',\n",
       " 'https://iiif.wellcomecollection.org/image/b17287510_0001.jp2/full/1338,1804/0/default.jpg',\n",
       " 'https://iiif.wellcomecollection.org/image/b29279483_RET_6_20_1_16_44_0015.jp2/full/993,1024/0/default.jpg',\n",
       " 'https://iiif.wellcomecollection.org/image/b28705038_0091.jp2/full/1338,2116/0/default.jpg',\n",
       " 'https://iiif.wellcomecollection.org/image/b2265415x_DGH1_5_1_1_17_0004.JP2/full/997,1024/0/default.jpg',\n",
       " ...]"
      ]
     },
     "execution_count": 2,
     "metadata": {},
     "output_type": "execute_result"
    }
   ],
   "source": [
    "import pandas as pd\n",
    "\n",
    "df_image_indices = pd.read_parquet(\n",
    "    '../data/vlm_embed/iiif_no_text_embedding_index.parquet')\n",
    "df_image_indices = df_image_indices.set_index('row_index')\n",
    "df_image_indices['image_id'].to_list()"
   ]
  },
  {
   "cell_type": "code",
   "execution_count": null,
   "id": "30a956f7",
   "metadata": {},
   "outputs": [],
   "source": [
    "df_image_indices.to_json(\n",
    "    '../data/vlm_embed/iiif_no_text_embedding_index.parquet'.replace(\n",
    "        '.parquet', '.json'), orient='index')"
   ]
  },
  {
   "cell_type": "code",
   "execution_count": 12,
   "id": "f6b613a4",
   "metadata": {},
   "outputs": [
    {
     "data": {
      "text/plain": [
       "array(['https://iiif.wellcomecollection.org/image/b14755117_0076.jp2/full/1338,1353/0/default.jpg',\n",
       "       'https://iiif.wellcomecollection.org/image/b18758897_0179.jp2/full/1338,1856/0/default.jpg',\n",
       "       'https://iiif.wellcomecollection.org/image/b33249519_0001.jp2/full/1338,935/0/default.jpg',\n",
       "       ...,\n",
       "       'https://iiif.wellcomecollection.org/image/b18758897_0204.jp2/full/1338,1713/0/default.jpg',\n",
       "       'https://iiif.wellcomecollection.org/image/b18318162_0115.jp2/full/1338,1898/0/default.jpg',\n",
       "       'https://iiif.wellcomecollection.org/image/b2493625x_RET_3_3_2_16_0570.jp2/full/1024,1017/0/default.jpg'],\n",
       "      dtype=object)"
      ]
     },
     "execution_count": 12,
     "metadata": {},
     "output_type": "execute_result"
    }
   ],
   "source": [
    "# select the image indices for the subset\n",
    "subset_images = df_image_indices.loc[subset_idx].values\n",
    "subset_images = np.reshape(subset_images, (-1))\n",
    "subset_images"
   ]
  },
  {
   "cell_type": "code",
   "execution_count": 13,
   "id": "68a4158e",
   "metadata": {},
   "outputs": [
    {
     "data": {
      "text/plain": [
       "array([[ 9.394396  ,  7.2479796 ],\n",
       "       [ 1.9158536 ,  8.637921  ],\n",
       "       [-0.25186992, 10.690093  ],\n",
       "       ...,\n",
       "       [ 3.639392  ,  7.611991  ],\n",
       "       [ 0.04486572,  5.220537  ],\n",
       "       [-4.1493754 ,  7.1644235 ]], dtype=float32)"
      ]
     },
     "execution_count": 13,
     "metadata": {},
     "output_type": "execute_result"
    }
   ],
   "source": [
    "import umap\n",
    "import plotly.express as px\n",
    "\n",
    "centered = subset - subset.mean(axis=0)\n",
    "U, S, Vt = np.linalg.svd(centered, full_matrices=False)\n",
    "whitened = centered @ Vt.T / S\n",
    "\n",
    "# UMAP\n",
    "umap_model = umap.UMAP(n_neighbors=15, n_components=2, metric='euclidean')\n",
    "umap_2d_embeddings = umap_model.fit_transform(whitened)\n",
    "umap_2d_embeddings"
   ]
  },
  {
   "cell_type": "markdown",
   "id": "871df71e",
   "metadata": {},
   "source": [
    "# Plot with Images"
   ]
  },
  {
   "cell_type": "code",
   "execution_count": 16,
   "id": "4294ff2f",
   "metadata": {},
   "outputs": [],
   "source": [
    "from io import BytesIO\n",
    "from PIL import Image, ImageOps\n",
    "import base64\n",
    "import requests\n",
    "import requests_cache\n",
    "\n",
    "\n",
    "from concurrent.futures import ThreadPoolExecutor, as_completed\n",
    "\n",
    "# Optional: on-disk HTTP cache (pip install requests-cache) to avoid\n",
    "# re-downloading\n",
    "try:\n",
    "    session = requests_cache.CachedSession(\n",
    "        'img_cache',\n",
    "        backend='sqlite',\n",
    "        expire_after=7 * 24 * 3600,  # 7 days\n",
    "        allowable_methods=('GET',),\n",
    "        allowable_codes=(200,),\n",
    "    )\n",
    "except Exception:\n",
    "    session = requests.Session()\n",
    "\n",
    "\n",
    "def embeddable_jpeg(url, max_side=512, timeout=10):\n",
    "    \"\"\"Fetch JPEG at URL, scale longest side to max_side (keep aspect), return data:image/jpeg;base64,...\"\"\"\n",
    "    r = session.get(url, timeout=timeout, stream=True)\n",
    "    r.raise_for_status()\n",
    "\n",
    "    # Decode + correct EXIF orientation\n",
    "    img = Image.open(r.raw)\n",
    "    img = ImageOps.exif_transpose(img).convert(\"RGB\")\n",
    "\n",
    "    # Scale proportionally: longest side = max_side\n",
    "    w, h = img.size\n",
    "    scale = max_side / max(w, h) if max(w, h) > max_side else 1.0\n",
    "    if scale != 1.0:\n",
    "        img = img.resize((int(w * scale), int(h * scale)),\n",
    "                         Image.Resampling.LANCZOS)\n",
    "\n",
    "    # Encode JPEG efficiently (smaller payloads = faster base64 + render)\n",
    "    buf = BytesIO()\n",
    "    img.save(buf, format=\"JPEG\", quality=70, optimize=True, progressive=True)\n",
    "    return \"data:image/jpeg;base64,\" + \\\n",
    "        base64.b64encode(buf.getvalue()).decode()\n",
    "\n",
    "\n",
    "def batch_embeddable_jpeg(urls, max_side=512, max_workers=16, timeout=10):\n",
    "    \"\"\"Deduplicate, parallelize, and preserve order.\"\"\"\n",
    "    # Deduplicate to avoid repeated downloads\n",
    "    unique_urls = list(dict.fromkeys(urls))\n",
    "    results_map = {}\n",
    "\n",
    "    def _wrap(u):\n",
    "        try:\n",
    "            return u, embeddable_jpeg(u, max_side=max_side, timeout=timeout)\n",
    "        except Exception:\n",
    "            return u, None  # or a tiny placeholder\n",
    "\n",
    "    with ThreadPoolExecutor(max_workers=max_workers) as ex:\n",
    "        futs = [ex.submit(_wrap, u) for u in unique_urls]\n",
    "        for fut in as_completed(futs):\n",
    "            u, val = fut.result()\n",
    "            results_map[u] = val\n",
    "\n",
    "    # Re-expand to original order\n",
    "    return [results_map.get(u) for u in urls]\n",
    "\n",
    "# Normalize whitened x, y, z to [0, 1] for RGB\n",
    "\n",
    "\n",
    "def normalize(arr):\n",
    "    min_val = arr.min()\n",
    "    max_val = arr.max()\n",
    "    return (arr - min_val) / (max_val - min_val + 1e-8)\n",
    "\n",
    "# Convert to hex color\n",
    "def rgb_to_hex(r, g, b):\n",
    "    return ['#%02x%02x%02x' % (int(255 * x), int(255 * y), int(255 * z))\n",
    "            for x, y, z in zip(r, g, b)]"
   ]
  },
  {
   "cell_type": "code",
   "execution_count": 17,
   "id": "93ca41ae",
   "metadata": {},
   "outputs": [],
   "source": [
    "images_df = pd.DataFrame(umap_2d_embeddings, columns=('x', 'y'))\n",
    "images_df['image'] = batch_embeddable_jpeg(\n",
    "    subset_images, max_side=512, max_workers=16)\n",
    "images_df['idx'] = subset_idx"
   ]
  },
  {
   "cell_type": "code",
   "execution_count": 18,
   "id": "53401c37",
   "metadata": {},
   "outputs": [],
   "source": [
    "r = normalize(whitened[:, 0])\n",
    "g = normalize(whitened[:, 1])\n",
    "b = normalize(whitened[:, 2])\n",
    "\n",
    "images_df['color'] = rgb_to_hex(r, g, b)"
   ]
  },
  {
   "cell_type": "code",
   "execution_count": 19,
   "id": "dd3ba352",
   "metadata": {},
   "outputs": [],
   "source": [
    "# Write parquet\n",
    "images_df.to_parquet('../data/vlm_embed/iiif_no_text_umap_2d_vlm_embed_vae3d_hires_1_umap_2d_plot.parquet')"
   ]
  },
  {
   "cell_type": "code",
   "execution_count": 20,
   "id": "70a868be",
   "metadata": {},
   "outputs": [],
   "source": [
    "import pandas as pd\n",
    "# Load the data\n",
    "images_df = pd.read_parquet(\n",
    "    '../data/vlm_embed/iiif_no_text_umap_2d_vlm_embed_vae3d_hires_1_umap_2d_plot.parquet')"
   ]
  },
  {
   "cell_type": "code",
   "execution_count": 21,
   "id": "701abe8a",
   "metadata": {},
   "outputs": [
    {
     "data": {
      "text/html": [
       "    <style>\n",
       "        .bk-notebook-logo {\n",
       "            display: block;\n",
       "            width: 20px;\n",
       "            height: 20px;\n",
       "            background-image: url(data:image/png;base64,iVBORw0KGgoAAAANSUhEUgAAABQAAAAUCAYAAACNiR0NAAAABHNCSVQICAgIfAhkiAAAAAlwSFlzAAALEgAACxIB0t1+/AAAABx0RVh0U29mdHdhcmUAQWRvYmUgRmlyZXdvcmtzIENTNui8sowAAAOkSURBVDiNjZRtaJVlGMd/1/08zzln5zjP1LWcU9N0NkN8m2CYjpgQYQXqSs0I84OLIC0hkEKoPtiH3gmKoiJDU7QpLgoLjLIQCpEsNJ1vqUOdO7ppbuec5+V+rj4ctwzd8IIbbi6u+8f1539dt3A78eXC7QizUF7gyV1fD1Yqg4JWz84yffhm0qkFqBogB9rM8tZdtwVsPUhWhGcFJngGeWrPzHm5oaMmkfEg1usvLFyc8jLRqDOMru7AyC8saQr7GG7f5fvDeH7Ej8CM66nIF+8yngt6HWaKh7k49Soy9nXurCi1o3qUbS3zWfrYeQDTB/Qj6kX6Ybhw4B+bOYoLKCC9H3Nu/leUTZ1JdRWkkn2ldcCamzrcf47KKXdAJllSlxAOkRgyHsGC/zRday5Qld9DyoM4/q/rUoy/CXh3jzOu3bHUVZeU+DEn8FInkPBFlu3+nW3Nw0mk6vCDiWg8CeJaxEwuHS3+z5RgY+YBR6V1Z1nxSOfoaPa4LASWxxdNp+VWTk7+4vzaou8v8PN+xo+KY2xsw6une2frhw05CTYOmQvsEhjhWjn0bmXPjpE1+kplmmkP3suftwTubK9Vq22qKmrBhpY4jvd5afdRA3wGjFAgcnTK2s4hY0/GPNIb0nErGMCRxWOOX64Z8RAC4oCXdklmEvcL8o0BfkNK4lUg9HTl+oPlQxdNo3Mg4Nv175e/1LDGzZen30MEjRUtmXSfiTVu1kK8W4txyV6BMKlbgk3lMwYCiusNy9fVfvvwMxv8Ynl6vxoByANLTWplvuj/nF9m2+PDtt1eiHPBr1oIfhCChQMBw6Aw0UulqTKZdfVvfG7VcfIqLG9bcldL/+pdWTLxLUy8Qq38heUIjh4XlzZxzQm19lLFlr8vdQ97rjZVOLf8nclzckbcD4wxXMidpX30sFd37Fv/GtwwhzhxGVAprjbg0gCAEeIgwCZyTV2Z1REEW8O4py0wsjeloKoMr6iCY6dP92H6Vw/oTyICIthibxjm/DfN9lVz8IqtqKYLUXfoKVMVQVVJOElGjrnnUt9T9wbgp8AyYKaGlqingHZU/uG2NTZSVqwHQTWkx9hxjkpWDaCg6Ckj5qebgBVbT3V3NNXMSiWSDdGV3hrtzla7J+duwPOToIg42ChPQOQjspnSlp1V+Gjdged7+8UN5CRAV7a5EdFNwCjEaBR27b3W890TE7g24NAP/mMDXRWrGoFPQI9ls/MWO2dWFAar/xcOIImbbpA3zgAAAABJRU5ErkJggg==);\n",
       "        }\n",
       "    </style>\n",
       "    <div>\n",
       "        <a href=\"https://bokeh.org\" target=\"_blank\" class=\"bk-notebook-logo\"></a>\n",
       "        <span id=\"b09c4d75-41d9-42d9-a970-e24dfe5983e8\">Loading BokehJS ...</span>\n",
       "    </div>\n"
      ]
     },
     "metadata": {},
     "output_type": "display_data"
    },
    {
     "data": {
      "application/javascript": "'use strict';\n(function(root) {\n  function now() {\n    return new Date();\n  }\n\n  const force = true;\n\n  if (typeof root._bokeh_onload_callbacks === \"undefined\" || force === true) {\n    root._bokeh_onload_callbacks = [];\n    root._bokeh_is_loading = undefined;\n  }\n\nconst JS_MIME_TYPE = 'application/javascript';\n  const HTML_MIME_TYPE = 'text/html';\n  const EXEC_MIME_TYPE = 'application/vnd.bokehjs_exec.v0+json';\n  const CLASS_NAME = 'output_bokeh rendered_html';\n\n  /**\n   * Render data to the DOM node\n   */\n  function render(props, node) {\n    const script = document.createElement(\"script\");\n    node.appendChild(script);\n  }\n\n  /**\n   * Handle when an output is cleared or removed\n   */\n  function handleClearOutput(event, handle) {\n    function drop(id) {\n      const view = Bokeh.index.get_by_id(id)\n      if (view != null) {\n        view.model.document.clear()\n        Bokeh.index.delete(view)\n      }\n    }\n\n    const cell = handle.cell;\n\n    const id = cell.output_area._bokeh_element_id;\n    const server_id = cell.output_area._bokeh_server_id;\n\n    // Clean up Bokeh references\n    if (id != null) {\n      drop(id)\n    }\n\n    if (server_id !== undefined) {\n      // Clean up Bokeh references\n      const cmd_clean = \"from bokeh.io.state import curstate; print(curstate().uuid_to_server['\" + server_id + \"'].get_sessions()[0].document.roots[0]._id)\";\n      cell.notebook.kernel.execute(cmd_clean, {\n        iopub: {\n          output: function(msg) {\n            const id = msg.content.text.trim()\n            drop(id)\n          }\n        }\n      });\n      // Destroy server and session\n      const cmd_destroy = \"import bokeh.io.notebook as ion; ion.destroy_server('\" + server_id + \"')\";\n      cell.notebook.kernel.execute(cmd_destroy);\n    }\n  }\n\n  /**\n   * Handle when a new output is added\n   */\n  function handleAddOutput(event, handle) {\n    const output_area = handle.output_area;\n    const output = handle.output;\n\n    // limit handleAddOutput to display_data with EXEC_MIME_TYPE content only\n    if ((output.output_type != \"display_data\") || (!Object.prototype.hasOwnProperty.call(output.data, EXEC_MIME_TYPE))) {\n      return\n    }\n\n    const toinsert = output_area.element.find(\".\" + CLASS_NAME.split(' ')[0]);\n\n    if (output.metadata[EXEC_MIME_TYPE][\"id\"] !== undefined) {\n      toinsert[toinsert.length - 1].firstChild.textContent = output.data[JS_MIME_TYPE];\n      // store reference to embed id on output_area\n      output_area._bokeh_element_id = output.metadata[EXEC_MIME_TYPE][\"id\"];\n    }\n    if (output.metadata[EXEC_MIME_TYPE][\"server_id\"] !== undefined) {\n      const bk_div = document.createElement(\"div\");\n      bk_div.innerHTML = output.data[HTML_MIME_TYPE];\n      const script_attrs = bk_div.children[0].attributes;\n      for (let i = 0; i < script_attrs.length; i++) {\n        toinsert[toinsert.length - 1].firstChild.setAttribute(script_attrs[i].name, script_attrs[i].value);\n        toinsert[toinsert.length - 1].firstChild.textContent = bk_div.children[0].textContent\n      }\n      // store reference to server id on output_area\n      output_area._bokeh_server_id = output.metadata[EXEC_MIME_TYPE][\"server_id\"];\n    }\n  }\n\n  function register_renderer(events, OutputArea) {\n\n    function append_mime(data, metadata, element) {\n      // create a DOM node to render to\n      const toinsert = this.create_output_subarea(\n        metadata,\n        CLASS_NAME,\n        EXEC_MIME_TYPE\n      );\n      this.keyboard_manager.register_events(toinsert);\n      // Render to node\n      const props = {data: data, metadata: metadata[EXEC_MIME_TYPE]};\n      render(props, toinsert[toinsert.length - 1]);\n      element.append(toinsert);\n      return toinsert\n    }\n\n    /* Handle when an output is cleared or removed */\n    events.on('clear_output.CodeCell', handleClearOutput);\n    events.on('delete.Cell', handleClearOutput);\n\n    /* Handle when a new output is added */\n    events.on('output_added.OutputArea', handleAddOutput);\n\n    /**\n     * Register the mime type and append_mime function with output_area\n     */\n    OutputArea.prototype.register_mime_type(EXEC_MIME_TYPE, append_mime, {\n      /* Is output safe? */\n      safe: true,\n      /* Index of renderer in `output_area.display_order` */\n      index: 0\n    });\n  }\n\n  // register the mime type if in Jupyter Notebook environment and previously unregistered\n  if (root.Jupyter !== undefined) {\n    const events = require('base/js/events');\n    const OutputArea = require('notebook/js/outputarea').OutputArea;\n\n    if (OutputArea.prototype.mime_types().indexOf(EXEC_MIME_TYPE) == -1) {\n      register_renderer(events, OutputArea);\n    }\n  }\n  if (typeof (root._bokeh_timeout) === \"undefined\" || force === true) {\n    root._bokeh_timeout = Date.now() + 5000;\n    root._bokeh_failed_load = false;\n  }\n\n  const NB_LOAD_WARNING = {'data': {'text/html':\n     \"<div style='background-color: #fdd'>\\n\"+\n     \"<p>\\n\"+\n     \"BokehJS does not appear to have successfully loaded. If loading BokehJS from CDN, this \\n\"+\n     \"may be due to a slow or bad network connection. Possible fixes:\\n\"+\n     \"</p>\\n\"+\n     \"<ul>\\n\"+\n     \"<li>re-rerun `output_notebook()` to attempt to load from CDN again, or</li>\\n\"+\n     \"<li>use INLINE resources instead, as so:</li>\\n\"+\n     \"</ul>\\n\"+\n     \"<code>\\n\"+\n     \"from bokeh.resources import INLINE\\n\"+\n     \"output_notebook(resources=INLINE)\\n\"+\n     \"</code>\\n\"+\n     \"</div>\"}};\n\n  function display_loaded(error = null) {\n    const el = document.getElementById(\"b09c4d75-41d9-42d9-a970-e24dfe5983e8\");\n    if (el != null) {\n      const html = (() => {\n        if (typeof root.Bokeh === \"undefined\") {\n          if (error == null) {\n            return \"BokehJS is loading ...\";\n          } else {\n            return \"BokehJS failed to load.\";\n          }\n        } else {\n          const prefix = `BokehJS ${root.Bokeh.version}`;\n          if (error == null) {\n            return `${prefix} successfully loaded.`;\n          } else {\n            return `${prefix} <b>encountered errors</b> while loading and may not function as expected.`;\n          }\n        }\n      })();\n      el.innerHTML = html;\n\n      if (error != null) {\n        const wrapper = document.createElement(\"div\");\n        wrapper.style.overflow = \"auto\";\n        wrapper.style.height = \"5em\";\n        wrapper.style.resize = \"vertical\";\n        const content = document.createElement(\"div\");\n        content.style.fontFamily = \"monospace\";\n        content.style.whiteSpace = \"pre-wrap\";\n        content.style.backgroundColor = \"rgb(255, 221, 221)\";\n        content.textContent = error.stack ?? error.toString();\n        wrapper.append(content);\n        el.append(wrapper);\n      }\n    } else if (Date.now() < root._bokeh_timeout) {\n      setTimeout(() => display_loaded(error), 100);\n    }\n  }\n\n  function run_callbacks() {\n    try {\n      root._bokeh_onload_callbacks.forEach(function(callback) {\n        if (callback != null)\n          callback();\n      });\n    } finally {\n      delete root._bokeh_onload_callbacks\n    }\n    console.debug(\"Bokeh: all callbacks have finished\");\n  }\n\n  function load_libs(css_urls, js_urls, callback) {\n    if (css_urls == null) css_urls = [];\n    if (js_urls == null) js_urls = [];\n\n    root._bokeh_onload_callbacks.push(callback);\n    if (root._bokeh_is_loading > 0) {\n      console.debug(\"Bokeh: BokehJS is being loaded, scheduling callback at\", now());\n      return null;\n    }\n    if (js_urls == null || js_urls.length === 0) {\n      run_callbacks();\n      return null;\n    }\n    console.debug(\"Bokeh: BokehJS not loaded, scheduling load and callback at\", now());\n    root._bokeh_is_loading = css_urls.length + js_urls.length;\n\n    function on_load() {\n      root._bokeh_is_loading--;\n      if (root._bokeh_is_loading === 0) {\n        console.debug(\"Bokeh: all BokehJS libraries/stylesheets loaded\");\n        run_callbacks()\n      }\n    }\n\n    function on_error(url) {\n      console.error(\"failed to load \" + url);\n    }\n\n    for (let i = 0; i < css_urls.length; i++) {\n      const url = css_urls[i];\n      const element = document.createElement(\"link\");\n      element.onload = on_load;\n      element.onerror = on_error.bind(null, url);\n      element.rel = \"stylesheet\";\n      element.type = \"text/css\";\n      element.href = url;\n      console.debug(\"Bokeh: injecting link tag for BokehJS stylesheet: \", url);\n      document.body.appendChild(element);\n    }\n\n    for (let i = 0; i < js_urls.length; i++) {\n      const url = js_urls[i];\n      const element = document.createElement('script');\n      element.onload = on_load;\n      element.onerror = on_error.bind(null, url);\n      element.async = false;\n      element.src = url;\n      console.debug(\"Bokeh: injecting script tag for BokehJS library: \", url);\n      document.head.appendChild(element);\n    }\n  };\n\n  function inject_raw_css(css) {\n    const element = document.createElement(\"style\");\n    element.appendChild(document.createTextNode(css));\n    document.body.appendChild(element);\n  }\n\n  const js_urls = [\"https://cdn.bokeh.org/bokeh/release/bokeh-3.8.0.min.js\", \"https://cdn.bokeh.org/bokeh/release/bokeh-gl-3.8.0.min.js\", \"https://cdn.bokeh.org/bokeh/release/bokeh-widgets-3.8.0.min.js\", \"https://cdn.bokeh.org/bokeh/release/bokeh-tables-3.8.0.min.js\", \"https://cdn.bokeh.org/bokeh/release/bokeh-mathjax-3.8.0.min.js\"];\n  const css_urls = [];\n\n  const inline_js = [    function(Bokeh) {\n      Bokeh.set_log_level(\"info\");\n    },\nfunction(Bokeh) {\n    }\n  ];\n\n  function run_inline_js() {\n    if (root.Bokeh !== undefined || force === true) {\n      try {\n            for (let i = 0; i < inline_js.length; i++) {\n      inline_js[i].call(root, root.Bokeh);\n    }\n\n      } catch (error) {display_loaded(error);throw error;\n      }if (force === true) {\n        display_loaded();\n      }} else if (Date.now() < root._bokeh_timeout) {\n      setTimeout(run_inline_js, 100);\n    } else if (!root._bokeh_failed_load) {\n      console.log(\"Bokeh: BokehJS failed to load within specified timeout.\");\n      root._bokeh_failed_load = true;\n    } else if (force !== true) {\n      const cell = $(document.getElementById(\"b09c4d75-41d9-42d9-a970-e24dfe5983e8\")).parents('.cell').data().cell;\n      cell.output_area.append_execute_result(NB_LOAD_WARNING)\n    }\n  }\n\n  if (root._bokeh_is_loading === 0) {\n    console.debug(\"Bokeh: BokehJS loaded, going straight to plotting\");\n    run_inline_js();\n  } else {\n    load_libs(css_urls, js_urls, function() {\n      console.debug(\"Bokeh: BokehJS plotting callback run at\", now());\n      run_inline_js();\n    });\n  }\n}(window));",
      "application/vnd.bokehjs_load.v0+json": ""
     },
     "metadata": {},
     "output_type": "display_data"
    }
   ],
   "source": [
    "from bokeh.plotting import figure, show, output_notebook\n",
    "from bokeh.models import HoverTool, ColumnDataSource, CategoricalColorMapper\n",
    "from bokeh.palettes import Spectral10\n",
    "\n",
    "output_notebook()"
   ]
  },
  {
   "cell_type": "code",
   "execution_count": 22,
   "id": "abb2c2a0",
   "metadata": {},
   "outputs": [
    {
     "data": {
      "text/html": [
       "<div style=\"display: table;\"><div style=\"display: table-row;\"><div style=\"display: table-cell;\"><b title=\"bokeh.models.renderers.glyph_renderer.GlyphRenderer\">GlyphRenderer</b>(</div><div style=\"display: table-cell;\">id&nbsp;=&nbsp;'p1043', <span id=\"p1047\" style=\"cursor: pointer;\">&hellip;)</span></div></div><div class=\"p1046\" style=\"display: none;\"><div style=\"display: table-cell;\"></div><div style=\"display: table-cell;\">context_menu&nbsp;=&nbsp;None,</div></div><div class=\"p1046\" style=\"display: none;\"><div style=\"display: table-cell;\"></div><div style=\"display: table-cell;\">coordinates&nbsp;=&nbsp;None,</div></div><div class=\"p1046\" style=\"display: none;\"><div style=\"display: table-cell;\"></div><div style=\"display: table-cell;\">css_classes&nbsp;=&nbsp;[],</div></div><div class=\"p1046\" style=\"display: none;\"><div style=\"display: table-cell;\"></div><div style=\"display: table-cell;\">css_variables&nbsp;=&nbsp;{},</div></div><div class=\"p1046\" style=\"display: none;\"><div style=\"display: table-cell;\"></div><div style=\"display: table-cell;\">data_source&nbsp;=&nbsp;ColumnDataSource(id='p1008', ...),</div></div><div class=\"p1046\" style=\"display: none;\"><div style=\"display: table-cell;\"></div><div style=\"display: table-cell;\">glyph&nbsp;=&nbsp;Scatter(id='p1040', ...),</div></div><div class=\"p1046\" style=\"display: none;\"><div style=\"display: table-cell;\"></div><div style=\"display: table-cell;\">group&nbsp;=&nbsp;None,</div></div><div class=\"p1046\" style=\"display: none;\"><div style=\"display: table-cell;\"></div><div style=\"display: table-cell;\">hover_glyph&nbsp;=&nbsp;None,</div></div><div class=\"p1046\" style=\"display: none;\"><div style=\"display: table-cell;\"></div><div style=\"display: table-cell;\">html_attributes&nbsp;=&nbsp;{},</div></div><div class=\"p1046\" style=\"display: none;\"><div style=\"display: table-cell;\"></div><div style=\"display: table-cell;\">html_id&nbsp;=&nbsp;None,</div></div><div class=\"p1046\" style=\"display: none;\"><div style=\"display: table-cell;\"></div><div style=\"display: table-cell;\">js_event_callbacks&nbsp;=&nbsp;{},</div></div><div class=\"p1046\" style=\"display: none;\"><div style=\"display: table-cell;\"></div><div style=\"display: table-cell;\">js_property_callbacks&nbsp;=&nbsp;{},</div></div><div class=\"p1046\" style=\"display: none;\"><div style=\"display: table-cell;\"></div><div style=\"display: table-cell;\">level&nbsp;=&nbsp;'glyph',</div></div><div class=\"p1046\" style=\"display: none;\"><div style=\"display: table-cell;\"></div><div style=\"display: table-cell;\">muted&nbsp;=&nbsp;False,</div></div><div class=\"p1046\" style=\"display: none;\"><div style=\"display: table-cell;\"></div><div style=\"display: table-cell;\">muted_glyph&nbsp;=&nbsp;Scatter(id='p1042', ...),</div></div><div class=\"p1046\" style=\"display: none;\"><div style=\"display: table-cell;\"></div><div style=\"display: table-cell;\">name&nbsp;=&nbsp;None,</div></div><div class=\"p1046\" style=\"display: none;\"><div style=\"display: table-cell;\"></div><div style=\"display: table-cell;\">nonselection_glyph&nbsp;=&nbsp;Scatter(id='p1041', ...),</div></div><div class=\"p1046\" style=\"display: none;\"><div style=\"display: table-cell;\"></div><div style=\"display: table-cell;\">propagate_hover&nbsp;=&nbsp;False,</div></div><div class=\"p1046\" style=\"display: none;\"><div style=\"display: table-cell;\"></div><div style=\"display: table-cell;\">selection_glyph&nbsp;=&nbsp;'auto',</div></div><div class=\"p1046\" style=\"display: none;\"><div style=\"display: table-cell;\"></div><div style=\"display: table-cell;\">styles&nbsp;=&nbsp;{},</div></div><div class=\"p1046\" style=\"display: none;\"><div style=\"display: table-cell;\"></div><div style=\"display: table-cell;\">stylesheets&nbsp;=&nbsp;[],</div></div><div class=\"p1046\" style=\"display: none;\"><div style=\"display: table-cell;\"></div><div style=\"display: table-cell;\">subscribed_events&nbsp;=&nbsp;PropertyValueSet(),</div></div><div class=\"p1046\" style=\"display: none;\"><div style=\"display: table-cell;\"></div><div style=\"display: table-cell;\">syncable&nbsp;=&nbsp;True,</div></div><div class=\"p1046\" style=\"display: none;\"><div style=\"display: table-cell;\"></div><div style=\"display: table-cell;\">tags&nbsp;=&nbsp;[],</div></div><div class=\"p1046\" style=\"display: none;\"><div style=\"display: table-cell;\"></div><div style=\"display: table-cell;\">view&nbsp;=&nbsp;CDSView(id='p1044', ...),</div></div><div class=\"p1046\" style=\"display: none;\"><div style=\"display: table-cell;\"></div><div style=\"display: table-cell;\">visible&nbsp;=&nbsp;True,</div></div><div class=\"p1046\" style=\"display: none;\"><div style=\"display: table-cell;\"></div><div style=\"display: table-cell;\">x_range_name&nbsp;=&nbsp;'default',</div></div><div class=\"p1046\" style=\"display: none;\"><div style=\"display: table-cell;\"></div><div style=\"display: table-cell;\">y_range_name&nbsp;=&nbsp;'default')</div></div></div>\n",
       "<script>\n",
       "(function() {\n",
       "  let expanded = false;\n",
       "  const ellipsis = document.getElementById(\"p1047\");\n",
       "  ellipsis.addEventListener(\"click\", function() {\n",
       "    const rows = document.getElementsByClassName(\"p1046\");\n",
       "    for (let i = 0; i < rows.length; i++) {\n",
       "      const el = rows[i];\n",
       "      el.style.display = expanded ? \"none\" : \"table-row\";\n",
       "    }\n",
       "    ellipsis.innerHTML = expanded ? \"&hellip;)\" : \"&lsaquo;&lsaquo;&lsaquo;\";\n",
       "    expanded = !expanded;\n",
       "  });\n",
       "})();\n",
       "</script>\n"
      ],
      "text/plain": [
       "GlyphRenderer(id='p1043', ...)"
      ]
     },
     "execution_count": 22,
     "metadata": {},
     "output_type": "execute_result"
    }
   ],
   "source": [
    "datasource = ColumnDataSource(images_df)\n",
    "\n",
    "plot_figure = figure(\n",
    "    title='UMAP projection of the IIIF non-ocr dataset',\n",
    "    width=1920,\n",
    "    height=1080,\n",
    "    tools=('pan, wheel_zoom, reset')\n",
    ")\n",
    "\n",
    "plot_figure.add_tools(HoverTool(tooltips=\"\"\"\n",
    "<div>\n",
    "    <div>\n",
    "        <img src='@image' style='float: left; margin: 5px 5px 5px 5px'/>\n",
    "    </div>\n",
    "    <div>\n",
    "        <span style='font-size: 16px; color: #224499'>idx:</span>\n",
    "        <span style='font-size: 18px'>@idx</span>\n",
    "    </div>\n",
    "</div>\n",
    "\"\"\"))\n",
    "\n",
    "\n",
    "plot_figure.scatter(\n",
    "    'x',\n",
    "    'y',\n",
    "    source=datasource,\n",
    "    line_alpha=0.5,\n",
    "    fill_alpha=0.5,\n",
    "    size=5,\n",
    "    color='color'\n",
    ")\n",
    "# show(plot_figure)"
   ]
  },
  {
   "cell_type": "code",
   "execution_count": 23,
   "id": "c3641d7f",
   "metadata": {},
   "outputs": [
    {
     "name": "stdout",
     "output_type": "stream",
     "text": [
      "Wrote iiif_no_text_umap_2d_vlm_embed_vae3d_hires_1_umap_2d_plot.html (INLINE resources).\n",
      "File size (MB): 377.00646018981934\n"
     ]
    }
   ],
   "source": [
    "import os\n",
    "from bokeh.embed import file_html\n",
    "from bokeh.resources import INLINE\n",
    "\n",
    "html = file_html(plot_figure, resources=INLINE, title=\"UMAP projection\")\n",
    "out_path = \"iiif_no_text_umap_2d_vlm_embed_vae3d_hires_1_umap_2d_plot.html\"\n",
    "with open(out_path, \"w\", encoding=\"utf-8\") as f:\n",
    "    f.write(html)\n",
    "\n",
    "print(f\"Wrote {out_path} (INLINE resources).\")\n",
    "# Optional size check\n",
    "print(\"File size (MB):\", os.path.getsize(out_path) / (1024 * 1024))"
   ]
  },
  {
   "cell_type": "markdown",
   "id": "f0c2642a",
   "metadata": {},
   "source": [
    "# Whitened Data"
   ]
  },
  {
   "cell_type": "code",
   "execution_count": 15,
   "id": "1f716346",
   "metadata": {},
   "outputs": [
    {
     "data": {
      "application/vnd.plotly.v1+json": {
       "config": {
        "plotlyServerURL": "https://plot.ly"
       },
       "data": [
        {
         "hovertemplate": "x=%{x}<br>y=%{y}<br>z=%{z}<extra></extra>",
         "legendgroup": "",
         "marker": {
          "color": "#636efa",
          "opacity": 0.4,
          "size": 2,
          "symbol": "circle"
         },
         "mode": "markers",
         "name": "",
         "scene": "scene",
         "showlegend": false,
         "type": "scatter3d",
         "x": {
          "bdata": "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",
          "dtype": "f4"
         },
         "y": {
          "bdata": "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",
          "dtype": "f4"
         },
         "z": {
          "bdata": "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",
          "dtype": "f4"
         }
        }
       ],
       "layout": {
        "height": 768,
        "legend": {
         "tracegroupgap": 0
        },
        "margin": {
         "t": 60
        },
        "scene": {
         "aspectmode": "cube",
         "domain": {
          "x": [
           0,
           1
          ],
          "y": [
           0,
           1
          ]
         },
         "xaxis": {
          "title": {
           "text": "x"
          }
         },
         "yaxis": {
          "title": {
           "text": "y"
          }
         },
         "zaxis": {
          "title": {
           "text": "z"
          }
         }
        },
        "template": {
         "data": {
          "bar": [
           {
            "error_x": {
             "color": "#2a3f5f"
            },
            "error_y": {
             "color": "#2a3f5f"
            },
            "marker": {
             "line": {
              "color": "#E5ECF6",
              "width": 0.5
             },
             "pattern": {
              "fillmode": "overlay",
              "size": 10,
              "solidity": 0.2
             }
            },
            "type": "bar"
           }
          ],
          "barpolar": [
           {
            "marker": {
             "line": {
              "color": "#E5ECF6",
              "width": 0.5
             },
             "pattern": {
              "fillmode": "overlay",
              "size": 10,
              "solidity": 0.2
             }
            },
            "type": "barpolar"
           }
          ],
          "carpet": [
           {
            "aaxis": {
             "endlinecolor": "#2a3f5f",
             "gridcolor": "white",
             "linecolor": "white",
             "minorgridcolor": "white",
             "startlinecolor": "#2a3f5f"
            },
            "baxis": {
             "endlinecolor": "#2a3f5f",
             "gridcolor": "white",
             "linecolor": "white",
             "minorgridcolor": "white",
             "startlinecolor": "#2a3f5f"
            },
            "type": "carpet"
           }
          ],
          "choropleth": [
           {
            "colorbar": {
             "outlinewidth": 0,
             "ticks": ""
            },
            "type": "choropleth"
           }
          ],
          "contour": [
           {
            "colorbar": {
             "outlinewidth": 0,
             "ticks": ""
            },
            "colorscale": [
             [
              0,
              "#0d0887"
             ],
             [
              0.1111111111111111,
              "#46039f"
             ],
             [
              0.2222222222222222,
              "#7201a8"
             ],
             [
              0.3333333333333333,
              "#9c179e"
             ],
             [
              0.4444444444444444,
              "#bd3786"
             ],
             [
              0.5555555555555556,
              "#d8576b"
             ],
             [
              0.6666666666666666,
              "#ed7953"
             ],
             [
              0.7777777777777778,
              "#fb9f3a"
             ],
             [
              0.8888888888888888,
              "#fdca26"
             ],
             [
              1,
              "#f0f921"
             ]
            ],
            "type": "contour"
           }
          ],
          "contourcarpet": [
           {
            "colorbar": {
             "outlinewidth": 0,
             "ticks": ""
            },
            "type": "contourcarpet"
           }
          ],
          "heatmap": [
           {
            "colorbar": {
             "outlinewidth": 0,
             "ticks": ""
            },
            "colorscale": [
             [
              0,
              "#0d0887"
             ],
             [
              0.1111111111111111,
              "#46039f"
             ],
             [
              0.2222222222222222,
              "#7201a8"
             ],
             [
              0.3333333333333333,
              "#9c179e"
             ],
             [
              0.4444444444444444,
              "#bd3786"
             ],
             [
              0.5555555555555556,
              "#d8576b"
             ],
             [
              0.6666666666666666,
              "#ed7953"
             ],
             [
              0.7777777777777778,
              "#fb9f3a"
             ],
             [
              0.8888888888888888,
              "#fdca26"
             ],
             [
              1,
              "#f0f921"
             ]
            ],
            "type": "heatmap"
           }
          ],
          "histogram": [
           {
            "marker": {
             "pattern": {
              "fillmode": "overlay",
              "size": 10,
              "solidity": 0.2
             }
            },
            "type": "histogram"
           }
          ],
          "histogram2d": [
           {
            "colorbar": {
             "outlinewidth": 0,
             "ticks": ""
            },
            "colorscale": [
             [
              0,
              "#0d0887"
             ],
             [
              0.1111111111111111,
              "#46039f"
             ],
             [
              0.2222222222222222,
              "#7201a8"
             ],
             [
              0.3333333333333333,
              "#9c179e"
             ],
             [
              0.4444444444444444,
              "#bd3786"
             ],
             [
              0.5555555555555556,
              "#d8576b"
             ],
             [
              0.6666666666666666,
              "#ed7953"
             ],
             [
              0.7777777777777778,
              "#fb9f3a"
             ],
             [
              0.8888888888888888,
              "#fdca26"
             ],
             [
              1,
              "#f0f921"
             ]
            ],
            "type": "histogram2d"
           }
          ],
          "histogram2dcontour": [
           {
            "colorbar": {
             "outlinewidth": 0,
             "ticks": ""
            },
            "colorscale": [
             [
              0,
              "#0d0887"
             ],
             [
              0.1111111111111111,
              "#46039f"
             ],
             [
              0.2222222222222222,
              "#7201a8"
             ],
             [
              0.3333333333333333,
              "#9c179e"
             ],
             [
              0.4444444444444444,
              "#bd3786"
             ],
             [
              0.5555555555555556,
              "#d8576b"
             ],
             [
              0.6666666666666666,
              "#ed7953"
             ],
             [
              0.7777777777777778,
              "#fb9f3a"
             ],
             [
              0.8888888888888888,
              "#fdca26"
             ],
             [
              1,
              "#f0f921"
             ]
            ],
            "type": "histogram2dcontour"
           }
          ],
          "mesh3d": [
           {
            "colorbar": {
             "outlinewidth": 0,
             "ticks": ""
            },
            "type": "mesh3d"
           }
          ],
          "parcoords": [
           {
            "line": {
             "colorbar": {
              "outlinewidth": 0,
              "ticks": ""
             }
            },
            "type": "parcoords"
           }
          ],
          "pie": [
           {
            "automargin": true,
            "type": "pie"
           }
          ],
          "scatter": [
           {
            "fillpattern": {
             "fillmode": "overlay",
             "size": 10,
             "solidity": 0.2
            },
            "type": "scatter"
           }
          ],
          "scatter3d": [
           {
            "line": {
             "colorbar": {
              "outlinewidth": 0,
              "ticks": ""
             }
            },
            "marker": {
             "colorbar": {
              "outlinewidth": 0,
              "ticks": ""
             }
            },
            "type": "scatter3d"
           }
          ],
          "scattercarpet": [
           {
            "marker": {
             "colorbar": {
              "outlinewidth": 0,
              "ticks": ""
             }
            },
            "type": "scattercarpet"
           }
          ],
          "scattergeo": [
           {
            "marker": {
             "colorbar": {
              "outlinewidth": 0,
              "ticks": ""
             }
            },
            "type": "scattergeo"
           }
          ],
          "scattergl": [
           {
            "marker": {
             "colorbar": {
              "outlinewidth": 0,
              "ticks": ""
             }
            },
            "type": "scattergl"
           }
          ],
          "scattermap": [
           {
            "marker": {
             "colorbar": {
              "outlinewidth": 0,
              "ticks": ""
             }
            },
            "type": "scattermap"
           }
          ],
          "scattermapbox": [
           {
            "marker": {
             "colorbar": {
              "outlinewidth": 0,
              "ticks": ""
             }
            },
            "type": "scattermapbox"
           }
          ],
          "scatterpolar": [
           {
            "marker": {
             "colorbar": {
              "outlinewidth": 0,
              "ticks": ""
             }
            },
            "type": "scatterpolar"
           }
          ],
          "scatterpolargl": [
           {
            "marker": {
             "colorbar": {
              "outlinewidth": 0,
              "ticks": ""
             }
            },
            "type": "scatterpolargl"
           }
          ],
          "scatterternary": [
           {
            "marker": {
             "colorbar": {
              "outlinewidth": 0,
              "ticks": ""
             }
            },
            "type": "scatterternary"
           }
          ],
          "surface": [
           {
            "colorbar": {
             "outlinewidth": 0,
             "ticks": ""
            },
            "colorscale": [
             [
              0,
              "#0d0887"
             ],
             [
              0.1111111111111111,
              "#46039f"
             ],
             [
              0.2222222222222222,
              "#7201a8"
             ],
             [
              0.3333333333333333,
              "#9c179e"
             ],
             [
              0.4444444444444444,
              "#bd3786"
             ],
             [
              0.5555555555555556,
              "#d8576b"
             ],
             [
              0.6666666666666666,
              "#ed7953"
             ],
             [
              0.7777777777777778,
              "#fb9f3a"
             ],
             [
              0.8888888888888888,
              "#fdca26"
             ],
             [
              1,
              "#f0f921"
             ]
            ],
            "type": "surface"
           }
          ],
          "table": [
           {
            "cells": {
             "fill": {
              "color": "#EBF0F8"
             },
             "line": {
              "color": "white"
             }
            },
            "header": {
             "fill": {
              "color": "#C8D4E3"
             },
             "line": {
              "color": "white"
             }
            },
            "type": "table"
           }
          ]
         },
         "layout": {
          "annotationdefaults": {
           "arrowcolor": "#2a3f5f",
           "arrowhead": 0,
           "arrowwidth": 1
          },
          "autotypenumbers": "strict",
          "coloraxis": {
           "colorbar": {
            "outlinewidth": 0,
            "ticks": ""
           }
          },
          "colorscale": {
           "diverging": [
            [
             0,
             "#8e0152"
            ],
            [
             0.1,
             "#c51b7d"
            ],
            [
             0.2,
             "#de77ae"
            ],
            [
             0.3,
             "#f1b6da"
            ],
            [
             0.4,
             "#fde0ef"
            ],
            [
             0.5,
             "#f7f7f7"
            ],
            [
             0.6,
             "#e6f5d0"
            ],
            [
             0.7,
             "#b8e186"
            ],
            [
             0.8,
             "#7fbc41"
            ],
            [
             0.9,
             "#4d9221"
            ],
            [
             1,
             "#276419"
            ]
           ],
           "sequential": [
            [
             0,
             "#0d0887"
            ],
            [
             0.1111111111111111,
             "#46039f"
            ],
            [
             0.2222222222222222,
             "#7201a8"
            ],
            [
             0.3333333333333333,
             "#9c179e"
            ],
            [
             0.4444444444444444,
             "#bd3786"
            ],
            [
             0.5555555555555556,
             "#d8576b"
            ],
            [
             0.6666666666666666,
             "#ed7953"
            ],
            [
             0.7777777777777778,
             "#fb9f3a"
            ],
            [
             0.8888888888888888,
             "#fdca26"
            ],
            [
             1,
             "#f0f921"
            ]
           ],
           "sequentialminus": [
            [
             0,
             "#0d0887"
            ],
            [
             0.1111111111111111,
             "#46039f"
            ],
            [
             0.2222222222222222,
             "#7201a8"
            ],
            [
             0.3333333333333333,
             "#9c179e"
            ],
            [
             0.4444444444444444,
             "#bd3786"
            ],
            [
             0.5555555555555556,
             "#d8576b"
            ],
            [
             0.6666666666666666,
             "#ed7953"
            ],
            [
             0.7777777777777778,
             "#fb9f3a"
            ],
            [
             0.8888888888888888,
             "#fdca26"
            ],
            [
             1,
             "#f0f921"
            ]
           ]
          },
          "colorway": [
           "#636efa",
           "#EF553B",
           "#00cc96",
           "#ab63fa",
           "#FFA15A",
           "#19d3f3",
           "#FF6692",
           "#B6E880",
           "#FF97FF",
           "#FECB52"
          ],
          "font": {
           "color": "#2a3f5f"
          },
          "geo": {
           "bgcolor": "white",
           "lakecolor": "white",
           "landcolor": "#E5ECF6",
           "showlakes": true,
           "showland": true,
           "subunitcolor": "white"
          },
          "hoverlabel": {
           "align": "left"
          },
          "hovermode": "closest",
          "mapbox": {
           "style": "light"
          },
          "paper_bgcolor": "white",
          "plot_bgcolor": "#E5ECF6",
          "polar": {
           "angularaxis": {
            "gridcolor": "white",
            "linecolor": "white",
            "ticks": ""
           },
           "bgcolor": "#E5ECF6",
           "radialaxis": {
            "gridcolor": "white",
            "linecolor": "white",
            "ticks": ""
           }
          },
          "scene": {
           "xaxis": {
            "backgroundcolor": "#E5ECF6",
            "gridcolor": "white",
            "gridwidth": 2,
            "linecolor": "white",
            "showbackground": true,
            "ticks": "",
            "zerolinecolor": "white"
           },
           "yaxis": {
            "backgroundcolor": "#E5ECF6",
            "gridcolor": "white",
            "gridwidth": 2,
            "linecolor": "white",
            "showbackground": true,
            "ticks": "",
            "zerolinecolor": "white"
           },
           "zaxis": {
            "backgroundcolor": "#E5ECF6",
            "gridcolor": "white",
            "gridwidth": 2,
            "linecolor": "white",
            "showbackground": true,
            "ticks": "",
            "zerolinecolor": "white"
           }
          },
          "shapedefaults": {
           "line": {
            "color": "#2a3f5f"
           }
          },
          "ternary": {
           "aaxis": {
            "gridcolor": "white",
            "linecolor": "white",
            "ticks": ""
           },
           "baxis": {
            "gridcolor": "white",
            "linecolor": "white",
            "ticks": ""
           },
           "bgcolor": "#E5ECF6",
           "caxis": {
            "gridcolor": "white",
            "linecolor": "white",
            "ticks": ""
           }
          },
          "title": {
           "x": 0.05
          },
          "xaxis": {
           "automargin": true,
           "gridcolor": "white",
           "linecolor": "white",
           "ticks": "",
           "title": {
            "standoff": 15
           },
           "zerolinecolor": "white",
           "zerolinewidth": 2
          },
          "yaxis": {
           "automargin": true,
           "gridcolor": "white",
           "linecolor": "white",
           "ticks": "",
           "title": {
            "standoff": 15
           },
           "zerolinecolor": "white",
           "zerolinewidth": 2
          }
         }
        },
        "width": 1024
       }
      }
     },
     "metadata": {},
     "output_type": "display_data"
    }
   ],
   "source": [
    "import plotly.express as px\n",
    "\n",
    "# centered = subset - subset.mean(axis=0)\n",
    "# U, S, Vt = np.linalg.svd(centered, full_matrices=False)\n",
    "# whitened = centered @ Vt.T / S\n",
    "\n",
    "whitened = subset\n",
    "\n",
    "fig = px.scatter_3d(\n",
    "    x=whitened[:, 0],\n",
    "    y=whitened[:, 1],\n",
    "    z=whitened[:, 2],\n",
    "    opacity=0.4)\n",
    "fig.update_traces(marker=dict(size=2))\n",
    "fig.update_layout(width=1024,\n",
    "                  height=768, scene=dict(aspectmode='cube'))\n",
    "fig.show()"
   ]
  },
  {
   "cell_type": "markdown",
   "id": "4cbc4d5d",
   "metadata": {},
   "source": [
    "# UMAP (White)"
   ]
  },
  {
   "cell_type": "code",
   "execution_count": 16,
   "id": "b22f8199",
   "metadata": {},
   "outputs": [
    {
     "data": {
      "application/vnd.plotly.v1+json": {
       "config": {
        "plotlyServerURL": "https://plot.ly"
       },
       "data": [
        {
         "hovertemplate": "x=%{x}<br>y=%{y}<br>z=%{z}<extra></extra>",
         "legendgroup": "",
         "marker": {
          "color": "#636efa",
          "opacity": 0.4,
          "size": 2,
          "symbol": "circle"
         },
         "mode": "markers",
         "name": "",
         "scene": "scene",
         "showlegend": false,
         "type": "scatter3d",
         "x": {
          "bdata": "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",
          "dtype": "f4"
         },
         "y": {
          "bdata": "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",
          "dtype": "f4"
         },
         "z": {
          "bdata": "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",
          "dtype": "f4"
         }
        }
       ],
       "layout": {
        "height": 768,
        "legend": {
         "tracegroupgap": 0
        },
        "margin": {
         "t": 60
        },
        "scene": {
         "aspectmode": "cube",
         "domain": {
          "x": [
           0,
           1
          ],
          "y": [
           0,
           1
          ]
         },
         "xaxis": {
          "title": {
           "text": "x"
          }
         },
         "yaxis": {
          "title": {
           "text": "y"
          }
         },
         "zaxis": {
          "title": {
           "text": "z"
          }
         }
        },
        "template": {
         "data": {
          "bar": [
           {
            "error_x": {
             "color": "#2a3f5f"
            },
            "error_y": {
             "color": "#2a3f5f"
            },
            "marker": {
             "line": {
              "color": "#E5ECF6",
              "width": 0.5
             },
             "pattern": {
              "fillmode": "overlay",
              "size": 10,
              "solidity": 0.2
             }
            },
            "type": "bar"
           }
          ],
          "barpolar": [
           {
            "marker": {
             "line": {
              "color": "#E5ECF6",
              "width": 0.5
             },
             "pattern": {
              "fillmode": "overlay",
              "size": 10,
              "solidity": 0.2
             }
            },
            "type": "barpolar"
           }
          ],
          "carpet": [
           {
            "aaxis": {
             "endlinecolor": "#2a3f5f",
             "gridcolor": "white",
             "linecolor": "white",
             "minorgridcolor": "white",
             "startlinecolor": "#2a3f5f"
            },
            "baxis": {
             "endlinecolor": "#2a3f5f",
             "gridcolor": "white",
             "linecolor": "white",
             "minorgridcolor": "white",
             "startlinecolor": "#2a3f5f"
            },
            "type": "carpet"
           }
          ],
          "choropleth": [
           {
            "colorbar": {
             "outlinewidth": 0,
             "ticks": ""
            },
            "type": "choropleth"
           }
          ],
          "contour": [
           {
            "colorbar": {
             "outlinewidth": 0,
             "ticks": ""
            },
            "colorscale": [
             [
              0,
              "#0d0887"
             ],
             [
              0.1111111111111111,
              "#46039f"
             ],
             [
              0.2222222222222222,
              "#7201a8"
             ],
             [
              0.3333333333333333,
              "#9c179e"
             ],
             [
              0.4444444444444444,
              "#bd3786"
             ],
             [
              0.5555555555555556,
              "#d8576b"
             ],
             [
              0.6666666666666666,
              "#ed7953"
             ],
             [
              0.7777777777777778,
              "#fb9f3a"
             ],
             [
              0.8888888888888888,
              "#fdca26"
             ],
             [
              1,
              "#f0f921"
             ]
            ],
            "type": "contour"
           }
          ],
          "contourcarpet": [
           {
            "colorbar": {
             "outlinewidth": 0,
             "ticks": ""
            },
            "type": "contourcarpet"
           }
          ],
          "heatmap": [
           {
            "colorbar": {
             "outlinewidth": 0,
             "ticks": ""
            },
            "colorscale": [
             [
              0,
              "#0d0887"
             ],
             [
              0.1111111111111111,
              "#46039f"
             ],
             [
              0.2222222222222222,
              "#7201a8"
             ],
             [
              0.3333333333333333,
              "#9c179e"
             ],
             [
              0.4444444444444444,
              "#bd3786"
             ],
             [
              0.5555555555555556,
              "#d8576b"
             ],
             [
              0.6666666666666666,
              "#ed7953"
             ],
             [
              0.7777777777777778,
              "#fb9f3a"
             ],
             [
              0.8888888888888888,
              "#fdca26"
             ],
             [
              1,
              "#f0f921"
             ]
            ],
            "type": "heatmap"
           }
          ],
          "histogram": [
           {
            "marker": {
             "pattern": {
              "fillmode": "overlay",
              "size": 10,
              "solidity": 0.2
             }
            },
            "type": "histogram"
           }
          ],
          "histogram2d": [
           {
            "colorbar": {
             "outlinewidth": 0,
             "ticks": ""
            },
            "colorscale": [
             [
              0,
              "#0d0887"
             ],
             [
              0.1111111111111111,
              "#46039f"
             ],
             [
              0.2222222222222222,
              "#7201a8"
             ],
             [
              0.3333333333333333,
              "#9c179e"
             ],
             [
              0.4444444444444444,
              "#bd3786"
             ],
             [
              0.5555555555555556,
              "#d8576b"
             ],
             [
              0.6666666666666666,
              "#ed7953"
             ],
             [
              0.7777777777777778,
              "#fb9f3a"
             ],
             [
              0.8888888888888888,
              "#fdca26"
             ],
             [
              1,
              "#f0f921"
             ]
            ],
            "type": "histogram2d"
           }
          ],
          "histogram2dcontour": [
           {
            "colorbar": {
             "outlinewidth": 0,
             "ticks": ""
            },
            "colorscale": [
             [
              0,
              "#0d0887"
             ],
             [
              0.1111111111111111,
              "#46039f"
             ],
             [
              0.2222222222222222,
              "#7201a8"
             ],
             [
              0.3333333333333333,
              "#9c179e"
             ],
             [
              0.4444444444444444,
              "#bd3786"
             ],
             [
              0.5555555555555556,
              "#d8576b"
             ],
             [
              0.6666666666666666,
              "#ed7953"
             ],
             [
              0.7777777777777778,
              "#fb9f3a"
             ],
             [
              0.8888888888888888,
              "#fdca26"
             ],
             [
              1,
              "#f0f921"
             ]
            ],
            "type": "histogram2dcontour"
           }
          ],
          "mesh3d": [
           {
            "colorbar": {
             "outlinewidth": 0,
             "ticks": ""
            },
            "type": "mesh3d"
           }
          ],
          "parcoords": [
           {
            "line": {
             "colorbar": {
              "outlinewidth": 0,
              "ticks": ""
             }
            },
            "type": "parcoords"
           }
          ],
          "pie": [
           {
            "automargin": true,
            "type": "pie"
           }
          ],
          "scatter": [
           {
            "fillpattern": {
             "fillmode": "overlay",
             "size": 10,
             "solidity": 0.2
            },
            "type": "scatter"
           }
          ],
          "scatter3d": [
           {
            "line": {
             "colorbar": {
              "outlinewidth": 0,
              "ticks": ""
             }
            },
            "marker": {
             "colorbar": {
              "outlinewidth": 0,
              "ticks": ""
             }
            },
            "type": "scatter3d"
           }
          ],
          "scattercarpet": [
           {
            "marker": {
             "colorbar": {
              "outlinewidth": 0,
              "ticks": ""
             }
            },
            "type": "scattercarpet"
           }
          ],
          "scattergeo": [
           {
            "marker": {
             "colorbar": {
              "outlinewidth": 0,
              "ticks": ""
             }
            },
            "type": "scattergeo"
           }
          ],
          "scattergl": [
           {
            "marker": {
             "colorbar": {
              "outlinewidth": 0,
              "ticks": ""
             }
            },
            "type": "scattergl"
           }
          ],
          "scattermap": [
           {
            "marker": {
             "colorbar": {
              "outlinewidth": 0,
              "ticks": ""
             }
            },
            "type": "scattermap"
           }
          ],
          "scattermapbox": [
           {
            "marker": {
             "colorbar": {
              "outlinewidth": 0,
              "ticks": ""
             }
            },
            "type": "scattermapbox"
           }
          ],
          "scatterpolar": [
           {
            "marker": {
             "colorbar": {
              "outlinewidth": 0,
              "ticks": ""
             }
            },
            "type": "scatterpolar"
           }
          ],
          "scatterpolargl": [
           {
            "marker": {
             "colorbar": {
              "outlinewidth": 0,
              "ticks": ""
             }
            },
            "type": "scatterpolargl"
           }
          ],
          "scatterternary": [
           {
            "marker": {
             "colorbar": {
              "outlinewidth": 0,
              "ticks": ""
             }
            },
            "type": "scatterternary"
           }
          ],
          "surface": [
           {
            "colorbar": {
             "outlinewidth": 0,
             "ticks": ""
            },
            "colorscale": [
             [
              0,
              "#0d0887"
             ],
             [
              0.1111111111111111,
              "#46039f"
             ],
             [
              0.2222222222222222,
              "#7201a8"
             ],
             [
              0.3333333333333333,
              "#9c179e"
             ],
             [
              0.4444444444444444,
              "#bd3786"
             ],
             [
              0.5555555555555556,
              "#d8576b"
             ],
             [
              0.6666666666666666,
              "#ed7953"
             ],
             [
              0.7777777777777778,
              "#fb9f3a"
             ],
             [
              0.8888888888888888,
              "#fdca26"
             ],
             [
              1,
              "#f0f921"
             ]
            ],
            "type": "surface"
           }
          ],
          "table": [
           {
            "cells": {
             "fill": {
              "color": "#EBF0F8"
             },
             "line": {
              "color": "white"
             }
            },
            "header": {
             "fill": {
              "color": "#C8D4E3"
             },
             "line": {
              "color": "white"
             }
            },
            "type": "table"
           }
          ]
         },
         "layout": {
          "annotationdefaults": {
           "arrowcolor": "#2a3f5f",
           "arrowhead": 0,
           "arrowwidth": 1
          },
          "autotypenumbers": "strict",
          "coloraxis": {
           "colorbar": {
            "outlinewidth": 0,
            "ticks": ""
           }
          },
          "colorscale": {
           "diverging": [
            [
             0,
             "#8e0152"
            ],
            [
             0.1,
             "#c51b7d"
            ],
            [
             0.2,
             "#de77ae"
            ],
            [
             0.3,
             "#f1b6da"
            ],
            [
             0.4,
             "#fde0ef"
            ],
            [
             0.5,
             "#f7f7f7"
            ],
            [
             0.6,
             "#e6f5d0"
            ],
            [
             0.7,
             "#b8e186"
            ],
            [
             0.8,
             "#7fbc41"
            ],
            [
             0.9,
             "#4d9221"
            ],
            [
             1,
             "#276419"
            ]
           ],
           "sequential": [
            [
             0,
             "#0d0887"
            ],
            [
             0.1111111111111111,
             "#46039f"
            ],
            [
             0.2222222222222222,
             "#7201a8"
            ],
            [
             0.3333333333333333,
             "#9c179e"
            ],
            [
             0.4444444444444444,
             "#bd3786"
            ],
            [
             0.5555555555555556,
             "#d8576b"
            ],
            [
             0.6666666666666666,
             "#ed7953"
            ],
            [
             0.7777777777777778,
             "#fb9f3a"
            ],
            [
             0.8888888888888888,
             "#fdca26"
            ],
            [
             1,
             "#f0f921"
            ]
           ],
           "sequentialminus": [
            [
             0,
             "#0d0887"
            ],
            [
             0.1111111111111111,
             "#46039f"
            ],
            [
             0.2222222222222222,
             "#7201a8"
            ],
            [
             0.3333333333333333,
             "#9c179e"
            ],
            [
             0.4444444444444444,
             "#bd3786"
            ],
            [
             0.5555555555555556,
             "#d8576b"
            ],
            [
             0.6666666666666666,
             "#ed7953"
            ],
            [
             0.7777777777777778,
             "#fb9f3a"
            ],
            [
             0.8888888888888888,
             "#fdca26"
            ],
            [
             1,
             "#f0f921"
            ]
           ]
          },
          "colorway": [
           "#636efa",
           "#EF553B",
           "#00cc96",
           "#ab63fa",
           "#FFA15A",
           "#19d3f3",
           "#FF6692",
           "#B6E880",
           "#FF97FF",
           "#FECB52"
          ],
          "font": {
           "color": "#2a3f5f"
          },
          "geo": {
           "bgcolor": "white",
           "lakecolor": "white",
           "landcolor": "#E5ECF6",
           "showlakes": true,
           "showland": true,
           "subunitcolor": "white"
          },
          "hoverlabel": {
           "align": "left"
          },
          "hovermode": "closest",
          "mapbox": {
           "style": "light"
          },
          "paper_bgcolor": "white",
          "plot_bgcolor": "#E5ECF6",
          "polar": {
           "angularaxis": {
            "gridcolor": "white",
            "linecolor": "white",
            "ticks": ""
           },
           "bgcolor": "#E5ECF6",
           "radialaxis": {
            "gridcolor": "white",
            "linecolor": "white",
            "ticks": ""
           }
          },
          "scene": {
           "xaxis": {
            "backgroundcolor": "#E5ECF6",
            "gridcolor": "white",
            "gridwidth": 2,
            "linecolor": "white",
            "showbackground": true,
            "ticks": "",
            "zerolinecolor": "white"
           },
           "yaxis": {
            "backgroundcolor": "#E5ECF6",
            "gridcolor": "white",
            "gridwidth": 2,
            "linecolor": "white",
            "showbackground": true,
            "ticks": "",
            "zerolinecolor": "white"
           },
           "zaxis": {
            "backgroundcolor": "#E5ECF6",
            "gridcolor": "white",
            "gridwidth": 2,
            "linecolor": "white",
            "showbackground": true,
            "ticks": "",
            "zerolinecolor": "white"
           }
          },
          "shapedefaults": {
           "line": {
            "color": "#2a3f5f"
           }
          },
          "ternary": {
           "aaxis": {
            "gridcolor": "white",
            "linecolor": "white",
            "ticks": ""
           },
           "baxis": {
            "gridcolor": "white",
            "linecolor": "white",
            "ticks": ""
           },
           "bgcolor": "#E5ECF6",
           "caxis": {
            "gridcolor": "white",
            "linecolor": "white",
            "ticks": ""
           }
          },
          "title": {
           "x": 0.05
          },
          "xaxis": {
           "automargin": true,
           "gridcolor": "white",
           "linecolor": "white",
           "ticks": "",
           "title": {
            "standoff": 15
           },
           "zerolinecolor": "white",
           "zerolinewidth": 2
          },
          "yaxis": {
           "automargin": true,
           "gridcolor": "white",
           "linecolor": "white",
           "ticks": "",
           "title": {
            "standoff": 15
           },
           "zerolinecolor": "white",
           "zerolinewidth": 2
          }
         }
        },
        "width": 1024
       }
      }
     },
     "metadata": {},
     "output_type": "display_data"
    }
   ],
   "source": [
    "import umap\n",
    "import plotly.express as px\n",
    "\n",
    "centered = subset - subset.mean(axis=0)\n",
    "U, S, Vt = np.linalg.svd(centered, full_matrices=False)\n",
    "whitened = centered @ Vt.T / S\n",
    "\n",
    "# UMAP\n",
    "umap_model = umap.UMAP(n_neighbors=15, n_components=3, metric='euclidean')\n",
    "umap_embeddings = umap_model.fit_transform(whitened)\n",
    "\n",
    "fig = px.scatter_3d(\n",
    "    x=umap_embeddings[:, 0],\n",
    "    y=umap_embeddings[:, 1],\n",
    "    z=umap_embeddings[:, 2],\n",
    "    opacity=0.4)\n",
    "fig.update_traces(marker=dict(size=2))\n",
    "fig.update_layout(width=1024,\n",
    "                  height=768, scene=dict(aspectmode='cube'))\n",
    "fig.show()"
   ]
  },
  {
   "cell_type": "markdown",
   "id": "42b0a98d",
   "metadata": {},
   "source": [
    "# Sphericalised (White)"
   ]
  },
  {
   "cell_type": "code",
   "execution_count": 17,
   "id": "335b9568",
   "metadata": {},
   "outputs": [
    {
     "data": {
      "application/vnd.plotly.v1+json": {
       "config": {
        "plotlyServerURL": "https://plot.ly"
       },
       "data": [
        {
         "hovertemplate": "x=%{x}<br>y=%{y}<br>z=%{z}<extra></extra>",
         "legendgroup": "",
         "marker": {
          "color": "#636efa",
          "opacity": 0.4,
          "size": 2,
          "symbol": "circle"
         },
         "mode": "markers",
         "name": "",
         "scene": "scene",
         "showlegend": false,
         "type": "scatter3d",
         "x": {
          "bdata": "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",
          "dtype": "f4"
         },
         "y": {
          "bdata": "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",
          "dtype": "f4"
         },
         "z": {
          "bdata": "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",
          "dtype": "f4"
         }
        }
       ],
       "layout": {
        "height": 768,
        "legend": {
         "tracegroupgap": 0
        },
        "margin": {
         "t": 60
        },
        "scene": {
         "aspectmode": "cube",
         "domain": {
          "x": [
           0,
           1
          ],
          "y": [
           0,
           1
          ]
         },
         "xaxis": {
          "title": {
           "text": "x"
          }
         },
         "yaxis": {
          "title": {
           "text": "y"
          }
         },
         "zaxis": {
          "title": {
           "text": "z"
          }
         }
        },
        "template": {
         "data": {
          "bar": [
           {
            "error_x": {
             "color": "#2a3f5f"
            },
            "error_y": {
             "color": "#2a3f5f"
            },
            "marker": {
             "line": {
              "color": "#E5ECF6",
              "width": 0.5
             },
             "pattern": {
              "fillmode": "overlay",
              "size": 10,
              "solidity": 0.2
             }
            },
            "type": "bar"
           }
          ],
          "barpolar": [
           {
            "marker": {
             "line": {
              "color": "#E5ECF6",
              "width": 0.5
             },
             "pattern": {
              "fillmode": "overlay",
              "size": 10,
              "solidity": 0.2
             }
            },
            "type": "barpolar"
           }
          ],
          "carpet": [
           {
            "aaxis": {
             "endlinecolor": "#2a3f5f",
             "gridcolor": "white",
             "linecolor": "white",
             "minorgridcolor": "white",
             "startlinecolor": "#2a3f5f"
            },
            "baxis": {
             "endlinecolor": "#2a3f5f",
             "gridcolor": "white",
             "linecolor": "white",
             "minorgridcolor": "white",
             "startlinecolor": "#2a3f5f"
            },
            "type": "carpet"
           }
          ],
          "choropleth": [
           {
            "colorbar": {
             "outlinewidth": 0,
             "ticks": ""
            },
            "type": "choropleth"
           }
          ],
          "contour": [
           {
            "colorbar": {
             "outlinewidth": 0,
             "ticks": ""
            },
            "colorscale": [
             [
              0,
              "#0d0887"
             ],
             [
              0.1111111111111111,
              "#46039f"
             ],
             [
              0.2222222222222222,
              "#7201a8"
             ],
             [
              0.3333333333333333,
              "#9c179e"
             ],
             [
              0.4444444444444444,
              "#bd3786"
             ],
             [
              0.5555555555555556,
              "#d8576b"
             ],
             [
              0.6666666666666666,
              "#ed7953"
             ],
             [
              0.7777777777777778,
              "#fb9f3a"
             ],
             [
              0.8888888888888888,
              "#fdca26"
             ],
             [
              1,
              "#f0f921"
             ]
            ],
            "type": "contour"
           }
          ],
          "contourcarpet": [
           {
            "colorbar": {
             "outlinewidth": 0,
             "ticks": ""
            },
            "type": "contourcarpet"
           }
          ],
          "heatmap": [
           {
            "colorbar": {
             "outlinewidth": 0,
             "ticks": ""
            },
            "colorscale": [
             [
              0,
              "#0d0887"
             ],
             [
              0.1111111111111111,
              "#46039f"
             ],
             [
              0.2222222222222222,
              "#7201a8"
             ],
             [
              0.3333333333333333,
              "#9c179e"
             ],
             [
              0.4444444444444444,
              "#bd3786"
             ],
             [
              0.5555555555555556,
              "#d8576b"
             ],
             [
              0.6666666666666666,
              "#ed7953"
             ],
             [
              0.7777777777777778,
              "#fb9f3a"
             ],
             [
              0.8888888888888888,
              "#fdca26"
             ],
             [
              1,
              "#f0f921"
             ]
            ],
            "type": "heatmap"
           }
          ],
          "histogram": [
           {
            "marker": {
             "pattern": {
              "fillmode": "overlay",
              "size": 10,
              "solidity": 0.2
             }
            },
            "type": "histogram"
           }
          ],
          "histogram2d": [
           {
            "colorbar": {
             "outlinewidth": 0,
             "ticks": ""
            },
            "colorscale": [
             [
              0,
              "#0d0887"
             ],
             [
              0.1111111111111111,
              "#46039f"
             ],
             [
              0.2222222222222222,
              "#7201a8"
             ],
             [
              0.3333333333333333,
              "#9c179e"
             ],
             [
              0.4444444444444444,
              "#bd3786"
             ],
             [
              0.5555555555555556,
              "#d8576b"
             ],
             [
              0.6666666666666666,
              "#ed7953"
             ],
             [
              0.7777777777777778,
              "#fb9f3a"
             ],
             [
              0.8888888888888888,
              "#fdca26"
             ],
             [
              1,
              "#f0f921"
             ]
            ],
            "type": "histogram2d"
           }
          ],
          "histogram2dcontour": [
           {
            "colorbar": {
             "outlinewidth": 0,
             "ticks": ""
            },
            "colorscale": [
             [
              0,
              "#0d0887"
             ],
             [
              0.1111111111111111,
              "#46039f"
             ],
             [
              0.2222222222222222,
              "#7201a8"
             ],
             [
              0.3333333333333333,
              "#9c179e"
             ],
             [
              0.4444444444444444,
              "#bd3786"
             ],
             [
              0.5555555555555556,
              "#d8576b"
             ],
             [
              0.6666666666666666,
              "#ed7953"
             ],
             [
              0.7777777777777778,
              "#fb9f3a"
             ],
             [
              0.8888888888888888,
              "#fdca26"
             ],
             [
              1,
              "#f0f921"
             ]
            ],
            "type": "histogram2dcontour"
           }
          ],
          "mesh3d": [
           {
            "colorbar": {
             "outlinewidth": 0,
             "ticks": ""
            },
            "type": "mesh3d"
           }
          ],
          "parcoords": [
           {
            "line": {
             "colorbar": {
              "outlinewidth": 0,
              "ticks": ""
             }
            },
            "type": "parcoords"
           }
          ],
          "pie": [
           {
            "automargin": true,
            "type": "pie"
           }
          ],
          "scatter": [
           {
            "fillpattern": {
             "fillmode": "overlay",
             "size": 10,
             "solidity": 0.2
            },
            "type": "scatter"
           }
          ],
          "scatter3d": [
           {
            "line": {
             "colorbar": {
              "outlinewidth": 0,
              "ticks": ""
             }
            },
            "marker": {
             "colorbar": {
              "outlinewidth": 0,
              "ticks": ""
             }
            },
            "type": "scatter3d"
           }
          ],
          "scattercarpet": [
           {
            "marker": {
             "colorbar": {
              "outlinewidth": 0,
              "ticks": ""
             }
            },
            "type": "scattercarpet"
           }
          ],
          "scattergeo": [
           {
            "marker": {
             "colorbar": {
              "outlinewidth": 0,
              "ticks": ""
             }
            },
            "type": "scattergeo"
           }
          ],
          "scattergl": [
           {
            "marker": {
             "colorbar": {
              "outlinewidth": 0,
              "ticks": ""
             }
            },
            "type": "scattergl"
           }
          ],
          "scattermap": [
           {
            "marker": {
             "colorbar": {
              "outlinewidth": 0,
              "ticks": ""
             }
            },
            "type": "scattermap"
           }
          ],
          "scattermapbox": [
           {
            "marker": {
             "colorbar": {
              "outlinewidth": 0,
              "ticks": ""
             }
            },
            "type": "scattermapbox"
           }
          ],
          "scatterpolar": [
           {
            "marker": {
             "colorbar": {
              "outlinewidth": 0,
              "ticks": ""
             }
            },
            "type": "scatterpolar"
           }
          ],
          "scatterpolargl": [
           {
            "marker": {
             "colorbar": {
              "outlinewidth": 0,
              "ticks": ""
             }
            },
            "type": "scatterpolargl"
           }
          ],
          "scatterternary": [
           {
            "marker": {
             "colorbar": {
              "outlinewidth": 0,
              "ticks": ""
             }
            },
            "type": "scatterternary"
           }
          ],
          "surface": [
           {
            "colorbar": {
             "outlinewidth": 0,
             "ticks": ""
            },
            "colorscale": [
             [
              0,
              "#0d0887"
             ],
             [
              0.1111111111111111,
              "#46039f"
             ],
             [
              0.2222222222222222,
              "#7201a8"
             ],
             [
              0.3333333333333333,
              "#9c179e"
             ],
             [
              0.4444444444444444,
              "#bd3786"
             ],
             [
              0.5555555555555556,
              "#d8576b"
             ],
             [
              0.6666666666666666,
              "#ed7953"
             ],
             [
              0.7777777777777778,
              "#fb9f3a"
             ],
             [
              0.8888888888888888,
              "#fdca26"
             ],
             [
              1,
              "#f0f921"
             ]
            ],
            "type": "surface"
           }
          ],
          "table": [
           {
            "cells": {
             "fill": {
              "color": "#EBF0F8"
             },
             "line": {
              "color": "white"
             }
            },
            "header": {
             "fill": {
              "color": "#C8D4E3"
             },
             "line": {
              "color": "white"
             }
            },
            "type": "table"
           }
          ]
         },
         "layout": {
          "annotationdefaults": {
           "arrowcolor": "#2a3f5f",
           "arrowhead": 0,
           "arrowwidth": 1
          },
          "autotypenumbers": "strict",
          "coloraxis": {
           "colorbar": {
            "outlinewidth": 0,
            "ticks": ""
           }
          },
          "colorscale": {
           "diverging": [
            [
             0,
             "#8e0152"
            ],
            [
             0.1,
             "#c51b7d"
            ],
            [
             0.2,
             "#de77ae"
            ],
            [
             0.3,
             "#f1b6da"
            ],
            [
             0.4,
             "#fde0ef"
            ],
            [
             0.5,
             "#f7f7f7"
            ],
            [
             0.6,
             "#e6f5d0"
            ],
            [
             0.7,
             "#b8e186"
            ],
            [
             0.8,
             "#7fbc41"
            ],
            [
             0.9,
             "#4d9221"
            ],
            [
             1,
             "#276419"
            ]
           ],
           "sequential": [
            [
             0,
             "#0d0887"
            ],
            [
             0.1111111111111111,
             "#46039f"
            ],
            [
             0.2222222222222222,
             "#7201a8"
            ],
            [
             0.3333333333333333,
             "#9c179e"
            ],
            [
             0.4444444444444444,
             "#bd3786"
            ],
            [
             0.5555555555555556,
             "#d8576b"
            ],
            [
             0.6666666666666666,
             "#ed7953"
            ],
            [
             0.7777777777777778,
             "#fb9f3a"
            ],
            [
             0.8888888888888888,
             "#fdca26"
            ],
            [
             1,
             "#f0f921"
            ]
           ],
           "sequentialminus": [
            [
             0,
             "#0d0887"
            ],
            [
             0.1111111111111111,
             "#46039f"
            ],
            [
             0.2222222222222222,
             "#7201a8"
            ],
            [
             0.3333333333333333,
             "#9c179e"
            ],
            [
             0.4444444444444444,
             "#bd3786"
            ],
            [
             0.5555555555555556,
             "#d8576b"
            ],
            [
             0.6666666666666666,
             "#ed7953"
            ],
            [
             0.7777777777777778,
             "#fb9f3a"
            ],
            [
             0.8888888888888888,
             "#fdca26"
            ],
            [
             1,
             "#f0f921"
            ]
           ]
          },
          "colorway": [
           "#636efa",
           "#EF553B",
           "#00cc96",
           "#ab63fa",
           "#FFA15A",
           "#19d3f3",
           "#FF6692",
           "#B6E880",
           "#FF97FF",
           "#FECB52"
          ],
          "font": {
           "color": "#2a3f5f"
          },
          "geo": {
           "bgcolor": "white",
           "lakecolor": "white",
           "landcolor": "#E5ECF6",
           "showlakes": true,
           "showland": true,
           "subunitcolor": "white"
          },
          "hoverlabel": {
           "align": "left"
          },
          "hovermode": "closest",
          "mapbox": {
           "style": "light"
          },
          "paper_bgcolor": "white",
          "plot_bgcolor": "#E5ECF6",
          "polar": {
           "angularaxis": {
            "gridcolor": "white",
            "linecolor": "white",
            "ticks": ""
           },
           "bgcolor": "#E5ECF6",
           "radialaxis": {
            "gridcolor": "white",
            "linecolor": "white",
            "ticks": ""
           }
          },
          "scene": {
           "xaxis": {
            "backgroundcolor": "#E5ECF6",
            "gridcolor": "white",
            "gridwidth": 2,
            "linecolor": "white",
            "showbackground": true,
            "ticks": "",
            "zerolinecolor": "white"
           },
           "yaxis": {
            "backgroundcolor": "#E5ECF6",
            "gridcolor": "white",
            "gridwidth": 2,
            "linecolor": "white",
            "showbackground": true,
            "ticks": "",
            "zerolinecolor": "white"
           },
           "zaxis": {
            "backgroundcolor": "#E5ECF6",
            "gridcolor": "white",
            "gridwidth": 2,
            "linecolor": "white",
            "showbackground": true,
            "ticks": "",
            "zerolinecolor": "white"
           }
          },
          "shapedefaults": {
           "line": {
            "color": "#2a3f5f"
           }
          },
          "ternary": {
           "aaxis": {
            "gridcolor": "white",
            "linecolor": "white",
            "ticks": ""
           },
           "baxis": {
            "gridcolor": "white",
            "linecolor": "white",
            "ticks": ""
           },
           "bgcolor": "#E5ECF6",
           "caxis": {
            "gridcolor": "white",
            "linecolor": "white",
            "ticks": ""
           }
          },
          "title": {
           "x": 0.05
          },
          "xaxis": {
           "automargin": true,
           "gridcolor": "white",
           "linecolor": "white",
           "ticks": "",
           "title": {
            "standoff": 15
           },
           "zerolinecolor": "white",
           "zerolinewidth": 2
          },
          "yaxis": {
           "automargin": true,
           "gridcolor": "white",
           "linecolor": "white",
           "ticks": "",
           "title": {
            "standoff": 15
           },
           "zerolinecolor": "white",
           "zerolinewidth": 2
          }
         }
        },
        "width": 1024
       }
      }
     },
     "metadata": {},
     "output_type": "display_data"
    }
   ],
   "source": [
    "import plotly.express as px\n",
    "\n",
    "\n",
    "centered = subset - subset.mean(axis=0)\n",
    "U, S, Vt = np.linalg.svd(centered, full_matrices=False)\n",
    "whitened = centered @ Vt.T / S\n",
    "whitened /= np.linalg.norm(whitened, axis=1, keepdims=True)\n",
    "fig = px.scatter_3d(\n",
    "    x=whitened[:, 0],\n",
    "    y=whitened[:, 1],\n",
    "    z=whitened[:, 2],\n",
    "    opacity=0.4)\n",
    "fig.update_traces(marker=dict(size=2))\n",
    "fig.update_layout(width=1024,\n",
    "                  height=768, scene=dict(aspectmode='cube'))\n",
    "fig.show()"
   ]
  },
  {
   "cell_type": "markdown",
   "id": "e1bd6f2d",
   "metadata": {},
   "source": [
    "# Raw"
   ]
  },
  {
   "cell_type": "code",
   "execution_count": 4,
   "id": "ba54f0d1",
   "metadata": {},
   "outputs": [
    {
     "name": "stdout",
     "output_type": "stream",
     "text": [
      "Removed 0 outlier points out of 10000 (0.00%)\n",
      "x: min=-0.035323 max=-0.034646 span=0.000677 mean=-0.035014 std=0.000083\n",
      "y: min=0.110261 max=0.110981 span=0.000719 mean=0.110711 std=0.000075\n",
      "z: min=-0.132297 max=-0.131648 span=0.000649 mean=-0.132017 std=0.000081\n",
      "Using standardized coordinates: False\n",
      "Using scaling mode: symmetric\n",
      "Ranges -> x:[-0.035344444, -0.034625202] y:[0.11026126, 0.11098051] z:[-0.13233203, -0.13161278]\n"
     ]
    },
    {
     "data": {
      "application/vnd.plotly.v1+json": {
       "config": {
        "plotlyServerURL": "https://plot.ly"
       },
       "data": [
        {
         "hovertemplate": "x=%{x}<br>y=%{y}<br>z=%{z}<extra></extra>",
         "legendgroup": "",
         "marker": {
          "color": "#636efa",
          "opacity": 0.5,
          "size": 2,
          "symbol": "circle"
         },
         "mode": "markers",
         "name": "",
         "scene": "scene",
         "showlegend": false,
         "type": "scatter3d",
         "x": {
          "bdata": "JT0PvRNWD73EUQ+9x3MPvUJlD71obA+9LxUQvU2uD71Hdw+9iScQvZaTD73aSQ+9vlEPvaMzD70vUg+9zzUPvYnbDr3aZg+9IEsPveAUD739ARC9jOIOvV7FD73Upg+9ktcPvQbRD72o1g+9T7oPvZlMD70zpw+91CQQvdZ1D73mPw+9w+MPvayRD735aw+9hVYPvcpZD71bgA+9XwsPvXUIEL1V8Q691N4PvYsAEL2TBg+9l0sPvQRaD72CmQ+9YJ4PvSm4D71xOA+9EdkPvSD+Dr2Pzw+9zhsPvW47D71mvw+9eK4OvdgQD70oTw+9JO4OvcrFD71yww+97uEOvUfBD70Tkw+9rB0PvRe9D73Acw+9vkcPvZvJD71Clg+91QIQveLsD72JlA+9eswPvXVGD73gyQ+9ahEPvRpID73+9g69+KoPvYHLD710NQ+9Wn0Pvb3cDr2yrA69zDQPvbrlDr3T8Q69QPAPvU7SDr1CcQ+9TDsPvQgcD72M8A69H3UPvZ9qD70dzw+9xVwPveZPD70hXg+9gbMPvWGKD70miw+9NB8PvVqHD71lJQ+9+X4PvV59D732rA+9OzsPvQiLD7227g+9dSsPvWs8D72YqA+9wJUPvZikD71wtQ69oCwPvUJuD71OWw+9x1IPvRhpD71ZqA+94CgPvcyFD70UcA+9VCEPvWR+D70eUg+9rHYPvdSwD72zow+9yrkPvcyYD73MbA+9rF8Pvfw3EL3AaA+93NMPvT1wD73yPQ+9YDAPvSscD71xNg+97oUPvaVoD73tSQ+9oSoPvYaDD70tPw+9RtAPvRWSD73pDA+9pG8PvUNFD734xg+9MBEPvesjD71KqA+9nMsPvRxYD727RA+9pFoPvaM9EL1nQw+9SIEOvVrSD71MVg+9eB0QvWVCD702MA+9piEPveD5Dr1ijg+9cG4PvYhrD73VhA+9P5EPvaiiD722ChC9LCoPvbCSD73E6w69O8UPvfNPD71eRg+94uUPvRxYD70YVg+9g1kPveqWD71OCBC9gscPva5DD71j5Q69PCsPvVDWD71Ulg+9e+sOvYnUD73Flw+9XsoOvYgND71kbQ+9/YsPvYO2D72GgQ+9c/YPvThSD73ncA+9u2sPvfDdDr3mzA+9d4MPvVtnD73IDg+9q3YPvRw/D71ugQ+9K58PvS/oD71xQg+9glcPvXlnD70EyA+9g9YOvcquD73DLQ+9QdkOvaFhD71qMA+9UpsPvYNLD70Ybg+9VJEPvaugD71tOA+9Hs4PvecwD70DRg+9DpoPvVGeD712cg+9Po8PvWrWD72YLQ+9pX8PvZRED703tg+9ds0OvZuyD73S/g+9ur0PvUPWD723CA+96UoPvbtzD73ThQ+9HSQPvVMOD70PRA+9gr8PvXC8D73Ebg+9pCkPveaiD71yrA+943wPveQ6D72U7w69xDgPvRzkDr0gdA+9v/MOvY9HD71tHw+9IIwPvd4RD73uGg+9QrwPvUx6D702Rg+94QsQvXY4D70JSw+998wPvTsaD73D0g+94GIPvXsSD7173Q699E4Pvc6uD70c0A69qcsPvVdUD73apw+9jdMPvccnD73yqQ+9rBgPvTFrD72yKw+9GroPvcXZDr1KRw+9+o8PvQ6KD73KiA+9nKEPvR95D73q1g69WCoPvZA6D72yKw+9mh0PvZ+8D73N/w+9jq8PvcBWD702Gg+9lUgPve5sD72u9g69h18PvWWnD72B3g69+2cPvTF/D72/UQ+9NLsPvXEaEL2Q4Q697/APvWN1D70kqQ+9qsUPvVZgD71Myg+9Rd8PvcSWD73yOA+9f1QPvXRzDr0IBQ+9h8YPva/4D71pPw+973IPvSDXD7290Q69iKgPvUxQD70Rrw+92MAPvR5xD73GmA+9nQMQvWTjD72nZA+9SCwPvTz/D702Iw+9ZMkOvfy+D71vFw+90EYPvVIZD73hcg+9Y54PvZpOD73vEA+94XAPvTviDr2Usg+929MPvf2bD71OGg+9xU0PvT5MD73Tsg+9QUkPvbURD712ew+9p/cOvZbqD70N1w+9K48PveITD72rtA69qrEPvRvED70ERA+9ca4PvYlfEL1Kqw+9HTMQvdHXDr0J7g+9AF8PvXeaD73sXw+9XxUQvdJvD70mzg+99PEPvcnJDr3iXQ+980UPvbqBD70xbA+9YOMPvdvrDr2Mpw+9sjgPvdecD717mg+98IUPvQYvD73KIQ+9fnYPvboEEL0TTQ+9kvoOvQ0mD707EA+9Eq8PvSHNDr3JMA+9wZIPvTxbD72uvA+91oUPvfYaD71NFw+9vhkQvYsDD71WKw+98XcPvRMyD70CpQ+97FQPvX0TD71yXQ+9seYOvTnkDr3BWQ+9e24PvbU3D71Xng+94igPvTKZD72niQ+9RdMPvSphD72fcQ+9EjgPvUkBD71PvQ+9XLAPvStgD70UVA+9bzIPvZKDD718Aw+9bEkPvXXBD71VaQ+9quoPveyID722PA+9/KUPvXlGD72UYg+9R1IPvW0cD72bJA+9dJYPvXwND72k3A+9xvgOvbrxDr2+KBC9VokPvR95D72Fog+9aoQPvRU/D72aUg+9F+0PvcXDD71AfA+9GXIPvTrID73xjg+97+8OvR/qD71Tag+9rKAPvRXdD72ekA+9gtMPvXQ6D70kpA69wK4PvVkRD73L4g69WrcOveC7D72cXw+9PwEPvef/Dr3FHw+9lo0Ovb6LD73IKw+9peQOvXrKD70XMg+9YiwPvUDvD72uyw69ymgPvT+PD71K6g+9v1wPvbWnD70C9Q69e/wPvdLbDr2Y3w69f38PvYIdD739QQ+9eZYPve0lD71Tsw+9MtIPvaOjD71p9w69F4cPvQJnD70fhw+9LR8PveMeD71XXA694E0PveurD72AKA+9bDsPvcbxD73LYQ+9878OvZUbD714wg69zcIPvYzXD739eA+9YHoPvU7QDr0Ihw+9P0oQvdL4Dr3+YQ+9ixcQvYwmD72+hA+9SqIPvbcCEL33KA+9EiYPvZqjDr1LiQ+9ovAPvdPdD73Etw+90tEPvTXPD72TVw+9+GsPvexrD71xRQ+9A9oPvdwYD70foQ69mIcPvbFuD72Ukg+9sMMPvaqlD70xnw69aksPvZLeD73FsA+9ej4QvbyqDr2QKg+9DCUPveivD72jig+9VEMPvfD2D72iaA+9VhQQvTtbD72P0w+96PQOvfxCD73OPA+9tuYOvWPQD7285Q+9QmQPvehMD73Cfw+9+/MPvW0iD715ig+9UFcPvadSD73v6g+9LHoPvWD3Dr2UChC94H4PvYKHD72YDw+9dFkPvQJSD71kSg+9HSQPvRPxD73GQg+9PagPvcM7D73kxQ+9qKoPvfBfEL24gQ+9NmMPvetdD72CBBC99fgPvd1qD71+iw+9E4sPvTv1Dr0crQ+9NcEPvZ/oD71+4Q69zvsOva8DD71LIA+9bM8OvfQND73Nsg+9RrUPvY9aD72+8Q+9xbcPvU2KD70AkA+9PDgPvdZjD73I0w69bnIPvVgJEL2xcQ+9BCkPvbyyD71mDhC9aD8PvXW7D70Yfw+9DLYPvQ26Dr3B5A+9XV0PvX+lD712TA+9FmwPvWyyDr2AQQ+9yvUPvbpaD728Og+9gZIPvd1dD705BQ+9CjIQve6UD71csg+9dq0PvSLeDr1JIg+9soYPvcZGD70xXA+9AK0PvcTOD70ISw+9yuIPvU9ND73gqA+9vlAPvTpYD72QhA+9mf0PvRK0Dr2+ng+9WnAPvQIPD736QQ+92KEPvRxDD73rgg+9DBQPvTS7D72khw69IUUPver7Dr27WA+9gR0PvWGrDr0XCA+9tIgPvWPCD71KYg+9AJMPvYWJD70cHw+9ccIPvaEyD71jEA+9YU4PvbqED72APg+9QigPvdN3D70YJA+92eEOvX6CD71ABw+9dI0PvTrtDr3idQ+9dA0QvUqTD70rJg+98FsPvYciEL19kA+9fd8PvYjLDr2eFhC9W2YPvRoGD70W3A+9FPgOvXZ/D71D+w69H8kPvUD4Dr3UCw+9z3QPvTU2D72A3w+9FsIOvXd6Dr3inw+9VqYPvY27D71srg+9JkwPvaBXD73CNQ+9DK4PveAeD707Eg+9cMQPvY48D72Ysw691AAPvS4OD708yA+9OIUPvZb8D72MvA+9QUkPvaJVD70m1w+98HAPvTJCD70NqQ+93RsPvR5jD73csQ+9wJEPva0yD72vdQ+9OMoPve4MD70DHw+9dcUPvXh2D73Nfw+9820PvX9ZD708dA69pPgOvTNyD70qsg+9WG0PvRghD72Kvw696sYPvYMfDr3dyw69BQEPvelRD71gfw69LcEPvUP4Dr0hgA+93QoPvQEJEL213g69SzAPvXi3D7044A+9EFAPvUtYD72lKw+9MGgPvdWID71Lbw+9sB8PvQyND702Xw+9sb0PvcvkD736vg+9OZ8PvbISD72hkg+9D3UPvQzuD70Fmg+9Ti4QvSQDD71YbQ+9tKAPvYo4D729bA+95LAPvRDLD70J/A+9pV4PvV82D71nmg+9b1oPvfhsD72zgQ+9LVYPvUCfD713zA+9kaIPvcf3Dr3EEQ+9BBkPvVdND71zaw+9mrAOvax4Dr2MNw+9jeMPvZ4lD73vARC97f8OvV6qD73CoQ+9FYoPvTo1D72BJQ+9tAIQvTMbD73K6Q69KDcPvR2BD71s4Q69cXoPvVD+Dr36RQ+9WVMPvSptD70ZAw+9NSYPvV1cD70KEBC9hroPvZt4D73U8Q+9SrYPvUAyD70/qw+96zAPvUwLD73cJhC9guAOvYjDD70m5Q+9nFsPveggD73a2Q+99FcPvYxYD73+og+9ZlUPveNUD73KFBC900EQvZaKD72UJA+9lyEPveLvDr3Ukw+9uBQPvRm8D73CcQ+9GwcQvYYpD72iyg+9bhUPvUH4Dr1sJhC9RGEPvbyJD71m3Q69af4OvdA/D71xSg+9rjIPvZG5D72/CA+9p1MPvTYHD71yTw+9HmEPvSDhD72aZg+9k5YPvUzsDr15+A+9DRsQvZZVD72+dQ+9vEkPvaDvD723xA+9qUcPveSFD72lPA+9wJQPvT/5Dr31Sw+9JjMPvWM/D72sqg+9ATsPvQhVD72MeA+9vxMPvRfSD72X+Q69xs8PvaNRD72ivQ+9DMgPvauTD73klg+9eg4PvelfD72AJQ+9wl8PvRnjD73ggw+9c1QPvU7RD72Jdw+9f20PvaiMD70SZQ+9E4wPvfD8Dr0LGw+95lwPvajRDr1gvQ+9rYEPvWJVD73BdQ+9hsgPvemGD72Qiw+9gOIPvZ3BD73qBw+9GnYPvQ5iD73Q1g69TIoPvf6SD71kHQ+9fssOvWZOD727bw+9y3cPvZqSD70uzg+9RaQPvYvpDr3wzg+9lUcPvSLLD72+eQ+9PKIPvXqzD71cuw+9+rcPvafaD7068A69OhgPvf30D72Lng+94H0PvdQGD73TYxC9miQPvT0REL3TWQ+9eZEPvYnFDr2qrg+95/kOvc2VD70nuA+9tCwPvUrWDr1B8A697EUPvdtiD72VnQ+9XeQOvcOED71sfA+9MDQPvTq6D73+rg+94eQPvafiDr1/lA+9OIYPvXUmD71q6g69H7YOvXzTD7295w+98WEPvaNED72+Ew+9z08PvSZnD71NRQ+9CFwPvVreDr1juw+9SvgOvZf2Dr0rKw+9nB8PvWi6D72adw+9JeMOvdBED705sw+93QkQve5gD73Q1A+9rO0OvQaED71xHw+9iq8PvWJ/D72WVQ+9ZpYPvRK2D71f3w+9NRcQvVOKD73gjQ+9XyYQvZQRD72h9w69tloPvR8fD71EqA+9yaIPvTBhD71wdA+9ODIPvQj3Dr1qcQ+94H8PvchMD71EdQ+9Pt0OveI6D73ynw+9+GsPvYzLD71+ig+9JqUPvX5sD70lsg+9xkEPvWd/D71SsA+94boPvRDeD73k4Q+9QKgPvW/HD73vow+90KkPvWgrD71mWQ+9YfUOvdnZD731Lg+9pSUPvRbpDr22vw+9A4EPvTUhD706eg+9mIcPvT54D71VUg+9DqgPvQvZD71KLQ+9PxwPvT5pD701hQ+93/UOvUkFD70HAw+9MMEOvdgcD72eAg+9/rgPvSG0D70Wcw+90LoPvVUYD71M1A+9KJAPvRSdD721Ew+9rnYPvfwND70liQ+9iv4OvTq6D70Ryg69wKMPvUWVD71v2w+9JsoPvbQxD70kPQ+94cEPvdgbD701NA+9fsIPvcMXEL02bA+9XpAPvcdaD712gQ+9ZKEPvVxlD71d5Q+9vNwPvXE6D7162A697fgOvX0+D706ABC9UvgPvWdiD73KAw+9VBQPvQZDD72mrw69GfgOvY75Dr30EhC96F0PvQK1D70AKw+9YCYQvQ1sD70vpA+9OkUPvbPjD73YsA+9R6cPvUD+Dr1T5g69+mAPvVtKD73+EA+9laUPvUY1EL1TQw+9M2EPvRDbD71eyw69AsUOvTn2D72vfQ+9afQPvbpcD71q4A+9yEYPvetID70m7A+9QcoOvdaSD73yiw+9kOYPvSOID71pmA+9iucOvY9oD73IjA+9opYPvaElD72kDw+9wvEOvTWKD71IYBC9q6wPvRvdDr1LqA+921IPveAoD71sdg+9ys0PvZqQD70zGg+9FxkPvV+AD73ivQ+9FIQPvZ/eD72k+A69/DcPvSHbD70Kpw+9ltIPvfihD71qCBC9xMQPvdOtD72mmw+9jRAPvfR5D73wRA+9dNgOvfQSD733IA+90gYPvXaLD73AOw+9EJ0PvfxiD703wg+9rKQPvVjpDr0Lng+9txcPvbuTD72omg+9Pd4OvaeFD73eGQ+9UMUPvUIqEL3Cbg+9PKsPvU6YD71+4g69rCEPvXwTD72LSQ+9qSsPvYPiD71stQ+9CrYPvfosD73kwA+9WHIPvSipD71+jQ+96jcPvSeDD72AGQ+9FLgPvdSHD72CWA+9exoPvSYGEL3jFw+9lkMPvaklD71elw+9bHkPveinD71qlQ+9DMMOvVgrD72e1Q+9yF0PvcH/D703kA+9IugOvQeDD73CGw+95tIOveK0D71bHxC96JkPvdb6Dr2xOw+96WkPvaSQD70Icg+9fDMPvWJYD73bNQ+9hgEQvaSPD71KvA+9/igPvbVhD73KFw+97uIPvRLuDr2aAQ+9GvIPvWjZD72K4w69miEPva5rD72QCRC9RssPvYagD71QuA+9eKkPvSzyDr2waw+9xzMPvaydD71E/g693t0PvWLFD72Bwg+9Z78PveC0Dr2u2w69PMUPvfJjD70oEw+9YM4PvclAD712Hg+9rLQPvXHrDr2xpQ+9g4gPvZauD71z8g69GNEPvZAlD73joQ+9PZ0Pva/CD72Urg+9Do0PvUIZD71LdQ+92FQPvSR6D703FBC9dNIPvcgPEL30uQ+9HRkPvT6eD72eTA+90IsPvRRpD703gg+9SwoPvaxRD70ElQ+90m0PvUcyD72qGQ+9d0wPvdjbD71XXA+9zsgOveiTD73cRQ+9JmgPvZizDr32tQ+9e8sPvd0bD70kQQ+90z0PvWBKD731Dw+9EEgPveiSD71Log+9Do4PvYrUD71IaA+90CsPvXwTD71Otg+95DwPvdY7D701/A69hgwPvVwXD73GIg+92VcPvYaQD71opw+9pP0OvU4fD72Lag+99D4PvboFD727xg+9Mk8PvQCjD73BmQ+9WWAPvSbCD71vig+95NoOvdpND71Aiw+9j9APvXLxDr1OZQ+9F9oPvYaIDr3MaA+9KlQPvazBD71+Kg+9YJIOvXiCDr0qKA+9YqAPvUgdD71TVw+9bqsPvduWD71fChC9dLsPvbYcD72jrQ+9XUAPvfQ9D71Sgg+9xFIPvWowD72EoQ+9604PvQPOD70Seg+9sI0PvV/KD72I9A69HdYOvWtZD73syw+99uEPvSTPD71j+g+9G4QPvVbsD7260A+9Zf4PvSbJD73T2g69iosPvdF7D73PEQ+9/pQPvXhgD736fw+9ScIOvWkGD73Beg+9+fAOvShuD70OYA+9XjgPvWRND72ubA+92qsPvZHnD71xqQ+964sPvUYjD72Ifw+9k8MOvSyhD738Pg+9Ib8PvTkuD73oCA+9fDIPvSIGD70mJg+9OTAPvTyvDr3sig+9Q9UPvQTSD739dA+9UNEOvTPqD72dmg+9nmgPvae3D71wAw+9hw4PvRe0D714uQ+9LbAPvdyiD738Tg+90xgPvSzWD73ZrQ+93EcPvcqcD71YzA+9qRIPvWc+D70KMw+9w4kPvbDYD73ogQ+9lyMPvey8D73AZQ+9vusOvWqWD72GVw+9yLoPva5GD70/vQ+9q4oPvZzXD73u0A+9RZYPvSC3D713yA+9prUPvUqvD73mQA+9tpAPvUeyD70mJA69Cy8PveCOD71yEhC93EgPvWq3D71aHQ+9ZXUPvSEgD73lKw+9nT0PvS94D72N5g+9Ch8Qvey7D726yA69WyMPvXPGD70hyQ+9T8oOvUtvD713Sw+9FD4PveKhD714BA+9YHYPvWK0D705JA+9dbQPvWyJD72sRQ+9JA8PvfaMD71a/Q+93ooPvZZED70uhA+9mhEPvShkD73cbRC9UR0Pvd8tD70fPQ+9WOMOvdqXD70byg+93JIPvasXD70+Rw+9VukNvXtXD72S1g+9xIYPvahED70uxw+9ptEPvUmID70MYA+9FMcOvQraDr3+Kw+9w6UPvT5xD7389g69F5QPvWkYD73lYg+9X2gPvWejD70lkg+9wG8PvZ5/D72lcA+93t0PvRBkD73SGQ+9eh4PvS9dD73qRw+9/LIOvWrbDr0cdg+9AMwOvdBOD709Iw+9CLgPvdS/D711fg+9m1YPvUu0D72eJQ+9LHoPve8HEL0Yvg+91DIPva95Dr0WlQ+9EBgPve6eD71E/g+9qFwPvUn/Dr1EnQ+9TBkPvV6+D73e6w+9rnYPvfbyDr3UPQ+97pcPvdIOD73SjQ+9Kj8PvTwyD70z+w6950wPvQyaD723ng+9nLkPvdCSD70pTQ+9kDIPvV8ZD70eqA+9lIQPvcmJDr26DRC9E3EPvaxkD731xg+9SZsPvTU2D70JVQ+9xX8Pvc12D72bUA+9qHYPvRddD723tg+9UWwPvT3bDr3YbA+9UMAPvaKdD70DbQ+97w8QvVEID72oyA+9IN4PvWwXD710fA+9VsIPvWkwD73Vxw+9KlAPvU5qD734+g+99MAPvWI5D72aug+9KAIPvRwVD72keQ+9CcgOvSqsD71umQ+9RNkOvRddD73Plw+9epIPvVVSD71w8g+9Fj8PvWyoD71+tA+9xvoOvbcoD700dg+9joIPvVbvDr1wiw+9umwPvezND71Cqw695MwPvRL2Dr1aFxC9NEIPvR8UD739JQ+9O6kPvfRPD72tAA+94E8PvTW1Dr0jfA+9/EsPvcAHD72mIxC9eBYPvUBkD70LEQ+9XswPvZoCD72YVw+9JekOvUOlD71kOQ+9g8MPvY00D71qzg+92FEPveVDD72k9w69+YoPvTKUD726vg+974QPvfWLD702IA+9sSgPvcYwD71IZQ+9TjoPvUdBD73OTA+9dXcPvZz0Dr02NhC9Eg4QvQhgD70iaA+9CYwPvbohEL3c0w+9GxgQvTajD72h7Q+9XZIPvQQiD7306A69yi8PvWVMD72r/w+9NOgPvRThD70LkA+9vswOvQgJD72rsA+9cbcPvR7SD73HPA+9Zc4PvWZ4D70yvA+9btEPvV8FD71QMw+9WkgPvX47D73HXw+9Uv4OvXO/D731uQ69hNsOveWqD71OZQ+9UiwQvc01D72mfA+9GMEPvao2D721uw+9uccPvTwpD73qTw+94jYPvZ6fD71Lug+96P8OvZQOD71PGg+96toPvbxzD71GXQ+9lS0QvTXhD73wBw+97s4PveFzD73R0A69LKUPvVquD71c8g+9mcEPvdVCD73kRg+9jLsPve9vD71bZA+9TlQPvdYdD70JgQ+9kFwPvbn6D70E7A69uVgPvbd7D70VhQ+9e8EPvbCjD73M2w+9XrQPvY5oD70u7w69Q1gPvareDr06PQ+9zOsOvdqQD72CTw+9InkPvY3nDr0q1A+9p+8PvUymDr3KEw+9uysPvRSnD732bA+9uM4PvYV8D7052Q+90f8PvYLBD734pg+96C0PvWEsD701jg+9CkAPvfWpD71PEhC93z0PvRqGD7359Q69LJMPvdCID70DUw+9n40PvRJBD71DUg+9538PvQELD732Ew+9MnoPvfJWD73eMw+92jwPvfRsD70LYw+9JDwPvUv6D71RWQ+9Xv8PvdCjD73KdQ+9G/EOvfDoD716Mw+9lfQOvUS2D71YYA+9pLIPvV+bD71pJg+9yuQPvVIlD71OJA+9XvYOvUowD70Xkg+9l48PvZ+9D73XTw+9CjkPvSoeD73rYA+97YUPvdjND72Mwg+9wigPvRWeD70/6g+9xmoPvYQyD71xVw+9TXoPvXpyD73XjA+9nysPvWZIEL1ueg+9chUQvbK6D708qA+9QksPvS11D70iKQ+9RtMPvVSKD73YlQ+9R4IPvYonD71sSw+9rwUQvTKID70HLg+9tsQPvRYqD70inQ+9Y+IPvR9jD721tw+9TpkOvVWxD71sLA+903oPvd4bD73v3w+9uU0PvWs9D73Wug+9hcQPvYJRD73w9w692+oOveQkD70erg+9JXoPvdBhD70zLg+9BckPvbPRD71YqA+9pMEPvaT/D70cEhC9FSEPvZNgD73noQ+9TWAPvSqoD72sUw+9Cg0PvX+oD73YVw+9vMwPvfSED73piA+9hlMPveW2D73MmQ+981YPvb5HD70oIw+98WkPvUHGDr36Tg+9ErUPvWJ3D70m8A+9P2MPvcZlD71SWA+9p60OvXwnD72l/g+9UrsPvbV5D71EJg+9rWwPveafD70a/Q69mSAPvQr2Dr3gww+9GC8PvfjYDr1QoQ+9TlwPvQe1D70C9w69LU0PvcBaD70dGA+9OD0Pva87D73ANw+9ALUPvaRSD71JuA+9gKUPvbjBD70a2g+9GSgPvZFjD71RrQ+9gsUOve0xD73uaQ+99EUPvRK8D71QHA+9S7wPvVpgD73I2w691GYPvcnXD70Igg+9DIgPvWaLD71Ygg+97xAPvQxiD73SQA+9Bh8PvbBlD70Qlg+9yUEPvU/zDr21jQ+9yggPvZxUDr1Gcg+9hG0PvRRfD72QXQ+9GHMPvQ7hDr0EPA+926IPvTgkEL3Yfg+9MUkPvQoyD72bHA+90vwOvXmvD72ihw+9iv4PvZn4Dr1F0w691BIPvdoAD70lJRC9JUEPvfyzD71iGw+9/m0PvaIeD70vhg+9TGkPvZOlD71OEA+95FoPvXXID728ORC9zqkPvWHYD72pAQ+9CXYPvc//Dr30eA+9LGcPvWeZD72Y/Q69kkIPveWnD70KjA69T98Pvc5kD71Y4w+9VGkPvZi2Dr00mg+94i0PvQwrD726RQ+94PIOvdKlD73zBBC9ksgPvcZ+D72KFA+9AvkPvTRyD71Ksw69YhUPvcr7D70zkQ+9Q+EOvaavD71anA+9VgcPvfI1EL3oyg+9OcIPvTZmD72Gzw+96r8PvU69D73FNA+9t50Pver4Dr2/pQ+9LGUPvfriD72JsA+9Vx8PvZCcDr0MuA+9DzAPvRaxD720Sw+9J5QPvQaZD71DPg+9F3IPvesaEL3Dsw+9ZssPvdnJDr3o6A6943sPvTUvEL0tkA+9nlkPvfy9D70h/g+9mjYPvUQBD700JA+9ckwPvRTWDr3hZg+9Z0cQvQUuD73Low+9wl0PvZfDD72okw+9xkoPvYCtD71iXg+9RpwPvX5AD72FbA+9bUIPvTYuD71KMw+9wpYPveQCD731gA+9lscOvY98D70yAQ+9ZFIPvYo0D72Okw+9qK8PvUn8Dr0aLg+9oicPvWfyD718kA+9x3kOvQVZD707ew+942QPvXYgD739mA+9cCQPvU/4Dr2IKQ+9N1IPvQzxD71wJw+9qB8PvdafD71gTw+9EhIPvUuhD730UA+9XHwPvfo8D70HmA+9srQPvRM7D706zg+94SEPvaX6Dr28yA+9sIUPvRHiD71tGw+9tKEPveSID7291Q+9ieMPvbdDD70TCw+9I1UPvb6UD71C2Q+9DAEPvUU3D70Qxg+9fnIPvWGSD73CfQ+9sicPvSiHD73nzw+9rjMPvUSRD70gOQ+9gqYPvRYZD72dVQ+9q7UPvYAaD73/Xg+9AvEOvQv4Dr2yog+9l9YPva6WD73QXg+9I9IPvQyRD70BhQ+9wX8OvSicD71GZA+9pq0PvbCoD71Z1g+9j1gPveSiD70B5A+9ctwPvablD720og+9lrgPvZdeD722xQ+9XpEPvWjFD71baQ+9/oAPvbLoD72KDw+9Ih4PvcaLD70wMw+97WwPvWj0D72lqw+9bYoPvW53D7148Q69RMwPvV+eD73TPw+9JMsOvSKcD7057Q+9OZIPvQogD72imA+90EwPvVOfD72btg+990YPvQoOD70pIQ+98pYPvUfqD72OGw+97ZMPvRTHD70klA+9tGEPvf1jD72quA69k2EPvVekD73vmQ69vLsPvbS3Dr37aA+9UjEPvXJkD72BVw+9fzsPvfwhD72aVg+9d3wPvfpiD70NxQ+9NicPvbgYD70x/A693yoPvcl/D70QAxC9qi8QvXYWD71iWRC9eZUPvTdLD71iVQ+9n64PvdipD71WGhC9LJUPvXjLD71VuA+9RMkPvedsD70IJw+95UsPvdVkD70Uhw+9WIsPvZw/D70Meg+99hwPvTbDD70oIBC9Ox0QvdlaD70klA+9W5IPvYYOD70MBhC9OA8PvbvbDr3gwQ+9IjAPvTSPD73CTg+9LqgPvVTnD70BPA+95y0PvYv3Dr3w6g+9iYEPvTgoD70KDw+9iMAPvQBhD72WLw+9rz8PvY65D73A3g+9Q3QPvWDVDr0DdRC9Q+8PvQ8tD73agA+9WCIPvUO9D7173g69ln0PveyJD706Mw+9cJsPveQbD71EFw+9iLIOvXYbD73PMQ+9dZcPvSx0D72dtg+9nKEPvY4lEL3ifQ+9eKwPvaEfD72Ueg+9qV0PvQ/gDr2sAw+9l0wPvfCID71Qew+9154PvW2yD72ekw+9Wc8OvdeuD70pbw+9wBQPvc8uD70eTQ+9hpcPvWwlD73m2A+9TC4PvZ96D72ycA+9ZAMPvUpDD73lpg+9hCUPvSbEDr1EJA+9NoAPvSHXDr0gmQ69UB0PveZXD72JEQ+9jJ0PvUCuD73qSg+9hDEPvU/9Dr2UpA+9jI4PvfFvD70d9A69RJsPvTgLD71GNg+9vE0PvcX3D70qpw+9fWwPvYmWD73gzQ+9oLMPve7kDr1FLA+94iAPvbgfD73kwg+91DwPvUd+D73R8A+9MsMOvUz4D72K/g69UgwPvZEaD71R4Q69DRcPvVCoD70SfA+9sEUPvRJtD70L+A69Jm0PvZGfD71Pow+9cVkPvUgcD71jIQ+9T6sPvcfkD71YKQ+9DGQPvb9OD70Bvw69s4APvYgiD72i2g69gIwPvVBRD71xcg+9PxkQveH2D731KQ+9M84PvfuXD72URg+9QLgOvU7xD71xjw+9rmYPvWPtDr0UYw+9T5wPve2dD72yOw+90RMQvfWBD71a0g+9PN0PvctKD73vsw69Di4PvYP5D72I0A69SU0PvQ2hD70OIw+9/LAPvfTdDr1GUw+9TXYPvQJTD72cGxC9HzgPvWFpD73kog+9tHMPvdRPD73aBw+9aZAPvXP2Dr1BYg+9CqsPvUSeD73ZYQ+9x8sOvX70Dr0Jjg+9ZpkPvZokD72+hg+9/ukPvTjGD71zBg+91yQPvUYTD71T6Q695nkPvZkiD73h2A69FmcPveQJD73opQ+9PL8PvbTYD70aTw+9OC8PvXLDD70vBQ+9CiMPvTa6D73iaA+9ZsIOvSKXD70HPRC9HZ4PvUpVD72csA+9jtoOvZDOD71mLA+92jIQvSCSD72vTw+92TsPvYaYD72S/Q+9LZ4PvaSiD73P5Q69oyIPvRQwD72TDg+9u94PvR5QD71Enw+9qHoPvW5nD71moQ+9a1kPvf4mD7232w+9J0QPvemZD73SLA+9IlUPvdSVD72a/w69eagOvd8MEL2f3A69waMPvYbdDr1zjg+9J/kOvRcuD700AhC9MU0PvbiAD70qXw+9LJMPvaq8D70eTg+9elcPvSyFD71L4Q+9mqsOvaWQD71cmg+9IEcPveeJD71fog+98HkPvVbID714oA+9riUPvW/4Dr2B0A+9zd8PvR92D71A8w+9cBkPvUXMD70arg693hUPvXHFD73b1A+9PwcQvYGYD73bIw+9QLEPvY4pD73UtA+9lDkPvWzVD73AUQ+9iXMPvY7hD72p1A699oMPveqFD70lVA+9v7cPvTj8Dr36DxC9zDQPvXxRD73QlQ+9XAQPvd4DEL2XjQ+9mk8PvfSmD718yw69UnsPvdKAD71zqA+9TtQPvQ4mD72IQA+9k1QPvTgIEL0csw+9U2gPvfAVD70DGQ+9bAQPvc3TDr0NsA+9CCoPvSvdD70iZw+9ME8Pva7ED73P6Q+9hyEPvVrHD72dUA+9lkMQvQZnD71uEg+9/DQPvT9WD73CWQ+9jAkQve5nD72vcg+9TUQPvZLnDr0cOw+9weIPvayjD7009A69aKgPvaFID722ERC9arkOvcjdDr3LPg+9PKYPvUaLD70snw+98GYPvSJ9D72QKg+9zwgQvc5hEL3UlA+9rpIPvY4ND72hjg+9spAPvWaRD72lRA+978MPvZhFD704Sw+95ZwPvVyiD73gkA+9k0sPvdY8D731yg+9XaMPvS3ND72spg+9BnkPvXogD70uHw+9S2MPvdTNDr0z6w69dIIPvWOfD72inQ+9Kj4PvXuBD70izg+9LWwPvR5dD72iMBC9bOwOvZl6D72jtQ+9a/MPvWtMD70DHQ+9YBQPvcYsD71KlA+9HuwPvTO0D73w/g+9A4wPvZl5D71+mQ+94ZEPvUQED72zRg+9glYPveNBD700KRC9tKAPvQeGD73qUQ+91fQOvYQlD70REA+9NN0OvZuMD708Bg+9LiUPvQQWD70gqQ+9NAYPvR1jD73yfA+9+EAQvfp+Dr29Gw+9mM0PvRyhD72GtQ+9opAPvcDND72xZw+9Q0kPvah1D71syw+9XGIPvThOD705PQ+9XEgPvduJD70jEQ+9cCIPvdiZD73niw+9njYPvTlHD70D3A+9msgPvWIuD73Gnw69djEPvQh8D73GUA+9AJAPvVtCD73kOg+9qHEPvfLHD715yg+9iUIQvbMpD70LAw+9rhwPvTzsDr3S2Q+9fEwPvZQmD71uGw+9ntkPvfBjD73kTQ+91OgOveA9D70M9w+9IUcPvffWD70Fig+9rYIPvfjsD72G2A+9sGQPvSpLD72Bvw+97pEPvQXqD73WgQ+9vtwOvVVrD70OVQ+97sEPvdKlD72fyw+9XKgPvf5CD72wmg69RgUQvUPmD73uoQ+9iwsQvd67D70O0w69ynoPvY+BD70yQQ+9vkYPvY0UEL0Edg+9wFQPvQ+fDr1RWg+98DkPvcm+D73G4w+9ylMPvXAND70mfg+9DWUPvS2TD7181Q69tGQPvWUfEL3THA+9vZEPvTacD729fA+97moPvXJID73F1g+9+ykPvbnXD71iQA+9JjQPvSwCD70JIxC9SnkPvVBwD71GPA+9+T0PvR+/D72e9g+9HU8PvegWD70wng+9QfYPvVpUD71McA+9BPcOvcxND710MA+9yU4PvXv3Dr0Clw+9p3YPvTNdD7245g+9s64OvSvwDr03cw+9caMPvXqMD70udA+90AMPvfpgD71YUA+9j1EPvfV2D71vABC9lAIPvS47D73Tbw+9ISYPvc+cD718WQ+9KGYPvcx7D72CvQ+9E+4PvZSCD70f8g69xDcPvWlOD71jzw+9a2MPvQXiDr1ZiQ+9VxgPveC+D710FQ+9UM8PvZVRD70SNw+98AgPvYx3D70yHw+9fjUPvR0bEL37rA+9mlkPvUUYD72qDw+9msIPvdJgD71pAg+9i7kOvR4ZD73ASBC9oAgPvUiMD73ClA+9mo8PvftJD732rA+9CCQPvStzD72XUg+9ALIPvWYhD73OaA+92VoPvWZMD72mmw+9mlwPvXuwD73zUg+9rCYPvZE6D70YTQ+9VT4PvZRoD70GFhC9nsMPveHJDr02gw+9tj8PvUxpD73bNQ+9MosPvdl3D71geQ+9algPvewjD706Xg+9i6YPvbHmDr2r6g+9bR4PvYnCD708rw+9tDUPvVmCD73tOQ+93mMPvUXRDr1EaQ+98JkPvSBYD71CUw+94NIPvd4oD72PTQ+9mqIPvSxTD71qJQ+9aRwPvQEwD73jlw69kc4Pvfj5Dr3M5w+9GnUOvcLtDr00MQ+94LQPvc1fD73HIw+9gNUOvci5D72s+w+97uQPvQx1D72CHA+9j2APvXssD72pOg+9TEsPvUxDD73DpA+9TNwOvVIBD711PQ+9aJYPvVB+D736JA+9IfYOvW0ED72Brg+95tcPvXUeD73wxw+9PJwPvT13D71Gqw+9YjcPva9SD73yCQ+9RFAPvQQEEL1Pcg+950UPvZrCDr0KgQ+9UlUPvaxdD73EQA+9oj4PvWF1D71+hg+9jqAPvYyqD72GmQ+9U5UPvXLiDr0wsA+9DlgPvSJWD71CqQ+9+BUQvTy+D70AJw+9+hoPvaRYD70DQQ+90BkPvfOoD72+ng+9WgAPvZ9QD73tOQ+9RnEPvSq2D73kDw+98CMPvdfiDr2DVw+9sm0PvURlD73qrA+93i4PveJRD70VKg+9MEcPvf1XD71bFQ+9Zi0PvUZyD73gOg+9ZXAPva4mD72g4g+9td8OvUAND70Y5g69lk8PvYQZD71GXw+94LcPvQQLD70QwA69g3oPvYpPD73cjQ+9FH4PvVouD71olg+9MiYPvaH/Dr0kmw+92NkPveUKD73mSQ+9QYEPvXJ4D71EGw+9+rUOvRw8D72xeg+9MN8PvcJND72DJA+98tMPvYsiD73TeQ+9AqIPvXw2D726FQ+9hkUPvdaaD71otw69zL0PvRbEDr1AIg+96DYPvW2TD72ylA+9fW4PvagqD70RCg+97NUPvRh4D73WDBC9aZEPvcZzD71mfA+9n7wPvdYUD70CzQ69V1wPvTwAD72R6w69zZUOvcmPD70bog+9qIkPvSGYD711ww69kBIPvT7zDr0ONg+9J84Pva7QD70kDw+9egoPvXpGD72xeQ+90FQPvQ4JD716yw69LBwPvZcuD734bw+9dLgPvSyJD71uOw+9WF0PvaBsD71Ppg+9OB0PvewPD70O/A+9h3sPvbubD71IKQ+9rYYPvWa+D7092g+9gMkPvUqCD70aog+9F4UPvYuVD72c6A+9LO8OvRGJD726hg+9c8wOveY9D70ulg+9eLsPvVpWD73+gQ+9LKAOvSylD73/dw+9kD4PvbR2D70NzQ69sz0PvcDcDr0A4Q+9bogPvan9D70gSQ+9KksPvebOD70Erg+9MC0PvdubD73s1w+9wloPvXlkD72imA+9losPveK5D73E6g+97hUPvcGmD7076w+904UPvRqVD70v+Q69DFMPvX5ND70u9g+9mCIPvRKbD72cOg+9FCoPvcQvD73P7A+9UlgPvdW8D73r+w+9owsPvXT1Dr26SA+9RlgPvYYDD70m6Q+9gGMPve4kD729cA+97F8PvbacD720RQ+9L8AOvTdUD70/ow+9UnUPvQyYD73LWw+9Bw4PvadPD71DdA+9HEQPvdGYD71xfQ+9xUoPvWLUD71SMBC93hgQvR9VD726bg+983sPvUwqD72S1A69yU0QvY59D71Y1g696OQOvXmkD71hcg+9hKUPvYR0D71xwA+9H8wOvZdlDr1skg+92qYPvQxTD71Wsg+9noIPvTOmD71uaxC9igsPvQbCD72M2A+9dPAOvfy3D72ECw+96NsPvYarD71cpw+9AF4PvW9dD732RQ+96oQPvQEMD711ww69XoMPvaprD71UEg+9VVUPvUjxDr0KVA+98vkPvcFYD732sA+9Kp4PvbtgD70JpA+91nIPvQ45D71AEBC9DeEOvfR8D72WXQ+9LMcOvVYvD7375A+9slAPvcl/D72XvA69mdMPveSPD72Gew+900oPvXeGD73bBA+9lBoPvQP5D73WxQ+9FVUQvaCnD70YyQ+9QGQPveQwD72Wlw+9cpcOvTZcD70ubw+9tPQOvcH0Dr0y4g+9sIEPve6nD732qA+9hMQPvTp/D72HJg+9QlAPvbB8D72m+w69ULwPvb8ZD73kDg+95PcOvZCED71AVA+90kAPvYGPD72s3A+9I14PvTChD71uUQ+92hQPvSzXDr0GAg+9U/YPvbLUD71Llg+9Dj4Pvd9gD73Plg+9tM0OvdRtD70ECg+9GvQPvRK3D70LAQ+95GcPvfAxEL3iug+9MsEPvTiNDr3ZKhC9vJgPvXpYD72IaQ+9FCwQvXbVD70L5g+9LykPvcc8D70elQ+9quAPvYxKD70Kag+9pJcPvUA4D71cXA+9XiQPvSidD72bhQ+9W0MPvWSTD73Q1g69MKkPvQopD705bw+954YPvelPD735NQ+9qmIPva17D70ZhQ+9iowPvdSJD729mw+9KvwOvebOD70EqQ+9rXUPvRxXD73//A69rj8PvaCsD73qdA+90lcPvaHUD71mUg+97bYPva8aEL2WqQ+98YIPvZ+/D70+UQ+9HFAPvcuGD71sKQ+9qcwPvUddD721iQ+96jcPvZV7D73eEA+9WtIPvRT4Dr3/Kw+9JlIPvZuHD72M8g69kpYPvSsMD70Ceg+9bbEPvXEKD72oXw+9bA8PvSimD73uBQ+9uMEPvb68D71zsQ+9VLMPvT8dD70Q6g69xwoQvYrxD734hg+9dv0OvWzWDr2wMQ+9/ucPvQD/D73DIQ69QgIQvTvnDr2IXA+9RiMPvVElD70ZVw+9ALMPvXCCD73Jsg+9gTsPvYmGD72YXA+9RkIPvepWD73KXw+9SOsOvbSxD7062g69vhMPvWwtD70sQw+9AhUPvbE4D72H5Q69t8YPvdROD73u2g+9uyMPvY5OD71gpw+9QKUOvbbKD71qUQ+9b1wPvTK7D723dQ+9BGsPvTJzD70aFA+9GewOvWTeDr16LA+9DxkPvSHZDr2uwA+9gTsQvYyGD71kgA+9MuQPvZysD71NrA+9w2wPvZB8D7125w+9KCgPvVSBD71Fag+9QBgQvRPPD72YcA+9DB4QvTrjDr2ByA+9Vt0PvRqVD73GXQ+9GbMPvW25D72onw+98uUPvaC/Dr2Xqg69v6IPvQF4D70r1A69f/4OvaZKD73RiQ+9cy8Pvf3wDr3Thg+9xI8PvXy4D72iog+9x84OvcCkD701Bg+9j2QPve4aD71rMg+9pvoOvdmZD73ZzQ+9J98OvaYKEL2TPw+9Y/kOveU7EL1lZA+9qkwPvQooD71iDA+90hIQvQp9D72YeA+9g54PvcQQD70OqQ+9jZYPvehfD71RKQ+9lAIPvUQeD71Scw+9ygYPvfs9D73k5w696osPvXaUD72g4A+9fTQPvSfED73Ekg+9uOwOvXeJD72RVg+9LmsPvZXID718fw+9tuIPvejhDr3WZg+9GDkPvWoKEL1gHA+9Sj0PvYYtD70XdBC93F0PvYWsD72sdw+9RLcOvbIwD73euQ+9Rj0PvYIxEL0pWA+9qKkPvRgtD71WNQ+9yL0PvQTsDr0QFA+9KJUPvXX0Dr2hlA+9S30PvWmQD70Iaw69fAIPvYzED72Fiw+9mjMPvWDfD71bOQ+9NrwPveLoDr0zUQ+9WJkPvewRD70g/Q+9PAwPvUpdD71Rkg+9dlIPvYa4D70FHg+9q5oPvYLnD70BMQ+9VasPvUILD738fA+9ZOIOvQhjD73TFQ+9UYkPvVIWD71Z9g69jlMPvVa3D70InA+9XHMPvXJuD71teQ+9HWoPvchJD73lzQ+9pOIPvetuD737qw+93bUPvTpWD72gKBC9IPwOva5+D73YbA+98+wPvbisD71gwA+9fdoPvTRnD73YRg+9Ch0PvXSWD73MAw+9cUkPvSJvD702lg+9pxkPvXJxD7042g+9vvMOvbtID70Tjw+9H3gPvXWED72XHQ+945wPvXqND73yvA+9qyAPvdL/D72vJA+9IssPvWkyD70sFg+9kNkOvWjoDr37Kw+98mMPvdTsDr3pZQ+9KpEPvTZPD722Vg+9oDMPvbofD71g/w69cSoPvRTxDr3EcA+9+bQPvdBUD70Xpw+9fq8OvaWuD73cWg+9KBMPveWkD71sMA+9OJEPvUFsD72oZQ+9wuQPvadQD70ooA+92Q8PvaTuDr0ENw+9LicPvYKiD713YA+9GrUPvVgSD72e2w+9vj4PvUoVD70ZKw+9BUYPvRj4Dr2Meg+9lgkPvZBpD73PGA+9dOEPvQUjD70Rvg+9oisQvdBIEL04Zg+9yIkPvZebD72cWw+9JAMPvScsD71ZdA+9e8EPvRjUD72ntQ+9hpoPvfppD72zdQ69WQMQvfegD7230A69iykQvfdvDr2kHA+9kGcPvUSRD70DXg+9LO4PvYTeDr1UJw+97/QOvb//Dr0aHA+9QqgPvfIQD71q4A69hqIPvbRhD70CAg+9vkoPve1YD73OdQ+9xDMPvbM3EL2BYA+9ZAkQvT9sD70fyg+96P0OvYwKDr2uqQ+9PL0PvaC1D70aUw+9MusOvXIED71R3Q+9vnoPvdqJD70uxQ+9PbwPvX/qDr1kNhC9PKsPvQBgD71/lA+9YbkPvfKmD70cuw+9BHMPvfxjD703ug69D1cPvXYcD72nXQ+9bFQPvQXmDr3dWA+9psYPvSR/D70wYQ+9DtUPvX62D73IKQ+9JWgPvSsND72AXA+9vE8PvQzqD705HQ+93JgPvYniDr24wQ+9njkPvTodEL2cPw+9txkPvTz8D73MUw+9A8cPvWiqD70KiA+9CqUPvXV8D728Dw+9XOIOvbbxDr2uCA+9a8EPvZsRD71qmw+9h3QPveymD732Kg+9gaQPvRJbD71WsQ+9J60PvSK+D70uOQ+9ECYPvUUxEL0kpA+91Q0PvfynD71wsQ+9MwwPvZfaDr0XVA+9XL8PvSC4D71XLw+9/zcQvSiZD72QuQ+9gtgPvaKHD70mvA+9focPvUbXD72dgg+9rwgPvYGzD71k/A69Fq0PvQQzD73rAw+9MDEPvR3ODr2YABC9kVUPvUhbD73A9A69z3QPvQr9Dr3Evg+96k0PvYG/D71lYA+9IQwPvcu6D70CqA+9hIMPvRT9Dr1mFg+9RH8PvU/hDr14Gg+9pyAPvY4VD73rUw+9kNsOvWaqD70g/Q69UGAPvaaDD72lpA+9rF8PvS4vD71RWg+9JSwPvcJ5D72sHQ+9PsQPvZdtD70JXg+9bkEPvaSeD71jsQ+9o4gPvbupD72rBBC9PcgPvUokD73ogQ+90FMPveQqD73cMQ+9eQwQvXx/D73/Kw+9ffwPvWaQD71ZwQ+9jIEPvZf9D72dtg+9T84PvQYjD73UQw+9+CUPvRMtD73PPBC91isPvffjDr3n4w69yUUPvdXCD72ECg+99rAOvYuVD70b7g+9n3EPvd6nD73CQA69GNcPvSWQD73YDw+9EgUPvV2FD72Ycw+9CTgPvSz+D72jVA+9rskOvV8VD70Ygw+9z9sPvYh9Dr2txQ69YrQPvSRGD73lmw+9sKcPvbVBD730aA69SosPvRp/D71WwQ69XJcPvfzMDr36zg69WWQPvebBD71Baw+9Y/UPvV1gD7389A69NskOvXKvD73uLw+9Kr4PvQUYD7108g+9R0wPvZ4rD7342g+9wKIPvQIeD712Rg+9hB8PvQSAD72m5w69hTYPvQQVD729WA+98HMPvbrMDr00Kg+9WdgPvfqGD70W0w+9ypwPvZAXD71esQ+9SEYPvbMgD70WlA+9ZtIPvaKvD73IKw+96XgPvXdVD73QIw+9bSgPvfyND73tChC9bToPvf2KD72q2w+9Q6oOvb5lD7307g69SSIPvcd2D70CRQ+9tBQQvXjSD71STQ+9jNkOvZy2D71tog+9n8MOvW5dD73f+Q696g8PvTuBD71uQg+9RkYPvYBYD73mMQ+96IEPvfgQD70Mtw+95d0OvRhkD72ihA+9ATEPvVt6D71izg+9tYoPvasPD725eg+9MtoPvdRxD71cOA+9ZlEPvR6RD72+Tw+90sQPvbSpD71W/Q69kpQPvcVnD7377g+9awIPvcwGD71qvw+9sFoPvZTvDr1xdg+9iDoPvU9iD70krA+9OA8PvQfAD71Z4w+96UEPvXB0D70ghw+9T1gQvTAoD70arQ+9pOIPvZRpD724dA+9w/EPvcgpD718jA+9EHkPvVESD719Uw+9XqIPvVeCD736Xg+95R8PvVUfD70OnQ+9dswPvZSHD71MPg+9txIPvWOiD72s/g+9lk8PvYxoD70sQg+9CWAPvZQiD70m6A+9tTQPvTqOD70iyQ+99vAPvWcED72ong+9I2kPvU1ED72fgg+9OWkPvX2ND73Eog+90i8PvXxMD71Eyw+9qAcPvWl2D720Dg+9maEPvYLQD71stw+9ptoOvT+/D70vFw+9udsOvZ0ED71OQA+9eUkPvQ6mD70RQA+9Ge4PvQDyD706FhC99PcPvU2pD73urQ+9b48PvfyeD71PMg+9Xj4PvboSEL3Qhg+9voQPvUydD72SXQ+9f4IPvT/UD71c0Q+9pfwPvWTLDr0tqw+9vpsPvQqbD72RDhC9QFwPvWQbEL1gHhC9MgoQveLKD73yvA+9wr0PvR42D73lbA+9iskOvSy+D70KRA+92kcPvW4aD72uUQ+9ExkPvcPRD73Mcw+9q2MPvdiRD70ukQ+9jtAPveIDD71seg+9Xj4PvUwcD73QMg+97Y8PvVm3D71+Qw+9XSYPvQB1D70k1w+9EHkPvVlYD71rjg+9EbQPvVf9D703/w+9b20PvexhD72qpQ+9CAMPvXgvD70u7A69YSQPvdwKD73SRg+9YxcPvUNwD718cw+98OoPvU27D711Dw+959EOvaSkD70yvw+9EqAOvbcSD73OmQ+92jAPvQckD72cRw+9J1oPvXIiD70Wcg+93uMOvaR+D711Lw+9VpMPvdqGD72FJA+9tmAPvTmuD72c2g69HnsPvXp/D71K5A69ctIPvbhCD71PKg+9HEUPvXrHD72qyw+9vvYPvbAoD73mmw+9c4sPve5wD71MLA+9gaIPvTWkD72BUA+9RvkPvVAFD70pcQ+91KcPvccaEL2mfg+9rSAPvf9yD70RpQ+9a8APvX6GD70ztQ+9CIAPvWLQD70jQA+9VmUPvd+6D72o+g69nEoPvQzdD716mA69cl8PvcU/D72iJw+92DgPvZCgDr2IgQ+9pTgQvd07EL1UtA+9TYUPvZlBD73gYA+9XhUPvR1+D72+hQ+9fd0PvRc1D70vhw+9d6oOvW2oD72aaw+9coYPvQnlD705PA+9WOwPvXFyD72+AQ+9aFUPvf3hDr1wCw+9lWMPvVu1D70I7Q69Um4PvfeOD73/gw+9XysPvQ8ID72azA+90uEPvZF6D73VbQ+9TV4PvcepD71zXhC9Y/QOvdttD72kLw+9LLYOvdjJDr16wA+98CEPvRYtD71dRg+9qXgPvaU7D71J3w+9704PvVYeD72pDQ+9q3QPvUoDD72UJA+9Q28Pva2CD73uFQ+9Q+wPvSx4D71anA+9EJMPvWRuD73Vjw+9uJ0PvYShD73eDw+9xjQPvTYfEL3EcQ+96l8Pvc4qD71vXA+9sMwOvRiuD717tg+9oE4PvUJVD70F2g+9JToPvTbqD73lbA+99rEPvY3dDr1eWQ+9cqgPvWVYD71ipg+9eW4PvWyjD72+VA+9/x4QvYAAD73KQA+9SCAPvRw6D71UIhC9yyQPvQ9ED73pWA+9R00PvaD2Dr0sdg+9wz8PvY93D72WyA+9aM0PvVF2D73qPw+9eTkPvfFDD706PA+91KUPvQVdD70yGg+9Ni0PveRQD73cXA+9fJAPvQE3D70KLQ+9ZHQPvS7cDr0I+w69pL0PvRh8D70ilQ+9ikAPvYsIEL0cCA+9MJIPvb1CD72yRA+9/ugOvdLqDr2VXw+9IQ4PvWTTD72cXA+96AgPvQOaD70Vug+9IPQPvYBTD71apw+9V18PvSooD72c4w69SN4OvYRBD71Zrw+9PwMQvZ1CD73TxA+9Mh0QvYxyD734nw+9yCQQveMWD708ng6981EPvfd2D73rMA+9nqQPvfdrD715ew+9nrQPvYBVD736Cw+9hdsOvZjUDr2PeQ+9v1wPvcCcD70nEQ+9n8APvcs0D70A0g+9KpwPvWNlD73naw+9iKoOvX7AD71QpA+9faQPvULLD70WBA+9+6gPvbKTD728tQ69hBoPvQHqD730wQ+9GOwOvbgaD72A2g+9cB4Pvf07D73IgQ+9KYwPvcTzDr3YVg+99KcPvcM2D70jSw+9EGEPvc8BEL1eHg+9vjMPvVxsD72cxQ+9tGgPvanrDr1zuw69LaYPveqvD71O6Q+9nE0PvWzUD71PCQ+9tD8PvfrXD70LqA+9/GEPvXh0D70M1w+9OEgPvcJID72YBw+9Gm4Pvbq3Dr3e6w+9yYQPva3HD73H7g69hDoPvWF0D709oA+9EmUPvWwEEL2zDw+9gk4PvalHD72eNA+9H5QPva0zD73IeQ+9at0PvVBpD72CoA+9d6UPvcRED72KXg+9qLsPvavSD72MeQ+9q5IPvfV9D720Sw+9zgkPvUB/D73pgg+90TYPvbR2D70bVw+9UiwPvRyHD71WLg+9hnAPvTwMEL2zwQ+9bEUPvTIMEL3+PA+9XS8PvRL4D726IA+9DvUPvcQiD72gng+9tqIPvXqvD72HxQ+99ogPvTRLD723fQ+9ZM4PvTpjD72usg+9POcPvb5qD71GLQ+9O1wPvbAXEL0WQQ+9RtUPvQSVD73inQ+9yU8PveIpD735WQ+9DF4PvaJbD724eQ+9CHMPvbZWD728hw+9yJIPvTGMD73WpQ+9fTkPvdzRD71Ziw+9cQwPvblDD71x/A+9FpkPvSU1D73h9g69rFYPvXQtD70oFA+93LIPvbJyD71DlA69/poPvXB0D72Psg+9QQUQvUQwD72zNQ+9S8EPvYKLD73EhQ69J4UPvSoUD73EOA+9xkEPvX76D71QTw+9j+QPvYRSD72irA+9FcUPvVR5D70Blw+9hBAQvWWCD73fVw+9o1gPva21D72qaA+9Oj0PvXAZD70twQ+9DSwPvTwYD71pwQ+97NwPvXxmD73gaA+9UXwPvYHtDr2jQw+9YDUPvWfMD71ocQ+9nSkPvYbpDr0QYw+9uKsPvUtLD71h/w69qxIPvcU8D719ew+99pwPvV4/D72bKw+9RfgPvSp3D701OQ+9Uj0PvYhbD720ag+97AIPvd7qD71EPA+9IAQQvRqmD71Q1A+96LYPvWLdD73AQQ+93CIPvSsnD71yBhC9QUUPvWaXD72YqA+9XvAPvRDwDr228w+9SHcPvSJUD737fg69ZigPvdxtD71sfg+98VkPvQn0Dr33+g+9WA4PvaiND70MCw+9/BAQvc9sD71HcQ+9WycPvXAmD730Pg+9MT8PvT69D70M2g+9yooPvVvhDr2/kg+9wb8OvWAND70KZA+9ltwPvVgBD71sHQ+9KMQPvfJOD71A2A69B6sPvYxyD72joA69CBMPvYKdD722Ig+9NMoPveqxD73HlA+9YI0PvXdTD700xA69ndsPvT52D71bSA+9VqsOvQ8lD71idA+9htoOva/kD724CRC9jIMPvUH3D71JqQ+9zrQPvVIzD71VeA+9AF8PvcJoD72YVA+9hrAOvdZ4D72Ajg+92pcPvXLUD73Onw69yxcPvbwSD73ZcA+9bHEPvaDvDr2bKw+91zAPvd4/D72Qag+9EpIPvU9oD70FDA+99HUPveG9D73l0w+9K6kPvTHADr1kTg+9whwPvY+ED73cNw+9o5gPvXaSD72RRw+9N1kPvdhpDr21LA+9RBEPvQqYD73+vw+95YsPvQqjD726Ew+9ClUPvarZDr1CsQ+9/5gPveY0D70oVQ+9YFYPvUgOD71jZA+9wYIPvRcoDr00FA+9/IMPvZpbD72/oQ+9zioPvYAbD70yHA+9EB8QvekAD70mcw+9bW4PvUZmEL2TTw+94BEPvW7PD72wJg+9WZsPvRmID724/g69Q0IPvafLD71bPxC9pMYPvcP2Dr3Yjw+9LokPvdqGD70ovA+94GwPvd53D71AwA+9EGcPvTKLDr1MpA+9MkgPvdDKD71hChC9YPQPvVpLD70mjw+9WHkPvVUvEL1+Wg+9LXsPvUXvD739Jw+9DvYPvYIWD73GAw+9phEQvWtMD72Jtw+9H/IPvdYlD71ouw+9xxgPvcCqD73RJQ+9IgEPvR3FD71Q3w+9iq8PvZw1D71/zg+92dkOvbPsD72OJQ+9alAPvUkwD70FDxC9u40PvQqCD72bnA+9QS8PvenID73CUQ+9ZAkPvZhVD70aZg+9ATwPvRe9D70k3w+9uHoPvaioD72WSw+9dxYPvaTUD71Pkg+9tZIPva/fD72QcQ+9NngPvZNOD70Cyw69GkkPvWczD70hfQ+9yhcPvYWbD70nqw+9HOgPvftVD72CIQ+9DiEPvYDiDr15aQ+9eTUPvQD6Dr2wkw+9Y78PvWpcD73yZg+9yHgPvShxD7010A+9I+QPvZh1D715nA+9iTAPvWSFD70CDQ+98zwPvd5xD71ZcQ+9gi0PvSrgDr1d5w694dAPvWZBD715hw+91WkPvQdbD71EIQ+9/l8PvX6iD70rpQ+92U8PvcatD73AbQ+9Ss8PvSQuD71PSRC9AwUPvS4hD714yw+9JIcPvS+BDr0OjA+9YxAPvZAJD73yUBC9bOYPvQqnDr2lcA+9VnAPvdWXD71GTA+9FRUPvQrxDr0CnA+9tswOvTpjD72+Mg+9xIsPvcSSD70aqA+9tDYPvTqmD712CQ+9oLsPvYpGD72N9w+95hoPvX6XDr0X+g+9868PvdcuD70Igg+9Rk8PvZJLEL24YQ+99KoPvRNxD72EdQ+9BEAPvRFdD72Fhw+98RMPvblKD71bgw+9zrUPvTSeD73wbQ+9T1YPvdczD72ISBC9s3QPvfIxD72hgQ+9WLkPvXQvD72QrA+9RogPvUWID70Ptg+9DNEPvagqD71muQ+949cOvfARD72I/A69iIQPvSTPD72Osw+9MRoPvTDxDr1bZQ+9+ssOve9BD73sHBC95GcPvUeXD728Tg+98IoPvTr0Dr2eZg+9VPsPvefwDr00aw+9r3kPvbr8Dr2WFQ+9oQ0PvURrD72uLw+9tFcPvRzhD71+bA+9kIkPveLVD72unw+9r8QPvRyxD72Siw+9AisPvVcCD725ig+9GQQPvR1yD73chA+9BQAPvR5GD72vlw+9oN4OvYWJD72E9A69+p0PvTYpD71qsA+9LDMPvXqqD72iHA+9slEPvZvGD71EcQ+9yDcPvb37D71qcg+9P3sPvZ3OD71s6Q69tIAPveowD72/nA+9d4wPvdaPD70MVQ+9RHgPvVS1D73IEw+9ztkPvRZ3D71QYQ+9zCIPveGfD71vVg+9YhUPvZgKEL3sjA+9uMcPvRoYD73+2A69230PveBTD73E9w69mI8PvWZBD72kFw+9LgYPveOdD70rBhC9zjQPvSzDD73a+A69eC0PvTIuD70KIw+9bnEPvTqND72d1w+9uqYPvXyyD71HXw+9GLwOveAKD706Tg+9PoMPvTgVD738mQ+9J3QPvQiOD70Khg+9GSIPvdQcD73qpg+9NnsPvZXHDr1ftw+99LkPvW9ID71kCQ+9V2wPvR8ND72jLg+9ZqwPvbJfD73W1g+9gvgPva83D71Hgw+9FqAPvZJiD73LaA+9DsUPvaSKD70WiQ+9QsMPvVRgD70b5Q+94HcPvWy3D71QeQ+9ypUPvRz0Dr0Mow+9VzwPvZd9D73mkg+9DOYPvVjND73DSw+9y4sPvTaiD730ww+9sy0PveX6D70iXg+9OpwPvYZ7D73SQQ+9EYQPvfBrD72zyw+9MKIPvWdUD71Ebw+9yiEPvV63D73d2w+90zEPvSusD70ZNA+9ZMwPvXmMD71Tww+9RJYPvRWjD70YMQ+9rwsPvVAHD71oUg+9NjQPvbo4D70QFA+902MPvbR/Dr23dA+9cmYPver0Dr185A+9uDEPvRDhDr0Wiw+9nJoPvfI9D708KA+9rWIPvXJXD72mBA+90HwPvRaKDr2GHg+9JjUPvfEAD73yjA+9n34PvdrvDr0cqg+94NcPvdxlD73tKA+92mEPvdhvD72P6g69XoMPvbRwD73POw+9hioPvQQ7D71QEhC9KoQPvbqbD73vTg+9yCIPvSJdD73IRRC9EXEPvZfKD70b+A+9SFQPvW9XD73yjQ+98h8QvUZlD70IjA+9ClwPvdhHD738mQ+9yAYQvQ0fD73VFhC95pMPvby2D71EKBC9rEYPvTHDD71lOA+9SxgPvVtyD70Caw+95jsPvd60D70OTQ+9q3oPvbiqD70KMw+966YOvbf1Dr2ePw+9ua4PvTT6D70jtQ+9iRMPvdJTD73m/Q+9mu0OvVACD720FxC9y7wPvSdKD71x2A+9r+cOvZu0D702Vw+9PswPve5WD709ng69iKsPvYM9D71GOg+9Pz0PvT7ED73ZzA+9F0UPvRbvD72fvw+9RtMPvcRiD71Ovg+9n5APvabGD72uaQ+9rdcPvUh3D71Zww69K4oPvUZED71xmA+9cW4PvQ5wD73bdQ+9R1wPvfsTD72Qqw+9Pa4PvZX1Dr13LBC984UPvVjcDr0FGQ+9vqEPvalwD73Uzw69GpEPvVz2D722wQ69pe8OvckzD722wA+9WN4PvVzUD73kKA+9MN8PvZIQD7155g69SlsPvVoDD70+OA+9qUoPveHMD7027Q69gZIPvezGDr2P8g69PI4PvfLfD71HJA+9+E8PvW/6D717qw+90LoPvW4VD73YJg+9prkPveyWD70Ytw+9nhkPvcJCD71zBg+9OMIPvXSQD73F6Q+9DoQPvbBhD73UDhC9B+APvUO8D72msw+9CZ0PvXikD71b/A+9MWEPvWOED71KFBC9tw0PvQKGDr34qQ+9Wr4OvVAZEL2JaA+9CKwPvdQOD73gxw+97MYOvZCUD73kDA+94GoPvbgCD73WNA+9Ep8PvThVD719fw+9UJsPvekLD70yWg+9l/kOvYixD71I3Q69+lIPvcqAD73n8A+9SyAPvd6jD73h4w+9RToPvcqtD72FQA+921sPvdjOD71B2Q69E0YPvTTGD72Jvw+9TpgPvSvuDr2nKg+9Co0PvbQND70dow+9VyQPvfvBD70QfA+9GFMPvdFvD712BQ+93PQOvZBuDr1wQw+9CdUOvTqOD71o3g69HU8PvRi1D73ZRw+9Eg0PvRmdD71PIw+9LMwPvW+TD70OExC9bHsPva0+D72rpA+9/WMPvfpDD70XYA+9R00PvfwPD70BjA+9ER8PvfJoD71U0Q69DDEPvV2pD70OdA+9WNUPvTGrD73FQRC9RyIPvakND73b7Q+9CNUOvTHCDr1ESA+9/sIPvfolD7109Q+9wHwPvfIRD70kUg+9/A8PvYZ+D722gw+9UpcPvWBeD737nw+9j0MPvWnHD70iqw+9dYcPvS48D71/vA+9tqUPvdSYD70b8A+95UQPvYKrD73xtw+9zccPvYBzD71ljw+9lnEPvbbIDr06mw+9YkkPvf2LD72raQ+9duQPvVn/Dr1uwQ+9u7kPvdlGD73u+Q69PCcPvRyvD72ggQ+9lusPvRaYD70INw+9qjMPvcfgD70JLw+9XFMPvSoSD70c6w+9648PvQXNDr0aPQ+9iusPvWGJD71wyw69CJQPvchlD72VJQ+98WoPveiYD71pgQ+9UI8PvfuMD72x2Q69mKwPvcpbD73nxw+9orEPva5SD73ARg+9DJAPvR8dEL0OjQ+9mdgOvdTZDr0SYw+98NIPvUBQD717Qw+9KygPveEyD700WA+9DIkPve7yDr3+kA+9KWoPvRStD71UAA+90c8PvWxDD70iDQ+92IgPvbhRD70Shw+9Y2cPvZysD730UA69hsQPvSJiD72ULA+9MJAPvXp8D72Lxw+9hIEPvWASD720chC991cPvdiDD73Pnw+9GtIPvfshEL1WMg+9xyUPvbxkD70nnA+9lv8OvdIeD70KcA+9FcUPvd5iD72LTw+9W84OvcgwD73j1Q+9CfkOvbWMD70nhQ+9+DEPvYddDr3Uyg+9+KQPvfXdD738jw+9WIUPvfrSD70r/A69dFoPvUAZD70oaQ+9nHYPvZSED73uYw+9AsAPvZFbD71jzQ+9vnYPvfDcD70xhg+9scQPvZOiD72SQxC9u8AOvWXgD712rA+9OnYPvbDdD70NnA+9fQsPvSfwDr0bIw+9a80PvbSiDr2Oug+9qnMPvYAuD71lhA+9gtoOvWBHD706rg+9MMsPvVd/D72ecw+9BpsPvc9OD708Nw+9NOcPvbDmDr3CMA+9iY4PvYiFD70c0Q+978sPvQ8vD71aPg+9mEYPvWt4D73IBw+97PIPvRyKD73B+Q+9O7sPvXZwD7201Q+9aREPvc5LD72cMA+9VpwPvRW7D708bw+9VC4QvWp7D722bw+9o2sPvS2hD73r5g+9nLgPvR64D73ZvQ+9FhYPvTT7D71epA+9z3cPvemGD70y3A+9A4QPvSxKD708wQ+9KVwPvfWhD72QGRC9D1kPveYqD70bIQ+9t6MPvU5gD70kiw+9JyAPvQBAD70IpQ+99PgOvctLD73irg+9yfYOvT7aD72neg+9S18Pvb26D71caA+9P/UOvUmVD70wqQ+9r0kPvTloD72SaA+9IMQPvdonD71PeQ+93uwOvZ32Dr2CXQ+9ZB0Pvek5D72bzw+9n/8Ova5aD71jHg+9TEkPvcqfD70+oQ+9lGkPvcdYD73gLQ+90owPvWHqD73UUQ+9OKUPvQI4D73Jbg+91JcOvTCJD72iBQ+9xuwPvWJ1D71qEA+9UoIPvQ3AD72f7w+9pIYPvcJjD73YxQ+9LtUPvfnHD7114A+9risPvRQwD72Snw+94uYOveJ8D72cIA+9SfsPvYzbDr286g69lEYPvZulD72/7Q+920gPvdBsD71aFw+9318PvebnDr0AjA+9lPwOvY81D72GQw+92WkPvb6AD710pw+9uqoPvf8WD73Gpg+91LoPvbsoD72+SQ+92YgPvQHfDr2vPQ+9YPAPvU3ZD72erw+94TsPvQCtD73qLA+9xLwOvboMEL3YpA+9yHgPvbccD73GdA+9wtYOvdL8D73cyQ+9lKMPvXEVEL2S0A69Dk8PvT6ND70KcQ+9nGgPvU9+D70pZA+9e1sPvbXsD716yg+9lgEQvbi0D70BAg+9I0oPvbpwD722WA+9qzgPvWv9Dr1sEBC9vBkPvesRD73Q6Q69CCcPvUVDD70XMQ+9AO4OvecUD73yEw+9kpEPvTTHD725kw+9qqcPvX2mD71FIg+9vwUPvRlRD71V2g69MxAPvZCsD720fA+9L1IPvfwjD70wFw+9easPvbikD70a8g690m8PvbS3D70OFhC9rckOvYgTD71hag+96mkPvVokD72t0g+9lEMPvZtwD70JfA+9CjQPveT/Dr1KjQ69Ny4PvZBtD72R0A69fXwPvdx8D738WBC9l0sPvfJjD73Gtg+94uUPvaygD72kZw+9AfoPvd42D71djg+9TRoPvcM3D70MGA+9OvUPvXDlD70eIA+9FmgPvTeRD73aZg+9XF0PvaIgD73q6g69RbcPvV4iD739Wg+9LSAPvdalDr15WA+9fdIOvazrD72i3A+9/oIPvaxHD71Ekw+9GFYPvetgD738Lg+9F3MPvT4DEL3kkw+90hoPvW6HD72cfg+9RpwPvS6BD73uOg+98FoPvczXD71Fyw+9jsQPvXIXEL28Ww+9RNkPvTS9Dr2S+g+9EqoPvd6vD71XZA+9hB0PvVwkD720Kw+9d3kPvTpTD7208g69bykPvfZpD71gWQ+9YAIPvagiD70ADhC9qIgPve6GD71huQ+9QFkPvUc6D72mhw+9t84PvWdsD734QQ+96WoPvVjQD71rKA+9InUPvczWDr3uxA695ZsPvcqCD73hWQ+9lFIPvUA/D72yxA+9R5MPvSKnD70gzA69fe0Pve+YD71SeA+9Xg8PvUKmD71sug+9ZW4OvUB9D73QHg+9PWUPvfiBD72wig+9AHYPvW7VD71FXA+9+CIQvQIWD71e4Q+9uLkPvTDeDr2YTQ+9vYQPvb3aD72TWA+9yPkOvXicDr2EARC9SlsPvduUD72zdw+9MKsPveQHEL1QZg+9LOkOvWulD71wlA+9AqAPveUzD72MlQ+9vzoPvQnuD73L0Q+9oIYPvbYHEL3s1Q69DcIPves8EL3jWg69el8Pva2LD71Ytg+9u+oPvVzlD71U6A+94kcPveTED73pTw+95EcQvSFxD71Ftg+9whcPvRRuD71Wyg692eIPvfJUD73z6g69aJwPvag8D734wQ69ZIEPvSuRD71MIQ+9XdcPvalSD73rWg+9LM4PvalXD70BQg+9aqcPvSYXD72ljw+95KQPvcY9D71seQ+9UEgPveYpD727RQ+9/DQPvf+gD72mSw+9vZkPvcgmD7009w69XOAOvSyvD73GYA+9jXcPvWLaD72gFBC9zhIPvXoCD70g4A69Bw4Pva7vD71f8Q+9qdsPvQgvD71M+w69resOvZqiD72+3A69tYMPvbxuD72XyQ+9yssPvY5kD73Meg+9zpUPvSpJD70Ufw+9/cgOvYXRDr3Qng+9jNMPvVi/D73m+A69AmUPvSbKD705OA+9B6sPvXKND734fw+9ECcPvWA8D70uLA+9Q0UPvanDD700zg69NuEPvczoD71kbg+9vBMPvbSDD73wbg+9vBsPvYMsD73yQA+9eYcOvRgFD71h0w+9mswOvWMLD724Rw+97IIPvbApD71v1g+9kOAPvY3CD70C0Q+96kgPvTqzD70BSg+9EGcPvTf/Dr2pZw+9Gx4PvYgWD71rLRC9R1wPvb4ZD71VJw+98owPvfYLD71BFw+9/n8PvcdnD71ORQ+9UPoOveieD73K/g+9jsAPvV6TD72Ucg+9iuAPvRggD73MPA+9O8UPvaBXD72cRA+9GiUPvcVnD71cvg+9uIoPvQOVD70lhg+95DUPvb6qD702tw+9s90OveztDr0o/Q6948sPvf7TD703pw+9anoPvb+TD70FDBC9I5gOvXjLD73n6A+9V0QPvXpiD71YuQ+9sI4PvS79Dr0r+g69yV0PvaPBD72P/w+97CQPvWPdD72s/A+9xUIPvfDJDr1/7Q+9JDkPvSZTD73sew+9dkYOvVUOD70aGA+9mNIOvbXAD72zdg+9QUIPvQqTD72n6A692WgPvW6sD70dRg+94VIPvTqUD70I3g+9UNEPvaTcD72GyQ+9+aoPvb1KD71ZxQ69sGIPvdaWD732Qg+955IPvfZWD70mPQ+9huUPvXaFD721Lw+9YdYOvYbuDr3jvg+9f1QPvVuXD73ORg+9CowPvbpLD70E9w+9FsgOvbz6Dr2u3w+9BKkPvQfPD72TSw+9pcgOvbSRD702AA+9GKsPvV9OD71QQA+9z68PvbjkD71MQQ+9/HkPvb2SD71AdA+9akIPvRD2Dr1PhA+98ogPvbkgD73O8A69Y94PvZdUEL00tw+9LV0PvR7gD736tQ+97vEOvdbKD72e3g69wyoPvQUZD71pYQ+95r8PvRXTDr0zsw+91kMPvZFsD71V6Q+9Y2APvShfD71sHA+96zAQvc53D71V5Q69ZC0PvXbgD723vw+9muIPvbZUD71XEw+9BDQPvahQD71ocw+9OnIPvW7ND73adQ+9fSAPvQtoD73TdQ+9eE4PvbmdD71rdA+9HEUPvTPBD70jUw+9VJkOve0oD73EFQ+9rBwPvSCXD70QkQ+9d9cPvbnjDr0aqg+9Qy8PvZTJDr3s/Q69AZkPvXihD71fqw+97zYPvQIxD70t/w69zLYPvbmyD71vNA+9kq0PvSSMD71wABC98YYPvX4DD72ZAQ+9FroOvSSSD71YkQ+9TxcQvSagD73zCBC9TJ8PvZjjDr0eYw+9DLkPvfhmD71b+w69IFMPvUJTD71Ivg694xgQvSMKD72OBA+9sqwPvelwD73Mcw+9RzAPvdoBEL1ghg+9vnYPvWjkDr1Bsw+9pRAQva4uD738QxC9vPAOvfSwDr0CgQ+95gIPvWpLD73Cyg+9FrMPvY8yD71HmQ+9ingPvURjD733IA+9XFIPvQZGD726Yw+9tsEPvalMD72MiA+9UxQPvfSED71BAw+9ipkOvSWCD73HfA+9JEUPvQLGD72WLxC9tpYPvWPMD7070w+90x8PvSC7D71Bbg+9PEcPvZCrD72RjQ+9HpIPvfO/D716/Q699tQPvXoED70S3A+98GcPvRVMD73KtQ695c8PvV8OD73XHw+9lAsPvXLED72HcA+9ecQPvfdiD72y/A+99k8PvUmED7279A69qCAQvb4UD72kfQ+9JTcPvT6KD71+dA+9posPvf20D71mYg+9WkEPvUqdDr133Q+9MaAOvZs3D70PIQ+95TcPvQDOD71S3w+99qwPvSB/D70smw+95FkPvTHWDr3wvw+9otQOveh+D70OPQ+9Kq0PvbZfD723mw+9AI8OvQvgD70d2g+9GLUPvSPeD70aaw+9cu0OvWSsDr1dVQ+96N8PvUg0D732kA+99CsPvYdzD70uWA+9nTQPvaBtD72stg69XbYPvWI6D72tSA+99/oPvc8LD73/6w+9CCsPvZVQD72QSg+94KMPvVDHD7089w69SngPvSRyD72xOg+9Mq4PvfhLD70EaA+96DoPves4D70YYA+9XMcOvTgTEL2eoQ+9yoQPvac1D70smA+9QasPvTztDr1kOQ+9zJQPvZ1VD70y5g+9ddgPvRVqDr2RFA+9BJcPve3yDr2uuA+9PCYPvT5hD70MUQ+9EQcQvaG0D71gTQ+9fmAPvSIqEL1j3Q+9vY0PvYBdD71VGQ+9eD4Pvb+xD73q0Q+9va4PvUtPD714UQ+9eCIPvUx4D70X0w+9fDEPvV2wD70SDA+9VKIPvUDPD70Ngw+9iFsPvateD73mOBC9Y7QPvfwoD73TDQ+9vIQPvVnyDr0kwg+9h2oPvXlyD73QPA+9GF4Pvaw/D73ZQg+9jugPvc0xD71y8g69UsAPvVVhD73g7w69bugOvZzuDr0lGQ+9WPcOveesD72K0A+9ql8Pvb9AD71DUQ+9wVsPvYAeD734Cg+9FtwPvRQXD73SGA+9AtQPvZKUD71wlA+9K2sPvYASD70XPg+9bEEPvbaHD70MTQ+9oUEPvfbDD72LQw+90rgOveUvD70Heg+9IM8PvV/jD73+zw69xrUPvS7JD709jg+9xlQPvSGQD72grA+9Wq8PvVaQD71dsQ+9otIPvYj1Dr3UIw+9SqUPva5eD73UlA693jsPvW5PD70+fA+9XlwPvYJ8D71Iuw+9WoAPvbFyD71JrQ+99jUQvZXdD71NpA+95D0PvS1CD73h8w+9D+APvSdvD7308w69/YAPvfzdDr1P6A+9yloPvXCrD72LNg+9XRQPvXTrDr3CXA+97+gPvdwfD70jBQ+9x/MOvYxpD73sfQ+9bd8PvQ0kD70cRg+9vW8PvRiyD718XA+9vVsPvakmD733lg69E6wOvcB7D71czg+95DYPvSlMD70z+w69MgwQvUviD727bQ+908gPvSCpD72l3g+9TpgPvdWUD72icg+9YfcPvei8D72iLg+9BAUPvdhhD7116g69eZgPvVEfD72Vlg+95/UOvWhUD70Amw+9XPMPvV0tD72Cjw+9MlcPvWjRDr35iA+9BSIPvYI/D70wDRC9/pUPvccSEL0gQw+9qoIPvfxkD71Wvw+9oEgPva2mD70hYA+91+0OvWnSD72SdQ+9FXcPvfkrD70QVw+92KMPvRAQD73YVQ+9L0kPvTYJD73+Fw+9dtQPvdzAD73zIQ+98jkPvcxiD72PEw+9SJMPvb/1Dr2XCg+92UkPvWZ/D728JQ+9aOYPvbChD72w6w+9EzoPvcXVD72NVQ+9k9IPvZKOD72qoQ+9OTkPvTu7D71udg+9auQOvRaaD72lYw+9e98PvbicD73DVw+9rHoPvdtGD70WdQ69sKoPvR4eEL2+iQ+9GEkPvZ6mD72aLw+9qzYPveKPD72Ryg+9hg4PvXYpD73fLw+9HNAPvUnXD72dXA+93t0PvWzoD71F6Q+9fWIPveI8D711nw+9caIPvbVWD71Dfg+9LEwPvVIFD70L0Q+9Tg8PvUkqD73CuA69ooEPvXTOD70WGA+94HsPvdMkD71Ptw+9Pp8PvTAWD72Knw69bpEPvfa2D71Vug+97HwPvb52D72kww690pgPvfLbD713TA+99hAPvT+TD71oag+9xjQPvVaiD712rA+9UDMPvb3AD72PuQ69ZBAPvQURD70xHhC9qrAPvUOzD71HYw+9CKIPvRWoD71kwA+94qkPvYOmD70Asg+9nPgOvUwKD715Ew+9LlIPvTFZD71CCRC9WPIPvZoGD72K5g+9tgEPvdU1D73DDQ+9j9YPvYNLD72sfQ+9IZsPvfiVD71u8w+9nO4OvYNjD718OA+93oMPvcIoD70pGg+9xL4PvS6UD70oiA+96EYPvSRmD7110A69Ux4PvW3gD71jfg+97cUPvTAOD737og+9VXYPvV5lD73EBQ+9MFIPvVGLD70fIg+9VoQPvb+UD70jww+9YW8PvX4DEL0yDw+9jtcPvZqBD736hA+9JJUPvVhqD72+bg+9r4oPvZ59D73COg+9J+wOvYCxD73JKA+9w5kPvX57D73kfw+9+zMPvSzIDr02Yw+9W44PvdBED72BlA+9FuEOvUJfD71Sew+9KW4PvfU/D71dCQ+9B1APvZuvD721cw+9TJ4Pvf1iD726CQ+9uaQPvedOD71x6g69IikPvTHJD73qsg+97AMPvYarD70fTw+97bIPvbqcD70cqA+9nIQPvfpVD701tg69FwYPvWLqD72Wdg+9/oEPvbesD73Q0g6972UPvXNQD71aqw+9TocPva4wD71Wzg+9zFEPvYPoD72Tsw+9xIsPvSR7D731aQ+9mwgPvYS9Dr2M+g69RLUPvQqUD727LQ+9MpQPvRA6D73sHg+9l0sPvQ9gD72oWA+9RAoPvWkqD71Alw+9mMoPvaApD71aOA+9N7kPvWOzD727Ow+9d7gPvRh5D73feA+9jPgOvWZTD738EQ+9TVkPvVYWEL1akQ+9pQUQvVhpD70jXw+9wCsPvW1LD71qJg+9wE8PvfqmD730xg+9CnwPvcm+D70ylw+9uZUOvdS2D72D5A+9MVQPvXiQD73MkA+9bHcPvdYQD72DSw+9kHkPvXZRD720zA+91ycPvfpoD73kEg+9VI4PvXetD71xGg+9/o4PvY2JD734qA+9Wn8PvcOoD73dnw+9Z4QPvaSbD72dZQ+9M/APvcv5Dr0bNg+9HfkOvdDkD72CvQ+9NegOvVYXD71NZg+9mHIPvbZeD72UGA+9jfkPvXdZD73FZQ+9W6oPvbs3D734bQ+9sv4PvaCID72xjg+9zIYPvbkND71SVw+9gBEPvWNaD72f7g69XaMPvcJGD73mJw+9XzYPvR02D72YmA+9mWQPvWTyDr3rNw+9cvwOvSVgD71RgA+9FlMPvTdZD73Qhg+9Bm4PvdzPD738sQ+9LmQPvRprD72qbA+93+cPvWQ+D726VQ+9vRcPvcEJD73SBw+9FXYPvcQ2D72mwg+94DwPvRI5D72IwA+9fFoPvYpSD70LBQ+92NIPvZByD70ZZQ+9pHIPvYIMEL24gA+9E40PvahLD70Bpg+9AR0PvRjrD73+7g69zr4PvaK6D72YTA+9xBoPvWRcD71ICw+9ipYPvYW9D72Apg+9HUMPva7qDr0NEw+9gPIOvZZhD72dYg+9+boPvYFrD70XlQ+9zRcPvarsDr1Gjw+9V84PvU+7D71C+A+95a0PvRDED73cZw+9RvMOvWOSD71qdg+9bkIPvfG1D70TQQ+92jwPvVjaDr3wuQ+9CF0PvW9PD73vTA+9d3wPvWHoDr2mwQ+9BnMPvcs1D72Pvg+9XykPvYOqD70KFg+9Qh4QvZFzD70wfg+9EysPvbhTD73/Og+9tHoPvbLED72ZyQ69UOcOvab7Dr1LrA+9jmsOve1tD73grg+9OVoPvZM8D730lg+9psQPvXnDD73mZg+9NzEPvdCHD70OYBC9fP8OvUKvD70vwg+92owPvTgCD71Ztw+9OB4PvYogD70sag+94+gPvf38D70CLhC96l0PvR+CD70OPw+9HW8PvTauD73yPA+9XJwPvXeQD734Sg+9+ZIPvR7FD73n2Q69CDMPvcOeD72/aQ+9d6sPvUWRD73q3w+99dsOva+tD72miA+9IRUPvYQpEL0q5g69ZHIPvejfD71s9g+9BXIPvQePD72qyw+9In0PvZ7CD72KoQ+9hfMOvZI0D73eMA+9OjYPve93D70Wfw+9QC8PvVlMD71IOA+9AnYPvZn4D72RGw+9FW8PvZJXD71Fug+9U5QPvXpED714qQ+9yIQOveTWD72PEA+9ukYPvS6VD733SA+9YGQPvfhXD72KRg+9x/wPveVoD70K+w69HNkPvcD3Dr0mqg69Bv8OvaaqD72qqg+90ZkPvaKIDr1fiA+9h/cOvcNVD71b9w69GMAPvUbnD71vTw+94qoPvdN0D73gAA+9cP4OvbElD72rPQ+9XaYPvTX3Dr0Mpw+9j3EPvRRiD71Phg+9xY4PvfwdEL007A+9gbUPvduOD70MnA+9XbsPvZjOD73rbg+99A0Pvdy3Dr0YEA+9Uk4PvSPeDr2C0A+9tcAPvVptD71rdxC9d30PvUVFD725tw+9OloPvSjIDr2Y6Q+9VlgPvcoxD71WSw+9sNYOveI8D732UQ+90+gOveKZD71ucg+9zBUPvTkDD738YA+90hYQvY2AD72QTxC9Hp8Pva/SD72s0A+9fFcPvT4MEL2kmw+9NEkPvSx4D73ZqA+9k88OvRkBEL10wA+9GGsPvXMlD73jZQ+9qpQPvaQ8D72hJA+9edYPvVlSD73aBw+9UrwPvaq6Dr0DJg+9CqgPvcxeD72uuQ+9Q+gPvTTuD72Jnw+9A5EPvQy1D72x8w+9UhQPvcBQD72cPA+9skAPvcBND71AJA+9QqEPvVDoD70iPQ+9WiIQvbRkD72Alg+9ZrYPvbJoD73imw+9nWkPvcx7D71P+g694AMQvdfhDr1jyw+99O4OvV/ND73TpQ+9vKAPvSQwD70SAhC9OEMPvauUD72lfw+96oEPvUCVD72ybw+9qdMPvdTcDr2iHA+9v8oOvXOmD70ylg+9HicPvTGKD72YAhC9IgwPvXiLD73Gmg+9e00PvRS+D73qGg+9SH0PvVQxD71EYQ+9lR0Qvch+D70A5A69zKsPvd2lD72Gng+9n4MPveDID70smg+9cSwPvcB8D73LYw+9X80OvbE5D70aNw+9anMPvWOID72gcw+9DPsPvTiOD71FYA+9UC0PvcITD70wWg+9sLgPvS+pDr3Awg+9CyYPvWU/D71D1Q+9EW4PvcL8Dr1Twg+9rEwPvTTsD70dWg+9EIwPvTT2D70HJQ+9+ugOvbeVD73yOw+9dAcPvQlkD70sWw+9R/4OvdgIEL1UgQ+9zakPvRYVD73zrg+9+JAPvTlbD70vUA+9yKUPvXoKD71+sQ+9mIMPvQNxD72CZxC9/dkPvcrRD70I3g+9iyIPvdsXEL33Vw+96B8PvdfRD71AKA+9JtIPvcgPD70MKQ+9PEoPvQrKD70DzA+9NacPvW6QD70hUA+9+rkPvZaMD72lLw+9VJwPvSLJD72UyQ+91KkPvf/JD70lXw+9pnsPvXGuD70P3A+9nFgPvZK6D73MRA+9gqEPvSiND719wg+9/VIPvZxdDr3CiA+98FUPvVbsDr1mvw+9Oz4PveS9D71ofg+9Eq8PvRVPD71EAg+9qtkPvf/RD70/gg+9xtIPvUqpD70ynw+9jDsPvQIxD7006A69eZ8PvVhxD71KoQ+97EEPvez9Dr3Kfw+9qMwOvXk6D732fg+9XEMPvYBZD70dcA+9OFkPvXB8D72kjg+9tXsPveH6Dr1c3g+9EWQPvXb2Dr2qgw+9HfgOvc1DD73O0w+9RP0OvR0GD72QFg+93WwOve1JD71CbA+98BgPvZCxD73jiw+9rOwPvUOXD711+A69AjwPvQ6fD73xKA+9sZMOvd6BD72vXg+9nEwPva8JEL2buQ69svEOvU30D702Vw+9d1MPvTs0D71d5Q69x7oPvch3D735/g698iUPvfNzD72GjQ+9AToPvYl2D71+mA+9C6QOvSn7D73XzA+9TyoPvcKVD70svw+9hmcPvRRUD73T3Q6909wOvdFED71o7Q69TXYPvbmuDr3vLA+9tWAPvfDXD71Dfg+90pAPvR+kD71vmw+9+sMPvVekDr04HQ+9Pw0Qva6fD73clA+9bIcPveAOD71UoA+9+nYPvdmQD70SJQ+9V8UPvUQKD73Y/g69OX4PvRmuD73sig+9dN4OvbngDr1xIw+9/gkPvRP/D73Czg69PAgPvfI3D738OQ+99bUPvYCrD72hKQ+9iG0PvRIlD72Wzw+9BeQOvcNOD73SZQ+9xjAPvYmdD70pZg+9kgYPvfgjD72lcg+9whcQvaa1D72UCA+95DwPvaZsD73Sqg+9xbQPvWH1Dr0E7g69/6sPvQJ1D70IEBC9BkoPvfzhD702xg+9y+YPvYUZD703Jw+9BUIPvSivEL2oYQ+9J8UOvUtKD70z8Q69CBYPvYeSD73Oxw+9JCAQvfyzD70UjQ+9nMAPvQqQD71NZg+9fq0Pvd/RD71P0A696HYPvUzaD700Ig+9ZJAPvW55D73S2g+96kwPvYGQD70O/Q69Ru0OvUd3D70m9w+9JJEPvczYDr0Qgw+9sZUPvZwcD70I/Q698BwPvSlhD72Q8w+9+hYPvcWwD71sdA+9YkAPvaJgD73DrA+9KPoOvcxnD73MaQ+9fJ4OvcVoD72Fcw+9EJwPvZEpD71Mlg+9mOkOvbFKD70KFxC9YEAPvcUkD72Q/w+9P0MPvSBoD70Giw+9hcQPvc6pDr0qNg+9CwQPvUhyD73tWg+9OcUOvcRVD73zUw+9kD8PvWAQD73yOg+9dzQPvdzFD70dRQ+9prQPvZAmD71EDQ+96eUOvaRpD73GgA+9qLwPvVKgD7209w69k/gOve+ZD73N1g+91pUPvaf3Dr2Xqw+9k48PvTkXD72HJw+9Ap4PvaKhD731Nw+9GS8PvY1fD73G+Q+9/dcPvWmGD72vGw+9e3kPvclYD72m6A+9rcsPvYeuDr0PzA+9vC4Pve4QD70p5A69hooPvaC2D702rg+98PQOvUYuD70GSA+90c4PvX92D73ldg+93hkQvRq/D72s0A+9mGUPvV+yD72yYQ+9uS4PvSeWD73yrw+9QvwPvUHpD70oag+9YroOvTYWD73KJA+9SI4PvbKBD71GiA69xbcOvTqPD73VLg+9EmYPvQRpD72AYw+9Fr0Pvd56D72M6Q693soPvRCBD70Njw+9Dn4PvVSBD71vvw+9q24PvTAtD721Qg+9VI0PvdaFD72I7w69kooPvdTiDr0qJQ+9tqUPvTjcD70HIA+9GGQPvXH0Dr3h3A+9br0PvW6RD70Kwg+9svAPvfCoD71W2w69YHEPvdubD70qVw+9zxoPvYx8D71NDxC9/JgPvVmcD73oEQ+9VnkPvfCbD71v+Q+9JmUPvRKLD70k+A691qwPvZB3D716Bg+9uyMPvZcXD735zw+9a8kPvVx3D72OQg+9yzgPvdKuD71+tg+9D9wPvby7D70Yvg+9288OvSKQD71ePw+9T20PvfNWD70rLg+92k4Pvb78D732mQ+9wD0PvfVTD70sAhC9FSUPvejbDr14GQ+9uawPvcOSD73jcA+9oZMPvXh7D71nwg+9HQYQvXvpDr3WoA+9AUkQvYOoD72/OBC9ERkPvePmDr04WA+9tpYPvWreD70NJg+9KNYPvVqFD71gHQ+9Fn8Pvb2hD71mnA+9YPIOvZFyD73q3g69BhUPvXzsD71vmw+9OOYPvchRD72vKw+9JDIPvQ8MEL3uGQ+9BvAPvciaD70JTw+9Gb8PvRhyD729ow+9j54PvVkKD704Uw+9Z6cPvS1QD73fhg+9X1APvcQQD71haA+9UqAPvabaD73YLA+9OYQOvSqSD73ZBQ+9hB4PvSoiD703Hw+9eOkPvYngD73sCA+9JmQOvfRJD7274Q691yoPvSOUD712PQ+909EOvRgmD73M1g6933oPvQToD702+A69hOEOvQkMD708oA+9NPYOvTfGD72EKw+9sC0PvSGhD73KFxC9/yIPvVzZD73kag+9vuAPvTQXEL1vdA+9SvUOvbtnD70sGQ+9CY4Pvc9qD72WlQ+9OdYOvaeUD70gbQ+97J0PvXHcD73cTQ+9SMEOvYiqD726aA+96r0OvQ5+D71x1Q+9Bo8PvaQzD73Vbg+9LmQPvYbRDr3h5Q+9+38PvW3xDr140w696OcPvdoJEL1f3Q+9+OIOvSYpEL2NjQ+9iDMPvSfPD72QCw+9/pIPvfZaD726cA+9eo0PvWpBD71rZw+9TdoPvTLZD71hWQ+9XnIPveaMD738wA698PoOvcxTD72qpw+9y28PvTdfD7220A+9XX8PvdyhD716rg+9vEgQvXVFD71HZQ+99G0PvWodD73kJw+9tWwQvdh3D71asw+93t4PvSgKD70O0A+9mRoPvY0UD71zag+9DGQPveuBD72NbA+9qW8PvYW/D73/0g+9ZMMOvQtoD72jAA+9uC4PvSWlD71iFg+9HPcOvaFaD70HCQ+9e4QPvYJBD73OUQ+92GYPvRrzD7132Q+9UJIOvSSlD73/WA+9sI4PvTTfDr0I3g+9OwYPvW4BD71UQw+97RUPvX3GD71GURC9qEsPvTZID72MjA+99tQOvUmXD72Y4Q+9MnIPvbdPD72y7g+9TogPvfrQD70h8g+9HJQPvcZ9D739kg+9//oOvcqnD73SQg+9XAAPvYQrD73oEQ+9/LQPvVeTD71ukQ+9AIcPvTx/D71rpw+9peEPvVsbD73jrw+9VOkPvWyAD72akg+9tkkPvenhDr0Ceg+9LRgPva6YD70Gtw+9DvMOvbzCD70JHA+9ILoOvYQSD73/bg+9sI0PvX8hD72Cow+9YqMOvQR2D711nw+9cJcPvWz4D73kgQ+9Ff4OvWPaD72Niw+9cscPvVP4Dr09Jg+9FHkPvZupD724rA+9bYMPvVPxDr27KhC95D4PvQUuD72MKg+9VwoQvaC4D717BQ+9vAgPvUjJD72isw69XkYPvfIXEL1+sA+9fgoPvWp0D71RCQ+97IYPvRyfD72PkQ+9BYAPvWCUD71UVQ+9ug8QvXRJD712xg+9BmAPvWXtD70HdQ+9f6oPvcj8Dr0Szw+9YjQPvT8oD72UbA+9D0wPvbfDD732Mw+9MfYOvatDD72Q2Q+9kyoPvWE8D71+kQ+9gkgPvfLDD73YiA69rPoOvVSKD72p1g+9QzYPvVYBD71qbw+9mxUPvfXxD71gLA+9x40PvXkHD71OlQ+9aykPvf7PD70zIA+9bvYOvbTQDr0rNQ+9h4IPvZ9TD70Lbw+9wH8PvTiLD70+Ig+9AXgPvTl7D73YOw+9XhYPvbyOD70xeA+9r/MPvUePD71oTw+9ayoPveAGD72rmw+9WNkPvcqtD72i3A69l8EPvTjID71HJQ+9ZPwPvU/KD70NtA+9GdUPva45D71bGQ+9E6sPvWkhD71iog+9ZkoPvWjPDr1luw+9k9IPvdQUD70yiA+9Do4PvTQ/D70cMw+9ESgPvQkUD72sEg+9FR8Pvf4GEL0+kw+9WAMPvWTtD72nVQ+953IPvbD7Dr0+Pw+9cNIOvVZcD727zQ+9bv0PvXZdD73o3Q69JJUPvSnSD734Hg+94XIPvYlsD70maQ+9s6QPvdgUEL09pg+9HkcOvWhhD72Gdg+9vBYPvcz4D72JNg+9l+oPvXrOD72DpQ+9zXUPvdrGD70I5g69Wq0PvXZeD70GRQ+9rgwPveLbD71CCA+9Z5UPvQmcD71baw+94doPvQIwD71AnQ+9t84PvYL/Dr3f+g69vwEQvXIyD73hag+9+JAPvUExEL1AsQ+9vrUPveO6D71Wag+9LgwQvVP7D71E/g+915MPvWHCD70z2g+9Qc8OvXdkD716Dg+9+sEOvYCKD71yzg+9IPQPvW0GEL33UQ+9G2kPvbh1D701mQ+9UWYPvVghEL10og+9eF0PvXsJD72zIhC9nmYPvWRmD70l7w+95RUPvXKeD71OjQ+9ot4PvYQfD7163w69LT8PvRYLD72Azw+9VLQOvZsSEL2Vaw+9XRYPvUydD71LFQ+9cZgPvRCGD70HhA+9/l0PvWsAEL1AuQ+9zCYPvY7zDr2kbA+9dOgPvUvJD72OLw+9JjsPvZE0D73Ypw+9G3APvVT3D72cYw+9IlMPvcS6D72RFw+91F8PvVkfD72q7w69WSsQvZGyD72eGQ+96IUPvQVwD72sog+9VigPvfBvDr3qgA+90B4PvQbRD73sKg+9YUAPvVE2D70aJA+9ERYQvYKrD73RRA+9MnsPvSa0D70slw+9Gt8PvUqBD739TQ+90EYPvX96D73WqQ+9UykPvbKKD73akQ+9hdsPvYkbEL09Fg+9mB8PvZwsEL1mdQ+9BqgPvZqtD72EQw+9qAAPvX8AEL1qdw+9D+gPvSwsD72wEw+9DdoPveLcDr39JA+9NrsOvcM+D70WBxC9tJoPvaBqD70AjQ+9z+UPvQ/lD72nFA+90jUQvfQiEL1tvw+9qZ0PvZ4RD71FEw+9ZZwPvaAJD71pGA+9qmEPvelpD72grA+9VosPvfoSD70zbg+9ZhMPvXN9D70KPg+9HVIPvVDlD72sZA+94woPvToiD7334w+9M8YPvTavD70eBA+9eA4PvUfwDr2S0A+9k1gPvXl/D72QpA+96LoOvdYnD73i0Q+9pFMPvdu2D73ayA69mWIPvWC4D72EHw+9+j4PvU0GD72Wpg+90zEPveDkD71XYA+9ma0PvQg8D73TiA+98gMQvVFND72ibw+9QD0PvW95D70npA+9ZvMOvcAtD71wwQ+99C8PvTBqD71yQA+9M3IPvbJQD71G5Q69mWQPvbhbD72mlw699NAOvYYUD73SWQ+9jX0Pvb7gD71sZQ69TOwOvT5oD70ZrA69E4YPvfkCD70vfA+9GIYPvQKiD73PjA+9d/wOvSZlD730kw+9/JIPvW1CD72kDQ+995YPvZKOD712OA+9UEEPvV4XD72Hrg+979APvXWKDr2uYw+9OAsQvSm1Dr1tjg+9RV4Pvd+bD728JxC9WUIPvRU1D70m0A+91FAPvahtD70SMA+9MB0PveOcD70VdA+91GMPvfcdD73GWA+9gNcOvSoaD72Ymg+9eXMPvbaRD70k8A698IQPvZzoD72lug69tnQPvXVpD70SLA+9qjkPveSQD72iaQ+9P98PvQt1D71ymg+9OKcPvYIOD707SA+9MucPvSoUD722dA+9xnYPvSqhD73AlA+9yOEPvczVD72wdQ+9JQwQvZwrD73HYQ+98P4OvX26D7189A+9SXsPvburD72eFQ+97i8PvXXvD70Jgw+9bogPva5ED71Gjg+92ikPvaZpD70tZQ+93fQOvZjKD73boA+9hmAPvbaxD722JQ+9cBIPvfIhEL1OUw+9pP4OvaJYD72AMg+95acPvfHpDr3sKQ+92DoPvU4gD70+lA+94mQPvTA6D705YQ+9JX0PvZx6D72IoQ69PgoPvY/JD73gaA+9t5IPveozD70EQQ+9oFUPvWS+D72Tpw+9IpkPvQI6D73qXg+9lz0PvXkFD720EA+9EoAPvdEdEL3kSQ+9DkYPvSmeD711iQ+9Uw8PvRKAD73PfQ+9fV8PvVpjD70myA+9rAEQvarjDr3UOQ+9lHMPvQy8D72UJA+96q4PvW+fD73hjA+93mcPvQErD73aIg+9n6wPvVYHD70bcw+9FowPvcFjD71N7w+9JDsPvdoHD70Vgg+9rioPvS5mD73Ong+9uTYPvaO1D72DjQ+97DMPvW5VD70Gsg+90skPvct0D72Puw+9v/8NvWKvD72Mxw+94+8PvRUmD738vw+9GcYPvcKBD73HJg+9P/cOvfZoD71Ccg+9AogPvaoqD719jg+9J/oOvVhED72Tig+9YdgPvbZqD70mbQ+9UEkPvQ1TD72UcA+9UvkPvUKlD72xVQ+9HnEPvZAgD70T0Q+9yMUPveyCD70SCg+9qgIPvb66D73Jtw69sL0PvZNMD73sWw+9HDAPvQg3D71pEw+9LCsQvZciD71kSg+9iewPvb48D70TBw+9HrIPvUyID70/nA+9dq4PvdOpD734Sw+9xW8PvXqjD7202w69X+UOvQYJD70Sow+91vgOvQAED73aBBC9q20PvWheD71Qzw+9nbwPvULoD72/vg69FsMPvQW1D72SWg+9ixYPvfKID71oXw+9YrgOvXo4D71F7Q6999cPvf3SD70YZg+9xZgPvT+zD716NQ+94HAPvfWCD71/Yg+96qMPvSbhD73PdQ+9e7EPvZ5rD70xoQ+9gK8PvWrSD704JA+9TKcPvW7JDr0HZA+9jmkPvewsD71fXg+9wU0PvVEPD70pKg+9JsUOvfznDr3ABxC95coPve1/D72OtQ+9cskPvWJkD70chw+9EoYPvcPaDr3QEA+94n0PvXqTD73kPQ+9iKIPvYQdD72C5w69wo8PvUcrEL11Sg+98VAPveSwD72rJA+99aMPvanbD73rsg+9enQPvaB5D7173w+9Nt4OvWoHD73B+Q69Q6UPvXhhD70GHg+9K1MPvZSUD71QmA+96+sOvfxxD71zMxC94q4PvY9mD73Xow+9WxAQvULeD724qg+98VYPvV4hD73EIw+9cTgPvYYLD70C2A+9t78OvR8QD73kOQ+9pNYOvaOeD73lFg+9/LkPvS+5D71vQw+9wOUPvapfD704jw+9WgYPvRKJD713Fw+9JokPvY/7D72wsA+9Eh8PvUuYD730JA+9dm4PvUJaD700/g69No0PvQd2D70oZw+9JvwOvaz1Dr1kNQ+91PEOvWJbD71dfA+94tgPvTyiD70UyQ+9tHsPvS9kDr2l5g69z8cPvV9pD70tUA+9J1gPvRU9D73okQ+9opcPvcn/D70RwQ+9kx8PveppD71ugQ+9EbAPvRaBD70cag+9OUwPvZ45D71j2Q+9X30OvWNfD71ONg+9pTUPvf8wD737hA+9r84PvR0gD71kvw69/roPvaV3D70MMA+9ntAOvcrLD72E3g+9GxYPvRCiD71piA+911sPvXh6D70sCg+9x7IOvXFJD72gog+9iLgPvQgqD724yQ+9fp0PvRclD71ItA+9YJ4PvcMMD72uSw+9CD4PvRj+D73/eQ+95LYPvVgpD73Q0g+9CqIPvZKRD72IRQ+95tkOvZSnD71ckA+9fm0PvQqID724ag+9DucOvRizD71puA+95CgPvZs1D72kVw+97nEPvc0bD71rVg+9p7oPvbjwDr13fg+9AP8PvZS5D71yNA+9r9EOvUJ9Dr0YZw+91BkPvfiAD73/UQ+9cE4Pvf9YD70QMw+9bYoPvQNPD70+dQ+9TOAOvbC0D726Tw+9+v0OvaoAD71dTA+9ijoPvRKPD71HWA+9qeUOvUOGD713Yw+9coEPvZbvD7160w699c8PvYYED736HQ+9CuYOvRroD70tWg+9WiwPvTkpD71BJQ+96kcPvdqKD70zChC9fmUPvVyMD73u+A+9C3EPvcDmDr2Ccg+9AXsPvfDpDr2e7A+9KIwOvawrD70pAg+9QBAPvTAbD7181Q+9RE4PvSybD70mvQ+9LEMPvQhMD71eSQ+9Es0PvfMFD72kMw+9gGcPvXQ8D72QwQ+9pCIPvbn1D70Knw+9/g0PvYtXD705eA69zq0PvRRxD71bWg+9JD8PvfzdDr1kSQ+9byQQvb2WDr0+eQ+9nckPvdpCD73AGA+9z6MPvdWpD70jjA+9RYAPvd93D73Uqg+9Hk8PvSDMD70nNQ+983APvVj2Dr0Myg690zkPvXRzD73IWw+9UwUQvcjVD70dJA+9j4MPvUNsD72taQ+9Eu8PvSAyD73xtQ+9qNcPvfZGD71M9g+9bGQPvTrVDr3GCQ+9ljcPvULmDr0U1w+9kJcPvaVYD716Rg+9aZ0Pvc8ND730xg+97aIPvYYnD70CEA+9Eh0PverHD73CgA+9lHcPvbU1D73e/A+9bsgPvQ6RDr2RRw+91AQQveyED72ujA+9RC8PvU5pD71u8A697KsPvYd2D70oTg+9NjUPvUPED72adg+9ug4PvTzqD73How+9hj0PveGMD71mYg+9f7QPvRtWD70jBA+9floPvcJYD70yPQ+9/24PvTrZD70cRg+9o84PveskD72E2Q69GrUPvZxfD729Mg+9CGMPvXA8D72QOQ+9iCoPvSozD71ncg+9uKcPvSQPD73U5Q69YH8PvZFUD70c0g+9XoEPvbSTD70E8w69knYPvcgBD733CQ+9uY4PvdhjD72Umw+9jLQOvbcMD73cmQ+9TeYOvZ6MD73Jhg+9btQPvXAdD72pzg+9VqMPvX27D7397w69l0cPvad6D72Yog+9qFQPvQxkD70p5g69t6EOvcSsD70Jcw+9BvwPvch1D72bJQ+9M+gOvc/MD71eZA+9nSAPvY0nD70ybQ+9CAcQvcepD70kSA+9mioPvTGvD70fuA+9hGcPvSQzD732Gg+92NQPvXhSD70GPQ+9CG8PvdzMD70RPQ+9dOoPvaeTD73Oig+9Bq0PvWERD733BRC9rysPveBpD72coA+9BjkPvQDFD72lsA+9Rj0PvULxD70L7Q69a70OvTA1D72pmw+9WesOveZXD71xHA+9rboPvUY8D712JQ+9AR4PvfzeD71bAw+9124PvQu1D72MbA+93LIPvVrGD70osA+9ODQPvbCUD71MUA+9dBwPvZJOD72hHw+976gPvUIcD73TdA+9PmEPvVkRD705Ww+9/rUPvXyzD70w/Q+96iYPvTSLD73cNg+9YqYPvf22D71OOA+93L0PvbhBD72rBg+97y4PvUX/Dr0cPQ+9R9AOvRpHD726Mw+9R40PvcYqD72ixQ69DjcQvR6mD73XSw+9augPvTzWD70OzQ+9IHMPved4D72Otw69G2APvX4eD73Mmg+99kAPvZCsD70Sgw+9RwUPvR4aEL0Atg+9yx0PvQYTD725Iw+92GsPvcCrD72PeQ+9OF4PvWtgD734ShC9/54PvbekD73cqg+9MJ0PvSbSD71dPg+9ZfQOvSA1D73C9g69+I4PvY79Dr1WfA+9220PvTQ2D70TLQ+91E4PveH3Dr237w+9fnkPvS0lD70DCQ+9okgPve/fDr0vQxC9zmsPvUiFD709RQ+91i0QvQDZD72IkA+90QEPvTQ1D7271g69DewOvSVxD719Og+9gS0PvQ0oD72wtQ+9gqEPvZvKD730vA69HdAPvRC0D72tlg+9KdsPvUiOD718WQ+9LYEPvciSD70Eog+9bhkQvVQ1D73k6w+9jloPvdf7Dr1V0w+9INUPvS6qD71MeA+9gh4PvQtTD71Jsw+9NXEPvaaxDr0dzA+9XrQPvbRcD73EcQ+9ceMOvS5yD71/IA+9G54PvW4nD72WVg+9zY8Pvd5YD70Mlg+9gIUPvR6xD700rA+9wjwPvd60D73JNQ+9BrsPvWDdDr3cqQ+9YRoPvWGQD72EzQ+9hGoPveyFDr0JRQ+9uMsPvVCDD71EpA+9/hYPvQtUD72CFQ+9/SIQvS+KD72IPg+9+VYPvYhtD73gqQ+9axsPvVybD71OfA+9kVUPvTb+Dr0ekg+9FdwOvRrXDr0wqA+9t4UPvbibD729xQ+9Xh4PvXXQDr1G9g69I1gPvTAkD706dw+9+/wOvWgQD73Orw+9luEOvcnHD72p0g69dnoPvV1XD725zg+9KLcPvRTHD71uFQ+9IlEPvcbYD71C/A69mV4PvfQrD72XPw+9vfUOvbW6D72IAxC9qLgPvVrDDr0kpA+9rk0PvdsWEL0X1w+9LisPvWNXD714IhC9hNEPvWDcDr2jZw+9hEcPveSTD70rpg+9E28PvQJfD715NQ+9C8sPvdx0D70s6w+9aW0PvTEUD713Jg+9UyAPvfogD71PkQ+9rmIPvcSVD72CfQ+9JrYPvehRD73Yww+9OK4PveBmD71bgw+9AEYQvSh+D72OqA+9iNAPvYiODr2hQQ+9cwoQvbDTD72etA69WPgOvZB5D712DA+9SPkOvebiD70OvQ+9SvUOvVjdDr1E6Q+9WHAPvUh4D73kuw+9dtIPve8UD72pAA+9i9YPvQweD71UcA+9hfwPvZBDEL1HTg+9trUPva8FEL3vCQ+93RYPvTEoD72omQ+9tlYPvRTrD73nbg+9HzgPvTkwD709dg+9fO8OvZAYEL1rmQ+99B4PvTNhD71edw+9rl0PvS4xD72KkA+9RtAPvfJ4D72tHg+9cyoPvfLZD72Wbw+98AIPvVFkD72qYw+98jUPvcuPD70vMQ+94j0PvavyDr3m+Q+9HNwPveT2Dr1/cQ+9eugOvaapD73dUA+9xhMPvVP6Dr1m/A69FswPvYniD73y+Q+9KN0PvbrFD73uVg+9eJMPvdglD73sqw+95NcOvQebD73awQ+9/TIPvUoVEL2h+Q69hPgPvSIuD720tg+9DxMPvQSbD72LBg+98k4PvbDtDr3WbA+9goEPvS4wD70s/w69mVwPvcQxD73gtA+9/loPvRzkD704qQ69YPsPvdqLD713qQ+9JiQPvWPkD73+eA+9HTcPvXAGD71q+A69k70PvdNRD70kuw+9isIPveasD719mQ+9hkIPve1fD73sxQ+9SfYOva3lD72MTA+9RUoPvRD/Dr1o1w+9VFAPvbohD737Pg+9v1QPveAwD70zTQ+9VeUOvQVLD722Hg+9aCsPvcxFD72+mw+9g1UPvY0WD73Yqg+99MsPvXRHD704FA+9IPoOvaI3D7211g69I9MPvSkuD70Dbg+9oaIPvQQyD71bOQ+9qtQOvUTED73uXw+9vDMPvVjbDr1qsw+9bF4PvSTjDr2YZQ+98q0OvfoZD71uFg+9tjMPvV8KEL1Ktg+9MbQPvdPlD71DvQ+9RF4PvU/zDr1buQ+9KegOve3rD73MUw+9eq8PvWhpD738ag69a4YPvStDD73Prw+9gnYPvRpjD705MQ+9NpUPvRqCD70pag+93n0PvbJfD73ygg+9ok8PvdkHD73jOg+9ghkPvXROD72mdQ+9XssPvfnfDr1aYQ+9yfsOvfgFD73lcg+9LfAOvRRiD73e8g+91FkPvXeoDr10pg+9zUgPvRPED72w4w+9PMwPvV6hD70meA+9W4oPvWvpDr1wnw+9aZ0PvWcoD720eQ+94IgPveZRD72yPQ+9ACoPvSDMD73vFQ+9weUPvV9dD71q/A69i0EPvZqGD72h2w+9B8cPvRzcD709XQ+97HAPvS7PDr3uNxC9RDcPvXInD72eWA+9qKIPvVYpD722Iw+9KkkQvaqZDr3mtA+9rDkPve4lD72A+Q+908sPvQrcD70jBg+9BesOvWtID70Axw+9vNwPvfLyDr0QyA+97yIQvYDcD73iPg+9PXgPvUh9D727MA+9ocIPvW5WD720kg+9L4wPvYnlD72Jlw+9TnAPvVbrDr0nvg+9yq8PvbLlD70mgA+9PcYPvfGlD70iEA+9vAUPvdBoD70oPA+9o2UPvfgAD71oYg+99JEPvZh/D73Q0g+9fwgPvUSOD73gnw+9zGYPvWpMD71MZA+9P/sOvUXsD72B+A696SIPvao8D72eHw+9/goPvRwAD73jvw+9zPgOvYHuD71amQ+9g5kPvYIZEL239w697nUPvRUyD70n8Q69YxEPvQrSDr0EgQ+93NoOvUMbD716rA+9HCcPvf6zD71Mew+9lLQPvUEID7352w+96tkPvZoTEL0hgA+9xI0PvRfjD735Gw+92n0PvUPDDr1CpA+9XvAOvSimDr0Upg+93y8Pva5CD70eVA+94LYOvYhmD73gYQ+9Vk0PvVR9D71a/g+9fjUPvVvkDr2ohQ+92BYPvUqdDr14PRC9T08PvWbbDr2a7w69Q+QOvch/D73Icg+9NLIPvTeWD71YwQ+9vOEPvfp9D707dQ+9KhQPvb0OD72Qrg+9D1oPvbkIEL0qnA+9vK0PvZLbDr3afQ+9DIkPvRobD7077Q+9VrgPvcJBD71mWA+9UjYPvcJAEL1pRQ+9m8EOvegxD70Mhg+992YPvQojD71Ehg+9b70PvaiHD730vw+9nD8PvdRZD71liA+9uz8PvbTwD70VDg+9YhoPvQ==",
          "dtype": "f4"
         },
         "y": {
          "bdata": "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",
          "dtype": "f4"
         },
         "z": {
          "bdata": "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",
          "dtype": "f4"
         }
        }
       ],
       "layout": {
        "height": 768,
        "legend": {
         "tracegroupgap": 0
        },
        "margin": {
         "t": 60
        },
        "scene": {
         "aspectmode": "cube",
         "domain": {
          "x": [
           0,
           1
          ],
          "y": [
           0,
           1
          ]
         },
         "xaxis": {
          "range": [
           -0.0353444442152977,
           -0.03462520241737366
          ],
          "title": {
           "text": "x"
          }
         },
         "yaxis": {
          "range": [
           0.11026126146316528,
           0.11098051071166992
          ],
          "title": {
           "text": "y"
          }
         },
         "zaxis": {
          "range": [
           -0.13233202695846558,
           -0.13161277770996094
          ],
          "title": {
           "text": "z"
          }
         }
        },
        "template": {
         "data": {
          "bar": [
           {
            "error_x": {
             "color": "#2a3f5f"
            },
            "error_y": {
             "color": "#2a3f5f"
            },
            "marker": {
             "line": {
              "color": "#E5ECF6",
              "width": 0.5
             },
             "pattern": {
              "fillmode": "overlay",
              "size": 10,
              "solidity": 0.2
             }
            },
            "type": "bar"
           }
          ],
          "barpolar": [
           {
            "marker": {
             "line": {
              "color": "#E5ECF6",
              "width": 0.5
             },
             "pattern": {
              "fillmode": "overlay",
              "size": 10,
              "solidity": 0.2
             }
            },
            "type": "barpolar"
           }
          ],
          "carpet": [
           {
            "aaxis": {
             "endlinecolor": "#2a3f5f",
             "gridcolor": "white",
             "linecolor": "white",
             "minorgridcolor": "white",
             "startlinecolor": "#2a3f5f"
            },
            "baxis": {
             "endlinecolor": "#2a3f5f",
             "gridcolor": "white",
             "linecolor": "white",
             "minorgridcolor": "white",
             "startlinecolor": "#2a3f5f"
            },
            "type": "carpet"
           }
          ],
          "choropleth": [
           {
            "colorbar": {
             "outlinewidth": 0,
             "ticks": ""
            },
            "type": "choropleth"
           }
          ],
          "contour": [
           {
            "colorbar": {
             "outlinewidth": 0,
             "ticks": ""
            },
            "colorscale": [
             [
              0,
              "#0d0887"
             ],
             [
              0.1111111111111111,
              "#46039f"
             ],
             [
              0.2222222222222222,
              "#7201a8"
             ],
             [
              0.3333333333333333,
              "#9c179e"
             ],
             [
              0.4444444444444444,
              "#bd3786"
             ],
             [
              0.5555555555555556,
              "#d8576b"
             ],
             [
              0.6666666666666666,
              "#ed7953"
             ],
             [
              0.7777777777777778,
              "#fb9f3a"
             ],
             [
              0.8888888888888888,
              "#fdca26"
             ],
             [
              1,
              "#f0f921"
             ]
            ],
            "type": "contour"
           }
          ],
          "contourcarpet": [
           {
            "colorbar": {
             "outlinewidth": 0,
             "ticks": ""
            },
            "type": "contourcarpet"
           }
          ],
          "heatmap": [
           {
            "colorbar": {
             "outlinewidth": 0,
             "ticks": ""
            },
            "colorscale": [
             [
              0,
              "#0d0887"
             ],
             [
              0.1111111111111111,
              "#46039f"
             ],
             [
              0.2222222222222222,
              "#7201a8"
             ],
             [
              0.3333333333333333,
              "#9c179e"
             ],
             [
              0.4444444444444444,
              "#bd3786"
             ],
             [
              0.5555555555555556,
              "#d8576b"
             ],
             [
              0.6666666666666666,
              "#ed7953"
             ],
             [
              0.7777777777777778,
              "#fb9f3a"
             ],
             [
              0.8888888888888888,
              "#fdca26"
             ],
             [
              1,
              "#f0f921"
             ]
            ],
            "type": "heatmap"
           }
          ],
          "histogram": [
           {
            "marker": {
             "pattern": {
              "fillmode": "overlay",
              "size": 10,
              "solidity": 0.2
             }
            },
            "type": "histogram"
           }
          ],
          "histogram2d": [
           {
            "colorbar": {
             "outlinewidth": 0,
             "ticks": ""
            },
            "colorscale": [
             [
              0,
              "#0d0887"
             ],
             [
              0.1111111111111111,
              "#46039f"
             ],
             [
              0.2222222222222222,
              "#7201a8"
             ],
             [
              0.3333333333333333,
              "#9c179e"
             ],
             [
              0.4444444444444444,
              "#bd3786"
             ],
             [
              0.5555555555555556,
              "#d8576b"
             ],
             [
              0.6666666666666666,
              "#ed7953"
             ],
             [
              0.7777777777777778,
              "#fb9f3a"
             ],
             [
              0.8888888888888888,
              "#fdca26"
             ],
             [
              1,
              "#f0f921"
             ]
            ],
            "type": "histogram2d"
           }
          ],
          "histogram2dcontour": [
           {
            "colorbar": {
             "outlinewidth": 0,
             "ticks": ""
            },
            "colorscale": [
             [
              0,
              "#0d0887"
             ],
             [
              0.1111111111111111,
              "#46039f"
             ],
             [
              0.2222222222222222,
              "#7201a8"
             ],
             [
              0.3333333333333333,
              "#9c179e"
             ],
             [
              0.4444444444444444,
              "#bd3786"
             ],
             [
              0.5555555555555556,
              "#d8576b"
             ],
             [
              0.6666666666666666,
              "#ed7953"
             ],
             [
              0.7777777777777778,
              "#fb9f3a"
             ],
             [
              0.8888888888888888,
              "#fdca26"
             ],
             [
              1,
              "#f0f921"
             ]
            ],
            "type": "histogram2dcontour"
           }
          ],
          "mesh3d": [
           {
            "colorbar": {
             "outlinewidth": 0,
             "ticks": ""
            },
            "type": "mesh3d"
           }
          ],
          "parcoords": [
           {
            "line": {
             "colorbar": {
              "outlinewidth": 0,
              "ticks": ""
             }
            },
            "type": "parcoords"
           }
          ],
          "pie": [
           {
            "automargin": true,
            "type": "pie"
           }
          ],
          "scatter": [
           {
            "fillpattern": {
             "fillmode": "overlay",
             "size": 10,
             "solidity": 0.2
            },
            "type": "scatter"
           }
          ],
          "scatter3d": [
           {
            "line": {
             "colorbar": {
              "outlinewidth": 0,
              "ticks": ""
             }
            },
            "marker": {
             "colorbar": {
              "outlinewidth": 0,
              "ticks": ""
             }
            },
            "type": "scatter3d"
           }
          ],
          "scattercarpet": [
           {
            "marker": {
             "colorbar": {
              "outlinewidth": 0,
              "ticks": ""
             }
            },
            "type": "scattercarpet"
           }
          ],
          "scattergeo": [
           {
            "marker": {
             "colorbar": {
              "outlinewidth": 0,
              "ticks": ""
             }
            },
            "type": "scattergeo"
           }
          ],
          "scattergl": [
           {
            "marker": {
             "colorbar": {
              "outlinewidth": 0,
              "ticks": ""
             }
            },
            "type": "scattergl"
           }
          ],
          "scattermap": [
           {
            "marker": {
             "colorbar": {
              "outlinewidth": 0,
              "ticks": ""
             }
            },
            "type": "scattermap"
           }
          ],
          "scattermapbox": [
           {
            "marker": {
             "colorbar": {
              "outlinewidth": 0,
              "ticks": ""
             }
            },
            "type": "scattermapbox"
           }
          ],
          "scatterpolar": [
           {
            "marker": {
             "colorbar": {
              "outlinewidth": 0,
              "ticks": ""
             }
            },
            "type": "scatterpolar"
           }
          ],
          "scatterpolargl": [
           {
            "marker": {
             "colorbar": {
              "outlinewidth": 0,
              "ticks": ""
             }
            },
            "type": "scatterpolargl"
           }
          ],
          "scatterternary": [
           {
            "marker": {
             "colorbar": {
              "outlinewidth": 0,
              "ticks": ""
             }
            },
            "type": "scatterternary"
           }
          ],
          "surface": [
           {
            "colorbar": {
             "outlinewidth": 0,
             "ticks": ""
            },
            "colorscale": [
             [
              0,
              "#0d0887"
             ],
             [
              0.1111111111111111,
              "#46039f"
             ],
             [
              0.2222222222222222,
              "#7201a8"
             ],
             [
              0.3333333333333333,
              "#9c179e"
             ],
             [
              0.4444444444444444,
              "#bd3786"
             ],
             [
              0.5555555555555556,
              "#d8576b"
             ],
             [
              0.6666666666666666,
              "#ed7953"
             ],
             [
              0.7777777777777778,
              "#fb9f3a"
             ],
             [
              0.8888888888888888,
              "#fdca26"
             ],
             [
              1,
              "#f0f921"
             ]
            ],
            "type": "surface"
           }
          ],
          "table": [
           {
            "cells": {
             "fill": {
              "color": "#EBF0F8"
             },
             "line": {
              "color": "white"
             }
            },
            "header": {
             "fill": {
              "color": "#C8D4E3"
             },
             "line": {
              "color": "white"
             }
            },
            "type": "table"
           }
          ]
         },
         "layout": {
          "annotationdefaults": {
           "arrowcolor": "#2a3f5f",
           "arrowhead": 0,
           "arrowwidth": 1
          },
          "autotypenumbers": "strict",
          "coloraxis": {
           "colorbar": {
            "outlinewidth": 0,
            "ticks": ""
           }
          },
          "colorscale": {
           "diverging": [
            [
             0,
             "#8e0152"
            ],
            [
             0.1,
             "#c51b7d"
            ],
            [
             0.2,
             "#de77ae"
            ],
            [
             0.3,
             "#f1b6da"
            ],
            [
             0.4,
             "#fde0ef"
            ],
            [
             0.5,
             "#f7f7f7"
            ],
            [
             0.6,
             "#e6f5d0"
            ],
            [
             0.7,
             "#b8e186"
            ],
            [
             0.8,
             "#7fbc41"
            ],
            [
             0.9,
             "#4d9221"
            ],
            [
             1,
             "#276419"
            ]
           ],
           "sequential": [
            [
             0,
             "#0d0887"
            ],
            [
             0.1111111111111111,
             "#46039f"
            ],
            [
             0.2222222222222222,
             "#7201a8"
            ],
            [
             0.3333333333333333,
             "#9c179e"
            ],
            [
             0.4444444444444444,
             "#bd3786"
            ],
            [
             0.5555555555555556,
             "#d8576b"
            ],
            [
             0.6666666666666666,
             "#ed7953"
            ],
            [
             0.7777777777777778,
             "#fb9f3a"
            ],
            [
             0.8888888888888888,
             "#fdca26"
            ],
            [
             1,
             "#f0f921"
            ]
           ],
           "sequentialminus": [
            [
             0,
             "#0d0887"
            ],
            [
             0.1111111111111111,
             "#46039f"
            ],
            [
             0.2222222222222222,
             "#7201a8"
            ],
            [
             0.3333333333333333,
             "#9c179e"
            ],
            [
             0.4444444444444444,
             "#bd3786"
            ],
            [
             0.5555555555555556,
             "#d8576b"
            ],
            [
             0.6666666666666666,
             "#ed7953"
            ],
            [
             0.7777777777777778,
             "#fb9f3a"
            ],
            [
             0.8888888888888888,
             "#fdca26"
            ],
            [
             1,
             "#f0f921"
            ]
           ]
          },
          "colorway": [
           "#636efa",
           "#EF553B",
           "#00cc96",
           "#ab63fa",
           "#FFA15A",
           "#19d3f3",
           "#FF6692",
           "#B6E880",
           "#FF97FF",
           "#FECB52"
          ],
          "font": {
           "color": "#2a3f5f"
          },
          "geo": {
           "bgcolor": "white",
           "lakecolor": "white",
           "landcolor": "#E5ECF6",
           "showlakes": true,
           "showland": true,
           "subunitcolor": "white"
          },
          "hoverlabel": {
           "align": "left"
          },
          "hovermode": "closest",
          "mapbox": {
           "style": "light"
          },
          "paper_bgcolor": "white",
          "plot_bgcolor": "#E5ECF6",
          "polar": {
           "angularaxis": {
            "gridcolor": "white",
            "linecolor": "white",
            "ticks": ""
           },
           "bgcolor": "#E5ECF6",
           "radialaxis": {
            "gridcolor": "white",
            "linecolor": "white",
            "ticks": ""
           }
          },
          "scene": {
           "xaxis": {
            "backgroundcolor": "#E5ECF6",
            "gridcolor": "white",
            "gridwidth": 2,
            "linecolor": "white",
            "showbackground": true,
            "ticks": "",
            "zerolinecolor": "white"
           },
           "yaxis": {
            "backgroundcolor": "#E5ECF6",
            "gridcolor": "white",
            "gridwidth": 2,
            "linecolor": "white",
            "showbackground": true,
            "ticks": "",
            "zerolinecolor": "white"
           },
           "zaxis": {
            "backgroundcolor": "#E5ECF6",
            "gridcolor": "white",
            "gridwidth": 2,
            "linecolor": "white",
            "showbackground": true,
            "ticks": "",
            "zerolinecolor": "white"
           }
          },
          "shapedefaults": {
           "line": {
            "color": "#2a3f5f"
           }
          },
          "ternary": {
           "aaxis": {
            "gridcolor": "white",
            "linecolor": "white",
            "ticks": ""
           },
           "baxis": {
            "gridcolor": "white",
            "linecolor": "white",
            "ticks": ""
           },
           "bgcolor": "#E5ECF6",
           "caxis": {
            "gridcolor": "white",
            "linecolor": "white",
            "ticks": ""
           }
          },
          "title": {
           "x": 0.05
          },
          "xaxis": {
           "automargin": true,
           "gridcolor": "white",
           "linecolor": "white",
           "ticks": "",
           "title": {
            "standoff": 15
           },
           "zerolinecolor": "white",
           "zerolinewidth": 2
          },
          "yaxis": {
           "automargin": true,
           "gridcolor": "white",
           "linecolor": "white",
           "ticks": "",
           "title": {
            "standoff": 15
           },
           "zerolinecolor": "white",
           "zerolinewidth": 2
          }
         }
        },
        "width": 1024
       }
      }
     },
     "metadata": {},
     "output_type": "display_data"
    }
   ],
   "source": [
    "import numpy as np\n",
    "import plotly.express as px\n",
    "\n",
    "# Expect subset to be defined already (sampled points)\n",
    "dim_indices = (0, 1, 2)\n",
    "\n",
    "x, y, z = (subset[:, i] for i in dim_indices)\n",
    "\n",
    "# Outlier filtering parameters\n",
    "lower_q = 0.0\n",
    "upper_q = 1.0\n",
    "\n",
    "x_low, x_high = np.quantile(x, [lower_q, upper_q])\n",
    "y_low, y_high = np.quantile(y, [lower_q, upper_q])\n",
    "z_low, z_high = np.quantile(z, [lower_q, upper_q])\n",
    "\n",
    "mask = (\n",
    "    (x >= x_low) & (x <= x_high) &\n",
    "    (y >= y_low) & (y <= y_high) &\n",
    "    (z >= z_low) & (z <= z_high)\n",
    ")\n",
    "\n",
    "removed_count = (~mask).sum()\n",
    "print(f\"Removed {removed_count} outlier points out of {subset.shape[0]} ({removed_count / subset.shape[0]:.2%})\")\n",
    "\n",
    "if removed_count > 0:\n",
    "    outliers = np.column_stack([x[~mask], y[~mask], z[~mask]])\n",
    "    max_print = 10\n",
    "    print(\"Sample outlier points (x,y,z):\")\n",
    "    print(outliers[:max_print])\n",
    "\n",
    "# Keep only inliers\n",
    "x_f, y_f, z_f = x[mask], y[mask], z[mask]\n",
    "\n",
    "# Axis stats BEFORE unification (for debugging / understanding clustering)\n",
    "for name, arr in zip(['x','y','z'], [x_f, y_f, z_f]):\n",
    "    print(f\"{name}: min={arr.min():.6f} max={arr.max():.6f} span={(arr.max()-arr.min()):.6f} mean={arr.mean():.6f} std={arr.std():.6f}\")\n",
    "\n",
    "# Detect degenerate (near-constant) axes\n",
    "EPS = 1e-12\n",
    "spans = np.array([x_f.max()-x_f.min(), y_f.max()-y_f.min(), z_f.max()-z_f.min()])\n",
    "if np.any(spans < EPS):\n",
    "    print(\"WARNING: One or more axes have (near) zero span. Data may be constant or precision-collapsed.\")\n",
    "\n",
    "# Optional standardization to reveal variation if values are very tiny\n",
    "apply_standardize_if_tiny = True\n",
    "tiny_threshold = 1e-8\n",
    "if apply_standardize_if_tiny and np.all(spans < tiny_threshold):\n",
    "    print(\"All spans are tiny; applying z-score standardization to x,y,z for visualization only.\")\n",
    "    def safe_std(a):\n",
    "        s = a.std()\n",
    "        return s if s > 0 else 1.0\n",
    "    x_v = (x_f - x_f.mean()) / safe_std(x_f)\n",
    "    y_v = (y_f - y_f.mean()) / safe_std(y_f)\n",
    "    z_v = (z_f - z_f.mean()) / safe_std(z_f)\n",
    "    standardized = True\n",
    "else:\n",
    "    x_v, y_v, z_v = x_f, y_f, z_f\n",
    "    standardized = False\n",
    "print(f\"Using standardized coordinates: {standardized}\")\n",
    "\n",
    "# Scaling strategy options\n",
    "# 'symmetric': center each axis at its own midpoint but use the MAX half-span (after any standardization)\n",
    "# 'independent': each axis keeps its own min/max\n",
    "# 'global': single global min/max across axes (can collapse if data spans are identical tiny intervals)\n",
    "scaling_mode = 'symmetric'  # change to 'symmetric' if collapse persists\n",
    "\n",
    "if scaling_mode == 'independent':\n",
    "    xr, yr, zr = ( [x_v.min(), x_v.max()], [y_v.min(), y_v.max()], [z_v.min(), z_v.max()] )\n",
    "elif scaling_mode == 'global':\n",
    "    vals = np.concatenate([x_v, y_v, z_v])\n",
    "    gmin, gmax = float(vals.min()), float(vals.max())\n",
    "    if abs(gmax - gmin) < EPS:\n",
    "        # Expand artificially so Plotly can render a volume\n",
    "        pad = 1.0 if standardized else 1e-3\n",
    "        print(f\"Global span ~0 (gmin={gmin:.6g}, gmax={gmax:.6g}); padding by +/-{pad}\")\n",
    "        gmin -= pad\n",
    "        gmax += pad\n",
    "    xr = yr = zr = [gmin, gmax]\n",
    "else:  # symmetric\n",
    "    mins = np.array([x_v.min(), y_v.min(), z_v.min()])\n",
    "    maxs = np.array([x_v.max(), y_v.max(), z_v.max()])\n",
    "    centers = (mins + maxs) / 2.0\n",
    "    half_spans = (maxs - mins) / 2.0\n",
    "    H = half_spans.max()\n",
    "    if H < EPS:\n",
    "        H = 1.0 if standardized else 1e-3\n",
    "        print(f\"Symmetric mode: half-span ~0, padding H={H}\")\n",
    "    xr = [centers[0]-H, centers[0]+H]\n",
    "    yr = [centers[1]-H, centers[1]+H]\n",
    "    zr = [centers[2]-H, centers[2]+H]\n",
    "\n",
    "print(f\"Using scaling mode: {scaling_mode}\")\n",
    "print(f\"Ranges -> x:{xr} y:{yr} z:{zr}\")\n",
    "\n",
    "fig = px.scatter_3d(x=x_v, y=y_v, z=z_v, opacity=0.5)\n",
    "fig.update_traces(marker=dict(size=2))\n",
    "fig.update_layout(\n",
    "    width=1024,\n",
    "    height=768,\n",
    "    scene=dict(\n",
    "        xaxis=dict(range=xr),\n",
    "        yaxis=dict(range=yr),\n",
    "        zaxis=dict(range=zr),\n",
    "        aspectmode='cube'\n",
    "    )\n",
    ")\n",
    "fig.show()\n",
    "\n",
    "filtered_indices = np.nonzero(mask)[0]"
   ]
  },
  {
   "cell_type": "markdown",
   "id": "7087bee9",
   "metadata": {},
   "source": [
    "# UMAP Hi-dim"
   ]
  },
  {
   "cell_type": "code",
   "execution_count": 13,
   "id": "a77fd82f",
   "metadata": {},
   "outputs": [],
   "source": [
    "hd_subset = X[subset_idx]"
   ]
  },
  {
   "cell_type": "code",
   "execution_count": 14,
   "id": "73e3c2b6",
   "metadata": {},
   "outputs": [
    {
     "data": {
      "text/plain": [
       "(10000, 1536)"
      ]
     },
     "execution_count": 14,
     "metadata": {},
     "output_type": "execute_result"
    }
   ],
   "source": [
    "hd_subset.shape"
   ]
  },
  {
   "cell_type": "code",
   "execution_count": 16,
   "id": "5cd2195e",
   "metadata": {},
   "outputs": [
    {
     "data": {
      "text/plain": [
       "array([[10.613586 ,  4.572473 ],\n",
       "       [10.722154 ,  4.7413826],\n",
       "       [11.199226 ,  5.150993 ],\n",
       "       ...,\n",
       "       [10.678477 ,  4.746382 ],\n",
       "       [ 7.2929125,  4.8433213],\n",
       "       [10.973627 ,  5.034195 ]], dtype=float32)"
      ]
     },
     "execution_count": 16,
     "metadata": {},
     "output_type": "execute_result"
    }
   ],
   "source": [
    "import umap\n",
    "import plotly.express as px\n",
    "\n",
    "hd_centered = hd_subset - hd_subset.mean(axis=0)\n",
    "U, S, Vt = np.linalg.svd(hd_centered, full_matrices=False)\n",
    "hd_whitened = hd_centered @ Vt.T / S\n",
    "\n",
    "# UMAP\n",
    "hd_umap_model = umap.UMAP(n_neighbors=15, n_components=2, metric='euclidean')\n",
    "hd_umap_2d_embeddings = hd_umap_model.fit_transform(hd_whitened)\n",
    "hd_umap_2d_embeddings"
   ]
  },
  {
   "cell_type": "code",
   "execution_count": null,
   "id": "913778f4",
   "metadata": {},
   "outputs": [],
   "source": [
    "hd_images_df = pd.DataFrame(hd_umap_2d_embeddings, columns=('x', 'y'))\n",
    "hd_images_df['image'] = batch_embeddable_jpeg(\n",
    "    subset_images, max_side=512, max_workers=16)\n",
    "hd_images_df['idx'] = subset_idx"
   ]
  },
  {
   "cell_type": "code",
   "execution_count": null,
   "id": "9d7f809d",
   "metadata": {},
   "outputs": [],
   "source": [
    "from bokeh.plotting import figure, show, output_notebook\n",
    "from bokeh.models import HoverTool, ColumnDataSource, CategoricalColorMapper\n",
    "from bokeh.palettes import Spectral10\n",
    "\n",
    "output_notebook()"
   ]
  },
  {
   "cell_type": "code",
   "execution_count": null,
   "id": "1cba6559",
   "metadata": {},
   "outputs": [],
   "source": [
    "datasource = ColumnDataSource(hd_images_df)\n",
    "\n",
    "plot_figure = figure(\n",
    "    title='UMAP projection of the IIIF non-ocr dataset',\n",
    "    width=1920,\n",
    "    height=1080,\n",
    "    tools=('pan, wheel_zoom, reset')\n",
    ")\n",
    "\n",
    "plot_figure.add_tools(HoverTool(tooltips=\"\"\"\n",
    "<div>\n",
    "    <div>\n",
    "        <img src='@image' style='float: left; margin: 5px 5px 5px 5px'/>\n",
    "    </div>\n",
    "    <div>\n",
    "        <span style='font-size: 16px; color: #224499'>idx:</span>\n",
    "        <span style='font-size: 18px'>@idx</span>\n",
    "    </div>\n",
    "</div>\n",
    "\"\"\"))\n",
    "\n",
    "\n",
    "plot_figure.scatter(\n",
    "    'x',\n",
    "    'y',\n",
    "    source=datasource,\n",
    "    line_alpha=0.5,\n",
    "    fill_alpha=0.5,\n",
    "    size=5,\n",
    "    # color='color'\n",
    ")\n",
    "# show(plot_figure)"
   ]
  },
  {
   "cell_type": "code",
   "execution_count": null,
   "id": "e85e1921",
   "metadata": {},
   "outputs": [],
   "source": [
    "import os\n",
    "from bokeh.embed import file_html\n",
    "from bokeh.resources import INLINE\n",
    "\n",
    "html = file_html(plot_figure, resources=INLINE, title=\"UMAP projection\")\n",
    "out_path = \"iiif_no_text_umap_2d_vlm_embed_umap_2d_plot.html\"\n",
    "with open(out_path, \"w\", encoding=\"utf-8\") as f:\n",
    "    f.write(html)\n",
    "\n",
    "print(f\"Wrote {out_path} (INLINE resources).\")\n",
    "# Optional size check\n",
    "print(\"File size (MB):\", os.path.getsize(out_path) / (1024 * 1024))"
   ]
  }
 ],
 "metadata": {
  "kernelspec": {
   "display_name": "wc-simd (3.10.17)",
   "language": "python",
   "name": "python3"
  },
  "language_info": {
   "codemirror_mode": {
    "name": "ipython",
    "version": 3
   },
   "file_extension": ".py",
   "mimetype": "text/x-python",
   "name": "python",
   "nbconvert_exporter": "python",
   "pygments_lexer": "ipython3",
   "version": "3.10.17"
  }
 },
 "nbformat": 4,
 "nbformat_minor": 5
}
