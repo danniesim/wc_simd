{
 "cells": [
  {
   "cell_type": "code",
   "execution_count": 25,
   "id": "c550fdcd",
   "metadata": {},
   "outputs": [
    {
     "name": "stdout",
     "output_type": "stream",
     "text": [
      "Notebook file size: 565.48 KB\n"
     ]
    }
   ],
   "source": [
    "# get file size of this notebook\n",
    "\n",
    "import os\n",
    "print(f\"Notebook file size: {os.path.getsize('vlm_embed_train_data.ipynb') / 1024:.2f} KB\")"
   ]
  },
  {
   "cell_type": "code",
   "execution_count": null,
   "id": "28a1fb52",
   "metadata": {},
   "outputs": [],
   "source": [
    "import numpy as np\n",
    "\n",
    "data = np.load('../data/vlm_embed/iiif_no_text_embedding_matrix.npy', allow_pickle=True)"
   ]
  },
  {
   "cell_type": "markdown",
   "id": "5bbe42e7",
   "metadata": {},
   "source": [
    "## Common diagnostics when you’re training a **variational autoencoder (VAE)**\n",
    "\n",
    "---\n",
    "\n",
    "### **Top-left: `latent/kl_var`**\n",
    "- This shows the **KL divergence term** of your VAE’s loss, often averaged across dimensions.\n",
    "- It measures how close your approximate posterior \\( q_\\phi(z|x) \\) is to the prior \\( p(z) \\) (usually \\( \\mathcal{N}(0,I) \\)).\n",
    "- **Interpretation:**  \n",
    "  - Starts low (the encoder is ignoring the latent variables).  \n",
    "  - Rises as the encoder begins to use the latent space.  \n",
    "  - A good balance is important: too low → posterior collapse, too high → poor reconstructions.\n",
    "- The upward trend then plateauing and slightly decreasing suggests the model is learning to balance KL and reconstruction terms.\n",
    "\n",
    "---\n",
    "\n",
    "### **Top-right: `latent/logvar`**\n",
    "- This is the distribution of the **log-variance outputs** from the encoder.  \n",
    "- Each encoder latent dimension predicts a mean (`mu`) and log-variance (`logvar`), defining the Gaussian distribution from which you sample \\( z \\).  \n",
    "- **Interpretation:**  \n",
    "  - Spikes around zero mean log-variance ≈ 0 → variance ≈ 1 (close to prior).  \n",
    "  - Spread distributions show how much uncertainty the encoder is predicting for each latent dimension.\n",
    "\n",
    "---\n",
    "\n",
    "### **Bottom-left: `latent/mu`**\n",
    "- This is the distribution of the **means** predicted by the encoder for each latent variable.  \n",
    "- Ideally, they should cluster around zero if the KL regularization is working well (since prior is \\( N(0, I) \\)).  \n",
    "- If they drift too far away from zero, the KL term will increase to pull them back.\n",
    "\n",
    "---\n",
    "\n",
    "### **Bottom-right: `latent/z_sample`**\n",
    "- These are actual **samples of latent variables \\( z \\)**, drawn as \\( z = \\mu + \\sigma \\cdot \\epsilon \\) where \\( \\epsilon \\sim \\mathcal{N}(0, I) \\).  \n",
    "- This shows how the *effective latent space* looks during training.  \n",
    "- Should roughly follow a Gaussian distribution centered at zero, though skew or multimodality can appear if the VAE is strongly encoding structured information.\n",
    "\n",
    "---\n",
    "\n",
    "✅ **Putting it all together:**  \n",
    "- `latent/mu` + `latent/logvar` tell you what your encoder is outputting.  \n",
    "- `latent/z_sample` shows what you actually pass to the decoder.  \n",
    "- `latent/kl_var` tells you how far this is from the prior and whether your KL term is being respected.  \n",
    "\n",
    "---"
   ]
  },
  {
   "cell_type": "markdown",
   "id": "dde97990",
   "metadata": {},
   "source": [
    "## How you actually use the latent variable \\(z\\) once the VAE is trained.  \n",
    "\n",
    "---\n",
    "\n",
    "### 🔹 Recap: What the encoder produces\n",
    "For each input \\(x\\), the encoder outputs:\n",
    "- \\( \\mu(x) \\) → mean of the approximate posterior  \n",
    "- \\( \\log \\sigma^2(x) \\) → log-variance  \n",
    "\n",
    "So the latent posterior is:\n",
    "\\[\n",
    "q_\\phi(z|x) = \\mathcal{N}(z; \\mu(x), \\sigma^2(x) I)\n",
    "\\]\n",
    "\n",
    "And the reparameterization trick samples:\n",
    "\\[\n",
    "z = \\mu(x) + \\sigma(x) \\cdot \\epsilon, \\quad \\epsilon \\sim \\mathcal{N}(0, I)\n",
    "\\]\n",
    "\n",
    "---\n",
    "\n",
    "### 🔹 Two ways of using \\(z\\) at inference\n",
    "1. **Posterior mean (deterministic)**  \n",
    "   - Just take \\( z = \\mu(x) \\).  \n",
    "   - This ignores variance and gives the “most likely” latent code.  \n",
    "   - Useful if you want **stable reconstructions** (less noise).  \n",
    "   - Downside: you aren’t really sampling, so you might lose generative diversity.\n",
    "\n",
    "2. **Stochastic sample (sample)**  \n",
    "   - Actually draw \\( z \\) using the full distribution \\( \\mu(x), \\sigma(x) \\).  \n",
    "   - This adds noise according to the learned uncertainty.  \n",
    "   - More faithful to the probabilistic nature of the VAE.  \n",
    "   - Useful for **generation**, data augmentation, or exploring diversity.  \n",
    "\n",
    "---\n",
    "\n",
    "### 🔹 When to use which\n",
    "- **Reconstruction tasks** → use posterior mean (\\(z = \\mu(x)\\)) for sharper, more stable outputs.  \n",
    "- **Generative tasks / sampling** → use stochastic \\(z\\) so you capture the randomness and diversity.  \n",
    "- **Evaluation (e.g. ELBO)** → always stochastic, because that’s how the model was trained.  "
   ]
  },
  {
   "cell_type": "markdown",
   "id": "d89f3925",
   "metadata": {},
   "source": [
    "# Embedding Data"
   ]
  },
  {
   "cell_type": "code",
   "execution_count": 12,
   "id": "01be3408",
   "metadata": {},
   "outputs": [],
   "source": [
    "import numpy as np\n",
    "\n",
    "data_infer = '../data/vlm_embed/iiif_no_text_embedding_matrix.npy'\n",
    "\n",
    "\n",
    "X = np.load(data_infer, mmap_mode='r')\n",
    "# X = np.load(data_infer).astype(np.float32)\n",
    "# X_subset = X[np.random.choice(X.shape[0], 100000, replace=False)]\n"
   ]
  },
  {
   "cell_type": "markdown",
   "id": "3c88dc43",
   "metadata": {},
   "source": [
    "# VAE Latents"
   ]
  },
  {
   "cell_type": "code",
   "execution_count": null,
   "id": "fcee4ed8",
   "metadata": {},
   "outputs": [],
   "source": [
    "from wc_simd.vlm_embed_vae import VAE3DWrapper\n",
    "\n",
    "sample = False\n",
    "model_checkpoint = '../runs/vlm_embed_vae3d_light_8/vae3d.pt'\n",
    "wrapper = VAE3DWrapper(model_checkpoint)\n",
    "Z = wrapper.to3d(\n",
    "    X, use_mu=(not sample),\n",
    "    batch_size=64 * 1024)\n",
    "\n",
    "# construct output filename from model and input\n",
    "output_filename = f'../data/vlm_embed/iiif_no_text_embedding_matrix_{model_checkpoint.split(\"/\")[-2]}.npy'\n",
    "np.save(output_filename, Z)\n",
    "del Z, wrapper  # free memory"
   ]
  },
  {
   "cell_type": "code",
   "execution_count": 7,
   "id": "735224c9",
   "metadata": {},
   "outputs": [],
   "source": [
    "import numpy as np\n",
    "\n",
    "# data_file = output_filename\n",
    "data_file = \"../data/vlm_embed/iiif_no_text_embedding_matrix_vlm_embed_vae3d_light_8.npy\"\n",
    "# data_file = \"../data/vlm_embed/iiif_no_text_embedding_matrix_vlm_embed_ae3d_light_2.npy\"\n",
    "\n",
    "data = np.load(data_file, allow_pickle=True)\n"
   ]
  },
  {
   "cell_type": "markdown",
   "id": "c3741ed3",
   "metadata": {},
   "source": [
    "# Subset"
   ]
  },
  {
   "cell_type": "code",
   "execution_count": null,
   "id": "6eec1381",
   "metadata": {},
   "outputs": [],
   "source": [
    "\n",
    "subset_idx = np.random.choice(data.shape[0], 10000, replace=False)"
   ]
  },
  {
   "cell_type": "code",
   "execution_count": null,
   "id": "e276e4b2",
   "metadata": {},
   "outputs": [],
   "source": [
    "# Save subset_idx for later use\n",
    "# np.save(data_file.replace('.npy', '_subset_idx.npy'), subset_idx)"
   ]
  },
  {
   "cell_type": "code",
   "execution_count": 8,
   "id": "d4ac3168",
   "metadata": {},
   "outputs": [],
   "source": [
    "# Load subset_idx if needed\n",
    "subset_idx = np.load(data_file.replace('.npy', '_subset_idx.npy'))"
   ]
  },
  {
   "cell_type": "code",
   "execution_count": 9,
   "id": "3dbf42fb",
   "metadata": {},
   "outputs": [],
   "source": [
    "subset = data[subset_idx]\n",
    "del data"
   ]
  },
  {
   "cell_type": "markdown",
   "id": "a84f30bb",
   "metadata": {},
   "source": [
    "# Images"
   ]
  },
  {
   "cell_type": "code",
   "execution_count": 19,
   "id": "9f431e41",
   "metadata": {},
   "outputs": [
    {
     "data": {
      "text/html": [
       "<div>\n",
       "<style scoped>\n",
       "    .dataframe tbody tr th:only-of-type {\n",
       "        vertical-align: middle;\n",
       "    }\n",
       "\n",
       "    .dataframe tbody tr th {\n",
       "        vertical-align: top;\n",
       "    }\n",
       "\n",
       "    .dataframe thead th {\n",
       "        text-align: right;\n",
       "    }\n",
       "</style>\n",
       "<table border=\"1\" class=\"dataframe\">\n",
       "  <thead>\n",
       "    <tr style=\"text-align: right;\">\n",
       "      <th></th>\n",
       "      <th>image_id</th>\n",
       "    </tr>\n",
       "    <tr>\n",
       "      <th>row_index</th>\n",
       "      <th></th>\n",
       "    </tr>\n",
       "  </thead>\n",
       "  <tbody>\n",
       "    <tr>\n",
       "      <th>0</th>\n",
       "      <td>https://iiif.wellcomecollection.org/image/b199...</td>\n",
       "    </tr>\n",
       "    <tr>\n",
       "      <th>1</th>\n",
       "      <td>https://iiif.wellcomecollection.org/image/b322...</td>\n",
       "    </tr>\n",
       "    <tr>\n",
       "      <th>2</th>\n",
       "      <td>https://iiif.wellcomecollection.org/image/b184...</td>\n",
       "    </tr>\n",
       "    <tr>\n",
       "      <th>3</th>\n",
       "      <td>https://iiif.wellcomecollection.org/image/b292...</td>\n",
       "    </tr>\n",
       "    <tr>\n",
       "      <th>4</th>\n",
       "      <td>https://iiif.wellcomecollection.org/image/b185...</td>\n",
       "    </tr>\n",
       "    <tr>\n",
       "      <th>...</th>\n",
       "      <td>...</td>\n",
       "    </tr>\n",
       "    <tr>\n",
       "      <th>6261048</th>\n",
       "      <td>https://iiif.wellcomecollection.org/image/b183...</td>\n",
       "    </tr>\n",
       "    <tr>\n",
       "      <th>6261049</th>\n",
       "      <td>https://iiif.wellcomecollection.org/image/b249...</td>\n",
       "    </tr>\n",
       "    <tr>\n",
       "      <th>6261050</th>\n",
       "      <td>https://iiif.wellcomecollection.org/image/b199...</td>\n",
       "    </tr>\n",
       "    <tr>\n",
       "      <th>6261051</th>\n",
       "      <td>https://iiif.wellcomecollection.org/image/b289...</td>\n",
       "    </tr>\n",
       "    <tr>\n",
       "      <th>6261052</th>\n",
       "      <td>https://iiif.wellcomecollection.org/image/b304...</td>\n",
       "    </tr>\n",
       "  </tbody>\n",
       "</table>\n",
       "<p>6261053 rows × 1 columns</p>\n",
       "</div>"
      ],
      "text/plain": [
       "                                                    image_id\n",
       "row_index                                                   \n",
       "0          https://iiif.wellcomecollection.org/image/b199...\n",
       "1          https://iiif.wellcomecollection.org/image/b322...\n",
       "2          https://iiif.wellcomecollection.org/image/b184...\n",
       "3          https://iiif.wellcomecollection.org/image/b292...\n",
       "4          https://iiif.wellcomecollection.org/image/b185...\n",
       "...                                                      ...\n",
       "6261048    https://iiif.wellcomecollection.org/image/b183...\n",
       "6261049    https://iiif.wellcomecollection.org/image/b249...\n",
       "6261050    https://iiif.wellcomecollection.org/image/b199...\n",
       "6261051    https://iiif.wellcomecollection.org/image/b289...\n",
       "6261052    https://iiif.wellcomecollection.org/image/b304...\n",
       "\n",
       "[6261053 rows x 1 columns]"
      ]
     },
     "execution_count": 19,
     "metadata": {},
     "output_type": "execute_result"
    }
   ],
   "source": [
    "import pandas as pd\n",
    "\n",
    "df_image_indices = pd.read_parquet(\n",
    "    '../data/vlm_embed/iiif_no_text_embedding_index.parquet')\n",
    "df_image_indices = df_image_indices.set_index('row_index')\n",
    "df_image_indices"
   ]
  },
  {
   "cell_type": "code",
   "execution_count": 20,
   "id": "f6b613a4",
   "metadata": {},
   "outputs": [
    {
     "data": {
      "text/plain": [
       "array(['https://iiif.wellcomecollection.org/image/b19236475_0231.jp2/full/126,200/0/default.jpg',\n",
       "       'https://iiif.wellcomecollection.org/image/b17409408_SA_BGU_K_3_0380.jp2/full/133,200/0/default.jpg',\n",
       "       'https://iiif.wellcomecollection.org/image/b33225485_0014.jp2/full/134,200/0/default.jpg',\n",
       "       ...,\n",
       "       'https://iiif.wellcomecollection.org/image/b24940045_RET_3_3_2_20_0562.jp2/full/135,200/0/default.jpg',\n",
       "       'https://iiif.wellcomecollection.org/image/b24955814_RET_7_3_4_1_0171.jp2/full/141,200/0/default.jpg',\n",
       "       'https://iiif.wellcomecollection.org/image/b21896690_HB13_11_84_0309.JP2/full/200,133/0/default.jpg'],\n",
       "      dtype=object)"
      ]
     },
     "execution_count": 20,
     "metadata": {},
     "output_type": "execute_result"
    }
   ],
   "source": [
    "# select the image indices for the subset\n",
    "subset_images = df_image_indices.loc[subset_idx].values\n",
    "subset_images = np.reshape(subset_images, (-1))\n",
    "subset_images"
   ]
  },
  {
   "cell_type": "code",
   "execution_count": 7,
   "id": "68a4158e",
   "metadata": {},
   "outputs": [
    {
     "data": {
      "text/plain": [
       "array([[ 4.6896243, -2.099945 ],\n",
       "       [ 6.6148376, -1.1912392],\n",
       "       [ 7.548041 ,  5.1389513],\n",
       "       ...,\n",
       "       [ 2.8872833, 10.578426 ],\n",
       "       [-2.3613791,  3.4993334],\n",
       "       [ 7.287359 ,  1.714649 ]], dtype=float32)"
      ]
     },
     "execution_count": 7,
     "metadata": {},
     "output_type": "execute_result"
    }
   ],
   "source": [
    "import umap\n",
    "import plotly.express as px\n",
    "\n",
    "centered = subset - subset.mean(axis=0)\n",
    "U, S, Vt = np.linalg.svd(centered, full_matrices=False)\n",
    "whitened = centered @ Vt.T / S\n",
    "\n",
    "# UMAP\n",
    "umap_model = umap.UMAP(n_neighbors=15, n_components=2, metric='euclidean')\n",
    "umap_2d_embeddings = umap_model.fit_transform(whitened)\n",
    "umap_2d_embeddings"
   ]
  },
  {
   "cell_type": "markdown",
   "id": "871df71e",
   "metadata": {},
   "source": [
    "# Plot with Images"
   ]
  },
  {
   "cell_type": "code",
   "execution_count": 1,
   "id": "4294ff2f",
   "metadata": {},
   "outputs": [],
   "source": [
    "from io import BytesIO\n",
    "from PIL import Image, ImageOps\n",
    "import base64\n",
    "import requests\n",
    "import requests_cache\n",
    "\n",
    "\n",
    "from concurrent.futures import ThreadPoolExecutor, as_completed\n",
    "\n",
    "# Optional: on-disk HTTP cache (pip install requests-cache) to avoid\n",
    "# re-downloading\n",
    "try:\n",
    "    session = requests_cache.CachedSession(\n",
    "        'img_cache',\n",
    "        backend='sqlite',\n",
    "        expire_after=7 * 24 * 3600,  # 7 days\n",
    "        allowable_methods=('GET',),\n",
    "        allowable_codes=(200,),\n",
    "    )\n",
    "except Exception:\n",
    "    session = requests.Session()\n",
    "\n",
    "\n",
    "def embeddable_jpeg(url, max_side=512, timeout=10):\n",
    "    \"\"\"Fetch JPEG at URL, scale longest side to max_side (keep aspect), return data:image/jpeg;base64,...\"\"\"\n",
    "    r = session.get(url, timeout=timeout, stream=True)\n",
    "    r.raise_for_status()\n",
    "\n",
    "    # Decode + correct EXIF orientation\n",
    "    img = Image.open(r.raw)\n",
    "    img = ImageOps.exif_transpose(img).convert(\"RGB\")\n",
    "\n",
    "    # Scale proportionally: longest side = max_side\n",
    "    w, h = img.size\n",
    "    scale = max_side / max(w, h) if max(w, h) > max_side else 1.0\n",
    "    if scale != 1.0:\n",
    "        img = img.resize((int(w * scale), int(h * scale)),\n",
    "                         Image.Resampling.LANCZOS)\n",
    "\n",
    "    # Encode JPEG efficiently (smaller payloads = faster base64 + render)\n",
    "    buf = BytesIO()\n",
    "    img.save(buf, format=\"JPEG\", quality=70, optimize=True, progressive=True)\n",
    "    return \"data:image/jpeg;base64,\" + \\\n",
    "        base64.b64encode(buf.getvalue()).decode()\n",
    "\n",
    "\n",
    "def batch_embeddable_jpeg(urls, max_side=512, max_workers=16, timeout=10):\n",
    "    \"\"\"Deduplicate, parallelize, and preserve order.\"\"\"\n",
    "    # Deduplicate to avoid repeated downloads\n",
    "    unique_urls = list(dict.fromkeys(urls))\n",
    "    results_map = {}\n",
    "\n",
    "    def _wrap(u):\n",
    "        try:\n",
    "            return u, embeddable_jpeg(u, max_side=max_side, timeout=timeout)\n",
    "        except Exception:\n",
    "            return u, None  # or a tiny placeholder\n",
    "\n",
    "    with ThreadPoolExecutor(max_workers=max_workers) as ex:\n",
    "        futs = [ex.submit(_wrap, u) for u in unique_urls]\n",
    "        for fut in as_completed(futs):\n",
    "            u, val = fut.result()\n",
    "            results_map[u] = val\n",
    "\n",
    "    # Re-expand to original order\n",
    "    return [results_map.get(u) for u in urls]\n",
    "\n",
    "# Normalize whitened x, y, z to [0, 1] for RGB\n",
    "\n",
    "\n",
    "def normalize(arr):\n",
    "    min_val = arr.min()\n",
    "    max_val = arr.max()\n",
    "    return (arr - min_val) / (max_val - min_val + 1e-8)\n",
    "\n",
    "# Convert to hex color\n",
    "def rgb_to_hex(r, g, b):\n",
    "    return ['#%02x%02x%02x' % (int(255 * x), int(255 * y), int(255 * z))\n",
    "            for x, y, z in zip(r, g, b)]"
   ]
  },
  {
   "cell_type": "code",
   "execution_count": 26,
   "id": "93ca41ae",
   "metadata": {},
   "outputs": [],
   "source": [
    "images_df = pd.DataFrame(umap_2d_embeddings, columns=('x', 'y'))\n",
    "images_df['image'] = batch_embeddable_jpeg(\n",
    "    subset_images, max_side=512, max_workers=16)\n",
    "images_df['idx'] = subset_idx"
   ]
  },
  {
   "cell_type": "code",
   "execution_count": null,
   "id": "53401c37",
   "metadata": {},
   "outputs": [],
   "source": [
    "r = normalize(whitened[:, 0])\n",
    "g = normalize(whitened[:, 1])\n",
    "b = normalize(whitened[:, 2])\n",
    "\n",
    "images_df['color'] = rgb_to_hex(r, g, b)"
   ]
  },
  {
   "cell_type": "code",
   "execution_count": 28,
   "id": "dd3ba352",
   "metadata": {},
   "outputs": [],
   "source": [
    "# Write parquet\n",
    "images_df.to_parquet('../data/vlm_embed/iiif_no_text_umap_2d_vlm_embed_vae3d_light_8_umap_2d_plot.parquet')"
   ]
  },
  {
   "cell_type": "code",
   "execution_count": 3,
   "id": "70a868be",
   "metadata": {},
   "outputs": [],
   "source": [
    "import pandas as pd\n",
    "# Load the data\n",
    "images_df = pd.read_parquet(\n",
    "    '../data/vlm_embed/iiif_no_text_umap_2d_vlm_embed_vae3d_light_8_umap_2d_plot.parquet')"
   ]
  },
  {
   "cell_type": "code",
   "execution_count": 4,
   "id": "701abe8a",
   "metadata": {},
   "outputs": [
    {
     "data": {
      "text/html": [
       "    <style>\n",
       "        .bk-notebook-logo {\n",
       "            display: block;\n",
       "            width: 20px;\n",
       "            height: 20px;\n",
       "            background-image: url(data:image/png;base64,iVBORw0KGgoAAAANSUhEUgAAABQAAAAUCAYAAACNiR0NAAAABHNCSVQICAgIfAhkiAAAAAlwSFlzAAALEgAACxIB0t1+/AAAABx0RVh0U29mdHdhcmUAQWRvYmUgRmlyZXdvcmtzIENTNui8sowAAAOkSURBVDiNjZRtaJVlGMd/1/08zzln5zjP1LWcU9N0NkN8m2CYjpgQYQXqSs0I84OLIC0hkEKoPtiH3gmKoiJDU7QpLgoLjLIQCpEsNJ1vqUOdO7ppbuec5+V+rj4ctwzd8IIbbi6u+8f1539dt3A78eXC7QizUF7gyV1fD1Yqg4JWz84yffhm0qkFqBogB9rM8tZdtwVsPUhWhGcFJngGeWrPzHm5oaMmkfEg1usvLFyc8jLRqDOMru7AyC8saQr7GG7f5fvDeH7Ej8CM66nIF+8yngt6HWaKh7k49Soy9nXurCi1o3qUbS3zWfrYeQDTB/Qj6kX6Ybhw4B+bOYoLKCC9H3Nu/leUTZ1JdRWkkn2ldcCamzrcf47KKXdAJllSlxAOkRgyHsGC/zRday5Qld9DyoM4/q/rUoy/CXh3jzOu3bHUVZeU+DEn8FInkPBFlu3+nW3Nw0mk6vCDiWg8CeJaxEwuHS3+z5RgY+YBR6V1Z1nxSOfoaPa4LASWxxdNp+VWTk7+4vzaou8v8PN+xo+KY2xsw6une2frhw05CTYOmQvsEhjhWjn0bmXPjpE1+kplmmkP3suftwTubK9Vq22qKmrBhpY4jvd5afdRA3wGjFAgcnTK2s4hY0/GPNIb0nErGMCRxWOOX64Z8RAC4oCXdklmEvcL8o0BfkNK4lUg9HTl+oPlQxdNo3Mg4Nv175e/1LDGzZen30MEjRUtmXSfiTVu1kK8W4txyV6BMKlbgk3lMwYCiusNy9fVfvvwMxv8Ynl6vxoByANLTWplvuj/nF9m2+PDtt1eiHPBr1oIfhCChQMBw6Aw0UulqTKZdfVvfG7VcfIqLG9bcldL/+pdWTLxLUy8Qq38heUIjh4XlzZxzQm19lLFlr8vdQ97rjZVOLf8nclzckbcD4wxXMidpX30sFd37Fv/GtwwhzhxGVAprjbg0gCAEeIgwCZyTV2Z1REEW8O4py0wsjeloKoMr6iCY6dP92H6Vw/oTyICIthibxjm/DfN9lVz8IqtqKYLUXfoKVMVQVVJOElGjrnnUt9T9wbgp8AyYKaGlqingHZU/uG2NTZSVqwHQTWkx9hxjkpWDaCg6Ckj5qebgBVbT3V3NNXMSiWSDdGV3hrtzla7J+duwPOToIg42ChPQOQjspnSlp1V+Gjdged7+8UN5CRAV7a5EdFNwCjEaBR27b3W890TE7g24NAP/mMDXRWrGoFPQI9ls/MWO2dWFAar/xcOIImbbpA3zgAAAABJRU5ErkJggg==);\n",
       "        }\n",
       "    </style>\n",
       "    <div>\n",
       "        <a href=\"https://bokeh.org\" target=\"_blank\" class=\"bk-notebook-logo\"></a>\n",
       "        <span id=\"f5ba9a31-bdc2-462c-94d4-e63ac9310e3c\">Loading BokehJS ...</span>\n",
       "    </div>\n"
      ]
     },
     "metadata": {},
     "output_type": "display_data"
    },
    {
     "data": {
      "application/javascript": "'use strict';\n(function(root) {\n  function now() {\n    return new Date();\n  }\n\n  const force = true;\n\n  if (typeof root._bokeh_onload_callbacks === \"undefined\" || force === true) {\n    root._bokeh_onload_callbacks = [];\n    root._bokeh_is_loading = undefined;\n  }\n\nconst JS_MIME_TYPE = 'application/javascript';\n  const HTML_MIME_TYPE = 'text/html';\n  const EXEC_MIME_TYPE = 'application/vnd.bokehjs_exec.v0+json';\n  const CLASS_NAME = 'output_bokeh rendered_html';\n\n  /**\n   * Render data to the DOM node\n   */\n  function render(props, node) {\n    const script = document.createElement(\"script\");\n    node.appendChild(script);\n  }\n\n  /**\n   * Handle when an output is cleared or removed\n   */\n  function handleClearOutput(event, handle) {\n    function drop(id) {\n      const view = Bokeh.index.get_by_id(id)\n      if (view != null) {\n        view.model.document.clear()\n        Bokeh.index.delete(view)\n      }\n    }\n\n    const cell = handle.cell;\n\n    const id = cell.output_area._bokeh_element_id;\n    const server_id = cell.output_area._bokeh_server_id;\n\n    // Clean up Bokeh references\n    if (id != null) {\n      drop(id)\n    }\n\n    if (server_id !== undefined) {\n      // Clean up Bokeh references\n      const cmd_clean = \"from bokeh.io.state import curstate; print(curstate().uuid_to_server['\" + server_id + \"'].get_sessions()[0].document.roots[0]._id)\";\n      cell.notebook.kernel.execute(cmd_clean, {\n        iopub: {\n          output: function(msg) {\n            const id = msg.content.text.trim()\n            drop(id)\n          }\n        }\n      });\n      // Destroy server and session\n      const cmd_destroy = \"import bokeh.io.notebook as ion; ion.destroy_server('\" + server_id + \"')\";\n      cell.notebook.kernel.execute(cmd_destroy);\n    }\n  }\n\n  /**\n   * Handle when a new output is added\n   */\n  function handleAddOutput(event, handle) {\n    const output_area = handle.output_area;\n    const output = handle.output;\n\n    // limit handleAddOutput to display_data with EXEC_MIME_TYPE content only\n    if ((output.output_type != \"display_data\") || (!Object.prototype.hasOwnProperty.call(output.data, EXEC_MIME_TYPE))) {\n      return\n    }\n\n    const toinsert = output_area.element.find(\".\" + CLASS_NAME.split(' ')[0]);\n\n    if (output.metadata[EXEC_MIME_TYPE][\"id\"] !== undefined) {\n      toinsert[toinsert.length - 1].firstChild.textContent = output.data[JS_MIME_TYPE];\n      // store reference to embed id on output_area\n      output_area._bokeh_element_id = output.metadata[EXEC_MIME_TYPE][\"id\"];\n    }\n    if (output.metadata[EXEC_MIME_TYPE][\"server_id\"] !== undefined) {\n      const bk_div = document.createElement(\"div\");\n      bk_div.innerHTML = output.data[HTML_MIME_TYPE];\n      const script_attrs = bk_div.children[0].attributes;\n      for (let i = 0; i < script_attrs.length; i++) {\n        toinsert[toinsert.length - 1].firstChild.setAttribute(script_attrs[i].name, script_attrs[i].value);\n        toinsert[toinsert.length - 1].firstChild.textContent = bk_div.children[0].textContent\n      }\n      // store reference to server id on output_area\n      output_area._bokeh_server_id = output.metadata[EXEC_MIME_TYPE][\"server_id\"];\n    }\n  }\n\n  function register_renderer(events, OutputArea) {\n\n    function append_mime(data, metadata, element) {\n      // create a DOM node to render to\n      const toinsert = this.create_output_subarea(\n        metadata,\n        CLASS_NAME,\n        EXEC_MIME_TYPE\n      );\n      this.keyboard_manager.register_events(toinsert);\n      // Render to node\n      const props = {data: data, metadata: metadata[EXEC_MIME_TYPE]};\n      render(props, toinsert[toinsert.length - 1]);\n      element.append(toinsert);\n      return toinsert\n    }\n\n    /* Handle when an output is cleared or removed */\n    events.on('clear_output.CodeCell', handleClearOutput);\n    events.on('delete.Cell', handleClearOutput);\n\n    /* Handle when a new output is added */\n    events.on('output_added.OutputArea', handleAddOutput);\n\n    /**\n     * Register the mime type and append_mime function with output_area\n     */\n    OutputArea.prototype.register_mime_type(EXEC_MIME_TYPE, append_mime, {\n      /* Is output safe? */\n      safe: true,\n      /* Index of renderer in `output_area.display_order` */\n      index: 0\n    });\n  }\n\n  // register the mime type if in Jupyter Notebook environment and previously unregistered\n  if (root.Jupyter !== undefined) {\n    const events = require('base/js/events');\n    const OutputArea = require('notebook/js/outputarea').OutputArea;\n\n    if (OutputArea.prototype.mime_types().indexOf(EXEC_MIME_TYPE) == -1) {\n      register_renderer(events, OutputArea);\n    }\n  }\n  if (typeof (root._bokeh_timeout) === \"undefined\" || force === true) {\n    root._bokeh_timeout = Date.now() + 5000;\n    root._bokeh_failed_load = false;\n  }\n\n  const NB_LOAD_WARNING = {'data': {'text/html':\n     \"<div style='background-color: #fdd'>\\n\"+\n     \"<p>\\n\"+\n     \"BokehJS does not appear to have successfully loaded. If loading BokehJS from CDN, this \\n\"+\n     \"may be due to a slow or bad network connection. Possible fixes:\\n\"+\n     \"</p>\\n\"+\n     \"<ul>\\n\"+\n     \"<li>re-rerun `output_notebook()` to attempt to load from CDN again, or</li>\\n\"+\n     \"<li>use INLINE resources instead, as so:</li>\\n\"+\n     \"</ul>\\n\"+\n     \"<code>\\n\"+\n     \"from bokeh.resources import INLINE\\n\"+\n     \"output_notebook(resources=INLINE)\\n\"+\n     \"</code>\\n\"+\n     \"</div>\"}};\n\n  function display_loaded(error = null) {\n    const el = document.getElementById(\"f5ba9a31-bdc2-462c-94d4-e63ac9310e3c\");\n    if (el != null) {\n      const html = (() => {\n        if (typeof root.Bokeh === \"undefined\") {\n          if (error == null) {\n            return \"BokehJS is loading ...\";\n          } else {\n            return \"BokehJS failed to load.\";\n          }\n        } else {\n          const prefix = `BokehJS ${root.Bokeh.version}`;\n          if (error == null) {\n            return `${prefix} successfully loaded.`;\n          } else {\n            return `${prefix} <b>encountered errors</b> while loading and may not function as expected.`;\n          }\n        }\n      })();\n      el.innerHTML = html;\n\n      if (error != null) {\n        const wrapper = document.createElement(\"div\");\n        wrapper.style.overflow = \"auto\";\n        wrapper.style.height = \"5em\";\n        wrapper.style.resize = \"vertical\";\n        const content = document.createElement(\"div\");\n        content.style.fontFamily = \"monospace\";\n        content.style.whiteSpace = \"pre-wrap\";\n        content.style.backgroundColor = \"rgb(255, 221, 221)\";\n        content.textContent = error.stack ?? error.toString();\n        wrapper.append(content);\n        el.append(wrapper);\n      }\n    } else if (Date.now() < root._bokeh_timeout) {\n      setTimeout(() => display_loaded(error), 100);\n    }\n  }\n\n  function run_callbacks() {\n    try {\n      root._bokeh_onload_callbacks.forEach(function(callback) {\n        if (callback != null)\n          callback();\n      });\n    } finally {\n      delete root._bokeh_onload_callbacks\n    }\n    console.debug(\"Bokeh: all callbacks have finished\");\n  }\n\n  function load_libs(css_urls, js_urls, callback) {\n    if (css_urls == null) css_urls = [];\n    if (js_urls == null) js_urls = [];\n\n    root._bokeh_onload_callbacks.push(callback);\n    if (root._bokeh_is_loading > 0) {\n      console.debug(\"Bokeh: BokehJS is being loaded, scheduling callback at\", now());\n      return null;\n    }\n    if (js_urls == null || js_urls.length === 0) {\n      run_callbacks();\n      return null;\n    }\n    console.debug(\"Bokeh: BokehJS not loaded, scheduling load and callback at\", now());\n    root._bokeh_is_loading = css_urls.length + js_urls.length;\n\n    function on_load() {\n      root._bokeh_is_loading--;\n      if (root._bokeh_is_loading === 0) {\n        console.debug(\"Bokeh: all BokehJS libraries/stylesheets loaded\");\n        run_callbacks()\n      }\n    }\n\n    function on_error(url) {\n      console.error(\"failed to load \" + url);\n    }\n\n    for (let i = 0; i < css_urls.length; i++) {\n      const url = css_urls[i];\n      const element = document.createElement(\"link\");\n      element.onload = on_load;\n      element.onerror = on_error.bind(null, url);\n      element.rel = \"stylesheet\";\n      element.type = \"text/css\";\n      element.href = url;\n      console.debug(\"Bokeh: injecting link tag for BokehJS stylesheet: \", url);\n      document.body.appendChild(element);\n    }\n\n    for (let i = 0; i < js_urls.length; i++) {\n      const url = js_urls[i];\n      const element = document.createElement('script');\n      element.onload = on_load;\n      element.onerror = on_error.bind(null, url);\n      element.async = false;\n      element.src = url;\n      console.debug(\"Bokeh: injecting script tag for BokehJS library: \", url);\n      document.head.appendChild(element);\n    }\n  };\n\n  function inject_raw_css(css) {\n    const element = document.createElement(\"style\");\n    element.appendChild(document.createTextNode(css));\n    document.body.appendChild(element);\n  }\n\n  const js_urls = [\"https://cdn.bokeh.org/bokeh/release/bokeh-3.8.0.min.js\", \"https://cdn.bokeh.org/bokeh/release/bokeh-gl-3.8.0.min.js\", \"https://cdn.bokeh.org/bokeh/release/bokeh-widgets-3.8.0.min.js\", \"https://cdn.bokeh.org/bokeh/release/bokeh-tables-3.8.0.min.js\", \"https://cdn.bokeh.org/bokeh/release/bokeh-mathjax-3.8.0.min.js\"];\n  const css_urls = [];\n\n  const inline_js = [    function(Bokeh) {\n      Bokeh.set_log_level(\"info\");\n    },\nfunction(Bokeh) {\n    }\n  ];\n\n  function run_inline_js() {\n    if (root.Bokeh !== undefined || force === true) {\n      try {\n            for (let i = 0; i < inline_js.length; i++) {\n      inline_js[i].call(root, root.Bokeh);\n    }\n\n      } catch (error) {display_loaded(error);throw error;\n      }if (force === true) {\n        display_loaded();\n      }} else if (Date.now() < root._bokeh_timeout) {\n      setTimeout(run_inline_js, 100);\n    } else if (!root._bokeh_failed_load) {\n      console.log(\"Bokeh: BokehJS failed to load within specified timeout.\");\n      root._bokeh_failed_load = true;\n    } else if (force !== true) {\n      const cell = $(document.getElementById(\"f5ba9a31-bdc2-462c-94d4-e63ac9310e3c\")).parents('.cell').data().cell;\n      cell.output_area.append_execute_result(NB_LOAD_WARNING)\n    }\n  }\n\n  if (root._bokeh_is_loading === 0) {\n    console.debug(\"Bokeh: BokehJS loaded, going straight to plotting\");\n    run_inline_js();\n  } else {\n    load_libs(css_urls, js_urls, function() {\n      console.debug(\"Bokeh: BokehJS plotting callback run at\", now());\n      run_inline_js();\n    });\n  }\n}(window));",
      "application/vnd.bokehjs_load.v0+json": ""
     },
     "metadata": {},
     "output_type": "display_data"
    }
   ],
   "source": [
    "from bokeh.plotting import figure, show, output_notebook\n",
    "from bokeh.models import HoverTool, ColumnDataSource, CategoricalColorMapper\n",
    "from bokeh.palettes import Spectral10\n",
    "\n",
    "output_notebook()"
   ]
  },
  {
   "cell_type": "code",
   "execution_count": 5,
   "id": "abb2c2a0",
   "metadata": {},
   "outputs": [
    {
     "data": {
      "text/html": [
       "<div style=\"display: table;\"><div style=\"display: table-row;\"><div style=\"display: table-cell;\"><b title=\"bokeh.models.renderers.glyph_renderer.GlyphRenderer\">GlyphRenderer</b>(</div><div style=\"display: table-cell;\">id&nbsp;=&nbsp;'p1043', <span id=\"p1047\" style=\"cursor: pointer;\">&hellip;)</span></div></div><div class=\"p1046\" style=\"display: none;\"><div style=\"display: table-cell;\"></div><div style=\"display: table-cell;\">context_menu&nbsp;=&nbsp;None,</div></div><div class=\"p1046\" style=\"display: none;\"><div style=\"display: table-cell;\"></div><div style=\"display: table-cell;\">coordinates&nbsp;=&nbsp;None,</div></div><div class=\"p1046\" style=\"display: none;\"><div style=\"display: table-cell;\"></div><div style=\"display: table-cell;\">css_classes&nbsp;=&nbsp;[],</div></div><div class=\"p1046\" style=\"display: none;\"><div style=\"display: table-cell;\"></div><div style=\"display: table-cell;\">css_variables&nbsp;=&nbsp;{},</div></div><div class=\"p1046\" style=\"display: none;\"><div style=\"display: table-cell;\"></div><div style=\"display: table-cell;\">data_source&nbsp;=&nbsp;ColumnDataSource(id='p1008', ...),</div></div><div class=\"p1046\" style=\"display: none;\"><div style=\"display: table-cell;\"></div><div style=\"display: table-cell;\">glyph&nbsp;=&nbsp;Scatter(id='p1040', ...),</div></div><div class=\"p1046\" style=\"display: none;\"><div style=\"display: table-cell;\"></div><div style=\"display: table-cell;\">group&nbsp;=&nbsp;None,</div></div><div class=\"p1046\" style=\"display: none;\"><div style=\"display: table-cell;\"></div><div style=\"display: table-cell;\">hover_glyph&nbsp;=&nbsp;None,</div></div><div class=\"p1046\" style=\"display: none;\"><div style=\"display: table-cell;\"></div><div style=\"display: table-cell;\">html_attributes&nbsp;=&nbsp;{},</div></div><div class=\"p1046\" style=\"display: none;\"><div style=\"display: table-cell;\"></div><div style=\"display: table-cell;\">html_id&nbsp;=&nbsp;None,</div></div><div class=\"p1046\" style=\"display: none;\"><div style=\"display: table-cell;\"></div><div style=\"display: table-cell;\">js_event_callbacks&nbsp;=&nbsp;{},</div></div><div class=\"p1046\" style=\"display: none;\"><div style=\"display: table-cell;\"></div><div style=\"display: table-cell;\">js_property_callbacks&nbsp;=&nbsp;{},</div></div><div class=\"p1046\" style=\"display: none;\"><div style=\"display: table-cell;\"></div><div style=\"display: table-cell;\">level&nbsp;=&nbsp;'glyph',</div></div><div class=\"p1046\" style=\"display: none;\"><div style=\"display: table-cell;\"></div><div style=\"display: table-cell;\">muted&nbsp;=&nbsp;False,</div></div><div class=\"p1046\" style=\"display: none;\"><div style=\"display: table-cell;\"></div><div style=\"display: table-cell;\">muted_glyph&nbsp;=&nbsp;Scatter(id='p1042', ...),</div></div><div class=\"p1046\" style=\"display: none;\"><div style=\"display: table-cell;\"></div><div style=\"display: table-cell;\">name&nbsp;=&nbsp;None,</div></div><div class=\"p1046\" style=\"display: none;\"><div style=\"display: table-cell;\"></div><div style=\"display: table-cell;\">nonselection_glyph&nbsp;=&nbsp;Scatter(id='p1041', ...),</div></div><div class=\"p1046\" style=\"display: none;\"><div style=\"display: table-cell;\"></div><div style=\"display: table-cell;\">propagate_hover&nbsp;=&nbsp;False,</div></div><div class=\"p1046\" style=\"display: none;\"><div style=\"display: table-cell;\"></div><div style=\"display: table-cell;\">selection_glyph&nbsp;=&nbsp;'auto',</div></div><div class=\"p1046\" style=\"display: none;\"><div style=\"display: table-cell;\"></div><div style=\"display: table-cell;\">styles&nbsp;=&nbsp;{},</div></div><div class=\"p1046\" style=\"display: none;\"><div style=\"display: table-cell;\"></div><div style=\"display: table-cell;\">stylesheets&nbsp;=&nbsp;[],</div></div><div class=\"p1046\" style=\"display: none;\"><div style=\"display: table-cell;\"></div><div style=\"display: table-cell;\">subscribed_events&nbsp;=&nbsp;PropertyValueSet(),</div></div><div class=\"p1046\" style=\"display: none;\"><div style=\"display: table-cell;\"></div><div style=\"display: table-cell;\">syncable&nbsp;=&nbsp;True,</div></div><div class=\"p1046\" style=\"display: none;\"><div style=\"display: table-cell;\"></div><div style=\"display: table-cell;\">tags&nbsp;=&nbsp;[],</div></div><div class=\"p1046\" style=\"display: none;\"><div style=\"display: table-cell;\"></div><div style=\"display: table-cell;\">view&nbsp;=&nbsp;CDSView(id='p1044', ...),</div></div><div class=\"p1046\" style=\"display: none;\"><div style=\"display: table-cell;\"></div><div style=\"display: table-cell;\">visible&nbsp;=&nbsp;True,</div></div><div class=\"p1046\" style=\"display: none;\"><div style=\"display: table-cell;\"></div><div style=\"display: table-cell;\">x_range_name&nbsp;=&nbsp;'default',</div></div><div class=\"p1046\" style=\"display: none;\"><div style=\"display: table-cell;\"></div><div style=\"display: table-cell;\">y_range_name&nbsp;=&nbsp;'default')</div></div></div>\n",
       "<script>\n",
       "(function() {\n",
       "  let expanded = false;\n",
       "  const ellipsis = document.getElementById(\"p1047\");\n",
       "  ellipsis.addEventListener(\"click\", function() {\n",
       "    const rows = document.getElementsByClassName(\"p1046\");\n",
       "    for (let i = 0; i < rows.length; i++) {\n",
       "      const el = rows[i];\n",
       "      el.style.display = expanded ? \"none\" : \"table-row\";\n",
       "    }\n",
       "    ellipsis.innerHTML = expanded ? \"&hellip;)\" : \"&lsaquo;&lsaquo;&lsaquo;\";\n",
       "    expanded = !expanded;\n",
       "  });\n",
       "})();\n",
       "</script>\n"
      ],
      "text/plain": [
       "GlyphRenderer(id='p1043', ...)"
      ]
     },
     "execution_count": 5,
     "metadata": {},
     "output_type": "execute_result"
    }
   ],
   "source": [
    "datasource = ColumnDataSource(images_df)\n",
    "\n",
    "plot_figure = figure(\n",
    "    title='UMAP projection of the IIIF non-ocr dataset',\n",
    "    width=1920,\n",
    "    height=1080,\n",
    "    tools=('pan, wheel_zoom, reset')\n",
    ")\n",
    "\n",
    "plot_figure.add_tools(HoverTool(tooltips=\"\"\"\n",
    "<div>\n",
    "    <div>\n",
    "        <img src='@image' style='float: left; margin: 5px 5px 5px 5px'/>\n",
    "    </div>\n",
    "    <div>\n",
    "        <span style='font-size: 16px; color: #224499'>idx:</span>\n",
    "        <span style='font-size: 18px'>@idx</span>\n",
    "    </div>\n",
    "</div>\n",
    "\"\"\"))\n",
    "\n",
    "\n",
    "plot_figure.scatter(\n",
    "    'x',\n",
    "    'y',\n",
    "    source=datasource,\n",
    "    line_alpha=0.5,\n",
    "    fill_alpha=0.5,\n",
    "    size=5,\n",
    "    color='color'\n",
    ")\n",
    "# show(plot_figure)"
   ]
  },
  {
   "cell_type": "code",
   "execution_count": 6,
   "id": "c3641d7f",
   "metadata": {},
   "outputs": [
    {
     "name": "stdout",
     "output_type": "stream",
     "text": [
      "Wrote iiif_no_text_umap_2d_vlm_embed_vae3d_light_8_umap_2d_plot.html (INLINE resources).\n",
      "File size (MB): 151.71511268615723\n"
     ]
    }
   ],
   "source": [
    "import os\n",
    "from bokeh.embed import file_html\n",
    "from bokeh.resources import INLINE\n",
    "\n",
    "html = file_html(plot_figure, resources=INLINE, title=\"UMAP projection\")\n",
    "out_path = \"iiif_no_text_umap_2d_vlm_embed_vae3d_light_8_umap_2d_plot.html\"\n",
    "with open(out_path, \"w\", encoding=\"utf-8\") as f:\n",
    "    f.write(html)\n",
    "\n",
    "print(f\"Wrote {out_path} (INLINE resources).\")\n",
    "# Optional size check\n",
    "print(\"File size (MB):\", os.path.getsize(out_path) / (1024 * 1024))"
   ]
  },
  {
   "cell_type": "markdown",
   "id": "f0c2642a",
   "metadata": {},
   "source": [
    "# Whitened Data"
   ]
  },
  {
   "cell_type": "code",
   "execution_count": 10,
   "id": "1f716346",
   "metadata": {},
   "outputs": [
    {
     "data": {
      "application/vnd.plotly.v1+json": {
       "config": {
        "plotlyServerURL": "https://plot.ly"
       },
       "data": [
        {
         "hovertemplate": "x=%{x}<br>y=%{y}<br>z=%{z}<extra></extra>",
         "legendgroup": "",
         "marker": {
          "color": "#636efa",
          "opacity": 0.4,
          "size": 2,
          "symbol": "circle"
         },
         "mode": "markers",
         "name": "",
         "scene": "scene",
         "showlegend": false,
         "type": "scatter3d",
         "x": {
          "bdata": "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",
          "dtype": "f4"
         },
         "y": {
          "bdata": "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",
          "dtype": "f4"
         },
         "z": {
          "bdata": "0SUlPGYXBTwHPdO88kQnPCWRUTvXZ5U7bJ1yPJSydzzqAyC7zDTdO3nsgDyXbCu4CWeIuy3QqrtWeHu6h2zPO6EkRboRhY+7WMYKO3RK8ru+TxA84XiCPMtveTsihzs8Fn+ZO3gBHjvvaRC8ikd/vNxWGrug0485lQtiPLg9krx/u7i7GdmUO5Dphzy+M2u81Vh9vMa2gTtdqia6CveYPAPgITtIrwU6fCEjvIzLErzm0vS6qHo6PPWk4Dtdg1U72Vt5OtivKbxSqGM7QGEWvAtEELyLb8y7eWSRu/fHSLz0uLK7Zo0HO3UcfDzwAoa7D1nUO5ff3DtQ2Sy8MgdIPCdIErtgI3o7MDOiOWTrTbyccdg7AKOpuhjHVDyrh+M5tGBpvNAvLbxvYcY6plUWvKuINLvPRSW8T3J0u5H41TpVfFe8apdlPMXrejvTHfe7mfQYO1LPWTzWopQ8Fe1IvGZga7wff0g7v/r4O5VNh7wRo4g8WP0YOx0AsrxOV7w7E6esu9aM17pvqxY6JacaPEQ+7DuadO07WBxGuyknWjw97pg6JXg7PI19uDm6rbG8avLOuxw9wrojTZ863oyYutvuIzxHQvo7+weUO97fdjzBsC+8wHSQOkLmcjlqCxS7bbNku+DY3DuH0gM7VHJQPM+l37ySZpI7xH0GvDBazLo34mA7Wr2SPANKBDx7W0Y87pOQOwgToLvGgoi6+Dh0vPUU6Lsf0pm8L8QKvL+Cqjt2aji7miuuuwpJKTy4yWI8NRSJu58wbjzLAwO8gxJRO4HGRLtAt2o8hc4gvGmhxLnJRoY8FCXku2gawztGLrO8KLyeOoCejrw/ehC8GhHfO6P9H7svdE67KmqRuw17e7yzZ/u7PCmAvDR0UTxpUgi8NVXHOktw+roL8AA8HutkvPM81bsSTz682FPbuqJxe7rsV3Y8gGYcvMhWEjzWT1Y6dSyQO5m5irvLSjU8Hh26vJb0s7meCiW846mou0IrnjuMwLo7U2QrO/IbcrvtI1o7CAe+O+Kw67rXCK26/1ZUvJSJVboCRAI6YAl1O/Zgjzr33AA6oI10PLEwjTx6Ghq8DUSJPDWWRLuwxg8804BlPEo0YTzYsMK7Iz15PHKhGzyQJ+q7aeUlvIa8HLygNG06+DYuO6qExjk8PRi9eF7COzyZyzpCMUc7WA4/u7p+crvvLyc8LO/sugihwrwGgcW8q+7cuyiGjzu+ERa8ptHmuhDqwzuomlY8XcpLPCoMmzsQzY48KY0KvJ3lFjzzZwk8OTsYPLtBJjyl0nQ8QwyNu2xtDTzGb5G7JhsWPKBhYbuScFo8IeAoO9ZE07snoCI7McjZOpUC0rrI87C8mKaGOrhhjjz5vIi8s2CJuu4Ew7ulZYA8g9oEvAALarw/ooY8XDExvKrrBbpYdeA7Y3Pzu3LPvrpswRk7eTE4vJ1Ilrqv33+6TUP4O6KKxTvFEcc757MuO4729DtmNfk6TxXPOyZBaLrS5Ss7Aj48uxHiKDzald07K0FUO0bA37sILXC6LklBvH1bdDuuK7A7sQ+NumamijzIhD+79OWGPPVzJTueN3E8i1UnvKyYPDw/V8g7YwULPJuXHjwI+7a7a0t2vIweqrvat0g8+E7Hu6+xUbw++jw765ObujSRODs4Mpe7td5wO/kONrxTZmq8ZiuFOxGGaTyv3Iq7ST4BPLEf6rtUHeE7pfqqu0y0LTkw3GM8yG6UPPFcFTwmFTk8YHKLuy5PxDsWY0S86kmcPMGttbsFvbk7yt7pu6SxSrypkpU8l3ZJvDg5J7xY4z07LCXlunDfOjo+/LY7Efe4PKrlm7kQKoO7/G6PO5o1jzwqCPO7vsR5PCKOP7wTGt26eJc+vAqVDTzhHXM7R9eovJNcozoLVgI8xFDQOyymKDyVCmA7t/nHu6VYgbxThbI7p6NcPMo0ljtS+tw6wwBPPJkMTTz4Acq7Cp8nOxj41rsdQ3i89OBevJbzEjztmfa7aeuCO1h5eLwG1Fk85gbKO/3NJryLhAs8wVBbO/CXG7wOwzA8CvmgvKXMzzsEGwG8rwRDPPXULDxDNT67yZ8hOw9KMTsi8Qk8Kb0xO3dpjLzqQBG7vVkSuu2Auzphmhk8GBtvuqdbUrxvYDs8Zwfru5eFgbs/U6U8aw8zO6vKGDzMurm525JvvBzpCrxtxCi8hRYBvI/1ozs+mtw76UpRuYeCfrqooro8bDAjO3EQPDpMjo66cB6dvCtk8jo6KpC7O68Ru+Q2KjxymEm8wx5buo/MyDpDDh+8/5GIuxuMgLwNxCS6Dw7IPJqn7jtVnIM78kMAO7kQXLxAWI66GdedvJJy67w2Uai7tKSjvN1y07t5U/w7PPMwuzEsv7ntMiK8CUWGPLyNQTwfA0W8gGvlOymA2zrntVq7hGKQu2MpPzwYzpg6SoTWO/w7Ozqx79Q6Re8TunUCHby42QY8mE35u2tZz7rFEx294iFuPBufZbzaYfc7ogBWu+bTNzwJeec7X0DuOgZ8dzwThD+875sPPPfXBDwz3GO8pa8WPI8LsbsFe6W7TaTzu6kSjjsG3/o7zoV3u4pIAjzkHLk7kxiwO8+IOrv2JhK8CCQLvOLCQDueM627HWMuPF1Mw7pxbY44/DERvA+fMru6VHW8hmPTOIkkk7wYeJ28c1RyOmLfpTrIpiW8pTbgu1nEmbsxsvq78FiBvEK/WTpA6DC8nDbINz+8ozuB5PK7AbgUPHsfMDy5Tg68QAeKvBD0Azz77YG8PCDiu9OZtjqtWQq7d2nMO3SNErwD7QY8GaO7PI8huTrNEhg7/EKku9zsWbtORp27izPpu1qcLTyZ7xW5cylru/3E/bt0ws27LnWhPJ3QP7rpA1K6HQFXPMjzejwFbYA8N1BYvEA8sDxnK+876m1dPFmcXbvKE4m7SW2+OzPMwrxAiwc8eaRdOiwY1rupCWm8McH0u2k7hTt1gus7jM1YO7ERl7vP2wA8Oby3O5/xCrxwRG47kumUu8Q3OLrNMEg8fGF5OgicxTxadgy8N7Q+uxauOrz5IqM7OyGbvE9527ucaRG8cFLuuzOUmDwmSXs8DwcpO6FvgrtrbOe7IK5xvCo9hLpytD+8QgIzPDW6H7uRai46wXW1u18DhTqPKpE7jfz+O7QMvruBxKw8xpuzPB57Crx7wgm7Web6u5tDC7yxOW67WHZbvFvGf7vSYHI8xmMpvEbcxTwE+qK7msBUO77uDryCX9g7pCEOO7kQe7zGSA47p4ZpPLFEALz1kl48bN7Vu2xoqLve6ca7gv+nO6mZVbwfygw8tF0RPFwrILzQgve7F+0WPH3HDDxJ2qo7AFvdu+hpJrzNFoU8YmjCOiBqFzswtOq7tH+Xu6LOHbtm0ia7Phiju/3zNzx13nW7MzTlOtEnprv61Fg78dAcvKNfNTxnH/K6lzzkO2RtsbtSEHE8agScvMU+gjw0Kam7LSS8Ox5iV7wBP327YFBFvLgF/bpd2By70zwMPJ5K9DsAxu451cjhOxVhgLxLGxW7Pkw8vH+iYjut3/M70KbJu1io8bsrHJS8aQ3Yu/TKqTxxdIs8mKiaPM67aDxWvA87oGZ0uayaqTydL3y7LY7ku9x+Ebw4+AS5Rc7eO7Et+7q6/fW7DXWMO7yndjdMJWo8tsyZu1UzGzyI7T+8XRqAOsgtvLtXE6O7D8G4OssNWrzxMoY8GZwYu/uSBLxEaHc8xKvvOhfcYLvXoXQ8inccOwrpTjoDUeE68V4HvCWBtLzb04Y8ScoEPBvYDzwAUJQ8r5ivu67ASzvu8Um7nmKNOyQv4bvGEgS8a05dPFw1xTu3vvU6voyKPNFWT7xT1CG8RZ5fu4nh7Lt0dbS66n8LPJeDhby6IwO8Qq4DOpdyAL1FaCK7sv8KO+Jyejtj9508X4urOmb/SrvnXdu7WHqNPEpLODyIeDS89P5+vKzz0Dv9SjU8HDtWvDjakLtdR3W8t8mmO1uUQTy8iFM7Wv+CPNd/17v2Ugs8LR2vu4a3ubsFkI+6rYf1u4bLEbyn37I5eFgovPQNzTu3OZc8noJZPOdDRzzEFYo8tPylOytDNDstuwE8oNY1u+s+kLy37y+82Ka5u4diG7v3gw08QY81PFak17t7Qp88WL/dPLF/gjxbguG7koArPMC6HzzfIlU8GmhsumLvKzyjnr867achvOlBdTvDKgk7uTGmOzyLLjyVZJ68dt6BvLxUEDxCLIs88zbyPJTzebuA6M87TOWWusgD57s8aTG8i4uEPFJoTbyyGQq8danGuwCB7rss6pQ8uZtVu2ZwMbw90ve7Bm6dO9y6GzzuNm0888pmOgz8xbrKTVE85gpgumEYPbzNL448YI1uO3MCLbyqlYi72JKrOoskSby/dY06u79UvM1phjshZYY7IvaQOe3HKbvQd+C7uKjaO00OrbtjsCc8JCeFvDipA7xQ40i672InvFE/ETy35WI82ICIuwDbCLtJG8s8pEPyOlQMWDqlTRO7fAqAO1riObwRafg7X+gGvLVdzztzxAg806BzOnpkSLx8wEE8HOcAO1yEUDyOMea7EgShO3jlgrsdBlw84/+sO4B8NjtB4wq8RaBdOGott7xr51a7g+nsvCmBm7yl3oW7rxE7PFizETuoNfC7AbMnO5dou7s5QWg8uVCTvJ775Lpxnuy7U3w5vKwsF7yLJS+7J3sPvCpm57vjzDU892ipvIqDsrlNa3i8bRMDPOImiTzC3Cy7zsXAuWOfgzvDDB07CosHO65dTjw1F8W795WYu7xAhTyFhoQ8L2+kPMkPAzx3fny7zTWzPH77ILySx2y7wriAu2yMCzvnEV67SHliu5DRkTxij4C728GQuw0ZHDuTLfk75+JtO0HpGLt6ZYK8fn+FvLQGXTxrK9u6niWiPOKEqjyNaKG88xCIPN8Pr7s2QSo89VLXOstmTDsE4cO7v2R7vFI7drvV1is77Qt7O7jUITt+uA+8xLSaO0aCxjuSVD27+/mMPCXeLbtnJ7+69V/KOpyQNLxKt0m7Pe8dPE9kGrwNgkg8/5vGu0SuibskSky81Q8puwjlhLxKOi87SLdzvFKyAzwud387YqS3u+SVF7suaW04u1OWuzT7PLwHpjG80T+xu8MMlDzrhGq8NVKHPK+chjzyjqa7ubFRvKSXMbtZxnC80aYMPLh+R7yYfI+59+yZPPqXKbrNO/Y6+CO0OUfrmbsRPHy8BJawO3rMTDy4rnk8OH+2POLtt7ssEAK8x6deOzxM+7vzQoy8osUBPJ26YLpe7B48hOozvH2dLzvFxjC8ffEivIMIkTsMzaU8/fKyvKZ857oAFgA8P7ofu48RWrsfYL87Q6Y8O0ObsTqabro5HUoZuzfjlrqlrP66cFwPO4NVnTubXkI60vjauQOY0rx8fzK78jqwuzYVqbu+AzE8AhvZuydDRbzC3MI8mFePuxLWh7w/Q1I7/ReLvFHuiTv4Jzc8E+86O3VJNbzL6wk8LyJMvK5ZiDxmtom8MJG2PDUvBzzWkPQ7iJEcOstGqDsUwTi8HiDAO23wurtCYuA7oGL3O9kFoTsmGe26eXFJPD5hbTwajtM8chFZOxUK7bsFZD67jlk6PFFZsrx4dqS8wvt5vNDf87ok5Ei8OJuGO7uZQDwuoKo7Lc94uHe8a7u5jhQ80QMMu/wKZrxMrww7g2POOxCM1TtpFSO8mCR1vO3zHbzhEXE8OkeEOcPOgbvi/z663I0kvEb3aLwadYE8/bzeOvCKMz24xpK73/k8vGGDE7yg00s8MBwNOrWUPDzgGxg8k5gCukfBOTy3nXW8RKjcOl3OkTvTwMo7YSoMu34fTDu+VZ67Fcjcux5vVLyGliG81AKlu3xnvrxx4I87F4Xju6NsXTrsh6Q8Xxc0vK9LZryBQU88Vf4lO1DOqLYrcku7rquSPN62iLzdU1I7qUNEPIshIzx739g7OOl4OiQMHzqMm1e8cGkyPKj4mrvwEJQ8c8kAvPsiGzmP3Yw5mJZ3O+pPYDvotQ87XEcTPMqk1Dop1Hg5tgOAvJ+FwLuND3I8Xs6lPBhaMLt3liA8BoABuhaD27rDn5Y76S/Zu4rHqbrsGog7oDhdu9VFlTuZfUI7ws74ugiqCbwpnh08pHWmO2E1VDwqpS48wyX8uycKzzwk9MI7oiWjOWzTCzvB1HE7CpwTOwJYwrvtPDQ85mgbPAempjq6f/u7h8Qju5VGHDtFVgM8ix4EPHz8vrvlybQ7AiDvvNdrZTzhP526WQU9PDv2bDyj3lk7AUnlu3EmTzx9nQa6li+FO3t+obr7QNQ7qtFUu/L0Ary5LI87jX0FPK3RDbxDYD68CXNEvL0rjDvuaD88xp61O+XkjDosJQ4877GQPMylHjsZCgo8RVqrPBHTxzvKaKK7uWsVu8FUuzxBfgY6J+KUvGFRpzpjpqu4pCq8vF5AM7yLV6e8XW4BPE6gmzsafBg86KghPA8febwhfb+7KU0SOjAfD7wwKeO7Up5PvD6xVLzF+g67x3nHO/mG4jsjlQ+5+aJvO1sx6rscCi27ew77uxhyGTmZ0oo7KK/LuyJaErwNpZE7o7FHOhwezTuAVJk7CSa8PC9eTDxovJy8nqVYO3vvxzpOAZC7CGRyvNOPNDsBDdi6QpXDu04zrzpZKpq70CPlO70ck7t7Lha8p6I+uY1hDbw8b+I6ZfLyOzwmHjpPZCs7A7tsuwK5FDgcC0M7Cy50vNiFdjxIjyq7tjjOuy/NJjwtv007NFOUOylpOzxS+Ae8CoYGvLzcPjwQupg7oSwBvPLu6jvb/Ti8lWUpPPg2tjtwH8o7RUGHueQ6uDyR1X+7Z4pbvPBxbjsIdEA87r1CO1jJgTw2vcY7ghmaOs6mELnnS1i7+ZVfu2FYZbzePZO7Yav7Ow33iDxyz5s82DGHPBvPTDtG/AS8cXMVvMGAh7vQ85673Ej2OxWiVDzBf5e8dX+jOySvhTqFdUy7jqsSvKzv2bmb0666WJT4u6eMkrqhgtc8pUltu4HIT7xmP4m7bxxAPNncG7w6sVM8e4qcO6AZpzvyKUU7M8VCPOGRIrzvJYy7CSdlPLkJDbyUqkO7s5Q9PBgPUDwg8WC6b9NvPFqlDTwTLTu829dIPEmzZjwTMVk7EeA+vAntzjsU/mY8Ph1zO1j4IzoC/QK7HpKXOh/WBTwky4c8wqIyPPDDbzwY9Qu8kUm5O6RblLvrzg68mmPUOx5TLrw9jL28Jujku0hRFTyUOmW7F3cJO4M5xbpObSg7dy5zvG6W+bst4hK8G+y1uhPMrrz5v887Ol/UOyruEDwKlLK8Q/bKOQXPMTyi8ae7zhBbugQrGLtONa27Xp/2u8bRWTxaimw8BR3/O+YaHDtHiuM7SfZcuzbyM7w88Q+8w/AwPJeKnrtyKDK8xqRnvJ4CEzwvbo27DKnBvIWuK7wvOMi70pP+Oy2bKLz02S28zZmQvA0aFjs1YFy8Pb/Iu9Ocq7sEpiK7Edi5O8uKFDwS3ZW78d4LPWheQLzuzp+87mw0vPxmUbwF7867JdaVPNj3mrxbxjA7QlLGOfgfxLrRt6s7IKGrPDbOfbvByjQ8Iu4dvKsxxTpBijy8MmuBPGTBNDtBwru69zwkuuHQ9jtdkB+8/n9RujgdATxbytS7BSU7O0OvPro0t5M8+mIVPNxr7jvNeps83u5yvBSAD7z6eFO8sALNu0mZPzx+6lA6vw+tvOy6ZTwwl528MMuvO07Mgzxqq6I8CHIzPLrHm7yL2UA8DA8+u5t7lLu/noE87haHPMcPZDwS/Po8P0KpuxBkr7uUN6A7fjqkOl3nyjuE2gM82OkEPPK+BLztiF+7nCeGu9uLFjzzdks86VMevCJxQLzzrYK7pSApu9vlF7yu+G084lyEOQnDALyJdni6dSXRO56XIzs9ul68KrUBObP5DDpWQgE8IiavOwAOCjwYT4081mMzu9sJCDxvBuG7wnDIOhV6tDpMv5S7foihPBNL6LqLM0i8MQqYulkEo7tkOEg8ugMlO5vjBDtvK4C7JdOFuxbphTv8v5s7gMLjuwv7ujyPls87AWUGPGZ19rlYTwG832Kxu36dLbzSQ+m7mEINuuJGgjtJcSS86OEGPNzZ0TvOqcI7ilufOrzMGbwxYRS8qREFO2T7gzt+Zky78tP/u7PhlLsP4K88g0MOvGT38blk+ao7ipO8uf6hRLwomyE8tkuNPMWk9zuVLa87QVLMuxVCszumj888gzQXvJVouztk2MU7FwMjvCeY+LoJKnk7WZODur+GxrsLAUQ8ZVpJvDuuzjpEUZQ7h0cnvErcyjty1268HPsgvPyaOTu0ekK8lqPEOSOVmbsNBsA79uIAO+j1yTmdkia7aLs+Oi3yUbx/R4u50374O5vWprtMAzA8vuMVO3peqLw2gIY4ykinPIBgvzuZkjK8knzcO78sVTzhuZs8rQUjOxuYQjxzyQC8xJZnPMfu2LtxiJY83X27u+eDhDw99j68JFxYvC4TRboRSx88JSIauqnx9bvCCBy8j2FsO/zwGDx7lls62bHKvE5hWbv34RQ8YT0ePKgjHDtCwSW8veYSvcfk+TkkYNe7BIPUPI6fe7wNasw8FcVJvKb9ubu52+67X7BAu3yZobq7XYO7xrpFPCE3OjzrrIK6XY9zuocOwjpX+vG64epWO3vka7vvksS7fkgnPGLWqTsUJ/i79ygAvMs1krwnBwq7u/sbu78OATtSZfq8F5mEt3JyITy9Enk8SMFdOWcN4DjCQwK8pnpfu4UtBDwzNDy8ukS1u73dULtuzQ069VKVuijPU7uhXpE6uGqxuygsjzxyym68g/W5vA5KtDrfKsg6JeTcu4yQWLy6N7W73LL5u1DY3rv5hg+8MwKqOio0PrqTt867FoAdPD9KYryBkv26uDPNOl/vTLthqcK7P8WcPAMofrycSm667fJuPCHSRbxYEJc7PfFVuzozeLw2hY0854yeO3PRKjs1RXO7LcOcuiL+Rzf48cK7waO2u9z9rTvmZk87ZXGCvF08cLtu6088lnFBPEbawjuVhFg6ZikLvPYENrznD2E7+kR/vKZJ9bu7V408iIn/O9HADLsCD5W8CnwMu0j3jDxMF0K7QtyluyTwLLzXPKY6g/ciPHtnODxqz8Y8X2c9uyyZdzu0IKQ6BDpTPISqUrzj05G8iIGbOtze4rtzeyW8ONGZu7AzX7ymugu7SCLVOySZCDzC4jM7m8RlO4qJkbvPDcy8MRsePM0GMztViDQ8amvlOyDA1DyC3+c6MP2fO3Pasrv9KT08jekAPEFFQ7y3MkU7asEJOufwxzuNc9W7k3wMPe9YJTwoy7c73+gePCL1KbsFZH+8W5S0O7k+grwPtZS85DTUOjXLublUDIW8tTSJPNxBaTzjPDa5bnQfPJ7FgDvanW08U+rgu7ldOrzKpTi8MJk7u1yROTy8K4c72bPGu5vvO7wChgc8Ka2RvNY4o7vAWpE8+cPbPDbGHbydxJk7wzvBvAoImTu3GBk6upRVO3Tx97vSVU+8YhrqOwO1nrzVfhC80P/WORR9w7tdxog7CEnau+F4sry02HU5S52HO88qqbvnJhm7SpFQu47biDu1eWO6FzCEvNZ/F7yaCLw7BiEGuxDmLryezqU8jcsHvK6DizwucSw8sn1buqrYRzsg9o455JutulJa1TsIlXY8isWdvFIrXjwt0uK7IZeKOmgSCbtET2Q7PK6fu106v7uyrfS7GPLAO4+Mhrv6+XG6pCVKPMf9m7tlcNk7L5Xvu8jAdLww0Em8CaIWO4dS/Tqbk2u7lLoKvKI46rvdbsq7OR8VPBCCert61jC89zuJOaP0krvtZhk8d576O6ELcrzJNGI7V4n3ulhDtbvJLN86kTtBvC2MbjxajTu69zX9u/BkWLyNdog8BYTAO8hSdzvRcKc7Y6BavKzhDjwNOYm7FbOGvCKpeDsfkc+8p4MNul+LLLxltzw8dFAyPD3eurlc8h68SabjugAttjs4nQS76+r4u0FmcTtiOEU5axpbPDCfJDx+pHs8Jcu8uu3mRLwFnYQ860a9u5ivgbxCwom8VxobPKsXgbtRMZC8kpjhO6dIFbzPh4m7vJv9u2B4ujs6mF889p0WvPyUpbv1lUa6bPwBvExhfzovN048JtsSu5mXsLuO0vY6RaKau4mSMbwcS+Y63FmEvCDxgLsTocc7csULvGolJDynhVs80qOOvACND7xUP6Y7XkxJOkRo6DsNQug61HmYO5aw0jtOJc07FhpHvHpxWzyIg4Y7Fd0Gu56nHjvFRzC8QlQkPDOZuTz/mDO7Bi21PNToUbwXb/g7HrOUO+/ipzpfElq8UwndOyogjjyjko07yc18PO9fh7vsViC8TNm4O1heX7wEH3c7j0DDO+JimLvVYhY8rUwZvGe2cjsKllg8X6q2OyaSAjwrN/q7vwmxO5LfTjzrv8I8dnODu3MaJDzQLZM8y3c/u1ANa7vAlk06jYHzOzLeErzejBW79EsKPDI3ojvksZy6yz41vBo917n9ziy8DsZjO0iyJLypeCC7XVxQPJGBqbyahg48AKOLPIY2E7yrQn07dbWxO1qz5LrdJBK8SVFTvK4wbjwFvzi8sxRJvCW7xDtUtX68OYJFOaCKCrznIFq8xN+LuyXPTrusIcK7rvtDOzStvruShAO8RuGUu1/mHzwjNdA8t4Zqu5EvP7y2MzY6ajOSu8ZRtTqVIq87rHblOxt0qDuHuZO7PKIAPPz0brxlHIC89QiIPA1oLrzPtEO8hFAgPDj9w7tbZ/s72WvHux0wWDsTVG08B2qtul6vVTyvj7a7Ll0bvDDhDTsu1EO8aZvOPO9JbDz2Jaa7K5C7u1WIyTkm29C7uv2iO7HeEbzZufi6kCu5PMSMNDp4v4+6QHnZOcARljw/mRQ8RlpFPIFW1zsZFN27UevbOxEc77tzTAW8qFVkvGlSljoHsJW8ecPuOmgsMbwJG5Y8mvCrPPiUszpM5527Na4jPNNorLtHB/a7vdW9OydRErwyZ1e88paZOm3n1Dv6cs67aZHAOXVoj7sXgBS8CAwvvHJGy7u+Ie276CqOujU5jzzrBo666lJrOvhaIrqN/IO8qXmxO8C1Jjqw9rQ7bSSBvJrCLzukYBI9vX3YPDeozrtwqsg7jD9Lu4CVtLvZcj68bP3COsay/7ofRDM8+DwKvIOnrzttdNm6KGgAuzoAlrts/587W4DRu00S0LlZ7C+7d8lgvMvBhjytMMA8veIKux+lSDwlFcw6OkinPBPqh7xM1I67Ubanuu0aWbyzht47XE/1u3tnDLs1f4G8yc44O860XjxjGIy6w4m4Oz8gE7wSU+g6CpghvETGwLsKLRU8IakGPC1hJDwyCBA7tJliu7hnDjx/Sc87hbAOvETt8zvVNGA6B4B4POsQcrv5Qcg7K1FbvJZ8kLuRXBq7KqfEu4DZNTziRaS7qfWEPIXybrx1SQI6pH72O0+94ruX9LS7ZEbfPLIxozx+NHa7Yym8vH9YYLnXOHG8zbtCvOX8XruwdkQ8CNd2O3XW4LvYhd07th+hvME3uzvtqNY7oZEpvBjhVThtoXe72CXJOy0ZVDzru5A6uMt7PLnsdzzK0uw75W2ou2xoRLuC+/S7fw0WPNIdHLvPtkw8um4nPC3xlLtlOzA80vFxuzn7RrzXQLS67MEnOyn7wztNBvW7dNQNvBFLgjkkicE6Y86/O7gkaTud3pS7xAwGvHo1DLwrlgG8vR2Yuxzdm7sheac3CnYyu2STODy00wg8Xotsuggh8bt6soS7BVyPO/WLo7zIPk28kanNvK9UibuJ1ga8lBbBOnXQv7skGJs7XPS3O0OsM7yqH1E8T3wxuhEGnTp0sNe7Kz+Ouwq0UTyys++6b2uiO4jOUrvxI0K81ba7OxYESzuqvxe8uIdUvIM9Yrzg/AK7N56KvBk5NbyR8Rs7rEi7vIJn7TrAzJw7Ri2EuWM/RzxzPH47shPPu+mKUTtooKI8FCvbuXUPDrtJCp48Us4jO5ScybvS5AI6e2QcPF8uIDz+Oho8WwwgvLpEnDmY2tK7xzZZOxkqV7tm49y4PqG/PMV9CTsJpZ88gtt+vMeYLzoWNr27CQCDPD90JzxRVso7J9eiu1LTv7ucGc876jaEuvCyGTyTHGM84f3fO/rvhDsat2s6tiCvvEhX5TvfiiE877Qiu/CvF7wmlu67JAkVvOkDx7t+p5m7OuBZPHRQWzsd4Z+7ciwZOwwGpzpnCZQ85OMxvCipKztmWl26KNrbOt6uQbw+6mI76Sqju8nJfrrtq3Q8hD8GO/wWCDzmRma8N4nUuugr6TtbIgO75yc6PFKcP7zb7HA8VGHcO+jDM7vbmD68tRlPu7zAVbzA0Hu7pI8Ou4TdF7zHQoo807RSvE+qSbpDmDS8q7iSPJ0kr7sLdhu8sYCZu19EnzwnuW07nQFUPAC7Ibwgd/o8UYQhPNYxrTx9zsm7y2DtOj9qrzv7zxg7ILSLPPaDELxRW6K62M5ivO6fQjwOaZq7Y2mOO7WSe7zgAou7KQwUvJ0JnTsoVSK7IdMkumUCbzzrJoa7rYDGOoWbCzx79fA7SKg4vJYFB7x5pGy8iZJIPM+nGLwN0II8vyMlvMPefjwfM767nnG3u4ARCbv5I/W7GtvMvItWtzwk6ak74OwOvHDLmDoF75I7uZmiu+BrIzptH208z2zQO90jXrzu9TU5LE9xPHFP4DkmhaK60neJu6GPr7r+fYW7LGcsu7k5vbvmiWu84l3Pu7wJJrztVUm7evkaO0cRoru2MC88CMR/u1P+Fby7ylu7BlXHuw+oUTvnvk68SQ3ovO5EKbt5SAG7ubPkO4qgQry3TMA76A0UOzQ3XLonbeg6dtp5PPjtsbuPlMS77cFjPKuUiTpBeQ48WQUOumlVy7sHUms8sxUmO6LX/7zqLLk7VfdEvBm1wztaEqC6/oORPK9umrxfPYG66K6RPMOeO7zyRXS8KmADO5BrBzzYXNC7EH6iPNJ1pDzANTW8HP4pPDUwC7vINXg8kW31Oy2dJbwzPDI8Aninu1rlBbvmjvE7SP9jvGS7RbtqjJi8SsYpPJiWOzz02j88M+sWvKr3Vbtm+wc8N3u3uD+9BrxHQ2I8eruyvGqqmDzs1ym6bZWRuqbVA7yN1kA83eghul9J47mi1RE8/h6wPANgmjuDT9W8aLodOgdJGbwPot+8y4NtPKj6kzzVhca81/cgvNjHR7zTskg8cY+lPCvWIzxCPFw8yqUfPLLqAztw9ey7PT2tO5byJLwJETO8O24GvEkiSjsOZmc70hMAvF1XWjxn7DE8tVSeOcfWtjtXrbC613npuk0FP7xeK8S7cylou4cRiLocdQc8wJa2O4J6BTkx5+Q7nH9VO4ed8ztHANu6Hm7pO6IBBzvCSCg7uOorPOzt+zshM2q7oF/APIRDcDxz6YK8R55XPFkdrTn1U0I8YeSVOPVRx7skeOM87FkSOw5yZjrPEF26sUqiOSaCoruR7Gu5a8N7PJEJJbyh5zI8HUt3POcO+rvBIB88RAuBvPStjjuDG3c7oXOfPPsUczyQwmA7PxSMPNoO+js399667cG5OpGI9Dpkg/86GxkSPFpteDz0mMA7sTtqPHxQSzw0Uo88goVnvDmaVTxejyI8j6XVOjSTWDsUJtW5C229POiiJDxE/rI8yqQmO7BFhLvsVPA7ui1YPDGk4run8S+7zCNyOyVlhjop4AU8vTtMPOCIdTvg0om6UvKHu9uhMTuE4sK7JXESumzOGTyAiOy7u4h8urslILvOpSg7u5TEuyxNNDtWGF47iIwZvK7MAzlAani6stKJvOs9lrvmYCk8+2mGPJjusLtOg088N2LxOytuRrwulFM7MmofvHhlwjqSknq8t3KKPBIwDLzpaJM88JM7Ot6pKzyd2kW7lbVDPBfGlzxxmw+7EdgEvOuvjbw+uOo7yEYrPFVZr7vq1wy7sy10u6tVi7sYzXk7AJl3u9HmC7w0Cxg87yd5PJhiXzsfN4c8x+I9u/cNArx76co8JAkCvBf/OrzfWwI8D2riuto+0zp0zIs7fTBZu4+pjzzrT108ly7PO78ngbyWHVu87j1CPEoHd7yD5Ga655khPKN08LqpP+q7ushIOicb7DvYeyE8Oxu6OwLxpbpEix47U1CyO/ZTkju33A07KSlsO22mprsWqu67no9ZvAp2KzxsgGI8Dv7uO/M+JTnK6Uu8cvXGu2bB87tGP408UieiunM9PryG4cc6yWmGObME5rsLu/m7uKk2OyP1rLyUC5q6kv0uunUAXTyc9ti56mkjPNMmLrw2yc08MtcRPAQbKrvQ/E87MjwZO6RICzzBUxq896UjvFkkODwXk2S8somTvHwspLtefOC6ZheUu8V3xLmPgj48SX+bu7Qkqzp1kX88FwXXPIqmHrv4ZAK8izENPO1Wlbzi6Ec8goJBu5XCcLrFQpc7ZQ5PvKJYJDsrWRA88xscvBy5UTwTuQk8n+DHu8rvYLwKfGE8kSAUOiCUCjzwtgI8kjSFO7QwUjzOyyk8uta0u5MjdbtXV288RqBnPLStYTw1a907rB1hO9Ybazyi4/u7FkDROtyU7bscYGS8UrwAO3mp9rt3pr66ZeO/u1aoHDzsrGk7RJl7vKzKXDz/77k7t5nQO/+tFLzxC465//cKvK8iTLxpxYQ7xQeUvFLBADwgfeK79mLYO3/MvjjJG8Y7zw2WPL0UDDzwpwC8VWPhO9XFmzwsQks7kZjau6uOBLy37SQ6MrA/vMhCQTxeluK8jDudO1LfNrwqjaQ8SrQJO0u5W7vmaZu6NUR4vJpGKbwlBgC8Q53yOXnfmzuw7SU7wK2+uy4il7wueO47qzmcu1v/Frzdvk08P5T3O6OHEbzRP4M6ku5mO/8IFzwJQ8M7Wk1VPC06ubtCGRW81pVgu2tWgrzXbou6VVsxO8uiGTufn0074ouVvKaBuzqWQio8ISCnu3nUirul2J27r085O0NJxDvWff45iIFQO9sluDuPPdA8ssIjvAH5ITxzUGC8s5OWu8btnbz09h88VhaOPC7Fj7sB7+c7KXvvO/th8jsqCCc7oLQZvOETOzvhTYq8sZWMuyDqfznhvQY6KWzRuoWIWTvUhk08ovGzO7YDvrvu6Vs7JlA3u0y6nzzW4bQ8PgYzvOVmJbxuway6ZVNUOmVVjDzrcJw7aaUIuvFo+ru8x6e7yTx5O5L3kTuQCNi6ZtvaumfEsruORLo7wptzO8gMnLyqOpS7Xi73u99jcTxcNwo8FoNbvIqo7DqQZCI5B0K4OzCkWDtJ6lU8Em4hOp8CU7xFuN871RorOwm49Lu+Jlq8GTFXOzvT9bsrcVS8spwcvLncwryU9aC8voFSvHFWzDrCDnw841N4PBw14bt1cAG7dZJTu+LivLsDCRk8BIK4vFk+BbznJIy7oN8gPAUUOLxyNkI8QziDu8cJ2DsHwZc8W2EQukJ7uDvMCWU7+PaSO3HHO7sBwwu7n80ru4Z+ELkbIAy9P3Xqu++U5LtGN467AFlnOyjGOzw4lFa7bqGAunciCLwt53O8YtwDvPaUezmo4YS8u8JZvHJ0UzzPjIo7EEWzvDkAVjvoILa7WUlLu3BFmzyQaCU8KW4gOsyl87vMpDe7rGCtuw0hYbxJSo66QkouvILftzsKsF886+JnPIBRs7wLiFW8+pOoPEX5dTuieCc8G489PKGY6jtWFnw7kvs8PPzUuDssqru8UX0RPNEyUzsCDmG8TyeiO75U5zvTrlC7mfj8O0gqdbykdXC7lPTou76+Mbwk8Ye8sUphPOcQOzwxWyU88aFfOkwWgDs6IuW7ws8xvJk6krxMjUi8IOWsuiuhUbwA+wG7u/P8O5YHC7zVPV48NaihPEK4njvJD9M7gu1xO9SaRbytQTW8MBJAO4+cZbxJtis8gywKvCET/zvDdSY7ha+LuifY0ztMhz06Oi6ROkcviDtsY4A8uMviPFSaizxJZ6m7qfacO9x2xrui+Su8CO3GuzB8Gzw1TMo6Azn4um4nt7tQobS7vBvMOmwWXLtjX628IyiBuuDLajxv3SG8bbGAvCroiTwCDkc88+IhPHE6mzsP+ia8e74HPJLGbLtyRA+8KQACvI6zWjzID927aqctvOyipjt7tbk6F6OdO+gcNjzRhOE7GNZGPMRzVLxsQak7p0YBPLIC9rvrcSS8KhUnO11NzLq7/qM7ZwmlvD0ZQbyDZYu7YnKBO3oEOrzgkf87mTicO/2pSzszO8A7v5Druwo43zvrbPy7mXiLPD2wBTwUSo086QABPPv/S7sywFo8gaUQvITClLs0Jqg7o8QJvPqWOjpztxg831eWPFu+zTtvVU06zjhYuz2vwbuOVlY7zNHGOj2tX7uDM1e8gchrPHlbpbtS4Xu8yV+jvIZO0TtUcag6Ya0cuxV+Wbwc4dC5h0OkuP0J9bvFM5c8bOhKukdhsLrZ5kM7UiqbvKBVObujmG28swImPDfVTzy1qkQ8BWiyuxXWoLtAsc67VJWnuxY1tDsyS4c8iN+1OxZiQLzafJG7EviTOZRIgbodLT+8igAHvEKvITusRks8DnEJOzcJgbwChV08CjADPAYTgDufW0o8sOB7PFwCGrwfZ528kad/O6WwNbww1C48XIxXvHQYfDxHn2G83bmCuysSMrutXcM7JtfCunYwVDzIrbE6oEpxuuCNlDpQTKE8LeiqO8iuiTt4So674Rieu4Hq+jvSFsI7uzkFPD4Rvjvjhok7QaMFvDfMvzq7IBI8v4txO/fNJjwiyTC7wfV9usZpejzWslg7uREhO/PtB7wpasq7XN6RPEAlTLsrvnQ8hd2ou01umrmITTQ7s+I5vLKN/zsQUYg7Js9LOhY7ArplZa87d5cZO6FU+rqnkMa7yxrIOsZ5rDwtTNG8k8+oPPY3K7un9jS8n30sPCpZz7xOfdS7AgkQPPKTHzyqMnU8Ep/ou9+FDLzbn846kyKKPGRaBzwXGaM7nZlhvCmU3jzqnVs8lZaCu/WUkru4Zuc7GCClO9nzgrumvDs7dQOXPCsZNTxzVRy8P1f6Ob0R3rtXe7y7TDgMPG4QC7oCwBe7EWd+vBiADDw4QxU8xuBkO34PJLxQgp076+XDOJGTRrzuqX274eM1O1QTELxXNS66gtTeOyh5j7rRHYm8JoMCPHooIDxtv6M7TB+SvOPqGbxidT28qge4PHFfO7zjGDe6ZbMDvEVY3Dqsb128r9GMu9HQsjrBIue7im/hOmLnrLryOpy7ICowuytVLDvWwpI7rHPdOlSWArzeUSK8K4aNu4vqZ7yJeIa8PKgpu88b1Trr+Y28CFatu2uBCzuBPB08WlGxO8bFDztcCwE6GOh6uppL8LtIJPQ6xG3suWWWjzvs2AM62NdqvHTGijqUNj+8hq6WPF7X2Lr/r465Ov8KvD6oY7lPd4q7nliAubCnC7vH3ec7gFqqOy1FUbp78XK7a9RAuwR7gTuLvb87aFaDu9Hr1Lm6lTs8wCawuzfEl7vcuFI7b4C4POnzRDyjj3W8bGZ1vOohMTxek9M50qLGOw0OXjo+WtA6iObuORUKEzxkcsA784BQu9Neb7vKbuQ7Tw4yPCrLTzxZbkQ7WDgyuvlnp7xYrv67PRNdu1RtTDvX2Tg8UU/nu8CG/TqtWuS7vwKKOxCIC7zNyIY7gIooPKh9WDxr76E7ZqhOPL9Oqzqni3K77gE7u8nKCryGeSU87DBFPEkMvTkTd0o8BaG0vH95X7sGbNA7AiE0uyotmTtkPyQ8pnbxuxDaHrsrgsY7a0p0O/HewjvgSg473cbLu6AXkjv1d6A8QzoHOyIClTy2qMY5SnWfvN4y/btc/zA8hoBGvBpyE7zujdc7Fw8QvKygq7vzjzo8kaGzOoTPmLo1rWc8VwEPu62xtbmxuRm87cKXOwIprbtOXl+7xWuSOgPqm7zGP9A7KkwpvP5jVbzQsta7JqWSO2lzmLwVW4w8LOsuPKU8wThpAtm7UYnfO/kyxrtHXfI7k62xu5nUojuoVQ46qs75uylOlDq3y1I8kDmEutvOlbzKSXU8RNLru7LNXTp2ah27eqt1u5K3MbzAXrs7e7HJOk6Vv7vEne27E/L2u34fNLtB6RQ8aMnzOzSuJrttJlu8Yr0JvGlgLLxXSiO7uPzfut1nJruJs5I8JOqjvKR6prx/Chq8hULQu7L5Hbw+4LM7UfA/vMcqILyGRyk70UnAOz1qiDuoCvG8nhRWPC9xNjwAs9a7MIUPPOMkWjzqUNC8I1krugypbbwAWtK7rryqvHnZGTvg+4Q80b51vPiY6zvkiMW7pe4rvE3UYjzgiyg8xcdYvJ+6oDvsrxg8h173O/9JRLuCNHY6RyuvOz6LFTz1P0O7p6q5O48dRTxJ9lU8yIdiux9WFTuQL4g8NlWLu8YYBzwNoNg7Dp1Fu2zKz7om1KY8GahSPKpqyTx1u2g8WME6OoYB3btIsE871SuyvH+wsLp+/JI7XLldvMsxcbwXRXU8xEHVux0NW7xhW9u7ACzMO1UHXLxpxYo7r/2+PEnYdrleVk+8kQYCu0TAgjw+g4G7FhemO59Lt7sRzvq7Awvpul+0n7x/stK7PowvvFBhILw0rPU7voX9uoQRFryq4xm8F6yYO6GxtDtzBZw7BXnYPLHRYjyHVsc6tx7tu166sDt139O7DVeevF1hMjwxn5o7XxtVuwR6mjowOa07ftAyuil/ubsYOUs7a9PXuiyVtbtORkA7QiDWOnqYQzwAQeK7EJmevL5fEzyq2w08Xnu8u5hXCzwmnm+7xe/VO1dGmDuUhYG8nP6aO5nV+bsEfIs7gbx1PFMmGDzO/z87buiuPDxZGbwRkQ08V8mCu8IVyzzIL4A6j+wKPNxWSDvuwTO8X/NDO1Z1ezsxCCo7N8cJOgXVzzyBvZo7/qWou7JoArwyy1S8hOAZvFdiUbvN0RA8SY2Eu+oCnTy9TLO7eVNhOw7i1bxxQCQ59bzHu/V7s7s0oEO8xxEQujlngjxzLTW8UTx9vIiM67sEkjO8fjWrOmM0wTzcBEQ8rAeevLbymTpK/iS8rQJmPFtuBLw1NyQ83zIlPDIbI7xZlBO83CQIutZ9gzueg7Q7uQYJvMDjSzwNKNo7T3Dgu+YD47tPSXq8h1cTvACM/rt4pRe8uE2Mu12+cDzEGeu6OtUHO/OmKDznVtQ8OyJXu2lSrbkySxE8JIRCvES5RbxeWYO8dFDbuzXDELwPm7C7vgL2O14YuTv5s+E7QPEUOxdIFjx0NRM8SHOLuvu0D7zCqpI7f51LPDdJBrwX7o07qsAzvFYytrs9bDA7uqjuu793QTz/lPw7/uC6O4dWj7x0nhm8TPSnOr86Zzw4HyC7z16TPECSRbx2CKY6XuCrO1hguDrPqF+84hopuutUNju1JaU8A42VPC5GILzV3eW7vUoHvOMpqDyJSk48xndvO4aDlTu4qnK7xNRSuhIT/Tn/KgG85aIVvFA/rrv6qO+6NcGRuYd2krxZiJy8JfcGvIjokzscfvY7fFp8u7qOhjz2BQO8qgoZvAjGoLw9nda6FPmBu9cpebt6tg87b7McOm+pELsmi3g7wBIauieUU7yjucC7t3aXu3WFYzqTj8M7QokLPJl0FDyk0va75V/AOYqWVrxpw0i7InuoO7PORzuALh+6QkYFvItIk7sWbHW8Jx3Wu4lW4LuMj1g8KinOujnWcDxhDwS82MOAO1Ov8DtbVGu7r08eO95XgzvPqVa7qp/nu8Pd9jpllZU8sQu+O30sE7yFSfa7nK0ouegLabvoLDC8LkMFPBeHurxNvDC7GSREO4Keszs5ake88U21u/fyq7toyQO8Vr1LvAF3kbtuCHK85z/iO/AyIzua29M6me5MvCKoFDxi7RG8RWJ4uyaupTtP/Dc8lwpJOxRNxDxX9c+7JloEvH+VADs5P4i8mIrFO0WBOryX5JA6Gvp8vFMtUzuh8YQ8o2O7u8nKg7zyYp+74PAousg8ljyW6zk8fzTFuz10ijsDCIm8vnBTvEXtczxzzCO6E+rQuxkdu7tE7TW80CQtO9adabs7IAw7ImJEOmVcIrtz4Lq6MHFHPCNNDzyvAmC7rbNAPAB2GryPjjS8lZW+uwEtibwMTSq8RvKbO+Nu6Dt+qGA6mXL8uWPVKrzxI54697PSOwdpxLvDu8Y7O+SWvBeFDTxYkc671dFqPPqGHTzRUXI7gb6cO+IYGLyFACO8KcSkOSWvsTvUYIe5LTa5u02Srzt9q6o76PaZOlDfg7y2TmU8FZQAvDdbBrvyBxW8GFTnOcWbybsaqIe8bAp9OzYWzDs4Lha6OLddOj4JEDyp03c7wcelu1l2HTwPRnk8C4/KPOo+jjt8Aeq7lEw5u+OaaDx1Xp+7jXhIu+ZvP7yknNu5dapyure0L7vQUZy7O563O1b2vDrXkAq68cvIu1DsqruSbqk7WdUxO++c97se67a7Qk7xO0WHE7xQVXQ8SDKfOfSb9bvoVby6SZ8tPJmBOzoL0G48Bkjlu2Euf7yFoXW8yRFlurP8Zztl0wk8BNXCO7YjKTpTGwC6zdiqu4L2gre81yA8MX46vLTrGLkWoPo7VxgXOzvSErz3yuk6tSGTOvAWeDx5I+u7vaM7PKxLITuhhU07+gi3O25gQzyP2+07AwgQux28GDtHtWo8FImLvFnFPztyYM27FuebuqFWRDxij7I74RX2O59hjLvM7oG8THAwvH3OTDz7HYE8/Mp1uroOWbsqLLs83ZcPPGEvXDv3FYg8oe32PNFyh7v2+XQ7eP3+NvOniTv/XV+713SqO0uAmbvnqVw74MedusZT57vQvjY8yXiJu7A+FTxWm+e7nJCeu8x/+7smDAy8/8uwPFb4q7sPElq8WOucPKpg7jsq9AC4Jj2qu0CoHTzebT478fl4vBnO1bvVqTM7/UW2PELTkzvikjA7OM5IuysTGTybvGi5jsyWutUdHTxx4uE7e/5Eu6OSaTzFxjG8PJCyPFSViTs27+86T6ngO3EHNzzOBq+6SyAkvLQhxDmvnO66aYSxu4NSLTtohWg6CuQTPMr5R7zuKY68rq7nO/JtAjxGtP677TkQPEDuvrtBskQ8mXfgO6eK+LuzF3g8uyDxu7UAHLsDFyu8htfCPPfCqrqLpjI8+ZkKO083CjycR587wJW4u8dvg7xrU2M7RE1rvHWAdzxoxyg5YXwRvE7WVztl01Q6FYgyvDxaZ7y98sk8bZ5Nu5FVYTy068w5JINAPIbOFDxBcxs8J0mGuwy3mDqrrIO54GDSOTnwLTzJVkO8uL2CulXmabzWpjm8cVGiu8zUYrtPPRm8ihMyvFEa6zvGr+67ydBRvMPl5Drwmow8lkYnO0YhSDzBesI54ytwuf1I1rs8vsQ7Pi/wuwEKNDu1kH28ZT6bPNd/zDldIZ28H/mYu4LnUTzXKH+7OWZzu02cSzxfr/471lk6vLNNuzy31zO6BuGyvHlRvLtVWz28BAdEur2OijyQyKo5iKm2Owku8DyJVxk8fRAFvCPVI7wtU0E8UOVAvGr1mDyZmEi8jotIu7q8jDrlkU28KJvvO25DCTxXbTW804+MvAepyrtNjIo6O2Vxu5RwDjz9x1K8IvEDPNyxabt+EVW7dKiAvGi2fbtTojw86tdrPIK1gLvcDQy8xe4Aux2Oc7t4/1m8atFOul0GD7wBvM+7+e90O+OSG7wQeuQ6KsCgO4imq7yzUIq6+KXYOWB/pDuAEIa56ZZ4O7v4hzuQj0m8oqE+uaS4pbtVssQ6MBtTPKFgzbu5e0a8ElY+u0FUjjzOuRC7hM6LO5g2irwIjrs8uFCFPAbdWjwIVpq8OAYnPFqtDbsyQW88E828O/7XuDyeTtS773PyumTEjbvdO/C7z9O2O7TKnrtIe9i7Vv1LOycV6btHbN276NcSvBvh2TxFgN67hYleOzhO97zXObG8GJfhuBkzHLy00oa8RxttPCa/RbwaSaA7eM2IOzVZkLs0QDg857SLu4nbFDvPsP86Ik0vPDPJdbtimDc8VxEWPIhx27kwk+e7sQSVuylCizybnUo7Z1pSOXWwojrrz2i8azA4PNGDvztDyU67pM6kO/vpcDyS3FU8y1oHPOtidzykz4I8ONhevEPGrzuVCn47cMjCPFCNNrwcm4I5kFGJvKQZX7lS5PQ78i+gOxWRobsATb652N8RPCkKEjuBE6U820kKPAetcjyFXYe7GJKCO2mqCjvRr/W5sdADu03phrxRq/G8TPu7OzUJU7wwiAu8lDRiu93qgDsUjei70SqIvOBIBzvJG9u7oxsMPHEohby617A72gqEvAGgFzw8R1K8HLMRvCCgODu7RDo7uxRQu9+lsDo48be7S4OVu3oVK7zDNna6i8eku21jc7v+37y8P2OuOxgwEbwCDFK7F6dZvLHT9btIfE883Ub0O175tTx3Efc7YwE3PBi5bLtsdsg8BzF3vBveB7xQdDc8WyTIOSCaPTz7V8k661KRvCA6Qzzdowm7HJQyPK7d6bt4nQO8k4gguzhztrvJCq06mla7ukfA/rtXB5k7ubSvPBJ1FDxlgRo7VsRVOkCBxTxeh9I6EWeru6WA9bu7sKc5XrZjurJACDlAQUu7FD+JOwCr3Duf9sq6apTDu3Jebrz8dQ289aDIu3pFWjyGbRm6QHPnO/PsAbvTZfW71lcPPEp9pztO9Rm8GURDvKsxmrwuIoq7vFLou38epbvScIY59HX6u1RNE7w5fgA7MjqrO/URwDvF7G88qz7suvgLG7zY/RY8V1EXOC4hTzwgVwA8f2owvAWR67wC+fq7BPW+uJMl3zsA2JI7Hr23O+yGJTz/wyM8ComIO29u6LvhZv07TQm1O6adcbwd0DG8tMkNvJc6s7sVd8c8WU2Ou60TUrtRH2w8cUL1u0SnRLsWnT07eyaxOuMB1rxXvkC8g0S+O+o5ALsMqGw87qCAPFlEe7zndZO7x18rvGrslrtQT4w8Cg9LPJAyKzxAgdE6MOAHOzTf3zunHJc8gHumu91mlDvbuSk8RUIwO3zWwLvMlz26iI9oPPFXWruJ3wC8oVWju1rTwTl5Xoo7NxPNO327DTw6UP27To6SPNaXnLrTdEg61JlpPGCFTzujOig87OxiPFaLgLxEMn08QyJBPJwnsLvgmtW7L3GSPD+FbDx8GHa465hlOzEkv7twfjK7I0QZuxAfdryZyYY7bCQVu6Zn77vlPuA6QekpPJHgBLx553o7lgRcPO7skjqLCBQ7TOVbvD0TGLxOXcG7M0j0uC6yxDwPMnE8b6awORnMCrxuZl88YoLwu7STb7vmAbc8EiRsvHKm3rs+PZ66UW2vOzlZaLwD28Y7FCGfuwPel7ve0He8M/agOpbBerwGwY+8tzLyu4Fy3LmdqPU74XiMumqLXrzn5Q27frV7u/1NLziIYdA7SKwXvOhY/ztBl506/brXvHm0UbxgKpQ76JSBvDfTBrywSIA8kALwO6tcOju3zjW8YEwPu2kYAzwbEsC6ls2jOyadx7ti7Lg26boXPHNmRTzXES85Bu5aOiNo/7v16qm7fZN9uTU6iLsrDys7I2CIvCtg/DqyfMo7zjApPJYkYLwYjGY732QNvInVBbyrRwy8hochvIE6ZjuWLJY8XaAavHteijxIWMM7DdVQu+SruLvyTpe7SEwsO3kOErzshSW8CMg4vEz2DzyKsYa6HZ28OxR2hbvKmxg8oKWAvJrM/zld1yu66eykvMooALyvuyo6FXjGOlYiCzyaLG47KvI2uqqCfjssOku8ZAZnPLwz1rueona7ZVWzu7g2Zjv27Bk8ZfkxvGve/bqXMNW6fejVu93FQDxQjbm7KLqvO4RJCTo3jIS6s30CO7OWbzuT1n88i83MO+jFC7xEHcG7a6ftOxM1k7yUVG27P1MUvKOlTzyOZ6y79zgCvOTetryq+1g8EMxbvMlX7bv6xa47ZNarPINUfbuISNW78wWgPNvvB7xP5C47Q34UPN2SMDtC8/05eI+uu87NgLqxFTS8wNZUOwWh9buIBQA8tbUVuzG6KLt1fIs8qT+duxEBL7tTPyW8eZyDOfxYLzyG9Ew88ja2uptpcbwThPG8QW9ZvE8LPLzud3E8y2XzO8Rhsjsxqki87pGhu+cqPrzsv0Q8e3t0u8rDCjpgEbg84RJGvJynDLxAMsW7zdFzvAguibvK06c7wNisvIJj5LsP8Zq7KRskPA8HPzvLkS47j+4HuvlFWDygBfG7TmfnuYHOVTsh/ZK7+3kbPI9PbTzPb1u7SDZNPN7czrtLXV28MwIYvNj4BjtZM9s6ymGoO9IAczyfe5Y61rEDvDAYz7vn8+y7FcEUPPWShzuh7om69vuSO8AOF7tcXYo7KuJyvHFZNbyMtiA7i/TdOyuXKjyIUtC7YpGKvOxkCzypn5C7sD4mu9xRz7tU+Qy8osutukAZojy1U6Q8c9rSu1mhCjxgGeU7ofCUPCIbPjxFwQG8CGghO684mzoQ0gg88gbmO+7OG7vzilK8EsBqvDvX1rwkFP073L8qvO3QFLwRyqA8kIR3O1PxIbrNfQe7YEEvPFdhP7sgazu7bn3/Osy2cjsIl2A7606SPDaZabwIxsS6ejtDu57FMjvwIcc7KlSWOkgoiLz1X8q7Kdx5O6eBljyBvkw6rJsqPGKJFbyz9rw6XVd0PIgjrDxFQN47y44WvLHoIDzK6O87DPetu1VStTmrWyu7jAnPuwmg6rsMas27wYv1u93+BzzSSxi8LAsqul6xDDwXL4075ElbO4aDDruRAjE8dG2aPLSH27vCgDG8O3E5O6QRgrtgRE080bIavCOwkbtjnUC8vGaYPETVQLxHK6g7F3t7u+Wcc7uCx7U77M8zvP4HFLzEbQC67ob4O2j6zjwtPAO7NsRBPGFGfro7dvg77EE9PBT617oleJ68vYXruiq9LryLCHY50IHbOziYdzzGLxu8rM6pvKSRcjtM3Me7ZAWLO/NxbDtiMpm6RwkFu5+aT7oI8Qm8WwGBPCwQ6rsaoYe70IccPKxICbyND8W6Q/R1OzwWVrw6jmS790QFu8+687ui5R88g1eFu9+N9Dx/awI7P29lPAfbtjuJgRe8HrC9u1fnCrvJa9I7nhuauzHdALzqeLm7F2gVPEQP/jud0mK7OoEgPBELabsbI1K8wgHcu5my6bmL9OA7UDzEO7cG7TveVBg8H162uwbPpzqIjnu7Hl4FvGgM6Ttq2Im7bZcrOglFAbxTRYG7N1MRu3+OHrv64m+8+6Q4vD7dFTxUyhs4PMFvvDrZjztL7bI64mcbu9wnNbxvn7o7Y6ONvINvHbxIL1879PjDu8EP47uIKmI8OENQu+Y0JToJUIo79IBpvNTplbv+GKK6q5pnvFDf8TuTglK87za1Oy6xA7wWOc46hiGEPOnYvjqyFSM83gpMvIBAybyMeQa8eo3cOmWSMTzToqW72Nk5PCA6frv9JL67t55Uuy3KijwMD3g8G+hDuySXurvjZHG65JBAO6fqEDuhMfM6lmAyPA1IGztTyCC8ofIROkqRJjyZgP67GPhcvKEyljtB2Xi74OKEOq1r2ryUOqg8XDDqupVfnjwENi28HWLzurpi+LvtGbk7L1aeO1fRCTzydJi7v0mIOrz15zs9mYe7ZMuxuvBKl7t3tYW6N8GGvMdPaTsu/4+75G2GPKwgCzzMyT47oAHau4NqmLvBCcq7KcjgO/rohbtRGz07j5S5uzYRwDu5QwI7RF4UvO4PhDuoaZc7fzbsuxLrDzzmtIs6oMzYu5dr2rgBM4O8bDI2PIXXfLzFhB2725fsO7RWVLvupgI887p0vIX+CTxJ29c5onQIvGFHfTuoOI88QwaHuvjD7Lke51w8Dz5svLfux7tb6vo6iShlO5atxTpbb6i7mWkcvOJPX7uf15c8IKI6u+Enrzt2bTI6add7PK51abtSUCc8bZQFvJ0pHjujBIC8mqpnu+zUHTtQbEu7Ocmzu+vym7zAUNS77gmzOzc0tbsF/Io74r/Wu4x45jvSWoA7U+i8uzcAs7qreYQ7g/1zOyvlYLvHp0u7bgiqPLR/HzxzP0g8lm4WuyBPFzzCeds8ygBFO7fi4Ltw+yg8awyeuzodB7ydHCI8dz+IPMIk9jsG4UY7CE+IPA+EWrvqbxe7shJGPKW3kDx/sqg7M2gVvCpKqjuDZ0m7WFYhvKoHPjuf/m+7VJLJOuWAqjqbOD68ygb7O5HYprtwZX28BVy5u+5of7xlrZs6gDTGu3aK2Tud4Oc7vFUfvAkmEzyzxqE8CSqwOgWK8jtxvtq7F6wwO8BkQjzeoE87AiGdO6Rjcrk1aQC6VJvOu09enTz1qtw7xkA4u6EIBjwA4DK7U/Lju5l2jTvck7i7OAypPL5eFDvyE5m7AMR0PJ2PIzxqQtm7M+u7O64CH7uLGIW8sg4XvO9+KDycTlU8D26dPAUEr7r02lQ8qdq8upCiYzzkrym80tWIuxJfwDwqSw073i8QPBQH4rr/oec7v/ZvO5IWtLrW70C8wxYoOxj04jvmQHw74n98O2fQXzwc57I8bTCtuwvYKbp6hU+7dLCIOxkFqDswV4o7oCpBPIXsqDu4j1Y8t/yDvO7oFTr2wB+817qrO8tdHLvfYS45uygwvIE0ZDurv368a1sVvDRBv7up1x084Xo1vG/bW7u5VTA7pK4AvBTtFLxNl/k4LmW2u71DMDtjfDW7FSzhu5y+NjxyiRA81tj+ugrScrzAgVM7T4bxOlK+yTmhQam7UKh5PA7BZLuPR4Y6yAjpO18M5TmCvKK7+qzuOxPcDbxNbyW8uXbPO4nHwLt07uO7AosSOx9jJbyEnwq6MP27u9mcpLvqZic72CPzOoWkabzORrC8hcSbPAmXFzyhLs47RkdoPMujHbwa2A48EVIRPKF+NLhuxMu7G+8xvO08ODyYagS8GstFu/FdzjzivtI6HeiivMEuEDyghPG70H5KPFQ0tjvk6Ge8DBhBO6uVwboM3sc6P7Eyu/ZAWzzp4HW7Pd5HvG/IkrzSynK7buUuvExTprs8NZE7VwyPPHbpkLtINUE8ehM0u3qeBbrlmj27CPLZvNewTTzU/ja7RtDGPDNeFjthH9+8SQ9YPAy4BTwhEc27cM3yO1160bvGDrC8Hr/gu8qzvDvNs7M5hL9YPJiyzbo20b47gjpJO7R9kDyHEh48ACWEOce+ijoac9M6iECVvHZAbjoJy8G6KpsgPAjKmToGYaW7RL58vNmVBLwsR1Y8+eszvB3KbjpmGwm8fbRKO9zPI7z2SB88z4oNvB5arztn/bs8wrsKPGaI4jtLr6651eoBOjZnSrtgb+A7bpmgOdJfBzuvYqo83eiZOqM/m7tDRQ48SRyFO70urLwJ4wc8V12CPMW2bzwzhpU7qOcIvHGFJ7y0nqe6aOLlOhLqzLxWo7Y8lYJSvBY7xrmDOZG63HIPvJlVRTz8Dde7XAdYvE4febyR9rC8O/7vOr5jWLwJA5C8uDOkuz8nibzqg7W7qAXruqgyMzwWWGw7jRXfOVRZ3bmnpX08VZIpu2n6uzmgmRy98jOiOqzBhLxH71i8cmcHu5o6BjuOQUG7MCGXujMcWrs4uZc7eYbiOzt5ZLsqXa27sRc6vDt71jvVlv47wHm9u7D8n7uhwGq8KKi6PP5kiTuKUEw8niiDPAdSXLmCJvO7pLY8umRUNrxZlbY7i68FuzWSQDu3c5I7d2KIPKCBBrprYpo6RsMBPKh9Rzsvb2c8tJ5HPF+BTbu38Ua8RgEvPBd6HTshcjO5t0CHvLVbCbtpeok7ZSYQPF5yOLwI3CC8ICMgO089X7wejQS8bPU7Omo6xjvqLnM7+ybquok6ZrqcJpA8weDSOkN9xLs3eaw8F33kujWQArzFbKw6z6lAu5TfALzqYI289AICOlwsgLoECMU6r+Bwun4Jy7vhvUm7vJ0VvDVBhDtPRJy7i2fzO5bqgLz8syA7KLzPu7BMo7rOGOu7NnkDPBv24rsctAy8hceAPBkViDtCEzC8vFXMu/I2FbrzC665/pCvPFXtCj0Cf5M7YmaXOj3VArzxAjm8ts36OrFpfTwAs027fYACPDdheDwOA4i7SH2Gu1AvWzw2c/O7FIyGO7fY5bsAo/67q0CauwWDaLviP6E6pB3bOy0poDr1HRQ89f4TO35jAzyr2d+7QdWgu4En87rUiwq760aGu/toVDyON5a8GmGMORKmobu4cYo5l8VuOw/dTbsPpU67Y61mOxDR2rtI2Xq7n7WkO+k3J7xIeWq8WKjTOhxkIrwNac+6AewoPFYHeLyIruI7rx8lPAQ9rjt1XjI76R1HPOtC/7smv8o7h1UWO8nA5LtMQKg7Ns3luw03JTtVB387EMkNvCU1LDwYN3W88wraOcyWBbtrX+s7WxhSPGWMxLw5LWG8A4swuy6tDzwGOqs6ACy4O1vCzTszpVg7oHqQuyMhtrsFBKw8W5LnO+IKQbwpw5U8N5JmOtJKnjzDT1O7nrgrPHB0/ruIP5Q76lkNvIlBpDujf/g7NwMwO0NZPLqbtmi7/e7hup5qlztLFJE7vzc7vBImojv8VoW62fNDPNWByTxnzKY67pTku47LVTz8xM07h4dvOwKe1TvLene8jgmYvBpyp7nITa27eIwLvN7fq7yRd0+8nWkvOh8KeLu9R4E83j2FOzxDTznSuY88vzw6uyDrIzzJAFg6sHz2unDdmDtCRUO8sCKaO8kmC7xAl3s8t1blOqSCqLrWrzS8IZgJvHokAbyaPGa7fFl7PJ629TsV/9u6ZCpTvC7lZjy04EC86sEPvFi5oruG3BM8EccHPDwz7jsJ4RI8T6pLPCuA47sD2cA7WZbzOosiODwGEOc7Gb0FOgPuFDxiwyO8GggEu45xpjzG8T47iKqrOzNr2btmqks7FwY7O/DlM7tGO9w8F+4XPHpT27sNi7K7pS6kPIg5+7pKQ8I7aZXjO+ILZTz3k0+8npwnvBTemDoGbs67y2uduyJ+WLu/e4s7AjCsu5XdMjp82J66pV9MO1x5NDwgpGy8eWA7vOY/ErtKOhc81NTZOy7errvLDec8dg8vvK0uLbwCF8A6TQnWOQgjMbxZnYk5jdmCPEV3zLpm9Dw8Wv3RO4fRobplZcu7UMN8O7gHzrt96H08zcY6vM/+VTyXTnG75LWPPA511ThGFMY7nkAsu1ESvTvEqVK8nRCLvLlBZbzhAh08fTSAuxGVBTyfhfc78SDVOxJHWDulQjG80G0GO4HjSjyFPLY8rlWquwCX3TvhYCM7NemWPBsmJ7x89ga8N9kkPJM8sTnw7vK7SD9qOyizo7sIsyG8EyIQvONmDjn3WaU7Y5gcO0nwZjvqeG67/CDhO71QBjy3vio8ZYErumw4XrvyOfY7J7K6u37uTDxQhLC7XxSNu+6GPDzTRs67W8Ogu9RrGjxInS27bj+jvDt6FjpfIue6TRAeOz0A+Dvcr4K8RHQ9vNLP/rsEB6K7GQGwvN8SYTxnoC27wRt9Oc1pjDoX/zo84rUlPGdUo7sW/AM8wP6NO9zhC7vIT587fjDTPOJl2zpmlB28IPkYu2N2ILyWxPW7+IgiPA4qAby+3KG7M5JCO8R/ILtoyVQ7UPwUPJ6BfjxG/hG8JFdmO0v1Bby1THQ7tvNiuz+9cLxSM5a7K195PKnsxbsh6GQ8a099PNGirjteDJY3xw2QuGXn/jrVui+8wU50vKXUr7k7sDa7YYeFO7KwgjoPRXk8ZWCPvLPvrLuwE748XUH7upGY4ruTdrq8YAaRu7uTRzyAMGW7AdyAPIM/HLqQ7ve7b8iBuy8mJrxMiM67QGaruVNlAjthKFG8vdFWvG/FhrxYAkI8HPpxu44YHLv3tXE8Fq/BusepczweXFU7hVJAvF+ilTtuCcA6Ry7APCnerLuCyq+7WP++u6yfXztugwO77LgePKz7UDw7odW7F1rnO2FyF7w3wfi74tBqvEWULbx662E8NBQZPBhsz7sjRjy8sPyOO506fbp+Cr06PRF0PG1UBTurKm08moxJO8S+ATzXjf25aCAOPL020rtXf4K8k6OrvF0fxrop0Vk7q05Uu/aDOjtZSVW7UcCyuwNOBbw/FhG8pqKCvF+gzLseynM85SB6OyLPIDxs+o07utyZPFSxcDva2Te8Kdyjuz8rNjvfGl28lxyAOwx8obyOnJW73ouPvLXaajsOqu67nPubOgtAxrsArlq88hf2u/Ark7ke6Uo8vsEWvLc2iTzlCsu7MVsUPKYcKrtU3VS7v9FnuTR20DuR9DQ73bOMPG/Y3rvhkhS7S81du1KaB7vomjI84VIWvPxhxDpyp9Y7EQ/RuZC5hbuWdQw8TfTMu+01fTw/AkY8HKBavAPEljtsKjA8q2oAvEcJzTuAA4q6czFjPLCxp7r0IyQ7yHf9u7xaKbzUcpy7JcpUvBcJFrpu5128cmt0u/lvNry9pSm8M7qAO5ulqLqHXMk75RWxPHel2TpVGiy8zUayu+sebTqnglm80+CZu+EoSLwbE8I7n6e+u1jFLjywGLM83EPIO3fJ9Tu+0G64ncJyu2vFobuCLxu8tAGOO0by87rtacW6Hi2Ru3pNijsJn648QdSFu7yCMLvXPVQ8+etrvGM7aDtw6y08KEEqu7lcErzASNW7jGmbOkbECzyOluy6/UnAO5XErTuXn/U76KsYPCAxbjwj1Fm8ffQJvPfRxbs1ghu81hy8OQ79RTxU5hG85YI6vM5xf7wfB/G69m2Uu+NZI7zOh3A7jASMOtE+bzygnc67n7r1u61G2DvlKTq8p8ucu15/ibz+WLa73+GJvBlu/7uzBHI7jH6hu4GlIDzRwQA8Wd4bu1jZkLko8Wc82l6Fu48GLTxhPYA7NqtgPPHvELwGyie8+hUIu7aXqLv6CAa8SaoYPAOkSroRjWC84geyuxzcsjs9gYi8dFByubhbIry9kKy6K8gCvAUn/Tgp8wC8dYsUvIyuSLg8PYK7aT22uYjnsTsLv1e82ndMPGNuirq//M46fP2dPLOVGrzrHw68m/0YPFSmyDv+TRU8LKU6vGGyUjyog5C8jGC4u6y4Wrygfo4734BAu0tQarysOdw7eUaruiPwfjwS7JS8ypbQu2+xGbwFWZ08IAfVOvF/VryIWKo7zDQFvJCPGDyxUFS8oRCAvAFfdryJ7h28qecDvGSimDy5ZTi6lBtau8f2brxdoNa7GwSmvLUShTwDsWg874wGvIsHUjx/50K779PbuuzR+TtgJg88R9rbu6RMJLyV/ba7JUxPOxzm3zk8uQw8jBbEu9aGFbs7BjQ8B9LAOolIfTz2DgW7bjXOO1VSBrs2i5i8T/MrPEHRlrwiXCw8l9RNvBdHG7sHDvi7ruXJOl6jJDwk4qC7rwysO3uulrmgtSy8Fl8kuxn4Ab21k4a7LoRguz3gRTvhoPU7sb/Su6e+tbwFUyS80c+Lu6DWNDvt0+y78USLPFN1bbsoaqi8DhzuOuwOcDz4BbO50mdjvMMN+rucVSA8KZtWvEZnQzzJHNA7UKGnuwlksTkxkB28Bng9vPTrDjz1eUk7mKIKPBhOODyqRiK88ZVzvBceBTwBnu+53hGBvL7r+juEsYS76u+ku/Jz1zuCUxo8r4l9O9ZpobyGSNU6chFDPCa+JrosTpi4cEgGvJB3uLqVFie8VZ33O44IQzt+mDe82LQ4vCxCcTxfgXI6oQxyPK8DVrz4jvm7wpyTu+P33jrfk8U6jdwVutCYajyTKUK8dirPu3UjOTxkzhO8gSaNvJBMITz511a6jnvEPGeW5btQrgK8SNcWvMH1K7uPqyM7UitePBqPyrsJ6ik8aOchvElz2LuXz3w8LihkOUBOXrx2OJG70AzoO8MAkzoou0S8t35GvLFmFjqUka65meuSvJLGxrxbjhg8jxEgPMOzSzwLcpm6q1SGvLyJa7yCREy8QRzCu/JVvbxDpI070mOrOh8OzjuxMae7fsiWPFmlDjwLSRY56WewPM9jlLmqVjI8cZPvu43RkTqe2G86DTiCOlf1z7r855c7DD4zvDekhLpiBks82FmuO6GLGrwuvIm7bweOObv2qLvF7Bk89jKau1MpDbz7Ch28YtSqu2u+Sbsb4mS8/4s0u8UIIbu6yAC8P/s5PARNZDokBQA75WFAu9tUW7oASkc8YBJlu+KAEDyccPG6NDKZvP5Ohbzgwzy7JDe1O5czwDx5VZq8rQa5vEREHLxDOqu7rPE4Okr0HDtE54A81wqJPKsnazvdgJy7g/RUPJMy0LtC+E468YrZO5ULEDtJcwM8HZabPEo5KLvyqyC5/ikGPG8FxLv1il28fYhqvFCIxLvLgdA7Cg0Buv/DUTtW7aQ72Dl2PMhOMrvnWZo77TCqOrERsLxk6by8yEyMO5B/vrsw78C5ogf2OxPwi7z0Nf470Tw9vGxDWLtfHXI7biCRO0BH4rl9TXy6/ILgOoxYh7sYtSu6mSnMu9hNKTugbIy7PYieuxNhdbuwUpQ7BQGMuAR1tbue7rC6oZeDOycp17tLeDw8250du3A5t7t6jis8rguWPLAjgztA4ju8mfehO1VNmbzd+5Q5VS75ujUDg7vrsWY7pOqJvNx5VTydv2W6Dp8evHefBbxdyMC7+8LoupsBfDpXTgO859VFO8ypGTzLLue7fICpO4s2TjxH6xW89X12vIQ5OzwWGGc7qNWQPNUhb7y1Jz+7iWz6ugBKAjxV/EM8KsMfPJUtYrxeYuS7rP2Hu4PdIzt6uoG8iOQwvBkq1DubYOS79mNYvHejHLmnkoc7Id57ulesyLxZAKk8oicROpILnDs1diu8ifXCu03gFjvYKGY8n2WlvGZaeTvRFkc8NzRVPF48J7yr/Mk7G4nGu6oFdDvWpJK8r5gFvCUSBbvXpdW5QH4BPClhmjuddxO8TT1UPDOaD7wFejQ7uW3ku7gZmbtpz4m8xQYGvMrcJLyiko+61xoXPLluMjsOju47OOYLO9/5Z7sB8mi8XR2Ou7sCk7rJvJE7tTkDPAuqtTtGdTA89kUaPCy0h7zWGc+7xFBiPKmgEjyEEBC8dZMsPEWOZDqJ19G7XfKFPB4G6DvHt2I8bSGNu6m8MzxCK1M8N3C1O+THh7sdyGG8sylKvIymwrvfeIw8fWvIOrKFwTqv3Pc7ak/WuyEXFDvpZtQ6IcxJu5WoLDz9bC+8Ec8tPGE7lrpUCB48S+CGu9iaNzy2A6E7BaQzPPlygDxPfMs7zvhWuzrojbuGMQk9vGCgO1UjoTuPDA28AEh8vPE3zTpHDZ48OcIMvKCLtzu5YKq7r7xAvEj9nDlMkz+8UA4OvHR467wocrk6/CFoPFwgJbxVAk28P1NsOyiRHzpi59474Wu0O/ZZADtsMtA7qHyfPHrv9DpT8WG8cnBiurYYDrwaY6881lCUOy+dZjyVGMI7qZoiO3LROLzv+Gm8JtLNOaXjKjtjh8E7jQo4PExoejxWpw074a+WuT5AKrwzEiu8lLEPPOKF1TuCuRo7qZqCOUqe9zoj/Qs8jr0CvEJNJrwU99a7yHtJOwSjgjsK6sK7n644vHVL6buekYI8yxZivJFlQDvosYc5uSQTvDFhRLy+roa8Xzj1Oym/57ufqoM8ho/Iu1gQJbmgcU885zwaOxDcujwEGxi5eCL+ujY6BzrR7/e6RLN5vKJdIjv4JQ08ysucO7kOSjy+GjE8QrZ6vM5UmztYa+a7QTyJO3B9DTyQGoq7ea8evLYpCjwwVb07xkKquwr46Dr+wg68cz+yvEUCjjzQaJ87GBd+vJH427vxBIy8wFN1vB+Klrp6t5o7nuYzvOYmEbyAaKa7erKAuzeqH7weQe27ZvOFOyRuaDoEUaq7etjiO/fygruIN1+8bk63OyfKyzu6HhQ8e7XLO2dL+7uSit67dH59PGL35btDfdK6G787PH+WX7xDxSw81rOlu0CPhTx5Ieq6pcmFuxGcrDtOp+k7B8APvO6z6jufrAi8/NHauwuqfDtsEgW8HFKsO4SINLzMxzQ852zSPKARFjpeprK7zRIROq1Z+zqQbAO8YWtkvKCDeDxPOuo7qDLgu4G/6zsEpv46mPR9O4dR8zn0sgM7+f5Xu6HByztiJFe8wltXu2TzszxjH/+7pxkBvLfrPrtFkKe74+yKvHKnhTxr4XC7q5RKPF14JrtAHvg8IoiqOoHDRDxFtS08BX1tPMRUnDvbLu+80QnWu7MHAbzm/g48U1MAPLi4lTp1vAi7Sj2dOy6dAjkwXgS8EKijPC9ZVDzNZNk5nJhyO8V4U7uXxVs8W9pGvBeXVbx/j3E88YmMO/uKIrz5npU8WfqAPBygNbtqRGE8XLNSu4A3RLuprpG56Ee5PLAAo7s8Ba47Ow1oO68IRLv0ggk8hbaNu2Rsp7zrPeq7ODxhOyahp7zIMG48D1BROloifLwGay48MRJ8vKqDizvO4G08rjcsu13XG7xoEUe7F7W7PG45hbyPOt07GWg5vIfILTwdgSU7sZEgOuA/6DqOigk8aj2QulDxNDxkKh48Gfiqupo5CTvquBC8C5cJPNYX7LvvuzW76O1JPMyTIbvwAAm8PY+QvNSSaLzqBqI7V9N4ussLxDvKjvs7SS3Juy56E7yFeKI8+NFYPHUG7rqhqXM5UKO8u+3xHDxa82I8e68HPCm34julMjq86Ql+O37AzLqhoA+80Wx4u+MlYDz38tK7N0dOuwQUSLrLSZU7ZGKNO9xN9zv6iH47Nvi3u48DCLxKY4s7YYK5O1i537ui6Y66vpU0OkR2h7tF0IM7CTYyutQQz7tYn5E5gdSIu2VjODw8S9u7K5aSuxh8p7tiL9A7ZQXmu/VGRTzfaBs8m3dgvP+lkDszUuq7hK+Ruzt0KjupRhW7FfJQvDEzJjxI9zG721/ZOt50d7y5fci7/avLOjcjnLshb5W8XYvFu707UjxrXuI7umZKvOST4brgTvm7ZOw3O902Lby/ypo7Da2YPLd347ncJYu8C6icu5d7SLztqli7SLS7PDm8XDsTpoO7eZS1POGqE7xBTIo6pvnZOnwukTv3dXA7vJlju8G6BDzEKRO83Ph+PHboS7qz5Wq8go0muzjepzyJeS27YHeLO5Tb9juZrDa7FceIOuIgIbo1nqo6kB/gu9q4dbcl71888XUVPLU+wLoHDIY8aAKEux0YJjzN+UO8ln0dvHfXkrwJrD67uRBZuqvJTjqBr0K7LR11O+lmpzslSSW7H2oTvGLT3zuJicE7WFVIPDSPursXWT88d/E+vEi0Ozx22py7cBoMvBc7xTqhYKK70XnTu7X1jLvxXMk7k+zpO+tO5LuCxmw82gH/uc4LZjzysFk6iykmu4j7XzuUsvG73HH8uzzqhzp503u8Ka2KO+ajEbsw1YC88PUlO62ljLyPKp+74zA8vI8gjLytT3s7KShYO1mxQrteqn08tIRkPECCGrxvdUE71AbiuhM507oiTjw7y7eXO3a7TjxVyyK8sxhWup2qnrw/us27glCeOetl2zsRQ2G806FKunr6Urx4tBW8I/QquiQBmzs94pQ79E7kuzXYt7sROsA5zGxAvAZcL7yEcBW8PKRcu9swATz+fzQ8F63bO60gAb2/aC27g/QwPG3OVrsX52M8cxAvPEJ1TrxhD4k89FWgO6uVtzwTRki8iLgNPKprRjwm5Qw8HCjFO4TZjDzVBJ67Ryewu845wTw3+q08k74cvPs/DzzFYqQ7RskrPHjZkbzGoL27ms6PvARoprvv6XU8iTfKO0GK2jx3zqI8Q8rpOp9jTzoclEe8pimXvMkYJDs/XAy8Fim0O+0x4Lv+q808MBu+OqjfpbvfTHQ8NVbWu6T3PbjbBpY7q4i5O+Y1frvgz6s7agBwPIx2tbst5yO7D8eFPIfVyLvM5RE8NTIoPBLeFjzrwTW6R8nCux2zJDjrfEE8fX9FvK8QuDsDsgS83qsmPMmuXzwb9787no7Gu6Vggbss75A7uimWvHHrsjzqrcs7CxMxPIUrqzvn6YC7EHi+u3/3xztJyIG7+wUxO1ck4jvvqkC8KoHdO5d4wTsBg5y8sXB8ORe7QDxzyjc8sxU8O87lPLqL4Zs6bNGyvB8MVbldER+8GiKxueJL8Lut7AU8ge5GuxR1ozucFlg8rYoru8hEArw/fNc7olRrvCb+kjncmNY6izLau/l1dzuEiuS6OND/OYL4yjr5YS08IzbEO+2rlLuq5Xy7HKj2O3JR+Lq0gFA8KCeQu5odu7zEXkM7d4+BuyldkzpuhB27dHUSvAO6lzwEcpe7bzSyOjaOyLtjmVm8j6a4u6fHE7zLLQc65M7tuwgg27m/g9Q7fT8WuvDeNru63ao7f4BWujcvAjxZK5o8Hcy6PP/7jLhvMCI8PwS8u1s66TpgCpC6IlePPKIxJLyoFnM7/e31OkRLMrxB1tg8VWlwPNAlKbzvsT473jRNvMvs6jueQvq78smjPB4/M7yHvh48ZS2XPCck1ruFGYe8O91uuzYsWDvmfu07dvWIOvaYV7z+WY27ByEZvORjKjwVkCg8BuHuO72lIzv1Pgg7EL2NPBlEhjxaIbg8z8xKvJXIa7sYbam7IAR1PNd4n7y9uzC7obLKO9qUz7urJBE8UBnnulzoOLvdyeg7BNkHvMlslbs4uQq8vhXzuj0QCzwuzr88fXcpvDCKF7uowUq8x5GAvMtLnDxpzhQ8+FOeOvNKh7s3HIc4lNqeu6r1vLxBfNs7cIpZvDOatzt4wnM7Ts8vu+eRgDsBCUW7vvDWu1tWmzsGuLC7L700ur3BwztDuXE89ByJOwtWqbvumKo83oEovLI3HLxsk2G8KwBsOsw6BjweqgE8oDM5uSEyFjzFnR27CFtxO9hS/ruSEUc75a+6u5g6JLys9Re7YI6Eu6SjzDukGAU8FrRNvDl9gTxCgmy7bncbvNYT3zqim5E5gjAOu5Ys7DqcQpM70Crhu1K4STyf4JW7UE87vKt+Pjz0LlY881OMvP0K27zBkIC6VRQCPFG4I7yj0aC6ipkaPKgwgrw1yum7kJy0uzeFmzrMmse7s2q9u5NbsjtHIfe7E5YgOzxBMrysVSw8pErVu+jHPLz/7Cy7M+57uz/0qrsbZgu8WqU3vP9Ksboy8bG7ZfFUuwU4Pbozjno820wlO41jj7vtylw8WAR/upAOmrsIwa47T1d3POqHQ7vtnrg8ot2xO2qSBzxijqc7i1nMPOeEqTtHsAw77+8xPBccSTqdgpa70CWvvEEEiDw2K6S8o5b6uyfdczt/0427MlEpOlkqpjs4qrE7+MYmvNLo8DyaGom8t58DvQ4LNLwd2s67PWi7vOONojwTSTu8A113vLPTErwpZ7g7UPIePDGzvTsuG7c7XA3aO0xcZrx7pbe6NEFXu5xgpjsPaLG72AMxPGcTL7x5CFy8eAoquwuVtrsHnRI8338tvJoW9btH0Ns8675GvO2m0bsFjgA7AIGou0JOwrs7dwi8G4gSPGKzKjyYYGg82Rw1PIl+1Lq8LpK8PcM0Ox1K8rtenYg3Y3K+O09XJry5cqk7lB6dOx6EJrsPmGo8WXE6PItmWLyztB28UXesuwdatTsvKvq6gxV2ukQVQru0CLi7rFaCvNsDebsHWn08xKkgPKdPIjxM3j28ld4PvC7Lf7nEBXm8rjUPvLO127vaFLS5epunvJRNYbufezy7EzUnugwU3Lo1u0I8KBV9u/gGfLs+hDK85gfKuzMBCzzq/FQ8WqFlPIQoLLxqXP27jMa+O3qc1jsnSKO6e2MfO3W67Dqawdu8Bq/Qu5UHK7wD9ok8Boc0vC2GUTzCkKq74fkhvIyTKbtERnO7n+o3PBk0HTyt6SG8H50dvFoKtLppxzc5uCqzO5+fi7wu9QY8BuIEPMDr67tMbiw8B7jNu2KwBrxny2w851i3u3G/xLsapIc7rgm5ueMbqLxcFjO8KhG1u/fOwTuBMvQ7zrx1OjGvQztPtHy87T0OPKOKozo6Y6W8meQBPHsA0bvB90i8Q93YOy0NIbv6/GI8kLeLN60afTy1PBg8EQGDPLDF/ruJB0i8G326u9bbiDxavE28xb4NvNRiLzxKkJ48W0ZJO+WjPzv6C4q8glpTPND1Xbx9WZG7bSWRPM+edLxJu568R2aEvHelFzswbzS7Nv+bPJ604LyM0rw7rGX/u/ULarvuJLK8XllROw0s07ueVEe8vN7MPBi+3rssads7lTxzPPO+Ery9+Ea8mg4PvCkdzDgrX9A6zJgju6b/c7tZiU68svq6umcKxryZm0m8+60fOkUUM7rtaY070lH4uu+PujsjgCW8kgRTu1tRbbugxM47Y7d2OhIfQTtn6Qc9oIRRPDAzpTsFvlM8iUh8vCtU2Ly5snC74bdGO68vqjxB1gq8+d+2O7w0azxpulG7S6igunwqGjweEaA8DR8tujA/+rtoeQa7u1Ycu9OUcrwXPGE81tcavIhgZTsM0Iq5i6U2u3Vv7zvA7FQ87epDvGujg7swcr08xpSgPO+3HTqa2Fg7bBFIOxRBk7t3QOe7AqgUu6BAczyQ+9u83ZXnOUUmF7yBmhe8AhqDOwn0F7wvTnA7ycSIvM4z2rnZzEk8pAF+O93gKbt4qeU7V9XIu9VBe7tEEQc8D3ByO/Lynjt4q0I8TK18vNAIXDp6v947wzEsvC62J7zvPWM8W/kjvIUKjbs7aqE7BNsvvM18QLxdNnM5Fu2pulOxEjwaWLg7THxzPA/Kjzt0BFs8w7kwPOWGqruqV4c7UP7HPN2mobvQvQ87TgF/PNOIgDtGt4A8WwmvO8Io2TsJ7cg70aQTO4sV/LsxPHa8fsLcurlS37uWn4a7DX5dO95cprqS9Gw7YhgCu+wQHDykIzW6NY0/vEBZHTwb5YU89mClurl3K7xjP8M7HTqLvEkGljvZAgC7Sk+ju5hlrDvEvG07f44YN4Ypujr7Tuw7Ls35u8KU+LutQsC753XBO53jD7uyChc7EIeVO+pMzTvDZz+7nAZBPCC7NzyB+6w7NxBKu+5RFrvGoxO8dFJePKlxnrvKOKu7ZFwluzB9pbtPlmW8G2jROqyfDryDFHM75q5lPEJkP7yUj+g7RUwYvCF0iry6ZPK7O95Qu5PUDDrXoRK86OTduTc5Wrx2KI47MisOu9UrkrsEy7q7E7C4vMOLh7tRdyo8GtLnOyYeCrxlckC8oGZNvICSZbu1K6U72bUwvP1r7jnXAnY8sADCPHrfkLtOw4+7Vp3su4kxzjupPpg87EM+u2eUIbyGoko78VoSPJbDZDwPR9C6IfdzuZlltbyd1+86NAwqu2U/jLsRi107XPIHu2mXiDq7WuE5HZBQu94hNDu+3NE7x9yAO8vv6ztJ/Wc7nDw+u66kYjqjN1O7iYpHOrgCWLxjkwW9mOKFOsNwlLuX+E46CNWru2pSjDzEvWi6/x3Du+raHLuu20q8E3vUuU2vC7rOqzm6k55GvAYlBTtKDjI8eAqbu2i9D7zIWse7/UYbPEIOMDs7BS08OIeNu4OMmzyK8We8sDCKPIWtCjm42wS8skr6u3uHxjukVoq8WioaPOpnoLvU7hw8xf01u/QSCbxaYwy8CxpVPK7sEjtIHwU7Xa6Ku9lth7qH3ym8GL62OsDEQbxGDyG85IqTvJqlnDxwVCE8yBNsvLM/Gzq+q8E7HuB9u6AOFLk2Nc24+yiTu9PEEjoyOTC7f/z3PCDwbbz57gY82g0JvL8GtjvdTSG8VTxDvMaJhbsI//c7wTw2PIeSHjv6cyI7oc01u2/3RDz9lFq7Vx4uvC0eNbx+02Q8lKr5u7bMn7s3xsE7qI5oOaGhfju71J471m56vL/kJDzhbTa7vARyPJQiIrzEbPw7OYZWPC+8VDwwYD+8JC/FO5UHuDsefa28/hmkPPTV9btHr4E7nUJFvCG6TbwQ1de7Lan/O9ZAsTy01BS81AKavA3mgjyaliG6E8mAu0LHnDtK5IY8qDLAvH4Fzron9FS8iyEAvfMotTzqQRO80QbFOnakDrzYaAM851RnvFl7kTwyoDk8gOSyO6BWjjzZrEE8KnpUO6zbqbuU6Yi5QgPIPGtTDzxfBzm8MFmLvOrXKbzwE1g8Rpmqu6uTS7twC+e4txCPuwVZFbvuQYy8LdKcu0eoqryHUuo7hOeTOlblI7tFKZ04Zv5UvIMy27v4ALk7FpAKPLEXtjy/8rQ7mrLfuztzM7taGcG7j5QbvA3lCby8rkc6aOqgvIdelzuF24U8woTgug0faTzigdo554bVu9Kx0LxB7uS8BGKDOzMA8TumgOS8m0WJu//Hb7z5ozI8LViRPHokObzZ0O67fuWFvOMhCDtrGJ08HPGyO/0HjLtlLne8QMK5u4Pkmjus7hM7cUuoO50uYTtS4Ao8dUGJug58gTuQVaG8CT+Xu7aJjbymqIu7WUtwOhYFCDx+nyK8H3WevElI+TsVEFK8i54hvIv9OTw3o7q7a2c4O0h0gLtcQzS6ux2rukTdDLzf6DE8eqANPOa7ETsbgV27oRsGvBwWPjs4utc7oBOtO4ihiDwAloO7HFKzO4Qjpbvckho8kZqKPAH1CTx7DyS8p1t3vJUKsbryVf27j28KOwcJnDynQnw6UDZdOlmb6bt6fEy8zfgevNMTTjyvwEs6d/rdO2triLxHr6A7aDk/O5EPj7y+FdI7n2X3u1x8OzwK3AI78dg1PDlL47s4qka7JjoQPHlJ1zuYKQE8c88PO0hLq7vytpI8KCFGPGFIojsDgHE720RSvLtlnLsNPdm7aRtru2qHrLy0roi5+FMIvG41WDwm4cM69lDTOyxqkbtH1oQ7OIIjvOVNEzrMw3c8VFSYPAMAjLz7yyq8EyPJOlVx77uF6tW7JzTTu0uHe7wtDBm8dh3mO9+WQTswVxY8/CkIPMENNjzB9JA8DuYfPKM5nTuCwUU8FW7gu9wi8bs9TIK8NnNovAzIJbvypBw8TG1YPA7MJbyFK/E6X6lZO2hLkLzy1bU7CAFBPJrOSjqDRo48NYOhOyknqDsN0hq8Ui7EO/GI5Ds7LWo8nQZSvBR3pDyT3mK8Lg3ZuDoWG7tNQ2O58tT/u9hhz7qik407gsitOwWjJ7yzAqI8ThjGu1eQMLsAPkK84ISHu2q0rjuzDNw6XP7YOX2J17uPYkK82YJMPCKXyzvjS4Y7peQTPB/Rnjs/Jvm6kyiZvC6ePLze5+M4Db4jvCIN+Tu2aUK8tuuoPLhoqbvj87I81kYmuwJtqLyOOag87ZMvvFrNWDwLADO8wwO5OVADlLuISFO7NmwcO7S3ijozCEM8b7n/u/OcWTyOI6g8btTaOzEmV7yqkqu2VOdoO2JZz7oc0PI69wSAvBhRDrxJqsq6fO0RvDPsAbzFpCY8NHqRu9umJLurPxk8ICG8upg/Orw06C276cCFPJotfrzxWDS8t/PCO2Ryejt5za+8OQCIvIamPzsdDDS8Ql0SOylVRDuWYJo7tTfAu5BZgDy9F7+65daPPFFRqboJhNk6vaqHO6W4GLwp5qq73kskO1E9KztXToy844m4ulSRoLwg1YK8I6L/uhThLTz3rF+8iZAPvM8E1DoXyPC7Gk2HuuHpCjxogm68HiFSvBZKmDpRkue7hPkiO8PapTuCLIY7IUSgPA5KiDywNDG8eZzHu7UclbtSCcm7fVeiu652oDxyLtM765UGPJNL2rvqpxA8op8BvJTHjTwH9vs7sfxUPK9LcTs7Ft+5DAh8O5VCebwVMXq768pSuzaRB7yPFA47d12Gu2uWa7xRCyi8ucHtutDe9jveGmy8GoolPAcFwrxsWTy8ku2kPNYzj7zV1zs7HZ7Bu204ljs52o28OyGBPNJQ+rvsCBi8ttl2PLugALyo0Bw84k+UvPO/ojscVwW8VDDPu+4UkTwPZ9U667WKvHmVkDxAlsE6nZIpPIBrLbp2jKU7+ahfPI35CbzgyC45oxVLvNdkVrwbCno8fMmLOzyJezwmhFY8VE/4O7I8NLw8n4A7om0wPLuixjnujwW7TpWoPD4zUry+G7w7FKh2OxK07brEuJ87ZCYovAUiUrkC+Oc7JExxu1IGPDsssKA6WOawO3weWbytzTe6WbuTO4KlzrsofOI7tXs1vHU6QbuwW4s8V7BFu4Te/buGKbU7y/Xku3MWNjwABEE7/oZAuysC4Tu7pCa8XbihO0rlqbvfoxe5GJ2cOsljz7tzhAy8Qb9bvNgGKLzWk0K5q0abvJnkjTuMSe07paV4PHQpi7xZ9yo80vh3PLKtmjy04Y07Ax8ivOEOPbybFcS8gFVQu7Isb7sXLdG64IgCPBJHprtduo87/s7Bu6Rpmjt6I667blQWPOaMBLx4mto70AqOO5gLwLyz+km6eEDNOW+hMzxLiBy8CwaCvEupBrzyjHw7iKdEPKQt7jqnkqG5WuzFusgOFjsyVDw8na11u+sOP7zxCyw7cqlFvMXRcTvoGxw8FlVdvMpzDDp6Vp07JKwRvGAhg7xHckG84GQhPLd8P7oksOq7PZ10O8q+9rs86vU5KOf0uzTwgbvfYAg8e8o7vKm5RbyqPE28QOdUOZFDtbsRaXA8rmBfOwlukDxib348dhk5uoGeXju1RbK61vrnuxc4zboWMC07T4ewOq5sOTtdYhm8xgoQvLtyy7tjao87c4h5vFsgFTtfkQU82xUFPIWZlLvYiyw7sMAVu24itrviCnq7LzofPGLxmrw+eRS8Td/1uxXebrziyPM7WyxjPB5RNbwCa2M8LDSvO2qUpjz9mH28zDIGPMSkkzzwV/Y5diUBvCKf9Lzo/E86NGfJu/RyzLupL/A6GFhPuzJzYTyGrN46cJV6vC0tO7yEyCK898w0vJT6OjoSkEw8jIBaO8eUTryi3wg8PYdHuweODTxDMI87Lqy2uzgiPbxZOcI89DaiPI+unTo6V3C7N7zNvGbOuLss6gG6HFkcvHi7DLvrDnA8CfuNuxexcLwK8Kk6F2SIPEQ7/7oIXzS7zxXruTTq4rul9vk7B3MIvMdlNrzAbni7pcCTvLLfULrndwe73x0ru7GcJ7nh0UM8aHaVPK+ajLuGnTa8Xie5PHwoYTv0eEG8QxRruiv867tdUKY8pGGDuTUS17uLmtC7haLGO7cxAbzRhD68B9NNux9lvzs9MO+7jWjgu4EaAzyNYxM6kSltPEJJZDxuhwI84BXou2KFFbuuKtI7E/AMvI8mCDyTDpO7lREkO+ckHrkQf4Y6fqKZvF8mizocQJ26cn9iPJergzrIT8k7aB8QPDYwFbz4lAM8VXJmuqYPvLvoWUe708kfvCmcRLxy7Ke5j97bO+uY2TuZoBo89VESvJ/HmLtfJqm60bGQPC8eH7zCGRS8LiASvAdiq7pmlxQ8fJmfOhKFrjtMBtK897NjvBktSrsDrbo7+UbUOZV+gzxKyDO8OvC1usrhFrtWyZM88H2vu972gDyI9JO7VUEevGmfQTv53/u765P9um8J1LuQN1W8Vq09O4sZqjrufuy75M0nPEVMOrzuvJM8gx7XO6l2dTsrOva5WgXnuVAfezsjIgC8ljCBOyMBETxWSX47R0pHOyzpLjs8dEK8MHN2vIioubsvvNC7Y2jdu1gzDTwtfaK7KI42PFtFhrz3jSi74dOJvMGGMbwSUYI8KrA4PDLWX7ssNTY7E5LeOyEF0TtguSS7u04vu/+MmrwkfWW8ll8tPKPJCTz+y6O7w9VJO4DoBDzMmo+73g4QPOsInDo+AJW8Rc7kOoK6eTysDGs7SK3lu+3/gTzZhhY8q/UDvLpUK7x4cwg8xZ69O9tvjTytpCm8kgkKvMboNrtvuxm8qUSpu3Uikbyc05i7WoB+vOFatjvRWwc8sKYJvHd4Mbw6jo6728nGOxt3nzz6NVK71ZYpvD0w5ro+AR48me8tvLr1NTy0ryy8UePuu/+Q/ruTqo07Mw1+vCBkjrzAYFO7Ua2HPCmXsbp2Ak87Hau0up+v8DlHQB+8I76LPIwWoTu4O6w7MUo3O/2+i7v8LIA6J/Suu6ZVTjsvZKQ7yF1jOoTz0Lu9z7S6IeNDu0Htyru2cLg74+iLup1n6bui/x68/EBSPOLS07xWwom6+e78u/PnPLzf53a7JwGJPG7D5rteli08LYFtu4wtabz5zpe8h/kWPKlEujzBxkS82EwruwriITysfca6WqWSuw9zWTlWjsM6cZ4sur78fLy2Jdc8YO6cu44zxjlSXGu7A6mQvIYDC7tgfcQ7irsOu3RohTp3wBO5t//NOs/ZCLtzI0q7bKLju2LQ6Lt1hFY51Ud1u3II3byPDJ472ditO6CIX7zp8xE8tmTRvNOeSjzAqoM8wIS1uQEdw7v+OBw8GQNLu2ohHztkBRy8hGt8PIflVTw31G68L5mOvOPhfrypvTc7dkChPP2VK7xbB406darfuzRJm7tRPwg78gLVPI0PyjtFB8M6HMlyvJ7IuTsLmYo7rQx5O8KxJjwBGyc8Fnp+vKzR1Tt1sqS8MbzuO/aGNLwiUDk8spm6uGOBfTtZ7go8L2vbu8R9ujsNACC8T9sVPMdCl7owKfs6F/fOOQNNBLzdpiu8TfQMOjgwbLxj6oS7utbKvM51Vjy+ugG7i5VgO33eKDsOLuu7VP5dvPVpKTseuWy7hBIou6DrF7ynNtW5kVAFO7LfJbwBYUA78/23u8DcS7tVJxQ7+E6au1ye4rvfN785XuFWOTN2Azz7NRA85f8SvLNrO7wcpUo8XL50u7Y0kzvf4Uq7ZWO4u3lV1btZSaw6aoxhPFvlNjz1XDI8jWI0vJQ4kLus7B68aDO+u17fpjvm2kY7Nbz8u/UnhLttnBC48VTEPO6aoDrO8jc8qvORO6DTQDysQbe7nT+evCGfATtVsZs78+LKvLSCmrz3zoY8kzVxvB3EwrtucsG7gwswvHGFqTu0sVq7NmozOwuxUTyO/8A6UzcIPJIrMbsTpZY65dhnvFQq7zsP9LW7laVbugYGLTwsTkU8v1VdPFUfVbw+EZO8e3JTvAIzxTszYg48VcwMvP5yuLtxa1U87ehHuzyXgzzxV6i8RLh4O3il+bslFCM8KDprvI2SSDwzugC8D5OIvNLAMrv61hY8QwY0vGFaC7z73587sVauum5xsrs8wx48BDwGObLo3rsGXsG6WolrPAEiKzw2YrU8VvWQuzv/v7rSuvO7YJcBvNLutjwL1uG7NMtDPFOdh7u3bK88oh8RPK3IWTxInx88sQQivHeq4Dm0dhg7zMx4O9K5hLxJ+m2835SSO+Z5oLufCMM8HzZlPLYhT7zMlAc75AdgPNDxkDti7nY8eRQsO9UVmTw6y7U6XZmbPEcG5zzn5zu8GrExvLLKBrzgbim87ayivG5xBLz2Nbc8zcexOxj2sLp1TpK8oEaNO4ubjrxjttu74LQRPKZVXLz3GxI8iXYpu+0iGjtDwDy62sdkOwXCGrx+9tK63llnu+6oi7vLVVq7t1ISPG1a2Lw1BMg8vRuSvBLP+TsN6Zy7L9SWOuvc87tQ4ms84fH5uebgZjuNb188kCFJO9exnLxla6o8xibbu95+J7sf3xG8599/u8dOLbxts+G7SRCGvIpwuDu3egO8XVBUvD/RATzv+0U8pJg0PG2VL7tqHzw899nXOghEnbtNXaG82/XTPEKnwDreKKU7lOVmOiebAbwhHfm7OIdWvN0bsrrb7R88LfDBO3THvztRLfU77CJ4vMYAtLlPJ1C8fQ2uusiXWbyU9N075591vKA4Hzw6VBY7N9vpO2XEjDzU2F27xSuFvAKfkbuL6wE8wKgYvBJYeTzmvcu7YoRpOxRBKTwWu4W7KtGUunfrTLtBNmK8Q+mguwHxiTsbCDa8/qgIvLDi7rvumwY8N6MUvAT7Nbv9DLE7OSa8O4MdG7zcPGI8Et0ovKvmS7rkvHY6oad5vB1Rd7ukpwa8PWE1vC8ePjzxyUi8J+3Nu+hSMzvl5GY8koh7u/kE0bqUdfI7daeMus8EBLzwQy47osGjPGkhzTtPbry750KXPH5BIDuFQIS8XruUu8evq7wvlLW8UuzTO4qUrDtAiDq6ilbnOzOhDbus1lw8drSfO1n5NTy7Fay7m/Tbuzagh7pB8cI85rY1O+yGGjyCtyc81eTAPKLvmLsHg4E7rnMXPPGJc7zQWj+8S88DPAHHHjwGQtm7sUIHOwlI/jrTw5Y8srePvMf9cztmr5Q6FP0wPFlTGzwLilA8wPNjuvkhBbwmj+M7ecWXPF3fszxdOwM8wUc1PFE1rzxGdqK8jgjzO9tBUbuucos8stZ3uzbVArvCuh28NT8mu63TEToSCXI8mZdDuzaiBzw6tWM7UjikO9OX8Dt3cgU81vMKvNyLdbvSDS28YsHNumPGmzxsfDW8WrUOujBSpbz9ChO8ZGcYvF7MC7w0kzW8kwHuu5l0uLmk0lq8O0NdvGCfRDyu0JM7aeK4vCo//DsfGVo8eMbpO2k8Dbp2OMC7GZujOwoIuruO50i8mIAsuxmbsbsp6yq6mRoFvAneLDuaBGK8p+0NPA0XjzsK9OW6Z24zvCUYfTthxiM8E8k8vCQZE7v4uqE7fXVCO6fraLxXT/q7KLqON0v6hDzhYlw8l4RdPFoFmbog6qW7YWlzu59i/jsBbVw8mnGSO3rvULx94Zg6UtkIPICTILx06Pe76YdyPAZZzLyjqBk8/F4dvKakbDxBwoY8o95TvN0UETtIR/Q664eUvGkYNDvDEQo8+qTDO85uE7yKaek7ZU7UuxTClrtqlSo8ZwyKPER4lrurYls7yHEsO6qf+btuoUe7TguRPDb0wDtONF2813/YvG3UpTrwXAy7rjBhOnxTibptRXY8IfF8u8i3CjxcW3Y7J1EuvGCZbLxiQMM7IcN5PDHtB7wsApk78ygQu2snc7y7kQQ8cpfAu/cc0js66YG8yxtlvNVCcjxCCLw7oEAzvI8M8Dttrz48zf1fO0UO0LqGYc87xUAOPKkB8DttToq7taW2OkHO/DuCeno6UqsLPKv85rvDK+i7PdHnOjhxYrkUA3w8lz1FvFSSBbzo2Uu7x1FQPL97cDohK8i7gqnxu64CybuxUDa8DemsPF7Lpzxdr5q7ESvBOxGNtbrsMvA7UcsGPCvjNjx31Ws8Iz3Du/X/erypa488UGMdPBlJSzyEj807UBMyPB6xSrqrDrq7bJrsu+UK7jqEQ886E00LPJP1grwf5ow7MQxwO8raZrvqInU7mazsu9X+tzrnysU74pYrO6acgDlVfZI7xQRCu82whjxSdd45xaJnPJqkxDntmiO8xv9KOxUUoToV7n+8iQjEO0zebDxZzoE85EAxvLp1Ljy2e+45ShblugkjKjrmScM8FPUPvO4P7LonXl88BBoYOzR0Gjv6HOC7+Qdau4CvzztdIUM8811OOiMTBzr9UN67QiNsu9e+RDvnK7+7vhKxO0+pg7zvWqY7Rfz8vOsLMbyz/tO7GDoyvFplgLtCbmU7UeYLvJT+5zsS6S+8KWElPJcrRLwDldw7VRvRu31XtLsTHca7hk0xvF7WDDx6jDI70S73OtV6o7sDSNy6rSkOPMMSv7ugJoK7eWd5u3qbHrvRx666kIi0Ovx6prpibpO6uLtaPKPYiTv6Fke7lgSKuwEqcruFhoy8d4z1uxyLdjtuREE8ZCTgOiMp7Dvn1907V9bnuy9bV7zdDIc8nqYtOkKBjTvNcjY81vYrvNA3XzyHlDQ88bGFu8ZFgLxlPim8wo4EvM8oV7zulXc7czzBvLUjzbuolgK8vLV8u51dELwvHXE7pJpPPNR8MbsaGTk8K4JtvHsZnDuthPI7veBIvPe1Y7vZ/pM8DsuCvGfwRLxZ46a7cLjmO7wvJTwfTOO6Vp/mu7k7sbsVNA68GRe5OgtgWTvB+Ig7Z0EeO6Pv6jyKlNs7U8fhOpt8gLsgXp47AdbWu+Jtb7vqx9y5XNp5O2rVFLsCgba8ri6VO9IlkDtzfAO8qF4rPNOswTtLfbq7MrkVvANyVDxuKvu6Rk9juivSJ7wTo2o8ceIwO1k2WDvJ3Am8vImcO0+QT7z/O7q7ALOFPI44OLrvdwq8rJoQvGvGnjxSrAe8jec+u8IcHTsXdEm7gvMwO9VR1LsjUdU7YhvCuxvqNDwu2Ji7FMxIvLHZNjtVEcm8Yr6POgywzDteuPM6m8Pdu7ISkjszjKe71cyHvMS1A7ySQSG8SMpFvG9/VDywmk26aJITPPCSELwIMka6N/YIvK/OM7yURV48TXI0u83JNbtO4o48GvHKu2kDKruMGVE7brY/vIDnhby2DSY6LaUIPKJs0Dss/AA6qM5rO4CkNrsAxce8B5cAvIyZcjzumAw8D3D2uzkgWDvX9Bu9Q/GOvPXc1ztiV5Y87AIaOzUdDDy5puq7nR3EvKQRiLrtvye8bTboOYaXqruaY9M7am3AOi6mOjrh/S88NIlDO/XHHDwC6ze7nKUsu19TlLuD8T88h3YpPLb4sDu2EHa7eCunOmM9uTupj2s69aFhO/EqaruOfSc7i2+avKRAQrvvz6Q7ugamPDdyVzuZRyu7MrvZO63HerubaNo7AW6IO1+dL7x/nO87e8jquWtyWrvrERG32XImPPPyjbxYfcc5Q+ZRu1x/n7sJBGk77DCOPD0SNzwk84K8/MmIvDyUvzgchoe7jNjHuEtGEDyYgfk7w6luu0XUGLzTmbU8FplSPIRVYDzoP7G7kcy1uzxfzjt7F4i55yQrvB8ZYDtUVpE6Kfptu0I3YzwEDWG7SC4Vua9C2bsUTBS7bc3RuipBRDvGMSG8pAWiOqRL4bsXU/W7LTZnOwwv07voojo8WlxOvHNYMTwWqwa8F03wO2LdrLzChYW7SkY0vEwwCTwdU/k6WYJHvGqq9DqF4Ak8PtEwPNH9/Lt7To+8fk2XO4q0kru/Hy274cflu73PBjqYVkU76nMxPD5NjruBu2A6rjgzPIOkHbxPfIu8n4iZOzoS8bt4z9Q40EMoPKFfmjq+e9i6mWYIu9vqFDwV2VC7J9+yu1T3iTqZD/W8N+QSPFleIrwFTNe7+bwsuxt6ILxx2NC7NKSFvJcDlzvMDTe8S37Mu+r7yLs0QBE8n+WbOll4cjuSxCW8PSnru6yOmTvD0iC6suCAOnukxrsxhl28TpUgvAIybjuvtuY7aAv0uxIzojs3qlS81MYsO/WSpjsYPP67hWu9OxXDbTyLM448sOJavIu3SzzEDCG89lAEPMNSBbxHpuy6yZHCu3dTiDzmgRQ8JvrBOa6nvrtZzi28EdW/PNn2nDtFWqG8vXTxOfZlvrufUl677fZHPOSnT7kdYFk70MSevGvATrlpAjk8GEIUuzpJ77vA4DQ8m0oiuvxqFDtkxsK7mJ9SvF5/JzwnM027lLgXu/CrhjuELU88dW4Ru4kZjTuUoaq85gtYu56zXzo1c/g7dWUMujalFrxg1+G7xu7VOzp1DjsKppE8gz8Cu9XXQLxfMSG81O20uze1TTw1M148rSKZu6hGsznF1+M7wv4dvE8gYTq0ejG7sNg5PEnnEjw9XCy8wIcRO3EksTtQ8IW7aKMBvItuJTzMJhW8Zm8vPCAFcbuEKSU89LhwPB7jqLsACRW7ty2HvOftiDt+njM71UrkO0AbxzwnrDq7ajbLu9KOizwRyWo7GxvbO6cSp7upL6O8Bpy1uyHK0DuI17Y6HKf6OVth2zvDzIQ8ze4gPBQ6gryTLVk7hmMyueeJS7yiVUk8I6JjvIf1gLrqUi07gdnRu97d17sme787wLF/PJudpbxsYJS6uJcAO3tcD7zQc288rr5UOxS9fDxRrZ67Ac0DO1r5GDq7ZvG7NdolOz9Y+jsMb4w7WsIdPNQ/jDwbq1k6puZpOo7MHjs5UwU8t3AdvI4jE7x63HQ8q9vNuxn1BryobBC8337ku3gE77tr4pE86cHyO+o6RDwVOVa8jWVXu2XHErzXQBi8mI/gu0v/sDvjQ6M8umgNPKKslTwJcVa7xXMcvBuGqTpw6jS8HL2ou7tuHjxWro07ry6OvIIIpzvSiNi6v2Cku/mfSbpEhSM7ej7jup902ruiJKU7lnxfu0MDNLxtaDa7OUn7OywmZbySjyw65u8RPHLXmrk/JC+8s8kVPNCnB7zRxkW8ZqIkPJgUiLw09de7JrVbOiC7XDwVF0o8woatuy+7Drw6UGa8//QMvJRg2zyd4Zk8UTDKPEBwmbwbxS47v+SWu8QugbuZIQI8TqZZu31bdjwg+5O86sRGvFjYP7u88OK84RYavI2XWzzyuEc8vqPluttilTpy5ag7Z8pJOsD5TztjlqQ7UR29uy2McLzrbkC8LcHWPFdWgroJci08ImN8u5Rc/7u6Q9K7mmHSuofuLrwFZVy8svSDPJRgtDxKrq07XtAvvGB7azvPRnI7Sta4vIWtFTtAEMg7BCrAO8JnnjrUUXs8ZohXOvw8F7yKlQW8qJTcuwc0JrlAYzm8QVrFO5fHDjx7vsg7PPTbO7jExTo/g7q7yjrKu6Yp0Tj4GYg8XR9pOqdlgbxisYG5LpKPPBc5XDscB6y7K0e8vJEWp7wptOM76/+6uw4OI7weNu+7i3xRPJuBKzswPui7GJtsPI4GrzuOfQ68YxW8u0R5DTwCprs82+74u4uZg7vSGmG882itvIA7I7xKIdU7Uh0hPDkm0Lu3yZo6okmZPNe6wDyYycK8tKRtvP9RcTytFzA80mRku/TpiDx9h4074HwIvPrLbLwldHy8gsZMO5fnLzvw6cS7nDhgO6n3jbyb2R07h+O6ORDnmTwX9a27rE76u6luATzyr6+8gUJXvN/VfbxRYKo7fotnPPtMETq5FMg8i55Xu+70hTtU/827z32tPNg8grtdT4e7pUI3uyw2szsfcRE8PTkvtUZp8LvmxII7XaqLvIYyCjvv3Au8boG2uzJalrzSFb27CBRXOfs0/zuU+mO8ZMvwu9dqLbz4EzI6WQNwvEj5ibyfyIW7gB09vKvBVTsPwOa7T8YuvKMXlTx+1Zq7U8O7OrcSm7sTFUe7+ozlO/CyV7zVb/q76s2yu7kAdLwF9ta7a2KtPE2C2LoFJPa7MI6eOyq7ODwxe3Y8lZoOPHFpBbwiPAA8KGVtPNruojsD2gK8mkazux9YEjuG5ye85EaCuqGpG7xr98I7PIVDvOLyFrzI0OU6N6ghuX60ubpmU1c8ZVKCPECSpDuT2my5w9zsu11VqTuu5RO8HuJVu+qyIDwDEFS7f6kKuwgDkzxMtrI8/bTcuzvmG7zwyUc8Oiaiuw0BiTsxSEi6LyZxO/UaIDz1iHY8LqiiujJFj7vyGf85RurvO+ck5bnC+da7RHyLPHlmU7vacRS73zKPO/k4TTx/Y607Xe5pvE1teDub78Y7OjMOvAHwwzuDEs87A4QYPDmuzzxRp0o8bhPjuh6LBDteAi67ee3guGakWzwOgQA79HQfO+ZdNryu2gw8xrpSPN0HFLwM6+y7jssWPNqlCDxBDxg7hRuNu91iJTtueQW786wKO1u1Yjy/AKa8PX6FPGEYvDu4bNq6L/cyvArUhjwTjBw7w6n+O5vMMLwNF+87KimQPBYBCztqhiE8PtL3OeJE4bxmMFU8io9cO4PEUTzZk7g7kGoAvMp+0Du9jf+5tqCPvNaKX7tHL8A7zsSLu5/bsTkwgSK85m0JOzLq9rtLpbW6U4ccPKiSTTtsNkO7ZI7puy3ekrx7DFK8fPZwO2Ilary1PDA8KzlMu2HgPLssLgG9GU0eO5na3LrcG4+7bbUDPFqJkbxAboa8+RKHO0e1cLyZvpK6wmi/O8pi/LtTqO46LsIHvKAaKzy1TKM5u1oAOiIjsjsbgBi7wWMivLPJljui2ya8YPP+uwHNa7gQe5w8hAw8u2I7K7xSHJM7vktSu8kDwLs6Jkk86GUwvPEzbLxyd587WVDlO+ZfnLxc4gG70BrzPH4Jlrxm6GM7At1FPL4hgTwaBvs7CJIBPKHgizzY2Aq8Ey4pvNRHJ7wcDuU7loJkPPLpqTotNlQ8B5NBPN7P1TmCbLk6tvf8u15mBzyKCeI5Oqfiu1Fz7LvzP028Oq2VvHdyLjqqhIU8pfs+OsR2Mbyl/Zq8LgWiu4fkGrrgIEo7+YqMPJPmFzxJ+Co7dGpZO82rmjv4lkk6zdohvFaOhzy+6gE7cgjrO7awbTwSutC7HZ8DumqRmzk6pTU8bR/uuXCzA7xe4YY7Bqe5u/+GvTvOItc8gbMluwrnojyhS6w7xKF0u6eJl7wPMXu7w4sivHvX8Dtmywo7okqkOtnWADyzv6K8/YdKvJxowLtdwWA8Khcgux7dcTkY1da7T59sPA9h4LtAYwo8ZBw2vOTpT7wdYSO8a3OIPErNTTvt1TG7V7TGu3rUJLxdvkk8iO+JucB78jsQ6xY91avJO8hzMDySIpu8B0fHO5tmLDvE10o8B/u+uxesfLzGD0I6MMWgOsWnuzsDTQU8gwfxuoMsYzwmim47W21JPKphvDxiCsY7wkmZvKc2D7zvJl476vQZvJnkjDvilg+8KSRfvLBtLTwdN4a7BPYQOoSnZ7weajm7mbSTul6VLjzTqo+8eQDUu0PQervc2Eg7GCw0uwKTi7p3gIM7oWAlvYb2pbuTIf26SmbTO0sjrTsh/Go8ZYtOPFzSfToOQqg7QxYPPIbETLwwBzg79MxHvNRmH7s5KL04NTCfPCYgjzznfio8bkKYu4J0TjqK/Bk8ArlwuzyoAzvBizU6GHWOPGIfCrzVKlO6BCgEOV+2JDzZwMy77/I2PBrgyjuex4g8MNvZOYFAbTshIUA8f5JsPCRuszxyaQ+8qworuy/QG7uSr9e7bSCbup8mwrsjEEO8tTWIO6yDnbvFzMw6PVRlO7NhU7to/x086NAmurI6Abs0aSk744M9OlcQIDxCkCe8x0N8O891crtC8vK8HX+nO9dFJDwngTe8e6H9OVL0XbzuyiA8inkQPANLtLujG0u8l4zuu/gJlropvYs8v8tMOmP+RzyWAgm8eiZZvCqDMTvURCW8ECUhvL2UXTvcfg48KK2yuvUvrjo2QEE80atTPNoyybsUZCA8ciyNPCf+lLzMZPq7ZPTouw13DzuW0HW6OGUGvEWtVrziT7W70oB6O49VuruJ3DC65d/YOmZ7UbsVnV48XWkwvGovxzzMfVK8Dg3bug==",
          "dtype": "f4"
         }
        }
       ],
       "layout": {
        "height": 768,
        "legend": {
         "tracegroupgap": 0
        },
        "margin": {
         "t": 60
        },
        "scene": {
         "aspectmode": "cube",
         "domain": {
          "x": [
           0,
           1
          ],
          "y": [
           0,
           1
          ]
         },
         "xaxis": {
          "title": {
           "text": "x"
          }
         },
         "yaxis": {
          "title": {
           "text": "y"
          }
         },
         "zaxis": {
          "title": {
           "text": "z"
          }
         }
        },
        "template": {
         "data": {
          "bar": [
           {
            "error_x": {
             "color": "#2a3f5f"
            },
            "error_y": {
             "color": "#2a3f5f"
            },
            "marker": {
             "line": {
              "color": "#E5ECF6",
              "width": 0.5
             },
             "pattern": {
              "fillmode": "overlay",
              "size": 10,
              "solidity": 0.2
             }
            },
            "type": "bar"
           }
          ],
          "barpolar": [
           {
            "marker": {
             "line": {
              "color": "#E5ECF6",
              "width": 0.5
             },
             "pattern": {
              "fillmode": "overlay",
              "size": 10,
              "solidity": 0.2
             }
            },
            "type": "barpolar"
           }
          ],
          "carpet": [
           {
            "aaxis": {
             "endlinecolor": "#2a3f5f",
             "gridcolor": "white",
             "linecolor": "white",
             "minorgridcolor": "white",
             "startlinecolor": "#2a3f5f"
            },
            "baxis": {
             "endlinecolor": "#2a3f5f",
             "gridcolor": "white",
             "linecolor": "white",
             "minorgridcolor": "white",
             "startlinecolor": "#2a3f5f"
            },
            "type": "carpet"
           }
          ],
          "choropleth": [
           {
            "colorbar": {
             "outlinewidth": 0,
             "ticks": ""
            },
            "type": "choropleth"
           }
          ],
          "contour": [
           {
            "colorbar": {
             "outlinewidth": 0,
             "ticks": ""
            },
            "colorscale": [
             [
              0,
              "#0d0887"
             ],
             [
              0.1111111111111111,
              "#46039f"
             ],
             [
              0.2222222222222222,
              "#7201a8"
             ],
             [
              0.3333333333333333,
              "#9c179e"
             ],
             [
              0.4444444444444444,
              "#bd3786"
             ],
             [
              0.5555555555555556,
              "#d8576b"
             ],
             [
              0.6666666666666666,
              "#ed7953"
             ],
             [
              0.7777777777777778,
              "#fb9f3a"
             ],
             [
              0.8888888888888888,
              "#fdca26"
             ],
             [
              1,
              "#f0f921"
             ]
            ],
            "type": "contour"
           }
          ],
          "contourcarpet": [
           {
            "colorbar": {
             "outlinewidth": 0,
             "ticks": ""
            },
            "type": "contourcarpet"
           }
          ],
          "heatmap": [
           {
            "colorbar": {
             "outlinewidth": 0,
             "ticks": ""
            },
            "colorscale": [
             [
              0,
              "#0d0887"
             ],
             [
              0.1111111111111111,
              "#46039f"
             ],
             [
              0.2222222222222222,
              "#7201a8"
             ],
             [
              0.3333333333333333,
              "#9c179e"
             ],
             [
              0.4444444444444444,
              "#bd3786"
             ],
             [
              0.5555555555555556,
              "#d8576b"
             ],
             [
              0.6666666666666666,
              "#ed7953"
             ],
             [
              0.7777777777777778,
              "#fb9f3a"
             ],
             [
              0.8888888888888888,
              "#fdca26"
             ],
             [
              1,
              "#f0f921"
             ]
            ],
            "type": "heatmap"
           }
          ],
          "histogram": [
           {
            "marker": {
             "pattern": {
              "fillmode": "overlay",
              "size": 10,
              "solidity": 0.2
             }
            },
            "type": "histogram"
           }
          ],
          "histogram2d": [
           {
            "colorbar": {
             "outlinewidth": 0,
             "ticks": ""
            },
            "colorscale": [
             [
              0,
              "#0d0887"
             ],
             [
              0.1111111111111111,
              "#46039f"
             ],
             [
              0.2222222222222222,
              "#7201a8"
             ],
             [
              0.3333333333333333,
              "#9c179e"
             ],
             [
              0.4444444444444444,
              "#bd3786"
             ],
             [
              0.5555555555555556,
              "#d8576b"
             ],
             [
              0.6666666666666666,
              "#ed7953"
             ],
             [
              0.7777777777777778,
              "#fb9f3a"
             ],
             [
              0.8888888888888888,
              "#fdca26"
             ],
             [
              1,
              "#f0f921"
             ]
            ],
            "type": "histogram2d"
           }
          ],
          "histogram2dcontour": [
           {
            "colorbar": {
             "outlinewidth": 0,
             "ticks": ""
            },
            "colorscale": [
             [
              0,
              "#0d0887"
             ],
             [
              0.1111111111111111,
              "#46039f"
             ],
             [
              0.2222222222222222,
              "#7201a8"
             ],
             [
              0.3333333333333333,
              "#9c179e"
             ],
             [
              0.4444444444444444,
              "#bd3786"
             ],
             [
              0.5555555555555556,
              "#d8576b"
             ],
             [
              0.6666666666666666,
              "#ed7953"
             ],
             [
              0.7777777777777778,
              "#fb9f3a"
             ],
             [
              0.8888888888888888,
              "#fdca26"
             ],
             [
              1,
              "#f0f921"
             ]
            ],
            "type": "histogram2dcontour"
           }
          ],
          "mesh3d": [
           {
            "colorbar": {
             "outlinewidth": 0,
             "ticks": ""
            },
            "type": "mesh3d"
           }
          ],
          "parcoords": [
           {
            "line": {
             "colorbar": {
              "outlinewidth": 0,
              "ticks": ""
             }
            },
            "type": "parcoords"
           }
          ],
          "pie": [
           {
            "automargin": true,
            "type": "pie"
           }
          ],
          "scatter": [
           {
            "fillpattern": {
             "fillmode": "overlay",
             "size": 10,
             "solidity": 0.2
            },
            "type": "scatter"
           }
          ],
          "scatter3d": [
           {
            "line": {
             "colorbar": {
              "outlinewidth": 0,
              "ticks": ""
             }
            },
            "marker": {
             "colorbar": {
              "outlinewidth": 0,
              "ticks": ""
             }
            },
            "type": "scatter3d"
           }
          ],
          "scattercarpet": [
           {
            "marker": {
             "colorbar": {
              "outlinewidth": 0,
              "ticks": ""
             }
            },
            "type": "scattercarpet"
           }
          ],
          "scattergeo": [
           {
            "marker": {
             "colorbar": {
              "outlinewidth": 0,
              "ticks": ""
             }
            },
            "type": "scattergeo"
           }
          ],
          "scattergl": [
           {
            "marker": {
             "colorbar": {
              "outlinewidth": 0,
              "ticks": ""
             }
            },
            "type": "scattergl"
           }
          ],
          "scattermap": [
           {
            "marker": {
             "colorbar": {
              "outlinewidth": 0,
              "ticks": ""
             }
            },
            "type": "scattermap"
           }
          ],
          "scattermapbox": [
           {
            "marker": {
             "colorbar": {
              "outlinewidth": 0,
              "ticks": ""
             }
            },
            "type": "scattermapbox"
           }
          ],
          "scatterpolar": [
           {
            "marker": {
             "colorbar": {
              "outlinewidth": 0,
              "ticks": ""
             }
            },
            "type": "scatterpolar"
           }
          ],
          "scatterpolargl": [
           {
            "marker": {
             "colorbar": {
              "outlinewidth": 0,
              "ticks": ""
             }
            },
            "type": "scatterpolargl"
           }
          ],
          "scatterternary": [
           {
            "marker": {
             "colorbar": {
              "outlinewidth": 0,
              "ticks": ""
             }
            },
            "type": "scatterternary"
           }
          ],
          "surface": [
           {
            "colorbar": {
             "outlinewidth": 0,
             "ticks": ""
            },
            "colorscale": [
             [
              0,
              "#0d0887"
             ],
             [
              0.1111111111111111,
              "#46039f"
             ],
             [
              0.2222222222222222,
              "#7201a8"
             ],
             [
              0.3333333333333333,
              "#9c179e"
             ],
             [
              0.4444444444444444,
              "#bd3786"
             ],
             [
              0.5555555555555556,
              "#d8576b"
             ],
             [
              0.6666666666666666,
              "#ed7953"
             ],
             [
              0.7777777777777778,
              "#fb9f3a"
             ],
             [
              0.8888888888888888,
              "#fdca26"
             ],
             [
              1,
              "#f0f921"
             ]
            ],
            "type": "surface"
           }
          ],
          "table": [
           {
            "cells": {
             "fill": {
              "color": "#EBF0F8"
             },
             "line": {
              "color": "white"
             }
            },
            "header": {
             "fill": {
              "color": "#C8D4E3"
             },
             "line": {
              "color": "white"
             }
            },
            "type": "table"
           }
          ]
         },
         "layout": {
          "annotationdefaults": {
           "arrowcolor": "#2a3f5f",
           "arrowhead": 0,
           "arrowwidth": 1
          },
          "autotypenumbers": "strict",
          "coloraxis": {
           "colorbar": {
            "outlinewidth": 0,
            "ticks": ""
           }
          },
          "colorscale": {
           "diverging": [
            [
             0,
             "#8e0152"
            ],
            [
             0.1,
             "#c51b7d"
            ],
            [
             0.2,
             "#de77ae"
            ],
            [
             0.3,
             "#f1b6da"
            ],
            [
             0.4,
             "#fde0ef"
            ],
            [
             0.5,
             "#f7f7f7"
            ],
            [
             0.6,
             "#e6f5d0"
            ],
            [
             0.7,
             "#b8e186"
            ],
            [
             0.8,
             "#7fbc41"
            ],
            [
             0.9,
             "#4d9221"
            ],
            [
             1,
             "#276419"
            ]
           ],
           "sequential": [
            [
             0,
             "#0d0887"
            ],
            [
             0.1111111111111111,
             "#46039f"
            ],
            [
             0.2222222222222222,
             "#7201a8"
            ],
            [
             0.3333333333333333,
             "#9c179e"
            ],
            [
             0.4444444444444444,
             "#bd3786"
            ],
            [
             0.5555555555555556,
             "#d8576b"
            ],
            [
             0.6666666666666666,
             "#ed7953"
            ],
            [
             0.7777777777777778,
             "#fb9f3a"
            ],
            [
             0.8888888888888888,
             "#fdca26"
            ],
            [
             1,
             "#f0f921"
            ]
           ],
           "sequentialminus": [
            [
             0,
             "#0d0887"
            ],
            [
             0.1111111111111111,
             "#46039f"
            ],
            [
             0.2222222222222222,
             "#7201a8"
            ],
            [
             0.3333333333333333,
             "#9c179e"
            ],
            [
             0.4444444444444444,
             "#bd3786"
            ],
            [
             0.5555555555555556,
             "#d8576b"
            ],
            [
             0.6666666666666666,
             "#ed7953"
            ],
            [
             0.7777777777777778,
             "#fb9f3a"
            ],
            [
             0.8888888888888888,
             "#fdca26"
            ],
            [
             1,
             "#f0f921"
            ]
           ]
          },
          "colorway": [
           "#636efa",
           "#EF553B",
           "#00cc96",
           "#ab63fa",
           "#FFA15A",
           "#19d3f3",
           "#FF6692",
           "#B6E880",
           "#FF97FF",
           "#FECB52"
          ],
          "font": {
           "color": "#2a3f5f"
          },
          "geo": {
           "bgcolor": "white",
           "lakecolor": "white",
           "landcolor": "#E5ECF6",
           "showlakes": true,
           "showland": true,
           "subunitcolor": "white"
          },
          "hoverlabel": {
           "align": "left"
          },
          "hovermode": "closest",
          "mapbox": {
           "style": "light"
          },
          "paper_bgcolor": "white",
          "plot_bgcolor": "#E5ECF6",
          "polar": {
           "angularaxis": {
            "gridcolor": "white",
            "linecolor": "white",
            "ticks": ""
           },
           "bgcolor": "#E5ECF6",
           "radialaxis": {
            "gridcolor": "white",
            "linecolor": "white",
            "ticks": ""
           }
          },
          "scene": {
           "xaxis": {
            "backgroundcolor": "#E5ECF6",
            "gridcolor": "white",
            "gridwidth": 2,
            "linecolor": "white",
            "showbackground": true,
            "ticks": "",
            "zerolinecolor": "white"
           },
           "yaxis": {
            "backgroundcolor": "#E5ECF6",
            "gridcolor": "white",
            "gridwidth": 2,
            "linecolor": "white",
            "showbackground": true,
            "ticks": "",
            "zerolinecolor": "white"
           },
           "zaxis": {
            "backgroundcolor": "#E5ECF6",
            "gridcolor": "white",
            "gridwidth": 2,
            "linecolor": "white",
            "showbackground": true,
            "ticks": "",
            "zerolinecolor": "white"
           }
          },
          "shapedefaults": {
           "line": {
            "color": "#2a3f5f"
           }
          },
          "ternary": {
           "aaxis": {
            "gridcolor": "white",
            "linecolor": "white",
            "ticks": ""
           },
           "baxis": {
            "gridcolor": "white",
            "linecolor": "white",
            "ticks": ""
           },
           "bgcolor": "#E5ECF6",
           "caxis": {
            "gridcolor": "white",
            "linecolor": "white",
            "ticks": ""
           }
          },
          "title": {
           "x": 0.05
          },
          "xaxis": {
           "automargin": true,
           "gridcolor": "white",
           "linecolor": "white",
           "ticks": "",
           "title": {
            "standoff": 15
           },
           "zerolinecolor": "white",
           "zerolinewidth": 2
          },
          "yaxis": {
           "automargin": true,
           "gridcolor": "white",
           "linecolor": "white",
           "ticks": "",
           "title": {
            "standoff": 15
           },
           "zerolinecolor": "white",
           "zerolinewidth": 2
          }
         }
        },
        "width": 1024
       }
      }
     },
     "metadata": {},
     "output_type": "display_data"
    }
   ],
   "source": [
    "import plotly.express as px\n",
    "\n",
    "centered = subset - subset.mean(axis=0)\n",
    "U, S, Vt = np.linalg.svd(centered, full_matrices=False)\n",
    "whitened = centered @ Vt.T / S\n",
    "\n",
    "fig = px.scatter_3d(\n",
    "    x=whitened[:, 0],\n",
    "    y=whitened[:, 1],\n",
    "    z=whitened[:, 2],\n",
    "    opacity=0.4)\n",
    "fig.update_traces(marker=dict(size=2))\n",
    "fig.update_layout(width=1024,\n",
    "                  height=768, scene=dict(aspectmode='cube'))\n",
    "fig.show()"
   ]
  },
  {
   "cell_type": "markdown",
   "id": "4cbc4d5d",
   "metadata": {},
   "source": [
    "# UMAP (White)"
   ]
  },
  {
   "cell_type": "code",
   "execution_count": 3,
   "id": "b22f8199",
   "metadata": {},
   "outputs": [
    {
     "data": {
      "application/vnd.plotly.v1+json": {
       "config": {
        "plotlyServerURL": "https://plot.ly"
       },
       "data": [
        {
         "hovertemplate": "x=%{x}<br>y=%{y}<br>z=%{z}<extra></extra>",
         "legendgroup": "",
         "marker": {
          "color": "#636efa",
          "opacity": 0.4,
          "size": 2,
          "symbol": "circle"
         },
         "mode": "markers",
         "name": "",
         "scene": "scene",
         "showlegend": false,
         "type": "scatter3d",
         "x": {
          "bdata": "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",
          "dtype": "f4"
         },
         "y": {
          "bdata": "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",
          "dtype": "f4"
         },
         "z": {
          "bdata": "7AiSQJfWikCAlv1A//e5QOehm0CRjLxA7AFzP/dtwUDcKVVAdQK3QJBa5kDzHHNA/dV/QEWT/EAe70A/pBEJQdJfz0Bv2vU/nqB0QILKSECojkNAyFyFQAABx0BMyGBA+/2KQIjAKD8dxxhABfHgQOTvSUDqyLFAQtJAQO1pnEDIctVAKaJYQEqzM0BJOoJAZAz0QDyQ/UAXGG5AjRGzP+Ynhj+Nc29AliUoP2g5ZUDyHIJA1oV+QEGsA0FPULhAFQm3QGCVaT//o3lA4vlXQIfKCEGtVXxAkDKNQKgx1D+EDFlAgZrrQH2cyEA/PCtAkfgLQUNIpkDVBsJAkA8KQSk5aj/OOz5AvuiMQP5LpEBhuztAoM7VQB9/VUDrXiFAxOqVQHFnS0DDwOFAhKCPP8X6CEEZW6lAb1SIQJfMxUBmUulAMCOZQB2qY0BFRcI//nUJQTfhCEH1fe1Ak0umQMnkBEE3bOhA5PpZQCb9ykBd/thAb6dDP/qmskDIGrpAKcPqQCxbYkBhp8M/Y7c7QC41D0C7oSpASP8GQCetykCvcvVAI2C+QBV/skA0j5NAms+7P/0ok0DWazJAcf/HQKoDCkAvaadAQxJ4QPQG60CvCIRArBCEQFS/SUCnyepAnwtAQC68lUCjRQFA4/1EQD+0BUFtI6pAFvIAQKkbhkAVbohATvl9QEoCTUCtXvhAwvbTQLfV2j8NEQpBtS+kQOGBrkBBeEBA6liOQBTzmkA+/xlAdN5+QK2ON0Ctgu9AQxAEQU5mvUAZyr1ASTJrQIyBsUDPwA1BX5noQFCB3kBCirFAZ74jP3xnB0GkW/VA9AQrP9MnYUBymFFADnvdPzAOwD+0n1lAZ+MGQIUi5UD269g//mZKQJwHVkAE+9dAjvEXQFvRgkDf7aVAbqJJQCQdjEDsUwxBUBL8QMimAUEqnHBASFMoQKl/kUDKCJRA2LwwQLuSgkDkVJxAfEDHQN7egD8+6bpAbVvDQNvrLkDtMTRA+YqoQL7sGz8ucQZBZsXPQJ5QJkCRwDY/PyrUQEUj1kBdnQlBpQ+9QJP6HUDS+uI/OJoNQQQkp0CasgNB+kGfQJoepkCnoj1ACML1QIpUFEAi9gBBklyUP8C75kAK2FBACEGcQOJ8EEEI3BQ/UwTAP/at/kDWGstAjGc0QBRg0UAcIt0/rZ+sQNWuNkD+2NU/N0pEQFxC60DbsIA/YhZDQEMELkC4EElAOC0CQY407UDzwfpAV1ckQOajUECNxvE/yjm0QCxCzEAH1D5AXmJHQGgL1T8PDURAdk6zQMMIMD82NMpAEb99QMR7Fj/MKqZA4RkCQDKbdkDyABFA+b2PQO853EAA+FRAuHAIQP3Ukz/YbfpA0IKmQFStLT9Y5ypAlloeQFgV5EDJ7DFA8tmoQMCdOUA3z/pA35xzQF23lUCb3IxAfuhwQKWNyT+/N3dATYKxQGNC1EAWawFBE4F4QDsOgkA1bgFBW8i5QBWysT/q/E8/Z7mXQIuUWkA79N1A0wDlPpGuxEA0hJxArPW4P7QNgkAP5FlA/IpvQFyu+UBtl/ZA4ZtmQDjbykAM2/JAwE/MQMHlpED1oWJAIlq5QLglhkDW60NASkaMQJEaV0DjDZxAGcyEQBam+0CWK0ZAYkL/QF+OYj9sCORAE6VdQIdBu0BHUf1ANc9JQIGSZED1oYBArVwJQeKXd0Ccqvs+TLkwQALk8EC2ysFApsAGQdXgm0AHTfM/qKiQQBrVmkB7PvQ/gEaPQAfMHUABXudAw2rJQD1LgD96AgVBqittQNRn0kDlfCNAeccwQJ+vqUD+DctArsCZQMzH+ED4iFJAR6mAQOL8REA3tf1AJ0f3P4X6KUCf55xA8JEoQGj31UCGiwpB+AaQQJ3SDUHvviVAsfPCQGqCoD8KSTk/WydrQHDpXEAZjx9Aq7p5QDnMUj/vBjVATzLLQACCPkC25Y9AtpOdQHjnxUBqJ4JAKKOqQI4Td0BbNMFARSmAQBYL3EBE+Cc/6tN1QC1vzUC0/fxA1sYoQMWGykDLFZpAnFffQKDkekDhIyJAaFRcQFFa1UBwNM4//ihMQDT6ikCZi1tAkV8dQH0YYkB8t9ZA5fT5QBaVXz/3u0JAV16pP4kuzkBSUbZA59w/QBqyn0B4/dtANCBMQKVElz96hntA+DNnP6Ah3UDYfFVA5vYFQdhz8kB9HANAAG6TPy+SDUGBuhpAbEmnQIWhTUA8kkNAAGkIQdc550AtKCtAW/pfQJxuCT9XBqdAs4q2QBS5vUCXT79AVfV2P115BUHg1M9ALoryP/ydA0F4xGNAkHXRQHvLQUDfm+RAOZCcQB5NM0DpxN4/Sk2dQJuAyEAeYTE/GCwAQKqh8kD5xOJA+b2IQILFPUDh7M9ABQjZQBBSKED/D4dA8RypQOyFT0C1J1FAJVlMP4s0L0CPib1APRWcQGu8yEDwa3tA9jm9QPsvo0AZ8AVBrHbjQF1tu0CHRu9AT/72QNkyzEB4YLxA0kHoP+NFhkCcBaRAlUWRQK8akEB36qpAbLYMQD/giEAPgOZAWViMQLZ2p0DYycBAIwqAQF/8yUD4d8BA9qqnQAFVaEB2A+E+rWe9QLNIzkBkAWVAxrcAQAY2O0B94eZAPC3GP2jHlEAEH8RAdPI9QCQQbz+YcmBAco11QNQ4n0C9VrRAM+slQGXwckCc7gZBlEK+QCeZS0A48b9AiWQJQadD5EA+0aZAYcf8QByyM0BLCDBAjLLtQGLjKkAns/ZARv5/QNh9S0DhhOtA3mU+QEIdgEDRpAlBfwo/QES/10CxgUxA1O7gQINRUEAeBV1ATUHPP+xXbECfjutAZLH5QCO4vkAmBn5Ap619QFt5AkH2afxAcIlMP7fVOD/dxz1AaXdgP/v9rj8aiXpAhsG3Pwbyf0CB5ENAXl0fQDLKKj+MAVVA2pL1P6BWW0AXCddAdruDQOtDi0B1wPNAyVAfQDjygkBA949AtGYBQWNMS0BO9t8/gjw5P1UoJkBHCNhAXl49QBD03EAx8xs/oUyHQGjpnUDBKZ9AoLDSP9crT0D9yLpAFTI2QAN4nUCe6atAY9wmQFZtpz8Q6cxANH6uQOPUh0BCOQRB56C+QPDlAUG6gQxB2RbFQKF1DkHIS5ZA68TOQNOS6D9y2ghBvU48QDCuzEDVh2ZATt5NQMQFw0BjZtdAuMbFQCzgAz/0zu9A/AMFQasD7j8ZzwdAmPw7QM6oM0DdvGBA0izEQOCmyEB2Q3pAp7gMQZ5gCUGqHWNAikjAQDP5kUCsxbRArGxePwc67kDFRalAnl7CQE1XC0GwRzhAmNcEQUZWf0DTnU8/ALrPQGG4kkB+sutAaQgsP9AP/j8uvXRA1KSAQPchv0ASm3BALc8oQD8wf0DKq5ZAukXuQDYNXT8S8ZNA1ovZQG7QLUCUaXBAU5tzPxnxtEC0v29AFoKfQKPo70DDO/xAoyL0PxNtUUA6C+9AProdQH2L+0AocgdBxacxQM2Irz/I8IFAR8PTPz9Qi0Dc0jBA2oCnP9MRRT/iwRtAsXvbP3p3O0CnfAhBIpU/QGuYxUCgf0VAFcXPQPnn/ED/gHA/7i9CQM1WzkAPsoZAfzaaP8+EKUCtk8JA7eZAQNqBST+UdAZBo8ChQIqk60CwlL1A/4RfQETJp0Dk9Nk/oR5oQNz4OUBioB9AtLJPQBRbhkDkaf9ARQ9YQGj7ikDDEdlAeDm1QJrI8EDqHgZBA0SYQDmAzkBlG0pARzCBP8Lr9UDcCMdA/56QQNzz+EAq4ZFAEQSIPyEkCUHJaihAqPk7QPACz0A9vQZBlFhWQHfFQUC9Ii9ASEdIQFZfC0AWPFdA41hKQJh99kA3B45AWAFRQPuv8ECdgM1AhOtzQA55vUBwdfQ/QOe9QKtXqUCme2hAbIyWQMUtoUCwP5lAhWFBQN/8Tj8nB8dAIXXSQP4TBUECyOpAdekBQWQSJECZ4MxAnh/tQDzEkEB0Ujg/uhQHQLFiq0CH8RBAOY15QGS1Xj/9+yY/JkqaPwRJ6D9B5WZAg8uVQGhWzkAWEIxAfc0EQf2TCkE0ialAPbGsQAwxAEFaWmNAyeC1QDBFdUDrCNI/Zb7lQPmdAEE2soFAAf/wP8Dc8UCooRlAB9fQP2HLT0BTO51A+n2aQOy4BUH5gd9ATIrzPyiju0CRhEZAd/5gQA8SdEAK/sxAR8lOQNHTK0CbFNJAikOdQHcb/D+2/kw/NgAbQGIR50D7ridA9hDnQFBIjkCxrkNAqzjLQH65OUDdWv5Af5IbQNLLTUDFublAho0HP0BFwEAYAilAOpM7QIQfp0Dk2elA6jYFQY2050C6n4VAtpmyQF9+TUDJJ/BA9kxlQLMgtD9b4opA9MQtQOTLBED4PuJAwtlNQPeV90DCLe9AvP36QMeQRUBaPtxASQbBQNRCFUCeuMZAlcFEQLYl+kCLY4I/Xl4OQTLf+EA/KkpAk/j8QNqEekB4yxdAHa9tQN3fYkD9Dv8/lFs0QHSs60BER4xAvzmtQEDRsD+P56lAditWQG86sEAgOog/3ubxQCVWnUBF1ftAegy0QJrzIUAtSwVAKY6tQMCe10CsAhpARWGfQAyEOkAj8kBAMS9cQBQ14UAEiNlANwAUQI91cECsw75AcSqdQEdEBUHvudBAIX4IQZ7EP0A2k/xAJ7E4QEd6Nz9n2F5A2rLKQHOIyD8/Xr5AWHJHQI+N1UAKmMlA21icPybs5kCLb6I/x0zzQGleAkELhQBBqtplQF2Rsz8l2I9A0CtKQD9MsEDNBrlAjW6PPz6PWUBxMrBAVwQjQGu9hEANS1xAvEFmQDFp5kDTRm1AN3/4QHr/WUBodTM/uJT/QEL3U0ASe6o/atXRQJBPBUHmzDpAHkHaQEsPRkA2iZlAOomUQOuLBkE9a1VAl2vFP0g9AUBgUo9A9xBLQJPN60CHuoJA9ejRQJACBkAnGLBAPlpyQEDVe0AZylBANXopQCka9kABnSRAH4YHQTrJ30AGv2pAhUIoQFD/nUCdBPdAx7qAQE8R30CKxg9AvuTFQE64gkCsfrQ/zcdHQIf8zkBeO0ZAmtpnQAho/UALiipAHdZcQDVWdUADqI1AZ2MFQZ6tREBIkjlATYydQFicjkBLkFVAcusuQM9y00DXK6pAoCxYQPEbVUBSktNAqfATQBqSa0COnONAuSYAQT7Wt0BHF/dAqQq4QLziGEDiupZAzX17PyFm9kDopvZANMGNQECnkEBI/+pASkYVQI1VvT+3BiZA9fToQE/6hEDTGIZASmaOQFdDKEC0c6FAZ6SmQHt0j0CjEOZAoX+CQI0c0UBQhSZA83aFQHBg9EAcOelAnQtrQAIf8ECjUo9Ai/ufQCNb2T8neRBBvgMzQMzsVUCtCNc/KqbiQPrgTj/5tk5APaL1QEpV+0BYLgZBO0ToP4OnsECP7LdADB+BQFBRiEBb/2lAjNI+QLX6iEBDuQtBbv3LQEbVb0C+uMBAejNwQJV91kA8/9NAfNobQIwCsUBtRAFAnZraQJzRdkAUzrk/ciPlQJcBCUDAJh1AfbRBQIhE3EBTfWtAN5afQIYqAEFrtcdAozSDQEpeT0Auy/1AjvAsQFVkBkGXdBNAgyIHQAzyskDI63NAvemYQEkGcEANkZZAIX9hQNGX60BGKz0/m8LiQL6RLEDN4z1AT6TyQJ2DAkAk6ltA7/KlQN6cckCbs4ZAzbgbQAKfNkC3VstArubRQI3Sl0D0ZEFA/9HSQPJdwEDR3fBAezRbQBXOwkC78tNAoeh9QPoxCUCXJPtAyGcnP9V58z+REAJAscjyQH+iCkGfFLg/CDB6QISnokCrDuhAMF7HQIeNwEDMLA1A5rtyQE/OuD+y9O8/nB+1QI1oq0BqXIFA028tQHlZtECXKppAwX46QFlFMUDZcEVABpujQHib6j8bq1VAiz7fQJ7ftT8JKfRAHG0AQbD5C0GjOyNATgOxQP4vgkAmrOVAPdzWQDIWOED+v9w/3kJaQADf9EAJx8BAXXVqQGhcPkBWD55AO7tyP4eDrECsV4JAnDPbQNQHvUCLeQpAXHAQQexZykDzRU9AT4R3QOjf5T9cZWhAeYSWQGEKp0BgsZRAs1i1QCNhl0AHlD1AKQSeQB772EBQez5Awqp6QPNNRUBKBwdB1dhMQCq2EEESZQNBhE/0QBfe6kAJ5A1ANp6XQDklQkAe3yFASv8rQNIG5UC3C5k/IEmNQOJW/EAimwNB8Ag9QI7cuUAlLAdB8cwdQJ7Jl0AqmAVBG08tQMpRdEBYR4NA9ZerQJGEf0C2sXNA4lUJQW7vA0FcFJNACuvWQNjIPD86/pQ/dQS2QAzvqUCcvvxAXJghQObqPEDdCGg/vK5EPzllD0F+/m9ARWsMQem5kUD90VdAe7V8Pxrf2UAliXE/RnS9QIS7J0DwHPFABgMvQN4nEkHA2r9A43ySQNt1+z9o+kRAcFkaQOk/t0DDKYBAG3+uQLx0MkCRYcxAT2P7QKJWrz9oqdhAMqVfQP/77kC+IdtANdS/QB7lTkAG055AmxoAQQkrtD+H6NtAgQjzQJS2vECdnAlBh5OSP7H7PEBceGJAXKQFQad+fj/gOTA/SGqkQD2ku0AbbudAWgxXPxqrwUAf0bJA2FyeQMF9D0Czg41ABN32QAqNkkBR8a4/qm+EQB/pSz8IxlJAtk3bQO+M70Aela1A75qSQAUVDUFFyMJAImDCQCD55UD5nLpAT/JNQMFugkD2p3dAOiwmQFDuVkAiVmlAIAPgQMRbE0CZwNxALkR9P/5pAUAR115AVXaAQC/SeUAN7l4/hQceQA2wC0ALfANBRquSQNUROUABUBJBvTmTQPZwE0AOatlAncrpP96q0kBCm9tArPcBQRhdSECsSLJAI/JuQBY4Oj9978FAbM/xQHjhQkD7KP9AdgRWQMTfSUDMnT5AENcCQKEiTkDoP8lAnZ6HQHO3nUDkmjBAqPDJQB6kO0A9OFxA0n8gQHgSu0Co9tA/x30RQE3My0DwRARBBA8GQYvzBUFsToY/stGuQH/ABUGrrqhASyWEQPGVu0CpEb9AloUAQaWoWUBNBfFAXugDQUh8z0B62/5AlzLkQBO9c0A0M1pAI0v9QNg7OEDGBR5AhBXtQMbLlUAWr7BAM8vIQMt5LT98gug+QpSIQNau0ECHd2w/FezGQN3VgECyJClAlzDTQBUum0Dik/ZAZ9IlQE6DJEBW9CJACcf5QDdD1EDGKgBB2tkyQIm+DUG2GQVB0REbP8H4JUAdaOFARptRQLxPfUAUiWhAJzSGQClWQkDTe4NAyzosQIxN6EAJkJJAQ2dHQOXka0DPYdVAx9K0QIeUQ0C+cQBBylSeQOczjkCbVYxA/nzAQILtDkDlXz1Ag+JBQC/KOUDKnNpAZnQdQJQpjkCb9ds/UgQuQPcBvkCdC7pAOpWIQBOGA0Fy1t1AC911QFrb1D94Ul1AgieaQHIa50C/4QJBvVWAQONeiED+R19Aj/XJQH/rPUBwCQ5AI7BJQF9q7kDfXgFAkhR5QK7mVD878xNA2UvqQPslQ0A9+7JAU7aLQGt5CUG5Me9ALv9GQC2bFUA9Ei1AHQrqQDOUy0CHmXdARNnMQFu/6UCJVA9AuB+fQGz2fUAQ2B5AzWXiQD7n80CY4wFBTZg0QFh5CUDIe69A12e3QBIvIkBsg49ALzWRQADIZ0BQ66BA3rDXQHVWpUBlCCVA8SczQOZfBkGwD6RAVGYEQINYgUCGRiZAV58BQSuWJ0AFGoJAX3+zQGiJgECerC5A4EqbQAVdTUCHkplAemTYQGebq0BvFdlAOhbaQAWEA0GuhONAoi3DQC0hmUAShdBANtwtQJwn9EAPW59AHwsLQJEtrj+nvXRASbvuQH0BzkBJ9S9AQNCfQMb3A0FDIoRAepvTQG6rT0DiPX8/L2nJQFksWUAmrtlAv9vTP8ok/kCKT5pAtouwQDLECkF4EcBAai2lQNNJJ0A6855AL7Q0P+m5qkCD79ZA7bADQcBmK0CTvL1AODzQP0K59j9qeN4/i5qNQAF3aUALDn5AOGe3QFXxSkBR+U5A/KXzQL18aUCfQAZBQfp/QOCaJ0BvA5dAo/ToQO2rkEC2539A5p2LQHTmCEA9Sk1Ap23FQFj5zT/K3Y1AIEOqQFD2kUDHJolA4FinQAqtz0Cj8gVBdx7vQIPwBkCkiEdA43miP6QcREAHpQFB7qmYQGGpRkAVbQJAiZrHQDRIAUGQgjZA5PrIQMiW5j/MNgJBbPpDQAMM7T/gIJlAiBcLQVswR0DKSr9AW923QMrgnUCWrQxAG5ccPxjqqD+Wol1Ax7ADQQZrFz97ieVAbFYzQIkFykD1vl1AP9JXQHrOy0CbnL9A4bhfPwo8KEDg2jZAQMIBQS543z6kSY5ARZuGQBJhqkCMrxtAaTxBQDdgZ0CVDQ5A8oQCQXIEvkBeB3JA/cH4QIhtEUCDTMxAyp2VQLeKKEBKFsU/JAeRQEtGb0BHXuZAh33tQO0ypkBtYcRAc0SVQGvf/z9L8HtAZSKFQE8J+0DLoZdA8YlQQC2fSUChskxA5Z5BQFakokBgBG5ABr3cQLNVHkDsxWNAHErtQJMZgEDk+DA/47A/QCROl0AcOuhA8L0uQAN1vUD1pZlAoSi5QJNM6kD7G8A/pcXrQMlookBTVpg/pBBzQDj0b0A3/glA5HcPQUEppUB4fg9AVhyWQNsiNkDjINZANiNRQLoD+kCfjKpAuEG0QCvP2UBpsJ1ANOZLQJQraUCzsDpA7s+/P5j9SUBvOLlAPwSCP+xCmkCpr7FAWXUnQMuX8kDJYstAzfawQDBVfUCPZfRAv/L2QLQXnkAmAddAtG9mQPtEP0C+3dNAAYcEQdl3jUB2i85AAX5eP/tubEDs9vBAEZyuP/eb7kCaiVhA8mzqQN3JfkBP8VxAtn8MQbQZA0FzDupAaOELQAGjJT/g+NVApaf9QKVLhkBvTOdAsUqBQGJdhj+vl4xAf++CQOPQ9EDvuQ9ALTiOQDx13UCA6T1AYq+gQE7d9ECMD0dAp03lQGLmCEEuOUJAvt4mQAuTa0A/4vNAlqsnQAN19ED9NPpAtjZyQDL3B0EQT/NATJs4QE3zxEAuwpNAGZSEQLkO/kB8zhNAQlwKQbUaAkGSC4xAEaXEQG+Owj+u4zhAMmtZQKLF2UBdkaxALvVxQHDWoEBhCQhBIWxZP2jlx0CXPFxAU1SeQAjOUECGygtADRmGQFimDkEHFphA2U6mQLMkO0AWzHpAt+DBQJL05T+6XslAev9PQDvPSUDgL8pA6HHcPxdvwUAoS61Az5QOQVtXiEBj/35AqNFVQH8gtUANzW1A4EHtQPuijUD4oOw//CgEQenWQUCPu5NA167xQJ802UALkI9Af0rmPyU2MEA3W05A/yDGQFF9M0BoyAdAv+/yQPIfgUDY53hAIy4JQXlE6UC4vi5AOWWGQPGPez9WtPdAciIJQRmbmkA+LXw/aDLvQIrgokAGA+xAJjL/P5SO7EBW+KpA78SaQLMLY0Bi4wNAj87+QLZGqkDJxq5Ac2D3QIdsn0BfkQpBW4/LQGWGZ0CJgslAtkhMQERggkA2OhJBp9XNP4e120C0bilA9C1KQHPIgUAqKvtAc48aP1M8XkB8dHFAVwJvQK5MMEB+GaQ/XDDQQPv/KED5zaRAYd1NQJKZR0DHu4lA8XrCQKj31EAj6Ac/cFNUQKKPAUBVRBZAaNT9P9IW+T6OiZ5Axq0DP0fp20Dxez9AKBMuQBwfDEFdn95AsjU9QN59pkB+HUxAa6fhP+wlDz9MduVALKyGQHUJgEBy8cVAoV3SP6Di2UC2f5pATGlSQI8ixkB4gZtADLhIQCph8kCqZ+JAlhOJQG4OYUAV74RAL1GkQJoxhEDKg41AA2Z4QDjewkCtosw/5dtKQN4k6EASx/JAUO2fQAoZBkEF5ExAuD2DQE5j2kCNSp5A5DF3QKGjtUATSIRAFnANQem+vD+RHPxAKvHWQJD2AUGj1SdAEVNLQAkIBT9LCrk/N06oQNRJgUCyJwhBsrYpQJsIU0ABywhArA3oQG8jmEAlBME/nnSiQNH9JkD2VLI/o9hhQMe2mkAbPWJAglR/QNpQxD9rR+pAGiLGQJad2UALr0hAIlNFQBbPAUGH9Wc/imRkQOLaA0FefdBACF5zQHDB4EDSPHFAtNPmQGKLzUAOEbNA0dlgQCRNEUH1JE1AjacvQE6CDUGyfFVApEXYQFtnl0AYbahAcuMcQAX7RkBn/9hACL5sQO+iR0A6iopAsR3GP2Kg90AJuHdAQBORQJWmFj/YZ4A/ML5gQDOPlED34cNAT/FwQH74I0C+Y9pA0R/4QG9tW0BmQ5VAQO7DP0DzPECcm1BAelfKP94y40BDDShAun6nQErb7UDEC4dA+unFQCjyb0B5UYBADf1nQF8dCEFNeMRAvRZyQOQzkj8AV1xALCvxQEufaECSIZJAYvifQHqPeEA6O9RAxlyFQJRUn0ChE68/trd4QPNwwkB/PMtA0P8GQCJgqD/T9QZBReX/QCmts0AHDlpAJNdEQGS6JECbAX1ARwhxQHN2kECe6chA2F4YQObzpUAs+b9AH9a2QHK8C0CaVblA17OeQB9yT0CQKMBA77kBQMwWZkBg1NpAXoJcQAnikD8LQe5AV3aYP8RZtECC8U9AdVXXQPOjdEDgaB5ASuksQLAbG0Ca4rVAyhjnQCP4C0F0Z4BAqlTkP4ufkEAaGSpApXP4QIS+cUAVUIpArOQzQJ+i10BtPtA/M3Z8QFsH90CjRxU/wP39Pk+ZqUBoMCVAiZxTQGdDAUFgJOpArqgCQS1yBEF4gshAYuiqQBv/LUAtS+tARVPCP7dBjT9vzKI/wab6QMOf/z9Csl9A7zKnQH0CjkB8MotAz/n2QB8cCkHznf5AOuBgQESDjEAWVIpAN0byQNcSM0Cv4a5AfaCrQEeWOkBUfNFA85VXP8oYYEAPKABBnx8cQKUHBEBYO9k/rn0RQCx/qT+aQopAHIMHQcIj+0AJoi9AmTjnQOGer0DvB49AQmr8P1oAM0DPMYJAHsGdQEw+7kCQJq4/jc67QMF9gz+IDCpAiBI6QBF0gUB81wJBRtg6QAsVjUBJJAJBgsZWP4mZB0HA1dY/ijLNQCjaBUF5xsxAXmfMQPOjJT/ONjhAaxKiQMuDwkA08L5ArDsMQRgI30BDNuNAtwz0QIQHEEBFWak/WGifQEvw/kCdWMVAr+zTQLReM0C6Bh5AOLCnQEJ2s0C6TNlAZzwFQSBQiECqQotAZJkLQQ018kAWM7RAsObRQP53EEGkRShAGlzFPxpAQ0Dk4rpAby+wP3WBfEBvIR5A0mO5QBaJV0Da9UNAu+mIQFThcz+1nc9AaJngQMEmpEBj8PhAq3R8QG+u/T5upjo/BAPVP/0sLED1LetAWTRZQJBeyEDrrk1Amvr6QMzenj/SKgVBTJ20QDqF7kBZzI5A9wsrQObR4ED82ghBdC1dP4YADEDpPoM/4M6ZQM4Kgz8xHPJAEQUIQZTLH0Ciki1A3kPWQD+89z/zj3xABweoP1O8eUD2vEtAC2OeQEeoxUDG8XhA41GgQGzBDUHZ0HBAvt0xQN3FvkCy0lNAkpZ5QHsF80BTEoM/jmDYPuDEDUFq12JAwC5EP4M3vEDRWw1BMsRXQGU7OUCEptlAGwaLQK0D1UB30TNAwZ6uP0VSQ0DJENA/x/P7P75PxkCViapA7n9vQL4BVz94E9dAw0TzQAMbtUBBYzhAmf2oQF8pUkAad5hAmjTrQLyF5EDkIwdACsuNQFzh8EAqdRpAIglpQH758EDV8f9AxUWNP1lKUD/pJ7pAhkecQH9mzkCFoIFA/DyLQM7Ppj9farlAgYiUP4pgxUDOS4E/OWiRQDnbyUA8PrlAc5yPQDKdTkBT3JY/eaJLQB+9kUC6/3BAxwo6QMhVLkCLc3hA0FkGQbzojEAHAMRAnZL2QFcEOUAVRKRAGHrHQGdTokBqigBBzNFHQJQNdkAbboFAsPInQBMomUAoaO5A76ZcQEOteECmd7pARh0yQCUOLUCHJUFAght3QLXJOUC+iiJAWp9LQF73lz9y3fpAPDCoQMVRlUAuiZxAQF3KQC4my0D+iZlA6ovjQEs50kAb1sZAIAHpQGuhd0BDZec/0Uu9P1G5gUBXL5pAAruOPxsfPkCq20ZAVAltQNJVKUCKKx1AR5VpQFhEsj9z2MFA8rstQCR+gECnHeZAsKTmPzFRj0DPAIVAjNSZQB243kCWrctAl3HtQEotGkDVtXdAUbh4QNts2EC9d5NA7hA+QLfyJkCsnQpB5iu+QFHwOUC0valA4fklQMra5kD4JFZAfV8HQTHRAEHUSGpA629tQLOCBEGdlMtAMf6NQIzmoEA15KlAFqqgP6BqMEDDX3hA8M7KQAC0cUAYE51AVcLoQKJxhkABkKpACEpNQMUzbkCdXgBAzBzLQMsl+T/s+4FA2zYiQAwKmD9UtYFA6OycQE/mjkCTY7FAs4uqQErnIkB9vC1AWIOeQF215j/zBnpAubHfQHuF7UDnNSZAkSXiQP63bEDD9yhAQfjnQCoTN0Cum2tAmi8EQCdPckBVSDpAQhXUQPT3dUBMatRAxvzhQHEbekCuY05AZYHbQK+oWUB13INAB7QwQAy2pECEkjBAWHR0P2GalD/MCgdB5u2VQDXgikBKRfVAg1VIQJ2F/kAwDt1AnQB5QBQowkCesVVAzRwiQJAoUkB505g/lC++QBLt2UCO7clA/jSSQP2TUEC4PRFATxkLQGVbvUBtAphATLKeQO2DA0EmrEFAvSgAQaX2N0DWWURAad1fQHx0ckCFb2U/lOJlQOJ8BEF8ygZBsuqZQEs+ZUAk3U9Adnq3QPSIJECsWb4/GbiZQFyxKEAGs5FAt+OIQD2efECx75FAOJF5QDb0xz8HMyxAAKEBQUlqCUDcR0hAnhmHP1bJMUAYO4hAtyGWQJYUTUBwrno/BJHNQDt0j0Bs7Q1AYAaqQL7NI0CwIPxAS5sUP/DqZUDucoRAE/aDQFFn7kCXWEVAxy2DQF+wcUBhCb8/xqqlQD8Se0B5hopAmJ/xQKC9r0B/6wpAwFbmQABjCEGQkGk/t7h6P6qjhUAhfutA/RrSQDTs9z+7wWZAMXSoP3kJtUDxf5tAit8FQPZ8UkAHuDNA0DP6QHfZBEHUYatAU7lnQLYWzkBIlU9AYsw0QJvkdj+DuEBAW56WQCLf8kDKjQhBanmUQOtE5z+vpR5AyNMIQQgqFECvknpAfTKXQDUlPUAg1h1AKAU/QBU0CUDt9wxAuYOEQI8rkkD+8dVAMAZsQEJpiEAyT4NAuR9UQO9W7kAyE8ZAY7IIQakEL0CCgpdAQ8jvQKVnQEA5CPRAgkg5QH01mEBvgutAXFe9QKagukDO+rc/oV88QKPN9j8VoNpAy3jfQMDU7kA52UNACA7gQDHnhkCyXJdAOcaCQMBqyEAHqYVAS69OQI6rO0DQy+xA0bPoQDfsWECEZxlAeRCOQK2ySEBhJMM/6GA+QMKJ+UBgaKxA/K/RQG/oakASuJ9Acl3rQLrtQ0Ae8oFAjoDaQKlHgECMCKI/DqISQLldJEBL/NNAbJ3xQJFIrkDUeRBB3vcGQS/NmkBGuAFBafrRQO/cAUHs30RAQcurQIRYPUCGYwZBi+yFQKEkSUBxxupAGzTbQDe1YkAYNVhActfdQGpqlUCBHgdATIdDQDKIZT+NoPJAHcC6QBzsHkBMkNQ/hMrlQPRnkz/eU4RAVeeRQCFimECCkp5AZ8vmP4ctckDeK/VAPtvkP/EHHkBvNCNAe8VXQPtktUDnvw5BLRl8QCJSvED2UY9AXPHiQH9ADEHBPJNAa+24QBTeAUEMwJRA2foDQTQ120DJ6L9Au4rLQJQ+VkChpf0/ki2lQCDy0ECEREFA7+2NQG0LuEBl5gBASy3zPxiDNj/5EqhA8c9UQNP46kDC6s9Ai0c2P+7b0z/Bjx1At0BmPxzbJUDs7ARBDEc2QPxCXEAUiFFAeU1tQPk8+EAmL/tAOGWpQMqbdkBRIs1AG6KTP8cADz+GIDNAICA3P3TMuUA5/N1AqSl1QF0GoEBJW5FAteEeQPQ/l0BOxao/AffwQLPu50BbhxJA8K7PQOWN20BBq98/ll1KQOn870Dh4LpAimaYQJs9wkBNLShAvqZlQECTS0AkoelArNsGQIPPTkDzY5BANpqeP0Ctvj9v1WdAQ5+pQB0hgUBLy+xAyF/fQNXVuEAVB+0/IzjfQNJx8kBcH4tA48g6QLlSJkCnSv9AfXLGQBgGgj8gRvpAiWyBQChNd0CkUPg/6k2qP0VvmkB88oVAcTa5QMK0oEDsEd9Ad9ndP4q3ukDoudxA+LBNQL9JbT9+Xqg/S03oQNIyzUCd+X8/+K0KQKhUckBkaD8/VH6xQAuGB0HeQs5A37VGQPaj5D/pjbtARfhBQNrc5EBxqTRAvYNpQJ5sOEBGPs9ARrTtQI22+z/RC5o/n1x0P1dk4UBVbYhAkkn0QPFBrEDxsSg/ZqsEQX2Cf0A27S9A1j+/QJfELkAC/stA0GWwP07D5UDp+eVApPG5QBxDlUCjC2lAfh87QCE5yUDt9GlAG+oDQQsGJ0AG1idAGR6uQBaP8D+JsutAEFQGQMOpNECotHg/85O7PxvnIUDHilpAb/PhQL0RLkA4BnJAKvp8QH+Pi0CyihBBV1peQLc7hkCqupRAv19FPw9dGT+wicNAKlVcQJ+nmj9rhLxA7uPYP69FREATB0hALwFWQHk4BkHM4qBAH+/JQEi+P0ALNsdAsDrBQMhjhkC6gfxAI/LJP7Yy60CvJJFAHTMWP8rY0EB0XaNA0ICzQK+agUCH+K9AkW9UQNpO8UB1VgdB1CrTQCLtwED5y2NAn1eMQMP0oUAALARB/80CP3f2RUC9mIZAFrFNQC2Ev0BBwFVAjpwiP/4uxEB66+NAZ9FCQN0fBEEFyN5A4QLCQPytrkB9CClAHpNGQK/KP0DCsyVAaC74P0Ij9T+rW3tAsc81QDlpuUA9jJVAqz6fQBOFCEGe+eZAYm7JQGkmCEFgqUNAxKEGQXrqHEAyr4lAR/uKQIoznUA/hkg/oBVhQEAgyz+K9kVAvWFoQJpx2EB+j+hAW44GQQZ5gUDYH4lAgzlZQALX80BgV8s/nr7GQN5Frj/N+YRAwdYPQK7ZiECAlR5ATIAxQHPRQ0AVbk5AWDzTQAOA3UAIZwVBRDV4P1eaqUAtDVVAdI75QDkNMkDFW/RAi/6JQNT9vkDTy5tA3/TJQL4NE0AJ3Z5Axgn7PrVdikBOW9JA9D0oQHUNLUCZk4BAyYI4QNK/iUBklPZAH9+7PzFAB0Gi7rlAQcKSQIfeiUBE1Q5B2x6aQFLUxD8rzMNAfK9TQJnyg0DbKElAuPa9QB9zCUGiAUtAQ/R3QFBgwUCDhghB9YSHQJWy8z9uiilAyb/bQAmNhEDLDzVASu4bP6d7L0Bn7K5AM5JHP7GhqUDgKqBAe0ZUP/yvDkGrbYRAsN9pQMABL0BjFYpAfGTCQNJZCEGzp8k/fWavPykjpkBCyGg//NQtQGTX6T9ooOJA/XDfQIpl5T+csoJAYG2NQLlWCkHpd8ZAQCViQFLz0D/vu21Ajh5pQPG220CM6kVAtTKlQJrPyUDfkHg/I7rIQGtmn0A3rS1AJX6fP6KuzT/UWIhAyfeVQEGkWEDznOdAfpT6PiJIlUCvBnJAMmPaQNuzIj+9BiRACpwsQK4ki0DNZe5AvaIMQRLdg0CtzRBAIarjQGKI/kDQjZpAdYQrQMMvdj8gC1dAseZ3QIsZeD8BMq5AC31vQPG3S0B3XYdAX1GSQPqOuD8zMIY/axYCQaloz0DROA9B3UPYQO4b6kDF3W0/R7kiQO/zkEBEuU5AzAl/QIy/rUDPnQdAbusGQYJ7k0AAJ1ZAkTlUP9KNhEDHr5BA4C9iP+hC7ED7Vs9ArYEOQTCPbED2NmpAbScIQW8GjEB2kWtA4kgNQf85h0BxGP1AYp6CQP844kCL8U1Aa+p+QAJEkEDQ1VNA5zPcQAK+XECqZ69APAUBQd1sp0ALAgFBcLDuQJRfLUCwcP9AWl5CQEh6M0DtM5tArS80QN5LZUDnY+xAFX98QL7mi0BhIC0/NAd7QAiT70DujNhAHQcpQA2NeEAB7vk/GhnaQMmKaUBDWVNAstF+QFncu0DRDOlAmA9AQH7tv0DEkjRAR5kmQOYCjUDtCmtAjTjEQB9+hkDLJDVA/tIIQVBJzUAmoU5AiJsLQYWbP0BZoQtAVZszQIRZoUCGQ9lABYxMQKLhkUDGZx5ASPWSQBPmz0CkRp5AtjqWQArphD9KeP9Ak9yiQJ99wEAB9PNA1UHoPz7DeUAv1mxATAeeQPr4DUBQd19AipBsQKcXd0BMA/1Aozm6QFZFW0BleddAAZkEQWfSvEApWwBBxOT9QFKvBEF3hjFAflOCQCXBi0B1ampAXIgDQaBjp0AvN19AkVYjQGms+kBOUONA6kgoQEmRyEAlRslAbH1PP1XVKkC5KylAoHwLQILpPECO+vo/ir3WQLXDAEHZBlpA0i/2QO/9skBsnQhBr4UjQLYjEkH1fpU/aOfkQOxlj0AvLlxADjsUQA1nJj+EBJNAgk7HQC6ijUDoy+M/yv0UPzmCxkBLTtw/c6fbQJzMxkCpCgVAuAKjQAkihUDgHPRAFytXQPFE50D5cZFAyYFwQOKJlUA54dRAZ8xLQF32jEAP5+pAHPLXQCmT7ECECHJA/OO+QMXPLkCseDBARm0RQRrdoT9IQelAzHWlQP0CckDMKYJAW3lSQKzcCEGZyJVA3QcDQR9f00A62olAYrLyQOMpskD44ENALXb/QBt2xUCNzDNAk8EGQLGbyUDQ1NFAPRXSQOEunEAXByZABHJqQFo8JkCuvupAsolJQBc5q0D+Q8hAZKpEQFvj/D6/tl1A1MW+QCosmUAOteVA+yBZQLp8B0EZh1tA8dlCQECyWkAdtFZA99oMQamRQEAjmp9Ax3WXQAeeiECKDNhAaWbRQDFLyUA9mr5ATqgHQVZwfUChMec/tNU/QPw5/kDBT8lAx53RQEBVDUF7APFADk0vQFlUrkDVxChALxH+P71YpUAGXglB7prSQA7T8kAjjcdAaHMuQDxvoUC1hnlA9wd0QHFQTUCQTzxAdjBnQEKiykAUHLdAqauLQE9Y6UBHoh9Az51YQA0wSEBvskE/lKPWPmIGXEDu+upAR7VbQHlhSEBZzyBAaLDKQMxi4kB9L+s/5GXPP+yN80CvIEhAwW3XP8Aao0ArAoVANpfwQC9OfUCtoJtA772JQPEN6UA6YChA8rCBQIL2xkDxJFJAhg6rQOyGE0BZTEpAae8tQAitAEGoj+lAP5lkQN+7dkAAhfVA6c1VQJWbiEDVnLNAXpMDQV/49EDI8pJAnCB+QO0o3EAbxv9AioPbQGQOr0DewmNAevpUP04fAEGx7gFBpH3kQCUjAkGJAnxAp9udQAeUlUDU/sBAaOmXQLOAB0EldnpAKvCCQI6V/z7QOL9AQicuQKRqQ0C4NXJAmxfrQAH3hEAeeHhAn9nOQG43iD9KNjVAkIldQIJq5ECVR61A76yyP+f8zEB9rqlArmRSQJp7aT9glZJAyF4GQfZfgUA9/JVAPquDQKINqUDPsD9AFHeNQIaZw0BZw+hA40+QQCUZQkA+Jc1AMKuhQHTaJkAPRDtAXEaUQBEwdEDfF/RAejEeQJUhDT98bA1AUoqdQJ9OzUBnQPs/UcS7QHIiY0ALAYFAj/QWP3IjKUD3x+k/Us4FQYXX8EA+muk/QX3gP0MJtz+O0f1AS9jjQM7cQECoq6FAkBM8P6G1m0D49z5A0S69QCnc/UBCHTdAoJZAQKrThkDkrkVAjmByQCjwj0BokVxAaGi/QAeX+UB8WuM/M1TQQDH1gUCidEo/1kUuQJy9C0Axq8s/hJMKQUy7yEBK1NZAH474P0UeNkDnL9NA64GLQEz6jkBAzQhAIQ9UQBgKOUDYx2lA3mwFQVozoEB1JeM+8tqYP8iqgUCrFaBAvdIGQYD36EA9JuxAE0VVQEGOiUAwZwNBTcrrQKdulEARIFNAuWEZP3hDlkBRmoxA8OsIQZQ3AEGS05JAvABgQELksEBQH6lAWjMrQK5gqUAnXgA/THiDQKwuo0AchWhAPP7+QPDwnkB7yGhAFpF8Pz1e2ED9UINA0D3XQAyt9ED5ouJAs0XHQOH/cUCOQxFB8nZ+QAppuUBlMidAPr26P5Dtfj99WZpAEmtyQOyC4UBZKapAJIAXQKH8FkBXuwpAeYE/QEBkuEBqMJo/ETcGQQsBL0AQ/oJAJmUJQTC9q0BjCaRAB3ZYQHoJ1UAPt8s/hFfCQK1lZkDKJQtBEuhiQFVPMEAzQ4tAS224QATtMkBKcq9AJWZdQHhOB0Fk7aJAGs6FQDIwqUCZNIdAHZYHQX+V+EAdXnRASOg7QP/XS0DB8tM+wGg8P1iQKkA9h8BAukaQP2icwUB6FnNAbLOTQDJ/YEChrhBBVzzPQKuvDkGi22xAC4D9QDXyLUACfUBA//52QK5nlkBFobtAPD3lQOAm3EDvCptAIaHaQJVz30BC/f5AZjYGQIJ6yj8OwZ5AYRYGQLPu9T+R4Y5A5qhzQBWQ9EB5OctAQMoKQMAsmUBPUfBAVC/rQG4VVEBix7pAzQB0QCQ1ikAxvhJAMa4gQNJ5LED6JiY/hNRvQA/evz/urC9AInLwQK1h30BpDc5AqtGZQA/i2kCOsqhAjy7XP3XZsUBDTY9A4ZUEQTysrEAviPZAXq1RQGjkn0BZ9wdBnw8SQDUgmD/3yutALeCNQL7KBUG0TfpAeT7+QMjCa0AK0Ls/4yd8QOlSmED++PA/OEsEQem9j0Dx7KVA9NG7QCGq8ECyf/xAWzw8QDyfKD8DHBs/2nPaQPLCekCFaLg/V8FaQDZTBEBbHBc/C9ExQKrSukCYh8dAPbwuQNcd3UAjy+RApeaRQPQbzEDatEM/H+pYQN7kykApsHxA3tmmQNrV2kAJmOpADeI/QHm6A0FuH/VAaTpJQA9uBEEtoLhAoD7pP+VcjkDQXTRA+400QG0IvUBX8ZZAltNSQCCgcEBdgglBGraEQL0FCECWCE5A6uVeQOkcdEDHveNAF+LnQNOdV0AHRsZANIU6QF62ZEAguQpBdrMnQBOKx0Ae9ZlAS4kMQawcfkAgM9lAVfrCQITDQj/2MlNAMcI5QLWnUUA6AOhAqLIuP9xl3UDtTNpAGUROQHKgMT9KXtpACkNoQGobxkCcY95AiF/7QN1ilkB+EwJBEDc8QKfowEC+MTJAMwDqQK0N9ECdRTdAOHbJP+fLv0D2SY4/4l3AQFMZVkCZXGlA94eAQFa3RT9O5cRAhF70QBOKOEACRatABg7BQOG/CkH/rilAFtBPQE48HUBdxkJASVA7QH4Xr0CirNc/KWf7QJakM0D/UIY///9PQKvYAUE187FAXzVwQIPNhUC71QJBmON8P/gc+kBmcJhAybZaP0nD8EDI+4hAAuZBQKUPPkAtxvFAiIC3PxpIjkBj+MpAzSoyQKAKBEAC3ENApXcoQPxthEDyZwpBM7Z+QIuz/UDHNtVAJtWBQOLDqkC5ycFAKcQJQT+LNT+2ktdA1ne5QBTdAUFGFshAsCCsP9whl0AzGlBAR9XqQD9G1T8rkGVAvbwCQSm9PT825DZApvT2QOcx50AmDJ9AEKM4QO5GmUCrYItAyD2DQHDS8z9u8qZAQMA7PzbmR0A6YgJA2YcQQYEZAUG7hCZAeIwTQJox3EBUaSJAEpTyQB4ImUCVaeo/T63ZQOkdhEC5oxk/Z6SSQC/ztkB6Rd1ADCrjQEBH8T/fCHZA8H5OQBWwykCwlFhAWuKPQI/fhj9F31dAF0sqQJ6qw0B/ga8/QmzbQAZSDkCf9dVADFcJQXKsFEB3YNFAb42gQE7d7T4G6EJApyJIQEIqMUAe3dhAQAdPQL8sl0BJWaFAnyh0QIAvs0DoOt1ACIIJQb/ehkBxtgpBMvh7QEArS0BALKJAreIJQTIKREAUPJRAUUTPQHxREUHqz0dAOx5JQBT8sUBw2AxAkDCfQMXQn0CWySVAkuhfQFh2yUCYUbpAz0UKQQm7tD/I8cU/pxSMQOJ9e0AJYwRBCE/5P1cNDkEsIIBAYhvwP2CMsUDZYNRApBlvQH7takBkZ5lAULgsQDlw+UArje5ARSZ3QKViAkDfQ1ZAer85QFDvbD/frMxAROdjQD2Rx0D1XRU/sK8KQRhkJEB/pEdAjYvtP55dgEAffIhAFnbBQMtXWkCRTKRAD16VQNZqhEDDyGlADoOaQEIIID+HGh5AzB+/QFaVlUBzrChA/G6VQDNQBkEIXrRAgY0FQNiWN0BshQ5B1puQQFbxZT+r2kNA9cYHQZcUVj9hqRVAJUF9QL+uj0ALcaJA+n4JQYFM6kDEqslAyX+mQH/h/kDn4EZA4v6oQFK/nUBx9yk/ofWqQHz+lkALuwtB48aSQNNjJEC1kUlAWmt3QNp7/T9Z+a1AhkT0QGVUKEDlD1Q/khQGQYVmJEAUGhxAP/nEQJFS2T/Qbfw/tW5EQIGCDkFhWmhAK58AQbHW50D2MQNBBOTlQLdJ/EDE+ytAPtvVPydti0BJ7mVA0mYmQBA/wUBr2XxA9fCyQLmO90AxcoVAEwsEQe4Zi0At659AdwQvQBcYv0Amav0+/1bgPyTPvj8cw9lABuxuQLdyb0CGcIpAocu5P8nzuT/c7q9ARYHdP8OxsD+qm+9AuZyeQGF0JUCz7ORAVpw+QE4pTUDFDQhBvqThPrqS5EDorcVAW6G1QMyMskB6bddAtImYQMdJ8kCX2kBAtdDoP97WR0DC7vZAWS2cQNlqrUBTENpAQIfVQNIZOkCe+gNBmppVQCC3sEBUphhAximmP5LlskDJYR1AqBibP3+7CkCdtgZAYM/lQKCH50DeKsVARrSdQNHPd0C56QJAQapxP/x77ECNidY+MJ0tQIeZoUDViE9ApU6pQJul6UDj/oM/v+6dQAVwsUB14L0/drK2QIcps0CUuCE/yrOAQK02GkAvCe1Azm3fQA7DAkEP/+1ArEqcQCXBbUDJddBA0iHHQFYNrEAIVDs/KuM2QPIG60BH8lFASPRlQMXfYEDRfUBAdrmUQA7mNEBymZ1AMxyoQCe3DUEPmINA6vJ+QM61wEBn4Y1AOOVeQDkRaT9uIQ5ARrVVQJ/bqEDpIJZA//XUQGz3wUCx5KtAmmrqQEDmyUBrk0RA0LiTQH8pqj+O56ZAtENTQJ0J9kAQ7pZADFepQHgkg0D8untA77GrQK7dzD9639dAdgZMQBPxRUDZScBAiguBQNhYAECkW+tAULfaQOQBPEAIkg5BpyeEQLfuDEC2a6pAE+hSQD1YYkAXYP1AUIhUQDu+kkCBr8FA309CQBkTi0DEh69AF74UQEcOyEBdoMVAr23xP+d3BkEOi4NAhZ/OPzXLCkHko1pAAIX3QGHk7UBoGNVAjAGeQMcga0D/MJhAREVZQC0VQkD+e4FAOGhCQMjSZkCamIhAKVbiQCCh+UBffPxAqeBKQBAhfUCyiU9AJp09QPH8rECrQp5A29WSQNVd0kCpGRBBotcFQcJ5qEBL/gdA/P2oQB1yb0D/M3JAeH5OQMTyN0Ar/ClAXcVbQOZdG0DtnOs/OWttQFBLLkCvUalANcUDQOi61z9cQoBA4nHZQLwf8EC+R49ATzlSQGybfUAByW1APaWlP6vkJUCma49ALh2BQGRdSUCvmF9AcCnCQKUIukAbuJBA59eOQIvKzz8iLqRA8cpDQOunhECWa01AICPoQCLUCEBFSmdAyTE/QGnfLEA+p4NA5F0HQTtUIUDBGmtAzMgGQUW7okC1LkJA2vrIQJcn1kBWxVlAzWyLQDqv0UDTGp5Al8U3QAvAgUC2y0JABU2GQAxaf0BaoOFA3ax3Pxdl4kDEMcpA/SIJQU8hxkCslB4/p7SGQMmbW0BNj/FAYJsSQJvhBkFTp1JAMzYOP/l86EDAgGlAe+sFQXlDaEBcux9AqYyfQEM9G0AccWtAbcnzQAbb3j8mUa0/DyhrQOBnBEERgdFARGl0QFecBUHkXm5AGdKTQGhAykBdsEVA6G8KQY/sA0EUo4dA4fquP8zVrT+IM/RAVC1zQASYV0DVsIZAT/RPQKFcg0CjLYZApy++QD/DUj/Sw19AvBe4P45DL0Ch/ehAyh+rQM36bUC3qANBodnCQEjAP0BEZwRBiIfmQCFIHUAaTINAIVmTQJrS70C599dAVjXNQERxRUDprgVBJY9MQGqHUUDQeO1ACP6aPx3Ehz9qf6o/LUDWQAVP3EAYOIRAjOXyQCgjuD+byvRAYA1kQPyGMkCPPM4/y1PLQJNwCEGDUVdAbh0EQUMNbUBoblxA1GnXQIdWfkD4UYdAc22RQDtJVkCbuAFAsOfFQCxniECBoIRA+20IP/8cCkBuV1VAo/tvQHEOpkD2MDtAG7mLP6X2bkDQw+9ADWiKQCnv3kB8rClAnPsDQY/RekD7QlVAIJaVP07klUA/6HNAb5+HPxGKSUDBat8+ih7qQASjq0AA5DFAIfH5QO9V9kCiiopAKMJYP3EKkEB/DodAix+7P0ABOUDO/WJA9dNWQNXts0C6o4xAAR8iQNgykEDNL8ZAYTpDQHOmxkBYpbY/4LhCQC+UGEA+/QZB6sDYQNlv9EDFeDxAP12OQGLwAEEibi9AVCXkQLvxlj/s6a1A5nJcQEzrMUC9JFxAfVPMQGZDoEAlPGw/ufs5QB6Cbz/DtS0/+vf0QBJBiECRCKRA/pGQQPTaxEBzwjtAo/+jQMISgkDW4xg/875hQOAEw0CKkqhAbU8cQPhUAEDUca5AhAqWQM2qlkCHmQJBOScHQR4LV0D2yQZBk5RVQA+NSUA7G65ABAZoQIGkPkAS5G1AOlA3QFXyqkAAM+9AYfKNQKXO3kB2o7RAtgPBPxSzPEAYk3FAv9CYQLpYLUAuCjFAOEoMP919VkBn4YNApw7AQJPlCEHdhKhA+6X8QL31M0B791ZA/XYuQGJjYEDVAVVAsnefP1WxlEB0v8lAdEDqQNtEFkCxKgZB5O8FQfoMdkCf1HJANso7QP4N3z9TEZBAYnRBQJlZB0A55YlAUDCTQFmWsUCMhbRAqQ5mQEKFAkHtNjpAZu6AQEIqVED/29hAkBOVQL9wukA4SOFAYxaTQA8BnkB9K7E/KYDrQIPaL0B/k4RAk+5wPyqBskBNOGs/ZH02QCCABkFTXe5AdM2wQLlwxkDsDAhBgJhdQNfySkCEDc9AhYQ5QDypvkCpKF9A4xlCP0ukAEChpIBAxIpNQJXhI0Bf5QZBKo/qQFSZqED99idANRn7QPKmZ0A51ylA+yCIQOwlnkB/qGBAbVcBQer5HEDU1oJATVjsQLY+6EBHUjdAXTz8QDasiUAxO4JAY8EwQJ2C3ECj2dFAG2IGQNOadEBP0r1AwdPaQFRsmEDuAqxA8T2lQAzJn0DeqStA21CEQNLP1EAiE2VAOPbFQLxJwECYJ+5Aa0FbQIXCx0DENrI/7+QmQDvnRUDOM9hAIpBMQLtNK0AileVAvth7QK7tIEBOlug/0pfWQEwkvUB+aEZAtGO6QC388T8lJgdB5B/LQKWfI0BDOAZBOURPQA7R2UBHTwRBnmxSQMdlVkBPBqBAsZdTPzS0Uj9Q5EVAt9CLQP0dbEB5NZJAV8b7QDP2j0CFKDM/lSe5QElxR0DWze5ALtnqQJk6qEAO5dlA7/skQEcqCEEbLwZAXLZeQCicOkCoUO0/MPh5QBVvzz94VcNAbeNnQAO4CEBoWf1ACakDQVPgjEAHmbhAiwXQP/8T90AhloVAGMZVQAly00CDIZpAllYMQXG500AKqIA/MXR7QESBSUBlxHJAjy8IQQEcCUEJPyNAOT6BQH9zR0C1S+9AI3ZuP67V7EDecs9Ak0pmQCyjBEGgZcxANPfCQFj6WEA26pJAc7g/QK9qxD9MeFVA3UF2PzaAIEDT46pAQl4mQJHPtUD3RjJABOP7QBvtTEC4+1FANDe/QDl4nj+GEx5ATl+1P4i5lT9F3SlA8gOSQF3tHkCBxLNA2mEFQU9+kEDjrlJADnP4QKapKUAla5ZAw2dEQAkqRUAfh2tATyzPQL0FSUAnhZFAk5a5QB++bUCjp5ZAg0a/P7ReAUGxhIhAoivxQHNZmUDb7rBAiVAwQHNrokAKFMVACo7RQHjKgkBwCbtAA3YJQVAn0kAnQG8/+1XNQDhtv0Dz9jdA/oPHPyz6rECr1U5AUHZbQLGaK0AZZgdBsa1wQEiuLUC1zIxAKJusQLHnXkCiZKpAuls3QE+L6UAwHwpBUhoLQNutbEAf1YBAuoGdQHC/ZD9+TQdBck/tQBoAvEDQjDlAZDz3QGjXAUFwNIlAC3NNQKC3uj+zz3lAJL6oQBQfdEAKg9hAwTqIQKhBK0A94bBACTx4QHMtS0CVC/5Aze/8QCSTQECyTWk/TNZeP1VYnkBiYENAa3tJQOrTBUHe1o5Azcd+P4gH+UB6CVVAa8QrP6qEykBHjrhAD2evQCNkBkH0u1tAlKMoQJFjKEDRNXxAq1mXQLFt7kAHGLdAE5CdQI4O3kDoQHxAlQOMQChAkkDnEhNAOyyDQFMXAUHV6aNABswJQfr2zED9ULFAbYaCQKWvCz/nJNFABga/QN5o2kCjMsRAyynnQCuUpkCha1JAfCvqQFKSvkCQKTlAeOVQQADI8kD8Oa9AxwzlQAmCfUACw4hAt40lQDpcQUDSoedA1oJGQIzyXT9opdk/U06kQMvpiEDCQoBAidbdQPhwaEBKFwdBRwwqQPWjoEB5sGlAZ5pmQAZwx0BrL4FASazqQCZ6N0D0DpxATSvDQNJaW0AJ3p9AT22pQFlF7UBjZNFARnTKQIbXPkBarlVAPiebQE1HeUBJ5FdAZ9UIQe8Et0ACBmNA+FzhQFntZkCnvTpAjpmxQHEyckCbq5dArB7/QKq5BUFDTb1AByLQP6u/hUDj1rJApY3yQPn4LUAt9pw/M0PEPxDCbUATyN9AzItsQNbIRUCP0EJAR+cIQT4oqkCX1iNA3HKfQEIOwUCDU3hAXO3UQGwmHkCMvOVA8/sEP1I1UkD5dLlAeFRsQHgSPkC7c9I/qusXQBRTMkAzCQBB5xZhQFye/kBhi5xAtgKAQARN5j7Zytw/Z6qZQMdw20B/eoFA+REgQEdOykAP3eBAPew1QOqlrz8jaaY/dngOQZINdz/qkodAKk8TQHJHnUCRjJ5A4AFBQIoK6kBM0cdA7hCLQGvMBUEGKS5ALGFMQPOgKkAhit9ACnEyQHp5oUDwvc1ATMMEQS7pgUAg7uhA0vzEQMRvukA7U5s/YxEvQD+67D95UA9B4LAhQKUDqj/PU8tA2RZeQCrZHD92VOZA8XksQKGqIz+u0k1AJdcKP5NXpECcWj5AhxaOQAOrkEDvA3xAjDL8QJVfq0CHFclA1uF5QJU3cEBykCxAmYajQPRGLECQmcRArN36QOzdXUDelbdA00CAPy9jgEDPRs9A/X6dQNfMC0BSTi9AAAvNQGyPXkBH0qZAz+DuQKzrB0GE5E5AoLN9P474SEAJcvZAEoxIQBvdSUBf4yNAqqffQI9fLUCchadAi8wEQWK++kBurhVA4cfaQBDnCUEQQ/pAsineQKwRlUBbGZ1A7TqeQLwXhEBbwpVAdThzQOCTPEBcKbo/NMeAQP5y4UD4ctlAlTCyQDM2DUAICXNA+BVZQHAWi0CnLSxANxe3P8MYzEDGQYJAMUNKQAqK0kCzuJg/jLf6QMu2uUBTPIFAfcWvP780CkGCnYs/9zpYQJU+OUCPO/RAKPr/QFLGCkHJjCVA764FQOPQMkBCyjJADmcPQQsO9UAxFJFAGs86QBr0rD/8OmxABhBvQBlc60AGQe9AvLS+QLxEmEAjkGhA4mE2QD/NaEBPC45ARdlOQMh/xUB0ACxAH11OQA76+kAnq69A9qAiQCRHBz8Jrn9ATaYcQILN/UCvmAxBpwClQPxms0Ct5ONAG86XQO041EB8eQpB7b+6QIjF4UBLXt5Aw0DSP5hHDEFC89VAeRD8QBA2qz8qCoVAhebkQGaibj9adFpAc+hxQB8uZUBXNx1A2jcsQHpiu0BCj+FATVoDQEZ4g0CsiaRAxZWNQKj650BtLiJAzh23QFsDij+fJ/BAU6iYP0USB0EKKppALAl9QHBF/kCwuDVAX2B4QOKnMEDckrxA2xmjQF9ZjECSzUVAmG0WQP9S60DmgIVAnnw4QF2tn0C8E9hAL+IsQJF77EC8ntdAlACYQD6/hkANTgJBVW7lQNrXQUADEgJBJIb/QP/p0EA9IG1ACKaUQLUT6EBZfjFAlKPHQJDlC0FL4uJAJlKBQBoh2EBEs7BA4SPiQMEogUCXDoxAyiP/QAYE6EABGa5A4qvlQOwINEDt+qpAAABjQLhhR0BghaFA+pMbQEuqzUBso74/frbmQFdLU0CwswFAf+PIQBGD1UCMxgFBX0DTQHHBn0BugclAqWSdQJWgRkAcWcc/1XdzQNWtgEBU8GtAni4SP7aXLED/b2VANzgWQBrkAUEKDwFAhMOSQEyR6ECcBqpABRigQPu39UCjwkpANVC4QOc+yUDFy55AaZ5DP9G73j9YrvJAi5CXQCF8okBJeoo/XkLTPqIShUD3c6JAZvpbQNEWk0Cl1pZAqztmP8KAekCl9VBANs32QLb//EAyvHlAUKoGQT7QwkCiMpY/xQJpQNR6x0CJg2M/edAKQfkkZUArDOxAiahSQD4GgUDjFmpANUzkQMYYwkCyRQVB3FuqP3mvwkCRlXdAnAVsP23//UByILNAqMM3QP9P8j/qr0FASCtvPyOlJ0D6OABBSzP5QECAbj/x40tADj/nQJa9bUB5GDI/pKicQDFfQ0AxW8pA2x3mQIaZokDKMnNA/230P+yihEBapP1AT19OQF1ZbUATtLFA7nF9QJUfBkHBC45AiFCEQFhb/EBNiG9ABopnQG67i0BSN8lAMqk3QBh97kAfLyNA0EiyQLc3JD/UfUxAEN/gQK9OR0Do7upA7OE5QCHFR0CKZPJAy0r9QF7h0D/mt9RA3pe7PzNZ10Akym1AkuzpQGYiPEC7zMZAtcudP4qaK0B9tVxA1L5jQNjTCz/kzMc/4rR7QFJszkBktUhAbiDMQEzcC0GoVQBAnVSJQJ18Q0AOt4NAxvbKQHPUQ0CdBLw/XafDQLKfRUBw4kRAw6SiP3z64j/WsRJA5PnJQKsVzEA72ABBzfzNQO3pxECXN25AIA2BQOVkhEDQ2qBAmU/iQHJxjkC58bBAML8WQMoyw0DDifE/bHpRQEzJ7UCBW40/KJ6XQICjdkBxR5pAE+gvQH8zvD97ihVACkN9QN8dmEDD+RhAJJ0HQbpFCEHsnBtA1zQsQGny2UB8fT9AbgR0QA9GnEC0r9lA2d6NQEXAgEAQx+U+DTvWQEr+qkCPqsJAWsTIQPRdIEBDZOVAmjgpQKUfm0CWgfg/CrNRQGGOhUCdgXhAx1kCQXkAjEDu6p9AnuCYP8E6e0ABb4BA7s+5QKOoEEF1nnRA5YHZQATztkD2gYE/ygGDQJJYOEAsnYdAY53KQFBcwkB9lQRBrpyOP9yHEEG4ejpAtme/QHZWwEA7e8xAXjdOQE0q6ED/TCNAofEoQFP9KUAnnfg/FivdQMdRIEBXuzg/niuDQDkew0BHzWxANHWIQGhTO0AywYpAtFwEQEwHlEBWRoNAwcv2QHKPWUCOTnJARmKPQEXX4z+7OGpAvz4zQFym90C8lIlA6pGBQCFNrUAOJB5AcEDmQAK0ikC6xodAfF6wQAO0iz8be8lAi64cQDIGk0BgePBALD/vQN0ABEEZNWxAEAptQDg5AEFOy5pAXnMkQB1CAEG0qvJA/a/MQPl2o0BMAt9ANBPzQBnFL0DuvgtAIwd1QKZLAT8VbatAmZuzQH78uD/NQcZAFmI+PzP6TED+ayZATNstQJTUlkDVcH5At4xSQO42vEAYSIBAaTXRQKv7UUDKnCxAaPN2QCCqJ0D2rehAGTOkQN7i60DBOs9Aq12tQLShAkCtuzBAsVvQQH5mcECZLVlAL8NoQIhub0AenAFBfxWBQLItLT9dNNZAMDSMQExKAEEBcFBA8SoJQXrV7kCcD0ZAY8f8QC4LQ0AFp2lAtnMuQKM9uD93ZYZAefDaQPt2UUCzj6FA5+5hQBBJIUB0ErdAEAcKQRjM2kDAtv1Az16qQCGRuz8ndKpA8IzBQH1HB0EyU0FAQPcuQEQQSkCA1L1AcPDeQNfAkkAJbxpAEZoFQeIyOEA14/xAEZQvQOHoDkBtgCpADNujQNiWZUCemVk/Dhq9PyzyakBgegFARktvQDxiAkG8GAhB8MoIQczihEAtKYFA4lHxP6hCkUDOw+pAeAx8QMkZgECj0qtA5ZKbQESaM0ByFQZB3XapQC+s3z/Zv1xAKHhEQEksCkGbitA/8OpQQPNcfkBZt8ZA66ObQKEeo0BmWC1AWkDXQAlL50AWw4hAv9TSQLMug0DTY2k/B6rMQKN30kAGgC1AvXhDQF7ylkA2lalAVf2yQFnDXEB2DhVAdUHCP6f+B0Fm8ypAx16UQK1c+EBXxC1AxSSeQPOwA0GNUSw/lN0IQSHJlECkzqJA5VJQQH8jIkDEOxBBQ3lFP4+Jp0CcBu9AwLV1QA9pR0CnppI/Zu3ZQILNdkBRRmxA1ca4QM0JokAypUNAx3T4QOkLTkC9atZAWWxgQFJtDkGDgiJAqdbVP6Iu3z97hO1AFYqUQPpgeEBZ+XJA7UkkQDdXZECl2H4/BlzWP48MFj/CLeU/O4Q2QD1JBECb7JJAPDISQR8F5UDFmPlA7QWnQBMqrEBDK64/ZbA6QOPB2UB2ftlAQyyNQPog/0Bd3LBA1ZGqQP2P3z+nts5A8IQQQZj/h0Ah7Jw//WGLQPKwtD8MwDhAUCyAQLJXykCYQk9A/+TYQEz3yUCfVSxAPSx3QOoAW0BLoOBAzVOGQFAEMUBmMtI/6bA6QAZWUEDevCE/k4REQOvbo0DK40xABaxuP7/n2UC7O5A/413cQMjPrUCY5ihA6hNRQAUcDkC1LfBAc22pQBNR7UBwf/FAZuaJQER3BkH2xCU/ygoRQCkJA0GZbDs/7T5ZQPOiXEAKo54/Wsk+P3SNAUEa+T5AwCTBQFPjyEAffnlAHJaYQAcsZEA89jxAIn9uQAIGP0CcUe9A8KxpQN05qUAMW65ASj5bQE92hkBD/TRATWiUQB+l8UBTrfZABP9yQP8VwEBW8VdAralTQKXRCkEPss5AopDmQNxJREDvNJxAYgmlQNftxEDjEug/VGXPP/6x6kABdatAZxEfQBzsGkC2fS4/437OQNo/oUCT+h5AGSVvQFNVi0D5DjlABPI2QLhNV0B58c9AA/FUQIJDckAhG6VAFwLzP/R24z52WFc/3leYQBlyjEBh+ns/R83XQF5C5EAkxkM/cnN0P5a1vkBUZ41Av4GFQANsNUC/9WtABdocQIWhOUCaxshAJCqoQAxk+UDNkqdAiPeZQJHhekA3zyRAuWVkQBfg0ECr0RNAzwqOQMj0OkD0i5ZAQUlkQE/sHkAQCaU/zcsAQS5a5UBunahApRHBP0FUL0CgK1FAcZ05QKlniUC8IgRBCirQP6AWrkBMybxApY8sQDkdlUAhMoxAiMqxQNix3EBVwtBAyxSPQM2rUECMn5ZAvR0KQJQhzT/g11pANmXkQI7sP0BOLMtA9/qYQEIFVkBg6+I/oJYGQQbpF0BjENRAzNqNQOtvMz+M6HhAAA6bQIE050A4+kBAp5yeQLSX1EDyyv5AlMqzQPy7SUCyzoJAE1UGQck1iT8DPqRABSqkQNXVNkCmzgtB9H/+QBu14kDTCg1BgO6sQJUcdUC7uppADedLQLIaA0GR9ZE/tpsOQZWL8kAVRek/is1VQMpuhEBUDdM/ev9xQIL4WkBAN9VA/CgwQBZAk0BQO9hATOTWQPyh0kAguVNAa62LQNEiJED46l5A7NDyP8O8kkCG2DxAVcXtP5gMEEAteck/HpWGP5QcVkC6E2tA0bF0QO/IjUBrY59AnPM7QEka90BwnztAwpB4QBvUIkChQIFA7ri7QGeghEClpNU/RNLfQMWILkDpCv1A14KeQBKWBUCqo/lAdkQSQON+8D5OgoJAdVn6QCeSeUCm325A+bu5PwwUCUB/8eE/CM/xQFAtu0DwgvdAtQt+QPITvEAxwtFAD4M7P5tllkDJvgFBHe36PzquGz8xpFBAD3NkQGn7skBEjANBMPpnQOHC30DOBotACa6MQBG5pUDTbdhA6qBRQF/vF0BnqsBAb7QMQVT+D0GHUQNA7GVAQODHskCLGkxAWaMEQGKJDEFlD8pAOziiQFqfjD/w+Ts/g6MhQEKYykAloA1BPNIhQBUqTECM+Z1AdU2MQGgiDUAQbONAPJUGQWlDeT9FILE/8wPDQKMU2EAX44I/k/6kQDrrz0Bzyb8/EyrfQN0SCUF0rkhAWduHQIXWtEC9Z/RAdcC/QEobEj9nnW9AzqCrQB8cUkACWIhAxkIPQRTou0DcRJg/UGFUQP9svUCG4ptALS5uQD65yECBbs9AEhHwQCECokBkmutA7fTyQO3dSUAmoI5AOEQNPztLukCNA4dA2THrPywRjEALmetAC3XeQLnYeUCPi6BAt/+VQGOd80DJhQhBLJ7CQHb44kB+jDNAnnBAPzNoJUA6704/KJngQG/ckUC62IM/iJvLQDMEY0CAgtc/qTVlQLtyXUDgunNAX6HgQCzZAEEQ4tI/W7WGQKUu8EDlBg1A8v3pQAISrkAIHAlB5fX+QOckKUBWki9ASpSUQAkX50C/a4xA8KCZQJlbnUA0xLFA5KUwQHowxkDSteVAUsCMQBTlIkClmlVAY36pQKBrlEAPNS1AxhELQTKhmUBAI25AJfO/P4eqLj/SKpw/C0RmQBKaJkCaz6ZAeeHtQCZ2/0ChPdNAa/BsQHlLu0BAkaw/UA2/QLW1BEFhGRdAh19qQNOyU0D8/WhAaGOgQK9XVUCHCYNAGZjlQKWcTUB0PKpAdnYGQTxCkUAB9U5AxcIpQJFjvkDtVLBAER08QD5C70AEE7NAI4I6QDvA0T+9N/VALEIlQP7I50B97ONAcBHFQDDpEUCCuKJAQ+jNQEIo70BeUclAElzlQIv/Rz8se99AkmYvQHFxK0Dmgw5B69N1QJANcEBHHCI/Ic6cQNC3S0B4ZkVAGs3JQHlT7kA3Ab0/xBQAQT7zoEDuk5VAaTa1QJpLjkBjeBxAK4lMQATc20BvYH1A42HGQO1EF0CVmstAvMN5QLo2NUArCjw/WTKOQMbSN0AC/d5ATUWNQMKGxj9i56E/kf3nQNTUoED56S5AkVKhQI1fBkFnuHhA36iUQNipqD81WjtAsjI/QFBaxUAAyNU/U6o7QKwnUkD1W6pAC0H3QPh/CkFf1aNAnIfDQFy5cUBUjHhAsKG6QNuUD0Eds/1AAHEUQEWMeEB/6cNAWQgHQa415kA6ra1AVYHaQL058kAFH5VAW1NWQIxZSkDT/gNBiTLvQAAC1EDzzaxAZxAWP/pKt0D6XI5A9PaeQJgPWUAlajBAvS+dQKG1AEGVbR1AyIxXQAeZCEHmTIdAn43vQAlxCEAAM+xAY/QJQVoCakDkLrpAMiUFQfaCdUDbnPg//JgDQUbhpj9gKYI/u0b5QEiNZ0BYRAdBnh2iQF0KqkAPqIdAmHsKPz2ViEA1B4BAeSIvQDPFVkAzw75AA1qCQAM8/z4zfbRA33/JQPMHzEAyM4xAHpgCQZ9cC0HSa+k++Y95QI/YXEAVLNdAWPfrQOv8bUAhT8g/j7yKQNLoy0BG1GhAQcKLQCDCqECP4dNAl/RWQPHI6D+slcBAG+0RQeCsKUA01JtAfNZEQB0K/UAYQx5AvKugP+bS20AT0upAQ3S+QDgYHEDJvABBJn/mQAeaU0CYtRxA9XUKQdiJe0DqGkc/z6mUQBzQkEBQYXFAdviyQC8nTkDGlCJAbeXuQMLQDUH6MO9AbrNCQBlzjEDREpRAK/GiQAEQzUBf0K0/Yf5sQGsfO0BlEcNAWnFLQIlSwkBlPo1ARpk9QEFaGkDch6tAU8oMQCyxvkBIl8VAQJLCQDCEXUDA/kBADga5QMkcMz/0+KFAvISBQEsQ2T9NzdA/mgnLQNdUdkDGxaRAFbr5QL8N70Ch+D1AtXxjQK/72z/0gjtA/AMAQbMx1UAaMmRAa7OsQIZeVUABxm1AUv0uQAtPjED7yvJAFa1PQOZk/T+6XrZAvebRQAMiykAYfphAtg7dQBs6yT8ddKRAE9JiQI4vgUDS/8BAzaatQPEaLECsZdFAEb6mQIH4xECAig5BW14PQZZtr0ApnEZAeQDpQI7C0UBRvFVApQCDPzdqpkAW5QFBktc7QPKblEBgnExAgFmhQArdB0HyPMJAwKecQHg7yEB6LSBAumGMQIVWLkBGZ7dA9k8uQBrVij/Tb4JAzFbgQNsQ0EA/SwZBQ9v0QCReoECdkLdAwXNIPycIrEDpVqdA0d31P81cjEBMdfxAIsVNQPRv5D8oNCtAOANOQAMYiUDkTvc/3Yj4QPCNdEBESv5Avs1RQKvMckCSG5tAku7AQMCHbUAjQ1pA/9VDQEcREEHLo6NAedXTP9XeykDvGZ1A3hi6QIMHOUBJisdAQOnvQA+jB0G47DBAHhOuQFQKcUDW9+dAC/MMQAcAfkBb3P5A+bobQHgZWz8mO/g/4CryQEgxhEBi4T9A0bt9QJ+XJUA1oidAB61JQBhyq0Ak4QtBtwpzQKXmaUD8O+VAUQOvQPNo00BrfAhBVNhjQN8s5D/wl2BAZIYCQTbKtj/jihJAjGWuQK8AlEDZNKNA+p/2QMJwQUBCdgJBosrvP9i040BUSolAW48dP2GjAUFSawdBEnLGQNoz20A/7uhAmRPTQFZfC0AKV9FASTv4P+HjwUAgMwRAcSuFQPb31kDbXOFA+gw1QFZ/RkC+hFhAf6sAQU41oUCspjJAiyLGQM1BqkAHOe5Avy4aQFkupED55/lAZByYQHpTLD8GG19Ak4QKQafoVEA1UFZACkAHQfd69EBYKQtBdpJHPwYqAEBQbCY/BtbXPweiGEDGGVVAk4sLQMi2qUAyTQJBzNEHQZVVJkAwmKRAX0GvQDqQkUCsJ9dAwx0wQJKlDUAWFChAlm0pQMKNC0D6OgpB9pKqQOsbo0BRoPFAcn+FQPyXVUDmCPVAfmutQEZD9j99ic5AyVzsQGUdKkCE+5hA3KunP4bjxkBCtelA2GblPwlhDUDgPg9A98C4P2Hc+EB3XTlASHXpQKn8lUAjx0VAoXoHQb18xkAv41lAmdKTQHpU1D+yEm0/G7RIQHPsekD9dS1ApaKBQILjqEDZmddAg9svQLWq10D3aMRAKFiRQNo67EA3Z6hAVvqSQEHVbz/AxUJAyWz2QL8HUkBacNY/1TjlQI5h6ECzgtRAMew4QA3WgECwqLxAXu3yQEMIUEDZeWZAvMNmQDHvsj++tk5AIEtYQPZ8hkB/HsFA7ZmuQGNJ0kB8cFFAYU+TQDOg1UBSHEVATsbWQEW5okBC6PtAL6bhQBz5wD/aNrtAHIdCQHENQEAdB+tAYPWuPyPyYT9Q7tU/Jg92QEm/lkCInyhAJ/JCQLCpkj/ihGE/ErEiQJ+dp0B2byk/38CiQJk1MUAcUedAj2eXQICy+UDGinVA27C5P5fR1j9o5ZdAQ7VLP3HU80ByWaVAJZDxQEdhVEAHCSFATH9FQAE+7UC81M9A/xtIQMKgqkAnLcBApHkhQEzxn0D+KVdAegiWP8wZj0CkGzpAgKY4QONNBkHEWKdAtfjeQFe8VEBcq4tA7omVQNsMBEGnCI5AI1qjQB+yrEBbo41AzVR0QNzqaEDxs9ZAS4yFQHXwWkBI7tI/pC30QIOT5EDHZ7RAG8hvQM9DKj99O75ABx1XQBeq5UBATmxANoWTQLHg/kDq1sNAo1K9QGHqoT84YY9AduznQA32GkA61YZAauEuPzMrk0D3zm9A5MBwQJyaoUDaWApBfMziQMhAC0HilTxAGMI/QM9pgUA0m69AtWLDQJHodUB/TjVAfmUcQLebSD8JBXRAZel8QBhFnECxj6FADqvrQPDboEDZd2JA4qdHQHCuwUCuceVAyTgjQAPkCEGeYlhADy34QKXMfkBI7eA/LBSSQBmDgUAca31AxvxNQNNNTz/vemRAImexQK9KWECZi3RAbRNYQI3m4UCzhsNA7p3GP5ejU0CdSpZA1QuTQLrrXkAsGr9AHRvRQCUVsEChq2BA0QabQLuU8UBqfrxAWEPFP21Bg0BEq4tAdJzsQLyv+UAWkHRAzY4FQOKUxD+mOyZAje80QN3i3kBcDNRA0ioBQe0KC0GIkQtBQw2CQPMi6z/chVlAvZUJQffL+z/xb2RAMc0WQMCbZUDPO4ZAoiMjQC9zCUEs6K5AgORCQDJa80CgWBJBdh/BQF1A0kChF/RAk+99P+OSG0Ahg5pAI/6TQFjwlEAU2wJBRmhkQFDm/0BchctAWG5BQF2F6T8QZPRAsaGlP+v6z0AKendAfvinQAkJpUCMzbo/3KMHQWHdcD8zuxxAqRA6QOlYAUEGm7ZAPsINQHBmbkC+6FM/egeMQLdJV0ASU9c/OIGUQOhDy0CFp6dAabzVP9tQgEAL6YZAPCOjQLUK2kAqISdAViNsQN08VUB7hCY/L2LlQFkp4kBA/zxA6y2FQOuLX0BdA6BA2KDvQKw8Nj8xg9VABTvbP8SVUkD+RGBAE6SMQIedHUDar0VApJzSP3Ghl0CgrAtA9TbNQA1zm0CPkrhATm3hQAAV5j5RjA1BneOdP5n+CEG8B3RADt7nQH0sz0BxIAlByVTKQOP9IkDrdc9AP6lEQKxQMUADYQxBzsPnQJZDD0CFYeM+3EZHQMqNmkBiSbVAbwK+QE7KpUDdzNFAWrEEQZu7xUDY1Zw/Yn39QBuahEDR9jBArIdIQIEU60C0ntRAW+SlP6Z50kAh47RAiysDQQPjIkC6GqBAZcvRQPYKo0D1noRAML7tQOrB6kAGLlJAr6HTQM8rnEDD1U1AkClgQPm1sUAryDVAjF0LQafHQ0CBntpAxaAgP7XgO0DUVkVA5I2IQHy8ZUBf25Y/DxnCP9dtJkBZv1BAOBHtQIZmHEBakKNA74xYQE3qRkA7jkJA62wgQC268kAMx45ALYRhQJdXTUBh0CBAF708QDJ3rD8PrcRAuwoxQLAkoEB31HJA8eoaQP5YKkD1oE5AF4iZQBZCSED9PqZAGwcoQGQnqUBPuP9ANO1HQLAqeEDclLBACwrsQJ6/vEASUIJA9wITQPnyj0AsP5FAXv5sQHDX/UDrFNw/I7sbP81EikDpvMlATLsyQDa4k0CE9WxACFnQQCgnMECcuIJAHTGtPzbRK0C3jsNAseEIQXzyQz9fzqE/BR2QQJSDB0HxU4lAO5jXQEVmLUCExIdAn/5aQMGQL0C19pNA02GIQL28i0AjrCRAURPHQFRglkBpQvlAzZb4PxLRBUB5Pt4/KzT8QCF+BUFJ3kpAMe7LQAKOdEAEI+o/l2UHQbHacUBGYWtAFrnIQGglOUCLqcZA7fjOQKlUyUBh/rE/iCC2PypBUUCQlnZAbyxFQB7bjkDWfxBBk1x+QL5HKUBB0uRA/Y/UQNrPiUDjdopAJbgMQTVFmEDzj7pAyNn+P5q46EB5RPNATua+QClD/kDBnJQ/OBkHQEjW6EDoQPI/9ESfQIFUtUAc7ZFARFpPQOeVBUEcZAVBfmSMQJoG8D+eRnFAJ/T0QACnr0C+0lxA32LQQOhlxUAuPYJAzc3+QCyVXEBVzvZAZge7QGktjECxEdlAbrWEQDi0IUAW3dtAtP7EQDYM2UBf1KJAVc6RQPmZpj8LSelA4hU7QGFBckCeuddAUFPjQMNKPkC9bUNAiyG4QCLW60DVjyBAD29FQI63JECe2ppAVucDQXzZ1ECVhm4/zxIOP4aBP0CMChBBhEXdQMMF7EAmLXFAg3f/QOss00AMCtdAYTHsQMkq8EDZXm1A4SZDQA3910ClS+pAW+pnQDIIFkDKq6FAVGNvQN69C0EdgCFAHjeuQH2xM0CSRPdAAv2jQBAIdEBVDIpAxlnfQBPGmEA2bKw/FXpCQGFrNEB/sHRALlxxQGR4M0D7eu5AC+epQL5rwz/GGWZAXFBxQMHP90AOHlRAvLlwQMi+V0A1AQJAt2HDQOOkBkHmOphAlFh1QEXps0DKtSY/6DYDQVuY2kDPVfNA3KmmQKHUtUBSooxALvgIQAbtrT+fIsdA0KF0QFHl1z9+kDtAOnD2QEcYekDGLZJA07/MPybZ/ECBWbg/rqwKQVmv00CrkpVAwZsNQQOSgz8qkvJA2DRvQKaEQkAIXMlAv5OaP2kS/UDbowlB/8YKQVtSAkHsGf9ADkh9QCAwQED+mEZAkIyRQHGc/0DCb8BAjp/6QF2+gkDopIBAgDG1QBIVlkAIMoZAlMMIQafuAkCYbt0/wLkmQEjUhkAYZk0/7OFPQMh6xEBYYfVAASPUQPevJz+2UiFAKPSGQJIMtUDct1ZAFP1wQFd9n0B1zolAeBozQEcU3kAc8O5AW83ZQB7WrT+L1CJA6frfQKLpAUBJF05Ag/aNQCVIuEDGgiBARvnlQCNc/0AsPJ9Axp97QAUJjEDVPwVAJb3KQPlTZkCBWzxAQhk1P2/V10AoFFdA7FcFQTqI+kDBagtBUqOqP0bTyEBqTa1AhiH5QHd6gEBBlupAcQ68QNU4hj+GsgpArEtCQJf9K0C35/U/oQs9QAJMJUDNPOZAD3sCQd7EEkD/kX5A9iIiQMr0C0EaRVVArQbTQHImV0CkooZAkIWIQOwrSkCsao5AY7z0QBj1Pz9jvqhA7EWhQBytAEC2gz9A1zzYQPK4j0Cl5UVAgo6GQDFIy0BFjFtAhg3OQLAvgECaO6ZAMf2uQJVDTj/Wsc9Aqer7QFgB/EBRBWhAFVqEQOfN4kDQklVA0PJwQII8f0DHazxAMWsgQMwSNEBO+B5AgFKKQNdpgkBp/9ZAW5lvQCqAzkCJdXVAVD7sQPY/30DPi/pADd81QDToAEB4v/I/2dwhQFvgokATwsRA7szHQHhTNUBntA1B+eQDQV7abECDI85AdFdNQO+pBEHkla5AcDr8P5f7pkDundpAE2zzP65ZwECPdqRAJZXdQCFXq0BHBII/G02yQAs7MkCpd0hAphNXQFv4lkBsgVZAfdPSP0gMLkBGEqI/NRthQHCWAUAY9epAeDDaQBS1KD/CNcNAwmiyQJTevEAPB7tAppbxQDse8UA83Y5AmvWdQBRaGUC1znlAWwh6QMUpgUBREp1A+BE1QJUezT+E7NFAWaTbP+hGtEAaV4pAUd8pQCHvkkC0BwdBIVETQEhlFEA18YNAqCB6QK++fUDqmuFAHmeCQEOM80DSapxAg8q5P0jX3kDXvspAv77QQAhI7UCaWwdBjN50QAbTLEBCNANBRMd0PwydSEBGV/pAwbWhQEaZ1UDoAy9AG3XVP2CbpkDJ5clAqcKMQD9hu0DyKb9AFjAtQIIHxEBDSndAfdmSQJUH5UDhkw5BFKywQEzSxEAKmwpBFdKWQB3rhEBEsp9AwAP4QI44DUCXg2VAENW9PwO9cUAmJ/xACg8aQNzFpECsjNVAJ1xyQFwRS0AzDAVBDSyAQE5w2EA7xQVBn8jxPyDr6EAfPv1A7MqPQIlnQT813vVAX3t5QKW7A0FRknZAFbTsQOH2DkFZBihAEiriQHRChUCGFnY/7AMAQUt5BED32KxA3Q5+QGlWUECixXw/mqfEQD7mhEAWvi5AsA6XQFYZL0BhIZNAuYLVQONCDUCoetdA+CC8QOFz1EBRGghBmLEnQNWfeECSYA9BiTzPQJVG/T9RWJw/Eb9GQEyZlUBAcOk/vPwiQM9GL0BEGQZBg4E5QD9KDkHfpqBAdqoDQflHtT8Jsuw/9t0lQBQoBEEEYaxAfBIEQfjCxkC76T9Aj5BjQN81/0AHN19AHT0pQD64BUGbSQdB+NS3QDvUK0C8/4xA7byKQCAM3kBVaHtAFreeQGXEgkD98aVA44PzQOOYwkBnNKNA0jCeQJCd20B9LuBABxKzQHXrmkD+kLpA+su3QLYb6EAjHVVAPs8GQeDCAkHBLI5AgYOoQEdQYUCp5nlA+mPDQNEb3EAjRK9Awb6sQLmFQEAvJAZBojEOQNRJyUBR5GBAbOG+QC7OEECm95RABK43QNwKx0BXMBlASF8OQVzZN0ChDdRA/2e8QIBNhUCMGY9ATXdIQGqoWz+4t/FAI1FdQJpqn0D11MRA0voCQXFSr0A0BApBnhGtQDwwVkDqfsxAkv9zQF4gQkAM3YZARRpgP35YQEBKK2dAZcOSQIf7VUASgYBA1eG9QBgTAz+xVllAwfGfQKznnED8d9NAqD4SQcRIAEHGnfRAoYYEQLyqQEC3l15AlM3wQDEzlkB2KlpAsovCQA0l0T8TPctApw+bQLB98EA4qaBA83bPP7naykB4NdI/MPZCQGczuEDPQMZAWMyYQOLI7UD8P8pAl5cFQFaVUED8T5RA5CboQLk2AEFuPtlAdjJTQGKpukAEv/w/0xMDQX5Amz/dUbZAycgXQNr6nUD5jJNAaWfsQJehgEDZ0K5AmWz+QC3kvz/bvQNALF3IQJXd4EDm6PtADiJtQIN7jkDoRkRAJQXYQKAak0DhPbY/VpOkQIl+mkAmrPo/58sEQYQ/5UBhTgxA0x71QMBVDECon4xA3+81PxYYPUA+N2M/XSAxQAuaukCKIhtA1v3KP52mfUB5gtFAD2aHQKmVGEAhr2E/EJfgQGp7gkDK8ZdAaIvSQNzrAkEgRKRAmEeWQDR1JkCH0FVATzQRQai3oEB0mbZA04VgQFHIFUAeu/BA6BQHQQDTp0B/5ZI/owUfQFuOSkAjwCVAerGcQErI7j/pdIFAQF2BQKThXUCZ0qJAPK9FQCh9WkAprUVAON4MQbcP3UC/0/FA76/UQJcrCEEDAaNA2VgOQRvmWEAB6x9ArJLUQNloAEFo99tAzTNUQG4JkkA+yABB3z4PQW3dKkAAMxFAZo1iQArtrkCJ75RAUBVqQMm4g0D609dA2vsYQLTHNkDSCwlB9NCBQPpzmkDwc/JAi8IkQK6ntj90ktE/hi0mQAQ9pkAnfutAFQFXQC6kTkBHCuFAleWTQEsN4kAHwshALp5qQKPTx0DE+lFAzMTbP/3Ly0DO5W1Avd8DQZDYE0BML7Y/tQ9sQATCaUCJigE/dbMjP3O4PT9AJytA6G6XQN9/gECDZ6BA1MECQWc3CUEth3xAF+EHQYDpcEAXyCtAiAcnP7hPBUGWoIc/hptFQA/J4EA2XC5A3FnuQO55b0ABG19ACPRtQOi6sECCRAVBS2qHQPcY7UDNyfZAoYMlQL9p8kAK+ZFA/pJwQCyTKUDwk5xANXNLQFTZFkCS/Xo/p8eRQDjnSUDDP5dAMm0OQDCyskBnLYBAANGTQHrbrj/TQ55AP+NYQD+7akBp3VhA528KQSucG0DCNzdA3Lf6P2Fb/kAzDnxAeMWJQBYxAEGDPulAp3hSQIOf3kAik7JABKbqP3BQCUC+sco/TqQwQI1b5D+ulpBAziwAQGV1dED/jdM/hZcBQWfpu0DC4J5AhQiKQOJb5UC4dixAYHKOQL1ulT+e4NZAWx9OQKXDQ0AS5UVAGhcvQLcajkBTgIpA2iy0QOGjjkDgUMhAfFSIP4jGjEAartNAo8d8QOWmpkDmYLdAFzDmP87m7UADoDFAmz8KQTzw4ECbvr1AyLpyQASB60Dss5o/Q1FhP0Ff0UD/kLxA+hTUP9gY5T/2Bx1A/LgAQec9C0DrqXc/ffZmQAiBxUAZI8NAGwgQQKMiikBv0spAxN+NPzDXukC5w9NAYdWaQIuXsj+eiwpBIteYQJrC4D+7jnNA7EIvQHTUCT+fFMtAhSIGQUP2skB+ANJAJryOQDH3QUANIeFAIeDNQNVhCEE+CXpAPRZbQDwsbUDohp9AmuJ0QNC+VUCH5YtAAzOEQIM48EDpqwpAnCa7QBEYD0GoDIc/hsrgQA81+0AyS7RAAO6DQMLmVEAm9S1AtxbzPg2/cECcupxAG6jYQH4A8kAXGfJAxzCaQEZVl0DAGZ1AbYyqP9uRb0AnVSJADR+hQJAnO0AhN49AlYqoQGZvrUAJnItA21KUQNSjBEE3TlNATLa7QJWmwkARz70/pumxP+wOIEB4iyJAtuLJQOWRgT/j7tZAalfAQD2QEUCI/WtA/zS+QMnYeUBHrexAdQ//QKaMU0BOCFJA5GlOQCwr8T9E3kpAICYJQaH4iEBh/axA4XAdQIDNgUAT7eg/nnZgQPG1IkD0hJlAOeoDQQkXV0D8TTZA1MApQIOVZUBIrY9AW5tdQG/AqkBUJQNAHDOwQOX0tj8e7G1ATHCHQKK0+UCMUo9AwBpcQMjyKECi4WRA9daiQO3tbEAcLKk/y7UmQDyBgD9nwwVBA4yzQCgzN0DOt4lA2xzRQBWnq0CVIAFBNR+DQPP29UD6mmRASEoiQFXygkAk+P5A9QnvQPcBxEC3jvtAap4KQS4GRUDKwTBA4pwGQZAl2EDInPtAGVQsQKs/0EBBlE5AwkGzQBUyekCHjnpAMf4KQB6grUAWCp5AjDHZQMRqgEB7MG1ABNOzPyeSO0Bz6fBAi9d0QDPAI0B0cgpBn62DQHCdukCXeHpAfWncP6gg0UCCqQxBnkztQPHcMUCsOTM/EaUwQO7liz/JCJBAFfERQSke7z+ASgZB/rK7PxNCnUAT+A1BxMhUQEGBOEBN2epAmABRQK0IM0Dl7SNAB/B9QFQNbT/gCpdAvT4JQY9hPUAguc5AHWdFP/K/bkDj5vc/LOLSQFAtPkCd5QBA8j2gPymEtkArdL0/QQOIQP7oCkGXMfRAzA3pQLP5qECpSp5AXUzIQKrTlUDvBglBJawnQATR7kDvHfNAQzyDQEkWsj/b9QdBAns4QHRrw0AWJq1Ap9HEQNMt7kC2w/lALT3UQFYKBEGjRG1AkwUHQXKFBkAjxIdAvFWFQIWdwkBVfAtA5Qm+QI30cUChygxBY0r3QFAZlEANsfZApVusQCK420Axa9RAa9z4QIyjLEB4gIlAD2TDQIv2x0D+IR4/vJkHQTOdsUBAbKtAmOKnQCot7EDldZ5Ac/e4QHz5YUA+2aVAhGTdQJo34EB5ZOc+SrN4QMxG1EBPJfY/HaCnQAPWTEAEA2dAKM5CQE6jjT9HfWw/EEOOPwMfgkAmIVJAipbjQCQgsEDB+vtAH/qNQKJgOUBdIB1AC3ILQPB8kkAGHyJAvVeuQKzQUkAbX5lAcl1YQCVQA0ACQCpARlydQOxXyj/M0MI/tbSPQCICMkDUnLFAHA/MQEhGgkBOLsxAX6STQFXEtEDA9+1Av0ZDQGGQi0AbU7o/OSGnQNIrmEAk5AVBbW/qQIib60BBPvlAa0doQEUTOUDFfYFAHul8QKPjqUD+dwFBgSitQECuUEB82SM/CMrzQCOZu0CqSPU/peUGQbMytUCMXI5ALlRIQEK+kj8E+/E/KGXXQBlVAEF/tERAx1i2PxRuQ0CZC2dAJKteQMILEkAn0pJAoxGjQG/uT0AZwCVAe/3oQC3OgT/q/XtAAGIIQfAXCUE5cvZAcmc7QLoTAEGtFNFAEQqpQK1cYUCSAI9AaywQQMwouEAaP6lAOkTJQBF3rUAg0RxA2U5SQD1o8z/zS4VABIiRQFWp9UB1DJc/mH4fQMEf0EBnYoFAArzoP1Thr0BsJAlBBaTdQO9g7z9r0U9Ar6wkQF1yHj8CTF1Ag25WP9uWMkAm+rBAeWvBQLQugUByoz5ACAy7P+M+/UCYF9hAMosrQInH7EDS8TdATPMoQJCzs0DrFDlAPa3XQMeOv0CbWW9Aa8RPQKsFxUBvlHtAOzJ/P104kEAhwlZAPBq2QPkM6j4iq4BAxbuCQGaB3D9ccphATl7AQLd6TkCcTCBAqUU9QPyFkT/PEZBAJQXHQCKiMUCPKexAhzRVQDTTy0BLtopAVS+FQEdq7UA9nqpAjs0uQDISakDD1gNBxavRP6Gj00BVzyxAAR2eQIhsakABgL9AI1VSQMSbDEE46AJB/bA5PyVj4UDwUlZAdBneQH4+0kBje/VA1Y9kQMhDnUCZlQxBhDYkPzYO+0C8vZ1Ag9UrQGv1RUB3UNJALkTKQGuPh0BuBYxA4knIQJzqAEAKeC1AMqABQWdtpUAWQh5AsUB0Py8FmUB7B7NA/FQIQTGSIkAKLs5AQm2kQFNMKkCwQfpAzeQkQF/vW0DJ/5JAqXr9QFLTaUCc9Ew/Gk9nQGIJGEC0ndFAqpGDQLkvFUDOYUNAoLq8QOIZCUGC/sE/+Lb9QGga9EDoLBVAD/E9QJktrEAk4m1ApKv/P5GlLkB2oPNA2+gCQIGc3EAKRLc/nk2GQCfpwkAJnMhAZx8wQISb2UAmsS9A+uBuQNNqX0DLFMFAy6N8P9hy5UBlqoNAkBR/P7GQ7z8kZtw/KcSbQGW8TkCWOyNABYg0QMwwIkDubMRAyuzJQNhs9UCFbNZA48YuQHv/kkCH8jU/N1yVQB+cVECCDP5A0Z3JQHe4mj9AbiI/HwwlQCg+BkDTMK1AlV3zQAJEbkAIWNJAhaZLQERxXkA38TJAc1HDQAYRhEChqIlAasuDQA1//UCGwJo/ugCuQJAmbUA8JLM/KhGkQC2pjEApVdpAo4SvQIEQwkCxyglBlwzrQGuiaEB2Bj5AJz0IQd0gYT8xXlJAYHiYPzayG0CgXSJABceMQMs2BkHpDZNAq/7xQGMUykDAq8pAJy4CQadp5D/JgQhB1kOaQA9DZj+qRqJAIS0KQcWS6UD3f4hAFbacQIc12kDL/e5AH0UBQddF2ECE9nY/Tf5RQGVX1kCSJx9AktL5P76Td0ABZehAQZ8OQTu+EECl1cJA9THoP/kX6UApKP1A8TgNQa5+5kDqHCBAzOGuQEf/3UC3jzZAXVsMQeS+FUBmpBM/JknoQMGdnEA86JtAcAa6QNZ3D0GZ80FArEeNQLgwC0FZkuk/b3WzP7G8IEDY5vNAaJHePwG5cz/44NBAQtMjQEKIPD+WH9ZAdZPFQLrZh0AZfftA2uztP3uA+kAUvvpAyzyrQInr8kDEh5ZA9rw8QOMBVUAHHYNAUKU+QFXJJEDGdOlAMUMBQUsnZUCsqplAzdvGQHZFBUHx3GtAHMCMQNX4yUADnGBAfzuzQKkZ60AgQt5AL/u3QNdvrUARX3lAbmBJQAnYkEAm/YNAV+s5QCXXtj/7qZZAIqbVQJFUnECQ+bVAmfmeQNAhMUD2qpQ/b+vKQLH3mD+TxYpAgkeUQNcQkUApfPpASlnjQKNW8UC9W55AOZbxQDBoPkAfsKpArWAuQE//p0A2MUZADTzsQOR3xUD06V9ABjDoQHfm0EBSRYxArrBFQEL7DEF7tec/QeKcQKFpSUDfk1hAZhqdQGSbikC76k9ANgKeQFFJlUAZNdZA0/dZQNsM20C0YFpA+iSUQF0LhUDf4+c/vehFQPeMzT+WLFA/fsR+QAlsh0DLfglB/37PQER73kAAbARBrkPxQC/y8kAom5lAFZKvQDal7j8+QZFAVAFBP7HzBUE7ZMdA5XdSQFbY6EDt4Cw/EiaPPy8VZkCphLg/fjXsQIPxZUDjxY9AtArJQEt5xEBZZf1AlSn0QB+3gT/ntMdAw/zqQD9NI0AiBI1AV0A3PxbD90DtUdlAdvTfQJy5A0H3Io5Aam/MQB93vUB4TKFAdyeMQN+QVkA0V4BA2EF6QO7SxkC8T+tAgN2EQL3UpECeBYBAroVtQEuaoUDYJmU/TuB4QJ/yeEDUIvBAGl6nP7fHwUASlB1APNtXQDpWokAoL0pA0gKpQHf1F0DTCpZAWSSBQAkI7UBATndALXY+QGYMTEAGSm9AQHEdQAjUUUA7TlpA705NP8pvxD+w0fE/f+7LQHu9ZkDNUbdAdFJtQNHm60AKas1Ap3imQEV/n0CR5NdAvi7YQGFMzkBOTQZBxC3NQDnTpj9liFFAJKijQAJ4MEB4UKhAuZMAQTnQkkDP9wpBSdvvQKfuNj9zOwhBCvHRQOUM/UAvlBNAXoRHQNe8Wj9+QUpAq0A+P140pEC+bjo/t6ZyQOfuoUDnPPpA68jtQGmxVkB8O49A3Z/aQLkV30AQNA5BsDGVQPVGikBUJHlAOwQCQFpvL0BA41JA+xSsQOgsKUDKfX9ANUFuP5MNmUA+lG5AEe/AQNKAgkC5Oi5AaIZRQNgSrUAahOlAAUcBQP7ZbkBLJOI/qEgrQPrlRkDpQm5AOgbJQBdwU0BZl4pAafj7P5sspEBAwA9A/viGPxcBKkCatuZA4oBSQGpxXkDhmfNAFz+QQCSIOD/bpddAsEQDQbA6AUH/MYBA3FsDQR5gkj9QzSNAyiQwQGCvOEBGcrNAcMlQQNQVDkGIvLFA8xPxQMB7jEDLb7ZA0F1FQIl3b0C++spAD6LsQDr8C0BMTrxAC6ruQLTdKkCxj5ZAaknyP5AEU0CIs+0/u+TlQAakCEFFxF9ACkhVQJ3TsEBTjWpAyWlBQDhZYkCyvlxAlJYBQRZK+UA1pQ5BtFMvQDdIBj/5rzpAPBKjQIuwuT/Pq15A5xA9PzSj0UCWccZAtx5XQHceSUDGPgtBnPKAPxjMDUGMcu5AA8DePx/2JUCtvGRAYKGpQBQhLz8ZNYBA5/+rQMhXbj92D4FAU5FlQOyMOkCIvplAdi8IQQIHxUCIG80/rzfSP/KFtkA8wypAe98lQOfUpkCEKXo/g4lqQL3SwUDhCNxAN+KRQCWjqkDt9YJAKTHnQBHIO0CFQndAHDoPQMh+ykB1HYM/awMuQAHWrkBojLlA0ZfRQKG/PEB4VDtAtbm3QDYtvECPmO9Alg+rQKgjqz8hxyNAdG70QE3REEBT1ixAHkopQCe0u0CNp2hAbQUNQEB2QkASug5AHNaKQEa6FEAYSAM/VyKrQAqsU0Dk7VJAxZE+QAjr0z8YyO5AMdqRQH1UPz/uVKlAdpk9QGixwkA0MwZBgU1kQPoSskCKFFJASQnoQAPoA0FBUx5Ax0OzQCmXgkCHqI5AL2ZkQHrLAUGirpNAekEIQROV9EAJArY/xfoDQfY4n0BM/3NA7BenQBdclkA5lthAjpBJQN4mrEAJjJRAt1iiQHa9hz9liR9A9E1bQIFISkAhggtBI+mRQEwRV0CEJtBAFi11QN0NC0DfvTdAkRCmQI2/sD+tngdBDYmyQCBtyT+srVBAxqjzQMWNQEA5WCRA5NMPQbBPeEDD1k5AybdrQEe7sECxvwJBguyFQBo7DUHvmANBcFTzQLcJDEAug1RAYPm7QLm67UDYupJAzQGzQHrGF0DH7q1A1kJVQGX0VkAfM3JAs6JlQAw6BUGh14Q/+pYfQBDTg0A7O/pAbVCfQAKos0CmWpxA/9PtQP752EB8J5ZA3W0lQBM0PUAmEe5A/BuWQNPtyEDHahxAyX76QLTPi0CiIaRAJIX3QBZ7GT855qE/Np4BQVEWzEBmAFM/sLbbQJdOOECb/6NAU8H0QODrSEDKX5g/CKSXQI1vzT94549A12aQQLRIpkDVzfRAPg5EQNdq4UDLJZpAPlTNQK5DGz+LTT1AI8zzQCC11kAejMFAW9AYQIT+LkBYxa5AtUVvQJqbWkCH4KhA2Mn+QIT9SkCRqEdAoB4AQev/IUBMK9ZAWkuAQHbt5UDFnw1BkYXrP0H1/0ChK1VAv8xKQBo2PUBdYcVARlUJQGbTeT8Ge7s//ndAQEa4KEAHjU5As8OAQJXM3kDs9uxAvZG8QOpY5z8xPitA8fHxQFKZkUBu+uNAY8ZkQN8RNkB2wIJAKHWZQKpxsD92CL1AMHm3QM1AekBzolpA6D1ZQHWmCEHVl9ZA3HmEQLmiCkFzVPdAEJviQPLYLkAWAExAFNrDP6+WLEAEg65Ad5u4PxXT9UB2P4xArdGlQLpSQ0DuCgxBYq8HQccFA0HXZvVAfZnNQGQ4NECy5yo/kedOQEIeEj8sj9Q/mipBPxiIakDaZO5AU9W2QGRi5kCy3LdALDrlQLF+QUBsDTZAXjCoQCcyO0BYSt5At8nkP9H21UBmr9VAl+T7Pw1HvkAIAQpB4wPkQEnrg0AUeSNAXFA3QF9gUUBqeMk/nMsvP89mn0BDnHxAhr/yQFPB2UBlC9o/Yo8DQG7TnUBoy0dAKsbfQBxROEBvojhAOG5SQKIVD0G1l+1ABJ0TQFACjkBnDkZA3ZnoQFTvcT9vTKlAyajaQKlNZ0AGI8pAeqSFQKIBOkBj3MpAGrRnP9Rp20BSSS9AWYnMQB0MYECIAm1AhbRCQOoxykDz1ABB4UbUQCVa40AGxhdASkMPQIUIjEArb+5AJFGlQPL54kCEM4NANVV5QBBSXj/+SZpAudrDQA9Fxz+4qOY/fEXKP/yPS0C8tpRAutacQJR6DEEtGctAFMdlQB+teD/VBnhAmIBePwvXxUDyxQxBrKAEQS0XyECHgyBAKKcwQEut1EBYVopAEUQxQPCjvUC1HlpAsgUHQf6CQEBIAi1AKz8hP6Yv9T+7lkxAulx0QNkWEUC3NfBAMYzwQDOPY0DNHbY/pb/gPwiLEkAglQpAf70MQWnD10C9QORA11H+QF18hECDJPZAymABQfJ1TUBNKuo/wpjiQPOT+T8nTZdAohdGQFHuREB6WdM/scznQJC0JUDOikJALASxP7BZDEFRRYRAuNatQMC28UAp3K0/MBWkQGr2tkDysupA/WHHQO/Fd0A9hbJAAd0BQaNtoEB0rqBAy+2nPxaGsUDSwmhAEYeCQLEVp0ClvYw/DpxsQIQp4z7VDmVAFPpEQN3tA0GjijhAs8XUPxdAOUDVRDtAb8hhQPT18UD7yTFAgtyvQLnVST+At8lAcC7ZQINhN0CqRLA/ufjRP0No6UCPVTNAUXPmP17VkkBKlchAygl/QO00z0DYDENA21ShQExE/T5ylxxAfyMFQZg9IUBPquNAQ7TrQCU3MUCsaFFA65nIQHwGmEDMp0tAAYzLQP696kDprTZAOUmtQBBhYUB99OlA6OnmQLgO3EDyeb1AoSnnQFeyh0B3DYBA0P7yQM7KlkBghoRAwI5lP15EqUC+a/w/CqE+QPNUrD/t+idAahuOQNn5cUB9iglB5SmzQMRc7z9h6MpAKaDPP7pRBkFol9xAYRvCP2OAiT/oWttA6OvNQGSh5kDAEaBAkpPUQAGHMkD5FnhA+fHGQH/+QEAcadQ/V2fpQFyI1EAOY5I/pdFzQCUU8EDLeEZAaZF7P16b50BPzr8/YpWKQE5G3EC5iLE/LbLTP336nkDtnttAdcb2QFg5fEAnyIxAobsxQNuZUUBAaTtAd+vsQLoEyUALBHNASXGZQLcla0A4IMhAgvP4QP7BjUBGv0hAL+/RQIArr0D+snRALuwfP4yHDkFJp85AR3YzQCO2nECpdyhAZTSSQJpIlEDn6r5AaB2/QOlnqECBPYJAvIJjQCrxgUBcA85AS+WLQIQG5EAtE89A4OKTQCeTLEBjC0k/fzGDQJ5ggkAp3yFAkF8FQZxkikAhJb1ApfefQBNEL0DkW+JAc86yQGUlOEBtTt9ApG6VQF+IsUBnICJACk8zP4jXmD/wZLdA7TzTQMVNwkBhwARBfn7hP1tiQEAH3o1AvKXeQOiBQEAV4KI/DGzMQJ33pkACDPhAkM4NQTW6AUHd7blArZ+QQJr51ED8IaFAU2HWQF/0CUEYHvhAUg5jQE4I7D+hat5AMg3PQLfScUA0voJASpewQGwsOkA3o3s/YgYeQLSZZUCaS5ZA4UWqQGVSB0GYbu0/EfBYQLi5L0A3a4lA4gHrQO3LikCoA9o/UdOkQIFp50C0XgJBRsdZQCoCh0D98SFAk5PEQAjrlUAAgNNA5uLIQELQ0ECXYtVAFHWJQNeBgkB4cvtAMhgEQAvjBkDRzZ1A+h4gQLYvtUCDYZRAvLmEQMR86ECsl5VARDeDQP7TtkAoyu5AU6IkQIgcZ0DGBplA6CH7QLGjM0CooENAZbUDQIaynkCQzv4/rh10QEQe5T+Jj9M/JYmUQOxygUBTwo5A9w+OQMB0BUHDjNtA4jPvP04jvEDY17ZAUx3uQMC7+0DF+v5AjBYGQV6DMkCrr6JA9Z+cQPlBLEBZKuhAIRa5QMIooUBIq/NAAakIQdV15EBvhjpAzaX+QLyRAEH59NhAtfORQKBM2kBb2qdAiDegQH3VhEB45Bg/kuENQfuUh0BhXF5AoTP2QC5MDEFUDeZAsdFhQIJhI0A5jnlAOSkQQWKD/0Dmkd1AbF/3QJL1gUD/8ltAXvnQP0FC0kDSJMlAZC/EQAhk7T8H8txAp655QJrYV0BCr4pAFVvLQIwaYkDkjzdAn4i5QNvcMkAwg6I/Fsq6QD/ODUFeaZpArlOzQCCdiUCPX75AI/MMQT8dBkGu6QxBCFSFQIfBFEAIZctA8Qo7QOujYkByAbw/YXI3P6LnCUFyewRBGPQWP4/t2EBUWMhASnkyQALnO0C7rQZBTit1QGIXqj8fBN1AkeJLQMVPMz8dzAhB2KjPQC1ni0DlyL9AVmrkQIKk8EAjN+VA+kK/QKzz9UDSq7NA1ftWQGJ9CEFU4dtAnTrbQN70gkDd6i4/YrUpQJnybUBtd6RA4J3iQHn8Qz8VRo1AUSWKP6ERDUGQyARBSRuwQNkrf0AdgZFA/ZRcQF9jukCOXXlAvOucQCsxg0C3JbRAEVBhP7Nw3kDuFEpATZaZQGjzBEFh4H9AkPeWQBhp00D4/z5A4UXRQA0lzkBKHZg/mgn7QIrVjEAcObo/A9UnQIh1VECTbldAv0rtP1M6S0AvLuZAQXHIQLQumkC505hAl21zQAkWA0BsJKg/vkZVQCxmDkF3tydARMaJP5H9PUDNyo1A04urQBTdMUBhmM5A8TynQGkcuUD1B5dAXDDJQAgAMUDF25VAAFcMQSrsJ0BDLNFA1RaCQIXi5kBm0f9AquWLQHrA6EAE2StAOh+iQIy0BEAENwhB4f8lP7ARJkC5hOpAFsMlPx9ms0CJ2d9AW51ZQIMfrUC1c7xAw6MGQaHJvkDONO9AaOnAQDtaD0HakPFAxbErQOJly0DDjWU/F+BnQCKD20DPGKtADtSWQNjqsEB9/9pAyJmBQF02QkBkC/pAwqq1QAFaKEA2I4JAlzs4QH5gpz+yLNFAXPN4QDsZ4z8SOEZA3sfLQEIc/0AtHNtAPX81QGRhpkBmIGhAuZaZQGgdpD/bawBBXiYvQDHrzEBbIGlAXz7xQIttkkDspAlA416nP228lkBRC21AbpdpQNdNBkDBIgpBKysSQV3iAkGYzrxAUUzcP9tfhkAqVEFApjQGQcA/qEBK0QBAmn8eP/oz4kCyefBAOnHRQLE1K0BoIXlAtU1KQO6smz8SNbRAuRBOQHF3cEBi1X9AjskcPwJiZkAXd5dAipIFQZa/1UAwptg/SVX7QHeoy0Cd/JhA0I6OQIvA1z9Fp05A2j3cQO0HeUCRw6xAQKNzQGaxDUAR04ZAvHkVQLRMlkCXwdFAUNoyQMh6OkCw/uZA+HwePzovnUC8jldAJZl7QK/ts0D07hNAP9GmQGVCmkDKZndACNWeQII1u0DLZpNAMNvTQHLC6j+S/wBAQBTdQK0x0kC/U0dAznAEP+r/xUAy5nU/2XVJQOM4u0AYnmNA8yerQKvTL0DTc0pAI9j6P1ym1z8oFHpAj+NRQNxT80BVlK1ARDvWQMXbaECua9xAOwMNQI9gTkBxYs5ArT/EPzoBekAZzQlAIh25P+N6hj8bVsJAcKinQNSEFUB82wtBwL2nQPr8sEBL4fNArOTGQEUq2z/N8rc/fqP3QNxAT0B7hmpAPr4RQYT1N0CgG9hApmA3QAWPR0DhEwFB2/exQMZHk0DxPk5A0u4kQJhLdUDdSFJAI9c2QJWUuj84qfBAm3VSQEKdb0AqzUhAoQu8QEUGBEGL8iI/uvA8QEBPNkCncANAwPK8QO5ln0CjmaM/nqWYQGRgyD/9kaZAvs8QQFwVzEB8VF1AQYwFQUp+MEBiaM1A3oRIQLwugD9cLuk/LGbmQECb5UACNQpBe5/1QJDY50Cdf8xAOzUNQbvV6EAo9klAqszcQAiZrD8g1uhAjamzQFihaUCrJB9A+bppQKuDLEAIKVpAvL/oQDHPRkC2h4ZAyuJ0P8Zvc0AJY6NAtX0EQXbfCUH+tKhAFTxrP7E+Z0AU/mdA9mSHQCjclkB/09NAYP76P+mMkkAVo1xADA4NQHeri0D1UA1ADTEAQYVJi0AOl4xAgOEaP+hC6kCufg5BGd3fQMegAEGA2cdAb2ZuQIspcEDTiRJAkq2FQOEyN0A1YwRBricxQG5CKkAJXtdARa6eQKcgaEDtJ61ArXsfQIrW4UC9OQFBG9AnQKMj30CerkhAud9SQPpuKkCp6cBAZSeqP0ZZNUBS4+FA6o0HQfQH7UClqjFAH1m5P9QFsEBHnHFAKpDcQPOdyEAh0WdANJLPQPMIV0C4FpxAYbypQNCqTUARNq9ABsfdQIShA0FLr+RA5bf8Pwx86EAyw49AgYyaQNRb6z+q06BAfhYCQYEq1kA+VJRARug6QHKQGUDBT78/Fx+rP1N0lUDvWKpAQDw9QJy/i0BiXf9AEGv/P1Yj80C620lAsJGCQAISckCFMmZANItHQHrKDkFc7PtABK2kQBYDsUCRetlAEfyrQHHeH0BPxXg/ZUGuQDGUi0BxzQdBoHQsQG+HDEFwpn5Aw2bGQGyzPUA0TfFAba8WQNe7qz8f4JVASga/QF0+bUCo9NNA+RPmQEqz+kCZ3ZhAy6uWQI33sEC4BYVAVh7yP4/9QkAcr6RAvzS+QMwSjEAibP1ABtnBP00/cEAeZwQ/shd7PyvYAEHYwGlAFsifQBoGK0DiQctAcXw5QInUaUDd/oVAWuDlQKuCuUBytcpAAdsGQQLI8EBUCqlAJ3MtQHe/KEArru1AG+tTQJsWykC7oH1ArBEkQHEt7UAG0TBAZfyJP1AyT0DhWzZA5i6tQGH0C0BLc2pAeKUJQOqME0BYawBAehsCQGhGeEDT215AERyfQP6rBkF2FZc/zvbPQMsQH0D9ealAIS3xQKplDkBLJS9Aht+kQGMphkBGiS1AaMipQEc3uEDRzdtAwY9MQG5ljkCjGKZAEYXNP9llBkFX56dAfo8mQNLM3kBr0jhAsx8GQY4ujkCe2Nw+M+G9P/7/+kBgXp9AVVnDP1LsakC3DcZANLisQHXd8EBtQNBAkAFAQFQ01UCQYE8/676GQNDFgEARVVxAZW31QC8yv0DmecxAYvAIQV6vr0Ankj5ATYGGQBI2UkD8b3pACLk/QCpic0DuNtNAtMIjQCQmw0CBkrdAqqyAQE1yfEDU2ixAH2uQQBtTikDmOgBBYUygQCszrUCA0s1Ayza4P7nroT+sIflAn0+wP7lTu0Az86xA5taGQAclbj/xQ29A0SvRQO3c2UBE915A0lNpQG534UBMt2RAay6rQAxnhkDXgug/UlzdQEwoMkDhHo0/PFboQBZGrUC2b9pAQQnhQDob2kAElbs/eqfOQKffREDkbQBBESuWQGNnz0ASYRpAc+tlQKGXAEHxo4BAOe91QDH/8UAJu7RAu+KkQAxFNj+Tw5pAzKspQNbGxUAkO1tAUE95QOZPd0C6yetA322LQMBezj9MYCpAhxqVQMet9UC4yghBETHjQBtJIEA4j8lAQ0BYQHt/JkDxtHpA0Vz4QN99S0CL0FpAslAJQYe+DkFVDKxAPWOpQG9VjEA66stAjLbZP2HVuUAuTq1AMGz3QB4JaUBA+/lAYkQLQaFUXkBgAtVAr9jxQCFGEUD9KURAEgEKQeGo1kCkjJlAgQRTQLU1DkFih6NAHf1BQEf+vEBPJPo/fSVMQC59hz8SP1FAiFWcQNXLPEBqB5ZAZk23QNN0vz+oFJlAgRCTQDAZhEAftLtAB/DzQKraHkAcgS5A/gUPQTUAnEB7/H5ArXc4QOdYDkEwBb0/LtSuQI1AwT9Z34Q/uRN4P2wpL0Cl8MNAnN84QJ9I7kABQdtA8Sy7QJT6J0A20jJA7abhQH3140DOvzxAuwztP1Fkt0CpJcxAO5U5QBVhjUAhMMdA2Jj+QBSS/D/cq81AZL65QFDEpECbRfNAcZq7QPBaEEHsIb1AjXjTQKkjkUAcB0FAvdHpP9UrYkD9a+9AruByP8EZ1T9G+phAIpHpQE76hkDla/g/aeQaP/t9fkBb7KxA8K/7QCkBw0BVc6pA/aM1QChBjkB+eKlA4QgZQG2F5EClXStAUCcFQWpdpkCSEbJARutYQKwOtj+rI7VAhU9VQNg2cj81i/U/uLn5QGc31EBAccFAjeafQGPdlD/VjDZAb5+vQBP2BUGeKppAiC8hQCO1SUAU0SJAdNT2QEIcr0DCvzhA9SApQGdeH0D0Lqs/4ndbQP/LKUD44eRAQrpNQAsLb0D1ratA623nQPUtsEBHcA1BqeGPQJkpBkHOzPNA/J1vQBFC+UArkTJAdK2gQFovOECVRIBAuQMpQLZHsECIQ89AGcm+PzI/tUBmTZBABeTzQMhQ80AzGvg/y6iXQMGlvUB/hDxA7RqqP8hvNkDEWJVAeKgnQOzn+0BwUwBAghe1Px41cUDBoChAGpVsQCo3rT/FUwRBFJxFQH0uC0GGWHZANTsjQB7rCEFd7ctA65TqQKPbBkE72K1APgbzQPF9CEGhM8ZAZj1DQFkoA0EC6BQ/ZqD2QMfqYECujd0/XJZ+QAbd6UCuZFU/udE5QMQw0UAl+A1Bl7kNQVklvkBaIelA4vkrQI6qoEDH3pxA9S5ZQHJljkAXPuFAn8M9QHXkCEHekZNAlPL3QAvpOkC0FgpBFKfrQFJqfkAghZZAWd9VQFHX0kDIlkRADH8JQeF8zT/B1gJAjQjhQCq6TUDLG5NAev6cQP1Id0A/fopAVWVfPzcn20B//lw/bYGAQKX39UDrsplAMtp8P5E1PED64tc/Wcj1QMJcxEDjAmRAQwYrQA==",
          "dtype": "f4"
         }
        }
       ],
       "layout": {
        "height": 768,
        "legend": {
         "tracegroupgap": 0
        },
        "margin": {
         "t": 60
        },
        "scene": {
         "aspectmode": "cube",
         "domain": {
          "x": [
           0,
           1
          ],
          "y": [
           0,
           1
          ]
         },
         "xaxis": {
          "title": {
           "text": "x"
          }
         },
         "yaxis": {
          "title": {
           "text": "y"
          }
         },
         "zaxis": {
          "title": {
           "text": "z"
          }
         }
        },
        "template": {
         "data": {
          "bar": [
           {
            "error_x": {
             "color": "#2a3f5f"
            },
            "error_y": {
             "color": "#2a3f5f"
            },
            "marker": {
             "line": {
              "color": "#E5ECF6",
              "width": 0.5
             },
             "pattern": {
              "fillmode": "overlay",
              "size": 10,
              "solidity": 0.2
             }
            },
            "type": "bar"
           }
          ],
          "barpolar": [
           {
            "marker": {
             "line": {
              "color": "#E5ECF6",
              "width": 0.5
             },
             "pattern": {
              "fillmode": "overlay",
              "size": 10,
              "solidity": 0.2
             }
            },
            "type": "barpolar"
           }
          ],
          "carpet": [
           {
            "aaxis": {
             "endlinecolor": "#2a3f5f",
             "gridcolor": "white",
             "linecolor": "white",
             "minorgridcolor": "white",
             "startlinecolor": "#2a3f5f"
            },
            "baxis": {
             "endlinecolor": "#2a3f5f",
             "gridcolor": "white",
             "linecolor": "white",
             "minorgridcolor": "white",
             "startlinecolor": "#2a3f5f"
            },
            "type": "carpet"
           }
          ],
          "choropleth": [
           {
            "colorbar": {
             "outlinewidth": 0,
             "ticks": ""
            },
            "type": "choropleth"
           }
          ],
          "contour": [
           {
            "colorbar": {
             "outlinewidth": 0,
             "ticks": ""
            },
            "colorscale": [
             [
              0,
              "#0d0887"
             ],
             [
              0.1111111111111111,
              "#46039f"
             ],
             [
              0.2222222222222222,
              "#7201a8"
             ],
             [
              0.3333333333333333,
              "#9c179e"
             ],
             [
              0.4444444444444444,
              "#bd3786"
             ],
             [
              0.5555555555555556,
              "#d8576b"
             ],
             [
              0.6666666666666666,
              "#ed7953"
             ],
             [
              0.7777777777777778,
              "#fb9f3a"
             ],
             [
              0.8888888888888888,
              "#fdca26"
             ],
             [
              1,
              "#f0f921"
             ]
            ],
            "type": "contour"
           }
          ],
          "contourcarpet": [
           {
            "colorbar": {
             "outlinewidth": 0,
             "ticks": ""
            },
            "type": "contourcarpet"
           }
          ],
          "heatmap": [
           {
            "colorbar": {
             "outlinewidth": 0,
             "ticks": ""
            },
            "colorscale": [
             [
              0,
              "#0d0887"
             ],
             [
              0.1111111111111111,
              "#46039f"
             ],
             [
              0.2222222222222222,
              "#7201a8"
             ],
             [
              0.3333333333333333,
              "#9c179e"
             ],
             [
              0.4444444444444444,
              "#bd3786"
             ],
             [
              0.5555555555555556,
              "#d8576b"
             ],
             [
              0.6666666666666666,
              "#ed7953"
             ],
             [
              0.7777777777777778,
              "#fb9f3a"
             ],
             [
              0.8888888888888888,
              "#fdca26"
             ],
             [
              1,
              "#f0f921"
             ]
            ],
            "type": "heatmap"
           }
          ],
          "histogram": [
           {
            "marker": {
             "pattern": {
              "fillmode": "overlay",
              "size": 10,
              "solidity": 0.2
             }
            },
            "type": "histogram"
           }
          ],
          "histogram2d": [
           {
            "colorbar": {
             "outlinewidth": 0,
             "ticks": ""
            },
            "colorscale": [
             [
              0,
              "#0d0887"
             ],
             [
              0.1111111111111111,
              "#46039f"
             ],
             [
              0.2222222222222222,
              "#7201a8"
             ],
             [
              0.3333333333333333,
              "#9c179e"
             ],
             [
              0.4444444444444444,
              "#bd3786"
             ],
             [
              0.5555555555555556,
              "#d8576b"
             ],
             [
              0.6666666666666666,
              "#ed7953"
             ],
             [
              0.7777777777777778,
              "#fb9f3a"
             ],
             [
              0.8888888888888888,
              "#fdca26"
             ],
             [
              1,
              "#f0f921"
             ]
            ],
            "type": "histogram2d"
           }
          ],
          "histogram2dcontour": [
           {
            "colorbar": {
             "outlinewidth": 0,
             "ticks": ""
            },
            "colorscale": [
             [
              0,
              "#0d0887"
             ],
             [
              0.1111111111111111,
              "#46039f"
             ],
             [
              0.2222222222222222,
              "#7201a8"
             ],
             [
              0.3333333333333333,
              "#9c179e"
             ],
             [
              0.4444444444444444,
              "#bd3786"
             ],
             [
              0.5555555555555556,
              "#d8576b"
             ],
             [
              0.6666666666666666,
              "#ed7953"
             ],
             [
              0.7777777777777778,
              "#fb9f3a"
             ],
             [
              0.8888888888888888,
              "#fdca26"
             ],
             [
              1,
              "#f0f921"
             ]
            ],
            "type": "histogram2dcontour"
           }
          ],
          "mesh3d": [
           {
            "colorbar": {
             "outlinewidth": 0,
             "ticks": ""
            },
            "type": "mesh3d"
           }
          ],
          "parcoords": [
           {
            "line": {
             "colorbar": {
              "outlinewidth": 0,
              "ticks": ""
             }
            },
            "type": "parcoords"
           }
          ],
          "pie": [
           {
            "automargin": true,
            "type": "pie"
           }
          ],
          "scatter": [
           {
            "fillpattern": {
             "fillmode": "overlay",
             "size": 10,
             "solidity": 0.2
            },
            "type": "scatter"
           }
          ],
          "scatter3d": [
           {
            "line": {
             "colorbar": {
              "outlinewidth": 0,
              "ticks": ""
             }
            },
            "marker": {
             "colorbar": {
              "outlinewidth": 0,
              "ticks": ""
             }
            },
            "type": "scatter3d"
           }
          ],
          "scattercarpet": [
           {
            "marker": {
             "colorbar": {
              "outlinewidth": 0,
              "ticks": ""
             }
            },
            "type": "scattercarpet"
           }
          ],
          "scattergeo": [
           {
            "marker": {
             "colorbar": {
              "outlinewidth": 0,
              "ticks": ""
             }
            },
            "type": "scattergeo"
           }
          ],
          "scattergl": [
           {
            "marker": {
             "colorbar": {
              "outlinewidth": 0,
              "ticks": ""
             }
            },
            "type": "scattergl"
           }
          ],
          "scattermap": [
           {
            "marker": {
             "colorbar": {
              "outlinewidth": 0,
              "ticks": ""
             }
            },
            "type": "scattermap"
           }
          ],
          "scattermapbox": [
           {
            "marker": {
             "colorbar": {
              "outlinewidth": 0,
              "ticks": ""
             }
            },
            "type": "scattermapbox"
           }
          ],
          "scatterpolar": [
           {
            "marker": {
             "colorbar": {
              "outlinewidth": 0,
              "ticks": ""
             }
            },
            "type": "scatterpolar"
           }
          ],
          "scatterpolargl": [
           {
            "marker": {
             "colorbar": {
              "outlinewidth": 0,
              "ticks": ""
             }
            },
            "type": "scatterpolargl"
           }
          ],
          "scatterternary": [
           {
            "marker": {
             "colorbar": {
              "outlinewidth": 0,
              "ticks": ""
             }
            },
            "type": "scatterternary"
           }
          ],
          "surface": [
           {
            "colorbar": {
             "outlinewidth": 0,
             "ticks": ""
            },
            "colorscale": [
             [
              0,
              "#0d0887"
             ],
             [
              0.1111111111111111,
              "#46039f"
             ],
             [
              0.2222222222222222,
              "#7201a8"
             ],
             [
              0.3333333333333333,
              "#9c179e"
             ],
             [
              0.4444444444444444,
              "#bd3786"
             ],
             [
              0.5555555555555556,
              "#d8576b"
             ],
             [
              0.6666666666666666,
              "#ed7953"
             ],
             [
              0.7777777777777778,
              "#fb9f3a"
             ],
             [
              0.8888888888888888,
              "#fdca26"
             ],
             [
              1,
              "#f0f921"
             ]
            ],
            "type": "surface"
           }
          ],
          "table": [
           {
            "cells": {
             "fill": {
              "color": "#EBF0F8"
             },
             "line": {
              "color": "white"
             }
            },
            "header": {
             "fill": {
              "color": "#C8D4E3"
             },
             "line": {
              "color": "white"
             }
            },
            "type": "table"
           }
          ]
         },
         "layout": {
          "annotationdefaults": {
           "arrowcolor": "#2a3f5f",
           "arrowhead": 0,
           "arrowwidth": 1
          },
          "autotypenumbers": "strict",
          "coloraxis": {
           "colorbar": {
            "outlinewidth": 0,
            "ticks": ""
           }
          },
          "colorscale": {
           "diverging": [
            [
             0,
             "#8e0152"
            ],
            [
             0.1,
             "#c51b7d"
            ],
            [
             0.2,
             "#de77ae"
            ],
            [
             0.3,
             "#f1b6da"
            ],
            [
             0.4,
             "#fde0ef"
            ],
            [
             0.5,
             "#f7f7f7"
            ],
            [
             0.6,
             "#e6f5d0"
            ],
            [
             0.7,
             "#b8e186"
            ],
            [
             0.8,
             "#7fbc41"
            ],
            [
             0.9,
             "#4d9221"
            ],
            [
             1,
             "#276419"
            ]
           ],
           "sequential": [
            [
             0,
             "#0d0887"
            ],
            [
             0.1111111111111111,
             "#46039f"
            ],
            [
             0.2222222222222222,
             "#7201a8"
            ],
            [
             0.3333333333333333,
             "#9c179e"
            ],
            [
             0.4444444444444444,
             "#bd3786"
            ],
            [
             0.5555555555555556,
             "#d8576b"
            ],
            [
             0.6666666666666666,
             "#ed7953"
            ],
            [
             0.7777777777777778,
             "#fb9f3a"
            ],
            [
             0.8888888888888888,
             "#fdca26"
            ],
            [
             1,
             "#f0f921"
            ]
           ],
           "sequentialminus": [
            [
             0,
             "#0d0887"
            ],
            [
             0.1111111111111111,
             "#46039f"
            ],
            [
             0.2222222222222222,
             "#7201a8"
            ],
            [
             0.3333333333333333,
             "#9c179e"
            ],
            [
             0.4444444444444444,
             "#bd3786"
            ],
            [
             0.5555555555555556,
             "#d8576b"
            ],
            [
             0.6666666666666666,
             "#ed7953"
            ],
            [
             0.7777777777777778,
             "#fb9f3a"
            ],
            [
             0.8888888888888888,
             "#fdca26"
            ],
            [
             1,
             "#f0f921"
            ]
           ]
          },
          "colorway": [
           "#636efa",
           "#EF553B",
           "#00cc96",
           "#ab63fa",
           "#FFA15A",
           "#19d3f3",
           "#FF6692",
           "#B6E880",
           "#FF97FF",
           "#FECB52"
          ],
          "font": {
           "color": "#2a3f5f"
          },
          "geo": {
           "bgcolor": "white",
           "lakecolor": "white",
           "landcolor": "#E5ECF6",
           "showlakes": true,
           "showland": true,
           "subunitcolor": "white"
          },
          "hoverlabel": {
           "align": "left"
          },
          "hovermode": "closest",
          "mapbox": {
           "style": "light"
          },
          "paper_bgcolor": "white",
          "plot_bgcolor": "#E5ECF6",
          "polar": {
           "angularaxis": {
            "gridcolor": "white",
            "linecolor": "white",
            "ticks": ""
           },
           "bgcolor": "#E5ECF6",
           "radialaxis": {
            "gridcolor": "white",
            "linecolor": "white",
            "ticks": ""
           }
          },
          "scene": {
           "xaxis": {
            "backgroundcolor": "#E5ECF6",
            "gridcolor": "white",
            "gridwidth": 2,
            "linecolor": "white",
            "showbackground": true,
            "ticks": "",
            "zerolinecolor": "white"
           },
           "yaxis": {
            "backgroundcolor": "#E5ECF6",
            "gridcolor": "white",
            "gridwidth": 2,
            "linecolor": "white",
            "showbackground": true,
            "ticks": "",
            "zerolinecolor": "white"
           },
           "zaxis": {
            "backgroundcolor": "#E5ECF6",
            "gridcolor": "white",
            "gridwidth": 2,
            "linecolor": "white",
            "showbackground": true,
            "ticks": "",
            "zerolinecolor": "white"
           }
          },
          "shapedefaults": {
           "line": {
            "color": "#2a3f5f"
           }
          },
          "ternary": {
           "aaxis": {
            "gridcolor": "white",
            "linecolor": "white",
            "ticks": ""
           },
           "baxis": {
            "gridcolor": "white",
            "linecolor": "white",
            "ticks": ""
           },
           "bgcolor": "#E5ECF6",
           "caxis": {
            "gridcolor": "white",
            "linecolor": "white",
            "ticks": ""
           }
          },
          "title": {
           "x": 0.05
          },
          "xaxis": {
           "automargin": true,
           "gridcolor": "white",
           "linecolor": "white",
           "ticks": "",
           "title": {
            "standoff": 15
           },
           "zerolinecolor": "white",
           "zerolinewidth": 2
          },
          "yaxis": {
           "automargin": true,
           "gridcolor": "white",
           "linecolor": "white",
           "ticks": "",
           "title": {
            "standoff": 15
           },
           "zerolinecolor": "white",
           "zerolinewidth": 2
          }
         }
        },
        "width": 1024
       }
      }
     },
     "metadata": {},
     "output_type": "display_data"
    }
   ],
   "source": [
    "import umap\n",
    "import plotly.express as px\n",
    "\n",
    "centered = subset - subset.mean(axis=0)\n",
    "U, S, Vt = np.linalg.svd(centered, full_matrices=False)\n",
    "whitened = centered @ Vt.T / S\n",
    "\n",
    "# UMAP\n",
    "umap_model = umap.UMAP(n_neighbors=15, n_components=3, metric='euclidean')\n",
    "umap_embeddings = umap_model.fit_transform(whitened)\n",
    "\n",
    "fig = px.scatter_3d(\n",
    "    x=umap_embeddings[:, 0],\n",
    "    y=umap_embeddings[:, 1],\n",
    "    z=umap_embeddings[:, 2],\n",
    "    opacity=0.4)\n",
    "fig.update_traces(marker=dict(size=2))\n",
    "fig.update_layout(width=1024,\n",
    "                  height=768, scene=dict(aspectmode='cube'))\n",
    "fig.show()"
   ]
  },
  {
   "cell_type": "markdown",
   "id": "42b0a98d",
   "metadata": {},
   "source": [
    "# Sphericalised (White)"
   ]
  },
  {
   "cell_type": "code",
   "execution_count": null,
   "id": "335b9568",
   "metadata": {},
   "outputs": [
    {
     "data": {
      "application/vnd.plotly.v1+json": {
       "config": {
        "plotlyServerURL": "https://plot.ly"
       },
       "data": [
        {
         "hovertemplate": "x=%{x}<br>y=%{y}<br>z=%{z}<extra></extra>",
         "legendgroup": "",
         "marker": {
          "color": "#636efa",
          "opacity": 0.4,
          "size": 2,
          "symbol": "circle"
         },
         "mode": "markers",
         "name": "",
         "scene": "scene",
         "showlegend": false,
         "type": "scatter3d",
         "x": {
          "bdata": "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",
          "dtype": "f4"
         },
         "y": {
          "bdata": "sbd0Pnq8cr+dNWG/U+UVPwOybz2XvSy/nRWYPoxzSL/9Qm+//AorPwLgWj/lH7S7tO1/v+B/Vj8LgG0/Mf84vOv4d7/pUOW+5vo6v9APlT5w1lg/QAXZPjGLXz9pnaK+jFAfv7CLIj7VnjQ/779xP2VHYL+n0Bs9mL9RvoCGJL9iLdA+LXECv4QQET8hrii/X7NPPy6xEz4DILq+T9EJP8+exL77kLG9/4RNPz/vSz9im8O+YkpbP5mQr74eSk4+F8oLv3mfF7/NXs2+4KhFP3ILHj9VeyC/YRy1Pv2oIDwMKBI/n0lovsPOPz/egl8/iX+aPvuDJz/5TTY/lqZ8PuGQyD5bqWG/Fg/ePkruK79Jh6G+TeJ1PwaFyT3Sghe/GPtxv0W6+j5sVzs+fWnVvtAjtzzimig+mfJrv65pND0uv24/FAEgvjrB8L6ge3M/97hiP7ODSL9jNoS+1GQXP6XlYb5uCVu/uoRdv3gHSD9tm3Q/Vpl+vjxiRr5UTvC+plxyvjMSCb/Qeci9hqhYvx0dV7/fpz0+YtCfvgnSVr5QyBK/pa7GPcT0+T3kjPq9Qf3fvgjrsj65bis/OhVUv7vaxb1SLjq/Q4szv30nSL9Scb67CL9UvmGftj1xL4s+nd4lv+IihT40d3C+LxtTvsMKBT94tBc/BeZXPxyPcT8Uzvc9WVHQPRxMCj9fvWy9mVg9v3xuM7/JNiM/BhiavoAtgj5bghC/1OJNP+DXVj/dX7O+BCSjPssgbT3YC0y+mUfYPuF3Dz/Psiy/hydbP2RVUT8XtDc/CHdnv2Gcrj7jTdS95aMrvyzmQr7GQP2+SqdPv2G3eT9/PRc//ujIPvJTYj+xjBc+Dr1ZP6UkcT/eSl0/2l/MPiefvb6RM1u/EVXsvpqbbr/T9lM/UjM3P2F7BD+8hFA/Qe0QvoXVAz8p3Xu/Hxqcvq3dYD8pgGw/ei41v8Q8Xz411Bq/kDCSvipsFj+K2FK/SfxDvzuyAL88FPy+nBAPvi7mKD+ERUW/fy0fv/t8jjwP57g+If72PnXQfL8Stna+FCCTPjfEoz1/Ffa+mpK+vt0tUr4ipmS/YkAmv8KPEL/F+gk+gBQvP08vfr/Djpm+N5mcvhevWb99kiU/XSn4vo8iDT+vvaC+ctkxv9+pIL7Uijy/f6a7PLhpE755xU8/ZHivvQqCYT9dHSI/pbnDvuTwWD/1SIY+ZP+AvtpsOj9g75i+wBfUviYrZb/p8II9I8V6voBtEj2Y2wA+aBGAvel3PD8y0Rq+4pLePpDoHb9aKrY9OX1BP1Btoj5b2W0+ydc5P9wMK79a3Ja9hPIOPjKZOz9zRSY/pvuZvMSOX7/W/y2/mOpwvwtUUL6Qhkk+a65+v5PIOb/K5gw+PRYXv+TxnT2OFRc+/NZZvqgo3D04R3k/5kRGv/0VbT6JxE6/QKhIPywVvL4USGc/UAD8Pk2lZL4SD3Y/igvCvkh4CL6zNBe//7yYPozFx7yVI8o+rTQHPl8LRz87T0m+3/AuP8xGOb8Xsia/fUAKvnGSi74/NWE+3Pt4PjMNLr+NATA/l+Y2v3XW2D6tFDm/eUK8vpdkTz5Mdh4+VArUPT7pC79xoZk9EQNDv++lKb8rGj8+u1H0PSOVOz+Lr0u/R1Ylv66eXj/fm2g/Zi9nv9v3cL+LPty+44ShvfiV1z5Ueqc82W/JvvIiAL9fw48+6+OUPo1DET6TsEq9ArEKP4+PPL6HAL6+jU0vP0P4Eb8bl44+fy4SPzcZ3b5m412+lvXXPkeQ6j7n6RC/uhbmvv41BL4sF3y/qKlfP4kxhL59uhc9HXNXPz0Zgz5Fy4e+/h5MPzpVCj/A4d8+/oUpP38Xwj4osYw+jkPVvmnndj+RNlc/0Xh6v0gPH7+bxUu/1moYv2KeGT10ofM9gmRRPwcQPT8xXkA/pPYgvj68Mj/TR+s+7QfaPt/zFj+oy9O+kcdzP4T+wL7OenK/N6M9P96qCT5dZ/c+ckhgv5imFL//FyK+UyTfvHyqMb9696G+y+WjPiUsFT7nW+M+Its6PthoRb23L/Y+GYp0PyFddz9xLbg9SzI2vOibQb5beFg/JezAvoBdPz6E8QY/48EDv/seDL+wyXU/BJxBP7kPPj8z+WY/4X32vmFOxz2BR2s/qqDOPl4a1L1NuY++79olP35SFb5Ytxm+6vJZvtcUC79U4Us+jWgoPStq4b5MJAG/hUuqvqbFQr9n9jU/zKryvtWkCD7700e/eWG5PmAnIz9+Txw/iE2GPn+IBL/DvAi/QvKuviLNML+XOm0/5hpHvzC9WT+y41M/KSvMvushOz07iy2/S+85v5E1oj7SDJo+J/A/P09Ecj/vxjI+yHURv5TBLz4EVg4/sWPtvkVdxD5+aDq/5N7hvUIjaz/NE4A8cDnIPbhIP79iZUC+AZRNP7h0b74gZIi+lfE0P6sKPL++UL690kZbPyCRxT7f7Du/lzIPv2mRQL+3RSW+Celrv3Uzb70qjk8/1ugxvj3QQD6Gw7S+5brKvFoBHb+QzgO/h7s7vgE2tDnsK9A9Nu9DPrSMLT9K0Wc/wOZuP+b0Sb/9wjC/D7tpP3wUNr/JgWW+zGxcPk7Lgr3XAys/Ggsivr5FzL6Xoio/2V+VvnrTTj8KLGK/USZsv5NFZj4jpzK/17FVvz8bHz9wGFa/j7ktvRwZmz42XiA/YfMLvryqjj7KZyS+bRtgv4/LTz81ixO/zeGLPn1mr76FSFM/M0FbP/GuQ7+tu3g9X1opv0KlDj+Gr82+ZphbvisCXD8tJmq/bGHBvtZyRj/LCWS//alVv5oPCT+M0To+O4e5PU6ANT4fxv698GTVvi75bD4O9Ua/zl14P/wZyjw1JU2/bks6P85UVz9jdL0+BnvxvsZ2AL4zYSM/++ETv4eEPr9o06E+A5GmPk2PgD69Hd6+aFclP7dT6b08JGq+4RowP6ulfbwbCno+N7FsPyvDKDzcnmO+YDMKPmbSID8Wp7M+FhxyPyTQ875Dj6q+o0c1vySaf78UBNu+12oxvxcUFT/oIGs9qQFAP8YqE75j2BG/O3KvPiEIIL/yDdW+nVxYP2AuPb44glG/T0X6vuemsj4cKlo/ByVZv7zV/z1TUmG+r1wZvVtTir7v6Jo+O6a/PjOf9D5eSgu/NYjHvd1ZRz/sv2O/g+duPuXk3r4bwEi+scjBvhO/Rb9T9JU+hlknvobQaT9O1+s90aNlPzA7Gb/IQ3W/kkzdvg2XfL6yE28/VXzMPUGX8L1Bb0c/fra+PoeZBL6whYG8bdRiP984T7+PP3o/DpngvgNzN74Ezlk/04e2vry2+D47AnS7DoalPRjwML/yzUy/JCEFP3n7kj2OWlc/HjqsvtiggT7TB22/2ooWPzcj/74/8si9MiBIP7gKTb/JEV27rkhJvwhSxb5FEFk/dBNFv6i5br8Q7qC+jia3PiGSTL/xPvG+7i8iP7+67b5rfYG+Cds8vX6qVD5+Z7u+S5VUvcBSFr63lDq/O3kCv94RCj7lrwA+fniNPulmKr9qX2Q/QtpPv71/SD5SOf69Y9ZiPmQcBD4E69O+L5o7vxrz0D56vym/7hZtvwDmM7+caSW/MLQkv6GCHb+2PDa/0vexvrL+Uj9uV1w/Z/4RPwBeeD+4soc+8EByv5ACm73DYc4+Yrm3vkEeZz9xXy0/dudOv71z1D71twO/D1v4vtMwCb8G0Ag/YsIzPjV6AT7u7R++xOUGP+jNKb9T2lg/j9utPl711L7cKoi9LphOPwCLi71ZPR69ARtqv4Qu6D3KUC6+PJFuvxOxNT/o/wq/AV55vvfLbb6oFpa+qTdfv0qIUT8V1wU+W0RSP82W6DqaeAa/nuk5P7FRZj/8jv+8KS1fv2jR3L5AkAS/R82dPhYukb11OhG/Bh5Ev+UbUr/Ho9q+Ha9UvsEIWj0TIVM/ZSRYv3Yhcb5GrZS9N7UtvtFVTz/Lpg2/tnLovM12WD/HnR4/KSN7P0kBWb4pyDG/dQtwP4Jhqj4wtF2+HzhoP7tCE78G4Gw/OoQAv1n0UT9mHxI+Lwt8v8FWjL4aUUa+SWUPv5TB6r52uuG+c0QIvpoWPj6wTNg+aVoNvtzSCD4kjuc+iEgsv58VLT8JXaa+B+VWvwS4zr6S+Mg+nG3OPsrzB757oMq+de49Pwzlxb7Ki8c+C4dCv1hbc77xJ8Y+PAy0vhdyYr9AxGs/tTAXPjz56T3YZXq/zdQqvxFLIr6TM5++GhKCPaqu8b7hV5E+OE0ivX6f3z5wcgg/RD0uPwvVDD09AFk+UGVJP9zwlT4Y6Ig+s7OUvmyWbD/NNx0/qA8xv9df4729i4o+C9EHv0usWL/JD0o/yGM3vxjEAj8v8QI/I52YvmuaVj8iIXy+TaAZvyrhbL+WxhU/bfbgPnEAcb9uTcU++m4pP6ggED4SSWm/RW14vw+RA79bVk8/UBmXvvI7CL8lqOM+t2ICv9MDmb7NxcY+cOEAv2MN0b4DAlK+w+5hP2X+KT+ojG2/uUIkPr+AXL7ALWo/wfEmv6mnHr+Fu3+/MfyKPhFmej+qKjE/L6xFv3t3+L2jVWc/DEDFvo010b6Ku3g9c7cvP/xDIr/68oo+7jonP5xdQL84Fde+guVHv+jVRL4HygK/cZKQvuGJiT48uV4/YnqQPu1RE75XKQo+waEuvwHGiD65+Xg/ccaKPBrBfL9wc0W/8n0ZP/0fmr4HskK+6bkav4ipZb3UUtE9vK8vPqObcL1GQuE+EX1ou03CL76lVuy+47lAv4jfZb77NWU+ezoxvx+jrT6aE1q9Hmkkv/DwEj8ytZY+aq85P80g3D5OolG/HM10v1blLz/PZlY+9iNHv49WHz9VaW6+GHJGvoMcEz9YeFc/4OoMv81Cj74/GZU+YQEpvjAiWr+9FSI+kjNGP6Q/jz5nAr2+rlv7vhR2Kz+JMM2+LmjjveTv0T4WCJo9+Fx2v0773T2rgmG+krBgv9dgRj8JbKQ+/bAGv3jcjT6J/Ei/K2OVvknLDL5q2ga+so1wP3PPmT7D2tW+MMBEP3wSOj/3mqI+Ype/vkcXiz6uy+Y9NxsPP0Hw+z1AbDE/DipWPoQ2Dz/kZmU/+0hwPwF6Kj+gws2+8WDtvmbWG759YhY/Q559vxoNCr9LAFO/TGUrv7eMML9jOny/gPfbPpOuNL7nMeu9sjA7P7LetT7Bewg/EoIzPhv3mL6f9r49Xb4XvSpfZb6vRbe+/Ye+PqtVzj5PW+I+8ekDv/GAKr8FbxM/JruZPpPKPD/zzLA+/hc1P9//YL/appm+Bb0wv2wN4T3Gri8/4itzv3Y/5D5BPWc/SlGUPdUduL7VglS+LT0MP7j7CL/PVtQ9XdiVPOclTz43e36/rzpsPZUy+Lxwnyg+Hb32Putpyr7UkzE/9ydAvxYMur4r3X6+hxPgPo18NL58Uq6+BhIwv2gbQL+/d0A8FUEePznrgL6MUxA+wcOWPUWutr6Ivm2/f/dDvWDakDrwz/g+42k9PmCFvr5QweC+AeUSPkzjPz8EhmE/ND94P/luKb9+3ba+LPQovtBmmj3zxRQ+clNxPyQ6ID+BfKC9lkpbPyrnKT0XKD0/M3YKv7B4NL5GY3S/mN4bvxokQb9ddIu+bbCbvjZpvj1E6Z69Vf65PvLKK76cGjC/zIeSvlYTjD4A/gE/ObJvvzitg75J13G/c/0LP891Vj9ZK1++6G8Mvyt10b7lSQc/KsTVvgi5e78ilWC/V6ktPooUzr5863w/5ctpP8z/SD7j174+WQ0pv61yKr8EXH+/zhL1vkYkiz5mW/4+bcU8P5CT9T7Ikxw/P3M/v1fHXD/d7Wq/fxtgvzXtTz71DDW+6Nd2v19+Sj7CfVo/Ho90P7feGb9R0Ig9oaXEPZBJAL6ex0u+N/i0PlRgRL5Cpea+tCPpPv2nUb8TXW2/cON6v0PHQb8BRT4+j5YeP5lTdL+FzZE+hp1GPdjSUL+a9Si9cgxGPwhsDj/qvHM+GAx9P5zaFT5OXTg/+4NDP9HglD6OZB0+GiT1PvzLCT/+CZy+vVtrv/5iUb58FY29vtA+v2A64z4z/DG/EDqvPsG+kj0N+Mi9JuZSP8hZIb/0ZUy/gbubvvU4Vb+J4tw+6gQpv+blVz+jjBa+ekupvh91P78AAvY+YwIPv3jEdj6FQAW/8UuCviuHur3nnD4/8znBvhS/KL8qh5k+GxAzPyYOrr5bzyQ/E3Vtv3DH3j78rrc+G5bLvm5+pT5m81e/0QaLPvsMPr6AwRi/7oPdvlSlXD8Vlf4+ubrbvYxNr74oSyG/9245PvOgCb8xfRS/WbUEv4rRQr+4wa29+dtnv82xDD/N+EI/Ijp8Psn/Xr4rtQW+ZvJLv0ayu75Bv2s/HmBjv0v4VD/TLTk/1V9/vsqLBD+7Tu6+/VI+v+yhSD40u5E+5wN6P3FiKL56Mu++YhFSPnxRID/0gRi/UM7pvlziWT/sswS/d89pvxuhZj5+802+zseqPsGPXL95SI4+Xc+2Pvg7WL+C6ZA+JVmxPrGBBD5K/cq+wQiTvdY0GD8SEVk+4GYNv9ekJL+mozg/3MNcv6mFTj5f4rS9m1HLPejVWT4d4iY//xVDPyQFzb5Y1kk//7TUvusnDD/P0VE/NnBfPxsPPT9x7d++xCqwvlHbKD2aWhq+vZo4v4yEFr8AO1E/DMG6Pl7F8r5cZGI+9BJhu0PEiL7n6FO+560aPzBotb4d0Fg+lrUwu+ZkMj+Vkf09hIsgvudeBD8Fk2w/iE1DvSH6TD9xEDE+zaZAP55kQT7wHNI935JNvm4x3D60zli/LK+rvl2GJ7+wNO27RDJKv6MzkT5NMfC+IMO3vgmLyr6zRW+/RQWgPhVBDr7G2nK7lwTkPjXfvT5Nrys+20tZP9p7QL9BCpC+v3I5vjt1S78n8zY+YE94P95Crr4eKFq/nYcUP3xj8j3mpEA/PuT7PlcpKD/tCrK+F5qjPjKbBb+kAyw/QPexPu2HJD/0fA4/8px3P3Awkr6UGbY95hRMP9WyUr+XKXY/tKzNPqIfaj6Zxnc/wr5jPzL/Db9cxWu9Lm8lv15rpD4W/xq/6aHvvjfF6z3wOZI+9cOFPr6yrT7uTVw/ziRzvyRhXr/uc12+Zst1PzfX4r49VY0+vgGGvo7Xur5qHLE+F/mZPgj2Cz/WiZi9SBHRvvO+cTuNyT09wmspv4hM6j6CxTC+A6L+PEgAg75dhyk/ZTJcP9KsRL41Krq+EmZSPgZ8WDx2obC+LDhTPoHR5D59bJE+KCqovuqU+b7SgS6+O6Rsv+NA4D5qrx0/kbIsPovXXL/FqyE+HPB7P525pb52VVy+RfOevn8/Hz9vw1C/2IRhP6g+Nz8jsTw+QVl0v56RfL62SA4/P4RTv9mQ5r6c/cc+jNhHP/PUOb8Vtke8BfkHv9qHTj4/lQa/C1lPP5Zf+L33haI+ZjKgvWSRGT+gH9K+xUwPPgrYSz/Q6dO6FdigPr2nU72I6nE/Vu06v1jXRz+dLE+/yhprPyqASD9osYU9lM/HvcisWb8NoKO+VHXpvic9zjua3LU+9Ysgv8JKNDs2cRA/hbmyvlvdW78ndkc/zZoAP52WFr8KciQ/4LuwPrJ1Fr8w8oU+lJE2vxbsfr72eQG+7pmSvoZLaD9xMBo+4VYGPjPWAr+wBxw/axNbP+sCQj2sMWk+l2syPlWPxr71lpW++Qz8PYx3RDwZG5k9So5yv8bapL6Tztu+sd8EP3rQbb4NAga/wLVnP/QDxD6rTnA/EWC+vmimMj/aPt2+NXAov3FL1z7sNnW+ttJCv5JMfb8R9Os+wi0sP9bsCz/kyiu/HOwdPu07Hr9eRRA/OTtXvkJZJr3lfSk9QE11P9Sgqr6msYA9/I0uPgGpWT9XD5Q8fXhnPrMiST/2yEE/vKIeP3Mf/L4JabA9+TuTPhEfHj/ICym/eZQDvxF7HD+gXUw/dTY5vQ6HAj6m8cC+ZWNGvxdYmL7OYgY/Iv4AP7BoND89I9C+iXYUP556Nr5Gw2a9F1govgoaDL8nLHs/TtUEv3dmuT4Mnzu8xf06vw4HLL8Beyq/lXpCP5UIVb+Pqu2+VGRWvsI5GD4GfjU/gapPv9ikMr+ELWo/YgPLvtZyAr8NMzA/mAFzv+oBbD91NSY/HO1nP8oOcj8DGd8+92YEvxBbZ7/EUT0+7o5aP1mNgj61dO291UvkPlAIvr7OlGs+hcZiP6bRHr8TveI8NnWFvcU9Aj+rIVI/f8gFvtyPy7tmRD6/bXiVPYBsf75VI7a9rTaBvvZ6Vj77UTA/g+NIPx56T784nra+aL/avpN/tryAFRu/BhAvv3xADT/qtYm+rJp2PVe06T7o0ya/C88QP2dYIL8SKAm/ycr9vvwdE79CWUm/DV2EvlFpaL8lzSk/arZEv4/sbT82pFY/2RNgvxgiFz//qL0+/HW5vivJ2D3CC1A9trB9PxahPT/CqA+/OjpYP75Ep73pQQs/WLPDvvgB6b3ud0A/XfKpPmaRYr+/Fd0+KSCSPtvoXj9HurU9PKwCv8HIaT/OaWW8Lq0LP04qmT036Mk92MEOv0fjSb8rqFg/yUYqv1sCUr9BIkQ/fEMrv7cqkz7uNiW/GckavxHeK7+rTqw98GaGPSOVDj8vz6W+p3INvrU6F7+pyqA+dKjqvTDmx74p8r4+aFRSv1vlLj+c5UU8jGHOvtPfHT+9vUa8UaswPXC3RL/cr1+/DwdevrgoaL723IS+Wi47vzftBT64c1W/v86IPpbyDz2dXW49jDSevkSWFLwAyqE+A824vuQtMD9HpA6+RJYnvxCJBL+HUes+J5EuvzSOaL+fdxC/bAbGPs39hj6CxL8+yCg7PjNqKj9NF08+I8oOvrMSzL7QEeq9Av0xv/PShT7mRRg/u+MBPw1o+r4POUK+vx7bvv3R6L63oyu/j6olvgzOO79W2YW+zuCYvqS7Wj+eHz8+KSEkP9k6Tr9zQ/i+VdZZPpVyJb7dft8+mUnQPiXJrb7vVVE+sBhfPnxKM79j8A6/IG8SPurZAj+Ts2A/eOCPvv/2A7+uTYI+f+9hvh/TCr8iqG6+6kfAPQqlcT8hMHQ/zjbvPqKzWr+6X0e/ugLuPgwxYT991gW/anNWP7lCKr9p4rw95nvjvp0AmTyGGWw/Cc8uv/K8nb4rJ/u95j/DvTBkyz2avBQ/hH9LP3sBD7+AdyI/WEsUPZeuPL+nN3U/BuFev+heS7+fEt48jFwBPjBQfT3Q8z++iGKPvuA7BL/+F+c+uMRSv1cxdT8mDMi8ljR0vUGosT6lPyE+3PFCPy4hcT4IqGO/TMRnP4TrGj4t9Uo/wYSivncFuD27sPK+Xh0ivvJihD5zSyw/i+r4vhOzWr8wfUS/2fcJP6XD5j5e9lM/T8MzvlMd2b6Zmge/s9fJvk4lhT5YBTW+dowtv9YytL4Hl20+zlBhPBntBz8qz6I9c5x4PzqzAr7TW/M+/fLnvnTUHr/dd0++GSkKPqiR1D5LYU6/JdBgPwzXD7/JxV4/bJrYPopBi777R24/fnMvv0axCT+xyNU+yzdHvvsdUz3Mx3u/U8ACvcWNYL8RZTe+of3APisygb49gk4/27bCPoYCc7//nSq/qlSRvnFv/j4YFge+e3sAP8zjJT/jDUU/skthP1+5Qj9ckmw/wuwDPUxM9z74+xs7oSZuvz/LCT9LRRS/ZPw3P/slTD+Doy8/zUzavUkL4z5zsIi+tLdsPtPcDz5tXXg/06dAvtmaUr5Stm6/lTMRv5XEa75lUwe/h/fkvq+K8D54Xyk/ig7WvmaKjL0wS0k+pNIWv8Gofb+iwkC/5C/cvpFC3b4bQiY/of4qPdCaVL9fiK69Nn1aP+/Bfj4jrqq+E/7XPv/iOj8sBXa/CbZiPjxYij7iPhs+JtQoP7MtTL+zNwY9vQYwv7ZjJT9yXly+q6Q/P+gZ8j0rWiw+dS3GPufKV77dKmq/Yb0aP/eDZb8CDQS+QfirPjPacL6FJF4+h9hePiQywT5sQ6Y9fk1pP4HKb7+Bhla/vzQwP2zddj6kAyS+rbAEPyLM3T4twrw+RyAWP7MqSr4Uab691xkUPzzhwz1QPzy/tkMOv3H7Z7/hDOw+lGL4vnXv477Jsee9IFHJPQNOQT+3Gzk+6O8iv8V2NL7xUDi+r4taP6w04j7ad+e+UG06P5NhUb/BrqW+w7jlPuOOIr8Tpmk/QxILP5UNLL96/Lq+OKBmP6gogz6dFeW+4/ykutEodz9iDTI/LUbKvgD7lD6+HUm9qFOjvluZ+D6xee++sVWOvqUHRb91DmS/a18lP0rCOT8wgj6/5mMdvpYVwz5RwOw9QeQpv6k7er+SYuc+zvAPv494KL8wGsW+rEjdPkP3T78hJva9e0xJv5Q/Er8KcW0/Xt0tvkhLVT7gdj4/Bw18PR0VAr+dxFA//pA+P8lz3L7Q61c/wKZJPOPYIjyLo9E90psovnIber+0jQ2+BRtTP1c2xD7mQdy+9YTePjo6VL+eLXM/F5+SvjuH6z7m5O89ae5zvyWnC79IuGi/g6E6vjGYAj/GGT2/2M6oPmsALb9Mz9i9+3MJPx8ZZr7f4Ts/pwYnPsSf8T5mK6g9HKAvvw72Rb5Sx/G9JyyjPluccj+eWkS/ymo/PwGM4Lx/+o6+M2f/vuPT0T43Lcm+RzLmvttYGT9DyCS+ZT0WvwkIjj7Aq2K/ZWsEPpy8yb3nnWc//TOGvlcL7T1e1AG/EmV0PscvYj81Ob6+JkBgvxgOXL5lrcQ86B5vv8z98L4iAGE+E50zPVPaAz+XXme+fpKGvnCLfT/ZVdS+lfNXP5S0A7+telG/gr6ZvgI4Gj5+r2k/cTl9P7zqFz+dNy8+llntvhTC5j2Gw/E9lygPP0FKLL31CMi+U+ovPxqDQ79Hvyw+FPoBP5v0B7+npwS/GNNIP5kw7b1lFnK/MQzCvq09KT+5Bjw/2WKmvopNS795JqS+eQ9qv5iLIT+5DSQ/LUEnPzMdUT8h9nM99vENv4CTU7/PuFC/u06KvpZt0L4rroM+7gkgPxOcXz/UBh8/plJgv0dEWb+K4ma/vdNkvnBKDT40elu9NMSdvl0ESj/qwSY/85wNv5QErr4aeQ0/HCk3PmLGTL8JxnY+hDYnP2o4Jr8TTCw/AGdBv4HZJL9MOSs/4Epbvgidib6DNi+/BQ8evhCqBT83KWA/+GRIPdnYW7+nBgk/9tdePtpYcT6uyjW+Kq+CvZv3UL+mQHW+Mr4mP749f77cMqG+yOGKPgv8mb7Lvo+9aSsBv/cLUr8thVw/ppMDP3a6FT38sja/2JGWvSvq772PiDm+Tc0tP7YYBL/6YP0+5f3ZvvL6Bj852J2+Kvj5vWXMHT9jfjW/NZ2EvpclZz8GnHO/wTM2P5MkZz+3Sw4+pWMSP4s1wb31aIQ8gT5mPr/Ajr5BtT0/LUQXP4ktQz9Zh4o9+VVtv1yTe78+poi+aqocvZ6mJ76XX7c+GTtEP4bZET+l0wc/C/zYvjNn3b57H+O9ilp0Pttal75J/xC/Fq7DvjBrPj+R3TW/ZEJNv05JIr5/642+S2NSv2WnbD89U/Q+nEMQP7jNuD5/PHk/qtyAPUzCBT8RqC8/XfYdv+joGD5/QJg+wkA3P2DIC7+fXtO+UKqGvpz77D43bEi+CKYXvlz2aT/eMR+/5VGhvp4d1763lSI/68BBPzPxYj+ubIe+wAsJPkKToD5mSTm8LFVIP/kbqDq9DUq/zX5YPLCCvz5qvoU+N0HwPiOR5j4MWBq/1ynkvu/rKr+fMzM/QTz5PUSXEr/oYvy8VrxqPzpnDz9DNas+/2kGPsWI1z5k28++wnaJPgqtWz88Gf09aKsOvz+YYL9qfJC+yYSrPkATBT+Q6Fs/djQSP7VAkz4jOj4+D4l/vwijUL97IwY/v5pxPyFEIT+L4VM/jfAyv77Q2r5jSUC+XvE6Pzl+Pz/pBCm/zUx3P+Yecr7b25Q+awsrPkO5S7/njjs/GgmxPg+dOz9aJ/Q+Os4qvrEqWz086hq/AMRIv58eQr+drRA/bUSxPl6yJL+5NG6/6B9mPqin0L2MQ9Y9T6wyv68AUr9Y4wK/OCsWvSRADb+zphw9GJWxPTAPQz+U6FY+oRhrPv7Ugj6UIoi+dCbLPm2ASz8YWvm7WGfuvhW5C7/5KYk83DhcPZTLVD9hL14/qxdYP3XUTr91qBy9nYAxv0EYGj9/44E9goVtv+cR+r7F046+3cNdvwLXAD8eYFq/VUNcvGdQIT+FQbS+Nculvrf3pb7Dpzs/uzBiv/pJvj7/yFA/lp13vyur0r4p44e+ChUFvjF2xL7tg2y/o/o6P06GeL9Ofp29LFgbvwpnbD0fGGY/LYv9PVUhQj/7rzS/YdlLv5QS/75Uojy/g7nTvp0+uT4IMDQ/VUNcvybG9b4iTr4+iiWIvntKoT06fnY/cJ3TvcgV0T0iSLe+tAXxvvJuZL/hd3i//l/3voRkoz5d5zC/3T0Dvs6LDT8J6ci+a2a4vsp9Bb+TFCe+Os9Rv+zdET/kPna+WM1yPxWfbL8vp8O+zq79PgTik77u706/63lGv/vwLL+vTPi+aRn0vpUHDj/j3m2/zJMUPaN7gr2nE2w/HHDlPjse6z61SFI8NxuDvnUesb4EjkO/VJKyPMGr6Lxq/SA/A3EAv/hA6L3Q7mE/FuMvvY+WsT7fKhG/4UXJPpCvQb8hDdQ9rpiaviCyH7zgXBG/B6njPjHPCb6RtQK/c+yWvO39r75tlGG+hBUCv/DOMr9hPQW/6LPmPn0ngb5J3jW+FyCVO/dQBb+4+h8/Ymttv2DdPL/utko+dHk7vtRVRD+f9T0+/RlpP3UDi76o6WA/HWx+P847eD+lHZq+i3r3PgGQTD/8g6++XHNav0EEtj2dxag+cCH5vvIpT7/8A8Q+Ggi3vg49gLx2LuK9eOmJvaWMob1c2pI9JnqsPkbsE7/jl4G9I0CcPnKfRr/XFUS/GgFGPq3z2z1/C6E+STjmviy4174hRyu8jUJRPlBacL+V93k/D0g7P8jPuD0pT10/oPr6vTFl2z6k1Xu+S/QPP/mSBj6C2Ee/9qD7vi8/O78NwQq/0DKUvqdzDz8BmnE+kJ3hvp8jIb8aMEK7JThMPqMUJ76vPka/rYQ0PyYJMT6FyE8/qDxPv332bj/nmz4/hk4iv5jpYj5E0xg/GtDDvjggSr+TQgg/wSwdPmV98T5JK3091YRJv7vqCb+kQqa+4+Bzv0YJYD/OZGu/SmfmPvqzOD/5GAy/IvGuvouxjL53kHA+t6Q0vpoleL+gYxG+2BVRP4tjZb9QgKy+OntLvsZtLr/FUwu+UqVCv0kavb6Lpla/Qhg9P32H+L4InhU+NAInPi8QCz4uiXS/X0QXvwGXG77yoPe8YDn7PRQ7s75m0dq+Dugbv1Rmub7DvQ2/VaR4voxMrb1fzg0+lNXZO+bvND/J6cS+lZz7PVMQVb+9Gx4+9z/nvYukdr+TbSS/A/nYPiqpAr8V/iQ/fDE5P+zSOb1BaDG/fcz1PYeE/T5tLem+WM6OveVdWL48ZIA+Nv/mvvXQOb/g9ky/Dy+LPpJdDz8t+k2/i1w5P6kW5b5b/K8+5WcEPR9/sL3/sSq/ajDoPuKb6j6/biS/mNIoP8MfCr9eBLO+m/7rvmmVYL/pnU++iqZYvy0I0byraS4/VLJTvCAnOb9EFWG99oXhvp8mZD/ndMc+PoCyPr5U1DvUlHI/u2chP6x0d75X6Ty/DJTSPK0ft740DGs/0WqWPtD7E7/HWca+UfESvhgVjL4TkVc9khFwPwO83b31hFI/1U1dvi/p5r4hv9c6YA4/v1HmjL2Iale9JZfGPcQbET6LwDE/mVKevbckzT6tlZw+xCm4Pu6JQT/GK24+11Bbv8Gr/L6xY2w/F632Pl/2pL6sp6e+NyNfPq0HGr1zXBw+JmmXPV3lw74g4EW/NhPpPSsDe7+Zgs495Y7GvkLdwT7KoIW+jmFxP/ht8r5gV/u+ytflPjyYrj4QSX0/wDWSPvIbdL5VMC++NKtNPx3VHL/tInw/H5Ncv+OLlD7DkQK/BHUIvqZrRj/ycxw/XuyXPq9dKL+biFq/51lPP4zpjD5rdhY/YDU3PkTiMr7XQcK+g1pgv3Xa+byruDE/014GP25NVr+uBl+/hAoWvpnQRb7gLJm+Fu1Xv8KGTD8ZFSm/SCORPMZuwL4sH6c+0X2EPpMkXL/FS6E+QUxTP719BL/wmVE/OOKSvpkihr5f7SU/fLhLvcaJmr4mOW8+b2x4P+jTBj13s0u+jYVPv2/spz6m8Wo+JPY5v5/pSL8s0KA+PVHEvkUQVr+V92Y//rTmPb+4vb2R3469HNQfv639xz7QRii+Z5b8PikCgT5tUBI/3gErv4rjHb8pIG2+vNo8v1/tzj4TUH2+rNh4v78PKb/fTV0/pmdpPuDyfb8p4nw/UK6ZPluPZ7/7TQW/pv1KP5aQVT9a9SA/CvqAvs9cRz9hjX4+rbl+P8WwN742fW++sDjbvCrcqr6we6M+/85HP46uTb5lq2G/lZ+3PqkaxL526Ue+nY0Cv4lrmb3MRL++bOcZP+COfb7PLUK+tCW0PSKbXr/c2KS+8U7IPAuJ7r4FtVe/+J9Lv0/afb/BZo0+Y/ASPwLPAT/O//S+ltstv2ecPr/uvOQ+t/z1vfvGZ7+CZ3M+AUp6v5pccj/u2CI//CL2Pm3xFT8fH02/bF9zP7vABj5i0XE/rfnlvmsScz6KXy8/qOv/vm558L6AaGm/ppnuvRGKPr7aY5A9sMVmPlfHfr0wQRu9Oka1Pi5Sbj+0mea9prYOPnLEyb2XhUa/1IfSPmvOKL8xL8E8CYbrvda2073LGWs+qealPv8Bb79N3i68C2oLPzKj9L0u1Sa/6VRev77iTL7xNee8mGh0vX06D79WSLq+665Fv32sPb9Pxzk/Z9nwPREgnr5+ymm7YDs3PqXSTr+N7FS/caAhP9x1Kz/MBxA+XAFyvnckA79C/FO+rfXGvmpMvr7Z7ze+ZK2uPX/WGz/COtk9vYhpP8YGdr/IPGE/n3JIP5QU7D59Flo/6ZtNv0BcBL9ygDg/eGWwvndF476PvKw9FfY3v0cKJr+hKEk/TWgAvsGu5j70uag+dbN8vk4Y+D5Prbw8OG8ZP11gSj0NbHs/BnGmvt9wfz3OJX2/GVA5v9ztdr8gzx8/+HNBP5JkBL4Pv5m+rCIuv2dpBj+rbB6/wGVOP+JTPb9p1+O+m6TwvPxCA79NZMy+eF6wvk7CTD78h+Y+59s8Psq/Pby4jFU/1MV7v4jlxb7MwHO/NNfUPm+dpL0Clpy+btsXPRXnRr99AnC/BH1lP5e8Yb/6ibG8+0M8P29Lyr7xPjM+jBGUPtG0O7+b6+C+NZZ3v2bqDb//a5y+joDUvmhLZL9CK2q/l/SxvigHN75cHSw/Bj5zvQz0UD/S+zo/mkkwvu/npb7F9MS+xK97v4mytz0ISm0+Bh09PyKQsz47c7q+D0yJPr62+T4DoSG/V0T0vrvDkz52Dv2+mLHsPhpQu759YlW/Dr7HvqMTvz7B31c+qKquvjSl0r7ES0C/46hLv1/uRj/PiO8+6mB7v7eFCT45e8M9T5htvxGlFb/wJTi/aXH+vvIn0r7wW08/fwotPn3lRj89Heo+AkcuPwSPSD91t2W9+xEJPzJF/j4wnZ2+TiSnvpUwUr9InM2+KKkEvzNj0D7PgGc73XR7vilFAb/d7h4/3msNv6Dqvb7q7ho/ruWWPlRFOr8+ttG+wPQ/P6ZzcD8E8DC/LIksPnrxVz9UhGk9h3NuP5rONz+EN4Q7A9CmvpYAKj+fXLK+WQBuv7KsBD9GHXW/C9MUvzfkXT/46Dk/Lb99PoZmrb2WJk2/+Yg8P5xxBb+b11m/9D/0PqoBoz76pye+bJtnv2dd9D4swEm+J4s+v/1oq77zLA8/4y/TPjDXYz/I60e9hMQbPyGsar5+JEY/t2tOvklc+r7YhmK/wKM2P2AdWb+K7pq+1XT7vmKgUL8Chay+WAz+vhESA7/S2ee+2Y1TP+Wl+zwgo4G9xZKwvcrcSj8F0rM+WCQvvr1/bT1H/8g++dYsP3Qbxr7fB/s+CAgKP/qxyj4uwUi97FdJvi/ogj6Tvh+/HOoIvkSweD/yDjE9FFoXP6CmAj9+Rn0/wAWpPqhxPT8/DB+/wqhlP+/QDj6k8Ps+HV4RP6jiFL/HNVK7EG1AP52lzb58gC+/LJUJP7Uxcz+nxWg/s98JvryP/L4sfIG+/hllvvWJJT9Cfi++13wiv3k1p76aUmk/VbaAvmTjDz32SMc+PMtCP4azu77M6ws/X/xFP+CuAj4w6Iu9Y/ULP5SYnD5JxTu/50ervvZNcz7vu6K+vSUUv4l6BD8hfGY/hvNFP9lG8D6A7SC+ixNDvrv34763VFU/jMhfPrpKSL+KIBU/jJ1kP2AeLT/LYH6/ckXBPr7MoT6pBZu9rptnP/tNSj78xn6/p4zpvlUuML7e6oQ9k2PdPcWsYr/jORE/ijFtPw3vMr+3f6k+1H79vpXc8L6zNag+rPK1PeWMVj/GvxM+5t7pPrUL4r61948+qjN7v5gHcL46EEU9YRlBvjIpfD8LQ5G+4T0Dv+ffVD+/Ezy/zAV/Ptz3kb584iw/T3EKPw3bYD+y7SC/V+Kovpp6hz3lC1k+4dRhPw8jBT9v832/HPuAPn2jIj+uZTy/0Hksv/VGxbx9rWc+bOgTP2eVLr41iei9ZSwwv5kwxr5zuDQ/nNyCPsokZr/OCaO+DF5CP3jNYT8hMhc/TJlavyI4A7+Fi0w/3OhAv3XKTL0CiRS/SQVHvzepIz9UvFE+3TstPypnEj3afz6/ePYjvy+tWb6YzFy+PK9WP8JXlL6JQ5q+3INTPWuCxTwpQV0/4A98vxNujj0erBY+boCovvbDq72bOBg/wUVKvcuARr39lEW/Cp5+v40wRr9ZLgY/BTJ7vknotr7PeUI/M5JfP6Yd3L6wdqO+AiEzv28qTj4CzmI/vCunvkC3vD6RKJ6+ZP/wPCoUrb7l6Ta/Ukohv7SvWT6Bad0+Af9wv8LAf7++wHU/QXYcv0jBbz/k2YO+iH9ePVG3WT8tJz+/0AeaPs2I0D2fGAi/gYQ7O2WFMT+h7hO+rM9Rv5gVuL4LQzY+annwvgh/yL6PXYm+amdHP4PeEr/fNxO92hm7vujxOb/Up5y+i1NcPwwWRT8G8xo/i9RZPsd5Jb4+9os+wAKAvlGtED8SB9M+hRxbv5qfeL+ej/m+n3kqP+Hl776OW1A/nO2NvrW7tT59fyi/2XVBPxXZFz8doMI+5PcQP4lYOD+46ps+n/rZvgjtkb4+1+o+AGYXv6mYDT/fMIe8woyLvjNLZ78RWi6/3KooPkLLtz2qtA2/U+YzP2vpc74qRC++h77JvkU2Vb+aCtS+VMrzvlH/GT9YbHS/80hVv9QrND86zAe/LRtzvyyXNT/JzM8+EK8CPuf9Tr8aLfS+51MJP2GncD8iZRw+xyk4voFyWj31NCK+e5hhP8yzcb+gyxY+LdfTvbWpMb7NXpc+mA06PxAe3D5vzUy/fVMYvq99Nb5nNBO/N4AEPgHf6z0+PrY95N0gP3oaNT+MhlM/T4UJPt2YXb+/6Pu94KwfP2bTTb9KHTs/oNGEPbgEl75NY3u/FePjvt4rn756Awg/GI/nvqSWD79uIfC+9816v9P27j7lYfg7qr23PgLEaL9VEUW/nmFSP6rNFL5pQvY+o088v5I2NT/tmkc/3Q3xvcdDkLvkYWO+ewnEPsXGSL5qcnq+BTpPP1c8571ixyQ/KRLNPoRbFT+J4je/hwxdvtRC2L1MZF09gEHgPYhqg77mGVy/oN5tv3fDnb5hyNM+L/fvvjwMq76Jqv6+p5FBP/iuVD/Za32/0RP8PsjFd7/HMjm/8ajjvv1Wv74dJB+/9IpjP+wK+r4cAOu+I2YPv3vIALwsTnI+jiuqPgIwYL5XGfq83vdqv5X0Jj9aL7S+uL8KPyJscb6TWBU75Kldv/rXQj8W3na/9NXOvpEru71bbRg+dOOAvoNqQD+DLkG/uCeFPmDZoD2BfXy/TOYDvzt11L41yqi9DZ0GvnbBD75LAWg/iHk3PnLfIT4EjhC/Y9w4PSNH9D4oVQs+Ikb9PsNRpL6tGiY8QfvFvps+ez6TJb2+K5L6PoGKMT9gpzA/kJyVPtqEO7//RXE/6ZR7v1dfaT+FDGe+0FpZP4M3GD/kfRs/gdf1vpKIhL5LSy4/95YyPwn1Q7+0dqU91dNVPzxXeT905gs/hG4DP4dRK79BSfy9uD09PCw3LL6ufSA/ttN4P7NQZL9ZLOI9ufgbv/dp5z5FnBE8vs4bP30KOD8M/js/U7IEvuMSID1XjVY/JjQKPJWqOj/K+Ve+Pv7iPvCHDT/wM6I+qxTXvgPuEb6ztS2/w01HP41bn7xbFSS9jXIwv3dI873Geki/g5OHOp81o75//t0+WuahvhkQQD6JWUW/rtz7vb//A7+GXVY/90HNPudKf76iXxy/OSGBvTG3j739zze/MrvHvmuVKz9cqHA/mc1tv0bECr0hiyS/k6cOv3fKUr88Ky+9zQ0DP2X6Or/tk32/b9z9vtyPYj8GLqi++F1GP0Q/HL/0MfO+BM1lPDhftj6Ehnm/PZULP1QX6L7J7w0/szV5vppN/D3fgXI/5ABFvlD8BD7WHcW+kPYbPxUHFL8ZRlA/ma+nPn4TFr8djDo+rYoGP5Pr1r3yuxS+FI9UP6VPfz/ppQw8GUtxP+00Lb5USWU/BxhMvx4lpz5ARfm+GcDsPQC+f78QWxi/RBQgvgwd3j5kMG+/gi4/PmYwz77PWL09NqDUvsz9KD+MCc2+L1GIPppqkb78lIY+dytJvztVAz9J07W+O6P1Pm3NGT/am5G+z3T2Pgz3Ab92zTs/VIM4PdpTez8hKRa/+ASNPlsIAz8rSGq/GekFv1dDyD2qCN2+CKVLP7a+ST0aGZc+tlWzvYklkz1BxDW/oB+wvoGiXT9mXiw+vuonvztoBL/96Vs/q6NZv1rc/j4dqkk/r2kuP8P/Uz8kDmu+jVoGvxyIWr4GJUk/bec5vyIXdj9FQKu+NCoUP0fCur5F97i+YAsNOCxniT6bRfK+3rNYPv9IHb9TED6/jEn7Pczr9j56sh0+Llr5PgLs472ZNFK/J4b6vmDLZb+89SY/80DWvUlI1j79QXU/ZL0av2c85D4iivi+DPRDPs3UNb+Wpwk/IFhJP2iWh77Mmqe+aNqjvtsdx73gOgw/Cd9WPvZvkz1f0nA/f4aEPqBQIb2uF5q936DWvcwNC7/4pCo+jNcrvmwrVD8857U+fqhBvom+Oz9aGd6+PZ37PhbODD848uy+g2iAvr24Gb9SxeY84Ejcvr8Qa7ziQau+7q1tv4sBuz5j0Uq/3nACv+3BDT/xhFA/84Q9vngMsT6r+Xg9z25UvqW2+j78A70+A0UVP2iSNr8YzJ0+wYpcP7oVQ787muY9txABP9NR3b6uEOc+ylv1PjQ4Sb/3N2Y/zT+BPscPST8ayx+/Cy52PjHoiD6Bbfe+73cIvx1lmr7Ugzs/rxIzP27SnT4GTr0+uzwPvxY1Mz8Pomm/t5s1Pw6vLj/YQDq/hmdcv3vNPL/ORzg+ugJXv4JVubyYha49JM9WP5o4Zz+8Jq8+9wl/v71VCj8Xe3q/+veCvqhGFD40Z7C9ccUMPr8AZr+Bcee+qXAqP7l2NL+6934/ntpzv7nt7D7Ev/S+ZayQvoLX7j1o3rE+iTIqv/HEjj73xaW+dOuJvcBznb7o7Dq/lYZlv4efBT91Jo2+mVgnP5Z8Eb4Bp4s+bWkwvyBOUL7CEJs+wJCmvlWcFr6oGDW/fy5PP23sMT9dKte+gmQ1vxufxz1D08k9iWyKPRfTVT+l2S09iUyJPr5EAr8vTdG8QgsPPxs+cL64mjc/8IUyPtdkgL45FNS+DR3ZvUesOT6Zkok9sb7JvuRqJz/RpkM/LtEzv23ZH79zL0+9CXoNPmjafD9ZtEy//6leP8V8AD9UVRU+e9SPPR3YPT+DX4S+gXT8vd0ndT6eYHc/DxBtv7L+Dz9Zbmq/NwEnv43/Yb9aEBA/dmw2Phct7b7XFwq+1HsQP+EEWb/0E1O/YM1Xv1sxe7/Xlz0/ScHPvEWlSD/AzA2/GK4vv6eb0L3nNbW+sYZEPmm/Dz64UAg+5QZuv/vJWj9FOgg9PvRev0+R4j69xUc+ukscvR6lbL7O5NG+FuI7v5wsd77hxbm95UohPns5/L64+3G/zL5dvzazl74X4gE/Vhozv+XveD0N8gq+vIZJv7CxHT8d5js+/fVsv9WD871LhCU/KvLuOx70KT/1sBg/pwUsP6QRnb3DPg4/oYMjP9XgKL8q4D4+Np2kvtdBPD/ceiK+3KYLvwjYk70RI9G+bY1IPxilaD9CT+g+/Xc6v1QR2j29Fg8+guztPTAheT/K+EG/L1axPqsCfj80aFu+ChvuPojLYT/3632/P/u2vv0ZjL6WJ7k+Omorv7TOBr/S5GU+x+CnvoIgK77pRVs/90svvlX+S75GVDu/4PAhv/hW6z7e6NY+0vYFPm9W876crV8+mVuzvlxghT0FQD2/cyusvhv4U79+u7W+hlAkPzZr8D0YKSg/Va3PvukzRryjMA6/81c9PxHUJr75hyS/mJ4zP5IhSD9UwQ8/LtxAvzreXL9XKSa+zN5bvyEDC7/3t+S+XjOhPObt576VuIS+N6ctPhkQWT+KiWQ/r/UAP7sHmb6JqD2/wMvFPm117r3GdzG/EbXIvjPuUD6xmWq+ZCFAvvcxBj2Mahw/CcK6vjzQ9LzDxHE/bHYYPxqPXr8Od8s93qHMvTe05jwG0xE/G3AOP7numb39XA0/Pbswv8UG3L5y+Dq/QQI9v8ldUrtXXQK/KJCdPlacLT4IOnU/Wy8kPwERG79Gmvc+szUev4px177tihO/ZvA1PkhhZr/9hmI/+sKbPnscTD8EMAe/fkx/P1frD7+dihu+aGVpv5JvOL+FUpG9WmcvPzfCqT6XmUc/s45yvyfWML+Vr+W8GHzBvgDQMb+FpCA/QOtwPy5NJT9RO/u+n3gGPmczOb/kvtE+0Gk4vof1YL/Iga8+nBDWPpy2aL48mFO/7tcAP/fhAb5KOD6+rukCv4bFCL5wDl4/MJMXP3ePGb8hqeY9KqyIvpA4XD5r46E9OIZMvkh2HL5FyCe/DL82P/snaD01SlM/FgBkPyEYEb9CsnY/MLUVv5n2Jb+x0lI/E0UVv/zTXT7I0ks+2GMOP9Dgnj6csKW+4GYWPfeuXT4/ZPu+VpEdv3HTP747MtM+WmEJv1N0wr7Hyk2/EKgQvk/bAb+5kkO+7aoEPidjH7827zs/IOVTP3qt7r4Ez0G/a64CPtWgWL17shu/ewNsv820uL74ll4+EcJ2Pyo5Tj+PUQC+SUILv89Gd7/4qK2+TQjMu7iWVb8ZTa++ccyyvdYuhb5lAzm/YdUEv2UYOz+G8yq/MzSJvRrmID+YXVc+EDnFPbCdD7/y8MG+1uCXu91jYj+gElI/ZDYIPc/ddL7zByw/4aBBvtpNKr8GBlw/Lh2VPiCmOr8Qqy0/UGldv+B0wD4aTAG/fdbSvhwXcL+KJcg9FsMnv4dKs77bAWC9jdQmPz4DDzz9vDi9VmxgP1lXET4OkjK+wyDmPXZQHr+6gcW+dAdBv6tMO76yo2c9swiHvmu5Mr89TdU+2bRvP3gWML/2MmG/GOZBP7l9LL/Q1z6/dYDxPlyxmD0Rxpu9s778PqW9Vb/2Dwg/oUTwvTNWfz8tkHi/QvU/vZ5qNj/LEQc+MN7cPhDk+L3qUB6/T/F3v8z8KL83QgY/NtcnPph1eL+GeqK+zv4gP9/kST9V3F+/N74jvzTAXT8dxUu/Llc2v63x37x6t+4+pMJeP5+KnT1L6dW+SNy/PraOTb+glgU/bYKiPhc3CT/S8G4/NHENv2CoIr/bQCE+2rtxvjhqA7+6Nm2/GyQPP3/wdb92FSO/f9doPuA+Dr4Q8QA/4MRBP9bpUT8TXiA+BoPePvNvlzwusWa/ev2Pvi5qBb/2nhw/un1nvQMkiL1cjAW/g0Q2vluhcL/0slu+uMo7P0q/kr7C+dw9y8M7v+vCXb48ZF8/HooZP0ytMrwnrnW/WqjEvdf2V74sT0k96pZKvy1paj98IR2/JsCgPlpyUb4iL60+10Z5P5bsZz9RjaG+lc3rPpXXs77/Ivk+xVhBvw1qPj/J7FC/fmkXvwWgTj8SHkA/UXcev4/DLr8VVGS+d9ZBP76zZT5ZwYK+I+pJvwNkJj97LDg/oKQuv5eslD5R9Sq/PkjsvYXy1j550k8/JnRsPzVIDL+OfB0/HtqjvgcD27zwDBU+rvkDv2lnir7ASga/b5qHvm6vR76b5AM/O1o9vlnWYb0XSxE/F6RNP6BM1j3A0xs/D8KCPlDkmL5YjyE//rr9vi/gAT4nNQ2/e5YdP/5c7D7j9zm+uE+tPXGnRr55F0M/jQVlvhPzFL9IGFk/G5gfv1OOuT66IlE/6s1jP75N4L4efLE+FRhOvwHYTT/7Ao29OCglv/Jvd7/tPFY/3qg0v4GDQr/wk0O+4WYDPsT0ZT+Vh149LW85P2Hfcz/D+iW/l610v9D47r1F2To+CkY5PmKDoj0lTKa9tAL5vqRB1L7Bojm/SCEsv25B1rzBBX6/DBsEPwx2cL/owA2+C+LUPiwbPb7eQU8/h+zBvssYaT8w7GI/gZ4avxBiJr86pnG//zQmv4Uyg77HDiw/zZncvhbJ6L75cv8+1+UEP8SMCj9fAqA6E+sSP0IZM7+lKxW/xBJevxC+zj5xu1O/FlAuP56tf7/K3Xm+w7AZPTi4yT7QwNk++VQ5PzmMy74RTTm/2EGiveKFE79UWPa9tmxMPrQ7rjw04+C+XJMhvu7E5j3IIL29p2Vevzh7N743xVs/WdpbPqhfCT7R16A+8Mvbvoe/tb2gv428HFJ4Pyu1Jz09n2y/OR0NPyvwCT/tY5Q8fmgFP2zd6L4JY3w/PFZdP7XI7j6a1FI+eFZXP15jez+dTwQ+PdzHPctgUb2s01u+Yef0PW+8lD0hTBK/ZbgYP2PLfj/wd/6+qaQYv9tgJD8iFYW+W18ev2iP0b6LZUY/4n5zvl0MUT8U7/E9z7o9vhFfWT50yTa9Bcxjvq2Jkj27JVy/lBapvnAWiL0xjRC/F156v1Kc8L6gQMU88YUpP7VCJr9o916//dNGv3xjbD6AGBu/wd8FP1+0Zj+el/o+WSWjuwKIGr5mfwQ/W1t0v3nkWj9wuOi+5wUFv5KAY74NmBG/C6YkP7PTIb92eCm/qlG7vpwKd77TAqo+ZwFSPy2XwT1aUTO/QqfDvmmURz9jPky+9YZuPkoJE79fB2u9seyoPjK7GL8vibA+OX4BPwPlSz8AeQC/3RFBvwKJ074ZNXo9KAoiv7W0QD5LVs67uYyMvtcBZL8/ImU/lpcEvqI+Gr/S+p8+mjMnPlHJkz6ohh8+d9RAPjSB+b5MbXc/x+ZIv5LXTL/d9EI/PG5dP8dfMT8NxTI+eEqLPvbmLT+zmyK/fUIAPw33Az9jRNS+aZBtv0AqYb9/W+o+WzBDv7fXIT5O1Z8+Tn4fPhFYVb+jTLc+64lMv9z8Bz/PiKG7LZY4PmsAaj9kcBU/2FKjvsq0tL58Wa+9pqUWP4OrKb5NOku/gSDyPib43jyI4Zc+W4VeP07/kD6jgeE++jkAv2Q/Fr0RzAS/zq/dvj9ULT5U1dc+ow03P2CmYT/kWHi9msP/vU4HJb4KrQC/dmXgPq1U0r0Yvc2+DWslvpVqlL6jI2I/MhwyP5T8qT4/83u/rCghv2g01L6CzYG9g7REPn2/sL5JZ0k9hbQGP1RuZL7oyGo/yOTlvVYH9b7QV6Q8JarYvvb7AD9e6nk/I5p7PoMcgz6pnp6+Yf8DP40lfL5aSRs/e7c5PhX4t76UyTi+JjUUvWc3XL+RZ8q+uogfP4BtVT+i6rw9lBS/vvs3+D7ZiVy9+us7P79m374bLQM/68wDvw98Ir4SdPC+/SA9v0FqpL2o9Ty/1CUgP7mLfz/VUS8+idllP8I/CD9KPRi/7lFrv+y/ET++fXS/W38pvvcBbT//PjU+dD+jPXH/obwH8TE/FTQMO35hCz4RG7U+qWomv5ihGj+e7gw+Jp8GvtEbG7/c1f8+lFcUvl/U5D494bs+c5vMvqmfTD9+O/s+OEbLvWfUBr/I8YQ+VjjTPr9/Hb/yvmw/C4FDv78USL6NcDm/7jyjvUMijD7bcl2/Tz7MvlySSL+hN9s+teBQv/dXDD+XwkE/aHNJvllaqT4dcEo//tazvq+zm7wlcDk/b3xSP1TnnD7K/IU+9D5wv9eRaz7dAiC+r67FPiC1e7/0pzM/3AQJPlVpyz1eAqO+XMFcP31gFL9/HbW+KqIxvW4Zvz7SCt++15lXv/uij76U+Zi9QzAZP7BuSL5/epA+eNvpPXmX1b4m6Qy+E1XTPW8cb75WhTi/lM2OPscbLz9FDLA97/DyPhNBCD/5rJS9BQg2PbEvkb5NGFw9OKXkvjsiDb+nNVw/+mgDv7OpAT/bs5A+PaE9P7eUKr3f5W0+w6YsvW16Mb42RmK9Mawiv+YeCz+ZV8s+F3JLvxnNkb5XPni+kFYvvzW+gL7VzWg+VSZuv2lFQD8+I/q+Gb4Mv+fcPT+Vy3+/NYUkv66wRD/S1709Xlxevwt4PL+pUyk+XxUQv0zHW76Txl4/f+5nPoEbEL9xnpi+QiJ7v6OnNz4rBkQ/83hGP+rvML9LqXG/FyqBvG5Nb79xEGA/npBQPyMRT73Jjxc/YUbuvj8nz71VroC9TVEfvpzqeL+4Jxo/vyRDPYqO5j4B/8w9fHI5vjicWb+0Kii/smQOO2uEC7/h/CS/ngZwPgZcIj92482+yAgbPlwO3D5wHco+XlSPO3lXQT9iN2g/VLKPPtaFHD8fawS/7ZX5vu68yz4EZxC/1lzFvvK50z1/DWc/JkdLv1YWcT+VSyY/pv67vrD6Uz0XsvG+orDePGz8Pr+2fxO/D6DvvgpELT8CoU2+f/wVP/ZKUT8jkS0/5WZzPzcKUb4KbwO/dRcyv9s54j4kWT8/446NvmDaCb+tW6A9RUJtv5jbKD7un0O/XfJrvutMc7+2sEI+CTUrP79dPT44Jcu+J/kxPjUrBz+81Dm/nG94v5o5gj1mx+2+6p3EvryXgT0VQVy+bqXYvj58Bb+dTyo/gosCPoqWaL8oIc0+a3lHvYEMbb9r+ok+XMl9vjrOPj+A3KU+wpuCvqOkpr5eA9g+qozQPmYbOT9LN6o+TxgGu5hXlL5V76G+0Zw+PZhIqr5ZYXc/iLEjP7mWKD6/oEI/3BPOPSShnj7fhhU/oA4evmyXrr5qGCe/UEwEP0Ujrz4Iv1C/yxejPL3iUb1WrHS/RKFUv2KrBz/gmGk/cqMhPpdcR761MSu9Wa9wv05naz5kG1i/iYwaPTAkE72a23Q/IAHgPfCPO7/3R+g+xkAgv+3CP7/YAIW+srcwPwXWdD6v0oQ9D3ZMvMCkO798Y5a+noiVvip/Fz8qsKc+wIh3P3OPtzzN5wQ/Z3S+PTvJf78PRna/gvI6P0SXv76zlNg8bd9yv2Bqp745yk6/JH0Hv/1oPb+F+lA+wd/iPO/2vr4XUk2/eMqUPg3pvz5zD2k/V20IvzK3Rb/XaeE9uHoQvyaZ9T0Z+wI/bJ1/PjG8PT/musW+cnOiPsvTJD5mhH4+HZ4tPvtgOz+450E/J5xyP5xNtzxR6VE/EgFMPDzRtL05uEI/+W2RPhTyyD5iSnO/yQ4nP/FViD4hKUk/BZNQP+TGzL4IBfs9PCIMPqKbjr7VzSQ/wZoJvwdNAj4Qag++kbJFvhKM0z5b8zu+c/aivB5iLT/IJzq/McPivv5SBL8LjEk/ZH0fvYn/Nr9PQDy/lX7CvAxdD77q3TA/Em0pPz0xPL48Jx+8Tq6yvtcVnz44XrC+0V3FPmxMCj4mLtc+SkuFvunnyb6aLA4/31l0vx8wVD8xxws+GJNlvhyVxT5pSqo+dldfv8Fofj/+0Ri+K6Z2vwkMN7/YHBG/NIpoP6ECuD12Nku/D/8mPqYPU70aKCu/sTnhvvPt077vf4o9uxAZv8FZDj9L+te+aklMPr+2eT+khU+/tMjkPvK4Ub5EVg0+UdhFv03RS78rm2w/8CVQv6zrbT4b+vG+cncjv/aVfT6eng0/HXTMPvOOYL90nW2/5GgkPsX8ar46gK27pNpkPzdmab9epa0+lJJVPxdZRL/wOL++Vun0viphqbwybD2/M/EIvzV7Jb+nyOa+pncSvxebAb/4pRk/6SMZv8VIHj6b23q+Y3d5P9laKL8hhjs/347ivs1haj/IptO9L4luv1n3+j4ZQoc+Haa9vOz5Dz9yHXA/rzI2vwPVOb/d4B6+2C5yv1nInL7s9Sc/7OUOvxsLY7+5+wO/1JZrv7TXb7/dW9G9zuv9PoFzJD5zjTw/pbQUvXjOV78LpEM/TQU6vjd5Er/l05I+S0gfv1doTT9R9zG/GomUvuxvDL68J9S+ebnfPpS/7T4RDgW/crmuPkiY675rO7c+CiWOviZ7CL9geGc+RvWmPvWGLz871Ce/h2EMP7M7Xb96Rji/Lr15P4OB8j3Ir9W+v2ovv6n1Qb+Oxm8/v4u5PpFmVr8fK6C+XFZXv4U9Sj9OeKy8yp4kPS+0or6TagO9gotHPu5jKL/hfTM/lK63vmAIwr7G0xs/rV5ov2AtOT+npyu/84zSvX1gvD29PjE9tPVFv/lNMz84Tny/7E3oPZ1lKr+2q+W9SUNTv//hK781AME+jL21Pu7A/b7bEyU/CV8wP6DaTr+fKrq+wyAMvxlgvL6qXR8+MUO/Plv3Oz4lNGy+CL4Qv2U9dT80l1C/+4hAP30RcD+kewy/a8oxPzieIr4hgV6/dPlHv3ZKJD9qpki/woB4v8CQPj89Mh+//vJIvyBeYz3nXNI9fzFGPrqlOr6qXeG8RzZBvpT5Nr/NSVG/SsFEviP3Or+AKNy+Yutav7Ib7r6Rlxs/jiRvP4l4RL9hXb2+3o6jPh5T9L5VOK2+Y5oHPx00CT9+GTY/htlxPyEIAT+TzHi/ep90P5ea7j7IO6C83BzrvpDboT5+Hy8+xhOrvaOAYL/1KWO/abB0vWEhf74yfm09jTvLPrQBgr7BD2o/Rl1DP1hrKD/fp2c/BhzwPqsgrLy7nYE+HmpUvl2APz+mHU+/R539Po91Fj2BJC+/RtnDvpnbuz5N+2A/cyJ0Pzpk9z4sQFW//SHavCydHj//eAQ/+YI6PtTDNb9r+C8/7nJZP8Snlb6XY3u/WGIHv4zM5b2Ouqi+p2bhviBZHT/yQEQ/xPINvpE/AT5kEh8/w5nAvnL6T7/kmTm/aKFNv4HmJT/YqQE/rFZWv/B0rj4XBWk/xIn+PjTmAD9/LFS/AWXGO1JKUj9q3aC8VYcoP5pXgr0+JCa/UlkIPyl8Wr50sUq/Fsd6v1YBTj/t4yG/HuLwPRLolT6onDy/jMd9v8+zlz5QbcW+yaYavfVz974JGXW/GkwtPVlzbT/Flwk/2G9ov5z8QT4vt3A/VJ8hv+PXTT//qLM+VG01PzRA2T5jTQK+JAvJvr0Wyr7U6hU/Q1pUv/iivj74ieO+zW18PrhwS78Pxjc+LEwRv9ptu74S0cQ+gydfPzIYRz61hi4+sOBpPgsSyj3nfSY/OudtPqoAOL7vS6O+Gk8ov5jKqLwjNgq+JM30PQUdS7+b6c6+ZNvdPsupsT62IzU/+QNwv7B3Er8X63U/p919v5IFHb8hycK9cHWgPnmCfT8xs16/HfHZPt6jeD/x2l8/ZLE/vw1txD0C2PI+rNbgvplVrrzpOWm+Ka3JPjJRXj/8JnE+482YPTMycT8vJ18/LXifvoItej+evi0/oS52Pg5LEL+XDwm9Ex0LvuPOJD/x1L4+UIuPvvfkBr+xWmQ/CPhtP0iffL+zg6y++S0Pv9lmHT+1deO+G9Zrvm+sUL+HzBc/gGSGPP6RO78JGUO/WPBPPWNpFr+br3k/HsNqv6M6ij5Rqd29qQZcv2rfmj5CIBg95O4Nv38i8b7qOZM+N5poPk8NGb+hNgq/aoQxP8A8CT8UBGo/raLhvumSa79LcoE+d/5/P4yNcr7382i/y0QgvmkZOT7p5ou+2ilQv9ILEL+7Q0O/tG8/PuTwJL8V7nK/kcVIvzKrJr7mnUO/5MWQvsi4BT+6Ojc/1gesPmPTHL5NrCU/YOJlv8ieKz90gsq+dcFUP/VtB78mHEC+yPobP3cxWr/WUxE+/ntCv52E7D27kUU/t8+bvqisor7WLtU+1Rq8vvdUDr9yxiU/k/O2PsvAqz35ipo9tVFaPzFQAr/hhwo/3OotP1ad3T6p5je+R2chP83KUT8D4yq/QxEHPghbOT1GsAQ/GSC5PuBCW7+1bUU/9TYgvV6UNj+y9hI8Cbp7PyqMEj4GSoG9sO9aPqi6ab9sMWQ/L7ajPsrJ3r59yy+/+rfCPr97db8oQ3K/PDzAPs07Cz59mxO/3+cJvvjDMT+T7iY/o9Bnv2s4yz3bsg6+FAdIvx2Hrb5YYCm/EpINv8P2Y7/orYI+1Rlvv+i9iD7mOR8/lr5iP/WVYb8701O/n+KqPuVSJToDrMW+ekelPkNWRb+FQxO/tKpRP9G0xL6R9m4/HacyvqoCa7+QaEo/eA2mvjUALz+B4DK/Tr9kv5b6OD/KlxA/Tm19PqyBvj5go9W+xnBbP1U4Dz5uKFI/m6KVvoY3cT9QN7W9dT6Xve25er8bjGS/ozDovrxJpz6U6l0/ZcNQP0JBKT4NBli/e8bPvhsQYb+gP2K/IxRGvx9Yqb0IWhS/qCUov54pqT4+a/i+OOViP39jMD9hRly+I5BkP0i8Mr+gBuc+soRJv07pTj/vdbS90lIsvicqw71cm6G9Kyhxv1CDfr+Ur84+hpV0v9BMSb81VNq+rURzv2HoPb/vwgA/gulkP+oie7+bas4+iPxxvgDrOD5Hqgs+c1Rsv2KFnT4Zk6m+mgGovgFt575daiY/UytMP74ffb873mM/f81Vv/laTT+c6uW+GDmrPV3VfL/D8hs/G+dnv1GUWT7YM10+1XYCP6wSKD8EHia/lNwevaXD1D5Fscg+abcuv3nqOz9eimU/IMAvP+436L603Ry/BKQGP7u00D2PnRo+GHnOPh2Tbz6xbqK9UqR4v5Bv+TsVL3++eOW3PtczIb03I7Q+bBZvv3lFxb2NRZQ9kSb0vg80Lz71PTC/MJRrP4Pr5b5FHL06xSYVPzM5Yz8sF18/4o0LvqST477yTCE/6HqEvXu8Cb/tH9c+zm94P4slaT8foXA/1qTdvL4rxb5W+So/AymxPidLOD/zR1g/tkjRvo9jSD+28WE/iuYov1CvRTztFCU/N8Vrv2XAob3ivRI+m3UQvipNHj8sJUs97DE7vri4wDw9FVo/BS+DPo3ALL9tS/s++kG/PuAMc7/6Pv2+tWLrvegeez4RiXu/qjTEPbGBdb+4WWk/qUCsvpYwpb3U6Fc/5dcqv3MpNL85Oyk/2W/UviHWbb9+O9c+vslQv7to8r5JUXM/2vNfvyponj4lF5c+MdtWPGVier6pZHC+O0StPU9twr7XzEi/zFkyPtJmar+d13S//dyTPukqF78ely4/13Fzv46iFD8unu8+6v9Ov5uvcL9BFSc/2Nxkvx/KLD990Qw+rviAPrdUWz+YSf49CmBHvwRUdz4tlT4/16OTPp6lO74kGM8+aQfMvmr6/z7BMEI88bvNvrA+HD+kTg8/LBNGP3Q7fr/N0ro+PrZMv402Wr/9X2C+sqh3PlTqnb4TA849PbYPv1s8Xj+aN0w+dikuviybgz0feoy+Nc/RvpMcMz9aL04/4iE+v0fi+L67cpY+LqPlPr8FUj8myVO/QT1BP00I2j4VnDk/eDryvoj6Bb3IR0+/otGhPtyomr3B9Wq/qd92vyShCz654Ai+PEAHviaf+b23IRs/w/dQv0ATcb+w4kc/yyr0vvR02D5AMWY/xEExPxX1gT18ynu8WinrPpw5vbuy6lI/rSx0v2Hd5L6IZC8/kQ6PvupAm71pt6M+FasKv6qJN79CBcQ+1HTivsZvPb8AK/a+Qv98v5K3Pr7UulY/Ty5UP9pxc7+zEB6/0xolP6RtBj8tYqu8mCZAP8j0tj6mluo+zFUBvvAATD9RsXU//FW3PqH7e79y6w+/XSYFv19VYr2C4JW+/v6lPiRQlT5wg/8+clP7Pq3/cj7c38y+WwASP0Fy1r6uLP89rM9sPzO6VL9eeaE9UAg4Pfrbvj75o2Y/zJAvv6CIDr+4uW4+q+ZIP3gUhj7U8Ey/MVtQv6fsPz+Q7I49xHpRP3UnyD74r1o/tODdvsD20b4qcV89LUAlPxchBb3yr+e+bAcbv7w1z7yd3GY+kthNv8ueDj/zvQg/2391vbCLcr7UJoC+uHKMPRehf71X4Fc/mnGbPtepCL5nJO2+ITObvthauDv0URy/TdRkv8LFFj/sG0k/SbBqvgymqL4tQLA+OTfGPs3Dpr7v20O/dZWYvfR3FL+hlfg+M6owP7GsK7+vQWS/xKc3vJ3vtjxXw7A+P07jPluX0b4rYHu/ifx0v9H2Qz82Cqg+g3CmvoG/Xj9ngx+/iUxyv4JrfD/xFzk/mN8hv0DOsj59+Su/62lUPxxVmb0HFpC+Hu9rvh0fgjsBxmw+yKI3vwYCmT3Ynzw/anCyvlQzir5WCqW+HnZnPxwSdD7Kbro+fvFwvdA3HL9ujq++WuU2P+x8oT32xBC/jAMWv8Iq0r5dBng9BDFWvv5HSz/8LAg/uNolv2NcDD+vORG/dq4ZP2sTYz+YENW9SAWnvAs4f79bHLi+jjYkv0rmnz6sMyY++dalPllnYj//N10+5lfpvrSomr59iB0/HNJlvxUdXT9mIxS+5A/BPqi2aj9C3kO/vSNbv9NOPD+57vg+figIPEVMAj83HZu+DOEaP+Fadr90viw+pJRIPwG6KD+LNHy/j8gZv3kIbz+aYVE/k0rZvjBQZr7Vx0G+tYP7vusqqT79Waa+xhwsv5aFCz8Y5qU+UIakvlgX1b15+OS+urWbvlb0n77Q6lG/rhlEvr4qRz8E1yg/h8lDP/pojz6BkwI+p7m1vntaFL/EYu69O8QSv0HZMz9rL2C/Mr3LvS79Bb+RjxW/iJO5vufL1T7JUFk/yQlRP4rder/fpUG/P8fJvcgDOz3+IQ8+KsW1OchD0j0BjAi/803pvkLubr+VHLk9NUIDP2Z0Kb+cdBm+IElTPmKTNT6o/V0/iQ7DvikBgb7DH4++N9hfPxDLbz5ZzzW/5rFEP3I7uL7fPns/S+iIPYbUOL86O668XyVQv+mtRL/FHQU+T2A+vxVrBL8OjRw/b/9wvxO5/z1bYSW/cL5jv/cn5z1KEty9mDrUPfGwDr/c1V6/4G19PQAaVr/ljvA+SdFqP7XeJ7+ZI7o+4g3bvf4TtL7nz3e/X3rzPhNzDz+GuWu/OQcCvsZJFj/mbC0/L1/MPeQd1zzhUG++PH+CPNeiOz9wAk0/D2sePmQ/QT6DUlq/o/ZdP3OuDT4+Y3M/hc42vxI3br9n8GQ+PksOPji3Vj8kuPc+PFzJvj6NcT8Kfkq+5oVov/VIOL8fNlG+zT0uv3FKDD9Fa0q/medBPiYYL7/YAuK9NAgPP2/RCT+4gL6+LDs+P9fHMT4vd3O/6UJnv+h7Mz49nFs/fu5wv49bO7/mVCE/COe7vu5X2z7/D6y+sWtAP8HJk76NM4M+Fy/CvrJMEz7uZk0++S6xvt/DSj+gLgG/otm7vrnxPz//Ds++X/fXvdgSTj85Yrm+swMwv/6QWz8pgF2/+Bdrv+19Gb5L65Y9DaUAvDp6yj52G2q/abwJvy7DRD8eWmk/YypoP0baBL924yC/ZRRAP9cLJj99lxG/oapnPwflLbzds5K+wfcjPwJQBz/1az29A+SFvuI3lz7EYw6/Vcs1v7NCVj/0PYU+K2y6voPgjb7kEtY8IZh5PyXj/751clw+eBr1vnXSe7/Jr9q+wnDIPqf8Ib4E/74+zwAZPl8d6j7Ixc+9tcYsvwRxDj9jSJ+8dPqovgYLYj6XeQO/CCNjvxBYqL5rj1M/7o32PYfJF78e63k+NxSGva10cL5pngu+xN4LvgW+cj/J8g+/aUt3P5Gzp76iF3A/gIeEPPugVb/bylq/uwBNP7cu+r4fIR6/c+V0PiQawT6dozU/vH6avoTlG7/N3G2/pQMkP9OhP7+cX5o+6rS5vg8YWT9NfAG/aStSv6BDMz7c/rY+GztoP89ZQj2cfvM94oMGv4sxUj+N/2I+J7itPbwg+7zoDuU+TJ5cPzlaX7917HO+/Qpfv61Our6Y/58+Pal4v6EEl77PkgY/x0xSvfUfTD+MB0M/zuIrP0K/+b6RJgQ+p+kiPg+QgT4tnV8/oBQBPwjnHz4fdkQ/uK9ev9VGPL/z0AM/HEMFPl7lGL5rI7C+lDNAv54ZBD/2FO8+2/MSv7zQZT8jIm6/lm7SPZEmcT7/jHg/OW5TP0UHXr+t9Gy/dsbbvX6Ce7+UBzi/s3FfPtyzUL8Bl9S+/X4yv3M9Tz7G5lk7h+QKv04wJz9b3fq+xyQnv8vBfr9aFAa/AX5UPH+hKD9BTvm+DKLqviHPbD7pbUo/CAFVvhlEvb19Xjk/dSmSvjKmNr9btRg/RhktvgBLV7+ynsw+/+jdPoKgSj/T64o9sOQgP+n8wz4E5ze9QLrfvkYFnT6nHCe/jBEcPy+W072Y8Fy/Bv/YPUKU176pEVk/IyzBvlphBb4GsL0+O1tvP1SjC7/qcJA+Wyxhv/QSBz4Bijc/cPmmvvhCNr0xqcq+ETIhvjYxtz70eIq+MmOhPo/+sr4h43E/7SFRvxyhdb+0Vhc/BXMRP6RKLL/igAU/nt77vWaBXb+rGny/jl9pP+kDRr9BsaC+kGgGv8ytJr47Xum+DvIUvjWU9z5neh4+xvs+Pz65dr/5k3m/fqASvyov477iEsm+7ik/v7M5U78Dvyw/h+7fvvpUVT+Lr+0+xnBHPrddaT/6pQC/5SwVv5qfVb+K4lE9vAH4vm2DKr7XSzi/95/xPaX4Cr8dxHa/c1r7PQhyQ7/youw9/wDrPA7ryj69+Q4++rWMPheRvb7SCtW+iy5iP6O3Vj9KT74+nuUDPztzUT9X0cm+M4yWvYivV78K3Dy/mqo5v31hbj/D4wm/i+5zvyKKuL7h1s++SaGiOwJmoj6up62+SGcNvenNJz1Axie+bNlNvC0uRr7zyoA9nBK3vgaHWL/30Tw/eiUEvkiYnD7ozom+gEUVvv1Pbr4bJnI/my54v8yxwr5mWEY/W/MYv9E3V7154Qu/A+XvvugYGL/s4hK/Gcsfv9AYtD5s4/K+tfhHPa+cLD8gWgy/DlgLPCFdJT6uXAu/Wk81P9cuDb4rrVa/bj3QPZQZM73dwhC7P0UhP2oZTT/jJEY/VKgzv7hTVL/o/g8/lOwhP0+bfr/U/zA/MRS3Pv1lJD+vYx+/X5JSv71mND4heHU/Fuw5vuBdIb54TK++0IQqP8A6C7/aPyu/g2BYv+z/PD9aBWK/JE4IvDiWGr7OidQ+S+gIviNNQr85ddi+8IsOP6ytmz4/ZcQ9FhIyv9exc78KOx2/RpX+vn4oXz/mrSa/aRsPv6gP1z031mQ/hM8Sv7uTcz83dea+UXH0Pv1W9D1Tp5S+/hzRPlgrNT4Uy0s9H71Av5EaWb6LylU+mWAUPbSf8z4gj30+MKBKPznrFb97UZG9SQmaPnew0D7MriU/siO4vg30Ar/pN3Y/a75QP61BTL9yylk/ct9gv2a3rz4kCdq+sRPFPkmBrL4P1rI+LbslP9B/Tj+HATK8VusDv6Y40z6Smhg/dgV2PwbpPb6zcxE+5Ao0P+H1EL449XW/DWJpPv49FD8hXlG/z1Ucv1QcVz/XAO08j2ROvYEzUT/Somi/n+haPsVkVj+zefY7qfAGvwAUKL86oHA/HSKfPh7rXb4GKUq+xDRiPrIFRz//2mS+4Tilvh0eIT8MJwg/xDe5vkhQLr8RFh2/Iw8xP5ttvT6JEdM+EYKcvV8+QT/v3LM9BbLhPrCQpT6CWsy+0V9cP/W8fb+y9kq+pD2DvuagqT79l3U+ZyiQvlgtKr+1QUM/y29Av9tTST2RxL0+SveLPvoVyr5guQq/0K8YP5lAPj1PW/k+aIIBPzidfD/qzRO8kI0qP32baz+ht9w+jucWvh591j4kvxo/35z4vJHgWD/+2Es/BmqDPISCPT4rPWE+Z+GLPnSsO74u1j6/nYdxv5ADe78nbnY/Ll1TPygnzb4m5g09uX6uPi5pkbwKZ7e+Bp0VPAEjNT9HtMW+xj+uvDGjtb1VObK+6X9RuusPFr+idiO/cLVcP4jkTr+uBzI/7hdtPqqDbz+5NyW/408mPwZAIT82kSM/nP1Uvlmo0D7kudc+/xB0P5FNej9NpJO8aEKMvoEhUL9Bkzy/XMcwPjFbHD4o+S6/cAEpv7TwX76RR1s+2wzBPmMEUL6xZAa/3IWzPqao1T7A2/M+wHtJv7fySz0htCY/jrwBPwSKdr+gzny/HQBPP5+miT14lD6/mLHJPgWjir4uVEu/piJFv4yFiT34uDS/2IBev20oYz+Jt3q+7LSvvdOKdb+Ssgm+p03LPsK/k77ngNC+pn2mvlCxUb5o+X29+f9EP81Tu70uEyE/nU5GvWmzfL+iJ/Y+5mDEOx/lAj/1D6++mnBGv42y2b6AZc69Z8hoP2/lVz5QoDq/jX2RPiGQVb+iGwA+Kbz1vk3e8z3MmUy/jt3fPvCWnz7SSS0/iSgYvkS5yD2V3Ng9AiV3v2RxOL+J3uW+4K8yv6dDJr/a3Gu/1abVvaubVb/mAS8/pjl4v4lfSr/6x8o+btNCPwmVUz/7BQu/04QnP+XeFj+isAO/kbjJvnK7mj25rJW++a0HPxWL7z6KePE+pyKkvqkbvj5EJlC/gTxWPxiUSr/MPZW+lGoWv4upKj+InlK+ALJkvslACL8useC+PUgavyj2jT6TS08/XpMwv/wOpD69lh2/lk9EvyfqXT458ko/4IGNvtekQz+v8fY7Dt9CvsW9fz8Q6dW9efxIvuzo9L4rBWG/Ci+IvhojRL8+JxA/+9M0P6VUEj8H7Ri/RvQIvwlcUr+bYES/RmgCv+IyIz+YWQY/mTJQvn9xq72320K9a5drP4DKBL8j+ia+Bo+7vtA4Ej/l5ii/8zcgPuIbPb8fyEC+D+ZGP6+S1T5/OXi+jLYAPyP88r7+0tG+YgMBvpEdTD4Rph6/Wh5/vUHqq767eVk/6+4lP2Otob5g0fG8IWUAvxGtfj84au++kRlRv5HPEL/4mwi9FmVmvy0F2r3fOBy+4lVdPzRXKz3jfD8/fi3yOoVNlT4Maf6+duVHv8Xa/77FXV8/SP9KvzbPRj8QDsw+QmN4P5z+XT6g1Vg/8pQiPsEzJj4LLXi/EdjRPjOhBj8sSBG/JGbZPv4KLb5Tm6K+DRmgPvxD9z6HomO/QtTpPvlSeT88EVC/EqhWP9FH3D438r28lzrLva4ABb7/CUE/nkLovf4shLyJZya/1JRRvWIiAj9EQRI+utfTvb5OIr/XpjO+EdBpv3z90j6gVGi/C+ejPrHGoT2MwoE+/s9+PtnAjb7MFGw/fFXfviC5WT8cmVE/cGDbvtDIz77ogbU9QzE5P47vPL9ppCK/j+8oP8INpr7lTJO+G72KPqvMqb2z5Fk/FVxePzJHIT89O5a+TWzvvY6mcT9RMUo+ogJcPzbqjL6AwA08TgxJvpkANT4gCdc+x61vvo4S9T3WUF6/bk0RPo7VJb+bQEq/LiwdPyL8874qsWS/F61jv35Csb69x0++x7yWPiWvBL7l5lK/UezVPpXtLr+ikh+8bj+jPqTKTb+ACnI/cShmvqlbAz9g4YW+LScov4ZsIj9v8fa9E2/cvc2/Vj8M/Ao+A0sevw7EN79Vv3w/qz05vwHXQj/mnn2/n3+GvtWfcT980bG+GmiivT4pQ79oi3c/1jWqvohHTz9aIRS/lByGviCNVD5tggU/dpGjvrbDcL8S1pe8nNq0Pd/2S7863Ra/VARtv/+3DT/ek0E/gMp/P1QgBL8jMua9Zf+PvirRaT5RvSE/drinvrmdLz8+pmw/rHWavv5Ncb4Eltu+q4Qmv1Q6Eb8kepQ+hUV4v3AZGD+nDGq+m51Uv4ymEj9Sylo/YwilPsMlvL5ncrs9jgh+vmX8w733H1W/mx4tP6nZ0j6iEEA/rh+gPYqAlD4nlde8JpNtvuUtaD7BlwC/c/kLv5YteT/CeYw9XMd5vj6qkr3grXI/lMtwv6AGbD7aqHU/jrQqv6qmdL5X+ni/YYYWP8WWjb5MPE6/jEcDPJxvGT+jj0k/xNoxv09wST+a83Q/0wdWPoTnqT0sZbc98CYaP4zDXj9brnY+0zknv9plVr/ulhO+J702P+Gl/Tt3ZDu/HfFpP1nvIj7iZFk/hohMv66Cpr7UI06/I00jPz6CTb38uiY+0/B2Pnaebb5Ccj4/CRMmv2Szc7/Ucwu+pmNRP5a1Zr64hnE/f6lkP/Gqbz4AWnG/5a5HP1W2Kz+IS5u+ppLPvYWaAL9dw0q/+E/PPCzLoz0/RBe+fQiZvVBntr11gZY76VcRv+B8Bj9zE3C/sNV4P3T3nr7nHwY/RSDzvghgsT7t2G2/UutIPwYB8r7ikiq/3Yc5P8HfNz4xbxA/tCFEvy+bWT7dlGE/XoKAvLZqfD4iW2s8nvN0P1aNQb/EYWC/FFhTv13o675y7U2+Wp5Dvx9vAb9eeck+W39Pvt/d0r1oVpM+RSmGPgPAZb8HVmc+m7+mvRQT0b5pFmu+SqBxv14LPD4p4kK/DgeVvtd96T42oms/wGDMvlrVbD+xF6u80zdKP+0a7z64CJe+KsmlPl3/zT4K16W+fy1dPzDLFT5CyWA/s1QGvxj4eL+jPF8/Y6I/PZ2VEr/+p0m9lVztviRJcr9+ZGK/LASYPuXJqD0Y52U/TpUVvvdgub0bvOG+hui2Pr8or77te2q+uRUAP5sanT7aylQ/R/wfv9vdJj9j4BM+1in7PkmcLj9yCHO/0cByPuARTz+5mR6/vcMYP2qiYL7RKmI/xH7SPnvySr4Yh2M/NnUuPR6NP7+niTo/DRV1P67HLz+jCi8/mUpqPnK7eb8ym4C+d9GIPhHMAz9RfQs/pVunPgmayz7b7rm+AXh/P5gBsz2hYZe+zN9WPgRSaL//R86+lWAgvpobTj96FOa+MFUBv9whnL6V2yO/jTlkv7u+c761Ryy9hlkav8Z0Hz9zKAw/IApdP0mQKL9PUc6+0sJfPzzZVL/076O+8yhiv9TR375C7FA/OmjjPvW7Oz+ixUG/BEM8v3giob7OCJE9Wr5KvcqABL8Nh3Q/RX9mvQ77LD96Up4+y3FavuOVer/Cx3W/Zq1bP7V8+z5qYPG+iD5tv8E6Br4nAxc+uilhvzaXBr/ZQzM/pMh5P2vIj75Eh4g+bXxAv44U9j2NvP4+F3tbP3DOiL4vca++ZUL2vqCxv74SNHi/GqgLPzs/9b5zQ3A/tac6v21WU76T7Rs/4NOhPvYLFj3Gs3e/XyRmPrCakT5ESS+/GSvHPpg5fz0T9Ps+IibQPe3mNL+XvUs/6423Pa6srr10Tj8/6Rh8v4V9Rj9hWZy+xOzqvlX2zL7m4Hk/rXzyvg1s+L6SbFO/5wEovzI4j77l0SS+OUSqPps8dD6oYAs/hqL/Psasiz5e7le/p2JTP6dFR78bmd0+NuYNvxAM/r5sIFq/HOdAvwsruT55nhu91kETPTn1Gz8WED4/PRw0P7TCLb4aBLW9A5WtPnECWT+XYse+z3ykvTYRJj8BRC2/2wufva62N78JddK+S8hovggPbz/4DGu/b8n8Pi0gOr9PltQ9xF9Fv88c974P0mC/5pwtP4piCT8O/i89hJ2QPr4b876oFVE/6EVIv12cGb89lZ2+plH/vlueJD9Z1ww/c50QvzhOc7+cgE4/Bp33Pq3gVD9oUfC+bTXpPsJ6Hb4yO3a9oUcYP+m/Ur+NTXG+aoaxPjlCG7//bPM85gNaP9SVAL9C4ga/R42ivijxCL+sq3S9QZNAPuJdDj2nyA2/ELUvP3BQGb/C2ja8aUlCvmI7/L3aXeC+lQAuPymtcz9yyQw/+yWEvHbFOD/FMNE9M9LXvvEvmz5ihvY+CHgzv3RnN75rzY8+op5APx5MKD8dvRy/FILWvXY3Cz9Lpwa/jmcuPv6xB77dZVu/QokvPl0uib3XFuC+pX9FvyWgYL+/Zrw+jit5vzp3DL8yu0K/uqw1PwAeBr/q9YA94+mnvs5rPT8Oywc/SOURP7GN9b5O7GU/vZo2v9d6eD8/Ony+Xpd2vvjbfr8gTEW/zzK8vfIha79kEjY/y7hEPgq+SD8e6MI8TudAv8I4Gz+cUSI/Uhshvz/Ljb0WZmE/JE40P9d/HL92Dcc+GNLyPu1GcD+R2sc+s9olPgshMz+2+om8nxGYPmiVO7/NdWS/VR+QvuyzIr+5sUE+BU73Pk1TWr10/YK+0QeSvruZUj+vBFW/2yIfvDefXb/2NwC/d6t5PYo3aT/GOw8/eMCoPtJyBr/eY2o/QQlEvnsocr8Ttcg92QqVPPq/Vb8uuOK+1c9av/YURL4t4EI/SEcOPh/ZUL/kqik/FTizPoGKW79r5N86/tn0vmadlb6mVQM/cCJNv6xKlb6fgAQ/l9uBvnzQBT6mzmS+wAdTP9hBgL5hSYK+wtfLvh1N1b5Dkfu9Qf5EvMfehj4vdwy/XXpiv74qxT5ypCK/ct2tvgHTS7/jh1U/i3teP9lXbD9XdHe/bTUuPnCUVz+eYwM/LcpMv7Z91j0eoc491nw0Py3wD7xY76A+OgHoPn6vCD8/rgG/45qjvknLID+HnZS9aWTPvpFScr/p0Kk+vMC6vm1lBL1vsnY/AhxnPyPMOr/yuBo/LakJOqxVBD/MtGE+WYCpPmJAD75nlUO/OcgCvm5/VL5XHUc/kLZ5vubGEj+zIEk+iIRgvjZyOL7jbj+/1VmvvJ1MhT0Ngc++ripLPzY8b75Izjw/lJxMv1Tsrz5hsRy/F///PmCxLr8KgxC/t/s2v+SHYT+BEKw+CZB4P0QTGL5347A++rNbP0NmP75OyJQ9MaF9vhGUKz2hIbI+XRgfv3jQ5L7ZaAQ/k6sSv2jAeD/7BSo/KO9QP/qhaTy2Yja/9KhiP0f3er/4CjE/c+xAv5xmCz/+Qfc+Sa3IPvCHa7zsrUu/73rhvk55Wz/FhT4/5kFOv1urXb9CPTe/Qf3YvsVrF79D3Cq+w2HEPTQs2b7644q70XSyPjSZAL75uJg+uCENvsWh8T5kL8u+7DnIPWdKDr2wz20/nol5PSVNgr6d2Pg+UcSTvoJ2ar8kTbi+XUxdvyJyVD+8hFq/OTksvXcCvD7Obzw+pSG2vVuHdr5oECy/P05SP11AeT/xz0g/Be15Pu1sOL9xE10/QHATvypgGL+KrMQ+kaIMv6YAC78BhCi+/2y1PuqExb5f4HE/x2ZWv7vgiz536fe+utkTP/hxtz5ZPXO7Go1WPpz3wr413pu9eHVlPwO0Dj1BSoM+PHDNPhVor75f0sA+2e4Kv86/XD8eB1E/K9NNv7fPt74ASOy8WSg1v3rxFj+FrWM/6F+VPlPgHT9JEza83d51PrTqd7+9LBw/UV0Jv/9j4T0k+j6/Qtvjvu3Jdb+xvl2/9NBYP0oVCD9MXD8/zs5aP5xzb79101U/Kzgfv4hwBD/41EQ/Ikh1P9yEGz/2mni/ZBohPiDZSj95Mbk+cUrlPji6rL7tNQg+xeS3PeX3Zb+VNmy/oGFPv/7Eaj5kxpw9nqFcv49DNL8JUhC+NmbgvkPTU73V1Ec/FZEIv9myob7Qpeq+pf+HvoNiBD1kHiM+y2PmvgbCYz8+M1g/gGYhPg7shL5xG1c/tgtTvMBk6j73JD4/eUc8P8fqPj9BYlg/zMHuvj4XZr/sos2+4HT2vuDJkb72gCU8ZmFrv2Gqbb9AmMw+MSJ2PdnW7z5vCgI/N/38Pn+qeT3691e/7jGPPWyJpz3cy3W+GqVCv3o2mT6tDxk+TffgPtrZr72NKPa+owIYvxx0Nr/O7Dk/hlc0P0S5Pr+YQPE+6ahfPwiBND54+xE/nR4jP/Ie2j7nzTU/t/doP4z+Qb89arc+VWDFvkxVQz52FRS/2zBevx0XpL4D+F6/fAmWvnTAJL5VN+m+s3vuPpnVOz4yExA/o3u7vmvx2T4P8V6+lvJhPwNkbT+Dk5W+BK3kPW2KOz98OTu+Vp50v//3wb1Unrw+jnUSP1VE9b5Me12/+Zp1PTRrWr/Hjwk/1WQCvmkKF7/ifoc9Ra0GPz9h87wMWTw/D9R5v1xWK79LzAA/5bv3PoqMAj6Ofka/V6h+P6R0QD8q1Uo/+N1WvwEf6L7dANA9w7d0v7/DMD3k1oO+IhrTPhySIr9HtAG/w5Ltvn3YNL89fDw/v6xMP00lP7+28UC/o62KPrqoOL8DakK9WHkcP8N+Qr7tTFY/dwx0Pq3uZz9CbxC//K5UvpsjxL6HrOI+VupNvxeHbT+Q2gk/IUkgv6ByRT6vING+IX1VP95p+T7RYrS+nV8wvhm1Az4c1TI+BvsXP930tL4gHNU+4vhDvyuppj5v348+plp8vlB/rb7K+ro9fOW9PvUCnj440Iy+Fqg+vnTuMb3F3GK+UzRUPukMmD7qQVA/7pU5P8uBAr6XNhK/eHGsPpdsWb8MCT+/D+86vhJ1975iSoo+piYAvjnFzzyzF1K/iDRxv50H070eYfo+CLJ2vogqQr87PDi/rSHGvkM0Nr/OE2M+gmg6vlmSOz/56ge+rJiNPk/xTb+rKze/ZvCRvSNsZz/RfF0/yVxMPSfjBb9EH3K+AyYHv5y/Ar+QvQa+QeooP0U7IL8dp7G8TDKOPsmZWz/+WhE/8sSkvg+WGL8d/SS9Y3UpP+s/f79TJqS+d78rv//fg76e7mo+IqHQPcv9v74Tm6g+3EF5PoGQZD7uIlO/xPdEP1DNdj9yIsc+Wc4yv+X7bT+jyv8+1jIyvcpxcb+c2Wm/TiRlvqmYez1FyeU+Awx0v1PLBD6KfJC+suK7Pu3AJL6TYCK+EX4/v9FTnb4IoGG/WfApviXwMD9VzqM+EDdcP/EMBj/gYA6/50vlvnVO1L7rK+U9RoVXP7pNSj825kC/vDfJPv6PgT4n7UM/Y94ov26tgT6oXBe/UTp+v+YjMz6/Mhy/yrPgPksUBT/kLmM+CAIHvvRmf79S6eU+r+XfPKHmBj/WBWE+4SKtvnGDdT9Ea0e/2vdmP17GZj6tNOS+7EwwP910Eb2+A5E8EP7PvkBo/D7i7bg8LzdJP2rQID/2fXI/rhMIP02UJT6ZGUw+mcVyv8sX1r2+lBW/Q9Zcv86QDj++wKa+mG/yO4dTGz9bddI9gwnSvu+W2z2hW6Q+BQjOvvAVXL8iKmG/tGZEv2xLL7+T5C+/D3K8vpzN5z56X1s/0wYCvyDIAb9RywG+gN04P5IeHT+TCX2/QtFfP6gpTD/Mf369fG4hv8sa+j2Llx0/HmxJv0KYsr72Boe9Zf5xPyouBb4q0U0/FtGHvQlegj5Yxi0+8dKdPiQ8cL9pBHA/o0LavkiKAT/sG08/g4nmvlnaAL9S0l4/JliDvjpVXT9V/Xg/ubmivUqADT+p/VI/xFAKvgq6O7+kVCG/oT8YvoGl+75nofw9W51hvyDvF79yrrc+Yob+vhQx+74/ndi+bMb0vgLI3j5c20I+Hb0OP5MfVj+KC4m+0wFjv9/JtL7lDBG/xHVUv0a9Nj9k+hS/+DcRP4QATb5Mfy+//Ctbv8ai4T7ANjc+3Eq0vid0Rr+ekSS/7fN+v08lID/zKIm+5hbvvqVTcL8wboe9Rl8Cvke9QzzwMTg/qgDyPi09JD4C3H89bXRrPl10Rz+tEag9tFsqP2aKBb21fVK/1Lhmvw/aM792mAO/UJ8SvLEahz1bucC+p7JtP97cOr7JNi4/aUxgPy3IQD/Hnu0+gfcaP8cduz2vE8++5tR8vqFB6L7tozq/7Z15vRznDL8bfos+/xo2v0i/FL51ESS/M7UDP3Aljb6OvR0+ZyCOvnOGFj+eKg2+JAMsv4ImWr6jYhS+05RUv3mrYT/7cdu+LF74PQmfpj18eLG+Vt0wv6yFe79q0hI/J3ZIP82VJz4YZxO/rqoGP2g+wryNgLE+m3qkPiOzBD8yBYU+gAAVv8Q6p77hRHu/KWZmv8pjwL0Rx3K/sjAJP7eLgL7Sol69oRBOv0y6+b59EZg+o1ruvmufbT+9M2S/nZglP6yyOz8DYT8/hRaaPoxyHb4G+CK/juWDvvRKTL6XogW+sKhqPwQwDj8Hihy/lSg/P/L4+z6znwM/xiWHPqjKWz472cu+a9seP/Lmwz5gAmM+sZqyvq2wCT6Mjoo+z5g0PkM4/r5JTrG+9u8mP7ecSL9nKGg/ULCJvgEAzb2WlJu+3uC+vSk0bD4g53I/DK4aPrKQfD9mAiA9i21uvx6xFD9qGXA/63Xyvd2Z176ujtu+RRLSOoYo8D1CKFc/fS5Lvj0rZz9Xoow+XpLFvbLOSD87VhO/PIm/PrnDB7+4UM2+gg88PrA2JL/5xfq9/35nP0nNE793fbA988cKvtIe4z6PEKs+I2/FPnHAa76heSW/0fVyPlSkaL4L0DI+mjQnv5K9D7/hLC4/l2klPj9+Pj8NKmE/8T7WPge8VL5AFWE/8o56PwfJaz8HZY+9GZrPPN/1fT5Cxsw+4+cKPo5jpj5tSN2+PktTPv1poT7Gdhe+BKxwv8TEBL/ZQdq9NQ8UPxkKPL5/bZ8+o3yjvox7tL2P6yC/jb1hv/FATD4ILWi/x5F9Ph6LFL8FbRS/rLb0Pii2pL5G6Ay/mW0BPtroK7//bwI+YYhDPgTaHD732yc/KcFgPzpF9b7AaU+/O2NYPykjEL3ubHu/4toPvmnexT4cbba6KqNrv6ThWTwi2m++D6UZv5mhyT2azX+/pF9cv46ERT7NW12/2nuVPtgTLj2Ruh6/lZAMvZs6I77A7jQ+eDy5PYZRID89tCo/5GEJv5zOfb9cTj2/jVMBPtQHXr/VLVm/17tMvxw3dD+NSZY+z4CjvjqmPr7iKXe/18Anv+3Xw76omA6/DRI9vqjEdb2J7rk+uopBv8D0Pz7RSCy/xih9v+TtgLzU4yC+FZDMPi04s7xanHu/Twz4vh2GDj/nCgo/Id3WPlxuDz8djgc/iAM3PwCz8j7cew6+6Jw2P3e4q75P+lm/9qJmP6CAe790hiw+qSEPPmt7+j76diy+bCUsv/jS1b7hgwy/tdnLPQUS0741gC8+6HIyP8SqwL2JvxA/xyzYPl1+vT69wK8+13BOvnQSdj+htX2/nSCIPitmBT8Qq14+vJLCvvReOb+jNwO+B68fP+43WL9Pl5m+Scd0P3GaEbyBilW/VBE6P2H8IL5aoOI8Fyx0v4LEvjvTXzW+RQKuPjghSj+fIJy+ugmfPvUqYT/yIYC+d4JbPzIhJr9O4f08LnxBP2Vwr77yrB+/VCBWvizImb79RmA/cVZtP+12s76Fo1w/84S1vujdND7AftS+9X50P0V5rD6hPt8+e+5EPerMOL+RPYw+5rIuv4utDz8IZV++hNg1vGAtXz+Y1ca+6zoiP+zKFz9ktfw+fNuDPhDfYD/DxKw9NLd/Pec6cj6c9L8+rbhOvpFneT/1nK+9rliEPu7dOD/HZDI/8xboPUtCvbv47by9xGkGv4V0Sr/AnQU/EDWGvp4bgL7btKK+glcHv/U3Tb/6xGe/J5h7vhA9Nr9IxwE/3BrWPgumqr5G92g/q4e9vmDA673bDFe+ovizvlMKlb673TE+i+OvPgkdU78UeQu/x9cFv46LZztEpw6/8yiWvkQkH78+Pyw/HeV+v7ucu7xiCRi/roxiP/Z1Bb/IzjW/RQLCPee5Fz9PZB6/QGxovydz+b7iW5S+k481v3JoAD/Fln++KsZbvlCPNr+H5D0/35xEvrwy0742Wyg/08Fuvzk8lL5PpJa6XtM0vz81Pr9Opxg/f4Wuvm4Hbj9V2FA/9R5tv0A6dz8ckDm/IgkPPv9MVb9+Nlo/lMf+vgc6nr7EkDW9MGZhP8dWH75W3VO/IwJ3vxLxHr8V5Za+LSL6PVEp+L6Ijx+/NOclPRPXbL/iTQS/wy9qv+rHKj+U4U8++OHHPOhJij7uqp6+CLdfv2HgQL8sLAO/HidzP0GZ7z6zk/o77AzMPsQrbr8N9IC+u9Bdv6BQp7613h4/55YHP3G0dr5F264+NpL9PV+hMT/9Ggk/WfSWvn2EOT8shuy+vbj2vYSCaz+VwR+/AStNv7JyaT2TtHG/34SUvnYnn75vVTc/YmZDvqNhu77gA8G+xQ9GP3Amzz5uDz4/Uwlav+Gs5L44Bho/kJXOviGDJz/N+F+/LhfEPvizCT02+Kg+EGY+vxUHLj+Rn3Q/T5dhvxGPSb9Oqii/57Lhvg1zCL7KUU8/6YToPUJXnD6M3yw+YjEHP9JmLT/h4W0/dLZCvY8TPb8YYhA/iZBaPxO5SL6FPVK/p2k4v2/rD78lGUq/fBeWvg8NaT75ZmW/1qSNPf0Ocb8h02o/hP9kPx5OKT9NzjA/S9ZEPwuMH7+Uq3E+L2ZfvgquFj+0XVk/T/UPvyYgjT6tiU6/e9JIP4R5bb/yRXu/gQvRPYQVfr8O7Vi+uUhrPxqNor1RLzu/O1A6v23FXb+FaAa/HfZ9P8A8dr1c026/UNXGvmBsTT8wkD6+b75BvlXgcz+/umE/9aQLvsIfQ77TYjU/w1IevydobL44ZLU8P4c3vhHZVb/WGgs/JcWlPDhkIz15ERS/hToMP18N4L7qZQa/X8BUP8o7ET+RMpC+xzF3vu7Pqb4d8xy/G2z6PrazQj9c/l6/b/0ZP5ZlKj5h7Ke+zyYlP1JKID5jsd2+gYurPilD7T0w6HO/Sa4FP7zwjD3bgHy/R6WavnxVAL/S66E+fOQPP0YND7/KwRu+9pmXvoa6CL87+zg/2Jsnv1N4tT7Yp0W/RkRTP8iLBb+LlHU/udnwPuPf1T5HiQq87psBP0cV/j2uyfa+N+t+PqcUTz990D6+a/zIPrEIr76+tkg+nbdeP0dgxr5kaCM/vykiP7bwGT/wfK48UF1LP3uyrb6069a+hTQqvUrtfz7Pr/k9jSRdP/NH7b6gRo++aodRPwHORb61QXA+78h4v0JJdT9QPIQ++L1EP02Bnb0Ha7i+bqoLvykBNDuNzt49oQwAPlFCSL8XwIk9zOZEv5RmRj2wEf695Cj7viHYBzsnPeu+jNVjv2AQTD8np18/aQFIvxgRDb3VHiG/esKxPRhhAT9Y1tu+p2SKviZ3EDzr/Pk7lg/ivlhJ6T4fxTO/47q6PiFxFr+vwl4+vgzUPpRzfT4Ds2M/GYCtvkvq3T0WNp0+NaQ0vz9nib7DgaG+8iQLv8usvD6TUv6+dRs5PwZTnT7HmBG/JUspPvXBbD9bw8o7035RP/HOfz+6ID6/ofE0v8Db8T6pBza+ZrXDuwxpOr9nazS/GmYLvwWGGD0xXWK/KVLsvlvrST9wBbe8WosXv9ild76Ahm8+RVMjPqsJor4+fMu+2J1MP4BXdb9aTm2/a4Jnv9vKoL4ehaw9gBW+vvfHM79S6OC+eh8JvpY5Zb4NbC2+yR5rv0ICej9DyCa/KLV+v5fsdr/8ClU/cskTPyAsO78eZV2/r/WmPq37GL/I9ce9SAdDP5Mst77XAnY+HGtVPks+AD172gG/y98vv3RDFb6n1pK+6TgIPYIr3D0UTz+/GtETP9Gj377++ic9yp4Kvhyoub6oqyg/1NQWv+oHh77LXQE+264qv7LMv76rfUY/K29Zvk2jlD6vz2W9pWgYv1lmyr78HI4+TaJJv1E7cr9hEzA/+epqv42Wlr3xAGO/TcAPPjMKYz+S0PK9aLdwvkCfQr9b1jY/b+4Lvi+dhT4iZmq/z4C9PtWNeL/BY0C/TizOvpcXs73n5Tw/fAhBPo9vKr9Sfsg+OIDaPDJT6T79Nh0/rcxMv75bEj+J7WU/e2kkP7LXjD41p02+3vcMP2A9Jz7l+y2/+b2EvuwWVL9Kw4G+hpbBPt5v475C6nk+l8ESPykmtL6zrcE+bHKTvo1Mur4sRTy+JyUTv4YXrz5uuzu/Z+k+vrMYRD5JaDA+WfxnP79TJz58ciU/qOYsP7/XZT7T4Qo/GDVTv6IuY79L/xS/odXnPlp8fz6LZmS/BZYoP0AWAT9hFAe/s8hkP7vNPb8J6g+/C44Tvw+jFz8Ts/u+q4ryvpF8XL9ysow+yjtov7+BPj/1Kfy+z2VJPwm0ST+Bhkg8TzmEvmpbRr6cen6/RqjDPfamdb8RO8S+lhuiPgTSFL/FgJO+2ngKP/OO176RiVk/2Wp0Pz7GaD6Bb98+ffIOvyz6JT8i3zs/ZQa9vq6UB7/fm1s/udDtPv5iqL0FVfe+vq23PisZNj/n3fe9tQG+vbpBxT6q+rQ9Ebh6v3DTt76Uj26/qSwJPjHpDr8VQFe/Ovcmv3t5XT8YDag+FJNLP29IhD6WoCs/qqF6PxSdBj9bTf2+QV40P6UXBb8O6Oo+JXWAvgspLrwz5DA/E7MKv5itfD+8L4K9iRrZPt5RQz+j3hq/3RYsP+pSDb88i0Y/VR/pvl0lfb9wLFy/LPlZvpj3Nb/l5xc+l1H6vrQlET+Bidi9XygePzc4XT//kqI+CcmWvmyP5r4nM2O+Vk+PPrAoVj/AjhI/CFhEP4qIVj8ypD6+YgBGPiPcgb7D+t4+6uAzP1QtML9bw7++r0Mkv041377RdSo/maodvwNoM79wzE6/37F9v8YpAT/okxk87tEwvy667779zUG/+SwevyPpCL9UGG++8O68vpGOOj84Gn0/0C3IPNqMmb3Nv189ZiSHPa7kuj4qHTI/RKE5v6ASFz58n2m/3LT1vu2KVD4ssDi/Y6kBP7snQb9T4GU/hf3ePjM3Y79talQ/avleP/G1Er98viO/vm1dP53IVb+m3Zm91eWbvgg4Vr/n+Gs/WGLAPcUrLj9wwyo/+4UNv6+b476aTUo8HieQvlQ+ej/6Sso9ok8cv13ff7+t0m+8XEDOvVksHr9vwcK+y5zYPYbsDj9Mk+49BPypvTj3Bj9CKS4+SgKaviG4P7+ra7y+0tCWvv0S9r4DfUQ/MnZ3vnwOe78NNiI/vywtv8QJlr7ZvXY/lqYHPL4oVz+DIFw+wbV7v2ymPb4C0b0++OljvyHmcD5+uWs/gdlvP12uJT9of/k+9CQ0v3HcQT/9uhK/1Vojv69ge76ysvC9zmEbvxHyfL9HGIk+eSMHv7f8UD7sPEo9kzcQv4bkJD6ILT+9Xdotv8368L1hZUy/xS1FPx8oVL8zmo0+9K8Tv88Ao71K00I+VFBWP1nogj1jL0I/VDzRPte5U7ww1zK/rtwgvwLLdL6jTCU/tX0rv7pXub51+Gw/D51UP1YmMD+2GbQ+QLJlP4lBd7912p2+0fFZv+VWrj61u+I9IuGJPbDfVD+IzkG/c/KEvi+j7j5QcqY+iZjuuysWDz7I6SS+stCTPA/K0L5A3E0+TSoJv7OBN7/W9d4+iJKwPr4WYb8kjVY/qCwzv4RJNb8G/0I/paOWPhvUGr92MKe+xtdjP3p36r4HgU4/rmtcv892QT8cyMs+9Rspvhqapb7+F1u/StgbP0dMAb+40/A+nAw0vr92E75ff70+QvcSv6p4tr7ngzs+9mIZP9a5Zr8eo+0+6uxcP2sl6D5c/bk+tcZSvuSJVz9Ivz4/9xgUvxnhV7+7PdG+6eaGvvSxF78T9ni/4y/yvdPsrj7YIFg+1G8SP4wdPD/OPay+Yk5GPE/CJr8kYVW+AF4/v/mlUr/rkFW+aW3iPuF3Mj4P9cG+r+Iiv1BLPz6stge/789ovpfqeL8VIm4/a/4kPw+z5D4xumC/tPQ/vzz2Lr0sUwK+3A8ZPq4/zD4bYsG+Zv7AvvCyZT1/5lU/Oc1bv93HEL/jGFI/cwRJuI0Dyj2eIcU9/WK5vuEMU79S2RI/QlfOPhiC5z5bF5i7S/jSPW5l972/iXU+/eHjvo4YUj+hgDq+afwrPwftab9Wglc+20F2v21yHrwUoge7emDXvuOpJb+/IC8/ymYCvP9tYT/wgCg/gRXIvTEfrbx75Wo/6wd3P94JV7+rfWw/+wsDv3J6T75Mr6U+9igEvxRwYj+5/uk+rTUQv+jpET/ja0y+QkoUP6YXQr8m/kE/jVlFP+t6Ir+0rCE/M5gkPXYqUz9RveQ+e/k8v/BuN76jCnC++xlbPgpfXz+QJCo/DTaVvWftJb94Un0/iRvkvtU53z7qmuA+sEY1vle4Fz+Nxdy+1x1rPyFaJ7/657q+ZpquPkHRcL8fs+2+BjTHvgml4j6hDhQ/pyNxvvDl8TwENQC+yVlzPydhUb9E7hU9/1L7PuK6qD7P3vu+OxOXvvgRnz0QNTO+V60DPeld8T5jwk6/C73GPvp1Gz8/MvE+/ig8vyGMKz5R83m9LVZUP+OtyL6JIhS/gkjzPiXv374AxEM/LxU+P7Fo277WGvc9jhp+vstGUj6kdyC+Tr9EP41bLD+9Ukm/wWHuPvzRvb46x2+9bV9QP06pQT/6DT+/VXGzvgYNIr+5jFu9t/kOP94Hzr6vpAu/6uVbv2RjEb9mquU+os8ev847ST9dXHM/FZMZv9ENEL8kv2c/ofYMP3Va9D2K4eO+tz1bvwqWOz7IO3o/RDo5P0WE7L7h7zy/9MWTOz67GT9xNlk/iUmPPua5Db8+5Ag/UPpTv2yGVT9MXZc+CFWyvqOLdj87hX0+YgAFvrQXOL5x6M2+vVgxP2VPzb6K3ye+vXh3vnxBYD3GaSO/1fi9vo843b5oILM+fdVgPh6PCT9LGAc/2iF/P8EK4r6IVca+H/oev2bsT77mfGi+GvBUv9TUzb4acIQ+XVldv8LuMr+hKrM8p4hAv+IIdD91AxW/SVhHv2NJD75v9L48M2f2vpv+aD8bfRC/soS/Pv+QCT4pAe68P2rFvhIQ9773QBY/JGRFPKVALL8sgg6/Md7gPmdkRz/bzn0/lXB4v2YZ1r7ARUa/xjkEvjFrLT/xAK4+ZMk6P4R7Tj8nB+C+lxd+vZWyVL5gDbO8i580P0VjYT9FgVe9hMwhv4EOAT9YZw2/kBdqPw7pvT4h/Uu/+/H3PPfHdD4mrLG+wFl6PVbxcb90zvi+kK8pvhegXz8NM1c+SEcav5edLr+IIIY61zhAv1UQDz/lrKi7cD8kP4Ddnb3pRNq+zCOmvrIURL/UZQW+w30vPUIQNz9kFO++jRd4vx/PKr9rfeS+7RdDvoc2Yb+bIhC/vlgEvgYpuL7VibW+CCVxPrE2Gb+uAGg+VpAIvsiZA74Crrk+B9dXP36Ni77ME6o+E8MDP4+Ak74K0mK/tYuPPl4ntL4NcW+/wNYRv+04J77SCno9IQ/1Poqvb78oMeE+ruaNvUhSML+qBfa+i4CSvsqkQb82fLe8o1FWvwJWXL1X0DG//lP7vhCOUz/UxCy/qQh2PueGSL+mt3o/VZGGPn5Qg756Sw27oRqFPVy6UT8zHli/jnEfPzWLSj/jIL2+KrJGvwQt4L0hXPG+Na3xvTqj073eyom8hsOHPgVYh774zRs/PmkFv/JIlT5zglc+v5yfPgVeFr/8R2y9Jo+LPhdZnb3WwNS+CnR6v10gNr9O1488OKBTvsYyAr9oYRA/Ox1BP4rsIb/xwk+/pHsgvvXQ5zz+vd8+fWpTPrw6EL8PUzg/gAsQPxNlZb8NFBA9r7asvnq4eb+vDSU/CFQyv3k1mTv+0RW/oZXzvp+93T5OGQ2+AHNRv+DzC7/IpzW+deamPinhW71cHWi/NWXPvohtKz/UGaa+rUMQPyJqLL+Rhtg8bJVev45vC76Tw22/mgywveAVJ78LWJM+xtN2v4pOXr+nCH+/dolbvtsATT8RD78+wcknvpQpM75w8hC/qFVQvRL6970FwA0/8qhHvx1l4b2hr86+RjgZP7zS1j4rCwo/LggnP8sAVTzEoN69n4n+voTTfz/9SFM/zHkhP+gWhz5PUSy/dot6v/7hdL+xj4A92to0v/9UpT471Eg/tBUJv0LYRz9V6ss+zWZsPlyTyD5EYJa+mOyavpt/eT/a2KU+ESkVP10ZW7+UfAo/p7K4vs41pr6ZWWG/oEQJP7pfd76HTiG/cfjtPfKuCL/84PO9Wh6nvmdAwD42w2U+gkbQvgIHlT3Rjtu+8A8EvxECR7+MNHQ+xthTP0P3dz+/HkC+gllwvHf+Dj9Gi2U9LIRtv3C72r5ARZe+zK84vwnlrT1TR2e8KAA3PlPhbr9pPW4/ePFEvyIzaz4mmT4/lDI2P4SRQj+scAC+HApiv1q+Bz+REMe+41Iwv2PP8D522TG/0PHcPnWIjz7W9V8/ezW7PsgQFL8+bC8/5hEiPwXkHr+FhHm/CnNRP/mCU78GpjM/eBScvhDRST8ST2s/SfVwvwhYZr2Kw3a++UoiPV+oqz00EC0/lIVCP5SOxD5ExIy+YnBtvwj+jj7T2au9okbWPYV8qz1EflQ//gAZv4iCPD9G3t4+vqKjPu40lr5KHCy//inovvesxz0BhR+8Eqp4P7JdFD03/eo+8/S9PjDaZb/7I0s/dXWQPgtefr9V+Q6/jtH6PgSgaT/qTa2+nR+wvjDMjz25x6A+rp0sP2KCiD6DLGg/MGZ1vqgFgD5Lj2w/3kx9PmrCFD9bXDu/ARtOvxHkXL9Vy6K8LT7ivV/y3b6zqLW9JHwuP17NCj50LLU+h93OvtMFfj9yKkk+raU9vqUTRz+3t5u9l4tAP91Sob7Hknm/M2jAvlOyd79mvAU715xFPyjddT9hyOK+/r0VP8MreT7fSh2/sSumPYlDP7//0Wk/opV0v1ye5L4U0AE/d58sv130hD6bxQM/V0DkvuLdLj/ekyC/mR+Fvszaa7ynYFY/+NZKPqTuZb7cP0E/uEdAv483ur6LZK++TVr+PhawHD9y2/G9SqTqvEjy/77TgNg+KM7bvgwJIr9wrbW+taH9vgc6Db/6th4/etRLv1cpmr5qJGW/UK3BvqefS74BdMk+I1j7vhrDFT43CZ2+ww3evuOeKD0xfME+KMKsPnMuor5dHXU/nUo3vhkPbD9mcUS/wvQ0PnQCM78+smy/tOkSv8WRCb+ZMyC+PzMSv0hbGD6q9E+/w9xSv2yFvb5pftS+HNMRPQ5GlL5zGUY/VhIEP+CLkL6Iyni/kh/pvn9htL4OPRK/WQ8evb32Qj93TT2/LAe6Po//YT3rDzQ/nQ4Uv9thPr4I7M4+UIIhv2hAOL9kRxu/joZlP0k/Ir+0UkA/ctobvwbJ0z6laho/wLV0Par0Nb+ejIY9lAAJv7CCNj9WpBi/VSa6vhX+hL65e40+pYNMP/2PYj/+7Ua/FM8BP0VkcT9UDCO/BG9Uv8k2dL/BGg6/gnw5vIW3Nr8UaQ2/IHpkP7YM5D6Fu9O+dY5BP6IfCL8m8T0/jmlhvnLcID9Fnmi/QU2ZvkD8Fb9c7CW+yvwwv2rgZz3UNTq+G13MPcndCz+b3de+zGI0Pfh57j7JMEA+sBpEPeUTrT7YxDo/psE7vx/+C7/243Y/0cIVPpjMyL4Jdei+MMHUvtKsXT/Au1Y/5O/7vh8hJ73oHBO+95NIv+l3gz6JoFc/xBbpPZrfrz7jR4K8py7vvEotNL+Dbva++okPP1q6Cb/aV/S+kdlBP3jblj7el/e+Aq6nPZwaET/1lyu/UEpSvubOJ74+rT+/t6AaP540AT8NtT4/zzS7PJJ0/74IB7K+/n4yP/hgo75hXU+/ur5lv7jMIr949Aa/NxgtP5VJTr1jR24/T4R/PjU7Sr2O4Yq+riv7vq+0fb9rZbm+xoE+v+38LD+ZPoA8iAtTvpXSzTyFSNe+fjNXv/S74767Yle+uGgBv+74NT+2cuq+P2YWv7bctj6/jcs+c5U+v6UTgr12XGu+FmYpP/umbj8IIDu/2fkivYdQpr7nbt09hNRBP8wP9b5H+pE9+XdsvvCp7L7AWUg/L+Brv3byfT9ypXg/EKBGPx69cb8JCVi/3QRbvxT2zL5pZwm/2+u9vm2pQD7oJ6u+pblGPiivpL56cqW+E/twvxw1Nj+LFn2/QWorP/N0jT7edoa+JTqnPpko7j4A5XO/Yb3fPh7TZb9Hb2Y/oS93P7WBPz6kpE6/iJhmvpmpuz5u9vy+ARcRv7Oc5L73xBE/KCERP8kdsT40414//i6jvfFoJj+6fuM+0ck9P/eUXjzVJAM/BECAvvASK7/WDmk/oIPyPv3/nr4TKzS+W4s/Pzrruz5oxCi9RnssP0g+Xr+UM988nsoePwMSRj2A1M2+vmamvhZbV7/LiFc+7M7mvozMyD6Gh56+SoFPP8kPCD/o2HI+9y1mPgU4Nz+Y5k8/95s4v3WlYD+hMyq/Qf8av4uCTz7YTvS8O9jevmR/T761PdC+9QyMPQMATL9oBtO74OAAv+DS1T6XRz8/oubmvkLHRb99wz+/gG1Dv8R+3D7uEA2+9sirvhE5FT93FDi/0DPHPrShCj99kcm+ualdP3QLkromGCC/wU82P6JIXL92iP0+HMBLPqHbQb4WBTe/nxg0vAUN1D7TYnU+ht0JP0TgpL2sB9Q+oaGlvrwndr+lzVU/n4y3vp+KIb9fsSk+CLUJPpxaq75t9Tg9D6LZPsFidz/I+gs/s9aGPpofMT8X3BG/IGQevtxOdT/6rBc/hxmPPr3APT+uzMu8O2cMvIrk8774hwS+Lgx8vzNRYD5sYbu+bMkFv0w+Wz+f+g6/vGFbP03pEz+W9h2/SCRDPwbyjz7mNvY++NqmPuFCRT/GCK4+3ZQlvhUZLT9qlUS/iINFvxYZDz+2c3C/dhg3P/gj2L72wDU/PnS1PuGfYj9yuNG+KOfGvRBNMj9YNBG+S3kKP2mhVT5W8yA93BDZPts7dr+pG5A+o/1WPwt4M78lwA6/Qhwwv7UnD78ojiC+w03oPg==",
          "dtype": "f4"
         },
         "z": {
          "bdata": "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",
          "dtype": "f4"
         }
        }
       ],
       "layout": {
        "height": 768,
        "legend": {
         "tracegroupgap": 0
        },
        "margin": {
         "t": 60
        },
        "scene": {
         "aspectmode": "cube",
         "domain": {
          "x": [
           0,
           1
          ],
          "y": [
           0,
           1
          ]
         },
         "xaxis": {
          "title": {
           "text": "x"
          }
         },
         "yaxis": {
          "title": {
           "text": "y"
          }
         },
         "zaxis": {
          "title": {
           "text": "z"
          }
         }
        },
        "template": {
         "data": {
          "bar": [
           {
            "error_x": {
             "color": "#2a3f5f"
            },
            "error_y": {
             "color": "#2a3f5f"
            },
            "marker": {
             "line": {
              "color": "#E5ECF6",
              "width": 0.5
             },
             "pattern": {
              "fillmode": "overlay",
              "size": 10,
              "solidity": 0.2
             }
            },
            "type": "bar"
           }
          ],
          "barpolar": [
           {
            "marker": {
             "line": {
              "color": "#E5ECF6",
              "width": 0.5
             },
             "pattern": {
              "fillmode": "overlay",
              "size": 10,
              "solidity": 0.2
             }
            },
            "type": "barpolar"
           }
          ],
          "carpet": [
           {
            "aaxis": {
             "endlinecolor": "#2a3f5f",
             "gridcolor": "white",
             "linecolor": "white",
             "minorgridcolor": "white",
             "startlinecolor": "#2a3f5f"
            },
            "baxis": {
             "endlinecolor": "#2a3f5f",
             "gridcolor": "white",
             "linecolor": "white",
             "minorgridcolor": "white",
             "startlinecolor": "#2a3f5f"
            },
            "type": "carpet"
           }
          ],
          "choropleth": [
           {
            "colorbar": {
             "outlinewidth": 0,
             "ticks": ""
            },
            "type": "choropleth"
           }
          ],
          "contour": [
           {
            "colorbar": {
             "outlinewidth": 0,
             "ticks": ""
            },
            "colorscale": [
             [
              0,
              "#0d0887"
             ],
             [
              0.1111111111111111,
              "#46039f"
             ],
             [
              0.2222222222222222,
              "#7201a8"
             ],
             [
              0.3333333333333333,
              "#9c179e"
             ],
             [
              0.4444444444444444,
              "#bd3786"
             ],
             [
              0.5555555555555556,
              "#d8576b"
             ],
             [
              0.6666666666666666,
              "#ed7953"
             ],
             [
              0.7777777777777778,
              "#fb9f3a"
             ],
             [
              0.8888888888888888,
              "#fdca26"
             ],
             [
              1,
              "#f0f921"
             ]
            ],
            "type": "contour"
           }
          ],
          "contourcarpet": [
           {
            "colorbar": {
             "outlinewidth": 0,
             "ticks": ""
            },
            "type": "contourcarpet"
           }
          ],
          "heatmap": [
           {
            "colorbar": {
             "outlinewidth": 0,
             "ticks": ""
            },
            "colorscale": [
             [
              0,
              "#0d0887"
             ],
             [
              0.1111111111111111,
              "#46039f"
             ],
             [
              0.2222222222222222,
              "#7201a8"
             ],
             [
              0.3333333333333333,
              "#9c179e"
             ],
             [
              0.4444444444444444,
              "#bd3786"
             ],
             [
              0.5555555555555556,
              "#d8576b"
             ],
             [
              0.6666666666666666,
              "#ed7953"
             ],
             [
              0.7777777777777778,
              "#fb9f3a"
             ],
             [
              0.8888888888888888,
              "#fdca26"
             ],
             [
              1,
              "#f0f921"
             ]
            ],
            "type": "heatmap"
           }
          ],
          "histogram": [
           {
            "marker": {
             "pattern": {
              "fillmode": "overlay",
              "size": 10,
              "solidity": 0.2
             }
            },
            "type": "histogram"
           }
          ],
          "histogram2d": [
           {
            "colorbar": {
             "outlinewidth": 0,
             "ticks": ""
            },
            "colorscale": [
             [
              0,
              "#0d0887"
             ],
             [
              0.1111111111111111,
              "#46039f"
             ],
             [
              0.2222222222222222,
              "#7201a8"
             ],
             [
              0.3333333333333333,
              "#9c179e"
             ],
             [
              0.4444444444444444,
              "#bd3786"
             ],
             [
              0.5555555555555556,
              "#d8576b"
             ],
             [
              0.6666666666666666,
              "#ed7953"
             ],
             [
              0.7777777777777778,
              "#fb9f3a"
             ],
             [
              0.8888888888888888,
              "#fdca26"
             ],
             [
              1,
              "#f0f921"
             ]
            ],
            "type": "histogram2d"
           }
          ],
          "histogram2dcontour": [
           {
            "colorbar": {
             "outlinewidth": 0,
             "ticks": ""
            },
            "colorscale": [
             [
              0,
              "#0d0887"
             ],
             [
              0.1111111111111111,
              "#46039f"
             ],
             [
              0.2222222222222222,
              "#7201a8"
             ],
             [
              0.3333333333333333,
              "#9c179e"
             ],
             [
              0.4444444444444444,
              "#bd3786"
             ],
             [
              0.5555555555555556,
              "#d8576b"
             ],
             [
              0.6666666666666666,
              "#ed7953"
             ],
             [
              0.7777777777777778,
              "#fb9f3a"
             ],
             [
              0.8888888888888888,
              "#fdca26"
             ],
             [
              1,
              "#f0f921"
             ]
            ],
            "type": "histogram2dcontour"
           }
          ],
          "mesh3d": [
           {
            "colorbar": {
             "outlinewidth": 0,
             "ticks": ""
            },
            "type": "mesh3d"
           }
          ],
          "parcoords": [
           {
            "line": {
             "colorbar": {
              "outlinewidth": 0,
              "ticks": ""
             }
            },
            "type": "parcoords"
           }
          ],
          "pie": [
           {
            "automargin": true,
            "type": "pie"
           }
          ],
          "scatter": [
           {
            "fillpattern": {
             "fillmode": "overlay",
             "size": 10,
             "solidity": 0.2
            },
            "type": "scatter"
           }
          ],
          "scatter3d": [
           {
            "line": {
             "colorbar": {
              "outlinewidth": 0,
              "ticks": ""
             }
            },
            "marker": {
             "colorbar": {
              "outlinewidth": 0,
              "ticks": ""
             }
            },
            "type": "scatter3d"
           }
          ],
          "scattercarpet": [
           {
            "marker": {
             "colorbar": {
              "outlinewidth": 0,
              "ticks": ""
             }
            },
            "type": "scattercarpet"
           }
          ],
          "scattergeo": [
           {
            "marker": {
             "colorbar": {
              "outlinewidth": 0,
              "ticks": ""
             }
            },
            "type": "scattergeo"
           }
          ],
          "scattergl": [
           {
            "marker": {
             "colorbar": {
              "outlinewidth": 0,
              "ticks": ""
             }
            },
            "type": "scattergl"
           }
          ],
          "scattermap": [
           {
            "marker": {
             "colorbar": {
              "outlinewidth": 0,
              "ticks": ""
             }
            },
            "type": "scattermap"
           }
          ],
          "scattermapbox": [
           {
            "marker": {
             "colorbar": {
              "outlinewidth": 0,
              "ticks": ""
             }
            },
            "type": "scattermapbox"
           }
          ],
          "scatterpolar": [
           {
            "marker": {
             "colorbar": {
              "outlinewidth": 0,
              "ticks": ""
             }
            },
            "type": "scatterpolar"
           }
          ],
          "scatterpolargl": [
           {
            "marker": {
             "colorbar": {
              "outlinewidth": 0,
              "ticks": ""
             }
            },
            "type": "scatterpolargl"
           }
          ],
          "scatterternary": [
           {
            "marker": {
             "colorbar": {
              "outlinewidth": 0,
              "ticks": ""
             }
            },
            "type": "scatterternary"
           }
          ],
          "surface": [
           {
            "colorbar": {
             "outlinewidth": 0,
             "ticks": ""
            },
            "colorscale": [
             [
              0,
              "#0d0887"
             ],
             [
              0.1111111111111111,
              "#46039f"
             ],
             [
              0.2222222222222222,
              "#7201a8"
             ],
             [
              0.3333333333333333,
              "#9c179e"
             ],
             [
              0.4444444444444444,
              "#bd3786"
             ],
             [
              0.5555555555555556,
              "#d8576b"
             ],
             [
              0.6666666666666666,
              "#ed7953"
             ],
             [
              0.7777777777777778,
              "#fb9f3a"
             ],
             [
              0.8888888888888888,
              "#fdca26"
             ],
             [
              1,
              "#f0f921"
             ]
            ],
            "type": "surface"
           }
          ],
          "table": [
           {
            "cells": {
             "fill": {
              "color": "#EBF0F8"
             },
             "line": {
              "color": "white"
             }
            },
            "header": {
             "fill": {
              "color": "#C8D4E3"
             },
             "line": {
              "color": "white"
             }
            },
            "type": "table"
           }
          ]
         },
         "layout": {
          "annotationdefaults": {
           "arrowcolor": "#2a3f5f",
           "arrowhead": 0,
           "arrowwidth": 1
          },
          "autotypenumbers": "strict",
          "coloraxis": {
           "colorbar": {
            "outlinewidth": 0,
            "ticks": ""
           }
          },
          "colorscale": {
           "diverging": [
            [
             0,
             "#8e0152"
            ],
            [
             0.1,
             "#c51b7d"
            ],
            [
             0.2,
             "#de77ae"
            ],
            [
             0.3,
             "#f1b6da"
            ],
            [
             0.4,
             "#fde0ef"
            ],
            [
             0.5,
             "#f7f7f7"
            ],
            [
             0.6,
             "#e6f5d0"
            ],
            [
             0.7,
             "#b8e186"
            ],
            [
             0.8,
             "#7fbc41"
            ],
            [
             0.9,
             "#4d9221"
            ],
            [
             1,
             "#276419"
            ]
           ],
           "sequential": [
            [
             0,
             "#0d0887"
            ],
            [
             0.1111111111111111,
             "#46039f"
            ],
            [
             0.2222222222222222,
             "#7201a8"
            ],
            [
             0.3333333333333333,
             "#9c179e"
            ],
            [
             0.4444444444444444,
             "#bd3786"
            ],
            [
             0.5555555555555556,
             "#d8576b"
            ],
            [
             0.6666666666666666,
             "#ed7953"
            ],
            [
             0.7777777777777778,
             "#fb9f3a"
            ],
            [
             0.8888888888888888,
             "#fdca26"
            ],
            [
             1,
             "#f0f921"
            ]
           ],
           "sequentialminus": [
            [
             0,
             "#0d0887"
            ],
            [
             0.1111111111111111,
             "#46039f"
            ],
            [
             0.2222222222222222,
             "#7201a8"
            ],
            [
             0.3333333333333333,
             "#9c179e"
            ],
            [
             0.4444444444444444,
             "#bd3786"
            ],
            [
             0.5555555555555556,
             "#d8576b"
            ],
            [
             0.6666666666666666,
             "#ed7953"
            ],
            [
             0.7777777777777778,
             "#fb9f3a"
            ],
            [
             0.8888888888888888,
             "#fdca26"
            ],
            [
             1,
             "#f0f921"
            ]
           ]
          },
          "colorway": [
           "#636efa",
           "#EF553B",
           "#00cc96",
           "#ab63fa",
           "#FFA15A",
           "#19d3f3",
           "#FF6692",
           "#B6E880",
           "#FF97FF",
           "#FECB52"
          ],
          "font": {
           "color": "#2a3f5f"
          },
          "geo": {
           "bgcolor": "white",
           "lakecolor": "white",
           "landcolor": "#E5ECF6",
           "showlakes": true,
           "showland": true,
           "subunitcolor": "white"
          },
          "hoverlabel": {
           "align": "left"
          },
          "hovermode": "closest",
          "mapbox": {
           "style": "light"
          },
          "paper_bgcolor": "white",
          "plot_bgcolor": "#E5ECF6",
          "polar": {
           "angularaxis": {
            "gridcolor": "white",
            "linecolor": "white",
            "ticks": ""
           },
           "bgcolor": "#E5ECF6",
           "radialaxis": {
            "gridcolor": "white",
            "linecolor": "white",
            "ticks": ""
           }
          },
          "scene": {
           "xaxis": {
            "backgroundcolor": "#E5ECF6",
            "gridcolor": "white",
            "gridwidth": 2,
            "linecolor": "white",
            "showbackground": true,
            "ticks": "",
            "zerolinecolor": "white"
           },
           "yaxis": {
            "backgroundcolor": "#E5ECF6",
            "gridcolor": "white",
            "gridwidth": 2,
            "linecolor": "white",
            "showbackground": true,
            "ticks": "",
            "zerolinecolor": "white"
           },
           "zaxis": {
            "backgroundcolor": "#E5ECF6",
            "gridcolor": "white",
            "gridwidth": 2,
            "linecolor": "white",
            "showbackground": true,
            "ticks": "",
            "zerolinecolor": "white"
           }
          },
          "shapedefaults": {
           "line": {
            "color": "#2a3f5f"
           }
          },
          "ternary": {
           "aaxis": {
            "gridcolor": "white",
            "linecolor": "white",
            "ticks": ""
           },
           "baxis": {
            "gridcolor": "white",
            "linecolor": "white",
            "ticks": ""
           },
           "bgcolor": "#E5ECF6",
           "caxis": {
            "gridcolor": "white",
            "linecolor": "white",
            "ticks": ""
           }
          },
          "title": {
           "x": 0.05
          },
          "xaxis": {
           "automargin": true,
           "gridcolor": "white",
           "linecolor": "white",
           "ticks": "",
           "title": {
            "standoff": 15
           },
           "zerolinecolor": "white",
           "zerolinewidth": 2
          },
          "yaxis": {
           "automargin": true,
           "gridcolor": "white",
           "linecolor": "white",
           "ticks": "",
           "title": {
            "standoff": 15
           },
           "zerolinecolor": "white",
           "zerolinewidth": 2
          }
         }
        },
        "width": 1024
       }
      }
     },
     "metadata": {},
     "output_type": "display_data"
    }
   ],
   "source": [
    "import plotly.express as px\n",
    "\n",
    "\n",
    "centered = subset - subset.mean(axis=0)\n",
    "U, S, Vt = np.linalg.svd(centered, full_matrices=False)\n",
    "whitened = centered @ Vt.T / S\n",
    "whitened /= np.linalg.norm(whitened, axis=1, keepdims=True)\n",
    "fig = px.scatter_3d(\n",
    "    x=whitened[:, 0],\n",
    "    y=whitened[:, 1],\n",
    "    z=whitened[:, 2],\n",
    "    opacity=0.4)\n",
    "fig.update_traces(marker=dict(size=2))\n",
    "fig.update_layout(width=1024,\n",
    "                  height=768, scene=dict(aspectmode='cube'))\n",
    "fig.show()"
   ]
  },
  {
   "cell_type": "markdown",
   "id": "e1bd6f2d",
   "metadata": {},
   "source": [
    "# Raw"
   ]
  },
  {
   "cell_type": "code",
   "execution_count": 4,
   "id": "ba54f0d1",
   "metadata": {},
   "outputs": [
    {
     "name": "stdout",
     "output_type": "stream",
     "text": [
      "Removed 0 outlier points out of 10000 (0.00%)\n",
      "x: min=-0.035323 max=-0.034646 span=0.000677 mean=-0.035014 std=0.000083\n",
      "y: min=0.110261 max=0.110981 span=0.000719 mean=0.110711 std=0.000075\n",
      "z: min=-0.132297 max=-0.131648 span=0.000649 mean=-0.132017 std=0.000081\n",
      "Using standardized coordinates: False\n",
      "Using scaling mode: symmetric\n",
      "Ranges -> x:[-0.035344444, -0.034625202] y:[0.11026126, 0.11098051] z:[-0.13233203, -0.13161278]\n"
     ]
    },
    {
     "data": {
      "application/vnd.plotly.v1+json": {
       "config": {
        "plotlyServerURL": "https://plot.ly"
       },
       "data": [
        {
         "hovertemplate": "x=%{x}<br>y=%{y}<br>z=%{z}<extra></extra>",
         "legendgroup": "",
         "marker": {
          "color": "#636efa",
          "opacity": 0.5,
          "size": 2,
          "symbol": "circle"
         },
         "mode": "markers",
         "name": "",
         "scene": "scene",
         "showlegend": false,
         "type": "scatter3d",
         "x": {
          "bdata": "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",
          "dtype": "f4"
         },
         "y": {
          "bdata": "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",
          "dtype": "f4"
         },
         "z": {
          "bdata": "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",
          "dtype": "f4"
         }
        }
       ],
       "layout": {
        "height": 768,
        "legend": {
         "tracegroupgap": 0
        },
        "margin": {
         "t": 60
        },
        "scene": {
         "aspectmode": "cube",
         "domain": {
          "x": [
           0,
           1
          ],
          "y": [
           0,
           1
          ]
         },
         "xaxis": {
          "range": [
           -0.0353444442152977,
           -0.03462520241737366
          ],
          "title": {
           "text": "x"
          }
         },
         "yaxis": {
          "range": [
           0.11026126146316528,
           0.11098051071166992
          ],
          "title": {
           "text": "y"
          }
         },
         "zaxis": {
          "range": [
           -0.13233202695846558,
           -0.13161277770996094
          ],
          "title": {
           "text": "z"
          }
         }
        },
        "template": {
         "data": {
          "bar": [
           {
            "error_x": {
             "color": "#2a3f5f"
            },
            "error_y": {
             "color": "#2a3f5f"
            },
            "marker": {
             "line": {
              "color": "#E5ECF6",
              "width": 0.5
             },
             "pattern": {
              "fillmode": "overlay",
              "size": 10,
              "solidity": 0.2
             }
            },
            "type": "bar"
           }
          ],
          "barpolar": [
           {
            "marker": {
             "line": {
              "color": "#E5ECF6",
              "width": 0.5
             },
             "pattern": {
              "fillmode": "overlay",
              "size": 10,
              "solidity": 0.2
             }
            },
            "type": "barpolar"
           }
          ],
          "carpet": [
           {
            "aaxis": {
             "endlinecolor": "#2a3f5f",
             "gridcolor": "white",
             "linecolor": "white",
             "minorgridcolor": "white",
             "startlinecolor": "#2a3f5f"
            },
            "baxis": {
             "endlinecolor": "#2a3f5f",
             "gridcolor": "white",
             "linecolor": "white",
             "minorgridcolor": "white",
             "startlinecolor": "#2a3f5f"
            },
            "type": "carpet"
           }
          ],
          "choropleth": [
           {
            "colorbar": {
             "outlinewidth": 0,
             "ticks": ""
            },
            "type": "choropleth"
           }
          ],
          "contour": [
           {
            "colorbar": {
             "outlinewidth": 0,
             "ticks": ""
            },
            "colorscale": [
             [
              0,
              "#0d0887"
             ],
             [
              0.1111111111111111,
              "#46039f"
             ],
             [
              0.2222222222222222,
              "#7201a8"
             ],
             [
              0.3333333333333333,
              "#9c179e"
             ],
             [
              0.4444444444444444,
              "#bd3786"
             ],
             [
              0.5555555555555556,
              "#d8576b"
             ],
             [
              0.6666666666666666,
              "#ed7953"
             ],
             [
              0.7777777777777778,
              "#fb9f3a"
             ],
             [
              0.8888888888888888,
              "#fdca26"
             ],
             [
              1,
              "#f0f921"
             ]
            ],
            "type": "contour"
           }
          ],
          "contourcarpet": [
           {
            "colorbar": {
             "outlinewidth": 0,
             "ticks": ""
            },
            "type": "contourcarpet"
           }
          ],
          "heatmap": [
           {
            "colorbar": {
             "outlinewidth": 0,
             "ticks": ""
            },
            "colorscale": [
             [
              0,
              "#0d0887"
             ],
             [
              0.1111111111111111,
              "#46039f"
             ],
             [
              0.2222222222222222,
              "#7201a8"
             ],
             [
              0.3333333333333333,
              "#9c179e"
             ],
             [
              0.4444444444444444,
              "#bd3786"
             ],
             [
              0.5555555555555556,
              "#d8576b"
             ],
             [
              0.6666666666666666,
              "#ed7953"
             ],
             [
              0.7777777777777778,
              "#fb9f3a"
             ],
             [
              0.8888888888888888,
              "#fdca26"
             ],
             [
              1,
              "#f0f921"
             ]
            ],
            "type": "heatmap"
           }
          ],
          "histogram": [
           {
            "marker": {
             "pattern": {
              "fillmode": "overlay",
              "size": 10,
              "solidity": 0.2
             }
            },
            "type": "histogram"
           }
          ],
          "histogram2d": [
           {
            "colorbar": {
             "outlinewidth": 0,
             "ticks": ""
            },
            "colorscale": [
             [
              0,
              "#0d0887"
             ],
             [
              0.1111111111111111,
              "#46039f"
             ],
             [
              0.2222222222222222,
              "#7201a8"
             ],
             [
              0.3333333333333333,
              "#9c179e"
             ],
             [
              0.4444444444444444,
              "#bd3786"
             ],
             [
              0.5555555555555556,
              "#d8576b"
             ],
             [
              0.6666666666666666,
              "#ed7953"
             ],
             [
              0.7777777777777778,
              "#fb9f3a"
             ],
             [
              0.8888888888888888,
              "#fdca26"
             ],
             [
              1,
              "#f0f921"
             ]
            ],
            "type": "histogram2d"
           }
          ],
          "histogram2dcontour": [
           {
            "colorbar": {
             "outlinewidth": 0,
             "ticks": ""
            },
            "colorscale": [
             [
              0,
              "#0d0887"
             ],
             [
              0.1111111111111111,
              "#46039f"
             ],
             [
              0.2222222222222222,
              "#7201a8"
             ],
             [
              0.3333333333333333,
              "#9c179e"
             ],
             [
              0.4444444444444444,
              "#bd3786"
             ],
             [
              0.5555555555555556,
              "#d8576b"
             ],
             [
              0.6666666666666666,
              "#ed7953"
             ],
             [
              0.7777777777777778,
              "#fb9f3a"
             ],
             [
              0.8888888888888888,
              "#fdca26"
             ],
             [
              1,
              "#f0f921"
             ]
            ],
            "type": "histogram2dcontour"
           }
          ],
          "mesh3d": [
           {
            "colorbar": {
             "outlinewidth": 0,
             "ticks": ""
            },
            "type": "mesh3d"
           }
          ],
          "parcoords": [
           {
            "line": {
             "colorbar": {
              "outlinewidth": 0,
              "ticks": ""
             }
            },
            "type": "parcoords"
           }
          ],
          "pie": [
           {
            "automargin": true,
            "type": "pie"
           }
          ],
          "scatter": [
           {
            "fillpattern": {
             "fillmode": "overlay",
             "size": 10,
             "solidity": 0.2
            },
            "type": "scatter"
           }
          ],
          "scatter3d": [
           {
            "line": {
             "colorbar": {
              "outlinewidth": 0,
              "ticks": ""
             }
            },
            "marker": {
             "colorbar": {
              "outlinewidth": 0,
              "ticks": ""
             }
            },
            "type": "scatter3d"
           }
          ],
          "scattercarpet": [
           {
            "marker": {
             "colorbar": {
              "outlinewidth": 0,
              "ticks": ""
             }
            },
            "type": "scattercarpet"
           }
          ],
          "scattergeo": [
           {
            "marker": {
             "colorbar": {
              "outlinewidth": 0,
              "ticks": ""
             }
            },
            "type": "scattergeo"
           }
          ],
          "scattergl": [
           {
            "marker": {
             "colorbar": {
              "outlinewidth": 0,
              "ticks": ""
             }
            },
            "type": "scattergl"
           }
          ],
          "scattermap": [
           {
            "marker": {
             "colorbar": {
              "outlinewidth": 0,
              "ticks": ""
             }
            },
            "type": "scattermap"
           }
          ],
          "scattermapbox": [
           {
            "marker": {
             "colorbar": {
              "outlinewidth": 0,
              "ticks": ""
             }
            },
            "type": "scattermapbox"
           }
          ],
          "scatterpolar": [
           {
            "marker": {
             "colorbar": {
              "outlinewidth": 0,
              "ticks": ""
             }
            },
            "type": "scatterpolar"
           }
          ],
          "scatterpolargl": [
           {
            "marker": {
             "colorbar": {
              "outlinewidth": 0,
              "ticks": ""
             }
            },
            "type": "scatterpolargl"
           }
          ],
          "scatterternary": [
           {
            "marker": {
             "colorbar": {
              "outlinewidth": 0,
              "ticks": ""
             }
            },
            "type": "scatterternary"
           }
          ],
          "surface": [
           {
            "colorbar": {
             "outlinewidth": 0,
             "ticks": ""
            },
            "colorscale": [
             [
              0,
              "#0d0887"
             ],
             [
              0.1111111111111111,
              "#46039f"
             ],
             [
              0.2222222222222222,
              "#7201a8"
             ],
             [
              0.3333333333333333,
              "#9c179e"
             ],
             [
              0.4444444444444444,
              "#bd3786"
             ],
             [
              0.5555555555555556,
              "#d8576b"
             ],
             [
              0.6666666666666666,
              "#ed7953"
             ],
             [
              0.7777777777777778,
              "#fb9f3a"
             ],
             [
              0.8888888888888888,
              "#fdca26"
             ],
             [
              1,
              "#f0f921"
             ]
            ],
            "type": "surface"
           }
          ],
          "table": [
           {
            "cells": {
             "fill": {
              "color": "#EBF0F8"
             },
             "line": {
              "color": "white"
             }
            },
            "header": {
             "fill": {
              "color": "#C8D4E3"
             },
             "line": {
              "color": "white"
             }
            },
            "type": "table"
           }
          ]
         },
         "layout": {
          "annotationdefaults": {
           "arrowcolor": "#2a3f5f",
           "arrowhead": 0,
           "arrowwidth": 1
          },
          "autotypenumbers": "strict",
          "coloraxis": {
           "colorbar": {
            "outlinewidth": 0,
            "ticks": ""
           }
          },
          "colorscale": {
           "diverging": [
            [
             0,
             "#8e0152"
            ],
            [
             0.1,
             "#c51b7d"
            ],
            [
             0.2,
             "#de77ae"
            ],
            [
             0.3,
             "#f1b6da"
            ],
            [
             0.4,
             "#fde0ef"
            ],
            [
             0.5,
             "#f7f7f7"
            ],
            [
             0.6,
             "#e6f5d0"
            ],
            [
             0.7,
             "#b8e186"
            ],
            [
             0.8,
             "#7fbc41"
            ],
            [
             0.9,
             "#4d9221"
            ],
            [
             1,
             "#276419"
            ]
           ],
           "sequential": [
            [
             0,
             "#0d0887"
            ],
            [
             0.1111111111111111,
             "#46039f"
            ],
            [
             0.2222222222222222,
             "#7201a8"
            ],
            [
             0.3333333333333333,
             "#9c179e"
            ],
            [
             0.4444444444444444,
             "#bd3786"
            ],
            [
             0.5555555555555556,
             "#d8576b"
            ],
            [
             0.6666666666666666,
             "#ed7953"
            ],
            [
             0.7777777777777778,
             "#fb9f3a"
            ],
            [
             0.8888888888888888,
             "#fdca26"
            ],
            [
             1,
             "#f0f921"
            ]
           ],
           "sequentialminus": [
            [
             0,
             "#0d0887"
            ],
            [
             0.1111111111111111,
             "#46039f"
            ],
            [
             0.2222222222222222,
             "#7201a8"
            ],
            [
             0.3333333333333333,
             "#9c179e"
            ],
            [
             0.4444444444444444,
             "#bd3786"
            ],
            [
             0.5555555555555556,
             "#d8576b"
            ],
            [
             0.6666666666666666,
             "#ed7953"
            ],
            [
             0.7777777777777778,
             "#fb9f3a"
            ],
            [
             0.8888888888888888,
             "#fdca26"
            ],
            [
             1,
             "#f0f921"
            ]
           ]
          },
          "colorway": [
           "#636efa",
           "#EF553B",
           "#00cc96",
           "#ab63fa",
           "#FFA15A",
           "#19d3f3",
           "#FF6692",
           "#B6E880",
           "#FF97FF",
           "#FECB52"
          ],
          "font": {
           "color": "#2a3f5f"
          },
          "geo": {
           "bgcolor": "white",
           "lakecolor": "white",
           "landcolor": "#E5ECF6",
           "showlakes": true,
           "showland": true,
           "subunitcolor": "white"
          },
          "hoverlabel": {
           "align": "left"
          },
          "hovermode": "closest",
          "mapbox": {
           "style": "light"
          },
          "paper_bgcolor": "white",
          "plot_bgcolor": "#E5ECF6",
          "polar": {
           "angularaxis": {
            "gridcolor": "white",
            "linecolor": "white",
            "ticks": ""
           },
           "bgcolor": "#E5ECF6",
           "radialaxis": {
            "gridcolor": "white",
            "linecolor": "white",
            "ticks": ""
           }
          },
          "scene": {
           "xaxis": {
            "backgroundcolor": "#E5ECF6",
            "gridcolor": "white",
            "gridwidth": 2,
            "linecolor": "white",
            "showbackground": true,
            "ticks": "",
            "zerolinecolor": "white"
           },
           "yaxis": {
            "backgroundcolor": "#E5ECF6",
            "gridcolor": "white",
            "gridwidth": 2,
            "linecolor": "white",
            "showbackground": true,
            "ticks": "",
            "zerolinecolor": "white"
           },
           "zaxis": {
            "backgroundcolor": "#E5ECF6",
            "gridcolor": "white",
            "gridwidth": 2,
            "linecolor": "white",
            "showbackground": true,
            "ticks": "",
            "zerolinecolor": "white"
           }
          },
          "shapedefaults": {
           "line": {
            "color": "#2a3f5f"
           }
          },
          "ternary": {
           "aaxis": {
            "gridcolor": "white",
            "linecolor": "white",
            "ticks": ""
           },
           "baxis": {
            "gridcolor": "white",
            "linecolor": "white",
            "ticks": ""
           },
           "bgcolor": "#E5ECF6",
           "caxis": {
            "gridcolor": "white",
            "linecolor": "white",
            "ticks": ""
           }
          },
          "title": {
           "x": 0.05
          },
          "xaxis": {
           "automargin": true,
           "gridcolor": "white",
           "linecolor": "white",
           "ticks": "",
           "title": {
            "standoff": 15
           },
           "zerolinecolor": "white",
           "zerolinewidth": 2
          },
          "yaxis": {
           "automargin": true,
           "gridcolor": "white",
           "linecolor": "white",
           "ticks": "",
           "title": {
            "standoff": 15
           },
           "zerolinecolor": "white",
           "zerolinewidth": 2
          }
         }
        },
        "width": 1024
       }
      }
     },
     "metadata": {},
     "output_type": "display_data"
    }
   ],
   "source": [
    "import numpy as np\n",
    "import plotly.express as px\n",
    "\n",
    "# Expect subset to be defined already (sampled points)\n",
    "dim_indices = (0, 1, 2)\n",
    "\n",
    "x, y, z = (subset[:, i] for i in dim_indices)\n",
    "\n",
    "# Outlier filtering parameters\n",
    "lower_q = 0.0\n",
    "upper_q = 1.0\n",
    "\n",
    "x_low, x_high = np.quantile(x, [lower_q, upper_q])\n",
    "y_low, y_high = np.quantile(y, [lower_q, upper_q])\n",
    "z_low, z_high = np.quantile(z, [lower_q, upper_q])\n",
    "\n",
    "mask = (\n",
    "    (x >= x_low) & (x <= x_high) &\n",
    "    (y >= y_low) & (y <= y_high) &\n",
    "    (z >= z_low) & (z <= z_high)\n",
    ")\n",
    "\n",
    "removed_count = (~mask).sum()\n",
    "print(f\"Removed {removed_count} outlier points out of {subset.shape[0]} ({removed_count / subset.shape[0]:.2%})\")\n",
    "\n",
    "if removed_count > 0:\n",
    "    outliers = np.column_stack([x[~mask], y[~mask], z[~mask]])\n",
    "    max_print = 10\n",
    "    print(\"Sample outlier points (x,y,z):\")\n",
    "    print(outliers[:max_print])\n",
    "\n",
    "# Keep only inliers\n",
    "x_f, y_f, z_f = x[mask], y[mask], z[mask]\n",
    "\n",
    "# Axis stats BEFORE unification (for debugging / understanding clustering)\n",
    "for name, arr in zip(['x','y','z'], [x_f, y_f, z_f]):\n",
    "    print(f\"{name}: min={arr.min():.6f} max={arr.max():.6f} span={(arr.max()-arr.min()):.6f} mean={arr.mean():.6f} std={arr.std():.6f}\")\n",
    "\n",
    "# Detect degenerate (near-constant) axes\n",
    "EPS = 1e-12\n",
    "spans = np.array([x_f.max()-x_f.min(), y_f.max()-y_f.min(), z_f.max()-z_f.min()])\n",
    "if np.any(spans < EPS):\n",
    "    print(\"WARNING: One or more axes have (near) zero span. Data may be constant or precision-collapsed.\")\n",
    "\n",
    "# Optional standardization to reveal variation if values are very tiny\n",
    "apply_standardize_if_tiny = True\n",
    "tiny_threshold = 1e-8\n",
    "if apply_standardize_if_tiny and np.all(spans < tiny_threshold):\n",
    "    print(\"All spans are tiny; applying z-score standardization to x,y,z for visualization only.\")\n",
    "    def safe_std(a):\n",
    "        s = a.std()\n",
    "        return s if s > 0 else 1.0\n",
    "    x_v = (x_f - x_f.mean()) / safe_std(x_f)\n",
    "    y_v = (y_f - y_f.mean()) / safe_std(y_f)\n",
    "    z_v = (z_f - z_f.mean()) / safe_std(z_f)\n",
    "    standardized = True\n",
    "else:\n",
    "    x_v, y_v, z_v = x_f, y_f, z_f\n",
    "    standardized = False\n",
    "print(f\"Using standardized coordinates: {standardized}\")\n",
    "\n",
    "# Scaling strategy options\n",
    "# 'symmetric': center each axis at its own midpoint but use the MAX half-span (after any standardization)\n",
    "# 'independent': each axis keeps its own min/max\n",
    "# 'global': single global min/max across axes (can collapse if data spans are identical tiny intervals)\n",
    "scaling_mode = 'symmetric'  # change to 'symmetric' if collapse persists\n",
    "\n",
    "if scaling_mode == 'independent':\n",
    "    xr, yr, zr = ( [x_v.min(), x_v.max()], [y_v.min(), y_v.max()], [z_v.min(), z_v.max()] )\n",
    "elif scaling_mode == 'global':\n",
    "    vals = np.concatenate([x_v, y_v, z_v])\n",
    "    gmin, gmax = float(vals.min()), float(vals.max())\n",
    "    if abs(gmax - gmin) < EPS:\n",
    "        # Expand artificially so Plotly can render a volume\n",
    "        pad = 1.0 if standardized else 1e-3\n",
    "        print(f\"Global span ~0 (gmin={gmin:.6g}, gmax={gmax:.6g}); padding by +/-{pad}\")\n",
    "        gmin -= pad\n",
    "        gmax += pad\n",
    "    xr = yr = zr = [gmin, gmax]\n",
    "else:  # symmetric\n",
    "    mins = np.array([x_v.min(), y_v.min(), z_v.min()])\n",
    "    maxs = np.array([x_v.max(), y_v.max(), z_v.max()])\n",
    "    centers = (mins + maxs) / 2.0\n",
    "    half_spans = (maxs - mins) / 2.0\n",
    "    H = half_spans.max()\n",
    "    if H < EPS:\n",
    "        H = 1.0 if standardized else 1e-3\n",
    "        print(f\"Symmetric mode: half-span ~0, padding H={H}\")\n",
    "    xr = [centers[0]-H, centers[0]+H]\n",
    "    yr = [centers[1]-H, centers[1]+H]\n",
    "    zr = [centers[2]-H, centers[2]+H]\n",
    "\n",
    "print(f\"Using scaling mode: {scaling_mode}\")\n",
    "print(f\"Ranges -> x:{xr} y:{yr} z:{zr}\")\n",
    "\n",
    "fig = px.scatter_3d(x=x_v, y=y_v, z=z_v, opacity=0.5)\n",
    "fig.update_traces(marker=dict(size=2))\n",
    "fig.update_layout(\n",
    "    width=1024,\n",
    "    height=768,\n",
    "    scene=dict(\n",
    "        xaxis=dict(range=xr),\n",
    "        yaxis=dict(range=yr),\n",
    "        zaxis=dict(range=zr),\n",
    "        aspectmode='cube'\n",
    "    )\n",
    ")\n",
    "fig.show()\n",
    "\n",
    "filtered_indices = np.nonzero(mask)[0]"
   ]
  },
  {
   "cell_type": "markdown",
   "id": "7087bee9",
   "metadata": {},
   "source": [
    "# UMAP Hi-dim"
   ]
  },
  {
   "cell_type": "code",
   "execution_count": 13,
   "id": "a77fd82f",
   "metadata": {},
   "outputs": [],
   "source": [
    "hd_subset = X[subset_idx]"
   ]
  },
  {
   "cell_type": "code",
   "execution_count": 14,
   "id": "73e3c2b6",
   "metadata": {},
   "outputs": [
    {
     "data": {
      "text/plain": [
       "(10000, 1536)"
      ]
     },
     "execution_count": 14,
     "metadata": {},
     "output_type": "execute_result"
    }
   ],
   "source": [
    "hd_subset.shape"
   ]
  },
  {
   "cell_type": "code",
   "execution_count": 16,
   "id": "5cd2195e",
   "metadata": {},
   "outputs": [
    {
     "data": {
      "text/plain": [
       "array([[10.613586 ,  4.572473 ],\n",
       "       [10.722154 ,  4.7413826],\n",
       "       [11.199226 ,  5.150993 ],\n",
       "       ...,\n",
       "       [10.678477 ,  4.746382 ],\n",
       "       [ 7.2929125,  4.8433213],\n",
       "       [10.973627 ,  5.034195 ]], dtype=float32)"
      ]
     },
     "execution_count": 16,
     "metadata": {},
     "output_type": "execute_result"
    }
   ],
   "source": [
    "import umap\n",
    "import plotly.express as px\n",
    "\n",
    "hd_centered = hd_subset - hd_subset.mean(axis=0)\n",
    "U, S, Vt = np.linalg.svd(hd_centered, full_matrices=False)\n",
    "hd_whitened = hd_centered @ Vt.T / S\n",
    "\n",
    "# UMAP\n",
    "hd_umap_model = umap.UMAP(n_neighbors=15, n_components=2, metric='euclidean')\n",
    "hd_umap_2d_embeddings = hd_umap_model.fit_transform(hd_whitened)\n",
    "hd_umap_2d_embeddings"
   ]
  },
  {
   "cell_type": "code",
   "execution_count": null,
   "id": "913778f4",
   "metadata": {},
   "outputs": [],
   "source": [
    "hd_images_df = pd.DataFrame(hd_umap_2d_embeddings, columns=('x', 'y'))\n",
    "hd_images_df['image'] = batch_embeddable_jpeg(\n",
    "    subset_images, max_side=512, max_workers=16)\n",
    "hd_images_df['idx'] = subset_idx"
   ]
  },
  {
   "cell_type": "code",
   "execution_count": null,
   "id": "9d7f809d",
   "metadata": {},
   "outputs": [],
   "source": [
    "from bokeh.plotting import figure, show, output_notebook\n",
    "from bokeh.models import HoverTool, ColumnDataSource, CategoricalColorMapper\n",
    "from bokeh.palettes import Spectral10\n",
    "\n",
    "output_notebook()"
   ]
  },
  {
   "cell_type": "code",
   "execution_count": null,
   "id": "1cba6559",
   "metadata": {},
   "outputs": [],
   "source": [
    "datasource = ColumnDataSource(hd_images_df)\n",
    "\n",
    "plot_figure = figure(\n",
    "    title='UMAP projection of the IIIF non-ocr dataset',\n",
    "    width=1920,\n",
    "    height=1080,\n",
    "    tools=('pan, wheel_zoom, reset')\n",
    ")\n",
    "\n",
    "plot_figure.add_tools(HoverTool(tooltips=\"\"\"\n",
    "<div>\n",
    "    <div>\n",
    "        <img src='@image' style='float: left; margin: 5px 5px 5px 5px'/>\n",
    "    </div>\n",
    "    <div>\n",
    "        <span style='font-size: 16px; color: #224499'>idx:</span>\n",
    "        <span style='font-size: 18px'>@idx</span>\n",
    "    </div>\n",
    "</div>\n",
    "\"\"\"))\n",
    "\n",
    "\n",
    "plot_figure.scatter(\n",
    "    'x',\n",
    "    'y',\n",
    "    source=datasource,\n",
    "    line_alpha=0.5,\n",
    "    fill_alpha=0.5,\n",
    "    size=5,\n",
    "    # color='color'\n",
    ")\n",
    "# show(plot_figure)"
   ]
  },
  {
   "cell_type": "code",
   "execution_count": null,
   "id": "e85e1921",
   "metadata": {},
   "outputs": [],
   "source": [
    "import os\n",
    "from bokeh.embed import file_html\n",
    "from bokeh.resources import INLINE\n",
    "\n",
    "html = file_html(plot_figure, resources=INLINE, title=\"UMAP projection\")\n",
    "out_path = \"iiif_no_text_umap_2d_vlm_embed_umap_2d_plot.html\"\n",
    "with open(out_path, \"w\", encoding=\"utf-8\") as f:\n",
    "    f.write(html)\n",
    "\n",
    "print(f\"Wrote {out_path} (INLINE resources).\")\n",
    "# Optional size check\n",
    "print(\"File size (MB):\", os.path.getsize(out_path) / (1024 * 1024))"
   ]
  }
 ],
 "metadata": {
  "kernelspec": {
   "display_name": "wc-simd",
   "language": "python",
   "name": "python3"
  },
  "language_info": {
   "codemirror_mode": {
    "name": "ipython",
    "version": 3
   },
   "file_extension": ".py",
   "mimetype": "text/x-python",
   "name": "python",
   "nbconvert_exporter": "python",
   "pygments_lexer": "ipython3",
   "version": "3.10.17"
  }
 },
 "nbformat": 4,
 "nbformat_minor": 5
}
