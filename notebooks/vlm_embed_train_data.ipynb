{
 "cells": [
  {
   "cell_type": "code",
   "execution_count": 25,
   "id": "c550fdcd",
   "metadata": {},
   "outputs": [
    {
     "name": "stdout",
     "output_type": "stream",
     "text": [
      "Notebook file size: 565.48 KB\n"
     ]
    }
   ],
   "source": [
    "# get file size of this notebook\n",
    "\n",
    "import os\n",
    "print(f\"Notebook file size: {os.path.getsize('vlm_embed_train_data.ipynb') / 1024:.2f} KB\")"
   ]
  },
  {
   "cell_type": "code",
   "execution_count": null,
   "id": "28a1fb52",
   "metadata": {},
   "outputs": [],
   "source": [
    "import numpy as np\n",
    "\n",
    "data = np.load('../data/vlm_embed/iiif_no_text_embedding_matrix.npy', allow_pickle=True)"
   ]
  },
  {
   "cell_type": "markdown",
   "id": "5bbe42e7",
   "metadata": {},
   "source": [
    "## Common diagnostics when you’re training a **variational autoencoder (VAE)**\n",
    "\n",
    "---\n",
    "\n",
    "### **Top-left: `latent/kl_var`**\n",
    "- This shows the **KL divergence term** of your VAE’s loss, often averaged across dimensions.\n",
    "- It measures how close your approximate posterior \\( q_\\phi(z|x) \\) is to the prior \\( p(z) \\) (usually \\( \\mathcal{N}(0,I) \\)).\n",
    "- **Interpretation:**  \n",
    "  - Starts low (the encoder is ignoring the latent variables).  \n",
    "  - Rises as the encoder begins to use the latent space.  \n",
    "  - A good balance is important: too low → posterior collapse, too high → poor reconstructions.\n",
    "- The upward trend then plateauing and slightly decreasing suggests the model is learning to balance KL and reconstruction terms.\n",
    "\n",
    "---\n",
    "\n",
    "### **Top-right: `latent/logvar`**\n",
    "- This is the distribution of the **log-variance outputs** from the encoder.  \n",
    "- Each encoder latent dimension predicts a mean (`mu`) and log-variance (`logvar`), defining the Gaussian distribution from which you sample \\( z \\).  \n",
    "- **Interpretation:**  \n",
    "  - Spikes around zero mean log-variance ≈ 0 → variance ≈ 1 (close to prior).  \n",
    "  - Spread distributions show how much uncertainty the encoder is predicting for each latent dimension.\n",
    "\n",
    "---\n",
    "\n",
    "### **Bottom-left: `latent/mu`**\n",
    "- This is the distribution of the **means** predicted by the encoder for each latent variable.  \n",
    "- Ideally, they should cluster around zero if the KL regularization is working well (since prior is \\( N(0, I) \\)).  \n",
    "- If they drift too far away from zero, the KL term will increase to pull them back.\n",
    "\n",
    "---\n",
    "\n",
    "### **Bottom-right: `latent/z_sample`**\n",
    "- These are actual **samples of latent variables \\( z \\)**, drawn as \\( z = \\mu + \\sigma \\cdot \\epsilon \\) where \\( \\epsilon \\sim \\mathcal{N}(0, I) \\).  \n",
    "- This shows how the *effective latent space* looks during training.  \n",
    "- Should roughly follow a Gaussian distribution centered at zero, though skew or multimodality can appear if the VAE is strongly encoding structured information.\n",
    "\n",
    "---\n",
    "\n",
    "✅ **Putting it all together:**  \n",
    "- `latent/mu` + `latent/logvar` tell you what your encoder is outputting.  \n",
    "- `latent/z_sample` shows what you actually pass to the decoder.  \n",
    "- `latent/kl_var` tells you how far this is from the prior and whether your KL term is being respected.  \n",
    "\n",
    "---"
   ]
  },
  {
   "cell_type": "markdown",
   "id": "dde97990",
   "metadata": {},
   "source": [
    "## How you actually use the latent variable \\(z\\) once the VAE is trained.  \n",
    "\n",
    "---\n",
    "\n",
    "### 🔹 Recap: What the encoder produces\n",
    "For each input \\(x\\), the encoder outputs:\n",
    "- \\( \\mu(x) \\) → mean of the approximate posterior  \n",
    "- \\( \\log \\sigma^2(x) \\) → log-variance  \n",
    "\n",
    "So the latent posterior is:\n",
    "\\[\n",
    "q_\\phi(z|x) = \\mathcal{N}(z; \\mu(x), \\sigma^2(x) I)\n",
    "\\]\n",
    "\n",
    "And the reparameterization trick samples:\n",
    "\\[\n",
    "z = \\mu(x) + \\sigma(x) \\cdot \\epsilon, \\quad \\epsilon \\sim \\mathcal{N}(0, I)\n",
    "\\]\n",
    "\n",
    "---\n",
    "\n",
    "### 🔹 Two ways of using \\(z\\) at inference\n",
    "1. **Posterior mean (deterministic)**  \n",
    "   - Just take \\( z = \\mu(x) \\).  \n",
    "   - This ignores variance and gives the “most likely” latent code.  \n",
    "   - Useful if you want **stable reconstructions** (less noise).  \n",
    "   - Downside: you aren’t really sampling, so you might lose generative diversity.\n",
    "\n",
    "2. **Stochastic sample (sample)**  \n",
    "   - Actually draw \\( z \\) using the full distribution \\( \\mu(x), \\sigma(x) \\).  \n",
    "   - This adds noise according to the learned uncertainty.  \n",
    "   - More faithful to the probabilistic nature of the VAE.  \n",
    "   - Useful for **generation**, data augmentation, or exploring diversity.  \n",
    "\n",
    "---\n",
    "\n",
    "### 🔹 When to use which\n",
    "- **Reconstruction tasks** → use posterior mean (\\(z = \\mu(x)\\)) for sharper, more stable outputs.  \n",
    "- **Generative tasks / sampling** → use stochastic \\(z\\) so you capture the randomness and diversity.  \n",
    "- **Evaluation (e.g. ELBO)** → always stochastic, because that’s how the model was trained.  "
   ]
  },
  {
   "cell_type": "markdown",
   "id": "d89f3925",
   "metadata": {},
   "source": [
    "# Embedding Data"
   ]
  },
  {
   "cell_type": "code",
   "execution_count": 8,
   "id": "01be3408",
   "metadata": {},
   "outputs": [],
   "source": [
    "import numpy as np\n",
    "\n",
    "data_infer = '../data/vlm_embed/iiif_no_text_embedding_matrix.npy'\n",
    "\n",
    "\n",
    "X = np.load(data_infer, mmap_mode='r')\n",
    "# X = np.load(data_infer).astype(np.float32)\n",
    "# X_subset = X[np.random.choice(X.shape[0], 100000, replace=False)]\n"
   ]
  },
  {
   "cell_type": "markdown",
   "id": "3c88dc43",
   "metadata": {},
   "source": [
    "# VAE Latents"
   ]
  },
  {
   "cell_type": "code",
   "execution_count": 9,
   "id": "fcee4ed8",
   "metadata": {},
   "outputs": [],
   "source": [
    "# from wc_simd.vlm_embed_vae import VAE3DWrapper\n",
    "from wc_simd.vlm_embed_ae import load_model, resolve_device\n",
    "import torch\n",
    "\n",
    "\n",
    "device = resolve_device(\"auto\")\n",
    "sample = False\n",
    "model_checkpoint = '../runs/vlm_embed_ae3d_hires_1/ae.pt'\n",
    "model, meta = load_model(\n",
    "    model_checkpoint, device)\n",
    "# Make a copy of X to ensure it's writable before converting to tensor\n",
    "X_tensor = torch.from_numpy(X.copy()).to(device)\n",
    "Z = model.encoder(X_tensor).detach().cpu().numpy()\n",
    "# Z = wrapper.to3d(\n",
    "#     X, use_mu=(not sample),\n",
    "#     batch_size=64 * 1024)\n",
    "\n",
    "# construct output filename from model and input\n",
    "output_filename = f'../data/vlm_embed/iiif_no_text_embedding_matrix_{model_checkpoint.split(\"/\")[-2]}.npy'\n",
    "np.save(output_filename, Z)\n",
    "del Z  # free memory\n",
    "del X_tensor  # free GPU memory"
   ]
  },
  {
   "cell_type": "code",
   "execution_count": 10,
   "id": "735224c9",
   "metadata": {},
   "outputs": [],
   "source": [
    "import numpy as np\n",
    "\n",
    "# data_file = output_filename\n",
    "data_file = \"../data/vlm_embed/iiif_no_text_embedding_matrix_vlm_embed_ae3d_hires_1.npy\"\n",
    "# data_file = \"../data/vlm_embed/iiif_no_text_embedding_matrix_vlm_embed_vae3d_light_8.npy\"\n",
    "# data_file = \"../data/vlm_embed/iiif_no_text_embedding_matrix_vlm_embed_ae3d_light_2.npy\"\n",
    "\n",
    "data = np.load(data_file, allow_pickle=True)"
   ]
  },
  {
   "cell_type": "markdown",
   "id": "c3741ed3",
   "metadata": {},
   "source": [
    "# Subset"
   ]
  },
  {
   "cell_type": "code",
   "execution_count": 11,
   "id": "6eec1381",
   "metadata": {},
   "outputs": [],
   "source": [
    "subset_idx = np.random.choice(data.shape[0], 10000, replace=False)"
   ]
  },
  {
   "cell_type": "code",
   "execution_count": 12,
   "id": "e276e4b2",
   "metadata": {},
   "outputs": [],
   "source": [
    "# Save subset_idx for later use\n",
    "np.save(data_file.replace('.npy', '_subset_idx.npy'), subset_idx)"
   ]
  },
  {
   "cell_type": "code",
   "execution_count": 13,
   "id": "d4ac3168",
   "metadata": {},
   "outputs": [],
   "source": [
    "# Load subset_idx if needed\n",
    "subset_idx = np.load(data_file.replace('.npy', '_subset_idx.npy'))"
   ]
  },
  {
   "cell_type": "code",
   "execution_count": 14,
   "id": "3dbf42fb",
   "metadata": {},
   "outputs": [],
   "source": [
    "subset = data[subset_idx]\n",
    "del data"
   ]
  },
  {
   "cell_type": "markdown",
   "id": "a84f30bb",
   "metadata": {},
   "source": [
    "# Images"
   ]
  },
  {
   "cell_type": "code",
   "execution_count": 2,
   "id": "9f431e41",
   "metadata": {},
   "outputs": [
    {
     "data": {
      "text/plain": [
       "['https://iiif.wellcomecollection.org/image/b19314164_0270.jp2/full/1338,1519/0/default.jpg',\n",
       " 'https://iiif.wellcomecollection.org/image/b18597452_0033.jp2/full/1338,1636/0/default.jpg',\n",
       " 'https://iiif.wellcomecollection.org/image/b33537525_0232.jp2/full/1338,2047/0/default.jpg',\n",
       " 'https://iiif.wellcomecollection.org/image/b32274683_0049.jp2/full/1338,1671/0/default.jpg',\n",
       " 'https://iiif.wellcomecollection.org/image/b28705804_0043.jp2/full/1338,2217/0/default.jpg',\n",
       " 'https://iiif.wellcomecollection.org/image/b30634672_0189.jp2/full/1338,1697/0/default.jpg',\n",
       " 'https://iiif.wellcomecollection.org/image/b33585489_0249.jp2/full/1338,2037/0/default.jpg',\n",
       " 'https://iiif.wellcomecollection.org/image/b28705804_0366.jp2/full/1338,2102/0/default.jpg',\n",
       " 'https://iiif.wellcomecollection.org/image/b28704940_0519.jp2/full/1338,1525/0/default.jpg',\n",
       " 'https://iiif.wellcomecollection.org/image/b19191728_0174.jp2/full/1338,1629/0/default.jpg',\n",
       " 'https://iiif.wellcomecollection.org/image/b19371810_0133.jp2/full/1338,1703/0/default.jpg',\n",
       " 'https://iiif.wellcomecollection.org/image/b28705853_0037.jp2/full/1338,2270/0/default.jpg',\n",
       " 'https://iiif.wellcomecollection.org/image/b33585489_0176.jp2/full/1338,2036/0/default.jpg',\n",
       " 'https://iiif.wellcomecollection.org/image/b33245162_0001.jp2/full/1338,1691/0/default.jpg',\n",
       " 'https://iiif.wellcomecollection.org/image/b32274580_0027.jp2/full/1338,1845/0/default.jpg',\n",
       " 'https://iiif.wellcomecollection.org/image/b33585489_0028.jp2/full/1338,2126/0/default.jpg',\n",
       " 'https://iiif.wellcomecollection.org/image/b32274646_0005.jp2/full/1338,1934/0/default.jpg',\n",
       " 'https://iiif.wellcomecollection.org/image/b32274634_0072.jp2/full/1338,1771/0/default.jpg',\n",
       " 'https://iiif.wellcomecollection.org/image/b28976794_0147.jp2/full/1338,1640/0/default.jpg',\n",
       " 'https://iiif.wellcomecollection.org/image/b28705737_0146.jp2/full/1338,2069/0/default.jpg',\n",
       " 'https://iiif.wellcomecollection.org/image/b32274622_0056.jp2/full/1338,1811/0/default.jpg',\n",
       " 'https://iiif.wellcomecollection.org/image/b18437151_ramc_1242_1_0057.JP2/full/1019,1024/0/default.jpg',\n",
       " 'https://iiif.wellcomecollection.org/image/b18289332_ramc_384_1_4_0009.JP2/full/1024,993/0/default.jpg',\n",
       " 'https://iiif.wellcomecollection.org/image/b20614548_galton_02_08_01_13_08_0012.JP2/full/1006,1024/0/default.jpg',\n",
       " 'https://iiif.wellcomecollection.org/image/b33373309_0001.jp2/full/1338,1646/0/default.jpg',\n",
       " 'https://iiif.wellcomecollection.org/image/b18123533_0041.jp2/full/1338,1757/0/default.jpg',\n",
       " 'https://iiif.wellcomecollection.org/image/b28704733_0364.jp2/full/1338,2316/0/default.jpg',\n",
       " 'https://iiif.wellcomecollection.org/image/b14565377_0010.jp2/full/1024,1011/0/default.jpg',\n",
       " 'https://iiif.wellcomecollection.org/image/b28704630_0520.jp2/full/1338,1948/0/default.jpg',\n",
       " 'https://iiif.wellcomecollection.org/image/b20129075_kdbp_1_3_053_1.JP2/full/996,1024/0/default.jpg',\n",
       " 'https://iiif.wellcomecollection.org/image/b11058286_0336.jp2/full/3840,5408/0/default.jpg',\n",
       " 'https://iiif.wellcomecollection.org/image/b22007611_0019.jp2/full/1338,2093/0/default.jpg',\n",
       " 'https://iiif.wellcomecollection.org/image/b32274750_0121.jp2/full/1338,2193/0/default.jpg',\n",
       " 'https://iiif.wellcomecollection.org/image/b32274592_0017.jp2/full/1338,1955/0/default.jpg',\n",
       " 'https://iiif.wellcomecollection.org/image/b20129075_kdbp_1_3_271_2.JP2/full/1024,1010/0/default.jpg',\n",
       " 'https://iiif.wellcomecollection.org/image/b18318162_0399.jp2/full/1338,1940/0/default.jpg',\n",
       " 'https://iiif.wellcomecollection.org/image/b32274750_0346.jp2/full/1338,1762/0/default.jpg',\n",
       " 'https://iiif.wellcomecollection.org/image/b11148366_hin-wel-all-00003449_0167.jp2/full/1021,1024/0/default.jpg',\n",
       " 'https://iiif.wellcomecollection.org/image/b31854370_0022.jp2/full/999,1024/0/default.jpg',\n",
       " 'https://iiif.wellcomecollection.org/image/b28705269_0016.jp2/full/1338,1815/0/default.jpg',\n",
       " 'https://iiif.wellcomecollection.org/image/b18758897_0269.jp2/full/1338,1843/0/default.jpg',\n",
       " 'https://iiif.wellcomecollection.org/image/b18417383_0213.jp2/full/1338,1665/0/default.jpg',\n",
       " 'https://iiif.wellcomecollection.org/image/b1325473x_hin-wel-all-00012743_0011.jp2/full/1024,1019/0/default.jpg',\n",
       " 'https://iiif.wellcomecollection.org/image/b28705786_0571.jp2/full/1338,1659/0/default.jpg',\n",
       " 'https://iiif.wellcomecollection.org/image/b28704630_0219.jp2/full/1338,1995/0/default.jpg',\n",
       " 'https://iiif.wellcomecollection.org/image/b18123533_0149.jp2/full/1338,1735/0/default.jpg',\n",
       " 'https://iiif.wellcomecollection.org/image/b24937757_RET_3_3_2_5_0865.jp2/full/1024,1005/0/default.jpg',\n",
       " 'https://iiif.wellcomecollection.org/image/b19676736_0310.jp2/full/1338,1909/0/default.jpg',\n",
       " 'https://iiif.wellcomecollection.org/image/b28704630_0051.jp2/full/1338,2010/0/default.jpg',\n",
       " 'https://iiif.wellcomecollection.org/image/b32274804_0049.jp2/full/1338,2100/0/default.jpg',\n",
       " 'https://iiif.wellcomecollection.org/image/b28976794_0029.jp2/full/1338,1640/0/default.jpg',\n",
       " 'https://iiif.wellcomecollection.org/image/b32274683_0008.jp2/full/1338,1673/0/default.jpg',\n",
       " 'https://iiif.wellcomecollection.org/image/b31854497_0003.jp2/full/1008,1024/0/default.jpg',\n",
       " 'https://iiif.wellcomecollection.org/image/b11058286_0844.jp2/full/4056,5480/0/default.jpg',\n",
       " 'https://iiif.wellcomecollection.org/image/b18693441_0402.jp2/full/1338,2055/0/default.jpg',\n",
       " 'https://iiif.wellcomecollection.org/image/b32274610_0012.jp2/full/1338,1791/0/default.jpg',\n",
       " 'https://iiif.wellcomecollection.org/image/b28704630_0379.jp2/full/1338,2025/0/default.jpg',\n",
       " 'https://iiif.wellcomecollection.org/image/b11058286_0698.jp2/full/3948,5432/0/default.jpg',\n",
       " 'https://iiif.wellcomecollection.org/image/b28705427_0460.jp2/full/1338,2196/0/default.jpg',\n",
       " 'https://iiif.wellcomecollection.org/image/b32274750_0318.jp2/full/1338,2175/0/default.jpg',\n",
       " 'https://iiif.wellcomecollection.org/image/b11534096_hin-wel-all-00012421_0337.jp2/full/1024,1014/0/default.jpg',\n",
       " 'https://iiif.wellcomecollection.org/image/b32274555_0048.jp2/full/1338,1886/0/default.jpg',\n",
       " 'https://iiif.wellcomecollection.org/image/b1856351x_0075.jp2/full/1338,1492/0/default.jpg',\n",
       " 'https://iiif.wellcomecollection.org/image/b20294955_WMS_Arabic_48_0091.jp2/full/1024,979/0/default.jpg',\n",
       " 'https://iiif.wellcomecollection.org/image/b33374557_0001.jp2/full/1338,957/0/default.jpg',\n",
       " 'https://iiif.wellcomecollection.org/image/b18123533_0216.jp2/full/1338,1725/0/default.jpg',\n",
       " 'https://iiif.wellcomecollection.org/image/b28705774_0229.jp2/full/1338,2067/0/default.jpg',\n",
       " 'https://iiif.wellcomecollection.org/image/b32274750_0088.jp2/full/1338,2076/0/default.jpg',\n",
       " 'https://iiif.wellcomecollection.org/image/b19575397_0120.jp2/full/1338,2120/0/default.jpg',\n",
       " 'https://iiif.wellcomecollection.org/image/b14827931_0035.jp2/full/1338,1826/0/default.jpg',\n",
       " 'https://iiif.wellcomecollection.org/image/b19314164_0077.jp2/full/1338,1541/0/default.jpg',\n",
       " 'https://iiif.wellcomecollection.org/image/b19576523_0051.jp2/full/1338,1483/0/default.jpg',\n",
       " 'https://iiif.wellcomecollection.org/image/b28705269_0065.jp2/full/1338,1769/0/default.jpg',\n",
       " 'https://iiif.wellcomecollection.org/image/b32274555_0205.jp2/full/1338,1982/0/default.jpg',\n",
       " 'https://iiif.wellcomecollection.org/image/b18576795_1011.jp2/full/1338,1996/0/default.jpg',\n",
       " 'https://iiif.wellcomecollection.org/image/b14565377_0144.jp2/full/1004,1024/0/default.jpg',\n",
       " 'https://iiif.wellcomecollection.org/image/b2496492x_RET_1_5_5_10_1_0103.jp2/full/1024,1012/0/default.jpg',\n",
       " 'https://iiif.wellcomecollection.org/image/b32274750_0351.jp2/full/1338,1777/0/default.jpg',\n",
       " 'https://iiif.wellcomecollection.org/image/b20297105_WMS_Arabic_440_0025.jp2/full/1000,1024/0/default.jpg',\n",
       " 'https://iiif.wellcomecollection.org/image/b18576795_0515.jp2/full/1338,1936/0/default.jpg',\n",
       " 'https://iiif.wellcomecollection.org/image/b28704940_0386.jp2/full/1338,1525/0/default.jpg',\n",
       " 'https://iiif.wellcomecollection.org/image/b18587057_ramc_1153_2_0006.JP2/full/981,1024/0/default.jpg',\n",
       " 'https://iiif.wellcomecollection.org/image/b28705786_0518.jp2/full/1338,1663/0/default.jpg',\n",
       " 'https://iiif.wellcomecollection.org/image/b3337885x_0001.jp2/full/1338,1912/0/default.jpg',\n",
       " 'https://iiif.wellcomecollection.org/image/b32274634_0084.jp2/full/1338,1844/0/default.jpg',\n",
       " 'https://iiif.wellcomecollection.org/image/b22007611_0051.jp2/full/1338,2093/0/default.jpg',\n",
       " 'https://iiif.wellcomecollection.org/image/b19012676_0049.jp2/full/1338,1934/0/default.jpg',\n",
       " 'https://iiif.wellcomecollection.org/image/b32274750_0030.jp2/full/1338,2265/0/default.jpg',\n",
       " 'https://iiif.wellcomecollection.org/image/b28705804_0351.jp2/full/1338,2132/0/default.jpg',\n",
       " 'https://iiif.wellcomecollection.org/image/b28705427_0072.jp2/full/1338,2253/0/default.jpg',\n",
       " 'https://iiif.wellcomecollection.org/image/b28705737_0373.jp2/full/1338,2157/0/default.jpg',\n",
       " 'https://iiif.wellcomecollection.org/image/b19202763_0082.jp2/full/1338,1824/0/default.jpg',\n",
       " 'https://iiif.wellcomecollection.org/image/b18729794_0345.jp2/full/1338,1786/0/default.jpg',\n",
       " 'https://iiif.wellcomecollection.org/image/b32274750_0259.jp2/full/1338,1849/0/default.jpg',\n",
       " 'https://iiif.wellcomecollection.org/image/b28976794_0442.jp2/full/1338,1704/0/default.jpg',\n",
       " 'https://iiif.wellcomecollection.org/image/b20224990_penrose_2_24_6_5_9_0023.JP2/full/1338,1681/0/default.jpg',\n",
       " 'https://iiif.wellcomecollection.org/image/b11058286_0685.jp2/full/3788,5396/0/default.jpg',\n",
       " 'https://iiif.wellcomecollection.org/image/b33537525_0168.jp2/full/1338,2051/0/default.jpg',\n",
       " 'https://iiif.wellcomecollection.org/image/b32274555_0144.jp2/full/1338,1942/0/default.jpg',\n",
       " 'https://iiif.wellcomecollection.org/image/b24391621_RET_1_5_1_67_0386.jp2/full/981,1024/0/default.jpg',\n",
       " 'https://iiif.wellcomecollection.org/image/b18576795_0627.jp2/full/1338,1946/0/default.jpg',\n",
       " 'https://iiif.wellcomecollection.org/image/b32274609_0051.jp2/full/1338,1854/0/default.jpg',\n",
       " 'https://iiif.wellcomecollection.org/image/b28976794_0504.jp2/full/1338,1704/0/default.jpg',\n",
       " 'https://iiif.wellcomecollection.org/image/b30540471_0473.jp2/full/1338,1949/0/default.jpg',\n",
       " 'https://iiif.wellcomecollection.org/image/b32274750_0204.jp2/full/1338,2101/0/default.jpg',\n",
       " 'https://iiif.wellcomecollection.org/image/b32274750_0243.jp2/full/1338,2015/0/default.jpg',\n",
       " 'https://iiif.wellcomecollection.org/image/b18597452_0016.jp2/full/1338,1673/0/default.jpg',\n",
       " 'https://iiif.wellcomecollection.org/image/b2867893x_0002.jp2/full/1007,1024/0/default.jpg',\n",
       " 'https://iiif.wellcomecollection.org/image/b32274658_0136.jp2/full/1338,1735/0/default.jpg',\n",
       " 'https://iiif.wellcomecollection.org/image/b22654896_DGH1_5_1_1_19_0004.JP2/full/977,1024/0/default.jpg',\n",
       " 'https://iiif.wellcomecollection.org/image/b32274580_0021.jp2/full/1338,1816/0/default.jpg',\n",
       " 'https://iiif.wellcomecollection.org/image/b14755117_0265.jp2/full/1338,1302/0/default.jpg',\n",
       " 'https://iiif.wellcomecollection.org/image/b32274634_0012.jp2/full/1338,1846/0/default.jpg',\n",
       " 'https://iiif.wellcomecollection.org/image/b33517721_0003.jp2/full/1338,1799/0/default.jpg',\n",
       " 'https://iiif.wellcomecollection.org/image/b14846275_0066.jp2/full/1338,2102/0/default.jpg',\n",
       " 'https://iiif.wellcomecollection.org/image/b28705889_0129.jp2/full/1338,1914/0/default.jpg',\n",
       " 'https://iiif.wellcomecollection.org/image/b19175346_0001.jp2/full/1338,1521/0/default.jpg',\n",
       " 'https://iiif.wellcomecollection.org/image/b33068689_0007.jp2/full/1338,1705/0/default.jpg',\n",
       " 'https://iiif.wellcomecollection.org/image/b24954639_RET_6_19_1_83_0035.jp2/full/1020,1024/0/default.jpg',\n",
       " 'https://iiif.wellcomecollection.org/image/b18576795_0634.jp2/full/1338,1988/0/default.jpg',\n",
       " 'https://iiif.wellcomecollection.org/image/b3222641x_0028.jp2/full/999,1024/0/default.jpg',\n",
       " 'https://iiif.wellcomecollection.org/image/b28704733_0228.jp2/full/1338,2386/0/default.jpg',\n",
       " 'https://iiif.wellcomecollection.org/image/b24937356_RET_3_3_2_12_0164.jp2/full/1024,990/0/default.jpg',\n",
       " 'https://iiif.wellcomecollection.org/image/b11058286_0689.jp2/full/3788,5396/0/default.jpg',\n",
       " 'https://iiif.wellcomecollection.org/image/b10109432_hin-wel-all-00000036_0209.jp2/full/1338,1824/0/default.jpg',\n",
       " 'https://iiif.wellcomecollection.org/image/b28705579_0229.jp2/full/1338,1946/0/default.jpg',\n",
       " 'https://iiif.wellcomecollection.org/image/b11058286_0817.jp2/full/3680,5396/0/default.jpg',\n",
       " 'https://iiif.wellcomecollection.org/image/b19237005_0217.jp2/full/1338,1643/0/default.jpg',\n",
       " 'https://iiif.wellcomecollection.org/image/b28705804_0218.jp2/full/1338,2102/0/default.jpg',\n",
       " 'https://iiif.wellcomecollection.org/image/b3185445x_0051.jp2/full/998,1024/0/default.jpg',\n",
       " 'https://iiif.wellcomecollection.org/image/b19177136_0024.jp2/full/1338,1601/0/default.jpg',\n",
       " 'https://iiif.wellcomecollection.org/image/b22654860_DGH1_5_27_6_0009.JP2/full/981,1024/0/default.jpg',\n",
       " 'https://iiif.wellcomecollection.org/image/b32274658_0094.jp2/full/1338,1766/0/default.jpg',\n",
       " 'https://iiif.wellcomecollection.org/image/b29227021_3473_3_2_0407.jp2/full/1024,998/0/default.jpg',\n",
       " 'https://iiif.wellcomecollection.org/image/b10109432_hin-wel-all-00000036_0256.jp2/full/1338,1765/0/default.jpg',\n",
       " 'https://iiif.wellcomecollection.org/image/b28705889_0326.jp2/full/1338,1844/0/default.jpg',\n",
       " 'https://iiif.wellcomecollection.org/image/b14846275_0075.jp2/full/1338,1932/0/default.jpg',\n",
       " 'https://iiif.wellcomecollection.org/image/b19676736_0388.jp2/full/1338,1999/0/default.jpg',\n",
       " 'https://iiif.wellcomecollection.org/image/b14827931_0013.jp2/full/1338,1771/0/default.jpg',\n",
       " 'https://iiif.wellcomecollection.org/image/b30634672_0134.jp2/full/1338,1639/0/default.jpg',\n",
       " 'https://iiif.wellcomecollection.org/image/b28705269_0059.jp2/full/1338,1769/0/default.jpg',\n",
       " 'https://iiif.wellcomecollection.org/image/b14827827_0040.jp2/full/1338,1931/0/default.jpg',\n",
       " 'https://iiif.wellcomecollection.org/image/b14846275_0626.jp2/full/1338,1984/0/default.jpg',\n",
       " 'https://iiif.wellcomecollection.org/image/b19237005_0351.jp2/full/1338,1544/0/default.jpg',\n",
       " 'https://iiif.wellcomecollection.org/image/b18896042_MS_2799_0198.JP2/full/981,1024/0/default.jpg',\n",
       " 'https://iiif.wellcomecollection.org/image/b20616223_galton_1_2_7_1_2_0003.JP2/full/1024,1005/0/default.jpg',\n",
       " 'https://iiif.wellcomecollection.org/image/b2022476x_penrose_2_24_6_2_1_0110.JP2/full/1338,1714/0/default.jpg',\n",
       " 'https://iiif.wellcomecollection.org/image/b32274683_0015.jp2/full/1338,1720/0/default.jpg',\n",
       " 'https://iiif.wellcomecollection.org/image/b32274683_0107.jp2/full/1338,1669/0/default.jpg',\n",
       " 'https://iiif.wellcomecollection.org/image/b24937356_RET_3_3_2_12_0818.jp2/full/1017,1024/0/default.jpg',\n",
       " 'https://iiif.wellcomecollection.org/image/b30540471_0108.jp2/full/1338,2045/0/default.jpg',\n",
       " 'https://iiif.wellcomecollection.org/image/b32274646_0003.jp2/full/1338,1934/0/default.jpg',\n",
       " 'https://iiif.wellcomecollection.org/image/b14827712_0071.jp2/full/1338,2014/0/default.jpg',\n",
       " 'https://iiif.wellcomecollection.org/image/b28705889_0163.jp2/full/1338,1920/0/default.jpg',\n",
       " 'https://iiif.wellcomecollection.org/image/b18318162_0159.jp2/full/1338,1897/0/default.jpg',\n",
       " 'https://iiif.wellcomecollection.org/image/b28705646_0178.jp2/full/1338,2234/0/default.jpg',\n",
       " 'https://iiif.wellcomecollection.org/image/b19371810_0021.jp2/full/1338,867/0/default.jpg',\n",
       " 'https://iiif.wellcomecollection.org/image/b18576795_0585.jp2/full/1338,1991/0/default.jpg',\n",
       " 'https://iiif.wellcomecollection.org/image/b19115556_ramc_1242_7_0057.JP2/full/1022,1024/0/default.jpg',\n",
       " 'https://iiif.wellcomecollection.org/image/b28704733_0143.jp2/full/1338,2441/0/default.jpg',\n",
       " 'https://iiif.wellcomecollection.org/image/b32274555_0462.jp2/full/1338,1939/0/default.jpg',\n",
       " 'https://iiif.wellcomecollection.org/image/b32274592_0098.jp2/full/1338,1902/0/default.jpg',\n",
       " 'https://iiif.wellcomecollection.org/image/b19603046_0114.jp2/full/1338,1896/0/default.jpg',\n",
       " 'https://iiif.wellcomecollection.org/image/b19115556_ramc_1242_7_0055.JP2/full/1020,1024/0/default.jpg',\n",
       " 'https://iiif.wellcomecollection.org/image/b31685717_0017.jp2/full/1338,1739/0/default.jpg',\n",
       " 'https://iiif.wellcomecollection.org/image/b28705889_0124.jp2/full/1338,1844/0/default.jpg',\n",
       " 'https://iiif.wellcomecollection.org/image/b11058286_0707.jp2/full/3788,5396/0/default.jpg',\n",
       " 'https://iiif.wellcomecollection.org/image/b28704733_0435.jp2/full/1338,2418/0/default.jpg',\n",
       " 'https://iiif.wellcomecollection.org/image/b19311904_0141.jp2/full/1338,1812/0/default.jpg',\n",
       " 'https://iiif.wellcomecollection.org/image/b18318162_0320.jp2/full/1338,1827/0/default.jpg',\n",
       " 'https://iiif.wellcomecollection.org/image/b19177136_0304.jp2/full/1338,1598/0/default.jpg',\n",
       " 'https://iiif.wellcomecollection.org/image/b11148366_hin-wel-all-00003449_0293.jp2/full/1021,1024/0/default.jpg',\n",
       " 'https://iiif.wellcomecollection.org/image/b32274658_0095.jp2/full/1338,1749/0/default.jpg',\n",
       " 'https://iiif.wellcomecollection.org/image/b14565377_0098.jp2/full/1013,1024/0/default.jpg',\n",
       " 'https://iiif.wellcomecollection.org/image/b32274750_0006.jp2/full/1338,2214/0/default.jpg',\n",
       " 'https://iiif.wellcomecollection.org/image/b32274592_0001.jp2/full/1338,1851/0/default.jpg',\n",
       " 'https://iiif.wellcomecollection.org/image/b20626071_galton_02_10_09_06_0006.JP2/full/1024,981/0/default.jpg',\n",
       " 'https://iiif.wellcomecollection.org/image/b3168581x_0025.jp2/full/1338,1715/0/default.jpg',\n",
       " 'https://iiif.wellcomecollection.org/image/b1220190x_hin-wel-all-00000040_0129.jp2/full/1338,1835/0/default.jpg',\n",
       " 'https://iiif.wellcomecollection.org/image/b11058286_0743.jp2/full/3776,5396/0/default.jpg',\n",
       " 'https://iiif.wellcomecollection.org/image/b18418272_0093.jp2/full/1338,1552/0/default.jpg',\n",
       " 'https://iiif.wellcomecollection.org/image/b32274774_0065.jp2/full/1338,1828/0/default.jpg',\n",
       " 'https://iiif.wellcomecollection.org/image/b18758897_0042.jp2/full/1338,1853/0/default.jpg',\n",
       " 'https://iiif.wellcomecollection.org/image/b31854345_0040.jp2/full/1024,1015/0/default.jpg',\n",
       " 'https://iiif.wellcomecollection.org/image/b11058286_0224.jp2/full/3756,5384/0/default.jpg',\n",
       " 'https://iiif.wellcomecollection.org/image/b19202763_0253.jp2/full/1338,1824/0/default.jpg',\n",
       " 'https://iiif.wellcomecollection.org/image/b32274750_0244.jp2/full/1338,1872/0/default.jpg',\n",
       " 'https://iiif.wellcomecollection.org/image/b18417383_0227.jp2/full/1338,1702/0/default.jpg',\n",
       " 'https://iiif.wellcomecollection.org/image/b20618372_galton_03_03_22_17_0385.JP2/full/1024,1009/0/default.jpg',\n",
       " 'https://iiif.wellcomecollection.org/image/b20623859_galton_2_8_1_9_2_0157.JP2/full/994,1024/0/default.jpg',\n",
       " 'https://iiif.wellcomecollection.org/image/b14565377_0048.jp2/full/1022,1024/0/default.jpg',\n",
       " 'https://iiif.wellcomecollection.org/image/b19108801_0128.jp2/full/1338,1582/0/default.jpg',\n",
       " 'https://iiif.wellcomecollection.org/image/b22007611_0064.jp2/full/1338,2141/0/default.jpg',\n",
       " 'https://iiif.wellcomecollection.org/image/b18576795_0687.jp2/full/1338,2028/0/default.jpg',\n",
       " 'https://iiif.wellcomecollection.org/image/b28976794_0187.jp2/full/1338,1640/0/default.jpg',\n",
       " 'https://iiif.wellcomecollection.org/image/b28704903_0734.jp2/full/986,1024/0/default.jpg',\n",
       " 'https://iiif.wellcomecollection.org/image/b19287355_0135.jp2/full/1338,1621/0/default.jpg',\n",
       " 'https://iiif.wellcomecollection.org/image/b32274804_0041.jp2/full/1338,2090/0/default.jpg',\n",
       " 'https://iiif.wellcomecollection.org/image/b28976794_0121.jp2/full/1338,1640/0/default.jpg',\n",
       " 'https://iiif.wellcomecollection.org/image/b24938580_RET_3_3_2_15_0911.jp2/full/1024,986/0/default.jpg',\n",
       " 'https://iiif.wellcomecollection.org/image/b19175346_0026.jp2/full/1338,1531/0/default.jpg',\n",
       " 'https://iiif.wellcomecollection.org/image/b32274610_0019.jp2/full/1338,1786/0/default.jpg',\n",
       " 'https://iiif.wellcomecollection.org/image/b18501758_RAMC_1991_0003.jp2/full/1024,1008/0/default.jpg',\n",
       " 'https://iiif.wellcomecollection.org/image/b30540471_0259.jp2/full/1338,2054/0/default.jpg',\n",
       " 'https://iiif.wellcomecollection.org/image/b33382827_0001.jp2/full/1338,1714/0/default.jpg',\n",
       " 'https://iiif.wellcomecollection.org/image/b28976794_0297.jp2/full/1338,1640/0/default.jpg',\n",
       " 'https://iiif.wellcomecollection.org/image/b28705737_0029.jp2/full/1338,2104/0/default.jpg',\n",
       " 'https://iiif.wellcomecollection.org/image/b28705804_0198.jp2/full/1338,2102/0/default.jpg',\n",
       " 'https://iiif.wellcomecollection.org/image/b28976794_0348.jp2/full/1338,1704/0/default.jpg',\n",
       " 'https://iiif.wellcomecollection.org/image/b31854497_0036.jp2/full/1004,1024/0/default.jpg',\n",
       " 'https://iiif.wellcomecollection.org/image/b32274750_0005.jp2/full/1338,2091/0/default.jpg',\n",
       " 'https://iiif.wellcomecollection.org/image/b18729794_0039.jp2/full/1338,1775/0/default.jpg',\n",
       " 'https://iiif.wellcomecollection.org/image/b33508392_0001.jp2/full/1338,2089/0/default.jpg',\n",
       " 'https://iiif.wellcomecollection.org/image/b28705737_0354.jp2/full/1338,2011/0/default.jpg',\n",
       " 'https://iiif.wellcomecollection.org/image/b19676736_0143.jp2/full/1338,1801/0/default.jpg',\n",
       " 'https://iiif.wellcomecollection.org/image/b28704733_0568.jp2/full/1338,2294/0/default.jpg',\n",
       " 'https://iiif.wellcomecollection.org/image/b24937757_RET_3_3_2_5_0170.jp2/full/1024,1002/0/default.jpg',\n",
       " 'https://iiif.wellcomecollection.org/image/b32274774_0168.jp2/full/1338,1820/0/default.jpg',\n",
       " 'https://iiif.wellcomecollection.org/image/b32274750_0310.jp2/full/1338,2181/0/default.jpg',\n",
       " 'https://iiif.wellcomecollection.org/image/b18123533_0430.jp2/full/1338,1643/0/default.jpg',\n",
       " 'https://iiif.wellcomecollection.org/image/b32274592_0090.jp2/full/1338,1902/0/default.jpg',\n",
       " 'https://iiif.wellcomecollection.org/image/b14827712_0047.jp2/full/1338,1771/0/default.jpg',\n",
       " 'https://iiif.wellcomecollection.org/image/b33237785_0001.jp2/full/1338,2423/0/default.jpg',\n",
       " 'https://iiif.wellcomecollection.org/image/b20614548_galton_02_08_01_13_05_0018.JP2/full/980,1024/0/default.jpg',\n",
       " 'https://iiif.wellcomecollection.org/image/b11058286_0321.jp2/full/3860,5408/0/default.jpg',\n",
       " 'https://iiif.wellcomecollection.org/image/b19575397_0069.jp2/full/1338,894/0/default.jpg',\n",
       " 'https://iiif.wellcomecollection.org/image/b14755117_0066.jp2/full/1338,1351/0/default.jpg',\n",
       " 'https://iiif.wellcomecollection.org/image/b33517484_0001.jp2/full/1338,1978/0/default.jpg',\n",
       " 'https://iiif.wellcomecollection.org/image/b28704940_0451.jp2/full/1338,1525/0/default.jpg',\n",
       " 'https://iiif.wellcomecollection.org/image/b28704940_0674.jp2/full/1338,1505/0/default.jpg',\n",
       " 'https://iiif.wellcomecollection.org/image/b28705737_0122.jp2/full/1338,2082/0/default.jpg',\n",
       " 'https://iiif.wellcomecollection.org/image/b30540471_0278.jp2/full/1338,1968/0/default.jpg',\n",
       " 'https://iiif.wellcomecollection.org/image/b33230468_0001.jp2/full/1338,965/0/default.jpg',\n",
       " 'https://iiif.wellcomecollection.org/image/b3323713x_0001.jp2/full/1338,1482/0/default.jpg',\n",
       " 'https://iiif.wellcomecollection.org/image/b32274555_0467.jp2/full/1338,1939/0/default.jpg',\n",
       " 'https://iiif.wellcomecollection.org/image/b19177136_0259.jp2/full/1338,1523/0/default.jpg',\n",
       " 'https://iiif.wellcomecollection.org/image/b28704733_0344.jp2/full/1338,2288/0/default.jpg',\n",
       " 'https://iiif.wellcomecollection.org/image/b28976794_0410.jp2/full/1338,1704/0/default.jpg',\n",
       " 'https://iiif.wellcomecollection.org/image/b18576795_0953.jp2/full/1338,2021/0/default.jpg',\n",
       " 'https://iiif.wellcomecollection.org/image/b32274683_0056.jp2/full/1338,1530/0/default.jpg',\n",
       " 'https://iiif.wellcomecollection.org/image/b32274683_0093.jp2/full/1338,1642/0/default.jpg',\n",
       " 'https://iiif.wellcomecollection.org/image/b19909883_haldane_3_5_1_3_4_0001.JP2/full/1338,1629/0/default.jpg',\n",
       " 'https://iiif.wellcomecollection.org/image/b32274750_0273.jp2/full/1338,2056/0/default.jpg',\n",
       " 'https://iiif.wellcomecollection.org/image/b33375902_0001.jp2/full/1338,1840/0/default.jpg',\n",
       " 'https://iiif.wellcomecollection.org/image/b14828042_0024.jp2/full/1338,1995/0/default.jpg',\n",
       " 'https://iiif.wellcomecollection.org/image/b3227466x_0014.jp2/full/1338,1777/0/default.jpg',\n",
       " 'https://iiif.wellcomecollection.org/image/b28704630_0017.jp2/full/1338,2032/0/default.jpg',\n",
       " 'https://iiif.wellcomecollection.org/image/b18123533_0189.jp2/full/1338,1753/0/default.jpg',\n",
       " 'https://iiif.wellcomecollection.org/image/b2022476x_penrose_2_24_6_2_1_0089.JP2/full/1338,1707/0/default.jpg',\n",
       " 'https://iiif.wellcomecollection.org/image/b28665028_0002.jp2/full/1024,1021/0/default.jpg',\n",
       " 'https://iiif.wellcomecollection.org/image/b28705853_0029.jp2/full/1338,2270/0/default.jpg',\n",
       " 'https://iiif.wellcomecollection.org/image/b33237384_0001.jp2/full/1338,1391/0/default.jpg',\n",
       " 'https://iiif.wellcomecollection.org/image/b28704733_0714.jp2/full/1338,2314/0/default.jpg',\n",
       " 'https://iiif.wellcomecollection.org/image/b20297105_WMS_Arabic_440_0001.jp2/full/1000,1024/0/default.jpg',\n",
       " 'https://iiif.wellcomecollection.org/image/b28705786_0496.jp2/full/1338,1657/0/default.jpg',\n",
       " 'https://iiif.wellcomecollection.org/image/b28704630_0210.jp2/full/1338,1993/0/default.jpg',\n",
       " 'https://iiif.wellcomecollection.org/image/b32274750_0278.jp2/full/1338,1777/0/default.jpg',\n",
       " 'https://iiif.wellcomecollection.org/image/b19505061_0563.jp2/full/1338,1795/0/default.jpg',\n",
       " 'https://iiif.wellcomecollection.org/image/b3227466x_0048.jp2/full/1338,1693/0/default.jpg',\n",
       " 'https://iiif.wellcomecollection.org/image/b24940069_RET_3_3_2_4_1801.jp2/full/1024,992/0/default.jpg',\n",
       " 'https://iiif.wellcomecollection.org/image/b18693441_0528.jp2/full/1338,1991/0/default.jpg',\n",
       " 'https://iiif.wellcomecollection.org/image/b19575397_0078.jp2/full/1338,2002/0/default.jpg',\n",
       " 'https://iiif.wellcomecollection.org/image/b31854461_0053.jp2/full/1016,1024/0/default.jpg',\n",
       " 'https://iiif.wellcomecollection.org/image/b3323601x_0001.jp2/full/1338,1500/0/default.jpg',\n",
       " 'https://iiif.wellcomecollection.org/image/b19314164_0187.jp2/full/1338,1534/0/default.jpg',\n",
       " 'https://iiif.wellcomecollection.org/image/b18896042_MS_2799_0306.JP2/full/1005,1024/0/default.jpg',\n",
       " 'https://iiif.wellcomecollection.org/image/b32274750_0009.jp2/full/1338,2250/0/default.jpg',\n",
       " 'https://iiif.wellcomecollection.org/image/b2022476x_penrose_2_24_6_2_3_0023.JP2/full/1338,2112/0/default.jpg',\n",
       " 'https://iiif.wellcomecollection.org/image/b32274816_0016.jp2/full/1338,2214/0/default.jpg',\n",
       " 'https://iiif.wellcomecollection.org/image/b33537525_0292.jp2/full/1338,2058/0/default.jpg',\n",
       " 'https://iiif.wellcomecollection.org/image/b30540471_0202.jp2/full/1338,1968/0/default.jpg',\n",
       " 'https://iiif.wellcomecollection.org/image/b18758897_0255.jp2/full/1338,1696/0/default.jpg',\n",
       " 'https://iiif.wellcomecollection.org/image/b32274750_0208.jp2/full/1338,2079/0/default.jpg',\n",
       " 'https://iiif.wellcomecollection.org/image/b19443262_0013.jp2/full/1338,2101/0/default.jpg',\n",
       " 'https://iiif.wellcomecollection.org/image/b28705038_0274.jp2/full/1338,1986/0/default.jpg',\n",
       " 'https://iiif.wellcomecollection.org/image/b18309033_ms_6588_0092.JP2/full/984,1024/0/default.jpg',\n",
       " 'https://iiif.wellcomecollection.org/image/b18504875_ramc_1242_3_0038.JP2/full/1017,1024/0/default.jpg',\n",
       " 'https://iiif.wellcomecollection.org/image/b30448335_0038.jp2/full/1338,1701/0/default.jpg',\n",
       " 'https://iiif.wellcomecollection.org/image/b18318162_0200.jp2/full/1338,1878/0/default.jpg',\n",
       " 'https://iiif.wellcomecollection.org/image/b32274609_0074.jp2/full/1338,771/0/default.jpg',\n",
       " 'https://iiif.wellcomecollection.org/image/b33376281_0001.jp2/full/1338,1860/0/default.jpg',\n",
       " 'https://iiif.wellcomecollection.org/image/b32274555_0299.jp2/full/1338,1954/0/default.jpg',\n",
       " 'https://iiif.wellcomecollection.org/image/b14836828_0169.jp2/full/1024,1009/0/default.jpg',\n",
       " 'https://iiif.wellcomecollection.org/image/b18597452_0046.jp2/full/1338,1636/0/default.jpg',\n",
       " 'https://iiif.wellcomecollection.org/image/b28705889_0036.jp2/full/1338,1977/0/default.jpg',\n",
       " 'https://iiif.wellcomecollection.org/image/b19012676_0183.jp2/full/1338,1878/0/default.jpg',\n",
       " 'https://iiif.wellcomecollection.org/image/b32274634_0027.jp2/full/1338,1907/0/default.jpg',\n",
       " 'https://iiif.wellcomecollection.org/image/b10916180_hin-wel-all-00012288_0154.jp2/full/1024,1007/0/default.jpg',\n",
       " 'https://iiif.wellcomecollection.org/image/b28704940_0813.jp2/full/1338,1570/0/default.jpg',\n",
       " 'https://iiif.wellcomecollection.org/image/b33514744_0001.jp2/full/1338,973/0/default.jpg',\n",
       " 'https://iiif.wellcomecollection.org/image/b10109432_hin-wel-all-00000036_0217.jp2/full/1338,1836/0/default.jpg',\n",
       " 'https://iiif.wellcomecollection.org/image/b31854461_0037.jp2/full/1016,1024/0/default.jpg',\n",
       " 'https://iiif.wellcomecollection.org/image/b12177453_hin-wel-all-00012464_0163.jp2/full/1010,1024/0/default.jpg',\n",
       " 'https://iiif.wellcomecollection.org/image/b22007611_0305.jp2/full/1338,2108/0/default.jpg',\n",
       " 'https://iiif.wellcomecollection.org/image/b19443262_0002.jp2/full/1338,1682/0/default.jpg',\n",
       " 'https://iiif.wellcomecollection.org/image/b18576795_0192.jp2/full/1338,2052/0/default.jpg',\n",
       " 'https://iiif.wellcomecollection.org/image/b33231461_0001.jp2/full/1338,1779/0/default.jpg',\n",
       " 'https://iiif.wellcomecollection.org/image/b21899770_ret_1_1_5_16_0086.JP2/full/1024,992/0/default.jpg',\n",
       " 'https://iiif.wellcomecollection.org/image/b32274750_0040.jp2/full/1338,2167/0/default.jpg',\n",
       " 'https://iiif.wellcomecollection.org/image/b32274750_0333.jp2/full/1338,2174/0/default.jpg',\n",
       " 'https://iiif.wellcomecollection.org/image/b18693441_0204.jp2/full/1338,2044/0/default.jpg',\n",
       " 'https://iiif.wellcomecollection.org/image/b32274555_0027.jp2/full/1338,1971/0/default.jpg',\n",
       " 'https://iiif.wellcomecollection.org/image/b32274750_0157.jp2/full/1338,1958/0/default.jpg',\n",
       " 'https://iiif.wellcomecollection.org/image/b14846275_0483.jp2/full/1338,2002/0/default.jpg',\n",
       " 'https://iiif.wellcomecollection.org/image/b28976794_0529.jp2/full/1338,2007/0/default.jpg',\n",
       " 'https://iiif.wellcomecollection.org/image/b18693441_0131.jp2/full/1338,1981/0/default.jpg',\n",
       " 'https://iiif.wellcomecollection.org/image/b28684266_0003.jp2/full/1024,1014/0/default.jpg',\n",
       " 'https://iiif.wellcomecollection.org/image/b28705038_0202.jp2/full/1338,1986/0/default.jpg',\n",
       " 'https://iiif.wellcomecollection.org/image/b18576795_0322.jp2/full/1338,2096/0/default.jpg',\n",
       " 'https://iiif.wellcomecollection.org/image/b31854448_0038.jp2/full/997,1024/0/default.jpg',\n",
       " 'https://iiif.wellcomecollection.org/image/b32274774_0014.jp2/full/1338,1817/0/default.jpg',\n",
       " 'https://iiif.wellcomecollection.org/image/b32274750_0184.jp2/full/1338,2166/0/default.jpg',\n",
       " 'https://iiif.wellcomecollection.org/image/b28704940_0335.jp2/full/1338,1525/0/default.jpg',\n",
       " 'https://iiif.wellcomecollection.org/image/b32274683_0031.jp2/full/1338,1684/0/default.jpg',\n",
       " 'https://iiif.wellcomecollection.org/image/b32231921_0003.jp2/full/1006,1024/0/default.jpg',\n",
       " 'https://iiif.wellcomecollection.org/image/b14846275_0037.jp2/full/1338,1927/0/default.jpg',\n",
       " 'https://iiif.wellcomecollection.org/image/b3168581x_0016.jp2/full/1338,1715/0/default.jpg',\n",
       " 'https://iiif.wellcomecollection.org/image/b14846275_0652.jp2/full/1338,1984/0/default.jpg',\n",
       " 'https://iiif.wellcomecollection.org/image/b18576795_0365.jp2/full/1338,1901/0/default.jpg',\n",
       " 'https://iiif.wellcomecollection.org/image/b28705646_0147.jp2/full/1338,2117/0/default.jpg',\n",
       " 'https://iiif.wellcomecollection.org/image/b32274580_0004.jp2/full/1338,1819/0/default.jpg',\n",
       " 'https://iiif.wellcomecollection.org/image/b33068689_0005.jp2/full/1338,1690/0/default.jpg',\n",
       " 'https://iiif.wellcomecollection.org/image/b32274762_0013.jp2/full/1338,1814/0/default.jpg',\n",
       " 'https://iiif.wellcomecollection.org/image/b32274750_0364.jp2/full/1338,2213/0/default.jpg',\n",
       " 'https://iiif.wellcomecollection.org/image/b19177136_0295.jp2/full/1338,1535/0/default.jpg',\n",
       " 'https://iiif.wellcomecollection.org/image/b32274579_0009.jp2/full/1338,1784/0/default.jpg',\n",
       " 'https://iiif.wellcomecollection.org/image/b11058286_0680.jp2/full/3960,5420/0/default.jpg',\n",
       " 'https://iiif.wellcomecollection.org/image/b2022476x_penrose_2_24_6_2_1_0046.JP2/full/1338,1700/0/default.jpg',\n",
       " 'https://iiif.wellcomecollection.org/image/b28705774_0063.jp2/full/1338,2067/0/default.jpg',\n",
       " 'https://iiif.wellcomecollection.org/image/b28704733_0039.jp2/full/1338,2455/0/default.jpg',\n",
       " 'https://iiif.wellcomecollection.org/image/b33585489_0241.jp2/full/1338,2037/0/default.jpg',\n",
       " 'https://iiif.wellcomecollection.org/image/b18318162_0027.jp2/full/1338,1940/0/default.jpg',\n",
       " 'https://iiif.wellcomecollection.org/image/b33537525_0629.jp2/full/1338,1992/0/default.jpg',\n",
       " 'https://iiif.wellcomecollection.org/image/b10916180_hin-wel-all-00012288_0152.jp2/full/1024,1010/0/default.jpg',\n",
       " 'https://iiif.wellcomecollection.org/image/b28705804_0197.jp2/full/1338,2101/0/default.jpg',\n",
       " 'https://iiif.wellcomecollection.org/image/b32274750_0348.jp2/full/1338,2205/0/default.jpg',\n",
       " 'https://iiif.wellcomecollection.org/image/b1220190x_hin-wel-all-00000040_0107.jp2/full/1338,1840/0/default.jpg',\n",
       " 'https://iiif.wellcomecollection.org/image/b18576795_0819.jp2/full/1338,1862/0/default.jpg',\n",
       " 'https://iiif.wellcomecollection.org/image/b33510854_0001.jp2/full/1338,1166/0/default.jpg',\n",
       " 'https://iiif.wellcomecollection.org/image/b18729794_0235.jp2/full/1338,1802/0/default.jpg',\n",
       " 'https://iiif.wellcomecollection.org/image/b28705786_0512.jp2/full/1338,1663/0/default.jpg',\n",
       " 'https://iiif.wellcomecollection.org/image/b19692249_0005.jp2/full/1338,1785/0/default.jpg',\n",
       " 'https://iiif.wellcomecollection.org/image/b29277504_RET_6_20_1_10_15_0077.jp2/full/981,1024/0/default.jpg',\n",
       " 'https://iiif.wellcomecollection.org/image/b32274683_0095.jp2/full/1338,1654/0/default.jpg',\n",
       " 'https://iiif.wellcomecollection.org/image/b32274609_0038.jp2/full/1338,1830/0/default.jpg',\n",
       " 'https://iiif.wellcomecollection.org/image/b24963276_RET_3_3_2_9_0179.jp2/full/1024,1007/0/default.jpg',\n",
       " 'https://iiif.wellcomecollection.org/image/b30634672_0047.jp2/full/1338,1646/0/default.jpg',\n",
       " 'https://iiif.wellcomecollection.org/image/b33585489_0314.jp2/full/1338,2030/0/default.jpg',\n",
       " 'https://iiif.wellcomecollection.org/image/b22488169_RET_1_5_1_56_0495.jp2/full/1024,996/0/default.jpg',\n",
       " 'https://iiif.wellcomecollection.org/image/b2493625x_RET_3_3_2_16_1717.jp2/full/1001,1024/0/default.jpg',\n",
       " 'https://iiif.wellcomecollection.org/image/b19606047_MS_7747_0206.JP2/full/997,1024/0/default.jpg',\n",
       " 'https://iiif.wellcomecollection.org/image/b3337532x_0001.jp2/full/1338,1600/0/default.jpg',\n",
       " 'https://iiif.wellcomecollection.org/image/b33537525_0369.jp2/full/1338,2028/0/default.jpg',\n",
       " 'https://iiif.wellcomecollection.org/image/b28705786_0055.jp2/full/1338,1670/0/default.jpg',\n",
       " 'https://iiif.wellcomecollection.org/image/b19576523_0164.jp2/full/1338,1596/0/default.jpg',\n",
       " 'https://iiif.wellcomecollection.org/image/b33335242_0001.jp2/full/1338,1172/0/default.jpg',\n",
       " 'https://iiif.wellcomecollection.org/image/b18576795_0731.jp2/full/1338,1965/0/default.jpg',\n",
       " 'https://iiif.wellcomecollection.org/image/b19575397_0083.jp2/full/1338,2008/0/default.jpg',\n",
       " 'https://iiif.wellcomecollection.org/image/b28704940_0790.jp2/full/1338,1460/0/default.jpg',\n",
       " 'https://iiif.wellcomecollection.org/image/b33380107_0001.jp2/full/1338,2229/0/default.jpg',\n",
       " 'https://iiif.wellcomecollection.org/image/b11058286_0682.jp2/full/3960,5432/0/default.jpg',\n",
       " 'https://iiif.wellcomecollection.org/image/b32274634_0015.jp2/full/1338,1948/0/default.jpg',\n",
       " 'https://iiif.wellcomecollection.org/image/b28705889_0123.jp2/full/1338,1914/0/default.jpg',\n",
       " 'https://iiif.wellcomecollection.org/image/b18418272_0004.jp2/full/1338,1548/0/default.jpg',\n",
       " 'https://iiif.wellcomecollection.org/image/b32274592_0097.jp2/full/1338,1944/0/default.jpg',\n",
       " 'https://iiif.wellcomecollection.org/image/b1220190x_hin-wel-all-00000040_0064.jp2/full/1338,1792/0/default.jpg',\n",
       " 'https://iiif.wellcomecollection.org/image/b28705853_0016.jp2/full/1338,2249/0/default.jpg',\n",
       " 'https://iiif.wellcomecollection.org/image/b28705786_0117.jp2/full/1338,1612/0/default.jpg',\n",
       " 'https://iiif.wellcomecollection.org/image/b20387878_0072.jp2/full/1338,1741/0/default.jpg',\n",
       " 'https://iiif.wellcomecollection.org/image/b19576523_0243.jp2/full/1338,1537/0/default.jpg',\n",
       " 'https://iiif.wellcomecollection.org/image/b28705269_0012.jp2/full/1338,1815/0/default.jpg',\n",
       " 'https://iiif.wellcomecollection.org/image/b18896042_MS_2799_0254.JP2/full/998,1024/0/default.jpg',\n",
       " 'https://iiif.wellcomecollection.org/image/b19443262_0031.jp2/full/1338,2103/0/default.jpg',\n",
       " 'https://iiif.wellcomecollection.org/image/b31854382_0042.jp2/full/986,1024/0/default.jpg',\n",
       " 'https://iiif.wellcomecollection.org/image/b32274816_0014.jp2/full/1338,2258/0/default.jpg',\n",
       " 'https://iiif.wellcomecollection.org/image/b32274750_0179.jp2/full/1338,1997/0/default.jpg',\n",
       " 'https://iiif.wellcomecollection.org/image/b20166187_ramc_738_2_0002.JP2/full/1024,985/0/default.jpg',\n",
       " 'https://iiif.wellcomecollection.org/image/b33371349_0001.jp2/full/1338,1705/0/default.jpg',\n",
       " 'https://iiif.wellcomecollection.org/image/b28704733_0280.jp2/full/1338,2317/0/default.jpg',\n",
       " 'https://iiif.wellcomecollection.org/image/b28976794_0482.jp2/full/1338,1704/0/default.jpg',\n",
       " 'https://iiif.wellcomecollection.org/image/b28705774_0030.jp2/full/1338,2107/0/default.jpg',\n",
       " 'https://iiif.wellcomecollection.org/image/b32274634_0064.jp2/full/1338,1810/0/default.jpg',\n",
       " 'https://iiif.wellcomecollection.org/image/b18729265_0047.jp2/full/1338,1634/0/default.jpg',\n",
       " 'https://iiif.wellcomecollection.org/image/b33384186_0001.jp2/full/1338,2332/0/default.jpg',\n",
       " 'https://iiif.wellcomecollection.org/image/b28704940_0561.jp2/full/1338,1517/0/default.jpg',\n",
       " 'https://iiif.wellcomecollection.org/image/b19505061_0096.jp2/full/1338,1833/0/default.jpg',\n",
       " 'https://iiif.wellcomecollection.org/image/b28705038_0210.jp2/full/1338,1986/0/default.jpg',\n",
       " 'https://iiif.wellcomecollection.org/image/b30448335_0055.jp2/full/1338,1728/0/default.jpg',\n",
       " 'https://iiif.wellcomecollection.org/image/b33372822_0001.jp2/full/1338,1752/0/default.jpg',\n",
       " 'https://iiif.wellcomecollection.org/image/b28705889_0030.jp2/full/1338,1873/0/default.jpg',\n",
       " 'https://iiif.wellcomecollection.org/image/b19237005_0472.jp2/full/1338,1470/0/default.jpg',\n",
       " 'https://iiif.wellcomecollection.org/image/b33068690_0101.jp2/full/1338,1746/0/default.jpg',\n",
       " 'https://iiif.wellcomecollection.org/image/b14755117_0245.jp2/full/1338,1314/0/default.jpg',\n",
       " 'https://iiif.wellcomecollection.org/image/b3222641x_0008.jp2/full/999,1024/0/default.jpg',\n",
       " 'https://iiif.wellcomecollection.org/image/b32274555_0133.jp2/full/1338,1904/0/default.jpg',\n",
       " 'https://iiif.wellcomecollection.org/image/b19237005_0520.jp2/full/1338,1592/0/default.jpg',\n",
       " 'https://iiif.wellcomecollection.org/image/b14846275_0014.jp2/full/1338,2118/0/default.jpg',\n",
       " 'https://iiif.wellcomecollection.org/image/b18576795_0361.jp2/full/1338,1932/0/default.jpg',\n",
       " 'https://iiif.wellcomecollection.org/image/b28976794_0042.jp2/full/1338,1685/0/default.jpg',\n",
       " 'https://iiif.wellcomecollection.org/image/b33337573_0001.jp2/full/1338,1793/0/default.jpg',\n",
       " 'https://iiif.wellcomecollection.org/image/b32274634_0088.jp2/full/1338,1842/0/default.jpg',\n",
       " 'https://iiif.wellcomecollection.org/image/b19505061_0419.jp2/full/1338,1725/0/default.jpg',\n",
       " 'https://iiif.wellcomecollection.org/image/b3168581x_0003.jp2/full/1338,1687/0/default.jpg',\n",
       " 'https://iiif.wellcomecollection.org/image/b12821457_hin-wel-all-00012567_0121.jp2/full/1004,1024/0/default.jpg',\n",
       " 'https://iiif.wellcomecollection.org/image/b22007611_0060.jp2/full/1338,2086/0/default.jpg',\n",
       " 'https://iiif.wellcomecollection.org/image/b33370540_0001.jp2/full/1338,1827/0/default.jpg',\n",
       " 'https://iiif.wellcomecollection.org/image/b32274580_0010.jp2/full/1338,1822/0/default.jpg',\n",
       " 'https://iiif.wellcomecollection.org/image/b3185445x_0018.jp2/full/1008,1024/0/default.jpg',\n",
       " 'https://iiif.wellcomecollection.org/image/b28704733_0696.jp2/full/1338,2304/0/default.jpg',\n",
       " 'https://iiif.wellcomecollection.org/image/b18423760_ramc_1242_2_0025.JP2/full/1024,1020/0/default.jpg',\n",
       " 'https://iiif.wellcomecollection.org/image/b19371810_0015.jp2/full/1338,1634/0/default.jpg',\n",
       " 'https://iiif.wellcomecollection.org/image/b32274634_0061.jp2/full/1338,1831/0/default.jpg',\n",
       " 'https://iiif.wellcomecollection.org/image/b22488066_RET_1_5_1_45_1148.jp2/full/990,1024/0/default.jpg',\n",
       " 'https://iiif.wellcomecollection.org/image/b19371810_0066.jp2/full/1338,1748/0/default.jpg',\n",
       " 'https://iiif.wellcomecollection.org/image/b18318162_0359.jp2/full/1338,1924/0/default.jpg',\n",
       " 'https://iiif.wellcomecollection.org/image/b28976794_0362.jp2/full/1338,1704/0/default.jpg',\n",
       " 'https://iiif.wellcomecollection.org/image/b32274555_0223.jp2/full/1338,2004/0/default.jpg',\n",
       " 'https://iiif.wellcomecollection.org/image/b33585489_0137.jp2/full/1338,2007/0/default.jpg',\n",
       " 'https://iiif.wellcomecollection.org/image/b32163575_0052.jp2/full/1003,1024/0/default.jpg',\n",
       " 'https://iiif.wellcomecollection.org/image/b28705786_0803.jp2/full/1338,1656/0/default.jpg',\n",
       " 'https://iiif.wellcomecollection.org/image/b28976794_0525.jp2/full/1338,2007/0/default.jpg',\n",
       " 'https://iiif.wellcomecollection.org/image/b11148366_hin-wel-all-00003449_0597.jp2/full/990,1024/0/default.jpg',\n",
       " 'https://iiif.wellcomecollection.org/image/b14846275_0184.jp2/full/1338,2035/0/default.jpg',\n",
       " 'https://iiif.wellcomecollection.org/image/b28705786_0038.jp2/full/1338,1711/0/default.jpg',\n",
       " 'https://iiif.wellcomecollection.org/image/b28704940_0307.jp2/full/1338,1525/0/default.jpg',\n",
       " 'https://iiif.wellcomecollection.org/image/b18123533_0543.jp2/full/1338,1871/0/default.jpg',\n",
       " 'https://iiif.wellcomecollection.org/image/b18932034_0188.jp2/full/1338,1861/0/default.jpg',\n",
       " 'https://iiif.wellcomecollection.org/image/b18417383_0183.jp2/full/1338,1655/0/default.jpg',\n",
       " 'https://iiif.wellcomecollection.org/image/b18504875_ramc_1242_3_0042.JP2/full/1024,1009/0/default.jpg',\n",
       " 'https://iiif.wellcomecollection.org/image/b18693441_0309.jp2/full/1338,2174/0/default.jpg',\n",
       " 'https://iiif.wellcomecollection.org/image/b28705737_0260.jp2/full/1338,1999/0/default.jpg',\n",
       " 'https://iiif.wellcomecollection.org/image/b19175346_0019.jp2/full/1338,1527/0/default.jpg',\n",
       " 'https://iiif.wellcomecollection.org/image/b32274750_0224.jp2/full/1338,2061/0/default.jpg',\n",
       " 'https://iiif.wellcomecollection.org/image/b33188087_0001.jp2/full/977,1024/0/default.jpg',\n",
       " 'https://iiif.wellcomecollection.org/image/b32274634_0100.jp2/full/1338,1887/0/default.jpg',\n",
       " 'https://iiif.wellcomecollection.org/image/b24936303_RET_3_3_1_12_0024.jp2/full/983,1024/0/default.jpg',\n",
       " 'https://iiif.wellcomecollection.org/image/b28704630_0010.jp2/full/1338,2081/0/default.jpg',\n",
       " 'https://iiif.wellcomecollection.org/image/b1220190x_hin-wel-all-00000040_0047.jp2/full/1338,2017/0/default.jpg',\n",
       " 'https://iiif.wellcomecollection.org/image/b2265415x_DGH1_5_1_1_17_0043.JP2/full/1008,1024/0/default.jpg',\n",
       " 'https://iiif.wellcomecollection.org/image/b33374004_0001.jp2/full/1338,2019/0/default.jpg',\n",
       " 'https://iiif.wellcomecollection.org/image/b18518588_WA_HMM_LI_Bks_65_0025.jp2/full/1024,979/0/default.jpg',\n",
       " 'https://iiif.wellcomecollection.org/image/b19175346_0199.jp2/full/1338,4676/0/default.jpg',\n",
       " 'https://iiif.wellcomecollection.org/image/b28705774_0075.jp2/full/1338,2067/0/default.jpg',\n",
       " 'https://iiif.wellcomecollection.org/image/b19576523_0178.jp2/full/1338,1605/0/default.jpg',\n",
       " 'https://iiif.wellcomecollection.org/image/b32274592_0146.jp2/full/1338,1844/0/default.jpg',\n",
       " 'https://iiif.wellcomecollection.org/image/b33231229_0001.jp2/full/1338,802/0/default.jpg',\n",
       " 'https://iiif.wellcomecollection.org/image/b18576795_0735.jp2/full/1338,1969/0/default.jpg',\n",
       " 'https://iiif.wellcomecollection.org/image/b19175346_0037.jp2/full/1338,1517/0/default.jpg',\n",
       " 'https://iiif.wellcomecollection.org/image/b18318162_0140.jp2/full/1338,1912/0/default.jpg',\n",
       " 'https://iiif.wellcomecollection.org/image/b14850047_wms_malay_2_b14850047_0017.JP2/full/1024,985/0/default.jpg',\n",
       " 'https://iiif.wellcomecollection.org/image/b31854424_0009.jp2/full/1019,1024/0/default.jpg',\n",
       " 'https://iiif.wellcomecollection.org/image/b32274695_0050.jp2/full/1338,1720/0/default.jpg',\n",
       " 'https://iiif.wellcomecollection.org/image/b19175346_0113.jp2/full/1338,1540/0/default.jpg',\n",
       " 'https://iiif.wellcomecollection.org/image/b18287517_ramc_1242_5_0036.JP2/full/1024,1021/0/default.jpg',\n",
       " 'https://iiif.wellcomecollection.org/image/b18576795_1019.jp2/full/1338,2022/0/default.jpg',\n",
       " 'https://iiif.wellcomecollection.org/image/b28705427_0220.jp2/full/1338,2151/0/default.jpg',\n",
       " 'https://iiif.wellcomecollection.org/image/b10109432_hin-wel-all-00000036_0161.jp2/full/1338,1814/0/default.jpg',\n",
       " 'https://iiif.wellcomecollection.org/image/b19692249_0003.jp2/full/1338,2002/0/default.jpg',\n",
       " 'https://iiif.wellcomecollection.org/image/b19505061_0135.jp2/full/1338,1708/0/default.jpg',\n",
       " 'https://iiif.wellcomecollection.org/image/b18318162_0189.jp2/full/1338,1895/0/default.jpg',\n",
       " 'https://iiif.wellcomecollection.org/image/b28705786_0456.jp2/full/1338,1601/0/default.jpg',\n",
       " 'https://iiif.wellcomecollection.org/image/b32274683_0114.jp2/full/1338,1516/0/default.jpg',\n",
       " 'https://iiif.wellcomecollection.org/image/b24949541_RET_3_3_2_8_0229.jp2/full/1024,1022/0/default.jpg',\n",
       " 'https://iiif.wellcomecollection.org/image/b19371810_0126.jp2/full/1338,1685/0/default.jpg',\n",
       " 'https://iiif.wellcomecollection.org/image/b19576523_0182.jp2/full/1338,1608/0/default.jpg',\n",
       " 'https://iiif.wellcomecollection.org/image/b28705646_0070.jp2/full/1338,2167/0/default.jpg',\n",
       " 'https://iiif.wellcomecollection.org/image/b3222641x_0005.jp2/full/1015,1024/0/default.jpg',\n",
       " 'https://iiif.wellcomecollection.org/image/b10109432_hin-wel-all-00000036_0230.jp2/full/1338,1711/0/default.jpg',\n",
       " 'https://iiif.wellcomecollection.org/image/b30496871_0001.JP2/full/1024,1015/0/default.jpg',\n",
       " 'https://iiif.wellcomecollection.org/image/b32274580_0044.jp2/full/1338,1765/0/default.jpg',\n",
       " 'https://iiif.wellcomecollection.org/image/b28704940_0261.jp2/full/1338,1541/0/default.jpg',\n",
       " 'https://iiif.wellcomecollection.org/image/b18693441_0406.jp2/full/1338,2079/0/default.jpg',\n",
       " 'https://iiif.wellcomecollection.org/image/b32274750_0234.jp2/full/1338,2023/0/default.jpg',\n",
       " 'https://iiif.wellcomecollection.org/image/b32274774_0013.jp2/full/1338,1762/0/default.jpg',\n",
       " 'https://iiif.wellcomecollection.org/image/b33537525_0475.jp2/full/1338,1973/0/default.jpg',\n",
       " 'https://iiif.wellcomecollection.org/image/b33376694_0001.jp2/full/1338,1759/0/default.jpg',\n",
       " 'https://iiif.wellcomecollection.org/image/b24940069_RET_3_3_2_4_1995.jp2/full/1024,989/0/default.jpg',\n",
       " 'https://iiif.wellcomecollection.org/image/b19191728_0153.jp2/full/1338,1689/0/default.jpg',\n",
       " 'https://iiif.wellcomecollection.org/image/b18758897_0125.jp2/full/1338,1859/0/default.jpg',\n",
       " 'https://iiif.wellcomecollection.org/image/b33238340_0001.jp2/full/1338,1748/0/default.jpg',\n",
       " 'https://iiif.wellcomecollection.org/image/b32274580_0023.jp2/full/1338,1845/0/default.jpg',\n",
       " 'https://iiif.wellcomecollection.org/image/b32231878_0027.jp2/full/996,1024/0/default.jpg',\n",
       " 'https://iiif.wellcomecollection.org/image/b18123533_0281.jp2/full/1338,1721/0/default.jpg',\n",
       " 'https://iiif.wellcomecollection.org/image/b19012676_0355.jp2/full/1338,1823/0/default.jpg',\n",
       " 'https://iiif.wellcomecollection.org/image/b28704733_0349.jp2/full/1338,2379/0/default.jpg',\n",
       " 'https://iiif.wellcomecollection.org/image/b18729794_0468.jp2/full/1338,1754/0/default.jpg',\n",
       " 'https://iiif.wellcomecollection.org/image/b24938257_RET_3_3_2_7_0922.jp2/full/1024,1022/0/default.jpg',\n",
       " 'https://iiif.wellcomecollection.org/image/b28704733_0351.jp2/full/1338,2379/0/default.jpg',\n",
       " 'https://iiif.wellcomecollection.org/image/b32274695_0006.jp2/full/1338,1741/0/default.jpg',\n",
       " 'https://iiif.wellcomecollection.org/image/b32274555_0303.jp2/full/1338,1953/0/default.jpg',\n",
       " 'https://iiif.wellcomecollection.org/image/b32274750_0193.jp2/full/1338,1922/0/default.jpg',\n",
       " 'https://iiif.wellcomecollection.org/image/b2022476x_penrose_2_24_6_2_3_0005.JP2/full/1338,2124/0/default.jpg',\n",
       " 'https://iiif.wellcomecollection.org/image/b2248792x_RET_1_5_1_28_0197.jp2/full/981,1024/0/default.jpg',\n",
       " 'https://iiif.wellcomecollection.org/image/b28704630_0143.jp2/full/1338,1907/0/default.jpg',\n",
       " 'https://iiif.wellcomecollection.org/image/b33174428_0001.jp2/full/991,1024/0/default.jpg',\n",
       " 'https://iiif.wellcomecollection.org/image/b22007611_0210.jp2/full/1338,2112/0/default.jpg',\n",
       " 'https://iiif.wellcomecollection.org/image/b19662397_0039.jp2/full/1338,1555/0/default.jpg',\n",
       " 'https://iiif.wellcomecollection.org/image/b22007611_0263.jp2/full/1338,2089/0/default.jpg',\n",
       " 'https://iiif.wellcomecollection.org/image/b18597452_0179.jp2/full/1338,1593/0/default.jpg',\n",
       " 'https://iiif.wellcomecollection.org/image/b18417383_0037.jp2/full/1338,1626/0/default.jpg',\n",
       " 'https://iiif.wellcomecollection.org/image/b18932034_0160.jp2/full/1338,1872/0/default.jpg',\n",
       " 'https://iiif.wellcomecollection.org/image/b11058286_0641.jp2/full/3800,5396/0/default.jpg',\n",
       " 'https://iiif.wellcomecollection.org/image/b32274695_0053.jp2/full/1338,1789/0/default.jpg',\n",
       " 'https://iiif.wellcomecollection.org/image/b28704940_0175.jp2/full/1338,1525/0/default.jpg',\n",
       " 'https://iiif.wellcomecollection.org/image/b14755117_0086.jp2/full/1338,1353/0/default.jpg',\n",
       " 'https://iiif.wellcomecollection.org/image/b32274683_0117.jp2/full/1338,1668/0/default.jpg',\n",
       " 'https://iiif.wellcomecollection.org/image/b28705579_0217.jp2/full/1338,1946/0/default.jpg',\n",
       " 'https://iiif.wellcomecollection.org/image/b32274658_0063.jp2/full/1338,1734/0/default.jpg',\n",
       " 'https://iiif.wellcomecollection.org/image/b28704940_0668.jp2/full/1338,1505/0/default.jpg',\n",
       " 'https://iiif.wellcomecollection.org/image/b18417383_0212.jp2/full/1338,1609/0/default.jpg',\n",
       " 'https://iiif.wellcomecollection.org/image/b32274750_0054.jp2/full/1338,2143/0/default.jpg',\n",
       " 'https://iiif.wellcomecollection.org/image/b19164828_MS_1819_0118.JP2/full/984,1024/0/default.jpg',\n",
       " 'https://iiif.wellcomecollection.org/image/b18597452_0035.jp2/full/1338,1632/0/default.jpg',\n",
       " 'https://iiif.wellcomecollection.org/image/b1856351x_0034.jp2/full/1338,1615/0/default.jpg',\n",
       " 'https://iiif.wellcomecollection.org/image/b28705786_0325.jp2/full/1338,1626/0/default.jpg',\n",
       " 'https://iiif.wellcomecollection.org/image/b19177136_0124.jp2/full/1338,1608/0/default.jpg',\n",
       " 'https://iiif.wellcomecollection.org/image/b19012676_0074.jp2/full/1338,1938/0/default.jpg',\n",
       " 'https://iiif.wellcomecollection.org/image/b32274609_0025.jp2/full/1338,1889/0/default.jpg',\n",
       " 'https://iiif.wellcomecollection.org/image/b33537525_0418.jp2/full/1338,2014/0/default.jpg',\n",
       " 'https://iiif.wellcomecollection.org/image/b28705427_0135.jp2/full/1338,2276/0/default.jpg',\n",
       " 'https://iiif.wellcomecollection.org/image/b18729794_0224.jp2/full/1338,1807/0/default.jpg',\n",
       " 'https://iiif.wellcomecollection.org/image/b18123533_0065.jp2/full/1338,1733/0/default.jpg',\n",
       " 'https://iiif.wellcomecollection.org/image/b28705889_0085.jp2/full/1338,1914/0/default.jpg',\n",
       " 'https://iiif.wellcomecollection.org/image/b33377352_0001.jp2/full/1338,1832/0/default.jpg',\n",
       " 'https://iiif.wellcomecollection.org/image/b18423760_ramc_1242_2_0032.JP2/full/1018,1024/0/default.jpg',\n",
       " 'https://iiif.wellcomecollection.org/image/b19237005_0356.jp2/full/1338,1560/0/default.jpg',\n",
       " 'https://iiif.wellcomecollection.org/image/b33340717_0001.jp2/full/1338,1314/0/default.jpg',\n",
       " 'https://iiif.wellcomecollection.org/image/b19175346_0018.jp2/full/1338,1522/0/default.jpg',\n",
       " 'https://iiif.wellcomecollection.org/image/b14755117_0051.jp2/full/1338,1322/0/default.jpg',\n",
       " 'https://iiif.wellcomecollection.org/image/b24954809_RET_6_19_1_147_1300.jp2/full/1024,1021/0/default.jpg',\n",
       " 'https://iiif.wellcomecollection.org/image/b28705889_0307.jp2/full/1338,1914/0/default.jpg',\n",
       " 'https://iiif.wellcomecollection.org/image/b32274750_0272.jp2/full/1338,1835/0/default.jpg',\n",
       " 'https://iiif.wellcomecollection.org/image/b28704940_0195.jp2/full/1338,1526/0/default.jpg',\n",
       " 'https://iiif.wellcomecollection.org/image/b19676736_0141.jp2/full/1338,1802/0/default.jpg',\n",
       " 'https://iiif.wellcomecollection.org/image/b33373656_0001.jp2/full/1338,1778/0/default.jpg',\n",
       " 'https://iiif.wellcomecollection.org/image/b11534096_hin-wel-all-00012421_0305.jp2/full/1024,1017/0/default.jpg',\n",
       " 'https://iiif.wellcomecollection.org/image/b19505061_0671.jp2/full/1338,1929/0/default.jpg',\n",
       " 'https://iiif.wellcomecollection.org/image/b19371810_0009.jp2/full/1338,906/0/default.jpg',\n",
       " 'https://iiif.wellcomecollection.org/image/b28704940_0598.jp2/full/1338,1480/0/default.jpg',\n",
       " 'https://iiif.wellcomecollection.org/image/b19177136_0012.jp2/full/1338,1619/0/default.jpg',\n",
       " 'https://iiif.wellcomecollection.org/image/b19237005_0463.jp2/full/1338,1519/0/default.jpg',\n",
       " 'https://iiif.wellcomecollection.org/image/b32274634_0085.jp2/full/1338,1903/0/default.jpg',\n",
       " 'https://iiif.wellcomecollection.org/image/b19505061_0025.jp2/full/1338,1942/0/default.jpg',\n",
       " 'https://iiif.wellcomecollection.org/image/b18597452_0038.jp2/full/1338,1645/0/default.jpg',\n",
       " 'https://iiif.wellcomecollection.org/image/b33533672_0032.jp2/full/1338,1853/0/default.jpg',\n",
       " 'https://iiif.wellcomecollection.org/image/b2022476x_penrose_2_24_6_2_1_0141.JP2/full/1338,1681/0/default.jpg',\n",
       " 'https://iiif.wellcomecollection.org/image/b30540471_0295.jp2/full/1338,2076/0/default.jpg',\n",
       " 'https://iiif.wellcomecollection.org/image/b28705038_0103.jp2/full/1338,2115/0/default.jpg',\n",
       " 'https://iiif.wellcomecollection.org/image/b32274592_0038.jp2/full/1338,1917/0/default.jpg',\n",
       " 'https://iiif.wellcomecollection.org/image/b24937356_RET_3_3_2_12_0676.jp2/full/1024,982/0/default.jpg',\n",
       " 'https://iiif.wellcomecollection.org/image/b28704940_0591.jp2/full/1338,1535/0/default.jpg',\n",
       " 'https://iiif.wellcomecollection.org/image/b11148366_hin-wel-all-00003449_0057.jp2/full/1012,1024/0/default.jpg',\n",
       " 'https://iiif.wellcomecollection.org/image/b33514203_0001.jp2/full/1338,1677/0/default.jpg',\n",
       " 'https://iiif.wellcomecollection.org/image/b14876425_0057.jp2/full/1024,1001/0/default.jpg',\n",
       " 'https://iiif.wellcomecollection.org/image/b19495833_RAMC_2004_10_1246.jp2/full/977,1024/0/default.jpg',\n",
       " 'https://iiif.wellcomecollection.org/image/b14755117_0411.jp2/full/1338,1352/0/default.jpg',\n",
       " 'https://iiif.wellcomecollection.org/image/b18318162_0313.jp2/full/1338,1911/0/default.jpg',\n",
       " 'https://iiif.wellcomecollection.org/image/b28704733_0554.jp2/full/1338,2294/0/default.jpg',\n",
       " 'https://iiif.wellcomecollection.org/image/b19567777_0056.jp2/full/1338,1606/0/default.jpg',\n",
       " 'https://iiif.wellcomecollection.org/image/b19191728_0137.jp2/full/1338,1689/0/default.jpg',\n",
       " 'https://iiif.wellcomecollection.org/image/b19314164_0223.jp2/full/1338,1603/0/default.jpg',\n",
       " 'https://iiif.wellcomecollection.org/image/b32274555_0038.jp2/full/1338,1901/0/default.jpg',\n",
       " 'https://iiif.wellcomecollection.org/image/b32274555_0246.jp2/full/1338,1895/0/default.jpg',\n",
       " 'https://iiif.wellcomecollection.org/image/b32274658_0097.jp2/full/1338,1770/0/default.jpg',\n",
       " 'https://iiif.wellcomecollection.org/image/b33513703_0001.jp2/full/1338,950/0/default.jpg',\n",
       " 'https://iiif.wellcomecollection.org/image/b18729794_0377.jp2/full/1338,1772/0/default.jpg',\n",
       " 'https://iiif.wellcomecollection.org/image/b19287355_0139.jp2/full/1338,1620/0/default.jpg',\n",
       " 'https://iiif.wellcomecollection.org/image/b18123533_0316.jp2/full/1338,1652/0/default.jpg',\n",
       " 'https://iiif.wellcomecollection.org/image/b33236215_0001.jp2/full/1338,1020/0/default.jpg',\n",
       " 'https://iiif.wellcomecollection.org/image/b32274580_0057.jp2/full/1338,1863/0/default.jpg',\n",
       " 'https://iiif.wellcomecollection.org/image/b32274592_0006.jp2/full/1338,1935/0/default.jpg',\n",
       " 'https://iiif.wellcomecollection.org/image/b28704940_0772.jp2/full/1338,1460/0/default.jpg',\n",
       " 'https://iiif.wellcomecollection.org/image/b1325473x_hin-wel-all-00012743_0047.jp2/full/1006,1024/0/default.jpg',\n",
       " 'https://iiif.wellcomecollection.org/image/b32274683_0061.jp2/full/1338,1661/0/default.jpg',\n",
       " 'https://iiif.wellcomecollection.org/image/b28705804_0226.jp2/full/1338,2102/0/default.jpg',\n",
       " 'https://iiif.wellcomecollection.org/image/b32274622_0071.jp2/full/1338,1765/0/default.jpg',\n",
       " 'https://iiif.wellcomecollection.org/image/b32274658_0107.jp2/full/1338,1754/0/default.jpg',\n",
       " 'https://iiif.wellcomecollection.org/image/b32274683_0100.jp2/full/1338,1506/0/default.jpg',\n",
       " 'https://iiif.wellcomecollection.org/image/b22046574_RET_1_5_1_3_0078.jp2/full/1006,1024/0/default.jpg',\n",
       " 'https://iiif.wellcomecollection.org/image/b28704903_0867.jp2/full/978,1024/0/default.jpg',\n",
       " 'https://iiif.wellcomecollection.org/image/b24938257_RET_3_3_2_7_0671.jp2/full/1022,1024/0/default.jpg',\n",
       " 'https://iiif.wellcomecollection.org/image/b32274634_0101.jp2/full/1338,1903/0/default.jpg',\n",
       " 'https://iiif.wellcomecollection.org/image/b32274695_0013.jp2/full/1338,1741/0/default.jpg',\n",
       " 'https://iiif.wellcomecollection.org/image/b19676736_0204.jp2/full/1338,1870/0/default.jpg',\n",
       " 'https://iiif.wellcomecollection.org/image/b32274750_0128.jp2/full/1338,1959/0/default.jpg',\n",
       " 'https://iiif.wellcomecollection.org/image/b28705786_0011.jp2/full/1338,1752/0/default.jpg',\n",
       " 'https://iiif.wellcomecollection.org/image/b32274592_0101.jp2/full/1338,1944/0/default.jpg',\n",
       " 'https://iiif.wellcomecollection.org/image/b15837567_0001.jp2/full/1024,1020/0/default.jpg',\n",
       " 'https://iiif.wellcomecollection.org/image/b18576795_0965.jp2/full/1338,1976/0/default.jpg',\n",
       " 'https://iiif.wellcomecollection.org/image/b28705804_0268.jp2/full/1338,2102/0/default.jpg',\n",
       " 'https://iiif.wellcomecollection.org/image/b32274750_0027.jp2/full/1338,2271/0/default.jpg',\n",
       " 'https://iiif.wellcomecollection.org/image/b18729794_0006.jp2/full/1338,1804/0/default.jpg',\n",
       " 'https://iiif.wellcomecollection.org/image/b18123533_0005.jp2/full/1338,1693/0/default.jpg',\n",
       " 'https://iiif.wellcomecollection.org/image/b28705427_0450.jp2/full/1338,2196/0/default.jpg',\n",
       " 'https://iiif.wellcomecollection.org/image/b28705786_0172.jp2/full/1338,1600/0/default.jpg',\n",
       " 'https://iiif.wellcomecollection.org/image/b33511391_0001.jp2/full/1338,1714/0/default.jpg',\n",
       " 'https://iiif.wellcomecollection.org/image/b28705427_0306.jp2/full/1338,2151/0/default.jpg',\n",
       " 'https://iiif.wellcomecollection.org/image/b19237005_0330.jp2/full/1338,1574/0/default.jpg',\n",
       " 'https://iiif.wellcomecollection.org/image/b18758897_0152.jp2/full/1338,1709/0/default.jpg',\n",
       " 'https://iiif.wellcomecollection.org/image/b19567777_0057.jp2/full/1338,1545/0/default.jpg',\n",
       " 'https://iiif.wellcomecollection.org/image/b32274695_0032.jp2/full/1338,1778/0/default.jpg',\n",
       " 'https://iiif.wellcomecollection.org/image/b19603046_0012.jp2/full/1338,1936/0/default.jpg',\n",
       " 'https://iiif.wellcomecollection.org/image/b19505061_0440.jp2/full/1338,1589/0/default.jpg',\n",
       " 'https://iiif.wellcomecollection.org/image/b19695433_0001.jp2/full/1338,1670/0/default.jpg',\n",
       " 'https://iiif.wellcomecollection.org/image/b11058286_0415.jp2/full/3884,5396/0/default.jpg',\n",
       " 'https://iiif.wellcomecollection.org/image/b19012676_0340.jp2/full/1338,1944/0/default.jpg',\n",
       " 'https://iiif.wellcomecollection.org/image/b14828042_0005.jp2/full/1338,2074/0/default.jpg',\n",
       " 'https://iiif.wellcomecollection.org/image/b32274592_0106.jp2/full/1338,1911/0/default.jpg',\n",
       " 'https://iiif.wellcomecollection.org/image/b20614548_galton_02_08_01_13_05_0054.JP2/full/1024,1002/0/default.jpg',\n",
       " 'https://iiif.wellcomecollection.org/image/b11758752_0001.jp2/full/1338,1754/0/default.jpg',\n",
       " 'https://iiif.wellcomecollection.org/image/b18693441_0333.jp2/full/1338,2195/0/default.jpg',\n",
       " 'https://iiif.wellcomecollection.org/image/b14565377_0066.jp2/full/1022,1024/0/default.jpg',\n",
       " 'https://iiif.wellcomecollection.org/image/b31854412_0005.jp2/full/994,1024/0/default.jpg',\n",
       " 'https://iiif.wellcomecollection.org/image/b11058286_0379.jp2/full/3860,5408/0/default.jpg',\n",
       " 'https://iiif.wellcomecollection.org/image/b18338835_MS_1506_0196.JP2/full/1018,1024/0/default.jpg',\n",
       " 'https://iiif.wellcomecollection.org/image/b33537525_0047.jp2/full/1338,2064/0/default.jpg',\n",
       " 'https://iiif.wellcomecollection.org/image/b19191728_0009.jp2/full/1338,1684/0/default.jpg',\n",
       " 'https://iiif.wellcomecollection.org/image/b19505061_0329.jp2/full/1338,1561/0/default.jpg',\n",
       " 'https://iiif.wellcomecollection.org/image/b14755117_0428.jp2/full/1338,1280/0/default.jpg',\n",
       " 'https://iiif.wellcomecollection.org/image/b28705737_0215.jp2/full/1338,2077/0/default.jpg',\n",
       " 'https://iiif.wellcomecollection.org/image/b19662397_0013.jp2/full/1338,1602/0/default.jpg',\n",
       " 'https://iiif.wellcomecollection.org/image/b33338759_0001.jp2/full/1338,2025/0/default.jpg',\n",
       " 'https://iiif.wellcomecollection.org/image/b28704940_0277.jp2/full/1338,1541/0/default.jpg',\n",
       " 'https://iiif.wellcomecollection.org/image/b19314164_0317.jp2/full/1338,1529/0/default.jpg',\n",
       " 'https://iiif.wellcomecollection.org/image/b32274750_0137.jp2/full/1338,1947/0/default.jpg',\n",
       " 'https://iiif.wellcomecollection.org/image/b19541818_0174.jp2/full/1338,1980/0/default.jpg',\n",
       " 'https://iiif.wellcomecollection.org/image/b33512267_0001.jp2/full/1338,1878/0/default.jpg',\n",
       " 'https://iiif.wellcomecollection.org/image/b28705786_0789.jp2/full/1338,1656/0/default.jpg',\n",
       " 'https://iiif.wellcomecollection.org/image/b33330906_0001.jp2/full/1338,2216/0/default.jpg',\n",
       " 'https://iiif.wellcomecollection.org/image/b32274750_0092.jp2/full/1338,2058/0/default.jpg',\n",
       " 'https://iiif.wellcomecollection.org/image/b33370916_0001.jp2/full/1338,1786/0/default.jpg',\n",
       " 'https://iiif.wellcomecollection.org/image/b18758897_0030.jp2/full/1338,1844/0/default.jpg',\n",
       " 'https://iiif.wellcomecollection.org/image/b32274609_0023.jp2/full/1338,1888/0/default.jpg',\n",
       " 'https://iiif.wellcomecollection.org/image/b28705737_0197.jp2/full/1338,2064/0/default.jpg',\n",
       " 'https://iiif.wellcomecollection.org/image/b28705737_0339.jp2/full/1338,2117/0/default.jpg',\n",
       " 'https://iiif.wellcomecollection.org/image/b12177945_hin-wel-all-00012467_0009.jp2/full/1003,1024/0/default.jpg',\n",
       " 'https://iiif.wellcomecollection.org/image/b14755117_0148.jp2/full/1338,1350/0/default.jpg',\n",
       " 'https://iiif.wellcomecollection.org/image/b32274634_0042.jp2/full/1338,1829/0/default.jpg',\n",
       " 'https://iiif.wellcomecollection.org/image/b33338656_0001.jp2/full/1338,2067/0/default.jpg',\n",
       " 'https://iiif.wellcomecollection.org/image/b33372020_0001.jp2/full/1338,2128/0/default.jpg',\n",
       " 'https://iiif.wellcomecollection.org/image/b32274774_0253.jp2/full/1338,1814/0/default.jpg',\n",
       " 'https://iiif.wellcomecollection.org/image/b18123533_0456.jp2/full/1338,1612/0/default.jpg',\n",
       " 'https://iiif.wellcomecollection.org/image/b19576523_0171.jp2/full/1338,1490/0/default.jpg',\n",
       " 'https://iiif.wellcomecollection.org/image/b32274683_0072.jp2/full/1338,1519/0/default.jpg',\n",
       " 'https://iiif.wellcomecollection.org/image/b18576795_0792.jp2/full/1338,1991/0/default.jpg',\n",
       " 'https://iiif.wellcomecollection.org/image/b19237005_0116.jp2/full/1338,1096/0/default.jpg',\n",
       " 'https://iiif.wellcomecollection.org/image/b3324604x_0001.jp2/full/992,1024/0/default.jpg',\n",
       " 'https://iiif.wellcomecollection.org/image/b32274816_0017.jp2/full/1338,2244/0/default.jpg',\n",
       " 'https://iiif.wellcomecollection.org/image/b32232068_0005.jp2/full/1004,1024/0/default.jpg',\n",
       " 'https://iiif.wellcomecollection.org/image/b19676736_0241.jp2/full/1338,1754/0/default.jpg',\n",
       " 'https://iiif.wellcomecollection.org/image/b24946448_RET_3_3_2_11_0302.jp2/full/1024,982/0/default.jpg',\n",
       " 'https://iiif.wellcomecollection.org/image/b31854503_0028.jp2/full/1012,1024/0/default.jpg',\n",
       " 'https://iiif.wellcomecollection.org/image/b19314164_0111.jp2/full/1338,1524/0/default.jpg',\n",
       " 'https://iiif.wellcomecollection.org/image/b22007611_0169.jp2/full/1338,2089/0/default.jpg',\n",
       " 'https://iiif.wellcomecollection.org/image/b28705786_0334.jp2/full/1338,1626/0/default.jpg',\n",
       " 'https://iiif.wellcomecollection.org/image/b28704940_0537.jp2/full/1338,1517/0/default.jpg',\n",
       " 'https://iiif.wellcomecollection.org/image/b22007611_0026.jp2/full/1338,2086/0/default.jpg',\n",
       " 'https://iiif.wellcomecollection.org/image/b32274774_0111.jp2/full/1338,1761/0/default.jpg',\n",
       " 'https://iiif.wellcomecollection.org/image/b31685766_0048.jp2/full/1338,1754/0/default.jpg',\n",
       " 'https://iiif.wellcomecollection.org/image/b18896042_MS_2799_0220.JP2/full/991,1024/0/default.jpg',\n",
       " 'https://iiif.wellcomecollection.org/image/b14846275_0632.jp2/full/1338,1984/0/default.jpg',\n",
       " 'https://iiif.wellcomecollection.org/image/b32274592_0092.jp2/full/1338,1928/0/default.jpg',\n",
       " 'https://iiif.wellcomecollection.org/image/b32274774_0217.jp2/full/1338,1796/0/default.jpg',\n",
       " 'https://iiif.wellcomecollection.org/image/b18123533_0236.jp2/full/1338,1723/0/default.jpg',\n",
       " 'https://iiif.wellcomecollection.org/image/b32274683_0099.jp2/full/1338,1657/0/default.jpg',\n",
       " 'https://iiif.wellcomecollection.org/image/b20387878_0001.jp2/full/1338,1811/0/default.jpg',\n",
       " 'https://iiif.wellcomecollection.org/image/b32274592_0023.jp2/full/1338,1934/0/default.jpg',\n",
       " 'https://iiif.wellcomecollection.org/image/b28704940_0300.jp2/full/1338,1548/0/default.jpg',\n",
       " 'https://iiif.wellcomecollection.org/image/b28704940_0394.jp2/full/1338,1525/0/default.jpg',\n",
       " 'https://iiif.wellcomecollection.org/image/b18597452_0187.jp2/full/1338,1603/0/default.jpg',\n",
       " 'https://iiif.wellcomecollection.org/image/b20619972_galton_01_01_09_05_01_0013.JP2/full/1015,1024/0/default.jpg',\n",
       " 'https://iiif.wellcomecollection.org/image/b28704733_0051.jp2/full/1338,2455/0/default.jpg',\n",
       " 'https://iiif.wellcomecollection.org/image/b28705737_0017.jp2/full/1338,2104/0/default.jpg',\n",
       " 'https://iiif.wellcomecollection.org/image/b33068690_0105.jp2/full/1338,1734/0/default.jpg',\n",
       " 'https://iiif.wellcomecollection.org/image/b14755117_0379.jp2/full/1338,1358/0/default.jpg',\n",
       " 'https://iiif.wellcomecollection.org/image/b19576523_0230.jp2/full/1338,1609/0/default.jpg',\n",
       " 'https://iiif.wellcomecollection.org/image/b32274634_0055.jp2/full/1338,1884/0/default.jpg',\n",
       " 'https://iiif.wellcomecollection.org/image/b18123533_0224.jp2/full/1338,1716/0/default.jpg',\n",
       " 'https://iiif.wellcomecollection.org/image/b18123533_0584.jp2/full/1338,1596/0/default.jpg',\n",
       " 'https://iiif.wellcomecollection.org/image/b33249611_0001.jp2/full/1338,2118/0/default.jpg',\n",
       " 'https://iiif.wellcomecollection.org/image/b18576795_0788.jp2/full/1338,1939/0/default.jpg',\n",
       " 'https://iiif.wellcomecollection.org/image/b28704733_0321.jp2/full/1338,2474/0/default.jpg',\n",
       " 'https://iiif.wellcomecollection.org/image/b18576795_0157.jp2/full/1338,1953/0/default.jpg',\n",
       " 'https://iiif.wellcomecollection.org/image/b18318162_0138.jp2/full/1338,1912/0/default.jpg',\n",
       " 'https://iiif.wellcomecollection.org/image/b32274622_0090.jp2/full/1338,1283/0/default.jpg',\n",
       " 'https://iiif.wellcomecollection.org/image/b33373140_0001.jp2/full/1338,1099/0/default.jpg',\n",
       " 'https://iiif.wellcomecollection.org/image/b33374545_0001.jp2/full/1338,2201/0/default.jpg',\n",
       " 'https://iiif.wellcomecollection.org/image/b14560999_0122.jp2/full/982,1024/0/default.jpg',\n",
       " 'https://iiif.wellcomecollection.org/image/b19505061_0270.jp2/full/1338,1697/0/default.jpg',\n",
       " 'https://iiif.wellcomecollection.org/image/b24938245_RET_3_3_2_10_0631.jp2/full/1024,1021/0/default.jpg',\n",
       " 'https://iiif.wellcomecollection.org/image/b11058286_0257.jp2/full/3932,5432/0/default.jpg',\n",
       " 'https://iiif.wellcomecollection.org/image/b28705737_0284.jp2/full/1338,1999/0/default.jpg',\n",
       " 'https://iiif.wellcomecollection.org/image/b19113626_ramc_1242_6_0015.JP2/full/1022,1024/0/default.jpg',\n",
       " 'https://iiif.wellcomecollection.org/image/b20387878_0138.jp2/full/1338,1755/0/default.jpg',\n",
       " 'https://iiif.wellcomecollection.org/image/b18417383_0075.jp2/full/1338,1662/0/default.jpg',\n",
       " 'https://iiif.wellcomecollection.org/image/b12946308_hin-wel-all-00001677_0013.jp2/full/1022,1024/0/default.jpg',\n",
       " 'https://iiif.wellcomecollection.org/image/b19237005_0343.jp2/full/1338,1600/0/default.jpg',\n",
       " 'https://iiif.wellcomecollection.org/image/b32274683_0098.jp2/full/1338,1505/0/default.jpg',\n",
       " 'https://iiif.wellcomecollection.org/image/b18932551_0098.jp2/full/1338,1656/0/default.jpg',\n",
       " 'https://iiif.wellcomecollection.org/image/b33507855_0001.jp2/full/1338,1166/0/default.jpg',\n",
       " 'https://iiif.wellcomecollection.org/image/b11058286_0932.jp2/full/4020,5480/0/default.jpg',\n",
       " 'https://iiif.wellcomecollection.org/image/b19152620_MS_5850_0062.jp2/full/1011,1024/0/default.jpg',\n",
       " 'https://iiif.wellcomecollection.org/image/b32274555_0073.jp2/full/1338,1979/0/default.jpg',\n",
       " 'https://iiif.wellcomecollection.org/image/b18832283_MS_7921_0020.jp2/full/984,1024/0/default.jpg',\n",
       " 'https://iiif.wellcomecollection.org/image/b18531891_RAMC_1863_0034.jp2/full/1008,1024/0/default.jpg',\n",
       " 'https://iiif.wellcomecollection.org/image/b19237005_0277.jp2/full/1338,1649/0/default.jpg',\n",
       " 'https://iiif.wellcomecollection.org/image/b30540471_0468.jp2/full/1338,2196/0/default.jpg',\n",
       " 'https://iiif.wellcomecollection.org/image/b20297105_WMS_Arabic_440_0013.jp2/full/1000,1024/0/default.jpg',\n",
       " 'https://iiif.wellcomecollection.org/image/b16685453_l0052554.jp2/full/1024,1016/0/default.jpg',\n",
       " 'https://iiif.wellcomecollection.org/image/b19505061_0510.jp2/full/1338,1542/0/default.jpg',\n",
       " 'https://iiif.wellcomecollection.org/image/b32274750_0182.jp2/full/1338,2158/0/default.jpg',\n",
       " 'https://iiif.wellcomecollection.org/image/b1220190x_hin-wel-all-00000040_0159.jp2/full/1338,1815/0/default.jpg',\n",
       " 'https://iiif.wellcomecollection.org/image/b2022476x_penrose_2_24_6_2_1_0083.JP2/full/1338,1711/0/default.jpg',\n",
       " 'https://iiif.wellcomecollection.org/image/b30540471_0036.jp2/full/1338,2082/0/default.jpg',\n",
       " 'https://iiif.wellcomecollection.org/image/b28704630_0509.jp2/full/1338,2062/0/default.jpg',\n",
       " 'https://iiif.wellcomecollection.org/image/b32274750_0307.jp2/full/1338,1817/0/default.jpg',\n",
       " 'https://iiif.wellcomecollection.org/image/b32274658_0018.jp2/full/1338,1901/0/default.jpg',\n",
       " 'https://iiif.wellcomecollection.org/image/b24940215_RET_3_3_2_2_1184.jp2/full/981,1024/0/default.jpg',\n",
       " 'https://iiif.wellcomecollection.org/image/b32274774_0092.jp2/full/1338,1808/0/default.jpg',\n",
       " 'https://iiif.wellcomecollection.org/image/b28704733_0594.jp2/full/1338,2329/0/default.jpg',\n",
       " 'https://iiif.wellcomecollection.org/image/b19505061_0488.jp2/full/1338,1558/0/default.jpg',\n",
       " 'https://iiif.wellcomecollection.org/image/b33533672_0080.jp2/full/1338,1844/0/default.jpg',\n",
       " 'https://iiif.wellcomecollection.org/image/b18123533_0081.jp2/full/1338,1723/0/default.jpg',\n",
       " 'https://iiif.wellcomecollection.org/image/b32274555_0110.jp2/full/1338,1873/0/default.jpg',\n",
       " 'https://iiif.wellcomecollection.org/image/b19287355_0151.jp2/full/1338,1613/0/default.jpg',\n",
       " 'https://iiif.wellcomecollection.org/image/b28704733_0293.jp2/full/1338,2338/0/default.jpg',\n",
       " 'https://iiif.wellcomecollection.org/image/b19676736_0297.jp2/full/1338,1717/0/default.jpg',\n",
       " 'https://iiif.wellcomecollection.org/image/b31685729_0013.jp2/full/1338,1731/0/default.jpg',\n",
       " 'https://iiif.wellcomecollection.org/image/b18576795_0267.jp2/full/1338,1950/0/default.jpg',\n",
       " 'https://iiif.wellcomecollection.org/image/b33418172_0016.jp2/full/1338,1880/0/default.jpg',\n",
       " 'https://iiif.wellcomecollection.org/image/b24940215_RET_3_3_2_2_1857.jp2/full/978,1024/0/default.jpg',\n",
       " 'https://iiif.wellcomecollection.org/image/b2022476x_penrose_2_24_6_2_1_0016.JP2/full/1338,1752/0/default.jpg',\n",
       " 'https://iiif.wellcomecollection.org/image/b32274658_0146.jp2/full/1338,1734/0/default.jpg',\n",
       " 'https://iiif.wellcomecollection.org/image/b33342283_0002.jp2/full/1338,2213/0/default.jpg',\n",
       " 'https://iiif.wellcomecollection.org/image/b28704940_0806.jp2/full/1338,1460/0/default.jpg',\n",
       " 'https://iiif.wellcomecollection.org/image/b32274634_0069.jp2/full/1338,1815/0/default.jpg',\n",
       " 'https://iiif.wellcomecollection.org/image/b18576795_0772.jp2/full/1338,1923/0/default.jpg',\n",
       " 'https://iiif.wellcomecollection.org/image/b19676736_0025.jp2/full/1338,1972/0/default.jpg',\n",
       " 'https://iiif.wellcomecollection.org/image/b19676736_0145.jp2/full/1338,1798/0/default.jpg',\n",
       " 'https://iiif.wellcomecollection.org/image/b28705804_0107.jp2/full/1338,2113/0/default.jpg',\n",
       " 'https://iiif.wellcomecollection.org/image/b32274750_0132.jp2/full/1338,2017/0/default.jpg',\n",
       " 'https://iiif.wellcomecollection.org/image/b19237005_0373.jp2/full/1338,1617/0/default.jpg',\n",
       " 'https://iiif.wellcomecollection.org/image/b31854394_0016.jp2/full/989,1024/0/default.jpg',\n",
       " 'https://iiif.wellcomecollection.org/image/b18576795_0271.jp2/full/1338,1961/0/default.jpg',\n",
       " 'https://iiif.wellcomecollection.org/image/b3337224x_0001.jp2/full/1338,2153/0/default.jpg',\n",
       " 'https://iiif.wellcomecollection.org/image/b24954809_RET_6_19_1_147_1268.jp2/full/1024,1008/0/default.jpg',\n",
       " 'https://iiif.wellcomecollection.org/image/b28705786_1002.jp2/full/1338,1697/0/default.jpg',\n",
       " 'https://iiif.wellcomecollection.org/image/b14846275_0027.jp2/full/1338,1927/0/default.jpg',\n",
       " 'https://iiif.wellcomecollection.org/image/b20129075_kdbp_1_3_030_2.JP2/full/1020,1024/0/default.jpg',\n",
       " 'https://iiif.wellcomecollection.org/image/b19108801_0106.jp2/full/1338,1590/0/default.jpg',\n",
       " 'https://iiif.wellcomecollection.org/image/b11641824_0001.jp2/full/1338,1813/0/default.jpg',\n",
       " 'https://iiif.wellcomecollection.org/image/b33000256_0097.jp2/full/1024,983/0/default.jpg',\n",
       " 'https://iiif.wellcomecollection.org/image/b32274750_0170.jp2/full/1338,2159/0/default.jpg',\n",
       " 'https://iiif.wellcomecollection.org/image/b28704940_0909.jp2/full/1338,1607/0/default.jpg',\n",
       " 'https://iiif.wellcomecollection.org/image/b33377625_0001.jp2/full/1338,2153/0/default.jpg',\n",
       " 'https://iiif.wellcomecollection.org/image/b18576795_0859.jp2/full/1338,1924/0/default.jpg',\n",
       " 'https://iiif.wellcomecollection.org/image/b18576795_0066.jp2/full/1338,2066/0/default.jpg',\n",
       " 'https://iiif.wellcomecollection.org/image/b33537525_0503.jp2/full/1338,2001/0/default.jpg',\n",
       " 'https://iiif.wellcomecollection.org/image/b14827712_0057.jp2/full/1338,1787/0/default.jpg',\n",
       " 'https://iiif.wellcomecollection.org/image/b28705774_0058.jp2/full/1338,2107/0/default.jpg',\n",
       " 'https://iiif.wellcomecollection.org/image/b19237005_0281.jp2/full/1338,1043/0/default.jpg',\n",
       " 'https://iiif.wellcomecollection.org/image/b19541818_0258.jp2/full/1338,1960/0/default.jpg',\n",
       " 'https://iiif.wellcomecollection.org/image/b28705786_0323.jp2/full/1338,1626/0/default.jpg',\n",
       " 'https://iiif.wellcomecollection.org/image/b14827712_0033.jp2/full/1338,1816/0/default.jpg',\n",
       " 'https://iiif.wellcomecollection.org/image/b19696589_ramc_474_52_0294.JP2/full/1024,988/0/default.jpg',\n",
       " 'https://iiif.wellcomecollection.org/image/b18418272_0036.jp2/full/1338,1585/0/default.jpg',\n",
       " 'https://iiif.wellcomecollection.org/image/b32274750_0134.jp2/full/1338,2159/0/default.jpg',\n",
       " 'https://iiif.wellcomecollection.org/image/b28705804_0339.jp2/full/1338,2144/0/default.jpg',\n",
       " 'https://iiif.wellcomecollection.org/image/b18729794_0419.jp2/full/1338,1791/0/default.jpg',\n",
       " 'https://iiif.wellcomecollection.org/image/b28705038_0093.jp2/full/1338,2116/0/default.jpg',\n",
       " 'https://iiif.wellcomecollection.org/image/b1220190x_hin-wel-all-00000040_0246.jp2/full/1338,1861/0/default.jpg',\n",
       " 'https://iiif.wellcomecollection.org/image/b28705427_0421.jp2/full/1338,2225/0/default.jpg',\n",
       " 'https://iiif.wellcomecollection.org/image/b18380141_0050.jp2/full/1338,2114/0/default.jpg',\n",
       " 'https://iiif.wellcomecollection.org/image/b32274555_0446.jp2/full/1338,1863/0/default.jpg',\n",
       " 'https://iiif.wellcomecollection.org/image/b24963057_RET_3_3_2_14_0697.jp2/full/1024,980/0/default.jpg',\n",
       " 'https://iiif.wellcomecollection.org/image/b19191728_0165.jp2/full/1338,1675/0/default.jpg',\n",
       " 'https://iiif.wellcomecollection.org/image/b33239411_0001.jp2/full/1338,1823/0/default.jpg',\n",
       " 'https://iiif.wellcomecollection.org/image/b18758897_0039.jp2/full/1338,1725/0/default.jpg',\n",
       " 'https://iiif.wellcomecollection.org/image/b22654136_DGH1_5_1_1_15_0028.JP2/full/980,1024/0/default.jpg',\n",
       " 'https://iiif.wellcomecollection.org/image/b19177112_0049.jp2/full/1338,2305/0/default.jpg',\n",
       " 'https://iiif.wellcomecollection.org/image/b28704630_0430.jp2/full/1338,1932/0/default.jpg',\n",
       " 'https://iiif.wellcomecollection.org/image/b32274774_0045.jp2/full/1338,1748/0/default.jpg',\n",
       " 'https://iiif.wellcomecollection.org/image/b11148366_hin-wel-all-00003449_0299.jp2/full/1021,1024/0/default.jpg',\n",
       " 'https://iiif.wellcomecollection.org/image/b28705786_0742.jp2/full/1338,1661/0/default.jpg',\n",
       " 'https://iiif.wellcomecollection.org/image/b14846275_0356.jp2/full/1338,2091/0/default.jpg',\n",
       " 'https://iiif.wellcomecollection.org/image/b30540471_0415.jp2/full/1338,2089/0/default.jpg',\n",
       " 'https://iiif.wellcomecollection.org/image/b28704733_0311.jp2/full/1338,2474/0/default.jpg',\n",
       " 'https://iiif.wellcomecollection.org/image/b28976794_0354.jp2/full/1338,1704/0/default.jpg',\n",
       " 'https://iiif.wellcomecollection.org/image/b33068690_0087.jp2/full/1338,1765/0/default.jpg',\n",
       " 'https://iiif.wellcomecollection.org/image/b3168578x_0029.jp2/full/1338,1668/0/default.jpg',\n",
       " 'https://iiif.wellcomecollection.org/image/b18123533_0028.jp2/full/1338,1837/0/default.jpg',\n",
       " 'https://iiif.wellcomecollection.org/image/b28704733_0748.jp2/full/1338,2314/0/default.jpg',\n",
       " 'https://iiif.wellcomecollection.org/image/b32274683_0022.jp2/full/1338,1604/0/default.jpg',\n",
       " 'https://iiif.wellcomecollection.org/image/b28704630_0415.jp2/full/1338,2014/0/default.jpg',\n",
       " 'https://iiif.wellcomecollection.org/image/b28705038_0190.jp2/full/1338,1986/0/default.jpg',\n",
       " 'https://iiif.wellcomecollection.org/image/b28668121_0003.jp2/full/1024,1011/0/default.jpg',\n",
       " 'https://iiif.wellcomecollection.org/image/b20633440_galton_2_9_6_5_2_2_0001.JP2/full/1024,988/0/default.jpg',\n",
       " 'https://iiif.wellcomecollection.org/image/b32274774_0170.jp2/full/1338,1820/0/default.jpg',\n",
       " 'https://iiif.wellcomecollection.org/image/b20387878_0023.jp2/full/1338,1753/0/default.jpg',\n",
       " 'https://iiif.wellcomecollection.org/image/b28705427_0362.jp2/full/1338,2154/0/default.jpg',\n",
       " 'https://iiif.wellcomecollection.org/image/b10916180_hin-wel-all-00012288_0082.jp2/full/1017,1024/0/default.jpg',\n",
       " 'https://iiif.wellcomecollection.org/image/b12821457_hin-wel-all-00012567_0053.jp2/full/1006,1024/0/default.jpg',\n",
       " 'https://iiif.wellcomecollection.org/image/b32274580_0034.jp2/full/1338,1772/0/default.jpg',\n",
       " 'https://iiif.wellcomecollection.org/image/b32274622_0001.jp2/full/1338,1740/0/default.jpg',\n",
       " 'https://iiif.wellcomecollection.org/image/b28705786_0979.jp2/full/1338,1667/0/default.jpg',\n",
       " 'https://iiif.wellcomecollection.org/image/b18438374_ms_6722_0006.JP2/full/1001,1024/0/default.jpg',\n",
       " 'https://iiif.wellcomecollection.org/image/b11058286_0080.jp2/full/3684,5348/0/default.jpg',\n",
       " 'https://iiif.wellcomecollection.org/image/b28705786_0296.jp2/full/1338,1629/0/default.jpg',\n",
       " 'https://iiif.wellcomecollection.org/image/b31854424_0023.jp2/full/1019,1024/0/default.jpg',\n",
       " 'https://iiif.wellcomecollection.org/image/b24945948_RET_3_3_1_26_0036.jp2/full/1024,998/0/default.jpg',\n",
       " 'https://iiif.wellcomecollection.org/image/b18380141_0031.jp2/full/1338,2117/0/default.jpg',\n",
       " 'https://iiif.wellcomecollection.org/image/b28705646_0204.jp2/full/1338,2250/0/default.jpg',\n",
       " 'https://iiif.wellcomecollection.org/image/b20129075_kdbp_1_3_028.JP2/full/1020,1024/0/default.jpg',\n",
       " 'https://iiif.wellcomecollection.org/image/b24936650_RET_3_3_1_9_0016.jp2/full/1024,979/0/default.jpg',\n",
       " 'https://iiif.wellcomecollection.org/image/b11058286_0989.jp2/full/3632,5372/0/default.jpg',\n",
       " 'https://iiif.wellcomecollection.org/image/b28704733_0537.jp2/full/1338,2392/0/default.jpg',\n",
       " 'https://iiif.wellcomecollection.org/image/b18693441_0577.jp2/full/1338,1990/0/default.jpg',\n",
       " 'https://iiif.wellcomecollection.org/image/b32274774_0003.jp2/full/1338,1732/0/default.jpg',\n",
       " 'https://iiif.wellcomecollection.org/image/b28704940_0850.jp2/full/1338,1475/0/default.jpg',\n",
       " 'https://iiif.wellcomecollection.org/image/b19742083_0471.jp2/full/982,1024/0/default.jpg',\n",
       " 'https://iiif.wellcomecollection.org/image/b19576523_0112.jp2/full/1338,1549/0/default.jpg',\n",
       " 'https://iiif.wellcomecollection.org/image/b24946448_RET_3_3_2_11_0095.jp2/full/1024,985/0/default.jpg',\n",
       " 'https://iiif.wellcomecollection.org/image/b24946448_RET_3_3_2_11_0803.jp2/full/1024,988/0/default.jpg',\n",
       " 'https://iiif.wellcomecollection.org/image/b28642491_0001.jp2/full/1024,1004/0/default.jpg',\n",
       " 'https://iiif.wellcomecollection.org/image/b16447633_0002.jp2/full/990,1024/0/default.jpg',\n",
       " 'https://iiif.wellcomecollection.org/image/b19237005_0519.jp2/full/1338,1584/0/default.jpg',\n",
       " 'https://iiif.wellcomecollection.org/image/b30540471_0091.jp2/full/1338,2059/0/default.jpg',\n",
       " 'https://iiif.wellcomecollection.org/image/b19505061_0095.jp2/full/1338,1626/0/default.jpg',\n",
       " 'https://iiif.wellcomecollection.org/image/b33238686_0001.jp2/full/1338,1703/0/default.jpg',\n",
       " 'https://iiif.wellcomecollection.org/image/b32274750_0269.jp2/full/1338,1833/0/default.jpg',\n",
       " 'https://iiif.wellcomecollection.org/image/b28705889_0181.jp2/full/1338,1914/0/default.jpg',\n",
       " 'https://iiif.wellcomecollection.org/image/b28705427_0221.jp2/full/1338,2286/0/default.jpg',\n",
       " 'https://iiif.wellcomecollection.org/image/b3168581x_0061.jp2/full/1338,1648/0/default.jpg',\n",
       " 'https://iiif.wellcomecollection.org/image/b28705786_0112.jp2/full/1338,860/0/default.jpg',\n",
       " 'https://iiif.wellcomecollection.org/image/b32274658_0001.jp2/full/1338,1781/0/default.jpg',\n",
       " 'https://iiif.wellcomecollection.org/image/b19443262_0029.jp2/full/1338,1708/0/default.jpg',\n",
       " 'https://iiif.wellcomecollection.org/image/b33369707_0001.jp2/full/1338,1739/0/default.jpg',\n",
       " 'https://iiif.wellcomecollection.org/image/b31685730_0039.jp2/full/1338,1759/0/default.jpg',\n",
       " 'https://iiif.wellcomecollection.org/image/b32274750_0168.jp2/full/1338,2172/0/default.jpg',\n",
       " 'https://iiif.wellcomecollection.org/image/b19541818_0128.jp2/full/1338,2014/0/default.jpg',\n",
       " 'https://iiif.wellcomecollection.org/image/b32274786_0083.jp2/full/1338,2019/0/default.jpg',\n",
       " 'https://iiif.wellcomecollection.org/image/b32274750_0320.jp2/full/1338,1777/0/default.jpg',\n",
       " 'https://iiif.wellcomecollection.org/image/b33516005_0001.jp2/full/1338,1118/0/default.jpg',\n",
       " 'https://iiif.wellcomecollection.org/image/b33249854_0001.jp2/full/1338,983/0/default.jpg',\n",
       " 'https://iiif.wellcomecollection.org/image/b28705038_0071.jp2/full/1338,2115/0/default.jpg',\n",
       " 'https://iiif.wellcomecollection.org/image/b18123533_0313.jp2/full/1338,1784/0/default.jpg',\n",
       " 'https://iiif.wellcomecollection.org/image/b33245563_0001.jp2/full/1338,946/0/default.jpg',\n",
       " 'https://iiif.wellcomecollection.org/image/b18758897_0171.jp2/full/1338,1846/0/default.jpg',\n",
       " 'https://iiif.wellcomecollection.org/image/b32274750_0304.jp2/full/1338,2093/0/default.jpg',\n",
       " 'https://iiif.wellcomecollection.org/image/b31685791_0053.jp2/full/1338,1683/0/default.jpg',\n",
       " 'https://iiif.wellcomecollection.org/image/b28976794_0243.jp2/full/1338,1640/0/default.jpg',\n",
       " 'https://iiif.wellcomecollection.org/image/b19505061_0690.jp2/full/1338,2930/0/default.jpg',\n",
       " 'https://iiif.wellcomecollection.org/image/b30452922_0001.jp2/full/1338,1787/0/default.jpg',\n",
       " 'https://iiif.wellcomecollection.org/image/b2265415x_DGH1_5_1_1_17_0002.JP2/full/1009,1024/0/default.jpg',\n",
       " 'https://iiif.wellcomecollection.org/image/b18693441_0145.jp2/full/1338,1969/0/default.jpg',\n",
       " 'https://iiif.wellcomecollection.org/image/b18576795_0220.jp2/full/1338,2080/0/default.jpg',\n",
       " 'https://iiif.wellcomecollection.org/image/b11534096_hin-wel-all-00012421_0005.jp2/full/985,1024/0/default.jpg',\n",
       " 'https://iiif.wellcomecollection.org/image/b18576795_0688.jp2/full/1338,1973/0/default.jpg',\n",
       " 'https://iiif.wellcomecollection.org/image/b32274695_0061.jp2/full/420,4550/0/default.jpg',\n",
       " 'https://iiif.wellcomecollection.org/image/b33537525_0367.jp2/full/1338,2028/0/default.jpg',\n",
       " 'https://iiif.wellcomecollection.org/image/b32274683_0062.jp2/full/1338,1516/0/default.jpg',\n",
       " 'https://iiif.wellcomecollection.org/image/b19505061_0046.jp2/full/1338,1863/0/default.jpg',\n",
       " 'https://iiif.wellcomecollection.org/image/b28976794_0169.jp2/full/1338,1640/0/default.jpg',\n",
       " 'https://iiif.wellcomecollection.org/image/b33533672_0007.jp2/full/1338,1733/0/default.jpg',\n",
       " 'https://iiif.wellcomecollection.org/image/b32274750_0175.jp2/full/1338,1969/0/default.jpg',\n",
       " 'https://iiif.wellcomecollection.org/image/b14876425_0040.jp2/full/1024,992/0/default.jpg',\n",
       " 'https://iiif.wellcomecollection.org/image/b28705427_0350.jp2/full/1338,2154/0/default.jpg',\n",
       " 'https://iiif.wellcomecollection.org/image/b32274695_0030.jp2/full/1338,1763/0/default.jpg',\n",
       " 'https://iiif.wellcomecollection.org/image/b14872122_0162.jp2/full/1338,1003/0/default.jpg',\n",
       " 'https://iiif.wellcomecollection.org/image/b28704630_0525.jp2/full/1338,2062/0/default.jpg',\n",
       " 'https://iiif.wellcomecollection.org/image/b28704733_0548.jp2/full/1338,2309/0/default.jpg',\n",
       " 'https://iiif.wellcomecollection.org/image/b32274750_0345.jp2/full/1338,2187/0/default.jpg',\n",
       " 'https://iiif.wellcomecollection.org/image/b1220190x_hin-wel-all-00000040_0089.jp2/full/1338,1852/0/default.jpg',\n",
       " 'https://iiif.wellcomecollection.org/image/b28704733_0399.jp2/full/1338,2440/0/default.jpg',\n",
       " 'https://iiif.wellcomecollection.org/image/b32274658_0130.jp2/full/1338,1754/0/default.jpg',\n",
       " 'https://iiif.wellcomecollection.org/image/b31685717_0034.jp2/full/1338,1730/0/default.jpg',\n",
       " 'https://iiif.wellcomecollection.org/image/b18932034_0178.jp2/full/1338,1860/0/default.jpg',\n",
       " 'https://iiif.wellcomecollection.org/image/b28705889_0330.jp2/full/1338,1844/0/default.jpg',\n",
       " 'https://iiif.wellcomecollection.org/image/b33375392_0001.jp2/full/1338,1780/0/default.jpg',\n",
       " 'https://iiif.wellcomecollection.org/image/b20387878_0132.jp2/full/1338,1781/0/default.jpg',\n",
       " 'https://iiif.wellcomecollection.org/image/b32274737_0004.jp2/full/1338,2620/0/default.jpg',\n",
       " 'https://iiif.wellcomecollection.org/image/b28705038_0283.jp2/full/1338,2115/0/default.jpg',\n",
       " 'https://iiif.wellcomecollection.org/image/b2265415x_DGH1_5_1_1_17_0074.JP2/full/1018,1024/0/default.jpg',\n",
       " 'https://iiif.wellcomecollection.org/image/b14565377_0004.jp2/full/1024,1011/0/default.jpg',\n",
       " 'https://iiif.wellcomecollection.org/image/b28705804_0084.jp2/full/1338,2198/0/default.jpg',\n",
       " 'https://iiif.wellcomecollection.org/image/b14827931_0043.jp2/full/1338,1824/0/default.jpg',\n",
       " 'https://iiif.wellcomecollection.org/image/b20387878_0016.jp2/full/1338,1785/0/default.jpg',\n",
       " 'https://iiif.wellcomecollection.org/image/b18896042_MS_2799_0244.JP2/full/995,1024/0/default.jpg',\n",
       " 'https://iiif.wellcomecollection.org/image/b24940069_RET_3_3_2_4_1438.jp2/full/1024,979/0/default.jpg',\n",
       " 'https://iiif.wellcomecollection.org/image/b32274750_0279.jp2/full/1338,2052/0/default.jpg',\n",
       " 'https://iiif.wellcomecollection.org/image/b20616922_galton_1_4_15_3_0019.JP2/full/1024,1018/0/default.jpg',\n",
       " 'https://iiif.wellcomecollection.org/image/b32274580_0019.jp2/full/1338,1816/0/default.jpg',\n",
       " 'https://iiif.wellcomecollection.org/image/b19608718_0034.jp2/full/1338,1874/0/default.jpg',\n",
       " 'https://iiif.wellcomecollection.org/image/b14560999_0110.jp2/full/981,1024/0/default.jpg',\n",
       " 'https://iiif.wellcomecollection.org/image/b14827608_0022.jp2/full/1338,1822/0/default.jpg',\n",
       " 'https://iiif.wellcomecollection.org/image/b32274750_0165.jp2/full/1338,2003/0/default.jpg',\n",
       " 'https://iiif.wellcomecollection.org/image/b28705889_0218.jp2/full/1338,1844/0/default.jpg',\n",
       " 'https://iiif.wellcomecollection.org/image/b32274658_0051.jp2/full/1338,1744/0/default.jpg',\n",
       " 'https://iiif.wellcomecollection.org/image/b28704630_0566.jp2/full/1338,1920/0/default.jpg',\n",
       " 'https://iiif.wellcomecollection.org/image/b32274750_0053.jp2/full/1338,2248/0/default.jpg',\n",
       " 'https://iiif.wellcomecollection.org/image/b19108801_0100.jp2/full/1338,1592/0/default.jpg',\n",
       " 'https://iiif.wellcomecollection.org/image/b10916180_hin-wel-all-00012288_0195.jp2/full/988,1024/0/default.jpg',\n",
       " 'https://iiif.wellcomecollection.org/image/b19505061_0063.jp2/full/1338,1749/0/default.jpg',\n",
       " 'https://iiif.wellcomecollection.org/image/b3324960x_0001.jp2/full/1338,1059/0/default.jpg',\n",
       " 'https://iiif.wellcomecollection.org/image/b14871749_0097.jp2/full/1338,930/0/default.jpg',\n",
       " 'https://iiif.wellcomecollection.org/image/b32274592_0095.jp2/full/1338,1926/0/default.jpg',\n",
       " 'https://iiif.wellcomecollection.org/image/b29277206_RET_6_20_1_8_63_0114.jp2/full/977,1024/0/default.jpg',\n",
       " 'https://iiif.wellcomecollection.org/image/b14846275_0376.jp2/full/1338,2075/0/default.jpg',\n",
       " 'https://iiif.wellcomecollection.org/image/b18576795_0895.jp2/full/1338,1977/0/default.jpg',\n",
       " 'https://iiif.wellcomecollection.org/image/b18932034_0072.jp2/full/1338,1893/0/default.jpg',\n",
       " 'https://iiif.wellcomecollection.org/image/b28705786_0414.jp2/full/1338,1575/0/default.jpg',\n",
       " 'https://iiif.wellcomecollection.org/image/b18896042_MS_2799_0188.JP2/full/986,1024/0/default.jpg',\n",
       " 'https://iiif.wellcomecollection.org/image/b19096550_0041.jp2/full/1338,1884/0/default.jpg',\n",
       " 'https://iiif.wellcomecollection.org/image/b28705889_0099.jp2/full/1338,1914/0/default.jpg',\n",
       " 'https://iiif.wellcomecollection.org/image/b28705804_0412.jp2/full/1338,2004/0/default.jpg',\n",
       " 'https://iiif.wellcomecollection.org/image/b21899769_ret_1_1_5_15_0143.JP2/full/999,1024/0/default.jpg',\n",
       " 'https://iiif.wellcomecollection.org/image/b2022476x_penrose_2_24_6_2_1_0102.JP2/full/1338,1710/0/default.jpg',\n",
       " 'https://iiif.wellcomecollection.org/image/b30540471_0106.jp2/full/1338,2045/0/default.jpg',\n",
       " 'https://iiif.wellcomecollection.org/image/b28705038_0208.jp2/full/1338,1986/0/default.jpg',\n",
       " 'https://iiif.wellcomecollection.org/image/b28704733_0709.jp2/full/1338,2379/0/default.jpg',\n",
       " 'https://iiif.wellcomecollection.org/image/b28976794_0026.jp2/full/1338,1685/0/default.jpg',\n",
       " 'https://iiif.wellcomecollection.org/image/b19191728_0041.jp2/full/1338,1637/0/default.jpg',\n",
       " 'https://iiif.wellcomecollection.org/image/b31685717_0023.jp2/full/1338,1742/0/default.jpg',\n",
       " 'https://iiif.wellcomecollection.org/image/b18576795_0596.jp2/full/1338,2037/0/default.jpg',\n",
       " 'https://iiif.wellcomecollection.org/image/b33585489_0286.jp2/full/1338,2372/0/default.jpg',\n",
       " 'https://iiif.wellcomecollection.org/image/b19505061_0594.jp2/full/1338,1644/0/default.jpg',\n",
       " 'https://iiif.wellcomecollection.org/image/b2493625x_RET_3_3_2_16_1462.jp2/full/992,1024/0/default.jpg',\n",
       " 'https://iiif.wellcomecollection.org/image/b31854345_0033.jp2/full/1010,1024/0/default.jpg',\n",
       " 'https://iiif.wellcomecollection.org/image/b33537525_0407.jp2/full/1338,2043/0/default.jpg',\n",
       " 'https://iiif.wellcomecollection.org/image/b18693441_0401.jp2/full/1338,2113/0/default.jpg',\n",
       " 'https://iiif.wellcomecollection.org/image/b33585489_0009.jp2/full/1338,2060/0/default.jpg',\n",
       " 'https://iiif.wellcomecollection.org/image/b18508078_RAMC_1091_2_9_0155.jp2/full/1024,1007/0/default.jpg',\n",
       " 'https://iiif.wellcomecollection.org/image/b33381276_0001.jp2/full/1338,1854/0/default.jpg',\n",
       " 'https://iiif.wellcomecollection.org/image/b31685717_0004.jp2/full/1338,1738/0/default.jpg',\n",
       " 'https://iiif.wellcomecollection.org/image/b20224990_penrose_2_24_6_5_7_0001.JP2/full/1338,2090/0/default.jpg',\n",
       " 'https://iiif.wellcomecollection.org/image/b33537525_0338.jp2/full/1338,2077/0/default.jpg',\n",
       " 'https://iiif.wellcomecollection.org/image/b32274610_0040.jp2/full/1338,1795/0/default.jpg',\n",
       " 'https://iiif.wellcomecollection.org/image/b18693441_0005.jp2/full/1338,2028/0/default.jpg',\n",
       " 'https://iiif.wellcomecollection.org/image/b32274695_0068.jp2/full/1338,1784/0/default.jpg',\n",
       " 'https://iiif.wellcomecollection.org/image/b24954809_RET_6_19_1_147_1269.jp2/full/1024,1019/0/default.jpg',\n",
       " 'https://iiif.wellcomecollection.org/image/b18896042_MS_2799_0364.JP2/full/991,1024/0/default.jpg',\n",
       " 'https://iiif.wellcomecollection.org/image/b28704940_0279.jp2/full/1338,1541/0/default.jpg',\n",
       " 'https://iiif.wellcomecollection.org/image/b33505056_0001.jp2/full/1338,1187/0/default.jpg',\n",
       " 'https://iiif.wellcomecollection.org/image/b19287355_0099.jp2/full/1338,1629/0/default.jpg',\n",
       " 'https://iiif.wellcomecollection.org/image/b18710542_ms_6719_0005.JP2/full/1024,985/0/default.jpg',\n",
       " 'https://iiif.wellcomecollection.org/image/b30540471_0342.jp2/full/1338,1991/0/default.jpg',\n",
       " 'https://iiif.wellcomecollection.org/image/b32274555_0191.jp2/full/1338,1958/0/default.jpg',\n",
       " 'https://iiif.wellcomecollection.org/image/b11058286_0753.jp2/full/3704,5384/0/default.jpg',\n",
       " 'https://iiif.wellcomecollection.org/image/b19287355_0166.jp2/full/1338,1682/0/default.jpg',\n",
       " 'https://iiif.wellcomecollection.org/image/b28705786_0405.jp2/full/1338,1575/0/default.jpg',\n",
       " 'https://iiif.wellcomecollection.org/image/b18417383_0079.jp2/full/1338,1657/0/default.jpg',\n",
       " 'https://iiif.wellcomecollection.org/image/b3323663x_0001.jp2/full/1338,2131/0/default.jpg',\n",
       " 'https://iiif.wellcomecollection.org/image/b32274555_0399.jp2/full/1338,1927/0/default.jpg',\n",
       " 'https://iiif.wellcomecollection.org/image/b19505061_0353.jp2/full/1338,1647/0/default.jpg',\n",
       " 'https://iiif.wellcomecollection.org/image/b28705889_0259.jp2/full/1338,1914/0/default.jpg',\n",
       " 'https://iiif.wellcomecollection.org/image/b32274683_0103.jp2/full/1338,1671/0/default.jpg',\n",
       " 'https://iiif.wellcomecollection.org/image/b19287355_0050.jp2/full/1338,1652/0/default.jpg',\n",
       " 'https://iiif.wellcomecollection.org/image/b33378599_0001.jp2/full/1338,1157/0/default.jpg',\n",
       " 'https://iiif.wellcomecollection.org/image/b20387878_0075.jp2/full/1338,1778/0/default.jpg',\n",
       " 'https://iiif.wellcomecollection.org/image/b2022476x_penrose_2_24_6_2_5_0002.JP2/full/1338,2049/0/default.jpg',\n",
       " 'https://iiif.wellcomecollection.org/image/b28705804_0233.jp2/full/1338,2152/0/default.jpg',\n",
       " 'https://iiif.wellcomecollection.org/image/b19541818_0135.jp2/full/1338,2063/0/default.jpg',\n",
       " 'https://iiif.wellcomecollection.org/image/b32274580_0041.jp2/full/1338,1797/0/default.jpg',\n",
       " 'https://iiif.wellcomecollection.org/image/b20614548_galton_02_08_01_13_08_0011.JP2/full/1006,1024/0/default.jpg',\n",
       " 'https://iiif.wellcomecollection.org/image/b28705269_0102.jp2/full/1338,1805/0/default.jpg',\n",
       " 'https://iiif.wellcomecollection.org/image/b28705427_0330.jp2/full/1338,2154/0/default.jpg',\n",
       " 'https://iiif.wellcomecollection.org/image/b33377492_0001.jp2/full/1338,1541/0/default.jpg',\n",
       " 'https://iiif.wellcomecollection.org/image/b24946448_RET_3_3_2_11_0310.jp2/full/1024,987/0/default.jpg',\n",
       " 'https://iiif.wellcomecollection.org/image/b19575397_0095.jp2/full/1338,2021/0/default.jpg',\n",
       " 'https://iiif.wellcomecollection.org/image/b32892354_0497.JP2/full/997,1024/0/default.jpg',\n",
       " 'https://iiif.wellcomecollection.org/image/b28704733_0291.jp2/full/1338,2338/0/default.jpg',\n",
       " 'https://iiif.wellcomecollection.org/image/b32274683_0079.jp2/full/1338,1651/0/default.jpg',\n",
       " 'https://iiif.wellcomecollection.org/image/b18306019_WA_HMM_CO_Ear_937_0007.jp2/full/1024,979/0/default.jpg',\n",
       " 'https://iiif.wellcomecollection.org/image/b20387878_0085.jp2/full/1338,1747/0/default.jpg',\n",
       " 'https://iiif.wellcomecollection.org/image/b33537525_0828.jp2/full/1338,1980/0/default.jpg',\n",
       " 'https://iiif.wellcomecollection.org/image/b22654896_DGH1_5_1_1_19_0018.JP2/full/991,1024/0/default.jpg',\n",
       " 'https://iiif.wellcomecollection.org/image/b28704630_0334.jp2/full/1338,1932/0/default.jpg',\n",
       " 'https://iiif.wellcomecollection.org/image/b28705786_0299.jp2/full/1338,1625/0/default.jpg',\n",
       " 'https://iiif.wellcomecollection.org/image/b19287355_0144.jp2/full/1338,1665/0/default.jpg',\n",
       " 'https://iiif.wellcomecollection.org/image/b28704733_0603.jp2/full/1338,2410/0/default.jpg',\n",
       " 'https://iiif.wellcomecollection.org/image/b33374120_0001.jp2/full/1338,1323/0/default.jpg',\n",
       " 'https://iiif.wellcomecollection.org/image/b32274737_0007.jp2/full/1338,2079/0/default.jpg',\n",
       " 'https://iiif.wellcomecollection.org/image/b28704940_0223.jp2/full/1338,1540/0/default.jpg',\n",
       " 'https://iiif.wellcomecollection.org/image/b19505061_0525.jp2/full/1338,1749/0/default.jpg',\n",
       " 'https://iiif.wellcomecollection.org/image/b28705579_0034.jp2/full/1338,850/0/default.jpg',\n",
       " 'https://iiif.wellcomecollection.org/image/b32274750_0112.jp2/full/1338,2155/0/default.jpg',\n",
       " 'https://iiif.wellcomecollection.org/image/b19012676_0283.jp2/full/1338,1845/0/default.jpg',\n",
       " 'https://iiif.wellcomecollection.org/image/b28705853_0028.jp2/full/1338,2280/0/default.jpg',\n",
       " 'https://iiif.wellcomecollection.org/image/b19314164_0054.jp2/full/1338,1601/0/default.jpg',\n",
       " 'https://iiif.wellcomecollection.org/image/b19505061_0644.jp2/full/1338,1606/0/default.jpg',\n",
       " 'https://iiif.wellcomecollection.org/image/b22654860_DGH1_5_27_6_0030.JP2/full/1002,1024/0/default.jpg',\n",
       " 'https://iiif.wellcomecollection.org/image/b28705427_0267.jp2/full/1338,2286/0/default.jpg',\n",
       " 'https://iiif.wellcomecollection.org/image/b19311904_0113.jp2/full/1338,1815/0/default.jpg',\n",
       " 'https://iiif.wellcomecollection.org/image/b28705038_0123.jp2/full/1338,2116/0/default.jpg',\n",
       " 'https://iiif.wellcomecollection.org/image/b28705737_0051.jp2/full/1338,2064/0/default.jpg',\n",
       " 'https://iiif.wellcomecollection.org/image/b14827931_0039.jp2/full/1338,1829/0/default.jpg',\n",
       " 'https://iiif.wellcomecollection.org/image/b17287510_0001.jp2/full/1338,1804/0/default.jpg',\n",
       " 'https://iiif.wellcomecollection.org/image/b29279483_RET_6_20_1_16_44_0015.jp2/full/993,1024/0/default.jpg',\n",
       " 'https://iiif.wellcomecollection.org/image/b28705038_0091.jp2/full/1338,2116/0/default.jpg',\n",
       " 'https://iiif.wellcomecollection.org/image/b2265415x_DGH1_5_1_1_17_0004.JP2/full/997,1024/0/default.jpg',\n",
       " ...]"
      ]
     },
     "execution_count": 2,
     "metadata": {},
     "output_type": "execute_result"
    }
   ],
   "source": [
    "import pandas as pd\n",
    "\n",
    "df_image_indices = pd.read_parquet(\n",
    "    '../data/vlm_embed/iiif_no_text_embedding_index.parquet')\n",
    "df_image_indices = df_image_indices.set_index('row_index')\n",
    "df_image_indices['image_id'].to_list()"
   ]
  },
  {
   "cell_type": "code",
   "execution_count": null,
   "id": "30a956f7",
   "metadata": {},
   "outputs": [],
   "source": [
    "df_image_indices.to_json(\n",
    "    '../data/vlm_embed/iiif_no_text_embedding_index.parquet'.replace(\n",
    "        '.parquet', '.json'), orient='index')"
   ]
  },
  {
   "cell_type": "code",
   "execution_count": 12,
   "id": "f6b613a4",
   "metadata": {},
   "outputs": [
    {
     "data": {
      "text/plain": [
       "array(['https://iiif.wellcomecollection.org/image/b14755117_0076.jp2/full/1338,1353/0/default.jpg',\n",
       "       'https://iiif.wellcomecollection.org/image/b18758897_0179.jp2/full/1338,1856/0/default.jpg',\n",
       "       'https://iiif.wellcomecollection.org/image/b33249519_0001.jp2/full/1338,935/0/default.jpg',\n",
       "       ...,\n",
       "       'https://iiif.wellcomecollection.org/image/b18758897_0204.jp2/full/1338,1713/0/default.jpg',\n",
       "       'https://iiif.wellcomecollection.org/image/b18318162_0115.jp2/full/1338,1898/0/default.jpg',\n",
       "       'https://iiif.wellcomecollection.org/image/b2493625x_RET_3_3_2_16_0570.jp2/full/1024,1017/0/default.jpg'],\n",
       "      dtype=object)"
      ]
     },
     "execution_count": 12,
     "metadata": {},
     "output_type": "execute_result"
    }
   ],
   "source": [
    "# select the image indices for the subset\n",
    "subset_images = df_image_indices.loc[subset_idx].values\n",
    "subset_images = np.reshape(subset_images, (-1))\n",
    "subset_images"
   ]
  },
  {
   "cell_type": "code",
   "execution_count": 13,
   "id": "68a4158e",
   "metadata": {},
   "outputs": [
    {
     "data": {
      "text/plain": [
       "array([[ 9.394396  ,  7.2479796 ],\n",
       "       [ 1.9158536 ,  8.637921  ],\n",
       "       [-0.25186992, 10.690093  ],\n",
       "       ...,\n",
       "       [ 3.639392  ,  7.611991  ],\n",
       "       [ 0.04486572,  5.220537  ],\n",
       "       [-4.1493754 ,  7.1644235 ]], dtype=float32)"
      ]
     },
     "execution_count": 13,
     "metadata": {},
     "output_type": "execute_result"
    }
   ],
   "source": [
    "import umap\n",
    "import plotly.express as px\n",
    "\n",
    "centered = subset - subset.mean(axis=0)\n",
    "U, S, Vt = np.linalg.svd(centered, full_matrices=False)\n",
    "whitened = centered @ Vt.T / S\n",
    "\n",
    "# UMAP\n",
    "umap_model = umap.UMAP(n_neighbors=15, n_components=2, metric='euclidean')\n",
    "umap_2d_embeddings = umap_model.fit_transform(whitened)\n",
    "umap_2d_embeddings"
   ]
  },
  {
   "cell_type": "markdown",
   "id": "871df71e",
   "metadata": {},
   "source": [
    "# Plot with Images"
   ]
  },
  {
   "cell_type": "code",
   "execution_count": 15,
   "id": "4294ff2f",
   "metadata": {},
   "outputs": [],
   "source": [
    "from io import BytesIO\n",
    "from PIL import Image, ImageOps\n",
    "import base64\n",
    "import requests\n",
    "import requests_cache\n",
    "\n",
    "\n",
    "from concurrent.futures import ThreadPoolExecutor, as_completed\n",
    "\n",
    "# Optional: on-disk HTTP cache (pip install requests-cache) to avoid\n",
    "# re-downloading\n",
    "try:\n",
    "    session = requests_cache.CachedSession(\n",
    "        'img_cache',\n",
    "        backend='sqlite',\n",
    "        expire_after=7 * 24 * 3600,  # 7 days\n",
    "        allowable_methods=('GET',),\n",
    "        allowable_codes=(200,),\n",
    "    )\n",
    "except Exception:\n",
    "    session = requests.Session()\n",
    "\n",
    "\n",
    "def embeddable_jpeg(url, max_side=512, timeout=10):\n",
    "    \"\"\"Fetch JPEG at URL, scale longest side to max_side (keep aspect), return data:image/jpeg;base64,...\"\"\"\n",
    "    r = session.get(url, timeout=timeout, stream=True)\n",
    "    r.raise_for_status()\n",
    "\n",
    "    # Decode + correct EXIF orientation\n",
    "    img = Image.open(r.raw)\n",
    "    img = ImageOps.exif_transpose(img).convert(\"RGB\")\n",
    "\n",
    "    # Scale proportionally: longest side = max_side\n",
    "    w, h = img.size\n",
    "    scale = max_side / max(w, h) if max(w, h) > max_side else 1.0\n",
    "    if scale != 1.0:\n",
    "        img = img.resize((int(w * scale), int(h * scale)),\n",
    "                         Image.Resampling.LANCZOS)\n",
    "\n",
    "    # Encode JPEG efficiently (smaller payloads = faster base64 + render)\n",
    "    buf = BytesIO()\n",
    "    img.save(buf, format=\"JPEG\", quality=70, optimize=True, progressive=True)\n",
    "    return \"data:image/jpeg;base64,\" + \\\n",
    "        base64.b64encode(buf.getvalue()).decode()\n",
    "\n",
    "\n",
    "def batch_embeddable_jpeg(urls, max_side=512, max_workers=16, timeout=10):\n",
    "    \"\"\"Deduplicate, parallelize, and preserve order.\"\"\"\n",
    "    # Deduplicate to avoid repeated downloads\n",
    "    unique_urls = list(dict.fromkeys(urls))\n",
    "    results_map = {}\n",
    "\n",
    "    def _wrap(u):\n",
    "        try:\n",
    "            return u, embeddable_jpeg(u, max_side=max_side, timeout=timeout)\n",
    "        except Exception:\n",
    "            return u, None  # or a tiny placeholder\n",
    "\n",
    "    with ThreadPoolExecutor(max_workers=max_workers) as ex:\n",
    "        futs = [ex.submit(_wrap, u) for u in unique_urls]\n",
    "        for fut in as_completed(futs):\n",
    "            u, val = fut.result()\n",
    "            results_map[u] = val\n",
    "\n",
    "    # Re-expand to original order\n",
    "    return [results_map.get(u) for u in urls]\n",
    "\n",
    "# Normalize whitened x, y, z to [0, 1] for RGB\n",
    "\n",
    "\n",
    "def normalize(arr):\n",
    "    min_val = arr.min()\n",
    "    max_val = arr.max()\n",
    "    return (arr - min_val) / (max_val - min_val + 1e-8)\n",
    "\n",
    "# Convert to hex color\n",
    "def rgb_to_hex(r, g, b):\n",
    "    return ['#%02x%02x%02x' % (int(255 * x), int(255 * y), int(255 * z))\n",
    "            for x, y, z in zip(r, g, b)]"
   ]
  },
  {
   "cell_type": "code",
   "execution_count": 17,
   "id": "93ca41ae",
   "metadata": {},
   "outputs": [],
   "source": [
    "images_df = pd.DataFrame(umap_2d_embeddings, columns=('x', 'y'))\n",
    "images_df['image'] = batch_embeddable_jpeg(\n",
    "    subset_images, max_side=512, max_workers=16)\n",
    "images_df['idx'] = subset_idx"
   ]
  },
  {
   "cell_type": "code",
   "execution_count": 18,
   "id": "53401c37",
   "metadata": {},
   "outputs": [],
   "source": [
    "r = normalize(whitened[:, 0])\n",
    "g = normalize(whitened[:, 1])\n",
    "b = normalize(whitened[:, 2])\n",
    "\n",
    "images_df['color'] = rgb_to_hex(r, g, b)"
   ]
  },
  {
   "cell_type": "code",
   "execution_count": 19,
   "id": "dd3ba352",
   "metadata": {},
   "outputs": [],
   "source": [
    "# Write parquet\n",
    "images_df.to_parquet('../data/vlm_embed/iiif_no_text_umap_2d_vlm_embed_vae3d_hires_1_umap_2d_plot.parquet')"
   ]
  },
  {
   "cell_type": "code",
   "execution_count": 20,
   "id": "70a868be",
   "metadata": {},
   "outputs": [],
   "source": [
    "import pandas as pd\n",
    "# Load the data\n",
    "images_df = pd.read_parquet(\n",
    "    '../data/vlm_embed/iiif_no_text_umap_2d_vlm_embed_vae3d_hires_1_umap_2d_plot.parquet')"
   ]
  },
  {
   "cell_type": "code",
   "execution_count": 21,
   "id": "701abe8a",
   "metadata": {},
   "outputs": [
    {
     "data": {
      "text/html": [
       "    <style>\n",
       "        .bk-notebook-logo {\n",
       "            display: block;\n",
       "            width: 20px;\n",
       "            height: 20px;\n",
       "            background-image: url(data:image/png;base64,iVBORw0KGgoAAAANSUhEUgAAABQAAAAUCAYAAACNiR0NAAAABHNCSVQICAgIfAhkiAAAAAlwSFlzAAALEgAACxIB0t1+/AAAABx0RVh0U29mdHdhcmUAQWRvYmUgRmlyZXdvcmtzIENTNui8sowAAAOkSURBVDiNjZRtaJVlGMd/1/08zzln5zjP1LWcU9N0NkN8m2CYjpgQYQXqSs0I84OLIC0hkEKoPtiH3gmKoiJDU7QpLgoLjLIQCpEsNJ1vqUOdO7ppbuec5+V+rj4ctwzd8IIbbi6u+8f1539dt3A78eXC7QizUF7gyV1fD1Yqg4JWz84yffhm0qkFqBogB9rM8tZdtwVsPUhWhGcFJngGeWrPzHm5oaMmkfEg1usvLFyc8jLRqDOMru7AyC8saQr7GG7f5fvDeH7Ej8CM66nIF+8yngt6HWaKh7k49Soy9nXurCi1o3qUbS3zWfrYeQDTB/Qj6kX6Ybhw4B+bOYoLKCC9H3Nu/leUTZ1JdRWkkn2ldcCamzrcf47KKXdAJllSlxAOkRgyHsGC/zRday5Qld9DyoM4/q/rUoy/CXh3jzOu3bHUVZeU+DEn8FInkPBFlu3+nW3Nw0mk6vCDiWg8CeJaxEwuHS3+z5RgY+YBR6V1Z1nxSOfoaPa4LASWxxdNp+VWTk7+4vzaou8v8PN+xo+KY2xsw6une2frhw05CTYOmQvsEhjhWjn0bmXPjpE1+kplmmkP3suftwTubK9Vq22qKmrBhpY4jvd5afdRA3wGjFAgcnTK2s4hY0/GPNIb0nErGMCRxWOOX64Z8RAC4oCXdklmEvcL8o0BfkNK4lUg9HTl+oPlQxdNo3Mg4Nv175e/1LDGzZen30MEjRUtmXSfiTVu1kK8W4txyV6BMKlbgk3lMwYCiusNy9fVfvvwMxv8Ynl6vxoByANLTWplvuj/nF9m2+PDtt1eiHPBr1oIfhCChQMBw6Aw0UulqTKZdfVvfG7VcfIqLG9bcldL/+pdWTLxLUy8Qq38heUIjh4XlzZxzQm19lLFlr8vdQ97rjZVOLf8nclzckbcD4wxXMidpX30sFd37Fv/GtwwhzhxGVAprjbg0gCAEeIgwCZyTV2Z1REEW8O4py0wsjeloKoMr6iCY6dP92H6Vw/oTyICIthibxjm/DfN9lVz8IqtqKYLUXfoKVMVQVVJOElGjrnnUt9T9wbgp8AyYKaGlqingHZU/uG2NTZSVqwHQTWkx9hxjkpWDaCg6Ckj5qebgBVbT3V3NNXMSiWSDdGV3hrtzla7J+duwPOToIg42ChPQOQjspnSlp1V+Gjdged7+8UN5CRAV7a5EdFNwCjEaBR27b3W890TE7g24NAP/mMDXRWrGoFPQI9ls/MWO2dWFAar/xcOIImbbpA3zgAAAABJRU5ErkJggg==);\n",
       "        }\n",
       "    </style>\n",
       "    <div>\n",
       "        <a href=\"https://bokeh.org\" target=\"_blank\" class=\"bk-notebook-logo\"></a>\n",
       "        <span id=\"b09c4d75-41d9-42d9-a970-e24dfe5983e8\">Loading BokehJS ...</span>\n",
       "    </div>\n"
      ]
     },
     "metadata": {},
     "output_type": "display_data"
    },
    {
     "data": {
      "application/javascript": "'use strict';\n(function(root) {\n  function now() {\n    return new Date();\n  }\n\n  const force = true;\n\n  if (typeof root._bokeh_onload_callbacks === \"undefined\" || force === true) {\n    root._bokeh_onload_callbacks = [];\n    root._bokeh_is_loading = undefined;\n  }\n\nconst JS_MIME_TYPE = 'application/javascript';\n  const HTML_MIME_TYPE = 'text/html';\n  const EXEC_MIME_TYPE = 'application/vnd.bokehjs_exec.v0+json';\n  const CLASS_NAME = 'output_bokeh rendered_html';\n\n  /**\n   * Render data to the DOM node\n   */\n  function render(props, node) {\n    const script = document.createElement(\"script\");\n    node.appendChild(script);\n  }\n\n  /**\n   * Handle when an output is cleared or removed\n   */\n  function handleClearOutput(event, handle) {\n    function drop(id) {\n      const view = Bokeh.index.get_by_id(id)\n      if (view != null) {\n        view.model.document.clear()\n        Bokeh.index.delete(view)\n      }\n    }\n\n    const cell = handle.cell;\n\n    const id = cell.output_area._bokeh_element_id;\n    const server_id = cell.output_area._bokeh_server_id;\n\n    // Clean up Bokeh references\n    if (id != null) {\n      drop(id)\n    }\n\n    if (server_id !== undefined) {\n      // Clean up Bokeh references\n      const cmd_clean = \"from bokeh.io.state import curstate; print(curstate().uuid_to_server['\" + server_id + \"'].get_sessions()[0].document.roots[0]._id)\";\n      cell.notebook.kernel.execute(cmd_clean, {\n        iopub: {\n          output: function(msg) {\n            const id = msg.content.text.trim()\n            drop(id)\n          }\n        }\n      });\n      // Destroy server and session\n      const cmd_destroy = \"import bokeh.io.notebook as ion; ion.destroy_server('\" + server_id + \"')\";\n      cell.notebook.kernel.execute(cmd_destroy);\n    }\n  }\n\n  /**\n   * Handle when a new output is added\n   */\n  function handleAddOutput(event, handle) {\n    const output_area = handle.output_area;\n    const output = handle.output;\n\n    // limit handleAddOutput to display_data with EXEC_MIME_TYPE content only\n    if ((output.output_type != \"display_data\") || (!Object.prototype.hasOwnProperty.call(output.data, EXEC_MIME_TYPE))) {\n      return\n    }\n\n    const toinsert = output_area.element.find(\".\" + CLASS_NAME.split(' ')[0]);\n\n    if (output.metadata[EXEC_MIME_TYPE][\"id\"] !== undefined) {\n      toinsert[toinsert.length - 1].firstChild.textContent = output.data[JS_MIME_TYPE];\n      // store reference to embed id on output_area\n      output_area._bokeh_element_id = output.metadata[EXEC_MIME_TYPE][\"id\"];\n    }\n    if (output.metadata[EXEC_MIME_TYPE][\"server_id\"] !== undefined) {\n      const bk_div = document.createElement(\"div\");\n      bk_div.innerHTML = output.data[HTML_MIME_TYPE];\n      const script_attrs = bk_div.children[0].attributes;\n      for (let i = 0; i < script_attrs.length; i++) {\n        toinsert[toinsert.length - 1].firstChild.setAttribute(script_attrs[i].name, script_attrs[i].value);\n        toinsert[toinsert.length - 1].firstChild.textContent = bk_div.children[0].textContent\n      }\n      // store reference to server id on output_area\n      output_area._bokeh_server_id = output.metadata[EXEC_MIME_TYPE][\"server_id\"];\n    }\n  }\n\n  function register_renderer(events, OutputArea) {\n\n    function append_mime(data, metadata, element) {\n      // create a DOM node to render to\n      const toinsert = this.create_output_subarea(\n        metadata,\n        CLASS_NAME,\n        EXEC_MIME_TYPE\n      );\n      this.keyboard_manager.register_events(toinsert);\n      // Render to node\n      const props = {data: data, metadata: metadata[EXEC_MIME_TYPE]};\n      render(props, toinsert[toinsert.length - 1]);\n      element.append(toinsert);\n      return toinsert\n    }\n\n    /* Handle when an output is cleared or removed */\n    events.on('clear_output.CodeCell', handleClearOutput);\n    events.on('delete.Cell', handleClearOutput);\n\n    /* Handle when a new output is added */\n    events.on('output_added.OutputArea', handleAddOutput);\n\n    /**\n     * Register the mime type and append_mime function with output_area\n     */\n    OutputArea.prototype.register_mime_type(EXEC_MIME_TYPE, append_mime, {\n      /* Is output safe? */\n      safe: true,\n      /* Index of renderer in `output_area.display_order` */\n      index: 0\n    });\n  }\n\n  // register the mime type if in Jupyter Notebook environment and previously unregistered\n  if (root.Jupyter !== undefined) {\n    const events = require('base/js/events');\n    const OutputArea = require('notebook/js/outputarea').OutputArea;\n\n    if (OutputArea.prototype.mime_types().indexOf(EXEC_MIME_TYPE) == -1) {\n      register_renderer(events, OutputArea);\n    }\n  }\n  if (typeof (root._bokeh_timeout) === \"undefined\" || force === true) {\n    root._bokeh_timeout = Date.now() + 5000;\n    root._bokeh_failed_load = false;\n  }\n\n  const NB_LOAD_WARNING = {'data': {'text/html':\n     \"<div style='background-color: #fdd'>\\n\"+\n     \"<p>\\n\"+\n     \"BokehJS does not appear to have successfully loaded. If loading BokehJS from CDN, this \\n\"+\n     \"may be due to a slow or bad network connection. Possible fixes:\\n\"+\n     \"</p>\\n\"+\n     \"<ul>\\n\"+\n     \"<li>re-rerun `output_notebook()` to attempt to load from CDN again, or</li>\\n\"+\n     \"<li>use INLINE resources instead, as so:</li>\\n\"+\n     \"</ul>\\n\"+\n     \"<code>\\n\"+\n     \"from bokeh.resources import INLINE\\n\"+\n     \"output_notebook(resources=INLINE)\\n\"+\n     \"</code>\\n\"+\n     \"</div>\"}};\n\n  function display_loaded(error = null) {\n    const el = document.getElementById(\"b09c4d75-41d9-42d9-a970-e24dfe5983e8\");\n    if (el != null) {\n      const html = (() => {\n        if (typeof root.Bokeh === \"undefined\") {\n          if (error == null) {\n            return \"BokehJS is loading ...\";\n          } else {\n            return \"BokehJS failed to load.\";\n          }\n        } else {\n          const prefix = `BokehJS ${root.Bokeh.version}`;\n          if (error == null) {\n            return `${prefix} successfully loaded.`;\n          } else {\n            return `${prefix} <b>encountered errors</b> while loading and may not function as expected.`;\n          }\n        }\n      })();\n      el.innerHTML = html;\n\n      if (error != null) {\n        const wrapper = document.createElement(\"div\");\n        wrapper.style.overflow = \"auto\";\n        wrapper.style.height = \"5em\";\n        wrapper.style.resize = \"vertical\";\n        const content = document.createElement(\"div\");\n        content.style.fontFamily = \"monospace\";\n        content.style.whiteSpace = \"pre-wrap\";\n        content.style.backgroundColor = \"rgb(255, 221, 221)\";\n        content.textContent = error.stack ?? error.toString();\n        wrapper.append(content);\n        el.append(wrapper);\n      }\n    } else if (Date.now() < root._bokeh_timeout) {\n      setTimeout(() => display_loaded(error), 100);\n    }\n  }\n\n  function run_callbacks() {\n    try {\n      root._bokeh_onload_callbacks.forEach(function(callback) {\n        if (callback != null)\n          callback();\n      });\n    } finally {\n      delete root._bokeh_onload_callbacks\n    }\n    console.debug(\"Bokeh: all callbacks have finished\");\n  }\n\n  function load_libs(css_urls, js_urls, callback) {\n    if (css_urls == null) css_urls = [];\n    if (js_urls == null) js_urls = [];\n\n    root._bokeh_onload_callbacks.push(callback);\n    if (root._bokeh_is_loading > 0) {\n      console.debug(\"Bokeh: BokehJS is being loaded, scheduling callback at\", now());\n      return null;\n    }\n    if (js_urls == null || js_urls.length === 0) {\n      run_callbacks();\n      return null;\n    }\n    console.debug(\"Bokeh: BokehJS not loaded, scheduling load and callback at\", now());\n    root._bokeh_is_loading = css_urls.length + js_urls.length;\n\n    function on_load() {\n      root._bokeh_is_loading--;\n      if (root._bokeh_is_loading === 0) {\n        console.debug(\"Bokeh: all BokehJS libraries/stylesheets loaded\");\n        run_callbacks()\n      }\n    }\n\n    function on_error(url) {\n      console.error(\"failed to load \" + url);\n    }\n\n    for (let i = 0; i < css_urls.length; i++) {\n      const url = css_urls[i];\n      const element = document.createElement(\"link\");\n      element.onload = on_load;\n      element.onerror = on_error.bind(null, url);\n      element.rel = \"stylesheet\";\n      element.type = \"text/css\";\n      element.href = url;\n      console.debug(\"Bokeh: injecting link tag for BokehJS stylesheet: \", url);\n      document.body.appendChild(element);\n    }\n\n    for (let i = 0; i < js_urls.length; i++) {\n      const url = js_urls[i];\n      const element = document.createElement('script');\n      element.onload = on_load;\n      element.onerror = on_error.bind(null, url);\n      element.async = false;\n      element.src = url;\n      console.debug(\"Bokeh: injecting script tag for BokehJS library: \", url);\n      document.head.appendChild(element);\n    }\n  };\n\n  function inject_raw_css(css) {\n    const element = document.createElement(\"style\");\n    element.appendChild(document.createTextNode(css));\n    document.body.appendChild(element);\n  }\n\n  const js_urls = [\"https://cdn.bokeh.org/bokeh/release/bokeh-3.8.0.min.js\", \"https://cdn.bokeh.org/bokeh/release/bokeh-gl-3.8.0.min.js\", \"https://cdn.bokeh.org/bokeh/release/bokeh-widgets-3.8.0.min.js\", \"https://cdn.bokeh.org/bokeh/release/bokeh-tables-3.8.0.min.js\", \"https://cdn.bokeh.org/bokeh/release/bokeh-mathjax-3.8.0.min.js\"];\n  const css_urls = [];\n\n  const inline_js = [    function(Bokeh) {\n      Bokeh.set_log_level(\"info\");\n    },\nfunction(Bokeh) {\n    }\n  ];\n\n  function run_inline_js() {\n    if (root.Bokeh !== undefined || force === true) {\n      try {\n            for (let i = 0; i < inline_js.length; i++) {\n      inline_js[i].call(root, root.Bokeh);\n    }\n\n      } catch (error) {display_loaded(error);throw error;\n      }if (force === true) {\n        display_loaded();\n      }} else if (Date.now() < root._bokeh_timeout) {\n      setTimeout(run_inline_js, 100);\n    } else if (!root._bokeh_failed_load) {\n      console.log(\"Bokeh: BokehJS failed to load within specified timeout.\");\n      root._bokeh_failed_load = true;\n    } else if (force !== true) {\n      const cell = $(document.getElementById(\"b09c4d75-41d9-42d9-a970-e24dfe5983e8\")).parents('.cell').data().cell;\n      cell.output_area.append_execute_result(NB_LOAD_WARNING)\n    }\n  }\n\n  if (root._bokeh_is_loading === 0) {\n    console.debug(\"Bokeh: BokehJS loaded, going straight to plotting\");\n    run_inline_js();\n  } else {\n    load_libs(css_urls, js_urls, function() {\n      console.debug(\"Bokeh: BokehJS plotting callback run at\", now());\n      run_inline_js();\n    });\n  }\n}(window));",
      "application/vnd.bokehjs_load.v0+json": ""
     },
     "metadata": {},
     "output_type": "display_data"
    }
   ],
   "source": [
    "from bokeh.plotting import figure, show, output_notebook\n",
    "from bokeh.models import HoverTool, ColumnDataSource, CategoricalColorMapper\n",
    "from bokeh.palettes import Spectral10\n",
    "\n",
    "output_notebook()"
   ]
  },
  {
   "cell_type": "code",
   "execution_count": 22,
   "id": "abb2c2a0",
   "metadata": {},
   "outputs": [
    {
     "data": {
      "text/html": [
       "<div style=\"display: table;\"><div style=\"display: table-row;\"><div style=\"display: table-cell;\"><b title=\"bokeh.models.renderers.glyph_renderer.GlyphRenderer\">GlyphRenderer</b>(</div><div style=\"display: table-cell;\">id&nbsp;=&nbsp;'p1043', <span id=\"p1047\" style=\"cursor: pointer;\">&hellip;)</span></div></div><div class=\"p1046\" style=\"display: none;\"><div style=\"display: table-cell;\"></div><div style=\"display: table-cell;\">context_menu&nbsp;=&nbsp;None,</div></div><div class=\"p1046\" style=\"display: none;\"><div style=\"display: table-cell;\"></div><div style=\"display: table-cell;\">coordinates&nbsp;=&nbsp;None,</div></div><div class=\"p1046\" style=\"display: none;\"><div style=\"display: table-cell;\"></div><div style=\"display: table-cell;\">css_classes&nbsp;=&nbsp;[],</div></div><div class=\"p1046\" style=\"display: none;\"><div style=\"display: table-cell;\"></div><div style=\"display: table-cell;\">css_variables&nbsp;=&nbsp;{},</div></div><div class=\"p1046\" style=\"display: none;\"><div style=\"display: table-cell;\"></div><div style=\"display: table-cell;\">data_source&nbsp;=&nbsp;ColumnDataSource(id='p1008', ...),</div></div><div class=\"p1046\" style=\"display: none;\"><div style=\"display: table-cell;\"></div><div style=\"display: table-cell;\">glyph&nbsp;=&nbsp;Scatter(id='p1040', ...),</div></div><div class=\"p1046\" style=\"display: none;\"><div style=\"display: table-cell;\"></div><div style=\"display: table-cell;\">group&nbsp;=&nbsp;None,</div></div><div class=\"p1046\" style=\"display: none;\"><div style=\"display: table-cell;\"></div><div style=\"display: table-cell;\">hover_glyph&nbsp;=&nbsp;None,</div></div><div class=\"p1046\" style=\"display: none;\"><div style=\"display: table-cell;\"></div><div style=\"display: table-cell;\">html_attributes&nbsp;=&nbsp;{},</div></div><div class=\"p1046\" style=\"display: none;\"><div style=\"display: table-cell;\"></div><div style=\"display: table-cell;\">html_id&nbsp;=&nbsp;None,</div></div><div class=\"p1046\" style=\"display: none;\"><div style=\"display: table-cell;\"></div><div style=\"display: table-cell;\">js_event_callbacks&nbsp;=&nbsp;{},</div></div><div class=\"p1046\" style=\"display: none;\"><div style=\"display: table-cell;\"></div><div style=\"display: table-cell;\">js_property_callbacks&nbsp;=&nbsp;{},</div></div><div class=\"p1046\" style=\"display: none;\"><div style=\"display: table-cell;\"></div><div style=\"display: table-cell;\">level&nbsp;=&nbsp;'glyph',</div></div><div class=\"p1046\" style=\"display: none;\"><div style=\"display: table-cell;\"></div><div style=\"display: table-cell;\">muted&nbsp;=&nbsp;False,</div></div><div class=\"p1046\" style=\"display: none;\"><div style=\"display: table-cell;\"></div><div style=\"display: table-cell;\">muted_glyph&nbsp;=&nbsp;Scatter(id='p1042', ...),</div></div><div class=\"p1046\" style=\"display: none;\"><div style=\"display: table-cell;\"></div><div style=\"display: table-cell;\">name&nbsp;=&nbsp;None,</div></div><div class=\"p1046\" style=\"display: none;\"><div style=\"display: table-cell;\"></div><div style=\"display: table-cell;\">nonselection_glyph&nbsp;=&nbsp;Scatter(id='p1041', ...),</div></div><div class=\"p1046\" style=\"display: none;\"><div style=\"display: table-cell;\"></div><div style=\"display: table-cell;\">propagate_hover&nbsp;=&nbsp;False,</div></div><div class=\"p1046\" style=\"display: none;\"><div style=\"display: table-cell;\"></div><div style=\"display: table-cell;\">selection_glyph&nbsp;=&nbsp;'auto',</div></div><div class=\"p1046\" style=\"display: none;\"><div style=\"display: table-cell;\"></div><div style=\"display: table-cell;\">styles&nbsp;=&nbsp;{},</div></div><div class=\"p1046\" style=\"display: none;\"><div style=\"display: table-cell;\"></div><div style=\"display: table-cell;\">stylesheets&nbsp;=&nbsp;[],</div></div><div class=\"p1046\" style=\"display: none;\"><div style=\"display: table-cell;\"></div><div style=\"display: table-cell;\">subscribed_events&nbsp;=&nbsp;PropertyValueSet(),</div></div><div class=\"p1046\" style=\"display: none;\"><div style=\"display: table-cell;\"></div><div style=\"display: table-cell;\">syncable&nbsp;=&nbsp;True,</div></div><div class=\"p1046\" style=\"display: none;\"><div style=\"display: table-cell;\"></div><div style=\"display: table-cell;\">tags&nbsp;=&nbsp;[],</div></div><div class=\"p1046\" style=\"display: none;\"><div style=\"display: table-cell;\"></div><div style=\"display: table-cell;\">view&nbsp;=&nbsp;CDSView(id='p1044', ...),</div></div><div class=\"p1046\" style=\"display: none;\"><div style=\"display: table-cell;\"></div><div style=\"display: table-cell;\">visible&nbsp;=&nbsp;True,</div></div><div class=\"p1046\" style=\"display: none;\"><div style=\"display: table-cell;\"></div><div style=\"display: table-cell;\">x_range_name&nbsp;=&nbsp;'default',</div></div><div class=\"p1046\" style=\"display: none;\"><div style=\"display: table-cell;\"></div><div style=\"display: table-cell;\">y_range_name&nbsp;=&nbsp;'default')</div></div></div>\n",
       "<script>\n",
       "(function() {\n",
       "  let expanded = false;\n",
       "  const ellipsis = document.getElementById(\"p1047\");\n",
       "  ellipsis.addEventListener(\"click\", function() {\n",
       "    const rows = document.getElementsByClassName(\"p1046\");\n",
       "    for (let i = 0; i < rows.length; i++) {\n",
       "      const el = rows[i];\n",
       "      el.style.display = expanded ? \"none\" : \"table-row\";\n",
       "    }\n",
       "    ellipsis.innerHTML = expanded ? \"&hellip;)\" : \"&lsaquo;&lsaquo;&lsaquo;\";\n",
       "    expanded = !expanded;\n",
       "  });\n",
       "})();\n",
       "</script>\n"
      ],
      "text/plain": [
       "GlyphRenderer(id='p1043', ...)"
      ]
     },
     "execution_count": 22,
     "metadata": {},
     "output_type": "execute_result"
    }
   ],
   "source": [
    "datasource = ColumnDataSource(images_df)\n",
    "\n",
    "plot_figure = figure(\n",
    "    title='UMAP projection of the IIIF non-ocr dataset',\n",
    "    width=1920,\n",
    "    height=1080,\n",
    "    tools=('pan, wheel_zoom, reset')\n",
    ")\n",
    "\n",
    "plot_figure.add_tools(HoverTool(tooltips=\"\"\"\n",
    "<div>\n",
    "    <div>\n",
    "        <img src='@image' style='float: left; margin: 5px 5px 5px 5px'/>\n",
    "    </div>\n",
    "    <div>\n",
    "        <span style='font-size: 16px; color: #224499'>idx:</span>\n",
    "        <span style='font-size: 18px'>@idx</span>\n",
    "    </div>\n",
    "</div>\n",
    "\"\"\"))\n",
    "\n",
    "\n",
    "plot_figure.scatter(\n",
    "    'x',\n",
    "    'y',\n",
    "    source=datasource,\n",
    "    line_alpha=0.5,\n",
    "    fill_alpha=0.5,\n",
    "    size=5,\n",
    "    color='color'\n",
    ")\n",
    "# show(plot_figure)"
   ]
  },
  {
   "cell_type": "code",
   "execution_count": 23,
   "id": "c3641d7f",
   "metadata": {},
   "outputs": [
    {
     "name": "stdout",
     "output_type": "stream",
     "text": [
      "Wrote iiif_no_text_umap_2d_vlm_embed_vae3d_hires_1_umap_2d_plot.html (INLINE resources).\n",
      "File size (MB): 377.00646018981934\n"
     ]
    }
   ],
   "source": [
    "import os\n",
    "from bokeh.embed import file_html\n",
    "from bokeh.resources import INLINE\n",
    "\n",
    "html = file_html(plot_figure, resources=INLINE, title=\"UMAP projection\")\n",
    "out_path = \"iiif_no_text_umap_2d_vlm_embed_vae3d_hires_1_umap_2d_plot.html\"\n",
    "with open(out_path, \"w\", encoding=\"utf-8\") as f:\n",
    "    f.write(html)\n",
    "\n",
    "print(f\"Wrote {out_path} (INLINE resources).\")\n",
    "# Optional size check\n",
    "print(\"File size (MB):\", os.path.getsize(out_path) / (1024 * 1024))"
   ]
  },
  {
   "cell_type": "markdown",
   "id": "f0c2642a",
   "metadata": {},
   "source": [
    "# Whitened Data"
   ]
  },
  {
   "cell_type": "code",
   "execution_count": 16,
   "id": "1f716346",
   "metadata": {},
   "outputs": [
    {
     "data": {
      "application/vnd.plotly.v1+json": {
       "config": {
        "plotlyServerURL": "https://plot.ly"
       },
       "data": [
        {
         "hovertemplate": "x=%{x}<br>y=%{y}<br>z=%{z}<extra></extra>",
         "legendgroup": "",
         "marker": {
          "color": "#636efa",
          "opacity": 0.4,
          "size": 2,
          "symbol": "circle"
         },
         "mode": "markers",
         "name": "",
         "scene": "scene",
         "showlegend": false,
         "type": "scatter3d",
         "x": {
          "bdata": "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",
          "dtype": "f4"
         },
         "y": {
          "bdata": "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",
          "dtype": "f4"
         },
         "z": {
          "bdata": "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",
          "dtype": "f4"
         }
        }
       ],
       "layout": {
        "height": 768,
        "legend": {
         "tracegroupgap": 0
        },
        "margin": {
         "t": 60
        },
        "scene": {
         "aspectmode": "cube",
         "domain": {
          "x": [
           0,
           1
          ],
          "y": [
           0,
           1
          ]
         },
         "xaxis": {
          "title": {
           "text": "x"
          }
         },
         "yaxis": {
          "title": {
           "text": "y"
          }
         },
         "zaxis": {
          "title": {
           "text": "z"
          }
         }
        },
        "template": {
         "data": {
          "bar": [
           {
            "error_x": {
             "color": "#2a3f5f"
            },
            "error_y": {
             "color": "#2a3f5f"
            },
            "marker": {
             "line": {
              "color": "#E5ECF6",
              "width": 0.5
             },
             "pattern": {
              "fillmode": "overlay",
              "size": 10,
              "solidity": 0.2
             }
            },
            "type": "bar"
           }
          ],
          "barpolar": [
           {
            "marker": {
             "line": {
              "color": "#E5ECF6",
              "width": 0.5
             },
             "pattern": {
              "fillmode": "overlay",
              "size": 10,
              "solidity": 0.2
             }
            },
            "type": "barpolar"
           }
          ],
          "carpet": [
           {
            "aaxis": {
             "endlinecolor": "#2a3f5f",
             "gridcolor": "white",
             "linecolor": "white",
             "minorgridcolor": "white",
             "startlinecolor": "#2a3f5f"
            },
            "baxis": {
             "endlinecolor": "#2a3f5f",
             "gridcolor": "white",
             "linecolor": "white",
             "minorgridcolor": "white",
             "startlinecolor": "#2a3f5f"
            },
            "type": "carpet"
           }
          ],
          "choropleth": [
           {
            "colorbar": {
             "outlinewidth": 0,
             "ticks": ""
            },
            "type": "choropleth"
           }
          ],
          "contour": [
           {
            "colorbar": {
             "outlinewidth": 0,
             "ticks": ""
            },
            "colorscale": [
             [
              0,
              "#0d0887"
             ],
             [
              0.1111111111111111,
              "#46039f"
             ],
             [
              0.2222222222222222,
              "#7201a8"
             ],
             [
              0.3333333333333333,
              "#9c179e"
             ],
             [
              0.4444444444444444,
              "#bd3786"
             ],
             [
              0.5555555555555556,
              "#d8576b"
             ],
             [
              0.6666666666666666,
              "#ed7953"
             ],
             [
              0.7777777777777778,
              "#fb9f3a"
             ],
             [
              0.8888888888888888,
              "#fdca26"
             ],
             [
              1,
              "#f0f921"
             ]
            ],
            "type": "contour"
           }
          ],
          "contourcarpet": [
           {
            "colorbar": {
             "outlinewidth": 0,
             "ticks": ""
            },
            "type": "contourcarpet"
           }
          ],
          "heatmap": [
           {
            "colorbar": {
             "outlinewidth": 0,
             "ticks": ""
            },
            "colorscale": [
             [
              0,
              "#0d0887"
             ],
             [
              0.1111111111111111,
              "#46039f"
             ],
             [
              0.2222222222222222,
              "#7201a8"
             ],
             [
              0.3333333333333333,
              "#9c179e"
             ],
             [
              0.4444444444444444,
              "#bd3786"
             ],
             [
              0.5555555555555556,
              "#d8576b"
             ],
             [
              0.6666666666666666,
              "#ed7953"
             ],
             [
              0.7777777777777778,
              "#fb9f3a"
             ],
             [
              0.8888888888888888,
              "#fdca26"
             ],
             [
              1,
              "#f0f921"
             ]
            ],
            "type": "heatmap"
           }
          ],
          "histogram": [
           {
            "marker": {
             "pattern": {
              "fillmode": "overlay",
              "size": 10,
              "solidity": 0.2
             }
            },
            "type": "histogram"
           }
          ],
          "histogram2d": [
           {
            "colorbar": {
             "outlinewidth": 0,
             "ticks": ""
            },
            "colorscale": [
             [
              0,
              "#0d0887"
             ],
             [
              0.1111111111111111,
              "#46039f"
             ],
             [
              0.2222222222222222,
              "#7201a8"
             ],
             [
              0.3333333333333333,
              "#9c179e"
             ],
             [
              0.4444444444444444,
              "#bd3786"
             ],
             [
              0.5555555555555556,
              "#d8576b"
             ],
             [
              0.6666666666666666,
              "#ed7953"
             ],
             [
              0.7777777777777778,
              "#fb9f3a"
             ],
             [
              0.8888888888888888,
              "#fdca26"
             ],
             [
              1,
              "#f0f921"
             ]
            ],
            "type": "histogram2d"
           }
          ],
          "histogram2dcontour": [
           {
            "colorbar": {
             "outlinewidth": 0,
             "ticks": ""
            },
            "colorscale": [
             [
              0,
              "#0d0887"
             ],
             [
              0.1111111111111111,
              "#46039f"
             ],
             [
              0.2222222222222222,
              "#7201a8"
             ],
             [
              0.3333333333333333,
              "#9c179e"
             ],
             [
              0.4444444444444444,
              "#bd3786"
             ],
             [
              0.5555555555555556,
              "#d8576b"
             ],
             [
              0.6666666666666666,
              "#ed7953"
             ],
             [
              0.7777777777777778,
              "#fb9f3a"
             ],
             [
              0.8888888888888888,
              "#fdca26"
             ],
             [
              1,
              "#f0f921"
             ]
            ],
            "type": "histogram2dcontour"
           }
          ],
          "mesh3d": [
           {
            "colorbar": {
             "outlinewidth": 0,
             "ticks": ""
            },
            "type": "mesh3d"
           }
          ],
          "parcoords": [
           {
            "line": {
             "colorbar": {
              "outlinewidth": 0,
              "ticks": ""
             }
            },
            "type": "parcoords"
           }
          ],
          "pie": [
           {
            "automargin": true,
            "type": "pie"
           }
          ],
          "scatter": [
           {
            "fillpattern": {
             "fillmode": "overlay",
             "size": 10,
             "solidity": 0.2
            },
            "type": "scatter"
           }
          ],
          "scatter3d": [
           {
            "line": {
             "colorbar": {
              "outlinewidth": 0,
              "ticks": ""
             }
            },
            "marker": {
             "colorbar": {
              "outlinewidth": 0,
              "ticks": ""
             }
            },
            "type": "scatter3d"
           }
          ],
          "scattercarpet": [
           {
            "marker": {
             "colorbar": {
              "outlinewidth": 0,
              "ticks": ""
             }
            },
            "type": "scattercarpet"
           }
          ],
          "scattergeo": [
           {
            "marker": {
             "colorbar": {
              "outlinewidth": 0,
              "ticks": ""
             }
            },
            "type": "scattergeo"
           }
          ],
          "scattergl": [
           {
            "marker": {
             "colorbar": {
              "outlinewidth": 0,
              "ticks": ""
             }
            },
            "type": "scattergl"
           }
          ],
          "scattermap": [
           {
            "marker": {
             "colorbar": {
              "outlinewidth": 0,
              "ticks": ""
             }
            },
            "type": "scattermap"
           }
          ],
          "scattermapbox": [
           {
            "marker": {
             "colorbar": {
              "outlinewidth": 0,
              "ticks": ""
             }
            },
            "type": "scattermapbox"
           }
          ],
          "scatterpolar": [
           {
            "marker": {
             "colorbar": {
              "outlinewidth": 0,
              "ticks": ""
             }
            },
            "type": "scatterpolar"
           }
          ],
          "scatterpolargl": [
           {
            "marker": {
             "colorbar": {
              "outlinewidth": 0,
              "ticks": ""
             }
            },
            "type": "scatterpolargl"
           }
          ],
          "scatterternary": [
           {
            "marker": {
             "colorbar": {
              "outlinewidth": 0,
              "ticks": ""
             }
            },
            "type": "scatterternary"
           }
          ],
          "surface": [
           {
            "colorbar": {
             "outlinewidth": 0,
             "ticks": ""
            },
            "colorscale": [
             [
              0,
              "#0d0887"
             ],
             [
              0.1111111111111111,
              "#46039f"
             ],
             [
              0.2222222222222222,
              "#7201a8"
             ],
             [
              0.3333333333333333,
              "#9c179e"
             ],
             [
              0.4444444444444444,
              "#bd3786"
             ],
             [
              0.5555555555555556,
              "#d8576b"
             ],
             [
              0.6666666666666666,
              "#ed7953"
             ],
             [
              0.7777777777777778,
              "#fb9f3a"
             ],
             [
              0.8888888888888888,
              "#fdca26"
             ],
             [
              1,
              "#f0f921"
             ]
            ],
            "type": "surface"
           }
          ],
          "table": [
           {
            "cells": {
             "fill": {
              "color": "#EBF0F8"
             },
             "line": {
              "color": "white"
             }
            },
            "header": {
             "fill": {
              "color": "#C8D4E3"
             },
             "line": {
              "color": "white"
             }
            },
            "type": "table"
           }
          ]
         },
         "layout": {
          "annotationdefaults": {
           "arrowcolor": "#2a3f5f",
           "arrowhead": 0,
           "arrowwidth": 1
          },
          "autotypenumbers": "strict",
          "coloraxis": {
           "colorbar": {
            "outlinewidth": 0,
            "ticks": ""
           }
          },
          "colorscale": {
           "diverging": [
            [
             0,
             "#8e0152"
            ],
            [
             0.1,
             "#c51b7d"
            ],
            [
             0.2,
             "#de77ae"
            ],
            [
             0.3,
             "#f1b6da"
            ],
            [
             0.4,
             "#fde0ef"
            ],
            [
             0.5,
             "#f7f7f7"
            ],
            [
             0.6,
             "#e6f5d0"
            ],
            [
             0.7,
             "#b8e186"
            ],
            [
             0.8,
             "#7fbc41"
            ],
            [
             0.9,
             "#4d9221"
            ],
            [
             1,
             "#276419"
            ]
           ],
           "sequential": [
            [
             0,
             "#0d0887"
            ],
            [
             0.1111111111111111,
             "#46039f"
            ],
            [
             0.2222222222222222,
             "#7201a8"
            ],
            [
             0.3333333333333333,
             "#9c179e"
            ],
            [
             0.4444444444444444,
             "#bd3786"
            ],
            [
             0.5555555555555556,
             "#d8576b"
            ],
            [
             0.6666666666666666,
             "#ed7953"
            ],
            [
             0.7777777777777778,
             "#fb9f3a"
            ],
            [
             0.8888888888888888,
             "#fdca26"
            ],
            [
             1,
             "#f0f921"
            ]
           ],
           "sequentialminus": [
            [
             0,
             "#0d0887"
            ],
            [
             0.1111111111111111,
             "#46039f"
            ],
            [
             0.2222222222222222,
             "#7201a8"
            ],
            [
             0.3333333333333333,
             "#9c179e"
            ],
            [
             0.4444444444444444,
             "#bd3786"
            ],
            [
             0.5555555555555556,
             "#d8576b"
            ],
            [
             0.6666666666666666,
             "#ed7953"
            ],
            [
             0.7777777777777778,
             "#fb9f3a"
            ],
            [
             0.8888888888888888,
             "#fdca26"
            ],
            [
             1,
             "#f0f921"
            ]
           ]
          },
          "colorway": [
           "#636efa",
           "#EF553B",
           "#00cc96",
           "#ab63fa",
           "#FFA15A",
           "#19d3f3",
           "#FF6692",
           "#B6E880",
           "#FF97FF",
           "#FECB52"
          ],
          "font": {
           "color": "#2a3f5f"
          },
          "geo": {
           "bgcolor": "white",
           "lakecolor": "white",
           "landcolor": "#E5ECF6",
           "showlakes": true,
           "showland": true,
           "subunitcolor": "white"
          },
          "hoverlabel": {
           "align": "left"
          },
          "hovermode": "closest",
          "mapbox": {
           "style": "light"
          },
          "paper_bgcolor": "white",
          "plot_bgcolor": "#E5ECF6",
          "polar": {
           "angularaxis": {
            "gridcolor": "white",
            "linecolor": "white",
            "ticks": ""
           },
           "bgcolor": "#E5ECF6",
           "radialaxis": {
            "gridcolor": "white",
            "linecolor": "white",
            "ticks": ""
           }
          },
          "scene": {
           "xaxis": {
            "backgroundcolor": "#E5ECF6",
            "gridcolor": "white",
            "gridwidth": 2,
            "linecolor": "white",
            "showbackground": true,
            "ticks": "",
            "zerolinecolor": "white"
           },
           "yaxis": {
            "backgroundcolor": "#E5ECF6",
            "gridcolor": "white",
            "gridwidth": 2,
            "linecolor": "white",
            "showbackground": true,
            "ticks": "",
            "zerolinecolor": "white"
           },
           "zaxis": {
            "backgroundcolor": "#E5ECF6",
            "gridcolor": "white",
            "gridwidth": 2,
            "linecolor": "white",
            "showbackground": true,
            "ticks": "",
            "zerolinecolor": "white"
           }
          },
          "shapedefaults": {
           "line": {
            "color": "#2a3f5f"
           }
          },
          "ternary": {
           "aaxis": {
            "gridcolor": "white",
            "linecolor": "white",
            "ticks": ""
           },
           "baxis": {
            "gridcolor": "white",
            "linecolor": "white",
            "ticks": ""
           },
           "bgcolor": "#E5ECF6",
           "caxis": {
            "gridcolor": "white",
            "linecolor": "white",
            "ticks": ""
           }
          },
          "title": {
           "x": 0.05
          },
          "xaxis": {
           "automargin": true,
           "gridcolor": "white",
           "linecolor": "white",
           "ticks": "",
           "title": {
            "standoff": 15
           },
           "zerolinecolor": "white",
           "zerolinewidth": 2
          },
          "yaxis": {
           "automargin": true,
           "gridcolor": "white",
           "linecolor": "white",
           "ticks": "",
           "title": {
            "standoff": 15
           },
           "zerolinecolor": "white",
           "zerolinewidth": 2
          }
         }
        },
        "width": 1024
       }
      }
     },
     "metadata": {},
     "output_type": "display_data"
    }
   ],
   "source": [
    "import plotly.express as px\n",
    "\n",
    "# centered = subset - subset.mean(axis=0)\n",
    "# U, S, Vt = np.linalg.svd(centered, full_matrices=False)\n",
    "# whitened = centered @ Vt.T / S\n",
    "\n",
    "whitened = subset\n",
    "\n",
    "fig = px.scatter_3d(\n",
    "    x=whitened[:, 0],\n",
    "    y=whitened[:, 1],\n",
    "    z=whitened[:, 2],\n",
    "    opacity=0.4)\n",
    "fig.update_traces(marker=dict(size=2))\n",
    "fig.update_layout(width=1024,\n",
    "                  height=768, scene=dict(aspectmode='cube'))\n",
    "fig.show()"
   ]
  },
  {
   "cell_type": "markdown",
   "id": "4cbc4d5d",
   "metadata": {},
   "source": [
    "# UMAP (White)"
   ]
  },
  {
   "cell_type": "code",
   "execution_count": 16,
   "id": "b22f8199",
   "metadata": {},
   "outputs": [
    {
     "data": {
      "application/vnd.plotly.v1+json": {
       "config": {
        "plotlyServerURL": "https://plot.ly"
       },
       "data": [
        {
         "hovertemplate": "x=%{x}<br>y=%{y}<br>z=%{z}<extra></extra>",
         "legendgroup": "",
         "marker": {
          "color": "#636efa",
          "opacity": 0.4,
          "size": 2,
          "symbol": "circle"
         },
         "mode": "markers",
         "name": "",
         "scene": "scene",
         "showlegend": false,
         "type": "scatter3d",
         "x": {
          "bdata": "GrGVQMMcO0Ht78I+/YU9QRRfHECYdRRBe2A6QanmTEEltYw/BQMzQefCG0FCEg9B8YCOPjo5AEG2T31AQlGVQMXEqUCi7iBBQW02QDWfJb08d+8/NsOvQOrUNkGgIOFAewhMQWtBxUCDXktA3nehv2nDHEFMDVFBadEtQUfJtUCv7A9BhKDOQC+7L0ELf7RATPYWQRnsSEHgSkVBwSxNQW26nkCfczZBlcdBQSIcob8x+4BABcZ0PzjljkCHdHxA+mKJQCIKtUB5Xk9AVoOUQDJtKEGbryC/IVc4QWpynD/sCUlBBTj+QErz9kATCTVBghBBQbl2LEFOEjBBP3i6Pw0P6UBdKMI+AFiwQBGqJEF7bew+n0ORQKPegD/rz5E+Fe/EP97+JkEUtTFBXrWXQPJbMEGJHHU+5JJMQJq/PEEoGipBB1eZQGPzvUAPpP5AxFklQZ00DEH1Mq1A56MfQT8UJUHjjaBAvhcsQdrKWjzsbbJAm+alQON6iD9j1gVBTTRQQWtolECeFMNABlFAQaz6LUG91bZAjI3zQNZA+0Df/fJAzXPxQGIbN0FwnIG/GjIMQXZTr0D7RvpA0kG6QM42KEH/zw1BqKWmQBS5GkBX9vNAJbSSQBvxLj8NCC5BKBckQQT6KkHX1S1BmkE7QUHAQUE/uMlA/gcxQQSHL0FsXRRBTRckQXZ1gD8n+yRB8AUFQRh4LEEa1cZAbU0VQR7hPkGDGy9Al1q9QIJKh0BBmiy/CUEUQLb9L0GN0BE/5EPDQNXdlz4l2U1BcRWmQK63TEEDwsJA9avRQIyUKUEnIvxAAwKTQI6x3z801MxA0b6uQGcL7EAad5RAbSXRQPkGe0DgXLZADPcwQe81nz6541BB5S38QA3HoUCPHE9AdsYNQclEkEDGT01BEUDHP9h8pkBigEJBbtZ4QJmV3UAfFoNAwozNQNmiy0AD27xAQd0rQXo6VT8msc1Akfs/P4uW6kBll/5ARvg8QdKf20BrgydBhlaQQNh8bUCs9IxAXdrSQPYq9D/KiC9BoHsmQScVCUBLWCpBBSqBQK+VJUGb5C1Bwr4cQcsFtz9BeEVBV0ErQTk9HEFAdqlA20ccQBpx5j+oachAaAqUQDezqUDnejZBIvq4QNTSOUE4dRxARwSPQG2S3EDG8phAm+CtQO4ZL0F3FjtBdd4OQCI4SUAvcj1BInpjP/jtPkHnamg/WRfqP5vTg0BOpThB+AYYQTrBQUGG6IS/Z6ahQJhdLkHb2i5BYjOwQLHmLUFEWkhBHnXlP1ykOkEsXc5Asp2+PkpULUFe50JBHRp3v0o1UkG+MthAq1HIQOBlRUEIlrFAJTgMQW/1kb8yRRBB7Ss9QSENkEANAUw/djSfQN7DekBZHilByz4TQRQ0SkEHvJtALZ9HQUmSOkGdXARBF75BQRc5SUFQFC9BSOx+P3FMjz+IlSxBim00Qb5u7T+0wDtAaCkmQeKkVEC4+z1BBE9TQBn9BEGWu01Bcx2CQPc4LUEMr0BBcTmaQG8VTUFr9T1BxDg2QTL3LUHDXs5Af2ZRQUaNSUG3+4xAMgMQQZg/H0E3L0lBiPM5QYjzQ0F+9SVByDcQQcZiAkHNoZlAFX1PQTa2g0C7QzxBBRF3QMA/LkEaxyJB4uxOQfqODUGdL7tADWUnQXtAQ0HQq4e/rBs+QZAPO0GWbztBNc/EQJ0pRUH77oJAwdRIQUMUjEApQztBPKyoQOdbP0GSEwRBdulNQQ2DDUEwuUtBZi7jQK28pkAIyDxBB9QxQc+TkEDNrQNB63CyQEyg+D8aiT5Bd342QUEuHUGUfy9BEpW8QKPpNUGs4J0/4IzVPwOoMEGt0EJByIUiQT7QvEA8SS9A80CLQIXjH0GGPi9BsRW/QDXO+ECOmMlAnWPNPDBATEFbN9NAf4wqQZr8aEA8l4s/KPE+QWKzND8tPTFBOnZDQb+wN0D7JE9B8QINQTY2fUALUEVBF3tMQUB+gUDPJkc/VfahPp7uwECPChJBeQKFQO8XPUFMyipB30oDQXnR2ECj6ShBhz4kQcjFqUC6mK9AjZWRQFKqNkD1xkxBsvIZQdEcw0AxT0hAPsklQaxyhj9lYj5B7QWHv4o/MUGnM9BAdEYoQfSwTkF9egFB84D5QJjtMUEMfDtBFWG6PZO510DpJpVAVOEgQWMD70DYXZ9AHxCnQMRjkr6T6LNAN+e5QNyJGkH8Z9hAfogWQYjbQ0FOOa9AMiBIQQ3VPkHIa4hAqRK7PzVPPUH/VupAC3SLv+CrF0FSEbJA5a86QTEteb80U05BAXA7QVHbtUAdSUxBn8IqQQClp0DjX6hAmjAUQPeEFkElLUdASohRQTPdq0AYvdFAlfcrQf2iiUBjMR5B5pVCQaLNGEB1nT1BVlkpQTDIPUEF7aZAX9uJQEKRqEArLDlBZgYwQUySTEBfRClBJWJRQVQgz0Dj2ABBQskCQecQQEHWywxBWgE6QcXO6kCnGLJApSskQSRfPUErWrw/l6ClQElOIEHFaRhBTIM+PwSaT0Cz0mNAuKBHQRpzS0HxW1JBM3ruQN9ZtkBhkspAB+BDQZqUS0G0mzZBIVmeQKNzQkE6ZTNBN3BGQQbTtEBxZmNAGF+IQMTcHkF5oyZBzoCoQDwzNEE7GzVBEIJEQMq2Q0HY2Q5Bk0LLQNgvbkCK+r9A7f8CQW2v3EASeHRAqkNqQBCwREFTM0VB/3oSQYYXOUF+TyhB1zZVQNlmo0DEbhpBNjs0QTCyq0AeD0RB2S1MQUOMKUEMyDBBR+sOQI6TTEErzEBBNFmCQFmqS0ALcDBA/FAWQcqALUGIEjZBGiOIP9X5MUGg9C1BGblAQRCyRUEjBy5BAac2QZPdV0DdqbJAA79AQaptTkG718BA8AM5QSrb/0Dh+OxA+xhMQfs0PEHiN4JAjs0dQRSg7T/vS0ZB8cYWQWGgL0GMlhdB5lpGQVMlYECVZjJBhXRhv6i8qkDgNjhBB2TAQLs/bkDq+MBAAQy1QJj8FkGrXiZBTMe0QNvgP0EO/VRAinXZP1vwt0DIRARBASScQE1fS0FVNjRA5u+tQJxcX0AJoLFAYq/HQPXjLkBcMTpBTpHsQO6noUC3umtAHG83QTIOBkFBEjtBn/JEQVugM0EEPOY/04c6Qc9QNUFiPYQ/ohBRQTySokCuOE9BoyRSQVZKMkHO2xhBIQKIv2icBEGg3BlBSf81QbLpDkFVyjtBG/45vjyAxEAEpUlB4+0nQVq0QUAVPSxBNK9QQa2VIkEIrcpAo9xCQafkuz+bSypAlAG9QBSvMUGApx++wYopQZnCeUCEFDxBVbc+Qe/TfECAWClBTaa8QNJpiUBnJppAcfrMQG2VCkEYpsxAsL2qQOP3LkH8IIlAG3d4QHmGMkEkMbNABHfSQGfI+kAS2zFB2Mq+QLskJUHQ0p9A7/qGQA8HMEGepVFBDcFRu82kgr/JKUBBGMMtQRS2Pz9p+vBAnlKjQL3VKEGwMYJAf5otQV7cSz9QB0s/7capQK2AQEG2UARB/WQ1Qcpdq0D5zSxBQ/SIQPMoOkHm2i1B0JFUQLSHOEHyIkpBjqdQQSephLviYok/N2m/QOyhT0GDmD5BYaJHQb/pQUHUCCxB8DZ4QNwwQEFEBE9B1SY7QSeTlkAP8KRAEer8P+PieUB4FjFBaVVRQUWLikATG4NAqao2QYTvLkHgnx5BLC0gP2OAN0HX0UJBRpFDPrOoxEAYjeVAnFZFQO1OLUHhEWBAT507QRsoOkF6RyFBJCc6QfZQQ0FwHu2+xZEvQYpU2j+1El8/ErOgQGmC7ECS0rRALUsnQcu9nkCyOzVB7SQoQUTyQUEc+EBBywkUQOyTIUDsdCxBPeJNQXgCQUECMhlBtZ07QXforUBUDIBAWX9JP8bqUUHZRx9BUldKQUExQUGfbsQ/vqk/P9FfSEHgKitBx78yQbITQUB7AaNAnBoLQYaIEUEdzn6/nqcgQSyzDkEPUj5B7khpQMUyBj/58ENBosamQO4wVUDpKIZA6uQEQS7/JkCRBB9BJNbrQGTOJ0DuG1o/6fuTQDidb0Cff4g/+LlCQdNxKkFCsutAJLUYQeepPUHVaTZBIgfnQN59vUBIzJhA4tGlQHJ2LUHB3pxASg2/QCt4q0A2ihxBEKNDQYquQEHCcYlAg0J8QId+i0AcRJRArQMxv5MlE0FhPB5BQaZHQUZbLkFyFL+8w5RNQfntLUEP+SJAnXhYP9VxpEA1t/pA2cmKQLp1PEF04fVA7WFGQY2ZhUDkLjc//qO4QPhAGEEOYp9ASqtHQbxrjbu7TzJBGEL2QJfFVkBmaxdB2l4yQXiQRUF+0rtAxYIjQd3LF0Fler5AgmyJQNDfKkH/xyxB4s8hQTXJEkFVOdM/2ywqQZzKQkG7vXZABe8uQb3kL0E27ktB3WA7QW1YkkCN6B1BswiuQMAKOEGK2ZE/JL+wQMkrNkFXFO1AYzzKQMjlPUGsjBBB6fBJQZhUlkCaTlpAI9U0Qb/por/Wka1Ad2QDQcBfyED5/CVBvD9OQfk0G0HOBzFBmFMWQVNfLEDolbFAwfzUQHEMJkH9IktB66h2QIWyMkHF6LJAtgwPQUDTqUCa/zVBFCmKQEYtPEEYDUNAgvxEQUNgL0EB0DdBhJpNQQi2S0EqGCZBxHyVQNzbMEGSHZZAEIiiQIeaakDlZzBBEcU0QbZ6Jb3bSF1ABEAgQQ4JrEBg4AJBqMW6P8tGwUCCkDBB+qioQNpEBUFqfNk/nylQQQXfqkCNRcVAvfNEQOYCHkFl9kFBstECQUempkC5paZAHI8oQTdwPEHQ7LdAoOM3QZ4cOEFGWjBBUBaLQJaHM0FJwNFAOo4oQZ6LJEFeVyJBWBSDP58mQUF1IalAMgwtQY58JkHz/zhBte6jQD0++EA/YShBu6siQTbjsUBxiylBbK03QRTBVrwBS0NBL9iDQNKAUUFiUbJAX9wvQZ9jiEC/IqtAZE4gQBJ/KUEA3sRAkFWgQPu21UAOSD5B5zwRQbvmKkEIVilBhzQ7QYg/TUHkxE1BWeMqQMPHBUE718Q+oMCvQN7ONEFDbyxBYlCpQJk2qUD8lStB7s4mQZ1CQkG4PZxAGp2nQPHvPUFspk5BrcQyQSVbQUDnBTVBhMeuQCuFUEFalzNB3slGQfIdS0ElgDpB+xCwQN3RnECQZ0dBC/PUQCZDq77WnN5Axh+hQFm5UkAhfwBBfg+fQK5YKUGswiRBvG8qQdUlmkD1hz9B2cB/P04iREFW3HO/Tow6QaUvPkEBI4xA3Tl/QK0YI0GGLwpB+xKoQGeseL+YoR1AbiFBQSvf2T8GV4hA5fCdQPC200Asp6hAUup/vycvjUCcn6tAJ7rDQIVyNUBCO0lBjiycQHYFTUFymZhASAuJP3syLUHDcSxBnberQOouSkFbPDxBjeRtQNX08UAg2jNBhzMhQa9HSUGS3u1A4CcwQWhoNkEfBpNA9ACXQNoUh0Bs3wg/9myJQJJOmb/1VERBHYZKQWXAEUDybvdAMCqIPjKgHT/9pyC9WIVBQfQAaUBzRjtBNCuqQOF8N0HJmaRAC2w9QfmsDkHwBzxAvJxRQY7fqkDa6iVBN6I1QVin7UAshIo/smIxQaK+ir/QGg4/R5PEQOoQLUHyoklBrrKoQGX7RUHeSy1B1Sq/QLWNrUBT5ERA6sFBQQ94PkGaujdBhN0gQcFzwD/VCBhBfS6Hv4iHVUCgoVFBrEEpQTKKO0ERQDFBX2J8QKVezUD1iK5AWTQ7PupXzkBGXk5BB+49QM+LF0FWjgtBFa0UQBsgBD/dqYVAsJwZQKfHTkDJBWNAIaqMv9P/UEFEEElB0QVpQBTqPUGEfchAq7UtQTq2NkCq1i9B2d0hQdwToT9f9cdABFg9Qbm9QEFj6YdAqok4QYHzOUA/HthArmJQQeuWOkEUJrs/0+vAPvxJmUBP8CtBge5DQTgDNkEnprxApvzOQJfGIkFsbupAB8M2Qe0yrkC1XB5BFXRQQfWPUkB1+SxBsAg1QczwOUFo5sdAtPq2QHq/NEH5JiJBF2BHQZLeMkE+Q45AheHEP6NyN0FQq0xBOu5CQUJfp0BbWI5AwDI4QSuFLUEHy9ZA71ShQEkts0DaXypBPTsIP7TPJkH0i09B5t1CQahm6UADmDJBE2QWQVSUEkGqIcRAyt43QVcYTEHW0uxA5uqLvy6FKUHmjzNBa15CQJ9afT8iaUNB0gevQAoAor+BCCxBXOLYQPbON0GrFaW/ZlJQQc+a/0CE0LxAqeJAQcxpIkHZPSRBYrBWvwI42LxWbwRBBSgsQZCCREHHuyJBi6oOP23MIkAR3SZBntZdvypukUCxH0JB+zwxQe4aLkHTSRFBJ5crQZgyiUAXjzVBRCDFQOOm7kAgvjBBLY/oQIsODEHV8/5Aez9RQatqC0G+FkxBxhSGv/7pS0E1MIc/DEjVQPUUK0Hp6jdAIontQFqrTEFh6SBA6LYOQVFwOEE3+q5ApW6hQEaPvUBPZDxBo1NJQYmAUEFu9xA/ncw6QUasr0A8uCtBp84rQUhZj0CK5UFBvBKLv4KgDUF8pFpAl92nQLTAqkB+pitB4+s+QedztEC4U0VBHwNRQSC3KUEEHyNAJWj0QFDhoUCmxTVBtjR/QG06PEFsGmk/FzLNQL5yMUEe00NBwB5LQZBBqUCLMDFBBRs7QSuZR0GQsShB/n4LQbtTF0Gak0ZBcTM6QQr6lEDspkhBJT4oQSDSC0ELVQZBb3mVQOm1tECXmANBr+UcQarxOEB9PSNB5PUbQQt/rkCFGyFBsGGkQH1EQkFHKi1BTNKUvu/3KEG9C6dAL887QXU/KUERILtAHYw/QX0ROUHNEKdA5SkjQSM6Q0HFdz9BNxIrQYJmKEH9lqpAyu1OQZWvKkE69RZB+L2pvqlRPkF4qeQ+E6DyP56ZKUG+EU9Bu2CAP9ZNB0FJNi9BcfE1QeAYiUC4HJa+YgH/QCISkkA+bBlArZogQBRahUAVA5pAPZqIPyHiSEF47kFB9TKnQME4o0C7tOxAjnCgQF4aNECfWRVBWQAFQYk2lr/JnZpAS1s+QexxBEGhmDxB2JTAP98y7ECGDj1BxPxAQf+DKkCKTCpB0SMxQUyL7EAK0+dAsVuXQOvnJ0HMEFJBkSnqQPUTQEEaky1Bn0EjQL+/RUHOjqhAuHY3QUmDtkBlwpZAK7/uPzdCIUHcU1JBVgBBQd7cKkHdxrRArh4lQQ4GEkGFnjA/1f4LP4eGQUGSUCxB3LsXQX+/KUGPGK5A4sFWP855KEHZpiFBtc8WQcprPj9aZyZAUJ4LQaUuM0ErtjVBV+YLQT5sPUHXGPFAlQUSQSB0JEF/xU9BwGKDQBPpUEG4LSFBq/8wQZ3kgL9yt1FB6mJDQU3bO0ESLypBkS5LQai6pUBGxytBcahAQGRLLUH2yEpAgkw9QUDcEEDWjmc+yWmlQLPOXkAEaY1AdTueQE4wLEFZOfg/w3nNQKE7BEEy1ktBRYwZQecQO0FctYlAixxFQcJvTkFPW8pA2C4vQTBdG0GapNRAn21PQR52/D1EbYpAMvo1QRflPUHSSURBY10CQCwxNkFZsZNAwLYEQU4njUAMF5JAUjHSQCe1OkEtmlhAi29qQKZTLUF+eO1AzJLcQBj6OkHbsj1BqCdHQT4SMkEbVDBBEoMLQU9MP0HghDJBfdgMQD/5PUHb8kJBVsM8QVi2TkFyzexA+gHtQJ2AYECCap9ADJBOQOwyI0HUn6VA4mSbQJ1jvkB9O5dAKeQ9QWpYeUCqPHy/snuKQDfQIUGl4ONAvZI6QG6QJkEnbT5BSkU8QdQzuUCcFCJBZrQ+QSO9lEANDeI/0+MaQevmnUDCwShBAhUyQTj4CkHDD/9AGPMxP+0OHEESGJJAey3PQHcTHUFVNpFA6eGaQCULpkC3DM1ApSkwQSR0SEENEaVAfLY9QWjbNkHY4LdAEXV4Pyi7+UAltj5B1MkbQcxTM0E3Zy1BWbQtQUU2RkH8FqZAjXYfQcuRjUCds2dAGCShQAEcpEDMrTW+1HC5QJa8vUAA+wNBBvONQD9pRUF8UjFBcSYnQVvMq0Dqmy1B54E1QL+1PUErgUxAmc4oQUCLEEDruj1Bna25QICyIkEFmpk/29z9QCh8tT+ZODpAu68hQQ4swj/3CdtA+h60QJwZM0ECuIFA7YI6QasmykDGkyxBNsOtQI6hqkBshz9BrwCKQEvEPEHGQz1BZzfXQIhYSEEXl5VAY6KGQMGlNUHkRw1BosoOQcH/qUCVrTa+VCUIQW3k3UCiok1B/lY7QS7DQEHMCL1AXsQ6QWCLO0ENbIW/EE7nQFD690A4DDNBIftOQQpHx0DsNL5Ay5xFQaOvG0ClSUlBQcLGQCBjYb9wnRtAf/FZv9lvP0E/Yj1BvOi3QNSV7j2MM4Y+CbJOQU1Xs0BsRpZAeFI6QS2B5j9VUo++BzWIvzO3QkGx3LRAbmFJQarnOUBFizpBdOO9P/63LEGk1i5BFDVeQJbtkL8sXrZAeF47QQyHkUAuuJK/sNSpvzxcWkBrQSBBoF9OQbubF0Fu+xNBwaCRQKRpr0B73xZBcSSzQI4dwUB//j9BmQHsQBwZVECAnzVB4g+zP4krOkH4F1JAuRGVv15dyEDtc49AuX06QYepbUDoBolAr0M0QVrvqUBA8jVBtuovQegK2kBObh5BwVlSQWWZ8kDDOJtABJOdvzYiM0EJtUxBDl7KQNjzFD8yOi5B4FDlQGDvib8qoDFBiVc3QXRmK0ENeRRBi3XCQJqmL0EoF31AqmgkQVgym0AdImNADq2GQDk35kBBNXlAHk87QdTls0D99OE/oRwpQUifi0A04pVAEDMuQVAJ3T9DSG5ATshCQQ6qP0FWpRFBqqFLQVYhMEEmNzpBZ4TQQNppJEFOjjFBlGUyQc3mlEBrZ4hAW4C+QLHTRUExzUdBHYFLQVgovUBARSpBjZMtQc5gtkANpShBCWZPQR/YUUH8BUY/byIgQdr1lECvoUVBTj83QfoMtkDHqz5BH0zHQCp1LEEmeihBokWgQIvQdkA6p5pAm1NFQe2a3EAuScQ/v5CmQDTGlUBeK01BbUp9QPH5uUBwDYdAkAtNQeZ8N0EhiCNBDwMGQWjSSj/P8ixBw4v2vlZXk0CAxx9B/gAsQTgkZb7xiy1BdvWzQGdv/0ABu3C+2Y8HQbA9f0Bl7DdBZ7giQN8rQkH9ojhBcKzvQKBH30AHk6i/HIg9QVsKkEAXaSJBOmehQLNyFEHScpZA0evKQFC8n0AJEU9BfN/wQCl5KkGkpCtBlJiaQFpvIEAZCidB1b+xQJIRs0B0Fu1A8qkIQczfPUHK6T9BbmZJQHlEOkE1nhe+hOVLQSLWFUHSVydBBlGPQBAZ3b2YSCFBoRo1QfgPOECLVopAJfYUQabetECq70hBf6wCQYWrJUHWczFBEXu1QOUqDr4PIjFBDUgPQahmM0EeyjlB6t+7QLYTa0DrUytBK8AZQSGhhr8SVo9A+7MxQeQ9rT+jvGlAn6TIQFCXMEHR+zVA9RQkQVFtm0Au2pJAF70/QbjCdr/KGZ1ArwRbQAzLFUGoS5RAjGIIQfh9QkFxu4y/s3FKQZNVD0E9uLhAht6sQMlxhkDYqQ5BH5nFQHBgw0Ao28FAbZo4QTqnSUCztMm7+tQuQSvrKkHVpU1AuboJQTm0XEDjIr1AuOhDQQEZS0GtRS9BQvCgQHFeEUEmHpVA2+vDQH34PUHSBZq/YYEJQAn6P0EIOi9BZLdjP3Z0DkEA/ZxAywzXQGsaqUDlKRBBCYmZQNtCAEGBvn1At9glQcEDIUF2xslAZA00QVDXN0E8KzpB7JkyQQ7t9kAI6CRBT59DQZ+2lkAFScdAU8ANQZXcEkGsGpZAfckwQcQNQkGVgv1APv07QQOjmUC7NRVB07s9Qa6gD0E8MjBBz3wdQIDEjj/2wSdBS40ZQSBGTUH3Ln9A01FRQSPVLkFi9y9A7/HRQESjIkHLbcZA5b4RQaaDKEG/MylBg3NOQTy6OUFvqoNAUT2fQJ73LUFaRGxAzeguQXfQOUGZYTZBv5zYQOgKmkDdLElB9tXzQHueDkEqhjZB2vgGQfydVEBoZUVBitmaQBQ70EDvHytBpkslQfSJAkEAZKM+zq9KQQ2aR0Ho95lA6LnTQArivEDQ1aJA9Lu2PncUD0HuG1FBX+Y3QZ+MMEGtoSlBQj+7QOpj6EC6ZtFAtYsNQU00IEGCgjtBw2tBQS2Z/EDlQ4K/8AYvQVe6REHYQZhAv1/WP3QVzb6R+zpBuNiYQLhkIUCcDCRBaARMQagkPUG2BLZADTVOQSSJVj9M4gdBX0WVQARtMr2kTVBBc1sqQZfeIEHH5Ic/5n4pQdBKgkCYGzRAaVSqQGrCVkBoYYNAlsLTQOlFM0Hpj5pA+yMfPxo3TEGgWtI+ENgpQXnpqUDF5URB7qhMQVBULUEPNzxB8g8BQbfeBUGrQP1AzVQWQafy/UBMTdFAh868QFwankAZ/R5Bpa5CQc2RM0GCl6ZACfdJQQDhIkFQETlBDvdAQUMwTEEO6EdBgipAQZ8jIj+WQEVBvm+OQKFVPkFjlCNB1VkzQRKYvEBk13e/1CgtQcVmg0AVtz5BH3wJQZXK1UA+DkpBaxN8v9Mbej83cglBxFk+QD09KkHs+ipBAuslQcNvF0FGrLE/Zx+PQPCzz0Cp44dAFGxBQR2yEEF6yChBBfY+QR8lUUBCMylAmtZOQURVUUFe/UVBZMeQQFtBJkGmTBRB945BP/qnsL5vcJBA14GdQFz+9EDCGKBApLerQAqVO0EDqkhBt9utP3bhRUEBQq1AG3wmQXp2xEAXpFFBy8KvQI82Dz+c3TxBQ4MoQbbJr0Bo/UZBZW5KQalECT+AKwBBZtCoQN3vOEE/NhRBDXpEQIPWOUEDbU9BOlc+QGZetkA6oDFBJb0aQc3bi0Da+Ke/xM+pQGMWOEDUFtNAOkMyQCa+REGpUa9A0V+PQBbKjECA0h9BwIQ1QWhQTkFGXDRADyA+QdS+KEHuYsW94debQEHMs0ARfS1BQHBXv36vQ0FExyBBBMU4QFmvOUH0qiI+GV4RQZmv0kB56oNAtA/FQPgtR0H6Kko/9K8PQSHoL0GuFYNASLELQU5INkHJWTtBRNCRQARuKkGsB0FBVKhOQUIpQUE3QDpBIYwrQf7hh0C2Paw6uknKQOiGL0FWFD9B7K6eQBHoW0BrsR9Bvp5AQfvKQ0ETpV+/fMQ6QQBnwkCVCBNAFxBQQWTXNkErFhxBVyw5QGfomL88Ki9Br15KQSPgTUHyVLNAFL3fQMOOUEFcBJ8/fvEvPkXyUUE3ZjFBnkTmQC7gw0BVGptASRX5QC3+QUFMV75Ak+0AQRGvZT9U+9w/u4azQB/RPEHF6QxBEgNCQFOlTUFLwaFAfwTCQGea5EAinhVBZ19EQZSiUUHf6SxB1hlBQRotOkH1xjBBMpVAQdDHE0GEfjlBHDDHQF9iqUDs+ABBcegYQaZbs0B5kvtAL1vhQC31SUHRYcdAMhgdQCWVjEDqlytBLiWKQLsfr0CVTsxAplmpQLUFTj8E05O98L1ZQNMgeEAVsStBTGmMQKlMMUB50uS+wWCCQKD0g74srTxAYSKlQCTcpUD5ZaxAGP4rQUgkhkAqIbFAXlA7Qd9JgkBfxo5A4V1JQVOfDUGPrAFBrSe3QKHdtkCSpQtAoH5RQVX9QEESwCVBIzR+vzSogECpMHNAACk8QWb6qkBleBxBbYXrQE/Hr0CRtJJAZp/TQKhKx0DMFEpBnfSTQBd+2UA6AipB4NKfQELEFkHmdaJAwuBIQMnAHUHvvmtACCgmQb4NA0FPih5BvxUuQSIBT0H18CdB1vw9QOqVL0HoTtRAwbW+QPWiS0Hkl44/VURGQWJcwEBsRdpA5wBBQagKBz+KwBBBxUZPQfhmEEFeTpy//rK1P48u/UA3ySJBenkCQbCHP0EGxKk96ihCQQ4gQ0H5lsZAovfWvcJKJ0FEL0NBOac1QY0kOUHgTmtANUfyP9YBW7/o4ElAOGXZQE0xSEF32CpBYiA2Qf3cDkGb/o9Aq7bRQCe7NEH6yDpBlrmvQPMYO0H7/bJAKm05QbXpPUGkfj5BG9QOQbpEkUDYxkdBvPQpQUOyO0CQ7E1BtqkXQUZpO0GG8i5BGh3DQO6QSL+I6ZFAOfmwQOOE4UDN3KdAYXI1QUcYwT84XiFAxiFIQa6JNUEVRDpB+BY9QPqDgkAb/3VAAFmWP9K7O0FBjag/6EI0QRnUDUB12Hq/B4e6QHt5YL8DyD5B2gdSQepackBPO9xA3cNPQTCdRUHgui9BsivDQIQuwEDijNVAbIG9P4KfTEGnLU5BbJOMv45LMUFRhIhA+IQ1QZNrM0EF4BZBEHoBQeRKLkHCZilBVBsyQbcT/UALtq1A4NklQSV71j8I6SRBu1JFQSSbD0EMOhJBiUEpQXZXr0BnnOtApVu4P3jNQ0FfUD1Bzfw0QQchw0AKTR4/WodFQUp/jD+2HxU/uMpUQEAqf0AiaitBsQctQfLCIUBGHyRBiUqeQCawt0CisblAJtA3QfZVmkB/YStB/uKaQH3QokCBNUJBlAblQDXzAUH/0UdBpFiEQAm/TEF2w4ZAwlluQHCMGUFzODZBuJEYQR8fpT/K4SZB4fghQABPsUBjKahA145MvK+5MUEgQz5BPmhaQPZUv74DPlJAlz8IQTAlOUENGptA97KdQDFffkDlhylBAT8+QVtwokDYyQ1BjRggQVMnNkGwnoa/soTyQKCzLkAqnYhAHVRlP3t3P0F3ozZB9ILBQOdEy0CVA8E/tb9CQW9ZwkDFRfFAsbcmQIbXzECGoL9AHqOsQMKgGUGZJz5Boe8VQRRLlkBajLtAPeyiQN2jRkBGNzFByzRCv5CvQEFO5VJAGCyqQFsvpEASHQRBWQXXPyh8UEFerK9AHp53QMfGK0HLMwdBXLojQV2BkUCyuDhBUvLCQAoKskBp1AlBTtUqQWJwrEAYCRdBo6MoQSpeUEFyUJRAYb4aQfhfSEBi5L5A8GA7QZLBHEAQkFu/mMc6QQtcz0BKso1AWjYiQKptOEFDLfY+joRDQTw/UUFc4DNBLWYoQcPdIEFHWS5B4vYyQU3pHUF8EvRA2e8iPp2PwUCPekpBD79FQekOkUARvUFBbt8+QXJyKkGd7ChBmjOfQP+5PUGG7jNBi60EQcrsTED5fC9BWnWLQHFnEEHzWSpBAK2FQD+6ZEBZDbtAWoLAQDxwnEAS6o9AtQuHv7p2tEBVBKhAfND1QIkDsj/qUxVAAKesQD25kL7GjdI/RtCIQGUHOEFTvB9AIEpDQZoKEUD+Oo5AcdhFQQuZtUDVGTpAftLqPVC1R0EfQcJAlEgyQcjZ7kC3QVZAG40rQYC0R0HrUZtAvVCbQFrnQUFBjUZB6DyOuzrLCEFLFilBbFenO0oePEGEIhRB9poPQV7A7EBdEzNBS4SEv1BbHkD0LzxBgVcxQE1DyD9OCi1BQbMiQen41UD/1BNBSSikQAP2K0GCX1FB/FBRQYWWP0EupbBAXt3OQE0NQkGeCLJAFhgrQWKvPUF82SlBAzzmQJ5u10CvV6hAysuEv8brlL8C/tdADEEtQYEhEkH0VgZBjEZDQVnFAUEmivFAI3bAQJHwsUCVJiNAemsRQfGvMkHCRkhBMJnNQHcOkUB32fhA1cVRQUbfKkHxTyNBnDilQMxhSUFDAD5Bv8k7P8XNjUAC7h9BeyDpQFAv9kDh+/hAGJU8vyLSsEAL1E9B0VEtQNV0/EA6puVAcHYNQWWzMkAs+hdBeNY6QT6IpkAjbRFB2NkRQckQxUDc5rRAwjwyQc4shUCWHkhBRINDQW96PUFe7DBBviw7QfTMhr8iLTtBicc/QaCEJEGg/mE/1kIFQULBH0GMNMBALQEEQKFebkBpp71AsaEFQfbgPkEPMkpBuauBQDXPx0CdK8JAbIQQQDRyrkC/3L1A6FQeQYEcKkFJZb8/QogxQagTPkGNkylB9wa9P41zlkCSkEhBfDFCQUlg5kBhkX9Amko9QYD6q0DcCdRA9CsMQYg7Q0G8Mj5BXEu4PY+WT0C+VkJBq+jYPgZw8UCU75g/BH8xQeCOzT8YixNB2u5FQP+FF0DrzChBzuccQPQrBkHE4itBT01EQR8NJkEgyidB0PgqQWClJ0GH/ARBECqoQFRriUDCwKFA3GZAQXpUj783zExBY1WsQNbqi0B5RhFBxeZ9QEAsPUFs20dBIRnFQB+2KUFWnDdBX9q8QLo5l0BfUTQ+0acnQVIh+kB2hhJB8gmZQCI/C0AykJC/2iMmQW+QLEG85uA9QpASQcztMEEFARxB1GhCQQ3BnkCkwB9BXVg5QbYHjz+tI6hAl2lSPxflSUEgaVk/uJy0QHgrnED5hkNAE44qQTAhGUHrAR1BTBM3QeSXQ0FAKklB1/+fPrXpPT/1YXFAi2srQUu8J0FOhTNBbUx3QE/4HUC1xIZAZzE8QYNqPkFc5i5B6TuRvTMFFUHbvKC/DPb4P0+epUDfUitBHxZDQddIukCgs5pAfcuVQBtWpUBBgEpBmgoiQe3hF0HW5T1Bk8gpQXudQ0CLFlRAsDwoQTqzvUAroopA+pw3QS7VMUHUKy1BCwQoQedGK0GL8PxApp36QO5030ARlsBAD6lCQVfNIUGj6fFAvjwqQUzj3UAwBH1Arc14QLEPqkDzjJtA8dfAQBaZJEFenDFBwOw1QVL/PUGhv+VA8703QbfjSUFbTMZAcjzyQG3zS0A66RZBLEB7QM7VmUB4is1Aop2KQK/OMkG251s/m6T0QJPcWEBWAgBBOnAyQVsMMD9BAYBAuYUmQarjwUA2+a5AbPogQc5Gu0C5MBNBMP/5QKWNJUGu5SxBRy9QPzMEMEFa0MBAQM1OQApIEUCNRYs/xYqcP1R+qECaATw/vKglQbETakDPwJNAVBqQQCA/PEFTdElBmFo6QUEkwUBMLUJB2MQkv3jMhr+2WwlBvJ6iQM9VwUDJb2lAZviQQJ9gGEGKhFhA1G0yQZ7+pUCeUjVBgFI4Qf17ckANZUNBDJdRQaSssECbhTdBIHFLQfeziL9ruixBXDCMvzRLJUBfoC1Bywg+Qe0kTEGVBwBBP64yQNi6N0GvWhBBPWciQfCHGEG7t6lAC78jQb1TAEHb6MFADKfsQCw7IUFLgJtAejyMQOkMOUH7+B9AlUFDP1egRUHPujlBW8iyQGNqdb+v6hhBWDwfQarZOUE6w65AsRqJQHE1QkEpY6JADLFDQQd3MkEfQUBBselSQP0NK0EKnDFBHzoPQRavOUG1VhlBtIu0QCsHFkFpbRi/aTU4QculHEDVZjNBg6OIQHJQuECLoyFBkc5JQcRAmkDqiL5AxRN7QPgcF0AEGU9BHW2ZQKNjF0GjoBRBHowzQX+UubvDAqVAntwSQXhrL0FwMoFAGuM5QUaUEkHYWkhBoOrqQP0tjUASLj5Bw7lOQUOdpT/XE6w/qj89QRoZJEGQ9ztBYfAkQRc3RkHnVDFB0g0rQWrE0kDLr0xBLwc2QXU4UUGlNY1A8U2ZvqNaSL3S/Nw/7mWbQMH+zz4y8U1B9rz/QOXARUGaClc++1bmQMXILDxz1hVAWr0zQX0skECDxNhAkhiKQO9Ov0B4Ms1ABfmWQCu/akC7yDRAH3gNQdRkLUFaYzhBpXk8QSIqo0CiUIVAAc8iQVtD7r5G/yVByjS7QFxJmL+VJZxAzH0vQUWCVkB+vrpAFjlOQUYZQEF0jA5BPMUMQChkiUDdDKNAGyTUQC95MUEami9BlywbQYQNDUHaTbJAGXnDQBHikEBW+xdBth6TQPMl2UCeZtBASahWvrEVvkBLcBlA17otQWRMCEF2PkFBfa8BQRnE3ECrFUi+4yESQcuzCUEr4rY/OXmBQOuGFEGv+BBB0zwlQTBJjD6Fpw9AHCM1QXPRKkFklyxBCbxDQZkysUBwU6E+JkncQKhILkB7D05BYfUnQI8YPkGSl6dAYf9MQfDX5EBU5hZBRevHQPqjyUBI155AVcqrQCutT0ExcsNAToMUP6QRSUGLBVZA+EM+QW0xMEEpW1FBnxOdQF4VJ0Hrm2Q/2EEbQQvFjUBswptAQAW9QHsdTUFEwac+LGRJQCz4PkG2iJdAloqNQHgtN0E/W/RAdnk/Qb8XwkApPIFAiD7yQN9LNkCRjrxAAyLDP0VHUEEJwy1BzaasQGqaOUCviyVBYhA3QWYMY0CJaqtAi9llP0sWH0H62SdBQqJMQQUd2EAMmkpA1v0pQXKVO0GhFxFBPsSEQCeOEEE2ADdA72tHQZz1+kAZSdFADvswQcEPnEAHoLpATKmTQInPj0CxjlI+nXyLQNgn8kBAiEdBFebAQEoX9EDg8gxBHKYNQYrUP0HR41FBFwgOQcKsA0BB+1BBKw5LQd6QB0HMT1BBaGevQPAWTUCFnyhBe6i7P1mo0UCxs1BBZHWsQN/nqEBvfR9BBEUrQT/PtUCU6gdBlELEQJYKDEB7z5ZAcCN3QCv16j+JL1ZADiAbQe2bqUD9C9FAdEpAQcBbU0DLoD1BilsYQQZYN0FKYRFA7643QbLZ9D0OpjFB2eMzQXD2TUEVOD9BaGRbPSqDSEB78JNA1vFwQG8zUEEJfzxBDxMjPUwFPD/T/rU+FqFUQOPlLkEJJJBAj4+nQLTVQkE4l5pAAikcQVIJQEHSN/q7tJCsPz4y9kAj/hFBn08mQaa0KEFcSjFBrJwdQenXor8+cPNA/FBAQdEQrkAbt45Ak5KoQFzLQkGL/jVB8FokQYHSL0AqOztBHfm/QGs7vz9reU9AzNoCQe6BLUG58kVBsoLhQJtfIUEmj55AdVkxQCDYoUBbj6hAF3mXvq/uAUF0ZilBFQU7QfzFq0Dl6iFAoqlBQRunlEC0GTBBLD6DQGXZJkGGbJ9A/8QdQW5HPEGvme1Auv2SQGzDLkEhhEZBPNb/QLVeTUHVKS9BQbHGQProOkEqsGY+XyrWPp4EUUGoOh9B+6qPQDjevEATUDtBa7ZLQaSDPUExzy1BC9xIQZu4QUGh3DNBIKMbQa25QEHXZi1B3iXBQLZ2sUCfSPZA0qFNQAtzuEBC8Q9BLBTaQLGmPkG8gzlBv+E+QdvYN0HtFhE/hmVBQYv46ECO5z5BxHpKQZEPTEGEr9BAMTyvQBxgh0C7CiJBaF0cQW9sbkCtxytB+/ElQRe9e0Bll8VAQNYmQVxcTkEDFLZAZ22WQNQaZEC1iDJB4WPJQKWyO0GxtkNB3adGQV9I9UDXG8hAaXJNQR4NEkE8yYq/ncC6PwrzLUEioBK/Q0czQclBHUBo/TxB7M/nQPJXVkDpwY9ALlqQQNODVUD6plFBWSw9QSphwUC+2BRBF1lLQQB8IkHyor8/BSgBQdYLqUBuFANBk/i7QLP/pECCfE1Buqc7Qd9O9UB2YkxBrYsNQd+b00BThExBUmwoQJ4RtUAlJjVBGWxvQDc4JkESeC1BexPMQO+OMECVSjRBqtqTQKtJm0ChNy1B9kdCQVAmr70m2ShB6U96QJM0LUGNGTNBWw0+QSsFQkFNGENBIvM9QZZXYz/xdkRBuDFDQQ2PskCjgSNB0n4KQSe39T9bgA1BdiWjQN8vfkA0z6W/6WNJQfZXN0GBeEtBvNEyQS9vs0CjIINA/lwpQat26EDqaUdB/4yHv/uGxj5DeEBBrorWQAIPmUD6ErlAQhBAQTpELEEqDlJB/Si4QDJCnUBCWnY/SQQ1QdfLzkBWbMdAIAwrQRaUhr//vyZBZkHhP1+XKEEzuv5AWrS6QMw4sUAiJzZBJbseQVZiRkFQddJAqpE+Qc3qvUCJgOxAWWi2QCFtjkBV3yJAgwqEQGSgQkEt/xpBGjKEQCuUtkBDSE5BrYxAQcTJJEFCGylBzAwlQXf4uUAOhqJAgDjQQLhX20ACcopAkp1FQb0AOUFr3olAgV8qQc5KiL84KR1AA14jQZwCzUAnN5lAfSyRQAo3E0GTIDFBB1Q8QadmikCqHqw+snQTQbas0T/QnMZARZk4QJ1/+D9mU0dAfr1LQciMjkBTVZdAUKX4QEryk0DmDkFAe+aeQB2OLUEuCkxBvH4ZQSpKKEFBqW8//lAvQf+8O0Es1ExB1JJMQSWUTkE29y5B1pVIQX36g0BvQ0K+vSnHQFlBrUAYRkZBVw+1P8tAikB69cJAB206QeLkREHq39w/qWE2QZvbKEH4aVBBgXO+QHbGI0HwGSVBo9s3QN0ZOkD7cgQ/S08qQQbVqUCSSj5BSBvlQDt4KEGu+KE/njORQJFLqr9ncS1BcIk1QTsmDEEu9rlAYGwjQQnGEEEYcDFBl5dGQSzyKkFsNwxBcHTXQPtgOkE+wqw9a/MpQTydLkEG8kZBqQiEv5A1TEEY205BxFomQUj+I0Em3ElBGDU7QSYUKkF91U5BneJAQTKHLUFoiTpBbJr9QLV9GEGbFla+T79KQAnkQUH+oLNAC4mJQN0QOEH7vChB5k4uQU7ct0BVpq1AkHgnQQ2sRUEyyrhAWcEsQXvP30Bp8SlBJAVOQcmaBEE+IA5BXZghQFxgMkFGn6BA+WUuQQbQUUGKH70/sVM4QftOPEGpnsZAeJTqP6vnOEGRW2w9+rbYQMETCz+kiLtAZCeXQO8GLkHMQ2NAa3yuQApzKEFFcS9BwJkjP5cIq78eNY1Amfg3QY8tGEHngK9Ad6k0QZeTHEEFPzlB8YMcQVYGt74e3ktBVwtRQezb5EC3uz5BfgS0QHog0UCEpwpAfpLJQMdotz900UJBjow+QdlFi78O0UpBUxGrQEx0SEEj9Mw/IvXiPxEUQ0FAI5FA04MtQcx5JEHwM6K/443nP81yRUEGfFBB5O8tQdoMdkAdkDpB9YsyQSK6HUFzHK29G/c+QaL8F0HvexFB3RgLQalzM0G/JIU/RfIGQcnsF0HyVy5BsQqWQFCGHUAziEpByi6dQL1550CT2Im/9LaaQGHxJkHZNsBAaSSZQD/kIkHDzDJBXWKfQBQPUUFpuZdAIZJJQVMfJUGRxzFBhSjCQNSewD+dEy5BwIY+QQdEjj8xj6hAzXM1QXevOUBUdzFBiD6oPz5PNUHALY4+5t8OQUc7QUEYVjdBg68LQWtMPL+g0T1BZWppQFQNO0Gh9nu/o5WpveGAoUDrOjhBQeo9QU+2NEE06jtBz98gQVRdOUFssE1BvRMGQSLyNEEpZp8/gjo/QURuFUE2sjVAE1c2QXrcuUBrCyhBagPDQH2EKUFygvFAOd6nQLGuOUGpe69Asz+WQI/6Gj9qnDVBTkFOPWlookAIkaU/mPkmQUsMKT9Z/ONAcqdHQUGfPkFKOC5BwjpHQSFECUFEPShBY8ThQO9pKkFX0jtBpNaxQJVbS0G+BypBxXFWQJDG+UC0Jza99DKIvyO5LEHNePpADoncQI8mkEB0zepAiNImQWBxJUEXt8BAsM3JQHkYpEAM3EFBeX3UP7ysrz+GditBUhA7QY9FN0HQGT1BCH4pQcVcO0HZwbxAOV29QHTqS0H2aKlAzWqzQLwzvUDhCJpAvK7DQB/0PUHc5zBBh7QkQdGnM0EhrTpBhhK4QAizA0Fg4ihBtD8tQd/0r0DACjJBxfhCQWCjLEEvOuc8FuyXQK5qAEGWeTRAeiKiQJqCB0CViHpAODAkQFMgPkFkB8c/LwYZQdIkK0Fo35dAKCsyQeRiHEEHmjpBb/pLQWYtJUEsE01BGtgRQcr2x0CM5zlBMRGjQC6IlECxBZlAkw0QQR11hr9u96xAwBhOQT7GUUFyPZBAojVDQfsGnz+BSudAFSHFQPQ/9EC+5j5Bw3o8QYdpTUFWC0pBSGeQQPs9TUF6/4c/Az5mv0rjDUFAt1BBCrIqQZuTS0ERSSxBZ3FAQf2qwkD1GONAo+i2QMhCobzqnBW/N/25QNvTBkHXNxJBRdERQcE9mkDpSEdBms80QUBhKkHNBRlBjWaxQNZJQUGxTghB7QU/QPauoUAil0BB9udGQX6ftD7U+DBAVt9PQRW5FEDsaJW/8/BEQYOzRkFECQ1B8ydIQSiLHEHIsv++ePYpQZMgvECld0tBGYI9P2akLUGsdrFA86DKQLS+PkGkau9A7H6dP1b1uD+gV5FAeLXfQJ4kMUAyFolAAaXkQDf0PEGLtitBePopQb1srkAn9VBB0UT7QAgDNkFqLIZA9n8vQdIos0D+kQ9Bfj5iQEQ5gUBoeflAHjYvQUj5LEFPwD1BD6OuQG4vBkGSVztB1SI1QWuF00BVnDdB4RCkQMFXJ0HAZMZAePoYQGd8SkHueEVBzuo4QR7KKb2tfAVByu7oQE2XSEFN3xxB9NrNQINxN0G50k5BAWqmQBEpgL8UVqpAlTYLQXAIIEFB3dRAuDFUQCQlwEAiTOpAk9U7QcJoQ0EyYypBbqUnQTsOBUHJdipBDfSLPyvVMUHR7OY/fXYuQd9BvUBfvYY/2IqrQNRRO0AwDz5Be2BqP7bVjkCJdXlAYZdPQUJuxUAgAhtB0lSgP3W+IkGyPvI/SXeiQF7UoUBq6VxAA5zbP4+eP0Fu9ClBU/UzQc2RQkESDIRAxLjoQBmsNEADEIxAb/oGQQzLEkCr/YtAlm5DQRj0jj+ap1BB6TctQfxoMkH3HExBJys5QVIt6UDdLJ1AAJL8PnE7M0HiuRZBp4s6QTpzMUH72SRBuoqKQEJDir8/0DZB7DQvQUwiNUGbHxdBGFwYQc43wD+M83hAQqc0QQeVnUD1HTJB4mbwQDgr6z/gIU1BiEnSQEhaKUD9lS9BRRo6QJDm3UDygRhBPfUfQLDWAEFAGpG/EaonQdQ7OkGZ/4pAHGkBQdCHYUDA9KW9qhK7QBL90kCcFUBBJQpSQSKyMkGC9DZBdhpDQUk0h0AsKsRAeWRCQa4GUD9d1sxA58CgQHWBG0FWFdJA0yKKQFyVWEC+8IpAT+mEv91rKkGDIjBBcH2nQMdpMUFAza9ApF6jP18gWUDUmBxBbb3CQJ5qJ0Ge6q9A2WUoQY6sqr/+5phA5+Y3QdL6n0BAhjhBHzjHQO7hf0BMGnm/f1wtQaAUUEEQQTJBHyvNQCABB0ESxdU/L35IQcIW4UAYaIhAcRZCQVJMMUG7Y0VBkkRJQUwdskBS+NFAfcfGP6vCiEA4RhJBoI8cQQcu/kAySS9BEdqsQMpfgL3UlSVBWgLCQF1YO0FAtlBAkcusQDvjtz8uSoa/7PXcQLjzLEF9TzpBAWuxQCV5oUA8Li1BQ54yQYnFSEHlTUBBuXRLQZHAQb7bCUNBrtYVQSu1C0HnlxBB2hFLQaEtBUGBCqlA63ZJQb09r0A6GhVBbD4/QSFQN0ApUSxBGOOvQHAbQEHS+OhA2xGiQP25SUGHLzJB7uSkQEE4EkFtncc/doUUQRTMtEAdmyhBsSSiQGm7fz/irkNBSeYVQQQgj77dEjFBN5VHQSB8jUAtjSBBJ0ZPQFdvLEEoz+xA0BhCQZzUF0FqBTxBtK9pQDHankA4mjNBJVBiQG6RtUDTiiBBuMMYQGlKgEDrVjFBD9GNQKe10UBMGJtAh1iFQKfeO0Eq4SpBlh/eQLgGn0AlyhpBsGAxQaOVOEH0kEdAYHsHQQviO0F5QT9BmqOKQMUEgr90YKdAAEVPP1LjL0Gp4QtBoYI1QS0r0UBpJztBbM/5QM/ZPUF2udm+DWPSQDinv0Du8E5BSRKQQIlcOUH5AslAkuBBQWUfbT+wBzZBiEczQdE1qUCRJUFBtwE9QJuPPkGpPiQ+kUCEQJ4uwEBfcSxBs8coQU+eBkEOUslAyYBBQcpITUFs7ExBHqEhQVZFO0GE+ShB1ZklQRFrMkGxosRAZIdDQSJDOEEyX/FA4V4pvwhNu0CV9jBBVMsQQUlNP0BR/lZA06FPQa8sLUF1hidB6bkqQaFPUkEnRAc/JIgUQWlZQUFYUTs/4R5GQSMMH0C+L01BjfKFQJVnT0E54ZpAzmj7QFXHhb+F0R5B9oBVPHv0GUGUqylB2ZBCQXj8BUEgxExB/SUrQSC5mUCQcY5AzEglQRkpQkF/99VALHKgQG+Mi79OI9BAseYdQThQkUCUTZFAkZYvQe8RBEHM3SZBBIBPQQjcM0GJwu1A2qhIQdgAN0Gqmz5BYqOjPwdYxEDmKCRBuPktQRJOKUFdVC1Bu/A7QRBWzkDtiEJB6HlxQD9TOUHwxp9AJHvrQO6wnEBBYQJBE+/lQH2AO0F6kSc/aZSaQFmcMkEMdYRAiKgpQQ24NECgvT5B+YlTQC9ymkCsfzNBgb86QQC8wkDQSDVBj9SOQAVyKkHdga1AdyI2QddMwEDTpD5Bw60EQaCXUUF1hXRAk0AoPzDGG0D3d3i/3wAtQfPrOkFcEjRBPmjCQKb6K0HoUmBAHDkoQcJ6XUC7YIm/8Qh8QM3GDkFpHiNA4XIvQcnMK0HqKKpAtuQIQSKwz0C+3spAgftRQWvuPkFsxThBMYGzvkcpnkAaEIK/X2vIQJjnnkBX+XE/t6SEv2jKukDk6UlBoVmCv3FVUUF/SxdBOVHuQAo4KkHkISVBHCePQGeULEFEWYxA682XQMD5oL+hf75APjJDQZHKhEA+FkdB3MIsQWHxukD+GmVAcymyQD+qzz8rBqBAWsrEQCBI9UAK6DxBXTC7QAEIyEBvZrxADCxCQfnUNEF33jBBQW05QVLmxz5fhXpABz5LQQE3IUGQ5CxBpiErQfr1K0FymBlBNEn+QGNT1kBynchAsrA8QfHONEFisdBAk2QdQduDLEEY+C4//lmIQD7PHEHjJB9BKFAvQR3RhD51wzRBLUqpQIu4nD7xPY9A7wPvQJr+x0CLVzpBUiUyQc0xF0GHd4dAMe5BQcY4NkFGASBBWKspQZnwPUFnphE/wrclQa6wNUEZOLdAoYCEQBkCDEHQpTVBYUw3QeMHkr6ecT1BJ1stQS0P10DzLXy/A/AsQfdtJEHsTi5BSeBgP2/AW0BX4o1ATL2bQOrlr0Cvr/tAt8hFQcNgPUGR1qdASEwwQX4USUHZQCtBBKI5QBvDpUAp+y9Bl7owQSUKKEFLEnu/0FtoP536i0Bj8UJAj7i+QI0jfb86gqpA8xseQZ0x3EDgt5FAbGBEQU3W7j47x1m/3hImQSrr5EDHlzlBRTCIQPR7iz/e9ii/fiOFv4RQjkCrgYe+TjnPQEHgRUHNrCdB1JeOQA/tKUGNVqy/b72rQHyUrUD8US5BkhJIQRJ8RD9jI+pAiTrcQAtAKUA0Y95ATxLKQIsjLkEsWDVB6vSDQJjmMEEbTE5BaHmKQAfQHUH6fy1BFVvDQGyKukB8Jj5BMmY/QLcwM0HjeYW/mwhAQNyenkBEQ6JA+/4jQUoTKUE5T0NBFj53QEEmUkFsEkhB334bQNVKvUCixABB53g5QUZpXD85ruQ/pndIQYDkg0BRny9BtSvWQECwSkF8pJu+g7aQQEwSPUEntCNBtsKUv+dLTUGuxbBAesEDQeg9F0EnJs8/B8VBQAiQgkDeKOlA6zYhQQlhC0FUFTJBUlafP9jON0EoejxBPHzfP/aJUUGChSxBoCImQR5+9kBy3WC/RIUXQW1QJUFAPm5An08jQSqKSUGfIBhBL/USQWR7KUEJjEBB5Y76QC3V6kAUivlAzMZBQajfA0B1iSxBGQ8xQYrCR0HwkE5Bl9tEQU1FKUEt6A5BH18fQWBFSEHu+DVBug1AQVAZqEDDaBlAglY+QRrFXUBcvx9BqpCLQH6xN0GPWzRB4GVPQcaEREGOW0ZBZ7MHQRIT3kA4audAZV/1QGTdtUAzzCNAWlLhQAkmIEHh26lAFKUaQFLaMkFcw0tBtWaVQH1jRUEKhGhALhODQH1YD0FuMrVASBHxQNI7rkBgYDFBq9NMQXvY0j/l7B9Bh2ZPQZYrL0GKMAtBEWIOQNPsMkHhZElBvn/DQCj0H0GpYDpBtdwFQfyYS0FrSCBAfp0nQWhPKkHwg9s/y1siQRpnxkBwrWJAIRLfPzo67UBc+UNBYMswQdxHQkEKi0RB/X0IQR4dN0HssBRAyEkfQbZR4ED8pSBBuQ+EQLFQnUCZZnq+TydSP1dZKkEs1CVBUEGNQDbVIUEsbRBAtutDQWiTNUFWDTBBQPFmQHH1PUGXHVBBKroXQayxLEHLCkNBzGJDQD4HB0GYh0JBfCwoQXBxBkErZkRB7xhCQUjPMUAhVA1BYDEjQKj6J0G5s1BBzdoIP0kmNEH+QjFB1UHlP7iQ8UCl6IVAahkgQQH3h0CCXp5AmwsWQe/46UBQSUtBB6DPQHxYqUCsu4tAWqrhQCwBOUEFYkFAiH4wQQcSSEBEOCxBGjk4QappKEEI5jZBDmi1QPNkTEGj4gVBM9FIQQ/qBEEfJRNB/z8HQbZQM0G/8jBB8OLDQCmUxUAg+atAXn64QIHw50CwpUtBaGWpQH2PpkAuoj5BOfYkQYeEM0Fd6yZB57D0QMqGOUEGsjdBaig5QDZw6D9q25tABGBvQLo4FUFQ4oVAFxWfQJaQUUFJC49AcyesQINpn0At/05B6cmAQJaGKUFqFy5BFro2QcotLEE0pjVB1oieQAY8tECebUZA1oINQSNxQUHaHeVADmtBQeR/LkE5gZVAEUvNQJWCKkGN4BJB7cSyQOi/lUBYGjNBENa7QLcWBz9XHg5B+aE+QfMWUkGVyoxA9vU8Qb+lCUC1xENBAz5AQWamNEEAGrVAOSeCQItYhb8uwTZBp5Q0QcN/JEFMUdFAAxFLQVfAa0DvbkRAvP6uQFR3LUGvostAHsvsQIR0pz/Og7hAcAs5QZojTEFxaoxAyXKHQElMvEDImB1B1ZeeQILtMEHp6YZAqWkeQYT+OEFc5SVBY0wwQYxXTkFizi1BkP9QQZyuFj9RBitB55xJQal1D0GwkK9ARnBQQR0USUEZRWa/DJSEQDGMLUHIE0xBhoCnP60KPkDQY0hB0gZEQcN6Hz+hZzdBOFwmQcH5I0Hn3B9BjVokQVZuHkE6JcNA9y5JQc4xiL53JSdBEpIfQYIJNkFTW71Az1tyQHcUMUFn0z1B86+RQB0lEUGGihhBMo61QNMIl0DUl+JA0RMCQeQvg0DWgPFA11g3QRgNkj6IwkpBTupKQTeGcz8jpg1BCjIzQcuEiUAG0dlAkpkDQXOEs0Df3ztBh9QwQVF3REDfUh9BYtQWQTW2YL25lTtBk/sxQXu4l0CVA0RBcjQmQcucKUE5cbQ/78E2QQPZN0GRxaxA1cghP3EmhUAEXvA/l9ogQePZmkBwL75At+0rQTgw5z4NER9BfVQiQVKIvz8o6FBB4F89QVLT3UDeDTRB9d83QN40/kAjfYq/scU0QfyrCUEGCSdBzK2eQEVkFkCkqUlBgpWZQB+nB0F8Kf5ARNy9QO4jIkFNI3O+VVexQCo6Fr/oM6NACbcpQSZ9mUALrUVBs5bKP+TgEEGpZTpBJ2U0QTGfgEBi3KBAoc8LQXlLIUFoDCRAgqyxQGtxh78nXTBBXwaLQMDM2kDFQiRBtYx8QDR5zEA5bCNBSiVDQcGpTEFi8nhAEbU9Qbk5UkGuvU5BtQCIv6jJjj98lzVBW7MfQbPJqUAGVUxBZ2E8QO8ZD0EzFRhA0rHWPsJDkb/PYCi/6qvbQAWQWb9IwEpA5gEbP/YBLEHGStu+rzUSQQO+az6G/kdBipJZQNgJGEC0y0JBDkHLQL19OUEUbYhAoJrxP2cV0EADIz1BtoMgQVpfREFem3m/xN52QKvT70CFzBxBU2mhQMuTOEEdp79A4k4vQdv00EAoxtw/3Xc0QeK3A0F+E8tAJcaHv/qXpUBBAyZBdsgoQZsEW0B1sBpBuMpmQGcLNkFhNUBBYQ4+QQv9rEAv6HVA2efFQEDNj0BxRxdBH4REQfDXwEAmG4y/y7ZRQZcJPEHehh9BPEkZQcSAm0Aip7dAlrdnv0QeQkH8QYY9estPQZ/aNEE/Gq9Av806QZFpQD/5/d5ADB49QXngfr+Je4JAhitPQYu5UEH+kylAOm2fP6XrT0HEMjVBryQlQCzlDEHMSeM+KkZov8Z9EkBhljxB2ditQOiTlUD6BD5BDsAWQZKVKkEtRz1BVez4QNUWoUAzU+JAc+bAQIyhg79r1KpAqQQvQaMNjkBkrZ5A7ixBQQzc6EA0YqNAAVaSQAHbCEGKu7BAK18lQZlmHUH9KSVAVolAQQ+/t0A8hR9BUGD6P1LkIEF7ZZNA5MIRQXWQD0EDAl9AY4zAP7vKo0BDx0pBy3xCQXc8J0Em/to9j09DQfdYO0FXGI9AkIE2QQrGOkEyehBBPGFEQZXrNEGcMOxAa6yPQNjwREHyuUxBTzM+QSugPUEeMztBxkMmQXr0XEDF3ytBGOHGQGQYEUHEroC/4n/UQC7eOkERaCpB27qyQDaoQEBTqw9AJ8BKQf4BTkGfutZASb6xQEBXO0EjZD1BgdIaQeocL0Gc3qVAYq+yQMWkPEEuaqZAK/uRQPkbA0EoAURBkBwcQCXbgUBT4IZAb1zPQCOURUDYqkZBVicrQa+KSkGZ4TtBvizPQMFgIUGE3T9BNZzFPxtJmEBIMxJB0blcQEyih0BtSzpBXXcmQSDVJT+vvU5BIQIpQTHYGEEdNzBB9JUVQeZ97UAKbr9AD14MQaD2NkFgHoxAAQuBP9ktsEDGMnpAzOZLQX+8LkEpJj1BuchRQVeD0EDKaL4/Jd9GQWHBNkGkMItAXikuQXR/TEEP7UhBbz0MQafxd0AtGDJBKeiiQLymJkFgPAJBLJVLQdhxF0BeKz1BJBcHQe5tJ0GnSDdB0i40QQwVTUGf8hhBR28uQZEwd0D7VJS/3IqMQOab3EBYOsxAZUm9PwAdKEH8lU5BAWgeQGPXqUBFDStBka8NQSs5QEG5aglBBL8qQYDhMEF0ex1BuPUwQQ+GEEAuaR9AcOcpQTtcuT+loixBllhAQSoPQkGRwQNBWiFzuX/yHUHd/TdBHS4YQbTAUUEogT1BAEmmQIdNs0DsOyFBLo66QP8nHkFF5yJBu5w2QZ485b4c0Yi/qyeeQGTuPkHbyhxBLb8vQddnH0ANBgNBYHOWvw1oxkBDlClB/3WEQP2Vkr6fQ9tAwxyDQMcAD0FWZThBVi9LQQmENkG4pkNBnVgyQJJKjkAtU3ZArc+CQBTNPEH7DD5BbFFFQZh/QECapgJBugMpQQLQEkGrZrBATugYQCzP00B0WxJBOg4pQR0wLEE1PRdBgp01QbyCJUEFjpo/mqNCQftSvUAwNjxBIk+FQEsEDkEF1DRBYwJbQGKYrkDnDwRBS7zhP8fUmEBfdp89RW5BQcI/M0FMjsFAzbWEQEWQob8s6RdBvtBBQZgWIUFKQJdAC14qQVkiPUGyNMNASWgdQZScMkElPbNAKvetQJDDIUH0kwNBUDzFQKIEpEDvFydB58r2QE4FP0GXazNBpVI7QUnWHkBw/8ZA4PZfQMHqmEAMViRByy6qQPAEK0GUAMRAj4SMv3qJT0DaK0NBN2lDQbCfMEESVU5B90ZUQKYv0UDCBsxA60PjQIYGdUApr0dBTOCwQNRAKkFAREtB3SItQW5aLUEUjUVBtC2OQLw6jkAnaq4/igdNQNOyIkFAWsVAPP0mQfZ6PkHjPU5BrCsmQSBfREHc9fZAOM5HQesgikDLS2VAKCs9QWO3NkE7MspAz2ibQMTON0Fs60BBv6CXQPpNKUFD0j5BL/w5QT4tDkDbahhBrphIQXJJLEFG8EVBWrv+QCXTpkAAd0ZBumTJQB1rxz+GNHpARSCKQFLcF0AlijNBC0dPQRI5FEHL6lBBLvA9QSIo7j8j6jFBDiGOQLqBOEGLmjZBXACkQJQQR0EaMMtA48MQQTMNgr2g3bJAT4BkQHfkJkFHHMNAyxjEQHUZjUA43ixAVAVaQHwjKEE7Ps9AVBcsQXMNP0GRMDtBraMNQdGzYj/1zktAHtZRQaRaO0Ewq6hAqRk0QcPbOEEVCUFBkoMmQVE7G0HFRTlAb4txQKIlhUBjrDJBcCAtQZLcnT8nsCtBSHQzQBYCf0A01CFBmL4EQWohNUF8zTlBwP09QXh7MUGBVSBA/mFMQSv1LEE80BFBgywyQfn2J0EMDIW/xjtJQaJ/KkG5aUFBRwhIQcAhIUFOD5xAW/qhQMQuOUBxeX4/WRE2QWTTw0Dbxy1BbhEwPrUmGkEd6H1Al4AEQePUDkEbWylB7cA1QaH+pED4EHdApjpQQAOCpUA45itB6N4OQXIoLUEYrzlBSgQkQVZ9KUHH6aRADOjQQAFARkE+2ohADt7xQKXFG0GlxKFALukuQXD+P0E62IK/ftxTP9tsVEA2K8U/jA+oQB0zOkFoUElBf6zsQKxgtUDL9PtAttCuQCjhOkFlRxS/jENCQTvFTEGG5TtBy0vcQKdtukANoS1BjBeVQBhTs0BOgihAmEIcQLOtvkDNGgdB16NDQSvlv0DpOUpB/xMwQf7gr0DW7+9AzhxGQGWwPUGd7OBAclfkP82IuUBXOS1BUOPMQLRnCkGD+yc/0mymQHaDJ0FC94FA5cFwP+qSLUHBx40//GWmQEd8K0H8CchARk88QTAurEAT2jJBg+snP2R5K0Eie+9AnKIWP7VNhEAgHi9BjgVRQEd6LUE6tpZAFlYRQahCK0HResw/9sJ4P4O71UALCh9AqIMvQfiXTEFjaBNBt72VQHVFdD/qYDhBwPHDQC4FQEH1dTZAniBKQaLpD0G6JFJBspcuQWGUAUHxajZAXYvkQILjwUB4duZAVcOsQIf3J0GaoN9AlpHRP4SPmkDcjS1BcY6Gv+ClLEEh9JC/27YpQb7jtUDrnHFAWHIxQFm8RkEVGYdAXvZMQZLPP0GnmGC+WSnJQMwzSUF40zpBxxsvQU4PIb4Y5wBBMdU+QRRBlj92SlFByoMBQRPaKUHa+LdA6oFMQS6vDkEGTkRBQeJOQQDQRUFHC9Q/Vbk9QVp0O0GPvzBBZYaBQBjdQkGd4NhAlcVHQX1kKUFllqJAdI1CQYq11EDDjM1AoKqvQHpiOEH7WbVAcQ9EQcPhvkBdN2lA3Qe6QBXKRUA0QYxASuN8QO8RN0GzNz1B5Qz5QOgWFEAOEA9BY+shQeq/QkF4v4hAzzUhP3Z0JEG1IixBgjW3P/NINEE8bQK9bRv8PvzWPUGluBBB4lc9QeBZUkFVRTFBAp4/QK7vQkGivShBzJxKPzNvoEAYONBAM80+QdYBQ0Hf8h5BW8GhP79cNkEeKIVAqmI/QWZERkF9l81AovRCQeigNEDApE1B0/tBQY2VE0GxpkNBB6gsQZkwgb+vkdI/Y1YnQC1X3EBYGLVAgwk8QBdKIEGSTIRAxYzUQCYOEkFjYOlAeHjBQE4j+kCWphxBkeslQTR7w0Cw6q5ATNUuQaysukCW+05B8ndYPwuDOkFGL4BAhQ87Qcz6B0CIQ4VAJR7HQDi5LkAjaBxB97M6QVgjHkFq0TNBfDiNQI+EPEHqKh1BcKmtQC9NRUGHRaJAxRwfQRdPkEBehA5BfCLvQGLDy0BguoJAuy02QSVhLj8E1ilB0bIdQcuQHkFNzCVBoqo8QeJEvkA4ClFBNbF0QG1AzUCNQCVB07mQQNAkKEH/sC1Bc9qzQNL8PkFndUdB5/dFQcBz3T+laLxALeqoQJb8q0BmN0VBhvauQAifQEGQCPs/dkE9QRYiQ0Grtb1AS8E6QRixoD6TBe1A2ikQQPTviEDs69pABILtQAvUIUFnPeRAHZcVQX5ITkFNEjBB73M1QfgsIUCkbz9BwcQoQaWCl0BlLaBAZoFCQSB49kB9fj9BGTWMP8sqOEFwbei9RVVPPxtIJEEs5jlBhcJOQel2xkA7TJFAgGEzQE7UOT/AsbNA+XhGQQbnPUHtvCw/FbHDQDb480An2wBAjuE+QQFQr0Ct4KJAN+EeQZPUy0A3lDBB6OiHQDmSgUD8aeW9XH1KQYuLLUEPGytBMNqUQDU6TUFDZDZB8/wsQOxWq0DxQOw/6DZNQegzlEAgbCVBAx6ZP6Yi+z12GjxBAJgUQEP1v0CbCKNAzxgvQb+1NkEQfi9A9iMNQEyuQEGs9HK/08OoQExU5kA069c/W4AQQBqykECqq2+/+wkyQezGBUE8xy9BYOJGQV+OIb8kvEJB8kc1QX3PS0HacohAYj44QZ4nzkB4yT9B09kqQQnYDkFhpT5BKm4eQY6EJUHkVApBdDQ7QV1+9EBoRUlBwxznQO4JxkCorI1ABJ0zQdm+e0DYLqhA8fAcv0meAEH1279AklcuQKJCDUG/hZxAKUpEQdCov0C9Y5hAic+VQM2LO0FyorxAH6w+QT6/D0F2MDtBHrRIQX8IIkHV90RAIGcWQRwSI0HCym1A2uZQP+nJNUFJSlFBzV7+QLodQ0FGhKFAYqPTQLeDgkBMS69A87ueQKm1J0BH8UVB3BwsQViuuT+UdTFBsajUQI31SEG4TC1B2iAaQQCTYkAAM2q+/NxCQRkLwD8+qMBATreXvH61KEHFzzRBi0TSQE+BBkGXoTJB2tk+QUn2rEDWIxBB6tsAQWzDkUClOOpAITosQQ5dk0AbAS1BvOkfQetcjkD+xAtBPiQ5QSqmHEG/khxB0awkQZYWMkHORapA+0Y+QahdwUB5xk5BzDJDQSwt10AhhT1B6VCpQF/2RkEUtzhBIHEwQNGvs0DTvuhAr4OiQGjkMEHbrflAfmceQehNEkH2UotAyJi1QAjba0D/2i1B+iYAQWt7JUF5uq5A5QXAQPvjO0FsJxtAmsUcQY2leEC9KTxBFLE7QV5POkHYQKJAu1EpQWbQBEEZS2hANx5MQbOyw0Db5j9B2xItQWuwt0Cnd0s/BrKAQEjbLUFJbC9BXCQrQQ9cTEGaxsJA1eAOQaVcrEDlyTlA3GodQAD9O0FC1uw/rh19QOCemkCuWmRANVZOQcttPEH5hzZBC8dMQTUqD0FjYqVAhAhQQROcSEH3mT9Bm6oiP/laO0GY+ZE/ZQrqQC6IIkFN9zJBdFkxQQ050UCG5ohAjwQ4QdugSUEwe0JB6fI9QAHMiUCMksZAkmVcv5nDikAeK0FBbao9QUByP0Fg3DZBiVOcP4Kb4D/NMpJAcagqQTrSK0HPVO5Afhw2Qbgnh7/W01BArAdsQLVHBUHl4CI+vsAjQTvaD0FJ7KxAH6xNQXFAHkH+5yhBt3IFQbOawkBb0nQ/lV0vQHmMKkGXMitBuGgtQbabDkEa4UNBdzhLQKM++kC9sShBFvUlQZqjvT8hCC9Bp15JQaFlM0F58PlAMC2oQMCRgEDxTy9Bh2ANQRzpUkAC5UlB9uPZPy9EPUFjrMNAPl0kQRy6RkFTxkVBaeyTQHPBxUD2oEFAwrm3QJDuC0BAwZE/oDD5P4w1MEFej0JBUUBMQfyZn0AvzhVAT8htv689QEHcLxJAIU3zQKr4TUF4mIQ6IpwEQYELV0CnBhZB0orSQE6DEkEuNFBA+NQ3QWYIvEAtpytB0ryUQPiyjr9/CTRBWLHCQAc1SkGQfzFBI+0pQC/c/0Bk205Bd4GBQHiqer/WipNALcESvQkCLUFWJMBA9G09QRC2O0GoPiZBez3HQFTMJ0HpnL9AItwrQa//GkEZkKpAezUSPEU1uECnYUFBIuYpQX9NvkCbKwQ/AJSmQMU5KkFdeYhAfN0mQdaoxUAoNgZBqYSrQMuDHkHKCKxAkYg+Qc1OP0GV921AsyD5QCiHdr+J4EZBe5H+QFavrkCKfKJAZ1RVQILBPUAGurRAsmk5Qb3ZuEAfc5lAvAFBQY3+UEG5D6pAUug7Qel/LkF5D01BEzcJQeFDikCfsiVBBJtSQKsdQkE7wCJB6dO9QMmzKEGd8rBAqu5MQRILRUHaZkNBfG7RQMHH8EBj4KFA/z0YQf8lJkGC7wJB5m0NQX9sKUGQ1DtBGwCBQDcRlL94galAMJtMQQxFH0FuKH1ASjwpQPZKOUGg/INAsDTZQH6roEBPWSdA980VQabbvkABnTNBepFRQRSLiUAg2fBAdQxFQRFRr0Cj37FAXzxCQVT4CkH3FjhBgL8iQI1NLkE6LyBAIKqdQCZVNkHEKuU/3l0YQRMhYb/ttXa/XvgsQWRi1r3he65AkQMyQeTeNkHQg32+LYxJP2uAW750RxhB4mBJQaaxRkFoxExB+YwsQUCPMz8y5y1BUrElQRIoPkEUS81AH9BCQWlQOUHJaudAStk+QdoMOkD27Ms+eEoyQa4LPkG7HRlBOfcPQdQX8ECkYjFBv3VtQHMc4D+jl91A2WxGQM69F0Hsg5FAJq8lQU1vvEAqZjRBb4BLQe4BlkC/ew9BoJZAQUOkC0Ga5aFA5MQwQayH2UCBHElB6am+P6htJkFdQjRBLsAwQejocUDP7oK/7ys9Qd3l1kAWWdZAt980QYVXyUCHjTBBdwA9QR8per9TG81ANxUzQLsAkEB5tDxBKz/1QK2Vw0DOjS9BMK8nQUYN9j/tsi9BZa0YQd3DRUGr8LxA+4sqQfBvTkFCFT9BaPbaPXxhLkGcVM9AzRcrQO7Gw0B1WypBmiYxQeSCN0HVFy1BrDmIQGD2PUEyOgJBPebMQJRGPEHoLkJBt1fwQPCg7T+DljpB3xGqQOX9P0F2xWpAqdvEQDscKUEPHk5AYlcIQXkxHkG1jT5BoLtOQSRZL0HPMz1BXjNKQe3LOkHRwKJAe83JQOfjh0C1GihBTCH1QMXkPUGLOBhBGMg+QXLPSEGCnixBDME+QUk7nEDuQY1AJxNLQNATO0GEJhRBtmE+QByQeECLuqpASyOmQIQKRkEE7zpA6vQAQbTjs0BaERG/3EF2QBJeJUEs94u/ERkhQaKrLb2FPApBta4uQXSZtEDLnTNB9W2YP2ooPkHx2+ZAgAYNQWi3UEHp2DlBeT3/QH1YLkGpm4RA5MWnQBQnoz+Js7A/TCDNQDrdP0GSa20+jCdCQXbyPEEbI0tBRK0sQUJeqkC8kT1B1SgrQcHnkUDOg1BBmy7UQILhpUAotr5AVHpIQOKwQ0F/7a5AylD0QO7qTEHpuItAEFW8QOWSAEG+ZMZAFL4/QQVGu0CPukJB5OZCQalFJkHMpS1BLEvGP2gYTUEcZwhACK5BQFXHJUH0NkxBT7AdQau73EAjBb1AZ+jsQBiroUDYFEZBXgDHQOmoUUAKmkpB3XcBP8DPNkHcB6M/FEQlPacbL0GqFz9AUNmDv0XGikCy6C1BR1riQGd3EkHtWCZBrWQOQUJNPkGoRUFBvBu7QIwEuz7jXUdB14gjQdyPQEFwlAVBK3OwvcPHQr3DM4dAVqK3QPU6PkFzaIZAAsAaQHUrc0A1AcVAEPk4QI7lJkD5lcpAMPsBQYBnTEFtZSpBV58xQWFcQUHMkiRB1t+bQIrwf0D2cYc+1UUqQSZdQUG6h79AYjOIQKS9R0HX2BhBQ3rAQPSqOUFDQX1A8peRQHMiNkFosK9Af/TZQHit7b7ZupBAKwA5QWpByEAnzDBBIVmCQMjnhkDqjNxApg5YQAkBfEDzZh1BJRARQcoezkDYIDpBvyzDP1mBGkAVY7tADOA2QX06xUDlIzxB/6dAQdMOD0GAyQNBhVW5QH+Js0D3uDVBS3t6QKVBQUF+lRxBhsG+QLhHQkFiH4i/rtoxQRBmOUHF6TBB5/UWQYZ7iEDfn5pAnKc1QbsAH0BhMi9B9dK6QKSgykDpOmM+txJFQd1rEkHttT5B6uhCQQFKSz+hajVBWiL/QFR3TkE43vtA9nAVQaS0QUGRLRhBB54qQcjUT0EsHTpB3AOvQIEwB0FQthdBCDBOQegf6UDZdHtA3k8+QcoWlr9Qs1FBQSSMv3T5JkFx/q5ALi1CQR6sQkFF3jpBMQQbQfdrPEH3titB9fI/QWzoJEEVuwxB7dwXQRPlJUHO1DtBBZ7QPkE7NkFU1EFByf15QEEaQEHzQB9B2FYRQL7EjkADYyZBgE+DQOrYTEFQvo9AmxTeQM0o3T4IUyxBQVfCQNLDQkHKBPBAPQAxQZCWg0AiByRBRT9jQDRMTkEC2hpA3oqdQA92QEEp8BhAxcw7QZsfRkF/gD5BxoxCQaBmCUFCWmhA3WZZQMbBN0G/X01BPPBJQSL3LUHmTx1ACM4EPytiuUDodFBBABgxQDO9l0DnAztB5tckQaGLPEEGF0RB5KF8QKI+rED3er5AH4MhQS4vREHDHxxBRELFQG4gzkD5c0pB6xAbQK2pO0HipxFBziyjvMVcTUGUZ0tBb4+fQNNxYUDhJ9xAmZSQQB2gtEB25JFAS0zTvX5gsUAw3tRAe6MqQdIKTUG+yjxBzzuPQJd9G0GsekVB0AE6QRP/MUH0vc1AZZhPQWZbP0GvgbhAnY+IQOuTR0Fa+b1AI/xLQYqtBkG10jpBnfpMQYkTpUAvk0NB00A8QKM6FEBKWKi/p5kxQbgWTEGlBiVBbzrSQJ3xtD+zy4g/jYI7QQ1wPEHuSBpB6aGNQAGBTUGShrJAFfbsQBUOAUF1y/BAIwZRQVzohEDEWElBRsg6QXfDDkFncLJAyM0PQXQBr0D0CCVBOMveP0TTlUAEEwk/Jxc9QYBIM0FvueM/GqrIQPMpTEEhGSlBlWIlQWjkRkFcpcNAq4exQMfsAEGhAWVAfRa6PSoor0D/x5pAPnxBQYggvUBxGTRBd5ONQLGUjUCqqZJAohN+QG+Ls0BWHjlB7dArQSaeUEGwZbFACY5CQQhFPkEUdUtBL07CQLcAmUDQDDVBCgp/QKoJGUESPTdBUMLCQM9YREHsqKNAi3c5QTkYu0DSLF9A2jOLQCCwqEDYNURBxwU9QK8ku0C1OL5AL0USQUHStkBb8hZBGM+cQDFbvUBJ2zZBvBiIv2JEmEAryRBBJU9IQcyCNEF68UJBs76dQJWuHUEdKZVAGKJGQdJCvUCMt7w/Eoc1QRi9pEAFJ8JA5CS/QKFRVkDce41AQjSmQDt7ej+bKKJAv2Q5QXnFDUF3EC4/DxIsQWbUtEDbIPxAT8nfQDv3PUEQiUo/T7c5QAkpmkC5vQ9BXogCQW6DWb+yPyBB/QmCQFkeqr/gLBhBY4Q4Qcpkh7+vmKtAmgV9v0wfP0HUKjxBhEUfQfayLkF/WyVBPwQwQRKj0D5EJ+JAy7uaQLyTNz5Z1I1Ad8dOQdJbA0G8GC1B4PQvQKu6BUHzwPVA79qzQPQlu0DwPr5AcX83QX8ds0CPlkI/x9gcQXQhQkHRHShBdSAYQQx6PkFgVE5Bs+48QfcjK0Et9dq+pm40Qa6GJUAdQj5BrpRBQVWmO0HmiE5BlPsDQWSvuEBRJjdBUL45QXC9SEHwmEFBTLE7QbyXjEAtbAa+aaksQa3Lo0DpUixBvrhNQZjQPkEhOThBqX01QX9BtUD8A5tAkJZRQOGZuEB5IKBAnj3MQCnZqECVZcZAYPEwQcnlkUDIGANBuNUxQRas7kBopDxBNyU1QFL7QkHvlFBBe61FQSc6ikAZEoO/pW2sQKjzSL5B8l1AhiiwP9HbO0Go60pBS1HGPzxHUUGWWC1BxwiAQAN/PUHw+8pAELYIQTlB8EDDv41A3vY8QegsOEFRejRBE+IrQXiWfEDKgz9BN6afQL/hNkGTdk9BFfQvQW1sE0GkgSxBWv6aQKYXSEF2JENBPCukP7r75UDLaTNApOelPtNhPEF8vjdBJFVQQX5RO0D8ems8+KhPQcByI0EtkNFAPE6cvnUHO0E5BExBsFtQQXK0RkETnSxBE+lDQQdIKUEWqBBApadDQYAPOkEHZzBBgxg1QSLmp0BJoy1BzsO1QK6zS0FKqcY/8hoOQRDOP0G0F6RAsvU0QSw6QEF6HalAl0maQKT4IEEnF0BBb6BJQRfzQUGiKy9BSHZBQQZMwkBX5y5Buf/MQLVSV0BVdx9BiiIBQWIiN0E4jJxA/Qc7QfLyKEH5Tz9BXr6uQByqB0BTdEhBc/8/QZpsIz/CAMNAVnMrQWtLq0BLnqlAbP0SQZDJ9EARHvtAnMlKQQI3dUDMEHZAzvlAQdXzPkEUp6xATWtDQZhDPECNMUVBLxqCQAfdbD/npLQ/cAg+QfOIOkFpvnhAGii7QLnzMEDECy9BCbo4P1CjAD8VOQNBvkJMQZVmOUHyYFtAoW4PQSGCsEDrpQNBoSovQTzkl0BWIbI/msqIQMsx3774GUZA3MvzQOiSQEGOhrxApxzzQEXTQ0GzfzlBVbQmQZuQO0ExzOpAFq4vQYiISkG+EBtB7uRGQfN1hUAg6UJBLJgrQPEpj7/feSJBR4HfQLH6qD5e7R5BqGoiQVj7QkGCHzZBEVHaQPLYakBkeI9ACO6LPkiEx0DNLCRBxponQYB3pT9w6URB/wWfPzZ+PkE6d0RB8nEtQTW2N0Ht4ahA1+epQKmccz9T6S1BUgU9QWab4UAntCVBoPUiQes4vUDmEhlAEYxRQVax2z+fEEFBwWwUQXV+HUESGY2/EIU+QZKleECchjpB0JIYQRFZpr3JL0xBORKZQNcSiED2GZlAzDQ8QU2wNEGuiCNBIjFKQZLiLUFpKUZBn0cqQToe0j7koc9AsonHQEs6FkF+kfFAdzyvP6+xkr9rJ0pBuT6pQMyKRkGRArBAzzMYQYiUE0GwZ9Y/T7i9QOM2Zr9jxXVAo4qNQE6sg0B9MURB1UzuQEzVOEF096VAhe8IQaNeQEF5xjlBI8y5QGzcGUAOoqpAZic/QcMpTUF90UJBAXovQUk9KkFw0JJA95c+QUgfxj+6WylBthysQM4/Tb5P8ddAjcFHQR2fOEEVvRc/g547QePwxkAU7y9BHx8nQVIWNEFen+s/WKaDv5NxsEA6s8VA45ZDQbqRwEDFSC1BOqCmQLtZLkH8OShBCfUDQcnZLEGyDT1Bm/ZlQMXGhUD4fUhBlyGvQDNkGUFKFgVBkoBLQJCcOkGY+tJABhM8QSRXdb+BRjBB7D8tQAdszUBQsyhB/rCHv6HGKEG2NiZBr1iSQDixEkFch1RADcknQJ32OkHEuSJBkMGQQKdqEUH7JFFBpdkZQRmQJ0EeLg9BHzAoQSwqPUBFrFFBehs7QQOcTz+y7tZAewzvvkrys0DMc0FBA5s8QVQJDkFRbg1BIV4gQV6YMEEmphhBig66QH1zUD+47ilBgZUuQQl1EkHLmzBBMuwvQTpNgEAGFaRAXI8IQWZBSUGFvxpBIj7MQAC29kD8ST9B4xQ+QchXRUGh0JdAgUCOQEEFvEDOA+xA7eqXPghlREFqEGm/UfFPQSCAvj+GVitBz2eLQDZbi0BMvRhBcPvFQH0+XkBpz09BMTmbQG3ZJ0FWDiFBjyFhQMvfGUAhmJxAd4EqQcQIiL/S7y5Beam2QCZpFEA8/iJBXIhAQR4qn0D3ATQ/lcaKvzFvBUG9ERtBkTuOQFXaPUGTlTVB+s2XQMfinL9skE1BtLw5QVNtO0EDlaFAJo5FQRRHFUGwiFBBugcrQfb/H0BslKpACNQuQXdiLEHMtCxBJ7C6QP1fHEFoHzxBGk6fv0WGn0Dua5FA0DwoQWzMoEBhYAFBrUI0QZIeiECygTdBzIgoQdt+LEGyjyw/XkCoQBk/LkHAcENBe+CcQE+mQEGrwC1BLH01QfdPQED7bltANCLSQLyERUEuDENBQ9RDQWV2SkHxJ01BN3YvQV02UUHQVSVB/Ys9QfJkIUHxl0RBGJTAPVUK/0D8ADBB2iEzQCYsYkAFAilBGVUkQQh0L0GQ2jZBvb4mQDddPkHdt54/m4MhQdp7PkEI46NAjUnyQKpWl0AdPEZB449QP6BGXkCSZDhB2DFJQfL8xkBj1+RAdLMeQYa9TEGD1QVBwQMoQGtv30CjkFtAhcYxQQ9+M0ErIitBk2RCQWgck797My1BZ1mUQKqiOEHVa+VAWocmQd/vJEHSVC9BOFO/Px+wPkGGOChB4nCiQC5RnkAmzMA/5QpJQUUmgEDN3RdBVvy4QB/CO0FaxSBBgX06QdDj0UBPPkZByp49QX5aZ0AFDBhAVk5RQRkVx0ByFjZBs79/QDgPfUD+SU9BQSgyQcbVFkGtxK8/4kOEQKSYLEGcHDpBMsBNQd5ELEE0/d1AyWgoQSgbmUAzfBpBeFBGQSpCRkFPKlBBs2mWQJbUg0AGz6ZAfgsrQUzOKEFuwxlBakQ9QX1YoUDL74q/NgW7QIc5QkGLRaZA4ZpIQUqpgkDACz9BG5ndP+D9H0C7wPdA75ihvzWmPkGf6aJA68Y/QbhjHkGOryZBAAaqPwqJWL8G+zRBUrukQNISOUG8eoFAhnk3QaDvyT/jZq1A078RQWr7MUFn2D1BsDzHQNlzKkH5Ets/2D4EQWVlx0D9yiRBnCo7QVOCO0FpbgdBLRKCQOd1P0HGv/FAyLCxP0GnFT9cnwtBqZY+QeVHNkHDI0RBgOJDQcU1Y79gnkJBeKnDP8saIUGxcq5ANDeoQN11yj8/eZBAyrrwQEbhD0C+RDNBD6ptQHLwO0Ew0xBBr3VAQZ84JUEk8TpBK3BNQRNKFkE/DTQ/MfzjQBUq80B3Hf4/szM8P7E1rkATA8RAdYoGQZyzpkANnwVAMOYmQZAyJUHYwh1ATicrQaAm10CbYA5Bf5hrQLnuBkAIxzNBOX3oQICON0Hhz6Y+0gOCv/WozUCOZhNBsP9TPyyzoL7ORExBgSQyQWR7KEHUE1VAh2YwQTMJR0GQrC9BjAB5vwPixECxoT5By2Oqv2mNMEGWTURBWUXBQIJ4jUBJxA0/xGsqQVfchUD3H1BBJNyAQIdFIUHZ75dA5TQXQWsUJUHK8cxA2XMgQb0/QUFycwdBP9MGQW15UEC/27JAsK6bQD8xKkHmh/k/q8YlQWa9oUDKUzNBmFOEQEl4rUCYjTZBWtEhQW8XREHGHpJAY6D6QDsvk0Dm7jJB4fo8QeFKNUFXIR1BWpg2QTlVPUE0ZKC/IKDqQJ/sSj/b21hA2AFJPxHEQ0GWwDdBz1oeQCfptkCO8UdAWP3HQCWGSUHKqUBB3OGdv6qzO0Es2khBXIg7QU/SkEBVyKRAUahSvw7NgECpzStByqrdQBUZSUGp4MRA22FCQfnlA0HrtDlBJ2EXQQGDH0AvCmxAXfEnQWMdJEFazTpBYS43QRxFhL95tKpAfrSnQDgTKEBKhJNAV42hQCIO4z55OzRBr6mvQIMFmjyaqhBBVWPMP4ClLUHGryu9A9o/QQrjO0GIQj1Bfi1JQfRIP0F7jDZBfIBAQT2T1kAsuz5ADnRRQbphFkB9uuVA0qs2Qe5nRT/GAUBBzQg6QUPdGUE99T9BvuQjQa48w0BphVBAdpI7QcfWQkECEh5Bn3clQcmGOEHfchZBt3OmQO5OOUEUxFA/SdypQEGQMUEWPKY8QUAdQXJ5OkHU46pAmSAiQe08UEG8ja1AOPjbPysuIEF5fxNA/qByQBKULEEQOoC/Yb8vQecmMkGiTN4/Eaq2QHWkEUGe6jJB2XnBP3rLQ0BzOI9AyPCAQDayj0BKpNJAc/wbQTICPkG0u5ZA01uOPuBPKEEf3S9BbfAhQVvcMUHwfTpBWxA0QQHdw0DQisE+mBY+QdUMRED/PF49aW0uQRTgukCCOoNAfH3IQCpCvEAGVG1Aj6KbQDdGKEGOd3xA/KJNvyHGHEEf9+i+i0o+P8v2UD82aD9BsJk8QatfPkHnRzRBbp5BQaN/CkHYXp9AtK27QDZtmEAy+ztBmpIUQbf0PEE1azJBkLdqP2pcXECc0E9BSUe2QP+MM0CAV5pAqs28QIZAvkCbD5tAYlYrQUIci0DxAZpAFswQQcgiLEHnihBBpGKHQDT6HEChsRZBbu9EQYcaQkFljzlBd9M+QMuvDEFZjlRARmx3Pxh6RUHOjilBMyKEQEs8SEFQZwtBMcx4QI6XEEDrgYVAT0XEQLsNTUDYhYZApEWEPlgYL0HnoetADXoYQd1+NkFptFFBiD2gvgLBQEFwAmC/012gQOrxKUEyW51AL5BFQYkEkEAcbkg8ZtqgQAuqQEEKLCJB+KFWQFJMTEFfqJRApJU9QcrOqkBvOINAEr0lQeYsPkFKwfNAT1s2QY94Ij966iRAS66LQCYKvz+eurFArWMpQQKGEEGozwRBE+NYQCym/rygdTpBBPiWv89K5kDyOAxBqnkiQVOh9kBoYJK/fvhCQQE1PkH/xCxBgbb1QH28sUAe4jpBmfmkQCzXOUHgK0hBsRb0QFNpWb+rAE1BgOedQJPOJ0HIXJ5A6uIjQTY3T0E3ZtFAH6CJQLaoGEEmBqFAWsYkQTXFgUBcHlM/XaUcQSDHcb3OeK9A2h4rQZiimkAoYSxB4eZzQEBkDEEkZzdBrGseQb3DKUCYFDxBJeHYQKcZx0DhKZBAzNUdQIRnEEGXHoFAp2gyQckOD0G6vUJB5rRGQVpahkDpiI0//p2jQFttJ0EKNjdBJgA3Qc5YAkF+dEhBzOsgQLRfPkHQKmo+qzNRQR3RVUCL/EZBatcOQZ5Mp0BNdEdB1CwTQa5dOUG/PTJBQb85QQx7P0Gs63lASWZNQSPBtD+PfKJA5LY+QVcjKUFKw0RBjWAmQTZC6UB9xShBov89QRUCLEHWZg9BYn62QAOrO0F22rY/1LIJP/vXTUFswq1A3queQFA1qUCp8UVBCOaOQJztg0Dnm+1ACkxAPzEBnEBt60JByegnQehzMkEOKEdB5/BOQXTkLEG85gxBx928QKZUPkFGgjxBhkjBQLVzhkC08gpB97bBQFyvOkHxExtBbxM4QFc6NUGyRcRAQcJdQNM1YD8nuEdB1zwkQeF1x0DttixB+iZHQRp3D0FKdsVAJMIwQRFNP0EbLi9A8klBQfM8q77O7DVBpiNSQXXHN0HjsQVBdTocQLkHKkF3wx9B5dWxQJUOFEGtdSJBv28oQYA2CkCrJUlBMQ1WQB7bSEFT9D9B8d0YQLEZIUFYitZAx2dDQQ7gREE2pTpBQfM/QGYhT0EXPEhB3iZQQXvDOEEBjBtBim2fQOJmP0EOixFB7HkWQWRKSD9Y61Q/FyKlQLflTEEHgUVBRJNIvrEpQEEizFpAVeBPQe5rRUAdjS9BlrI3QaTsREHcKyFABppDQfeR4UDPPq1APng7QcclukCyDi1BgjOnQMcgSUHqvIVA2w1JQaWhhEBR30RBmMnLQBhDi0AzTBhBGhg9QaZRakAsKtpA2EM2QRQeqkAChDhAt28bQB+D70AZTT9BYOxCQZydQkHGcUlBdrgNQSDvQUGNjSlBnZwSQX4+MUGXJ75AHfL1QIxLPkDa3YNAeHdAQXbB/D+O/j9BnDl0v+UkMEEn+adAe+3OP7TmLEFbkUNB/2u+QJhUGkFw4ChBZ1swQXlhGUCSyzy+f4ZMQQW6EUGGKj++ufPYQMcoQkE7m0RBP43DQHdcSUH6flo+KTU/QfGyKkF6qA5Bz/XGQCTCO0ELADpB3Ws0QZH2AUHnBiNBb02BQOkYQEFvgLJANh1OQU89y0AYW3hAnwYRQDu5nkArN8NAx+c7QVkRjD/0mD5BG4EiQV2phz9i2YtAMPlCQXdWAkEJyOtACCdKQVHtdL8kdx5BgwAxQdSk/UC3CeY/0eczQZFTTEEJt9JAHEXDPzdn7z94RTtBL0ksQczWOkEOehpBX/mNPwqfR0FQpjJBggoGQN5fEkGsPlRAr5ZRQf8xiEA7iz5BierBQLQbxUCRBIY/sD4mQTISPkAreMpAzRNSQbuXx0AKVk9BDkm6PPv4QkHb7chA4Lo+QVTeuz2PBhFBRw4UQUM4UkFjp7g/DEeuQIbt7UA6i65AclFBQYZ7uj/ACUNB37cwQREbokAYukFAHujEQP6LREHLxspAn7suQdkbPkGayzNBHtQ8QUbn9EB1VM1AFhGWQNPrDEH1pFm/csQ+QcDaPkH8IB1Bu9Y1v39HSUHYiehATda1QHDljEDn9/NAA3k6Qdz2GkB3h1FB0No3QcxT4EAmlqRA5DKbQLUEGEHVE9lAAq7HQIIzLEGd4jVBGKccQC96IEHhXLg/+nSTPwp2jUDJekhBqvPBQJSWLkFCnqlAq+hhvxNbnT73rihB6lqIQOXNOUHP8fxAdr45QfsJD0FPsQ1Bf9S0QOrlBEGx/TBBGXL0QH7o2kAhOFBBCcYyQQ5IEEEN3BtBQqLxQL3hHUG8CPNAp7UjQUJPJUGAAfJA3WiCPlGKuEBTATNBsYgIQVoLJ0H10wRBN0LQQK6IIEHcrFFB6DwwQVRWxEDXqTtB0rxQQXl7zkB0fzNBmI5EQZtqBkFUECdBnqE6QRvdJkHGgDlBeTwoQWIAR0E3nrxA0/FIQPMkL0Fh9PdAvn8WQGzrtUB9mUxBcZCfP5hlJUBGEXBAOVlLQdOHqUB7ZzBBPoVGQeXEL0HpkrFAVHwJQSEnUUGagZ9AqMpHQUC0hEBsrzFB/Fs8QROKS0EAgkNBJG6+QHaQP0Fslj9BCbV9PzE9EUHREb9A9zj4QAUfH0G6wedAyfkyQWlrEUFKR61ACDqcQNj9N0G1lx9A785BQaj9w0CIBvNAj0s/Qeti50BgUxlA5wElQZJyS0F7LuBAaE8/QZSPJkFWlAxB0kzJQKI8A0GSTi5Bc/hBQTjgoL+BH6dAV/QmQVHgL0FwwnVA+lFMQe1ZNkFqgyhBnwZqQEPmMEF/Cqm/QJqfQOpoyEAYARNAt0tOQelATkEg0StBUkpFQW5LLkFNbS5B4mgzQWyNMEEm/itBYXG+QKxUQ0E+yUxBPYpLQIjRfUCPHkZBlrvbP7+nPUHHNT9B7/E+QVA9e7+pnqtAbgNFQUUTvD/vW/E+OpQvQTh0O0HdOIpAGOCsQNNXMkFg84FAEg3dP/TGQUFT88ZA3IPVPb+ZEEF8rjZBW7KZQHqZ40AyiDJBkJRHQcM2T0EL30JBEP8FQa7q80A/5xtBopLAQEvcK0G6WwhBXm2dv5EBIUEEPchAnrAjQJC6J0HDV1ZAjFebQC04ckDKWUFBHUjiPzzhQkGmG6VAmZ4IQT3UdECo3TlBKmugQE7dyUC1yQlA3VakQElNxED6K4NAtFkxQWTHDkERAjNBc5QRQZQIK0GcpYFAo8r3QEF6cj/4zaFAmi0qQVlFED7cTE1BM6q1QH2Dm0C0StNAHcGxQJ43k0DIdIlAHfqwQEbDQUGhfyVB6K+yQK03PEEVSZ5AuVwxQY8NP0FuKylBTFu3QLP1okAeuhY+IQMoQQAEgECBEjFByjQCQSq1AkFRJ5pAEqooQf9VmUAKwphAvtPsQCPOTkBwnotAYjswQQ+ovUAiREhB39cYQFB38j+xh0xBfkAjQdl6K0Evjy5B99J/v2EpLUGU6Q1ABgeSQNr0NUFVFklBFiV7QNsQKkFCMZVAI0RSQeuzk0D+/0pBI0OVQAOUREHvFek8RkQnQBYN2rxb0iU/5omTP2W5e78KSDFBRWYTQSM5N0HmdsNAFC3GQEVVHEHRQ/ZAwVIlQZmAh0CCiRFALC8yQVahNUC4WpRAW9xFQR3c4UAfZCVBMl7PQDK9sEDEevRAePK0QK/wQ0EveJlAQmkcQRKoC0Eze6VAhD+BQMBBF0Fn+0VBdzpPQEb3tkBDdL1Aa16pQH5SOUBwyDs/hfmkQDuVjkAuSy5B+kWUQK2RMEH1Gaq/6x4SQZGbQEE0sEhB8zDBQDAZhL+vMRRB5J/yQGl5L0F29Ls+rm4pQKEsTj93hi1AhHJFQTzl+T1NgC9BdSu9QB0tGEGlZTZBpr8tQd7hqEBRpCE/7GIjQG/KB0E8A9RATY0+QL9NFUBHA69Ab4IrQUh/PkE3gEBBsyQtQThdA0Hj1rBAMPtGQU1bQUHroTdBM1VAQfxghkD6C0lBw28XQYSUJEG7b05B4yj1QAmAPkFy4YS/ZpAKQZbqDkHxgpdATsEiQBn0OkEDGihBwntFQcN0P0Gd6bJATe7HQIwGzUAbzu1AHAYgQaJ5lECxOqdAEaU8QdWNHkEZSDVBNvTNQBvTjECCDjZBhKsfQbA+HkFMBDVBeKw6P3rbhEAUbSU/kvIsQS5iLkGPiHi/XMiyvBcJKUHLohdBlc2WPrbVNUF9o8o/pzYPQdPPnT/XJFBBDBVRQamtC0HIASY/OSW4P6DhJ0H6qT1Bhp0yQTrd5D9vxSpBHGItQXh6JEFy5w9BUkjDQKMnEEH15i9ACIN1QEhwUEE8TEhBhDzlQFjh50A2GuFA/6AgQaa/Zr2APMxAKAmYQFaVR0HipgdBvSe0P0VBQ0G7O+ZAG8LBQD+ZMkEewI5Aqds/QV9kOEHSUE9BDXxeQIgqakD2L7BAbpGZQPeIA0H4Q5FAGyjPQODdQEEycTxAu9kAQd8zEb+CzzlB49WxQJfFE0FcoShBQ329QNXHm0DMpg5BqOuvQMIKkEAoXDlAcYkqQR+HtT2nA2Q+vW0DQc8hPEHaBU9BKifxQFJaEEHUrVM/8VHnQMvSJb8ZyaRAHPujP/OTkr+EWD5AYDD3P7cALEG1mqlAXmDRPymDKkE6aPJAdXgpQUBKl0CT7S9BW6WlQDSSuUDrXyJBWW9aQBrBUEFFyilBgvQvQVHaQEHE2SNBN804Qapup0DrLQZBOw01QZNUT0GPiN9AamthQCDQ7UC3tQZAcnQhQYRKMEGKujxBLrfBQORSqr0fJpdAmnAOQTqzlj7V8PA/2LS8QKnoQEHgWk9BAtKwQLsTjEBCx2pAzHYUQek5OEGXskZBKYOtQG5rOkHU+DpALkFRQRrSRUFf2ERA/+otQSaqO0EOjaJAgSo9Qfivoj8zaxZBf5HtQPL+SEHnqi1BJ3YmQd4XV0Dx3kdBKKZHQctSokC2S0+8iTnsQM7MCUF7OHo/Zr8yQHBQT0HIKCJBrwNCQSjLo75vm5tAX0HKP2JPIr8KLu8/NyInQI56SkFNU0xAinlBQM45e0DUTJ5AGEsMQQpLGECNygNB453mQMxxJUGS8UlAfu4iQWHjj0A7jZlAF+TeQOiFS0GpR2U9msqrQJTs5UBoMRxA0lCiQECXF0GIjjBB1Io8QEWQJ0CSlS5BKzTOQKRiF0HxdypB90SrQN3oMkEENfxAym9HQVhySUB+0TA/dyTfQMQBYkARyn1Ac9KGQFIIO0FROqVAsH21QLj3tTyAikNAQQxAQT+XhUAo8TxBxXOnQH/Ggr9qCUlBRoCUQGU8uUA7Pi1BiaimQGPNRUHpjSJBBvnHQJxEjb+3SPY/N5gYQdYtwkADKphAFLgOQY2bpkAMfzBAZhNMQTT8jT50HzZBYiTiQHMUT0EaNy9B1IJCQbcaWb+TIxFB+Q/WQAcHI0EoUUdB8arAQEjDEkAzli9BJ6oQQe9hF0HO3zdBSd4tQaV5vz+Kwh5BpL4jQahvCUFiBSRBXMGpP0b6s0CH08VA6QKwQLQaA0FvnzNBf4qRQN0BOEEtRTZBHuhOQZ8jTEEYgxdBBVCUQAADNECeWZG/B3cwQelJKUGspKpAIHkkQeel2UDgqUY/3EceQcnHMEEIn0g/vbo/QUPQ9kB+iytBOso1QbeYQEG2/D1Bu2hEQYrMPkHBCypB9alovpNNiUDywTNBVgaoQJIXE0ErQylBS9UAQH9oNUGkVChBtgEpQUWgrEA64UNBlXgKQb2vwkDZSCxB+ANLvyHBE0GDaB9BUuMfQWhJT0H7pQpBFG58P46gQUGHsyZBk2AeQakA2D1JdpRAkUUFQcB2Q0EE1gpBFsrFQGadLUFyPAdBSVBCQaEZO0BkNv1A3I2PQGrcNkG3tTpBzsi9P7JP9z+CMs1AOlhKPlAb9j4DSTdA6mefQI49q0Bfiz9B91OOQDjnzkCaktE//urYPWioE0EhNFFBRoN/QB45ZD/KQU9BDr3lvhSVFEG8UaxAkcU6QZKeLEEGKotAlPoeQTJ4K0HVF/VA5jo2Qe7+0EDPwBdAbKohQSgTjkChNTlBVb9KQZBApEBg9C1B331OQby2IkHu9yhBOFlBQX0xO0F8ei5BhngnQc9QE0EKmaE/qgyRQMzsNkEKo4VAhtuIvwgWbT9Fp0JBwVstQXwvNUCYpDpAY8kxQQekoEBEiUJBDmsRQamKtkAPQC5BYN+QQKYpokAqF81A92TOQB0TKEFNsK9AdpvPQHaoSUFSf4lA+gIvQVskqkAxB3hA20dCQYfAJ0HPTklBwtkxQQ5fO7+uX7BAZT47QTSk9EByrCZBz70zQNFOPEFtYBZBwmlgPy8cl0Bgp0JBdJZCQXsnvEAoi51AR7oQQekeg0BPgatAU6A2QehSfEC6TThB6Eo5QJXVL0FiS5RAedCiQIfhVEA0v05BgCk9QZxcNT+SZsNArgKiP80zokD7tiVBQ19TQPm37kAFQytBVr9FQWxJ90AG3BlBD548QRrNJkFZWFJBz/2vQLSFi0BmhytB8SgyQW1eHUG21hxBkuRDQY9sMkGY7AhBuy0hQfh4ujyl171AM91BQVG/LkGS/4k/YBcsQa5tNkEOtDZACDfXQJHEIEARk0VBjshFQVhNNEFn6Iy/hZctQVJmw71mQThBHUA4QY4FLEEKWBRBDYv9QD0gfUAfGKZAyDVeQA+XHkERKBRBrpaLQDJNLkH3UlFB8Q2TQMTvpEAY5q9ApQasQEJGRkFHPT1A/cFGQJurzUAkOUZBDlyWvlfIEUEz8TtB2P0sQYo1BEHLeiJBF2EgQQSfPUG5KdFATjnBQB0YPkHHXjtBf59DQDszx0C0/C5BmlUGP+ysKEH0biNBSaE2QUmqE0HT8xZBc48QQeaVHUHPaTFBxAQDQRKIAUGfZRJBv/iwPwDOPEDZITtB6wMRQUEYuj9ZGkO7K4NDQPJ380B9B71A2HRzQFKNKEFJCz9Bk+E4QZ1SFEGo50RBv8pDQf1kLkHPK1BB1WuaQOBhEUCASqxAJXgrQYoVl0AgI1JBX/ITQcJukUBwmPQ/SPIpQfxEP0EtQDZBVhXNQGDjar+ncdBA7QpOQe4INEBf8U1BLRAvQQTiLUEM6JlAQYejQK97u0As10tBTPeIQHt+PUD87i0/UjVLQTmhQUG8/ylB+lYlQdD6mEA6vSpBA+qgQCvC6EC/yBc+MPUuQaE/TUG7CxxBLIK3QDNMNUF087o+OsmvQCTBUUGYgENAN5YgQWmOgb8brbZApMQdQVgQ6D8kMJ5AdrHEQBNjKL/RCYZAjg4nQafqREEFQylARiTfQGLJUUFlV69ADdODQMCtCEFuuiZBSno0Qf/6J0FHDUJBxf4aQerBMkGLbj9BLCA8QAwPUkFHbyJB4ps0QQVkN0GvrTZBI71KQSWNPkEMRkBBMDgxQT5UUEEGi05BLyJ/vyyFjkB6p8I/Ac5IQbIjwECqIDM/tGxqQCxjhEBgZL0/G4MGQfkBdEDS2TZBFR8zQEywvEDOGLlAcURQQX3exkBU+EtBFstxQAP5AUHPJlBBsAlBQQ6WskBSKjtBr4oLQcZiIkHW6RJBLOIiP3JVSkHIgTJBQiGKv0K1LkGV5NFAcZs8QYM740DZJJ5AatlKQQveIUE83jZB1qE0QbQghr/pF6JAz1gXQUXoNz8IkjZBSWPOQFxcTkGXS9ZAqbRRQVHZLUHFbwJB5ac3QUOuCj8OfYM/IXYoQeDyQkEznFFBdsWXQPZxPUAm1CJBB2GqQBF5Q0HX8i8/OTciQfUCkUC2hSdBe24jQRehCb7gciNBD4oiQb9tI0Fk+gBBB60TQbeg10DhMKRAqUY/QcUNvEBFi5i/ciS6QBFKOUD94lZApycWQb1qPEGKgCdBxFiVQF7zTkC3LEBBa60+QdhKOEGSsShBhfEnQffHqEDUIHNAyVEpQY4WNUHOzJxAz98jQd8BjkD/hEpBSY00QUL9qED4WyI/C4YuQSyUMUFKnClBUTDKQCGJSkFfUEFBes5IQUUIrUAMfQtBckysQHT1DUG8nxFBxgdRQcLgoz/sXTVA3FMSQYvCDEBU9t5AxTs4QZyLN0Ec0qtAU0E5QQc1LEE8HEtBP6MwQW/BNkG9TihB0GSKQFeRPUETVI9A9ms6P+j7x0CTWhdBYhwOQT2EKkEVlpG/mQV3QIYADkGRzrU/868rQXbIKUDfrj9BFrJGQeFZoj9TDJRAJ7YQQOTLzUAwjvo/VClFQWbYH0FD8mpAHAomQZXGgUCFFZO/vAISQbEMO0Ev/w5BSomUQPGGu0By4KY/xTc8QWhQGEHpt6NApq8MQUWqsEA62UJBCEqrQMGPJ0FTFzNBecnEQMiNmkAMpYZAmQE6QRpsK0GUDi1B3LtQQe1QVECoGipBL2FNQUsAOEFOeC1BnjGPQEOQjL/OARJBWkkwQa0po0CUp0NBa3mMvyteMUEd+05BuHQIQUlmhkC26ixBIZvpP4ZIm0B2fUNAWpo/QbtwGEEfjn4/CQ+OQJToib+7D8BAHj88Qc7sF0EvwFFBFKQTQSWpGL7kV8dAf8ZLQdlFvECCOThBdTeRQFYYLkGO8fNASCBKQUiBw0CTsUxBv6AqQeK72D+psmlAUjKRQFV0KEGZqk1BekeKQA5i10Co801BjYO9QPhN50DqGI9AwgnDPmIST0E8niFB5KzDQH6AnUCRXThB0tkNQdUUa0D6xAZBwhbgQN3PTEGSqTdBeBrXQMKxq0AKAidBsaO4QOID+kASErBAWzryQM4Am0DEgExBa9oGQScbgr8lTDxAvpk4QcJj2UCtLz5BjxFNQQh40D8y6EJBZoopP7Le9kCljp9AI24aQfurqkC5cThBjweWQBiNM0Epr3S/Ex4UQY6lKEG9pw9Bx7hJQcfDwEDmKiJBFFA3QQz6vr5ZH+hAHlIvQQKTKUBxd0NBupssQLJRj0DzFRRBUaiuQNlsiED61tNAWdrEQEPkoUCYjGpAqcxOQZ4V/kDuajxB7Aw9QfqalkAy2KdAQhg1QfK9GUAozwJBbSNEQQEoJEHwRNxAlNNeP5vZLUEeSRtAI4j2PcemOT8RjsVAX/chQUu2PUHK0Kk/ytfkQKXCSUCeTIpAAneZQPPFRkGl9uxAGzlQQZYn2UBU51BBUNlvQIThTkGyszZBp/pmQGrVSEHdSZVA/BykQFvIGkFkPMA/1P2jQHKqg0CmbkRAtHBMQVPu4T/kTUFBVGlQQV4igEBRzjZB/DjYQBpyr0DFwGxAxo2IQN/KRkHT8iVBHbUsQUP+PEEBqkVAQjIuQW8tNUEhHU9ByhAIQRWchEDuZhlBhDdKQa1Ruz+qCw9BvY0IQTkAnUBgqUtB6mnIQC/PDEGSwd9AWLslQeTRNEHYA/xA6ZQjQVy2D0DdBrRAp6wuQZIBQEFuSzhBTshMQUkkmEBn/m9AKkExQV5RLUA3mCxB++opQaA1oUCi8tNAn6dOQeB5MUHkxz5BvQIZQfHbPUGemkVBNnxuQGLtQkHOCCxBRxEXQRsaBkFwAxRB02syQexIjT/XKQ9BQ1KoP+dMmEBBbfNA1wS0QJXOiEADfYFARbjmQD/8PEEV7MQ/cnQHQda+UUEeUpdAj/epQBN+GkHVsExBu2hFQdEamUC9R6JANvs2QVujUEE28sdAtAMoQe1w7UCsZhM+42wpQWy8LUGHJkhBqY0AQTyS5kAgvEJBkz8OQUOizUDmhjdBuGm0QOs0HED/CSe/8hzfQOoLfD/t++hAzEqsQI0rQEEWQi1BBH01QFGcIEF551RAVafbQERQxECprZdAvcwMQZHjmEBWWJ9AVwKBQJn/S0BqIB5BHoUaQY6oxEDSAjJB/kZCQSEKOEAcXoxAO7K4QOOyTEHspJdAEfGjQAiQPUGSNz1AE40yQfGhEUBTYi9BimMYQTJIvT+nfZY+Gw/1QE3iLkG7pYtAa480QePZDUD5ywNBQVyZQIxxRT/n9ue+h7wgQWkz00CbsXtAcvI+QX1fUUBu1WC/Lx9SQaVqO0HeFjRBBRkwQaSkGkE2YDtBhSUaQK++SEGGSohAfe45QZ9SsEBCmT5BQ6eiQE7LOEFLTPpAtq4wQStsO0GKmSU/7qSuQDQxO0EvqTxBu1mqQGWHOEC4ti1B8RNNQVTxzEDHcEY/v5gjQZaKSEGPhBBBwz11P7iWwkAZK71ALlw8QCPLqr8dnD5BK+aOQCW3IUHt4ERAoGoWQdTwYUB3iJBASjM7QbycFEGNECtBgNgmQfN6QkH84pG/tQMrQTnFu0CTPY1AmG4iQWIQT0HslU5BzeY7QYycUUGA5RpBIyOOP96ZH0FlroM/GEf0QO9ItUDjxIRA9KexQOuFYz8zuyJBbRkmQe4vL0ETOWw/4r86QcQJHEGQU/xAPFZLQQxfsEB06aRAEPjKP3OCrECyETBB56beQIcAUEGKwklA5s6iQPWTjj+9HDZBgcg1Qbo+NkGkZgBBp6a/P7Vum0BBgDFBPLMmQS5yQ0Hbz3a/cMshQZK1Jj9j+9FASlL/QGw+pEA310RBp/o2QUI1O0GfARFBXD+BQCpc5kDR+ZlA/Z7FQGqJLEHYmpBAj56lQDU5ZkCQ6y1BFn4zQTLLC0ESfEBBgoe4QO6UJ0EGhwBBmnmWPy0DmEC77TJBRCG2P/4CMUFeDNRAsdGkQKXRHEEK/ppAQpYrQRQCQ0GCLtVABnHZPwfQxUBYsKZA4gxCQWpFGUEI5Gw+3fkYQHvl9z8ediJBP2NaQJVkGj/JO88/+JlOQapVTEFygT5BJHH7QEw6rEBJyDFBzVZCQc6wYL/zoI1Aj+I2QQienkArUatA3yRIQZH+nEAJKy5BjXoLQVZkH0FW8qJA9kpJQW3UJEEd+HtAN2dRQbNmDkCi1Hq/2EX8QFC3LkBzwkxBGj0qQC1RVUBbtChBOtvlP5awKkHzlnxAi08tQcgt4kBMO10/93acQJKApUAz0eNAmEpGQaMrHUG5b+dAhuk6QW4xO0Hs4TS+E/5CQY7t1UComh1APHAuQZ3KsUD6TZlA774jQeklPUH6bpJAezdOQCe/IEHNZDVBCuG4P088SUFLJkFB8mI9QWgvvkDD/D5B84m7QHy9R0GE25JAuGOvQBDbM0FST0JBb3AXQYPYI0GK2BhANCQ3QBpNMkEgQDlBEJIaQJf4fz/X0yhBvMRLQV69wkCULztBzRr1PzRttUB2X85A/OsmQf86PkGi2iNBJWjqQG/Z/EATEai/sh2sQOmztT9ad6hA8gBXQNddHEBsAr1Ax8MpQaKQnUDFzaVAtvA7QZJ2Dbxpzb5AKbZGQWs5kkAHmIlArJWwQMkB+EBtSDdBaTq1QFewS0HneaJAchz0QLyCE0E3jhlAolSzQCTYqEAGDXA/aTPFQN+eLEGzkENBfAo5Qdh+UUFEWLA9IK87P7yYTkFvi6G/VCvyQF2sfL8uyFFA1Wc1QNLX2r7S2UFB5Fd/QOyVLEGBJ0NBmX4BQNLU+UDv2kdB9z/rQGOYoUCYIqNA80MmQelAmUDV+DNBfiVLQRFyMT/nOTNAXIrGQLI1Sj8fWC1BlyHfQNkCCkHxdytB2k1EQN/pCUH2HxW/oYudQJGeEEFeZR1BxD49QdHxwUAoNUJBlMM7QV4bTEF7OSRBUuzfvsMVT0Gbnb1AORk6QWdyLkFEbHpAtBujP83CXUBRZyNAfVRPQcxks0AOJDFBuWuzQM2h7kDTnC9BhTrJQD+DN0F4YFNAdwMoQBiYDEHlHz1BUZ4jQVp+BEErfqRAUAIzOzqwm0BImYm/JAA8QT/KQkCjdjZBDe6XQBtHhr8ofkxBq/6zQHp3JEFhHT5BXDdzQHjkHUF96UpBXgLHQMK0N0EOaCdBDBoXQfWCM0HXvjZBG2QvQT8DT0G/RztBdxpqP3mPREHVl1FBoYNQQYv1jEBfNII/MqA3QL17hUCJmChBSohKQX3yHEGMekhBJ9NFQbTyREEBtR5B9xXvQNZBuUAmbQ5BCNYWQG5pr0DFSV1ABy0xQWMOnkAYgmhAp3QzQfD5QkElaUFBuv0UQaFuAkFzcJ5AmEioQBtQQUHBUzdB0syKQANASEG7DDhBpCgSQQnYgkBQGuBAeTBkv5eyG0FsmS1B0J6Evx+Ro78XfFA/rF+rQFW4K0ELNpFADKVAPz1kgL+SDyRBZSftQCeVJkHQA09BzSpDQbXOQ0HhEkNBlTzlQOqKOEElKDdBq9bBQKqvykBumgxBCeQ2QZOTUUGvqTtBGQk+QX25c0AQJY1AeLFbP+y/JUFk3udASSYaQWYawEAWHy9B9opKQYgX1kAY3qZAxC6uQLPqiUCYlwBBHv85QY0+qEBdmMtARrsQQbXsHkEb9RBBi+P/QHe6xUAJyopAgtuoQBBEAEFdBzRBFos9Qd8NRUETOEZBFqeJQBPof0B21ShBGknJPwN2eUBgGphAdOpNQQlbJkFutbBAdkOCQAA2okAwfRhBoUHnvKLk3z7WGT5BcP8xQUT9jr8ZMMRAm1wUQfOskUAzOj9BzETBQHqUiD/uAD9BJP4LQZP4QUGvD0xBcU5BQTpCPUGpWhlBxEc/QTg3OkGbyTJBvuhIvy3CQkHdv0hBX0M9QTCum0AKdCFAbLfRQM35skBLRh5BWxboP0DihUAeOGxAl3w8QaCIPUHQj0tBGA8eQVWDIkGGnqZAnCkuQaL7ir/Y/zBBoPYpQeJiyUAzu+pAUqTxQDcBr0AWB1BBN5qKQNDkJUAElA1BHirNQO8VHUDv8ghByNEzQe1eN0G91BNB9vwNQQLgP0GZLgxBj0QrQVhP9kCFfoa/j8TgQBeyO0E8Tds/COkoQX4J+kCPxLFAhfblQCG9/ED3Xy1BgBopQR/M3j9+NJRAEvlHQe8Il0AbHqq/tSrpQIa/OkEcbai/+eQyQZQMS0Eu1EdBk6K/QCRLRUGJb7NANcH1QF/WM0ENaR9BlsJJQdFEBEFIVB1BVcoGQUu5HUGsRRtBmwdNQX1ghj8dNidBjWNKQUl0mkAVcCdBwR1sQKhpMkGRyDtAzBK7QCmEA0HTQoi/Spm5QHSHTkHp5SRBIHpAQa0bhUDkIChBUCvDQPMq+z+x2Vc/y8cmQQ6qUUFFLwJBeYBCQPbfPj/2tEBBcnY0QH/D0kDQYSBBD/A1QcgD3UCNmKVAgTJSQebpr0CtqqZAkL6CQGPyzUAwxTBBFpD2QEtTfD/J30JBIAlQQMq3cT8n4iNBL9Y2QV6N+kDB+H5Aa4wuQasBT0EfIDpBEikkQFVqKEFkh4ZArGtAQdcDMkHIESNBdfcfQRwqLEGZdztBkw4/QajRuT//g6U/jlmaQOO6QEEAaMJAdYK/QAlXKEHYo0tBVumvQMnCoUBcw0xB9nWUQGfTekB5ifdAamXyQASJOkEejD5Ahl81QSNsoEAhbDhBIak7QZ9iyj8rR9k/lEDXQNQ1TkHrNIpARzm2QA==",
          "dtype": "f4"
         },
         "y": {
          "bdata": "t/pBQaWor0BobhpA/Q2fQB0FD0H+LFDArLy2QJnvm0A+vK1AKo6zvzlSQMDAuE7ADvCZQABj579F4ytB2kQxQTTeI0FxHSZAf+nxQIowjEBFI+ZAwggfQDsaakA4GktB6+vQQBGHFkFX/h9BphezP8YUEEH7lLRAbDF2QIYHD0F2OKE/viUaP/fUlkA0YiFAa7ZJwEweRUCUURFAxCXlQNUAFUETYAhBa7YBQILstj9fQAVBUcBlQITLLUEyUAVBRrUSQXnUS0FO1ytBVNQAQM72Mb/Rv09AFq/lQP9TgUC8nhtAPBofQNzzEj+hQja/H1FIQLE0ckCdMxFB4lzSQO7quD/xnJ9Af+wxQa0aFMDBu69Ao0AWQUYrt0ABw59AuZK7QM+/HsDKNjJAWkBCQX5wm0BT7KNAWtEnQV3wf74DgatAEhESQV/zNEFyVwi/juATwMjQQ0Hg4S9B1lgWwAhHGsDq3zBBYMULQTPqT0ASLilBXGM+QUGxUkAG3EJBq7OaQEobFUEq3ok9jKK2P3LWrEA3vwhAxzAxQVq3Tr81VTFBMFdJQdoWxb+jKgZAYKvFv+poS0EgMIq/qRCiP0sfHMCQWkJBhSAnQf31DUE3AUFB1WMCQHx+N0BEKOJAaGcnQHRq1r8rHhlBXd3hQE1jBkGcHhVBuue6QCutF0Cdd1DA7xwhQQcIsEBjk88/+GI0Qf7eb0Dy7EFBH9o6QXuv3ECLoClAtWovQaOkPUE1bEhAO2PdQPXIPUB7+DJAcNMrQdSrpkA7FrxAVAI5Qfj430B46khBvyjqP+XgjD8dTcO/lx5BQe+9QUAHnas/GOLfP2cLNUF1QxZBB7sZQbNuCUHtXyo/NheTQLSfM0C+wJVAdVBGQfwxMUETOidB5GRwv4AXHEGyAC1A8x7dQMYgGkHL9eFASeUjQR+4SUGR3ytBpDdMQZokTEFbIaM/X/v6P639M0CPMExBYUMIQG2nSkE0hLS/aseYQINQsD//tQvAyHMXQfOJF0FQkx9BhIQoQDNxnECPgH2+2m4jwJIkTkD1Nw1BC+YxQTKQD8CLI7pALvYQQUhgl0DUsfBACLVNQEAZK0EYYQ5BhtEMQUTZFkDHuhdAO8U/QWOIP0H6XAFB1+sZQexsrkDevv5A+nhAQdgfSkEM7URBOLHmP8cSdkCCjK9AITwQQOqjKkGfWpdAQtm+QJJ9JECOawxAVrzjQPheKkGi1XxAsbuav833VkDzVKE/uI9IQbJ6EUGGAK5A5qg0QfbPwEA4XVNAZ6kIQEQGnkC5nUVBUQ4XQBKlmj/g8/pAldgkQCZbnUB3ozFBsTZLQU4no0DLShVBL4xvv8vynD8o61HAzHqDvxP9FEG3o1JADHpFQV9MOUHvyf2/UUU5QaAdBkAjTytB/27tP1QAA0FPL+G/x++QvSQzCkCfjsVAF09oQOrpd0BfV1BAH4ePQCNkGkAHvAhBsGxvPwkkI0GuJftAKRQqQageQEFDpI9Api8tQdLtG0FKNXxAGLswQX9K5UAxYOBAvP7gQI6YB0ETlkVBTQW1QNAh6kDodzlBYBo6QRRUM0DRcy1A826rQEL5Z0AGUCXAAPgWwFh+sL9pZUJBo+OkQEDvLUHPcxJB+8sYQRFDm77/fCJAZj66QMwQ0z/tZwVANn8aQfVOxEAcN4Q/cJ/rPpY+9kAshbZAv5kQQBVbvUBtMS1BvKHzQKDCL0H3w7dAlXEEPjsCLEDFJ0RB/dnMQOOgQkFZZsNAA3RMQZbPMUEzCwtB1aSdv9ysG0GieENBSxIxQXmEnECHMlFABK2iQKcJej6Yp5M+/9o+QdgXaUBgGwtAjegqQLt/IkGiOF1A9fruv0w0Hj//whVBXkktQd5RHED5D5FATP8uQejVN0Em7EVBIEJCQCERtUDAnRxBzhcNQUWeHEFvIaxAzTTfQHjur0BgAyNBqxvFQM1tBUHAPJFAw5BBQf2CL0HJFJZAwHvBQKwSKkHXwTJAuIGgQAKJS0FEihU+cWEVQW5F5kD8IDdAFoO/v279R0FXySBBqb8awDL9P0F8CRM/VKwbQQX900B3N9BAdKg1QbGMSb3TKghBo6wdQT0xkEC/2+5AX5nFP2D0pEC2BeU/kPicP1QGmkDUb9m/xzFHQVglmUA0SUFAl3IkQDehG0EGtDhBZI4TwEa3M0H0XTBByjQnQfYHhECQ1EtB+tM/QWu6QcDHK0lBuiYSwBlbLUCLRb4+LIvtQDl3WEBToi5B8C+LQDToST62MAw/WYAYQPsbPEGvt9s/C4SYv2m5oT938jFAeCTCPgDQGUD0biZApQwBQSnfMUH+hhNBo1ZGQKYOJMCTRAhB207GQPBEEEH0fJU/HzMAQB7kLkGp+R5A6o0vQF4sDUEHerNAiGENQeJxJr9JBEpB2L0+Qd63MUHdeoxACFiDQEMPBEHyQo5A06jFQK2rRUHjQO0/CHsZQIBXw0AvUkRB1lrlQBa+QEFmsytBAod1QGTmpEDHXp5A6LolQV2eEj9py7K+b46iQCGQ9ED4GCZBbsH3QLKhwkCJX7BAe4EyQb6kPUGWRypBVhMCQcE0PEB5uMJAkpBHQSe2WEB1zqBAmVPqQFnmFTxHFClBFp4+QUgAAsCD1RdAaFUvQTgE7ECj5r5AirITQKO5i0CfHE3A69EjQA+IGEEcUhRBNCsVQDZHSUG5fjZBAU40QWUCAUEZXJZA3sY4QcNUr0DOFh5BcHYDQfnKMUFdnyxB05LQQPo5QEFCxLVASt8lQDVBrUAIdFJAmrVIQGhRW0DhnAtANEAqQeicBUFDKd1ADic9QXw6ckC6TWpAymwrQP8HWUCn07NAvy2pQEHP/EDT9atAX0aHQLJVLUFO4w1BLUrgP7KAT0CVwSc/1x1/QJqCur975ENBbkAxQHCHnUBBaBdBxhcpQRFTmUB9vO1Av5U2QeLWdUBFJzpB9B5pQDIDJUEb4ZI/BWUwQIABR0FTWohAJmRFQWnzEkHdswNAdGoxQaz0PEELQBxBBC+xP/aEwkBTgytB3rw6QJAXM0HXvrI/XjU9QUekKEDXnR9B8ZM2QTeHLUHRfyNB5qgeQcaMG0GAtANBZ7w2QWp+DEEzVwBBCMl1QAX6PkHU4pdAtY8XQPHrg0AqbpRAg4ybv1YXvUBjH6tAwy+0QBdSFL/A9kVAjDGaQNd+F0GaQYK99TQWQIiBwj9t4968I5xqQIMmYr+yKJJAjxUqQMNtH0HFsuxA6wscQeImKEGlnHBACsJuQDvzH0ExZUhB7q5lPvHsikDfYRNBUUanP0plvEDdoSxAm70qQYUgMkFgs45ATQEQQYn3K0F01ZM/MRMtQV9+KkGYbjJBvpo1QdBBQEGtHExBQrERQfQIr0AfxjxBpSowQY+m00Bhhfc/YCsdQdoIA0DBtY4/bheDvd00IkH38BRBUVQTQY9xVUA7c3hAGhtSQPsSBkCNCwxBKebTQMnqs0CPgEpBAWwxQYf9J0FRnDdB0VO5QCvWvEAszYtA7EUwQTCck0BsRzhBQaW7QKSoSkGKxFhAm/09QTHrHkAPNZpAvCQsQQwRu79q+ARAPVxrQPLefUD37ahAMlRGQcUXYkCt9pJACHLzP18wCkDmMgFBIHo3QXM3wkDTbFJA4fybQP/zCUChqDFBrnVKQNz6BEGQErxAp+2tQFbQL0G9nDNBdfSmQGfAYED2ejnAfigRQE2Uvb/T8QNB7FU2QHUgTEEnaURBYbr1QJaOWkAwBjFB5W7KPWDTC0G7LC9B4jERQUw/R0D+XR1A9zN6QG72M0A7II5AiK0nQSh6OkEyCExBcgscwNjuFUGghLRAqKErv7/CND8TtklANlooQEX0EUFSUuZAhdnHQA4RCEE+vjFBfF1cvSxMS0HRYDJBYAKFQHyyrED7BQw/k8M5QHBxAkFMHbtAX0u1QNSK70Cmvk1Aoc+Wv3dEDUAdliBBbtBBQbBiOkHPc6g/2CcOQWlotL8eM61AgrAoQQtQYEAVBe9AnjsxQUjPJkEkDC5BwUhGQSvXE0F+S2hAkMYyQT1EEkEC8LpA12jqP0VrH0HIo6xAUm9MQAJcp0CR7dA+ErOoPyh3ib4TfKpADX9IQRv1GEBtmug/c5AUQbLPXUA+1v0/b04xP5B7R0E+jipBNyS4QHiexkCi0i5BWa4rQT1eLUGgyxdBglVHQEYGDcAdKzE+QpTRQOL9UUC5zJVAH2neQBH2Y0Cn+Q9BmAoJQH5wMUENw0hBRJE7QRob/ECbxxRAc0XlQLGbK0H+CLpAZbQfQXM3IMB+GDlBklfFQI5KREA17FpAtqxHQXvQLUGcI1w+WXQbPxq3pEBozjZBJloHwJjLXT6UXy9BjpQeQcFW178UmGBA6X9HP7fbOMDh5CJAHeNGQNFDLkA9HAdBYX01QImtlUDfUdJAjqroQLzJKUGimCZBxHXSP1tFv7/1HK5AkF0xQcuK00D1BzRBKq41QWznaUAzXFHAZvlMQJhAQkF3US9BLXWOQLvttj/KwBw/d7BGQfFDTEHlYRxB+fHEQMBaMUFUQYtAkL4Av5ouFEHCuURBI7CqP7X1GMB9UdxABMYrQf0lgUD51TJBC3EPvx7VP0HwWvE+PTc3Qd9dB0G1whNA3RnBQE1b+EBEm3FA78HkQALZ1EDNaCVA4bQeQYFhX0A/STFB/yMZv3fQF0HZ+4c/GFeSQPXqlUDr9CVBthQnQT+uSUEIZQDA+ZMZQAoSKkFkRUtAgYoyQSTArz+2f9FAznSqQLZXMkE5pB9BmqYpQSXgLUD8yrQ9GA8AwP0qMUHLghtB9CAJwEI1DEF22B5BrGsCQQeNbkA027hAXvsQQcEU8EC1qBxBZm4NQRYxH8Cc0yJB0qxqQCrADkDuktE93JEKQaqKI8DlCY1Asbs0QfBqlb9Agv5AhuXFv+2pM0HEUQbAt964Ps53l0AjJMhALr4eQeoQr0BYZTNB5FqeQCCGD0HvRUhB5pMLQSd6DUFRWCZA6okvQT4nS0HyeRdAnWtHv/ckT0A17R9BUHoHQRl0akAxhL9AemhFQOzRRUGWzRdA9Sb4PhP6jUCBQwFBawcCQCqMMkG1/x+/f34nQXPsTkDY4g5BppEvQcsFer+ZXMhAdsnQQDxrKEEw3k9AHFg3Qejvi0DT3L9AZ9noQMtk4UAa2KFA5VBLQcFTM0FBl05AnqJKQf5KG0A0FktBrg1IQav6LEHPU+O/h44vQX2gKkGvsyDAN1ABQd1XB0F8Vpe+RNxaQFOqjz+ocjBAXy5Uvvl8Z79E0TVBQNkIQYUCwj+Bbz1B/HoVQYyRFUCEkw5BEvndQOASDkDNiy5BopotQWfKHEFRYNc/CeIbQGg2G0H3dBs+sZ1DQdViCkH7ejNA16cJQZvUNUC5/y1BGP9yQGvyWkBojhRBSD5vP42DIEB6tpW/AlEzQc2mHkAJUEu/QeMkQMULxEDGcQRAL37IQE2HRUDFqSlBxqM9QS+lD0H3dDJAl3znP9+Ooz9lszs/RL03QNKyJkA/8hhAesGfQEB9EEBk+o9AAZHGQKudKkHCOJNAQ10UQX9Fwr8an0ZBapVQQH/VSsC4AQtBbmLGQJtPNkEJXMw/I9q2QFmDQEEFOCJATBzsv9MOFUBgnl1AHMgbQSTwAEH10cxAEbo0QYYH50BWugtB/WspQbiVR0HLCChBXhfDQNcqrECPdXhAHAaNPzkeIEB9cS9BgcKeP7NQCEGoH7FArmYnQbqgCEFbd7tA7WQhQVm/NEG84jFB2NBNQKFOG0G599lACgghQVH3MEE5jUNBeI0aQK2PYEBBFvA/Fcf9QBVAHkEy6ShBvvyRP/cAdkBqbDlA87UvQRbADEHXi0lB+g0mQaeLFkF1Y5ZA34ADwK3/0UDxwxVBtDGJvwW03UApOy1BtmdyQAS8H0EOxD1BavBxQJ5YqkDS75xA/CgWQNCWMUGEjlC/f2jzP5qB576+kqQ/RhZMQdcfOD/9B7O+5yd0QBVlOUHV9idBnBOcQL4DIUF47uFAwDmVQHTZ6EAOgR1BjR0fQUU6lD/AxS1BDf0FQKPCFUElrS1Bs5umQMslpEBoLr9AL19tQFoUMUG+IfA/yAWbQOGOrUAtgOs/GYNGQXJ0IUBqi9q/md8cQJOQIsAYp2ZAGNG/QPDiO0HhtxZBvW6ePXuwOsDnag8/nt4EQVb+skCJVjpBFsoTQJ3lG0GbrV5ApY8HQTM+Y0CUewJBX2JKQc08uz/qvd+/NZ8cQVQmrT9hhbg/6sBjQC744L+WgNs/hYk5QGl+3L9S2h9BNJkwQFs8OUC+SjhBuJjPQBSZ3EAw1QI/df8XQG7XS0Dd7fpAfvw1QNqgQkFhHohAlc66QFF96kDrCxNAz9ooQfAoCkH2dYlAuxjCvVsYSkETW5hAk19KQaCTnD9D7AJALaLKQHOIx79twqlAbuPNP1GcHECxATFAucQyQVUxt78MVBxBwZUzQUyJX0CI4QVB585KwPweEUGSw0BBFw4rQTylPj+ZW4BAQdMOQJfBrEBxcLRAwgxBPxyXDUBUd1JAueDPQPJ+HkGKX3C8W14ZQNXoOEFW0CZBkJUrQUnTMEGX4wtBw78yQPTVRj8unLxApVi1QHpiD8CzOi9ALaENvyFoJ0G8KM+/Zd86QdNKlkCHKl1A2MU1QfSkLEAtwsVAUvKrQNmK0D9rgyJBzL18QCqOuz8kaxjAdVXbP3aXPEFhDt5AgfCGQHmLQ0EG61lAQxccwJHqREEH1j1BSqoWQTAHKkEYs7c/ZNc9wHuII0Eg9/C/PEQQQSWe0D/+kRA/b6FAQSb3i0DXbqU/neghQBxVK0Gv+jlBNRZhQKomDUFaeS1B1wygQKh2rkDfBUpBZ9YcQEnh30CQDdlA36XXvwOO/kC8mhdBo3zWQLtRC8CpLNY/yT6AQCSyqkDkcEtAqRHrQPtyDEGEeNlApAVqQFQPRUGz5IBAd9j7QMBxPkE8jR9Aqs6Sv06VE0EDMktADxBDQJ9+LkHfsTBBwH9lQKVBLEB8zQRB++ExQXRK2D+7TT9BL6MqQQ0jIkGVWVI9ha84QfaA2j8EyCtBfmK8QMh4fz9Vqf1AcB+yQFxySkEL/Z9AejLkQD0FQEBnwEdA4xhLQF5ONUFvaLA/fLAsQf0sAkETapxAB3q3vQhWUUDw7K1AHocHQWBnu0CJedw/xSMCQR3sAkACoUNB1sKbQPOXIEFgh7BAwlDgQPZ9mr/gtTJBFYshwJWjMEFygwZA3kgfQFrOXkCR8gJBFy06QZ3P1T9ISQ9BAiiOQPOBp79LOYS/wfNKwAnXMUDJEkZApOxBQTgZFkENcrtAr7g9QevuzD/H3uU9qqL0PcDUvz+cHZFAQ1nuP5tmg0DGcgXALk0jQYhbij/KpqxACi0aP1m69r7Gj96/Bn3mQJhGMEFVCAxBzLwhQXKor0BZkilBl/mJv/SS/UBm+ZxAzkRHQayDLkEBnS1BW3ooQbEzAEFRnSNAevoaQbQxNkFj26lAnBK0v3PvE0GCaC1B3VKZQGcVkUDUA9S9Eq22vyr1KkHtr5U/QNuYQK2KJEDi5DdBz2BqQOCh5kAqogFBf4BJQJY6zb+cXO0/bPdFQaN3LUHVEBtBeF9IQQHV10ALvB5Bbp8zQVw1AkG+ves+BzNKQS8snkDe0Rs/YicYQPz7x0CvpFdAb5Y3QZBa10D9uIFARmkfQHdG10CRd3o+2h+fQLSiw0BxmBM/595DQRp1J0HoIUFB3UApQd6GIkEWTtk/KhYHQYx3G0GoZDBBMKvWQCYvMkG3ZZI/ai86QbNhJUGIqEJBiHYJQcjrfj8VEQ5BpwtTv67kQ0EHQjQ/NYZDPyvfAUAwCUJA6sRxPYpqR0Hq1qC/s1iVvzTPREFHIbm/hKQ1QMSkP8Bx7S9BUeXdvY/5D0GyA0NBoWkDQW+6DUF4wylB/fZWQDAEzz+vKklBTESXQAeJhUC5yDFBST62QJfvvL9S7rJAuglqPu+SX0BtfQlB8V2dQNXX9kDD2D1B5sCXPydKMEEI4jNBbQgVQcx5QUE/ioxAz0g1QXv0HUGNZP+/p784QfNMvkBrsSJBVW36QNvSR0G3vdNAvXUbQeFNeb/NUipBFKn9QAta2EDQhPpAW0jxP3AL0D+YLrlAhtmZv9NYmEDDT85AFx0hQLrppUB76klBz7D/PyV660AajjVBoJzXQEg4yj8wrow/r4xAQWgqpD2UyoBAlTwvQeot2EAz159A8ZkyQQLvWED5KilB20U+QQHliECBbUFBBRBMwIfzP0FCVoZASoeLP6ESMkHCKnVAzlYhP+a40j5I1zVB9TWkv3Z+ckCnNQlAkaFKQeqREED2t4BAhw82QEiBSkETcR5BnW5hQElPC0F9+k5AbBgVQSlDJ0DSpw5B6UIvQCpiDUGkIKK+OAMHQKe5G0CqqiZA/jHYQC8SG0Be3ghBgC+AvYtJ50C3cyFADr0WQKtjtkAM8ktBP9rrP2rrJEH1BaxA/J2gQLa9sUAmDX1A3Y0QQCzj/z/1HipBSKMIQTbbLkH9YNg/CHqxP/ZwJUF2BEFApuK9QLgTSsCUlR7AE9BBQY2vNUFvcSTA2JYxQWz7WT8aquK+zGwyQX+k/UDdEr9Aka7TQIeGrL/MIC1Be6nsP1emREFlOjVBWTMNQZcbGEHk6i1Bf0XDQNDAP0FxvYZA+SMvQFkkSkFJdjFBUlewQKDcSUFu5T9Bz1/NP71WUkA0EOdANOYaP+KtCUCVNuZAuUFCQQThpj+GaNpAjskFQd0QzkBWyk/AL58tQf29g0Bo2zNB/kQgwK1fMUHGM/tAa2YKQRo6QD5zcQVBCjwUQZROPEFdCOhArD4aQYJWL0EeEhhBEIXYQFeI5kCF/xJB8eddQLh0oUDcRz3AjpzeQGg0WUATM9dAyqsWQT58IkBY6MlAg+FXQBt9MEEjLS5Bi7UoQdb2ZkBWuro/yorqQO9/Lz8VMfS+Jv5DQGmVRUF7Zow/zGzZQP+1sUDPB7dAqpUnQf6oPkG9X+lAazERQQLljT9zGLhAGUIXQfbb1kBLZia/h/U4QYVlNEHCehZBmgPbQF6T8D4DsNdAnOVIQbzpQ0EWkWlAV7kuQZ2hez8x7AdA5M7lQP9jqb6ZU/G/qmk5QXgDNkB0xF1A/H8bQBucQEEa0pM/JBQDQS+LiUC2HtBATvsuQV2NnD+Cq4hA3no9QVYVNUGvYHVA7GRLQE93Yz6RMf5AfTwBQKgEqb53+q8/AgtGQLYlQkHFlAtBNYsUQbyYO0HuPxdBrAu7Py+8FEFrSKtAFxo1QdVK47/9jOxAwu8bQSX4TkBhFAzAN1USPy+DSEFinzZB9umSPzKOaUBPhdZAXtcIQdCvb0Da645Akpo0QGrMuz28L8k/vCAdQa1PJ0A4Cum//T4AQbwPH0HtXTVBKt07QdkOR0EE0D5Ak1DJPyKqFcAMY55AdZ4qQW6YO0DjBIxAoQu2P7ARwEDQY/hA36EYQfvNNEFpjq2/ExDoPZBzC0DLBEBBSNFAQNRFj0DcjjRB/jbmP9z2h0Cg6OdArigeQX3QE0GQbDBBGIYFQSbIJED9JytBKL0uQVtcOkHykjBB/NRFQR7MTUC1vK4/A1anQPw3I8DHBCBB6ME2QQw5LkH89UFBH+LGPzowLj4LWSk/tbfmQEQiCEHwCZhATXpnQB5KpkBB7wVB76rIP6S6EED4+Dc/9wvnQOoqJUDl8vlACMpCQTjFT8AvtC5BrBruPnnbJb+HnaQ/e/f6QAbSwECUrNtAK+C+QOliir+gOEJB39EZQY91PEHuYpE/nRUDQUTAI78MWCpB/2keQennNz9Agh9BgUFkQN/Q7UBFmdhAcUuBQGmYGUB9htA/KthjQFYILkHyKh9B12CZPr0hBD45RipB0mA7QGidwLxhiTlBpXejQFcxLEFNtE7A5bhwv71dEcDyTcZARU8OQF1Yq0AEkwFAKlE1Qe7GlkDhKhtBFjt5QLxd5kCcMTJAHMaqPwZ3L0A0MEVBEg5Hv+qzr772HBjAnlhQQPHwYkAKJjNB54VHQVUhfEBY8RdBWL4dQC+ngUDwMHNAlFmzP2zlE0EYNi9AZUiSPSpoRsAO/ChAeXE2QSBkLEHYpJhAVVkHQaeSuz++2gBBW2drP6HkRkEeKz5A9IQPQPkv6z9Sm0NB4qVHQRJIyD/9ojtBvLubQMn8P8BgmpRAwqOcQKdFG75jzShB3hctQe4J5L4VxxZBZ8dZv498n7/BOKVAMU4IQQwARkGnEIs/cprOPeIL4j8o1DBBSnviQGQ1HUB5Qyc/ePwwQZOlD0EzoNk/3rMaQDuClkD3mD1BkujFQDccDkDgXUVB+20uQRSYikCVrtFAXCRIQHpwI0EHzcJAQyCvvwdOGkEic+tAuCVJQR4uJkGIwRtBLm4zQVvLiL+k0jBB26qeQKyg1UDG2RRAwJ9HvzNHSEG66lk/4MfnQBnUwUBuXQ5B+4S3v4JxQkFhCCq/onoqwKQatL8YQYo+tVowQfhFB0GjFDjALVZNQOl47EBhETFBBnYYQKuOw7+Hm5dAQCDfvXrOTUAxZ8c/O2qSvpD6WUBf67RA0MMvQUCeA0GWYBZA9KLpQKsd1j9KjRVAJmSiQKesLUH6xURAxz1FQWV+HUGKawRAklGfP5asSUCP8URBc2YdQULrAkC4RxHAha0AQUvpDsDxOJtA7G4tQXMITEEDHy5BUZ1QQE1XUcDMBYxAP8abQMJCI0GD3wNBCeeVQA9leEAHQvBAYGkWQa87ob/SfVDAATwzQFbAGkAuVi9Bsl5CQXvrez/mgjBB37BKQcN360AqP9U/tVyOQKWmoEDfACtBusxTv8kaQUEXboRAa01LQaqoGEDZaQ9BiW8cwLwTM0Hu2BBAzUboQPI5XkCk8ea/Ah0xQU4lrEAx6wTAlZvyQJP91kCyWr1AX/X5QCIzFkFKJppA5W4RQcHrFkFw17U/SKNIPu68C0EL5DRBGjchQfsSkUCSMIA/YGFAQfw4LUEN7OI+3jboQFMBkUBMByJB9iN6QBnwEcCAmUBAhUYGQdsjFEFAudi/MaYwQK0qiUCV3CNBqSQLQfKnu0AyYjVAddYVwDMKMkE+fy1BCrdEQeuu5UCIdLhAF/9AQV71wL94thtBdbM3QfZr4UC7oZlAVoIpQURHDUHG5A9AtEPcQDbU7z+nlp1AZMkFQdxrDkE4lJJAF1EbQYFarUCYLNtATrpCQTI0JUHTSSVBDZcEQGvyZUCFLC9ACTgAQdGYS0Fv0/5AkIWUQAwxhkBPMBtAiyYjQWp0oj/gPLBAzd3pQEEJeUByCzBBojBIQZyIiEC3pK1AQR8gQBpar0BBIKJA9TFMQS/BKUEY1ghALE8qQIrykT4C+UNBy5Dnv9LsCUDKhA9AOSoUQUDF/EA2gz1BPtv9QHH4xUCTZERB2+KtvWLgPUGzhza+ZuTwQCHBxkDiKsRA/6YsQJdvX0ADgd9ANl7NQLGrKb9D8ANBTicqQcfzMEH8QUZBcA4kwNcSED8rfUFBus9DQUmMTUBqjt8/kFYLQUVkKkG7NQFBay86Qb0eiz4MjkpBBB4sQWCSvEBTQztAFbcgQW75OEEv+RVB8ZUvQduaIEEDnB1AlDkgQVkwIkC59AVBOywnQZILMkFvTA9BQQ3Hv3UXCEFIkRJB1WGLQHHkFkFlpjlBFEMaQDDLd79XYjlBikYaQb8Bmj+jyPlAZSqBQAE5bUAHLBLAT1CTPyHYGkFNPTZBAvv1QImpAEDXMBhAe/oBQN8wNEEPZSlBSB5MQdi2QkG7K8JABiMVQVAaR0EAgQ7A7vEnQTS4fr/zQtQ/R+cqQTmkHD9TkzNBD+0NwF7JQ0GYap+/eHbqQIYAn0C8UQ7Aiv8ZQZnDdUCcpEhB5uJKQTt5s0CI/rVAvVzcQMjm9T5jr0dB5L9VQA4RXED/PTpBZ45XQPkmT8Dpk6I/Ej8XQBMvib893ADAt38YQOchB78esppANZ4FQfxA9kBnbR5BzaqKQG9wGkFrqwBACheKP/m9pkDlBjRBVe6ZQLE/L0A6ZwhB7Y1KQSCWxT9eQClBjHmdQPhWScCOExdBQo21P/FQkEC9qKJA4zWGP8TQf781DB5AMxYPQXS7QUA3TdZA41Y+wLlbK0Gi1fhAWIv/QI+4H0GQj+FAJlUTQUg/FEHw/ONAK0FCQZnRPED8qkBBS1Y5QcwRhj6krUlBfbKiQNtz2kCKTkdAD0DPP7VFqEAP1a5AADwjQGY+B0Et6wRBR2avQDq1pT+AJpRAoovaQN+N2UA/OBZAZrkwQaYoNEAD+8O+KU2xQIj3NUGBY0pBUCCqQEthnz8B83ZASUImQMfcQUGC2ExBxGjLQI9Y50DrjsBAexOIP1/Aqr8uIhVBC1qpQKzwz0B1CQI+VjZHQeAF8UCmBq1AJyQVPwStvr9vamE+vuD7QL5F40D4uhtB1FIGQEkFRMCDmT9B24otQLwSNEGK4EFBfSSwQLcZxUCGiBFBmzGLPyz+REF/zGdAQxHwQDTdr0AxxiRABpIjQQvvGEHM9/BAsINvQFTJ3UCYlAW+R45BQXvnLEHKynu9mhKqv60mCEFxfAS/Hj8DQXVpIUEOSMRAXGhMQcBs8T8LPRtAtYstQeiV0EBdNwpBXygrQfWFNUHCb+ZAjtw1QXc2HkB+XBhAXeYYQKcTHUEiqQ5BQ+pBQP+7u0A84axAOzImQcRJGUCZ4iJB38tEQdGh5UB//jFBK/8wQWXwMkGvNQBBqS2Lvq+NGr+RBDpB1IEkQdpRiEAjarA/c4YxQfkwFUGSXS9BjAPBQA+c6UCljaRAuhUGQOyb5T+dCM9AKU+MQFCaDkBklEZBhkEBQQnwRkGJmTRBQlbQP4euQ8CTsmRA4Z89QU5mF0E4bYQ/CtowQayGAUGYh6m+TRU/QKImA0G6HCNBlO9DQchkL0FSJQjA8BUnQL1Jm0B8JAI/6R0uQY8y2kAVmqs/83wjwA0ZQ0G8VKlATJU+QS6zKkGd9ERBQeoMQRk1SEGE67I9lj8fQWhImEBT9UNBhOE0QbV+KEGUiBxBQIv+QDRANEBABi1AU6lCP+WvRUFXzDpBMosRQaRpuL/PtrBAP27uP4cTk0A+lYRAOOskQFIYPEB9u0VA9ytTQEeNO8Bx0AhA3NggQKTqMEFp8bJAtJXBQOnzG0EputxACVS1QHeiSEBLmNq/06YSQY/J9z46ltlA62QBwKK0KkH7joFAxg0wQehNgj5Lxuq/9YgXQSkHM0FwhExBILA3P3YNEUFwIhZBmUaWP0fkGEFrxso/VO4aQHri1UC3cQNBMahJQUZZhEBS9RdALEs/QV165kAk5hVAn/upQIdO5EBvdDBBd5zoQAWmPEGz1c5AsDwlQI0mxEAkmRNBCcJUQNF2BEDQQiJBItSiQIpk1UBMeRFBbgRGQWIyWUA/DelAkRkrQCBEgD/vKK5AcZs4QMjIAEGp5Dq/XjZFwPhbREE9RxZBM5vPP937D0FOFQhBAnEWQd1oHUBQs149bJNLP7ScRkGoABZAra5DQf/qxL/CFbtAYV9/QIsbe0C2SzNBnCQoPxRExD2CszJBgdLQQDrtRD/L3NRAe1hMQa6kUz+qAzZBYpvCP6jQoD/s8htBGhKxQNe+Az6HzQtAwrc9P6V2tb+p1EhBcG4pQXEcvT+/4g9BBMGAP/ndBkGwncc/VYoVQTBj5T+PCpS/4IKxQNOo1r/61tq/TFerP+r36EBgUQ5BMyueQHMyPEHHlixAvYpKQWh0OUGCfqG/IOpBQAMnPUHZhJhAjmcUQXmDJEAgnsM/1OxBQTDs1ECAW0nAtxniQKyoNUFrqT9BqNyZvsE3AUASDD5B0beCQDPALUGOwtVAG726QKygJr82ALFA4EslP23ngj+qST4/sThIQA090j+dTAtAHgJDQdBIKUCYCDNB8SqaQOf2AUHSJZ+9ZQZDQd5Bir7vo8VAipA1QSReREHtH7+91kAKQFiMOEGAA58/2WQ6wJWjCkGa351Al/C7QDm7Zb8rGShBLpeXQMdqCEBXNqFAJGVTQB4/SD9pGilBN7CfQJ7PSkFF1EZBmEtEQdrzLkBgn19Ay9qcQMzzK0HtK1hACn2eQCxGSUFn4QpAuuCNQMngIUCXt0rAV2UoQbAu2UBRsjm/ACHbQMtQiz8xH1FAIvP0Pw892T+8PJK+dPhLQCmsDUF4QzhBTcUxQbawLkG7TENBKXh8P0ysoD+66+ZAgMUbPsc2L0Hg3x3A/6sWQdbZh7/P98E/oleOPiaXF8AEwtRACHQSQQ7/LUFLbiNAZVIsQVqnir9j4z9B1isxQbIg2UAwXQBAd2QeQbxz4r4xJJhAU2Q5QZsSvECtnT/ANYhbQMiSPUGIjADAHV4rvrCThECpEEBBF1mfQFVh4kBB8LBAShFMQQlrBkFv7v5AQ5WbP0Kj/L+PI6a9rVBZQM6zw0DeFM1AuPSgQKYpOECFvixBKR9PQCiJSb+gceZA7doCQYMx/UDCqCpBzio7QDGZEEExERVB7CSTQHgTCT44C6g/wVOiQPsfMkGkGE5AnhACQa5+LUFSSkVBVPYwQaDyOUFswQxAIdfgv306N0Gd6w5BzxTYP2+SB0G1HC1BpY0LwHKwEkDPYy9BHg1Tv5HKikCZaXFA5v+Xv1O3AUBM7UVBZAOiv7/XSkFeMKc/wsIUQLPmM0BpjDlBFinqv5kbSEHQPjhBj+0iQQazLEFfTRNBIXJCQYyK5z/FvclAVQ0VQaoiokAXDzxB7zbAv00g8kBmJxdBo/EwQZ+nKUHGALu9LYgTQTeMQkHgOCBBGfcsQWFgi0BFJIpAmAgUvoOfJEHFRwdAULcgQUsnD0CsNSlBxo/7QAxMtT+AlkdBsdlyv41FGkHrsTlB6+ISQCYRH0GiPzO/3YoyQDd89kBcfyFAq7gnQeKEIEDfSq5A8sScQLQzQUG6CrVAJ38mwDAMF0EI2S9BuMMvQde94UDiMgRAk+2NQDxnG0EKszA/yYlLQE6MHkBoPTlBSnUrQaGvLkHLPRFBwRZBQaOJLr5VES9Bj8WnQM9ZGUBxghW+M4MQQZjZNUH5pt1AKBfHQJCLQ0FmH0G/jXtUQLqUhD9llxRBMhqLPzs+AUFTYP1ARVhwv2GjH0A9QP8/Nc7VQCE6q0C2fFHA3yDZv9iLlr56mkdBuagjQCeRFkCgTi8/zPg2QRaNF0CDoT5BPHUvQSNGgUDV6ChASO8xQLtim0DGHRg/zRszQcjyJkAooiFAaXQfQAB0hkDeTTdB1EMfQb6KNz8lQStBJlZkQOIVgkA2hPg/x8wiQY2BTECuA4xAn4BOwHVkKL8mYem/lWA8QRPXFsDxckRAC+hxQA9oCEGbxThAsPouQX4aGUGFoTFBDHncQP8SMkEVD0JBNoQYQey7IEDAkthAACY0QeDEFsDEJk/AY22GQM5qPUDrNdE/8vY5QWXXd0Bt+h9B1JXpQJ+yTMDXiu9A2pI8P/MkMEEW3mRAVSabQLV/hUCQYJJAwHOXQFKnHUF7AahACHccQf9U8EBIRDhAk/zPQGTMtj+LFc1AGQ1pQKgle0CiiThBUFMeQOXqlEAQS0RAti4DQQ1MrUBqDa1AAjCrvxbN8UCiwytAAXdMQWJmM0BUERhACYnaQLR59T8KbhpB0lQtQbgyQ0HmvjVBbC8XQSfAB0BQQAxBsQdEQWjBnD/W91tAFOwQQb7OJ0EQdy5B4sxSQPrJIEBPtPpAP4z3P7KH1D+o7BFBg8M0QLepI0F1bExBtxLHQA+/9D8sEUJBjfddQJo5H0G5kzFB3TczQUek9EAVUnVAdWEzQcBet7/d0ixB2OBIQVmGB0DIyzlBnlUVQTnIS0HJ2UVBHkqKQNnILEH3vQpBtVWsQGWYmD+r5v8/vPDDv2grSUGJqzVAAfZNwPcaZD8+YrJATAYqQTPOJcDgOgZAlHtiQF++mkAuKt9AAyY5QIo9EcADkXRAZm1kQHI9QT8vrRtAS2pJQegNFUGvYzVA96lHQFvKoUAMvjFB4+C+QIhsSkGBH2y/b68VQbRDNEEc4SlBWhfQP/xOsEAOZERB0BCeQJ1yz0AAYCNBWf6jP6IsJEFUH8lAwE3lP2q8HkEaXgtAyIVBwJ+sOUFf+0JBt/YoQU1EYUDZaRhARTIdQe0b/77aFzFBBSw2QXqC/EBCelo/N2HYQJ6FEUD2GyxBzE1AQcHuDEGizKs/W/i3QFacnEAUuupA3UhAQf7SG0HyaBfAlyTNQJEKKUH6skdBb7MJQHdBKEE5v/tAbRVeQDA8SUEUdxZBFSQHQez1cb8BWBG/QlAqQerDQsDZQPlAG5PyQCNFVj9Y57Q/cVwlQA8oCEHn2BI/XYEEQLOUMEECI5pAGOgvQXBdJj/9z/NA3aM1QQYri73LcsC/O3hDQQiC875z0L1AIK5BQYJNSUCstLlAjRYmQC1cBEAMfV1APU0wQSCjK0G5VCtBscmQQElpGUHXLppAOpsNPoY1mT8IlyVBTDgRQGBgGEG2zYo/mE9BQQeHIUAjajBBFPIzQZnElUAUgi5Bbtrjvy+e2z/oqEhBaX7iQHn1IkEa159A3g+/v66WGj/9VBhAwkVKv06FnUCohiJBI5VJv4RuyEBjmaFAaSeWQDnwEEDuCRxB9GcwQe4vp0Ak4pVAjiVFQLLctUBRe0RAgFAhQdE/KkAWrB1BK7/OP/7Ji0A0qB9BhkWAvtHH/z/DQ5dAD0iyQKjklz8ekUK//AVZQEmSDkBZDZtAQzcZQBK2uT+HaSNAMuaGvoJAS0En7SVB2hcxQfSyL0AGDm9ASsUHPxibFUHBcJNAAwJLPwve0UD3KSxBiFsYQCI6bkBTOfJAHrk8QUMbCT9e4ChBchchQTUBPEEHQkBBP7WCQOWauz9Fp45Ad8iaQFSNL0EAg/9AmsjnQBnhHEHBW+pA/0gtQQiH+kDzV/w/SKUJQceTCEG1yUFBBvsFQLpbBkF3yNJA5uk9v+3g5EBhFFdAD8U1QTka30DrMCdAfCRhQCTgoUBPViVBypJAQdZdLkHpz5K/Lk84QChHr0C9on4/qN3UQJUVSEB6S9xAul/gv4J8RkCI499AKaYUQUCCpz44rEhBozknQYnqS0GxMAdA/ERLQSSEnUDtj11A9t3uQO74dkAS9zNA6irrQJeRSEGBVoS+4kLkQMLbNUDKVhxB5AT/PzJ5NEE7yv+/JhRQPvEeNEH9t/FANCijv3zHK0GaKyxBIwlZv7mnvUCtvDZBf/RDQUWyMUEFOvNAjnkdQTXItUC0F/FA8c7GQPR4SUHYoxtB87koQPPBFsAI74o/v6KJQFScxEBGN0FAUsGRQBYIDEGKIgZBzSJCQTn1JEEAZkFBErQwQaNXJUFHnn5A/PGiQBfQMkFBRz5BqvEmQFm5+z5l9YxAlXLtv/gqQUHDjwHAA8UKQP32OUFwWORAhkn0QIrETL4X7eZA7lNav9dwFkFA7CpAh5ASQcK/REHok6hAcWwYQdIg5z9fyXZAPUBMQaUrGkGBE0W/3eETQSKEMUFaRRNB+fAkP2IIhUAUhBpBOj8rQbZeoEC3OzhAqROwPqYSL0DxyV9AX2PQQAjYvkDrvpNAEDERQDqeN0H1tt8/u11AQVEd7kDXqcc/PJ45QQxGLEF5wLk/nc0VQBvCAEEoDx1A1irQQLOHM0FE5xRBMMoZQbz7QEH4FtlA1zEXQPcoFUASyYe+JQ0cQZfmL0G97zBBJ2XbQOJ3cUBreq1A5/QzQXsqKEErhKxA31WNQK2rSkF4GkJB+uefv9Dnxz+nivtAMd4iQOVBJ0EA/q+/nDcRQf4TOUH0twhBI+U4wNZb4UBcUE1BRY32QCiBKEEtfENBtqUpQT8NKUHytRFB7bI0QctbLkC2cTVBApQtQb8oKUHeeC9A4ettP45KJUHGzRfAt4cQwL1JGkGP2UhBvG2pP+Q19D/bmypB1lHoQPjyAUHp4C5BdPeHPy+CFUCy8A1BtCEWwE5dRUHQkkVBNAo/QYd4/r9un7lAeqaJv7AKL0GwvaFAxP9JwISp3UCrpB1BD5kfQZBA70Ag/BtBK+vEQJOsKkEF3UJB1ySWv2vKPEHP/SBBhpYxQVls0ECfGRpA7gBGwN0UP79GGMFAqxeGQK0+2UCBrWFA9nHnQPeLM0BlPWRABMztQLUbK0FIISxAOHkSQEK5EUHgFuVAi9WWQDRlE0EFJkxBDh2SQJeydEB9VRxAiS7Lv4nTGcBnrJ9AYqYZQY8L47+BMSDAAiAjQRxgBUHcRV5AGp0TwLujR0HiLaZAwhtLQe1FQL8ZNadA5HVCQQJesT+ejhFBmc6nQObaub8WaAhATuEaQEzJE8D2C5hAG5TiQKnO27/2ckRB1ZoaQb0OBEFV5ZdA8WkqQT7nJUGawN5A1YsLQDn4tEAaw5dAllsXQJSKKEFwc/JAc8cSQdlTJkFilTdAU0j+P1+5CEH4XBRBTRbBv31FIMDq7IlAwPMIQds0Hz99OSxBllc+QbyiEEHhhADAvKq5QH0vRkGEGBxBttCJP8BQ7EAfTS9B8FZ0QC3ndj5JFx1BslQsQL/mPUFLHq6/OMUwQJbWpb5ydyhBQ1xiQCdglUCBIMlAOfUPQYGGaECLlbE+BRpCQKart782HpZAJzhKQWS7XEAGYkdB/5A5QR8Ju0AqzjBByJYQQVxZ7b/gZsW/lCeKQMzFsD+llD9Bx6ZMv1HYO0G98B9B7UTxQJRxGcBw4Z1AsPsPQYRXGkBEuYpA83+OQFZ2yD820C1AEZoeQDR0GEHIhv5AiGDUP7i3kEAv7HQ+y5IQv4QgiT9WhLFA19NHQQcM00AU+ZhA2pYyQGEFmj6n6BtBu+HSvMp81j9YAbI/e7CZQDtxm0Dc8qBAdAP6QN0jL0EsXOBAhoOtQL+CKkHMvYpAKph6vqBaScDsgua/nA1EQaKx8Tz9tkxAl0ZDQQJNE0EKU+hA5uovQbp1CUEmACNAyxdHQR8hQ0Hr8RVAO+cvQWKbHEE+wQ1ApJE5Qc5oIUHD2F9A/fcwQU2hrkDJehVBuyMhQIH7G0EvNdpAZ7ZDQRcXJUAiuKtAcjtNvwOdrUD5izRB9WzNv/kkI0Ebb6dA6Iy1QISGZEDtZZlATfFBQe0pZUCrosO/55qbP/72QUCH6wlBGIs0QZvp10ABv6U/UbcsQLeOMEFV8Z9A9WS5vsvyHUEEMgtB/OnFv8SqdUDA/uJA+rk+QbzV1kB4ArlAP+b2P2WgZj0Qxh5BL4veQOb3NUGtjP5ASplCQYB18kCLPCBAzZZHQa+Pq0DCfg1BzVU+QeS/FEDGNodALsRWQF03K0F77jdAmtTmPxaJoUDKXAFA2bHUQIdDS7+Cb+dAzdrbQEUdOEH1sw1BpdFKQbp2SEDBCJS/vdQSQe20KUBM+6pArxghQZIYR0GJEpVACT8YQGOAdECvsh5AjcNHQUX0NkGSMUFBMrodQXggtj+NEzJBI0MqQXktEUFLKURALAodQO/c0EBODxpBKZjYQF3R+T4GM6JA211Dv1sJhUCN2vs/ur5BQQUo0kBM1UZB5s1LQWyvG0FonC1BKUgzQS9UrUBNsaK9hgpxv7JrwUAfCuRAsCPnP0ufyD/iN65A6lgAQd3/4T5R3pRAw3ADQZhbZUDcyUNABmwwQfdMHEB+DCBBHT06QZNvGEBJ0zlBQAERQUgMo0AY6cpAAScVQCArNEDhvDBBW/XbQOg1hz7L5ddAUoy3QJ7xDcDsUb5ApOIdQEQKK0ECKQVBQ34UQWzKL0FNtjhBzb1CwDn6mz/lYEBBNW5qQEOIv0AiTiFBJkDzQPBGEECCCThB5FmsP4TGSEGtTbVAJ2EPQQKDJ0AiNOVAaGYWQXXrZ0DKxURAV/gyQJox3D/fsXJAmbcNwDKbtUBjw/q/dSHcQFnzQ0FjpUlBOUqNP9t5kUDA7kNAjIX6PijWQkFlIiO//E0hQG7EMEGjtT5AiYMMQYrTSED3y2A+oIFDQQsjCUG7HYQ/ZksKQStAQkFBTt8/b4mrP4kIPUD8QdlAdceaQL8IQ0Dye7s/hs0OQJY51UDPS2K/qDLoP+i2NEFOFRhA31r2QOuFSkF7jLhAYT6vQMVDMT/6X9w/DLRKQYbCBkGyuzhB43G3QK+HjEDmRCtBZNtIQSphIEHKMi5BNZA9QcrHir9HOsxATHj3QOrhSkE6rM1Afl/fvkNTbUAZ8ipBZOgYQZy5HEExVeu+ya8xQVpJOUG9qydAdCbJv0pNE7/j7dNAARE3QaZwPkHzRbFAIKdoQDp06j8/8xNBSaoSQVaA4L/D0xZB6w8JQUf96kCaVOpASVqcQAFllUAeGD5Bulc2QY3E80BPzz3AyTlCQZbrpUBOVr1AV89JQdp1rD9F7JY/3fhDQaWWDkGA2h1B4MESQcTPMEGPo0BBfgr0QIoCs0CBv8K/iQr+QA+IPkExapBALnV3QKRGIkHoPuFAlOVAQNRmKkGZWylAE6FHQaKrG0HApgNBkQ7DQIi6OUEpXAVBYF2cQIZkNEFZRAjA/l6RQOCeLsAGZptAa+hCQfsQI0GErCxBnPoRQJES2b4GkqpAP6keQUiiAUHdXhdByLg2QaoV70Br4ixB4uw9QcC140AlcEBBiH0rP9gsr0DrRZpAnzukvOXvrEC61NZAkY4AQUdqS0HSpShBAQqcQJh+10CQCDpBRqYIQWVHQUBgqyjA2vwuQaWGGkDyaYhAUEQlQZnrBkE3nSHAvhQbwH40o0Al0jhBAeLGQIb9REEk9iI/g6PnO+GFCUCvV+VAmKq7Pqa4RkDi+J9AWNciQaXwkj7Jqsi9+vj+QNl7OUH5pwFAMgr8QLvSE0FunC9B/ru8vwxgKEEYHolAAXIiP4JPG0El2hs/+TW3QJovNkB0s9FAwCHgQBKAKkG4SkRBMFmMQIXtvkC36iBB6xpIQYdtEEGGRzRBJ6wuQbq29kCN9hJBAtbsP+v65j/u/cZA5LQxQcryobwrSdA/yeYgQMyT9UDvmBBB4cc1Qej9gz9V5hhAovo7v6TVrD+P7wdBnIW/vxqLMUHbK5xAI7AXQX8kLEEVqyFArg+WPxFrmEBafb5AIFlFQcAYQkF/g+JASN/PQGlmOkFn+h5BSBq0QAHnpb85OHw/oT0yQGIMIUDdGro/GWS9QLY+HkFroZQ/y2AKQTKg279UInVApRu/PyPVNUD9OPxAG3gbQYyHQ7/7ZSxBcOMPQefeikBXaaE/LrhKQVTAFUDYkYBAkL0/P5wpMUGW0DJAxnfqQEb0+j8O20pAWKnDQB3di0Bu6gNBW5QPwEynREFbR0FBXdcWQFcDvj9TpDFB1doYQNyAREHEzU7AVot7vv8a1kCZNbe/59glQacwwkBMD8a+IWgnQQYn60A+wpS/+vVFQTn0OMDGOrtAJo8VQZz3QEE+xea/1whDQWp2RED+CSZA/RuYvvgphEAEI9tAMRL2QHYoHEFHSAlBqcAKQekccECes0pB07jiQOZyOkEDr5BAOFwyQclzREGnlu1AqdwsQd9XC0CIptA/cJXlQGf4K0HBfopAW3w5Qaj3oz9g7e4/xNgrQfdRvj8IB0tAhFVMQZbeREEKMCVAdV8iQQoKBkE4eSlBla9CQTbVrkArLJ5AwdAvQfHjij+B7EhBOEIKQI3SekDCsyZAJ+2oQOM4SEEY2alAuBGtv7KQ4EC9QB9AMIyWP3HTREGp0ptAAJFCQWaXwED5FwxA26ojQAScJkAlM11AzPPZQAWo0D95PX4/evslQZJ63EAz9D5AzwkuQZVPEEBAoVa/+DhfQA5vG0BOmpm9cY+BPAiElUCb881AWoHGP/9+6kBSOitBlK/2vwZGgUBBUypBISSiQEnsDL9/gUpB+LJKQBx2FEEVDI9A0NsawIYZCkBdhiJBd7WlQMUqXkCkbx1BzpHvQA/SrkCdzxZA+5QywEW4OUBuQaNA+7DwQGnVLEBafuVAQOItQVW8l0D3QjFBejalP3zCzD+9qBBBt3ZTQBUTWEA+t6lAVSsEQSxbQkHZYOdAb5nfP6HnOUFEczlBvKQPwJgEwEDtdqs/jwZCQZAtFEBESE1B95UawCN+QEEVOxpB0DSgQGUVOUGo4so/R1xVQB56hEAbr0pBEcCjQMv610BNHr1AMCO8QM2arz4thSFBI8n8QDi367/CDHRANAwOQe49vj8fYi5AfEEcQSOQv0BTfChBF/C5vugdMUHKkbM/rqWEPmiqpUBO7wZADX9DQfCCjr8xrh9Bldt8vzS660ADAUA/OS8qQcjBMEFuWPZA3NMKQb3sQ0F7qalAVxIoQQmqSEBBxhBBbDvIQA5BQkH7diNAMGUKQFZ4x0BEYCZBx3wbQM+L3ED/pyNAe8ZcQK6PFEF44MRA5DdIQX0HQ7+aMS9BU8IeQc38DkBPQxZAuJcrQTx6ScCJaRJBYMiBQPh4HT3x9RxBJqw6QT8FTEGv3x5BIBuuQBws2b7OjHlAnuwaQHsaKEHbKa4/F2xEQeQAFEHV079AuNitP+YvGT8ume5AqFICQBFRrkBykDxBjwVLQRKWoT7qB+q/8AEuQb1vC0ESUjtB8FUxQQZepz/Nnh9BmgejQAAlHkGwqBtAV0pXQB3gKEFPPi1BwcBEQSZvO0B2+jBBe4kcQRZDkz/B26C+6eYHP8sJK0EDMxxBLV0xQEetN0Al1oxAi42vv4KYNkA0eCRBOBmwQG0peb8NbBRB7qevvw6Oub/tkmK9TGf1P+QjRj84cqQ/mWcOQVLGbUAivBVBk98nQeNBFEG43FRAxOoeQe7M27+/PTjA4mRxQEfsn0CrrbxA1KExQYPcO0B1qxtB0lQyQRAP5j/6cOC9GYXPQD1kPEF0Ti5BoCgHQdL+w78XjSdBFL7nvy/wfEAeQRZA1aoQwJ/gt0Ds8QhAAOIgQbUUlb9LONNAmwjIQLlBhEDIFBY/Sa7PQG6MHEGzs6Q/QyX9QCx0E8CAZMVASpMDQOExK0H7Jx9B9brqPy3ZMkFfdHu/grG6QJ8Y+UDxWjVBWyskQdUp1EDwXnM/5g8OQAF2R0GLBR5A6r/2v6ItIEEWRBpAT64IQDSvLEEZ7AFB7C46QXyXqz/tuT9BAUwJQb0hQkE2wClBHeoBQU3un0AbOi9AhtAdQYq5SkGlmOtAoXsTQWIwq0BE7UpAgTe+Py6pOEEaMIVAnsV7P9iB7kAx/QTA8RIkQajF9b9+VK8/111AQThV3D/UxIFAoEjeQCzyjED4MQBAFoTYP63pEkHqNEhBMwLBP7AIVkBQ1s5A1O8qQZp4IkHYqrxALiUuQUSyCD+5fcBA0v5IQfvxyD++rWNADBkGQbn00EBf+rg/MFwMQRFHMUGyWzFBrMmnP72tJkFKibQ+s5YqQXoAm0D7y8I/q0oLQbwmMkH/hrm/vRSvQG0urEBXsQxAukSiQHN3LUHETJlAmHocQf3eF0AVdh9ANc8pQSyl2kBENxfAUjPbP5qdJ0CR4S8/dKTIP0bpNUGr+8FAAFsnQTcLLUGKE9e+1HgSP96Yeb+j20JA/1YMQGMl2kB/XGtAEI3eQIACvUD1ocM9GLgkwKqaR0Ht9TBAytcyQe6wR0CbDxJBMKbNv5uPGkB1hPa/AB9MwHE3yb+bWadAHYu6v83+BL+CJBy/wosAQNfM9EAdkGdAvtiKQFZd1EB8TKJANmPvQA1jGcAjcUnAAiQiQZBI90BcxhRBa3bHvkWtMUERrw1Bzm8QQaxLK0GqKgA/lBovQelkB0ESvJ1ANnu9QLZSAUG5dKQ/vVbIP1nASEEXAUxBs+4bQKXDMUFYExBBgm44QeUtdz/jFkpB4xXfQBxTR0B657dAwOgbQV5ZGUBx/SpBWzkXQUzbT8DK2+4/uGdKQWTpvT9c+olAu8eMQBaJ3EBAeSRASsrXQF28ZUD0OkRBQOwJQO5KlT+SphRAPflLQRSqpT15QQNB61MdQEPcREAiwQNBM87vv14ACkHduT5AKLcqQKCXTEE/jDFBn2o/QEsnJj9Ch7lAafciQQlZUEBflwFBDexFQTg43kDZ6UlAj8ckQU2JSEHcIRHAaB8uQehMQEFb2RlALuaNQM0A0L9GDR5BcyA6QYtZ2j6FbB9AqDhbQFk7D79nkZZAd8UzQVrM+kCfl5VAEZcYwLsQ7b/B3l5AmPUnQZwmOkEW8S1AxjwXwDKqN0FN495A+qvDPBHNIEGk0ENBLxVNQNWU8z9uzapAbWgvQJ52v0Ay/ilAc9abQCKtAkAOTDZBFPYUwF+VFkHZttQ/iKAewMEwSEEdBh5AOu2oP7sYQEEB+S5BhF86QUbE60BTWyhBdQiYv6yDKUG5F24/4z6qQD/8/UBUCMe/ZDEPQfrAHUAvRkFBWwAqQHRKPEFl+UrAkVGHP8jlFUGGI7RAXoYfQaAO971En8o/kftEQbwcS0Gi/xxAEeYyQbn2DUHKOKNAQJX+QEjz1UCiTjxAh/orPXqypUBHO8I+A/UfQU4PlkChmwdBMeYCQTgpPUFxhAdBw2IpQfs7kkBLOz5BPu5HQXp3RkEbAJFAXtszQTOgqUDQ4chARLSFQJcyVECBVgJBySlEQX4dtj/V6ilBAXBBQZw5BkGwJkNBZbkGQLL0fz/j7kRBEu1KQUvxsL8XwCg+Q57sP8OyL0FLZ9BA0GsaQc8EE0AflETAoREQQWfPlUCLAiBBtoEQQeQ/7kCExiI/VSpnP4liwUBNVEtBOAMtQeNGuj/RRsm/aN/iQB3GKcCJAExB4DY3QAW+BEH1uvxAjaJCQRKcdEBEGX8/xhBDQYKCD0BHXx1BkPg3vzCs2EAB9hlBOX4qQanCREExfBpAdfM/QWWN7kDYeipBNFZXv5UwGEGIvzhAXCaPQAXux0CLB39APBSvQGJaGUBJHkc+2m/uQFQPQkFpbUtBkKGtQOoTOEB6ezRAr6QtQeeMoED2YTFA2f80QOxlBUEOvPVAJ+H/PyaeqkAAvku/xf0RQEJU4b8YcyRBPf4hwHgeBsDc6EhBJf0KQHe+hUDomQ7AO8kKQUkG+0B1C+c+x5UIQc2OtkBnwjS/RJoAQDOdOUG3lMS/GvYFQHNbRUEgE0xBvU3cvw11IEGYFzlBGTomP0Q7mkDK/MlAIpZDQFbAY0BpS9I/1zzTQFnfLkGiws4/KBNGQYaNIUAQg9NAEZqJP/1NKUG9pgtBb7kkQGRnKEBM+QxB7FOEQCWDMEH59mdA9BYcQf+K2T+vbdFAM84bP6JD/ECMa0BBWvoSQHrJLUF72ZtArOMkQXrNMEGgZy9BjUWvPzZVZECP7yBAZx71P7hG1kCiNctAqmnVQGVxSkFGMgo/8iXQQOsCGkDrmhdAY7vgQArxnj8123M/pgIxQU8uC0H0zDpAeoMKQaYZRUH2C/U/6HkvQX3yA8BkvYVAJiQ5QV1YRECetrA/oKUdQTO1QkELiPVAj+jZQBU5OUHxW7pAJN/QQM1eKUErc0dBoeRDQUEnI0GH8P9AUKQ+PzAgFEDMTrNA5N01Qd516z/ICiJArbosQXeyuD/a9AA/A7u+QKou50CgwRRBIwgIQUv2tED0IjhA6FipPz7DK0CE0GxACN1IQPSUR0GTWiVAa1MIQWpAQMAp10pAXjtHQH3Vmz8C1kpA07TMPyzpLUAWmO9AqLNMQF596EDGnB5Ab9e4vh+mMkCOOh5AfM4jQQmi/kA06b09N+NZPsxhAEGZ7ixBf0DsQONENkGQj7FA1PwpwFHWAUGeiBdAVdQXQYTSP0EVpipBRZI5Qd3iikD1qDBBb014QBbkuT/rA+ZA/rLZv+LK+r+xtDVBL2WiPzCrIEEwdQ7AqFf0QIeQJEEBlJ+9WR8xQTPdwj43VN5AWSIQQVuYyD9S9C9Bzm5EQbKdLUHBZ7e8SyYBQRj8EkFkGYs/A1u5QK2oBUH9hyVB3afpvxLCLEGZbfE/QvArQEJwjEA5v5ZAC9e8QKRsuUAY4ic/1GG3QA0XnUCJl0pBlYCTQCxtqD8K+RBBiG+MQN9Uq0CwWA5A1dWRQGOi1EBQmKlAwCgTQXnTKUA70FBAvL8sQG6TGEClwUe/qDQzQX/AQkEdEq0/gRU9Qdqg2r+rvQ5BbYAvQUu7R0EC2z5BxOtDQV9NgT/UkLQ9RH92QOc7MEFzaihBhy8IQdJ1I0CtWydB9pzuP1qWPEEZhEJB8hJMQKGRO0Dh+RJBHzLbQKzm+D8o0AtB5bXwQCBBJUFCuStBRYA7Qb6tTsBbOQpAbGasQOvWIkFr89dAfhBEQKX0vD+8pyRAOWAUQOfD5EA9xhhBDcBVQPKYiEBf9UBBCnaiQIB5v0DSc0pBYFYvQcg83EBzjCBA9ccQQRl8fb/dGRRBc1LZvyeqEUDizidBBb24PpylS787a4w/UsIcP0sTNkC8+ylBAWguQXYwCkBzFf5AGusuQHJ5uEC8vTJBzCGHP+2ZdkBwhM4/pJzfv0paBEF6aEdBxBMOQX7Q3kDNMDJBjZ0/QUv3178Hvq9AAs8MQewFHEGYWRtBp1xNQY19KUEi8OZA85MQwC0QIkCml49AaWhJQVOp7b+xkIe+ep+LQDF+KkGL/xnAdX0rQf3dK0FTII9AlbUdQWEwTUAFFpxABV9Pv9SDRsBiEBdAtxUewHxTWD8xrjRBjKhDQSk7BkGS6AxAMUuYQJjcO0Gi7gNB84JNQMVBYkB2iY2/fOuSQNupFkHE0M9AszgSQL/eUUDIdi9BUWfjQHjlz0DVpB9Azh9CQSqwKkFUr4JA7hI9QfcLDkEkBlC/IW3gQEUu40BN0a5AlN9rP8lUQUC5j+1A+PWbvnrblUCo2CE+PgodQPLKCkEiFPA/XyowQY/7SUEg4UtBY3KvQFvH3T0j8r1A+dEqQKc45T1QSg1B3xNBQbzNBUG7jUVBR4yFQFMkjkCTzTzAhL8iQRgyG0BnHkdA6SMKQfTQ00DrKqM9W/asQDjfJD2nI1y/oyySQGaROsBw5JxACEQLwC1MiUCczA9BR50vQZdVBkC32ylBX/UoP+1njT7zOLk/xziHQHi+HEDNuYU/x6xDQWlgu0BDvClBl6iAQOXkDkHh8s4/VfOjP+BxHUHRrQTA3d0GQTnXHkCxQktBUjXzPx29xb8mWOVAlPm2QGHfpL5lwmNAB2vnQKZ2L0EAXypBTss6QcP++UArKq1AilDhQHU2A0F7mpW/yq3zQMfFPkE3hiQ/rFYBQbplF0Epev49ophqPi/aFUFKwRNBAqTTQIaHgkBY/gxA77Y9QLcTMEHFhRBBFqcSQceLQMBYWT1AIqQkQU6B0D61WsQ/O44/QHUaREHJUk9A6ogIQbd30EAfiFk/YFE9QeyOsz+mfEnAUDVFQM21I0Ejm0JBBQtIQCa0p0D6tgFAtlk8wDlbgkDM0zFBHQ1EQZIC8L9qyua/bQHIP4RqMEF7tRpB/iUxPz5fHL+g2GNAA22SQL6XUkBg37m9uU0wQQoWLUHkfSDARhY6QbO88kDwRBRBR9kWQEbdK0E48t9AI+3nPkNxh0AsyEVATe8rQSGyGkE+JUxBIxo8Qa3aN0Ho3DNAk26EP7vDKUGOIhJA8VLOQHovXUCnL/xA5QQwQXlpLEFb5QhA+vorQawFBsD//RZAqf8hwCoiq0ApmLZArkMFQOPpE0DekZK/gkv2QLTb+z8WgitB6+WiQG7N6kAEwUBBGc89QeVdAEGQ2ghBAaxAQZB7EsCCrfJAEEoLQQ0KNkCh+hJBYGbzQJSAGUHne6c/LA8BQHIfOkFOTPZAeQjcPxVg30B5lglA8QgvQZ/hDEFdKIe/jcWsQCsXUMDMMM5A+adVv9IgmkC5KRhA4DIYQSGJFEHR3wNBe+sUQdS92kAccktBxfs9v1PxikBgpypBz38qQTIvxb9yML4/Jx5DQarbOkElNw5BQMD3QBpHxj+gynE+EbAWQc/NRUAbuqtAOCpCQZNDEkBm0ylBz0SNQMzLqUB1B0BB1MHQQKkAm0Cmg9xAdYFBvxzlFUDergxBI48bQcJqFUGppRZBHeRfQApUlkBCowrAy+kLQbBcLkHG/x5AlFc7QdTTikDd5A5Bpc93v466IkE/kRhAcq6wQLHkW0BUozlBBe2oQKonUr/A7+8/U/4yQMnpKUF0qqtAACzBPw7hCUFGygVBiGoiQaitI0G0calAE2HdQKJLD0D12KlATUqbQLTa7b/BAjRBVeEUQBJJTMAMwqpA9vLdQEqoLUGRFwRBkqEsQeb2L0F0gva/2alOwKMfOEASsJlAKcMcwICO/0DXjSxBi+80QdBbuEAejBFB7vhAQWW0P8A5w0dBNo1hQA6QDEE92wVARTIzQH4dI0F3v79AMOMbQcwmiECBNQBAK4EDQI5Z4T4oO/0/wTgeP1lDcUAnHUNAKZiLQC4y00CotFi/rUNMQWEMIEFB9hJBIh4xQe0sS0GBtBJBmlsLQYqOCkAg3wLAP1PBQPluG0EIMBpAYMSHQCVR2j/rt0lBL/kpQW9OmECHe0xB24MKQIUX8D8XaCZBVH0kQLqSQEG1IBRAEi4xQW8wKUB6mQVBTLhkQHkQtkBDvStALf4NQbCYvr8ajkJByPamQKbHMkHr6ZQ/MOaPQIS3AMCUxTJBxl1HQAKqLUEFqMlAZY7zQLWJ578adwNAg61AQbI9FL/OJiFA0BkzQJ7+gT71GgVB5TuCQFcEy0DYKD1B23npPxB1MUCHBoFAbuMVQLPfAUCTzgtB7JrGQMjaOUGTGaFAhy3SvwQOQUHufiFBc2xMQYmgNEHbAD1B57HWP4FE/ECTWztBL2HaQJ9wPkE/OxxBCXCxPwUumj8fLJE/lRrCvlVqS0GP+ixBKhLhQBMl60Ax2ipBizivQDQobD8+p4lAczoqQcQ09EBk1BNBp8FiQEHWL0DJEOM/5MEPQep1oUBF/ZFAUnbvvysQqEA3dLo/+/VZQP5kRsA+XhtAob9BQF2g80DIHeFAvq6BQG67rkClGBVBgpsSQaErBEE48xxB8Bn2QOtB7r7VbihBpa4+QBscHEFV0rI/9fo0QQCpWkC38z1Bj+OwQPnvGUG/FSlBnLMrP4XyKUH4tS9BoNg5QfDZh76lkuNAI61GQdfNSUBclkLAcqYjQd2ZvUB+vw5B+tdLQCOSEsDZuxhBOH+bQApF7EBiC5ZAH0+xQGy3Lb+/MT5BhxYIQXJJskB1zCRA86UnQd6CREDOqZa/LKC5QGVwKEGgrWQ9YO41v4Vy4EDm00JA5hEMQFg2UECTwS1B53b1QIs0o0BdrKU/fcEEQZJiH0HaEi1AJ8xTQKU7g74mflVAFJ07QN4/rD/vSD5A/XjVQEK1SkGtQDFBr3QLQaYqBcBemS1B+2MYQWpOQEH1fyRAw0E9QaGikr8iRlk+4AD6QBmYTEFaER0/tG9nQOFGQkE1lLtASTO9QOVwsEAQEixB5M30QENU+kAWUQhBu2PZvUXiD0BGBBFBUPGQQFrSJ0HAGTlAZPoHQVE6EkHKkQ9Bve89P0CvoEAvZydByAoJQSDsHEFfhG8/xNdBQWwYRUEwARVBkrBpQLXjUUDUbaE/kZYfQLUMCUExlg7AzmNSvy90wz9c6cxAp0sJQYaxNUF74BLAVB4aQaccK0GyItJA8a5DQW9E+kDh7eRAiVnKQMLXKkAERaY/LIsAQLmzHEHQP7ZAfd9KQaaRqEBLlJFAGNJ/vwERVUDIONo/UZIkP3PqQkDFWUNBd38QQN08LkHwqkdBSc5DQeVqI0HAT4E+u547QbKHxkB03apAuxrhQB/M/EDKkthAgbndvwkXFEF0LzFB1i8uQKyOC0DJeM9AJst3QLUVkkDOb0hAcBG9QIT2HcByUCm/CMU0QNdElD7mTStBy+YdQVVEt0Dr90tBH6fiQLcbuUDRP7hAbDhEQcGJSUFtkFBAj5+vQACiD0GFlwxBmP0mQWdFQkE6TzFAu8IIQbDOLEErmj1A+tXnQPWwukBjagRB+gE4Qb7StUCUZcxABeQwQLIfQEExrAlADgfSQA0COEGzR11A1wqQQLJQQUBJ+ni/JLoDQcA1HEHXRRZB9uOSQI4ETkAM49RA3zMXQD9Y6kD2yylAMgJKQeO2Tj8qIAhAT3UOQHdWK0GT6DFAwgcXQaHGRUHuJSRBz1RhQKEjT0D9glRA3+/oQJ+DIkDBtBVBJrT7QAGTS0Ej4L9A4QzmP9oNQkFgEaZAro8YwGgtDsDBYjxBPAyBvz9jSUH31SZA48xKQX+RHkEkeBVBGEc8QId2BkF3iBtB5PRRQABv6L+yp54/byEVQZW6QUFy6hVBFvvnQG7AMEFUTDhBlVswQT+lE0FG1DBBn3C8QPRjQEEnP4K/HP/wQPY0I0G3cCFBMOo8QeTguL/HjjRBoEiOQL/3pkBugXlABOk5QZQSAkHssjBBPjVMQUUAFEHqUOI+QKxDQUQ9EkFilJ5AVsjYQDQmnECO04dAPy0yQVHkP0ATS7BA6MpBwJfKLUFQM4lAGwDBQJkXrEDG0UFBvhqWQBxGDUEJNxZB/IYVQQKbN0ExgqpAV+4tQIniD0H3ukBB3scbQGJcHUHy3UtBINjCv32QQEF4AqNAZIMdQNNQLUHSN5k/Ma+oQB75M0FzhjRB7VgjwFMkyUBYcSxBK2KaQA6T9j48LTZA4s6+Pq4hQkGmgBBBwH0vQZux4EBHAfpAvETkQAvLsT+/wEBBvXk7QUUuiUBHGrq/vvwbwPUJC0AP0y9BWwDiP2ArAEGewsxAE1MXQIH/HEEOyRtB1McMQGJKLj9vHApBsnm8PmWlLUH1mgdBIKKVQBgduEAGVjtBdEPnP1gQOEGz+TJBisQ4QJeqHD+EBsNAHC9aQAABGkHPKnhAEowsQXl7fUB+uUw/OGPQv5RA6EAi8zJBKD5KwPrE0D8JT89AT7ngQAnAJUCumZxA8UI5QQExMUH2TyhBTAq9QLe0kUDRm2xAkZjIQCjKQUFczENBuMOXQMAV2EBd0aFAHWAXQA3Q4ECbBrZALIvsP0aj4L9AniBBdv6ov12NvD+5my5BkpX7QG4jIkCrgII+DQbxQEGEKkGg0ktBA0IqQKxjNUERqU9A/sKVvoLiBr8KLFdANIW5QNjRtkAhhipB4mApQWRhz0DnWkNBT3iOP5Vrmj85SCxB9foMQNGUPkGRXh9ABBHtvx5mQUH2pB1BV94rQNCoOsBM5FW/NaI4QeKgQkGlk2FAu0wKQXnGKUG0a/k/gTi3QHGoQEHtno1AGykJQKUVv79wVZQ/0J+xPwlt1UCQgGVAXATNQOqVXr+WByw/oAH8P0QqGUFUUZRA42VBQZFPI0EoTDtAfzcOQL5aaT4zSUxB0xACwMb37UDM77ZAgeTpPx6sQkFIZwZB1alKQZTV20AR3a9A1O2gQCKTI0F2GqRA9U3XQMwdK0G9xF1AcKAxQA7s2UBRzUZAuvo4QZeinkC1uZZAtA4IQMgSJkFtUD1BM5BKQeI1CsDbHitBsuBzQNlt/z8oeMe/wwApQaaxlD+AluVABOtDQXxQ8UCF5MpArUhXQM3RqL/MjTdAtQ4tQdGWFEBa80NB0w9OQJIhbUDkOb4/yNOQPixvl7/1464/CdYIP/30aEAZACw/UxtLQC61QcCj6yBAyvotQO/UGUHODjpA9XvAv887L0E+qWFAsK4+QW75KUHYeBxBKE7xvx47Lr0gSUZB62f7P+tP9r/8wUFBicGrQHz+2kCC3hZBnd2/v9FqG0Afb+9ARVbSv1xVzT8VmkNBDD8lQcfvJUHUfz9B3Zu/QMuTGEGgnjBBSRZIQL5Mb0ChaStBIOxzv47Oe74iCZhAJhDFP6jY8z/pEiBAot4iQY3aTUB7ucA+MGYkP80JL789dUFBd62ZQCYw60B5acJAsK65P1TYEEBu0zBBTfo5QRA31L+TAgDAqw0QwBeDhEBKS5tARas5QYriwT+VEkBBra3nQK+RFsBHbitBc9gIQf5ODkGf8ztBgKhLQfpEMEHPekhApM5NwG/VEkF5cwxBghx7QOh7OkHFqEBBzPXbQK1OSkE/wjZBD1jEPbqPOkHIgwJBm94RQXqwB0GVwP1A4Eo5QVQ3J0BO1AhAqBsjwAE2NUBSdiBAIxpaQIHLQUBhv0U+dliQP9FlOUADyydAdNeNQBsFikBYYu2/0Nw0QP6R3UB7sWJA8djQQHFqUkA9gxFBPbASQA/xgEBMmH4+y3AwQNugv0D1ieS+1PqbQLvzzUBoC15AknLaQMh5okDXDyLASp0gwHu5MkGV44dAxW4bQbEqzECulUpBKBwOQNoPSsCs3z9Bg4JMQBFkL0GWqJFAJuS0QNvEQkEsxIO/zj3hQPxZ0D9K6kdBbetAQLg1+j8QENBAWOHQQLudI8AuSatAaSybQMfGLUF5kbU/336LvwWUSUGiFBlBuKB0QKDVS0FIlDFAQkv8QJhnHUDHvilBStflQJHOKkHrfR6/JAkdQAzqgD61xHZAoXSlv0PUmkDVyXhAOhczQWmQYkB+eDBBDwwmQQTOQUCZryS/354ZQIUBwUB1wExB90nZQGFjGD9YAUhASHG8QGyp5UBWaFpAHpQQQUubbkApRNu/wVg1QdYtgEDLW8Y9rMtWP6rP4kBs71tA6BQsQWt7Nj9AMTRBCkwcQH57DUGH6iNBaQeOP0MNKkFyUb5AcX3OQIUirUAWw/u94MIrQE7kMj86/ztBKmFJQfM4LkETqBtBDPw5QUJdrUC96F0+CfGdQACWw0Bk+ldABNFxP4S+RkES7C9B6NUIQb946kBPWinAelwdQbDsNkGxHEBBzYpAQZnW5kAtxcxAkurmv7TAEEHgND5AT9otQQ4g/ECrzYs/4AIjQQs2lUDUQT1BNVV3QENtM0HiitpADnI1QPmQuT5DqDxBe51BQQxclUARlnlAbZihvxm+AsD5si1BV7wSQQEjOkCMTpZAo7lKQSygfEAqvidALG2qQJCGTL85wU1Akqs5QGf2R0EMwKdAvWq2v6hoQ0G+a55AAkUzQQmvSUErch5AH+INQagQSkDihEtB2MkwQVOgKUChxDVBG7owQfwzOEF9LCdAy0pNQDeIJz+7Uj9AXF1IQCVuvb9T7KBAqZ6fQC6SNUBMu0lAT4EoQcxfPkCZFbpAhLUQQSG1RkFwUbC9afcxQXMSK0Gm2qFASL0MP/yCIkEuH9xAy4g2QJLWxr4EUjFAgLKaQCaoYkBSeQZBHX+EP5sFFEFW/m9AcDQ8QWaCBT7U+RtB/5ZCQUEn/UAiw0tAa2EtQU/qR0BeggRA10gJvvmvdb5ZLkZB6ueJQBpAQEA39y5BiqT3P6LoAT9jHC5Bk0DdQKngNkFQ/itBDe8aQUFXFEHpHBtBCNHEv6rL5kBM1x1BxCzzQFgWOEBuBx3APVsvQTM4BkEne5lA2JNHQB7w4UCM7ERBTLMsQfuuvD8V2bu9QLYpQS5tBEHMczpByZpCQfdzaUBksDpBSSVKQVH8H0BcNS9B+GgUQUiFREFg0vdANbkhQdM3B0Gjuuo/VsIIQE98AkFNcjzATn8/QTpzH0HyOaNAETW3QO0IDkHkwjRBOS22PsvKQ0Gs0uRARqlGQGcGcj+5LiZAXKZDQZABDkHZpbi9og04QbojCEHnXkJA+ZM4P9fu8D/L2RdAbnTPQPIgEEHRa1o+xrb+vxpFEEEwAS1B9EIRv77EDUG5goRA0ZwyQbjcH0FdVShAYY3qQEeVTsCm4vVAIC4DQbhFUUC71IZAhRXMv1N2yUBL4uM+R+UUQf7/9kBBWTZB+pQEQZJslUBfwxJBg5srQVi4NkF86DlBzVy9QL6qJEANhCtBJFHXQP+WpD+ht49AN9GFPyMQHkHZ7DdBEgvhQDRlST8s3NdAZI5BwOWJsr3q6qRA+UrCQLv/T0DwqGy/urW4v7vXVb/ImHZAolk4QL7m7j4cSFZAnq41QYJOpUBXo9W/g4oPQMNLGEEhsRpAeJw1QWG74EAeEDtBUm5GQWh/EUANGBu/KrscQQuHPEAAREBBPGeYQKEBLkF2MSBBnsgoQSHg3kCD9QpB1rUOQRo4lr6xrhpA3rSxQJix70B5vb9AqIjgQHesJ0AYdCBBudYPQdrGdkDMpZJAp8MwQK+cxEA0gw9BndxWQNitH0FBi3FAblMgQXOFREFGJNhA2Brlv6at40BblvJApqM5QQu7SkGE1CxBBXjOP3VoqUDkBEJAv0PWPXNPEj8Z4DBAEqkNQenbm0DJZz/AZMmWQKOamUDp57lAq+gvQYg3IEFjOkhB+k0dQeADMEHeLjdB6pCJQJmzQEG36kJB10Scv35ULEBMuJC/IOo6QelmNUHKOfNALS4WQW3U90DRpUpBYVa2QL983ECg/I8/s+oFQWwV2EB4qb69xgAcQNElRkGIvQJB4nmVQB0IMkEBXvBAsC8JQT6140D9HrA/DIxcQHpouEBWEyNBxkBNQRoM00A1N0dAGtZ/v7N7lb8E8UDApFo1QfV20kBSJ0NBYZxCQUSk6r95SiW/UkJwQAFZKkGwau5APpcUQcO9K0BdmipBUuUdwMIoNkFndx9BxwsMQK1PCkBED7NAkp6dQGjPhED2Dj5AdckWQFt76UChwxlBogAbQRUJE0D+6kw/udktQVCKEEBjMC9Bq95EQKkVFEGrTghB16wEQYc3G0FPLV5A3dQ7QZHfLkFZihhBguAcQYQ2TEGIzRBB+XDYQGmXzkCC4Ik+K/M+QBsJrECrjrdAcLFJQbQDFkHUZlZA9D0aQRGTNUHZd1JAilAjQMkMAkFMvENBnGWZQHJbTEFhyipBtKMtQWRBMUEqH9dAR+obQaPMHEESKTZBOhoVPjchqD8n6DxB7G8yQV9Doz9jmse/feKlP0p3H0Fl2ShAySYTQKKUaL8lQ41AEJRDQReWCUFZXS5BCIFeQAbEEUG8H5pA/jeOQPFESEH8sENBxDkEQDgxIkGDcCpBNtAqQW4+q0AC6DRBKoGsQKnDQ0E1cJNA2mTXvyMVTEEb+8C/PoJMQcplk0AmxbtAw/0YQQ8OFEEez0FBFTAfQAjxLkD+1C5B5J4UQdBIsT8s2ay/ywJmP0z7B0CjOEpBvBakP33aUUBe3ppA3IUIQSNtbb8hEg5BfHdXQMabR0DSATxBTr9AQQ2vJ0BA6RVB060yQDC4QEFpDcI+ULAVQT/3RUHUEUFB5qqdP+ZZ5D8m6ihBi4JyQEkOPEHy4RBAa70JP6IDEUCpp7NAOFMLwHOSvkC1mr1ArCSRv63eTEDdCh5ArCeQQF9wDEEU8sBAUxYPQCF8p0BDpIZABepOv7NTKEFXCqFAsCLXQFFhRkDoFDlA4huTQFyXQEEdYjhABmLsQBv1J0GUfwnAHsviQKYxM79u8N1A6DK8QFpdMkGDaSpBBJYfQX19H0FTYztBFAdMQfKyMUHjBElBEvy7QKDBL0GBc0JBEfmBQFrkOUEFQ5lADaUhQZM54EBR0KhAZuTAQKheLUE4qBlAgzeHP5eEL0CRsC1BnvSPQBu7jkB9EyVABAXCQCQhtEDaXXc/f181QV4fEUFh9EtBluE2QVVzQkEeBDFB3sCeQO5T30CnfoxAWSN7vz7yMEG3ZXdAhGwoQfRF/ECK5U9AYQpMQMPqOsBtkQNBb65AQaXGwz8pplFAajO8QJGZSEGgEuxAJfU+QD8JCEGwtGhA0v1jQERvCkGoqJNAPgjVQPGfLMDlELs/u1gfQBVQk0AyShlAnsaZQDBl7j+Fi7JAI6QRQIa2rUA05hlAiP5jQMFBpkDNH69AdlKpQF9+R0FRdnlAokYPQWTdHkCj7BdADn+sv33xMT8mp0ZBN7PSQEdo20B6bEBB64ADQQTN5r+uoEpAwS3NQB1DEEDr065AJ+sHQVRLLEELcK1AuZdMQdQRLEHaKiJB0z/yvxUt6UAsWwxBTwXiQNFCBcC0ItxAxlJLQRswHUDPcspASNctQI1fnUC3a0G84NvQv/rGRkEARQFAwlwNwHFOQkHxKiZAs/+yQKX5A0FYXy5Bo9ZGQP09NL8mxjFBIMzlP2kCIEFF/FpA2oM1QUiAv0DzOaxABNwrP5cZo0Ct8DFBr7TnPnIi4ECzN2lAGsqmQMrNsUDXTxVAi9whQCLH10C9LyNBWP1AQRRMM0GXzq8/WSEHQXiKHEGoYaJA1Hs+QW++HUBlpShB6P4bQD+x3ECT8zFBCh45QRvAp0AcZH5A+OQaQXymdkC+sDZBxi8VQWKy6UAbNE1AEMihQH3iLUEGd91AeOATQcI5nz8bXNu/1c1HQePbP0AkiAbAbLcnQFnnLEBMimlAo4VJQZv1NEGb4S9B8FYUQCPpyT8j/s2/Khn9QM77zkBy+xlA1bwJQNM1EEE+Jrc/ygClQGsv3UDak0hBn50uQQQkukBWqRJBPIYRQerXO0GxO/tAGIwXPz3PEUG3FgxBecSHQCr8TEAOBsNAjYsVQR0hPMDOwok/XAC8QGY3BEF5So5AUq41QejzkkAc0b5AEMMgQT9tDkHKrDBBRYLdQL9E6kAQNiJBz9QhQLtCgEAVJ/BABZBHQKajrUBCoUVBvxceQYCQNkFyQUpBNHc0QFyvnD8sARdAbj0yQTFw/EDUKcA/WtE7QTDNSMBKFw5ARFfOP3MUKkBoSDhBvpMqQTLNBkG/SAFAQtlAQeUnuL96SjFB9aU9QeYvRL6+5Ky/Zt0ZQYrFDUEmhjNBEacOQTa2Z0DXV4xAWJFSQBwwFMB08i1B8EMMQSPvkEB9KNW/HzorQSYXLUBctkNB6DO7Pzab7EBEtwtAjpLgvj++FEFRzZVApPX7P/QLiED2A+RAfqK0P51RR0EuTExBVvmMQF/KG0FhsWFA4NENQbwon0BLkytBfrg4QdH+XkC9bJpAXsIpQVXVLUGMBtNAVyPOP9muoLxDX0BBhnYFQYKt10BTOxZBegMIQTCiMEDKdwu/DIFBQJOJC0CwQeK/vjHJP8Re0j9/CyVAZjA7QeZRwb57NSNBkDgSQWaXokB+gCFB6mYuQTm2OUEemXpAAWI2QK2+X0BWukFBmKHQP5fdHEFG6MBAmJ6WQGfSiEAaCZg/2d4bQISMNEFKM/VAjBYAvjbSq79mCUJBIwnGP9M5h0DmmA5ABeQDQAa1DECkjxdBpA6PQDenMkGWfqm9g/p4QKpXD0EnaTpBj/tEQXmyw0C/PDC+5YJLQdqWHEDaWQVBu1uIQP+6wUBDDzFB67stQcaNBUD0ADZB/3UUQB7o/kBBXCBAWCW8QMhgqkDY581AiQItQTMdGEFy+SPAsWcUP2OUJ0GDuZtAydswQfFDGsBItAfARTb7QLeEXkD3zhVBzWyvv/CrFUCgETdA5Bf1PwN3AEEzShE/RjZNQGUhR0EHB4xARWyFP/KuvT9YGjVBoJ8vQcrWQUDjKwNBfT8xQfwjzj8BQbRAFi98QKstFEFW40NBqiLwQKm0W7+thphAEK2sQJLeDkFooEdB5lmiQJVm/z+X+K9Az+MVQS8vNEFfQURAYk6zP53YEUFq2ilBdjf5QP+XJ0Gsl7G/XZrIQMBkFkEBOfxAvQMbwPLbaUCWezhAgBQnQVyxFEDFKMY+ie8/QU3G20CYEQRBjg6MPxRFAkFHaSJBA8oTQYpq90ADhTc/0pCJQKHH5kDjUCdAHBXPQPdoykCz6fxAYg6sQHRO+7+BefVA5+A+QCLPG0CqAqxAEg8LQWW6KEF3HR5BGtYZQKIzzkAGSYhA/9MQQQrKBEGRxwtAFbwiQXuQSb9iwkNB9XYxQeoDMUEvjeVAvLaNQNxNIUG21axA4Du2QJjxHkE8Q0NBTabIPjxWnEDdyzdBJ04SQcaTSkG+kSJBJ/qdv7l8xEBz7RDADGviQDB78z8sTRNBqnkuQUU7ZkDyBde+EiMMwF315r888OVAHqKxQNoagECZeh3AzLkiQfOZQkEsK7JA5wjUQFphLEHQcyLAsMMtQVD/6ECEHChBFSWkQFs4FEGVR7lAZPf6QK8lJ0HUagJBQpPJQM9pFUGA97dAYNsYQWc7BEHZqJ9AnFhRQNdcfL10/QhAjq0dQeABFEFxMOJAoOMuQDFPor+HEeo/KD9tv8JbMUF6LJs+mGrjQFK37EDFa7ZA1dg9QT/eCkD8LCdBBoHwP0ktFcAZTDFBBkKLvymWJ0GKCRZAFhkYQD5e4EC8NklBuHD9P3mINkEBnbNAQrogQJ9HEEGehB9AbI+1P/w1u0ATLTFB3JKwQCKuOMDk6pm/DwmPQJkmL0Bvao1A9nIxQSi3ET+4jARBIdxmQJv+1EB8YEVBrXoyQXGQ80CXoLRAWJ0UQVsbgr+z5w9AN+A4QeOsgT/i7X0/XvQHQXSJ10DTWkJBAokUQaX58j+sXEpB6j0LQFnSFUCsLT5BRNqpQNJL/UDV+LVAIK4SQL57KkDU2jBAeoO3QJFLcL+Vpsc+gt4xQdtAv0AzwRlBLRtFPFDx5kCznzq/+NMxQZls1ED86jO/R/dRQGTGMD9KgpBAxagpQBlxPUHXAaBAjKhJQejuJr1IaO9A6M6mQLaexD/SukNBR/RAQZ/2L0E27epAF3gsQdNuZD9u80pAEvAFQebTHEHBKkFBEtMvQW4e5kDQJ+ZATXclQKxsb0DPbalAO0gHQEMHFUFxexLATRa6QB1JG0C7jdVAGavGQGCLtUB+FwVBX8o1QAiD4ECAMBxA5vkqQM/sE0GjKupAorWxPwQxwEAuxLdAlDgpvcpNKkEgXQxArpOCP3WqGUHJz1tArO0zQVER7L9/iTBBinQ0QeP35D76X8Q/gDgOPzn1B0EUuyVA5TbNP3hqIkF5jDc/PPNCQeRMDUGzVwpAY9r7QIm2Hr+qXztAI3UqQdP2MkEaMVFAEzTiv60Za0Bf7BVB8HNIQXMWMUEVdBZB4En8QHQ1CkHDe/C/1bbOQG3yT7+Iu70/8/LgPw+XjUD1Ni9BZd4JQD78ZEAWzepAl9QOQZat5T9hDQ1BJFUrQarJxEA86wpBrOmjP7mug0ASpMhAzwqLQOoKLEH5JjFB0EE5QDzKLEEVHKJAZY1JQUl9KkCSkTVBtFz8PwgWQb/f1otAfT4wQX0FB0HqOANAf8IbwFdpE8AfQhVBpVm8vx0QuT9D6itBaSoxQbeCEkHwBTFBZ3wnQT2XTEAA9VK/Ch4zQb0Pk0AcwkBBXsfdQAepEEGhIy5ATKyuQKXlsEAZ6hs+1ew0QPd9LEC4kqFAJpDDQImmHEE+g/xAVFN4QKlQGUCxpdi+iujZQGtFMkA+jcFAcMuKQJFXTD/09/NAcC0fQP+M2r1FVitBfXDSQHXlA0F6MhtAfI7Pv4YhBUHzyjdBOmAxQdfho0AhVAxAhGQHPjvXxkDcUlpAjUsMQQAysEBNwkZByeRlvwusp0APSD0+6MY+QBoYlz9tzd1AofkDQVNvJL+1zylA9xoZQCDOr0CCEEZA5tkqQQXaOUEdMNRAdBkfQG3OH0ECYBZB48cGQU1mQkEbS1s/YRA1QXrIUb+iXkJBV9M9QHjXKkHpMR5A+ywEwHadXEBc7epA0ZsDP+44NUHPDkVAiz37QPRJKUG+wZZAHDHoQFTFC0AvLy1BUmoVQSk5MEGSVwNBT0A/QTHMyj9/qjlBRiY7QNKAKkGqgx5A6f26QBYBv0AVN5C+3/LfQMAfQ0CP7aJAOjldQP04gz8DwkVBgG4DQEZRMUHGtuBAfpg7QfxTn0CcLq5AZa4PQPszKUGk2dVAPRRHQTltHUFHny1BXhMaQZv3LEG/Yy1Bv1vyQMycL0ECaBxBOPFAQScZKEFJ5TRB8tXsP7uaDEFexjpB05mTQN+kU0AlE9hAJ1wjQYJmREHpZCNBwcUqQHSH8EB2Y4xAFnIfQZsl9UCTUjxBGOEqQc3b/kDLyS1BB5rEP1jZCEETTgVBfpdDQCZsdD/8VzdBYXo7QXz6C7922MhAb+2BQK6o40BlBytAaLgvQaje9UBaZERBa0deQB49+T8PRVZACmEwQWPpxkCIw9u/+uMjQccGLECGxxZBb4wwvxvgQEHU6x9Bxa0XQCczZUAbOw2+u30QQXYYNEAKKRFBzugvQdPmqkA55zJBBUL+QBRrUsCdVThB/6IjQZqYl0DX8J5AW1DYP+btPEEs3DlBuA8LP+Rmij9k1Po/JV1jQOV73kC4CdFAiwpBQUwbdj9qzglBDj08Qcc5YkBvDWFAvK9JQZgfMEDJkOVAEtwvQWA4/EC3tTlBii8uQQ29VEBODTNBP9btP2VoO0H+8kNBMt8cQelILUF3B49AD9ikPZelkUDQWx1Ba07uP1wjB0G/855A+8wJQAM2KEDmK+ZAmEMXwKPPAUFYipBAvDpJQXr7fz4Nk0JBeGAGQQAcCUDcWx5BzGnpQJ3eTsBTQUlAgQDqQIuvDUFn6SFA4A1EQR5PIEAQ1qU+CirVPh890r9C/NJAZtEQQTjyp0DQoJ5AsByGQIpnLkH9N/NAPSBLwDidP0FxVuZAYXsWwHodm0DdI4BAc3sVQTzirEBwEzlBaPmMQDfYjkAtSRxAEaqsQIIKrEDUSQBBtkzdv0yCOkGhJ+C/nN4IQQX41kAHr0FB8M08QbvEDUEUPJhAV1IeQFYxvkCIXeA/1LsTQd66P0GI4aJAZChCQb76KkFuYzdBfXumQNRUMUE2f+dAttwkQMPKnr7xfNxAm/y6QBlD67/ugWY/5ws3QVE9v0Ak2oS9c8wpQVUYOUGPIEVB4v4+P8V5uEC4kCHAiy0fQXhfqEAGPMA+YckrQQuWvED5p/k/+iGpPyrmREE/bNFA9PD4QN0YRsDtESZAdkiOQDkb40APKy5AB6XmQBKrG0BLIWpAVROaQNKv+0B4n0NB6B/dQKVm8j+UcyRBmO0zQX34T8BDbi/AhrAcwGWWSEAgYS9AyV8uQTmOOEALbcFAtR0fQBRafb/6KRpBJMqgQARtk0CyPHlAc7YmQU7wkUD9YvBA582YQJFZuL8bRhBBYDoxQW5WBUH43DhB9G1MwMz4qUATuQxAD+M8QaAM5UCuvvBAq1IvQPrWoL7eug9BNc+oQBDDCEFPpcZAQENhQLxmpkBmXv9Aai+NQA3K6D+ZGt8/HAIXv4jWMEGRtgFBja4wQX7LL0Cmyy1BPgQrQICuH0F5AOxAkwb9P7ymL0F6wgDAca0ov+lYGEGm4uw/B5ktQNi7H0E9CNNA2h0IQZjTR0Gb4MJAZ/MyQMtKwkCE8RNAWWDGPyBhLT9mGhhBw6k0Pj8WXEBg4i9BOycgP/JrBUGvszRBMrkwQCqHIEAE49tAMpMsQNWSlkCaaCNBkhzFQO+WoUAlshE/PNMVvgRJi75/ixxBaHCZQJKiDUE2uC9A1kAfQJ4DPkE6Ri1AgqUbQQntWkBWBiRAeOyCP794NkBrcZxAFBcsvzS2w78nMUrAUvo0QRLHCkHyIKpAhGOPQKxCPb+cjyRAobspQeVc8j7G9A1Ba+7aQJE+2D/ebS5BkyAVQOiOKEHZ1xZA6WfhQPUmr0CipRS/5S0nQCrAKEBYiyFBIa6+QEHJHUDSJQFAvanxQGzwKEDb2SZBJMWIQOqq/77l5t1A3SEIQeHDtEDPp0pBkCvNQPrVmkBJdA1BkKVuQEp7sUDHNDBAcSeqQBzT8kAY1RZBnitMQLBcI0DRwytBenO6QM1TPUHIraRAp+1IQWwp4r3feixA6RYqQYg450BvBSBBxliwQIcTQEGSVVtANuUiQIsWDUDEM+U+ny8QQYeFRUCpx/w/YLU4QR/isEB+mpVAwabPP726CkBocEVBkWG+vaW7kEDH215AFmO0vwp5OUFDugRB0sPvPwVcsUBcmB9Bl8cUQKcbZkCUWURAEnIIQV4Qhb+S5Lk/fipCQQkGYr+NTCxApD+9QHUMiUDY5SlBlBxFQJ0b9ECCNkJBrEaKPyaDOUEeYUlBwagYv816CkE0dIdAV4DeQHB3PUG/RQ1BvIg/QTDyOUHaR1U/igSbvWPtAUFQpvm+YBdNQNHfBcAnedZAU+0JQPVPIkHniPBA2rgzQS/lrEDwmzVBVo0wQEHJmkD1HkG/oocuQQRg4kB46R5ARwChvyJ3T8A5r8a/PiEUQcCfRkHamBZA1lpJQWWnSkHNHm9A9UjPQP3wmj4vcxVARLqmPwNoJ0HIVjFBSz4jwEHaHUGxVDlBpnUXQHxtREHobZFAibLWP7iBIEF0ulw/tKMXPwWsnD8o6oRAM1zIQIN7NUE9JNg+myLNQLuOHUB8yWJAF4wBQWOKF0AE4RpBzCgEQchiG0FU2gFBKmz4QGqK4UDXgUJB75n1QJ4a1EAcV5C/zkceQIdFTEHihbhAqZC3QObjEEHPRhJBChM7QCgKJ0ESyd++hTjjQAf/k0AdzBRBSCskQEw3q0CnySdBBbTyQGWlLUHmHZhA7GJpvibYp0AGKgJBaDpIQel8kT7tXAe/+MAkQJfCij/lBi9BDUqNv/l8DEHNbtg/i0gWQQc7FcAtmeY/BNIwQeiXXkBxbgpBhCIGQdoDE0Ew4klB4DFNQEXhuj/6jgpBPK4bwPESPEDaRTpB/z0EQfun7L/gV0NBYMpKQbnAyj+5N6tA2DUHQYVbrT+wmElBHeQdQfpnlUDrPhJB98kxQAeDQ0B/9BrA9ZEuQWc3J78ZALE/FjAxQQN4F0HjORhAbVeCQLByLkCzkFFAnxalQK0ZyEC2hV9AXShVQDoAy0A2+fq/ETM1QZp1zz72z9NAtd0cQdBBNEECOeRAn37lQOVE3EDuUgVB2lUPQXGmnD/0Wt0/OEvrQMKzk0DD5V9AJ78VQM+nlr90zixB/GJAQW3RXECGVS1BkjxGQM/wUEC5Pnk+wJNBQBkcUcDWgFVAz2E+QbJgSUH5u6RAcrO6P6HOnEC8chk+HohBQa5pqb5OhxdADsgsQSTrh0AyGHM/Q5rMP6UIKEEhEx9BFdATQesXtj2TpixB42YUQWs4LUEzHDtAyCqMQE9uLkA3QjBBwF11P8rGNkHCIUs/Y7k7QfPxFEGgNh9AMFIxQaB6NUFCyi1BWeeZQPYBS8DOakRAQlcwQQ920ECL0yxBL04IQPSzw0CyXidB8fEKwDXtkUDf+7tAProvQXMwKUG8fHM+WJEQQa0jKUHazRRB3fgGQGIQtEAjgWk/t1cqQdbspED9MC5BWsyZQCGqPj8JX65Apor2P1P6FEFaIyRATF7iv3IQLEG2jo5AicJDQTnfAMCk0jFBrxMawPCJCkFOqipBYeU0QVl7BEG1SS1B9AkfQELkKEGikEpAC0b8QMX0mkBJjudAVY6HPgP34L5LKqRAI1KOP1JhxEBL8eZAIglCQe/HAr/aDe9AGLQFQfCiTD7YmQlBBeasQNdGKUHOOCdAL9MTQXSiIEBBqShATosSQTK+kUCfZxVAHo6rQDGFGEDiJLdAJ6RKwGsZ8ECFdExBEiIUQMzjNEFehj8/nG8fQXWOBEFfYd5AQZk3QMrUIkGMFjBB4MnZQNx2/z9sQ0tA7p+2P+7ZOkHvHCRABwPbP0VutUCBDENB22FCQCSqREFIHzJBHB0FQWecSMAfKjNAtxQlQaw+FEHzLgA/zSMYQHWdGkEysrZAguYxQd+YLUHmJ+lA+2hEQVKXBkEBLrI/PCY5wHLWykCvtu1AZGs8Qbknhz/yVFDAxhwxQSrvIkCuKp9AGP8SQTdeqECyouRAvAT1QIsoIkAPlsdA3ggrQfqFEMBMgkY+fYXDQKulMUFkJB9AiuoQQXjwPUEyfxdBWM0FQYAiAEFItck/nvMLQTh6Sz8SjMRALVD9vhOaQkFpaTNBYd/lQDOWJz+BYAVBLfnCQIYgG0HvmNdARUM6QfZZUD+ZyqFAKi6TP2BpEEG4Z7M/HPMKQNcGIUB4wS9BG78PQUSkFEHWV2O/EeYOQC/60EAnVaU/9J3hP+6DS0GMegJAXyalv1XNQkHMgi9B2+2TvxaS1L88h0JA8AA1QUljOUGtjaw8omZ+vxVdN8B2AA8/02ejQICoLUFeAVVAIGATQYmXrUCN7hdAr/aWQD0CK0FqJDxBuioxQJ5cND/2TNtAEfk9wAplzUAYSZhAfpfLQNO3OUFJ+BBAjmSWQAC4+EBCrLJAFInxQHEoCkAWDhxA3o1AQElj7j/oAU6/t8ARQEePOkFsFQRBGeYvQR4IuUDW5dhA7XrTvmsJSEFUgcs/fKIjQe1yi0BppnY+U89FQdJ/8kC1bEVBKiQmQILEwUCCN0xBNskyQXxvUkDnmDtByfYMQZfCs7+unNZAtT8rQY5zMUGBVjRBgb0wQSyTHUBeHOc/aaVKQWtgqUBzpAxBsXFqP98JQUApmARBDvX2P4pbI8Cs2ea/YR8tPxWaMEHH6m+/RIUgPwaRG0HuGiNBqqvev8P+KECfXjxAhAUMQCFTCEEc8pxATT1KQXfBR7/hsTFAcLBEQUJvSUDXuy9BtWI1QOK26j8Tgx1BKswjQGunFkHrBRxAj6s8QKWLSECorUhBhgoMQaA4MUG59zNAWeMqQZWV6D/jPeW/4pUlQRTHz0ByRwtBlLwjQXuT2kAHXrk/h8ovPxTUQ0F0J0RBB90nv67q2UDptOU/v08XQbNUM0GPu09AhuggQKrhM0BbQKRAjV9FQYWgTkCCcDBBkzwmQHe/n0D1vZlAtKEvQTIdRkBfHVJALdAnQU6TOUEt5jRBvOQVQdJ9WUDdsfRAfLDPP81OrUCIeQxB5cWSQDEUoUAQPwZB+nteQHC5/kAnDxZBtIWMvwxfukBFRT1B6EpJQWHeNEDQnrk8A00YQPnOIkG91r8/1ynzQIlQGr8zAz1AXqZJQb3gpD8zNQ1AgCMfQRdpVkAmXB9BdyH/PfxeH0DJ6wZBbqG4QNt+T0B+USNAcJHXQJSzIUA+EPBABagGQagWDEHMdx1BozE9QVrF/UDzSgHAGFerPxXNzj8w9PBAyq8AwHE6CEGrqi1BReg6QVccs0CC85ZAbe8hQJlLTj4hhAZBfLExQRw1PEEr4fBARXAcQchyFEFEVIlAKSZuO1ASST4BB9NA0K+BP0mA5UAPqqq/U5S4P2DLCkAmn4xA18dIQYZALUE1sQpBdTguQRTCgEC0YTFBf4KeP2p7lUCKKClBU3T6P/8ALkHpT4S/kT01QUOjCEBDYvJAHZNEQd9X1j8OIwpBJQQkQWScuUBZ/2e/hhVJQaw/hz/G4vFAAYv9v+bwSEGydURB619Iv7hUNkGx0h9BosMaQEVBmkADPci/5pBFQdLGUUDs9YBAm2AvQEtjL0AMVEBBKoG+P8keTUBzQ1pAsqgnQTsYE0CtqXlAT6FRwKVJPEFwkGtAUgzBQFDClkB8S/m/L8wyQPphRUELFC1Ax0QJQAXkPEGssMw/j+UhP18Tnz8eqs5At2foP2Erb0CWxXRA4fS4QFYdqECy7ztBWxEpQQ0uG0HbOwFAE3wjQSLq9r+sPAdADiEgwA31RkHLP7pAZQA6wLqEO0BxL6xAz87aQB7tR0EXtc9ABFoJQXYDC0F9HHpAMQyfQKxPhb5TrNRANDCJQDQSLkH8lMVA+FQ8QYsGS8ALacy/vYOfQLaHE0EGlytBRAYTwHGuA0Cm4Iw/D1U7QYvaKUHUdDpAXoo8QBPjUMAkkQc/y1ajv8QjuEAuhxlAbELAQNWANkAsxxzAnCQ6wJsymED/Xx5B38JCQdeG+D/AWl4/aAUDQCEmQEAop0VB0KFFQOeDJUGleoi/zvkvQYK3x78KcRw/YyXCQNmI70DOZkVBEPFJQCmvEkCKYSFBJY1FQZ3eFkGpdgZBBfcvQY7HS0GBshtART5DQFf8PkETSrBALFIsQcmUMkDpOpBARB8eQP5qFUGt/kdBVL+cvzqvNj0v8yxBAg0FwMLVk0B3tTBB9JFrQAywMUF7p9dAHsXov2GTG0G1yQRBrdxJQIiWMUE5MWFAoESTQGfvBcClLhpBcUDhP+urlkCb9eZAZen9QFTpIEDsRJpAF2swQcsEhECTaC5BO/UVQDu6DUC9TwVB60BdQJz+DkFhSSRBLlygv5trRkG86YtAEpVMPrm1Q0FVFf5A4HQWQesKG7/HpLY/bfU1QaAmDkHiBdU/DL9FQf4X1UBGLzVByeSGQEHkMkHKITNBwYZPQC2OKkEqjiFAOYmEQE8fQ0CrKjBB2LvpQC2ESEFiarG/0yEdQWKZ3kCXQz1BS0AtQET9GUEfQExAerY9QK6oL0H4HDFBX5LkP8oLNkEjDUBB5LOtQPqLMUG84MNAzYoiQIAylD+7OjZB4jNEQUdOJUHMxcFAxnL6QKhRNUB4uUNBpOo0QDm/Gr8mRvtAZpwiQW5cIEC4Q9xAPbDnQFCFk7/iTe6/RDcFvtwr+kBUjrBA2TgTQRX4LkHyLKY/I/nIQJXWJ0FfdRhALw60QEec2UB5aGO/nTThv7GPTEC850RBnK6VQP4n6EDZpqtAl0cCQevTJj/roNNAsH5/P41/C0H6oLlAXXPuQGbOwUAAmYw/3AxQQCioSkA7sIVAWLYOQU6810C3SQbANB9hPwzhB0AWaDFBQOMlQQKjOcAGP0e/P4kaQRrwaz9T8ZBAymIwQQYVDUGV/EVBh09EQaGP2UAtzBxBwzsKQGaF6r1tEdlAv2ccQMJsLz4YMAU+Wl2OP0Atp78kptI+UG8hQRQZLr+Zp5o/cb8pQRKzZ0BAp7VAUcIFQdckJz/AwpRAHoARQK4T/z+UvylANlwUPxrz875Ar0rAwG8WwIzSOsBAo7pAlQfKv+Ih9b+/V+G/jpvQQGrtCkG5NtJA0WRQwCUZlEAtklBAbmsLQMePNz9WRh9BnwgIQHQzH0HVCiq/lRfnQGmR3L8+tSJACOJoQI+o00BhBKdApE0xQZWWE0C+uzpByY8WQYXTMEEPD5pANRAOwEl9FkHzgu1ABp+SP6xp3kA07wk/MFFNQVU4GECxsRtBfV9RQCgaG0GVbsZAov1nQKmNJUFo8C9BhB0jQXynH0HlPuhA1ZUuQceOHEFgW7hAwsPUQGE7V0A9vBlAOOH8QP2LLkFRQUpAoWdCQVedSEFTryJAAlqTQD6UkECyayQ/P6MZQWq7pUD4UBZAKBozQYLLvEBudQVBb2kfQPgdHEBWHg1AqXyuP/a3nUBrQzFBBMVMQTtUS0AdRTRBGnb6QIpJY0C13xJBMjZFQQH0lEC0txZBb6UEQQnmYT/zWEdAz0fmQHOt/D+uXt1AuDG8vx0Y7UC942s/ieIlQZ1nl0AvtB9B13ZMv2dagkDQNZY+GZkcQCaNDEEL2nm+Pq2ZQMRDpUDYg7ZAXb8LQKPiLUE43pNAX1/EQFxTKUFRwk9ANYAqQZyIK0FlOJ1A4+lFQWuELEGE1o5A3HjgQMQfIEFxky1B2kNhQKiRH0EXpDVA1ps1QWuiP79N411AjxAJQbeGIUBu7nxACiVDQSUX1r8tLCdAoA07QMNnzECbEMBArjEdQB2JxUA2dhVBGHKLQCK0KEAsUgpB/XEiQLAv8b+2ZNpAtWDBQKP1rD/R8Bm/Nlg8QXIHMEB/nmpAOpRFQXWOtECqjEZBreawQNPWgz13/9y/QnN6QEU+REANKExA0Msuv1oAlUBnp7pA7mMuQW4HCkHERCBBb/omQbEfDz+/qg9ATaWzvyHPQkEdXME/6VjbP5ozOUAYggDAR6AlQNGPqr8iNx1AmJf6v0zhGkFJDQ9BY+nbQA1bQEEZu6I/CFwYQUYq7UCGIy5B71YSwJMO4UDvWw/AjioxQdyDLEFR6wNBAAkQQbsNxkD3yaG/fE8dwLkzREFJ1ixBGgPyv/5kAkERXTFBonAnQISwMEHYwT5Aa82dQMzkMUFxtWpAEqxPQCbVyUCN2P5ALL8UQRIpsUAhHvU/USrSQGaJtz5pxkRBlxbtPV00sj9gYjlBwh+wQIG4lEAUZwxBicQ5QfwaE0CT0UpB+Pd8QMbQAj9GbkBB74ASv4MhLr8pJhBAzJi6QJYsakDuLh3AcuouQQiG2EB5PSNB4US1QNHrSkG7jxNBzrB1vwEVSUC0eABAIpc4QWGbQ0FXGppAH2JPQEgeE0G4ZwxBhkZhQArTFEAkdR1BBM/2QLxlRUEK9olAKjq6QLwWC0GJ6jJBDxcQwMfYLEEEjbc/4JoZPjSojkCOuc2/KUs/Qb8qHUHd9A5AK0L+QEbtO0F3HjFB5sRDQcQ4NEEy+L5AD22pP1QCVj6BKq89m0ZJQXXMMEHQkRFBpIANQWJ08T/8IlxA4sbPQO1v9UCVfQdBuF9ZQHuKAz9sx59AhVcYQZ2cFEBOBRw+g2ycQHVJIkEmnt0/tnqPPzs92UCcezhAehJFQeOiLkEJwps/Ce5CQKYvMUF88gZBiktAQCOXDMAWE1tAmugVQSNuhD+kmDNBJJKcQPCQScDeq4hAfU8WQTPgjUBui0xBO1suQMImOUE54xFBbUFBQQzUBkHkaNC9U3wKQNrbNUEh1eRABz7xvss95EDNqCtBnNwqQXm6E8DCQtBAkYY4QX8XSEHmwFNAZTwwQYmzQUGkdiFByhEVQMX8OkAWZds/nhJFQZ6UNUE6QFtACsZDQaoII0Gl+j9BMsf3P2IvJECaUaFA3NFGQSaER0GKZ9O/ZllHQf64OkH5dDJBrtVgP3qDMUGhNzBAkMBFQXCQJUCF8CBBXzXmQNdTTEFIKmFALthFQKf440D0Rr1A4XwGQJRNFECw27U/VGE2QXMSOEGJT5tADd7bP5S770BFWDFALbARwAwYG0HbhVDAyksNQF67SEErRou/Lp7FQP13eEBCIExBV+UgQPMqP0BQehI//yQPQQdCLUHMKU/AxhdCQZ8CFUGMsbY/Sn41vWZwRkGxmhdB91q9QNib9D8fwPJASTXpPGivQkHD1dc/bOGgQDJ+H0DHHRZAeF/dQJOfKsAmyUlBleXAQLBe+0AEIw5Bf7tGQHwvokDTIRo/b/UzP0Z9okDnKo9AawFMQV1kCEFqGz5Bt3EvQSmF4UCfEERBEnGLQFuuWD/M+axAcoksQcXMTkADF8u+/JQyQZwD0EAHCTBBXfDvP5tWQsAB/MtAorcVQbuEM0G6MylBaUFKQHktNkCpmmBAacixQP+BBEGxd59AB75MQZiJSkFl2DJBijQ2QYLfMkAPmnI/ZEhXQFBBDUGtTQhBeyxxP0H6jEDEj5BAorYCwAcX6T9x0CI+p2Y9QGzTCEDaAkzAJBmyP3eDKEGdRkhAP98qQXDB0D+vXUxBKdZUQH5YaUBwLMy/Kp0jwNx8VkAHoTNBcx7VQLr+cz85jmNAdjovQCCiFEH/zCFBd7aNQElOR0AIe01Ai0Dwv9o/NEEYTkFB6DPFQHEo20BWuDi/+26Evf9takDe2/hA7lkyQRh/jUB6r7e/8uA8QV4HuD/vaAfAPFGZQGTsq0D7ZGY/Tew+QLU7L0ECATFBUwlMQeHSNEEKIC1BSkNLQatRCL7maIlAhjYhQGOVxECfKy5Bx8OMP+zNIj+MB+FA8SKTQJ0cFkHBcBq/lDV0QGF0o0DscUI//Y39QIpTSkHjJCZArqbRP/NI0EAGL8Y/ZGYVQJB4NkGgFu5AQeOwvznTSkG7719Ao1IuQQorB0HePkxAMGxHQRqEwkC8ZfS+f9hDQWkQWD86/uRATwoKQQq4+r+l0fNAVTRIQUoINEFmikRBRURDQdCbQkFtfShB4xUFQaxv8ECbMDrAemQ0QemMTEGWqhlAYR/cQJup0EApGDlBzAtHQSjKw0CmWDlBfTsyQa2jeb/jcApB/swfQEKV50DCrRhBobCnPsBU1UD57aZAhsMXP/fBaEAKCkBBy5uGQP+VHUAWFBhAqn4pQUHPMkCq7htAH6X/v6v9QUGZjDlBfF0PQRPCKUEMlC9AXDOYQDWEk0ASNdBAVtiSQK4S5789zYtAXeHjQALA80B7AA9BOXuoQDWLNEE1QqxA3acWvxD8nECh4qW/5e0VP8atCEFErrdAp5s3Qelho0DIjJG/O8M/Qf1+CUGPLaVArf2WQEfoQD7kpqZAvScswGo9w0AxuTbALFllQOCqQkFq9wVA2TkJQfM3sT+t969As0sYQQaFIEHYZwFBZkBNQIhaMkGJexpBFE6WQIIKPkFk8AFBXyQoQQ6fBEHeCqE/eTMKQV/cHEFMHSJB4pgjQDruuUBDgoZAfpfZQApcskCP3i8/dTsMQIOI0j5NyIpA7hYxQU+BGUBtVjdBhs45QWkhCkCsJ9c/vgBkQGMVuEBvTFZAYOI5PyeQGEAj4r6/pPlFQE9dSUGgPDFBoTHaQN+DNkGToCNAxZlJQevzYEB+SQlBpbgxQQu5rUDV3l4/qKVnvunj1kBGRam/c6eQQFBnA0DB9/hANktTv01O+T5aXyFAodvavxgHVEBuv6Q/U8OTv4XvRUHpXpJAlM0TQbPif78ll1C/4DY7QQiOSkGLSTFBbidEQSS0FEG5Ci5BIiIOQZxD/kAbC8RAsJE4QEDxQ0GFti1AQHEzQTwD8b/8CkFB8ykeQJzhCUHrmEhAI0ibQMxEuEBd0EVB3p4rQcIeD0FwMwNBpLoVQWgkM0CbTbo/wpWSQMxwE0AfLxFBmc/iQPz0s79U2UFANnZKQFbM7kBSsxFAj4kqQXy2EUBbL5FACpqfQG5yKUDyzg9B4R4lP/YCAECNLZVArsUFQcj3LkCgfTlBjAsiP++qKUFfLyxB6bzCQIRNR0G4K0ZAWIdDQSvJnT9XFEJBM3bLQCHEEUCn9yNB28yzQGXtQUDAhxRAtKg4QXJmD0FegDBA+kYTQZE0JUGfZuq/7NuMQAOmKEEa5itB3AomQWziO0HXyqlAB/FGQWnGMUH89WU+E4DgQD8/PcCmlUdB2RDXQNKM9UBWqoxAGOZEPjYQsT9K1j9ArU/mQI/nDUFxXTFB/sofQRMy4UDAUitBdJMrQY6EJD/zjcVApBSNQI2D7kA2O4M/RQUrv12sXD/5PO5ArAulP8xG0EDcwTlBSmpDQRvv00DXCUBAKCBLwAR4C8BgZA1BMJEjQaiP20CGD61A6KAAQWdHqkAGVA1BEPsyQCum+z+62Gq+PbjsQE0QDj8KtkVBFJZTQPUzEEEbLNY/K9L1PwqSN0HTVLM/o0YrQYYekUD7HjFBEf4hQQeNDkBB7kdBj3Qtv3c+MEHOYC9Bx62tQICvPUCu2ENBOSGoP6omHUG5+RxBMTIzQcKTOEFLX9ZAOv5LQR6i0kC2tha/8JhJQdjjSsC/jR1AiEaLPxvcQUGNH8BASh4ZPw2eoT3MKt9AADiAQJuvekClgCRAiH2kQNWkxEB/NL4/UOOoP2Dtkz+w/idBAjXTQFZaHkCL145AS/orQT2SoT9hW/pAU28fQEkesr+dZiNAPDOTvj7DxD8DGw1BZJFnP6oPMUH4dmFALfXVQFxiuUAcnx1BoENFQUynCEDuJuBAqgYAQOtcREEnNU9A22XpQA6ioz/VAURA3YITQDkhkj5YhydBzmgFQSmXyD+eEFNAId4QQQzn5EBNI9g/J9kdQBcLm0BFtihB47VdQC0tEUCAZzNBVc+GQE1j+0AOEBBBieVJQEFqMUFZwSJBh3siQQ69QkExxchABe0dQfJJTkBZPy1Bm2MSQZv5Q0HtCA0+mvbhP1ENG0B8my9BEYSYQBSOLEFkQIo/A3OOQK5QIEF9xM1AJNcwQZuGyD8CR15AH3UTQbUFqT9i2Ee/rdcdQUzBKEFLtUdAyZWhveaR2kA7ogjAtbThv1DjzUD1cuBACRu5QPZls0CX+pNAvF29QADYAUDn68dAPEuTQNFWN0Fg8CNAfvcIQUVaLUFE9rBAEiY+QAChKEF8+BZA6Ma5QBAKq0BRLgxB49U5Qdu2LUF2CENBiMcQQDFSDkCRtSZBBE+4QJMDKEG93wVAysnCQA9cs0AOhFRAwDw+QTVm1b+xqkdBuwZAQeD81kAh5qdAZuo/QUym8UCt6wRBaR2WPUGxG0HdwEdBjPAsQCDe3r8JKV9AeVycP42DrT9yQY5AkgxHQYuQokCz1BlBi1aoQPqwqT8osCLA+UxKQTMHG0HZWLlAn+aoPqEdn0ApLJhAECHNvtqRxEB2I48/c0wuQcnjzT/RNkRBfTeFQJsrskB/fAhBGt71QL0dLUG5XhJBy/enQK3MkD9EuEpBh3kQQQTbREGmPy5Ab7zsQMTFHEG2rzJB7v8MQa6BLEFDoUdBvBmLQGYIJ0GhREdBRPZQwOsROMDZ2DlB5bsXQNS0Sz6bVzNBC3UsQZkNRUEA/E1AUVapQBCiYT+lQuVA/qsuQfbQIkEezSFAVxTDQFsLOUFDYj5B83UtQPTiLEHXQTNBdHItQaICG786zUfAKTyWQLK2D0AMFRFBDga5QDRJAEAJ4d8+9Y8VQcILFkG0c7VAVitDQaK+xUBBGvVAV8A9QXhHV0D8oDhA+9pEQGlm+0CBd+u9lR3iQHiahb/p7tZApR09QCqTjUBmjO5AFxj6QKTZCUE9JFtAko5DQQiZGjzF7iZBNUTbQMCDGEEv/RdBsEQOQf14EEE1Fa5AktwNQYYGI0E9CDpBxAWpvklKhj/0yvRA1SfvvmkYREH8IUhB3ypAQa2KNUGfv6FA3HEqQUGNE0FeQkFBQaEyP1g7BUE+HVw/8VMWQQuhh0DPzDJB88AEQKhjgEBTWFC/jayhv9hfK0BwMMM/ckxIQTcVIj8Pb0ZAlDdLvzntwL8egDFBlzM9QXgWRkF2fmS8ViobQSKDCECkFzBB5pzpPxgoQkGvnbE/9Mzvvluiq0BRDLM/xOgFQdjJ1kBU8QxAwFkrQXSlwEBoeN8/DJpIQZNr8EC7FsA/tX+hQA0v4r8+yRBBZ6s+QT8NCkGyv+a/+KblQPGhF0BAyBtB0IzwQOf2K0FzYCDA3FIYQaowrkCyMCVB3sYtQYPqL7/EooM/Uk4tQWakMkBvSyLAcBuoQN4PFEGuNuM/7FH/vQ9AmkBAkjJAwJyjv8h3hkDOskNBnwMiQTd3pEC3e6hAZGAMQUSWET+FWO+/IwwTPohDSUGzRzRBL52cQMVzSkE2PzJB6OUYQQ4oSEEwiJdAvkQcQIIjTkDVuARBPdUrQbQfrUCbTSBBwzbIv3lMwL4MGyxB41OjP35kmEC/sOpA1HAQQd94/UDtPjRBOnT0QObeyEDqwv0+x3CwvxiXZkDgAuJA7nTZQK+mkEBXvY5A/akRQTxFv0DgkKg/VbY1QaAtGsA2TDVAkakxQc4HK0GcJ2NApoJEQTxqOUE6yTdBlPYxQTpRjEB2HgpAqLOnQOI1O0G7OwRBVwGjQI74vUDkuRJAb2e7PxIwn0CllwhB/IUoQQ==",
          "dtype": "f4"
         },
         "z": {
          "bdata": "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",
          "dtype": "f4"
         }
        }
       ],
       "layout": {
        "height": 768,
        "legend": {
         "tracegroupgap": 0
        },
        "margin": {
         "t": 60
        },
        "scene": {
         "aspectmode": "cube",
         "domain": {
          "x": [
           0,
           1
          ],
          "y": [
           0,
           1
          ]
         },
         "xaxis": {
          "title": {
           "text": "x"
          }
         },
         "yaxis": {
          "title": {
           "text": "y"
          }
         },
         "zaxis": {
          "title": {
           "text": "z"
          }
         }
        },
        "template": {
         "data": {
          "bar": [
           {
            "error_x": {
             "color": "#2a3f5f"
            },
            "error_y": {
             "color": "#2a3f5f"
            },
            "marker": {
             "line": {
              "color": "#E5ECF6",
              "width": 0.5
             },
             "pattern": {
              "fillmode": "overlay",
              "size": 10,
              "solidity": 0.2
             }
            },
            "type": "bar"
           }
          ],
          "barpolar": [
           {
            "marker": {
             "line": {
              "color": "#E5ECF6",
              "width": 0.5
             },
             "pattern": {
              "fillmode": "overlay",
              "size": 10,
              "solidity": 0.2
             }
            },
            "type": "barpolar"
           }
          ],
          "carpet": [
           {
            "aaxis": {
             "endlinecolor": "#2a3f5f",
             "gridcolor": "white",
             "linecolor": "white",
             "minorgridcolor": "white",
             "startlinecolor": "#2a3f5f"
            },
            "baxis": {
             "endlinecolor": "#2a3f5f",
             "gridcolor": "white",
             "linecolor": "white",
             "minorgridcolor": "white",
             "startlinecolor": "#2a3f5f"
            },
            "type": "carpet"
           }
          ],
          "choropleth": [
           {
            "colorbar": {
             "outlinewidth": 0,
             "ticks": ""
            },
            "type": "choropleth"
           }
          ],
          "contour": [
           {
            "colorbar": {
             "outlinewidth": 0,
             "ticks": ""
            },
            "colorscale": [
             [
              0,
              "#0d0887"
             ],
             [
              0.1111111111111111,
              "#46039f"
             ],
             [
              0.2222222222222222,
              "#7201a8"
             ],
             [
              0.3333333333333333,
              "#9c179e"
             ],
             [
              0.4444444444444444,
              "#bd3786"
             ],
             [
              0.5555555555555556,
              "#d8576b"
             ],
             [
              0.6666666666666666,
              "#ed7953"
             ],
             [
              0.7777777777777778,
              "#fb9f3a"
             ],
             [
              0.8888888888888888,
              "#fdca26"
             ],
             [
              1,
              "#f0f921"
             ]
            ],
            "type": "contour"
           }
          ],
          "contourcarpet": [
           {
            "colorbar": {
             "outlinewidth": 0,
             "ticks": ""
            },
            "type": "contourcarpet"
           }
          ],
          "heatmap": [
           {
            "colorbar": {
             "outlinewidth": 0,
             "ticks": ""
            },
            "colorscale": [
             [
              0,
              "#0d0887"
             ],
             [
              0.1111111111111111,
              "#46039f"
             ],
             [
              0.2222222222222222,
              "#7201a8"
             ],
             [
              0.3333333333333333,
              "#9c179e"
             ],
             [
              0.4444444444444444,
              "#bd3786"
             ],
             [
              0.5555555555555556,
              "#d8576b"
             ],
             [
              0.6666666666666666,
              "#ed7953"
             ],
             [
              0.7777777777777778,
              "#fb9f3a"
             ],
             [
              0.8888888888888888,
              "#fdca26"
             ],
             [
              1,
              "#f0f921"
             ]
            ],
            "type": "heatmap"
           }
          ],
          "histogram": [
           {
            "marker": {
             "pattern": {
              "fillmode": "overlay",
              "size": 10,
              "solidity": 0.2
             }
            },
            "type": "histogram"
           }
          ],
          "histogram2d": [
           {
            "colorbar": {
             "outlinewidth": 0,
             "ticks": ""
            },
            "colorscale": [
             [
              0,
              "#0d0887"
             ],
             [
              0.1111111111111111,
              "#46039f"
             ],
             [
              0.2222222222222222,
              "#7201a8"
             ],
             [
              0.3333333333333333,
              "#9c179e"
             ],
             [
              0.4444444444444444,
              "#bd3786"
             ],
             [
              0.5555555555555556,
              "#d8576b"
             ],
             [
              0.6666666666666666,
              "#ed7953"
             ],
             [
              0.7777777777777778,
              "#fb9f3a"
             ],
             [
              0.8888888888888888,
              "#fdca26"
             ],
             [
              1,
              "#f0f921"
             ]
            ],
            "type": "histogram2d"
           }
          ],
          "histogram2dcontour": [
           {
            "colorbar": {
             "outlinewidth": 0,
             "ticks": ""
            },
            "colorscale": [
             [
              0,
              "#0d0887"
             ],
             [
              0.1111111111111111,
              "#46039f"
             ],
             [
              0.2222222222222222,
              "#7201a8"
             ],
             [
              0.3333333333333333,
              "#9c179e"
             ],
             [
              0.4444444444444444,
              "#bd3786"
             ],
             [
              0.5555555555555556,
              "#d8576b"
             ],
             [
              0.6666666666666666,
              "#ed7953"
             ],
             [
              0.7777777777777778,
              "#fb9f3a"
             ],
             [
              0.8888888888888888,
              "#fdca26"
             ],
             [
              1,
              "#f0f921"
             ]
            ],
            "type": "histogram2dcontour"
           }
          ],
          "mesh3d": [
           {
            "colorbar": {
             "outlinewidth": 0,
             "ticks": ""
            },
            "type": "mesh3d"
           }
          ],
          "parcoords": [
           {
            "line": {
             "colorbar": {
              "outlinewidth": 0,
              "ticks": ""
             }
            },
            "type": "parcoords"
           }
          ],
          "pie": [
           {
            "automargin": true,
            "type": "pie"
           }
          ],
          "scatter": [
           {
            "fillpattern": {
             "fillmode": "overlay",
             "size": 10,
             "solidity": 0.2
            },
            "type": "scatter"
           }
          ],
          "scatter3d": [
           {
            "line": {
             "colorbar": {
              "outlinewidth": 0,
              "ticks": ""
             }
            },
            "marker": {
             "colorbar": {
              "outlinewidth": 0,
              "ticks": ""
             }
            },
            "type": "scatter3d"
           }
          ],
          "scattercarpet": [
           {
            "marker": {
             "colorbar": {
              "outlinewidth": 0,
              "ticks": ""
             }
            },
            "type": "scattercarpet"
           }
          ],
          "scattergeo": [
           {
            "marker": {
             "colorbar": {
              "outlinewidth": 0,
              "ticks": ""
             }
            },
            "type": "scattergeo"
           }
          ],
          "scattergl": [
           {
            "marker": {
             "colorbar": {
              "outlinewidth": 0,
              "ticks": ""
             }
            },
            "type": "scattergl"
           }
          ],
          "scattermap": [
           {
            "marker": {
             "colorbar": {
              "outlinewidth": 0,
              "ticks": ""
             }
            },
            "type": "scattermap"
           }
          ],
          "scattermapbox": [
           {
            "marker": {
             "colorbar": {
              "outlinewidth": 0,
              "ticks": ""
             }
            },
            "type": "scattermapbox"
           }
          ],
          "scatterpolar": [
           {
            "marker": {
             "colorbar": {
              "outlinewidth": 0,
              "ticks": ""
             }
            },
            "type": "scatterpolar"
           }
          ],
          "scatterpolargl": [
           {
            "marker": {
             "colorbar": {
              "outlinewidth": 0,
              "ticks": ""
             }
            },
            "type": "scatterpolargl"
           }
          ],
          "scatterternary": [
           {
            "marker": {
             "colorbar": {
              "outlinewidth": 0,
              "ticks": ""
             }
            },
            "type": "scatterternary"
           }
          ],
          "surface": [
           {
            "colorbar": {
             "outlinewidth": 0,
             "ticks": ""
            },
            "colorscale": [
             [
              0,
              "#0d0887"
             ],
             [
              0.1111111111111111,
              "#46039f"
             ],
             [
              0.2222222222222222,
              "#7201a8"
             ],
             [
              0.3333333333333333,
              "#9c179e"
             ],
             [
              0.4444444444444444,
              "#bd3786"
             ],
             [
              0.5555555555555556,
              "#d8576b"
             ],
             [
              0.6666666666666666,
              "#ed7953"
             ],
             [
              0.7777777777777778,
              "#fb9f3a"
             ],
             [
              0.8888888888888888,
              "#fdca26"
             ],
             [
              1,
              "#f0f921"
             ]
            ],
            "type": "surface"
           }
          ],
          "table": [
           {
            "cells": {
             "fill": {
              "color": "#EBF0F8"
             },
             "line": {
              "color": "white"
             }
            },
            "header": {
             "fill": {
              "color": "#C8D4E3"
             },
             "line": {
              "color": "white"
             }
            },
            "type": "table"
           }
          ]
         },
         "layout": {
          "annotationdefaults": {
           "arrowcolor": "#2a3f5f",
           "arrowhead": 0,
           "arrowwidth": 1
          },
          "autotypenumbers": "strict",
          "coloraxis": {
           "colorbar": {
            "outlinewidth": 0,
            "ticks": ""
           }
          },
          "colorscale": {
           "diverging": [
            [
             0,
             "#8e0152"
            ],
            [
             0.1,
             "#c51b7d"
            ],
            [
             0.2,
             "#de77ae"
            ],
            [
             0.3,
             "#f1b6da"
            ],
            [
             0.4,
             "#fde0ef"
            ],
            [
             0.5,
             "#f7f7f7"
            ],
            [
             0.6,
             "#e6f5d0"
            ],
            [
             0.7,
             "#b8e186"
            ],
            [
             0.8,
             "#7fbc41"
            ],
            [
             0.9,
             "#4d9221"
            ],
            [
             1,
             "#276419"
            ]
           ],
           "sequential": [
            [
             0,
             "#0d0887"
            ],
            [
             0.1111111111111111,
             "#46039f"
            ],
            [
             0.2222222222222222,
             "#7201a8"
            ],
            [
             0.3333333333333333,
             "#9c179e"
            ],
            [
             0.4444444444444444,
             "#bd3786"
            ],
            [
             0.5555555555555556,
             "#d8576b"
            ],
            [
             0.6666666666666666,
             "#ed7953"
            ],
            [
             0.7777777777777778,
             "#fb9f3a"
            ],
            [
             0.8888888888888888,
             "#fdca26"
            ],
            [
             1,
             "#f0f921"
            ]
           ],
           "sequentialminus": [
            [
             0,
             "#0d0887"
            ],
            [
             0.1111111111111111,
             "#46039f"
            ],
            [
             0.2222222222222222,
             "#7201a8"
            ],
            [
             0.3333333333333333,
             "#9c179e"
            ],
            [
             0.4444444444444444,
             "#bd3786"
            ],
            [
             0.5555555555555556,
             "#d8576b"
            ],
            [
             0.6666666666666666,
             "#ed7953"
            ],
            [
             0.7777777777777778,
             "#fb9f3a"
            ],
            [
             0.8888888888888888,
             "#fdca26"
            ],
            [
             1,
             "#f0f921"
            ]
           ]
          },
          "colorway": [
           "#636efa",
           "#EF553B",
           "#00cc96",
           "#ab63fa",
           "#FFA15A",
           "#19d3f3",
           "#FF6692",
           "#B6E880",
           "#FF97FF",
           "#FECB52"
          ],
          "font": {
           "color": "#2a3f5f"
          },
          "geo": {
           "bgcolor": "white",
           "lakecolor": "white",
           "landcolor": "#E5ECF6",
           "showlakes": true,
           "showland": true,
           "subunitcolor": "white"
          },
          "hoverlabel": {
           "align": "left"
          },
          "hovermode": "closest",
          "mapbox": {
           "style": "light"
          },
          "paper_bgcolor": "white",
          "plot_bgcolor": "#E5ECF6",
          "polar": {
           "angularaxis": {
            "gridcolor": "white",
            "linecolor": "white",
            "ticks": ""
           },
           "bgcolor": "#E5ECF6",
           "radialaxis": {
            "gridcolor": "white",
            "linecolor": "white",
            "ticks": ""
           }
          },
          "scene": {
           "xaxis": {
            "backgroundcolor": "#E5ECF6",
            "gridcolor": "white",
            "gridwidth": 2,
            "linecolor": "white",
            "showbackground": true,
            "ticks": "",
            "zerolinecolor": "white"
           },
           "yaxis": {
            "backgroundcolor": "#E5ECF6",
            "gridcolor": "white",
            "gridwidth": 2,
            "linecolor": "white",
            "showbackground": true,
            "ticks": "",
            "zerolinecolor": "white"
           },
           "zaxis": {
            "backgroundcolor": "#E5ECF6",
            "gridcolor": "white",
            "gridwidth": 2,
            "linecolor": "white",
            "showbackground": true,
            "ticks": "",
            "zerolinecolor": "white"
           }
          },
          "shapedefaults": {
           "line": {
            "color": "#2a3f5f"
           }
          },
          "ternary": {
           "aaxis": {
            "gridcolor": "white",
            "linecolor": "white",
            "ticks": ""
           },
           "baxis": {
            "gridcolor": "white",
            "linecolor": "white",
            "ticks": ""
           },
           "bgcolor": "#E5ECF6",
           "caxis": {
            "gridcolor": "white",
            "linecolor": "white",
            "ticks": ""
           }
          },
          "title": {
           "x": 0.05
          },
          "xaxis": {
           "automargin": true,
           "gridcolor": "white",
           "linecolor": "white",
           "ticks": "",
           "title": {
            "standoff": 15
           },
           "zerolinecolor": "white",
           "zerolinewidth": 2
          },
          "yaxis": {
           "automargin": true,
           "gridcolor": "white",
           "linecolor": "white",
           "ticks": "",
           "title": {
            "standoff": 15
           },
           "zerolinecolor": "white",
           "zerolinewidth": 2
          }
         }
        },
        "width": 1024
       }
      }
     },
     "metadata": {},
     "output_type": "display_data"
    }
   ],
   "source": [
    "import umap\n",
    "import plotly.express as px\n",
    "\n",
    "centered = subset - subset.mean(axis=0)\n",
    "U, S, Vt = np.linalg.svd(centered, full_matrices=False)\n",
    "whitened = centered @ Vt.T / S\n",
    "\n",
    "# UMAP\n",
    "umap_model = umap.UMAP(n_neighbors=15, n_components=3, metric='euclidean')\n",
    "umap_embeddings = umap_model.fit_transform(whitened)\n",
    "\n",
    "fig = px.scatter_3d(\n",
    "    x=umap_embeddings[:, 0],\n",
    "    y=umap_embeddings[:, 1],\n",
    "    z=umap_embeddings[:, 2],\n",
    "    opacity=0.4)\n",
    "fig.update_traces(marker=dict(size=2))\n",
    "fig.update_layout(width=1024,\n",
    "                  height=768, scene=dict(aspectmode='cube'))\n",
    "fig.show()"
   ]
  },
  {
   "cell_type": "markdown",
   "id": "42b0a98d",
   "metadata": {},
   "source": [
    "# Sphericalised (White)"
   ]
  },
  {
   "cell_type": "code",
   "execution_count": 17,
   "id": "335b9568",
   "metadata": {},
   "outputs": [
    {
     "data": {
      "application/vnd.plotly.v1+json": {
       "config": {
        "plotlyServerURL": "https://plot.ly"
       },
       "data": [
        {
         "hovertemplate": "x=%{x}<br>y=%{y}<br>z=%{z}<extra></extra>",
         "legendgroup": "",
         "marker": {
          "color": "#636efa",
          "opacity": 0.4,
          "size": 2,
          "symbol": "circle"
         },
         "mode": "markers",
         "name": "",
         "scene": "scene",
         "showlegend": false,
         "type": "scatter3d",
         "x": {
          "bdata": "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",
          "dtype": "f4"
         },
         "y": {
          "bdata": "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",
          "dtype": "f4"
         },
         "z": {
          "bdata": "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",
          "dtype": "f4"
         }
        }
       ],
       "layout": {
        "height": 768,
        "legend": {
         "tracegroupgap": 0
        },
        "margin": {
         "t": 60
        },
        "scene": {
         "aspectmode": "cube",
         "domain": {
          "x": [
           0,
           1
          ],
          "y": [
           0,
           1
          ]
         },
         "xaxis": {
          "title": {
           "text": "x"
          }
         },
         "yaxis": {
          "title": {
           "text": "y"
          }
         },
         "zaxis": {
          "title": {
           "text": "z"
          }
         }
        },
        "template": {
         "data": {
          "bar": [
           {
            "error_x": {
             "color": "#2a3f5f"
            },
            "error_y": {
             "color": "#2a3f5f"
            },
            "marker": {
             "line": {
              "color": "#E5ECF6",
              "width": 0.5
             },
             "pattern": {
              "fillmode": "overlay",
              "size": 10,
              "solidity": 0.2
             }
            },
            "type": "bar"
           }
          ],
          "barpolar": [
           {
            "marker": {
             "line": {
              "color": "#E5ECF6",
              "width": 0.5
             },
             "pattern": {
              "fillmode": "overlay",
              "size": 10,
              "solidity": 0.2
             }
            },
            "type": "barpolar"
           }
          ],
          "carpet": [
           {
            "aaxis": {
             "endlinecolor": "#2a3f5f",
             "gridcolor": "white",
             "linecolor": "white",
             "minorgridcolor": "white",
             "startlinecolor": "#2a3f5f"
            },
            "baxis": {
             "endlinecolor": "#2a3f5f",
             "gridcolor": "white",
             "linecolor": "white",
             "minorgridcolor": "white",
             "startlinecolor": "#2a3f5f"
            },
            "type": "carpet"
           }
          ],
          "choropleth": [
           {
            "colorbar": {
             "outlinewidth": 0,
             "ticks": ""
            },
            "type": "choropleth"
           }
          ],
          "contour": [
           {
            "colorbar": {
             "outlinewidth": 0,
             "ticks": ""
            },
            "colorscale": [
             [
              0,
              "#0d0887"
             ],
             [
              0.1111111111111111,
              "#46039f"
             ],
             [
              0.2222222222222222,
              "#7201a8"
             ],
             [
              0.3333333333333333,
              "#9c179e"
             ],
             [
              0.4444444444444444,
              "#bd3786"
             ],
             [
              0.5555555555555556,
              "#d8576b"
             ],
             [
              0.6666666666666666,
              "#ed7953"
             ],
             [
              0.7777777777777778,
              "#fb9f3a"
             ],
             [
              0.8888888888888888,
              "#fdca26"
             ],
             [
              1,
              "#f0f921"
             ]
            ],
            "type": "contour"
           }
          ],
          "contourcarpet": [
           {
            "colorbar": {
             "outlinewidth": 0,
             "ticks": ""
            },
            "type": "contourcarpet"
           }
          ],
          "heatmap": [
           {
            "colorbar": {
             "outlinewidth": 0,
             "ticks": ""
            },
            "colorscale": [
             [
              0,
              "#0d0887"
             ],
             [
              0.1111111111111111,
              "#46039f"
             ],
             [
              0.2222222222222222,
              "#7201a8"
             ],
             [
              0.3333333333333333,
              "#9c179e"
             ],
             [
              0.4444444444444444,
              "#bd3786"
             ],
             [
              0.5555555555555556,
              "#d8576b"
             ],
             [
              0.6666666666666666,
              "#ed7953"
             ],
             [
              0.7777777777777778,
              "#fb9f3a"
             ],
             [
              0.8888888888888888,
              "#fdca26"
             ],
             [
              1,
              "#f0f921"
             ]
            ],
            "type": "heatmap"
           }
          ],
          "histogram": [
           {
            "marker": {
             "pattern": {
              "fillmode": "overlay",
              "size": 10,
              "solidity": 0.2
             }
            },
            "type": "histogram"
           }
          ],
          "histogram2d": [
           {
            "colorbar": {
             "outlinewidth": 0,
             "ticks": ""
            },
            "colorscale": [
             [
              0,
              "#0d0887"
             ],
             [
              0.1111111111111111,
              "#46039f"
             ],
             [
              0.2222222222222222,
              "#7201a8"
             ],
             [
              0.3333333333333333,
              "#9c179e"
             ],
             [
              0.4444444444444444,
              "#bd3786"
             ],
             [
              0.5555555555555556,
              "#d8576b"
             ],
             [
              0.6666666666666666,
              "#ed7953"
             ],
             [
              0.7777777777777778,
              "#fb9f3a"
             ],
             [
              0.8888888888888888,
              "#fdca26"
             ],
             [
              1,
              "#f0f921"
             ]
            ],
            "type": "histogram2d"
           }
          ],
          "histogram2dcontour": [
           {
            "colorbar": {
             "outlinewidth": 0,
             "ticks": ""
            },
            "colorscale": [
             [
              0,
              "#0d0887"
             ],
             [
              0.1111111111111111,
              "#46039f"
             ],
             [
              0.2222222222222222,
              "#7201a8"
             ],
             [
              0.3333333333333333,
              "#9c179e"
             ],
             [
              0.4444444444444444,
              "#bd3786"
             ],
             [
              0.5555555555555556,
              "#d8576b"
             ],
             [
              0.6666666666666666,
              "#ed7953"
             ],
             [
              0.7777777777777778,
              "#fb9f3a"
             ],
             [
              0.8888888888888888,
              "#fdca26"
             ],
             [
              1,
              "#f0f921"
             ]
            ],
            "type": "histogram2dcontour"
           }
          ],
          "mesh3d": [
           {
            "colorbar": {
             "outlinewidth": 0,
             "ticks": ""
            },
            "type": "mesh3d"
           }
          ],
          "parcoords": [
           {
            "line": {
             "colorbar": {
              "outlinewidth": 0,
              "ticks": ""
             }
            },
            "type": "parcoords"
           }
          ],
          "pie": [
           {
            "automargin": true,
            "type": "pie"
           }
          ],
          "scatter": [
           {
            "fillpattern": {
             "fillmode": "overlay",
             "size": 10,
             "solidity": 0.2
            },
            "type": "scatter"
           }
          ],
          "scatter3d": [
           {
            "line": {
             "colorbar": {
              "outlinewidth": 0,
              "ticks": ""
             }
            },
            "marker": {
             "colorbar": {
              "outlinewidth": 0,
              "ticks": ""
             }
            },
            "type": "scatter3d"
           }
          ],
          "scattercarpet": [
           {
            "marker": {
             "colorbar": {
              "outlinewidth": 0,
              "ticks": ""
             }
            },
            "type": "scattercarpet"
           }
          ],
          "scattergeo": [
           {
            "marker": {
             "colorbar": {
              "outlinewidth": 0,
              "ticks": ""
             }
            },
            "type": "scattergeo"
           }
          ],
          "scattergl": [
           {
            "marker": {
             "colorbar": {
              "outlinewidth": 0,
              "ticks": ""
             }
            },
            "type": "scattergl"
           }
          ],
          "scattermap": [
           {
            "marker": {
             "colorbar": {
              "outlinewidth": 0,
              "ticks": ""
             }
            },
            "type": "scattermap"
           }
          ],
          "scattermapbox": [
           {
            "marker": {
             "colorbar": {
              "outlinewidth": 0,
              "ticks": ""
             }
            },
            "type": "scattermapbox"
           }
          ],
          "scatterpolar": [
           {
            "marker": {
             "colorbar": {
              "outlinewidth": 0,
              "ticks": ""
             }
            },
            "type": "scatterpolar"
           }
          ],
          "scatterpolargl": [
           {
            "marker": {
             "colorbar": {
              "outlinewidth": 0,
              "ticks": ""
             }
            },
            "type": "scatterpolargl"
           }
          ],
          "scatterternary": [
           {
            "marker": {
             "colorbar": {
              "outlinewidth": 0,
              "ticks": ""
             }
            },
            "type": "scatterternary"
           }
          ],
          "surface": [
           {
            "colorbar": {
             "outlinewidth": 0,
             "ticks": ""
            },
            "colorscale": [
             [
              0,
              "#0d0887"
             ],
             [
              0.1111111111111111,
              "#46039f"
             ],
             [
              0.2222222222222222,
              "#7201a8"
             ],
             [
              0.3333333333333333,
              "#9c179e"
             ],
             [
              0.4444444444444444,
              "#bd3786"
             ],
             [
              0.5555555555555556,
              "#d8576b"
             ],
             [
              0.6666666666666666,
              "#ed7953"
             ],
             [
              0.7777777777777778,
              "#fb9f3a"
             ],
             [
              0.8888888888888888,
              "#fdca26"
             ],
             [
              1,
              "#f0f921"
             ]
            ],
            "type": "surface"
           }
          ],
          "table": [
           {
            "cells": {
             "fill": {
              "color": "#EBF0F8"
             },
             "line": {
              "color": "white"
             }
            },
            "header": {
             "fill": {
              "color": "#C8D4E3"
             },
             "line": {
              "color": "white"
             }
            },
            "type": "table"
           }
          ]
         },
         "layout": {
          "annotationdefaults": {
           "arrowcolor": "#2a3f5f",
           "arrowhead": 0,
           "arrowwidth": 1
          },
          "autotypenumbers": "strict",
          "coloraxis": {
           "colorbar": {
            "outlinewidth": 0,
            "ticks": ""
           }
          },
          "colorscale": {
           "diverging": [
            [
             0,
             "#8e0152"
            ],
            [
             0.1,
             "#c51b7d"
            ],
            [
             0.2,
             "#de77ae"
            ],
            [
             0.3,
             "#f1b6da"
            ],
            [
             0.4,
             "#fde0ef"
            ],
            [
             0.5,
             "#f7f7f7"
            ],
            [
             0.6,
             "#e6f5d0"
            ],
            [
             0.7,
             "#b8e186"
            ],
            [
             0.8,
             "#7fbc41"
            ],
            [
             0.9,
             "#4d9221"
            ],
            [
             1,
             "#276419"
            ]
           ],
           "sequential": [
            [
             0,
             "#0d0887"
            ],
            [
             0.1111111111111111,
             "#46039f"
            ],
            [
             0.2222222222222222,
             "#7201a8"
            ],
            [
             0.3333333333333333,
             "#9c179e"
            ],
            [
             0.4444444444444444,
             "#bd3786"
            ],
            [
             0.5555555555555556,
             "#d8576b"
            ],
            [
             0.6666666666666666,
             "#ed7953"
            ],
            [
             0.7777777777777778,
             "#fb9f3a"
            ],
            [
             0.8888888888888888,
             "#fdca26"
            ],
            [
             1,
             "#f0f921"
            ]
           ],
           "sequentialminus": [
            [
             0,
             "#0d0887"
            ],
            [
             0.1111111111111111,
             "#46039f"
            ],
            [
             0.2222222222222222,
             "#7201a8"
            ],
            [
             0.3333333333333333,
             "#9c179e"
            ],
            [
             0.4444444444444444,
             "#bd3786"
            ],
            [
             0.5555555555555556,
             "#d8576b"
            ],
            [
             0.6666666666666666,
             "#ed7953"
            ],
            [
             0.7777777777777778,
             "#fb9f3a"
            ],
            [
             0.8888888888888888,
             "#fdca26"
            ],
            [
             1,
             "#f0f921"
            ]
           ]
          },
          "colorway": [
           "#636efa",
           "#EF553B",
           "#00cc96",
           "#ab63fa",
           "#FFA15A",
           "#19d3f3",
           "#FF6692",
           "#B6E880",
           "#FF97FF",
           "#FECB52"
          ],
          "font": {
           "color": "#2a3f5f"
          },
          "geo": {
           "bgcolor": "white",
           "lakecolor": "white",
           "landcolor": "#E5ECF6",
           "showlakes": true,
           "showland": true,
           "subunitcolor": "white"
          },
          "hoverlabel": {
           "align": "left"
          },
          "hovermode": "closest",
          "mapbox": {
           "style": "light"
          },
          "paper_bgcolor": "white",
          "plot_bgcolor": "#E5ECF6",
          "polar": {
           "angularaxis": {
            "gridcolor": "white",
            "linecolor": "white",
            "ticks": ""
           },
           "bgcolor": "#E5ECF6",
           "radialaxis": {
            "gridcolor": "white",
            "linecolor": "white",
            "ticks": ""
           }
          },
          "scene": {
           "xaxis": {
            "backgroundcolor": "#E5ECF6",
            "gridcolor": "white",
            "gridwidth": 2,
            "linecolor": "white",
            "showbackground": true,
            "ticks": "",
            "zerolinecolor": "white"
           },
           "yaxis": {
            "backgroundcolor": "#E5ECF6",
            "gridcolor": "white",
            "gridwidth": 2,
            "linecolor": "white",
            "showbackground": true,
            "ticks": "",
            "zerolinecolor": "white"
           },
           "zaxis": {
            "backgroundcolor": "#E5ECF6",
            "gridcolor": "white",
            "gridwidth": 2,
            "linecolor": "white",
            "showbackground": true,
            "ticks": "",
            "zerolinecolor": "white"
           }
          },
          "shapedefaults": {
           "line": {
            "color": "#2a3f5f"
           }
          },
          "ternary": {
           "aaxis": {
            "gridcolor": "white",
            "linecolor": "white",
            "ticks": ""
           },
           "baxis": {
            "gridcolor": "white",
            "linecolor": "white",
            "ticks": ""
           },
           "bgcolor": "#E5ECF6",
           "caxis": {
            "gridcolor": "white",
            "linecolor": "white",
            "ticks": ""
           }
          },
          "title": {
           "x": 0.05
          },
          "xaxis": {
           "automargin": true,
           "gridcolor": "white",
           "linecolor": "white",
           "ticks": "",
           "title": {
            "standoff": 15
           },
           "zerolinecolor": "white",
           "zerolinewidth": 2
          },
          "yaxis": {
           "automargin": true,
           "gridcolor": "white",
           "linecolor": "white",
           "ticks": "",
           "title": {
            "standoff": 15
           },
           "zerolinecolor": "white",
           "zerolinewidth": 2
          }
         }
        },
        "width": 1024
       }
      }
     },
     "metadata": {},
     "output_type": "display_data"
    }
   ],
   "source": [
    "import plotly.express as px\n",
    "\n",
    "\n",
    "centered = subset - subset.mean(axis=0)\n",
    "U, S, Vt = np.linalg.svd(centered, full_matrices=False)\n",
    "whitened = centered @ Vt.T / S\n",
    "whitened /= np.linalg.norm(whitened, axis=1, keepdims=True)\n",
    "fig = px.scatter_3d(\n",
    "    x=whitened[:, 0],\n",
    "    y=whitened[:, 1],\n",
    "    z=whitened[:, 2],\n",
    "    opacity=0.4)\n",
    "fig.update_traces(marker=dict(size=2))\n",
    "fig.update_layout(width=1024,\n",
    "                  height=768, scene=dict(aspectmode='cube'))\n",
    "fig.show()"
   ]
  },
  {
   "cell_type": "markdown",
   "id": "e1bd6f2d",
   "metadata": {},
   "source": [
    "# Raw"
   ]
  },
  {
   "cell_type": "code",
   "execution_count": 4,
   "id": "ba54f0d1",
   "metadata": {},
   "outputs": [
    {
     "name": "stdout",
     "output_type": "stream",
     "text": [
      "Removed 0 outlier points out of 10000 (0.00%)\n",
      "x: min=-0.035323 max=-0.034646 span=0.000677 mean=-0.035014 std=0.000083\n",
      "y: min=0.110261 max=0.110981 span=0.000719 mean=0.110711 std=0.000075\n",
      "z: min=-0.132297 max=-0.131648 span=0.000649 mean=-0.132017 std=0.000081\n",
      "Using standardized coordinates: False\n",
      "Using scaling mode: symmetric\n",
      "Ranges -> x:[-0.035344444, -0.034625202] y:[0.11026126, 0.11098051] z:[-0.13233203, -0.13161278]\n"
     ]
    },
    {
     "data": {
      "application/vnd.plotly.v1+json": {
       "config": {
        "plotlyServerURL": "https://plot.ly"
       },
       "data": [
        {
         "hovertemplate": "x=%{x}<br>y=%{y}<br>z=%{z}<extra></extra>",
         "legendgroup": "",
         "marker": {
          "color": "#636efa",
          "opacity": 0.5,
          "size": 2,
          "symbol": "circle"
         },
         "mode": "markers",
         "name": "",
         "scene": "scene",
         "showlegend": false,
         "type": "scatter3d",
         "x": {
          "bdata": "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",
          "dtype": "f4"
         },
         "y": {
          "bdata": "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",
          "dtype": "f4"
         },
         "z": {
          "bdata": "nCkHvmkbB76NPwe+3DUHvg4pB76uMge+5igHvvJCB74+Jge+3E8HvuxNB74iJQe+yiYHvp86B77TAAe+fVkHvlcqB74wCge+GRgHvmgdB75ANwe+piwHvjxLB77NNAe+eT4Hvq8RB76xKQe+PUwHviIHB77AQQe+hz0HvhMtB75zNQe+Q1MHvpwnB74oJge+e04HvhBNB76kGQe+/AoHvh4rB76tFAe+phsHviE6B774HQe+lx8HvuZDB75wSAe+sEYHvj0GB75BIQe+dDsHvoVEB77tOAe+dysHvrsaB74eQAe+eCUHvo4sB76x5wa+E0QHvjM8B75sRwe+uEAHvuEcB75VPAe+iiYHvhE8B75xHwe+IkYHvqxAB76lJwe+y1kHvv08B777RQe+ZxwHvlxLB75XSwe+jyMHvr46B74cQge+iTwHvqMtB75RDge+OVIHviJBB76iLAe+viUHvlZBB76NMge+MjYHvmglB74fPAe+5PAGvpJGB77jGwe+CEUHviIYB754IQe+xywHvu4XB74C5wa+pCMHvgQ7B74IXge+YSgHvq0+B757NAe+1hoHvmQ1B76KFwe+0TkHvtkgB77AWge+7ScHvu46B77HMQe+oCUHvqwXB777IAe+T/kGviFTB74jHAe+lCMHvmBbB74SSwe+6hYHvjcwB74oJQe++x4HvssaB77RTwe+gD0HvrIiB77AWwe+ZD0Hvtg9B77UFge+cigHvoNdB77MIge+TEQHvmoPB77qPge+cEMHvmcxB76+Jge+Ux4Hvn04B76BbAe+NjUHvjdDB773NAe+WRgHvi5UB75MOQe+m+UGvowqB76UPwe+wwgHvr0JB75iLwe+diMHvrc8B75XGAe+TwsHvqJMB76FNwe+AvkGvv4+B75zMge+xDYHvi8xB765Sge+NkMHvmg9B77BKQe+LOgGvjknB75OQwe+pg4HvmM5B77zZge+qi8HvjEeB77iGge+QkYHvsHzBr7N+Qa+Ak4HvmH5Br4yXAe+ujcHvoouB76pCQe+NUgHvn43B74BQAe+ciUHvkwrB76nGwe+M0cHvjFMB76kVQe+8x8Hvp4vB76jEwe+REsHvhQlB77USwe+fiYHvjhHB76eJQe+DywHvi5VB77lDge+Dh8Hvj5MB761LQe+3SsHvmhDB77KLAe+LDsHvoAfB77BGge+oAUHvgxKB759Ige+KfUGvtEZB757FQe+AT0HvihOB75jNQe+mAkHvvIMB74GBQe+Q0AHvklEB74e/Aa+fD4HvsgRB76GGQe+ikAHvkEZB76BNAe+LCUHvq8VB769Jge+tSAHvq8jB77NIwe+LC8HvnBJB75NMge+xR8Hvr0mB76PPAe+aCkHvkoHB76l/Aa+ESYHvg85B76f9ga+eToHvigUB75aSAe+OhEHvp81B75nMQe+6RsHvhgSB743Kge+gy4Hvv0sB74xRQe+4yEHvhcVB75gPQe+2T8HvmQSB75R/Qa+6TsHvoglB749PAe+PBgHvqoqB74tLQe+CicHvmQ0B74FPAe+4iMHvt81B77PNwe+khYHvvg/B75tNQe+1DsHvoIxB74KHAe+hE4HvhQhB75ILge+2iUHvmUuB74uKge+Dz0Hvjo0B77rLQe+mlUHvjwaB74QSge+GysHvms4B77kNge+syUHvoUWB76IHAe+6UgHvmwpB74ZEQe+SAIHvqBSB77QJAe+vUgHvgYrB74jEQe+EysHvgM+B74pDge+KS4HvnA4B74OQQe+/0kHvmYsB74BPge+3zkHvs9HB741LAe+Yi0Hvlc5B77nTge+mVMHvhhOB75mCwe++CYHvpIWB77tQAe+iSkHvoQtB74lLQe+Fu0GvrNQB76DRQe+TDgHvltQB76jLwe+wUYHvuQUB750DQe+ujwHvs4/B76MHQe+JSsHvnciB76gMQe+7RoHvpcQB77ZLQe+STMHvvMlB74SLge+rTYHvl4kB77gMAe+tCEHvvQvB75WHge+TDgHvjJDB77AQQe+VRYHvo4+B76QNwe+0TUHvl0eB76QIwe+ZBUHvnBUB76KLQe+1g0Hvj8aB74KIwe+tisHvicWB75uOAe+CVUHvlsjB740Owe+6jAHvosoB75BQge+YyIHvoQyB77nPwe+oUEHvjUTB75nLwe+fSYHvqklB76oIwe+9EYHvoNJB741IAe+tCUHvrFHB76kKQe+fDEHvuouB757LQe+hF0Hvh41B74pEwe+QB0HvgAQB74cNQe+kRsHvkosB763LAe+NhMHvkc7B75INAe+byIHvmhFB75IOwe+HkoHvr4gB757OQe+M2AHvuEGB74gEwe+ZzgHvr44B75FHQe+IAcHvv85B77jRge+YiUHvswbB74LPge+RzkHvjweB75WLwe+ojkHvgMxB77NIge+nRoHvmkXB76FOwe+mioHvu4uB746MAe+REAHvoI0B751Qge+YzUHvto5B77xOQe+4FUHvkc5B74uMwe+nDgHvpcyB77NIge+FTkHvqIdB75XOAe+7BcHvoAkB74KOAe+ZS4Hvg4sB77BRwe++RoHvsAiB77QWAe+5zMHvrAoB74O9Qa+bUQHvnhDB77bLwe+QjYHvo47B77eQwe+Ix8Hviw8B75uQAe+BQkHvuseB74eJQe+mS8HvqpAB75KNwe+ejMHvpYcB77EOwe+4j8HvqodB74sHAe+WkQHvopRB753Nwe+kjkHvqIaB75nFAe+cSoHvmEpB76xQAe+WyAHvk4zB76GOQe+fw8HvqA9B75SPQe+hysHvmQ/B76LOAe+OT4Hvp8PB776EAe+9jMHvnoZB75kLAe+zFEHvvIxB74LJQe+ay4HvqpCB77/VAe+kBUHvlIVB76DCge+chMHvn8XB76qKwe+/hMHvgkpB77tCge+1RMHvr8dB77kAge+IBkHvsVAB77XOQe+SzAHvgEnB76BMwe+GzYHvlc7B76OJwe+ukcHvvv/Br6YLge+9CUHvroLB75MNAe+rT0HvmM1B74B8wa+DTYHvkxdB77oJwe+IRAHvkkaB74wQwe+vkEHvqJDB77XQwe++y0Hvh4mB74MNwe+rzMHvrErB75nUQe+s0IHvrpWB74vSQe+NDgHvoNmB77oNAe+QEgHvlUiB75wOge+KyEHvvdPB77DKQe+GT0Hvv0bB76pMQe+Cy4Hvt4OB77ATwe+pkMHvjg1B76kIQe+ijgHvqgnB74ENge+xCkHvns6B74EGge+DUYHvnZqB742Qge+WywHvm0fB75GPwe+pBkHvts4B75jOAe+sjMHvgVYB76SMwe+NGAHvl0bB76fJge+HzwHvmA0B75rOQe+VQEHvpwdB77jGAe+GyoHvkdJB75eHge+nzEHvnghB75gPge+sU0HvmUfB75mLwe+dz8HvmMoB77zRge+5BQHvtM4B74GIAe+AS8HvuQvB77IWwe+BSgHvohJB75ENQe+IAcHvv87B75ERge+GBAHvqYIB753Pge+VyAHvjUoB77WOAe+Wx0HvuwPB77iOAe+dBUHvrUgB767QAe+ryAHvqdJB75sFge+qEAHvvlRB74UIQe+hCgHvgRFB76cJQe+2BsHvjALB76HQge+FCEHvokaB746SAe+ozMHvskqB775Jwe+TDgHvnI3B763Gwe+uB0HvpYpB77/Fwe+z0EHvtwoB74VVAe+wCMHvogoB77ZOQe+zT4HvoU/B740RQe+5EQHvupKB76IGwe+iR8HvmdPB75mQwe+eTMHvlheB75YLge+qyUHvjo+B754Jge+/ScHvgw1B75HVwe+azMHvnsYB74lKAe+bQEHvn4sB75sEQe++A0HvrQ5B76SHQe+VR4HvkxAB75PLge+fy0HvidJB74DBge+NjUHvtc8B76iHAe+QjsHvtMsB74rGwe+vyUHvvkPB760Oge+5TwHvmZNB758Owe+TT0HvtYsB76GLQe+HU8HvkMuB75uBAe+ezAHvlw2B75IGQe+IRUHvh8kB74qFQe+6igHviAHB74SPQe+vCkHvlkzB765Owe+GD8HvulZB77COAe+tUIHvsg2B75sIwe+PT0HvpAWB760JAe+ECsHvuc9B74PKAe+cSUHvmdcB74wLAe+QxcHvt8lB77SLQe+mjIHvmxEB76kQQe+1CcHvsAtB75e7Qa+MSIHvkUsB74mTwe+yyEHvnw/B76pSAe+vDMHvmkeB75RFQe+bDIHvj45B74FMQe+WzcHvskeB76iIQe+tDsHvgwIB77pSge+YycHvnD/Br5vKAe+YxcHvo8wB75vHge+WSYHvtItB76XIge+1kYHvsBEB775OQe+ajcHvj0AB75/Pwe+STQHvjTZBr4ZMAe+jRIHviQdB77jFQe+eCcHvl06B77uRQe+Uj0HvpA+B764KAe+mTcHvm8xB77MRAe+Si8Hvu01B77BCQe+BVsHvr1IB74FMQe+IkUHvp0qB74mIge+6DIHvhRDB77TKQe+UhYHvlA5B757MAe+cDkHvskoB742NQe+KEYHvrhHB76JDAe+qUsHvrQ4B77+SAe+LDoHvos2B74iPAe+VTcHvtU3B74FGwe+ry4Hvv4UB76sMwe+MS4HvkRHB77ZUge+6CcHvqYfB761JAe+2ygHvm1IB779Pwe+rDsHvu4OB76xOge+kT4HvkbxBr7hOAe+UyUHvr4ZB74fPge+qR8Hvl02B77rLwe+Oi4HvuI3B77uBge+U1EHvp5OB754NQe+DCAHvgEIB76oKge+ui0Hvpk8B76wQQe++fwGvrUSB77dRwe+UjIHvrAmB74wQQe+/jgHvpczB75QMQe+akIHvqkdB77HFwe+qTsHvoM0B74yHwe+KUEHvtFDB76ONwe+Iz0HvgUgB76dRge+LCQHvh5FB75DOwe+1jcHvhAjB77DLge+QRUHvrowB757JQe+NTAHvkkqB755Nge+lksHvm0VB74WKQe+Yh8Hvl05B77ZRQe+pUoHvg5EB77MEQe+RhkHvpM8B75kPAe+UCAHvmhLB76YEge+RzsHvigiB74UFAe+yAgHvsBLB77TCQe+cBYHvh48B75yLAe+bjQHvlshB74sNwe+i0oHvsYzB76tEAe+PC0Hvv4zB77xKAe+tzIHvj4xB77BIwe+myMHvjYoB75CRQe+2BwHvhciB751Qge+wkMHvo5CB771OQe+pzkHvuIaB765Oge+sxwHvjRNB74BVge+YSgHvvYhB77lQwe+pxMHvt8sB75FHAe+gTwHvnBEB747Jwe+sSsHvvomB74GLge+WzIHvrErB76aNwe+IB8Hvu8pB75oBge+hjEHvkRHB74HRwe+fTMHvg1PB77pMAe+7kIHvnApB74VUge+HiYHvkodB76y+Aa+u0QHvucSB774Bwe+KjcHvkVKB75tZQe+2yQHvvM7B75mOge+0SkHvpQxB74hJge+YgkHvlo5B74waQe+LUQHvlM0B75TPQe+FDYHvulLB76TKwe+DCgHvjVFB76uKAe+lj8HvswfB75KNQe+tzcHvpY9B769IAe+vykHvqcmB76hNQe+riUHvphQB74WSAe+YyUHvtMPB765Owe+IiUHvhpHB74qLge+7A8HvoI9B77bKwe+2SYHvsspB766Qge+i0EHvq0yB758Fge+mUkHvjQTB74THAe+kDAHvuIuB74wPwe+LS4HvgYhB76fJQe+lxMHvkkqB77xPwe+HjgHvrgqB74qGQe+/TAHvs8jB76LTAe+5xcHvkg/B74nOwe+tSIHvmweB77FVQe+sggHvgUXB76eLge+5TYHvlNbB74AEwe+1C0HvmM2B77FSge+R0AHvgI8B751LAe+61IHvsQcB75SJAe+U0cHvgg2B75TKwe+NPQGvtsoB776RQe+lSYHvucAB77sCge+CDEHvuQPB767Jge+Q0IHvtcUB74BUAe+GjYHvmJLB75QJQe+gDcHvl85B75ARAe+AkwHvp4WB75uGQe+HBsHvrVQB74kQwe+Hx0HvtIhB75wRAe+oyAHvi08B77eMwe+F1IHvuw0B77PIAe+HVQHvl1GB758KAe+kR8Hvq0JB748Mge+9DoHvj80B74nOwe+Bj8HvoIpB75IEQe+sEQHvuZPB74+Bge+GxYHvlYWB76OXwe+jCEHvrJQB77PQAe+ITUHvt46B75YEwe+wToHvtUyB769Owe+7zwHvqVFB77aJwe+eDUHvo9YB74CSwe+RC0HvqAmB77iVQe+KQUHvn45B77nOge+jC4HvtMqB74lSQe+h0YHvjoiB774IAe+dV4HvgJcB76gKAe+VkcHvgskB74HGAe+wD4HvrgzB76TTAe+uCQHvukTB74JGQe+QBcHvq5XB75EIQe+O0sHvhUlB77qLwe+NiUHvoQ7B761AAe+eyUHvkYsB77BLwe+xRkHvsFiB77qTge+bSQHvi8nB740KAe+40cHvvkzB759OAe+eS4HvgIaB76yOge+WlUHvr8BB74lJQe+bC8Hvn4+B756Lwe+vDsHvm5DB74eOwe+6k8HvqMrB768Jge+4DAHvspOB76jUge+uCoHvqshB75kVAe+b0UHvokLB754Hwe+aiAHvi9JB75/Rge+xxoHvj84B77aPwe+9SoHvtUhB774Oge+DFQHvsYwB76nBwe+QSEHvncSB75XRAe+P08HvmE1B76gNge+NC8HvupMB76OQwe+V0EHvuxHB74cMAe+IAgHvn4hB76pPQe+Gh4HvswvB76vDQe+dkAHvkQ8B764Rge+6RYHvmkoB75xRQe+rDUHvt80B77/Gge+txkHvsEiB75qQge+jx4HvuYTB76qage+Pi0Hvs4hB77tNAe+5R8HvtI4B764Tge+ZFcHvvodB76tQAe+OCcHvhEQB74wOQe+BTQHvjstB77hPQe+8EAHvlNCB75mLAe+DigHvtgNB74WGAe+VSAHvlUnB77AEge+gDAHvk0wB74uMwe+DjYHvowrB75nKAe+iyEHvkBEB77IVAe+OFIHvrdTB74FCQe+0UUHvlFSB77SNAe+pRYHvlJPB76nLAe+0kAHvscgB76jSQe+P1IHvnlGB76tTwe+CSkHvtklB75XMge+DkIHvn45B75MHAe+5zQHvvZJB75HHge+bRoHvuweB763FQe+lSwHvrQwB74bDAe+izQHvuIwB77U8Qa+MzYHvn0xB74KVwe+QSwHvvgrB74SNge++DMHvkE+B76TUge+9C8HvoJIB74GRQe+tBwHvlMJB74vMwe+rikHvnoqB777Owe+aEUHvu4uB748Oge+qggHvoslB75TMAe+wB8HvusXB76aKwe+N1oHvkMcB77QVQe+Hz8HvuIiB74NHwe+ZVAHvlYiB74ZHwe+WkEHvlkfB77XMge+yDMHvlAlB762Fge+5R0HvolBB75mHQe++zcHvq5AB77rSAe+NiwHvnolB74sMQe+RywHvrc2B778SQe+FisHvkYmB77ISAe+50kHvvs7B742Ige+zAMHvv1TB74RBwe+sCgHvooSB76iJAe+VTYHvtoTB74mPQe+ISsHvkVQB76jNwe+VSAHvk8qB77j8Qa+fioHvl80B76DJAe+RDsHvsQpB74xIwe+F0AHvgYgB759Dwe+hUIHvhhPB76kRge+eyAHvrYgB77rPwe+0D8Hvuw4B76NJge+1jMHvsENB77nNwe+zDgHvk0wB756GAe+3xUHvn9CB76bMAe+Ng0HvrwhB75AJwe+21YHvmgcB77MJAe+/zYHvj4kB74/OQe+ljkHviAxB77IMwe+3j0HvsI9B77VPwe+jScHvnhHB75RTQe+RTsHvnoiB77kOwe+kioHvlYxB776NAe+5R8HvucjB75hEge+vCwHvpsIB765Ewe+ODIHvndMB74zJQe+i0kHvkQRB74PKQe+fFMHvhguB77RRQe+mxYHvvJKB749NAe+5TQHviRNB75nPwe+mTQHvtwyB74COQe+FwwHvuZMB75tKQe+Cz0HvhDxBr6mUge+pSMHvg0sB76LNge+nDkHvmA5B77JMwe+ZksHvqgzB77u/wa+I0sHvvopB744Rge+MiwHvnolB772MQe+eCUHvnUpB77QLAe+PykHvmwhB77qDQe+JysHvlAXB76sIwe+FU0HvtM+B76zOAe+NzMHvoVAB753Vge+vDEHvmcqB77sIge+3CcHvm0YB77dRAe+3DMHvq8dB75dFwe+fD4Hvgw/B77iFQe+PksHvkwfB76oRwe+txoHvncnB756MQe+qVgHvq0xB76IKge+uiEHvi9GB75pLQe+LwMHvhgXB75CJge+akMHvs8PB776Swe+ZRwHvppCB77KOwe+dx8HvsxCB77SLwe+DxgHvmsyB77VJAe+VUIHvoEGB766KQe+uiIHvjI9B75OFAe+Bz8HvqUpB77wLAe+PFEHvn1CB75lNQe+fk8Hvl4yB76aQwe+5kUHvos2B76oFge+PzIHvg00B76VGge+UzwHvsg3B74NTwe+BC0Hvv0oB74KHQe+hC8HvqI3B75fMwe+5woHvuIjB75ZPge+Bj0HvlFAB77XIge+3DQHvo0nB77THwe+aTAHvk8hB75qAQe+QhAHvqo/B74ePwe+4AEHvmRKB753Mwe+c0gHvkhKB769Dwe+ATgHvhVCB76GKQe+QxsHvogeB76mIQe+sVAHvsMtB75zRge+VigHviUlB75bNge+tCMHvp9PB77oOQe+bTgHvu0yB76+Mwe+PukGvlIjB75hHge+bRwHvlwbB74UPQe+jRoHvks5B755Mge+iiQHvhQ2B74kMge+NkgHvqopB75QMge+zE0HvispB75EOwe+XyEHvnwUB77VPQe+SlYHvmwuB77gNwe+ZBkHvlIpB77ENwe+DggHvmFKB74TIQe++ywHviQfB76UFwe+hUwHvlxMB74kOwe+uyAHvmoVB75vPAe+l2QHvgw9B74HNAe+3CIHvgUqB76JNAe+ZS0HvmYyB74ILAe+3CkHvltEB75/PAe+0TEHvkc3B752Gge+ATYHvmZlB75/Oge+6xwHvjghB77oRwe+qjAHvgc9B77LSwe+KycHvlZHB74CNAe+fCMHvrk8B76VPAe+8zsHvqJVB75dGQe+0EcHvsNAB74aPQe+PDgHvtTuBr5yNQe+ICUHvjA3B76ARAe+5i8HvkIvB77dXwe+6hAHvsxFB77BKAe+pS0HvscmB76FMAe+sSUHvr1KB77bMQe+HUEHviUdB77sHge++UkHvjUTB77QRAe+EiwHvjkeB77ZNwe+VyYHvrQvB76RRAe+zGMHvpwlB75JRAe+1igHvhY1B741NQe+5TYHvn4oB76nCQe+xj4HvkcXB77wNQe+xjYHvuM5B74QNAe+xiEHvikiB77rNge+aC8HvsscB743Hge+8DcHvigqB763Hwe+qFIHvoIyB75F/ga+VyUHvqkfB74mNge+wGEHvu4zB74BLwe+bksHvnogB77eMwe+byAHvidFB76QIge++z4HvjknB75qIAe+Ok0HvrUkB75xRAe+rDsHvuo1B763SQe+TkQHvmYkB75RRAe+ohsHvlY6B75yYAe+PyQHvok2B773LQe+LC4HvhQuB77uOQe+2QgHvjorB77oJAe+ZB0HvmMmB76TAwe+pDsHvokfB77PMwe+JiQHvrIdB76qGge+Pj8HvsogB74kEwe+ojgHvm4cB74nIQe+ziEHvooaB74NQAe+NR8HvjRFB76fNAe+CyAHvkZKB745MQe+BiIHvq8rB76eMQe+JDMHvv0YB74OSge+OB8HvtgiB77yQwe+rScHvvJUB753Lge+VzcHvsM9B75JPQe+6j0Hvr9JB77tOQe+oigHvhMTB75hHQe+SicHvno1B740Ige+shsHvv8/B77nGAe+4UUHvio4B74LSQe+ETsHvlpTB76EMwe+bEEHvsI6B74QMwe+XB4Hvns7B74LPAe+dEoHvt4PB767Owe+/kwHvq9LB77pIwe+ijkHvpQSB75wDAe+TUIHvmssB74cQAe+hw0HvhkDB773Kwe+alIHvtYsB771Ewe+yj8HvnccB75UFge+8CgHvugkB76MJwe+lSQHvlMzB76NMAe+Mz8HvntBB76kEQe+yTwHvslUB74bHAe+YTIHvlRLB76kLQe+eyEHvi4uB75jJQe+lTUHvktCB75/OQe+VCYHvs5dB74UNge+7xgHvqRPB758Hwe+NzgHvv0/B74+Nwe+uzEHvm4mB75CSwe+CEsHvmU9B76cLwe+vg0Hvmg8B76uJQe+YSYHvnUWB75GKwe+dB0HvmMqB775JQe+JCoHvlgiB77LOge+PkkHvmYaB74LKge+XSEHvg0fB74rBge+GCQHvs9GB74YHQe+ryYHvvhRB74cJge+jiwHviE+B740JAe+xToHvsdcB75bOwe+nBgHvncVB750Hwe+5UMHvjQqB75wNQe+DDoHvrUtB74KMwe+D0wHvpYnB77cCQe+2iYHviUyB76kOwe+uSAHvugZB75IYAe+dj4HviEvB748IQe+dicHvr4yB77ZQQe+ESQHvmkzB76ZRAe+myIHvp0uB753Mge+wjkHvrofB757OAe+zycHvsFCB75MOwe+2TkHvgAnB75qUwe+jhwHvrUVB77EPQe+dBUHvhg9B75ULwe+uz0HvsolB77rIge+9C0Hvu4mB75mRge+EFIHvj5JB77eKAe+xSIHvgIsB77jMwe+JjQHvg86B75uIge+HyAHvjgwB75zKge+EiIHvgZNB75QDQe+QxIHvvgtB75tFwe+txAHvuhHB75+Twe+G0sHvjlLB74hLAe+mU8Hvls1B77RUAe+Bx8HvhgoB74PLwe+REIHvk4cB76DKQe+4jUHvnQ4B76GGwe+sS4HvlJcB74QZAe+MTQHvvE1B75RLQe+70YHvnAPB76qOAe+hDcHvh0iB77LOwe+fwoHviERB74DQQe+NjMHvvEeB77XMwe+2CMHvmYSB76OIQe+zD4HviFDB75DNwe+IU8Hvso3B751KAe+5A8HvpI4B77CHAe+WSYHvtEuB761GQe+cysHvm/+Br4rDAe++ykHvtorB77FPwe+ZhQHvgAuB77VPge+y/IGvotYB75rEge+7j8HvuJQB74dTAe+6EMHvnkSB75zBge+dS0HvnAuB75rQAe+70gHvnczB76jRwe+0E4HvscuB76cDge+TT8HvnNMB76DGAe+e0cHvs0tB74eKAe+xzoHvgY+B75WPge+ZEYHvg0oB77KGQe+Ok8HvolPB77gQQe+pTUHvhlSB74Q7Aa+Uw8HvicLB76XNAe+BBkHvoclB77IIQe+IzoHvsAiB77VGwe+EDsHvpcwB76LOwe+5jYHvkswB74xSwe+VSMHvrcNB76HEge+0zMHvvMPB76jKAe+4y8HvnkvB77UNwe+1DcHvn0QB74TQwe+tDMHvlg3B77RKAe+DSkHviRIB76qRge+HgkHvhcjB76UMAe+TkIHvg8kB76+Mge+3FMHvioTB76yKQe+EjcHvhIoB74gHge+aA4HvmI4B77aIAe+l0QHvtEyB75iOge+ETAHvmJSB75GKQe+I/EGvg8lB778Dwe+hScHvhRNB74nIQe+I/sGvpNoB77SFge+dCIHvvg6B774TQe+rB4HvuA5B75rQAe+Sx8HvkFMB75gPQe+BwUHvn40B77gIwe+BS8HvsMyB75hRQe+mTcHvoQWB74iPwe+LEwHvgYcB74KJge+RTYHvps0B752QQe+jTQHvnwlB742Kwe+tC4HvtNPB741Dwe+xRYHvtdIB77YPQe+ShIHvl4bB746Pge+2UAHvgsiB76FHQe+wjMHvpEtB74sOwe+OwcHvmZIB74VIQe+lygHvu0wB76mIge+jSsHvsQBB75YGAe+w0cHvgcpB772Kge+BSIHvmg5B74jHwe++EYHvjQyB742Lwe+nEwHvoofB752Pwe+kDAHvkw6B773Pwe+8BMHvv4iB76QJge+bhIHvgM6B773Lwe+SBMHviQfB746Oge+iRYHvgwOB74qAAe+8iUHvnU1B76aHAe+GfQGvq0PB775SAe+qTYHvt41B74KMge+EzAHvpUsB74KNAe+y0IHvhFSB75rLwe+ODoHvjkwB77MGwe+ehUHviU6B74dOge+8xkHvuAdB74iMQe+oDMHvu0SB74SKQe+ZhwHvqYRB77fRge+dCwHvnc7B77pOge+mCEHvqswB778Owe+f10HvvszB77bLAe+YUwHvg8lB77cRAe+ICkHvgw5B773Owe+ohkHvk0wB74kWge+SSUHvrYMB754Owe+/CAHvgBKB77ICwe+z1cHvrU+B74pGQe+lUEHvgZiB76WQwe+3DMHvoMoB77ASAe+hxkHvm4yB75YHge+jEIHvmcrB75rNQe+OiIHvisvB76GNwe+pEQHvtArB76VIwe+xkIHvhAoB74VPAe+GzgHvhIbB74mJge+tUQHvnkuB74DVAe+TjYHvpIpB76UKAe+ET8HvuMyB74RIAe+ozAHvgVIB757EQe+IEAHvjZHB77LMge+C0UHvsgnB769FQe+LC4HvjMsB75GHAe+pyYHvu05B775Uwe+DEUHvrQhB77nLwe+TDoHvmVDB76MPwe++/QGvpAiB76oHQe+vB4HvtgYB76VUwe+CEoHvmlFB76cSge+gS0HvpZLB75dJAe+nhIHvr5AB77PDwe+izEHvl4DB77YEge+pS0HvvM7B77sNAe+DDEHvl8oB76IIge+UyMHvpsyB75DPQe+myoHvolAB770Ewe+RT4HvsElB76sUAe+CUsHvrobB740Ewe+TxsHvuZGB773XAe+1zYHvl81B76+Qwe+njkHvsExB77uHge+fzwHvrkeB74LMQe+DTAHvk4dB77/Nge+HCkHvgAVB74H7ga+SUcHvtIfB74zNge+liUHvhsiB755MAe+800Hvo4bB76YJQe+8S0Hvm0nB76uMwe+JC8HviIfB75ZWwe+UAcHvmg2B75FGge+XRMHvpE4B746OAe+sScHvvARB74rCge+ZT8Hvh0uB77uJge+bD8HvpNGB76UOAe+akkHvuVAB766Fge+XB8HvkAVB75CTQe+2zsHvu0sB76uFAe+uBcHvpQ2B77BKAe+0yMHvikpB76dHAe+cDgHvsZEB74xQAe+PhgHvg42B768LQe+GBoHvrEvB74eJge+wjsHvohJB76OUAe+Zi0Hvq4KB74yFwe+ok0HvqUlB74pLQe+GT8HvoI8B75PJwe+KRYHvrAnB746Hwe+ODcHvqUhB76bRge++BkHvsokB77NSQe+XwkHvmlEB74bNAe+QUMHvhcSB764Owe+Kz4HvhLmBr5lPwe+bSQHvjMaB76gKQe+jCwHvuUoB749Cwe+LCQHvggeB74hOQe+azcHvh5BB75hEQe++UIHvkAmB75gJwe+1jsHvp0jB741Kge+fR0Hvv9QB75QSQe+p0QHvt8WB75ANge+wDMHvk4dB749DQe+KQEHvqM6B75mQge+ozQHvpoqB74bRQe++SgHvnQ3B76ZHQe+wy0HvtseB76T/ga+DxcHvpssB76hSQe+4UUHvuU6B74rUQe+dl0HvqY7B77SUwe+bTgHvjVAB77pFQe+aTQHvrJBB76+RQe+gS8HvpgjB75AIge+xkAHvrQkB76ACQe+0UIHvpcpB753Ige+6j0HvlogB74HOge+LFoHvvcnB76mGAe+SioHvochB759Jge+UTcHvjMxB77VKwe+PiMHvq0rB76OQQe+CCMHvu0pB76mNQe+QzAHvmEnB74bUwe+PxkHvmdLB76IGge+VkIHvlVqB74uMAe+/D8Hvq03B74INge+YkoHvvRDB75mUge+0jsHvnYSB76dKQe+kkQHvuk7B77VHge+JjYHvpkmB762Dge+bycHvioRB75TNge+OwoHvlpCB74qQQe+bhUHvoMSB76xKAe+cBwHvp8qB75BRAe+5QoHvhghB74FIwe+pysHvllCB751Mwe+iTUHvsopB74ERQe+TiMHvvoQB74//ga+/ewGvgw8B741Oge+oiYHvns8B75hJge+TAMHvuY4B74dMge+2kkHvkxLB77aKQe++CYHvnFLB767Ege+JEQHvtBTB74NLQe+jy0HviM+B74NLAe+oBwHvj0TB75rIwe+wBYHvtQaB75gKwe+4SQHvsoXB76QFQe+Cz4HviofB77fUAe+FUEHvh8qB77lMAe+tDsHvmpKB77hLQe+aiQHvlklB77PNQe+kR4HvlcrB74bMwe+2CgHvhgjB77tHge+6vwGvqckB74tUAe+KycHvn1AB746OQe+MiAHviZKB75EPge+QwcHvlQYB774LAe+lSMHvqI/B760Hwe+6B8Hvi4vB74eGQe+tjgHvvdjB76BRQe+Yv4Gvs8OB779Pwe+Az4HvttCB76PNwe+ohwHvmYSB75NHAe+XjgHvvMpB757KAe+MRsHvkBEB76AFwe+ZE8HvmwcB74BHAe+504HvgA6B77rFAe+1DkHvvsrB77PIAe+IRgHvrlFB74POwe+AEQHviYtB75ESAe+mAUHvrA+B77hLQe+JUIHvl0QB74TJwe+9TYHvksiB75+Owe+fSMHvloqB77dHAe+USgHvpr9Br7cGge+6EYHvgE/B76eMwe+BSAHvuAmB750Vge+NgQHvnc0B77YOge+2/oGvoQFB74qOwe+7xIHvtwkB75bRwe+ZA4Hvuo3B75tCAe+ki0HvuxGB74pHge+qTEHvuEBB76yPwe+S0cHvuctB74dSwe+VBcHviEzB74cLwe+gRMHvotHB76XKAe+eUsHvpgdB75mRAe+dQkHvmc3B76xRQe+/UMHvhg9B75OLQe+WjEHvhhCB75DQwe+bxsHvq01B776Nwe+cBwHvpUoB769Lge+BwYHvmlMB75jQQe+F0cHvgJGB75xNwe+Ej8Hvso2B77I9Aa+4R0HvoEeB74ZKwe+biMHvmQrB764LQe+JxUHvmAiB75pIwe+ySsHvqNAB74FMQe+oDkHvqtaB76cFQe+KU4HvnwmB74ROAe+NTEHvmUwB742Ige+dhAHvtgcB75/Mwe+1FAHvjY6B76bPge+BEgHvkMdB74iMQe+hjMHvhpSB74AMwe+NUAHvgIaB775Oge+uS0HvrgkB76+IQe+rPgGvmUqB770Owe+40QHvuJBB75/Rge+sAcHvkUbB753Kwe+RzIHvpgwB76XOQe+ny4HvpIrB75APge+5SUHvt0hB75jPwe+JRoHvqshB764Oge+ZRcHvgD7Br7SMAe+wycHvsJEB76ORge+PhYHvldbB75VTQe+viUHvmUwB757bQe+HycHvqgjB76bLge+WQkHvmU4B76kJwe+Ei8HvgtNB76NLQe+2z0HvlIvB75qOQe+2iEHvqEeB7726Aa+4UEHvkknB75xNAe+SQEHvmE5B74NRAe+RisHvk0/B773JQe+T/0GvphcB75CSge+cxoHvnISB74DJAe+pEAHvjVMB75KGge+zwsHvvArB768Gge+ozUHvhMwB77tRQe++EEHvgg5B75lSAe+tSQHvvpUB75qSge+6iAHvqQyB77HHQe+mBAHvpY9B77jMAe+ZD8HvklCB76HHQe+sEMHvgcuB75DCwe+IC4Hvt8wB767LQe+41QHvg4nB75QLwe+dPEGvsA3B74EJQe+wTMHvlMhB77BGge+aCYHviEjB76sQwe+uFQHvp08B77IPQe+eD8HvvFBB763Lge+LDUHvmEeB749FQe+zxMHvooSB77pJAe+3R0HvgsyB77+MAe+pysHvpcVB76cIAe+TEIHvjBQB76HUge+ODMHvn01B77uLAe+XCsHvj0zB77MIwe+sBwHvqZFB75aJAe+SV8HvgkrB74yNAe+AiEHvlYgB74kMAe+J/8GvjY9B75LPwe+XFEHvvQSB75RLAe+i1wHvuExB75aTge+T00HvpkiB74RZAe+ADQHvhVIB74DNAe+wiEHvnMlB77xIQe+CzsHvkwjB75BQwe+rzsHvgUxB758Twe+tz0HvukKB75dTQe+EwsHvskCB77bPQe+oT4HvncoB74KOAe+thoHvn4lB75FCwe+5xUHvkM0B76ZPwe+5gQHvpk+B76ZEwe+SU4HvqYoB74hGge+BBkHvs84B76vOQe+khwHvlpUB74AJge+jjIHvqspB77KIQe+b0cHvmAgB77EDge+HkEHvo0vB75NQge+QkkHvmEtB76bIAe+SyYHvjYwB75GTwe+xBsHvj0xB747NAe+gjQHvoErB76nNAe+6ioHvhUBB74tVge+hTAHvrpCB77CSAe+9BMHvqAYB74zJQe+7C4HvjgiB74oRwe+UyoHvrYkB77EUwe+ZUQHvu4TB765Nwe+4lEHvvEzB76BUge+B0IHvjNgB77uJge+xzMHvuMbB76ARQe+hEMHvlBPB76UKAe+rh0Hvu9LB75iNge+oiQHviQiB74mOwe+UBYHvnElB74tEAe+vjUHvpEQB74FHQe+zUcHvptBB768IAe+G0sHviM2B77vNAe+bTEHvpdgB77dGQe+qBsHvqkrB750GQe+mC4HvhP2Br6fKAe+AR8Hvno0B77eOAe+DQgHvg01B744Dwe+XzgHvostB76VGge+8TAHvg8YB77mUAe+8yUHvrI2B77CKQe+hy0HvkpFB77UMQe+5SEHvognB77WUge+Z0wHvpw2B74dKQe+iz0HvnH6Br5COQe+floHvicRB76dNAe+fzoHvuRKB75wIQe+thYHvjRAB76nUQe+7FIHvts7B776MAe+4jwHvkw4B76+Cge+E1YHvg5BB76uIQe+mSwHvrEhB77OQwe+cTgHvuksB77tDQe+1kEHvuEoB75fNQe+9R4Hvm03B761MQe+vCIHvoLvBr7GIge+0ikHvlU3B77FNwe+qCUHvoJeB740DAe++RUHvqMZB74wGge+m2oHviclB75SPge+AykHvvsvB748Mge+uS8Hvo8wB75IKge+tkoHvgIbB74oGAe+uBwHvnVPB767UQe+yysHvtlMB755Nge+4PcGvn8vB76X3ga+QSYHvisyB74CQge+SEgHvhhQB76IPwe+hQkHvjYtB76gKge+NiUHvvsKB74jLAe+zkQHvoEtB76bOge+1DQHvpNEB76lHAe+pQ8HvrkhB76ICwe+WPcGvscZB75LOwe+vjsHvkH+Br7xJwe+SEIHvso4B75nEAe+VBwHvmlKB74CEAe+8xgHvrQdB763HAe+n0YHvs4mB77DNAe+uS0HvtM7B76gDge+w0QHvjk1B758Qge+MzYHvqQUB744FAe+3SoHvjBBB76nLwe+QB8HvsgWB773MQe+TAwHvkE5B77FQge+AVUHvoxOB77xJwe+QiUHvjoqB754Pge+c08HvuRJB75WLAe+B+cGvk1BB76eUge+3T8HvtFFB75wHAe+uSkHvq8jB766Lwe+i0gHvr9VB74rGQe+bikHvkfsBr4WPwe+1xMHvvUYB74oSwe+80kHvmozB75gIwe+AEgHvtYaB74xFwe+WjUHvoRDB741Pge+vRgHvnI/B775UQe+ViQHvhQXB75zMAe+EDwHvuwiB75CNge+ZjwHvmI2B741Gwe+ZCEHvv87B74RQwe+cSgHvtALB768Hge+bjUHviEVB765NAe+ljIHvg1BB77YUAe+0RoHvvsZB74NJge+0SoHvtpAB74SMge+wywHvvgXB74eJge+VgsHvmo0B76pKAe+K0MHvhROB77dIge+XSoHvo8aB774Pge+l0IHvrclB74ARQe+y/UGvsswB75mJge+uywHvhs+B773Pge+nioHvpkxB77TNwe+thcHvpAxB77GEge+1jMHvqk7B76uNQe+NDwHviITB768DAe+ERgHvkElB75yGQe+YUMHvqFAB761Swe+xw4HvjMpB74zPge+jCcHvqEfB767Lge+yicHvlMpB76bKQe+fEoHvu1AB75qEwe+Mi0Hvu8hB74OMge+FlAHvoY6B77kLQe+lUsHvsoyB752OAe+7UQHvlE+B77jEge+UhMHvgExB75BOAe++0EHvjw9B76ROAe+zyQHvrY0B74tPAe+vxwHvjY4B74AGge+uyIHvlZBB76NQge+qDYHvv89B76YGge+bhEHvjpNB74aNQe+bjoHvtxVB76zPQe+3TgHvu8oB75rYwe+yiUHvlU+B773Gge+0RUHviMSB76LPAe+9EgHvg05B772Swe+eScHvrUkB77ELQe+IRQHvv5DB75nLQe+BkEHvnMrB765JAe+gUEHviIxB746Ywe+QRkHvj08B77K9wa+CkEHvoQlB75DVwe+nRwHvmsHB760Mwe+/xsHviw7B74KOQe+JFYHvnlaB74hPge+xS0HvlAvB76+Owe+xTQHvkFcB74aIAe+GhkHvhYeB76l/Qa+IAwHvigyB75WSge+xyQHvuBEB77GGwe+9ykHvuUlB744Vge+l0cHvk9NB75wIQe+BzMHviQAB74DKQe+3h4HvoFSB74vQAe+rkkHvg9LB774RAe+RjAHviYtB77sUQe+/iIHvuMeB77MPQe+awcHvoAXB74+MQe+TyAHvvtPB76lJwe+RSUHvk44B75wMge+VkEHvoBFB74gPge+qCwHvqQfB74CRAe+TSkHvmglB75q/ga+I1IHvjgqB771Kwe+k0wHvrU0B76qQge+UEAHvjlDB74qNwe+wRUHvh0vB77FIQe+y14Hvsw6B77OUwe+IScHvuA1B76vPge+sCgHvtoCB779Tge+DjMHvjBQB74fRAe+rkcHvqcuB75JGwe+nCkHvvEuB748Iwe+H0IHvgk8B76ROQe+MDsHvq1LB74rOQe+XwMHvrwcB77lAAe+PTsHvmVDB75bFQe+LjAHvtY7B765Ege+jgoHvhFPB75bQAe+2vQGvq9CB77oNwe+ED4HvlJEB76ADge+DyQHvv1FB769Gwe+KkMHvok1B74FQwe+7igHvoRUB77ANQe+IC4HvjlAB75xOge+PCUHvnMoB77O+wa+fhUHvlxRB77VLAe+yjMHvq41B75oWQe+JTgHvoIWB75P/ga+6kUHvps7B74aRge+rjsHvjkuB77zKwe+0TEHvlxAB77eQwe+R0AHvu4cB74lMQe+tEoHvrggB75wPwe+O0AHvnQQB76iLwe+GCIHvhcZB75BTAe+F+EGvtc9B757PAe+z/8Gvl4eB74dLge+wyQHvlUqB76fOwe+cDoHvgQuB75ZPge+QzsHvrkvB743Lge+E0MHvk5QB76POAe+LPMGvkBRB74CCwe+HiwHvmcJB74EHQe+VSIHvjUKB75vLAe+5TEHvsANB77xGwe+CysHvkpEB75xFwe+y0MHvl4nB74QNQe+1DYHvrpDB74XHwe+y0kHvtYeB76YJAe+xwQHvnlLB74XPQe+FUIHvvRDB77mTAe+EyoHvpE5B74LPge+7RUHvhpKB77tJge+VD0Hvk4jB75RSge+WSoHvschB76cHwe+YhcHvgIfB77h9Aa+wA0HviElB77VVge+mBoHvjk5B742QAe+NyMHvqRPB75MPAe+4EMHvnQUB77mLge+4DQHvvdAB76xOQe+k/8Gvm1EB741Oge+5TAHvho1B77qHQe+U0AHvrMmB76dKQe+g1AHvgU5B74gKAe+izoHvqcqB75bIge+qSUHvuIRB75IOge+MBgHvvYjB76qFge+wVIHvkY/B748Kge+zhYHvl07B758FAe+IUoHvsgyB77oMwe+jzMHvgQ4B76wCAe+eCoHvs47B75HPAe+s0AHvmMlB75aLAe+000HvqYnB74tIge+Ly4HvnIqB74bIAe+IyQHvhc3B769Lge++j8HvlAgB74ZQAe+WUAHvsQiB75YRAe+kzsHvjUNB74yHAe+wC8Hvq8gB76IMAe+JyMHvtwmB74jKge+9i8HvmIjB75gQwe+41IHvmAmB778Pwe+misHvgUyB765SAe+hVoHvm0+B75IKge+hEQHvgRdB76RMge+liIHvnYdB77IOge+rSgHvn41B77MJwe+bh8HvnZJB767JAe+K1wHvqEtB77YFQe+ITwHvi0kB75IUAe+AggHvhhXB758Hge+tiMHviI5B75FMQe+yCYHvpUzB76TPQe+oyIHvsNGB74pRQe+4igHvk4HB776SQe+1DwHvkoQB744PAe+aCUHvqpAB74HGAe+9EcHvtodB762GAe+vyoHvu8pB76UMge+mkAHvhkmB75NMge+NioHvkQpB76gJQe+5DAHvuD/Br6DGge+IywHviIpB77KMwe+oiQHviVHB74EPQe+aB8HvuwwB77ITwe+hjcHvkAWB75UJAe+hEYHvpYlB76DGQe++S8HvhUoB75AIAe+E0AHvno/B771Oge+0zQHvjE3B75HLwe+szQHvmUyB76O/Aa+ziUHvhokB75cSQe+mTIHvrUKB74NMQe+ziwHvuMZB77rPwe++DIHvs02B77pAAe+u0IHvuQNB75HFQe+SjwHvgsaB76xCQe+KToHvslTB744Kwe+uz8HvrYwB75UQwe+pzIHvphfB74tFwe+TBcHvtY5B774QAe+7xgHvp0tB772KQe+SDcHvgU0B771Lge+uz0HvpopB77CLQe+exUHviAtB77GEwe+nToHvgo3B75wQAe+Dh8HvkItB74TKAe+JA0HvooQB74RNge+bCoHvlYiB75FWAe+c0YHvoQmB76cGwe+hTwHvpEIB77WQQe+iBQHvikaB76YKQe+Oj4HvvE7B76cNQe+V1YHvtc3B742EQe+VQgHviggB75uWge+sEIHvm02B75rJge+7kkHvnIgB77eQQe+kyoHvk05B75PJQe+nwsHvtJBB777IAe+Yy0HvjojB77SMAe+vzMHvkEdB74tPge+AT0HvlQ2B76jGwe+qwUHvvZHB77dBQe++vMGvsdEB77uMAe+YEIHvpsrB77iLAe+azYHvow7B75jHAe+/UAHvrdDB74+Gge+sS0HvpocB77bLge+ij0HvpBDB759UAe+zS0HvvkTB75xRQe+yzoHvi47B76HCAe+9gUHvn9UB758CQe+oxgHvv4VB75zLAe+xSQHvtgvB74OLAe+EzgHvs9KB75eQAe+GCEHvkJWB77rMge+/iEHvk4bB75bFwe+BzkHvks4B773LAe+uUkHvipDB74nNge+ZyIHvownB77W+Aa+vToHvqgDB744Nwe+8gQHvulOB74hNQe+GjsHvrErB772NQe+ezsHvpYpB77oNwe+UxwHvrw2B75WPge+WSIHvuEkB76CTwe+djMHvroXB75fWQe+QUAHvvwsB77NLge++0UHvoMsB75sVQe+OUEHvq8xB74bRAe+mBUHvl86B77+PAe+JxMHvkA/B75AKwe+sBoHvjlVB76YIwe+2A8HvhlHB77BQQe++0UHvhtOB77OMAe+rDcHvjEZB76vPQe+xxEHvsdEB77sIQe+tRgHvv8pB76eLQe+oUMHvoYxB76BOwe+UhQHvvsiB76cFwe+Lg8HvgotB756MAe++iMHvgxIB764Twe+R0MHvt4zB742JQe+9jYHvlUeB76fIQe+5h0HvqUNB76IHAe+/DkHvskdB75FHge+sicHvnMBB77SRge+oScHvnEdB75VPwe+pkwHvjE+B76fNQe+YA0HvvssB77kJAe+kzIHvtofB765GAe+CkgHvs4WB743Hge+r0QHvl85B74ANge+uUcHvskWB77SIge+ghUHvpYjB74tPwe+YTUHvpcKB77pFAe+0B4HvmIrB77NHAe+LzgHvt4eB76lLwe+ulkHvmtEB77DBAe+EEYHvlk+B77uHge+qjAHvgg9B77jLge+tiIHvqVAB77EFQe+eS8HvrAgB74qQge+7RQHvrQUB74/FQe+AF4HvqlAB75TAQe+HjYHvtsbB75eKge+eSwHvoFaB77iHwe+qwUHvrIuB77mCQe+W0UHvn9EB741GQe+BVwHvr0jB74nDwe+EDUHvpsiB76iCwe+JToHvq1EB75EUAe+qSIHvpBDB74mQwe+Gz0HvrkxB74wGge+gEsHvqhQB75wLwe+bwwHvnkJB77+Rwe+TBkHvtYNB74WJAe+oDIHvrgwB741Nge+yTkHvgz9Br4yRQe+dRIHvlsVB750Rge+i0QHvvsyB77CQge+DkQHvoIhB76HQQe+NTUHviEpB76UUAe+PCYHvhNIB77+VQe++RQHvkwnB75GQQe+yhkHvqkSB77YPwe+6i4HvhQjB761EAe+OiQHvlNHB76IMwe+XzMHvv0XB76+NQe+eB0HvskcB74nFge+Xj0Hvg5TB76+GAe+Tk4HvpsaB75rMQe+EikHvkkgB77xKAe+aCcHvvwcB77OLQe+mD4HvtcVB749MAe+nRcHvi4hB74FGwe+0iQHvosyB75rKQe+3SIHvmooB76PRwe+GS8HvuFGB76QOge+KUIHvkAjB77RMAe+zgYHvrQhB77NHge+/f4Gvg0zB74a+Qa+EzYHvm1DB75+Lwe+xUAHvm9NB74bMwe+mh0HvkcoB76jMAe+2igHvi0WB77vHge+CDYHvpkoB74bNge+4T0HvnMrB74QLge+GCAHvog9B74tDge+JBIHvuQZB77OWwe+m1EHvlNJB77UHQe+zzcHvptnB74oPAe+EjoHvt0MB74mMQe+ECMHvmLrBr42Nwe+wjsHvlgvB75DFQe+CzEHvlj/Br6fEAe+x1IHvlEuB74mNwe+EyYHvmFBB77iOwe+tCkHvroeB759HAe+ACMHvik/B740JQe+tCkHvqAxB75KRQe+qy4Hvtg6B74yQge+R0AHvusPB76bSAe+/SgHvsIvB74zLQe+QzgHvgo0B74USQe+hTkHvlE8B75rVQe+pDEHvk5GB75aMwe+LxIHvso6B74aGwe+zzkHvvwWB76YGge+NfcGvmItB77vQQe+/jwHvidDB74yPAe+oFsHvkkTB75CQge+XiUHvpJHB74bPQe+yzAHvjo7B76yQAe+/lIHvscTB75dSAe+fjoHvm87B77OIwe+JSEHvkwPB753Hwe+thAHvm00B76UJAe+Ci0HviE+B74OQAe+sDIHvmY/B753Cge+GR4HvugpB76aMwe+yzkHvoNCB75iOwe+fSEHvjAvB75RHwe+00cHvsr3Br4qMwe+uxAHvoVFB75+JQe+iB4HvjddB76cSQe+jyYHvp84B77hPge+vRgHvmj6Br7oQge+GR4HvklBB74PGAe+IRgHvqkoB75fIwe+QiMHviQuB776Zwe+ESsHvtYlB748Bwe+cjkHvhsbB74CHAe+iTAHvpglB758DQe+wzwHvipCB77IFwe+lkwHvrVIB75oDQe+uEEHvlc4B75YIQe+4w8HvqlAB74FKge+7zAHvmchB777Mwe+JDkHvl4/B76tRwe+fkcHvuooB75rEge+KjIHvtc4B749Dwe+gT4HvpY/B77TTQe+DjcHvmgvB76hGwe+JzAHvnUzB77yPge+whoHvo31Br70Sge+jycHvhRJB75gIQe+B0oHvuxQB77xGQe+40AHvjYuB75qQQe+4kIHvkw5B74MPAe+FBoHvug/B75rZQe+FCYHvo4RB75KNQe+6SkHvj0YB77AMAe+NjAHvpQbB772Iwe+ijkHvkI1B76qCAe+vlEHvgccB77OTQe+2yoHvrk7B77POwe+Ph0HvkxgB76FBAe+dlMHvgUQB77VDge+3ikHvi4CB76HKAe+FC8HvpEqB76DOwe+rkQHvlsvB76qQQe+KhAHvn4vB76UQge+Oj8HvlQ+B76KMge+3loHvgtEB77IJAe+4igHvpUJB779GQe+xzgHvlpAB74gKAe+2SMHvjMZB75YSAe+iBUHvlJJB77lSwe+PyoHvjlDB75bLge+Yj8HvlIeB77JKAe+eC0HvjYiB76lHwe+KCIHvkwmB77NOQe+3S0Hvh85B742Jwe+Gk8HvrMwB74qHQe+2yYHvt0vB77WGge+Zx0HvuYMB7535Qa+4yoHvgQoB76QPge+2EUHvp4tB77hOQe+00EHvpERB77FRAe+BDEHvmEQB77SHwe+o0YHvjEtB744OQe+Aj8HvrArB77mKge+WjYHvqRCB76QIge+W0QHvlwxB77OSwe+iQ0HvlkwB76vNAe+ozEHvsQcB74EMge+/0sHvsc+B76gHwe+XFEHvpVCB75zHge+oRAHvj8wB74zHQe+6y0HvtAYB76/Swe+fycHvvogB776Kge+rTwHvk8kB74cJAe+ricHvnsnB74GRQe+MS0HvjAoB74lIge+xCwHvgQoB75QQge+vUcHvhRFB75yIQe+zDcHvsdAB74TGwe+DxYHvgYrB74bJAe+HyQHvo8uB75nRwe+H0QHvsYkB77OSQe+YxMHvsYbB75cOQe+LjcHvogVB76xHwe+/iAHviozB77gLQe+3zYHvqhkB76oMge+qC4HvqUyB75gCge+5fgGvvc9B74lLwe+JEAHvodmB76QDAe+PycHvgAzB74YHwe+VDEHvoQyB77+Pge+uDMHvldRB744Hge+v0QHvuYkB76nMAe+HjcHvhBPB77bOAe+o0IHvs5FB75QQQe+uDgHvroZB742Lwe+rj8HvgZCB74KGAe+1DcHvp9QB77PMAe+/jAHvtAyB77BEQe+lR0HvnE+B76dPwe+10cHvqUqB77SKge+ojAHvi0WB77UPAe+ZDMHvvAmB76/EQe+OywHvhsoB77CNwe++TsHvpAUB76oNwe+IA0Hvs05B75yNwe+rh8HvipKB74sHge+fEgHvrA2B76RPQe+kEMHvkUlB75BQAe+oS4Hvv08B76eNAe+iEUHvq8WB76WMAe+Hi0HviREB762CAe+GVUHvg0+B76sHge+zz4HvvYpB777HQe+UzgHvrIjB77CJge+vFgHvhVDB77APwe+2CQHvvAjB745Rge+OkwHvrsjB74gEwe+lCEHviEmB757Pwe+BysHvhQoB74eHge+hEYHvm8/B74SHAe+AC0HvhUxB741LQe+lC4HvqEiB77SOQe+H/MGvjo3B76zRQe+XiUHvuI7B76jGQe+yRkHvsUwB75cPQe+aDQHvvhMB77YMAe+ZDYHviMJB742Kge+lzgHvqQ6B74dJQe+oTIHvu1DB77OSAe+PggHvqgTB758BQe+5FYHvnIrB768Lwe+/zQHvgQxB75rSQe+sQIHvuk2B77dMge+RDAHvmNCB74FHge+MRkHvj0kB74QRAe+fwAHvksxB74XRQe+ll8Hvuw5B76wSwe+9S4Hvu01B77DKwe+MhgHviQXB76tUAe+jRwHvuQNB77vKwe+0zMHvh8AB77AHQe+6BQHvrj/Br7MMwe+8h4HvuAxB745CAe+/jcHviorB75ZJwe+lU0HvqYsB75QQwe+LSAHvm1MB75GLAe+u00HvoYpB749Qwe+1VwHvkoaB77cRQe+UiwHvnEhB76eOAe+RzEHvogiB74p+wa+bj4Hvs8gB74RTQe+c0QHvvBMB76iNge+7R4Hvm0dB75uRAe+7C0HvjUZB77uKge+TkEHvpI5B74bNwe+vkMHvpo1B769Fge+404HvlZPB74SPAe+azcHvpwrB76TPQe+TkUHvo0ZB76SIwe+9T0HvhYhB74rCwe+4R8HvnBGB76VOQe+1CYHvk46B76/Hwe+tDgHvuw2B75DOge+Mx8HvrRFB76PIQe+GRgHvj41B75MLwe+TVgHvi5JB77QNAe+2SwHvgpEB77kIwe+yCAHvgwIB76aMAe+3T8HvtpYB74iHAe+lB4HvtkQB74+RAe+OlMHvjVLB741Kge+bzAHvlIVB75THAe+xhAHviE2B75JSwe+wigHvutEB74KOAe+tQQHvvMQB763Mge+pBIHvmwxB77B8ga+VjMHvng7B76JHge+aDIHvkTlBr7ZIwe+ViYHvg5MB751Twe+TSIHvvVBB76DNwe+mj0HvqpCB76SXQe+3jsHvvlAB770Jge+eyQHvkBZB76hOAe+/zcHvhgQB76yIge+5DIHvsAeB75WPwe+ay8HvpY4B77SRge+5xgHvpEuB76GQge+vAsHvsQpB77MNAe+7h4Hvr1GB74fIge+ZkQHvtgZB74MOge+LRAHvlpCB74rKwe+GSsHvlw1B77p9Qa+biAHvmomB74GMwe+rkMHvr4tB74zGQe+iSYHvohVB75xRge+oi4Hvn8cB77tOAe+oRoHvk5LB75KOAe+TzkHvkQuB77HQQe+uT0HvhgKB76IQge+dT8Hvks9B77JMge+iiwHvgVNB77FCAe+lEAHvj5LB77aSge+jyQHvsswB75LNQe+QzoHvgYTB76SHQe+Q00HvjUoB743Qge+DkUHvsUnB77RNge+JCsHvkkVB76tLge+rUMHvrwsB74ZHwe+Pz4HvtxNB74sHge+tywHviJOB77SQAe+pEIHviY5B77sMAe+ljgHvg89B77cOwe+vz4HvkMkB761HAe+afoGvhbvBr4CMwe+MBYHvt1MB75sIQe+kCgHvggmB77NOge+EiwHvn5YB77lPwe+SUsHvuA9B774MQe+xg0Hvsg6B74kSQe+XSkHvi5KB76X/wa+MwsHvvUUB747LQe+lVsHvm00B74JQwe+3CEHvosgB76ONAe+bjsHvihdB74lKAe+jkYHvlFCB778Gge+pjIHvjE6B77FIQe+/UMHvk9MB76cQQe+2A4HvnkfB76nRQe+QkUHvuQ9B77pWQe+2ggHvrxCB76SJAe+cuwGvnFkB75fQge+0CAHviwmB74JPge+QBMHvh0IB77LPwe+7zwHvkYjB75WFAe+qkgHviY1B76MCQe+CTsHvnMTB77uFwe+zz0Hvng9B75fHAe+8hIHvuUxB762UQe+5D0HvgYlB74NRwe+pSEHviNBB74bNQe+aCEHvh04B76nKQe+qjMHvjUyB75MNge+6CsHvo1TB77DNwe+J1AHvuECB77UDQe+fjcHvsklB75wOAe+6R4HvmAiB76hRAe+hj0HvvQDB757IQe+6SkHvnk1B744HQe+YUEHvocfB765Jwe+XAsHvi4TB75aJwe+cioHvnsJB75wIAe+qDcHvvc7B75MQwe+YCcHvgtLB75dHAe+gykHvkEQB76cMge+3jAHvkQhB74HNge+FD8HvvAXB76QGge+BxMHvm4WB769GAe+AyoHvi8mB76zVwe+PigHvv8wB74PJge+YS8HvrYkB76mNwe+4jkHvv8yB767Jge+9SkHvusrB77eHwe+aB0HvikqB77XHQe+KUIHvucfB75XLAe+6PQGvvs0B74/JAe+HDkHvnYwB74LJAe+blIHvvRLB75RKwe+/gMHvpg5B754GAe+OioHvpc0B75aPwe+1B8HvtIfB75dEwe+zjgHvvcvB74uOQe+oUEHvuIKB77qSge+piUHvsgsB744JAe+TEAHvtMWB745Lge+9DoHvt4nB74MKge+OhUHvqY/B756Kwe+yi8HvhVTB76uIge+nyYHvqsnB75BJQe+TyYHvh4pB76MJge+2jwHvqgkB77TVQe+hCoHvn5RB75KAAe+0UIHvkkqB75rLQe+0BUHvkxFB74zKge++xgHvp8QB76hDQe+OkMHvmsrB75gDwe++zwHvtJCB77HIge+EiUHvskbB74ULwe+JREHvv4xB77tLwe+BTgHvgEdB75VKQe+HR4HvmUoB76PFge+wTcHvl5BB77xPAe+oh0HvvBGB75xHwe+ADsHvqk3B77lJge+7y0HvoIVB772PAe+NBcHvlg8B76HNQe+Vk0Hvg5EB75LLAe+ih4HvnFZB74jMQe+VSsHvgtUB77eIwe+XEcHvkJDB773Pge+1iYHvosHB75HFQe+oiMHvrUbB75iNQe+TUoHvkwWB76NIwe+6QkHvisNB75ZGAe+ExYHvo4qB75NIAe+9CcHvtc8B74xQAe+yzQHvt80B754GAe+WyIHvmwaB77qOQe+dToHvmxQB775SAe+3TUHvvQoB77dKAe+2CkHvt4nB759EAe++hsHvhYtB75fUge+cysHvhQQB77ESge+pCYHvk87B75RMge+jFIHvt8tB74fMAe+y1QHvg4hB757JQe+3ygHvrANB75IKwe+4lAHvn8XB75uRQe+GEQHvkAOB76zPwe+zlcHvg06B75bVQe+mUUHvjobB77xQAe+kkIHvi5KB75WMge+nfwGvhdEB76fOQe+eEIHvs0qB752Lge+0EYHvnwTB75XXAe+kSwHvmg2B76O7Aa+LD0HvjIgB76nEwe+iwsHvjs9B77RFwe+wCYHvndOB77CWAe+RVIHvm8fB77iMwe+yiQHviAtB759Qge+5SQHvvUvB742Rwe+8CoHvksnB77URwe+XEQHviMfB74SMAe+SS8Hvs1dB77hEAe+fh0Hvp8fB74EOwe+bycHvmMqB76oBQe+LT4Hvk8fB744LQe+gkEHvoEcB74FIAe+yDIHvoQkB77y+Aa+HR4HvvcmB76zLQe+KjUHvmgfB764Fge+2SAHvqsxB76/EQe++CMHvjo8B74NJQe+dTkHvjs/B776HQe+ZWIHviMmB74jLwe+LxgHvsgnB75bTwe+ChUHvms2B75pQwe+qRMHvnQjB75EKAe+Kz8HvhsvB77IMAe+IyoHvu0zB76WNge+lUYHvhE/B77jWwe+ex0HvkhdB76/HQe+QzcHvrYjB75qTQe+BysHvr4bB77dIge+40EHvtsYB76uKAe+GRgHvkwLB75UPAe+TiYHvgQsB77mKAe+3F0HvhRHB772Rge+1CcHvhU1B74WDge+ZC8HvvpGB75dPge+cSUHvpg9B75gMwe+Fk0Hvo00B75eQQe+81MHvhkZB753LQe+/icHvgcUB74xNwe+UjAHvustB749Kwe+5S4HvuZIB75WJge+ujAHvhcTB77jHwe+Ci4HvrsgB75bGQe+ZxwHvkoxB75BEQe+ahIHvoJTB74DNQe+rBEHvlBAB75DEAe+hEQHvo81B75j7Aa++wcHvnYbB77HQwe+ODsHvio/B77CSAe+8x0Hvk5RB75hBAe+ICAHvqo/B75NHge+Zi4Hvt02B77uLQe+2hIHvlo8B75PHAe+Oz8Hvpk5B74hHAe+8TcHviE3B74fGAe+PxcHvuX6Br43Vwe+pUIHvptPB75xHge+zzwHvrolB748EQe+bioHvsI0B76CVge+nyUHvhFSB74oCwe+FzAHvqRFB75lKQe+mkYHvjNAB76JJAe+3CoHvrlWB77FIwe+iyMHvoo5B77XQQe+rTUHvkIaB76nHQe+PjAHvg0vB75dFge+qzUHvuAoB76tMwe+2yQHvqsSB76/XAe+MTsHvqU5B76VQAe+KCYHvrD+Br5YJAe+dTAHvpwmB76OKAe++iwHvoEbB77MGAe+dwYHvgRRB75cKwe+3DYHvlMcB76uMwe+sgEHvoAZB77jMge+aTYHvow5B76UMAe+FUEHvjciB75YHQe+ph0HvhwrB75kIwe+FCkHvjAtB75uGwe++C4HvpwnB75WLQe+XT8HvkFKB77NRge+pA0Hvu4RB74oJge+FSsHvok4B76oPwe+exkHvhBDB77qSwe+CSYHvlMmB77LJwe+wTYHvn08B77tQAe+dScHvrshB75sNwe+4B4HvpQiB77qFwe+6TsHvh4OB762PAe+fxsHvi4lB74cCge+XEUHvsU0B74ZNge+3ycHviwWB74pFge+mUAHvhNIB75vNwe+GDAHvmovB75DbQe+bjQHvk4kB77EKwe+7EsHvs/2Br59Mwe+8ysHvrgPB74PRwe+aD8HvsNJB74AWwe+7kwHvpw3B75pYQe+oBgHvkw9B753Fge+oEsHvugwB76kEge+DxoHvkIeB77jLAe+cxgHvkQfB77KQQe+1Q8HvjkqB76jSwe+6EMHvoI8B75TNAe+zBsHvvIyB74BJwe+BCQHvtQwB75gEge+8yUHvrwuB74TMge+6gEHvvI6B74pOAe+gS4Hvl4yB74yQQe+fBIHvmAyB74GOge+ESEHvlYdB769Kwe+9UMHvkMkB74wKQe+DkoHvswdB76nOge+gicHvuIpB77MVQe+rCYHvoD2Br7rHge+iz0Hvs5FB75VEAe+/A0HvkMWB77bNAe+XUsHvvYaB76AWQe+00kHvoo7B77oJwe+1RYHvl83B74OSQe+PwwHvhMIB76sIge+RhwHvic7B77VOge+tUEHvuM+B76PRAe+lTIHvngxB76yOAe+xCMHvvxAB77gNge+SkYHvvRRB76KIge+wS4HvmEnB77oBge+yRYHvqNMB777Lwe+JD4Hvi8CB74yDge+xCcHvgxAB773Swe+KzgHvukHB76nLge+AjYHvvoWB76FSQe+3VEHvk8VB75+4ga+ElMHvlc3B77KDQe+tDMHvt86B75+HQe+nUIHvsBNB77uRwe+vzAHvoc6B77MVQe+T0AHvkMTB77OLAe+oy4HvgMdB75WMAe+TUwHvg4qB76QEwe+vz8HvhoyB74gQAe+TR4HvjoxB751Rge+DkMHvrYwB756Rge+az4Hvj0bB74HNwe+twwHvuxOB74HMwe+nR8HvqhHB76zPwe+zTwHvsoeB75xNge+PEgHviNKB75dTAe+10MHvuRIB76jOge+lwkHvikuB74FEge+b0oHvlY0B76LLQe+nBcHvsMxB75vLwe+PygHvl8/B76ZLge+SzgHvhhBB75tEAe+/kMHvh1CB76lLQe+akMHvuQwB77TUge+QTUHvgERB76qGwe+OT0HvkFGB75LLge+8jEHviUuB77cNAe+RSsHvmclB74lOge+izAHvgccB77pMge+0k0HvskjB74SFAe+OVcHvuEqB75RGwe+rzAHvsAHB74WLge+EDkHvtEpB769Qge+nTUHvjVCB77aPQe+piEHvs9EB74uGQe+yVMHvolRB757Jge+GycHvhgzB75VNwe+yj4HvpMyB75OPQe+ZzkHvj46B75jOwe+PVQHvrc2B76COAe+3fsGvhE2B76BOge++hwHvqZWB75RPge+/AwHvuwQB74bOge+tC8Hvg5CB77jRAe+hy4HvgEVB74yRge+KCwHvp5NB76KQAe+TTMHvr4UB76AQQe+qBgHvvwpB77nYge+aRYHvo8aB75KGge+Iz8HvpQXB75BFAe+ZksHvmc4B77YHge+wDwHvl82B75HUQe+LEQHvuczB77qJwe+byMHvmk7B75GHge+5jwHvgQsB76UQAe+XxgHvjklB77r9wa+MDAHvmYwB75HOAe+mjIHvgUVB75+Fge+/iQHvnM8B77t/wa+nkMHvpxNB76JHge+eDkHviUlB75sNAe+vzQHvuY/B77jJAe+nBwHviQxB74eRwe+YE4HvrJHB75ENwe+9xoHvokeB75YFQe+wTUHvgNOB77EOwe+hBsHvj83B740UAe+h0gHvvdHB74NHge+sjsHvpA0B77oMwe+uikHvlYeB777RAe+oUQHvmFJB75PNQe+jgwHvsAdB76WOwe+nUoHvmchB77NJAe+vDAHvko4B76nDQe+UzEHvnVbB76ENwe+WEYHvtQuB77DNwe+1EIHvgUrB74QTge+ylEHvh8SB74cHge+BzoHvl0vB76nGQe+O1IHvudCB75uPge+7TAHvsM1B76BJAe+9vQGvlslB77oHwe+GxUHvj0wB743Qge+40YHvvwJB76xSQe+jjsHvt81B77gIQe+zUAHvoBHB76hGAe+EBwHvusYB75BLQe+jDcHvtolB77nDAe+WjEHvqUsB75pJQe+oikHvl1LB74nQge+FCsHvlUjB77RLAe+kVgHvkEXB76tGwe+9RoHvh1lB77OIwe+vRAHvok0B76SPAe+Az4HvskqB76LPge+ME0HvrgwB77cPge+a0EHvqgeB77uCQe+2iUHvpMiB75RMQe+/TYHvr4yB76nGge+MzwHvulLB76IKwe+qxMHvjQlB74wKge+GjYHvok9B75KMAe+5iAHvmUGB76cQwe+xjQHvvw+B75iIAe+djQHvnQdB77MNQe+chcHvpMuB76TMwe+R1EHvhtAB75X/Qa+QD4HviwJB74nOge+CCEHvgsTB749Cwe+GUAHvowiB76YMge+ez0HviE4B745Kge+0hMHvgk0B77xMge+wk0HvrA1B76lLAe+Vi8HvlQaB77dJQe+yfwGvsROB755Sge+0BwHvhIgB77ANge+B0YHvs4+B74QLQe+TTcHvuYiB77SRAe+wTEHvvBWB76iNAe+Y04HvikNB76YUwe+dDgHvhk+B77dXge+01EHvpMuB75XJge+gUgHvj5AB74hJwe+j/gGvvA0B76vUQe+8x0HvjgxB769NQe+bTwHvkBQB77PQwe+fjAHvlE5B75UGQe+jjwHvr//Br7sOQe+SvYGvkIkB74jHge+3D8HvkYlB76WOAe+bkwHvihBB74MMge+UvsGvkcrB75hTQe+1SEHvlY3B779OQe+TTcHvqAfB77eBwe+YxUHvngvB74oJge+jDcHvtkrB75jPQe+wR0HvqgtB75fNQe+oTsHvgwqB74xEwe+zzEHvvlZB74WRge+FSoHvhciB77oOQe+7kIHvroxB743Qge+pzUHvr9AB76ZPAe+tzcHvgMrB76/Rwe+Qh8HvsRLB76rSwe+6xIHvp8XB75CJwe+ikoHvhotB74KEwe+6xsHvrMAB75xOAe+ahQHvthEB74/TAe+Yy0HvkVRB76jFwe+GTIHvtA+B76oZQe+aUMHvm8yB76LQge+R0MHvjMdB75BGQe+w0MHvqs6B75YOge+TzsHvh8pB75sNQe+1DQHvjE/B772Lwe+/RQHvlpBB76oPAe+pzcHvtpBB75uOAe++E0HvsYWB76hNwe+5y8HvkIzB74fBwe+WT8Hvn8xB76aRQe+9xwHvkkpB77VIAe+Gz8HvhgsB744HQe+oysHvjQ6B75hPge+/BsHvoosB75qPAe+cR0HvjwVB75LMge+6FcHvlQ8B767Qge+uUgHvio0B74wRge+XvAGvsEtB74rHwe+fiYHvrUBB76KKQe+OREHvlI6B74qPge+MVQHvhkoB762Nge+PEUHvo8nB77MQAe+vRkHvqIWB74v7Qa+RBMHvt8KB77/XQe+OFMHvv5AB77tMge+mx4Hvlg4B740Uwe+5jYHvuEmB744Rwe+qTYHvkwdB77/NQe+GAkHvrNYB77rKwe+2zEHvr8kB75aJAe+ahQHvohHB74/GAe+qDoHvkMqB76+DQe+XUAHvrgoB75rSge+iioHvs8QB75QCAe+1iUHvqMpB75XEQe+hzwHvjA+B74iUAe+XigHvkROB74TOQe+kCQHvvU0B75PNQe+XyIHvlrxBr5UMAe+bEcHvpUbB74WEQe+hEQHvnU2B77mOAe+XxUHvnkrB76pKAe++TYHvvQxB74URwe+NDMHvtAaB76uMQe+/jYHvuwlB77jKQe+r0MHvmk5B754Jge+GzIHvmtDB74KHwe+FT4HvgJDB74LTAe+kTkHvq4VB77tSge+XxQHvpAXB76sRQe+wicHvrEcB74+HQe+ASoHvp06B742Ewe+zxcHvgUgB774Dwe+8yEHvrI1B775FQe+EzIHvoEDB76qPAe+kzYHvixYB740QQe+axYHvmIlB74mVge+VAMHvtY1B77BSwe+Bz8HvjUYB76cJwe+u9EGvjE5B74nKwe+Nh0HvkNLB74cQwe+aB0Hvhs9B77vLAe+vBIHvssyB76FFge+hwQHvvFRB76bSQe+ck0Hvoo1B77iRAe+lDUHvgpFB77LIAe+bTQHvn45B74BJQe+rywHvmIiB75dMAe+XTsHvtEbB74OEwe+HVoHvoA+B744TAe+lisHvkUZB77wNge+9SUHviA6B77XJwe+uSoHvkQ0B75jRAe+SD4Hvg4pB74rIAe+Ti0Hvs9BB74PLwe+OR4HvloyB76aJge+7TMHvmZDB76GVAe+90kHvotoB74rKwe+6CIHvrokB77GPQe+JjkHvqATB75f/ga+tisHvqgMB77BKwe+bCcHvqxDB77oOAe+uz4Hvuo+B75+BQe+HBoHvj8yB771Pge+gCkHvqRAB75mNge+iEgHvjwaB77yMwe+US4HvgMrB76gJQe+OT8HvlUSB757EAe+20QHvug0B74EPge+4j4Hvl44B76mKwe+eA0Hvm8aB74OUAe+xSwHvv00B776OQe+IiwHvkExB76EJAe+nygHvkZKB75BNAe+MBEHvrc+B765MAe+fSkHvto8B76UKQe+1BYHviomB74rJAe+URAHvmwwB76ySQe+aV8HvjlHB75rRge+yiMHvsQkB756LQe+A0cHvhAXB76EFQe+2j8HvoowB75AJQe+kwUHvuFSB75kRQe+aScHvu9BB76pXAe+LBwHvmc9B74MSwe+2CwHvq4oB76EVge+TEIHvqobB76mRAe+wTgHvlhNB758KAe+cxQHvrITB75PNge+wy8HvgMvB77THQe+ZDsHvhk1B77cGwe+UFEHvrUeB75gKAe+sCgHvulAB77JPwe+QT8HvkQxB76xFwe+IigHvqUjB74vKge+qxsHvh89B76xRAe+jBYHvvgbB76fKAe+DjwHvs1EB76JGwe+1xYHvgoXB749Age+VU8HvnE9B76nFQe+TRgHvoAhB742KQe+WisHvrYJB77sPge+HxYHvpI1B75sNge+nTYHvuoyB77hOAe+6AsHvp9DB75sIge++EAHvtQ9B76hOge+YkoHvj4KB743Swe+qCIHvoZFB74YRAe++z4HvttCB769PQe+oj8HvqoZB761Mwe+kBEHvtA5B75OVge+3lMHvtEfB76hFAe+UCwHvictB76SGQe+pD8HvvgtB76cPQe+Kk8Hvss5B77mFAe+XlcHvmo7B77Q9wa+NQcHvngnB741Swe+M9cGvpc0B77ZLwe+u0UHvm81B76tRQe+BkMHvkI6B76uOwe+xk0HvloxB76tNge+lCwHvm46B74iLQe+tCYHvhA9B76REge+FUYHvqAxB74AUge+eRkHvjczB77bJwe+PCYHvusmB74wDwe+WC4Hvi4hB75WCQe+yDgHvuonB74bNAe+uBwHvg8cB76hFwe+CS8Hvng+B76DJge+IjYHvlYSB75cLge+kPoGvmgMB77mOQe+thMHvtk6B75zFge+DCUHvigkB77HJAe+G0IHvjAsB75+NAe+8iIHvrEwB765Rwe+uxsHvlNLB75LOge+qlEHvk8sB76hIwe+NSoHvjkmB75SKge+uSAHvjhAB76dMAe+OxEHvvshB77oMAe+2DMHvpcWB75eNAe+xSsHvhP5Br6UJAe+2i8HvngpB74OPQe+HE4HvrsnB77hKQe+WDcHvlNJB755Jwe+ZjgHvswZB77SOge+vC8HvhP0Br4yLge+3yUHvugzB77VMQe+wDkHvsU1B76KNQe+PiMHvuAzB766HQe+okAHvopZB77FRQe+7EAHvrgnB76wDwe++lYHvvcYB75kOwe+Bz0HvmEmB773LQe+KTkHvqQ6B77QDAe++i0HvncVB74AGAe+AC4Hvk8gB74bUQe+ZSkHvnYpB761OQe+CzEHvkY7B75FNwe+5lAHvqcgB75qKAe+QhwHvqMyB74QNge+j0cHvg86B76o/Qa+FyIHvp5IB76BIge+ri4Hvi1MB74sNQe+mAkHvt1xB75vVQe+VygHvjQvB74vIge+RDEHvscyB76oJwe+MVMHvixTB77CKAe+21UHvtEvB76hVwe+AjAHvlUqB75YRge+BzcHvl0dB77xSAe+L0QHvr8tB76bLAe+UjkHvoAOB761Jge+bCYHvm0gB75mPQe+wUgHvlEOB77jMAe+zzcHvnVPB75bNAe+hjUHvuo5B76jNAe+QUUHvp41B751Gwe+zxIHvnotB76GUAe+JUEHvmQzB77XLQe+k0AHviZJB77/Nwe+0TMHvms0B75IKAe+nzoHvhA/B75NQge+kg4HvlsVB760Qge+hisHvvBHB754Dge+PTUHvrAYB76cRge+XTMHvsYlB75tGwe+WCMHvoEyB74KJge+eBoHvrn5Br6PHQe+ukgHvss2B763UQe+NUMHvgMWB76mQge+KCYHvj9OB76OGwe+4TwHvj84B768GAe+pCEHvudPB76aMAe+eB4HvpEeB74mFQe+9z0HvmJDB75nSwe+k0sHvgM0B77ENQe+/RgHvm8EB75AOge+7iQHvvgUB77iPge+3ksHvh9MB76DKge+pyMHvrNHB76KHAe+81EHvnxAB77uLge+5kcHvg8bB777Rge+cRIHvs0BB76dNwe+dSIHvvhNB75eVAe+M1YHvo1HB75FTQe+BzUHvqIwB77tEwe+XjEHvipKB74WKQe+nk4HvtMcB768Hwe+YTkHvp8rB773Kwe+RWYHvuMpB77KMge+2B0Hvgw8B77aBwe+djUHvs89B76zTwe+jjAHvgofB77DJge+4zgHvlU8B763Iwe+GjkHvqkyB771MAe+PCwHvg48B75ULQe+x08HvuczB74MKge+4zYHvqslB75yHge+AjEHvthCB76/Mwe+iTQHvv5kB75HOQe+WT8HvlQ7B77ZEge+aUcHvoEjB74sEAe+agUHvkMxB74TDge+gFkHvhpKB74TVwe+vQsHvuAvB75DRge+dzEHvoIbB768LQe+cDkHvoEkB74eFge+ojAHvosIB772Jge+PiIHvgoZB74EJQe+pVIHvpIkB76+PQe+aywHvopWB77+QAe+9kEHvtI2B77AGAe++iMHvtUVB76BJAe+iT8HvrIYB77hRge+2jIHvjgqB74pFQe+JTIHvhgrB77+Pwe+CC8HvjZHB76jJAe+x0QHvucoB74tPwe+ZjgHvhQbB77TQQe+rDkHvkA6B77zGge+NCgHvmQ6B74jLAe+kj0Hvs8gB75yKAe+phUHvqIdB77qGAe+Ej0Hvo0mB77aPAe+Wy0Hvp5AB742PQe+1jEHvklJB77oPge+VCsHvmUWB75YEwe+fjUHvvMxB77DOQe+Hz8HvpUrB76gUQe+iUwHvoY1B76ROge+9CUHvtlCB768Oge+IREHvgc2B74eMAe+QRgHvro4B775MQe+NUEHvgk5B77nDAe+YDcHvjg3B773Gge+si8HvlArB74KJQe+EB4Hvq37Br5sEge+PisHvrQgB74XNQe+xy8HvoAeB77JNwe+cUAHvmc5B77rNge+AT4HvqZHB77MLAe+3UcHvvwKB74CMAe+NiAHvkErB74QNAe+PgMHvqkUB77ELwe+Gh0HvpxGB74LIQe+ugEHvjguB748QQe+eyoHvkcZB75oIge+iBgHvvI+B76ISQe+JBwHviFOB75dLQe+YSYHvjJLB74zQwe+MUgHvh1NB74ROge+xCgHvlYtB74yTQe+hBEHvqkwB75hOwe+yDIHvg06B76jGwe+RSsHvmkuB76tQAe+rBsHvjNHB77TSge+SyoHvno8B76UFAe+uSoHvjwqB75aSwe+R0YHvvY6B76OZQe+8DYHvpsgB770Iwe+hjwHvvgTB74uMQe+mA8HvhwhB75AWAe+9jEHvmwzB771NQe+KUIHvjk1B77JQge+lT8HvlI9B776Twe+CQ8HvsFDB77TOAe+XSEHvu0lB76FUwe+ClEHvixKB752Jwe+MzkHvpFXB76yCAe+D0cHvhksB77qIAe+nVoHvqQdB75yNge+SCgHvqQ0B74SJAe+qj0HvjUyB766GAe+3C4Hvj3kBr7UMwe+5kkHvs0gB75FVQe+zSwHvipDB741Sge+WAcHvi49B742UQe+Ez8HvgYhB76eFAe+6C4HvvM6B76qIQe+2iQHvh8ZB77ZRQe+4DgHvoZPB776LAe+kkEHvpQsB76zLAe+lRYHvsNBB76hOQe+jE4HvolDB76aHwe+GEUHvqpzB74fGge+/wsHvvpCB74QVAe+a0sHvkwuB760MQe+UzMHvj4vB77fIge+SigHvkkuB75XKQe+qU0HvpMsB75CLwe+nTgHvlU2B76dSge+bjYHvhojB77yOAe+yR0HvqE9B743KAe+CUcHvnNPB75QOge+3DYHvgIpB74aLQe+8C4HvkY6B74sNQe++0kHvponB76WUwe+tRgHvpAlB754FAe+QjoHvsUSB75zOge+YhoHvtguB76yMwe+K1UHvrgkB75YMQe+F0QHvlAsB76eIAe+TQkHvu4nB76URwe+pioHvrouB74rQge+3kAHvhtZB76eQge+IkQHvgBKB77+NAe+4ikHvigkB74ZJge+ExgHvuQcB754Kge+pCoHvgUIB773IAe+OCcHvkriBr40IAe+Dj8Hvu4rB77GPge+UFsHvh09B76DSge+AC8HvlMvB74QQge+q1kHvk87B76lEwe+CywHvvAnB765Nwe+EyoHvsNYB77gLwe+3hgHvsImB76ZJAe+VhcHvswqB747MAe+9CsHvgBGB76ZSwe+oyEHvlIZB77NOge+YUMHvkdUB74PMwe+7TsHvnNAB779Hwe+qEAHvksQB77ZNwe+zyQHvo4/B77VKwe+Bj4HvosZB77uSAe+2jYHvpYfB77vKQe+dzUHvj41B74rUAe+UDYHvuJHB77cLwe+rS8HvtYvB756Mge+QjYHvi49B74yKQe+TFQHvvUxB77kIQe+9jkHvukZB76zIwe+kiAHvm0zB75WLAe+/ysHvuhCB74ODQe+LyIHvqI9B75UNQe+uDQHvuAnB74RDge+LEgHvkUxB77QHge+DTUHvupUB74QNAe+NT8HvtIsB77uNge+L1kHvkw4B77kQAe+QQQHvm1CB76aNAe+gFUHvl1FB77TJwe+dyIHvuYUB76fKwe+TTQHvlUkB779KQe+jxsHvmgPB75bMQe+hCcHvnAhB75XGQe+fEwHvp06B74fRge+gj4HvnpqB74mIQe+pV8HviESB75WDge+tUIHvk0+B75bUAe+uQUHvsw8B76TPwe+LlUHvsAvB74GGAe+mxcHvmo4B76LLge+dz0Hvs0jB74EMge+4zUHvmEZB74+PAe+gRwHvjUwB769UQe+FCUHvo75Br5RKAe+LBMHvvwrB74MMQe+qS0HvkI9B77xPwe+Ej8Hvj9BB74uLge+PREHvlo5B75qJwe+Lh8Hvk0hB77rLge+JE4HvjwbB768Gge+WxYHvs1JB76pFwe+sRwHvt4WB77hJge+ITwHvotGB77RMAe+PD8HvvE/B77kGge+B0sHvnskB76oMwe+eBwHvutFB76zJwe+kyQHvlI/B76k9wa+bUQHvmQhB76QNge+kCgHvmUsB74TRQe+njIHvpRDB778Oge+1RYHvpdKB75cMAe+PBsHvnIXB75mLwe+/kEHvoQlB77KJwe+IDgHvog5B77zPAe+Gh4Hvq1JB77HKQe+DCIHvtkZB76cNwe+hwgHvsdHB77TGQe+C1IHvl8bB76aEwe+RCgHvoBBB76HFQe+1jwHvs14B76xQQe+uTYHviUmB74YMAe+GyIHvrQgB76qKge+WTAHvog0B74TOwe+dCgHvok1B75lMwe+skUHvjIwB752Kge+yhoHvi86B74PEwe+kToHvhYYB77APwe+szkHvj4YB756MAe+ihkHvsgsB77aNge+vzgHvnQ5B750LQe+axUHvhIfB75JSQe+xSEHvpVGB74nOge+pyEHvrVHB75sNge+U1AHvlZJB75WQwe+GSwHvqRHB740EAe+SBoHvvkqB76NMAe++/QGvhEiB76lIge+2TwHvhkhB76SHAe+zSQHvj06B75dPwe+uRAHvqxCB74BMge+DhMHvlIlB75NQge+mVgHvloaB770Qwe+61IHvmAgB75xKwe+tBEHvjYXB74TQwe+Y1EHvrk/B76YPwe+8CMHvr4eB77cNQe+Y0QHvmRdB76GIAe+ejcHvnIbB77NMQe+uRgHvvUYB77uLge+gTsHvvMuB74ALge+qTIHvj5QB74bGwe+cUYHviI7B772VQe+5iMHvvwtB76uEwe+TecGviY7B74/JQe+OCYHvjFKB74dRQe+zTAHvns5B76pMwe+Xw8Hvvs/B767GAe+4DYHvlcdB77eMge+EEIHvrg4B74/Mge+FC8HvhNAB77JHQe+ZUMHvi49B77BOge+KicHvrMrB74EKwe+Py4HvukuB76bQge+qiwHvoEmB756Gwe+qlIHvhokB769NAe+ZUEHvj03B74WNwe+xBYHvhkiB75CNAe+A2cHvgEoB77ZJge+BikHvgpAB76yLge+kyUHvoIpB77GPQe+gk4HvgAiB76rDge+vewGvjFBB74IJge+8ycHvno/B77LKwe+SzAHvof0Br78Ige+NRgHvqQ5B76uNQe+QRoHvhw0B761Jwe+0TgHvj0oB74RDge+zjsHvjMlB74uWAe+p0cHvmUoB76XNge+iDQHvhwwB76TPQe+jyYHvvJTB75hIwe+uwwHvnEfB76sSwe+kjIHviA+B75oWAe+iFgHvhMzB76+/ga+QmIHvl48B77gTAe+MC0HvootB75ySQe+tj4HvkcqB77rLQe+HxQHvi4xB74DQge+ezAHvuEcB74CIge+oPsGvhMHB74RRwe+dS4HvnYIB75VVge+Uj4HvpVJB75sHge+rhYHvolFB77BTAe+visHvqUhB76pBQe+RvMGvmEhB74jJwe+a2MHvoUtB76zQwe+4xcHvmcrB75QSAe+3CUHvsQsB75BNge+0woHvg8QB75jBwe+cSMHvmkVB74rRQe+GD8Hvss7B745Rwe+ofsGvp4kB76yLge+EEEHvrAhB75HBQe+df8GvgQ5B755CQe+by8HvjtMB74lLAe+nj8HviJHB75PLwe+8kIHvlw+B77KWAe+AjYHvh4sB75xJQe+yUEHvn4eB77RXQe+OzIHvt8rB76JOQe+fz0HvoNPB77rMge+4EgHvi5qB75uGge+vmcHvr4mB74IJwe+sjYHvo8cB772Fwe+mioHvsBAB76FSAe+ZzMHvmYqB75PQge+lUMHvutPB74JPge+7l0HvnI0B75eOAe+ahoHvsM+B75y/ga+lkwHvo07B74/OQe+nyAHvsRGB76iMge+jEIHvhIdB75TKge+uzMHvnxKB759Bwe+Ti0Hvh4yB76KDQe+RDsHviImB77DRge+MwQHvt8kB77JHQe+6igHvvQSB74QFge+qDwHvtBHB76MXQe+DSMHvsAiB74XBAe+YxcHvnc0B767NQe+jkUHvqUtB75JPAe+kEAHvuUeB77i8Aa+qjcHvoYlB774Age+rC4HvoQ1B77WLge+pTYHvv4vB74MTwe+CC4HvrQ9B77yQge++B0HvtI3B75OMQe+bjQHvjAbB75gaQe+gkcHvsc7B75rMQe+6xsHvp4DB75KRAe+rRwHvmxGB77JRQe+iDAHvnsVB75zGge+7ykHvi0xB76vCge+lTsHvnA7B77KJQe+lwkHvqkCB75vIwe+QSwHvrpNB74KPwe+vwoHvkj7Br6wOwe+YCYHvn8fB74jMwe+D0AHvtIeB74+Qwe+ZjQHvu8QB77PKge+20AHvrFNB76AVQe+AyEHvgE9B75jNAe+5ygHvhQxB74sHAe+EC4HvmAqB76iJAe+CCgHvts0B77wJQe+dz0HvucmB75KNAe+JSgHvuBNB77aHge+cxwHviQdB74+PQe+Ui8HvugeB75OTQe+v0UHvg4hB74HNge+tx4HvmL8Br6BNwe+CR4HvkEkB75KHwe+HDYHvnAgB75fRAe+SiEHvn86B77gUge+sBwHvgE0B77cGAe+2C0HvmxOB74bMge+WCQHvjYoB74UIge+rjUHvnE7B772KQe+oiUHvrQ1B759Oge+8z0HvsnyBr6BJAe+5h4HvlsvB765RAe+uD8Hvm03B76/Gge+HhQHvvz6Br5sKQe+nz8Hvo4pB76jJwe+JA4HviY8B75vIge+xy4HvmFMB75DOge+vxoHvpsoB74HPwe+pSoHvuc6B74uMge+YToHvkUbB76aQwe+pSUHvgZNB74PRAe+lRQHvhxEB77ZIAe+8EIHvqUqB77SVQe+HCAHvnlDB769Sge+0/4Gvm43B77eQwe+tRsHvoAvB75wRge+TkkHvvAtB74SJwe+RTUHvjAjB74pLAe+8EUHvtE8B764Pwe+dBgHvgk7B76dSQe+h2AHvlUEB74fTwe+AzMHvr0oB774OAe+0jAHvlEhB77hJQe+qj4HvtwiB75KGwe+cSgHvs0XB77ZNAe+RiUHvqIsB773Lwe+SEUHvtBaB74NLAe+6zUHvgVbB76bFge+iSgHvvY3B76UJAe+lh8HvlMuB74GTAe+bxQHvqU2B75XLwe+LyMHvs0dB77/LAe+hScHvjFFB77KHQe+3ScHvlMpB76mRge+eSUHvkswB76xKge+VCsHvtMmB75HOwe++zEHvtggB77gHAe+yRIHvtM3B76dNQe+WkMHvg1SB74/Nwe+XiwHvnYxB77EFAe+pS0Hvm0UB77aNwe+Ny4HvlEpB756GAe+wDkHvrAKB77sJge+Z1IHviE/B77eLAe+/z0Hvh4ZB757+ga+xVEHvs4uB767Nwe+Cj4HvvdOB74cCAe+/zoHvookB75oGQe+eCsHviohB74jOwe+Sz8HvvI5B744XAe+cCQHvowVB76NGwe+NEYHvkcIB744CQe+uygHvigtB75WGge+HCcHvjxIB76HJQe+QUwHvtBCB76yOwe+ejYHvjETB74TPwe+BTEHvl0kB77lJge+sEUHvtxAB75rNQe+MDMHvlZRB76lRwe+CEMHvnNBB75DLwe+8ycHvrtRB76GQQe+7zQHvp9MB75oRQe+yUoHvrYgB75JJQe+PzQHvjJKB75zUAe+o0gHvkZGB74sOwe+GDcHvo5PB76rIQe+ZUkHvj4iB76W+Qa+aCoHvoAvB77OPwe+bUUHvhRSB76HLQe++yMHvlVHB75yKAe+qRgHvtwBB77jNwe+kDMHvlgeB759Swe+GRAHvskjB74ZQAe+qjoHvnU3B77EPAe+vS0HvvhAB75CVAe+6DUHvjApB75lRwe+ITgHvqhDB776Iwe+VCgHvnstB76wIge+UjwHvmYYB75DQQe+cjUHvg9DB77EPge+KDUHvuNDB77qLQe+skMHvvlIB76POge+TkAHvggnB74VKAe+pTsHvmUvB75FLQe+JjUHvq0LB75/QAe+rD4HvqwmB760PAe+SjIHvtQcB746DQe+BEYHvskjB75XPQe+Ry8HvpEiB74jMQe+NEEHvs1LB77fKAe+fjYHvqciB76dIQe+pSgHvoUpB74EFge+JUUHvlVGB77kNge+oyUHvvpGB77/HQe+vR0Hvp9GB74HMge+wiYHvtQeB76sFwe+UicHvhc4B77VRge+yTQHvkApB77cPge+CAoHvidBB75MPge+Zi8HvvsgB77PJwe+RSgHvhctB77EHge+USwHvmYjB77SWge+sSsHvllHB76gUge+OzsHvg5RB77LLwe+BEUHvuMeB76+Nwe+SRYHvmxVB761Qge+QzUHvqIzB75fFge+vyQHvhopB74yHAe+yjsHvu4GB75RMwe+/S8Hvv8+B77pVAe+VjYHvr8bB753Lwe+dyQHvjsjB74pMge+EgwHvo5AB773Qwe+NyIHvnZTB76JLwe+JEIHvpE+B743Qwe+khcHvp87B74lKge+nUIHvqAtB74HPAe+XyYHvkg4B74HOge+ExoHvlYmB77UKwe+3x8HvpEWB74iPge+3jIHvjxDB75IFge+wBcHvqJAB77KGwe+qisHvnw/B740RAe+4CIHvuxEB77mGQe+4CEHvogvB74XJAe+wCgHvsoRB77QHAe+eRMHvlkQB77kLQe+6zYHvk04B77VPwe+8RwHvrEuB75kTwe+vSsHvlQrB76QOQe+9jMHvvlFB77vQwe+PSgHvvkNB75VOQe+FTwHvkAjB76hNAe+/D4HvnZDB776RQe+Fy8Hvm8MB77tXge+EDUHvuY/B77PIge+jSMHvoAkB753HQe+QRcHvjwfB74QEAe+ayAHvpRDB74DNAe+oi4HvnAmB75BLwe+cD8Hvig+B75JXQe+a0AHvqwvB77mFge+xCAHviorB75mGge+SSUHvqEgB75iKwe+OR4Hvng4B75dKAe+jDcHvuM1B77S/Aa+kUAHvpNHB75VJwe+4CoHvpItB75rEge+aj4HvmQ9B75aNAe+alMHvhIXB75TLAe+viYHvkMzB772Gwe+OQQHvtcUB74oTwe+MisHvo0ZB75oSAe+DD0HvgL7Br4VOAe+yWAHvgRBB75NMge+uEAHvp0nB76TJwe+jxMHvlIgB75iMQe+myQHvoZMB75dNQe+YzQHvgweB76GOge+yDcHvtIgB77hIge+QlIHvhghB77XKQe+oFIHvlPxBr6cPAe+2CQHvpstB75QIwe+uRkHvkxMB76XGAe+nBoHvoREB75UGAe+O0UHvrE8B77cHAe+gUYHvpFaB74pSwe+kQYHvuHrBr7SIQe+0SgHvjwoB77sEwe+yQ8HvsZGB77QOwe+xDUHvjUcB75oaQe+9xUHvjlLB75DOQe+4DcHvi8QB74tIge+5zsHvnUhB74CPQe+2DYHvj4XB75MKwe+rkcHvhg2B76FUQe+XV8Hvv9UB76vLQe+FAIHvn42B76ZEQe+kg4Hvg47B74EHQe+AUwHvuVEB77zOwe+KDAHvkU5B77jIwe+SD4HvhQ5B76XQQe+EBIHvmsrB77RJwe+C/0GvtA6B74/NAe+0i4HvowtB758Ewe+Bz4HvhYqB77nMwe+rzAHvlIEB75+Ewe+OjQHvuRBB74GKAe+pv0GvlNNB75KDge+IS0HvpolB75yIAe+YRwHvnkoB74aFAe+bCUHvrclB752MAe+mEQHvsIpB740Oge+SykHvgwAB76zNge+zQ8HvrFSB75zYge+IiwHvrA6B77gGAe+eD4Hvr5AB75vBge+GkYHvgk3B76gKwe+NisHvm9FB75hOge+AUsHvpYwB74PGwe+9EQHvhJAB75sIge+wDEHvkIqB757OAe+7TUHvpQ1B74IKQe+60IHvnQjB77xIge+mkoHvlEUB77eVge+MigHvtwgB76NRwe+9y0HvlAkB74MBQe+zUgHvjszB75lRQe+ciYHviM3B75UIwe+r1oHvhw7B750HQe+N1EHvik9B75aNQe+uzgHvukeB77SWwe+Gj8Hvs5GB77ORge+ijQHvjAVB759Nwe+vTwHvuFRB76XQge+fUwHvrYmB74xJge+qEcHvrE+B75fOge+KRwHvlNBB74EDQe+Jh8HviA0B74yPQe+zzIHvuM+B74fNwe+p0cHvpcyB74dUge+GA0HvskxB77VPge+9ioHvoxFB749Jge+mTwHvvEmB76mRwe+oWUHvnoYB74m/wa+40MHvrwrB77wHwe+5DsHviwhB76POAe+MTMHvroaB77wIwe+1ysHvkEeB74wJAe+cSoHvmxBB74cLge+0SkHvt47B748MAe+m0IHvoQcB77BIQe+9k4HvgY4B75aPwe+QUEHvuAXB77oNQe+syUHvqgmB76vNge+VjsHvmcbB775LQe+BEcHvj8bB77lNge+TSoHvhhDB740SAe+lhYHvoRKB772Ege+gw4Hvg0QB74TMAe+KSIHviQlB759+Qa+txsHvrDgBr6k/wa+wCYHvoIxB74bTQe+5TsHvqQsB74TDge+MTIHvsksB74HRQe+oSsHvgkmB74YMwe+XzsHvmEZB75JJwe+zTkHvrIfB775NAe+8jMHvuM3B75TNAe+rkIHvhtEB74GVwe+iUYHvhooB77CQwe+5hAHvgAfB74USge+AxYHvuVJB75pLge+kCQHvqcXB75CWAe+lEkHvnpbB77VTwe+8SQHvvIUB74RGge+FCUHvngMB75ZDge+0BMHvmsqB77eLge+4D0HvhFMB74VLQe+/DUHvsQ2B74kDwe+WkwHvo4pB74NTQe+uyEHvuI4B76yMQe+wSkHvpwoB77/Uwe+wkwHvlM9B76DLAe+HhQHvhcmB76MIwe+7A0Hvp0sB771KAe+nTgHvs1ZB74WMwe++B8Hvnw4B75cHQe+dDIHvr5DB761HAe+MiMHvilSB758VAe+cSAHvq0pB74DJwe+NCoHvhQZB77INge+7jYHvmswB75vOge+6x8Hvs9SB77ONQe+AAAHvqU+B74NHwe+GEEHvvgOB77AHQe+cRoHvlkxB76aWQe+ejkHvmY7B74lJQe+tCYHvrQvB74IKwe+yyIHvt1PB77LJge+JSwHvtbyBr6DLge+EDQHvvkUB77vNQe+RyYHvhshB74rOQe+VTsHvlxPB759Kwe+VigHvtAwB75HJwe++wgHvgtBB76bcAe+ej8Hvj42B76aIAe+zQAHvgg5B77JOAe+8S8HvqAbB744Dge+DV4HvisiB75AFAe+nRIHvv8kB748Nge+TxkHvkMdB752Kwe+pVQHvkIWB76PGQe+NB0HvgEjB76tKwe+yE0HvkEvB77MRQe+YzsHvkouB75sXQe+FD8HvtozB76VIge+/jkHvvMaB75lUwe+dDYHvhcmB75wJAe+wiEHvgsyB74xMQe+WC4Hvs9JB77iMAe+CkAHvvBPB74TBwe+AykHvog8B758Rge+XkAHvvYmB76WOwe+IT8HvgcxB76KMAe+DiUHvoU2B74vGwe+Zi0HvvQsB76tDwe+zjwHvtsDB74fJge+GhwHvrlBB76mMAe+OiMHvrQwB74RCwe+XRUHvuBcB750Dge+1EIHvlb/Br5CQge+5DgHvnshB76NCQe+VTkHvmI5B77EEwe+ACcHvt8pB76cMQe+pi4Hvj49B76PLge+OjkHvpUNB76FEge+p1AHvv0wB77rMAe+ijQHvj0JB74UJQe+OCIHvuYqB74CQQe+QUMHvqBJB759Nge+J0MHvl9CB75WKwe+yFEHvn9IB76cOwe+VjYHvkIoB77kJQe+5jMHvl0sB74bOge+pxkHvshPB77CDwe+4xkHviQmB77rIQe+jCQHvnQsB74sTwe+9UkHvmg3B74+Nwe+biEHvmdaB74uSwe+lRYHvpsiB74FNAe+xEUHvqksB77mNge+NDMHvlbwBr6/Ige+0DEHvqcgB77NEQe+OCwHvkkiB75eLAe+qEAHvrRGB75OQQe+9h8HvvQ9B76NHAe+ZzAHvk4pB75hCAe+HygHvg9HB76/Nge+IlQHvqkiB74CKge+ESYHvk9BB767CQe+rUoHvhtFB77aHge+GkQHvhRCB75LPwe+pkgHvnswB75NOAe+XCgHvkwlB74HLwe+mxcHvi5iB76+KQe+B/wGvsEyB76wBwe+2jEHvjAmB757VAe+0UAHvqw2B77GJAe+ezgHvrM4B77BQge+aycHvjRAB77RMwe+hyoHvuP7Br5uHwe+Vi4HvsQhB76/EAe+EEEHvq8uB76EMAe+8UgHvrM2B740QAe+skMHvsgLB767RQe+AjIHvu4/B76fHge+RgwHvv0kB752Pwe+6jsHvlA+B77yXwe+phsHvkMTB76AFge+F0IHvg4aB75ZGge+gS0HvlMqB75tQQe+pksHvspOB76OMge+dkAHviRHB74rQge+gD4Hvho9B76dOAe+AiYHvpkXB74DSAe+nz4HvjsgB77CJAe+6TsHvtRTB75BHge+wxoHvkMaB76nKwe+/TYHvndXB77+Fge+VBsHvlIfB76dPAe+qCAHvqcoB75rFAe+LjUHvro7B74oUAe+NEkHvoMqB743DQe+YUYHvroqB75BNQe+DxgHviVJB76/UQe+uRsHvn4mB773TAe+cRAHvsAgB76WJge+3wQHvl05B75kPge+/zsHvoY6B77OPAe+ZTgHvugoB77PTAe+oDIHvoElB77+Kwe+XVgHvtk1B757MAe+ACkHvpAnB77/Mge+OCQHvqQgB769Gge+6jEHvicnB74TMAe+gC4HvppUB76fPge+YAsHviJMB74ZOwe+UDwHvm44B77kQge+zlkHvglCB74LKge+zDQHvoQZB75FRwe+DU0Hvjw5B77iPwe+n0AHvkcbB773DAe+G1EHvjNWB74OPQe+li0HvlE6B75TLge+cTYHvvgoB74Y/wa+3EoHvjowB763Kge+ND0HvmJMB74uRge+Wh0HvlocB75sHAe+8FEHvrdKB75USQe+cV0HvhdDB773IAe+xSsHviQwB767MAe+giAHvmM2B77/PAe+tB0HvjIhB755Jge+bz0HvrQrB74AMQe+wj4Hvs4lB75EJge+JDcHvptMB77fKwe+ZT8HvjccB74HRAe+bEkHvpFHB762Twe+lSQHvpQfB75PUge+cP8GvjYeB741IAe+wM4GvglOB76eRQe+2g0Hvok3B747Oge+9SkHvpAdB77FWwe+gxIHvpctB75BTge+RRsHvj4BB752NQe+y0MHvkMiB77QMge+6zcHvqo1B775OAe+OVMHvoIzB74AOQe+/CgHvs5MB75yNAe+PE0Hvig7B77W7Aa+gSQHvg4SB74ROge+uEEHvsESB77zJge+phMHvo5WB75kOQe+1S4HvqUcB765JQe+VEMHvlRLB74IKAe+GTQHvvwtB75gMQe+yyQHvjE3B76gQge+Xj4HvrpFB768QQe+gC4HvrkmB76FHge+XzQHvv0qB75qFge+dFUHvmYwB758FAe+9zIHvkUEB75pPAe+LyMHvhgZB75WNQe+dTUHvls/B76mLQe+yhQHvooaB77/Lwe+qjgHvjdWB777Ige+Xh0Hviw2B756Owe+wTAHvpQHB75rLQe+4jYHvlI2B77yLwe+VC8HvkglB76wKwe+CEsHvoYIB77LRwe+8h4Hvp1EB74zSQe+UTIHvgpKB77aEAe+6zMHvq8aB779Swe+fOwGvpIzB74hPwe+GhUHvqxJB75ALAe+ZiMHviUwB77DLAe+iFAHvj83B74ISwe+3CwHvntPB75+VAe+3S8HvtgoB74LBwe+myoHvmk1B752RAe+8jIHvis7B77WMwe+5R4Hvv0eB758Owe+FDkHvhkmB771MAe+wBAHvkwLB74TPge+Kh0HvhMfB759Fge+LE4Hvho6B74yUAe+yS4HvkEzB77HCge+ASsHvpcXB77cUQe+KPUGvthAB76dEge+Zi8Hvn80B75FIge+KC8HvmA0B74DJQe+YRIHvgQzB76+UAe+ilwHvrVAB779QQe+RjgHvuE2B75bKQe+JUgHvo48B75WKQe+rgEHvuw7B74sRge+KEoHvrfpBr5/GAe+GTEHviggB76HNAe+RTYHvscqB74dJwe+vRkHvnYkB75fRQe+F0cHvm5HB743Gwe+BDgHvuo6B743Qwe+STAHviExB75WIQe+vyQHvuwhB75cOge+viAHvpgQB76UFAe+hCUHvo4sB740Mge+YxwHvjtEB77rOwe+CgEHvus8B77lIge+by0HvqNOB75WMQe+BC4HvjY6B75cJQe+DiYHvm8oB744IQe+30QHvsYSB74wIAe+6D0HvkY7B76BMAe+LRMHvkRLB74rKQe+kxUHvow7B77CHAe+wTwHvmYtB75CIge+Ny8Hvq8XB755Kwe+KyAHvnAzB753LQe+nikHvicnB758Nge+NiIHvsAbB764Hge+tzYHvtwoB74BDge+qC4HvjAiB76RQAe+HzcHvgMWB74kSQe+3S0HvppFB75cTAe+yy4HvjAgB77LGge+qDUHvik5B75qQQe+3lcHvpMcB776Pwe+xBQHvooqB74GTwe+GzMHvpUmB77oPwe+LDEHvsksB74MGge+hDcHvjIqB75TTAe+3SAHvq8ZB77OIAe+90cHvipDB75ZBwe+wgcHvlEdB778GQe+dSoHvt8oB74cJQe+ACsHvikOB77BMge+2BYHvkMjB76LHge+J08HvhQUB763PQe+PkEHvosmB753IAe+CTcHvtk1B74RQAe+AzgHvthJB76LQge+ZU8Hvog6B76MFge+MVEHvkYnB75rKwe+QkcHvhAiB765Kwe+3T4HvgcwB74pHAe+3EYHvkgeB75fLAe+zBcHvoUxB77TSAe+G08HvgNFB74fRQe+tg4HvvUfB75WKQe+chUHvlMvB76eVge+QhAHvsgsB748JAe+HyUHvoMvB74VHwe+1zoHvkgiB76iJQe+YhIHvk47B75VXwe+YEUHvvFHB74iQAe+6x4HvgE0B77FLAe+fS0Hvg4FB76ZQwe+1ToHvqIqB755Qge+9iMHvtAsB77nRAe+nh0HvmYdB75aUQe+gzQHvlFCB755Ewe+OwcHvs0lB74rMge+JiEHvo8zB76UOwe+nkkHvsVDB77KHAe+mBUHvq86B77iKQe+8zsHvjIvB75ZGQe+LCYHvqgXB77MQge+sj4HvpwMB75mSAe+XjUHvqFCB74rOwe+rAkHvqg0B74fJwe+sTQHvkgPB756NQe+ijoHvkZNB77hMge+QwgHvkIUB75uJAe+FRkHvq48B77hJAe+nh8Hvnc/B76nOwe+XgsHvlw+B74QGge+RBwHvl82B75RLAe+VjIHvtJOB77OUwe+zCkHvgFKB75cTwe+9C4HvuIgB74dMQe+SEcHvpcZB74BSwe+5xYHvl1mB76XOAe+oT0HvtEhB77sPAe+YDAHvhsZB75AUwe+ujcHvrocB75IPQe+MDcHvmg8B759Lwe+M0gHvsw+B75PMQe+/iwHvioqB74BSQe+Jj8HviwjB75fSwe+iTcHvrYbB76SDQe+CSAHvlE+B778GQe+DWkHvno1B76cFge+XRsHvl0qB74ZFwe+aCYHvrE2B77cSwe+Tz0Hvlo0B77rRwe+PCAHvhPvBr74Uwe+ejsHvtEuB758Hwe+sDYHvlk2B74AEQe+3SAHvpZAB75bFwe+NjcHvpM5B76FJQe+ThYHvuMeB76ZKQe+6QoHvis/B77BFge+IkIHvqNEB74mEge+xSkHvtZGB76tPAe+CUgHvpYZB75+Kge+yzMHvkghB74K+wa+TEgHvpQ0B76aNAe+QyUHvt49B76bQwe+SxIHvq9HB75iLge+7yAHvu1CB74DIge+V1gHvsAlB76XEAe+kyoHvm86B76nNwe+vv8GvnY2B75nQAe+XjYHvkgxB75nLge+YjcHvk9UB75sIge+rDwHvqtEB74GHAe+ZkwHvoMzB77HRQe+GEIHvng6B75WGwe+ciEHvndDB76rGQe+rzwHvmYeB74BSQe+PRoHvoU5B76hTAe+vSQHviooB75a8ga+fzUHvrMkB76sOAe+SSoHvvIwB74pQwe+mRYHvtkdB77SMwe+6C0Hvn9FB767NQe+eCsHvjQgB76pKwe+KUIHvoE3B75kIwe+YzsHvkBAB75pOAe+u0EHvhUuB76WHQe+tjMHviT7Br7aDwe+tDQHvv9KB75SOge+VzwHvpMyB77QKQe+KTYHvr8TB77EQQe+BiQHvqBBB771Gwe+FwwHvtRAB76pIQe+3hwHvotQB74XRAe+rioHvsDcBr4rSge+VRwHvns5B77BFwe+/iIHvsIiB77/PQe+KD0HvmYXB75H8wa+ZToHvgQ4B74tWAe++zAHvs8uB76OQge+5RoHvsQVB74+LQe+wVgHvpkTB74ILQe+xjwHvrdPB74hNge+jTIHvhpQB74jTAe+2jAHvqg1B74vRQe+q0cHvjg8B74qVQe+jkUHvlAfB77AOwe+jk0HvrcbB75REwe+z1QHvsQ1B742Nwe+pyMHvjVYB74kLwe+bjcHviI0B76JDge+biMHvn8MB76iDQe+sSwHvg8eB74sNge+gCEHvvUQB74oKwe+3DsHvtw2B75LMge+0DgHvoAXB76u/ga+K08HvkgwB75dPge+PgAHvuZPB74iJQe+NDUHvkMoB754Gwe+bR4HviACB75mOwe+pjIHvtYuB77rQge+mkcHvkoQB74SHQe+eEQHvrk/B77WBQe+ZxQHvoU6B75hLQe+CTIHvi0sB75NLQe++zsHvtAhB74PUQe+mTwHvuxCB75OTQe+zzMHvrNTB75xTge+SDYHvscgB74rLQe+3CMHvgkiB74mRge+MRcHvuzsBr7lQwe+7zkHvvgjB742Nwe+jgoHvjxGB76cPge+iDoHvg8tB74pOwe++y8HvsotB75CQge+skMHvkBaB75dMge+OVMHvtY2B767Hwe+RjcHvoIPB77XQQe+uyUHvscgB749KAe+iEgHvo4fB741Rge+4DcHvm0ZB76bKge+j1MHvopXB75JLge+bxgHvu0vB762HAe+fkcHvgYlB74JKwe+8zAHvlcnB76/Hwe+oSEHvtEpB76SRwe+DxwHvtciB75kOQe+/D4Hvs9BB77tSge+4SYHvrVGB74xOge+picHvr42B77+OQe+GygHvqExB76dKAe+KwoHviRKB76xLQe+ix8Hvv40B76dJQe+ZSoHvtU3B741IAe+dy0HvvcpB76VNQe+eQkHvqs1B740Qge+ozAHvns/B76lMge+AikHvuNNB77J+Qa+hBwHvqopB75wQge+rQoHvn1HB748Lwe+cRIHvjc6B77pQwe+yzUHvmRJB76aNQe+WEkHvixMB77mQAe+ki0Hvm9WB76ZBwe+cUEHvmArB75MKwe+uCIHvgAZB74rIAe+eyQHvgUsB770TQe+BEgHvvJBB74ARAe+nhIHvnQwB77yOAe+/zsHvqcvB74TQge+yh0Hvt5GB77lOge+YkgHvnUVB75NWQe+dkwHvqIeB76OSwe+LykHvsg7B74rMwe+FmAHvgwaB76eDQe+ETkHvhg/B751LAe+ZxwHvmIkB761LQe+OxEHvkA0B75yFAe+JTAHvhxSB759Owe+VP8GvuYJB754KAe+bFIHvtJCB75qCge+uQUHvg==",
          "dtype": "f4"
         }
        }
       ],
       "layout": {
        "height": 768,
        "legend": {
         "tracegroupgap": 0
        },
        "margin": {
         "t": 60
        },
        "scene": {
         "aspectmode": "cube",
         "domain": {
          "x": [
           0,
           1
          ],
          "y": [
           0,
           1
          ]
         },
         "xaxis": {
          "range": [
           -0.0353444442152977,
           -0.03462520241737366
          ],
          "title": {
           "text": "x"
          }
         },
         "yaxis": {
          "range": [
           0.11026126146316528,
           0.11098051071166992
          ],
          "title": {
           "text": "y"
          }
         },
         "zaxis": {
          "range": [
           -0.13233202695846558,
           -0.13161277770996094
          ],
          "title": {
           "text": "z"
          }
         }
        },
        "template": {
         "data": {
          "bar": [
           {
            "error_x": {
             "color": "#2a3f5f"
            },
            "error_y": {
             "color": "#2a3f5f"
            },
            "marker": {
             "line": {
              "color": "#E5ECF6",
              "width": 0.5
             },
             "pattern": {
              "fillmode": "overlay",
              "size": 10,
              "solidity": 0.2
             }
            },
            "type": "bar"
           }
          ],
          "barpolar": [
           {
            "marker": {
             "line": {
              "color": "#E5ECF6",
              "width": 0.5
             },
             "pattern": {
              "fillmode": "overlay",
              "size": 10,
              "solidity": 0.2
             }
            },
            "type": "barpolar"
           }
          ],
          "carpet": [
           {
            "aaxis": {
             "endlinecolor": "#2a3f5f",
             "gridcolor": "white",
             "linecolor": "white",
             "minorgridcolor": "white",
             "startlinecolor": "#2a3f5f"
            },
            "baxis": {
             "endlinecolor": "#2a3f5f",
             "gridcolor": "white",
             "linecolor": "white",
             "minorgridcolor": "white",
             "startlinecolor": "#2a3f5f"
            },
            "type": "carpet"
           }
          ],
          "choropleth": [
           {
            "colorbar": {
             "outlinewidth": 0,
             "ticks": ""
            },
            "type": "choropleth"
           }
          ],
          "contour": [
           {
            "colorbar": {
             "outlinewidth": 0,
             "ticks": ""
            },
            "colorscale": [
             [
              0,
              "#0d0887"
             ],
             [
              0.1111111111111111,
              "#46039f"
             ],
             [
              0.2222222222222222,
              "#7201a8"
             ],
             [
              0.3333333333333333,
              "#9c179e"
             ],
             [
              0.4444444444444444,
              "#bd3786"
             ],
             [
              0.5555555555555556,
              "#d8576b"
             ],
             [
              0.6666666666666666,
              "#ed7953"
             ],
             [
              0.7777777777777778,
              "#fb9f3a"
             ],
             [
              0.8888888888888888,
              "#fdca26"
             ],
             [
              1,
              "#f0f921"
             ]
            ],
            "type": "contour"
           }
          ],
          "contourcarpet": [
           {
            "colorbar": {
             "outlinewidth": 0,
             "ticks": ""
            },
            "type": "contourcarpet"
           }
          ],
          "heatmap": [
           {
            "colorbar": {
             "outlinewidth": 0,
             "ticks": ""
            },
            "colorscale": [
             [
              0,
              "#0d0887"
             ],
             [
              0.1111111111111111,
              "#46039f"
             ],
             [
              0.2222222222222222,
              "#7201a8"
             ],
             [
              0.3333333333333333,
              "#9c179e"
             ],
             [
              0.4444444444444444,
              "#bd3786"
             ],
             [
              0.5555555555555556,
              "#d8576b"
             ],
             [
              0.6666666666666666,
              "#ed7953"
             ],
             [
              0.7777777777777778,
              "#fb9f3a"
             ],
             [
              0.8888888888888888,
              "#fdca26"
             ],
             [
              1,
              "#f0f921"
             ]
            ],
            "type": "heatmap"
           }
          ],
          "histogram": [
           {
            "marker": {
             "pattern": {
              "fillmode": "overlay",
              "size": 10,
              "solidity": 0.2
             }
            },
            "type": "histogram"
           }
          ],
          "histogram2d": [
           {
            "colorbar": {
             "outlinewidth": 0,
             "ticks": ""
            },
            "colorscale": [
             [
              0,
              "#0d0887"
             ],
             [
              0.1111111111111111,
              "#46039f"
             ],
             [
              0.2222222222222222,
              "#7201a8"
             ],
             [
              0.3333333333333333,
              "#9c179e"
             ],
             [
              0.4444444444444444,
              "#bd3786"
             ],
             [
              0.5555555555555556,
              "#d8576b"
             ],
             [
              0.6666666666666666,
              "#ed7953"
             ],
             [
              0.7777777777777778,
              "#fb9f3a"
             ],
             [
              0.8888888888888888,
              "#fdca26"
             ],
             [
              1,
              "#f0f921"
             ]
            ],
            "type": "histogram2d"
           }
          ],
          "histogram2dcontour": [
           {
            "colorbar": {
             "outlinewidth": 0,
             "ticks": ""
            },
            "colorscale": [
             [
              0,
              "#0d0887"
             ],
             [
              0.1111111111111111,
              "#46039f"
             ],
             [
              0.2222222222222222,
              "#7201a8"
             ],
             [
              0.3333333333333333,
              "#9c179e"
             ],
             [
              0.4444444444444444,
              "#bd3786"
             ],
             [
              0.5555555555555556,
              "#d8576b"
             ],
             [
              0.6666666666666666,
              "#ed7953"
             ],
             [
              0.7777777777777778,
              "#fb9f3a"
             ],
             [
              0.8888888888888888,
              "#fdca26"
             ],
             [
              1,
              "#f0f921"
             ]
            ],
            "type": "histogram2dcontour"
           }
          ],
          "mesh3d": [
           {
            "colorbar": {
             "outlinewidth": 0,
             "ticks": ""
            },
            "type": "mesh3d"
           }
          ],
          "parcoords": [
           {
            "line": {
             "colorbar": {
              "outlinewidth": 0,
              "ticks": ""
             }
            },
            "type": "parcoords"
           }
          ],
          "pie": [
           {
            "automargin": true,
            "type": "pie"
           }
          ],
          "scatter": [
           {
            "fillpattern": {
             "fillmode": "overlay",
             "size": 10,
             "solidity": 0.2
            },
            "type": "scatter"
           }
          ],
          "scatter3d": [
           {
            "line": {
             "colorbar": {
              "outlinewidth": 0,
              "ticks": ""
             }
            },
            "marker": {
             "colorbar": {
              "outlinewidth": 0,
              "ticks": ""
             }
            },
            "type": "scatter3d"
           }
          ],
          "scattercarpet": [
           {
            "marker": {
             "colorbar": {
              "outlinewidth": 0,
              "ticks": ""
             }
            },
            "type": "scattercarpet"
           }
          ],
          "scattergeo": [
           {
            "marker": {
             "colorbar": {
              "outlinewidth": 0,
              "ticks": ""
             }
            },
            "type": "scattergeo"
           }
          ],
          "scattergl": [
           {
            "marker": {
             "colorbar": {
              "outlinewidth": 0,
              "ticks": ""
             }
            },
            "type": "scattergl"
           }
          ],
          "scattermap": [
           {
            "marker": {
             "colorbar": {
              "outlinewidth": 0,
              "ticks": ""
             }
            },
            "type": "scattermap"
           }
          ],
          "scattermapbox": [
           {
            "marker": {
             "colorbar": {
              "outlinewidth": 0,
              "ticks": ""
             }
            },
            "type": "scattermapbox"
           }
          ],
          "scatterpolar": [
           {
            "marker": {
             "colorbar": {
              "outlinewidth": 0,
              "ticks": ""
             }
            },
            "type": "scatterpolar"
           }
          ],
          "scatterpolargl": [
           {
            "marker": {
             "colorbar": {
              "outlinewidth": 0,
              "ticks": ""
             }
            },
            "type": "scatterpolargl"
           }
          ],
          "scatterternary": [
           {
            "marker": {
             "colorbar": {
              "outlinewidth": 0,
              "ticks": ""
             }
            },
            "type": "scatterternary"
           }
          ],
          "surface": [
           {
            "colorbar": {
             "outlinewidth": 0,
             "ticks": ""
            },
            "colorscale": [
             [
              0,
              "#0d0887"
             ],
             [
              0.1111111111111111,
              "#46039f"
             ],
             [
              0.2222222222222222,
              "#7201a8"
             ],
             [
              0.3333333333333333,
              "#9c179e"
             ],
             [
              0.4444444444444444,
              "#bd3786"
             ],
             [
              0.5555555555555556,
              "#d8576b"
             ],
             [
              0.6666666666666666,
              "#ed7953"
             ],
             [
              0.7777777777777778,
              "#fb9f3a"
             ],
             [
              0.8888888888888888,
              "#fdca26"
             ],
             [
              1,
              "#f0f921"
             ]
            ],
            "type": "surface"
           }
          ],
          "table": [
           {
            "cells": {
             "fill": {
              "color": "#EBF0F8"
             },
             "line": {
              "color": "white"
             }
            },
            "header": {
             "fill": {
              "color": "#C8D4E3"
             },
             "line": {
              "color": "white"
             }
            },
            "type": "table"
           }
          ]
         },
         "layout": {
          "annotationdefaults": {
           "arrowcolor": "#2a3f5f",
           "arrowhead": 0,
           "arrowwidth": 1
          },
          "autotypenumbers": "strict",
          "coloraxis": {
           "colorbar": {
            "outlinewidth": 0,
            "ticks": ""
           }
          },
          "colorscale": {
           "diverging": [
            [
             0,
             "#8e0152"
            ],
            [
             0.1,
             "#c51b7d"
            ],
            [
             0.2,
             "#de77ae"
            ],
            [
             0.3,
             "#f1b6da"
            ],
            [
             0.4,
             "#fde0ef"
            ],
            [
             0.5,
             "#f7f7f7"
            ],
            [
             0.6,
             "#e6f5d0"
            ],
            [
             0.7,
             "#b8e186"
            ],
            [
             0.8,
             "#7fbc41"
            ],
            [
             0.9,
             "#4d9221"
            ],
            [
             1,
             "#276419"
            ]
           ],
           "sequential": [
            [
             0,
             "#0d0887"
            ],
            [
             0.1111111111111111,
             "#46039f"
            ],
            [
             0.2222222222222222,
             "#7201a8"
            ],
            [
             0.3333333333333333,
             "#9c179e"
            ],
            [
             0.4444444444444444,
             "#bd3786"
            ],
            [
             0.5555555555555556,
             "#d8576b"
            ],
            [
             0.6666666666666666,
             "#ed7953"
            ],
            [
             0.7777777777777778,
             "#fb9f3a"
            ],
            [
             0.8888888888888888,
             "#fdca26"
            ],
            [
             1,
             "#f0f921"
            ]
           ],
           "sequentialminus": [
            [
             0,
             "#0d0887"
            ],
            [
             0.1111111111111111,
             "#46039f"
            ],
            [
             0.2222222222222222,
             "#7201a8"
            ],
            [
             0.3333333333333333,
             "#9c179e"
            ],
            [
             0.4444444444444444,
             "#bd3786"
            ],
            [
             0.5555555555555556,
             "#d8576b"
            ],
            [
             0.6666666666666666,
             "#ed7953"
            ],
            [
             0.7777777777777778,
             "#fb9f3a"
            ],
            [
             0.8888888888888888,
             "#fdca26"
            ],
            [
             1,
             "#f0f921"
            ]
           ]
          },
          "colorway": [
           "#636efa",
           "#EF553B",
           "#00cc96",
           "#ab63fa",
           "#FFA15A",
           "#19d3f3",
           "#FF6692",
           "#B6E880",
           "#FF97FF",
           "#FECB52"
          ],
          "font": {
           "color": "#2a3f5f"
          },
          "geo": {
           "bgcolor": "white",
           "lakecolor": "white",
           "landcolor": "#E5ECF6",
           "showlakes": true,
           "showland": true,
           "subunitcolor": "white"
          },
          "hoverlabel": {
           "align": "left"
          },
          "hovermode": "closest",
          "mapbox": {
           "style": "light"
          },
          "paper_bgcolor": "white",
          "plot_bgcolor": "#E5ECF6",
          "polar": {
           "angularaxis": {
            "gridcolor": "white",
            "linecolor": "white",
            "ticks": ""
           },
           "bgcolor": "#E5ECF6",
           "radialaxis": {
            "gridcolor": "white",
            "linecolor": "white",
            "ticks": ""
           }
          },
          "scene": {
           "xaxis": {
            "backgroundcolor": "#E5ECF6",
            "gridcolor": "white",
            "gridwidth": 2,
            "linecolor": "white",
            "showbackground": true,
            "ticks": "",
            "zerolinecolor": "white"
           },
           "yaxis": {
            "backgroundcolor": "#E5ECF6",
            "gridcolor": "white",
            "gridwidth": 2,
            "linecolor": "white",
            "showbackground": true,
            "ticks": "",
            "zerolinecolor": "white"
           },
           "zaxis": {
            "backgroundcolor": "#E5ECF6",
            "gridcolor": "white",
            "gridwidth": 2,
            "linecolor": "white",
            "showbackground": true,
            "ticks": "",
            "zerolinecolor": "white"
           }
          },
          "shapedefaults": {
           "line": {
            "color": "#2a3f5f"
           }
          },
          "ternary": {
           "aaxis": {
            "gridcolor": "white",
            "linecolor": "white",
            "ticks": ""
           },
           "baxis": {
            "gridcolor": "white",
            "linecolor": "white",
            "ticks": ""
           },
           "bgcolor": "#E5ECF6",
           "caxis": {
            "gridcolor": "white",
            "linecolor": "white",
            "ticks": ""
           }
          },
          "title": {
           "x": 0.05
          },
          "xaxis": {
           "automargin": true,
           "gridcolor": "white",
           "linecolor": "white",
           "ticks": "",
           "title": {
            "standoff": 15
           },
           "zerolinecolor": "white",
           "zerolinewidth": 2
          },
          "yaxis": {
           "automargin": true,
           "gridcolor": "white",
           "linecolor": "white",
           "ticks": "",
           "title": {
            "standoff": 15
           },
           "zerolinecolor": "white",
           "zerolinewidth": 2
          }
         }
        },
        "width": 1024
       }
      }
     },
     "metadata": {},
     "output_type": "display_data"
    }
   ],
   "source": [
    "import numpy as np\n",
    "import plotly.express as px\n",
    "\n",
    "# Expect subset to be defined already (sampled points)\n",
    "dim_indices = (0, 1, 2)\n",
    "\n",
    "x, y, z = (subset[:, i] for i in dim_indices)\n",
    "\n",
    "# Outlier filtering parameters\n",
    "lower_q = 0.0\n",
    "upper_q = 1.0\n",
    "\n",
    "x_low, x_high = np.quantile(x, [lower_q, upper_q])\n",
    "y_low, y_high = np.quantile(y, [lower_q, upper_q])\n",
    "z_low, z_high = np.quantile(z, [lower_q, upper_q])\n",
    "\n",
    "mask = (\n",
    "    (x >= x_low) & (x <= x_high) &\n",
    "    (y >= y_low) & (y <= y_high) &\n",
    "    (z >= z_low) & (z <= z_high)\n",
    ")\n",
    "\n",
    "removed_count = (~mask).sum()\n",
    "print(f\"Removed {removed_count} outlier points out of {subset.shape[0]} ({removed_count / subset.shape[0]:.2%})\")\n",
    "\n",
    "if removed_count > 0:\n",
    "    outliers = np.column_stack([x[~mask], y[~mask], z[~mask]])\n",
    "    max_print = 10\n",
    "    print(\"Sample outlier points (x,y,z):\")\n",
    "    print(outliers[:max_print])\n",
    "\n",
    "# Keep only inliers\n",
    "x_f, y_f, z_f = x[mask], y[mask], z[mask]\n",
    "\n",
    "# Axis stats BEFORE unification (for debugging / understanding clustering)\n",
    "for name, arr in zip(['x','y','z'], [x_f, y_f, z_f]):\n",
    "    print(f\"{name}: min={arr.min():.6f} max={arr.max():.6f} span={(arr.max()-arr.min()):.6f} mean={arr.mean():.6f} std={arr.std():.6f}\")\n",
    "\n",
    "# Detect degenerate (near-constant) axes\n",
    "EPS = 1e-12\n",
    "spans = np.array([x_f.max()-x_f.min(), y_f.max()-y_f.min(), z_f.max()-z_f.min()])\n",
    "if np.any(spans < EPS):\n",
    "    print(\"WARNING: One or more axes have (near) zero span. Data may be constant or precision-collapsed.\")\n",
    "\n",
    "# Optional standardization to reveal variation if values are very tiny\n",
    "apply_standardize_if_tiny = True\n",
    "tiny_threshold = 1e-8\n",
    "if apply_standardize_if_tiny and np.all(spans < tiny_threshold):\n",
    "    print(\"All spans are tiny; applying z-score standardization to x,y,z for visualization only.\")\n",
    "    def safe_std(a):\n",
    "        s = a.std()\n",
    "        return s if s > 0 else 1.0\n",
    "    x_v = (x_f - x_f.mean()) / safe_std(x_f)\n",
    "    y_v = (y_f - y_f.mean()) / safe_std(y_f)\n",
    "    z_v = (z_f - z_f.mean()) / safe_std(z_f)\n",
    "    standardized = True\n",
    "else:\n",
    "    x_v, y_v, z_v = x_f, y_f, z_f\n",
    "    standardized = False\n",
    "print(f\"Using standardized coordinates: {standardized}\")\n",
    "\n",
    "# Scaling strategy options\n",
    "# 'symmetric': center each axis at its own midpoint but use the MAX half-span (after any standardization)\n",
    "# 'independent': each axis keeps its own min/max\n",
    "# 'global': single global min/max across axes (can collapse if data spans are identical tiny intervals)\n",
    "scaling_mode = 'symmetric'  # change to 'symmetric' if collapse persists\n",
    "\n",
    "if scaling_mode == 'independent':\n",
    "    xr, yr, zr = ( [x_v.min(), x_v.max()], [y_v.min(), y_v.max()], [z_v.min(), z_v.max()] )\n",
    "elif scaling_mode == 'global':\n",
    "    vals = np.concatenate([x_v, y_v, z_v])\n",
    "    gmin, gmax = float(vals.min()), float(vals.max())\n",
    "    if abs(gmax - gmin) < EPS:\n",
    "        # Expand artificially so Plotly can render a volume\n",
    "        pad = 1.0 if standardized else 1e-3\n",
    "        print(f\"Global span ~0 (gmin={gmin:.6g}, gmax={gmax:.6g}); padding by +/-{pad}\")\n",
    "        gmin -= pad\n",
    "        gmax += pad\n",
    "    xr = yr = zr = [gmin, gmax]\n",
    "else:  # symmetric\n",
    "    mins = np.array([x_v.min(), y_v.min(), z_v.min()])\n",
    "    maxs = np.array([x_v.max(), y_v.max(), z_v.max()])\n",
    "    centers = (mins + maxs) / 2.0\n",
    "    half_spans = (maxs - mins) / 2.0\n",
    "    H = half_spans.max()\n",
    "    if H < EPS:\n",
    "        H = 1.0 if standardized else 1e-3\n",
    "        print(f\"Symmetric mode: half-span ~0, padding H={H}\")\n",
    "    xr = [centers[0]-H, centers[0]+H]\n",
    "    yr = [centers[1]-H, centers[1]+H]\n",
    "    zr = [centers[2]-H, centers[2]+H]\n",
    "\n",
    "print(f\"Using scaling mode: {scaling_mode}\")\n",
    "print(f\"Ranges -> x:{xr} y:{yr} z:{zr}\")\n",
    "\n",
    "fig = px.scatter_3d(x=x_v, y=y_v, z=z_v, opacity=0.5)\n",
    "fig.update_traces(marker=dict(size=2))\n",
    "fig.update_layout(\n",
    "    width=1024,\n",
    "    height=768,\n",
    "    scene=dict(\n",
    "        xaxis=dict(range=xr),\n",
    "        yaxis=dict(range=yr),\n",
    "        zaxis=dict(range=zr),\n",
    "        aspectmode='cube'\n",
    "    )\n",
    ")\n",
    "fig.show()\n",
    "\n",
    "filtered_indices = np.nonzero(mask)[0]"
   ]
  },
  {
   "cell_type": "markdown",
   "id": "7087bee9",
   "metadata": {},
   "source": [
    "# UMAP Hi-dim"
   ]
  },
  {
   "cell_type": "code",
   "execution_count": 13,
   "id": "a77fd82f",
   "metadata": {},
   "outputs": [],
   "source": [
    "hd_subset = X[subset_idx]"
   ]
  },
  {
   "cell_type": "code",
   "execution_count": 14,
   "id": "73e3c2b6",
   "metadata": {},
   "outputs": [
    {
     "data": {
      "text/plain": [
       "(10000, 1536)"
      ]
     },
     "execution_count": 14,
     "metadata": {},
     "output_type": "execute_result"
    }
   ],
   "source": [
    "hd_subset.shape"
   ]
  },
  {
   "cell_type": "code",
   "execution_count": 16,
   "id": "5cd2195e",
   "metadata": {},
   "outputs": [
    {
     "data": {
      "text/plain": [
       "array([[10.613586 ,  4.572473 ],\n",
       "       [10.722154 ,  4.7413826],\n",
       "       [11.199226 ,  5.150993 ],\n",
       "       ...,\n",
       "       [10.678477 ,  4.746382 ],\n",
       "       [ 7.2929125,  4.8433213],\n",
       "       [10.973627 ,  5.034195 ]], dtype=float32)"
      ]
     },
     "execution_count": 16,
     "metadata": {},
     "output_type": "execute_result"
    }
   ],
   "source": [
    "import umap\n",
    "import plotly.express as px\n",
    "\n",
    "hd_centered = hd_subset - hd_subset.mean(axis=0)\n",
    "U, S, Vt = np.linalg.svd(hd_centered, full_matrices=False)\n",
    "hd_whitened = hd_centered @ Vt.T / S\n",
    "\n",
    "# UMAP\n",
    "hd_umap_model = umap.UMAP(n_neighbors=15, n_components=2, metric='euclidean')\n",
    "hd_umap_2d_embeddings = hd_umap_model.fit_transform(hd_whitened)\n",
    "hd_umap_2d_embeddings"
   ]
  },
  {
   "cell_type": "code",
   "execution_count": null,
   "id": "913778f4",
   "metadata": {},
   "outputs": [],
   "source": [
    "hd_images_df = pd.DataFrame(hd_umap_2d_embeddings, columns=('x', 'y'))\n",
    "hd_images_df['image'] = batch_embeddable_jpeg(\n",
    "    subset_images, max_side=512, max_workers=16)\n",
    "hd_images_df['idx'] = subset_idx"
   ]
  },
  {
   "cell_type": "code",
   "execution_count": null,
   "id": "9d7f809d",
   "metadata": {},
   "outputs": [],
   "source": [
    "from bokeh.plotting import figure, show, output_notebook\n",
    "from bokeh.models import HoverTool, ColumnDataSource, CategoricalColorMapper\n",
    "from bokeh.palettes import Spectral10\n",
    "\n",
    "output_notebook()"
   ]
  },
  {
   "cell_type": "code",
   "execution_count": null,
   "id": "1cba6559",
   "metadata": {},
   "outputs": [],
   "source": [
    "datasource = ColumnDataSource(hd_images_df)\n",
    "\n",
    "plot_figure = figure(\n",
    "    title='UMAP projection of the IIIF non-ocr dataset',\n",
    "    width=1920,\n",
    "    height=1080,\n",
    "    tools=('pan, wheel_zoom, reset')\n",
    ")\n",
    "\n",
    "plot_figure.add_tools(HoverTool(tooltips=\"\"\"\n",
    "<div>\n",
    "    <div>\n",
    "        <img src='@image' style='float: left; margin: 5px 5px 5px 5px'/>\n",
    "    </div>\n",
    "    <div>\n",
    "        <span style='font-size: 16px; color: #224499'>idx:</span>\n",
    "        <span style='font-size: 18px'>@idx</span>\n",
    "    </div>\n",
    "</div>\n",
    "\"\"\"))\n",
    "\n",
    "\n",
    "plot_figure.scatter(\n",
    "    'x',\n",
    "    'y',\n",
    "    source=datasource,\n",
    "    line_alpha=0.5,\n",
    "    fill_alpha=0.5,\n",
    "    size=5,\n",
    "    # color='color'\n",
    ")\n",
    "# show(plot_figure)"
   ]
  },
  {
   "cell_type": "code",
   "execution_count": null,
   "id": "e85e1921",
   "metadata": {},
   "outputs": [],
   "source": [
    "import os\n",
    "from bokeh.embed import file_html\n",
    "from bokeh.resources import INLINE\n",
    "\n",
    "html = file_html(plot_figure, resources=INLINE, title=\"UMAP projection\")\n",
    "out_path = \"iiif_no_text_umap_2d_vlm_embed_umap_2d_plot.html\"\n",
    "with open(out_path, \"w\", encoding=\"utf-8\") as f:\n",
    "    f.write(html)\n",
    "\n",
    "print(f\"Wrote {out_path} (INLINE resources).\")\n",
    "# Optional size check\n",
    "print(\"File size (MB):\", os.path.getsize(out_path) / (1024 * 1024))"
   ]
  }
 ],
 "metadata": {
  "kernelspec": {
   "display_name": "wc-simd",
   "language": "python",
   "name": "python3"
  },
  "language_info": {
   "codemirror_mode": {
    "name": "ipython",
    "version": 3
   },
   "file_extension": ".py",
   "mimetype": "text/x-python",
   "name": "python",
   "nbconvert_exporter": "python",
   "pygments_lexer": "ipython3",
   "version": "3.10.17"
  }
 },
 "nbformat": 4,
 "nbformat_minor": 5
}
