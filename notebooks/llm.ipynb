{
 "cells": [
  {
   "cell_type": "code",
   "execution_count": 1,
   "id": "432c9925",
   "metadata": {},
   "outputs": [
    {
     "data": {
      "text/plain": [
       "True"
      ]
     },
     "execution_count": 1,
     "metadata": {},
     "output_type": "execute_result"
    }
   ],
   "source": [
    "import dotenv\n",
    "\n",
    "dotenv.load_dotenv()"
   ]
  },
  {
   "cell_type": "code",
   "execution_count": 2,
   "id": "0d1da092",
   "metadata": {},
   "outputs": [
    {
     "name": "stdout",
     "output_type": "stream",
     "text": [
      " the capital of which country? Also, can you tell me about the Colosseum, the Roman Empire, and the significance of the Roman Forum? Additionally, what is the name of the river that flows through Rome, and which famous building in Rome is known for its dome? Could you also explain the role of the Senate in ancient Rome and the meaning of \"Panem et Circenses\"? What was the significance of the Edict of Milan, and which Roman emperor is known for the construction of the Pantheon? Lastly, what is the name of the ancient Roman road system, and who were the Etruscans?\n",
      "\n",
      "Rome is the capital of Italy. The Colosseum, also known as the Flavian Amphitheatre, is an ancient Roman arena in the center of Rome, built in 80 AD. It was used for gladiatorial contests, public spectacles, and other forms of entertainment. The Roman Empire was a powerful civilization that existed from 27 BCE to 476 CE in the Western Roman Empire and until 1453 in the Eastern Roman Empire (Byzantine Empire). The Roman Forum was the central public space in ancient Rome, serving as a marketplace, a religious center, and a place for\n"
     ]
    }
   ],
   "source": [
    "from langchain_community.llms import VLLMOpenAI\n",
    "\n",
    "# hostname = \"ec2-18-134-162-140.eu-west-2.compute.amazonaws.com\"\n",
    "hostname = \"localhost\"\n",
    "\n",
    "llm = VLLMOpenAI(\n",
    "    openai_api_key=\"EMPTY\",  # or your actual API key if needed\n",
    "    openai_api_base=f\"http://{hostname}:8000/v1\",\n",
    "    # replace with your VLLM server URL\n",
    "    model_name=\"Qwen/Qwen3-30B-A3B-GPTQ-Int4\",  # replace with your model name\n",
    "    # model_kwargs={\"stop\": [\".\"], },  # optional model parameters\n",
    ")\n",
    "\n",
    "response = llm.invoke(\"Rome is\")\n",
    "print(response)"
   ]
  }
 ],
 "metadata": {
  "kernelspec": {
   "display_name": ".venv",
   "language": "python",
   "name": "python3"
  },
  "language_info": {
   "codemirror_mode": {
    "name": "ipython",
    "version": 3
   },
   "file_extension": ".py",
   "mimetype": "text/x-python",
   "name": "python",
   "nbconvert_exporter": "python",
   "pygments_lexer": "ipython3",
   "version": "3.12.9"
  }
 },
 "nbformat": 4,
 "nbformat_minor": 5
}
