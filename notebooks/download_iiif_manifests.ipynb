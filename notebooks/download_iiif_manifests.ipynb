{
 "cells": [
  {
   "cell_type": "markdown",
   "id": "04425c16",
   "metadata": {},
   "source": [
    "# Download IIIF Manifests\n",
    "\n",
    "This notebook is for downloading and working with IIIF manifests from the Wellcome Collection."
   ]
  },
  {
   "cell_type": "code",
   "execution_count": null,
   "id": "e774c518",
   "metadata": {},
   "outputs": [],
   "source": [
    "import os\n",
    "import json\n",
    "from pprint import pprint\n",
    "import sys\n",
    "\n",
    "from wc_simd.iiif_manifests import download_iiif_manifests"
   ]
  },
  {
   "cell_type": "markdown",
   "id": "36b4dd7b",
   "metadata": {},
   "source": [
    "## Download IIIF Manifests\n",
    "\n",
    "Run the function to download IIIF manifests if needed.\n",
    "The default directory is the current directory, but we'll specify to save in '../data/iiif_manifests'."
   ]
  },
  {
   "cell_type": "code",
   "execution_count": null,
   "id": "c431e301",
   "metadata": {},
   "outputs": [],
   "source": [
    "# Uncomment and run this cell to download manifests\n",
    "# download_iiif_manifests(\n",
    "#     subset_fraction=0.01,  # Use a small subset for testing\n",
    "#     download_dir='../data/iiif_manifests'\n",
    "# )"
   ]
  },
  {
   "cell_type": "markdown",
   "id": "786aaaa6",
   "metadata": {},
   "source": [
    "## Find Empty JSON Files\n",
    "\n",
    "The download process creates empty JSON files (`{}`) when a download fails after multiple attempts.\n",
    "Let's identify these files to check which manifests had download issues."
   ]
  },
  {
   "cell_type": "code",
   "execution_count": 4,
   "id": "29d0b8e4",
   "metadata": {},
   "outputs": [
    {
     "name": "stdout",
     "output_type": "stream",
     "text": [
      "Found 1609 empty files out of 339927 total JSON files (0.47% failure rate)\n",
      "First 10 empty files:\n",
      "- ffhjnz93_b11144890.json\n",
      "- k3ebsey3_b1011144x.json\n",
      "- u4hzwpnq_b1040031x.json\n",
      "- gnc2sg5t_b13146993.json\n",
      "- x8sd5g3u_b11486375.json\n",
      "- eszejfpv_b12974390.json\n",
      "- s26cpfe5_b11144130.json\n",
      "- nw6gp87v_b12177362.json\n",
      "- knpccfgg_b11512817.json\n",
      "- yfe5hvm8_b13147201.json\n",
      "... and 1599 more\n"
     ]
    }
   ],
   "source": [
    "def find_empty_json_files(directory='../data/iiif_manifests'):\n",
    "    \"\"\"Find all JSON files in the directory that are empty or very small in size.\"\"\"\n",
    "    empty_files = []\n",
    "    total_files = 0\n",
    "\n",
    "    # Ensure directory exists\n",
    "    if not os.path.exists(directory):\n",
    "        print(f\"Directory {directory} does not exist.\")\n",
    "        return empty_files, total_files\n",
    "\n",
    "    # Get all JSON files\n",
    "    json_files = [f for f in os.listdir(directory) if f.endswith('.json')]\n",
    "    total_files = len(json_files)\n",
    "\n",
    "    # Check file sizes\n",
    "    for filename in json_files:\n",
    "        filepath = os.path.join(directory, filename)\n",
    "        try:\n",
    "            if os.path.getsize(filepath) <= 2:  # File size <= 2 bytes (e.g., \"{}\")\n",
    "                empty_files.append(filename)\n",
    "        except Exception as e:\n",
    "            print(f\"Error checking size of {filename}: {e}\")\n",
    "\n",
    "    return empty_files, total_files\n",
    "\n",
    "# Run the function\n",
    "empty_files, total_files = find_empty_json_files()\n",
    "\n",
    "# Print results\n",
    "print(f\"Found {len(empty_files)} empty files out of {total_files} total JSON files ({(len(empty_files)/total_files)*100:.2f}% failure rate)\")\n",
    "if empty_files:\n",
    "    print(\"First 10 empty files:\")\n",
    "    for file in empty_files[:10]:\n",
    "        print(f\"- {file}\")\n",
    "    \n",
    "    if len(empty_files) > 10:\n",
    "        print(f\"... and {len(empty_files) - 10} more\")"
   ]
  },
  {
   "cell_type": "markdown",
   "id": "00b4e00c",
   "metadata": {},
   "source": [
    "## Retry Downloading Empty Files\n",
    "\n",
    "If you want to retry downloading the empty files, you can use the function below."
   ]
  },
  {
   "cell_type": "code",
   "execution_count": null,
   "id": "c1eebf4e",
   "metadata": {},
   "outputs": [
    {
     "name": "stderr",
     "output_type": "stream",
     "text": [
      "Retrying downloads:   0%|          | 1/1609 [00:00<13:37,  1.97it/s]"
     ]
    },
    {
     "name": "stdout",
     "output_type": "stream",
     "text": [
      "404 Not Found: https://iiif.wellcomecollection.org/presentation/b11144890\n"
     ]
    },
    {
     "name": "stderr",
     "output_type": "stream",
     "text": [
      "Retrying downloads:   0%|          | 2/1609 [00:01<13:45,  1.95it/s]"
     ]
    },
    {
     "name": "stdout",
     "output_type": "stream",
     "text": [
      "404 Not Found: https://iiif.wellcomecollection.org/presentation/b1011144x\n"
     ]
    },
    {
     "name": "stderr",
     "output_type": "stream",
     "text": [
      "Retrying downloads:   0%|          | 3/1609 [00:01<13:44,  1.95it/s]"
     ]
    },
    {
     "name": "stdout",
     "output_type": "stream",
     "text": [
      "404 Not Found: https://iiif.wellcomecollection.org/presentation/b1040031x\n"
     ]
    },
    {
     "name": "stderr",
     "output_type": "stream",
     "text": [
      "Retrying downloads:   0%|          | 4/1609 [00:02<13:49,  1.94it/s]"
     ]
    },
    {
     "name": "stdout",
     "output_type": "stream",
     "text": [
      "404 Not Found: https://iiif.wellcomecollection.org/presentation/b13146993\n"
     ]
    },
    {
     "name": "stderr",
     "output_type": "stream",
     "text": [
      "Retrying downloads:   0%|          | 5/1609 [00:02<13:30,  1.98it/s]"
     ]
    },
    {
     "name": "stdout",
     "output_type": "stream",
     "text": [
      "404 Not Found: https://iiif.wellcomecollection.org/presentation/b11486375\n"
     ]
    },
    {
     "name": "stderr",
     "output_type": "stream",
     "text": [
      "Retrying downloads:   0%|          | 6/1609 [00:03<13:20,  2.00it/s]"
     ]
    },
    {
     "name": "stdout",
     "output_type": "stream",
     "text": [
      "404 Not Found: https://iiif.wellcomecollection.org/presentation/b12974390\n"
     ]
    },
    {
     "name": "stderr",
     "output_type": "stream",
     "text": [
      "Retrying downloads:   0%|          | 7/1609 [00:03<13:13,  2.02it/s]"
     ]
    },
    {
     "name": "stdout",
     "output_type": "stream",
     "text": [
      "404 Not Found: https://iiif.wellcomecollection.org/presentation/b11144130\n"
     ]
    },
    {
     "name": "stderr",
     "output_type": "stream",
     "text": [
      "Retrying downloads:   0%|          | 8/1609 [00:04<13:13,  2.02it/s]"
     ]
    },
    {
     "name": "stdout",
     "output_type": "stream",
     "text": [
      "404 Not Found: https://iiif.wellcomecollection.org/presentation/b12177362\n"
     ]
    },
    {
     "name": "stderr",
     "output_type": "stream",
     "text": [
      "Retrying downloads:   1%|          | 9/1609 [00:04<13:10,  2.02it/s]"
     ]
    },
    {
     "name": "stdout",
     "output_type": "stream",
     "text": [
      "404 Not Found: https://iiif.wellcomecollection.org/presentation/b11512817\n"
     ]
    },
    {
     "name": "stderr",
     "output_type": "stream",
     "text": [
      "Retrying downloads:   1%|          | 10/1609 [00:05<13:12,  2.02it/s]"
     ]
    },
    {
     "name": "stdout",
     "output_type": "stream",
     "text": [
      "404 Not Found: https://iiif.wellcomecollection.org/presentation/b13147201\n"
     ]
    },
    {
     "name": "stderr",
     "output_type": "stream",
     "text": [
      "Retrying downloads:   1%|          | 11/1609 [00:05<13:27,  1.98it/s]"
     ]
    },
    {
     "name": "stdout",
     "output_type": "stream",
     "text": [
      "404 Not Found: https://iiif.wellcomecollection.org/presentation/b11056800\n"
     ]
    },
    {
     "name": "stderr",
     "output_type": "stream",
     "text": [
      "Retrying downloads:   1%|          | 12/1609 [00:06<13:10,  2.02it/s]"
     ]
    },
    {
     "name": "stdout",
     "output_type": "stream",
     "text": [
      "404 Not Found: https://iiif.wellcomecollection.org/presentation/b12209661\n"
     ]
    },
    {
     "name": "stderr",
     "output_type": "stream",
     "text": [
      "Retrying downloads:   1%|          | 13/1609 [00:06<13:03,  2.04it/s]"
     ]
    },
    {
     "name": "stdout",
     "output_type": "stream",
     "text": [
      "404 Not Found: https://iiif.wellcomecollection.org/presentation/b10560087\n"
     ]
    },
    {
     "name": "stderr",
     "output_type": "stream",
     "text": [
      "Retrying downloads:   1%|          | 14/1609 [00:06<12:55,  2.06it/s]"
     ]
    },
    {
     "name": "stdout",
     "output_type": "stream",
     "text": [
      "404 Not Found: https://iiif.wellcomecollection.org/presentation/b12954019\n"
     ]
    },
    {
     "name": "stderr",
     "output_type": "stream",
     "text": [
      "Retrying downloads:   1%|          | 15/1609 [00:07<12:48,  2.07it/s]"
     ]
    },
    {
     "name": "stdout",
     "output_type": "stream",
     "text": [
      "404 Not Found: https://iiif.wellcomecollection.org/presentation/b11028415\n"
     ]
    },
    {
     "name": "stderr",
     "output_type": "stream",
     "text": [
      "Retrying downloads:   1%|          | 16/1609 [00:07<13:12,  2.01it/s]"
     ]
    },
    {
     "name": "stdout",
     "output_type": "stream",
     "text": [
      "404 Not Found: https://iiif.wellcomecollection.org/presentation/b12951833\n"
     ]
    },
    {
     "name": "stderr",
     "output_type": "stream",
     "text": [
      "Retrying downloads:   1%|          | 17/1609 [00:08<13:19,  1.99it/s]"
     ]
    },
    {
     "name": "stdout",
     "output_type": "stream",
     "text": [
      "404 Not Found: https://iiif.wellcomecollection.org/presentation/b13254911\n"
     ]
    },
    {
     "name": "stderr",
     "output_type": "stream",
     "text": [
      "Retrying downloads:   1%|          | 18/1609 [00:08<13:23,  1.98it/s]"
     ]
    },
    {
     "name": "stdout",
     "output_type": "stream",
     "text": [
      "404 Not Found: https://iiif.wellcomecollection.org/presentation/b14568950\n"
     ]
    },
    {
     "name": "stderr",
     "output_type": "stream",
     "text": [
      "Retrying downloads:   1%|          | 19/1609 [00:09<13:20,  1.99it/s]"
     ]
    },
    {
     "name": "stdout",
     "output_type": "stream",
     "text": [
      "404 Not Found: https://iiif.wellcomecollection.org/presentation/b14576752\n"
     ]
    },
    {
     "name": "stderr",
     "output_type": "stream",
     "text": [
      "Retrying downloads:   1%|          | 20/1609 [00:10<13:26,  1.97it/s]"
     ]
    },
    {
     "name": "stdout",
     "output_type": "stream",
     "text": [
      "404 Not Found: https://iiif.wellcomecollection.org/presentation/b11040038\n"
     ]
    },
    {
     "name": "stderr",
     "output_type": "stream",
     "text": [
      "Retrying downloads:   1%|▏         | 21/1609 [00:10<13:28,  1.96it/s]"
     ]
    },
    {
     "name": "stdout",
     "output_type": "stream",
     "text": [
      "404 Not Found: https://iiif.wellcomecollection.org/presentation/b11028476\n"
     ]
    },
    {
     "name": "stderr",
     "output_type": "stream",
     "text": [
      "Retrying downloads:   1%|▏         | 22/1609 [00:10<13:07,  2.01it/s]"
     ]
    },
    {
     "name": "stdout",
     "output_type": "stream",
     "text": [
      "404 Not Found: https://iiif.wellcomecollection.org/presentation/b10277572\n"
     ]
    },
    {
     "name": "stderr",
     "output_type": "stream",
     "text": [
      "Retrying downloads:   1%|▏         | 23/1609 [00:11<13:18,  1.99it/s]"
     ]
    },
    {
     "name": "stdout",
     "output_type": "stream",
     "text": [
      "404 Not Found: https://iiif.wellcomecollection.org/presentation/b11058766\n"
     ]
    },
    {
     "name": "stderr",
     "output_type": "stream",
     "text": [
      "Retrying downloads:   1%|▏         | 24/1609 [00:12<13:16,  1.99it/s]"
     ]
    },
    {
     "name": "stdout",
     "output_type": "stream",
     "text": [
      "404 Not Found: https://iiif.wellcomecollection.org/presentation/b10112042\n"
     ]
    },
    {
     "name": "stderr",
     "output_type": "stream",
     "text": [
      "Retrying downloads:   2%|▏         | 25/1609 [00:12<12:58,  2.04it/s]"
     ]
    },
    {
     "name": "stdout",
     "output_type": "stream",
     "text": [
      "404 Not Found: https://iiif.wellcomecollection.org/presentation/b12975278\n"
     ]
    },
    {
     "name": "stderr",
     "output_type": "stream",
     "text": [
      "Retrying downloads:   2%|▏         | 26/1609 [00:12<12:51,  2.05it/s]"
     ]
    },
    {
     "name": "stdout",
     "output_type": "stream",
     "text": [
      "404 Not Found: https://iiif.wellcomecollection.org/presentation/b10285751\n"
     ]
    },
    {
     "name": "stderr",
     "output_type": "stream",
     "text": [
      "Retrying downloads:   2%|▏         | 27/1609 [00:13<13:02,  2.02it/s]"
     ]
    },
    {
     "name": "stdout",
     "output_type": "stream",
     "text": [
      "404 Not Found: https://iiif.wellcomecollection.org/presentation/b1325019x\n"
     ]
    },
    {
     "name": "stderr",
     "output_type": "stream",
     "text": [
      "Retrying downloads:   2%|▏         | 28/1609 [00:13<13:07,  2.01it/s]"
     ]
    },
    {
     "name": "stdout",
     "output_type": "stream",
     "text": [
      "404 Not Found: https://iiif.wellcomecollection.org/presentation/b14566527\n"
     ]
    },
    {
     "name": "stderr",
     "output_type": "stream",
     "text": [
      "Retrying downloads:   2%|▏         | 29/1609 [00:14<13:50,  1.90it/s]"
     ]
    },
    {
     "name": "stdout",
     "output_type": "stream",
     "text": [
      "404 Not Found: https://iiif.wellcomecollection.org/presentation/b11522616\n"
     ]
    },
    {
     "name": "stderr",
     "output_type": "stream",
     "text": [
      "Retrying downloads:   2%|▏         | 30/1609 [00:15<13:55,  1.89it/s]"
     ]
    },
    {
     "name": "stdout",
     "output_type": "stream",
     "text": [
      "404 Not Found: https://iiif.wellcomecollection.org/presentation/b13258965\n"
     ]
    },
    {
     "name": "stderr",
     "output_type": "stream",
     "text": [
      "Retrying downloads:   2%|▏         | 31/1609 [00:15<13:22,  1.97it/s]"
     ]
    },
    {
     "name": "stdout",
     "output_type": "stream",
     "text": [
      "404 Not Found: https://iiif.wellcomecollection.org/presentation/b10986261\n"
     ]
    },
    {
     "name": "stderr",
     "output_type": "stream",
     "text": [
      "Retrying downloads:   2%|▏         | 32/1609 [00:16<13:32,  1.94it/s]"
     ]
    },
    {
     "name": "stdout",
     "output_type": "stream",
     "text": [
      "404 Not Found: https://iiif.wellcomecollection.org/presentation/b14962755\n"
     ]
    },
    {
     "name": "stderr",
     "output_type": "stream",
     "text": [
      "Retrying downloads:   2%|▏         | 33/1609 [00:16<13:25,  1.96it/s]"
     ]
    },
    {
     "name": "stdout",
     "output_type": "stream",
     "text": [
      "404 Not Found: https://iiif.wellcomecollection.org/presentation/b11059266\n"
     ]
    },
    {
     "name": "stderr",
     "output_type": "stream",
     "text": [
      "Retrying downloads:   2%|▏         | 34/1609 [00:17<13:39,  1.92it/s]"
     ]
    },
    {
     "name": "stdout",
     "output_type": "stream",
     "text": [
      "404 Not Found: https://iiif.wellcomecollection.org/presentation/b13262087\n"
     ]
    },
    {
     "name": "stderr",
     "output_type": "stream",
     "text": [
      "Retrying downloads:   2%|▏         | 35/1609 [00:17<13:32,  1.94it/s]"
     ]
    },
    {
     "name": "stdout",
     "output_type": "stream",
     "text": [
      "404 Not Found: https://iiif.wellcomecollection.org/presentation/b13424105\n"
     ]
    },
    {
     "name": "stderr",
     "output_type": "stream",
     "text": [
      "Retrying downloads:   2%|▏         | 36/1609 [00:18<13:18,  1.97it/s]"
     ]
    },
    {
     "name": "stdout",
     "output_type": "stream",
     "text": [
      "404 Not Found: https://iiif.wellcomecollection.org/presentation/b12192417\n"
     ]
    },
    {
     "name": "stderr",
     "output_type": "stream",
     "text": [
      "Retrying downloads:   2%|▏         | 37/1609 [00:18<13:01,  2.01it/s]"
     ]
    },
    {
     "name": "stdout",
     "output_type": "stream",
     "text": [
      "404 Not Found: https://iiif.wellcomecollection.org/presentation/b1148648x\n"
     ]
    },
    {
     "name": "stderr",
     "output_type": "stream",
     "text": [
      "Retrying downloads:   2%|▏         | 38/1609 [00:19<13:06,  2.00it/s]"
     ]
    },
    {
     "name": "stdout",
     "output_type": "stream",
     "text": [
      "404 Not Found: https://iiif.wellcomecollection.org/presentation/b11056848\n"
     ]
    },
    {
     "name": "stderr",
     "output_type": "stream",
     "text": [
      "Retrying downloads:   2%|▏         | 39/1609 [00:19<13:08,  1.99it/s]"
     ]
    },
    {
     "name": "stdout",
     "output_type": "stream",
     "text": [
      "404 Not Found: https://iiif.wellcomecollection.org/presentation/b14568974\n"
     ]
    },
    {
     "name": "stderr",
     "output_type": "stream",
     "text": [
      "Retrying downloads:   2%|▏         | 40/1609 [00:20<13:28,  1.94it/s]"
     ]
    },
    {
     "name": "stdout",
     "output_type": "stream",
     "text": [
      "404 Not Found: https://iiif.wellcomecollection.org/presentation/b10765736\n"
     ]
    },
    {
     "name": "stderr",
     "output_type": "stream",
     "text": [
      "Retrying downloads:   3%|▎         | 41/1609 [00:20<13:02,  2.00it/s]"
     ]
    },
    {
     "name": "stdout",
     "output_type": "stream",
     "text": [
      "404 Not Found: https://iiif.wellcomecollection.org/presentation/b10825186\n"
     ]
    },
    {
     "name": "stderr",
     "output_type": "stream",
     "text": [
      "Retrying downloads:   3%|▎         | 42/1609 [00:20<11:04,  2.36it/s]"
     ]
    },
    {
     "name": "stdout",
     "output_type": "stream",
     "text": [
      "404 Not Found: https://iiif.wellcomecollection.org/presentation/b11537759\n"
     ]
    },
    {
     "name": "stderr",
     "output_type": "stream",
     "text": [
      "Retrying downloads:   3%|▎         | 43/1609 [00:21<11:34,  2.25it/s]"
     ]
    },
    {
     "name": "stdout",
     "output_type": "stream",
     "text": [
      "404 Not Found: https://iiif.wellcomecollection.org/presentation/b10337325\n"
     ]
    },
    {
     "name": "stderr",
     "output_type": "stream",
     "text": [
      "Retrying downloads:   3%|▎         | 44/1609 [00:21<11:53,  2.19it/s]"
     ]
    },
    {
     "name": "stdout",
     "output_type": "stream",
     "text": [
      "404 Not Found: https://iiif.wellcomecollection.org/presentation/b11149139\n"
     ]
    },
    {
     "name": "stderr",
     "output_type": "stream",
     "text": [
      "Retrying downloads:   3%|▎         | 45/1609 [00:22<12:03,  2.16it/s]"
     ]
    },
    {
     "name": "stdout",
     "output_type": "stream",
     "text": [
      "404 Not Found: https://iiif.wellcomecollection.org/presentation/b1033595x\n"
     ]
    },
    {
     "name": "stderr",
     "output_type": "stream",
     "text": [
      "Retrying downloads:   3%|▎         | 46/1609 [00:22<12:10,  2.14it/s]"
     ]
    },
    {
     "name": "stdout",
     "output_type": "stream",
     "text": [
      "404 Not Found: https://iiif.wellcomecollection.org/presentation/b32863196\n"
     ]
    },
    {
     "name": "stderr",
     "output_type": "stream",
     "text": [
      "Retrying downloads:   3%|▎         | 47/1609 [00:23<12:26,  2.09it/s]"
     ]
    },
    {
     "name": "stdout",
     "output_type": "stream",
     "text": [
      "404 Not Found: https://iiif.wellcomecollection.org/presentation/b13268089\n"
     ]
    },
    {
     "name": "stderr",
     "output_type": "stream",
     "text": [
      "Retrying downloads:   3%|▎         | 48/1609 [00:23<12:52,  2.02it/s]"
     ]
    },
    {
     "name": "stdout",
     "output_type": "stream",
     "text": [
      "404 Not Found: https://iiif.wellcomecollection.org/presentation/b11060207\n"
     ]
    },
    {
     "name": "stderr",
     "output_type": "stream",
     "text": [
      "Retrying downloads:   3%|▎         | 49/1609 [00:24<12:52,  2.02it/s]"
     ]
    },
    {
     "name": "stdout",
     "output_type": "stream",
     "text": [
      "404 Not Found: https://iiif.wellcomecollection.org/presentation/b13147407\n"
     ]
    },
    {
     "name": "stderr",
     "output_type": "stream",
     "text": [
      "Retrying downloads:   3%|▎         | 50/1609 [00:24<12:52,  2.02it/s]"
     ]
    },
    {
     "name": "stdout",
     "output_type": "stream",
     "text": [
      "404 Not Found: https://iiif.wellcomecollection.org/presentation/b12205060\n"
     ]
    },
    {
     "name": "stderr",
     "output_type": "stream",
     "text": [
      "Retrying downloads:   3%|▎         | 51/1609 [00:25<12:56,  2.01it/s]"
     ]
    },
    {
     "name": "stdout",
     "output_type": "stream",
     "text": [
      "404 Not Found: https://iiif.wellcomecollection.org/presentation/b11142819\n"
     ]
    },
    {
     "name": "stderr",
     "output_type": "stream",
     "text": [
      "Retrying downloads:   3%|▎         | 52/1609 [00:25<12:56,  2.01it/s]"
     ]
    },
    {
     "name": "stdout",
     "output_type": "stream",
     "text": [
      "404 Not Found: https://iiif.wellcomecollection.org/presentation/b12983706\n"
     ]
    },
    {
     "name": "stderr",
     "output_type": "stream",
     "text": [
      "Retrying downloads:   3%|▎         | 53/1609 [00:26<12:52,  2.01it/s]"
     ]
    },
    {
     "name": "stdout",
     "output_type": "stream",
     "text": [
      "404 Not Found: https://iiif.wellcomecollection.org/presentation/b11141177\n"
     ]
    },
    {
     "name": "stderr",
     "output_type": "stream",
     "text": [
      "Retrying downloads:   3%|▎         | 54/1609 [00:26<13:15,  1.95it/s]"
     ]
    },
    {
     "name": "stdout",
     "output_type": "stream",
     "text": [
      "404 Not Found: https://iiif.wellcomecollection.org/presentation/b14560215\n"
     ]
    },
    {
     "name": "stderr",
     "output_type": "stream",
     "text": [
      "Retrying downloads:   3%|▎         | 55/1609 [00:27<13:20,  1.94it/s]"
     ]
    },
    {
     "name": "stdout",
     "output_type": "stream",
     "text": [
      "404 Not Found: https://iiif.wellcomecollection.org/presentation/b11486491\n"
     ]
    },
    {
     "name": "stderr",
     "output_type": "stream",
     "text": [
      "Retrying downloads:   3%|▎         | 56/1609 [00:27<13:37,  1.90it/s]"
     ]
    },
    {
     "name": "stdout",
     "output_type": "stream",
     "text": [
      "404 Not Found: https://iiif.wellcomecollection.org/presentation/b10934029\n"
     ]
    },
    {
     "name": "stderr",
     "output_type": "stream",
     "text": [
      "Retrying downloads:   4%|▎         | 57/1609 [00:28<13:28,  1.92it/s]"
     ]
    },
    {
     "name": "stdout",
     "output_type": "stream",
     "text": [
      "404 Not Found: https://iiif.wellcomecollection.org/presentation/b12975436\n"
     ]
    },
    {
     "name": "stderr",
     "output_type": "stream",
     "text": [
      "Retrying downloads:   4%|▎         | 58/1609 [00:28<13:22,  1.93it/s]"
     ]
    },
    {
     "name": "stdout",
     "output_type": "stream",
     "text": [
      "404 Not Found: https://iiif.wellcomecollection.org/presentation/b10629750\n"
     ]
    },
    {
     "name": "stderr",
     "output_type": "stream",
     "text": [
      "Retrying downloads:   4%|▎         | 59/1609 [00:29<12:56,  2.00it/s]"
     ]
    },
    {
     "name": "stdout",
     "output_type": "stream",
     "text": [
      "404 Not Found: https://iiif.wellcomecollection.org/presentation/b10701254\n"
     ]
    },
    {
     "name": "stderr",
     "output_type": "stream",
     "text": [
      "Retrying downloads:   4%|▎         | 60/1609 [00:29<12:57,  1.99it/s]"
     ]
    },
    {
     "name": "stdout",
     "output_type": "stream",
     "text": [
      "404 Not Found: https://iiif.wellcomecollection.org/presentation/b11533808\n"
     ]
    },
    {
     "name": "stderr",
     "output_type": "stream",
     "text": [
      "Retrying downloads:   4%|▍         | 61/1609 [00:30<12:35,  2.05it/s]"
     ]
    },
    {
     "name": "stdout",
     "output_type": "stream",
     "text": [
      "404 Not Found: https://iiif.wellcomecollection.org/presentation/b1114550x\n"
     ]
    },
    {
     "name": "stderr",
     "output_type": "stream",
     "text": [
      "Retrying downloads:   4%|▍         | 62/1609 [00:30<12:37,  2.04it/s]"
     ]
    },
    {
     "name": "stdout",
     "output_type": "stream",
     "text": [
      "404 Not Found: https://iiif.wellcomecollection.org/presentation/b11198989\n"
     ]
    },
    {
     "name": "stderr",
     "output_type": "stream",
     "text": [
      "Retrying downloads:   4%|▍         | 63/1609 [00:31<12:25,  2.07it/s]"
     ]
    },
    {
     "name": "stdout",
     "output_type": "stream",
     "text": [
      "404 Not Found: https://iiif.wellcomecollection.org/presentation/b10108932\n"
     ]
    },
    {
     "name": "stderr",
     "output_type": "stream",
     "text": [
      "Retrying downloads:   4%|▍         | 64/1609 [00:31<12:23,  2.08it/s]"
     ]
    },
    {
     "name": "stdout",
     "output_type": "stream",
     "text": [
      "404 Not Found: https://iiif.wellcomecollection.org/presentation/b12181651\n"
     ]
    },
    {
     "name": "stderr",
     "output_type": "stream",
     "text": [
      "Retrying downloads:   4%|▍         | 65/1609 [00:32<12:27,  2.07it/s]"
     ]
    },
    {
     "name": "stdout",
     "output_type": "stream",
     "text": [
      "404 Not Found: https://iiif.wellcomecollection.org/presentation/b1459447x\n"
     ]
    },
    {
     "name": "stderr",
     "output_type": "stream",
     "text": [
      "Retrying downloads:   4%|▍         | 66/1609 [00:32<12:22,  2.08it/s]"
     ]
    },
    {
     "name": "stdout",
     "output_type": "stream",
     "text": [
      "404 Not Found: https://iiif.wellcomecollection.org/presentation/b12202101\n"
     ]
    },
    {
     "name": "stderr",
     "output_type": "stream",
     "text": [
      "Retrying downloads:   4%|▍         | 67/1609 [00:33<12:13,  2.10it/s]"
     ]
    },
    {
     "name": "stdout",
     "output_type": "stream",
     "text": [
      "404 Not Found: https://iiif.wellcomecollection.org/presentation/b12947143\n"
     ]
    },
    {
     "name": "stderr",
     "output_type": "stream",
     "text": [
      "Retrying downloads:   4%|▍         | 68/1609 [00:33<12:09,  2.11it/s]"
     ]
    },
    {
     "name": "stdout",
     "output_type": "stream",
     "text": [
      "404 Not Found: https://iiif.wellcomecollection.org/presentation/b11513858\n"
     ]
    },
    {
     "name": "stderr",
     "output_type": "stream",
     "text": [
      "Retrying downloads:   4%|▍         | 69/1609 [00:34<12:22,  2.07it/s]"
     ]
    },
    {
     "name": "stdout",
     "output_type": "stream",
     "text": [
      "404 Not Found: https://iiif.wellcomecollection.org/presentation/b10283080\n"
     ]
    },
    {
     "name": "stderr",
     "output_type": "stream",
     "text": [
      "Retrying downloads:   4%|▍         | 70/1609 [00:34<12:12,  2.10it/s]"
     ]
    },
    {
     "name": "stdout",
     "output_type": "stream",
     "text": [
      "404 Not Found: https://iiif.wellcomecollection.org/presentation/b10107071\n"
     ]
    },
    {
     "name": "stderr",
     "output_type": "stream",
     "text": [
      "Retrying downloads:   4%|▍         | 71/1609 [00:35<12:27,  2.06it/s]"
     ]
    },
    {
     "name": "stdout",
     "output_type": "stream",
     "text": [
      "404 Not Found: https://iiif.wellcomecollection.org/presentation/b11057476\n"
     ]
    },
    {
     "name": "stderr",
     "output_type": "stream",
     "text": [
      "Retrying downloads:   4%|▍         | 72/1609 [00:35<12:21,  2.07it/s]"
     ]
    },
    {
     "name": "stdout",
     "output_type": "stream",
     "text": [
      "404 Not Found: https://iiif.wellcomecollection.org/presentation/b11057002\n"
     ]
    },
    {
     "name": "stderr",
     "output_type": "stream",
     "text": [
      "Retrying downloads:   5%|▍         | 73/1609 [00:36<12:18,  2.08it/s]"
     ]
    },
    {
     "name": "stdout",
     "output_type": "stream",
     "text": [
      "404 Not Found: https://iiif.wellcomecollection.org/presentation/b10401210\n"
     ]
    },
    {
     "name": "stderr",
     "output_type": "stream",
     "text": [
      "Retrying downloads:   5%|▍         | 74/1609 [00:36<12:51,  1.99it/s]"
     ]
    },
    {
     "name": "stdout",
     "output_type": "stream",
     "text": [
      "404 Not Found: https://iiif.wellcomecollection.org/presentation/b10004282\n"
     ]
    },
    {
     "name": "stderr",
     "output_type": "stream",
     "text": [
      "Retrying downloads:   5%|▍         | 75/1609 [00:37<12:47,  2.00it/s]"
     ]
    },
    {
     "name": "stdout",
     "output_type": "stream",
     "text": [
      "404 Not Found: https://iiif.wellcomecollection.org/presentation/b10917457\n"
     ]
    },
    {
     "name": "stderr",
     "output_type": "stream",
     "text": [
      "Retrying downloads:   5%|▍         | 76/1609 [00:37<12:50,  1.99it/s]"
     ]
    },
    {
     "name": "stdout",
     "output_type": "stream",
     "text": [
      "404 Not Found: https://iiif.wellcomecollection.org/presentation/b14573222\n"
     ]
    },
    {
     "name": "stderr",
     "output_type": "stream",
     "text": [
      "Retrying downloads:   5%|▍         | 77/1609 [00:38<12:38,  2.02it/s]"
     ]
    },
    {
     "name": "stdout",
     "output_type": "stream",
     "text": [
      "404 Not Found: https://iiif.wellcomecollection.org/presentation/b11056654\n"
     ]
    },
    {
     "name": "stderr",
     "output_type": "stream",
     "text": [
      "Retrying downloads:   5%|▍         | 78/1609 [00:38<12:21,  2.06it/s]"
     ]
    },
    {
     "name": "stdout",
     "output_type": "stream",
     "text": [
      "404 Not Found: https://iiif.wellcomecollection.org/presentation/b13083806\n"
     ]
    },
    {
     "name": "stderr",
     "output_type": "stream",
     "text": [
      "Retrying downloads:   5%|▍         | 79/1609 [00:39<12:23,  2.06it/s]"
     ]
    },
    {
     "name": "stdout",
     "output_type": "stream",
     "text": [
      "404 Not Found: https://iiif.wellcomecollection.org/presentation/b14568639\n"
     ]
    },
    {
     "name": "stderr",
     "output_type": "stream",
     "text": [
      "Retrying downloads:   5%|▍         | 80/1609 [00:39<12:24,  2.05it/s]"
     ]
    },
    {
     "name": "stdout",
     "output_type": "stream",
     "text": [
      "404 Not Found: https://iiif.wellcomecollection.org/presentation/b10112741\n"
     ]
    },
    {
     "name": "stderr",
     "output_type": "stream",
     "text": [
      "Retrying downloads:   5%|▌         | 81/1609 [00:40<12:26,  2.05it/s]"
     ]
    },
    {
     "name": "stdout",
     "output_type": "stream",
     "text": [
      "404 Not Found: https://iiif.wellcomecollection.org/presentation/b14562005\n"
     ]
    },
    {
     "name": "stderr",
     "output_type": "stream",
     "text": [
      "Retrying downloads:   5%|▌         | 82/1609 [00:40<12:13,  2.08it/s]"
     ]
    },
    {
     "name": "stdout",
     "output_type": "stream",
     "text": [
      "404 Not Found: https://iiif.wellcomecollection.org/presentation/b10283109\n"
     ]
    },
    {
     "name": "stderr",
     "output_type": "stream",
     "text": [
      "Retrying downloads:   5%|▌         | 83/1609 [00:41<12:22,  2.05it/s]"
     ]
    },
    {
     "name": "stdout",
     "output_type": "stream",
     "text": [
      "404 Not Found: https://iiif.wellcomecollection.org/presentation/b12948603\n"
     ]
    },
    {
     "name": "stderr",
     "output_type": "stream",
     "text": [
      "Retrying downloads:   5%|▌         | 84/1609 [00:41<12:21,  2.06it/s]"
     ]
    },
    {
     "name": "stdout",
     "output_type": "stream",
     "text": [
      "404 Not Found: https://iiif.wellcomecollection.org/presentation/b12206866\n"
     ]
    },
    {
     "name": "stderr",
     "output_type": "stream",
     "text": [
      "Retrying downloads:   5%|▌         | 85/1609 [00:42<12:31,  2.03it/s]"
     ]
    },
    {
     "name": "stdout",
     "output_type": "stream",
     "text": [
      "404 Not Found: https://iiif.wellcomecollection.org/presentation/b11143666\n"
     ]
    },
    {
     "name": "stderr",
     "output_type": "stream",
     "text": [
      "Retrying downloads:   5%|▌         | 86/1609 [00:42<12:28,  2.04it/s]"
     ]
    },
    {
     "name": "stdout",
     "output_type": "stream",
     "text": [
      "404 Not Found: https://iiif.wellcomecollection.org/presentation/b12201030\n"
     ]
    },
    {
     "name": "stderr",
     "output_type": "stream",
     "text": [
      "Retrying downloads:   5%|▌         | 87/1609 [00:43<12:37,  2.01it/s]"
     ]
    },
    {
     "name": "stdout",
     "output_type": "stream",
     "text": [
      "404 Not Found: https://iiif.wellcomecollection.org/presentation/b13251065\n"
     ]
    },
    {
     "name": "stderr",
     "output_type": "stream",
     "text": [
      "Retrying downloads:   5%|▌         | 88/1609 [00:43<13:38,  1.86it/s]"
     ]
    },
    {
     "name": "stdout",
     "output_type": "stream",
     "text": [
      "404 Not Found: https://iiif.wellcomecollection.org/presentation/b11145250\n"
     ]
    },
    {
     "name": "stderr",
     "output_type": "stream",
     "text": [
      "Retrying downloads:   6%|▌         | 89/1609 [00:44<13:31,  1.87it/s]"
     ]
    },
    {
     "name": "stdout",
     "output_type": "stream",
     "text": [
      "404 Not Found: https://iiif.wellcomecollection.org/presentation/b13141119\n"
     ]
    },
    {
     "name": "stderr",
     "output_type": "stream",
     "text": [
      "Retrying downloads:   6%|▌         | 90/1609 [00:44<13:00,  1.95it/s]"
     ]
    },
    {
     "name": "stdout",
     "output_type": "stream",
     "text": [
      "404 Not Found: https://iiif.wellcomecollection.org/presentation/b14566503\n"
     ]
    },
    {
     "name": "stderr",
     "output_type": "stream",
     "text": [
      "Retrying downloads:   6%|▌         | 91/1609 [00:45<12:51,  1.97it/s]"
     ]
    },
    {
     "name": "stdout",
     "output_type": "stream",
     "text": [
      "404 Not Found: https://iiif.wellcomecollection.org/presentation/b10326595\n"
     ]
    },
    {
     "name": "stderr",
     "output_type": "stream",
     "text": [
      "Retrying downloads:   6%|▌         | 92/1609 [00:45<12:58,  1.95it/s]"
     ]
    },
    {
     "name": "stdout",
     "output_type": "stream",
     "text": [
      "404 Not Found: https://iiif.wellcomecollection.org/presentation/b10615349\n"
     ]
    },
    {
     "name": "stderr",
     "output_type": "stream",
     "text": [
      "Retrying downloads:   6%|▌         | 93/1609 [00:46<12:47,  1.98it/s]"
     ]
    },
    {
     "name": "stdout",
     "output_type": "stream",
     "text": [
      "404 Not Found: https://iiif.wellcomecollection.org/presentation/b1029644x\n"
     ]
    },
    {
     "name": "stderr",
     "output_type": "stream",
     "text": [
      "Retrying downloads:   6%|▌         | 94/1609 [00:46<12:45,  1.98it/s]"
     ]
    },
    {
     "name": "stdout",
     "output_type": "stream",
     "text": [
      "404 Not Found: https://iiif.wellcomecollection.org/presentation/b11137654\n"
     ]
    },
    {
     "name": "stderr",
     "output_type": "stream",
     "text": [
      "Retrying downloads:   6%|▌         | 95/1609 [00:47<12:26,  2.03it/s]"
     ]
    },
    {
     "name": "stdout",
     "output_type": "stream",
     "text": [
      "404 Not Found: https://iiif.wellcomecollection.org/presentation/b12974663\n"
     ]
    },
    {
     "name": "stderr",
     "output_type": "stream",
     "text": [
      "Retrying downloads:   6%|▌         | 96/1609 [00:47<12:36,  2.00it/s]"
     ]
    },
    {
     "name": "stdout",
     "output_type": "stream",
     "text": [
      "404 Not Found: https://iiif.wellcomecollection.org/presentation/b12955619\n"
     ]
    },
    {
     "name": "stderr",
     "output_type": "stream",
     "text": [
      "Retrying downloads:   6%|▌         | 97/1609 [00:48<12:40,  1.99it/s]"
     ]
    },
    {
     "name": "stdout",
     "output_type": "stream",
     "text": [
      "404 Not Found: https://iiif.wellcomecollection.org/presentation/b14563551\n"
     ]
    },
    {
     "name": "stderr",
     "output_type": "stream",
     "text": [
      "Retrying downloads:   6%|▌         | 98/1609 [00:48<12:52,  1.96it/s]"
     ]
    },
    {
     "name": "stdout",
     "output_type": "stream",
     "text": [
      "404 Not Found: https://iiif.wellcomecollection.org/presentation/b14572916\n"
     ]
    },
    {
     "name": "stderr",
     "output_type": "stream",
     "text": [
      "Retrying downloads:   6%|▌         | 99/1609 [00:49<12:59,  1.94it/s]"
     ]
    },
    {
     "name": "stdout",
     "output_type": "stream",
     "text": [
      "404 Not Found: https://iiif.wellcomecollection.org/presentation/b10336813\n"
     ]
    },
    {
     "name": "stderr",
     "output_type": "stream",
     "text": [
      "Retrying downloads:   6%|▌         | 100/1609 [00:49<13:25,  1.87it/s]"
     ]
    },
    {
     "name": "stdout",
     "output_type": "stream",
     "text": [
      "404 Not Found: https://iiif.wellcomecollection.org/presentation/b10702192\n"
     ]
    },
    {
     "name": "stderr",
     "output_type": "stream",
     "text": [
      "Retrying downloads:   6%|▋         | 101/1609 [00:50<13:29,  1.86it/s]"
     ]
    },
    {
     "name": "stdout",
     "output_type": "stream",
     "text": [
      "404 Not Found: https://iiif.wellcomecollection.org/presentation/b12063526\n"
     ]
    },
    {
     "name": "stderr",
     "output_type": "stream",
     "text": [
      "Retrying downloads:   6%|▋         | 102/1609 [00:50<13:08,  1.91it/s]"
     ]
    },
    {
     "name": "stdout",
     "output_type": "stream",
     "text": [
      "404 Not Found: https://iiif.wellcomecollection.org/presentation/b10327204\n"
     ]
    },
    {
     "name": "stderr",
     "output_type": "stream",
     "text": [
      "Retrying downloads:   6%|▋         | 103/1609 [00:51<12:51,  1.95it/s]"
     ]
    },
    {
     "name": "stdout",
     "output_type": "stream",
     "text": [
      "404 Not Found: https://iiif.wellcomecollection.org/presentation/b12179619\n"
     ]
    },
    {
     "name": "stderr",
     "output_type": "stream",
     "text": [
      "Retrying downloads:   6%|▋         | 104/1609 [00:51<12:41,  1.98it/s]"
     ]
    },
    {
     "name": "stdout",
     "output_type": "stream",
     "text": [
      "404 Not Found: https://iiif.wellcomecollection.org/presentation/b11481675\n"
     ]
    },
    {
     "name": "stderr",
     "output_type": "stream",
     "text": [
      "Retrying downloads:   7%|▋         | 105/1609 [00:52<12:27,  2.01it/s]"
     ]
    },
    {
     "name": "stdout",
     "output_type": "stream",
     "text": [
      "404 Not Found: https://iiif.wellcomecollection.org/presentation/b12822966\n"
     ]
    },
    {
     "name": "stderr",
     "output_type": "stream",
     "text": [
      "Retrying downloads:   7%|▋         | 106/1609 [00:52<12:27,  2.01it/s]"
     ]
    },
    {
     "name": "stdout",
     "output_type": "stream",
     "text": [
      "404 Not Found: https://iiif.wellcomecollection.org/presentation/b10916696\n"
     ]
    },
    {
     "name": "stderr",
     "output_type": "stream",
     "text": [
      "Retrying downloads:   7%|▋         | 107/1609 [00:53<12:16,  2.04it/s]"
     ]
    },
    {
     "name": "stdout",
     "output_type": "stream",
     "text": [
      "404 Not Found: https://iiif.wellcomecollection.org/presentation/b14577860\n"
     ]
    },
    {
     "name": "stderr",
     "output_type": "stream",
     "text": [
      "Retrying downloads:   7%|▋         | 108/1609 [00:53<12:01,  2.08it/s]"
     ]
    },
    {
     "name": "stdout",
     "output_type": "stream",
     "text": [
      "404 Not Found: https://iiif.wellcomecollection.org/presentation/b11483519\n"
     ]
    },
    {
     "name": "stderr",
     "output_type": "stream",
     "text": [
      "Retrying downloads:   7%|▋         | 109/1609 [00:54<12:18,  2.03it/s]"
     ]
    },
    {
     "name": "stdout",
     "output_type": "stream",
     "text": [
      "404 Not Found: https://iiif.wellcomecollection.org/presentation/b12992744\n"
     ]
    },
    {
     "name": "stderr",
     "output_type": "stream",
     "text": [
      "Retrying downloads:   7%|▋         | 110/1609 [00:54<12:57,  1.93it/s]"
     ]
    },
    {
     "name": "stdout",
     "output_type": "stream",
     "text": [
      "404 Not Found: https://iiif.wellcomecollection.org/presentation/b10337568\n"
     ]
    },
    {
     "name": "stderr",
     "output_type": "stream",
     "text": [
      "Retrying downloads:   7%|▋         | 111/1609 [00:55<12:42,  1.96it/s]"
     ]
    },
    {
     "name": "stdout",
     "output_type": "stream",
     "text": [
      "404 Not Found: https://iiif.wellcomecollection.org/presentation/b14566606\n"
     ]
    },
    {
     "name": "stderr",
     "output_type": "stream",
     "text": [
      "Retrying downloads:   7%|▋         | 112/1609 [00:55<12:26,  2.00it/s]"
     ]
    },
    {
     "name": "stdout",
     "output_type": "stream",
     "text": [
      "404 Not Found: https://iiif.wellcomecollection.org/presentation/b10110173\n"
     ]
    },
    {
     "name": "stderr",
     "output_type": "stream",
     "text": [
      "Retrying downloads:   7%|▋         | 113/1609 [00:56<12:18,  2.03it/s]"
     ]
    },
    {
     "name": "stdout",
     "output_type": "stream",
     "text": [
      "404 Not Found: https://iiif.wellcomecollection.org/presentation/b11149231\n"
     ]
    },
    {
     "name": "stderr",
     "output_type": "stream",
     "text": [
      "Retrying downloads:   7%|▋         | 114/1609 [00:56<13:06,  1.90it/s]"
     ]
    },
    {
     "name": "stdout",
     "output_type": "stream",
     "text": [
      "404 Not Found: https://iiif.wellcomecollection.org/presentation/b12671137\n"
     ]
    },
    {
     "name": "stderr",
     "output_type": "stream",
     "text": [
      "Retrying downloads:   7%|▋         | 115/1609 [00:57<12:54,  1.93it/s]"
     ]
    },
    {
     "name": "stdout",
     "output_type": "stream",
     "text": [
      "404 Not Found: https://iiif.wellcomecollection.org/presentation/b1062773x\n"
     ]
    },
    {
     "name": "stderr",
     "output_type": "stream",
     "text": [
      "Retrying downloads:   7%|▋         | 116/1609 [00:57<12:36,  1.97it/s]"
     ]
    },
    {
     "name": "stdout",
     "output_type": "stream",
     "text": [
      "404 Not Found: https://iiif.wellcomecollection.org/presentation/b11573879\n"
     ]
    },
    {
     "name": "stderr",
     "output_type": "stream",
     "text": [
      "Retrying downloads:   7%|▋         | 117/1609 [00:58<12:49,  1.94it/s]"
     ]
    },
    {
     "name": "stdout",
     "output_type": "stream",
     "text": [
      "404 Not Found: https://iiif.wellcomecollection.org/presentation/b10109201\n"
     ]
    },
    {
     "name": "stderr",
     "output_type": "stream",
     "text": [
      "Retrying downloads:   7%|▋         | 118/1609 [00:58<12:52,  1.93it/s]"
     ]
    },
    {
     "name": "stdout",
     "output_type": "stream",
     "text": [
      "404 Not Found: https://iiif.wellcomecollection.org/presentation/b12063435\n"
     ]
    },
    {
     "name": "stderr",
     "output_type": "stream",
     "text": [
      "Retrying downloads:   7%|▋         | 119/1609 [00:59<12:29,  1.99it/s]"
     ]
    },
    {
     "name": "stdout",
     "output_type": "stream",
     "text": [
      "404 Not Found: https://iiif.wellcomecollection.org/presentation/b11060426\n"
     ]
    },
    {
     "name": "stderr",
     "output_type": "stream",
     "text": [
      "Retrying downloads:   7%|▋         | 120/1609 [00:59<13:04,  1.90it/s]"
     ]
    },
    {
     "name": "stdout",
     "output_type": "stream",
     "text": [
      "404 Not Found: https://iiif.wellcomecollection.org/presentation/b10109365\n"
     ]
    },
    {
     "name": "stderr",
     "output_type": "stream",
     "text": [
      "Retrying downloads:   8%|▊         | 121/1609 [01:00<12:54,  1.92it/s]"
     ]
    },
    {
     "name": "stdout",
     "output_type": "stream",
     "text": [
      "404 Not Found: https://iiif.wellcomecollection.org/presentation/b11522884\n"
     ]
    },
    {
     "name": "stderr",
     "output_type": "stream",
     "text": [
      "Retrying downloads:   8%|▊         | 122/1609 [01:00<12:46,  1.94it/s]"
     ]
    },
    {
     "name": "stdout",
     "output_type": "stream",
     "text": [
      "404 Not Found: https://iiif.wellcomecollection.org/presentation/b11149942\n"
     ]
    },
    {
     "name": "stderr",
     "output_type": "stream",
     "text": [
      "Retrying downloads:   8%|▊         | 123/1609 [01:01<12:34,  1.97it/s]"
     ]
    },
    {
     "name": "stdout",
     "output_type": "stream",
     "text": [
      "404 Not Found: https://iiif.wellcomecollection.org/presentation/b11141293\n"
     ]
    },
    {
     "name": "stderr",
     "output_type": "stream",
     "text": [
      "Retrying downloads:   8%|▊         | 124/1609 [01:01<12:16,  2.02it/s]"
     ]
    },
    {
     "name": "stdout",
     "output_type": "stream",
     "text": [
      "404 Not Found: https://iiif.wellcomecollection.org/presentation/b1455883x\n"
     ]
    },
    {
     "name": "stderr",
     "output_type": "stream",
     "text": [
      "Retrying downloads:   8%|▊         | 125/1609 [01:02<12:06,  2.04it/s]"
     ]
    },
    {
     "name": "stdout",
     "output_type": "stream",
     "text": [
      "404 Not Found: https://iiif.wellcomecollection.org/presentation/b11065850\n"
     ]
    },
    {
     "name": "stderr",
     "output_type": "stream",
     "text": [
      "Retrying downloads:   8%|▊         | 126/1609 [01:02<12:02,  2.05it/s]"
     ]
    },
    {
     "name": "stdout",
     "output_type": "stream",
     "text": [
      "404 Not Found: https://iiif.wellcomecollection.org/presentation/b11534576\n"
     ]
    },
    {
     "name": "stderr",
     "output_type": "stream",
     "text": [
      "Retrying downloads:   8%|▊         | 127/1609 [01:03<12:04,  2.04it/s]"
     ]
    },
    {
     "name": "stdout",
     "output_type": "stream",
     "text": [
      "404 Not Found: https://iiif.wellcomecollection.org/presentation/b10111505\n"
     ]
    },
    {
     "name": "stderr",
     "output_type": "stream",
     "text": [
      "Retrying downloads:   8%|▊         | 128/1609 [01:03<12:03,  2.05it/s]"
     ]
    },
    {
     "name": "stdout",
     "output_type": "stream",
     "text": [
      "404 Not Found: https://iiif.wellcomecollection.org/presentation/b11055406\n"
     ]
    },
    {
     "name": "stderr",
     "output_type": "stream",
     "text": [
      "Retrying downloads:   8%|▊         | 129/1609 [01:04<11:56,  2.07it/s]"
     ]
    },
    {
     "name": "stdout",
     "output_type": "stream",
     "text": [
      "404 Not Found: https://iiif.wellcomecollection.org/presentation/b13255277\n"
     ]
    },
    {
     "name": "stderr",
     "output_type": "stream",
     "text": [
      "Retrying downloads:   8%|▊         | 130/1609 [01:04<11:48,  2.09it/s]"
     ]
    },
    {
     "name": "stdout",
     "output_type": "stream",
     "text": [
      "404 Not Found: https://iiif.wellcomecollection.org/presentation/b11198497\n"
     ]
    },
    {
     "name": "stderr",
     "output_type": "stream",
     "text": [
      "Retrying downloads:   8%|▊         | 131/1609 [01:05<11:58,  2.06it/s]"
     ]
    },
    {
     "name": "stdout",
     "output_type": "stream",
     "text": [
      "404 Not Found: https://iiif.wellcomecollection.org/presentation/b1342287x\n"
     ]
    },
    {
     "name": "stderr",
     "output_type": "stream",
     "text": [
      "Retrying downloads:   8%|▊         | 132/1609 [01:05<11:57,  2.06it/s]"
     ]
    },
    {
     "name": "stdout",
     "output_type": "stream",
     "text": [
      "404 Not Found: https://iiif.wellcomecollection.org/presentation/b14582648\n"
     ]
    },
    {
     "name": "stderr",
     "output_type": "stream",
     "text": [
      "Retrying downloads:   8%|▊         | 133/1609 [01:06<11:43,  2.10it/s]"
     ]
    },
    {
     "name": "stdout",
     "output_type": "stream",
     "text": [
      "404 Not Found: https://iiif.wellcomecollection.org/presentation/b10764768\n"
     ]
    },
    {
     "name": "stderr",
     "output_type": "stream",
     "text": [
      "Retrying downloads:   8%|▊         | 134/1609 [01:06<11:40,  2.11it/s]"
     ]
    },
    {
     "name": "stdout",
     "output_type": "stream",
     "text": [
      "404 Not Found: https://iiif.wellcomecollection.org/presentation/b10865998\n"
     ]
    },
    {
     "name": "stderr",
     "output_type": "stream",
     "text": [
      "Retrying downloads:   8%|▊         | 135/1609 [01:07<11:43,  2.09it/s]"
     ]
    },
    {
     "name": "stdout",
     "output_type": "stream",
     "text": [
      "404 Not Found: https://iiif.wellcomecollection.org/presentation/b32843318\n"
     ]
    },
    {
     "name": "stderr",
     "output_type": "stream",
     "text": [
      "Retrying downloads:   8%|▊         | 136/1609 [01:07<11:38,  2.11it/s]"
     ]
    },
    {
     "name": "stdout",
     "output_type": "stream",
     "text": [
      "404 Not Found: https://iiif.wellcomecollection.org/presentation/b10882091\n"
     ]
    },
    {
     "name": "stderr",
     "output_type": "stream",
     "text": [
      "Retrying downloads:   9%|▊         | 137/1609 [01:08<11:45,  2.09it/s]"
     ]
    },
    {
     "name": "stdout",
     "output_type": "stream",
     "text": [
      "404 Not Found: https://iiif.wellcomecollection.org/presentation/b12207123\n"
     ]
    },
    {
     "name": "stderr",
     "output_type": "stream",
     "text": [
      "Retrying downloads:   9%|▊         | 138/1609 [01:08<11:49,  2.07it/s]"
     ]
    },
    {
     "name": "stdout",
     "output_type": "stream",
     "text": [
      "404 Not Found: https://iiif.wellcomecollection.org/presentation/b14577069\n"
     ]
    },
    {
     "name": "stderr",
     "output_type": "stream",
     "text": [
      "Retrying downloads:   9%|▊         | 139/1609 [01:09<11:59,  2.04it/s]"
     ]
    },
    {
     "name": "stdout",
     "output_type": "stream",
     "text": [
      "404 Not Found: https://iiif.wellcomecollection.org/presentation/b12953544\n"
     ]
    },
    {
     "name": "stderr",
     "output_type": "stream",
     "text": [
      "Retrying downloads:   9%|▊         | 140/1609 [01:09<12:23,  1.97it/s]"
     ]
    },
    {
     "name": "stdout",
     "output_type": "stream",
     "text": [
      "404 Not Found: https://iiif.wellcomecollection.org/presentation/b11142868\n"
     ]
    },
    {
     "name": "stderr",
     "output_type": "stream",
     "text": [
      "Retrying downloads:   9%|▉         | 141/1609 [01:10<12:16,  1.99it/s]"
     ]
    },
    {
     "name": "stdout",
     "output_type": "stream",
     "text": [
      "404 Not Found: https://iiif.wellcomecollection.org/presentation/b12207731\n"
     ]
    },
    {
     "name": "stderr",
     "output_type": "stream",
     "text": [
      "Retrying downloads:   9%|▉         | 142/1609 [01:10<12:18,  1.99it/s]"
     ]
    },
    {
     "name": "stdout",
     "output_type": "stream",
     "text": [
      "404 Not Found: https://iiif.wellcomecollection.org/presentation/b11059862\n"
     ]
    },
    {
     "name": "stderr",
     "output_type": "stream",
     "text": [
      "Retrying downloads:   9%|▉         | 143/1609 [01:10<10:21,  2.36it/s]"
     ]
    },
    {
     "name": "stdout",
     "output_type": "stream",
     "text": [
      "404 Not Found: https://iiif.wellcomecollection.org/presentation/b11197638\n"
     ]
    },
    {
     "name": "stderr",
     "output_type": "stream",
     "text": [
      "Retrying downloads:   9%|▉         | 144/1609 [01:11<10:50,  2.25it/s]"
     ]
    },
    {
     "name": "stdout",
     "output_type": "stream",
     "text": [
      "404 Not Found: https://iiif.wellcomecollection.org/presentation/b10481618\n"
     ]
    },
    {
     "name": "stderr",
     "output_type": "stream",
     "text": [
      "Retrying downloads:   9%|▉         | 145/1609 [01:11<11:31,  2.12it/s]"
     ]
    },
    {
     "name": "stdout",
     "output_type": "stream",
     "text": [
      "404 Not Found: https://iiif.wellcomecollection.org/presentation/b11574550\n"
     ]
    },
    {
     "name": "stderr",
     "output_type": "stream",
     "text": [
      "Retrying downloads:   9%|▉         | 146/1609 [01:12<11:35,  2.10it/s]"
     ]
    },
    {
     "name": "stdout",
     "output_type": "stream",
     "text": [
      "404 Not Found: https://iiif.wellcomecollection.org/presentation/b11195836\n"
     ]
    },
    {
     "name": "stderr",
     "output_type": "stream",
     "text": [
      "Retrying downloads:   9%|▉         | 147/1609 [01:12<11:33,  2.11it/s]"
     ]
    },
    {
     "name": "stdout",
     "output_type": "stream",
     "text": [
      "404 Not Found: https://iiif.wellcomecollection.org/presentation/b10916660\n"
     ]
    },
    {
     "name": "stderr",
     "output_type": "stream",
     "text": [
      "Retrying downloads:   9%|▉         | 148/1609 [01:13<11:33,  2.11it/s]"
     ]
    },
    {
     "name": "stdout",
     "output_type": "stream",
     "text": [
      "404 Not Found: https://iiif.wellcomecollection.org/presentation/b10932847\n"
     ]
    },
    {
     "name": "stderr",
     "output_type": "stream",
     "text": [
      "Retrying downloads:   9%|▉         | 149/1609 [01:13<11:41,  2.08it/s]"
     ]
    },
    {
     "name": "stdout",
     "output_type": "stream",
     "text": [
      "404 Not Found: https://iiif.wellcomecollection.org/presentation/b10626980\n"
     ]
    },
    {
     "name": "stderr",
     "output_type": "stream",
     "text": [
      "Retrying downloads:   9%|▉         | 150/1609 [01:14<11:41,  2.08it/s]"
     ]
    },
    {
     "name": "stdout",
     "output_type": "stream",
     "text": [
      "404 Not Found: https://iiif.wellcomecollection.org/presentation/b12826224\n"
     ]
    },
    {
     "name": "stderr",
     "output_type": "stream",
     "text": [
      "Retrying downloads:   9%|▉         | 151/1609 [01:14<11:47,  2.06it/s]"
     ]
    },
    {
     "name": "stdout",
     "output_type": "stream",
     "text": [
      "404 Not Found: https://iiif.wellcomecollection.org/presentation/b11484238\n"
     ]
    },
    {
     "name": "stderr",
     "output_type": "stream",
     "text": [
      "Retrying downloads:   9%|▉         | 152/1609 [01:15<11:51,  2.05it/s]"
     ]
    },
    {
     "name": "stdout",
     "output_type": "stream",
     "text": [
      "404 Not Found: https://iiif.wellcomecollection.org/presentation/b10468936\n"
     ]
    },
    {
     "name": "stderr",
     "output_type": "stream",
     "text": [
      "Retrying downloads:  10%|▉         | 153/1609 [01:15<11:38,  2.08it/s]"
     ]
    },
    {
     "name": "stdout",
     "output_type": "stream",
     "text": [
      "404 Not Found: https://iiif.wellcomecollection.org/presentation/b10700031\n"
     ]
    },
    {
     "name": "stderr",
     "output_type": "stream",
     "text": [
      "Retrying downloads:  10%|▉         | 154/1609 [01:16<11:54,  2.04it/s]"
     ]
    },
    {
     "name": "stdout",
     "output_type": "stream",
     "text": [
      "404 Not Found: https://iiif.wellcomecollection.org/presentation/b10616664\n"
     ]
    },
    {
     "name": "stderr",
     "output_type": "stream",
     "text": [
      "Retrying downloads:  10%|▉         | 155/1609 [01:16<12:24,  1.95it/s]"
     ]
    },
    {
     "name": "stdout",
     "output_type": "stream",
     "text": [
      "404 Not Found: https://iiif.wellcomecollection.org/presentation/b10277663\n"
     ]
    },
    {
     "name": "stderr",
     "output_type": "stream",
     "text": [
      "Retrying downloads:  10%|▉         | 156/1609 [01:17<12:38,  1.91it/s]"
     ]
    },
    {
     "name": "stdout",
     "output_type": "stream",
     "text": [
      "404 Not Found: https://iiif.wellcomecollection.org/presentation/b11199908\n"
     ]
    },
    {
     "name": "stderr",
     "output_type": "stream",
     "text": [
      "Retrying downloads:  10%|▉         | 157/1609 [01:17<12:15,  1.97it/s]"
     ]
    },
    {
     "name": "stdout",
     "output_type": "stream",
     "text": [
      "404 Not Found: https://iiif.wellcomecollection.org/presentation/b10327216\n"
     ]
    },
    {
     "name": "stderr",
     "output_type": "stream",
     "text": [
      "Retrying downloads:  10%|▉         | 158/1609 [01:18<12:08,  1.99it/s]"
     ]
    },
    {
     "name": "stdout",
     "output_type": "stream",
     "text": [
      "404 Not Found: https://iiif.wellcomecollection.org/presentation/b10109110\n"
     ]
    },
    {
     "name": "stderr",
     "output_type": "stream",
     "text": [
      "Retrying downloads:  10%|▉         | 159/1609 [01:18<12:02,  2.01it/s]"
     ]
    },
    {
     "name": "stdout",
     "output_type": "stream",
     "text": [
      "404 Not Found: https://iiif.wellcomecollection.org/presentation/b32854456\n"
     ]
    },
    {
     "name": "stderr",
     "output_type": "stream",
     "text": [
      "Retrying downloads:  10%|▉         | 160/1609 [01:19<11:59,  2.01it/s]"
     ]
    },
    {
     "name": "stdout",
     "output_type": "stream",
     "text": [
      "404 Not Found: https://iiif.wellcomecollection.org/presentation/b11060414\n"
     ]
    },
    {
     "name": "stderr",
     "output_type": "stream",
     "text": [
      "Retrying downloads:  10%|█         | 161/1609 [01:19<12:02,  2.00it/s]"
     ]
    },
    {
     "name": "stdout",
     "output_type": "stream",
     "text": [
      "404 Not Found: https://iiif.wellcomecollection.org/presentation/b10107046\n"
     ]
    },
    {
     "name": "stderr",
     "output_type": "stream",
     "text": [
      "Retrying downloads:  10%|█         | 162/1609 [01:20<12:00,  2.01it/s]"
     ]
    },
    {
     "name": "stdout",
     "output_type": "stream",
     "text": [
      "404 Not Found: https://iiif.wellcomecollection.org/presentation/b14584050\n"
     ]
    },
    {
     "name": "stderr",
     "output_type": "stream",
     "text": [
      "Retrying downloads:  10%|█         | 163/1609 [01:20<12:01,  2.00it/s]"
     ]
    },
    {
     "name": "stdout",
     "output_type": "stream",
     "text": [
      "404 Not Found: https://iiif.wellcomecollection.org/presentation/b12847148\n"
     ]
    },
    {
     "name": "stderr",
     "output_type": "stream",
     "text": [
      "Retrying downloads:  10%|█         | 164/1609 [01:21<11:50,  2.03it/s]"
     ]
    },
    {
     "name": "stdout",
     "output_type": "stream",
     "text": [
      "404 Not Found: https://iiif.wellcomecollection.org/presentation/b11260142\n"
     ]
    },
    {
     "name": "stderr",
     "output_type": "stream",
     "text": [
      "Retrying downloads:  10%|█         | 165/1609 [01:21<12:38,  1.90it/s]"
     ]
    },
    {
     "name": "stdout",
     "output_type": "stream",
     "text": [
      "404 Not Found: https://iiif.wellcomecollection.org/presentation/b17542273\n"
     ]
    },
    {
     "name": "stderr",
     "output_type": "stream",
     "text": [
      "Retrying downloads:  10%|█         | 166/1609 [01:22<12:18,  1.95it/s]"
     ]
    },
    {
     "name": "stdout",
     "output_type": "stream",
     "text": [
      "404 Not Found: https://iiif.wellcomecollection.org/presentation/b14561219\n"
     ]
    },
    {
     "name": "stderr",
     "output_type": "stream",
     "text": [
      "Retrying downloads:  10%|█         | 167/1609 [01:22<12:02,  2.00it/s]"
     ]
    },
    {
     "name": "stdout",
     "output_type": "stream",
     "text": [
      "404 Not Found: https://iiif.wellcomecollection.org/presentation/b12954548\n"
     ]
    },
    {
     "name": "stderr",
     "output_type": "stream",
     "text": [
      "Retrying downloads:  10%|█         | 168/1609 [01:23<12:46,  1.88it/s]"
     ]
    },
    {
     "name": "stdout",
     "output_type": "stream",
     "text": [
      "404 Not Found: https://iiif.wellcomecollection.org/presentation/b17558426\n"
     ]
    },
    {
     "name": "stderr",
     "output_type": "stream",
     "text": [
      "Retrying downloads:  11%|█         | 169/1609 [01:24<12:23,  1.94it/s]"
     ]
    },
    {
     "name": "stdout",
     "output_type": "stream",
     "text": [
      "404 Not Found: https://iiif.wellcomecollection.org/presentation/b17550944\n"
     ]
    },
    {
     "name": "stderr",
     "output_type": "stream",
     "text": [
      "Retrying downloads:  11%|█         | 170/1609 [01:24<12:08,  1.98it/s]"
     ]
    },
    {
     "name": "stdout",
     "output_type": "stream",
     "text": [
      "404 Not Found: https://iiif.wellcomecollection.org/presentation/b10112753\n"
     ]
    },
    {
     "name": "stderr",
     "output_type": "stream",
     "text": [
      "Retrying downloads:  11%|█         | 171/1609 [01:24<11:54,  2.01it/s]"
     ]
    },
    {
     "name": "stdout",
     "output_type": "stream",
     "text": [
      "404 Not Found: https://iiif.wellcomecollection.org/presentation/b12205266\n"
     ]
    },
    {
     "name": "stderr",
     "output_type": "stream",
     "text": [
      "Retrying downloads:  11%|█         | 172/1609 [01:25<11:39,  2.05it/s]"
     ]
    },
    {
     "name": "stdout",
     "output_type": "stream",
     "text": [
      "404 Not Found: https://iiif.wellcomecollection.org/presentation/b12946771\n"
     ]
    },
    {
     "name": "stderr",
     "output_type": "stream",
     "text": [
      "Retrying downloads:  11%|█         | 173/1609 [01:25<11:46,  2.03it/s]"
     ]
    },
    {
     "name": "stdout",
     "output_type": "stream",
     "text": [
      "404 Not Found: https://iiif.wellcomecollection.org/presentation/b11055893\n"
     ]
    },
    {
     "name": "stderr",
     "output_type": "stream",
     "text": [
      "Retrying downloads:  11%|█         | 174/1609 [01:26<11:40,  2.05it/s]"
     ]
    },
    {
     "name": "stdout",
     "output_type": "stream",
     "text": [
      "404 Not Found: https://iiif.wellcomecollection.org/presentation/b13148886\n"
     ]
    },
    {
     "name": "stderr",
     "output_type": "stream",
     "text": [
      "Retrying downloads:  11%|█         | 175/1609 [01:26<12:01,  1.99it/s]"
     ]
    },
    {
     "name": "stdout",
     "output_type": "stream",
     "text": [
      "404 Not Found: https://iiif.wellcomecollection.org/presentation/b10777209\n"
     ]
    },
    {
     "name": "stderr",
     "output_type": "stream",
     "text": [
      "Retrying downloads:  11%|█         | 176/1609 [01:27<11:53,  2.01it/s]"
     ]
    },
    {
     "name": "stdout",
     "output_type": "stream",
     "text": [
      "404 Not Found: https://iiif.wellcomecollection.org/presentation/b11217807\n"
     ]
    },
    {
     "name": "stderr",
     "output_type": "stream",
     "text": [
      "Retrying downloads:  11%|█         | 177/1609 [01:27<11:32,  2.07it/s]"
     ]
    },
    {
     "name": "stdout",
     "output_type": "stream",
     "text": [
      "404 Not Found: https://iiif.wellcomecollection.org/presentation/b12954184\n"
     ]
    },
    {
     "name": "stderr",
     "output_type": "stream",
     "text": [
      "Retrying downloads:  11%|█         | 178/1609 [01:28<11:21,  2.10it/s]"
     ]
    },
    {
     "name": "stdout",
     "output_type": "stream",
     "text": [
      "404 Not Found: https://iiif.wellcomecollection.org/presentation/b12975205\n"
     ]
    },
    {
     "name": "stderr",
     "output_type": "stream",
     "text": [
      "Retrying downloads:  11%|█         | 179/1609 [01:28<11:23,  2.09it/s]"
     ]
    },
    {
     "name": "stdout",
     "output_type": "stream",
     "text": [
      "404 Not Found: https://iiif.wellcomecollection.org/presentation/b14563101\n"
     ]
    },
    {
     "name": "stderr",
     "output_type": "stream",
     "text": [
      "Retrying downloads:  11%|█         | 180/1609 [01:29<11:23,  2.09it/s]"
     ]
    },
    {
     "name": "stdout",
     "output_type": "stream",
     "text": [
      "404 Not Found: https://iiif.wellcomecollection.org/presentation/b32774357\n"
     ]
    },
    {
     "name": "stderr",
     "output_type": "stream",
     "text": [
      "Retrying downloads:  11%|█         | 181/1609 [01:29<11:19,  2.10it/s]"
     ]
    },
    {
     "name": "stdout",
     "output_type": "stream",
     "text": [
      "404 Not Found: https://iiif.wellcomecollection.org/presentation/b12205321\n"
     ]
    },
    {
     "name": "stderr",
     "output_type": "stream",
     "text": [
      "Retrying downloads:  11%|█▏        | 182/1609 [01:30<11:14,  2.11it/s]"
     ]
    },
    {
     "name": "stdout",
     "output_type": "stream",
     "text": [
      "404 Not Found: https://iiif.wellcomecollection.org/presentation/b11056666\n"
     ]
    },
    {
     "name": "stderr",
     "output_type": "stream",
     "text": [
      "Retrying downloads:  11%|█▏        | 183/1609 [01:30<11:24,  2.08it/s]"
     ]
    },
    {
     "name": "stdout",
     "output_type": "stream",
     "text": [
      "404 Not Found: https://iiif.wellcomecollection.org/presentation/b10002881\n"
     ]
    },
    {
     "name": "stderr",
     "output_type": "stream",
     "text": [
      "Retrying downloads:  11%|█▏        | 184/1609 [01:31<11:23,  2.09it/s]"
     ]
    },
    {
     "name": "stdout",
     "output_type": "stream",
     "text": [
      "404 Not Found: https://iiif.wellcomecollection.org/presentation/b1342239x\n"
     ]
    },
    {
     "name": "stderr",
     "output_type": "stream",
     "text": [
      "Retrying downloads:  11%|█▏        | 185/1609 [01:31<11:19,  2.10it/s]"
     ]
    },
    {
     "name": "stdout",
     "output_type": "stream",
     "text": [
      "404 Not Found: https://iiif.wellcomecollection.org/presentation/b14585339\n"
     ]
    },
    {
     "name": "stderr",
     "output_type": "stream",
     "text": [
      "Retrying downloads:  12%|█▏        | 186/1609 [01:32<11:24,  2.08it/s]"
     ]
    },
    {
     "name": "stdout",
     "output_type": "stream",
     "text": [
      "404 Not Found: https://iiif.wellcomecollection.org/presentation/b12835912\n"
     ]
    },
    {
     "name": "stderr",
     "output_type": "stream",
     "text": [
      "Retrying downloads:  12%|█▏        | 187/1609 [01:32<11:26,  2.07it/s]"
     ]
    },
    {
     "name": "stdout",
     "output_type": "stream",
     "text": [
      "404 Not Found: https://iiif.wellcomecollection.org/presentation/b11030173\n"
     ]
    },
    {
     "name": "stderr",
     "output_type": "stream",
     "text": [
      "Retrying downloads:  12%|█▏        | 188/1609 [01:33<11:41,  2.03it/s]"
     ]
    },
    {
     "name": "stdout",
     "output_type": "stream",
     "text": [
      "404 Not Found: https://iiif.wellcomecollection.org/presentation/b14564993\n"
     ]
    },
    {
     "name": "stderr",
     "output_type": "stream",
     "text": [
      "Retrying downloads:  12%|█▏        | 189/1609 [01:33<11:36,  2.04it/s]"
     ]
    },
    {
     "name": "stdout",
     "output_type": "stream",
     "text": [
      "404 Not Found: https://iiif.wellcomecollection.org/presentation/b12063162\n"
     ]
    },
    {
     "name": "stderr",
     "output_type": "stream",
     "text": [
      "Retrying downloads:  12%|█▏        | 190/1609 [01:34<11:36,  2.04it/s]"
     ]
    },
    {
     "name": "stdout",
     "output_type": "stream",
     "text": [
      "404 Not Found: https://iiif.wellcomecollection.org/presentation/b12166182\n"
     ]
    },
    {
     "name": "stderr",
     "output_type": "stream",
     "text": [
      "Retrying downloads:  12%|█▏        | 191/1609 [01:34<11:26,  2.06it/s]"
     ]
    },
    {
     "name": "stdout",
     "output_type": "stream",
     "text": [
      "404 Not Found: https://iiif.wellcomecollection.org/presentation/b12947970\n"
     ]
    },
    {
     "name": "stderr",
     "output_type": "stream",
     "text": [
      "Retrying downloads:  12%|█▏        | 192/1609 [01:35<11:31,  2.05it/s]"
     ]
    },
    {
     "name": "stdout",
     "output_type": "stream",
     "text": [
      "404 Not Found: https://iiif.wellcomecollection.org/presentation/b10401258\n"
     ]
    },
    {
     "name": "stderr",
     "output_type": "stream",
     "text": [
      "Retrying downloads:  12%|█▏        | 193/1609 [01:35<11:17,  2.09it/s]"
     ]
    },
    {
     "name": "stdout",
     "output_type": "stream",
     "text": [
      "404 Not Found: https://iiif.wellcomecollection.org/presentation/b10109122\n"
     ]
    },
    {
     "name": "stderr",
     "output_type": "stream",
     "text": [
      "Retrying downloads:  12%|█▏        | 194/1609 [01:36<11:32,  2.04it/s]"
     ]
    },
    {
     "name": "stdout",
     "output_type": "stream",
     "text": [
      "404 Not Found: https://iiif.wellcomecollection.org/presentation/b12155093\n"
     ]
    },
    {
     "name": "stderr",
     "output_type": "stream",
     "text": [
      "Retrying downloads:  12%|█▏        | 196/1609 [01:38<20:21,  1.16it/s]"
     ]
    },
    {
     "name": "stdout",
     "output_type": "stream",
     "text": [
      "404 Not Found: https://iiif.wellcomecollection.org/presentation/b17554275\n"
     ]
    },
    {
     "name": "stderr",
     "output_type": "stream",
     "text": [
      "Retrying downloads:  12%|█▏        | 197/1609 [01:39<17:36,  1.34it/s]"
     ]
    },
    {
     "name": "stdout",
     "output_type": "stream",
     "text": [
      "404 Not Found: https://iiif.wellcomecollection.org/presentation/b11486466\n"
     ]
    },
    {
     "name": "stderr",
     "output_type": "stream",
     "text": [
      "Retrying downloads:  12%|█▏        | 198/1609 [01:39<15:57,  1.47it/s]"
     ]
    },
    {
     "name": "stdout",
     "output_type": "stream",
     "text": [
      "404 Not Found: https://iiif.wellcomecollection.org/presentation/b12163119\n"
     ]
    },
    {
     "name": "stderr",
     "output_type": "stream",
     "text": [
      "Retrying downloads:  12%|█▏        | 199/1609 [01:40<14:40,  1.60it/s]"
     ]
    },
    {
     "name": "stdout",
     "output_type": "stream",
     "text": [
      "404 Not Found: https://iiif.wellcomecollection.org/presentation/b10110409\n"
     ]
    },
    {
     "name": "stderr",
     "output_type": "stream",
     "text": [
      "Retrying downloads:  12%|█▏        | 200/1609 [01:40<13:34,  1.73it/s]"
     ]
    },
    {
     "name": "stdout",
     "output_type": "stream",
     "text": [
      "404 Not Found: https://iiif.wellcomecollection.org/presentation/b11055467\n"
     ]
    },
    {
     "name": "stderr",
     "output_type": "stream",
     "text": [
      "Retrying downloads:  12%|█▏        | 201/1609 [01:41<13:13,  1.77it/s]"
     ]
    },
    {
     "name": "stdout",
     "output_type": "stream",
     "text": [
      "404 Not Found: https://iiif.wellcomecollection.org/presentation/b10324331\n"
     ]
    },
    {
     "name": "stderr",
     "output_type": "stream",
     "text": [
      "Retrying downloads:  13%|█▎        | 202/1609 [01:41<12:38,  1.85it/s]"
     ]
    },
    {
     "name": "stdout",
     "output_type": "stream",
     "text": [
      "404 Not Found: https://iiif.wellcomecollection.org/presentation/b12181092\n"
     ]
    },
    {
     "name": "stderr",
     "output_type": "stream",
     "text": [
      "Retrying downloads:  13%|█▎        | 203/1609 [01:42<12:34,  1.86it/s]"
     ]
    },
    {
     "name": "stdout",
     "output_type": "stream",
     "text": [
      "404 Not Found: https://iiif.wellcomecollection.org/presentation/b10987988\n"
     ]
    },
    {
     "name": "stderr",
     "output_type": "stream",
     "text": [
      "Retrying downloads:  13%|█▎        | 204/1609 [01:42<12:23,  1.89it/s]"
     ]
    },
    {
     "name": "stdout",
     "output_type": "stream",
     "text": [
      "404 Not Found: https://iiif.wellcomecollection.org/presentation/b14569528\n"
     ]
    },
    {
     "name": "stderr",
     "output_type": "stream",
     "text": [
      "Retrying downloads:  13%|█▎        | 205/1609 [01:43<12:05,  1.94it/s]"
     ]
    },
    {
     "name": "stdout",
     "output_type": "stream",
     "text": [
      "404 Not Found: https://iiif.wellcomecollection.org/presentation/b11060244\n"
     ]
    },
    {
     "name": "stderr",
     "output_type": "stream",
     "text": [
      "Retrying downloads:  13%|█▎        | 206/1609 [01:43<12:03,  1.94it/s]"
     ]
    },
    {
     "name": "stdout",
     "output_type": "stream",
     "text": [
      "404 Not Found: https://iiif.wellcomecollection.org/presentation/b11145560\n"
     ]
    },
    {
     "name": "stderr",
     "output_type": "stream",
     "text": [
      "Retrying downloads:  13%|█▎        | 207/1609 [01:44<11:46,  1.98it/s]"
     ]
    },
    {
     "name": "stdout",
     "output_type": "stream",
     "text": [
      "404 Not Found: https://iiif.wellcomecollection.org/presentation/b1147693x\n"
     ]
    },
    {
     "name": "stderr",
     "output_type": "stream",
     "text": [
      "Retrying downloads:  13%|█▎        | 208/1609 [01:44<11:41,  2.00it/s]"
     ]
    },
    {
     "name": "stdout",
     "output_type": "stream",
     "text": [
      "404 Not Found: https://iiif.wellcomecollection.org/presentation/b13424014\n"
     ]
    },
    {
     "name": "stderr",
     "output_type": "stream",
     "text": [
      "Retrying downloads:  13%|█▎        | 209/1609 [01:45<11:19,  2.06it/s]"
     ]
    },
    {
     "name": "stdout",
     "output_type": "stream",
     "text": [
      "404 Not Found: https://iiif.wellcomecollection.org/presentation/b13254480\n"
     ]
    },
    {
     "name": "stderr",
     "output_type": "stream",
     "text": [
      "Retrying downloads:  13%|█▎        | 210/1609 [01:45<11:19,  2.06it/s]"
     ]
    },
    {
     "name": "stdout",
     "output_type": "stream",
     "text": [
      "404 Not Found: https://iiif.wellcomecollection.org/presentation/b11027320\n"
     ]
    },
    {
     "name": "stderr",
     "output_type": "stream",
     "text": [
      "Retrying downloads:  13%|█▎        | 211/1609 [01:46<11:19,  2.06it/s]"
     ]
    },
    {
     "name": "stdout",
     "output_type": "stream",
     "text": [
      "404 Not Found: https://iiif.wellcomecollection.org/presentation/b13254856\n"
     ]
    },
    {
     "name": "stderr",
     "output_type": "stream",
     "text": [
      "Retrying downloads:  13%|█▎        | 212/1609 [01:46<11:27,  2.03it/s]"
     ]
    },
    {
     "name": "stdout",
     "output_type": "stream",
     "text": [
      "404 Not Found: https://iiif.wellcomecollection.org/presentation/b12204948\n"
     ]
    },
    {
     "name": "stderr",
     "output_type": "stream",
     "text": [
      "Retrying downloads:  13%|█▎        | 213/1609 [01:47<11:16,  2.06it/s]"
     ]
    },
    {
     "name": "stdout",
     "output_type": "stream",
     "text": [
      "404 Not Found: https://iiif.wellcomecollection.org/presentation/b12207056\n"
     ]
    },
    {
     "name": "stderr",
     "output_type": "stream",
     "text": [
      "Retrying downloads:  13%|█▎        | 214/1609 [01:47<12:31,  1.86it/s]"
     ]
    },
    {
     "name": "stdout",
     "output_type": "stream",
     "text": [
      "404 Not Found: https://iiif.wellcomecollection.org/presentation/b12822437\n"
     ]
    },
    {
     "name": "stderr",
     "output_type": "stream",
     "text": [
      "Retrying downloads:  13%|█▎        | 215/1609 [01:48<12:01,  1.93it/s]"
     ]
    },
    {
     "name": "stdout",
     "output_type": "stream",
     "text": [
      "404 Not Found: https://iiif.wellcomecollection.org/presentation/b10223010\n"
     ]
    },
    {
     "name": "stderr",
     "output_type": "stream",
     "text": [
      "Retrying downloads:  13%|█▎        | 216/1609 [01:48<11:43,  1.98it/s]"
     ]
    },
    {
     "name": "stdout",
     "output_type": "stream",
     "text": [
      "404 Not Found: https://iiif.wellcomecollection.org/presentation/b13149052\n"
     ]
    },
    {
     "name": "stderr",
     "output_type": "stream",
     "text": [
      "Retrying downloads:  13%|█▎        | 217/1609 [01:49<11:36,  2.00it/s]"
     ]
    },
    {
     "name": "stdout",
     "output_type": "stream",
     "text": [
      "404 Not Found: https://iiif.wellcomecollection.org/presentation/b11059692\n"
     ]
    },
    {
     "name": "stderr",
     "output_type": "stream",
     "text": [
      "Retrying downloads:  14%|█▎        | 218/1609 [01:49<11:27,  2.02it/s]"
     ]
    },
    {
     "name": "stdout",
     "output_type": "stream",
     "text": [
      "404 Not Found: https://iiif.wellcomecollection.org/presentation/b13148916\n"
     ]
    },
    {
     "name": "stderr",
     "output_type": "stream",
     "text": [
      "Retrying downloads:  14%|█▎        | 219/1609 [01:50<11:10,  2.07it/s]"
     ]
    },
    {
     "name": "stdout",
     "output_type": "stream",
     "text": [
      "404 Not Found: https://iiif.wellcomecollection.org/presentation/b11056630\n"
     ]
    },
    {
     "name": "stderr",
     "output_type": "stream",
     "text": [
      "Retrying downloads:  14%|█▎        | 220/1609 [01:50<11:38,  1.99it/s]"
     ]
    },
    {
     "name": "stdout",
     "output_type": "stream",
     "text": [
      "404 Not Found: https://iiif.wellcomecollection.org/presentation/b1300993x\n"
     ]
    },
    {
     "name": "stderr",
     "output_type": "stream",
     "text": [
      "Retrying downloads:  14%|█▎        | 221/1609 [01:51<11:41,  1.98it/s]"
     ]
    },
    {
     "name": "stdout",
     "output_type": "stream",
     "text": [
      "404 Not Found: https://iiif.wellcomecollection.org/presentation/b10837073\n"
     ]
    },
    {
     "name": "stderr",
     "output_type": "stream",
     "text": [
      "Retrying downloads:  14%|█▍        | 222/1609 [01:51<11:32,  2.00it/s]"
     ]
    },
    {
     "name": "stdout",
     "output_type": "stream",
     "text": [
      "404 Not Found: https://iiif.wellcomecollection.org/presentation/b13152488\n"
     ]
    },
    {
     "name": "stderr",
     "output_type": "stream",
     "text": [
      "Retrying downloads:  14%|█▍        | 223/1609 [01:52<11:42,  1.97it/s]"
     ]
    },
    {
     "name": "stdout",
     "output_type": "stream",
     "text": [
      "404 Not Found: https://iiif.wellcomecollection.org/presentation/b1010687x\n"
     ]
    },
    {
     "name": "stderr",
     "output_type": "stream",
     "text": [
      "Retrying downloads:  14%|█▍        | 224/1609 [01:52<11:54,  1.94it/s]"
     ]
    },
    {
     "name": "stdout",
     "output_type": "stream",
     "text": [
      "404 Not Found: https://iiif.wellcomecollection.org/presentation/b13255563\n"
     ]
    },
    {
     "name": "stderr",
     "output_type": "stream",
     "text": [
      "Retrying downloads:  14%|█▍        | 225/1609 [01:53<11:40,  1.98it/s]"
     ]
    },
    {
     "name": "stdout",
     "output_type": "stream",
     "text": [
      "404 Not Found: https://iiif.wellcomecollection.org/presentation/b13136215\n"
     ]
    },
    {
     "name": "stderr",
     "output_type": "stream",
     "text": [
      "Retrying downloads:  14%|█▍        | 226/1609 [01:53<11:20,  2.03it/s]"
     ]
    },
    {
     "name": "stdout",
     "output_type": "stream",
     "text": [
      "404 Not Found: https://iiif.wellcomecollection.org/presentation/b1457391x\n"
     ]
    },
    {
     "name": "stderr",
     "output_type": "stream",
     "text": [
      "Retrying downloads:  14%|█▍        | 227/1609 [01:54<11:20,  2.03it/s]"
     ]
    },
    {
     "name": "stdout",
     "output_type": "stream",
     "text": [
      "404 Not Found: https://iiif.wellcomecollection.org/presentation/b14565869\n"
     ]
    },
    {
     "name": "stderr",
     "output_type": "stream",
     "text": [
      "Retrying downloads:  14%|█▍        | 228/1609 [01:55<12:52,  1.79it/s]"
     ]
    },
    {
     "name": "stdout",
     "output_type": "stream",
     "text": [
      "404 Not Found: https://iiif.wellcomecollection.org/presentation/b11055522\n"
     ]
    },
    {
     "name": "stderr",
     "output_type": "stream",
     "text": [
      "Retrying downloads:  14%|█▍        | 229/1609 [01:55<12:34,  1.83it/s]"
     ]
    },
    {
     "name": "stdout",
     "output_type": "stream",
     "text": [
      "404 Not Found: https://iiif.wellcomecollection.org/presentation/b1088399x\n"
     ]
    },
    {
     "name": "stderr",
     "output_type": "stream",
     "text": [
      "Retrying downloads:  14%|█▍        | 230/1609 [01:56<11:59,  1.92it/s]"
     ]
    },
    {
     "name": "stdout",
     "output_type": "stream",
     "text": [
      "404 Not Found: https://iiif.wellcomecollection.org/presentation/b12200633\n"
     ]
    },
    {
     "name": "stderr",
     "output_type": "stream",
     "text": [
      "Retrying downloads:  14%|█▍        | 231/1609 [01:56<12:02,  1.91it/s]"
     ]
    },
    {
     "name": "stdout",
     "output_type": "stream",
     "text": [
      "404 Not Found: https://iiif.wellcomecollection.org/presentation/b10326911\n"
     ]
    },
    {
     "name": "stderr",
     "output_type": "stream",
     "text": [
      "Retrying downloads:  14%|█▍        | 232/1609 [01:57<12:12,  1.88it/s]"
     ]
    },
    {
     "name": "stdout",
     "output_type": "stream",
     "text": [
      "404 Not Found: https://iiif.wellcomecollection.org/presentation/b12943125\n"
     ]
    },
    {
     "name": "stderr",
     "output_type": "stream",
     "text": [
      "Retrying downloads:  15%|█▍        | 234/1609 [02:00<21:43,  1.05it/s]"
     ]
    },
    {
     "name": "stdout",
     "output_type": "stream",
     "text": [
      "404 Not Found: https://iiif.wellcomecollection.org/presentation/b16424426\n"
     ]
    },
    {
     "name": "stderr",
     "output_type": "stream",
     "text": [
      "Retrying downloads:  15%|█▍        | 235/1609 [02:00<18:34,  1.23it/s]"
     ]
    },
    {
     "name": "stdout",
     "output_type": "stream",
     "text": [
      "404 Not Found: https://iiif.wellcomecollection.org/presentation/b10111530\n"
     ]
    },
    {
     "name": "stderr",
     "output_type": "stream",
     "text": [
      "Retrying downloads:  15%|█▍        | 236/1609 [02:01<16:13,  1.41it/s]"
     ]
    },
    {
     "name": "stdout",
     "output_type": "stream",
     "text": [
      "404 Not Found: https://iiif.wellcomecollection.org/presentation/b10108890\n"
     ]
    },
    {
     "name": "stderr",
     "output_type": "stream",
     "text": [
      "Retrying downloads:  15%|█▍        | 237/1609 [02:01<14:48,  1.54it/s]"
     ]
    },
    {
     "name": "stdout",
     "output_type": "stream",
     "text": [
      "404 Not Found: https://iiif.wellcomecollection.org/presentation/b11140963\n"
     ]
    },
    {
     "name": "stderr",
     "output_type": "stream",
     "text": [
      "Retrying downloads:  15%|█▍        | 238/1609 [02:02<13:32,  1.69it/s]"
     ]
    },
    {
     "name": "stdout",
     "output_type": "stream",
     "text": [
      "404 Not Found: https://iiif.wellcomecollection.org/presentation/b12844251\n"
     ]
    },
    {
     "name": "stderr",
     "output_type": "stream",
     "text": [
      "Retrying downloads:  15%|█▍        | 239/1609 [02:02<13:13,  1.73it/s]"
     ]
    },
    {
     "name": "stdout",
     "output_type": "stream",
     "text": [
      "404 Not Found: https://iiif.wellcomecollection.org/presentation/b10178739\n"
     ]
    },
    {
     "name": "stderr",
     "output_type": "stream",
     "text": [
      "Retrying downloads:  15%|█▍        | 240/1609 [02:03<12:41,  1.80it/s]"
     ]
    },
    {
     "name": "stdout",
     "output_type": "stream",
     "text": [
      "404 Not Found: https://iiif.wellcomecollection.org/presentation/b10119279\n"
     ]
    },
    {
     "name": "stderr",
     "output_type": "stream",
     "text": [
      "Retrying downloads:  15%|█▍        | 241/1609 [02:03<12:08,  1.88it/s]"
     ]
    },
    {
     "name": "stdout",
     "output_type": "stream",
     "text": [
      "404 Not Found: https://iiif.wellcomecollection.org/presentation/b13154643\n"
     ]
    },
    {
     "name": "stderr",
     "output_type": "stream",
     "text": [
      "Retrying downloads:  15%|█▌        | 243/1609 [02:06<20:06,  1.13it/s]"
     ]
    },
    {
     "name": "stdout",
     "output_type": "stream",
     "text": [
      "404 Not Found: https://iiif.wellcomecollection.org/presentation/b11145328\n"
     ]
    },
    {
     "name": "stderr",
     "output_type": "stream",
     "text": [
      "Retrying downloads:  15%|█▌        | 244/1609 [02:06<17:28,  1.30it/s]"
     ]
    },
    {
     "name": "stdout",
     "output_type": "stream",
     "text": [
      "404 Not Found: https://iiif.wellcomecollection.org/presentation/b11148299\n"
     ]
    },
    {
     "name": "stderr",
     "output_type": "stream",
     "text": [
      "Retrying downloads:  15%|█▌        | 245/1609 [02:07<15:42,  1.45it/s]"
     ]
    },
    {
     "name": "stdout",
     "output_type": "stream",
     "text": [
      "404 Not Found: https://iiif.wellcomecollection.org/presentation/b13135788\n"
     ]
    },
    {
     "name": "stderr",
     "output_type": "stream",
     "text": [
      "Retrying downloads:  15%|█▌        | 246/1609 [02:07<14:25,  1.58it/s]"
     ]
    },
    {
     "name": "stdout",
     "output_type": "stream",
     "text": [
      "404 Not Found: https://iiif.wellcomecollection.org/presentation/b13430361\n"
     ]
    },
    {
     "name": "stderr",
     "output_type": "stream",
     "text": [
      "Retrying downloads:  15%|█▌        | 247/1609 [02:08<13:15,  1.71it/s]"
     ]
    },
    {
     "name": "stdout",
     "output_type": "stream",
     "text": [
      "404 Not Found: https://iiif.wellcomecollection.org/presentation/b12844135\n"
     ]
    },
    {
     "name": "stderr",
     "output_type": "stream",
     "text": [
      "Retrying downloads:  15%|█▌        | 248/1609 [02:08<12:43,  1.78it/s]"
     ]
    },
    {
     "name": "stdout",
     "output_type": "stream",
     "text": [
      "404 Not Found: https://iiif.wellcomecollection.org/presentation/b12207238\n"
     ]
    },
    {
     "name": "stderr",
     "output_type": "stream",
     "text": [
      "Retrying downloads:  15%|█▌        | 249/1609 [02:09<12:15,  1.85it/s]"
     ]
    },
    {
     "name": "stdout",
     "output_type": "stream",
     "text": [
      "404 Not Found: https://iiif.wellcomecollection.org/presentation/b10331475\n"
     ]
    },
    {
     "name": "stderr",
     "output_type": "stream",
     "text": [
      "Retrying downloads:  16%|█▌        | 250/1609 [02:09<12:00,  1.89it/s]"
     ]
    },
    {
     "name": "stdout",
     "output_type": "stream",
     "text": [
      "404 Not Found: https://iiif.wellcomecollection.org/presentation/b1282303x\n"
     ]
    },
    {
     "name": "stderr",
     "output_type": "stream",
     "text": [
      "Retrying downloads:  16%|█▌        | 251/1609 [02:10<11:39,  1.94it/s]"
     ]
    },
    {
     "name": "stdout",
     "output_type": "stream",
     "text": [
      "404 Not Found: https://iiif.wellcomecollection.org/presentation/b1315039x\n"
     ]
    },
    {
     "name": "stderr",
     "output_type": "stream",
     "text": [
      "Retrying downloads:  16%|█▌        | 252/1609 [02:10<11:35,  1.95it/s]"
     ]
    },
    {
     "name": "stdout",
     "output_type": "stream",
     "text": [
      "404 Not Found: https://iiif.wellcomecollection.org/presentation/b10326637\n"
     ]
    },
    {
     "name": "stderr",
     "output_type": "stream",
     "text": [
      "Retrying downloads:  16%|█▌        | 253/1609 [02:11<11:12,  2.02it/s]"
     ]
    },
    {
     "name": "stdout",
     "output_type": "stream",
     "text": [
      "404 Not Found: https://iiif.wellcomecollection.org/presentation/b10181441\n"
     ]
    },
    {
     "name": "stderr",
     "output_type": "stream",
     "text": [
      "Retrying downloads:  16%|█▌        | 254/1609 [02:11<11:42,  1.93it/s]"
     ]
    },
    {
     "name": "stdout",
     "output_type": "stream",
     "text": [
      "404 Not Found: https://iiif.wellcomecollection.org/presentation/b14584670\n"
     ]
    },
    {
     "name": "stderr",
     "output_type": "stream",
     "text": [
      "Retrying downloads:  16%|█▌        | 255/1609 [02:12<11:20,  1.99it/s]"
     ]
    },
    {
     "name": "stdout",
     "output_type": "stream",
     "text": [
      "404 Not Found: https://iiif.wellcomecollection.org/presentation/b11057075\n"
     ]
    },
    {
     "name": "stderr",
     "output_type": "stream",
     "text": [
      "Retrying downloads:  16%|█▌        | 256/1609 [02:12<11:30,  1.96it/s]"
     ]
    },
    {
     "name": "stdout",
     "output_type": "stream",
     "text": [
      "404 Not Found: https://iiif.wellcomecollection.org/presentation/b12205576\n"
     ]
    },
    {
     "name": "stderr",
     "output_type": "stream",
     "text": [
      "Retrying downloads:  16%|█▌        | 257/1609 [02:13<11:37,  1.94it/s]"
     ]
    },
    {
     "name": "stdout",
     "output_type": "stream",
     "text": [
      "404 Not Found: https://iiif.wellcomecollection.org/presentation/b12155330\n"
     ]
    },
    {
     "name": "stderr",
     "output_type": "stream",
     "text": [
      "Retrying downloads:  16%|█▌        | 258/1609 [02:14<12:41,  1.77it/s]"
     ]
    },
    {
     "name": "stdout",
     "output_type": "stream",
     "text": [
      "404 Not Found: https://iiif.wellcomecollection.org/presentation/b11060025\n"
     ]
    },
    {
     "name": "stderr",
     "output_type": "stream",
     "text": [
      "Retrying downloads:  16%|█▌        | 259/1609 [02:14<12:14,  1.84it/s]"
     ]
    },
    {
     "name": "stdout",
     "output_type": "stream",
     "text": [
      "404 Not Found: https://iiif.wellcomecollection.org/presentation/b16436180\n"
     ]
    },
    {
     "name": "stderr",
     "output_type": "stream",
     "text": [
      "Retrying downloads:  16%|█▌        | 260/1609 [02:15<12:08,  1.85it/s]"
     ]
    },
    {
     "name": "stdout",
     "output_type": "stream",
     "text": [
      "404 Not Found: https://iiif.wellcomecollection.org/presentation/b12947830\n"
     ]
    },
    {
     "name": "stderr",
     "output_type": "stream",
     "text": [
      "Retrying downloads:  16%|█▌        | 261/1609 [02:15<11:37,  1.93it/s]"
     ]
    },
    {
     "name": "stdout",
     "output_type": "stream",
     "text": [
      "404 Not Found: https://iiif.wellcomecollection.org/presentation/b10110495\n"
     ]
    },
    {
     "name": "stderr",
     "output_type": "stream",
     "text": [
      "Retrying downloads:  16%|█▋        | 262/1609 [02:15<11:30,  1.95it/s]"
     ]
    },
    {
     "name": "stdout",
     "output_type": "stream",
     "text": [
      "404 Not Found: https://iiif.wellcomecollection.org/presentation/b13250267\n"
     ]
    },
    {
     "name": "stderr",
     "output_type": "stream",
     "text": [
      "Retrying downloads:  16%|█▋        | 263/1609 [02:16<12:04,  1.86it/s]"
     ]
    },
    {
     "name": "stdout",
     "output_type": "stream",
     "text": [
      "404 Not Found: https://iiif.wellcomecollection.org/presentation/b10400424\n"
     ]
    },
    {
     "name": "stderr",
     "output_type": "stream",
     "text": [
      "Retrying downloads:  16%|█▋        | 264/1609 [02:17<12:07,  1.85it/s]"
     ]
    },
    {
     "name": "stdout",
     "output_type": "stream",
     "text": [
      "404 Not Found: https://iiif.wellcomecollection.org/presentation/b13249526\n"
     ]
    },
    {
     "name": "stderr",
     "output_type": "stream",
     "text": [
      "Retrying downloads:  16%|█▋        | 265/1609 [02:17<11:45,  1.91it/s]"
     ]
    },
    {
     "name": "stdout",
     "output_type": "stream",
     "text": [
      "404 Not Found: https://iiif.wellcomecollection.org/presentation/b1061736x\n"
     ]
    },
    {
     "name": "stderr",
     "output_type": "stream",
     "text": [
      "Retrying downloads:  17%|█▋        | 266/1609 [02:18<11:36,  1.93it/s]"
     ]
    },
    {
     "name": "stdout",
     "output_type": "stream",
     "text": [
      "404 Not Found: https://iiif.wellcomecollection.org/presentation/b10004038\n"
     ]
    },
    {
     "name": "stderr",
     "output_type": "stream",
     "text": [
      "Retrying downloads:  17%|█▋        | 267/1609 [02:18<11:20,  1.97it/s]"
     ]
    },
    {
     "name": "stdout",
     "output_type": "stream",
     "text": [
      "404 Not Found: https://iiif.wellcomecollection.org/presentation/b14590190\n"
     ]
    },
    {
     "name": "stderr",
     "output_type": "stream",
     "text": [
      "Retrying downloads:  17%|█▋        | 268/1609 [02:19<11:08,  2.00it/s]"
     ]
    },
    {
     "name": "stdout",
     "output_type": "stream",
     "text": [
      "404 Not Found: https://iiif.wellcomecollection.org/presentation/b10109183\n"
     ]
    },
    {
     "name": "stderr",
     "output_type": "stream",
     "text": [
      "Retrying downloads:  17%|█▋        | 269/1609 [02:19<11:02,  2.02it/s]"
     ]
    },
    {
     "name": "stdout",
     "output_type": "stream",
     "text": [
      "404 Not Found: https://iiif.wellcomecollection.org/presentation/b11145298\n"
     ]
    },
    {
     "name": "stderr",
     "output_type": "stream",
     "text": [
      "Retrying downloads:  17%|█▋        | 270/1609 [02:20<11:08,  2.00it/s]"
     ]
    },
    {
     "name": "stdout",
     "output_type": "stream",
     "text": [
      "404 Not Found: https://iiif.wellcomecollection.org/presentation/b14593713\n"
     ]
    },
    {
     "name": "stderr",
     "output_type": "stream",
     "text": [
      "Retrying downloads:  17%|█▋        | 271/1609 [02:20<10:58,  2.03it/s]"
     ]
    },
    {
     "name": "stdout",
     "output_type": "stream",
     "text": [
      "404 Not Found: https://iiif.wellcomecollection.org/presentation/b12207251\n"
     ]
    },
    {
     "name": "stderr",
     "output_type": "stream",
     "text": [
      "Retrying downloads:  17%|█▋        | 272/1609 [02:21<11:11,  1.99it/s]"
     ]
    },
    {
     "name": "stdout",
     "output_type": "stream",
     "text": [
      "404 Not Found: https://iiif.wellcomecollection.org/presentation/b10282932\n"
     ]
    },
    {
     "name": "stderr",
     "output_type": "stream",
     "text": [
      "Retrying downloads:  17%|█▋        | 273/1609 [02:21<10:58,  2.03it/s]"
     ]
    },
    {
     "name": "stdout",
     "output_type": "stream",
     "text": [
      "404 Not Found: https://iiif.wellcomecollection.org/presentation/b10768798\n"
     ]
    },
    {
     "name": "stderr",
     "output_type": "stream",
     "text": [
      "Retrying downloads:  17%|█▋        | 274/1609 [02:22<10:55,  2.04it/s]"
     ]
    },
    {
     "name": "stdout",
     "output_type": "stream",
     "text": [
      "404 Not Found: https://iiif.wellcomecollection.org/presentation/b15355081\n"
     ]
    },
    {
     "name": "stderr",
     "output_type": "stream",
     "text": [
      "Retrying downloads:  17%|█▋        | 275/1609 [02:22<10:49,  2.06it/s]"
     ]
    },
    {
     "name": "stdout",
     "output_type": "stream",
     "text": [
      "404 Not Found: https://iiif.wellcomecollection.org/presentation/b10933189\n"
     ]
    },
    {
     "name": "stderr",
     "output_type": "stream",
     "text": [
      "Retrying downloads:  17%|█▋        | 276/1609 [02:22<10:34,  2.10it/s]"
     ]
    },
    {
     "name": "stdout",
     "output_type": "stream",
     "text": [
      "404 Not Found: https://iiif.wellcomecollection.org/presentation/b10864763\n"
     ]
    },
    {
     "name": "stderr",
     "output_type": "stream",
     "text": [
      "Retrying downloads:  17%|█▋        | 277/1609 [02:23<11:03,  2.01it/s]"
     ]
    },
    {
     "name": "stdout",
     "output_type": "stream",
     "text": [
      "404 Not Found: https://iiif.wellcomecollection.org/presentation/b10400746\n"
     ]
    },
    {
     "name": "stderr",
     "output_type": "stream",
     "text": [
      "Retrying downloads:  17%|█▋        | 278/1609 [02:24<11:09,  1.99it/s]"
     ]
    },
    {
     "name": "stdout",
     "output_type": "stream",
     "text": [
      "404 Not Found: https://iiif.wellcomecollection.org/presentation/b14574378\n"
     ]
    },
    {
     "name": "stderr",
     "output_type": "stream",
     "text": [
      "Retrying downloads:  17%|█▋        | 279/1609 [02:24<11:00,  2.01it/s]"
     ]
    },
    {
     "name": "stdout",
     "output_type": "stream",
     "text": [
      "404 Not Found: https://iiif.wellcomecollection.org/presentation/b1062224x\n"
     ]
    },
    {
     "name": "stderr",
     "output_type": "stream",
     "text": [
      "Retrying downloads:  17%|█▋        | 280/1609 [02:24<10:49,  2.05it/s]"
     ]
    },
    {
     "name": "stdout",
     "output_type": "stream",
     "text": [
      "404 Not Found: https://iiif.wellcomecollection.org/presentation/b12175468\n"
     ]
    },
    {
     "name": "stderr",
     "output_type": "stream",
     "text": [
      "Retrying downloads:  17%|█▋        | 281/1609 [02:25<10:44,  2.06it/s]"
     ]
    },
    {
     "name": "stdout",
     "output_type": "stream",
     "text": [
      "404 Not Found: https://iiif.wellcomecollection.org/presentation/b11059394\n"
     ]
    },
    {
     "name": "stderr",
     "output_type": "stream",
     "text": [
      "Retrying downloads:  18%|█▊        | 282/1609 [02:26<11:03,  2.00it/s]"
     ]
    },
    {
     "name": "stdout",
     "output_type": "stream",
     "text": [
      "404 Not Found: https://iiif.wellcomecollection.org/presentation/b10617401\n"
     ]
    },
    {
     "name": "stderr",
     "output_type": "stream",
     "text": [
      "Retrying downloads:  18%|█▊        | 283/1609 [02:26<11:08,  1.98it/s]"
     ]
    },
    {
     "name": "stdout",
     "output_type": "stream",
     "text": [
      "404 Not Found: https://iiif.wellcomecollection.org/presentation/b10933797\n"
     ]
    },
    {
     "name": "stderr",
     "output_type": "stream",
     "text": [
      "Retrying downloads:  18%|█▊        | 284/1609 [02:27<11:06,  1.99it/s]"
     ]
    },
    {
     "name": "stdout",
     "output_type": "stream",
     "text": [
      "404 Not Found: https://iiif.wellcomecollection.org/presentation/b10768579\n"
     ]
    },
    {
     "name": "stderr",
     "output_type": "stream",
     "text": [
      "Retrying downloads:  18%|█▊        | 285/1609 [02:27<10:57,  2.01it/s]"
     ]
    },
    {
     "name": "stdout",
     "output_type": "stream",
     "text": [
      "404 Not Found: https://iiif.wellcomecollection.org/presentation/b11201010\n"
     ]
    },
    {
     "name": "stderr",
     "output_type": "stream",
     "text": [
      "Retrying downloads:  18%|█▊        | 286/1609 [02:27<10:46,  2.05it/s]"
     ]
    },
    {
     "name": "stdout",
     "output_type": "stream",
     "text": [
      "404 Not Found: https://iiif.wellcomecollection.org/presentation/b11056903\n"
     ]
    },
    {
     "name": "stderr",
     "output_type": "stream",
     "text": [
      "Retrying downloads:  18%|█▊        | 287/1609 [02:28<10:45,  2.05it/s]"
     ]
    },
    {
     "name": "stdout",
     "output_type": "stream",
     "text": [
      "404 Not Found: https://iiif.wellcomecollection.org/presentation/b10318306\n"
     ]
    },
    {
     "name": "stderr",
     "output_type": "stream",
     "text": [
      "Retrying downloads:  18%|█▊        | 288/1609 [02:28<10:49,  2.04it/s]"
     ]
    },
    {
     "name": "stdout",
     "output_type": "stream",
     "text": [
      "404 Not Found: https://iiif.wellcomecollection.org/presentation/b11145067\n"
     ]
    },
    {
     "name": "stderr",
     "output_type": "stream",
     "text": [
      "Retrying downloads:  18%|█▊        | 289/1609 [02:29<10:54,  2.02it/s]"
     ]
    },
    {
     "name": "stdout",
     "output_type": "stream",
     "text": [
      "404 Not Found: https://iiif.wellcomecollection.org/presentation/b13134644\n"
     ]
    },
    {
     "name": "stderr",
     "output_type": "stream",
     "text": [
      "Retrying downloads:  18%|█▊        | 290/1609 [02:29<10:51,  2.03it/s]"
     ]
    },
    {
     "name": "stdout",
     "output_type": "stream",
     "text": [
      "404 Not Found: https://iiif.wellcomecollection.org/presentation/b10821831\n"
     ]
    },
    {
     "name": "stderr",
     "output_type": "stream",
     "text": [
      "Retrying downloads:  18%|█▊        | 291/1609 [02:30<10:47,  2.04it/s]"
     ]
    },
    {
     "name": "stdout",
     "output_type": "stream",
     "text": [
      "404 Not Found: https://iiif.wellcomecollection.org/presentation/b11536962\n"
     ]
    },
    {
     "name": "stderr",
     "output_type": "stream",
     "text": [
      "Retrying downloads:  18%|█▊        | 292/1609 [02:30<10:45,  2.04it/s]"
     ]
    },
    {
     "name": "stdout",
     "output_type": "stream",
     "text": [
      "404 Not Found: https://iiif.wellcomecollection.org/presentation/b10888925\n"
     ]
    },
    {
     "name": "stderr",
     "output_type": "stream",
     "text": [
      "Retrying downloads:  18%|█▊        | 293/1609 [02:31<10:51,  2.02it/s]"
     ]
    },
    {
     "name": "stdout",
     "output_type": "stream",
     "text": [
      "404 Not Found: https://iiif.wellcomecollection.org/presentation/b10620990\n"
     ]
    },
    {
     "name": "stderr",
     "output_type": "stream",
     "text": [
      "Retrying downloads:  18%|█▊        | 294/1609 [02:31<11:03,  1.98it/s]"
     ]
    },
    {
     "name": "stdout",
     "output_type": "stream",
     "text": [
      "404 Not Found: https://iiif.wellcomecollection.org/presentation/b11148809\n"
     ]
    },
    {
     "name": "stderr",
     "output_type": "stream",
     "text": [
      "Retrying downloads:  18%|█▊        | 295/1609 [02:32<10:52,  2.01it/s]"
     ]
    },
    {
     "name": "stdout",
     "output_type": "stream",
     "text": [
      "404 Not Found: https://iiif.wellcomecollection.org/presentation/b12953532\n"
     ]
    },
    {
     "name": "stderr",
     "output_type": "stream",
     "text": [
      "Retrying downloads:  18%|█▊        | 296/1609 [02:32<10:54,  2.01it/s]"
     ]
    },
    {
     "name": "stdout",
     "output_type": "stream",
     "text": [
      "404 Not Found: https://iiif.wellcomecollection.org/presentation/b11217911\n"
     ]
    },
    {
     "name": "stderr",
     "output_type": "stream",
     "text": [
      "Retrying downloads:  18%|█▊        | 297/1609 [02:33<10:36,  2.06it/s]"
     ]
    },
    {
     "name": "stdout",
     "output_type": "stream",
     "text": [
      "404 Not Found: https://iiif.wellcomecollection.org/presentation/b14558981\n"
     ]
    },
    {
     "name": "stderr",
     "output_type": "stream",
     "text": [
      "Retrying downloads:  19%|█▊        | 298/1609 [02:33<11:01,  1.98it/s]"
     ]
    },
    {
     "name": "stdout",
     "output_type": "stream",
     "text": [
      "404 Not Found: https://iiif.wellcomecollection.org/presentation/b12947428\n"
     ]
    },
    {
     "name": "stderr",
     "output_type": "stream",
     "text": [
      "Retrying downloads:  19%|█▊        | 299/1609 [02:34<10:59,  1.99it/s]"
     ]
    },
    {
     "name": "stdout",
     "output_type": "stream",
     "text": [
      "404 Not Found: https://iiif.wellcomecollection.org/presentation/b10183735\n"
     ]
    },
    {
     "name": "stderr",
     "output_type": "stream",
     "text": [
      "Retrying downloads:  19%|█▊        | 300/1609 [02:34<10:56,  1.99it/s]"
     ]
    },
    {
     "name": "stdout",
     "output_type": "stream",
     "text": [
      "404 Not Found: https://iiif.wellcomecollection.org/presentation/b10767903\n"
     ]
    },
    {
     "name": "stderr",
     "output_type": "stream",
     "text": [
      "Retrying downloads:  19%|█▊        | 301/1609 [02:35<11:18,  1.93it/s]"
     ]
    },
    {
     "name": "stdout",
     "output_type": "stream",
     "text": [
      "404 Not Found: https://iiif.wellcomecollection.org/presentation/b14594547\n"
     ]
    },
    {
     "name": "stderr",
     "output_type": "stream",
     "text": [
      "Retrying downloads:  19%|█▉        | 302/1609 [02:35<10:55,  1.99it/s]"
     ]
    },
    {
     "name": "stdout",
     "output_type": "stream",
     "text": [
      "404 Not Found: https://iiif.wellcomecollection.org/presentation/b1119635x\n"
     ]
    },
    {
     "name": "stderr",
     "output_type": "stream",
     "text": [
      "Retrying downloads:  19%|█▉        | 303/1609 [02:36<10:47,  2.02it/s]"
     ]
    },
    {
     "name": "stdout",
     "output_type": "stream",
     "text": [
      "404 Not Found: https://iiif.wellcomecollection.org/presentation/b1010866x\n"
     ]
    },
    {
     "name": "stderr",
     "output_type": "stream",
     "text": [
      "Retrying downloads:  19%|█▉        | 304/1609 [02:36<10:45,  2.02it/s]"
     ]
    },
    {
     "name": "stdout",
     "output_type": "stream",
     "text": [
      "404 Not Found: https://iiif.wellcomecollection.org/presentation/b14561748\n"
     ]
    },
    {
     "name": "stderr",
     "output_type": "stream",
     "text": [
      "Retrying downloads:  19%|█▉        | 305/1609 [02:37<10:37,  2.04it/s]"
     ]
    },
    {
     "name": "stdout",
     "output_type": "stream",
     "text": [
      "404 Not Found: https://iiif.wellcomecollection.org/presentation/b10109018\n"
     ]
    },
    {
     "name": "stderr",
     "output_type": "stream",
     "text": [
      "Retrying downloads:  19%|█▉        | 306/1609 [02:37<10:44,  2.02it/s]"
     ]
    },
    {
     "name": "stdout",
     "output_type": "stream",
     "text": [
      "404 Not Found: https://iiif.wellcomecollection.org/presentation/b28984626\n"
     ]
    },
    {
     "name": "stderr",
     "output_type": "stream",
     "text": [
      "Retrying downloads:  19%|█▉        | 307/1609 [02:38<10:31,  2.06it/s]"
     ]
    },
    {
     "name": "stdout",
     "output_type": "stream",
     "text": [
      "404 Not Found: https://iiif.wellcomecollection.org/presentation/b11055418\n"
     ]
    },
    {
     "name": "stderr",
     "output_type": "stream",
     "text": [
      "Retrying downloads:  19%|█▉        | 308/1609 [02:38<10:27,  2.07it/s]"
     ]
    },
    {
     "name": "stdout",
     "output_type": "stream",
     "text": [
      "404 Not Found: https://iiif.wellcomecollection.org/presentation/b11196610\n"
     ]
    },
    {
     "name": "stderr",
     "output_type": "stream",
     "text": [
      "Retrying downloads:  19%|█▉        | 309/1609 [02:39<10:17,  2.10it/s]"
     ]
    },
    {
     "name": "stdout",
     "output_type": "stream",
     "text": [
      "404 Not Found: https://iiif.wellcomecollection.org/presentation/b11208806\n"
     ]
    },
    {
     "name": "stderr",
     "output_type": "stream",
     "text": [
      "Retrying downloads:  19%|█▉        | 310/1609 [02:39<10:17,  2.10it/s]"
     ]
    },
    {
     "name": "stdout",
     "output_type": "stream",
     "text": [
      "404 Not Found: https://iiif.wellcomecollection.org/presentation/b13268004\n"
     ]
    },
    {
     "name": "stderr",
     "output_type": "stream",
     "text": [
      "Retrying downloads:  19%|█▉        | 311/1609 [02:40<10:15,  2.11it/s]"
     ]
    },
    {
     "name": "stdout",
     "output_type": "stream",
     "text": [
      "404 Not Found: https://iiif.wellcomecollection.org/presentation/b1077869x\n"
     ]
    },
    {
     "name": "stderr",
     "output_type": "stream",
     "text": [
      "Retrying downloads:  19%|█▉        | 312/1609 [02:40<10:26,  2.07it/s]"
     ]
    },
    {
     "name": "stdout",
     "output_type": "stream",
     "text": [
      "404 Not Found: https://iiif.wellcomecollection.org/presentation/b12201704\n"
     ]
    },
    {
     "name": "stderr",
     "output_type": "stream",
     "text": [
      "Retrying downloads:  19%|█▉        | 313/1609 [02:41<10:38,  2.03it/s]"
     ]
    },
    {
     "name": "stdout",
     "output_type": "stream",
     "text": [
      "404 Not Found: https://iiif.wellcomecollection.org/presentation/b32753366\n"
     ]
    },
    {
     "name": "stderr",
     "output_type": "stream",
     "text": [
      "Retrying downloads:  20%|█▉        | 314/1609 [02:41<10:46,  2.00it/s]"
     ]
    },
    {
     "name": "stdout",
     "output_type": "stream",
     "text": [
      "404 Not Found: https://iiif.wellcomecollection.org/presentation/b10889164\n"
     ]
    },
    {
     "name": "stderr",
     "output_type": "stream",
     "text": [
      "Retrying downloads:  20%|█▉        | 315/1609 [02:42<10:27,  2.06it/s]"
     ]
    },
    {
     "name": "stdout",
     "output_type": "stream",
     "text": [
      "404 Not Found: https://iiif.wellcomecollection.org/presentation/b11143630\n"
     ]
    },
    {
     "name": "stderr",
     "output_type": "stream",
     "text": [
      "Retrying downloads:  20%|█▉        | 316/1609 [02:42<10:43,  2.01it/s]"
     ]
    },
    {
     "name": "stdout",
     "output_type": "stream",
     "text": [
      "404 Not Found: https://iiif.wellcomecollection.org/presentation/b11059369\n"
     ]
    },
    {
     "name": "stderr",
     "output_type": "stream",
     "text": [
      "Retrying downloads:  20%|█▉        | 317/1609 [02:43<10:25,  2.07it/s]"
     ]
    },
    {
     "name": "stdout",
     "output_type": "stream",
     "text": [
      "404 Not Found: https://iiif.wellcomecollection.org/presentation/b10109304\n"
     ]
    },
    {
     "name": "stderr",
     "output_type": "stream",
     "text": [
      "Retrying downloads:  20%|█▉        | 318/1609 [02:43<10:31,  2.04it/s]"
     ]
    },
    {
     "name": "stdout",
     "output_type": "stream",
     "text": [
      "404 Not Found: https://iiif.wellcomecollection.org/presentation/b10119620\n"
     ]
    },
    {
     "name": "stderr",
     "output_type": "stream",
     "text": [
      "Retrying downloads:  20%|█▉        | 319/1609 [02:44<10:38,  2.02it/s]"
     ]
    },
    {
     "name": "stdout",
     "output_type": "stream",
     "text": [
      "404 Not Found: https://iiif.wellcomecollection.org/presentation/b12206143\n"
     ]
    },
    {
     "name": "stderr",
     "output_type": "stream",
     "text": [
      "Retrying downloads:  20%|█▉        | 320/1609 [02:44<10:31,  2.04it/s]"
     ]
    },
    {
     "name": "stdout",
     "output_type": "stream",
     "text": [
      "404 Not Found: https://iiif.wellcomecollection.org/presentation/b11197869\n"
     ]
    },
    {
     "name": "stderr",
     "output_type": "stream",
     "text": [
      "Retrying downloads:  20%|█▉        | 321/1609 [02:45<10:36,  2.02it/s]"
     ]
    },
    {
     "name": "stdout",
     "output_type": "stream",
     "text": [
      "404 Not Found: https://iiif.wellcomecollection.org/presentation/b10866358\n"
     ]
    },
    {
     "name": "stderr",
     "output_type": "stream",
     "text": [
      "Retrying downloads:  20%|██        | 322/1609 [02:45<10:36,  2.02it/s]"
     ]
    },
    {
     "name": "stdout",
     "output_type": "stream",
     "text": [
      "404 Not Found: https://iiif.wellcomecollection.org/presentation/b14563356\n"
     ]
    },
    {
     "name": "stderr",
     "output_type": "stream",
     "text": [
      "Retrying downloads:  20%|██        | 323/1609 [02:46<10:37,  2.02it/s]"
     ]
    },
    {
     "name": "stdout",
     "output_type": "stream",
     "text": [
      "404 Not Found: https://iiif.wellcomecollection.org/presentation/b10334415\n"
     ]
    },
    {
     "name": "stderr",
     "output_type": "stream",
     "text": [
      "Retrying downloads:  20%|██        | 324/1609 [02:46<10:31,  2.04it/s]"
     ]
    },
    {
     "name": "stdout",
     "output_type": "stream",
     "text": [
      "404 Not Found: https://iiif.wellcomecollection.org/presentation/b11534035\n"
     ]
    },
    {
     "name": "stderr",
     "output_type": "stream",
     "text": [
      "Retrying downloads:  20%|██        | 325/1609 [02:47<10:35,  2.02it/s]"
     ]
    },
    {
     "name": "stdout",
     "output_type": "stream",
     "text": [
      "404 Not Found: https://iiif.wellcomecollection.org/presentation/b1105752x\n"
     ]
    },
    {
     "name": "stderr",
     "output_type": "stream",
     "text": [
      "Retrying downloads:  20%|██        | 326/1609 [02:47<10:20,  2.07it/s]"
     ]
    },
    {
     "name": "stdout",
     "output_type": "stream",
     "text": [
      "404 Not Found: https://iiif.wellcomecollection.org/presentation/b12204171\n"
     ]
    },
    {
     "name": "stderr",
     "output_type": "stream",
     "text": [
      "Retrying downloads:  20%|██        | 327/1609 [02:48<10:21,  2.06it/s]"
     ]
    },
    {
     "name": "stdout",
     "output_type": "stream",
     "text": [
      "404 Not Found: https://iiif.wellcomecollection.org/presentation/b10327071\n"
     ]
    },
    {
     "name": "stderr",
     "output_type": "stream",
     "text": [
      "Retrying downloads:  20%|██        | 328/1609 [02:48<10:08,  2.10it/s]"
     ]
    },
    {
     "name": "stdout",
     "output_type": "stream",
     "text": [
      "404 Not Found: https://iiif.wellcomecollection.org/presentation/b10916490\n"
     ]
    },
    {
     "name": "stderr",
     "output_type": "stream",
     "text": [
      "Retrying downloads:  20%|██        | 329/1609 [02:49<10:08,  2.10it/s]"
     ]
    },
    {
     "name": "stdout",
     "output_type": "stream",
     "text": [
      "404 Not Found: https://iiif.wellcomecollection.org/presentation/b10332613\n"
     ]
    },
    {
     "name": "stderr",
     "output_type": "stream",
     "text": [
      "Retrying downloads:  21%|██        | 330/1609 [02:49<10:53,  1.96it/s]"
     ]
    },
    {
     "name": "stdout",
     "output_type": "stream",
     "text": [
      "404 Not Found: https://iiif.wellcomecollection.org/presentation/b10632232\n"
     ]
    },
    {
     "name": "stderr",
     "output_type": "stream",
     "text": [
      "Retrying downloads:  21%|██        | 331/1609 [02:50<11:03,  1.93it/s]"
     ]
    },
    {
     "name": "stdout",
     "output_type": "stream",
     "text": [
      "404 Not Found: https://iiif.wellcomecollection.org/presentation/b11209045\n"
     ]
    },
    {
     "name": "stderr",
     "output_type": "stream",
     "text": [
      "Retrying downloads:  21%|██        | 332/1609 [02:50<10:35,  2.01it/s]"
     ]
    },
    {
     "name": "stdout",
     "output_type": "stream",
     "text": [
      "404 Not Found: https://iiif.wellcomecollection.org/presentation/b1458248x\n"
     ]
    },
    {
     "name": "stderr",
     "output_type": "stream",
     "text": [
      "Retrying downloads:  21%|██        | 333/1609 [02:51<10:21,  2.05it/s]"
     ]
    },
    {
     "name": "stdout",
     "output_type": "stream",
     "text": [
      "404 Not Found: https://iiif.wellcomecollection.org/presentation/b10111372\n"
     ]
    },
    {
     "name": "stderr",
     "output_type": "stream",
     "text": [
      "Retrying downloads:  21%|██        | 334/1609 [02:51<10:17,  2.06it/s]"
     ]
    },
    {
     "name": "stdout",
     "output_type": "stream",
     "text": [
      "404 Not Found: https://iiif.wellcomecollection.org/presentation/b11196609\n"
     ]
    },
    {
     "name": "stderr",
     "output_type": "stream",
     "text": [
      "Retrying downloads:  21%|██        | 335/1609 [02:52<10:14,  2.07it/s]"
     ]
    },
    {
     "name": "stdout",
     "output_type": "stream",
     "text": [
      "404 Not Found: https://iiif.wellcomecollection.org/presentation/b1105508x\n"
     ]
    },
    {
     "name": "stderr",
     "output_type": "stream",
     "text": [
      "Retrying downloads:  21%|██        | 336/1609 [02:52<10:12,  2.08it/s]"
     ]
    },
    {
     "name": "stdout",
     "output_type": "stream",
     "text": [
      "404 Not Found: https://iiif.wellcomecollection.org/presentation/b12181754\n"
     ]
    },
    {
     "name": "stderr",
     "output_type": "stream",
     "text": [
      "Retrying downloads:  21%|██        | 337/1609 [02:53<10:01,  2.11it/s]"
     ]
    },
    {
     "name": "stdout",
     "output_type": "stream",
     "text": [
      "404 Not Found: https://iiif.wellcomecollection.org/presentation/b1098866x\n"
     ]
    },
    {
     "name": "stderr",
     "output_type": "stream",
     "text": [
      "Retrying downloads:  21%|██        | 338/1609 [02:53<09:59,  2.12it/s]"
     ]
    },
    {
     "name": "stdout",
     "output_type": "stream",
     "text": [
      "404 Not Found: https://iiif.wellcomecollection.org/presentation/b11142601\n"
     ]
    },
    {
     "name": "stderr",
     "output_type": "stream",
     "text": [
      "Retrying downloads:  21%|██        | 339/1609 [02:53<10:06,  2.10it/s]"
     ]
    },
    {
     "name": "stdout",
     "output_type": "stream",
     "text": [
      "404 Not Found: https://iiif.wellcomecollection.org/presentation/b1063129x\n"
     ]
    },
    {
     "name": "stderr",
     "output_type": "stream",
     "text": [
      "Retrying downloads:  21%|██        | 340/1609 [02:54<10:15,  2.06it/s]"
     ]
    },
    {
     "name": "stdout",
     "output_type": "stream",
     "text": [
      "404 Not Found: https://iiif.wellcomecollection.org/presentation/b11057282\n"
     ]
    },
    {
     "name": "stderr",
     "output_type": "stream",
     "text": [
      "Retrying downloads:  21%|██        | 341/1609 [02:54<10:16,  2.06it/s]"
     ]
    },
    {
     "name": "stdout",
     "output_type": "stream",
     "text": [
      "404 Not Found: https://iiif.wellcomecollection.org/presentation/b14569334\n"
     ]
    },
    {
     "name": "stderr",
     "output_type": "stream",
     "text": [
      "Retrying downloads:  21%|██▏       | 342/1609 [02:55<10:31,  2.01it/s]"
     ]
    },
    {
     "name": "stdout",
     "output_type": "stream",
     "text": [
      "404 Not Found: https://iiif.wellcomecollection.org/presentation/b11147969\n"
     ]
    },
    {
     "name": "stderr",
     "output_type": "stream",
     "text": [
      "Retrying downloads:  21%|██▏       | 343/1609 [02:55<10:26,  2.02it/s]"
     ]
    },
    {
     "name": "stdout",
     "output_type": "stream",
     "text": [
      "404 Not Found: https://iiif.wellcomecollection.org/presentation/b1218035x\n"
     ]
    },
    {
     "name": "stderr",
     "output_type": "stream",
     "text": [
      "Retrying downloads:  21%|██▏       | 344/1609 [02:56<10:32,  2.00it/s]"
     ]
    },
    {
     "name": "stdout",
     "output_type": "stream",
     "text": [
      "404 Not Found: https://iiif.wellcomecollection.org/presentation/b11057774\n"
     ]
    },
    {
     "name": "stderr",
     "output_type": "stream",
     "text": [
      "Retrying downloads:  21%|██▏       | 345/1609 [02:57<10:41,  1.97it/s]"
     ]
    },
    {
     "name": "stdout",
     "output_type": "stream",
     "text": [
      "404 Not Found: https://iiif.wellcomecollection.org/presentation/b11213875\n"
     ]
    },
    {
     "name": "stderr",
     "output_type": "stream",
     "text": [
      "Retrying downloads:  22%|██▏       | 346/1609 [02:57<11:56,  1.76it/s]"
     ]
    },
    {
     "name": "stdout",
     "output_type": "stream",
     "text": [
      "404 Not Found: https://iiif.wellcomecollection.org/presentation/b10336059\n"
     ]
    },
    {
     "name": "stderr",
     "output_type": "stream",
     "text": [
      "Retrying downloads:  22%|██▏       | 347/1609 [02:58<11:18,  1.86it/s]"
     ]
    },
    {
     "name": "stdout",
     "output_type": "stream",
     "text": [
      "404 Not Found: https://iiif.wellcomecollection.org/presentation/b14568330\n"
     ]
    },
    {
     "name": "stderr",
     "output_type": "stream",
     "text": [
      "Retrying downloads:  22%|██▏       | 348/1609 [02:58<10:47,  1.95it/s]"
     ]
    },
    {
     "name": "stdout",
     "output_type": "stream",
     "text": [
      "404 Not Found: https://iiif.wellcomecollection.org/presentation/b12206222\n"
     ]
    },
    {
     "name": "stderr",
     "output_type": "stream",
     "text": [
      "Retrying downloads:  22%|██▏       | 349/1609 [02:59<10:35,  1.98it/s]"
     ]
    },
    {
     "name": "stdout",
     "output_type": "stream",
     "text": [
      "404 Not Found: https://iiif.wellcomecollection.org/presentation/b10279799\n"
     ]
    },
    {
     "name": "stderr",
     "output_type": "stream",
     "text": [
      "Retrying downloads:  22%|██▏       | 350/1609 [02:59<10:34,  1.99it/s]"
     ]
    },
    {
     "name": "stdout",
     "output_type": "stream",
     "text": [
      "404 Not Found: https://iiif.wellcomecollection.org/presentation/b16426101\n"
     ]
    },
    {
     "name": "stderr",
     "output_type": "stream",
     "text": [
      "Retrying downloads:  22%|██▏       | 351/1609 [03:00<11:00,  1.90it/s]"
     ]
    },
    {
     "name": "stdout",
     "output_type": "stream",
     "text": [
      "404 Not Found: https://iiif.wellcomecollection.org/presentation/b13236519\n"
     ]
    },
    {
     "name": "stderr",
     "output_type": "stream",
     "text": [
      "Retrying downloads:  22%|██▏       | 352/1609 [03:00<10:39,  1.97it/s]"
     ]
    },
    {
     "name": "stdout",
     "output_type": "stream",
     "text": [
      "404 Not Found: https://iiif.wellcomecollection.org/presentation/b10327022\n"
     ]
    },
    {
     "name": "stderr",
     "output_type": "stream",
     "text": [
      "Retrying downloads:  22%|██▏       | 353/1609 [03:01<10:24,  2.01it/s]"
     ]
    },
    {
     "name": "stdout",
     "output_type": "stream",
     "text": [
      "404 Not Found: https://iiif.wellcomecollection.org/presentation/b11056101\n"
     ]
    },
    {
     "name": "stderr",
     "output_type": "stream",
     "text": [
      "Retrying downloads:  22%|██▏       | 354/1609 [03:01<10:26,  2.00it/s]"
     ]
    },
    {
     "name": "stdout",
     "output_type": "stream",
     "text": [
      "404 Not Found: https://iiif.wellcomecollection.org/presentation/b10402147\n"
     ]
    },
    {
     "name": "stderr",
     "output_type": "stream",
     "text": [
      "Retrying downloads:  22%|██▏       | 355/1609 [03:02<10:30,  1.99it/s]"
     ]
    },
    {
     "name": "stdout",
     "output_type": "stream",
     "text": [
      "404 Not Found: https://iiif.wellcomecollection.org/presentation/b11055352\n"
     ]
    },
    {
     "name": "stderr",
     "output_type": "stream",
     "text": [
      "Retrying downloads:  22%|██▏       | 356/1609 [03:02<10:20,  2.02it/s]"
     ]
    },
    {
     "name": "stdout",
     "output_type": "stream",
     "text": [
      "404 Not Found: https://iiif.wellcomecollection.org/presentation/b1325425x\n"
     ]
    },
    {
     "name": "stderr",
     "output_type": "stream",
     "text": [
      "Retrying downloads:  22%|██▏       | 357/1609 [03:03<10:12,  2.04it/s]"
     ]
    },
    {
     "name": "stdout",
     "output_type": "stream",
     "text": [
      "404 Not Found: https://iiif.wellcomecollection.org/presentation/b10780956\n"
     ]
    },
    {
     "name": "stderr",
     "output_type": "stream",
     "text": [
      "Retrying downloads:  22%|██▏       | 358/1609 [03:03<10:51,  1.92it/s]"
     ]
    },
    {
     "name": "stdout",
     "output_type": "stream",
     "text": [
      "404 Not Found: https://iiif.wellcomecollection.org/presentation/b13137335\n"
     ]
    },
    {
     "name": "stderr",
     "output_type": "stream",
     "text": [
      "Retrying downloads:  22%|██▏       | 359/1609 [03:04<10:34,  1.97it/s]"
     ]
    },
    {
     "name": "stdout",
     "output_type": "stream",
     "text": [
      "404 Not Found: https://iiif.wellcomecollection.org/presentation/b11145687\n"
     ]
    },
    {
     "name": "stderr",
     "output_type": "stream",
     "text": [
      "Retrying downloads:  22%|██▏       | 360/1609 [03:04<11:13,  1.85it/s]"
     ]
    },
    {
     "name": "stdout",
     "output_type": "stream",
     "text": [
      "404 Not Found: https://iiif.wellcomecollection.org/presentation/b1324596x\n"
     ]
    },
    {
     "name": "stderr",
     "output_type": "stream",
     "text": [
      "Retrying downloads:  22%|██▏       | 361/1609 [03:05<10:56,  1.90it/s]"
     ]
    },
    {
     "name": "stdout",
     "output_type": "stream",
     "text": [
      "404 Not Found: https://iiif.wellcomecollection.org/presentation/b13135624\n"
     ]
    },
    {
     "name": "stderr",
     "output_type": "stream",
     "text": [
      "Retrying downloads:  22%|██▏       | 362/1609 [03:05<10:34,  1.97it/s]"
     ]
    },
    {
     "name": "stdout",
     "output_type": "stream",
     "text": [
      "404 Not Found: https://iiif.wellcomecollection.org/presentation/b14584207\n"
     ]
    },
    {
     "name": "stderr",
     "output_type": "stream",
     "text": [
      "Retrying downloads:  23%|██▎       | 363/1609 [03:06<10:35,  1.96it/s]"
     ]
    },
    {
     "name": "stdout",
     "output_type": "stream",
     "text": [
      "404 Not Found: https://iiif.wellcomecollection.org/presentation/b12178147\n"
     ]
    },
    {
     "name": "stderr",
     "output_type": "stream",
     "text": [
      "Retrying downloads:  23%|██▎       | 364/1609 [03:06<10:27,  1.98it/s]"
     ]
    },
    {
     "name": "stdout",
     "output_type": "stream",
     "text": [
      "404 Not Found: https://iiif.wellcomecollection.org/presentation/b13152178\n"
     ]
    },
    {
     "name": "stderr",
     "output_type": "stream",
     "text": [
      "Retrying downloads:  23%|██▎       | 365/1609 [03:07<10:17,  2.01it/s]"
     ]
    },
    {
     "name": "stdout",
     "output_type": "stream",
     "text": [
      "404 Not Found: https://iiif.wellcomecollection.org/presentation/b11198229\n"
     ]
    },
    {
     "name": "stderr",
     "output_type": "stream",
     "text": [
      "Retrying downloads:  23%|██▎       | 366/1609 [03:07<10:23,  1.99it/s]"
     ]
    },
    {
     "name": "stdout",
     "output_type": "stream",
     "text": [
      "404 Not Found: https://iiif.wellcomecollection.org/presentation/b10929563\n"
     ]
    },
    {
     "name": "stderr",
     "output_type": "stream",
     "text": [
      "Retrying downloads:  23%|██▎       | 367/1609 [03:08<10:15,  2.02it/s]"
     ]
    },
    {
     "name": "stdout",
     "output_type": "stream",
     "text": [
      "404 Not Found: https://iiif.wellcomecollection.org/presentation/b1458282x\n"
     ]
    },
    {
     "name": "stderr",
     "output_type": "stream",
     "text": [
      "Retrying downloads:  23%|██▎       | 368/1609 [03:08<10:08,  2.04it/s]"
     ]
    },
    {
     "name": "stdout",
     "output_type": "stream",
     "text": [
      "404 Not Found: https://iiif.wellcomecollection.org/presentation/b1028719x\n"
     ]
    },
    {
     "name": "stderr",
     "output_type": "stream",
     "text": [
      "Retrying downloads:  23%|██▎       | 369/1609 [03:09<10:11,  2.03it/s]"
     ]
    },
    {
     "name": "stdout",
     "output_type": "stream",
     "text": [
      "404 Not Found: https://iiif.wellcomecollection.org/presentation/b11261328\n"
     ]
    },
    {
     "name": "stderr",
     "output_type": "stream",
     "text": [
      "Retrying downloads:  23%|██▎       | 370/1609 [03:09<10:29,  1.97it/s]"
     ]
    },
    {
     "name": "stdout",
     "output_type": "stream",
     "text": [
      "404 Not Found: https://iiif.wellcomecollection.org/presentation/b10915199\n"
     ]
    },
    {
     "name": "stderr",
     "output_type": "stream",
     "text": [
      "Retrying downloads:  23%|██▎       | 371/1609 [03:10<10:23,  1.98it/s]"
     ]
    },
    {
     "name": "stdout",
     "output_type": "stream",
     "text": [
      "404 Not Found: https://iiif.wellcomecollection.org/presentation/b10185999\n"
     ]
    },
    {
     "name": "stderr",
     "output_type": "stream",
     "text": [
      "Retrying downloads:  23%|██▎       | 372/1609 [03:10<10:16,  2.01it/s]"
     ]
    },
    {
     "name": "stdout",
     "output_type": "stream",
     "text": [
      "404 Not Found: https://iiif.wellcomecollection.org/presentation/b12839061\n"
     ]
    },
    {
     "name": "stderr",
     "output_type": "stream",
     "text": [
      "Retrying downloads:  23%|██▎       | 373/1609 [03:11<10:08,  2.03it/s]"
     ]
    },
    {
     "name": "stdout",
     "output_type": "stream",
     "text": [
      "404 Not Found: https://iiif.wellcomecollection.org/presentation/b12063472\n"
     ]
    },
    {
     "name": "stderr",
     "output_type": "stream",
     "text": [
      "Retrying downloads:  23%|██▎       | 374/1609 [03:11<10:07,  2.03it/s]"
     ]
    },
    {
     "name": "stdout",
     "output_type": "stream",
     "text": [
      "404 Not Found: https://iiif.wellcomecollection.org/presentation/b14569796\n"
     ]
    },
    {
     "name": "stderr",
     "output_type": "stream",
     "text": [
      "Retrying downloads:  23%|██▎       | 375/1609 [03:12<10:14,  2.01it/s]"
     ]
    },
    {
     "name": "stdout",
     "output_type": "stream",
     "text": [
      "404 Not Found: https://iiif.wellcomecollection.org/presentation/b12987086\n"
     ]
    },
    {
     "name": "stderr",
     "output_type": "stream",
     "text": [
      "Retrying downloads:  23%|██▎       | 376/1609 [03:12<10:27,  1.96it/s]"
     ]
    },
    {
     "name": "stdout",
     "output_type": "stream",
     "text": [
      "404 Not Found: https://iiif.wellcomecollection.org/presentation/b11059485\n"
     ]
    },
    {
     "name": "stderr",
     "output_type": "stream",
     "text": [
      "Retrying downloads:  23%|██▎       | 377/1609 [03:13<10:18,  1.99it/s]"
     ]
    },
    {
     "name": "stdout",
     "output_type": "stream",
     "text": [
      "404 Not Found: https://iiif.wellcomecollection.org/presentation/b14962871\n"
     ]
    },
    {
     "name": "stderr",
     "output_type": "stream",
     "text": [
      "Retrying downloads:  23%|██▎       | 378/1609 [03:14<12:08,  1.69it/s]"
     ]
    },
    {
     "name": "stdout",
     "output_type": "stream",
     "text": [
      "404 Not Found: https://iiif.wellcomecollection.org/presentation/b10110525\n"
     ]
    },
    {
     "name": "stderr",
     "output_type": "stream",
     "text": [
      "Retrying downloads:  24%|██▎       | 379/1609 [03:14<11:31,  1.78it/s]"
     ]
    },
    {
     "name": "stdout",
     "output_type": "stream",
     "text": [
      "404 Not Found: https://iiif.wellcomecollection.org/presentation/b12839115\n"
     ]
    },
    {
     "name": "stderr",
     "output_type": "stream",
     "text": [
      "Retrying downloads:  24%|██▎       | 380/1609 [03:15<11:04,  1.85it/s]"
     ]
    },
    {
     "name": "stdout",
     "output_type": "stream",
     "text": [
      "404 Not Found: https://iiif.wellcomecollection.org/presentation/b10281940\n"
     ]
    },
    {
     "name": "stderr",
     "output_type": "stream",
     "text": [
      "Retrying downloads:  24%|██▎       | 381/1609 [03:15<10:43,  1.91it/s]"
     ]
    },
    {
     "name": "stdout",
     "output_type": "stream",
     "text": [
      "404 Not Found: https://iiif.wellcomecollection.org/presentation/b1114970x\n"
     ]
    },
    {
     "name": "stderr",
     "output_type": "stream",
     "text": [
      "Retrying downloads:  24%|██▎       | 382/1609 [03:16<10:38,  1.92it/s]"
     ]
    },
    {
     "name": "stdout",
     "output_type": "stream",
     "text": [
      "404 Not Found: https://iiif.wellcomecollection.org/presentation/b12178731\n"
     ]
    },
    {
     "name": "stderr",
     "output_type": "stream",
     "text": [
      "Retrying downloads:  24%|██▍       | 383/1609 [03:16<10:36,  1.93it/s]"
     ]
    },
    {
     "name": "stdout",
     "output_type": "stream",
     "text": [
      "404 Not Found: https://iiif.wellcomecollection.org/presentation/b11040695\n"
     ]
    },
    {
     "name": "stderr",
     "output_type": "stream",
     "text": [
      "Retrying downloads:  24%|██▍       | 384/1609 [03:17<10:36,  1.92it/s]"
     ]
    },
    {
     "name": "stdout",
     "output_type": "stream",
     "text": [
      "404 Not Found: https://iiif.wellcomecollection.org/presentation/b10555328\n"
     ]
    },
    {
     "name": "stderr",
     "output_type": "stream",
     "text": [
      "Retrying downloads:  24%|██▍       | 385/1609 [03:17<10:24,  1.96it/s]"
     ]
    },
    {
     "name": "stdout",
     "output_type": "stream",
     "text": [
      "404 Not Found: https://iiif.wellcomecollection.org/presentation/b12948081\n"
     ]
    },
    {
     "name": "stderr",
     "output_type": "stream",
     "text": [
      "Retrying downloads:  24%|██▍       | 386/1609 [03:18<10:11,  2.00it/s]"
     ]
    },
    {
     "name": "stdout",
     "output_type": "stream",
     "text": [
      "404 Not Found: https://iiif.wellcomecollection.org/presentation/b10915655\n"
     ]
    },
    {
     "name": "stderr",
     "output_type": "stream",
     "text": [
      "Retrying downloads:  24%|██▍       | 387/1609 [03:18<10:03,  2.03it/s]"
     ]
    },
    {
     "name": "stdout",
     "output_type": "stream",
     "text": [
      "404 Not Found: https://iiif.wellcomecollection.org/presentation/b10619197\n"
     ]
    },
    {
     "name": "stderr",
     "output_type": "stream",
     "text": [
      "Retrying downloads:  24%|██▍       | 388/1609 [03:18<10:03,  2.02it/s]"
     ]
    },
    {
     "name": "stdout",
     "output_type": "stream",
     "text": [
      "404 Not Found: https://iiif.wellcomecollection.org/presentation/b11144555\n"
     ]
    },
    {
     "name": "stderr",
     "output_type": "stream",
     "text": [
      "Retrying downloads:  24%|██▍       | 389/1609 [03:19<10:13,  1.99it/s]"
     ]
    },
    {
     "name": "stdout",
     "output_type": "stream",
     "text": [
      "404 Not Found: https://iiif.wellcomecollection.org/presentation/b1011256x\n"
     ]
    },
    {
     "name": "stderr",
     "output_type": "stream",
     "text": [
      "Retrying downloads:  24%|██▍       | 390/1609 [03:20<10:09,  2.00it/s]"
     ]
    },
    {
     "name": "stdout",
     "output_type": "stream",
     "text": [
      "404 Not Found: https://iiif.wellcomecollection.org/presentation/b12947532\n"
     ]
    },
    {
     "name": "stderr",
     "output_type": "stream",
     "text": [
      "Retrying downloads:  24%|██▍       | 391/1609 [03:20<10:09,  2.00it/s]"
     ]
    },
    {
     "name": "stdout",
     "output_type": "stream",
     "text": [
      "404 Not Found: https://iiif.wellcomecollection.org/presentation/b10933244\n"
     ]
    },
    {
     "name": "stderr",
     "output_type": "stream",
     "text": [
      "Retrying downloads:  24%|██▍       | 392/1609 [03:20<10:03,  2.02it/s]"
     ]
    },
    {
     "name": "stdout",
     "output_type": "stream",
     "text": [
      "404 Not Found: https://iiif.wellcomecollection.org/presentation/b12205102\n"
     ]
    },
    {
     "name": "stderr",
     "output_type": "stream",
     "text": [
      "Retrying downloads:  24%|██▍       | 393/1609 [03:21<10:01,  2.02it/s]"
     ]
    },
    {
     "name": "stdout",
     "output_type": "stream",
     "text": [
      "404 Not Found: https://iiif.wellcomecollection.org/presentation/b11056745\n"
     ]
    },
    {
     "name": "stderr",
     "output_type": "stream",
     "text": [
      "Retrying downloads:  24%|██▍       | 394/1609 [03:21<09:50,  2.06it/s]"
     ]
    },
    {
     "name": "stdout",
     "output_type": "stream",
     "text": [
      "404 Not Found: https://iiif.wellcomecollection.org/presentation/b10277924\n"
     ]
    },
    {
     "name": "stderr",
     "output_type": "stream",
     "text": [
      "Retrying downloads:  25%|██▍       | 395/1609 [03:22<09:50,  2.06it/s]"
     ]
    },
    {
     "name": "stdout",
     "output_type": "stream",
     "text": [
      "404 Not Found: https://iiif.wellcomecollection.org/presentation/b1297898x\n"
     ]
    },
    {
     "name": "stderr",
     "output_type": "stream",
     "text": [
      "Retrying downloads:  25%|██▍       | 396/1609 [03:22<09:49,  2.06it/s]"
     ]
    },
    {
     "name": "stdout",
     "output_type": "stream",
     "text": [
      "404 Not Found: https://iiif.wellcomecollection.org/presentation/b13154539\n"
     ]
    },
    {
     "name": "stderr",
     "output_type": "stream",
     "text": [
      "Retrying downloads:  25%|██▍       | 397/1609 [03:23<10:22,  1.95it/s]"
     ]
    },
    {
     "name": "stdout",
     "output_type": "stream",
     "text": [
      "404 Not Found: https://iiif.wellcomecollection.org/presentation/b10176548\n"
     ]
    },
    {
     "name": "stderr",
     "output_type": "stream",
     "text": [
      "Retrying downloads:  25%|██▍       | 398/1609 [03:23<10:05,  2.00it/s]"
     ]
    },
    {
     "name": "stdout",
     "output_type": "stream",
     "text": [
      "404 Not Found: https://iiif.wellcomecollection.org/presentation/b10785267\n"
     ]
    },
    {
     "name": "stderr",
     "output_type": "stream",
     "text": [
      "Retrying downloads:  25%|██▍       | 399/1609 [03:24<10:00,  2.01it/s]"
     ]
    },
    {
     "name": "stdout",
     "output_type": "stream",
     "text": [
      "404 Not Found: https://iiif.wellcomecollection.org/presentation/b13106296\n"
     ]
    },
    {
     "name": "stderr",
     "output_type": "stream",
     "text": [
      "Retrying downloads:  25%|██▍       | 400/1609 [03:24<10:10,  1.98it/s]"
     ]
    },
    {
     "name": "stdout",
     "output_type": "stream",
     "text": [
      "404 Not Found: https://iiif.wellcomecollection.org/presentation/b10326546\n"
     ]
    },
    {
     "name": "stderr",
     "output_type": "stream",
     "text": [
      "Retrying downloads:  25%|██▍       | 401/1609 [03:25<09:59,  2.01it/s]"
     ]
    },
    {
     "name": "stdout",
     "output_type": "stream",
     "text": [
      "404 Not Found: https://iiif.wellcomecollection.org/presentation/b10632025\n"
     ]
    },
    {
     "name": "stderr",
     "output_type": "stream",
     "text": [
      "Retrying downloads:  25%|██▍       | 402/1609 [03:25<10:13,  1.97it/s]"
     ]
    },
    {
     "name": "stdout",
     "output_type": "stream",
     "text": [
      "404 Not Found: https://iiif.wellcomecollection.org/presentation/b10177358\n"
     ]
    },
    {
     "name": "stderr",
     "output_type": "stream",
     "text": [
      "Retrying downloads:  25%|██▌       | 403/1609 [03:26<10:08,  1.98it/s]"
     ]
    },
    {
     "name": "stdout",
     "output_type": "stream",
     "text": [
      "404 Not Found: https://iiif.wellcomecollection.org/presentation/b11131032\n"
     ]
    },
    {
     "name": "stderr",
     "output_type": "stream",
     "text": [
      "Retrying downloads:  25%|██▌       | 404/1609 [03:26<09:57,  2.02it/s]"
     ]
    },
    {
     "name": "stdout",
     "output_type": "stream",
     "text": [
      "404 Not Found: https://iiif.wellcomecollection.org/presentation/b10825824\n"
     ]
    },
    {
     "name": "stderr",
     "output_type": "stream",
     "text": [
      "Retrying downloads:  25%|██▌       | 405/1609 [03:27<09:50,  2.04it/s]"
     ]
    },
    {
     "name": "stdout",
     "output_type": "stream",
     "text": [
      "404 Not Found: https://iiif.wellcomecollection.org/presentation/b14585169\n"
     ]
    },
    {
     "name": "stderr",
     "output_type": "stream",
     "text": [
      "Retrying downloads:  25%|██▌       | 406/1609 [03:27<09:52,  2.03it/s]"
     ]
    },
    {
     "name": "stdout",
     "output_type": "stream",
     "text": [
      "404 Not Found: https://iiif.wellcomecollection.org/presentation/b11281224\n"
     ]
    },
    {
     "name": "stderr",
     "output_type": "stream",
     "text": [
      "Retrying downloads:  25%|██▌       | 407/1609 [03:28<09:57,  2.01it/s]"
     ]
    },
    {
     "name": "stdout",
     "output_type": "stream",
     "text": [
      "404 Not Found: https://iiif.wellcomecollection.org/presentation/b13256270\n"
     ]
    },
    {
     "name": "stderr",
     "output_type": "stream",
     "text": [
      "Retrying downloads:  25%|██▌       | 408/1609 [03:28<10:01,  2.00it/s]"
     ]
    },
    {
     "name": "stdout",
     "output_type": "stream",
     "text": [
      "404 Not Found: https://iiif.wellcomecollection.org/presentation/b10327423\n"
     ]
    },
    {
     "name": "stderr",
     "output_type": "stream",
     "text": [
      "Retrying downloads:  25%|██▌       | 409/1609 [03:29<10:00,  2.00it/s]"
     ]
    },
    {
     "name": "stdout",
     "output_type": "stream",
     "text": [
      "404 Not Found: https://iiif.wellcomecollection.org/presentation/b10111906\n"
     ]
    },
    {
     "name": "stderr",
     "output_type": "stream",
     "text": [
      "Retrying downloads:  25%|██▌       | 410/1609 [03:29<09:57,  2.01it/s]"
     ]
    },
    {
     "name": "stdout",
     "output_type": "stream",
     "text": [
      "404 Not Found: https://iiif.wellcomecollection.org/presentation/b11260865\n"
     ]
    },
    {
     "name": "stderr",
     "output_type": "stream",
     "text": [
      "Retrying downloads:  26%|██▌       | 411/1609 [03:30<09:51,  2.02it/s]"
     ]
    },
    {
     "name": "stdout",
     "output_type": "stream",
     "text": [
      "404 Not Found: https://iiif.wellcomecollection.org/presentation/b14561347\n"
     ]
    },
    {
     "name": "stderr",
     "output_type": "stream",
     "text": [
      "Retrying downloads:  26%|██▌       | 412/1609 [03:30<09:53,  2.02it/s]"
     ]
    },
    {
     "name": "stdout",
     "output_type": "stream",
     "text": [
      "404 Not Found: https://iiif.wellcomecollection.org/presentation/b10335043\n"
     ]
    },
    {
     "name": "stderr",
     "output_type": "stream",
     "text": [
      "Retrying downloads:  26%|██▌       | 413/1609 [03:31<09:44,  2.05it/s]"
     ]
    },
    {
     "name": "stdout",
     "output_type": "stream",
     "text": [
      "404 Not Found: https://iiif.wellcomecollection.org/presentation/b13268363\n"
     ]
    },
    {
     "name": "stderr",
     "output_type": "stream",
     "text": [
      "Retrying downloads:  26%|██▌       | 414/1609 [03:31<08:26,  2.36it/s]"
     ]
    },
    {
     "name": "stdout",
     "output_type": "stream",
     "text": [
      "404 Not Found: https://iiif.wellcomecollection.org/presentation/b20083026\n"
     ]
    },
    {
     "name": "stderr",
     "output_type": "stream",
     "text": [
      "Retrying downloads:  26%|██▌       | 415/1609 [03:32<08:46,  2.27it/s]"
     ]
    },
    {
     "name": "stdout",
     "output_type": "stream",
     "text": [
      "404 Not Found: https://iiif.wellcomecollection.org/presentation/b12207068\n"
     ]
    },
    {
     "name": "stderr",
     "output_type": "stream",
     "text": [
      "Retrying downloads:  26%|██▌       | 416/1609 [03:32<09:10,  2.17it/s]"
     ]
    },
    {
     "name": "stdout",
     "output_type": "stream",
     "text": [
      "404 Not Found: https://iiif.wellcomecollection.org/presentation/b12160337\n"
     ]
    },
    {
     "name": "stderr",
     "output_type": "stream",
     "text": [
      "Retrying downloads:  26%|██▌       | 417/1609 [03:33<09:58,  1.99it/s]"
     ]
    },
    {
     "name": "stdout",
     "output_type": "stream",
     "text": [
      "404 Not Found: https://iiif.wellcomecollection.org/presentation/b11477313\n"
     ]
    },
    {
     "name": "stderr",
     "output_type": "stream",
     "text": [
      "Retrying downloads:  26%|██▌       | 418/1609 [03:33<09:48,  2.03it/s]"
     ]
    },
    {
     "name": "stdout",
     "output_type": "stream",
     "text": [
      "404 Not Found: https://iiif.wellcomecollection.org/presentation/b10109791\n"
     ]
    },
    {
     "name": "stderr",
     "output_type": "stream",
     "text": [
      "Retrying downloads:  26%|██▌       | 419/1609 [03:34<09:43,  2.04it/s]"
     ]
    },
    {
     "name": "stdout",
     "output_type": "stream",
     "text": [
      "404 Not Found: https://iiif.wellcomecollection.org/presentation/b10615179\n"
     ]
    },
    {
     "name": "stderr",
     "output_type": "stream",
     "text": [
      "Retrying downloads:  26%|██▌       | 420/1609 [03:34<09:32,  2.08it/s]"
     ]
    },
    {
     "name": "stdout",
     "output_type": "stream",
     "text": [
      "404 Not Found: https://iiif.wellcomecollection.org/presentation/b10886771\n"
     ]
    },
    {
     "name": "stderr",
     "output_type": "stream",
     "text": [
      "Retrying downloads:  26%|██▌       | 421/1609 [03:34<08:01,  2.46it/s]"
     ]
    },
    {
     "name": "stdout",
     "output_type": "stream",
     "text": [
      "404 Not Found: https://iiif.wellcomecollection.org/presentation/1\n"
     ]
    },
    {
     "name": "stderr",
     "output_type": "stream",
     "text": [
      "Retrying downloads:  26%|██▌       | 422/1609 [03:35<08:18,  2.38it/s]"
     ]
    },
    {
     "name": "stdout",
     "output_type": "stream",
     "text": [
      "404 Not Found: https://iiif.wellcomecollection.org/presentation/b11059229\n"
     ]
    },
    {
     "name": "stderr",
     "output_type": "stream",
     "text": [
      "Retrying downloads:  26%|██▋       | 423/1609 [03:35<08:46,  2.25it/s]"
     ]
    },
    {
     "name": "stdout",
     "output_type": "stream",
     "text": [
      "404 Not Found: https://iiif.wellcomecollection.org/presentation/b14937797\n"
     ]
    },
    {
     "name": "stderr",
     "output_type": "stream",
     "text": [
      "Retrying downloads:  26%|██▋       | 424/1609 [03:36<09:13,  2.14it/s]"
     ]
    },
    {
     "name": "stdout",
     "output_type": "stream",
     "text": [
      "404 Not Found: https://iiif.wellcomecollection.org/presentation/b10930632\n"
     ]
    },
    {
     "name": "stderr",
     "output_type": "stream",
     "text": [
      "Retrying downloads:  26%|██▋       | 425/1609 [03:36<09:17,  2.13it/s]"
     ]
    },
    {
     "name": "stdout",
     "output_type": "stream",
     "text": [
      "404 Not Found: https://iiif.wellcomecollection.org/presentation/b10990318\n"
     ]
    },
    {
     "name": "stderr",
     "output_type": "stream",
     "text": [
      "Retrying downloads:  26%|██▋       | 426/1609 [03:37<09:21,  2.11it/s]"
     ]
    },
    {
     "name": "stdout",
     "output_type": "stream",
     "text": [
      "404 Not Found: https://iiif.wellcomecollection.org/presentation/b13268181\n"
     ]
    },
    {
     "name": "stderr",
     "output_type": "stream",
     "text": [
      "Retrying downloads:  27%|██▋       | 427/1609 [03:37<09:34,  2.06it/s]"
     ]
    },
    {
     "name": "stdout",
     "output_type": "stream",
     "text": [
      "404 Not Found: https://iiif.wellcomecollection.org/presentation/b10336771\n"
     ]
    },
    {
     "name": "stderr",
     "output_type": "stream",
     "text": [
      "Retrying downloads:  27%|██▋       | 428/1609 [03:38<09:22,  2.10it/s]"
     ]
    },
    {
     "name": "stdout",
     "output_type": "stream",
     "text": [
      "404 Not Found: https://iiif.wellcomecollection.org/presentation/b11199180\n"
     ]
    },
    {
     "name": "stderr",
     "output_type": "stream",
     "text": [
      "Retrying downloads:  27%|██▋       | 429/1609 [03:38<09:35,  2.05it/s]"
     ]
    },
    {
     "name": "stdout",
     "output_type": "stream",
     "text": [
      "404 Not Found: https://iiif.wellcomecollection.org/presentation/b12178159\n"
     ]
    },
    {
     "name": "stderr",
     "output_type": "stream",
     "text": [
      "Retrying downloads:  27%|██▋       | 430/1609 [03:39<09:30,  2.07it/s]"
     ]
    },
    {
     "name": "stdout",
     "output_type": "stream",
     "text": [
      "404 Not Found: https://iiif.wellcomecollection.org/presentation/b14574792\n"
     ]
    },
    {
     "name": "stderr",
     "output_type": "stream",
     "text": [
      "Retrying downloads:  27%|██▋       | 431/1609 [03:39<09:32,  2.06it/s]"
     ]
    },
    {
     "name": "stdout",
     "output_type": "stream",
     "text": [
      "404 Not Found: https://iiif.wellcomecollection.org/presentation/b11144129\n"
     ]
    },
    {
     "name": "stderr",
     "output_type": "stream",
     "text": [
      "Retrying downloads:  27%|██▋       | 432/1609 [03:40<09:40,  2.03it/s]"
     ]
    },
    {
     "name": "stdout",
     "output_type": "stream",
     "text": [
      "404 Not Found: https://iiif.wellcomecollection.org/presentation/b13267668\n"
     ]
    },
    {
     "name": "stderr",
     "output_type": "stream",
     "text": [
      "Retrying downloads:  27%|██▋       | 433/1609 [03:40<09:50,  1.99it/s]"
     ]
    },
    {
     "name": "stdout",
     "output_type": "stream",
     "text": [
      "404 Not Found: https://iiif.wellcomecollection.org/presentation/b10327253\n"
     ]
    },
    {
     "name": "stderr",
     "output_type": "stream",
     "text": [
      "Retrying downloads:  27%|██▋       | 434/1609 [03:41<10:02,  1.95it/s]"
     ]
    },
    {
     "name": "stdout",
     "output_type": "stream",
     "text": [
      "404 Not Found: https://iiif.wellcomecollection.org/presentation/b13256208\n"
     ]
    },
    {
     "name": "stderr",
     "output_type": "stream",
     "text": [
      "Retrying downloads:  27%|██▋       | 435/1609 [03:41<09:54,  1.98it/s]"
     ]
    },
    {
     "name": "stdout",
     "output_type": "stream",
     "text": [
      "404 Not Found: https://iiif.wellcomecollection.org/presentation/b12177246\n"
     ]
    },
    {
     "name": "stderr",
     "output_type": "stream",
     "text": [
      "Retrying downloads:  27%|██▋       | 436/1609 [03:42<09:38,  2.03it/s]"
     ]
    },
    {
     "name": "stdout",
     "output_type": "stream",
     "text": [
      "404 Not Found: https://iiif.wellcomecollection.org/presentation/b10773216\n"
     ]
    },
    {
     "name": "stderr",
     "output_type": "stream",
     "text": [
      "Retrying downloads:  27%|██▋       | 437/1609 [03:42<09:43,  2.01it/s]"
     ]
    },
    {
     "name": "stdout",
     "output_type": "stream",
     "text": [
      "404 Not Found: https://iiif.wellcomecollection.org/presentation/b12209764\n"
     ]
    },
    {
     "name": "stderr",
     "output_type": "stream",
     "text": [
      "Retrying downloads:  27%|██▋       | 438/1609 [03:43<09:37,  2.03it/s]"
     ]
    },
    {
     "name": "stdout",
     "output_type": "stream",
     "text": [
      "404 Not Found: https://iiif.wellcomecollection.org/presentation/b11522975\n"
     ]
    },
    {
     "name": "stderr",
     "output_type": "stream",
     "text": [
      "Retrying downloads:  27%|██▋       | 439/1609 [03:43<09:31,  2.05it/s]"
     ]
    },
    {
     "name": "stdout",
     "output_type": "stream",
     "text": [
      "404 Not Found: https://iiif.wellcomecollection.org/presentation/b10705107\n"
     ]
    },
    {
     "name": "stderr",
     "output_type": "stream",
     "text": [
      "Retrying downloads:  27%|██▋       | 440/1609 [03:44<09:57,  1.96it/s]"
     ]
    },
    {
     "name": "stdout",
     "output_type": "stream",
     "text": [
      "404 Not Found: https://iiif.wellcomecollection.org/presentation/b1281426x\n"
     ]
    },
    {
     "name": "stderr",
     "output_type": "stream",
     "text": [
      "Retrying downloads:  27%|██▋       | 441/1609 [03:44<10:04,  1.93it/s]"
     ]
    },
    {
     "name": "stdout",
     "output_type": "stream",
     "text": [
      "404 Not Found: https://iiif.wellcomecollection.org/presentation/b11218010\n"
     ]
    },
    {
     "name": "stderr",
     "output_type": "stream",
     "text": [
      "Retrying downloads:  27%|██▋       | 442/1609 [03:45<09:52,  1.97it/s]"
     ]
    },
    {
     "name": "stdout",
     "output_type": "stream",
     "text": [
      "404 Not Found: https://iiif.wellcomecollection.org/presentation/b10112029\n"
     ]
    },
    {
     "name": "stderr",
     "output_type": "stream",
     "text": [
      "Retrying downloads:  28%|██▊       | 443/1609 [03:45<09:44,  1.99it/s]"
     ]
    },
    {
     "name": "stdout",
     "output_type": "stream",
     "text": [
      "404 Not Found: https://iiif.wellcomecollection.org/presentation/b1114810x\n"
     ]
    },
    {
     "name": "stderr",
     "output_type": "stream",
     "text": [
      "Retrying downloads:  28%|██▊       | 444/1609 [03:46<09:45,  1.99it/s]"
     ]
    },
    {
     "name": "stdout",
     "output_type": "stream",
     "text": [
      "404 Not Found: https://iiif.wellcomecollection.org/presentation/b11066763\n"
     ]
    },
    {
     "name": "stderr",
     "output_type": "stream",
     "text": [
      "Retrying downloads:  28%|██▊       | 445/1609 [03:46<09:42,  2.00it/s]"
     ]
    },
    {
     "name": "stdout",
     "output_type": "stream",
     "text": [
      "404 Not Found: https://iiif.wellcomecollection.org/presentation/b1456306x\n"
     ]
    },
    {
     "name": "stderr",
     "output_type": "stream",
     "text": [
      "Retrying downloads:  28%|██▊       | 446/1609 [03:47<09:24,  2.06it/s]"
     ]
    },
    {
     "name": "stdout",
     "output_type": "stream",
     "text": [
      "404 Not Found: https://iiif.wellcomecollection.org/presentation/b12179590\n"
     ]
    },
    {
     "name": "stderr",
     "output_type": "stream",
     "text": [
      "Retrying downloads:  28%|██▊       | 447/1609 [03:47<09:13,  2.10it/s]"
     ]
    },
    {
     "name": "stdout",
     "output_type": "stream",
     "text": [
      "404 Not Found: https://iiif.wellcomecollection.org/presentation/b12176837\n"
     ]
    },
    {
     "name": "stderr",
     "output_type": "stream",
     "text": [
      "Retrying downloads:  28%|██▊       | 448/1609 [03:48<09:14,  2.09it/s]"
     ]
    },
    {
     "name": "stdout",
     "output_type": "stream",
     "text": [
      "404 Not Found: https://iiif.wellcomecollection.org/presentation/b12201959\n"
     ]
    },
    {
     "name": "stderr",
     "output_type": "stream",
     "text": [
      "Retrying downloads:  28%|██▊       | 449/1609 [03:48<09:07,  2.12it/s]"
     ]
    },
    {
     "name": "stdout",
     "output_type": "stream",
     "text": [
      "404 Not Found: https://iiif.wellcomecollection.org/presentation/b10110215\n"
     ]
    },
    {
     "name": "stderr",
     "output_type": "stream",
     "text": [
      "Retrying downloads:  28%|██▊       | 450/1609 [03:49<10:34,  1.83it/s]"
     ]
    },
    {
     "name": "stdout",
     "output_type": "stream",
     "text": [
      "404 Not Found: https://iiif.wellcomecollection.org/presentation/b14565894\n"
     ]
    },
    {
     "name": "stderr",
     "output_type": "stream",
     "text": [
      "Retrying downloads:  28%|██▊       | 451/1609 [03:49<10:23,  1.86it/s]"
     ]
    },
    {
     "name": "stdout",
     "output_type": "stream",
     "text": [
      "404 Not Found: https://iiif.wellcomecollection.org/presentation/b14581309\n"
     ]
    },
    {
     "name": "stderr",
     "output_type": "stream",
     "text": [
      "Retrying downloads:  28%|██▊       | 452/1609 [03:50<10:06,  1.91it/s]"
     ]
    },
    {
     "name": "stdout",
     "output_type": "stream",
     "text": [
      "404 Not Found: https://iiif.wellcomecollection.org/presentation/b14569887\n"
     ]
    },
    {
     "name": "stderr",
     "output_type": "stream",
     "text": [
      "Retrying downloads:  28%|██▊       | 453/1609 [03:50<09:51,  1.95it/s]"
     ]
    },
    {
     "name": "stdout",
     "output_type": "stream",
     "text": [
      "404 Not Found: https://iiif.wellcomecollection.org/presentation/b12955462\n"
     ]
    },
    {
     "name": "stderr",
     "output_type": "stream",
     "text": [
      "Retrying downloads:  28%|██▊       | 454/1609 [03:51<09:40,  1.99it/s]"
     ]
    },
    {
     "name": "stdout",
     "output_type": "stream",
     "text": [
      "404 Not Found: https://iiif.wellcomecollection.org/presentation/b13147043\n"
     ]
    },
    {
     "name": "stderr",
     "output_type": "stream",
     "text": [
      "Retrying downloads:  28%|██▊       | 455/1609 [03:51<08:10,  2.35it/s]"
     ]
    },
    {
     "name": "stdout",
     "output_type": "stream",
     "text": [
      "404 Not Found: https://iiif.wellcomecollection.org/presentation/b12946345\n"
     ]
    },
    {
     "name": "stderr",
     "output_type": "stream",
     "text": [
      "Retrying downloads:  28%|██▊       | 456/1609 [03:52<08:30,  2.26it/s]"
     ]
    },
    {
     "name": "stdout",
     "output_type": "stream",
     "text": [
      "404 Not Found: https://iiif.wellcomecollection.org/presentation/b10119346\n"
     ]
    },
    {
     "name": "stderr",
     "output_type": "stream",
     "text": [
      "Retrying downloads:  28%|██▊       | 457/1609 [03:52<08:51,  2.17it/s]"
     ]
    },
    {
     "name": "stdout",
     "output_type": "stream",
     "text": [
      "404 Not Found: https://iiif.wellcomecollection.org/presentation/b10552911\n"
     ]
    },
    {
     "name": "stderr",
     "output_type": "stream",
     "text": [
      "Retrying downloads:  28%|██▊       | 458/1609 [03:53<09:07,  2.10it/s]"
     ]
    },
    {
     "name": "stdout",
     "output_type": "stream",
     "text": [
      "404 Not Found: https://iiif.wellcomecollection.org/presentation/b1217970x\n"
     ]
    },
    {
     "name": "stderr",
     "output_type": "stream",
     "text": [
      "Retrying downloads:  29%|██▊       | 459/1609 [03:53<09:29,  2.02it/s]"
     ]
    },
    {
     "name": "stdout",
     "output_type": "stream",
     "text": [
      "404 Not Found: https://iiif.wellcomecollection.org/presentation/b10109961\n"
     ]
    },
    {
     "name": "stderr",
     "output_type": "stream",
     "text": [
      "Retrying downloads:  29%|██▊       | 460/1609 [03:54<09:22,  2.04it/s]"
     ]
    },
    {
     "name": "stdout",
     "output_type": "stream",
     "text": [
      "404 Not Found: https://iiif.wellcomecollection.org/presentation/b14561438\n"
     ]
    },
    {
     "name": "stderr",
     "output_type": "stream",
     "text": [
      "Retrying downloads:  29%|██▊       | 461/1609 [03:54<09:19,  2.05it/s]"
     ]
    },
    {
     "name": "stdout",
     "output_type": "stream",
     "text": [
      "404 Not Found: https://iiif.wellcomecollection.org/presentation/b11512490\n"
     ]
    },
    {
     "name": "stderr",
     "output_type": "stream",
     "text": [
      "Retrying downloads:  29%|██▊       | 462/1609 [03:55<09:23,  2.04it/s]"
     ]
    },
    {
     "name": "stdout",
     "output_type": "stream",
     "text": [
      "404 Not Found: https://iiif.wellcomecollection.org/presentation/b11149930\n"
     ]
    },
    {
     "name": "stderr",
     "output_type": "stream",
     "text": [
      "Retrying downloads:  29%|██▉       | 463/1609 [03:55<09:30,  2.01it/s]"
     ]
    },
    {
     "name": "stdout",
     "output_type": "stream",
     "text": [
      "404 Not Found: https://iiif.wellcomecollection.org/presentation/b1456872x\n"
     ]
    },
    {
     "name": "stderr",
     "output_type": "stream",
     "text": [
      "Retrying downloads:  29%|██▉       | 464/1609 [03:56<09:26,  2.02it/s]"
     ]
    },
    {
     "name": "stdout",
     "output_type": "stream",
     "text": [
      "404 Not Found: https://iiif.wellcomecollection.org/presentation/b16440286\n"
     ]
    },
    {
     "name": "stderr",
     "output_type": "stream",
     "text": [
      "Retrying downloads:  29%|██▉       | 465/1609 [03:56<09:19,  2.04it/s]"
     ]
    },
    {
     "name": "stdout",
     "output_type": "stream",
     "text": [
      "404 Not Found: https://iiif.wellcomecollection.org/presentation/b11060499\n"
     ]
    },
    {
     "name": "stderr",
     "output_type": "stream",
     "text": [
      "Retrying downloads:  29%|██▉       | 466/1609 [03:57<10:12,  1.87it/s]"
     ]
    },
    {
     "name": "stdout",
     "output_type": "stream",
     "text": [
      "404 Not Found: https://iiif.wellcomecollection.org/presentation/b12207172\n"
     ]
    },
    {
     "name": "stderr",
     "output_type": "stream",
     "text": [
      "Retrying downloads:  29%|██▉       | 467/1609 [03:57<09:55,  1.92it/s]"
     ]
    },
    {
     "name": "stdout",
     "output_type": "stream",
     "text": [
      "404 Not Found: https://iiif.wellcomecollection.org/presentation/b10620539\n"
     ]
    },
    {
     "name": "stderr",
     "output_type": "stream",
     "text": [
      "Retrying downloads:  29%|██▉       | 468/1609 [03:58<09:40,  1.97it/s]"
     ]
    },
    {
     "name": "stdout",
     "output_type": "stream",
     "text": [
      "404 Not Found: https://iiif.wellcomecollection.org/presentation/b10615957\n"
     ]
    },
    {
     "name": "stderr",
     "output_type": "stream",
     "text": [
      "Retrying downloads:  29%|██▉       | 469/1609 [03:58<09:29,  2.00it/s]"
     ]
    },
    {
     "name": "stdout",
     "output_type": "stream",
     "text": [
      "404 Not Found: https://iiif.wellcomecollection.org/presentation/b13150790\n"
     ]
    },
    {
     "name": "stderr",
     "output_type": "stream",
     "text": [
      "Retrying downloads:  29%|██▉       | 470/1609 [03:59<09:16,  2.05it/s]"
     ]
    },
    {
     "name": "stdout",
     "output_type": "stream",
     "text": [
      "404 Not Found: https://iiif.wellcomecollection.org/presentation/b11506180\n"
     ]
    },
    {
     "name": "stderr",
     "output_type": "stream",
     "text": [
      "Retrying downloads:  29%|██▉       | 471/1609 [03:59<09:13,  2.06it/s]"
     ]
    },
    {
     "name": "stdout",
     "output_type": "stream",
     "text": [
      "404 Not Found: https://iiif.wellcomecollection.org/presentation/b12208310\n"
     ]
    },
    {
     "name": "stderr",
     "output_type": "stream",
     "text": [
      "Retrying downloads:  29%|██▉       | 472/1609 [04:00<09:28,  2.00it/s]"
     ]
    },
    {
     "name": "stdout",
     "output_type": "stream",
     "text": [
      "404 Not Found: https://iiif.wellcomecollection.org/presentation/b10557064\n"
     ]
    },
    {
     "name": "stderr",
     "output_type": "stream",
     "text": [
      "Retrying downloads:  29%|██▉       | 473/1609 [04:00<09:41,  1.95it/s]"
     ]
    },
    {
     "name": "stdout",
     "output_type": "stream",
     "text": [
      "404 Not Found: https://iiif.wellcomecollection.org/presentation/b10107708\n"
     ]
    },
    {
     "name": "stderr",
     "output_type": "stream",
     "text": [
      "Retrying downloads:  29%|██▉       | 474/1609 [04:01<09:44,  1.94it/s]"
     ]
    },
    {
     "name": "stdout",
     "output_type": "stream",
     "text": [
      "404 Not Found: https://iiif.wellcomecollection.org/presentation/b13135879\n"
     ]
    },
    {
     "name": "stderr",
     "output_type": "stream",
     "text": [
      "Retrying downloads:  30%|██▉       | 475/1609 [04:01<09:38,  1.96it/s]"
     ]
    },
    {
     "name": "stdout",
     "output_type": "stream",
     "text": [
      "404 Not Found: https://iiif.wellcomecollection.org/presentation/b11149589\n"
     ]
    },
    {
     "name": "stderr",
     "output_type": "stream",
     "text": [
      "Retrying downloads:  30%|██▉       | 476/1609 [04:02<09:18,  2.03it/s]"
     ]
    },
    {
     "name": "stdout",
     "output_type": "stream",
     "text": [
      "404 Not Found: https://iiif.wellcomecollection.org/presentation/b1148200x\n"
     ]
    },
    {
     "name": "stderr",
     "output_type": "stream",
     "text": [
      "Retrying downloads:  30%|██▉       | 477/1609 [04:02<09:20,  2.02it/s]"
     ]
    },
    {
     "name": "stdout",
     "output_type": "stream",
     "text": [
      "404 Not Found: https://iiif.wellcomecollection.org/presentation/b11280888\n"
     ]
    },
    {
     "name": "stderr",
     "output_type": "stream",
     "text": [
      "Retrying downloads:  30%|██▉       | 478/1609 [04:03<09:22,  2.01it/s]"
     ]
    },
    {
     "name": "stdout",
     "output_type": "stream",
     "text": [
      "404 Not Found: https://iiif.wellcomecollection.org/presentation/b10890324\n"
     ]
    },
    {
     "name": "stderr",
     "output_type": "stream",
     "text": [
      "Retrying downloads:  30%|██▉       | 479/1609 [04:03<09:18,  2.02it/s]"
     ]
    },
    {
     "name": "stdout",
     "output_type": "stream",
     "text": [
      "404 Not Found: https://iiif.wellcomecollection.org/presentation/b11536986\n"
     ]
    },
    {
     "name": "stderr",
     "output_type": "stream",
     "text": [
      "Retrying downloads:  30%|██▉       | 480/1609 [04:04<09:22,  2.01it/s]"
     ]
    },
    {
     "name": "stdout",
     "output_type": "stream",
     "text": [
      "404 Not Found: https://iiif.wellcomecollection.org/presentation/b12206210\n"
     ]
    },
    {
     "name": "stderr",
     "output_type": "stream",
     "text": [
      "Retrying downloads:  30%|██▉       | 481/1609 [04:04<09:29,  1.98it/s]"
     ]
    },
    {
     "name": "stdout",
     "output_type": "stream",
     "text": [
      "404 Not Found: https://iiif.wellcomecollection.org/presentation/b10119577\n"
     ]
    },
    {
     "name": "stderr",
     "output_type": "stream",
     "text": [
      "Retrying downloads:  30%|██▉       | 482/1609 [04:05<09:52,  1.90it/s]"
     ]
    },
    {
     "name": "stdout",
     "output_type": "stream",
     "text": [
      "404 Not Found: https://iiif.wellcomecollection.org/presentation/b10111049\n"
     ]
    },
    {
     "name": "stderr",
     "output_type": "stream",
     "text": [
      "Retrying downloads:  30%|███       | 483/1609 [04:05<09:48,  1.91it/s]"
     ]
    },
    {
     "name": "stdout",
     "output_type": "stream",
     "text": [
      "404 Not Found: https://iiif.wellcomecollection.org/presentation/b11488207\n"
     ]
    },
    {
     "name": "stderr",
     "output_type": "stream",
     "text": [
      "Retrying downloads:  30%|███       | 484/1609 [04:06<09:36,  1.95it/s]"
     ]
    },
    {
     "name": "stdout",
     "output_type": "stream",
     "text": [
      "404 Not Found: https://iiif.wellcomecollection.org/presentation/b13152269\n"
     ]
    },
    {
     "name": "stderr",
     "output_type": "stream",
     "text": [
      "Retrying downloads:  30%|███       | 485/1609 [04:06<09:20,  2.01it/s]"
     ]
    },
    {
     "name": "stdout",
     "output_type": "stream",
     "text": [
      "404 Not Found: https://iiif.wellcomecollection.org/presentation/b17551213\n"
     ]
    },
    {
     "name": "stderr",
     "output_type": "stream",
     "text": [
      "Retrying downloads:  30%|███       | 486/1609 [04:07<09:28,  1.98it/s]"
     ]
    },
    {
     "name": "stdout",
     "output_type": "stream",
     "text": [
      "404 Not Found: https://iiif.wellcomecollection.org/presentation/b10702908\n"
     ]
    },
    {
     "name": "stderr",
     "output_type": "stream",
     "text": [
      "Retrying downloads:  30%|███       | 487/1609 [04:07<09:35,  1.95it/s]"
     ]
    },
    {
     "name": "stdout",
     "output_type": "stream",
     "text": [
      "404 Not Found: https://iiif.wellcomecollection.org/presentation/b1114838x\n"
     ]
    },
    {
     "name": "stderr",
     "output_type": "stream",
     "text": [
      "Retrying downloads:  30%|███       | 488/1609 [04:08<09:22,  1.99it/s]"
     ]
    },
    {
     "name": "stdout",
     "output_type": "stream",
     "text": [
      "404 Not Found: https://iiif.wellcomecollection.org/presentation/b11538041\n"
     ]
    },
    {
     "name": "stderr",
     "output_type": "stream",
     "text": [
      "Retrying downloads:  30%|███       | 489/1609 [04:08<09:09,  2.04it/s]"
     ]
    },
    {
     "name": "stdout",
     "output_type": "stream",
     "text": [
      "404 Not Found: https://iiif.wellcomecollection.org/presentation/b10328774\n"
     ]
    },
    {
     "name": "stderr",
     "output_type": "stream",
     "text": [
      "Retrying downloads:  30%|███       | 490/1609 [04:09<09:10,  2.03it/s]"
     ]
    },
    {
     "name": "stdout",
     "output_type": "stream",
     "text": [
      "404 Not Found: https://iiif.wellcomecollection.org/presentation/b14576120\n"
     ]
    },
    {
     "name": "stderr",
     "output_type": "stream",
     "text": [
      "Retrying downloads:  31%|███       | 491/1609 [04:09<09:58,  1.87it/s]"
     ]
    },
    {
     "name": "stdout",
     "output_type": "stream",
     "text": [
      "404 Not Found: https://iiif.wellcomecollection.org/presentation/b11056095\n"
     ]
    },
    {
     "name": "stderr",
     "output_type": "stream",
     "text": [
      "Retrying downloads:  31%|███       | 492/1609 [04:10<09:53,  1.88it/s]"
     ]
    },
    {
     "name": "stdout",
     "output_type": "stream",
     "text": [
      "404 Not Found: https://iiif.wellcomecollection.org/presentation/b13136318\n"
     ]
    },
    {
     "name": "stderr",
     "output_type": "stream",
     "text": [
      "Retrying downloads:  31%|███       | 493/1609 [04:10<09:27,  1.97it/s]"
     ]
    },
    {
     "name": "stdout",
     "output_type": "stream",
     "text": [
      "404 Not Found: https://iiif.wellcomecollection.org/presentation/b11144749\n"
     ]
    },
    {
     "name": "stderr",
     "output_type": "stream",
     "text": [
      "Retrying downloads:  31%|███       | 494/1609 [04:11<09:38,  1.93it/s]"
     ]
    },
    {
     "name": "stdout",
     "output_type": "stream",
     "text": [
      "404 Not Found: https://iiif.wellcomecollection.org/presentation/b10119000\n"
     ]
    },
    {
     "name": "stderr",
     "output_type": "stream",
     "text": [
      "Retrying downloads:  31%|███       | 495/1609 [04:11<09:25,  1.97it/s]"
     ]
    },
    {
     "name": "stdout",
     "output_type": "stream",
     "text": [
      "404 Not Found: https://iiif.wellcomecollection.org/presentation/b10108683\n"
     ]
    },
    {
     "name": "stderr",
     "output_type": "stream",
     "text": [
      "Retrying downloads:  31%|███       | 496/1609 [04:12<09:09,  2.02it/s]"
     ]
    },
    {
     "name": "stdout",
     "output_type": "stream",
     "text": [
      "404 Not Found: https://iiif.wellcomecollection.org/presentation/b12823247\n"
     ]
    },
    {
     "name": "stderr",
     "output_type": "stream",
     "text": [
      "Retrying downloads:  31%|███       | 497/1609 [04:12<09:08,  2.03it/s]"
     ]
    },
    {
     "name": "stdout",
     "output_type": "stream",
     "text": [
      "404 Not Found: https://iiif.wellcomecollection.org/presentation/b10004609\n"
     ]
    },
    {
     "name": "stderr",
     "output_type": "stream",
     "text": [
      "Retrying downloads:  31%|███       | 498/1609 [04:13<09:02,  2.05it/s]"
     ]
    },
    {
     "name": "stdout",
     "output_type": "stream",
     "text": [
      "404 Not Found: https://iiif.wellcomecollection.org/presentation/b11477611\n"
     ]
    },
    {
     "name": "stderr",
     "output_type": "stream",
     "text": [
      "Retrying downloads:  31%|███       | 499/1609 [04:13<09:02,  2.05it/s]"
     ]
    },
    {
     "name": "stdout",
     "output_type": "stream",
     "text": [
      "404 Not Found: https://iiif.wellcomecollection.org/presentation/b13255794\n"
     ]
    },
    {
     "name": "stderr",
     "output_type": "stream",
     "text": [
      "Retrying downloads:  31%|███       | 500/1609 [04:14<09:11,  2.01it/s]"
     ]
    },
    {
     "name": "stdout",
     "output_type": "stream",
     "text": [
      "404 Not Found: https://iiif.wellcomecollection.org/presentation/b10934145\n"
     ]
    },
    {
     "name": "stderr",
     "output_type": "stream",
     "text": [
      "Retrying downloads:  31%|███       | 501/1609 [04:14<09:12,  2.01it/s]"
     ]
    },
    {
     "name": "stdout",
     "output_type": "stream",
     "text": [
      "404 Not Found: https://iiif.wellcomecollection.org/presentation/b11533821\n"
     ]
    },
    {
     "name": "stderr",
     "output_type": "stream",
     "text": [
      "Retrying downloads:  31%|███       | 502/1609 [04:15<09:24,  1.96it/s]"
     ]
    },
    {
     "name": "stdout",
     "output_type": "stream",
     "text": [
      "404 Not Found: https://iiif.wellcomecollection.org/presentation/b12953519\n"
     ]
    },
    {
     "name": "stderr",
     "output_type": "stream",
     "text": [
      "Retrying downloads:  31%|███▏      | 503/1609 [04:15<09:20,  1.97it/s]"
     ]
    },
    {
     "name": "stdout",
     "output_type": "stream",
     "text": [
      "404 Not Found: https://iiif.wellcomecollection.org/presentation/b10883575\n"
     ]
    },
    {
     "name": "stderr",
     "output_type": "stream",
     "text": [
      "Retrying downloads:  31%|███▏      | 504/1609 [04:16<09:21,  1.97it/s]"
     ]
    },
    {
     "name": "stdout",
     "output_type": "stream",
     "text": [
      "404 Not Found: https://iiif.wellcomecollection.org/presentation/b13126672\n"
     ]
    },
    {
     "name": "stderr",
     "output_type": "stream",
     "text": [
      "Retrying downloads:  31%|███▏      | 505/1609 [04:16<09:23,  1.96it/s]"
     ]
    },
    {
     "name": "stdout",
     "output_type": "stream",
     "text": [
      "404 Not Found: https://iiif.wellcomecollection.org/presentation/b10110884\n"
     ]
    },
    {
     "name": "stderr",
     "output_type": "stream",
     "text": [
      "Retrying downloads:  31%|███▏      | 506/1609 [04:17<09:22,  1.96it/s]"
     ]
    },
    {
     "name": "stdout",
     "output_type": "stream",
     "text": [
      "404 Not Found: https://iiif.wellcomecollection.org/presentation/b12953891\n"
     ]
    },
    {
     "name": "stderr",
     "output_type": "stream",
     "text": [
      "Retrying downloads:  32%|███▏      | 507/1609 [04:17<09:25,  1.95it/s]"
     ]
    },
    {
     "name": "stdout",
     "output_type": "stream",
     "text": [
      "404 Not Found: https://iiif.wellcomecollection.org/presentation/b12071924\n"
     ]
    },
    {
     "name": "stderr",
     "output_type": "stream",
     "text": [
      "Retrying downloads:  32%|███▏      | 508/1609 [04:18<09:16,  1.98it/s]"
     ]
    },
    {
     "name": "stdout",
     "output_type": "stream",
     "text": [
      "404 Not Found: https://iiif.wellcomecollection.org/presentation/b1456161x\n"
     ]
    },
    {
     "name": "stderr",
     "output_type": "stream",
     "text": [
      "Retrying downloads:  32%|███▏      | 509/1609 [04:18<09:19,  1.97it/s]"
     ]
    },
    {
     "name": "stdout",
     "output_type": "stream",
     "text": [
      "404 Not Found: https://iiif.wellcomecollection.org/presentation/b1040076x\n"
     ]
    },
    {
     "name": "stderr",
     "output_type": "stream",
     "text": [
      "Retrying downloads:  32%|███▏      | 510/1609 [04:19<09:08,  2.00it/s]"
     ]
    },
    {
     "name": "stdout",
     "output_type": "stream",
     "text": [
      "404 Not Found: https://iiif.wellcomecollection.org/presentation/b11059771\n"
     ]
    },
    {
     "name": "stderr",
     "output_type": "stream",
     "text": [
      "Retrying downloads:  32%|███▏      | 511/1609 [04:19<09:07,  2.00it/s]"
     ]
    },
    {
     "name": "stdout",
     "output_type": "stream",
     "text": [
      "404 Not Found: https://iiif.wellcomecollection.org/presentation/b10110227\n"
     ]
    },
    {
     "name": "stderr",
     "output_type": "stream",
     "text": [
      "Retrying downloads:  32%|███▏      | 512/1609 [04:20<09:06,  2.01it/s]"
     ]
    },
    {
     "name": "stdout",
     "output_type": "stream",
     "text": [
      "404 Not Found: https://iiif.wellcomecollection.org/presentation/b11142686\n"
     ]
    },
    {
     "name": "stderr",
     "output_type": "stream",
     "text": [
      "Retrying downloads:  32%|███▏      | 513/1609 [04:20<09:23,  1.95it/s]"
     ]
    },
    {
     "name": "stdout",
     "output_type": "stream",
     "text": [
      "404 Not Found: https://iiif.wellcomecollection.org/presentation/b10278175\n"
     ]
    },
    {
     "name": "stderr",
     "output_type": "stream",
     "text": [
      "Retrying downloads:  32%|███▏      | 514/1609 [04:21<09:05,  2.01it/s]"
     ]
    },
    {
     "name": "stdout",
     "output_type": "stream",
     "text": [
      "404 Not Found: https://iiif.wellcomecollection.org/presentation/b11527766\n"
     ]
    },
    {
     "name": "stderr",
     "output_type": "stream",
     "text": [
      "Retrying downloads:  32%|███▏      | 515/1609 [04:21<09:07,  2.00it/s]"
     ]
    },
    {
     "name": "stdout",
     "output_type": "stream",
     "text": [
      "404 Not Found: https://iiif.wellcomecollection.org/presentation/b10775080\n"
     ]
    },
    {
     "name": "stderr",
     "output_type": "stream",
     "text": [
      "Retrying downloads:  32%|███▏      | 516/1609 [04:22<09:25,  1.93it/s]"
     ]
    },
    {
     "name": "stdout",
     "output_type": "stream",
     "text": [
      "404 Not Found: https://iiif.wellcomecollection.org/presentation/b10005869\n"
     ]
    },
    {
     "name": "stderr",
     "output_type": "stream",
     "text": [
      "Retrying downloads:  32%|███▏      | 517/1609 [04:22<09:13,  1.97it/s]"
     ]
    },
    {
     "name": "stdout",
     "output_type": "stream",
     "text": [
      "404 Not Found: https://iiif.wellcomecollection.org/presentation/b12161299\n"
     ]
    },
    {
     "name": "stderr",
     "output_type": "stream",
     "text": [
      "Retrying downloads:  32%|███▏      | 518/1609 [04:23<09:15,  1.96it/s]"
     ]
    },
    {
     "name": "stdout",
     "output_type": "stream",
     "text": [
      "404 Not Found: https://iiif.wellcomecollection.org/presentation/b14570245\n"
     ]
    },
    {
     "name": "stderr",
     "output_type": "stream",
     "text": [
      "Retrying downloads:  32%|███▏      | 519/1609 [04:23<09:04,  2.00it/s]"
     ]
    },
    {
     "name": "stdout",
     "output_type": "stream",
     "text": [
      "404 Not Found: https://iiif.wellcomecollection.org/presentation/b1654092x\n"
     ]
    },
    {
     "name": "stderr",
     "output_type": "stream",
     "text": [
      "Retrying downloads:  32%|███▏      | 520/1609 [04:24<09:04,  2.00it/s]"
     ]
    },
    {
     "name": "stdout",
     "output_type": "stream",
     "text": [
      "404 Not Found: https://iiif.wellcomecollection.org/presentation/b10258826\n"
     ]
    },
    {
     "name": "stderr",
     "output_type": "stream",
     "text": [
      "Retrying downloads:  32%|███▏      | 521/1609 [04:24<08:58,  2.02it/s]"
     ]
    },
    {
     "name": "stdout",
     "output_type": "stream",
     "text": [
      "404 Not Found: https://iiif.wellcomecollection.org/presentation/b10781390\n"
     ]
    },
    {
     "name": "stderr",
     "output_type": "stream",
     "text": [
      "Retrying downloads:  32%|███▏      | 522/1609 [04:25<09:00,  2.01it/s]"
     ]
    },
    {
     "name": "stdout",
     "output_type": "stream",
     "text": [
      "404 Not Found: https://iiif.wellcomecollection.org/presentation/b13235941\n"
     ]
    },
    {
     "name": "stderr",
     "output_type": "stream",
     "text": [
      "Retrying downloads:  33%|███▎      | 523/1609 [04:25<08:53,  2.03it/s]"
     ]
    },
    {
     "name": "stdout",
     "output_type": "stream",
     "text": [
      "404 Not Found: https://iiif.wellcomecollection.org/presentation/b12180762\n"
     ]
    },
    {
     "name": "stderr",
     "output_type": "stream",
     "text": [
      "Retrying downloads:  33%|███▎      | 524/1609 [04:26<09:10,  1.97it/s]"
     ]
    },
    {
     "name": "stdout",
     "output_type": "stream",
     "text": [
      "404 Not Found: https://iiif.wellcomecollection.org/presentation/b11534151\n"
     ]
    },
    {
     "name": "stderr",
     "output_type": "stream",
     "text": [
      "Retrying downloads:  33%|███▎      | 525/1609 [04:26<09:06,  1.99it/s]"
     ]
    },
    {
     "name": "stdout",
     "output_type": "stream",
     "text": [
      "404 Not Found: https://iiif.wellcomecollection.org/presentation/b10111712\n"
     ]
    },
    {
     "name": "stderr",
     "output_type": "stream",
     "text": [
      "Retrying downloads:  33%|███▎      | 526/1609 [04:27<09:06,  1.98it/s]"
     ]
    },
    {
     "name": "stdout",
     "output_type": "stream",
     "text": [
      "404 Not Found: https://iiif.wellcomecollection.org/presentation/b11526865\n"
     ]
    },
    {
     "name": "stderr",
     "output_type": "stream",
     "text": [
      "Retrying downloads:  33%|███▎      | 527/1609 [04:27<09:01,  2.00it/s]"
     ]
    },
    {
     "name": "stdout",
     "output_type": "stream",
     "text": [
      "404 Not Found: https://iiif.wellcomecollection.org/presentation/b10323624\n"
     ]
    },
    {
     "name": "stderr",
     "output_type": "stream",
     "text": [
      "Retrying downloads:  33%|███▎      | 528/1609 [04:28<09:24,  1.91it/s]"
     ]
    },
    {
     "name": "stdout",
     "output_type": "stream",
     "text": [
      "404 Not Found: https://iiif.wellcomecollection.org/presentation/b10469783\n"
     ]
    },
    {
     "name": "stderr",
     "output_type": "stream",
     "text": [
      "Retrying downloads:  33%|███▎      | 529/1609 [04:28<09:07,  1.97it/s]"
     ]
    },
    {
     "name": "stdout",
     "output_type": "stream",
     "text": [
      "404 Not Found: https://iiif.wellcomecollection.org/presentation/b10928777\n"
     ]
    },
    {
     "name": "stderr",
     "output_type": "stream",
     "text": [
      "Retrying downloads:  33%|███▎      | 530/1609 [04:29<09:03,  1.99it/s]"
     ]
    },
    {
     "name": "stdout",
     "output_type": "stream",
     "text": [
      "404 Not Found: https://iiif.wellcomecollection.org/presentation/b1455947x\n"
     ]
    },
    {
     "name": "stderr",
     "output_type": "stream",
     "text": [
      "Retrying downloads:  33%|███▎      | 531/1609 [04:29<08:58,  2.00it/s]"
     ]
    },
    {
     "name": "stdout",
     "output_type": "stream",
     "text": [
      "404 Not Found: https://iiif.wellcomecollection.org/presentation/b12951341\n"
     ]
    },
    {
     "name": "stderr",
     "output_type": "stream",
     "text": [
      "Retrying downloads:  33%|███▎      | 532/1609 [04:30<09:04,  1.98it/s]"
     ]
    },
    {
     "name": "stdout",
     "output_type": "stream",
     "text": [
      "404 Not Found: https://iiif.wellcomecollection.org/presentation/b10331098\n"
     ]
    },
    {
     "name": "stderr",
     "output_type": "stream",
     "text": [
      "Retrying downloads:  33%|███▎      | 533/1609 [04:30<09:04,  1.98it/s]"
     ]
    },
    {
     "name": "stdout",
     "output_type": "stream",
     "text": [
      "404 Not Found: https://iiif.wellcomecollection.org/presentation/b10701564\n"
     ]
    },
    {
     "name": "stderr",
     "output_type": "stream",
     "text": [
      "Retrying downloads:  33%|███▎      | 534/1609 [04:31<09:10,  1.95it/s]"
     ]
    },
    {
     "name": "stdout",
     "output_type": "stream",
     "text": [
      "404 Not Found: https://iiif.wellcomecollection.org/presentation/b10326534\n"
     ]
    },
    {
     "name": "stderr",
     "output_type": "stream",
     "text": [
      "Retrying downloads:  33%|███▎      | 535/1609 [04:32<09:05,  1.97it/s]"
     ]
    },
    {
     "name": "stdout",
     "output_type": "stream",
     "text": [
      "404 Not Found: https://iiif.wellcomecollection.org/presentation/b12946503\n"
     ]
    },
    {
     "name": "stderr",
     "output_type": "stream",
     "text": [
      "Retrying downloads:  33%|███▎      | 536/1609 [04:32<08:53,  2.01it/s]"
     ]
    },
    {
     "name": "stdout",
     "output_type": "stream",
     "text": [
      "404 Not Found: https://iiif.wellcomecollection.org/presentation/b10928911\n"
     ]
    },
    {
     "name": "stderr",
     "output_type": "stream",
     "text": [
      "Retrying downloads:  33%|███▎      | 537/1609 [04:32<08:47,  2.03it/s]"
     ]
    },
    {
     "name": "stdout",
     "output_type": "stream",
     "text": [
      "404 Not Found: https://iiif.wellcomecollection.org/presentation/b12844238\n"
     ]
    },
    {
     "name": "stderr",
     "output_type": "stream",
     "text": [
      "Retrying downloads:  33%|███▎      | 538/1609 [04:33<08:41,  2.05it/s]"
     ]
    },
    {
     "name": "stdout",
     "output_type": "stream",
     "text": [
      "404 Not Found: https://iiif.wellcomecollection.org/presentation/b13236180\n"
     ]
    },
    {
     "name": "stderr",
     "output_type": "stream",
     "text": [
      "Retrying downloads:  33%|███▎      | 539/1609 [04:34<09:05,  1.96it/s]"
     ]
    },
    {
     "name": "stdout",
     "output_type": "stream",
     "text": [
      "404 Not Found: https://iiif.wellcomecollection.org/presentation/b1325165x\n"
     ]
    },
    {
     "name": "stderr",
     "output_type": "stream",
     "text": [
      "Retrying downloads:  34%|███▎      | 540/1609 [04:34<09:01,  1.97it/s]"
     ]
    },
    {
     "name": "stdout",
     "output_type": "stream",
     "text": [
      "404 Not Found: https://iiif.wellcomecollection.org/presentation/b10327174\n"
     ]
    },
    {
     "name": "stderr",
     "output_type": "stream",
     "text": [
      "Retrying downloads:  34%|███▎      | 541/1609 [04:34<08:49,  2.02it/s]"
     ]
    },
    {
     "name": "stdout",
     "output_type": "stream",
     "text": [
      "404 Not Found: https://iiif.wellcomecollection.org/presentation/b12953908\n"
     ]
    },
    {
     "name": "stderr",
     "output_type": "stream",
     "text": [
      "Retrying downloads:  34%|███▎      | 542/1609 [04:35<08:47,  2.02it/s]"
     ]
    },
    {
     "name": "stdout",
     "output_type": "stream",
     "text": [
      "404 Not Found: https://iiif.wellcomecollection.org/presentation/b1284407x\n"
     ]
    },
    {
     "name": "stderr",
     "output_type": "stream",
     "text": [
      "Retrying downloads:  34%|███▎      | 543/1609 [04:35<08:52,  2.00it/s]"
     ]
    },
    {
     "name": "stdout",
     "output_type": "stream",
     "text": [
      "404 Not Found: https://iiif.wellcomecollection.org/presentation/b12178895\n"
     ]
    },
    {
     "name": "stderr",
     "output_type": "stream",
     "text": [
      "Retrying downloads:  34%|███▍      | 544/1609 [04:36<08:49,  2.01it/s]"
     ]
    },
    {
     "name": "stdout",
     "output_type": "stream",
     "text": [
      "404 Not Found: https://iiif.wellcomecollection.org/presentation/b14561165\n"
     ]
    },
    {
     "name": "stderr",
     "output_type": "stream",
     "text": [
      "Retrying downloads:  34%|███▍      | 545/1609 [04:36<08:41,  2.04it/s]"
     ]
    },
    {
     "name": "stdout",
     "output_type": "stream",
     "text": [
      "404 Not Found: https://iiif.wellcomecollection.org/presentation/b10111220\n"
     ]
    },
    {
     "name": "stderr",
     "output_type": "stream",
     "text": [
      "Retrying downloads:  34%|███▍      | 546/1609 [04:37<08:44,  2.03it/s]"
     ]
    },
    {
     "name": "stdout",
     "output_type": "stream",
     "text": [
      "404 Not Found: https://iiif.wellcomecollection.org/presentation/b14572308\n"
     ]
    },
    {
     "name": "stderr",
     "output_type": "stream",
     "text": [
      "Retrying downloads:  34%|███▍      | 547/1609 [04:37<08:29,  2.08it/s]"
     ]
    },
    {
     "name": "stdout",
     "output_type": "stream",
     "text": [
      "404 Not Found: https://iiif.wellcomecollection.org/presentation/b12954524\n"
     ]
    },
    {
     "name": "stderr",
     "output_type": "stream",
     "text": [
      "Retrying downloads:  34%|███▍      | 548/1609 [04:38<08:48,  2.01it/s]"
     ]
    },
    {
     "name": "stdout",
     "output_type": "stream",
     "text": [
      "404 Not Found: https://iiif.wellcomecollection.org/presentation/b11506398\n"
     ]
    },
    {
     "name": "stderr",
     "output_type": "stream",
     "text": [
      "Retrying downloads:  34%|███▍      | 549/1609 [04:38<08:32,  2.07it/s]"
     ]
    },
    {
     "name": "stdout",
     "output_type": "stream",
     "text": [
      "404 Not Found: https://iiif.wellcomecollection.org/presentation/b10180680\n"
     ]
    },
    {
     "name": "stderr",
     "output_type": "stream",
     "text": [
      "Retrying downloads:  34%|███▍      | 550/1609 [04:39<08:47,  2.01it/s]"
     ]
    },
    {
     "name": "stdout",
     "output_type": "stream",
     "text": [
      "404 Not Found: https://iiif.wellcomecollection.org/presentation/b13047279\n"
     ]
    },
    {
     "name": "stderr",
     "output_type": "stream",
     "text": [
      "Retrying downloads:  34%|███▍      | 551/1609 [04:39<08:46,  2.01it/s]"
     ]
    },
    {
     "name": "stdout",
     "output_type": "stream",
     "text": [
      "404 Not Found: https://iiif.wellcomecollection.org/presentation/b12207767\n"
     ]
    },
    {
     "name": "stderr",
     "output_type": "stream",
     "text": [
      "Retrying downloads:  34%|███▍      | 552/1609 [04:40<08:36,  2.04it/s]"
     ]
    },
    {
     "name": "stdout",
     "output_type": "stream",
     "text": [
      "404 Not Found: https://iiif.wellcomecollection.org/presentation/b14584517\n"
     ]
    },
    {
     "name": "stderr",
     "output_type": "stream",
     "text": [
      "Retrying downloads:  34%|███▍      | 553/1609 [04:40<08:39,  2.03it/s]"
     ]
    },
    {
     "name": "stdout",
     "output_type": "stream",
     "text": [
      "404 Not Found: https://iiif.wellcomecollection.org/presentation/b12181353\n"
     ]
    },
    {
     "name": "stderr",
     "output_type": "stream",
     "text": [
      "Retrying downloads:  34%|███▍      | 554/1609 [04:41<08:52,  1.98it/s]"
     ]
    },
    {
     "name": "stdout",
     "output_type": "stream",
     "text": [
      "404 Not Found: https://iiif.wellcomecollection.org/presentation/b12205862\n"
     ]
    },
    {
     "name": "stderr",
     "output_type": "stream",
     "text": [
      "Retrying downloads:  34%|███▍      | 555/1609 [04:41<08:51,  1.98it/s]"
     ]
    },
    {
     "name": "stdout",
     "output_type": "stream",
     "text": [
      "404 Not Found: https://iiif.wellcomecollection.org/presentation/b1456578x\n"
     ]
    },
    {
     "name": "stderr",
     "output_type": "stream",
     "text": [
      "Retrying downloads:  35%|███▍      | 556/1609 [04:42<08:34,  2.05it/s]"
     ]
    },
    {
     "name": "stdout",
     "output_type": "stream",
     "text": [
      "404 Not Found: https://iiif.wellcomecollection.org/presentation/b12947945\n"
     ]
    },
    {
     "name": "stderr",
     "output_type": "stream",
     "text": [
      "Retrying downloads:  35%|███▍      | 557/1609 [04:42<07:09,  2.45it/s]"
     ]
    },
    {
     "name": "stdout",
     "output_type": "stream",
     "text": [
      "404 Not Found: https://iiif.wellcomecollection.org/presentation/4\n"
     ]
    },
    {
     "name": "stderr",
     "output_type": "stream",
     "text": [
      "Retrying downloads:  35%|███▍      | 558/1609 [04:43<07:38,  2.29it/s]"
     ]
    },
    {
     "name": "stdout",
     "output_type": "stream",
     "text": [
      "404 Not Found: https://iiif.wellcomecollection.org/presentation/b13137748\n"
     ]
    },
    {
     "name": "stderr",
     "output_type": "stream",
     "text": [
      "Retrying downloads:  35%|███▍      | 559/1609 [04:43<07:52,  2.22it/s]"
     ]
    },
    {
     "name": "stdout",
     "output_type": "stream",
     "text": [
      "404 Not Found: https://iiif.wellcomecollection.org/presentation/b1218746x\n"
     ]
    },
    {
     "name": "stderr",
     "output_type": "stream",
     "text": [
      "Retrying downloads:  35%|███▍      | 560/1609 [04:44<08:01,  2.18it/s]"
     ]
    },
    {
     "name": "stdout",
     "output_type": "stream",
     "text": [
      "404 Not Found: https://iiif.wellcomecollection.org/presentation/b14574986\n"
     ]
    },
    {
     "name": "stderr",
     "output_type": "stream",
     "text": [
      "Retrying downloads:  35%|███▍      | 561/1609 [04:44<08:11,  2.13it/s]"
     ]
    },
    {
     "name": "stdout",
     "output_type": "stream",
     "text": [
      "404 Not Found: https://iiif.wellcomecollection.org/presentation/b11533882\n"
     ]
    },
    {
     "name": "stderr",
     "output_type": "stream",
     "text": [
      "Retrying downloads:  35%|███▍      | 562/1609 [04:45<08:25,  2.07it/s]"
     ]
    },
    {
     "name": "stdout",
     "output_type": "stream",
     "text": [
      "404 Not Found: https://iiif.wellcomecollection.org/presentation/b15489863\n"
     ]
    },
    {
     "name": "stderr",
     "output_type": "stream",
     "text": [
      "Retrying downloads:  35%|███▍      | 563/1609 [04:45<08:14,  2.12it/s]"
     ]
    },
    {
     "name": "stdout",
     "output_type": "stream",
     "text": [
      "404 Not Found: https://iiif.wellcomecollection.org/presentation/b11147830\n"
     ]
    },
    {
     "name": "stderr",
     "output_type": "stream",
     "text": [
      "Retrying downloads:  35%|███▌      | 564/1609 [04:46<08:23,  2.07it/s]"
     ]
    },
    {
     "name": "stdout",
     "output_type": "stream",
     "text": [
      "404 Not Found: https://iiif.wellcomecollection.org/presentation/b1028056x\n"
     ]
    },
    {
     "name": "stderr",
     "output_type": "stream",
     "text": [
      "Retrying downloads:  35%|███▌      | 565/1609 [04:46<08:33,  2.04it/s]"
     ]
    },
    {
     "name": "stdout",
     "output_type": "stream",
     "text": [
      "404 Not Found: https://iiif.wellcomecollection.org/presentation/b12979272\n"
     ]
    },
    {
     "name": "stderr",
     "output_type": "stream",
     "text": [
      "Retrying downloads:  35%|███▌      | 566/1609 [04:47<08:54,  1.95it/s]"
     ]
    },
    {
     "name": "stdout",
     "output_type": "stream",
     "text": [
      "404 Not Found: https://iiif.wellcomecollection.org/presentation/b11198795\n"
     ]
    },
    {
     "name": "stderr",
     "output_type": "stream",
     "text": [
      "Retrying downloads:  35%|███▌      | 567/1609 [04:47<08:36,  2.02it/s]"
     ]
    },
    {
     "name": "stdout",
     "output_type": "stream",
     "text": [
      "404 Not Found: https://iiif.wellcomecollection.org/presentation/b12832108\n"
     ]
    },
    {
     "name": "stderr",
     "output_type": "stream",
     "text": [
      "Retrying downloads:  35%|███▌      | 568/1609 [04:48<08:57,  1.94it/s]"
     ]
    },
    {
     "name": "stdout",
     "output_type": "stream",
     "text": [
      "404 Not Found: https://iiif.wellcomecollection.org/presentation/b11144750\n"
     ]
    },
    {
     "name": "stderr",
     "output_type": "stream",
     "text": [
      "Retrying downloads:  35%|███▌      | 569/1609 [04:48<08:57,  1.94it/s]"
     ]
    },
    {
     "name": "stdout",
     "output_type": "stream",
     "text": [
      "404 Not Found: https://iiif.wellcomecollection.org/presentation/b10617115\n"
     ]
    },
    {
     "name": "stderr",
     "output_type": "stream",
     "text": [
      "Retrying downloads:  35%|███▌      | 570/1609 [04:49<08:44,  1.98it/s]"
     ]
    },
    {
     "name": "stdout",
     "output_type": "stream",
     "text": [
      "404 Not Found: https://iiif.wellcomecollection.org/presentation/b1456810x\n"
     ]
    },
    {
     "name": "stderr",
     "output_type": "stream",
     "text": [
      "Retrying downloads:  35%|███▌      | 571/1609 [04:49<08:36,  2.01it/s]"
     ]
    },
    {
     "name": "stdout",
     "output_type": "stream",
     "text": [
      "404 Not Found: https://iiif.wellcomecollection.org/presentation/b12204754\n"
     ]
    },
    {
     "name": "stderr",
     "output_type": "stream",
     "text": [
      "Retrying downloads:  36%|███▌      | 572/1609 [04:50<08:25,  2.05it/s]"
     ]
    },
    {
     "name": "stdout",
     "output_type": "stream",
     "text": [
      "404 Not Found: https://iiif.wellcomecollection.org/presentation/b12207548\n"
     ]
    },
    {
     "name": "stderr",
     "output_type": "stream",
     "text": [
      "Retrying downloads:  36%|███▌      | 573/1609 [04:50<08:17,  2.08it/s]"
     ]
    },
    {
     "name": "stdout",
     "output_type": "stream",
     "text": [
      "404 Not Found: https://iiif.wellcomecollection.org/presentation/b12951298\n"
     ]
    },
    {
     "name": "stderr",
     "output_type": "stream",
     "text": [
      "Retrying downloads:  36%|███▌      | 574/1609 [04:51<08:18,  2.07it/s]"
     ]
    },
    {
     "name": "stdout",
     "output_type": "stream",
     "text": [
      "404 Not Found: https://iiif.wellcomecollection.org/presentation/b10763946\n"
     ]
    },
    {
     "name": "stderr",
     "output_type": "stream",
     "text": [
      "Retrying downloads:  36%|███▌      | 575/1609 [04:51<08:26,  2.04it/s]"
     ]
    },
    {
     "name": "stdout",
     "output_type": "stream",
     "text": [
      "404 Not Found: https://iiif.wellcomecollection.org/presentation/b11056381\n"
     ]
    },
    {
     "name": "stderr",
     "output_type": "stream",
     "text": [
      "Retrying downloads:  36%|███▌      | 576/1609 [04:52<08:27,  2.04it/s]"
     ]
    },
    {
     "name": "stdout",
     "output_type": "stream",
     "text": [
      "404 Not Found: https://iiif.wellcomecollection.org/presentation/b11057841\n"
     ]
    },
    {
     "name": "stderr",
     "output_type": "stream",
     "text": [
      "Retrying downloads:  36%|███▌      | 577/1609 [04:52<08:26,  2.04it/s]"
     ]
    },
    {
     "name": "stdout",
     "output_type": "stream",
     "text": [
      "404 Not Found: https://iiif.wellcomecollection.org/presentation/b10120208\n"
     ]
    },
    {
     "name": "stderr",
     "output_type": "stream",
     "text": [
      "Retrying downloads:  36%|███▌      | 578/1609 [04:52<08:16,  2.08it/s]"
     ]
    },
    {
     "name": "stdout",
     "output_type": "stream",
     "text": [
      "404 Not Found: https://iiif.wellcomecollection.org/presentation/b10279945\n"
     ]
    },
    {
     "name": "stderr",
     "output_type": "stream",
     "text": [
      "Retrying downloads:  36%|███▌      | 579/1609 [04:53<08:23,  2.05it/s]"
     ]
    },
    {
     "name": "stdout",
     "output_type": "stream",
     "text": [
      "404 Not Found: https://iiif.wellcomecollection.org/presentation/b10924681\n"
     ]
    },
    {
     "name": "stderr",
     "output_type": "stream",
     "text": [
      "Retrying downloads:  36%|███▌      | 580/1609 [04:53<08:18,  2.06it/s]"
     ]
    },
    {
     "name": "stdout",
     "output_type": "stream",
     "text": [
      "404 Not Found: https://iiif.wellcomecollection.org/presentation/b10111451\n"
     ]
    },
    {
     "name": "stderr",
     "output_type": "stream",
     "text": [
      "Retrying downloads:  36%|███▌      | 581/1609 [04:54<08:15,  2.08it/s]"
     ]
    },
    {
     "name": "stdout",
     "output_type": "stream",
     "text": [
      "404 Not Found: https://iiif.wellcomecollection.org/presentation/b10106984\n"
     ]
    },
    {
     "name": "stderr",
     "output_type": "stream",
     "text": [
      "Retrying downloads:  36%|███▌      | 582/1609 [04:54<08:17,  2.06it/s]"
     ]
    },
    {
     "name": "stdout",
     "output_type": "stream",
     "text": [
      "404 Not Found: https://iiif.wellcomecollection.org/presentation/b14563393\n"
     ]
    },
    {
     "name": "stderr",
     "output_type": "stream",
     "text": [
      "Retrying downloads:  36%|███▌      | 583/1609 [04:55<08:41,  1.97it/s]"
     ]
    },
    {
     "name": "stdout",
     "output_type": "stream",
     "text": [
      "404 Not Found: https://iiif.wellcomecollection.org/presentation/b13137220\n"
     ]
    },
    {
     "name": "stderr",
     "output_type": "stream",
     "text": [
      "Retrying downloads:  36%|███▋      | 584/1609 [04:55<08:26,  2.02it/s]"
     ]
    },
    {
     "name": "stdout",
     "output_type": "stream",
     "text": [
      "404 Not Found: https://iiif.wellcomecollection.org/presentation/b12954056\n"
     ]
    },
    {
     "name": "stderr",
     "output_type": "stream",
     "text": [
      "Retrying downloads:  36%|███▋      | 585/1609 [04:56<08:27,  2.02it/s]"
     ]
    },
    {
     "name": "stdout",
     "output_type": "stream",
     "text": [
      "404 Not Found: https://iiif.wellcomecollection.org/presentation/b14594079\n"
     ]
    },
    {
     "name": "stderr",
     "output_type": "stream",
     "text": [
      "Retrying downloads:  36%|███▋      | 586/1609 [04:57<09:07,  1.87it/s]"
     ]
    },
    {
     "name": "stdout",
     "output_type": "stream",
     "text": [
      "404 Not Found: https://iiif.wellcomecollection.org/presentation/b11066921\n"
     ]
    },
    {
     "name": "stderr",
     "output_type": "stream",
     "text": [
      "Retrying downloads:  36%|███▋      | 587/1609 [04:57<09:01,  1.89it/s]"
     ]
    },
    {
     "name": "stdout",
     "output_type": "stream",
     "text": [
      "404 Not Found: https://iiif.wellcomecollection.org/presentation/b14560318\n"
     ]
    },
    {
     "name": "stderr",
     "output_type": "stream",
     "text": [
      "Retrying downloads:  37%|███▋      | 588/1609 [04:58<10:14,  1.66it/s]"
     ]
    },
    {
     "name": "stdout",
     "output_type": "stream",
     "text": [
      "404 Not Found: https://iiif.wellcomecollection.org/presentation/b12838718\n"
     ]
    },
    {
     "name": "stderr",
     "output_type": "stream",
     "text": [
      "Retrying downloads:  37%|███▋      | 589/1609 [04:58<09:37,  1.77it/s]"
     ]
    },
    {
     "name": "stdout",
     "output_type": "stream",
     "text": [
      "404 Not Found: https://iiif.wellcomecollection.org/presentation/b14560975\n"
     ]
    },
    {
     "name": "stderr",
     "output_type": "stream",
     "text": [
      "Retrying downloads:  37%|███▋      | 590/1609 [04:59<09:17,  1.83it/s]"
     ]
    },
    {
     "name": "stdout",
     "output_type": "stream",
     "text": [
      "404 Not Found: https://iiif.wellcomecollection.org/presentation/b10781043\n"
     ]
    },
    {
     "name": "stderr",
     "output_type": "stream",
     "text": [
      "Retrying downloads:  37%|███▋      | 591/1609 [04:59<09:44,  1.74it/s]"
     ]
    },
    {
     "name": "stdout",
     "output_type": "stream",
     "text": [
      "404 Not Found: https://iiif.wellcomecollection.org/presentation/b11144762\n"
     ]
    },
    {
     "name": "stderr",
     "output_type": "stream",
     "text": [
      "Retrying downloads:  37%|███▋      | 592/1609 [05:00<09:07,  1.86it/s]"
     ]
    },
    {
     "name": "stdout",
     "output_type": "stream",
     "text": [
      "404 Not Found: https://iiif.wellcomecollection.org/presentation/b11144646\n"
     ]
    },
    {
     "name": "stderr",
     "output_type": "stream",
     "text": [
      "Retrying downloads:  37%|███▋      | 593/1609 [05:00<09:08,  1.85it/s]"
     ]
    },
    {
     "name": "stdout",
     "output_type": "stream",
     "text": [
      "404 Not Found: https://iiif.wellcomecollection.org/presentation/b12063691\n"
     ]
    },
    {
     "name": "stderr",
     "output_type": "stream",
     "text": [
      "Retrying downloads:  37%|███▋      | 594/1609 [05:01<08:56,  1.89it/s]"
     ]
    },
    {
     "name": "stdout",
     "output_type": "stream",
     "text": [
      "404 Not Found: https://iiif.wellcomecollection.org/presentation/b13263171\n"
     ]
    },
    {
     "name": "stderr",
     "output_type": "stream",
     "text": [
      "Retrying downloads:  37%|███▋      | 595/1609 [05:02<09:12,  1.83it/s]"
     ]
    },
    {
     "name": "stdout",
     "output_type": "stream",
     "text": [
      "404 Not Found: https://iiif.wellcomecollection.org/presentation/b12205369\n"
     ]
    },
    {
     "name": "stderr",
     "output_type": "stream",
     "text": [
      "Retrying downloads:  37%|███▋      | 596/1609 [05:02<09:02,  1.87it/s]"
     ]
    },
    {
     "name": "stdout",
     "output_type": "stream",
     "text": [
      "404 Not Found: https://iiif.wellcomecollection.org/presentation/b11145535\n"
     ]
    },
    {
     "name": "stderr",
     "output_type": "stream",
     "text": [
      "Retrying downloads:  37%|███▋      | 597/1609 [05:03<09:03,  1.86it/s]"
     ]
    },
    {
     "name": "stdout",
     "output_type": "stream",
     "text": [
      "404 Not Found: https://iiif.wellcomecollection.org/presentation/b14563009\n"
     ]
    },
    {
     "name": "stderr",
     "output_type": "stream",
     "text": [
      "Retrying downloads:  37%|███▋      | 598/1609 [05:03<08:46,  1.92it/s]"
     ]
    },
    {
     "name": "stdout",
     "output_type": "stream",
     "text": [
      "404 Not Found: https://iiif.wellcomecollection.org/presentation/b13262117\n"
     ]
    },
    {
     "name": "stderr",
     "output_type": "stream",
     "text": [
      "Retrying downloads:  37%|███▋      | 599/1609 [05:04<08:26,  2.00it/s]"
     ]
    },
    {
     "name": "stdout",
     "output_type": "stream",
     "text": [
      "404 Not Found: https://iiif.wellcomecollection.org/presentation/b10620485\n"
     ]
    },
    {
     "name": "stderr",
     "output_type": "stream",
     "text": [
      "Retrying downloads:  37%|███▋      | 600/1609 [05:04<08:37,  1.95it/s]"
     ]
    },
    {
     "name": "stdout",
     "output_type": "stream",
     "text": [
      "404 Not Found: https://iiif.wellcomecollection.org/presentation/b13254376\n"
     ]
    },
    {
     "name": "stderr",
     "output_type": "stream",
     "text": [
      "Retrying downloads:  37%|███▋      | 601/1609 [05:05<08:30,  1.97it/s]"
     ]
    },
    {
     "name": "stdout",
     "output_type": "stream",
     "text": [
      "404 Not Found: https://iiif.wellcomecollection.org/presentation/b13083211\n"
     ]
    },
    {
     "name": "stderr",
     "output_type": "stream",
     "text": [
      "Retrying downloads:  37%|███▋      | 602/1609 [05:05<08:26,  1.99it/s]"
     ]
    },
    {
     "name": "stdout",
     "output_type": "stream",
     "text": [
      "404 Not Found: https://iiif.wellcomecollection.org/presentation/b11065771\n"
     ]
    },
    {
     "name": "stderr",
     "output_type": "stream",
     "text": [
      "Retrying downloads:  37%|███▋      | 603/1609 [05:06<08:21,  2.01it/s]"
     ]
    },
    {
     "name": "stdout",
     "output_type": "stream",
     "text": [
      "404 Not Found: https://iiif.wellcomecollection.org/presentation/b10917123\n"
     ]
    },
    {
     "name": "stderr",
     "output_type": "stream",
     "text": [
      "Retrying downloads:  38%|███▊      | 604/1609 [05:06<08:17,  2.02it/s]"
     ]
    },
    {
     "name": "stdout",
     "output_type": "stream",
     "text": [
      "404 Not Found: https://iiif.wellcomecollection.org/presentation/b10280856\n"
     ]
    },
    {
     "name": "stderr",
     "output_type": "stream",
     "text": [
      "Retrying downloads:  38%|███▊      | 605/1609 [05:07<08:13,  2.03it/s]"
     ]
    },
    {
     "name": "stdout",
     "output_type": "stream",
     "text": [
      "404 Not Found: https://iiif.wellcomecollection.org/presentation/b1033662x\n"
     ]
    },
    {
     "name": "stderr",
     "output_type": "stream",
     "text": [
      "Retrying downloads:  38%|███▊      | 606/1609 [05:07<08:03,  2.07it/s]"
     ]
    },
    {
     "name": "stdout",
     "output_type": "stream",
     "text": [
      "404 Not Found: https://iiif.wellcomecollection.org/presentation/b12207925\n"
     ]
    },
    {
     "name": "stderr",
     "output_type": "stream",
     "text": [
      "Retrying downloads:  38%|███▊      | 607/1609 [05:07<08:02,  2.08it/s]"
     ]
    },
    {
     "name": "stdout",
     "output_type": "stream",
     "text": [
      "404 Not Found: https://iiif.wellcomecollection.org/presentation/b16535157\n"
     ]
    },
    {
     "name": "stderr",
     "output_type": "stream",
     "text": [
      "Retrying downloads:  38%|███▊      | 608/1609 [05:08<08:19,  2.00it/s]"
     ]
    },
    {
     "name": "stdout",
     "output_type": "stream",
     "text": [
      "404 Not Found: https://iiif.wellcomecollection.org/presentation/b14585558\n"
     ]
    },
    {
     "name": "stderr",
     "output_type": "stream",
     "text": [
      "Retrying downloads:  38%|███▊      | 609/1609 [05:08<08:16,  2.01it/s]"
     ]
    },
    {
     "name": "stdout",
     "output_type": "stream",
     "text": [
      "404 Not Found: https://iiif.wellcomecollection.org/presentation/b11142996\n"
     ]
    },
    {
     "name": "stderr",
     "output_type": "stream",
     "text": [
      "Retrying downloads:  38%|███▊      | 610/1609 [05:09<08:22,  1.99it/s]"
     ]
    },
    {
     "name": "stdout",
     "output_type": "stream",
     "text": [
      "404 Not Found: https://iiif.wellcomecollection.org/presentation/b1119456x\n"
     ]
    },
    {
     "name": "stderr",
     "output_type": "stream",
     "text": [
      "Retrying downloads:  38%|███▊      | 611/1609 [05:09<08:16,  2.01it/s]"
     ]
    },
    {
     "name": "stdout",
     "output_type": "stream",
     "text": [
      "404 Not Found: https://iiif.wellcomecollection.org/presentation/b10327599\n"
     ]
    },
    {
     "name": "stderr",
     "output_type": "stream",
     "text": [
      "Retrying downloads:  38%|███▊      | 612/1609 [05:10<09:17,  1.79it/s]"
     ]
    },
    {
     "name": "stdout",
     "output_type": "stream",
     "text": [
      "404 Not Found: https://iiif.wellcomecollection.org/presentation/b1147743x\n"
     ]
    },
    {
     "name": "stderr",
     "output_type": "stream",
     "text": [
      "Retrying downloads:  38%|███▊      | 613/1609 [05:11<08:54,  1.86it/s]"
     ]
    },
    {
     "name": "stdout",
     "output_type": "stream",
     "text": [
      "404 Not Found: https://iiif.wellcomecollection.org/presentation/b13261964\n"
     ]
    },
    {
     "name": "stderr",
     "output_type": "stream",
     "text": [
      "Retrying downloads:  38%|███▊      | 614/1609 [05:11<09:04,  1.83it/s]"
     ]
    },
    {
     "name": "stdout",
     "output_type": "stream",
     "text": [
      "404 Not Found: https://iiif.wellcomecollection.org/presentation/b12947751\n"
     ]
    },
    {
     "name": "stderr",
     "output_type": "stream",
     "text": [
      "Retrying downloads:  38%|███▊      | 615/1609 [05:12<09:04,  1.83it/s]"
     ]
    },
    {
     "name": "stdout",
     "output_type": "stream",
     "text": [
      "404 Not Found: https://iiif.wellcomecollection.org/presentation/b11280372\n"
     ]
    },
    {
     "name": "stderr",
     "output_type": "stream",
     "text": [
      "Retrying downloads:  38%|███▊      | 616/1609 [05:12<09:33,  1.73it/s]"
     ]
    },
    {
     "name": "stdout",
     "output_type": "stream",
     "text": [
      "404 Not Found: https://iiif.wellcomecollection.org/presentation/b10773083\n"
     ]
    },
    {
     "name": "stderr",
     "output_type": "stream",
     "text": [
      "Retrying downloads:  38%|███▊      | 617/1609 [05:13<09:07,  1.81it/s]"
     ]
    },
    {
     "name": "stdout",
     "output_type": "stream",
     "text": [
      "404 Not Found: https://iiif.wellcomecollection.org/presentation/b10713682\n"
     ]
    },
    {
     "name": "stderr",
     "output_type": "stream",
     "text": [
      "Retrying downloads:  38%|███▊      | 618/1609 [05:14<09:59,  1.65it/s]"
     ]
    },
    {
     "name": "stdout",
     "output_type": "stream",
     "text": [
      "404 Not Found: https://iiif.wellcomecollection.org/presentation/b11130994\n"
     ]
    },
    {
     "name": "stderr",
     "output_type": "stream",
     "text": [
      "Retrying downloads:  38%|███▊      | 619/1609 [05:14<10:07,  1.63it/s]"
     ]
    },
    {
     "name": "stdout",
     "output_type": "stream",
     "text": [
      "404 Not Found: https://iiif.wellcomecollection.org/presentation/b10111943\n"
     ]
    },
    {
     "name": "stderr",
     "output_type": "stream",
     "text": [
      "Retrying downloads:  39%|███▊      | 620/1609 [05:15<09:30,  1.73it/s]"
     ]
    },
    {
     "name": "stdout",
     "output_type": "stream",
     "text": [
      "404 Not Found: https://iiif.wellcomecollection.org/presentation/b14565614\n"
     ]
    },
    {
     "name": "stderr",
     "output_type": "stream",
     "text": [
      "Retrying downloads:  39%|███▊      | 621/1609 [05:15<09:08,  1.80it/s]"
     ]
    },
    {
     "name": "stdout",
     "output_type": "stream",
     "text": [
      "404 Not Found: https://iiif.wellcomecollection.org/presentation/b10327769\n"
     ]
    },
    {
     "name": "stderr",
     "output_type": "stream",
     "text": [
      "Retrying downloads:  39%|███▊      | 622/1609 [05:16<10:06,  1.63it/s]"
     ]
    },
    {
     "name": "stdout",
     "output_type": "stream",
     "text": [
      "404 Not Found: https://iiif.wellcomecollection.org/presentation/b12953672\n"
     ]
    },
    {
     "name": "stderr",
     "output_type": "stream",
     "text": [
      "Retrying downloads:  39%|███▊      | 623/1609 [05:17<09:42,  1.69it/s]"
     ]
    },
    {
     "name": "stdout",
     "output_type": "stream",
     "text": [
      "404 Not Found: https://iiif.wellcomecollection.org/presentation/b13105498\n"
     ]
    },
    {
     "name": "stderr",
     "output_type": "stream",
     "text": [
      "Retrying downloads:  39%|███▉      | 624/1609 [05:17<09:16,  1.77it/s]"
     ]
    },
    {
     "name": "stdout",
     "output_type": "stream",
     "text": [
      "404 Not Found: https://iiif.wellcomecollection.org/presentation/b33399943\n"
     ]
    },
    {
     "name": "stderr",
     "output_type": "stream",
     "text": [
      "Retrying downloads:  39%|███▉      | 625/1609 [05:18<08:47,  1.87it/s]"
     ]
    },
    {
     "name": "stdout",
     "output_type": "stream",
     "text": [
      "404 Not Found: https://iiif.wellcomecollection.org/presentation/b11280451\n"
     ]
    },
    {
     "name": "stderr",
     "output_type": "stream",
     "text": [
      "Retrying downloads:  39%|███▉      | 626/1609 [05:18<08:28,  1.93it/s]"
     ]
    },
    {
     "name": "stdout",
     "output_type": "stream",
     "text": [
      "404 Not Found: https://iiif.wellcomecollection.org/presentation/b10110574\n"
     ]
    },
    {
     "name": "stderr",
     "output_type": "stream",
     "text": [
      "Retrying downloads:  39%|███▉      | 627/1609 [05:19<08:27,  1.93it/s]"
     ]
    },
    {
     "name": "stdout",
     "output_type": "stream",
     "text": [
      "404 Not Found: https://iiif.wellcomecollection.org/presentation/b10549985\n"
     ]
    },
    {
     "name": "stderr",
     "output_type": "stream",
     "text": [
      "Retrying downloads:  39%|███▉      | 628/1609 [05:19<08:22,  1.95it/s]"
     ]
    },
    {
     "name": "stdout",
     "output_type": "stream",
     "text": [
      "404 Not Found: https://iiif.wellcomecollection.org/presentation/b11145110\n"
     ]
    },
    {
     "name": "stderr",
     "output_type": "stream",
     "text": [
      "Retrying downloads:  39%|███▉      | 629/1609 [05:20<08:08,  2.00it/s]"
     ]
    },
    {
     "name": "stdout",
     "output_type": "stream",
     "text": [
      "404 Not Found: https://iiif.wellcomecollection.org/presentation/b11023636\n"
     ]
    },
    {
     "name": "stderr",
     "output_type": "stream",
     "text": [
      "Retrying downloads:  39%|███▉      | 630/1609 [05:20<08:14,  1.98it/s]"
     ]
    },
    {
     "name": "stdout",
     "output_type": "stream",
     "text": [
      "404 Not Found: https://iiif.wellcomecollection.org/presentation/b14585844\n"
     ]
    },
    {
     "name": "stderr",
     "output_type": "stream",
     "text": [
      "Retrying downloads:  39%|███▉      | 631/1609 [05:21<08:51,  1.84it/s]"
     ]
    },
    {
     "name": "stdout",
     "output_type": "stream",
     "text": [
      "404 Not Found: https://iiif.wellcomecollection.org/presentation/b14561475\n"
     ]
    },
    {
     "name": "stderr",
     "output_type": "stream",
     "text": [
      "Retrying downloads:  39%|███▉      | 632/1609 [05:21<09:04,  1.80it/s]"
     ]
    },
    {
     "name": "stdout",
     "output_type": "stream",
     "text": [
      "404 Not Found: https://iiif.wellcomecollection.org/presentation/b10105736\n"
     ]
    },
    {
     "name": "stderr",
     "output_type": "stream",
     "text": [
      "Retrying downloads:  39%|███▉      | 633/1609 [05:22<08:49,  1.84it/s]"
     ]
    },
    {
     "name": "stdout",
     "output_type": "stream",
     "text": [
      "404 Not Found: https://iiif.wellcomecollection.org/presentation/b12068378\n"
     ]
    },
    {
     "name": "stderr",
     "output_type": "stream",
     "text": [
      "Retrying downloads:  39%|███▉      | 634/1609 [05:22<08:25,  1.93it/s]"
     ]
    },
    {
     "name": "stdout",
     "output_type": "stream",
     "text": [
      "404 Not Found: https://iiif.wellcomecollection.org/presentation/b12205308\n"
     ]
    },
    {
     "name": "stderr",
     "output_type": "stream",
     "text": [
      "Retrying downloads:  39%|███▉      | 635/1609 [05:23<08:28,  1.92it/s]"
     ]
    },
    {
     "name": "stdout",
     "output_type": "stream",
     "text": [
      "404 Not Found: https://iiif.wellcomecollection.org/presentation/b1032463x\n"
     ]
    },
    {
     "name": "stderr",
     "output_type": "stream",
     "text": [
      "Retrying downloads:  40%|███▉      | 636/1609 [05:23<09:21,  1.73it/s]"
     ]
    },
    {
     "name": "stdout",
     "output_type": "stream",
     "text": [
      "404 Not Found: https://iiif.wellcomecollection.org/presentation/b12208498\n"
     ]
    },
    {
     "name": "stderr",
     "output_type": "stream",
     "text": [
      "Retrying downloads:  40%|███▉      | 637/1609 [05:24<08:52,  1.83it/s]"
     ]
    },
    {
     "name": "stdout",
     "output_type": "stream",
     "text": [
      "404 Not Found: https://iiif.wellcomecollection.org/presentation/b13154904\n"
     ]
    },
    {
     "name": "stderr",
     "output_type": "stream",
     "text": [
      "Retrying downloads:  40%|███▉      | 638/1609 [05:24<08:43,  1.85it/s]"
     ]
    },
    {
     "name": "stdout",
     "output_type": "stream",
     "text": [
      "404 Not Found: https://iiif.wellcomecollection.org/presentation/b11055753\n"
     ]
    },
    {
     "name": "stderr",
     "output_type": "stream",
     "text": [
      "Retrying downloads:  40%|███▉      | 639/1609 [05:25<08:33,  1.89it/s]"
     ]
    },
    {
     "name": "stdout",
     "output_type": "stream",
     "text": [
      "404 Not Found: https://iiif.wellcomecollection.org/presentation/b12241283\n"
     ]
    },
    {
     "name": "stderr",
     "output_type": "stream",
     "text": [
      "Retrying downloads:  40%|███▉      | 640/1609 [05:25<08:27,  1.91it/s]"
     ]
    },
    {
     "name": "stdout",
     "output_type": "stream",
     "text": [
      "404 Not Found: https://iiif.wellcomecollection.org/presentation/b10776369\n"
     ]
    },
    {
     "name": "stderr",
     "output_type": "stream",
     "text": [
      "Retrying downloads:  40%|███▉      | 641/1609 [05:26<08:40,  1.86it/s]"
     ]
    },
    {
     "name": "stdout",
     "output_type": "stream",
     "text": [
      "404 Not Found: https://iiif.wellcomecollection.org/presentation/b10470025\n"
     ]
    },
    {
     "name": "stderr",
     "output_type": "stream",
     "text": [
      "Retrying downloads:  40%|███▉      | 642/1609 [05:27<08:43,  1.85it/s]"
     ]
    },
    {
     "name": "stdout",
     "output_type": "stream",
     "text": [
      "404 Not Found: https://iiif.wellcomecollection.org/presentation/b14559456\n"
     ]
    },
    {
     "name": "stderr",
     "output_type": "stream",
     "text": [
      "Retrying downloads:  40%|███▉      | 643/1609 [05:27<08:31,  1.89it/s]"
     ]
    },
    {
     "name": "stdout",
     "output_type": "stream",
     "text": [
      "404 Not Found: https://iiif.wellcomecollection.org/presentation/b10178806\n"
     ]
    },
    {
     "name": "stderr",
     "output_type": "stream",
     "text": [
      "Retrying downloads:  40%|████      | 644/1609 [05:28<08:44,  1.84it/s]"
     ]
    },
    {
     "name": "stdout",
     "output_type": "stream",
     "text": [
      "404 Not Found: https://iiif.wellcomecollection.org/presentation/b12193550\n"
     ]
    },
    {
     "name": "stderr",
     "output_type": "stream",
     "text": [
      "Retrying downloads:  40%|████      | 645/1609 [05:28<08:30,  1.89it/s]"
     ]
    },
    {
     "name": "stdout",
     "output_type": "stream",
     "text": [
      "404 Not Found: https://iiif.wellcomecollection.org/presentation/b10298605\n"
     ]
    },
    {
     "name": "stderr",
     "output_type": "stream",
     "text": [
      "Retrying downloads:  40%|████      | 646/1609 [05:29<08:27,  1.90it/s]"
     ]
    },
    {
     "name": "stdout",
     "output_type": "stream",
     "text": [
      "404 Not Found: https://iiif.wellcomecollection.org/presentation/b10336473\n"
     ]
    },
    {
     "name": "stderr",
     "output_type": "stream",
     "text": [
      "Retrying downloads:  40%|████      | 647/1609 [05:29<08:22,  1.91it/s]"
     ]
    },
    {
     "name": "stdout",
     "output_type": "stream",
     "text": [
      "404 Not Found: https://iiif.wellcomecollection.org/presentation/b1458377x\n"
     ]
    },
    {
     "name": "stderr",
     "output_type": "stream",
     "text": [
      "Retrying downloads:  40%|████      | 648/1609 [05:30<08:28,  1.89it/s]"
     ]
    },
    {
     "name": "stdout",
     "output_type": "stream",
     "text": [
      "404 Not Found: https://iiif.wellcomecollection.org/presentation/b10326212\n"
     ]
    },
    {
     "name": "stderr",
     "output_type": "stream",
     "text": [
      "Retrying downloads:  40%|████      | 649/1609 [05:30<08:14,  1.94it/s]"
     ]
    },
    {
     "name": "stdout",
     "output_type": "stream",
     "text": [
      "404 Not Found: https://iiif.wellcomecollection.org/presentation/b1457486x\n"
     ]
    },
    {
     "name": "stderr",
     "output_type": "stream",
     "text": [
      "Retrying downloads:  40%|████      | 650/1609 [05:31<08:08,  1.96it/s]"
     ]
    },
    {
     "name": "stdout",
     "output_type": "stream",
     "text": [
      "404 Not Found: https://iiif.wellcomecollection.org/presentation/b10111293\n"
     ]
    },
    {
     "name": "stderr",
     "output_type": "stream",
     "text": [
      "Retrying downloads:  40%|████      | 651/1609 [05:31<08:03,  1.98it/s]"
     ]
    },
    {
     "name": "stdout",
     "output_type": "stream",
     "text": [
      "404 Not Found: https://iiif.wellcomecollection.org/presentation/b11149413\n"
     ]
    },
    {
     "name": "stderr",
     "output_type": "stream",
     "text": [
      "Retrying downloads:  41%|████      | 652/1609 [05:32<08:01,  1.99it/s]"
     ]
    },
    {
     "name": "stdout",
     "output_type": "stream",
     "text": [
      "404 Not Found: https://iiif.wellcomecollection.org/presentation/b11533699\n"
     ]
    },
    {
     "name": "stderr",
     "output_type": "stream",
     "text": [
      "Retrying downloads:  41%|████      | 653/1609 [05:32<07:57,  2.00it/s]"
     ]
    },
    {
     "name": "stdout",
     "output_type": "stream",
     "text": [
      "404 Not Found: https://iiif.wellcomecollection.org/presentation/b13431195\n"
     ]
    },
    {
     "name": "stderr",
     "output_type": "stream",
     "text": [
      "Retrying downloads:  41%|████      | 654/1609 [05:33<07:44,  2.06it/s]"
     ]
    },
    {
     "name": "stdout",
     "output_type": "stream",
     "text": [
      "404 Not Found: https://iiif.wellcomecollection.org/presentation/b1324601x\n"
     ]
    },
    {
     "name": "stderr",
     "output_type": "stream",
     "text": [
      "Retrying downloads:  41%|████      | 655/1609 [05:33<07:43,  2.06it/s]"
     ]
    },
    {
     "name": "stdout",
     "output_type": "stream",
     "text": [
      "404 Not Found: https://iiif.wellcomecollection.org/presentation/b10337623\n"
     ]
    },
    {
     "name": "stderr",
     "output_type": "stream",
     "text": [
      "Retrying downloads:  41%|████      | 656/1609 [05:34<07:40,  2.07it/s]"
     ]
    },
    {
     "name": "stdout",
     "output_type": "stream",
     "text": [
      "404 Not Found: https://iiif.wellcomecollection.org/presentation/b13105152\n"
     ]
    },
    {
     "name": "stderr",
     "output_type": "stream",
     "text": [
      "Retrying downloads:  41%|████      | 657/1609 [05:34<07:37,  2.08it/s]"
     ]
    },
    {
     "name": "stdout",
     "output_type": "stream",
     "text": [
      "404 Not Found: https://iiif.wellcomecollection.org/presentation/b10183711\n"
     ]
    },
    {
     "name": "stderr",
     "output_type": "stream",
     "text": [
      "Retrying downloads:  41%|████      | 658/1609 [05:35<08:06,  1.95it/s]"
     ]
    },
    {
     "name": "stdout",
     "output_type": "stream",
     "text": [
      "404 Not Found: https://iiif.wellcomecollection.org/presentation/b12205679\n"
     ]
    },
    {
     "name": "stderr",
     "output_type": "stream",
     "text": [
      "Retrying downloads:  41%|████      | 659/1609 [05:35<08:28,  1.87it/s]"
     ]
    },
    {
     "name": "stdout",
     "output_type": "stream",
     "text": [
      "404 Not Found: https://iiif.wellcomecollection.org/presentation/b14566837\n"
     ]
    },
    {
     "name": "stderr",
     "output_type": "stream",
     "text": [
      "Retrying downloads:  41%|████      | 660/1609 [05:36<08:15,  1.91it/s]"
     ]
    },
    {
     "name": "stdout",
     "output_type": "stream",
     "text": [
      "404 Not Found: https://iiif.wellcomecollection.org/presentation/b11058432\n"
     ]
    },
    {
     "name": "stderr",
     "output_type": "stream",
     "text": [
      "Retrying downloads:  41%|████      | 661/1609 [05:36<08:25,  1.87it/s]"
     ]
    },
    {
     "name": "stdout",
     "output_type": "stream",
     "text": [
      "404 Not Found: https://iiif.wellcomecollection.org/presentation/b12164537\n"
     ]
    },
    {
     "name": "stderr",
     "output_type": "stream",
     "text": [
      "Retrying downloads:  41%|████      | 662/1609 [05:37<08:19,  1.90it/s]"
     ]
    },
    {
     "name": "stdout",
     "output_type": "stream",
     "text": [
      "404 Not Found: https://iiif.wellcomecollection.org/presentation/b14560197\n"
     ]
    },
    {
     "name": "stderr",
     "output_type": "stream",
     "text": [
      "Retrying downloads:  41%|████      | 663/1609 [05:37<08:02,  1.96it/s]"
     ]
    },
    {
     "name": "stdout",
     "output_type": "stream",
     "text": [
      "404 Not Found: https://iiif.wellcomecollection.org/presentation/b11066362\n"
     ]
    },
    {
     "name": "stderr",
     "output_type": "stream",
     "text": [
      "Retrying downloads:  41%|████▏     | 664/1609 [05:38<07:56,  1.98it/s]"
     ]
    },
    {
     "name": "stdout",
     "output_type": "stream",
     "text": [
      "404 Not Found: https://iiif.wellcomecollection.org/presentation/b11197456\n"
     ]
    },
    {
     "name": "stderr",
     "output_type": "stream",
     "text": [
      "Retrying downloads:  41%|████▏     | 665/1609 [05:38<08:11,  1.92it/s]"
     ]
    },
    {
     "name": "stdout",
     "output_type": "stream",
     "text": [
      "404 Not Found: https://iiif.wellcomecollection.org/presentation/b10330550\n"
     ]
    },
    {
     "name": "stderr",
     "output_type": "stream",
     "text": [
      "Retrying downloads:  41%|████▏     | 666/1609 [05:39<08:22,  1.87it/s]"
     ]
    },
    {
     "name": "stdout",
     "output_type": "stream",
     "text": [
      "404 Not Found: https://iiif.wellcomecollection.org/presentation/b13251521\n"
     ]
    },
    {
     "name": "stderr",
     "output_type": "stream",
     "text": [
      "Retrying downloads:  41%|████▏     | 667/1609 [05:39<08:09,  1.92it/s]"
     ]
    },
    {
     "name": "stdout",
     "output_type": "stream",
     "text": [
      "404 Not Found: https://iiif.wellcomecollection.org/presentation/b11533638\n"
     ]
    },
    {
     "name": "stderr",
     "output_type": "stream",
     "text": [
      "Retrying downloads:  42%|████▏     | 668/1609 [05:40<08:02,  1.95it/s]"
     ]
    },
    {
     "name": "stdout",
     "output_type": "stream",
     "text": [
      "404 Not Found: https://iiif.wellcomecollection.org/presentation/b10112674\n"
     ]
    },
    {
     "name": "stderr",
     "output_type": "stream",
     "text": [
      "Retrying downloads:  42%|████▏     | 669/1609 [05:40<07:55,  1.98it/s]"
     ]
    },
    {
     "name": "stdout",
     "output_type": "stream",
     "text": [
      "404 Not Found: https://iiif.wellcomecollection.org/presentation/b11524716\n"
     ]
    },
    {
     "name": "stderr",
     "output_type": "stream",
     "text": [
      "Retrying downloads:  42%|████▏     | 670/1609 [05:41<08:07,  1.93it/s]"
     ]
    },
    {
     "name": "stdout",
     "output_type": "stream",
     "text": [
      "404 Not Found: https://iiif.wellcomecollection.org/presentation/b14583112\n"
     ]
    },
    {
     "name": "stderr",
     "output_type": "stream",
     "text": [
      "Retrying downloads:  42%|████▏     | 671/1609 [05:41<07:50,  1.99it/s]"
     ]
    },
    {
     "name": "stdout",
     "output_type": "stream",
     "text": [
      "404 Not Found: https://iiif.wellcomecollection.org/presentation/b11145183\n"
     ]
    },
    {
     "name": "stderr",
     "output_type": "stream",
     "text": [
      "Retrying downloads:  42%|████▏     | 672/1609 [05:42<08:03,  1.94it/s]"
     ]
    },
    {
     "name": "stdout",
     "output_type": "stream",
     "text": [
      "404 Not Found: https://iiif.wellcomecollection.org/presentation/b10281186\n"
     ]
    },
    {
     "name": "stderr",
     "output_type": "stream",
     "text": [
      "Retrying downloads:  42%|████▏     | 673/1609 [05:43<08:13,  1.90it/s]"
     ]
    },
    {
     "name": "stdout",
     "output_type": "stream",
     "text": [
      "404 Not Found: https://iiif.wellcomecollection.org/presentation/b12970050\n"
     ]
    },
    {
     "name": "stderr",
     "output_type": "stream",
     "text": [
      "Retrying downloads:  42%|████▏     | 674/1609 [05:43<08:02,  1.94it/s]"
     ]
    },
    {
     "name": "stdout",
     "output_type": "stream",
     "text": [
      "404 Not Found: https://iiif.wellcomecollection.org/presentation/b13147444\n"
     ]
    },
    {
     "name": "stderr",
     "output_type": "stream",
     "text": [
      "Retrying downloads:  42%|████▏     | 675/1609 [05:44<08:00,  1.94it/s]"
     ]
    },
    {
     "name": "stdout",
     "output_type": "stream",
     "text": [
      "404 Not Found: https://iiif.wellcomecollection.org/presentation/b11145444\n"
     ]
    },
    {
     "name": "stderr",
     "output_type": "stream",
     "text": [
      "Retrying downloads:  42%|████▏     | 676/1609 [05:44<07:46,  2.00it/s]"
     ]
    },
    {
     "name": "stdout",
     "output_type": "stream",
     "text": [
      "404 Not Found: https://iiif.wellcomecollection.org/presentation/b10159265\n"
     ]
    },
    {
     "name": "stderr",
     "output_type": "stream",
     "text": [
      "Retrying downloads:  42%|████▏     | 677/1609 [05:44<07:44,  2.01it/s]"
     ]
    },
    {
     "name": "stdout",
     "output_type": "stream",
     "text": [
      "404 Not Found: https://iiif.wellcomecollection.org/presentation/b10326364\n"
     ]
    },
    {
     "name": "stderr",
     "output_type": "stream",
     "text": [
      "Retrying downloads:  42%|████▏     | 678/1609 [05:45<07:55,  1.96it/s]"
     ]
    },
    {
     "name": "stdout",
     "output_type": "stream",
     "text": [
      "404 Not Found: https://iiif.wellcomecollection.org/presentation/b13251582\n"
     ]
    },
    {
     "name": "stderr",
     "output_type": "stream",
     "text": [
      "Retrying downloads:  42%|████▏     | 679/1609 [05:45<07:39,  2.02it/s]"
     ]
    },
    {
     "name": "stdout",
     "output_type": "stream",
     "text": [
      "404 Not Found: https://iiif.wellcomecollection.org/presentation/b12951869\n"
     ]
    },
    {
     "name": "stderr",
     "output_type": "stream",
     "text": [
      "Retrying downloads:  42%|████▏     | 680/1609 [05:46<07:29,  2.07it/s]"
     ]
    },
    {
     "name": "stdout",
     "output_type": "stream",
     "text": [
      "404 Not Found: https://iiif.wellcomecollection.org/presentation/b11280323\n"
     ]
    },
    {
     "name": "stderr",
     "output_type": "stream",
     "text": [
      "Retrying downloads:  42%|████▏     | 681/1609 [05:46<07:45,  1.99it/s]"
     ]
    },
    {
     "name": "stdout",
     "output_type": "stream",
     "text": [
      "404 Not Found: https://iiif.wellcomecollection.org/presentation/b17557823\n"
     ]
    },
    {
     "name": "stderr",
     "output_type": "stream",
     "text": [
      "Retrying downloads:  42%|████▏     | 682/1609 [05:47<07:45,  1.99it/s]"
     ]
    },
    {
     "name": "stdout",
     "output_type": "stream",
     "text": [
      "404 Not Found: https://iiif.wellcomecollection.org/presentation/b10887106\n"
     ]
    },
    {
     "name": "stderr",
     "output_type": "stream",
     "text": [
      "Retrying downloads:  42%|████▏     | 683/1609 [05:47<07:34,  2.04it/s]"
     ]
    },
    {
     "name": "stdout",
     "output_type": "stream",
     "text": [
      "404 Not Found: https://iiif.wellcomecollection.org/presentation/b12180622\n"
     ]
    },
    {
     "name": "stderr",
     "output_type": "stream",
     "text": [
      "Retrying downloads:  43%|████▎     | 684/1609 [05:48<07:39,  2.01it/s]"
     ]
    },
    {
     "name": "stdout",
     "output_type": "stream",
     "text": [
      "404 Not Found: https://iiif.wellcomecollection.org/presentation/b1114757x\n"
     ]
    },
    {
     "name": "stderr",
     "output_type": "stream",
     "text": [
      "Retrying downloads:  43%|████▎     | 685/1609 [05:48<06:28,  2.38it/s]"
     ]
    },
    {
     "name": "stdout",
     "output_type": "stream",
     "text": [
      "404 Not Found: https://iiif.wellcomecollection.org/presentation/1a\n"
     ]
    },
    {
     "name": "stderr",
     "output_type": "stream",
     "text": [
      "Retrying downloads:  43%|████▎     | 686/1609 [05:49<06:43,  2.29it/s]"
     ]
    },
    {
     "name": "stdout",
     "output_type": "stream",
     "text": [
      "404 Not Found: https://iiif.wellcomecollection.org/presentation/b11486545\n"
     ]
    },
    {
     "name": "stderr",
     "output_type": "stream",
     "text": [
      "Retrying downloads:  43%|████▎     | 687/1609 [05:49<06:54,  2.22it/s]"
     ]
    },
    {
     "name": "stdout",
     "output_type": "stream",
     "text": [
      "404 Not Found: https://iiif.wellcomecollection.org/presentation/b10777015\n"
     ]
    },
    {
     "name": "stderr",
     "output_type": "stream",
     "text": [
      "Retrying downloads:  43%|████▎     | 688/1609 [05:50<07:47,  1.97it/s]"
     ]
    },
    {
     "name": "stdout",
     "output_type": "stream",
     "text": [
      "404 Not Found: https://iiif.wellcomecollection.org/presentation/b14561931\n"
     ]
    },
    {
     "name": "stderr",
     "output_type": "stream",
     "text": [
      "Retrying downloads:  43%|████▎     | 689/1609 [05:50<08:02,  1.91it/s]"
     ]
    },
    {
     "name": "stdout",
     "output_type": "stream",
     "text": [
      "404 Not Found: https://iiif.wellcomecollection.org/presentation/b14580093\n"
     ]
    },
    {
     "name": "stderr",
     "output_type": "stream",
     "text": [
      "Retrying downloads:  43%|████▎     | 690/1609 [05:51<08:03,  1.90it/s]"
     ]
    },
    {
     "name": "stdout",
     "output_type": "stream",
     "text": [
      "404 Not Found: https://iiif.wellcomecollection.org/presentation/b12947635\n"
     ]
    },
    {
     "name": "stderr",
     "output_type": "stream",
     "text": [
      "Retrying downloads:  43%|████▎     | 691/1609 [05:51<07:50,  1.95it/s]"
     ]
    },
    {
     "name": "stdout",
     "output_type": "stream",
     "text": [
      "404 Not Found: https://iiif.wellcomecollection.org/presentation/b13246744\n"
     ]
    },
    {
     "name": "stderr",
     "output_type": "stream",
     "text": [
      "Retrying downloads:  43%|████▎     | 692/1609 [05:52<07:35,  2.01it/s]"
     ]
    },
    {
     "name": "stdout",
     "output_type": "stream",
     "text": [
      "404 Not Found: https://iiif.wellcomecollection.org/presentation/b1000483x\n"
     ]
    },
    {
     "name": "stderr",
     "output_type": "stream",
     "text": [
      "Retrying downloads:  43%|████▎     | 693/1609 [05:52<07:32,  2.02it/s]"
     ]
    },
    {
     "name": "stdout",
     "output_type": "stream",
     "text": [
      "404 Not Found: https://iiif.wellcomecollection.org/presentation/b13248170\n"
     ]
    },
    {
     "name": "stderr",
     "output_type": "stream",
     "text": [
      "Retrying downloads:  43%|████▎     | 694/1609 [05:53<07:31,  2.03it/s]"
     ]
    },
    {
     "name": "stdout",
     "output_type": "stream",
     "text": [
      "404 Not Found: https://iiif.wellcomecollection.org/presentation/b10917068\n"
     ]
    },
    {
     "name": "stderr",
     "output_type": "stream",
     "text": [
      "Retrying downloads:  43%|████▎     | 696/1609 [05:56<13:17,  1.15it/s]"
     ]
    },
    {
     "name": "stdout",
     "output_type": "stream",
     "text": [
      "404 Not Found: https://iiif.wellcomecollection.org/presentation/b13141831\n"
     ]
    },
    {
     "name": "stderr",
     "output_type": "stream",
     "text": [
      "Retrying downloads:  43%|████▎     | 697/1609 [05:56<11:57,  1.27it/s]"
     ]
    },
    {
     "name": "stdout",
     "output_type": "stream",
     "text": [
      "404 Not Found: https://iiif.wellcomecollection.org/presentation/b12190664\n"
     ]
    },
    {
     "name": "stderr",
     "output_type": "stream",
     "text": [
      "Retrying downloads:  43%|████▎     | 698/1609 [05:57<11:32,  1.31it/s]"
     ]
    },
    {
     "name": "stdout",
     "output_type": "stream",
     "text": [
      "404 Not Found: https://iiif.wellcomecollection.org/presentation/b13136070\n"
     ]
    },
    {
     "name": "stderr",
     "output_type": "stream",
     "text": [
      "Retrying downloads:  43%|████▎     | 699/1609 [05:57<10:25,  1.46it/s]"
     ]
    },
    {
     "name": "stdout",
     "output_type": "stream",
     "text": [
      "404 Not Found: https://iiif.wellcomecollection.org/presentation/b14574238\n"
     ]
    },
    {
     "name": "stderr",
     "output_type": "stream",
     "text": [
      "Retrying downloads:  44%|████▎     | 700/1609 [05:58<09:26,  1.60it/s]"
     ]
    },
    {
     "name": "stdout",
     "output_type": "stream",
     "text": [
      "404 Not Found: https://iiif.wellcomecollection.org/presentation/b12951274\n"
     ]
    },
    {
     "name": "stderr",
     "output_type": "stream",
     "text": [
      "Retrying downloads:  44%|████▎     | 701/1609 [05:58<08:50,  1.71it/s]"
     ]
    },
    {
     "name": "stdout",
     "output_type": "stream",
     "text": [
      "404 Not Found: https://iiif.wellcomecollection.org/presentation/b12208516\n"
     ]
    },
    {
     "name": "stderr",
     "output_type": "stream",
     "text": [
      "Retrying downloads:  44%|████▎     | 702/1609 [05:59<08:23,  1.80it/s]"
     ]
    },
    {
     "name": "stdout",
     "output_type": "stream",
     "text": [
      "404 Not Found: https://iiif.wellcomecollection.org/presentation/b1457715x\n"
     ]
    },
    {
     "name": "stderr",
     "output_type": "stream",
     "text": [
      "Retrying downloads:  44%|████▎     | 703/1609 [05:59<08:38,  1.75it/s]"
     ]
    },
    {
     "name": "stdout",
     "output_type": "stream",
     "text": [
      "404 Not Found: https://iiif.wellcomecollection.org/presentation/b11524972\n"
     ]
    },
    {
     "name": "stderr",
     "output_type": "stream",
     "text": [
      "Retrying downloads:  44%|████▍     | 704/1609 [06:00<08:12,  1.84it/s]"
     ]
    },
    {
     "name": "stdout",
     "output_type": "stream",
     "text": [
      "404 Not Found: https://iiif.wellcomecollection.org/presentation/b12164446\n"
     ]
    },
    {
     "name": "stderr",
     "output_type": "stream",
     "text": [
      "Retrying downloads:  44%|████▍     | 705/1609 [06:00<08:09,  1.85it/s]"
     ]
    },
    {
     "name": "stdout",
     "output_type": "stream",
     "text": [
      "404 Not Found: https://iiif.wellcomecollection.org/presentation/b12955681\n"
     ]
    },
    {
     "name": "stderr",
     "output_type": "stream",
     "text": [
      "Retrying downloads:  44%|████▍     | 706/1609 [06:01<07:50,  1.92it/s]"
     ]
    },
    {
     "name": "stdout",
     "output_type": "stream",
     "text": [
      "404 Not Found: https://iiif.wellcomecollection.org/presentation/b13255770\n"
     ]
    },
    {
     "name": "stderr",
     "output_type": "stream",
     "text": [
      "Retrying downloads:  44%|████▍     | 707/1609 [06:01<07:43,  1.95it/s]"
     ]
    },
    {
     "name": "stdout",
     "output_type": "stream",
     "text": [
      "404 Not Found: https://iiif.wellcomecollection.org/presentation/b11150580\n"
     ]
    },
    {
     "name": "stderr",
     "output_type": "stream",
     "text": [
      "Retrying downloads:  44%|████▍     | 708/1609 [06:02<07:44,  1.94it/s]"
     ]
    },
    {
     "name": "stdout",
     "output_type": "stream",
     "text": [
      "404 Not Found: https://iiif.wellcomecollection.org/presentation/b13150686\n"
     ]
    },
    {
     "name": "stderr",
     "output_type": "stream",
     "text": [
      "Retrying downloads:  44%|████▍     | 709/1609 [06:02<07:33,  1.99it/s]"
     ]
    },
    {
     "name": "stdout",
     "output_type": "stream",
     "text": [
      "404 Not Found: https://iiif.wellcomecollection.org/presentation/b11207838\n"
     ]
    },
    {
     "name": "stderr",
     "output_type": "stream",
     "text": [
      "Retrying downloads:  44%|████▍     | 710/1609 [06:03<07:34,  1.98it/s]"
     ]
    },
    {
     "name": "stdout",
     "output_type": "stream",
     "text": [
      "404 Not Found: https://iiif.wellcomecollection.org/presentation/b1120073x\n"
     ]
    },
    {
     "name": "stderr",
     "output_type": "stream",
     "text": [
      "Retrying downloads:  44%|████▍     | 711/1609 [06:03<07:31,  1.99it/s]"
     ]
    },
    {
     "name": "stdout",
     "output_type": "stream",
     "text": [
      "404 Not Found: https://iiif.wellcomecollection.org/presentation/b11195708\n"
     ]
    },
    {
     "name": "stderr",
     "output_type": "stream",
     "text": [
      "Retrying downloads:  44%|████▍     | 712/1609 [06:04<07:17,  2.05it/s]"
     ]
    },
    {
     "name": "stdout",
     "output_type": "stream",
     "text": [
      "404 Not Found: https://iiif.wellcomecollection.org/presentation/b1218133x\n"
     ]
    },
    {
     "name": "stderr",
     "output_type": "stream",
     "text": [
      "Retrying downloads:  44%|████▍     | 713/1609 [06:04<07:23,  2.02it/s]"
     ]
    },
    {
     "name": "stdout",
     "output_type": "stream",
     "text": [
      "404 Not Found: https://iiif.wellcomecollection.org/presentation/b13256154\n"
     ]
    },
    {
     "name": "stderr",
     "output_type": "stream",
     "text": [
      "Retrying downloads:  44%|████▍     | 714/1609 [06:05<07:16,  2.05it/s]"
     ]
    },
    {
     "name": "stdout",
     "output_type": "stream",
     "text": [
      "404 Not Found: https://iiif.wellcomecollection.org/presentation/b10929101\n"
     ]
    },
    {
     "name": "stderr",
     "output_type": "stream",
     "text": [
      "Retrying downloads:  44%|████▍     | 715/1609 [06:05<07:22,  2.02it/s]"
     ]
    },
    {
     "name": "stdout",
     "output_type": "stream",
     "text": [
      "404 Not Found: https://iiif.wellcomecollection.org/presentation/b10307898\n"
     ]
    },
    {
     "name": "stderr",
     "output_type": "stream",
     "text": [
      "Retrying downloads:  44%|████▍     | 716/1609 [06:06<07:15,  2.05it/s]"
     ]
    },
    {
     "name": "stdout",
     "output_type": "stream",
     "text": [
      "404 Not Found: https://iiif.wellcomecollection.org/presentation/b12178317\n"
     ]
    },
    {
     "name": "stderr",
     "output_type": "stream",
     "text": [
      "Retrying downloads:  45%|████▍     | 717/1609 [06:06<07:22,  2.02it/s]"
     ]
    },
    {
     "name": "stdout",
     "output_type": "stream",
     "text": [
      "404 Not Found: https://iiif.wellcomecollection.org/presentation/b10917184\n"
     ]
    },
    {
     "name": "stderr",
     "output_type": "stream",
     "text": [
      "Retrying downloads:  45%|████▍     | 718/1609 [06:07<07:10,  2.07it/s]"
     ]
    },
    {
     "name": "stdout",
     "output_type": "stream",
     "text": [
      "404 Not Found: https://iiif.wellcomecollection.org/presentation/b12207160\n"
     ]
    },
    {
     "name": "stderr",
     "output_type": "stream",
     "text": [
      "Retrying downloads:  45%|████▍     | 719/1609 [06:07<07:08,  2.08it/s]"
     ]
    },
    {
     "name": "stdout",
     "output_type": "stream",
     "text": [
      "404 Not Found: https://iiif.wellcomecollection.org/presentation/b10931624\n"
     ]
    },
    {
     "name": "stderr",
     "output_type": "stream",
     "text": [
      "Retrying downloads:  45%|████▍     | 720/1609 [06:08<07:11,  2.06it/s]"
     ]
    },
    {
     "name": "stdout",
     "output_type": "stream",
     "text": [
      "404 Not Found: https://iiif.wellcomecollection.org/presentation/b10178740\n"
     ]
    },
    {
     "name": "stderr",
     "output_type": "stream",
     "text": [
      "Retrying downloads:  45%|████▍     | 721/1609 [06:08<07:28,  1.98it/s]"
     ]
    },
    {
     "name": "stdout",
     "output_type": "stream",
     "text": [
      "404 Not Found: https://iiif.wellcomecollection.org/presentation/b12951365\n"
     ]
    },
    {
     "name": "stderr",
     "output_type": "stream",
     "text": [
      "Retrying downloads:  45%|████▍     | 722/1609 [06:09<07:28,  1.98it/s]"
     ]
    },
    {
     "name": "stdout",
     "output_type": "stream",
     "text": [
      "404 Not Found: https://iiif.wellcomecollection.org/presentation/b11487951\n"
     ]
    },
    {
     "name": "stderr",
     "output_type": "stream",
     "text": [
      "Retrying downloads:  45%|████▍     | 723/1609 [06:09<07:30,  1.96it/s]"
     ]
    },
    {
     "name": "stdout",
     "output_type": "stream",
     "text": [
      "404 Not Found: https://iiif.wellcomecollection.org/presentation/b14567908\n"
     ]
    },
    {
     "name": "stderr",
     "output_type": "stream",
     "text": [
      "Retrying downloads:  45%|████▍     | 724/1609 [06:10<07:22,  2.00it/s]"
     ]
    },
    {
     "name": "stdout",
     "output_type": "stream",
     "text": [
      "404 Not Found: https://iiif.wellcomecollection.org/presentation/b10106923\n"
     ]
    },
    {
     "name": "stderr",
     "output_type": "stream",
     "text": [
      "Retrying downloads:  45%|████▌     | 725/1609 [06:10<07:15,  2.03it/s]"
     ]
    },
    {
     "name": "stdout",
     "output_type": "stream",
     "text": [
      "404 Not Found: https://iiif.wellcomecollection.org/presentation/b10917871\n"
     ]
    },
    {
     "name": "stderr",
     "output_type": "stream",
     "text": [
      "Retrying downloads:  45%|████▌     | 726/1609 [06:11<07:13,  2.04it/s]"
     ]
    },
    {
     "name": "stdout",
     "output_type": "stream",
     "text": [
      "404 Not Found: https://iiif.wellcomecollection.org/presentation/b12209624\n"
     ]
    },
    {
     "name": "stderr",
     "output_type": "stream",
     "text": [
      "Retrying downloads:  45%|████▌     | 727/1609 [06:11<07:19,  2.01it/s]"
     ]
    },
    {
     "name": "stdout",
     "output_type": "stream",
     "text": [
      "404 Not Found: https://iiif.wellcomecollection.org/presentation/b14568226\n"
     ]
    },
    {
     "name": "stderr",
     "output_type": "stream",
     "text": [
      "Retrying downloads:  45%|████▌     | 728/1609 [06:12<07:15,  2.02it/s]"
     ]
    },
    {
     "name": "stdout",
     "output_type": "stream",
     "text": [
      "404 Not Found: https://iiif.wellcomecollection.org/presentation/b11145468\n"
     ]
    },
    {
     "name": "stderr",
     "output_type": "stream",
     "text": [
      "Retrying downloads:  45%|████▌     | 729/1609 [06:12<07:16,  2.02it/s]"
     ]
    },
    {
     "name": "stdout",
     "output_type": "stream",
     "text": [
      "404 Not Found: https://iiif.wellcomecollection.org/presentation/b12180993\n"
     ]
    },
    {
     "name": "stderr",
     "output_type": "stream",
     "text": [
      "Retrying downloads:  45%|████▌     | 730/1609 [06:13<07:19,  2.00it/s]"
     ]
    },
    {
     "name": "stdout",
     "output_type": "stream",
     "text": [
      "404 Not Found: https://iiif.wellcomecollection.org/presentation/b1055273x\n"
     ]
    },
    {
     "name": "stderr",
     "output_type": "stream",
     "text": [
      "Retrying downloads:  45%|████▌     | 731/1609 [06:13<07:09,  2.05it/s]"
     ]
    },
    {
     "name": "stdout",
     "output_type": "stream",
     "text": [
      "404 Not Found: https://iiif.wellcomecollection.org/presentation/b12951766\n"
     ]
    },
    {
     "name": "stderr",
     "output_type": "stream",
     "text": [
      "Retrying downloads:  45%|████▌     | 732/1609 [06:14<07:10,  2.04it/s]"
     ]
    },
    {
     "name": "stdout",
     "output_type": "stream",
     "text": [
      "404 Not Found: https://iiif.wellcomecollection.org/presentation/b11198187\n"
     ]
    },
    {
     "name": "stderr",
     "output_type": "stream",
     "text": [
      "Retrying downloads:  46%|████▌     | 733/1609 [06:14<07:20,  1.99it/s]"
     ]
    },
    {
     "name": "stdout",
     "output_type": "stream",
     "text": [
      "404 Not Found: https://iiif.wellcomecollection.org/presentation/b14560896\n"
     ]
    },
    {
     "name": "stderr",
     "output_type": "stream",
     "text": [
      "Retrying downloads:  46%|████▌     | 734/1609 [06:15<07:21,  1.98it/s]"
     ]
    },
    {
     "name": "stdout",
     "output_type": "stream",
     "text": [
      "404 Not Found: https://iiif.wellcomecollection.org/presentation/b12840920\n"
     ]
    },
    {
     "name": "stderr",
     "output_type": "stream",
     "text": [
      "Retrying downloads:  46%|████▌     | 735/1609 [06:15<07:13,  2.02it/s]"
     ]
    },
    {
     "name": "stdout",
     "output_type": "stream",
     "text": [
      "404 Not Found: https://iiif.wellcomecollection.org/presentation/b1458508x\n"
     ]
    },
    {
     "name": "stderr",
     "output_type": "stream",
     "text": [
      "Retrying downloads:  46%|████▌     | 736/1609 [06:16<07:08,  2.04it/s]"
     ]
    },
    {
     "name": "stdout",
     "output_type": "stream",
     "text": [
      "404 Not Found: https://iiif.wellcomecollection.org/presentation/b11142509\n"
     ]
    },
    {
     "name": "stderr",
     "output_type": "stream",
     "text": [
      "Retrying downloads:  46%|████▌     | 737/1609 [06:16<07:01,  2.07it/s]"
     ]
    },
    {
     "name": "stdout",
     "output_type": "stream",
     "text": [
      "404 Not Found: https://iiif.wellcomecollection.org/presentation/b13246100\n"
     ]
    },
    {
     "name": "stderr",
     "output_type": "stream",
     "text": [
      "Retrying downloads:  46%|████▌     | 738/1609 [06:17<07:51,  1.85it/s]"
     ]
    },
    {
     "name": "stdout",
     "output_type": "stream",
     "text": [
      "404 Not Found: https://iiif.wellcomecollection.org/presentation/b10400242\n"
     ]
    },
    {
     "name": "stderr",
     "output_type": "stream",
     "text": [
      "Retrying downloads:  46%|████▌     | 739/1609 [06:17<07:41,  1.89it/s]"
     ]
    },
    {
     "name": "stdout",
     "output_type": "stream",
     "text": [
      "404 Not Found: https://iiif.wellcomecollection.org/presentation/b14585650\n"
     ]
    },
    {
     "name": "stderr",
     "output_type": "stream",
     "text": [
      "Retrying downloads:  46%|████▌     | 740/1609 [06:18<07:30,  1.93it/s]"
     ]
    },
    {
     "name": "stdout",
     "output_type": "stream",
     "text": [
      "404 Not Found: https://iiif.wellcomecollection.org/presentation/b11128896\n"
     ]
    },
    {
     "name": "stderr",
     "output_type": "stream",
     "text": [
      "Retrying downloads:  46%|████▌     | 741/1609 [06:19<08:02,  1.80it/s]"
     ]
    },
    {
     "name": "stdout",
     "output_type": "stream",
     "text": [
      "404 Not Found: https://iiif.wellcomecollection.org/presentation/b14569322\n"
     ]
    },
    {
     "name": "stderr",
     "output_type": "stream",
     "text": [
      "Retrying downloads:  46%|████▌     | 742/1609 [06:19<07:45,  1.86it/s]"
     ]
    },
    {
     "name": "stdout",
     "output_type": "stream",
     "text": [
      "404 Not Found: https://iiif.wellcomecollection.org/presentation/b11201198\n"
     ]
    },
    {
     "name": "stderr",
     "output_type": "stream",
     "text": [
      "Retrying downloads:  46%|████▌     | 743/1609 [06:20<07:37,  1.89it/s]"
     ]
    },
    {
     "name": "stdout",
     "output_type": "stream",
     "text": [
      "404 Not Found: https://iiif.wellcomecollection.org/presentation/b13255113\n"
     ]
    },
    {
     "name": "stderr",
     "output_type": "stream",
     "text": [
      "Retrying downloads:  46%|████▌     | 744/1609 [06:20<07:32,  1.91it/s]"
     ]
    },
    {
     "name": "stdout",
     "output_type": "stream",
     "text": [
      "404 Not Found: https://iiif.wellcomecollection.org/presentation/b13254984\n"
     ]
    },
    {
     "name": "stderr",
     "output_type": "stream",
     "text": [
      "Retrying downloads:  46%|████▋     | 745/1609 [06:21<07:32,  1.91it/s]"
     ]
    },
    {
     "name": "stdout",
     "output_type": "stream",
     "text": [
      "404 Not Found: https://iiif.wellcomecollection.org/presentation/b11533390\n"
     ]
    },
    {
     "name": "stderr",
     "output_type": "stream",
     "text": [
      "Retrying downloads:  46%|████▋     | 746/1609 [06:21<07:27,  1.93it/s]"
     ]
    },
    {
     "name": "stdout",
     "output_type": "stream",
     "text": [
      "404 Not Found: https://iiif.wellcomecollection.org/presentation/b14562467\n"
     ]
    },
    {
     "name": "stderr",
     "output_type": "stream",
     "text": [
      "Retrying downloads:  46%|████▋     | 747/1609 [06:22<07:16,  1.97it/s]"
     ]
    },
    {
     "name": "stdout",
     "output_type": "stream",
     "text": [
      "404 Not Found: https://iiif.wellcomecollection.org/presentation/b1206340x\n"
     ]
    },
    {
     "name": "stderr",
     "output_type": "stream",
     "text": [
      "Retrying downloads:  46%|████▋     | 748/1609 [06:22<07:05,  2.03it/s]"
     ]
    },
    {
     "name": "stdout",
     "output_type": "stream",
     "text": [
      "404 Not Found: https://iiif.wellcomecollection.org/presentation/b12838615\n"
     ]
    },
    {
     "name": "stderr",
     "output_type": "stream",
     "text": [
      "Retrying downloads:  47%|████▋     | 749/1609 [06:23<06:54,  2.07it/s]"
     ]
    },
    {
     "name": "stdout",
     "output_type": "stream",
     "text": [
      "404 Not Found: https://iiif.wellcomecollection.org/presentation/b12187331\n"
     ]
    },
    {
     "name": "stderr",
     "output_type": "stream",
     "text": [
      "Retrying downloads:  47%|████▋     | 750/1609 [06:23<07:07,  2.01it/s]"
     ]
    },
    {
     "name": "stdout",
     "output_type": "stream",
     "text": [
      "404 Not Found: https://iiif.wellcomecollection.org/presentation/b12645199\n"
     ]
    },
    {
     "name": "stderr",
     "output_type": "stream",
     "text": [
      "Retrying downloads:  47%|████▋     | 751/1609 [06:24<07:00,  2.04it/s]"
     ]
    },
    {
     "name": "stdout",
     "output_type": "stream",
     "text": [
      "404 Not Found: https://iiif.wellcomecollection.org/presentation/b1078021x\n"
     ]
    },
    {
     "name": "stderr",
     "output_type": "stream",
     "text": [
      "Retrying downloads:  47%|████▋     | 752/1609 [06:24<07:04,  2.02it/s]"
     ]
    },
    {
     "name": "stdout",
     "output_type": "stream",
     "text": [
      "404 Not Found: https://iiif.wellcomecollection.org/presentation/b14571602\n"
     ]
    },
    {
     "name": "stderr",
     "output_type": "stream",
     "text": [
      "Retrying downloads:  47%|████▋     | 753/1609 [06:25<07:02,  2.02it/s]"
     ]
    },
    {
     "name": "stdout",
     "output_type": "stream",
     "text": [
      "404 Not Found: https://iiif.wellcomecollection.org/presentation/b10317685\n"
     ]
    },
    {
     "name": "stderr",
     "output_type": "stream",
     "text": [
      "Retrying downloads:  47%|████▋     | 754/1609 [06:25<07:17,  1.95it/s]"
     ]
    },
    {
     "name": "stdout",
     "output_type": "stream",
     "text": [
      "404 Not Found: https://iiif.wellcomecollection.org/presentation/b10985888\n"
     ]
    },
    {
     "name": "stderr",
     "output_type": "stream",
     "text": [
      "Retrying downloads:  47%|████▋     | 755/1609 [06:26<07:07,  2.00it/s]"
     ]
    },
    {
     "name": "stdout",
     "output_type": "stream",
     "text": [
      "404 Not Found: https://iiif.wellcomecollection.org/presentation/b10400722\n"
     ]
    },
    {
     "name": "stderr",
     "output_type": "stream",
     "text": [
      "Retrying downloads:  47%|████▋     | 756/1609 [06:26<07:03,  2.01it/s]"
     ]
    },
    {
     "name": "stdout",
     "output_type": "stream",
     "text": [
      "404 Not Found: https://iiif.wellcomecollection.org/presentation/b14962743\n"
     ]
    },
    {
     "name": "stderr",
     "output_type": "stream",
     "text": [
      "Retrying downloads:  47%|████▋     | 757/1609 [06:27<07:47,  1.82it/s]"
     ]
    },
    {
     "name": "stdout",
     "output_type": "stream",
     "text": [
      "404 Not Found: https://iiif.wellcomecollection.org/presentation/b11144051\n"
     ]
    },
    {
     "name": "stderr",
     "output_type": "stream",
     "text": [
      "Retrying downloads:  47%|████▋     | 758/1609 [06:27<07:35,  1.87it/s]"
     ]
    },
    {
     "name": "stdout",
     "output_type": "stream",
     "text": [
      "404 Not Found: https://iiif.wellcomecollection.org/presentation/b12178792\n"
     ]
    },
    {
     "name": "stderr",
     "output_type": "stream",
     "text": [
      "Retrying downloads:  47%|████▋     | 759/1609 [06:28<07:25,  1.91it/s]"
     ]
    },
    {
     "name": "stdout",
     "output_type": "stream",
     "text": [
      "404 Not Found: https://iiif.wellcomecollection.org/presentation/b11523347\n"
     ]
    },
    {
     "name": "stderr",
     "output_type": "stream",
     "text": [
      "Retrying downloads:  47%|████▋     | 760/1609 [06:28<07:12,  1.96it/s]"
     ]
    },
    {
     "name": "stdout",
     "output_type": "stream",
     "text": [
      "404 Not Found: https://iiif.wellcomecollection.org/presentation/b10470074\n"
     ]
    },
    {
     "name": "stderr",
     "output_type": "stream",
     "text": [
      "Retrying downloads:  47%|████▋     | 761/1609 [06:29<07:08,  1.98it/s]"
     ]
    },
    {
     "name": "stdout",
     "output_type": "stream",
     "text": [
      "404 Not Found: https://iiif.wellcomecollection.org/presentation/b10322395\n"
     ]
    },
    {
     "name": "stderr",
     "output_type": "stream",
     "text": [
      "Retrying downloads:  47%|████▋     | 762/1609 [06:29<06:54,  2.04it/s]"
     ]
    },
    {
     "name": "stdout",
     "output_type": "stream",
     "text": [
      "404 Not Found: https://iiif.wellcomecollection.org/presentation/b11210618\n"
     ]
    },
    {
     "name": "stderr",
     "output_type": "stream",
     "text": [
      "Retrying downloads:  47%|████▋     | 763/1609 [06:30<07:34,  1.86it/s]"
     ]
    },
    {
     "name": "stdout",
     "output_type": "stream",
     "text": [
      "404 Not Found: https://iiif.wellcomecollection.org/presentation/b10916945\n"
     ]
    },
    {
     "name": "stderr",
     "output_type": "stream",
     "text": [
      "Retrying downloads:  47%|████▋     | 764/1609 [06:30<07:26,  1.89it/s]"
     ]
    },
    {
     "name": "stdout",
     "output_type": "stream",
     "text": [
      "404 Not Found: https://iiif.wellcomecollection.org/presentation/b12932619\n"
     ]
    },
    {
     "name": "stderr",
     "output_type": "stream",
     "text": [
      "Retrying downloads:  48%|████▊     | 765/1609 [06:31<07:16,  1.93it/s]"
     ]
    },
    {
     "name": "stdout",
     "output_type": "stream",
     "text": [
      "404 Not Found: https://iiif.wellcomecollection.org/presentation/b14589916\n"
     ]
    },
    {
     "name": "stderr",
     "output_type": "stream",
     "text": [
      "Retrying downloads:  48%|████▊     | 766/1609 [06:31<07:13,  1.95it/s]"
     ]
    },
    {
     "name": "stdout",
     "output_type": "stream",
     "text": [
      "404 Not Found: https://iiif.wellcomecollection.org/presentation/b1313954x\n"
     ]
    },
    {
     "name": "stderr",
     "output_type": "stream",
     "text": [
      "Retrying downloads:  48%|████▊     | 767/1609 [06:32<07:05,  1.98it/s]"
     ]
    },
    {
     "name": "stdout",
     "output_type": "stream",
     "text": [
      "404 Not Found: https://iiif.wellcomecollection.org/presentation/b11280943\n"
     ]
    },
    {
     "name": "stderr",
     "output_type": "stream",
     "text": [
      "Retrying downloads:  48%|████▊     | 768/1609 [06:32<07:09,  1.96it/s]"
     ]
    },
    {
     "name": "stdout",
     "output_type": "stream",
     "text": [
      "404 Not Found: https://iiif.wellcomecollection.org/presentation/b11059060\n"
     ]
    },
    {
     "name": "stderr",
     "output_type": "stream",
     "text": [
      "Retrying downloads:  48%|████▊     | 769/1609 [06:33<07:11,  1.95it/s]"
     ]
    },
    {
     "name": "stdout",
     "output_type": "stream",
     "text": [
      "404 Not Found: https://iiif.wellcomecollection.org/presentation/b1105993x\n"
     ]
    },
    {
     "name": "stderr",
     "output_type": "stream",
     "text": [
      "Retrying downloads:  48%|████▊     | 770/1609 [06:33<07:02,  1.99it/s]"
     ]
    },
    {
     "name": "stdout",
     "output_type": "stream",
     "text": [
      "404 Not Found: https://iiif.wellcomecollection.org/presentation/b10773113\n"
     ]
    },
    {
     "name": "stderr",
     "output_type": "stream",
     "text": [
      "Retrying downloads:  48%|████▊     | 771/1609 [06:34<07:03,  1.98it/s]"
     ]
    },
    {
     "name": "stdout",
     "output_type": "stream",
     "text": [
      "404 Not Found: https://iiif.wellcomecollection.org/presentation/b11522537\n"
     ]
    },
    {
     "name": "stderr",
     "output_type": "stream",
     "text": [
      "Retrying downloads:  48%|████▊     | 772/1609 [06:34<07:12,  1.94it/s]"
     ]
    },
    {
     "name": "stdout",
     "output_type": "stream",
     "text": [
      "404 Not Found: https://iiif.wellcomecollection.org/presentation/b11059497\n"
     ]
    },
    {
     "name": "stderr",
     "output_type": "stream",
     "text": [
      "Retrying downloads:  48%|████▊     | 773/1609 [06:35<07:13,  1.93it/s]"
     ]
    },
    {
     "name": "stdout",
     "output_type": "stream",
     "text": [
      "404 Not Found: https://iiif.wellcomecollection.org/presentation/b14561608\n"
     ]
    },
    {
     "name": "stderr",
     "output_type": "stream",
     "text": [
      "Retrying downloads:  48%|████▊     | 774/1609 [06:35<07:04,  1.97it/s]"
     ]
    },
    {
     "name": "stdout",
     "output_type": "stream",
     "text": [
      "404 Not Found: https://iiif.wellcomecollection.org/presentation/b17570013\n"
     ]
    },
    {
     "name": "stderr",
     "output_type": "stream",
     "text": [
      "Retrying downloads:  48%|████▊     | 775/1609 [06:36<07:18,  1.90it/s]"
     ]
    },
    {
     "name": "stdout",
     "output_type": "stream",
     "text": [
      "404 Not Found: https://iiif.wellcomecollection.org/presentation/b10111979\n"
     ]
    },
    {
     "name": "stderr",
     "output_type": "stream",
     "text": [
      "Retrying downloads:  48%|████▊     | 776/1609 [06:36<07:13,  1.92it/s]"
     ]
    },
    {
     "name": "stdout",
     "output_type": "stream",
     "text": [
      "404 Not Found: https://iiif.wellcomecollection.org/presentation/b11057762\n"
     ]
    },
    {
     "name": "stderr",
     "output_type": "stream",
     "text": [
      "Retrying downloads:  48%|████▊     | 777/1609 [06:37<07:16,  1.91it/s]"
     ]
    },
    {
     "name": "stdout",
     "output_type": "stream",
     "text": [
      "404 Not Found: https://iiif.wellcomecollection.org/presentation/b10326418\n"
     ]
    },
    {
     "name": "stderr",
     "output_type": "stream",
     "text": [
      "Retrying downloads:  48%|████▊     | 778/1609 [06:37<07:08,  1.94it/s]"
     ]
    },
    {
     "name": "stdout",
     "output_type": "stream",
     "text": [
      "404 Not Found: https://iiif.wellcomecollection.org/presentation/b10110641\n"
     ]
    },
    {
     "name": "stderr",
     "output_type": "stream",
     "text": [
      "Retrying downloads:  48%|████▊     | 779/1609 [06:38<07:09,  1.93it/s]"
     ]
    },
    {
     "name": "stdout",
     "output_type": "stream",
     "text": [
      "404 Not Found: https://iiif.wellcomecollection.org/presentation/b12161020\n"
     ]
    },
    {
     "name": "stderr",
     "output_type": "stream",
     "text": [
      "Retrying downloads:  48%|████▊     | 780/1609 [06:38<05:54,  2.34it/s]"
     ]
    },
    {
     "name": "stdout",
     "output_type": "stream",
     "text": [
      "404 Not Found: https://iiif.wellcomecollection.org/presentation/4\n"
     ]
    },
    {
     "name": "stderr",
     "output_type": "stream",
     "text": [
      "Retrying downloads:  49%|████▊     | 781/1609 [06:39<06:06,  2.26it/s]"
     ]
    },
    {
     "name": "stdout",
     "output_type": "stream",
     "text": [
      "404 Not Found: https://iiif.wellcomecollection.org/presentation/b1220173x\n"
     ]
    },
    {
     "name": "stderr",
     "output_type": "stream",
     "text": [
      "Retrying downloads:  49%|████▊     | 782/1609 [06:39<06:23,  2.16it/s]"
     ]
    },
    {
     "name": "stdout",
     "output_type": "stream",
     "text": [
      "404 Not Found: https://iiif.wellcomecollection.org/presentation/b10336266\n"
     ]
    },
    {
     "name": "stderr",
     "output_type": "stream",
     "text": [
      "Retrying downloads:  49%|████▊     | 783/1609 [06:40<06:31,  2.11it/s]"
     ]
    },
    {
     "name": "stdout",
     "output_type": "stream",
     "text": [
      "404 Not Found: https://iiif.wellcomecollection.org/presentation/b14568081\n"
     ]
    },
    {
     "name": "stderr",
     "output_type": "stream",
     "text": [
      "Retrying downloads:  49%|████▊     | 784/1609 [06:40<06:29,  2.12it/s]"
     ]
    },
    {
     "name": "stdout",
     "output_type": "stream",
     "text": [
      "404 Not Found: https://iiif.wellcomecollection.org/presentation/b12181420\n"
     ]
    },
    {
     "name": "stderr",
     "output_type": "stream",
     "text": [
      "Retrying downloads:  49%|████▉     | 785/1609 [06:41<06:39,  2.06it/s]"
     ]
    },
    {
     "name": "stdout",
     "output_type": "stream",
     "text": [
      "404 Not Found: https://iiif.wellcomecollection.org/presentation/b12947076\n"
     ]
    },
    {
     "name": "stderr",
     "output_type": "stream",
     "text": [
      "Retrying downloads:  49%|████▉     | 786/1609 [06:41<06:41,  2.05it/s]"
     ]
    },
    {
     "name": "stdout",
     "output_type": "stream",
     "text": [
      "404 Not Found: https://iiif.wellcomecollection.org/presentation/b11487781\n"
     ]
    },
    {
     "name": "stderr",
     "output_type": "stream",
     "text": [
      "Retrying downloads:  49%|████▉     | 787/1609 [06:42<06:41,  2.05it/s]"
     ]
    },
    {
     "name": "stdout",
     "output_type": "stream",
     "text": [
      "404 Not Found: https://iiif.wellcomecollection.org/presentation/b18124185\n"
     ]
    },
    {
     "name": "stderr",
     "output_type": "stream",
     "text": [
      "Retrying downloads:  49%|████▉     | 788/1609 [06:42<06:43,  2.03it/s]"
     ]
    },
    {
     "name": "stdout",
     "output_type": "stream",
     "text": [
      "404 Not Found: https://iiif.wellcomecollection.org/presentation/b14585145\n"
     ]
    },
    {
     "name": "stderr",
     "output_type": "stream",
     "text": [
      "Retrying downloads:  49%|████▉     | 789/1609 [06:43<07:12,  1.89it/s]"
     ]
    },
    {
     "name": "stdout",
     "output_type": "stream",
     "text": [
      "404 Not Found: https://iiif.wellcomecollection.org/presentation/b12180348\n"
     ]
    },
    {
     "name": "stderr",
     "output_type": "stream",
     "text": [
      "Retrying downloads:  49%|████▉     | 790/1609 [06:43<06:54,  1.97it/s]"
     ]
    },
    {
     "name": "stdout",
     "output_type": "stream",
     "text": [
      "404 Not Found: https://iiif.wellcomecollection.org/presentation/b12955346\n"
     ]
    },
    {
     "name": "stderr",
     "output_type": "stream",
     "text": [
      "Retrying downloads:  49%|████▉     | 791/1609 [06:44<06:46,  2.01it/s]"
     ]
    },
    {
     "name": "stdout",
     "output_type": "stream",
     "text": [
      "404 Not Found: https://iiif.wellcomecollection.org/presentation/b13150856\n"
     ]
    },
    {
     "name": "stderr",
     "output_type": "stream",
     "text": [
      "Retrying downloads:  49%|████▉     | 792/1609 [06:44<06:40,  2.04it/s]"
     ]
    },
    {
     "name": "stdout",
     "output_type": "stream",
     "text": [
      "404 Not Found: https://iiif.wellcomecollection.org/presentation/b10825290\n"
     ]
    },
    {
     "name": "stderr",
     "output_type": "stream",
     "text": [
      "Retrying downloads:  49%|████▉     | 793/1609 [06:45<06:54,  1.97it/s]"
     ]
    },
    {
     "name": "stdout",
     "output_type": "stream",
     "text": [
      "404 Not Found: https://iiif.wellcomecollection.org/presentation/b11513044\n"
     ]
    },
    {
     "name": "stderr",
     "output_type": "stream",
     "text": [
      "Retrying downloads:  49%|████▉     | 794/1609 [06:45<06:44,  2.01it/s]"
     ]
    },
    {
     "name": "stdout",
     "output_type": "stream",
     "text": [
      "404 Not Found: https://iiif.wellcomecollection.org/presentation/b11150166\n"
     ]
    },
    {
     "name": "stderr",
     "output_type": "stream",
     "text": [
      "Retrying downloads:  49%|████▉     | 795/1609 [06:46<06:50,  1.98it/s]"
     ]
    },
    {
     "name": "stdout",
     "output_type": "stream",
     "text": [
      "404 Not Found: https://iiif.wellcomecollection.org/presentation/b11131196\n"
     ]
    },
    {
     "name": "stderr",
     "output_type": "stream",
     "text": [
      "Retrying downloads:  49%|████▉     | 796/1609 [06:46<06:53,  1.97it/s]"
     ]
    },
    {
     "name": "stdout",
     "output_type": "stream",
     "text": [
      "404 Not Found: https://iiif.wellcomecollection.org/presentation/b10186001\n"
     ]
    },
    {
     "name": "stderr",
     "output_type": "stream",
     "text": [
      "Retrying downloads:  50%|████▉     | 797/1609 [06:47<06:43,  2.01it/s]"
     ]
    },
    {
     "name": "stdout",
     "output_type": "stream",
     "text": [
      "404 Not Found: https://iiif.wellcomecollection.org/presentation/b11057580\n"
     ]
    },
    {
     "name": "stderr",
     "output_type": "stream",
     "text": [
      "Retrying downloads:  50%|████▉     | 798/1609 [06:47<06:41,  2.02it/s]"
     ]
    },
    {
     "name": "stdout",
     "output_type": "stream",
     "text": [
      "404 Not Found: https://iiif.wellcomecollection.org/presentation/b11218332\n"
     ]
    },
    {
     "name": "stderr",
     "output_type": "stream",
     "text": [
      "Retrying downloads:  50%|████▉     | 799/1609 [06:48<06:31,  2.07it/s]"
     ]
    },
    {
     "name": "stdout",
     "output_type": "stream",
     "text": [
      "404 Not Found: https://iiif.wellcomecollection.org/presentation/b14582077\n"
     ]
    },
    {
     "name": "stderr",
     "output_type": "stream",
     "text": [
      "Retrying downloads:  50%|████▉     | 800/1609 [06:48<06:45,  1.99it/s]"
     ]
    },
    {
     "name": "stdout",
     "output_type": "stream",
     "text": [
      "404 Not Found: https://iiif.wellcomecollection.org/presentation/b12207524\n"
     ]
    },
    {
     "name": "stderr",
     "output_type": "stream",
     "text": [
      "Retrying downloads:  50%|████▉     | 801/1609 [06:49<06:41,  2.01it/s]"
     ]
    },
    {
     "name": "stdout",
     "output_type": "stream",
     "text": [
      "404 Not Found: https://iiif.wellcomecollection.org/presentation/b11058742\n"
     ]
    },
    {
     "name": "stderr",
     "output_type": "stream",
     "text": [
      "Retrying downloads:  50%|████▉     | 802/1609 [06:49<06:37,  2.03it/s]"
     ]
    },
    {
     "name": "stdout",
     "output_type": "stream",
     "text": [
      "404 Not Found: https://iiif.wellcomecollection.org/presentation/b11138099\n"
     ]
    },
    {
     "name": "stderr",
     "output_type": "stream",
     "text": [
      "Retrying downloads:  50%|████▉     | 803/1609 [06:50<06:36,  2.03it/s]"
     ]
    },
    {
     "name": "stdout",
     "output_type": "stream",
     "text": [
      "404 Not Found: https://iiif.wellcomecollection.org/presentation/b11058560\n"
     ]
    },
    {
     "name": "stderr",
     "output_type": "stream",
     "text": [
      "Retrying downloads:  50%|████▉     | 804/1609 [06:50<06:34,  2.04it/s]"
     ]
    },
    {
     "name": "stdout",
     "output_type": "stream",
     "text": [
      "404 Not Found: https://iiif.wellcomecollection.org/presentation/b12052978\n"
     ]
    },
    {
     "name": "stderr",
     "output_type": "stream",
     "text": [
      "Retrying downloads:  50%|█████     | 805/1609 [06:51<06:38,  2.02it/s]"
     ]
    },
    {
     "name": "stdout",
     "output_type": "stream",
     "text": [
      "404 Not Found: https://iiif.wellcomecollection.org/presentation/b10107381\n"
     ]
    },
    {
     "name": "stderr",
     "output_type": "stream",
     "text": [
      "Retrying downloads:  50%|█████     | 806/1609 [06:51<06:30,  2.06it/s]"
     ]
    },
    {
     "name": "stdout",
     "output_type": "stream",
     "text": [
      "404 Not Found: https://iiif.wellcomecollection.org/presentation/b1153641x\n"
     ]
    },
    {
     "name": "stderr",
     "output_type": "stream",
     "text": [
      "Retrying downloads:  50%|█████     | 807/1609 [06:51<05:46,  2.32it/s]"
     ]
    },
    {
     "name": "stdout",
     "output_type": "stream",
     "text": [
      "404 Not Found: https://iiif.wellcomecollection.org/presentation/b12062789\n"
     ]
    },
    {
     "name": "stderr",
     "output_type": "stream",
     "text": [
      "Retrying downloads:  50%|█████     | 808/1609 [06:52<06:16,  2.13it/s]"
     ]
    },
    {
     "name": "stdout",
     "output_type": "stream",
     "text": [
      "404 Not Found: https://iiif.wellcomecollection.org/presentation/b10290151\n"
     ]
    },
    {
     "name": "stderr",
     "output_type": "stream",
     "text": [
      "Retrying downloads:  50%|█████     | 809/1609 [06:53<06:32,  2.04it/s]"
     ]
    },
    {
     "name": "stdout",
     "output_type": "stream",
     "text": [
      "404 Not Found: https://iiif.wellcomecollection.org/presentation/b11481638\n"
     ]
    },
    {
     "name": "stderr",
     "output_type": "stream",
     "text": [
      "Retrying downloads:  50%|█████     | 810/1609 [06:53<06:23,  2.09it/s]"
     ]
    },
    {
     "name": "stdout",
     "output_type": "stream",
     "text": [
      "404 Not Found: https://iiif.wellcomecollection.org/presentation/b1220786x\n"
     ]
    },
    {
     "name": "stderr",
     "output_type": "stream",
     "text": [
      "Retrying downloads:  50%|█████     | 811/1609 [06:53<06:28,  2.05it/s]"
     ]
    },
    {
     "name": "stdout",
     "output_type": "stream",
     "text": [
      "404 Not Found: https://iiif.wellcomecollection.org/presentation/b12206234\n"
     ]
    },
    {
     "name": "stderr",
     "output_type": "stream",
     "text": [
      "Retrying downloads:  50%|█████     | 812/1609 [06:54<06:33,  2.03it/s]"
     ]
    },
    {
     "name": "stdout",
     "output_type": "stream",
     "text": [
      "404 Not Found: https://iiif.wellcomecollection.org/presentation/b13148345\n"
     ]
    },
    {
     "name": "stderr",
     "output_type": "stream",
     "text": [
      "Retrying downloads:  51%|█████     | 813/1609 [06:54<06:33,  2.02it/s]"
     ]
    },
    {
     "name": "stdout",
     "output_type": "stream",
     "text": [
      "404 Not Found: https://iiif.wellcomecollection.org/presentation/b12202265\n"
     ]
    },
    {
     "name": "stderr",
     "output_type": "stream",
     "text": [
      "Retrying downloads:  51%|█████     | 814/1609 [06:55<06:32,  2.03it/s]"
     ]
    },
    {
     "name": "stdout",
     "output_type": "stream",
     "text": [
      "404 Not Found: https://iiif.wellcomecollection.org/presentation/b10715307\n"
     ]
    },
    {
     "name": "stderr",
     "output_type": "stream",
     "text": [
      "Retrying downloads:  51%|█████     | 815/1609 [06:55<06:28,  2.04it/s]"
     ]
    },
    {
     "name": "stdout",
     "output_type": "stream",
     "text": [
      "404 Not Found: https://iiif.wellcomecollection.org/presentation/b12947805\n"
     ]
    },
    {
     "name": "stderr",
     "output_type": "stream",
     "text": [
      "Retrying downloads:  51%|█████     | 816/1609 [06:56<06:34,  2.01it/s]"
     ]
    },
    {
     "name": "stdout",
     "output_type": "stream",
     "text": [
      "404 Not Found: https://iiif.wellcomecollection.org/presentation/b10890002\n"
     ]
    },
    {
     "name": "stderr",
     "output_type": "stream",
     "text": [
      "Retrying downloads:  51%|█████     | 817/1609 [06:57<07:05,  1.86it/s]"
     ]
    },
    {
     "name": "stdout",
     "output_type": "stream",
     "text": [
      "404 Not Found: https://iiif.wellcomecollection.org/presentation/b13255344\n"
     ]
    },
    {
     "name": "stderr",
     "output_type": "stream",
     "text": [
      "Retrying downloads:  51%|█████     | 818/1609 [06:57<06:51,  1.92it/s]"
     ]
    },
    {
     "name": "stdout",
     "output_type": "stream",
     "text": [
      "404 Not Found: https://iiif.wellcomecollection.org/presentation/b13223513\n"
     ]
    },
    {
     "name": "stderr",
     "output_type": "stream",
     "text": [
      "Retrying downloads:  51%|█████     | 819/1609 [06:58<06:48,  1.93it/s]"
     ]
    },
    {
     "name": "stdout",
     "output_type": "stream",
     "text": [
      "404 Not Found: https://iiif.wellcomecollection.org/presentation/b1343214x\n"
     ]
    },
    {
     "name": "stderr",
     "output_type": "stream",
     "text": [
      "Retrying downloads:  51%|█████     | 820/1609 [06:58<07:34,  1.74it/s]"
     ]
    },
    {
     "name": "stdout",
     "output_type": "stream",
     "text": [
      "404 Not Found: https://iiif.wellcomecollection.org/presentation/b12822942\n"
     ]
    },
    {
     "name": "stderr",
     "output_type": "stream",
     "text": [
      "Retrying downloads:  51%|█████     | 821/1609 [06:59<06:10,  2.13it/s]"
     ]
    },
    {
     "name": "stdout",
     "output_type": "stream",
     "text": [
      "404 Not Found: https://iiif.wellcomecollection.org/presentation/4\n"
     ]
    },
    {
     "name": "stderr",
     "output_type": "stream",
     "text": [
      "Retrying downloads:  51%|█████     | 822/1609 [06:59<06:10,  2.12it/s]"
     ]
    },
    {
     "name": "stdout",
     "output_type": "stream",
     "text": [
      "404 Not Found: https://iiif.wellcomecollection.org/presentation/b1047707x\n"
     ]
    },
    {
     "name": "stderr",
     "output_type": "stream",
     "text": [
      "Retrying downloads:  51%|█████     | 823/1609 [06:59<06:18,  2.08it/s]"
     ]
    },
    {
     "name": "stdout",
     "output_type": "stream",
     "text": [
      "404 Not Found: https://iiif.wellcomecollection.org/presentation/b10110288\n"
     ]
    },
    {
     "name": "stderr",
     "output_type": "stream",
     "text": [
      "Retrying downloads:  51%|█████     | 824/1609 [07:00<06:22,  2.05it/s]"
     ]
    },
    {
     "name": "stdout",
     "output_type": "stream",
     "text": [
      "404 Not Found: https://iiif.wellcomecollection.org/presentation/b12177544\n"
     ]
    },
    {
     "name": "stderr",
     "output_type": "stream",
     "text": [
      "Retrying downloads:  51%|█████▏    | 825/1609 [07:00<06:21,  2.06it/s]"
     ]
    },
    {
     "name": "stdout",
     "output_type": "stream",
     "text": [
      "404 Not Found: https://iiif.wellcomecollection.org/presentation/b12209648\n"
     ]
    },
    {
     "name": "stderr",
     "output_type": "stream",
     "text": [
      "Retrying downloads:  51%|█████▏    | 826/1609 [07:01<06:18,  2.07it/s]"
     ]
    },
    {
     "name": "stdout",
     "output_type": "stream",
     "text": [
      "404 Not Found: https://iiif.wellcomecollection.org/presentation/b10555158\n"
     ]
    },
    {
     "name": "stderr",
     "output_type": "stream",
     "text": [
      "Retrying downloads:  51%|█████▏    | 827/1609 [07:01<06:19,  2.06it/s]"
     ]
    },
    {
     "name": "stdout",
     "output_type": "stream",
     "text": [
      "404 Not Found: https://iiif.wellcomecollection.org/presentation/b13079906\n"
     ]
    },
    {
     "name": "stderr",
     "output_type": "stream",
     "text": [
      "Retrying downloads:  51%|█████▏    | 828/1609 [07:02<06:24,  2.03it/s]"
     ]
    },
    {
     "name": "stdout",
     "output_type": "stream",
     "text": [
      "404 Not Found: https://iiif.wellcomecollection.org/presentation/b14649159\n"
     ]
    },
    {
     "name": "stderr",
     "output_type": "stream",
     "text": [
      "Retrying downloads:  52%|█████▏    | 829/1609 [07:03<07:04,  1.84it/s]"
     ]
    },
    {
     "name": "stdout",
     "output_type": "stream",
     "text": [
      "404 Not Found: https://iiif.wellcomecollection.org/presentation/b12983883\n"
     ]
    },
    {
     "name": "stderr",
     "output_type": "stream",
     "text": [
      "Retrying downloads:  52%|█████▏    | 830/1609 [07:03<06:50,  1.90it/s]"
     ]
    },
    {
     "name": "stdout",
     "output_type": "stream",
     "text": [
      "404 Not Found: https://iiif.wellcomecollection.org/presentation/b10119139\n"
     ]
    },
    {
     "name": "stderr",
     "output_type": "stream",
     "text": [
      "Retrying downloads:  52%|█████▏    | 831/1609 [07:04<06:41,  1.94it/s]"
     ]
    },
    {
     "name": "stdout",
     "output_type": "stream",
     "text": [
      "404 Not Found: https://iiif.wellcomecollection.org/presentation/b12951730\n"
     ]
    },
    {
     "name": "stderr",
     "output_type": "stream",
     "text": [
      "Retrying downloads:  52%|█████▏    | 832/1609 [07:04<06:38,  1.95it/s]"
     ]
    },
    {
     "name": "stdout",
     "output_type": "stream",
     "text": [
      "404 Not Found: https://iiif.wellcomecollection.org/presentation/b10177401\n"
     ]
    },
    {
     "name": "stderr",
     "output_type": "stream",
     "text": [
      "Retrying downloads:  52%|█████▏    | 833/1609 [07:05<06:38,  1.95it/s]"
     ]
    },
    {
     "name": "stdout",
     "output_type": "stream",
     "text": [
      "404 Not Found: https://iiif.wellcomecollection.org/presentation/b10877095\n"
     ]
    },
    {
     "name": "stderr",
     "output_type": "stream",
     "text": [
      "Retrying downloads:  52%|█████▏    | 834/1609 [07:05<06:41,  1.93it/s]"
     ]
    },
    {
     "name": "stdout",
     "output_type": "stream",
     "text": [
      "404 Not Found: https://iiif.wellcomecollection.org/presentation/b13149088\n"
     ]
    },
    {
     "name": "stderr",
     "output_type": "stream",
     "text": [
      "Retrying downloads:  52%|█████▏    | 835/1609 [07:06<06:33,  1.97it/s]"
     ]
    },
    {
     "name": "stdout",
     "output_type": "stream",
     "text": [
      "404 Not Found: https://iiif.wellcomecollection.org/presentation/b11533328\n"
     ]
    },
    {
     "name": "stderr",
     "output_type": "stream",
     "text": [
      "Retrying downloads:  52%|█████▏    | 836/1609 [07:06<06:55,  1.86it/s]"
     ]
    },
    {
     "name": "stdout",
     "output_type": "stream",
     "text": [
      "404 Not Found: https://iiif.wellcomecollection.org/presentation/b11486661\n"
     ]
    },
    {
     "name": "stderr",
     "output_type": "stream",
     "text": [
      "Retrying downloads:  52%|█████▏    | 837/1609 [07:07<06:35,  1.95it/s]"
     ]
    },
    {
     "name": "stdout",
     "output_type": "stream",
     "text": [
      "404 Not Found: https://iiif.wellcomecollection.org/presentation/b12947684\n"
     ]
    },
    {
     "name": "stderr",
     "output_type": "stream",
     "text": [
      "Retrying downloads:  52%|█████▏    | 838/1609 [07:07<06:24,  2.01it/s]"
     ]
    },
    {
     "name": "stdout",
     "output_type": "stream",
     "text": [
      "404 Not Found: https://iiif.wellcomecollection.org/presentation/b15489632\n"
     ]
    },
    {
     "name": "stderr",
     "output_type": "stream",
     "text": [
      "Retrying downloads:  52%|█████▏    | 839/1609 [07:08<06:28,  1.98it/s]"
     ]
    },
    {
     "name": "stdout",
     "output_type": "stream",
     "text": [
      "404 Not Found: https://iiif.wellcomecollection.org/presentation/b11058341\n"
     ]
    },
    {
     "name": "stderr",
     "output_type": "stream",
     "text": [
      "Retrying downloads:  52%|█████▏    | 840/1609 [07:08<06:46,  1.89it/s]"
     ]
    },
    {
     "name": "stdout",
     "output_type": "stream",
     "text": [
      "404 Not Found: https://iiif.wellcomecollection.org/presentation/b12176448\n"
     ]
    },
    {
     "name": "stderr",
     "output_type": "stream",
     "text": [
      "Retrying downloads:  52%|█████▏    | 841/1609 [07:09<06:33,  1.95it/s]"
     ]
    },
    {
     "name": "stdout",
     "output_type": "stream",
     "text": [
      "404 Not Found: https://iiif.wellcomecollection.org/presentation/b10916271\n"
     ]
    },
    {
     "name": "stderr",
     "output_type": "stream",
     "text": [
      "Retrying downloads:  52%|█████▏    | 842/1609 [07:09<06:19,  2.02it/s]"
     ]
    },
    {
     "name": "stdout",
     "output_type": "stream",
     "text": [
      "404 Not Found: https://iiif.wellcomecollection.org/presentation/b11058626\n"
     ]
    },
    {
     "name": "stderr",
     "output_type": "stream",
     "text": [
      "Retrying downloads:  52%|█████▏    | 843/1609 [07:10<06:16,  2.04it/s]"
     ]
    },
    {
     "name": "stdout",
     "output_type": "stream",
     "text": [
      "404 Not Found: https://iiif.wellcomecollection.org/presentation/b13255691\n"
     ]
    },
    {
     "name": "stderr",
     "output_type": "stream",
     "text": [
      "Retrying downloads:  52%|█████▏    | 844/1609 [07:10<06:13,  2.05it/s]"
     ]
    },
    {
     "name": "stdout",
     "output_type": "stream",
     "text": [
      "404 Not Found: https://iiif.wellcomecollection.org/presentation/b11058328\n"
     ]
    },
    {
     "name": "stderr",
     "output_type": "stream",
     "text": [
      "Retrying downloads:  53%|█████▎    | 845/1609 [07:11<06:10,  2.06it/s]"
     ]
    },
    {
     "name": "stdout",
     "output_type": "stream",
     "text": [
      "404 Not Found: https://iiif.wellcomecollection.org/presentation/b12207706\n"
     ]
    },
    {
     "name": "stderr",
     "output_type": "stream",
     "text": [
      "Retrying downloads:  53%|█████▎    | 846/1609 [07:11<06:08,  2.07it/s]"
     ]
    },
    {
     "name": "stdout",
     "output_type": "stream",
     "text": [
      "404 Not Found: https://iiif.wellcomecollection.org/presentation/b10109560\n"
     ]
    },
    {
     "name": "stderr",
     "output_type": "stream",
     "text": [
      "Retrying downloads:  53%|█████▎    | 847/1609 [07:12<06:05,  2.08it/s]"
     ]
    },
    {
     "name": "stdout",
     "output_type": "stream",
     "text": [
      "404 Not Found: https://iiif.wellcomecollection.org/presentation/b11148640\n"
     ]
    },
    {
     "name": "stderr",
     "output_type": "stream",
     "text": [
      "Retrying downloads:  53%|█████▎    | 848/1609 [07:12<06:01,  2.11it/s]"
     ]
    },
    {
     "name": "stdout",
     "output_type": "stream",
     "text": [
      "404 Not Found: https://iiif.wellcomecollection.org/presentation/b14571171\n"
     ]
    },
    {
     "name": "stderr",
     "output_type": "stream",
     "text": [
      "Retrying downloads:  53%|█████▎    | 849/1609 [07:13<06:15,  2.03it/s]"
     ]
    },
    {
     "name": "stdout",
     "output_type": "stream",
     "text": [
      "404 Not Found: https://iiif.wellcomecollection.org/presentation/b12208358\n"
     ]
    },
    {
     "name": "stderr",
     "output_type": "stream",
     "text": [
      "Retrying downloads:  53%|█████▎    | 850/1609 [07:13<06:09,  2.05it/s]"
     ]
    },
    {
     "name": "stdout",
     "output_type": "stream",
     "text": [
      "404 Not Found: https://iiif.wellcomecollection.org/presentation/b10111104\n"
     ]
    },
    {
     "name": "stderr",
     "output_type": "stream",
     "text": [
      "Retrying downloads:  53%|█████▎    | 851/1609 [07:14<06:08,  2.06it/s]"
     ]
    },
    {
     "name": "stdout",
     "output_type": "stream",
     "text": [
      "404 Not Found: https://iiif.wellcomecollection.org/presentation/b17557653\n"
     ]
    },
    {
     "name": "stderr",
     "output_type": "stream",
     "text": [
      "Retrying downloads:  53%|█████▎    | 852/1609 [07:14<06:06,  2.06it/s]"
     ]
    },
    {
     "name": "stdout",
     "output_type": "stream",
     "text": [
      "404 Not Found: https://iiif.wellcomecollection.org/presentation/b1220724x\n"
     ]
    },
    {
     "name": "stderr",
     "output_type": "stream",
     "text": [
      "Retrying downloads:  53%|█████▎    | 853/1609 [07:15<06:07,  2.06it/s]"
     ]
    },
    {
     "name": "stdout",
     "output_type": "stream",
     "text": [
      "404 Not Found: https://iiif.wellcomecollection.org/presentation/b17801722\n"
     ]
    },
    {
     "name": "stderr",
     "output_type": "stream",
     "text": [
      "Retrying downloads:  53%|█████▎    | 854/1609 [07:15<06:06,  2.06it/s]"
     ]
    },
    {
     "name": "stdout",
     "output_type": "stream",
     "text": [
      "404 Not Found: https://iiif.wellcomecollection.org/presentation/b13104834\n"
     ]
    },
    {
     "name": "stderr",
     "output_type": "stream",
     "text": [
      "Retrying downloads:  53%|█████▎    | 855/1609 [07:15<06:09,  2.04it/s]"
     ]
    },
    {
     "name": "stdout",
     "output_type": "stream",
     "text": [
      "404 Not Found: https://iiif.wellcomecollection.org/presentation/b10615969\n"
     ]
    },
    {
     "name": "stderr",
     "output_type": "stream",
     "text": [
      "Retrying downloads:  53%|█████▎    | 856/1609 [07:16<06:16,  2.00it/s]"
     ]
    },
    {
     "name": "stdout",
     "output_type": "stream",
     "text": [
      "404 Not Found: https://iiif.wellcomecollection.org/presentation/b10318318\n"
     ]
    },
    {
     "name": "stderr",
     "output_type": "stream",
     "text": [
      "Retrying downloads:  53%|█████▎    | 857/1609 [07:17<06:32,  1.92it/s]"
     ]
    },
    {
     "name": "stdout",
     "output_type": "stream",
     "text": [
      "404 Not Found: https://iiif.wellcomecollection.org/presentation/b1069755x\n"
     ]
    },
    {
     "name": "stderr",
     "output_type": "stream",
     "text": [
      "Retrying downloads:  53%|█████▎    | 858/1609 [07:17<06:24,  1.95it/s]"
     ]
    },
    {
     "name": "stdout",
     "output_type": "stream",
     "text": [
      "404 Not Found: https://iiif.wellcomecollection.org/presentation/b10003289\n"
     ]
    },
    {
     "name": "stderr",
     "output_type": "stream",
     "text": [
      "Retrying downloads:  53%|█████▎    | 859/1609 [07:18<06:14,  2.00it/s]"
     ]
    },
    {
     "name": "stdout",
     "output_type": "stream",
     "text": [
      "404 Not Found: https://iiif.wellcomecollection.org/presentation/b12202046\n"
     ]
    },
    {
     "name": "stderr",
     "output_type": "stream",
     "text": [
      "Retrying downloads:  53%|█████▎    | 860/1609 [07:18<06:45,  1.85it/s]"
     ]
    },
    {
     "name": "stdout",
     "output_type": "stream",
     "text": [
      "404 Not Found: https://iiif.wellcomecollection.org/presentation/b11054979\n"
     ]
    },
    {
     "name": "stderr",
     "output_type": "stream",
     "text": [
      "Retrying downloads:  54%|█████▎    | 861/1609 [07:19<06:29,  1.92it/s]"
     ]
    },
    {
     "name": "stdout",
     "output_type": "stream",
     "text": [
      "404 Not Found: https://iiif.wellcomecollection.org/presentation/b10112625\n"
     ]
    },
    {
     "name": "stderr",
     "output_type": "stream",
     "text": [
      "Retrying downloads:  54%|█████▎    | 862/1609 [07:19<06:30,  1.91it/s]"
     ]
    },
    {
     "name": "stdout",
     "output_type": "stream",
     "text": [
      "404 Not Found: https://iiif.wellcomecollection.org/presentation/b11143964\n"
     ]
    },
    {
     "name": "stderr",
     "output_type": "stream",
     "text": [
      "Retrying downloads:  54%|█████▎    | 863/1609 [07:20<06:23,  1.94it/s]"
     ]
    },
    {
     "name": "stdout",
     "output_type": "stream",
     "text": [
      "404 Not Found: https://iiif.wellcomecollection.org/presentation/b10110720\n"
     ]
    },
    {
     "name": "stderr",
     "output_type": "stream",
     "text": [
      "Retrying downloads:  54%|█████▎    | 864/1609 [07:20<06:17,  1.98it/s]"
     ]
    },
    {
     "name": "stdout",
     "output_type": "stream",
     "text": [
      "404 Not Found: https://iiif.wellcomecollection.org/presentation/b10106765\n"
     ]
    },
    {
     "name": "stderr",
     "output_type": "stream",
     "text": [
      "Retrying downloads:  54%|█████▍    | 865/1609 [07:21<06:05,  2.03it/s]"
     ]
    },
    {
     "name": "stdout",
     "output_type": "stream",
     "text": [
      "404 Not Found: https://iiif.wellcomecollection.org/presentation/b10615647\n"
     ]
    },
    {
     "name": "stderr",
     "output_type": "stream",
     "text": [
      "Retrying downloads:  54%|█████▍    | 866/1609 [07:21<06:13,  1.99it/s]"
     ]
    },
    {
     "name": "stdout",
     "output_type": "stream",
     "text": [
      "404 Not Found: https://iiif.wellcomecollection.org/presentation/b11524418\n"
     ]
    },
    {
     "name": "stderr",
     "output_type": "stream",
     "text": [
      "Retrying downloads:  54%|█████▍    | 867/1609 [07:22<06:35,  1.88it/s]"
     ]
    },
    {
     "name": "stdout",
     "output_type": "stream",
     "text": [
      "404 Not Found: https://iiif.wellcomecollection.org/presentation/b10005304\n"
     ]
    },
    {
     "name": "stderr",
     "output_type": "stream",
     "text": [
      "Retrying downloads:  54%|█████▍    | 868/1609 [07:22<06:23,  1.93it/s]"
     ]
    },
    {
     "name": "stdout",
     "output_type": "stream",
     "text": [
      "404 Not Found: https://iiif.wellcomecollection.org/presentation/b10915254\n"
     ]
    },
    {
     "name": "stderr",
     "output_type": "stream",
     "text": [
      "Retrying downloads:  54%|█████▍    | 869/1609 [07:23<06:46,  1.82it/s]"
     ]
    },
    {
     "name": "stdout",
     "output_type": "stream",
     "text": [
      "404 Not Found: https://iiif.wellcomecollection.org/presentation/b11056757\n"
     ]
    },
    {
     "name": "stderr",
     "output_type": "stream",
     "text": [
      "Retrying downloads:  54%|█████▍    | 870/1609 [07:23<06:28,  1.90it/s]"
     ]
    },
    {
     "name": "stdout",
     "output_type": "stream",
     "text": [
      "404 Not Found: https://iiif.wellcomecollection.org/presentation/b14568986\n"
     ]
    },
    {
     "name": "stderr",
     "output_type": "stream",
     "text": [
      "Retrying downloads:  54%|█████▍    | 871/1609 [07:24<06:23,  1.92it/s]"
     ]
    },
    {
     "name": "stdout",
     "output_type": "stream",
     "text": [
      "404 Not Found: https://iiif.wellcomecollection.org/presentation/b32867372\n"
     ]
    },
    {
     "name": "stderr",
     "output_type": "stream",
     "text": [
      "Retrying downloads:  54%|█████▍    | 872/1609 [07:24<06:30,  1.89it/s]"
     ]
    },
    {
     "name": "stdout",
     "output_type": "stream",
     "text": [
      "404 Not Found: https://iiif.wellcomecollection.org/presentation/b14568329\n"
     ]
    },
    {
     "name": "stderr",
     "output_type": "stream",
     "text": [
      "Retrying downloads:  54%|█████▍    | 873/1609 [07:25<06:20,  1.93it/s]"
     ]
    },
    {
     "name": "stdout",
     "output_type": "stream",
     "text": [
      "404 Not Found: https://iiif.wellcomecollection.org/presentation/b10105633\n"
     ]
    },
    {
     "name": "stderr",
     "output_type": "stream",
     "text": [
      "Retrying downloads:  54%|█████▍    | 874/1609 [07:25<06:11,  1.98it/s]"
     ]
    },
    {
     "name": "stdout",
     "output_type": "stream",
     "text": [
      "404 Not Found: https://iiif.wellcomecollection.org/presentation/b10917512\n"
     ]
    },
    {
     "name": "stderr",
     "output_type": "stream",
     "text": [
      "Retrying downloads:  54%|█████▍    | 875/1609 [07:26<05:06,  2.40it/s]"
     ]
    },
    {
     "name": "stdout",
     "output_type": "stream",
     "text": [
      "404 Not Found: https://iiif.wellcomecollection.org/presentation/1\n"
     ]
    },
    {
     "name": "stderr",
     "output_type": "stream",
     "text": [
      "Retrying downloads:  54%|█████▍    | 876/1609 [07:26<05:25,  2.25it/s]"
     ]
    },
    {
     "name": "stdout",
     "output_type": "stream",
     "text": [
      "404 Not Found: https://iiif.wellcomecollection.org/presentation/b14584244\n"
     ]
    },
    {
     "name": "stderr",
     "output_type": "stream",
     "text": [
      "Retrying downloads:  55%|█████▍    | 877/1609 [07:27<05:54,  2.06it/s]"
     ]
    },
    {
     "name": "stdout",
     "output_type": "stream",
     "text": [
      "404 Not Found: https://iiif.wellcomecollection.org/presentation/b12062807\n"
     ]
    },
    {
     "name": "stderr",
     "output_type": "stream",
     "text": [
      "Retrying downloads:  55%|█████▍    | 878/1609 [07:27<05:55,  2.06it/s]"
     ]
    },
    {
     "name": "stdout",
     "output_type": "stream",
     "text": [
      "404 Not Found: https://iiif.wellcomecollection.org/presentation/b16435333\n"
     ]
    },
    {
     "name": "stderr",
     "output_type": "stream",
     "text": [
      "Retrying downloads:  55%|█████▍    | 879/1609 [07:28<05:54,  2.06it/s]"
     ]
    },
    {
     "name": "stdout",
     "output_type": "stream",
     "text": [
      "404 Not Found: https://iiif.wellcomecollection.org/presentation/b10319608\n"
     ]
    },
    {
     "name": "stderr",
     "output_type": "stream",
     "text": [
      "Retrying downloads:  55%|█████▍    | 880/1609 [07:28<06:07,  1.98it/s]"
     ]
    },
    {
     "name": "stdout",
     "output_type": "stream",
     "text": [
      "404 Not Found: https://iiif.wellcomecollection.org/presentation/b12177908\n"
     ]
    },
    {
     "name": "stderr",
     "output_type": "stream",
     "text": [
      "Retrying downloads:  55%|█████▍    | 881/1609 [07:29<06:11,  1.96it/s]"
     ]
    },
    {
     "name": "stdout",
     "output_type": "stream",
     "text": [
      "404 Not Found: https://iiif.wellcomecollection.org/presentation/b11147544\n"
     ]
    },
    {
     "name": "stderr",
     "output_type": "stream",
     "text": [
      "Retrying downloads:  55%|█████▍    | 882/1609 [07:29<06:04,  1.99it/s]"
     ]
    },
    {
     "name": "stdout",
     "output_type": "stream",
     "text": [
      "404 Not Found: https://iiif.wellcomecollection.org/presentation/b1324761x\n"
     ]
    },
    {
     "name": "stderr",
     "output_type": "stream",
     "text": [
      "Retrying downloads:  55%|█████▍    | 883/1609 [07:30<06:06,  1.98it/s]"
     ]
    },
    {
     "name": "stdout",
     "output_type": "stream",
     "text": [
      "404 Not Found: https://iiif.wellcomecollection.org/presentation/b10917214\n"
     ]
    },
    {
     "name": "stderr",
     "output_type": "stream",
     "text": [
      "Retrying downloads:  55%|█████▍    | 884/1609 [07:30<05:57,  2.03it/s]"
     ]
    },
    {
     "name": "stdout",
     "output_type": "stream",
     "text": [
      "404 Not Found: https://iiif.wellcomecollection.org/presentation/b14562364\n"
     ]
    },
    {
     "name": "stderr",
     "output_type": "stream",
     "text": [
      "Retrying downloads:  55%|█████▌    | 885/1609 [07:31<05:58,  2.02it/s]"
     ]
    },
    {
     "name": "stdout",
     "output_type": "stream",
     "text": [
      "404 Not Found: https://iiif.wellcomecollection.org/presentation/b13105206\n"
     ]
    },
    {
     "name": "stderr",
     "output_type": "stream",
     "text": [
      "Retrying downloads:  55%|█████▌    | 886/1609 [07:31<05:59,  2.01it/s]"
     ]
    },
    {
     "name": "stdout",
     "output_type": "stream",
     "text": [
      "404 Not Found: https://iiif.wellcomecollection.org/presentation/b10283201\n"
     ]
    },
    {
     "name": "stderr",
     "output_type": "stream",
     "text": [
      "Retrying downloads:  55%|█████▌    | 887/1609 [07:32<05:51,  2.05it/s]"
     ]
    },
    {
     "name": "stdout",
     "output_type": "stream",
     "text": [
      "404 Not Found: https://iiif.wellcomecollection.org/presentation/b12951055\n"
     ]
    },
    {
     "name": "stderr",
     "output_type": "stream",
     "text": [
      "Retrying downloads:  55%|█████▌    | 888/1609 [07:32<05:59,  2.00it/s]"
     ]
    },
    {
     "name": "stdout",
     "output_type": "stream",
     "text": [
      "404 Not Found: https://iiif.wellcomecollection.org/presentation/b1295617x\n"
     ]
    },
    {
     "name": "stderr",
     "output_type": "stream",
     "text": [
      "Retrying downloads:  55%|█████▌    | 889/1609 [07:33<05:52,  2.04it/s]"
     ]
    },
    {
     "name": "stdout",
     "output_type": "stream",
     "text": [
      "404 Not Found: https://iiif.wellcomecollection.org/presentation/b14576636\n"
     ]
    },
    {
     "name": "stderr",
     "output_type": "stream",
     "text": [
      "Retrying downloads:  55%|█████▌    | 890/1609 [07:33<05:55,  2.02it/s]"
     ]
    },
    {
     "name": "stdout",
     "output_type": "stream",
     "text": [
      "404 Not Found: https://iiif.wellcomecollection.org/presentation/b1028705x\n"
     ]
    },
    {
     "name": "stderr",
     "output_type": "stream",
     "text": [
      "Retrying downloads:  55%|█████▌    | 891/1609 [07:34<05:53,  2.03it/s]"
     ]
    },
    {
     "name": "stdout",
     "output_type": "stream",
     "text": [
      "404 Not Found: https://iiif.wellcomecollection.org/presentation/b11513433\n"
     ]
    },
    {
     "name": "stderr",
     "output_type": "stream",
     "text": [
      "Retrying downloads:  55%|█████▌    | 892/1609 [07:34<05:44,  2.08it/s]"
     ]
    },
    {
     "name": "stdout",
     "output_type": "stream",
     "text": [
      "404 Not Found: https://iiif.wellcomecollection.org/presentation/b12179012\n"
     ]
    },
    {
     "name": "stderr",
     "output_type": "stream",
     "text": [
      "Retrying downloads:  56%|█████▌    | 893/1609 [07:35<05:51,  2.04it/s]"
     ]
    },
    {
     "name": "stdout",
     "output_type": "stream",
     "text": [
      "404 Not Found: https://iiif.wellcomecollection.org/presentation/b10776461\n"
     ]
    },
    {
     "name": "stderr",
     "output_type": "stream",
     "text": [
      "Retrying downloads:  56%|█████▌    | 894/1609 [07:35<05:53,  2.02it/s]"
     ]
    },
    {
     "name": "stdout",
     "output_type": "stream",
     "text": [
      "404 Not Found: https://iiif.wellcomecollection.org/presentation/b12204778\n"
     ]
    },
    {
     "name": "stderr",
     "output_type": "stream",
     "text": [
      "Retrying downloads:  56%|█████▌    | 895/1609 [07:36<05:57,  2.00it/s]"
     ]
    },
    {
     "name": "stdout",
     "output_type": "stream",
     "text": [
      "404 Not Found: https://iiif.wellcomecollection.org/presentation/b10109286\n"
     ]
    },
    {
     "name": "stderr",
     "output_type": "stream",
     "text": [
      "Retrying downloads:  56%|█████▌    | 896/1609 [07:36<06:04,  1.96it/s]"
     ]
    },
    {
     "name": "stdout",
     "output_type": "stream",
     "text": [
      "404 Not Found: https://iiif.wellcomecollection.org/presentation/b13256701\n"
     ]
    },
    {
     "name": "stderr",
     "output_type": "stream",
     "text": [
      "Retrying downloads:  56%|█████▌    | 897/1609 [07:37<05:58,  1.98it/s]"
     ]
    },
    {
     "name": "stdout",
     "output_type": "stream",
     "text": [
      "404 Not Found: https://iiif.wellcomecollection.org/presentation/b10916052\n"
     ]
    },
    {
     "name": "stderr",
     "output_type": "stream",
     "text": [
      "Retrying downloads:  56%|█████▌    | 898/1609 [07:37<06:02,  1.96it/s]"
     ]
    },
    {
     "name": "stdout",
     "output_type": "stream",
     "text": [
      "404 Not Found: https://iiif.wellcomecollection.org/presentation/b13257638\n"
     ]
    },
    {
     "name": "stderr",
     "output_type": "stream",
     "text": [
      "Retrying downloads:  56%|█████▌    | 899/1609 [07:38<05:55,  2.00it/s]"
     ]
    },
    {
     "name": "stdout",
     "output_type": "stream",
     "text": [
      "404 Not Found: https://iiif.wellcomecollection.org/presentation/b12179097\n"
     ]
    },
    {
     "name": "stderr",
     "output_type": "stream",
     "text": [
      "Retrying downloads:  56%|█████▌    | 900/1609 [07:38<05:47,  2.04it/s]"
     ]
    },
    {
     "name": "stdout",
     "output_type": "stream",
     "text": [
      "404 Not Found: https://iiif.wellcomecollection.org/presentation/b1456239x\n"
     ]
    },
    {
     "name": "stderr",
     "output_type": "stream",
     "text": [
      "Retrying downloads:  56%|█████▌    | 901/1609 [07:39<05:39,  2.09it/s]"
     ]
    },
    {
     "name": "stdout",
     "output_type": "stream",
     "text": [
      "404 Not Found: https://iiif.wellcomecollection.org/presentation/b12995125\n"
     ]
    },
    {
     "name": "stderr",
     "output_type": "stream",
     "text": [
      "Retrying downloads:  56%|█████▌    | 902/1609 [07:39<05:39,  2.08it/s]"
     ]
    },
    {
     "name": "stdout",
     "output_type": "stream",
     "text": [
      "404 Not Found: https://iiif.wellcomecollection.org/presentation/b11056629\n"
     ]
    },
    {
     "name": "stderr",
     "output_type": "stream",
     "text": [
      "Retrying downloads:  56%|█████▌    | 903/1609 [07:40<05:52,  2.00it/s]"
     ]
    },
    {
     "name": "stdout",
     "output_type": "stream",
     "text": [
      "404 Not Found: https://iiif.wellcomecollection.org/presentation/b10112443\n"
     ]
    },
    {
     "name": "stderr",
     "output_type": "stream",
     "text": [
      "Retrying downloads:  56%|█████▌    | 904/1609 [07:40<05:57,  1.97it/s]"
     ]
    },
    {
     "name": "stdout",
     "output_type": "stream",
     "text": [
      "404 Not Found: https://iiif.wellcomecollection.org/presentation/b13245582\n"
     ]
    },
    {
     "name": "stderr",
     "output_type": "stream",
     "text": [
      "Retrying downloads:  56%|█████▌    | 905/1609 [07:41<05:55,  1.98it/s]"
     ]
    },
    {
     "name": "stdout",
     "output_type": "stream",
     "text": [
      "404 Not Found: https://iiif.wellcomecollection.org/presentation/b12207135\n"
     ]
    },
    {
     "name": "stderr",
     "output_type": "stream",
     "text": [
      "Retrying downloads:  56%|█████▋    | 906/1609 [07:41<05:52,  1.99it/s]"
     ]
    },
    {
     "name": "stdout",
     "output_type": "stream",
     "text": [
      "404 Not Found: https://iiif.wellcomecollection.org/presentation/b10119693\n"
     ]
    },
    {
     "name": "stderr",
     "output_type": "stream",
     "text": [
      "Retrying downloads:  56%|█████▋    | 907/1609 [07:42<05:53,  1.99it/s]"
     ]
    },
    {
     "name": "stdout",
     "output_type": "stream",
     "text": [
      "404 Not Found: https://iiif.wellcomecollection.org/presentation/b11148007\n"
     ]
    },
    {
     "name": "stderr",
     "output_type": "stream",
     "text": [
      "Retrying downloads:  56%|█████▋    | 908/1609 [07:42<05:43,  2.04it/s]"
     ]
    },
    {
     "name": "stdout",
     "output_type": "stream",
     "text": [
      "404 Not Found: https://iiif.wellcomecollection.org/presentation/b10769493\n"
     ]
    },
    {
     "name": "stderr",
     "output_type": "stream",
     "text": [
      "Retrying downloads:  56%|█████▋    | 909/1609 [07:43<05:50,  2.00it/s]"
     ]
    },
    {
     "name": "stdout",
     "output_type": "stream",
     "text": [
      "404 Not Found: https://iiif.wellcomecollection.org/presentation/b12075498\n"
     ]
    },
    {
     "name": "stderr",
     "output_type": "stream",
     "text": [
      "Retrying downloads:  57%|█████▋    | 910/1609 [07:43<05:48,  2.01it/s]"
     ]
    },
    {
     "name": "stdout",
     "output_type": "stream",
     "text": [
      "404 Not Found: https://iiif.wellcomecollection.org/presentation/b12178548\n"
     ]
    },
    {
     "name": "stderr",
     "output_type": "stream",
     "text": [
      "Retrying downloads:  57%|█████▋    | 911/1609 [07:44<05:39,  2.06it/s]"
     ]
    },
    {
     "name": "stdout",
     "output_type": "stream",
     "text": [
      "404 Not Found: https://iiif.wellcomecollection.org/presentation/b12179024\n"
     ]
    },
    {
     "name": "stderr",
     "output_type": "stream",
     "text": [
      "Retrying downloads:  57%|█████▋    | 912/1609 [07:44<05:40,  2.04it/s]"
     ]
    },
    {
     "name": "stdout",
     "output_type": "stream",
     "text": [
      "404 Not Found: https://iiif.wellcomecollection.org/presentation/b11028142\n"
     ]
    },
    {
     "name": "stderr",
     "output_type": "stream",
     "text": [
      "Retrying downloads:  57%|█████▋    | 913/1609 [07:45<05:43,  2.02it/s]"
     ]
    },
    {
     "name": "stdout",
     "output_type": "stream",
     "text": [
      "404 Not Found: https://iiif.wellcomecollection.org/presentation/b12208073\n"
     ]
    },
    {
     "name": "stderr",
     "output_type": "stream",
     "text": [
      "Retrying downloads:  57%|█████▋    | 914/1609 [07:45<05:35,  2.07it/s]"
     ]
    },
    {
     "name": "stdout",
     "output_type": "stream",
     "text": [
      "404 Not Found: https://iiif.wellcomecollection.org/presentation/b11144178\n"
     ]
    },
    {
     "name": "stderr",
     "output_type": "stream",
     "text": [
      "Retrying downloads:  57%|█████▋    | 915/1609 [07:45<05:30,  2.10it/s]"
     ]
    },
    {
     "name": "stdout",
     "output_type": "stream",
     "text": [
      "404 Not Found: https://iiif.wellcomecollection.org/presentation/b12204456\n"
     ]
    },
    {
     "name": "stderr",
     "output_type": "stream",
     "text": [
      "Retrying downloads:  57%|█████▋    | 916/1609 [07:46<05:31,  2.09it/s]"
     ]
    },
    {
     "name": "stdout",
     "output_type": "stream",
     "text": [
      "404 Not Found: https://iiif.wellcomecollection.org/presentation/b10401143\n"
     ]
    },
    {
     "name": "stderr",
     "output_type": "stream",
     "text": [
      "Retrying downloads:  57%|█████▋    | 917/1609 [07:46<05:37,  2.05it/s]"
     ]
    },
    {
     "name": "stdout",
     "output_type": "stream",
     "text": [
      "404 Not Found: https://iiif.wellcomecollection.org/presentation/b1055001x\n"
     ]
    },
    {
     "name": "stderr",
     "output_type": "stream",
     "text": [
      "Retrying downloads:  57%|█████▋    | 918/1609 [07:47<05:33,  2.07it/s]"
     ]
    },
    {
     "name": "stdout",
     "output_type": "stream",
     "text": [
      "404 Not Found: https://iiif.wellcomecollection.org/presentation/b12165025\n"
     ]
    },
    {
     "name": "stderr",
     "output_type": "stream",
     "text": [
      "Retrying downloads:  57%|█████▋    | 919/1609 [07:48<05:55,  1.94it/s]"
     ]
    },
    {
     "name": "stdout",
     "output_type": "stream",
     "text": [
      "404 Not Found: https://iiif.wellcomecollection.org/presentation/b10279921\n"
     ]
    },
    {
     "name": "stderr",
     "output_type": "stream",
     "text": [
      "Retrying downloads:  57%|█████▋    | 920/1609 [07:48<05:58,  1.92it/s]"
     ]
    },
    {
     "name": "stdout",
     "output_type": "stream",
     "text": [
      "404 Not Found: https://iiif.wellcomecollection.org/presentation/b12822152\n"
     ]
    },
    {
     "name": "stderr",
     "output_type": "stream",
     "text": [
      "Retrying downloads:  57%|█████▋    | 921/1609 [07:49<05:50,  1.96it/s]"
     ]
    },
    {
     "name": "stdout",
     "output_type": "stream",
     "text": [
      "404 Not Found: https://iiif.wellcomecollection.org/presentation/b10916866\n"
     ]
    },
    {
     "name": "stderr",
     "output_type": "stream",
     "text": [
      "Retrying downloads:  57%|█████▋    | 922/1609 [07:49<05:43,  2.00it/s]"
     ]
    },
    {
     "name": "stdout",
     "output_type": "stream",
     "text": [
      "404 Not Found: https://iiif.wellcomecollection.org/presentation/b28990808\n"
     ]
    },
    {
     "name": "stderr",
     "output_type": "stream",
     "text": [
      "Retrying downloads:  57%|█████▋    | 923/1609 [07:50<05:44,  1.99it/s]"
     ]
    },
    {
     "name": "stdout",
     "output_type": "stream",
     "text": [
      "404 Not Found: https://iiif.wellcomecollection.org/presentation/b10917007\n"
     ]
    },
    {
     "name": "stderr",
     "output_type": "stream",
     "text": [
      "Retrying downloads:  57%|█████▋    | 924/1609 [07:50<05:37,  2.03it/s]"
     ]
    },
    {
     "name": "stdout",
     "output_type": "stream",
     "text": [
      "404 Not Found: https://iiif.wellcomecollection.org/presentation/b1456192x\n"
     ]
    },
    {
     "name": "stderr",
     "output_type": "stream",
     "text": [
      "Retrying downloads:  57%|█████▋    | 925/1609 [07:51<05:43,  1.99it/s]"
     ]
    },
    {
     "name": "stdout",
     "output_type": "stream",
     "text": [
      "404 Not Found: https://iiif.wellcomecollection.org/presentation/b11057786\n"
     ]
    },
    {
     "name": "stderr",
     "output_type": "stream",
     "text": [
      "Retrying downloads:  58%|█████▊    | 926/1609 [07:51<05:41,  2.00it/s]"
     ]
    },
    {
     "name": "stdout",
     "output_type": "stream",
     "text": [
      "404 Not Found: https://iiif.wellcomecollection.org/presentation/b14579078\n"
     ]
    },
    {
     "name": "stderr",
     "output_type": "stream",
     "text": [
      "Retrying downloads:  58%|█████▊    | 927/1609 [07:51<05:39,  2.01it/s]"
     ]
    },
    {
     "name": "stdout",
     "output_type": "stream",
     "text": [
      "404 Not Found: https://iiif.wellcomecollection.org/presentation/b14585467\n"
     ]
    },
    {
     "name": "stderr",
     "output_type": "stream",
     "text": [
      "Retrying downloads:  58%|█████▊    | 928/1609 [07:52<05:34,  2.03it/s]"
     ]
    },
    {
     "name": "stdout",
     "output_type": "stream",
     "text": [
      "404 Not Found: https://iiif.wellcomecollection.org/presentation/b16434626\n"
     ]
    },
    {
     "name": "stderr",
     "output_type": "stream",
     "text": [
      "Retrying downloads:  58%|█████▊    | 929/1609 [07:52<05:33,  2.04it/s]"
     ]
    },
    {
     "name": "stdout",
     "output_type": "stream",
     "text": [
      "404 Not Found: https://iiif.wellcomecollection.org/presentation/b13248996\n"
     ]
    },
    {
     "name": "stderr",
     "output_type": "stream",
     "text": [
      "Retrying downloads:  58%|█████▊    | 930/1609 [07:53<05:29,  2.06it/s]"
     ]
    },
    {
     "name": "stdout",
     "output_type": "stream",
     "text": [
      "404 Not Found: https://iiif.wellcomecollection.org/presentation/b12987359\n"
     ]
    },
    {
     "name": "stderr",
     "output_type": "stream",
     "text": [
      "Retrying downloads:  58%|█████▊    | 931/1609 [07:53<05:33,  2.03it/s]"
     ]
    },
    {
     "name": "stdout",
     "output_type": "stream",
     "text": [
      "404 Not Found: https://iiif.wellcomecollection.org/presentation/b15906772\n"
     ]
    },
    {
     "name": "stderr",
     "output_type": "stream",
     "text": [
      "Retrying downloads:  58%|█████▊    | 932/1609 [07:54<05:29,  2.06it/s]"
     ]
    },
    {
     "name": "stdout",
     "output_type": "stream",
     "text": [
      "404 Not Found: https://iiif.wellcomecollection.org/presentation/b12974511\n"
     ]
    },
    {
     "name": "stderr",
     "output_type": "stream",
     "text": [
      "Retrying downloads:  58%|█████▊    | 933/1609 [07:54<05:39,  1.99it/s]"
     ]
    },
    {
     "name": "stdout",
     "output_type": "stream",
     "text": [
      "404 Not Found: https://iiif.wellcomecollection.org/presentation/b11144439\n"
     ]
    },
    {
     "name": "stderr",
     "output_type": "stream",
     "text": [
      "Retrying downloads:  58%|█████▊    | 934/1609 [07:55<05:29,  2.05it/s]"
     ]
    },
    {
     "name": "stdout",
     "output_type": "stream",
     "text": [
      "404 Not Found: https://iiif.wellcomecollection.org/presentation/b12946254\n"
     ]
    },
    {
     "name": "stderr",
     "output_type": "stream",
     "text": [
      "Retrying downloads:  58%|█████▊    | 935/1609 [07:55<05:28,  2.05it/s]"
     ]
    },
    {
     "name": "stdout",
     "output_type": "stream",
     "text": [
      "404 Not Found: https://iiif.wellcomecollection.org/presentation/b14571742\n"
     ]
    },
    {
     "name": "stderr",
     "output_type": "stream",
     "text": [
      "Retrying downloads:  58%|█████▊    | 936/1609 [07:56<05:37,  2.00it/s]"
     ]
    },
    {
     "name": "stdout",
     "output_type": "stream",
     "text": [
      "404 Not Found: https://iiif.wellcomecollection.org/presentation/b1325439x\n"
     ]
    },
    {
     "name": "stderr",
     "output_type": "stream",
     "text": [
      "Retrying downloads:  58%|█████▊    | 937/1609 [07:57<05:56,  1.88it/s]"
     ]
    },
    {
     "name": "stdout",
     "output_type": "stream",
     "text": [
      "404 Not Found: https://iiif.wellcomecollection.org/presentation/b13256336\n"
     ]
    },
    {
     "name": "stderr",
     "output_type": "stream",
     "text": [
      "Retrying downloads:  58%|█████▊    | 938/1609 [07:57<06:04,  1.84it/s]"
     ]
    },
    {
     "name": "stdout",
     "output_type": "stream",
     "text": [
      "404 Not Found: https://iiif.wellcomecollection.org/presentation/b10769195\n"
     ]
    },
    {
     "name": "stderr",
     "output_type": "stream",
     "text": [
      "Retrying downloads:  58%|█████▊    | 939/1609 [07:58<05:55,  1.88it/s]"
     ]
    },
    {
     "name": "stdout",
     "output_type": "stream",
     "text": [
      "404 Not Found: https://iiif.wellcomecollection.org/presentation/b10776321\n"
     ]
    },
    {
     "name": "stderr",
     "output_type": "stream",
     "text": [
      "Retrying downloads:  58%|█████▊    | 940/1609 [07:58<05:52,  1.90it/s]"
     ]
    },
    {
     "name": "stdout",
     "output_type": "stream",
     "text": [
      "404 Not Found: https://iiif.wellcomecollection.org/presentation/b11533596\n"
     ]
    },
    {
     "name": "stderr",
     "output_type": "stream",
     "text": [
      "Retrying downloads:  58%|█████▊    | 941/1609 [07:59<05:39,  1.97it/s]"
     ]
    },
    {
     "name": "stdout",
     "output_type": "stream",
     "text": [
      "404 Not Found: https://iiif.wellcomecollection.org/presentation/b13424063\n"
     ]
    },
    {
     "name": "stderr",
     "output_type": "stream",
     "text": [
      "Retrying downloads:  59%|█████▊    | 942/1609 [07:59<05:31,  2.01it/s]"
     ]
    },
    {
     "name": "stdout",
     "output_type": "stream",
     "text": [
      "404 Not Found: https://iiif.wellcomecollection.org/presentation/b10782175\n"
     ]
    },
    {
     "name": "stderr",
     "output_type": "stream",
     "text": [
      "Retrying downloads:  59%|█████▊    | 943/1609 [08:00<05:35,  1.99it/s]"
     ]
    },
    {
     "name": "stdout",
     "output_type": "stream",
     "text": [
      "404 Not Found: https://iiif.wellcomecollection.org/presentation/b10110197\n"
     ]
    },
    {
     "name": "stderr",
     "output_type": "stream",
     "text": [
      "Retrying downloads:  59%|█████▊    | 944/1609 [08:00<05:30,  2.01it/s]"
     ]
    },
    {
     "name": "stdout",
     "output_type": "stream",
     "text": [
      "404 Not Found: https://iiif.wellcomecollection.org/presentation/b10877447\n"
     ]
    },
    {
     "name": "stderr",
     "output_type": "stream",
     "text": [
      "Retrying downloads:  59%|█████▊    | 945/1609 [08:01<06:03,  1.83it/s]"
     ]
    },
    {
     "name": "stdout",
     "output_type": "stream",
     "text": [
      "404 Not Found: https://iiif.wellcomecollection.org/presentation/b12177386\n"
     ]
    },
    {
     "name": "stderr",
     "output_type": "stream",
     "text": [
      "Retrying downloads:  59%|█████▉    | 946/1609 [08:01<05:46,  1.91it/s]"
     ]
    },
    {
     "name": "stdout",
     "output_type": "stream",
     "text": [
      "404 Not Found: https://iiif.wellcomecollection.org/presentation/b32848924\n"
     ]
    },
    {
     "name": "stderr",
     "output_type": "stream",
     "text": [
      "Retrying downloads:  59%|█████▉    | 947/1609 [08:02<05:51,  1.88it/s]"
     ]
    },
    {
     "name": "stdout",
     "output_type": "stream",
     "text": [
      "404 Not Found: https://iiif.wellcomecollection.org/presentation/b10705910\n"
     ]
    },
    {
     "name": "stderr",
     "output_type": "stream",
     "text": [
      "Retrying downloads:  59%|█████▉    | 948/1609 [08:02<05:40,  1.94it/s]"
     ]
    },
    {
     "name": "stdout",
     "output_type": "stream",
     "text": [
      "404 Not Found: https://iiif.wellcomecollection.org/presentation/b16573043\n"
     ]
    },
    {
     "name": "stderr",
     "output_type": "stream",
     "text": [
      "Retrying downloads:  59%|█████▉    | 949/1609 [08:03<05:35,  1.97it/s]"
     ]
    },
    {
     "name": "stdout",
     "output_type": "stream",
     "text": [
      "404 Not Found: https://iiif.wellcomecollection.org/presentation/b11027241\n"
     ]
    },
    {
     "name": "stderr",
     "output_type": "stream",
     "text": [
      "Retrying downloads:  59%|█████▉    | 950/1609 [08:03<05:28,  2.01it/s]"
     ]
    },
    {
     "name": "stdout",
     "output_type": "stream",
     "text": [
      "404 Not Found: https://iiif.wellcomecollection.org/presentation/b10476635\n"
     ]
    },
    {
     "name": "stderr",
     "output_type": "stream",
     "text": [
      "Retrying downloads:  59%|█████▉    | 951/1609 [08:04<05:24,  2.03it/s]"
     ]
    },
    {
     "name": "stdout",
     "output_type": "stream",
     "text": [
      "404 Not Found: https://iiif.wellcomecollection.org/presentation/b14568603\n"
     ]
    },
    {
     "name": "stderr",
     "output_type": "stream",
     "text": [
      "Retrying downloads:  59%|█████▉    | 952/1609 [08:04<05:19,  2.06it/s]"
     ]
    },
    {
     "name": "stdout",
     "output_type": "stream",
     "text": [
      "404 Not Found: https://iiif.wellcomecollection.org/presentation/b12155962\n"
     ]
    },
    {
     "name": "stderr",
     "output_type": "stream",
     "text": [
      "Retrying downloads:  59%|█████▉    | 953/1609 [08:05<05:17,  2.06it/s]"
     ]
    },
    {
     "name": "stdout",
     "output_type": "stream",
     "text": [
      "404 Not Found: https://iiif.wellcomecollection.org/presentation/b13267784\n"
     ]
    },
    {
     "name": "stderr",
     "output_type": "stream",
     "text": [
      "Retrying downloads:  59%|█████▉    | 954/1609 [08:05<05:14,  2.09it/s]"
     ]
    },
    {
     "name": "stdout",
     "output_type": "stream",
     "text": [
      "404 Not Found: https://iiif.wellcomecollection.org/presentation/b13266226\n"
     ]
    },
    {
     "name": "stderr",
     "output_type": "stream",
     "text": [
      "Retrying downloads:  59%|█████▉    | 955/1609 [08:06<05:15,  2.07it/s]"
     ]
    },
    {
     "name": "stdout",
     "output_type": "stream",
     "text": [
      "404 Not Found: https://iiif.wellcomecollection.org/presentation/b11488281\n"
     ]
    },
    {
     "name": "stderr",
     "output_type": "stream",
     "text": [
      "Retrying downloads:  59%|█████▉    | 956/1609 [08:06<05:11,  2.10it/s]"
     ]
    },
    {
     "name": "stdout",
     "output_type": "stream",
     "text": [
      "404 Not Found: https://iiif.wellcomecollection.org/presentation/b10916143\n"
     ]
    },
    {
     "name": "stderr",
     "output_type": "stream",
     "text": [
      "Retrying downloads:  59%|█████▉    | 957/1609 [08:07<05:18,  2.05it/s]"
     ]
    },
    {
     "name": "stdout",
     "output_type": "stream",
     "text": [
      "404 Not Found: https://iiif.wellcomecollection.org/presentation/b14566485\n"
     ]
    },
    {
     "name": "stderr",
     "output_type": "stream",
     "text": [
      "Retrying downloads:  60%|█████▉    | 958/1609 [08:07<05:19,  2.04it/s]"
     ]
    },
    {
     "name": "stdout",
     "output_type": "stream",
     "text": [
      "404 Not Found: https://iiif.wellcomecollection.org/presentation/b12822413\n"
     ]
    },
    {
     "name": "stderr",
     "output_type": "stream",
     "text": [
      "Retrying downloads:  60%|█████▉    | 959/1609 [08:08<05:17,  2.04it/s]"
     ]
    },
    {
     "name": "stdout",
     "output_type": "stream",
     "text": [
      "404 Not Found: https://iiif.wellcomecollection.org/presentation/b14561037\n"
     ]
    },
    {
     "name": "stderr",
     "output_type": "stream",
     "text": [
      "Retrying downloads:  60%|█████▉    | 960/1609 [08:08<05:14,  2.06it/s]"
     ]
    },
    {
     "name": "stdout",
     "output_type": "stream",
     "text": [
      "404 Not Found: https://iiif.wellcomecollection.org/presentation/b10784780\n"
     ]
    },
    {
     "name": "stderr",
     "output_type": "stream",
     "text": [
      "Retrying downloads:  60%|█████▉    | 961/1609 [08:08<05:12,  2.07it/s]"
     ]
    },
    {
     "name": "stdout",
     "output_type": "stream",
     "text": [
      "404 Not Found: https://iiif.wellcomecollection.org/presentation/b12161196\n"
     ]
    },
    {
     "name": "stderr",
     "output_type": "stream",
     "text": [
      "Retrying downloads:  60%|█████▉    | 962/1609 [08:09<05:12,  2.07it/s]"
     ]
    },
    {
     "name": "stdout",
     "output_type": "stream",
     "text": [
      "404 Not Found: https://iiif.wellcomecollection.org/presentation/b11143009\n"
     ]
    },
    {
     "name": "stderr",
     "output_type": "stream",
     "text": [
      "Retrying downloads:  60%|█████▉    | 963/1609 [08:09<05:16,  2.04it/s]"
     ]
    },
    {
     "name": "stdout",
     "output_type": "stream",
     "text": [
      "404 Not Found: https://iiif.wellcomecollection.org/presentation/b1105637x\n"
     ]
    },
    {
     "name": "stderr",
     "output_type": "stream",
     "text": [
      "Retrying downloads:  60%|█████▉    | 964/1609 [08:10<05:14,  2.05it/s]"
     ]
    },
    {
     "name": "stdout",
     "output_type": "stream",
     "text": [
      "404 Not Found: https://iiif.wellcomecollection.org/presentation/b11145237\n"
     ]
    },
    {
     "name": "stderr",
     "output_type": "stream",
     "text": [
      "Retrying downloads:  60%|█████▉    | 965/1609 [08:10<04:27,  2.41it/s]"
     ]
    },
    {
     "name": "stdout",
     "output_type": "stream",
     "text": [
      "404 Not Found: https://iiif.wellcomecollection.org/presentation/4\n"
     ]
    },
    {
     "name": "stderr",
     "output_type": "stream",
     "text": [
      "Retrying downloads:  60%|██████    | 966/1609 [08:11<04:38,  2.31it/s]"
     ]
    },
    {
     "name": "stdout",
     "output_type": "stream",
     "text": [
      "404 Not Found: https://iiif.wellcomecollection.org/presentation/b11055340\n"
     ]
    },
    {
     "name": "stderr",
     "output_type": "stream",
     "text": [
      "Retrying downloads:  60%|██████    | 967/1609 [08:11<04:59,  2.15it/s]"
     ]
    },
    {
     "name": "stdout",
     "output_type": "stream",
     "text": [
      "404 Not Found: https://iiif.wellcomecollection.org/presentation/b11143794\n"
     ]
    },
    {
     "name": "stderr",
     "output_type": "stream",
     "text": [
      "Retrying downloads:  60%|██████    | 968/1609 [08:12<05:03,  2.11it/s]"
     ]
    },
    {
     "name": "stdout",
     "output_type": "stream",
     "text": [
      "404 Not Found: https://iiif.wellcomecollection.org/presentation/b12202277\n"
     ]
    },
    {
     "name": "stderr",
     "output_type": "stream",
     "text": [
      "Retrying downloads:  60%|██████    | 969/1609 [08:12<05:10,  2.06it/s]"
     ]
    },
    {
     "name": "stdout",
     "output_type": "stream",
     "text": [
      "404 Not Found: https://iiif.wellcomecollection.org/presentation/b12983536\n"
     ]
    },
    {
     "name": "stderr",
     "output_type": "stream",
     "text": [
      "Retrying downloads:  60%|██████    | 970/1609 [08:13<05:19,  2.00it/s]"
     ]
    },
    {
     "name": "stdout",
     "output_type": "stream",
     "text": [
      "404 Not Found: https://iiif.wellcomecollection.org/presentation/b12207846\n"
     ]
    },
    {
     "name": "stderr",
     "output_type": "stream",
     "text": [
      "Retrying downloads:  60%|██████    | 971/1609 [08:13<05:20,  1.99it/s]"
     ]
    },
    {
     "name": "stdout",
     "output_type": "stream",
     "text": [
      "404 Not Found: https://iiif.wellcomecollection.org/presentation/b11218514\n"
     ]
    },
    {
     "name": "stderr",
     "output_type": "stream",
     "text": [
      "Retrying downloads:  60%|██████    | 972/1609 [08:14<05:34,  1.90it/s]"
     ]
    },
    {
     "name": "stdout",
     "output_type": "stream",
     "text": [
      "404 Not Found: https://iiif.wellcomecollection.org/presentation/b13255848\n"
     ]
    },
    {
     "name": "stderr",
     "output_type": "stream",
     "text": [
      "Retrying downloads:  60%|██████    | 973/1609 [08:15<06:31,  1.62it/s]"
     ]
    },
    {
     "name": "stdout",
     "output_type": "stream",
     "text": [
      "404 Not Found: https://iiif.wellcomecollection.org/presentation/b11056551\n"
     ]
    },
    {
     "name": "stderr",
     "output_type": "stream",
     "text": [
      "Retrying downloads:  61%|██████    | 974/1609 [08:15<06:12,  1.71it/s]"
     ]
    },
    {
     "name": "stdout",
     "output_type": "stream",
     "text": [
      "404 Not Found: https://iiif.wellcomecollection.org/presentation/b12954330\n"
     ]
    },
    {
     "name": "stderr",
     "output_type": "stream",
     "text": [
      "Retrying downloads:  61%|██████    | 975/1609 [08:16<05:46,  1.83it/s]"
     ]
    },
    {
     "name": "stdout",
     "output_type": "stream",
     "text": [
      "404 Not Found: https://iiif.wellcomecollection.org/presentation/b12180178\n"
     ]
    },
    {
     "name": "stderr",
     "output_type": "stream",
     "text": [
      "Retrying downloads:  61%|██████    | 976/1609 [08:16<05:37,  1.87it/s]"
     ]
    },
    {
     "name": "stdout",
     "output_type": "stream",
     "text": [
      "404 Not Found: https://iiif.wellcomecollection.org/presentation/b12176552\n"
     ]
    },
    {
     "name": "stderr",
     "output_type": "stream",
     "text": [
      "Retrying downloads:  61%|██████    | 977/1609 [08:17<05:27,  1.93it/s]"
     ]
    },
    {
     "name": "stdout",
     "output_type": "stream",
     "text": [
      "404 Not Found: https://iiif.wellcomecollection.org/presentation/b14592800\n"
     ]
    },
    {
     "name": "stderr",
     "output_type": "stream",
     "text": [
      "Retrying downloads:  61%|██████    | 978/1609 [08:17<05:29,  1.92it/s]"
     ]
    },
    {
     "name": "stdout",
     "output_type": "stream",
     "text": [
      "404 Not Found: https://iiif.wellcomecollection.org/presentation/b10118329\n"
     ]
    },
    {
     "name": "stderr",
     "output_type": "stream",
     "text": [
      "Retrying downloads:  61%|██████    | 979/1609 [08:18<05:20,  1.96it/s]"
     ]
    },
    {
     "name": "stdout",
     "output_type": "stream",
     "text": [
      "404 Not Found: https://iiif.wellcomecollection.org/presentation/b10183486\n"
     ]
    },
    {
     "name": "stderr",
     "output_type": "stream",
     "text": [
      "Retrying downloads:  61%|██████    | 980/1609 [08:18<05:17,  1.98it/s]"
     ]
    },
    {
     "name": "stdout",
     "output_type": "stream",
     "text": [
      "404 Not Found: https://iiif.wellcomecollection.org/presentation/b13255976\n"
     ]
    },
    {
     "name": "stderr",
     "output_type": "stream",
     "text": [
      "Retrying downloads:  61%|██████    | 981/1609 [08:19<05:11,  2.01it/s]"
     ]
    },
    {
     "name": "stdout",
     "output_type": "stream",
     "text": [
      "404 Not Found: https://iiif.wellcomecollection.org/presentation/b13246288\n"
     ]
    },
    {
     "name": "stderr",
     "output_type": "stream",
     "text": [
      "Retrying downloads:  61%|██████    | 982/1609 [08:19<05:13,  2.00it/s]"
     ]
    },
    {
     "name": "stdout",
     "output_type": "stream",
     "text": [
      "404 Not Found: https://iiif.wellcomecollection.org/presentation/b10986674\n"
     ]
    },
    {
     "name": "stderr",
     "output_type": "stream",
     "text": [
      "Retrying downloads:  61%|██████    | 983/1609 [08:20<05:14,  1.99it/s]"
     ]
    },
    {
     "name": "stdout",
     "output_type": "stream",
     "text": [
      "404 Not Found: https://iiif.wellcomecollection.org/presentation/b1113785x\n"
     ]
    },
    {
     "name": "stderr",
     "output_type": "stream",
     "text": [
      "Retrying downloads:  61%|██████    | 984/1609 [08:20<05:30,  1.89it/s]"
     ]
    },
    {
     "name": "stdout",
     "output_type": "stream",
     "text": [
      "404 Not Found: https://iiif.wellcomecollection.org/presentation/b10623498\n"
     ]
    },
    {
     "name": "stderr",
     "output_type": "stream",
     "text": [
      "Retrying downloads:  61%|██████    | 985/1609 [08:21<05:27,  1.91it/s]"
     ]
    },
    {
     "name": "stdout",
     "output_type": "stream",
     "text": [
      "404 Not Found: https://iiif.wellcomecollection.org/presentation/b10559449\n"
     ]
    },
    {
     "name": "stderr",
     "output_type": "stream",
     "text": [
      "Retrying downloads:  61%|██████▏   | 986/1609 [08:21<05:22,  1.93it/s]"
     ]
    },
    {
     "name": "stdout",
     "output_type": "stream",
     "text": [
      "404 Not Found: https://iiif.wellcomecollection.org/presentation/b10110240\n"
     ]
    },
    {
     "name": "stderr",
     "output_type": "stream",
     "text": [
      "Retrying downloads:  61%|██████▏   | 987/1609 [08:22<05:17,  1.96it/s]"
     ]
    },
    {
     "name": "stdout",
     "output_type": "stream",
     "text": [
      "404 Not Found: https://iiif.wellcomecollection.org/presentation/b14576983\n"
     ]
    },
    {
     "name": "stderr",
     "output_type": "stream",
     "text": [
      "Retrying downloads:  61%|██████▏   | 988/1609 [08:22<05:12,  1.99it/s]"
     ]
    },
    {
     "name": "stdout",
     "output_type": "stream",
     "text": [
      "404 Not Found: https://iiif.wellcomecollection.org/presentation/b12985065\n"
     ]
    },
    {
     "name": "stderr",
     "output_type": "stream",
     "text": [
      "Retrying downloads:  61%|██████▏   | 989/1609 [08:23<05:22,  1.92it/s]"
     ]
    },
    {
     "name": "stdout",
     "output_type": "stream",
     "text": [
      "404 Not Found: https://iiif.wellcomecollection.org/presentation/b14593798\n"
     ]
    },
    {
     "name": "stderr",
     "output_type": "stream",
     "text": [
      "Retrying downloads:  62%|██████▏   | 990/1609 [08:23<05:18,  1.94it/s]"
     ]
    },
    {
     "name": "stdout",
     "output_type": "stream",
     "text": [
      "404 Not Found: https://iiif.wellcomecollection.org/presentation/b11098296\n"
     ]
    },
    {
     "name": "stderr",
     "output_type": "stream",
     "text": [
      "Retrying downloads:  62%|██████▏   | 991/1609 [08:24<05:13,  1.97it/s]"
     ]
    },
    {
     "name": "stdout",
     "output_type": "stream",
     "text": [
      "404 Not Found: https://iiif.wellcomecollection.org/presentation/b12840865\n"
     ]
    },
    {
     "name": "stderr",
     "output_type": "stream",
     "text": [
      "Retrying downloads:  62%|██████▏   | 992/1609 [08:24<05:12,  1.97it/s]"
     ]
    },
    {
     "name": "stdout",
     "output_type": "stream",
     "text": [
      "404 Not Found: https://iiif.wellcomecollection.org/presentation/b13256282\n"
     ]
    },
    {
     "name": "stderr",
     "output_type": "stream",
     "text": [
      "Retrying downloads:  62%|██████▏   | 993/1609 [08:25<05:03,  2.03it/s]"
     ]
    },
    {
     "name": "stdout",
     "output_type": "stream",
     "text": [
      "404 Not Found: https://iiif.wellcomecollection.org/presentation/b12658042\n"
     ]
    },
    {
     "name": "stderr",
     "output_type": "stream",
     "text": [
      "Retrying downloads:  62%|██████▏   | 994/1609 [08:25<05:21,  1.91it/s]"
     ]
    },
    {
     "name": "stdout",
     "output_type": "stream",
     "text": [
      "404 Not Found: https://iiif.wellcomecollection.org/presentation/b12946722\n"
     ]
    },
    {
     "name": "stderr",
     "output_type": "stream",
     "text": [
      "Retrying downloads:  62%|██████▏   | 995/1609 [08:26<05:37,  1.82it/s]"
     ]
    },
    {
     "name": "stdout",
     "output_type": "stream",
     "text": [
      "404 Not Found: https://iiif.wellcomecollection.org/presentation/b12201261\n"
     ]
    },
    {
     "name": "stderr",
     "output_type": "stream",
     "text": [
      "Retrying downloads:  62%|██████▏   | 996/1609 [08:26<05:25,  1.88it/s]"
     ]
    },
    {
     "name": "stdout",
     "output_type": "stream",
     "text": [
      "404 Not Found: https://iiif.wellcomecollection.org/presentation/b1217810x\n"
     ]
    },
    {
     "name": "stderr",
     "output_type": "stream",
     "text": [
      "Retrying downloads:  62%|██████▏   | 997/1609 [08:27<05:13,  1.95it/s]"
     ]
    },
    {
     "name": "stdout",
     "output_type": "stream",
     "text": [
      "404 Not Found: https://iiif.wellcomecollection.org/presentation/b10337027\n"
     ]
    },
    {
     "name": "stderr",
     "output_type": "stream",
     "text": [
      "Retrying downloads:  62%|██████▏   | 998/1609 [08:27<05:10,  1.97it/s]"
     ]
    },
    {
     "name": "stdout",
     "output_type": "stream",
     "text": [
      "404 Not Found: https://iiif.wellcomecollection.org/presentation/b32841310\n"
     ]
    },
    {
     "name": "stderr",
     "output_type": "stream",
     "text": [
      "Retrying downloads:  62%|██████▏   | 999/1609 [08:28<05:06,  1.99it/s]"
     ]
    },
    {
     "name": "stdout",
     "output_type": "stream",
     "text": [
      "404 Not Found: https://iiif.wellcomecollection.org/presentation/b10698164\n"
     ]
    },
    {
     "name": "stderr",
     "output_type": "stream",
     "text": [
      "Retrying downloads:  62%|██████▏   | 1000/1609 [08:28<05:06,  1.98it/s]"
     ]
    },
    {
     "name": "stdout",
     "output_type": "stream",
     "text": [
      "404 Not Found: https://iiif.wellcomecollection.org/presentation/b12208760\n"
     ]
    },
    {
     "name": "stderr",
     "output_type": "stream",
     "text": [
      "Retrying downloads:  62%|██████▏   | 1001/1609 [08:29<05:02,  2.01it/s]"
     ]
    },
    {
     "name": "stdout",
     "output_type": "stream",
     "text": [
      "404 Not Found: https://iiif.wellcomecollection.org/presentation/b10716890\n"
     ]
    },
    {
     "name": "stderr",
     "output_type": "stream",
     "text": [
      "Retrying downloads:  62%|██████▏   | 1002/1609 [08:29<05:13,  1.94it/s]"
     ]
    },
    {
     "name": "stdout",
     "output_type": "stream",
     "text": [
      "404 Not Found: https://iiif.wellcomecollection.org/presentation/b10004622\n"
     ]
    },
    {
     "name": "stderr",
     "output_type": "stream",
     "text": [
      "Retrying downloads:  62%|██████▏   | 1003/1609 [08:30<05:06,  1.98it/s]"
     ]
    },
    {
     "name": "stdout",
     "output_type": "stream",
     "text": [
      "404 Not Found: https://iiif.wellcomecollection.org/presentation/b11199271\n"
     ]
    },
    {
     "name": "stderr",
     "output_type": "stream",
     "text": [
      "Retrying downloads:  62%|██████▏   | 1004/1609 [08:30<05:02,  2.00it/s]"
     ]
    },
    {
     "name": "stdout",
     "output_type": "stream",
     "text": [
      "404 Not Found: https://iiif.wellcomecollection.org/presentation/b10184909\n"
     ]
    },
    {
     "name": "stderr",
     "output_type": "stream",
     "text": [
      "Retrying downloads:  62%|██████▏   | 1005/1609 [08:31<04:57,  2.03it/s]"
     ]
    },
    {
     "name": "stdout",
     "output_type": "stream",
     "text": [
      "404 Not Found: https://iiif.wellcomecollection.org/presentation/b12178986\n"
     ]
    },
    {
     "name": "stderr",
     "output_type": "stream",
     "text": [
      "Retrying downloads:  63%|██████▎   | 1006/1609 [08:31<05:05,  1.97it/s]"
     ]
    },
    {
     "name": "stdout",
     "output_type": "stream",
     "text": [
      "404 Not Found: https://iiif.wellcomecollection.org/presentation/b10178855\n"
     ]
    },
    {
     "name": "stderr",
     "output_type": "stream",
     "text": [
      "Retrying downloads:  63%|██████▎   | 1007/1609 [08:32<05:00,  2.00it/s]"
     ]
    },
    {
     "name": "stdout",
     "output_type": "stream",
     "text": [
      "404 Not Found: https://iiif.wellcomecollection.org/presentation/b32841383\n"
     ]
    },
    {
     "name": "stderr",
     "output_type": "stream",
     "text": [
      "Retrying downloads:  63%|██████▎   | 1008/1609 [08:32<04:55,  2.03it/s]"
     ]
    },
    {
     "name": "stdout",
     "output_type": "stream",
     "text": [
      "404 Not Found: https://iiif.wellcomecollection.org/presentation/b10110847\n"
     ]
    },
    {
     "name": "stderr",
     "output_type": "stream",
     "text": [
      "Retrying downloads:  63%|██████▎   | 1009/1609 [08:33<04:57,  2.02it/s]"
     ]
    },
    {
     "name": "stdout",
     "output_type": "stream",
     "text": [
      "404 Not Found: https://iiif.wellcomecollection.org/presentation/b12947118\n"
     ]
    },
    {
     "name": "stderr",
     "output_type": "stream",
     "text": [
      "Retrying downloads:  63%|██████▎   | 1010/1609 [08:33<04:54,  2.03it/s]"
     ]
    },
    {
     "name": "stdout",
     "output_type": "stream",
     "text": [
      "404 Not Found: https://iiif.wellcomecollection.org/presentation/b12987153\n"
     ]
    },
    {
     "name": "stderr",
     "output_type": "stream",
     "text": [
      "Retrying downloads:  63%|██████▎   | 1011/1609 [08:34<04:54,  2.03it/s]"
     ]
    },
    {
     "name": "stdout",
     "output_type": "stream",
     "text": [
      "404 Not Found: https://iiif.wellcomecollection.org/presentation/b1220643x\n"
     ]
    },
    {
     "name": "stderr",
     "output_type": "stream",
     "text": [
      "Retrying downloads:  63%|██████▎   | 1012/1609 [08:34<04:58,  2.00it/s]"
     ]
    },
    {
     "name": "stdout",
     "output_type": "stream",
     "text": [
      "404 Not Found: https://iiif.wellcomecollection.org/presentation/b11142339\n"
     ]
    },
    {
     "name": "stderr",
     "output_type": "stream",
     "text": [
      "Retrying downloads:  63%|██████▎   | 1013/1609 [08:35<04:50,  2.05it/s]"
     ]
    },
    {
     "name": "stdout",
     "output_type": "stream",
     "text": [
      "404 Not Found: https://iiif.wellcomecollection.org/presentation/b10111050\n"
     ]
    },
    {
     "name": "stderr",
     "output_type": "stream",
     "text": [
      "Retrying downloads:  63%|██████▎   | 1014/1609 [08:35<04:45,  2.09it/s]"
     ]
    },
    {
     "name": "stdout",
     "output_type": "stream",
     "text": [
      "404 Not Found: https://iiif.wellcomecollection.org/presentation/b10932008\n"
     ]
    },
    {
     "name": "stderr",
     "output_type": "stream",
     "text": [
      "Retrying downloads:  63%|██████▎   | 1015/1609 [08:36<04:46,  2.07it/s]"
     ]
    },
    {
     "name": "stdout",
     "output_type": "stream",
     "text": [
      "404 Not Found: https://iiif.wellcomecollection.org/presentation/b11487768\n"
     ]
    },
    {
     "name": "stderr",
     "output_type": "stream",
     "text": [
      "Retrying downloads:  63%|██████▎   | 1016/1609 [08:36<04:58,  1.99it/s]"
     ]
    },
    {
     "name": "stdout",
     "output_type": "stream",
     "text": [
      "404 Not Found: https://iiif.wellcomecollection.org/presentation/b10916878\n"
     ]
    },
    {
     "name": "stderr",
     "output_type": "stream",
     "text": [
      "Retrying downloads:  63%|██████▎   | 1017/1609 [08:37<04:53,  2.01it/s]"
     ]
    },
    {
     "name": "stdout",
     "output_type": "stream",
     "text": [
      "404 Not Found: https://iiif.wellcomecollection.org/presentation/b13035356\n"
     ]
    },
    {
     "name": "stderr",
     "output_type": "stream",
     "text": [
      "Retrying downloads:  63%|██████▎   | 1018/1609 [08:37<04:59,  1.97it/s]"
     ]
    },
    {
     "name": "stdout",
     "output_type": "stream",
     "text": [
      "404 Not Found: https://iiif.wellcomecollection.org/presentation/b13150868\n"
     ]
    },
    {
     "name": "stderr",
     "output_type": "stream",
     "text": [
      "Retrying downloads:  63%|██████▎   | 1019/1609 [08:38<04:56,  1.99it/s]"
     ]
    },
    {
     "name": "stdout",
     "output_type": "stream",
     "text": [
      "404 Not Found: https://iiif.wellcomecollection.org/presentation/b11199088\n"
     ]
    },
    {
     "name": "stderr",
     "output_type": "stream",
     "text": [
      "Retrying downloads:  63%|██████▎   | 1020/1609 [08:38<05:05,  1.93it/s]"
     ]
    },
    {
     "name": "stdout",
     "output_type": "stream",
     "text": [
      "404 Not Found: https://iiif.wellcomecollection.org/presentation/b12189261\n"
     ]
    },
    {
     "name": "stderr",
     "output_type": "stream",
     "text": [
      "Retrying downloads:  63%|██████▎   | 1021/1609 [08:39<04:52,  2.01it/s]"
     ]
    },
    {
     "name": "stdout",
     "output_type": "stream",
     "text": [
      "404 Not Found: https://iiif.wellcomecollection.org/presentation/b12206404\n"
     ]
    },
    {
     "name": "stderr",
     "output_type": "stream",
     "text": [
      "Retrying downloads:  64%|██████▎   | 1022/1609 [08:39<04:51,  2.01it/s]"
     ]
    },
    {
     "name": "stdout",
     "output_type": "stream",
     "text": [
      "404 Not Found: https://iiif.wellcomecollection.org/presentation/b12204547\n"
     ]
    },
    {
     "name": "stderr",
     "output_type": "stream",
     "text": [
      "Retrying downloads:  64%|██████▎   | 1023/1609 [08:40<04:48,  2.03it/s]"
     ]
    },
    {
     "name": "stdout",
     "output_type": "stream",
     "text": [
      "404 Not Found: https://iiif.wellcomecollection.org/presentation/b10110306\n"
     ]
    },
    {
     "name": "stderr",
     "output_type": "stream",
     "text": [
      "Retrying downloads:  64%|██████▎   | 1024/1609 [08:40<04:56,  1.97it/s]"
     ]
    },
    {
     "name": "stdout",
     "output_type": "stream",
     "text": [
      "404 Not Found: https://iiif.wellcomecollection.org/presentation/b13249319\n"
     ]
    },
    {
     "name": "stderr",
     "output_type": "stream",
     "text": [
      "Retrying downloads:  64%|██████▎   | 1025/1609 [08:41<04:50,  2.01it/s]"
     ]
    },
    {
     "name": "stdout",
     "output_type": "stream",
     "text": [
      "404 Not Found: https://iiif.wellcomecollection.org/presentation/b10400308\n"
     ]
    },
    {
     "name": "stderr",
     "output_type": "stream",
     "text": [
      "Retrying downloads:  64%|██████▍   | 1026/1609 [08:41<04:47,  2.03it/s]"
     ]
    },
    {
     "name": "stdout",
     "output_type": "stream",
     "text": [
      "404 Not Found: https://iiif.wellcomecollection.org/presentation/b10985670\n"
     ]
    },
    {
     "name": "stderr",
     "output_type": "stream",
     "text": [
      "Retrying downloads:  64%|██████▍   | 1027/1609 [08:42<04:44,  2.05it/s]"
     ]
    },
    {
     "name": "stdout",
     "output_type": "stream",
     "text": [
      "404 Not Found: https://iiif.wellcomecollection.org/presentation/b14574901\n"
     ]
    },
    {
     "name": "stderr",
     "output_type": "stream",
     "text": [
      "Retrying downloads:  64%|██████▍   | 1028/1609 [08:42<04:48,  2.02it/s]"
     ]
    },
    {
     "name": "stdout",
     "output_type": "stream",
     "text": [
      "404 Not Found: https://iiif.wellcomecollection.org/presentation/b1314893x\n"
     ]
    },
    {
     "name": "stderr",
     "output_type": "stream",
     "text": [
      "Retrying downloads:  64%|██████▍   | 1029/1609 [08:43<04:46,  2.03it/s]"
     ]
    },
    {
     "name": "stdout",
     "output_type": "stream",
     "text": [
      "404 Not Found: https://iiif.wellcomecollection.org/presentation/b12177465\n"
     ]
    },
    {
     "name": "stderr",
     "output_type": "stream",
     "text": [
      "Retrying downloads:  64%|██████▍   | 1030/1609 [08:43<04:45,  2.02it/s]"
     ]
    },
    {
     "name": "stdout",
     "output_type": "stream",
     "text": [
      "404 Not Found: https://iiif.wellcomecollection.org/presentation/b13098032\n"
     ]
    },
    {
     "name": "stderr",
     "output_type": "stream",
     "text": [
      "Retrying downloads:  64%|██████▍   | 1031/1609 [08:44<04:47,  2.01it/s]"
     ]
    },
    {
     "name": "stdout",
     "output_type": "stream",
     "text": [
      "404 Not Found: https://iiif.wellcomecollection.org/presentation/b13255836\n"
     ]
    },
    {
     "name": "stderr",
     "output_type": "stream",
     "text": [
      "Retrying downloads:  64%|██████▍   | 1032/1609 [08:44<04:49,  1.99it/s]"
     ]
    },
    {
     "name": "stdout",
     "output_type": "stream",
     "text": [
      "404 Not Found: https://iiif.wellcomecollection.org/presentation/b10985360\n"
     ]
    },
    {
     "name": "stderr",
     "output_type": "stream",
     "text": [
      "Retrying downloads:  64%|██████▍   | 1033/1609 [08:45<04:43,  2.03it/s]"
     ]
    },
    {
     "name": "stdout",
     "output_type": "stream",
     "text": [
      "404 Not Found: https://iiif.wellcomecollection.org/presentation/b11210527\n"
     ]
    },
    {
     "name": "stderr",
     "output_type": "stream",
     "text": [
      "Retrying downloads:  64%|██████▍   | 1034/1609 [08:45<04:43,  2.03it/s]"
     ]
    },
    {
     "name": "stdout",
     "output_type": "stream",
     "text": [
      "404 Not Found: https://iiif.wellcomecollection.org/presentation/b11057506\n"
     ]
    },
    {
     "name": "stderr",
     "output_type": "stream",
     "text": [
      "Retrying downloads:  64%|██████▍   | 1035/1609 [08:46<04:39,  2.05it/s]"
     ]
    },
    {
     "name": "stdout",
     "output_type": "stream",
     "text": [
      "404 Not Found: https://iiif.wellcomecollection.org/presentation/b10109870\n"
     ]
    },
    {
     "name": "stderr",
     "output_type": "stream",
     "text": [
      "Retrying downloads:  64%|██████▍   | 1036/1609 [08:46<04:55,  1.94it/s]"
     ]
    },
    {
     "name": "stdout",
     "output_type": "stream",
     "text": [
      "404 Not Found: https://iiif.wellcomecollection.org/presentation/b14567064\n"
     ]
    },
    {
     "name": "stderr",
     "output_type": "stream",
     "text": [
      "Retrying downloads:  64%|██████▍   | 1037/1609 [08:47<04:58,  1.92it/s]"
     ]
    },
    {
     "name": "stdout",
     "output_type": "stream",
     "text": [
      "404 Not Found: https://iiif.wellcomecollection.org/presentation/b12186867\n"
     ]
    },
    {
     "name": "stderr",
     "output_type": "stream",
     "text": [
      "Retrying downloads:  65%|██████▍   | 1038/1609 [08:47<04:51,  1.96it/s]"
     ]
    },
    {
     "name": "stdout",
     "output_type": "stream",
     "text": [
      "404 Not Found: https://iiif.wellcomecollection.org/presentation/b10110094\n"
     ]
    },
    {
     "name": "stderr",
     "output_type": "stream",
     "text": [
      "Retrying downloads:  65%|██████▍   | 1039/1609 [08:48<04:51,  1.96it/s]"
     ]
    },
    {
     "name": "stdout",
     "output_type": "stream",
     "text": [
      "404 Not Found: https://iiif.wellcomecollection.org/presentation/b12201637\n"
     ]
    },
    {
     "name": "stderr",
     "output_type": "stream",
     "text": [
      "Retrying downloads:  65%|██████▍   | 1040/1609 [08:48<04:42,  2.01it/s]"
     ]
    },
    {
     "name": "stdout",
     "output_type": "stream",
     "text": [
      "404 Not Found: https://iiif.wellcomecollection.org/presentation/b12179759\n"
     ]
    },
    {
     "name": "stderr",
     "output_type": "stream",
     "text": [
      "Retrying downloads:  65%|██████▍   | 1041/1609 [08:49<04:45,  1.99it/s]"
     ]
    },
    {
     "name": "stdout",
     "output_type": "stream",
     "text": [
      "404 Not Found: https://iiif.wellcomecollection.org/presentation/b14583586\n"
     ]
    },
    {
     "name": "stderr",
     "output_type": "stream",
     "text": [
      "Retrying downloads:  65%|██████▍   | 1042/1609 [08:49<04:50,  1.95it/s]"
     ]
    },
    {
     "name": "stdout",
     "output_type": "stream",
     "text": [
      "404 Not Found: https://iiif.wellcomecollection.org/presentation/b12973993\n"
     ]
    },
    {
     "name": "stderr",
     "output_type": "stream",
     "text": [
      "Retrying downloads:  65%|██████▍   | 1043/1609 [08:50<04:44,  1.99it/s]"
     ]
    },
    {
     "name": "stdout",
     "output_type": "stream",
     "text": [
      "404 Not Found: https://iiif.wellcomecollection.org/presentation/b12204833\n"
     ]
    },
    {
     "name": "stderr",
     "output_type": "stream",
     "text": [
      "Retrying downloads:  65%|██████▍   | 1044/1609 [08:50<04:36,  2.04it/s]"
     ]
    },
    {
     "name": "stdout",
     "output_type": "stream",
     "text": [
      "404 Not Found: https://iiif.wellcomecollection.org/presentation/b13057194\n"
     ]
    },
    {
     "name": "stderr",
     "output_type": "stream",
     "text": [
      "Retrying downloads:  65%|██████▍   | 1045/1609 [08:51<04:38,  2.03it/s]"
     ]
    },
    {
     "name": "stdout",
     "output_type": "stream",
     "text": [
      "404 Not Found: https://iiif.wellcomecollection.org/presentation/b12781988\n"
     ]
    },
    {
     "name": "stderr",
     "output_type": "stream",
     "text": [
      "Retrying downloads:  65%|██████▌   | 1046/1609 [08:51<04:35,  2.04it/s]"
     ]
    },
    {
     "name": "stdout",
     "output_type": "stream",
     "text": [
      "404 Not Found: https://iiif.wellcomecollection.org/presentation/b12176862\n"
     ]
    },
    {
     "name": "stderr",
     "output_type": "stream",
     "text": [
      "Retrying downloads:  65%|██████▌   | 1047/1609 [08:52<04:32,  2.06it/s]"
     ]
    },
    {
     "name": "stdout",
     "output_type": "stream",
     "text": [
      "404 Not Found: https://iiif.wellcomecollection.org/presentation/b13154473\n"
     ]
    },
    {
     "name": "stderr",
     "output_type": "stream",
     "text": [
      "Retrying downloads:  65%|██████▌   | 1048/1609 [08:52<04:38,  2.01it/s]"
     ]
    },
    {
     "name": "stdout",
     "output_type": "stream",
     "text": [
      "404 Not Found: https://iiif.wellcomecollection.org/presentation/b14583902\n"
     ]
    },
    {
     "name": "stderr",
     "output_type": "stream",
     "text": [
      "Retrying downloads:  65%|██████▌   | 1049/1609 [08:53<04:40,  2.00it/s]"
     ]
    },
    {
     "name": "stdout",
     "output_type": "stream",
     "text": [
      "404 Not Found: https://iiif.wellcomecollection.org/presentation/b1062448x\n"
     ]
    },
    {
     "name": "stderr",
     "output_type": "stream",
     "text": [
      "Retrying downloads:  65%|██████▌   | 1050/1609 [08:53<04:37,  2.01it/s]"
     ]
    },
    {
     "name": "stdout",
     "output_type": "stream",
     "text": [
      "404 Not Found: https://iiif.wellcomecollection.org/presentation/b10546881\n"
     ]
    },
    {
     "name": "stderr",
     "output_type": "stream",
     "text": [
      "Retrying downloads:  65%|██████▌   | 1051/1609 [08:54<04:36,  2.02it/s]"
     ]
    },
    {
     "name": "stdout",
     "output_type": "stream",
     "text": [
      "404 Not Found: https://iiif.wellcomecollection.org/presentation/b13268028\n"
     ]
    },
    {
     "name": "stderr",
     "output_type": "stream",
     "text": [
      "Retrying downloads:  65%|██████▌   | 1052/1609 [08:54<04:41,  1.98it/s]"
     ]
    },
    {
     "name": "stdout",
     "output_type": "stream",
     "text": [
      "404 Not Found: https://iiif.wellcomecollection.org/presentation/b10331414\n"
     ]
    },
    {
     "name": "stderr",
     "output_type": "stream",
     "text": [
      "Retrying downloads:  65%|██████▌   | 1053/1609 [08:55<04:31,  2.05it/s]"
     ]
    },
    {
     "name": "stdout",
     "output_type": "stream",
     "text": [
      "404 Not Found: https://iiif.wellcomecollection.org/presentation/b12181729\n"
     ]
    },
    {
     "name": "stderr",
     "output_type": "stream",
     "text": [
      "Retrying downloads:  66%|██████▌   | 1054/1609 [08:55<04:41,  1.97it/s]"
     ]
    },
    {
     "name": "stdout",
     "output_type": "stream",
     "text": [
      "404 Not Found: https://iiif.wellcomecollection.org/presentation/b11144245\n"
     ]
    },
    {
     "name": "stderr",
     "output_type": "stream",
     "text": [
      "Retrying downloads:  66%|██████▌   | 1055/1609 [08:56<04:42,  1.96it/s]"
     ]
    },
    {
     "name": "stdout",
     "output_type": "stream",
     "text": [
      "404 Not Found: https://iiif.wellcomecollection.org/presentation/b13255915\n"
     ]
    },
    {
     "name": "stderr",
     "output_type": "stream",
     "text": [
      "Retrying downloads:  66%|██████▌   | 1056/1609 [08:56<04:58,  1.85it/s]"
     ]
    },
    {
     "name": "stdout",
     "output_type": "stream",
     "text": [
      "404 Not Found: https://iiif.wellcomecollection.org/presentation/b1106531x\n"
     ]
    },
    {
     "name": "stderr",
     "output_type": "stream",
     "text": [
      "Retrying downloads:  66%|██████▌   | 1057/1609 [08:57<04:53,  1.88it/s]"
     ]
    },
    {
     "name": "stdout",
     "output_type": "stream",
     "text": [
      "404 Not Found: https://iiif.wellcomecollection.org/presentation/b13254959\n"
     ]
    },
    {
     "name": "stderr",
     "output_type": "stream",
     "text": [
      "Retrying downloads:  66%|██████▌   | 1058/1609 [08:57<04:47,  1.91it/s]"
     ]
    },
    {
     "name": "stdout",
     "output_type": "stream",
     "text": [
      "404 Not Found: https://iiif.wellcomecollection.org/presentation/b10633558\n"
     ]
    },
    {
     "name": "stderr",
     "output_type": "stream",
     "text": [
      "Retrying downloads:  66%|██████▌   | 1059/1609 [08:58<04:37,  1.98it/s]"
     ]
    },
    {
     "name": "stdout",
     "output_type": "stream",
     "text": [
      "404 Not Found: https://iiif.wellcomecollection.org/presentation/b10985372\n"
     ]
    },
    {
     "name": "stderr",
     "output_type": "stream",
     "text": [
      "Retrying downloads:  66%|██████▌   | 1060/1609 [08:58<04:29,  2.04it/s]"
     ]
    },
    {
     "name": "stdout",
     "output_type": "stream",
     "text": [
      "404 Not Found: https://iiif.wellcomecollection.org/presentation/b11145055\n"
     ]
    },
    {
     "name": "stderr",
     "output_type": "stream",
     "text": [
      "Retrying downloads:  66%|██████▌   | 1061/1609 [08:59<04:27,  2.05it/s]"
     ]
    },
    {
     "name": "stdout",
     "output_type": "stream",
     "text": [
      "404 Not Found: https://iiif.wellcomecollection.org/presentation/b12947441\n"
     ]
    },
    {
     "name": "stderr",
     "output_type": "stream",
     "text": [
      "Retrying downloads:  66%|██████▌   | 1062/1609 [08:59<04:31,  2.01it/s]"
     ]
    },
    {
     "name": "stdout",
     "output_type": "stream",
     "text": [
      "404 Not Found: https://iiif.wellcomecollection.org/presentation/b11147593\n"
     ]
    },
    {
     "name": "stderr",
     "output_type": "stream",
     "text": [
      "Retrying downloads:  66%|██████▌   | 1063/1609 [09:00<04:25,  2.06it/s]"
     ]
    },
    {
     "name": "stdout",
     "output_type": "stream",
     "text": [
      "404 Not Found: https://iiif.wellcomecollection.org/presentation/b14583252\n"
     ]
    },
    {
     "name": "stderr",
     "output_type": "stream",
     "text": [
      "Retrying downloads:  66%|██████▌   | 1064/1609 [09:00<04:22,  2.08it/s]"
     ]
    },
    {
     "name": "stdout",
     "output_type": "stream",
     "text": [
      "404 Not Found: https://iiif.wellcomecollection.org/presentation/b12987475\n"
     ]
    },
    {
     "name": "stderr",
     "output_type": "stream",
     "text": [
      "Retrying downloads:  66%|██████▌   | 1065/1609 [09:01<04:30,  2.01it/s]"
     ]
    },
    {
     "name": "stdout",
     "output_type": "stream",
     "text": [
      "404 Not Found: https://iiif.wellcomecollection.org/presentation/b13147055\n"
     ]
    },
    {
     "name": "stderr",
     "output_type": "stream",
     "text": [
      "Retrying downloads:  66%|██████▋   | 1066/1609 [09:01<04:26,  2.04it/s]"
     ]
    },
    {
     "name": "stdout",
     "output_type": "stream",
     "text": [
      "404 Not Found: https://iiif.wellcomecollection.org/presentation/b10991347\n"
     ]
    },
    {
     "name": "stderr",
     "output_type": "stream",
     "text": [
      "Retrying downloads:  66%|██████▋   | 1067/1609 [09:02<04:41,  1.93it/s]"
     ]
    },
    {
     "name": "stdout",
     "output_type": "stream",
     "text": [
      "404 Not Found: https://iiif.wellcomecollection.org/presentation/b1062787x\n"
     ]
    },
    {
     "name": "stderr",
     "output_type": "stream",
     "text": [
      "Retrying downloads:  66%|██████▋   | 1068/1609 [09:02<04:53,  1.84it/s]"
     ]
    },
    {
     "name": "stdout",
     "output_type": "stream",
     "text": [
      "404 Not Found: https://iiif.wellcomecollection.org/presentation/b13137700\n"
     ]
    },
    {
     "name": "stderr",
     "output_type": "stream",
     "text": [
      "Retrying downloads:  66%|██████▋   | 1069/1609 [09:03<04:48,  1.87it/s]"
     ]
    },
    {
     "name": "stdout",
     "output_type": "stream",
     "text": [
      "404 Not Found: https://iiif.wellcomecollection.org/presentation/b10109821\n"
     ]
    },
    {
     "name": "stderr",
     "output_type": "stream",
     "text": [
      "Retrying downloads:  67%|██████▋   | 1070/1609 [09:03<04:42,  1.91it/s]"
     ]
    },
    {
     "name": "stdout",
     "output_type": "stream",
     "text": [
      "404 Not Found: https://iiif.wellcomecollection.org/presentation/b12178767\n"
     ]
    },
    {
     "name": "stderr",
     "output_type": "stream",
     "text": [
      "Retrying downloads:  67%|██████▋   | 1071/1609 [09:04<04:36,  1.94it/s]"
     ]
    },
    {
     "name": "stdout",
     "output_type": "stream",
     "text": [
      "404 Not Found: https://iiif.wellcomecollection.org/presentation/b13255198\n"
     ]
    },
    {
     "name": "stderr",
     "output_type": "stream",
     "text": [
      "Retrying downloads:  67%|██████▋   | 1072/1609 [09:04<04:35,  1.95it/s]"
     ]
    },
    {
     "name": "stdout",
     "output_type": "stream",
     "text": [
      "404 Not Found: https://iiif.wellcomecollection.org/presentation/b10400709\n"
     ]
    },
    {
     "name": "stderr",
     "output_type": "stream",
     "text": [
      "Retrying downloads:  67%|██████▋   | 1073/1609 [09:05<04:27,  2.00it/s]"
     ]
    },
    {
     "name": "stdout",
     "output_type": "stream",
     "text": [
      "404 Not Found: https://iiif.wellcomecollection.org/presentation/b10915989\n"
     ]
    },
    {
     "name": "stderr",
     "output_type": "stream",
     "text": [
      "Retrying downloads:  67%|██████▋   | 1074/1609 [09:05<04:28,  1.99it/s]"
     ]
    },
    {
     "name": "stdout",
     "output_type": "stream",
     "text": [
      "404 Not Found: https://iiif.wellcomecollection.org/presentation/b13148254\n"
     ]
    },
    {
     "name": "stderr",
     "output_type": "stream",
     "text": [
      "Retrying downloads:  67%|██████▋   | 1075/1609 [09:06<04:29,  1.98it/s]"
     ]
    },
    {
     "name": "stdout",
     "output_type": "stream",
     "text": [
      "404 Not Found: https://iiif.wellcomecollection.org/presentation/b10559905\n"
     ]
    },
    {
     "name": "stderr",
     "output_type": "stream",
     "text": [
      "Retrying downloads:  67%|██████▋   | 1076/1609 [09:06<04:30,  1.97it/s]"
     ]
    },
    {
     "name": "stdout",
     "output_type": "stream",
     "text": [
      "404 Not Found: https://iiif.wellcomecollection.org/presentation/b16706225\n"
     ]
    },
    {
     "name": "stderr",
     "output_type": "stream",
     "text": [
      "Retrying downloads:  67%|██████▋   | 1077/1609 [09:07<04:30,  1.97it/s]"
     ]
    },
    {
     "name": "stdout",
     "output_type": "stream",
     "text": [
      "404 Not Found: https://iiif.wellcomecollection.org/presentation/b12063617\n"
     ]
    },
    {
     "name": "stderr",
     "output_type": "stream",
     "text": [
      "Retrying downloads:  67%|██████▋   | 1078/1609 [09:07<04:25,  2.00it/s]"
     ]
    },
    {
     "name": "stdout",
     "output_type": "stream",
     "text": [
      "404 Not Found: https://iiif.wellcomecollection.org/presentation/b11141335\n"
     ]
    },
    {
     "name": "stderr",
     "output_type": "stream",
     "text": [
      "Retrying downloads:  67%|██████▋   | 1079/1609 [09:08<04:27,  1.98it/s]"
     ]
    },
    {
     "name": "stdout",
     "output_type": "stream",
     "text": [
      "404 Not Found: https://iiif.wellcomecollection.org/presentation/b10763685\n"
     ]
    },
    {
     "name": "stderr",
     "output_type": "stream",
     "text": [
      "Retrying downloads:  67%|██████▋   | 1080/1609 [09:08<04:24,  2.00it/s]"
     ]
    },
    {
     "name": "stdout",
     "output_type": "stream",
     "text": [
      "404 Not Found: https://iiif.wellcomecollection.org/presentation/b12984085\n"
     ]
    },
    {
     "name": "stderr",
     "output_type": "stream",
     "text": [
      "Retrying downloads:  67%|██████▋   | 1081/1609 [09:09<04:19,  2.03it/s]"
     ]
    },
    {
     "name": "stdout",
     "output_type": "stream",
     "text": [
      "404 Not Found: https://iiif.wellcomecollection.org/presentation/b13267814\n"
     ]
    },
    {
     "name": "stderr",
     "output_type": "stream",
     "text": [
      "Retrying downloads:  67%|██████▋   | 1082/1609 [09:09<04:22,  2.01it/s]"
     ]
    },
    {
     "name": "stdout",
     "output_type": "stream",
     "text": [
      "404 Not Found: https://iiif.wellcomecollection.org/presentation/b12207950\n"
     ]
    },
    {
     "name": "stderr",
     "output_type": "stream",
     "text": [
      "Retrying downloads:  67%|██████▋   | 1083/1609 [09:10<04:16,  2.05it/s]"
     ]
    },
    {
     "name": "stdout",
     "output_type": "stream",
     "text": [
      "404 Not Found: https://iiif.wellcomecollection.org/presentation/b13235795\n"
     ]
    },
    {
     "name": "stderr",
     "output_type": "stream",
     "text": [
      "Retrying downloads:  67%|██████▋   | 1084/1609 [09:10<04:13,  2.07it/s]"
     ]
    },
    {
     "name": "stdout",
     "output_type": "stream",
     "text": [
      "404 Not Found: https://iiif.wellcomecollection.org/presentation/b14569218\n"
     ]
    },
    {
     "name": "stderr",
     "output_type": "stream",
     "text": [
      "Retrying downloads:  67%|██████▋   | 1085/1609 [09:11<03:31,  2.48it/s]"
     ]
    },
    {
     "name": "stdout",
     "output_type": "stream",
     "text": [
      "404 Not Found: https://iiif.wellcomecollection.org/presentation/4\n"
     ]
    },
    {
     "name": "stderr",
     "output_type": "stream",
     "text": [
      "Retrying downloads:  67%|██████▋   | 1086/1609 [09:11<03:49,  2.28it/s]"
     ]
    },
    {
     "name": "stdout",
     "output_type": "stream",
     "text": [
      "404 Not Found: https://iiif.wellcomecollection.org/presentation/b10779139\n"
     ]
    },
    {
     "name": "stderr",
     "output_type": "stream",
     "text": [
      "Retrying downloads:  68%|██████▊   | 1087/1609 [09:12<03:58,  2.19it/s]"
     ]
    },
    {
     "name": "stdout",
     "output_type": "stream",
     "text": [
      "404 Not Found: https://iiif.wellcomecollection.org/presentation/b14585893\n"
     ]
    },
    {
     "name": "stderr",
     "output_type": "stream",
     "text": [
      "Retrying downloads:  68%|██████▊   | 1088/1609 [09:12<03:57,  2.19it/s]"
     ]
    },
    {
     "name": "stdout",
     "output_type": "stream",
     "text": [
      "404 Not Found: https://iiif.wellcomecollection.org/presentation/b12158252\n"
     ]
    },
    {
     "name": "stderr",
     "output_type": "stream",
     "text": [
      "Retrying downloads:  68%|██████▊   | 1089/1609 [09:13<04:04,  2.13it/s]"
     ]
    },
    {
     "name": "stdout",
     "output_type": "stream",
     "text": [
      "404 Not Found: https://iiif.wellcomecollection.org/presentation/b13187491\n"
     ]
    },
    {
     "name": "stderr",
     "output_type": "stream",
     "text": [
      "Retrying downloads:  68%|██████▊   | 1090/1609 [09:13<04:03,  2.13it/s]"
     ]
    },
    {
     "name": "stdout",
     "output_type": "stream",
     "text": [
      "404 Not Found: https://iiif.wellcomecollection.org/presentation/b11145274\n"
     ]
    },
    {
     "name": "stderr",
     "output_type": "stream",
     "text": [
      "Retrying downloads:  68%|██████▊   | 1091/1609 [09:14<04:06,  2.10it/s]"
     ]
    },
    {
     "name": "stdout",
     "output_type": "stream",
     "text": [
      "404 Not Found: https://iiif.wellcomecollection.org/presentation/b13147420\n"
     ]
    },
    {
     "name": "stderr",
     "output_type": "stream",
     "text": [
      "Retrying downloads:  68%|██████▊   | 1092/1609 [09:14<03:30,  2.45it/s]"
     ]
    },
    {
     "name": "stdout",
     "output_type": "stream",
     "text": [
      "404 Not Found: https://iiif.wellcomecollection.org/presentation/b11059527\n"
     ]
    },
    {
     "name": "stderr",
     "output_type": "stream",
     "text": [
      "Retrying downloads:  68%|██████▊   | 1093/1609 [09:14<03:50,  2.24it/s]"
     ]
    },
    {
     "name": "stdout",
     "output_type": "stream",
     "text": [
      "404 Not Found: https://iiif.wellcomecollection.org/presentation/b11055510\n"
     ]
    },
    {
     "name": "stderr",
     "output_type": "stream",
     "text": [
      "Retrying downloads:  68%|██████▊   | 1094/1609 [09:15<03:56,  2.17it/s]"
     ]
    },
    {
     "name": "stdout",
     "output_type": "stream",
     "text": [
      "404 Not Found: https://iiif.wellcomecollection.org/presentation/b12207159\n"
     ]
    },
    {
     "name": "stderr",
     "output_type": "stream",
     "text": [
      "Retrying downloads:  68%|██████▊   | 1095/1609 [09:15<03:56,  2.17it/s]"
     ]
    },
    {
     "name": "stdout",
     "output_type": "stream",
     "text": [
      "404 Not Found: https://iiif.wellcomecollection.org/presentation/b12977949\n"
     ]
    },
    {
     "name": "stderr",
     "output_type": "stream",
     "text": [
      "Retrying downloads:  68%|██████▊   | 1096/1609 [09:16<03:59,  2.14it/s]"
     ]
    },
    {
     "name": "stdout",
     "output_type": "stream",
     "text": [
      "404 Not Found: https://iiif.wellcomecollection.org/presentation/b10297212\n"
     ]
    },
    {
     "name": "stderr",
     "output_type": "stream",
     "text": [
      "Retrying downloads:  68%|██████▊   | 1097/1609 [09:16<04:11,  2.04it/s]"
     ]
    },
    {
     "name": "stdout",
     "output_type": "stream",
     "text": [
      "404 Not Found: https://iiif.wellcomecollection.org/presentation/b12178342\n"
     ]
    },
    {
     "name": "stderr",
     "output_type": "stream",
     "text": [
      "Retrying downloads:  68%|██████▊   | 1098/1609 [09:17<04:13,  2.02it/s]"
     ]
    },
    {
     "name": "stdout",
     "output_type": "stream",
     "text": [
      "404 Not Found: https://iiif.wellcomecollection.org/presentation/b13134395\n"
     ]
    },
    {
     "name": "stderr",
     "output_type": "stream",
     "text": [
      "Retrying downloads:  68%|██████▊   | 1099/1609 [09:17<04:11,  2.03it/s]"
     ]
    },
    {
     "name": "stdout",
     "output_type": "stream",
     "text": [
      "404 Not Found: https://iiif.wellcomecollection.org/presentation/b1152912x\n"
     ]
    },
    {
     "name": "stderr",
     "output_type": "stream",
     "text": [
      "Retrying downloads:  68%|██████▊   | 1100/1609 [09:18<04:10,  2.03it/s]"
     ]
    },
    {
     "name": "stdout",
     "output_type": "stream",
     "text": [
      "404 Not Found: https://iiif.wellcomecollection.org/presentation/b13266391\n"
     ]
    },
    {
     "name": "stderr",
     "output_type": "stream",
     "text": [
      "Retrying downloads:  68%|██████▊   | 1101/1609 [09:18<04:05,  2.07it/s]"
     ]
    },
    {
     "name": "stdout",
     "output_type": "stream",
     "text": [
      "404 Not Found: https://iiif.wellcomecollection.org/presentation/b12180750\n"
     ]
    },
    {
     "name": "stderr",
     "output_type": "stream",
     "text": [
      "Retrying downloads:  68%|██████▊   | 1102/1609 [09:19<04:06,  2.06it/s]"
     ]
    },
    {
     "name": "stdout",
     "output_type": "stream",
     "text": [
      "404 Not Found: https://iiif.wellcomecollection.org/presentation/b12986744\n"
     ]
    },
    {
     "name": "stderr",
     "output_type": "stream",
     "text": [
      "Retrying downloads:  69%|██████▊   | 1103/1609 [09:19<04:02,  2.08it/s]"
     ]
    },
    {
     "name": "stdout",
     "output_type": "stream",
     "text": [
      "404 Not Found: https://iiif.wellcomecollection.org/presentation/b10933402\n"
     ]
    },
    {
     "name": "stderr",
     "output_type": "stream",
     "text": [
      "Retrying downloads:  69%|██████▊   | 1104/1609 [09:20<04:05,  2.06it/s]"
     ]
    },
    {
     "name": "stdout",
     "output_type": "stream",
     "text": [
      "404 Not Found: https://iiif.wellcomecollection.org/presentation/b12202034\n"
     ]
    },
    {
     "name": "stderr",
     "output_type": "stream",
     "text": [
      "Retrying downloads:  69%|██████▊   | 1105/1609 [09:20<04:12,  2.00it/s]"
     ]
    },
    {
     "name": "stdout",
     "output_type": "stream",
     "text": [
      "404 Not Found: https://iiif.wellcomecollection.org/presentation/b10916751\n"
     ]
    },
    {
     "name": "stderr",
     "output_type": "stream",
     "text": [
      "Retrying downloads:  69%|██████▊   | 1106/1609 [09:21<04:05,  2.05it/s]"
     ]
    },
    {
     "name": "stdout",
     "output_type": "stream",
     "text": [
      "404 Not Found: https://iiif.wellcomecollection.org/presentation/b10109134\n"
     ]
    },
    {
     "name": "stderr",
     "output_type": "stream",
     "text": [
      "Retrying downloads:  69%|██████▉   | 1107/1609 [09:21<04:06,  2.04it/s]"
     ]
    },
    {
     "name": "stdout",
     "output_type": "stream",
     "text": [
      "404 Not Found: https://iiif.wellcomecollection.org/presentation/b13256129\n"
     ]
    },
    {
     "name": "stderr",
     "output_type": "stream",
     "text": [
      "Retrying downloads:  69%|██████▉   | 1108/1609 [09:22<04:04,  2.05it/s]"
     ]
    },
    {
     "name": "stdout",
     "output_type": "stream",
     "text": [
      "404 Not Found: https://iiif.wellcomecollection.org/presentation/b12987281\n"
     ]
    },
    {
     "name": "stderr",
     "output_type": "stream",
     "text": [
      "Retrying downloads:  69%|██████▉   | 1109/1609 [09:22<03:58,  2.09it/s]"
     ]
    },
    {
     "name": "stdout",
     "output_type": "stream",
     "text": [
      "404 Not Found: https://iiif.wellcomecollection.org/presentation/b10400357\n"
     ]
    },
    {
     "name": "stderr",
     "output_type": "stream",
     "text": [
      "Retrying downloads:  69%|██████▉   | 1110/1609 [09:23<04:01,  2.06it/s]"
     ]
    },
    {
     "name": "stdout",
     "output_type": "stream",
     "text": [
      "404 Not Found: https://iiif.wellcomecollection.org/presentation/b10326844\n"
     ]
    },
    {
     "name": "stderr",
     "output_type": "stream",
     "text": [
      "Retrying downloads:  69%|██████▉   | 1111/1609 [09:23<04:11,  1.98it/s]"
     ]
    },
    {
     "name": "stdout",
     "output_type": "stream",
     "text": [
      "404 Not Found: https://iiif.wellcomecollection.org/presentation/b11143198\n"
     ]
    },
    {
     "name": "stderr",
     "output_type": "stream",
     "text": [
      "Retrying downloads:  69%|██████▉   | 1112/1609 [09:24<04:09,  1.99it/s]"
     ]
    },
    {
     "name": "stdout",
     "output_type": "stream",
     "text": [
      "404 Not Found: https://iiif.wellcomecollection.org/presentation/b10401805\n"
     ]
    },
    {
     "name": "stderr",
     "output_type": "stream",
     "text": [
      "Retrying downloads:  69%|██████▉   | 1113/1609 [09:24<04:03,  2.04it/s]"
     ]
    },
    {
     "name": "stdout",
     "output_type": "stream",
     "text": [
      "404 Not Found: https://iiif.wellcomecollection.org/presentation/b11506246\n"
     ]
    },
    {
     "name": "stderr",
     "output_type": "stream",
     "text": [
      "Retrying downloads:  69%|██████▉   | 1115/1609 [09:27<07:04,  1.16it/s]"
     ]
    },
    {
     "name": "stdout",
     "output_type": "stream",
     "text": [
      "404 Not Found: https://iiif.wellcomecollection.org/presentation/b12208723\n"
     ]
    },
    {
     "name": "stderr",
     "output_type": "stream",
     "text": [
      "Retrying downloads:  69%|██████▉   | 1116/1609 [09:27<06:16,  1.31it/s]"
     ]
    },
    {
     "name": "stdout",
     "output_type": "stream",
     "text": [
      "404 Not Found: https://iiif.wellcomecollection.org/presentation/b13425614\n"
     ]
    },
    {
     "name": "stderr",
     "output_type": "stream",
     "text": [
      "Retrying downloads:  69%|██████▉   | 1117/1609 [09:28<05:45,  1.42it/s]"
     ]
    },
    {
     "name": "stdout",
     "output_type": "stream",
     "text": [
      "404 Not Found: https://iiif.wellcomecollection.org/presentation/b11057531\n"
     ]
    },
    {
     "name": "stderr",
     "output_type": "stream",
     "text": [
      "Retrying downloads:  69%|██████▉   | 1118/1609 [09:29<05:15,  1.56it/s]"
     ]
    },
    {
     "name": "stdout",
     "output_type": "stream",
     "text": [
      "404 Not Found: https://iiif.wellcomecollection.org/presentation/b10917020\n"
     ]
    },
    {
     "name": "stderr",
     "output_type": "stream",
     "text": [
      "Retrying downloads:  70%|██████▉   | 1119/1609 [09:29<04:19,  1.89it/s]"
     ]
    },
    {
     "name": "stdout",
     "output_type": "stream",
     "text": [
      "404 Not Found: https://iiif.wellcomecollection.org/presentation/b11533857\n"
     ]
    },
    {
     "name": "stderr",
     "output_type": "stream",
     "text": [
      "Retrying downloads:  70%|██████▉   | 1120/1609 [09:29<04:22,  1.86it/s]"
     ]
    },
    {
     "name": "stdout",
     "output_type": "stream",
     "text": [
      "404 Not Found: https://iiif.wellcomecollection.org/presentation/b14560380\n"
     ]
    },
    {
     "name": "stderr",
     "output_type": "stream",
     "text": [
      "Retrying downloads:  70%|██████▉   | 1121/1609 [09:30<04:12,  1.93it/s]"
     ]
    },
    {
     "name": "stdout",
     "output_type": "stream",
     "text": [
      "404 Not Found: https://iiif.wellcomecollection.org/presentation/b10112194\n"
     ]
    },
    {
     "name": "stderr",
     "output_type": "stream",
     "text": [
      "Retrying downloads:  70%|██████▉   | 1122/1609 [09:30<04:08,  1.96it/s]"
     ]
    },
    {
     "name": "stdout",
     "output_type": "stream",
     "text": [
      "404 Not Found: https://iiif.wellcomecollection.org/presentation/b13051532\n"
     ]
    },
    {
     "name": "stderr",
     "output_type": "stream",
     "text": [
      "Retrying downloads:  70%|██████▉   | 1123/1609 [09:31<04:10,  1.94it/s]"
     ]
    },
    {
     "name": "stdout",
     "output_type": "stream",
     "text": [
      "404 Not Found: https://iiif.wellcomecollection.org/presentation/b10616445\n"
     ]
    },
    {
     "name": "stderr",
     "output_type": "stream",
     "text": [
      "Retrying downloads:  70%|██████▉   | 1124/1609 [09:31<04:01,  2.01it/s]"
     ]
    },
    {
     "name": "stdout",
     "output_type": "stream",
     "text": [
      "404 Not Found: https://iiif.wellcomecollection.org/presentation/b11260609\n"
     ]
    },
    {
     "name": "stderr",
     "output_type": "stream",
     "text": [
      "Retrying downloads:  70%|██████▉   | 1125/1609 [09:32<04:02,  1.99it/s]"
     ]
    },
    {
     "name": "stdout",
     "output_type": "stream",
     "text": [
      "404 Not Found: https://iiif.wellcomecollection.org/presentation/b10914675\n"
     ]
    },
    {
     "name": "stderr",
     "output_type": "stream",
     "text": [
      "Retrying downloads:  70%|██████▉   | 1126/1609 [09:32<03:58,  2.03it/s]"
     ]
    },
    {
     "name": "stdout",
     "output_type": "stream",
     "text": [
      "404 Not Found: https://iiif.wellcomecollection.org/presentation/b11144543\n"
     ]
    },
    {
     "name": "stderr",
     "output_type": "stream",
     "text": [
      "Retrying downloads:  70%|███████   | 1127/1609 [09:33<03:59,  2.01it/s]"
     ]
    },
    {
     "name": "stdout",
     "output_type": "stream",
     "text": [
      "404 Not Found: https://iiif.wellcomecollection.org/presentation/b10109766\n"
     ]
    },
    {
     "name": "stderr",
     "output_type": "stream",
     "text": [
      "Retrying downloads:  70%|███████   | 1128/1609 [09:33<04:05,  1.96it/s]"
     ]
    },
    {
     "name": "stdout",
     "output_type": "stream",
     "text": [
      "404 Not Found: https://iiif.wellcomecollection.org/presentation/b10330628\n"
     ]
    },
    {
     "name": "stderr",
     "output_type": "stream",
     "text": [
      "Retrying downloads:  70%|███████   | 1129/1609 [09:34<04:07,  1.94it/s]"
     ]
    },
    {
     "name": "stdout",
     "output_type": "stream",
     "text": [
      "404 Not Found: https://iiif.wellcomecollection.org/presentation/b11513640\n"
     ]
    },
    {
     "name": "stderr",
     "output_type": "stream",
     "text": [
      "Retrying downloads:  70%|███████   | 1130/1609 [09:34<04:06,  1.94it/s]"
     ]
    },
    {
     "name": "stdout",
     "output_type": "stream",
     "text": [
      "404 Not Found: https://iiif.wellcomecollection.org/presentation/b14581425\n"
     ]
    },
    {
     "name": "stderr",
     "output_type": "stream",
     "text": [
      "Retrying downloads:  70%|███████   | 1131/1609 [09:35<04:08,  1.92it/s]"
     ]
    },
    {
     "name": "stdout",
     "output_type": "stream",
     "text": [
      "404 Not Found: https://iiif.wellcomecollection.org/presentation/b12181286\n"
     ]
    },
    {
     "name": "stderr",
     "output_type": "stream",
     "text": [
      "Retrying downloads:  70%|███████   | 1132/1609 [09:35<04:01,  1.97it/s]"
     ]
    },
    {
     "name": "stdout",
     "output_type": "stream",
     "text": [
      "404 Not Found: https://iiif.wellcomecollection.org/presentation/b12852594\n"
     ]
    },
    {
     "name": "stderr",
     "output_type": "stream",
     "text": [
      "Retrying downloads:  70%|███████   | 1133/1609 [09:36<03:54,  2.03it/s]"
     ]
    },
    {
     "name": "stdout",
     "output_type": "stream",
     "text": [
      "404 Not Found: https://iiif.wellcomecollection.org/presentation/b12846909\n"
     ]
    },
    {
     "name": "stderr",
     "output_type": "stream",
     "text": [
      "Retrying downloads:  70%|███████   | 1134/1609 [09:36<03:52,  2.04it/s]"
     ]
    },
    {
     "name": "stdout",
     "output_type": "stream",
     "text": [
      "404 Not Found: https://iiif.wellcomecollection.org/presentation/b1218181x\n"
     ]
    },
    {
     "name": "stderr",
     "output_type": "stream",
     "text": [
      "Retrying downloads:  71%|███████   | 1135/1609 [09:37<03:57,  1.99it/s]"
     ]
    },
    {
     "name": "stdout",
     "output_type": "stream",
     "text": [
      "404 Not Found: https://iiif.wellcomecollection.org/presentation/b10766212\n"
     ]
    },
    {
     "name": "stderr",
     "output_type": "stream",
     "text": [
      "Retrying downloads:  71%|███████   | 1136/1609 [09:37<03:58,  1.99it/s]"
     ]
    },
    {
     "name": "stdout",
     "output_type": "stream",
     "text": [
      "404 Not Found: https://iiif.wellcomecollection.org/presentation/b1218083x\n"
     ]
    },
    {
     "name": "stderr",
     "output_type": "stream",
     "text": [
      "Retrying downloads:  71%|███████   | 1137/1609 [09:38<03:53,  2.02it/s]"
     ]
    },
    {
     "name": "stdout",
     "output_type": "stream",
     "text": [
      "404 Not Found: https://iiif.wellcomecollection.org/presentation/b14571055\n"
     ]
    },
    {
     "name": "stderr",
     "output_type": "stream",
     "text": [
      "Retrying downloads:  71%|███████   | 1138/1609 [09:38<03:47,  2.07it/s]"
     ]
    },
    {
     "name": "stdout",
     "output_type": "stream",
     "text": [
      "404 Not Found: https://iiif.wellcomecollection.org/presentation/b1206273x\n"
     ]
    },
    {
     "name": "stderr",
     "output_type": "stream",
     "text": [
      "Retrying downloads:  71%|███████   | 1139/1609 [09:39<03:47,  2.06it/s]"
     ]
    },
    {
     "name": "stdout",
     "output_type": "stream",
     "text": [
      "404 Not Found: https://iiif.wellcomecollection.org/presentation/b10615015\n"
     ]
    },
    {
     "name": "stderr",
     "output_type": "stream",
     "text": [
      "Retrying downloads:  71%|███████   | 1140/1609 [09:39<03:43,  2.09it/s]"
     ]
    },
    {
     "name": "stdout",
     "output_type": "stream",
     "text": [
      "404 Not Found: https://iiif.wellcomecollection.org/presentation/b11059308\n"
     ]
    },
    {
     "name": "stderr",
     "output_type": "stream",
     "text": [
      "Retrying downloads:  71%|███████   | 1141/1609 [09:40<03:47,  2.05it/s]"
     ]
    },
    {
     "name": "stdout",
     "output_type": "stream",
     "text": [
      "404 Not Found: https://iiif.wellcomecollection.org/presentation/b11055765\n"
     ]
    },
    {
     "name": "stderr",
     "output_type": "stream",
     "text": [
      "Retrying downloads:  71%|███████   | 1142/1609 [09:40<03:49,  2.04it/s]"
     ]
    },
    {
     "name": "stdout",
     "output_type": "stream",
     "text": [
      "404 Not Found: https://iiif.wellcomecollection.org/presentation/b1106688x\n"
     ]
    },
    {
     "name": "stderr",
     "output_type": "stream",
     "text": [
      "Retrying downloads:  71%|███████   | 1143/1609 [09:41<03:47,  2.05it/s]"
     ]
    },
    {
     "name": "stdout",
     "output_type": "stream",
     "text": [
      "404 Not Found: https://iiif.wellcomecollection.org/presentation/b12177532\n"
     ]
    },
    {
     "name": "stderr",
     "output_type": "stream",
     "text": [
      "Retrying downloads:  71%|███████   | 1144/1609 [09:41<03:43,  2.08it/s]"
     ]
    },
    {
     "name": "stdout",
     "output_type": "stream",
     "text": [
      "404 Not Found: https://iiif.wellcomecollection.org/presentation/b10699430\n"
     ]
    },
    {
     "name": "stderr",
     "output_type": "stream",
     "text": [
      "Retrying downloads:  71%|███████   | 1145/1609 [09:41<03:07,  2.47it/s]"
     ]
    },
    {
     "name": "stdout",
     "output_type": "stream",
     "text": [
      "404 Not Found: https://iiif.wellcomecollection.org/presentation/26\n"
     ]
    },
    {
     "name": "stderr",
     "output_type": "stream",
     "text": [
      "Retrying downloads:  71%|███████   | 1146/1609 [09:42<03:17,  2.34it/s]"
     ]
    },
    {
     "name": "stdout",
     "output_type": "stream",
     "text": [
      "404 Not Found: https://iiif.wellcomecollection.org/presentation/b1106674x\n"
     ]
    },
    {
     "name": "stderr",
     "output_type": "stream",
     "text": [
      "Retrying downloads:  71%|███████▏  | 1147/1609 [09:42<03:28,  2.22it/s]"
     ]
    },
    {
     "name": "stdout",
     "output_type": "stream",
     "text": [
      "404 Not Found: https://iiif.wellcomecollection.org/presentation/b11055133\n"
     ]
    },
    {
     "name": "stderr",
     "output_type": "stream",
     "text": [
      "Retrying downloads:  71%|███████▏  | 1148/1609 [09:43<03:30,  2.19it/s]"
     ]
    },
    {
     "name": "stdout",
     "output_type": "stream",
     "text": [
      "404 Not Found: https://iiif.wellcomecollection.org/presentation/b14577896\n"
     ]
    },
    {
     "name": "stderr",
     "output_type": "stream",
     "text": [
      "Retrying downloads:  71%|███████▏  | 1149/1609 [09:43<03:33,  2.15it/s]"
     ]
    },
    {
     "name": "stdout",
     "output_type": "stream",
     "text": [
      "404 Not Found: https://iiif.wellcomecollection.org/presentation/b12181109\n"
     ]
    },
    {
     "name": "stderr",
     "output_type": "stream",
     "text": [
      "Retrying downloads:  71%|███████▏  | 1150/1609 [09:44<03:33,  2.15it/s]"
     ]
    },
    {
     "name": "stdout",
     "output_type": "stream",
     "text": [
      "404 Not Found: https://iiif.wellcomecollection.org/presentation/b12185875\n"
     ]
    },
    {
     "name": "stderr",
     "output_type": "stream",
     "text": [
      "Retrying downloads:  72%|███████▏  | 1151/1609 [09:44<03:40,  2.08it/s]"
     ]
    },
    {
     "name": "stdout",
     "output_type": "stream",
     "text": [
      "404 Not Found: https://iiif.wellcomecollection.org/presentation/b1115049x\n"
     ]
    },
    {
     "name": "stderr",
     "output_type": "stream",
     "text": [
      "Retrying downloads:  72%|███████▏  | 1152/1609 [09:45<03:41,  2.06it/s]"
     ]
    },
    {
     "name": "stdout",
     "output_type": "stream",
     "text": [
      "404 Not Found: https://iiif.wellcomecollection.org/presentation/b11058699\n"
     ]
    },
    {
     "name": "stderr",
     "output_type": "stream",
     "text": [
      "Retrying downloads:  72%|███████▏  | 1153/1609 [09:45<03:43,  2.04it/s]"
     ]
    },
    {
     "name": "stdout",
     "output_type": "stream",
     "text": [
      "404 Not Found: https://iiif.wellcomecollection.org/presentation/b12186909\n"
     ]
    },
    {
     "name": "stderr",
     "output_type": "stream",
     "text": [
      "Retrying downloads:  72%|███████▏  | 1154/1609 [09:46<03:41,  2.05it/s]"
     ]
    },
    {
     "name": "stdout",
     "output_type": "stream",
     "text": [
      "404 Not Found: https://iiif.wellcomecollection.org/presentation/b1153719x\n"
     ]
    },
    {
     "name": "stderr",
     "output_type": "stream",
     "text": [
      "Retrying downloads:  72%|███████▏  | 1155/1609 [09:46<03:43,  2.03it/s]"
     ]
    },
    {
     "name": "stdout",
     "output_type": "stream",
     "text": [
      "404 Not Found: https://iiif.wellcomecollection.org/presentation/b10280972\n"
     ]
    },
    {
     "name": "stderr",
     "output_type": "stream",
     "text": [
      "Retrying downloads:  72%|███████▏  | 1156/1609 [09:47<03:39,  2.07it/s]"
     ]
    },
    {
     "name": "stdout",
     "output_type": "stream",
     "text": [
      "404 Not Found: https://iiif.wellcomecollection.org/presentation/b14568767\n"
     ]
    },
    {
     "name": "stderr",
     "output_type": "stream",
     "text": [
      "Retrying downloads:  72%|███████▏  | 1157/1609 [09:47<03:41,  2.04it/s]"
     ]
    },
    {
     "name": "stdout",
     "output_type": "stream",
     "text": [
      "404 Not Found: https://iiif.wellcomecollection.org/presentation/b10777349\n"
     ]
    },
    {
     "name": "stderr",
     "output_type": "stream",
     "text": [
      "Retrying downloads:  72%|███████▏  | 1158/1609 [09:48<03:42,  2.02it/s]"
     ]
    },
    {
     "name": "stdout",
     "output_type": "stream",
     "text": [
      "404 Not Found: https://iiif.wellcomecollection.org/presentation/b12706589\n"
     ]
    },
    {
     "name": "stderr",
     "output_type": "stream",
     "text": [
      "Retrying downloads:  72%|███████▏  | 1159/1609 [09:48<03:38,  2.06it/s]"
     ]
    },
    {
     "name": "stdout",
     "output_type": "stream",
     "text": [
      "404 Not Found: https://iiif.wellcomecollection.org/presentation/b11057257\n"
     ]
    },
    {
     "name": "stderr",
     "output_type": "stream",
     "text": [
      "Retrying downloads:  72%|███████▏  | 1160/1609 [09:49<03:40,  2.03it/s]"
     ]
    },
    {
     "name": "stdout",
     "output_type": "stream",
     "text": [
      "404 Not Found: https://iiif.wellcomecollection.org/presentation/b11056319\n"
     ]
    },
    {
     "name": "stderr",
     "output_type": "stream",
     "text": [
      "Retrying downloads:  72%|███████▏  | 1161/1609 [09:49<03:41,  2.02it/s]"
     ]
    },
    {
     "name": "stdout",
     "output_type": "stream",
     "text": [
      "404 Not Found: https://iiif.wellcomecollection.org/presentation/b10109055\n"
     ]
    },
    {
     "name": "stderr",
     "output_type": "stream",
     "text": [
      "Retrying downloads:  72%|███████▏  | 1162/1609 [09:50<03:37,  2.05it/s]"
     ]
    },
    {
     "name": "stdout",
     "output_type": "stream",
     "text": [
      "404 Not Found: https://iiif.wellcomecollection.org/presentation/b14570750\n"
     ]
    },
    {
     "name": "stderr",
     "output_type": "stream",
     "text": [
      "Retrying downloads:  72%|███████▏  | 1163/1609 [09:50<03:32,  2.09it/s]"
     ]
    },
    {
     "name": "stdout",
     "output_type": "stream",
     "text": [
      "404 Not Found: https://iiif.wellcomecollection.org/presentation/b14565584\n"
     ]
    },
    {
     "name": "stderr",
     "output_type": "stream",
     "text": [
      "Retrying downloads:  72%|███████▏  | 1164/1609 [09:51<03:33,  2.09it/s]"
     ]
    },
    {
     "name": "stdout",
     "output_type": "stream",
     "text": [
      "404 Not Found: https://iiif.wellcomecollection.org/presentation/b14567015\n"
     ]
    },
    {
     "name": "stderr",
     "output_type": "stream",
     "text": [
      "Retrying downloads:  72%|███████▏  | 1165/1609 [09:51<03:30,  2.11it/s]"
     ]
    },
    {
     "name": "stdout",
     "output_type": "stream",
     "text": [
      "404 Not Found: https://iiif.wellcomecollection.org/presentation/b11058687\n"
     ]
    },
    {
     "name": "stderr",
     "output_type": "stream",
     "text": [
      "Retrying downloads:  72%|███████▏  | 1166/1609 [09:52<03:28,  2.12it/s]"
     ]
    },
    {
     "name": "stdout",
     "output_type": "stream",
     "text": [
      "404 Not Found: https://iiif.wellcomecollection.org/presentation/b13135703\n"
     ]
    },
    {
     "name": "stderr",
     "output_type": "stream",
     "text": [
      "Retrying downloads:  73%|███████▎  | 1167/1609 [09:52<03:32,  2.08it/s]"
     ]
    },
    {
     "name": "stdout",
     "output_type": "stream",
     "text": [
      "404 Not Found: https://iiif.wellcomecollection.org/presentation/b10933554\n"
     ]
    },
    {
     "name": "stderr",
     "output_type": "stream",
     "text": [
      "Retrying downloads:  73%|███████▎  | 1168/1609 [09:53<03:28,  2.11it/s]"
     ]
    },
    {
     "name": "stdout",
     "output_type": "stream",
     "text": [
      "404 Not Found: https://iiif.wellcomecollection.org/presentation/b13125758\n"
     ]
    },
    {
     "name": "stderr",
     "output_type": "stream",
     "text": [
      "Retrying downloads:  73%|███████▎  | 1169/1609 [09:53<03:32,  2.07it/s]"
     ]
    },
    {
     "name": "stdout",
     "output_type": "stream",
     "text": [
      "404 Not Found: https://iiif.wellcomecollection.org/presentation/b14593580\n"
     ]
    },
    {
     "name": "stderr",
     "output_type": "stream",
     "text": [
      "Retrying downloads:  73%|███████▎  | 1170/1609 [09:54<03:29,  2.09it/s]"
     ]
    },
    {
     "name": "stdout",
     "output_type": "stream",
     "text": [
      "404 Not Found: https://iiif.wellcomecollection.org/presentation/b10883113\n"
     ]
    },
    {
     "name": "stderr",
     "output_type": "stream",
     "text": [
      "Retrying downloads:  73%|███████▎  | 1171/1609 [09:54<03:25,  2.13it/s]"
     ]
    },
    {
     "name": "stdout",
     "output_type": "stream",
     "text": [
      "404 Not Found: https://iiif.wellcomecollection.org/presentation/b12956417\n"
     ]
    },
    {
     "name": "stderr",
     "output_type": "stream",
     "text": [
      "Retrying downloads:  73%|███████▎  | 1172/1609 [09:55<03:34,  2.03it/s]"
     ]
    },
    {
     "name": "stdout",
     "output_type": "stream",
     "text": [
      "404 Not Found: https://iiif.wellcomecollection.org/presentation/b14563113\n"
     ]
    },
    {
     "name": "stderr",
     "output_type": "stream",
     "text": [
      "Retrying downloads:  73%|███████▎  | 1173/1609 [09:55<03:30,  2.07it/s]"
     ]
    },
    {
     "name": "stdout",
     "output_type": "stream",
     "text": [
      "404 Not Found: https://iiif.wellcomecollection.org/presentation/b12947313\n"
     ]
    },
    {
     "name": "stderr",
     "output_type": "stream",
     "text": [
      "Retrying downloads:  73%|███████▎  | 1174/1609 [09:55<03:27,  2.10it/s]"
     ]
    },
    {
     "name": "stdout",
     "output_type": "stream",
     "text": [
      "404 Not Found: https://iiif.wellcomecollection.org/presentation/b14586046\n"
     ]
    },
    {
     "name": "stderr",
     "output_type": "stream",
     "text": [
      "Retrying downloads:  73%|███████▎  | 1175/1609 [09:56<03:36,  2.00it/s]"
     ]
    },
    {
     "name": "stdout",
     "output_type": "stream",
     "text": [
      "404 Not Found: https://iiif.wellcomecollection.org/presentation/b10321937\n"
     ]
    },
    {
     "name": "stderr",
     "output_type": "stream",
     "text": [
      "Retrying downloads:  73%|███████▎  | 1176/1609 [09:57<03:44,  1.93it/s]"
     ]
    },
    {
     "name": "stdout",
     "output_type": "stream",
     "text": [
      "404 Not Found: https://iiif.wellcomecollection.org/presentation/b12948032\n"
     ]
    },
    {
     "name": "stderr",
     "output_type": "stream",
     "text": [
      "Retrying downloads:  73%|███████▎  | 1177/1609 [09:57<03:46,  1.91it/s]"
     ]
    },
    {
     "name": "stdout",
     "output_type": "stream",
     "text": [
      "404 Not Found: https://iiif.wellcomecollection.org/presentation/b12207196\n"
     ]
    },
    {
     "name": "stderr",
     "output_type": "stream",
     "text": [
      "Retrying downloads:  73%|███████▎  | 1178/1609 [09:58<03:45,  1.91it/s]"
     ]
    },
    {
     "name": "stdout",
     "output_type": "stream",
     "text": [
      "404 Not Found: https://iiif.wellcomecollection.org/presentation/b12201625\n"
     ]
    },
    {
     "name": "stderr",
     "output_type": "stream",
     "text": [
      "Retrying downloads:  73%|███████▎  | 1179/1609 [09:58<03:44,  1.92it/s]"
     ]
    },
    {
     "name": "stdout",
     "output_type": "stream",
     "text": [
      "404 Not Found: https://iiif.wellcomecollection.org/presentation/b12205072\n"
     ]
    },
    {
     "name": "stderr",
     "output_type": "stream",
     "text": [
      "Retrying downloads:  73%|███████▎  | 1180/1609 [09:59<03:37,  1.97it/s]"
     ]
    },
    {
     "name": "stdout",
     "output_type": "stream",
     "text": [
      "404 Not Found: https://iiif.wellcomecollection.org/presentation/b12671642\n"
     ]
    },
    {
     "name": "stderr",
     "output_type": "stream",
     "text": [
      "Retrying downloads:  73%|███████▎  | 1181/1609 [09:59<03:32,  2.02it/s]"
     ]
    },
    {
     "name": "stdout",
     "output_type": "stream",
     "text": [
      "404 Not Found: https://iiif.wellcomecollection.org/presentation/b16434614\n"
     ]
    },
    {
     "name": "stderr",
     "output_type": "stream",
     "text": [
      "Retrying downloads:  73%|███████▎  | 1182/1609 [10:00<03:39,  1.95it/s]"
     ]
    },
    {
     "name": "stdout",
     "output_type": "stream",
     "text": [
      "404 Not Found: https://iiif.wellcomecollection.org/presentation/b12195145\n"
     ]
    },
    {
     "name": "stderr",
     "output_type": "stream",
     "text": [
      "Retrying downloads:  74%|███████▎  | 1183/1609 [10:00<03:34,  1.98it/s]"
     ]
    },
    {
     "name": "stdout",
     "output_type": "stream",
     "text": [
      "404 Not Found: https://iiif.wellcomecollection.org/presentation/b10400618\n"
     ]
    },
    {
     "name": "stderr",
     "output_type": "stream",
     "text": [
      "Retrying downloads:  74%|███████▎  | 1184/1609 [10:01<03:28,  2.04it/s]"
     ]
    },
    {
     "name": "stdout",
     "output_type": "stream",
     "text": [
      "404 Not Found: https://iiif.wellcomecollection.org/presentation/b14559699\n"
     ]
    },
    {
     "name": "stderr",
     "output_type": "stream",
     "text": [
      "Retrying downloads:  74%|███████▎  | 1185/1609 [10:01<03:28,  2.03it/s]"
     ]
    },
    {
     "name": "stdout",
     "output_type": "stream",
     "text": [
      "404 Not Found: https://iiif.wellcomecollection.org/presentation/b15317754\n"
     ]
    },
    {
     "name": "stderr",
     "output_type": "stream",
     "text": [
      "Retrying downloads:  74%|███████▎  | 1186/1609 [10:02<03:27,  2.04it/s]"
     ]
    },
    {
     "name": "stdout",
     "output_type": "stream",
     "text": [
      "404 Not Found: https://iiif.wellcomecollection.org/presentation/b11143654\n"
     ]
    },
    {
     "name": "stderr",
     "output_type": "stream",
     "text": [
      "Retrying downloads:  74%|███████▍  | 1187/1609 [10:02<03:29,  2.02it/s]"
     ]
    },
    {
     "name": "stdout",
     "output_type": "stream",
     "text": [
      "404 Not Found: https://iiif.wellcomecollection.org/presentation/b10326078\n"
     ]
    },
    {
     "name": "stderr",
     "output_type": "stream",
     "text": [
      "Retrying downloads:  74%|███████▍  | 1188/1609 [10:03<03:30,  2.00it/s]"
     ]
    },
    {
     "name": "stdout",
     "output_type": "stream",
     "text": [
      "404 Not Found: https://iiif.wellcomecollection.org/presentation/b11218289\n"
     ]
    },
    {
     "name": "stderr",
     "output_type": "stream",
     "text": [
      "Retrying downloads:  74%|███████▍  | 1189/1609 [10:03<03:27,  2.02it/s]"
     ]
    },
    {
     "name": "stdout",
     "output_type": "stream",
     "text": [
      "404 Not Found: https://iiif.wellcomecollection.org/presentation/b11147775\n"
     ]
    },
    {
     "name": "stderr",
     "output_type": "stream",
     "text": [
      "Retrying downloads:  74%|███████▍  | 1190/1609 [10:03<02:55,  2.39it/s]"
     ]
    },
    {
     "name": "stdout",
     "output_type": "stream",
     "text": [
      "404 Not Found: https://iiif.wellcomecollection.org/presentation/1\n"
     ]
    },
    {
     "name": "stderr",
     "output_type": "stream",
     "text": [
      "Retrying downloads:  74%|███████▍  | 1191/1609 [10:04<03:07,  2.23it/s]"
     ]
    },
    {
     "name": "stdout",
     "output_type": "stream",
     "text": [
      "404 Not Found: https://iiif.wellcomecollection.org/presentation/b14584505\n"
     ]
    },
    {
     "name": "stderr",
     "output_type": "stream",
     "text": [
      "Retrying downloads:  74%|███████▍  | 1192/1609 [10:04<03:15,  2.14it/s]"
     ]
    },
    {
     "name": "stdout",
     "output_type": "stream",
     "text": [
      "404 Not Found: https://iiif.wellcomecollection.org/presentation/b11055091\n"
     ]
    },
    {
     "name": "stderr",
     "output_type": "stream",
     "text": [
      "Retrying downloads:  74%|███████▍  | 1193/1609 [10:05<03:13,  2.15it/s]"
     ]
    },
    {
     "name": "stdout",
     "output_type": "stream",
     "text": [
      "404 Not Found: https://iiif.wellcomecollection.org/presentation/b11040567\n"
     ]
    },
    {
     "name": "stderr",
     "output_type": "stream",
     "text": [
      "Retrying downloads:  74%|███████▍  | 1194/1609 [10:05<03:18,  2.09it/s]"
     ]
    },
    {
     "name": "stdout",
     "output_type": "stream",
     "text": [
      "404 Not Found: https://iiif.wellcomecollection.org/presentation/b11140690\n"
     ]
    },
    {
     "name": "stderr",
     "output_type": "stream",
     "text": [
      "Retrying downloads:  74%|███████▍  | 1195/1609 [10:06<03:20,  2.07it/s]"
     ]
    },
    {
     "name": "stdout",
     "output_type": "stream",
     "text": [
      "404 Not Found: https://iiif.wellcomecollection.org/presentation/b10336151\n"
     ]
    },
    {
     "name": "stderr",
     "output_type": "stream",
     "text": [
      "Retrying downloads:  74%|███████▍  | 1196/1609 [10:06<03:17,  2.09it/s]"
     ]
    },
    {
     "name": "stdout",
     "output_type": "stream",
     "text": [
      "404 Not Found: https://iiif.wellcomecollection.org/presentation/b10118913\n"
     ]
    },
    {
     "name": "stderr",
     "output_type": "stream",
     "text": [
      "Retrying downloads:  74%|███████▍  | 1197/1609 [10:07<03:18,  2.08it/s]"
     ]
    },
    {
     "name": "stdout",
     "output_type": "stream",
     "text": [
      "404 Not Found: https://iiif.wellcomecollection.org/presentation/b10107988\n"
     ]
    },
    {
     "name": "stderr",
     "output_type": "stream",
     "text": [
      "Retrying downloads:  74%|███████▍  | 1198/1609 [10:07<03:16,  2.09it/s]"
     ]
    },
    {
     "name": "stdout",
     "output_type": "stream",
     "text": [
      "404 Not Found: https://iiif.wellcomecollection.org/presentation/b14565572\n"
     ]
    },
    {
     "name": "stderr",
     "output_type": "stream",
     "text": [
      "Retrying downloads:  75%|███████▍  | 1199/1609 [10:08<03:23,  2.02it/s]"
     ]
    },
    {
     "name": "stdout",
     "output_type": "stream",
     "text": [
      "404 Not Found: https://iiif.wellcomecollection.org/presentation/b11057269\n"
     ]
    },
    {
     "name": "stderr",
     "output_type": "stream",
     "text": [
      "Retrying downloads:  75%|███████▍  | 1200/1609 [10:08<03:24,  2.00it/s]"
     ]
    },
    {
     "name": "stdout",
     "output_type": "stream",
     "text": [
      "404 Not Found: https://iiif.wellcomecollection.org/presentation/b1032138x\n"
     ]
    },
    {
     "name": "stderr",
     "output_type": "stream",
     "text": [
      "Retrying downloads:  75%|███████▍  | 1201/1609 [10:09<03:19,  2.04it/s]"
     ]
    },
    {
     "name": "stdout",
     "output_type": "stream",
     "text": [
      "404 Not Found: https://iiif.wellcomecollection.org/presentation/b10917810\n"
     ]
    },
    {
     "name": "stderr",
     "output_type": "stream",
     "text": [
      "Retrying downloads:  75%|███████▍  | 1202/1609 [10:09<03:18,  2.05it/s]"
     ]
    },
    {
     "name": "stdout",
     "output_type": "stream",
     "text": [
      "404 Not Found: https://iiif.wellcomecollection.org/presentation/b12204511\n"
     ]
    },
    {
     "name": "stderr",
     "output_type": "stream",
     "text": [
      "Retrying downloads:  75%|███████▍  | 1203/1609 [10:10<03:17,  2.06it/s]"
     ]
    },
    {
     "name": "stdout",
     "output_type": "stream",
     "text": [
      "404 Not Found: https://iiif.wellcomecollection.org/presentation/b12205849\n"
     ]
    },
    {
     "name": "stderr",
     "output_type": "stream",
     "text": [
      "Retrying downloads:  75%|███████▍  | 1204/1609 [10:10<03:15,  2.08it/s]"
     ]
    },
    {
     "name": "stdout",
     "output_type": "stream",
     "text": [
      "404 Not Found: https://iiif.wellcomecollection.org/presentation/b12840877\n"
     ]
    },
    {
     "name": "stderr",
     "output_type": "stream",
     "text": [
      "Retrying downloads:  75%|███████▍  | 1205/1609 [10:11<03:17,  2.05it/s]"
     ]
    },
    {
     "name": "stdout",
     "output_type": "stream",
     "text": [
      "404 Not Found: https://iiif.wellcomecollection.org/presentation/b12175377\n"
     ]
    },
    {
     "name": "stderr",
     "output_type": "stream",
     "text": [
      "Retrying downloads:  75%|███████▍  | 1206/1609 [10:11<03:19,  2.02it/s]"
     ]
    },
    {
     "name": "stdout",
     "output_type": "stream",
     "text": [
      "404 Not Found: https://iiif.wellcomecollection.org/presentation/b12178123\n"
     ]
    },
    {
     "name": "stderr",
     "output_type": "stream",
     "text": [
      "Retrying downloads:  75%|███████▌  | 1207/1609 [10:12<03:19,  2.02it/s]"
     ]
    },
    {
     "name": "stdout",
     "output_type": "stream",
     "text": [
      "404 Not Found: https://iiif.wellcomecollection.org/presentation/b16441527\n"
     ]
    },
    {
     "name": "stderr",
     "output_type": "stream",
     "text": [
      "Retrying downloads:  75%|███████▌  | 1208/1609 [10:12<03:17,  2.03it/s]"
     ]
    },
    {
     "name": "stdout",
     "output_type": "stream",
     "text": [
      "404 Not Found: https://iiif.wellcomecollection.org/presentation/b11058900\n"
     ]
    },
    {
     "name": "stderr",
     "output_type": "stream",
     "text": [
      "Retrying downloads:  75%|███████▌  | 1209/1609 [10:13<03:12,  2.08it/s]"
     ]
    },
    {
     "name": "stdout",
     "output_type": "stream",
     "text": [
      "404 Not Found: https://iiif.wellcomecollection.org/presentation/b13150534\n"
     ]
    },
    {
     "name": "stderr",
     "output_type": "stream",
     "text": [
      "Retrying downloads:  75%|███████▌  | 1210/1609 [10:13<03:14,  2.05it/s]"
     ]
    },
    {
     "name": "stdout",
     "output_type": "stream",
     "text": [
      "404 Not Found: https://iiif.wellcomecollection.org/presentation/b11058845\n"
     ]
    },
    {
     "name": "stderr",
     "output_type": "stream",
     "text": [
      "Retrying downloads:  75%|███████▌  | 1211/1609 [10:14<03:11,  2.07it/s]"
     ]
    },
    {
     "name": "stdout",
     "output_type": "stream",
     "text": [
      "404 Not Found: https://iiif.wellcomecollection.org/presentation/b10327630\n"
     ]
    },
    {
     "name": "stderr",
     "output_type": "stream",
     "text": [
      "Retrying downloads:  75%|███████▌  | 1212/1609 [10:14<03:10,  2.08it/s]"
     ]
    },
    {
     "name": "stdout",
     "output_type": "stream",
     "text": [
      "404 Not Found: https://iiif.wellcomecollection.org/presentation/b13254297\n"
     ]
    },
    {
     "name": "stderr",
     "output_type": "stream",
     "text": [
      "Retrying downloads:  75%|███████▌  | 1213/1609 [10:15<03:14,  2.04it/s]"
     ]
    },
    {
     "name": "stdout",
     "output_type": "stream",
     "text": [
      "404 Not Found: https://iiif.wellcomecollection.org/presentation/b1151498x\n"
     ]
    },
    {
     "name": "stderr",
     "output_type": "stream",
     "text": [
      "Retrying downloads:  75%|███████▌  | 1214/1609 [10:15<03:12,  2.05it/s]"
     ]
    },
    {
     "name": "stdout",
     "output_type": "stream",
     "text": [
      "404 Not Found: https://iiif.wellcomecollection.org/presentation/b10327496\n"
     ]
    },
    {
     "name": "stderr",
     "output_type": "stream",
     "text": [
      "Retrying downloads:  76%|███████▌  | 1215/1609 [10:16<03:15,  2.01it/s]"
     ]
    },
    {
     "name": "stdout",
     "output_type": "stream",
     "text": [
      "404 Not Found: https://iiif.wellcomecollection.org/presentation/b10777271\n"
     ]
    },
    {
     "name": "stderr",
     "output_type": "stream",
     "text": [
      "Retrying downloads:  76%|███████▌  | 1216/1609 [10:16<03:19,  1.97it/s]"
     ]
    },
    {
     "name": "stdout",
     "output_type": "stream",
     "text": [
      "404 Not Found: https://iiif.wellcomecollection.org/presentation/b1078276x\n"
     ]
    },
    {
     "name": "stderr",
     "output_type": "stream",
     "text": [
      "Retrying downloads:  76%|███████▌  | 1217/1609 [10:17<03:20,  1.95it/s]"
     ]
    },
    {
     "name": "stdout",
     "output_type": "stream",
     "text": [
      "404 Not Found: https://iiif.wellcomecollection.org/presentation/b12161111\n"
     ]
    },
    {
     "name": "stderr",
     "output_type": "stream",
     "text": [
      "Retrying downloads:  76%|███████▌  | 1218/1609 [10:17<03:19,  1.96it/s]"
     ]
    },
    {
     "name": "stdout",
     "output_type": "stream",
     "text": [
      "404 Not Found: https://iiif.wellcomecollection.org/presentation/b10108439\n"
     ]
    },
    {
     "name": "stderr",
     "output_type": "stream",
     "text": [
      "Retrying downloads:  76%|███████▌  | 1219/1609 [10:18<03:17,  1.97it/s]"
     ]
    },
    {
     "name": "stdout",
     "output_type": "stream",
     "text": [
      "404 Not Found: https://iiif.wellcomecollection.org/presentation/b13154722\n"
     ]
    },
    {
     "name": "stderr",
     "output_type": "stream",
     "text": [
      "Retrying downloads:  76%|███████▌  | 1220/1609 [10:18<03:14,  2.00it/s]"
     ]
    },
    {
     "name": "stdout",
     "output_type": "stream",
     "text": [
      "404 Not Found: https://iiif.wellcomecollection.org/presentation/b1456323x\n"
     ]
    },
    {
     "name": "stderr",
     "output_type": "stream",
     "text": [
      "Retrying downloads:  76%|███████▌  | 1221/1609 [10:19<03:12,  2.01it/s]"
     ]
    },
    {
     "name": "stdout",
     "output_type": "stream",
     "text": [
      "404 Not Found: https://iiif.wellcomecollection.org/presentation/b10616299\n"
     ]
    },
    {
     "name": "stderr",
     "output_type": "stream",
     "text": [
      "Retrying downloads:  76%|███████▌  | 1222/1609 [10:19<03:11,  2.02it/s]"
     ]
    },
    {
     "name": "stdout",
     "output_type": "stream",
     "text": [
      "404 Not Found: https://iiif.wellcomecollection.org/presentation/b10915849\n"
     ]
    },
    {
     "name": "stderr",
     "output_type": "stream",
     "text": [
      "Retrying downloads:  76%|███████▌  | 1223/1609 [10:20<03:10,  2.03it/s]"
     ]
    },
    {
     "name": "stdout",
     "output_type": "stream",
     "text": [
      "404 Not Found: https://iiif.wellcomecollection.org/presentation/b11280633\n"
     ]
    },
    {
     "name": "stderr",
     "output_type": "stream",
     "text": [
      "Retrying downloads:  76%|███████▌  | 1224/1609 [10:20<03:06,  2.07it/s]"
     ]
    },
    {
     "name": "stdout",
     "output_type": "stream",
     "text": [
      "404 Not Found: https://iiif.wellcomecollection.org/presentation/b10107538\n"
     ]
    },
    {
     "name": "stderr",
     "output_type": "stream",
     "text": [
      "Retrying downloads:  76%|███████▌  | 1225/1609 [10:21<03:09,  2.03it/s]"
     ]
    },
    {
     "name": "stdout",
     "output_type": "stream",
     "text": [
      "404 Not Found: https://iiif.wellcomecollection.org/presentation/b13136264\n"
     ]
    },
    {
     "name": "stderr",
     "output_type": "stream",
     "text": [
      "Retrying downloads:  76%|███████▌  | 1226/1609 [10:21<03:11,  2.00it/s]"
     ]
    },
    {
     "name": "stdout",
     "output_type": "stream",
     "text": [
      "404 Not Found: https://iiif.wellcomecollection.org/presentation/b10111773\n"
     ]
    },
    {
     "name": "stderr",
     "output_type": "stream",
     "text": [
      "Retrying downloads:  76%|███████▋  | 1227/1609 [10:22<03:10,  2.00it/s]"
     ]
    },
    {
     "name": "stdout",
     "output_type": "stream",
     "text": [
      "404 Not Found: https://iiif.wellcomecollection.org/presentation/b11506453\n"
     ]
    },
    {
     "name": "stderr",
     "output_type": "stream",
     "text": [
      "Retrying downloads:  76%|███████▋  | 1228/1609 [10:22<03:10,  2.00it/s]"
     ]
    },
    {
     "name": "stdout",
     "output_type": "stream",
     "text": [
      "404 Not Found: https://iiif.wellcomecollection.org/presentation/b10326352\n"
     ]
    },
    {
     "name": "stderr",
     "output_type": "stream",
     "text": [
      "Retrying downloads:  76%|███████▋  | 1229/1609 [10:23<03:06,  2.03it/s]"
     ]
    },
    {
     "name": "stdout",
     "output_type": "stream",
     "text": [
      "404 Not Found: https://iiif.wellcomecollection.org/presentation/b11144695\n"
     ]
    },
    {
     "name": "stderr",
     "output_type": "stream",
     "text": [
      "Retrying downloads:  76%|███████▋  | 1230/1609 [10:23<03:15,  1.93it/s]"
     ]
    },
    {
     "name": "stdout",
     "output_type": "stream",
     "text": [
      "404 Not Found: https://iiif.wellcomecollection.org/presentation/b10779279\n"
     ]
    },
    {
     "name": "stderr",
     "output_type": "stream",
     "text": [
      "Retrying downloads:  77%|███████▋  | 1231/1609 [10:24<03:09,  2.00it/s]"
     ]
    },
    {
     "name": "stdout",
     "output_type": "stream",
     "text": [
      "404 Not Found: https://iiif.wellcomecollection.org/presentation/b11142364\n"
     ]
    },
    {
     "name": "stderr",
     "output_type": "stream",
     "text": [
      "Retrying downloads:  77%|███████▋  | 1232/1609 [10:24<03:05,  2.03it/s]"
     ]
    },
    {
     "name": "stdout",
     "output_type": "stream",
     "text": [
      "404 Not Found: https://iiif.wellcomecollection.org/presentation/b14583665\n"
     ]
    },
    {
     "name": "stderr",
     "output_type": "stream",
     "text": [
      "Retrying downloads:  77%|███████▋  | 1233/1609 [10:25<03:03,  2.05it/s]"
     ]
    },
    {
     "name": "stdout",
     "output_type": "stream",
     "text": [
      "404 Not Found: https://iiif.wellcomecollection.org/presentation/b14586307\n"
     ]
    },
    {
     "name": "stderr",
     "output_type": "stream",
     "text": [
      "Retrying downloads:  77%|███████▋  | 1234/1609 [10:25<03:00,  2.08it/s]"
     ]
    },
    {
     "name": "stdout",
     "output_type": "stream",
     "text": [
      "404 Not Found: https://iiif.wellcomecollection.org/presentation/b12179309\n"
     ]
    },
    {
     "name": "stderr",
     "output_type": "stream",
     "text": [
      "Retrying downloads:  77%|███████▋  | 1235/1609 [10:25<02:57,  2.10it/s]"
     ]
    },
    {
     "name": "stdout",
     "output_type": "stream",
     "text": [
      "404 Not Found: https://iiif.wellcomecollection.org/presentation/b13261307\n"
     ]
    },
    {
     "name": "stderr",
     "output_type": "stream",
     "text": [
      "Retrying downloads:  77%|███████▋  | 1236/1609 [10:26<03:05,  2.01it/s]"
     ]
    },
    {
     "name": "stdout",
     "output_type": "stream",
     "text": [
      "404 Not Found: https://iiif.wellcomecollection.org/presentation/b11481833\n"
     ]
    },
    {
     "name": "stderr",
     "output_type": "stream",
     "text": [
      "Retrying downloads:  77%|███████▋  | 1237/1609 [10:27<03:04,  2.02it/s]"
     ]
    },
    {
     "name": "stdout",
     "output_type": "stream",
     "text": [
      "404 Not Found: https://iiif.wellcomecollection.org/presentation/b12186557\n"
     ]
    },
    {
     "name": "stderr",
     "output_type": "stream",
     "text": [
      "Retrying downloads:  77%|███████▋  | 1238/1609 [10:27<03:00,  2.06it/s]"
     ]
    },
    {
     "name": "stdout",
     "output_type": "stream",
     "text": [
      "404 Not Found: https://iiif.wellcomecollection.org/presentation/b12966125\n"
     ]
    },
    {
     "name": "stderr",
     "output_type": "stream",
     "text": [
      "Retrying downloads:  77%|███████▋  | 1239/1609 [10:27<02:59,  2.06it/s]"
     ]
    },
    {
     "name": "stdout",
     "output_type": "stream",
     "text": [
      "404 Not Found: https://iiif.wellcomecollection.org/presentation/b10112339\n"
     ]
    },
    {
     "name": "stderr",
     "output_type": "stream",
     "text": [
      "Retrying downloads:  77%|███████▋  | 1240/1609 [10:28<03:03,  2.01it/s]"
     ]
    },
    {
     "name": "stdout",
     "output_type": "stream",
     "text": [
      "404 Not Found: https://iiif.wellcomecollection.org/presentation/b10400485\n"
     ]
    },
    {
     "name": "stderr",
     "output_type": "stream",
     "text": [
      "Retrying downloads:  77%|███████▋  | 1241/1609 [10:29<03:05,  1.99it/s]"
     ]
    },
    {
     "name": "stdout",
     "output_type": "stream",
     "text": [
      "404 Not Found: https://iiif.wellcomecollection.org/presentation/b10110033\n"
     ]
    },
    {
     "name": "stderr",
     "output_type": "stream",
     "text": [
      "Retrying downloads:  77%|███████▋  | 1242/1609 [10:29<03:05,  1.98it/s]"
     ]
    },
    {
     "name": "stdout",
     "output_type": "stream",
     "text": [
      "404 Not Found: https://iiif.wellcomecollection.org/presentation/b10286032\n"
     ]
    },
    {
     "name": "stderr",
     "output_type": "stream",
     "text": [
      "Retrying downloads:  77%|███████▋  | 1243/1609 [10:29<03:00,  2.03it/s]"
     ]
    },
    {
     "name": "stdout",
     "output_type": "stream",
     "text": [
      "404 Not Found: https://iiif.wellcomecollection.org/presentation/b10110136\n"
     ]
    },
    {
     "name": "stderr",
     "output_type": "stream",
     "text": [
      "Retrying downloads:  77%|███████▋  | 1244/1609 [10:30<02:59,  2.04it/s]"
     ]
    },
    {
     "name": "stdout",
     "output_type": "stream",
     "text": [
      "404 Not Found: https://iiif.wellcomecollection.org/presentation/b12180361\n"
     ]
    },
    {
     "name": "stderr",
     "output_type": "stream",
     "text": [
      "Retrying downloads:  77%|███████▋  | 1245/1609 [10:30<02:54,  2.08it/s]"
     ]
    },
    {
     "name": "stdout",
     "output_type": "stream",
     "text": [
      "404 Not Found: https://iiif.wellcomecollection.org/presentation/b13142562\n"
     ]
    },
    {
     "name": "stderr",
     "output_type": "stream",
     "text": [
      "Retrying downloads:  77%|███████▋  | 1246/1609 [10:31<02:55,  2.07it/s]"
     ]
    },
    {
     "name": "stdout",
     "output_type": "stream",
     "text": [
      "404 Not Found: https://iiif.wellcomecollection.org/presentation/b16440420\n"
     ]
    },
    {
     "name": "stderr",
     "output_type": "stream",
     "text": [
      "Retrying downloads:  78%|███████▊  | 1247/1609 [10:31<02:56,  2.06it/s]"
     ]
    },
    {
     "name": "stdout",
     "output_type": "stream",
     "text": [
      "404 Not Found: https://iiif.wellcomecollection.org/presentation/b10320969\n"
     ]
    },
    {
     "name": "stderr",
     "output_type": "stream",
     "text": [
      "Retrying downloads:  78%|███████▊  | 1248/1609 [10:32<02:57,  2.04it/s]"
     ]
    },
    {
     "name": "stdout",
     "output_type": "stream",
     "text": [
      "404 Not Found: https://iiif.wellcomecollection.org/presentation/b10618284\n"
     ]
    },
    {
     "name": "stderr",
     "output_type": "stream",
     "text": [
      "Retrying downloads:  78%|███████▊  | 1249/1609 [10:32<03:03,  1.97it/s]"
     ]
    },
    {
     "name": "stdout",
     "output_type": "stream",
     "text": [
      "404 Not Found: https://iiif.wellcomecollection.org/presentation/b10865561\n"
     ]
    },
    {
     "name": "stderr",
     "output_type": "stream",
     "text": [
      "Retrying downloads:  78%|███████▊  | 1250/1609 [10:33<02:58,  2.01it/s]"
     ]
    },
    {
     "name": "stdout",
     "output_type": "stream",
     "text": [
      "404 Not Found: https://iiif.wellcomecollection.org/presentation/b11210941\n"
     ]
    },
    {
     "name": "stderr",
     "output_type": "stream",
     "text": [
      "Retrying downloads:  78%|███████▊  | 1251/1609 [10:33<02:57,  2.01it/s]"
     ]
    },
    {
     "name": "stdout",
     "output_type": "stream",
     "text": [
      "404 Not Found: https://iiif.wellcomecollection.org/presentation/b11137526\n"
     ]
    },
    {
     "name": "stderr",
     "output_type": "stream",
     "text": [
      "Retrying downloads:  78%|███████▊  | 1253/1609 [10:36<05:12,  1.14it/s]"
     ]
    },
    {
     "name": "stdout",
     "output_type": "stream",
     "text": [
      "404 Not Found: https://iiif.wellcomecollection.org/presentation/b1098673x\n"
     ]
    },
    {
     "name": "stderr",
     "output_type": "stream",
     "text": [
      "Retrying downloads:  78%|███████▊  | 1254/1609 [10:37<04:31,  1.31it/s]"
     ]
    },
    {
     "name": "stdout",
     "output_type": "stream",
     "text": [
      "404 Not Found: https://iiif.wellcomecollection.org/presentation/b10964162\n"
     ]
    },
    {
     "name": "stderr",
     "output_type": "stream",
     "text": [
      "Retrying downloads:  78%|███████▊  | 1255/1609 [10:37<04:02,  1.46it/s]"
     ]
    },
    {
     "name": "stdout",
     "output_type": "stream",
     "text": [
      "404 Not Found: https://iiif.wellcomecollection.org/presentation/b11056721\n"
     ]
    },
    {
     "name": "stderr",
     "output_type": "stream",
     "text": [
      "Retrying downloads:  78%|███████▊  | 1256/1609 [10:38<03:40,  1.60it/s]"
     ]
    },
    {
     "name": "stdout",
     "output_type": "stream",
     "text": [
      "404 Not Found: https://iiif.wellcomecollection.org/presentation/b12178676\n"
     ]
    },
    {
     "name": "stderr",
     "output_type": "stream",
     "text": [
      "Retrying downloads:  78%|███████▊  | 1257/1609 [10:38<03:28,  1.69it/s]"
     ]
    },
    {
     "name": "stdout",
     "output_type": "stream",
     "text": [
      "404 Not Found: https://iiif.wellcomecollection.org/presentation/b12971327\n"
     ]
    },
    {
     "name": "stderr",
     "output_type": "stream",
     "text": [
      "Retrying downloads:  78%|███████▊  | 1258/1609 [10:39<03:22,  1.73it/s]"
     ]
    },
    {
     "name": "stdout",
     "output_type": "stream",
     "text": [
      "404 Not Found: https://iiif.wellcomecollection.org/presentation/b1730541x\n"
     ]
    },
    {
     "name": "stderr",
     "output_type": "stream",
     "text": [
      "Retrying downloads:  78%|███████▊  | 1259/1609 [10:39<03:11,  1.83it/s]"
     ]
    },
    {
     "name": "stdout",
     "output_type": "stream",
     "text": [
      "404 Not Found: https://iiif.wellcomecollection.org/presentation/b11057798\n"
     ]
    },
    {
     "name": "stderr",
     "output_type": "stream",
     "text": [
      "Retrying downloads:  78%|███████▊  | 1260/1609 [10:40<03:01,  1.92it/s]"
     ]
    },
    {
     "name": "stdout",
     "output_type": "stream",
     "text": [
      "404 Not Found: https://iiif.wellcomecollection.org/presentation/b12979673\n"
     ]
    },
    {
     "name": "stderr",
     "output_type": "stream",
     "text": [
      "Retrying downloads:  78%|███████▊  | 1261/1609 [10:40<02:54,  2.00it/s]"
     ]
    },
    {
     "name": "stdout",
     "output_type": "stream",
     "text": [
      "404 Not Found: https://iiif.wellcomecollection.org/presentation/b13256233\n"
     ]
    },
    {
     "name": "stderr",
     "output_type": "stream",
     "text": [
      "Retrying downloads:  78%|███████▊  | 1262/1609 [10:41<02:51,  2.02it/s]"
     ]
    },
    {
     "name": "stdout",
     "output_type": "stream",
     "text": [
      "404 Not Found: https://iiif.wellcomecollection.org/presentation/b12665368\n"
     ]
    },
    {
     "name": "stderr",
     "output_type": "stream",
     "text": [
      "Retrying downloads:  78%|███████▊  | 1263/1609 [10:41<02:53,  2.00it/s]"
     ]
    },
    {
     "name": "stdout",
     "output_type": "stream",
     "text": [
      "404 Not Found: https://iiif.wellcomecollection.org/presentation/b10110835\n"
     ]
    },
    {
     "name": "stderr",
     "output_type": "stream",
     "text": [
      "Retrying downloads:  79%|███████▊  | 1264/1609 [10:42<02:53,  1.98it/s]"
     ]
    },
    {
     "name": "stdout",
     "output_type": "stream",
     "text": [
      "404 Not Found: https://iiif.wellcomecollection.org/presentation/b14558683\n"
     ]
    },
    {
     "name": "stderr",
     "output_type": "stream",
     "text": [
      "Retrying downloads:  79%|███████▊  | 1265/1609 [10:42<02:51,  2.01it/s]"
     ]
    },
    {
     "name": "stdout",
     "output_type": "stream",
     "text": [
      "404 Not Found: https://iiif.wellcomecollection.org/presentation/b13062992\n"
     ]
    },
    {
     "name": "stderr",
     "output_type": "stream",
     "text": [
      "Retrying downloads:  79%|███████▊  | 1266/1609 [10:43<02:51,  2.00it/s]"
     ]
    },
    {
     "name": "stdout",
     "output_type": "stream",
     "text": [
      "404 Not Found: https://iiif.wellcomecollection.org/presentation/b10327484\n"
     ]
    },
    {
     "name": "stderr",
     "output_type": "stream",
     "text": [
      "Retrying downloads:  79%|███████▊  | 1267/1609 [10:43<02:49,  2.02it/s]"
     ]
    },
    {
     "name": "stdout",
     "output_type": "stream",
     "text": [
      "404 Not Found: https://iiif.wellcomecollection.org/presentation/b14562303\n"
     ]
    },
    {
     "name": "stderr",
     "output_type": "stream",
     "text": [
      "Retrying downloads:  79%|███████▉  | 1268/1609 [10:44<02:48,  2.02it/s]"
     ]
    },
    {
     "name": "stdout",
     "output_type": "stream",
     "text": [
      "404 Not Found: https://iiif.wellcomecollection.org/presentation/b12180798\n"
     ]
    },
    {
     "name": "stderr",
     "output_type": "stream",
     "text": [
      "Retrying downloads:  79%|███████▉  | 1269/1609 [10:44<02:50,  2.00it/s]"
     ]
    },
    {
     "name": "stdout",
     "output_type": "stream",
     "text": [
      "404 Not Found: https://iiif.wellcomecollection.org/presentation/b11055339\n"
     ]
    },
    {
     "name": "stderr",
     "output_type": "stream",
     "text": [
      "Retrying downloads:  79%|███████▉  | 1270/1609 [10:45<02:51,  1.98it/s]"
     ]
    },
    {
     "name": "stdout",
     "output_type": "stream",
     "text": [
      "404 Not Found: https://iiif.wellcomecollection.org/presentation/b10927268\n"
     ]
    },
    {
     "name": "stderr",
     "output_type": "stream",
     "text": [
      "Retrying downloads:  79%|███████▉  | 1271/1609 [10:45<02:46,  2.03it/s]"
     ]
    },
    {
     "name": "stdout",
     "output_type": "stream",
     "text": [
      "404 Not Found: https://iiif.wellcomecollection.org/presentation/b13135727\n"
     ]
    },
    {
     "name": "stderr",
     "output_type": "stream",
     "text": [
      "Retrying downloads:  79%|███████▉  | 1272/1609 [10:46<02:47,  2.01it/s]"
     ]
    },
    {
     "name": "stdout",
     "output_type": "stream",
     "text": [
      "404 Not Found: https://iiif.wellcomecollection.org/presentation/b10766108\n"
     ]
    },
    {
     "name": "stderr",
     "output_type": "stream",
     "text": [
      "Retrying downloads:  79%|███████▉  | 1273/1609 [10:46<02:46,  2.01it/s]"
     ]
    },
    {
     "name": "stdout",
     "output_type": "stream",
     "text": [
      "404 Not Found: https://iiif.wellcomecollection.org/presentation/b10109006\n"
     ]
    },
    {
     "name": "stderr",
     "output_type": "stream",
     "text": [
      "Retrying downloads:  79%|███████▉  | 1274/1609 [10:47<02:48,  1.99it/s]"
     ]
    },
    {
     "name": "stdout",
     "output_type": "stream",
     "text": [
      "404 Not Found: https://iiif.wellcomecollection.org/presentation/b12155834\n"
     ]
    },
    {
     "name": "stderr",
     "output_type": "stream",
     "text": [
      "Retrying downloads:  79%|███████▉  | 1275/1609 [10:47<02:45,  2.02it/s]"
     ]
    },
    {
     "name": "stdout",
     "output_type": "stream",
     "text": [
      "404 Not Found: https://iiif.wellcomecollection.org/presentation/b12179875\n"
     ]
    },
    {
     "name": "stderr",
     "output_type": "stream",
     "text": [
      "Retrying downloads:  79%|███████▉  | 1276/1609 [10:48<02:40,  2.07it/s]"
     ]
    },
    {
     "name": "stdout",
     "output_type": "stream",
     "text": [
      "404 Not Found: https://iiif.wellcomecollection.org/presentation/b13147298\n"
     ]
    },
    {
     "name": "stderr",
     "output_type": "stream",
     "text": [
      "Retrying downloads:  79%|███████▉  | 1277/1609 [10:48<02:40,  2.07it/s]"
     ]
    },
    {
     "name": "stdout",
     "output_type": "stream",
     "text": [
      "404 Not Found: https://iiif.wellcomecollection.org/presentation/b10112352\n"
     ]
    },
    {
     "name": "stderr",
     "output_type": "stream",
     "text": [
      "Retrying downloads:  79%|███████▉  | 1278/1609 [10:49<02:38,  2.08it/s]"
     ]
    },
    {
     "name": "stdout",
     "output_type": "stream",
     "text": [
      "404 Not Found: https://iiif.wellcomecollection.org/presentation/b12207482\n"
     ]
    },
    {
     "name": "stderr",
     "output_type": "stream",
     "text": [
      "Retrying downloads:  79%|███████▉  | 1279/1609 [10:49<02:38,  2.08it/s]"
     ]
    },
    {
     "name": "stdout",
     "output_type": "stream",
     "text": [
      "404 Not Found: https://iiif.wellcomecollection.org/presentation/b12202125\n"
     ]
    },
    {
     "name": "stderr",
     "output_type": "stream",
     "text": [
      "Retrying downloads:  80%|███████▉  | 1280/1609 [10:50<02:38,  2.08it/s]"
     ]
    },
    {
     "name": "stdout",
     "output_type": "stream",
     "text": [
      "404 Not Found: https://iiif.wellcomecollection.org/presentation/b13134462\n"
     ]
    },
    {
     "name": "stderr",
     "output_type": "stream",
     "text": [
      "Retrying downloads:  80%|███████▉  | 1281/1609 [10:50<02:37,  2.08it/s]"
     ]
    },
    {
     "name": "stdout",
     "output_type": "stream",
     "text": [
      "404 Not Found: https://iiif.wellcomecollection.org/presentation/b11148305\n"
     ]
    },
    {
     "name": "stderr",
     "output_type": "stream",
     "text": [
      "Retrying downloads:  80%|███████▉  | 1282/1609 [10:50<02:38,  2.06it/s]"
     ]
    },
    {
     "name": "stdout",
     "output_type": "stream",
     "text": [
      "404 Not Found: https://iiif.wellcomecollection.org/presentation/b1106058x\n"
     ]
    },
    {
     "name": "stderr",
     "output_type": "stream",
     "text": [
      "Retrying downloads:  80%|███████▉  | 1283/1609 [10:51<02:37,  2.07it/s]"
     ]
    },
    {
     "name": "stdout",
     "output_type": "stream",
     "text": [
      "404 Not Found: https://iiif.wellcomecollection.org/presentation/b1082263x\n"
     ]
    },
    {
     "name": "stderr",
     "output_type": "stream",
     "text": [
      "Retrying downloads:  80%|███████▉  | 1284/1609 [10:51<02:11,  2.46it/s]"
     ]
    },
    {
     "name": "stdout",
     "output_type": "stream",
     "text": [
      "404 Not Found: https://iiif.wellcomecollection.org/presentation/4\n"
     ]
    },
    {
     "name": "stderr",
     "output_type": "stream",
     "text": [
      "Retrying downloads:  80%|███████▉  | 1285/1609 [10:52<02:19,  2.32it/s]"
     ]
    },
    {
     "name": "stdout",
     "output_type": "stream",
     "text": [
      "404 Not Found: https://iiif.wellcomecollection.org/presentation/b11512763\n"
     ]
    },
    {
     "name": "stderr",
     "output_type": "stream",
     "text": [
      "Retrying downloads:  80%|███████▉  | 1286/1609 [10:52<02:26,  2.21it/s]"
     ]
    },
    {
     "name": "stdout",
     "output_type": "stream",
     "text": [
      "404 Not Found: https://iiif.wellcomecollection.org/presentation/b11145365\n"
     ]
    },
    {
     "name": "stderr",
     "output_type": "stream",
     "text": [
      "Retrying downloads:  80%|███████▉  | 1287/1609 [10:53<02:27,  2.19it/s]"
     ]
    },
    {
     "name": "stdout",
     "output_type": "stream",
     "text": [
      "404 Not Found: https://iiif.wellcomecollection.org/presentation/b12946801\n"
     ]
    },
    {
     "name": "stderr",
     "output_type": "stream",
     "text": [
      "Retrying downloads:  80%|████████  | 1288/1609 [10:53<02:29,  2.15it/s]"
     ]
    },
    {
     "name": "stdout",
     "output_type": "stream",
     "text": [
      "404 Not Found: https://iiif.wellcomecollection.org/presentation/b10107186\n"
     ]
    },
    {
     "name": "stderr",
     "output_type": "stream",
     "text": [
      "Retrying downloads:  80%|████████  | 1289/1609 [10:54<02:32,  2.10it/s]"
     ]
    },
    {
     "name": "stdout",
     "output_type": "stream",
     "text": [
      "404 Not Found: https://iiif.wellcomecollection.org/presentation/b10928182\n"
     ]
    },
    {
     "name": "stderr",
     "output_type": "stream",
     "text": [
      "Retrying downloads:  80%|████████  | 1290/1609 [10:54<02:30,  2.12it/s]"
     ]
    },
    {
     "name": "stdout",
     "output_type": "stream",
     "text": [
      "404 Not Found: https://iiif.wellcomecollection.org/presentation/b13256749\n"
     ]
    },
    {
     "name": "stderr",
     "output_type": "stream",
     "text": [
      "Retrying downloads:  80%|████████  | 1291/1609 [10:55<02:36,  2.03it/s]"
     ]
    },
    {
     "name": "stdout",
     "output_type": "stream",
     "text": [
      "404 Not Found: https://iiif.wellcomecollection.org/presentation/b13462039\n"
     ]
    },
    {
     "name": "stderr",
     "output_type": "stream",
     "text": [
      "Retrying downloads:  80%|████████  | 1292/1609 [10:55<02:35,  2.04it/s]"
     ]
    },
    {
     "name": "stdout",
     "output_type": "stream",
     "text": [
      "404 Not Found: https://iiif.wellcomecollection.org/presentation/b10770173\n"
     ]
    },
    {
     "name": "stderr",
     "output_type": "stream",
     "text": [
      "Retrying downloads:  80%|████████  | 1293/1609 [10:56<02:33,  2.05it/s]"
     ]
    },
    {
     "name": "stdout",
     "output_type": "stream",
     "text": [
      "404 Not Found: https://iiif.wellcomecollection.org/presentation/b13266068\n"
     ]
    },
    {
     "name": "stderr",
     "output_type": "stream",
     "text": [
      "Retrying downloads:  80%|████████  | 1294/1609 [10:56<02:44,  1.91it/s]"
     ]
    },
    {
     "name": "stdout",
     "output_type": "stream",
     "text": [
      "404 Not Found: https://iiif.wellcomecollection.org/presentation/b12956387\n"
     ]
    },
    {
     "name": "stderr",
     "output_type": "stream",
     "text": [
      "Retrying downloads:  80%|████████  | 1295/1609 [10:57<02:48,  1.86it/s]"
     ]
    },
    {
     "name": "stdout",
     "output_type": "stream",
     "text": [
      "404 Not Found: https://iiif.wellcomecollection.org/presentation/b11522926\n"
     ]
    },
    {
     "name": "stderr",
     "output_type": "stream",
     "text": [
      "Retrying downloads:  81%|████████  | 1296/1609 [10:57<02:42,  1.92it/s]"
     ]
    },
    {
     "name": "stdout",
     "output_type": "stream",
     "text": [
      "404 Not Found: https://iiif.wellcomecollection.org/presentation/b10112510\n"
     ]
    },
    {
     "name": "stderr",
     "output_type": "stream",
     "text": [
      "Retrying downloads:  81%|████████  | 1297/1609 [10:58<02:36,  2.00it/s]"
     ]
    },
    {
     "name": "stdout",
     "output_type": "stream",
     "text": [
      "404 Not Found: https://iiif.wellcomecollection.org/presentation/b11055674\n"
     ]
    },
    {
     "name": "stderr",
     "output_type": "stream",
     "text": [
      "Retrying downloads:  81%|████████  | 1298/1609 [10:58<02:35,  2.00it/s]"
     ]
    },
    {
     "name": "stdout",
     "output_type": "stream",
     "text": [
      "404 Not Found: https://iiif.wellcomecollection.org/presentation/b11536226\n"
     ]
    },
    {
     "name": "stderr",
     "output_type": "stream",
     "text": [
      "Retrying downloads:  81%|████████  | 1299/1609 [10:59<02:33,  2.02it/s]"
     ]
    },
    {
     "name": "stdout",
     "output_type": "stream",
     "text": [
      "404 Not Found: https://iiif.wellcomecollection.org/presentation/b17558244\n"
     ]
    },
    {
     "name": "stderr",
     "output_type": "stream",
     "text": [
      "Retrying downloads:  81%|████████  | 1300/1609 [10:59<02:30,  2.05it/s]"
     ]
    },
    {
     "name": "stdout",
     "output_type": "stream",
     "text": [
      "404 Not Found: https://iiif.wellcomecollection.org/presentation/b13254522\n"
     ]
    },
    {
     "name": "stderr",
     "output_type": "stream",
     "text": [
      "Retrying downloads:  81%|████████  | 1301/1609 [11:00<02:35,  1.99it/s]"
     ]
    },
    {
     "name": "stdout",
     "output_type": "stream",
     "text": [
      "404 Not Found: https://iiif.wellcomecollection.org/presentation/b14581152\n"
     ]
    },
    {
     "name": "stderr",
     "output_type": "stream",
     "text": [
      "Retrying downloads:  81%|████████  | 1302/1609 [11:00<02:33,  2.00it/s]"
     ]
    },
    {
     "name": "stdout",
     "output_type": "stream",
     "text": [
      "404 Not Found: https://iiif.wellcomecollection.org/presentation/b1091593x\n"
     ]
    },
    {
     "name": "stderr",
     "output_type": "stream",
     "text": [
      "Retrying downloads:  81%|████████  | 1303/1609 [11:01<02:31,  2.02it/s]"
     ]
    },
    {
     "name": "stdout",
     "output_type": "stream",
     "text": [
      "404 Not Found: https://iiif.wellcomecollection.org/presentation/b10696271\n"
     ]
    },
    {
     "name": "stderr",
     "output_type": "stream",
     "text": [
      "Retrying downloads:  81%|████████  | 1304/1609 [11:01<02:31,  2.01it/s]"
     ]
    },
    {
     "name": "stdout",
     "output_type": "stream",
     "text": [
      "404 Not Found: https://iiif.wellcomecollection.org/presentation/b12200608\n"
     ]
    },
    {
     "name": "stderr",
     "output_type": "stream",
     "text": [
      "Retrying downloads:  81%|████████  | 1305/1609 [11:02<02:29,  2.03it/s]"
     ]
    },
    {
     "name": "stdout",
     "output_type": "stream",
     "text": [
      "404 Not Found: https://iiif.wellcomecollection.org/presentation/b12977500\n"
     ]
    },
    {
     "name": "stderr",
     "output_type": "stream",
     "text": [
      "Retrying downloads:  81%|████████  | 1306/1609 [11:02<02:29,  2.03it/s]"
     ]
    },
    {
     "name": "stdout",
     "output_type": "stream",
     "text": [
      "404 Not Found: https://iiif.wellcomecollection.org/presentation/b11201162\n"
     ]
    },
    {
     "name": "stderr",
     "output_type": "stream",
     "text": [
      "Retrying downloads:  81%|████████  | 1307/1609 [11:03<02:24,  2.09it/s]"
     ]
    },
    {
     "name": "stdout",
     "output_type": "stream",
     "text": [
      "404 Not Found: https://iiif.wellcomecollection.org/presentation/b12204924\n"
     ]
    },
    {
     "name": "stderr",
     "output_type": "stream",
     "text": [
      "Retrying downloads:  81%|████████▏ | 1308/1609 [11:03<02:26,  2.06it/s]"
     ]
    },
    {
     "name": "stdout",
     "output_type": "stream",
     "text": [
      "404 Not Found: https://iiif.wellcomecollection.org/presentation/b10108567\n"
     ]
    },
    {
     "name": "stderr",
     "output_type": "stream",
     "text": [
      "Retrying downloads:  81%|████████▏ | 1309/1609 [11:04<02:29,  2.01it/s]"
     ]
    },
    {
     "name": "stdout",
     "output_type": "stream",
     "text": [
      "404 Not Found: https://iiif.wellcomecollection.org/presentation/b10112108\n"
     ]
    },
    {
     "name": "stderr",
     "output_type": "stream",
     "text": [
      "Retrying downloads:  81%|████████▏ | 1310/1609 [11:04<02:28,  2.02it/s]"
     ]
    },
    {
     "name": "stdout",
     "output_type": "stream",
     "text": [
      "404 Not Found: https://iiif.wellcomecollection.org/presentation/b10180849\n"
     ]
    },
    {
     "name": "stderr",
     "output_type": "stream",
     "text": [
      "Retrying downloads:  81%|████████▏ | 1311/1609 [11:05<02:27,  2.03it/s]"
     ]
    },
    {
     "name": "stdout",
     "output_type": "stream",
     "text": [
      "404 Not Found: https://iiif.wellcomecollection.org/presentation/b10766297\n"
     ]
    },
    {
     "name": "stderr",
     "output_type": "stream",
     "text": [
      "Retrying downloads:  82%|████████▏ | 1312/1609 [11:05<02:27,  2.01it/s]"
     ]
    },
    {
     "name": "stdout",
     "output_type": "stream",
     "text": [
      "404 Not Found: https://iiif.wellcomecollection.org/presentation/b13151137\n"
     ]
    },
    {
     "name": "stderr",
     "output_type": "stream",
     "text": [
      "Retrying downloads:  82%|████████▏ | 1313/1609 [11:06<02:23,  2.06it/s]"
     ]
    },
    {
     "name": "stdout",
     "output_type": "stream",
     "text": [
      "404 Not Found: https://iiif.wellcomecollection.org/presentation/b10932239\n"
     ]
    },
    {
     "name": "stderr",
     "output_type": "stream",
     "text": [
      "Retrying downloads:  82%|████████▏ | 1314/1609 [11:06<02:26,  2.02it/s]"
     ]
    },
    {
     "name": "stdout",
     "output_type": "stream",
     "text": [
      "404 Not Found: https://iiif.wellcomecollection.org/presentation/b12177556\n"
     ]
    },
    {
     "name": "stderr",
     "output_type": "stream",
     "text": [
      "Retrying downloads:  82%|████████▏ | 1315/1609 [11:07<02:25,  2.02it/s]"
     ]
    },
    {
     "name": "stdout",
     "output_type": "stream",
     "text": [
      "404 Not Found: https://iiif.wellcomecollection.org/presentation/b11534163\n"
     ]
    },
    {
     "name": "stderr",
     "output_type": "stream",
     "text": [
      "Retrying downloads:  82%|████████▏ | 1316/1609 [11:07<02:28,  1.97it/s]"
     ]
    },
    {
     "name": "stdout",
     "output_type": "stream",
     "text": [
      "404 Not Found: https://iiif.wellcomecollection.org/presentation/b12155615\n"
     ]
    },
    {
     "name": "stderr",
     "output_type": "stream",
     "text": [
      "Retrying downloads:  82%|████████▏ | 1317/1609 [11:08<02:27,  1.98it/s]"
     ]
    },
    {
     "name": "stdout",
     "output_type": "stream",
     "text": [
      "404 Not Found: https://iiif.wellcomecollection.org/presentation/b1458489x\n"
     ]
    },
    {
     "name": "stderr",
     "output_type": "stream",
     "text": [
      "Retrying downloads:  82%|████████▏ | 1318/1609 [11:08<02:26,  1.98it/s]"
     ]
    },
    {
     "name": "stdout",
     "output_type": "stream",
     "text": [
      "404 Not Found: https://iiif.wellcomecollection.org/presentation/b14585716\n"
     ]
    },
    {
     "name": "stderr",
     "output_type": "stream",
     "text": [
      "Retrying downloads:  82%|████████▏ | 1319/1609 [11:09<02:25,  1.99it/s]"
     ]
    },
    {
     "name": "stdout",
     "output_type": "stream",
     "text": [
      "404 Not Found: https://iiif.wellcomecollection.org/presentation/b1305496x\n"
     ]
    },
    {
     "name": "stderr",
     "output_type": "stream",
     "text": [
      "Retrying downloads:  82%|████████▏ | 1320/1609 [11:09<02:22,  2.03it/s]"
     ]
    },
    {
     "name": "stdout",
     "output_type": "stream",
     "text": [
      "404 Not Found: https://iiif.wellcomecollection.org/presentation/b11475821\n"
     ]
    },
    {
     "name": "stderr",
     "output_type": "stream",
     "text": [
      "Retrying downloads:  82%|████████▏ | 1321/1609 [11:10<02:22,  2.02it/s]"
     ]
    },
    {
     "name": "stdout",
     "output_type": "stream",
     "text": [
      "404 Not Found: https://iiif.wellcomecollection.org/presentation/b1114791x\n"
     ]
    },
    {
     "name": "stderr",
     "output_type": "stream",
     "text": [
      "Retrying downloads:  82%|████████▏ | 1322/1609 [11:10<02:21,  2.03it/s]"
     ]
    },
    {
     "name": "stdout",
     "output_type": "stream",
     "text": [
      "404 Not Found: https://iiif.wellcomecollection.org/presentation/b12201790\n"
     ]
    },
    {
     "name": "stderr",
     "output_type": "stream",
     "text": [
      "Retrying downloads:  82%|████████▏ | 1323/1609 [11:11<02:22,  2.01it/s]"
     ]
    },
    {
     "name": "stdout",
     "output_type": "stream",
     "text": [
      "404 Not Found: https://iiif.wellcomecollection.org/presentation/b14560938\n"
     ]
    },
    {
     "name": "stderr",
     "output_type": "stream",
     "text": [
      "Retrying downloads:  82%|████████▏ | 1324/1609 [11:11<02:27,  1.93it/s]"
     ]
    },
    {
     "name": "stdout",
     "output_type": "stream",
     "text": [
      "404 Not Found: https://iiif.wellcomecollection.org/presentation/b11143332\n"
     ]
    },
    {
     "name": "stderr",
     "output_type": "stream",
     "text": [
      "Retrying downloads:  82%|████████▏ | 1325/1609 [11:12<02:22,  1.99it/s]"
     ]
    },
    {
     "name": "stdout",
     "output_type": "stream",
     "text": [
      "404 Not Found: https://iiif.wellcomecollection.org/presentation/b11055820\n"
     ]
    },
    {
     "name": "stderr",
     "output_type": "stream",
     "text": [
      "Retrying downloads:  82%|████████▏ | 1326/1609 [11:12<02:25,  1.95it/s]"
     ]
    },
    {
     "name": "stdout",
     "output_type": "stream",
     "text": [
      "404 Not Found: https://iiif.wellcomecollection.org/presentation/b10697226\n"
     ]
    },
    {
     "name": "stderr",
     "output_type": "stream",
     "text": [
      "Retrying downloads:  82%|████████▏ | 1327/1609 [11:13<02:20,  2.00it/s]"
     ]
    },
    {
     "name": "stdout",
     "output_type": "stream",
     "text": [
      "404 Not Found: https://iiif.wellcomecollection.org/presentation/b12180087\n"
     ]
    },
    {
     "name": "stderr",
     "output_type": "stream",
     "text": [
      "Retrying downloads:  83%|████████▎ | 1328/1609 [11:13<02:19,  2.02it/s]"
     ]
    },
    {
     "name": "stdout",
     "output_type": "stream",
     "text": [
      "404 Not Found: https://iiif.wellcomecollection.org/presentation/b12050751\n"
     ]
    },
    {
     "name": "stderr",
     "output_type": "stream",
     "text": [
      "Retrying downloads:  83%|████████▎ | 1329/1609 [11:14<02:19,  2.01it/s]"
     ]
    },
    {
     "name": "stdout",
     "output_type": "stream",
     "text": [
      "404 Not Found: https://iiif.wellcomecollection.org/presentation/b10109249\n"
     ]
    },
    {
     "name": "stderr",
     "output_type": "stream",
     "text": [
      "Retrying downloads:  83%|████████▎ | 1330/1609 [11:14<02:19,  2.00it/s]"
     ]
    },
    {
     "name": "stdout",
     "output_type": "stream",
     "text": [
      "404 Not Found: https://iiif.wellcomecollection.org/presentation/b17554123\n"
     ]
    },
    {
     "name": "stderr",
     "output_type": "stream",
     "text": [
      "Retrying downloads:  83%|████████▎ | 1331/1609 [11:15<02:18,  2.01it/s]"
     ]
    },
    {
     "name": "stdout",
     "output_type": "stream",
     "text": [
      "404 Not Found: https://iiif.wellcomecollection.org/presentation/b11056642\n"
     ]
    },
    {
     "name": "stderr",
     "output_type": "stream",
     "text": [
      "Retrying downloads:  83%|████████▎ | 1332/1609 [11:15<02:17,  2.01it/s]"
     ]
    },
    {
     "name": "stdout",
     "output_type": "stream",
     "text": [
      "404 Not Found: https://iiif.wellcomecollection.org/presentation/b14569619\n"
     ]
    },
    {
     "name": "stderr",
     "output_type": "stream",
     "text": [
      "Retrying downloads:  83%|████████▎ | 1333/1609 [11:16<02:17,  2.00it/s]"
     ]
    },
    {
     "name": "stdout",
     "output_type": "stream",
     "text": [
      "404 Not Found: https://iiif.wellcomecollection.org/presentation/b10183498\n"
     ]
    },
    {
     "name": "stderr",
     "output_type": "stream",
     "text": [
      "Retrying downloads:  83%|████████▎ | 1334/1609 [11:16<02:22,  1.93it/s]"
     ]
    },
    {
     "name": "stdout",
     "output_type": "stream",
     "text": [
      "404 Not Found: https://iiif.wellcomecollection.org/presentation/b13137815\n"
     ]
    },
    {
     "name": "stderr",
     "output_type": "stream",
     "text": [
      "Retrying downloads:  83%|████████▎ | 1335/1609 [11:17<02:23,  1.91it/s]"
     ]
    },
    {
     "name": "stdout",
     "output_type": "stream",
     "text": [
      "404 Not Found: https://iiif.wellcomecollection.org/presentation/b10003277\n"
     ]
    },
    {
     "name": "stderr",
     "output_type": "stream",
     "text": [
      "Retrying downloads:  83%|████████▎ | 1336/1609 [11:17<02:19,  1.96it/s]"
     ]
    },
    {
     "name": "stdout",
     "output_type": "stream",
     "text": [
      "404 Not Found: https://iiif.wellcomecollection.org/presentation/b11060128\n"
     ]
    },
    {
     "name": "stderr",
     "output_type": "stream",
     "text": [
      "Retrying downloads:  83%|████████▎ | 1337/1609 [11:18<02:16,  1.99it/s]"
     ]
    },
    {
     "name": "stdout",
     "output_type": "stream",
     "text": [
      "404 Not Found: https://iiif.wellcomecollection.org/presentation/b13251636\n"
     ]
    },
    {
     "name": "stderr",
     "output_type": "stream",
     "text": [
      "Retrying downloads:  83%|████████▎ | 1338/1609 [11:18<02:14,  2.02it/s]"
     ]
    },
    {
     "name": "stdout",
     "output_type": "stream",
     "text": [
      "404 Not Found: https://iiif.wellcomecollection.org/presentation/b10280984\n"
     ]
    },
    {
     "name": "stderr",
     "output_type": "stream",
     "text": [
      "Retrying downloads:  83%|████████▎ | 1339/1609 [11:19<02:12,  2.04it/s]"
     ]
    },
    {
     "name": "stdout",
     "output_type": "stream",
     "text": [
      "404 Not Found: https://iiif.wellcomecollection.org/presentation/b10109456\n"
     ]
    },
    {
     "name": "stderr",
     "output_type": "stream",
     "text": [
      "Retrying downloads:  83%|████████▎ | 1340/1609 [11:19<02:11,  2.05it/s]"
     ]
    },
    {
     "name": "stdout",
     "output_type": "stream",
     "text": [
      "404 Not Found: https://iiif.wellcomecollection.org/presentation/b10112716\n"
     ]
    },
    {
     "name": "stderr",
     "output_type": "stream",
     "text": [
      "Retrying downloads:  83%|████████▎ | 1341/1609 [11:20<02:22,  1.89it/s]"
     ]
    },
    {
     "name": "stdout",
     "output_type": "stream",
     "text": [
      "404 Not Found: https://iiif.wellcomecollection.org/presentation/b16440432\n"
     ]
    },
    {
     "name": "stderr",
     "output_type": "stream",
     "text": [
      "Retrying downloads:  83%|████████▎ | 1342/1609 [11:20<02:18,  1.93it/s]"
     ]
    },
    {
     "name": "stdout",
     "output_type": "stream",
     "text": [
      "404 Not Found: https://iiif.wellcomecollection.org/presentation/b14594043\n"
     ]
    },
    {
     "name": "stderr",
     "output_type": "stream",
     "text": [
      "Retrying downloads:  83%|████████▎ | 1343/1609 [11:21<02:15,  1.96it/s]"
     ]
    },
    {
     "name": "stdout",
     "output_type": "stream",
     "text": [
      "404 Not Found: https://iiif.wellcomecollection.org/presentation/b10332972\n"
     ]
    },
    {
     "name": "stderr",
     "output_type": "stream",
     "text": [
      "Retrying downloads:  84%|████████▎ | 1344/1609 [11:21<02:13,  1.98it/s]"
     ]
    },
    {
     "name": "stdout",
     "output_type": "stream",
     "text": [
      "404 Not Found: https://iiif.wellcomecollection.org/presentation/b1033063x\n"
     ]
    },
    {
     "name": "stderr",
     "output_type": "stream",
     "text": [
      "Retrying downloads:  84%|████████▎ | 1345/1609 [11:22<02:13,  1.98it/s]"
     ]
    },
    {
     "name": "stdout",
     "output_type": "stream",
     "text": [
      "404 Not Found: https://iiif.wellcomecollection.org/presentation/b1459416x\n"
     ]
    },
    {
     "name": "stderr",
     "output_type": "stream",
     "text": [
      "Retrying downloads:  84%|████████▎ | 1346/1609 [11:22<02:07,  2.06it/s]"
     ]
    },
    {
     "name": "stdout",
     "output_type": "stream",
     "text": [
      "404 Not Found: https://iiif.wellcomecollection.org/presentation/b11534369\n"
     ]
    },
    {
     "name": "stderr",
     "output_type": "stream",
     "text": [
      "Retrying downloads:  84%|████████▎ | 1347/1609 [11:23<02:07,  2.06it/s]"
     ]
    },
    {
     "name": "stdout",
     "output_type": "stream",
     "text": [
      "404 Not Found: https://iiif.wellcomecollection.org/presentation/b14569085\n"
     ]
    },
    {
     "name": "stderr",
     "output_type": "stream",
     "text": [
      "Retrying downloads:  84%|████████▍ | 1348/1609 [11:23<01:53,  2.29it/s]"
     ]
    },
    {
     "name": "stdout",
     "output_type": "stream",
     "text": [
      "404 Not Found: https://iiif.wellcomecollection.org/presentation/b11513391\n"
     ]
    },
    {
     "name": "stderr",
     "output_type": "stream",
     "text": [
      "Retrying downloads:  84%|████████▍ | 1349/1609 [11:23<01:54,  2.26it/s]"
     ]
    },
    {
     "name": "stdout",
     "output_type": "stream",
     "text": [
      "404 Not Found: https://iiif.wellcomecollection.org/presentation/b11198382\n"
     ]
    },
    {
     "name": "stderr",
     "output_type": "stream",
     "text": [
      "Retrying downloads:  84%|████████▍ | 1350/1609 [11:24<01:57,  2.21it/s]"
     ]
    },
    {
     "name": "stdout",
     "output_type": "stream",
     "text": [
      "404 Not Found: https://iiif.wellcomecollection.org/presentation/b10991773\n"
     ]
    },
    {
     "name": "stderr",
     "output_type": "stream",
     "text": [
      "Retrying downloads:  84%|████████▍ | 1351/1609 [11:24<02:01,  2.12it/s]"
     ]
    },
    {
     "name": "stdout",
     "output_type": "stream",
     "text": [
      "404 Not Found: https://iiif.wellcomecollection.org/presentation/b11028166\n"
     ]
    },
    {
     "name": "stderr",
     "output_type": "stream",
     "text": [
      "Retrying downloads:  84%|████████▍ | 1352/1609 [11:25<02:01,  2.12it/s]"
     ]
    },
    {
     "name": "stdout",
     "output_type": "stream",
     "text": [
      "404 Not Found: https://iiif.wellcomecollection.org/presentation/b12954196\n"
     ]
    },
    {
     "name": "stderr",
     "output_type": "stream",
     "text": [
      "Retrying downloads:  84%|████████▍ | 1353/1609 [11:25<02:01,  2.10it/s]"
     ]
    },
    {
     "name": "stdout",
     "output_type": "stream",
     "text": [
      "404 Not Found: https://iiif.wellcomecollection.org/presentation/b11145699\n"
     ]
    },
    {
     "name": "stderr",
     "output_type": "stream",
     "text": [
      "Retrying downloads:  84%|████████▍ | 1354/1609 [11:26<02:02,  2.09it/s]"
     ]
    },
    {
     "name": "stdout",
     "output_type": "stream",
     "text": [
      "404 Not Found: https://iiif.wellcomecollection.org/presentation/b10175283\n"
     ]
    },
    {
     "name": "stderr",
     "output_type": "stream",
     "text": [
      "Retrying downloads:  84%|████████▍ | 1355/1609 [11:26<02:03,  2.06it/s]"
     ]
    },
    {
     "name": "stdout",
     "output_type": "stream",
     "text": [
      "404 Not Found: https://iiif.wellcomecollection.org/presentation/b12948172\n"
     ]
    },
    {
     "name": "stderr",
     "output_type": "stream",
     "text": [
      "Retrying downloads:  84%|████████▍ | 1356/1609 [11:27<02:05,  2.02it/s]"
     ]
    },
    {
     "name": "stdout",
     "output_type": "stream",
     "text": [
      "404 Not Found: https://iiif.wellcomecollection.org/presentation/b13149271\n"
     ]
    },
    {
     "name": "stderr",
     "output_type": "stream",
     "text": [
      "Retrying downloads:  84%|████████▍ | 1357/1609 [11:27<02:05,  2.01it/s]"
     ]
    },
    {
     "name": "stdout",
     "output_type": "stream",
     "text": [
      "404 Not Found: https://iiif.wellcomecollection.org/presentation/b10112534\n"
     ]
    },
    {
     "name": "stderr",
     "output_type": "stream",
     "text": [
      "Retrying downloads:  84%|████████▍ | 1358/1609 [11:28<02:05,  2.00it/s]"
     ]
    },
    {
     "name": "stdout",
     "output_type": "stream",
     "text": [
      "404 Not Found: https://iiif.wellcomecollection.org/presentation/b14566084\n"
     ]
    },
    {
     "name": "stderr",
     "output_type": "stream",
     "text": [
      "Retrying downloads:  84%|████████▍ | 1359/1609 [11:29<02:19,  1.79it/s]"
     ]
    },
    {
     "name": "stdout",
     "output_type": "stream",
     "text": [
      "404 Not Found: https://iiif.wellcomecollection.org/presentation/b1314697x\n"
     ]
    },
    {
     "name": "stderr",
     "output_type": "stream",
     "text": [
      "Retrying downloads:  85%|████████▍ | 1360/1609 [11:29<02:11,  1.89it/s]"
     ]
    },
    {
     "name": "stdout",
     "output_type": "stream",
     "text": [
      "404 Not Found: https://iiif.wellcomecollection.org/presentation/b12840956\n"
     ]
    },
    {
     "name": "stderr",
     "output_type": "stream",
     "text": [
      "Retrying downloads:  85%|████████▍ | 1361/1609 [11:30<02:08,  1.93it/s]"
     ]
    },
    {
     "name": "stdout",
     "output_type": "stream",
     "text": [
      "404 Not Found: https://iiif.wellcomecollection.org/presentation/b13255496\n"
     ]
    },
    {
     "name": "stderr",
     "output_type": "stream",
     "text": [
      "Retrying downloads:  85%|████████▍ | 1362/1609 [11:30<02:27,  1.68it/s]"
     ]
    },
    {
     "name": "stdout",
     "output_type": "stream",
     "text": [
      "404 Not Found: https://iiif.wellcomecollection.org/presentation/b12181717\n"
     ]
    },
    {
     "name": "stderr",
     "output_type": "stream",
     "text": [
      "Retrying downloads:  85%|████████▍ | 1363/1609 [11:31<02:19,  1.76it/s]"
     ]
    },
    {
     "name": "stdout",
     "output_type": "stream",
     "text": [
      "404 Not Found: https://iiif.wellcomecollection.org/presentation/b12178627\n"
     ]
    },
    {
     "name": "stderr",
     "output_type": "stream",
     "text": [
      "Retrying downloads:  85%|████████▍ | 1364/1609 [11:31<02:12,  1.84it/s]"
     ]
    },
    {
     "name": "stdout",
     "output_type": "stream",
     "text": [
      "404 Not Found: https://iiif.wellcomecollection.org/presentation/b12822541\n"
     ]
    },
    {
     "name": "stderr",
     "output_type": "stream",
     "text": [
      "Retrying downloads:  85%|████████▍ | 1365/1609 [11:32<02:07,  1.91it/s]"
     ]
    },
    {
     "name": "stdout",
     "output_type": "stream",
     "text": [
      "404 Not Found: https://iiif.wellcomecollection.org/presentation/b12972757\n"
     ]
    },
    {
     "name": "stderr",
     "output_type": "stream",
     "text": [
      "Retrying downloads:  85%|████████▍ | 1366/1609 [11:32<02:09,  1.87it/s]"
     ]
    },
    {
     "name": "stdout",
     "output_type": "stream",
     "text": [
      "404 Not Found: https://iiif.wellcomecollection.org/presentation/b13055847\n"
     ]
    },
    {
     "name": "stderr",
     "output_type": "stream",
     "text": [
      "Retrying downloads:  85%|████████▍ | 1367/1609 [11:33<02:05,  1.93it/s]"
     ]
    },
    {
     "name": "stdout",
     "output_type": "stream",
     "text": [
      "404 Not Found: https://iiif.wellcomecollection.org/presentation/b14561244\n"
     ]
    },
    {
     "name": "stderr",
     "output_type": "stream",
     "text": [
      "Retrying downloads:  85%|████████▌ | 1368/1609 [11:33<02:01,  1.99it/s]"
     ]
    },
    {
     "name": "stdout",
     "output_type": "stream",
     "text": [
      "404 Not Found: https://iiif.wellcomecollection.org/presentation/b13256324\n"
     ]
    },
    {
     "name": "stderr",
     "output_type": "stream",
     "text": [
      "Retrying downloads:  85%|████████▌ | 1369/1609 [11:34<02:01,  1.97it/s]"
     ]
    },
    {
     "name": "stdout",
     "output_type": "stream",
     "text": [
      "404 Not Found: https://iiif.wellcomecollection.org/presentation/b11148925\n"
     ]
    },
    {
     "name": "stderr",
     "output_type": "stream",
     "text": [
      "Retrying downloads:  85%|████████▌ | 1370/1609 [11:34<02:00,  1.98it/s]"
     ]
    },
    {
     "name": "stdout",
     "output_type": "stream",
     "text": [
      "404 Not Found: https://iiif.wellcomecollection.org/presentation/b12951201\n"
     ]
    },
    {
     "name": "stderr",
     "output_type": "stream",
     "text": [
      "Retrying downloads:  85%|████████▌ | 1371/1609 [11:35<01:59,  2.00it/s]"
     ]
    },
    {
     "name": "stdout",
     "output_type": "stream",
     "text": [
      "404 Not Found: https://iiif.wellcomecollection.org/presentation/b14584189\n"
     ]
    },
    {
     "name": "stderr",
     "output_type": "stream",
     "text": [
      "Retrying downloads:  85%|████████▌ | 1372/1609 [11:35<01:57,  2.02it/s]"
     ]
    },
    {
     "name": "stdout",
     "output_type": "stream",
     "text": [
      "404 Not Found: https://iiif.wellcomecollection.org/presentation/b12984693\n"
     ]
    },
    {
     "name": "stderr",
     "output_type": "stream",
     "text": [
      "Retrying downloads:  85%|████████▌ | 1373/1609 [11:36<01:59,  1.98it/s]"
     ]
    },
    {
     "name": "stdout",
     "output_type": "stream",
     "text": [
      "404 Not Found: https://iiif.wellcomecollection.org/presentation/b16430852\n"
     ]
    },
    {
     "name": "stderr",
     "output_type": "stream",
     "text": [
      "Retrying downloads:  85%|████████▌ | 1374/1609 [11:36<01:56,  2.01it/s]"
     ]
    },
    {
     "name": "stdout",
     "output_type": "stream",
     "text": [
      "404 Not Found: https://iiif.wellcomecollection.org/presentation/b10109341\n"
     ]
    },
    {
     "name": "stderr",
     "output_type": "stream",
     "text": [
      "Retrying downloads:  85%|████████▌ | 1375/1609 [11:37<01:38,  2.37it/s]"
     ]
    },
    {
     "name": "stdout",
     "output_type": "stream",
     "text": [
      "404 Not Found: https://iiif.wellcomecollection.org/presentation/b30679461\n"
     ]
    },
    {
     "name": "stderr",
     "output_type": "stream",
     "text": [
      "Retrying downloads:  86%|████████▌ | 1376/1609 [11:37<01:42,  2.28it/s]"
     ]
    },
    {
     "name": "stdout",
     "output_type": "stream",
     "text": [
      "404 Not Found: https://iiif.wellcomecollection.org/presentation/b11523219\n"
     ]
    },
    {
     "name": "stderr",
     "output_type": "stream",
     "text": [
      "Retrying downloads:  86%|████████▌ | 1377/1609 [11:38<01:47,  2.17it/s]"
     ]
    },
    {
     "name": "stdout",
     "output_type": "stream",
     "text": [
      "404 Not Found: https://iiif.wellcomecollection.org/presentation/b10930085\n"
     ]
    },
    {
     "name": "stderr",
     "output_type": "stream",
     "text": [
      "Retrying downloads:  86%|████████▌ | 1378/1609 [11:38<01:48,  2.12it/s]"
     ]
    },
    {
     "name": "stdout",
     "output_type": "stream",
     "text": [
      "404 Not Found: https://iiif.wellcomecollection.org/presentation/b10866504\n"
     ]
    },
    {
     "name": "stderr",
     "output_type": "stream",
     "text": [
      "Retrying downloads:  86%|████████▌ | 1379/1609 [11:39<01:53,  2.03it/s]"
     ]
    },
    {
     "name": "stdout",
     "output_type": "stream",
     "text": [
      "404 Not Found: https://iiif.wellcomecollection.org/presentation/b11213838\n"
     ]
    },
    {
     "name": "stderr",
     "output_type": "stream",
     "text": [
      "Retrying downloads:  86%|████████▌ | 1380/1609 [11:39<01:51,  2.05it/s]"
     ]
    },
    {
     "name": "stdout",
     "output_type": "stream",
     "text": [
      "404 Not Found: https://iiif.wellcomecollection.org/presentation/b1018594x\n"
     ]
    },
    {
     "name": "stderr",
     "output_type": "stream",
     "text": [
      "Retrying downloads:  86%|████████▌ | 1381/1609 [11:40<01:53,  2.02it/s]"
     ]
    },
    {
     "name": "stdout",
     "output_type": "stream",
     "text": [
      "404 Not Found: https://iiif.wellcomecollection.org/presentation/b10884099\n"
     ]
    },
    {
     "name": "stderr",
     "output_type": "stream",
     "text": [
      "Retrying downloads:  86%|████████▌ | 1382/1609 [11:40<01:51,  2.03it/s]"
     ]
    },
    {
     "name": "stdout",
     "output_type": "stream",
     "text": [
      "404 Not Found: https://iiif.wellcomecollection.org/presentation/b16442155\n"
     ]
    },
    {
     "name": "stderr",
     "output_type": "stream",
     "text": [
      "Retrying downloads:  86%|████████▌ | 1383/1609 [11:41<01:49,  2.07it/s]"
     ]
    },
    {
     "name": "stdout",
     "output_type": "stream",
     "text": [
      "404 Not Found: https://iiif.wellcomecollection.org/presentation/b13268296\n"
     ]
    },
    {
     "name": "stderr",
     "output_type": "stream",
     "text": [
      "Retrying downloads:  86%|████████▌ | 1384/1609 [11:41<01:51,  2.01it/s]"
     ]
    },
    {
     "name": "stdout",
     "output_type": "stream",
     "text": [
      "404 Not Found: https://iiif.wellcomecollection.org/presentation/b10435827\n"
     ]
    },
    {
     "name": "stderr",
     "output_type": "stream",
     "text": [
      "Retrying downloads:  86%|████████▌ | 1385/1609 [11:42<01:51,  2.01it/s]"
     ]
    },
    {
     "name": "stdout",
     "output_type": "stream",
     "text": [
      "404 Not Found: https://iiif.wellcomecollection.org/presentation/b13151149\n"
     ]
    },
    {
     "name": "stderr",
     "output_type": "stream",
     "text": [
      "Retrying downloads:  86%|████████▌ | 1386/1609 [11:42<01:48,  2.05it/s]"
     ]
    },
    {
     "name": "stdout",
     "output_type": "stream",
     "text": [
      "404 Not Found: https://iiif.wellcomecollection.org/presentation/b11065710\n"
     ]
    },
    {
     "name": "stderr",
     "output_type": "stream",
     "text": [
      "Retrying downloads:  86%|████████▌ | 1387/1609 [11:43<01:51,  1.99it/s]"
     ]
    },
    {
     "name": "stdout",
     "output_type": "stream",
     "text": [
      "404 Not Found: https://iiif.wellcomecollection.org/presentation/b14666522\n"
     ]
    },
    {
     "name": "stderr",
     "output_type": "stream",
     "text": [
      "Retrying downloads:  86%|████████▋ | 1388/1609 [11:43<01:49,  2.02it/s]"
     ]
    },
    {
     "name": "stdout",
     "output_type": "stream",
     "text": [
      "404 Not Found: https://iiif.wellcomecollection.org/presentation/b10111736\n"
     ]
    },
    {
     "name": "stderr",
     "output_type": "stream",
     "text": [
      "Retrying downloads:  86%|████████▋ | 1389/1609 [11:44<01:52,  1.96it/s]"
     ]
    },
    {
     "name": "stdout",
     "output_type": "stream",
     "text": [
      "404 Not Found: https://iiif.wellcomecollection.org/presentation/b17684808\n"
     ]
    },
    {
     "name": "stderr",
     "output_type": "stream",
     "text": [
      "Retrying downloads:  86%|████████▋ | 1390/1609 [11:44<01:49,  1.99it/s]"
     ]
    },
    {
     "name": "stdout",
     "output_type": "stream",
     "text": [
      "404 Not Found: https://iiif.wellcomecollection.org/presentation/b11055005\n"
     ]
    },
    {
     "name": "stderr",
     "output_type": "stream",
     "text": [
      "Retrying downloads:  86%|████████▋ | 1391/1609 [11:45<01:50,  1.97it/s]"
     ]
    },
    {
     "name": "stdout",
     "output_type": "stream",
     "text": [
      "404 Not Found: https://iiif.wellcomecollection.org/presentation/b14567040\n"
     ]
    },
    {
     "name": "stderr",
     "output_type": "stream",
     "text": [
      "Retrying downloads:  87%|████████▋ | 1392/1609 [11:45<01:50,  1.97it/s]"
     ]
    },
    {
     "name": "stdout",
     "output_type": "stream",
     "text": [
      "404 Not Found: https://iiif.wellcomecollection.org/presentation/b10833857\n"
     ]
    },
    {
     "name": "stderr",
     "output_type": "stream",
     "text": [
      "Retrying downloads:  87%|████████▋ | 1393/1609 [11:46<01:46,  2.02it/s]"
     ]
    },
    {
     "name": "stdout",
     "output_type": "stream",
     "text": [
      "404 Not Found: https://iiif.wellcomecollection.org/presentation/b14558567\n"
     ]
    },
    {
     "name": "stderr",
     "output_type": "stream",
     "text": [
      "Retrying downloads:  87%|████████▋ | 1394/1609 [11:46<01:46,  2.01it/s]"
     ]
    },
    {
     "name": "stdout",
     "output_type": "stream",
     "text": [
      "404 Not Found: https://iiif.wellcomecollection.org/presentation/b10888482\n"
     ]
    },
    {
     "name": "stderr",
     "output_type": "stream",
     "text": [
      "Retrying downloads:  87%|████████▋ | 1395/1609 [11:46<01:43,  2.08it/s]"
     ]
    },
    {
     "name": "stdout",
     "output_type": "stream",
     "text": [
      "404 Not Found: https://iiif.wellcomecollection.org/presentation/b11477349\n"
     ]
    },
    {
     "name": "stderr",
     "output_type": "stream",
     "text": [
      "Retrying downloads:  87%|████████▋ | 1396/1609 [11:47<01:48,  1.96it/s]"
     ]
    },
    {
     "name": "stdout",
     "output_type": "stream",
     "text": [
      "404 Not Found: https://iiif.wellcomecollection.org/presentation/b12208607\n"
     ]
    },
    {
     "name": "stderr",
     "output_type": "stream",
     "text": [
      "Retrying downloads:  87%|████████▋ | 1397/1609 [11:48<01:45,  2.01it/s]"
     ]
    },
    {
     "name": "stdout",
     "output_type": "stream",
     "text": [
      "404 Not Found: https://iiif.wellcomecollection.org/presentation/b13255642\n"
     ]
    },
    {
     "name": "stderr",
     "output_type": "stream",
     "text": [
      "Retrying downloads:  87%|████████▋ | 1398/1609 [11:48<01:45,  2.00it/s]"
     ]
    },
    {
     "name": "stdout",
     "output_type": "stream",
     "text": [
      "404 Not Found: https://iiif.wellcomecollection.org/presentation/b10988361\n"
     ]
    },
    {
     "name": "stderr",
     "output_type": "stream",
     "text": [
      "Retrying downloads:  87%|████████▋ | 1399/1609 [11:49<01:45,  1.98it/s]"
     ]
    },
    {
     "name": "stdout",
     "output_type": "stream",
     "text": [
      "404 Not Found: https://iiif.wellcomecollection.org/presentation/b1308916x\n"
     ]
    },
    {
     "name": "stderr",
     "output_type": "stream",
     "text": [
      "Retrying downloads:  87%|████████▋ | 1400/1609 [11:49<01:44,  1.99it/s]"
     ]
    },
    {
     "name": "stdout",
     "output_type": "stream",
     "text": [
      "404 Not Found: https://iiif.wellcomecollection.org/presentation/b10108920\n"
     ]
    },
    {
     "name": "stderr",
     "output_type": "stream",
     "text": [
      "Retrying downloads:  87%|████████▋ | 1401/1609 [11:50<01:43,  2.01it/s]"
     ]
    },
    {
     "name": "stdout",
     "output_type": "stream",
     "text": [
      "404 Not Found: https://iiif.wellcomecollection.org/presentation/b11058882\n"
     ]
    },
    {
     "name": "stderr",
     "output_type": "stream",
     "text": [
      "Retrying downloads:  87%|████████▋ | 1402/1609 [11:50<01:42,  2.03it/s]"
     ]
    },
    {
     "name": "stdout",
     "output_type": "stream",
     "text": [
      "404 Not Found: https://iiif.wellcomecollection.org/presentation/b13256117\n"
     ]
    },
    {
     "name": "stderr",
     "output_type": "stream",
     "text": [
      "Retrying downloads:  87%|████████▋ | 1403/1609 [11:51<01:41,  2.03it/s]"
     ]
    },
    {
     "name": "stdout",
     "output_type": "stream",
     "text": [
      "404 Not Found: https://iiif.wellcomecollection.org/presentation/b14569668\n"
     ]
    },
    {
     "name": "stderr",
     "output_type": "stream",
     "text": [
      "Retrying downloads:  87%|████████▋ | 1404/1609 [11:51<01:41,  2.02it/s]"
     ]
    },
    {
     "name": "stdout",
     "output_type": "stream",
     "text": [
      "404 Not Found: https://iiif.wellcomecollection.org/presentation/b11536433\n"
     ]
    },
    {
     "name": "stderr",
     "output_type": "stream",
     "text": [
      "Retrying downloads:  87%|████████▋ | 1405/1609 [11:52<01:41,  2.01it/s]"
     ]
    },
    {
     "name": "stdout",
     "output_type": "stream",
     "text": [
      "404 Not Found: https://iiif.wellcomecollection.org/presentation/b12155846\n"
     ]
    },
    {
     "name": "stderr",
     "output_type": "stream",
     "text": [
      "Retrying downloads:  87%|████████▋ | 1406/1609 [11:52<01:40,  2.01it/s]"
     ]
    },
    {
     "name": "stdout",
     "output_type": "stream",
     "text": [
      "404 Not Found: https://iiif.wellcomecollection.org/presentation/b10554245\n"
     ]
    },
    {
     "name": "stderr",
     "output_type": "stream",
     "text": [
      "Retrying downloads:  87%|████████▋ | 1407/1609 [11:53<01:40,  2.00it/s]"
     ]
    },
    {
     "name": "stdout",
     "output_type": "stream",
     "text": [
      "404 Not Found: https://iiif.wellcomecollection.org/presentation/b13246112\n"
     ]
    },
    {
     "name": "stderr",
     "output_type": "stream",
     "text": [
      "Retrying downloads:  88%|████████▊ | 1408/1609 [11:53<01:42,  1.96it/s]"
     ]
    },
    {
     "name": "stdout",
     "output_type": "stream",
     "text": [
      "404 Not Found: https://iiif.wellcomecollection.org/presentation/b12195352\n"
     ]
    },
    {
     "name": "stderr",
     "output_type": "stream",
     "text": [
      "Retrying downloads:  88%|████████▊ | 1409/1609 [11:54<01:40,  2.00it/s]"
     ]
    },
    {
     "name": "stdout",
     "output_type": "stream",
     "text": [
      "404 Not Found: https://iiif.wellcomecollection.org/presentation/b12204894\n"
     ]
    },
    {
     "name": "stderr",
     "output_type": "stream",
     "text": [
      "Retrying downloads:  88%|████████▊ | 1410/1609 [11:54<01:37,  2.05it/s]"
     ]
    },
    {
     "name": "stdout",
     "output_type": "stream",
     "text": [
      "404 Not Found: https://iiif.wellcomecollection.org/presentation/b10110793\n"
     ]
    },
    {
     "name": "stderr",
     "output_type": "stream",
     "text": [
      "Retrying downloads:  88%|████████▊ | 1411/1609 [11:54<01:37,  2.02it/s]"
     ]
    },
    {
     "name": "stdout",
     "output_type": "stream",
     "text": [
      "404 Not Found: https://iiif.wellcomecollection.org/presentation/b13063108\n"
     ]
    },
    {
     "name": "stderr",
     "output_type": "stream",
     "text": [
      "Retrying downloads:  88%|████████▊ | 1412/1609 [11:55<01:36,  2.04it/s]"
     ]
    },
    {
     "name": "stdout",
     "output_type": "stream",
     "text": [
      "404 Not Found: https://iiif.wellcomecollection.org/presentation/b11147714\n"
     ]
    },
    {
     "name": "stderr",
     "output_type": "stream",
     "text": [
      "Retrying downloads:  88%|████████▊ | 1413/1609 [11:55<01:37,  2.01it/s]"
     ]
    },
    {
     "name": "stdout",
     "output_type": "stream",
     "text": [
      "404 Not Found: https://iiif.wellcomecollection.org/presentation/b13422868\n"
     ]
    },
    {
     "name": "stderr",
     "output_type": "stream",
     "text": [
      "Retrying downloads:  88%|████████▊ | 1414/1609 [11:56<01:39,  1.96it/s]"
     ]
    },
    {
     "name": "stdout",
     "output_type": "stream",
     "text": [
      "404 Not Found: https://iiif.wellcomecollection.org/presentation/b11058134\n"
     ]
    },
    {
     "name": "stderr",
     "output_type": "stream",
     "text": [
      "Retrying downloads:  88%|████████▊ | 1415/1609 [11:57<01:37,  1.98it/s]"
     ]
    },
    {
     "name": "stdout",
     "output_type": "stream",
     "text": [
      "404 Not Found: https://iiif.wellcomecollection.org/presentation/b1289820x\n"
     ]
    },
    {
     "name": "stderr",
     "output_type": "stream",
     "text": [
      "Retrying downloads:  88%|████████▊ | 1416/1609 [11:57<01:36,  1.99it/s]"
     ]
    },
    {
     "name": "stdout",
     "output_type": "stream",
     "text": [
      "404 Not Found: https://iiif.wellcomecollection.org/presentation/b14584864\n"
     ]
    },
    {
     "name": "stderr",
     "output_type": "stream",
     "text": [
      "Retrying downloads:  88%|████████▊ | 1417/1609 [11:57<01:34,  2.03it/s]"
     ]
    },
    {
     "name": "stdout",
     "output_type": "stream",
     "text": [
      "404 Not Found: https://iiif.wellcomecollection.org/presentation/b11057324\n"
     ]
    },
    {
     "name": "stderr",
     "output_type": "stream",
     "text": [
      "Retrying downloads:  88%|████████▊ | 1418/1609 [11:58<01:33,  2.04it/s]"
     ]
    },
    {
     "name": "stdout",
     "output_type": "stream",
     "text": [
      "404 Not Found: https://iiif.wellcomecollection.org/presentation/b12191759\n"
     ]
    },
    {
     "name": "stderr",
     "output_type": "stream",
     "text": [
      "Retrying downloads:  88%|████████▊ | 1419/1609 [11:58<01:31,  2.07it/s]"
     ]
    },
    {
     "name": "stdout",
     "output_type": "stream",
     "text": [
      "404 Not Found: https://iiif.wellcomecollection.org/presentation/b10782400\n"
     ]
    },
    {
     "name": "stderr",
     "output_type": "stream",
     "text": [
      "Retrying downloads:  88%|████████▊ | 1420/1609 [11:59<01:31,  2.06it/s]"
     ]
    },
    {
     "name": "stdout",
     "output_type": "stream",
     "text": [
      "404 Not Found: https://iiif.wellcomecollection.org/presentation/b1280972x\n"
     ]
    },
    {
     "name": "stderr",
     "output_type": "stream",
     "text": [
      "Retrying downloads:  88%|████████▊ | 1421/1609 [12:00<01:36,  1.95it/s]"
     ]
    },
    {
     "name": "stdout",
     "output_type": "stream",
     "text": [
      "404 Not Found: https://iiif.wellcomecollection.org/presentation/b11060712\n"
     ]
    },
    {
     "name": "stderr",
     "output_type": "stream",
     "text": [
      "Retrying downloads:  88%|████████▊ | 1422/1609 [12:00<01:38,  1.90it/s]"
     ]
    },
    {
     "name": "stdout",
     "output_type": "stream",
     "text": [
      "404 Not Found: https://iiif.wellcomecollection.org/presentation/b10110355\n"
     ]
    },
    {
     "name": "stderr",
     "output_type": "stream",
     "text": [
      "Retrying downloads:  88%|████████▊ | 1423/1609 [12:01<01:38,  1.88it/s]"
     ]
    },
    {
     "name": "stdout",
     "output_type": "stream",
     "text": [
      "404 Not Found: https://iiif.wellcomecollection.org/presentation/b11056460\n"
     ]
    },
    {
     "name": "stderr",
     "output_type": "stream",
     "text": [
      "Retrying downloads:  89%|████████▊ | 1424/1609 [12:01<01:37,  1.89it/s]"
     ]
    },
    {
     "name": "stdout",
     "output_type": "stream",
     "text": [
      "404 Not Found: https://iiif.wellcomecollection.org/presentation/b10633637\n"
     ]
    },
    {
     "name": "stderr",
     "output_type": "stream",
     "text": [
      "Retrying downloads:  89%|████████▊ | 1425/1609 [12:02<01:35,  1.93it/s]"
     ]
    },
    {
     "name": "stdout",
     "output_type": "stream",
     "text": [
      "404 Not Found: https://iiif.wellcomecollection.org/presentation/b12956405\n"
     ]
    },
    {
     "name": "stderr",
     "output_type": "stream",
     "text": [
      "Retrying downloads:  89%|████████▊ | 1426/1609 [12:02<01:37,  1.88it/s]"
     ]
    },
    {
     "name": "stdout",
     "output_type": "stream",
     "text": [
      "404 Not Found: https://iiif.wellcomecollection.org/presentation/b11527341\n"
     ]
    },
    {
     "name": "stderr",
     "output_type": "stream",
     "text": [
      "Retrying downloads:  89%|████████▊ | 1427/1609 [12:03<01:33,  1.95it/s]"
     ]
    },
    {
     "name": "stdout",
     "output_type": "stream",
     "text": [
      "404 Not Found: https://iiif.wellcomecollection.org/presentation/b11057464\n"
     ]
    },
    {
     "name": "stderr",
     "output_type": "stream",
     "text": [
      "Retrying downloads:  89%|████████▉ | 1428/1609 [12:03<01:30,  1.99it/s]"
     ]
    },
    {
     "name": "stdout",
     "output_type": "stream",
     "text": [
      "404 Not Found: https://iiif.wellcomecollection.org/presentation/b12180427\n"
     ]
    },
    {
     "name": "stderr",
     "output_type": "stream",
     "text": [
      "Retrying downloads:  89%|████████▉ | 1429/1609 [12:04<01:29,  2.01it/s]"
     ]
    },
    {
     "name": "stdout",
     "output_type": "stream",
     "text": [
      "404 Not Found: https://iiif.wellcomecollection.org/presentation/b33394015\n"
     ]
    },
    {
     "name": "stderr",
     "output_type": "stream",
     "text": [
      "Retrying downloads:  89%|████████▉ | 1430/1609 [12:04<01:28,  2.03it/s]"
     ]
    },
    {
     "name": "stdout",
     "output_type": "stream",
     "text": [
      "404 Not Found: https://iiif.wellcomecollection.org/presentation/b10185264\n"
     ]
    },
    {
     "name": "stderr",
     "output_type": "stream",
     "text": [
      "Retrying downloads:  89%|████████▉ | 1431/1609 [12:05<01:30,  1.97it/s]"
     ]
    },
    {
     "name": "stdout",
     "output_type": "stream",
     "text": [
      "404 Not Found: https://iiif.wellcomecollection.org/presentation/b12052334\n"
     ]
    },
    {
     "name": "stderr",
     "output_type": "stream",
     "text": [
      "Retrying downloads:  89%|████████▉ | 1432/1609 [12:05<01:28,  1.99it/s]"
     ]
    },
    {
     "name": "stdout",
     "output_type": "stream",
     "text": [
      "404 Not Found: https://iiif.wellcomecollection.org/presentation/b10780774\n"
     ]
    },
    {
     "name": "stderr",
     "output_type": "stream",
     "text": [
      "Retrying downloads:  89%|████████▉ | 1433/1609 [12:06<01:27,  2.00it/s]"
     ]
    },
    {
     "name": "stdout",
     "output_type": "stream",
     "text": [
      "404 Not Found: https://iiif.wellcomecollection.org/presentation/b11143320\n"
     ]
    },
    {
     "name": "stderr",
     "output_type": "stream",
     "text": [
      "Retrying downloads:  89%|████████▉ | 1434/1609 [12:06<01:28,  1.98it/s]"
     ]
    },
    {
     "name": "stdout",
     "output_type": "stream",
     "text": [
      "404 Not Found: https://iiif.wellcomecollection.org/presentation/b12947556\n"
     ]
    },
    {
     "name": "stderr",
     "output_type": "stream",
     "text": [
      "Retrying downloads:  89%|████████▉ | 1435/1609 [12:07<01:29,  1.94it/s]"
     ]
    },
    {
     "name": "stdout",
     "output_type": "stream",
     "text": [
      "404 Not Found: https://iiif.wellcomecollection.org/presentation/b12208553\n"
     ]
    },
    {
     "name": "stderr",
     "output_type": "stream",
     "text": [
      "Retrying downloads:  89%|████████▉ | 1436/1609 [12:07<01:26,  2.00it/s]"
     ]
    },
    {
     "name": "stdout",
     "output_type": "stream",
     "text": [
      "404 Not Found: https://iiif.wellcomecollection.org/presentation/b10700961\n"
     ]
    },
    {
     "name": "stderr",
     "output_type": "stream",
     "text": [
      "Retrying downloads:  89%|████████▉ | 1437/1609 [12:08<01:23,  2.05it/s]"
     ]
    },
    {
     "name": "stdout",
     "output_type": "stream",
     "text": [
      "404 Not Found: https://iiif.wellcomecollection.org/presentation/b12207901\n"
     ]
    },
    {
     "name": "stderr",
     "output_type": "stream",
     "text": [
      "Retrying downloads:  89%|████████▉ | 1438/1609 [12:08<01:22,  2.08it/s]"
     ]
    },
    {
     "name": "stdout",
     "output_type": "stream",
     "text": [
      "404 Not Found: https://iiif.wellcomecollection.org/presentation/b13105826\n"
     ]
    },
    {
     "name": "stderr",
     "output_type": "stream",
     "text": [
      "Retrying downloads:  89%|████████▉ | 1439/1609 [12:09<01:24,  2.01it/s]"
     ]
    },
    {
     "name": "stdout",
     "output_type": "stream",
     "text": [
      "404 Not Found: https://iiif.wellcomecollection.org/presentation/b10109250\n"
     ]
    },
    {
     "name": "stderr",
     "output_type": "stream",
     "text": [
      "Retrying downloads:  89%|████████▉ | 1440/1609 [12:09<01:22,  2.04it/s]"
     ]
    },
    {
     "name": "stdout",
     "output_type": "stream",
     "text": [
      "404 Not Found: https://iiif.wellcomecollection.org/presentation/b1312609x\n"
     ]
    },
    {
     "name": "stderr",
     "output_type": "stream",
     "text": [
      "Retrying downloads:  90%|████████▉ | 1441/1609 [12:10<01:22,  2.03it/s]"
     ]
    },
    {
     "name": "stdout",
     "output_type": "stream",
     "text": [
      "404 Not Found: https://iiif.wellcomecollection.org/presentation/b12946333\n"
     ]
    },
    {
     "name": "stderr",
     "output_type": "stream",
     "text": [
      "Retrying downloads:  90%|████████▉ | 1442/1609 [12:10<01:21,  2.04it/s]"
     ]
    },
    {
     "name": "stdout",
     "output_type": "stream",
     "text": [
      "404 Not Found: https://iiif.wellcomecollection.org/presentation/b14568536\n"
     ]
    },
    {
     "name": "stderr",
     "output_type": "stream",
     "text": [
      "Retrying downloads:  90%|████████▉ | 1443/1609 [12:11<01:21,  2.04it/s]"
     ]
    },
    {
     "name": "stdout",
     "output_type": "stream",
     "text": [
      "404 Not Found: https://iiif.wellcomecollection.org/presentation/b1456550x\n"
     ]
    },
    {
     "name": "stderr",
     "output_type": "stream",
     "text": [
      "Retrying downloads:  90%|████████▉ | 1444/1609 [12:11<01:21,  2.02it/s]"
     ]
    },
    {
     "name": "stdout",
     "output_type": "stream",
     "text": [
      "404 Not Found: https://iiif.wellcomecollection.org/presentation/b10117520\n"
     ]
    },
    {
     "name": "stderr",
     "output_type": "stream",
     "text": [
      "Retrying downloads:  90%|████████▉ | 1445/1609 [12:12<01:19,  2.06it/s]"
     ]
    },
    {
     "name": "stdout",
     "output_type": "stream",
     "text": [
      "404 Not Found: https://iiif.wellcomecollection.org/presentation/b14566187\n"
     ]
    },
    {
     "name": "stderr",
     "output_type": "stream",
     "text": [
      "Retrying downloads:  90%|████████▉ | 1446/1609 [12:12<01:27,  1.85it/s]"
     ]
    },
    {
     "name": "stdout",
     "output_type": "stream",
     "text": [
      "404 Not Found: https://iiif.wellcomecollection.org/presentation/b12948238\n"
     ]
    },
    {
     "name": "stderr",
     "output_type": "stream",
     "text": [
      "Retrying downloads:  90%|████████▉ | 1447/1609 [12:13<01:25,  1.88it/s]"
     ]
    },
    {
     "name": "stdout",
     "output_type": "stream",
     "text": [
      "404 Not Found: https://iiif.wellcomecollection.org/presentation/b12822449\n"
     ]
    },
    {
     "name": "stderr",
     "output_type": "stream",
     "text": [
      "Retrying downloads:  90%|████████▉ | 1448/1609 [12:13<01:23,  1.93it/s]"
     ]
    },
    {
     "name": "stdout",
     "output_type": "stream",
     "text": [
      "404 Not Found: https://iiif.wellcomecollection.org/presentation/b11537164\n"
     ]
    },
    {
     "name": "stderr",
     "output_type": "stream",
     "text": [
      "Retrying downloads:  90%|█████████ | 1449/1609 [12:14<01:19,  2.00it/s]"
     ]
    },
    {
     "name": "stdout",
     "output_type": "stream",
     "text": [
      "404 Not Found: https://iiif.wellcomecollection.org/presentation/b1456659x\n"
     ]
    },
    {
     "name": "stderr",
     "output_type": "stream",
     "text": [
      "Retrying downloads:  90%|█████████ | 1450/1609 [12:14<01:18,  2.02it/s]"
     ]
    },
    {
     "name": "stdout",
     "output_type": "stream",
     "text": [
      "404 Not Found: https://iiif.wellcomecollection.org/presentation/b14585790\n"
     ]
    },
    {
     "name": "stderr",
     "output_type": "stream",
     "text": [
      "Retrying downloads:  90%|█████████ | 1451/1609 [12:15<01:23,  1.89it/s]"
     ]
    },
    {
     "name": "stdout",
     "output_type": "stream",
     "text": [
      "404 Not Found: https://iiif.wellcomecollection.org/presentation/b12946758\n"
     ]
    },
    {
     "name": "stderr",
     "output_type": "stream",
     "text": [
      "Retrying downloads:  90%|█████████ | 1452/1609 [12:15<01:19,  1.97it/s]"
     ]
    },
    {
     "name": "stdout",
     "output_type": "stream",
     "text": [
      "404 Not Found: https://iiif.wellcomecollection.org/presentation/b1643464x\n"
     ]
    },
    {
     "name": "stderr",
     "output_type": "stream",
     "text": [
      "Retrying downloads:  90%|█████████ | 1453/1609 [12:16<01:17,  2.01it/s]"
     ]
    },
    {
     "name": "stdout",
     "output_type": "stream",
     "text": [
      "404 Not Found: https://iiif.wellcomecollection.org/presentation/b14592708\n"
     ]
    },
    {
     "name": "stderr",
     "output_type": "stream",
     "text": [
      "Retrying downloads:  90%|█████████ | 1454/1609 [12:16<01:20,  1.93it/s]"
     ]
    },
    {
     "name": "stdout",
     "output_type": "stream",
     "text": [
      "404 Not Found: https://iiif.wellcomecollection.org/presentation/b13148746\n"
     ]
    },
    {
     "name": "stderr",
     "output_type": "stream",
     "text": [
      "Retrying downloads:  90%|█████████ | 1455/1609 [12:17<01:18,  1.96it/s]"
     ]
    },
    {
     "name": "stdout",
     "output_type": "stream",
     "text": [
      "404 Not Found: https://iiif.wellcomecollection.org/presentation/b10112558\n"
     ]
    },
    {
     "name": "stderr",
     "output_type": "stream",
     "text": [
      "Retrying downloads:  90%|█████████ | 1456/1609 [12:17<01:17,  1.97it/s]"
     ]
    },
    {
     "name": "stdout",
     "output_type": "stream",
     "text": [
      "404 Not Found: https://iiif.wellcomecollection.org/presentation/b11055777\n"
     ]
    },
    {
     "name": "stderr",
     "output_type": "stream",
     "text": [
      "Retrying downloads:  91%|█████████ | 1457/1609 [12:18<01:16,  1.99it/s]"
     ]
    },
    {
     "name": "stdout",
     "output_type": "stream",
     "text": [
      "404 Not Found: https://iiif.wellcomecollection.org/presentation/b13147146\n"
     ]
    },
    {
     "name": "stderr",
     "output_type": "stream",
     "text": [
      "Retrying downloads:  91%|█████████ | 1458/1609 [12:18<01:15,  1.99it/s]"
     ]
    },
    {
     "name": "stdout",
     "output_type": "stream",
     "text": [
      "404 Not Found: https://iiif.wellcomecollection.org/presentation/b13106429\n"
     ]
    },
    {
     "name": "stderr",
     "output_type": "stream",
     "text": [
      "Retrying downloads:  91%|█████████ | 1459/1609 [12:19<01:13,  2.04it/s]"
     ]
    },
    {
     "name": "stdout",
     "output_type": "stream",
     "text": [
      "404 Not Found: https://iiif.wellcomecollection.org/presentation/b10916507\n"
     ]
    },
    {
     "name": "stderr",
     "output_type": "stream",
     "text": [
      "Retrying downloads:  91%|█████████ | 1460/1609 [12:19<01:02,  2.37it/s]"
     ]
    },
    {
     "name": "stdout",
     "output_type": "stream",
     "text": [
      "404 Not Found: https://iiif.wellcomecollection.org/presentation/b10334002\n"
     ]
    },
    {
     "name": "stderr",
     "output_type": "stream",
     "text": [
      "Retrying downloads:  91%|█████████ | 1461/1609 [12:19<01:06,  2.22it/s]"
     ]
    },
    {
     "name": "stdout",
     "output_type": "stream",
     "text": [
      "404 Not Found: https://iiif.wellcomecollection.org/presentation/b11150518\n"
     ]
    },
    {
     "name": "stderr",
     "output_type": "stream",
     "text": [
      "Retrying downloads:  91%|█████████ | 1462/1609 [12:20<01:07,  2.19it/s]"
     ]
    },
    {
     "name": "stdout",
     "output_type": "stream",
     "text": [
      "404 Not Found: https://iiif.wellcomecollection.org/presentation/b17557732\n"
     ]
    },
    {
     "name": "stderr",
     "output_type": "stream",
     "text": [
      "Retrying downloads:  91%|█████████ | 1463/1609 [12:20<01:07,  2.15it/s]"
     ]
    },
    {
     "name": "stdout",
     "output_type": "stream",
     "text": [
      "404 Not Found: https://iiif.wellcomecollection.org/presentation/b10005067\n"
     ]
    },
    {
     "name": "stderr",
     "output_type": "stream",
     "text": [
      "Retrying downloads:  91%|█████████ | 1464/1609 [12:21<01:09,  2.09it/s]"
     ]
    },
    {
     "name": "stdout",
     "output_type": "stream",
     "text": [
      "404 Not Found: https://iiif.wellcomecollection.org/presentation/b1114290x\n"
     ]
    },
    {
     "name": "stderr",
     "output_type": "stream",
     "text": [
      "Retrying downloads:  91%|█████████ | 1465/1609 [12:21<01:08,  2.09it/s]"
     ]
    },
    {
     "name": "stdout",
     "output_type": "stream",
     "text": [
      "404 Not Found: https://iiif.wellcomecollection.org/presentation/b12956284\n"
     ]
    },
    {
     "name": "stderr",
     "output_type": "stream",
     "text": [
      "Retrying downloads:  91%|█████████ | 1466/1609 [12:22<01:07,  2.13it/s]"
     ]
    },
    {
     "name": "stdout",
     "output_type": "stream",
     "text": [
      "404 Not Found: https://iiif.wellcomecollection.org/presentation/b10276622\n"
     ]
    },
    {
     "name": "stderr",
     "output_type": "stream",
     "text": [
      "Retrying downloads:  91%|█████████ | 1467/1609 [12:22<01:06,  2.15it/s]"
     ]
    },
    {
     "name": "stdout",
     "output_type": "stream",
     "text": [
      "404 Not Found: https://iiif.wellcomecollection.org/presentation/b13105450\n"
     ]
    },
    {
     "name": "stderr",
     "output_type": "stream",
     "text": [
      "Retrying downloads:  91%|█████████ | 1468/1609 [12:23<01:07,  2.10it/s]"
     ]
    },
    {
     "name": "stdout",
     "output_type": "stream",
     "text": [
      "404 Not Found: https://iiif.wellcomecollection.org/presentation/b14561888\n"
     ]
    },
    {
     "name": "stderr",
     "output_type": "stream",
     "text": [
      "Retrying downloads:  91%|█████████▏| 1469/1609 [12:23<01:06,  2.10it/s]"
     ]
    },
    {
     "name": "stdout",
     "output_type": "stream",
     "text": [
      "404 Not Found: https://iiif.wellcomecollection.org/presentation/b16441497\n"
     ]
    },
    {
     "name": "stderr",
     "output_type": "stream",
     "text": [
      "Retrying downloads:  91%|█████████▏| 1470/1609 [12:24<01:06,  2.08it/s]"
     ]
    },
    {
     "name": "stdout",
     "output_type": "stream",
     "text": [
      "404 Not Found: https://iiif.wellcomecollection.org/presentation/b14578116\n"
     ]
    },
    {
     "name": "stderr",
     "output_type": "stream",
     "text": [
      "Retrying downloads:  91%|█████████▏| 1471/1609 [12:24<01:06,  2.09it/s]"
     ]
    },
    {
     "name": "stdout",
     "output_type": "stream",
     "text": [
      "404 Not Found: https://iiif.wellcomecollection.org/presentation/b11533626\n"
     ]
    },
    {
     "name": "stderr",
     "output_type": "stream",
     "text": [
      "Retrying downloads:  91%|█████████▏| 1472/1609 [12:25<01:06,  2.07it/s]"
     ]
    },
    {
     "name": "stdout",
     "output_type": "stream",
     "text": [
      "404 Not Found: https://iiif.wellcomecollection.org/presentation/b11056009\n"
     ]
    },
    {
     "name": "stderr",
     "output_type": "stream",
     "text": [
      "Retrying downloads:  92%|█████████▏| 1473/1609 [12:25<01:05,  2.08it/s]"
     ]
    },
    {
     "name": "stdout",
     "output_type": "stream",
     "text": [
      "404 Not Found: https://iiif.wellcomecollection.org/presentation/b1220545x\n"
     ]
    },
    {
     "name": "stderr",
     "output_type": "stream",
     "text": [
      "Retrying downloads:  92%|█████████▏| 1474/1609 [12:26<01:05,  2.05it/s]"
     ]
    },
    {
     "name": "stdout",
     "output_type": "stream",
     "text": [
      "404 Not Found: https://iiif.wellcomecollection.org/presentation/b12809731\n"
     ]
    },
    {
     "name": "stderr",
     "output_type": "stream",
     "text": [
      "Retrying downloads:  92%|█████████▏| 1475/1609 [12:26<01:06,  2.02it/s]"
     ]
    },
    {
     "name": "stdout",
     "output_type": "stream",
     "text": [
      "404 Not Found: https://iiif.wellcomecollection.org/presentation/b10279301\n"
     ]
    },
    {
     "name": "stderr",
     "output_type": "stream",
     "text": [
      "Retrying downloads:  92%|█████████▏| 1476/1609 [12:27<01:05,  2.03it/s]"
     ]
    },
    {
     "name": "stdout",
     "output_type": "stream",
     "text": [
      "404 Not Found: https://iiif.wellcomecollection.org/presentation/b11144348\n"
     ]
    },
    {
     "name": "stderr",
     "output_type": "stream",
     "text": [
      "Retrying downloads:  92%|█████████▏| 1477/1609 [12:27<01:04,  2.05it/s]"
     ]
    },
    {
     "name": "stdout",
     "output_type": "stream",
     "text": [
      "404 Not Found: https://iiif.wellcomecollection.org/presentation/b11198941\n"
     ]
    },
    {
     "name": "stderr",
     "output_type": "stream",
     "text": [
      "Retrying downloads:  92%|█████████▏| 1478/1609 [12:28<01:04,  2.04it/s]"
     ]
    },
    {
     "name": "stdout",
     "output_type": "stream",
     "text": [
      "404 Not Found: https://iiif.wellcomecollection.org/presentation/b10327137\n"
     ]
    },
    {
     "name": "stderr",
     "output_type": "stream",
     "text": [
      "Retrying downloads:  92%|█████████▏| 1479/1609 [12:28<01:03,  2.06it/s]"
     ]
    },
    {
     "name": "stdout",
     "output_type": "stream",
     "text": [
      "404 Not Found: https://iiif.wellcomecollection.org/presentation/b1105881x\n"
     ]
    },
    {
     "name": "stderr",
     "output_type": "stream",
     "text": [
      "Retrying downloads:  92%|█████████▏| 1480/1609 [12:29<01:02,  2.06it/s]"
     ]
    },
    {
     "name": "stdout",
     "output_type": "stream",
     "text": [
      "404 Not Found: https://iiif.wellcomecollection.org/presentation/b13155052\n"
     ]
    },
    {
     "name": "stderr",
     "output_type": "stream",
     "text": [
      "Retrying downloads:  92%|█████████▏| 1481/1609 [12:29<01:03,  2.02it/s]"
     ]
    },
    {
     "name": "stdout",
     "output_type": "stream",
     "text": [
      "404 Not Found: https://iiif.wellcomecollection.org/presentation/b10003770\n"
     ]
    },
    {
     "name": "stderr",
     "output_type": "stream",
     "text": [
      "Retrying downloads:  92%|█████████▏| 1482/1609 [12:30<01:02,  2.02it/s]"
     ]
    },
    {
     "name": "stdout",
     "output_type": "stream",
     "text": [
      "404 Not Found: https://iiif.wellcomecollection.org/presentation/b10775857\n"
     ]
    },
    {
     "name": "stderr",
     "output_type": "stream",
     "text": [
      "Retrying downloads:  92%|█████████▏| 1483/1609 [12:30<01:00,  2.07it/s]"
     ]
    },
    {
     "name": "stdout",
     "output_type": "stream",
     "text": [
      "404 Not Found: https://iiif.wellcomecollection.org/presentation/b11143642\n"
     ]
    },
    {
     "name": "stderr",
     "output_type": "stream",
     "text": [
      "Retrying downloads:  92%|█████████▏| 1484/1609 [12:31<01:00,  2.06it/s]"
     ]
    },
    {
     "name": "stdout",
     "output_type": "stream",
     "text": [
      "404 Not Found: https://iiif.wellcomecollection.org/presentation/b10914389\n"
     ]
    },
    {
     "name": "stderr",
     "output_type": "stream",
     "text": [
      "Retrying downloads:  92%|█████████▏| 1485/1609 [12:31<01:00,  2.05it/s]"
     ]
    },
    {
     "name": "stdout",
     "output_type": "stream",
     "text": [
      "404 Not Found: https://iiif.wellcomecollection.org/presentation/b12180130\n"
     ]
    },
    {
     "name": "stderr",
     "output_type": "stream",
     "text": [
      "Retrying downloads:  92%|█████████▏| 1486/1609 [12:32<00:58,  2.09it/s]"
     ]
    },
    {
     "name": "stdout",
     "output_type": "stream",
     "text": [
      "404 Not Found: https://iiif.wellcomecollection.org/presentation/b13256014\n"
     ]
    },
    {
     "name": "stderr",
     "output_type": "stream",
     "text": [
      "Retrying downloads:  92%|█████████▏| 1487/1609 [12:32<00:58,  2.09it/s]"
     ]
    },
    {
     "name": "stdout",
     "output_type": "stream",
     "text": [
      "404 Not Found: https://iiif.wellcomecollection.org/presentation/b1082523x\n"
     ]
    },
    {
     "name": "stderr",
     "output_type": "stream",
     "text": [
      "Retrying downloads:  92%|█████████▏| 1488/1609 [12:33<00:59,  2.02it/s]"
     ]
    },
    {
     "name": "stdout",
     "output_type": "stream",
     "text": [
      "404 Not Found: https://iiif.wellcomecollection.org/presentation/b11139584\n"
     ]
    },
    {
     "name": "stderr",
     "output_type": "stream",
     "text": [
      "Retrying downloads:  93%|█████████▎| 1489/1609 [12:33<00:58,  2.04it/s]"
     ]
    },
    {
     "name": "stdout",
     "output_type": "stream",
     "text": [
      "404 Not Found: https://iiif.wellcomecollection.org/presentation/b11310650\n"
     ]
    },
    {
     "name": "stderr",
     "output_type": "stream",
     "text": [
      "Retrying downloads:  93%|█████████▎| 1490/1609 [12:34<00:57,  2.07it/s]"
     ]
    },
    {
     "name": "stdout",
     "output_type": "stream",
     "text": [
      "404 Not Found: https://iiif.wellcomecollection.org/presentation/b11197821\n"
     ]
    },
    {
     "name": "stderr",
     "output_type": "stream",
     "text": [
      "Retrying downloads:  93%|█████████▎| 1491/1609 [12:34<00:57,  2.04it/s]"
     ]
    },
    {
     "name": "stdout",
     "output_type": "stream",
     "text": [
      "404 Not Found: https://iiif.wellcomecollection.org/presentation/b10400643\n"
     ]
    },
    {
     "name": "stderr",
     "output_type": "stream",
     "text": [
      "Retrying downloads:  93%|█████████▎| 1492/1609 [12:35<00:57,  2.02it/s]"
     ]
    },
    {
     "name": "stdout",
     "output_type": "stream",
     "text": [
      "404 Not Found: https://iiif.wellcomecollection.org/presentation/b12206945\n"
     ]
    },
    {
     "name": "stderr",
     "output_type": "stream",
     "text": [
      "Retrying downloads:  93%|█████████▎| 1493/1609 [12:35<00:57,  2.03it/s]"
     ]
    },
    {
     "name": "stdout",
     "output_type": "stream",
     "text": [
      "404 Not Found: https://iiif.wellcomecollection.org/presentation/b12844330\n"
     ]
    },
    {
     "name": "stderr",
     "output_type": "stream",
     "text": [
      "Retrying downloads:  93%|█████████▎| 1494/1609 [12:36<00:56,  2.03it/s]"
     ]
    },
    {
     "name": "stdout",
     "output_type": "stream",
     "text": [
      "404 Not Found: https://iiif.wellcomecollection.org/presentation/b11213917\n"
     ]
    },
    {
     "name": "stderr",
     "output_type": "stream",
     "text": [
      "Retrying downloads:  93%|█████████▎| 1495/1609 [12:36<00:57,  2.00it/s]"
     ]
    },
    {
     "name": "stdout",
     "output_type": "stream",
     "text": [
      "404 Not Found: https://iiif.wellcomecollection.org/presentation/b13134814\n"
     ]
    },
    {
     "name": "stderr",
     "output_type": "stream",
     "text": [
      "Retrying downloads:  93%|█████████▎| 1496/1609 [12:37<00:55,  2.02it/s]"
     ]
    },
    {
     "name": "stdout",
     "output_type": "stream",
     "text": [
      "404 Not Found: https://iiif.wellcomecollection.org/presentation/b12811038\n"
     ]
    },
    {
     "name": "stderr",
     "output_type": "stream",
     "text": [
      "Retrying downloads:  93%|█████████▎| 1497/1609 [12:37<00:56,  2.00it/s]"
     ]
    },
    {
     "name": "stdout",
     "output_type": "stream",
     "text": [
      "404 Not Found: https://iiif.wellcomecollection.org/presentation/b10917172\n"
     ]
    },
    {
     "name": "stderr",
     "output_type": "stream",
     "text": [
      "Retrying downloads:  93%|█████████▎| 1498/1609 [12:38<00:55,  2.00it/s]"
     ]
    },
    {
     "name": "stdout",
     "output_type": "stream",
     "text": [
      "404 Not Found: https://iiif.wellcomecollection.org/presentation/b10111311\n"
     ]
    },
    {
     "name": "stderr",
     "output_type": "stream",
     "text": [
      "Retrying downloads:  93%|█████████▎| 1499/1609 [12:38<00:54,  2.01it/s]"
     ]
    },
    {
     "name": "stdout",
     "output_type": "stream",
     "text": [
      "404 Not Found: https://iiif.wellcomecollection.org/presentation/b12205758\n"
     ]
    },
    {
     "name": "stderr",
     "output_type": "stream",
     "text": [
      "Retrying downloads:  93%|█████████▎| 1500/1609 [12:38<00:53,  2.05it/s]"
     ]
    },
    {
     "name": "stdout",
     "output_type": "stream",
     "text": [
      "404 Not Found: https://iiif.wellcomecollection.org/presentation/b11057270\n"
     ]
    },
    {
     "name": "stderr",
     "output_type": "stream",
     "text": [
      "Retrying downloads:  93%|█████████▎| 1501/1609 [12:39<00:51,  2.10it/s]"
     ]
    },
    {
     "name": "stdout",
     "output_type": "stream",
     "text": [
      "404 Not Found: https://iiif.wellcomecollection.org/presentation/b11534254\n"
     ]
    },
    {
     "name": "stderr",
     "output_type": "stream",
     "text": [
      "Retrying downloads:  93%|█████████▎| 1502/1609 [12:39<00:51,  2.09it/s]"
     ]
    },
    {
     "name": "stdout",
     "output_type": "stream",
     "text": [
      "404 Not Found: https://iiif.wellcomecollection.org/presentation/b10776758\n"
     ]
    },
    {
     "name": "stderr",
     "output_type": "stream",
     "text": [
      "Retrying downloads:  93%|█████████▎| 1503/1609 [12:40<00:52,  2.04it/s]"
     ]
    },
    {
     "name": "stdout",
     "output_type": "stream",
     "text": [
      "404 Not Found: https://iiif.wellcomecollection.org/presentation/b10554865\n"
     ]
    },
    {
     "name": "stderr",
     "output_type": "stream",
     "text": [
      "Retrying downloads:  93%|█████████▎| 1504/1609 [12:40<00:50,  2.07it/s]"
     ]
    },
    {
     "name": "stdout",
     "output_type": "stream",
     "text": [
      "404 Not Found: https://iiif.wellcomecollection.org/presentation/b10965087\n"
     ]
    },
    {
     "name": "stderr",
     "output_type": "stream",
     "text": [
      "Retrying downloads:  94%|█████████▎| 1505/1609 [12:41<00:51,  2.02it/s]"
     ]
    },
    {
     "name": "stdout",
     "output_type": "stream",
     "text": [
      "404 Not Found: https://iiif.wellcomecollection.org/presentation/b10106819\n"
     ]
    },
    {
     "name": "stderr",
     "output_type": "stream",
     "text": [
      "Retrying downloads:  94%|█████████▎| 1506/1609 [12:42<00:56,  1.83it/s]"
     ]
    },
    {
     "name": "stdout",
     "output_type": "stream",
     "text": [
      "404 Not Found: https://iiif.wellcomecollection.org/presentation/b1220710x\n"
     ]
    },
    {
     "name": "stderr",
     "output_type": "stream",
     "text": [
      "Retrying downloads:  94%|█████████▎| 1507/1609 [12:42<00:54,  1.88it/s]"
     ]
    },
    {
     "name": "stdout",
     "output_type": "stream",
     "text": [
      "404 Not Found: https://iiif.wellcomecollection.org/presentation/b12825736\n"
     ]
    },
    {
     "name": "stderr",
     "output_type": "stream",
     "text": [
      "Retrying downloads:  94%|█████████▎| 1508/1609 [12:43<00:53,  1.89it/s]"
     ]
    },
    {
     "name": "stdout",
     "output_type": "stream",
     "text": [
      "404 Not Found: https://iiif.wellcomecollection.org/presentation/b14586344\n"
     ]
    },
    {
     "name": "stderr",
     "output_type": "stream",
     "text": [
      "Retrying downloads:  94%|█████████▍| 1509/1609 [12:43<00:52,  1.91it/s]"
     ]
    },
    {
     "name": "stdout",
     "output_type": "stream",
     "text": [
      "404 Not Found: https://iiif.wellcomecollection.org/presentation/b13254698\n"
     ]
    },
    {
     "name": "stderr",
     "output_type": "stream",
     "text": [
      "Retrying downloads:  94%|█████████▍| 1510/1609 [12:44<00:49,  1.98it/s]"
     ]
    },
    {
     "name": "stdout",
     "output_type": "stream",
     "text": [
      "404 Not Found: https://iiif.wellcomecollection.org/presentation/b10916647\n"
     ]
    },
    {
     "name": "stderr",
     "output_type": "stream",
     "text": [
      "Retrying downloads:  94%|█████████▍| 1511/1609 [12:44<00:47,  2.05it/s]"
     ]
    },
    {
     "name": "stdout",
     "output_type": "stream",
     "text": [
      "404 Not Found: https://iiif.wellcomecollection.org/presentation/b12157764\n"
     ]
    },
    {
     "name": "stderr",
     "output_type": "stream",
     "text": [
      "Retrying downloads:  94%|█████████▍| 1512/1609 [12:45<00:48,  2.01it/s]"
     ]
    },
    {
     "name": "stdout",
     "output_type": "stream",
     "text": [
      "404 Not Found: https://iiif.wellcomecollection.org/presentation/b13154795\n"
     ]
    },
    {
     "name": "stderr",
     "output_type": "stream",
     "text": [
      "Retrying downloads:  94%|█████████▍| 1513/1609 [12:45<00:48,  2.00it/s]"
     ]
    },
    {
     "name": "stdout",
     "output_type": "stream",
     "text": [
      "404 Not Found: https://iiif.wellcomecollection.org/presentation/b12840932\n"
     ]
    },
    {
     "name": "stderr",
     "output_type": "stream",
     "text": [
      "Retrying downloads:  94%|█████████▍| 1514/1609 [12:46<00:47,  2.01it/s]"
     ]
    },
    {
     "name": "stdout",
     "output_type": "stream",
     "text": [
      "404 Not Found: https://iiif.wellcomecollection.org/presentation/b12202022\n"
     ]
    },
    {
     "name": "stderr",
     "output_type": "stream",
     "text": [
      "Retrying downloads:  94%|█████████▍| 1515/1609 [12:46<00:46,  2.00it/s]"
     ]
    },
    {
     "name": "stdout",
     "output_type": "stream",
     "text": [
      "404 Not Found: https://iiif.wellcomecollection.org/presentation/b14594596\n"
     ]
    },
    {
     "name": "stderr",
     "output_type": "stream",
     "text": [
      "Retrying downloads:  94%|█████████▍| 1516/1609 [12:47<00:45,  2.05it/s]"
     ]
    },
    {
     "name": "stdout",
     "output_type": "stream",
     "text": [
      "404 Not Found: https://iiif.wellcomecollection.org/presentation/b15841108\n"
     ]
    },
    {
     "name": "stderr",
     "output_type": "stream",
     "text": [
      "Retrying downloads:  94%|█████████▍| 1517/1609 [12:47<00:44,  2.07it/s]"
     ]
    },
    {
     "name": "stdout",
     "output_type": "stream",
     "text": [
      "404 Not Found: https://iiif.wellcomecollection.org/presentation/b13255009\n"
     ]
    },
    {
     "name": "stderr",
     "output_type": "stream",
     "text": [
      "Retrying downloads:  94%|█████████▍| 1518/1609 [12:48<00:45,  2.00it/s]"
     ]
    },
    {
     "name": "stdout",
     "output_type": "stream",
     "text": [
      "404 Not Found: https://iiif.wellcomecollection.org/presentation/b10111116\n"
     ]
    },
    {
     "name": "stderr",
     "output_type": "stream",
     "text": [
      "Retrying downloads:  94%|█████████▍| 1519/1609 [12:48<00:45,  1.98it/s]"
     ]
    },
    {
     "name": "stdout",
     "output_type": "stream",
     "text": [
      "404 Not Found: https://iiif.wellcomecollection.org/presentation/b10916386\n"
     ]
    },
    {
     "name": "stderr",
     "output_type": "stream",
     "text": [
      "Retrying downloads:  94%|█████████▍| 1520/1609 [12:49<00:45,  1.95it/s]"
     ]
    },
    {
     "name": "stdout",
     "output_type": "stream",
     "text": [
      "404 Not Found: https://iiif.wellcomecollection.org/presentation/b13256452\n"
     ]
    },
    {
     "name": "stderr",
     "output_type": "stream",
     "text": [
      "Retrying downloads:  95%|█████████▍| 1521/1609 [12:49<00:43,  2.03it/s]"
     ]
    },
    {
     "name": "stdout",
     "output_type": "stream",
     "text": [
      "404 Not Found: https://iiif.wellcomecollection.org/presentation/b11139493\n"
     ]
    },
    {
     "name": "stderr",
     "output_type": "stream",
     "text": [
      "Retrying downloads:  95%|█████████▍| 1522/1609 [12:50<00:43,  2.01it/s]"
     ]
    },
    {
     "name": "stdout",
     "output_type": "stream",
     "text": [
      "404 Not Found: https://iiif.wellcomecollection.org/presentation/b17442023\n"
     ]
    },
    {
     "name": "stderr",
     "output_type": "stream",
     "text": [
      "Retrying downloads:  95%|█████████▍| 1523/1609 [12:50<00:42,  2.04it/s]"
     ]
    },
    {
     "name": "stdout",
     "output_type": "stream",
     "text": [
      "404 Not Found: https://iiif.wellcomecollection.org/presentation/b10928765\n"
     ]
    },
    {
     "name": "stderr",
     "output_type": "stream",
     "text": [
      "Retrying downloads:  95%|█████████▍| 1524/1609 [12:50<00:41,  2.04it/s]"
     ]
    },
    {
     "name": "stdout",
     "output_type": "stream",
     "text": [
      "404 Not Found: https://iiif.wellcomecollection.org/presentation/b14584955\n"
     ]
    },
    {
     "name": "stderr",
     "output_type": "stream",
     "text": [
      "Retrying downloads:  95%|█████████▍| 1525/1609 [12:51<00:35,  2.37it/s]"
     ]
    },
    {
     "name": "stdout",
     "output_type": "stream",
     "text": [
      "404 Not Found: https://iiif.wellcomecollection.org/presentation/b10324318\n"
     ]
    },
    {
     "name": "stderr",
     "output_type": "stream",
     "text": [
      "Retrying downloads:  95%|█████████▍| 1526/1609 [12:51<00:36,  2.26it/s]"
     ]
    },
    {
     "name": "stdout",
     "output_type": "stream",
     "text": [
      "404 Not Found: https://iiif.wellcomecollection.org/presentation/b11536810\n"
     ]
    },
    {
     "name": "stderr",
     "output_type": "stream",
     "text": [
      "Retrying downloads:  95%|█████████▍| 1527/1609 [12:52<00:37,  2.16it/s]"
     ]
    },
    {
     "name": "stdout",
     "output_type": "stream",
     "text": [
      "404 Not Found: https://iiif.wellcomecollection.org/presentation/b10282701\n"
     ]
    },
    {
     "name": "stderr",
     "output_type": "stream",
     "text": [
      "Retrying downloads:  95%|█████████▍| 1528/1609 [12:52<00:38,  2.12it/s]"
     ]
    },
    {
     "name": "stdout",
     "output_type": "stream",
     "text": [
      "404 Not Found: https://iiif.wellcomecollection.org/presentation/b11533456\n"
     ]
    },
    {
     "name": "stderr",
     "output_type": "stream",
     "text": [
      "Retrying downloads:  95%|█████████▌| 1529/1609 [12:53<00:37,  2.11it/s]"
     ]
    },
    {
     "name": "stdout",
     "output_type": "stream",
     "text": [
      "404 Not Found: https://iiif.wellcomecollection.org/presentation/b12953830\n"
     ]
    },
    {
     "name": "stderr",
     "output_type": "stream",
     "text": [
      "Retrying downloads:  95%|█████████▌| 1530/1609 [12:53<00:38,  2.05it/s]"
     ]
    },
    {
     "name": "stdout",
     "output_type": "stream",
     "text": [
      "404 Not Found: https://iiif.wellcomecollection.org/presentation/b13135077\n"
     ]
    },
    {
     "name": "stderr",
     "output_type": "stream",
     "text": [
      "Retrying downloads:  95%|█████████▌| 1531/1609 [12:54<00:38,  2.04it/s]"
     ]
    },
    {
     "name": "stdout",
     "output_type": "stream",
     "text": [
      "404 Not Found: https://iiif.wellcomecollection.org/presentation/b12987797\n"
     ]
    },
    {
     "name": "stderr",
     "output_type": "stream",
     "text": [
      "Retrying downloads:  95%|█████████▌| 1532/1609 [12:54<00:37,  2.04it/s]"
     ]
    },
    {
     "name": "stdout",
     "output_type": "stream",
     "text": [
      "404 Not Found: https://iiif.wellcomecollection.org/presentation/b11055285\n"
     ]
    },
    {
     "name": "stderr",
     "output_type": "stream",
     "text": [
      "Retrying downloads:  95%|█████████▌| 1533/1609 [12:55<00:37,  2.02it/s]"
     ]
    },
    {
     "name": "stdout",
     "output_type": "stream",
     "text": [
      "404 Not Found: https://iiif.wellcomecollection.org/presentation/b10003356\n"
     ]
    },
    {
     "name": "stderr",
     "output_type": "stream",
     "text": [
      "Retrying downloads:  95%|█████████▌| 1534/1609 [12:55<00:36,  2.03it/s]"
     ]
    },
    {
     "name": "stdout",
     "output_type": "stream",
     "text": [
      "404 Not Found: https://iiif.wellcomecollection.org/presentation/b11147854\n"
     ]
    },
    {
     "name": "stderr",
     "output_type": "stream",
     "text": [
      "Retrying downloads:  95%|█████████▌| 1535/1609 [12:56<00:36,  2.05it/s]"
     ]
    },
    {
     "name": "stdout",
     "output_type": "stream",
     "text": [
      "404 Not Found: https://iiif.wellcomecollection.org/presentation/b11139390\n"
     ]
    },
    {
     "name": "stderr",
     "output_type": "stream",
     "text": [
      "Retrying downloads:  95%|█████████▌| 1536/1609 [12:56<00:36,  2.00it/s]"
     ]
    },
    {
     "name": "stdout",
     "output_type": "stream",
     "text": [
      "404 Not Found: https://iiif.wellcomecollection.org/presentation/b10915928\n"
     ]
    },
    {
     "name": "stderr",
     "output_type": "stream",
     "text": [
      "Retrying downloads:  96%|█████████▌| 1537/1609 [12:57<00:39,  1.81it/s]"
     ]
    },
    {
     "name": "stdout",
     "output_type": "stream",
     "text": [
      "404 Not Found: https://iiif.wellcomecollection.org/presentation/b13126295\n"
     ]
    },
    {
     "name": "stderr",
     "output_type": "stream",
     "text": [
      "Retrying downloads:  96%|█████████▌| 1538/1609 [12:57<00:38,  1.86it/s]"
     ]
    },
    {
     "name": "stdout",
     "output_type": "stream",
     "text": [
      "404 Not Found: https://iiif.wellcomecollection.org/presentation/b12951225\n"
     ]
    },
    {
     "name": "stderr",
     "output_type": "stream",
     "text": [
      "Retrying downloads:  96%|█████████▌| 1539/1609 [12:58<00:35,  1.95it/s]"
     ]
    },
    {
     "name": "stdout",
     "output_type": "stream",
     "text": [
      "404 Not Found: https://iiif.wellcomecollection.org/presentation/b11533572\n"
     ]
    },
    {
     "name": "stderr",
     "output_type": "stream",
     "text": [
      "Retrying downloads:  96%|█████████▌| 1540/1609 [12:58<00:35,  1.94it/s]"
     ]
    },
    {
     "name": "stdout",
     "output_type": "stream",
     "text": [
      "404 Not Found: https://iiif.wellcomecollection.org/presentation/b12951882\n"
     ]
    },
    {
     "name": "stderr",
     "output_type": "stream",
     "text": [
      "Retrying downloads:  96%|█████████▌| 1541/1609 [12:59<00:34,  2.00it/s]"
     ]
    },
    {
     "name": "stdout",
     "output_type": "stream",
     "text": [
      "404 Not Found: https://iiif.wellcomecollection.org/presentation/b10323090\n"
     ]
    },
    {
     "name": "stderr",
     "output_type": "stream",
     "text": [
      "Retrying downloads:  96%|█████████▌| 1542/1609 [12:59<00:35,  1.89it/s]"
     ]
    },
    {
     "name": "stdout",
     "output_type": "stream",
     "text": [
      "404 Not Found: https://iiif.wellcomecollection.org/presentation/b10769778\n"
     ]
    },
    {
     "name": "stderr",
     "output_type": "stream",
     "text": [
      "Retrying downloads:  96%|█████████▌| 1543/1609 [13:00<00:29,  2.22it/s]"
     ]
    },
    {
     "name": "stdout",
     "output_type": "stream",
     "text": [
      "404 Not Found: https://iiif.wellcomecollection.org/presentation/b11060098\n"
     ]
    },
    {
     "name": "stderr",
     "output_type": "stream",
     "text": [
      "Retrying downloads:  96%|█████████▌| 1544/1609 [13:00<00:29,  2.18it/s]"
     ]
    },
    {
     "name": "stdout",
     "output_type": "stream",
     "text": [
      "404 Not Found: https://iiif.wellcomecollection.org/presentation/b12951900\n"
     ]
    },
    {
     "name": "stderr",
     "output_type": "stream",
     "text": [
      "Retrying downloads:  96%|█████████▌| 1545/1609 [13:01<00:31,  2.04it/s]"
     ]
    },
    {
     "name": "stdout",
     "output_type": "stream",
     "text": [
      "404 Not Found: https://iiif.wellcomecollection.org/presentation/b10883903\n"
     ]
    },
    {
     "name": "stderr",
     "output_type": "stream",
     "text": [
      "Retrying downloads:  96%|█████████▌| 1546/1609 [13:01<00:31,  1.99it/s]"
     ]
    },
    {
     "name": "stdout",
     "output_type": "stream",
     "text": [
      "404 Not Found: https://iiif.wellcomecollection.org/presentation/b12995150\n"
     ]
    },
    {
     "name": "stderr",
     "output_type": "stream",
     "text": [
      "Retrying downloads:  96%|█████████▌| 1547/1609 [13:02<00:30,  2.04it/s]"
     ]
    },
    {
     "name": "stdout",
     "output_type": "stream",
     "text": [
      "404 Not Found: https://iiif.wellcomecollection.org/presentation/b12844287\n"
     ]
    },
    {
     "name": "stderr",
     "output_type": "stream",
     "text": [
      "Retrying downloads:  96%|█████████▌| 1548/1609 [13:02<00:29,  2.03it/s]"
     ]
    },
    {
     "name": "stdout",
     "output_type": "stream",
     "text": [
      "404 Not Found: https://iiif.wellcomecollection.org/presentation/b10775900\n"
     ]
    },
    {
     "name": "stderr",
     "output_type": "stream",
     "text": [
      "Retrying downloads:  96%|█████████▋| 1549/1609 [13:03<00:28,  2.09it/s]"
     ]
    },
    {
     "name": "stdout",
     "output_type": "stream",
     "text": [
      "404 Not Found: https://iiif.wellcomecollection.org/presentation/b10109687\n"
     ]
    },
    {
     "name": "stderr",
     "output_type": "stream",
     "text": [
      "Retrying downloads:  96%|█████████▋| 1550/1609 [13:03<00:24,  2.41it/s]"
     ]
    },
    {
     "name": "stdout",
     "output_type": "stream",
     "text": [
      "404 Not Found: https://iiif.wellcomecollection.org/presentation/b11056174\n"
     ]
    },
    {
     "name": "stderr",
     "output_type": "stream",
     "text": [
      "Retrying downloads:  96%|█████████▋| 1551/1609 [13:03<00:25,  2.27it/s]"
     ]
    },
    {
     "name": "stdout",
     "output_type": "stream",
     "text": [
      "404 Not Found: https://iiif.wellcomecollection.org/presentation/b10615222\n"
     ]
    },
    {
     "name": "stderr",
     "output_type": "stream",
     "text": [
      "Retrying downloads:  96%|█████████▋| 1552/1609 [13:04<00:25,  2.21it/s]"
     ]
    },
    {
     "name": "stdout",
     "output_type": "stream",
     "text": [
      "404 Not Found: https://iiif.wellcomecollection.org/presentation/b11142753\n"
     ]
    },
    {
     "name": "stderr",
     "output_type": "stream",
     "text": [
      "Retrying downloads:  97%|█████████▋| 1553/1609 [13:04<00:26,  2.14it/s]"
     ]
    },
    {
     "name": "stdout",
     "output_type": "stream",
     "text": [
      "404 Not Found: https://iiif.wellcomecollection.org/presentation/b12192028\n"
     ]
    },
    {
     "name": "stderr",
     "output_type": "stream",
     "text": [
      "Retrying downloads:  97%|█████████▋| 1554/1609 [13:05<00:26,  2.11it/s]"
     ]
    },
    {
     "name": "stdout",
     "output_type": "stream",
     "text": [
      "404 Not Found: https://iiif.wellcomecollection.org/presentation/b11057117\n"
     ]
    },
    {
     "name": "stderr",
     "output_type": "stream",
     "text": [
      "Retrying downloads:  97%|█████████▋| 1555/1609 [13:05<00:26,  2.06it/s]"
     ]
    },
    {
     "name": "stdout",
     "output_type": "stream",
     "text": [
      "404 Not Found: https://iiif.wellcomecollection.org/presentation/b10324835\n"
     ]
    },
    {
     "name": "stderr",
     "output_type": "stream",
     "text": [
      "Retrying downloads:  97%|█████████▋| 1556/1609 [13:06<00:25,  2.06it/s]"
     ]
    },
    {
     "name": "stdout",
     "output_type": "stream",
     "text": [
      "404 Not Found: https://iiif.wellcomecollection.org/presentation/b11481535\n"
     ]
    },
    {
     "name": "stderr",
     "output_type": "stream",
     "text": [
      "Retrying downloads:  97%|█████████▋| 1557/1609 [13:06<00:25,  2.02it/s]"
     ]
    },
    {
     "name": "stdout",
     "output_type": "stream",
     "text": [
      "404 Not Found: https://iiif.wellcomecollection.org/presentation/b16434316\n"
     ]
    },
    {
     "name": "stderr",
     "output_type": "stream",
     "text": [
      "Retrying downloads:  97%|█████████▋| 1558/1609 [13:07<00:24,  2.07it/s]"
     ]
    },
    {
     "name": "stdout",
     "output_type": "stream",
     "text": [
      "404 Not Found: https://iiif.wellcomecollection.org/presentation/b11148846\n"
     ]
    },
    {
     "name": "stderr",
     "output_type": "stream",
     "text": [
      "Retrying downloads:  97%|█████████▋| 1559/1609 [13:07<00:24,  2.04it/s]"
     ]
    },
    {
     "name": "stdout",
     "output_type": "stream",
     "text": [
      "404 Not Found: https://iiif.wellcomecollection.org/presentation/b11143137\n"
     ]
    },
    {
     "name": "stderr",
     "output_type": "stream",
     "text": [
      "Retrying downloads:  97%|█████████▋| 1560/1609 [13:08<00:24,  2.02it/s]"
     ]
    },
    {
     "name": "stdout",
     "output_type": "stream",
     "text": [
      "404 Not Found: https://iiif.wellcomecollection.org/presentation/b10539311\n"
     ]
    },
    {
     "name": "stderr",
     "output_type": "stream",
     "text": [
      "Retrying downloads:  97%|█████████▋| 1561/1609 [13:08<00:23,  2.05it/s]"
     ]
    },
    {
     "name": "stdout",
     "output_type": "stream",
     "text": [
      "404 Not Found: https://iiif.wellcomecollection.org/presentation/b10866644\n"
     ]
    },
    {
     "name": "stderr",
     "output_type": "stream",
     "text": [
      "Retrying downloads:  97%|█████████▋| 1562/1609 [13:09<00:22,  2.06it/s]"
     ]
    },
    {
     "name": "stdout",
     "output_type": "stream",
     "text": [
      "404 Not Found: https://iiif.wellcomecollection.org/presentation/b12178056\n"
     ]
    },
    {
     "name": "stderr",
     "output_type": "stream",
     "text": [
      "Retrying downloads:  97%|█████████▋| 1563/1609 [13:09<00:22,  2.05it/s]"
     ]
    },
    {
     "name": "stdout",
     "output_type": "stream",
     "text": [
      "404 Not Found: https://iiif.wellcomecollection.org/presentation/b13150601\n"
     ]
    },
    {
     "name": "stderr",
     "output_type": "stream",
     "text": [
      "Retrying downloads:  97%|█████████▋| 1564/1609 [13:10<00:22,  2.02it/s]"
     ]
    },
    {
     "name": "stdout",
     "output_type": "stream",
     "text": [
      "404 Not Found: https://iiif.wellcomecollection.org/presentation/b1315459x\n"
     ]
    },
    {
     "name": "stderr",
     "output_type": "stream",
     "text": [
      "Retrying downloads:  97%|█████████▋| 1565/1609 [13:10<00:22,  1.99it/s]"
     ]
    },
    {
     "name": "stdout",
     "output_type": "stream",
     "text": [
      "404 Not Found: https://iiif.wellcomecollection.org/presentation/b10107290\n"
     ]
    },
    {
     "name": "stderr",
     "output_type": "stream",
     "text": [
      "Retrying downloads:  97%|█████████▋| 1566/1609 [13:11<00:21,  1.96it/s]"
     ]
    },
    {
     "name": "stdout",
     "output_type": "stream",
     "text": [
      "404 Not Found: https://iiif.wellcomecollection.org/presentation/b12067362\n"
     ]
    },
    {
     "name": "stderr",
     "output_type": "stream",
     "text": [
      "Retrying downloads:  97%|█████████▋| 1567/1609 [13:11<00:21,  2.00it/s]"
     ]
    },
    {
     "name": "stdout",
     "output_type": "stream",
     "text": [
      "404 Not Found: https://iiif.wellcomecollection.org/presentation/b10286974\n"
     ]
    },
    {
     "name": "stderr",
     "output_type": "stream",
     "text": [
      "Retrying downloads:  97%|█████████▋| 1568/1609 [13:12<00:20,  2.00it/s]"
     ]
    },
    {
     "name": "stdout",
     "output_type": "stream",
     "text": [
      "404 Not Found: https://iiif.wellcomecollection.org/presentation/b10332741\n"
     ]
    },
    {
     "name": "stderr",
     "output_type": "stream",
     "text": [
      "Retrying downloads:  98%|█████████▊| 1569/1609 [13:12<00:19,  2.01it/s]"
     ]
    },
    {
     "name": "stdout",
     "output_type": "stream",
     "text": [
      "404 Not Found: https://iiif.wellcomecollection.org/presentation/b14563083\n"
     ]
    },
    {
     "name": "stderr",
     "output_type": "stream",
     "text": [
      "Retrying downloads:  98%|█████████▊| 1570/1609 [13:13<00:19,  2.03it/s]"
     ]
    },
    {
     "name": "stdout",
     "output_type": "stream",
     "text": [
      "404 Not Found: https://iiif.wellcomecollection.org/presentation/b10875475\n"
     ]
    },
    {
     "name": "stderr",
     "output_type": "stream",
     "text": [
      "Retrying downloads:  98%|█████████▊| 1571/1609 [13:13<00:18,  2.03it/s]"
     ]
    },
    {
     "name": "stdout",
     "output_type": "stream",
     "text": [
      "404 Not Found: https://iiif.wellcomecollection.org/presentation/b11213784\n"
     ]
    },
    {
     "name": "stderr",
     "output_type": "stream",
     "text": [
      "Retrying downloads:  98%|█████████▊| 1572/1609 [13:14<00:18,  2.03it/s]"
     ]
    },
    {
     "name": "stdout",
     "output_type": "stream",
     "text": [
      "404 Not Found: https://iiif.wellcomecollection.org/presentation/b11059084\n"
     ]
    },
    {
     "name": "stderr",
     "output_type": "stream",
     "text": [
      "Retrying downloads:  98%|█████████▊| 1573/1609 [13:14<00:18,  1.91it/s]"
     ]
    },
    {
     "name": "stdout",
     "output_type": "stream",
     "text": [
      "404 Not Found: https://iiif.wellcomecollection.org/presentation/b13033736\n"
     ]
    },
    {
     "name": "stderr",
     "output_type": "stream",
     "text": [
      "Retrying downloads:  98%|█████████▊| 1574/1609 [13:15<00:18,  1.93it/s]"
     ]
    },
    {
     "name": "stdout",
     "output_type": "stream",
     "text": [
      "404 Not Found: https://iiif.wellcomecollection.org/presentation/b11144294\n"
     ]
    },
    {
     "name": "stderr",
     "output_type": "stream",
     "text": [
      "Retrying downloads:  98%|█████████▊| 1575/1609 [13:15<00:17,  1.95it/s]"
     ]
    },
    {
     "name": "stdout",
     "output_type": "stream",
     "text": [
      "404 Not Found: https://iiif.wellcomecollection.org/presentation/b1220433x\n"
     ]
    },
    {
     "name": "stderr",
     "output_type": "stream",
     "text": [
      "Retrying downloads:  98%|█████████▊| 1576/1609 [13:16<00:16,  1.99it/s]"
     ]
    },
    {
     "name": "stdout",
     "output_type": "stream",
     "text": [
      "404 Not Found: https://iiif.wellcomecollection.org/presentation/b12986951\n"
     ]
    },
    {
     "name": "stderr",
     "output_type": "stream",
     "text": [
      "Retrying downloads:  98%|█████████▊| 1577/1609 [13:16<00:16,  1.96it/s]"
     ]
    },
    {
     "name": "stdout",
     "output_type": "stream",
     "text": [
      "404 Not Found: https://iiif.wellcomecollection.org/presentation/b10111402\n"
     ]
    },
    {
     "name": "stderr",
     "output_type": "stream",
     "text": [
      "Retrying downloads:  98%|█████████▊| 1578/1609 [13:17<00:15,  1.98it/s]"
     ]
    },
    {
     "name": "stdout",
     "output_type": "stream",
     "text": [
      "404 Not Found: https://iiif.wellcomecollection.org/presentation/b12996464\n"
     ]
    },
    {
     "name": "stderr",
     "output_type": "stream",
     "text": [
      "Retrying downloads:  98%|█████████▊| 1579/1609 [13:17<00:15,  2.00it/s]"
     ]
    },
    {
     "name": "stdout",
     "output_type": "stream",
     "text": [
      "404 Not Found: https://iiif.wellcomecollection.org/presentation/b10990033\n"
     ]
    },
    {
     "name": "stderr",
     "output_type": "stream",
     "text": [
      "Retrying downloads:  98%|█████████▊| 1580/1609 [13:18<00:14,  2.04it/s]"
     ]
    },
    {
     "name": "stdout",
     "output_type": "stream",
     "text": [
      "404 Not Found: https://iiif.wellcomecollection.org/presentation/b11512854\n"
     ]
    },
    {
     "name": "stderr",
     "output_type": "stream",
     "text": [
      "Retrying downloads:  98%|█████████▊| 1581/1609 [13:18<00:13,  2.02it/s]"
     ]
    },
    {
     "name": "stdout",
     "output_type": "stream",
     "text": [
      "404 Not Found: https://iiif.wellcomecollection.org/presentation/b13256178\n"
     ]
    },
    {
     "name": "stderr",
     "output_type": "stream",
     "text": [
      "Retrying downloads:  98%|█████████▊| 1582/1609 [13:19<00:13,  2.03it/s]"
     ]
    },
    {
     "name": "stdout",
     "output_type": "stream",
     "text": [
      "404 Not Found: https://iiif.wellcomecollection.org/presentation/b11060086\n"
     ]
    },
    {
     "name": "stderr",
     "output_type": "stream",
     "text": [
      "Retrying downloads:  98%|█████████▊| 1583/1609 [13:19<00:12,  2.05it/s]"
     ]
    },
    {
     "name": "stdout",
     "output_type": "stream",
     "text": [
      "404 Not Found: https://iiif.wellcomecollection.org/presentation/b13099383\n"
     ]
    },
    {
     "name": "stderr",
     "output_type": "stream",
     "text": [
      "Retrying downloads:  98%|█████████▊| 1584/1609 [13:20<00:12,  2.05it/s]"
     ]
    },
    {
     "name": "stdout",
     "output_type": "stream",
     "text": [
      "404 Not Found: https://iiif.wellcomecollection.org/presentation/b1018272x\n"
     ]
    },
    {
     "name": "stderr",
     "output_type": "stream",
     "text": [
      "Retrying downloads:  99%|█████████▊| 1585/1609 [13:20<00:12,  1.99it/s]"
     ]
    },
    {
     "name": "stdout",
     "output_type": "stream",
     "text": [
      "404 Not Found: https://iiif.wellcomecollection.org/presentation/b11150592\n"
     ]
    },
    {
     "name": "stderr",
     "output_type": "stream",
     "text": [
      "Retrying downloads:  99%|█████████▊| 1586/1609 [13:21<00:11,  1.97it/s]"
     ]
    },
    {
     "name": "stdout",
     "output_type": "stream",
     "text": [
      "404 Not Found: https://iiif.wellcomecollection.org/presentation/b10777088\n"
     ]
    },
    {
     "name": "stderr",
     "output_type": "stream",
     "text": [
      "Retrying downloads:  99%|█████████▊| 1587/1609 [13:21<00:11,  2.00it/s]"
     ]
    },
    {
     "name": "stdout",
     "output_type": "stream",
     "text": [
      "404 Not Found: https://iiif.wellcomecollection.org/presentation/b13135314\n"
     ]
    },
    {
     "name": "stderr",
     "output_type": "stream",
     "text": [
      "Retrying downloads:  99%|█████████▊| 1588/1609 [13:22<00:10,  2.01it/s]"
     ]
    },
    {
     "name": "stdout",
     "output_type": "stream",
     "text": [
      "404 Not Found: https://iiif.wellcomecollection.org/presentation/b12953799\n"
     ]
    },
    {
     "name": "stderr",
     "output_type": "stream",
     "text": [
      "Retrying downloads:  99%|█████████▉| 1589/1609 [13:22<00:09,  2.00it/s]"
     ]
    },
    {
     "name": "stdout",
     "output_type": "stream",
     "text": [
      "404 Not Found: https://iiif.wellcomecollection.org/presentation/b10768452\n"
     ]
    },
    {
     "name": "stderr",
     "output_type": "stream",
     "text": [
      "Retrying downloads:  99%|█████████▉| 1590/1609 [13:23<00:09,  1.99it/s]"
     ]
    },
    {
     "name": "stdout",
     "output_type": "stream",
     "text": [
      "404 Not Found: https://iiif.wellcomecollection.org/presentation/b1092727x\n"
     ]
    },
    {
     "name": "stderr",
     "output_type": "stream",
     "text": [
      "Retrying downloads:  99%|█████████▉| 1591/1609 [13:23<00:09,  1.99it/s]"
     ]
    },
    {
     "name": "stdout",
     "output_type": "stream",
     "text": [
      "404 Not Found: https://iiif.wellcomecollection.org/presentation/b11058808\n"
     ]
    },
    {
     "name": "stderr",
     "output_type": "stream",
     "text": [
      "Retrying downloads:  99%|█████████▉| 1592/1609 [13:24<00:08,  2.00it/s]"
     ]
    },
    {
     "name": "stdout",
     "output_type": "stream",
     "text": [
      "404 Not Found: https://iiif.wellcomecollection.org/presentation/b12946837\n"
     ]
    },
    {
     "name": "stderr",
     "output_type": "stream",
     "text": [
      "Retrying downloads:  99%|█████████▉| 1593/1609 [13:24<00:07,  2.05it/s]"
     ]
    },
    {
     "name": "stdout",
     "output_type": "stream",
     "text": [
      "404 Not Found: https://iiif.wellcomecollection.org/presentation/b12822000\n"
     ]
    },
    {
     "name": "stderr",
     "output_type": "stream",
     "text": [
      "Retrying downloads:  99%|█████████▉| 1594/1609 [13:25<00:07,  2.06it/s]"
     ]
    },
    {
     "name": "stdout",
     "output_type": "stream",
     "text": [
      "404 Not Found: https://iiif.wellcomecollection.org/presentation/b10809892\n"
     ]
    },
    {
     "name": "stderr",
     "output_type": "stream",
     "text": [
      "Retrying downloads:  99%|█████████▉| 1595/1609 [13:25<00:06,  2.10it/s]"
     ]
    },
    {
     "name": "stdout",
     "output_type": "stream",
     "text": [
      "404 Not Found: https://iiif.wellcomecollection.org/presentation/b1456712x\n"
     ]
    },
    {
     "name": "stderr",
     "output_type": "stream",
     "text": [
      "Retrying downloads:  99%|█████████▉| 1596/1609 [13:26<00:06,  2.06it/s]"
     ]
    },
    {
     "name": "stdout",
     "output_type": "stream",
     "text": [
      "404 Not Found: https://iiif.wellcomecollection.org/presentation/b10108282\n"
     ]
    },
    {
     "name": "stderr",
     "output_type": "stream",
     "text": [
      "Retrying downloads:  99%|█████████▉| 1597/1609 [13:26<00:05,  2.03it/s]"
     ]
    },
    {
     "name": "stdout",
     "output_type": "stream",
     "text": [
      "404 Not Found: https://iiif.wellcomecollection.org/presentation/b11058316\n"
     ]
    },
    {
     "name": "stderr",
     "output_type": "stream",
     "text": [
      "Retrying downloads:  99%|█████████▉| 1598/1609 [13:27<00:05,  2.05it/s]"
     ]
    },
    {
     "name": "stdout",
     "output_type": "stream",
     "text": [
      "404 Not Found: https://iiif.wellcomecollection.org/presentation/b12206271\n"
     ]
    },
    {
     "name": "stderr",
     "output_type": "stream",
     "text": [
      "Retrying downloads:  99%|█████████▉| 1599/1609 [13:27<00:04,  2.02it/s]"
     ]
    },
    {
     "name": "stdout",
     "output_type": "stream",
     "text": [
      "404 Not Found: https://iiif.wellcomecollection.org/presentation/b1088600x\n"
     ]
    },
    {
     "name": "stderr",
     "output_type": "stream",
     "text": [
      "Retrying downloads:  99%|█████████▉| 1600/1609 [13:28<00:04,  2.02it/s]"
     ]
    },
    {
     "name": "stdout",
     "output_type": "stream",
     "text": [
      "404 Not Found: https://iiif.wellcomecollection.org/presentation/b10554166\n"
     ]
    },
    {
     "name": "stderr",
     "output_type": "stream",
     "text": [
      "Retrying downloads: 100%|█████████▉| 1601/1609 [13:28<00:04,  1.96it/s]"
     ]
    },
    {
     "name": "stdout",
     "output_type": "stream",
     "text": [
      "404 Not Found: https://iiif.wellcomecollection.org/presentation/b13149040\n"
     ]
    },
    {
     "name": "stderr",
     "output_type": "stream",
     "text": [
      "Retrying downloads: 100%|█████████▉| 1602/1609 [13:29<00:03,  1.99it/s]"
     ]
    },
    {
     "name": "stdout",
     "output_type": "stream",
     "text": [
      "404 Not Found: https://iiif.wellcomecollection.org/presentation/b14569577\n"
     ]
    },
    {
     "name": "stderr",
     "output_type": "stream",
     "text": [
      "Retrying downloads: 100%|█████████▉| 1603/1609 [13:29<00:03,  1.99it/s]"
     ]
    },
    {
     "name": "stdout",
     "output_type": "stream",
     "text": [
      "404 Not Found: https://iiif.wellcomecollection.org/presentation/b11198485\n"
     ]
    },
    {
     "name": "stderr",
     "output_type": "stream",
     "text": [
      "Retrying downloads: 100%|█████████▉| 1604/1609 [13:30<00:02,  2.00it/s]"
     ]
    },
    {
     "name": "stdout",
     "output_type": "stream",
     "text": [
      "404 Not Found: https://iiif.wellcomecollection.org/presentation/b11059126\n"
     ]
    },
    {
     "name": "stderr",
     "output_type": "stream",
     "text": [
      "Retrying downloads: 100%|█████████▉| 1605/1609 [13:30<00:01,  2.04it/s]"
     ]
    },
    {
     "name": "stdout",
     "output_type": "stream",
     "text": [
      "404 Not Found: https://iiif.wellcomecollection.org/presentation/b10318999\n"
     ]
    },
    {
     "name": "stderr",
     "output_type": "stream",
     "text": [
      "Retrying downloads: 100%|█████████▉| 1606/1609 [13:31<00:01,  1.95it/s]"
     ]
    },
    {
     "name": "stdout",
     "output_type": "stream",
     "text": [
      "404 Not Found: https://iiif.wellcomecollection.org/presentation/b11213760\n"
     ]
    },
    {
     "name": "stderr",
     "output_type": "stream",
     "text": [
      "Retrying downloads: 100%|█████████▉| 1607/1609 [13:31<00:01,  1.95it/s]"
     ]
    },
    {
     "name": "stdout",
     "output_type": "stream",
     "text": [
      "404 Not Found: https://iiif.wellcomecollection.org/presentation/b10308349\n"
     ]
    },
    {
     "name": "stderr",
     "output_type": "stream",
     "text": [
      "Retrying downloads: 100%|█████████▉| 1608/1609 [13:32<00:00,  1.99it/s]"
     ]
    },
    {
     "name": "stdout",
     "output_type": "stream",
     "text": [
      "404 Not Found: https://iiif.wellcomecollection.org/presentation/b13255940\n"
     ]
    },
    {
     "name": "stderr",
     "output_type": "stream",
     "text": [
      "Retrying downloads: 100%|██████████| 1609/1609 [13:32<00:00,  1.98it/s]"
     ]
    },
    {
     "name": "stdout",
     "output_type": "stream",
     "text": [
      "404 Not Found: https://iiif.wellcomecollection.org/presentation/b1077712x\n",
      "Retry results: 0 successful, 1609 failed\n",
      "404 records saved to ../data/iiif_manifests/404_not_found.csv\n"
     ]
    },
    {
     "name": "stderr",
     "output_type": "stream",
     "text": [
      "\n"
     ]
    }
   ],
   "source": [
    "import requests\n",
    "from tqdm import tqdm\n",
    "import csv\n",
    "\n",
    "def retry_download_empty_files(empty_files, directory='../data/iiif_manifests'):\n",
    "    \"\"\"Retry downloading the empty JSON files\"\"\"\n",
    "    success_count = 0\n",
    "    fail_count = 0\n",
    "    not_found_records = []\n",
    "\n",
    "    for filename in tqdm(empty_files, desc=\"Retrying downloads\"):\n",
    "        # If filename includes error message (small content), clean it up\n",
    "        if \" (small content:\" in filename:\n",
    "            filename = filename.split(\" (small content:\")[0]\n",
    "\n",
    "        filepath = os.path.join(directory, filename)\n",
    "\n",
    "        # Parse the work ID and manifest ID from the filename\n",
    "        # Format is typically: a222zvge_b18659135.json\n",
    "        parts = filename.rsplit('_', 1)\n",
    "        if len(parts) != 2 or not parts[1].endswith('.json'):\n",
    "            print(f\"Skipping {filename}: unable to parse URL\")\n",
    "            fail_count += 1\n",
    "            continue\n",
    "\n",
    "        work_id = parts[0]\n",
    "        manifest_id = parts[1].rsplit('.', 1)[0]\n",
    "\n",
    "        # Recreate the URL\n",
    "        url = f\"https://iiif.wellcomecollection.org/presentation/{manifest_id}\"\n",
    "\n",
    "        # Try downloading\n",
    "        success = False\n",
    "        for attempt in range(3):\n",
    "            try:\n",
    "                resp = requests.get(url, timeout=15)\n",
    "                if resp.status_code == 404:\n",
    "                    print(f\"404 Not Found: {url}\")\n",
    "                    not_found_records.append({\"filename\": filename, \"url\": url})\n",
    "                    break  # Exit retry loop on 404\n",
    "                resp.raise_for_status()\n",
    "                with open(filepath, \"w\") as f:\n",
    "                    f.write(resp.text)\n",
    "                success = True\n",
    "                break\n",
    "            except Exception as e:\n",
    "                if attempt < 2:  # Don't sleep after the last attempt\n",
    "                    import time\n",
    "                    time.sleep(1)  # Wait a bit before retrying\n",
    "\n",
    "        if success:\n",
    "            success_count += 1\n",
    "        else:\n",
    "            fail_count += 1\n",
    "\n",
    "    # Write 404 records to a CSV file\n",
    "    csv_path = os.path.join(directory, b\"404_not_found.csv\")\n",
    "    with open(csv_path, mode=\"w\", newline=\"\") as csvfile:\n",
    "        fieldnames = [\"filename\", \"url\"]\n",
    "        writer = csv.DictWriter(csvfile, fieldnames=fieldnames)\n",
    "        writer.writeheader()\n",
    "        writer.writerows(not_found_records)\n",
    "\n",
    "    print(f\"Retry results: {success_count} successful, {fail_count} failed\")\n",
    "    print(f\"404 records saved to {csv_path}\")\n",
    "    return success_count, fail_count\n",
    "\n",
    "# Uncomment to retry downloading empty files\n",
    "success_count, fail_count = retry_download_empty_files(empty_files)"
   ]
  },
  {
   "cell_type": "code",
   "execution_count": null,
   "id": "25c60623",
   "metadata": {},
   "outputs": [],
   "source": []
  }
 ],
 "metadata": {
  "kernelspec": {
   "display_name": ".venv",
   "language": "python",
   "name": "python3"
  },
  "language_info": {
   "codemirror_mode": {
    "name": "ipython",
    "version": 3
   },
   "file_extension": ".py",
   "mimetype": "text/x-python",
   "name": "python",
   "nbconvert_exporter": "python",
   "pygments_lexer": "ipython3",
   "version": "3.12.3"
  }
 },
 "nbformat": 4,
 "nbformat_minor": 5
}
