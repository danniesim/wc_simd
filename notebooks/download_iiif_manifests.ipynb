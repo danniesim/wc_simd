{
 "cells": [
  {
   "cell_type": "markdown",
   "id": "04425c16",
   "metadata": {},
   "source": [
    "# Download IIIF Manifests\n",
    "\n",
    "This notebook is for downloading and working with IIIF manifests from the Wellcome Collection."
   ]
  },
  {
   "cell_type": "code",
   "execution_count": null,
   "id": "e774c518",
   "metadata": {},
   "outputs": [],
   "source": [
    "import os\n",
    "import json\n",
    "from pprint import pprint\n",
    "import sys\n",
    "\n",
    "from wc_simd.iiif_manifests import download_iiif_manifests"
   ]
  },
  {
   "cell_type": "markdown",
   "id": "36b4dd7b",
   "metadata": {},
   "source": [
    "## Download IIIF Manifests\n",
    "\n",
    "Run the function to download IIIF manifests if needed.\n",
    "The default directory is the current directory, but we'll specify to save in '../data/iiif_manifests'."
   ]
  },
  {
   "cell_type": "code",
   "execution_count": null,
   "id": "c431e301",
   "metadata": {},
   "outputs": [],
   "source": [
    "# Uncomment and run this cell to download manifests\n",
    "# download_iiif_manifests(\n",
    "#     subset_fraction=0.01,  # Use a small subset for testing\n",
    "#     download_dir='../data/iiif_manifests'\n",
    "# )"
   ]
  },
  {
   "cell_type": "markdown",
   "id": "786aaaa6",
   "metadata": {},
   "source": [
    "## Find Empty JSON Files\n",
    "\n",
    "The download process creates empty JSON files (`{}`) when a download fails after multiple attempts.\n",
    "Let's identify these files to check which manifests had download issues."
   ]
  },
  {
   "cell_type": "code",
   "execution_count": 4,
   "id": "29d0b8e4",
   "metadata": {},
   "outputs": [
    {
     "name": "stdout",
     "output_type": "stream",
     "text": [
      "Found 1609 empty files out of 339927 total JSON files (0.47% failure rate)\n",
      "First 10 empty files:\n",
      "- ffhjnz93_b11144890.json\n",
      "- k3ebsey3_b1011144x.json\n",
      "- u4hzwpnq_b1040031x.json\n",
      "- gnc2sg5t_b13146993.json\n",
      "- x8sd5g3u_b11486375.json\n",
      "- eszejfpv_b12974390.json\n",
      "- s26cpfe5_b11144130.json\n",
      "- nw6gp87v_b12177362.json\n",
      "- knpccfgg_b11512817.json\n",
      "- yfe5hvm8_b13147201.json\n",
      "... and 1599 more\n"
     ]
    }
   ],
   "source": [
    "def find_empty_json_files(directory='../data/iiif_manifests'):\n",
    "    \"\"\"Find all JSON files in the directory that are empty or very small in size.\"\"\"\n",
    "    empty_files = []\n",
    "    total_files = 0\n",
    "\n",
    "    # Ensure directory exists\n",
    "    if not os.path.exists(directory):\n",
    "        print(f\"Directory {directory} does not exist.\")\n",
    "        return empty_files, total_files\n",
    "\n",
    "    # Get all JSON files\n",
    "    json_files = [f for f in os.listdir(directory) if f.endswith('.json')]\n",
    "    total_files = len(json_files)\n",
    "\n",
    "    # Check file sizes\n",
    "    for filename in json_files:\n",
    "        filepath = os.path.join(directory, filename)\n",
    "        try:\n",
    "            if os.path.getsize(filepath) <= 2:  # File size <= 2 bytes (e.g., \"{}\")\n",
    "                empty_files.append(filename)\n",
    "        except Exception as e:\n",
    "            print(f\"Error checking size of {filename}: {e}\")\n",
    "\n",
    "    return empty_files, total_files\n",
    "\n",
    "# Run the function\n",
    "empty_files, total_files = find_empty_json_files()\n",
    "\n",
    "# Print results\n",
    "print(f\"Found {len(empty_files)} empty files out of {total_files} total JSON files ({(len(empty_files)/total_files)*100:.2f}% failure rate)\")\n",
    "if empty_files:\n",
    "    print(\"First 10 empty files:\")\n",
    "    for file in empty_files[:10]:\n",
    "        print(f\"- {file}\")\n",
    "    \n",
    "    if len(empty_files) > 10:\n",
    "        print(f\"... and {len(empty_files) - 10} more\")"
   ]
  },
  {
   "cell_type": "markdown",
   "id": "00b4e00c",
   "metadata": {},
   "source": [
    "## Retry Downloading Empty Files\n",
    "\n",
    "If you want to retry downloading the empty files, you can use the function below."
   ]
  },
  {
   "cell_type": "code",
   "execution_count": null,
   "id": "c1eebf4e",
   "metadata": {},
   "outputs": [],
   "source": [
    "import requests\n",
    "from tqdm import tqdm\n",
    "import csv\n",
    "\n",
    "def retry_download_empty_files(empty_files, directory='../data/iiif_manifests'):\n",
    "    \"\"\"Retry downloading the empty JSON files\"\"\"\n",
    "    success_count = 0\n",
    "    fail_count = 0\n",
    "    not_found_records = []\n",
    "\n",
    "    for filename in tqdm(empty_files, desc=\"Retrying downloads\"):\n",
    "        # If filename includes error message (small content), clean it up\n",
    "        if \" (small content:\" in filename:\n",
    "            filename = filename.split(\" (small content:\")[0]\n",
    "\n",
    "        filepath = os.path.join(directory, filename)\n",
    "\n",
    "        # Parse the work ID and manifest ID from the filename\n",
    "        # Format is typically: a222zvge_b18659135.json\n",
    "        parts = filename.rsplit('_', 1)\n",
    "        if len(parts) != 2 or not parts[1].endswith('.json'):\n",
    "            print(f\"Skipping {filename}: unable to parse URL\")\n",
    "            fail_count += 1\n",
    "            continue\n",
    "\n",
    "        work_id = parts[0]\n",
    "        manifest_id = parts[1].rsplit('.', 1)[0]\n",
    "\n",
    "        # Recreate the URL\n",
    "        url = f\"https://iiif.wellcomecollection.org/presentation/{manifest_id}\"\n",
    "\n",
    "        # Try downloading\n",
    "        success = False\n",
    "        for attempt in range(3):\n",
    "            try:\n",
    "                resp = requests.get(url, timeout=15)\n",
    "                if resp.status_code == 404:\n",
    "                    print(f\"404 Not Found: {url}\")\n",
    "                    not_found_records.append({\"filename\": filename, \"url\": url})\n",
    "                    break  # Exit retry loop on 404\n",
    "                resp.raise_for_status()\n",
    "                with open(filepath, \"w\") as f:\n",
    "                    f.write(resp.text)\n",
    "                success = True\n",
    "                break\n",
    "            except Exception as e:\n",
    "                if attempt < 2:  # Don't sleep after the last attempt\n",
    "                    import time\n",
    "                    time.sleep(1)  # Wait a bit before retrying\n",
    "\n",
    "        if success:\n",
    "            success_count += 1\n",
    "        else:\n",
    "            fail_count += 1\n",
    "\n",
    "    # Write 404 records to a CSV file\n",
    "    csv_path = os.path.join(directory, b\"404_not_found.csv\")\n",
    "    with open(csv_path, mode=\"w\", newline=\"\") as csvfile:\n",
    "        fieldnames = [\"filename\", \"url\"]\n",
    "        writer = csv.DictWriter(csvfile, fieldnames=fieldnames)\n",
    "        writer.writeheader()\n",
    "        writer.writerows(not_found_records)\n",
    "\n",
    "    print(f\"Retry results: {success_count} successful, {fail_count} failed\")\n",
    "    print(f\"404 records saved to {csv_path}\")\n",
    "    return success_count, fail_count\n",
    "\n",
    "# Uncomment to retry downloading empty files\n",
    "success_count, fail_count = retry_download_empty_files(empty_files)"
   ]
  },
  {
   "cell_type": "code",
   "execution_count": null,
   "id": "25c60623",
   "metadata": {},
   "outputs": [],
   "source": []
  }
 ],
 "metadata": {
  "kernelspec": {
   "display_name": ".venv",
   "language": "python",
   "name": "python3"
  },
  "language_info": {
   "codemirror_mode": {
    "name": "ipython",
    "version": 3
   },
   "file_extension": ".py",
   "mimetype": "text/x-python",
   "name": "python",
   "nbconvert_exporter": "python",
   "pygments_lexer": "ipython3",
   "version": "3.12.3"
  }
 },
 "nbformat": 4,
 "nbformat_minor": 5
}
