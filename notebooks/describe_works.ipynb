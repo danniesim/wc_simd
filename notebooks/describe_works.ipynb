{
 "cells": [
  {
   "cell_type": "code",
   "execution_count": null,
   "id": "79cbfceb",
   "metadata": {},
   "outputs": [],
   "source": [
    "from wc_simd.utility import spark_path"
   ]
  },
  {
   "cell_type": "code",
   "execution_count": 1,
   "id": "161b0142",
   "metadata": {},
   "outputs": [
    {
     "data": {
      "text/plain": [
       "True"
      ]
     },
     "execution_count": 1,
     "metadata": {},
     "output_type": "execute_result"
    }
   ],
   "source": [
    "import dotenv\n",
    "\n",
    "dotenv.load_dotenv()"
   ]
  },
  {
   "cell_type": "code",
   "execution_count": 2,
   "id": "a94e3af2",
   "metadata": {},
   "outputs": [],
   "source": [
    "from langchain_aws import ChatBedrock\n",
    "\n",
    "llm = ChatBedrock(\n",
    "    model_id=\"us.anthropic.claude-3-7-sonnet-20250219-v1:0\",\n",
    "    model_kwargs=dict(temperature=0),\n",
    "    # other params...\n",
    ")"
   ]
  },
  {
   "cell_type": "code",
   "execution_count": 2,
   "id": "e7686ae7",
   "metadata": {},
   "outputs": [
    {
     "name": "stderr",
     "output_type": "stream",
     "text": [
      "25/04/16 15:56:26 WARN Utils: Your hostname, WTH2X9T5QYWX resolves to a loopback address: 127.0.0.1; using 10.21.24.66 instead (on interface en0)\n",
      "25/04/16 15:56:26 WARN Utils: Set SPARK_LOCAL_IP if you need to bind to another address\n",
      "Setting default log level to \"WARN\".\n",
      "To adjust logging level use sc.setLogLevel(newLevel). For SparkR, use setLogLevel(newLevel).\n",
      "25/04/16 15:56:31 WARN NativeCodeLoader: Unable to load native-hadoop library for your platform... using builtin-java classes where applicable\n"
     ]
    },
    {
     "data": {
      "text/html": [
       "\n",
       "            <div>\n",
       "                <p><b>SparkSession - hive</b></p>\n",
       "                \n",
       "        <div>\n",
       "            <p><b>SparkContext</b></p>\n",
       "\n",
       "            <p><a href=\"http://10.21.24.66:4040\">Spark UI</a></p>\n",
       "\n",
       "            <dl>\n",
       "              <dt>Version</dt>\n",
       "                <dd><code>v3.5.5</code></dd>\n",
       "              <dt>Master</dt>\n",
       "                <dd><code>local[*]</code></dd>\n",
       "              <dt>AppName</dt>\n",
       "                <dd><code>test_pyspark</code></dd>\n",
       "            </dl>\n",
       "        </div>\n",
       "        \n",
       "            </div>\n",
       "        "
      ],
      "text/plain": [
       "<pyspark.sql.session.SparkSession at 0x111ab8d50>"
      ]
     },
     "execution_count": 2,
     "metadata": {},
     "output_type": "execute_result"
    }
   ],
   "source": [
    "from pyspark.sql import SparkSession\n",
    "\n",
    "\n",
    "spark = SparkSession.builder \\\n",
    "    .appName(\"test_pyspark\") \\\n",
    "    .config(\"spark.driver.memory\", \"4g\") \\\n",
    "    .config(\"spark.executor.memory\", \"4g\") \\\n",
    "    .getOrCreate()\n",
    "spark"
   ]
  },
  {
   "cell_type": "code",
   "execution_count": null,
   "id": "0214486b",
   "metadata": {},
   "outputs": [],
   "source": [
    "df_works = spark.read.parquet(spark_path(\"../data/imports/works.parquet\"))"
   ]
  },
  {
   "cell_type": "code",
   "execution_count": 6,
   "id": "04ce2c69",
   "metadata": {},
   "outputs": [
    {
     "data": {
      "text/plain": [
       "StructType([StructField('alternativeTitles', ArrayType(StringType(), True), True), StructField('availabilities', ArrayType(StructType([StructField('id', StringType(), True), StructField('label', StringType(), True), StructField('type', StringType(), True)]), True), True), StructField('contributors', ArrayType(StructType([StructField('agent', StructType([StructField('id', StringType(), True), StructField('identifiers', ArrayType(StructType([StructField('identifierType', StructType([StructField('id', StringType(), True), StructField('label', StringType(), True), StructField('type', StringType(), True)]), True), StructField('type', StringType(), True), StructField('value', StringType(), True)]), True), True), StructField('label', StringType(), True), StructField('type', StringType(), True)]), True), StructField('primary', BooleanType(), True), StructField('roles', ArrayType(StructType([StructField('label', StringType(), True), StructField('type', StringType(), True)]), True), True), StructField('type', StringType(), True)]), True), True), StructField('createdDate', StructType([StructField('label', StringType(), True), StructField('type', StringType(), True)]), True), StructField('currentFrequency', StringType(), True), StructField('description', StringType(), True), StructField('designation', ArrayType(StringType(), True), True), StructField('duration', LongType(), True), StructField('edition', StringType(), True), StructField('formerFrequency', ArrayType(StringType(), True), True), StructField('genres', ArrayType(StructType([StructField('concepts', ArrayType(StructType([StructField('id', StringType(), True), StructField('identifiers', ArrayType(StructType([StructField('identifierType', StructType([StructField('id', StringType(), True), StructField('label', StringType(), True), StructField('type', StringType(), True)]), True), StructField('type', StringType(), True), StructField('value', StringType(), True)]), True), True), StructField('label', StringType(), True), StructField('type', StringType(), True)]), True), True), StructField('label', StringType(), True), StructField('type', StringType(), True)]), True), True), StructField('holdings', ArrayType(StructType([StructField('enumeration', ArrayType(StringType(), True), True), StructField('location', StructType([StructField('accessConditions', ArrayType(StructType([StructField('method', StructType([StructField('id', StringType(), True), StructField('label', StringType(), True), StructField('type', StringType(), True)]), True), StructField('status', StructType([StructField('id', StringType(), True), StructField('label', StringType(), True), StructField('type', StringType(), True)]), True), StructField('type', StringType(), True)]), True), True), StructField('label', StringType(), True), StructField('linkText', StringType(), True), StructField('locationType', StructType([StructField('id', StringType(), True), StructField('label', StringType(), True), StructField('type', StringType(), True)]), True), StructField('shelfmark', StringType(), True), StructField('type', StringType(), True), StructField('url', StringType(), True)]), True), StructField('note', StringType(), True), StructField('type', StringType(), True)]), True), True), StructField('id', StringType(), True), StructField('identifiers', ArrayType(StructType([StructField('identifierType', StructType([StructField('id', StringType(), True), StructField('label', StringType(), True), StructField('type', StringType(), True)]), True), StructField('type', StringType(), True), StructField('value', StringType(), True)]), True), True), StructField('images', ArrayType(StructType([StructField('id', StringType(), True), StructField('type', StringType(), True)]), True), True), StructField('items', ArrayType(StructType([StructField('id', StringType(), True), StructField('identifiers', ArrayType(StructType([StructField('identifierType', StructType([StructField('id', StringType(), True), StructField('label', StringType(), True), StructField('type', StringType(), True)]), True), StructField('type', StringType(), True), StructField('value', StringType(), True)]), True), True), StructField('locations', ArrayType(StructType([StructField('accessConditions', ArrayType(StructType([StructField('method', StructType([StructField('id', StringType(), True), StructField('label', StringType(), True), StructField('type', StringType(), True)]), True), StructField('note', StringType(), True), StructField('status', StructType([StructField('id', StringType(), True), StructField('label', StringType(), True), StructField('type', StringType(), True)]), True), StructField('terms', StringType(), True), StructField('type', StringType(), True)]), True), True), StructField('credit', StringType(), True), StructField('label', StringType(), True), StructField('license', StructType([StructField('id', StringType(), True), StructField('label', StringType(), True), StructField('type', StringType(), True), StructField('url', StringType(), True)]), True), StructField('linkText', StringType(), True), StructField('locationType', StructType([StructField('id', StringType(), True), StructField('label', StringType(), True), StructField('type', StringType(), True)]), True), StructField('shelfmark', StringType(), True), StructField('type', StringType(), True), StructField('url', StringType(), True)]), True), True), StructField('note', StringType(), True), StructField('title', StringType(), True), StructField('type', StringType(), True)]), True), True), StructField('languages', ArrayType(StructType([StructField('id', StringType(), True), StructField('label', StringType(), True), StructField('type', StringType(), True)]), True), True), StructField('lettering', StringType(), True), StructField('notes', ArrayType(StructType([StructField('contents', ArrayType(StringType(), True), True), StructField('noteType', StructType([StructField('id', StringType(), True), StructField('label', StringType(), True), StructField('type', StringType(), True)]), True), StructField('type', StringType(), True)]), True), True), StructField('partOf', ArrayType(StructType([StructField('id', StringType(), True), StructField('partOf', ArrayType(StructType([StructField('id', StringType(), True), StructField('partOf', ArrayType(StructType([StructField('id', StringType(), True), StructField('partOf', ArrayType(StructType([StructField('id', StringType(), True), StructField('partOf', ArrayType(StructType([StructField('id', StringType(), True), StructField('partOf', ArrayType(StructType([StructField('id', StringType(), True), StructField('partOf', ArrayType(StructType([StructField('id', StringType(), True), StructField('partOf', ArrayType(StructType([StructField('id', StringType(), True), StructField('referenceNumber', StringType(), True), StructField('title', StringType(), True), StructField('totalDescendentParts', LongType(), True), StructField('totalParts', LongType(), True), StructField('type', StringType(), True)]), True), True), StructField('referenceNumber', StringType(), True), StructField('title', StringType(), True), StructField('totalDescendentParts', LongType(), True), StructField('totalParts', LongType(), True), StructField('type', StringType(), True)]), True), True), StructField('referenceNumber', StringType(), True), StructField('title', StringType(), True), StructField('totalDescendentParts', LongType(), True), StructField('totalParts', LongType(), True), StructField('type', StringType(), True)]), True), True), StructField('referenceNumber', StringType(), True), StructField('title', StringType(), True), StructField('totalDescendentParts', LongType(), True), StructField('totalParts', LongType(), True), StructField('type', StringType(), True)]), True), True), StructField('referenceNumber', StringType(), True), StructField('title', StringType(), True), StructField('totalDescendentParts', LongType(), True), StructField('totalParts', LongType(), True), StructField('type', StringType(), True)]), True), True), StructField('referenceNumber', StringType(), True), StructField('title', StringType(), True), StructField('totalDescendentParts', LongType(), True), StructField('totalParts', LongType(), True), StructField('type', StringType(), True)]), True), True), StructField('referenceNumber', StringType(), True), StructField('title', StringType(), True), StructField('totalDescendentParts', LongType(), True), StructField('totalParts', LongType(), True), StructField('type', StringType(), True)]), True), True), StructField('referenceNumber', StringType(), True), StructField('title', StringType(), True), StructField('totalDescendentParts', LongType(), True), StructField('totalParts', LongType(), True), StructField('type', StringType(), True)]), True), True), StructField('parts', ArrayType(StructType([StructField('id', StringType(), True), StructField('referenceNumber', StringType(), True), StructField('title', StringType(), True), StructField('totalDescendentParts', LongType(), True), StructField('totalParts', LongType(), True), StructField('type', StringType(), True)]), True), True), StructField('physicalDescription', StringType(), True), StructField('precededBy', ArrayType(StructType([StructField('id', StringType(), True), StructField('referenceNumber', StringType(), True), StructField('title', StringType(), True), StructField('totalDescendentParts', LongType(), True), StructField('totalParts', LongType(), True), StructField('type', StringType(), True)]), True), True), StructField('production', ArrayType(StructType([StructField('agents', ArrayType(StructType([StructField('label', StringType(), True), StructField('type', StringType(), True)]), True), True), StructField('dates', ArrayType(StructType([StructField('label', StringType(), True), StructField('type', StringType(), True)]), True), True), StructField('function', StructType([StructField('label', StringType(), True), StructField('type', StringType(), True)]), True), StructField('label', StringType(), True), StructField('places', ArrayType(StructType([StructField('label', StringType(), True), StructField('type', StringType(), True)]), True), True), StructField('type', StringType(), True)]), True), True), StructField('referenceNumber', StringType(), True), StructField('subjects', ArrayType(StructType([StructField('concepts', ArrayType(StructType([StructField('id', StringType(), True), StructField('identifiers', ArrayType(StructType([StructField('identifierType', StructType([StructField('id', StringType(), True), StructField('label', StringType(), True), StructField('type', StringType(), True)]), True), StructField('type', StringType(), True), StructField('value', StringType(), True)]), True), True), StructField('label', StringType(), True), StructField('type', StringType(), True)]), True), True), StructField('id', StringType(), True), StructField('identifiers', ArrayType(StructType([StructField('identifierType', StructType([StructField('id', StringType(), True), StructField('label', StringType(), True), StructField('type', StringType(), True)]), True), StructField('type', StringType(), True), StructField('value', StringType(), True)]), True), True), StructField('label', StringType(), True), StructField('type', StringType(), True)]), True), True), StructField('succeededBy', ArrayType(StructType([StructField('id', StringType(), True), StructField('referenceNumber', StringType(), True), StructField('title', StringType(), True), StructField('totalDescendentParts', LongType(), True), StructField('totalParts', LongType(), True), StructField('type', StringType(), True)]), True), True), StructField('thumbnail', StructType([StructField('accessConditions', ArrayType(StringType(), True), True), StructField('license', StructType([StructField('id', StringType(), True), StructField('label', StringType(), True), StructField('type', StringType(), True), StructField('url', StringType(), True)]), True), StructField('locationType', StructType([StructField('id', StringType(), True), StructField('label', StringType(), True), StructField('type', StringType(), True)]), True), StructField('type', StringType(), True), StructField('url', StringType(), True)]), True), StructField('title', StringType(), True), StructField('type', StringType(), True), StructField('workType', StructType([StructField('id', StringType(), True), StructField('label', StringType(), True), StructField('type', StringType(), True)]), True)])"
      ]
     },
     "execution_count": 6,
     "metadata": {},
     "output_type": "execute_result"
    }
   ],
   "source": [
    "works_schema = df_works.schema\n",
    "works_schema"
   ]
  },
  {
   "cell_type": "code",
   "execution_count": 1,
   "id": "b1ea3d47",
   "metadata": {},
   "outputs": [
    {
     "data": {
      "text/plain": [
       "'/* Main record table */\\nTable Records {\\n  id varchar [pk]                 // from main \"id\"\\n  currentFrequency varchar\\n  description text\\n  duration bigint\\n  edition varchar\\n  physicalDescription text\\n  referenceNumber varchar\\n  title varchar\\n  type varchar\\n}\\n\\n/* alternativeTitles is an array of strings */\\nTable AlternativeTitles {\\n  id int [pk, increment]\\n  record_id varchar [ref: > Records.id]\\n  title varchar\\n}\\n\\n/* availabilities is an array of structs */\\nTable Availabilities {\\n  id int [pk, increment]\\n  record_id varchar [ref: > Records.id]\\n  availability_id varchar         // from availabilities.id\\n  label varchar                   // from availabilities.label\\n  type varchar                    // from availabilities.type\\n}\\n\\n/* contributors is an array of structs. \\n   Here we break out the contributor’s core info. */\\nTable Contributors {\\n  id int [pk, increment]\\n  record_id varchar [ref: > Records.id]\\n  contributor_type varchar        // from contributors.type\\n  primary boolean                 // from contributors.primary\\n}\\n\\n/* The nested agent struct from contributors */\\nTable ContributorAgents {\\n  id int [pk, increment]\\n  contributor_id int [ref: > Contributors.id]\\n  agent_id varchar                // from contributors.agent.id\\n  label varchar                   // from contributors.agent.label\\n  type varchar                    // from contributors.agent.type\\n}\\n\\n/* The identifiers array nested within agent */\\nTable ContributorAgentIdentifiers {\\n  id int [pk, increment]\\n  contributor_agent_id int [ref: > ContributorAgents.id]\\n  identifier_type_id varchar      // from identifierType.id\\n  identifier_type_label varchar   // from identifierType.label\\n  identifier_type_type varchar    // from identifierType.type\\n  type varchar                    // from the identifier\\'s own \"type\" field\\n  value varchar                   // from identifier\\'s \"value\"\\n}\\n\\n/* The roles array nested within contributors */\\nTable ContributorRoles {\\n  id int [pk, increment]\\n  contributor_id int [ref: > Contributors.id]\\n  label varchar                   // from roles.label\\n  type varchar                    // from roles.type\\n}\\n\\n/* createdDate is a struct */\\nTable CreatedDate {\\n  record_id varchar [pk, ref: > Records.id]\\n  label varchar                   // from createdDate.label\\n  type varchar                    // from createdDate.type\\n}\\n\\n/* designation is an array of strings */\\nTable Designations {\\n  id int [pk, increment]\\n  record_id varchar [ref: > Records.id]\\n  designation varchar\\n}\\n\\n/* formerFrequency is an array of strings */\\nTable FormerFrequencies {\\n  id int [pk, increment]\\n  record_id varchar [ref: > Records.id]\\n  frequency varchar\\n}\\n\\n/* genres is an array of structs */\\nTable Genres {\\n  id int [pk, increment]\\n  record_id varchar [ref: > Records.id]\\n  label varchar                   // from genres.label\\n  type varchar                    // from genres.type\\n}\\n\\n/* Within genres, concepts is an array of structs */\\nTable GenreConcepts {\\n  id int [pk, increment]\\n  genre_id int [ref: > Genres.id]\\n  concept_id varchar              // from concepts.id\\n  label varchar                   // from concepts.label\\n  type varchar                    // from concepts.type\\n}\\n\\n/* The identifiers array within each genre concept */\\nTable GenreConceptIdentifiers {\\n  id int [pk, increment]\\n  genre_concept_id int [ref: > GenreConcepts.id]\\n  identifier_type_id varchar      // from identifierType.id\\n  identifier_type_label varchar   // from identifierType.label\\n  identifier_type_type varchar    // from identifierType.type\\n  type varchar                    // from the identifier\\'s \"type\"\\n  value varchar                   // from the identifier\\'s \"value\"\\n}\\n\\n/* ---------------------\\n   Additional Tables\\n   ---------------------\\n*/\\n\\n/* holdings */\\nTable Holdings {\\n  id int [pk, increment]\\n  record_id varchar [ref: > Records.id]\\n  note varchar\\n  type varchar\\n}\\n\\nTable HoldingEnumerations {\\n  id int [pk, increment]\\n  holding_id int [ref: > Holdings.id]\\n  enumeration varchar\\n}\\n\\nTable HoldingLocations {\\n  id int [pk, increment]\\n  holding_id int [ref: > Holdings.id]\\n  label varchar\\n  linkText varchar\\n  shelfmark varchar\\n  type varchar\\n  url varchar\\n}\\n\\nTable HoldingLocationAccessConditions {\\n  id int [pk, increment]\\n  holding_location_id int [ref: > HoldingLocations.id]\\n  method_id varchar\\n  method_label varchar\\n  method_type varchar\\n  status_id varchar\\n  status_label varchar\\n  status_type varchar\\n  type varchar\\n}\\n\\nTable HoldingLocationLocationTypes {\\n  id int [pk, increment]\\n  holding_location_id int [ref: > HoldingLocations.id]\\n  type_id varchar\\n  type_label varchar\\n  type_type varchar\\n}\\n\\n/* identifiers (at the root level) */\\nTable Identifiers {\\n  id int [pk, increment]\\n  record_id varchar [ref: > Records.id]\\n  identifier_type_id varchar\\n  identifier_type_label varchar\\n  identifier_type_type varchar\\n  type varchar\\n  value varchar\\n}\\n\\n/* images */\\nTable Images {\\n  id int [pk, increment]\\n  record_id varchar [ref: > Records.id]\\n  image_id varchar\\n  type varchar\\n}\\n\\n/* items */\\nTable Items {\\n  id int [pk, increment]\\n  record_id varchar [ref: > Records.id]\\n  item_id varchar\\n  note varchar\\n  title varchar\\n  type varchar\\n}\\n\\nTable ItemIdentifiers {\\n  id int [pk, increment]\\n  item_id int [ref: > Items.id]\\n  identifier_type_id varchar\\n  identifier_type_label varchar\\n  identifier_type_type varchar\\n  type varchar\\n  value varchar\\n}\\n\\nTable ItemLocations {\\n  id int [pk, increment]\\n  item_id int [ref: > Items.id]\\n  credit varchar\\n  label varchar\\n  linkText varchar\\n  shelfmark varchar\\n  type varchar\\n  url varchar\\n}\\n\\nTable ItemLocationAccessConditions {\\n  id int [pk, increment]\\n  item_location_id int [ref: > ItemLocations.id]\\n  method_id varchar\\n  method_label varchar\\n  method_type varchar\\n  note varchar\\n  status_id varchar\\n  status_label varchar\\n  status_type varchar\\n  terms varchar\\n  type varchar\\n}\\n\\nTable ItemLocationLicenses {\\n  id int [pk, increment]\\n  item_location_id int [ref: > ItemLocations.id]\\n  license_id varchar\\n  license_label varchar\\n  license_type varchar\\n  license_url varchar\\n}\\n\\nTable ItemLocationLocationTypes {\\n  id int [pk, increment]\\n  item_location_id int [ref: > ItemLocations.id]\\n  type_id varchar\\n  type_label varchar\\n  type_type varchar\\n}\\n\\n/* languages */\\nTable Languages {\\n  id int [pk, increment]\\n  record_id varchar [ref: > Records.id]\\n  language_id varchar\\n  label varchar\\n  type varchar\\n}\\n\\n/* notes */\\nTable Notes {\\n  id int [pk, increment]\\n  record_id varchar [ref: > Records.id]\\n  note_type_id varchar\\n  note_type_label varchar\\n  note_type_type varchar\\n  type varchar\\n}\\n\\nTable NoteContents {\\n  id int [pk, increment]\\n  note_id int [ref: > Notes.id]\\n  content text\\n}\\n\\n/* -------------------------------------------------------------------\\n   Additional Tables for the remaining fields in the PySpark schema\\n   -------------------------------------------------------------------\\n*/\\n\\n/* Note: The \\'lettering\\' field is a simple string. It is best added as \\n   a column in the main Records table. For example:\\n   Records.lettering varchar\\n*/\\n\\n/* partOf: A recursive structure. Each entry may have a parent entry */\\nTable PartOf {\\n  id int [pk, increment]\\n  record_id varchar [ref: > Records.id]      // The record this partOf belongs to\\n  parent_id int [ref: > PartOf.id, note: \"Self-referential key for nested partOf\"] \\n  partof_id varchar                           // Original partOf id from the struct\\n  referenceNumber varchar\\n  title varchar\\n  totalDescendentParts bigint\\n  totalParts bigint\\n  type varchar\\n}\\n\\n/* parts: A simple array of structs */\\nTable Parts {\\n  id int [pk, increment]\\n  record_id varchar [ref: > Records.id]\\n  part_id varchar                             // Original parts.id\\n  referenceNumber varchar\\n  title varchar\\n  totalDescendentParts bigint\\n  totalParts bigint\\n  type varchar\\n}\\n\\n/* precededBy: An array of structs similar to Parts */\\nTable PrecededBy {\\n  id int [pk, increment]\\n  record_id varchar [ref: > Records.id]\\n  precededBy_id varchar                        // Original precededBy id\\n  referenceNumber varchar\\n  title varchar\\n  totalDescendentParts bigint\\n  totalParts bigint\\n  type varchar\\n}\\n\\n/* production: A complex array of structs with nested arrays */\\nTable Production {\\n  id int [pk, increment]\\n  record_id varchar [ref: > Records.id]\\n  label varchar\\n  type varchar\\n}\\n\\nTable ProductionAgents {\\n  id int [pk, increment]\\n  production_id int [ref: > Production.id]\\n  label varchar\\n  type varchar\\n}\\n\\nTable ProductionDates {\\n  id int [pk, increment]\\n  production_id int [ref: > Production.id]\\n  label varchar\\n  type varchar\\n}\\n\\nTable ProductionPlaces {\\n  id int [pk, increment]\\n  production_id int [ref: > Production.id]\\n  label varchar\\n  type varchar\\n}\\n\\nTable ProductionFunction {\\n  id int [pk, increment]\\n  production_id int [ref: > Production.id]\\n  label varchar\\n  type varchar\\n}\\n\\n/* subjects: An array of structs with nested concepts and identifiers */\\nTable Subjects {\\n  id int [pk, increment]\\n  record_id varchar [ref: > Records.id]\\n  subject_id varchar                         // Original subjects.id\\n  label varchar\\n  type varchar\\n}\\n\\n/* Concepts within a subject */\\nTable SubjectConcepts {\\n  id int [pk, increment]\\n  subject_id int [ref: > Subjects.id]\\n  concept_id varchar                         // Original concepts.id\\n  label varchar\\n  type varchar\\n}\\n\\n/* Identifiers within a subject concept */\\nTable SubjectConceptIdentifiers {\\n  id int [pk, increment]\\n  subject_concept_id int [ref: > SubjectConcepts.id]\\n  identifier_type_id varchar\\n  identifier_type_label varchar\\n  identifier_type_type varchar\\n  type varchar\\n  value varchar\\n}\\n\\n/* Identifiers directly under a subject */\\nTable SubjectIdentifiers {\\n  id int [pk, increment]\\n  subject_id int [ref: > Subjects.id]\\n  identifier_type_id varchar\\n  identifier_type_label varchar\\n  identifier_type_type varchar\\n  type varchar\\n  value varchar\\n}\\n\\n/* succeededBy: An array of structs */\\nTable SucceededBy {\\n  id int [pk, increment]\\n  record_id varchar [ref: > Records.id]\\n  succeededBy_id varchar                      // Original succeededBy id\\n  referenceNumber varchar\\n  title varchar\\n  totalDescendentParts bigint\\n  totalParts bigint\\n  type varchar\\n}\\n\\n/* thumbnail: A struct with nested arrays */\\nTable Thumbnail {\\n  record_id varchar [pk, ref: > Records.id]    // One thumbnail per record\\n  type varchar\\n  url varchar\\n}\\n\\nTable ThumbnailAccessConditions {\\n  id int [pk, increment]\\n  thumbnail_record_id varchar [ref: > Thumbnail.record_id]\\n  accessCondition varchar                      // Each access condition (string)\\n}\\n\\nTable ThumbnailLicense {\\n  id int [pk, increment]\\n  thumbnail_record_id varchar [ref: > Thumbnail.record_id]\\n  license_id varchar\\n  label varchar\\n  type varchar\\n  url varchar\\n}\\n\\nTable ThumbnailLocationTypes {\\n  id int [pk, increment]\\n  thumbnail_record_id varchar [ref: > Thumbnail.record_id]\\n  type_id varchar\\n  label varchar\\n  type varchar\\n}\\n\\n/* workType: A simple struct */\\nTable WorkType {\\n  record_id varchar [pk, ref: > Records.id]    // One workType per record\\n  worktype_id varchar                          // Original workType.id\\n  label varchar\\n  type varchar\\n}'"
      ]
     },
     "execution_count": 1,
     "metadata": {},
     "output_type": "execute_result"
    }
   ],
   "source": [
    "# load data/works.dbml text file\n",
    "with open(\"../data/works.dbml\", \"r\") as f:\n",
    "    works_dbml = f.read()\n",
    "works_dbml"
   ]
  },
  {
   "cell_type": "markdown",
   "id": "7d71285c",
   "metadata": {},
   "source": [
    "## Bootstrap Prompt for SQL Generation"
   ]
  },
  {
   "cell_type": "code",
   "execution_count": null,
   "id": "9a380622",
   "metadata": {},
   "outputs": [
    {
     "name": "stdout",
     "output_type": "stream",
     "text": [
      "SELECT col.* FROM (\n",
      "  SELECT locationType.*\n",
      "  FROM (\n",
      "    SELECT location.*\n",
      "    FROM (\n",
      "      SELECT EXPLODE(holdings) as col\n",
      "      FROM works\n",
      "    )\n",
      "  )\n",
      ")\n"
     ]
    }
   ],
   "source": [
    "# table_name = \"GenreConceptIdentifiers\"\n",
    "# table_name = \"ContributorAgentIdentifiers\"\n",
    "table_name = \"HoldingLocationLocationTypes\"\n",
    "# table_name = \"ItemLocationAccessConditions\"\n",
    "\n",
    "messages = [\n",
    "    (\"system\",\n",
    "     \"You are a helpful assistant that generates schema documentation and/or a data dictionary for a Spark Dataframe\",),\n",
    "    (\"human\", f\"\"\"I will give you a spark dataframe schema and a dbml file.\n",
    "SCHEMA:\n",
    "{works_schema}\n",
    "\n",
    "DBML:\n",
    "{works_dbml}\n",
    "\n",
    "Given a name of a nested table, I want you to generate the spark SQL statement to show the contents of it.\n",
    "\n",
    "EXAMPLE 1:\n",
    "Table: ProductionAgents\n",
    "\n",
    "SELECT col.* FROM (\n",
    "  SELECT EXPLODE(agents) as col FROM (\n",
    "    SELECT col.* FROM (\n",
    "      SELECT EXPLODE(production) as col FROM works\n",
    "    )\n",
    "  )\n",
    ")\n",
    "\n",
    "EXAMPLE 2:\n",
    "Table: ContributorAgentIdentifiers\n",
    "\n",
    "SELECT col.* FROM (\n",
    "  (SELECT EXPLODE(identifiers) as col\n",
    "    FROM (\n",
    "      SELECT agent.*\n",
    "      FROM (\n",
    "        SELECT col.*\n",
    "        FROM (\n",
    "          SELECT EXPLODE(contributors) as col\n",
    "          FROM works\n",
    "        )\n",
    "      )\n",
    "    )\n",
    "  )\n",
    ")\n",
    "\n",
    "Now give me the spark SQL statement for the table {table_name} in the schema above. Just the sql statement, nothing else.\n",
    "\"\"\"\n",
    "    ),]\n",
    "ai_msg = llm.invoke(messages)\n",
    "print(ai_msg.content)"
   ]
  },
  {
   "cell_type": "markdown",
   "id": "3e257d82",
   "metadata": {},
   "source": [
    "## Test Generated SQL"
   ]
  },
  {
   "cell_type": "code",
   "execution_count": 53,
   "id": "143a70b8",
   "metadata": {},
   "outputs": [
    {
     "name": "stdout",
     "output_type": "stream",
     "text": [
      "+----------------------------------------------+----+------------------------------------------------------+-----------------------------------------------------------------------------------------------------------------------------------------------------------------------------------------------------------------------------------------------------------------------------------------------------------------------------+---------------+\n",
      "|method                                        |note|status                                                |terms                                                                                                                                                                                                                                                                                                                        |type           |\n",
      "+----------------------------------------------+----+------------------------------------------------------+-----------------------------------------------------------------------------------------------------------------------------------------------------------------------------------------------------------------------------------------------------------------------------------------------------------------------------+---------------+\n",
      "|{online-request, Online request, AccessMethod}|NULL|{open, Open, AccessStatus}                            |NULL                                                                                                                                                                                                                                                                                                                         |AccessCondition|\n",
      "|{view-online, View online, AccessMethod}      |NULL|{open-with-advisory, Open with advisory, AccessStatus}|Works in this archive created by or for the Eugenics Society are available under a CC-BY-NC licence. Please be aware that works in this archive created by other organisations and individuals are not covered under this licence, and you should obtain any necessary permissions before copying or adapting any such works.|AccessCondition|\n",
      "|{view-online, View online, AccessMethod}      |NULL|{open, Open, AccessStatus}                            |NULL                                                                                                                                                                                                                                                                                                                         |AccessCondition|\n",
      "|{view-online, View online, AccessMethod}      |NULL|{open, Open, AccessStatus}                            |NULL                                                                                                                                                                                                                                                                                                                         |AccessCondition|\n",
      "|{open-shelves, Open shelves, AccessMethod}    |NULL|NULL                                                  |NULL                                                                                                                                                                                                                                                                                                                         |AccessCondition|\n",
      "|{online-request, Online request, AccessMethod}|NULL|{open, Open, AccessStatus}                            |NULL                                                                                                                                                                                                                                                                                                                         |AccessCondition|\n",
      "|{online-request, Online request, AccessMethod}|NULL|{open, Open, AccessStatus}                            |NULL                                                                                                                                                                                                                                                                                                                         |AccessCondition|\n",
      "|{online-request, Online request, AccessMethod}|NULL|{open, Open, AccessStatus}                            |NULL                                                                                                                                                                                                                                                                                                                         |AccessCondition|\n",
      "|{view-online, View online, AccessMethod}      |NULL|{open, Open, AccessStatus}                            |NULL                                                                                                                                                                                                                                                                                                                         |AccessCondition|\n",
      "|{view-online, View online, AccessMethod}      |NULL|{open, Open, AccessStatus}                            |NULL                                                                                                                                                                                                                                                                                                                         |AccessCondition|\n",
      "|{online-request, Online request, AccessMethod}|NULL|{open, Open, AccessStatus}                            |NULL                                                                                                                                                                                                                                                                                                                         |AccessCondition|\n",
      "|{view-online, View online, AccessMethod}      |NULL|{open, Open, AccessStatus}                            |NULL                                                                                                                                                                                                                                                                                                                         |AccessCondition|\n",
      "|{view-online, View online, AccessMethod}      |NULL|{open-with-advisory, Open with advisory, AccessStatus}|Works in this archive created by or for The Retreat, York  are available under a CC-BY-NC license. Please be aware that works in this archive created by other organisations and individuals are not covered under this license, and you should obtain any necessary permissions before copyright or adapting any such works.|AccessCondition|\n",
      "|{online-request, Online request, AccessMethod}|NULL|{open, Open, AccessStatus}                            |NULL                                                                                                                                                                                                                                                                                                                         |AccessCondition|\n",
      "|{view-online, View online, AccessMethod}      |NULL|{open, Open, AccessStatus}                            |NULL                                                                                                                                                                                                                                                                                                                         |AccessCondition|\n",
      "|{online-request, Online request, AccessMethod}|NULL|{open, Open, AccessStatus}                            |NULL                                                                                                                                                                                                                                                                                                                         |AccessCondition|\n",
      "|{view-online, View online, AccessMethod}      |NULL|{open, Open, AccessStatus}                            |NULL                                                                                                                                                                                                                                                                                                                         |AccessCondition|\n",
      "|{online-request, Online request, AccessMethod}|NULL|{open, Open, AccessStatus}                            |NULL                                                                                                                                                                                                                                                                                                                         |AccessCondition|\n",
      "|{online-request, Online request, AccessMethod}|NULL|{open, Open, AccessStatus}                            |NULL                                                                                                                                                                                                                                                                                                                         |AccessCondition|\n",
      "|{view-online, View online, AccessMethod}      |NULL|{restricted, Restricted, AccessStatus}                |NULL                                                                                                                                                                                                                                                                                                                         |AccessCondition|\n",
      "+----------------------------------------------+----+------------------------------------------------------+-----------------------------------------------------------------------------------------------------------------------------------------------------------------------------------------------------------------------------------------------------------------------------------------------------------------------------+---------------+\n",
      "only showing top 20 rows\n",
      "\n"
     ]
    }
   ],
   "source": [
    "spark.sql(\"\"\"\n",
    "SELECT col.* FROM (\n",
    "  SELECT EXPLODE(accessConditions) as col\n",
    "  FROM (\n",
    "    SELECT locations.*\n",
    "    FROM (\n",
    "      SELECT EXPLODE(locations) as locations\n",
    "      FROM (\n",
    "        SELECT col.*\n",
    "        FROM (\n",
    "          SELECT EXPLODE(items) as col\n",
    "          FROM works\n",
    "        )\n",
    "      )\n",
    "    )\n",
    "  )\n",
    ")\n",
    "\"\"\").show(truncate=False)"
   ]
  },
  {
   "cell_type": "code",
   "execution_count": 42,
   "id": "e5fd94bc",
   "metadata": {},
   "outputs": [
    {
     "name": "stdout",
     "output_type": "stream",
     "text": [
      "+----------------+----------------+\n",
      "|label           |type            |\n",
      "+----------------+----------------+\n",
      "|data contributor|ContributionRole|\n",
      "|architect       |ContributionRole|\n",
      "|data contributor|ContributionRole|\n",
      "|data contributor|ContributionRole|\n",
      "|printer         |ContributionRole|\n",
      "|former owner    |ContributionRole|\n",
      "|data contributor|ContributionRole|\n",
      "|data contributor|ContributionRole|\n",
      "|author,         |ContributionRole|\n",
      "|artist          |ContributionRole|\n",
      "|author          |ContributionRole|\n",
      "|author          |ContributionRole|\n",
      "|author          |ContributionRole|\n",
      "|author          |ContributionRole|\n",
      "|author,         |ContributionRole|\n",
      "|artist          |ContributionRole|\n",
      "|author          |ContributionRole|\n",
      "|data contributor|ContributionRole|\n",
      "|data contributor|ContributionRole|\n",
      "|data contributor|ContributionRole|\n",
      "+----------------+----------------+\n",
      "only showing top 20 rows\n",
      "\n"
     ]
    }
   ],
   "source": [
    "spark.sql(\"\"\"\n",
    "SELECT col.* FROM (\n",
    "  SELECT EXPLODE(col.roles) as col\n",
    "  FROM (\n",
    "    SELECT EXPLODE(contributors) as col\n",
    "    FROM works\n",
    "  )\n",
    ")\n",
    "\"\"\").show(truncate=False)"
   ]
  },
  {
   "cell_type": "code",
   "execution_count": 41,
   "id": "5e313e2a",
   "metadata": {},
   "outputs": [
    {
     "name": "stdout",
     "output_type": "stream",
     "text": [
      "+------------------------------------------------------------------------------------------------------------------------------------------------------------------------------------------------------------------------------------+\n",
      "|col                                                                                                                                                                                                                                 |\n",
      "+------------------------------------------------------------------------------------------------------------------------------------------------------------------------------------------------------------------------------------+\n",
      "|{{r88uf8gp, [{{label-derived, Identifier derived from the label of the referent, IdentifierType}, Identifier, berni, francesco}], Berni, Francesco, Person}, true, [], Contributor}                                                 |\n",
      "|{{guzs2skt, [{{label-derived, Identifier derived from the label of the referent, IdentifierType}, Identifier, santi, louis, 1876-}], Santi, Louis, 1876-, Person}, true, [], Contributor}                                           |\n",
      "|{{v34xt6v9, [{{lc-names, Library of Congress Name authority records, IdentifierType}, Identifier, n50043077}], Royal College of Surgeons of England, Organisation}, false, [{data contributor, ContributionRole}], Contributor}     |\n",
      "|{{zx4jffpk, [{{lc-names, Library of Congress Name authority records, IdentifierType}, Identifier, n82272487}], Cheshire (England). County Council., Organisation}, true, [], Contributor}                                           |\n",
      "|{{pr88y5tn, [{{lc-names, Library of Congress Name authority records, IdentifierType}, Identifier, n2005027910}], Koch, Christof, 1956-, Person}, true, [], Contributor}                                                             |\n",
      "|{{axrd6av9, [{{lc-names, Library of Congress Name authority records, IdentifierType}, Identifier, nr91009709}], Odenstedt, Bengt., Person}, false, [], Contributor}                                                                 |\n",
      "|{{vbazbc77, [{{lc-names, Library of Congress Name authority records, IdentifierType}, Identifier, n79107735}], British Museum., Organisation}, false, [], Contributor}                                                              |\n",
      "|{{k7ugc5tu, [{{label-derived, Identifier derived from the label of the referent, IdentifierType}, Identifier, williams, david}], Williams, David, Person}, true, [], Contributor}                                                   |\n",
      "|{{af4drk3r, [{{label-derived, Identifier derived from the label of the referent, IdentifierType}, Identifier, sidmouth, henry addington}], Sidmouth, Henry Addington, Person}, true, [], Contributor}                               |\n",
      "|{{ca267t23, [{{label-derived, Identifier derived from the label of the referent, IdentifierType}, Identifier, moody, james}], Moody, James, Person}, true, [], Contributor}                                                         |\n",
      "|{{b4r46rym, [{{lc-names, Library of Congress Name authority records, IdentifierType}, Identifier, no2009128624}], Laing, C. D. (Charles D.), active 1838-1853., Person}, true, [], Contributor}                                     |\n",
      "|{{h7b8zk3w, [{{label-derived, Identifier derived from the label of the referent, IdentifierType}, Identifier, clarke, joseph, 1819-1888}], Clarke, Joseph, 1819-1888, Person}, false, [{architect, ContributionRole}], Contributor} |\n",
      "|{{sn4t7cwk, [{{label-derived, Identifier derived from the label of the referent, IdentifierType}, Identifier, lyme regis (england). borough council}], Lyme Regis (England). Borough Council., Organisation}, true, [], Contributor}|\n",
      "|{{v6h66bvu, [{{lc-names, Library of Congress Name authority records, IdentifierType}, Identifier, n80006277}], Wolf, Joseph, 1820-1899., Person}, true, [], Contributor}                                                            |\n",
      "|{{uz3nb5b8, [{{lc-names, Library of Congress Name authority records, IdentifierType}, Identifier, no2007036885}], Fox, Augustus., Person}, false, [], Contributor}                                                                  |\n",
      "|{{xyezsmft, [{{lc-names, Library of Congress Name authority records, IdentifierType}, Identifier, n90663734}], Schofield, A. T. (Alfred Taylor), 1846-1929, Person}, true, [], Contributor}                                         |\n",
      "|{{yumm8zf3, [{{lc-names, Library of Congress Name authority records, IdentifierType}, Identifier, n79041776}], Louisiana Purchase Exposition (1904 : Saint Louis, Mo.), Meeting}, true, [], Contributor}                            |\n",
      "|{{w7xcekc5, [{{lc-names, Library of Congress Name authority records, IdentifierType}, Identifier, n83058763}], Thurneisser zum Thurn, Leonhard, 1530?-1596., Person}, true, [], Contributor}                                        |\n",
      "|{{wc6xhenk, [{{lc-names, Library of Congress Name authority records, IdentifierType}, Identifier, n80120959}], Paracelsus, 1493-1541., Person}, false, [], Contributor}                                                             |\n",
      "|{{a9533gz5, [{{label-derived, Identifier derived from the label of the referent, IdentifierType}, Identifier, hervey, elizabeth}], Hervey, Elizabeth, Person}, true, [], Contributor}                                               |\n",
      "+------------------------------------------------------------------------------------------------------------------------------------------------------------------------------------------------------------------------------------+\n",
      "only showing top 20 rows\n",
      "\n"
     ]
    }
   ],
   "source": [
    "spark.sql(\"\"\"\n",
    "    SELECT EXPLODE(contributors) as col\n",
    "    FROM works\n",
    "\"\"\").show(truncate=False)"
   ]
  },
  {
   "cell_type": "code",
   "execution_count": null,
   "id": "cef6b4f3",
   "metadata": {},
   "outputs": [
    {
     "name": "stdout",
     "output_type": "stream",
     "text": [
      "+---------------+---------------+------------+\n",
      "|id             |label          |type        |\n",
      "+---------------+---------------+------------+\n",
      "|online-resource|Online resource|LocationType|\n",
      "|online-resource|Online resource|LocationType|\n",
      "|online-resource|Online resource|LocationType|\n",
      "|online-resource|Online resource|LocationType|\n",
      "|online-resource|Online resource|LocationType|\n",
      "|online-resource|Online resource|LocationType|\n",
      "|online-resource|Online resource|LocationType|\n",
      "|closed-stores  |Closed stores  |LocationType|\n",
      "|online-resource|Online resource|LocationType|\n",
      "|online-resource|Online resource|LocationType|\n",
      "|online-resource|Online resource|LocationType|\n",
      "|online-resource|Online resource|LocationType|\n",
      "|online-resource|Online resource|LocationType|\n",
      "|online-resource|Online resource|LocationType|\n",
      "|open-shelves   |Open shelves   |LocationType|\n",
      "|online-resource|Online resource|LocationType|\n",
      "|online-resource|Online resource|LocationType|\n",
      "|online-resource|Online resource|LocationType|\n",
      "|online-resource|Online resource|LocationType|\n",
      "|closed-stores  |Closed stores  |LocationType|\n",
      "+---------------+---------------+------------+\n",
      "only showing top 20 rows\n",
      "\n"
     ]
    }
   ],
   "source": [
    "spark.sql(\"\"\"\n",
    "SELECT locationType.* FROM (\n",
    "  SELECT location.locationType\n",
    "  FROM (\n",
    "    SELECT col.location\n",
    "    FROM (\n",
    "      SELECT EXPLODE(holdings) as col\n",
    "      FROM works\n",
    "    )\n",
    "  )\n",
    ")\n",
    "\"\"\").show(truncate=False)"
   ]
  },
  {
   "cell_type": "markdown",
   "id": "a7ecbdca",
   "metadata": {},
   "source": [
    "## Generate SQL for each DBML table"
   ]
  },
  {
   "cell_type": "code",
   "execution_count": null,
   "id": "3e634add",
   "metadata": {},
   "outputs": [],
   "source": [
    "from pydbml import PyDBML\n",
    "from pathlib import Path\n",
    "parsed = PyDBML(Path('../data/works.dbml'))"
   ]
  },
  {
   "cell_type": "code",
   "execution_count": 38,
   "id": "3b0de7e3",
   "metadata": {},
   "outputs": [
    {
     "name": "stdout",
     "output_type": "stream",
     "text": [
      "Number of tables: 47\n",
      "------\n",
      "Records\n",
      "Saved SQL query for Records to out/nested_tables_queries/Records.sql\n",
      "------\n",
      "AlternativeTitles\n",
      "Saved SQL query for AlternativeTitles to out/nested_tables_queries/AlternativeTitles.sql\n",
      "------\n",
      "Availabilities\n",
      "Saved SQL query for Availabilities to out/nested_tables_queries/Availabilities.sql\n",
      "------\n",
      "Contributors\n",
      "Saved SQL query for Contributors to out/nested_tables_queries/Contributors.sql\n",
      "------\n",
      "ContributorAgents\n",
      "Saved SQL query for ContributorAgents to out/nested_tables_queries/ContributorAgents.sql\n",
      "------\n",
      "ContributorAgentIdentifiers\n",
      "Saved SQL query for ContributorAgentIdentifiers to out/nested_tables_queries/ContributorAgentIdentifiers.sql\n",
      "------\n",
      "ContributorRoles\n",
      "Saved SQL query for ContributorRoles to out/nested_tables_queries/ContributorRoles.sql\n",
      "------\n",
      "CreatedDate\n",
      "Saved SQL query for CreatedDate to out/nested_tables_queries/CreatedDate.sql\n",
      "------\n",
      "Designations\n",
      "Saved SQL query for Designations to out/nested_tables_queries/Designations.sql\n",
      "------\n",
      "FormerFrequencies\n",
      "Saved SQL query for FormerFrequencies to out/nested_tables_queries/FormerFrequencies.sql\n",
      "------\n",
      "Genres\n",
      "Saved SQL query for Genres to out/nested_tables_queries/Genres.sql\n",
      "------\n",
      "GenreConcepts\n",
      "Saved SQL query for GenreConcepts to out/nested_tables_queries/GenreConcepts.sql\n",
      "------\n",
      "GenreConceptIdentifiers\n",
      "Saved SQL query for GenreConceptIdentifiers to out/nested_tables_queries/GenreConceptIdentifiers.sql\n",
      "------\n",
      "Holdings\n",
      "Saved SQL query for Holdings to out/nested_tables_queries/Holdings.sql\n",
      "------\n",
      "HoldingEnumerations\n",
      "Saved SQL query for HoldingEnumerations to out/nested_tables_queries/HoldingEnumerations.sql\n",
      "------\n",
      "HoldingLocations\n",
      "Saved SQL query for HoldingLocations to out/nested_tables_queries/HoldingLocations.sql\n",
      "------\n",
      "HoldingLocationAccessConditions\n",
      "Saved SQL query for HoldingLocationAccessConditions to out/nested_tables_queries/HoldingLocationAccessConditions.sql\n",
      "------\n",
      "HoldingLocationLocationTypes\n",
      "Saved SQL query for HoldingLocationLocationTypes to out/nested_tables_queries/HoldingLocationLocationTypes.sql\n",
      "------\n",
      "Identifiers\n",
      "Saved SQL query for Identifiers to out/nested_tables_queries/Identifiers.sql\n",
      "------\n",
      "Images\n",
      "Saved SQL query for Images to out/nested_tables_queries/Images.sql\n",
      "------\n",
      "Items\n",
      "Saved SQL query for Items to out/nested_tables_queries/Items.sql\n",
      "------\n",
      "ItemIdentifiers\n",
      "Saved SQL query for ItemIdentifiers to out/nested_tables_queries/ItemIdentifiers.sql\n",
      "------\n",
      "ItemLocations\n",
      "Saved SQL query for ItemLocations to out/nested_tables_queries/ItemLocations.sql\n",
      "------\n",
      "ItemLocationAccessConditions\n",
      "Saved SQL query for ItemLocationAccessConditions to out/nested_tables_queries/ItemLocationAccessConditions.sql\n",
      "------\n",
      "ItemLocationLicenses\n",
      "Saved SQL query for ItemLocationLicenses to out/nested_tables_queries/ItemLocationLicenses.sql\n",
      "------\n",
      "ItemLocationLocationTypes\n",
      "Saved SQL query for ItemLocationLocationTypes to out/nested_tables_queries/ItemLocationLocationTypes.sql\n",
      "------\n",
      "Languages\n",
      "Saved SQL query for Languages to out/nested_tables_queries/Languages.sql\n",
      "------\n",
      "Notes\n",
      "Saved SQL query for Notes to out/nested_tables_queries/Notes.sql\n",
      "------\n",
      "NoteContents\n",
      "Saved SQL query for NoteContents to out/nested_tables_queries/NoteContents.sql\n",
      "------\n",
      "PartOf\n",
      "Saved SQL query for PartOf to out/nested_tables_queries/PartOf.sql\n",
      "------\n",
      "Parts\n",
      "Saved SQL query for Parts to out/nested_tables_queries/Parts.sql\n",
      "------\n",
      "PrecededBy\n",
      "Saved SQL query for PrecededBy to out/nested_tables_queries/PrecededBy.sql\n",
      "------\n",
      "Production\n",
      "Saved SQL query for Production to out/nested_tables_queries/Production.sql\n",
      "------\n",
      "ProductionAgents\n",
      "Saved SQL query for ProductionAgents to out/nested_tables_queries/ProductionAgents.sql\n",
      "------\n",
      "ProductionDates\n",
      "Saved SQL query for ProductionDates to out/nested_tables_queries/ProductionDates.sql\n",
      "------\n",
      "ProductionPlaces\n",
      "Saved SQL query for ProductionPlaces to out/nested_tables_queries/ProductionPlaces.sql\n",
      "------\n",
      "ProductionFunction\n",
      "Saved SQL query for ProductionFunction to out/nested_tables_queries/ProductionFunction.sql\n",
      "------\n",
      "Subjects\n",
      "Saved SQL query for Subjects to out/nested_tables_queries/Subjects.sql\n",
      "------\n",
      "SubjectConcepts\n",
      "Saved SQL query for SubjectConcepts to out/nested_tables_queries/SubjectConcepts.sql\n",
      "------\n",
      "SubjectConceptIdentifiers\n",
      "Saved SQL query for SubjectConceptIdentifiers to out/nested_tables_queries/SubjectConceptIdentifiers.sql\n",
      "------\n",
      "SubjectIdentifiers\n",
      "Saved SQL query for SubjectIdentifiers to out/nested_tables_queries/SubjectIdentifiers.sql\n",
      "------\n",
      "SucceededBy\n",
      "Saved SQL query for SucceededBy to out/nested_tables_queries/SucceededBy.sql\n",
      "------\n",
      "Thumbnail\n",
      "Saved SQL query for Thumbnail to out/nested_tables_queries/Thumbnail.sql\n",
      "------\n",
      "ThumbnailAccessConditions\n",
      "Saved SQL query for ThumbnailAccessConditions to out/nested_tables_queries/ThumbnailAccessConditions.sql\n",
      "------\n",
      "ThumbnailLicense\n",
      "Saved SQL query for ThumbnailLicense to out/nested_tables_queries/ThumbnailLicense.sql\n",
      "------\n",
      "ThumbnailLocationTypes\n",
      "Saved SQL query for ThumbnailLocationTypes to out/nested_tables_queries/ThumbnailLocationTypes.sql\n",
      "------\n",
      "WorkType\n",
      "Saved SQL query for WorkType to out/nested_tables_queries/WorkType.sql\n"
     ]
    }
   ],
   "source": [
    "import os\n",
    "\n",
    "\n",
    "print(\"Number of tables:\", len(parsed.tables))\n",
    "for table in parsed.tables:\n",
    "    print(\"------\")\n",
    "    print(table.name)\n",
    "    file_path = f\"out/nested_tables_queries/{table.name}.sql\"\n",
    "    if os.path.exists(file_path):\n",
    "        print(f\"Table {table.name} already exists. Skipping...\")\n",
    "        continue\n",
    "  \n",
    "    messages = [\n",
    "        (\"system\",\n",
    "         \"You are a helpful assistant that generates schema documentation and/or a data dictionary for a Spark Dataframe\",\n",
    "         ),\n",
    "        (\"human\",\n",
    "         f\"\"\"I will give you a spark dataframe schema and a DBML file which has been derived from the schema.\n",
    "DATAFRAME SCHEMA:\n",
    "{works_schema}\n",
    "\n",
    "DBML:\n",
    "{works_dbml}\n",
    "\n",
    "INSTRUCTIONS:\n",
    "- Given a name of a nested table, I want you to generate the spark SQL statement to show the contents of it.\n",
    "- The SQL statement should be formatted to be run in PySpark SQL.\n",
    "- If table has column which are arrays or structs, exclude those columns in the result.\n",
    "- Name the resulting columns according to the DATAFRAME SCHEMA column names.\n",
    "\n",
    "\n",
    "EXAMPLE 1:\n",
    "Table: ProductionAgents\n",
    "\n",
    "SELECT col.* FROM (\n",
    "  SELECT EXPLODE(agents) as col FROM (\n",
    "    SELECT col.* FROM (\n",
    "      SELECT EXPLODE(production) as col FROM works\n",
    "    )\n",
    "  )\n",
    ")\n",
    "\n",
    "\n",
    "EXAMPLE 2:\n",
    "Table: ContributorAgentIdentifiers\n",
    "\n",
    "SELECT col.* FROM (\n",
    "  (SELECT EXPLODE(identifiers) as col\n",
    "    FROM (\n",
    "      SELECT agent.*\n",
    "      FROM (\n",
    "        SELECT col.*\n",
    "        FROM (\n",
    "          SELECT EXPLODE(contributors) as col\n",
    "          FROM works\n",
    "        )\n",
    "      )\n",
    "    )\n",
    "  )\n",
    ")\n",
    "\n",
    "\n",
    "EXAMPLE 3:\n",
    "Table: Contributors\n",
    "\n",
    "SELECT col.primary AS primary, col.type AS type FROM (\n",
    "  SELECT EXPLODE(contributors) as col\n",
    "  FROM works\n",
    ")\n",
    "\n",
    "\n",
    "EXAMPLE 4:\n",
    "Table: ContributorAgents\n",
    "\n",
    "SELECT col.agent.id AS id, col.agent.label AS label, col.agent.type AS type FROM (\n",
    "  SELECT EXPLODE(contributors) as col\n",
    "  FROM works\n",
    ")\n",
    "\n",
    "Now give me the spark SQL statement for the table {table.name} in the schema above. Just the sql statement, nothing else.\n",
    "\"\"\"),\n",
    "        ]\n",
    "    ai_msg = llm.invoke(messages)\n",
    "    with open(file_path, \"w\") as f:\n",
    "        f.write(ai_msg.content)\n",
    "    print(f\"Saved SQL query for {table.name} to {file_path}\")"
   ]
  },
  {
   "cell_type": "code",
   "execution_count": 43,
   "id": "b0ace74e",
   "metadata": {},
   "outputs": [
    {
     "name": "stdout",
     "output_type": "stream",
     "text": [
      "Number of tables: 47\n",
      "------\n",
      "Records\n",
      "Table Records.csv already exists. Skipping...\n",
      "------\n",
      "AlternativeTitles\n",
      "Table AlternativeTitles.csv already exists. Skipping...\n",
      "------\n",
      "Availabilities\n",
      "Table Availabilities.csv already exists. Skipping...\n",
      "------\n",
      "Contributors\n",
      "Table Contributors.csv already exists. Skipping...\n",
      "------\n",
      "ContributorAgents\n",
      "Table ContributorAgents.csv already exists. Skipping...\n",
      "------\n",
      "ContributorAgentIdentifiers\n",
      "Table ContributorAgentIdentifiers.csv already exists. Skipping...\n",
      "------\n",
      "ContributorRoles\n",
      "Saved CSV for ContributorRoles to out/nested_tables_csv/ContributorRoles.csv\n",
      "------\n",
      "CreatedDate\n",
      "Saved CSV for CreatedDate to out/nested_tables_csv/CreatedDate.csv\n",
      "------\n",
      "Designations\n",
      "Saved CSV for Designations to out/nested_tables_csv/Designations.csv\n",
      "------\n",
      "FormerFrequencies\n",
      "Saved CSV for FormerFrequencies to out/nested_tables_csv/FormerFrequencies.csv\n",
      "------\n",
      "Genres\n",
      "Saved CSV for Genres to out/nested_tables_csv/Genres.csv\n",
      "------\n",
      "GenreConcepts\n",
      "Saved CSV for GenreConcepts to out/nested_tables_csv/GenreConcepts.csv\n",
      "------\n",
      "GenreConceptIdentifiers\n",
      "Saved CSV for GenreConceptIdentifiers to out/nested_tables_csv/GenreConceptIdentifiers.csv\n",
      "------\n",
      "Holdings\n"
     ]
    },
    {
     "name": "stderr",
     "output_type": "stream",
     "text": [
      "                                                                                \r"
     ]
    },
    {
     "name": "stdout",
     "output_type": "stream",
     "text": [
      "Saved CSV for Holdings to out/nested_tables_csv/Holdings.csv\n",
      "------\n",
      "HoldingEnumerations\n"
     ]
    },
    {
     "ename": "AnalysisException",
     "evalue": "Can only star expand struct data types. Attribute: `ArrayBuffer(col)`.; line 1 pos 7",
     "output_type": "error",
     "traceback": [
      "\u001b[31m---------------------------------------------------------------------------\u001b[39m",
      "\u001b[31mAnalysisException\u001b[39m                         Traceback (most recent call last)",
      "\u001b[36mCell\u001b[39m\u001b[36m \u001b[39m\u001b[32mIn[43]\u001b[39m\u001b[32m, line 13\u001b[39m\n\u001b[32m     11\u001b[39m \u001b[38;5;28;01mwith\u001b[39;00m \u001b[38;5;28mopen\u001b[39m(sql_file_path, \u001b[33m\"\u001b[39m\u001b[33mr\u001b[39m\u001b[33m\"\u001b[39m) \u001b[38;5;28;01mas\u001b[39;00m f:\n\u001b[32m     12\u001b[39m     sql_query = f.read()\n\u001b[32m---> \u001b[39m\u001b[32m13\u001b[39m df = \u001b[43mspark\u001b[49m\u001b[43m.\u001b[49m\u001b[43msql\u001b[49m\u001b[43m(\u001b[49m\u001b[43msql_query\u001b[49m\u001b[43m)\u001b[49m\n\u001b[32m     14\u001b[39m pd_df = df.toPandas()\n\u001b[32m     15\u001b[39m pd_df.to_csv(csv_file_path, index=\u001b[38;5;28;01mFalse\u001b[39;00m)\n",
      "\u001b[36mFile \u001b[39m\u001b[32m~/simd_workspace/.conda/lib/python3.11/site-packages/pyspark/sql/session.py:1631\u001b[39m, in \u001b[36mSparkSession.sql\u001b[39m\u001b[34m(self, sqlQuery, args, **kwargs)\u001b[39m\n\u001b[32m   1627\u001b[39m         \u001b[38;5;28;01massert\u001b[39;00m \u001b[38;5;28mself\u001b[39m._jvm \u001b[38;5;129;01mis\u001b[39;00m \u001b[38;5;129;01mnot\u001b[39;00m \u001b[38;5;28;01mNone\u001b[39;00m\n\u001b[32m   1628\u001b[39m         litArgs = \u001b[38;5;28mself\u001b[39m._jvm.PythonUtils.toArray(\n\u001b[32m   1629\u001b[39m             [_to_java_column(lit(v)) \u001b[38;5;28;01mfor\u001b[39;00m v \u001b[38;5;129;01min\u001b[39;00m (args \u001b[38;5;129;01mor\u001b[39;00m [])]\n\u001b[32m   1630\u001b[39m         )\n\u001b[32m-> \u001b[39m\u001b[32m1631\u001b[39m     \u001b[38;5;28;01mreturn\u001b[39;00m DataFrame(\u001b[38;5;28;43mself\u001b[39;49m\u001b[43m.\u001b[49m\u001b[43m_jsparkSession\u001b[49m\u001b[43m.\u001b[49m\u001b[43msql\u001b[49m\u001b[43m(\u001b[49m\u001b[43msqlQuery\u001b[49m\u001b[43m,\u001b[49m\u001b[43m \u001b[49m\u001b[43mlitArgs\u001b[49m\u001b[43m)\u001b[49m, \u001b[38;5;28mself\u001b[39m)\n\u001b[32m   1632\u001b[39m \u001b[38;5;28;01mfinally\u001b[39;00m:\n\u001b[32m   1633\u001b[39m     \u001b[38;5;28;01mif\u001b[39;00m \u001b[38;5;28mlen\u001b[39m(kwargs) > \u001b[32m0\u001b[39m:\n",
      "\u001b[36mFile \u001b[39m\u001b[32m~/simd_workspace/.conda/lib/python3.11/site-packages/py4j/java_gateway.py:1322\u001b[39m, in \u001b[36mJavaMember.__call__\u001b[39m\u001b[34m(self, *args)\u001b[39m\n\u001b[32m   1316\u001b[39m command = proto.CALL_COMMAND_NAME +\\\n\u001b[32m   1317\u001b[39m     \u001b[38;5;28mself\u001b[39m.command_header +\\\n\u001b[32m   1318\u001b[39m     args_command +\\\n\u001b[32m   1319\u001b[39m     proto.END_COMMAND_PART\n\u001b[32m   1321\u001b[39m answer = \u001b[38;5;28mself\u001b[39m.gateway_client.send_command(command)\n\u001b[32m-> \u001b[39m\u001b[32m1322\u001b[39m return_value = \u001b[43mget_return_value\u001b[49m\u001b[43m(\u001b[49m\n\u001b[32m   1323\u001b[39m \u001b[43m    \u001b[49m\u001b[43manswer\u001b[49m\u001b[43m,\u001b[49m\u001b[43m \u001b[49m\u001b[38;5;28;43mself\u001b[39;49m\u001b[43m.\u001b[49m\u001b[43mgateway_client\u001b[49m\u001b[43m,\u001b[49m\u001b[43m \u001b[49m\u001b[38;5;28;43mself\u001b[39;49m\u001b[43m.\u001b[49m\u001b[43mtarget_id\u001b[49m\u001b[43m,\u001b[49m\u001b[43m \u001b[49m\u001b[38;5;28;43mself\u001b[39;49m\u001b[43m.\u001b[49m\u001b[43mname\u001b[49m\u001b[43m)\u001b[49m\n\u001b[32m   1325\u001b[39m \u001b[38;5;28;01mfor\u001b[39;00m temp_arg \u001b[38;5;129;01min\u001b[39;00m temp_args:\n\u001b[32m   1326\u001b[39m     \u001b[38;5;28;01mif\u001b[39;00m \u001b[38;5;28mhasattr\u001b[39m(temp_arg, \u001b[33m\"\u001b[39m\u001b[33m_detach\u001b[39m\u001b[33m\"\u001b[39m):\n",
      "\u001b[36mFile \u001b[39m\u001b[32m~/simd_workspace/.conda/lib/python3.11/site-packages/pyspark/errors/exceptions/captured.py:185\u001b[39m, in \u001b[36mcapture_sql_exception.<locals>.deco\u001b[39m\u001b[34m(*a, **kw)\u001b[39m\n\u001b[32m    181\u001b[39m converted = convert_exception(e.java_exception)\n\u001b[32m    182\u001b[39m \u001b[38;5;28;01mif\u001b[39;00m \u001b[38;5;129;01mnot\u001b[39;00m \u001b[38;5;28misinstance\u001b[39m(converted, UnknownException):\n\u001b[32m    183\u001b[39m     \u001b[38;5;66;03m# Hide where the exception came from that shows a non-Pythonic\u001b[39;00m\n\u001b[32m    184\u001b[39m     \u001b[38;5;66;03m# JVM exception message.\u001b[39;00m\n\u001b[32m--> \u001b[39m\u001b[32m185\u001b[39m     \u001b[38;5;28;01mraise\u001b[39;00m converted \u001b[38;5;28;01mfrom\u001b[39;00m\u001b[38;5;250m \u001b[39m\u001b[38;5;28;01mNone\u001b[39;00m\n\u001b[32m    186\u001b[39m \u001b[38;5;28;01melse\u001b[39;00m:\n\u001b[32m    187\u001b[39m     \u001b[38;5;28;01mraise\u001b[39;00m\n",
      "\u001b[31mAnalysisException\u001b[39m: Can only star expand struct data types. Attribute: `ArrayBuffer(col)`.; line 1 pos 7"
     ]
    }
   ],
   "source": [
    "print(\"Number of tables:\", len(parsed.tables))\n",
    "for table in parsed.tables:\n",
    "    print(\"------\")\n",
    "    print(table.name)\n",
    "    csv_file_path = f\"out/nested_tables_csv/{table.name}.csv\"\n",
    "    if os.path.exists(csv_file_path):\n",
    "        print(f\"Table {table.name}.csv already exists. Skipping...\")\n",
    "        continue\n",
    "\n",
    "    sql_file_path = f\"out/nested_tables_queries/{table.name}.sql\"\n",
    "    with open(sql_file_path, \"r\") as f:\n",
    "        sql_query = f.read()\n",
    "    df = spark.sql(sql_query)\n",
    "    pd_df = df.toPandas()\n",
    "    pd_df.to_csv(csv_file_path, index=False)\n",
    "    print(f\"Saved CSV for {table.name} to {csv_file_path}\")"
   ]
  }
 ],
 "metadata": {
  "kernelspec": {
   "display_name": "Python 3",
   "language": "python",
   "name": "python3"
  },
  "language_info": {
   "codemirror_mode": {
    "name": "ipython",
    "version": 3
   },
   "file_extension": ".py",
   "mimetype": "text/x-python",
   "name": "python",
   "nbconvert_exporter": "python",
   "pygments_lexer": "ipython3",
   "version": "3.11.11"
  }
 },
 "nbformat": 4,
 "nbformat_minor": 5
}
