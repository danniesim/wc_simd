{
 "cells": [
  {
   "cell_type": "code",
   "execution_count": 2,
   "id": "bb51f0b7",
   "metadata": {},
   "outputs": [
    {
     "name": "stderr",
     "output_type": "stream",
     "text": [
      "Setting default log level to \"WARN\".\n",
      "To adjust logging level use sc.setLogLevel(newLevel). For SparkR, use setLogLevel(newLevel).\n",
      "25/06/19 13:55:17 WARN NativeCodeLoader: Unable to load native-hadoop library for your platform... using builtin-java classes where applicable\n",
      "25/06/19 13:55:17 WARN Utils: Service 'SparkUI' could not bind on port 4040. Attempting port 4041.\n"
     ]
    }
   ],
   "source": [
    "from pyspark.sql import SparkSession\n",
    "\n",
    "spark = SparkSession.builder \\\n",
    "    .appName(\"test_pyspark\") \\\n",
    "    .config(\"spark.driver.memory\", \"100g\") \\\n",
    "    .config(\"spark.executor.memory\", \"100g\") \\\n",
    "    .config(\"spark.sql.orc.enableVectorizedReader\", \"false\") \\\n",
    "    .config(\"spark.sql.parquet.columnarReaderBatchSize\", \"256\") \\\n",
    "    .config(\"spark.sql.orc.columnarReaderBatchSize\", \"256\") \\\n",
    "    .config(\"spark.sql.shuffle.partitions\", \"1024\") \\\n",
    "    .config(\"spark.driver.maxResultSize\", \"4g\") \\\n",
    "    .getOrCreate()\n",
    "\n",
    "spark.sparkContext.setLogLevel(\"ERROR\")"
   ]
  },
  {
   "cell_type": "code",
   "execution_count": 3,
   "id": "91bacc29",
   "metadata": {},
   "outputs": [],
   "source": [
    "df_sentences = spark.table(\"alto_sentence\")"
   ]
  },
  {
   "cell_type": "code",
   "execution_count": 4,
   "id": "23c724d7",
   "metadata": {},
   "outputs": [],
   "source": [
    "import pyspark.sql.functions as F"
   ]
  },
  {
   "cell_type": "code",
   "execution_count": 7,
   "id": "b2e296d6",
   "metadata": {},
   "outputs": [
    {
     "name": "stderr",
     "output_type": "stream",
     "text": [
      "                                                                                \r"
     ]
    },
    {
     "name": "stdout",
     "output_type": "stream",
     "text": [
      "+-----------------------------------------------------------------+\n",
      "|sentence                                                         |\n",
      "+-----------------------------------------------------------------+\n",
      "|!% G. Rapports DES LÃSIONS CENTRALES DU TABES AVEC LA SYPHILIS .|\n",
      "+-----------------------------------------------------------------+\n",
      "\n"
     ]
    }
   ],
   "source": [
    "df_sentences.where(\n",
    "    (F.col(\"id\") == \"pkczk2jh\") & (F.col(\"sentence_idx\") == 6955)\n",
    ").select(\"sentence\").show(truncate=False)"
   ]
  },
  {
   "cell_type": "code",
   "execution_count": 8,
   "id": "2acac313",
   "metadata": {},
   "outputs": [
    {
     "name": "stderr",
     "output_type": "stream",
     "text": [
      "[Stage 9:======================================================>(239 + 1) / 240]\r"
     ]
    },
    {
     "name": "stdout",
     "output_type": "stream",
     "text": [
      "+-----------------------------------------------------+\n",
      "|sentence                                             |\n",
      "+-----------------------------------------------------+\n",
      "|Revised and edited, with a Preface, % H. L. Hastings.|\n",
      "+-----------------------------------------------------+\n",
      "\n"
     ]
    },
    {
     "name": "stderr",
     "output_type": "stream",
     "text": [
      "                                                                                \r"
     ]
    }
   ],
   "source": [
    "df_sentences.where(\n",
    "    (F.col(\"id\") == \"p3x7zzjb\") & (F.col(\"sentence_idx\") == 12590)\n",
    ").select(\"sentence\").show(truncate=False)"
   ]
  }
 ],
 "metadata": {
  "kernelspec": {
   "display_name": "wc-simd",
   "language": "python",
   "name": "python3"
  },
  "language_info": {
   "codemirror_mode": {
    "name": "ipython",
    "version": 3
   },
   "file_extension": ".py",
   "mimetype": "text/x-python",
   "name": "python",
   "nbconvert_exporter": "python",
   "pygments_lexer": "ipython3",
   "version": "3.10.17"
  }
 },
 "nbformat": 4,
 "nbformat_minor": 5
}
