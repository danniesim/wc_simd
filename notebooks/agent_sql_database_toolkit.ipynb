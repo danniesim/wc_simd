{
 "cells": [
  {
   "cell_type": "markdown",
   "id": "1808cadc",
   "metadata": {},
   "source": [
    "# Initialise Bedrock LLM"
   ]
  },
  {
   "cell_type": "code",
   "execution_count": 1,
   "id": "c4fa8560",
   "metadata": {},
   "outputs": [],
   "source": [
    "# from simd.llm import llm\n",
    "\n",
    "from langchain_aws import ChatBedrock\n",
    "import dotenv\n",
    "import os\n",
    "\n",
    "dotenv.load_dotenv()\n",
    "# Set LANGSMITH_PROJECT environment variable\n",
    "os.environ['LANGSMITH_PROJECT'] = \"agent_sql_database\"\n",
    "\n",
    "\n",
    "# Claude is a good alternative to GPT-4o: https://blog.promptlayer.com/big-differences-claude-3-5-vs-gpt-4o/\n",
    "llm = ChatBedrock(\n",
    "    model_id=\"us.anthropic.claude-3-7-sonnet-20250219-v1:0\",\n",
    "    # model_id=\"us.meta.llama3-3-70b-instruct-v1:0\",\n",
    "    # model_id=\"us.meta.llama3-2-3b-instruct-v1:0\",\n",
    "    # model_id=\"us.deepseek.r1-v1:0\",\n",
    "    model_kwargs=dict(temperature=0.2),\n",
    "    # other params...\n",
    ")"
   ]
  },
  {
   "cell_type": "markdown",
   "id": "62f921aa",
   "metadata": {},
   "source": []
  },
  {
   "cell_type": "markdown",
   "id": "6ae87614",
   "metadata": {},
   "source": [
    "# Create Database Engine"
   ]
  },
  {
   "cell_type": "code",
   "execution_count": 2,
   "id": "a70ee9fc",
   "metadata": {},
   "outputs": [],
   "source": [
    "import sqlite3\n",
    "\n",
    "import requests\n",
    "from langchain_community.utilities.sql_database import SQLDatabase\n",
    "from sqlalchemy import create_engine\n",
    "from sqlalchemy.pool import StaticPool\n",
    "\n",
    "\n",
    "def get_engine_for_chinook_db():\n",
    "    \"\"\"Pull sql file, populate in-memory database, and create engine.\"\"\"\n",
    "    url = \"https://raw.githubusercontent.com/lerocha/chinook-database/master/ChinookDatabase/DataSources/Chinook_Sqlite.sql\"\n",
    "    response = requests.get(url)\n",
    "    sql_script = response.text\n",
    "\n",
    "    connection = sqlite3.connect(\":memory:\", check_same_thread=False)\n",
    "    connection.executescript(sql_script)\n",
    "    return create_engine(\n",
    "        \"sqlite://\",\n",
    "        creator=lambda: connection,\n",
    "        poolclass=StaticPool,\n",
    "        connect_args={\"check_same_thread\": False},\n",
    "    )\n",
    "\n",
    "\n",
    "engine = get_engine_for_chinook_db()\n",
    "\n",
    "db = SQLDatabase(engine)"
   ]
  },
  {
   "cell_type": "code",
   "execution_count": 3,
   "id": "cfbb45d9",
   "metadata": {},
   "outputs": [],
   "source": [
    "from langchain_community.agent_toolkits.sql.toolkit import SQLDatabaseToolkit\n",
    "\n",
    "toolkit = SQLDatabaseToolkit(db=db, llm=llm)"
   ]
  },
  {
   "cell_type": "markdown",
   "id": "8de9ca8b",
   "metadata": {},
   "source": [
    "# Test Spark SQL Toolkit"
   ]
  },
  {
   "cell_type": "code",
   "execution_count": 4,
   "id": "12198de6",
   "metadata": {},
   "outputs": [
    {
     "data": {
      "text/plain": [
       "[QuerySQLDatabaseTool(description=\"Input to this tool is a detailed and correct SQL query, output is a result from the database. If the query is not correct, an error message will be returned. If an error is returned, rewrite the query, check the query, and try again. If you encounter an issue with Unknown column 'xxxx' in 'field list', use sql_db_schema to query the correct table fields.\", db=<langchain_community.utilities.sql_database.SQLDatabase object at 0x10ebb6ba0>),\n",
       " InfoSQLDatabaseTool(description='Input to this tool is a comma-separated list of tables, output is the schema and sample rows for those tables. Be sure that the tables actually exist by calling sql_db_list_tables first! Example Input: table1, table2, table3', db=<langchain_community.utilities.sql_database.SQLDatabase object at 0x10ebb6ba0>),\n",
       " ListSQLDatabaseTool(db=<langchain_community.utilities.sql_database.SQLDatabase object at 0x10ebb6ba0>),\n",
       " QuerySQLCheckerTool(description='Use this tool to double check if your query is correct before executing it. Always use this tool before executing a query with sql_db_query!', db=<langchain_community.utilities.sql_database.SQLDatabase object at 0x10ebb6ba0>, llm=ChatBedrock(client=<botocore.client.BedrockRuntime object at 0x10db73620>, model_id='us.anthropic.claude-3-7-sonnet-20250219-v1:0', model_kwargs={}, temperature=0.2), llm_chain=LLMChain(verbose=False, prompt=PromptTemplate(input_variables=['dialect', 'query'], input_types={}, partial_variables={}, template='\\n{query}\\nDouble check the {dialect} query above for common mistakes, including:\\n- Using NOT IN with NULL values\\n- Using UNION when UNION ALL should have been used\\n- Using BETWEEN for exclusive ranges\\n- Data type mismatch in predicates\\n- Properly quoting identifiers\\n- Using the correct number of arguments for functions\\n- Casting to the correct data type\\n- Using the proper columns for joins\\n\\nIf there are any of the above mistakes, rewrite the query. If there are no mistakes, just reproduce the original query.\\n\\nOutput the final SQL query only.\\n\\nSQL Query: '), llm=ChatBedrock(client=<botocore.client.BedrockRuntime object at 0x10db73620>, model_id='us.anthropic.claude-3-7-sonnet-20250219-v1:0', model_kwargs={}, temperature=0.2), output_parser=StrOutputParser(), llm_kwargs={}))]"
      ]
     },
     "execution_count": 4,
     "metadata": {},
     "output_type": "execute_result"
    }
   ],
   "source": [
    "toolkit.get_tools()"
   ]
  },
  {
   "cell_type": "markdown",
   "id": "8a8aec3d",
   "metadata": {},
   "source": [
    "# Create SQL Database ReAct Agent"
   ]
  },
  {
   "cell_type": "code",
   "execution_count": 5,
   "id": "588cbba6",
   "metadata": {},
   "outputs": [
    {
     "name": "stdout",
     "output_type": "stream",
     "text": [
      "['dialect', 'top_k']\n"
     ]
    }
   ],
   "source": [
    "from langchain import hub\n",
    "\n",
    "prompt_template = hub.pull(\"langchain-ai/sql-agent-system-prompt\")\n",
    "\n",
    "assert len(prompt_template.messages) == 1\n",
    "print(prompt_template.input_variables)"
   ]
  },
  {
   "cell_type": "code",
   "execution_count": 7,
   "id": "994bb74d",
   "metadata": {},
   "outputs": [],
   "source": [
    "from langgraph.prebuilt import create_react_agent\n",
    "system_message = prompt_template.format(dialect=\"SQLite\", top_k=5)\n",
    "\n",
    "agent_executor = create_react_agent(llm, toolkit.get_tools(), prompt=system_message)"
   ]
  },
  {
   "cell_type": "code",
   "execution_count": 9,
   "id": "dd081a3f",
   "metadata": {},
   "outputs": [
    {
     "name": "stdout",
     "output_type": "stream",
     "text": [
      "================================\u001b[1m Human Message \u001b[0m=================================\n",
      "\n",
      "Which Table has the most records??\n",
      "==================================\u001b[1m Ai Message \u001b[0m==================================\n",
      "\n",
      "I'll help you find out which table has the most records in the database. Let's start by listing all the tables in the database.\n",
      "Tool Calls:\n",
      "  sql_db_list_tables (toolu_bdrk_01FzdgqTEMGAs9F5WuzjNFrY)\n",
      " Call ID: toolu_bdrk_01FzdgqTEMGAs9F5WuzjNFrY\n",
      "  Args:\n",
      "    tool_input:\n",
      "=================================\u001b[1m Tool Message \u001b[0m=================================\n",
      "Name: sql_db_list_tables\n",
      "\n",
      "Album, Artist, Customer, Employee, Genre, Invoice, InvoiceLine, MediaType, Playlist, PlaylistTrack, Track\n",
      "==================================\u001b[1m Ai Message \u001b[0m==================================\n",
      "\n",
      "Now that I have the list of tables, I need to count the number of records in each table to determine which one has the most. Let me create a query to do this.\n",
      "Tool Calls:\n",
      "  sql_db_query_checker (toolu_bdrk_01GsUCUua4WRiEAMgbZJuGdh)\n",
      " Call ID: toolu_bdrk_01GsUCUua4WRiEAMgbZJuGdh\n",
      "  Args:\n",
      "    query: WITH TableCounts AS (\n",
      "    SELECT 'Album' AS TableName, COUNT(*) AS RecordCount FROM Album\n",
      "    UNION ALL\n",
      "    SELECT 'Artist' AS TableName, COUNT(*) AS RecordCount FROM Artist\n",
      "    UNION ALL\n",
      "    SELECT 'Customer' AS TableName, COUNT(*) AS RecordCount FROM Customer\n",
      "    UNION ALL\n",
      "    SELECT 'Employee' AS TableName, COUNT(*) AS RecordCount FROM Employee\n",
      "    UNION ALL\n",
      "    SELECT 'Genre' AS TableName, COUNT(*) AS RecordCount FROM Genre\n",
      "    UNION ALL\n",
      "    SELECT 'Invoice' AS TableName, COUNT(*) AS RecordCount FROM Invoice\n",
      "    UNION ALL\n",
      "    SELECT 'InvoiceLine' AS TableName, COUNT(*) AS RecordCount FROM InvoiceLine\n",
      "    UNION ALL\n",
      "    SELECT 'MediaType' AS TableName, COUNT(*) AS RecordCount FROM MediaType\n",
      "    UNION ALL\n",
      "    SELECT 'Playlist' AS TableName, COUNT(*) AS RecordCount FROM Playlist\n",
      "    UNION ALL\n",
      "    SELECT 'PlaylistTrack' AS TableName, COUNT(*) AS RecordCount FROM PlaylistTrack\n",
      "    UNION ALL\n",
      "    SELECT 'Track' AS TableName, COUNT(*) AS RecordCount FROM Track\n",
      ")\n",
      "SELECT TableName, RecordCount\n",
      "FROM TableCounts\n",
      "ORDER BY RecordCount DESC\n",
      "LIMIT 5;\n",
      "=================================\u001b[1m Tool Message \u001b[0m=================================\n",
      "Name: sql_db_query_checker\n",
      "\n",
      "```sql\n",
      "WITH TableCounts AS (\n",
      "    SELECT 'Album' AS TableName, COUNT(*) AS RecordCount FROM Album\n",
      "    UNION ALL\n",
      "    SELECT 'Artist' AS TableName, COUNT(*) AS RecordCount FROM Artist\n",
      "    UNION ALL\n",
      "    SELECT 'Customer' AS TableName, COUNT(*) AS RecordCount FROM Customer\n",
      "    UNION ALL\n",
      "    SELECT 'Employee' AS TableName, COUNT(*) AS RecordCount FROM Employee\n",
      "    UNION ALL\n",
      "    SELECT 'Genre' AS TableName, COUNT(*) AS RecordCount FROM Genre\n",
      "    UNION ALL\n",
      "    SELECT 'Invoice' AS TableName, COUNT(*) AS RecordCount FROM Invoice\n",
      "    UNION ALL\n",
      "    SELECT 'InvoiceLine' AS TableName, COUNT(*) AS RecordCount FROM InvoiceLine\n",
      "    UNION ALL\n",
      "    SELECT 'MediaType' AS TableName, COUNT(*) AS RecordCount FROM MediaType\n",
      "    UNION ALL\n",
      "    SELECT 'Playlist' AS TableName, COUNT(*) AS RecordCount FROM Playlist\n",
      "    UNION ALL\n",
      "    SELECT 'PlaylistTrack' AS TableName, COUNT(*) AS RecordCount FROM PlaylistTrack\n",
      "    UNION ALL\n",
      "    SELECT 'Track' AS TableName, COUNT(*) AS RecordCount FROM Track\n",
      ")\n",
      "SELECT TableName, RecordCount\n",
      "FROM TableCounts\n",
      "ORDER BY RecordCount DESC\n",
      "LIMIT 5;\n",
      "```\n",
      "==================================\u001b[1m Ai Message \u001b[0m==================================\n",
      "\n",
      "Now let's execute this query to find out which table has the most records:\n",
      "Tool Calls:\n",
      "  sql_db_query (toolu_bdrk_016YudRWoKnceeQBehFRBj6e)\n",
      " Call ID: toolu_bdrk_016YudRWoKnceeQBehFRBj6e\n",
      "  Args:\n",
      "    query: WITH TableCounts AS (\n",
      "    SELECT 'Album' AS TableName, COUNT(*) AS RecordCount FROM Album\n",
      "    UNION ALL\n",
      "    SELECT 'Artist' AS TableName, COUNT(*) AS RecordCount FROM Artist\n",
      "    UNION ALL\n",
      "    SELECT 'Customer' AS TableName, COUNT(*) AS RecordCount FROM Customer\n",
      "    UNION ALL\n",
      "    SELECT 'Employee' AS TableName, COUNT(*) AS RecordCount FROM Employee\n",
      "    UNION ALL\n",
      "    SELECT 'Genre' AS TableName, COUNT(*) AS RecordCount FROM Genre\n",
      "    UNION ALL\n",
      "    SELECT 'Invoice' AS TableName, COUNT(*) AS RecordCount FROM Invoice\n",
      "    UNION ALL\n",
      "    SELECT 'InvoiceLine' AS TableName, COUNT(*) AS RecordCount FROM InvoiceLine\n",
      "    UNION ALL\n",
      "    SELECT 'MediaType' AS TableName, COUNT(*) AS RecordCount FROM MediaType\n",
      "    UNION ALL\n",
      "    SELECT 'Playlist' AS TableName, COUNT(*) AS RecordCount FROM Playlist\n",
      "    UNION ALL\n",
      "    SELECT 'PlaylistTrack' AS TableName, COUNT(*) AS RecordCount FROM PlaylistTrack\n",
      "    UNION ALL\n",
      "    SELECT 'Track' AS TableName, COUNT(*) AS RecordCount FROM Track\n",
      ")\n",
      "SELECT TableName, RecordCount\n",
      "FROM TableCounts\n",
      "ORDER BY RecordCount DESC\n",
      "LIMIT 5;\n",
      "=================================\u001b[1m Tool Message \u001b[0m=================================\n",
      "Name: sql_db_query\n",
      "\n",
      "[('PlaylistTrack', 8715), ('Track', 3503), ('InvoiceLine', 2240), ('Invoice', 412), ('Album', 347)]\n",
      "==================================\u001b[1m Ai Message \u001b[0m==================================\n",
      "\n",
      "Based on the query results, the table with the most records is:\n",
      "\n",
      "**PlaylistTrack** with 8,715 records.\n",
      "\n",
      "The top 5 tables by record count are:\n",
      "1. PlaylistTrack: 8,715 records\n",
      "2. Track: 3,503 records\n",
      "3. InvoiceLine: 2,240 records\n",
      "4. Invoice: 412 records\n",
      "5. Album: 347 records\n"
     ]
    }
   ],
   "source": [
    "example_query = \"Which Table has the most records??\"\n",
    "\n",
    "events = agent_executor.stream(\n",
    "    {\"messages\": [(\"user\", example_query)]},\n",
    "    stream_mode=\"values\",\n",
    ")\n",
    "for event in events:\n",
    "    event[\"messages\"][-1].pretty_print()"
   ]
  }
 ],
 "metadata": {
  "kernelspec": {
   "display_name": ".venv",
   "language": "python",
   "name": "python3"
  },
  "language_info": {
   "codemirror_mode": {
    "name": "ipython",
    "version": 3
   },
   "file_extension": ".py",
   "mimetype": "text/x-python",
   "name": "python",
   "nbconvert_exporter": "python",
   "pygments_lexer": "ipython3",
   "version": "3.13.2"
  }
 },
 "nbformat": 4,
 "nbformat_minor": 5
}
